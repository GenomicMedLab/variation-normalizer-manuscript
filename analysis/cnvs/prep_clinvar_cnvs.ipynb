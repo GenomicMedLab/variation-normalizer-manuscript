{
 "cells": [
  {
   "cell_type": "code",
   "execution_count": 1,
   "metadata": {},
   "outputs": [],
   "source": [
    "import pandas as pd\n",
<<<<<<< HEAD
    "import numpy as np\n",
    "from tqdm.notebook import tqdm\n",
    "import os\n",
    "import ndjson\n",
    "import re"
=======
    "from tqdm.notebook import tqdm\n",
    "import os\n",
    "import ndjson\n",
    "import re\n",
    "import gzip"
>>>>>>> main
   ]
  },
  {
   "cell_type": "code",
   "execution_count": 2,
   "metadata": {},
   "outputs": [],
   "source": [
    "pd.set_option('max_columns',200)"
   ]
  },
  {
   "cell_type": "code",
   "execution_count": 3,
   "metadata": {},
   "outputs": [],
   "source": [
<<<<<<< HEAD
    "#### change file path to location of clinvar normalizer output ndjson\n",
    "with open('output-variation_identity-all-liftover.ndjson','r') as f:\n",
=======
    "### Load normalizer output for ClinVar variants located in the \"clinvar\" directory of this repo\n",
    "### if file has not been downloaded, go to download_data_for_cnv_analysis_data.ipynb notebook\n",
    "\n",
    "with gzip.open('../clinvar/output-variation_identity-vrs-1.3.ndjson.gz','rb') as f:\n",
>>>>>>> main
    "    records = ndjson.load(f)"
   ]
  },
  {
   "cell_type": "code",
   "execution_count": 4,
   "metadata": {},
   "outputs": [
    {
     "data": {
      "text/plain": [
       "2210627"
      ]
     },
     "execution_count": 4,
     "metadata": {},
     "output_type": "execute_result"
    }
   ],
   "source": [
    "len(records)"
   ]
  },
  {
   "cell_type": "code",
   "execution_count": 5,
   "metadata": {},
   "outputs": [
    {
     "data": {
      "application/vnd.jupyter.widget-view+json": {
<<<<<<< HEAD
       "model_id": "fad3251160404bc1951980ba6a74aa3b",
=======
       "model_id": "64f476b0e6da473181ff1ed690e14f02",
>>>>>>> main
       "version_major": 2,
       "version_minor": 0
      },
      "text/plain": [
       "  0%|          | 0/23 [00:00<?, ?it/s]"
      ]
     },
     "metadata": {},
     "output_type": "display_data"
    }
   ],
   "source": [
<<<<<<< HEAD
=======
    "## read ClinVar normalizer responses into a pandas dataframe for analysis\n",
    "\n",
>>>>>>> main
    "batch_size = 100000\n",
    "n_batches = len(records)//batch_size + 1\n",
    "\n",
    "df0 = pd.concat([pd.json_normalize(records[k*batch_size:(k+1)*batch_size]) for k in tqdm(range(n_batches))])"
   ]
  },
  {
   "cell_type": "code",
   "execution_count": 6,
   "metadata": {},
   "outputs": [],
   "source": [
<<<<<<< HEAD
=======
    "### re-run to re-initialize the ClinVar dataframe without re-running the above cell to read in the full dataframe\n",
>>>>>>> main
    "df = df0.copy()"
   ]
  },
  {
   "cell_type": "markdown",
   "metadata": {},
   "source": [
    "#  Identify CNVs in ClinVar"
   ]
  },
  {
   "cell_type": "code",
   "execution_count": 7,
   "metadata": {},
   "outputs": [
    {
     "data": {
      "text/plain": [
       "Canonical SPDI                                      2118669\n",
       "Absolute copy count                                   53263\n",
       "Copy number change (cn loss|del and cn gain|dup)      27104\n",
       "NCBI36 genomic only                                    4771\n",
       "No hgvs or location info                               3089\n",
       "Genotype/Haplotype                                     1440\n",
       "Invalid/unsupported hgvs                               1336\n",
       "Remaining valid hgvs alleles                            941\n",
       "Min/max copy count range not supported                   14\n",
       "Name: in.vrs_xform_plan.policy, dtype: int64"
      ]
     },
     "execution_count": 7,
     "metadata": {},
     "output_type": "execute_result"
    }
   ],
   "source": [
    "### different predicted behavior of variants based on variant type/what information provided by ClinVar\n",
    "df['in.vrs_xform_plan.policy'].value_counts()"
   ]
  },
  {
   "cell_type": "markdown",
   "metadata": {},
   "source": [
    "### Restrict to copy number variants. \n",
<<<<<<< HEAD
    "ClinVar variant types were further specified and identified in the ```in.vrs_xform_plan.policy``` field before running the normalizeer on ClinVar. \n",
=======
    "ClinVar variant types were further specified and identified in the ```in.vrs_xform_plan.policy``` field before running the normalizer on ClinVar. \n",
>>>>>>> main
    "For our analysis, CNVs are variants with ```in.vrs_xform_plan.policy``` equal to one of  \n",
    "* ```Absolute copy count```\n",
    "* ```Copy number change (cn loss|del and cn gain|dup)```\n",
    "* ```Min/max copy count range not supported```"
   ]
  },
  {
   "cell_type": "code",
   "execution_count": 8,
   "metadata": {},
   "outputs": [],
   "source": [
    "df = df[df['in.vrs_xform_plan.policy'].str.lower().str.contains('copy')].copy()"
   ]
  },
  {
   "cell_type": "code",
   "execution_count": 9,
   "metadata": {},
   "outputs": [
    {
     "data": {
      "text/plain": [
       "copy number loss    28887\n",
       "copy number gain    26961\n",
       "Deletion            16341\n",
       "Duplication          8192\n",
       "Name: in.variation_type, dtype: int64"
      ]
     },
     "execution_count": 9,
     "metadata": {},
     "output_type": "execute_result"
    }
   ],
   "source": [
    "df['in.variation_type'].value_counts()"
   ]
  },
  {
   "cell_type": "code",
   "execution_count": 10,
   "metadata": {},
   "outputs": [
    {
     "data": {
      "text/plain": [
       "80381"
      ]
     },
     "execution_count": 10,
     "metadata": {},
     "output_type": "execute_result"
    }
   ],
   "source": [
    "len(df)"
   ]
  },
  {
   "cell_type": "markdown",
   "metadata": {},
   "source": [
    "### Remove variants which failed to normalize"
   ]
  },
  {
   "cell_type": "code",
   "execution_count": 11,
   "metadata": {},
   "outputs": [],
   "source": [
    "### errors stored as a list of values, some of which are strings and other of which are dictionaries (determined by whether error was handled at the level of Variation Normalizer or after the normalizer)\n",
    "### this function extracts the text error responses for better readability and ease string processing\n",
    "\n",
<<<<<<< HEAD
    "def get_errors(errors):\n",
=======
    "def get_errors(errors: list) -> str:\n",
>>>>>>> main
    "    errors_out = []\n",
    "    for e in errors:\n",
    "        if type(e)== str:\n",
    "            errors_out.append(e)\n",
    "        elif type(e)==dict:\n",
    "            for k,v in e.items():\n",
    "                if k not in ['msg','response-errors']: ## only get these keys from normalizer response\n",
    "                    continue\n",
    "                if type(v) == str:\n",
    "                    errors_out.append(v)\n",
    "                elif type(v) == list:\n",
    "                    errors_out.append(';'.join(v))\n",
<<<<<<< HEAD
    "                #errors_out.append('[NORMALIZER] '+';'.join(e.get('response-errors',[])))\n",
=======
>>>>>>> main
    "    return ';'.join(errors_out)\n",
    "\n",
    "\n",
    "### to get the core error message, we'll simply strip all the numeric values out and replace them with \"#\"\n",
<<<<<<< HEAD
    "def reduce_errors(error_string):\n",
=======
    "def reduce_errors(error_string: str) -> str:\n",
>>>>>>> main
    "    out = error_string.lower()\n",
    "    out = re.sub('\\d+','#',out)\n",
    "    return out\n",
    "\n",
<<<<<<< HEAD
    "def reduce_errors_again(error_string):\n",
=======
    "### an even further reduction to bin error strings into categories\n",
    "def reduce_errors_again(error_string: str)-> str: \n",
>>>>>>> main
    "    outs = []\n",
    "    for t in ['unable to tokenize','unable to find classification','unable to find a grch# accession for','not a supported hgvs genomic duplication or deletion']:\n",
    "        if t in error_string:\n",
    "            outs.append(t)\n",
<<<<<<< HEAD
=======
    "    if outs == []:\n",
    "        return 'Success'\n",
>>>>>>> main
    "    return ';'.join(sorted(outs))"
   ]
  },
  {
   "cell_type": "code",
   "execution_count": 12,
   "metadata": {},
   "outputs": [],
   "source": [
    "### apply the error extraction function to our dataframe's column containing the errors\n",
    "df['error_string'] = df['out.errors'].fillna('').apply(get_errors)\n",
    "df['error_string_reduce'] = df['error_string'].apply(reduce_errors)\n",
    "df['error_string_reduce_2'] = df['error_string_reduce'].apply(reduce_errors_again)"
   ]
  },
  {
   "cell_type": "code",
   "execution_count": 13,
   "metadata": {},
   "outputs": [
    {
     "data": {
      "text/plain": [
<<<<<<< HEAD
       "                                                        79361\n",
=======
       "Success                                                 79361\n",
>>>>>>> main
       "unable to find a grch# accession for                      539\n",
       "unable to find classification                             384\n",
       "unable to find classification;unable to tokenize           95\n",
       "not a supported hgvs genomic duplication or deletion        2\n",
       "Name: error_string_reduce_2, dtype: int64"
      ]
     },
     "execution_count": 13,
     "metadata": {},
     "output_type": "execute_result"
    }
   ],
   "source": [
    "df['error_string_reduce_2'].value_counts()"
   ]
  },
  {
   "cell_type": "markdown",
   "metadata": {},
   "source": [
    "### Remove variants which failed to normalize \n",
    "Due to\n",
    "* liftover error\n",
    "* classification error\n",
    "* tokenization error\n",
    "* not supported by normalizer"
   ]
  },
  {
   "cell_type": "code",
   "execution_count": 14,
   "metadata": {},
   "outputs": [],
   "source": [
    "df = df[df['error_string_reduce']==''].copy()"
   ]
  },
  {
   "cell_type": "code",
   "execution_count": 15,
   "metadata": {},
   "outputs": [
    {
     "data": {
      "text/plain": [
       "79353"
      ]
     },
     "execution_count": 15,
     "metadata": {},
     "output_type": "execute_result"
    }
   ],
   "source": [
    "len(df)"
   ]
  },
  {
   "cell_type": "markdown",
   "metadata": {},
   "source": [
    "# Calculate start/stop positions to compare to NCH variants\n",
    "### What start/stop position fields are available\n",
    "* ```out.subject.start.value``` is the normalized start value when the start is specified (similarly for ```end```)\n",
    "* If the start is a range, we look to ```out.subject.start.min``` and ```out.subject.start.max``` (similarly for ```end```)\n",
    "\n",
<<<<<<< HEAD
    "### Our policy for choosing start/stop positions: \n",
    "* choose the specified normalized start value when available; otherwise the max (inner); otherwise the min (outer)\n",
    "* similarly, choose the normalized end value when available; otherwise the min (inner); otherwise the max (outer)"
   ]
  },
  {
   "cell_type": "markdown",
   "metadata": {},
   "source": [
    "### Prioritize the absolute start and stop position (if known), otherwise inner, then outer."
=======
    "### Our policy for choosing start/stop positions: Prioritize the absolute start and stop position (if known), otherwise inner, then outer \n",
    "* choose the specified normalized start value when available; otherwise the inner start (i.e. the max start); otherwise the outer start (i.e. the min start)\n",
    "* similarly, choose the normalized end value when available; otherwise the inner stop (i.e. the max stop); otherwise the outer stop (i.e. the max stop)"
>>>>>>> main
   ]
  },
  {
   "cell_type": "code",
<<<<<<< HEAD
   "execution_count": 16,
   "metadata": {},
   "outputs": [],
   "source": [
    "df['start_38'] = df['out.subject.start.value'].fillna(df['out.subject.start.max']).fillna(df['out.subject.start.min']).astype(float)\n",
    "df['stop_38'] = df['out.subject.end.value'].fillna(df['out.subject.end.min']).fillna(df['out.subject.end.max']).astype(float)"
=======
   "execution_count": 22,
   "metadata": {},
   "outputs": [
    {
     "data": {
      "text/html": [
       "<div>\n",
       "<style scoped>\n",
       "    .dataframe tbody tr th:only-of-type {\n",
       "        vertical-align: middle;\n",
       "    }\n",
       "\n",
       "    .dataframe tbody tr th {\n",
       "        vertical-align: top;\n",
       "    }\n",
       "\n",
       "    .dataframe thead th {\n",
       "        text-align: right;\n",
       "    }\n",
       "</style>\n",
       "<table border=\"1\" class=\"dataframe\">\n",
       "  <thead>\n",
       "    <tr style=\"text-align: right;\">\n",
       "      <th></th>\n",
       "      <th>out.location.interval.end.type</th>\n",
       "      <th>out.location.interval.end.value</th>\n",
       "      <th>out.subject.interval.end.type</th>\n",
       "      <th>out.subject.interval.end.value</th>\n",
       "      <th>out.subject.interval.end.min</th>\n",
       "      <th>out.subject.interval.end.max</th>\n",
       "      <th>out.subject.interval.end.comparator</th>\n",
       "    </tr>\n",
       "  </thead>\n",
       "  <tbody>\n",
       "    <tr>\n",
       "      <th>165</th>\n",
       "      <td>NaN</td>\n",
       "      <td>NaN</td>\n",
       "      <td>Number</td>\n",
       "      <td>110589642.0</td>\n",
       "      <td>NaN</td>\n",
       "      <td>NaN</td>\n",
       "      <td>NaN</td>\n",
       "    </tr>\n",
       "    <tr>\n",
       "      <th>169</th>\n",
       "      <td>NaN</td>\n",
       "      <td>NaN</td>\n",
       "      <td>DefiniteRange</td>\n",
       "      <td>NaN</td>\n",
       "      <td>53983698.0</td>\n",
       "      <td>53984392.0</td>\n",
       "      <td>NaN</td>\n",
       "    </tr>\n",
       "    <tr>\n",
       "      <th>171</th>\n",
       "      <td>NaN</td>\n",
       "      <td>NaN</td>\n",
       "      <td>IndefiniteRange</td>\n",
       "      <td>8708382.0</td>\n",
       "      <td>NaN</td>\n",
       "      <td>NaN</td>\n",
       "      <td>&gt;=</td>\n",
       "    </tr>\n",
       "    <tr>\n",
       "      <th>174</th>\n",
       "      <td>NaN</td>\n",
       "      <td>NaN</td>\n",
       "      <td>IndefiniteRange</td>\n",
       "      <td>128186178.0</td>\n",
       "      <td>NaN</td>\n",
       "      <td>NaN</td>\n",
       "      <td>&gt;=</td>\n",
       "    </tr>\n",
       "    <tr>\n",
       "      <th>175</th>\n",
       "      <td>NaN</td>\n",
       "      <td>NaN</td>\n",
       "      <td>IndefiniteRange</td>\n",
       "      <td>18083241.0</td>\n",
       "      <td>NaN</td>\n",
       "      <td>NaN</td>\n",
       "      <td>&gt;=</td>\n",
       "    </tr>\n",
       "    <tr>\n",
       "      <th>...</th>\n",
       "      <td>...</td>\n",
       "      <td>...</td>\n",
       "      <td>...</td>\n",
       "      <td>...</td>\n",
       "      <td>...</td>\n",
       "      <td>...</td>\n",
       "      <td>...</td>\n",
       "    </tr>\n",
       "    <tr>\n",
       "      <th>99236</th>\n",
       "      <td>NaN</td>\n",
       "      <td>NaN</td>\n",
       "      <td>Number</td>\n",
       "      <td>54118444.0</td>\n",
       "      <td>NaN</td>\n",
       "      <td>NaN</td>\n",
       "      <td>NaN</td>\n",
       "    </tr>\n",
       "    <tr>\n",
       "      <th>99290</th>\n",
       "      <td>NaN</td>\n",
       "      <td>NaN</td>\n",
       "      <td>Number</td>\n",
       "      <td>108272894.0</td>\n",
       "      <td>NaN</td>\n",
       "      <td>NaN</td>\n",
       "      <td>NaN</td>\n",
       "    </tr>\n",
       "    <tr>\n",
       "      <th>10488</th>\n",
       "      <td>NaN</td>\n",
       "      <td>NaN</td>\n",
       "      <td>Number</td>\n",
       "      <td>32316529.0</td>\n",
       "      <td>NaN</td>\n",
       "      <td>NaN</td>\n",
       "      <td>NaN</td>\n",
       "    </tr>\n",
       "    <tr>\n",
       "      <th>10490</th>\n",
       "      <td>NaN</td>\n",
       "      <td>NaN</td>\n",
       "      <td>Number</td>\n",
       "      <td>32349243.0</td>\n",
       "      <td>NaN</td>\n",
       "      <td>NaN</td>\n",
       "      <td>NaN</td>\n",
       "    </tr>\n",
       "    <tr>\n",
       "      <th>10549</th>\n",
       "      <td>NaN</td>\n",
       "      <td>NaN</td>\n",
       "      <td>Number</td>\n",
       "      <td>138934133.0</td>\n",
       "      <td>NaN</td>\n",
       "      <td>NaN</td>\n",
       "      <td>NaN</td>\n",
       "    </tr>\n",
       "  </tbody>\n",
       "</table>\n",
       "<p>79353 rows × 7 columns</p>\n",
       "</div>"
      ],
      "text/plain": [
       "      out.location.interval.end.type  out.location.interval.end.value  \\\n",
       "165                              NaN                              NaN   \n",
       "169                              NaN                              NaN   \n",
       "171                              NaN                              NaN   \n",
       "174                              NaN                              NaN   \n",
       "175                              NaN                              NaN   \n",
       "...                              ...                              ...   \n",
       "99236                            NaN                              NaN   \n",
       "99290                            NaN                              NaN   \n",
       "10488                            NaN                              NaN   \n",
       "10490                            NaN                              NaN   \n",
       "10549                            NaN                              NaN   \n",
       "\n",
       "      out.subject.interval.end.type  out.subject.interval.end.value  \\\n",
       "165                          Number                     110589642.0   \n",
       "169                   DefiniteRange                             NaN   \n",
       "171                 IndefiniteRange                       8708382.0   \n",
       "174                 IndefiniteRange                     128186178.0   \n",
       "175                 IndefiniteRange                      18083241.0   \n",
       "...                             ...                             ...   \n",
       "99236                        Number                      54118444.0   \n",
       "99290                        Number                     108272894.0   \n",
       "10488                        Number                      32316529.0   \n",
       "10490                        Number                      32349243.0   \n",
       "10549                        Number                     138934133.0   \n",
       "\n",
       "       out.subject.interval.end.min  out.subject.interval.end.max  \\\n",
       "165                             NaN                           NaN   \n",
       "169                      53983698.0                    53984392.0   \n",
       "171                             NaN                           NaN   \n",
       "174                             NaN                           NaN   \n",
       "175                             NaN                           NaN   \n",
       "...                             ...                           ...   \n",
       "99236                           NaN                           NaN   \n",
       "99290                           NaN                           NaN   \n",
       "10488                           NaN                           NaN   \n",
       "10490                           NaN                           NaN   \n",
       "10549                           NaN                           NaN   \n",
       "\n",
       "      out.subject.interval.end.comparator  \n",
       "165                                   NaN  \n",
       "169                                   NaN  \n",
       "171                                    >=  \n",
       "174                                    >=  \n",
       "175                                    >=  \n",
       "...                                   ...  \n",
       "99236                                 NaN  \n",
       "99290                                 NaN  \n",
       "10488                                 NaN  \n",
       "10490                                 NaN  \n",
       "10549                                 NaN  \n",
       "\n",
       "[79353 rows x 7 columns]"
      ]
     },
     "execution_count": 22,
     "metadata": {},
     "output_type": "execute_result"
    }
   ],
   "source": [
    "df[[c for c in df.columns if ('out' in c) and ('end' in c)]]"
   ]
  },
  {
   "cell_type": "code",
   "execution_count": 23,
   "metadata": {},
   "outputs": [],
   "source": [
    "df['start_38'] = df['out.subject.interval.start.value'].fillna(df['out.subject.interval.start.max']).fillna(df['out.subject.interval.start.min']).astype(float)\n",
    "df['stop_38'] = df['out.subject.interval.end.value'].fillna(df['out.subject.interval.end.min']).fillna(df['out.subject.interval.end.max']).astype(float)"
>>>>>>> main
   ]
  },
  {
   "cell_type": "code",
<<<<<<< HEAD
   "execution_count": 17,
=======
   "execution_count": 25,
>>>>>>> main
   "metadata": {},
   "outputs": [
    {
     "data": {
      "text/html": [
       "<div>\n",
       "<style scoped>\n",
       "    .dataframe tbody tr th:only-of-type {\n",
       "        vertical-align: middle;\n",
       "    }\n",
       "\n",
       "    .dataframe tbody tr th {\n",
       "        vertical-align: top;\n",
       "    }\n",
       "\n",
       "    .dataframe thead th {\n",
       "        text-align: right;\n",
       "    }\n",
       "</style>\n",
       "<table border=\"1\" class=\"dataframe\">\n",
       "  <thead>\n",
       "    <tr style=\"text-align: right;\">\n",
       "      <th></th>\n",
       "      <th>in.seq.assembly</th>\n",
       "      <th>in.hgvs.assembly</th>\n",
       "      <th>in.seq.start</th>\n",
       "      <th>in.seq.inner_start</th>\n",
       "      <th>in.seq.outer_start</th>\n",
<<<<<<< HEAD
       "      <th>out.subject.start.value</th>\n",
       "      <th>out.subject.start.max</th>\n",
       "      <th>out.subject.start.min</th>\n",
=======
       "      <th>out.subject.interval.start.value</th>\n",
       "      <th>out.subject.interval.start.max</th>\n",
       "      <th>out.subject.interval.start.min</th>\n",
>>>>>>> main
       "      <th>in.min_copies</th>\n",
       "      <th>in.max_copies</th>\n",
       "    </tr>\n",
       "  </thead>\n",
       "  <tbody>\n",
       "    <tr>\n",
<<<<<<< HEAD
       "      <th>48488</th>\n",
=======
       "      <th>48481</th>\n",
>>>>>>> main
       "      <td>GRCh37</td>\n",
       "      <td>NaN</td>\n",
       "      <td>NaN</td>\n",
       "      <td>131243689</td>\n",
       "      <td>131225843</td>\n",
       "      <td>NaN</td>\n",
       "      <td>NaN</td>\n",
       "      <td>NaN</td>\n",
       "      <td>3</td>\n",
       "      <td>4</td>\n",
       "    </tr>\n",
       "    <tr>\n",
<<<<<<< HEAD
       "      <th>21314</th>\n",
=======
       "      <th>21307</th>\n",
>>>>>>> main
       "      <td>NaN</td>\n",
       "      <td>NaN</td>\n",
       "      <td>NaN</td>\n",
       "      <td>NaN</td>\n",
       "      <td>NaN</td>\n",
       "      <td>NaN</td>\n",
       "      <td>NaN</td>\n",
       "      <td>NaN</td>\n",
       "      <td>NaN</td>\n",
       "      <td>NaN</td>\n",
       "    </tr>\n",
       "    <tr>\n",
<<<<<<< HEAD
       "      <th>99171</th>\n",
=======
       "      <th>99164</th>\n",
>>>>>>> main
       "      <td>GRCh37</td>\n",
       "      <td>NaN</td>\n",
       "      <td>NaN</td>\n",
       "      <td>168483</td>\n",
       "      <td>NaN</td>\n",
       "      <td>NaN</td>\n",
       "      <td>NaN</td>\n",
       "      <td>NaN</td>\n",
       "      <td>1</td>\n",
       "      <td>2</td>\n",
       "    </tr>\n",
       "    <tr>\n",
<<<<<<< HEAD
       "      <th>68115</th>\n",
=======
       "      <th>68108</th>\n",
>>>>>>> main
       "      <td>NaN</td>\n",
       "      <td>NaN</td>\n",
       "      <td>NaN</td>\n",
       "      <td>NaN</td>\n",
       "      <td>NaN</td>\n",
       "      <td>NaN</td>\n",
       "      <td>NaN</td>\n",
       "      <td>NaN</td>\n",
       "      <td>NaN</td>\n",
       "      <td>NaN</td>\n",
       "    </tr>\n",
       "    <tr>\n",
<<<<<<< HEAD
       "      <th>68121</th>\n",
=======
       "      <th>68114</th>\n",
>>>>>>> main
       "      <td>GRCh37</td>\n",
       "      <td>NaN</td>\n",
       "      <td>NaN</td>\n",
       "      <td>22770421</td>\n",
       "      <td>NaN</td>\n",
       "      <td>NaN</td>\n",
       "      <td>NaN</td>\n",
       "      <td>NaN</td>\n",
       "      <td>3</td>\n",
       "      <td>4</td>\n",
       "    </tr>\n",
       "    <tr>\n",
<<<<<<< HEAD
       "      <th>89854</th>\n",
=======
       "      <th>89847</th>\n",
>>>>>>> main
       "      <td>GRCh37</td>\n",
       "      <td>NaN</td>\n",
       "      <td>NaN</td>\n",
       "      <td>173786</td>\n",
       "      <td>NaN</td>\n",
       "      <td>NaN</td>\n",
       "      <td>NaN</td>\n",
       "      <td>NaN</td>\n",
       "      <td>2</td>\n",
       "      <td>3</td>\n",
       "    </tr>\n",
       "    <tr>\n",
<<<<<<< HEAD
       "      <th>90103</th>\n",
=======
       "      <th>90097</th>\n",
>>>>>>> main
       "      <td>GRCh37</td>\n",
       "      <td>NaN</td>\n",
       "      <td>NaN</td>\n",
       "      <td>1</td>\n",
       "      <td>NaN</td>\n",
       "      <td>NaN</td>\n",
       "      <td>NaN</td>\n",
       "      <td>NaN</td>\n",
       "      <td>4</td>\n",
       "      <td>5</td>\n",
       "    </tr>\n",
       "    <tr>\n",
<<<<<<< HEAD
       "      <th>15670</th>\n",
=======
       "      <th>15663</th>\n",
>>>>>>> main
       "      <td>GRCh37</td>\n",
       "      <td>NaN</td>\n",
       "      <td>NaN</td>\n",
       "      <td>22770421</td>\n",
       "      <td>NaN</td>\n",
       "      <td>NaN</td>\n",
       "      <td>NaN</td>\n",
       "      <td>NaN</td>\n",
       "      <td>3</td>\n",
       "      <td>4</td>\n",
       "    </tr>\n",
       "    <tr>\n",
<<<<<<< HEAD
       "      <th>61005</th>\n",
=======
       "      <th>60998</th>\n",
>>>>>>> main
       "      <td>NaN</td>\n",
       "      <td>NaN</td>\n",
       "      <td>NaN</td>\n",
       "      <td>NaN</td>\n",
       "      <td>NaN</td>\n",
       "      <td>NaN</td>\n",
       "      <td>NaN</td>\n",
       "      <td>NaN</td>\n",
       "      <td>NaN</td>\n",
       "      <td>NaN</td>\n",
       "    </tr>\n",
       "    <tr>\n",
<<<<<<< HEAD
       "      <th>64340</th>\n",
=======
       "      <th>64333</th>\n",
>>>>>>> main
       "      <td>GRCh37</td>\n",
       "      <td>NCBI36</td>\n",
       "      <td>NaN</td>\n",
       "      <td>151048</td>\n",
       "      <td>NaN</td>\n",
       "      <td>NaN</td>\n",
       "      <td>NaN</td>\n",
       "      <td>NaN</td>\n",
       "      <td>NaN</td>\n",
       "      <td>NaN</td>\n",
       "    </tr>\n",
       "    <tr>\n",
<<<<<<< HEAD
       "      <th>32375</th>\n",
=======
       "      <th>32368</th>\n",
>>>>>>> main
       "      <td>NaN</td>\n",
       "      <td>NaN</td>\n",
       "      <td>NaN</td>\n",
       "      <td>NaN</td>\n",
       "      <td>NaN</td>\n",
       "      <td>NaN</td>\n",
       "      <td>NaN</td>\n",
       "      <td>NaN</td>\n",
       "      <td>NaN</td>\n",
       "      <td>NaN</td>\n",
       "    </tr>\n",
       "    <tr>\n",
<<<<<<< HEAD
       "      <th>26928</th>\n",
=======
       "      <th>26921</th>\n",
>>>>>>> main
       "      <td>GRCh37</td>\n",
       "      <td>NaN</td>\n",
       "      <td>NaN</td>\n",
       "      <td>153560741</td>\n",
       "      <td>NaN</td>\n",
       "      <td>NaN</td>\n",
       "      <td>NaN</td>\n",
       "      <td>NaN</td>\n",
       "      <td>2</td>\n",
       "      <td>3</td>\n",
       "    </tr>\n",
       "    <tr>\n",
<<<<<<< HEAD
       "      <th>27124</th>\n",
=======
       "      <th>27117</th>\n",
>>>>>>> main
       "      <td>GRCh37</td>\n",
       "      <td>NaN</td>\n",
       "      <td>NaN</td>\n",
       "      <td>203861</td>\n",
       "      <td>NaN</td>\n",
       "      <td>NaN</td>\n",
       "      <td>NaN</td>\n",
       "      <td>NaN</td>\n",
       "      <td>3</td>\n",
       "      <td>4</td>\n",
       "    </tr>\n",
       "    <tr>\n",
<<<<<<< HEAD
       "      <th>79400</th>\n",
=======
       "      <th>79393</th>\n",
>>>>>>> main
       "      <td>GRCh37</td>\n",
       "      <td>NCBI36</td>\n",
       "      <td>NaN</td>\n",
       "      <td>151048</td>\n",
       "      <td>NaN</td>\n",
       "      <td>NaN</td>\n",
       "      <td>NaN</td>\n",
       "      <td>NaN</td>\n",
       "      <td>NaN</td>\n",
       "      <td>NaN</td>\n",
       "    </tr>\n",
       "    <tr>\n",
<<<<<<< HEAD
       "      <th>98657</th>\n",
=======
       "      <th>98650</th>\n",
>>>>>>> main
       "      <td>GRCh37</td>\n",
       "      <td>NaN</td>\n",
       "      <td>NaN</td>\n",
       "      <td>16923595</td>\n",
       "      <td>NaN</td>\n",
       "      <td>NaN</td>\n",
       "      <td>NaN</td>\n",
       "      <td>NaN</td>\n",
       "      <td>2</td>\n",
       "      <td>3</td>\n",
       "    </tr>\n",
       "    <tr>\n",
<<<<<<< HEAD
       "      <th>72396</th>\n",
=======
       "      <th>72389</th>\n",
>>>>>>> main
       "      <td>GRCh37</td>\n",
       "      <td>NaN</td>\n",
       "      <td>NaN</td>\n",
       "      <td>22770421</td>\n",
       "      <td>NaN</td>\n",
       "      <td>NaN</td>\n",
       "      <td>NaN</td>\n",
       "      <td>NaN</td>\n",
       "      <td>2</td>\n",
       "      <td>3</td>\n",
       "    </tr>\n",
       "    <tr>\n",
<<<<<<< HEAD
       "      <th>73115</th>\n",
=======
       "      <th>73108</th>\n",
>>>>>>> main
       "      <td>GRCh37</td>\n",
       "      <td>NaN</td>\n",
       "      <td>NaN</td>\n",
       "      <td>79023343</td>\n",
       "      <td>NaN</td>\n",
       "      <td>NaN</td>\n",
       "      <td>NaN</td>\n",
       "      <td>NaN</td>\n",
       "      <td>1</td>\n",
       "      <td>2</td>\n",
       "    </tr>\n",
       "    <tr>\n",
<<<<<<< HEAD
       "      <th>45979</th>\n",
=======
       "      <th>45972</th>\n",
>>>>>>> main
       "      <td>GRCh38</td>\n",
       "      <td>NaN</td>\n",
       "      <td>NaN</td>\n",
       "      <td>106032435</td>\n",
       "      <td>NaN</td>\n",
       "      <td>NaN</td>\n",
       "      <td>NaN</td>\n",
       "      <td>NaN</td>\n",
       "      <td>2</td>\n",
       "      <td>3</td>\n",
       "    </tr>\n",
       "    <tr>\n",
<<<<<<< HEAD
       "      <th>46639</th>\n",
=======
       "      <th>46632</th>\n",
>>>>>>> main
       "      <td>GRCh38</td>\n",
       "      <td>NCBI36</td>\n",
       "      <td>NaN</td>\n",
       "      <td>79491821</td>\n",
       "      <td>NaN</td>\n",
       "      <td>NaN</td>\n",
       "      <td>NaN</td>\n",
       "      <td>NaN</td>\n",
       "      <td>NaN</td>\n",
       "      <td>NaN</td>\n",
       "    </tr>\n",
       "    <tr>\n",
<<<<<<< HEAD
       "      <th>15534</th>\n",
=======
       "      <th>15527</th>\n",
>>>>>>> main
       "      <td>GRCh37</td>\n",
       "      <td>NaN</td>\n",
       "      <td>NaN</td>\n",
       "      <td>168807</td>\n",
       "      <td>NaN</td>\n",
       "      <td>NaN</td>\n",
       "      <td>NaN</td>\n",
       "      <td>NaN</td>\n",
       "      <td>1</td>\n",
       "      <td>2</td>\n",
       "    </tr>\n",
       "    <tr>\n",
<<<<<<< HEAD
       "      <th>91361</th>\n",
=======
       "      <th>91354</th>\n",
>>>>>>> main
       "      <td>NaN</td>\n",
       "      <td>NaN</td>\n",
       "      <td>NaN</td>\n",
       "      <td>NaN</td>\n",
       "      <td>NaN</td>\n",
       "      <td>NaN</td>\n",
       "      <td>NaN</td>\n",
       "      <td>NaN</td>\n",
       "      <td>NaN</td>\n",
       "      <td>NaN</td>\n",
       "    </tr>\n",
       "    <tr>\n",
<<<<<<< HEAD
       "      <th>93299</th>\n",
=======
       "      <th>93292</th>\n",
>>>>>>> main
       "      <td>GRCh37</td>\n",
       "      <td>NaN</td>\n",
       "      <td>NaN</td>\n",
       "      <td>7841947</td>\n",
       "      <td>NaN</td>\n",
       "      <td>NaN</td>\n",
       "      <td>NaN</td>\n",
       "      <td>NaN</td>\n",
       "      <td>1</td>\n",
       "      <td>2</td>\n",
       "    </tr>\n",
       "    <tr>\n",
<<<<<<< HEAD
       "      <th>39263</th>\n",
=======
       "      <th>39256</th>\n",
>>>>>>> main
       "      <td>NaN</td>\n",
       "      <td>NaN</td>\n",
       "      <td>NaN</td>\n",
       "      <td>NaN</td>\n",
       "      <td>NaN</td>\n",
       "      <td>NaN</td>\n",
       "      <td>NaN</td>\n",
       "      <td>NaN</td>\n",
       "      <td>NaN</td>\n",
       "      <td>NaN</td>\n",
       "    </tr>\n",
       "  </tbody>\n",
       "</table>\n",
       "</div>"
      ],
      "text/plain": [
       "      in.seq.assembly in.hgvs.assembly in.seq.start in.seq.inner_start  \\\n",
<<<<<<< HEAD
       "48488          GRCh37              NaN          NaN          131243689   \n",
       "21314             NaN              NaN          NaN                NaN   \n",
       "99171          GRCh37              NaN          NaN             168483   \n",
       "68115             NaN              NaN          NaN                NaN   \n",
       "68121          GRCh37              NaN          NaN           22770421   \n",
       "89854          GRCh37              NaN          NaN             173786   \n",
       "90103          GRCh37              NaN          NaN                  1   \n",
       "15670          GRCh37              NaN          NaN           22770421   \n",
       "61005             NaN              NaN          NaN                NaN   \n",
       "64340          GRCh37           NCBI36          NaN             151048   \n",
       "32375             NaN              NaN          NaN                NaN   \n",
       "26928          GRCh37              NaN          NaN          153560741   \n",
       "27124          GRCh37              NaN          NaN             203861   \n",
       "79400          GRCh37           NCBI36          NaN             151048   \n",
       "98657          GRCh37              NaN          NaN           16923595   \n",
       "72396          GRCh37              NaN          NaN           22770421   \n",
       "73115          GRCh37              NaN          NaN           79023343   \n",
       "45979          GRCh38              NaN          NaN          106032435   \n",
       "46639          GRCh38           NCBI36          NaN           79491821   \n",
       "15534          GRCh37              NaN          NaN             168807   \n",
       "91361             NaN              NaN          NaN                NaN   \n",
       "93299          GRCh37              NaN          NaN            7841947   \n",
       "39263             NaN              NaN          NaN                NaN   \n",
       "\n",
       "      in.seq.outer_start  out.subject.start.value  out.subject.start.max  \\\n",
       "48488          131225843                      NaN                    NaN   \n",
       "21314                NaN                      NaN                    NaN   \n",
       "99171                NaN                      NaN                    NaN   \n",
       "68115                NaN                      NaN                    NaN   \n",
       "68121                NaN                      NaN                    NaN   \n",
       "89854                NaN                      NaN                    NaN   \n",
       "90103                NaN                      NaN                    NaN   \n",
       "15670                NaN                      NaN                    NaN   \n",
       "61005                NaN                      NaN                    NaN   \n",
       "64340                NaN                      NaN                    NaN   \n",
       "32375                NaN                      NaN                    NaN   \n",
       "26928                NaN                      NaN                    NaN   \n",
       "27124                NaN                      NaN                    NaN   \n",
       "79400                NaN                      NaN                    NaN   \n",
       "98657                NaN                      NaN                    NaN   \n",
       "72396                NaN                      NaN                    NaN   \n",
       "73115                NaN                      NaN                    NaN   \n",
       "45979                NaN                      NaN                    NaN   \n",
       "46639                NaN                      NaN                    NaN   \n",
       "15534                NaN                      NaN                    NaN   \n",
       "91361                NaN                      NaN                    NaN   \n",
       "93299                NaN                      NaN                    NaN   \n",
       "39263                NaN                      NaN                    NaN   \n",
       "\n",
       "       out.subject.start.min in.min_copies in.max_copies  \n",
       "48488                    NaN             3             4  \n",
       "21314                    NaN           NaN           NaN  \n",
       "99171                    NaN             1             2  \n",
       "68115                    NaN           NaN           NaN  \n",
       "68121                    NaN             3             4  \n",
       "89854                    NaN             2             3  \n",
       "90103                    NaN             4             5  \n",
       "15670                    NaN             3             4  \n",
       "61005                    NaN           NaN           NaN  \n",
       "64340                    NaN           NaN           NaN  \n",
       "32375                    NaN           NaN           NaN  \n",
       "26928                    NaN             2             3  \n",
       "27124                    NaN             3             4  \n",
       "79400                    NaN           NaN           NaN  \n",
       "98657                    NaN             2             3  \n",
       "72396                    NaN             2             3  \n",
       "73115                    NaN             1             2  \n",
       "45979                    NaN             2             3  \n",
       "46639                    NaN           NaN           NaN  \n",
       "15534                    NaN             1             2  \n",
       "91361                    NaN           NaN           NaN  \n",
       "93299                    NaN             1             2  \n",
       "39263                    NaN           NaN           NaN  "
      ]
     },
     "execution_count": 17,
=======
       "48481          GRCh37              NaN          NaN          131243689   \n",
       "21307             NaN              NaN          NaN                NaN   \n",
       "99164          GRCh37              NaN          NaN             168483   \n",
       "68108             NaN              NaN          NaN                NaN   \n",
       "68114          GRCh37              NaN          NaN           22770421   \n",
       "89847          GRCh37              NaN          NaN             173786   \n",
       "90097          GRCh37              NaN          NaN                  1   \n",
       "15663          GRCh37              NaN          NaN           22770421   \n",
       "60998             NaN              NaN          NaN                NaN   \n",
       "64333          GRCh37           NCBI36          NaN             151048   \n",
       "32368             NaN              NaN          NaN                NaN   \n",
       "26921          GRCh37              NaN          NaN          153560741   \n",
       "27117          GRCh37              NaN          NaN             203861   \n",
       "79393          GRCh37           NCBI36          NaN             151048   \n",
       "98650          GRCh37              NaN          NaN           16923595   \n",
       "72389          GRCh37              NaN          NaN           22770421   \n",
       "73108          GRCh37              NaN          NaN           79023343   \n",
       "45972          GRCh38              NaN          NaN          106032435   \n",
       "46632          GRCh38           NCBI36          NaN           79491821   \n",
       "15527          GRCh37              NaN          NaN             168807   \n",
       "91354             NaN              NaN          NaN                NaN   \n",
       "93292          GRCh37              NaN          NaN            7841947   \n",
       "39256             NaN              NaN          NaN                NaN   \n",
       "\n",
       "      in.seq.outer_start  out.subject.interval.start.value  \\\n",
       "48481          131225843                               NaN   \n",
       "21307                NaN                               NaN   \n",
       "99164                NaN                               NaN   \n",
       "68108                NaN                               NaN   \n",
       "68114                NaN                               NaN   \n",
       "89847                NaN                               NaN   \n",
       "90097                NaN                               NaN   \n",
       "15663                NaN                               NaN   \n",
       "60998                NaN                               NaN   \n",
       "64333                NaN                               NaN   \n",
       "32368                NaN                               NaN   \n",
       "26921                NaN                               NaN   \n",
       "27117                NaN                               NaN   \n",
       "79393                NaN                               NaN   \n",
       "98650                NaN                               NaN   \n",
       "72389                NaN                               NaN   \n",
       "73108                NaN                               NaN   \n",
       "45972                NaN                               NaN   \n",
       "46632                NaN                               NaN   \n",
       "15527                NaN                               NaN   \n",
       "91354                NaN                               NaN   \n",
       "93292                NaN                               NaN   \n",
       "39256                NaN                               NaN   \n",
       "\n",
       "       out.subject.interval.start.max  out.subject.interval.start.min  \\\n",
       "48481                             NaN                             NaN   \n",
       "21307                             NaN                             NaN   \n",
       "99164                             NaN                             NaN   \n",
       "68108                             NaN                             NaN   \n",
       "68114                             NaN                             NaN   \n",
       "89847                             NaN                             NaN   \n",
       "90097                             NaN                             NaN   \n",
       "15663                             NaN                             NaN   \n",
       "60998                             NaN                             NaN   \n",
       "64333                             NaN                             NaN   \n",
       "32368                             NaN                             NaN   \n",
       "26921                             NaN                             NaN   \n",
       "27117                             NaN                             NaN   \n",
       "79393                             NaN                             NaN   \n",
       "98650                             NaN                             NaN   \n",
       "72389                             NaN                             NaN   \n",
       "73108                             NaN                             NaN   \n",
       "45972                             NaN                             NaN   \n",
       "46632                             NaN                             NaN   \n",
       "15527                             NaN                             NaN   \n",
       "91354                             NaN                             NaN   \n",
       "93292                             NaN                             NaN   \n",
       "39256                             NaN                             NaN   \n",
       "\n",
       "      in.min_copies in.max_copies  \n",
       "48481             3             4  \n",
       "21307           NaN           NaN  \n",
       "99164             1             2  \n",
       "68108           NaN           NaN  \n",
       "68114             3             4  \n",
       "89847             2             3  \n",
       "90097             4             5  \n",
       "15663             3             4  \n",
       "60998           NaN           NaN  \n",
       "64333           NaN           NaN  \n",
       "32368           NaN           NaN  \n",
       "26921             2             3  \n",
       "27117             3             4  \n",
       "79393           NaN           NaN  \n",
       "98650             2             3  \n",
       "72389             2             3  \n",
       "73108             1             2  \n",
       "45972             2             3  \n",
       "46632           NaN           NaN  \n",
       "15527             1             2  \n",
       "91354           NaN           NaN  \n",
       "93292             1             2  \n",
       "39256           NaN           NaN  "
      ]
     },
     "execution_count": 25,
>>>>>>> main
     "metadata": {},
     "output_type": "execute_result"
    }
   ],
   "source": [
<<<<<<< HEAD
    "df[\n",
    "    (df['start_38'].isna()) | (df['stop_38'].isna())\n",
    "][['in.seq.assembly','in.hgvs.assembly','in.seq.start','in.seq.inner_start','in.seq.outer_start','out.subject.start.value','out.subject.start.max','out.subject.start.min','in.min_copies','in.max_copies']]"
=======
    "### Let's get a look at variants which do not have sufficient data to populate the start/stop position fields using our chosen preference rule\n",
    "\n",
    "df[\n",
    "    (df['start_38'].isna()) | (df['stop_38'].isna())\n",
    "][[\n",
    "    'in.seq.assembly','in.hgvs.assembly','in.seq.start','in.seq.inner_start','in.seq.outer_start',\n",
    "    'out.subject.interval.start.value','out.subject.interval.start.max','out.subject.interval.start.min',\n",
    "    'in.min_copies','in.max_copies']]"
>>>>>>> main
   ]
  },
  {
   "cell_type": "markdown",
   "metadata": {},
   "source": [
    "### Why do these variants not have normalized location information?\n",
    "* 3 are in build 36 (not supported)\n",
    "* 6 have no genome assembly specified\n",
    "* 14 have a copy number range (not supported)"
   ]
  },
  {
   "cell_type": "markdown",
   "metadata": {},
   "source": [
    "### Restrict to CNVs with calculated location information"
   ]
  },
  {
   "cell_type": "code",
<<<<<<< HEAD
   "execution_count": 18,
=======
   "execution_count": 26,
>>>>>>> main
   "metadata": {},
   "outputs": [
    {
     "data": {
      "text/plain": [
       "79330"
      ]
     },
<<<<<<< HEAD
     "execution_count": 18,
=======
     "execution_count": 26,
>>>>>>> main
     "metadata": {},
     "output_type": "execute_result"
    }
   ],
   "source": [
    "df = df[df['start_38'].notna() & df['stop_38'].notna()].copy()\n",
    "df['start_38'] = df['start_38'].astype(int)\n",
    "df['stop_38'] = df['stop_38'].astype(int)\n",
    "len(df)"
   ]
  },
  {
   "cell_type": "code",
<<<<<<< HEAD
   "execution_count": 19,
=======
   "execution_count": 27,
>>>>>>> main
   "metadata": {},
   "outputs": [
    {
     "data": {
      "text/html": [
       "<div>\n",
       "<style scoped>\n",
       "    .dataframe tbody tr th:only-of-type {\n",
       "        vertical-align: middle;\n",
       "    }\n",
       "\n",
       "    .dataframe tbody tr th {\n",
       "        vertical-align: top;\n",
       "    }\n",
       "\n",
       "    .dataframe thead th {\n",
       "        text-align: right;\n",
       "    }\n",
       "</style>\n",
       "<table border=\"1\" class=\"dataframe\">\n",
       "  <thead>\n",
       "    <tr style=\"text-align: right;\">\n",
       "      <th></th>\n",
       "      <th>id</th>\n",
       "      <th>name</th>\n",
       "      <th>variation_type</th>\n",
       "      <th>assembly</th>\n",
       "      <th>chr</th>\n",
       "      <th>start_38</th>\n",
       "      <th>stop_38</th>\n",
       "      <th>absolute_copies</th>\n",
       "      <th>min_copies</th>\n",
       "      <th>max_copies</th>\n",
       "    </tr>\n",
       "  </thead>\n",
       "  <tbody>\n",
       "    <tr>\n",
<<<<<<< HEAD
       "      <th>159</th>\n",
=======
       "      <th>165</th>\n",
>>>>>>> main
       "      <td>1676567</td>\n",
       "      <td>NM_005445.4(SMC3):c.1343dup (p.Glu449fs)</td>\n",
       "      <td>Duplication</td>\n",
       "      <td>NaN</td>\n",
       "      <td>NaN</td>\n",
       "      <td>110589641</td>\n",
       "      <td>110589642</td>\n",
       "      <td>NaN</td>\n",
       "      <td>NaN</td>\n",
       "      <td>NaN</td>\n",
       "    </tr>\n",
       "    <tr>\n",
       "      <th>169</th>\n",
       "      <td>29615</td>\n",
       "      <td>NC_000014.9:g.(53815591_53825260)_(53983697_53...</td>\n",
       "      <td>Deletion</td>\n",
       "      <td>NaN</td>\n",
       "      <td>NaN</td>\n",
       "      <td>53825259</td>\n",
       "      <td>53983698</td>\n",
       "      <td>NaN</td>\n",
       "      <td>NaN</td>\n",
       "      <td>NaN</td>\n",
       "    </tr>\n",
       "    <tr>\n",
<<<<<<< HEAD
       "      <th>172</th>\n",
       "      <td>1340493</td>\n",
       "      <td>GRCh37/hg19 12p12.3(chr12:17595624-18236175)x3</td>\n",
       "      <td>copy number gain</td>\n",
       "      <td>GRCh37</td>\n",
       "      <td>12</td>\n",
       "      <td>17442689</td>\n",
       "      <td>18083241</td>\n",
=======
       "      <th>171</th>\n",
       "      <td>616733</td>\n",
       "      <td>GRCh37/hg19 Xp22.31(chrX:8595820-8676423)x3</td>\n",
       "      <td>copy number gain</td>\n",
       "      <td>GRCh37</td>\n",
       "      <td>X</td>\n",
       "      <td>8627778</td>\n",
       "      <td>8708382</td>\n",
>>>>>>> main
       "      <td>3</td>\n",
       "      <td>NaN</td>\n",
       "      <td>NaN</td>\n",
       "    </tr>\n",
       "    <tr>\n",
<<<<<<< HEAD
       "      <th>173</th>\n",
=======
       "      <th>174</th>\n",
>>>>>>> main
       "      <td>1340674</td>\n",
       "      <td>GRCh37/hg19 7q31.33-32.1(chr7:127050634-127826...</td>\n",
       "      <td>copy number gain</td>\n",
       "      <td>GRCh37</td>\n",
       "      <td>7</td>\n",
       "      <td>127410579</td>\n",
       "      <td>128186178</td>\n",
       "      <td>3</td>\n",
       "      <td>NaN</td>\n",
       "      <td>NaN</td>\n",
       "    </tr>\n",
       "    <tr>\n",
       "      <th>175</th>\n",
<<<<<<< HEAD
       "      <td>814630</td>\n",
       "      <td>GRCh37/hg19 4q33-34.1(chr4:171505226-173149981)x3</td>\n",
       "      <td>copy number gain</td>\n",
       "      <td>GRCh37</td>\n",
       "      <td>4</td>\n",
       "      <td>170584074</td>\n",
       "      <td>172228830</td>\n",
=======
       "      <td>1340493</td>\n",
       "      <td>GRCh37/hg19 12p12.3(chr12:17595624-18236175)x3</td>\n",
       "      <td>copy number gain</td>\n",
       "      <td>GRCh37</td>\n",
       "      <td>12</td>\n",
       "      <td>17442689</td>\n",
       "      <td>18083241</td>\n",
>>>>>>> main
       "      <td>3</td>\n",
       "      <td>NaN</td>\n",
       "      <td>NaN</td>\n",
       "    </tr>\n",
       "    <tr>\n",
       "      <th>...</th>\n",
       "      <td>...</td>\n",
       "      <td>...</td>\n",
       "      <td>...</td>\n",
       "      <td>...</td>\n",
       "      <td>...</td>\n",
       "      <td>...</td>\n",
       "      <td>...</td>\n",
       "      <td>...</td>\n",
       "      <td>...</td>\n",
       "      <td>...</td>\n",
       "    </tr>\n",
       "    <tr>\n",
<<<<<<< HEAD
       "      <th>99240</th>\n",
=======
       "      <th>99236</th>\n",
>>>>>>> main
       "      <td>866568</td>\n",
       "      <td>NM_015629.4(PRPF31):c.73_166dup (p.Asp56fs)</td>\n",
       "      <td>Duplication</td>\n",
       "      <td>GRCh38</td>\n",
       "      <td>19</td>\n",
       "      <td>54118350</td>\n",
       "      <td>54118444</td>\n",
       "      <td>NaN</td>\n",
       "      <td>NaN</td>\n",
       "      <td>NaN</td>\n",
       "    </tr>\n",
       "    <tr>\n",
<<<<<<< HEAD
       "      <th>99289</th>\n",
=======
       "      <th>99290</th>\n",
>>>>>>> main
       "      <td>847001</td>\n",
       "      <td>NM_000051.4(ATM):c.3273_3284+42dup</td>\n",
       "      <td>Duplication</td>\n",
       "      <td>GRCh38</td>\n",
       "      <td>11</td>\n",
       "      <td>108272840</td>\n",
       "      <td>108272894</td>\n",
       "      <td>NaN</td>\n",
       "      <td>NaN</td>\n",
       "      <td>NaN</td>\n",
       "    </tr>\n",
       "    <tr>\n",
<<<<<<< HEAD
       "      <th>10489</th>\n",
=======
       "      <th>10488</th>\n",
>>>>>>> main
       "      <td>993055</td>\n",
       "      <td>NC_000013.10:g.32889619_32890666dup</td>\n",
       "      <td>Duplication</td>\n",
       "      <td>GRCh38</td>\n",
       "      <td>13</td>\n",
       "      <td>32315481</td>\n",
       "      <td>32316529</td>\n",
       "      <td>NaN</td>\n",
       "      <td>NaN</td>\n",
       "      <td>NaN</td>\n",
       "    </tr>\n",
       "    <tr>\n",
<<<<<<< HEAD
       "      <th>10492</th>\n",
=======
       "      <th>10490</th>\n",
>>>>>>> main
       "      <td>1755741</td>\n",
       "      <td>NM_000059.4(BRCA2):c.6842-587_7007+2347dup</td>\n",
       "      <td>Duplication</td>\n",
       "      <td>GRCh38</td>\n",
       "      <td>13</td>\n",
       "      <td>32343970</td>\n",
       "      <td>32349243</td>\n",
       "      <td>NaN</td>\n",
       "      <td>NaN</td>\n",
       "      <td>NaN</td>\n",
       "    </tr>\n",
       "    <tr>\n",
<<<<<<< HEAD
       "      <th>10550</th>\n",
=======
       "      <th>10549</th>\n",
>>>>>>> main
       "      <td>1508452</td>\n",
       "      <td>NM_001903.5(CTNNA1):c.2709_*44dup (p.Met903_Te...</td>\n",
       "      <td>Duplication</td>\n",
       "      <td>GRCh38</td>\n",
       "      <td>5</td>\n",
       "      <td>138934076</td>\n",
       "      <td>138934133</td>\n",
       "      <td>NaN</td>\n",
       "      <td>NaN</td>\n",
       "      <td>NaN</td>\n",
       "    </tr>\n",
       "  </tbody>\n",
       "</table>\n",
       "<p>79330 rows × 10 columns</p>\n",
       "</div>"
      ],
      "text/plain": [
       "            id                                               name  \\\n",
<<<<<<< HEAD
       "159    1676567           NM_005445.4(SMC3):c.1343dup (p.Glu449fs)   \n",
       "169      29615  NC_000014.9:g.(53815591_53825260)_(53983697_53...   \n",
       "172    1340493     GRCh37/hg19 12p12.3(chr12:17595624-18236175)x3   \n",
       "173    1340674  GRCh37/hg19 7q31.33-32.1(chr7:127050634-127826...   \n",
       "175     814630  GRCh37/hg19 4q33-34.1(chr4:171505226-173149981)x3   \n",
       "...        ...                                                ...   \n",
       "99240   866568        NM_015629.4(PRPF31):c.73_166dup (p.Asp56fs)   \n",
       "99289   847001                 NM_000051.4(ATM):c.3273_3284+42dup   \n",
       "10489   993055                NC_000013.10:g.32889619_32890666dup   \n",
       "10492  1755741         NM_000059.4(BRCA2):c.6842-587_7007+2347dup   \n",
       "10550  1508452  NM_001903.5(CTNNA1):c.2709_*44dup (p.Met903_Te...   \n",
       "\n",
       "         variation_type assembly  chr   start_38    stop_38 absolute_copies  \\\n",
       "159         Duplication      NaN  NaN  110589641  110589642             NaN   \n",
       "169            Deletion      NaN  NaN   53825259   53983698             NaN   \n",
       "172    copy number gain   GRCh37   12   17442689   18083241               3   \n",
       "173    copy number gain   GRCh37    7  127410579  128186178               3   \n",
       "175    copy number gain   GRCh37    4  170584074  172228830               3   \n",
       "...                 ...      ...  ...        ...        ...             ...   \n",
       "99240       Duplication   GRCh38   19   54118350   54118444             NaN   \n",
       "99289       Duplication   GRCh38   11  108272840  108272894             NaN   \n",
       "10489       Duplication   GRCh38   13   32315481   32316529             NaN   \n",
       "10492       Duplication   GRCh38   13   32343970   32349243             NaN   \n",
       "10550       Duplication   GRCh38    5  138934076  138934133             NaN   \n",
       "\n",
       "      min_copies max_copies  \n",
       "159          NaN        NaN  \n",
       "169          NaN        NaN  \n",
       "172          NaN        NaN  \n",
       "173          NaN        NaN  \n",
       "175          NaN        NaN  \n",
       "...          ...        ...  \n",
       "99240        NaN        NaN  \n",
       "99289        NaN        NaN  \n",
       "10489        NaN        NaN  \n",
       "10492        NaN        NaN  \n",
       "10550        NaN        NaN  \n",
=======
       "165    1676567           NM_005445.4(SMC3):c.1343dup (p.Glu449fs)   \n",
       "169      29615  NC_000014.9:g.(53815591_53825260)_(53983697_53...   \n",
       "171     616733        GRCh37/hg19 Xp22.31(chrX:8595820-8676423)x3   \n",
       "174    1340674  GRCh37/hg19 7q31.33-32.1(chr7:127050634-127826...   \n",
       "175    1340493     GRCh37/hg19 12p12.3(chr12:17595624-18236175)x3   \n",
       "...        ...                                                ...   \n",
       "99236   866568        NM_015629.4(PRPF31):c.73_166dup (p.Asp56fs)   \n",
       "99290   847001                 NM_000051.4(ATM):c.3273_3284+42dup   \n",
       "10488   993055                NC_000013.10:g.32889619_32890666dup   \n",
       "10490  1755741         NM_000059.4(BRCA2):c.6842-587_7007+2347dup   \n",
       "10549  1508452  NM_001903.5(CTNNA1):c.2709_*44dup (p.Met903_Te...   \n",
       "\n",
       "         variation_type assembly  chr   start_38    stop_38 absolute_copies  \\\n",
       "165         Duplication      NaN  NaN  110589641  110589642             NaN   \n",
       "169            Deletion      NaN  NaN   53825259   53983698             NaN   \n",
       "171    copy number gain   GRCh37    X    8627778    8708382               3   \n",
       "174    copy number gain   GRCh37    7  127410579  128186178               3   \n",
       "175    copy number gain   GRCh37   12   17442689   18083241               3   \n",
       "...                 ...      ...  ...        ...        ...             ...   \n",
       "99236       Duplication   GRCh38   19   54118350   54118444             NaN   \n",
       "99290       Duplication   GRCh38   11  108272840  108272894             NaN   \n",
       "10488       Duplication   GRCh38   13   32315481   32316529             NaN   \n",
       "10490       Duplication   GRCh38   13   32343970   32349243             NaN   \n",
       "10549       Duplication   GRCh38    5  138934076  138934133             NaN   \n",
       "\n",
       "      min_copies max_copies  \n",
       "165          NaN        NaN  \n",
       "169          NaN        NaN  \n",
       "171          NaN        NaN  \n",
       "174          NaN        NaN  \n",
       "175          NaN        NaN  \n",
       "...          ...        ...  \n",
       "99236        NaN        NaN  \n",
       "99290        NaN        NaN  \n",
       "10488        NaN        NaN  \n",
       "10490        NaN        NaN  \n",
       "10549        NaN        NaN  \n",
>>>>>>> main
       "\n",
       "[79330 rows x 10 columns]"
      ]
     },
<<<<<<< HEAD
     "execution_count": 19,
=======
     "execution_count": 27,
>>>>>>> main
     "metadata": {},
     "output_type": "execute_result"
    }
   ],
   "source": [
<<<<<<< HEAD
=======
    "## restrict dataframe to minimal necessary fields, clean up column names for export and downstream analyses\n",
    "\n",
>>>>>>> main
    "df = df[['in.id','in.name','in.variation_type','in.seq.assembly','in.seq.chr','start_38','stop_38','in.absolute_copies','in.min_copies','in.max_copies']]\n",
    "df = df.rename(columns = {c:c.split('.')[-1] for c in df.columns})\n",
    "df"
   ]
  },
  {
   "cell_type": "code",
<<<<<<< HEAD
   "execution_count": 20,
   "metadata": {},
   "outputs": [],
   "source": [
    "df.to_csv('ClinVar-CNVs-normalized.csv',index=False)"
=======
   "execution_count": 28,
   "metadata": {},
   "outputs": [],
   "source": [
    "df.to_csv('cnv_data/ClinVar-CNVs-normalized.csv',index=False)"
>>>>>>> main
   ]
  }
 ],
 "metadata": {
  "kernelspec": {
   "display_name": "Python 3 (ipykernel)",
   "language": "python",
   "name": "python3"
  },
  "language_info": {
   "codemirror_mode": {
    "name": "ipython",
    "version": 3
   },
   "file_extension": ".py",
   "mimetype": "text/x-python",
   "name": "python",
   "nbconvert_exporter": "python",
   "pygments_lexer": "ipython3",
   "version": "3.8.8"
  }
 },
 "nbformat": 4,
 "nbformat_minor": 4
}
