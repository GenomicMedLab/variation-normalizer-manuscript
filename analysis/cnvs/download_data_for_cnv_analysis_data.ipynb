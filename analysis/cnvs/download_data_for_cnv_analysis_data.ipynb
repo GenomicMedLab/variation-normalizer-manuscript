{
 "cells": [
  {
   "cell_type": "markdown",
   "metadata": {},
   "source": [
    "# Download data needed for CNV analyses\n",
    "This notebook downloads all of the underlying data for analyses of CNVs in ClinVar and how a real-world data set of CNVs from microarrays matches to these variants. It also downloads the intermediate output files generated in the course of running these CNV analyses so that the user may avoid re-running long computations in the matching analysis."
   ]
  },
  {
   "cell_type": "code",
   "execution_count": 1,
   "metadata": {},
   "outputs": [],
   "source": [
    "import os\n",
    "from pathlib import Path\n",
    "\n",
    "import boto3\n",
    "from botocore.config import Config\n",
    "from dotenv import load_dotenv"
   ]
  },
  {
   "cell_type": "code",
   "execution_count": 2,
   "metadata": {},
   "outputs": [
    {
     "data": {
      "text/plain": [
       "True"
      ]
     },
     "execution_count": 2,
     "metadata": {},
     "output_type": "execute_result"
    }
   ],
   "source": [
    "load_dotenv()"
   ]
  },
  {
   "cell_type": "code",
   "execution_count": 4,
   "metadata": {},
   "outputs": [],
   "source": [
    "s3 = boto3.resource(\"s3\", config=Config(region_name=\"us-east-2\"))"
   ]
  },
  {
   "cell_type": "code",
   "execution_count": 4,
   "metadata": {},
   "outputs": [],
   "source": [
    "bucket = sorted(\n",
    "    list(\n",
    "        s3.Bucket(\"nch-igm-wagner-lab-public\").objects.filter(Prefix=\"variation-normalizer-manuscript/cnv_data/\").all()\n",
    "    ),\n",
    "    key=lambda f: f.key,\n",
    "    reverse=True\n",
    ")"
   ]
  },
  {
   "cell_type": "code",
   "execution_count": 5,
   "metadata": {},
   "outputs": [],
   "source": [
    "\n",
    "Path(\"cnv_data\").mkdir(exist_ok = True)\n",
    "\n",
    "for file in bucket:\n",
    "    fn = file.key.split(\"/\")[-1]\n",
    "    with open(os.path.join('cnv_data',fn), \"wb\") as f:\n",
    "        file.Object().download_fileobj(f)"
   ]
  },
  {
   "cell_type": "markdown",
   "metadata": {},
   "source": [
    "### ClinVar normalized variant data\n",
    "If you have not already run the notebooks in the ClinVar analysis directory, you will need to pull down the normalized ClinVar variants. This can be done by running ```clinvar_variation_analysis.ipynb``` in the ```clinvar``` directory, or by running the following cell:"
   ]
  },
  {
   "cell_type": "code",
   "execution_count": 6,
   "metadata": {},
   "outputs": [],
   "source": [
    "Path(\"../clinvar\").mkdir(exist_ok = True)\n",
    "\n",
    "s3 = boto3.client('s3')\n",
    "with open('../clinvar/output-variation_identity-vrs-1.3.ndjson.gz', 'wb') as f:\n",
    "    s3.download_fileobj('nch-igm-wagner-lab-public', 'variation-normalizer-manuscript/output-variation_identity-vrs-1.3.ndjson.gz', f)"
   ]
  }
 ],
 "metadata": {
  "kernelspec": {
   "display_name": "Python 3 (ipykernel)",
   "language": "python",
   "name": "python3"
  },
  "language_info": {
   "codemirror_mode": {
    "name": "ipython",
    "version": 3
   },
   "file_extension": ".py",
   "mimetype": "text/x-python",
   "name": "python",
   "nbconvert_exporter": "python",
   "pygments_lexer": "ipython3",
   "version": "3.11.5"
  }
 },
 "nbformat": 4,
 "nbformat_minor": 4
}
