{
 "cells": [
  {
   "cell_type": "code",
   "execution_count": 2,
   "metadata": {},
   "outputs": [],
   "source": [
    "import pandas as pd\n",
    "import numpy as np\n",
    "from tqdm.notebook import tqdm\n",
    "import re\n",
    "import requests\n",
    "import json"
   ]
  },
  {
   "cell_type": "code",
   "execution_count": 8,
   "metadata": {},
   "outputs": [],
   "source": [
    "da = pd.read_csv('NCH-microarray-CNVs.csv')"
   ]
  },
  {
   "cell_type": "code",
   "execution_count": 9,
   "metadata": {},
   "outputs": [
    {
     "data": {
      "text/html": [
       "<div>\n",
       "<style scoped>\n",
       "    .dataframe tbody tr th:only-of-type {\n",
       "        vertical-align: middle;\n",
       "    }\n",
       "\n",
       "    .dataframe tbody tr th {\n",
       "        vertical-align: top;\n",
       "    }\n",
       "\n",
       "    .dataframe thead th {\n",
       "        text-align: right;\n",
       "    }\n",
       "</style>\n",
       "<table border=\"1\" class=\"dataframe\">\n",
       "  <thead>\n",
       "    <tr style=\"text-align: right;\">\n",
       "      <th></th>\n",
       "      <th>variant</th>\n",
       "      <th>build</th>\n",
       "    </tr>\n",
       "  </thead>\n",
       "  <tbody>\n",
       "    <tr>\n",
       "      <th>0</th>\n",
       "      <td>22q11.21q11.23(21798705_23751189)x3</td>\n",
       "      <td>GRCh37</td>\n",
       "    </tr>\n",
       "    <tr>\n",
       "      <th>1</th>\n",
       "      <td>7q35(146581450_146661741)x3</td>\n",
       "      <td>GRCh37</td>\n",
       "    </tr>\n",
       "    <tr>\n",
       "      <th>2</th>\n",
       "      <td>18p11.32(146484_408044)x1</td>\n",
       "      <td>GRCh37</td>\n",
       "    </tr>\n",
       "    <tr>\n",
       "      <th>3</th>\n",
       "      <td>3q25.1(150353937_150944378)x1</td>\n",
       "      <td>GRCh37</td>\n",
       "    </tr>\n",
       "    <tr>\n",
       "      <th>4</th>\n",
       "      <td>16p12.1(27864452_27995317)x3</td>\n",
       "      <td>GRCh37</td>\n",
       "    </tr>\n",
       "  </tbody>\n",
       "</table>\n",
       "</div>"
      ],
      "text/plain": [
       "                               variant   build\n",
       "0  22q11.21q11.23(21798705_23751189)x3  GRCh37\n",
       "1          7q35(146581450_146661741)x3  GRCh37\n",
       "2            18p11.32(146484_408044)x1  GRCh37\n",
       "3        3q25.1(150353937_150944378)x1  GRCh37\n",
       "4         16p12.1(27864452_27995317)x3  GRCh37"
      ]
     },
     "execution_count": 9,
     "metadata": {},
     "output_type": "execute_result"
    }
   ],
   "source": [
    "da.head()"
   ]
  },
  {
   "cell_type": "code",
   "execution_count": 10,
   "metadata": {},
   "outputs": [
    {
     "data": {
      "text/plain": [
       "19106"
      ]
     },
     "execution_count": 10,
     "metadata": {},
     "output_type": "execute_result"
    }
   ],
   "source": [
    "len(da)"
   ]
  },
  {
   "cell_type": "markdown",
   "metadata": {},
   "source": [
    "### Remove duplicates"
   ]
  },
  {
   "cell_type": "code",
   "execution_count": 11,
   "metadata": {},
   "outputs": [
    {
     "data": {
      "text/plain": [
       "14710"
      ]
     },
     "execution_count": 11,
     "metadata": {},
     "output_type": "execute_result"
    }
   ],
   "source": [
    "da = da.drop_duplicates('variant')\n",
    "len(da)"
   ]
  },
  {
   "cell_type": "markdown",
   "metadata": {},
   "source": [
    "## Compute and check chromosome values"
   ]
  },
  {
   "cell_type": "code",
   "execution_count": 12,
   "metadata": {},
   "outputs": [],
   "source": [
    "da['chromosome'] = da['variant'].apply(lambda v: re.findall(r\"([\\dXY]+)[pq]\",v)[0])"
   ]
  },
  {
   "cell_type": "code",
   "execution_count": 13,
   "metadata": {},
   "outputs": [
    {
     "data": {
      "text/plain": [
       "array(['22', '7', '18', '3', '16', 'X', '2', '17', '1', '20', '5', '6',\n",
       "       '9', '14', '10', '11', '13', '12', '21', '4', '8', '15', '19', 'Y',\n",
       "       '1919'], dtype=object)"
      ]
     },
     "execution_count": 13,
     "metadata": {},
     "output_type": "execute_result"
    }
   ],
   "source": [
    "da['chromosome'].unique()"
   ]
  },
  {
   "cell_type": "code",
   "execution_count": 14,
   "metadata": {},
   "outputs": [],
   "source": [
    "# clean incorrect values\n",
    "da['chromosome'] = da['chromosome'].replace('1919','19')"
   ]
  },
  {
   "cell_type": "markdown",
   "metadata": {},
   "source": [
    "## Compute start/stop values"
   ]
  },
  {
   "cell_type": "code",
   "execution_count": 15,
   "metadata": {},
   "outputs": [],
   "source": [
    "da['start'] = da['variant'].apply(lambda v: re.findall(r\"\\(([\\d,]+)\",v)[0].replace(',','')).astype(int)"
   ]
  },
  {
   "cell_type": "code",
   "execution_count": 16,
   "metadata": {},
   "outputs": [],
   "source": [
    "da['stop'] = da['variant'].apply(lambda v: re.findall(r\"([\\d,]+)\\)\",v)[-1].replace(',','')).astype(int)"
   ]
  },
  {
   "cell_type": "markdown",
   "metadata": {},
   "source": [
    "### Identify errors in start/stop values"
   ]
  },
  {
   "cell_type": "code",
   "execution_count": 17,
   "metadata": {},
   "outputs": [],
   "source": [
    "da['var_len'] = da['stop'] - da['start'] + 1"
   ]
  },
  {
   "cell_type": "code",
   "execution_count": 18,
   "metadata": {},
   "outputs": [],
   "source": [
    "def count_endpoints(v):\n",
    "    numranges = re.findall(\"\\([\\d,\\-\\_]+\\)\",v)[0]\n",
    "    numranges = re.sub(',','',numranges)\n",
    "    return len(re.findall(\"\\d+\",numranges))\n",
    "\n",
    "da['#position_values'] = da['variant'].apply(count_endpoints)\n",
    "if list(da['#position_values'].unique()) == [1]:\n",
    "    del da['#position_values']"
   ]
  },
  {
   "cell_type": "markdown",
   "metadata": {},
   "source": [
    "#### Remove malformed variants: incorrect number of positions"
   ]
  },
  {
   "cell_type": "code",
   "execution_count": 19,
   "metadata": {},
   "outputs": [
    {
     "data": {
      "text/html": [
       "<div>\n",
       "<style scoped>\n",
       "    .dataframe tbody tr th:only-of-type {\n",
       "        vertical-align: middle;\n",
       "    }\n",
       "\n",
       "    .dataframe tbody tr th {\n",
       "        vertical-align: top;\n",
       "    }\n",
       "\n",
       "    .dataframe thead th {\n",
       "        text-align: right;\n",
       "    }\n",
       "</style>\n",
       "<table border=\"1\" class=\"dataframe\">\n",
       "  <thead>\n",
       "    <tr style=\"text-align: right;\">\n",
       "      <th></th>\n",
       "      <th>variant</th>\n",
       "      <th>build</th>\n",
       "      <th>chromosome</th>\n",
       "      <th>start</th>\n",
       "      <th>stop</th>\n",
       "      <th>var_len</th>\n",
       "      <th>#position_values</th>\n",
       "    </tr>\n",
       "  </thead>\n",
       "  <tbody>\n",
       "    <tr>\n",
       "      <th>5252</th>\n",
       "      <td>13q31.3(90,653,47091,471,740)x3</td>\n",
       "      <td>GRCh38</td>\n",
       "      <td>13</td>\n",
       "      <td>9065347091471740</td>\n",
       "      <td>9065347091471740</td>\n",
       "      <td>1</td>\n",
       "      <td>1</td>\n",
       "    </tr>\n",
       "    <tr>\n",
       "      <th>5803</th>\n",
       "      <td>15q21.3(55,499,672,55,593,588)x1</td>\n",
       "      <td>GRCh38</td>\n",
       "      <td>15</td>\n",
       "      <td>5549967255593588</td>\n",
       "      <td>5549967255593588</td>\n",
       "      <td>1</td>\n",
       "      <td>1</td>\n",
       "    </tr>\n",
       "    <tr>\n",
       "      <th>5940</th>\n",
       "      <td>1p36.33p34.3(1,341,185-35,888,147-35,888,147)x...</td>\n",
       "      <td>GRCh38</td>\n",
       "      <td>1</td>\n",
       "      <td>1341185</td>\n",
       "      <td>35888147</td>\n",
       "      <td>34546963</td>\n",
       "      <td>3</td>\n",
       "    </tr>\n",
       "    <tr>\n",
       "      <th>12101</th>\n",
       "      <td>1p33(47,070,474-47,282-269)x3</td>\n",
       "      <td>GRCh37</td>\n",
       "      <td>1</td>\n",
       "      <td>47070474</td>\n",
       "      <td>269</td>\n",
       "      <td>-47070204</td>\n",
       "      <td>3</td>\n",
       "    </tr>\n",
       "    <tr>\n",
       "      <th>13758</th>\n",
       "      <td>1q21.1(144,998,070-146,179-215)x1</td>\n",
       "      <td>GRCh37</td>\n",
       "      <td>1</td>\n",
       "      <td>144998070</td>\n",
       "      <td>215</td>\n",
       "      <td>-144997854</td>\n",
       "      <td>3</td>\n",
       "    </tr>\n",
       "    <tr>\n",
       "      <th>15978</th>\n",
       "      <td>12q13.12(49,370,149-49-678,707)x3</td>\n",
       "      <td>GRCh38</td>\n",
       "      <td>12</td>\n",
       "      <td>49370149</td>\n",
       "      <td>678707</td>\n",
       "      <td>-48691441</td>\n",
       "      <td>3</td>\n",
       "    </tr>\n",
       "    <tr>\n",
       "      <th>16859</th>\n",
       "      <td>20q13.2q13.32(52,096,110-57-389,480)x2 hmz</td>\n",
       "      <td>GRCh38</td>\n",
       "      <td>20</td>\n",
       "      <td>52096110</td>\n",
       "      <td>389480</td>\n",
       "      <td>-51706629</td>\n",
       "      <td>3</td>\n",
       "    </tr>\n",
       "    <tr>\n",
       "      <th>17417</th>\n",
       "      <td>8q24.21q24.22(129,951,769-133-621,197)x2 hmz</td>\n",
       "      <td>GRCh38</td>\n",
       "      <td>8</td>\n",
       "      <td>129951769</td>\n",
       "      <td>621197</td>\n",
       "      <td>-129330571</td>\n",
       "      <td>3</td>\n",
       "    </tr>\n",
       "  </tbody>\n",
       "</table>\n",
       "</div>"
      ],
      "text/plain": [
       "                                                 variant   build chromosome  \\\n",
       "5252                     13q31.3(90,653,47091,471,740)x3  GRCh38         13   \n",
       "5803                    15q21.3(55,499,672,55,593,588)x1  GRCh38         15   \n",
       "5940   1p36.33p34.3(1,341,185-35,888,147-35,888,147)x...  GRCh38          1   \n",
       "12101                      1p33(47,070,474-47,282-269)x3  GRCh37          1   \n",
       "13758                  1q21.1(144,998,070-146,179-215)x1  GRCh37          1   \n",
       "15978                  12q13.12(49,370,149-49-678,707)x3  GRCh38         12   \n",
       "16859         20q13.2q13.32(52,096,110-57-389,480)x2 hmz  GRCh38         20   \n",
       "17417       8q24.21q24.22(129,951,769-133-621,197)x2 hmz  GRCh38          8   \n",
       "\n",
       "                  start              stop    var_len  #position_values  \n",
       "5252   9065347091471740  9065347091471740          1                 1  \n",
       "5803   5549967255593588  5549967255593588          1                 1  \n",
       "5940            1341185          35888147   34546963                 3  \n",
       "12101          47070474               269  -47070204                 3  \n",
       "13758         144998070               215 -144997854                 3  \n",
       "15978          49370149            678707  -48691441                 3  \n",
       "16859          52096110            389480  -51706629                 3  \n",
       "17417         129951769            621197 -129330571                 3  "
      ]
     },
     "execution_count": 19,
     "metadata": {},
     "output_type": "execute_result"
    }
   ],
   "source": [
    "da[(da['#position_values']!=2)]"
   ]
  },
  {
   "cell_type": "code",
   "execution_count": 20,
   "metadata": {},
   "outputs": [
    {
     "data": {
      "text/plain": [
       "14702"
      ]
     },
     "execution_count": 20,
     "metadata": {},
     "output_type": "execute_result"
    }
   ],
   "source": [
    "da = da[(da['#position_values']==2)].copy()\n",
    "len(da)"
   ]
  },
  {
   "cell_type": "markdown",
   "metadata": {},
   "source": [
    "#### Remove Malformed variants: start > stop"
   ]
  },
  {
   "cell_type": "code",
   "execution_count": 21,
   "metadata": {},
   "outputs": [
    {
     "data": {
      "text/html": [
       "<div>\n",
       "<style scoped>\n",
       "    .dataframe tbody tr th:only-of-type {\n",
       "        vertical-align: middle;\n",
       "    }\n",
       "\n",
       "    .dataframe tbody tr th {\n",
       "        vertical-align: top;\n",
       "    }\n",
       "\n",
       "    .dataframe thead th {\n",
       "        text-align: right;\n",
       "    }\n",
       "</style>\n",
       "<table border=\"1\" class=\"dataframe\">\n",
       "  <thead>\n",
       "    <tr style=\"text-align: right;\">\n",
       "      <th></th>\n",
       "      <th>variant</th>\n",
       "      <th>build</th>\n",
       "      <th>chromosome</th>\n",
       "      <th>start</th>\n",
       "      <th>stop</th>\n",
       "      <th>var_len</th>\n",
       "      <th>#position_values</th>\n",
       "    </tr>\n",
       "  </thead>\n",
       "  <tbody>\n",
       "    <tr>\n",
       "      <th>4295</th>\n",
       "      <td>6q22.1q23.2(1117,662,682-134,504,204)x2 hmz</td>\n",
       "      <td>GRCh38</td>\n",
       "      <td>6</td>\n",
       "      <td>1117662682</td>\n",
       "      <td>134504204</td>\n",
       "      <td>-983158477</td>\n",
       "      <td>2</td>\n",
       "    </tr>\n",
       "    <tr>\n",
       "      <th>4962</th>\n",
       "      <td>6q16.1(95,032,6225-95,297,694)x3</td>\n",
       "      <td>GRCh38</td>\n",
       "      <td>6</td>\n",
       "      <td>950326225</td>\n",
       "      <td>95297694</td>\n",
       "      <td>-855028530</td>\n",
       "      <td>2</td>\n",
       "    </tr>\n",
       "    <tr>\n",
       "      <th>6081</th>\n",
       "      <td>10q22.3(793155275_79370971)x1</td>\n",
       "      <td>GRCh37</td>\n",
       "      <td>10</td>\n",
       "      <td>793155275</td>\n",
       "      <td>79370971</td>\n",
       "      <td>-713784303</td>\n",
       "      <td>2</td>\n",
       "    </tr>\n",
       "    <tr>\n",
       "      <th>6193</th>\n",
       "      <td>22q13.31q13.3(345611578_51178150)x1</td>\n",
       "      <td>GRCh37</td>\n",
       "      <td>22</td>\n",
       "      <td>345611578</td>\n",
       "      <td>51178150</td>\n",
       "      <td>-294433427</td>\n",
       "      <td>2</td>\n",
       "    </tr>\n",
       "    <tr>\n",
       "      <th>8303</th>\n",
       "      <td>9p24.1(9014741_5165768)x1</td>\n",
       "      <td>GRCh37</td>\n",
       "      <td>9</td>\n",
       "      <td>9014741</td>\n",
       "      <td>5165768</td>\n",
       "      <td>-3848972</td>\n",
       "      <td>2</td>\n",
       "    </tr>\n",
       "    <tr>\n",
       "      <th>10562</th>\n",
       "      <td>9q22.2(914,974,185-92,471,302)x1</td>\n",
       "      <td>GRCh37</td>\n",
       "      <td>9</td>\n",
       "      <td>914974185</td>\n",
       "      <td>92471302</td>\n",
       "      <td>-822502882</td>\n",
       "      <td>2</td>\n",
       "    </tr>\n",
       "    <tr>\n",
       "      <th>13673</th>\n",
       "      <td>15q26.3(98,111,496-97,413,981)x3</td>\n",
       "      <td>GRCh37</td>\n",
       "      <td>15</td>\n",
       "      <td>98111496</td>\n",
       "      <td>97413981</td>\n",
       "      <td>-697514</td>\n",
       "      <td>2</td>\n",
       "    </tr>\n",
       "    <tr>\n",
       "      <th>14905</th>\n",
       "      <td>2q34(212,681,263-21,889,508)x1</td>\n",
       "      <td>GRCh37</td>\n",
       "      <td>2</td>\n",
       "      <td>212681263</td>\n",
       "      <td>21889508</td>\n",
       "      <td>-190791754</td>\n",
       "      <td>2</td>\n",
       "    </tr>\n",
       "    <tr>\n",
       "      <th>14938</th>\n",
       "      <td>8q11.1q11.21(47,042,437-48,401,60)x3</td>\n",
       "      <td>GRCh37</td>\n",
       "      <td>8</td>\n",
       "      <td>47042437</td>\n",
       "      <td>4840160</td>\n",
       "      <td>-42202276</td>\n",
       "      <td>2</td>\n",
       "    </tr>\n",
       "    <tr>\n",
       "      <th>15142</th>\n",
       "      <td>5q35.3(180,380,290-100,448,046)x3</td>\n",
       "      <td>GRCh37</td>\n",
       "      <td>5</td>\n",
       "      <td>180380290</td>\n",
       "      <td>100448046</td>\n",
       "      <td>-79932243</td>\n",
       "      <td>2</td>\n",
       "    </tr>\n",
       "    <tr>\n",
       "      <th>15354</th>\n",
       "      <td>11p15.4(9,660,8406-10,126,909)x3</td>\n",
       "      <td>GRCh38</td>\n",
       "      <td>11</td>\n",
       "      <td>96608406</td>\n",
       "      <td>10126909</td>\n",
       "      <td>-86481496</td>\n",
       "      <td>2</td>\n",
       "    </tr>\n",
       "    <tr>\n",
       "      <th>15574</th>\n",
       "      <td>15q14q21.3(34197524-5899549)x2 hmz</td>\n",
       "      <td>GRCh38</td>\n",
       "      <td>15</td>\n",
       "      <td>34197524</td>\n",
       "      <td>5899549</td>\n",
       "      <td>-28297974</td>\n",
       "      <td>2</td>\n",
       "    </tr>\n",
       "    <tr>\n",
       "      <th>15909</th>\n",
       "      <td>4q21.1q21.3(76,558,545-66,960,086)x1</td>\n",
       "      <td>GRCh38</td>\n",
       "      <td>4</td>\n",
       "      <td>76558545</td>\n",
       "      <td>66960086</td>\n",
       "      <td>-9598458</td>\n",
       "      <td>2</td>\n",
       "    </tr>\n",
       "    <tr>\n",
       "      <th>17053</th>\n",
       "      <td>7q31.32(122,149,117-112,178,851)x1</td>\n",
       "      <td>GRCh38</td>\n",
       "      <td>7</td>\n",
       "      <td>122149117</td>\n",
       "      <td>112178851</td>\n",
       "      <td>-9970265</td>\n",
       "      <td>2</td>\n",
       "    </tr>\n",
       "    <tr>\n",
       "      <th>17422</th>\n",
       "      <td>2q31.1(175,173,118-117,322,981)x1</td>\n",
       "      <td>GRCh38</td>\n",
       "      <td>2</td>\n",
       "      <td>175173118</td>\n",
       "      <td>117322981</td>\n",
       "      <td>-57850136</td>\n",
       "      <td>2</td>\n",
       "    </tr>\n",
       "    <tr>\n",
       "      <th>18013</th>\n",
       "      <td>9p21.3(22,2736,313-22,768,766)x1</td>\n",
       "      <td>GRCh37</td>\n",
       "      <td>9</td>\n",
       "      <td>222736313</td>\n",
       "      <td>22768766</td>\n",
       "      <td>-199967546</td>\n",
       "      <td>2</td>\n",
       "    </tr>\n",
       "    <tr>\n",
       "      <th>18080</th>\n",
       "      <td>14q32.33(150,422,204-105,845,718)x1</td>\n",
       "      <td>GRCh37</td>\n",
       "      <td>14</td>\n",
       "      <td>150422204</td>\n",
       "      <td>105845718</td>\n",
       "      <td>-44576485</td>\n",
       "      <td>2</td>\n",
       "    </tr>\n",
       "    <tr>\n",
       "      <th>18725</th>\n",
       "      <td>14q32.33(140,233,331-104,294,832)x3</td>\n",
       "      <td>GRCh37</td>\n",
       "      <td>14</td>\n",
       "      <td>140233331</td>\n",
       "      <td>104294832</td>\n",
       "      <td>-35938498</td>\n",
       "      <td>2</td>\n",
       "    </tr>\n",
       "    <tr>\n",
       "      <th>19031</th>\n",
       "      <td>2q33.1(230,250,520-203,387,006)x3</td>\n",
       "      <td>GRCh37</td>\n",
       "      <td>2</td>\n",
       "      <td>230250520</td>\n",
       "      <td>203387006</td>\n",
       "      <td>-26863513</td>\n",
       "      <td>2</td>\n",
       "    </tr>\n",
       "  </tbody>\n",
       "</table>\n",
       "</div>"
      ],
      "text/plain": [
       "                                           variant   build chromosome  \\\n",
       "4295   6q22.1q23.2(1117,662,682-134,504,204)x2 hmz  GRCh38          6   \n",
       "4962              6q16.1(95,032,6225-95,297,694)x3  GRCh38          6   \n",
       "6081                 10q22.3(793155275_79370971)x1  GRCh37         10   \n",
       "6193           22q13.31q13.3(345611578_51178150)x1  GRCh37         22   \n",
       "8303                     9p24.1(9014741_5165768)x1  GRCh37          9   \n",
       "10562             9q22.2(914,974,185-92,471,302)x1  GRCh37          9   \n",
       "13673             15q26.3(98,111,496-97,413,981)x3  GRCh37         15   \n",
       "14905               2q34(212,681,263-21,889,508)x1  GRCh37          2   \n",
       "14938         8q11.1q11.21(47,042,437-48,401,60)x3  GRCh37          8   \n",
       "15142            5q35.3(180,380,290-100,448,046)x3  GRCh37          5   \n",
       "15354             11p15.4(9,660,8406-10,126,909)x3  GRCh38         11   \n",
       "15574           15q14q21.3(34197524-5899549)x2 hmz  GRCh38         15   \n",
       "15909         4q21.1q21.3(76,558,545-66,960,086)x1  GRCh38          4   \n",
       "17053           7q31.32(122,149,117-112,178,851)x1  GRCh38          7   \n",
       "17422            2q31.1(175,173,118-117,322,981)x1  GRCh38          2   \n",
       "18013             9p21.3(22,2736,313-22,768,766)x1  GRCh37          9   \n",
       "18080          14q32.33(150,422,204-105,845,718)x1  GRCh37         14   \n",
       "18725          14q32.33(140,233,331-104,294,832)x3  GRCh37         14   \n",
       "19031            2q33.1(230,250,520-203,387,006)x3  GRCh37          2   \n",
       "\n",
       "            start       stop    var_len  #position_values  \n",
       "4295   1117662682  134504204 -983158477                 2  \n",
       "4962    950326225   95297694 -855028530                 2  \n",
       "6081    793155275   79370971 -713784303                 2  \n",
       "6193    345611578   51178150 -294433427                 2  \n",
       "8303      9014741    5165768   -3848972                 2  \n",
       "10562   914974185   92471302 -822502882                 2  \n",
       "13673    98111496   97413981    -697514                 2  \n",
       "14905   212681263   21889508 -190791754                 2  \n",
       "14938    47042437    4840160  -42202276                 2  \n",
       "15142   180380290  100448046  -79932243                 2  \n",
       "15354    96608406   10126909  -86481496                 2  \n",
       "15574    34197524    5899549  -28297974                 2  \n",
       "15909    76558545   66960086   -9598458                 2  \n",
       "17053   122149117  112178851   -9970265                 2  \n",
       "17422   175173118  117322981  -57850136                 2  \n",
       "18013   222736313   22768766 -199967546                 2  \n",
       "18080   150422204  105845718  -44576485                 2  \n",
       "18725   140233331  104294832  -35938498                 2  \n",
       "19031   230250520  203387006  -26863513                 2  "
      ]
     },
     "execution_count": 21,
     "metadata": {},
     "output_type": "execute_result"
    }
   ],
   "source": [
    "da[\n",
    "#    (da['#endpoints']==2) &\n",
    "    (da['var_len']<0)].drop_duplicates('variant')"
   ]
  },
  {
   "cell_type": "code",
   "execution_count": 22,
   "metadata": {},
   "outputs": [
    {
     "data": {
      "text/plain": [
       "14683"
      ]
     },
     "execution_count": 22,
     "metadata": {},
     "output_type": "execute_result"
    }
   ],
   "source": [
    "da = da[da['var_len']>=0].copy()\n",
    "len(da)"
   ]
  },
  {
   "cell_type": "markdown",
   "metadata": {},
   "source": [
    "## Compute copy number/ranges for each variant"
   ]
  },
  {
   "cell_type": "code",
   "execution_count": 23,
   "metadata": {},
   "outputs": [],
   "source": [
    "da['copy_number'] = da['variant'].apply(lambda v: re.findall(r\"\\) ?x?[ ]?([\\d~\\-]*)\",v)[0])\n",
    "da['copy_number_min'] = da['copy_number'].apply(lambda x: int(x[0]))\n",
    "da['copy_number_max'] = da['copy_number'].apply(lambda x: int(x[-1]))"
   ]
  },
  {
   "cell_type": "markdown",
   "metadata": {},
   "source": [
    "### Check copy number values"
   ]
  },
  {
   "cell_type": "code",
   "execution_count": 24,
   "metadata": {},
   "outputs": [
    {
     "data": {
      "text/plain": [
       "['0',\n",
       " '0-2',\n",
       " '0~1',\n",
       " '1',\n",
       " '1-2',\n",
       " '1~2',\n",
       " '1~3',\n",
       " '2',\n",
       " '2-3',\n",
       " '2~3',\n",
       " '3',\n",
       " '3~4',\n",
       " '4',\n",
       " '4~5',\n",
       " '5~6']"
      ]
     },
     "execution_count": 24,
     "metadata": {},
     "output_type": "execute_result"
    }
   ],
   "source": [
    "sorted(set(da['copy_number']))"
   ]
  },
  {
   "cell_type": "code",
   "execution_count": 25,
   "metadata": {},
   "outputs": [
    {
     "data": {
      "text/plain": [
       "[0, 1, 2, 3, 4, 5]"
      ]
     },
     "execution_count": 25,
     "metadata": {},
     "output_type": "execute_result"
    }
   ],
   "source": [
    "sorted(set(da['copy_number_min']))"
   ]
  },
  {
   "cell_type": "code",
   "execution_count": 26,
   "metadata": {},
   "outputs": [
    {
     "data": {
      "text/plain": [
       "[0, 1, 2, 3, 4, 5, 6]"
      ]
     },
     "execution_count": 26,
     "metadata": {},
     "output_type": "execute_result"
    }
   ],
   "source": [
    "sorted(set(da['copy_number_max']))"
   ]
  },
  {
   "cell_type": "markdown",
   "metadata": {},
   "source": [
    "### Regions of Homozygosity (\"hmz\") variants not to be considered in this analysis\n",
    "#### How many variants in our data with CN=2 are autosomal and not regions of homozygosity?"
   ]
  },
  {
   "cell_type": "code",
   "execution_count": 27,
   "metadata": {},
   "outputs": [],
   "source": [
    "da['region_of_homozygosity'] = da['variant'].str.contains('hmz')"
   ]
  },
  {
   "cell_type": "code",
   "execution_count": 28,
   "metadata": {},
   "outputs": [
    {
     "data": {
      "text/plain": [
       "False    9017\n",
       "True     5666\n",
       "Name: region_of_homozygosity, dtype: int64"
      ]
     },
     "execution_count": 28,
     "metadata": {},
     "output_type": "execute_result"
    }
   ],
   "source": [
    "da['region_of_homozygosity'].value_counts()"
   ]
  },
  {
   "cell_type": "code",
   "execution_count": 29,
   "metadata": {},
   "outputs": [
    {
     "data": {
      "text/plain": [
       "9017"
      ]
     },
     "execution_count": 29,
     "metadata": {},
     "output_type": "execute_result"
    }
   ],
   "source": [
    "da = da[da['region_of_homozygosity']==False].copy()\n",
    "len(da)"
   ]
  },
  {
   "cell_type": "code",
   "execution_count": 30,
   "metadata": {},
   "outputs": [
    {
     "data": {
      "text/html": [
       "<div>\n",
       "<style scoped>\n",
       "    .dataframe tbody tr th:only-of-type {\n",
       "        vertical-align: middle;\n",
       "    }\n",
       "\n",
       "    .dataframe tbody tr th {\n",
       "        vertical-align: top;\n",
       "    }\n",
       "\n",
       "    .dataframe thead th {\n",
       "        text-align: right;\n",
       "    }\n",
       "</style>\n",
       "<table border=\"1\" class=\"dataframe\">\n",
       "  <thead>\n",
       "    <tr style=\"text-align: right;\">\n",
       "      <th></th>\n",
       "      <th>variant</th>\n",
       "      <th>build</th>\n",
       "      <th>chromosome</th>\n",
       "      <th>start</th>\n",
       "      <th>stop</th>\n",
       "      <th>var_len</th>\n",
       "      <th>#position_values</th>\n",
       "      <th>copy_number</th>\n",
       "      <th>copy_number_min</th>\n",
       "      <th>copy_number_max</th>\n",
       "      <th>region_of_homozygosity</th>\n",
       "    </tr>\n",
       "  </thead>\n",
       "  <tbody>\n",
       "    <tr>\n",
       "      <th>122</th>\n",
       "      <td>2p13.2p12(73227186_79042754)x2</td>\n",
       "      <td>GRCh37</td>\n",
       "      <td>2</td>\n",
       "      <td>73227186</td>\n",
       "      <td>79042754</td>\n",
       "      <td>5815569</td>\n",
       "      <td>2</td>\n",
       "      <td>2</td>\n",
       "      <td>2</td>\n",
       "      <td>2</td>\n",
       "      <td>False</td>\n",
       "    </tr>\n",
       "    <tr>\n",
       "      <th>4122</th>\n",
       "      <td>7p22.2p12.3(3,264,728-46,071,829)x2</td>\n",
       "      <td>GRCh38</td>\n",
       "      <td>7</td>\n",
       "      <td>3264728</td>\n",
       "      <td>46071829</td>\n",
       "      <td>42807102</td>\n",
       "      <td>2</td>\n",
       "      <td>2</td>\n",
       "      <td>2</td>\n",
       "      <td>2</td>\n",
       "      <td>False</td>\n",
       "    </tr>\n",
       "    <tr>\n",
       "      <th>4396</th>\n",
       "      <td>3p25.3p24.1(10,514,008-29,532,824)x2</td>\n",
       "      <td>GRCh38</td>\n",
       "      <td>3</td>\n",
       "      <td>10514008</td>\n",
       "      <td>29532824</td>\n",
       "      <td>19018817</td>\n",
       "      <td>2</td>\n",
       "      <td>2</td>\n",
       "      <td>2</td>\n",
       "      <td>2</td>\n",
       "      <td>False</td>\n",
       "    </tr>\n",
       "    <tr>\n",
       "      <th>5301</th>\n",
       "      <td>8q12.3q21.13(64,242,384-83,258,323)x2</td>\n",
       "      <td>GRCh38</td>\n",
       "      <td>8</td>\n",
       "      <td>64242384</td>\n",
       "      <td>83258323</td>\n",
       "      <td>19015940</td>\n",
       "      <td>2</td>\n",
       "      <td>2</td>\n",
       "      <td>2</td>\n",
       "      <td>2</td>\n",
       "      <td>False</td>\n",
       "    </tr>\n",
       "    <tr>\n",
       "      <th>5329</th>\n",
       "      <td>20q11.21q13.2(29,991,219-50,728,172)x2</td>\n",
       "      <td>GRCh38</td>\n",
       "      <td>20</td>\n",
       "      <td>29991219</td>\n",
       "      <td>50728172</td>\n",
       "      <td>20736954</td>\n",
       "      <td>2</td>\n",
       "      <td>2</td>\n",
       "      <td>2</td>\n",
       "      <td>2</td>\n",
       "      <td>False</td>\n",
       "    </tr>\n",
       "    <tr>\n",
       "      <th>5341</th>\n",
       "      <td>10p15.3p15.1(307,807-5,146,667)x2</td>\n",
       "      <td>GRCh38</td>\n",
       "      <td>10</td>\n",
       "      <td>307807</td>\n",
       "      <td>5146667</td>\n",
       "      <td>4838861</td>\n",
       "      <td>2</td>\n",
       "      <td>2</td>\n",
       "      <td>2</td>\n",
       "      <td>2</td>\n",
       "      <td>False</td>\n",
       "    </tr>\n",
       "    <tr>\n",
       "      <th>7192</th>\n",
       "      <td>2q11.2q12.2(98703659_106160498)x2</td>\n",
       "      <td>GRCh37</td>\n",
       "      <td>2</td>\n",
       "      <td>98703659</td>\n",
       "      <td>106160498</td>\n",
       "      <td>7456840</td>\n",
       "      <td>2</td>\n",
       "      <td>2</td>\n",
       "      <td>2</td>\n",
       "      <td>2</td>\n",
       "      <td>False</td>\n",
       "    </tr>\n",
       "    <tr>\n",
       "      <th>7595</th>\n",
       "      <td>12q23.3q24.31(108904090_124118489)x2</td>\n",
       "      <td>GRCh37</td>\n",
       "      <td>12</td>\n",
       "      <td>108904090</td>\n",
       "      <td>124118489</td>\n",
       "      <td>15214400</td>\n",
       "      <td>2</td>\n",
       "      <td>2</td>\n",
       "      <td>2</td>\n",
       "      <td>2</td>\n",
       "      <td>False</td>\n",
       "    </tr>\n",
       "    <tr>\n",
       "      <th>15220</th>\n",
       "      <td>11q24.1(122,984,093-123,106,251)x2</td>\n",
       "      <td>GRCh37</td>\n",
       "      <td>11</td>\n",
       "      <td>122984093</td>\n",
       "      <td>123106251</td>\n",
       "      <td>122159</td>\n",
       "      <td>2</td>\n",
       "      <td>2</td>\n",
       "      <td>2</td>\n",
       "      <td>2</td>\n",
       "      <td>False</td>\n",
       "    </tr>\n",
       "    <tr>\n",
       "      <th>15416</th>\n",
       "      <td>6q21q22.3(114,543,815-129,022,028)x2</td>\n",
       "      <td>GRCh38</td>\n",
       "      <td>6</td>\n",
       "      <td>114543815</td>\n",
       "      <td>129022028</td>\n",
       "      <td>14478214</td>\n",
       "      <td>2</td>\n",
       "      <td>2</td>\n",
       "      <td>2</td>\n",
       "      <td>2</td>\n",
       "      <td>False</td>\n",
       "    </tr>\n",
       "    <tr>\n",
       "      <th>15417</th>\n",
       "      <td>7p12.3p11.2(46,591,048-57,560,040)x2</td>\n",
       "      <td>GRCh38</td>\n",
       "      <td>7</td>\n",
       "      <td>46591048</td>\n",
       "      <td>57560040</td>\n",
       "      <td>10968993</td>\n",
       "      <td>2</td>\n",
       "      <td>2</td>\n",
       "      <td>2</td>\n",
       "      <td>2</td>\n",
       "      <td>False</td>\n",
       "    </tr>\n",
       "    <tr>\n",
       "      <th>15418</th>\n",
       "      <td>6q21q22.3(114,543,815-129,059,691)x2</td>\n",
       "      <td>GRCh38</td>\n",
       "      <td>6</td>\n",
       "      <td>114543815</td>\n",
       "      <td>129059691</td>\n",
       "      <td>14515877</td>\n",
       "      <td>2</td>\n",
       "      <td>2</td>\n",
       "      <td>2</td>\n",
       "      <td>2</td>\n",
       "      <td>False</td>\n",
       "    </tr>\n",
       "    <tr>\n",
       "      <th>15419</th>\n",
       "      <td>7p12.3p11.2(46,591,048-57,487,634)x2</td>\n",
       "      <td>GRCh38</td>\n",
       "      <td>7</td>\n",
       "      <td>46591048</td>\n",
       "      <td>57487634</td>\n",
       "      <td>10896587</td>\n",
       "      <td>2</td>\n",
       "      <td>2</td>\n",
       "      <td>2</td>\n",
       "      <td>2</td>\n",
       "      <td>False</td>\n",
       "    </tr>\n",
       "    <tr>\n",
       "      <th>15958</th>\n",
       "      <td>13q12.2q13.3(28,249,648-37,209,815)x2</td>\n",
       "      <td>GRCh38</td>\n",
       "      <td>13</td>\n",
       "      <td>28249648</td>\n",
       "      <td>37209815</td>\n",
       "      <td>8960168</td>\n",
       "      <td>2</td>\n",
       "      <td>2</td>\n",
       "      <td>2</td>\n",
       "      <td>2</td>\n",
       "      <td>False</td>\n",
       "    </tr>\n",
       "    <tr>\n",
       "      <th>15965</th>\n",
       "      <td>13q12.2q13.3(28,249,648-37,113,666)x2</td>\n",
       "      <td>GRCh38</td>\n",
       "      <td>13</td>\n",
       "      <td>28249648</td>\n",
       "      <td>37113666</td>\n",
       "      <td>8864019</td>\n",
       "      <td>2</td>\n",
       "      <td>2</td>\n",
       "      <td>2</td>\n",
       "      <td>2</td>\n",
       "      <td>False</td>\n",
       "    </tr>\n",
       "    <tr>\n",
       "      <th>16686</th>\n",
       "      <td>13q13.2q21.31(34,898,501-65,337,816)x2</td>\n",
       "      <td>GRCh38</td>\n",
       "      <td>13</td>\n",
       "      <td>34898501</td>\n",
       "      <td>65337816</td>\n",
       "      <td>30439316</td>\n",
       "      <td>2</td>\n",
       "      <td>2</td>\n",
       "      <td>2</td>\n",
       "      <td>2</td>\n",
       "      <td>False</td>\n",
       "    </tr>\n",
       "    <tr>\n",
       "      <th>16695</th>\n",
       "      <td>13q13.2q21.31(34,898,501-65,301,754)x2</td>\n",
       "      <td>GRCh38</td>\n",
       "      <td>13</td>\n",
       "      <td>34898501</td>\n",
       "      <td>65301754</td>\n",
       "      <td>30403254</td>\n",
       "      <td>2</td>\n",
       "      <td>2</td>\n",
       "      <td>2</td>\n",
       "      <td>2</td>\n",
       "      <td>False</td>\n",
       "    </tr>\n",
       "  </tbody>\n",
       "</table>\n",
       "</div>"
      ],
      "text/plain": [
       "                                      variant   build chromosome      start  \\\n",
       "122            2p13.2p12(73227186_79042754)x2  GRCh37          2   73227186   \n",
       "4122      7p22.2p12.3(3,264,728-46,071,829)x2  GRCh38          7    3264728   \n",
       "4396     3p25.3p24.1(10,514,008-29,532,824)x2  GRCh38          3   10514008   \n",
       "5301    8q12.3q21.13(64,242,384-83,258,323)x2  GRCh38          8   64242384   \n",
       "5329   20q11.21q13.2(29,991,219-50,728,172)x2  GRCh38         20   29991219   \n",
       "5341        10p15.3p15.1(307,807-5,146,667)x2  GRCh38         10     307807   \n",
       "7192        2q11.2q12.2(98703659_106160498)x2  GRCh37          2   98703659   \n",
       "7595     12q23.3q24.31(108904090_124118489)x2  GRCh37         12  108904090   \n",
       "15220      11q24.1(122,984,093-123,106,251)x2  GRCh37         11  122984093   \n",
       "15416    6q21q22.3(114,543,815-129,022,028)x2  GRCh38          6  114543815   \n",
       "15417    7p12.3p11.2(46,591,048-57,560,040)x2  GRCh38          7   46591048   \n",
       "15418    6q21q22.3(114,543,815-129,059,691)x2  GRCh38          6  114543815   \n",
       "15419    7p12.3p11.2(46,591,048-57,487,634)x2  GRCh38          7   46591048   \n",
       "15958   13q12.2q13.3(28,249,648-37,209,815)x2  GRCh38         13   28249648   \n",
       "15965   13q12.2q13.3(28,249,648-37,113,666)x2  GRCh38         13   28249648   \n",
       "16686  13q13.2q21.31(34,898,501-65,337,816)x2  GRCh38         13   34898501   \n",
       "16695  13q13.2q21.31(34,898,501-65,301,754)x2  GRCh38         13   34898501   \n",
       "\n",
       "            stop   var_len  #position_values copy_number  copy_number_min  \\\n",
       "122     79042754   5815569                 2           2                2   \n",
       "4122    46071829  42807102                 2           2                2   \n",
       "4396    29532824  19018817                 2           2                2   \n",
       "5301    83258323  19015940                 2           2                2   \n",
       "5329    50728172  20736954                 2           2                2   \n",
       "5341     5146667   4838861                 2           2                2   \n",
       "7192   106160498   7456840                 2           2                2   \n",
       "7595   124118489  15214400                 2           2                2   \n",
       "15220  123106251    122159                 2           2                2   \n",
       "15416  129022028  14478214                 2           2                2   \n",
       "15417   57560040  10968993                 2           2                2   \n",
       "15418  129059691  14515877                 2           2                2   \n",
       "15419   57487634  10896587                 2           2                2   \n",
       "15958   37209815   8960168                 2           2                2   \n",
       "15965   37113666   8864019                 2           2                2   \n",
       "16686   65337816  30439316                 2           2                2   \n",
       "16695   65301754  30403254                 2           2                2   \n",
       "\n",
       "       copy_number_max  region_of_homozygosity  \n",
       "122                  2                   False  \n",
       "4122                 2                   False  \n",
       "4396                 2                   False  \n",
       "5301                 2                   False  \n",
       "5329                 2                   False  \n",
       "5341                 2                   False  \n",
       "7192                 2                   False  \n",
       "7595                 2                   False  \n",
       "15220                2                   False  \n",
       "15416                2                   False  \n",
       "15417                2                   False  \n",
       "15418                2                   False  \n",
       "15419                2                   False  \n",
       "15958                2                   False  \n",
       "15965                2                   False  \n",
       "16686                2                   False  \n",
       "16695                2                   False  "
      ]
     },
     "execution_count": 30,
     "metadata": {},
     "output_type": "execute_result"
    }
   ],
   "source": [
    "da[\n",
    "    (da['copy_number']=='2') &\n",
    "    (~da['chromosome'].isin(['X','Y']))\n",
    "]"
   ]
  },
  {
   "cell_type": "markdown",
   "metadata": {},
   "source": [
    "#### After inspection of orginal reports, it appears that these are all actually regions of homozygosity and minor typos/defects in regex matching strategy caused them not to be recognized as such\n",
    "* \"hmm\" instead of \"hmz\"\n",
    "* \",\" between \"x2\" and rest of variant, but \",\" was used as a tokenizing character between variant strings"
   ]
  },
  {
   "cell_type": "code",
   "execution_count": 31,
   "metadata": {},
   "outputs": [
    {
     "data": {
      "text/plain": [
       "9000"
      ]
     },
     "execution_count": 31,
     "metadata": {},
     "output_type": "execute_result"
    }
   ],
   "source": [
    "da = da[\n",
    "    (da['copy_number']!='2') |\n",
    "    (da['chromosome'].isin(['X','Y']))\n",
    "].copy()\n",
    "len(da)"
   ]
  },
  {
   "cell_type": "markdown",
   "metadata": {},
   "source": [
    "### Remove any variants in build GRCh36"
   ]
  },
  {
   "cell_type": "code",
   "execution_count": 32,
   "metadata": {},
   "outputs": [
    {
     "data": {
      "text/plain": [
       "8989"
      ]
     },
     "execution_count": 32,
     "metadata": {},
     "output_type": "execute_result"
    }
   ],
   "source": [
    "da = da[da['build'].isin(['GRCh37','GRCh38'])]\n",
    "len(da)"
   ]
  },
  {
   "cell_type": "code",
   "execution_count": 33,
   "metadata": {},
   "outputs": [],
   "source": [
    "da = da.reset_index()\n",
    "del da['index']"
   ]
  },
  {
   "cell_type": "markdown",
   "metadata": {},
   "source": [
    "# Normalize NCH CNV Data"
   ]
  },
  {
   "cell_type": "code",
   "execution_count": 27,
   "metadata": {},
   "outputs": [],
   "source": [
    "endpoint_cn = \"http://variation-normalization-dev-eb.us-east-2.elasticbeanstalk.com/variation/parsed_to_cn_var?\""
   ]
  },
  {
   "cell_type": "code",
   "execution_count": 28,
   "metadata": {},
   "outputs": [
    {
     "data": {
      "application/vnd.jupyter.widget-view+json": {
       "model_id": "cacc223f3d02461693cc427175edea32",
       "version_major": 2,
       "version_minor": 0
      },
      "text/plain": [
       "  0%|          | 0/8989 [00:00<?, ?it/s]"
      ]
     },
     "metadata": {},
     "output_type": "display_data"
    }
   ],
   "source": [
    "norm_responses = []\n",
    "for ix,cnv in tqdm(da.iterrows(), total=len(da)):\n",
    "    args = {\n",
    "        'assembly': cnv['build'],\n",
    "        'chromosome': f\"chr{cnv['chromosome']}\",\n",
    "        'start0': int(cnv['start']),\n",
    "        'start_pos_type': 'Number',\n",
    "        'end0': int(cnv['stop']),\n",
    "        'end_pos_type': 'Number'\n",
    "    }\n",
    "    if cnv['copy_number_min'] == cnv['copy_number_max']:\n",
    "        args['copies0'] = int(cnv['copy_number_min'])\n",
    "        args['copies_type'] = 'Number'\n",
    "    else:\n",
    "        args['copies0'] = int(cnv['copy_number_min'])\n",
    "        args['copies1'] = int(cnv['copy_number_max'])\n",
    "        args['copies_type'] = 'DefiniteRange'\n",
    "        \n",
    "    args['do_liftover'] = True\n",
    "    args['untranslatable_returns_text'] = False\n",
    "\n",
    "    rec = dict(cnv)\n",
    "    rec.update(requests.post(endpoint_cn, json=args).json())\n",
    "    norm_responses.append(rec)"
   ]
  },
  {
   "cell_type": "code",
   "execution_count": 29,
   "metadata": {},
   "outputs": [],
   "source": [
    "with open('NCH-normalizer-results.json', 'w') as f:\n",
    "    json.dump(norm_responses, f)"
   ]
  },
  {
   "cell_type": "code",
   "execution_count": 30,
   "metadata": {},
   "outputs": [
    {
     "data": {
      "text/html": [
       "<div>\n",
       "<style scoped>\n",
       "    .dataframe tbody tr th:only-of-type {\n",
       "        vertical-align: middle;\n",
       "    }\n",
       "\n",
       "    .dataframe tbody tr th {\n",
       "        vertical-align: top;\n",
       "    }\n",
       "\n",
       "    .dataframe thead th {\n",
       "        text-align: right;\n",
       "    }\n",
       "</style>\n",
       "<table border=\"1\" class=\"dataframe\">\n",
       "  <thead>\n",
       "    <tr style=\"text-align: right;\">\n",
       "      <th></th>\n",
       "      <th>variant</th>\n",
       "      <th>build</th>\n",
       "      <th>chromosome</th>\n",
       "      <th>start</th>\n",
       "      <th>stop</th>\n",
       "      <th>var_len</th>\n",
       "      <th>#position_values</th>\n",
       "      <th>copy_number</th>\n",
       "      <th>copy_number_min</th>\n",
       "      <th>copy_number_max</th>\n",
       "      <th>...</th>\n",
       "      <th>copy_number_count.subject.sequence_id</th>\n",
       "      <th>copy_number_count.subject.start.type</th>\n",
       "      <th>copy_number_count.subject.start.value</th>\n",
       "      <th>copy_number_count.subject.end.type</th>\n",
       "      <th>copy_number_count.subject.end.value</th>\n",
       "      <th>copy_number_count.copies.type</th>\n",
       "      <th>copy_number_count.copies.value</th>\n",
       "      <th>copy_number_count.copies.min</th>\n",
       "      <th>copy_number_count.copies.max</th>\n",
       "      <th>copy_number_count</th>\n",
       "    </tr>\n",
       "  </thead>\n",
       "  <tbody>\n",
       "    <tr>\n",
       "      <th>0</th>\n",
       "      <td>22q11.21q11.23(21798705_23751189)x3</td>\n",
       "      <td>GRCh37</td>\n",
       "      <td>22</td>\n",
       "      <td>21798705</td>\n",
       "      <td>23751189</td>\n",
       "      <td>1952485</td>\n",
       "      <td>2</td>\n",
       "      <td>3</td>\n",
       "      <td>3</td>\n",
       "      <td>3</td>\n",
       "      <td>...</td>\n",
       "      <td>ga4gh:SQ.7B7SHsmchAR0dFcDCuSFjJAo7tX87krQ</td>\n",
       "      <td>Number</td>\n",
       "      <td>21444415.0</td>\n",
       "      <td>Number</td>\n",
       "      <td>23409002.0</td>\n",
       "      <td>Number</td>\n",
       "      <td>3.0</td>\n",
       "      <td>NaN</td>\n",
       "      <td>NaN</td>\n",
       "      <td>NaN</td>\n",
       "    </tr>\n",
       "    <tr>\n",
       "      <th>1</th>\n",
       "      <td>7q35(146581450_146661741)x3</td>\n",
       "      <td>GRCh37</td>\n",
       "      <td>7</td>\n",
       "      <td>146581450</td>\n",
       "      <td>146661741</td>\n",
       "      <td>80292</td>\n",
       "      <td>2</td>\n",
       "      <td>3</td>\n",
       "      <td>3</td>\n",
       "      <td>3</td>\n",
       "      <td>...</td>\n",
       "      <td>ga4gh:SQ.F-LrLMe1SRpfUZHkQmvkVKFEGaoDeHul</td>\n",
       "      <td>Number</td>\n",
       "      <td>146884357.0</td>\n",
       "      <td>Number</td>\n",
       "      <td>146964649.0</td>\n",
       "      <td>Number</td>\n",
       "      <td>3.0</td>\n",
       "      <td>NaN</td>\n",
       "      <td>NaN</td>\n",
       "      <td>NaN</td>\n",
       "    </tr>\n",
       "    <tr>\n",
       "      <th>2</th>\n",
       "      <td>18p11.32(146484_408044)x1</td>\n",
       "      <td>GRCh37</td>\n",
       "      <td>18</td>\n",
       "      <td>146484</td>\n",
       "      <td>408044</td>\n",
       "      <td>261561</td>\n",
       "      <td>2</td>\n",
       "      <td>1</td>\n",
       "      <td>1</td>\n",
       "      <td>1</td>\n",
       "      <td>...</td>\n",
       "      <td>ga4gh:SQ.vWwFhJ5lQDMhh-czg06YtlWqu0lvFAZV</td>\n",
       "      <td>Number</td>\n",
       "      <td>146483.0</td>\n",
       "      <td>Number</td>\n",
       "      <td>408044.0</td>\n",
       "      <td>Number</td>\n",
       "      <td>1.0</td>\n",
       "      <td>NaN</td>\n",
       "      <td>NaN</td>\n",
       "      <td>NaN</td>\n",
       "    </tr>\n",
       "    <tr>\n",
       "      <th>3</th>\n",
       "      <td>3q25.1(150353937_150944378)x1</td>\n",
       "      <td>GRCh37</td>\n",
       "      <td>3</td>\n",
       "      <td>150353937</td>\n",
       "      <td>150944378</td>\n",
       "      <td>590442</td>\n",
       "      <td>2</td>\n",
       "      <td>1</td>\n",
       "      <td>1</td>\n",
       "      <td>1</td>\n",
       "      <td>...</td>\n",
       "      <td>ga4gh:SQ.Zu7h9AggXxhTaGVsy7h_EZSChSZGcmgX</td>\n",
       "      <td>Number</td>\n",
       "      <td>150636149.0</td>\n",
       "      <td>Number</td>\n",
       "      <td>151226590.0</td>\n",
       "      <td>Number</td>\n",
       "      <td>1.0</td>\n",
       "      <td>NaN</td>\n",
       "      <td>NaN</td>\n",
       "      <td>NaN</td>\n",
       "    </tr>\n",
       "    <tr>\n",
       "      <th>4</th>\n",
       "      <td>16p12.1(27864452_27995317)x3</td>\n",
       "      <td>GRCh37</td>\n",
       "      <td>16</td>\n",
       "      <td>27864452</td>\n",
       "      <td>27995317</td>\n",
       "      <td>130866</td>\n",
       "      <td>2</td>\n",
       "      <td>3</td>\n",
       "      <td>3</td>\n",
       "      <td>3</td>\n",
       "      <td>...</td>\n",
       "      <td>ga4gh:SQ.yC_0RBj3fgBlvgyAuycbzdubtLxq-rE0</td>\n",
       "      <td>Number</td>\n",
       "      <td>27853130.0</td>\n",
       "      <td>Number</td>\n",
       "      <td>27983996.0</td>\n",
       "      <td>Number</td>\n",
       "      <td>3.0</td>\n",
       "      <td>NaN</td>\n",
       "      <td>NaN</td>\n",
       "      <td>NaN</td>\n",
       "    </tr>\n",
       "  </tbody>\n",
       "</table>\n",
       "<p>5 rows × 30 columns</p>\n",
       "</div>"
      ],
      "text/plain": [
       "                               variant   build chromosome      start  \\\n",
       "0  22q11.21q11.23(21798705_23751189)x3  GRCh37         22   21798705   \n",
       "1          7q35(146581450_146661741)x3  GRCh37          7  146581450   \n",
       "2            18p11.32(146484_408044)x1  GRCh37         18     146484   \n",
       "3        3q25.1(150353937_150944378)x1  GRCh37          3  150353937   \n",
       "4         16p12.1(27864452_27995317)x3  GRCh37         16   27864452   \n",
       "\n",
       "        stop  var_len  #position_values copy_number  copy_number_min  \\\n",
       "0   23751189  1952485                 2           3                3   \n",
       "1  146661741    80292                 2           3                3   \n",
       "2     408044   261561                 2           1                1   \n",
       "3  150944378   590442                 2           1                1   \n",
       "4   27995317   130866                 2           3                3   \n",
       "\n",
       "   copy_number_max  ...      copy_number_count.subject.sequence_id  \\\n",
       "0                3  ...  ga4gh:SQ.7B7SHsmchAR0dFcDCuSFjJAo7tX87krQ   \n",
       "1                3  ...  ga4gh:SQ.F-LrLMe1SRpfUZHkQmvkVKFEGaoDeHul   \n",
       "2                1  ...  ga4gh:SQ.vWwFhJ5lQDMhh-czg06YtlWqu0lvFAZV   \n",
       "3                1  ...  ga4gh:SQ.Zu7h9AggXxhTaGVsy7h_EZSChSZGcmgX   \n",
       "4                3  ...  ga4gh:SQ.yC_0RBj3fgBlvgyAuycbzdubtLxq-rE0   \n",
       "\n",
       "  copy_number_count.subject.start.type copy_number_count.subject.start.value  \\\n",
       "0                               Number                            21444415.0   \n",
       "1                               Number                           146884357.0   \n",
       "2                               Number                              146483.0   \n",
       "3                               Number                           150636149.0   \n",
       "4                               Number                            27853130.0   \n",
       "\n",
       "  copy_number_count.subject.end.type copy_number_count.subject.end.value  \\\n",
       "0                             Number                          23409002.0   \n",
       "1                             Number                         146964649.0   \n",
       "2                             Number                            408044.0   \n",
       "3                             Number                         151226590.0   \n",
       "4                             Number                          27983996.0   \n",
       "\n",
       "  copy_number_count.copies.type copy_number_count.copies.value  \\\n",
       "0                        Number                            3.0   \n",
       "1                        Number                            3.0   \n",
       "2                        Number                            1.0   \n",
       "3                        Number                            1.0   \n",
       "4                        Number                            3.0   \n",
       "\n",
       "  copy_number_count.copies.min copy_number_count.copies.max copy_number_count  \n",
       "0                          NaN                          NaN               NaN  \n",
       "1                          NaN                          NaN               NaN  \n",
       "2                          NaN                          NaN               NaN  \n",
       "3                          NaN                          NaN               NaN  \n",
       "4                          NaN                          NaN               NaN  \n",
       "\n",
       "[5 rows x 30 columns]"
      ]
     },
     "execution_count": 30,
     "metadata": {},
     "output_type": "execute_result"
    }
   ],
   "source": [
    "dr = pd.json_normalize(norm_responses)\n",
    "dr.head()"
   ]
  },
  {
   "cell_type": "code",
   "execution_count": 31,
   "metadata": {},
   "outputs": [],
   "source": [
    "dr['warning_string'] = dr['warnings'].apply(';'.join)"
   ]
  },
  {
   "cell_type": "code",
   "execution_count": 32,
   "metadata": {},
   "outputs": [],
   "source": [
    "def reduce_warning(warning):\n",
    "    warning = re.sub('ga4gh\\:SQ\\.[A-Za-z0-9\\-\\_]+','ga4gh:SQ.*',warning)\n",
    "    warning = re.sub('chr[XY\\d]+','chr#',warning)\n",
    "    warning = re.sub('\\(\\d+\\)','#',warning)\n",
    "    warning = re.sub('pos \\d+','pos #',warning)\n",
    "    \n",
    "    return warning"
   ]
  },
  {
   "cell_type": "code",
   "execution_count": 33,
   "metadata": {},
   "outputs": [
    {
     "data": {
      "text/plain": [
       "                                         8718\n",
       "Unable to liftover: chr# with pos #       208\n",
       "Position # is not valid on ga4gh:SQ.*      63\n",
       "Name: warning_string_reduce, dtype: int64"
      ]
     },
     "execution_count": 33,
     "metadata": {},
     "output_type": "execute_result"
    }
   ],
   "source": [
    "dr['warning_string_reduce'] = dr['warning_string'].apply(reduce_warning)\n",
    "dr['warning_string_reduce'].value_counts()"
   ]
  },
  {
   "cell_type": "code",
   "execution_count": 134,
   "metadata": {},
   "outputs": [],
   "source": [
    "### get the normalized lifted over coordinates\n",
    "da['start_38'] = dr['copy_number_count.subject.start.value']\n",
    "da['stop_38'] = dr['copy_number_count.subject.end.value']"
   ]
  },
  {
   "cell_type": "code",
   "execution_count": 142,
   "metadata": {},
   "outputs": [],
   "source": [
    "### restrict to variants with valid normalized position\n",
    "da = da[da['start_38'].notna() & da['stop_38'].notna()].copy()\n",
    "da['start_38'] = da['start_38'].astype(int)\n",
    "da['stop_38'] = da['stop_38'].astype(int)"
   ]
  },
  {
   "cell_type": "code",
   "execution_count": 143,
   "metadata": {},
   "outputs": [
    {
     "data": {
      "text/plain": [
       "8718"
      ]
     },
     "execution_count": 143,
     "metadata": {},
     "output_type": "execute_result"
    }
   ],
   "source": [
    "len(da)"
   ]
  },
  {
   "cell_type": "code",
   "execution_count": 144,
   "metadata": {},
   "outputs": [],
   "source": [
    "da[['variant','build','chromosome','start','stop','start_38','stop_38','copy_number','copy_number_min','copy_number_max']].to_csv('NCH-microarray-CNVs-cleaned.csv',index=False)"
   ]
  }
 ],
 "metadata": {
  "kernelspec": {
   "display_name": "Python 3 (ipykernel)",
   "language": "python",
   "name": "python3"
  },
  "language_info": {
   "codemirror_mode": {
    "name": "ipython",
    "version": 3
   },
   "file_extension": ".py",
   "mimetype": "text/x-python",
   "name": "python",
   "nbconvert_exporter": "python",
   "pygments_lexer": "ipython3",
   "version": "3.8.8"
  }
 },
 "nbformat": 4,
 "nbformat_minor": 4
}
