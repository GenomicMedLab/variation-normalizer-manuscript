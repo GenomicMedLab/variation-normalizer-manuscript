{
 "cells": [
  {
   "cell_type": "markdown",
   "metadata": {},
   "source": [
    "# <a id='toc1_'></a>[Merged notebooks for Not Supported CIViC and MOA evidence (assertion analysis)](#toc0_)"
   ]
  },
  {
   "cell_type": "markdown",
   "metadata": {},
   "source": [
    "**Table of contents**<a id='toc0_'></a>    \n",
    "- [Merged notebooks for Not Supported CIViC and MOA evidence (assertion analysis)](#toc1_)    \n",
    "    - [Create output directory](#toc1_1_1_)    \n",
    "  - [Merge CIViC and MOA Summary Variant Dataframes](#toc1_2_)    \n",
    "    - [Summary Table 1](#toc1_2_1_)    \n",
    "    - [Building Summary Table 2](#toc1_2_2_)    \n",
    "    - [Summary Table 2](#toc1_2_3_)    \n",
    "    - [Building Summary Table 3](#toc1_2_4_)    \n",
    "    - [Summary Table 3](#toc1_2_5_)    \n",
    "    - [Building Summary Table 4](#toc1_2_6_)    \n",
    "    - [Summary Table 4](#toc1_2_7_)    \n",
    "    - [Building Summary Table 5](#toc1_2_8_)    \n",
    "    - [Summary Table 5](#toc1_2_9_)    \n",
    "    - [Building Summary Table 6](#toc1_2_10_)    \n",
    "    - [Summary Table 6](#toc1_2_11_)    \n",
    "  - [Merge CIViC and MOA Summary Evidence Dataframes](#toc1_3_)    \n",
    "    - [Summary Table 7](#toc1_3_1_)    \n",
    "    - [Building Summary Table 8](#toc1_3_2_)    \n",
    "    - [Summary Table 8](#toc1_3_3_)    \n",
    "    - [Building Summary Table 9](#toc1_3_4_)    \n",
    "    - [Summary Table 9](#toc1_3_5_)    \n",
    "    - [Building Summary Table 10](#toc1_3_6_)    \n",
    "    - [Summary Table 10](#toc1_3_7_)    \n",
    "    - [Building Summary Table 11](#toc1_3_8_)    \n",
    "    - [Summary Table 11](#toc1_3_9_)    \n",
    "    - [Building Summary Table 12](#toc1_3_10_)    \n",
    "    - [Summary Table 12](#toc1_3_11_)    \n",
    "  - [Merge CIViC and MOA Summary Impact Dataframes](#toc1_4_)    \n",
    "    - [Building Summary Table 13 & 14](#toc1_4_1_)    \n",
    "    - [Summary Table 13](#toc1_4_2_)    \n",
    "    - [Summary Table 14](#toc1_4_3_)    \n",
    "  - [Builidng Scatterpie plot](#toc1_5_)    \n",
    "    - [Merge aspects of the dataframe (number of evidence items, variants, impact score)](#toc1_5_1_)    \n",
    "    - [Calculate the ratio of features/variants that come from MOA](#toc1_5_2_)    \n",
    "  - [Building Parallel Impact Plot](#toc1_6_)    \n",
    "\n",
    "<!-- vscode-jupyter-toc-config\n",
    "\tnumbering=false\n",
    "\tanchor=true\n",
    "\tflat=false\n",
    "\tminLevel=1\n",
    "\tmaxLevel=6\n",
    "\t/vscode-jupyter-toc-config -->\n",
    "<!-- THIS CELL WILL BE REPLACED ON TOC UPDATE. DO NOT WRITE YOUR TEXT IN THIS CELL -->"
   ]
  },
  {
   "cell_type": "code",
   "execution_count": null,
   "metadata": {},
   "outputs": [],
   "source": [
    "from pathlib import Path\n",
    "import zipfile\n",
    "import pandas as pd\n",
    "from civicpy import civic as civicpy\n",
    "from enum import Enum\n",
    "import numpy as np\n",
    "import matplotlib.pyplot as plt\n",
    "import matplotlib.patches as mpatches\n",
    "from matplotlib.lines import Line2D\n",
    "from matplotlib.pyplot import figure\n",
    "from matplotlib.path import Path as mPath\n",
    "from matplotlib.offsetbox import OffsetImage, AnnotationBbox\n",
    "from matplotlib.colors import LinearSegmentedColormap"
   ]
  },
  {
   "cell_type": "markdown",
   "metadata": {},
   "source": [
    "### <a id='toc1_1_1_'></a>[Create output directory](#toc0_)"
   ]
  },
  {
   "cell_type": "code",
   "execution_count": null,
   "metadata": {},
   "outputs": [],
   "source": [
    "path = Path(\"merged_moa_civic_evidence_analysis_output\")\n",
    "path.mkdir(exist_ok=True)"
   ]
  },
  {
   "cell_type": "markdown",
   "metadata": {},
   "source": [
    "## <a id='toc1_2_'></a>[Merge CIViC and MOA Summary Variant Dataframes](#toc0_)"
   ]
  },
  {
   "cell_type": "code",
   "execution_count": null,
   "metadata": {},
   "outputs": [],
   "source": [
    "# Use latest cache that has been pushed to the repo\n",
    "latest_cache_zip_path = sorted(Path().glob(\"../../analysis/civic/cache-*.pkl.zip\"))[-1]\n",
    "print(f\"Using {latest_cache_zip_path} for civicpy cache\")\n",
    "\n",
    "with zipfile.ZipFile(latest_cache_zip_path, \"r\") as zip_ref:\n",
    "    zip_ref.extractall(\"../../analysis/civic/\")\n",
    "\n",
    "civicpy.load_cache(\n",
    "    local_cache_path=Path(\"../../analysis/civic/cache.pkl\"), on_stale=\"ignore\"\n",
    ")"
   ]
  },
  {
   "cell_type": "code",
   "execution_count": null,
   "metadata": {},
   "outputs": [],
   "source": [
    "civic_variant_ids = civicpy.get_all_variants(include_status=[\"accepted\", \"submitted\"])\n",
    "total_number_variants = len(civic_variant_ids)\n",
    "f\"Total Number of variants in CIViC: {total_number_variants}\""
   ]
  },
  {
   "cell_type": "code",
   "execution_count": null,
   "metadata": {},
   "outputs": [],
   "source": [
    "moa_df = pd.read_csv(\n",
    "    \"../moa/assertion_analysis/moa_assertion_analysis_output/moa_df.csv\", sep=\",\"\n",
    ")"
   ]
  },
  {
   "cell_type": "code",
   "execution_count": null,
   "metadata": {},
   "outputs": [],
   "source": [
    "total_len_features = len(moa_df.feature_digest.unique())\n",
    "f\"Total number of unique features (variants): {total_len_features}\""
   ]
  },
  {
   "cell_type": "markdown",
   "metadata": {},
   "source": [
    "Add all variants from CIViC and MOA"
   ]
  },
  {
   "cell_type": "code",
   "execution_count": null,
   "metadata": {},
   "outputs": [],
   "source": [
    "merged_variant_total = total_number_variants + total_len_features\n",
    "merged_variant_total = float(merged_variant_total)\n",
    "merged_variant_total"
   ]
  },
  {
   "cell_type": "markdown",
   "metadata": {},
   "source": [
    "Import summary tables from source notebooks"
   ]
  },
  {
   "cell_type": "code",
   "execution_count": null,
   "metadata": {},
   "outputs": [],
   "source": [
    "for_merge_all_variant_percent_of_civic_df = pd.read_csv(\n",
    "    \"../civic/evidence_analysis/civic_evidence_analysis_output/for_merge_all_variant_percent_of_civic_df.csv\",\n",
    "    sep=\",\",\n",
    ")\n",
    "for_merge_all_variant_percent_of_moa_df = pd.read_csv(\n",
    "    \"../moa/assertion_analysis/moa_assertion_analysis_output/for_merge_all_variant_percent_of_moa_df.csv\",\n",
    "    sep=\",\",\n",
    ")"
   ]
  },
  {
   "cell_type": "markdown",
   "metadata": {},
   "source": [
    "Merge CIViC and MOA sumary tables"
   ]
  },
  {
   "cell_type": "code",
   "execution_count": null,
   "metadata": {},
   "outputs": [],
   "source": [
    "merged_all_variants_df = pd.merge(\n",
    "    for_merge_all_variant_percent_of_civic_df,\n",
    "    for_merge_all_variant_percent_of_moa_df,\n",
    "    on=\"Variant Category\",\n",
    "    how=\"outer\",\n",
    ")\n",
    "merged_all_variants_df = merged_all_variants_df.replace(np.nan, 0, regex=True)"
   ]
  },
  {
   "cell_type": "markdown",
   "metadata": {},
   "source": [
    "### <a id='toc1_2_1_'></a>[Summary Table 1](#toc0_)"
   ]
  },
  {
   "cell_type": "markdown",
   "metadata": {},
   "source": [
    "The table below shows the 3 categories that CIViC and MOA variants were divided into after normalization and what percent they make up of all variants in the respective source data."
   ]
  },
  {
   "cell_type": "markdown",
   "metadata": {},
   "source": [
    "<ins>Numerator:</ins> # of CIViC or MOA variants based on normalization status\n",
    "<br><ins>Denominator:</ins> # of all CIViC or MOA variants"
   ]
  },
  {
   "cell_type": "code",
   "execution_count": null,
   "metadata": {},
   "outputs": [],
   "source": [
    "merged_civic_moa_summary_table_1 = merged_all_variants_df[\n",
    "    [\"Variant Category\", \"Percent of all CIViC Variants\", \"Percent of all MOA Features\"]\n",
    "]\n",
    "\n",
    "merged_civic_moa_summary_table_1 = merged_civic_moa_summary_table_1.set_index(\n",
    "    \"Variant Category\"\n",
    ")\n",
    "merged_civic_moa_summary_table_1"
   ]
  },
  {
   "cell_type": "markdown",
   "metadata": {},
   "source": [
    "### <a id='toc1_2_2_'></a>[Building Summary Table 2](#toc0_)"
   ]
  },
  {
   "cell_type": "markdown",
   "metadata": {},
   "source": [
    "Add up variants from CIViC and MOA for each Variant Category"
   ]
  },
  {
   "cell_type": "code",
   "execution_count": null,
   "metadata": {},
   "outputs": [],
   "source": [
    "merged_all_variants_df[\"Count of CIViC Variants per Category\"] = merged_all_variants_df[\n",
    "    \"Count of CIViC Variants per Category\"\n",
    "].astype(float)\n",
    "merged_all_variants_df[\"Sum of Variants from CIViC and MOA per Category\"] = (\n",
    "    merged_all_variants_df[\"Count of CIViC Variants per Category\"]\n",
    "    + merged_all_variants_df[\"Count of MOA Features per Category\"]\n",
    ")"
   ]
  },
  {
   "cell_type": "markdown",
   "metadata": {},
   "source": [
    "New column for the total combined variant number from CIViC and MOA"
   ]
  },
  {
   "cell_type": "code",
   "execution_count": null,
   "metadata": {},
   "outputs": [],
   "source": [
    "merged_all_variants_df[\n",
    "    \"Sum of total Variants from CIViC and MOA\"\n",
    "] = merged_variant_total"
   ]
  },
  {
   "cell_type": "markdown",
   "metadata": {},
   "source": [
    "New percent of each category of the total merged variants from CIViC and MOA"
   ]
  },
  {
   "cell_type": "code",
   "execution_count": null,
   "metadata": {},
   "outputs": [],
   "source": [
    "merged_all_variants_df[\"Merged Variant Percent\"] = (\n",
    "    merged_all_variants_df[\"Sum of Variants from CIViC and MOA per Category\"]\n",
    "    / merged_all_variants_df[\"Sum of total Variants from CIViC and MOA\"]\n",
    ") * 100\n",
    "merged_all_variants_df = merged_all_variants_df.round({\"Merged Variant Percent\": 2})\n",
    "merged_all_variants_df[\"Merged Variant Percent\"] = (\n",
    "    merged_all_variants_df[\"Merged Variant Percent\"].astype(str) + \"%\"\n",
    ")"
   ]
  },
  {
   "cell_type": "code",
   "execution_count": null,
   "metadata": {},
   "outputs": [],
   "source": [
    "merged_all_variants_df[\n",
    "    \"Sum of Variants from CIViC and MOA per Category\"\n",
    "] = merged_all_variants_df[\"Sum of Variants from CIViC and MOA per Category\"].astype(\n",
    "    int\n",
    ")\n",
    "\n",
    "merged_all_variants_df[\n",
    "    \"Sum of total Variants from CIViC and MOA\"\n",
    "] = merged_all_variants_df[\"Sum of total Variants from CIViC and MOA\"].astype(int)"
   ]
  },
  {
   "cell_type": "markdown",
   "metadata": {},
   "source": [
    "Merge fraction and percent"
   ]
  },
  {
   "cell_type": "code",
   "execution_count": null,
   "metadata": {},
   "outputs": [],
   "source": [
    "merged_all_variants_df[\"Percent of all Merged Variants\"] = (\n",
    "    merged_all_variants_df[\"Sum of Variants from CIViC and MOA per Category\"].astype(\n",
    "        str\n",
    "    )\n",
    "    + \" / \"\n",
    "    + merged_all_variants_df[\"Sum of total Variants from CIViC and MOA\"].astype(str)\n",
    "    + \" (\"\n",
    "    + merged_all_variants_df[\"Merged Variant Percent\"].astype(str)\n",
    "    + \")\"\n",
    ")"
   ]
  },
  {
   "cell_type": "markdown",
   "metadata": {},
   "source": [
    "### <a id='toc1_2_3_'></a>[Summary Table 2](#toc0_)"
   ]
  },
  {
   "cell_type": "markdown",
   "metadata": {},
   "source": [
    "The table below shows the 3 categories that merged CIViC and MOA variants were divided into after normalization and what percent they make up of all variants in the combined data. "
   ]
  },
  {
   "cell_type": "markdown",
   "metadata": {},
   "source": [
    "<ins>Numerator:</ins> # of variants (from CIViC and MOA combined) based on normalization status\n",
    "<br><ins>Denominator:</ins> # of all variants (from CIViC and MOA combined)"
   ]
  },
  {
   "cell_type": "code",
   "execution_count": null,
   "metadata": {},
   "outputs": [],
   "source": [
    "merged_civic_moa_summary_table_2 = merged_all_variants_df[\n",
    "    [\"Variant Category\", \"Percent of all Merged Variants\"]\n",
    "].copy()\n",
    "merged_civic_moa_summary_table_2 = merged_civic_moa_summary_table_2.set_index(\n",
    "    \"Variant Category\"\n",
    ")\n",
    "merged_civic_moa_summary_table_2"
   ]
  },
  {
   "cell_type": "markdown",
   "metadata": {},
   "source": [
    "### <a id='toc1_2_4_'></a>[Building Summary Table 3](#toc0_)"
   ]
  },
  {
   "cell_type": "code",
   "execution_count": null,
   "metadata": {},
   "outputs": [],
   "source": [
    "merged_all_variants_df[\"Count of CIViC Variants per Category\"] = merged_all_variants_df[\n",
    "    \"Count of CIViC Variants per Category\"\n",
    "].astype(int)\n",
    "\n",
    "merged_all_variants_df[\"Count of MOA Features per Category\"] = merged_all_variants_df[\n",
    "    \"Count of MOA Features per Category\"\n",
    "].astype(int)"
   ]
  },
  {
   "cell_type": "markdown",
   "metadata": {},
   "source": [
    "New percent of CIViC contribution for each category"
   ]
  },
  {
   "cell_type": "code",
   "execution_count": null,
   "metadata": {},
   "outputs": [],
   "source": [
    "merged_all_variants_df[\"CIViC Variants of Category Percent\"] = (\n",
    "    merged_all_variants_df[\"Count of CIViC Variants per Category\"]\n",
    "    / merged_all_variants_df[\"Sum of Variants from CIViC and MOA per Category\"]\n",
    ") * 100\n",
    "merged_all_variants_df = merged_all_variants_df.round(\n",
    "    {\"CIViC Variants of Category Percent\": 2}\n",
    ")\n",
    "merged_all_variants_df[\"CIViC Variants of Category Percent\"] = (\n",
    "    merged_all_variants_df[\"CIViC Variants of Category Percent\"].astype(str) + \"%\"\n",
    ")"
   ]
  },
  {
   "cell_type": "markdown",
   "metadata": {},
   "source": [
    "Merge fraction and percent"
   ]
  },
  {
   "cell_type": "code",
   "execution_count": null,
   "metadata": {},
   "outputs": [],
   "source": [
    "merged_all_variants_df[\"Percent of CIViC Variants of Category\"] = (\n",
    "    merged_all_variants_df[\"Count of CIViC Variants per Category\"].astype(str)\n",
    "    + \" / \"\n",
    "    + merged_all_variants_df[\"Sum of Variants from CIViC and MOA per Category\"].astype(\n",
    "        str\n",
    "    )\n",
    "    + \" (\"\n",
    "    + merged_all_variants_df[\"CIViC Variants of Category Percent\"].astype(str)\n",
    "    + \")\"\n",
    ")"
   ]
  },
  {
   "cell_type": "markdown",
   "metadata": {},
   "source": [
    "New percent of MOA contribution for each category"
   ]
  },
  {
   "cell_type": "code",
   "execution_count": null,
   "metadata": {},
   "outputs": [],
   "source": [
    "merged_all_variants_df[\"MOA Variants of Category Percent\"] = (\n",
    "    merged_all_variants_df[\"Count of MOA Features per Category\"]\n",
    "    / merged_all_variants_df[\"Sum of Variants from CIViC and MOA per Category\"]\n",
    ") * 100\n",
    "merged_all_variants_df = merged_all_variants_df.round(\n",
    "    {\"MOA Variants of Category Percent\": 2}\n",
    ")\n",
    "merged_all_variants_df[\"MOA Variants of Category Percent\"] = (\n",
    "    merged_all_variants_df[\"MOA Variants of Category Percent\"].astype(str) + \"%\"\n",
    ")"
   ]
  },
  {
   "cell_type": "markdown",
   "metadata": {},
   "source": [
    "Merge fraction and percent"
   ]
  },
  {
   "cell_type": "code",
   "execution_count": null,
   "metadata": {},
   "outputs": [],
   "source": [
    "merged_all_variants_df[\"Percent of MOA Variants of Category\"] = (\n",
    "    merged_all_variants_df[\"Count of MOA Features per Category\"].astype(str)\n",
    "    + \" / \"\n",
    "    + merged_all_variants_df[\"Sum of Variants from CIViC and MOA per Category\"].astype(\n",
    "        str\n",
    "    )\n",
    "    + \" (\"\n",
    "    + merged_all_variants_df[\"MOA Variants of Category Percent\"].astype(str)\n",
    "    + \")\"\n",
    ")"
   ]
  },
  {
   "cell_type": "markdown",
   "metadata": {},
   "source": [
    "### <a id='toc1_2_5_'></a>[Summary Table 3](#toc0_)"
   ]
  },
  {
   "cell_type": "markdown",
   "metadata": {},
   "source": [
    "The table below shows what percent of the merged data originates from CIViC and MOA sources"
   ]
  },
  {
   "cell_type": "markdown",
   "metadata": {},
   "source": [
    "<ins>Numerator:</ins> # of CIViC or MOA variants based on normalization status\n",
    "<br><ins>Denominator:</ins> # of all variants (from CIViC and MOA combined) based on normalization status"
   ]
  },
  {
   "cell_type": "code",
   "execution_count": null,
   "metadata": {},
   "outputs": [],
   "source": [
    "merged_civic_moa_summary_table_3 = merged_all_variants_df[\n",
    "    [\n",
    "        \"Variant Category\",\n",
    "        \"Percent of CIViC Variants of Category\",\n",
    "        \"Percent of MOA Variants of Category\",\n",
    "    ]\n",
    "].copy()\n",
    "merged_civic_moa_summary_table_3 = merged_civic_moa_summary_table_3.set_index(\n",
    "    \"Variant Category\"\n",
    ")\n",
    "merged_civic_moa_summary_table_3"
   ]
  },
  {
   "cell_type": "markdown",
   "metadata": {},
   "source": [
    "### <a id='toc1_2_6_'></a>[Building Summary Table 4](#toc0_)"
   ]
  },
  {
   "cell_type": "markdown",
   "metadata": {},
   "source": [
    "Import summary tables from source notebooks"
   ]
  },
  {
   "cell_type": "code",
   "execution_count": null,
   "metadata": {},
   "outputs": [],
   "source": [
    "for_merge_not_supported_variant_percent_of_civic_df = pd.read_csv(\n",
    "    \"../civic/evidence_analysis/civic_evidence_analysis_output/for_merge_not_supported_variant_percent_of_civic_df.csv\",\n",
    "    sep=\",\",\n",
    ")\n",
    "for_merge_not_supported_features_total_df = pd.read_csv(\n",
    "    \"../moa/assertion_analysis/moa_assertion_analysis_output/for_merge_not_supported_features_total_df.csv\",\n",
    "    sep=\",\",\n",
    ")"
   ]
  },
  {
   "cell_type": "markdown",
   "metadata": {},
   "source": [
    "Merge CIViC and MOA summary tables"
   ]
  },
  {
   "cell_type": "code",
   "execution_count": null,
   "metadata": {},
   "outputs": [],
   "source": [
    "merged_not_supported_variants_df = pd.merge(\n",
    "    for_merge_not_supported_variant_percent_of_civic_df,\n",
    "    for_merge_not_supported_features_total_df,\n",
    "    on=\"Category\",\n",
    "    how=\"outer\",\n",
    ")\n",
    "merged_not_supported_variants_df = merged_not_supported_variants_df.replace(\n",
    "    np.nan, 0, regex=True\n",
    ")"
   ]
  },
  {
   "cell_type": "markdown",
   "metadata": {},
   "source": [
    "### <a id='toc1_2_7_'></a>[Summary Table 4](#toc0_)"
   ]
  },
  {
   "cell_type": "markdown",
   "metadata": {},
   "source": [
    "The table below shows the categories of Not Supported variants and what percent of source (CIViC or MOA) variants they make up. These percentages will not add up to 100% because Not Supported variants make up a subset of CIViC variants and a subset of MOA variants.(Reference Summary Table 1- merged_civic_moa_summary_table_1)"
   ]
  },
  {
   "cell_type": "markdown",
   "metadata": {},
   "source": [
    "<ins>Numerator:</ins> # of CIViC or MOA variants that are Not Supported in a given Subcategory\n",
    "<br><ins>Denominator:</ins> # of all CIViC or MOA variants"
   ]
  },
  {
   "cell_type": "code",
   "execution_count": null,
   "metadata": {},
   "outputs": [],
   "source": [
    "merged_civic_moa_summary_table_3 = merged_not_supported_variants_df.drop(\n",
    "    [\"Count of CIViC Variants per Category\", \"Count of MOA Features per Category\"],\n",
    "    axis=1,\n",
    ")\n",
    "merged_civic_moa_summary_table_3 = merged_civic_moa_summary_table_3.set_index(\n",
    "    \"Category\"\n",
    ")\n",
    "merged_civic_moa_summary_table_3"
   ]
  },
  {
   "cell_type": "markdown",
   "metadata": {},
   "source": [
    "### <a id='toc1_2_8_'></a>[Building Summary Table 5](#toc0_)"
   ]
  },
  {
   "cell_type": "markdown",
   "metadata": {},
   "source": [
    "Add up evidence from CIViC and MOA for each Variant Category"
   ]
  },
  {
   "cell_type": "code",
   "execution_count": null,
   "metadata": {},
   "outputs": [],
   "source": [
    "merged_not_supported_variants_df[\"Sum of Variants from CIViC and MOA per Category\"] = (\n",
    "    merged_not_supported_variants_df[\"Count of CIViC Variants per Category\"]\n",
    "    + merged_not_supported_variants_df[\"Count of MOA Features per Category\"]\n",
    ")\n",
    "merged_not_supported_variants_df[\"Sum of total Variants from CIViC and MOA\"] = int(\n",
    "    merged_variant_total\n",
    ")"
   ]
  },
  {
   "cell_type": "markdown",
   "metadata": {},
   "source": [
    "New percent of each category of the total merged variants from CIViC and MOA"
   ]
  },
  {
   "cell_type": "code",
   "execution_count": null,
   "metadata": {},
   "outputs": [],
   "source": [
    "merged_not_supported_variants_df[\n",
    "    \"Merged Not Supported Variant Category of Merged Total Percent\"\n",
    "] = (\n",
    "    merged_not_supported_variants_df[\"Sum of Variants from CIViC and MOA per Category\"]\n",
    "    / merged_not_supported_variants_df[\"Sum of total Variants from CIViC and MOA\"]\n",
    ") * 100\n",
    "merged_not_supported_variants_df = merged_not_supported_variants_df.round(\n",
    "    {\"Merged Not Supported Variant Category of Merged Total Percent\": 2}\n",
    ")\n",
    "merged_not_supported_variants_df[\n",
    "    \"Merged Not Supported Variant Category of Merged Total Percent\"\n",
    "] = (\n",
    "    merged_not_supported_variants_df[\n",
    "        \"Merged Not Supported Variant Category of Merged Total Percent\"\n",
    "    ].astype(str)\n",
    "    + \"%\"\n",
    ")"
   ]
  },
  {
   "cell_type": "markdown",
   "metadata": {},
   "source": [
    "Merge fraction and percent"
   ]
  },
  {
   "cell_type": "code",
   "execution_count": null,
   "metadata": {},
   "outputs": [],
   "source": [
    "merged_not_supported_variants_df[\"Percent of all Merged Variants\"] = (\n",
    "    merged_not_supported_variants_df[\n",
    "        \"Sum of Variants from CIViC and MOA per Category\"\n",
    "    ].astype(str)\n",
    "    + \" / \"\n",
    "    + merged_not_supported_variants_df[\n",
    "        \"Sum of total Variants from CIViC and MOA\"\n",
    "    ].astype(str)\n",
    "    + \" (\"\n",
    "    + merged_not_supported_variants_df[\n",
    "        \"Merged Not Supported Variant Category of Merged Total Percent\"\n",
    "    ].astype(str)\n",
    "    + \")\"\n",
    ")"
   ]
  },
  {
   "cell_type": "markdown",
   "metadata": {},
   "source": [
    "### <a id='toc1_2_9_'></a>[Summary Table 5](#toc0_)"
   ]
  },
  {
   "cell_type": "markdown",
   "metadata": {},
   "source": [
    "The table below shows the categories of Not Supported variants and what percent of all variants (CIViC and MOA) they make up. These percentages will not add up to 100% because Not Supported variants make up a subset of all variants (CIViC and MOA). "
   ]
  },
  {
   "cell_type": "markdown",
   "metadata": {},
   "source": [
    "<ins>Numerator:</ins> # of variants that are Not Supported in a given Subcategory\n",
    "<br><ins>Denominator:</ins> # of all variants"
   ]
  },
  {
   "cell_type": "code",
   "execution_count": null,
   "metadata": {},
   "outputs": [],
   "source": [
    "merged_civic_moa_summary_table_5 = merged_not_supported_variants_df[\n",
    "    [\"Category\", \"Percent of all Merged Variants\"]\n",
    "].copy()\n",
    "merged_civic_moa_summary_table_5 = merged_civic_moa_summary_table_5.set_index(\n",
    "    \"Category\"\n",
    ")\n",
    "merged_civic_moa_summary_table_5"
   ]
  },
  {
   "cell_type": "markdown",
   "metadata": {},
   "source": [
    "### <a id='toc1_2_10_'></a>[Building Summary Table 6](#toc0_)"
   ]
  },
  {
   "cell_type": "markdown",
   "metadata": {},
   "source": [
    "Add up all variants, for total number of Not Supported Variants"
   ]
  },
  {
   "cell_type": "code",
   "execution_count": null,
   "metadata": {},
   "outputs": [],
   "source": [
    "merged_not_supported_variant_total = merged_not_supported_variants_df[\n",
    "    \"Sum of Variants from CIViC and MOA per Category\"\n",
    "].sum()\n",
    "merged_not_supported_variants_df[\n",
    "    \"Merged Not Supported Variant Total\"\n",
    "] = merged_not_supported_variant_total"
   ]
  },
  {
   "cell_type": "markdown",
   "metadata": {},
   "source": [
    "New percent of each category of the total merged variants from CIViC and MOA"
   ]
  },
  {
   "cell_type": "code",
   "execution_count": null,
   "metadata": {},
   "outputs": [],
   "source": [
    "merged_not_supported_variants_df[\n",
    "    \"Merged Not Supported Variant Category of Not Supported Percent\"\n",
    "] = (\n",
    "    merged_not_supported_variants_df[\"Sum of Variants from CIViC and MOA per Category\"]\n",
    "    / merged_not_supported_variants_df[\"Merged Not Supported Variant Total\"]\n",
    ") * 100\n",
    "merged_not_supported_variants_df = merged_not_supported_variants_df.round(\n",
    "    {\"Merged Not Supported Variant Category of Not Supported Percent\": 2}\n",
    ")\n",
    "merged_not_supported_variants_df[\n",
    "    \"Merged Not Supported Variant Category of Not Supported Percent\"\n",
    "] = (\n",
    "    merged_not_supported_variants_df[\n",
    "        \"Merged Not Supported Variant Category of Not Supported Percent\"\n",
    "    ].astype(str)\n",
    "    + \"%\"\n",
    ")"
   ]
  },
  {
   "cell_type": "markdown",
   "metadata": {},
   "source": [
    "Merge fraction and percent"
   ]
  },
  {
   "cell_type": "code",
   "execution_count": null,
   "metadata": {},
   "outputs": [],
   "source": [
    "merged_not_supported_variants_df[\"Percent of all Not Supported Variants\"] = (\n",
    "    merged_not_supported_variants_df[\n",
    "        \"Sum of Variants from CIViC and MOA per Category\"\n",
    "    ].astype(str)\n",
    "    + \" / \"\n",
    "    + merged_not_supported_variants_df[\"Merged Not Supported Variant Total\"].astype(str)\n",
    "    + \" (\"\n",
    "    + merged_not_supported_variants_df[\n",
    "        \"Merged Not Supported Variant Category of Not Supported Percent\"\n",
    "    ].astype(str)\n",
    "    + \")\"\n",
    ")"
   ]
  },
  {
   "cell_type": "markdown",
   "metadata": {},
   "source": [
    "### <a id='toc1_2_11_'></a>[Summary Table 6](#toc0_)"
   ]
  },
  {
   "cell_type": "markdown",
   "metadata": {},
   "source": [
    "The table below shows the categories of Not Supported variants the percent of each category of total merged Not Supported variants."
   ]
  },
  {
   "cell_type": "markdown",
   "metadata": {},
   "source": [
    "<ins>Numerator:</ins> # of variants that are Not Supported in a given Subcategory\n",
    "<br><ins>Denominator:</ins> # of all variants that are Not Supported"
   ]
  },
  {
   "cell_type": "code",
   "execution_count": null,
   "metadata": {},
   "outputs": [],
   "source": [
    "merged_civic_moa_summary_table_6 = merged_not_supported_variants_df[\n",
    "    [\"Category\", \"Percent of all Not Supported Variants\"]\n",
    "].copy()\n",
    "merged_civic_moa_summary_table_6 = merged_civic_moa_summary_table_6.set_index(\n",
    "    \"Category\"\n",
    ")\n",
    "merged_civic_moa_summary_table_6"
   ]
  },
  {
   "cell_type": "markdown",
   "metadata": {},
   "source": [
    "## <a id='toc1_3_'></a>[Merge CIViC and MOA Summary Evidence Dataframes](#toc0_)"
   ]
  },
  {
   "cell_type": "code",
   "execution_count": null,
   "metadata": {},
   "outputs": [],
   "source": [
    "civic_evidence_items = civicpy.get_all_evidence(\n",
    "    include_status=[\"accepted\", \"submitted\"]\n",
    ")"
   ]
  },
  {
   "cell_type": "code",
   "execution_count": null,
   "metadata": {},
   "outputs": [],
   "source": [
    "total_ac_sub_evidence = len(civic_evidence_items)\n",
    "f\"Total Number of accepted and submitted evidence items in CIViC: {total_ac_sub_evidence}\""
   ]
  },
  {
   "cell_type": "markdown",
   "metadata": {},
   "source": [
    "Import dataframe for assertions"
   ]
  },
  {
   "cell_type": "code",
   "execution_count": null,
   "metadata": {},
   "outputs": [],
   "source": [
    "total_len_assertions = len(moa_df.assertion_id.unique())\n",
    "f\"Total number of unique assertions (evidence items): {total_len_assertions}\""
   ]
  },
  {
   "cell_type": "markdown",
   "metadata": {},
   "source": [
    "Add all evidence items(assertions) from CIViC and MOA"
   ]
  },
  {
   "cell_type": "code",
   "execution_count": null,
   "metadata": {},
   "outputs": [],
   "source": [
    "merged_evidence_total = total_ac_sub_evidence + total_len_assertions"
   ]
  },
  {
   "cell_type": "markdown",
   "metadata": {},
   "source": [
    "Import summary tables from source notebooks"
   ]
  },
  {
   "cell_type": "code",
   "execution_count": null,
   "metadata": {},
   "outputs": [],
   "source": [
    "for_merge_all_variant_evidence_percent_of_civic_df = pd.read_csv(\n",
    "    \"../civic/evidence_analysis/civic_evidence_analysis_output/for_merge_all_variant_evidence_percent_of_civic_df.csv\",\n",
    "    sep=\",\",\n",
    ")\n",
    "for_merge_all_features_assertions_df = pd.read_csv(\n",
    "    \"../moa/assertion_analysis/moa_assertion_analysis_output/for_merge_all_features_assertions_df.csv\",\n",
    "    sep=\",\",\n",
    ")"
   ]
  },
  {
   "cell_type": "markdown",
   "metadata": {},
   "source": [
    "Merge CIViC and MOA summary tables"
   ]
  },
  {
   "cell_type": "code",
   "execution_count": null,
   "metadata": {},
   "outputs": [],
   "source": [
    "merged_all_evidence_df = pd.merge(\n",
    "    for_merge_all_variant_evidence_percent_of_civic_df,\n",
    "    for_merge_all_features_assertions_df,\n",
    "    on=\"Variant Category\",\n",
    "    how=\"outer\",\n",
    ")\n",
    "merged_all_evidence_df = merged_all_evidence_df.replace(np.nan, 0, regex=True)\n",
    "merged_all_evidence_df[\"Count of MOA Assertions per Category\"] = merged_all_evidence_df[\n",
    "    \"Count of MOA Assertions per Category\"\n",
    "].astype(int)"
   ]
  },
  {
   "cell_type": "markdown",
   "metadata": {},
   "source": [
    "### <a id='toc1_3_1_'></a>[Summary Table 7](#toc0_)"
   ]
  },
  {
   "cell_type": "markdown",
   "metadata": {},
   "source": [
    "The table below shows what percent of all evidence items in CIViC and MOA are associated with Normalized, Unable to Normalize, and Not Supported variants. This will not add up to 100% because evidence items may be used accross multiple variants."
   ]
  },
  {
   "cell_type": "markdown",
   "metadata": {},
   "source": [
    "<ins>Numerator:</ins> # of CIViC or MOA evidence items based on normalization status of associated variant\n",
    "<br><ins>Denominator:</ins> # of all CIViC or MOA evidence items"
   ]
  },
  {
   "cell_type": "code",
   "execution_count": null,
   "metadata": {},
   "outputs": [],
   "source": [
    "merged_civic_moa_summary_table_7 = merged_all_evidence_df.drop(\n",
    "    [\n",
    "        \"Count of CIViC Evidence Items per Category\",\n",
    "        \"Count of MOA Assertions per Category\",\n",
    "    ],\n",
    "    axis=1,\n",
    ")\n",
    "merged_civic_moa_summary_table_7 = merged_civic_moa_summary_table_7.set_index(\n",
    "    \"Variant Category\"\n",
    ")\n",
    "merged_civic_moa_summary_table_7"
   ]
  },
  {
   "cell_type": "markdown",
   "metadata": {},
   "source": [
    "### <a id='toc1_3_2_'></a>[Building Summary Table 8](#toc0_)"
   ]
  },
  {
   "cell_type": "code",
   "execution_count": null,
   "metadata": {},
   "outputs": [],
   "source": [
    "# add up variants from CIViC and MOA for each Variant Category\n",
    "merged_all_evidence_df[\"Sum of Evidence from CIViC and MOA per Category\"] = (\n",
    "    merged_all_evidence_df[\"Count of CIViC Evidence Items per Category\"]\n",
    "    + merged_all_evidence_df[\"Count of MOA Assertions per Category\"]\n",
    ")"
   ]
  },
  {
   "cell_type": "code",
   "execution_count": null,
   "metadata": {},
   "outputs": [],
   "source": [
    "# new column for the total combined variant number from CIViC and MOA\n",
    "merged_all_evidence_df[\n",
    "    \"Sum of total Evidence from CIViC and MOA\"\n",
    "] = merged_evidence_total"
   ]
  },
  {
   "cell_type": "code",
   "execution_count": null,
   "metadata": {},
   "outputs": [],
   "source": [
    "# new percent of each category of the total merged variants from CIViC and MOA\n",
    "merged_all_evidence_df[\"Merged Evidence Percent\"] = (\n",
    "    merged_all_evidence_df[\"Sum of Evidence from CIViC and MOA per Category\"]\n",
    "    / merged_all_evidence_df[\"Sum of total Evidence from CIViC and MOA\"]\n",
    ") * 100\n",
    "merged_all_evidence_df = merged_all_evidence_df.round({\"Merged Evidence Percent\": 2})\n",
    "merged_all_evidence_df[\"Merged Evidence Percent\"] = (\n",
    "    merged_all_evidence_df[\"Merged Evidence Percent\"].astype(str) + \"%\"\n",
    ")"
   ]
  },
  {
   "cell_type": "code",
   "execution_count": null,
   "metadata": {},
   "outputs": [],
   "source": [
    "# merge fraction and percent\n",
    "merged_all_evidence_df[\"Percent of all Merged Evidence Items\"] = (\n",
    "    merged_all_evidence_df[\"Sum of Evidence from CIViC and MOA per Category\"].astype(\n",
    "        str\n",
    "    )\n",
    "    + \" / \"\n",
    "    + merged_all_evidence_df[\"Sum of total Evidence from CIViC and MOA\"].astype(str)\n",
    "    + \" (\"\n",
    "    + merged_all_evidence_df[\"Merged Evidence Percent\"].astype(str)\n",
    "    + \")\"\n",
    ")"
   ]
  },
  {
   "cell_type": "markdown",
   "metadata": {},
   "source": [
    "### <a id='toc1_3_3_'></a>[Summary Table 8](#toc0_)"
   ]
  },
  {
   "cell_type": "markdown",
   "metadata": {},
   "source": [
    "The table below shows what percent of all evidence items in merged CIViC and MOA data are associated with Normalized, Unable to Normalize, and Not Supported variants. This will not add up to 100% because evidence itmes may be used across multiple variants."
   ]
  },
  {
   "cell_type": "markdown",
   "metadata": {},
   "source": [
    "<ins>Numerator:</ins> # of evidence items (from CIViC and MOA combined) based on normalization status of associated variant\n",
    "<br><ins>Denominator:</ins> # of all evidence items (from CIViC and MOA combined)"
   ]
  },
  {
   "cell_type": "code",
   "execution_count": null,
   "metadata": {},
   "outputs": [],
   "source": [
    "# clean up summary table by dropping columns and resetting index\n",
    "merged_civic_moa_summary_table_8 = merged_all_evidence_df[\n",
    "    [\"Variant Category\", \"Percent of all Merged Evidence Items\"]\n",
    "].copy()\n",
    "merged_civic_moa_summary_table_8 = merged_civic_moa_summary_table_8.set_index(\n",
    "    \"Variant Category\"\n",
    ")\n",
    "merged_civic_moa_summary_table_8"
   ]
  },
  {
   "cell_type": "markdown",
   "metadata": {},
   "source": [
    "### <a id='toc1_3_4_'></a>[Building Summary Table 9](#toc0_)"
   ]
  },
  {
   "cell_type": "code",
   "execution_count": null,
   "metadata": {},
   "outputs": [],
   "source": [
    "# new percent of CIViC contribution for each category\n",
    "merged_all_evidence_df[\"CIViC Evidence of Category Percent\"] = (\n",
    "    merged_all_evidence_df[\"Count of CIViC Evidence Items per Category\"]\n",
    "    / merged_all_evidence_df[\"Sum of Evidence from CIViC and MOA per Category\"]\n",
    ") * 100\n",
    "merged_all_evidence_df = merged_all_evidence_df.round(\n",
    "    {\"CIViC Evidence of Category Percent\": 2}\n",
    ")\n",
    "merged_all_evidence_df[\"CIViC Evidence of Category Percent\"] = (\n",
    "    merged_all_evidence_df[\"CIViC Evidence of Category Percent\"].astype(str) + \"%\"\n",
    ")"
   ]
  },
  {
   "cell_type": "code",
   "execution_count": null,
   "metadata": {},
   "outputs": [],
   "source": [
    "# merge fraction and percent\n",
    "merged_all_evidence_df[\"Percent of CIViC Evidence of Category\"] = (\n",
    "    merged_all_evidence_df[\"Count of CIViC Evidence Items per Category\"].astype(str)\n",
    "    + \" / \"\n",
    "    + merged_all_evidence_df[\"Sum of Evidence from CIViC and MOA per Category\"].astype(\n",
    "        str\n",
    "    )\n",
    "    + \" (\"\n",
    "    + merged_all_evidence_df[\"CIViC Evidence of Category Percent\"].astype(str)\n",
    "    + \")\"\n",
    ")"
   ]
  },
  {
   "cell_type": "code",
   "execution_count": null,
   "metadata": {},
   "outputs": [],
   "source": [
    "# new percent of MOA contribution for each category\n",
    "merged_all_evidence_df[\"MOA Evidence of Category Percent\"] = (\n",
    "    merged_all_evidence_df[\"Count of MOA Assertions per Category\"]\n",
    "    / merged_all_evidence_df[\"Sum of Evidence from CIViC and MOA per Category\"]\n",
    ") * 100\n",
    "merged_all_evidence_df = merged_all_evidence_df.round(\n",
    "    {\"MOA Evidence of Category Percent\": 2}\n",
    ")\n",
    "merged_all_evidence_df[\"MOA Evidence of Category Percent\"] = (\n",
    "    merged_all_evidence_df[\"MOA Evidence of Category Percent\"].astype(str) + \"%\"\n",
    ")"
   ]
  },
  {
   "cell_type": "code",
   "execution_count": null,
   "metadata": {},
   "outputs": [],
   "source": [
    "# merge fraction and percent\n",
    "merged_all_evidence_df[\"Percent of MOA Evidence of Category\"] = (\n",
    "    merged_all_evidence_df[\"Count of MOA Assertions per Category\"].astype(str)\n",
    "    + \" / \"\n",
    "    + merged_all_evidence_df[\"Sum of Evidence from CIViC and MOA per Category\"].astype(\n",
    "        str\n",
    "    )\n",
    "    + \" (\"\n",
    "    + merged_all_evidence_df[\"MOA Evidence of Category Percent\"].astype(str)\n",
    "    + \")\"\n",
    ")"
   ]
  },
  {
   "cell_type": "markdown",
   "metadata": {},
   "source": [
    "### <a id='toc1_3_5_'></a>[Summary Table 9](#toc0_)"
   ]
  },
  {
   "cell_type": "markdown",
   "metadata": {},
   "source": [
    "The table below shows what percent of the merged data originates from CIViC and MOA sources"
   ]
  },
  {
   "cell_type": "markdown",
   "metadata": {},
   "source": [
    "<ins>Numerator:</ins> # of CIViC or MOA evidence items based on normalization status of associated variant\n",
    "<br><ins>Denominator:</ins> # of all evidence items based on normalization status"
   ]
  },
  {
   "cell_type": "code",
   "execution_count": null,
   "metadata": {},
   "outputs": [],
   "source": [
    "# clean up summary table by dropping columns and resetting index\n",
    "merged_civic_moa_summary_table_9 = merged_all_evidence_df[\n",
    "    [\n",
    "        \"Variant Category\",\n",
    "        \"Percent of CIViC Evidence of Category\",\n",
    "        \"Percent of MOA Evidence of Category\",\n",
    "    ]\n",
    "].copy()\n",
    "merged_civic_moa_summary_table_9 = merged_civic_moa_summary_table_9.set_index(\n",
    "    \"Variant Category\"\n",
    ")\n",
    "merged_civic_moa_summary_table_9"
   ]
  },
  {
   "cell_type": "markdown",
   "metadata": {},
   "source": [
    "### <a id='toc1_3_6_'></a>[Building Summary Table 10](#toc0_)"
   ]
  },
  {
   "cell_type": "code",
   "execution_count": null,
   "metadata": {},
   "outputs": [],
   "source": [
    "# import summary tables from source notebooks\n",
    "for_merge_not_supported_variant_evidence_percent_of_civic_df = pd.read_csv(\n",
    "    \"../civic/evidence_analysis/civic_evidence_analysis_output/for_merge_not_supported_variant_evidence_percent_of_civic_df.csv\",\n",
    "    sep=\",\",\n",
    ")\n",
    "for_merge_not_supported_feature_assertion_df = pd.read_csv(\n",
    "    \"../moa/assertion_analysis/moa_assertion_analysis_output/for_merge_not_supported_feature_assertion_df.csv\",\n",
    "    sep=\",\",\n",
    ")"
   ]
  },
  {
   "cell_type": "code",
   "execution_count": null,
   "metadata": {},
   "outputs": [],
   "source": [
    "# merge CIViC and MOA summary tables\n",
    "merged_not_supported_evidence_df = pd.merge(\n",
    "    for_merge_not_supported_variant_evidence_percent_of_civic_df,\n",
    "    for_merge_not_supported_feature_assertion_df,\n",
    "    on=\"Category\",\n",
    "    how=\"outer\",\n",
    ")\n",
    "merged_not_supported_evidence_df = merged_not_supported_evidence_df.replace(\n",
    "    np.nan, 0, regex=True\n",
    ")"
   ]
  },
  {
   "cell_type": "markdown",
   "metadata": {},
   "source": [
    "### <a id='toc1_3_7_'></a>[Summary Table 10](#toc0_)"
   ]
  },
  {
   "cell_type": "markdown",
   "metadata": {},
   "source": [
    "The table below shows the categories of Not Supported variants and what percent of source (CIViC or MOA) evidence items are associated with those variants. These percentages will not add up to 100% because Not Supported variants make up 44.11% of CIViC variants and 63.09% of MOA variants and evidence itmes may be used across multiple variants.(Reference Summary Table 7- merged_civic_moa_summary_table_7)"
   ]
  },
  {
   "cell_type": "markdown",
   "metadata": {},
   "source": [
    "<ins>Numerator:</ins> # of CIViC or MOA evidence items that are associated with Not Supported variants in a given Subcategory\n",
    "<br><ins>Denominator:</ins> # of all CIViC or MOA evidence items"
   ]
  },
  {
   "cell_type": "code",
   "execution_count": null,
   "metadata": {},
   "outputs": [],
   "source": [
    "# clean up summary table by dropping columns and resetting index\n",
    "merged_civic_moa_summary_table_10 = merged_not_supported_evidence_df.drop(\n",
    "    [\n",
    "        \"Count of CIViC Evidence Items per Category\",\n",
    "        \"Count of MOA Assertions per Category\",\n",
    "    ],\n",
    "    axis=1,\n",
    ")\n",
    "merged_civic_moa_summary_table_10 = merged_civic_moa_summary_table_10.set_index(\n",
    "    \"Category\"\n",
    ")\n",
    "merged_civic_moa_summary_table_10"
   ]
  },
  {
   "cell_type": "markdown",
   "metadata": {},
   "source": [
    "### <a id='toc1_3_8_'></a>[Building Summary Table 11](#toc0_)"
   ]
  },
  {
   "cell_type": "code",
   "execution_count": null,
   "metadata": {},
   "outputs": [],
   "source": [
    "# add up evidence from CIViC and MOA for each Variant Category\n",
    "merged_not_supported_evidence_df[\"Sum of Evidence from CIViC and MOA per Category\"] = (\n",
    "    merged_not_supported_evidence_df[\"Count of CIViC Evidence Items per Category\"]\n",
    "    + merged_not_supported_evidence_df[\"Count of MOA Assertions per Category\"]\n",
    ")\n",
    "# new column for the total combined evidence number from CIViC and MOA\n",
    "merged_not_supported_evidence_df[\"Sum of total Evidence from CIViC and MOA\"] = int(\n",
    "    merged_evidence_total\n",
    ")"
   ]
  },
  {
   "cell_type": "code",
   "execution_count": null,
   "metadata": {},
   "outputs": [],
   "source": [
    "# new percent of each category of the total merged evidence from CIViC and MOA\n",
    "merged_not_supported_evidence_df[\n",
    "    \"Merged Not Supported Evidence Category of Merged Total Percent\"\n",
    "] = (\n",
    "    merged_not_supported_evidence_df[\"Sum of Evidence from CIViC and MOA per Category\"]\n",
    "    / merged_not_supported_evidence_df[\"Sum of total Evidence from CIViC and MOA\"]\n",
    ") * 100\n",
    "merged_not_supported_evidence_df = merged_not_supported_evidence_df.round(\n",
    "    {\"Merged Not Supported Evidence Category of Merged Total Percent\": 2}\n",
    ")\n",
    "merged_not_supported_evidence_df[\n",
    "    \"Merged Not Supported Evidence Category of Merged Total Percent\"\n",
    "] = (\n",
    "    merged_not_supported_evidence_df[\n",
    "        \"Merged Not Supported Evidence Category of Merged Total Percent\"\n",
    "    ].astype(str)\n",
    "    + \"%\"\n",
    ")"
   ]
  },
  {
   "cell_type": "code",
   "execution_count": null,
   "metadata": {},
   "outputs": [],
   "source": [
    "# merge fraction and percent\n",
    "merged_not_supported_evidence_df[\"Percent of all Merged Evidence Items\"] = (\n",
    "    merged_not_supported_evidence_df[\n",
    "        \"Sum of Evidence from CIViC and MOA per Category\"\n",
    "    ].astype(str)\n",
    "    + \" / \"\n",
    "    + merged_not_supported_evidence_df[\n",
    "        \"Sum of total Evidence from CIViC and MOA\"\n",
    "    ].astype(str)\n",
    "    + \" (\"\n",
    "    + merged_not_supported_evidence_df[\n",
    "        \"Merged Not Supported Evidence Category of Merged Total Percent\"\n",
    "    ].astype(str)\n",
    "    + \")\"\n",
    ")"
   ]
  },
  {
   "cell_type": "markdown",
   "metadata": {},
   "source": [
    "### <a id='toc1_3_9_'></a>[Summary Table 11](#toc0_)"
   ]
  },
  {
   "cell_type": "markdown",
   "metadata": {},
   "source": [
    "The table below shows the evidence items associated with categories of Not Supported variants and what percent of all evidence items (CIViC and MOA) they make up. These percentages will not add up to 100% because evidence items associated with Not Supported variants make up a subset of all variants (CIViC and MOA). "
   ]
  },
  {
   "cell_type": "markdown",
   "metadata": {},
   "source": [
    "<ins>Numerator:</ins> # of evidence items that are associated with Not Supported variants in a given Subcategory\n",
    "<br><ins>Denominator:</ins> # of all evidence items"
   ]
  },
  {
   "cell_type": "code",
   "execution_count": null,
   "metadata": {},
   "outputs": [],
   "source": [
    "# clean up summary table by dropping columns and resetting index\n",
    "merged_civic_moa_summary_table_11 = merged_not_supported_evidence_df[\n",
    "    [\"Category\", \"Percent of all Merged Evidence Items\"]\n",
    "].copy()\n",
    "merged_civic_moa_summary_table_11 = merged_civic_moa_summary_table_11.set_index(\n",
    "    \"Category\"\n",
    ")\n",
    "merged_civic_moa_summary_table_11"
   ]
  },
  {
   "cell_type": "markdown",
   "metadata": {},
   "source": [
    "### <a id='toc1_3_10_'></a>[Building Summary Table 12](#toc0_)"
   ]
  },
  {
   "cell_type": "code",
   "execution_count": null,
   "metadata": {},
   "outputs": [],
   "source": [
    "# add up all evidence, for total evidence items associated with Not Supported Variants\n",
    "merged_not_supported_evidence_total = merged_not_supported_evidence_df[\n",
    "    \"Sum of Evidence from CIViC and MOA per Category\"\n",
    "].sum()\n",
    "merged_not_supported_evidence_df[\n",
    "    \"Merged Not Supported Evidence Total\"\n",
    "] = merged_not_supported_evidence_total"
   ]
  },
  {
   "cell_type": "code",
   "execution_count": null,
   "metadata": {},
   "outputs": [],
   "source": [
    "# new percent of each category of the total merged evidence from CIViC and MOA\n",
    "merged_not_supported_evidence_df[\n",
    "    \"Merged Not Supported Evidence Category of Not Supported Percent\"\n",
    "] = (\n",
    "    merged_not_supported_evidence_df[\"Sum of Evidence from CIViC and MOA per Category\"]\n",
    "    / merged_not_supported_evidence_df[\"Merged Not Supported Evidence Total\"]\n",
    ") * 100\n",
    "merged_not_supported_evidence_df = merged_not_supported_evidence_df.round(\n",
    "    {\"Merged Not Supported Evidence Category of Not Supported Percent\": 2}\n",
    ")\n",
    "merged_not_supported_evidence_df[\n",
    "    \"Merged Not Supported Evidence Category of Not Supported Percent\"\n",
    "] = (\n",
    "    merged_not_supported_evidence_df[\n",
    "        \"Merged Not Supported Evidence Category of Not Supported Percent\"\n",
    "    ].astype(str)\n",
    "    + \"%\"\n",
    ")"
   ]
  },
  {
   "cell_type": "code",
   "execution_count": null,
   "metadata": {},
   "outputs": [],
   "source": [
    "# merge fraction and percent\n",
    "merged_not_supported_evidence_df[\"Percent of all Not Supported Evidence Items\"] = (\n",
    "    merged_not_supported_evidence_df[\n",
    "        \"Sum of Evidence from CIViC and MOA per Category\"\n",
    "    ].astype(str)\n",
    "    + \" / \"\n",
    "    + merged_not_supported_evidence_df[\"Merged Not Supported Evidence Total\"].astype(\n",
    "        str\n",
    "    )\n",
    "    + \" (\"\n",
    "    + merged_not_supported_evidence_df[\n",
    "        \"Merged Not Supported Evidence Category of Not Supported Percent\"\n",
    "    ].astype(str)\n",
    "    + \")\"\n",
    ")"
   ]
  },
  {
   "cell_type": "markdown",
   "metadata": {},
   "source": [
    "### <a id='toc1_3_11_'></a>[Summary Table 12](#toc0_)"
   ]
  },
  {
   "cell_type": "markdown",
   "metadata": {},
   "source": [
    "The table below shows the categories of Not Supported variants the percent of each category of total merged Not Supported evidence."
   ]
  },
  {
   "cell_type": "markdown",
   "metadata": {},
   "source": [
    "<ins>Numerator:</ins> # of evidence items that are associated with Not Supported variants in a given Subcategory\n",
    "<br><ins>Denominator:</ins> # of evidence items associated with Not Supported variants"
   ]
  },
  {
   "cell_type": "code",
   "execution_count": null,
   "metadata": {},
   "outputs": [],
   "source": [
    "# clean up summary table by dropping columns and resetting index\n",
    "merged_civic_moa_summary_table_12 = merged_not_supported_evidence_df[\n",
    "    [\"Category\", \"Percent of all Not Supported Evidence Items\"]\n",
    "].copy()\n",
    "merged_civic_moa_summary_table_12 = merged_civic_moa_summary_table_12.set_index(\n",
    "    \"Category\"\n",
    ")\n",
    "merged_civic_moa_summary_table_12"
   ]
  },
  {
   "cell_type": "markdown",
   "metadata": {},
   "source": [
    "## <a id='toc1_4_'></a>[Merge CIViC and MOA Summary Impact Dataframes](#toc0_)"
   ]
  },
  {
   "cell_type": "code",
   "execution_count": null,
   "metadata": {},
   "outputs": [],
   "source": [
    "not_supported_variant_impact_df = pd.read_csv(\n",
    "    \"../civic/evidence_analysis/civic_evidence_analysis_output/not_supported_variant_impact_df.csv\",\n",
    "    sep=\",\",\n",
    ")\n",
    "not_supported_feature_impact_df = pd.read_csv(\n",
    "    \"../moa/assertion_analysis/moa_assertion_analysis_output/not_supported_feature_impact_df.csv\",\n",
    "    sep=\",\",\n",
    ")"
   ]
  },
  {
   "cell_type": "code",
   "execution_count": null,
   "metadata": {},
   "outputs": [],
   "source": [
    "moa_impact_df = pd.read_csv(\n",
    "    \"../moa/assertion_analysis/moa_assertion_analysis_output/not_supported_feature_impact_df.csv\",\n",
    "    sep=\",\",\n",
    ")\n",
    "civic_both_evidence_impact_df = pd.read_csv(\n",
    "    \"../civic/evidence_analysis/civic_evidence_analysis_output/civic_both_evidence_cat_impact_df.csv\",\n",
    "    sep=\",\",\n",
    ")\n",
    "civic_accepted_evidence_only_impact_df = pd.read_csv(\n",
    "    \"../civic/evidence_analysis/civic_evidence_analysis_output/civic_accepted_evidence_only_impact_df.csv\",\n",
    "    sep=\",\",\n",
    ")"
   ]
  },
  {
   "cell_type": "markdown",
   "metadata": {},
   "source": [
    "### <a id='toc1_4_1_'></a>[Building Summary Table 13 & 14](#toc0_)"
   ]
  },
  {
   "cell_type": "code",
   "execution_count": null,
   "metadata": {},
   "outputs": [],
   "source": [
    "civic_both_evidence_impact_df = civic_both_evidence_impact_df.rename(\n",
    "    columns={\n",
    "        \"category\": \"Category\",\n",
    "        \"number_of_variants\": \"Number_CIViC_Variants\",\n",
    "        \"#_evidence_items\": \"Number_CIViC_Evidences\",\n",
    "        \"impact\": \"CIViC_Impact_Score\",\n",
    "        \"average_impact_per_variant\": \"CIViC_AVG_Variant_Impact\",\n",
    "    }\n",
    ")\n",
    "civic_accepted_evidence_only_impact_df = civic_accepted_evidence_only_impact_df.rename(\n",
    "    columns={\n",
    "        \"category\": \"Category\",\n",
    "        \"number_of_variants\": \"Number_CIViC_Variants\",\n",
    "        \"#_evidence_items\": \"Number_CIViC_Evidences\",\n",
    "        \"impact\": \"CIViC_Impact_Score\",\n",
    "        \"average_impact_per_variant\": \"CIViC_AVG_Variant_Impact\",\n",
    "    }\n",
    ")"
   ]
  },
  {
   "cell_type": "code",
   "execution_count": null,
   "metadata": {},
   "outputs": [],
   "source": [
    "merged_both_impact_df = pd.merge(\n",
    "    civic_both_evidence_impact_df, moa_impact_df, on=\"Category\"\n",
    ").copy()\n",
    "merged_accepted_only_impact_df = pd.merge(\n",
    "    civic_accepted_evidence_only_impact_df, moa_impact_df, on=\"Category\"\n",
    ").copy()"
   ]
  },
  {
   "cell_type": "code",
   "execution_count": null,
   "metadata": {},
   "outputs": [],
   "source": [
    "merged_both_impact_df[\"Sum_Variants\"] = (\n",
    "    merged_both_impact_df[\"Number_CIViC_Variants\"]\n",
    "    + merged_both_impact_df[\"Total Number Features\"]\n",
    ")\n",
    "merged_both_impact_df[\"Sum_Evidence_Items\"] = (\n",
    "    merged_both_impact_df[\"Number_CIViC_Evidences\"]\n",
    "    + merged_both_impact_df[\"Total Number Assertions\"]\n",
    ")\n",
    "merged_both_impact_df[\"Sum_Impact\"] = (\n",
    "    merged_both_impact_df[\"CIViC_Impact_Score\"]\n",
    "    + merged_both_impact_df[\"MOA Total Sum Impact Score\"]\n",
    ")\n",
    "merged_both_impact_df[\"Average_Sum_Impact_Per_Variant\"] = (\n",
    "    merged_both_impact_df[\"Sum_Impact\"] / merged_both_impact_df[\"Sum_Variants\"]\n",
    ")\n",
    "merged_both_impact_df.sort_values(by=[\"Sum_Impact\"], ascending=False, ignore_index=True)"
   ]
  },
  {
   "cell_type": "markdown",
   "metadata": {},
   "source": [
    "### <a id='toc1_4_2_'></a>[Summary Table 13](#toc0_)"
   ]
  },
  {
   "cell_type": "code",
   "execution_count": null,
   "metadata": {},
   "outputs": [],
   "source": [
    "merged_both_impact_df[\n",
    "    \"Ratio of MOA Features to MOA+CIVIC per Category\"\n",
    "] = merged_both_impact_df[\"Total Number Features\"] / (\n",
    "    merged_both_impact_df[\"Total Number Features\"]\n",
    "    + merged_both_impact_df[\"Number_CIViC_Variants\"]\n",
    ")\n",
    "merged_both_impact_df"
   ]
  },
  {
   "cell_type": "code",
   "execution_count": null,
   "metadata": {},
   "outputs": [],
   "source": [
    "def add_color(\n",
    "    df: pd.DataFrame, color: str, all_categories: bool, index_pos: int\n",
    ") -> pd.DataFrame:\n",
    "    \"\"\"Add column with information about the color of the lines in the parallel plot with the most impactful category being red\n",
    "\n",
    "    :param df: Dataframe of variants\n",
    "    :param color: string of hexadecimal color code\n",
    "    :param all_categories: True if want to apply the color to all of the categories, False if you just want to apply it a certain category\n",
    "    :param index: if all_categories = False, the index of the category you would like to indicate based on being ordered by the Sum_Impact in ascending order\n",
    "    :return: Transformed dataframe with a color column\n",
    "    \"\"\"\n",
    "    if all_categories is True:\n",
    "        df[\"Color\"] = color\n",
    "    else:\n",
    "        df[\"Color\"][index_pos] = color\n",
    "    return df"
   ]
  },
  {
   "cell_type": "code",
   "execution_count": null,
   "metadata": {},
   "outputs": [],
   "source": [
    "def add_linewidth(\n",
    "    df: pd.DataFrame, width: int, all_categories: bool, index_pos: int\n",
    ") -> pd.DataFrame:\n",
    "    \"\"\"Add column with information about the width of the lines in the parallel plot with the most impactful category being thickest\n",
    "\n",
    "    :param df: Dataframe of variants\n",
    "    :param color: number indicating width\n",
    "    :param all_categories: True if want to apply the width to all of the categories, False if you just want to apply it a certain category\n",
    "    :param index: if all_categories = False, the index of the category you would like to indicate based on being ordered by the Sum_Impact in ascending order\n",
    "    :return: Transformed dataframe with a line width column\n",
    "    \"\"\"\n",
    "    if all_categories is True:\n",
    "        df[\"Line_Width\"] = width\n",
    "    else:\n",
    "        df[\"Line_Width\"][index_pos] = width\n",
    "    return df"
   ]
  },
  {
   "cell_type": "code",
   "execution_count": null,
   "metadata": {},
   "outputs": [],
   "source": [
    "merged_both_impact_df = add_color(\n",
    "    merged_both_impact_df, \"#222222\", True, index_pos=None\n",
    ")"
   ]
  },
  {
   "cell_type": "code",
   "execution_count": null,
   "metadata": {},
   "outputs": [],
   "source": [
    "merged_both_impact_df = add_linewidth(merged_both_impact_df, 1, True, index_pos=None)"
   ]
  },
  {
   "cell_type": "code",
   "execution_count": null,
   "metadata": {},
   "outputs": [],
   "source": [
    "merged_both_impact_df = add_linewidth(merged_both_impact_df, 3, False, index_pos=0)"
   ]
  },
  {
   "cell_type": "code",
   "execution_count": null,
   "metadata": {},
   "outputs": [],
   "source": [
    "merged_both_impact_df = add_color(merged_both_impact_df, \"#CC0000\", False, index_pos=0)"
   ]
  },
  {
   "cell_type": "code",
   "execution_count": null,
   "metadata": {},
   "outputs": [],
   "source": [
    "merged_both_impact_df = merged_both_impact_df.sort_values(\n",
    "    \"Sum_Impact\", ignore_index=True\n",
    ")"
   ]
  },
  {
   "cell_type": "code",
   "execution_count": null,
   "metadata": {},
   "outputs": [],
   "source": [
    "merged_both_impact_df.to_csv(\n",
    "    \"merged_moa_civic_evidence_analysis_output/merged_both_impact_df.csv\", index=False\n",
    ")\n",
    "merged_both_impact_df"
   ]
  },
  {
   "cell_type": "code",
   "execution_count": null,
   "metadata": {},
   "outputs": [],
   "source": [
    "merged_accepted_only_impact_df[\"Sum_Variants\"] = (\n",
    "    merged_accepted_only_impact_df[\"Number_CIViC_Variants\"]\n",
    "    + merged_accepted_only_impact_df[\"Total Number Features\"]\n",
    ")\n",
    "merged_accepted_only_impact_df[\"Sum_Evidence_Items\"] = (\n",
    "    merged_accepted_only_impact_df[\"Number_CIViC_Evidences\"]\n",
    "    + merged_accepted_only_impact_df[\"Total Number Assertions\"]\n",
    ")\n",
    "merged_accepted_only_impact_df[\"Sum_Impact\"] = (\n",
    "    merged_accepted_only_impact_df[\"CIViC_Impact_Score\"]\n",
    "    + merged_accepted_only_impact_df[\"MOA Total Sum Impact Score\"]\n",
    ")\n",
    "merged_accepted_only_impact_df[\"Average_Sum_Impact_Per_Variant\"] = (\n",
    "    merged_accepted_only_impact_df[\"Sum_Impact\"]\n",
    "    / merged_accepted_only_impact_df[\"Sum_Variants\"]\n",
    ")\n",
    "merged_accepted_only_impact_df.sort_values(\n",
    "    by=[\"Sum_Impact\"], ascending=False, ignore_index=True\n",
    ")"
   ]
  },
  {
   "cell_type": "code",
   "execution_count": null,
   "metadata": {},
   "outputs": [],
   "source": [
    "merged_accepted_only_impact_df = add_color(\n",
    "    merged_accepted_only_impact_df, \"#222222\", True, index_pos=None\n",
    ")"
   ]
  },
  {
   "cell_type": "code",
   "execution_count": null,
   "metadata": {},
   "outputs": [],
   "source": [
    "merged_accepted_only_impact_df = add_linewidth(\n",
    "    merged_accepted_only_impact_df, 1, True, index_pos=None\n",
    ")"
   ]
  },
  {
   "cell_type": "code",
   "execution_count": null,
   "metadata": {},
   "outputs": [],
   "source": [
    "merged_accepted_only_impact_df = add_color(\n",
    "    merged_accepted_only_impact_df, \"#CC0000\", False, index_pos=0\n",
    ")"
   ]
  },
  {
   "cell_type": "code",
   "execution_count": null,
   "metadata": {},
   "outputs": [],
   "source": [
    "merged_accepted_only_impact_df = add_linewidth(\n",
    "    merged_accepted_only_impact_df, 3, False, index_pos=0\n",
    ")"
   ]
  },
  {
   "cell_type": "code",
   "execution_count": null,
   "metadata": {},
   "outputs": [],
   "source": [
    "merged_accepted_only_impact_df = merged_accepted_only_impact_df.sort_values(\n",
    "    \"Sum_Impact\", ignore_index=True\n",
    ")"
   ]
  },
  {
   "cell_type": "markdown",
   "metadata": {},
   "source": [
    "### <a id='toc1_4_3_'></a>[Summary Table 14](#toc0_)"
   ]
  },
  {
   "cell_type": "code",
   "execution_count": null,
   "metadata": {},
   "outputs": [],
   "source": [
    "merged_accepted_only_impact_df[\n",
    "    \"Ratio of MOA Features to MOA+CIVIC per Category\"\n",
    "] = merged_accepted_only_impact_df[\"Total Number Features\"] / (\n",
    "    merged_accepted_only_impact_df[\"Total Number Features\"]\n",
    "    + merged_accepted_only_impact_df[\"Number_CIViC_Variants\"]\n",
    ")"
   ]
  },
  {
   "cell_type": "code",
   "execution_count": null,
   "metadata": {},
   "outputs": [],
   "source": [
    "merged_accepted_only_impact_df.to_csv(\n",
    "    \"merged_moa_civic_evidence_analysis_output/merged_accepted_only_impact_df.csv\",\n",
    "    index=False,\n",
    ")\n",
    "merged_accepted_only_impact_df"
   ]
  },
  {
   "cell_type": "markdown",
   "metadata": {},
   "source": [
    "## <a id='toc1_5_'></a>[Building Scatterpie plot](#toc0_)"
   ]
  },
  {
   "cell_type": "code",
   "execution_count": null,
   "metadata": {},
   "outputs": [],
   "source": [
    "merged_not_supported_impact_df = pd.merge(\n",
    "    not_supported_feature_impact_df, not_supported_variant_impact_df, on=\"Category\"\n",
    ")"
   ]
  },
  {
   "cell_type": "markdown",
   "metadata": {},
   "source": [
    "### <a id='toc1_5_1_'></a>[Merge aspects of the dataframe (number of evidence items, variants, impact score)](#toc0_)"
   ]
  },
  {
   "cell_type": "code",
   "execution_count": null,
   "metadata": {},
   "outputs": [],
   "source": [
    "merged_not_supported_impact_df[\"Sum Evidence Items\"] = (\n",
    "    merged_not_supported_impact_df[\"Total Number Evidence Items\"]\n",
    "    + merged_not_supported_impact_df[\"Total Number Assertions\"]\n",
    ")"
   ]
  },
  {
   "cell_type": "code",
   "execution_count": null,
   "metadata": {},
   "outputs": [],
   "source": [
    "merged_not_supported_impact_df[\"Sum Variants\"] = (\n",
    "    merged_not_supported_impact_df[\"Total Number Variants\"]\n",
    "    + merged_not_supported_impact_df[\"Total Number Features\"]\n",
    ")"
   ]
  },
  {
   "cell_type": "code",
   "execution_count": null,
   "metadata": {},
   "outputs": [],
   "source": [
    "merged_not_supported_impact_df[\"Sum Impact Score\"] = (\n",
    "    merged_not_supported_impact_df[\"CIVIC Total Sum Impact Score\"]\n",
    "    + merged_not_supported_impact_df[\"MOA Total Sum Impact Score\"]\n",
    ")\n",
    "merged_not_supported_impact_df"
   ]
  },
  {
   "cell_type": "markdown",
   "metadata": {},
   "source": [
    "### <a id='toc1_5_2_'></a>[Calculate the ratio of features/variants that come from MOA](#toc0_)"
   ]
  },
  {
   "cell_type": "code",
   "execution_count": null,
   "metadata": {},
   "outputs": [],
   "source": [
    "merged_not_supported_impact_df[\n",
    "    \"Ratio of MOA Features to MOA+CIVIC per Category\"\n",
    "] = merged_not_supported_impact_df[\"Total Number Features\"] / (\n",
    "    merged_not_supported_impact_df[\"Total Number Features\"]\n",
    "    + merged_not_supported_impact_df[\"Total Number Variants\"]\n",
    ")"
   ]
  },
  {
   "cell_type": "code",
   "execution_count": null,
   "metadata": {},
   "outputs": [],
   "source": [
    "merged_not_supported_impact_df.to_csv(\n",
    "    \"merged_moa_civic_evidence_analysis_output/merged_not_supported_impact_df.csv\",\n",
    "    index=False,\n",
    ")\n",
    "merged_not_supported_impact_df"
   ]
  },
  {
   "cell_type": "code",
   "execution_count": null,
   "metadata": {},
   "outputs": [],
   "source": [
    "trimmed_merged_not_supported_impact_df = merged_not_supported_impact_df[\n",
    "    [\n",
    "        \"Category\",\n",
    "        \"Sum Evidence Items\",\n",
    "        \"Sum Variants\",\n",
    "        \"Sum Impact Score\",\n",
    "        \"Ratio of MOA Features to MOA+CIVIC per Category\",\n",
    "    ]\n",
    "].copy()\n",
    "trimmed_merged_not_supported_impact_df"
   ]
  },
  {
   "cell_type": "code",
   "execution_count": null,
   "metadata": {},
   "outputs": [],
   "source": [
    "trimmed_merged_not_supported_impact_df.to_csv(\n",
    "    \"merged_moa_civic_evidence_analysis_output/trimmed_merged_not_supported_impact_df.csv\",\n",
    "    index=False,\n",
    ")"
   ]
  },
  {
   "cell_type": "code",
   "execution_count": null,
   "metadata": {},
   "outputs": [],
   "source": [
    "variant_category_list = merged_not_supported_impact_df[\"Category\"]\n",
    "variant_category_list"
   ]
  },
  {
   "cell_type": "code",
   "execution_count": null,
   "metadata": {},
   "outputs": [],
   "source": [
    "ratio_list = merged_not_supported_impact_df[\n",
    "    \"Ratio of MOA Features to MOA+CIVIC per Category\"\n",
    "].to_numpy()"
   ]
  },
  {
   "cell_type": "code",
   "execution_count": null,
   "metadata": {},
   "outputs": [],
   "source": [
    "moa_civic_evidence_sum_list = merged_not_supported_impact_df[\n",
    "    \"Sum Evidence Items\"\n",
    "].to_numpy()"
   ]
  },
  {
   "cell_type": "code",
   "execution_count": null,
   "metadata": {},
   "outputs": [],
   "source": [
    "moa_civic_variant_sum_list = merged_not_supported_impact_df[\"Sum Variants\"].to_numpy()"
   ]
  },
  {
   "cell_type": "code",
   "execution_count": null,
   "metadata": {},
   "outputs": [],
   "source": [
    "moa_civic_impact_score_list = merged_not_supported_impact_df[\n",
    "    \"Sum Impact Score\"\n",
    "].to_numpy()"
   ]
  },
  {
   "cell_type": "code",
   "execution_count": null,
   "metadata": {},
   "outputs": [],
   "source": [
    "dict_summary = merged_not_supported_impact_df.to_dict(\"list\")"
   ]
  },
  {
   "cell_type": "code",
   "execution_count": null,
   "metadata": {},
   "outputs": [],
   "source": [
    "cat_to_coords = dict()\n",
    "for i, row in merged_not_supported_impact_df.iterrows():\n",
    "    cat_to_coords[row[0]] = f\"{(row[12], row[14])}\""
   ]
  },
  {
   "cell_type": "code",
   "execution_count": null,
   "metadata": {},
   "outputs": [],
   "source": [
    "cat_to_coords_list = list(cat_to_coords.items())\n",
    "cat_to_coords_list"
   ]
  },
  {
   "cell_type": "code",
   "execution_count": null,
   "metadata": {},
   "outputs": [],
   "source": [
    "fig5, ax = plt.subplots(figsize=(25, 15))\n",
    "legend_element_list = []\n",
    "colors = [\n",
    "    \"red\",\n",
    "    \"darkorange\",\n",
    "    \"forestgreen\",\n",
    "    \"lawngreen\",\n",
    "    \"gold\",\n",
    "    \"cyan\",\n",
    "    \"deepskyblue\",\n",
    "    \"mediumslateblue\",\n",
    "    \"blue\",\n",
    "    \"pink\",\n",
    "    \"deeppink\",\n",
    "    \"purple\",\n",
    "]\n",
    "variant_category = variant_category_list\n",
    "\n",
    "for i in range(11):\n",
    "    ratio = ratio_list[i]\n",
    "    size = moa_civic_variant_sum_list[i] * 20\n",
    "    cat_coor_label = cat_to_coords_list[i]\n",
    "\n",
    "    # Both will always have b\n",
    "    x = [0] + np.cos(np.linspace(2 * np.pi * ratio, 2 * np.pi, 100)).tolist()\n",
    "    y = [0] + np.sin(np.linspace(2 * np.pi * ratio, 2 * np.pi, 100)).tolist()\n",
    "    marker_b = np.column_stack([x, y])\n",
    "\n",
    "    if ratio:\n",
    "        # use both a & b\n",
    "        x = [0] + np.cos(np.linspace(0, 2 * np.pi * ratio, 100)).tolist()\n",
    "        y = [0] + np.sin(np.linspace(0, 2 * np.pi * ratio, 100)).tolist()\n",
    "        marker_a = np.column_stack([x, y])\n",
    "\n",
    "        ax.scatter(\n",
    "            moa_civic_evidence_sum_list[i],\n",
    "            moa_civic_impact_score_list[i],\n",
    "            marker=marker_a,\n",
    "            s=size,\n",
    "            facecolor=colors[i],\n",
    "            edgecolors=\"black\",\n",
    "            hatch=\"///////\",\n",
    "        )\n",
    "\n",
    "    ax.scatter(\n",
    "        moa_civic_evidence_sum_list[i],\n",
    "        moa_civic_impact_score_list[i],\n",
    "        marker=marker_b,\n",
    "        s=size,\n",
    "        facecolor=colors[i],\n",
    "        label=cat_coor_label,\n",
    "    )\n",
    "legend_elements = [\n",
    "    Line2D(\n",
    "        [0],\n",
    "        [0],\n",
    "        marker=\"o\",\n",
    "        color=\"w\",\n",
    "        label=\"Expression (626, 3629.00)\",\n",
    "        markerfacecolor=\"red\",\n",
    "        markersize=20,\n",
    "    ),\n",
    "    Line2D(\n",
    "        [0],\n",
    "        [0],\n",
    "        marker=\"o\",\n",
    "        color=\"w\",\n",
    "        label=\"Epigenetic Modification (24, 285.50)\",\n",
    "        markerfacecolor=\"darkorange\",\n",
    "        markersize=20,\n",
    "    ),\n",
    "    Line2D(\n",
    "        [0],\n",
    "        [0],\n",
    "        marker=\"o\",\n",
    "        color=\"w\",\n",
    "        label=\"Fusion (1239, 5689.25)\",\n",
    "        markerfacecolor=\"forestgreen\",\n",
    "        markersize=20,\n",
    "    ),\n",
    "    Line2D(\n",
    "        [0],\n",
    "        [0],\n",
    "        marker=\"o\",\n",
    "        color=\"w\",\n",
    "        label=\"Protein Consequence (705, 3747.75)\",\n",
    "        markerfacecolor=\"lawngreen\",\n",
    "        markersize=20,\n",
    "    ),\n",
    "    Line2D(\n",
    "        [0],\n",
    "        [0],\n",
    "        marker=\"o\",\n",
    "        color=\"w\",\n",
    "        label=\"Gene Function (347, 1822.50)\",\n",
    "        markerfacecolor=\"gold\",\n",
    "        markersize=20,\n",
    "    ),\n",
    "    Line2D(\n",
    "        [0],\n",
    "        [0],\n",
    "        marker=\"o\",\n",
    "        color=\"w\",\n",
    "        label=\"Rearrangements (218, 945.00)\",\n",
    "        markerfacecolor=\"cyan\",\n",
    "        markersize=20,\n",
    "    ),\n",
    "    Line2D(\n",
    "        [0],\n",
    "        [0],\n",
    "        marker=\"o\",\n",
    "        color=\"w\",\n",
    "        label=\"Copy Number (93, 254.00)\",\n",
    "        markerfacecolor=\"deepskyblue\",\n",
    "        markersize=20,\n",
    "    ),\n",
    "    Line2D(\n",
    "        [0],\n",
    "        [0],\n",
    "        marker=\"o\",\n",
    "        color=\"w\",\n",
    "        label=\"Other  (185, 708.50)\",\n",
    "        markerfacecolor=\"mediumslateblue\",\n",
    "        markersize=20,\n",
    "    ),\n",
    "    Line2D(\n",
    "        [0],\n",
    "        [0],\n",
    "        marker=\"o\",\n",
    "        color=\"w\",\n",
    "        label=\"Genotypes Easy (23, 195.00)\",\n",
    "        markerfacecolor=\"blue\",\n",
    "        markersize=20,\n",
    "    ),\n",
    "    Line2D(\n",
    "        [0],\n",
    "        [0],\n",
    "        marker=\"o\",\n",
    "        color=\"w\",\n",
    "        label=\"Genotypes Compound (7, 117.50)\",\n",
    "        markerfacecolor=\"pink\",\n",
    "        markersize=20,\n",
    "    ),\n",
    "    Line2D(\n",
    "        [0],\n",
    "        [0],\n",
    "        marker=\"o\",\n",
    "        color=\"w\",\n",
    "        label=\"Region Defined (924, 8311.50)\",\n",
    "        markerfacecolor=\"deeppink\",\n",
    "        markersize=20,\n",
    "    ),\n",
    "    Line2D(\n",
    "        [0],\n",
    "        [0],\n",
    "        marker=\"o\",\n",
    "        color=\"w\",\n",
    "        label=\"Transcript (471, 346.50)\",\n",
    "        markerfacecolor=\"purple\",\n",
    "        markersize=20,\n",
    "    ),\n",
    "    Line2D([0], [0], color=\"w\", markerfacecolor=\"white\"),\n",
    "    mpatches.Circle(\n",
    "        xy=(0, 0),\n",
    "        radius=1,\n",
    "        edgecolor=\"black\",\n",
    "        facecolor=\"white\",\n",
    "        hatch=\"///////\",\n",
    "        label=\"Variants from MOA\",\n",
    "    ),\n",
    "    mpatches.Circle(\n",
    "        xy=(0, 0),\n",
    "        radius=1,\n",
    "        edgecolor=\"black\",\n",
    "        facecolor=\"white\",\n",
    "        label=\"Variants from CIViC\",\n",
    "    ),\n",
    "]\n",
    "legend_2_elements = [\n",
    "    Line2D([0], [0], color=\"w\", markerfacecolor=\"white\"),\n",
    "    Line2D([0], [0], color=\"w\", markerfacecolor=\"white\"),\n",
    "    Line2D([0], [0], color=\"w\", markerfacecolor=\"white\"),\n",
    "    Line2D(\n",
    "        [0],\n",
    "        [0],\n",
    "        marker=\"o\",\n",
    "        color=\"w\",\n",
    "        label=\"          300 variants per category\",\n",
    "        markerfacecolor=\"black\",\n",
    "        markersize=85,\n",
    "    ),\n",
    "    Line2D([0], [0], color=\"k\", markerfacecolor=\"white\"),\n",
    "    Line2D([0], [0], color=\"w\", markerfacecolor=\"white\"),\n",
    "    Line2D([0], [0], color=\"w\", markerfacecolor=\"white\"),\n",
    "    Line2D(\n",
    "        [0],\n",
    "        [0],\n",
    "        marker=\"o\",\n",
    "        color=\"w\",\n",
    "        label=\"          200 variants per category\",\n",
    "        markerfacecolor=\"black\",\n",
    "        markersize=60,\n",
    "    ),\n",
    "    Line2D([0], [0], color=\"k\", markerfacecolor=\"white\"),\n",
    "    Line2D([0], [0], color=\"w\", markerfacecolor=\"white\"),\n",
    "    Line2D(\n",
    "        [0],\n",
    "        [0],\n",
    "        marker=\"o\",\n",
    "        color=\"w\",\n",
    "        label=\"          50 variants per category\",\n",
    "        markerfacecolor=\"black\",\n",
    "        markersize=24,\n",
    "    ),\n",
    "    Line2D([0], [0], color=\"w\", markerfacecolor=\"white\"),\n",
    "]\n",
    "\n",
    "# Create the figure\n",
    "first_legend = ax.legend(\n",
    "    handles=legend_elements,\n",
    "    loc=\"lower left\",\n",
    "    bbox_to_anchor=(0.0, 0.325, 3, 0.550),\n",
    "    fontsize=20,\n",
    ")\n",
    "# first_legend._legend_box.align = \"left\"\n",
    "ax.add_artist(first_legend)\n",
    "ax.set_xlabel(\"Number of Evidence Items per Category (MOA & CIViC)\", fontsize=25)\n",
    "ax.set_ylabel(\"Impact Score per Category (MOA & CIViC)\", fontsize=25)\n",
    "for axis in [\"top\", \"bottom\", \"left\", \"right\"]:\n",
    "    ax.spines[axis].set_linewidth(4)\n",
    "ax.tick_params(width=4)\n",
    "second_legend = ax.legend(handles=legend_2_elements, loc=\"lower right\", frameon=False)\n",
    "ax.add_artist(second_legend)\n",
    "plt.title(\"Impact Score of Currently Not Supported Variant Categories\", fontsize=40)\n",
    "plt.xticks(fontsize=20)\n",
    "plt.yticks(fontsize=20)\n",
    "plt.setp(plt.gca().get_legend().get_texts(), fontsize=\"17\")\n",
    "\n",
    "plt.savefig(\n",
    "    \"../merged_moa_civic/merged_moa_civic_evidence_analysis_output/impact_scatterpie_plot.jpeg\",\n",
    "    dpi=1000,\n",
    ")\n",
    "\n",
    "\n",
    "plt.show()"
   ]
  },
  {
   "cell_type": "markdown",
   "metadata": {},
   "source": [
    "## <a id='toc1_6_'></a>[Building Parallel Impact Plot](#toc0_)"
   ]
  },
  {
   "cell_type": "code",
   "execution_count": null,
   "metadata": {},
   "outputs": [],
   "source": [
    "def fig2rgb_array(fig):\n",
    "    \"\"\"Converting matplotlib figure type into a numplot array\n",
    "    :param fig: plt.subplots\n",
    "    :return: Numplot array\n",
    "    \"\"\"\n",
    "    fig.canvas.draw()\n",
    "    buf, (bw, bh) = fig.canvas.print_to_buffer()\n",
    "    ncols, nrows = fig.canvas.get_width_height()\n",
    "    return np.frombuffer(buf, dtype=np.uint8).reshape(nrows, ncols, 4)"
   ]
  },
  {
   "cell_type": "code",
   "execution_count": null,
   "metadata": {},
   "outputs": [],
   "source": [
    "# Data and options:\n",
    "pd.set_option(\"display.width\", 1200)\n",
    "pd.set_option(\"display.max_columns\", 300)\n",
    "pd.set_option(\"display.max_rows\", 300)"
   ]
  },
  {
   "cell_type": "code",
   "execution_count": null,
   "metadata": {},
   "outputs": [],
   "source": [
    "Bezier = False\n",
    "PlotChange = True\n",
    "Submitted_Opacity = 0.2\n",
    "# If you want auto colors, change the #Auto Colors setting section below\n",
    "Autocolors = False"
   ]
  },
  {
   "cell_type": "code",
   "execution_count": null,
   "metadata": {},
   "outputs": [],
   "source": [
    "def plot_impact(df: pd.DataFrame) -> pd.DataFrame:\n",
    "    \"\"\"Plot impact parallel plot\n",
    "\n",
    "    :param df: Dataframe of Variant Categories with number of variants, evidence items, and impact score\n",
    "    :return: Returns a parallel plot with number with number of variants, evidence items, and impact score per Not Supported Variant Subcategories\n",
    "    \"\"\"\n",
    "    df_byImpact = df.copy(deep=True)\n",
    "\n",
    "    ratios = df_byImpact[\"Ratio of MOA Features to MOA+CIVIC per Category\"].to_list()\n",
    "\n",
    "    my_vars = [\"Sum_Variants\", \"Sum_Evidence_Items\", \"Sum_Impact\", \"Category\"]\n",
    "    my_vars_names = [\"Variants\", \"Evidence Items\", \"Impact Score\", \"Variant Category\"]\n",
    "\n",
    "    # Below are settings for line types, font sizes, or hard-coded colors.\n",
    "\n",
    "    ratioplots = []\n",
    "    scrapfig, scrapax = plt.subplots(figsize=[0.5, 0.5])\n",
    "\n",
    "    for ratio in ratios:\n",
    "        scrapax.pie([ratio, 2.0 - ratio], colors=[\"black\", \"darkgrey\"])\n",
    "        data = fig2rgb_array(scrapfig)\n",
    "        ratioplots.append(data)\n",
    "\n",
    "    plt.close()\n",
    "\n",
    "    # Adapt the data:\n",
    "    df_clean_Impact = df_byImpact[my_vars + [\"Line_Width\", \"Color\"]]\n",
    "    df_clean_Impact = df_clean_Impact.dropna()\n",
    "    df_clean_Impact = df_clean_Impact.reset_index(drop=True)\n",
    "\n",
    "    df_plot = df_clean_Impact[my_vars]\n",
    "\n",
    "    # Convert categories to numeric:\n",
    "    ym = []\n",
    "    dics_vars = []\n",
    "    for v, var in enumerate(my_vars):\n",
    "        if df_plot[var].dtype.kind not in [\"i\", \"u\", \"f\"]:\n",
    "            dic_var = dict([(val, c) for c, val in enumerate(df_plot[var].unique())])\n",
    "            dics_vars += [dic_var]\n",
    "            ym += [[dic_var[i] for i in df_plot[var].tolist()]]\n",
    "        else:\n",
    "            ym += [df_plot[var].tolist()]\n",
    "    ym = np.array(ym).T\n",
    "\n",
    "    # Padding:\n",
    "    ymins = ym.min(axis=0)\n",
    "    ymaxs = ym.max(axis=0)\n",
    "    dys = ymaxs - ymins\n",
    "    ymins -= dys * 0.05\n",
    "    ymaxs += dys * 0.05\n",
    "    dys = ymaxs - ymins\n",
    "\n",
    "    # Adjust to the main axis:\n",
    "    zs = np.zeros_like(ym)\n",
    "    zs[:, 0] = ym[:, 0]\n",
    "    zs[:, 1:] = (ym[:, 1:] - ymins[1:]) / dys[1:] * dys[0] + ymins[0]\n",
    "\n",
    "    # Auto Colors - V1.0\n",
    "    n_levels = len(dics_vars[0])\n",
    "    my_colors = [\n",
    "        \"#F41E1E\",\n",
    "        \"#F4951E\",\n",
    "        \"#F4F01E\",\n",
    "        \"#4EF41E\",\n",
    "        \"#1EF4DC\",\n",
    "        \"#1E3CF4\",\n",
    "        \"#F41EF3\",\n",
    "    ]\n",
    "    cmap = LinearSegmentedColormap.from_list(\"my_palette\", my_colors)\n",
    "    my_palette = [cmap(i / n_levels) for i in np.array(range(n_levels))]\n",
    "\n",
    "    # Plot:\n",
    "    fig, host_ax = plt.subplots(figsize=(10, 5), tight_layout=True)\n",
    "\n",
    "    # Make the axes:\n",
    "    axes = [host_ax] + [host_ax.twinx() for i in range(ym.shape[1] - 1)]\n",
    "    dic_count = 0\n",
    "\n",
    "    for i, ax in enumerate(axes):\n",
    "        ax.set_ylim(bottom=ymins[i], top=ymaxs[i])\n",
    "        ax.spines.top.set_visible(False)\n",
    "        ax.spines.bottom.set_visible(False)\n",
    "        ax.ticklabel_format(style=\"plain\")\n",
    "        if ax != host_ax:\n",
    "            ax.spines.left.set_visible(False)\n",
    "            ax.yaxis.set_ticks_position(\"right\")\n",
    "            ax.spines.right.set_position((\"axes\", i / (ym.shape[1] - 1)))\n",
    "\n",
    "        if df_plot.iloc[:, i].dtype.kind not in [\"i\", \"u\", \"f\"]:\n",
    "            dic_var_i = dics_vars[dic_count]\n",
    "            ax.set_yticks(range(len(dic_var_i)))\n",
    "            ax.set_yticklabels(\n",
    "                [\"             \" + key_val for key_val in dics_vars[dic_count].keys()]\n",
    "            )\n",
    "\n",
    "            tick_labels = ax.yaxis.get_ticklabels()\n",
    "\n",
    "            atickcount = 0\n",
    "            for atick in tick_labels:\n",
    "                ib = OffsetImage(\n",
    "                    ratioplots[atickcount][0 : int(len(ratioplots[atickcount]) / 2)],\n",
    "                    zoom=0.85,\n",
    "                )\n",
    "\n",
    "                ib.image.axes = ax\n",
    "                ab = AnnotationBbox(\n",
    "                    ib,\n",
    "                    (i, tick_labels[atickcount].get_position()[1]),\n",
    "                    frameon=False,\n",
    "                    box_alignment=(-0.05, 0.3),\n",
    "                )\n",
    "                ax.add_artist(ab)\n",
    "                atickcount += 1\n",
    "\n",
    "            dic_count += 1\n",
    "\n",
    "    ax.spines.right.set_visible(False)\n",
    "\n",
    "    host_ax.set_xlim(left=0, right=ym.shape[1] - 1)\n",
    "\n",
    "    host_ax.set_xticks(range(ym.shape[1]))\n",
    "\n",
    "    host_ax.set_xticklabels(my_vars_names, fontsize=14)\n",
    "\n",
    "    host_ax.tick_params(axis=\"x\", which=\"major\", pad=7)\n",
    "\n",
    "    host_ax.set_title(\"Clinical Impact of Not Supported Variants\", fontsize=18)\n",
    "\n",
    "    # Make the curves:\n",
    "    host_ax.spines.right.set_visible(False)\n",
    "    host_ax.xaxis.tick_top()\n",
    "    host_ax.tick_params(axis=\"x\", which=\"both\", length=0)\n",
    "    for j in range(ym.shape[0]):\n",
    "        if Bezier:\n",
    "            verts = list(\n",
    "                zip(\n",
    "                    [\n",
    "                        x\n",
    "                        for x in np.linspace(\n",
    "                            0, len(ym) - 1, len(ym) * 3 - 2, endpoint=True\n",
    "                        )\n",
    "                    ],\n",
    "                    np.repeat(zs[j, :], 3)[1:-1],\n",
    "                )\n",
    "            )\n",
    "            codes = [mPath.MOVETO] + [mPath.CURVE4 for _ in range(len(verts) - 1)]\n",
    "        else:\n",
    "            verts = list(zip([x for x in range(len(ym))], zs[j, :]))\n",
    "            codes = [mPath.MOVETO] + [mPath.LINETO for _ in range(len(verts) - 1)]\n",
    "        mpath = mPath(verts, codes)\n",
    "\n",
    "        if Autocolors:\n",
    "            acolor = my_palette[j % len(dics_vars[0])]\n",
    "        else:\n",
    "            acolor = df_clean_Impact[\"Color\"].iloc[j]\n",
    "\n",
    "        patch = mpatches.PathPatch(\n",
    "            mpath,\n",
    "            facecolor=\"none\",\n",
    "            lw=df_clean_Impact[\"Line_Width\"].iloc[j],\n",
    "            edgecolor=acolor,\n",
    "        )\n",
    "        host_ax.add_patch(patch)\n",
    "    return ax"
   ]
  },
  {
   "cell_type": "markdown",
   "metadata": {},
   "source": [
    "Only accepted variants"
   ]
  },
  {
   "cell_type": "code",
   "execution_count": null,
   "metadata": {},
   "outputs": [],
   "source": [
    "merged_accepted_only_impact_df[\"Category\"] = merged_accepted_only_impact_df[\n",
    "    \"Category\"\n",
    "].str.replace(\"Variants\", \"\")"
   ]
  },
  {
   "cell_type": "code",
   "execution_count": null,
   "metadata": {},
   "outputs": [],
   "source": [
    "merged_accepted_only_impact_plot = plot_impact(merged_accepted_only_impact_df)\n",
    "merged_accepted_only_impact_plot"
   ]
  },
  {
   "cell_type": "code",
   "execution_count": null,
   "metadata": {},
   "outputs": [],
   "source": [
    "merged_accepted_only_impact_plot.figure.savefig(\n",
    "    \"merged_moa_civic_evidence_analysis_output/merged_accepted_only_impact_plot.png\"\n",
    ")"
   ]
  },
  {
   "cell_type": "markdown",
   "metadata": {},
   "source": [
    "Both accepted and submitted variants"
   ]
  },
  {
   "cell_type": "code",
   "execution_count": null,
   "metadata": {},
   "outputs": [],
   "source": [
    "merged_both_impact_df[\"Category\"] = merged_both_impact_df[\"Category\"].str.replace(\n",
    "    \"Variants\", \"\"\n",
    ")"
   ]
  },
  {
   "cell_type": "code",
   "execution_count": null,
   "metadata": {},
   "outputs": [],
   "source": [
    "merged_both_impact_plot = plot_impact(merged_both_impact_df)"
   ]
  },
  {
   "cell_type": "code",
   "execution_count": null,
   "metadata": {},
   "outputs": [],
   "source": [
    "merged_both_impact_plot.figure.savefig(\n",
    "    \"merged_moa_civic_evidence_analysis_output/merged_both_impact_plot.png\"\n",
    ")"
   ]
  }
 ],
 "metadata": {
  "kernelspec": {
   "display_name": "Python 3.10.9 ('.venv': venv)",
   "language": "python",
   "name": "python3"
  },
  "language_info": {
   "codemirror_mode": {
    "name": "ipython",
    "version": 3
   },
   "file_extension": ".py",
   "mimetype": "text/x-python",
   "name": "python",
   "nbconvert_exporter": "python",
   "pygments_lexer": "ipython3",
   "version": "3.10.9"
  },
  "orig_nbformat": 4,
  "vscode": {
   "interpreter": {
    "hash": "60bedfc6dd95a1d756c285a8080496495ec396023cb257f004626f94ae504b38"
   }
  }
 },
 "nbformat": 4,
 "nbformat_minor": 2
}
