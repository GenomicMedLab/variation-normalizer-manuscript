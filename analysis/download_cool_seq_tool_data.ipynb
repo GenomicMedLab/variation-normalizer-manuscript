{
 "cells": [
  {
   "cell_type": "markdown",
   "metadata": {},
   "source": [
    "# Download data for Cool-Seq-Tool"
   ]
  },
  {
   "cell_type": "markdown",
   "metadata": {},
   "source": [
    "This notebook downloads data for Cool-Seq-Tool used throughout the analysis."
   ]
  },
  {
   "cell_type": "code",
   "execution_count": 1,
   "metadata": {},
   "outputs": [],
   "source": [
    "import requests\n",
    "from pathlib import Path"
   ]
  },
  {
   "cell_type": "code",
   "execution_count": 2,
   "metadata": {},
   "outputs": [],
   "source": [
    "def download_s3(url: str, outfile_path: Path) -> None:\n",
    "    \"\"\"Download objects from public s3 bucket\n",
    "\n",
    "    :param url: URL for file in s3 bucket\n",
    "    :param outfile_path: Path where file should be saved\n",
    "    \"\"\"\n",
    "    with requests.get(url, stream=True) as r:\n",
    "        r.raise_for_status()\n",
    "        with open(outfile_path, \"wb\") as h:\n",
    "            for chunk in r.iter_content(chunk_size=8192):\n",
    "                if chunk:\n",
    "                    h.write(chunk)"
   ]
  },
  {
   "cell_type": "code",
   "execution_count": 3,
   "metadata": {},
   "outputs": [],
   "source": [
    "Path(\"data\").mkdir(exist_ok=True)\n",
    "\n",
    "for fn in [\n",
    "    \"LRG_RefSeqGene_20231114\",\n",
    "    \"MANE.GRCh38.v1.3.summary.txt\",\n",
    "    \"transcript_mapping.tsv\",\n",
    "]:\n",
    "    url = f\"https://nch-igm-wagner-lab-public.s3.us-east-2.amazonaws.com/variation-normalizer-manuscript/cool-seq-tool/{fn}\"\n",
    "    outfile_path = Path(f\"data/{fn}\")\n",
    "    download_s3(url, outfile_path)"
   ]
  }
 ],
 "metadata": {
  "kernelspec": {
   "display_name": ".venv",
   "language": "python",
   "name": "python3"
  },
  "language_info": {
   "codemirror_mode": {
    "name": "ipython",
    "version": 3
   },
   "file_extension": ".py",
   "mimetype": "text/x-python",
   "name": "python",
   "nbconvert_exporter": "python",
   "pygments_lexer": "ipython3",
   "version": "3.11.5"
  }
 },
 "nbformat": 4,
 "nbformat_minor": 2
}
