{
 "cells": [
  {
   "cell_type": "markdown",
   "metadata": {},
   "source": [
    "# Merged notebooks for Not Supported CIViC and MOA evidence (assertion analysis)"
   ]
  },
  {
   "cell_type": "code",
   "execution_count": null,
   "metadata": {},
   "outputs": [],
   "source": [
    "from pathlib import Path\n",
    "from enum import Enum\n",
    "import zipfile\n",
    "import pandas as pd\n",
    "from civicpy import civic as civicpy\n",
    "import plotly.express as px\n",
    "import numpy as np\n",
    "import matplotlib.pyplot as plt\n",
    "import matplotlib.patches as mpatches\n",
    "from matplotlib.lines import Line2D\n",
    "from matplotlib.pyplot import figure\n",
    "from typing import Dict\n",
    "import json\n",
    "import requests\n",
    "from ga4gh.core import sha512t24u #pip install ga4gh.vrs\n",
    "import itertools"
   ]
  },
  {
   "cell_type": "markdown",
   "metadata": {},
   "source": [
    "## Merge CIViC and MOA Summary Variant Dataframes"
   ]
  },
  {
   "cell_type": "code",
   "execution_count": null,
   "metadata": {},
   "outputs": [],
   "source": [
    "civic_variant_ids = civicpy.get_all_variants()\n",
    "total_number_variants = len(civic_variant_ids)\n",
    "f\"Total Number of variants in CIViC: {total_number_variants}\""
   ]
  },
  {
   "cell_type": "code",
   "execution_count": null,
   "metadata": {},
   "outputs": [],
   "source": [
    "def get_feature_digest(feature: Dict) -> str:\n",
    "    \"\"\"Get digest for feature\n",
    "\n",
    "    :param feature: MOA feature\n",
    "    :return: Digest\n",
    "    \"\"\"\n",
    "    attrs = json.dumps(\n",
    "        feature[\"attributes\"][0],\n",
    "        sort_keys=True,\n",
    "        separators=(\",\", \":\"),\n",
    "        indent=None\n",
    "    ).encode(\"utf-8\")\n",
    "    return sha512t24u(attrs)"
   ]
  },
  {
   "cell_type": "code",
   "execution_count": null,
   "metadata": {},
   "outputs": [],
   "source": [
    "# Create dictionary for MOA Feature ID -> Feature Type\n",
    "r = requests.get(\"https://moalmanac.org/api/features\")\n",
    "if r.status_code == 200:\n",
    "    feature_data = r.json()\n",
    "\n",
    "features = {}\n",
    "\n",
    "for feature in feature_data:\n",
    "    feature_id = feature[\"feature_id\"]\n",
    "    digest = get_feature_digest(feature)\n",
    "    features[digest] = feature[\"feature_type\"]\n",
    "\n",
    "count_unique_feature_ids = len(features.keys())\n",
    "f\"Total Number of variants in MOA: {count_unique_feature_ids}\""
   ]
  },
  {
   "cell_type": "code",
   "execution_count": null,
   "metadata": {},
   "outputs": [],
   "source": [
    "#add all variants from CIViC and MOA\n",
    "merged_variant_total = total_number_variants+count_unique_feature_ids\n",
    "merged_variant_total =float(merged_variant_total)\n",
    "merged_variant_total"
   ]
  },
  {
   "cell_type": "code",
   "execution_count": null,
   "metadata": {},
   "outputs": [],
   "source": [
    "#import summary tables from source notebooks\n",
    "for_merge_all_variant_percent_of_civic_df = pd.read_csv(\"../analysis/for_merge_all_variant_percent_of_civic_df.csv\", sep=\",\")\n",
    "for_merge_all_variant_percent_of_moa_df = pd.read_csv(\"../analysis/for_merge_all_variant_percent_of_moa_df.csv\", sep=\",\")"
   ]
  },
  {
   "cell_type": "code",
   "execution_count": null,
   "metadata": {},
   "outputs": [],
   "source": [
    "#merge CIViC and MOA summary tables\n",
    "merged_all_variants_df = pd.merge(for_merge_all_variant_percent_of_civic_df, for_merge_all_variant_percent_of_moa_df, on=\"Variant Category\",how=\"outer\")\n",
    "merged_all_variants_df = merged_all_variants_df.replace(np.nan, 0, regex=True)"
   ]
  },
  {
   "cell_type": "markdown",
   "metadata": {},
   "source": [
    "Summary Table 1: The table below shows the 3 categories that CIViC and MOA variants were divided into after normalization and what percentage they make up of all variants in the respective source data. "
   ]
  },
  {
   "cell_type": "code",
   "execution_count": null,
   "metadata": {},
   "outputs": [],
   "source": [
    "#clean up summary table by dropping columns and resetting index\n",
    "merged_civic_moa_summary_table_1 = merged_all_variants_df.drop([\"Count of CIViC Variant Items per Category\", \"Count of MOA Features per Category\"], axis=1)\n",
    "merged_civic_moa_summary_table_1 = merged_civic_moa_summary_table_1.set_index(\"Variant Category\")\n",
    "merged_civic_moa_summary_table_1"
   ]
  },
  {
   "cell_type": "code",
   "execution_count": null,
   "metadata": {},
   "outputs": [],
   "source": [
    "#add up variants from CIViC and MOA for each Variant Category\n",
    "merged_all_variants_df[\"Count of CIViC Variant Items per Category\"] = merged_all_variants_df[\"Count of CIViC Variant Items per Category\"].astype(float)\n",
    "merged_all_variants_df[\"Sum of Variants from CIViC and MOA per Category\"] = merged_all_variants_df[\"Count of CIViC Variant Items per Category\"]+ merged_all_variants_df[\"Count of MOA Features per Category\"]"
   ]
  },
  {
   "cell_type": "code",
   "execution_count": null,
   "metadata": {},
   "outputs": [],
   "source": [
    "#new column for the total combined variant number from CIViC and MOA\n",
    "merged_all_variants_df[\"Sum of total Variants from CIViC and MOA\"]= merged_variant_total"
   ]
  },
  {
   "cell_type": "code",
   "execution_count": null,
   "metadata": {},
   "outputs": [],
   "source": [
    "#new percentage of each category of the total merged variants from CIViC and MOA\n",
    "merged_all_variants_df[\"Merged Variant Percentage\"]= (merged_all_variants_df[\"Sum of Variants from CIViC and MOA per Category\"] / merged_all_variants_df[\"Sum of total Variants from CIViC and MOA\"])*100\n",
    "merged_all_variants_df=merged_all_variants_df.round({\"Merged Variant Percentage\":2})\n",
    "merged_all_variants_df[\"Merged Variant Percentage\"]= merged_all_variants_df[\"Merged Variant Percentage\"].astype(str) + \"%\""
   ]
  },
  {
   "cell_type": "code",
   "execution_count": null,
   "metadata": {},
   "outputs": [],
   "source": [
    "#convert to integers to remove decimals\n",
    "merged_all_variants_df[\"Sum of Variants from CIViC and MOA per Category\"] = merged_all_variants_df[\"Sum of Variants from CIViC and MOA per Category\"].astype(int)\n",
    "\n",
    "merged_all_variants_df[\"Sum of total Variants from CIViC and MOA\"] = merged_all_variants_df[\"Sum of total Variants from CIViC and MOA\"].astype(int)"
   ]
  },
  {
   "cell_type": "code",
   "execution_count": null,
   "metadata": {},
   "outputs": [],
   "source": [
    "#merge fraction and percentage\n",
    "merged_all_variants_df[\"Percentage of all Merged Variant Items\"]= merged_all_variants_df[\"Sum of Variants from CIViC and MOA per Category\"].astype(str)+\" / \"+merged_all_variants_df[\"Sum of total Variants from CIViC and MOA\"].astype(str)+\" (\"+merged_all_variants_df[\"Merged Variant Percentage\"].astype(str)+\")\""
   ]
  },
  {
   "cell_type": "markdown",
   "metadata": {},
   "source": [
    "Summary Table 2: The table below shows the 3 categories that merged CIViC and MOA variants were divided into after normalization and what percentage they make up of all variants in the combined data. "
   ]
  },
  {
   "cell_type": "code",
   "execution_count": null,
   "metadata": {},
   "outputs": [],
   "source": [
    "#clean up summary table by dropping columns and resetting index\n",
    "merged_civic_moa_summary_table_2 = merged_all_variants_df.drop([\"Count of CIViC Variant Items per Category\", \"Percentage of all CIViC Variant Items\", \"Count of MOA Features per Category\", \"Percentage of all MOA Features\", \"Sum of Variants from CIViC and MOA per Category\", \"Sum of total Variants from CIViC and MOA\",\"Merged Variant Percentage\" ], axis=1)\n",
    "merged_civic_moa_summary_table_2= merged_civic_moa_summary_table_2.set_index(\"Variant Category\")\n",
    "merged_civic_moa_summary_table_2"
   ]
  },
  {
   "cell_type": "code",
   "execution_count": null,
   "metadata": {},
   "outputs": [],
   "source": [
    "#convert to integers to remove decimals\n",
    "merged_all_variants_df[\"Count of CIViC Variant Items per Category\"]= merged_all_variants_df[\"Count of CIViC Variant Items per Category\"].astype(int)\n",
    "\n",
    "merged_all_variants_df[\"Count of MOA Features per Category\"]= merged_all_variants_df[\"Count of MOA Features per Category\"].astype(int)"
   ]
  },
  {
   "cell_type": "code",
   "execution_count": null,
   "metadata": {},
   "outputs": [],
   "source": [
    "#new percentage of CIViC contribution for each category\n",
    "merged_all_variants_df[\"CIViC Variants of Category Percentage\"]=(merged_all_variants_df[\"Count of CIViC Variant Items per Category\"] / merged_all_variants_df[\"Sum of Variants from CIViC and MOA per Category\"])*100\n",
    "merged_all_variants_df=merged_all_variants_df.round({\"CIViC Variants of Category Percentage\":2})\n",
    "merged_all_variants_df[\"CIViC Variants of Category Percentage\"]= merged_all_variants_df[\"CIViC Variants of Category Percentage\"].astype(str) + \"%\""
   ]
  },
  {
   "cell_type": "code",
   "execution_count": null,
   "metadata": {},
   "outputs": [],
   "source": [
    "#merge fraction and percentage\n",
    "merged_all_variants_df[\"Percentage of CIViC Variants of Category\"]=merged_all_variants_df[\"Count of CIViC Variant Items per Category\"].astype(str)+\" / \"+merged_all_variants_df[\"Sum of Variants from CIViC and MOA per Category\"].astype(str)+\" (\"+merged_all_variants_df[\"CIViC Variants of Category Percentage\"].astype(str)+\")\""
   ]
  },
  {
   "cell_type": "code",
   "execution_count": null,
   "metadata": {},
   "outputs": [],
   "source": [
    "#new percentage of MOA contribution for each category\n",
    "merged_all_variants_df[\"MOA Variants of Category Percentage\"]=(merged_all_variants_df[\"Count of MOA Features per Category\"] / merged_all_variants_df[\"Sum of Variants from CIViC and MOA per Category\"])*100\n",
    "merged_all_variants_df=merged_all_variants_df.round({\"MOA Variants of Category Percentage\":2})\n",
    "merged_all_variants_df[\"MOA Variants of Category Percentage\"]= merged_all_variants_df[\"MOA Variants of Category Percentage\"].astype(str) + \"%\""
   ]
  },
  {
   "cell_type": "code",
   "execution_count": null,
   "metadata": {},
   "outputs": [],
   "source": [
    "#merge fraction and percentage\n",
    "merged_all_variants_df[\"Percentage of MOA Variants of Category\"]=merged_all_variants_df[\"Count of MOA Features per Category\"].astype(str)+\" / \"+merged_all_variants_df[\"Sum of Variants from CIViC and MOA per Category\"].astype(str)+\" (\"+merged_all_variants_df[\"MOA Variants of Category Percentage\"].astype(str)+\")\""
   ]
  },
  {
   "cell_type": "markdown",
   "metadata": {},
   "source": [
    "Summary Table 3: The table below shows what percentage of the merged data originates from CIViC and MOA sources"
   ]
  },
  {
   "cell_type": "code",
   "execution_count": null,
   "metadata": {},
   "outputs": [],
   "source": [
    "#clean up summary table by dropping columns and resetting index\n",
    "merged_civic_moa_summary_table_3 = merged_all_variants_df.drop([\"Count of CIViC Variant Items per Category\", \"Percentage of all CIViC Variant Items\", \"Count of MOA Features per Category\", \"Percentage of all MOA Features\", \"Sum of Variants from CIViC and MOA per Category\", \"Sum of total Variants from CIViC and MOA\",\"Merged Variant Percentage\",\"Percentage of all Merged Variant Items\",\"CIViC Variants of Category Percentage\", \"MOA Variants of Category Percentage\" ], axis=1)\n",
    "merged_civic_moa_summary_table_3= merged_civic_moa_summary_table_3.set_index(\"Variant Category\")\n",
    "merged_civic_moa_summary_table_3"
   ]
  },
  {
   "cell_type": "code",
   "execution_count": null,
   "metadata": {},
   "outputs": [],
   "source": [
    "#import summary tables from source notebooks\n",
    "for_merge_not_supported_variant_percent_of_civic_df = pd.read_csv(\"../analysis/for_merge_not_supported_variant_percent_of_civic_df.csv\", sep=\",\")\n",
    "for_merge_not_supported_features_total_df = pd.read_csv(\"../analysis/for_merge_not_supported_features_total_df.csv\", sep=\",\")"
   ]
  },
  {
   "cell_type": "code",
   "execution_count": null,
   "metadata": {},
   "outputs": [],
   "source": [
    "#merge CIViC and MOA summary tables\n",
    "merged_not_supported_variants_df = pd.merge(for_merge_not_supported_variant_percent_of_civic_df, for_merge_not_supported_features_total_df, on=\"Category\",how=\"outer\")\n",
    "merged_not_supported_variants_df = merged_not_supported_variants_df.replace(np.nan, 0, regex=True)"
   ]
  },
  {
   "cell_type": "markdown",
   "metadata": {},
   "source": [
    "Summary Table 4: The table below shows the categories of Not Supported variants and what percentage of source (CIViC or MOA) variants they make up. These percentages will not add up to 100% because Not Supported variants make up 45.40% of CIViC variants and 57.01% of MOA variants.(Reference Summary Table 1- merged_civic_moa_summary_table_1)"
   ]
  },
  {
   "cell_type": "code",
   "execution_count": null,
   "metadata": {},
   "outputs": [],
   "source": [
    "#clean up summary table by dropping columns and resetting index\n",
    "merged_civic_moa_summary_table_3= merged_not_supported_variants_df.drop([\"Count of CIViC Variant Items per Category\",\"Count of MOA Features per Category\"], axis=1)\n",
    "merged_civic_moa_summary_table_3= merged_civic_moa_summary_table_3.set_index(\"Category\")\n",
    "merged_civic_moa_summary_table_3"
   ]
  },
  {
   "cell_type": "code",
   "execution_count": null,
   "metadata": {},
   "outputs": [],
   "source": [
    "#add up evidence from CIViC and MOA for each Variant Category\n",
    "merged_not_supported_variants_df[\"Sum of Variants from CIViC and MOA per Category\"]=merged_not_supported_variants_df[\"Count of CIViC Variant Items per Category\"]+merged_not_supported_variants_df[\"Count of MOA Features per Category\"]\n",
    "merged_not_supported_variants_df[\"Sum of total Variants from CIViC and MOA\"]= int(merged_variant_total)"
   ]
  },
  {
   "cell_type": "code",
   "execution_count": null,
   "metadata": {},
   "outputs": [],
   "source": [
    "#new percentage of each category of the total merged variants from CIViC and MOA\n",
    "merged_not_supported_variants_df[\"Merged Not Supported Variant Category of Merged Total Percentage\"]= (merged_not_supported_variants_df[\"Sum of Variants from CIViC and MOA per Category\"] / merged_not_supported_variants_df[\"Sum of total Variants from CIViC and MOA\"])*100\n",
    "merged_not_supported_variants_df=merged_not_supported_variants_df.round({\"Merged Not Supported Variant Category of Merged Total Percentage\":2})\n",
    "merged_not_supported_variants_df[\"Merged Not Supported Variant Category of Merged Total Percentage\"]= merged_not_supported_variants_df[\"Merged Not Supported Variant Category of Merged Total Percentage\"].astype(str) + \"%\""
   ]
  },
  {
   "cell_type": "code",
   "execution_count": null,
   "metadata": {},
   "outputs": [],
   "source": [
    "#merge fraction and percentage\n",
    "merged_not_supported_variants_df[\"Percentage of all Merged Variant Items\"]= merged_not_supported_variants_df[\"Sum of Variants from CIViC and MOA per Category\"].astype(str)+\" / \"+merged_not_supported_variants_df[\"Sum of total Variants from CIViC and MOA\"].astype(str)+\" (\"+merged_not_supported_variants_df[\"Merged Not Supported Variant Category of Merged Total Percentage\"].astype(str)+\")\""
   ]
  },
  {
   "cell_type": "markdown",
   "metadata": {},
   "source": [
    "Summary Table 5: The table below shows the categories of Not Supported variants and what percentage of all variants (CIViC and MOA) they make up. These percentages will not add up to 100% because Not Supported variants make up 46.64% of all variants (CIViC and MOA). "
   ]
  },
  {
   "cell_type": "code",
   "execution_count": null,
   "metadata": {},
   "outputs": [],
   "source": [
    "#clean up summary table by dropping columns and resetting index\n",
    "merged_civic_moa_summary_table_5 = merged_not_supported_variants_df.drop([\"Count of CIViC Variant Items per Category\", \"Percent of all CIViC Variant Items\", \"Count of MOA Features per Category\", \"Percent of all MOA Features\", \"Sum of Variants from CIViC and MOA per Category\", \"Sum of total Variants from CIViC and MOA\", \"Merged Not Supported Variant Category of Merged Total Percentage\"], axis=1)\n",
    "merged_civic_moa_summary_table_5=merged_civic_moa_summary_table_5.set_index(\"Category\")\n",
    "merged_civic_moa_summary_table_5"
   ]
  },
  {
   "cell_type": "code",
   "execution_count": null,
   "metadata": {},
   "outputs": [],
   "source": [
    "#add up all variants, for total number of Not Supported Variants\n",
    "merged_not_supported_variant_total= merged_not_supported_variants_df[\"Sum of Variants from CIViC and MOA per Category\"].sum()\n",
    "merged_not_supported_variants_df[\"Merged Not Supported Variant Total\"]=merged_not_supported_variant_total"
   ]
  },
  {
   "cell_type": "code",
   "execution_count": null,
   "metadata": {},
   "outputs": [],
   "source": [
    "#new percentage of each category of the total merged variants from CIViC and MOA\n",
    "merged_not_supported_variants_df[\"Merged Not Supported Variant Category of Not Supported Percentage\"]= (merged_not_supported_variants_df[\"Sum of Variants from CIViC and MOA per Category\"] / merged_not_supported_variants_df[\"Merged Not Supported Variant Total\"])*100\n",
    "merged_not_supported_variants_df=merged_not_supported_variants_df.round({\"Merged Not Supported Variant Category of Not Supported Percentage\":2})\n",
    "merged_not_supported_variants_df[\"Merged Not Supported Variant Category of Not Supported Percentage\"]= merged_not_supported_variants_df[\"Merged Not Supported Variant Category of Not Supported Percentage\"].astype(str) + \"%\""
   ]
  },
  {
   "cell_type": "code",
   "execution_count": null,
   "metadata": {},
   "outputs": [],
   "source": [
    "#merge fraction and percentage\n",
    "merged_not_supported_variants_df[\"Percentage of all Not Supported Variant Items\"]= merged_not_supported_variants_df[\"Sum of Variants from CIViC and MOA per Category\"].astype(str)+\" / \"+merged_not_supported_variants_df[\"Merged Not Supported Variant Total\"].astype(str)+\" (\"+merged_not_supported_variants_df[\"Merged Not Supported Variant Category of Not Supported Percentage\"].astype(str)+\")\""
   ]
  },
  {
   "cell_type": "markdown",
   "metadata": {},
   "source": [
    "Summary Table 6: The table below shows the categories of Not Supported variants the percent of each category of total merged Not Supported variants."
   ]
  },
  {
   "cell_type": "code",
   "execution_count": null,
   "metadata": {},
   "outputs": [],
   "source": [
    "#clean up summary table by dropping columns and resetting index\n",
    "merged_civic_moa_summary_table_6 = merged_not_supported_variants_df.drop([\"Count of CIViC Variant Items per Category\", \"Percent of all CIViC Variant Items\", \"Count of MOA Features per Category\", \"Percent of all MOA Features\", \"Sum of Variants from CIViC and MOA per Category\", \"Sum of total Variants from CIViC and MOA\",\"Percentage of all Merged Variant Items\",\"Merged Not Supported Variant Category of Merged Total Percentage\", \"Merged Not Supported Variant Total\",\"Merged Not Supported Variant Category of Not Supported Percentage\"], axis=1)\n",
    "merged_civic_moa_summary_table_6=merged_civic_moa_summary_table_6.set_index(\"Category\")\n",
    "merged_civic_moa_summary_table_6"
   ]
  },
  {
   "cell_type": "markdown",
   "metadata": {},
   "source": [
    "## Merge CIViC and MOA Summary Evidence Dataframes"
   ]
  },
  {
   "cell_type": "code",
   "execution_count": null,
   "metadata": {},
   "outputs": [],
   "source": [
    "civic_evidence_ids = civicpy.get_all_evidence(include_status=[\"accepted\", \"submitted\"])"
   ]
  },
  {
   "cell_type": "code",
   "execution_count": null,
   "metadata": {},
   "outputs": [],
   "source": [
    "total_ac_sub_evidence = len(civic_evidence_ids)\n",
    "f\"Total Number of accepted and submitted evidence items in CIViC: {total_ac_sub_evidence}\""
   ]
  },
  {
   "cell_type": "code",
   "execution_count": null,
   "metadata": {},
   "outputs": [],
   "source": [
    "# Create DF for assertions and their associated feature + predictive implication\n",
    "r = requests.get(\"https://moalmanac.org/api/assertions\")\n",
    "if r.status_code == 200:\n",
    "    assertion_data = r.json()\n",
    "\n",
    "transformed = []\n",
    "\n",
    "# Mapping from feature ID to feature digest\n",
    "feature_id_to_digest = {}\n",
    "\n",
    "for assertion in assertion_data:\n",
    "    assertion_id = assertion[\"assertion_id\"]\n",
    "    predictive_implication = assertion[\"predictive_implication\"]\n",
    "\n",
    "    if len(assertion[\"features\"]) != 1:\n",
    "        print(f\"assertion id ({assertion_id}) does not have 1 feature\")\n",
    "        continue\n",
    "\n",
    "    feature = assertion[\"features\"][0]\n",
    "    feature_id = feature[\"feature_id\"]\n",
    "    feature_digest = get_feature_digest(feature)\n",
    "\n",
    "    feature_id_to_digest[feature_id] = digest\n",
    "\n",
    "    transformed.append(\n",
    "        {\n",
    "            \"assertion_id\": assertion_id,\n",
    "            \"feature_id\": feature_id,\n",
    "            \"feature_type\": features[feature_digest],\n",
    "            \"predictive_implication\": predictive_implication,\n",
    "            \"feature_digest\": feature_digest\n",
    "        }\n",
    "    )\n",
    "moa_df = pd.DataFrame(transformed)"
   ]
  },
  {
   "cell_type": "code",
   "execution_count": null,
   "metadata": {},
   "outputs": [],
   "source": [
    "total_len_assertions = len(moa_df.assertion_id.unique())\n",
    "f\"Total number of unique assertions (evidence items): {total_len_assertions}\""
   ]
  },
  {
   "cell_type": "code",
   "execution_count": null,
   "metadata": {},
   "outputs": [],
   "source": [
    "#add all evidence items(assertions) from CIViC and MOA\n",
    "merged_evidence_total = total_ac_sub_evidence +total_len_assertions"
   ]
  },
  {
   "cell_type": "code",
   "execution_count": null,
   "metadata": {},
   "outputs": [],
   "source": [
    "#import summary tables from source notebooks\n",
    "for_merge_all_variant_evidence_percent_of_civic_df = pd.read_csv(\"../analysis/for_merge_all_variant_evidence_percent_of_civic_df.csv\", sep=\",\")\n",
    "for_merge_all_features_assertions_df = pd.read_csv(\"../analysis/for_merge_all_features_assertions_df.csv\", sep=\",\")"
   ]
  },
  {
   "cell_type": "code",
   "execution_count": null,
   "metadata": {},
   "outputs": [],
   "source": [
    "#merge CIViC and MOA summary tables\n",
    "merged_all_evidence_df = pd.merge(for_merge_all_variant_evidence_percent_of_civic_df, for_merge_all_features_assertions_df, on=\"Variant Category\",how=\"outer\")\n",
    "merged_all_evidence_df = merged_all_evidence_df.replace(np.nan, 0, regex=True)\n",
    "merged_all_evidence_df[\"Count of MOA Assertions per Category\"]=merged_all_evidence_df[\"Count of MOA Assertions per Category\"].astype(int)\n"
   ]
  },
  {
   "cell_type": "markdown",
   "metadata": {},
   "source": [
    "Summary Table 7: The table below shows what percentage of all evidence items in CIViC and MOA are associated with Normalized, Unable to Normalize, and Not Supported variants. This will not add up to 100% because evidence itmes may be used across multiple variants."
   ]
  },
  {
   "cell_type": "code",
   "execution_count": null,
   "metadata": {},
   "outputs": [],
   "source": [
    "merged_civic_moa_summary_table_7 = merged_all_evidence_df.drop([\"Count of CIViC Evidence Items per Category\", \"Count of MOA Assertions per Category\"], axis=1)\n",
    "merged_civic_moa_summary_table_7 = merged_civic_moa_summary_table_7.set_index(\"Variant Category\")\n",
    "merged_civic_moa_summary_table_7"
   ]
  },
  {
   "cell_type": "code",
   "execution_count": null,
   "metadata": {},
   "outputs": [],
   "source": [
    "#add up variants from CIViC and MOA for each Variant Category\n",
    "merged_all_evidence_df[\"Sum of Evidence from CIViC and MOA per Category\"] = merged_all_evidence_df[\"Count of CIViC Evidence Items per Category\"]+ merged_all_evidence_df[\"Count of MOA Assertions per Category\"]"
   ]
  },
  {
   "cell_type": "code",
   "execution_count": null,
   "metadata": {},
   "outputs": [],
   "source": [
    "#new column for the total combined variant number from CIViC and MOA\n",
    "merged_all_evidence_df[\"Sum of total Evidence from CIViC and MOA\"] = merged_evidence_total"
   ]
  },
  {
   "cell_type": "code",
   "execution_count": null,
   "metadata": {},
   "outputs": [],
   "source": [
    "#new percentage of each category of the total merged variants from CIViC and MOA\n",
    "merged_all_evidence_df[\"Merged Evidence Percentage\"]= (merged_all_evidence_df[\"Sum of Evidence from CIViC and MOA per Category\"] / merged_all_evidence_df[\"Sum of total Evidence from CIViC and MOA\"])*100\n",
    "merged_all_evidence_df=merged_all_evidence_df.round({\"Merged Evidence Percentage\":2})\n",
    "merged_all_evidence_df[\"Merged Evidence Percentage\"]= merged_all_evidence_df[\"Merged Evidence Percentage\"].astype(str) + \"%\""
   ]
  },
  {
   "cell_type": "code",
   "execution_count": null,
   "metadata": {},
   "outputs": [],
   "source": [
    "#merge fraction and percentage\n",
    "merged_all_evidence_df[\"Percentage of all Merged Evidence Items\"]= merged_all_evidence_df[\"Sum of Evidence from CIViC and MOA per Category\"].astype(str)+\" / \"+merged_all_evidence_df[\"Sum of total Evidence from CIViC and MOA\"].astype(str)+\" (\"+merged_all_evidence_df[\"Merged Evidence Percentage\"].astype(str)+\")\""
   ]
  },
  {
   "cell_type": "markdown",
   "metadata": {},
   "source": [
    "Summary Table 8: The table below shows what percentage of all evidence items in merged CIViC and MOA data are associated with Normalized, Unable to Normalize, and Not Supported variants. This will not add up to 100% because evidence itmes may be used across multiple variants."
   ]
  },
  {
   "cell_type": "code",
   "execution_count": null,
   "metadata": {},
   "outputs": [],
   "source": [
    "#clean up summary table by dropping columns and resetting index\n",
    "merged_civic_moa_summary_table_8 = merged_all_evidence_df.drop([\"Count of CIViC Evidence Items per Category\", \"Percentage of all CIViC Evidence Items\", \"Count of MOA Assertions per Category\", \"Percentage of all MOA Assertions\", \"Sum of Evidence from CIViC and MOA per Category\", \"Sum of total Evidence from CIViC and MOA\",\"Merged Evidence Percentage\" ], axis=1)\n",
    "merged_civic_moa_summary_table_8= merged_civic_moa_summary_table_8.set_index(\"Variant Category\")\n",
    "merged_civic_moa_summary_table_8"
   ]
  },
  {
   "cell_type": "code",
   "execution_count": null,
   "metadata": {},
   "outputs": [],
   "source": [
    "#new percentage of CIViC contribution for each category\n",
    "merged_all_evidence_df[\"CIViC Evidence of Category Percentage\"]=(merged_all_evidence_df[\"Count of CIViC Evidence Items per Category\"] / merged_all_evidence_df[\"Sum of Evidence from CIViC and MOA per Category\"])*100\n",
    "merged_all_evidence_df=merged_all_evidence_df.round({\"CIViC Evidence of Category Percentage\":2})\n",
    "merged_all_evidence_df[\"CIViC Evidence of Category Percentage\"]= merged_all_evidence_df[\"CIViC Evidence of Category Percentage\"].astype(str) + \"%\""
   ]
  },
  {
   "cell_type": "code",
   "execution_count": null,
   "metadata": {},
   "outputs": [],
   "source": [
    "#merge fraction and percentage\n",
    "merged_all_evidence_df[\"Percentage of CIViC Evidence of Category\"]=merged_all_evidence_df[\"Count of CIViC Evidence Items per Category\"].astype(str)+\" / \"+merged_all_evidence_df[\"Sum of Evidence from CIViC and MOA per Category\"].astype(str)+\" (\"+merged_all_evidence_df[\"CIViC Evidence of Category Percentage\"].astype(str)+\")\""
   ]
  },
  {
   "cell_type": "code",
   "execution_count": null,
   "metadata": {},
   "outputs": [],
   "source": [
    "#new percentage of MOA contribution for each category\n",
    "merged_all_evidence_df[\"MOA Evidence of Category Percentage\"]=(merged_all_evidence_df[\"Count of MOA Assertions per Category\"] / merged_all_evidence_df[\"Sum of Evidence from CIViC and MOA per Category\"])*100\n",
    "merged_all_evidence_df=merged_all_evidence_df.round({\"MOA Evidence of Category Percentage\":2})\n",
    "merged_all_evidence_df[\"MOA Evidence of Category Percentage\"]= merged_all_evidence_df[\"MOA Evidence of Category Percentage\"].astype(str) + \"%\""
   ]
  },
  {
   "cell_type": "code",
   "execution_count": null,
   "metadata": {},
   "outputs": [],
   "source": [
    "#merge fraction and percentage\n",
    "merged_all_evidence_df[\"Percentage of MOA Evidence of Category\"]=merged_all_evidence_df[\"Count of MOA Assertions per Category\"].astype(str)+\" / \"+merged_all_evidence_df[\"Sum of Evidence from CIViC and MOA per Category\"].astype(str)+\" (\"+merged_all_evidence_df[\"MOA Evidence of Category Percentage\"].astype(str)+\")\""
   ]
  },
  {
   "cell_type": "markdown",
   "metadata": {},
   "source": [
    "Summary Table 9: The table below shows what percentage of the merged data originates from CIViC and MOA sources"
   ]
  },
  {
   "cell_type": "code",
   "execution_count": null,
   "metadata": {},
   "outputs": [],
   "source": [
    "#clean up summary table by dropping columns and resetting index\n",
    "merged_civic_moa_summary_table_9 = merged_all_evidence_df.drop([\"Count of CIViC Evidence Items per Category\", \"Percentage of all CIViC Evidence Items\", \"Count of MOA Assertions per Category\", \"Percentage of all MOA Assertions\", \"Sum of Evidence from CIViC and MOA per Category\", \"Sum of total Evidence from CIViC and MOA\",\"Merged Evidence Percentage\",\"Percentage of all Merged Evidence Items\",\"CIViC Evidence of Category Percentage\", \"MOA Evidence of Category Percentage\" ], axis=1)\n",
    "merged_civic_moa_summary_table_9= merged_civic_moa_summary_table_9.set_index(\"Variant Category\")\n",
    "merged_civic_moa_summary_table_9"
   ]
  },
  {
   "cell_type": "code",
   "execution_count": null,
   "metadata": {},
   "outputs": [],
   "source": [
    "#import summary tables from source notebooks\n",
    "for_merge_not_supported_variant_evidence_percent_of_civic_df = pd.read_csv(\"../analysis/for_merge_not_supported_variant_evidence_percent_of_civic_df.csv\", sep=\",\")\n",
    "for_merge_not_supported_feature_assertion_df = pd.read_csv(\"../analysis/for_merge_not_supported_feature_assertion_df.csv\", sep=\",\")"
   ]
  },
  {
   "cell_type": "code",
   "execution_count": null,
   "metadata": {},
   "outputs": [],
   "source": [
    "#merge CIViC and MOA summary tables\n",
    "merged_not_supported_evidence_df = pd.merge(for_merge_not_supported_variant_evidence_percent_of_civic_df, for_merge_not_supported_feature_assertion_df, on=\"Category\",how=\"outer\")\n",
    "merged_not_supported_evidence_df = merged_not_supported_evidence_df.replace(np.nan, 0, regex=True)"
   ]
  },
  {
   "cell_type": "markdown",
   "metadata": {},
   "source": [
    "Summary Table 10: The table below shows the categories of Not Supported variants and what percentage of source (CIViC or MOA) evidence items are associated with those variants. These percentages will not add up to 100% because Not Supported variants make up 44.11% of CIViC variants and 63.09% of MOA variants and evidence itmes may be used across multiple variants.(Reference Summary Table 7- merged_civic_moa_summary_table_7)"
   ]
  },
  {
   "cell_type": "code",
   "execution_count": null,
   "metadata": {},
   "outputs": [],
   "source": [
    "#clean up summary table by dropping columns and resetting index\n",
    "merged_civic_moa_summary_table_10= merged_not_supported_evidence_df.drop([\"Count of CIViC Evidence Items per Category\",\"Count of MOA Assertions per Category\"], axis=1)\n",
    "merged_civic_moa_summary_table_10= merged_civic_moa_summary_table_10.set_index(\"Category\")\n",
    "merged_civic_moa_summary_table_10"
   ]
  },
  {
   "cell_type": "code",
   "execution_count": null,
   "metadata": {},
   "outputs": [],
   "source": [
    "#add up evidence from CIViC and MOA for each Variant Category\n",
    "merged_not_supported_evidence_df[\"Sum of Evidence from CIViC and MOA per Category\"]=merged_not_supported_evidence_df[\"Count of CIViC Evidence Items per Category\"]+merged_not_supported_evidence_df[\"Count of MOA Assertions per Category\"]\n",
    "#new column for the total combined evidence number from CIViC and MOA\n",
    "merged_not_supported_evidence_df[\"Sum of total Evidence from CIViC and MOA\"]= int(merged_evidence_total)"
   ]
  },
  {
   "cell_type": "code",
   "execution_count": null,
   "metadata": {},
   "outputs": [],
   "source": [
    "#new percentage of each category of the total merged evidence from CIViC and MOA\n",
    "merged_not_supported_evidence_df[\"Merged Not Supported Evidence Category of Merged Total Percentage\"]= (merged_not_supported_evidence_df[\"Sum of Evidence from CIViC and MOA per Category\"] / merged_not_supported_evidence_df[\"Sum of total Evidence from CIViC and MOA\"])*100\n",
    "merged_not_supported_evidence_df=merged_not_supported_evidence_df.round({\"Merged Not Supported Evidence Category of Merged Total Percentage\":2})\n",
    "merged_not_supported_evidence_df[\"Merged Not Supported Evidence Category of Merged Total Percentage\"]= merged_not_supported_evidence_df[\"Merged Not Supported Evidence Category of Merged Total Percentage\"].astype(str) + \"%\""
   ]
  },
  {
   "cell_type": "code",
   "execution_count": null,
   "metadata": {},
   "outputs": [],
   "source": [
    "#merge fraction and percentage\n",
    "merged_not_supported_evidence_df[\"Percentage of all Merged Evidence Items\"]= merged_not_supported_evidence_df[\"Sum of Evidence from CIViC and MOA per Category\"].astype(str)+\" / \"+merged_not_supported_evidence_df[\"Sum of total Evidence from CIViC and MOA\"].astype(str)+\" (\"+merged_not_supported_evidence_df[\"Merged Not Supported Evidence Category of Merged Total Percentage\"].astype(str)+\")\""
   ]
  },
  {
   "cell_type": "markdown",
   "metadata": {},
   "source": [
    "Summary Table 11: The table below shows the evidence items associated with categories of Not Supported variants and what percentage of all evidence items (CIViC and MOA) they make up. These percentages will not add up to 100% because evidence items associated with Not Supported variants make up 45.69% of all variants (CIViC and MOA). "
   ]
  },
  {
   "cell_type": "code",
   "execution_count": null,
   "metadata": {},
   "outputs": [],
   "source": [
    "#clean up summary table by dropping columns and resetting index\n",
    "merged_civic_moa_summary_table_11 = merged_not_supported_evidence_df.drop([\"Count of CIViC Evidence Items per Category\", \"Percent of all CIViC Evidence Items\", \"Count of MOA Assertions per Category\", \"Percent of all MOA Assertions\", \"Sum of Evidence from CIViC and MOA per Category\", \"Sum of total Evidence from CIViC and MOA\", \"Merged Not Supported Evidence Category of Merged Total Percentage\"], axis=1)\n",
    "merged_civic_moa_summary_table_11=merged_civic_moa_summary_table_11.set_index(\"Category\")\n",
    "merged_civic_moa_summary_table_11"
   ]
  },
  {
   "cell_type": "code",
   "execution_count": null,
   "metadata": {},
   "outputs": [],
   "source": [
    "#add up all evidence, for total evidence items associated with Not Supported Variants\n",
    "merged_not_supported_evidence_total= merged_not_supported_evidence_df[\"Sum of Evidence from CIViC and MOA per Category\"].sum()\n",
    "merged_not_supported_evidence_df[\"Merged Not Supported Evidence Total\"]=merged_not_supported_evidence_total"
   ]
  },
  {
   "cell_type": "code",
   "execution_count": null,
   "metadata": {},
   "outputs": [],
   "source": [
    "#new percentage of each category of the total merged evidence from CIViC and MOA\n",
    "merged_not_supported_evidence_df[\"Merged Not Supported Evidence Category of Not Supported Percentage\"]= (merged_not_supported_evidence_df[\"Sum of Evidence from CIViC and MOA per Category\"] / merged_not_supported_evidence_df[\"Merged Not Supported Evidence Total\"])*100\n",
    "merged_not_supported_evidence_df=merged_not_supported_evidence_df.round({\"Merged Not Supported Evidence Category of Not Supported Percentage\":2})\n",
    "merged_not_supported_evidence_df[\"Merged Not Supported Evidence Category of Not Supported Percentage\"]= merged_not_supported_evidence_df[\"Merged Not Supported Evidence Category of Not Supported Percentage\"].astype(str) + \"%\""
   ]
  },
  {
   "cell_type": "code",
   "execution_count": null,
   "metadata": {},
   "outputs": [],
   "source": [
    "#merge fraction and percentage\n",
    "merged_not_supported_evidence_df[\"Percentage of all Not Supported Evidence Items\"]= merged_not_supported_evidence_df[\"Sum of Evidence from CIViC and MOA per Category\"].astype(str)+\" / \"+merged_not_supported_evidence_df[\"Merged Not Supported Evidence Total\"].astype(str)+\" (\"+merged_not_supported_evidence_df[\"Merged Not Supported Evidence Category of Not Supported Percentage\"].astype(str)+\")\""
   ]
  },
  {
   "cell_type": "markdown",
   "metadata": {},
   "source": [
    "Summary Table 12: The table below shows the categories of Not Supported variants the percent of each category of total merged Not Supported evidence."
   ]
  },
  {
   "cell_type": "code",
   "execution_count": null,
   "metadata": {},
   "outputs": [],
   "source": [
    "#clean up summary table by dropping columns and resetting index\n",
    "merged_civic_moa_summary_table_12 = merged_not_supported_evidence_df.drop([\"Count of CIViC Evidence Items per Category\", \"Percent of all CIViC Evidence Items\", \"Count of MOA Assertions per Category\", \"Percent of all MOA Assertions\", \"Sum of Evidence from CIViC and MOA per Category\", \"Sum of total Evidence from CIViC and MOA\",\"Percentage of all Merged Evidence Items\",\"Merged Not Supported Evidence Category of Merged Total Percentage\", \"Merged Not Supported Evidence Total\",\"Merged Not Supported Evidence Category of Not Supported Percentage\"], axis=1)\n",
    "merged_civic_moa_summary_table_12=merged_civic_moa_summary_table_12.set_index(\"Category\")\n",
    "merged_civic_moa_summary_table_12"
   ]
  },
  {
   "cell_type": "markdown",
   "metadata": {},
   "source": [
    "## Merge CIViC and MOA Summary Impact Dataframes"
   ]
  },
  {
   "cell_type": "code",
   "execution_count": null,
   "metadata": {},
   "outputs": [],
   "source": [
    "not_supported_variant_impact_df = pd.read_csv(\"../analysis/not_supported_variant_impact_df.csv\", sep=\",\")\n",
    "not_supported_feature_impact_df = pd.read_csv(\"../analysis/not_supported_feature_impact_df.csv\", sep=\",\")"
   ]
  },
  {
   "cell_type": "code",
   "execution_count": null,
   "metadata": {},
   "outputs": [],
   "source": [
    "merged_not_supported_impact_df = pd.merge(not_supported_feature_impact_df, not_supported_variant_impact_df, on='Category')"
   ]
  },
  {
   "cell_type": "markdown",
   "metadata": {},
   "source": [
    "### Merge aspects of the dataframe (number of evidence items, variants, impact score)"
   ]
  },
  {
   "cell_type": "code",
   "execution_count": null,
   "metadata": {},
   "outputs": [],
   "source": [
    "merged_not_supported_impact_df['Sum Evidence Items'] = merged_not_supported_impact_df['Total Number Evidence Items']+merged_not_supported_impact_df['Total Number Assertions']"
   ]
  },
  {
   "cell_type": "code",
   "execution_count": null,
   "metadata": {},
   "outputs": [],
   "source": [
    "merged_not_supported_impact_df['Sum Variants'] = merged_not_supported_impact_df['Total Number Variants']+merged_not_supported_impact_df['Total Number Features']"
   ]
  },
  {
   "cell_type": "code",
   "execution_count": null,
   "metadata": {},
   "outputs": [],
   "source": [
    "merged_not_supported_impact_df['Sum Impact Score'] = merged_not_supported_impact_df['CIVIC Total Sum Impact Score']+merged_not_supported_impact_df['MOA Total Sum Impact Score']\n",
    "merged_not_supported_impact_df"
   ]
  },
  {
   "cell_type": "markdown",
   "metadata": {},
   "source": [
    "### Calculate the ratio of features/variants that come from MOA"
   ]
  },
  {
   "cell_type": "code",
   "execution_count": null,
   "metadata": {},
   "outputs": [],
   "source": [
    "merged_not_supported_impact_df['Ratio of MOA Features to MOA+CIVIC per Category'] = round(merged_not_supported_impact_df['Total Number Features']/(merged_not_supported_impact_df['Total Number Features']+merged_not_supported_impact_df['Total Number Variants']), 2)"
   ]
  },
  {
   "cell_type": "code",
   "execution_count": null,
   "metadata": {},
   "outputs": [],
   "source": [
    "merged_not_supported_impact_df"
   ]
  },
  {
   "cell_type": "code",
   "execution_count": null,
   "metadata": {},
   "outputs": [],
   "source": [
    "merged_not_supported_impact_df.to_csv('../merged_not_supported_impact_df.csv', index=False)"
   ]
  },
  {
   "cell_type": "code",
   "execution_count": null,
   "metadata": {},
   "outputs": [],
   "source": [
    "trimmed_merged_not_supported_impact_df = merged_not_supported_impact_df.drop(['MOA Total Sum Impact Score', 'Average Impact Score per Feature', 'Average Impact Score per Assertion', 'Total Number Assertions', 'Total Number Features', 'CIVIC Total Sum Impact Score', 'Average Impact Score per Variant', 'Average Impact Score per Evidence Item', 'Total Number Evidence Items', '% Accepted Evidence Items', 'Total Number Variants'], axis=1)\n",
    "trimmed_merged_not_supported_impact_df"
   ]
  },
  {
   "cell_type": "code",
   "execution_count": null,
   "metadata": {},
   "outputs": [],
   "source": [
    "trimmed_merged_not_supported_impact_df.to_csv('../trimmed_merged_not_supported_impact_df.csv', index=False)"
   ]
  },
  {
   "cell_type": "code",
   "execution_count": null,
   "metadata": {},
   "outputs": [],
   "source": [
    "ratio_list = merged_not_supported_impact_df[\"Ratio of MOA Features to MOA+CIVIC per Category\"].to_numpy()"
   ]
  },
  {
   "cell_type": "code",
   "execution_count": null,
   "metadata": {},
   "outputs": [],
   "source": [
    "moa_civic_evidence_sum_list = merged_not_supported_impact_df[\"Sum Evidence Items\"].to_numpy()"
   ]
  },
  {
   "cell_type": "code",
   "execution_count": null,
   "metadata": {},
   "outputs": [],
   "source": [
    "moa_civic_variant_sum_list = merged_not_supported_impact_df[\"Sum Variants\"].to_numpy()"
   ]
  },
  {
   "cell_type": "code",
   "execution_count": null,
   "metadata": {},
   "outputs": [],
   "source": [
    "moa_civic_impact_score_list = merged_not_supported_impact_df[\"Sum Impact Score\"].to_numpy()"
   ]
  },
  {
   "cell_type": "code",
   "execution_count": null,
   "metadata": {},
   "outputs": [],
   "source": [
    "dict_summary = merged_not_supported_impact_df.to_dict('list')\n",
    "dict_summary"
   ]
  },
  {
   "cell_type": "code",
   "execution_count": null,
   "metadata": {},
   "outputs": [],
   "source": [
    "# cat_to_coords = dict()\n",
    "# for v in dict_summary[\"Category\"]:\n",
    "#     cat_to_coords[v] = None\n",
    "# cat_to_coords"
   ]
  },
  {
   "cell_type": "code",
   "execution_count": null,
   "metadata": {},
   "outputs": [],
   "source": [
    "cat_to_coords = dict()\n",
    "for i, row in merged_not_supported_impact_df.iterrows():\n",
    "    cat_to_coords[row[0]] = f\"{(row[12], row[14])}\"\n",
    "cat_to_coords\n"
   ]
  },
  {
   "cell_type": "code",
   "execution_count": null,
   "metadata": {},
   "outputs": [],
   "source": [
    "\n",
    "# cat_to_coords = {v: None for v in dict[\"Category\"]}\n",
    "\n",
    "# for k, v in cat_to_coords.items():  \n",
    "    \n",
    "#     for v in dict[\"Sum Evidence Items\"]:\n",
    "        \n",
    "# cat_to_coords"
   ]
  },
  {
   "cell_type": "markdown",
   "metadata": {},
   "source": [
    "# INSERT REFACTOR WORK"
   ]
  },
  {
   "cell_type": "code",
   "execution_count": null,
   "metadata": {},
   "outputs": [],
   "source": [
    "fig5, ax = plt.subplots(figsize=(25, 15))\n",
    "\n",
    "colors = [\n",
    "    \"red\", \"darkorange\", \"forestgreen\", \"lawngreen\", \"gold\", \"cyan\",\n",
    "     \"deepskyblue\", \"mediumslateblue\", \"blue\", \"pink\", \"deeppink\", \"purple\"\n",
    "]\n",
    "\n",
    "for i in range(12):\n",
    "    ratio = ratio_list[i]\n",
    "    size = moa_civic_variant_sum_list[i] * 20\n",
    "\n",
    "    # Both will always have b\n",
    "    x = [0] + np.cos(np.linspace(2 * np.pi * ratio, 2 * np.pi, 100)).tolist()\n",
    "    y = [0] + np.sin(np.linspace(2 * np.pi * ratio, 2 * np.pi, 100)).tolist()\n",
    "    marker_b = np.column_stack([x, y])\n",
    "\n",
    "    if ratio:\n",
    "        # use both a & b\n",
    "        x = [0] + np.cos(np.linspace(0, 2 * np.pi * ratio, 100)).tolist()\n",
    "        y = [0] + np.sin(np.linspace(0, 2 * np.pi * ratio, 100)).tolist()\n",
    "        marker_a = np.column_stack([x, y])\n",
    "\n",
    "        ax.scatter(\n",
    "            moa_civic_evidence_sum_list[i], moa_civic_impact_score_list[i], marker=marker_a, s=size,\n",
    "            facecolor=colors[i], edgecolors='black', hatch='///////'\n",
    "        )\n",
    "\n",
    "    ax.scatter(\n",
    "        moa_civic_evidence_sum_list[i],moa_civic_impact_score_list[i], marker=marker_b, s=size, facecolor=colors[i]\n",
    "    )\n",
    "\n",
    "plt.show()\n"
   ]
  },
  {
   "cell_type": "markdown",
   "metadata": {},
   "source": [
    "# END REFACTOR WORK"
   ]
  },
  {
   "cell_type": "code",
   "execution_count": null,
   "metadata": {},
   "outputs": [],
   "source": [
    "# first define the ratios\n",
    "r1 = ratio_list[0]  \n",
    "r2=ratio_list[1]\n",
    "r3=ratio_list[2] \n",
    "r4=ratio_list[3]  \n",
    "r5=ratio_list[4]\n",
    "r6=ratio_list[5]\n",
    "r7=ratio_list[6]\n",
    "r8=ratio_list[7]\n",
    "r9=ratio_list[8]\n",
    "r10=ratio_list[9] \n",
    "r11=ratio_list[10] \n",
    "r12=ratio_list[11]\n",
    "\n",
    "# define some sizes of the scatter marker\n",
    "size1=moa_civic_variant_sum_list[0]*20  \n",
    "size2=moa_civic_variant_sum_list[1]*20 \n",
    "size3=moa_civic_variant_sum_list[2]*20\n",
    "size4=moa_civic_variant_sum_list[3]*20 \n",
    "size5=moa_civic_variant_sum_list[4]*20 \n",
    "size6=moa_civic_variant_sum_list[5]*20 \n",
    "size7=moa_civic_variant_sum_list[6]*20 \n",
    "size8=moa_civic_variant_sum_list[7]*20 \n",
    "size9=moa_civic_variant_sum_list[8]*20 \n",
    "size10=moa_civic_variant_sum_list[9]*20  \n",
    "size11=moa_civic_variant_sum_list[10]*20  \n",
    "size12=moa_civic_variant_sum_list[11]*20 \n",
    "\n",
    "# calculate the points of the pie markers\n",
    "#\n",
    "# these are the origin (0,0) +\n",
    "# some points on a circle cos,sin\n",
    "\n",
    "## if no MOA features in category, only one segement\n",
    "\n",
    "x = [0] + np.cos(np.linspace(0, 2 * np.pi * r1, 100)).tolist()\n",
    "y = [0] + np.sin(np.linspace(0, 2 * np.pi * r1, 100)).tolist()\n",
    "xy1a = np.column_stack([x, y])\n",
    "\n",
    "x = [0] + np.cos(np.linspace(2 * np.pi * r1, 2 * np.pi, 100)).tolist()\n",
    "y = [0] + np.sin(np.linspace(2 * np.pi * r1, 2 * np.pi, 100)).tolist()\n",
    "xy1b = np.column_stack([x, y])\n",
    "\n",
    "x = [0] + np.cos(np.linspace(2 * np.pi * r2, 2 * np.pi, 100)).tolist()\n",
    "y = [0] + np.sin(np.linspace(2 * np.pi * r2, 2 * np.pi, 100)).tolist()\n",
    "xy2b = np.column_stack([x, y])\n",
    "\n",
    "x = [0] + np.cos(np.linspace(2 * np.pi * r3, 2 * np.pi, 100)).tolist()\n",
    "y = [0] + np.sin(np.linspace(2 * np.pi * r3, 2 * np.pi, 100)).tolist()\n",
    "xy3b = np.column_stack([x, y])\n",
    "\n",
    "x = [0] + np.cos(np.linspace(0, 2 * np.pi * r4, 100)).tolist()\n",
    "y = [0] + np.sin(np.linspace(0, 2 * np.pi * r4, 100)).tolist()\n",
    "xy4a = np.column_stack([x, y])\n",
    "\n",
    "x = [0] + np.cos(np.linspace(2 * np.pi * r4, 2 * np.pi, 100)).tolist()\n",
    "y = [0] + np.sin(np.linspace(2 * np.pi * r4, 2 * np.pi, 100)).tolist()\n",
    "xy4b = np.column_stack([x, y])\n",
    "\n",
    "x = [0] + np.cos(np.linspace(2 * np.pi * r5, 2 * np.pi, 100)).tolist()\n",
    "y = [0] + np.sin(np.linspace(2 * np.pi * r5, 2 * np.pi, 100)).tolist()\n",
    "xy5b = np.column_stack([x, y])\n",
    "\n",
    "x = [0] + np.cos(np.linspace(0, 2 * np.pi * r6, 100)).tolist()\n",
    "y = [0] + np.sin(np.linspace(0, 2 * np.pi * r6, 100)).tolist()\n",
    "xy6a = np.column_stack([x, y])\n",
    "\n",
    "x = [0] + np.cos(np.linspace(2 * np.pi * r6, 2 * np.pi, 100)).tolist()\n",
    "y = [0] + np.sin(np.linspace(2 * np.pi * r6, 2 * np.pi, 100)).tolist()\n",
    "xy6b = np.column_stack([x, y])\n",
    "\n",
    "x = [0] + np.cos(np.linspace(0, 2 * np.pi * r7, 100)).tolist()\n",
    "y = [0] + np.sin(np.linspace(0, 2 * np.pi * r7, 100)).tolist()\n",
    "xy7a = np.column_stack([x, y])\n",
    "\n",
    "x = [0] + np.cos(np.linspace(2 * np.pi * r7, 2 * np.pi, 100)).tolist()\n",
    "y = [0] + np.sin(np.linspace(2 * np.pi * r7, 2 * np.pi, 100)).tolist()\n",
    "xy7b = np.column_stack([x, y])\n",
    "\n",
    "x = [0] + np.cos(np.linspace(0, 2 * np.pi * r8, 100)).tolist()\n",
    "y = [0] + np.sin(np.linspace(0, 2 * np.pi * r8, 100)).tolist()\n",
    "xy8a = np.column_stack([x, y])\n",
    "\n",
    "x = [0] + np.cos(np.linspace(2 * np.pi * r8, 2 * np.pi, 100)).tolist()\n",
    "y = [0] + np.sin(np.linspace(2 * np.pi * r8, 2 * np.pi, 100)).tolist()\n",
    "xy8b = np.column_stack([x, y])\n",
    "\n",
    "x = [0] + np.cos(np.linspace(2 * np.pi * r9, 2 * np.pi, 100)).tolist()\n",
    "y = [0] + np.sin(np.linspace(2 * np.pi * r9, 2 * np.pi, 100)).tolist()\n",
    "xy9b = np.column_stack([x, y])\n",
    "\n",
    "x = [0] + np.cos(np.linspace(2 * np.pi * r10, 2 * np.pi, 100)).tolist()\n",
    "y = [0] + np.sin(np.linspace(2 * np.pi * r10, 2 * np.pi, 100)).tolist()\n",
    "xy10b = np.column_stack([x, y])\n",
    "\n",
    "x = [0] + np.cos(np.linspace(2 * np.pi * r11, 2 * np.pi, 100)).tolist()\n",
    "y = [0] + np.sin(np.linspace(2 * np.pi * r11, 2 * np.pi, 100)).tolist()\n",
    "xy11b = np.column_stack([x, y])\n",
    "\n",
    "x = [0] + np.cos(np.linspace(2 * np.pi * r12, 2 * np.pi, 100)).tolist()\n",
    "y = [0] + np.sin(np.linspace(2 * np.pi * r12, 2 * np.pi, 100)).tolist()\n",
    "xy12b = np.column_stack([x, y])\n",
    "\n",
    "\n",
    "fig5, ax = plt.subplots(figsize=(25, 15))\n",
    "\n",
    "ax.scatter(moa_civic_evidence_sum_list[0],moa_civic_impact_score_list[0], marker=xy1a,\n",
    "           s=size1, facecolor='red', edgecolors='black', hatch='///////' )\n",
    "ax.scatter(moa_civic_evidence_sum_list[0],moa_civic_impact_score_list[0], marker=xy1b,\n",
    "           s=size1, facecolor='red')\n",
    "\n",
    "\n",
    "ax.scatter(moa_civic_evidence_sum_list[1],moa_civic_impact_score_list[1], marker=xy2b,\n",
    "           s=size2, facecolor='darkorange')\n",
    "\n",
    "\n",
    "ax.scatter(moa_civic_evidence_sum_list[2],moa_civic_impact_score_list[2], marker=xy3b,\n",
    "           s=size3, facecolor='forestgreen')\n",
    "\n",
    "ax.scatter(moa_civic_evidence_sum_list[3],moa_civic_impact_score_list[3], marker=xy4a,\n",
    "           s=size4, facecolor='lawngreen', edgecolors='black', hatch='///////')\n",
    "ax.scatter(moa_civic_evidence_sum_list[3],moa_civic_impact_score_list[3], marker=xy4b,\n",
    "           s=size4, facecolor='lawngreen')\n",
    "\n",
    "\n",
    "ax.scatter(moa_civic_evidence_sum_list[4],moa_civic_impact_score_list[4], marker=xy5b,\n",
    "           s=size5, facecolor='gold')\n",
    "\n",
    "ax.scatter(moa_civic_evidence_sum_list[5],moa_civic_impact_score_list[5], marker=xy6a,\n",
    "           s=size6, facecolor='cyan', edgecolors='black', hatch='///////')\n",
    "ax.scatter(moa_civic_evidence_sum_list[5],moa_civic_impact_score_list[5], marker=xy6b,\n",
    "           s=size6, facecolor='cyan')\n",
    "\n",
    "ax.scatter(moa_civic_evidence_sum_list[6],moa_civic_impact_score_list[6], marker=xy7a,\n",
    "           s=size7, facecolor='deepskyblue' , edgecolors='black', hatch='///////')\n",
    "ax.scatter(moa_civic_evidence_sum_list[6],moa_civic_impact_score_list[6], marker=xy7b,\n",
    "           s=size7, facecolor='deepskyblue')\n",
    "\n",
    "ax.scatter(moa_civic_evidence_sum_list[7],moa_civic_impact_score_list[7], marker=xy8a,\n",
    "           s=size8, facecolor='mediumslateblue', edgecolors='black', hatch='///////' )\n",
    "ax.scatter(moa_civic_evidence_sum_list[7],moa_civic_impact_score_list[7], marker=xy8b,\n",
    "           s=size8, facecolor='mediumslateblue')\n",
    "\n",
    "\n",
    "ax.scatter(moa_civic_evidence_sum_list[8],moa_civic_impact_score_list[8], marker=xy9b,\n",
    "           s=size9, facecolor='blue')\n",
    "\n",
    "\n",
    "ax.scatter(moa_civic_evidence_sum_list[9],moa_civic_impact_score_list[9], marker=xy10b,\n",
    "           s=size10, facecolor='pink')\n",
    "\n",
    "\n",
    "ax.scatter(moa_civic_evidence_sum_list[10],moa_civic_impact_score_list[10], marker=xy11b,\n",
    "           s=size11, facecolor='deeppink')\n",
    "\n",
    "\n",
    "ax.scatter(moa_civic_evidence_sum_list[11],moa_civic_impact_score_list[11], marker=xy12b,\n",
    "           s=size12, facecolor='purple')\n",
    "\n",
    "\n",
    "legend_elements = [Line2D([0], [0], marker='o', color='w', label='Expression (626, 3629.00)',\n",
    "                          markerfacecolor='red', markersize=20),\n",
    "                   Line2D([0], [0], marker='o', color='w', label='Epigenetic Modification (24, 285.50)',\n",
    "                          markerfacecolor='darkorange', markersize=20),\n",
    "                   Line2D([0], [0], marker='o', color='w', label='Fusion (1239, 5689.25)',\n",
    "                          markerfacecolor='forestgreen', markersize=20),       \n",
    "                   Line2D([0], [0], marker='o', color='w', label='Protein Consequence (705, 3747.75)',\n",
    "                          markerfacecolor='lawngreen', markersize=20),       \n",
    "                   Line2D([0], [0], marker='o', color='w', label='Gene Function (347, 1822.50)',\n",
    "                          markerfacecolor='gold', markersize=20),       \n",
    "                   Line2D([0], [0], marker='o', color='w', label='Rearrangements (218, 945.00)',\n",
    "                          markerfacecolor='cyan', markersize=20),       \n",
    "                   Line2D([0], [0], marker='o', color='w', label='Copy Number (93, 254.00)',\n",
    "                          markerfacecolor='deepskyblue', markersize=20),\n",
    "                   Line2D([0], [0], marker='o', color='w', label='Other  (185, 708.50)',\n",
    "                          markerfacecolor='mediumslateblue', markersize=20),\n",
    "                   Line2D([0], [0], marker='o', color='w', label='Genotypes Easy (23, 195.00)',\n",
    "                          markerfacecolor='blue', markersize=20),       \n",
    "                   Line2D([0], [0], marker='o', color='w', label='Genotypes Compound (7, 117.50)',\n",
    "                          markerfacecolor='pink', markersize=20),       \n",
    "                   Line2D([0], [0], marker='o', color='w', label='Region Defined (924, 8311.50)',\n",
    "                          markerfacecolor='deeppink', markersize=20),       \n",
    "                   Line2D([0], [0], marker='o', color='w', label='Transcript (471, 346.50)',\n",
    "                          markerfacecolor='purple', markersize=20),\n",
    "                   Line2D([0], [0], color='w',\n",
    "                          markerfacecolor='white'),       \n",
    "                   mpatches.Circle(xy=(0,0), radius=1, edgecolor=\"black\", facecolor= \"white\", hatch='///////', label='Variants from MOA'), \n",
    "                   mpatches.Circle(xy=(0,0), radius=1, edgecolor=\"black\", facecolor= \"white\", label='Variants from CIViC')]\n",
    "legend_2_elements= [Line2D([0], [0], color='w',\n",
    "                          markerfacecolor='white'),\n",
    "                     Line2D([0], [0], color='w',\n",
    "                          markerfacecolor='white'),\n",
    "                     Line2D([0], [0], color='w',\n",
    "                          markerfacecolor='white'),\n",
    "                     Line2D([0], [0], marker='o', color='w', label='          300 variants per category',\n",
    "                          markerfacecolor='black', markersize=85),\n",
    "                     Line2D([0], [0], color='k',\n",
    "                          markerfacecolor='white'),\n",
    "                     Line2D([0], [0], color='w',\n",
    "                          markerfacecolor='white'),\n",
    "                     Line2D([0], [0], color='w',\n",
    "                          markerfacecolor='white'),\n",
    "                     Line2D([0], [0], marker='o', color='w', label='          200 variants per category',\n",
    "                          markerfacecolor='black', markersize=60),\n",
    "                     Line2D([0], [0], color='k',\n",
    "                          markerfacecolor='white'),\n",
    "                     Line2D([0], [0], color='w',\n",
    "                          markerfacecolor='white'),\n",
    "                     \n",
    "                     Line2D([0], [0], marker='o', color='w', label='          50 variants per category',\n",
    "                          markerfacecolor='black', markersize=24),\n",
    "                     Line2D([0], [0], color='w',\n",
    "                          markerfacecolor='white')]\n",
    "\n",
    "# Create the figure\n",
    "first_legend = ax.legend(handles=legend_elements,loc='lower left', bbox_to_anchor=(0., .325, 3, .550), fontsize= 20)\n",
    "# first_legend._legend_box.align = \"left\"\n",
    "ax.add_artist(first_legend)\n",
    "ax.set_xlabel('Number of Evidence Items per Category (MOA & CIViC)', fontsize= 25)\n",
    "ax.set_ylabel('Impact Score per Category (MOA & CIViC)', fontsize= 25)\n",
    "for axis in ['top','bottom','left','right']:\n",
    "    ax.spines[axis].set_linewidth(4)\n",
    "ax.tick_params(width=4)\n",
    "second_legend = ax.legend(handles=legend_2_elements, loc='lower right', frameon=False)\n",
    "ax.add_artist(second_legend)\n",
    "plt.title(\"Impact Score of Currently Not Supported Variant Categories\", fontsize=40)\n",
    "plt.xticks(fontsize=20)\n",
    "plt.yticks(fontsize=20)\n",
    "plt.setp(plt.gca().get_legend().get_texts(), fontsize='17')\n",
    "\n",
    "plt.savefig('myfig2.jpeg', dpi=1000)\n",
    "\n",
    "\n",
    "\n",
    "plt.show()"
   ]
  },
  {
   "cell_type": "code",
   "execution_count": null,
   "metadata": {},
   "outputs": [],
   "source": []
  }
 ],
 "metadata": {
  "kernelspec": {
   "display_name": "Python 3.10.9 ('.venv': venv)",
   "language": "python",
   "name": "python3"
  },
  "language_info": {
   "codemirror_mode": {
    "name": "ipython",
    "version": 3
   },
   "file_extension": ".py",
   "mimetype": "text/x-python",
   "name": "python",
   "nbconvert_exporter": "python",
   "pygments_lexer": "ipython3",
   "version": "3.10.9"
  },
  "orig_nbformat": 4,
  "vscode": {
   "interpreter": {
    "hash": "60bedfc6dd95a1d756c285a8080496495ec396023cb257f004626f94ae504b38"
   }
  }
 },
 "nbformat": 4,
 "nbformat_minor": 2
}
