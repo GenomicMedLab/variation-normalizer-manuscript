{
 "cells": [
  {
   "cell_type": "markdown",
   "metadata": {},
   "source": [
    "# CIViC Evidence Analysis\n",
    "This notebook contains an analysis on CIViC evidence data"
   ]
  },
  {
   "cell_type": "markdown",
   "metadata": {},
   "source": [
    "# Analysis of Normalized Queries"
   ]
  },
  {
   "cell_type": "code",
   "execution_count": 1,
   "metadata": {},
   "outputs": [],
   "source": [
    "from pathlib import Path\n",
    "from enum import Enum\n",
    "import zipfile\n",
    "\n",
    "import pandas as pd\n",
    "from civicpy import civic as civicpy\n",
    "import plotly.express as px"
   ]
  },
  {
   "cell_type": "code",
   "execution_count": 2,
   "metadata": {},
   "outputs": [],
   "source": [
    "# Use latest cache that has been pushed to the repo\n",
    "#latest_cache_zip_path = sorted(Path().glob(\"cache-*.pkl.zip\"))[-1]\n",
    "#print(f\"Using {latest_cache_zip_path} for civicpy cache\")\n",
    "\n",
    "#with zipfile.ZipFile(latest_cache_zip_path, \"r\") as zip_ref:\n",
    "#    zip_ref.extractall()\n",
    "\n",
    "#civicpy.load_cache(local_cache_path=Path(\"cache.pkl\"), on_stale=\"ignore\")"
   ]
  },
  {
   "cell_type": "markdown",
   "metadata": {},
   "source": [
    "## Total Variants in CIViC"
   ]
  },
  {
   "cell_type": "code",
   "execution_count": 3,
   "metadata": {},
   "outputs": [
    {
     "data": {
      "text/plain": [
       "'Total Number of variants in CIViC: 3581'"
      ]
     },
     "execution_count": 3,
     "metadata": {},
     "output_type": "execute_result"
    }
   ],
   "source": [
    "civic_variant_ids = civicpy.get_all_variants()\n",
    "total_number_variants = len(civic_variant_ids)\n",
    "f\"Total Number of variants in CIViC: {total_number_variants}\""
   ]
  },
  {
   "cell_type": "markdown",
   "metadata": {},
   "source": [
    "## Total Evidence items in CIViC"
   ]
  },
  {
   "cell_type": "markdown",
   "metadata": {},
   "source": [
    "Need to remove all rejected evidence items"
   ]
  },
  {
   "cell_type": "code",
   "execution_count": 4,
   "metadata": {},
   "outputs": [],
   "source": [
    "civic_evidence_ids = civicpy.get_all_evidence(include_status=[\"accepted\", \"submitted\"])"
   ]
  },
  {
   "cell_type": "code",
   "execution_count": 5,
   "metadata": {},
   "outputs": [
    {
     "data": {
      "text/plain": [
       "'Total Number of accepted and submitted evidence items in CIViC: 9914'"
      ]
     },
     "execution_count": 5,
     "metadata": {},
     "output_type": "execute_result"
    }
   ],
   "source": [
    "total_ac_sub_evidence = len(civic_evidence_ids)\n",
    "f\"Total Number of accepted and submitted evidence items in CIViC: {total_ac_sub_evidence}\""
   ]
  },
  {
   "cell_type": "markdown",
   "metadata": {},
   "source": [
    "## Total Molecular Profiles in CIViC"
   ]
  },
  {
   "cell_type": "code",
   "execution_count": 6,
   "metadata": {},
   "outputs": [],
   "source": [
    "civic_molprof_ids = civicpy.get_all_molecular_profiles(include_status=[\"accepted\", \"submitted\", \"rejected\"])"
   ]
  },
  {
   "cell_type": "code",
   "execution_count": 7,
   "metadata": {},
   "outputs": [
    {
     "data": {
      "text/plain": [
       "9914"
      ]
     },
     "execution_count": 7,
     "metadata": {},
     "output_type": "execute_result"
    }
   ],
   "source": [
    "len(civic_evidence_ids)"
   ]
  },
  {
   "attachments": {},
   "cell_type": "markdown",
   "metadata": {},
   "source": [
    "# Create analysis functions / global variables "
   ]
  },
  {
   "cell_type": "code",
   "execution_count": 8,
   "metadata": {},
   "outputs": [],
   "source": [
    "class VariantNormType(str, Enum):\n",
    "    \"\"\"Variation Normalization types\"\"\"\n",
    "\n",
    "    NORMALIZED = \"Normalized\"\n",
    "    UNABLE_TO_NORMALIZE = \"Unable to Normalize\"\n",
    "    NOT_SUPPORTED = \"Not Supported\"\n",
    "\n",
    "\n",
    "VARIANT_NORM_TYPE_VALUES = [v.value for v in VariantNormType.__members__.values()]"
   ]
  },
  {
   "cell_type": "code",
   "execution_count": 9,
   "metadata": {},
   "outputs": [],
   "source": [
    "class VariantCategory(str, Enum):\n",
    "    \"\"\"Create enum for the kind of variants that are in CIViC.\"\"\"\n",
    "\n",
    "    EXPRESSION = \"Expression\"\n",
    "    EPIGENETIC_MODIFICATION = \"Epigenetic Modification\"\n",
    "    FUSION = \"Fusion\"\n",
    "    PROTEIN_CONS = \"Protein Consequence\"\n",
    "    GENE_FUNC = \"Gene Function\"\n",
    "    REARRANGEMENTS = \"Rearrangements\"\n",
    "    COPY_NUMBER = \"Copy Number\"\n",
    "    OTHER = \"Other\"\n",
    "    GENOTYPES_EASY = \"Genotypes Easy\"\n",
    "    GENOTYPES_COMPOUND = \"Genotypes Compound\"\n",
    "    REGION_DEFINED_VAR = \"Region Defined Variant\"\n",
    "    TRANSCRIPT_VAR = \"Transcript Variant\"  # no attempt to normalize these ones, since there is no query we could use\n",
    "\n",
    "\n",
    "VARIANT_CATEGORY_VALUES = [v.value for v in VariantCategory.__members__.values()]"
   ]
  },
  {
   "cell_type": "markdown",
   "metadata": {},
   "source": [
    "## Summary dicts \n",
    "\n",
    "These dictionaries will be mutated and used at the end of the analysis"
   ]
  },
  {
   "cell_type": "code",
   "execution_count": 10,
   "metadata": {},
   "outputs": [
    {
     "data": {
      "text/plain": [
       "{'Variant Category': ['Normalized', 'Unable to Normalize', 'Not Supported'],\n",
       " 'Count of CIViC Variant Items per Category': [],\n",
       " 'Fraction of all CIViC Variant Items': [],\n",
       " 'Percentage of all CIViC Variant Items': [],\n",
       " 'Fraction of Accepted Variant Items': [],\n",
       " 'Percentage of Accepted Variant Items': [],\n",
       " 'Fraction of Not Accepted Variant Items': [],\n",
       " 'Percentage of Not Accepted Variant Items': []}"
      ]
     },
     "execution_count": 10,
     "metadata": {},
     "output_type": "execute_result"
    }
   ],
   "source": [
    "variant_analysis_summary = {\n",
    "    \"Variant Category\": VARIANT_NORM_TYPE_VALUES,\n",
    "    \"Count of CIViC Variant Items per Category\":[],\n",
    "    \"Fraction of all CIViC Variant Items\": [],\n",
    "    \"Percentage of all CIViC Variant Items\": [],\n",
    "    \"Fraction of Accepted Variant Items\": [],\n",
    "    \"Percentage of Accepted Variant Items\": [],\n",
    "    \"Fraction of Not Accepted Variant Items\": [],\n",
    "    \"Percentage of Not Accepted Variant Items\": []\n",
    "}\n",
    "variant_analysis_summary"
   ]
  },
  {
   "cell_type": "code",
   "execution_count": 11,
   "metadata": {},
   "outputs": [
    {
     "data": {
      "text/plain": [
       "{'Variant Category': ['Normalized', 'Unable to Normalize', 'Not Supported'],\n",
       " 'Count of CIViC Evidence Items per Category': [],\n",
       " 'Fraction of all CIViC Evidence Items': [],\n",
       " 'Percentage of all CIViC Evidence Items': [],\n",
       " 'Fraction of Accepted Evidence Items': [],\n",
       " 'Percentage of Accepted Evidence Items': [],\n",
       " 'Fraction of Submitted Evidence Items': [],\n",
       " 'Percentage of Submitted Evidence Items': []}"
      ]
     },
     "execution_count": 11,
     "metadata": {},
     "output_type": "execute_result"
    }
   ],
   "source": [
    "evidence_analysis_summary = {\n",
    "    \"Variant Category\": VARIANT_NORM_TYPE_VALUES,\n",
    "    \"Count of CIViC Evidence Items per Category\":[],\n",
    "    \"Fraction of all CIViC Evidence Items\": [],\n",
    "    \"Percentage of all CIViC Evidence Items\": [],\n",
    "    \"Fraction of Accepted Evidence Items\": [],\n",
    "    \"Percentage of Accepted Evidence Items\": [],\n",
    "    \"Fraction of Submitted Evidence Items\": [],\n",
    "    \"Percentage of Submitted Evidence Items\": []\n",
    "}\n",
    "evidence_analysis_summary"
   ]
  },
  {
   "cell_type": "markdown",
   "metadata": {},
   "source": [
    "## Define Analysis Functions"
   ]
  },
  {
   "cell_type": "code",
   "execution_count": 12,
   "metadata": {},
   "outputs": [],
   "source": [
    "def variant_analysis(df: pd.DataFrame, variant_norm_type: VariantNormType) -> pd.DataFrame:\n",
    "    \"\"\"Do variant analysis (counts, percentages)\n",
    "\n",
    "    :param df: Dataframe of variants\n",
    "    :param variant_norm_type: The kind of variants that are in `df`\n",
    "    :return: Transformed dataframe with variant ID duplicates dropped\n",
    "    \"\"\"\n",
    "    # Drop duplicate rows\n",
    "    df = df.drop_duplicates(subset=[\"variant_id\"])\n",
    "    variant_ids = list(df[\"variant_id\"])\n",
    "\n",
    "    # Count\n",
    "    num_variants = len(variant_ids)\n",
    "    fraction_variants = f\"{num_variants} / {total_number_variants}\"\n",
    "    print(f\"\\nNumber of {variant_norm_type.value} Variants in CIViC: {fraction_variants}\")\n",
    "\n",
    "    # Percentage\n",
    "    percentage_variants = f\"{num_variants / total_number_variants * 100:.2f}%\"\n",
    "    print(f\"Percentage of {variant_norm_type.value} Variants in CIViC: {percentage_variants}\")\n",
    "\n",
    "    # Get accepted counts\n",
    "    num_accepted_variants = df.variant_accepted.sum()\n",
    "    fraction_accepted_variants = f\"{num_accepted_variants} / {num_variants}\"\n",
    "    print(f\"\\nNumber of accepted {variant_norm_type.value} Variants: {fraction_accepted_variants}\")\n",
    "\n",
    "    # Get accepted percentage\n",
    "    percentage_accepted_variants = f\"{num_accepted_variants / num_variants * 100:.2f}%\"\n",
    "    print(f\"Percentage of accepted {variant_norm_type.value} Variants: {percentage_accepted_variants}\")\n",
    "\n",
    "    # Get not accepted counts\n",
    "    num_not_accepted_variants = len(df) - num_accepted_variants\n",
    "    fraction_not_accepted_variants = f\"{num_not_accepted_variants} / {num_variants}\"\n",
    "    print(f\"\\nNumber of not accepted {variant_norm_type.value} Variants: {fraction_not_accepted_variants}\")\n",
    "\n",
    "    # Get not accepted percentage\n",
    "    percentage_not_accepted_variants = f\"{num_not_accepted_variants / num_variants * 100:.2f}%\"\n",
    "    print(f\"Percentage of not accepted {variant_norm_type.value} Variants: {percentage_not_accepted_variants}\")\n",
    "\n",
    "    variant_analysis_summary[\"Count of CIViC Variant Items per Category\"].append(num_variants)\n",
    "    variant_analysis_summary[\"Fraction of all CIViC Variant Items\"].append(fraction_variants)\n",
    "    variant_analysis_summary[\"Percentage of all CIViC Variant Items\"].append(percentage_variants)\n",
    "    variant_analysis_summary[\"Fraction of Accepted Variant Items\"].append(fraction_accepted_variants)\n",
    "    variant_analysis_summary[\"Percentage of Accepted Variant Items\"].append(percentage_accepted_variants)\n",
    "    variant_analysis_summary[\"Fraction of Not Accepted Variant Items\"].append(fraction_not_accepted_variants)\n",
    "    variant_analysis_summary[\"Percentage of Not Accepted Variant Items\"].append(percentage_not_accepted_variants)\n",
    "\n",
    "    return df"
   ]
  },
  {
   "cell_type": "code",
   "execution_count": 13,
   "metadata": {},
   "outputs": [],
   "source": [
    "def transform_df_evidence_ids(df: pd.DataFrame) -> pd.DataFrame:\n",
    "    \"\"\"Transform dataframe to include evidence ID information\n",
    "\n",
    "    :param df: Dataframe of variants\n",
    "    :return: Transformed dataframe with evidence ID information\n",
    "    \"\"\"\n",
    "    tmp_df = df.copy(deep=True)\n",
    "\n",
    "    _variants_evidence_ids = []\n",
    "    variant_ids = list(tmp_df[\"variant_id\"])\n",
    "\n",
    "    for v_id in variant_ids:\n",
    "        _variant_evidence_ids = []\n",
    "\n",
    "        for variant in civic_variant_ids:\n",
    "            if int(v_id) == variant.id:\n",
    "                for mp in variant.molecular_profiles:\n",
    "                    for e in mp.evidence_items:\n",
    "                        if e.id not in _variant_evidence_ids:\n",
    "                            _variant_evidence_ids.append(e.id)\n",
    "\n",
    "        _variants_evidence_ids.append(_variant_evidence_ids or \"\")\n",
    "\n",
    "    tmp_df[\"evidence_ids\"] = _variants_evidence_ids\n",
    "\n",
    "    # Explode and rename evidence ids field\n",
    "    tmp_df = tmp_df.explode(column=\"evidence_ids\")\n",
    "    tmp_df = tmp_df.rename(columns={\"evidence_ids\": \"evidence_id\"})\n",
    "\n",
    "    return tmp_df"
   ]
  },
  {
   "cell_type": "code",
   "execution_count": 14,
   "metadata": {},
   "outputs": [],
   "source": [
    "def transform_df_evidence(df: pd.DataFrame) -> pd.DataFrame:\n",
    "    \"\"\"Transform dataframe to include evidence status, rating, and level\n",
    "\n",
    "    :param df: Dataframe of variants\n",
    "    :return: Transformed dataframe with evidence status, rating, and level information.\n",
    "        Rejected evidence items will be dropped.\n",
    "    \"\"\"\n",
    "    variants_evidence_ids = list(df[\"evidence_id\"])\n",
    "\n",
    "    # Add evidence status, rating, and level information\n",
    "    _variants_evidence_statuses = []\n",
    "    _variants_evidence_ratings = []\n",
    "    _variants_evidence_levels = []\n",
    "\n",
    "    for eid in variants_evidence_ids:\n",
    "        _variant_evidence_statuses = []\n",
    "        _variant_evidence_ratings = []\n",
    "        _variant_evidence_levels = []\n",
    "\n",
    "        for evidence in civic_evidence_ids:\n",
    "            if eid and (int(eid) == evidence.id):\n",
    "                if evidence.status not in _variant_evidence_statuses:\n",
    "                    _variant_evidence_statuses.append(evidence.status)\n",
    "\n",
    "                if evidence.rating not in _variant_evidence_ratings:\n",
    "                    _variant_evidence_ratings.append(evidence.rating)\n",
    "\n",
    "                if evidence.evidence_level not in _variant_evidence_levels:\n",
    "                    _variant_evidence_levels.append(evidence.evidence_level)\n",
    "                    \n",
    "        _variants_evidence_statuses.append(_variant_evidence_statuses or \"\")\n",
    "        _variants_evidence_ratings.append(_variant_evidence_ratings or \"\")\n",
    "        _variants_evidence_levels.append(_variant_evidence_levels or \"\")\n",
    "\n",
    "    df[\"evidence_status\"] = _variants_evidence_statuses\n",
    "    df[\"evidence_status\"] = df[\"evidence_status\"].str.join(\", \")\n",
    "    df[\"evidence_rating\"] = _variants_evidence_ratings\n",
    "    df[\"evidence_level\"] = _variants_evidence_levels\n",
    "\n",
    "    # Drop rejected evidence items\n",
    "    df = df.drop(df[df.evidence_status == \"rejected\"].index)\n",
    "\n",
    "    return df\n"
   ]
  },
  {
   "cell_type": "code",
   "execution_count": 15,
   "metadata": {},
   "outputs": [],
   "source": [
    "def evidence_analysis(df: pd.DataFrame, variant_norm_type: VariantNormType) -> pd.DataFrame:\n",
    "    \"\"\"Do evidence analysis (counts, percentages)\n",
    "\n",
    "    :param df: Dataframe of variants\n",
    "    :param variant_norm_type: The kind of variants that are in `df`\n",
    "    :return: Transformed dataframe with evidence ID duplicates dropped\n",
    "    \"\"\"\n",
    "    # Count\n",
    "    num_variant_unique_evidence_items = len(set(df.evidence_id))\n",
    "    fraction_evidence_items = f\"{num_variant_unique_evidence_items} / {total_ac_sub_evidence}\"\n",
    "    print(f\"Number of {variant_norm_type.value} Variant Evidence items in CIViC: {fraction_evidence_items}\")\n",
    "\n",
    "    # Percentage\n",
    "    percentage_evidence_items = f\"{num_variant_unique_evidence_items / total_ac_sub_evidence * 100:.2f}%\"\n",
    "    print(f\"Percentage of {variant_norm_type.value} Variant Evidence items in CIViC: {percentage_evidence_items}\")\n",
    "\n",
    "    # Add evidence accepted column\n",
    "    df[\"evidence_accepted\"] = df.evidence_status.map({\"accepted\": True, \"submitted\": False})\n",
    "\n",
    "    # Drop evidence id duplicates\n",
    "    df = df.drop_duplicates(subset=[\"evidence_id\"])\n",
    "\n",
    "    # Get accepted counts\n",
    "    num_accepted_evidences_variants = df.evidence_accepted.sum()\n",
    "    fraction_accepted_evidences_variants = f\"{num_accepted_evidences_variants} / {num_variant_unique_evidence_items}\"\n",
    "    print(f\"\\nNumber of accepted {variant_norm_type.value} Variant Evidence items: {fraction_accepted_evidences_variants}\")\n",
    "\n",
    "    # Get accepted percentage\n",
    "    percentage_accepted_evidences_variants = f\"{num_accepted_evidences_variants / num_variant_unique_evidence_items * 100:.2f}%\"\n",
    "    print(f\"Percentage of accepted {variant_norm_type.value} Variant Evidence items: {percentage_accepted_evidences_variants}\")\n",
    "\n",
    "    # Get submitted counts\n",
    "    number_submitted_evidences_variants = len(df) - num_accepted_evidences_variants\n",
    "    fraction_submitted_evidences_variants = f\"{number_submitted_evidences_variants} / {num_variant_unique_evidence_items}\"\n",
    "    print(f\"\\nNumber of submitted {variant_norm_type.value} Variant Evidence items: {fraction_submitted_evidences_variants}\")\n",
    "\n",
    "    # Get submitted percentage\n",
    "    percentage_submitted_evidences_variants = f\"{number_submitted_evidences_variants / num_variant_unique_evidence_items * 100:.2f}%\"\n",
    "    print(f\"Percentage of not submitted {variant_norm_type.value} Variant Evidence items: {percentage_submitted_evidences_variants}\")\n",
    "\n",
    "    evidence_analysis_summary[\"Count of CIViC Evidence Items per Category\"].append(num_variant_unique_evidence_items)\n",
    "    evidence_analysis_summary[\"Fraction of all CIViC Evidence Items\"].append(fraction_evidence_items)\n",
    "    evidence_analysis_summary[\"Percentage of all CIViC Evidence Items\"].append(percentage_evidence_items)\n",
    "    evidence_analysis_summary[\"Fraction of Accepted Evidence Items\"].append(fraction_accepted_evidences_variants)\n",
    "    evidence_analysis_summary[\"Percentage of Accepted Evidence Items\"].append(percentage_accepted_evidences_variants)\n",
    "    evidence_analysis_summary[\"Fraction of Submitted Evidence Items\"].append(fraction_submitted_evidences_variants)\n",
    "    evidence_analysis_summary[\"Percentage of Submitted Evidence Items\"].append(percentage_submitted_evidences_variants)\n",
    "\n",
    "    return df"
   ]
  },
  {
   "cell_type": "code",
   "execution_count": 16,
   "metadata": {},
   "outputs": [],
   "source": [
    "def transform_df_mp_id(df: pd.DataFrame) -> pd.DataFrame:\n",
    "    \"\"\"Transform dataframe to include molecular profile ID information\n",
    "\n",
    "    :param df: Dataframe of variants\n",
    "    :return: Transformed dataframe with molecular profile ID information\n",
    "    \"\"\"\n",
    "    tmp_df = df.copy(deep=True)\n",
    "\n",
    "    variants_molprof_ids = []\n",
    "    variant_ids = list(tmp_df[\"variant_id\"])\n",
    "\n",
    "    for v_id in variant_ids:\n",
    "        variant_molprof_ids = []\n",
    "\n",
    "        for variant in civic_variant_ids:\n",
    "            if int(v_id) == variant.id:\n",
    "                for mp in variant.molecular_profiles:\n",
    "                    if mp.id not in variant_molprof_ids:\n",
    "                        variant_molprof_ids.append(mp.id)\n",
    "\n",
    "        variants_molprof_ids.append(variant_molprof_ids or \"\")\n",
    "\n",
    "    tmp_df[\"molecular_profile_id\"] = variants_molprof_ids\n",
    "    return tmp_df"
   ]
  },
  {
   "cell_type": "code",
   "execution_count": 17,
   "metadata": {},
   "outputs": [],
   "source": [
    "def transform_df_mp_score(df: pd.DataFrame) -> pd.DataFrame:\n",
    "    \"\"\"Transform dataframe to include molecular profile score information\n",
    "\n",
    "    :param df: Dataframe of variants\n",
    "    :return: Transformed dataframe with molecular profile score information\n",
    "    \"\"\"\n",
    "    variants_molprof_scores = []\n",
    "    normalized_variant_molprof_ids = list(df[\"molecular_profile_id\"])\n",
    "\n",
    "    for mp_ids in normalized_variant_molprof_ids:\n",
    "        variant_molprof_scores = []\n",
    "        for mp_id in mp_ids:\n",
    "            for molprof in civic_molprof_ids:\n",
    "                if int(mp_id) == molprof.id:\n",
    "                    if molprof.molecular_profile_score not in variant_molprof_scores:\n",
    "                        variant_molprof_scores.append(molprof.molecular_profile_score)\n",
    "\n",
    "        variants_molprof_scores.append(variant_molprof_scores or \"\")\n",
    "\n",
    "    df[\"molecular_profile_score\"] = variants_molprof_scores\n",
    "    return df"
   ]
  },
  {
   "cell_type": "code",
   "execution_count": 18,
   "metadata": {},
   "outputs": [],
   "source": [
    "def transform_df_mp_score_sum(df: pd.DataFrame) -> pd.DataFrame:\n",
    "    \"\"\"Transform dataframe to include molecular profile score sum information\n",
    "\n",
    "    :param df: Dataframe of variants\n",
    "    :return: Transformed dataframe with molecular profile score sum information\n",
    "    \"\"\"\n",
    "    df[\"molecular_profile_score_sum\"] = df[\"molecular_profile_score\"].apply(lambda x: sum(x))\n",
    "    return df"
   ]
  },
  {
   "cell_type": "markdown",
   "metadata": {},
   "source": [
    "## List of Normalized Variants ID's"
   ]
  },
  {
   "cell_type": "code",
   "execution_count": 19,
   "metadata": {},
   "outputs": [
    {
     "data": {
      "text/html": [
       "<div>\n",
       "<style scoped>\n",
       "    .dataframe tbody tr th:only-of-type {\n",
       "        vertical-align: middle;\n",
       "    }\n",
       "\n",
       "    .dataframe tbody tr th {\n",
       "        vertical-align: top;\n",
       "    }\n",
       "\n",
       "    .dataframe thead th {\n",
       "        text-align: right;\n",
       "    }\n",
       "</style>\n",
       "<table border=\"1\" class=\"dataframe\">\n",
       "  <thead>\n",
       "    <tr style=\"text-align: right;\">\n",
       "      <th></th>\n",
       "      <th>variant_id</th>\n",
       "      <th>query</th>\n",
       "      <th>query_type</th>\n",
       "      <th>variant_accepted</th>\n",
       "      <th>vrs_id</th>\n",
       "    </tr>\n",
       "  </thead>\n",
       "  <tbody>\n",
       "    <tr>\n",
       "      <th>0</th>\n",
       "      <td>2489</td>\n",
       "      <td>NC_000003.11:g.10191648_10191649insC</td>\n",
       "      <td>genomic</td>\n",
       "      <td>True</td>\n",
       "      <td>ga4gh:VA.A34ZoIhq4xBuQbcE3bkj29n6diS6RzLB</td>\n",
       "    </tr>\n",
       "    <tr>\n",
       "      <th>1</th>\n",
       "      <td>1988</td>\n",
       "      <td>NC_000003.11:g.10191649A&gt;T</td>\n",
       "      <td>genomic</td>\n",
       "      <td>True</td>\n",
       "      <td>ga4gh:VA.JcEpDvhUtgDWU4A-bxqLUuczBNb8QqRf</td>\n",
       "    </tr>\n",
       "    <tr>\n",
       "      <th>2</th>\n",
       "      <td>2488</td>\n",
       "      <td>3-10191647-T-G</td>\n",
       "      <td>genomic</td>\n",
       "      <td>True</td>\n",
       "      <td>ga4gh:VA.7nGd8dgHbqtxMHk_rLxrB6_IMAzJ8XnH</td>\n",
       "    </tr>\n",
       "    <tr>\n",
       "      <th>3</th>\n",
       "      <td>1986</td>\n",
       "      <td>NC_000003.11:g.10191648G&gt;T</td>\n",
       "      <td>genomic</td>\n",
       "      <td>True</td>\n",
       "      <td>ga4gh:VA.AmLtooLEvgdnEHD5YVWk6u1e2XBe7FiP</td>\n",
       "    </tr>\n",
       "    <tr>\n",
       "      <th>4</th>\n",
       "      <td>1987</td>\n",
       "      <td>NC_000003.11:g.10191649A&gt;G</td>\n",
       "      <td>genomic</td>\n",
       "      <td>True</td>\n",
       "      <td>ga4gh:VA.KIz00usFWEmJHNyqmVL61obfgfRPgOIa</td>\n",
       "    </tr>\n",
       "  </tbody>\n",
       "</table>\n",
       "</div>"
      ],
      "text/plain": [
       "   variant_id                                 query query_type   \n",
       "0        2489  NC_000003.11:g.10191648_10191649insC    genomic  \\\n",
       "1        1988            NC_000003.11:g.10191649A>T    genomic   \n",
       "2        2488                        3-10191647-T-G    genomic   \n",
       "3        1986            NC_000003.11:g.10191648G>T    genomic   \n",
       "4        1987            NC_000003.11:g.10191649A>G    genomic   \n",
       "\n",
       "   variant_accepted                                     vrs_id  \n",
       "0              True  ga4gh:VA.A34ZoIhq4xBuQbcE3bkj29n6diS6RzLB  \n",
       "1              True  ga4gh:VA.JcEpDvhUtgDWU4A-bxqLUuczBNb8QqRf  \n",
       "2              True  ga4gh:VA.7nGd8dgHbqtxMHk_rLxrB6_IMAzJ8XnH  \n",
       "3              True  ga4gh:VA.AmLtooLEvgdnEHD5YVWk6u1e2XBe7FiP  \n",
       "4              True  ga4gh:VA.KIz00usFWEmJHNyqmVL61obfgfRPgOIa  "
      ]
     },
     "execution_count": 19,
     "metadata": {},
     "output_type": "execute_result"
    }
   ],
   "source": [
    "normalized_queries_df = pd.read_csv(\"able_to_normalize_queries.csv\", sep=\"\\t\")\n",
    "normalized_queries_df.head()"
   ]
  },
  {
   "cell_type": "markdown",
   "metadata": {},
   "source": [
    "## Variant analysis"
   ]
  },
  {
   "cell_type": "code",
   "execution_count": 20,
   "metadata": {},
   "outputs": [
    {
     "name": "stdout",
     "output_type": "stream",
     "text": [
      "\n",
      "Number of Normalized Variants in CIViC: 1869 / 3581\n",
      "Percentage of Normalized Variants in CIViC: 52.19%\n",
      "\n",
      "Number of accepted Normalized Variants: 866 / 1869\n",
      "Percentage of accepted Normalized Variants: 46.33%\n",
      "\n",
      "Number of not accepted Normalized Variants: 1003 / 1869\n",
      "Percentage of not accepted Normalized Variants: 53.67%\n"
     ]
    },
    {
     "data": {
      "text/html": [
       "<div>\n",
       "<style scoped>\n",
       "    .dataframe tbody tr th:only-of-type {\n",
       "        vertical-align: middle;\n",
       "    }\n",
       "\n",
       "    .dataframe tbody tr th {\n",
       "        vertical-align: top;\n",
       "    }\n",
       "\n",
       "    .dataframe thead th {\n",
       "        text-align: right;\n",
       "    }\n",
       "</style>\n",
       "<table border=\"1\" class=\"dataframe\">\n",
       "  <thead>\n",
       "    <tr style=\"text-align: right;\">\n",
       "      <th></th>\n",
       "      <th>variant_id</th>\n",
       "      <th>query</th>\n",
       "      <th>query_type</th>\n",
       "      <th>variant_accepted</th>\n",
       "      <th>vrs_id</th>\n",
       "    </tr>\n",
       "  </thead>\n",
       "  <tbody>\n",
       "    <tr>\n",
       "      <th>0</th>\n",
       "      <td>2489</td>\n",
       "      <td>NC_000003.11:g.10191648_10191649insC</td>\n",
       "      <td>genomic</td>\n",
       "      <td>True</td>\n",
       "      <td>ga4gh:VA.A34ZoIhq4xBuQbcE3bkj29n6diS6RzLB</td>\n",
       "    </tr>\n",
       "    <tr>\n",
       "      <th>1</th>\n",
       "      <td>1988</td>\n",
       "      <td>NC_000003.11:g.10191649A&gt;T</td>\n",
       "      <td>genomic</td>\n",
       "      <td>True</td>\n",
       "      <td>ga4gh:VA.JcEpDvhUtgDWU4A-bxqLUuczBNb8QqRf</td>\n",
       "    </tr>\n",
       "    <tr>\n",
       "      <th>2</th>\n",
       "      <td>2488</td>\n",
       "      <td>3-10191647-T-G</td>\n",
       "      <td>genomic</td>\n",
       "      <td>True</td>\n",
       "      <td>ga4gh:VA.7nGd8dgHbqtxMHk_rLxrB6_IMAzJ8XnH</td>\n",
       "    </tr>\n",
       "    <tr>\n",
       "      <th>3</th>\n",
       "      <td>1986</td>\n",
       "      <td>NC_000003.11:g.10191648G&gt;T</td>\n",
       "      <td>genomic</td>\n",
       "      <td>True</td>\n",
       "      <td>ga4gh:VA.AmLtooLEvgdnEHD5YVWk6u1e2XBe7FiP</td>\n",
       "    </tr>\n",
       "    <tr>\n",
       "      <th>4</th>\n",
       "      <td>1987</td>\n",
       "      <td>NC_000003.11:g.10191649A&gt;G</td>\n",
       "      <td>genomic</td>\n",
       "      <td>True</td>\n",
       "      <td>ga4gh:VA.KIz00usFWEmJHNyqmVL61obfgfRPgOIa</td>\n",
       "    </tr>\n",
       "  </tbody>\n",
       "</table>\n",
       "</div>"
      ],
      "text/plain": [
       "   variant_id                                 query query_type   \n",
       "0        2489  NC_000003.11:g.10191648_10191649insC    genomic  \\\n",
       "1        1988            NC_000003.11:g.10191649A>T    genomic   \n",
       "2        2488                        3-10191647-T-G    genomic   \n",
       "3        1986            NC_000003.11:g.10191648G>T    genomic   \n",
       "4        1987            NC_000003.11:g.10191649A>G    genomic   \n",
       "\n",
       "   variant_accepted                                     vrs_id  \n",
       "0              True  ga4gh:VA.A34ZoIhq4xBuQbcE3bkj29n6diS6RzLB  \n",
       "1              True  ga4gh:VA.JcEpDvhUtgDWU4A-bxqLUuczBNb8QqRf  \n",
       "2              True  ga4gh:VA.7nGd8dgHbqtxMHk_rLxrB6_IMAzJ8XnH  \n",
       "3              True  ga4gh:VA.AmLtooLEvgdnEHD5YVWk6u1e2XBe7FiP  \n",
       "4              True  ga4gh:VA.KIz00usFWEmJHNyqmVL61obfgfRPgOIa  "
      ]
     },
     "execution_count": 20,
     "metadata": {},
     "output_type": "execute_result"
    }
   ],
   "source": [
    "normalized_queries_df = variant_analysis(normalized_queries_df, VariantNormType.NORMALIZED)\n",
    "normalized_queries_df.head()"
   ]
  },
  {
   "cell_type": "code",
   "execution_count": 21,
   "metadata": {},
   "outputs": [
    {
     "data": {
      "text/plain": [
       "{'Variant Category': ['Normalized', 'Unable to Normalize', 'Not Supported'],\n",
       " 'Count of CIViC Variant Items per Category': [1869],\n",
       " 'Fraction of all CIViC Variant Items': ['1869 / 3581'],\n",
       " 'Percentage of all CIViC Variant Items': ['52.19%'],\n",
       " 'Fraction of Accepted Variant Items': ['866 / 1869'],\n",
       " 'Percentage of Accepted Variant Items': ['46.33%'],\n",
       " 'Fraction of Not Accepted Variant Items': ['1003 / 1869'],\n",
       " 'Percentage of Not Accepted Variant Items': ['53.67%']}"
      ]
     },
     "execution_count": 21,
     "metadata": {},
     "output_type": "execute_result"
    }
   ],
   "source": [
    "variant_analysis_summary"
   ]
  },
  {
   "attachments": {},
   "cell_type": "markdown",
   "metadata": {},
   "source": [
    "## Transform df for evidence analysis"
   ]
  },
  {
   "cell_type": "code",
   "execution_count": 22,
   "metadata": {},
   "outputs": [
    {
     "data": {
      "text/html": [
       "<div>\n",
       "<style scoped>\n",
       "    .dataframe tbody tr th:only-of-type {\n",
       "        vertical-align: middle;\n",
       "    }\n",
       "\n",
       "    .dataframe tbody tr th {\n",
       "        vertical-align: top;\n",
       "    }\n",
       "\n",
       "    .dataframe thead th {\n",
       "        text-align: right;\n",
       "    }\n",
       "</style>\n",
       "<table border=\"1\" class=\"dataframe\">\n",
       "  <thead>\n",
       "    <tr style=\"text-align: right;\">\n",
       "      <th></th>\n",
       "      <th>variant_id</th>\n",
       "      <th>query</th>\n",
       "      <th>query_type</th>\n",
       "      <th>variant_accepted</th>\n",
       "      <th>vrs_id</th>\n",
       "      <th>evidence_id</th>\n",
       "    </tr>\n",
       "  </thead>\n",
       "  <tbody>\n",
       "    <tr>\n",
       "      <th>0</th>\n",
       "      <td>2489</td>\n",
       "      <td>NC_000003.11:g.10191648_10191649insC</td>\n",
       "      <td>genomic</td>\n",
       "      <td>True</td>\n",
       "      <td>ga4gh:VA.A34ZoIhq4xBuQbcE3bkj29n6diS6RzLB</td>\n",
       "      <td>9347</td>\n",
       "    </tr>\n",
       "    <tr>\n",
       "      <th>0</th>\n",
       "      <td>2489</td>\n",
       "      <td>NC_000003.11:g.10191648_10191649insC</td>\n",
       "      <td>genomic</td>\n",
       "      <td>True</td>\n",
       "      <td>ga4gh:VA.A34ZoIhq4xBuQbcE3bkj29n6diS6RzLB</td>\n",
       "      <td>6724</td>\n",
       "    </tr>\n",
       "    <tr>\n",
       "      <th>1</th>\n",
       "      <td>1988</td>\n",
       "      <td>NC_000003.11:g.10191649A&gt;T</td>\n",
       "      <td>genomic</td>\n",
       "      <td>True</td>\n",
       "      <td>ga4gh:VA.JcEpDvhUtgDWU4A-bxqLUuczBNb8QqRf</td>\n",
       "      <td>5336</td>\n",
       "    </tr>\n",
       "    <tr>\n",
       "      <th>2</th>\n",
       "      <td>2488</td>\n",
       "      <td>3-10191647-T-G</td>\n",
       "      <td>genomic</td>\n",
       "      <td>True</td>\n",
       "      <td>ga4gh:VA.7nGd8dgHbqtxMHk_rLxrB6_IMAzJ8XnH</td>\n",
       "      <td>10779</td>\n",
       "    </tr>\n",
       "    <tr>\n",
       "      <th>2</th>\n",
       "      <td>2488</td>\n",
       "      <td>3-10191647-T-G</td>\n",
       "      <td>genomic</td>\n",
       "      <td>True</td>\n",
       "      <td>ga4gh:VA.7nGd8dgHbqtxMHk_rLxrB6_IMAzJ8XnH</td>\n",
       "      <td>6723</td>\n",
       "    </tr>\n",
       "  </tbody>\n",
       "</table>\n",
       "</div>"
      ],
      "text/plain": [
       "   variant_id                                 query query_type   \n",
       "0        2489  NC_000003.11:g.10191648_10191649insC    genomic  \\\n",
       "0        2489  NC_000003.11:g.10191648_10191649insC    genomic   \n",
       "1        1988            NC_000003.11:g.10191649A>T    genomic   \n",
       "2        2488                        3-10191647-T-G    genomic   \n",
       "2        2488                        3-10191647-T-G    genomic   \n",
       "\n",
       "   variant_accepted                                     vrs_id evidence_id  \n",
       "0              True  ga4gh:VA.A34ZoIhq4xBuQbcE3bkj29n6diS6RzLB        9347  \n",
       "0              True  ga4gh:VA.A34ZoIhq4xBuQbcE3bkj29n6diS6RzLB        6724  \n",
       "1              True  ga4gh:VA.JcEpDvhUtgDWU4A-bxqLUuczBNb8QqRf        5336  \n",
       "2              True  ga4gh:VA.7nGd8dgHbqtxMHk_rLxrB6_IMAzJ8XnH       10779  \n",
       "2              True  ga4gh:VA.7nGd8dgHbqtxMHk_rLxrB6_IMAzJ8XnH        6723  "
      ]
     },
     "execution_count": 22,
     "metadata": {},
     "output_type": "execute_result"
    }
   ],
   "source": [
    "normalized_queries_add_evidence_df = transform_df_evidence_ids(normalized_queries_df)\n",
    "normalized_queries_add_evidence_df.head()"
   ]
  },
  {
   "cell_type": "code",
   "execution_count": 23,
   "metadata": {},
   "outputs": [
    {
     "data": {
      "text/html": [
       "<div>\n",
       "<style scoped>\n",
       "    .dataframe tbody tr th:only-of-type {\n",
       "        vertical-align: middle;\n",
       "    }\n",
       "\n",
       "    .dataframe tbody tr th {\n",
       "        vertical-align: top;\n",
       "    }\n",
       "\n",
       "    .dataframe thead th {\n",
       "        text-align: right;\n",
       "    }\n",
       "</style>\n",
       "<table border=\"1\" class=\"dataframe\">\n",
       "  <thead>\n",
       "    <tr style=\"text-align: right;\">\n",
       "      <th></th>\n",
       "      <th>variant_id</th>\n",
       "      <th>query</th>\n",
       "      <th>query_type</th>\n",
       "      <th>variant_accepted</th>\n",
       "      <th>vrs_id</th>\n",
       "      <th>evidence_id</th>\n",
       "      <th>evidence_status</th>\n",
       "      <th>evidence_rating</th>\n",
       "      <th>evidence_level</th>\n",
       "    </tr>\n",
       "  </thead>\n",
       "  <tbody>\n",
       "    <tr>\n",
       "      <th>0</th>\n",
       "      <td>2489</td>\n",
       "      <td>NC_000003.11:g.10191648_10191649insC</td>\n",
       "      <td>genomic</td>\n",
       "      <td>True</td>\n",
       "      <td>ga4gh:VA.A34ZoIhq4xBuQbcE3bkj29n6diS6RzLB</td>\n",
       "      <td>9347</td>\n",
       "      <td>submitted</td>\n",
       "      <td>[3]</td>\n",
       "      <td>[C]</td>\n",
       "    </tr>\n",
       "    <tr>\n",
       "      <th>0</th>\n",
       "      <td>2489</td>\n",
       "      <td>NC_000003.11:g.10191648_10191649insC</td>\n",
       "      <td>genomic</td>\n",
       "      <td>True</td>\n",
       "      <td>ga4gh:VA.A34ZoIhq4xBuQbcE3bkj29n6diS6RzLB</td>\n",
       "      <td>6724</td>\n",
       "      <td>accepted</td>\n",
       "      <td>[2]</td>\n",
       "      <td>[C]</td>\n",
       "    </tr>\n",
       "    <tr>\n",
       "      <th>1</th>\n",
       "      <td>1988</td>\n",
       "      <td>NC_000003.11:g.10191649A&gt;T</td>\n",
       "      <td>genomic</td>\n",
       "      <td>True</td>\n",
       "      <td>ga4gh:VA.JcEpDvhUtgDWU4A-bxqLUuczBNb8QqRf</td>\n",
       "      <td>5336</td>\n",
       "      <td>accepted</td>\n",
       "      <td>[2]</td>\n",
       "      <td>[C]</td>\n",
       "    </tr>\n",
       "    <tr>\n",
       "      <th>2</th>\n",
       "      <td>2488</td>\n",
       "      <td>3-10191647-T-G</td>\n",
       "      <td>genomic</td>\n",
       "      <td>True</td>\n",
       "      <td>ga4gh:VA.7nGd8dgHbqtxMHk_rLxrB6_IMAzJ8XnH</td>\n",
       "      <td>10779</td>\n",
       "      <td>submitted</td>\n",
       "      <td>[3]</td>\n",
       "      <td>[C]</td>\n",
       "    </tr>\n",
       "    <tr>\n",
       "      <th>2</th>\n",
       "      <td>2488</td>\n",
       "      <td>3-10191647-T-G</td>\n",
       "      <td>genomic</td>\n",
       "      <td>True</td>\n",
       "      <td>ga4gh:VA.7nGd8dgHbqtxMHk_rLxrB6_IMAzJ8XnH</td>\n",
       "      <td>6723</td>\n",
       "      <td>accepted</td>\n",
       "      <td>[2]</td>\n",
       "      <td>[C]</td>\n",
       "    </tr>\n",
       "  </tbody>\n",
       "</table>\n",
       "</div>"
      ],
      "text/plain": [
       "   variant_id                                 query query_type   \n",
       "0        2489  NC_000003.11:g.10191648_10191649insC    genomic  \\\n",
       "0        2489  NC_000003.11:g.10191648_10191649insC    genomic   \n",
       "1        1988            NC_000003.11:g.10191649A>T    genomic   \n",
       "2        2488                        3-10191647-T-G    genomic   \n",
       "2        2488                        3-10191647-T-G    genomic   \n",
       "\n",
       "   variant_accepted                                     vrs_id evidence_id   \n",
       "0              True  ga4gh:VA.A34ZoIhq4xBuQbcE3bkj29n6diS6RzLB        9347  \\\n",
       "0              True  ga4gh:VA.A34ZoIhq4xBuQbcE3bkj29n6diS6RzLB        6724   \n",
       "1              True  ga4gh:VA.JcEpDvhUtgDWU4A-bxqLUuczBNb8QqRf        5336   \n",
       "2              True  ga4gh:VA.7nGd8dgHbqtxMHk_rLxrB6_IMAzJ8XnH       10779   \n",
       "2              True  ga4gh:VA.7nGd8dgHbqtxMHk_rLxrB6_IMAzJ8XnH        6723   \n",
       "\n",
       "  evidence_status evidence_rating evidence_level  \n",
       "0       submitted             [3]            [C]  \n",
       "0        accepted             [2]            [C]  \n",
       "1        accepted             [2]            [C]  \n",
       "2       submitted             [3]            [C]  \n",
       "2        accepted             [2]            [C]  "
      ]
     },
     "execution_count": 23,
     "metadata": {},
     "output_type": "execute_result"
    }
   ],
   "source": [
    "normalized_queries_add_evidence_df = transform_df_evidence(normalized_queries_add_evidence_df)\n",
    "normalized_queries_add_evidence_df.head()"
   ]
  },
  {
   "cell_type": "markdown",
   "metadata": {},
   "source": [
    "## Evidence analysis"
   ]
  },
  {
   "cell_type": "code",
   "execution_count": 24,
   "metadata": {},
   "outputs": [
    {
     "name": "stdout",
     "output_type": "stream",
     "text": [
      "Number of Normalized Variant Evidence items in CIViC: 5960 / 9914\n",
      "Percentage of Normalized Variant Evidence items in CIViC: 60.12%\n",
      "\n",
      "Number of accepted Normalized Variant Evidence items: 2033 / 5960\n",
      "Percentage of accepted Normalized Variant Evidence items: 34.11%\n",
      "\n",
      "Number of submitted Normalized Variant Evidence items: 3927 / 5960\n",
      "Percentage of not submitted Normalized Variant Evidence items: 65.89%\n"
     ]
    },
    {
     "data": {
      "text/html": [
       "<div>\n",
       "<style scoped>\n",
       "    .dataframe tbody tr th:only-of-type {\n",
       "        vertical-align: middle;\n",
       "    }\n",
       "\n",
       "    .dataframe tbody tr th {\n",
       "        vertical-align: top;\n",
       "    }\n",
       "\n",
       "    .dataframe thead th {\n",
       "        text-align: right;\n",
       "    }\n",
       "</style>\n",
       "<table border=\"1\" class=\"dataframe\">\n",
       "  <thead>\n",
       "    <tr style=\"text-align: right;\">\n",
       "      <th></th>\n",
       "      <th>variant_id</th>\n",
       "      <th>query</th>\n",
       "      <th>query_type</th>\n",
       "      <th>variant_accepted</th>\n",
       "      <th>vrs_id</th>\n",
       "      <th>evidence_id</th>\n",
       "      <th>evidence_status</th>\n",
       "      <th>evidence_rating</th>\n",
       "      <th>evidence_level</th>\n",
       "      <th>evidence_accepted</th>\n",
       "    </tr>\n",
       "  </thead>\n",
       "  <tbody>\n",
       "    <tr>\n",
       "      <th>0</th>\n",
       "      <td>2489</td>\n",
       "      <td>NC_000003.11:g.10191648_10191649insC</td>\n",
       "      <td>genomic</td>\n",
       "      <td>True</td>\n",
       "      <td>ga4gh:VA.A34ZoIhq4xBuQbcE3bkj29n6diS6RzLB</td>\n",
       "      <td>9347</td>\n",
       "      <td>submitted</td>\n",
       "      <td>[3]</td>\n",
       "      <td>[C]</td>\n",
       "      <td>False</td>\n",
       "    </tr>\n",
       "    <tr>\n",
       "      <th>0</th>\n",
       "      <td>2489</td>\n",
       "      <td>NC_000003.11:g.10191648_10191649insC</td>\n",
       "      <td>genomic</td>\n",
       "      <td>True</td>\n",
       "      <td>ga4gh:VA.A34ZoIhq4xBuQbcE3bkj29n6diS6RzLB</td>\n",
       "      <td>6724</td>\n",
       "      <td>accepted</td>\n",
       "      <td>[2]</td>\n",
       "      <td>[C]</td>\n",
       "      <td>True</td>\n",
       "    </tr>\n",
       "    <tr>\n",
       "      <th>1</th>\n",
       "      <td>1988</td>\n",
       "      <td>NC_000003.11:g.10191649A&gt;T</td>\n",
       "      <td>genomic</td>\n",
       "      <td>True</td>\n",
       "      <td>ga4gh:VA.JcEpDvhUtgDWU4A-bxqLUuczBNb8QqRf</td>\n",
       "      <td>5336</td>\n",
       "      <td>accepted</td>\n",
       "      <td>[2]</td>\n",
       "      <td>[C]</td>\n",
       "      <td>True</td>\n",
       "    </tr>\n",
       "    <tr>\n",
       "      <th>2</th>\n",
       "      <td>2488</td>\n",
       "      <td>3-10191647-T-G</td>\n",
       "      <td>genomic</td>\n",
       "      <td>True</td>\n",
       "      <td>ga4gh:VA.7nGd8dgHbqtxMHk_rLxrB6_IMAzJ8XnH</td>\n",
       "      <td>10779</td>\n",
       "      <td>submitted</td>\n",
       "      <td>[3]</td>\n",
       "      <td>[C]</td>\n",
       "      <td>False</td>\n",
       "    </tr>\n",
       "    <tr>\n",
       "      <th>2</th>\n",
       "      <td>2488</td>\n",
       "      <td>3-10191647-T-G</td>\n",
       "      <td>genomic</td>\n",
       "      <td>True</td>\n",
       "      <td>ga4gh:VA.7nGd8dgHbqtxMHk_rLxrB6_IMAzJ8XnH</td>\n",
       "      <td>6723</td>\n",
       "      <td>accepted</td>\n",
       "      <td>[2]</td>\n",
       "      <td>[C]</td>\n",
       "      <td>True</td>\n",
       "    </tr>\n",
       "  </tbody>\n",
       "</table>\n",
       "</div>"
      ],
      "text/plain": [
       "   variant_id                                 query query_type   \n",
       "0        2489  NC_000003.11:g.10191648_10191649insC    genomic  \\\n",
       "0        2489  NC_000003.11:g.10191648_10191649insC    genomic   \n",
       "1        1988            NC_000003.11:g.10191649A>T    genomic   \n",
       "2        2488                        3-10191647-T-G    genomic   \n",
       "2        2488                        3-10191647-T-G    genomic   \n",
       "\n",
       "   variant_accepted                                     vrs_id evidence_id   \n",
       "0              True  ga4gh:VA.A34ZoIhq4xBuQbcE3bkj29n6diS6RzLB        9347  \\\n",
       "0              True  ga4gh:VA.A34ZoIhq4xBuQbcE3bkj29n6diS6RzLB        6724   \n",
       "1              True  ga4gh:VA.JcEpDvhUtgDWU4A-bxqLUuczBNb8QqRf        5336   \n",
       "2              True  ga4gh:VA.7nGd8dgHbqtxMHk_rLxrB6_IMAzJ8XnH       10779   \n",
       "2              True  ga4gh:VA.7nGd8dgHbqtxMHk_rLxrB6_IMAzJ8XnH        6723   \n",
       "\n",
       "  evidence_status evidence_rating evidence_level evidence_accepted  \n",
       "0       submitted             [3]            [C]             False  \n",
       "0        accepted             [2]            [C]              True  \n",
       "1        accepted             [2]            [C]              True  \n",
       "2       submitted             [3]            [C]             False  \n",
       "2        accepted             [2]            [C]              True  "
      ]
     },
     "execution_count": 24,
     "metadata": {},
     "output_type": "execute_result"
    }
   ],
   "source": [
    "normalized_queries_add_evidence_df = evidence_analysis(normalized_queries_add_evidence_df, VariantNormType.NORMALIZED)\n",
    "normalized_queries_add_evidence_df.head()"
   ]
  },
  {
   "cell_type": "markdown",
   "metadata": {},
   "source": [
    "## Impact\n",
    "molecular profile score"
   ]
  },
  {
   "cell_type": "markdown",
   "metadata": {},
   "source": [
    "### Import molecular profile id"
   ]
  },
  {
   "cell_type": "code",
   "execution_count": 25,
   "metadata": {},
   "outputs": [
    {
     "data": {
      "text/html": [
       "<div>\n",
       "<style scoped>\n",
       "    .dataframe tbody tr th:only-of-type {\n",
       "        vertical-align: middle;\n",
       "    }\n",
       "\n",
       "    .dataframe tbody tr th {\n",
       "        vertical-align: top;\n",
       "    }\n",
       "\n",
       "    .dataframe thead th {\n",
       "        text-align: right;\n",
       "    }\n",
       "</style>\n",
       "<table border=\"1\" class=\"dataframe\">\n",
       "  <thead>\n",
       "    <tr style=\"text-align: right;\">\n",
       "      <th></th>\n",
       "      <th>variant_id</th>\n",
       "      <th>query</th>\n",
       "      <th>query_type</th>\n",
       "      <th>variant_accepted</th>\n",
       "      <th>vrs_id</th>\n",
       "      <th>molecular_profile_id</th>\n",
       "    </tr>\n",
       "  </thead>\n",
       "  <tbody>\n",
       "    <tr>\n",
       "      <th>0</th>\n",
       "      <td>2489</td>\n",
       "      <td>NC_000003.11:g.10191648_10191649insC</td>\n",
       "      <td>genomic</td>\n",
       "      <td>True</td>\n",
       "      <td>ga4gh:VA.A34ZoIhq4xBuQbcE3bkj29n6diS6RzLB</td>\n",
       "      <td>[2362]</td>\n",
       "    </tr>\n",
       "    <tr>\n",
       "      <th>1</th>\n",
       "      <td>1988</td>\n",
       "      <td>NC_000003.11:g.10191649A&gt;T</td>\n",
       "      <td>genomic</td>\n",
       "      <td>True</td>\n",
       "      <td>ga4gh:VA.JcEpDvhUtgDWU4A-bxqLUuczBNb8QqRf</td>\n",
       "      <td>[1864]</td>\n",
       "    </tr>\n",
       "    <tr>\n",
       "      <th>2</th>\n",
       "      <td>2488</td>\n",
       "      <td>3-10191647-T-G</td>\n",
       "      <td>genomic</td>\n",
       "      <td>True</td>\n",
       "      <td>ga4gh:VA.7nGd8dgHbqtxMHk_rLxrB6_IMAzJ8XnH</td>\n",
       "      <td>[2361]</td>\n",
       "    </tr>\n",
       "    <tr>\n",
       "      <th>3</th>\n",
       "      <td>1986</td>\n",
       "      <td>NC_000003.11:g.10191648G&gt;T</td>\n",
       "      <td>genomic</td>\n",
       "      <td>True</td>\n",
       "      <td>ga4gh:VA.AmLtooLEvgdnEHD5YVWk6u1e2XBe7FiP</td>\n",
       "      <td>[1862]</td>\n",
       "    </tr>\n",
       "    <tr>\n",
       "      <th>4</th>\n",
       "      <td>1987</td>\n",
       "      <td>NC_000003.11:g.10191649A&gt;G</td>\n",
       "      <td>genomic</td>\n",
       "      <td>True</td>\n",
       "      <td>ga4gh:VA.KIz00usFWEmJHNyqmVL61obfgfRPgOIa</td>\n",
       "      <td>[1863]</td>\n",
       "    </tr>\n",
       "  </tbody>\n",
       "</table>\n",
       "</div>"
      ],
      "text/plain": [
       "   variant_id                                 query query_type   \n",
       "0        2489  NC_000003.11:g.10191648_10191649insC    genomic  \\\n",
       "1        1988            NC_000003.11:g.10191649A>T    genomic   \n",
       "2        2488                        3-10191647-T-G    genomic   \n",
       "3        1986            NC_000003.11:g.10191648G>T    genomic   \n",
       "4        1987            NC_000003.11:g.10191649A>G    genomic   \n",
       "\n",
       "   variant_accepted                                     vrs_id   \n",
       "0              True  ga4gh:VA.A34ZoIhq4xBuQbcE3bkj29n6diS6RzLB  \\\n",
       "1              True  ga4gh:VA.JcEpDvhUtgDWU4A-bxqLUuczBNb8QqRf   \n",
       "2              True  ga4gh:VA.7nGd8dgHbqtxMHk_rLxrB6_IMAzJ8XnH   \n",
       "3              True  ga4gh:VA.AmLtooLEvgdnEHD5YVWk6u1e2XBe7FiP   \n",
       "4              True  ga4gh:VA.KIz00usFWEmJHNyqmVL61obfgfRPgOIa   \n",
       "\n",
       "  molecular_profile_id  \n",
       "0               [2362]  \n",
       "1               [1864]  \n",
       "2               [2361]  \n",
       "3               [1862]  \n",
       "4               [1863]  "
      ]
     },
     "execution_count": 25,
     "metadata": {},
     "output_type": "execute_result"
    }
   ],
   "source": [
    "normalized_queries_add_molprof_df = transform_df_mp_id(normalized_queries_df)\n",
    "normalized_queries_add_molprof_df.head()"
   ]
  },
  {
   "cell_type": "code",
   "execution_count": 26,
   "metadata": {},
   "outputs": [
    {
     "data": {
      "text/html": [
       "<div>\n",
       "<style scoped>\n",
       "    .dataframe tbody tr th:only-of-type {\n",
       "        vertical-align: middle;\n",
       "    }\n",
       "\n",
       "    .dataframe tbody tr th {\n",
       "        vertical-align: top;\n",
       "    }\n",
       "\n",
       "    .dataframe thead th {\n",
       "        text-align: right;\n",
       "    }\n",
       "</style>\n",
       "<table border=\"1\" class=\"dataframe\">\n",
       "  <thead>\n",
       "    <tr style=\"text-align: right;\">\n",
       "      <th></th>\n",
       "      <th>variant_id</th>\n",
       "      <th>query</th>\n",
       "      <th>query_type</th>\n",
       "      <th>variant_accepted</th>\n",
       "      <th>vrs_id</th>\n",
       "      <th>molecular_profile_id</th>\n",
       "    </tr>\n",
       "  </thead>\n",
       "  <tbody>\n",
       "    <tr>\n",
       "      <th>82</th>\n",
       "      <td>190</td>\n",
       "      <td>EGFR Amplification</td>\n",
       "      <td>protein</td>\n",
       "      <td>True</td>\n",
       "      <td>ga4gh:CX.sEHT64Lm86QaTXzw39uKLkBUbEkp4h_X</td>\n",
       "      <td>[190, 4175, 4346, 4567]</td>\n",
       "    </tr>\n",
       "  </tbody>\n",
       "</table>\n",
       "</div>"
      ],
      "text/plain": [
       "    variant_id               query query_type  variant_accepted   \n",
       "82         190  EGFR Amplification    protein              True  \\\n",
       "\n",
       "                                       vrs_id     molecular_profile_id  \n",
       "82  ga4gh:CX.sEHT64Lm86QaTXzw39uKLkBUbEkp4h_X  [190, 4175, 4346, 4567]  "
      ]
     },
     "execution_count": 26,
     "metadata": {},
     "output_type": "execute_result"
    }
   ],
   "source": [
    "normalized_queries_add_molprof_df.loc[normalized_queries_add_molprof_df[\"variant_id\"] == 190]"
   ]
  },
  {
   "cell_type": "markdown",
   "metadata": {},
   "source": [
    "### Import molecular profile scores"
   ]
  },
  {
   "cell_type": "code",
   "execution_count": 27,
   "metadata": {},
   "outputs": [
    {
     "data": {
      "text/html": [
       "<div>\n",
       "<style scoped>\n",
       "    .dataframe tbody tr th:only-of-type {\n",
       "        vertical-align: middle;\n",
       "    }\n",
       "\n",
       "    .dataframe tbody tr th {\n",
       "        vertical-align: top;\n",
       "    }\n",
       "\n",
       "    .dataframe thead th {\n",
       "        text-align: right;\n",
       "    }\n",
       "</style>\n",
       "<table border=\"1\" class=\"dataframe\">\n",
       "  <thead>\n",
       "    <tr style=\"text-align: right;\">\n",
       "      <th></th>\n",
       "      <th>variant_id</th>\n",
       "      <th>query</th>\n",
       "      <th>query_type</th>\n",
       "      <th>variant_accepted</th>\n",
       "      <th>vrs_id</th>\n",
       "      <th>molecular_profile_id</th>\n",
       "      <th>molecular_profile_score</th>\n",
       "    </tr>\n",
       "  </thead>\n",
       "  <tbody>\n",
       "    <tr>\n",
       "      <th>0</th>\n",
       "      <td>2489</td>\n",
       "      <td>NC_000003.11:g.10191648_10191649insC</td>\n",
       "      <td>genomic</td>\n",
       "      <td>True</td>\n",
       "      <td>ga4gh:VA.A34ZoIhq4xBuQbcE3bkj29n6diS6RzLB</td>\n",
       "      <td>[2362]</td>\n",
       "      <td>[5.0]</td>\n",
       "    </tr>\n",
       "    <tr>\n",
       "      <th>1</th>\n",
       "      <td>1988</td>\n",
       "      <td>NC_000003.11:g.10191649A&gt;T</td>\n",
       "      <td>genomic</td>\n",
       "      <td>True</td>\n",
       "      <td>ga4gh:VA.JcEpDvhUtgDWU4A-bxqLUuczBNb8QqRf</td>\n",
       "      <td>[1864]</td>\n",
       "      <td>[5.0]</td>\n",
       "    </tr>\n",
       "    <tr>\n",
       "      <th>2</th>\n",
       "      <td>2488</td>\n",
       "      <td>3-10191647-T-G</td>\n",
       "      <td>genomic</td>\n",
       "      <td>True</td>\n",
       "      <td>ga4gh:VA.7nGd8dgHbqtxMHk_rLxrB6_IMAzJ8XnH</td>\n",
       "      <td>[2361]</td>\n",
       "      <td>[5.0]</td>\n",
       "    </tr>\n",
       "    <tr>\n",
       "      <th>3</th>\n",
       "      <td>1986</td>\n",
       "      <td>NC_000003.11:g.10191648G&gt;T</td>\n",
       "      <td>genomic</td>\n",
       "      <td>True</td>\n",
       "      <td>ga4gh:VA.AmLtooLEvgdnEHD5YVWk6u1e2XBe7FiP</td>\n",
       "      <td>[1862]</td>\n",
       "      <td>[10.0]</td>\n",
       "    </tr>\n",
       "    <tr>\n",
       "      <th>4</th>\n",
       "      <td>1987</td>\n",
       "      <td>NC_000003.11:g.10191649A&gt;G</td>\n",
       "      <td>genomic</td>\n",
       "      <td>True</td>\n",
       "      <td>ga4gh:VA.KIz00usFWEmJHNyqmVL61obfgfRPgOIa</td>\n",
       "      <td>[1863]</td>\n",
       "      <td>[5.0]</td>\n",
       "    </tr>\n",
       "  </tbody>\n",
       "</table>\n",
       "</div>"
      ],
      "text/plain": [
       "   variant_id                                 query query_type   \n",
       "0        2489  NC_000003.11:g.10191648_10191649insC    genomic  \\\n",
       "1        1988            NC_000003.11:g.10191649A>T    genomic   \n",
       "2        2488                        3-10191647-T-G    genomic   \n",
       "3        1986            NC_000003.11:g.10191648G>T    genomic   \n",
       "4        1987            NC_000003.11:g.10191649A>G    genomic   \n",
       "\n",
       "   variant_accepted                                     vrs_id   \n",
       "0              True  ga4gh:VA.A34ZoIhq4xBuQbcE3bkj29n6diS6RzLB  \\\n",
       "1              True  ga4gh:VA.JcEpDvhUtgDWU4A-bxqLUuczBNb8QqRf   \n",
       "2              True  ga4gh:VA.7nGd8dgHbqtxMHk_rLxrB6_IMAzJ8XnH   \n",
       "3              True  ga4gh:VA.AmLtooLEvgdnEHD5YVWk6u1e2XBe7FiP   \n",
       "4              True  ga4gh:VA.KIz00usFWEmJHNyqmVL61obfgfRPgOIa   \n",
       "\n",
       "  molecular_profile_id molecular_profile_score  \n",
       "0               [2362]                   [5.0]  \n",
       "1               [1864]                   [5.0]  \n",
       "2               [2361]                   [5.0]  \n",
       "3               [1862]                  [10.0]  \n",
       "4               [1863]                   [5.0]  "
      ]
     },
     "execution_count": 27,
     "metadata": {},
     "output_type": "execute_result"
    }
   ],
   "source": [
    "normalized_queries_add_molprof_df = transform_df_mp_score(normalized_queries_add_molprof_df)\n",
    "normalized_queries_add_molprof_df.head()"
   ]
  },
  {
   "cell_type": "code",
   "execution_count": 28,
   "metadata": {},
   "outputs": [
    {
     "data": {
      "text/html": [
       "<div>\n",
       "<style scoped>\n",
       "    .dataframe tbody tr th:only-of-type {\n",
       "        vertical-align: middle;\n",
       "    }\n",
       "\n",
       "    .dataframe tbody tr th {\n",
       "        vertical-align: top;\n",
       "    }\n",
       "\n",
       "    .dataframe thead th {\n",
       "        text-align: right;\n",
       "    }\n",
       "</style>\n",
       "<table border=\"1\" class=\"dataframe\">\n",
       "  <thead>\n",
       "    <tr style=\"text-align: right;\">\n",
       "      <th></th>\n",
       "      <th>variant_id</th>\n",
       "      <th>query</th>\n",
       "      <th>query_type</th>\n",
       "      <th>variant_accepted</th>\n",
       "      <th>vrs_id</th>\n",
       "      <th>molecular_profile_id</th>\n",
       "      <th>molecular_profile_score</th>\n",
       "    </tr>\n",
       "  </thead>\n",
       "  <tbody>\n",
       "    <tr>\n",
       "      <th>82</th>\n",
       "      <td>190</td>\n",
       "      <td>EGFR Amplification</td>\n",
       "      <td>protein</td>\n",
       "      <td>True</td>\n",
       "      <td>ga4gh:CX.sEHT64Lm86QaTXzw39uKLkBUbEkp4h_X</td>\n",
       "      <td>[190, 4175, 4346, 4567]</td>\n",
       "      <td>[173.0, 5.0, 0.0]</td>\n",
       "    </tr>\n",
       "  </tbody>\n",
       "</table>\n",
       "</div>"
      ],
      "text/plain": [
       "    variant_id               query query_type  variant_accepted   \n",
       "82         190  EGFR Amplification    protein              True  \\\n",
       "\n",
       "                                       vrs_id     molecular_profile_id   \n",
       "82  ga4gh:CX.sEHT64Lm86QaTXzw39uKLkBUbEkp4h_X  [190, 4175, 4346, 4567]  \\\n",
       "\n",
       "   molecular_profile_score  \n",
       "82       [173.0, 5.0, 0.0]  "
      ]
     },
     "execution_count": 28,
     "metadata": {},
     "output_type": "execute_result"
    }
   ],
   "source": [
    "normalized_queries_add_molprof_df.loc[normalized_queries_add_molprof_df[\"variant_id\"] == 190]"
   ]
  },
  {
   "cell_type": "code",
   "execution_count": 29,
   "metadata": {},
   "outputs": [
    {
     "data": {
      "text/html": [
       "<div>\n",
       "<style scoped>\n",
       "    .dataframe tbody tr th:only-of-type {\n",
       "        vertical-align: middle;\n",
       "    }\n",
       "\n",
       "    .dataframe tbody tr th {\n",
       "        vertical-align: top;\n",
       "    }\n",
       "\n",
       "    .dataframe thead th {\n",
       "        text-align: right;\n",
       "    }\n",
       "</style>\n",
       "<table border=\"1\" class=\"dataframe\">\n",
       "  <thead>\n",
       "    <tr style=\"text-align: right;\">\n",
       "      <th></th>\n",
       "      <th>variant_id</th>\n",
       "      <th>query</th>\n",
       "      <th>query_type</th>\n",
       "      <th>variant_accepted</th>\n",
       "      <th>vrs_id</th>\n",
       "      <th>molecular_profile_id</th>\n",
       "      <th>molecular_profile_score</th>\n",
       "      <th>molecular_profile_score_sum</th>\n",
       "    </tr>\n",
       "  </thead>\n",
       "  <tbody>\n",
       "    <tr>\n",
       "      <th>0</th>\n",
       "      <td>2489</td>\n",
       "      <td>NC_000003.11:g.10191648_10191649insC</td>\n",
       "      <td>genomic</td>\n",
       "      <td>True</td>\n",
       "      <td>ga4gh:VA.A34ZoIhq4xBuQbcE3bkj29n6diS6RzLB</td>\n",
       "      <td>[2362]</td>\n",
       "      <td>[5.0]</td>\n",
       "      <td>5.0</td>\n",
       "    </tr>\n",
       "    <tr>\n",
       "      <th>1</th>\n",
       "      <td>1988</td>\n",
       "      <td>NC_000003.11:g.10191649A&gt;T</td>\n",
       "      <td>genomic</td>\n",
       "      <td>True</td>\n",
       "      <td>ga4gh:VA.JcEpDvhUtgDWU4A-bxqLUuczBNb8QqRf</td>\n",
       "      <td>[1864]</td>\n",
       "      <td>[5.0]</td>\n",
       "      <td>5.0</td>\n",
       "    </tr>\n",
       "    <tr>\n",
       "      <th>2</th>\n",
       "      <td>2488</td>\n",
       "      <td>3-10191647-T-G</td>\n",
       "      <td>genomic</td>\n",
       "      <td>True</td>\n",
       "      <td>ga4gh:VA.7nGd8dgHbqtxMHk_rLxrB6_IMAzJ8XnH</td>\n",
       "      <td>[2361]</td>\n",
       "      <td>[5.0]</td>\n",
       "      <td>5.0</td>\n",
       "    </tr>\n",
       "    <tr>\n",
       "      <th>3</th>\n",
       "      <td>1986</td>\n",
       "      <td>NC_000003.11:g.10191648G&gt;T</td>\n",
       "      <td>genomic</td>\n",
       "      <td>True</td>\n",
       "      <td>ga4gh:VA.AmLtooLEvgdnEHD5YVWk6u1e2XBe7FiP</td>\n",
       "      <td>[1862]</td>\n",
       "      <td>[10.0]</td>\n",
       "      <td>10.0</td>\n",
       "    </tr>\n",
       "    <tr>\n",
       "      <th>4</th>\n",
       "      <td>1987</td>\n",
       "      <td>NC_000003.11:g.10191649A&gt;G</td>\n",
       "      <td>genomic</td>\n",
       "      <td>True</td>\n",
       "      <td>ga4gh:VA.KIz00usFWEmJHNyqmVL61obfgfRPgOIa</td>\n",
       "      <td>[1863]</td>\n",
       "      <td>[5.0]</td>\n",
       "      <td>5.0</td>\n",
       "    </tr>\n",
       "  </tbody>\n",
       "</table>\n",
       "</div>"
      ],
      "text/plain": [
       "   variant_id                                 query query_type   \n",
       "0        2489  NC_000003.11:g.10191648_10191649insC    genomic  \\\n",
       "1        1988            NC_000003.11:g.10191649A>T    genomic   \n",
       "2        2488                        3-10191647-T-G    genomic   \n",
       "3        1986            NC_000003.11:g.10191648G>T    genomic   \n",
       "4        1987            NC_000003.11:g.10191649A>G    genomic   \n",
       "\n",
       "   variant_accepted                                     vrs_id   \n",
       "0              True  ga4gh:VA.A34ZoIhq4xBuQbcE3bkj29n6diS6RzLB  \\\n",
       "1              True  ga4gh:VA.JcEpDvhUtgDWU4A-bxqLUuczBNb8QqRf   \n",
       "2              True  ga4gh:VA.7nGd8dgHbqtxMHk_rLxrB6_IMAzJ8XnH   \n",
       "3              True  ga4gh:VA.AmLtooLEvgdnEHD5YVWk6u1e2XBe7FiP   \n",
       "4              True  ga4gh:VA.KIz00usFWEmJHNyqmVL61obfgfRPgOIa   \n",
       "\n",
       "  molecular_profile_id molecular_profile_score  molecular_profile_score_sum  \n",
       "0               [2362]                   [5.0]                          5.0  \n",
       "1               [1864]                   [5.0]                          5.0  \n",
       "2               [2361]                   [5.0]                          5.0  \n",
       "3               [1862]                  [10.0]                         10.0  \n",
       "4               [1863]                   [5.0]                          5.0  "
      ]
     },
     "execution_count": 29,
     "metadata": {},
     "output_type": "execute_result"
    }
   ],
   "source": [
    "normalized_queries_add_molprof_df = transform_df_mp_score_sum(normalized_queries_add_molprof_df)\n",
    "normalized_queries_add_molprof_df.head()"
   ]
  },
  {
   "cell_type": "code",
   "execution_count": 30,
   "metadata": {},
   "outputs": [
    {
     "data": {
      "text/html": [
       "<div>\n",
       "<style scoped>\n",
       "    .dataframe tbody tr th:only-of-type {\n",
       "        vertical-align: middle;\n",
       "    }\n",
       "\n",
       "    .dataframe tbody tr th {\n",
       "        vertical-align: top;\n",
       "    }\n",
       "\n",
       "    .dataframe thead th {\n",
       "        text-align: right;\n",
       "    }\n",
       "</style>\n",
       "<table border=\"1\" class=\"dataframe\">\n",
       "  <thead>\n",
       "    <tr style=\"text-align: right;\">\n",
       "      <th></th>\n",
       "      <th>variant_id</th>\n",
       "      <th>query</th>\n",
       "      <th>query_type</th>\n",
       "      <th>variant_accepted</th>\n",
       "      <th>vrs_id</th>\n",
       "      <th>molecular_profile_id</th>\n",
       "      <th>molecular_profile_score</th>\n",
       "      <th>molecular_profile_score_sum</th>\n",
       "    </tr>\n",
       "  </thead>\n",
       "  <tbody>\n",
       "    <tr>\n",
       "      <th>82</th>\n",
       "      <td>190</td>\n",
       "      <td>EGFR Amplification</td>\n",
       "      <td>protein</td>\n",
       "      <td>True</td>\n",
       "      <td>ga4gh:CX.sEHT64Lm86QaTXzw39uKLkBUbEkp4h_X</td>\n",
       "      <td>[190, 4175, 4346, 4567]</td>\n",
       "      <td>[173.0, 5.0, 0.0]</td>\n",
       "      <td>178.0</td>\n",
       "    </tr>\n",
       "  </tbody>\n",
       "</table>\n",
       "</div>"
      ],
      "text/plain": [
       "    variant_id               query query_type  variant_accepted   \n",
       "82         190  EGFR Amplification    protein              True  \\\n",
       "\n",
       "                                       vrs_id     molecular_profile_id   \n",
       "82  ga4gh:CX.sEHT64Lm86QaTXzw39uKLkBUbEkp4h_X  [190, 4175, 4346, 4567]  \\\n",
       "\n",
       "   molecular_profile_score  molecular_profile_score_sum  \n",
       "82       [173.0, 5.0, 0.0]                        178.0  "
      ]
     },
     "execution_count": 30,
     "metadata": {},
     "output_type": "execute_result"
    }
   ],
   "source": [
    "normalized_queries_add_molprof_df.loc[normalized_queries_add_molprof_df[\"variant_id\"] == 190]"
   ]
  },
  {
   "cell_type": "markdown",
   "metadata": {},
   "source": [
    "# Analysis of Unable to Normalize Queries"
   ]
  },
  {
   "cell_type": "markdown",
   "metadata": {},
   "source": [
    "## List of Unable to Normalize Variant ID's"
   ]
  },
  {
   "cell_type": "code",
   "execution_count": 31,
   "metadata": {},
   "outputs": [
    {
     "data": {
      "text/html": [
       "<div>\n",
       "<style scoped>\n",
       "    .dataframe tbody tr th:only-of-type {\n",
       "        vertical-align: middle;\n",
       "    }\n",
       "\n",
       "    .dataframe tbody tr th {\n",
       "        vertical-align: top;\n",
       "    }\n",
       "\n",
       "    .dataframe thead th {\n",
       "        text-align: right;\n",
       "    }\n",
       "</style>\n",
       "<table border=\"1\" class=\"dataframe\">\n",
       "  <thead>\n",
       "    <tr style=\"text-align: right;\">\n",
       "      <th></th>\n",
       "      <th>variant_id</th>\n",
       "      <th>query</th>\n",
       "      <th>query_type</th>\n",
       "      <th>variant_accepted</th>\n",
       "      <th>exception_raised</th>\n",
       "      <th>message</th>\n",
       "      <th>warnings</th>\n",
       "    </tr>\n",
       "  </thead>\n",
       "  <tbody>\n",
       "    <tr>\n",
       "      <th>0</th>\n",
       "      <td>748</td>\n",
       "      <td>MLH1 *757L</td>\n",
       "      <td>protein</td>\n",
       "      <td>True</td>\n",
       "      <td>False</td>\n",
       "      <td>unable to normalize</td>\n",
       "      <td>[\"Unable to find valid result for classificati...</td>\n",
       "    </tr>\n",
       "    <tr>\n",
       "      <th>1</th>\n",
       "      <td>3718</td>\n",
       "      <td>AR A748V</td>\n",
       "      <td>protein</td>\n",
       "      <td>False</td>\n",
       "      <td>False</td>\n",
       "      <td>unable to normalize</td>\n",
       "      <td>[\"Unable to find valid result for classificati...</td>\n",
       "    </tr>\n",
       "    <tr>\n",
       "      <th>2</th>\n",
       "      <td>3725</td>\n",
       "      <td>AR A765T</td>\n",
       "      <td>protein</td>\n",
       "      <td>False</td>\n",
       "      <td>False</td>\n",
       "      <td>unable to normalize</td>\n",
       "      <td>[\"Unable to find valid result for classificati...</td>\n",
       "    </tr>\n",
       "    <tr>\n",
       "      <th>3</th>\n",
       "      <td>248</td>\n",
       "      <td>TERT C228T</td>\n",
       "      <td>protein</td>\n",
       "      <td>True</td>\n",
       "      <td>False</td>\n",
       "      <td>unable to normalize</td>\n",
       "      <td>[\"Unable to find valid result for classificati...</td>\n",
       "    </tr>\n",
       "    <tr>\n",
       "      <th>4</th>\n",
       "      <td>4004</td>\n",
       "      <td>TERT C250T</td>\n",
       "      <td>protein</td>\n",
       "      <td>False</td>\n",
       "      <td>False</td>\n",
       "      <td>unable to normalize</td>\n",
       "      <td>[\"Unable to find valid result for classificati...</td>\n",
       "    </tr>\n",
       "  </tbody>\n",
       "</table>\n",
       "</div>"
      ],
      "text/plain": [
       "   variant_id       query query_type  variant_accepted  exception_raised   \n",
       "0         748  MLH1 *757L    protein              True             False  \\\n",
       "1        3718    AR A748V    protein             False             False   \n",
       "2        3725    AR A765T    protein             False             False   \n",
       "3         248  TERT C228T    protein              True             False   \n",
       "4        4004  TERT C250T    protein             False             False   \n",
       "\n",
       "               message                                           warnings  \n",
       "0  unable to normalize  [\"Unable to find valid result for classificati...  \n",
       "1  unable to normalize  [\"Unable to find valid result for classificati...  \n",
       "2  unable to normalize  [\"Unable to find valid result for classificati...  \n",
       "3  unable to normalize  [\"Unable to find valid result for classificati...  \n",
       "4  unable to normalize  [\"Unable to find valid result for classificati...  "
      ]
     },
     "execution_count": 31,
     "metadata": {},
     "output_type": "execute_result"
    }
   ],
   "source": [
    "not_normalized_queries_df = pd.read_csv(\"unable_to_normalize_queries.csv\", sep=\"\\t\")\n",
    "not_normalized_queries_df.head()"
   ]
  },
  {
   "cell_type": "markdown",
   "metadata": {},
   "source": [
    "## Variant analysis"
   ]
  },
  {
   "cell_type": "code",
   "execution_count": 32,
   "metadata": {},
   "outputs": [
    {
     "name": "stdout",
     "output_type": "stream",
     "text": [
      "\n",
      "Number of Unable to Normalize Variants in CIViC: 63 / 3581\n",
      "Percentage of Unable to Normalize Variants in CIViC: 1.76%\n",
      "\n",
      "Number of accepted Unable to Normalize Variants: 9 / 63\n",
      "Percentage of accepted Unable to Normalize Variants: 14.29%\n",
      "\n",
      "Number of not accepted Unable to Normalize Variants: 54 / 63\n",
      "Percentage of not accepted Unable to Normalize Variants: 85.71%\n"
     ]
    },
    {
     "data": {
      "text/html": [
       "<div>\n",
       "<style scoped>\n",
       "    .dataframe tbody tr th:only-of-type {\n",
       "        vertical-align: middle;\n",
       "    }\n",
       "\n",
       "    .dataframe tbody tr th {\n",
       "        vertical-align: top;\n",
       "    }\n",
       "\n",
       "    .dataframe thead th {\n",
       "        text-align: right;\n",
       "    }\n",
       "</style>\n",
       "<table border=\"1\" class=\"dataframe\">\n",
       "  <thead>\n",
       "    <tr style=\"text-align: right;\">\n",
       "      <th></th>\n",
       "      <th>variant_id</th>\n",
       "      <th>query</th>\n",
       "      <th>query_type</th>\n",
       "      <th>variant_accepted</th>\n",
       "      <th>exception_raised</th>\n",
       "      <th>message</th>\n",
       "      <th>warnings</th>\n",
       "    </tr>\n",
       "  </thead>\n",
       "  <tbody>\n",
       "    <tr>\n",
       "      <th>0</th>\n",
       "      <td>748</td>\n",
       "      <td>MLH1 *757L</td>\n",
       "      <td>protein</td>\n",
       "      <td>True</td>\n",
       "      <td>False</td>\n",
       "      <td>unable to normalize</td>\n",
       "      <td>[\"Unable to find valid result for classificati...</td>\n",
       "    </tr>\n",
       "    <tr>\n",
       "      <th>1</th>\n",
       "      <td>3718</td>\n",
       "      <td>AR A748V</td>\n",
       "      <td>protein</td>\n",
       "      <td>False</td>\n",
       "      <td>False</td>\n",
       "      <td>unable to normalize</td>\n",
       "      <td>[\"Unable to find valid result for classificati...</td>\n",
       "    </tr>\n",
       "    <tr>\n",
       "      <th>2</th>\n",
       "      <td>3725</td>\n",
       "      <td>AR A765T</td>\n",
       "      <td>protein</td>\n",
       "      <td>False</td>\n",
       "      <td>False</td>\n",
       "      <td>unable to normalize</td>\n",
       "      <td>[\"Unable to find valid result for classificati...</td>\n",
       "    </tr>\n",
       "    <tr>\n",
       "      <th>3</th>\n",
       "      <td>248</td>\n",
       "      <td>TERT C228T</td>\n",
       "      <td>protein</td>\n",
       "      <td>True</td>\n",
       "      <td>False</td>\n",
       "      <td>unable to normalize</td>\n",
       "      <td>[\"Unable to find valid result for classificati...</td>\n",
       "    </tr>\n",
       "    <tr>\n",
       "      <th>4</th>\n",
       "      <td>4004</td>\n",
       "      <td>TERT C250T</td>\n",
       "      <td>protein</td>\n",
       "      <td>False</td>\n",
       "      <td>False</td>\n",
       "      <td>unable to normalize</td>\n",
       "      <td>[\"Unable to find valid result for classificati...</td>\n",
       "    </tr>\n",
       "  </tbody>\n",
       "</table>\n",
       "</div>"
      ],
      "text/plain": [
       "   variant_id       query query_type  variant_accepted  exception_raised   \n",
       "0         748  MLH1 *757L    protein              True             False  \\\n",
       "1        3718    AR A748V    protein             False             False   \n",
       "2        3725    AR A765T    protein             False             False   \n",
       "3         248  TERT C228T    protein              True             False   \n",
       "4        4004  TERT C250T    protein             False             False   \n",
       "\n",
       "               message                                           warnings  \n",
       "0  unable to normalize  [\"Unable to find valid result for classificati...  \n",
       "1  unable to normalize  [\"Unable to find valid result for classificati...  \n",
       "2  unable to normalize  [\"Unable to find valid result for classificati...  \n",
       "3  unable to normalize  [\"Unable to find valid result for classificati...  \n",
       "4  unable to normalize  [\"Unable to find valid result for classificati...  "
      ]
     },
     "execution_count": 32,
     "metadata": {},
     "output_type": "execute_result"
    }
   ],
   "source": [
    "not_normalized_queries_df = variant_analysis(not_normalized_queries_df, VariantNormType.UNABLE_TO_NORMALIZE)\n",
    "not_normalized_queries_df.head()"
   ]
  },
  {
   "attachments": {},
   "cell_type": "markdown",
   "metadata": {},
   "source": [
    "## Transform df for evidence analysis"
   ]
  },
  {
   "cell_type": "code",
   "execution_count": 33,
   "metadata": {},
   "outputs": [
    {
     "data": {
      "text/html": [
       "<div>\n",
       "<style scoped>\n",
       "    .dataframe tbody tr th:only-of-type {\n",
       "        vertical-align: middle;\n",
       "    }\n",
       "\n",
       "    .dataframe tbody tr th {\n",
       "        vertical-align: top;\n",
       "    }\n",
       "\n",
       "    .dataframe thead th {\n",
       "        text-align: right;\n",
       "    }\n",
       "</style>\n",
       "<table border=\"1\" class=\"dataframe\">\n",
       "  <thead>\n",
       "    <tr style=\"text-align: right;\">\n",
       "      <th></th>\n",
       "      <th>variant_id</th>\n",
       "      <th>query</th>\n",
       "      <th>query_type</th>\n",
       "      <th>variant_accepted</th>\n",
       "      <th>exception_raised</th>\n",
       "      <th>message</th>\n",
       "      <th>warnings</th>\n",
       "      <th>evidence_id</th>\n",
       "    </tr>\n",
       "  </thead>\n",
       "  <tbody>\n",
       "    <tr>\n",
       "      <th>0</th>\n",
       "      <td>748</td>\n",
       "      <td>MLH1 *757L</td>\n",
       "      <td>protein</td>\n",
       "      <td>True</td>\n",
       "      <td>False</td>\n",
       "      <td>unable to normalize</td>\n",
       "      <td>[\"Unable to find valid result for classificati...</td>\n",
       "      <td>1812</td>\n",
       "    </tr>\n",
       "    <tr>\n",
       "      <th>1</th>\n",
       "      <td>3718</td>\n",
       "      <td>AR A748V</td>\n",
       "      <td>protein</td>\n",
       "      <td>False</td>\n",
       "      <td>False</td>\n",
       "      <td>unable to normalize</td>\n",
       "      <td>[\"Unable to find valid result for classificati...</td>\n",
       "      <td>10128</td>\n",
       "    </tr>\n",
       "    <tr>\n",
       "      <th>2</th>\n",
       "      <td>3725</td>\n",
       "      <td>AR A765T</td>\n",
       "      <td>protein</td>\n",
       "      <td>False</td>\n",
       "      <td>False</td>\n",
       "      <td>unable to normalize</td>\n",
       "      <td>[\"Unable to find valid result for classificati...</td>\n",
       "      <td>10135</td>\n",
       "    </tr>\n",
       "    <tr>\n",
       "      <th>3</th>\n",
       "      <td>248</td>\n",
       "      <td>TERT C228T</td>\n",
       "      <td>protein</td>\n",
       "      <td>True</td>\n",
       "      <td>False</td>\n",
       "      <td>unable to normalize</td>\n",
       "      <td>[\"Unable to find valid result for classificati...</td>\n",
       "      <td>655</td>\n",
       "    </tr>\n",
       "    <tr>\n",
       "      <th>3</th>\n",
       "      <td>248</td>\n",
       "      <td>TERT C228T</td>\n",
       "      <td>protein</td>\n",
       "      <td>True</td>\n",
       "      <td>False</td>\n",
       "      <td>unable to normalize</td>\n",
       "      <td>[\"Unable to find valid result for classificati...</td>\n",
       "      <td>1646</td>\n",
       "    </tr>\n",
       "  </tbody>\n",
       "</table>\n",
       "</div>"
      ],
      "text/plain": [
       "   variant_id       query query_type  variant_accepted  exception_raised   \n",
       "0         748  MLH1 *757L    protein              True             False  \\\n",
       "1        3718    AR A748V    protein             False             False   \n",
       "2        3725    AR A765T    protein             False             False   \n",
       "3         248  TERT C228T    protein              True             False   \n",
       "3         248  TERT C228T    protein              True             False   \n",
       "\n",
       "               message                                           warnings   \n",
       "0  unable to normalize  [\"Unable to find valid result for classificati...  \\\n",
       "1  unable to normalize  [\"Unable to find valid result for classificati...   \n",
       "2  unable to normalize  [\"Unable to find valid result for classificati...   \n",
       "3  unable to normalize  [\"Unable to find valid result for classificati...   \n",
       "3  unable to normalize  [\"Unable to find valid result for classificati...   \n",
       "\n",
       "  evidence_id  \n",
       "0        1812  \n",
       "1       10128  \n",
       "2       10135  \n",
       "3         655  \n",
       "3        1646  "
      ]
     },
     "execution_count": 33,
     "metadata": {},
     "output_type": "execute_result"
    }
   ],
   "source": [
    "not_normalized_quer_add_evidence_df = transform_df_evidence_ids(not_normalized_queries_df)\n",
    "not_normalized_quer_add_evidence_df.head()"
   ]
  },
  {
   "cell_type": "code",
   "execution_count": 34,
   "metadata": {},
   "outputs": [
    {
     "data": {
      "text/html": [
       "<div>\n",
       "<style scoped>\n",
       "    .dataframe tbody tr th:only-of-type {\n",
       "        vertical-align: middle;\n",
       "    }\n",
       "\n",
       "    .dataframe tbody tr th {\n",
       "        vertical-align: top;\n",
       "    }\n",
       "\n",
       "    .dataframe thead th {\n",
       "        text-align: right;\n",
       "    }\n",
       "</style>\n",
       "<table border=\"1\" class=\"dataframe\">\n",
       "  <thead>\n",
       "    <tr style=\"text-align: right;\">\n",
       "      <th></th>\n",
       "      <th>variant_id</th>\n",
       "      <th>query</th>\n",
       "      <th>query_type</th>\n",
       "      <th>variant_accepted</th>\n",
       "      <th>exception_raised</th>\n",
       "      <th>message</th>\n",
       "      <th>warnings</th>\n",
       "      <th>evidence_id</th>\n",
       "      <th>evidence_status</th>\n",
       "      <th>evidence_rating</th>\n",
       "      <th>evidence_level</th>\n",
       "    </tr>\n",
       "  </thead>\n",
       "  <tbody>\n",
       "    <tr>\n",
       "      <th>0</th>\n",
       "      <td>748</td>\n",
       "      <td>MLH1 *757L</td>\n",
       "      <td>protein</td>\n",
       "      <td>True</td>\n",
       "      <td>False</td>\n",
       "      <td>unable to normalize</td>\n",
       "      <td>[\"Unable to find valid result for classificati...</td>\n",
       "      <td>1812</td>\n",
       "      <td>accepted</td>\n",
       "      <td>[1]</td>\n",
       "      <td>[C]</td>\n",
       "    </tr>\n",
       "    <tr>\n",
       "      <th>1</th>\n",
       "      <td>3718</td>\n",
       "      <td>AR A748V</td>\n",
       "      <td>protein</td>\n",
       "      <td>False</td>\n",
       "      <td>False</td>\n",
       "      <td>unable to normalize</td>\n",
       "      <td>[\"Unable to find valid result for classificati...</td>\n",
       "      <td>10128</td>\n",
       "      <td>submitted</td>\n",
       "      <td>[3]</td>\n",
       "      <td>[D]</td>\n",
       "    </tr>\n",
       "    <tr>\n",
       "      <th>2</th>\n",
       "      <td>3725</td>\n",
       "      <td>AR A765T</td>\n",
       "      <td>protein</td>\n",
       "      <td>False</td>\n",
       "      <td>False</td>\n",
       "      <td>unable to normalize</td>\n",
       "      <td>[\"Unable to find valid result for classificati...</td>\n",
       "      <td>10135</td>\n",
       "      <td>submitted</td>\n",
       "      <td>[3]</td>\n",
       "      <td>[D]</td>\n",
       "    </tr>\n",
       "    <tr>\n",
       "      <th>3</th>\n",
       "      <td>248</td>\n",
       "      <td>TERT C228T</td>\n",
       "      <td>protein</td>\n",
       "      <td>True</td>\n",
       "      <td>False</td>\n",
       "      <td>unable to normalize</td>\n",
       "      <td>[\"Unable to find valid result for classificati...</td>\n",
       "      <td>655</td>\n",
       "      <td>accepted</td>\n",
       "      <td>[5]</td>\n",
       "      <td>[B]</td>\n",
       "    </tr>\n",
       "    <tr>\n",
       "      <th>3</th>\n",
       "      <td>248</td>\n",
       "      <td>TERT C228T</td>\n",
       "      <td>protein</td>\n",
       "      <td>True</td>\n",
       "      <td>False</td>\n",
       "      <td>unable to normalize</td>\n",
       "      <td>[\"Unable to find valid result for classificati...</td>\n",
       "      <td>1646</td>\n",
       "      <td>accepted</td>\n",
       "      <td>[3]</td>\n",
       "      <td>[B]</td>\n",
       "    </tr>\n",
       "  </tbody>\n",
       "</table>\n",
       "</div>"
      ],
      "text/plain": [
       "   variant_id       query query_type  variant_accepted  exception_raised   \n",
       "0         748  MLH1 *757L    protein              True             False  \\\n",
       "1        3718    AR A748V    protein             False             False   \n",
       "2        3725    AR A765T    protein             False             False   \n",
       "3         248  TERT C228T    protein              True             False   \n",
       "3         248  TERT C228T    protein              True             False   \n",
       "\n",
       "               message                                           warnings   \n",
       "0  unable to normalize  [\"Unable to find valid result for classificati...  \\\n",
       "1  unable to normalize  [\"Unable to find valid result for classificati...   \n",
       "2  unable to normalize  [\"Unable to find valid result for classificati...   \n",
       "3  unable to normalize  [\"Unable to find valid result for classificati...   \n",
       "3  unable to normalize  [\"Unable to find valid result for classificati...   \n",
       "\n",
       "  evidence_id evidence_status evidence_rating evidence_level  \n",
       "0        1812        accepted             [1]            [C]  \n",
       "1       10128       submitted             [3]            [D]  \n",
       "2       10135       submitted             [3]            [D]  \n",
       "3         655        accepted             [5]            [B]  \n",
       "3        1646        accepted             [3]            [B]  "
      ]
     },
     "execution_count": 34,
     "metadata": {},
     "output_type": "execute_result"
    }
   ],
   "source": [
    "not_normalized_quer_add_evidence_df = transform_df_evidence(not_normalized_quer_add_evidence_df)\n",
    "not_normalized_quer_add_evidence_df.head()"
   ]
  },
  {
   "cell_type": "markdown",
   "metadata": {},
   "source": [
    "## Evidence analysis"
   ]
  },
  {
   "cell_type": "code",
   "execution_count": 35,
   "metadata": {},
   "outputs": [
    {
     "name": "stdout",
     "output_type": "stream",
     "text": [
      "Number of Unable to Normalize Variant Evidence items in CIViC: 80 / 9914\n",
      "Percentage of Unable to Normalize Variant Evidence items in CIViC: 0.81%\n",
      "\n",
      "Number of accepted Unable to Normalize Variant Evidence items: 14 / 80\n",
      "Percentage of accepted Unable to Normalize Variant Evidence items: 17.50%\n",
      "\n",
      "Number of submitted Unable to Normalize Variant Evidence items: 66 / 80\n",
      "Percentage of not submitted Unable to Normalize Variant Evidence items: 82.50%\n"
     ]
    },
    {
     "data": {
      "text/html": [
       "<div>\n",
       "<style scoped>\n",
       "    .dataframe tbody tr th:only-of-type {\n",
       "        vertical-align: middle;\n",
       "    }\n",
       "\n",
       "    .dataframe tbody tr th {\n",
       "        vertical-align: top;\n",
       "    }\n",
       "\n",
       "    .dataframe thead th {\n",
       "        text-align: right;\n",
       "    }\n",
       "</style>\n",
       "<table border=\"1\" class=\"dataframe\">\n",
       "  <thead>\n",
       "    <tr style=\"text-align: right;\">\n",
       "      <th></th>\n",
       "      <th>variant_id</th>\n",
       "      <th>query</th>\n",
       "      <th>query_type</th>\n",
       "      <th>variant_accepted</th>\n",
       "      <th>exception_raised</th>\n",
       "      <th>message</th>\n",
       "      <th>warnings</th>\n",
       "      <th>evidence_id</th>\n",
       "      <th>evidence_status</th>\n",
       "      <th>evidence_rating</th>\n",
       "      <th>evidence_level</th>\n",
       "      <th>evidence_accepted</th>\n",
       "    </tr>\n",
       "  </thead>\n",
       "  <tbody>\n",
       "    <tr>\n",
       "      <th>0</th>\n",
       "      <td>748</td>\n",
       "      <td>MLH1 *757L</td>\n",
       "      <td>protein</td>\n",
       "      <td>True</td>\n",
       "      <td>False</td>\n",
       "      <td>unable to normalize</td>\n",
       "      <td>[\"Unable to find valid result for classificati...</td>\n",
       "      <td>1812</td>\n",
       "      <td>accepted</td>\n",
       "      <td>[1]</td>\n",
       "      <td>[C]</td>\n",
       "      <td>True</td>\n",
       "    </tr>\n",
       "    <tr>\n",
       "      <th>1</th>\n",
       "      <td>3718</td>\n",
       "      <td>AR A748V</td>\n",
       "      <td>protein</td>\n",
       "      <td>False</td>\n",
       "      <td>False</td>\n",
       "      <td>unable to normalize</td>\n",
       "      <td>[\"Unable to find valid result for classificati...</td>\n",
       "      <td>10128</td>\n",
       "      <td>submitted</td>\n",
       "      <td>[3]</td>\n",
       "      <td>[D]</td>\n",
       "      <td>False</td>\n",
       "    </tr>\n",
       "    <tr>\n",
       "      <th>2</th>\n",
       "      <td>3725</td>\n",
       "      <td>AR A765T</td>\n",
       "      <td>protein</td>\n",
       "      <td>False</td>\n",
       "      <td>False</td>\n",
       "      <td>unable to normalize</td>\n",
       "      <td>[\"Unable to find valid result for classificati...</td>\n",
       "      <td>10135</td>\n",
       "      <td>submitted</td>\n",
       "      <td>[3]</td>\n",
       "      <td>[D]</td>\n",
       "      <td>False</td>\n",
       "    </tr>\n",
       "    <tr>\n",
       "      <th>3</th>\n",
       "      <td>248</td>\n",
       "      <td>TERT C228T</td>\n",
       "      <td>protein</td>\n",
       "      <td>True</td>\n",
       "      <td>False</td>\n",
       "      <td>unable to normalize</td>\n",
       "      <td>[\"Unable to find valid result for classificati...</td>\n",
       "      <td>655</td>\n",
       "      <td>accepted</td>\n",
       "      <td>[5]</td>\n",
       "      <td>[B]</td>\n",
       "      <td>True</td>\n",
       "    </tr>\n",
       "    <tr>\n",
       "      <th>3</th>\n",
       "      <td>248</td>\n",
       "      <td>TERT C228T</td>\n",
       "      <td>protein</td>\n",
       "      <td>True</td>\n",
       "      <td>False</td>\n",
       "      <td>unable to normalize</td>\n",
       "      <td>[\"Unable to find valid result for classificati...</td>\n",
       "      <td>1646</td>\n",
       "      <td>accepted</td>\n",
       "      <td>[3]</td>\n",
       "      <td>[B]</td>\n",
       "      <td>True</td>\n",
       "    </tr>\n",
       "  </tbody>\n",
       "</table>\n",
       "</div>"
      ],
      "text/plain": [
       "   variant_id       query query_type  variant_accepted  exception_raised   \n",
       "0         748  MLH1 *757L    protein              True             False  \\\n",
       "1        3718    AR A748V    protein             False             False   \n",
       "2        3725    AR A765T    protein             False             False   \n",
       "3         248  TERT C228T    protein              True             False   \n",
       "3         248  TERT C228T    protein              True             False   \n",
       "\n",
       "               message                                           warnings   \n",
       "0  unable to normalize  [\"Unable to find valid result for classificati...  \\\n",
       "1  unable to normalize  [\"Unable to find valid result for classificati...   \n",
       "2  unable to normalize  [\"Unable to find valid result for classificati...   \n",
       "3  unable to normalize  [\"Unable to find valid result for classificati...   \n",
       "3  unable to normalize  [\"Unable to find valid result for classificati...   \n",
       "\n",
       "  evidence_id evidence_status evidence_rating evidence_level evidence_accepted  \n",
       "0        1812        accepted             [1]            [C]              True  \n",
       "1       10128       submitted             [3]            [D]             False  \n",
       "2       10135       submitted             [3]            [D]             False  \n",
       "3         655        accepted             [5]            [B]              True  \n",
       "3        1646        accepted             [3]            [B]              True  "
      ]
     },
     "execution_count": 35,
     "metadata": {},
     "output_type": "execute_result"
    }
   ],
   "source": [
    "not_normalized_quer_add_evidence_df = evidence_analysis(not_normalized_quer_add_evidence_df, VariantNormType.UNABLE_TO_NORMALIZE)\n",
    "not_normalized_quer_add_evidence_df.head()"
   ]
  },
  {
   "cell_type": "markdown",
   "metadata": {},
   "source": [
    "## Impact\n",
    "molecular profile score"
   ]
  },
  {
   "cell_type": "markdown",
   "metadata": {},
   "source": [
    "### Import molecular profile id"
   ]
  },
  {
   "cell_type": "code",
   "execution_count": 36,
   "metadata": {},
   "outputs": [
    {
     "data": {
      "text/html": [
       "<div>\n",
       "<style scoped>\n",
       "    .dataframe tbody tr th:only-of-type {\n",
       "        vertical-align: middle;\n",
       "    }\n",
       "\n",
       "    .dataframe tbody tr th {\n",
       "        vertical-align: top;\n",
       "    }\n",
       "\n",
       "    .dataframe thead th {\n",
       "        text-align: right;\n",
       "    }\n",
       "</style>\n",
       "<table border=\"1\" class=\"dataframe\">\n",
       "  <thead>\n",
       "    <tr style=\"text-align: right;\">\n",
       "      <th></th>\n",
       "      <th>variant_id</th>\n",
       "      <th>query</th>\n",
       "      <th>query_type</th>\n",
       "      <th>variant_accepted</th>\n",
       "      <th>exception_raised</th>\n",
       "      <th>message</th>\n",
       "      <th>warnings</th>\n",
       "      <th>molecular_profile_id</th>\n",
       "    </tr>\n",
       "  </thead>\n",
       "  <tbody>\n",
       "    <tr>\n",
       "      <th>0</th>\n",
       "      <td>748</td>\n",
       "      <td>MLH1 *757L</td>\n",
       "      <td>protein</td>\n",
       "      <td>True</td>\n",
       "      <td>False</td>\n",
       "      <td>unable to normalize</td>\n",
       "      <td>[\"Unable to find valid result for classificati...</td>\n",
       "      <td>[729]</td>\n",
       "    </tr>\n",
       "    <tr>\n",
       "      <th>1</th>\n",
       "      <td>3718</td>\n",
       "      <td>AR A748V</td>\n",
       "      <td>protein</td>\n",
       "      <td>False</td>\n",
       "      <td>False</td>\n",
       "      <td>unable to normalize</td>\n",
       "      <td>[\"Unable to find valid result for classificati...</td>\n",
       "      <td>[3586]</td>\n",
       "    </tr>\n",
       "    <tr>\n",
       "      <th>2</th>\n",
       "      <td>3725</td>\n",
       "      <td>AR A765T</td>\n",
       "      <td>protein</td>\n",
       "      <td>False</td>\n",
       "      <td>False</td>\n",
       "      <td>unable to normalize</td>\n",
       "      <td>[\"Unable to find valid result for classificati...</td>\n",
       "      <td>[3593]</td>\n",
       "    </tr>\n",
       "    <tr>\n",
       "      <th>3</th>\n",
       "      <td>248</td>\n",
       "      <td>TERT C228T</td>\n",
       "      <td>protein</td>\n",
       "      <td>True</td>\n",
       "      <td>False</td>\n",
       "      <td>unable to normalize</td>\n",
       "      <td>[\"Unable to find valid result for classificati...</td>\n",
       "      <td>[244]</td>\n",
       "    </tr>\n",
       "    <tr>\n",
       "      <th>4</th>\n",
       "      <td>4004</td>\n",
       "      <td>TERT C250T</td>\n",
       "      <td>protein</td>\n",
       "      <td>False</td>\n",
       "      <td>False</td>\n",
       "      <td>unable to normalize</td>\n",
       "      <td>[\"Unable to find valid result for classificati...</td>\n",
       "      <td>[3872]</td>\n",
       "    </tr>\n",
       "  </tbody>\n",
       "</table>\n",
       "</div>"
      ],
      "text/plain": [
       "   variant_id       query query_type  variant_accepted  exception_raised   \n",
       "0         748  MLH1 *757L    protein              True             False  \\\n",
       "1        3718    AR A748V    protein             False             False   \n",
       "2        3725    AR A765T    protein             False             False   \n",
       "3         248  TERT C228T    protein              True             False   \n",
       "4        4004  TERT C250T    protein             False             False   \n",
       "\n",
       "               message                                           warnings   \n",
       "0  unable to normalize  [\"Unable to find valid result for classificati...  \\\n",
       "1  unable to normalize  [\"Unable to find valid result for classificati...   \n",
       "2  unable to normalize  [\"Unable to find valid result for classificati...   \n",
       "3  unable to normalize  [\"Unable to find valid result for classificati...   \n",
       "4  unable to normalize  [\"Unable to find valid result for classificati...   \n",
       "\n",
       "  molecular_profile_id  \n",
       "0                [729]  \n",
       "1               [3586]  \n",
       "2               [3593]  \n",
       "3                [244]  \n",
       "4               [3872]  "
      ]
     },
     "execution_count": 36,
     "metadata": {},
     "output_type": "execute_result"
    }
   ],
   "source": [
    "not_normalized_queries_add_molprof_df = transform_df_mp_id(not_normalized_queries_df)\n",
    "not_normalized_queries_add_molprof_df.head()"
   ]
  },
  {
   "cell_type": "markdown",
   "metadata": {},
   "source": [
    "### Import molecular profile scores"
   ]
  },
  {
   "cell_type": "code",
   "execution_count": 37,
   "metadata": {},
   "outputs": [
    {
     "data": {
      "text/html": [
       "<div>\n",
       "<style scoped>\n",
       "    .dataframe tbody tr th:only-of-type {\n",
       "        vertical-align: middle;\n",
       "    }\n",
       "\n",
       "    .dataframe tbody tr th {\n",
       "        vertical-align: top;\n",
       "    }\n",
       "\n",
       "    .dataframe thead th {\n",
       "        text-align: right;\n",
       "    }\n",
       "</style>\n",
       "<table border=\"1\" class=\"dataframe\">\n",
       "  <thead>\n",
       "    <tr style=\"text-align: right;\">\n",
       "      <th></th>\n",
       "      <th>variant_id</th>\n",
       "      <th>query</th>\n",
       "      <th>query_type</th>\n",
       "      <th>variant_accepted</th>\n",
       "      <th>exception_raised</th>\n",
       "      <th>message</th>\n",
       "      <th>warnings</th>\n",
       "      <th>molecular_profile_id</th>\n",
       "      <th>molecular_profile_score</th>\n",
       "    </tr>\n",
       "  </thead>\n",
       "  <tbody>\n",
       "    <tr>\n",
       "      <th>0</th>\n",
       "      <td>748</td>\n",
       "      <td>MLH1 *757L</td>\n",
       "      <td>protein</td>\n",
       "      <td>True</td>\n",
       "      <td>False</td>\n",
       "      <td>unable to normalize</td>\n",
       "      <td>[\"Unable to find valid result for classificati...</td>\n",
       "      <td>[729]</td>\n",
       "      <td>[2.5]</td>\n",
       "    </tr>\n",
       "    <tr>\n",
       "      <th>1</th>\n",
       "      <td>3718</td>\n",
       "      <td>AR A748V</td>\n",
       "      <td>protein</td>\n",
       "      <td>False</td>\n",
       "      <td>False</td>\n",
       "      <td>unable to normalize</td>\n",
       "      <td>[\"Unable to find valid result for classificati...</td>\n",
       "      <td>[3586]</td>\n",
       "      <td>[0.0]</td>\n",
       "    </tr>\n",
       "    <tr>\n",
       "      <th>2</th>\n",
       "      <td>3725</td>\n",
       "      <td>AR A765T</td>\n",
       "      <td>protein</td>\n",
       "      <td>False</td>\n",
       "      <td>False</td>\n",
       "      <td>unable to normalize</td>\n",
       "      <td>[\"Unable to find valid result for classificati...</td>\n",
       "      <td>[3593]</td>\n",
       "      <td>[0.0]</td>\n",
       "    </tr>\n",
       "    <tr>\n",
       "      <th>3</th>\n",
       "      <td>248</td>\n",
       "      <td>TERT C228T</td>\n",
       "      <td>protein</td>\n",
       "      <td>True</td>\n",
       "      <td>False</td>\n",
       "      <td>unable to normalize</td>\n",
       "      <td>[\"Unable to find valid result for classificati...</td>\n",
       "      <td>[244]</td>\n",
       "      <td>[40.0]</td>\n",
       "    </tr>\n",
       "    <tr>\n",
       "      <th>4</th>\n",
       "      <td>4004</td>\n",
       "      <td>TERT C250T</td>\n",
       "      <td>protein</td>\n",
       "      <td>False</td>\n",
       "      <td>False</td>\n",
       "      <td>unable to normalize</td>\n",
       "      <td>[\"Unable to find valid result for classificati...</td>\n",
       "      <td>[3872]</td>\n",
       "      <td>[0.0]</td>\n",
       "    </tr>\n",
       "  </tbody>\n",
       "</table>\n",
       "</div>"
      ],
      "text/plain": [
       "   variant_id       query query_type  variant_accepted  exception_raised   \n",
       "0         748  MLH1 *757L    protein              True             False  \\\n",
       "1        3718    AR A748V    protein             False             False   \n",
       "2        3725    AR A765T    protein             False             False   \n",
       "3         248  TERT C228T    protein              True             False   \n",
       "4        4004  TERT C250T    protein             False             False   \n",
       "\n",
       "               message                                           warnings   \n",
       "0  unable to normalize  [\"Unable to find valid result for classificati...  \\\n",
       "1  unable to normalize  [\"Unable to find valid result for classificati...   \n",
       "2  unable to normalize  [\"Unable to find valid result for classificati...   \n",
       "3  unable to normalize  [\"Unable to find valid result for classificati...   \n",
       "4  unable to normalize  [\"Unable to find valid result for classificati...   \n",
       "\n",
       "  molecular_profile_id molecular_profile_score  \n",
       "0                [729]                   [2.5]  \n",
       "1               [3586]                   [0.0]  \n",
       "2               [3593]                   [0.0]  \n",
       "3                [244]                  [40.0]  \n",
       "4               [3872]                   [0.0]  "
      ]
     },
     "execution_count": 37,
     "metadata": {},
     "output_type": "execute_result"
    }
   ],
   "source": [
    "not_normalized_queries_add_molprof_df = transform_df_mp_score(not_normalized_queries_add_molprof_df)\n",
    "not_normalized_queries_add_molprof_df.head()"
   ]
  },
  {
   "cell_type": "code",
   "execution_count": 38,
   "metadata": {},
   "outputs": [
    {
     "data": {
      "text/html": [
       "<div>\n",
       "<style scoped>\n",
       "    .dataframe tbody tr th:only-of-type {\n",
       "        vertical-align: middle;\n",
       "    }\n",
       "\n",
       "    .dataframe tbody tr th {\n",
       "        vertical-align: top;\n",
       "    }\n",
       "\n",
       "    .dataframe thead th {\n",
       "        text-align: right;\n",
       "    }\n",
       "</style>\n",
       "<table border=\"1\" class=\"dataframe\">\n",
       "  <thead>\n",
       "    <tr style=\"text-align: right;\">\n",
       "      <th></th>\n",
       "      <th>variant_id</th>\n",
       "      <th>query</th>\n",
       "      <th>query_type</th>\n",
       "      <th>variant_accepted</th>\n",
       "      <th>exception_raised</th>\n",
       "      <th>message</th>\n",
       "      <th>warnings</th>\n",
       "      <th>molecular_profile_id</th>\n",
       "      <th>molecular_profile_score</th>\n",
       "      <th>molecular_profile_score_sum</th>\n",
       "    </tr>\n",
       "  </thead>\n",
       "  <tbody>\n",
       "    <tr>\n",
       "      <th>0</th>\n",
       "      <td>748</td>\n",
       "      <td>MLH1 *757L</td>\n",
       "      <td>protein</td>\n",
       "      <td>True</td>\n",
       "      <td>False</td>\n",
       "      <td>unable to normalize</td>\n",
       "      <td>[\"Unable to find valid result for classificati...</td>\n",
       "      <td>[729]</td>\n",
       "      <td>[2.5]</td>\n",
       "      <td>2.5</td>\n",
       "    </tr>\n",
       "    <tr>\n",
       "      <th>1</th>\n",
       "      <td>3718</td>\n",
       "      <td>AR A748V</td>\n",
       "      <td>protein</td>\n",
       "      <td>False</td>\n",
       "      <td>False</td>\n",
       "      <td>unable to normalize</td>\n",
       "      <td>[\"Unable to find valid result for classificati...</td>\n",
       "      <td>[3586]</td>\n",
       "      <td>[0.0]</td>\n",
       "      <td>0.0</td>\n",
       "    </tr>\n",
       "    <tr>\n",
       "      <th>2</th>\n",
       "      <td>3725</td>\n",
       "      <td>AR A765T</td>\n",
       "      <td>protein</td>\n",
       "      <td>False</td>\n",
       "      <td>False</td>\n",
       "      <td>unable to normalize</td>\n",
       "      <td>[\"Unable to find valid result for classificati...</td>\n",
       "      <td>[3593]</td>\n",
       "      <td>[0.0]</td>\n",
       "      <td>0.0</td>\n",
       "    </tr>\n",
       "    <tr>\n",
       "      <th>3</th>\n",
       "      <td>248</td>\n",
       "      <td>TERT C228T</td>\n",
       "      <td>protein</td>\n",
       "      <td>True</td>\n",
       "      <td>False</td>\n",
       "      <td>unable to normalize</td>\n",
       "      <td>[\"Unable to find valid result for classificati...</td>\n",
       "      <td>[244]</td>\n",
       "      <td>[40.0]</td>\n",
       "      <td>40.0</td>\n",
       "    </tr>\n",
       "    <tr>\n",
       "      <th>4</th>\n",
       "      <td>4004</td>\n",
       "      <td>TERT C250T</td>\n",
       "      <td>protein</td>\n",
       "      <td>False</td>\n",
       "      <td>False</td>\n",
       "      <td>unable to normalize</td>\n",
       "      <td>[\"Unable to find valid result for classificati...</td>\n",
       "      <td>[3872]</td>\n",
       "      <td>[0.0]</td>\n",
       "      <td>0.0</td>\n",
       "    </tr>\n",
       "  </tbody>\n",
       "</table>\n",
       "</div>"
      ],
      "text/plain": [
       "   variant_id       query query_type  variant_accepted  exception_raised   \n",
       "0         748  MLH1 *757L    protein              True             False  \\\n",
       "1        3718    AR A748V    protein             False             False   \n",
       "2        3725    AR A765T    protein             False             False   \n",
       "3         248  TERT C228T    protein              True             False   \n",
       "4        4004  TERT C250T    protein             False             False   \n",
       "\n",
       "               message                                           warnings   \n",
       "0  unable to normalize  [\"Unable to find valid result for classificati...  \\\n",
       "1  unable to normalize  [\"Unable to find valid result for classificati...   \n",
       "2  unable to normalize  [\"Unable to find valid result for classificati...   \n",
       "3  unable to normalize  [\"Unable to find valid result for classificati...   \n",
       "4  unable to normalize  [\"Unable to find valid result for classificati...   \n",
       "\n",
       "  molecular_profile_id molecular_profile_score  molecular_profile_score_sum  \n",
       "0                [729]                   [2.5]                          2.5  \n",
       "1               [3586]                   [0.0]                          0.0  \n",
       "2               [3593]                   [0.0]                          0.0  \n",
       "3                [244]                  [40.0]                         40.0  \n",
       "4               [3872]                   [0.0]                          0.0  "
      ]
     },
     "execution_count": 38,
     "metadata": {},
     "output_type": "execute_result"
    }
   ],
   "source": [
    "not_normalized_queries_add_molprof_df = transform_df_mp_score_sum(not_normalized_queries_add_molprof_df)\n",
    "not_normalized_queries_add_molprof_df.head()"
   ]
  },
  {
   "cell_type": "code",
   "execution_count": 39,
   "metadata": {},
   "outputs": [
    {
     "data": {
      "text/plain": [
       "variant_id                     63\n",
       "query                          63\n",
       "query_type                     63\n",
       "variant_accepted               63\n",
       "exception_raised               63\n",
       "message                        63\n",
       "warnings                       63\n",
       "molecular_profile_id           63\n",
       "molecular_profile_score        63\n",
       "molecular_profile_score_sum    63\n",
       "dtype: int64"
      ]
     },
     "execution_count": 39,
     "metadata": {},
     "output_type": "execute_result"
    }
   ],
   "source": [
    "not_normalized_queries_add_molprof_df.count()"
   ]
  },
  {
   "cell_type": "code",
   "execution_count": 40,
   "metadata": {},
   "outputs": [
    {
     "data": {
      "text/plain": [
       "molecular_profile_score_sum\n",
       "0.0     54\n",
       "20.0     2\n",
       "2.5      1\n",
       "40.0     1\n",
       "35.0     1\n",
       "7.5      1\n",
       "5.0      1\n",
       "3.0      1\n",
       "31.0     1\n",
       "Name: count, dtype: int64"
      ]
     },
     "execution_count": 40,
     "metadata": {},
     "output_type": "execute_result"
    }
   ],
   "source": [
    "not_normalized_queries_add_molprof_df[\"molecular_profile_score_sum\"].value_counts()"
   ]
  },
  {
   "cell_type": "code",
   "execution_count": 41,
   "metadata": {},
   "outputs": [
    {
     "data": {
      "text/plain": [
       "variant_id                                                                   248\n",
       "query                                                           3-10191481-GAA-C\n",
       "query_type                                                               genomic\n",
       "variant_accepted                                                            True\n",
       "exception_raised                                                           False\n",
       "message                                                      unable to normalize\n",
       "warnings                       [\"Unable to find valid result for classificati...\n",
       "molecular_profile_id                                                       [244]\n",
       "molecular_profile_score                                                    [2.5]\n",
       "molecular_profile_score_sum                                                  2.5\n",
       "dtype: object"
      ]
     },
     "execution_count": 41,
     "metadata": {},
     "output_type": "execute_result"
    }
   ],
   "source": [
    "not_normalized_queries_add_molprof_df[not_normalized_queries_add_molprof_df[\"variant_accepted\"]==True].min()"
   ]
  },
  {
   "cell_type": "markdown",
   "metadata": {},
   "source": [
    "# Analysis of Not Supported Variants"
   ]
  },
  {
   "cell_type": "markdown",
   "metadata": {},
   "source": [
    "### List of Not Supported Variant ID's"
   ]
  },
  {
   "cell_type": "code",
   "execution_count": 42,
   "metadata": {},
   "outputs": [
    {
     "data": {
      "text/html": [
       "<div>\n",
       "<style scoped>\n",
       "    .dataframe tbody tr th:only-of-type {\n",
       "        vertical-align: middle;\n",
       "    }\n",
       "\n",
       "    .dataframe tbody tr th {\n",
       "        vertical-align: top;\n",
       "    }\n",
       "\n",
       "    .dataframe thead th {\n",
       "        text-align: right;\n",
       "    }\n",
       "</style>\n",
       "<table border=\"1\" class=\"dataframe\">\n",
       "  <thead>\n",
       "    <tr style=\"text-align: right;\">\n",
       "      <th></th>\n",
       "      <th>variant_id</th>\n",
       "      <th>gene_name</th>\n",
       "      <th>variant_name</th>\n",
       "      <th>category</th>\n",
       "      <th>variant_accepted</th>\n",
       "    </tr>\n",
       "  </thead>\n",
       "  <tbody>\n",
       "    <tr>\n",
       "      <th>0</th>\n",
       "      <td>4170</td>\n",
       "      <td>VHL</td>\n",
       "      <td>NaN</td>\n",
       "      <td>Transcript Variant</td>\n",
       "      <td>False</td>\n",
       "    </tr>\n",
       "    <tr>\n",
       "      <th>1</th>\n",
       "      <td>4417</td>\n",
       "      <td>ALK</td>\n",
       "      <td>FBXO11::ALK</td>\n",
       "      <td>Fusion</td>\n",
       "      <td>False</td>\n",
       "    </tr>\n",
       "    <tr>\n",
       "      <th>2</th>\n",
       "      <td>4214</td>\n",
       "      <td>VHL</td>\n",
       "      <td>NaN</td>\n",
       "      <td>Transcript Variant</td>\n",
       "      <td>False</td>\n",
       "    </tr>\n",
       "    <tr>\n",
       "      <th>3</th>\n",
       "      <td>4216</td>\n",
       "      <td>VHL</td>\n",
       "      <td>NaN</td>\n",
       "      <td>Transcript Variant</td>\n",
       "      <td>False</td>\n",
       "    </tr>\n",
       "    <tr>\n",
       "      <th>4</th>\n",
       "      <td>4278</td>\n",
       "      <td>VHL</td>\n",
       "      <td>NaN</td>\n",
       "      <td>Transcript Variant</td>\n",
       "      <td>False</td>\n",
       "    </tr>\n",
       "  </tbody>\n",
       "</table>\n",
       "</div>"
      ],
      "text/plain": [
       "   variant_id gene_name  variant_name            category  variant_accepted\n",
       "0        4170       VHL           NaN  Transcript Variant             False\n",
       "1        4417       ALK   FBXO11::ALK              Fusion             False\n",
       "2        4214       VHL           NaN  Transcript Variant             False\n",
       "3        4216       VHL           NaN  Transcript Variant             False\n",
       "4        4278       VHL           NaN  Transcript Variant             False"
      ]
     },
     "execution_count": 42,
     "metadata": {},
     "output_type": "execute_result"
    }
   ],
   "source": [
    "not_supported_queries_df = pd.read_csv(\"not_supported_variants.csv\", sep=\"\\t\")\n",
    "not_supported_queries_df.head()"
   ]
  },
  {
   "cell_type": "markdown",
   "metadata": {},
   "source": [
    "## Variant Analysis"
   ]
  },
  {
   "cell_type": "code",
   "execution_count": 43,
   "metadata": {},
   "outputs": [
    {
     "name": "stdout",
     "output_type": "stream",
     "text": [
      "\n",
      "Number of Not Supported Variants in CIViC: 1622 / 3581\n",
      "Percentage of Not Supported Variants in CIViC: 45.29%\n",
      "\n",
      "Number of accepted Not Supported Variants: 788 / 1622\n",
      "Percentage of accepted Not Supported Variants: 48.58%\n",
      "\n",
      "Number of not accepted Not Supported Variants: 834 / 1622\n",
      "Percentage of not accepted Not Supported Variants: 51.42%\n"
     ]
    },
    {
     "data": {
      "text/html": [
       "<div>\n",
       "<style scoped>\n",
       "    .dataframe tbody tr th:only-of-type {\n",
       "        vertical-align: middle;\n",
       "    }\n",
       "\n",
       "    .dataframe tbody tr th {\n",
       "        vertical-align: top;\n",
       "    }\n",
       "\n",
       "    .dataframe thead th {\n",
       "        text-align: right;\n",
       "    }\n",
       "</style>\n",
       "<table border=\"1\" class=\"dataframe\">\n",
       "  <thead>\n",
       "    <tr style=\"text-align: right;\">\n",
       "      <th></th>\n",
       "      <th>variant_id</th>\n",
       "      <th>gene_name</th>\n",
       "      <th>variant_name</th>\n",
       "      <th>category</th>\n",
       "      <th>variant_accepted</th>\n",
       "    </tr>\n",
       "  </thead>\n",
       "  <tbody>\n",
       "    <tr>\n",
       "      <th>0</th>\n",
       "      <td>4170</td>\n",
       "      <td>VHL</td>\n",
       "      <td>NaN</td>\n",
       "      <td>Transcript Variant</td>\n",
       "      <td>False</td>\n",
       "    </tr>\n",
       "    <tr>\n",
       "      <th>1</th>\n",
       "      <td>4417</td>\n",
       "      <td>ALK</td>\n",
       "      <td>FBXO11::ALK</td>\n",
       "      <td>Fusion</td>\n",
       "      <td>False</td>\n",
       "    </tr>\n",
       "    <tr>\n",
       "      <th>2</th>\n",
       "      <td>4214</td>\n",
       "      <td>VHL</td>\n",
       "      <td>NaN</td>\n",
       "      <td>Transcript Variant</td>\n",
       "      <td>False</td>\n",
       "    </tr>\n",
       "    <tr>\n",
       "      <th>3</th>\n",
       "      <td>4216</td>\n",
       "      <td>VHL</td>\n",
       "      <td>NaN</td>\n",
       "      <td>Transcript Variant</td>\n",
       "      <td>False</td>\n",
       "    </tr>\n",
       "    <tr>\n",
       "      <th>4</th>\n",
       "      <td>4278</td>\n",
       "      <td>VHL</td>\n",
       "      <td>NaN</td>\n",
       "      <td>Transcript Variant</td>\n",
       "      <td>False</td>\n",
       "    </tr>\n",
       "  </tbody>\n",
       "</table>\n",
       "</div>"
      ],
      "text/plain": [
       "   variant_id gene_name  variant_name            category  variant_accepted\n",
       "0        4170       VHL           NaN  Transcript Variant             False\n",
       "1        4417       ALK   FBXO11::ALK              Fusion             False\n",
       "2        4214       VHL           NaN  Transcript Variant             False\n",
       "3        4216       VHL           NaN  Transcript Variant             False\n",
       "4        4278       VHL           NaN  Transcript Variant             False"
      ]
     },
     "execution_count": 43,
     "metadata": {},
     "output_type": "execute_result"
    }
   ],
   "source": [
    "not_supported_queries_df = variant_analysis(not_supported_queries_df, VariantNormType.NOT_SUPPORTED)\n",
    "not_supported_queries_df.head()"
   ]
  },
  {
   "cell_type": "code",
   "execution_count": 44,
   "metadata": {},
   "outputs": [
    {
     "data": {
      "text/plain": [
       "variant_accepted\n",
       "False    834\n",
       "True     788\n",
       "Name: count, dtype: int64"
      ]
     },
     "execution_count": 44,
     "metadata": {},
     "output_type": "execute_result"
    }
   ],
   "source": [
    "not_supported_queries_df[\"variant_accepted\"].value_counts()"
   ]
  },
  {
   "cell_type": "markdown",
   "metadata": {},
   "source": [
    "### Not Supported Variant Analysis by Subcategory "
   ]
  },
  {
   "cell_type": "code",
   "execution_count": 45,
   "metadata": {},
   "outputs": [],
   "source": [
    "not_supported_variant_analysis_summary = {\n",
    "    \"Category\": VARIANT_CATEGORY_VALUES,\n",
    "    \"Count of CIViC Variant Items per Category\":[],\n",
    "    \"Fraction of Not Supported Variant Items\": [],\n",
    "    \"Percent of Not Supported Variant Items\": [],\n",
    "    \"Fraction of all CIViC Variant Items\": [],\n",
    "    \"Percent of all CIViC Variant Items\": [],\n",
    "    \"Fraction of Accepted Variant Items\": [],\n",
    "    \"Percent of Accepted Variant Items\": [],\n",
    "    \"Fraction of Not Accepted Variant Items\": [],\n",
    "    \"Percent of Not Accepted Variant Items\": []\n",
    "}"
   ]
  },
  {
   "cell_type": "code",
   "execution_count": 46,
   "metadata": {},
   "outputs": [],
   "source": [
    "not_supported_variant_categories_summary_data = dict()\n",
    "total_number_unique_not_supported_variants = len(set(not_supported_queries_df.variant_id))\n",
    "\n",
    "for category in VARIANT_CATEGORY_VALUES:  # These are not supported categories\n",
    "    not_supported_variant_categories_summary_data[category] = {}\n",
    "    category_df = not_supported_queries_df[not_supported_queries_df.category == category]\n",
    "\n",
    "    # Count\n",
    "    number_unique_not_supported_category_variants = len(set(category_df.variant_id))\n",
    "    not_supported_variant_categories_summary_data[category][\"number_unique_not_supported_category_variants\"] = number_unique_not_supported_category_variants\n",
    "\n",
    "    # Fraction\n",
    "    fraction_not_supported_category_variant_of_civic = f\"{number_unique_not_supported_category_variants} / {total_number_variants}\"\n",
    "    not_supported_variant_categories_summary_data[category][\"fraction_not_supported_category_variant_of_civic\"] = fraction_not_supported_category_variant_of_civic\n",
    "\n",
    "    # Percent\n",
    "    percent_not_supported_category_variant_of_civic = f\"{number_unique_not_supported_category_variants / total_number_variants * 100:.2f}%\"\n",
    "    not_supported_variant_categories_summary_data[category][\"percent_not_supported_category_variant_of_civic\"] = percent_not_supported_category_variant_of_civic\n",
    "\n",
    "    # Not supported fraction\n",
    "    fraction_not_supported_category_variant_of_total_not_supported = f\"{number_unique_not_supported_category_variants} / {total_number_unique_not_supported_variants}\"\n",
    "    not_supported_variant_categories_summary_data[category][\"fraction_not_supported_category_variant_of_total_not_supported\"] = fraction_not_supported_category_variant_of_total_not_supported\n",
    "\n",
    "    # Not supported percent\n",
    "    percent_not_supported_category_variant_of_total_not_supported = f\"{number_unique_not_supported_category_variants / total_number_unique_not_supported_variants * 100:.2f}%\"\n",
    "    not_supported_variant_categories_summary_data[category][\"percent_not_supported_category_variant_of_total_not_supported\"] = percent_not_supported_category_variant_of_total_not_supported\n",
    "\n",
    "    # Accepted fraction\n",
    "    number_accepted_not_supported_category_variants = category_df.variant_accepted.sum()\n",
    "    fraction_accepted_not_supported_category_variants = f\"{number_accepted_not_supported_category_variants} / {number_unique_not_supported_category_variants}\"\n",
    "    not_supported_variant_categories_summary_data[category][\"fraction_accepted_not_supported_category_variants\"] = fraction_accepted_not_supported_category_variants\n",
    "\n",
    "    # Accepted percent\n",
    "    percentage_accepted_not_supported_category_variants = f\"{number_accepted_not_supported_category_variants / number_unique_not_supported_category_variants * 100:.2f}%\"\n",
    "    not_supported_variant_categories_summary_data[category][\"percentage_accepted_not_supported_category_variants\"] = percentage_accepted_not_supported_category_variants\n",
    "\n",
    "    # Not accepted fraction\n",
    "    number_not_accepted_not_supported_category_variants = len(category_df) - number_accepted_not_supported_category_variants\n",
    "    fraction_not_accepted_not_supported_category_variants = f\" {number_not_accepted_not_supported_category_variants} / {number_unique_not_supported_category_variants}\"\n",
    "    not_supported_variant_categories_summary_data[category][\"fraction_not_accepted_not_supported_category_variants\"] = fraction_not_accepted_not_supported_category_variants\n",
    "\n",
    "    # Not accepted percent\n",
    "    percentage_not_accepted_not_supported_category_variants = f\"{number_not_accepted_not_supported_category_variants / number_unique_not_supported_category_variants * 100:.2f}%\"\n",
    "    not_supported_variant_categories_summary_data[category][\"percentage_not_accepted_not_supported_category_variants\"] = percentage_not_accepted_not_supported_category_variants\n",
    "\n",
    "    not_supported_variant_analysis_summary[\"Count of CIViC Variant Items per Category\"].append(number_unique_not_supported_category_variants)\n",
    "    not_supported_variant_analysis_summary[\"Fraction of all CIViC Variant Items\"].append(fraction_not_supported_category_variant_of_civic)\n",
    "    not_supported_variant_analysis_summary[\"Percent of all CIViC Variant Items\"].append(percent_not_supported_category_variant_of_civic)\n",
    "    not_supported_variant_analysis_summary[\"Fraction of Not Supported Variant Items\"].append(fraction_not_supported_category_variant_of_total_not_supported)\n",
    "    not_supported_variant_analysis_summary[\"Percent of Not Supported Variant Items\"].append(percent_not_supported_category_variant_of_total_not_supported)\n",
    "    not_supported_variant_analysis_summary[\"Fraction of Accepted Variant Items\"].append(fraction_accepted_not_supported_category_variants)\n",
    "    not_supported_variant_analysis_summary[\"Percent of Accepted Variant Items\"].append(percentage_accepted_not_supported_category_variants)\n",
    "    not_supported_variant_analysis_summary[\"Fraction of Not Accepted Variant Items\"].append(fraction_not_accepted_not_supported_category_variants)\n",
    "    not_supported_variant_analysis_summary[\"Percent of Not Accepted Variant Items\"].append(percentage_not_accepted_not_supported_category_variants)"
   ]
  },
  {
   "attachments": {},
   "cell_type": "markdown",
   "metadata": {},
   "source": [
    "## Transform df for evidence analysis"
   ]
  },
  {
   "cell_type": "code",
   "execution_count": 47,
   "metadata": {},
   "outputs": [
    {
     "data": {
      "text/html": [
       "<div>\n",
       "<style scoped>\n",
       "    .dataframe tbody tr th:only-of-type {\n",
       "        vertical-align: middle;\n",
       "    }\n",
       "\n",
       "    .dataframe tbody tr th {\n",
       "        vertical-align: top;\n",
       "    }\n",
       "\n",
       "    .dataframe thead th {\n",
       "        text-align: right;\n",
       "    }\n",
       "</style>\n",
       "<table border=\"1\" class=\"dataframe\">\n",
       "  <thead>\n",
       "    <tr style=\"text-align: right;\">\n",
       "      <th></th>\n",
       "      <th>variant_id</th>\n",
       "      <th>gene_name</th>\n",
       "      <th>variant_name</th>\n",
       "      <th>category</th>\n",
       "      <th>variant_accepted</th>\n",
       "      <th>evidence_id</th>\n",
       "    </tr>\n",
       "  </thead>\n",
       "  <tbody>\n",
       "    <tr>\n",
       "      <th>0</th>\n",
       "      <td>4170</td>\n",
       "      <td>VHL</td>\n",
       "      <td>NaN</td>\n",
       "      <td>Transcript Variant</td>\n",
       "      <td>False</td>\n",
       "      <td>10647</td>\n",
       "    </tr>\n",
       "    <tr>\n",
       "      <th>1</th>\n",
       "      <td>4417</td>\n",
       "      <td>ALK</td>\n",
       "      <td>FBXO11::ALK</td>\n",
       "      <td>Fusion</td>\n",
       "      <td>False</td>\n",
       "      <td>7428</td>\n",
       "    </tr>\n",
       "    <tr>\n",
       "      <th>2</th>\n",
       "      <td>4214</td>\n",
       "      <td>VHL</td>\n",
       "      <td>NaN</td>\n",
       "      <td>Transcript Variant</td>\n",
       "      <td>False</td>\n",
       "      <td>10752</td>\n",
       "    </tr>\n",
       "    <tr>\n",
       "      <th>3</th>\n",
       "      <td>4216</td>\n",
       "      <td>VHL</td>\n",
       "      <td>NaN</td>\n",
       "      <td>Transcript Variant</td>\n",
       "      <td>False</td>\n",
       "      <td>10754</td>\n",
       "    </tr>\n",
       "    <tr>\n",
       "      <th>4</th>\n",
       "      <td>4278</td>\n",
       "      <td>VHL</td>\n",
       "      <td>NaN</td>\n",
       "      <td>Transcript Variant</td>\n",
       "      <td>False</td>\n",
       "      <td>10958</td>\n",
       "    </tr>\n",
       "  </tbody>\n",
       "</table>\n",
       "</div>"
      ],
      "text/plain": [
       "   variant_id gene_name  variant_name            category  variant_accepted   \n",
       "0        4170       VHL           NaN  Transcript Variant             False  \\\n",
       "1        4417       ALK   FBXO11::ALK              Fusion             False   \n",
       "2        4214       VHL           NaN  Transcript Variant             False   \n",
       "3        4216       VHL           NaN  Transcript Variant             False   \n",
       "4        4278       VHL           NaN  Transcript Variant             False   \n",
       "\n",
       "  evidence_id  \n",
       "0       10647  \n",
       "1        7428  \n",
       "2       10752  \n",
       "3       10754  \n",
       "4       10958  "
      ]
     },
     "execution_count": 47,
     "metadata": {},
     "output_type": "execute_result"
    }
   ],
   "source": [
    "not_supported_variants_add_evidence_df = transform_df_evidence_ids(not_supported_queries_df)\n",
    "not_supported_variants_add_evidence_df.head()"
   ]
  },
  {
   "cell_type": "code",
   "execution_count": 48,
   "metadata": {},
   "outputs": [
    {
     "data": {
      "text/html": [
       "<div>\n",
       "<style scoped>\n",
       "    .dataframe tbody tr th:only-of-type {\n",
       "        vertical-align: middle;\n",
       "    }\n",
       "\n",
       "    .dataframe tbody tr th {\n",
       "        vertical-align: top;\n",
       "    }\n",
       "\n",
       "    .dataframe thead th {\n",
       "        text-align: right;\n",
       "    }\n",
       "</style>\n",
       "<table border=\"1\" class=\"dataframe\">\n",
       "  <thead>\n",
       "    <tr style=\"text-align: right;\">\n",
       "      <th></th>\n",
       "      <th>variant_id</th>\n",
       "      <th>gene_name</th>\n",
       "      <th>variant_name</th>\n",
       "      <th>category</th>\n",
       "      <th>variant_accepted</th>\n",
       "      <th>evidence_id</th>\n",
       "    </tr>\n",
       "  </thead>\n",
       "  <tbody>\n",
       "    <tr>\n",
       "      <th>62</th>\n",
       "      <td>1027</td>\n",
       "      <td>ABL1</td>\n",
       "      <td>BCR::ABL D276G</td>\n",
       "      <td>Fusion</td>\n",
       "      <td>True</td>\n",
       "      <td></td>\n",
       "    </tr>\n",
       "    <tr>\n",
       "      <th>118</th>\n",
       "      <td>4508</td>\n",
       "      <td>ABL1</td>\n",
       "      <td>BCR::ABL T315I</td>\n",
       "      <td>Fusion</td>\n",
       "      <td>False</td>\n",
       "      <td></td>\n",
       "    </tr>\n",
       "    <tr>\n",
       "      <th>126</th>\n",
       "      <td>1025</td>\n",
       "      <td>ABL1</td>\n",
       "      <td>BCR::ABL Y253H</td>\n",
       "      <td>Fusion</td>\n",
       "      <td>True</td>\n",
       "      <td></td>\n",
       "    </tr>\n",
       "    <tr>\n",
       "      <th>268</th>\n",
       "      <td>4270</td>\n",
       "      <td>EGFR</td>\n",
       "      <td>EGFR ITD</td>\n",
       "      <td>Rearrangements</td>\n",
       "      <td>False</td>\n",
       "      <td></td>\n",
       "    </tr>\n",
       "    <tr>\n",
       "      <th>285</th>\n",
       "      <td>4020</td>\n",
       "      <td>EML4</td>\n",
       "      <td>EML4::NTRK3</td>\n",
       "      <td>Fusion</td>\n",
       "      <td>False</td>\n",
       "      <td></td>\n",
       "    </tr>\n",
       "    <tr>\n",
       "      <th>503</th>\n",
       "      <td>3149</td>\n",
       "      <td>RELA</td>\n",
       "      <td>FUSION</td>\n",
       "      <td>Fusion</td>\n",
       "      <td>False</td>\n",
       "      <td></td>\n",
       "    </tr>\n",
       "    <tr>\n",
       "      <th>715</th>\n",
       "      <td>3225</td>\n",
       "      <td>NTRK1</td>\n",
       "      <td>LMNA::NTRK1 e11-e10</td>\n",
       "      <td>Fusion</td>\n",
       "      <td>True</td>\n",
       "      <td></td>\n",
       "    </tr>\n",
       "    <tr>\n",
       "      <th>716</th>\n",
       "      <td>3223</td>\n",
       "      <td>NTRK1</td>\n",
       "      <td>LMNA::NTRK1 e2-e10</td>\n",
       "      <td>Fusion</td>\n",
       "      <td>True</td>\n",
       "      <td></td>\n",
       "    </tr>\n",
       "    <tr>\n",
       "      <th>717</th>\n",
       "      <td>3224</td>\n",
       "      <td>NTRK1</td>\n",
       "      <td>LMNA::NTRK1 e2-e11</td>\n",
       "      <td>Fusion</td>\n",
       "      <td>True</td>\n",
       "      <td></td>\n",
       "    </tr>\n",
       "  </tbody>\n",
       "</table>\n",
       "</div>"
      ],
      "text/plain": [
       "     variant_id gene_name         variant_name        category   \n",
       "62         1027      ABL1       BCR::ABL D276G          Fusion  \\\n",
       "118        4508      ABL1       BCR::ABL T315I          Fusion   \n",
       "126        1025      ABL1       BCR::ABL Y253H          Fusion   \n",
       "268        4270      EGFR             EGFR ITD  Rearrangements   \n",
       "285        4020      EML4          EML4::NTRK3          Fusion   \n",
       "503        3149      RELA               FUSION          Fusion   \n",
       "715        3225     NTRK1  LMNA::NTRK1 e11-e10          Fusion   \n",
       "716        3223     NTRK1   LMNA::NTRK1 e2-e10          Fusion   \n",
       "717        3224     NTRK1   LMNA::NTRK1 e2-e11          Fusion   \n",
       "\n",
       "     variant_accepted evidence_id  \n",
       "62               True              \n",
       "118             False              \n",
       "126              True              \n",
       "268             False              \n",
       "285             False              \n",
       "503             False              \n",
       "715              True              \n",
       "716              True              \n",
       "717              True              "
      ]
     },
     "execution_count": 48,
     "metadata": {},
     "output_type": "execute_result"
    }
   ],
   "source": [
    "not_supported_variants_add_evidence_df.loc[not_supported_variants_add_evidence_df['evidence_id'] == '']"
   ]
  },
  {
   "cell_type": "code",
   "execution_count": 49,
   "metadata": {},
   "outputs": [
    {
     "data": {
      "text/html": [
       "<div>\n",
       "<style scoped>\n",
       "    .dataframe tbody tr th:only-of-type {\n",
       "        vertical-align: middle;\n",
       "    }\n",
       "\n",
       "    .dataframe tbody tr th {\n",
       "        vertical-align: top;\n",
       "    }\n",
       "\n",
       "    .dataframe thead th {\n",
       "        text-align: right;\n",
       "    }\n",
       "</style>\n",
       "<table border=\"1\" class=\"dataframe\">\n",
       "  <thead>\n",
       "    <tr style=\"text-align: right;\">\n",
       "      <th></th>\n",
       "      <th>variant_id</th>\n",
       "      <th>gene_name</th>\n",
       "      <th>variant_name</th>\n",
       "      <th>category</th>\n",
       "      <th>variant_accepted</th>\n",
       "      <th>evidence_id</th>\n",
       "      <th>evidence_status</th>\n",
       "      <th>evidence_rating</th>\n",
       "      <th>evidence_level</th>\n",
       "    </tr>\n",
       "  </thead>\n",
       "  <tbody>\n",
       "    <tr>\n",
       "      <th>0</th>\n",
       "      <td>4170</td>\n",
       "      <td>VHL</td>\n",
       "      <td>NaN</td>\n",
       "      <td>Transcript Variant</td>\n",
       "      <td>False</td>\n",
       "      <td>10647</td>\n",
       "      <td>submitted</td>\n",
       "      <td>[2]</td>\n",
       "      <td>[C]</td>\n",
       "    </tr>\n",
       "    <tr>\n",
       "      <th>1</th>\n",
       "      <td>4417</td>\n",
       "      <td>ALK</td>\n",
       "      <td>FBXO11::ALK</td>\n",
       "      <td>Fusion</td>\n",
       "      <td>False</td>\n",
       "      <td>7428</td>\n",
       "      <td>submitted</td>\n",
       "      <td>[3]</td>\n",
       "      <td>[C]</td>\n",
       "    </tr>\n",
       "    <tr>\n",
       "      <th>2</th>\n",
       "      <td>4214</td>\n",
       "      <td>VHL</td>\n",
       "      <td>NaN</td>\n",
       "      <td>Transcript Variant</td>\n",
       "      <td>False</td>\n",
       "      <td>10752</td>\n",
       "      <td>submitted</td>\n",
       "      <td>[3]</td>\n",
       "      <td>[C]</td>\n",
       "    </tr>\n",
       "    <tr>\n",
       "      <th>3</th>\n",
       "      <td>4216</td>\n",
       "      <td>VHL</td>\n",
       "      <td>NaN</td>\n",
       "      <td>Transcript Variant</td>\n",
       "      <td>False</td>\n",
       "      <td>10754</td>\n",
       "      <td>submitted</td>\n",
       "      <td>[3]</td>\n",
       "      <td>[C]</td>\n",
       "    </tr>\n",
       "    <tr>\n",
       "      <th>4</th>\n",
       "      <td>4278</td>\n",
       "      <td>VHL</td>\n",
       "      <td>NaN</td>\n",
       "      <td>Transcript Variant</td>\n",
       "      <td>False</td>\n",
       "      <td>10958</td>\n",
       "      <td>submitted</td>\n",
       "      <td>[3]</td>\n",
       "      <td>[C]</td>\n",
       "    </tr>\n",
       "  </tbody>\n",
       "</table>\n",
       "</div>"
      ],
      "text/plain": [
       "   variant_id gene_name  variant_name            category  variant_accepted   \n",
       "0        4170       VHL           NaN  Transcript Variant             False  \\\n",
       "1        4417       ALK   FBXO11::ALK              Fusion             False   \n",
       "2        4214       VHL           NaN  Transcript Variant             False   \n",
       "3        4216       VHL           NaN  Transcript Variant             False   \n",
       "4        4278       VHL           NaN  Transcript Variant             False   \n",
       "\n",
       "  evidence_id evidence_status evidence_rating evidence_level  \n",
       "0       10647       submitted             [2]            [C]  \n",
       "1        7428       submitted             [3]            [C]  \n",
       "2       10752       submitted             [3]            [C]  \n",
       "3       10754       submitted             [3]            [C]  \n",
       "4       10958       submitted             [3]            [C]  "
      ]
     },
     "execution_count": 49,
     "metadata": {},
     "output_type": "execute_result"
    }
   ],
   "source": [
    "not_supported_variants_add_evidence_df = transform_df_evidence(not_supported_variants_add_evidence_df)\n",
    "not_supported_variants_add_evidence_df.head()"
   ]
  },
  {
   "cell_type": "markdown",
   "metadata": {},
   "source": [
    "## Evidence analysis"
   ]
  },
  {
   "cell_type": "code",
   "execution_count": 50,
   "metadata": {},
   "outputs": [
    {
     "name": "stdout",
     "output_type": "stream",
     "text": [
      "Number of Not Supported Variant Evidence items in CIViC: 4369 / 9914\n",
      "Percentage of Not Supported Variant Evidence items in CIViC: 44.07%\n",
      "\n",
      "Number of accepted Not Supported Variant Evidence items: 2215 / 4369\n",
      "Percentage of accepted Not Supported Variant Evidence items: 50.70%\n",
      "\n",
      "Number of submitted Not Supported Variant Evidence items: 2154 / 4369\n",
      "Percentage of not submitted Not Supported Variant Evidence items: 49.30%\n"
     ]
    },
    {
     "data": {
      "text/html": [
       "<div>\n",
       "<style scoped>\n",
       "    .dataframe tbody tr th:only-of-type {\n",
       "        vertical-align: middle;\n",
       "    }\n",
       "\n",
       "    .dataframe tbody tr th {\n",
       "        vertical-align: top;\n",
       "    }\n",
       "\n",
       "    .dataframe thead th {\n",
       "        text-align: right;\n",
       "    }\n",
       "</style>\n",
       "<table border=\"1\" class=\"dataframe\">\n",
       "  <thead>\n",
       "    <tr style=\"text-align: right;\">\n",
       "      <th></th>\n",
       "      <th>variant_id</th>\n",
       "      <th>gene_name</th>\n",
       "      <th>variant_name</th>\n",
       "      <th>category</th>\n",
       "      <th>variant_accepted</th>\n",
       "      <th>evidence_id</th>\n",
       "      <th>evidence_status</th>\n",
       "      <th>evidence_rating</th>\n",
       "      <th>evidence_level</th>\n",
       "      <th>evidence_accepted</th>\n",
       "    </tr>\n",
       "  </thead>\n",
       "  <tbody>\n",
       "    <tr>\n",
       "      <th>0</th>\n",
       "      <td>4170</td>\n",
       "      <td>VHL</td>\n",
       "      <td>NaN</td>\n",
       "      <td>Transcript Variant</td>\n",
       "      <td>False</td>\n",
       "      <td>10647</td>\n",
       "      <td>submitted</td>\n",
       "      <td>[2]</td>\n",
       "      <td>[C]</td>\n",
       "      <td>False</td>\n",
       "    </tr>\n",
       "    <tr>\n",
       "      <th>1</th>\n",
       "      <td>4417</td>\n",
       "      <td>ALK</td>\n",
       "      <td>FBXO11::ALK</td>\n",
       "      <td>Fusion</td>\n",
       "      <td>False</td>\n",
       "      <td>7428</td>\n",
       "      <td>submitted</td>\n",
       "      <td>[3]</td>\n",
       "      <td>[C]</td>\n",
       "      <td>False</td>\n",
       "    </tr>\n",
       "    <tr>\n",
       "      <th>2</th>\n",
       "      <td>4214</td>\n",
       "      <td>VHL</td>\n",
       "      <td>NaN</td>\n",
       "      <td>Transcript Variant</td>\n",
       "      <td>False</td>\n",
       "      <td>10752</td>\n",
       "      <td>submitted</td>\n",
       "      <td>[3]</td>\n",
       "      <td>[C]</td>\n",
       "      <td>False</td>\n",
       "    </tr>\n",
       "    <tr>\n",
       "      <th>3</th>\n",
       "      <td>4216</td>\n",
       "      <td>VHL</td>\n",
       "      <td>NaN</td>\n",
       "      <td>Transcript Variant</td>\n",
       "      <td>False</td>\n",
       "      <td>10754</td>\n",
       "      <td>submitted</td>\n",
       "      <td>[3]</td>\n",
       "      <td>[C]</td>\n",
       "      <td>False</td>\n",
       "    </tr>\n",
       "    <tr>\n",
       "      <th>4</th>\n",
       "      <td>4278</td>\n",
       "      <td>VHL</td>\n",
       "      <td>NaN</td>\n",
       "      <td>Transcript Variant</td>\n",
       "      <td>False</td>\n",
       "      <td>10958</td>\n",
       "      <td>submitted</td>\n",
       "      <td>[3]</td>\n",
       "      <td>[C]</td>\n",
       "      <td>False</td>\n",
       "    </tr>\n",
       "  </tbody>\n",
       "</table>\n",
       "</div>"
      ],
      "text/plain": [
       "   variant_id gene_name  variant_name            category  variant_accepted   \n",
       "0        4170       VHL           NaN  Transcript Variant             False  \\\n",
       "1        4417       ALK   FBXO11::ALK              Fusion             False   \n",
       "2        4214       VHL           NaN  Transcript Variant             False   \n",
       "3        4216       VHL           NaN  Transcript Variant             False   \n",
       "4        4278       VHL           NaN  Transcript Variant             False   \n",
       "\n",
       "  evidence_id evidence_status evidence_rating evidence_level evidence_accepted  \n",
       "0       10647       submitted             [2]            [C]             False  \n",
       "1        7428       submitted             [3]            [C]             False  \n",
       "2       10752       submitted             [3]            [C]             False  \n",
       "3       10754       submitted             [3]            [C]             False  \n",
       "4       10958       submitted             [3]            [C]             False  "
      ]
     },
     "execution_count": 50,
     "metadata": {},
     "output_type": "execute_result"
    }
   ],
   "source": [
    "not_supported_variants_add_evidence_df = evidence_analysis(not_supported_variants_add_evidence_df, VariantNormType.NOT_SUPPORTED)\n",
    "not_supported_variants_add_evidence_df.head()"
   ]
  },
  {
   "cell_type": "markdown",
   "metadata": {},
   "source": [
    "### Not Supported Variant Evidence Analysis by Subcategory "
   ]
  },
  {
   "cell_type": "markdown",
   "metadata": {},
   "source": [
    " List all the possible variant categories, have to use non unique file since evidence items are used more than once across groups\n"
   ]
  },
  {
   "cell_type": "code",
   "execution_count": 51,
   "metadata": {},
   "outputs": [
    {
     "data": {
      "text/plain": [
       "['Transcript Variant',\n",
       " 'Fusion',\n",
       " 'Region Defined Variant',\n",
       " 'Protein Consequence',\n",
       " 'Other',\n",
       " 'Rearrangements',\n",
       " 'Copy Number',\n",
       " 'Expression',\n",
       " 'Gene Function',\n",
       " 'Genotypes Compound',\n",
       " 'Epigenetic Modification',\n",
       " 'Genotypes Easy']"
      ]
     },
     "execution_count": 51,
     "metadata": {},
     "output_type": "execute_result"
    }
   ],
   "source": [
    "not_supported_variant_categories = not_supported_variants_add_evidence_df.category.unique()\n",
    "[v for v in not_supported_variant_categories]"
   ]
  },
  {
   "attachments": {},
   "cell_type": "markdown",
   "metadata": {},
   "source": [
    "Evidence ID's can qualify for more than one kind of variant category"
   ]
  },
  {
   "cell_type": "code",
   "execution_count": 52,
   "metadata": {},
   "outputs": [
    {
     "data": {
      "text/html": [
       "<div>\n",
       "<style scoped>\n",
       "    .dataframe tbody tr th:only-of-type {\n",
       "        vertical-align: middle;\n",
       "    }\n",
       "\n",
       "    .dataframe tbody tr th {\n",
       "        vertical-align: top;\n",
       "    }\n",
       "\n",
       "    .dataframe thead th {\n",
       "        text-align: right;\n",
       "    }\n",
       "</style>\n",
       "<table border=\"1\" class=\"dataframe\">\n",
       "  <thead>\n",
       "    <tr style=\"text-align: right;\">\n",
       "      <th></th>\n",
       "      <th>variant_id</th>\n",
       "      <th>gene_name</th>\n",
       "      <th>variant_name</th>\n",
       "      <th>category</th>\n",
       "      <th>variant_accepted</th>\n",
       "      <th>evidence_id</th>\n",
       "      <th>evidence_status</th>\n",
       "      <th>evidence_rating</th>\n",
       "      <th>evidence_level</th>\n",
       "      <th>evidence_accepted</th>\n",
       "    </tr>\n",
       "  </thead>\n",
       "  <tbody>\n",
       "  </tbody>\n",
       "</table>\n",
       "</div>"
      ],
      "text/plain": [
       "Empty DataFrame\n",
       "Columns: [variant_id, gene_name, variant_name, category, variant_accepted, evidence_id, evidence_status, evidence_rating, evidence_level, evidence_accepted]\n",
       "Index: []"
      ]
     },
     "execution_count": 52,
     "metadata": {},
     "output_type": "execute_result"
    }
   ],
   "source": [
    "duplicate = not_supported_variants_add_evidence_df[not_supported_variants_add_evidence_df.duplicated(\"evidence_id\", keep=False)]\n",
    "duplicate"
   ]
  },
  {
   "cell_type": "code",
   "execution_count": 379,
   "metadata": {},
   "outputs": [
    {
     "data": {
      "text/html": [
       "<div>\n",
       "<style scoped>\n",
       "    .dataframe tbody tr th:only-of-type {\n",
       "        vertical-align: middle;\n",
       "    }\n",
       "\n",
       "    .dataframe tbody tr th {\n",
       "        vertical-align: top;\n",
       "    }\n",
       "\n",
       "    .dataframe thead th {\n",
       "        text-align: right;\n",
       "    }\n",
       "</style>\n",
       "<table border=\"1\" class=\"dataframe\">\n",
       "  <thead>\n",
       "    <tr style=\"text-align: right;\">\n",
       "      <th></th>\n",
       "      <th>variant_id</th>\n",
       "      <th>gene_name</th>\n",
       "      <th>variant_name</th>\n",
       "      <th>category</th>\n",
       "      <th>variant_accepted</th>\n",
       "      <th>evidence_id</th>\n",
       "      <th>evidence_status</th>\n",
       "      <th>evidence_rating</th>\n",
       "      <th>evidence_level</th>\n",
       "      <th>evidence_accepted</th>\n",
       "      <th>evidence_score</th>\n",
       "    </tr>\n",
       "  </thead>\n",
       "  <tbody>\n",
       "    <tr>\n",
       "      <th>0</th>\n",
       "      <td>4170</td>\n",
       "      <td>VHL</td>\n",
       "      <td>NaN</td>\n",
       "      <td>Transcript Variant</td>\n",
       "      <td>False</td>\n",
       "      <td>10647</td>\n",
       "      <td>submitted</td>\n",
       "      <td>[2]</td>\n",
       "      <td>[C]</td>\n",
       "      <td>False</td>\n",
       "      <td></td>\n",
       "    </tr>\n",
       "    <tr>\n",
       "      <th>1</th>\n",
       "      <td>4417</td>\n",
       "      <td>ALK</td>\n",
       "      <td>FBXO11::ALK</td>\n",
       "      <td>Fusion</td>\n",
       "      <td>False</td>\n",
       "      <td>7428</td>\n",
       "      <td>submitted</td>\n",
       "      <td>[3]</td>\n",
       "      <td>[C]</td>\n",
       "      <td>False</td>\n",
       "      <td></td>\n",
       "    </tr>\n",
       "    <tr>\n",
       "      <th>2</th>\n",
       "      <td>4214</td>\n",
       "      <td>VHL</td>\n",
       "      <td>NaN</td>\n",
       "      <td>Transcript Variant</td>\n",
       "      <td>False</td>\n",
       "      <td>10752</td>\n",
       "      <td>submitted</td>\n",
       "      <td>[3]</td>\n",
       "      <td>[C]</td>\n",
       "      <td>False</td>\n",
       "      <td></td>\n",
       "    </tr>\n",
       "    <tr>\n",
       "      <th>3</th>\n",
       "      <td>4216</td>\n",
       "      <td>VHL</td>\n",
       "      <td>NaN</td>\n",
       "      <td>Transcript Variant</td>\n",
       "      <td>False</td>\n",
       "      <td>10754</td>\n",
       "      <td>submitted</td>\n",
       "      <td>[3]</td>\n",
       "      <td>[C]</td>\n",
       "      <td>False</td>\n",
       "      <td></td>\n",
       "    </tr>\n",
       "    <tr>\n",
       "      <th>4</th>\n",
       "      <td>4278</td>\n",
       "      <td>VHL</td>\n",
       "      <td>NaN</td>\n",
       "      <td>Transcript Variant</td>\n",
       "      <td>False</td>\n",
       "      <td>10958</td>\n",
       "      <td>submitted</td>\n",
       "      <td>[3]</td>\n",
       "      <td>[C]</td>\n",
       "      <td>False</td>\n",
       "      <td></td>\n",
       "    </tr>\n",
       "    <tr>\n",
       "      <th>...</th>\n",
       "      <td>...</td>\n",
       "      <td>...</td>\n",
       "      <td>...</td>\n",
       "      <td>...</td>\n",
       "      <td>...</td>\n",
       "      <td>...</td>\n",
       "      <td>...</td>\n",
       "      <td>...</td>\n",
       "      <td>...</td>\n",
       "      <td>...</td>\n",
       "      <td>...</td>\n",
       "    </tr>\n",
       "    <tr>\n",
       "      <th>1619</th>\n",
       "      <td>3478</td>\n",
       "      <td>ESR2</td>\n",
       "      <td>underexpression beta-1</td>\n",
       "      <td>Other</td>\n",
       "      <td>False</td>\n",
       "      <td>9618</td>\n",
       "      <td>submitted</td>\n",
       "      <td>[4]</td>\n",
       "      <td>[B]</td>\n",
       "      <td>False</td>\n",
       "      <td></td>\n",
       "    </tr>\n",
       "    <tr>\n",
       "      <th>1619</th>\n",
       "      <td>3478</td>\n",
       "      <td>ESR2</td>\n",
       "      <td>underexpression beta-1</td>\n",
       "      <td>Other</td>\n",
       "      <td>False</td>\n",
       "      <td>9619</td>\n",
       "      <td>submitted</td>\n",
       "      <td>[4]</td>\n",
       "      <td>[B]</td>\n",
       "      <td>False</td>\n",
       "      <td></td>\n",
       "    </tr>\n",
       "    <tr>\n",
       "      <th>1620</th>\n",
       "      <td>3508</td>\n",
       "      <td>CD274</td>\n",
       "      <td>v242</td>\n",
       "      <td>Protein Consequence</td>\n",
       "      <td>False</td>\n",
       "      <td>9695</td>\n",
       "      <td>submitted</td>\n",
       "      <td>[4]</td>\n",
       "      <td>[E]</td>\n",
       "      <td>False</td>\n",
       "      <td></td>\n",
       "    </tr>\n",
       "    <tr>\n",
       "      <th>1621</th>\n",
       "      <td>2422</td>\n",
       "      <td>NTRK3</td>\n",
       "      <td>~DEPRECATED-ETV6-NTRK3</td>\n",
       "      <td>Other</td>\n",
       "      <td>False</td>\n",
       "      <td>10692</td>\n",
       "      <td>submitted</td>\n",
       "      <td>[3]</td>\n",
       "      <td>[C]</td>\n",
       "      <td>False</td>\n",
       "      <td></td>\n",
       "    </tr>\n",
       "    <tr>\n",
       "      <th>1621</th>\n",
       "      <td>2422</td>\n",
       "      <td>NTRK3</td>\n",
       "      <td>~DEPRECATED-ETV6-NTRK3</td>\n",
       "      <td>Other</td>\n",
       "      <td>False</td>\n",
       "      <td>10717</td>\n",
       "      <td>submitted</td>\n",
       "      <td>[3]</td>\n",
       "      <td>[C]</td>\n",
       "      <td>False</td>\n",
       "      <td></td>\n",
       "    </tr>\n",
       "  </tbody>\n",
       "</table>\n",
       "<p>4369 rows × 11 columns</p>\n",
       "</div>"
      ],
      "text/plain": [
       "      variant_id gene_name            variant_name             category   \n",
       "0           4170       VHL                     NaN   Transcript Variant  \\\n",
       "1           4417       ALK             FBXO11::ALK               Fusion   \n",
       "2           4214       VHL                     NaN   Transcript Variant   \n",
       "3           4216       VHL                     NaN   Transcript Variant   \n",
       "4           4278       VHL                     NaN   Transcript Variant   \n",
       "...          ...       ...                     ...                  ...   \n",
       "1619        3478      ESR2  underexpression beta-1                Other   \n",
       "1619        3478      ESR2  underexpression beta-1                Other   \n",
       "1620        3508     CD274                    v242  Protein Consequence   \n",
       "1621        2422     NTRK3  ~DEPRECATED-ETV6-NTRK3                Other   \n",
       "1621        2422     NTRK3  ~DEPRECATED-ETV6-NTRK3                Other   \n",
       "\n",
       "      variant_accepted evidence_id evidence_status evidence_rating   \n",
       "0                False       10647       submitted             [2]  \\\n",
       "1                False        7428       submitted             [3]   \n",
       "2                False       10752       submitted             [3]   \n",
       "3                False       10754       submitted             [3]   \n",
       "4                False       10958       submitted             [3]   \n",
       "...                ...         ...             ...             ...   \n",
       "1619             False        9618       submitted             [4]   \n",
       "1619             False        9619       submitted             [4]   \n",
       "1620             False        9695       submitted             [4]   \n",
       "1621             False       10692       submitted             [3]   \n",
       "1621             False       10717       submitted             [3]   \n",
       "\n",
       "     evidence_level evidence_accepted evidence_score  \n",
       "0               [C]             False                 \n",
       "1               [C]             False                 \n",
       "2               [C]             False                 \n",
       "3               [C]             False                 \n",
       "4               [C]             False                 \n",
       "...             ...               ...            ...  \n",
       "1619            [B]             False                 \n",
       "1619            [B]             False                 \n",
       "1620            [E]             False                 \n",
       "1621            [C]             False                 \n",
       "1621            [C]             False                 \n",
       "\n",
       "[4369 rows x 11 columns]"
      ]
     },
     "execution_count": 379,
     "metadata": {},
     "output_type": "execute_result"
    }
   ],
   "source": [
    "df = not_supported_variants_add_evidence_df.copy()\n",
    "df[\"evidence_score\"] = ''\n",
    "df"
   ]
  },
  {
   "cell_type": "code",
   "execution_count": 381,
   "metadata": {},
   "outputs": [],
   "source": [
    "df_na = df[(df[(\"evidence_accepted\")]!=False) & df[\"evidence_accepted\"].isna()].copy()\n",
    "df_na.to_csv('../civic_variants_lacking_any_evidence_df.csv', index=True)"
   ]
  },
  {
   "cell_type": "code",
   "execution_count": 301,
   "metadata": {},
   "outputs": [
    {
     "data": {
      "text/plain": [
       "variant_accepted\n",
       "True     2208\n",
       "False       7\n",
       "Name: count, dtype: int64"
      ]
     },
     "execution_count": 301,
     "metadata": {},
     "output_type": "execute_result"
    }
   ],
   "source": [
    "df = df[(df[(\"evidence_accepted\")]!=False) & df[\"evidence_accepted\"].notna()].copy()\n",
    "df['variant_accepted'].value_counts()"
   ]
  },
  {
   "cell_type": "code",
   "execution_count": 302,
   "metadata": {},
   "outputs": [
    {
     "data": {
      "text/plain": [
       "variant_id           2215\n",
       "gene_name            2215\n",
       "variant_name         2161\n",
       "category             2215\n",
       "variant_accepted     2215\n",
       "evidence_id          2215\n",
       "evidence_status      2215\n",
       "evidence_rating      2215\n",
       "evidence_level       2215\n",
       "evidence_accepted    2215\n",
       "evidence_score       2215\n",
       "dtype: int64"
      ]
     },
     "execution_count": 302,
     "metadata": {},
     "output_type": "execute_result"
    }
   ],
   "source": [
    "df.count()"
   ]
  },
  {
   "cell_type": "code",
   "execution_count": 304,
   "metadata": {},
   "outputs": [],
   "source": [
    "evidence_level_to_impact = {'A':10,\n",
    "                            'B':5,\n",
    "                            'C':3,\n",
    "                            'D':1,\n",
    "                            'E':0.5}"
   ]
  },
  {
   "cell_type": "code",
   "execution_count": 306,
   "metadata": {},
   "outputs": [],
   "source": [
    "df['evidence_level'] = df[\"evidence_level\"].apply(lambda x: x[0])"
   ]
  },
  {
   "cell_type": "code",
   "execution_count": 307,
   "metadata": {},
   "outputs": [
    {
     "data": {
      "text/html": [
       "<div>\n",
       "<style scoped>\n",
       "    .dataframe tbody tr th:only-of-type {\n",
       "        vertical-align: middle;\n",
       "    }\n",
       "\n",
       "    .dataframe tbody tr th {\n",
       "        vertical-align: top;\n",
       "    }\n",
       "\n",
       "    .dataframe thead th {\n",
       "        text-align: right;\n",
       "    }\n",
       "</style>\n",
       "<table border=\"1\" class=\"dataframe\">\n",
       "  <thead>\n",
       "    <tr style=\"text-align: right;\">\n",
       "      <th></th>\n",
       "      <th>variant_id</th>\n",
       "      <th>gene_name</th>\n",
       "      <th>variant_name</th>\n",
       "      <th>category</th>\n",
       "      <th>variant_accepted</th>\n",
       "      <th>evidence_id</th>\n",
       "      <th>evidence_status</th>\n",
       "      <th>evidence_rating</th>\n",
       "      <th>evidence_level</th>\n",
       "      <th>evidence_accepted</th>\n",
       "      <th>evidence_score</th>\n",
       "    </tr>\n",
       "  </thead>\n",
       "  <tbody>\n",
       "    <tr>\n",
       "      <th>7</th>\n",
       "      <td>2930</td>\n",
       "      <td>VHL</td>\n",
       "      <td>NaN</td>\n",
       "      <td>Transcript Variant</td>\n",
       "      <td>True</td>\n",
       "      <td>7892</td>\n",
       "      <td>accepted</td>\n",
       "      <td>[3]</td>\n",
       "      <td>C</td>\n",
       "      <td>True</td>\n",
       "      <td>3.0</td>\n",
       "    </tr>\n",
       "    <tr>\n",
       "      <th>9</th>\n",
       "      <td>785</td>\n",
       "      <td>CHEK2</td>\n",
       "      <td>1100DELC</td>\n",
       "      <td>Protein Consequence</td>\n",
       "      <td>True</td>\n",
       "      <td>1850</td>\n",
       "      <td>accepted</td>\n",
       "      <td>[3]</td>\n",
       "      <td>B</td>\n",
       "      <td>True</td>\n",
       "      <td>5.0</td>\n",
       "    </tr>\n",
       "    <tr>\n",
       "      <th>13</th>\n",
       "      <td>823</td>\n",
       "      <td>EPCAM</td>\n",
       "      <td>3' Exon Deletion</td>\n",
       "      <td>Region Defined Variant</td>\n",
       "      <td>True</td>\n",
       "      <td>1901</td>\n",
       "      <td>accepted</td>\n",
       "      <td>[4]</td>\n",
       "      <td>B</td>\n",
       "      <td>True</td>\n",
       "      <td>5.0</td>\n",
       "    </tr>\n",
       "    <tr>\n",
       "      <th>15</th>\n",
       "      <td>433</td>\n",
       "      <td>HIF1A</td>\n",
       "      <td>3' UTR Polymorphism</td>\n",
       "      <td>Region Defined Variant</td>\n",
       "      <td>True</td>\n",
       "      <td>1031</td>\n",
       "      <td>accepted</td>\n",
       "      <td>[2]</td>\n",
       "      <td>B</td>\n",
       "      <td>True</td>\n",
       "      <td>5.0</td>\n",
       "    </tr>\n",
       "    <tr>\n",
       "      <th>17</th>\n",
       "      <td>2367</td>\n",
       "      <td>VHL</td>\n",
       "      <td>3p26.3-25.3 11Mb del</td>\n",
       "      <td>Region Defined Variant</td>\n",
       "      <td>True</td>\n",
       "      <td>6287</td>\n",
       "      <td>accepted</td>\n",
       "      <td>[3]</td>\n",
       "      <td>C</td>\n",
       "      <td>True</td>\n",
       "      <td>3.0</td>\n",
       "    </tr>\n",
       "    <tr>\n",
       "      <th>...</th>\n",
       "      <td>...</td>\n",
       "      <td>...</td>\n",
       "      <td>...</td>\n",
       "      <td>...</td>\n",
       "      <td>...</td>\n",
       "      <td>...</td>\n",
       "      <td>...</td>\n",
       "      <td>...</td>\n",
       "      <td>...</td>\n",
       "      <td>...</td>\n",
       "      <td>...</td>\n",
       "    </tr>\n",
       "    <tr>\n",
       "      <th>1601</th>\n",
       "      <td>272</td>\n",
       "      <td>CDKN2A</td>\n",
       "      <td>p16 Expression</td>\n",
       "      <td>Expression</td>\n",
       "      <td>True</td>\n",
       "      <td>1314</td>\n",
       "      <td>accepted</td>\n",
       "      <td>[2]</td>\n",
       "      <td>B</td>\n",
       "      <td>True</td>\n",
       "      <td>5.0</td>\n",
       "    </tr>\n",
       "    <tr>\n",
       "      <th>1603</th>\n",
       "      <td>3313</td>\n",
       "      <td>CDKN1A</td>\n",
       "      <td>rs1059234</td>\n",
       "      <td>Other</td>\n",
       "      <td>True</td>\n",
       "      <td>9244</td>\n",
       "      <td>accepted</td>\n",
       "      <td>[3]</td>\n",
       "      <td>B</td>\n",
       "      <td>True</td>\n",
       "      <td>5.0</td>\n",
       "    </tr>\n",
       "    <tr>\n",
       "      <th>1605</th>\n",
       "      <td>256</td>\n",
       "      <td>KIT</td>\n",
       "      <td>rs17084733</td>\n",
       "      <td>Other</td>\n",
       "      <td>True</td>\n",
       "      <td>666</td>\n",
       "      <td>accepted</td>\n",
       "      <td>[3]</td>\n",
       "      <td>B</td>\n",
       "      <td>True</td>\n",
       "      <td>5.0</td>\n",
       "    </tr>\n",
       "    <tr>\n",
       "      <th>1606</th>\n",
       "      <td>2671</td>\n",
       "      <td>CDKN1A</td>\n",
       "      <td>rs1801270</td>\n",
       "      <td>Other</td>\n",
       "      <td>True</td>\n",
       "      <td>7227</td>\n",
       "      <td>accepted</td>\n",
       "      <td>[3]</td>\n",
       "      <td>B</td>\n",
       "      <td>True</td>\n",
       "      <td>5.0</td>\n",
       "    </tr>\n",
       "    <tr>\n",
       "      <th>1608</th>\n",
       "      <td>705</td>\n",
       "      <td>GADD45A</td>\n",
       "      <td>rs681673</td>\n",
       "      <td>Other</td>\n",
       "      <td>True</td>\n",
       "      <td>1751</td>\n",
       "      <td>accepted</td>\n",
       "      <td>[3]</td>\n",
       "      <td>B</td>\n",
       "      <td>True</td>\n",
       "      <td>5.0</td>\n",
       "    </tr>\n",
       "  </tbody>\n",
       "</table>\n",
       "<p>2215 rows × 11 columns</p>\n",
       "</div>"
      ],
      "text/plain": [
       "      variant_id gene_name          variant_name                category   \n",
       "7           2930       VHL                   NaN      Transcript Variant  \\\n",
       "9            785     CHEK2              1100DELC     Protein Consequence   \n",
       "13           823     EPCAM      3' Exon Deletion  Region Defined Variant   \n",
       "15           433     HIF1A   3' UTR Polymorphism  Region Defined Variant   \n",
       "17          2367       VHL  3p26.3-25.3 11Mb del  Region Defined Variant   \n",
       "...          ...       ...                   ...                     ...   \n",
       "1601         272    CDKN2A        p16 Expression              Expression   \n",
       "1603        3313    CDKN1A             rs1059234                   Other   \n",
       "1605         256       KIT            rs17084733                   Other   \n",
       "1606        2671    CDKN1A             rs1801270                   Other   \n",
       "1608         705   GADD45A              rs681673                   Other   \n",
       "\n",
       "      variant_accepted evidence_id evidence_status evidence_rating   \n",
       "7                 True        7892        accepted             [3]  \\\n",
       "9                 True        1850        accepted             [3]   \n",
       "13                True        1901        accepted             [4]   \n",
       "15                True        1031        accepted             [2]   \n",
       "17                True        6287        accepted             [3]   \n",
       "...                ...         ...             ...             ...   \n",
       "1601              True        1314        accepted             [2]   \n",
       "1603              True        9244        accepted             [3]   \n",
       "1605              True         666        accepted             [3]   \n",
       "1606              True        7227        accepted             [3]   \n",
       "1608              True        1751        accepted             [3]   \n",
       "\n",
       "     evidence_level evidence_accepted  evidence_score  \n",
       "7                 C              True             3.0  \n",
       "9                 B              True             5.0  \n",
       "13                B              True             5.0  \n",
       "15                B              True             5.0  \n",
       "17                C              True             3.0  \n",
       "...             ...               ...             ...  \n",
       "1601              B              True             5.0  \n",
       "1603              B              True             5.0  \n",
       "1605              B              True             5.0  \n",
       "1606              B              True             5.0  \n",
       "1608              B              True             5.0  \n",
       "\n",
       "[2215 rows x 11 columns]"
      ]
     },
     "execution_count": 307,
     "metadata": {},
     "output_type": "execute_result"
    }
   ],
   "source": [
    "df[\"evidence_score\"] = df[\"evidence_level\"].map(evidence_level_to_impact)\n",
    "df"
   ]
  },
  {
   "cell_type": "code",
   "execution_count": 308,
   "metadata": {},
   "outputs": [
    {
     "data": {
      "text/html": [
       "<div>\n",
       "<style scoped>\n",
       "    .dataframe tbody tr th:only-of-type {\n",
       "        vertical-align: middle;\n",
       "    }\n",
       "\n",
       "    .dataframe tbody tr th {\n",
       "        vertical-align: top;\n",
       "    }\n",
       "\n",
       "    .dataframe thead th {\n",
       "        text-align: right;\n",
       "    }\n",
       "</style>\n",
       "<table border=\"1\" class=\"dataframe\">\n",
       "  <thead>\n",
       "    <tr style=\"text-align: right;\">\n",
       "      <th></th>\n",
       "      <th>variant_id</th>\n",
       "      <th>gene_name</th>\n",
       "      <th>variant_name</th>\n",
       "      <th>category</th>\n",
       "      <th>variant_accepted</th>\n",
       "      <th>evidence_id</th>\n",
       "      <th>evidence_status</th>\n",
       "      <th>evidence_rating</th>\n",
       "      <th>evidence_level</th>\n",
       "      <th>evidence_accepted</th>\n",
       "      <th>evidence_score</th>\n",
       "    </tr>\n",
       "  </thead>\n",
       "  <tbody>\n",
       "    <tr>\n",
       "      <th>58</th>\n",
       "      <td>1</td>\n",
       "      <td>ABL1</td>\n",
       "      <td>BCR::ABL</td>\n",
       "      <td>Fusion</td>\n",
       "      <td>True</td>\n",
       "      <td>6244</td>\n",
       "      <td>accepted</td>\n",
       "      <td>[2]</td>\n",
       "      <td>D</td>\n",
       "      <td>True</td>\n",
       "      <td>1.0</td>\n",
       "    </tr>\n",
       "    <tr>\n",
       "      <th>58</th>\n",
       "      <td>1</td>\n",
       "      <td>ABL1</td>\n",
       "      <td>BCR::ABL</td>\n",
       "      <td>Fusion</td>\n",
       "      <td>True</td>\n",
       "      <td>7039</td>\n",
       "      <td>accepted</td>\n",
       "      <td>[1]</td>\n",
       "      <td>C</td>\n",
       "      <td>True</td>\n",
       "      <td>3.0</td>\n",
       "    </tr>\n",
       "    <tr>\n",
       "      <th>58</th>\n",
       "      <td>1</td>\n",
       "      <td>ABL1</td>\n",
       "      <td>BCR::ABL</td>\n",
       "      <td>Fusion</td>\n",
       "      <td>True</td>\n",
       "      <td>233</td>\n",
       "      <td>accepted</td>\n",
       "      <td>[4]</td>\n",
       "      <td>D</td>\n",
       "      <td>True</td>\n",
       "      <td>1.0</td>\n",
       "    </tr>\n",
       "    <tr>\n",
       "      <th>58</th>\n",
       "      <td>1</td>\n",
       "      <td>ABL1</td>\n",
       "      <td>BCR::ABL</td>\n",
       "      <td>Fusion</td>\n",
       "      <td>True</td>\n",
       "      <td>2659</td>\n",
       "      <td>accepted</td>\n",
       "      <td>[3]</td>\n",
       "      <td>D</td>\n",
       "      <td>True</td>\n",
       "      <td>1.0</td>\n",
       "    </tr>\n",
       "    <tr>\n",
       "      <th>58</th>\n",
       "      <td>1</td>\n",
       "      <td>ABL1</td>\n",
       "      <td>BCR::ABL</td>\n",
       "      <td>Fusion</td>\n",
       "      <td>True</td>\n",
       "      <td>2661</td>\n",
       "      <td>accepted</td>\n",
       "      <td>[3]</td>\n",
       "      <td>D</td>\n",
       "      <td>True</td>\n",
       "      <td>1.0</td>\n",
       "    </tr>\n",
       "    <tr>\n",
       "      <th>...</th>\n",
       "      <td>...</td>\n",
       "      <td>...</td>\n",
       "      <td>...</td>\n",
       "      <td>...</td>\n",
       "      <td>...</td>\n",
       "      <td>...</td>\n",
       "      <td>...</td>\n",
       "      <td>...</td>\n",
       "      <td>...</td>\n",
       "      <td>...</td>\n",
       "      <td>...</td>\n",
       "    </tr>\n",
       "    <tr>\n",
       "      <th>891</th>\n",
       "      <td>4440</td>\n",
       "      <td>BARD1</td>\n",
       "      <td>Mutation</td>\n",
       "      <td>Region Defined Variant</td>\n",
       "      <td>True</td>\n",
       "      <td>11209</td>\n",
       "      <td>accepted</td>\n",
       "      <td>[2]</td>\n",
       "      <td>A</td>\n",
       "      <td>True</td>\n",
       "      <td>10.0</td>\n",
       "    </tr>\n",
       "    <tr>\n",
       "      <th>892</th>\n",
       "      <td>4441</td>\n",
       "      <td>CHEK1</td>\n",
       "      <td>Mutation</td>\n",
       "      <td>Region Defined Variant</td>\n",
       "      <td>True</td>\n",
       "      <td>11210</td>\n",
       "      <td>accepted</td>\n",
       "      <td>[2]</td>\n",
       "      <td>A</td>\n",
       "      <td>True</td>\n",
       "      <td>10.0</td>\n",
       "    </tr>\n",
       "    <tr>\n",
       "      <th>894</th>\n",
       "      <td>4443</td>\n",
       "      <td>RAD51B</td>\n",
       "      <td>Mutation</td>\n",
       "      <td>Region Defined Variant</td>\n",
       "      <td>True</td>\n",
       "      <td>11212</td>\n",
       "      <td>accepted</td>\n",
       "      <td>[2]</td>\n",
       "      <td>A</td>\n",
       "      <td>True</td>\n",
       "      <td>10.0</td>\n",
       "    </tr>\n",
       "    <tr>\n",
       "      <th>896</th>\n",
       "      <td>4445</td>\n",
       "      <td>RAD51D</td>\n",
       "      <td>Mutation</td>\n",
       "      <td>Region Defined Variant</td>\n",
       "      <td>True</td>\n",
       "      <td>11214</td>\n",
       "      <td>accepted</td>\n",
       "      <td>[2]</td>\n",
       "      <td>A</td>\n",
       "      <td>True</td>\n",
       "      <td>10.0</td>\n",
       "    </tr>\n",
       "    <tr>\n",
       "      <th>751</th>\n",
       "      <td>4452</td>\n",
       "      <td>TP53</td>\n",
       "      <td>Loss</td>\n",
       "      <td>Gene Function</td>\n",
       "      <td>True</td>\n",
       "      <td>1146</td>\n",
       "      <td>accepted</td>\n",
       "      <td>[3]</td>\n",
       "      <td>D</td>\n",
       "      <td>True</td>\n",
       "      <td>1.0</td>\n",
       "    </tr>\n",
       "  </tbody>\n",
       "</table>\n",
       "<p>2215 rows × 11 columns</p>\n",
       "</div>"
      ],
      "text/plain": [
       "     variant_id gene_name variant_name                category   \n",
       "58            1      ABL1     BCR::ABL                  Fusion  \\\n",
       "58            1      ABL1     BCR::ABL                  Fusion   \n",
       "58            1      ABL1     BCR::ABL                  Fusion   \n",
       "58            1      ABL1     BCR::ABL                  Fusion   \n",
       "58            1      ABL1     BCR::ABL                  Fusion   \n",
       "..          ...       ...          ...                     ...   \n",
       "891        4440     BARD1     Mutation  Region Defined Variant   \n",
       "892        4441     CHEK1     Mutation  Region Defined Variant   \n",
       "894        4443    RAD51B     Mutation  Region Defined Variant   \n",
       "896        4445    RAD51D     Mutation  Region Defined Variant   \n",
       "751        4452      TP53         Loss           Gene Function   \n",
       "\n",
       "     variant_accepted evidence_id evidence_status evidence_rating   \n",
       "58               True        6244        accepted             [2]  \\\n",
       "58               True        7039        accepted             [1]   \n",
       "58               True         233        accepted             [4]   \n",
       "58               True        2659        accepted             [3]   \n",
       "58               True        2661        accepted             [3]   \n",
       "..                ...         ...             ...             ...   \n",
       "891              True       11209        accepted             [2]   \n",
       "892              True       11210        accepted             [2]   \n",
       "894              True       11212        accepted             [2]   \n",
       "896              True       11214        accepted             [2]   \n",
       "751              True        1146        accepted             [3]   \n",
       "\n",
       "    evidence_level evidence_accepted  evidence_score  \n",
       "58               D              True             1.0  \n",
       "58               C              True             3.0  \n",
       "58               D              True             1.0  \n",
       "58               D              True             1.0  \n",
       "58               D              True             1.0  \n",
       "..             ...               ...             ...  \n",
       "891              A              True            10.0  \n",
       "892              A              True            10.0  \n",
       "894              A              True            10.0  \n",
       "896              A              True            10.0  \n",
       "751              D              True             1.0  \n",
       "\n",
       "[2215 rows x 11 columns]"
      ]
     },
     "execution_count": 308,
     "metadata": {},
     "output_type": "execute_result"
    }
   ],
   "source": [
    "df.sort_values(by=[\"variant_id\"])"
   ]
  },
  {
   "cell_type": "code",
   "execution_count": 309,
   "metadata": {},
   "outputs": [
    {
     "data": {
      "text/html": [
       "<div>\n",
       "<style scoped>\n",
       "    .dataframe tbody tr th:only-of-type {\n",
       "        vertical-align: middle;\n",
       "    }\n",
       "\n",
       "    .dataframe tbody tr th {\n",
       "        vertical-align: top;\n",
       "    }\n",
       "\n",
       "    .dataframe thead th {\n",
       "        text-align: right;\n",
       "    }\n",
       "</style>\n",
       "<table border=\"1\" class=\"dataframe\">\n",
       "  <thead>\n",
       "    <tr style=\"text-align: right;\">\n",
       "      <th></th>\n",
       "      <th>gene_name</th>\n",
       "      <th>variant_name</th>\n",
       "      <th>category</th>\n",
       "      <th>#_evidence_items</th>\n",
       "      <th>evidence_score_sum</th>\n",
       "    </tr>\n",
       "    <tr>\n",
       "      <th>variant_id</th>\n",
       "      <th></th>\n",
       "      <th></th>\n",
       "      <th></th>\n",
       "      <th></th>\n",
       "      <th></th>\n",
       "    </tr>\n",
       "  </thead>\n",
       "  <tbody>\n",
       "    <tr>\n",
       "      <th>1</th>\n",
       "      <td>ABL1</td>\n",
       "      <td>BCR::ABL</td>\n",
       "      <td>Fusion</td>\n",
       "      <td>129</td>\n",
       "      <td>320.0</td>\n",
       "    </tr>\n",
       "    <tr>\n",
       "      <th>5</th>\n",
       "      <td>ALK</td>\n",
       "      <td>EML4::ALK</td>\n",
       "      <td>Fusion</td>\n",
       "      <td>47</td>\n",
       "      <td>91.0</td>\n",
       "    </tr>\n",
       "    <tr>\n",
       "      <th>17</th>\n",
       "      <td>BRAF</td>\n",
       "      <td>V600</td>\n",
       "      <td>Protein Consequence</td>\n",
       "      <td>22</td>\n",
       "      <td>123.0</td>\n",
       "    </tr>\n",
       "    <tr>\n",
       "      <th>19</th>\n",
       "      <td>CCND1</td>\n",
       "      <td>Expression</td>\n",
       "      <td>Expression</td>\n",
       "      <td>2</td>\n",
       "      <td>10.0</td>\n",
       "    </tr>\n",
       "    <tr>\n",
       "      <th>20</th>\n",
       "      <td>CCND1</td>\n",
       "      <td>Overexpression</td>\n",
       "      <td>Expression</td>\n",
       "      <td>8</td>\n",
       "      <td>36.0</td>\n",
       "    </tr>\n",
       "    <tr>\n",
       "      <th>...</th>\n",
       "      <td>...</td>\n",
       "      <td>...</td>\n",
       "      <td>...</td>\n",
       "      <td>...</td>\n",
       "      <td>...</td>\n",
       "    </tr>\n",
       "    <tr>\n",
       "      <th>4440</th>\n",
       "      <td>BARD1</td>\n",
       "      <td>Mutation</td>\n",
       "      <td>Region Defined Variant</td>\n",
       "      <td>1</td>\n",
       "      <td>10.0</td>\n",
       "    </tr>\n",
       "    <tr>\n",
       "      <th>4441</th>\n",
       "      <td>CHEK1</td>\n",
       "      <td>Mutation</td>\n",
       "      <td>Region Defined Variant</td>\n",
       "      <td>1</td>\n",
       "      <td>10.0</td>\n",
       "    </tr>\n",
       "    <tr>\n",
       "      <th>4443</th>\n",
       "      <td>RAD51B</td>\n",
       "      <td>Mutation</td>\n",
       "      <td>Region Defined Variant</td>\n",
       "      <td>1</td>\n",
       "      <td>10.0</td>\n",
       "    </tr>\n",
       "    <tr>\n",
       "      <th>4445</th>\n",
       "      <td>RAD51D</td>\n",
       "      <td>Mutation</td>\n",
       "      <td>Region Defined Variant</td>\n",
       "      <td>1</td>\n",
       "      <td>10.0</td>\n",
       "    </tr>\n",
       "    <tr>\n",
       "      <th>4452</th>\n",
       "      <td>TP53</td>\n",
       "      <td>Loss</td>\n",
       "      <td>Gene Function</td>\n",
       "      <td>1</td>\n",
       "      <td>1.0</td>\n",
       "    </tr>\n",
       "  </tbody>\n",
       "</table>\n",
       "<p>783 rows × 5 columns</p>\n",
       "</div>"
      ],
      "text/plain": [
       "           gene_name    variant_name                category   \n",
       "variant_id                                                     \n",
       "1               ABL1        BCR::ABL                  Fusion  \\\n",
       "5                ALK       EML4::ALK                  Fusion   \n",
       "17              BRAF            V600     Protein Consequence   \n",
       "19             CCND1      Expression              Expression   \n",
       "20             CCND1  Overexpression              Expression   \n",
       "...              ...             ...                     ...   \n",
       "4440           BARD1        Mutation  Region Defined Variant   \n",
       "4441           CHEK1        Mutation  Region Defined Variant   \n",
       "4443          RAD51B        Mutation  Region Defined Variant   \n",
       "4445          RAD51D        Mutation  Region Defined Variant   \n",
       "4452            TP53            Loss           Gene Function   \n",
       "\n",
       "            #_evidence_items  evidence_score_sum  \n",
       "variant_id                                        \n",
       "1                        129               320.0  \n",
       "5                         47                91.0  \n",
       "17                        22               123.0  \n",
       "19                         2                10.0  \n",
       "20                         8                36.0  \n",
       "...                      ...                 ...  \n",
       "4440                       1                10.0  \n",
       "4441                       1                10.0  \n",
       "4443                       1                10.0  \n",
       "4445                       1                10.0  \n",
       "4452                       1                 1.0  \n",
       "\n",
       "[783 rows x 5 columns]"
      ]
     },
     "execution_count": 309,
     "metadata": {},
     "output_type": "execute_result"
    }
   ],
   "source": [
    "df_var = df.groupby('variant_id').aggregate({'gene_name':'first',\n",
    "                                             'variant_name':'first',\n",
    "                                             'category':'first',\n",
    "                                             'evidence_id':'count',\n",
    "                                             'evidence_score':'sum'})\n",
    "df_var = df_var.rename(columns={'evidence_id':'#_evidence_items',\n",
    "                                'evidence_score':'evidence_score_sum'})\n",
    "df_var"
   ]
  },
  {
   "cell_type": "code",
   "execution_count": 310,
   "metadata": {},
   "outputs": [
    {
     "data": {
      "text/html": [
       "<div>\n",
       "<style scoped>\n",
       "    .dataframe tbody tr th:only-of-type {\n",
       "        vertical-align: middle;\n",
       "    }\n",
       "\n",
       "    .dataframe tbody tr th {\n",
       "        vertical-align: top;\n",
       "    }\n",
       "\n",
       "    .dataframe thead th {\n",
       "        text-align: right;\n",
       "    }\n",
       "</style>\n",
       "<table border=\"1\" class=\"dataframe\">\n",
       "  <thead>\n",
       "    <tr style=\"text-align: right;\">\n",
       "      <th></th>\n",
       "      <th>number_of_variants</th>\n",
       "      <th>#_evidence_items</th>\n",
       "      <th>impact</th>\n",
       "      <th>average_impact_per_variant</th>\n",
       "    </tr>\n",
       "    <tr>\n",
       "      <th>category</th>\n",
       "      <th></th>\n",
       "      <th></th>\n",
       "      <th></th>\n",
       "      <th></th>\n",
       "    </tr>\n",
       "  </thead>\n",
       "  <tbody>\n",
       "    <tr>\n",
       "      <th>Region Defined Variant</th>\n",
       "      <td>135</td>\n",
       "      <td>558</td>\n",
       "      <td>2542.0</td>\n",
       "      <td>18.829630</td>\n",
       "    </tr>\n",
       "    <tr>\n",
       "      <th>Fusion</th>\n",
       "      <td>199</td>\n",
       "      <td>737</td>\n",
       "      <td>2270.5</td>\n",
       "      <td>11.409548</td>\n",
       "    </tr>\n",
       "    <tr>\n",
       "      <th>Expression</th>\n",
       "      <td>180</td>\n",
       "      <td>342</td>\n",
       "      <td>1235.0</td>\n",
       "      <td>6.861111</td>\n",
       "    </tr>\n",
       "    <tr>\n",
       "      <th>Protein Consequence</th>\n",
       "      <td>70</td>\n",
       "      <td>191</td>\n",
       "      <td>837.5</td>\n",
       "      <td>11.964286</td>\n",
       "    </tr>\n",
       "    <tr>\n",
       "      <th>Gene Function</th>\n",
       "      <td>49</td>\n",
       "      <td>154</td>\n",
       "      <td>540.5</td>\n",
       "      <td>11.030612</td>\n",
       "    </tr>\n",
       "    <tr>\n",
       "      <th>Other</th>\n",
       "      <td>43</td>\n",
       "      <td>60</td>\n",
       "      <td>234.0</td>\n",
       "      <td>5.441860</td>\n",
       "    </tr>\n",
       "    <tr>\n",
       "      <th>Rearrangements</th>\n",
       "      <td>12</td>\n",
       "      <td>53</td>\n",
       "      <td>204.5</td>\n",
       "      <td>17.041667</td>\n",
       "    </tr>\n",
       "    <tr>\n",
       "      <th>Transcript Variant</th>\n",
       "      <td>51</td>\n",
       "      <td>54</td>\n",
       "      <td>156.0</td>\n",
       "      <td>3.058824</td>\n",
       "    </tr>\n",
       "    <tr>\n",
       "      <th>Copy Number</th>\n",
       "      <td>18</td>\n",
       "      <td>27</td>\n",
       "      <td>83.0</td>\n",
       "      <td>4.611111</td>\n",
       "    </tr>\n",
       "    <tr>\n",
       "      <th>Epigenetic Modification</th>\n",
       "      <td>14</td>\n",
       "      <td>22</td>\n",
       "      <td>82.0</td>\n",
       "      <td>5.857143</td>\n",
       "    </tr>\n",
       "    <tr>\n",
       "      <th>Genotypes Easy</th>\n",
       "      <td>8</td>\n",
       "      <td>13</td>\n",
       "      <td>58.0</td>\n",
       "      <td>7.250000</td>\n",
       "    </tr>\n",
       "    <tr>\n",
       "      <th>Genotypes Compound</th>\n",
       "      <td>4</td>\n",
       "      <td>4</td>\n",
       "      <td>28.0</td>\n",
       "      <td>7.000000</td>\n",
       "    </tr>\n",
       "  </tbody>\n",
       "</table>\n",
       "</div>"
      ],
      "text/plain": [
       "                         number_of_variants  #_evidence_items  impact   \n",
       "category                                                                \n",
       "Region Defined Variant                  135               558  2542.0  \\\n",
       "Fusion                                  199               737  2270.5   \n",
       "Expression                              180               342  1235.0   \n",
       "Protein Consequence                      70               191   837.5   \n",
       "Gene Function                            49               154   540.5   \n",
       "Other                                    43                60   234.0   \n",
       "Rearrangements                           12                53   204.5   \n",
       "Transcript Variant                       51                54   156.0   \n",
       "Copy Number                              18                27    83.0   \n",
       "Epigenetic Modification                  14                22    82.0   \n",
       "Genotypes Easy                            8                13    58.0   \n",
       "Genotypes Compound                        4                 4    28.0   \n",
       "\n",
       "                         average_impact_per_variant  \n",
       "category                                             \n",
       "Region Defined Variant                    18.829630  \n",
       "Fusion                                    11.409548  \n",
       "Expression                                 6.861111  \n",
       "Protein Consequence                       11.964286  \n",
       "Gene Function                             11.030612  \n",
       "Other                                      5.441860  \n",
       "Rearrangements                            17.041667  \n",
       "Transcript Variant                         3.058824  \n",
       "Copy Number                                4.611111  \n",
       "Epigenetic Modification                    5.857143  \n",
       "Genotypes Easy                             7.250000  \n",
       "Genotypes Compound                         7.000000  "
      ]
     },
     "execution_count": 310,
     "metadata": {},
     "output_type": "execute_result"
    }
   ],
   "source": [
    "df_cat = df_var.groupby('category').aggregate({'gene_name':'count',\n",
    "                                               '#_evidence_items':'sum',\n",
    "                                               'evidence_score_sum':'sum'})\n",
    "df_cat = df_cat.rename(columns={'evidence_score_sum':'impact',\n",
    "                                'gene_name':'number_of_variants'})\n",
    "df_cat['average_impact_per_variant'] = df_cat['impact']/df_cat['number_of_variants']\n",
    "df_cat.sort_values(by=[\"impact\"], ascending=False)"
   ]
  },
  {
   "cell_type": "code",
   "execution_count": 311,
   "metadata": {},
   "outputs": [
    {
     "data": {
      "text/plain": [
       "number_of_variants             783.000000\n",
       "#_evidence_items              2215.000000\n",
       "impact                        8271.000000\n",
       "average_impact_per_variant     110.355791\n",
       "dtype: float64"
      ]
     },
     "execution_count": 311,
     "metadata": {},
     "output_type": "execute_result"
    }
   ],
   "source": [
    "df_cat.sum()"
   ]
  },
  {
   "cell_type": "code",
   "execution_count": 312,
   "metadata": {},
   "outputs": [
    {
     "data": {
      "text/html": [
       "<div>\n",
       "<style scoped>\n",
       "    .dataframe tbody tr th:only-of-type {\n",
       "        vertical-align: middle;\n",
       "    }\n",
       "\n",
       "    .dataframe tbody tr th {\n",
       "        vertical-align: top;\n",
       "    }\n",
       "\n",
       "    .dataframe thead th {\n",
       "        text-align: right;\n",
       "    }\n",
       "</style>\n",
       "<table border=\"1\" class=\"dataframe\">\n",
       "  <thead>\n",
       "    <tr style=\"text-align: right;\">\n",
       "      <th></th>\n",
       "      <th>variant_id</th>\n",
       "      <th>gene_name</th>\n",
       "      <th>variant_name</th>\n",
       "      <th>category</th>\n",
       "      <th>variant_accepted</th>\n",
       "      <th>evidence_id</th>\n",
       "      <th>evidence_status</th>\n",
       "      <th>evidence_rating</th>\n",
       "      <th>evidence_level</th>\n",
       "      <th>evidence_accepted</th>\n",
       "      <th>evidence_score</th>\n",
       "    </tr>\n",
       "  </thead>\n",
       "  <tbody>\n",
       "    <tr>\n",
       "      <th>0</th>\n",
       "      <td>4170</td>\n",
       "      <td>VHL</td>\n",
       "      <td>NaN</td>\n",
       "      <td>Transcript Variant</td>\n",
       "      <td>False</td>\n",
       "      <td>10647</td>\n",
       "      <td>submitted</td>\n",
       "      <td>[2]</td>\n",
       "      <td>[C]</td>\n",
       "      <td>False</td>\n",
       "      <td></td>\n",
       "    </tr>\n",
       "    <tr>\n",
       "      <th>1</th>\n",
       "      <td>4417</td>\n",
       "      <td>ALK</td>\n",
       "      <td>FBXO11::ALK</td>\n",
       "      <td>Fusion</td>\n",
       "      <td>False</td>\n",
       "      <td>7428</td>\n",
       "      <td>submitted</td>\n",
       "      <td>[3]</td>\n",
       "      <td>[C]</td>\n",
       "      <td>False</td>\n",
       "      <td></td>\n",
       "    </tr>\n",
       "    <tr>\n",
       "      <th>2</th>\n",
       "      <td>4214</td>\n",
       "      <td>VHL</td>\n",
       "      <td>NaN</td>\n",
       "      <td>Transcript Variant</td>\n",
       "      <td>False</td>\n",
       "      <td>10752</td>\n",
       "      <td>submitted</td>\n",
       "      <td>[3]</td>\n",
       "      <td>[C]</td>\n",
       "      <td>False</td>\n",
       "      <td></td>\n",
       "    </tr>\n",
       "    <tr>\n",
       "      <th>3</th>\n",
       "      <td>4216</td>\n",
       "      <td>VHL</td>\n",
       "      <td>NaN</td>\n",
       "      <td>Transcript Variant</td>\n",
       "      <td>False</td>\n",
       "      <td>10754</td>\n",
       "      <td>submitted</td>\n",
       "      <td>[3]</td>\n",
       "      <td>[C]</td>\n",
       "      <td>False</td>\n",
       "      <td></td>\n",
       "    </tr>\n",
       "    <tr>\n",
       "      <th>4</th>\n",
       "      <td>4278</td>\n",
       "      <td>VHL</td>\n",
       "      <td>NaN</td>\n",
       "      <td>Transcript Variant</td>\n",
       "      <td>False</td>\n",
       "      <td>10958</td>\n",
       "      <td>submitted</td>\n",
       "      <td>[3]</td>\n",
       "      <td>[C]</td>\n",
       "      <td>False</td>\n",
       "      <td></td>\n",
       "    </tr>\n",
       "    <tr>\n",
       "      <th>...</th>\n",
       "      <td>...</td>\n",
       "      <td>...</td>\n",
       "      <td>...</td>\n",
       "      <td>...</td>\n",
       "      <td>...</td>\n",
       "      <td>...</td>\n",
       "      <td>...</td>\n",
       "      <td>...</td>\n",
       "      <td>...</td>\n",
       "      <td>...</td>\n",
       "      <td>...</td>\n",
       "    </tr>\n",
       "    <tr>\n",
       "      <th>1619</th>\n",
       "      <td>3478</td>\n",
       "      <td>ESR2</td>\n",
       "      <td>underexpression beta-1</td>\n",
       "      <td>Other</td>\n",
       "      <td>False</td>\n",
       "      <td>9618</td>\n",
       "      <td>submitted</td>\n",
       "      <td>[4]</td>\n",
       "      <td>[B]</td>\n",
       "      <td>False</td>\n",
       "      <td></td>\n",
       "    </tr>\n",
       "    <tr>\n",
       "      <th>1619</th>\n",
       "      <td>3478</td>\n",
       "      <td>ESR2</td>\n",
       "      <td>underexpression beta-1</td>\n",
       "      <td>Other</td>\n",
       "      <td>False</td>\n",
       "      <td>9619</td>\n",
       "      <td>submitted</td>\n",
       "      <td>[4]</td>\n",
       "      <td>[B]</td>\n",
       "      <td>False</td>\n",
       "      <td></td>\n",
       "    </tr>\n",
       "    <tr>\n",
       "      <th>1620</th>\n",
       "      <td>3508</td>\n",
       "      <td>CD274</td>\n",
       "      <td>v242</td>\n",
       "      <td>Protein Consequence</td>\n",
       "      <td>False</td>\n",
       "      <td>9695</td>\n",
       "      <td>submitted</td>\n",
       "      <td>[4]</td>\n",
       "      <td>[E]</td>\n",
       "      <td>False</td>\n",
       "      <td></td>\n",
       "    </tr>\n",
       "    <tr>\n",
       "      <th>1621</th>\n",
       "      <td>2422</td>\n",
       "      <td>NTRK3</td>\n",
       "      <td>~DEPRECATED-ETV6-NTRK3</td>\n",
       "      <td>Other</td>\n",
       "      <td>False</td>\n",
       "      <td>10692</td>\n",
       "      <td>submitted</td>\n",
       "      <td>[3]</td>\n",
       "      <td>[C]</td>\n",
       "      <td>False</td>\n",
       "      <td></td>\n",
       "    </tr>\n",
       "    <tr>\n",
       "      <th>1621</th>\n",
       "      <td>2422</td>\n",
       "      <td>NTRK3</td>\n",
       "      <td>~DEPRECATED-ETV6-NTRK3</td>\n",
       "      <td>Other</td>\n",
       "      <td>False</td>\n",
       "      <td>10717</td>\n",
       "      <td>submitted</td>\n",
       "      <td>[3]</td>\n",
       "      <td>[C]</td>\n",
       "      <td>False</td>\n",
       "      <td></td>\n",
       "    </tr>\n",
       "  </tbody>\n",
       "</table>\n",
       "<p>4211 rows × 11 columns</p>\n",
       "</div>"
      ],
      "text/plain": [
       "      variant_id gene_name            variant_name             category   \n",
       "0           4170       VHL                     NaN   Transcript Variant  \\\n",
       "1           4417       ALK             FBXO11::ALK               Fusion   \n",
       "2           4214       VHL                     NaN   Transcript Variant   \n",
       "3           4216       VHL                     NaN   Transcript Variant   \n",
       "4           4278       VHL                     NaN   Transcript Variant   \n",
       "...          ...       ...                     ...                  ...   \n",
       "1619        3478      ESR2  underexpression beta-1                Other   \n",
       "1619        3478      ESR2  underexpression beta-1                Other   \n",
       "1620        3508     CD274                    v242  Protein Consequence   \n",
       "1621        2422     NTRK3  ~DEPRECATED-ETV6-NTRK3                Other   \n",
       "1621        2422     NTRK3  ~DEPRECATED-ETV6-NTRK3                Other   \n",
       "\n",
       "      variant_accepted evidence_id evidence_status evidence_rating   \n",
       "0                False       10647       submitted             [2]  \\\n",
       "1                False        7428       submitted             [3]   \n",
       "2                False       10752       submitted             [3]   \n",
       "3                False       10754       submitted             [3]   \n",
       "4                False       10958       submitted             [3]   \n",
       "...                ...         ...             ...             ...   \n",
       "1619             False        9618       submitted             [4]   \n",
       "1619             False        9619       submitted             [4]   \n",
       "1620             False        9695       submitted             [4]   \n",
       "1621             False       10692       submitted             [3]   \n",
       "1621             False       10717       submitted             [3]   \n",
       "\n",
       "     evidence_level evidence_accepted evidence_score  \n",
       "0               [C]             False                 \n",
       "1               [C]             False                 \n",
       "2               [C]             False                 \n",
       "3               [C]             False                 \n",
       "4               [C]             False                 \n",
       "...             ...               ...            ...  \n",
       "1619            [B]             False                 \n",
       "1619            [B]             False                 \n",
       "1620            [E]             False                 \n",
       "1621            [C]             False                 \n",
       "1621            [C]             False                 \n",
       "\n",
       "[4211 rows x 11 columns]"
      ]
     },
     "execution_count": 312,
     "metadata": {},
     "output_type": "execute_result"
    }
   ],
   "source": [
    "df_both_evid = not_supported_variants_add_evidence_df\n",
    "df_both_evid[\"evidence_score\"] = ''\n",
    "df_both_evid = df_both_evid[df_both_evid['evidence_accepted'].notna()].copy()\n",
    "df_both_evid"
   ]
  },
  {
   "cell_type": "code",
   "execution_count": 313,
   "metadata": {},
   "outputs": [],
   "source": [
    "df_both_evid['evidence_level'] = df_both_evid[\"evidence_level\"].apply(lambda y: y[0])"
   ]
  },
  {
   "cell_type": "code",
   "execution_count": 314,
   "metadata": {},
   "outputs": [
    {
     "data": {
      "text/html": [
       "<div>\n",
       "<style scoped>\n",
       "    .dataframe tbody tr th:only-of-type {\n",
       "        vertical-align: middle;\n",
       "    }\n",
       "\n",
       "    .dataframe tbody tr th {\n",
       "        vertical-align: top;\n",
       "    }\n",
       "\n",
       "    .dataframe thead th {\n",
       "        text-align: right;\n",
       "    }\n",
       "</style>\n",
       "<table border=\"1\" class=\"dataframe\">\n",
       "  <thead>\n",
       "    <tr style=\"text-align: right;\">\n",
       "      <th></th>\n",
       "      <th>variant_id</th>\n",
       "      <th>gene_name</th>\n",
       "      <th>variant_name</th>\n",
       "      <th>category</th>\n",
       "      <th>variant_accepted</th>\n",
       "      <th>evidence_id</th>\n",
       "      <th>evidence_status</th>\n",
       "      <th>evidence_rating</th>\n",
       "      <th>evidence_level</th>\n",
       "      <th>evidence_accepted</th>\n",
       "      <th>evidence_score</th>\n",
       "    </tr>\n",
       "  </thead>\n",
       "  <tbody>\n",
       "    <tr>\n",
       "      <th>0</th>\n",
       "      <td>4170</td>\n",
       "      <td>VHL</td>\n",
       "      <td>NaN</td>\n",
       "      <td>Transcript Variant</td>\n",
       "      <td>False</td>\n",
       "      <td>10647</td>\n",
       "      <td>submitted</td>\n",
       "      <td>[2]</td>\n",
       "      <td>C</td>\n",
       "      <td>False</td>\n",
       "      <td>3.0</td>\n",
       "    </tr>\n",
       "    <tr>\n",
       "      <th>1</th>\n",
       "      <td>4417</td>\n",
       "      <td>ALK</td>\n",
       "      <td>FBXO11::ALK</td>\n",
       "      <td>Fusion</td>\n",
       "      <td>False</td>\n",
       "      <td>7428</td>\n",
       "      <td>submitted</td>\n",
       "      <td>[3]</td>\n",
       "      <td>C</td>\n",
       "      <td>False</td>\n",
       "      <td>3.0</td>\n",
       "    </tr>\n",
       "    <tr>\n",
       "      <th>2</th>\n",
       "      <td>4214</td>\n",
       "      <td>VHL</td>\n",
       "      <td>NaN</td>\n",
       "      <td>Transcript Variant</td>\n",
       "      <td>False</td>\n",
       "      <td>10752</td>\n",
       "      <td>submitted</td>\n",
       "      <td>[3]</td>\n",
       "      <td>C</td>\n",
       "      <td>False</td>\n",
       "      <td>3.0</td>\n",
       "    </tr>\n",
       "    <tr>\n",
       "      <th>3</th>\n",
       "      <td>4216</td>\n",
       "      <td>VHL</td>\n",
       "      <td>NaN</td>\n",
       "      <td>Transcript Variant</td>\n",
       "      <td>False</td>\n",
       "      <td>10754</td>\n",
       "      <td>submitted</td>\n",
       "      <td>[3]</td>\n",
       "      <td>C</td>\n",
       "      <td>False</td>\n",
       "      <td>3.0</td>\n",
       "    </tr>\n",
       "    <tr>\n",
       "      <th>4</th>\n",
       "      <td>4278</td>\n",
       "      <td>VHL</td>\n",
       "      <td>NaN</td>\n",
       "      <td>Transcript Variant</td>\n",
       "      <td>False</td>\n",
       "      <td>10958</td>\n",
       "      <td>submitted</td>\n",
       "      <td>[3]</td>\n",
       "      <td>C</td>\n",
       "      <td>False</td>\n",
       "      <td>3.0</td>\n",
       "    </tr>\n",
       "    <tr>\n",
       "      <th>...</th>\n",
       "      <td>...</td>\n",
       "      <td>...</td>\n",
       "      <td>...</td>\n",
       "      <td>...</td>\n",
       "      <td>...</td>\n",
       "      <td>...</td>\n",
       "      <td>...</td>\n",
       "      <td>...</td>\n",
       "      <td>...</td>\n",
       "      <td>...</td>\n",
       "      <td>...</td>\n",
       "    </tr>\n",
       "    <tr>\n",
       "      <th>1619</th>\n",
       "      <td>3478</td>\n",
       "      <td>ESR2</td>\n",
       "      <td>underexpression beta-1</td>\n",
       "      <td>Other</td>\n",
       "      <td>False</td>\n",
       "      <td>9618</td>\n",
       "      <td>submitted</td>\n",
       "      <td>[4]</td>\n",
       "      <td>B</td>\n",
       "      <td>False</td>\n",
       "      <td>5.0</td>\n",
       "    </tr>\n",
       "    <tr>\n",
       "      <th>1619</th>\n",
       "      <td>3478</td>\n",
       "      <td>ESR2</td>\n",
       "      <td>underexpression beta-1</td>\n",
       "      <td>Other</td>\n",
       "      <td>False</td>\n",
       "      <td>9619</td>\n",
       "      <td>submitted</td>\n",
       "      <td>[4]</td>\n",
       "      <td>B</td>\n",
       "      <td>False</td>\n",
       "      <td>5.0</td>\n",
       "    </tr>\n",
       "    <tr>\n",
       "      <th>1620</th>\n",
       "      <td>3508</td>\n",
       "      <td>CD274</td>\n",
       "      <td>v242</td>\n",
       "      <td>Protein Consequence</td>\n",
       "      <td>False</td>\n",
       "      <td>9695</td>\n",
       "      <td>submitted</td>\n",
       "      <td>[4]</td>\n",
       "      <td>E</td>\n",
       "      <td>False</td>\n",
       "      <td>0.5</td>\n",
       "    </tr>\n",
       "    <tr>\n",
       "      <th>1621</th>\n",
       "      <td>2422</td>\n",
       "      <td>NTRK3</td>\n",
       "      <td>~DEPRECATED-ETV6-NTRK3</td>\n",
       "      <td>Other</td>\n",
       "      <td>False</td>\n",
       "      <td>10692</td>\n",
       "      <td>submitted</td>\n",
       "      <td>[3]</td>\n",
       "      <td>C</td>\n",
       "      <td>False</td>\n",
       "      <td>3.0</td>\n",
       "    </tr>\n",
       "    <tr>\n",
       "      <th>1621</th>\n",
       "      <td>2422</td>\n",
       "      <td>NTRK3</td>\n",
       "      <td>~DEPRECATED-ETV6-NTRK3</td>\n",
       "      <td>Other</td>\n",
       "      <td>False</td>\n",
       "      <td>10717</td>\n",
       "      <td>submitted</td>\n",
       "      <td>[3]</td>\n",
       "      <td>C</td>\n",
       "      <td>False</td>\n",
       "      <td>3.0</td>\n",
       "    </tr>\n",
       "  </tbody>\n",
       "</table>\n",
       "<p>4211 rows × 11 columns</p>\n",
       "</div>"
      ],
      "text/plain": [
       "      variant_id gene_name            variant_name             category   \n",
       "0           4170       VHL                     NaN   Transcript Variant  \\\n",
       "1           4417       ALK             FBXO11::ALK               Fusion   \n",
       "2           4214       VHL                     NaN   Transcript Variant   \n",
       "3           4216       VHL                     NaN   Transcript Variant   \n",
       "4           4278       VHL                     NaN   Transcript Variant   \n",
       "...          ...       ...                     ...                  ...   \n",
       "1619        3478      ESR2  underexpression beta-1                Other   \n",
       "1619        3478      ESR2  underexpression beta-1                Other   \n",
       "1620        3508     CD274                    v242  Protein Consequence   \n",
       "1621        2422     NTRK3  ~DEPRECATED-ETV6-NTRK3                Other   \n",
       "1621        2422     NTRK3  ~DEPRECATED-ETV6-NTRK3                Other   \n",
       "\n",
       "      variant_accepted evidence_id evidence_status evidence_rating   \n",
       "0                False       10647       submitted             [2]  \\\n",
       "1                False        7428       submitted             [3]   \n",
       "2                False       10752       submitted             [3]   \n",
       "3                False       10754       submitted             [3]   \n",
       "4                False       10958       submitted             [3]   \n",
       "...                ...         ...             ...             ...   \n",
       "1619             False        9618       submitted             [4]   \n",
       "1619             False        9619       submitted             [4]   \n",
       "1620             False        9695       submitted             [4]   \n",
       "1621             False       10692       submitted             [3]   \n",
       "1621             False       10717       submitted             [3]   \n",
       "\n",
       "     evidence_level evidence_accepted  evidence_score  \n",
       "0                 C             False             3.0  \n",
       "1                 C             False             3.0  \n",
       "2                 C             False             3.0  \n",
       "3                 C             False             3.0  \n",
       "4                 C             False             3.0  \n",
       "...             ...               ...             ...  \n",
       "1619              B             False             5.0  \n",
       "1619              B             False             5.0  \n",
       "1620              E             False             0.5  \n",
       "1621              C             False             3.0  \n",
       "1621              C             False             3.0  \n",
       "\n",
       "[4211 rows x 11 columns]"
      ]
     },
     "execution_count": 314,
     "metadata": {},
     "output_type": "execute_result"
    }
   ],
   "source": [
    "df_both_evid[\"evidence_score\"] = df_both_evid[\"evidence_level\"].map(evidence_level_to_impact)\n",
    "df_both_evid"
   ]
  },
  {
   "cell_type": "code",
   "execution_count": 315,
   "metadata": {},
   "outputs": [
    {
     "data": {
      "text/html": [
       "<div>\n",
       "<style scoped>\n",
       "    .dataframe tbody tr th:only-of-type {\n",
       "        vertical-align: middle;\n",
       "    }\n",
       "\n",
       "    .dataframe tbody tr th {\n",
       "        vertical-align: top;\n",
       "    }\n",
       "\n",
       "    .dataframe thead th {\n",
       "        text-align: right;\n",
       "    }\n",
       "</style>\n",
       "<table border=\"1\" class=\"dataframe\">\n",
       "  <thead>\n",
       "    <tr style=\"text-align: right;\">\n",
       "      <th></th>\n",
       "      <th>gene_name</th>\n",
       "      <th>variant_name</th>\n",
       "      <th>category</th>\n",
       "      <th>#_evidence_items</th>\n",
       "      <th>evidence_score_sum</th>\n",
       "    </tr>\n",
       "    <tr>\n",
       "      <th>variant_id</th>\n",
       "      <th></th>\n",
       "      <th></th>\n",
       "      <th></th>\n",
       "      <th></th>\n",
       "      <th></th>\n",
       "    </tr>\n",
       "  </thead>\n",
       "  <tbody>\n",
       "    <tr>\n",
       "      <th>1</th>\n",
       "      <td>ABL1</td>\n",
       "      <td>BCR::ABL</td>\n",
       "      <td>Fusion</td>\n",
       "      <td>185</td>\n",
       "      <td>494.0</td>\n",
       "    </tr>\n",
       "    <tr>\n",
       "      <th>5</th>\n",
       "      <td>ALK</td>\n",
       "      <td>EML4::ALK</td>\n",
       "      <td>Fusion</td>\n",
       "      <td>95</td>\n",
       "      <td>167.0</td>\n",
       "    </tr>\n",
       "    <tr>\n",
       "      <th>17</th>\n",
       "      <td>BRAF</td>\n",
       "      <td>V600</td>\n",
       "      <td>Protein Consequence</td>\n",
       "      <td>26</td>\n",
       "      <td>153.0</td>\n",
       "    </tr>\n",
       "    <tr>\n",
       "      <th>19</th>\n",
       "      <td>CCND1</td>\n",
       "      <td>Expression</td>\n",
       "      <td>Expression</td>\n",
       "      <td>2</td>\n",
       "      <td>10.0</td>\n",
       "    </tr>\n",
       "    <tr>\n",
       "      <th>20</th>\n",
       "      <td>CCND1</td>\n",
       "      <td>Overexpression</td>\n",
       "      <td>Expression</td>\n",
       "      <td>10</td>\n",
       "      <td>40.0</td>\n",
       "    </tr>\n",
       "    <tr>\n",
       "      <th>...</th>\n",
       "      <td>...</td>\n",
       "      <td>...</td>\n",
       "      <td>...</td>\n",
       "      <td>...</td>\n",
       "      <td>...</td>\n",
       "    </tr>\n",
       "    <tr>\n",
       "      <th>4491</th>\n",
       "      <td>ERBB2</td>\n",
       "      <td>Exon 17 V659E</td>\n",
       "      <td>Region Defined Variant</td>\n",
       "      <td>1</td>\n",
       "      <td>5.0</td>\n",
       "    </tr>\n",
       "    <tr>\n",
       "      <th>4492</th>\n",
       "      <td>ERBB2</td>\n",
       "      <td>Exon 8 S310F</td>\n",
       "      <td>Region Defined Variant</td>\n",
       "      <td>2</td>\n",
       "      <td>2.0</td>\n",
       "    </tr>\n",
       "    <tr>\n",
       "      <th>4495</th>\n",
       "      <td>ALK</td>\n",
       "      <td>DCTN1::ALK</td>\n",
       "      <td>Fusion</td>\n",
       "      <td>1</td>\n",
       "      <td>3.0</td>\n",
       "    </tr>\n",
       "    <tr>\n",
       "      <th>4497</th>\n",
       "      <td>FGFR1</td>\n",
       "      <td>BCR::FGFR1</td>\n",
       "      <td>Fusion</td>\n",
       "      <td>1</td>\n",
       "      <td>5.0</td>\n",
       "    </tr>\n",
       "    <tr>\n",
       "      <th>4506</th>\n",
       "      <td>GATA3</td>\n",
       "      <td>Mutation</td>\n",
       "      <td>Region Defined Variant</td>\n",
       "      <td>1</td>\n",
       "      <td>3.0</td>\n",
       "    </tr>\n",
       "  </tbody>\n",
       "</table>\n",
       "<p>1523 rows × 5 columns</p>\n",
       "</div>"
      ],
      "text/plain": [
       "           gene_name    variant_name                category   \n",
       "variant_id                                                     \n",
       "1               ABL1        BCR::ABL                  Fusion  \\\n",
       "5                ALK       EML4::ALK                  Fusion   \n",
       "17              BRAF            V600     Protein Consequence   \n",
       "19             CCND1      Expression              Expression   \n",
       "20             CCND1  Overexpression              Expression   \n",
       "...              ...             ...                     ...   \n",
       "4491           ERBB2   Exon 17 V659E  Region Defined Variant   \n",
       "4492           ERBB2    Exon 8 S310F  Region Defined Variant   \n",
       "4495             ALK      DCTN1::ALK                  Fusion   \n",
       "4497           FGFR1      BCR::FGFR1                  Fusion   \n",
       "4506           GATA3        Mutation  Region Defined Variant   \n",
       "\n",
       "            #_evidence_items  evidence_score_sum  \n",
       "variant_id                                        \n",
       "1                        185               494.0  \n",
       "5                         95               167.0  \n",
       "17                        26               153.0  \n",
       "19                         2                10.0  \n",
       "20                        10                40.0  \n",
       "...                      ...                 ...  \n",
       "4491                       1                 5.0  \n",
       "4492                       2                 2.0  \n",
       "4495                       1                 3.0  \n",
       "4497                       1                 5.0  \n",
       "4506                       1                 3.0  \n",
       "\n",
       "[1523 rows x 5 columns]"
      ]
     },
     "execution_count": 315,
     "metadata": {},
     "output_type": "execute_result"
    }
   ],
   "source": [
    "df_both_evid.sort_values(by=[\"variant_id\"])\n",
    "df_both_evid_var = df_both_evid.groupby('variant_id').aggregate({'gene_name':'first',\n",
    "                                             'variant_name':'first',\n",
    "                                             'category':'first',\n",
    "                                             'evidence_id':'count',\n",
    "                                             'evidence_score':'sum'})\n",
    "df_both_evid_var = df_both_evid_var.rename(columns={'evidence_id':'#_evidence_items',\n",
    "                                'evidence_score':'evidence_score_sum'})\n",
    "df_both_evid_var"
   ]
  },
  {
   "cell_type": "code",
   "execution_count": 316,
   "metadata": {},
   "outputs": [
    {
     "data": {
      "text/html": [
       "<div>\n",
       "<style scoped>\n",
       "    .dataframe tbody tr th:only-of-type {\n",
       "        vertical-align: middle;\n",
       "    }\n",
       "\n",
       "    .dataframe tbody tr th {\n",
       "        vertical-align: top;\n",
       "    }\n",
       "\n",
       "    .dataframe thead th {\n",
       "        text-align: right;\n",
       "    }\n",
       "</style>\n",
       "<table border=\"1\" class=\"dataframe\">\n",
       "  <thead>\n",
       "    <tr style=\"text-align: right;\">\n",
       "      <th></th>\n",
       "      <th>number_of_variants</th>\n",
       "      <th>#_evidence_items</th>\n",
       "      <th>impact</th>\n",
       "      <th>average_impact_per_variant</th>\n",
       "    </tr>\n",
       "    <tr>\n",
       "      <th>category</th>\n",
       "      <th></th>\n",
       "      <th></th>\n",
       "      <th></th>\n",
       "      <th></th>\n",
       "    </tr>\n",
       "  </thead>\n",
       "  <tbody>\n",
       "    <tr>\n",
       "      <th>Region Defined Variant</th>\n",
       "      <td>190</td>\n",
       "      <td>955</td>\n",
       "      <td>4125.5</td>\n",
       "      <td>21.713158</td>\n",
       "    </tr>\n",
       "    <tr>\n",
       "      <th>Fusion</th>\n",
       "      <td>283</td>\n",
       "      <td>1198</td>\n",
       "      <td>3741.5</td>\n",
       "      <td>13.220848</td>\n",
       "    </tr>\n",
       "    <tr>\n",
       "      <th>Expression</th>\n",
       "      <td>286</td>\n",
       "      <td>597</td>\n",
       "      <td>2029.5</td>\n",
       "      <td>7.096154</td>\n",
       "    </tr>\n",
       "    <tr>\n",
       "      <th>Transcript Variant</th>\n",
       "      <td>360</td>\n",
       "      <td>440</td>\n",
       "      <td>1318.0</td>\n",
       "      <td>3.661111</td>\n",
       "    </tr>\n",
       "    <tr>\n",
       "      <th>Protein Consequence</th>\n",
       "      <td>126</td>\n",
       "      <td>292</td>\n",
       "      <td>1174.0</td>\n",
       "      <td>9.317460</td>\n",
       "    </tr>\n",
       "    <tr>\n",
       "      <th>Gene Function</th>\n",
       "      <td>85</td>\n",
       "      <td>335</td>\n",
       "      <td>1083.0</td>\n",
       "      <td>12.741176</td>\n",
       "    </tr>\n",
       "    <tr>\n",
       "      <th>Other</th>\n",
       "      <td>85</td>\n",
       "      <td>154</td>\n",
       "      <td>565.5</td>\n",
       "      <td>6.652941</td>\n",
       "    </tr>\n",
       "    <tr>\n",
       "      <th>Rearrangements</th>\n",
       "      <td>46</td>\n",
       "      <td>129</td>\n",
       "      <td>415.5</td>\n",
       "      <td>9.032609</td>\n",
       "    </tr>\n",
       "    <tr>\n",
       "      <th>Copy Number</th>\n",
       "      <td>32</td>\n",
       "      <td>61</td>\n",
       "      <td>187.0</td>\n",
       "      <td>5.843750</td>\n",
       "    </tr>\n",
       "    <tr>\n",
       "      <th>Genotypes Easy</th>\n",
       "      <td>10</td>\n",
       "      <td>20</td>\n",
       "      <td>102.0</td>\n",
       "      <td>10.200000</td>\n",
       "    </tr>\n",
       "    <tr>\n",
       "      <th>Epigenetic Modification</th>\n",
       "      <td>14</td>\n",
       "      <td>23</td>\n",
       "      <td>92.0</td>\n",
       "      <td>6.571429</td>\n",
       "    </tr>\n",
       "    <tr>\n",
       "      <th>Genotypes Compound</th>\n",
       "      <td>6</td>\n",
       "      <td>7</td>\n",
       "      <td>39.0</td>\n",
       "      <td>6.500000</td>\n",
       "    </tr>\n",
       "  </tbody>\n",
       "</table>\n",
       "</div>"
      ],
      "text/plain": [
       "                         number_of_variants  #_evidence_items  impact   \n",
       "category                                                                \n",
       "Region Defined Variant                  190               955  4125.5  \\\n",
       "Fusion                                  283              1198  3741.5   \n",
       "Expression                              286               597  2029.5   \n",
       "Transcript Variant                      360               440  1318.0   \n",
       "Protein Consequence                     126               292  1174.0   \n",
       "Gene Function                            85               335  1083.0   \n",
       "Other                                    85               154   565.5   \n",
       "Rearrangements                           46               129   415.5   \n",
       "Copy Number                              32                61   187.0   \n",
       "Genotypes Easy                           10                20   102.0   \n",
       "Epigenetic Modification                  14                23    92.0   \n",
       "Genotypes Compound                        6                 7    39.0   \n",
       "\n",
       "                         average_impact_per_variant  \n",
       "category                                             \n",
       "Region Defined Variant                    21.713158  \n",
       "Fusion                                    13.220848  \n",
       "Expression                                 7.096154  \n",
       "Transcript Variant                         3.661111  \n",
       "Protein Consequence                        9.317460  \n",
       "Gene Function                             12.741176  \n",
       "Other                                      6.652941  \n",
       "Rearrangements                             9.032609  \n",
       "Copy Number                                5.843750  \n",
       "Genotypes Easy                            10.200000  \n",
       "Epigenetic Modification                    6.571429  \n",
       "Genotypes Compound                         6.500000  "
      ]
     },
     "execution_count": 316,
     "metadata": {},
     "output_type": "execute_result"
    }
   ],
   "source": [
    "df_both_evid_cat = df_both_evid_var.groupby('category').aggregate({'gene_name':'count',\n",
    "                                               '#_evidence_items':'sum',\n",
    "                                               'evidence_score_sum':'sum'})\n",
    "df_both_evid_cat = df_both_evid_cat.rename(columns={'evidence_score_sum':'impact',\n",
    "                                'gene_name':'number_of_variants'})\n",
    "df_both_evid_cat['average_impact_per_variant'] = df_both_evid_cat['impact']/df_both_evid_cat['number_of_variants']\n",
    "df_both_evid_cat.sort_values(by=[\"impact\"], ascending=False)"
   ]
  },
  {
   "cell_type": "code",
   "execution_count": 317,
   "metadata": {},
   "outputs": [
    {
     "data": {
      "text/plain": [
       "category\n",
       "Region Defined Variant     1583.5\n",
       "Fusion                     1471.0\n",
       "Transcript Variant         1162.0\n",
       "Expression                  794.5\n",
       "Gene Function               542.5\n",
       "Protein Consequence         336.5\n",
       "Other                       331.5\n",
       "Rearrangements              211.0\n",
       "Copy Number                 104.0\n",
       "Genotypes Easy               44.0\n",
       "Genotypes Compound           11.0\n",
       "Epigenetic Modification      10.0\n",
       "Name: impact, dtype: float64"
      ]
     },
     "execution_count": 317,
     "metadata": {},
     "output_type": "execute_result"
    }
   ],
   "source": [
    "(df_both_evid_cat['impact'] - df_cat['impact']).sort_values(ascending=False)"
   ]
  },
  {
   "cell_type": "code",
   "execution_count": 318,
   "metadata": {},
   "outputs": [],
   "source": [
    "df_both_evid_cat.to_csv('../civic_both_evidence_cat_impact_df.csv', index=True)\n",
    "df_cat.to_csv('../civic_accepted_evidence_only_impact_df.csv', index=True)\n"
   ]
  },
  {
   "cell_type": "code",
   "execution_count": 319,
   "metadata": {},
   "outputs": [],
   "source": [
    "not_supported_variant_evidence_summary = {\n",
    "    \"Category\": VARIANT_CATEGORY_VALUES,\n",
    "    \"Count of CIViC Evidence Items per Category\":[],\n",
    "    \"Fraction of CIViC Evidence Items\": [],\n",
    "    \"Percent of all CIViC Evidence Items\": [],\n",
    "    \"Fraction of Not Supported Variant Evidence Items\": [],\n",
    "    \"Percent of Not Supported Variant Evidence Items\": [],\n",
    "    \"Fraction of Accepted Evidence Items\": [],\n",
    "    \"Percent of Accepted Evidence Items\": [],\n",
    "    \"Fraction of Submitted Evidence Items\": [],\n",
    "    \"Percent of Submitted Evidence Items\": []\n",
    "}"
   ]
  },
  {
   "cell_type": "code",
   "execution_count": 320,
   "metadata": {},
   "outputs": [],
   "source": [
    "not_supported_variant_categories_evidence_summary_data = dict()\n",
    "total_number_not_supported_variant_unique_evidence_items = len(set(not_supported_variants_add_evidence_df.evidence_id))\n",
    "\n",
    "for category in VARIANT_CATEGORY_VALUES:\n",
    "    not_supported_variant_categories_evidence_summary_data[category] = {}\n",
    "    evidence_category_df = not_supported_variants_add_evidence_df[not_supported_variants_add_evidence_df.category == category]\n",
    "    evidence_category_df = evidence_category_df.drop_duplicates(subset=[\"evidence_id\"])\n",
    "\n",
    "    # Count\n",
    "    number_unique_not_supported_category_evidence = len(set(evidence_category_df.evidence_id))\n",
    "    not_supported_variant_categories_evidence_summary_data[category][\"number_unique_not_supported_category_evidence\"] = number_unique_not_supported_category_evidence\n",
    "\n",
    "    # Fraction\n",
    "    fraction_not_supported_category_variant_evidence_of_civic = f\"{number_unique_not_supported_category_evidence} / {total_ac_sub_evidence}\"\n",
    "    not_supported_variant_categories_evidence_summary_data[category][\"fraction_not_supported_category_variant_evidence_of_civic\"] = fraction_not_supported_category_variant_evidence_of_civic\n",
    "\n",
    "    # Percent\n",
    "    percent_not_supported_category_variant_evidence_of_civic = f\"{number_unique_not_supported_category_evidence / total_ac_sub_evidence * 100:.2f}%\"\n",
    "    not_supported_variant_categories_evidence_summary_data[category][\"percent_not_supported_category_variant_evidence_of_civic\"] = percent_not_supported_category_variant_evidence_of_civic\n",
    "\n",
    "    # Not supported fraction\n",
    "    fraction_not_supported_category_variant_evidence_of_total_not_supported = f\"{number_unique_not_supported_category_evidence} / {total_number_not_supported_variant_unique_evidence_items}\"\n",
    "    not_supported_variant_categories_evidence_summary_data[category][\"fraction_not_supported_category_variant_evidence_of_total_not_supported\"] = fraction_not_supported_category_variant_evidence_of_total_not_supported\n",
    "\n",
    "    # Not supported percent\n",
    "    percent_not_supported_category_variant_evidence_of_total_not_supported = f\"{number_unique_not_supported_category_evidence / total_number_not_supported_variant_unique_evidence_items * 100:.2f}%\"\n",
    "    not_supported_variant_categories_evidence_summary_data[category][\"percent_not_supported_category_variant_evidence_of_total_not_supported\"] = percent_not_supported_category_variant_evidence_of_total_not_supported\n",
    "\n",
    "    # Accepted fraction\n",
    "    number_accepted_not_supported_category_variant_evidence = evidence_category_df.evidence_accepted.sum()\n",
    "    fraction_accepted_evidence_not_supported_category_variants = f\"{number_accepted_not_supported_category_variant_evidence} / {number_unique_not_supported_category_evidence}\"\n",
    "    not_supported_variant_categories_evidence_summary_data[category][\"fraction_accepted_evidence_not_supported_category_variants\"] = fraction_accepted_evidence_not_supported_category_variants\n",
    "\n",
    "    # Accepted percent\n",
    "    percentage_accepted_evidence_not_supported_category_variants = f\"{number_accepted_not_supported_category_variant_evidence / number_unique_not_supported_category_evidence * 100:.2f}%\"\n",
    "    not_supported_variant_categories_evidence_summary_data[category][\"percentage_accepted_evidence_not_supported_category_variants\"] = percentage_accepted_evidence_not_supported_category_variants\n",
    "\n",
    "    # Submitted fraction\n",
    "    number_submitted_not_supported_category_variant_evidence = number_unique_not_supported_category_evidence - evidence_category_df.evidence_accepted.sum()\n",
    "    fraction_submitted_evidence_not_supported_category_variants = f\"{number_submitted_not_supported_category_variant_evidence} / {number_unique_not_supported_category_evidence}\"\n",
    "    not_supported_variant_categories_evidence_summary_data[category][\"fraction_submitted_evidence_not_supported_category_variants\"] = fraction_submitted_evidence_not_supported_category_variants\n",
    "\n",
    "    # Submitted percent\n",
    "    percentage_submitted_evidence_not_supported_category_variants = f\"{number_submitted_not_supported_category_variant_evidence / number_unique_not_supported_category_evidence * 100:.2f}%\"\n",
    "    not_supported_variant_categories_evidence_summary_data[category][\"percentage_submitted_evidence_not_supported_category_variants\"] = percentage_submitted_evidence_not_supported_category_variants\n",
    "   \n",
    "    not_supported_variant_evidence_summary[\"Count of CIViC Evidence Items per Category\"].append(number_unique_not_supported_category_evidence)\n",
    "    not_supported_variant_evidence_summary[\"Fraction of CIViC Evidence Items\"].append(fraction_not_supported_category_variant_evidence_of_civic)\n",
    "    not_supported_variant_evidence_summary[\"Percent of all CIViC Evidence Items\"].append(percent_not_supported_category_variant_evidence_of_civic)\n",
    "    not_supported_variant_evidence_summary[\"Fraction of Not Supported Variant Evidence Items\"].append(fraction_not_supported_category_variant_evidence_of_total_not_supported)\n",
    "    not_supported_variant_evidence_summary[\"Percent of Not Supported Variant Evidence Items\"].append(percent_not_supported_category_variant_evidence_of_total_not_supported)\n",
    "    not_supported_variant_evidence_summary[\"Fraction of Accepted Evidence Items\"].append(fraction_accepted_evidence_not_supported_category_variants)\n",
    "    not_supported_variant_evidence_summary[\"Percent of Accepted Evidence Items\"].append(percentage_accepted_evidence_not_supported_category_variants)\n",
    "    not_supported_variant_evidence_summary[\"Fraction of Submitted Evidence Items\"].append(fraction_submitted_evidence_not_supported_category_variants)\n",
    "    not_supported_variant_evidence_summary[\"Percent of Submitted Evidence Items\"].append(percentage_submitted_evidence_not_supported_category_variants)"
   ]
  },
  {
   "cell_type": "markdown",
   "metadata": {},
   "source": [
    "## Impact\n",
    "molecular profile score"
   ]
  },
  {
   "cell_type": "markdown",
   "metadata": {},
   "source": [
    "### Import molecular profile id"
   ]
  },
  {
   "cell_type": "code",
   "execution_count": 321,
   "metadata": {},
   "outputs": [
    {
     "data": {
      "text/html": [
       "<div>\n",
       "<style scoped>\n",
       "    .dataframe tbody tr th:only-of-type {\n",
       "        vertical-align: middle;\n",
       "    }\n",
       "\n",
       "    .dataframe tbody tr th {\n",
       "        vertical-align: top;\n",
       "    }\n",
       "\n",
       "    .dataframe thead th {\n",
       "        text-align: right;\n",
       "    }\n",
       "</style>\n",
       "<table border=\"1\" class=\"dataframe\">\n",
       "  <thead>\n",
       "    <tr style=\"text-align: right;\">\n",
       "      <th></th>\n",
       "      <th>variant_id</th>\n",
       "      <th>gene_name</th>\n",
       "      <th>variant_name</th>\n",
       "      <th>category</th>\n",
       "      <th>variant_accepted</th>\n",
       "      <th>molecular_profile_id</th>\n",
       "    </tr>\n",
       "  </thead>\n",
       "  <tbody>\n",
       "    <tr>\n",
       "      <th>0</th>\n",
       "      <td>4170</td>\n",
       "      <td>VHL</td>\n",
       "      <td>NaN</td>\n",
       "      <td>Transcript Variant</td>\n",
       "      <td>False</td>\n",
       "      <td>[4038]</td>\n",
       "    </tr>\n",
       "    <tr>\n",
       "      <th>1</th>\n",
       "      <td>4417</td>\n",
       "      <td>ALK</td>\n",
       "      <td>FBXO11::ALK</td>\n",
       "      <td>Fusion</td>\n",
       "      <td>False</td>\n",
       "      <td>[4350]</td>\n",
       "    </tr>\n",
       "    <tr>\n",
       "      <th>2</th>\n",
       "      <td>4214</td>\n",
       "      <td>VHL</td>\n",
       "      <td>NaN</td>\n",
       "      <td>Transcript Variant</td>\n",
       "      <td>False</td>\n",
       "      <td>[4082]</td>\n",
       "    </tr>\n",
       "    <tr>\n",
       "      <th>3</th>\n",
       "      <td>4216</td>\n",
       "      <td>VHL</td>\n",
       "      <td>NaN</td>\n",
       "      <td>Transcript Variant</td>\n",
       "      <td>False</td>\n",
       "      <td>[4084]</td>\n",
       "    </tr>\n",
       "    <tr>\n",
       "      <th>4</th>\n",
       "      <td>4278</td>\n",
       "      <td>VHL</td>\n",
       "      <td>NaN</td>\n",
       "      <td>Transcript Variant</td>\n",
       "      <td>False</td>\n",
       "      <td>[4146]</td>\n",
       "    </tr>\n",
       "  </tbody>\n",
       "</table>\n",
       "</div>"
      ],
      "text/plain": [
       "   variant_id gene_name  variant_name            category  variant_accepted   \n",
       "0        4170       VHL           NaN  Transcript Variant             False  \\\n",
       "1        4417       ALK   FBXO11::ALK              Fusion             False   \n",
       "2        4214       VHL           NaN  Transcript Variant             False   \n",
       "3        4216       VHL           NaN  Transcript Variant             False   \n",
       "4        4278       VHL           NaN  Transcript Variant             False   \n",
       "\n",
       "  molecular_profile_id  \n",
       "0               [4038]  \n",
       "1               [4350]  \n",
       "2               [4082]  \n",
       "3               [4084]  \n",
       "4               [4146]  "
      ]
     },
     "execution_count": 321,
     "metadata": {},
     "output_type": "execute_result"
    }
   ],
   "source": [
    "not_supported_variants_add_molprof_df = transform_df_mp_id(not_supported_queries_df)\n",
    "not_supported_variants_add_molprof_df.head()"
   ]
  },
  {
   "cell_type": "markdown",
   "metadata": {},
   "source": [
    "### Import molecular profile scores"
   ]
  },
  {
   "cell_type": "code",
   "execution_count": 322,
   "metadata": {},
   "outputs": [
    {
     "data": {
      "text/html": [
       "<div>\n",
       "<style scoped>\n",
       "    .dataframe tbody tr th:only-of-type {\n",
       "        vertical-align: middle;\n",
       "    }\n",
       "\n",
       "    .dataframe tbody tr th {\n",
       "        vertical-align: top;\n",
       "    }\n",
       "\n",
       "    .dataframe thead th {\n",
       "        text-align: right;\n",
       "    }\n",
       "</style>\n",
       "<table border=\"1\" class=\"dataframe\">\n",
       "  <thead>\n",
       "    <tr style=\"text-align: right;\">\n",
       "      <th></th>\n",
       "      <th>variant_id</th>\n",
       "      <th>gene_name</th>\n",
       "      <th>variant_name</th>\n",
       "      <th>category</th>\n",
       "      <th>variant_accepted</th>\n",
       "      <th>molecular_profile_id</th>\n",
       "      <th>molecular_profile_score</th>\n",
       "    </tr>\n",
       "  </thead>\n",
       "  <tbody>\n",
       "    <tr>\n",
       "      <th>0</th>\n",
       "      <td>4170</td>\n",
       "      <td>VHL</td>\n",
       "      <td>NaN</td>\n",
       "      <td>Transcript Variant</td>\n",
       "      <td>False</td>\n",
       "      <td>[4038]</td>\n",
       "      <td>[0.0]</td>\n",
       "    </tr>\n",
       "    <tr>\n",
       "      <th>1</th>\n",
       "      <td>4417</td>\n",
       "      <td>ALK</td>\n",
       "      <td>FBXO11::ALK</td>\n",
       "      <td>Fusion</td>\n",
       "      <td>False</td>\n",
       "      <td>[4350]</td>\n",
       "      <td>[0.0]</td>\n",
       "    </tr>\n",
       "    <tr>\n",
       "      <th>2</th>\n",
       "      <td>4214</td>\n",
       "      <td>VHL</td>\n",
       "      <td>NaN</td>\n",
       "      <td>Transcript Variant</td>\n",
       "      <td>False</td>\n",
       "      <td>[4082]</td>\n",
       "      <td>[0.0]</td>\n",
       "    </tr>\n",
       "    <tr>\n",
       "      <th>3</th>\n",
       "      <td>4216</td>\n",
       "      <td>VHL</td>\n",
       "      <td>NaN</td>\n",
       "      <td>Transcript Variant</td>\n",
       "      <td>False</td>\n",
       "      <td>[4084]</td>\n",
       "      <td>[0.0]</td>\n",
       "    </tr>\n",
       "    <tr>\n",
       "      <th>4</th>\n",
       "      <td>4278</td>\n",
       "      <td>VHL</td>\n",
       "      <td>NaN</td>\n",
       "      <td>Transcript Variant</td>\n",
       "      <td>False</td>\n",
       "      <td>[4146]</td>\n",
       "      <td>[0.0]</td>\n",
       "    </tr>\n",
       "  </tbody>\n",
       "</table>\n",
       "</div>"
      ],
      "text/plain": [
       "   variant_id gene_name  variant_name            category  variant_accepted   \n",
       "0        4170       VHL           NaN  Transcript Variant             False  \\\n",
       "1        4417       ALK   FBXO11::ALK              Fusion             False   \n",
       "2        4214       VHL           NaN  Transcript Variant             False   \n",
       "3        4216       VHL           NaN  Transcript Variant             False   \n",
       "4        4278       VHL           NaN  Transcript Variant             False   \n",
       "\n",
       "  molecular_profile_id molecular_profile_score  \n",
       "0               [4038]                   [0.0]  \n",
       "1               [4350]                   [0.0]  \n",
       "2               [4082]                   [0.0]  \n",
       "3               [4084]                   [0.0]  \n",
       "4               [4146]                   [0.0]  "
      ]
     },
     "execution_count": 322,
     "metadata": {},
     "output_type": "execute_result"
    }
   ],
   "source": [
    "not_supported_variants_add_molprof_df = transform_df_mp_score(not_supported_variants_add_molprof_df)\n",
    "not_supported_variants_add_molprof_df.head()"
   ]
  },
  {
   "cell_type": "code",
   "execution_count": 323,
   "metadata": {},
   "outputs": [
    {
     "data": {
      "text/html": [
       "<div>\n",
       "<style scoped>\n",
       "    .dataframe tbody tr th:only-of-type {\n",
       "        vertical-align: middle;\n",
       "    }\n",
       "\n",
       "    .dataframe tbody tr th {\n",
       "        vertical-align: top;\n",
       "    }\n",
       "\n",
       "    .dataframe thead th {\n",
       "        text-align: right;\n",
       "    }\n",
       "</style>\n",
       "<table border=\"1\" class=\"dataframe\">\n",
       "  <thead>\n",
       "    <tr style=\"text-align: right;\">\n",
       "      <th></th>\n",
       "      <th>variant_id</th>\n",
       "      <th>gene_name</th>\n",
       "      <th>variant_name</th>\n",
       "      <th>category</th>\n",
       "      <th>variant_accepted</th>\n",
       "      <th>molecular_profile_id</th>\n",
       "      <th>molecular_profile_score</th>\n",
       "      <th>molecular_profile_score_sum</th>\n",
       "    </tr>\n",
       "  </thead>\n",
       "  <tbody>\n",
       "    <tr>\n",
       "      <th>0</th>\n",
       "      <td>4170</td>\n",
       "      <td>VHL</td>\n",
       "      <td>NaN</td>\n",
       "      <td>Transcript Variant</td>\n",
       "      <td>False</td>\n",
       "      <td>[4038]</td>\n",
       "      <td>[0.0]</td>\n",
       "      <td>0.0</td>\n",
       "    </tr>\n",
       "    <tr>\n",
       "      <th>1</th>\n",
       "      <td>4417</td>\n",
       "      <td>ALK</td>\n",
       "      <td>FBXO11::ALK</td>\n",
       "      <td>Fusion</td>\n",
       "      <td>False</td>\n",
       "      <td>[4350]</td>\n",
       "      <td>[0.0]</td>\n",
       "      <td>0.0</td>\n",
       "    </tr>\n",
       "    <tr>\n",
       "      <th>2</th>\n",
       "      <td>4214</td>\n",
       "      <td>VHL</td>\n",
       "      <td>NaN</td>\n",
       "      <td>Transcript Variant</td>\n",
       "      <td>False</td>\n",
       "      <td>[4082]</td>\n",
       "      <td>[0.0]</td>\n",
       "      <td>0.0</td>\n",
       "    </tr>\n",
       "    <tr>\n",
       "      <th>3</th>\n",
       "      <td>4216</td>\n",
       "      <td>VHL</td>\n",
       "      <td>NaN</td>\n",
       "      <td>Transcript Variant</td>\n",
       "      <td>False</td>\n",
       "      <td>[4084]</td>\n",
       "      <td>[0.0]</td>\n",
       "      <td>0.0</td>\n",
       "    </tr>\n",
       "    <tr>\n",
       "      <th>4</th>\n",
       "      <td>4278</td>\n",
       "      <td>VHL</td>\n",
       "      <td>NaN</td>\n",
       "      <td>Transcript Variant</td>\n",
       "      <td>False</td>\n",
       "      <td>[4146]</td>\n",
       "      <td>[0.0]</td>\n",
       "      <td>0.0</td>\n",
       "    </tr>\n",
       "  </tbody>\n",
       "</table>\n",
       "</div>"
      ],
      "text/plain": [
       "   variant_id gene_name  variant_name            category  variant_accepted   \n",
       "0        4170       VHL           NaN  Transcript Variant             False  \\\n",
       "1        4417       ALK   FBXO11::ALK              Fusion             False   \n",
       "2        4214       VHL           NaN  Transcript Variant             False   \n",
       "3        4216       VHL           NaN  Transcript Variant             False   \n",
       "4        4278       VHL           NaN  Transcript Variant             False   \n",
       "\n",
       "  molecular_profile_id molecular_profile_score  molecular_profile_score_sum  \n",
       "0               [4038]                   [0.0]                          0.0  \n",
       "1               [4350]                   [0.0]                          0.0  \n",
       "2               [4082]                   [0.0]                          0.0  \n",
       "3               [4084]                   [0.0]                          0.0  \n",
       "4               [4146]                   [0.0]                          0.0  "
      ]
     },
     "execution_count": 323,
     "metadata": {},
     "output_type": "execute_result"
    }
   ],
   "source": [
    "not_supported_variants_add_molprof_df = transform_df_mp_score_sum(not_supported_variants_add_molprof_df)\n",
    "not_supported_variants_add_molprof_df.head()"
   ]
  },
  {
   "cell_type": "code",
   "execution_count": 324,
   "metadata": {},
   "outputs": [
    {
     "data": {
      "text/html": [
       "<div>\n",
       "<style scoped>\n",
       "    .dataframe tbody tr th:only-of-type {\n",
       "        vertical-align: middle;\n",
       "    }\n",
       "\n",
       "    .dataframe tbody tr th {\n",
       "        vertical-align: top;\n",
       "    }\n",
       "\n",
       "    .dataframe thead th {\n",
       "        text-align: right;\n",
       "    }\n",
       "</style>\n",
       "<table border=\"1\" class=\"dataframe\">\n",
       "  <thead>\n",
       "    <tr style=\"text-align: right;\">\n",
       "      <th></th>\n",
       "      <th>variant_id</th>\n",
       "      <th>gene_name</th>\n",
       "      <th>variant_name</th>\n",
       "      <th>category</th>\n",
       "      <th>variant_accepted</th>\n",
       "      <th>molecular_profile_id</th>\n",
       "      <th>molecular_profile_score</th>\n",
       "      <th>molecular_profile_score_sum</th>\n",
       "    </tr>\n",
       "  </thead>\n",
       "  <tbody>\n",
       "    <tr>\n",
       "      <th>62</th>\n",
       "      <td>1027</td>\n",
       "      <td>ABL1</td>\n",
       "      <td>BCR::ABL D276G</td>\n",
       "      <td>Fusion</td>\n",
       "      <td>True</td>\n",
       "      <td></td>\n",
       "      <td></td>\n",
       "      <td>0.0</td>\n",
       "    </tr>\n",
       "    <tr>\n",
       "      <th>126</th>\n",
       "      <td>1025</td>\n",
       "      <td>ABL1</td>\n",
       "      <td>BCR::ABL Y253H</td>\n",
       "      <td>Fusion</td>\n",
       "      <td>True</td>\n",
       "      <td></td>\n",
       "      <td></td>\n",
       "      <td>0.0</td>\n",
       "    </tr>\n",
       "    <tr>\n",
       "      <th>715</th>\n",
       "      <td>3225</td>\n",
       "      <td>NTRK1</td>\n",
       "      <td>LMNA::NTRK1 e11-e10</td>\n",
       "      <td>Fusion</td>\n",
       "      <td>True</td>\n",
       "      <td></td>\n",
       "      <td></td>\n",
       "      <td>0.0</td>\n",
       "    </tr>\n",
       "    <tr>\n",
       "      <th>716</th>\n",
       "      <td>3223</td>\n",
       "      <td>NTRK1</td>\n",
       "      <td>LMNA::NTRK1 e2-e10</td>\n",
       "      <td>Fusion</td>\n",
       "      <td>True</td>\n",
       "      <td></td>\n",
       "      <td></td>\n",
       "      <td>0.0</td>\n",
       "    </tr>\n",
       "    <tr>\n",
       "      <th>717</th>\n",
       "      <td>3224</td>\n",
       "      <td>NTRK1</td>\n",
       "      <td>LMNA::NTRK1 e2-e11</td>\n",
       "      <td>Fusion</td>\n",
       "      <td>True</td>\n",
       "      <td></td>\n",
       "      <td></td>\n",
       "      <td>0.0</td>\n",
       "    </tr>\n",
       "    <tr>\n",
       "      <th>776</th>\n",
       "      <td>1247</td>\n",
       "      <td>BRCA2</td>\n",
       "      <td>M1R</td>\n",
       "      <td>Other</td>\n",
       "      <td>True</td>\n",
       "      <td>[1221]</td>\n",
       "      <td>[0.0]</td>\n",
       "      <td>0.0</td>\n",
       "    </tr>\n",
       "  </tbody>\n",
       "</table>\n",
       "</div>"
      ],
      "text/plain": [
       "     variant_id gene_name         variant_name category  variant_accepted   \n",
       "62         1027      ABL1       BCR::ABL D276G   Fusion              True  \\\n",
       "126        1025      ABL1       BCR::ABL Y253H   Fusion              True   \n",
       "715        3225     NTRK1  LMNA::NTRK1 e11-e10   Fusion              True   \n",
       "716        3223     NTRK1   LMNA::NTRK1 e2-e10   Fusion              True   \n",
       "717        3224     NTRK1   LMNA::NTRK1 e2-e11   Fusion              True   \n",
       "776        1247     BRCA2                  M1R    Other              True   \n",
       "\n",
       "    molecular_profile_id molecular_profile_score  molecular_profile_score_sum  \n",
       "62                                                                        0.0  \n",
       "126                                                                       0.0  \n",
       "715                                                                       0.0  \n",
       "716                                                                       0.0  \n",
       "717                                                                       0.0  \n",
       "776               [1221]                   [0.0]                          0.0  "
      ]
     },
     "execution_count": 324,
     "metadata": {},
     "output_type": "execute_result"
    }
   ],
   "source": [
    "not_supported_variants_add_molprof_df[(not_supported_variants_add_molprof_df[\"molecular_profile_score_sum\"]==0.0)& (not_supported_variants_add_molprof_df[\"variant_accepted\"]==True)]"
   ]
  },
  {
   "cell_type": "code",
   "execution_count": 325,
   "metadata": {},
   "outputs": [
    {
     "data": {
      "text/plain": [
       "862.5"
      ]
     },
     "execution_count": 325,
     "metadata": {},
     "output_type": "execute_result"
    }
   ],
   "source": [
    "not_supported_variants_add_molprof_df[\"molecular_profile_score_sum\"].max()"
   ]
  },
  {
   "cell_type": "code",
   "execution_count": 326,
   "metadata": {},
   "outputs": [
    {
     "data": {
      "text/html": [
       "<div>\n",
       "<style scoped>\n",
       "    .dataframe tbody tr th:only-of-type {\n",
       "        vertical-align: middle;\n",
       "    }\n",
       "\n",
       "    .dataframe tbody tr th {\n",
       "        vertical-align: top;\n",
       "    }\n",
       "\n",
       "    .dataframe thead th {\n",
       "        text-align: right;\n",
       "    }\n",
       "</style>\n",
       "<table border=\"1\" class=\"dataframe\">\n",
       "  <thead>\n",
       "    <tr style=\"text-align: right;\">\n",
       "      <th></th>\n",
       "      <th>variant_id</th>\n",
       "      <th>gene_name</th>\n",
       "      <th>variant_name</th>\n",
       "      <th>category</th>\n",
       "      <th>variant_accepted</th>\n",
       "      <th>molecular_profile_id</th>\n",
       "      <th>molecular_profile_score</th>\n",
       "      <th>molecular_profile_score_sum</th>\n",
       "    </tr>\n",
       "  </thead>\n",
       "  <tbody>\n",
       "    <tr>\n",
       "      <th>7</th>\n",
       "      <td>2930</td>\n",
       "      <td>VHL</td>\n",
       "      <td>NaN</td>\n",
       "      <td>Transcript Variant</td>\n",
       "      <td>True</td>\n",
       "      <td>[2799]</td>\n",
       "      <td>[7.5]</td>\n",
       "      <td>7.5</td>\n",
       "    </tr>\n",
       "    <tr>\n",
       "      <th>9</th>\n",
       "      <td>785</td>\n",
       "      <td>CHEK2</td>\n",
       "      <td>1100DELC</td>\n",
       "      <td>Protein Consequence</td>\n",
       "      <td>True</td>\n",
       "      <td>[766]</td>\n",
       "      <td>[15.0]</td>\n",
       "      <td>15.0</td>\n",
       "    </tr>\n",
       "    <tr>\n",
       "      <th>13</th>\n",
       "      <td>823</td>\n",
       "      <td>EPCAM</td>\n",
       "      <td>3' Exon Deletion</td>\n",
       "      <td>Region Defined Variant</td>\n",
       "      <td>True</td>\n",
       "      <td>[801]</td>\n",
       "      <td>[20.0]</td>\n",
       "      <td>20.0</td>\n",
       "    </tr>\n",
       "    <tr>\n",
       "      <th>15</th>\n",
       "      <td>433</td>\n",
       "      <td>HIF1A</td>\n",
       "      <td>3' UTR Polymorphism</td>\n",
       "      <td>Region Defined Variant</td>\n",
       "      <td>True</td>\n",
       "      <td>[429]</td>\n",
       "      <td>[10.0]</td>\n",
       "      <td>10.0</td>\n",
       "    </tr>\n",
       "    <tr>\n",
       "      <th>17</th>\n",
       "      <td>2367</td>\n",
       "      <td>VHL</td>\n",
       "      <td>3p26.3-25.3 11Mb del</td>\n",
       "      <td>Region Defined Variant</td>\n",
       "      <td>True</td>\n",
       "      <td>[2240]</td>\n",
       "      <td>[7.5]</td>\n",
       "      <td>7.5</td>\n",
       "    </tr>\n",
       "    <tr>\n",
       "      <th>...</th>\n",
       "      <td>...</td>\n",
       "      <td>...</td>\n",
       "      <td>...</td>\n",
       "      <td>...</td>\n",
       "      <td>...</td>\n",
       "      <td>...</td>\n",
       "      <td>...</td>\n",
       "      <td>...</td>\n",
       "    </tr>\n",
       "    <tr>\n",
       "      <th>1601</th>\n",
       "      <td>272</td>\n",
       "      <td>CDKN2A</td>\n",
       "      <td>p16 Expression</td>\n",
       "      <td>Expression</td>\n",
       "      <td>True</td>\n",
       "      <td>[268]</td>\n",
       "      <td>[180.0]</td>\n",
       "      <td>180.0</td>\n",
       "    </tr>\n",
       "    <tr>\n",
       "      <th>1603</th>\n",
       "      <td>3313</td>\n",
       "      <td>CDKN1A</td>\n",
       "      <td>rs1059234</td>\n",
       "      <td>Other</td>\n",
       "      <td>True</td>\n",
       "      <td>[3181]</td>\n",
       "      <td>[15.0]</td>\n",
       "      <td>15.0</td>\n",
       "    </tr>\n",
       "    <tr>\n",
       "      <th>1605</th>\n",
       "      <td>256</td>\n",
       "      <td>KIT</td>\n",
       "      <td>rs17084733</td>\n",
       "      <td>Other</td>\n",
       "      <td>True</td>\n",
       "      <td>[252]</td>\n",
       "      <td>[15.0]</td>\n",
       "      <td>15.0</td>\n",
       "    </tr>\n",
       "    <tr>\n",
       "      <th>1606</th>\n",
       "      <td>2671</td>\n",
       "      <td>CDKN1A</td>\n",
       "      <td>rs1801270</td>\n",
       "      <td>Other</td>\n",
       "      <td>True</td>\n",
       "      <td>[2540]</td>\n",
       "      <td>[15.0]</td>\n",
       "      <td>15.0</td>\n",
       "    </tr>\n",
       "    <tr>\n",
       "      <th>1608</th>\n",
       "      <td>705</td>\n",
       "      <td>GADD45A</td>\n",
       "      <td>rs681673</td>\n",
       "      <td>Other</td>\n",
       "      <td>True</td>\n",
       "      <td>[686]</td>\n",
       "      <td>[15.0]</td>\n",
       "      <td>15.0</td>\n",
       "    </tr>\n",
       "  </tbody>\n",
       "</table>\n",
       "<p>785 rows × 8 columns</p>\n",
       "</div>"
      ],
      "text/plain": [
       "      variant_id gene_name          variant_name                category   \n",
       "7           2930       VHL                   NaN      Transcript Variant  \\\n",
       "9            785     CHEK2              1100DELC     Protein Consequence   \n",
       "13           823     EPCAM      3' Exon Deletion  Region Defined Variant   \n",
       "15           433     HIF1A   3' UTR Polymorphism  Region Defined Variant   \n",
       "17          2367       VHL  3p26.3-25.3 11Mb del  Region Defined Variant   \n",
       "...          ...       ...                   ...                     ...   \n",
       "1601         272    CDKN2A        p16 Expression              Expression   \n",
       "1603        3313    CDKN1A             rs1059234                   Other   \n",
       "1605         256       KIT            rs17084733                   Other   \n",
       "1606        2671    CDKN1A             rs1801270                   Other   \n",
       "1608         705   GADD45A              rs681673                   Other   \n",
       "\n",
       "      variant_accepted molecular_profile_id molecular_profile_score   \n",
       "7                 True               [2799]                   [7.5]  \\\n",
       "9                 True                [766]                  [15.0]   \n",
       "13                True                [801]                  [20.0]   \n",
       "15                True                [429]                  [10.0]   \n",
       "17                True               [2240]                   [7.5]   \n",
       "...                ...                  ...                     ...   \n",
       "1601              True                [268]                 [180.0]   \n",
       "1603              True               [3181]                  [15.0]   \n",
       "1605              True                [252]                  [15.0]   \n",
       "1606              True               [2540]                  [15.0]   \n",
       "1608              True                [686]                  [15.0]   \n",
       "\n",
       "      molecular_profile_score_sum  \n",
       "7                             7.5  \n",
       "9                            15.0  \n",
       "13                           20.0  \n",
       "15                           10.0  \n",
       "17                            7.5  \n",
       "...                           ...  \n",
       "1601                        180.0  \n",
       "1603                         15.0  \n",
       "1605                         15.0  \n",
       "1606                         15.0  \n",
       "1608                         15.0  \n",
       "\n",
       "[785 rows x 8 columns]"
      ]
     },
     "execution_count": 326,
     "metadata": {},
     "output_type": "execute_result"
    }
   ],
   "source": [
    "not_supported_variants_add_molprof_df[(not_supported_variants_add_molprof_df[\"molecular_profile_score_sum\"]!=0.0)]"
   ]
  },
  {
   "cell_type": "markdown",
   "metadata": {},
   "source": [
    "### Impact by Subcategory"
   ]
  },
  {
   "cell_type": "code",
   "execution_count": 327,
   "metadata": {},
   "outputs": [],
   "source": [
    "not_supported_impact_summary = {\n",
    "    \"Category\": VARIANT_CATEGORY_VALUES,\n",
    "    \"CIVIC Total Sum Impact Score\": [],\n",
    "    'Average Impact Score per Variant': [],\n",
    "    'Average Impact Score per Evidence Item':[],\n",
    "    \"Total Number Evidence Items\": [v[\"number_unique_not_supported_category_evidence\"] for v in not_supported_variant_categories_evidence_summary_data.values()],\n",
    "    \"% Accepted Evidence Items\": [v[\"percentage_accepted_evidence_not_supported_category_variants\"] for v in not_supported_variant_categories_evidence_summary_data.values()],\n",
    "    \"Total Number Variants\": [v[\"number_unique_not_supported_category_variants\"] for v in not_supported_variant_categories_summary_data.values()]\n",
    "}"
   ]
  },
  {
   "cell_type": "code",
   "execution_count": 328,
   "metadata": {},
   "outputs": [
    {
     "name": "stdout",
     "output_type": "stream",
     "text": [
      "385\n",
      "Expression: 3618.0\n",
      "385\n",
      "Epigenetic Modification: 285.5\n",
      "385\n",
      "Fusion: 6600.75\n",
      "385\n",
      "Protein Consequence: 2683.75\n",
      "385\n",
      "Gene Function: 1805.5\n",
      "385\n",
      "Rearrangements: 653.0\n",
      "385\n",
      "Copy Number: 225.0\n",
      "385\n",
      "Other: 673.5\n",
      "385\n",
      "Genotypes Easy: 195.0\n",
      "385\n",
      "Genotypes Compound: 117.5\n",
      "385\n",
      "Region Defined Variant: 8353.5\n",
      "385\n",
      "Transcript Variant: 356.5\n"
     ]
    }
   ],
   "source": [
    "not_supported_variant_categories_impact_data = dict()\n",
    "for category in VARIANT_CATEGORY_VALUES:\n",
    "    not_supported_variant_categories_impact_data[category] = {}\n",
    "    impact_category_df = not_supported_variants_add_molprof_df[not_supported_variants_add_molprof_df.category == category]\n",
    "\n",
    "    total_sum_not_supported_category_impact = impact_category_df[\"molecular_profile_score_sum\"].sum()\n",
    "    not_supported_variant_categories_impact_data[category][\"total_sum_not_supported_category_impact\"] = total_sum_not_supported_category_impact\n",
    "\n",
    "    avg_impact_score_variant = total_sum_not_supported_category_impact/ number_unique_not_supported_category_variants\n",
    "    not_supported_variant_categories_impact_data[category][\"avg_impact_score_variant\"]=  avg_impact_score_variant\n",
    "\n",
    "    avg_impact_score_evidence = total_sum_not_supported_category_impact/ number_unique_not_supported_category_evidence\n",
    "    not_supported_variant_categories_impact_data[category][\"avg_impact_score_evidence\"]=  avg_impact_score_evidence\n",
    "\n",
    "    not_supported_impact_summary[\"CIVIC Total Sum Impact Score\"].append(total_sum_not_supported_category_impact)\n",
    "    not_supported_impact_summary[\"Average Impact Score per Variant\"].append(avg_impact_score_variant)\n",
    "    not_supported_impact_summary[\"Average Impact Score per Evidence Item\"].append(avg_impact_score_evidence)\n",
    "\n",
    "\n",
    "    print(number_unique_not_supported_category_variants)\n",
    "    print(f\"{category}: {total_sum_not_supported_category_impact}\")"
   ]
  },
  {
   "cell_type": "code",
   "execution_count": 329,
   "metadata": {},
   "outputs": [],
   "source": [
    "not_supported_variant_impact_df = pd.DataFrame(not_supported_impact_summary)"
   ]
  },
  {
   "cell_type": "code",
   "execution_count": 330,
   "metadata": {},
   "outputs": [
    {
     "data": {
      "text/html": [
       "<div>\n",
       "<style scoped>\n",
       "    .dataframe tbody tr th:only-of-type {\n",
       "        vertical-align: middle;\n",
       "    }\n",
       "\n",
       "    .dataframe tbody tr th {\n",
       "        vertical-align: top;\n",
       "    }\n",
       "\n",
       "    .dataframe thead th {\n",
       "        text-align: right;\n",
       "    }\n",
       "</style>\n",
       "<table border=\"1\" class=\"dataframe\">\n",
       "  <thead>\n",
       "    <tr style=\"text-align: right;\">\n",
       "      <th></th>\n",
       "      <th>Category</th>\n",
       "      <th>CIVIC Total Sum Impact Score</th>\n",
       "      <th>Average Impact Score per Variant</th>\n",
       "      <th>Average Impact Score per Evidence Item</th>\n",
       "      <th>Total Number Evidence Items</th>\n",
       "      <th>% Accepted Evidence Items</th>\n",
       "      <th>Total Number Variants</th>\n",
       "    </tr>\n",
       "  </thead>\n",
       "  <tbody>\n",
       "    <tr>\n",
       "      <th>0</th>\n",
       "      <td>Expression</td>\n",
       "      <td>3618.00</td>\n",
       "      <td>9.397403</td>\n",
       "      <td>7.681529</td>\n",
       "      <td>618</td>\n",
       "      <td>55.34%</td>\n",
       "      <td>291</td>\n",
       "    </tr>\n",
       "    <tr>\n",
       "      <th>1</th>\n",
       "      <td>Epigenetic Modification</td>\n",
       "      <td>285.50</td>\n",
       "      <td>0.741558</td>\n",
       "      <td>0.606157</td>\n",
       "      <td>24</td>\n",
       "      <td>91.67%</td>\n",
       "      <td>15</td>\n",
       "    </tr>\n",
       "    <tr>\n",
       "      <th>2</th>\n",
       "      <td>Fusion</td>\n",
       "      <td>6600.75</td>\n",
       "      <td>17.144805</td>\n",
       "      <td>14.014331</td>\n",
       "      <td>1239</td>\n",
       "      <td>59.48%</td>\n",
       "      <td>308</td>\n",
       "    </tr>\n",
       "    <tr>\n",
       "      <th>3</th>\n",
       "      <td>Protein Consequence</td>\n",
       "      <td>2683.75</td>\n",
       "      <td>6.970779</td>\n",
       "      <td>5.697983</td>\n",
       "      <td>301</td>\n",
       "      <td>63.46%</td>\n",
       "      <td>128</td>\n",
       "    </tr>\n",
       "    <tr>\n",
       "      <th>4</th>\n",
       "      <td>Gene Function</td>\n",
       "      <td>1805.50</td>\n",
       "      <td>4.689610</td>\n",
       "      <td>3.833333</td>\n",
       "      <td>348</td>\n",
       "      <td>44.25%</td>\n",
       "      <td>90</td>\n",
       "    </tr>\n",
       "    <tr>\n",
       "      <th>5</th>\n",
       "      <td>Rearrangements</td>\n",
       "      <td>653.00</td>\n",
       "      <td>1.696104</td>\n",
       "      <td>1.386412</td>\n",
       "      <td>136</td>\n",
       "      <td>38.97%</td>\n",
       "      <td>52</td>\n",
       "    </tr>\n",
       "    <tr>\n",
       "      <th>6</th>\n",
       "      <td>Copy Number</td>\n",
       "      <td>225.00</td>\n",
       "      <td>0.584416</td>\n",
       "      <td>0.477707</td>\n",
       "      <td>64</td>\n",
       "      <td>42.19%</td>\n",
       "      <td>34</td>\n",
       "    </tr>\n",
       "    <tr>\n",
       "      <th>7</th>\n",
       "      <td>Other</td>\n",
       "      <td>673.50</td>\n",
       "      <td>1.749351</td>\n",
       "      <td>1.429936</td>\n",
       "      <td>162</td>\n",
       "      <td>37.04%</td>\n",
       "      <td>93</td>\n",
       "    </tr>\n",
       "    <tr>\n",
       "      <th>8</th>\n",
       "      <td>Genotypes Easy</td>\n",
       "      <td>195.00</td>\n",
       "      <td>0.506494</td>\n",
       "      <td>0.414013</td>\n",
       "      <td>23</td>\n",
       "      <td>56.52%</td>\n",
       "      <td>11</td>\n",
       "    </tr>\n",
       "    <tr>\n",
       "      <th>9</th>\n",
       "      <td>Genotypes Compound</td>\n",
       "      <td>117.50</td>\n",
       "      <td>0.305195</td>\n",
       "      <td>0.249469</td>\n",
       "      <td>7</td>\n",
       "      <td>57.14%</td>\n",
       "      <td>6</td>\n",
       "    </tr>\n",
       "    <tr>\n",
       "      <th>10</th>\n",
       "      <td>Region Defined Variant</td>\n",
       "      <td>8353.50</td>\n",
       "      <td>21.697403</td>\n",
       "      <td>17.735669</td>\n",
       "      <td>976</td>\n",
       "      <td>57.17%</td>\n",
       "      <td>209</td>\n",
       "    </tr>\n",
       "    <tr>\n",
       "      <th>11</th>\n",
       "      <td>Transcript Variant</td>\n",
       "      <td>356.50</td>\n",
       "      <td>0.925974</td>\n",
       "      <td>0.756900</td>\n",
       "      <td>471</td>\n",
       "      <td>11.46%</td>\n",
       "      <td>385</td>\n",
       "    </tr>\n",
       "  </tbody>\n",
       "</table>\n",
       "</div>"
      ],
      "text/plain": [
       "                   Category  CIVIC Total Sum Impact Score   \n",
       "0                Expression                       3618.00  \\\n",
       "1   Epigenetic Modification                        285.50   \n",
       "2                    Fusion                       6600.75   \n",
       "3       Protein Consequence                       2683.75   \n",
       "4             Gene Function                       1805.50   \n",
       "5            Rearrangements                        653.00   \n",
       "6               Copy Number                        225.00   \n",
       "7                     Other                        673.50   \n",
       "8            Genotypes Easy                        195.00   \n",
       "9        Genotypes Compound                        117.50   \n",
       "10   Region Defined Variant                       8353.50   \n",
       "11       Transcript Variant                        356.50   \n",
       "\n",
       "    Average Impact Score per Variant  Average Impact Score per Evidence Item   \n",
       "0                           9.397403                                7.681529  \\\n",
       "1                           0.741558                                0.606157   \n",
       "2                          17.144805                               14.014331   \n",
       "3                           6.970779                                5.697983   \n",
       "4                           4.689610                                3.833333   \n",
       "5                           1.696104                                1.386412   \n",
       "6                           0.584416                                0.477707   \n",
       "7                           1.749351                                1.429936   \n",
       "8                           0.506494                                0.414013   \n",
       "9                           0.305195                                0.249469   \n",
       "10                         21.697403                               17.735669   \n",
       "11                          0.925974                                0.756900   \n",
       "\n",
       "    Total Number Evidence Items % Accepted Evidence Items   \n",
       "0                           618                    55.34%  \\\n",
       "1                            24                    91.67%   \n",
       "2                          1239                    59.48%   \n",
       "3                           301                    63.46%   \n",
       "4                           348                    44.25%   \n",
       "5                           136                    38.97%   \n",
       "6                            64                    42.19%   \n",
       "7                           162                    37.04%   \n",
       "8                            23                    56.52%   \n",
       "9                             7                    57.14%   \n",
       "10                          976                    57.17%   \n",
       "11                          471                    11.46%   \n",
       "\n",
       "    Total Number Variants  \n",
       "0                     291  \n",
       "1                      15  \n",
       "2                     308  \n",
       "3                     128  \n",
       "4                      90  \n",
       "5                      52  \n",
       "6                      34  \n",
       "7                      93  \n",
       "8                      11  \n",
       "9                       6  \n",
       "10                    209  \n",
       "11                    385  "
      ]
     },
     "execution_count": 330,
     "metadata": {},
     "output_type": "execute_result"
    }
   ],
   "source": [
    "not_supported_variant_impact_df"
   ]
  },
  {
   "cell_type": "code",
   "execution_count": 331,
   "metadata": {},
   "outputs": [],
   "source": [
    "not_supported_variant_impact_df.to_csv('../not_supported_variant_impact_df.csv', index=False)"
   ]
  },
  {
   "cell_type": "markdown",
   "metadata": {},
   "source": [
    "# Summary"
   ]
  },
  {
   "cell_type": "markdown",
   "metadata": {},
   "source": [
    "## Variant Analysis"
   ]
  },
  {
   "cell_type": "code",
   "execution_count": 332,
   "metadata": {},
   "outputs": [],
   "source": [
    "all_variant_df = pd.DataFrame(variant_analysis_summary)"
   ]
  },
  {
   "cell_type": "code",
   "execution_count": 333,
   "metadata": {},
   "outputs": [],
   "source": [
    "all_variant_df[\"Percentage of all CIViC Variant Items\"] = all_variant_df[\"Fraction of all CIViC Variant Items\"].astype(str) + \"  (\" + all_variant_df[\"Percentage of all CIViC Variant Items\"] + \")\"\n",
    "all_variant_df[\"Percentage of Accepted Variant Items\"] = all_variant_df[\"Fraction of Accepted Variant Items\"].astype(str) + \"  (\" + all_variant_df[\"Percentage of Accepted Variant Items\"] + \")\"\n",
    "all_variant_df[\"Percentage of Not Accepted Variant Items\"] = all_variant_df[\"Fraction of Not Accepted Variant Items\"].astype(str) + \"  (\" + all_variant_df[\"Percentage of Not Accepted Variant Items\"] + \")\""
   ]
  },
  {
   "cell_type": "code",
   "execution_count": 334,
   "metadata": {},
   "outputs": [],
   "source": [
    "all_variant_df = all_variant_df.drop([\"Fraction of all CIViC Variant Items\", \"Fraction of Accepted Variant Items\", \"Fraction of Not Accepted Variant Items\"], axis=1)"
   ]
  },
  {
   "cell_type": "code",
   "execution_count": 335,
   "metadata": {},
   "outputs": [],
   "source": [
    "all_variant_percent_status_df = all_variant_df.drop([\"Percentage of all CIViC Variant Items\", \"Count of CIViC Variant Items per Category\"], axis=1)\n",
    "\n",
    "for_merge_all_variant_percent_of_civic_df = all_variant_df.drop([\"Percentage of Accepted Variant Items\", \"Percentage of Not Accepted Variant Items\"], axis=1)\n",
    "\n",
    "all_variant_percent_of_civic_df = for_merge_all_variant_percent_of_civic_df.drop([\"Count of CIViC Variant Items per Category\"], axis=1)"
   ]
  },
  {
   "cell_type": "code",
   "execution_count": 336,
   "metadata": {},
   "outputs": [],
   "source": [
    "for_merge_all_variant_percent_of_civic_df.to_csv('../for_merge_all_variant_percent_of_civic_df.csv', index=False)\n"
   ]
  },
  {
   "cell_type": "markdown",
   "metadata": {},
   "source": [
    "Summary Table 1: The table below shows the 3 categories that CIViC variants were divided into after normalization and what percentage they make up of all variants in CIViC data. "
   ]
  },
  {
   "cell_type": "code",
   "execution_count": 337,
   "metadata": {},
   "outputs": [
    {
     "data": {
      "text/html": [
       "<div>\n",
       "<style scoped>\n",
       "    .dataframe tbody tr th:only-of-type {\n",
       "        vertical-align: middle;\n",
       "    }\n",
       "\n",
       "    .dataframe tbody tr th {\n",
       "        vertical-align: top;\n",
       "    }\n",
       "\n",
       "    .dataframe thead th {\n",
       "        text-align: right;\n",
       "    }\n",
       "</style>\n",
       "<table border=\"1\" class=\"dataframe\">\n",
       "  <thead>\n",
       "    <tr style=\"text-align: right;\">\n",
       "      <th></th>\n",
       "      <th>Percentage of all CIViC Variant Items</th>\n",
       "    </tr>\n",
       "    <tr>\n",
       "      <th>Variant Category</th>\n",
       "      <th></th>\n",
       "    </tr>\n",
       "  </thead>\n",
       "  <tbody>\n",
       "    <tr>\n",
       "      <th>Normalized</th>\n",
       "      <td>1869 / 3581  (52.19%)</td>\n",
       "    </tr>\n",
       "    <tr>\n",
       "      <th>Unable to Normalize</th>\n",
       "      <td>63 / 3581  (1.76%)</td>\n",
       "    </tr>\n",
       "    <tr>\n",
       "      <th>Not Supported</th>\n",
       "      <td>1622 / 3581  (45.29%)</td>\n",
       "    </tr>\n",
       "  </tbody>\n",
       "</table>\n",
       "</div>"
      ],
      "text/plain": [
       "                    Percentage of all CIViC Variant Items\n",
       "Variant Category                                         \n",
       "Normalized                          1869 / 3581  (52.19%)\n",
       "Unable to Normalize                    63 / 3581  (1.76%)\n",
       "Not Supported                       1622 / 3581  (45.29%)"
      ]
     },
     "execution_count": 337,
     "metadata": {},
     "output_type": "execute_result"
    }
   ],
   "source": [
    "all_variant_percent_of_civic_df = all_variant_percent_of_civic_df.set_index(\"Variant Category\")\n",
    "all_variant_percent_of_civic_df"
   ]
  },
  {
   "cell_type": "code",
   "execution_count": 338,
   "metadata": {},
   "outputs": [],
   "source": [
    "civic_summary_table_1 = all_variant_percent_of_civic_df"
   ]
  },
  {
   "cell_type": "markdown",
   "metadata": {},
   "source": [
    "Summary Table 2: The table below shows the 3 categories that CIViC variants were divided into after normalization and what percentage of the variants in each category are accepted (have at least one evidence item that is accepted) or not."
   ]
  },
  {
   "cell_type": "code",
   "execution_count": 339,
   "metadata": {},
   "outputs": [
    {
     "data": {
      "text/html": [
       "<div>\n",
       "<style scoped>\n",
       "    .dataframe tbody tr th:only-of-type {\n",
       "        vertical-align: middle;\n",
       "    }\n",
       "\n",
       "    .dataframe tbody tr th {\n",
       "        vertical-align: top;\n",
       "    }\n",
       "\n",
       "    .dataframe thead th {\n",
       "        text-align: right;\n",
       "    }\n",
       "</style>\n",
       "<table border=\"1\" class=\"dataframe\">\n",
       "  <thead>\n",
       "    <tr style=\"text-align: right;\">\n",
       "      <th></th>\n",
       "      <th>Percentage of Accepted Variant Items</th>\n",
       "      <th>Percentage of Not Accepted Variant Items</th>\n",
       "    </tr>\n",
       "    <tr>\n",
       "      <th>Variant Category</th>\n",
       "      <th></th>\n",
       "      <th></th>\n",
       "    </tr>\n",
       "  </thead>\n",
       "  <tbody>\n",
       "    <tr>\n",
       "      <th>Normalized</th>\n",
       "      <td>866 / 1869  (46.33%)</td>\n",
       "      <td>1003 / 1869  (53.67%)</td>\n",
       "    </tr>\n",
       "    <tr>\n",
       "      <th>Unable to Normalize</th>\n",
       "      <td>9 / 63  (14.29%)</td>\n",
       "      <td>54 / 63  (85.71%)</td>\n",
       "    </tr>\n",
       "    <tr>\n",
       "      <th>Not Supported</th>\n",
       "      <td>788 / 1622  (48.58%)</td>\n",
       "      <td>834 / 1622  (51.42%)</td>\n",
       "    </tr>\n",
       "  </tbody>\n",
       "</table>\n",
       "</div>"
      ],
      "text/plain": [
       "                    Percentage of Accepted Variant Items   \n",
       "Variant Category                                           \n",
       "Normalized                          866 / 1869  (46.33%)  \\\n",
       "Unable to Normalize                     9 / 63  (14.29%)   \n",
       "Not Supported                       788 / 1622  (48.58%)   \n",
       "\n",
       "                    Percentage of Not Accepted Variant Items  \n",
       "Variant Category                                              \n",
       "Normalized                             1003 / 1869  (53.67%)  \n",
       "Unable to Normalize                        54 / 63  (85.71%)  \n",
       "Not Supported                           834 / 1622  (51.42%)  "
      ]
     },
     "execution_count": 339,
     "metadata": {},
     "output_type": "execute_result"
    }
   ],
   "source": [
    "all_variant_percent_status_df = all_variant_percent_status_df.set_index(\"Variant Category\")\n",
    "all_variant_percent_status_df"
   ]
  },
  {
   "cell_type": "code",
   "execution_count": 340,
   "metadata": {},
   "outputs": [],
   "source": [
    "civic_summary_table_2 = all_variant_percent_status_df"
   ]
  },
  {
   "cell_type": "code",
   "execution_count": 341,
   "metadata": {},
   "outputs": [],
   "source": [
    "not_supported_variant_df = pd.DataFrame(not_supported_variant_analysis_summary)"
   ]
  },
  {
   "cell_type": "code",
   "execution_count": 342,
   "metadata": {},
   "outputs": [],
   "source": [
    "not_supported_variant_df[\"Percent of Not Supported Variant Items\"] = not_supported_variant_df[\"Fraction of Not Supported Variant Items\"].astype(str) + \"  (\" + not_supported_variant_df[\"Percent of Not Supported Variant Items\"] + \")\"\n",
    "not_supported_variant_df[\"Percent of all CIViC Variant Items\"] = not_supported_variant_df[\"Fraction of all CIViC Variant Items\"].astype(str) + \"  (\" + not_supported_variant_df[\"Percent of all CIViC Variant Items\"] + \")\"\n",
    "not_supported_variant_df[\"Percent of Accepted Variant Items\"] = not_supported_variant_df[\"Fraction of Accepted Variant Items\"].astype(str) + \"  (\" + not_supported_variant_df[\"Percent of Accepted Variant Items\"] + \")\"\n",
    "not_supported_variant_df[\"Percent of Not Accepted Variant Items\"] = not_supported_variant_df[\"Fraction of Not Accepted Variant Items\"].astype(str) + \"  (\" + not_supported_variant_df[\"Percent of Not Accepted Variant Items\"] + \")\""
   ]
  },
  {
   "cell_type": "code",
   "execution_count": 343,
   "metadata": {},
   "outputs": [],
   "source": [
    "not_supported_variant_df = not_supported_variant_df.drop([\"Fraction of Not Supported Variant Items\", \"Fraction of all CIViC Variant Items\", \"Fraction of Accepted Variant Items\", \"Fraction of Not Accepted Variant Items\"], axis=1)"
   ]
  },
  {
   "cell_type": "code",
   "execution_count": 344,
   "metadata": {},
   "outputs": [],
   "source": [
    "for_merge_not_supported_variant_percent_of_civic_df = not_supported_variant_df.drop([\"Percent of Not Supported Variant Items\", \"Percent of Accepted Variant Items\", \"Percent of Not Accepted Variant Items\"], axis=1)\n",
    "\n",
    "not_supported_variant_percent_of_civic_df = for_merge_not_supported_variant_percent_of_civic_df.drop([\"Count of CIViC Variant Items per Category\"], axis=1)\n",
    "\n",
    "not_supported_variant_percent_of_not_supported_df = not_supported_variant_df.drop([\"Percent of all CIViC Variant Items\", \"Count of CIViC Variant Items per Category\", \"Percent of Accepted Variant Items\", \"Percent of Not Accepted Variant Items\"], axis=1)\n",
    "\n",
    "not_supported_variant_percent_evidence_df = not_supported_variant_df.drop([\"Percent of all CIViC Variant Items\", \"Percent of Not Supported Variant Items\",\"Count of CIViC Variant Items per Category\"], axis=1)"
   ]
  },
  {
   "cell_type": "code",
   "execution_count": 345,
   "metadata": {},
   "outputs": [],
   "source": [
    "for_merge_not_supported_variant_percent_of_civic_df.to_csv('../for_merge_not_supported_variant_percent_of_civic_df.csv', index=False)"
   ]
  },
  {
   "cell_type": "markdown",
   "metadata": {},
   "source": [
    "Summary Table 3: The table below shows the categories that the Not Supported variants were broken into and what percentage of all CIViC variants they make up. These percentages will not add up to 100% because Not Supported variants make up 45.62% of all CIViC variants. "
   ]
  },
  {
   "cell_type": "code",
   "execution_count": 346,
   "metadata": {},
   "outputs": [
    {
     "data": {
      "text/html": [
       "<div>\n",
       "<style scoped>\n",
       "    .dataframe tbody tr th:only-of-type {\n",
       "        vertical-align: middle;\n",
       "    }\n",
       "\n",
       "    .dataframe tbody tr th {\n",
       "        vertical-align: top;\n",
       "    }\n",
       "\n",
       "    .dataframe thead th {\n",
       "        text-align: right;\n",
       "    }\n",
       "</style>\n",
       "<table border=\"1\" class=\"dataframe\">\n",
       "  <thead>\n",
       "    <tr style=\"text-align: right;\">\n",
       "      <th></th>\n",
       "      <th>Percent of all CIViC Variant Items</th>\n",
       "    </tr>\n",
       "    <tr>\n",
       "      <th>Category</th>\n",
       "      <th></th>\n",
       "    </tr>\n",
       "  </thead>\n",
       "  <tbody>\n",
       "    <tr>\n",
       "      <th>Expression</th>\n",
       "      <td>291 / 3581  (8.13%)</td>\n",
       "    </tr>\n",
       "    <tr>\n",
       "      <th>Epigenetic Modification</th>\n",
       "      <td>15 / 3581  (0.42%)</td>\n",
       "    </tr>\n",
       "    <tr>\n",
       "      <th>Fusion</th>\n",
       "      <td>308 / 3581  (8.60%)</td>\n",
       "    </tr>\n",
       "    <tr>\n",
       "      <th>Protein Consequence</th>\n",
       "      <td>128 / 3581  (3.57%)</td>\n",
       "    </tr>\n",
       "    <tr>\n",
       "      <th>Gene Function</th>\n",
       "      <td>90 / 3581  (2.51%)</td>\n",
       "    </tr>\n",
       "    <tr>\n",
       "      <th>Rearrangements</th>\n",
       "      <td>52 / 3581  (1.45%)</td>\n",
       "    </tr>\n",
       "    <tr>\n",
       "      <th>Copy Number</th>\n",
       "      <td>34 / 3581  (0.95%)</td>\n",
       "    </tr>\n",
       "    <tr>\n",
       "      <th>Other</th>\n",
       "      <td>93 / 3581  (2.60%)</td>\n",
       "    </tr>\n",
       "    <tr>\n",
       "      <th>Genotypes Easy</th>\n",
       "      <td>11 / 3581  (0.31%)</td>\n",
       "    </tr>\n",
       "    <tr>\n",
       "      <th>Genotypes Compound</th>\n",
       "      <td>6 / 3581  (0.17%)</td>\n",
       "    </tr>\n",
       "    <tr>\n",
       "      <th>Region Defined Variant</th>\n",
       "      <td>209 / 3581  (5.84%)</td>\n",
       "    </tr>\n",
       "    <tr>\n",
       "      <th>Transcript Variant</th>\n",
       "      <td>385 / 3581  (10.75%)</td>\n",
       "    </tr>\n",
       "  </tbody>\n",
       "</table>\n",
       "</div>"
      ],
      "text/plain": [
       "                        Percent of all CIViC Variant Items\n",
       "Category                                                  \n",
       "Expression                             291 / 3581  (8.13%)\n",
       "Epigenetic Modification                 15 / 3581  (0.42%)\n",
       "Fusion                                 308 / 3581  (8.60%)\n",
       "Protein Consequence                    128 / 3581  (3.57%)\n",
       "Gene Function                           90 / 3581  (2.51%)\n",
       "Rearrangements                          52 / 3581  (1.45%)\n",
       "Copy Number                             34 / 3581  (0.95%)\n",
       "Other                                   93 / 3581  (2.60%)\n",
       "Genotypes Easy                          11 / 3581  (0.31%)\n",
       "Genotypes Compound                       6 / 3581  (0.17%)\n",
       "Region Defined Variant                 209 / 3581  (5.84%)\n",
       "Transcript Variant                    385 / 3581  (10.75%)"
      ]
     },
     "execution_count": 346,
     "metadata": {},
     "output_type": "execute_result"
    }
   ],
   "source": [
    "not_supported_variant_percent_of_civic_df = not_supported_variant_percent_of_civic_df.set_index(\"Category\")\n",
    "not_supported_variant_percent_of_civic_df"
   ]
  },
  {
   "cell_type": "code",
   "execution_count": 347,
   "metadata": {},
   "outputs": [],
   "source": [
    "civic_summary_table_3 = not_supported_variant_percent_of_civic_df"
   ]
  },
  {
   "cell_type": "markdown",
   "metadata": {},
   "source": [
    "Summary Table 4: The table below shows the Not Supported variants broken up into 12 sub categories and what percent each sub category take up in Not Supported variant group."
   ]
  },
  {
   "cell_type": "code",
   "execution_count": 348,
   "metadata": {},
   "outputs": [
    {
     "data": {
      "text/html": [
       "<div>\n",
       "<style scoped>\n",
       "    .dataframe tbody tr th:only-of-type {\n",
       "        vertical-align: middle;\n",
       "    }\n",
       "\n",
       "    .dataframe tbody tr th {\n",
       "        vertical-align: top;\n",
       "    }\n",
       "\n",
       "    .dataframe thead th {\n",
       "        text-align: right;\n",
       "    }\n",
       "</style>\n",
       "<table border=\"1\" class=\"dataframe\">\n",
       "  <thead>\n",
       "    <tr style=\"text-align: right;\">\n",
       "      <th></th>\n",
       "      <th>Percent of Not Supported Variant Items</th>\n",
       "    </tr>\n",
       "    <tr>\n",
       "      <th>Category</th>\n",
       "      <th></th>\n",
       "    </tr>\n",
       "  </thead>\n",
       "  <tbody>\n",
       "    <tr>\n",
       "      <th>Expression</th>\n",
       "      <td>291 / 1622  (17.94%)</td>\n",
       "    </tr>\n",
       "    <tr>\n",
       "      <th>Epigenetic Modification</th>\n",
       "      <td>15 / 1622  (0.92%)</td>\n",
       "    </tr>\n",
       "    <tr>\n",
       "      <th>Fusion</th>\n",
       "      <td>308 / 1622  (18.99%)</td>\n",
       "    </tr>\n",
       "    <tr>\n",
       "      <th>Protein Consequence</th>\n",
       "      <td>128 / 1622  (7.89%)</td>\n",
       "    </tr>\n",
       "    <tr>\n",
       "      <th>Gene Function</th>\n",
       "      <td>90 / 1622  (5.55%)</td>\n",
       "    </tr>\n",
       "    <tr>\n",
       "      <th>Rearrangements</th>\n",
       "      <td>52 / 1622  (3.21%)</td>\n",
       "    </tr>\n",
       "    <tr>\n",
       "      <th>Copy Number</th>\n",
       "      <td>34 / 1622  (2.10%)</td>\n",
       "    </tr>\n",
       "    <tr>\n",
       "      <th>Other</th>\n",
       "      <td>93 / 1622  (5.73%)</td>\n",
       "    </tr>\n",
       "    <tr>\n",
       "      <th>Genotypes Easy</th>\n",
       "      <td>11 / 1622  (0.68%)</td>\n",
       "    </tr>\n",
       "    <tr>\n",
       "      <th>Genotypes Compound</th>\n",
       "      <td>6 / 1622  (0.37%)</td>\n",
       "    </tr>\n",
       "    <tr>\n",
       "      <th>Region Defined Variant</th>\n",
       "      <td>209 / 1622  (12.89%)</td>\n",
       "    </tr>\n",
       "    <tr>\n",
       "      <th>Transcript Variant</th>\n",
       "      <td>385 / 1622  (23.74%)</td>\n",
       "    </tr>\n",
       "  </tbody>\n",
       "</table>\n",
       "</div>"
      ],
      "text/plain": [
       "                        Percent of Not Supported Variant Items\n",
       "Category                                                      \n",
       "Expression                                291 / 1622  (17.94%)\n",
       "Epigenetic Modification                     15 / 1622  (0.92%)\n",
       "Fusion                                    308 / 1622  (18.99%)\n",
       "Protein Consequence                        128 / 1622  (7.89%)\n",
       "Gene Function                               90 / 1622  (5.55%)\n",
       "Rearrangements                              52 / 1622  (3.21%)\n",
       "Copy Number                                 34 / 1622  (2.10%)\n",
       "Other                                       93 / 1622  (5.73%)\n",
       "Genotypes Easy                              11 / 1622  (0.68%)\n",
       "Genotypes Compound                           6 / 1622  (0.37%)\n",
       "Region Defined Variant                    209 / 1622  (12.89%)\n",
       "Transcript Variant                        385 / 1622  (23.74%)"
      ]
     },
     "execution_count": 348,
     "metadata": {},
     "output_type": "execute_result"
    }
   ],
   "source": [
    "not_supported_variant_percent_of_not_supported_df = not_supported_variant_percent_of_not_supported_df.set_index(\"Category\")\n",
    "not_supported_variant_percent_of_not_supported_df"
   ]
  },
  {
   "cell_type": "code",
   "execution_count": 349,
   "metadata": {},
   "outputs": [],
   "source": [
    "civic_summary_table_4= not_supported_variant_percent_of_not_supported_df"
   ]
  },
  {
   "cell_type": "markdown",
   "metadata": {},
   "source": [
    "Summary Table 5: The table below shows the percent of variant items in each Not Supported variant sub category that are accepted(have at least one evidence item that is accepted) or not, per category."
   ]
  },
  {
   "cell_type": "code",
   "execution_count": 350,
   "metadata": {},
   "outputs": [
    {
     "data": {
      "text/html": [
       "<div>\n",
       "<style scoped>\n",
       "    .dataframe tbody tr th:only-of-type {\n",
       "        vertical-align: middle;\n",
       "    }\n",
       "\n",
       "    .dataframe tbody tr th {\n",
       "        vertical-align: top;\n",
       "    }\n",
       "\n",
       "    .dataframe thead th {\n",
       "        text-align: right;\n",
       "    }\n",
       "</style>\n",
       "<table border=\"1\" class=\"dataframe\">\n",
       "  <thead>\n",
       "    <tr style=\"text-align: right;\">\n",
       "      <th></th>\n",
       "      <th>Percent of Accepted Variant Items</th>\n",
       "      <th>Percent of Not Accepted Variant Items</th>\n",
       "    </tr>\n",
       "    <tr>\n",
       "      <th>Category</th>\n",
       "      <th></th>\n",
       "      <th></th>\n",
       "    </tr>\n",
       "  </thead>\n",
       "  <tbody>\n",
       "    <tr>\n",
       "      <th>Expression</th>\n",
       "      <td>180 / 291  (61.86%)</td>\n",
       "      <td>111 / 291  (38.14%)</td>\n",
       "    </tr>\n",
       "    <tr>\n",
       "      <th>Epigenetic Modification</th>\n",
       "      <td>14 / 15  (93.33%)</td>\n",
       "      <td>1 / 15  (6.67%)</td>\n",
       "    </tr>\n",
       "    <tr>\n",
       "      <th>Fusion</th>\n",
       "      <td>204 / 308  (66.23%)</td>\n",
       "      <td>104 / 308  (33.77%)</td>\n",
       "    </tr>\n",
       "    <tr>\n",
       "      <th>Protein Consequence</th>\n",
       "      <td>70 / 128  (54.69%)</td>\n",
       "      <td>58 / 128  (45.31%)</td>\n",
       "    </tr>\n",
       "    <tr>\n",
       "      <th>Gene Function</th>\n",
       "      <td>49 / 90  (54.44%)</td>\n",
       "      <td>41 / 90  (45.56%)</td>\n",
       "    </tr>\n",
       "    <tr>\n",
       "      <th>Rearrangements</th>\n",
       "      <td>12 / 52  (23.08%)</td>\n",
       "      <td>40 / 52  (76.92%)</td>\n",
       "    </tr>\n",
       "    <tr>\n",
       "      <th>Copy Number</th>\n",
       "      <td>19 / 34  (55.88%)</td>\n",
       "      <td>15 / 34  (44.12%)</td>\n",
       "    </tr>\n",
       "    <tr>\n",
       "      <th>Other</th>\n",
       "      <td>43 / 93  (46.24%)</td>\n",
       "      <td>50 / 93  (53.76%)</td>\n",
       "    </tr>\n",
       "    <tr>\n",
       "      <th>Genotypes Easy</th>\n",
       "      <td>8 / 11  (72.73%)</td>\n",
       "      <td>3 / 11  (27.27%)</td>\n",
       "    </tr>\n",
       "    <tr>\n",
       "      <th>Genotypes Compound</th>\n",
       "      <td>4 / 6  (66.67%)</td>\n",
       "      <td>2 / 6  (33.33%)</td>\n",
       "    </tr>\n",
       "    <tr>\n",
       "      <th>Region Defined Variant</th>\n",
       "      <td>134 / 209  (64.11%)</td>\n",
       "      <td>75 / 209  (35.89%)</td>\n",
       "    </tr>\n",
       "    <tr>\n",
       "      <th>Transcript Variant</th>\n",
       "      <td>51 / 385  (13.25%)</td>\n",
       "      <td>334 / 385  (86.75%)</td>\n",
       "    </tr>\n",
       "  </tbody>\n",
       "</table>\n",
       "</div>"
      ],
      "text/plain": [
       "                        Percent of Accepted Variant Items   \n",
       "Category                                                    \n",
       "Expression                            180 / 291  (61.86%)  \\\n",
       "Epigenetic Modification                 14 / 15  (93.33%)   \n",
       "Fusion                                204 / 308  (66.23%)   \n",
       "Protein Consequence                    70 / 128  (54.69%)   \n",
       "Gene Function                           49 / 90  (54.44%)   \n",
       "Rearrangements                          12 / 52  (23.08%)   \n",
       "Copy Number                             19 / 34  (55.88%)   \n",
       "Other                                   43 / 93  (46.24%)   \n",
       "Genotypes Easy                           8 / 11  (72.73%)   \n",
       "Genotypes Compound                        4 / 6  (66.67%)   \n",
       "Region Defined Variant                134 / 209  (64.11%)   \n",
       "Transcript Variant                     51 / 385  (13.25%)   \n",
       "\n",
       "                        Percent of Not Accepted Variant Items  \n",
       "Category                                                       \n",
       "Expression                                111 / 291  (38.14%)  \n",
       "Epigenetic Modification                       1 / 15  (6.67%)  \n",
       "Fusion                                    104 / 308  (33.77%)  \n",
       "Protein Consequence                        58 / 128  (45.31%)  \n",
       "Gene Function                               41 / 90  (45.56%)  \n",
       "Rearrangements                              40 / 52  (76.92%)  \n",
       "Copy Number                                 15 / 34  (44.12%)  \n",
       "Other                                       50 / 93  (53.76%)  \n",
       "Genotypes Easy                               3 / 11  (27.27%)  \n",
       "Genotypes Compound                            2 / 6  (33.33%)  \n",
       "Region Defined Variant                     75 / 209  (35.89%)  \n",
       "Transcript Variant                        334 / 385  (86.75%)  "
      ]
     },
     "execution_count": 350,
     "metadata": {},
     "output_type": "execute_result"
    }
   ],
   "source": [
    "not_supported_variant_percent_evidence_df = not_supported_variant_percent_evidence_df.set_index(\"Category\")\n",
    "not_supported_variant_percent_evidence_df"
   ]
  },
  {
   "cell_type": "code",
   "execution_count": 351,
   "metadata": {},
   "outputs": [],
   "source": [
    "civic_summary_table_5 = not_supported_variant_percent_evidence_df"
   ]
  },
  {
   "cell_type": "markdown",
   "metadata": {},
   "source": [
    "## Evidence Analysis"
   ]
  },
  {
   "cell_type": "code",
   "execution_count": 352,
   "metadata": {},
   "outputs": [],
   "source": [
    "all_variant_evidence_df = pd.DataFrame(evidence_analysis_summary)"
   ]
  },
  {
   "cell_type": "code",
   "execution_count": 353,
   "metadata": {},
   "outputs": [],
   "source": [
    "all_variant_evidence_df[\"Percentage of all CIViC Evidence Items\"] = all_variant_evidence_df[\"Fraction of all CIViC Evidence Items\"].astype(str) + \"  (\" + all_variant_evidence_df[\"Percentage of all CIViC Evidence Items\"] + \")\"\n",
    "all_variant_evidence_df[\"Percentage of Accepted Evidence Items\"] = all_variant_evidence_df[\"Fraction of Accepted Evidence Items\"].astype(str) + \"  (\" + all_variant_evidence_df[\"Percentage of Accepted Evidence Items\"] + \")\"\n",
    "all_variant_evidence_df[\"Percentage of Submitted Evidence Items\"] = all_variant_evidence_df[\"Fraction of Submitted Evidence Items\"].astype(str) + \"  (\" + all_variant_evidence_df[\"Percentage of Submitted Evidence Items\"] + \")\""
   ]
  },
  {
   "cell_type": "code",
   "execution_count": 354,
   "metadata": {},
   "outputs": [],
   "source": [
    "all_variant_evidence_df = all_variant_evidence_df.drop([\"Fraction of all CIViC Evidence Items\", \"Fraction of Accepted Evidence Items\", \"Fraction of Submitted Evidence Items\"], axis=1)"
   ]
  },
  {
   "cell_type": "code",
   "execution_count": 355,
   "metadata": {},
   "outputs": [],
   "source": [
    "for_merge_all_variant_evidence_percent_of_civic_df = all_variant_evidence_df.drop([\"Percentage of Accepted Evidence Items\", \"Percentage of Submitted Evidence Items\"], axis=1)\n",
    "\n",
    "all_variant_evidence_percent_of_civic_df = for_merge_all_variant_evidence_percent_of_civic_df.drop([\"Count of CIViC Evidence Items per Category\"], axis=1)\n",
    "\n",
    "all_variant_evidence_percent_evidence_df = all_variant_evidence_df.drop([\"Percentage of all CIViC Evidence Items\", \"Count of CIViC Evidence Items per Category\"], axis=1)"
   ]
  },
  {
   "cell_type": "code",
   "execution_count": 356,
   "metadata": {},
   "outputs": [],
   "source": [
    "for_merge_all_variant_evidence_percent_of_civic_df.to_csv('../for_merge_all_variant_evidence_percent_of_civic_df.csv', index=False)"
   ]
  },
  {
   "cell_type": "markdown",
   "metadata": {},
   "source": [
    "Summary Table 6: The table below shows what percentage of all evidence items in CIViC are associated with Normalized, Unable to Normalize, and Not Supported variants. This will not add up to 100% because evidence itmes may be used across multiple variants."
   ]
  },
  {
   "cell_type": "code",
   "execution_count": 357,
   "metadata": {},
   "outputs": [
    {
     "data": {
      "text/html": [
       "<div>\n",
       "<style scoped>\n",
       "    .dataframe tbody tr th:only-of-type {\n",
       "        vertical-align: middle;\n",
       "    }\n",
       "\n",
       "    .dataframe tbody tr th {\n",
       "        vertical-align: top;\n",
       "    }\n",
       "\n",
       "    .dataframe thead th {\n",
       "        text-align: right;\n",
       "    }\n",
       "</style>\n",
       "<table border=\"1\" class=\"dataframe\">\n",
       "  <thead>\n",
       "    <tr style=\"text-align: right;\">\n",
       "      <th></th>\n",
       "      <th>Percentage of all CIViC Evidence Items</th>\n",
       "    </tr>\n",
       "    <tr>\n",
       "      <th>Variant Category</th>\n",
       "      <th></th>\n",
       "    </tr>\n",
       "  </thead>\n",
       "  <tbody>\n",
       "    <tr>\n",
       "      <th>Normalized</th>\n",
       "      <td>5960 / 9914  (60.12%)</td>\n",
       "    </tr>\n",
       "    <tr>\n",
       "      <th>Unable to Normalize</th>\n",
       "      <td>80 / 9914  (0.81%)</td>\n",
       "    </tr>\n",
       "    <tr>\n",
       "      <th>Not Supported</th>\n",
       "      <td>4369 / 9914  (44.07%)</td>\n",
       "    </tr>\n",
       "  </tbody>\n",
       "</table>\n",
       "</div>"
      ],
      "text/plain": [
       "                    Percentage of all CIViC Evidence Items\n",
       "Variant Category                                          \n",
       "Normalized                           5960 / 9914  (60.12%)\n",
       "Unable to Normalize                     80 / 9914  (0.81%)\n",
       "Not Supported                        4369 / 9914  (44.07%)"
      ]
     },
     "execution_count": 357,
     "metadata": {},
     "output_type": "execute_result"
    }
   ],
   "source": [
    "all_variant_evidence_percent_of_civic_df = all_variant_evidence_percent_of_civic_df.set_index(\"Variant Category\")\n",
    "all_variant_evidence_percent_of_civic_df"
   ]
  },
  {
   "cell_type": "code",
   "execution_count": 358,
   "metadata": {},
   "outputs": [],
   "source": [
    "civic_summary_table_6 = all_variant_evidence_percent_of_civic_df"
   ]
  },
  {
   "cell_type": "markdown",
   "metadata": {},
   "source": [
    "Summmary Table 7: The table below shows the percentage of accepted and sumbitted evidence items per category of variants. "
   ]
  },
  {
   "cell_type": "code",
   "execution_count": 359,
   "metadata": {},
   "outputs": [
    {
     "data": {
      "text/html": [
       "<div>\n",
       "<style scoped>\n",
       "    .dataframe tbody tr th:only-of-type {\n",
       "        vertical-align: middle;\n",
       "    }\n",
       "\n",
       "    .dataframe tbody tr th {\n",
       "        vertical-align: top;\n",
       "    }\n",
       "\n",
       "    .dataframe thead th {\n",
       "        text-align: right;\n",
       "    }\n",
       "</style>\n",
       "<table border=\"1\" class=\"dataframe\">\n",
       "  <thead>\n",
       "    <tr style=\"text-align: right;\">\n",
       "      <th></th>\n",
       "      <th>Percentage of Accepted Evidence Items</th>\n",
       "      <th>Percentage of Submitted Evidence Items</th>\n",
       "    </tr>\n",
       "    <tr>\n",
       "      <th>Variant Category</th>\n",
       "      <th></th>\n",
       "      <th></th>\n",
       "    </tr>\n",
       "  </thead>\n",
       "  <tbody>\n",
       "    <tr>\n",
       "      <th>Normalized</th>\n",
       "      <td>2033 / 5960  (34.11%)</td>\n",
       "      <td>3927 / 5960  (65.89%)</td>\n",
       "    </tr>\n",
       "    <tr>\n",
       "      <th>Unable to Normalize</th>\n",
       "      <td>14 / 80  (17.50%)</td>\n",
       "      <td>66 / 80  (82.50%)</td>\n",
       "    </tr>\n",
       "    <tr>\n",
       "      <th>Not Supported</th>\n",
       "      <td>2215 / 4369  (50.70%)</td>\n",
       "      <td>2154 / 4369  (49.30%)</td>\n",
       "    </tr>\n",
       "  </tbody>\n",
       "</table>\n",
       "</div>"
      ],
      "text/plain": [
       "                    Percentage of Accepted Evidence Items   \n",
       "Variant Category                                            \n",
       "Normalized                          2033 / 5960  (34.11%)  \\\n",
       "Unable to Normalize                     14 / 80  (17.50%)   \n",
       "Not Supported                       2215 / 4369  (50.70%)   \n",
       "\n",
       "                    Percentage of Submitted Evidence Items  \n",
       "Variant Category                                            \n",
       "Normalized                           3927 / 5960  (65.89%)  \n",
       "Unable to Normalize                      66 / 80  (82.50%)  \n",
       "Not Supported                        2154 / 4369  (49.30%)  "
      ]
     },
     "execution_count": 359,
     "metadata": {},
     "output_type": "execute_result"
    }
   ],
   "source": [
    "all_variant_evidence_percent_evidence_df = all_variant_evidence_percent_evidence_df.set_index(\"Variant Category\")\n",
    "all_variant_evidence_percent_evidence_df"
   ]
  },
  {
   "cell_type": "code",
   "execution_count": 360,
   "metadata": {},
   "outputs": [],
   "source": [
    "civic_summary_table_7 = all_variant_evidence_percent_evidence_df"
   ]
  },
  {
   "cell_type": "code",
   "execution_count": 361,
   "metadata": {},
   "outputs": [],
   "source": [
    "not_supported_variant_evidence_df = pd.DataFrame(not_supported_variant_evidence_summary)"
   ]
  },
  {
   "cell_type": "code",
   "execution_count": 362,
   "metadata": {},
   "outputs": [],
   "source": [
    "not_supported_variant_evidence_df[\"Percent of all CIViC Evidence Items\"] = not_supported_variant_evidence_df[\"Fraction of CIViC Evidence Items\"].astype(str) + \"  (\" + not_supported_variant_evidence_df[\"Percent of all CIViC Evidence Items\"] + \")\"\n",
    "not_supported_variant_evidence_df[\"Percent of Not Supported Variant Evidence Items\"] = not_supported_variant_evidence_df[\"Fraction of Not Supported Variant Evidence Items\"].astype(str) + \"  (\" + not_supported_variant_evidence_df[\"Percent of Not Supported Variant Evidence Items\"] + \")\"\n",
    "not_supported_variant_evidence_df[\"Percent of Accepted Evidence Items\"] = not_supported_variant_evidence_df[\"Fraction of Accepted Evidence Items\"].astype(str) + \"  (\" + not_supported_variant_evidence_df[\"Percent of Accepted Evidence Items\"] + \")\"\n",
    "not_supported_variant_evidence_df[\"Percent of Submitted Evidence Items\"] = not_supported_variant_evidence_df[\"Fraction of Submitted Evidence Items\"].astype(str) + \"  (\" + not_supported_variant_evidence_df[\"Percent of Submitted Evidence Items\"] + \")\""
   ]
  },
  {
   "cell_type": "code",
   "execution_count": 363,
   "metadata": {},
   "outputs": [],
   "source": [
    "not_supported_variant_evidence_df = not_supported_variant_evidence_df.drop([\"Fraction of CIViC Evidence Items\", \"Fraction of Not Supported Variant Evidence Items\", \"Fraction of Accepted Evidence Items\", \"Fraction of Submitted Evidence Items\"], axis=1)"
   ]
  },
  {
   "cell_type": "code",
   "execution_count": 364,
   "metadata": {},
   "outputs": [],
   "source": [
    "for_merge_not_supported_variant_evidence_percent_of_civic_df = not_supported_variant_evidence_df.drop([\"Percent of Not Supported Variant Evidence Items\", \"Percent of Accepted Evidence Items\", \"Percent of Submitted Evidence Items\"], axis=1)\n",
    "\n",
    "not_supported_variant_evidence_percent_of_civic_df = for_merge_not_supported_variant_evidence_percent_of_civic_df.drop([\"Count of CIViC Evidence Items per Category\"], axis=1)\n",
    "\n",
    "not_supported_variant_evidence_percent_of_not_supported_df = not_supported_variant_evidence_df.drop([\"Percent of all CIViC Evidence Items\", \"Percent of Accepted Evidence Items\", \"Percent of Submitted Evidence Items\", \"Count of CIViC Evidence Items per Category\"], axis=1)\n",
    "\n",
    "not_supported_variant_evidence_percent_evidence_df = not_supported_variant_evidence_df.drop([\"Percent of Not Supported Variant Evidence Items\", \"Percent of all CIViC Evidence Items\", \"Count of CIViC Evidence Items per Category\"], axis=1)"
   ]
  },
  {
   "cell_type": "code",
   "execution_count": 365,
   "metadata": {},
   "outputs": [],
   "source": [
    "for_merge_not_supported_variant_evidence_percent_of_civic_df.to_csv('../for_merge_not_supported_variant_evidence_percent_of_civic_df.csv', index=False)"
   ]
  },
  {
   "cell_type": "markdown",
   "metadata": {},
   "source": [
    "Summary Table 8: The table below shows the percentage of all CIViC evidence items that are associated with a Not Supported variant sub category. This will not add up to 100% since the evidence items can be associated with multiple variants."
   ]
  },
  {
   "cell_type": "code",
   "execution_count": 366,
   "metadata": {},
   "outputs": [
    {
     "data": {
      "text/html": [
       "<div>\n",
       "<style scoped>\n",
       "    .dataframe tbody tr th:only-of-type {\n",
       "        vertical-align: middle;\n",
       "    }\n",
       "\n",
       "    .dataframe tbody tr th {\n",
       "        vertical-align: top;\n",
       "    }\n",
       "\n",
       "    .dataframe thead th {\n",
       "        text-align: right;\n",
       "    }\n",
       "</style>\n",
       "<table border=\"1\" class=\"dataframe\">\n",
       "  <thead>\n",
       "    <tr style=\"text-align: right;\">\n",
       "      <th></th>\n",
       "      <th>Percent of all CIViC Evidence Items</th>\n",
       "    </tr>\n",
       "    <tr>\n",
       "      <th>Category</th>\n",
       "      <th></th>\n",
       "    </tr>\n",
       "  </thead>\n",
       "  <tbody>\n",
       "    <tr>\n",
       "      <th>Expression</th>\n",
       "      <td>618 / 9914  (6.23%)</td>\n",
       "    </tr>\n",
       "    <tr>\n",
       "      <th>Epigenetic Modification</th>\n",
       "      <td>24 / 9914  (0.24%)</td>\n",
       "    </tr>\n",
       "    <tr>\n",
       "      <th>Fusion</th>\n",
       "      <td>1239 / 9914  (12.50%)</td>\n",
       "    </tr>\n",
       "    <tr>\n",
       "      <th>Protein Consequence</th>\n",
       "      <td>301 / 9914  (3.04%)</td>\n",
       "    </tr>\n",
       "    <tr>\n",
       "      <th>Gene Function</th>\n",
       "      <td>348 / 9914  (3.51%)</td>\n",
       "    </tr>\n",
       "    <tr>\n",
       "      <th>Rearrangements</th>\n",
       "      <td>136 / 9914  (1.37%)</td>\n",
       "    </tr>\n",
       "    <tr>\n",
       "      <th>Copy Number</th>\n",
       "      <td>64 / 9914  (0.65%)</td>\n",
       "    </tr>\n",
       "    <tr>\n",
       "      <th>Other</th>\n",
       "      <td>162 / 9914  (1.63%)</td>\n",
       "    </tr>\n",
       "    <tr>\n",
       "      <th>Genotypes Easy</th>\n",
       "      <td>23 / 9914  (0.23%)</td>\n",
       "    </tr>\n",
       "    <tr>\n",
       "      <th>Genotypes Compound</th>\n",
       "      <td>7 / 9914  (0.07%)</td>\n",
       "    </tr>\n",
       "    <tr>\n",
       "      <th>Region Defined Variant</th>\n",
       "      <td>976 / 9914  (9.84%)</td>\n",
       "    </tr>\n",
       "    <tr>\n",
       "      <th>Transcript Variant</th>\n",
       "      <td>471 / 9914  (4.75%)</td>\n",
       "    </tr>\n",
       "  </tbody>\n",
       "</table>\n",
       "</div>"
      ],
      "text/plain": [
       "                        Percent of all CIViC Evidence Items\n",
       "Category                                                   \n",
       "Expression                              618 / 9914  (6.23%)\n",
       "Epigenetic Modification                  24 / 9914  (0.24%)\n",
       "Fusion                                1239 / 9914  (12.50%)\n",
       "Protein Consequence                     301 / 9914  (3.04%)\n",
       "Gene Function                           348 / 9914  (3.51%)\n",
       "Rearrangements                          136 / 9914  (1.37%)\n",
       "Copy Number                              64 / 9914  (0.65%)\n",
       "Other                                   162 / 9914  (1.63%)\n",
       "Genotypes Easy                           23 / 9914  (0.23%)\n",
       "Genotypes Compound                        7 / 9914  (0.07%)\n",
       "Region Defined Variant                  976 / 9914  (9.84%)\n",
       "Transcript Variant                      471 / 9914  (4.75%)"
      ]
     },
     "execution_count": 366,
     "metadata": {},
     "output_type": "execute_result"
    }
   ],
   "source": [
    "not_supported_variant_evidence_percent_of_civic_df = not_supported_variant_evidence_percent_of_civic_df.set_index(\"Category\")\n",
    "not_supported_variant_evidence_percent_of_civic_df"
   ]
  },
  {
   "cell_type": "code",
   "execution_count": 367,
   "metadata": {},
   "outputs": [],
   "source": [
    "civic_summary_table_8 = not_supported_variant_evidence_percent_of_civic_df"
   ]
  },
  {
   "attachments": {},
   "cell_type": "markdown",
   "metadata": {},
   "source": [
    "Summary Table 9: The table below shows the percentage of all evidence items associated with Not Supported variants that are associated with a variant sub category. "
   ]
  },
  {
   "cell_type": "code",
   "execution_count": 368,
   "metadata": {},
   "outputs": [
    {
     "data": {
      "text/html": [
       "<div>\n",
       "<style scoped>\n",
       "    .dataframe tbody tr th:only-of-type {\n",
       "        vertical-align: middle;\n",
       "    }\n",
       "\n",
       "    .dataframe tbody tr th {\n",
       "        vertical-align: top;\n",
       "    }\n",
       "\n",
       "    .dataframe thead th {\n",
       "        text-align: right;\n",
       "    }\n",
       "</style>\n",
       "<table border=\"1\" class=\"dataframe\">\n",
       "  <thead>\n",
       "    <tr style=\"text-align: right;\">\n",
       "      <th></th>\n",
       "      <th>Percent of Not Supported Variant Evidence Items</th>\n",
       "    </tr>\n",
       "    <tr>\n",
       "      <th>Category</th>\n",
       "      <th></th>\n",
       "    </tr>\n",
       "  </thead>\n",
       "  <tbody>\n",
       "    <tr>\n",
       "      <th>Expression</th>\n",
       "      <td>618 / 4369  (14.15%)</td>\n",
       "    </tr>\n",
       "    <tr>\n",
       "      <th>Epigenetic Modification</th>\n",
       "      <td>24 / 4369  (0.55%)</td>\n",
       "    </tr>\n",
       "    <tr>\n",
       "      <th>Fusion</th>\n",
       "      <td>1239 / 4369  (28.36%)</td>\n",
       "    </tr>\n",
       "    <tr>\n",
       "      <th>Protein Consequence</th>\n",
       "      <td>301 / 4369  (6.89%)</td>\n",
       "    </tr>\n",
       "    <tr>\n",
       "      <th>Gene Function</th>\n",
       "      <td>348 / 4369  (7.97%)</td>\n",
       "    </tr>\n",
       "    <tr>\n",
       "      <th>Rearrangements</th>\n",
       "      <td>136 / 4369  (3.11%)</td>\n",
       "    </tr>\n",
       "    <tr>\n",
       "      <th>Copy Number</th>\n",
       "      <td>64 / 4369  (1.46%)</td>\n",
       "    </tr>\n",
       "    <tr>\n",
       "      <th>Other</th>\n",
       "      <td>162 / 4369  (3.71%)</td>\n",
       "    </tr>\n",
       "    <tr>\n",
       "      <th>Genotypes Easy</th>\n",
       "      <td>23 / 4369  (0.53%)</td>\n",
       "    </tr>\n",
       "    <tr>\n",
       "      <th>Genotypes Compound</th>\n",
       "      <td>7 / 4369  (0.16%)</td>\n",
       "    </tr>\n",
       "    <tr>\n",
       "      <th>Region Defined Variant</th>\n",
       "      <td>976 / 4369  (22.34%)</td>\n",
       "    </tr>\n",
       "    <tr>\n",
       "      <th>Transcript Variant</th>\n",
       "      <td>471 / 4369  (10.78%)</td>\n",
       "    </tr>\n",
       "  </tbody>\n",
       "</table>\n",
       "</div>"
      ],
      "text/plain": [
       "                        Percent of Not Supported Variant Evidence Items\n",
       "Category                                                               \n",
       "Expression                                         618 / 4369  (14.15%)\n",
       "Epigenetic Modification                              24 / 4369  (0.55%)\n",
       "Fusion                                            1239 / 4369  (28.36%)\n",
       "Protein Consequence                                 301 / 4369  (6.89%)\n",
       "Gene Function                                       348 / 4369  (7.97%)\n",
       "Rearrangements                                      136 / 4369  (3.11%)\n",
       "Copy Number                                          64 / 4369  (1.46%)\n",
       "Other                                               162 / 4369  (3.71%)\n",
       "Genotypes Easy                                       23 / 4369  (0.53%)\n",
       "Genotypes Compound                                    7 / 4369  (0.16%)\n",
       "Region Defined Variant                             976 / 4369  (22.34%)\n",
       "Transcript Variant                                 471 / 4369  (10.78%)"
      ]
     },
     "execution_count": 368,
     "metadata": {},
     "output_type": "execute_result"
    }
   ],
   "source": [
    "not_supported_variant_evidence_percent_of_not_supported_df = not_supported_variant_evidence_percent_of_not_supported_df.set_index(\"Category\")\n",
    "not_supported_variant_evidence_percent_of_not_supported_df"
   ]
  },
  {
   "cell_type": "code",
   "execution_count": 369,
   "metadata": {},
   "outputs": [],
   "source": [
    "civic_summary_table_9 = not_supported_variant_evidence_percent_of_not_supported_df"
   ]
  },
  {
   "cell_type": "markdown",
   "metadata": {},
   "source": [
    "Summary Table 10: The table below shows the percentage of evidence items associated with Not Supported variant sub categories that are accepted or submitted."
   ]
  },
  {
   "cell_type": "code",
   "execution_count": 370,
   "metadata": {},
   "outputs": [
    {
     "data": {
      "text/html": [
       "<div>\n",
       "<style scoped>\n",
       "    .dataframe tbody tr th:only-of-type {\n",
       "        vertical-align: middle;\n",
       "    }\n",
       "\n",
       "    .dataframe tbody tr th {\n",
       "        vertical-align: top;\n",
       "    }\n",
       "\n",
       "    .dataframe thead th {\n",
       "        text-align: right;\n",
       "    }\n",
       "</style>\n",
       "<table border=\"1\" class=\"dataframe\">\n",
       "  <thead>\n",
       "    <tr style=\"text-align: right;\">\n",
       "      <th></th>\n",
       "      <th>Percent of Accepted Evidence Items</th>\n",
       "      <th>Percent of Submitted Evidence Items</th>\n",
       "    </tr>\n",
       "    <tr>\n",
       "      <th>Category</th>\n",
       "      <th></th>\n",
       "      <th></th>\n",
       "    </tr>\n",
       "  </thead>\n",
       "  <tbody>\n",
       "    <tr>\n",
       "      <th>Expression</th>\n",
       "      <td>342 / 618  (55.34%)</td>\n",
       "      <td>276 / 618  (44.66%)</td>\n",
       "    </tr>\n",
       "    <tr>\n",
       "      <th>Epigenetic Modification</th>\n",
       "      <td>22 / 24  (91.67%)</td>\n",
       "      <td>2 / 24  (8.33%)</td>\n",
       "    </tr>\n",
       "    <tr>\n",
       "      <th>Fusion</th>\n",
       "      <td>737 / 1239  (59.48%)</td>\n",
       "      <td>502 / 1239  (40.52%)</td>\n",
       "    </tr>\n",
       "    <tr>\n",
       "      <th>Protein Consequence</th>\n",
       "      <td>191 / 301  (63.46%)</td>\n",
       "      <td>110 / 301  (36.54%)</td>\n",
       "    </tr>\n",
       "    <tr>\n",
       "      <th>Gene Function</th>\n",
       "      <td>154 / 348  (44.25%)</td>\n",
       "      <td>194 / 348  (55.75%)</td>\n",
       "    </tr>\n",
       "    <tr>\n",
       "      <th>Rearrangements</th>\n",
       "      <td>53 / 136  (38.97%)</td>\n",
       "      <td>83 / 136  (61.03%)</td>\n",
       "    </tr>\n",
       "    <tr>\n",
       "      <th>Copy Number</th>\n",
       "      <td>27 / 64  (42.19%)</td>\n",
       "      <td>37 / 64  (57.81%)</td>\n",
       "    </tr>\n",
       "    <tr>\n",
       "      <th>Other</th>\n",
       "      <td>60 / 162  (37.04%)</td>\n",
       "      <td>102 / 162  (62.96%)</td>\n",
       "    </tr>\n",
       "    <tr>\n",
       "      <th>Genotypes Easy</th>\n",
       "      <td>13 / 23  (56.52%)</td>\n",
       "      <td>10 / 23  (43.48%)</td>\n",
       "    </tr>\n",
       "    <tr>\n",
       "      <th>Genotypes Compound</th>\n",
       "      <td>4 / 7  (57.14%)</td>\n",
       "      <td>3 / 7  (42.86%)</td>\n",
       "    </tr>\n",
       "    <tr>\n",
       "      <th>Region Defined Variant</th>\n",
       "      <td>558 / 976  (57.17%)</td>\n",
       "      <td>418 / 976  (42.83%)</td>\n",
       "    </tr>\n",
       "    <tr>\n",
       "      <th>Transcript Variant</th>\n",
       "      <td>54 / 471  (11.46%)</td>\n",
       "      <td>417 / 471  (88.54%)</td>\n",
       "    </tr>\n",
       "  </tbody>\n",
       "</table>\n",
       "</div>"
      ],
      "text/plain": [
       "                        Percent of Accepted Evidence Items   \n",
       "Category                                                     \n",
       "Expression                             342 / 618  (55.34%)  \\\n",
       "Epigenetic Modification                  22 / 24  (91.67%)   \n",
       "Fusion                                737 / 1239  (59.48%)   \n",
       "Protein Consequence                    191 / 301  (63.46%)   \n",
       "Gene Function                          154 / 348  (44.25%)   \n",
       "Rearrangements                          53 / 136  (38.97%)   \n",
       "Copy Number                              27 / 64  (42.19%)   \n",
       "Other                                   60 / 162  (37.04%)   \n",
       "Genotypes Easy                           13 / 23  (56.52%)   \n",
       "Genotypes Compound                         4 / 7  (57.14%)   \n",
       "Region Defined Variant                 558 / 976  (57.17%)   \n",
       "Transcript Variant                      54 / 471  (11.46%)   \n",
       "\n",
       "                        Percent of Submitted Evidence Items  \n",
       "Category                                                     \n",
       "Expression                              276 / 618  (44.66%)  \n",
       "Epigenetic Modification                     2 / 24  (8.33%)  \n",
       "Fusion                                 502 / 1239  (40.52%)  \n",
       "Protein Consequence                     110 / 301  (36.54%)  \n",
       "Gene Function                           194 / 348  (55.75%)  \n",
       "Rearrangements                           83 / 136  (61.03%)  \n",
       "Copy Number                               37 / 64  (57.81%)  \n",
       "Other                                   102 / 162  (62.96%)  \n",
       "Genotypes Easy                            10 / 23  (43.48%)  \n",
       "Genotypes Compound                          3 / 7  (42.86%)  \n",
       "Region Defined Variant                  418 / 976  (42.83%)  \n",
       "Transcript Variant                      417 / 471  (88.54%)  "
      ]
     },
     "execution_count": 370,
     "metadata": {},
     "output_type": "execute_result"
    }
   ],
   "source": [
    "not_supported_variant_evidence_percent_evidence_df = not_supported_variant_evidence_percent_evidence_df.set_index(\"Category\")\n",
    "not_supported_variant_evidence_percent_evidence_df"
   ]
  },
  {
   "cell_type": "code",
   "execution_count": 371,
   "metadata": {},
   "outputs": [],
   "source": [
    "civic_summary_table_10 = not_supported_variant_evidence_percent_evidence_df"
   ]
  },
  {
   "cell_type": "markdown",
   "metadata": {},
   "source": [
    "## Impact"
   ]
  },
  {
   "cell_type": "code",
   "execution_count": 372,
   "metadata": {},
   "outputs": [
    {
     "data": {
      "text/html": [
       "<div>\n",
       "<style scoped>\n",
       "    .dataframe tbody tr th:only-of-type {\n",
       "        vertical-align: middle;\n",
       "    }\n",
       "\n",
       "    .dataframe tbody tr th {\n",
       "        vertical-align: top;\n",
       "    }\n",
       "\n",
       "    .dataframe thead th {\n",
       "        text-align: right;\n",
       "    }\n",
       "</style>\n",
       "<table border=\"1\" class=\"dataframe\">\n",
       "  <thead>\n",
       "    <tr style=\"text-align: right;\">\n",
       "      <th></th>\n",
       "      <th>Category</th>\n",
       "      <th>CIVIC Total Sum Impact Score</th>\n",
       "      <th>Average Impact Score per Variant</th>\n",
       "      <th>Average Impact Score per Evidence Item</th>\n",
       "      <th>Total Number Evidence Items</th>\n",
       "      <th>% Accepted Evidence Items</th>\n",
       "      <th>Total Number Variants</th>\n",
       "    </tr>\n",
       "  </thead>\n",
       "  <tbody>\n",
       "    <tr>\n",
       "      <th>0</th>\n",
       "      <td>Expression</td>\n",
       "      <td>3618.00</td>\n",
       "      <td>9.397403</td>\n",
       "      <td>7.681529</td>\n",
       "      <td>618</td>\n",
       "      <td>55.34%</td>\n",
       "      <td>291</td>\n",
       "    </tr>\n",
       "    <tr>\n",
       "      <th>1</th>\n",
       "      <td>Epigenetic Modification</td>\n",
       "      <td>285.50</td>\n",
       "      <td>0.741558</td>\n",
       "      <td>0.606157</td>\n",
       "      <td>24</td>\n",
       "      <td>91.67%</td>\n",
       "      <td>15</td>\n",
       "    </tr>\n",
       "    <tr>\n",
       "      <th>2</th>\n",
       "      <td>Fusion</td>\n",
       "      <td>6600.75</td>\n",
       "      <td>17.144805</td>\n",
       "      <td>14.014331</td>\n",
       "      <td>1239</td>\n",
       "      <td>59.48%</td>\n",
       "      <td>308</td>\n",
       "    </tr>\n",
       "    <tr>\n",
       "      <th>3</th>\n",
       "      <td>Protein Consequence</td>\n",
       "      <td>2683.75</td>\n",
       "      <td>6.970779</td>\n",
       "      <td>5.697983</td>\n",
       "      <td>301</td>\n",
       "      <td>63.46%</td>\n",
       "      <td>128</td>\n",
       "    </tr>\n",
       "    <tr>\n",
       "      <th>4</th>\n",
       "      <td>Gene Function</td>\n",
       "      <td>1805.50</td>\n",
       "      <td>4.689610</td>\n",
       "      <td>3.833333</td>\n",
       "      <td>348</td>\n",
       "      <td>44.25%</td>\n",
       "      <td>90</td>\n",
       "    </tr>\n",
       "    <tr>\n",
       "      <th>5</th>\n",
       "      <td>Rearrangements</td>\n",
       "      <td>653.00</td>\n",
       "      <td>1.696104</td>\n",
       "      <td>1.386412</td>\n",
       "      <td>136</td>\n",
       "      <td>38.97%</td>\n",
       "      <td>52</td>\n",
       "    </tr>\n",
       "    <tr>\n",
       "      <th>6</th>\n",
       "      <td>Copy Number</td>\n",
       "      <td>225.00</td>\n",
       "      <td>0.584416</td>\n",
       "      <td>0.477707</td>\n",
       "      <td>64</td>\n",
       "      <td>42.19%</td>\n",
       "      <td>34</td>\n",
       "    </tr>\n",
       "    <tr>\n",
       "      <th>7</th>\n",
       "      <td>Other</td>\n",
       "      <td>673.50</td>\n",
       "      <td>1.749351</td>\n",
       "      <td>1.429936</td>\n",
       "      <td>162</td>\n",
       "      <td>37.04%</td>\n",
       "      <td>93</td>\n",
       "    </tr>\n",
       "    <tr>\n",
       "      <th>8</th>\n",
       "      <td>Genotypes Easy</td>\n",
       "      <td>195.00</td>\n",
       "      <td>0.506494</td>\n",
       "      <td>0.414013</td>\n",
       "      <td>23</td>\n",
       "      <td>56.52%</td>\n",
       "      <td>11</td>\n",
       "    </tr>\n",
       "    <tr>\n",
       "      <th>9</th>\n",
       "      <td>Genotypes Compound</td>\n",
       "      <td>117.50</td>\n",
       "      <td>0.305195</td>\n",
       "      <td>0.249469</td>\n",
       "      <td>7</td>\n",
       "      <td>57.14%</td>\n",
       "      <td>6</td>\n",
       "    </tr>\n",
       "    <tr>\n",
       "      <th>10</th>\n",
       "      <td>Region Defined Variant</td>\n",
       "      <td>8353.50</td>\n",
       "      <td>21.697403</td>\n",
       "      <td>17.735669</td>\n",
       "      <td>976</td>\n",
       "      <td>57.17%</td>\n",
       "      <td>209</td>\n",
       "    </tr>\n",
       "    <tr>\n",
       "      <th>11</th>\n",
       "      <td>Transcript Variant</td>\n",
       "      <td>356.50</td>\n",
       "      <td>0.925974</td>\n",
       "      <td>0.756900</td>\n",
       "      <td>471</td>\n",
       "      <td>11.46%</td>\n",
       "      <td>385</td>\n",
       "    </tr>\n",
       "  </tbody>\n",
       "</table>\n",
       "</div>"
      ],
      "text/plain": [
       "                   Category  CIVIC Total Sum Impact Score   \n",
       "0                Expression                       3618.00  \\\n",
       "1   Epigenetic Modification                        285.50   \n",
       "2                    Fusion                       6600.75   \n",
       "3       Protein Consequence                       2683.75   \n",
       "4             Gene Function                       1805.50   \n",
       "5            Rearrangements                        653.00   \n",
       "6               Copy Number                        225.00   \n",
       "7                     Other                        673.50   \n",
       "8            Genotypes Easy                        195.00   \n",
       "9        Genotypes Compound                        117.50   \n",
       "10   Region Defined Variant                       8353.50   \n",
       "11       Transcript Variant                        356.50   \n",
       "\n",
       "    Average Impact Score per Variant  Average Impact Score per Evidence Item   \n",
       "0                           9.397403                                7.681529  \\\n",
       "1                           0.741558                                0.606157   \n",
       "2                          17.144805                               14.014331   \n",
       "3                           6.970779                                5.697983   \n",
       "4                           4.689610                                3.833333   \n",
       "5                           1.696104                                1.386412   \n",
       "6                           0.584416                                0.477707   \n",
       "7                           1.749351                                1.429936   \n",
       "8                           0.506494                                0.414013   \n",
       "9                           0.305195                                0.249469   \n",
       "10                         21.697403                               17.735669   \n",
       "11                          0.925974                                0.756900   \n",
       "\n",
       "    Total Number Evidence Items % Accepted Evidence Items   \n",
       "0                           618                    55.34%  \\\n",
       "1                            24                    91.67%   \n",
       "2                          1239                    59.48%   \n",
       "3                           301                    63.46%   \n",
       "4                           348                    44.25%   \n",
       "5                           136                    38.97%   \n",
       "6                            64                    42.19%   \n",
       "7                           162                    37.04%   \n",
       "8                            23                    56.52%   \n",
       "9                             7                    57.14%   \n",
       "10                          976                    57.17%   \n",
       "11                          471                    11.46%   \n",
       "\n",
       "    Total Number Variants  \n",
       "0                     291  \n",
       "1                      15  \n",
       "2                     308  \n",
       "3                     128  \n",
       "4                      90  \n",
       "5                      52  \n",
       "6                      34  \n",
       "7                      93  \n",
       "8                      11  \n",
       "9                       6  \n",
       "10                    209  \n",
       "11                    385  "
      ]
     },
     "execution_count": 372,
     "metadata": {},
     "output_type": "execute_result"
    }
   ],
   "source": [
    "not_supported_variant_impact_df"
   ]
  },
  {
   "cell_type": "markdown",
   "metadata": {},
   "source": [
    "The bar graph below shows the relationship between the Not Suported variant sub category impact score and the sub category. Additionally, the colors illustrate the number of evidence items associated each sub category."
   ]
  },
  {
   "cell_type": "code",
   "execution_count": 373,
   "metadata": {},
   "outputs": [
    {
     "data": {
      "application/vnd.plotly.v1+json": {
       "config": {
        "plotlyServerURL": "https://plot.ly"
       },
       "data": [
        {
         "alignmentgroup": "True",
         "customdata": [
          [
           618,
           "55.34%"
          ],
          [
           24,
           "91.67%"
          ],
          [
           1239,
           "59.48%"
          ],
          [
           301,
           "63.46%"
          ],
          [
           348,
           "44.25%"
          ],
          [
           136,
           "38.97%"
          ],
          [
           64,
           "42.19%"
          ],
          [
           162,
           "37.04%"
          ],
          [
           23,
           "56.52%"
          ],
          [
           7,
           "57.14%"
          ],
          [
           976,
           "57.17%"
          ],
          [
           471,
           "11.46%"
          ]
         ],
         "hovertemplate": "Category=%{x}<br>CIVIC Total Sum Impact Score=%{y}<br>Total Number Evidence Items=%{marker.color}<br>% Accepted Evidence Items=%{customdata[1]}<extra></extra>",
         "legendgroup": "",
         "marker": {
          "color": [
           618,
           24,
           1239,
           301,
           348,
           136,
           64,
           162,
           23,
           7,
           976,
           471
          ],
          "coloraxis": "coloraxis",
          "pattern": {
           "shape": ""
          }
         },
         "name": "",
         "offsetgroup": "",
         "orientation": "v",
         "showlegend": false,
         "textposition": "auto",
         "texttemplate": "%{y:.1f}",
         "type": "bar",
         "width": 1,
         "x": [
          "Expression",
          "Epigenetic Modification",
          "Fusion",
          "Protein Consequence",
          "Gene Function",
          "Rearrangements",
          "Copy Number",
          "Other",
          "Genotypes Easy",
          "Genotypes Compound",
          "Region Defined Variant",
          "Transcript Variant"
         ],
         "xaxis": "x",
         "y": [
          3618,
          285.5,
          6600.75,
          2683.75,
          1805.5,
          653,
          225,
          673.5,
          195,
          117.5,
          8353.5,
          356.5
         ],
         "yaxis": "y"
        }
       ],
       "layout": {
        "barmode": "relative",
        "coloraxis": {
         "colorbar": {
          "title": {
           "text": "Total Number Evidence Items"
          }
         },
         "colorscale": [
          [
           0,
           "rgb(0, 128, 128)"
          ],
          [
           0.16666666666666666,
           "rgb(112, 164, 148)"
          ],
          [
           0.3333333333333333,
           "rgb(180, 200, 168)"
          ],
          [
           0.5,
           "rgb(246, 237, 189)"
          ],
          [
           0.6666666666666666,
           "rgb(237, 187, 138)"
          ],
          [
           0.8333333333333334,
           "rgb(222, 138, 90)"
          ],
          [
           1,
           "rgb(202, 86, 44)"
          ]
         ]
        },
        "legend": {
         "tracegroupgap": 0
        },
        "margin": {
         "t": 60
        },
        "template": {
         "data": {
          "bar": [
           {
            "error_x": {
             "color": "#2a3f5f"
            },
            "error_y": {
             "color": "#2a3f5f"
            },
            "marker": {
             "line": {
              "color": "#E5ECF6",
              "width": 0.5
             },
             "pattern": {
              "fillmode": "overlay",
              "size": 10,
              "solidity": 0.2
             }
            },
            "type": "bar"
           }
          ],
          "barpolar": [
           {
            "marker": {
             "line": {
              "color": "#E5ECF6",
              "width": 0.5
             },
             "pattern": {
              "fillmode": "overlay",
              "size": 10,
              "solidity": 0.2
             }
            },
            "type": "barpolar"
           }
          ],
          "carpet": [
           {
            "aaxis": {
             "endlinecolor": "#2a3f5f",
             "gridcolor": "white",
             "linecolor": "white",
             "minorgridcolor": "white",
             "startlinecolor": "#2a3f5f"
            },
            "baxis": {
             "endlinecolor": "#2a3f5f",
             "gridcolor": "white",
             "linecolor": "white",
             "minorgridcolor": "white",
             "startlinecolor": "#2a3f5f"
            },
            "type": "carpet"
           }
          ],
          "choropleth": [
           {
            "colorbar": {
             "outlinewidth": 0,
             "ticks": ""
            },
            "type": "choropleth"
           }
          ],
          "contour": [
           {
            "colorbar": {
             "outlinewidth": 0,
             "ticks": ""
            },
            "colorscale": [
             [
              0,
              "#0d0887"
             ],
             [
              0.1111111111111111,
              "#46039f"
             ],
             [
              0.2222222222222222,
              "#7201a8"
             ],
             [
              0.3333333333333333,
              "#9c179e"
             ],
             [
              0.4444444444444444,
              "#bd3786"
             ],
             [
              0.5555555555555556,
              "#d8576b"
             ],
             [
              0.6666666666666666,
              "#ed7953"
             ],
             [
              0.7777777777777778,
              "#fb9f3a"
             ],
             [
              0.8888888888888888,
              "#fdca26"
             ],
             [
              1,
              "#f0f921"
             ]
            ],
            "type": "contour"
           }
          ],
          "contourcarpet": [
           {
            "colorbar": {
             "outlinewidth": 0,
             "ticks": ""
            },
            "type": "contourcarpet"
           }
          ],
          "heatmap": [
           {
            "colorbar": {
             "outlinewidth": 0,
             "ticks": ""
            },
            "colorscale": [
             [
              0,
              "#0d0887"
             ],
             [
              0.1111111111111111,
              "#46039f"
             ],
             [
              0.2222222222222222,
              "#7201a8"
             ],
             [
              0.3333333333333333,
              "#9c179e"
             ],
             [
              0.4444444444444444,
              "#bd3786"
             ],
             [
              0.5555555555555556,
              "#d8576b"
             ],
             [
              0.6666666666666666,
              "#ed7953"
             ],
             [
              0.7777777777777778,
              "#fb9f3a"
             ],
             [
              0.8888888888888888,
              "#fdca26"
             ],
             [
              1,
              "#f0f921"
             ]
            ],
            "type": "heatmap"
           }
          ],
          "heatmapgl": [
           {
            "colorbar": {
             "outlinewidth": 0,
             "ticks": ""
            },
            "colorscale": [
             [
              0,
              "#0d0887"
             ],
             [
              0.1111111111111111,
              "#46039f"
             ],
             [
              0.2222222222222222,
              "#7201a8"
             ],
             [
              0.3333333333333333,
              "#9c179e"
             ],
             [
              0.4444444444444444,
              "#bd3786"
             ],
             [
              0.5555555555555556,
              "#d8576b"
             ],
             [
              0.6666666666666666,
              "#ed7953"
             ],
             [
              0.7777777777777778,
              "#fb9f3a"
             ],
             [
              0.8888888888888888,
              "#fdca26"
             ],
             [
              1,
              "#f0f921"
             ]
            ],
            "type": "heatmapgl"
           }
          ],
          "histogram": [
           {
            "marker": {
             "pattern": {
              "fillmode": "overlay",
              "size": 10,
              "solidity": 0.2
             }
            },
            "type": "histogram"
           }
          ],
          "histogram2d": [
           {
            "colorbar": {
             "outlinewidth": 0,
             "ticks": ""
            },
            "colorscale": [
             [
              0,
              "#0d0887"
             ],
             [
              0.1111111111111111,
              "#46039f"
             ],
             [
              0.2222222222222222,
              "#7201a8"
             ],
             [
              0.3333333333333333,
              "#9c179e"
             ],
             [
              0.4444444444444444,
              "#bd3786"
             ],
             [
              0.5555555555555556,
              "#d8576b"
             ],
             [
              0.6666666666666666,
              "#ed7953"
             ],
             [
              0.7777777777777778,
              "#fb9f3a"
             ],
             [
              0.8888888888888888,
              "#fdca26"
             ],
             [
              1,
              "#f0f921"
             ]
            ],
            "type": "histogram2d"
           }
          ],
          "histogram2dcontour": [
           {
            "colorbar": {
             "outlinewidth": 0,
             "ticks": ""
            },
            "colorscale": [
             [
              0,
              "#0d0887"
             ],
             [
              0.1111111111111111,
              "#46039f"
             ],
             [
              0.2222222222222222,
              "#7201a8"
             ],
             [
              0.3333333333333333,
              "#9c179e"
             ],
             [
              0.4444444444444444,
              "#bd3786"
             ],
             [
              0.5555555555555556,
              "#d8576b"
             ],
             [
              0.6666666666666666,
              "#ed7953"
             ],
             [
              0.7777777777777778,
              "#fb9f3a"
             ],
             [
              0.8888888888888888,
              "#fdca26"
             ],
             [
              1,
              "#f0f921"
             ]
            ],
            "type": "histogram2dcontour"
           }
          ],
          "mesh3d": [
           {
            "colorbar": {
             "outlinewidth": 0,
             "ticks": ""
            },
            "type": "mesh3d"
           }
          ],
          "parcoords": [
           {
            "line": {
             "colorbar": {
              "outlinewidth": 0,
              "ticks": ""
             }
            },
            "type": "parcoords"
           }
          ],
          "pie": [
           {
            "automargin": true,
            "type": "pie"
           }
          ],
          "scatter": [
           {
            "fillpattern": {
             "fillmode": "overlay",
             "size": 10,
             "solidity": 0.2
            },
            "type": "scatter"
           }
          ],
          "scatter3d": [
           {
            "line": {
             "colorbar": {
              "outlinewidth": 0,
              "ticks": ""
             }
            },
            "marker": {
             "colorbar": {
              "outlinewidth": 0,
              "ticks": ""
             }
            },
            "type": "scatter3d"
           }
          ],
          "scattercarpet": [
           {
            "marker": {
             "colorbar": {
              "outlinewidth": 0,
              "ticks": ""
             }
            },
            "type": "scattercarpet"
           }
          ],
          "scattergeo": [
           {
            "marker": {
             "colorbar": {
              "outlinewidth": 0,
              "ticks": ""
             }
            },
            "type": "scattergeo"
           }
          ],
          "scattergl": [
           {
            "marker": {
             "colorbar": {
              "outlinewidth": 0,
              "ticks": ""
             }
            },
            "type": "scattergl"
           }
          ],
          "scattermapbox": [
           {
            "marker": {
             "colorbar": {
              "outlinewidth": 0,
              "ticks": ""
             }
            },
            "type": "scattermapbox"
           }
          ],
          "scatterpolar": [
           {
            "marker": {
             "colorbar": {
              "outlinewidth": 0,
              "ticks": ""
             }
            },
            "type": "scatterpolar"
           }
          ],
          "scatterpolargl": [
           {
            "marker": {
             "colorbar": {
              "outlinewidth": 0,
              "ticks": ""
             }
            },
            "type": "scatterpolargl"
           }
          ],
          "scatterternary": [
           {
            "marker": {
             "colorbar": {
              "outlinewidth": 0,
              "ticks": ""
             }
            },
            "type": "scatterternary"
           }
          ],
          "surface": [
           {
            "colorbar": {
             "outlinewidth": 0,
             "ticks": ""
            },
            "colorscale": [
             [
              0,
              "#0d0887"
             ],
             [
              0.1111111111111111,
              "#46039f"
             ],
             [
              0.2222222222222222,
              "#7201a8"
             ],
             [
              0.3333333333333333,
              "#9c179e"
             ],
             [
              0.4444444444444444,
              "#bd3786"
             ],
             [
              0.5555555555555556,
              "#d8576b"
             ],
             [
              0.6666666666666666,
              "#ed7953"
             ],
             [
              0.7777777777777778,
              "#fb9f3a"
             ],
             [
              0.8888888888888888,
              "#fdca26"
             ],
             [
              1,
              "#f0f921"
             ]
            ],
            "type": "surface"
           }
          ],
          "table": [
           {
            "cells": {
             "fill": {
              "color": "#EBF0F8"
             },
             "line": {
              "color": "white"
             }
            },
            "header": {
             "fill": {
              "color": "#C8D4E3"
             },
             "line": {
              "color": "white"
             }
            },
            "type": "table"
           }
          ]
         },
         "layout": {
          "annotationdefaults": {
           "arrowcolor": "#2a3f5f",
           "arrowhead": 0,
           "arrowwidth": 1
          },
          "autotypenumbers": "strict",
          "coloraxis": {
           "colorbar": {
            "outlinewidth": 0,
            "ticks": ""
           }
          },
          "colorscale": {
           "diverging": [
            [
             0,
             "#8e0152"
            ],
            [
             0.1,
             "#c51b7d"
            ],
            [
             0.2,
             "#de77ae"
            ],
            [
             0.3,
             "#f1b6da"
            ],
            [
             0.4,
             "#fde0ef"
            ],
            [
             0.5,
             "#f7f7f7"
            ],
            [
             0.6,
             "#e6f5d0"
            ],
            [
             0.7,
             "#b8e186"
            ],
            [
             0.8,
             "#7fbc41"
            ],
            [
             0.9,
             "#4d9221"
            ],
            [
             1,
             "#276419"
            ]
           ],
           "sequential": [
            [
             0,
             "#0d0887"
            ],
            [
             0.1111111111111111,
             "#46039f"
            ],
            [
             0.2222222222222222,
             "#7201a8"
            ],
            [
             0.3333333333333333,
             "#9c179e"
            ],
            [
             0.4444444444444444,
             "#bd3786"
            ],
            [
             0.5555555555555556,
             "#d8576b"
            ],
            [
             0.6666666666666666,
             "#ed7953"
            ],
            [
             0.7777777777777778,
             "#fb9f3a"
            ],
            [
             0.8888888888888888,
             "#fdca26"
            ],
            [
             1,
             "#f0f921"
            ]
           ],
           "sequentialminus": [
            [
             0,
             "#0d0887"
            ],
            [
             0.1111111111111111,
             "#46039f"
            ],
            [
             0.2222222222222222,
             "#7201a8"
            ],
            [
             0.3333333333333333,
             "#9c179e"
            ],
            [
             0.4444444444444444,
             "#bd3786"
            ],
            [
             0.5555555555555556,
             "#d8576b"
            ],
            [
             0.6666666666666666,
             "#ed7953"
            ],
            [
             0.7777777777777778,
             "#fb9f3a"
            ],
            [
             0.8888888888888888,
             "#fdca26"
            ],
            [
             1,
             "#f0f921"
            ]
           ]
          },
          "colorway": [
           "#636efa",
           "#EF553B",
           "#00cc96",
           "#ab63fa",
           "#FFA15A",
           "#19d3f3",
           "#FF6692",
           "#B6E880",
           "#FF97FF",
           "#FECB52"
          ],
          "font": {
           "color": "#2a3f5f"
          },
          "geo": {
           "bgcolor": "white",
           "lakecolor": "white",
           "landcolor": "#E5ECF6",
           "showlakes": true,
           "showland": true,
           "subunitcolor": "white"
          },
          "hoverlabel": {
           "align": "left"
          },
          "hovermode": "closest",
          "mapbox": {
           "style": "light"
          },
          "paper_bgcolor": "white",
          "plot_bgcolor": "#E5ECF6",
          "polar": {
           "angularaxis": {
            "gridcolor": "white",
            "linecolor": "white",
            "ticks": ""
           },
           "bgcolor": "#E5ECF6",
           "radialaxis": {
            "gridcolor": "white",
            "linecolor": "white",
            "ticks": ""
           }
          },
          "scene": {
           "xaxis": {
            "backgroundcolor": "#E5ECF6",
            "gridcolor": "white",
            "gridwidth": 2,
            "linecolor": "white",
            "showbackground": true,
            "ticks": "",
            "zerolinecolor": "white"
           },
           "yaxis": {
            "backgroundcolor": "#E5ECF6",
            "gridcolor": "white",
            "gridwidth": 2,
            "linecolor": "white",
            "showbackground": true,
            "ticks": "",
            "zerolinecolor": "white"
           },
           "zaxis": {
            "backgroundcolor": "#E5ECF6",
            "gridcolor": "white",
            "gridwidth": 2,
            "linecolor": "white",
            "showbackground": true,
            "ticks": "",
            "zerolinecolor": "white"
           }
          },
          "shapedefaults": {
           "line": {
            "color": "#2a3f5f"
           }
          },
          "ternary": {
           "aaxis": {
            "gridcolor": "white",
            "linecolor": "white",
            "ticks": ""
           },
           "baxis": {
            "gridcolor": "white",
            "linecolor": "white",
            "ticks": ""
           },
           "bgcolor": "#E5ECF6",
           "caxis": {
            "gridcolor": "white",
            "linecolor": "white",
            "ticks": ""
           }
          },
          "title": {
           "x": 0.05
          },
          "xaxis": {
           "automargin": true,
           "gridcolor": "white",
           "linecolor": "white",
           "ticks": "",
           "title": {
            "standoff": 15
           },
           "zerolinecolor": "white",
           "zerolinewidth": 2
          },
          "yaxis": {
           "automargin": true,
           "gridcolor": "white",
           "linecolor": "white",
           "ticks": "",
           "title": {
            "standoff": 15
           },
           "zerolinecolor": "white",
           "zerolinewidth": 2
          }
         }
        },
        "xaxis": {
         "anchor": "y",
         "domain": [
          0,
          1
         ],
         "title": {
          "text": "Category"
         }
        },
        "yaxis": {
         "anchor": "x",
         "domain": [
          0,
          1
         ],
         "title": {
          "text": "CIVIC Total Sum Impact Score"
         }
        }
       }
      }
     },
     "metadata": {},
     "output_type": "display_data"
    }
   ],
   "source": [
    "fig = px.bar(\n",
    "    not_supported_variant_impact_df,\n",
    "    x=\"Category\",\n",
    "    y=\"CIVIC Total Sum Impact Score\",\n",
    "    hover_data=[\"Total Number Evidence Items\", not_supported_variant_impact_df[\"% Accepted Evidence Items\"]],\n",
    "    color=\"Total Number Evidence Items\",\n",
    "    labels={\"CIVIC Total Sum Impact Score\": \"CIVIC Total Sum Impact Score\"},\n",
    "    text_auto=\".1f\",\n",
    "    color_continuous_scale=\"geyser\"\n",
    ")\n",
    "fig.update_traces(width=1)\n",
    "fig.show()"
   ]
  },
  {
   "cell_type": "code",
   "execution_count": 374,
   "metadata": {},
   "outputs": [],
   "source": [
    "fig.write_html(\"civic_ns_categories_impact_redgreen.html\")"
   ]
  },
  {
   "cell_type": "markdown",
   "metadata": {},
   "source": [
    "The scatterplot below shows the relationship between the Not Suported variant sub category impact score and the number of evidence items associated with variants in each sub category. Additionally, the sizes of the data point represent the number of variants in each sub category. "
   ]
  },
  {
   "cell_type": "code",
   "execution_count": 375,
   "metadata": {},
   "outputs": [
    {
     "data": {
      "application/vnd.plotly.v1+json": {
       "config": {
        "plotlyServerURL": "https://plot.ly"
       },
       "data": [
        {
         "customdata": [
          [
           "55.34%"
          ]
         ],
         "hovertemplate": "Category=Expression<br>Total Number Evidence Items=%{x}<br>CIVIC Total Sum Impact Score=%{y}<br>Total Number Variants=%{text}<br>% Accepted Evidence Items=%{customdata[0]}<extra></extra>",
         "legendgroup": "Expression",
         "marker": {
          "color": "#636efa",
          "size": [
           291
          ],
          "sizemode": "area",
          "sizeref": 0.240625,
          "symbol": "circle"
         },
         "mode": "markers+text",
         "name": "Expression",
         "orientation": "v",
         "showlegend": true,
         "text": [
          291
         ],
         "type": "scatter",
         "x": [
          618
         ],
         "xaxis": "x",
         "y": [
          3618
         ],
         "yaxis": "y"
        },
        {
         "customdata": [
          [
           "91.67%"
          ]
         ],
         "hovertemplate": "Category=Epigenetic Modification<br>Total Number Evidence Items=%{x}<br>CIVIC Total Sum Impact Score=%{y}<br>Total Number Variants=%{text}<br>% Accepted Evidence Items=%{customdata[0]}<extra></extra>",
         "legendgroup": "Epigenetic Modification",
         "marker": {
          "color": "#EF553B",
          "size": [
           15
          ],
          "sizemode": "area",
          "sizeref": 0.240625,
          "symbol": "circle"
         },
         "mode": "markers+text",
         "name": "Epigenetic Modification",
         "orientation": "v",
         "showlegend": true,
         "text": [
          15
         ],
         "type": "scatter",
         "x": [
          24
         ],
         "xaxis": "x",
         "y": [
          285.5
         ],
         "yaxis": "y"
        },
        {
         "customdata": [
          [
           "59.48%"
          ]
         ],
         "hovertemplate": "Category=Fusion<br>Total Number Evidence Items=%{x}<br>CIVIC Total Sum Impact Score=%{y}<br>Total Number Variants=%{text}<br>% Accepted Evidence Items=%{customdata[0]}<extra></extra>",
         "legendgroup": "Fusion",
         "marker": {
          "color": "#00cc96",
          "size": [
           308
          ],
          "sizemode": "area",
          "sizeref": 0.240625,
          "symbol": "circle"
         },
         "mode": "markers+text",
         "name": "Fusion",
         "orientation": "v",
         "showlegend": true,
         "text": [
          308
         ],
         "type": "scatter",
         "x": [
          1239
         ],
         "xaxis": "x",
         "y": [
          6600.75
         ],
         "yaxis": "y"
        },
        {
         "customdata": [
          [
           "63.46%"
          ]
         ],
         "hovertemplate": "Category=Protein Consequence<br>Total Number Evidence Items=%{x}<br>CIVIC Total Sum Impact Score=%{y}<br>Total Number Variants=%{text}<br>% Accepted Evidence Items=%{customdata[0]}<extra></extra>",
         "legendgroup": "Protein Consequence",
         "marker": {
          "color": "#ab63fa",
          "size": [
           128
          ],
          "sizemode": "area",
          "sizeref": 0.240625,
          "symbol": "circle"
         },
         "mode": "markers+text",
         "name": "Protein Consequence",
         "orientation": "v",
         "showlegend": true,
         "text": [
          128
         ],
         "type": "scatter",
         "x": [
          301
         ],
         "xaxis": "x",
         "y": [
          2683.75
         ],
         "yaxis": "y"
        },
        {
         "customdata": [
          [
           "44.25%"
          ]
         ],
         "hovertemplate": "Category=Gene Function<br>Total Number Evidence Items=%{x}<br>CIVIC Total Sum Impact Score=%{y}<br>Total Number Variants=%{text}<br>% Accepted Evidence Items=%{customdata[0]}<extra></extra>",
         "legendgroup": "Gene Function",
         "marker": {
          "color": "#FFA15A",
          "size": [
           90
          ],
          "sizemode": "area",
          "sizeref": 0.240625,
          "symbol": "circle"
         },
         "mode": "markers+text",
         "name": "Gene Function",
         "orientation": "v",
         "showlegend": true,
         "text": [
          90
         ],
         "type": "scatter",
         "x": [
          348
         ],
         "xaxis": "x",
         "y": [
          1805.5
         ],
         "yaxis": "y"
        },
        {
         "customdata": [
          [
           "38.97%"
          ]
         ],
         "hovertemplate": "Category=Rearrangements<br>Total Number Evidence Items=%{x}<br>CIVIC Total Sum Impact Score=%{y}<br>Total Number Variants=%{text}<br>% Accepted Evidence Items=%{customdata[0]}<extra></extra>",
         "legendgroup": "Rearrangements",
         "marker": {
          "color": "#19d3f3",
          "size": [
           52
          ],
          "sizemode": "area",
          "sizeref": 0.240625,
          "symbol": "circle"
         },
         "mode": "markers+text",
         "name": "Rearrangements",
         "orientation": "v",
         "showlegend": true,
         "text": [
          52
         ],
         "type": "scatter",
         "x": [
          136
         ],
         "xaxis": "x",
         "y": [
          653
         ],
         "yaxis": "y"
        },
        {
         "customdata": [
          [
           "42.19%"
          ]
         ],
         "hovertemplate": "Category=Copy Number<br>Total Number Evidence Items=%{x}<br>CIVIC Total Sum Impact Score=%{y}<br>Total Number Variants=%{text}<br>% Accepted Evidence Items=%{customdata[0]}<extra></extra>",
         "legendgroup": "Copy Number",
         "marker": {
          "color": "#FF6692",
          "size": [
           34
          ],
          "sizemode": "area",
          "sizeref": 0.240625,
          "symbol": "circle"
         },
         "mode": "markers+text",
         "name": "Copy Number",
         "orientation": "v",
         "showlegend": true,
         "text": [
          34
         ],
         "type": "scatter",
         "x": [
          64
         ],
         "xaxis": "x",
         "y": [
          225
         ],
         "yaxis": "y"
        },
        {
         "customdata": [
          [
           "37.04%"
          ]
         ],
         "hovertemplate": "Category=Other<br>Total Number Evidence Items=%{x}<br>CIVIC Total Sum Impact Score=%{y}<br>Total Number Variants=%{text}<br>% Accepted Evidence Items=%{customdata[0]}<extra></extra>",
         "legendgroup": "Other",
         "marker": {
          "color": "#B6E880",
          "size": [
           93
          ],
          "sizemode": "area",
          "sizeref": 0.240625,
          "symbol": "circle"
         },
         "mode": "markers+text",
         "name": "Other",
         "orientation": "v",
         "showlegend": true,
         "text": [
          93
         ],
         "type": "scatter",
         "x": [
          162
         ],
         "xaxis": "x",
         "y": [
          673.5
         ],
         "yaxis": "y"
        },
        {
         "customdata": [
          [
           "56.52%"
          ]
         ],
         "hovertemplate": "Category=Genotypes Easy<br>Total Number Evidence Items=%{x}<br>CIVIC Total Sum Impact Score=%{y}<br>Total Number Variants=%{text}<br>% Accepted Evidence Items=%{customdata[0]}<extra></extra>",
         "legendgroup": "Genotypes Easy",
         "marker": {
          "color": "#FF97FF",
          "size": [
           11
          ],
          "sizemode": "area",
          "sizeref": 0.240625,
          "symbol": "circle"
         },
         "mode": "markers+text",
         "name": "Genotypes Easy",
         "orientation": "v",
         "showlegend": true,
         "text": [
          11
         ],
         "type": "scatter",
         "x": [
          23
         ],
         "xaxis": "x",
         "y": [
          195
         ],
         "yaxis": "y"
        },
        {
         "customdata": [
          [
           "57.14%"
          ]
         ],
         "hovertemplate": "Category=Genotypes Compound<br>Total Number Evidence Items=%{x}<br>CIVIC Total Sum Impact Score=%{y}<br>Total Number Variants=%{text}<br>% Accepted Evidence Items=%{customdata[0]}<extra></extra>",
         "legendgroup": "Genotypes Compound",
         "marker": {
          "color": "#FECB52",
          "size": [
           6
          ],
          "sizemode": "area",
          "sizeref": 0.240625,
          "symbol": "circle"
         },
         "mode": "markers+text",
         "name": "Genotypes Compound",
         "orientation": "v",
         "showlegend": true,
         "text": [
          6
         ],
         "type": "scatter",
         "x": [
          7
         ],
         "xaxis": "x",
         "y": [
          117.5
         ],
         "yaxis": "y"
        },
        {
         "customdata": [
          [
           "57.17%"
          ]
         ],
         "hovertemplate": "Category=Region Defined Variant<br>Total Number Evidence Items=%{x}<br>CIVIC Total Sum Impact Score=%{y}<br>Total Number Variants=%{text}<br>% Accepted Evidence Items=%{customdata[0]}<extra></extra>",
         "legendgroup": "Region Defined Variant",
         "marker": {
          "color": "#636efa",
          "size": [
           209
          ],
          "sizemode": "area",
          "sizeref": 0.240625,
          "symbol": "circle"
         },
         "mode": "markers+text",
         "name": "Region Defined Variant",
         "orientation": "v",
         "showlegend": true,
         "text": [
          209
         ],
         "type": "scatter",
         "x": [
          976
         ],
         "xaxis": "x",
         "y": [
          8353.5
         ],
         "yaxis": "y"
        },
        {
         "customdata": [
          [
           "11.46%"
          ]
         ],
         "hovertemplate": "Category=Transcript Variant<br>Total Number Evidence Items=%{x}<br>CIVIC Total Sum Impact Score=%{y}<br>Total Number Variants=%{text}<br>% Accepted Evidence Items=%{customdata[0]}<extra></extra>",
         "legendgroup": "Transcript Variant",
         "marker": {
          "color": "#EF553B",
          "size": [
           385
          ],
          "sizemode": "area",
          "sizeref": 0.240625,
          "symbol": "circle"
         },
         "mode": "markers+text",
         "name": "Transcript Variant",
         "orientation": "v",
         "showlegend": true,
         "text": [
          385
         ],
         "type": "scatter",
         "x": [
          471
         ],
         "xaxis": "x",
         "y": [
          356.5
         ],
         "yaxis": "y"
        }
       ],
       "layout": {
        "legend": {
         "itemsizing": "constant",
         "title": {
          "text": "Category"
         },
         "tracegroupgap": 0
        },
        "margin": {
         "t": 60
        },
        "template": {
         "data": {
          "bar": [
           {
            "error_x": {
             "color": "#2a3f5f"
            },
            "error_y": {
             "color": "#2a3f5f"
            },
            "marker": {
             "line": {
              "color": "#E5ECF6",
              "width": 0.5
             },
             "pattern": {
              "fillmode": "overlay",
              "size": 10,
              "solidity": 0.2
             }
            },
            "type": "bar"
           }
          ],
          "barpolar": [
           {
            "marker": {
             "line": {
              "color": "#E5ECF6",
              "width": 0.5
             },
             "pattern": {
              "fillmode": "overlay",
              "size": 10,
              "solidity": 0.2
             }
            },
            "type": "barpolar"
           }
          ],
          "carpet": [
           {
            "aaxis": {
             "endlinecolor": "#2a3f5f",
             "gridcolor": "white",
             "linecolor": "white",
             "minorgridcolor": "white",
             "startlinecolor": "#2a3f5f"
            },
            "baxis": {
             "endlinecolor": "#2a3f5f",
             "gridcolor": "white",
             "linecolor": "white",
             "minorgridcolor": "white",
             "startlinecolor": "#2a3f5f"
            },
            "type": "carpet"
           }
          ],
          "choropleth": [
           {
            "colorbar": {
             "outlinewidth": 0,
             "ticks": ""
            },
            "type": "choropleth"
           }
          ],
          "contour": [
           {
            "colorbar": {
             "outlinewidth": 0,
             "ticks": ""
            },
            "colorscale": [
             [
              0,
              "#0d0887"
             ],
             [
              0.1111111111111111,
              "#46039f"
             ],
             [
              0.2222222222222222,
              "#7201a8"
             ],
             [
              0.3333333333333333,
              "#9c179e"
             ],
             [
              0.4444444444444444,
              "#bd3786"
             ],
             [
              0.5555555555555556,
              "#d8576b"
             ],
             [
              0.6666666666666666,
              "#ed7953"
             ],
             [
              0.7777777777777778,
              "#fb9f3a"
             ],
             [
              0.8888888888888888,
              "#fdca26"
             ],
             [
              1,
              "#f0f921"
             ]
            ],
            "type": "contour"
           }
          ],
          "contourcarpet": [
           {
            "colorbar": {
             "outlinewidth": 0,
             "ticks": ""
            },
            "type": "contourcarpet"
           }
          ],
          "heatmap": [
           {
            "colorbar": {
             "outlinewidth": 0,
             "ticks": ""
            },
            "colorscale": [
             [
              0,
              "#0d0887"
             ],
             [
              0.1111111111111111,
              "#46039f"
             ],
             [
              0.2222222222222222,
              "#7201a8"
             ],
             [
              0.3333333333333333,
              "#9c179e"
             ],
             [
              0.4444444444444444,
              "#bd3786"
             ],
             [
              0.5555555555555556,
              "#d8576b"
             ],
             [
              0.6666666666666666,
              "#ed7953"
             ],
             [
              0.7777777777777778,
              "#fb9f3a"
             ],
             [
              0.8888888888888888,
              "#fdca26"
             ],
             [
              1,
              "#f0f921"
             ]
            ],
            "type": "heatmap"
           }
          ],
          "heatmapgl": [
           {
            "colorbar": {
             "outlinewidth": 0,
             "ticks": ""
            },
            "colorscale": [
             [
              0,
              "#0d0887"
             ],
             [
              0.1111111111111111,
              "#46039f"
             ],
             [
              0.2222222222222222,
              "#7201a8"
             ],
             [
              0.3333333333333333,
              "#9c179e"
             ],
             [
              0.4444444444444444,
              "#bd3786"
             ],
             [
              0.5555555555555556,
              "#d8576b"
             ],
             [
              0.6666666666666666,
              "#ed7953"
             ],
             [
              0.7777777777777778,
              "#fb9f3a"
             ],
             [
              0.8888888888888888,
              "#fdca26"
             ],
             [
              1,
              "#f0f921"
             ]
            ],
            "type": "heatmapgl"
           }
          ],
          "histogram": [
           {
            "marker": {
             "pattern": {
              "fillmode": "overlay",
              "size": 10,
              "solidity": 0.2
             }
            },
            "type": "histogram"
           }
          ],
          "histogram2d": [
           {
            "colorbar": {
             "outlinewidth": 0,
             "ticks": ""
            },
            "colorscale": [
             [
              0,
              "#0d0887"
             ],
             [
              0.1111111111111111,
              "#46039f"
             ],
             [
              0.2222222222222222,
              "#7201a8"
             ],
             [
              0.3333333333333333,
              "#9c179e"
             ],
             [
              0.4444444444444444,
              "#bd3786"
             ],
             [
              0.5555555555555556,
              "#d8576b"
             ],
             [
              0.6666666666666666,
              "#ed7953"
             ],
             [
              0.7777777777777778,
              "#fb9f3a"
             ],
             [
              0.8888888888888888,
              "#fdca26"
             ],
             [
              1,
              "#f0f921"
             ]
            ],
            "type": "histogram2d"
           }
          ],
          "histogram2dcontour": [
           {
            "colorbar": {
             "outlinewidth": 0,
             "ticks": ""
            },
            "colorscale": [
             [
              0,
              "#0d0887"
             ],
             [
              0.1111111111111111,
              "#46039f"
             ],
             [
              0.2222222222222222,
              "#7201a8"
             ],
             [
              0.3333333333333333,
              "#9c179e"
             ],
             [
              0.4444444444444444,
              "#bd3786"
             ],
             [
              0.5555555555555556,
              "#d8576b"
             ],
             [
              0.6666666666666666,
              "#ed7953"
             ],
             [
              0.7777777777777778,
              "#fb9f3a"
             ],
             [
              0.8888888888888888,
              "#fdca26"
             ],
             [
              1,
              "#f0f921"
             ]
            ],
            "type": "histogram2dcontour"
           }
          ],
          "mesh3d": [
           {
            "colorbar": {
             "outlinewidth": 0,
             "ticks": ""
            },
            "type": "mesh3d"
           }
          ],
          "parcoords": [
           {
            "line": {
             "colorbar": {
              "outlinewidth": 0,
              "ticks": ""
             }
            },
            "type": "parcoords"
           }
          ],
          "pie": [
           {
            "automargin": true,
            "type": "pie"
           }
          ],
          "scatter": [
           {
            "fillpattern": {
             "fillmode": "overlay",
             "size": 10,
             "solidity": 0.2
            },
            "type": "scatter"
           }
          ],
          "scatter3d": [
           {
            "line": {
             "colorbar": {
              "outlinewidth": 0,
              "ticks": ""
             }
            },
            "marker": {
             "colorbar": {
              "outlinewidth": 0,
              "ticks": ""
             }
            },
            "type": "scatter3d"
           }
          ],
          "scattercarpet": [
           {
            "marker": {
             "colorbar": {
              "outlinewidth": 0,
              "ticks": ""
             }
            },
            "type": "scattercarpet"
           }
          ],
          "scattergeo": [
           {
            "marker": {
             "colorbar": {
              "outlinewidth": 0,
              "ticks": ""
             }
            },
            "type": "scattergeo"
           }
          ],
          "scattergl": [
           {
            "marker": {
             "colorbar": {
              "outlinewidth": 0,
              "ticks": ""
             }
            },
            "type": "scattergl"
           }
          ],
          "scattermapbox": [
           {
            "marker": {
             "colorbar": {
              "outlinewidth": 0,
              "ticks": ""
             }
            },
            "type": "scattermapbox"
           }
          ],
          "scatterpolar": [
           {
            "marker": {
             "colorbar": {
              "outlinewidth": 0,
              "ticks": ""
             }
            },
            "type": "scatterpolar"
           }
          ],
          "scatterpolargl": [
           {
            "marker": {
             "colorbar": {
              "outlinewidth": 0,
              "ticks": ""
             }
            },
            "type": "scatterpolargl"
           }
          ],
          "scatterternary": [
           {
            "marker": {
             "colorbar": {
              "outlinewidth": 0,
              "ticks": ""
             }
            },
            "type": "scatterternary"
           }
          ],
          "surface": [
           {
            "colorbar": {
             "outlinewidth": 0,
             "ticks": ""
            },
            "colorscale": [
             [
              0,
              "#0d0887"
             ],
             [
              0.1111111111111111,
              "#46039f"
             ],
             [
              0.2222222222222222,
              "#7201a8"
             ],
             [
              0.3333333333333333,
              "#9c179e"
             ],
             [
              0.4444444444444444,
              "#bd3786"
             ],
             [
              0.5555555555555556,
              "#d8576b"
             ],
             [
              0.6666666666666666,
              "#ed7953"
             ],
             [
              0.7777777777777778,
              "#fb9f3a"
             ],
             [
              0.8888888888888888,
              "#fdca26"
             ],
             [
              1,
              "#f0f921"
             ]
            ],
            "type": "surface"
           }
          ],
          "table": [
           {
            "cells": {
             "fill": {
              "color": "#EBF0F8"
             },
             "line": {
              "color": "white"
             }
            },
            "header": {
             "fill": {
              "color": "#C8D4E3"
             },
             "line": {
              "color": "white"
             }
            },
            "type": "table"
           }
          ]
         },
         "layout": {
          "annotationdefaults": {
           "arrowcolor": "#2a3f5f",
           "arrowhead": 0,
           "arrowwidth": 1
          },
          "autotypenumbers": "strict",
          "coloraxis": {
           "colorbar": {
            "outlinewidth": 0,
            "ticks": ""
           }
          },
          "colorscale": {
           "diverging": [
            [
             0,
             "#8e0152"
            ],
            [
             0.1,
             "#c51b7d"
            ],
            [
             0.2,
             "#de77ae"
            ],
            [
             0.3,
             "#f1b6da"
            ],
            [
             0.4,
             "#fde0ef"
            ],
            [
             0.5,
             "#f7f7f7"
            ],
            [
             0.6,
             "#e6f5d0"
            ],
            [
             0.7,
             "#b8e186"
            ],
            [
             0.8,
             "#7fbc41"
            ],
            [
             0.9,
             "#4d9221"
            ],
            [
             1,
             "#276419"
            ]
           ],
           "sequential": [
            [
             0,
             "#0d0887"
            ],
            [
             0.1111111111111111,
             "#46039f"
            ],
            [
             0.2222222222222222,
             "#7201a8"
            ],
            [
             0.3333333333333333,
             "#9c179e"
            ],
            [
             0.4444444444444444,
             "#bd3786"
            ],
            [
             0.5555555555555556,
             "#d8576b"
            ],
            [
             0.6666666666666666,
             "#ed7953"
            ],
            [
             0.7777777777777778,
             "#fb9f3a"
            ],
            [
             0.8888888888888888,
             "#fdca26"
            ],
            [
             1,
             "#f0f921"
            ]
           ],
           "sequentialminus": [
            [
             0,
             "#0d0887"
            ],
            [
             0.1111111111111111,
             "#46039f"
            ],
            [
             0.2222222222222222,
             "#7201a8"
            ],
            [
             0.3333333333333333,
             "#9c179e"
            ],
            [
             0.4444444444444444,
             "#bd3786"
            ],
            [
             0.5555555555555556,
             "#d8576b"
            ],
            [
             0.6666666666666666,
             "#ed7953"
            ],
            [
             0.7777777777777778,
             "#fb9f3a"
            ],
            [
             0.8888888888888888,
             "#fdca26"
            ],
            [
             1,
             "#f0f921"
            ]
           ]
          },
          "colorway": [
           "#636efa",
           "#EF553B",
           "#00cc96",
           "#ab63fa",
           "#FFA15A",
           "#19d3f3",
           "#FF6692",
           "#B6E880",
           "#FF97FF",
           "#FECB52"
          ],
          "font": {
           "color": "#2a3f5f"
          },
          "geo": {
           "bgcolor": "white",
           "lakecolor": "white",
           "landcolor": "#E5ECF6",
           "showlakes": true,
           "showland": true,
           "subunitcolor": "white"
          },
          "hoverlabel": {
           "align": "left"
          },
          "hovermode": "closest",
          "mapbox": {
           "style": "light"
          },
          "paper_bgcolor": "white",
          "plot_bgcolor": "#E5ECF6",
          "polar": {
           "angularaxis": {
            "gridcolor": "white",
            "linecolor": "white",
            "ticks": ""
           },
           "bgcolor": "#E5ECF6",
           "radialaxis": {
            "gridcolor": "white",
            "linecolor": "white",
            "ticks": ""
           }
          },
          "scene": {
           "xaxis": {
            "backgroundcolor": "#E5ECF6",
            "gridcolor": "white",
            "gridwidth": 2,
            "linecolor": "white",
            "showbackground": true,
            "ticks": "",
            "zerolinecolor": "white"
           },
           "yaxis": {
            "backgroundcolor": "#E5ECF6",
            "gridcolor": "white",
            "gridwidth": 2,
            "linecolor": "white",
            "showbackground": true,
            "ticks": "",
            "zerolinecolor": "white"
           },
           "zaxis": {
            "backgroundcolor": "#E5ECF6",
            "gridcolor": "white",
            "gridwidth": 2,
            "linecolor": "white",
            "showbackground": true,
            "ticks": "",
            "zerolinecolor": "white"
           }
          },
          "shapedefaults": {
           "line": {
            "color": "#2a3f5f"
           }
          },
          "ternary": {
           "aaxis": {
            "gridcolor": "white",
            "linecolor": "white",
            "ticks": ""
           },
           "baxis": {
            "gridcolor": "white",
            "linecolor": "white",
            "ticks": ""
           },
           "bgcolor": "#E5ECF6",
           "caxis": {
            "gridcolor": "white",
            "linecolor": "white",
            "ticks": ""
           }
          },
          "title": {
           "x": 0.05
          },
          "xaxis": {
           "automargin": true,
           "gridcolor": "white",
           "linecolor": "white",
           "ticks": "",
           "title": {
            "standoff": 15
           },
           "zerolinecolor": "white",
           "zerolinewidth": 2
          },
          "yaxis": {
           "automargin": true,
           "gridcolor": "white",
           "linecolor": "white",
           "ticks": "",
           "title": {
            "standoff": 15
           },
           "zerolinecolor": "white",
           "zerolinewidth": 2
          }
         }
        },
        "xaxis": {
         "anchor": "y",
         "domain": [
          0,
          1
         ],
         "title": {
          "text": "Total Number Evidence Items"
         }
        },
        "yaxis": {
         "anchor": "x",
         "domain": [
          0,
          1
         ],
         "title": {
          "text": "CIVIC Total Sum Impact Score"
         }
        }
       }
      }
     },
     "metadata": {},
     "output_type": "display_data"
    }
   ],
   "source": [
    "fig2 = px.scatter(\n",
    "    data_frame=not_supported_variant_impact_df,\n",
    "    x=\"Total Number Evidence Items\",\n",
    "    y=\"CIVIC Total Sum Impact Score\",\n",
    "    size=\"Total Number Variants\",\n",
    "    size_max=40,\n",
    "    text=\"Total Number Variants\",\n",
    "    color=\"Category\",\n",
    "    hover_data=\"% Accepted Evidence Items\"\n",
    ")\n",
    "fig2.show()"
   ]
  },
  {
   "cell_type": "code",
   "execution_count": 376,
   "metadata": {},
   "outputs": [],
   "source": [
    "fig2.write_html(\"civic_ns_categories_impact_scatterplot.html\")"
   ]
  },
  {
   "cell_type": "code",
   "execution_count": 377,
   "metadata": {},
   "outputs": [
    {
     "data": {
      "application/vnd.plotly.v1+json": {
       "config": {
        "plotlyServerURL": "https://plot.ly"
       },
       "data": [
        {
         "customdata": [
          [
           "55.34%",
           9.397402597402598
          ]
         ],
         "hovertemplate": "Category=Expression<br>Total Number Variants=%{text}<br>Average Impact Score per Evidence Item=%{y}<br>% Accepted Evidence Items=%{customdata[0]}<br>Average Impact Score per Variant=%{customdata[1]}<extra></extra>",
         "legendgroup": "Expression",
         "marker": {
          "color": "#636efa",
          "size": [
           291
          ],
          "sizemode": "area",
          "sizeref": 0.240625,
          "symbol": "circle"
         },
         "mode": "markers+text",
         "name": "Expression",
         "orientation": "v",
         "showlegend": true,
         "text": [
          291
         ],
         "type": "scatter",
         "x": [
          291
         ],
         "xaxis": "x",
         "y": [
          7.681528662420382
         ],
         "yaxis": "y"
        },
        {
         "customdata": [
          [
           "91.67%",
           0.7415584415584415
          ]
         ],
         "hovertemplate": "Category=Epigenetic Modification<br>Total Number Variants=%{text}<br>Average Impact Score per Evidence Item=%{y}<br>% Accepted Evidence Items=%{customdata[0]}<br>Average Impact Score per Variant=%{customdata[1]}<extra></extra>",
         "legendgroup": "Epigenetic Modification",
         "marker": {
          "color": "#EF553B",
          "size": [
           15
          ],
          "sizemode": "area",
          "sizeref": 0.240625,
          "symbol": "circle"
         },
         "mode": "markers+text",
         "name": "Epigenetic Modification",
         "orientation": "v",
         "showlegend": true,
         "text": [
          15
         ],
         "type": "scatter",
         "x": [
          15
         ],
         "xaxis": "x",
         "y": [
          0.6061571125265393
         ],
         "yaxis": "y"
        },
        {
         "customdata": [
          [
           "59.48%",
           17.144805194805194
          ]
         ],
         "hovertemplate": "Category=Fusion<br>Total Number Variants=%{text}<br>Average Impact Score per Evidence Item=%{y}<br>% Accepted Evidence Items=%{customdata[0]}<br>Average Impact Score per Variant=%{customdata[1]}<extra></extra>",
         "legendgroup": "Fusion",
         "marker": {
          "color": "#00cc96",
          "size": [
           308
          ],
          "sizemode": "area",
          "sizeref": 0.240625,
          "symbol": "circle"
         },
         "mode": "markers+text",
         "name": "Fusion",
         "orientation": "v",
         "showlegend": true,
         "text": [
          308
         ],
         "type": "scatter",
         "x": [
          308
         ],
         "xaxis": "x",
         "y": [
          14.014331210191083
         ],
         "yaxis": "y"
        },
        {
         "customdata": [
          [
           "63.46%",
           6.970779220779221
          ]
         ],
         "hovertemplate": "Category=Protein Consequence<br>Total Number Variants=%{text}<br>Average Impact Score per Evidence Item=%{y}<br>% Accepted Evidence Items=%{customdata[0]}<br>Average Impact Score per Variant=%{customdata[1]}<extra></extra>",
         "legendgroup": "Protein Consequence",
         "marker": {
          "color": "#ab63fa",
          "size": [
           128
          ],
          "sizemode": "area",
          "sizeref": 0.240625,
          "symbol": "circle"
         },
         "mode": "markers+text",
         "name": "Protein Consequence",
         "orientation": "v",
         "showlegend": true,
         "text": [
          128
         ],
         "type": "scatter",
         "x": [
          128
         ],
         "xaxis": "x",
         "y": [
          5.697983014861996
         ],
         "yaxis": "y"
        },
        {
         "customdata": [
          [
           "44.25%",
           4.689610389610389
          ]
         ],
         "hovertemplate": "Category=Gene Function<br>Total Number Variants=%{text}<br>Average Impact Score per Evidence Item=%{y}<br>% Accepted Evidence Items=%{customdata[0]}<br>Average Impact Score per Variant=%{customdata[1]}<extra></extra>",
         "legendgroup": "Gene Function",
         "marker": {
          "color": "#FFA15A",
          "size": [
           90
          ],
          "sizemode": "area",
          "sizeref": 0.240625,
          "symbol": "circle"
         },
         "mode": "markers+text",
         "name": "Gene Function",
         "orientation": "v",
         "showlegend": true,
         "text": [
          90
         ],
         "type": "scatter",
         "x": [
          90
         ],
         "xaxis": "x",
         "y": [
          3.8333333333333335
         ],
         "yaxis": "y"
        },
        {
         "customdata": [
          [
           "38.97%",
           1.6961038961038961
          ]
         ],
         "hovertemplate": "Category=Rearrangements<br>Total Number Variants=%{text}<br>Average Impact Score per Evidence Item=%{y}<br>% Accepted Evidence Items=%{customdata[0]}<br>Average Impact Score per Variant=%{customdata[1]}<extra></extra>",
         "legendgroup": "Rearrangements",
         "marker": {
          "color": "#19d3f3",
          "size": [
           52
          ],
          "sizemode": "area",
          "sizeref": 0.240625,
          "symbol": "circle"
         },
         "mode": "markers+text",
         "name": "Rearrangements",
         "orientation": "v",
         "showlegend": true,
         "text": [
          52
         ],
         "type": "scatter",
         "x": [
          52
         ],
         "xaxis": "x",
         "y": [
          1.3864118895966029
         ],
         "yaxis": "y"
        },
        {
         "customdata": [
          [
           "42.19%",
           0.5844155844155844
          ]
         ],
         "hovertemplate": "Category=Copy Number<br>Total Number Variants=%{text}<br>Average Impact Score per Evidence Item=%{y}<br>% Accepted Evidence Items=%{customdata[0]}<br>Average Impact Score per Variant=%{customdata[1]}<extra></extra>",
         "legendgroup": "Copy Number",
         "marker": {
          "color": "#FF6692",
          "size": [
           34
          ],
          "sizemode": "area",
          "sizeref": 0.240625,
          "symbol": "circle"
         },
         "mode": "markers+text",
         "name": "Copy Number",
         "orientation": "v",
         "showlegend": true,
         "text": [
          34
         ],
         "type": "scatter",
         "x": [
          34
         ],
         "xaxis": "x",
         "y": [
          0.47770700636942676
         ],
         "yaxis": "y"
        },
        {
         "customdata": [
          [
           "37.04%",
           1.7493506493506494
          ]
         ],
         "hovertemplate": "Category=Other<br>Total Number Variants=%{text}<br>Average Impact Score per Evidence Item=%{y}<br>% Accepted Evidence Items=%{customdata[0]}<br>Average Impact Score per Variant=%{customdata[1]}<extra></extra>",
         "legendgroup": "Other",
         "marker": {
          "color": "#B6E880",
          "size": [
           93
          ],
          "sizemode": "area",
          "sizeref": 0.240625,
          "symbol": "circle"
         },
         "mode": "markers+text",
         "name": "Other",
         "orientation": "v",
         "showlegend": true,
         "text": [
          93
         ],
         "type": "scatter",
         "x": [
          93
         ],
         "xaxis": "x",
         "y": [
          1.429936305732484
         ],
         "yaxis": "y"
        },
        {
         "customdata": [
          [
           "56.52%",
           0.5064935064935064
          ]
         ],
         "hovertemplate": "Category=Genotypes Easy<br>Total Number Variants=%{text}<br>Average Impact Score per Evidence Item=%{y}<br>% Accepted Evidence Items=%{customdata[0]}<br>Average Impact Score per Variant=%{customdata[1]}<extra></extra>",
         "legendgroup": "Genotypes Easy",
         "marker": {
          "color": "#FF97FF",
          "size": [
           11
          ],
          "sizemode": "area",
          "sizeref": 0.240625,
          "symbol": "circle"
         },
         "mode": "markers+text",
         "name": "Genotypes Easy",
         "orientation": "v",
         "showlegend": true,
         "text": [
          11
         ],
         "type": "scatter",
         "x": [
          11
         ],
         "xaxis": "x",
         "y": [
          0.4140127388535032
         ],
         "yaxis": "y"
        },
        {
         "customdata": [
          [
           "57.14%",
           0.3051948051948052
          ]
         ],
         "hovertemplate": "Category=Genotypes Compound<br>Total Number Variants=%{text}<br>Average Impact Score per Evidence Item=%{y}<br>% Accepted Evidence Items=%{customdata[0]}<br>Average Impact Score per Variant=%{customdata[1]}<extra></extra>",
         "legendgroup": "Genotypes Compound",
         "marker": {
          "color": "#FECB52",
          "size": [
           6
          ],
          "sizemode": "area",
          "sizeref": 0.240625,
          "symbol": "circle"
         },
         "mode": "markers+text",
         "name": "Genotypes Compound",
         "orientation": "v",
         "showlegend": true,
         "text": [
          6
         ],
         "type": "scatter",
         "x": [
          6
         ],
         "xaxis": "x",
         "y": [
          0.2494692144373673
         ],
         "yaxis": "y"
        },
        {
         "customdata": [
          [
           "57.17%",
           21.697402597402597
          ]
         ],
         "hovertemplate": "Category=Region Defined Variant<br>Total Number Variants=%{text}<br>Average Impact Score per Evidence Item=%{y}<br>% Accepted Evidence Items=%{customdata[0]}<br>Average Impact Score per Variant=%{customdata[1]}<extra></extra>",
         "legendgroup": "Region Defined Variant",
         "marker": {
          "color": "#636efa",
          "size": [
           209
          ],
          "sizemode": "area",
          "sizeref": 0.240625,
          "symbol": "circle"
         },
         "mode": "markers+text",
         "name": "Region Defined Variant",
         "orientation": "v",
         "showlegend": true,
         "text": [
          209
         ],
         "type": "scatter",
         "x": [
          209
         ],
         "xaxis": "x",
         "y": [
          17.735668789808916
         ],
         "yaxis": "y"
        },
        {
         "customdata": [
          [
           "11.46%",
           0.925974025974026
          ]
         ],
         "hovertemplate": "Category=Transcript Variant<br>Total Number Variants=%{text}<br>Average Impact Score per Evidence Item=%{y}<br>% Accepted Evidence Items=%{customdata[0]}<br>Average Impact Score per Variant=%{customdata[1]}<extra></extra>",
         "legendgroup": "Transcript Variant",
         "marker": {
          "color": "#EF553B",
          "size": [
           385
          ],
          "sizemode": "area",
          "sizeref": 0.240625,
          "symbol": "circle"
         },
         "mode": "markers+text",
         "name": "Transcript Variant",
         "orientation": "v",
         "showlegend": true,
         "text": [
          385
         ],
         "type": "scatter",
         "x": [
          385
         ],
         "xaxis": "x",
         "y": [
          0.7569002123142251
         ],
         "yaxis": "y"
        }
       ],
       "layout": {
        "legend": {
         "itemsizing": "constant",
         "title": {
          "text": "Category"
         },
         "tracegroupgap": 0
        },
        "margin": {
         "t": 60
        },
        "template": {
         "data": {
          "bar": [
           {
            "error_x": {
             "color": "#2a3f5f"
            },
            "error_y": {
             "color": "#2a3f5f"
            },
            "marker": {
             "line": {
              "color": "#E5ECF6",
              "width": 0.5
             },
             "pattern": {
              "fillmode": "overlay",
              "size": 10,
              "solidity": 0.2
             }
            },
            "type": "bar"
           }
          ],
          "barpolar": [
           {
            "marker": {
             "line": {
              "color": "#E5ECF6",
              "width": 0.5
             },
             "pattern": {
              "fillmode": "overlay",
              "size": 10,
              "solidity": 0.2
             }
            },
            "type": "barpolar"
           }
          ],
          "carpet": [
           {
            "aaxis": {
             "endlinecolor": "#2a3f5f",
             "gridcolor": "white",
             "linecolor": "white",
             "minorgridcolor": "white",
             "startlinecolor": "#2a3f5f"
            },
            "baxis": {
             "endlinecolor": "#2a3f5f",
             "gridcolor": "white",
             "linecolor": "white",
             "minorgridcolor": "white",
             "startlinecolor": "#2a3f5f"
            },
            "type": "carpet"
           }
          ],
          "choropleth": [
           {
            "colorbar": {
             "outlinewidth": 0,
             "ticks": ""
            },
            "type": "choropleth"
           }
          ],
          "contour": [
           {
            "colorbar": {
             "outlinewidth": 0,
             "ticks": ""
            },
            "colorscale": [
             [
              0,
              "#0d0887"
             ],
             [
              0.1111111111111111,
              "#46039f"
             ],
             [
              0.2222222222222222,
              "#7201a8"
             ],
             [
              0.3333333333333333,
              "#9c179e"
             ],
             [
              0.4444444444444444,
              "#bd3786"
             ],
             [
              0.5555555555555556,
              "#d8576b"
             ],
             [
              0.6666666666666666,
              "#ed7953"
             ],
             [
              0.7777777777777778,
              "#fb9f3a"
             ],
             [
              0.8888888888888888,
              "#fdca26"
             ],
             [
              1,
              "#f0f921"
             ]
            ],
            "type": "contour"
           }
          ],
          "contourcarpet": [
           {
            "colorbar": {
             "outlinewidth": 0,
             "ticks": ""
            },
            "type": "contourcarpet"
           }
          ],
          "heatmap": [
           {
            "colorbar": {
             "outlinewidth": 0,
             "ticks": ""
            },
            "colorscale": [
             [
              0,
              "#0d0887"
             ],
             [
              0.1111111111111111,
              "#46039f"
             ],
             [
              0.2222222222222222,
              "#7201a8"
             ],
             [
              0.3333333333333333,
              "#9c179e"
             ],
             [
              0.4444444444444444,
              "#bd3786"
             ],
             [
              0.5555555555555556,
              "#d8576b"
             ],
             [
              0.6666666666666666,
              "#ed7953"
             ],
             [
              0.7777777777777778,
              "#fb9f3a"
             ],
             [
              0.8888888888888888,
              "#fdca26"
             ],
             [
              1,
              "#f0f921"
             ]
            ],
            "type": "heatmap"
           }
          ],
          "heatmapgl": [
           {
            "colorbar": {
             "outlinewidth": 0,
             "ticks": ""
            },
            "colorscale": [
             [
              0,
              "#0d0887"
             ],
             [
              0.1111111111111111,
              "#46039f"
             ],
             [
              0.2222222222222222,
              "#7201a8"
             ],
             [
              0.3333333333333333,
              "#9c179e"
             ],
             [
              0.4444444444444444,
              "#bd3786"
             ],
             [
              0.5555555555555556,
              "#d8576b"
             ],
             [
              0.6666666666666666,
              "#ed7953"
             ],
             [
              0.7777777777777778,
              "#fb9f3a"
             ],
             [
              0.8888888888888888,
              "#fdca26"
             ],
             [
              1,
              "#f0f921"
             ]
            ],
            "type": "heatmapgl"
           }
          ],
          "histogram": [
           {
            "marker": {
             "pattern": {
              "fillmode": "overlay",
              "size": 10,
              "solidity": 0.2
             }
            },
            "type": "histogram"
           }
          ],
          "histogram2d": [
           {
            "colorbar": {
             "outlinewidth": 0,
             "ticks": ""
            },
            "colorscale": [
             [
              0,
              "#0d0887"
             ],
             [
              0.1111111111111111,
              "#46039f"
             ],
             [
              0.2222222222222222,
              "#7201a8"
             ],
             [
              0.3333333333333333,
              "#9c179e"
             ],
             [
              0.4444444444444444,
              "#bd3786"
             ],
             [
              0.5555555555555556,
              "#d8576b"
             ],
             [
              0.6666666666666666,
              "#ed7953"
             ],
             [
              0.7777777777777778,
              "#fb9f3a"
             ],
             [
              0.8888888888888888,
              "#fdca26"
             ],
             [
              1,
              "#f0f921"
             ]
            ],
            "type": "histogram2d"
           }
          ],
          "histogram2dcontour": [
           {
            "colorbar": {
             "outlinewidth": 0,
             "ticks": ""
            },
            "colorscale": [
             [
              0,
              "#0d0887"
             ],
             [
              0.1111111111111111,
              "#46039f"
             ],
             [
              0.2222222222222222,
              "#7201a8"
             ],
             [
              0.3333333333333333,
              "#9c179e"
             ],
             [
              0.4444444444444444,
              "#bd3786"
             ],
             [
              0.5555555555555556,
              "#d8576b"
             ],
             [
              0.6666666666666666,
              "#ed7953"
             ],
             [
              0.7777777777777778,
              "#fb9f3a"
             ],
             [
              0.8888888888888888,
              "#fdca26"
             ],
             [
              1,
              "#f0f921"
             ]
            ],
            "type": "histogram2dcontour"
           }
          ],
          "mesh3d": [
           {
            "colorbar": {
             "outlinewidth": 0,
             "ticks": ""
            },
            "type": "mesh3d"
           }
          ],
          "parcoords": [
           {
            "line": {
             "colorbar": {
              "outlinewidth": 0,
              "ticks": ""
             }
            },
            "type": "parcoords"
           }
          ],
          "pie": [
           {
            "automargin": true,
            "type": "pie"
           }
          ],
          "scatter": [
           {
            "fillpattern": {
             "fillmode": "overlay",
             "size": 10,
             "solidity": 0.2
            },
            "type": "scatter"
           }
          ],
          "scatter3d": [
           {
            "line": {
             "colorbar": {
              "outlinewidth": 0,
              "ticks": ""
             }
            },
            "marker": {
             "colorbar": {
              "outlinewidth": 0,
              "ticks": ""
             }
            },
            "type": "scatter3d"
           }
          ],
          "scattercarpet": [
           {
            "marker": {
             "colorbar": {
              "outlinewidth": 0,
              "ticks": ""
             }
            },
            "type": "scattercarpet"
           }
          ],
          "scattergeo": [
           {
            "marker": {
             "colorbar": {
              "outlinewidth": 0,
              "ticks": ""
             }
            },
            "type": "scattergeo"
           }
          ],
          "scattergl": [
           {
            "marker": {
             "colorbar": {
              "outlinewidth": 0,
              "ticks": ""
             }
            },
            "type": "scattergl"
           }
          ],
          "scattermapbox": [
           {
            "marker": {
             "colorbar": {
              "outlinewidth": 0,
              "ticks": ""
             }
            },
            "type": "scattermapbox"
           }
          ],
          "scatterpolar": [
           {
            "marker": {
             "colorbar": {
              "outlinewidth": 0,
              "ticks": ""
             }
            },
            "type": "scatterpolar"
           }
          ],
          "scatterpolargl": [
           {
            "marker": {
             "colorbar": {
              "outlinewidth": 0,
              "ticks": ""
             }
            },
            "type": "scatterpolargl"
           }
          ],
          "scatterternary": [
           {
            "marker": {
             "colorbar": {
              "outlinewidth": 0,
              "ticks": ""
             }
            },
            "type": "scatterternary"
           }
          ],
          "surface": [
           {
            "colorbar": {
             "outlinewidth": 0,
             "ticks": ""
            },
            "colorscale": [
             [
              0,
              "#0d0887"
             ],
             [
              0.1111111111111111,
              "#46039f"
             ],
             [
              0.2222222222222222,
              "#7201a8"
             ],
             [
              0.3333333333333333,
              "#9c179e"
             ],
             [
              0.4444444444444444,
              "#bd3786"
             ],
             [
              0.5555555555555556,
              "#d8576b"
             ],
             [
              0.6666666666666666,
              "#ed7953"
             ],
             [
              0.7777777777777778,
              "#fb9f3a"
             ],
             [
              0.8888888888888888,
              "#fdca26"
             ],
             [
              1,
              "#f0f921"
             ]
            ],
            "type": "surface"
           }
          ],
          "table": [
           {
            "cells": {
             "fill": {
              "color": "#EBF0F8"
             },
             "line": {
              "color": "white"
             }
            },
            "header": {
             "fill": {
              "color": "#C8D4E3"
             },
             "line": {
              "color": "white"
             }
            },
            "type": "table"
           }
          ]
         },
         "layout": {
          "annotationdefaults": {
           "arrowcolor": "#2a3f5f",
           "arrowhead": 0,
           "arrowwidth": 1
          },
          "autotypenumbers": "strict",
          "coloraxis": {
           "colorbar": {
            "outlinewidth": 0,
            "ticks": ""
           }
          },
          "colorscale": {
           "diverging": [
            [
             0,
             "#8e0152"
            ],
            [
             0.1,
             "#c51b7d"
            ],
            [
             0.2,
             "#de77ae"
            ],
            [
             0.3,
             "#f1b6da"
            ],
            [
             0.4,
             "#fde0ef"
            ],
            [
             0.5,
             "#f7f7f7"
            ],
            [
             0.6,
             "#e6f5d0"
            ],
            [
             0.7,
             "#b8e186"
            ],
            [
             0.8,
             "#7fbc41"
            ],
            [
             0.9,
             "#4d9221"
            ],
            [
             1,
             "#276419"
            ]
           ],
           "sequential": [
            [
             0,
             "#0d0887"
            ],
            [
             0.1111111111111111,
             "#46039f"
            ],
            [
             0.2222222222222222,
             "#7201a8"
            ],
            [
             0.3333333333333333,
             "#9c179e"
            ],
            [
             0.4444444444444444,
             "#bd3786"
            ],
            [
             0.5555555555555556,
             "#d8576b"
            ],
            [
             0.6666666666666666,
             "#ed7953"
            ],
            [
             0.7777777777777778,
             "#fb9f3a"
            ],
            [
             0.8888888888888888,
             "#fdca26"
            ],
            [
             1,
             "#f0f921"
            ]
           ],
           "sequentialminus": [
            [
             0,
             "#0d0887"
            ],
            [
             0.1111111111111111,
             "#46039f"
            ],
            [
             0.2222222222222222,
             "#7201a8"
            ],
            [
             0.3333333333333333,
             "#9c179e"
            ],
            [
             0.4444444444444444,
             "#bd3786"
            ],
            [
             0.5555555555555556,
             "#d8576b"
            ],
            [
             0.6666666666666666,
             "#ed7953"
            ],
            [
             0.7777777777777778,
             "#fb9f3a"
            ],
            [
             0.8888888888888888,
             "#fdca26"
            ],
            [
             1,
             "#f0f921"
            ]
           ]
          },
          "colorway": [
           "#636efa",
           "#EF553B",
           "#00cc96",
           "#ab63fa",
           "#FFA15A",
           "#19d3f3",
           "#FF6692",
           "#B6E880",
           "#FF97FF",
           "#FECB52"
          ],
          "font": {
           "color": "#2a3f5f"
          },
          "geo": {
           "bgcolor": "white",
           "lakecolor": "white",
           "landcolor": "#E5ECF6",
           "showlakes": true,
           "showland": true,
           "subunitcolor": "white"
          },
          "hoverlabel": {
           "align": "left"
          },
          "hovermode": "closest",
          "mapbox": {
           "style": "light"
          },
          "paper_bgcolor": "white",
          "plot_bgcolor": "#E5ECF6",
          "polar": {
           "angularaxis": {
            "gridcolor": "white",
            "linecolor": "white",
            "ticks": ""
           },
           "bgcolor": "#E5ECF6",
           "radialaxis": {
            "gridcolor": "white",
            "linecolor": "white",
            "ticks": ""
           }
          },
          "scene": {
           "xaxis": {
            "backgroundcolor": "#E5ECF6",
            "gridcolor": "white",
            "gridwidth": 2,
            "linecolor": "white",
            "showbackground": true,
            "ticks": "",
            "zerolinecolor": "white"
           },
           "yaxis": {
            "backgroundcolor": "#E5ECF6",
            "gridcolor": "white",
            "gridwidth": 2,
            "linecolor": "white",
            "showbackground": true,
            "ticks": "",
            "zerolinecolor": "white"
           },
           "zaxis": {
            "backgroundcolor": "#E5ECF6",
            "gridcolor": "white",
            "gridwidth": 2,
            "linecolor": "white",
            "showbackground": true,
            "ticks": "",
            "zerolinecolor": "white"
           }
          },
          "shapedefaults": {
           "line": {
            "color": "#2a3f5f"
           }
          },
          "ternary": {
           "aaxis": {
            "gridcolor": "white",
            "linecolor": "white",
            "ticks": ""
           },
           "baxis": {
            "gridcolor": "white",
            "linecolor": "white",
            "ticks": ""
           },
           "bgcolor": "#E5ECF6",
           "caxis": {
            "gridcolor": "white",
            "linecolor": "white",
            "ticks": ""
           }
          },
          "title": {
           "x": 0.05
          },
          "xaxis": {
           "automargin": true,
           "gridcolor": "white",
           "linecolor": "white",
           "ticks": "",
           "title": {
            "standoff": 15
           },
           "zerolinecolor": "white",
           "zerolinewidth": 2
          },
          "yaxis": {
           "automargin": true,
           "gridcolor": "white",
           "linecolor": "white",
           "ticks": "",
           "title": {
            "standoff": 15
           },
           "zerolinecolor": "white",
           "zerolinewidth": 2
          }
         }
        },
        "xaxis": {
         "anchor": "y",
         "domain": [
          0,
          1
         ],
         "title": {
          "text": "Total Number Variants"
         }
        },
        "yaxis": {
         "anchor": "x",
         "domain": [
          0,
          1
         ],
         "title": {
          "text": "Average Impact Score per Evidence Item"
         }
        }
       }
      }
     },
     "metadata": {},
     "output_type": "display_data"
    }
   ],
   "source": [
    "fig3= px.scatter(data_frame= not_supported_variant_impact_df,\n",
    "                x= 'Total Number Variants',\n",
    "                y= 'Average Impact Score per Evidence Item',\n",
    "                size= 'Total Number Variants',\n",
    "                size_max= 40,\n",
    "                text= 'Total Number Variants',\n",
    "                # color_discrete_sequence= Bold,\n",
    "                color= 'Category',\n",
    "                hover_data= ['% Accepted Evidence Items', 'Average Impact Score per Variant'])\n",
    "fig3.show()"
   ]
  },
  {
   "cell_type": "code",
   "execution_count": null,
   "metadata": {},
   "outputs": [],
   "source": []
  }
 ],
 "metadata": {
  "kernelspec": {
   "display_name": "Python 3.10.9 64-bit ('3.10.9')",
   "language": "python",
   "name": "python3"
  },
  "language_info": {
   "codemirror_mode": {
    "name": "ipython",
    "version": 3
   },
   "file_extension": ".py",
   "mimetype": "text/x-python",
   "name": "python",
   "nbconvert_exporter": "python",
   "pygments_lexer": "ipython3",
   "version": "3.11.0"
  },
  "orig_nbformat": 4,
  "vscode": {
   "interpreter": {
    "hash": "1bd4a0c8bc911393f4a19827cd0d555013b2fcb9ea63c8ddc9b9ae4ac59a8883"
   }
  }
 },
 "nbformat": 4,
 "nbformat_minor": 2
}
