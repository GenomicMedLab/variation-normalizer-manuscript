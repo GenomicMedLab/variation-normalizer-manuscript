{
 "cells": [
  {
   "cell_type": "markdown",
   "metadata": {},
   "source": [
    "# <a id='toc1_'></a>[CIViC Evidence Analysis](#toc0_)\n",
    "This notebook contains an analysis on CIViC evidence data"
   ]
  },
  {
   "cell_type": "markdown",
   "metadata": {},
   "source": [
    "**Table of contents**<a id='toc0_'></a>    \n",
    "- [CIViC Evidence Analysis](#toc1_)    \n",
    "  - [Total Variants in CIViC](#toc1_1_)    \n",
    "  - [Total Evidence items in CIViC](#toc1_2_)    \n",
    "  - [Total Molecular Profiles in CIViC](#toc1_3_)    \n",
    "- [Create analysis functions / global variables](#toc2_)    \n",
    "  - [Summary dicts](#toc2_1_)    \n",
    "  - [Define Analysis Functions](#toc2_2_)    \n",
    "- [Analysis of Normalized Queries](#toc3_)    \n",
    "  - [List of Normalized Variants ID's](#toc3_1_)    \n",
    "  - [Variant analysis](#toc3_2_)    \n",
    "  - [Transform df for evidence analysis](#toc3_3_)    \n",
    "  - [Evidence analysis](#toc3_4_)    \n",
    "  - [Impact](#toc3_5_)    \n",
    "    - [Import molecular profile id](#toc3_5_1_)    \n",
    "    - [Import molecular profile scores](#toc3_5_2_)    \n",
    "- [Analysis of Unable to Normalize Queries](#toc4_)    \n",
    "  - [List of Unable to Normalize Variant ID's](#toc4_1_)    \n",
    "  - [Variant analysis](#toc4_2_)    \n",
    "  - [Transform df for evidence analysis](#toc4_3_)    \n",
    "  - [Evidence analysis](#toc4_4_)    \n",
    "  - [Impact](#toc4_5_)    \n",
    "    - [Import molecular profile id](#toc4_5_1_)    \n",
    "    - [Import molecular profile scores](#toc4_5_2_)    \n",
    "- [Analysis of Not Supported Variants](#toc5_)    \n",
    "    - [List of Not Supported Variant ID's](#toc5_1_1_)    \n",
    "  - [Variant Analysis](#toc5_2_)    \n",
    "    - [Not Supported Variant Analysis by Subcategory](#toc5_2_1_)    \n",
    "  - [Transform df for evidence analysis](#toc5_3_)    \n",
    "  - [Evidence analysis](#toc5_4_)    \n",
    "    - [Not Supported Variant Evidence Analysis by Subcategory](#toc5_4_1_)    \n",
    "  - [Impact](#toc5_5_)    \n",
    "    - [Via Evidence Level](#toc5_5_1_)    \n",
    "      - [Analysis with only Accepted Variants](#toc5_5_1_1_)    \n",
    "        - [Calculating evidence score via level](#toc5_5_1_1_1_)    \n",
    "        - [Summary Table](#toc5_5_1_1_2_)    \n",
    "      - [Analysis with Accepted and Submitted Variants](#toc5_5_1_2_)    \n",
    "        - [Calculating evidence score via level](#toc5_5_1_2_1_)    \n",
    "        - [Summary Table](#toc5_5_1_2_2_)    \n",
    "    - [Via Molecular Profile Score- this was not used eventaully since MOA evidence items are only scored by level](#toc5_5_2_)    \n",
    "      - [Import molecular profile id](#toc5_5_2_1_)    \n",
    "      - [Import molecular profile scores](#toc5_5_2_2_)    \n",
    "      - [Impact by Subcategory](#toc5_5_2_3_)    \n",
    "- [Summary](#toc6_)    \n",
    "  - [Variant Analysis](#toc6_1_)    \n",
    "    - [Building Summary Table 1 & 2](#toc6_1_1_)    \n",
    "    - [Summary Table 1](#toc6_1_2_)    \n",
    "    - [Summary Table 2](#toc6_1_3_)    \n",
    "    - [Building Summary Tables 3 - 5](#toc6_1_4_)    \n",
    "    - [Summary Table 3](#toc6_1_5_)    \n",
    "    - [Summary Table 4](#toc6_1_6_)    \n",
    "    - [Summary Table 5](#toc6_1_7_)    \n",
    "  - [Evidence Analysis](#toc6_2_)    \n",
    "    - [Building Summary Tables 6 & 7](#toc6_2_1_)    \n",
    "    - [Summary Table 6](#toc6_2_2_)    \n",
    "    - [Summmary Table 7](#toc6_2_3_)    \n",
    "    - [Building Summary Tables 8 - 10](#toc6_2_4_)    \n",
    "    - [Summary Table 8](#toc6_2_5_)    \n",
    "    - [Summary Table 9](#toc6_2_6_)    \n",
    "    - [Summary Table 10](#toc6_2_7_)    \n",
    "  - [Impact](#toc6_3_)    \n",
    "\n",
    "<!-- vscode-jupyter-toc-config\n",
    "\tnumbering=false\n",
    "\tanchor=true\n",
    "\tflat=false\n",
    "\tminLevel=1\n",
    "\tmaxLevel=6\n",
    "\t/vscode-jupyter-toc-config -->\n",
    "<!-- THIS CELL WILL BE REPLACED ON TOC UPDATE. DO NOT WRITE YOUR TEXT IN THIS CELL -->"
   ]
  },
  {
   "cell_type": "code",
   "execution_count": 1,
   "metadata": {},
   "outputs": [],
   "source": [
    "from pathlib import Path\n",
    "from enum import Enum\n",
    "import zipfile\n",
    "\n",
    "import pandas as pd\n",
    "from civicpy import civic as civicpy\n",
    "import plotly.express as px"
   ]
  },
  {
   "cell_type": "code",
   "execution_count": 130,
   "metadata": {},
   "outputs": [
    {
     "name": "stdout",
     "output_type": "stream",
     "text": [
      "Using cache-20230803.pkl.zip for civicpy cache\n"
     ]
    },
    {
     "data": {
      "text/plain": [
       "True"
      ]
     },
     "execution_count": 130,
     "metadata": {},
     "output_type": "execute_result"
    }
   ],
   "source": [
    "# Use latest cache that has been pushed to the repo\n",
    "latest_cache_zip_path = sorted(Path().glob(\"cache-*.pkl.zip\"))[-1]\n",
    "print(f\"Using {latest_cache_zip_path} for civicpy cache\")\n",
    "\n",
    "with zipfile.ZipFile(latest_cache_zip_path, \"r\") as zip_ref:\n",
    "    zip_ref.extractall()\n",
    "\n",
    "civicpy.load_cache(local_cache_path=Path(\"cache.pkl\"), on_stale=\"ignore\")"
   ]
  },
  {
   "cell_type": "markdown",
   "metadata": {},
   "source": [
    "## <a id='toc1_1_'></a>[Total Variants in CIViC](#toc0_)"
   ]
  },
  {
   "cell_type": "code",
   "execution_count": 3,
   "metadata": {},
   "outputs": [
    {
     "data": {
      "text/plain": [
       "'Total Number of variants in CIViC: 3519'"
      ]
     },
     "execution_count": 3,
     "metadata": {},
     "output_type": "execute_result"
    }
   ],
   "source": [
    "civic_variant_ids = civicpy.get_all_variants(include_status=[\"accepted\", \"submitted\"])\n",
    "total_number_variants = len(civic_variant_ids)\n",
    "f\"Total Number of variants in CIViC: {total_number_variants}\""
   ]
  },
  {
   "cell_type": "markdown",
   "metadata": {},
   "source": [
    "## <a id='toc1_2_'></a>[Total Evidence items in CIViC](#toc0_)"
   ]
  },
  {
   "cell_type": "markdown",
   "metadata": {},
   "source": [
    "Need to remove all rejected evidence items"
   ]
  },
  {
   "cell_type": "code",
   "execution_count": 4,
   "metadata": {},
   "outputs": [],
   "source": [
    "civic_evidence_ids = civicpy.get_all_evidence(include_status=[\"accepted\", \"submitted\"])"
   ]
  },
  {
   "cell_type": "code",
   "execution_count": 5,
   "metadata": {},
   "outputs": [
    {
     "data": {
      "text/plain": [
       "'Total Number of accepted and submitted evidence items in CIViC: 9920'"
      ]
     },
     "execution_count": 5,
     "metadata": {},
     "output_type": "execute_result"
    }
   ],
   "source": [
    "total_ac_sub_evidence = len(civic_evidence_ids)\n",
    "f\"Total Number of accepted and submitted evidence items in CIViC: {total_ac_sub_evidence}\""
   ]
  },
  {
   "cell_type": "markdown",
   "metadata": {},
   "source": [
    "## <a id='toc1_3_'></a>[Total Molecular Profiles in CIViC](#toc0_)"
   ]
  },
  {
   "cell_type": "code",
   "execution_count": 6,
   "metadata": {},
   "outputs": [],
   "source": [
    "civic_molprof_ids = civicpy.get_all_molecular_profiles(\n",
    "    include_status=[\"accepted\", \"submitted\", \"rejected\"]\n",
    ")"
   ]
  },
  {
   "cell_type": "code",
   "execution_count": 7,
   "metadata": {},
   "outputs": [
    {
     "data": {
      "text/plain": [
       "9920"
      ]
     },
     "execution_count": 7,
     "metadata": {},
     "output_type": "execute_result"
    }
   ],
   "source": [
    "len(civic_evidence_ids)"
   ]
  },
  {
   "cell_type": "markdown",
   "metadata": {},
   "source": [
    "# <a id='toc2_'></a>[Create analysis functions / global variables](#toc0_)"
   ]
  },
  {
   "cell_type": "code",
   "execution_count": 8,
   "metadata": {},
   "outputs": [],
   "source": [
    "class VariantNormType(str, Enum):\n",
    "    \"\"\"Variation Normalization types\"\"\"\n",
    "\n",
    "    NORMALIZED = \"Normalized\"\n",
    "    UNABLE_TO_NORMALIZE = \"Unable to Normalize\"\n",
    "    NOT_SUPPORTED = \"Not Supported\"\n",
    "\n",
    "\n",
    "VARIANT_NORM_TYPE_VALUES = [v.value for v in VariantNormType.__members__.values()]"
   ]
  },
  {
   "cell_type": "code",
   "execution_count": 9,
   "metadata": {},
   "outputs": [],
   "source": [
    "class VariantCategory(str, Enum):\n",
    "    \"\"\"Create enum for the kind of variants that are in CIViC.\"\"\"\n",
    "\n",
    "    EXPRESSION = \"Expression\"\n",
    "    EPIGENETIC_MODIFICATION = \"Epigenetic Modification\"\n",
    "    FUSION = \"Fusion\"\n",
    "    PROTEIN_CONS = \"Protein Consequence\"\n",
    "    GENE_FUNC = \"Gene Function\"\n",
    "    REARRANGEMENTS = \"Rearrangements\"\n",
    "    COPY_NUMBER = \"Copy Number\"\n",
    "    OTHER = \"Other\"\n",
    "    GENOTYPES_EASY = \"Genotypes Easy\"\n",
    "    GENOTYPES_COMPOUND = \"Genotypes Compound\"\n",
    "    REGION_DEFINED_VAR = \"Region Defined Variant\"\n",
    "    TRANSCRIPT_VAR = \"Transcript Variant\"  # no attempt to normalize these ones, since there is no query we could use\n",
    "\n",
    "\n",
    "VARIANT_CATEGORY_VALUES = [v.value for v in VariantCategory.__members__.values()]"
   ]
  },
  {
   "cell_type": "markdown",
   "metadata": {},
   "source": [
    "## <a id='toc2_1_'></a>[Summary dicts](#toc0_)\n",
    "\n",
    "These dictionaries will be mutated and used at the end of the analysis"
   ]
  },
  {
   "cell_type": "code",
   "execution_count": 10,
   "metadata": {},
   "outputs": [
    {
     "data": {
      "text/plain": [
       "{'Variant Category': ['Normalized', 'Unable to Normalize', 'Not Supported'],\n",
       " 'Count of CIViC Variant Items per Category': [],\n",
       " 'Fraction of all CIViC Variant Items': [],\n",
       " 'Percentage of all CIViC Variant Items': [],\n",
       " 'Fraction of Accepted Variant Items': [],\n",
       " 'Percentage of Accepted Variant Items': [],\n",
       " 'Fraction of Not Accepted Variant Items': [],\n",
       " 'Percentage of Not Accepted Variant Items': []}"
      ]
     },
     "execution_count": 10,
     "metadata": {},
     "output_type": "execute_result"
    }
   ],
   "source": [
    "variant_analysis_summary = {\n",
    "    \"Variant Category\": VARIANT_NORM_TYPE_VALUES,\n",
    "    \"Count of CIViC Variant Items per Category\": [],\n",
    "    \"Fraction of all CIViC Variant Items\": [],\n",
    "    \"Percentage of all CIViC Variant Items\": [],\n",
    "    \"Fraction of Accepted Variant Items\": [],\n",
    "    \"Percentage of Accepted Variant Items\": [],\n",
    "    \"Fraction of Not Accepted Variant Items\": [],\n",
    "    \"Percentage of Not Accepted Variant Items\": [],\n",
    "}\n",
    "variant_analysis_summary"
   ]
  },
  {
   "cell_type": "code",
   "execution_count": 11,
   "metadata": {},
   "outputs": [
    {
     "data": {
      "text/plain": [
       "{'Variant Category': ['Normalized', 'Unable to Normalize', 'Not Supported'],\n",
       " 'Count of CIViC Evidence Items per Category': [],\n",
       " 'Fraction of all CIViC Evidence Items': [],\n",
       " 'Percentage of all CIViC Evidence Items': [],\n",
       " 'Fraction of Accepted Evidence Items': [],\n",
       " 'Percentage of Accepted Evidence Items': [],\n",
       " 'Fraction of Submitted Evidence Items': [],\n",
       " 'Percentage of Submitted Evidence Items': []}"
      ]
     },
     "execution_count": 11,
     "metadata": {},
     "output_type": "execute_result"
    }
   ],
   "source": [
    "evidence_analysis_summary = {\n",
    "    \"Variant Category\": VARIANT_NORM_TYPE_VALUES,\n",
    "    \"Count of CIViC Evidence Items per Category\": [],\n",
    "    \"Fraction of all CIViC Evidence Items\": [],\n",
    "    \"Percentage of all CIViC Evidence Items\": [],\n",
    "    \"Fraction of Accepted Evidence Items\": [],\n",
    "    \"Percentage of Accepted Evidence Items\": [],\n",
    "    \"Fraction of Submitted Evidence Items\": [],\n",
    "    \"Percentage of Submitted Evidence Items\": [],\n",
    "}\n",
    "evidence_analysis_summary"
   ]
  },
  {
   "cell_type": "markdown",
   "metadata": {},
   "source": [
    "## <a id='toc2_2_'></a>[Define Analysis Functions](#toc0_)"
   ]
  },
  {
   "cell_type": "code",
   "execution_count": 12,
   "metadata": {},
   "outputs": [],
   "source": [
    "def variant_analysis(\n",
    "    df: pd.DataFrame, variant_norm_type: VariantNormType\n",
    ") -> pd.DataFrame:\n",
    "    \"\"\"Do variant analysis (counts, percentages)\n",
    "\n",
    "    :param df: Dataframe of variants\n",
    "    :param variant_norm_type: The kind of variants that are in `df`\n",
    "    :return: Transformed dataframe with variant ID duplicates dropped\n",
    "    \"\"\"\n",
    "    # Drop duplicate rows\n",
    "    df = df.drop_duplicates(subset=[\"variant_id\"])\n",
    "    variant_ids = list(df[\"variant_id\"])\n",
    "\n",
    "    # Count\n",
    "    num_variants = len(variant_ids)\n",
    "    fraction_variants = f\"{num_variants} / {total_number_variants}\"\n",
    "    print(\n",
    "        f\"\\nNumber of {variant_norm_type.value} Variants in CIViC: {fraction_variants}\"\n",
    "    )\n",
    "\n",
    "    # Percentage\n",
    "    percentage_variants = f\"{num_variants / total_number_variants * 100:.2f}%\"\n",
    "    print(\n",
    "        f\"Percentage of {variant_norm_type.value} Variants in CIViC: {percentage_variants}\"\n",
    "    )\n",
    "\n",
    "    # Get accepted counts\n",
    "    num_accepted_variants = df.variant_accepted.sum()\n",
    "    fraction_accepted_variants = f\"{num_accepted_variants} / {num_variants}\"\n",
    "    print(\n",
    "        f\"\\nNumber of accepted {variant_norm_type.value} Variants: {fraction_accepted_variants}\"\n",
    "    )\n",
    "\n",
    "    # Get accepted percentage\n",
    "    percentage_accepted_variants = f\"{num_accepted_variants / num_variants * 100:.2f}%\"\n",
    "    print(\n",
    "        f\"Percentage of accepted {variant_norm_type.value} Variants: {percentage_accepted_variants}\"\n",
    "    )\n",
    "\n",
    "    # Get not accepted counts\n",
    "    num_not_accepted_variants = len(df) - num_accepted_variants\n",
    "    fraction_not_accepted_variants = f\"{num_not_accepted_variants} / {num_variants}\"\n",
    "    print(\n",
    "        f\"\\nNumber of not accepted {variant_norm_type.value} Variants: {fraction_not_accepted_variants}\"\n",
    "    )\n",
    "\n",
    "    # Get not accepted percentage\n",
    "    percentage_not_accepted_variants = (\n",
    "        f\"{num_not_accepted_variants / num_variants * 100:.2f}%\"\n",
    "    )\n",
    "    print(\n",
    "        f\"Percentage of not accepted {variant_norm_type.value} Variants: {percentage_not_accepted_variants}\"\n",
    "    )\n",
    "\n",
    "    variant_analysis_summary[\"Count of CIViC Variant Items per Category\"].append(\n",
    "        num_variants\n",
    "    )\n",
    "    variant_analysis_summary[\"Fraction of all CIViC Variant Items\"].append(\n",
    "        fraction_variants\n",
    "    )\n",
    "    variant_analysis_summary[\"Percentage of all CIViC Variant Items\"].append(\n",
    "        percentage_variants\n",
    "    )\n",
    "    variant_analysis_summary[\"Fraction of Accepted Variant Items\"].append(\n",
    "        fraction_accepted_variants\n",
    "    )\n",
    "    variant_analysis_summary[\"Percentage of Accepted Variant Items\"].append(\n",
    "        percentage_accepted_variants\n",
    "    )\n",
    "    variant_analysis_summary[\"Fraction of Not Accepted Variant Items\"].append(\n",
    "        fraction_not_accepted_variants\n",
    "    )\n",
    "    variant_analysis_summary[\"Percentage of Not Accepted Variant Items\"].append(\n",
    "        percentage_not_accepted_variants\n",
    "    )\n",
    "\n",
    "    return df"
   ]
  },
  {
   "cell_type": "code",
   "execution_count": 13,
   "metadata": {},
   "outputs": [],
   "source": [
    "def transform_df_evidence_ids(df: pd.DataFrame) -> pd.DataFrame:\n",
    "    \"\"\"Transform dataframe to include evidence ID information\n",
    "\n",
    "    :param df: Dataframe of variants\n",
    "    :return: Transformed dataframe with evidence ID information\n",
    "    \"\"\"\n",
    "    tmp_df = df.copy(deep=True)\n",
    "\n",
    "    _variants_evidence_ids = []\n",
    "    variant_ids = list(tmp_df[\"variant_id\"])\n",
    "\n",
    "    for v_id in variant_ids:\n",
    "        _variant_evidence_ids = []\n",
    "\n",
    "        for variant in civic_variant_ids:\n",
    "            if int(v_id) == variant.id:\n",
    "                for mp in variant.molecular_profiles:\n",
    "                    for e in mp.evidence_items:\n",
    "                        if e.id not in _variant_evidence_ids:\n",
    "                            _variant_evidence_ids.append(e.id)\n",
    "\n",
    "        _variants_evidence_ids.append(_variant_evidence_ids or \"\")\n",
    "\n",
    "    tmp_df[\"evidence_ids\"] = _variants_evidence_ids\n",
    "\n",
    "    # Explode and rename evidence ids field\n",
    "    tmp_df = tmp_df.explode(column=\"evidence_ids\")\n",
    "    tmp_df = tmp_df.rename(columns={\"evidence_ids\": \"evidence_id\"})\n",
    "\n",
    "    return tmp_df"
   ]
  },
  {
   "cell_type": "code",
   "execution_count": 14,
   "metadata": {},
   "outputs": [],
   "source": [
    "def transform_df_evidence(df: pd.DataFrame) -> pd.DataFrame:\n",
    "    \"\"\"Transform dataframe to include evidence status, rating, and level\n",
    "\n",
    "    :param df: Dataframe of variants\n",
    "    :return: Transformed dataframe with evidence status, rating, and level information.\n",
    "        Rejected evidence items will be dropped.\n",
    "    \"\"\"\n",
    "    variants_evidence_ids = list(df[\"evidence_id\"])\n",
    "\n",
    "    # Add evidence status, rating, and level information\n",
    "    _variants_evidence_statuses = []\n",
    "    _variants_evidence_ratings = []\n",
    "    _variants_evidence_levels = []\n",
    "\n",
    "    for eid in variants_evidence_ids:\n",
    "        _variant_evidence_statuses = []\n",
    "        _variant_evidence_ratings = []\n",
    "        _variant_evidence_levels = []\n",
    "\n",
    "        for evidence in civic_evidence_ids:\n",
    "            if eid and (int(eid) == evidence.id):\n",
    "                if evidence.status not in _variant_evidence_statuses:\n",
    "                    _variant_evidence_statuses.append(evidence.status)\n",
    "\n",
    "                if evidence.rating not in _variant_evidence_ratings:\n",
    "                    _variant_evidence_ratings.append(evidence.rating)\n",
    "\n",
    "                if evidence.evidence_level not in _variant_evidence_levels:\n",
    "                    _variant_evidence_levels.append(evidence.evidence_level)\n",
    "\n",
    "        _variants_evidence_statuses.append(_variant_evidence_statuses or \"\")\n",
    "        _variants_evidence_ratings.append(_variant_evidence_ratings or \"\")\n",
    "        _variants_evidence_levels.append(_variant_evidence_levels or \"\")\n",
    "\n",
    "    df[\"evidence_status\"] = _variants_evidence_statuses\n",
    "    df[\"evidence_status\"] = df[\"evidence_status\"].str.join(\", \")\n",
    "    df[\"evidence_rating\"] = _variants_evidence_ratings\n",
    "    df[\"evidence_level\"] = _variants_evidence_levels\n",
    "\n",
    "    # Drop rejected evidence items\n",
    "    df = df.drop(df[df.evidence_status == \"rejected\"].index)\n",
    "\n",
    "    return df"
   ]
  },
  {
   "cell_type": "code",
   "execution_count": 142,
   "metadata": {},
   "outputs": [],
   "source": [
    "def evidence_analysis1( #for Not Supported Variant analysis since it has sub categories and \n",
    "                        #evidence item duplicates should be dropped within the sub categories, \n",
    "                        # not accross all Not Supported Variant evidence items\n",
    "    df: pd.DataFrame, variant_norm_type: VariantNormType\n",
    ") -> pd.DataFrame:\n",
    "    \"\"\"Do evidence analysis (counts, percentages)\n",
    "\n",
    "    :param df: Dataframe of variants\n",
    "    :param variant_norm_type: The kind of variants that are in `df`\n",
    "    :return: Transformed dataframe with evidence ID duplicates dropped\n",
    "    \"\"\"\n",
    "    # Count\n",
    "    num_variant_unique_evidence_items = len(set(df.evidence_id))\n",
    "    fraction_evidence_items = (\n",
    "        f\"{num_variant_unique_evidence_items} / {total_ac_sub_evidence}\"\n",
    "    )\n",
    "    print(\n",
    "        f\"Number of {variant_norm_type.value} Variant Evidence items in CIViC: {fraction_evidence_items}\"\n",
    "    )\n",
    "\n",
    "    # Percentage\n",
    "    percentage_evidence_items = (\n",
    "        f\"{num_variant_unique_evidence_items / total_ac_sub_evidence * 100:.2f}%\"\n",
    "    )\n",
    "    print(\n",
    "        f\"Percentage of {variant_norm_type.value} Variant Evidence items in CIViC: {percentage_evidence_items}\"\n",
    "    )\n",
    "\n",
    "    # Add evidence accepted column\n",
    "    df[\"evidence_accepted\"] = df.evidence_status.map(\n",
    "        {\"accepted\": True, \"submitted\": False}\n",
    "    )\n",
    "\n",
    "    # Drop evidence id duplicates\n",
    "    df = df.drop_duplicates(subset=[\"evidence_id\", \"category\"])\n",
    "\n",
    "    # Get accepted counts\n",
    "    num_accepted_evidences_variants = df.evidence_accepted.sum()\n",
    "    fraction_accepted_evidences_variants = (\n",
    "        f\"{num_accepted_evidences_variants} / {num_variant_unique_evidence_items}\"\n",
    "    )\n",
    "    print(\n",
    "        f\"\\nNumber of accepted {variant_norm_type.value} Variant Evidence items: {fraction_accepted_evidences_variants}\"\n",
    "    )\n",
    "\n",
    "    # Get accepted percentage\n",
    "    percentage_accepted_evidences_variants = f\"{num_accepted_evidences_variants / num_variant_unique_evidence_items * 100:.2f}%\"\n",
    "    print(\n",
    "        f\"Percentage of accepted {variant_norm_type.value} Variant Evidence items: {percentage_accepted_evidences_variants}\"\n",
    "    )\n",
    "\n",
    "    # Get submitted counts\n",
    "    number_submitted_evidences_variants = len(df) - num_accepted_evidences_variants\n",
    "    fraction_submitted_evidences_variants = (\n",
    "        f\"{number_submitted_evidences_variants} / {num_variant_unique_evidence_items}\"\n",
    "    )\n",
    "    print(\n",
    "        f\"\\nNumber of submitted {variant_norm_type.value} Variant Evidence items: {fraction_submitted_evidences_variants}\"\n",
    "    )\n",
    "\n",
    "    # Get submitted percentage\n",
    "    percentage_submitted_evidences_variants = f\"{number_submitted_evidences_variants / num_variant_unique_evidence_items * 100:.2f}%\"\n",
    "    print(\n",
    "        f\"Percentage of not submitted {variant_norm_type.value} Variant Evidence items: {percentage_submitted_evidences_variants}\"\n",
    "    )\n",
    "\n",
    "    evidence_analysis_summary[\"Count of CIViC Evidence Items per Category\"].append(\n",
    "        num_variant_unique_evidence_items\n",
    "    )\n",
    "    evidence_analysis_summary[\"Fraction of all CIViC Evidence Items\"].append(\n",
    "        fraction_evidence_items\n",
    "    )\n",
    "    evidence_analysis_summary[\"Percentage of all CIViC Evidence Items\"].append(\n",
    "        percentage_evidence_items\n",
    "    )\n",
    "    evidence_analysis_summary[\"Fraction of Accepted Evidence Items\"].append(\n",
    "        fraction_accepted_evidences_variants\n",
    "    )\n",
    "    evidence_analysis_summary[\"Percentage of Accepted Evidence Items\"].append(\n",
    "        percentage_accepted_evidences_variants\n",
    "    )\n",
    "    evidence_analysis_summary[\"Fraction of Submitted Evidence Items\"].append(\n",
    "        fraction_submitted_evidences_variants\n",
    "    )\n",
    "    evidence_analysis_summary[\"Percentage of Submitted Evidence Items\"].append(\n",
    "        percentage_submitted_evidences_variants\n",
    "    )\n",
    "\n",
    "    return df"
   ]
  },
  {
   "cell_type": "code",
   "execution_count": 16,
   "metadata": {},
   "outputs": [],
   "source": [
    "def evidence_analysis2(\n",
    "    df: pd.DataFrame, variant_norm_type: VariantNormType\n",
    ") -> pd.DataFrame:\n",
    "    \"\"\"Do evidence analysis (counts, percentages)\n",
    "\n",
    "    :param df: Dataframe of variants\n",
    "    :param variant_norm_type: The kind of variants that are in `df`\n",
    "    :return: Transformed dataframe with evidence ID duplicates dropped\n",
    "    \"\"\"\n",
    "    # Count\n",
    "    num_variant_unique_evidence_items = len(set(df.evidence_id))\n",
    "    fraction_evidence_items = (\n",
    "        f\"{num_variant_unique_evidence_items} / {total_ac_sub_evidence}\"\n",
    "    )\n",
    "    print(\n",
    "        f\"Number of {variant_norm_type.value} Variant Evidence items in CIViC: {fraction_evidence_items}\"\n",
    "    )\n",
    "\n",
    "    # Percentage\n",
    "    percentage_evidence_items = (\n",
    "        f\"{num_variant_unique_evidence_items / total_ac_sub_evidence * 100:.2f}%\"\n",
    "    )\n",
    "    print(\n",
    "        f\"Percentage of {variant_norm_type.value} Variant Evidence items in CIViC: {percentage_evidence_items}\"\n",
    "    )\n",
    "\n",
    "    # Add evidence accepted column\n",
    "    df[\"evidence_accepted\"] = df.evidence_status.map(\n",
    "        {\"accepted\": True, \"submitted\": False}\n",
    "    )\n",
    "\n",
    "    # Drop evidence id duplicates\n",
    "    df = df.drop_duplicates(subset=[\"evidence_id\"])\n",
    "\n",
    "    # Get accepted counts\n",
    "    num_accepted_evidences_variants = df.evidence_accepted.sum()\n",
    "    fraction_accepted_evidences_variants = (\n",
    "        f\"{num_accepted_evidences_variants} / {num_variant_unique_evidence_items}\"\n",
    "    )\n",
    "    print(\n",
    "        f\"\\nNumber of accepted {variant_norm_type.value} Variant Evidence items: {fraction_accepted_evidences_variants}\"\n",
    "    )\n",
    "\n",
    "    # Get accepted percentage\n",
    "    percentage_accepted_evidences_variants = f\"{num_accepted_evidences_variants / num_variant_unique_evidence_items * 100:.2f}%\"\n",
    "    print(\n",
    "        f\"Percentage of accepted {variant_norm_type.value} Variant Evidence items: {percentage_accepted_evidences_variants}\"\n",
    "    )\n",
    "\n",
    "    # Get submitted counts\n",
    "    number_submitted_evidences_variants = len(df) - num_accepted_evidences_variants\n",
    "    fraction_submitted_evidences_variants = (\n",
    "        f\"{number_submitted_evidences_variants} / {num_variant_unique_evidence_items}\"\n",
    "    )\n",
    "    print(\n",
    "        f\"\\nNumber of submitted {variant_norm_type.value} Variant Evidence items: {fraction_submitted_evidences_variants}\"\n",
    "    )\n",
    "\n",
    "    # Get submitted percentage\n",
    "    percentage_submitted_evidences_variants = f\"{number_submitted_evidences_variants / num_variant_unique_evidence_items * 100:.2f}%\"\n",
    "    print(\n",
    "        f\"Percentage of not submitted {variant_norm_type.value} Variant Evidence items: {percentage_submitted_evidences_variants}\"\n",
    "    )\n",
    "\n",
    "    evidence_analysis_summary[\"Count of CIViC Evidence Items per Category\"].append(\n",
    "        num_variant_unique_evidence_items\n",
    "    )\n",
    "    evidence_analysis_summary[\"Fraction of all CIViC Evidence Items\"].append(\n",
    "        fraction_evidence_items\n",
    "    )\n",
    "    evidence_analysis_summary[\"Percentage of all CIViC Evidence Items\"].append(\n",
    "        percentage_evidence_items\n",
    "    )\n",
    "    evidence_analysis_summary[\"Fraction of Accepted Evidence Items\"].append(\n",
    "        fraction_accepted_evidences_variants\n",
    "    )\n",
    "    evidence_analysis_summary[\"Percentage of Accepted Evidence Items\"].append(\n",
    "        percentage_accepted_evidences_variants\n",
    "    )\n",
    "    evidence_analysis_summary[\"Fraction of Submitted Evidence Items\"].append(\n",
    "        fraction_submitted_evidences_variants\n",
    "    )\n",
    "    evidence_analysis_summary[\"Percentage of Submitted Evidence Items\"].append(\n",
    "        percentage_submitted_evidences_variants\n",
    "    )\n",
    "\n",
    "    return df"
   ]
  },
  {
   "cell_type": "code",
   "execution_count": 17,
   "metadata": {},
   "outputs": [],
   "source": [
    "def transform_df_mp_id(df: pd.DataFrame) -> pd.DataFrame:\n",
    "    \"\"\"Transform dataframe to include molecular profile ID information\n",
    "\n",
    "    :param df: Dataframe of variants\n",
    "    :return: Transformed dataframe with molecular profile ID information\n",
    "    \"\"\"\n",
    "    tmp_df = df.copy(deep=True)\n",
    "\n",
    "    variants_molprof_ids = []\n",
    "    variant_ids = list(tmp_df[\"variant_id\"])\n",
    "\n",
    "    for v_id in variant_ids:\n",
    "        variant_molprof_ids = []\n",
    "\n",
    "        for variant in civic_variant_ids:\n",
    "            if int(v_id) == variant.id:\n",
    "                for mp in variant.molecular_profiles:\n",
    "                    if mp.id not in variant_molprof_ids:\n",
    "                        variant_molprof_ids.append(mp.id)\n",
    "\n",
    "        variants_molprof_ids.append(variant_molprof_ids or \"\")\n",
    "\n",
    "    tmp_df[\"molecular_profile_id\"] = variants_molprof_ids\n",
    "    return tmp_df"
   ]
  },
  {
   "cell_type": "code",
   "execution_count": 18,
   "metadata": {},
   "outputs": [],
   "source": [
    "def transform_df_mp_score(df: pd.DataFrame) -> pd.DataFrame:\n",
    "    \"\"\"Transform dataframe to include molecular profile score information\n",
    "\n",
    "    :param df: Dataframe of variants\n",
    "    :return: Transformed dataframe with molecular profile score information\n",
    "    \"\"\"\n",
    "    variants_molprof_scores = []\n",
    "    normalized_variant_molprof_ids = list(df[\"molecular_profile_id\"])\n",
    "\n",
    "    for mp_ids in normalized_variant_molprof_ids:\n",
    "        variant_molprof_scores = []\n",
    "        for mp_id in mp_ids:\n",
    "            for molprof in civic_molprof_ids:\n",
    "                if int(mp_id) == molprof.id:\n",
    "                    if molprof.molecular_profile_score not in variant_molprof_scores:\n",
    "                        variant_molprof_scores.append(molprof.molecular_profile_score)\n",
    "\n",
    "        variants_molprof_scores.append(variant_molprof_scores or \"\")\n",
    "\n",
    "    df[\"molecular_profile_score\"] = variants_molprof_scores\n",
    "    return df"
   ]
  },
  {
   "cell_type": "code",
   "execution_count": 19,
   "metadata": {},
   "outputs": [],
   "source": [
    "def transform_df_mp_score_sum(df: pd.DataFrame) -> pd.DataFrame:\n",
    "    \"\"\"Transform dataframe to include molecular profile score sum information\n",
    "\n",
    "    :param df: Dataframe of variants\n",
    "    :return: Transformed dataframe with molecular profile score sum information\n",
    "    \"\"\"\n",
    "    df[\"molecular_profile_score_sum\"] = df[\"molecular_profile_score\"].apply(\n",
    "        lambda x: sum(x)\n",
    "    )\n",
    "    return df"
   ]
  },
  {
   "cell_type": "markdown",
   "metadata": {},
   "source": [
    "# <a id='toc3_'></a>[Analysis of Normalized Queries](#toc0_)"
   ]
  },
  {
   "cell_type": "markdown",
   "metadata": {},
   "source": [
    "## <a id='toc3_1_'></a>[List of Normalized Variants ID's](#toc0_)"
   ]
  },
  {
   "cell_type": "code",
   "execution_count": 20,
   "metadata": {},
   "outputs": [
    {
     "data": {
      "text/html": [
       "<div>\n",
       "<style scoped>\n",
       "    .dataframe tbody tr th:only-of-type {\n",
       "        vertical-align: middle;\n",
       "    }\n",
       "\n",
       "    .dataframe tbody tr th {\n",
       "        vertical-align: top;\n",
       "    }\n",
       "\n",
       "    .dataframe thead th {\n",
       "        text-align: right;\n",
       "    }\n",
       "</style>\n",
       "<table border=\"1\" class=\"dataframe\">\n",
       "  <thead>\n",
       "    <tr style=\"text-align: right;\">\n",
       "      <th></th>\n",
       "      <th>variant_id</th>\n",
       "      <th>query</th>\n",
       "      <th>query_type</th>\n",
       "      <th>variant_accepted</th>\n",
       "      <th>civic_variant_types</th>\n",
       "      <th>vrs_id</th>\n",
       "    </tr>\n",
       "  </thead>\n",
       "  <tbody>\n",
       "    <tr>\n",
       "      <th>0</th>\n",
       "      <td>2489</td>\n",
       "      <td>NC_000003.11:g.10191648_10191649insC</td>\n",
       "      <td>genomic</td>\n",
       "      <td>True</td>\n",
       "      <td>Stop Lost</td>\n",
       "      <td>ga4gh:VA.A34ZoIhq4xBuQbcE3bkj29n6diS6RzLB</td>\n",
       "    </tr>\n",
       "    <tr>\n",
       "      <th>1</th>\n",
       "      <td>1988</td>\n",
       "      <td>NC_000003.11:g.10191649A&gt;T</td>\n",
       "      <td>genomic</td>\n",
       "      <td>True</td>\n",
       "      <td>Stop Lost</td>\n",
       "      <td>ga4gh:VA.JcEpDvhUtgDWU4A-bxqLUuczBNb8QqRf</td>\n",
       "    </tr>\n",
       "    <tr>\n",
       "      <th>2</th>\n",
       "      <td>2488</td>\n",
       "      <td>3-10191647-T-G</td>\n",
       "      <td>genomic</td>\n",
       "      <td>True</td>\n",
       "      <td>Stop Lost</td>\n",
       "      <td>ga4gh:VA.7nGd8dgHbqtxMHk_rLxrB6_IMAzJ8XnH</td>\n",
       "    </tr>\n",
       "    <tr>\n",
       "      <th>3</th>\n",
       "      <td>1986</td>\n",
       "      <td>NC_000003.11:g.10191648G&gt;T</td>\n",
       "      <td>genomic</td>\n",
       "      <td>True</td>\n",
       "      <td>Stop Lost</td>\n",
       "      <td>ga4gh:VA.AmLtooLEvgdnEHD5YVWk6u1e2XBe7FiP</td>\n",
       "    </tr>\n",
       "    <tr>\n",
       "      <th>4</th>\n",
       "      <td>1987</td>\n",
       "      <td>NC_000003.11:g.10191649A&gt;G</td>\n",
       "      <td>genomic</td>\n",
       "      <td>True</td>\n",
       "      <td>Stop Lost</td>\n",
       "      <td>ga4gh:VA.KIz00usFWEmJHNyqmVL61obfgfRPgOIa</td>\n",
       "    </tr>\n",
       "  </tbody>\n",
       "</table>\n",
       "</div>"
      ],
      "text/plain": [
       "   variant_id                                 query query_type   \n",
       "0        2489  NC_000003.11:g.10191648_10191649insC    genomic  \\\n",
       "1        1988            NC_000003.11:g.10191649A>T    genomic   \n",
       "2        2488                        3-10191647-T-G    genomic   \n",
       "3        1986            NC_000003.11:g.10191648G>T    genomic   \n",
       "4        1987            NC_000003.11:g.10191649A>G    genomic   \n",
       "\n",
       "   variant_accepted civic_variant_types   \n",
       "0              True           Stop Lost  \\\n",
       "1              True           Stop Lost   \n",
       "2              True           Stop Lost   \n",
       "3              True           Stop Lost   \n",
       "4              True           Stop Lost   \n",
       "\n",
       "                                      vrs_id  \n",
       "0  ga4gh:VA.A34ZoIhq4xBuQbcE3bkj29n6diS6RzLB  \n",
       "1  ga4gh:VA.JcEpDvhUtgDWU4A-bxqLUuczBNb8QqRf  \n",
       "2  ga4gh:VA.7nGd8dgHbqtxMHk_rLxrB6_IMAzJ8XnH  \n",
       "3  ga4gh:VA.AmLtooLEvgdnEHD5YVWk6u1e2XBe7FiP  \n",
       "4  ga4gh:VA.KIz00usFWEmJHNyqmVL61obfgfRPgOIa  "
      ]
     },
     "execution_count": 20,
     "metadata": {},
     "output_type": "execute_result"
    }
   ],
   "source": [
    "normalized_queries_df = pd.read_csv(\"able_to_normalize_queries.csv\", sep=\"\\t\")\n",
    "normalized_queries_df.head()"
   ]
  },
  {
   "cell_type": "markdown",
   "metadata": {},
   "source": [
    "## <a id='toc3_2_'></a>[Variant analysis](#toc0_)"
   ]
  },
  {
   "cell_type": "code",
   "execution_count": 21,
   "metadata": {},
   "outputs": [
    {
     "name": "stdout",
     "output_type": "stream",
     "text": [
      "\n",
      "Number of Normalized Variants in CIViC: 1864 / 3519\n",
      "Percentage of Normalized Variants in CIViC: 52.97%\n",
      "\n",
      "Number of accepted Normalized Variants: 865 / 1864\n",
      "Percentage of accepted Normalized Variants: 46.41%\n",
      "\n",
      "Number of not accepted Normalized Variants: 999 / 1864\n",
      "Percentage of not accepted Normalized Variants: 53.59%\n"
     ]
    },
    {
     "data": {
      "text/html": [
       "<div>\n",
       "<style scoped>\n",
       "    .dataframe tbody tr th:only-of-type {\n",
       "        vertical-align: middle;\n",
       "    }\n",
       "\n",
       "    .dataframe tbody tr th {\n",
       "        vertical-align: top;\n",
       "    }\n",
       "\n",
       "    .dataframe thead th {\n",
       "        text-align: right;\n",
       "    }\n",
       "</style>\n",
       "<table border=\"1\" class=\"dataframe\">\n",
       "  <thead>\n",
       "    <tr style=\"text-align: right;\">\n",
       "      <th></th>\n",
       "      <th>variant_id</th>\n",
       "      <th>query</th>\n",
       "      <th>query_type</th>\n",
       "      <th>variant_accepted</th>\n",
       "      <th>civic_variant_types</th>\n",
       "      <th>vrs_id</th>\n",
       "    </tr>\n",
       "  </thead>\n",
       "  <tbody>\n",
       "    <tr>\n",
       "      <th>0</th>\n",
       "      <td>2489</td>\n",
       "      <td>NC_000003.11:g.10191648_10191649insC</td>\n",
       "      <td>genomic</td>\n",
       "      <td>True</td>\n",
       "      <td>Stop Lost</td>\n",
       "      <td>ga4gh:VA.A34ZoIhq4xBuQbcE3bkj29n6diS6RzLB</td>\n",
       "    </tr>\n",
       "    <tr>\n",
       "      <th>1</th>\n",
       "      <td>1988</td>\n",
       "      <td>NC_000003.11:g.10191649A&gt;T</td>\n",
       "      <td>genomic</td>\n",
       "      <td>True</td>\n",
       "      <td>Stop Lost</td>\n",
       "      <td>ga4gh:VA.JcEpDvhUtgDWU4A-bxqLUuczBNb8QqRf</td>\n",
       "    </tr>\n",
       "    <tr>\n",
       "      <th>2</th>\n",
       "      <td>2488</td>\n",
       "      <td>3-10191647-T-G</td>\n",
       "      <td>genomic</td>\n",
       "      <td>True</td>\n",
       "      <td>Stop Lost</td>\n",
       "      <td>ga4gh:VA.7nGd8dgHbqtxMHk_rLxrB6_IMAzJ8XnH</td>\n",
       "    </tr>\n",
       "    <tr>\n",
       "      <th>3</th>\n",
       "      <td>1986</td>\n",
       "      <td>NC_000003.11:g.10191648G&gt;T</td>\n",
       "      <td>genomic</td>\n",
       "      <td>True</td>\n",
       "      <td>Stop Lost</td>\n",
       "      <td>ga4gh:VA.AmLtooLEvgdnEHD5YVWk6u1e2XBe7FiP</td>\n",
       "    </tr>\n",
       "    <tr>\n",
       "      <th>4</th>\n",
       "      <td>1987</td>\n",
       "      <td>NC_000003.11:g.10191649A&gt;G</td>\n",
       "      <td>genomic</td>\n",
       "      <td>True</td>\n",
       "      <td>Stop Lost</td>\n",
       "      <td>ga4gh:VA.KIz00usFWEmJHNyqmVL61obfgfRPgOIa</td>\n",
       "    </tr>\n",
       "  </tbody>\n",
       "</table>\n",
       "</div>"
      ],
      "text/plain": [
       "   variant_id                                 query query_type   \n",
       "0        2489  NC_000003.11:g.10191648_10191649insC    genomic  \\\n",
       "1        1988            NC_000003.11:g.10191649A>T    genomic   \n",
       "2        2488                        3-10191647-T-G    genomic   \n",
       "3        1986            NC_000003.11:g.10191648G>T    genomic   \n",
       "4        1987            NC_000003.11:g.10191649A>G    genomic   \n",
       "\n",
       "   variant_accepted civic_variant_types   \n",
       "0              True           Stop Lost  \\\n",
       "1              True           Stop Lost   \n",
       "2              True           Stop Lost   \n",
       "3              True           Stop Lost   \n",
       "4              True           Stop Lost   \n",
       "\n",
       "                                      vrs_id  \n",
       "0  ga4gh:VA.A34ZoIhq4xBuQbcE3bkj29n6diS6RzLB  \n",
       "1  ga4gh:VA.JcEpDvhUtgDWU4A-bxqLUuczBNb8QqRf  \n",
       "2  ga4gh:VA.7nGd8dgHbqtxMHk_rLxrB6_IMAzJ8XnH  \n",
       "3  ga4gh:VA.AmLtooLEvgdnEHD5YVWk6u1e2XBe7FiP  \n",
       "4  ga4gh:VA.KIz00usFWEmJHNyqmVL61obfgfRPgOIa  "
      ]
     },
     "execution_count": 21,
     "metadata": {},
     "output_type": "execute_result"
    }
   ],
   "source": [
    "normalized_queries_df = variant_analysis(\n",
    "    normalized_queries_df, VariantNormType.NORMALIZED\n",
    ")\n",
    "normalized_queries_df.head()"
   ]
  },
  {
   "cell_type": "code",
   "execution_count": 22,
   "metadata": {},
   "outputs": [
    {
     "data": {
      "text/plain": [
       "{'Variant Category': ['Normalized', 'Unable to Normalize', 'Not Supported'],\n",
       " 'Count of CIViC Variant Items per Category': [1864],\n",
       " 'Fraction of all CIViC Variant Items': ['1864 / 3519'],\n",
       " 'Percentage of all CIViC Variant Items': ['52.97%'],\n",
       " 'Fraction of Accepted Variant Items': ['865 / 1864'],\n",
       " 'Percentage of Accepted Variant Items': ['46.41%'],\n",
       " 'Fraction of Not Accepted Variant Items': ['999 / 1864'],\n",
       " 'Percentage of Not Accepted Variant Items': ['53.59%']}"
      ]
     },
     "execution_count": 22,
     "metadata": {},
     "output_type": "execute_result"
    }
   ],
   "source": [
    "variant_analysis_summary"
   ]
  },
  {
   "cell_type": "markdown",
   "metadata": {},
   "source": [
    "## <a id='toc3_3_'></a>[Transform df for evidence analysis](#toc0_)"
   ]
  },
  {
   "cell_type": "code",
   "execution_count": 23,
   "metadata": {},
   "outputs": [
    {
     "data": {
      "text/html": [
       "<div>\n",
       "<style scoped>\n",
       "    .dataframe tbody tr th:only-of-type {\n",
       "        vertical-align: middle;\n",
       "    }\n",
       "\n",
       "    .dataframe tbody tr th {\n",
       "        vertical-align: top;\n",
       "    }\n",
       "\n",
       "    .dataframe thead th {\n",
       "        text-align: right;\n",
       "    }\n",
       "</style>\n",
       "<table border=\"1\" class=\"dataframe\">\n",
       "  <thead>\n",
       "    <tr style=\"text-align: right;\">\n",
       "      <th></th>\n",
       "      <th>variant_id</th>\n",
       "      <th>query</th>\n",
       "      <th>query_type</th>\n",
       "      <th>variant_accepted</th>\n",
       "      <th>civic_variant_types</th>\n",
       "      <th>vrs_id</th>\n",
       "      <th>evidence_id</th>\n",
       "    </tr>\n",
       "  </thead>\n",
       "  <tbody>\n",
       "    <tr>\n",
       "      <th>0</th>\n",
       "      <td>2489</td>\n",
       "      <td>NC_000003.11:g.10191648_10191649insC</td>\n",
       "      <td>genomic</td>\n",
       "      <td>True</td>\n",
       "      <td>Stop Lost</td>\n",
       "      <td>ga4gh:VA.A34ZoIhq4xBuQbcE3bkj29n6diS6RzLB</td>\n",
       "      <td>9347</td>\n",
       "    </tr>\n",
       "    <tr>\n",
       "      <th>0</th>\n",
       "      <td>2489</td>\n",
       "      <td>NC_000003.11:g.10191648_10191649insC</td>\n",
       "      <td>genomic</td>\n",
       "      <td>True</td>\n",
       "      <td>Stop Lost</td>\n",
       "      <td>ga4gh:VA.A34ZoIhq4xBuQbcE3bkj29n6diS6RzLB</td>\n",
       "      <td>6724</td>\n",
       "    </tr>\n",
       "    <tr>\n",
       "      <th>1</th>\n",
       "      <td>1988</td>\n",
       "      <td>NC_000003.11:g.10191649A&gt;T</td>\n",
       "      <td>genomic</td>\n",
       "      <td>True</td>\n",
       "      <td>Stop Lost</td>\n",
       "      <td>ga4gh:VA.JcEpDvhUtgDWU4A-bxqLUuczBNb8QqRf</td>\n",
       "      <td>5336</td>\n",
       "    </tr>\n",
       "    <tr>\n",
       "      <th>2</th>\n",
       "      <td>2488</td>\n",
       "      <td>3-10191647-T-G</td>\n",
       "      <td>genomic</td>\n",
       "      <td>True</td>\n",
       "      <td>Stop Lost</td>\n",
       "      <td>ga4gh:VA.7nGd8dgHbqtxMHk_rLxrB6_IMAzJ8XnH</td>\n",
       "      <td>10779</td>\n",
       "    </tr>\n",
       "    <tr>\n",
       "      <th>2</th>\n",
       "      <td>2488</td>\n",
       "      <td>3-10191647-T-G</td>\n",
       "      <td>genomic</td>\n",
       "      <td>True</td>\n",
       "      <td>Stop Lost</td>\n",
       "      <td>ga4gh:VA.7nGd8dgHbqtxMHk_rLxrB6_IMAzJ8XnH</td>\n",
       "      <td>6723</td>\n",
       "    </tr>\n",
       "  </tbody>\n",
       "</table>\n",
       "</div>"
      ],
      "text/plain": [
       "   variant_id                                 query query_type   \n",
       "0        2489  NC_000003.11:g.10191648_10191649insC    genomic  \\\n",
       "0        2489  NC_000003.11:g.10191648_10191649insC    genomic   \n",
       "1        1988            NC_000003.11:g.10191649A>T    genomic   \n",
       "2        2488                        3-10191647-T-G    genomic   \n",
       "2        2488                        3-10191647-T-G    genomic   \n",
       "\n",
       "   variant_accepted civic_variant_types   \n",
       "0              True           Stop Lost  \\\n",
       "0              True           Stop Lost   \n",
       "1              True           Stop Lost   \n",
       "2              True           Stop Lost   \n",
       "2              True           Stop Lost   \n",
       "\n",
       "                                      vrs_id evidence_id  \n",
       "0  ga4gh:VA.A34ZoIhq4xBuQbcE3bkj29n6diS6RzLB        9347  \n",
       "0  ga4gh:VA.A34ZoIhq4xBuQbcE3bkj29n6diS6RzLB        6724  \n",
       "1  ga4gh:VA.JcEpDvhUtgDWU4A-bxqLUuczBNb8QqRf        5336  \n",
       "2  ga4gh:VA.7nGd8dgHbqtxMHk_rLxrB6_IMAzJ8XnH       10779  \n",
       "2  ga4gh:VA.7nGd8dgHbqtxMHk_rLxrB6_IMAzJ8XnH        6723  "
      ]
     },
     "execution_count": 23,
     "metadata": {},
     "output_type": "execute_result"
    }
   ],
   "source": [
    "normalized_queries_add_evidence_df = transform_df_evidence_ids(normalized_queries_df)\n",
    "normalized_queries_add_evidence_df.head()"
   ]
  },
  {
   "cell_type": "code",
   "execution_count": 24,
   "metadata": {},
   "outputs": [
    {
     "data": {
      "text/html": [
       "<div>\n",
       "<style scoped>\n",
       "    .dataframe tbody tr th:only-of-type {\n",
       "        vertical-align: middle;\n",
       "    }\n",
       "\n",
       "    .dataframe tbody tr th {\n",
       "        vertical-align: top;\n",
       "    }\n",
       "\n",
       "    .dataframe thead th {\n",
       "        text-align: right;\n",
       "    }\n",
       "</style>\n",
       "<table border=\"1\" class=\"dataframe\">\n",
       "  <thead>\n",
       "    <tr style=\"text-align: right;\">\n",
       "      <th></th>\n",
       "      <th>variant_id</th>\n",
       "      <th>query</th>\n",
       "      <th>query_type</th>\n",
       "      <th>variant_accepted</th>\n",
       "      <th>civic_variant_types</th>\n",
       "      <th>vrs_id</th>\n",
       "      <th>evidence_id</th>\n",
       "      <th>evidence_status</th>\n",
       "      <th>evidence_rating</th>\n",
       "      <th>evidence_level</th>\n",
       "    </tr>\n",
       "  </thead>\n",
       "  <tbody>\n",
       "    <tr>\n",
       "      <th>0</th>\n",
       "      <td>2489</td>\n",
       "      <td>NC_000003.11:g.10191648_10191649insC</td>\n",
       "      <td>genomic</td>\n",
       "      <td>True</td>\n",
       "      <td>Stop Lost</td>\n",
       "      <td>ga4gh:VA.A34ZoIhq4xBuQbcE3bkj29n6diS6RzLB</td>\n",
       "      <td>9347</td>\n",
       "      <td>submitted</td>\n",
       "      <td>[3]</td>\n",
       "      <td>[C]</td>\n",
       "    </tr>\n",
       "    <tr>\n",
       "      <th>0</th>\n",
       "      <td>2489</td>\n",
       "      <td>NC_000003.11:g.10191648_10191649insC</td>\n",
       "      <td>genomic</td>\n",
       "      <td>True</td>\n",
       "      <td>Stop Lost</td>\n",
       "      <td>ga4gh:VA.A34ZoIhq4xBuQbcE3bkj29n6diS6RzLB</td>\n",
       "      <td>6724</td>\n",
       "      <td>accepted</td>\n",
       "      <td>[2]</td>\n",
       "      <td>[C]</td>\n",
       "    </tr>\n",
       "    <tr>\n",
       "      <th>1</th>\n",
       "      <td>1988</td>\n",
       "      <td>NC_000003.11:g.10191649A&gt;T</td>\n",
       "      <td>genomic</td>\n",
       "      <td>True</td>\n",
       "      <td>Stop Lost</td>\n",
       "      <td>ga4gh:VA.JcEpDvhUtgDWU4A-bxqLUuczBNb8QqRf</td>\n",
       "      <td>5336</td>\n",
       "      <td>accepted</td>\n",
       "      <td>[2]</td>\n",
       "      <td>[C]</td>\n",
       "    </tr>\n",
       "    <tr>\n",
       "      <th>2</th>\n",
       "      <td>2488</td>\n",
       "      <td>3-10191647-T-G</td>\n",
       "      <td>genomic</td>\n",
       "      <td>True</td>\n",
       "      <td>Stop Lost</td>\n",
       "      <td>ga4gh:VA.7nGd8dgHbqtxMHk_rLxrB6_IMAzJ8XnH</td>\n",
       "      <td>10779</td>\n",
       "      <td>submitted</td>\n",
       "      <td>[3]</td>\n",
       "      <td>[C]</td>\n",
       "    </tr>\n",
       "    <tr>\n",
       "      <th>2</th>\n",
       "      <td>2488</td>\n",
       "      <td>3-10191647-T-G</td>\n",
       "      <td>genomic</td>\n",
       "      <td>True</td>\n",
       "      <td>Stop Lost</td>\n",
       "      <td>ga4gh:VA.7nGd8dgHbqtxMHk_rLxrB6_IMAzJ8XnH</td>\n",
       "      <td>6723</td>\n",
       "      <td>accepted</td>\n",
       "      <td>[2]</td>\n",
       "      <td>[C]</td>\n",
       "    </tr>\n",
       "  </tbody>\n",
       "</table>\n",
       "</div>"
      ],
      "text/plain": [
       "   variant_id                                 query query_type   \n",
       "0        2489  NC_000003.11:g.10191648_10191649insC    genomic  \\\n",
       "0        2489  NC_000003.11:g.10191648_10191649insC    genomic   \n",
       "1        1988            NC_000003.11:g.10191649A>T    genomic   \n",
       "2        2488                        3-10191647-T-G    genomic   \n",
       "2        2488                        3-10191647-T-G    genomic   \n",
       "\n",
       "   variant_accepted civic_variant_types   \n",
       "0              True           Stop Lost  \\\n",
       "0              True           Stop Lost   \n",
       "1              True           Stop Lost   \n",
       "2              True           Stop Lost   \n",
       "2              True           Stop Lost   \n",
       "\n",
       "                                      vrs_id evidence_id evidence_status   \n",
       "0  ga4gh:VA.A34ZoIhq4xBuQbcE3bkj29n6diS6RzLB        9347       submitted  \\\n",
       "0  ga4gh:VA.A34ZoIhq4xBuQbcE3bkj29n6diS6RzLB        6724        accepted   \n",
       "1  ga4gh:VA.JcEpDvhUtgDWU4A-bxqLUuczBNb8QqRf        5336        accepted   \n",
       "2  ga4gh:VA.7nGd8dgHbqtxMHk_rLxrB6_IMAzJ8XnH       10779       submitted   \n",
       "2  ga4gh:VA.7nGd8dgHbqtxMHk_rLxrB6_IMAzJ8XnH        6723        accepted   \n",
       "\n",
       "  evidence_rating evidence_level  \n",
       "0             [3]            [C]  \n",
       "0             [2]            [C]  \n",
       "1             [2]            [C]  \n",
       "2             [3]            [C]  \n",
       "2             [2]            [C]  "
      ]
     },
     "execution_count": 24,
     "metadata": {},
     "output_type": "execute_result"
    }
   ],
   "source": [
    "normalized_queries_add_evidence_df = transform_df_evidence(\n",
    "    normalized_queries_add_evidence_df\n",
    ")\n",
    "normalized_queries_add_evidence_df.head()"
   ]
  },
  {
   "cell_type": "markdown",
   "metadata": {},
   "source": [
    "## <a id='toc3_4_'></a>[Evidence analysis](#toc0_)"
   ]
  },
  {
   "cell_type": "code",
   "execution_count": 25,
   "metadata": {},
   "outputs": [
    {
     "name": "stdout",
     "output_type": "stream",
     "text": [
      "Number of Normalized Variant Evidence items in CIViC: 5851 / 9920\n",
      "Percentage of Normalized Variant Evidence items in CIViC: 58.98%\n",
      "\n",
      "Number of accepted Normalized Variant Evidence items: 2076 / 5851\n",
      "Percentage of accepted Normalized Variant Evidence items: 35.48%\n",
      "\n",
      "Number of submitted Normalized Variant Evidence items: 3775 / 5851\n",
      "Percentage of not submitted Normalized Variant Evidence items: 64.52%\n"
     ]
    },
    {
     "data": {
      "text/html": [
       "<div>\n",
       "<style scoped>\n",
       "    .dataframe tbody tr th:only-of-type {\n",
       "        vertical-align: middle;\n",
       "    }\n",
       "\n",
       "    .dataframe tbody tr th {\n",
       "        vertical-align: top;\n",
       "    }\n",
       "\n",
       "    .dataframe thead th {\n",
       "        text-align: right;\n",
       "    }\n",
       "</style>\n",
       "<table border=\"1\" class=\"dataframe\">\n",
       "  <thead>\n",
       "    <tr style=\"text-align: right;\">\n",
       "      <th></th>\n",
       "      <th>variant_id</th>\n",
       "      <th>query</th>\n",
       "      <th>query_type</th>\n",
       "      <th>variant_accepted</th>\n",
       "      <th>civic_variant_types</th>\n",
       "      <th>vrs_id</th>\n",
       "      <th>evidence_id</th>\n",
       "      <th>evidence_status</th>\n",
       "      <th>evidence_rating</th>\n",
       "      <th>evidence_level</th>\n",
       "      <th>evidence_accepted</th>\n",
       "    </tr>\n",
       "  </thead>\n",
       "  <tbody>\n",
       "    <tr>\n",
       "      <th>0</th>\n",
       "      <td>2489</td>\n",
       "      <td>NC_000003.11:g.10191648_10191649insC</td>\n",
       "      <td>genomic</td>\n",
       "      <td>True</td>\n",
       "      <td>Stop Lost</td>\n",
       "      <td>ga4gh:VA.A34ZoIhq4xBuQbcE3bkj29n6diS6RzLB</td>\n",
       "      <td>9347</td>\n",
       "      <td>submitted</td>\n",
       "      <td>[3]</td>\n",
       "      <td>[C]</td>\n",
       "      <td>False</td>\n",
       "    </tr>\n",
       "    <tr>\n",
       "      <th>0</th>\n",
       "      <td>2489</td>\n",
       "      <td>NC_000003.11:g.10191648_10191649insC</td>\n",
       "      <td>genomic</td>\n",
       "      <td>True</td>\n",
       "      <td>Stop Lost</td>\n",
       "      <td>ga4gh:VA.A34ZoIhq4xBuQbcE3bkj29n6diS6RzLB</td>\n",
       "      <td>6724</td>\n",
       "      <td>accepted</td>\n",
       "      <td>[2]</td>\n",
       "      <td>[C]</td>\n",
       "      <td>True</td>\n",
       "    </tr>\n",
       "    <tr>\n",
       "      <th>1</th>\n",
       "      <td>1988</td>\n",
       "      <td>NC_000003.11:g.10191649A&gt;T</td>\n",
       "      <td>genomic</td>\n",
       "      <td>True</td>\n",
       "      <td>Stop Lost</td>\n",
       "      <td>ga4gh:VA.JcEpDvhUtgDWU4A-bxqLUuczBNb8QqRf</td>\n",
       "      <td>5336</td>\n",
       "      <td>accepted</td>\n",
       "      <td>[2]</td>\n",
       "      <td>[C]</td>\n",
       "      <td>True</td>\n",
       "    </tr>\n",
       "    <tr>\n",
       "      <th>2</th>\n",
       "      <td>2488</td>\n",
       "      <td>3-10191647-T-G</td>\n",
       "      <td>genomic</td>\n",
       "      <td>True</td>\n",
       "      <td>Stop Lost</td>\n",
       "      <td>ga4gh:VA.7nGd8dgHbqtxMHk_rLxrB6_IMAzJ8XnH</td>\n",
       "      <td>10779</td>\n",
       "      <td>submitted</td>\n",
       "      <td>[3]</td>\n",
       "      <td>[C]</td>\n",
       "      <td>False</td>\n",
       "    </tr>\n",
       "    <tr>\n",
       "      <th>2</th>\n",
       "      <td>2488</td>\n",
       "      <td>3-10191647-T-G</td>\n",
       "      <td>genomic</td>\n",
       "      <td>True</td>\n",
       "      <td>Stop Lost</td>\n",
       "      <td>ga4gh:VA.7nGd8dgHbqtxMHk_rLxrB6_IMAzJ8XnH</td>\n",
       "      <td>6723</td>\n",
       "      <td>accepted</td>\n",
       "      <td>[2]</td>\n",
       "      <td>[C]</td>\n",
       "      <td>True</td>\n",
       "    </tr>\n",
       "  </tbody>\n",
       "</table>\n",
       "</div>"
      ],
      "text/plain": [
       "   variant_id                                 query query_type   \n",
       "0        2489  NC_000003.11:g.10191648_10191649insC    genomic  \\\n",
       "0        2489  NC_000003.11:g.10191648_10191649insC    genomic   \n",
       "1        1988            NC_000003.11:g.10191649A>T    genomic   \n",
       "2        2488                        3-10191647-T-G    genomic   \n",
       "2        2488                        3-10191647-T-G    genomic   \n",
       "\n",
       "   variant_accepted civic_variant_types   \n",
       "0              True           Stop Lost  \\\n",
       "0              True           Stop Lost   \n",
       "1              True           Stop Lost   \n",
       "2              True           Stop Lost   \n",
       "2              True           Stop Lost   \n",
       "\n",
       "                                      vrs_id evidence_id evidence_status   \n",
       "0  ga4gh:VA.A34ZoIhq4xBuQbcE3bkj29n6diS6RzLB        9347       submitted  \\\n",
       "0  ga4gh:VA.A34ZoIhq4xBuQbcE3bkj29n6diS6RzLB        6724        accepted   \n",
       "1  ga4gh:VA.JcEpDvhUtgDWU4A-bxqLUuczBNb8QqRf        5336        accepted   \n",
       "2  ga4gh:VA.7nGd8dgHbqtxMHk_rLxrB6_IMAzJ8XnH       10779       submitted   \n",
       "2  ga4gh:VA.7nGd8dgHbqtxMHk_rLxrB6_IMAzJ8XnH        6723        accepted   \n",
       "\n",
       "  evidence_rating evidence_level  evidence_accepted  \n",
       "0             [3]            [C]              False  \n",
       "0             [2]            [C]               True  \n",
       "1             [2]            [C]               True  \n",
       "2             [3]            [C]              False  \n",
       "2             [2]            [C]               True  "
      ]
     },
     "execution_count": 25,
     "metadata": {},
     "output_type": "execute_result"
    }
   ],
   "source": [
    "normalized_queries_add_evidence_df = evidence_analysis2(\n",
    "    normalized_queries_add_evidence_df, VariantNormType.NORMALIZED\n",
    ")\n",
    "normalized_queries_add_evidence_df.head()"
   ]
  },
  {
   "cell_type": "markdown",
   "metadata": {},
   "source": [
    "## <a id='toc3_5_'></a>[Impact](#toc0_)\n",
    "molecular profile score"
   ]
  },
  {
   "cell_type": "markdown",
   "metadata": {},
   "source": [
    "### <a id='toc3_5_1_'></a>[Import molecular profile id](#toc0_)"
   ]
  },
  {
   "cell_type": "code",
   "execution_count": 26,
   "metadata": {},
   "outputs": [
    {
     "data": {
      "text/html": [
       "<div>\n",
       "<style scoped>\n",
       "    .dataframe tbody tr th:only-of-type {\n",
       "        vertical-align: middle;\n",
       "    }\n",
       "\n",
       "    .dataframe tbody tr th {\n",
       "        vertical-align: top;\n",
       "    }\n",
       "\n",
       "    .dataframe thead th {\n",
       "        text-align: right;\n",
       "    }\n",
       "</style>\n",
       "<table border=\"1\" class=\"dataframe\">\n",
       "  <thead>\n",
       "    <tr style=\"text-align: right;\">\n",
       "      <th></th>\n",
       "      <th>variant_id</th>\n",
       "      <th>query</th>\n",
       "      <th>query_type</th>\n",
       "      <th>variant_accepted</th>\n",
       "      <th>civic_variant_types</th>\n",
       "      <th>vrs_id</th>\n",
       "      <th>molecular_profile_id</th>\n",
       "    </tr>\n",
       "  </thead>\n",
       "  <tbody>\n",
       "    <tr>\n",
       "      <th>0</th>\n",
       "      <td>2489</td>\n",
       "      <td>NC_000003.11:g.10191648_10191649insC</td>\n",
       "      <td>genomic</td>\n",
       "      <td>True</td>\n",
       "      <td>Stop Lost</td>\n",
       "      <td>ga4gh:VA.A34ZoIhq4xBuQbcE3bkj29n6diS6RzLB</td>\n",
       "      <td>[2362]</td>\n",
       "    </tr>\n",
       "    <tr>\n",
       "      <th>1</th>\n",
       "      <td>1988</td>\n",
       "      <td>NC_000003.11:g.10191649A&gt;T</td>\n",
       "      <td>genomic</td>\n",
       "      <td>True</td>\n",
       "      <td>Stop Lost</td>\n",
       "      <td>ga4gh:VA.JcEpDvhUtgDWU4A-bxqLUuczBNb8QqRf</td>\n",
       "      <td>[1864]</td>\n",
       "    </tr>\n",
       "    <tr>\n",
       "      <th>2</th>\n",
       "      <td>2488</td>\n",
       "      <td>3-10191647-T-G</td>\n",
       "      <td>genomic</td>\n",
       "      <td>True</td>\n",
       "      <td>Stop Lost</td>\n",
       "      <td>ga4gh:VA.7nGd8dgHbqtxMHk_rLxrB6_IMAzJ8XnH</td>\n",
       "      <td>[2361]</td>\n",
       "    </tr>\n",
       "    <tr>\n",
       "      <th>3</th>\n",
       "      <td>1986</td>\n",
       "      <td>NC_000003.11:g.10191648G&gt;T</td>\n",
       "      <td>genomic</td>\n",
       "      <td>True</td>\n",
       "      <td>Stop Lost</td>\n",
       "      <td>ga4gh:VA.AmLtooLEvgdnEHD5YVWk6u1e2XBe7FiP</td>\n",
       "      <td>[1862]</td>\n",
       "    </tr>\n",
       "    <tr>\n",
       "      <th>4</th>\n",
       "      <td>1987</td>\n",
       "      <td>NC_000003.11:g.10191649A&gt;G</td>\n",
       "      <td>genomic</td>\n",
       "      <td>True</td>\n",
       "      <td>Stop Lost</td>\n",
       "      <td>ga4gh:VA.KIz00usFWEmJHNyqmVL61obfgfRPgOIa</td>\n",
       "      <td>[1863]</td>\n",
       "    </tr>\n",
       "  </tbody>\n",
       "</table>\n",
       "</div>"
      ],
      "text/plain": [
       "   variant_id                                 query query_type   \n",
       "0        2489  NC_000003.11:g.10191648_10191649insC    genomic  \\\n",
       "1        1988            NC_000003.11:g.10191649A>T    genomic   \n",
       "2        2488                        3-10191647-T-G    genomic   \n",
       "3        1986            NC_000003.11:g.10191648G>T    genomic   \n",
       "4        1987            NC_000003.11:g.10191649A>G    genomic   \n",
       "\n",
       "   variant_accepted civic_variant_types   \n",
       "0              True           Stop Lost  \\\n",
       "1              True           Stop Lost   \n",
       "2              True           Stop Lost   \n",
       "3              True           Stop Lost   \n",
       "4              True           Stop Lost   \n",
       "\n",
       "                                      vrs_id molecular_profile_id  \n",
       "0  ga4gh:VA.A34ZoIhq4xBuQbcE3bkj29n6diS6RzLB               [2362]  \n",
       "1  ga4gh:VA.JcEpDvhUtgDWU4A-bxqLUuczBNb8QqRf               [1864]  \n",
       "2  ga4gh:VA.7nGd8dgHbqtxMHk_rLxrB6_IMAzJ8XnH               [2361]  \n",
       "3  ga4gh:VA.AmLtooLEvgdnEHD5YVWk6u1e2XBe7FiP               [1862]  \n",
       "4  ga4gh:VA.KIz00usFWEmJHNyqmVL61obfgfRPgOIa               [1863]  "
      ]
     },
     "execution_count": 26,
     "metadata": {},
     "output_type": "execute_result"
    }
   ],
   "source": [
    "normalized_queries_add_molprof_df = transform_df_mp_id(normalized_queries_df)\n",
    "normalized_queries_add_molprof_df.head()"
   ]
  },
  {
   "cell_type": "code",
   "execution_count": 27,
   "metadata": {},
   "outputs": [
    {
     "data": {
      "text/html": [
       "<div>\n",
       "<style scoped>\n",
       "    .dataframe tbody tr th:only-of-type {\n",
       "        vertical-align: middle;\n",
       "    }\n",
       "\n",
       "    .dataframe tbody tr th {\n",
       "        vertical-align: top;\n",
       "    }\n",
       "\n",
       "    .dataframe thead th {\n",
       "        text-align: right;\n",
       "    }\n",
       "</style>\n",
       "<table border=\"1\" class=\"dataframe\">\n",
       "  <thead>\n",
       "    <tr style=\"text-align: right;\">\n",
       "      <th></th>\n",
       "      <th>variant_id</th>\n",
       "      <th>query</th>\n",
       "      <th>query_type</th>\n",
       "      <th>variant_accepted</th>\n",
       "      <th>civic_variant_types</th>\n",
       "      <th>vrs_id</th>\n",
       "      <th>molecular_profile_id</th>\n",
       "    </tr>\n",
       "  </thead>\n",
       "  <tbody>\n",
       "    <tr>\n",
       "      <th>85</th>\n",
       "      <td>190</td>\n",
       "      <td>EGFR Amplification</td>\n",
       "      <td>protein</td>\n",
       "      <td>True</td>\n",
       "      <td>Transcript Amplification</td>\n",
       "      <td>ga4gh:CX.sEHT64Lm86QaTXzw39uKLkBUbEkp4h_X</td>\n",
       "      <td>[190, 4175, 4346, 4567]</td>\n",
       "    </tr>\n",
       "  </tbody>\n",
       "</table>\n",
       "</div>"
      ],
      "text/plain": [
       "    variant_id               query query_type  variant_accepted   \n",
       "85         190  EGFR Amplification    protein              True  \\\n",
       "\n",
       "         civic_variant_types                                     vrs_id   \n",
       "85  Transcript Amplification  ga4gh:CX.sEHT64Lm86QaTXzw39uKLkBUbEkp4h_X  \\\n",
       "\n",
       "       molecular_profile_id  \n",
       "85  [190, 4175, 4346, 4567]  "
      ]
     },
     "execution_count": 27,
     "metadata": {},
     "output_type": "execute_result"
    }
   ],
   "source": [
    "normalized_queries_add_molprof_df.loc[\n",
    "    normalized_queries_add_molprof_df[\"variant_id\"] == 190\n",
    "]"
   ]
  },
  {
   "cell_type": "markdown",
   "metadata": {},
   "source": [
    "### <a id='toc3_5_2_'></a>[Import molecular profile scores](#toc0_)"
   ]
  },
  {
   "cell_type": "code",
   "execution_count": 28,
   "metadata": {},
   "outputs": [
    {
     "data": {
      "text/html": [
       "<div>\n",
       "<style scoped>\n",
       "    .dataframe tbody tr th:only-of-type {\n",
       "        vertical-align: middle;\n",
       "    }\n",
       "\n",
       "    .dataframe tbody tr th {\n",
       "        vertical-align: top;\n",
       "    }\n",
       "\n",
       "    .dataframe thead th {\n",
       "        text-align: right;\n",
       "    }\n",
       "</style>\n",
       "<table border=\"1\" class=\"dataframe\">\n",
       "  <thead>\n",
       "    <tr style=\"text-align: right;\">\n",
       "      <th></th>\n",
       "      <th>variant_id</th>\n",
       "      <th>query</th>\n",
       "      <th>query_type</th>\n",
       "      <th>variant_accepted</th>\n",
       "      <th>civic_variant_types</th>\n",
       "      <th>vrs_id</th>\n",
       "      <th>molecular_profile_id</th>\n",
       "      <th>molecular_profile_score</th>\n",
       "    </tr>\n",
       "  </thead>\n",
       "  <tbody>\n",
       "    <tr>\n",
       "      <th>0</th>\n",
       "      <td>2489</td>\n",
       "      <td>NC_000003.11:g.10191648_10191649insC</td>\n",
       "      <td>genomic</td>\n",
       "      <td>True</td>\n",
       "      <td>Stop Lost</td>\n",
       "      <td>ga4gh:VA.A34ZoIhq4xBuQbcE3bkj29n6diS6RzLB</td>\n",
       "      <td>[2362]</td>\n",
       "      <td>[5.0]</td>\n",
       "    </tr>\n",
       "    <tr>\n",
       "      <th>1</th>\n",
       "      <td>1988</td>\n",
       "      <td>NC_000003.11:g.10191649A&gt;T</td>\n",
       "      <td>genomic</td>\n",
       "      <td>True</td>\n",
       "      <td>Stop Lost</td>\n",
       "      <td>ga4gh:VA.JcEpDvhUtgDWU4A-bxqLUuczBNb8QqRf</td>\n",
       "      <td>[1864]</td>\n",
       "      <td>[5.0]</td>\n",
       "    </tr>\n",
       "    <tr>\n",
       "      <th>2</th>\n",
       "      <td>2488</td>\n",
       "      <td>3-10191647-T-G</td>\n",
       "      <td>genomic</td>\n",
       "      <td>True</td>\n",
       "      <td>Stop Lost</td>\n",
       "      <td>ga4gh:VA.7nGd8dgHbqtxMHk_rLxrB6_IMAzJ8XnH</td>\n",
       "      <td>[2361]</td>\n",
       "      <td>[5.0]</td>\n",
       "    </tr>\n",
       "    <tr>\n",
       "      <th>3</th>\n",
       "      <td>1986</td>\n",
       "      <td>NC_000003.11:g.10191648G&gt;T</td>\n",
       "      <td>genomic</td>\n",
       "      <td>True</td>\n",
       "      <td>Stop Lost</td>\n",
       "      <td>ga4gh:VA.AmLtooLEvgdnEHD5YVWk6u1e2XBe7FiP</td>\n",
       "      <td>[1862]</td>\n",
       "      <td>[10.0]</td>\n",
       "    </tr>\n",
       "    <tr>\n",
       "      <th>4</th>\n",
       "      <td>1987</td>\n",
       "      <td>NC_000003.11:g.10191649A&gt;G</td>\n",
       "      <td>genomic</td>\n",
       "      <td>True</td>\n",
       "      <td>Stop Lost</td>\n",
       "      <td>ga4gh:VA.KIz00usFWEmJHNyqmVL61obfgfRPgOIa</td>\n",
       "      <td>[1863]</td>\n",
       "      <td>[5.0]</td>\n",
       "    </tr>\n",
       "  </tbody>\n",
       "</table>\n",
       "</div>"
      ],
      "text/plain": [
       "   variant_id                                 query query_type   \n",
       "0        2489  NC_000003.11:g.10191648_10191649insC    genomic  \\\n",
       "1        1988            NC_000003.11:g.10191649A>T    genomic   \n",
       "2        2488                        3-10191647-T-G    genomic   \n",
       "3        1986            NC_000003.11:g.10191648G>T    genomic   \n",
       "4        1987            NC_000003.11:g.10191649A>G    genomic   \n",
       "\n",
       "   variant_accepted civic_variant_types   \n",
       "0              True           Stop Lost  \\\n",
       "1              True           Stop Lost   \n",
       "2              True           Stop Lost   \n",
       "3              True           Stop Lost   \n",
       "4              True           Stop Lost   \n",
       "\n",
       "                                      vrs_id molecular_profile_id   \n",
       "0  ga4gh:VA.A34ZoIhq4xBuQbcE3bkj29n6diS6RzLB               [2362]  \\\n",
       "1  ga4gh:VA.JcEpDvhUtgDWU4A-bxqLUuczBNb8QqRf               [1864]   \n",
       "2  ga4gh:VA.7nGd8dgHbqtxMHk_rLxrB6_IMAzJ8XnH               [2361]   \n",
       "3  ga4gh:VA.AmLtooLEvgdnEHD5YVWk6u1e2XBe7FiP               [1862]   \n",
       "4  ga4gh:VA.KIz00usFWEmJHNyqmVL61obfgfRPgOIa               [1863]   \n",
       "\n",
       "  molecular_profile_score  \n",
       "0                   [5.0]  \n",
       "1                   [5.0]  \n",
       "2                   [5.0]  \n",
       "3                  [10.0]  \n",
       "4                   [5.0]  "
      ]
     },
     "execution_count": 28,
     "metadata": {},
     "output_type": "execute_result"
    }
   ],
   "source": [
    "normalized_queries_add_molprof_df = transform_df_mp_score(\n",
    "    normalized_queries_add_molprof_df\n",
    ")\n",
    "normalized_queries_add_molprof_df.head()"
   ]
  },
  {
   "cell_type": "markdown",
   "metadata": {},
   "source": [
    "Example query below"
   ]
  },
  {
   "cell_type": "code",
   "execution_count": 29,
   "metadata": {},
   "outputs": [
    {
     "data": {
      "text/html": [
       "<div>\n",
       "<style scoped>\n",
       "    .dataframe tbody tr th:only-of-type {\n",
       "        vertical-align: middle;\n",
       "    }\n",
       "\n",
       "    .dataframe tbody tr th {\n",
       "        vertical-align: top;\n",
       "    }\n",
       "\n",
       "    .dataframe thead th {\n",
       "        text-align: right;\n",
       "    }\n",
       "</style>\n",
       "<table border=\"1\" class=\"dataframe\">\n",
       "  <thead>\n",
       "    <tr style=\"text-align: right;\">\n",
       "      <th></th>\n",
       "      <th>variant_id</th>\n",
       "      <th>query</th>\n",
       "      <th>query_type</th>\n",
       "      <th>variant_accepted</th>\n",
       "      <th>civic_variant_types</th>\n",
       "      <th>vrs_id</th>\n",
       "      <th>molecular_profile_id</th>\n",
       "      <th>molecular_profile_score</th>\n",
       "    </tr>\n",
       "  </thead>\n",
       "  <tbody>\n",
       "    <tr>\n",
       "      <th>85</th>\n",
       "      <td>190</td>\n",
       "      <td>EGFR Amplification</td>\n",
       "      <td>protein</td>\n",
       "      <td>True</td>\n",
       "      <td>Transcript Amplification</td>\n",
       "      <td>ga4gh:CX.sEHT64Lm86QaTXzw39uKLkBUbEkp4h_X</td>\n",
       "      <td>[190, 4175, 4346, 4567]</td>\n",
       "      <td>[173.0, 5.0, 0.0]</td>\n",
       "    </tr>\n",
       "  </tbody>\n",
       "</table>\n",
       "</div>"
      ],
      "text/plain": [
       "    variant_id               query query_type  variant_accepted   \n",
       "85         190  EGFR Amplification    protein              True  \\\n",
       "\n",
       "         civic_variant_types                                     vrs_id   \n",
       "85  Transcript Amplification  ga4gh:CX.sEHT64Lm86QaTXzw39uKLkBUbEkp4h_X  \\\n",
       "\n",
       "       molecular_profile_id molecular_profile_score  \n",
       "85  [190, 4175, 4346, 4567]       [173.0, 5.0, 0.0]  "
      ]
     },
     "execution_count": 29,
     "metadata": {},
     "output_type": "execute_result"
    }
   ],
   "source": [
    "normalized_queries_add_molprof_df.loc[\n",
    "    normalized_queries_add_molprof_df[\"variant_id\"] == 190\n",
    "]"
   ]
  },
  {
   "cell_type": "code",
   "execution_count": 30,
   "metadata": {},
   "outputs": [
    {
     "data": {
      "text/html": [
       "<div>\n",
       "<style scoped>\n",
       "    .dataframe tbody tr th:only-of-type {\n",
       "        vertical-align: middle;\n",
       "    }\n",
       "\n",
       "    .dataframe tbody tr th {\n",
       "        vertical-align: top;\n",
       "    }\n",
       "\n",
       "    .dataframe thead th {\n",
       "        text-align: right;\n",
       "    }\n",
       "</style>\n",
       "<table border=\"1\" class=\"dataframe\">\n",
       "  <thead>\n",
       "    <tr style=\"text-align: right;\">\n",
       "      <th></th>\n",
       "      <th>variant_id</th>\n",
       "      <th>query</th>\n",
       "      <th>query_type</th>\n",
       "      <th>variant_accepted</th>\n",
       "      <th>civic_variant_types</th>\n",
       "      <th>vrs_id</th>\n",
       "      <th>molecular_profile_id</th>\n",
       "      <th>molecular_profile_score</th>\n",
       "      <th>molecular_profile_score_sum</th>\n",
       "    </tr>\n",
       "  </thead>\n",
       "  <tbody>\n",
       "    <tr>\n",
       "      <th>0</th>\n",
       "      <td>2489</td>\n",
       "      <td>NC_000003.11:g.10191648_10191649insC</td>\n",
       "      <td>genomic</td>\n",
       "      <td>True</td>\n",
       "      <td>Stop Lost</td>\n",
       "      <td>ga4gh:VA.A34ZoIhq4xBuQbcE3bkj29n6diS6RzLB</td>\n",
       "      <td>[2362]</td>\n",
       "      <td>[5.0]</td>\n",
       "      <td>5.0</td>\n",
       "    </tr>\n",
       "    <tr>\n",
       "      <th>1</th>\n",
       "      <td>1988</td>\n",
       "      <td>NC_000003.11:g.10191649A&gt;T</td>\n",
       "      <td>genomic</td>\n",
       "      <td>True</td>\n",
       "      <td>Stop Lost</td>\n",
       "      <td>ga4gh:VA.JcEpDvhUtgDWU4A-bxqLUuczBNb8QqRf</td>\n",
       "      <td>[1864]</td>\n",
       "      <td>[5.0]</td>\n",
       "      <td>5.0</td>\n",
       "    </tr>\n",
       "    <tr>\n",
       "      <th>2</th>\n",
       "      <td>2488</td>\n",
       "      <td>3-10191647-T-G</td>\n",
       "      <td>genomic</td>\n",
       "      <td>True</td>\n",
       "      <td>Stop Lost</td>\n",
       "      <td>ga4gh:VA.7nGd8dgHbqtxMHk_rLxrB6_IMAzJ8XnH</td>\n",
       "      <td>[2361]</td>\n",
       "      <td>[5.0]</td>\n",
       "      <td>5.0</td>\n",
       "    </tr>\n",
       "    <tr>\n",
       "      <th>3</th>\n",
       "      <td>1986</td>\n",
       "      <td>NC_000003.11:g.10191648G&gt;T</td>\n",
       "      <td>genomic</td>\n",
       "      <td>True</td>\n",
       "      <td>Stop Lost</td>\n",
       "      <td>ga4gh:VA.AmLtooLEvgdnEHD5YVWk6u1e2XBe7FiP</td>\n",
       "      <td>[1862]</td>\n",
       "      <td>[10.0]</td>\n",
       "      <td>10.0</td>\n",
       "    </tr>\n",
       "    <tr>\n",
       "      <th>4</th>\n",
       "      <td>1987</td>\n",
       "      <td>NC_000003.11:g.10191649A&gt;G</td>\n",
       "      <td>genomic</td>\n",
       "      <td>True</td>\n",
       "      <td>Stop Lost</td>\n",
       "      <td>ga4gh:VA.KIz00usFWEmJHNyqmVL61obfgfRPgOIa</td>\n",
       "      <td>[1863]</td>\n",
       "      <td>[5.0]</td>\n",
       "      <td>5.0</td>\n",
       "    </tr>\n",
       "  </tbody>\n",
       "</table>\n",
       "</div>"
      ],
      "text/plain": [
       "   variant_id                                 query query_type   \n",
       "0        2489  NC_000003.11:g.10191648_10191649insC    genomic  \\\n",
       "1        1988            NC_000003.11:g.10191649A>T    genomic   \n",
       "2        2488                        3-10191647-T-G    genomic   \n",
       "3        1986            NC_000003.11:g.10191648G>T    genomic   \n",
       "4        1987            NC_000003.11:g.10191649A>G    genomic   \n",
       "\n",
       "   variant_accepted civic_variant_types   \n",
       "0              True           Stop Lost  \\\n",
       "1              True           Stop Lost   \n",
       "2              True           Stop Lost   \n",
       "3              True           Stop Lost   \n",
       "4              True           Stop Lost   \n",
       "\n",
       "                                      vrs_id molecular_profile_id   \n",
       "0  ga4gh:VA.A34ZoIhq4xBuQbcE3bkj29n6diS6RzLB               [2362]  \\\n",
       "1  ga4gh:VA.JcEpDvhUtgDWU4A-bxqLUuczBNb8QqRf               [1864]   \n",
       "2  ga4gh:VA.7nGd8dgHbqtxMHk_rLxrB6_IMAzJ8XnH               [2361]   \n",
       "3  ga4gh:VA.AmLtooLEvgdnEHD5YVWk6u1e2XBe7FiP               [1862]   \n",
       "4  ga4gh:VA.KIz00usFWEmJHNyqmVL61obfgfRPgOIa               [1863]   \n",
       "\n",
       "  molecular_profile_score  molecular_profile_score_sum  \n",
       "0                   [5.0]                          5.0  \n",
       "1                   [5.0]                          5.0  \n",
       "2                   [5.0]                          5.0  \n",
       "3                  [10.0]                         10.0  \n",
       "4                   [5.0]                          5.0  "
      ]
     },
     "execution_count": 30,
     "metadata": {},
     "output_type": "execute_result"
    }
   ],
   "source": [
    "normalized_queries_add_molprof_df = transform_df_mp_score_sum(\n",
    "    normalized_queries_add_molprof_df\n",
    ")\n",
    "normalized_queries_add_molprof_df.head()"
   ]
  },
  {
   "cell_type": "markdown",
   "metadata": {},
   "source": [
    "Example query below"
   ]
  },
  {
   "cell_type": "code",
   "execution_count": 31,
   "metadata": {},
   "outputs": [
    {
     "data": {
      "text/html": [
       "<div>\n",
       "<style scoped>\n",
       "    .dataframe tbody tr th:only-of-type {\n",
       "        vertical-align: middle;\n",
       "    }\n",
       "\n",
       "    .dataframe tbody tr th {\n",
       "        vertical-align: top;\n",
       "    }\n",
       "\n",
       "    .dataframe thead th {\n",
       "        text-align: right;\n",
       "    }\n",
       "</style>\n",
       "<table border=\"1\" class=\"dataframe\">\n",
       "  <thead>\n",
       "    <tr style=\"text-align: right;\">\n",
       "      <th></th>\n",
       "      <th>variant_id</th>\n",
       "      <th>query</th>\n",
       "      <th>query_type</th>\n",
       "      <th>variant_accepted</th>\n",
       "      <th>civic_variant_types</th>\n",
       "      <th>vrs_id</th>\n",
       "      <th>molecular_profile_id</th>\n",
       "      <th>molecular_profile_score</th>\n",
       "      <th>molecular_profile_score_sum</th>\n",
       "    </tr>\n",
       "  </thead>\n",
       "  <tbody>\n",
       "    <tr>\n",
       "      <th>85</th>\n",
       "      <td>190</td>\n",
       "      <td>EGFR Amplification</td>\n",
       "      <td>protein</td>\n",
       "      <td>True</td>\n",
       "      <td>Transcript Amplification</td>\n",
       "      <td>ga4gh:CX.sEHT64Lm86QaTXzw39uKLkBUbEkp4h_X</td>\n",
       "      <td>[190, 4175, 4346, 4567]</td>\n",
       "      <td>[173.0, 5.0, 0.0]</td>\n",
       "      <td>178.0</td>\n",
       "    </tr>\n",
       "  </tbody>\n",
       "</table>\n",
       "</div>"
      ],
      "text/plain": [
       "    variant_id               query query_type  variant_accepted   \n",
       "85         190  EGFR Amplification    protein              True  \\\n",
       "\n",
       "         civic_variant_types                                     vrs_id   \n",
       "85  Transcript Amplification  ga4gh:CX.sEHT64Lm86QaTXzw39uKLkBUbEkp4h_X  \\\n",
       "\n",
       "       molecular_profile_id molecular_profile_score   \n",
       "85  [190, 4175, 4346, 4567]       [173.0, 5.0, 0.0]  \\\n",
       "\n",
       "    molecular_profile_score_sum  \n",
       "85                        178.0  "
      ]
     },
     "execution_count": 31,
     "metadata": {},
     "output_type": "execute_result"
    }
   ],
   "source": [
    "normalized_queries_add_molprof_df.loc[\n",
    "    normalized_queries_add_molprof_df[\"variant_id\"] == 190\n",
    "]"
   ]
  },
  {
   "cell_type": "markdown",
   "metadata": {},
   "source": [
    "# <a id='toc4_'></a>[Analysis of Unable to Normalize Queries](#toc0_)"
   ]
  },
  {
   "cell_type": "markdown",
   "metadata": {},
   "source": [
    "## <a id='toc4_1_'></a>[List of Unable to Normalize Variant ID's](#toc0_)"
   ]
  },
  {
   "cell_type": "code",
   "execution_count": 32,
   "metadata": {},
   "outputs": [
    {
     "data": {
      "text/html": [
       "<div>\n",
       "<style scoped>\n",
       "    .dataframe tbody tr th:only-of-type {\n",
       "        vertical-align: middle;\n",
       "    }\n",
       "\n",
       "    .dataframe tbody tr th {\n",
       "        vertical-align: top;\n",
       "    }\n",
       "\n",
       "    .dataframe thead th {\n",
       "        text-align: right;\n",
       "    }\n",
       "</style>\n",
       "<table border=\"1\" class=\"dataframe\">\n",
       "  <thead>\n",
       "    <tr style=\"text-align: right;\">\n",
       "      <th></th>\n",
       "      <th>variant_id</th>\n",
       "      <th>query</th>\n",
       "      <th>query_type</th>\n",
       "      <th>variant_accepted</th>\n",
       "      <th>civic_variant_types</th>\n",
       "      <th>exception_raised</th>\n",
       "      <th>message</th>\n",
       "      <th>warnings</th>\n",
       "    </tr>\n",
       "  </thead>\n",
       "  <tbody>\n",
       "    <tr>\n",
       "      <th>0</th>\n",
       "      <td>748</td>\n",
       "      <td>MLH1 *757L</td>\n",
       "      <td>protein</td>\n",
       "      <td>True</td>\n",
       "      <td>Stop Lost</td>\n",
       "      <td>False</td>\n",
       "      <td>unable to normalize</td>\n",
       "      <td>['Unable to tokenize: *757L']</td>\n",
       "    </tr>\n",
       "    <tr>\n",
       "      <th>1</th>\n",
       "      <td>4248</td>\n",
       "      <td>PTPN11 A461T</td>\n",
       "      <td>protein</td>\n",
       "      <td>False</td>\n",
       "      <td>NaN</td>\n",
       "      <td>False</td>\n",
       "      <td>unable to normalize</td>\n",
       "      <td>['Unable to translate variation']</td>\n",
       "    </tr>\n",
       "    <tr>\n",
       "      <th>2</th>\n",
       "      <td>3718</td>\n",
       "      <td>AR A748V</td>\n",
       "      <td>protein</td>\n",
       "      <td>False</td>\n",
       "      <td>NaN</td>\n",
       "      <td>False</td>\n",
       "      <td>unable to normalize</td>\n",
       "      <td>['Unable to translate AR A748V']</td>\n",
       "    </tr>\n",
       "    <tr>\n",
       "      <th>3</th>\n",
       "      <td>3725</td>\n",
       "      <td>AR A765T</td>\n",
       "      <td>protein</td>\n",
       "      <td>False</td>\n",
       "      <td>NaN</td>\n",
       "      <td>False</td>\n",
       "      <td>unable to normalize</td>\n",
       "      <td>['Unable to translate AR A765T']</td>\n",
       "    </tr>\n",
       "    <tr>\n",
       "      <th>4</th>\n",
       "      <td>4485</td>\n",
       "      <td>ERBB2 A775_G776ins YVMA</td>\n",
       "      <td>protein</td>\n",
       "      <td>False</td>\n",
       "      <td>NaN</td>\n",
       "      <td>False</td>\n",
       "      <td>unable to normalize</td>\n",
       "      <td>['Unable to tokenize: A775_G776ins', 'Unable t...</td>\n",
       "    </tr>\n",
       "  </tbody>\n",
       "</table>\n",
       "</div>"
      ],
      "text/plain": [
       "   variant_id                    query query_type  variant_accepted   \n",
       "0         748               MLH1 *757L    protein              True  \\\n",
       "1        4248             PTPN11 A461T    protein             False   \n",
       "2        3718                 AR A748V    protein             False   \n",
       "3        3725                 AR A765T    protein             False   \n",
       "4        4485  ERBB2 A775_G776ins YVMA    protein             False   \n",
       "\n",
       "  civic_variant_types  exception_raised              message   \n",
       "0           Stop Lost             False  unable to normalize  \\\n",
       "1                 NaN             False  unable to normalize   \n",
       "2                 NaN             False  unable to normalize   \n",
       "3                 NaN             False  unable to normalize   \n",
       "4                 NaN             False  unable to normalize   \n",
       "\n",
       "                                            warnings  \n",
       "0                      ['Unable to tokenize: *757L']  \n",
       "1                  ['Unable to translate variation']  \n",
       "2                   ['Unable to translate AR A748V']  \n",
       "3                   ['Unable to translate AR A765T']  \n",
       "4  ['Unable to tokenize: A775_G776ins', 'Unable t...  "
      ]
     },
     "execution_count": 32,
     "metadata": {},
     "output_type": "execute_result"
    }
   ],
   "source": [
    "not_normalized_queries_df = pd.read_csv(\"unable_to_normalize_queries.csv\", sep=\"\\t\")\n",
    "not_normalized_queries_df.head()"
   ]
  },
  {
   "cell_type": "markdown",
   "metadata": {},
   "source": [
    "## <a id='toc4_2_'></a>[Variant analysis](#toc0_)"
   ]
  },
  {
   "cell_type": "code",
   "execution_count": 33,
   "metadata": {},
   "outputs": [
    {
     "name": "stdout",
     "output_type": "stream",
     "text": [
      "\n",
      "Number of Unable to Normalize Variants in CIViC: 92 / 3519\n",
      "Percentage of Unable to Normalize Variants in CIViC: 2.61%\n",
      "\n",
      "Number of accepted Unable to Normalize Variants: 15 / 92\n",
      "Percentage of accepted Unable to Normalize Variants: 16.30%\n",
      "\n",
      "Number of not accepted Unable to Normalize Variants: 77 / 92\n",
      "Percentage of not accepted Unable to Normalize Variants: 83.70%\n"
     ]
    },
    {
     "data": {
      "text/html": [
       "<div>\n",
       "<style scoped>\n",
       "    .dataframe tbody tr th:only-of-type {\n",
       "        vertical-align: middle;\n",
       "    }\n",
       "\n",
       "    .dataframe tbody tr th {\n",
       "        vertical-align: top;\n",
       "    }\n",
       "\n",
       "    .dataframe thead th {\n",
       "        text-align: right;\n",
       "    }\n",
       "</style>\n",
       "<table border=\"1\" class=\"dataframe\">\n",
       "  <thead>\n",
       "    <tr style=\"text-align: right;\">\n",
       "      <th></th>\n",
       "      <th>variant_id</th>\n",
       "      <th>query</th>\n",
       "      <th>query_type</th>\n",
       "      <th>variant_accepted</th>\n",
       "      <th>civic_variant_types</th>\n",
       "      <th>exception_raised</th>\n",
       "      <th>message</th>\n",
       "      <th>warnings</th>\n",
       "    </tr>\n",
       "  </thead>\n",
       "  <tbody>\n",
       "    <tr>\n",
       "      <th>0</th>\n",
       "      <td>748</td>\n",
       "      <td>MLH1 *757L</td>\n",
       "      <td>protein</td>\n",
       "      <td>True</td>\n",
       "      <td>Stop Lost</td>\n",
       "      <td>False</td>\n",
       "      <td>unable to normalize</td>\n",
       "      <td>['Unable to tokenize: *757L']</td>\n",
       "    </tr>\n",
       "    <tr>\n",
       "      <th>1</th>\n",
       "      <td>4248</td>\n",
       "      <td>PTPN11 A461T</td>\n",
       "      <td>protein</td>\n",
       "      <td>False</td>\n",
       "      <td>NaN</td>\n",
       "      <td>False</td>\n",
       "      <td>unable to normalize</td>\n",
       "      <td>['Unable to translate variation']</td>\n",
       "    </tr>\n",
       "    <tr>\n",
       "      <th>2</th>\n",
       "      <td>3718</td>\n",
       "      <td>AR A748V</td>\n",
       "      <td>protein</td>\n",
       "      <td>False</td>\n",
       "      <td>NaN</td>\n",
       "      <td>False</td>\n",
       "      <td>unable to normalize</td>\n",
       "      <td>['Unable to translate AR A748V']</td>\n",
       "    </tr>\n",
       "    <tr>\n",
       "      <th>3</th>\n",
       "      <td>3725</td>\n",
       "      <td>AR A765T</td>\n",
       "      <td>protein</td>\n",
       "      <td>False</td>\n",
       "      <td>NaN</td>\n",
       "      <td>False</td>\n",
       "      <td>unable to normalize</td>\n",
       "      <td>['Unable to translate AR A765T']</td>\n",
       "    </tr>\n",
       "    <tr>\n",
       "      <th>4</th>\n",
       "      <td>4485</td>\n",
       "      <td>ERBB2 A775_G776ins YVMA</td>\n",
       "      <td>protein</td>\n",
       "      <td>False</td>\n",
       "      <td>NaN</td>\n",
       "      <td>False</td>\n",
       "      <td>unable to normalize</td>\n",
       "      <td>['Unable to tokenize: A775_G776ins', 'Unable t...</td>\n",
       "    </tr>\n",
       "  </tbody>\n",
       "</table>\n",
       "</div>"
      ],
      "text/plain": [
       "   variant_id                    query query_type  variant_accepted   \n",
       "0         748               MLH1 *757L    protein              True  \\\n",
       "1        4248             PTPN11 A461T    protein             False   \n",
       "2        3718                 AR A748V    protein             False   \n",
       "3        3725                 AR A765T    protein             False   \n",
       "4        4485  ERBB2 A775_G776ins YVMA    protein             False   \n",
       "\n",
       "  civic_variant_types  exception_raised              message   \n",
       "0           Stop Lost             False  unable to normalize  \\\n",
       "1                 NaN             False  unable to normalize   \n",
       "2                 NaN             False  unable to normalize   \n",
       "3                 NaN             False  unable to normalize   \n",
       "4                 NaN             False  unable to normalize   \n",
       "\n",
       "                                            warnings  \n",
       "0                      ['Unable to tokenize: *757L']  \n",
       "1                  ['Unable to translate variation']  \n",
       "2                   ['Unable to translate AR A748V']  \n",
       "3                   ['Unable to translate AR A765T']  \n",
       "4  ['Unable to tokenize: A775_G776ins', 'Unable t...  "
      ]
     },
     "execution_count": 33,
     "metadata": {},
     "output_type": "execute_result"
    }
   ],
   "source": [
    "not_normalized_queries_df = variant_analysis(\n",
    "    not_normalized_queries_df, VariantNormType.UNABLE_TO_NORMALIZE\n",
    ")\n",
    "not_normalized_queries_df.head()"
   ]
  },
  {
   "cell_type": "markdown",
   "metadata": {},
   "source": [
    "## <a id='toc4_3_'></a>[Transform df for evidence analysis](#toc0_)"
   ]
  },
  {
   "cell_type": "code",
   "execution_count": 34,
   "metadata": {},
   "outputs": [
    {
     "data": {
      "text/html": [
       "<div>\n",
       "<style scoped>\n",
       "    .dataframe tbody tr th:only-of-type {\n",
       "        vertical-align: middle;\n",
       "    }\n",
       "\n",
       "    .dataframe tbody tr th {\n",
       "        vertical-align: top;\n",
       "    }\n",
       "\n",
       "    .dataframe thead th {\n",
       "        text-align: right;\n",
       "    }\n",
       "</style>\n",
       "<table border=\"1\" class=\"dataframe\">\n",
       "  <thead>\n",
       "    <tr style=\"text-align: right;\">\n",
       "      <th></th>\n",
       "      <th>variant_id</th>\n",
       "      <th>query</th>\n",
       "      <th>query_type</th>\n",
       "      <th>variant_accepted</th>\n",
       "      <th>civic_variant_types</th>\n",
       "      <th>exception_raised</th>\n",
       "      <th>message</th>\n",
       "      <th>warnings</th>\n",
       "      <th>evidence_id</th>\n",
       "    </tr>\n",
       "  </thead>\n",
       "  <tbody>\n",
       "    <tr>\n",
       "      <th>0</th>\n",
       "      <td>748</td>\n",
       "      <td>MLH1 *757L</td>\n",
       "      <td>protein</td>\n",
       "      <td>True</td>\n",
       "      <td>Stop Lost</td>\n",
       "      <td>False</td>\n",
       "      <td>unable to normalize</td>\n",
       "      <td>['Unable to tokenize: *757L']</td>\n",
       "      <td>1812</td>\n",
       "    </tr>\n",
       "    <tr>\n",
       "      <th>1</th>\n",
       "      <td>4248</td>\n",
       "      <td>PTPN11 A461T</td>\n",
       "      <td>protein</td>\n",
       "      <td>False</td>\n",
       "      <td>NaN</td>\n",
       "      <td>False</td>\n",
       "      <td>unable to normalize</td>\n",
       "      <td>['Unable to translate variation']</td>\n",
       "      <td>10885</td>\n",
       "    </tr>\n",
       "    <tr>\n",
       "      <th>2</th>\n",
       "      <td>3718</td>\n",
       "      <td>AR A748V</td>\n",
       "      <td>protein</td>\n",
       "      <td>False</td>\n",
       "      <td>NaN</td>\n",
       "      <td>False</td>\n",
       "      <td>unable to normalize</td>\n",
       "      <td>['Unable to translate AR A748V']</td>\n",
       "      <td>10128</td>\n",
       "    </tr>\n",
       "    <tr>\n",
       "      <th>3</th>\n",
       "      <td>3725</td>\n",
       "      <td>AR A765T</td>\n",
       "      <td>protein</td>\n",
       "      <td>False</td>\n",
       "      <td>NaN</td>\n",
       "      <td>False</td>\n",
       "      <td>unable to normalize</td>\n",
       "      <td>['Unable to translate AR A765T']</td>\n",
       "      <td>10135</td>\n",
       "    </tr>\n",
       "    <tr>\n",
       "      <th>4</th>\n",
       "      <td>4485</td>\n",
       "      <td>ERBB2 A775_G776ins YVMA</td>\n",
       "      <td>protein</td>\n",
       "      <td>False</td>\n",
       "      <td>NaN</td>\n",
       "      <td>False</td>\n",
       "      <td>unable to normalize</td>\n",
       "      <td>['Unable to tokenize: A775_G776ins', 'Unable t...</td>\n",
       "      <td>11494</td>\n",
       "    </tr>\n",
       "  </tbody>\n",
       "</table>\n",
       "</div>"
      ],
      "text/plain": [
       "   variant_id                    query query_type  variant_accepted   \n",
       "0         748               MLH1 *757L    protein              True  \\\n",
       "1        4248             PTPN11 A461T    protein             False   \n",
       "2        3718                 AR A748V    protein             False   \n",
       "3        3725                 AR A765T    protein             False   \n",
       "4        4485  ERBB2 A775_G776ins YVMA    protein             False   \n",
       "\n",
       "  civic_variant_types  exception_raised              message   \n",
       "0           Stop Lost             False  unable to normalize  \\\n",
       "1                 NaN             False  unable to normalize   \n",
       "2                 NaN             False  unable to normalize   \n",
       "3                 NaN             False  unable to normalize   \n",
       "4                 NaN             False  unable to normalize   \n",
       "\n",
       "                                            warnings evidence_id  \n",
       "0                      ['Unable to tokenize: *757L']        1812  \n",
       "1                  ['Unable to translate variation']       10885  \n",
       "2                   ['Unable to translate AR A748V']       10128  \n",
       "3                   ['Unable to translate AR A765T']       10135  \n",
       "4  ['Unable to tokenize: A775_G776ins', 'Unable t...       11494  "
      ]
     },
     "execution_count": 34,
     "metadata": {},
     "output_type": "execute_result"
    }
   ],
   "source": [
    "not_normalized_quer_add_evidence_df = transform_df_evidence_ids(\n",
    "    not_normalized_queries_df\n",
    ")\n",
    "not_normalized_quer_add_evidence_df.head()"
   ]
  },
  {
   "cell_type": "code",
   "execution_count": 35,
   "metadata": {},
   "outputs": [
    {
     "data": {
      "text/html": [
       "<div>\n",
       "<style scoped>\n",
       "    .dataframe tbody tr th:only-of-type {\n",
       "        vertical-align: middle;\n",
       "    }\n",
       "\n",
       "    .dataframe tbody tr th {\n",
       "        vertical-align: top;\n",
       "    }\n",
       "\n",
       "    .dataframe thead th {\n",
       "        text-align: right;\n",
       "    }\n",
       "</style>\n",
       "<table border=\"1\" class=\"dataframe\">\n",
       "  <thead>\n",
       "    <tr style=\"text-align: right;\">\n",
       "      <th></th>\n",
       "      <th>variant_id</th>\n",
       "      <th>query</th>\n",
       "      <th>query_type</th>\n",
       "      <th>variant_accepted</th>\n",
       "      <th>civic_variant_types</th>\n",
       "      <th>exception_raised</th>\n",
       "      <th>message</th>\n",
       "      <th>warnings</th>\n",
       "      <th>evidence_id</th>\n",
       "      <th>evidence_status</th>\n",
       "      <th>evidence_rating</th>\n",
       "      <th>evidence_level</th>\n",
       "    </tr>\n",
       "  </thead>\n",
       "  <tbody>\n",
       "    <tr>\n",
       "      <th>0</th>\n",
       "      <td>748</td>\n",
       "      <td>MLH1 *757L</td>\n",
       "      <td>protein</td>\n",
       "      <td>True</td>\n",
       "      <td>Stop Lost</td>\n",
       "      <td>False</td>\n",
       "      <td>unable to normalize</td>\n",
       "      <td>['Unable to tokenize: *757L']</td>\n",
       "      <td>1812</td>\n",
       "      <td>accepted</td>\n",
       "      <td>[1]</td>\n",
       "      <td>[C]</td>\n",
       "    </tr>\n",
       "    <tr>\n",
       "      <th>1</th>\n",
       "      <td>4248</td>\n",
       "      <td>PTPN11 A461T</td>\n",
       "      <td>protein</td>\n",
       "      <td>False</td>\n",
       "      <td>NaN</td>\n",
       "      <td>False</td>\n",
       "      <td>unable to normalize</td>\n",
       "      <td>['Unable to translate variation']</td>\n",
       "      <td>10885</td>\n",
       "      <td>submitted</td>\n",
       "      <td>[3]</td>\n",
       "      <td>[D]</td>\n",
       "    </tr>\n",
       "    <tr>\n",
       "      <th>2</th>\n",
       "      <td>3718</td>\n",
       "      <td>AR A748V</td>\n",
       "      <td>protein</td>\n",
       "      <td>False</td>\n",
       "      <td>NaN</td>\n",
       "      <td>False</td>\n",
       "      <td>unable to normalize</td>\n",
       "      <td>['Unable to translate AR A748V']</td>\n",
       "      <td>10128</td>\n",
       "      <td>submitted</td>\n",
       "      <td>[3]</td>\n",
       "      <td>[D]</td>\n",
       "    </tr>\n",
       "    <tr>\n",
       "      <th>3</th>\n",
       "      <td>3725</td>\n",
       "      <td>AR A765T</td>\n",
       "      <td>protein</td>\n",
       "      <td>False</td>\n",
       "      <td>NaN</td>\n",
       "      <td>False</td>\n",
       "      <td>unable to normalize</td>\n",
       "      <td>['Unable to translate AR A765T']</td>\n",
       "      <td>10135</td>\n",
       "      <td>submitted</td>\n",
       "      <td>[3]</td>\n",
       "      <td>[D]</td>\n",
       "    </tr>\n",
       "    <tr>\n",
       "      <th>4</th>\n",
       "      <td>4485</td>\n",
       "      <td>ERBB2 A775_G776ins YVMA</td>\n",
       "      <td>protein</td>\n",
       "      <td>False</td>\n",
       "      <td>NaN</td>\n",
       "      <td>False</td>\n",
       "      <td>unable to normalize</td>\n",
       "      <td>['Unable to tokenize: A775_G776ins', 'Unable t...</td>\n",
       "      <td>11494</td>\n",
       "      <td>submitted</td>\n",
       "      <td>[4]</td>\n",
       "      <td>[D]</td>\n",
       "    </tr>\n",
       "  </tbody>\n",
       "</table>\n",
       "</div>"
      ],
      "text/plain": [
       "   variant_id                    query query_type  variant_accepted   \n",
       "0         748               MLH1 *757L    protein              True  \\\n",
       "1        4248             PTPN11 A461T    protein             False   \n",
       "2        3718                 AR A748V    protein             False   \n",
       "3        3725                 AR A765T    protein             False   \n",
       "4        4485  ERBB2 A775_G776ins YVMA    protein             False   \n",
       "\n",
       "  civic_variant_types  exception_raised              message   \n",
       "0           Stop Lost             False  unable to normalize  \\\n",
       "1                 NaN             False  unable to normalize   \n",
       "2                 NaN             False  unable to normalize   \n",
       "3                 NaN             False  unable to normalize   \n",
       "4                 NaN             False  unable to normalize   \n",
       "\n",
       "                                            warnings evidence_id   \n",
       "0                      ['Unable to tokenize: *757L']        1812  \\\n",
       "1                  ['Unable to translate variation']       10885   \n",
       "2                   ['Unable to translate AR A748V']       10128   \n",
       "3                   ['Unable to translate AR A765T']       10135   \n",
       "4  ['Unable to tokenize: A775_G776ins', 'Unable t...       11494   \n",
       "\n",
       "  evidence_status evidence_rating evidence_level  \n",
       "0        accepted             [1]            [C]  \n",
       "1       submitted             [3]            [D]  \n",
       "2       submitted             [3]            [D]  \n",
       "3       submitted             [3]            [D]  \n",
       "4       submitted             [4]            [D]  "
      ]
     },
     "execution_count": 35,
     "metadata": {},
     "output_type": "execute_result"
    }
   ],
   "source": [
    "not_normalized_quer_add_evidence_df = transform_df_evidence(\n",
    "    not_normalized_quer_add_evidence_df\n",
    ")\n",
    "not_normalized_quer_add_evidence_df.head()"
   ]
  },
  {
   "cell_type": "markdown",
   "metadata": {},
   "source": [
    "## <a id='toc4_4_'></a>[Evidence analysis](#toc0_)"
   ]
  },
  {
   "cell_type": "code",
   "execution_count": 36,
   "metadata": {},
   "outputs": [
    {
     "name": "stdout",
     "output_type": "stream",
     "text": [
      "Number of Unable to Normalize Variant Evidence items in CIViC: 142 / 9920\n",
      "Percentage of Unable to Normalize Variant Evidence items in CIViC: 1.43%\n",
      "\n",
      "Number of accepted Unable to Normalize Variant Evidence items: 21 / 142\n",
      "Percentage of accepted Unable to Normalize Variant Evidence items: 14.79%\n",
      "\n",
      "Number of submitted Unable to Normalize Variant Evidence items: 121 / 142\n",
      "Percentage of not submitted Unable to Normalize Variant Evidence items: 85.21%\n"
     ]
    },
    {
     "data": {
      "text/html": [
       "<div>\n",
       "<style scoped>\n",
       "    .dataframe tbody tr th:only-of-type {\n",
       "        vertical-align: middle;\n",
       "    }\n",
       "\n",
       "    .dataframe tbody tr th {\n",
       "        vertical-align: top;\n",
       "    }\n",
       "\n",
       "    .dataframe thead th {\n",
       "        text-align: right;\n",
       "    }\n",
       "</style>\n",
       "<table border=\"1\" class=\"dataframe\">\n",
       "  <thead>\n",
       "    <tr style=\"text-align: right;\">\n",
       "      <th></th>\n",
       "      <th>variant_id</th>\n",
       "      <th>query</th>\n",
       "      <th>query_type</th>\n",
       "      <th>variant_accepted</th>\n",
       "      <th>civic_variant_types</th>\n",
       "      <th>exception_raised</th>\n",
       "      <th>message</th>\n",
       "      <th>warnings</th>\n",
       "      <th>evidence_id</th>\n",
       "      <th>evidence_status</th>\n",
       "      <th>evidence_rating</th>\n",
       "      <th>evidence_level</th>\n",
       "      <th>evidence_accepted</th>\n",
       "    </tr>\n",
       "  </thead>\n",
       "  <tbody>\n",
       "    <tr>\n",
       "      <th>0</th>\n",
       "      <td>748</td>\n",
       "      <td>MLH1 *757L</td>\n",
       "      <td>protein</td>\n",
       "      <td>True</td>\n",
       "      <td>Stop Lost</td>\n",
       "      <td>False</td>\n",
       "      <td>unable to normalize</td>\n",
       "      <td>['Unable to tokenize: *757L']</td>\n",
       "      <td>1812</td>\n",
       "      <td>accepted</td>\n",
       "      <td>[1]</td>\n",
       "      <td>[C]</td>\n",
       "      <td>True</td>\n",
       "    </tr>\n",
       "    <tr>\n",
       "      <th>1</th>\n",
       "      <td>4248</td>\n",
       "      <td>PTPN11 A461T</td>\n",
       "      <td>protein</td>\n",
       "      <td>False</td>\n",
       "      <td>NaN</td>\n",
       "      <td>False</td>\n",
       "      <td>unable to normalize</td>\n",
       "      <td>['Unable to translate variation']</td>\n",
       "      <td>10885</td>\n",
       "      <td>submitted</td>\n",
       "      <td>[3]</td>\n",
       "      <td>[D]</td>\n",
       "      <td>False</td>\n",
       "    </tr>\n",
       "    <tr>\n",
       "      <th>2</th>\n",
       "      <td>3718</td>\n",
       "      <td>AR A748V</td>\n",
       "      <td>protein</td>\n",
       "      <td>False</td>\n",
       "      <td>NaN</td>\n",
       "      <td>False</td>\n",
       "      <td>unable to normalize</td>\n",
       "      <td>['Unable to translate AR A748V']</td>\n",
       "      <td>10128</td>\n",
       "      <td>submitted</td>\n",
       "      <td>[3]</td>\n",
       "      <td>[D]</td>\n",
       "      <td>False</td>\n",
       "    </tr>\n",
       "    <tr>\n",
       "      <th>3</th>\n",
       "      <td>3725</td>\n",
       "      <td>AR A765T</td>\n",
       "      <td>protein</td>\n",
       "      <td>False</td>\n",
       "      <td>NaN</td>\n",
       "      <td>False</td>\n",
       "      <td>unable to normalize</td>\n",
       "      <td>['Unable to translate AR A765T']</td>\n",
       "      <td>10135</td>\n",
       "      <td>submitted</td>\n",
       "      <td>[3]</td>\n",
       "      <td>[D]</td>\n",
       "      <td>False</td>\n",
       "    </tr>\n",
       "    <tr>\n",
       "      <th>4</th>\n",
       "      <td>4485</td>\n",
       "      <td>ERBB2 A775_G776ins YVMA</td>\n",
       "      <td>protein</td>\n",
       "      <td>False</td>\n",
       "      <td>NaN</td>\n",
       "      <td>False</td>\n",
       "      <td>unable to normalize</td>\n",
       "      <td>['Unable to tokenize: A775_G776ins', 'Unable t...</td>\n",
       "      <td>11494</td>\n",
       "      <td>submitted</td>\n",
       "      <td>[4]</td>\n",
       "      <td>[D]</td>\n",
       "      <td>False</td>\n",
       "    </tr>\n",
       "  </tbody>\n",
       "</table>\n",
       "</div>"
      ],
      "text/plain": [
       "   variant_id                    query query_type  variant_accepted   \n",
       "0         748               MLH1 *757L    protein              True  \\\n",
       "1        4248             PTPN11 A461T    protein             False   \n",
       "2        3718                 AR A748V    protein             False   \n",
       "3        3725                 AR A765T    protein             False   \n",
       "4        4485  ERBB2 A775_G776ins YVMA    protein             False   \n",
       "\n",
       "  civic_variant_types  exception_raised              message   \n",
       "0           Stop Lost             False  unable to normalize  \\\n",
       "1                 NaN             False  unable to normalize   \n",
       "2                 NaN             False  unable to normalize   \n",
       "3                 NaN             False  unable to normalize   \n",
       "4                 NaN             False  unable to normalize   \n",
       "\n",
       "                                            warnings evidence_id   \n",
       "0                      ['Unable to tokenize: *757L']        1812  \\\n",
       "1                  ['Unable to translate variation']       10885   \n",
       "2                   ['Unable to translate AR A748V']       10128   \n",
       "3                   ['Unable to translate AR A765T']       10135   \n",
       "4  ['Unable to tokenize: A775_G776ins', 'Unable t...       11494   \n",
       "\n",
       "  evidence_status evidence_rating evidence_level  evidence_accepted  \n",
       "0        accepted             [1]            [C]               True  \n",
       "1       submitted             [3]            [D]              False  \n",
       "2       submitted             [3]            [D]              False  \n",
       "3       submitted             [3]            [D]              False  \n",
       "4       submitted             [4]            [D]              False  "
      ]
     },
     "execution_count": 36,
     "metadata": {},
     "output_type": "execute_result"
    }
   ],
   "source": [
    "not_normalized_quer_add_evidence_df = evidence_analysis2(\n",
    "    not_normalized_quer_add_evidence_df, VariantNormType.UNABLE_TO_NORMALIZE\n",
    ")\n",
    "not_normalized_quer_add_evidence_df.head()"
   ]
  },
  {
   "cell_type": "markdown",
   "metadata": {},
   "source": [
    "## <a id='toc4_5_'></a>[Impact](#toc0_)\n",
    "molecular profile score"
   ]
  },
  {
   "cell_type": "markdown",
   "metadata": {},
   "source": [
    "### <a id='toc4_5_1_'></a>[Import molecular profile id](#toc0_)"
   ]
  },
  {
   "cell_type": "code",
   "execution_count": 37,
   "metadata": {},
   "outputs": [
    {
     "data": {
      "text/html": [
       "<div>\n",
       "<style scoped>\n",
       "    .dataframe tbody tr th:only-of-type {\n",
       "        vertical-align: middle;\n",
       "    }\n",
       "\n",
       "    .dataframe tbody tr th {\n",
       "        vertical-align: top;\n",
       "    }\n",
       "\n",
       "    .dataframe thead th {\n",
       "        text-align: right;\n",
       "    }\n",
       "</style>\n",
       "<table border=\"1\" class=\"dataframe\">\n",
       "  <thead>\n",
       "    <tr style=\"text-align: right;\">\n",
       "      <th></th>\n",
       "      <th>variant_id</th>\n",
       "      <th>query</th>\n",
       "      <th>query_type</th>\n",
       "      <th>variant_accepted</th>\n",
       "      <th>civic_variant_types</th>\n",
       "      <th>exception_raised</th>\n",
       "      <th>message</th>\n",
       "      <th>warnings</th>\n",
       "      <th>molecular_profile_id</th>\n",
       "    </tr>\n",
       "  </thead>\n",
       "  <tbody>\n",
       "    <tr>\n",
       "      <th>0</th>\n",
       "      <td>748</td>\n",
       "      <td>MLH1 *757L</td>\n",
       "      <td>protein</td>\n",
       "      <td>True</td>\n",
       "      <td>Stop Lost</td>\n",
       "      <td>False</td>\n",
       "      <td>unable to normalize</td>\n",
       "      <td>['Unable to tokenize: *757L']</td>\n",
       "      <td>[729]</td>\n",
       "    </tr>\n",
       "    <tr>\n",
       "      <th>1</th>\n",
       "      <td>4248</td>\n",
       "      <td>PTPN11 A461T</td>\n",
       "      <td>protein</td>\n",
       "      <td>False</td>\n",
       "      <td>NaN</td>\n",
       "      <td>False</td>\n",
       "      <td>unable to normalize</td>\n",
       "      <td>['Unable to translate variation']</td>\n",
       "      <td>[4116]</td>\n",
       "    </tr>\n",
       "    <tr>\n",
       "      <th>2</th>\n",
       "      <td>3718</td>\n",
       "      <td>AR A748V</td>\n",
       "      <td>protein</td>\n",
       "      <td>False</td>\n",
       "      <td>NaN</td>\n",
       "      <td>False</td>\n",
       "      <td>unable to normalize</td>\n",
       "      <td>['Unable to translate AR A748V']</td>\n",
       "      <td>[3586]</td>\n",
       "    </tr>\n",
       "    <tr>\n",
       "      <th>3</th>\n",
       "      <td>3725</td>\n",
       "      <td>AR A765T</td>\n",
       "      <td>protein</td>\n",
       "      <td>False</td>\n",
       "      <td>NaN</td>\n",
       "      <td>False</td>\n",
       "      <td>unable to normalize</td>\n",
       "      <td>['Unable to translate AR A765T']</td>\n",
       "      <td>[3593]</td>\n",
       "    </tr>\n",
       "    <tr>\n",
       "      <th>4</th>\n",
       "      <td>4485</td>\n",
       "      <td>ERBB2 A775_G776ins YVMA</td>\n",
       "      <td>protein</td>\n",
       "      <td>False</td>\n",
       "      <td>NaN</td>\n",
       "      <td>False</td>\n",
       "      <td>unable to normalize</td>\n",
       "      <td>['Unable to tokenize: A775_G776ins', 'Unable t...</td>\n",
       "      <td>[4463, 4472]</td>\n",
       "    </tr>\n",
       "  </tbody>\n",
       "</table>\n",
       "</div>"
      ],
      "text/plain": [
       "   variant_id                    query query_type  variant_accepted   \n",
       "0         748               MLH1 *757L    protein              True  \\\n",
       "1        4248             PTPN11 A461T    protein             False   \n",
       "2        3718                 AR A748V    protein             False   \n",
       "3        3725                 AR A765T    protein             False   \n",
       "4        4485  ERBB2 A775_G776ins YVMA    protein             False   \n",
       "\n",
       "  civic_variant_types  exception_raised              message   \n",
       "0           Stop Lost             False  unable to normalize  \\\n",
       "1                 NaN             False  unable to normalize   \n",
       "2                 NaN             False  unable to normalize   \n",
       "3                 NaN             False  unable to normalize   \n",
       "4                 NaN             False  unable to normalize   \n",
       "\n",
       "                                            warnings molecular_profile_id  \n",
       "0                      ['Unable to tokenize: *757L']                [729]  \n",
       "1                  ['Unable to translate variation']               [4116]  \n",
       "2                   ['Unable to translate AR A748V']               [3586]  \n",
       "3                   ['Unable to translate AR A765T']               [3593]  \n",
       "4  ['Unable to tokenize: A775_G776ins', 'Unable t...         [4463, 4472]  "
      ]
     },
     "execution_count": 37,
     "metadata": {},
     "output_type": "execute_result"
    }
   ],
   "source": [
    "not_normalized_queries_add_molprof_df = transform_df_mp_id(not_normalized_queries_df)\n",
    "not_normalized_queries_add_molprof_df.head()"
   ]
  },
  {
   "cell_type": "markdown",
   "metadata": {},
   "source": [
    "### <a id='toc4_5_2_'></a>[Import molecular profile scores](#toc0_)"
   ]
  },
  {
   "cell_type": "code",
   "execution_count": 38,
   "metadata": {},
   "outputs": [
    {
     "data": {
      "text/html": [
       "<div>\n",
       "<style scoped>\n",
       "    .dataframe tbody tr th:only-of-type {\n",
       "        vertical-align: middle;\n",
       "    }\n",
       "\n",
       "    .dataframe tbody tr th {\n",
       "        vertical-align: top;\n",
       "    }\n",
       "\n",
       "    .dataframe thead th {\n",
       "        text-align: right;\n",
       "    }\n",
       "</style>\n",
       "<table border=\"1\" class=\"dataframe\">\n",
       "  <thead>\n",
       "    <tr style=\"text-align: right;\">\n",
       "      <th></th>\n",
       "      <th>variant_id</th>\n",
       "      <th>query</th>\n",
       "      <th>query_type</th>\n",
       "      <th>variant_accepted</th>\n",
       "      <th>civic_variant_types</th>\n",
       "      <th>exception_raised</th>\n",
       "      <th>message</th>\n",
       "      <th>warnings</th>\n",
       "      <th>molecular_profile_id</th>\n",
       "      <th>molecular_profile_score</th>\n",
       "    </tr>\n",
       "  </thead>\n",
       "  <tbody>\n",
       "    <tr>\n",
       "      <th>0</th>\n",
       "      <td>748</td>\n",
       "      <td>MLH1 *757L</td>\n",
       "      <td>protein</td>\n",
       "      <td>True</td>\n",
       "      <td>Stop Lost</td>\n",
       "      <td>False</td>\n",
       "      <td>unable to normalize</td>\n",
       "      <td>['Unable to tokenize: *757L']</td>\n",
       "      <td>[729]</td>\n",
       "      <td>[2.5]</td>\n",
       "    </tr>\n",
       "    <tr>\n",
       "      <th>1</th>\n",
       "      <td>4248</td>\n",
       "      <td>PTPN11 A461T</td>\n",
       "      <td>protein</td>\n",
       "      <td>False</td>\n",
       "      <td>NaN</td>\n",
       "      <td>False</td>\n",
       "      <td>unable to normalize</td>\n",
       "      <td>['Unable to translate variation']</td>\n",
       "      <td>[4116]</td>\n",
       "      <td>[0.0]</td>\n",
       "    </tr>\n",
       "    <tr>\n",
       "      <th>2</th>\n",
       "      <td>3718</td>\n",
       "      <td>AR A748V</td>\n",
       "      <td>protein</td>\n",
       "      <td>False</td>\n",
       "      <td>NaN</td>\n",
       "      <td>False</td>\n",
       "      <td>unable to normalize</td>\n",
       "      <td>['Unable to translate AR A748V']</td>\n",
       "      <td>[3586]</td>\n",
       "      <td>[0.0]</td>\n",
       "    </tr>\n",
       "    <tr>\n",
       "      <th>3</th>\n",
       "      <td>3725</td>\n",
       "      <td>AR A765T</td>\n",
       "      <td>protein</td>\n",
       "      <td>False</td>\n",
       "      <td>NaN</td>\n",
       "      <td>False</td>\n",
       "      <td>unable to normalize</td>\n",
       "      <td>['Unable to translate AR A765T']</td>\n",
       "      <td>[3593]</td>\n",
       "      <td>[0.0]</td>\n",
       "    </tr>\n",
       "    <tr>\n",
       "      <th>4</th>\n",
       "      <td>4485</td>\n",
       "      <td>ERBB2 A775_G776ins YVMA</td>\n",
       "      <td>protein</td>\n",
       "      <td>False</td>\n",
       "      <td>NaN</td>\n",
       "      <td>False</td>\n",
       "      <td>unable to normalize</td>\n",
       "      <td>['Unable to tokenize: A775_G776ins', 'Unable t...</td>\n",
       "      <td>[4463, 4472]</td>\n",
       "      <td>[0.0]</td>\n",
       "    </tr>\n",
       "  </tbody>\n",
       "</table>\n",
       "</div>"
      ],
      "text/plain": [
       "   variant_id                    query query_type  variant_accepted   \n",
       "0         748               MLH1 *757L    protein              True  \\\n",
       "1        4248             PTPN11 A461T    protein             False   \n",
       "2        3718                 AR A748V    protein             False   \n",
       "3        3725                 AR A765T    protein             False   \n",
       "4        4485  ERBB2 A775_G776ins YVMA    protein             False   \n",
       "\n",
       "  civic_variant_types  exception_raised              message   \n",
       "0           Stop Lost             False  unable to normalize  \\\n",
       "1                 NaN             False  unable to normalize   \n",
       "2                 NaN             False  unable to normalize   \n",
       "3                 NaN             False  unable to normalize   \n",
       "4                 NaN             False  unable to normalize   \n",
       "\n",
       "                                            warnings molecular_profile_id   \n",
       "0                      ['Unable to tokenize: *757L']                [729]  \\\n",
       "1                  ['Unable to translate variation']               [4116]   \n",
       "2                   ['Unable to translate AR A748V']               [3586]   \n",
       "3                   ['Unable to translate AR A765T']               [3593]   \n",
       "4  ['Unable to tokenize: A775_G776ins', 'Unable t...         [4463, 4472]   \n",
       "\n",
       "  molecular_profile_score  \n",
       "0                   [2.5]  \n",
       "1                   [0.0]  \n",
       "2                   [0.0]  \n",
       "3                   [0.0]  \n",
       "4                   [0.0]  "
      ]
     },
     "execution_count": 38,
     "metadata": {},
     "output_type": "execute_result"
    }
   ],
   "source": [
    "not_normalized_queries_add_molprof_df = transform_df_mp_score(\n",
    "    not_normalized_queries_add_molprof_df\n",
    ")\n",
    "not_normalized_queries_add_molprof_df.head()"
   ]
  },
  {
   "cell_type": "code",
   "execution_count": 39,
   "metadata": {},
   "outputs": [
    {
     "data": {
      "text/html": [
       "<div>\n",
       "<style scoped>\n",
       "    .dataframe tbody tr th:only-of-type {\n",
       "        vertical-align: middle;\n",
       "    }\n",
       "\n",
       "    .dataframe tbody tr th {\n",
       "        vertical-align: top;\n",
       "    }\n",
       "\n",
       "    .dataframe thead th {\n",
       "        text-align: right;\n",
       "    }\n",
       "</style>\n",
       "<table border=\"1\" class=\"dataframe\">\n",
       "  <thead>\n",
       "    <tr style=\"text-align: right;\">\n",
       "      <th></th>\n",
       "      <th>variant_id</th>\n",
       "      <th>query</th>\n",
       "      <th>query_type</th>\n",
       "      <th>variant_accepted</th>\n",
       "      <th>civic_variant_types</th>\n",
       "      <th>exception_raised</th>\n",
       "      <th>message</th>\n",
       "      <th>warnings</th>\n",
       "      <th>molecular_profile_id</th>\n",
       "      <th>molecular_profile_score</th>\n",
       "      <th>molecular_profile_score_sum</th>\n",
       "    </tr>\n",
       "  </thead>\n",
       "  <tbody>\n",
       "    <tr>\n",
       "      <th>0</th>\n",
       "      <td>748</td>\n",
       "      <td>MLH1 *757L</td>\n",
       "      <td>protein</td>\n",
       "      <td>True</td>\n",
       "      <td>Stop Lost</td>\n",
       "      <td>False</td>\n",
       "      <td>unable to normalize</td>\n",
       "      <td>['Unable to tokenize: *757L']</td>\n",
       "      <td>[729]</td>\n",
       "      <td>[2.5]</td>\n",
       "      <td>2.5</td>\n",
       "    </tr>\n",
       "    <tr>\n",
       "      <th>1</th>\n",
       "      <td>4248</td>\n",
       "      <td>PTPN11 A461T</td>\n",
       "      <td>protein</td>\n",
       "      <td>False</td>\n",
       "      <td>NaN</td>\n",
       "      <td>False</td>\n",
       "      <td>unable to normalize</td>\n",
       "      <td>['Unable to translate variation']</td>\n",
       "      <td>[4116]</td>\n",
       "      <td>[0.0]</td>\n",
       "      <td>0.0</td>\n",
       "    </tr>\n",
       "    <tr>\n",
       "      <th>2</th>\n",
       "      <td>3718</td>\n",
       "      <td>AR A748V</td>\n",
       "      <td>protein</td>\n",
       "      <td>False</td>\n",
       "      <td>NaN</td>\n",
       "      <td>False</td>\n",
       "      <td>unable to normalize</td>\n",
       "      <td>['Unable to translate AR A748V']</td>\n",
       "      <td>[3586]</td>\n",
       "      <td>[0.0]</td>\n",
       "      <td>0.0</td>\n",
       "    </tr>\n",
       "    <tr>\n",
       "      <th>3</th>\n",
       "      <td>3725</td>\n",
       "      <td>AR A765T</td>\n",
       "      <td>protein</td>\n",
       "      <td>False</td>\n",
       "      <td>NaN</td>\n",
       "      <td>False</td>\n",
       "      <td>unable to normalize</td>\n",
       "      <td>['Unable to translate AR A765T']</td>\n",
       "      <td>[3593]</td>\n",
       "      <td>[0.0]</td>\n",
       "      <td>0.0</td>\n",
       "    </tr>\n",
       "    <tr>\n",
       "      <th>4</th>\n",
       "      <td>4485</td>\n",
       "      <td>ERBB2 A775_G776ins YVMA</td>\n",
       "      <td>protein</td>\n",
       "      <td>False</td>\n",
       "      <td>NaN</td>\n",
       "      <td>False</td>\n",
       "      <td>unable to normalize</td>\n",
       "      <td>['Unable to tokenize: A775_G776ins', 'Unable t...</td>\n",
       "      <td>[4463, 4472]</td>\n",
       "      <td>[0.0]</td>\n",
       "      <td>0.0</td>\n",
       "    </tr>\n",
       "  </tbody>\n",
       "</table>\n",
       "</div>"
      ],
      "text/plain": [
       "   variant_id                    query query_type  variant_accepted   \n",
       "0         748               MLH1 *757L    protein              True  \\\n",
       "1        4248             PTPN11 A461T    protein             False   \n",
       "2        3718                 AR A748V    protein             False   \n",
       "3        3725                 AR A765T    protein             False   \n",
       "4        4485  ERBB2 A775_G776ins YVMA    protein             False   \n",
       "\n",
       "  civic_variant_types  exception_raised              message   \n",
       "0           Stop Lost             False  unable to normalize  \\\n",
       "1                 NaN             False  unable to normalize   \n",
       "2                 NaN             False  unable to normalize   \n",
       "3                 NaN             False  unable to normalize   \n",
       "4                 NaN             False  unable to normalize   \n",
       "\n",
       "                                            warnings molecular_profile_id   \n",
       "0                      ['Unable to tokenize: *757L']                [729]  \\\n",
       "1                  ['Unable to translate variation']               [4116]   \n",
       "2                   ['Unable to translate AR A748V']               [3586]   \n",
       "3                   ['Unable to translate AR A765T']               [3593]   \n",
       "4  ['Unable to tokenize: A775_G776ins', 'Unable t...         [4463, 4472]   \n",
       "\n",
       "  molecular_profile_score  molecular_profile_score_sum  \n",
       "0                   [2.5]                          2.5  \n",
       "1                   [0.0]                          0.0  \n",
       "2                   [0.0]                          0.0  \n",
       "3                   [0.0]                          0.0  \n",
       "4                   [0.0]                          0.0  "
      ]
     },
     "execution_count": 39,
     "metadata": {},
     "output_type": "execute_result"
    }
   ],
   "source": [
    "not_normalized_queries_add_molprof_df = transform_df_mp_score_sum(\n",
    "    not_normalized_queries_add_molprof_df\n",
    ")\n",
    "not_normalized_queries_add_molprof_df.head()"
   ]
  },
  {
   "cell_type": "markdown",
   "metadata": {},
   "source": [
    "# <a id='toc5_'></a>[Analysis of Not Supported Variants](#toc0_)"
   ]
  },
  {
   "cell_type": "markdown",
   "metadata": {},
   "source": [
    "### <a id='toc5_1_1_'></a>[List of Not Supported Variant ID's](#toc0_)"
   ]
  },
  {
   "cell_type": "code",
   "execution_count": 40,
   "metadata": {},
   "outputs": [
    {
     "data": {
      "text/html": [
       "<div>\n",
       "<style scoped>\n",
       "    .dataframe tbody tr th:only-of-type {\n",
       "        vertical-align: middle;\n",
       "    }\n",
       "\n",
       "    .dataframe tbody tr th {\n",
       "        vertical-align: top;\n",
       "    }\n",
       "\n",
       "    .dataframe thead th {\n",
       "        text-align: right;\n",
       "    }\n",
       "</style>\n",
       "<table border=\"1\" class=\"dataframe\">\n",
       "  <thead>\n",
       "    <tr style=\"text-align: right;\">\n",
       "      <th></th>\n",
       "      <th>variant_id</th>\n",
       "      <th>gene_name</th>\n",
       "      <th>variant_name</th>\n",
       "      <th>civic_variant_types</th>\n",
       "      <th>category</th>\n",
       "      <th>variant_accepted</th>\n",
       "    </tr>\n",
       "  </thead>\n",
       "  <tbody>\n",
       "    <tr>\n",
       "      <th>0</th>\n",
       "      <td>4170</td>\n",
       "      <td>VHL</td>\n",
       "      <td>NaN</td>\n",
       "      <td>NaN</td>\n",
       "      <td>Transcript Variant</td>\n",
       "      <td>False</td>\n",
       "    </tr>\n",
       "    <tr>\n",
       "      <th>1</th>\n",
       "      <td>4417</td>\n",
       "      <td>ALK</td>\n",
       "      <td>FBXO11::ALK</td>\n",
       "      <td>NaN</td>\n",
       "      <td>Fusion</td>\n",
       "      <td>False</td>\n",
       "    </tr>\n",
       "    <tr>\n",
       "      <th>2</th>\n",
       "      <td>4214</td>\n",
       "      <td>VHL</td>\n",
       "      <td>NaN</td>\n",
       "      <td>NaN</td>\n",
       "      <td>Transcript Variant</td>\n",
       "      <td>False</td>\n",
       "    </tr>\n",
       "    <tr>\n",
       "      <th>3</th>\n",
       "      <td>4216</td>\n",
       "      <td>VHL</td>\n",
       "      <td>NaN</td>\n",
       "      <td>NaN</td>\n",
       "      <td>Transcript Variant</td>\n",
       "      <td>False</td>\n",
       "    </tr>\n",
       "    <tr>\n",
       "      <th>4</th>\n",
       "      <td>4278</td>\n",
       "      <td>VHL</td>\n",
       "      <td>NaN</td>\n",
       "      <td>NaN</td>\n",
       "      <td>Transcript Variant</td>\n",
       "      <td>False</td>\n",
       "    </tr>\n",
       "  </tbody>\n",
       "</table>\n",
       "</div>"
      ],
      "text/plain": [
       "   variant_id gene_name  variant_name civic_variant_types            category   \n",
       "0        4170       VHL           NaN                 NaN  Transcript Variant  \\\n",
       "1        4417       ALK   FBXO11::ALK                 NaN              Fusion   \n",
       "2        4214       VHL           NaN                 NaN  Transcript Variant   \n",
       "3        4216       VHL           NaN                 NaN  Transcript Variant   \n",
       "4        4278       VHL           NaN                 NaN  Transcript Variant   \n",
       "\n",
       "   variant_accepted  \n",
       "0             False  \n",
       "1             False  \n",
       "2             False  \n",
       "3             False  \n",
       "4             False  "
      ]
     },
     "execution_count": 40,
     "metadata": {},
     "output_type": "execute_result"
    }
   ],
   "source": [
    "not_supported_queries_df = pd.read_csv(\"not_supported_variants.csv\", sep=\"\\t\")\n",
    "not_supported_queries_df.head()"
   ]
  },
  {
   "cell_type": "markdown",
   "metadata": {},
   "source": [
    "## <a id='toc5_2_'></a>[Variant Analysis](#toc0_)"
   ]
  },
  {
   "cell_type": "code",
   "execution_count": 41,
   "metadata": {},
   "outputs": [
    {
     "name": "stdout",
     "output_type": "stream",
     "text": [
      "\n",
      "Number of Not Supported Variants in CIViC: 1563 / 3519\n",
      "Percentage of Not Supported Variants in CIViC: 44.42%\n",
      "\n",
      "Number of accepted Not Supported Variants: 790 / 1563\n",
      "Percentage of accepted Not Supported Variants: 50.54%\n",
      "\n",
      "Number of not accepted Not Supported Variants: 773 / 1563\n",
      "Percentage of not accepted Not Supported Variants: 49.46%\n"
     ]
    },
    {
     "data": {
      "text/html": [
       "<div>\n",
       "<style scoped>\n",
       "    .dataframe tbody tr th:only-of-type {\n",
       "        vertical-align: middle;\n",
       "    }\n",
       "\n",
       "    .dataframe tbody tr th {\n",
       "        vertical-align: top;\n",
       "    }\n",
       "\n",
       "    .dataframe thead th {\n",
       "        text-align: right;\n",
       "    }\n",
       "</style>\n",
       "<table border=\"1\" class=\"dataframe\">\n",
       "  <thead>\n",
       "    <tr style=\"text-align: right;\">\n",
       "      <th></th>\n",
       "      <th>variant_id</th>\n",
       "      <th>gene_name</th>\n",
       "      <th>variant_name</th>\n",
       "      <th>civic_variant_types</th>\n",
       "      <th>category</th>\n",
       "      <th>variant_accepted</th>\n",
       "    </tr>\n",
       "  </thead>\n",
       "  <tbody>\n",
       "    <tr>\n",
       "      <th>0</th>\n",
       "      <td>4170</td>\n",
       "      <td>VHL</td>\n",
       "      <td>NaN</td>\n",
       "      <td>NaN</td>\n",
       "      <td>Transcript Variant</td>\n",
       "      <td>False</td>\n",
       "    </tr>\n",
       "    <tr>\n",
       "      <th>1</th>\n",
       "      <td>4417</td>\n",
       "      <td>ALK</td>\n",
       "      <td>FBXO11::ALK</td>\n",
       "      <td>NaN</td>\n",
       "      <td>Fusion</td>\n",
       "      <td>False</td>\n",
       "    </tr>\n",
       "    <tr>\n",
       "      <th>2</th>\n",
       "      <td>4214</td>\n",
       "      <td>VHL</td>\n",
       "      <td>NaN</td>\n",
       "      <td>NaN</td>\n",
       "      <td>Transcript Variant</td>\n",
       "      <td>False</td>\n",
       "    </tr>\n",
       "    <tr>\n",
       "      <th>3</th>\n",
       "      <td>4216</td>\n",
       "      <td>VHL</td>\n",
       "      <td>NaN</td>\n",
       "      <td>NaN</td>\n",
       "      <td>Transcript Variant</td>\n",
       "      <td>False</td>\n",
       "    </tr>\n",
       "    <tr>\n",
       "      <th>4</th>\n",
       "      <td>4278</td>\n",
       "      <td>VHL</td>\n",
       "      <td>NaN</td>\n",
       "      <td>NaN</td>\n",
       "      <td>Transcript Variant</td>\n",
       "      <td>False</td>\n",
       "    </tr>\n",
       "  </tbody>\n",
       "</table>\n",
       "</div>"
      ],
      "text/plain": [
       "   variant_id gene_name  variant_name civic_variant_types            category   \n",
       "0        4170       VHL           NaN                 NaN  Transcript Variant  \\\n",
       "1        4417       ALK   FBXO11::ALK                 NaN              Fusion   \n",
       "2        4214       VHL           NaN                 NaN  Transcript Variant   \n",
       "3        4216       VHL           NaN                 NaN  Transcript Variant   \n",
       "4        4278       VHL           NaN                 NaN  Transcript Variant   \n",
       "\n",
       "   variant_accepted  \n",
       "0             False  \n",
       "1             False  \n",
       "2             False  \n",
       "3             False  \n",
       "4             False  "
      ]
     },
     "execution_count": 41,
     "metadata": {},
     "output_type": "execute_result"
    }
   ],
   "source": [
    "not_supported_queries_df = variant_analysis(\n",
    "    not_supported_queries_df, VariantNormType.NOT_SUPPORTED\n",
    ")\n",
    "not_supported_queries_df.head()"
   ]
  },
  {
   "cell_type": "code",
   "execution_count": 42,
   "metadata": {},
   "outputs": [
    {
     "data": {
      "text/plain": [
       "variant_accepted\n",
       "True     790\n",
       "False    773\n",
       "Name: count, dtype: int64"
      ]
     },
     "execution_count": 42,
     "metadata": {},
     "output_type": "execute_result"
    }
   ],
   "source": [
    "not_supported_queries_df[\"variant_accepted\"].value_counts()"
   ]
  },
  {
   "cell_type": "markdown",
   "metadata": {},
   "source": [
    "### <a id='toc5_2_1_'></a>[Not Supported Variant Analysis by Subcategory](#toc0_)"
   ]
  },
  {
   "cell_type": "code",
   "execution_count": 43,
   "metadata": {},
   "outputs": [],
   "source": [
    "not_supported_variant_analysis_summary = {\n",
    "    \"Category\": VARIANT_CATEGORY_VALUES,\n",
    "    \"Count of CIViC Variant Items per Category\": [],\n",
    "    \"Fraction of Not Supported Variant Items\": [],\n",
    "    \"Percent of Not Supported Variant Items\": [],\n",
    "    \"Fraction of all CIViC Variant Items\": [],\n",
    "    \"Percent of all CIViC Variant Items\": [],\n",
    "    \"Fraction of Accepted Variant Items\": [],\n",
    "    \"Percent of Accepted Variant Items\": [],\n",
    "    \"Fraction of Not Accepted Variant Items\": [],\n",
    "    \"Percent of Not Accepted Variant Items\": [],\n",
    "}"
   ]
  },
  {
   "cell_type": "code",
   "execution_count": 44,
   "metadata": {},
   "outputs": [],
   "source": [
    "not_supported_variant_categories_summary_data = dict()\n",
    "total_number_unique_not_supported_variants = len(\n",
    "    set(not_supported_queries_df.variant_id)\n",
    ")\n",
    "\n",
    "for category in VARIANT_CATEGORY_VALUES:  # These are not supported categories\n",
    "    not_supported_variant_categories_summary_data[category] = {}\n",
    "    category_df = not_supported_queries_df[\n",
    "        not_supported_queries_df.category == category\n",
    "    ]\n",
    "\n",
    "    # Count\n",
    "    number_unique_not_supported_category_variants = len(set(category_df.variant_id))\n",
    "    not_supported_variant_categories_summary_data[category][\n",
    "        \"number_unique_not_supported_category_variants\"\n",
    "    ] = number_unique_not_supported_category_variants\n",
    "\n",
    "    # Fraction\n",
    "    fraction_not_supported_category_variant_of_civic = (\n",
    "        f\"{number_unique_not_supported_category_variants} / {total_number_variants}\"\n",
    "    )\n",
    "    not_supported_variant_categories_summary_data[category][\n",
    "        \"fraction_not_supported_category_variant_of_civic\"\n",
    "    ] = fraction_not_supported_category_variant_of_civic\n",
    "\n",
    "    # Percent\n",
    "    percent_not_supported_category_variant_of_civic = f\"{number_unique_not_supported_category_variants / total_number_variants * 100:.2f}%\"\n",
    "    not_supported_variant_categories_summary_data[category][\n",
    "        \"percent_not_supported_category_variant_of_civic\"\n",
    "    ] = percent_not_supported_category_variant_of_civic\n",
    "\n",
    "    # Not supported fraction\n",
    "    fraction_not_supported_category_variant_of_total_not_supported = f\"{number_unique_not_supported_category_variants} / {total_number_unique_not_supported_variants}\"\n",
    "    not_supported_variant_categories_summary_data[category][\n",
    "        \"fraction_not_supported_category_variant_of_total_not_supported\"\n",
    "    ] = fraction_not_supported_category_variant_of_total_not_supported\n",
    "\n",
    "    # Not supported percent\n",
    "    percent_not_supported_category_variant_of_total_not_supported = f\"{number_unique_not_supported_category_variants / total_number_unique_not_supported_variants * 100:.2f}%\"\n",
    "    not_supported_variant_categories_summary_data[category][\n",
    "        \"percent_not_supported_category_variant_of_total_not_supported\"\n",
    "    ] = percent_not_supported_category_variant_of_total_not_supported\n",
    "\n",
    "    # Accepted fraction\n",
    "    number_accepted_not_supported_category_variants = category_df.variant_accepted.sum()\n",
    "    fraction_accepted_not_supported_category_variants = f\"{number_accepted_not_supported_category_variants} / {number_unique_not_supported_category_variants}\"\n",
    "    not_supported_variant_categories_summary_data[category][\n",
    "        \"fraction_accepted_not_supported_category_variants\"\n",
    "    ] = fraction_accepted_not_supported_category_variants\n",
    "\n",
    "    # Accepted percent\n",
    "    percentage_accepted_not_supported_category_variants = f\"{number_accepted_not_supported_category_variants / number_unique_not_supported_category_variants * 100:.2f}%\"\n",
    "    not_supported_variant_categories_summary_data[category][\n",
    "        \"percentage_accepted_not_supported_category_variants\"\n",
    "    ] = percentage_accepted_not_supported_category_variants\n",
    "\n",
    "    # Not accepted fraction\n",
    "    number_not_accepted_not_supported_category_variants = (\n",
    "        len(category_df) - number_accepted_not_supported_category_variants\n",
    "    )\n",
    "    fraction_not_accepted_not_supported_category_variants = f\" {number_not_accepted_not_supported_category_variants} / {number_unique_not_supported_category_variants}\"\n",
    "    not_supported_variant_categories_summary_data[category][\n",
    "        \"fraction_not_accepted_not_supported_category_variants\"\n",
    "    ] = fraction_not_accepted_not_supported_category_variants\n",
    "\n",
    "    # Not accepted percent\n",
    "    percentage_not_accepted_not_supported_category_variants = f\"{number_not_accepted_not_supported_category_variants / number_unique_not_supported_category_variants * 100:.2f}%\"\n",
    "    not_supported_variant_categories_summary_data[category][\n",
    "        \"percentage_not_accepted_not_supported_category_variants\"\n",
    "    ] = percentage_not_accepted_not_supported_category_variants\n",
    "\n",
    "    not_supported_variant_analysis_summary[\n",
    "        \"Count of CIViC Variant Items per Category\"\n",
    "    ].append(number_unique_not_supported_category_variants)\n",
    "    not_supported_variant_analysis_summary[\n",
    "        \"Fraction of all CIViC Variant Items\"\n",
    "    ].append(fraction_not_supported_category_variant_of_civic)\n",
    "    not_supported_variant_analysis_summary[\"Percent of all CIViC Variant Items\"].append(\n",
    "        percent_not_supported_category_variant_of_civic\n",
    "    )\n",
    "    not_supported_variant_analysis_summary[\n",
    "        \"Fraction of Not Supported Variant Items\"\n",
    "    ].append(fraction_not_supported_category_variant_of_total_not_supported)\n",
    "    not_supported_variant_analysis_summary[\n",
    "        \"Percent of Not Supported Variant Items\"\n",
    "    ].append(percent_not_supported_category_variant_of_total_not_supported)\n",
    "    not_supported_variant_analysis_summary[\"Fraction of Accepted Variant Items\"].append(\n",
    "        fraction_accepted_not_supported_category_variants\n",
    "    )\n",
    "    not_supported_variant_analysis_summary[\"Percent of Accepted Variant Items\"].append(\n",
    "        percentage_accepted_not_supported_category_variants\n",
    "    )\n",
    "    not_supported_variant_analysis_summary[\n",
    "        \"Fraction of Not Accepted Variant Items\"\n",
    "    ].append(fraction_not_accepted_not_supported_category_variants)\n",
    "    not_supported_variant_analysis_summary[\n",
    "        \"Percent of Not Accepted Variant Items\"\n",
    "    ].append(percentage_not_accepted_not_supported_category_variants)"
   ]
  },
  {
   "cell_type": "markdown",
   "metadata": {},
   "source": [
    "## <a id='toc5_3_'></a>[Transform df for evidence analysis](#toc0_)"
   ]
  },
  {
   "cell_type": "code",
   "execution_count": 45,
   "metadata": {},
   "outputs": [
    {
     "data": {
      "text/html": [
       "<div>\n",
       "<style scoped>\n",
       "    .dataframe tbody tr th:only-of-type {\n",
       "        vertical-align: middle;\n",
       "    }\n",
       "\n",
       "    .dataframe tbody tr th {\n",
       "        vertical-align: top;\n",
       "    }\n",
       "\n",
       "    .dataframe thead th {\n",
       "        text-align: right;\n",
       "    }\n",
       "</style>\n",
       "<table border=\"1\" class=\"dataframe\">\n",
       "  <thead>\n",
       "    <tr style=\"text-align: right;\">\n",
       "      <th></th>\n",
       "      <th>variant_id</th>\n",
       "      <th>gene_name</th>\n",
       "      <th>variant_name</th>\n",
       "      <th>civic_variant_types</th>\n",
       "      <th>category</th>\n",
       "      <th>variant_accepted</th>\n",
       "      <th>evidence_id</th>\n",
       "    </tr>\n",
       "  </thead>\n",
       "  <tbody>\n",
       "    <tr>\n",
       "      <th>0</th>\n",
       "      <td>4170</td>\n",
       "      <td>VHL</td>\n",
       "      <td>NaN</td>\n",
       "      <td>NaN</td>\n",
       "      <td>Transcript Variant</td>\n",
       "      <td>False</td>\n",
       "      <td>10647</td>\n",
       "    </tr>\n",
       "    <tr>\n",
       "      <th>1</th>\n",
       "      <td>4417</td>\n",
       "      <td>ALK</td>\n",
       "      <td>FBXO11::ALK</td>\n",
       "      <td>NaN</td>\n",
       "      <td>Fusion</td>\n",
       "      <td>False</td>\n",
       "      <td>7428</td>\n",
       "    </tr>\n",
       "    <tr>\n",
       "      <th>2</th>\n",
       "      <td>4214</td>\n",
       "      <td>VHL</td>\n",
       "      <td>NaN</td>\n",
       "      <td>NaN</td>\n",
       "      <td>Transcript Variant</td>\n",
       "      <td>False</td>\n",
       "      <td>10752</td>\n",
       "    </tr>\n",
       "    <tr>\n",
       "      <th>3</th>\n",
       "      <td>4216</td>\n",
       "      <td>VHL</td>\n",
       "      <td>NaN</td>\n",
       "      <td>NaN</td>\n",
       "      <td>Transcript Variant</td>\n",
       "      <td>False</td>\n",
       "      <td>10754</td>\n",
       "    </tr>\n",
       "    <tr>\n",
       "      <th>4</th>\n",
       "      <td>4278</td>\n",
       "      <td>VHL</td>\n",
       "      <td>NaN</td>\n",
       "      <td>NaN</td>\n",
       "      <td>Transcript Variant</td>\n",
       "      <td>False</td>\n",
       "      <td>10958</td>\n",
       "    </tr>\n",
       "  </tbody>\n",
       "</table>\n",
       "</div>"
      ],
      "text/plain": [
       "   variant_id gene_name  variant_name civic_variant_types            category   \n",
       "0        4170       VHL           NaN                 NaN  Transcript Variant  \\\n",
       "1        4417       ALK   FBXO11::ALK                 NaN              Fusion   \n",
       "2        4214       VHL           NaN                 NaN  Transcript Variant   \n",
       "3        4216       VHL           NaN                 NaN  Transcript Variant   \n",
       "4        4278       VHL           NaN                 NaN  Transcript Variant   \n",
       "\n",
       "   variant_accepted evidence_id  \n",
       "0             False       10647  \n",
       "1             False        7428  \n",
       "2             False       10752  \n",
       "3             False       10754  \n",
       "4             False       10958  "
      ]
     },
     "execution_count": 45,
     "metadata": {},
     "output_type": "execute_result"
    }
   ],
   "source": [
    "not_supported_variants_add_evidence_df = transform_df_evidence_ids(\n",
    "    not_supported_queries_df\n",
    ")\n",
    "not_supported_variants_add_evidence_df.head()"
   ]
  },
  {
   "cell_type": "markdown",
   "metadata": {},
   "source": [
    "There are no variants without evidence items"
   ]
  },
  {
   "cell_type": "code",
   "execution_count": 46,
   "metadata": {},
   "outputs": [
    {
     "data": {
      "text/html": [
       "<div>\n",
       "<style scoped>\n",
       "    .dataframe tbody tr th:only-of-type {\n",
       "        vertical-align: middle;\n",
       "    }\n",
       "\n",
       "    .dataframe tbody tr th {\n",
       "        vertical-align: top;\n",
       "    }\n",
       "\n",
       "    .dataframe thead th {\n",
       "        text-align: right;\n",
       "    }\n",
       "</style>\n",
       "<table border=\"1\" class=\"dataframe\">\n",
       "  <thead>\n",
       "    <tr style=\"text-align: right;\">\n",
       "      <th></th>\n",
       "      <th>variant_id</th>\n",
       "      <th>gene_name</th>\n",
       "      <th>variant_name</th>\n",
       "      <th>civic_variant_types</th>\n",
       "      <th>category</th>\n",
       "      <th>variant_accepted</th>\n",
       "      <th>evidence_id</th>\n",
       "    </tr>\n",
       "  </thead>\n",
       "  <tbody>\n",
       "  </tbody>\n",
       "</table>\n",
       "</div>"
      ],
      "text/plain": [
       "Empty DataFrame\n",
       "Columns: [variant_id, gene_name, variant_name, civic_variant_types, category, variant_accepted, evidence_id]\n",
       "Index: []"
      ]
     },
     "execution_count": 46,
     "metadata": {},
     "output_type": "execute_result"
    }
   ],
   "source": [
    "not_supported_variants_add_evidence_df.loc[\n",
    "    not_supported_variants_add_evidence_df[\"evidence_id\"] == \"\"\n",
    "]"
   ]
  },
  {
   "cell_type": "code",
   "execution_count": 47,
   "metadata": {},
   "outputs": [
    {
     "data": {
      "text/html": [
       "<div>\n",
       "<style scoped>\n",
       "    .dataframe tbody tr th:only-of-type {\n",
       "        vertical-align: middle;\n",
       "    }\n",
       "\n",
       "    .dataframe tbody tr th {\n",
       "        vertical-align: top;\n",
       "    }\n",
       "\n",
       "    .dataframe thead th {\n",
       "        text-align: right;\n",
       "    }\n",
       "</style>\n",
       "<table border=\"1\" class=\"dataframe\">\n",
       "  <thead>\n",
       "    <tr style=\"text-align: right;\">\n",
       "      <th></th>\n",
       "      <th>variant_id</th>\n",
       "      <th>gene_name</th>\n",
       "      <th>variant_name</th>\n",
       "      <th>civic_variant_types</th>\n",
       "      <th>category</th>\n",
       "      <th>variant_accepted</th>\n",
       "      <th>evidence_id</th>\n",
       "      <th>evidence_status</th>\n",
       "      <th>evidence_rating</th>\n",
       "      <th>evidence_level</th>\n",
       "    </tr>\n",
       "  </thead>\n",
       "  <tbody>\n",
       "    <tr>\n",
       "      <th>0</th>\n",
       "      <td>4170</td>\n",
       "      <td>VHL</td>\n",
       "      <td>NaN</td>\n",
       "      <td>NaN</td>\n",
       "      <td>Transcript Variant</td>\n",
       "      <td>False</td>\n",
       "      <td>10647</td>\n",
       "      <td>submitted</td>\n",
       "      <td>[2]</td>\n",
       "      <td>[C]</td>\n",
       "    </tr>\n",
       "    <tr>\n",
       "      <th>1</th>\n",
       "      <td>4417</td>\n",
       "      <td>ALK</td>\n",
       "      <td>FBXO11::ALK</td>\n",
       "      <td>NaN</td>\n",
       "      <td>Fusion</td>\n",
       "      <td>False</td>\n",
       "      <td>7428</td>\n",
       "      <td>submitted</td>\n",
       "      <td>[3]</td>\n",
       "      <td>[C]</td>\n",
       "    </tr>\n",
       "    <tr>\n",
       "      <th>2</th>\n",
       "      <td>4214</td>\n",
       "      <td>VHL</td>\n",
       "      <td>NaN</td>\n",
       "      <td>NaN</td>\n",
       "      <td>Transcript Variant</td>\n",
       "      <td>False</td>\n",
       "      <td>10752</td>\n",
       "      <td>submitted</td>\n",
       "      <td>[3]</td>\n",
       "      <td>[C]</td>\n",
       "    </tr>\n",
       "    <tr>\n",
       "      <th>3</th>\n",
       "      <td>4216</td>\n",
       "      <td>VHL</td>\n",
       "      <td>NaN</td>\n",
       "      <td>NaN</td>\n",
       "      <td>Transcript Variant</td>\n",
       "      <td>False</td>\n",
       "      <td>10754</td>\n",
       "      <td>submitted</td>\n",
       "      <td>[3]</td>\n",
       "      <td>[C]</td>\n",
       "    </tr>\n",
       "    <tr>\n",
       "      <th>4</th>\n",
       "      <td>4278</td>\n",
       "      <td>VHL</td>\n",
       "      <td>NaN</td>\n",
       "      <td>NaN</td>\n",
       "      <td>Transcript Variant</td>\n",
       "      <td>False</td>\n",
       "      <td>10958</td>\n",
       "      <td>submitted</td>\n",
       "      <td>[3]</td>\n",
       "      <td>[C]</td>\n",
       "    </tr>\n",
       "  </tbody>\n",
       "</table>\n",
       "</div>"
      ],
      "text/plain": [
       "   variant_id gene_name  variant_name civic_variant_types            category   \n",
       "0        4170       VHL           NaN                 NaN  Transcript Variant  \\\n",
       "1        4417       ALK   FBXO11::ALK                 NaN              Fusion   \n",
       "2        4214       VHL           NaN                 NaN  Transcript Variant   \n",
       "3        4216       VHL           NaN                 NaN  Transcript Variant   \n",
       "4        4278       VHL           NaN                 NaN  Transcript Variant   \n",
       "\n",
       "   variant_accepted evidence_id evidence_status evidence_rating evidence_level  \n",
       "0             False       10647       submitted             [2]            [C]  \n",
       "1             False        7428       submitted             [3]            [C]  \n",
       "2             False       10752       submitted             [3]            [C]  \n",
       "3             False       10754       submitted             [3]            [C]  \n",
       "4             False       10958       submitted             [3]            [C]  "
      ]
     },
     "execution_count": 47,
     "metadata": {},
     "output_type": "execute_result"
    }
   ],
   "source": [
    "not_supported_variants_add_evidence_df = transform_df_evidence(\n",
    "    not_supported_variants_add_evidence_df\n",
    ")\n",
    "not_supported_variants_add_evidence_df.head()"
   ]
  },
  {
   "cell_type": "markdown",
   "metadata": {},
   "source": [
    "## <a id='toc5_4_'></a>[Evidence analysis](#toc0_)"
   ]
  },
  {
   "cell_type": "code",
   "execution_count": 48,
   "metadata": {},
   "outputs": [
    {
     "name": "stdout",
     "output_type": "stream",
     "text": [
      "Number of Not Supported Variant Evidence items in CIViC: 4243 / 9920\n",
      "Percentage of Not Supported Variant Evidence items in CIViC: 42.77%\n",
      "\n",
      "Number of accepted Not Supported Variant Evidence items: 2231 / 4243\n",
      "Percentage of accepted Not Supported Variant Evidence items: 52.58%\n",
      "\n",
      "Number of submitted Not Supported Variant Evidence items: 2049 / 4243\n",
      "Percentage of not submitted Not Supported Variant Evidence items: 48.29%\n"
     ]
    },
    {
     "data": {
      "text/html": [
       "<div>\n",
       "<style scoped>\n",
       "    .dataframe tbody tr th:only-of-type {\n",
       "        vertical-align: middle;\n",
       "    }\n",
       "\n",
       "    .dataframe tbody tr th {\n",
       "        vertical-align: top;\n",
       "    }\n",
       "\n",
       "    .dataframe thead th {\n",
       "        text-align: right;\n",
       "    }\n",
       "</style>\n",
       "<table border=\"1\" class=\"dataframe\">\n",
       "  <thead>\n",
       "    <tr style=\"text-align: right;\">\n",
       "      <th></th>\n",
       "      <th>variant_id</th>\n",
       "      <th>gene_name</th>\n",
       "      <th>variant_name</th>\n",
       "      <th>civic_variant_types</th>\n",
       "      <th>category</th>\n",
       "      <th>variant_accepted</th>\n",
       "      <th>evidence_id</th>\n",
       "      <th>evidence_status</th>\n",
       "      <th>evidence_rating</th>\n",
       "      <th>evidence_level</th>\n",
       "      <th>evidence_accepted</th>\n",
       "    </tr>\n",
       "  </thead>\n",
       "  <tbody>\n",
       "    <tr>\n",
       "      <th>0</th>\n",
       "      <td>4170</td>\n",
       "      <td>VHL</td>\n",
       "      <td>NaN</td>\n",
       "      <td>NaN</td>\n",
       "      <td>Transcript Variant</td>\n",
       "      <td>False</td>\n",
       "      <td>10647</td>\n",
       "      <td>submitted</td>\n",
       "      <td>[2]</td>\n",
       "      <td>[C]</td>\n",
       "      <td>False</td>\n",
       "    </tr>\n",
       "    <tr>\n",
       "      <th>1</th>\n",
       "      <td>4417</td>\n",
       "      <td>ALK</td>\n",
       "      <td>FBXO11::ALK</td>\n",
       "      <td>NaN</td>\n",
       "      <td>Fusion</td>\n",
       "      <td>False</td>\n",
       "      <td>7428</td>\n",
       "      <td>submitted</td>\n",
       "      <td>[3]</td>\n",
       "      <td>[C]</td>\n",
       "      <td>False</td>\n",
       "    </tr>\n",
       "    <tr>\n",
       "      <th>2</th>\n",
       "      <td>4214</td>\n",
       "      <td>VHL</td>\n",
       "      <td>NaN</td>\n",
       "      <td>NaN</td>\n",
       "      <td>Transcript Variant</td>\n",
       "      <td>False</td>\n",
       "      <td>10752</td>\n",
       "      <td>submitted</td>\n",
       "      <td>[3]</td>\n",
       "      <td>[C]</td>\n",
       "      <td>False</td>\n",
       "    </tr>\n",
       "    <tr>\n",
       "      <th>3</th>\n",
       "      <td>4216</td>\n",
       "      <td>VHL</td>\n",
       "      <td>NaN</td>\n",
       "      <td>NaN</td>\n",
       "      <td>Transcript Variant</td>\n",
       "      <td>False</td>\n",
       "      <td>10754</td>\n",
       "      <td>submitted</td>\n",
       "      <td>[3]</td>\n",
       "      <td>[C]</td>\n",
       "      <td>False</td>\n",
       "    </tr>\n",
       "    <tr>\n",
       "      <th>4</th>\n",
       "      <td>4278</td>\n",
       "      <td>VHL</td>\n",
       "      <td>NaN</td>\n",
       "      <td>NaN</td>\n",
       "      <td>Transcript Variant</td>\n",
       "      <td>False</td>\n",
       "      <td>10958</td>\n",
       "      <td>submitted</td>\n",
       "      <td>[3]</td>\n",
       "      <td>[C]</td>\n",
       "      <td>False</td>\n",
       "    </tr>\n",
       "  </tbody>\n",
       "</table>\n",
       "</div>"
      ],
      "text/plain": [
       "   variant_id gene_name  variant_name civic_variant_types            category   \n",
       "0        4170       VHL           NaN                 NaN  Transcript Variant  \\\n",
       "1        4417       ALK   FBXO11::ALK                 NaN              Fusion   \n",
       "2        4214       VHL           NaN                 NaN  Transcript Variant   \n",
       "3        4216       VHL           NaN                 NaN  Transcript Variant   \n",
       "4        4278       VHL           NaN                 NaN  Transcript Variant   \n",
       "\n",
       "   variant_accepted evidence_id evidence_status evidence_rating   \n",
       "0             False       10647       submitted             [2]  \\\n",
       "1             False        7428       submitted             [3]   \n",
       "2             False       10752       submitted             [3]   \n",
       "3             False       10754       submitted             [3]   \n",
       "4             False       10958       submitted             [3]   \n",
       "\n",
       "  evidence_level  evidence_accepted  \n",
       "0            [C]              False  \n",
       "1            [C]              False  \n",
       "2            [C]              False  \n",
       "3            [C]              False  \n",
       "4            [C]              False  "
      ]
     },
     "execution_count": 48,
     "metadata": {},
     "output_type": "execute_result"
    }
   ],
   "source": [
    "not_supported_variants_add_evidence_df = evidence_analysis1(\n",
    "    not_supported_variants_add_evidence_df, VariantNormType.NOT_SUPPORTED\n",
    ")\n",
    "not_supported_variants_add_evidence_df.head()"
   ]
  },
  {
   "cell_type": "markdown",
   "metadata": {},
   "source": [
    "### <a id='toc5_4_1_'></a>[Not Supported Variant Evidence Analysis by Subcategory](#toc0_)"
   ]
  },
  {
   "cell_type": "markdown",
   "metadata": {},
   "source": [
    " List all the possible variant categories, have to use non unique file since evidence items are used more than once across groups\n"
   ]
  },
  {
   "cell_type": "code",
   "execution_count": 49,
   "metadata": {},
   "outputs": [
    {
     "data": {
      "text/plain": [
       "['Transcript Variant',\n",
       " 'Fusion',\n",
       " 'Region Defined Variant',\n",
       " 'Protein Consequence',\n",
       " 'Other',\n",
       " 'Rearrangements',\n",
       " 'Copy Number',\n",
       " 'Gene Function',\n",
       " 'Expression',\n",
       " 'Genotypes Compound',\n",
       " 'Epigenetic Modification',\n",
       " 'Genotypes Easy']"
      ]
     },
     "execution_count": 49,
     "metadata": {},
     "output_type": "execute_result"
    }
   ],
   "source": [
    "not_supported_variant_categories = (\n",
    "    not_supported_variants_add_evidence_df.category.unique()\n",
    ")\n",
    "[v for v in not_supported_variant_categories]"
   ]
  },
  {
   "cell_type": "markdown",
   "metadata": {},
   "source": [
    "Evidence items may be used across multiple variants"
   ]
  },
  {
   "cell_type": "code",
   "execution_count": 50,
   "metadata": {},
   "outputs": [
    {
     "data": {
      "text/html": [
       "<div>\n",
       "<style scoped>\n",
       "    .dataframe tbody tr th:only-of-type {\n",
       "        vertical-align: middle;\n",
       "    }\n",
       "\n",
       "    .dataframe tbody tr th {\n",
       "        vertical-align: top;\n",
       "    }\n",
       "\n",
       "    .dataframe thead th {\n",
       "        text-align: right;\n",
       "    }\n",
       "</style>\n",
       "<table border=\"1\" class=\"dataframe\">\n",
       "  <thead>\n",
       "    <tr style=\"text-align: right;\">\n",
       "      <th></th>\n",
       "      <th>variant_id</th>\n",
       "      <th>gene_name</th>\n",
       "      <th>variant_name</th>\n",
       "      <th>civic_variant_types</th>\n",
       "      <th>category</th>\n",
       "      <th>variant_accepted</th>\n",
       "      <th>evidence_id</th>\n",
       "      <th>evidence_status</th>\n",
       "      <th>evidence_rating</th>\n",
       "      <th>evidence_level</th>\n",
       "      <th>evidence_accepted</th>\n",
       "    </tr>\n",
       "  </thead>\n",
       "  <tbody>\n",
       "    <tr>\n",
       "      <th>52</th>\n",
       "      <td>1</td>\n",
       "      <td>ABL1</td>\n",
       "      <td>BCR::ABL</td>\n",
       "      <td>Transcript Fusion</td>\n",
       "      <td>Fusion</td>\n",
       "      <td>True</td>\n",
       "      <td>11341</td>\n",
       "      <td>submitted</td>\n",
       "      <td>[4]</td>\n",
       "      <td>[A]</td>\n",
       "      <td>False</td>\n",
       "    </tr>\n",
       "    <tr>\n",
       "      <th>112</th>\n",
       "      <td>4497</td>\n",
       "      <td>FGFR1</td>\n",
       "      <td>BCR::FGFR1</td>\n",
       "      <td>NaN</td>\n",
       "      <td>Fusion</td>\n",
       "      <td>False</td>\n",
       "      <td>11324</td>\n",
       "      <td>submitted</td>\n",
       "      <td>[3]</td>\n",
       "      <td>[B]</td>\n",
       "      <td>False</td>\n",
       "    </tr>\n",
       "    <tr>\n",
       "      <th>176</th>\n",
       "      <td>437</td>\n",
       "      <td>FLT3</td>\n",
       "      <td>D835</td>\n",
       "      <td>Protein Altering Variant</td>\n",
       "      <td>Protein Consequence</td>\n",
       "      <td>True</td>\n",
       "      <td>11260</td>\n",
       "      <td>submitted</td>\n",
       "      <td>[4]</td>\n",
       "      <td>[A]</td>\n",
       "      <td>False</td>\n",
       "    </tr>\n",
       "    <tr>\n",
       "      <th>176</th>\n",
       "      <td>437</td>\n",
       "      <td>FLT3</td>\n",
       "      <td>D835</td>\n",
       "      <td>Protein Altering Variant</td>\n",
       "      <td>Protein Consequence</td>\n",
       "      <td>True</td>\n",
       "      <td>11261</td>\n",
       "      <td>submitted</td>\n",
       "      <td>[4]</td>\n",
       "      <td>[A]</td>\n",
       "      <td>False</td>\n",
       "    </tr>\n",
       "    <tr>\n",
       "      <th>198</th>\n",
       "      <td>200</td>\n",
       "      <td>IKZF1</td>\n",
       "      <td>Deletion</td>\n",
       "      <td>Transcript Ablation</td>\n",
       "      <td>Gene Function</td>\n",
       "      <td>True</td>\n",
       "      <td>7786</td>\n",
       "      <td>submitted</td>\n",
       "      <td>[5]</td>\n",
       "      <td>[B]</td>\n",
       "      <td>False</td>\n",
       "    </tr>\n",
       "    <tr>\n",
       "      <th>...</th>\n",
       "      <td>...</td>\n",
       "      <td>...</td>\n",
       "      <td>...</td>\n",
       "      <td>...</td>\n",
       "      <td>...</td>\n",
       "      <td>...</td>\n",
       "      <td>...</td>\n",
       "      <td>...</td>\n",
       "      <td>...</td>\n",
       "      <td>...</td>\n",
       "      <td>...</td>\n",
       "    </tr>\n",
       "    <tr>\n",
       "      <th>1322</th>\n",
       "      <td>4389</td>\n",
       "      <td>ALK</td>\n",
       "      <td>T1151dup</td>\n",
       "      <td>Inframe Insertion</td>\n",
       "      <td>Copy Number</td>\n",
       "      <td>True</td>\n",
       "      <td>4608</td>\n",
       "      <td>submitted</td>\n",
       "      <td>[2]</td>\n",
       "      <td>[D]</td>\n",
       "      <td>False</td>\n",
       "    </tr>\n",
       "    <tr>\n",
       "      <th>1344</th>\n",
       "      <td>2371</td>\n",
       "      <td>ABL1</td>\n",
       "      <td>TKD MUTATION</td>\n",
       "      <td>NaN</td>\n",
       "      <td>Gene Function</td>\n",
       "      <td>True</td>\n",
       "      <td>11339</td>\n",
       "      <td>submitted</td>\n",
       "      <td>[4]</td>\n",
       "      <td>[B]</td>\n",
       "      <td>False</td>\n",
       "    </tr>\n",
       "    <tr>\n",
       "      <th>1367</th>\n",
       "      <td>4500</td>\n",
       "      <td>FGFR1</td>\n",
       "      <td>Translocation</td>\n",
       "      <td>NaN</td>\n",
       "      <td>Rearrangements</td>\n",
       "      <td>False</td>\n",
       "      <td>11324</td>\n",
       "      <td>submitted</td>\n",
       "      <td>[3]</td>\n",
       "      <td>[B]</td>\n",
       "      <td>False</td>\n",
       "    </tr>\n",
       "    <tr>\n",
       "      <th>1480</th>\n",
       "      <td>4528</td>\n",
       "      <td>ZFTA</td>\n",
       "      <td>ZFTA::RELA</td>\n",
       "      <td>NaN</td>\n",
       "      <td>Fusion</td>\n",
       "      <td>True</td>\n",
       "      <td>11446</td>\n",
       "      <td>submitted</td>\n",
       "      <td>[3]</td>\n",
       "      <td>[B]</td>\n",
       "      <td>False</td>\n",
       "    </tr>\n",
       "    <tr>\n",
       "      <th>1490</th>\n",
       "      <td>4466</td>\n",
       "      <td>TERT</td>\n",
       "      <td>NaN</td>\n",
       "      <td>NaN</td>\n",
       "      <td>Transcript Variant</td>\n",
       "      <td>False</td>\n",
       "      <td>11278</td>\n",
       "      <td>submitted</td>\n",
       "      <td>[2]</td>\n",
       "      <td>[C]</td>\n",
       "      <td>False</td>\n",
       "    </tr>\n",
       "  </tbody>\n",
       "</table>\n",
       "<p>73 rows × 11 columns</p>\n",
       "</div>"
      ],
      "text/plain": [
       "      variant_id gene_name   variant_name       civic_variant_types   \n",
       "52             1      ABL1       BCR::ABL         Transcript Fusion  \\\n",
       "112         4497     FGFR1     BCR::FGFR1                       NaN   \n",
       "176          437      FLT3           D835  Protein Altering Variant   \n",
       "176          437      FLT3           D835  Protein Altering Variant   \n",
       "198          200     IKZF1       Deletion       Transcript Ablation   \n",
       "...          ...       ...            ...                       ...   \n",
       "1322        4389       ALK       T1151dup         Inframe Insertion   \n",
       "1344        2371      ABL1   TKD MUTATION                       NaN   \n",
       "1367        4500     FGFR1  Translocation                       NaN   \n",
       "1480        4528      ZFTA     ZFTA::RELA                       NaN   \n",
       "1490        4466      TERT            NaN                       NaN   \n",
       "\n",
       "                 category  variant_accepted evidence_id evidence_status   \n",
       "52                 Fusion              True       11341       submitted  \\\n",
       "112                Fusion             False       11324       submitted   \n",
       "176   Protein Consequence              True       11260       submitted   \n",
       "176   Protein Consequence              True       11261       submitted   \n",
       "198         Gene Function              True        7786       submitted   \n",
       "...                   ...               ...         ...             ...   \n",
       "1322          Copy Number              True        4608       submitted   \n",
       "1344        Gene Function              True       11339       submitted   \n",
       "1367       Rearrangements             False       11324       submitted   \n",
       "1480               Fusion              True       11446       submitted   \n",
       "1490   Transcript Variant             False       11278       submitted   \n",
       "\n",
       "     evidence_rating evidence_level  evidence_accepted  \n",
       "52               [4]            [A]              False  \n",
       "112              [3]            [B]              False  \n",
       "176              [4]            [A]              False  \n",
       "176              [4]            [A]              False  \n",
       "198              [5]            [B]              False  \n",
       "...              ...            ...                ...  \n",
       "1322             [2]            [D]              False  \n",
       "1344             [4]            [B]              False  \n",
       "1367             [3]            [B]              False  \n",
       "1480             [3]            [B]              False  \n",
       "1490             [2]            [C]              False  \n",
       "\n",
       "[73 rows x 11 columns]"
      ]
     },
     "execution_count": 50,
     "metadata": {},
     "output_type": "execute_result"
    }
   ],
   "source": [
    "duplicate = not_supported_variants_add_evidence_df[\n",
    "    not_supported_variants_add_evidence_df.duplicated(\"evidence_id\", keep=False)\n",
    "]\n",
    "duplicate"
   ]
  },
  {
   "cell_type": "code",
   "execution_count": 51,
   "metadata": {},
   "outputs": [],
   "source": [
    "not_supported_variant_evidence_summary = {\n",
    "    \"Category\": VARIANT_CATEGORY_VALUES,\n",
    "    \"Count of CIViC Evidence Items per Category\": [],\n",
    "    \"Fraction of CIViC Evidence Items\": [],\n",
    "    \"Percent of all CIViC Evidence Items\": [],\n",
    "    \"Fraction of Not Supported Variant Evidence Items\": [],\n",
    "    \"Percent of Not Supported Variant Evidence Items\": [],\n",
    "    \"Fraction of Accepted Evidence Items\": [],\n",
    "    \"Percent of Accepted Evidence Items\": [],\n",
    "    \"Fraction of Submitted Evidence Items\": [],\n",
    "    \"Percent of Submitted Evidence Items\": [],\n",
    "}"
   ]
  },
  {
   "cell_type": "code",
   "execution_count": 52,
   "metadata": {},
   "outputs": [],
   "source": [
    "not_supported_variant_categories_evidence_summary_data = dict()\n",
    "total_number_not_supported_variant_unique_evidence_items = len(\n",
    "    set(not_supported_variants_add_evidence_df.evidence_id)\n",
    ")\n",
    "\n",
    "for category in VARIANT_CATEGORY_VALUES:\n",
    "    not_supported_variant_categories_evidence_summary_data[category] = {}\n",
    "    evidence_category_df = not_supported_variants_add_evidence_df[\n",
    "        not_supported_variants_add_evidence_df.category == category\n",
    "    ]\n",
    "    evidence_category_df = evidence_category_df.drop_duplicates(subset=[\"evidence_id\", \"category\"])\n",
    "\n",
    "    # Count\n",
    "    number_unique_not_supported_category_evidence = len(\n",
    "        set(evidence_category_df.evidence_id)\n",
    "    )\n",
    "    not_supported_variant_categories_evidence_summary_data[category][\n",
    "        \"number_unique_not_supported_category_evidence\"\n",
    "    ] = number_unique_not_supported_category_evidence\n",
    "\n",
    "    # Fraction\n",
    "    fraction_not_supported_category_variant_evidence_of_civic = (\n",
    "        f\"{number_unique_not_supported_category_evidence} / {total_ac_sub_evidence}\"\n",
    "    )\n",
    "    not_supported_variant_categories_evidence_summary_data[category][\n",
    "        \"fraction_not_supported_category_variant_evidence_of_civic\"\n",
    "    ] = fraction_not_supported_category_variant_evidence_of_civic\n",
    "\n",
    "    # Percent\n",
    "    percent_not_supported_category_variant_evidence_of_civic = f\"{number_unique_not_supported_category_evidence / total_ac_sub_evidence * 100:.2f}%\"\n",
    "    not_supported_variant_categories_evidence_summary_data[category][\n",
    "        \"percent_not_supported_category_variant_evidence_of_civic\"\n",
    "    ] = percent_not_supported_category_variant_evidence_of_civic\n",
    "\n",
    "    # Not supported fraction\n",
    "    fraction_not_supported_category_variant_evidence_of_total_not_supported = f\"{number_unique_not_supported_category_evidence} / {total_number_not_supported_variant_unique_evidence_items}\"\n",
    "    not_supported_variant_categories_evidence_summary_data[category][\n",
    "        \"fraction_not_supported_category_variant_evidence_of_total_not_supported\"\n",
    "    ] = fraction_not_supported_category_variant_evidence_of_total_not_supported\n",
    "\n",
    "    # Not supported percent\n",
    "    percent_not_supported_category_variant_evidence_of_total_not_supported = f\"{number_unique_not_supported_category_evidence / total_number_not_supported_variant_unique_evidence_items * 100:.2f}%\"\n",
    "    not_supported_variant_categories_evidence_summary_data[category][\n",
    "        \"percent_not_supported_category_variant_evidence_of_total_not_supported\"\n",
    "    ] = percent_not_supported_category_variant_evidence_of_total_not_supported\n",
    "\n",
    "    # Accepted fraction\n",
    "    number_accepted_not_supported_category_variant_evidence = (\n",
    "        evidence_category_df.evidence_accepted.sum()\n",
    "    )\n",
    "    fraction_accepted_evidence_not_supported_category_variants = f\"{number_accepted_not_supported_category_variant_evidence} / {number_unique_not_supported_category_evidence}\"\n",
    "    not_supported_variant_categories_evidence_summary_data[category][\n",
    "        \"fraction_accepted_evidence_not_supported_category_variants\"\n",
    "    ] = fraction_accepted_evidence_not_supported_category_variants\n",
    "\n",
    "    # Accepted percent\n",
    "    percentage_accepted_evidence_not_supported_category_variants = f\"{number_accepted_not_supported_category_variant_evidence / number_unique_not_supported_category_evidence * 100:.2f}%\"\n",
    "    not_supported_variant_categories_evidence_summary_data[category][\n",
    "        \"percentage_accepted_evidence_not_supported_category_variants\"\n",
    "    ] = percentage_accepted_evidence_not_supported_category_variants\n",
    "\n",
    "    # Submitted fraction\n",
    "    number_submitted_not_supported_category_variant_evidence = (\n",
    "        number_unique_not_supported_category_evidence\n",
    "        - evidence_category_df.evidence_accepted.sum()\n",
    "    )\n",
    "    fraction_submitted_evidence_not_supported_category_variants = f\"{number_submitted_not_supported_category_variant_evidence} / {number_unique_not_supported_category_evidence}\"\n",
    "    not_supported_variant_categories_evidence_summary_data[category][\n",
    "        \"fraction_submitted_evidence_not_supported_category_variants\"\n",
    "    ] = fraction_submitted_evidence_not_supported_category_variants\n",
    "\n",
    "    # Submitted percent\n",
    "    percentage_submitted_evidence_not_supported_category_variants = f\"{number_submitted_not_supported_category_variant_evidence / number_unique_not_supported_category_evidence * 100:.2f}%\"\n",
    "    not_supported_variant_categories_evidence_summary_data[category][\n",
    "        \"percentage_submitted_evidence_not_supported_category_variants\"\n",
    "    ] = percentage_submitted_evidence_not_supported_category_variants\n",
    "\n",
    "    not_supported_variant_evidence_summary[\n",
    "        \"Count of CIViC Evidence Items per Category\"\n",
    "    ].append(number_unique_not_supported_category_evidence)\n",
    "    not_supported_variant_evidence_summary[\"Fraction of CIViC Evidence Items\"].append(\n",
    "        fraction_not_supported_category_variant_evidence_of_civic\n",
    "    )\n",
    "    not_supported_variant_evidence_summary[\n",
    "        \"Percent of all CIViC Evidence Items\"\n",
    "    ].append(percent_not_supported_category_variant_evidence_of_civic)\n",
    "    not_supported_variant_evidence_summary[\n",
    "        \"Fraction of Not Supported Variant Evidence Items\"\n",
    "    ].append(fraction_not_supported_category_variant_evidence_of_total_not_supported)\n",
    "    not_supported_variant_evidence_summary[\n",
    "        \"Percent of Not Supported Variant Evidence Items\"\n",
    "    ].append(percent_not_supported_category_variant_evidence_of_total_not_supported)\n",
    "    not_supported_variant_evidence_summary[\n",
    "        \"Fraction of Accepted Evidence Items\"\n",
    "    ].append(fraction_accepted_evidence_not_supported_category_variants)\n",
    "    not_supported_variant_evidence_summary[\"Percent of Accepted Evidence Items\"].append(\n",
    "        percentage_accepted_evidence_not_supported_category_variants\n",
    "    )\n",
    "    not_supported_variant_evidence_summary[\n",
    "        \"Fraction of Submitted Evidence Items\"\n",
    "    ].append(fraction_submitted_evidence_not_supported_category_variants)\n",
    "    not_supported_variant_evidence_summary[\n",
    "        \"Percent of Submitted Evidence Items\"\n",
    "    ].append(percentage_submitted_evidence_not_supported_category_variants)"
   ]
  },
  {
   "cell_type": "markdown",
   "metadata": {},
   "source": [
    "## <a id='toc5_5_'></a>[Impact](#toc0_)"
   ]
  },
  {
   "cell_type": "markdown",
   "metadata": {},
   "source": [
    "### <a id='toc5_5_1_'></a>[Via Evidence Level](#toc0_)"
   ]
  },
  {
   "cell_type": "markdown",
   "metadata": {},
   "source": [
    "#### <a id='toc5_5_1_1_'></a>[Analysis with only Accepted Variants](#toc0_)"
   ]
  },
  {
   "cell_type": "markdown",
   "metadata": {},
   "source": [
    "accepted variant = a variant with at least one evidence item that is accepted"
   ]
  },
  {
   "cell_type": "code",
   "execution_count": 238,
   "metadata": {},
   "outputs": [],
   "source": [
    "ns_var_w_evid_df = not_supported_variants_add_evidence_df.copy()"
   ]
  },
  {
   "cell_type": "markdown",
   "metadata": {},
   "source": [
    "There are no variants without an evidence status"
   ]
  },
  {
   "cell_type": "code",
   "execution_count": 239,
   "metadata": {},
   "outputs": [
    {
     "data": {
      "text/html": [
       "<div>\n",
       "<style scoped>\n",
       "    .dataframe tbody tr th:only-of-type {\n",
       "        vertical-align: middle;\n",
       "    }\n",
       "\n",
       "    .dataframe tbody tr th {\n",
       "        vertical-align: top;\n",
       "    }\n",
       "\n",
       "    .dataframe thead th {\n",
       "        text-align: right;\n",
       "    }\n",
       "</style>\n",
       "<table border=\"1\" class=\"dataframe\">\n",
       "  <thead>\n",
       "    <tr style=\"text-align: right;\">\n",
       "      <th></th>\n",
       "      <th>variant_id</th>\n",
       "      <th>gene_name</th>\n",
       "      <th>variant_name</th>\n",
       "      <th>civic_variant_types</th>\n",
       "      <th>category</th>\n",
       "      <th>variant_accepted</th>\n",
       "      <th>evidence_id</th>\n",
       "      <th>evidence_status</th>\n",
       "      <th>evidence_rating</th>\n",
       "      <th>evidence_level</th>\n",
       "      <th>evidence_accepted</th>\n",
       "    </tr>\n",
       "  </thead>\n",
       "  <tbody>\n",
       "  </tbody>\n",
       "</table>\n",
       "</div>"
      ],
      "text/plain": [
       "Empty DataFrame\n",
       "Columns: [variant_id, gene_name, variant_name, civic_variant_types, category, variant_accepted, evidence_id, evidence_status, evidence_rating, evidence_level, evidence_accepted]\n",
       "Index: []"
      ]
     },
     "execution_count": 239,
     "metadata": {},
     "output_type": "execute_result"
    }
   ],
   "source": [
    "df_na = ns_var_w_evid_df[(ns_var_w_evid_df[(\"evidence_accepted\")]!=False) & ns_var_w_evid_df[\"evidence_accepted\"].isna()].copy()\n",
    "df_na"
   ]
  },
  {
   "cell_type": "markdown",
   "metadata": {},
   "source": [
    "Selecting only variants with at least one accepted evidence item (Accepted Variants)"
   ]
  },
  {
   "cell_type": "code",
   "execution_count": 240,
   "metadata": {},
   "outputs": [],
   "source": [
    "ns_var_w_acc_evid_df = ns_var_w_evid_df[(ns_var_w_evid_df[(\"evidence_accepted\")]!=False) & ns_var_w_evid_df[\"evidence_accepted\"].notna()].copy()"
   ]
  },
  {
   "cell_type": "markdown",
   "metadata": {},
   "source": [
    "##### <a id='toc5_5_1_1_1_'></a>[Calculating evidence score via level](#toc0_)"
   ]
  },
  {
   "cell_type": "code",
   "execution_count": 241,
   "metadata": {},
   "outputs": [
    {
     "data": {
      "text/html": [
       "<div>\n",
       "<style scoped>\n",
       "    .dataframe tbody tr th:only-of-type {\n",
       "        vertical-align: middle;\n",
       "    }\n",
       "\n",
       "    .dataframe tbody tr th {\n",
       "        vertical-align: top;\n",
       "    }\n",
       "\n",
       "    .dataframe thead th {\n",
       "        text-align: right;\n",
       "    }\n",
       "</style>\n",
       "<table border=\"1\" class=\"dataframe\">\n",
       "  <thead>\n",
       "    <tr style=\"text-align: right;\">\n",
       "      <th></th>\n",
       "      <th>variant_id</th>\n",
       "      <th>gene_name</th>\n",
       "      <th>variant_name</th>\n",
       "      <th>civic_variant_types</th>\n",
       "      <th>category</th>\n",
       "      <th>variant_accepted</th>\n",
       "      <th>evidence_id</th>\n",
       "      <th>evidence_status</th>\n",
       "      <th>evidence_rating</th>\n",
       "      <th>evidence_level</th>\n",
       "      <th>evidence_accepted</th>\n",
       "      <th>evidence_score</th>\n",
       "    </tr>\n",
       "  </thead>\n",
       "  <tbody>\n",
       "    <tr>\n",
       "      <th>7</th>\n",
       "      <td>2930</td>\n",
       "      <td>VHL</td>\n",
       "      <td>NaN</td>\n",
       "      <td>NaN</td>\n",
       "      <td>Transcript Variant</td>\n",
       "      <td>True</td>\n",
       "      <td>7892</td>\n",
       "      <td>accepted</td>\n",
       "      <td>[3]</td>\n",
       "      <td>[C]</td>\n",
       "      <td>True</td>\n",
       "      <td></td>\n",
       "    </tr>\n",
       "    <tr>\n",
       "      <th>9</th>\n",
       "      <td>785</td>\n",
       "      <td>CHEK2</td>\n",
       "      <td>1100DELC</td>\n",
       "      <td>Frameshift Truncation</td>\n",
       "      <td>Protein Consequence</td>\n",
       "      <td>True</td>\n",
       "      <td>1850</td>\n",
       "      <td>accepted</td>\n",
       "      <td>[3]</td>\n",
       "      <td>[B]</td>\n",
       "      <td>True</td>\n",
       "      <td></td>\n",
       "    </tr>\n",
       "    <tr>\n",
       "      <th>12</th>\n",
       "      <td>823</td>\n",
       "      <td>EPCAM</td>\n",
       "      <td>3' Exon Deletion</td>\n",
       "      <td>Disruptive Inframe Deletion</td>\n",
       "      <td>Region Defined Variant</td>\n",
       "      <td>True</td>\n",
       "      <td>1901</td>\n",
       "      <td>accepted</td>\n",
       "      <td>[4]</td>\n",
       "      <td>[B]</td>\n",
       "      <td>True</td>\n",
       "      <td></td>\n",
       "    </tr>\n",
       "    <tr>\n",
       "      <th>13</th>\n",
       "      <td>433</td>\n",
       "      <td>HIF1A</td>\n",
       "      <td>3' UTR Polymorphism</td>\n",
       "      <td>3 Prime UTR Variant;Snp</td>\n",
       "      <td>Region Defined Variant</td>\n",
       "      <td>True</td>\n",
       "      <td>1031</td>\n",
       "      <td>accepted</td>\n",
       "      <td>[2]</td>\n",
       "      <td>[B]</td>\n",
       "      <td>True</td>\n",
       "      <td></td>\n",
       "    </tr>\n",
       "    <tr>\n",
       "      <th>15</th>\n",
       "      <td>2367</td>\n",
       "      <td>VHL</td>\n",
       "      <td>3p26.3-25.3 11Mb del</td>\n",
       "      <td>NaN</td>\n",
       "      <td>Region Defined Variant</td>\n",
       "      <td>True</td>\n",
       "      <td>6287</td>\n",
       "      <td>accepted</td>\n",
       "      <td>[3]</td>\n",
       "      <td>[C]</td>\n",
       "      <td>True</td>\n",
       "      <td></td>\n",
       "    </tr>\n",
       "    <tr>\n",
       "      <th>...</th>\n",
       "      <td>...</td>\n",
       "      <td>...</td>\n",
       "      <td>...</td>\n",
       "      <td>...</td>\n",
       "      <td>...</td>\n",
       "      <td>...</td>\n",
       "      <td>...</td>\n",
       "      <td>...</td>\n",
       "      <td>...</td>\n",
       "      <td>...</td>\n",
       "      <td>...</td>\n",
       "      <td>...</td>\n",
       "    </tr>\n",
       "    <tr>\n",
       "      <th>1543</th>\n",
       "      <td>272</td>\n",
       "      <td>CDKN2A</td>\n",
       "      <td>p16 Expression</td>\n",
       "      <td>NaN</td>\n",
       "      <td>Expression</td>\n",
       "      <td>True</td>\n",
       "      <td>1314</td>\n",
       "      <td>accepted</td>\n",
       "      <td>[2]</td>\n",
       "      <td>[B]</td>\n",
       "      <td>True</td>\n",
       "      <td></td>\n",
       "    </tr>\n",
       "    <tr>\n",
       "      <th>1545</th>\n",
       "      <td>3313</td>\n",
       "      <td>CDKN1A</td>\n",
       "      <td>rs1059234</td>\n",
       "      <td>NaN</td>\n",
       "      <td>Other</td>\n",
       "      <td>True</td>\n",
       "      <td>9244</td>\n",
       "      <td>accepted</td>\n",
       "      <td>[3]</td>\n",
       "      <td>[B]</td>\n",
       "      <td>True</td>\n",
       "      <td></td>\n",
       "    </tr>\n",
       "    <tr>\n",
       "      <th>1547</th>\n",
       "      <td>256</td>\n",
       "      <td>KIT</td>\n",
       "      <td>rs17084733</td>\n",
       "      <td>3 Prime UTR Variant</td>\n",
       "      <td>Other</td>\n",
       "      <td>True</td>\n",
       "      <td>666</td>\n",
       "      <td>accepted</td>\n",
       "      <td>[3]</td>\n",
       "      <td>[B]</td>\n",
       "      <td>True</td>\n",
       "      <td></td>\n",
       "    </tr>\n",
       "    <tr>\n",
       "      <th>1548</th>\n",
       "      <td>2671</td>\n",
       "      <td>CDKN1A</td>\n",
       "      <td>rs1801270</td>\n",
       "      <td>NaN</td>\n",
       "      <td>Other</td>\n",
       "      <td>True</td>\n",
       "      <td>7227</td>\n",
       "      <td>accepted</td>\n",
       "      <td>[3]</td>\n",
       "      <td>[B]</td>\n",
       "      <td>True</td>\n",
       "      <td></td>\n",
       "    </tr>\n",
       "    <tr>\n",
       "      <th>1550</th>\n",
       "      <td>705</td>\n",
       "      <td>GADD45A</td>\n",
       "      <td>rs681673</td>\n",
       "      <td>Coding Transcript Intron Variant</td>\n",
       "      <td>Other</td>\n",
       "      <td>True</td>\n",
       "      <td>1751</td>\n",
       "      <td>accepted</td>\n",
       "      <td>[3]</td>\n",
       "      <td>[B]</td>\n",
       "      <td>True</td>\n",
       "      <td></td>\n",
       "    </tr>\n",
       "  </tbody>\n",
       "</table>\n",
       "<p>2231 rows × 12 columns</p>\n",
       "</div>"
      ],
      "text/plain": [
       "      variant_id gene_name          variant_name   \n",
       "7           2930       VHL                   NaN  \\\n",
       "9            785     CHEK2              1100DELC   \n",
       "12           823     EPCAM      3' Exon Deletion   \n",
       "13           433     HIF1A   3' UTR Polymorphism   \n",
       "15          2367       VHL  3p26.3-25.3 11Mb del   \n",
       "...          ...       ...                   ...   \n",
       "1543         272    CDKN2A        p16 Expression   \n",
       "1545        3313    CDKN1A             rs1059234   \n",
       "1547         256       KIT            rs17084733   \n",
       "1548        2671    CDKN1A             rs1801270   \n",
       "1550         705   GADD45A              rs681673   \n",
       "\n",
       "                   civic_variant_types                category   \n",
       "7                                  NaN      Transcript Variant  \\\n",
       "9                Frameshift Truncation     Protein Consequence   \n",
       "12         Disruptive Inframe Deletion  Region Defined Variant   \n",
       "13             3 Prime UTR Variant;Snp  Region Defined Variant   \n",
       "15                                 NaN  Region Defined Variant   \n",
       "...                                ...                     ...   \n",
       "1543                               NaN              Expression   \n",
       "1545                               NaN                   Other   \n",
       "1547               3 Prime UTR Variant                   Other   \n",
       "1548                               NaN                   Other   \n",
       "1550  Coding Transcript Intron Variant                   Other   \n",
       "\n",
       "      variant_accepted evidence_id evidence_status evidence_rating   \n",
       "7                 True        7892        accepted             [3]  \\\n",
       "9                 True        1850        accepted             [3]   \n",
       "12                True        1901        accepted             [4]   \n",
       "13                True        1031        accepted             [2]   \n",
       "15                True        6287        accepted             [3]   \n",
       "...                ...         ...             ...             ...   \n",
       "1543              True        1314        accepted             [2]   \n",
       "1545              True        9244        accepted             [3]   \n",
       "1547              True         666        accepted             [3]   \n",
       "1548              True        7227        accepted             [3]   \n",
       "1550              True        1751        accepted             [3]   \n",
       "\n",
       "     evidence_level  evidence_accepted evidence_score  \n",
       "7               [C]               True                 \n",
       "9               [B]               True                 \n",
       "12              [B]               True                 \n",
       "13              [B]               True                 \n",
       "15              [C]               True                 \n",
       "...             ...                ...            ...  \n",
       "1543            [B]               True                 \n",
       "1545            [B]               True                 \n",
       "1547            [B]               True                 \n",
       "1548            [B]               True                 \n",
       "1550            [B]               True                 \n",
       "\n",
       "[2231 rows x 12 columns]"
      ]
     },
     "execution_count": 241,
     "metadata": {},
     "output_type": "execute_result"
    }
   ],
   "source": [
    "ns_var_w_acc_evid_df[\"evidence_score\"] = ''\n",
    "ns_var_w_acc_evid_df"
   ]
  },
  {
   "cell_type": "code",
   "execution_count": 242,
   "metadata": {},
   "outputs": [],
   "source": [
    "evidence_level_to_impact = {\"A\": 10, \"B\": 5, \"C\": 3, \"D\": 1, \"E\": 0.5}"
   ]
  },
  {
   "cell_type": "code",
   "execution_count": 243,
   "metadata": {},
   "outputs": [],
   "source": [
    "ns_var_w_acc_evid_df[\"evidence_level\"] = ns_var_w_acc_evid_df[\"evidence_level\"].apply(lambda x: x[0])"
   ]
  },
  {
   "cell_type": "code",
   "execution_count": 244,
   "metadata": {},
   "outputs": [
    {
     "data": {
      "text/html": [
       "<div>\n",
       "<style scoped>\n",
       "    .dataframe tbody tr th:only-of-type {\n",
       "        vertical-align: middle;\n",
       "    }\n",
       "\n",
       "    .dataframe tbody tr th {\n",
       "        vertical-align: top;\n",
       "    }\n",
       "\n",
       "    .dataframe thead th {\n",
       "        text-align: right;\n",
       "    }\n",
       "</style>\n",
       "<table border=\"1\" class=\"dataframe\">\n",
       "  <thead>\n",
       "    <tr style=\"text-align: right;\">\n",
       "      <th></th>\n",
       "      <th>variant_id</th>\n",
       "      <th>gene_name</th>\n",
       "      <th>variant_name</th>\n",
       "      <th>civic_variant_types</th>\n",
       "      <th>category</th>\n",
       "      <th>variant_accepted</th>\n",
       "      <th>evidence_id</th>\n",
       "      <th>evidence_status</th>\n",
       "      <th>evidence_rating</th>\n",
       "      <th>evidence_level</th>\n",
       "      <th>evidence_accepted</th>\n",
       "      <th>evidence_score</th>\n",
       "    </tr>\n",
       "  </thead>\n",
       "  <tbody>\n",
       "    <tr>\n",
       "      <th>7</th>\n",
       "      <td>2930</td>\n",
       "      <td>VHL</td>\n",
       "      <td>NaN</td>\n",
       "      <td>NaN</td>\n",
       "      <td>Transcript Variant</td>\n",
       "      <td>True</td>\n",
       "      <td>7892</td>\n",
       "      <td>accepted</td>\n",
       "      <td>[3]</td>\n",
       "      <td>C</td>\n",
       "      <td>True</td>\n",
       "      <td>3.0</td>\n",
       "    </tr>\n",
       "    <tr>\n",
       "      <th>9</th>\n",
       "      <td>785</td>\n",
       "      <td>CHEK2</td>\n",
       "      <td>1100DELC</td>\n",
       "      <td>Frameshift Truncation</td>\n",
       "      <td>Protein Consequence</td>\n",
       "      <td>True</td>\n",
       "      <td>1850</td>\n",
       "      <td>accepted</td>\n",
       "      <td>[3]</td>\n",
       "      <td>B</td>\n",
       "      <td>True</td>\n",
       "      <td>5.0</td>\n",
       "    </tr>\n",
       "    <tr>\n",
       "      <th>12</th>\n",
       "      <td>823</td>\n",
       "      <td>EPCAM</td>\n",
       "      <td>3' Exon Deletion</td>\n",
       "      <td>Disruptive Inframe Deletion</td>\n",
       "      <td>Region Defined Variant</td>\n",
       "      <td>True</td>\n",
       "      <td>1901</td>\n",
       "      <td>accepted</td>\n",
       "      <td>[4]</td>\n",
       "      <td>B</td>\n",
       "      <td>True</td>\n",
       "      <td>5.0</td>\n",
       "    </tr>\n",
       "    <tr>\n",
       "      <th>13</th>\n",
       "      <td>433</td>\n",
       "      <td>HIF1A</td>\n",
       "      <td>3' UTR Polymorphism</td>\n",
       "      <td>3 Prime UTR Variant;Snp</td>\n",
       "      <td>Region Defined Variant</td>\n",
       "      <td>True</td>\n",
       "      <td>1031</td>\n",
       "      <td>accepted</td>\n",
       "      <td>[2]</td>\n",
       "      <td>B</td>\n",
       "      <td>True</td>\n",
       "      <td>5.0</td>\n",
       "    </tr>\n",
       "    <tr>\n",
       "      <th>15</th>\n",
       "      <td>2367</td>\n",
       "      <td>VHL</td>\n",
       "      <td>3p26.3-25.3 11Mb del</td>\n",
       "      <td>NaN</td>\n",
       "      <td>Region Defined Variant</td>\n",
       "      <td>True</td>\n",
       "      <td>6287</td>\n",
       "      <td>accepted</td>\n",
       "      <td>[3]</td>\n",
       "      <td>C</td>\n",
       "      <td>True</td>\n",
       "      <td>3.0</td>\n",
       "    </tr>\n",
       "    <tr>\n",
       "      <th>...</th>\n",
       "      <td>...</td>\n",
       "      <td>...</td>\n",
       "      <td>...</td>\n",
       "      <td>...</td>\n",
       "      <td>...</td>\n",
       "      <td>...</td>\n",
       "      <td>...</td>\n",
       "      <td>...</td>\n",
       "      <td>...</td>\n",
       "      <td>...</td>\n",
       "      <td>...</td>\n",
       "      <td>...</td>\n",
       "    </tr>\n",
       "    <tr>\n",
       "      <th>1543</th>\n",
       "      <td>272</td>\n",
       "      <td>CDKN2A</td>\n",
       "      <td>p16 Expression</td>\n",
       "      <td>NaN</td>\n",
       "      <td>Expression</td>\n",
       "      <td>True</td>\n",
       "      <td>1314</td>\n",
       "      <td>accepted</td>\n",
       "      <td>[2]</td>\n",
       "      <td>B</td>\n",
       "      <td>True</td>\n",
       "      <td>5.0</td>\n",
       "    </tr>\n",
       "    <tr>\n",
       "      <th>1545</th>\n",
       "      <td>3313</td>\n",
       "      <td>CDKN1A</td>\n",
       "      <td>rs1059234</td>\n",
       "      <td>NaN</td>\n",
       "      <td>Other</td>\n",
       "      <td>True</td>\n",
       "      <td>9244</td>\n",
       "      <td>accepted</td>\n",
       "      <td>[3]</td>\n",
       "      <td>B</td>\n",
       "      <td>True</td>\n",
       "      <td>5.0</td>\n",
       "    </tr>\n",
       "    <tr>\n",
       "      <th>1547</th>\n",
       "      <td>256</td>\n",
       "      <td>KIT</td>\n",
       "      <td>rs17084733</td>\n",
       "      <td>3 Prime UTR Variant</td>\n",
       "      <td>Other</td>\n",
       "      <td>True</td>\n",
       "      <td>666</td>\n",
       "      <td>accepted</td>\n",
       "      <td>[3]</td>\n",
       "      <td>B</td>\n",
       "      <td>True</td>\n",
       "      <td>5.0</td>\n",
       "    </tr>\n",
       "    <tr>\n",
       "      <th>1548</th>\n",
       "      <td>2671</td>\n",
       "      <td>CDKN1A</td>\n",
       "      <td>rs1801270</td>\n",
       "      <td>NaN</td>\n",
       "      <td>Other</td>\n",
       "      <td>True</td>\n",
       "      <td>7227</td>\n",
       "      <td>accepted</td>\n",
       "      <td>[3]</td>\n",
       "      <td>B</td>\n",
       "      <td>True</td>\n",
       "      <td>5.0</td>\n",
       "    </tr>\n",
       "    <tr>\n",
       "      <th>1550</th>\n",
       "      <td>705</td>\n",
       "      <td>GADD45A</td>\n",
       "      <td>rs681673</td>\n",
       "      <td>Coding Transcript Intron Variant</td>\n",
       "      <td>Other</td>\n",
       "      <td>True</td>\n",
       "      <td>1751</td>\n",
       "      <td>accepted</td>\n",
       "      <td>[3]</td>\n",
       "      <td>B</td>\n",
       "      <td>True</td>\n",
       "      <td>5.0</td>\n",
       "    </tr>\n",
       "  </tbody>\n",
       "</table>\n",
       "<p>2231 rows × 12 columns</p>\n",
       "</div>"
      ],
      "text/plain": [
       "      variant_id gene_name          variant_name   \n",
       "7           2930       VHL                   NaN  \\\n",
       "9            785     CHEK2              1100DELC   \n",
       "12           823     EPCAM      3' Exon Deletion   \n",
       "13           433     HIF1A   3' UTR Polymorphism   \n",
       "15          2367       VHL  3p26.3-25.3 11Mb del   \n",
       "...          ...       ...                   ...   \n",
       "1543         272    CDKN2A        p16 Expression   \n",
       "1545        3313    CDKN1A             rs1059234   \n",
       "1547         256       KIT            rs17084733   \n",
       "1548        2671    CDKN1A             rs1801270   \n",
       "1550         705   GADD45A              rs681673   \n",
       "\n",
       "                   civic_variant_types                category   \n",
       "7                                  NaN      Transcript Variant  \\\n",
       "9                Frameshift Truncation     Protein Consequence   \n",
       "12         Disruptive Inframe Deletion  Region Defined Variant   \n",
       "13             3 Prime UTR Variant;Snp  Region Defined Variant   \n",
       "15                                 NaN  Region Defined Variant   \n",
       "...                                ...                     ...   \n",
       "1543                               NaN              Expression   \n",
       "1545                               NaN                   Other   \n",
       "1547               3 Prime UTR Variant                   Other   \n",
       "1548                               NaN                   Other   \n",
       "1550  Coding Transcript Intron Variant                   Other   \n",
       "\n",
       "      variant_accepted evidence_id evidence_status evidence_rating   \n",
       "7                 True        7892        accepted             [3]  \\\n",
       "9                 True        1850        accepted             [3]   \n",
       "12                True        1901        accepted             [4]   \n",
       "13                True        1031        accepted             [2]   \n",
       "15                True        6287        accepted             [3]   \n",
       "...                ...         ...             ...             ...   \n",
       "1543              True        1314        accepted             [2]   \n",
       "1545              True        9244        accepted             [3]   \n",
       "1547              True         666        accepted             [3]   \n",
       "1548              True        7227        accepted             [3]   \n",
       "1550              True        1751        accepted             [3]   \n",
       "\n",
       "     evidence_level  evidence_accepted  evidence_score  \n",
       "7                 C               True             3.0  \n",
       "9                 B               True             5.0  \n",
       "12                B               True             5.0  \n",
       "13                B               True             5.0  \n",
       "15                C               True             3.0  \n",
       "...             ...                ...             ...  \n",
       "1543              B               True             5.0  \n",
       "1545              B               True             5.0  \n",
       "1547              B               True             5.0  \n",
       "1548              B               True             5.0  \n",
       "1550              B               True             5.0  \n",
       "\n",
       "[2231 rows x 12 columns]"
      ]
     },
     "execution_count": 244,
     "metadata": {},
     "output_type": "execute_result"
    }
   ],
   "source": [
    "ns_var_w_acc_evid_df[\"evidence_score\"] = ns_var_w_acc_evid_df[\"evidence_level\"].map(evidence_level_to_impact)\n",
    "ns_var_w_acc_evid_df"
   ]
  },
  {
   "cell_type": "markdown",
   "metadata": {},
   "source": [
    "Each variant recieves an evidence score by adding up the numerical value of levels of the evidence items associated with the variant"
   ]
  },
  {
   "cell_type": "code",
   "execution_count": 245,
   "metadata": {},
   "outputs": [
    {
     "data": {
      "text/html": [
       "<div>\n",
       "<style scoped>\n",
       "    .dataframe tbody tr th:only-of-type {\n",
       "        vertical-align: middle;\n",
       "    }\n",
       "\n",
       "    .dataframe tbody tr th {\n",
       "        vertical-align: top;\n",
       "    }\n",
       "\n",
       "    .dataframe thead th {\n",
       "        text-align: right;\n",
       "    }\n",
       "</style>\n",
       "<table border=\"1\" class=\"dataframe\">\n",
       "  <thead>\n",
       "    <tr style=\"text-align: right;\">\n",
       "      <th></th>\n",
       "      <th>gene_name</th>\n",
       "      <th>variant_name</th>\n",
       "      <th>category</th>\n",
       "      <th>#_evidence_items</th>\n",
       "      <th>evidence_score_sum</th>\n",
       "    </tr>\n",
       "    <tr>\n",
       "      <th>variant_id</th>\n",
       "      <th></th>\n",
       "      <th></th>\n",
       "      <th></th>\n",
       "      <th></th>\n",
       "      <th></th>\n",
       "    </tr>\n",
       "  </thead>\n",
       "  <tbody>\n",
       "    <tr>\n",
       "      <th>1</th>\n",
       "      <td>ABL1</td>\n",
       "      <td>BCR::ABL</td>\n",
       "      <td>Fusion</td>\n",
       "      <td>129</td>\n",
       "      <td>320.0</td>\n",
       "    </tr>\n",
       "    <tr>\n",
       "      <th>5</th>\n",
       "      <td>ALK</td>\n",
       "      <td>EML4::ALK</td>\n",
       "      <td>Fusion</td>\n",
       "      <td>47</td>\n",
       "      <td>91.0</td>\n",
       "    </tr>\n",
       "    <tr>\n",
       "      <th>17</th>\n",
       "      <td>BRAF</td>\n",
       "      <td>V600</td>\n",
       "      <td>Protein Consequence</td>\n",
       "      <td>22</td>\n",
       "      <td>123.0</td>\n",
       "    </tr>\n",
       "    <tr>\n",
       "      <th>19</th>\n",
       "      <td>CCND1</td>\n",
       "      <td>Expression</td>\n",
       "      <td>Expression</td>\n",
       "      <td>2</td>\n",
       "      <td>10.0</td>\n",
       "    </tr>\n",
       "    <tr>\n",
       "      <th>20</th>\n",
       "      <td>CCND1</td>\n",
       "      <td>Overexpression</td>\n",
       "      <td>Expression</td>\n",
       "      <td>8</td>\n",
       "      <td>36.0</td>\n",
       "    </tr>\n",
       "    <tr>\n",
       "      <th>...</th>\n",
       "      <td>...</td>\n",
       "      <td>...</td>\n",
       "      <td>...</td>\n",
       "      <td>...</td>\n",
       "      <td>...</td>\n",
       "    </tr>\n",
       "    <tr>\n",
       "      <th>4532</th>\n",
       "      <td>ZFTA</td>\n",
       "      <td>ZFTA::NCOA1</td>\n",
       "      <td>Fusion</td>\n",
       "      <td>1</td>\n",
       "      <td>3.0</td>\n",
       "    </tr>\n",
       "    <tr>\n",
       "      <th>4533</th>\n",
       "      <td>ZFTA</td>\n",
       "      <td>ZFTA::NCOA2</td>\n",
       "      <td>Fusion</td>\n",
       "      <td>1</td>\n",
       "      <td>3.0</td>\n",
       "    </tr>\n",
       "    <tr>\n",
       "      <th>4534</th>\n",
       "      <td>ZFTA</td>\n",
       "      <td>ZFTA::MAML2</td>\n",
       "      <td>Fusion</td>\n",
       "      <td>1</td>\n",
       "      <td>3.0</td>\n",
       "    </tr>\n",
       "    <tr>\n",
       "      <th>4535</th>\n",
       "      <td>ZFTA</td>\n",
       "      <td>MN1::ZFTA</td>\n",
       "      <td>Fusion</td>\n",
       "      <td>1</td>\n",
       "      <td>3.0</td>\n",
       "    </tr>\n",
       "    <tr>\n",
       "      <th>4546</th>\n",
       "      <td>ZFTA</td>\n",
       "      <td>ZFTA::RELA Methylation Profile</td>\n",
       "      <td>Other</td>\n",
       "      <td>2</td>\n",
       "      <td>10.0</td>\n",
       "    </tr>\n",
       "  </tbody>\n",
       "</table>\n",
       "<p>790 rows × 5 columns</p>\n",
       "</div>"
      ],
      "text/plain": [
       "           gene_name                    variant_name             category   \n",
       "variant_id                                                                  \n",
       "1               ABL1                        BCR::ABL               Fusion  \\\n",
       "5                ALK                       EML4::ALK               Fusion   \n",
       "17              BRAF                            V600  Protein Consequence   \n",
       "19             CCND1                      Expression           Expression   \n",
       "20             CCND1                  Overexpression           Expression   \n",
       "...              ...                             ...                  ...   \n",
       "4532            ZFTA                     ZFTA::NCOA1               Fusion   \n",
       "4533            ZFTA                     ZFTA::NCOA2               Fusion   \n",
       "4534            ZFTA                     ZFTA::MAML2               Fusion   \n",
       "4535            ZFTA                       MN1::ZFTA               Fusion   \n",
       "4546            ZFTA  ZFTA::RELA Methylation Profile                Other   \n",
       "\n",
       "            #_evidence_items  evidence_score_sum  \n",
       "variant_id                                        \n",
       "1                        129               320.0  \n",
       "5                         47                91.0  \n",
       "17                        22               123.0  \n",
       "19                         2                10.0  \n",
       "20                         8                36.0  \n",
       "...                      ...                 ...  \n",
       "4532                       1                 3.0  \n",
       "4533                       1                 3.0  \n",
       "4534                       1                 3.0  \n",
       "4535                       1                 3.0  \n",
       "4546                       2                10.0  \n",
       "\n",
       "[790 rows x 5 columns]"
      ]
     },
     "execution_count": 245,
     "metadata": {},
     "output_type": "execute_result"
    }
   ],
   "source": [
    "ns_var_w_acc_evid_df.sort_values(by=[\"variant_id\"])\n",
    "not_supported_variants_w_acc_evid_df = ns_var_w_acc_evid_df.groupby(\"variant_id\").aggregate(\n",
    "    {\n",
    "        \"gene_name\": \"first\",\n",
    "        \"variant_name\": \"first\",\n",
    "        \"category\": \"first\",\n",
    "        \"evidence_id\": \"count\",\n",
    "        \"evidence_score\": \"sum\",\n",
    "    }\n",
    ")\n",
    "not_supported_variants_w_acc_evid_df = not_supported_variants_w_acc_evid_df.rename(\n",
    "    columns={\"evidence_id\": \"#_evidence_items\", \"evidence_score\": \"evidence_score_sum\"}\n",
    ")\n",
    "not_supported_variants_w_acc_evid_df"
   ]
  },
  {
   "cell_type": "markdown",
   "metadata": {},
   "source": [
    "##### <a id='toc5_5_1_1_2_'></a>[Summary Table](#toc0_)"
   ]
  },
  {
   "cell_type": "code",
   "execution_count": 315,
   "metadata": {},
   "outputs": [
    {
     "data": {
      "text/html": [
       "<div>\n",
       "<style scoped>\n",
       "    .dataframe tbody tr th:only-of-type {\n",
       "        vertical-align: middle;\n",
       "    }\n",
       "\n",
       "    .dataframe tbody tr th {\n",
       "        vertical-align: top;\n",
       "    }\n",
       "\n",
       "    .dataframe thead th {\n",
       "        text-align: right;\n",
       "    }\n",
       "</style>\n",
       "<table border=\"1\" class=\"dataframe\">\n",
       "  <thead>\n",
       "    <tr style=\"text-align: right;\">\n",
       "      <th></th>\n",
       "      <th>number_of_variants</th>\n",
       "      <th>#_evidence_items</th>\n",
       "      <th>impact</th>\n",
       "      <th>average_impact_per_variant</th>\n",
       "    </tr>\n",
       "    <tr>\n",
       "      <th>category</th>\n",
       "      <th></th>\n",
       "      <th></th>\n",
       "      <th></th>\n",
       "      <th></th>\n",
       "    </tr>\n",
       "  </thead>\n",
       "  <tbody>\n",
       "    <tr>\n",
       "      <th>Region Defined Variant</th>\n",
       "      <td>135</td>\n",
       "      <td>558</td>\n",
       "      <td>2542.0</td>\n",
       "      <td>18.83</td>\n",
       "    </tr>\n",
       "    <tr>\n",
       "      <th>Fusion</th>\n",
       "      <td>204</td>\n",
       "      <td>747</td>\n",
       "      <td>2304.5</td>\n",
       "      <td>11.30</td>\n",
       "    </tr>\n",
       "    <tr>\n",
       "      <th>Expression</th>\n",
       "      <td>180</td>\n",
       "      <td>342</td>\n",
       "      <td>1235.0</td>\n",
       "      <td>6.86</td>\n",
       "    </tr>\n",
       "    <tr>\n",
       "      <th>Protein Consequence</th>\n",
       "      <td>70</td>\n",
       "      <td>191</td>\n",
       "      <td>837.5</td>\n",
       "      <td>11.96</td>\n",
       "    </tr>\n",
       "    <tr>\n",
       "      <th>Gene Function</th>\n",
       "      <td>49</td>\n",
       "      <td>154</td>\n",
       "      <td>540.5</td>\n",
       "      <td>11.03</td>\n",
       "    </tr>\n",
       "    <tr>\n",
       "      <th>Other</th>\n",
       "      <td>44</td>\n",
       "      <td>62</td>\n",
       "      <td>244.0</td>\n",
       "      <td>5.55</td>\n",
       "    </tr>\n",
       "    <tr>\n",
       "      <th>Rearrangements</th>\n",
       "      <td>12</td>\n",
       "      <td>53</td>\n",
       "      <td>204.5</td>\n",
       "      <td>17.04</td>\n",
       "    </tr>\n",
       "    <tr>\n",
       "      <th>Transcript Variant</th>\n",
       "      <td>51</td>\n",
       "      <td>54</td>\n",
       "      <td>156.0</td>\n",
       "      <td>3.06</td>\n",
       "    </tr>\n",
       "    <tr>\n",
       "      <th>Copy Number</th>\n",
       "      <td>19</td>\n",
       "      <td>31</td>\n",
       "      <td>89.0</td>\n",
       "      <td>4.68</td>\n",
       "    </tr>\n",
       "    <tr>\n",
       "      <th>Epigenetic Modification</th>\n",
       "      <td>14</td>\n",
       "      <td>22</td>\n",
       "      <td>82.0</td>\n",
       "      <td>5.86</td>\n",
       "    </tr>\n",
       "    <tr>\n",
       "      <th>Genotypes Easy</th>\n",
       "      <td>8</td>\n",
       "      <td>13</td>\n",
       "      <td>58.0</td>\n",
       "      <td>7.25</td>\n",
       "    </tr>\n",
       "    <tr>\n",
       "      <th>Genotypes Compound</th>\n",
       "      <td>4</td>\n",
       "      <td>4</td>\n",
       "      <td>28.0</td>\n",
       "      <td>7.00</td>\n",
       "    </tr>\n",
       "  </tbody>\n",
       "</table>\n",
       "</div>"
      ],
      "text/plain": [
       "                         number_of_variants  #_evidence_items  impact   \n",
       "category                                                                \n",
       "Region Defined Variant                  135               558  2542.0  \\\n",
       "Fusion                                  204               747  2304.5   \n",
       "Expression                              180               342  1235.0   \n",
       "Protein Consequence                      70               191   837.5   \n",
       "Gene Function                            49               154   540.5   \n",
       "Other                                    44                62   244.0   \n",
       "Rearrangements                           12                53   204.5   \n",
       "Transcript Variant                       51                54   156.0   \n",
       "Copy Number                              19                31    89.0   \n",
       "Epigenetic Modification                  14                22    82.0   \n",
       "Genotypes Easy                            8                13    58.0   \n",
       "Genotypes Compound                        4                 4    28.0   \n",
       "\n",
       "                         average_impact_per_variant  \n",
       "category                                             \n",
       "Region Defined Variant                        18.83  \n",
       "Fusion                                        11.30  \n",
       "Expression                                     6.86  \n",
       "Protein Consequence                           11.96  \n",
       "Gene Function                                 11.03  \n",
       "Other                                          5.55  \n",
       "Rearrangements                                17.04  \n",
       "Transcript Variant                             3.06  \n",
       "Copy Number                                    4.68  \n",
       "Epigenetic Modification                        5.86  \n",
       "Genotypes Easy                                 7.25  \n",
       "Genotypes Compound                             7.00  "
      ]
     },
     "execution_count": 315,
     "metadata": {},
     "output_type": "execute_result"
    }
   ],
   "source": [
    "not_supported_accepted_variant_categories_df = not_supported_variants_w_acc_evid_df.groupby(\"category\").aggregate(\n",
    "    {\"gene_name\": \"count\", \"#_evidence_items\": \"sum\", \"evidence_score_sum\": \"sum\"}\n",
    ")\n",
    "not_supported_accepted_variant_categories_df = not_supported_accepted_variant_categories_df.rename(\n",
    "    columns={\"evidence_score_sum\": \"impact\", \"gene_name\": \"number_of_variants\"}\n",
    ")\n",
    "not_supported_accepted_variant_categories_df[\"average_impact_per_variant\"] = (not_supported_accepted_variant_categories_df[\"impact\"] / not_supported_accepted_variant_categories_df[\"number_of_variants\"]).round(2)\n",
    "not_supported_accepted_variant_categories_df.sort_values(by=[\"impact\"], ascending=False)"
   ]
  },
  {
   "cell_type": "code",
   "execution_count": 316,
   "metadata": {},
   "outputs": [
    {
     "data": {
      "text/plain": [
       "number_of_variants             790.00\n",
       "#_evidence_items              2231.00\n",
       "impact                        8321.00\n",
       "average_impact_per_variant     110.42\n",
       "dtype: float64"
      ]
     },
     "execution_count": 316,
     "metadata": {},
     "output_type": "execute_result"
    }
   ],
   "source": [
    "not_supported_accepted_variant_categories_df.sum().round(2)"
   ]
  },
  {
   "cell_type": "markdown",
   "metadata": {},
   "source": [
    "#### <a id='toc5_5_1_2_'></a>[Analysis with Accepted and Submitted Variants](#toc0_)"
   ]
  },
  {
   "cell_type": "markdown",
   "metadata": {},
   "source": [
    "submitted variant = a variant with no accepted evidence items but with evidence items with the \"submitted\" status"
   ]
  },
  {
   "cell_type": "code",
   "execution_count": 248,
   "metadata": {},
   "outputs": [],
   "source": [
    "ns_var_w_acc_sub_evid_df = not_supported_variants_add_evidence_df.copy()"
   ]
  },
  {
   "cell_type": "markdown",
   "metadata": {},
   "source": [
    "##### <a id='toc5_5_1_2_1_'></a>[Calculating evidence score via level](#toc0_)"
   ]
  },
  {
   "cell_type": "code",
   "execution_count": 249,
   "metadata": {},
   "outputs": [
    {
     "data": {
      "text/html": [
       "<div>\n",
       "<style scoped>\n",
       "    .dataframe tbody tr th:only-of-type {\n",
       "        vertical-align: middle;\n",
       "    }\n",
       "\n",
       "    .dataframe tbody tr th {\n",
       "        vertical-align: top;\n",
       "    }\n",
       "\n",
       "    .dataframe thead th {\n",
       "        text-align: right;\n",
       "    }\n",
       "</style>\n",
       "<table border=\"1\" class=\"dataframe\">\n",
       "  <thead>\n",
       "    <tr style=\"text-align: right;\">\n",
       "      <th></th>\n",
       "      <th>variant_id</th>\n",
       "      <th>gene_name</th>\n",
       "      <th>variant_name</th>\n",
       "      <th>civic_variant_types</th>\n",
       "      <th>category</th>\n",
       "      <th>variant_accepted</th>\n",
       "      <th>evidence_id</th>\n",
       "      <th>evidence_status</th>\n",
       "      <th>evidence_rating</th>\n",
       "      <th>evidence_level</th>\n",
       "      <th>evidence_accepted</th>\n",
       "      <th>evidence_score</th>\n",
       "    </tr>\n",
       "  </thead>\n",
       "  <tbody>\n",
       "    <tr>\n",
       "      <th>0</th>\n",
       "      <td>4170</td>\n",
       "      <td>VHL</td>\n",
       "      <td>NaN</td>\n",
       "      <td>NaN</td>\n",
       "      <td>Transcript Variant</td>\n",
       "      <td>False</td>\n",
       "      <td>10647</td>\n",
       "      <td>submitted</td>\n",
       "      <td>[2]</td>\n",
       "      <td>[C]</td>\n",
       "      <td>False</td>\n",
       "      <td></td>\n",
       "    </tr>\n",
       "    <tr>\n",
       "      <th>1</th>\n",
       "      <td>4417</td>\n",
       "      <td>ALK</td>\n",
       "      <td>FBXO11::ALK</td>\n",
       "      <td>NaN</td>\n",
       "      <td>Fusion</td>\n",
       "      <td>False</td>\n",
       "      <td>7428</td>\n",
       "      <td>submitted</td>\n",
       "      <td>[3]</td>\n",
       "      <td>[C]</td>\n",
       "      <td>False</td>\n",
       "      <td></td>\n",
       "    </tr>\n",
       "    <tr>\n",
       "      <th>2</th>\n",
       "      <td>4214</td>\n",
       "      <td>VHL</td>\n",
       "      <td>NaN</td>\n",
       "      <td>NaN</td>\n",
       "      <td>Transcript Variant</td>\n",
       "      <td>False</td>\n",
       "      <td>10752</td>\n",
       "      <td>submitted</td>\n",
       "      <td>[3]</td>\n",
       "      <td>[C]</td>\n",
       "      <td>False</td>\n",
       "      <td></td>\n",
       "    </tr>\n",
       "    <tr>\n",
       "      <th>3</th>\n",
       "      <td>4216</td>\n",
       "      <td>VHL</td>\n",
       "      <td>NaN</td>\n",
       "      <td>NaN</td>\n",
       "      <td>Transcript Variant</td>\n",
       "      <td>False</td>\n",
       "      <td>10754</td>\n",
       "      <td>submitted</td>\n",
       "      <td>[3]</td>\n",
       "      <td>[C]</td>\n",
       "      <td>False</td>\n",
       "      <td></td>\n",
       "    </tr>\n",
       "    <tr>\n",
       "      <th>4</th>\n",
       "      <td>4278</td>\n",
       "      <td>VHL</td>\n",
       "      <td>NaN</td>\n",
       "      <td>NaN</td>\n",
       "      <td>Transcript Variant</td>\n",
       "      <td>False</td>\n",
       "      <td>10958</td>\n",
       "      <td>submitted</td>\n",
       "      <td>[3]</td>\n",
       "      <td>[C]</td>\n",
       "      <td>False</td>\n",
       "      <td></td>\n",
       "    </tr>\n",
       "    <tr>\n",
       "      <th>...</th>\n",
       "      <td>...</td>\n",
       "      <td>...</td>\n",
       "      <td>...</td>\n",
       "      <td>...</td>\n",
       "      <td>...</td>\n",
       "      <td>...</td>\n",
       "      <td>...</td>\n",
       "      <td>...</td>\n",
       "      <td>...</td>\n",
       "      <td>...</td>\n",
       "      <td>...</td>\n",
       "      <td>...</td>\n",
       "    </tr>\n",
       "    <tr>\n",
       "      <th>1560</th>\n",
       "      <td>3478</td>\n",
       "      <td>ESR2</td>\n",
       "      <td>underexpression beta-1</td>\n",
       "      <td>NaN</td>\n",
       "      <td>Other</td>\n",
       "      <td>False</td>\n",
       "      <td>9618</td>\n",
       "      <td>submitted</td>\n",
       "      <td>[4]</td>\n",
       "      <td>[B]</td>\n",
       "      <td>False</td>\n",
       "      <td></td>\n",
       "    </tr>\n",
       "    <tr>\n",
       "      <th>1560</th>\n",
       "      <td>3478</td>\n",
       "      <td>ESR2</td>\n",
       "      <td>underexpression beta-1</td>\n",
       "      <td>NaN</td>\n",
       "      <td>Other</td>\n",
       "      <td>False</td>\n",
       "      <td>9619</td>\n",
       "      <td>submitted</td>\n",
       "      <td>[4]</td>\n",
       "      <td>[B]</td>\n",
       "      <td>False</td>\n",
       "      <td></td>\n",
       "    </tr>\n",
       "    <tr>\n",
       "      <th>1561</th>\n",
       "      <td>3508</td>\n",
       "      <td>CD274</td>\n",
       "      <td>v242</td>\n",
       "      <td>NaN</td>\n",
       "      <td>Protein Consequence</td>\n",
       "      <td>False</td>\n",
       "      <td>9695</td>\n",
       "      <td>submitted</td>\n",
       "      <td>[4]</td>\n",
       "      <td>[E]</td>\n",
       "      <td>False</td>\n",
       "      <td></td>\n",
       "    </tr>\n",
       "    <tr>\n",
       "      <th>1562</th>\n",
       "      <td>2422</td>\n",
       "      <td>NTRK3</td>\n",
       "      <td>~DEPRECATED-ETV6-NTRK3</td>\n",
       "      <td>Transcript Fusion</td>\n",
       "      <td>Other</td>\n",
       "      <td>False</td>\n",
       "      <td>10692</td>\n",
       "      <td>submitted</td>\n",
       "      <td>[3]</td>\n",
       "      <td>[C]</td>\n",
       "      <td>False</td>\n",
       "      <td></td>\n",
       "    </tr>\n",
       "    <tr>\n",
       "      <th>1562</th>\n",
       "      <td>2422</td>\n",
       "      <td>NTRK3</td>\n",
       "      <td>~DEPRECATED-ETV6-NTRK3</td>\n",
       "      <td>Transcript Fusion</td>\n",
       "      <td>Other</td>\n",
       "      <td>False</td>\n",
       "      <td>10717</td>\n",
       "      <td>submitted</td>\n",
       "      <td>[3]</td>\n",
       "      <td>[C]</td>\n",
       "      <td>False</td>\n",
       "      <td></td>\n",
       "    </tr>\n",
       "  </tbody>\n",
       "</table>\n",
       "<p>4280 rows × 12 columns</p>\n",
       "</div>"
      ],
      "text/plain": [
       "      variant_id gene_name            variant_name civic_variant_types   \n",
       "0           4170       VHL                     NaN                 NaN  \\\n",
       "1           4417       ALK             FBXO11::ALK                 NaN   \n",
       "2           4214       VHL                     NaN                 NaN   \n",
       "3           4216       VHL                     NaN                 NaN   \n",
       "4           4278       VHL                     NaN                 NaN   \n",
       "...          ...       ...                     ...                 ...   \n",
       "1560        3478      ESR2  underexpression beta-1                 NaN   \n",
       "1560        3478      ESR2  underexpression beta-1                 NaN   \n",
       "1561        3508     CD274                    v242                 NaN   \n",
       "1562        2422     NTRK3  ~DEPRECATED-ETV6-NTRK3   Transcript Fusion   \n",
       "1562        2422     NTRK3  ~DEPRECATED-ETV6-NTRK3   Transcript Fusion   \n",
       "\n",
       "                 category  variant_accepted evidence_id evidence_status   \n",
       "0      Transcript Variant             False       10647       submitted  \\\n",
       "1                  Fusion             False        7428       submitted   \n",
       "2      Transcript Variant             False       10752       submitted   \n",
       "3      Transcript Variant             False       10754       submitted   \n",
       "4      Transcript Variant             False       10958       submitted   \n",
       "...                   ...               ...         ...             ...   \n",
       "1560                Other             False        9618       submitted   \n",
       "1560                Other             False        9619       submitted   \n",
       "1561  Protein Consequence             False        9695       submitted   \n",
       "1562                Other             False       10692       submitted   \n",
       "1562                Other             False       10717       submitted   \n",
       "\n",
       "     evidence_rating evidence_level  evidence_accepted evidence_score  \n",
       "0                [2]            [C]              False                 \n",
       "1                [3]            [C]              False                 \n",
       "2                [3]            [C]              False                 \n",
       "3                [3]            [C]              False                 \n",
       "4                [3]            [C]              False                 \n",
       "...              ...            ...                ...            ...  \n",
       "1560             [4]            [B]              False                 \n",
       "1560             [4]            [B]              False                 \n",
       "1561             [4]            [E]              False                 \n",
       "1562             [3]            [C]              False                 \n",
       "1562             [3]            [C]              False                 \n",
       "\n",
       "[4280 rows x 12 columns]"
      ]
     },
     "execution_count": 249,
     "metadata": {},
     "output_type": "execute_result"
    }
   ],
   "source": [
    "ns_var_w_acc_sub_evid_df[\"evidence_score\"] = \"\"\n",
    "ns_var_w_acc_sub_evid_df"
   ]
  },
  {
   "cell_type": "code",
   "execution_count": 250,
   "metadata": {},
   "outputs": [],
   "source": [
    "ns_var_w_acc_sub_evid_df[\"evidence_level\"] = ns_var_w_acc_sub_evid_df[\"evidence_level\"].apply(lambda y: y[0])"
   ]
  },
  {
   "cell_type": "code",
   "execution_count": 251,
   "metadata": {},
   "outputs": [
    {
     "data": {
      "text/html": [
       "<div>\n",
       "<style scoped>\n",
       "    .dataframe tbody tr th:only-of-type {\n",
       "        vertical-align: middle;\n",
       "    }\n",
       "\n",
       "    .dataframe tbody tr th {\n",
       "        vertical-align: top;\n",
       "    }\n",
       "\n",
       "    .dataframe thead th {\n",
       "        text-align: right;\n",
       "    }\n",
       "</style>\n",
       "<table border=\"1\" class=\"dataframe\">\n",
       "  <thead>\n",
       "    <tr style=\"text-align: right;\">\n",
       "      <th></th>\n",
       "      <th>variant_id</th>\n",
       "      <th>gene_name</th>\n",
       "      <th>variant_name</th>\n",
       "      <th>civic_variant_types</th>\n",
       "      <th>category</th>\n",
       "      <th>variant_accepted</th>\n",
       "      <th>evidence_id</th>\n",
       "      <th>evidence_status</th>\n",
       "      <th>evidence_rating</th>\n",
       "      <th>evidence_level</th>\n",
       "      <th>evidence_accepted</th>\n",
       "      <th>evidence_score</th>\n",
       "    </tr>\n",
       "  </thead>\n",
       "  <tbody>\n",
       "    <tr>\n",
       "      <th>0</th>\n",
       "      <td>4170</td>\n",
       "      <td>VHL</td>\n",
       "      <td>NaN</td>\n",
       "      <td>NaN</td>\n",
       "      <td>Transcript Variant</td>\n",
       "      <td>False</td>\n",
       "      <td>10647</td>\n",
       "      <td>submitted</td>\n",
       "      <td>[2]</td>\n",
       "      <td>C</td>\n",
       "      <td>False</td>\n",
       "      <td>3.0</td>\n",
       "    </tr>\n",
       "    <tr>\n",
       "      <th>1</th>\n",
       "      <td>4417</td>\n",
       "      <td>ALK</td>\n",
       "      <td>FBXO11::ALK</td>\n",
       "      <td>NaN</td>\n",
       "      <td>Fusion</td>\n",
       "      <td>False</td>\n",
       "      <td>7428</td>\n",
       "      <td>submitted</td>\n",
       "      <td>[3]</td>\n",
       "      <td>C</td>\n",
       "      <td>False</td>\n",
       "      <td>3.0</td>\n",
       "    </tr>\n",
       "    <tr>\n",
       "      <th>2</th>\n",
       "      <td>4214</td>\n",
       "      <td>VHL</td>\n",
       "      <td>NaN</td>\n",
       "      <td>NaN</td>\n",
       "      <td>Transcript Variant</td>\n",
       "      <td>False</td>\n",
       "      <td>10752</td>\n",
       "      <td>submitted</td>\n",
       "      <td>[3]</td>\n",
       "      <td>C</td>\n",
       "      <td>False</td>\n",
       "      <td>3.0</td>\n",
       "    </tr>\n",
       "    <tr>\n",
       "      <th>3</th>\n",
       "      <td>4216</td>\n",
       "      <td>VHL</td>\n",
       "      <td>NaN</td>\n",
       "      <td>NaN</td>\n",
       "      <td>Transcript Variant</td>\n",
       "      <td>False</td>\n",
       "      <td>10754</td>\n",
       "      <td>submitted</td>\n",
       "      <td>[3]</td>\n",
       "      <td>C</td>\n",
       "      <td>False</td>\n",
       "      <td>3.0</td>\n",
       "    </tr>\n",
       "    <tr>\n",
       "      <th>4</th>\n",
       "      <td>4278</td>\n",
       "      <td>VHL</td>\n",
       "      <td>NaN</td>\n",
       "      <td>NaN</td>\n",
       "      <td>Transcript Variant</td>\n",
       "      <td>False</td>\n",
       "      <td>10958</td>\n",
       "      <td>submitted</td>\n",
       "      <td>[3]</td>\n",
       "      <td>C</td>\n",
       "      <td>False</td>\n",
       "      <td>3.0</td>\n",
       "    </tr>\n",
       "    <tr>\n",
       "      <th>...</th>\n",
       "      <td>...</td>\n",
       "      <td>...</td>\n",
       "      <td>...</td>\n",
       "      <td>...</td>\n",
       "      <td>...</td>\n",
       "      <td>...</td>\n",
       "      <td>...</td>\n",
       "      <td>...</td>\n",
       "      <td>...</td>\n",
       "      <td>...</td>\n",
       "      <td>...</td>\n",
       "      <td>...</td>\n",
       "    </tr>\n",
       "    <tr>\n",
       "      <th>1560</th>\n",
       "      <td>3478</td>\n",
       "      <td>ESR2</td>\n",
       "      <td>underexpression beta-1</td>\n",
       "      <td>NaN</td>\n",
       "      <td>Other</td>\n",
       "      <td>False</td>\n",
       "      <td>9618</td>\n",
       "      <td>submitted</td>\n",
       "      <td>[4]</td>\n",
       "      <td>B</td>\n",
       "      <td>False</td>\n",
       "      <td>5.0</td>\n",
       "    </tr>\n",
       "    <tr>\n",
       "      <th>1560</th>\n",
       "      <td>3478</td>\n",
       "      <td>ESR2</td>\n",
       "      <td>underexpression beta-1</td>\n",
       "      <td>NaN</td>\n",
       "      <td>Other</td>\n",
       "      <td>False</td>\n",
       "      <td>9619</td>\n",
       "      <td>submitted</td>\n",
       "      <td>[4]</td>\n",
       "      <td>B</td>\n",
       "      <td>False</td>\n",
       "      <td>5.0</td>\n",
       "    </tr>\n",
       "    <tr>\n",
       "      <th>1561</th>\n",
       "      <td>3508</td>\n",
       "      <td>CD274</td>\n",
       "      <td>v242</td>\n",
       "      <td>NaN</td>\n",
       "      <td>Protein Consequence</td>\n",
       "      <td>False</td>\n",
       "      <td>9695</td>\n",
       "      <td>submitted</td>\n",
       "      <td>[4]</td>\n",
       "      <td>E</td>\n",
       "      <td>False</td>\n",
       "      <td>0.5</td>\n",
       "    </tr>\n",
       "    <tr>\n",
       "      <th>1562</th>\n",
       "      <td>2422</td>\n",
       "      <td>NTRK3</td>\n",
       "      <td>~DEPRECATED-ETV6-NTRK3</td>\n",
       "      <td>Transcript Fusion</td>\n",
       "      <td>Other</td>\n",
       "      <td>False</td>\n",
       "      <td>10692</td>\n",
       "      <td>submitted</td>\n",
       "      <td>[3]</td>\n",
       "      <td>C</td>\n",
       "      <td>False</td>\n",
       "      <td>3.0</td>\n",
       "    </tr>\n",
       "    <tr>\n",
       "      <th>1562</th>\n",
       "      <td>2422</td>\n",
       "      <td>NTRK3</td>\n",
       "      <td>~DEPRECATED-ETV6-NTRK3</td>\n",
       "      <td>Transcript Fusion</td>\n",
       "      <td>Other</td>\n",
       "      <td>False</td>\n",
       "      <td>10717</td>\n",
       "      <td>submitted</td>\n",
       "      <td>[3]</td>\n",
       "      <td>C</td>\n",
       "      <td>False</td>\n",
       "      <td>3.0</td>\n",
       "    </tr>\n",
       "  </tbody>\n",
       "</table>\n",
       "<p>4280 rows × 12 columns</p>\n",
       "</div>"
      ],
      "text/plain": [
       "      variant_id gene_name            variant_name civic_variant_types   \n",
       "0           4170       VHL                     NaN                 NaN  \\\n",
       "1           4417       ALK             FBXO11::ALK                 NaN   \n",
       "2           4214       VHL                     NaN                 NaN   \n",
       "3           4216       VHL                     NaN                 NaN   \n",
       "4           4278       VHL                     NaN                 NaN   \n",
       "...          ...       ...                     ...                 ...   \n",
       "1560        3478      ESR2  underexpression beta-1                 NaN   \n",
       "1560        3478      ESR2  underexpression beta-1                 NaN   \n",
       "1561        3508     CD274                    v242                 NaN   \n",
       "1562        2422     NTRK3  ~DEPRECATED-ETV6-NTRK3   Transcript Fusion   \n",
       "1562        2422     NTRK3  ~DEPRECATED-ETV6-NTRK3   Transcript Fusion   \n",
       "\n",
       "                 category  variant_accepted evidence_id evidence_status   \n",
       "0      Transcript Variant             False       10647       submitted  \\\n",
       "1                  Fusion             False        7428       submitted   \n",
       "2      Transcript Variant             False       10752       submitted   \n",
       "3      Transcript Variant             False       10754       submitted   \n",
       "4      Transcript Variant             False       10958       submitted   \n",
       "...                   ...               ...         ...             ...   \n",
       "1560                Other             False        9618       submitted   \n",
       "1560                Other             False        9619       submitted   \n",
       "1561  Protein Consequence             False        9695       submitted   \n",
       "1562                Other             False       10692       submitted   \n",
       "1562                Other             False       10717       submitted   \n",
       "\n",
       "     evidence_rating evidence_level  evidence_accepted  evidence_score  \n",
       "0                [2]              C              False             3.0  \n",
       "1                [3]              C              False             3.0  \n",
       "2                [3]              C              False             3.0  \n",
       "3                [3]              C              False             3.0  \n",
       "4                [3]              C              False             3.0  \n",
       "...              ...            ...                ...             ...  \n",
       "1560             [4]              B              False             5.0  \n",
       "1560             [4]              B              False             5.0  \n",
       "1561             [4]              E              False             0.5  \n",
       "1562             [3]              C              False             3.0  \n",
       "1562             [3]              C              False             3.0  \n",
       "\n",
       "[4280 rows x 12 columns]"
      ]
     },
     "execution_count": 251,
     "metadata": {},
     "output_type": "execute_result"
    }
   ],
   "source": [
    "ns_var_w_acc_sub_evid_df[\"evidence_score\"] = ns_var_w_acc_sub_evid_df[\"evidence_level\"].map(\n",
    "    evidence_level_to_impact\n",
    ")\n",
    "ns_var_w_acc_sub_evid_df"
   ]
  },
  {
   "cell_type": "code",
   "execution_count": 252,
   "metadata": {},
   "outputs": [
    {
     "data": {
      "text/html": [
       "<div>\n",
       "<style scoped>\n",
       "    .dataframe tbody tr th:only-of-type {\n",
       "        vertical-align: middle;\n",
       "    }\n",
       "\n",
       "    .dataframe tbody tr th {\n",
       "        vertical-align: top;\n",
       "    }\n",
       "\n",
       "    .dataframe thead th {\n",
       "        text-align: right;\n",
       "    }\n",
       "</style>\n",
       "<table border=\"1\" class=\"dataframe\">\n",
       "  <thead>\n",
       "    <tr style=\"text-align: right;\">\n",
       "      <th></th>\n",
       "      <th>gene_name</th>\n",
       "      <th>variant_name</th>\n",
       "      <th>category</th>\n",
       "      <th>#_evidence_items</th>\n",
       "      <th>evidence_score_sum</th>\n",
       "    </tr>\n",
       "    <tr>\n",
       "      <th>variant_id</th>\n",
       "      <th></th>\n",
       "      <th></th>\n",
       "      <th></th>\n",
       "      <th></th>\n",
       "      <th></th>\n",
       "    </tr>\n",
       "  </thead>\n",
       "  <tbody>\n",
       "    <tr>\n",
       "      <th>1</th>\n",
       "      <td>ABL1</td>\n",
       "      <td>BCR::ABL</td>\n",
       "      <td>Fusion</td>\n",
       "      <td>185</td>\n",
       "      <td>494.0</td>\n",
       "    </tr>\n",
       "    <tr>\n",
       "      <th>5</th>\n",
       "      <td>ALK</td>\n",
       "      <td>EML4::ALK</td>\n",
       "      <td>Fusion</td>\n",
       "      <td>95</td>\n",
       "      <td>167.0</td>\n",
       "    </tr>\n",
       "    <tr>\n",
       "      <th>17</th>\n",
       "      <td>BRAF</td>\n",
       "      <td>V600</td>\n",
       "      <td>Protein Consequence</td>\n",
       "      <td>26</td>\n",
       "      <td>153.0</td>\n",
       "    </tr>\n",
       "    <tr>\n",
       "      <th>19</th>\n",
       "      <td>CCND1</td>\n",
       "      <td>Expression</td>\n",
       "      <td>Expression</td>\n",
       "      <td>2</td>\n",
       "      <td>10.0</td>\n",
       "    </tr>\n",
       "    <tr>\n",
       "      <th>20</th>\n",
       "      <td>CCND1</td>\n",
       "      <td>Overexpression</td>\n",
       "      <td>Expression</td>\n",
       "      <td>10</td>\n",
       "      <td>40.0</td>\n",
       "    </tr>\n",
       "    <tr>\n",
       "      <th>...</th>\n",
       "      <td>...</td>\n",
       "      <td>...</td>\n",
       "      <td>...</td>\n",
       "      <td>...</td>\n",
       "      <td>...</td>\n",
       "    </tr>\n",
       "    <tr>\n",
       "      <th>4539</th>\n",
       "      <td>MET</td>\n",
       "      <td>None</td>\n",
       "      <td>Transcript Variant</td>\n",
       "      <td>1</td>\n",
       "      <td>3.0</td>\n",
       "    </tr>\n",
       "    <tr>\n",
       "      <th>4540</th>\n",
       "      <td>MET</td>\n",
       "      <td>None</td>\n",
       "      <td>Transcript Variant</td>\n",
       "      <td>1</td>\n",
       "      <td>3.0</td>\n",
       "    </tr>\n",
       "    <tr>\n",
       "      <th>4543</th>\n",
       "      <td>DICER1</td>\n",
       "      <td>Loss-of-function</td>\n",
       "      <td>Gene Function</td>\n",
       "      <td>6</td>\n",
       "      <td>35.0</td>\n",
       "    </tr>\n",
       "    <tr>\n",
       "      <th>4544</th>\n",
       "      <td>MET</td>\n",
       "      <td>None</td>\n",
       "      <td>Transcript Variant</td>\n",
       "      <td>1</td>\n",
       "      <td>3.0</td>\n",
       "    </tr>\n",
       "    <tr>\n",
       "      <th>4546</th>\n",
       "      <td>ZFTA</td>\n",
       "      <td>ZFTA::RELA Methylation Profile</td>\n",
       "      <td>Other</td>\n",
       "      <td>2</td>\n",
       "      <td>10.0</td>\n",
       "    </tr>\n",
       "  </tbody>\n",
       "</table>\n",
       "<p>1547 rows × 5 columns</p>\n",
       "</div>"
      ],
      "text/plain": [
       "           gene_name                    variant_name             category   \n",
       "variant_id                                                                  \n",
       "1               ABL1                        BCR::ABL               Fusion  \\\n",
       "5                ALK                       EML4::ALK               Fusion   \n",
       "17              BRAF                            V600  Protein Consequence   \n",
       "19             CCND1                      Expression           Expression   \n",
       "20             CCND1                  Overexpression           Expression   \n",
       "...              ...                             ...                  ...   \n",
       "4539             MET                            None   Transcript Variant   \n",
       "4540             MET                            None   Transcript Variant   \n",
       "4543          DICER1                Loss-of-function        Gene Function   \n",
       "4544             MET                            None   Transcript Variant   \n",
       "4546            ZFTA  ZFTA::RELA Methylation Profile                Other   \n",
       "\n",
       "            #_evidence_items  evidence_score_sum  \n",
       "variant_id                                        \n",
       "1                        185               494.0  \n",
       "5                         95               167.0  \n",
       "17                        26               153.0  \n",
       "19                         2                10.0  \n",
       "20                        10                40.0  \n",
       "...                      ...                 ...  \n",
       "4539                       1                 3.0  \n",
       "4540                       1                 3.0  \n",
       "4543                       6                35.0  \n",
       "4544                       1                 3.0  \n",
       "4546                       2                10.0  \n",
       "\n",
       "[1547 rows x 5 columns]"
      ]
     },
     "execution_count": 252,
     "metadata": {},
     "output_type": "execute_result"
    }
   ],
   "source": [
    "ns_var_w_acc_sub_evid_df.sort_values(by=[\"variant_id\"])\n",
    "not_supported_variants_w_acc_sub_evid_df = ns_var_w_acc_sub_evid_df.groupby(\"variant_id\").aggregate(\n",
    "    {\n",
    "        \"gene_name\": \"first\",\n",
    "        \"variant_name\": \"first\",\n",
    "        \"category\": \"first\",\n",
    "        \"evidence_id\": \"count\",\n",
    "        \"evidence_score\": \"sum\",\n",
    "    }\n",
    ")\n",
    "not_supported_variants_w_acc_sub_evid_df = not_supported_variants_w_acc_sub_evid_df.rename(\n",
    "    columns={\"evidence_id\": \"#_evidence_items\", \"evidence_score\": \"evidence_score_sum\"}\n",
    ")\n",
    "not_supported_variants_w_acc_sub_evid_df"
   ]
  },
  {
   "cell_type": "markdown",
   "metadata": {},
   "source": [
    "##### <a id='toc5_5_1_2_2_'></a>[Summary Table](#toc0_)"
   ]
  },
  {
   "cell_type": "code",
   "execution_count": 317,
   "metadata": {},
   "outputs": [
    {
     "data": {
      "text/html": [
       "<div>\n",
       "<style scoped>\n",
       "    .dataframe tbody tr th:only-of-type {\n",
       "        vertical-align: middle;\n",
       "    }\n",
       "\n",
       "    .dataframe tbody tr th {\n",
       "        vertical-align: top;\n",
       "    }\n",
       "\n",
       "    .dataframe thead th {\n",
       "        text-align: right;\n",
       "    }\n",
       "</style>\n",
       "<table border=\"1\" class=\"dataframe\">\n",
       "  <thead>\n",
       "    <tr style=\"text-align: right;\">\n",
       "      <th></th>\n",
       "      <th>number_of_variants</th>\n",
       "      <th>#_evidence_items</th>\n",
       "      <th>impact</th>\n",
       "      <th>average_impact_per_variant</th>\n",
       "    </tr>\n",
       "    <tr>\n",
       "      <th>category</th>\n",
       "      <th></th>\n",
       "      <th></th>\n",
       "      <th></th>\n",
       "      <th></th>\n",
       "    </tr>\n",
       "  </thead>\n",
       "  <tbody>\n",
       "    <tr>\n",
       "      <th>Region Defined Variant</th>\n",
       "      <td>191</td>\n",
       "      <td>958</td>\n",
       "      <td>4166.5</td>\n",
       "      <td>21.81</td>\n",
       "    </tr>\n",
       "    <tr>\n",
       "      <th>Fusion</th>\n",
       "      <td>290</td>\n",
       "      <td>1218</td>\n",
       "      <td>3816.5</td>\n",
       "      <td>13.16</td>\n",
       "    </tr>\n",
       "    <tr>\n",
       "      <th>Expression</th>\n",
       "      <td>287</td>\n",
       "      <td>610</td>\n",
       "      <td>2080.5</td>\n",
       "      <td>7.25</td>\n",
       "    </tr>\n",
       "    <tr>\n",
       "      <th>Transcript Variant</th>\n",
       "      <td>366</td>\n",
       "      <td>446</td>\n",
       "      <td>1336.0</td>\n",
       "      <td>3.65</td>\n",
       "    </tr>\n",
       "    <tr>\n",
       "      <th>Protein Consequence</th>\n",
       "      <td>127</td>\n",
       "      <td>293</td>\n",
       "      <td>1177.0</td>\n",
       "      <td>9.27</td>\n",
       "    </tr>\n",
       "    <tr>\n",
       "      <th>Gene Function</th>\n",
       "      <td>86</td>\n",
       "      <td>345</td>\n",
       "      <td>1134.0</td>\n",
       "      <td>13.19</td>\n",
       "    </tr>\n",
       "    <tr>\n",
       "      <th>Other</th>\n",
       "      <td>86</td>\n",
       "      <td>156</td>\n",
       "      <td>575.5</td>\n",
       "      <td>6.69</td>\n",
       "    </tr>\n",
       "    <tr>\n",
       "      <th>Rearrangements</th>\n",
       "      <td>50</td>\n",
       "      <td>137</td>\n",
       "      <td>465.5</td>\n",
       "      <td>9.31</td>\n",
       "    </tr>\n",
       "    <tr>\n",
       "      <th>Copy Number</th>\n",
       "      <td>34</td>\n",
       "      <td>67</td>\n",
       "      <td>199.0</td>\n",
       "      <td>5.85</td>\n",
       "    </tr>\n",
       "    <tr>\n",
       "      <th>Genotypes Easy</th>\n",
       "      <td>10</td>\n",
       "      <td>20</td>\n",
       "      <td>102.0</td>\n",
       "      <td>10.20</td>\n",
       "    </tr>\n",
       "    <tr>\n",
       "      <th>Epigenetic Modification</th>\n",
       "      <td>14</td>\n",
       "      <td>23</td>\n",
       "      <td>92.0</td>\n",
       "      <td>6.57</td>\n",
       "    </tr>\n",
       "    <tr>\n",
       "      <th>Genotypes Compound</th>\n",
       "      <td>6</td>\n",
       "      <td>7</td>\n",
       "      <td>39.0</td>\n",
       "      <td>6.50</td>\n",
       "    </tr>\n",
       "  </tbody>\n",
       "</table>\n",
       "</div>"
      ],
      "text/plain": [
       "                         number_of_variants  #_evidence_items  impact   \n",
       "category                                                                \n",
       "Region Defined Variant                  191               958  4166.5  \\\n",
       "Fusion                                  290              1218  3816.5   \n",
       "Expression                              287               610  2080.5   \n",
       "Transcript Variant                      366               446  1336.0   \n",
       "Protein Consequence                     127               293  1177.0   \n",
       "Gene Function                            86               345  1134.0   \n",
       "Other                                    86               156   575.5   \n",
       "Rearrangements                           50               137   465.5   \n",
       "Copy Number                              34                67   199.0   \n",
       "Genotypes Easy                           10                20   102.0   \n",
       "Epigenetic Modification                  14                23    92.0   \n",
       "Genotypes Compound                        6                 7    39.0   \n",
       "\n",
       "                         average_impact_per_variant  \n",
       "category                                             \n",
       "Region Defined Variant                        21.81  \n",
       "Fusion                                        13.16  \n",
       "Expression                                     7.25  \n",
       "Transcript Variant                             3.65  \n",
       "Protein Consequence                            9.27  \n",
       "Gene Function                                 13.19  \n",
       "Other                                          6.69  \n",
       "Rearrangements                                 9.31  \n",
       "Copy Number                                    5.85  \n",
       "Genotypes Easy                                10.20  \n",
       "Epigenetic Modification                        6.57  \n",
       "Genotypes Compound                             6.50  "
      ]
     },
     "execution_count": 317,
     "metadata": {},
     "output_type": "execute_result"
    }
   ],
   "source": [
    "not_supported_accepted_submitted_variant_categories_df = not_supported_variants_w_acc_sub_evid_df.groupby(\"category\").aggregate(\n",
    "    {\"gene_name\": \"count\", \"#_evidence_items\": \"sum\", \"evidence_score_sum\": \"sum\"}\n",
    ")\n",
    "not_supported_accepted_submitted_variant_categories_df = not_supported_accepted_submitted_variant_categories_df.rename(\n",
    "    columns={\"evidence_score_sum\": \"impact\", \"gene_name\": \"number_of_variants\"}\n",
    ")\n",
    "not_supported_accepted_submitted_variant_categories_df[\"average_impact_per_variant\"] = (\n",
    "    not_supported_accepted_submitted_variant_categories_df[\"impact\"] / not_supported_accepted_submitted_variant_categories_df[\"number_of_variants\"]\n",
    ").round(2)\n",
    "not_supported_accepted_submitted_variant_categories_df.sort_values(by=[\"impact\"], ascending=False)"
   ]
  },
  {
   "cell_type": "markdown",
   "metadata": {},
   "source": [
    "The difference in impact when removing the submitted variants from the analysis"
   ]
  },
  {
   "cell_type": "code",
   "execution_count": 254,
   "metadata": {},
   "outputs": [
    {
     "data": {
      "text/plain": [
       "category\n",
       "Region Defined Variant     1624.5\n",
       "Fusion                     1512.0\n",
       "Transcript Variant         1180.0\n",
       "Expression                  845.5\n",
       "Gene Function               593.5\n",
       "Protein Consequence         339.5\n",
       "Other                       331.5\n",
       "Rearrangements              261.0\n",
       "Copy Number                 110.0\n",
       "Genotypes Easy               44.0\n",
       "Genotypes Compound           11.0\n",
       "Epigenetic Modification      10.0\n",
       "Name: impact, dtype: float64"
      ]
     },
     "execution_count": 254,
     "metadata": {},
     "output_type": "execute_result"
    }
   ],
   "source": [
    "(not_supported_accepted_submitted_variant_categories_df[\"impact\"] - not_supported_accepted_variant_categories_df[\"impact\"]).sort_values(ascending=False)"
   ]
  },
  {
   "cell_type": "code",
   "execution_count": 255,
   "metadata": {},
   "outputs": [],
   "source": [
    "not_supported_variants_w_acc_sub_evid_df.to_csv(\"../normalization_analysis_output/civic_both_evidence_cat_impact_df.csv\", index=True)\n",
    "not_supported_variants_w_acc_evid_df.to_csv(\"../normalization_analysis_output/civic_accepted_evidence_only_impact_df.csv\", index=True)"
   ]
  },
  {
   "cell_type": "markdown",
   "metadata": {},
   "source": [
    "### <a id='toc5_5_2_'></a>[Via Molecular Profile Score- this was not used eventaully since MOA evidence items are only scored by level](#toc0_)"
   ]
  },
  {
   "cell_type": "markdown",
   "metadata": {},
   "source": [
    "#### <a id='toc5_5_2_1_'></a>[Import molecular profile id](#toc0_)"
   ]
  },
  {
   "cell_type": "code",
   "execution_count": 256,
   "metadata": {},
   "outputs": [
    {
     "data": {
      "text/html": [
       "<div>\n",
       "<style scoped>\n",
       "    .dataframe tbody tr th:only-of-type {\n",
       "        vertical-align: middle;\n",
       "    }\n",
       "\n",
       "    .dataframe tbody tr th {\n",
       "        vertical-align: top;\n",
       "    }\n",
       "\n",
       "    .dataframe thead th {\n",
       "        text-align: right;\n",
       "    }\n",
       "</style>\n",
       "<table border=\"1\" class=\"dataframe\">\n",
       "  <thead>\n",
       "    <tr style=\"text-align: right;\">\n",
       "      <th></th>\n",
       "      <th>variant_id</th>\n",
       "      <th>gene_name</th>\n",
       "      <th>variant_name</th>\n",
       "      <th>civic_variant_types</th>\n",
       "      <th>category</th>\n",
       "      <th>variant_accepted</th>\n",
       "      <th>molecular_profile_id</th>\n",
       "    </tr>\n",
       "  </thead>\n",
       "  <tbody>\n",
       "    <tr>\n",
       "      <th>0</th>\n",
       "      <td>4170</td>\n",
       "      <td>VHL</td>\n",
       "      <td>NaN</td>\n",
       "      <td>NaN</td>\n",
       "      <td>Transcript Variant</td>\n",
       "      <td>False</td>\n",
       "      <td>[4038]</td>\n",
       "    </tr>\n",
       "    <tr>\n",
       "      <th>1</th>\n",
       "      <td>4417</td>\n",
       "      <td>ALK</td>\n",
       "      <td>FBXO11::ALK</td>\n",
       "      <td>NaN</td>\n",
       "      <td>Fusion</td>\n",
       "      <td>False</td>\n",
       "      <td>[4350]</td>\n",
       "    </tr>\n",
       "    <tr>\n",
       "      <th>2</th>\n",
       "      <td>4214</td>\n",
       "      <td>VHL</td>\n",
       "      <td>NaN</td>\n",
       "      <td>NaN</td>\n",
       "      <td>Transcript Variant</td>\n",
       "      <td>False</td>\n",
       "      <td>[4082]</td>\n",
       "    </tr>\n",
       "    <tr>\n",
       "      <th>3</th>\n",
       "      <td>4216</td>\n",
       "      <td>VHL</td>\n",
       "      <td>NaN</td>\n",
       "      <td>NaN</td>\n",
       "      <td>Transcript Variant</td>\n",
       "      <td>False</td>\n",
       "      <td>[4084]</td>\n",
       "    </tr>\n",
       "    <tr>\n",
       "      <th>4</th>\n",
       "      <td>4278</td>\n",
       "      <td>VHL</td>\n",
       "      <td>NaN</td>\n",
       "      <td>NaN</td>\n",
       "      <td>Transcript Variant</td>\n",
       "      <td>False</td>\n",
       "      <td>[4146]</td>\n",
       "    </tr>\n",
       "  </tbody>\n",
       "</table>\n",
       "</div>"
      ],
      "text/plain": [
       "   variant_id gene_name  variant_name civic_variant_types            category   \n",
       "0        4170       VHL           NaN                 NaN  Transcript Variant  \\\n",
       "1        4417       ALK   FBXO11::ALK                 NaN              Fusion   \n",
       "2        4214       VHL           NaN                 NaN  Transcript Variant   \n",
       "3        4216       VHL           NaN                 NaN  Transcript Variant   \n",
       "4        4278       VHL           NaN                 NaN  Transcript Variant   \n",
       "\n",
       "   variant_accepted molecular_profile_id  \n",
       "0             False               [4038]  \n",
       "1             False               [4350]  \n",
       "2             False               [4082]  \n",
       "3             False               [4084]  \n",
       "4             False               [4146]  "
      ]
     },
     "execution_count": 256,
     "metadata": {},
     "output_type": "execute_result"
    }
   ],
   "source": [
    "not_supported_variants_add_molprof_df = transform_df_mp_id(not_supported_queries_df)\n",
    "not_supported_variants_add_molprof_df.head()"
   ]
  },
  {
   "cell_type": "markdown",
   "metadata": {},
   "source": [
    "#### <a id='toc5_5_2_2_'></a>[Import molecular profile scores](#toc0_)"
   ]
  },
  {
   "cell_type": "code",
   "execution_count": 257,
   "metadata": {},
   "outputs": [
    {
     "data": {
      "text/html": [
       "<div>\n",
       "<style scoped>\n",
       "    .dataframe tbody tr th:only-of-type {\n",
       "        vertical-align: middle;\n",
       "    }\n",
       "\n",
       "    .dataframe tbody tr th {\n",
       "        vertical-align: top;\n",
       "    }\n",
       "\n",
       "    .dataframe thead th {\n",
       "        text-align: right;\n",
       "    }\n",
       "</style>\n",
       "<table border=\"1\" class=\"dataframe\">\n",
       "  <thead>\n",
       "    <tr style=\"text-align: right;\">\n",
       "      <th></th>\n",
       "      <th>variant_id</th>\n",
       "      <th>gene_name</th>\n",
       "      <th>variant_name</th>\n",
       "      <th>civic_variant_types</th>\n",
       "      <th>category</th>\n",
       "      <th>variant_accepted</th>\n",
       "      <th>molecular_profile_id</th>\n",
       "      <th>molecular_profile_score</th>\n",
       "    </tr>\n",
       "  </thead>\n",
       "  <tbody>\n",
       "    <tr>\n",
       "      <th>0</th>\n",
       "      <td>4170</td>\n",
       "      <td>VHL</td>\n",
       "      <td>NaN</td>\n",
       "      <td>NaN</td>\n",
       "      <td>Transcript Variant</td>\n",
       "      <td>False</td>\n",
       "      <td>[4038]</td>\n",
       "      <td>[0.0]</td>\n",
       "    </tr>\n",
       "    <tr>\n",
       "      <th>1</th>\n",
       "      <td>4417</td>\n",
       "      <td>ALK</td>\n",
       "      <td>FBXO11::ALK</td>\n",
       "      <td>NaN</td>\n",
       "      <td>Fusion</td>\n",
       "      <td>False</td>\n",
       "      <td>[4350]</td>\n",
       "      <td>[0.0]</td>\n",
       "    </tr>\n",
       "    <tr>\n",
       "      <th>2</th>\n",
       "      <td>4214</td>\n",
       "      <td>VHL</td>\n",
       "      <td>NaN</td>\n",
       "      <td>NaN</td>\n",
       "      <td>Transcript Variant</td>\n",
       "      <td>False</td>\n",
       "      <td>[4082]</td>\n",
       "      <td>[0.0]</td>\n",
       "    </tr>\n",
       "    <tr>\n",
       "      <th>3</th>\n",
       "      <td>4216</td>\n",
       "      <td>VHL</td>\n",
       "      <td>NaN</td>\n",
       "      <td>NaN</td>\n",
       "      <td>Transcript Variant</td>\n",
       "      <td>False</td>\n",
       "      <td>[4084]</td>\n",
       "      <td>[0.0]</td>\n",
       "    </tr>\n",
       "    <tr>\n",
       "      <th>4</th>\n",
       "      <td>4278</td>\n",
       "      <td>VHL</td>\n",
       "      <td>NaN</td>\n",
       "      <td>NaN</td>\n",
       "      <td>Transcript Variant</td>\n",
       "      <td>False</td>\n",
       "      <td>[4146]</td>\n",
       "      <td>[0.0]</td>\n",
       "    </tr>\n",
       "  </tbody>\n",
       "</table>\n",
       "</div>"
      ],
      "text/plain": [
       "   variant_id gene_name  variant_name civic_variant_types            category   \n",
       "0        4170       VHL           NaN                 NaN  Transcript Variant  \\\n",
       "1        4417       ALK   FBXO11::ALK                 NaN              Fusion   \n",
       "2        4214       VHL           NaN                 NaN  Transcript Variant   \n",
       "3        4216       VHL           NaN                 NaN  Transcript Variant   \n",
       "4        4278       VHL           NaN                 NaN  Transcript Variant   \n",
       "\n",
       "   variant_accepted molecular_profile_id molecular_profile_score  \n",
       "0             False               [4038]                   [0.0]  \n",
       "1             False               [4350]                   [0.0]  \n",
       "2             False               [4082]                   [0.0]  \n",
       "3             False               [4084]                   [0.0]  \n",
       "4             False               [4146]                   [0.0]  "
      ]
     },
     "execution_count": 257,
     "metadata": {},
     "output_type": "execute_result"
    }
   ],
   "source": [
    "not_supported_variants_add_molprof_df = transform_df_mp_score(\n",
    "    not_supported_variants_add_molprof_df\n",
    ")\n",
    "not_supported_variants_add_molprof_df.head()"
   ]
  },
  {
   "cell_type": "code",
   "execution_count": 258,
   "metadata": {},
   "outputs": [
    {
     "data": {
      "text/html": [
       "<div>\n",
       "<style scoped>\n",
       "    .dataframe tbody tr th:only-of-type {\n",
       "        vertical-align: middle;\n",
       "    }\n",
       "\n",
       "    .dataframe tbody tr th {\n",
       "        vertical-align: top;\n",
       "    }\n",
       "\n",
       "    .dataframe thead th {\n",
       "        text-align: right;\n",
       "    }\n",
       "</style>\n",
       "<table border=\"1\" class=\"dataframe\">\n",
       "  <thead>\n",
       "    <tr style=\"text-align: right;\">\n",
       "      <th></th>\n",
       "      <th>variant_id</th>\n",
       "      <th>gene_name</th>\n",
       "      <th>variant_name</th>\n",
       "      <th>civic_variant_types</th>\n",
       "      <th>category</th>\n",
       "      <th>variant_accepted</th>\n",
       "      <th>molecular_profile_id</th>\n",
       "      <th>molecular_profile_score</th>\n",
       "      <th>molecular_profile_score_sum</th>\n",
       "    </tr>\n",
       "  </thead>\n",
       "  <tbody>\n",
       "    <tr>\n",
       "      <th>0</th>\n",
       "      <td>4170</td>\n",
       "      <td>VHL</td>\n",
       "      <td>NaN</td>\n",
       "      <td>NaN</td>\n",
       "      <td>Transcript Variant</td>\n",
       "      <td>False</td>\n",
       "      <td>[4038]</td>\n",
       "      <td>[0.0]</td>\n",
       "      <td>0.0</td>\n",
       "    </tr>\n",
       "    <tr>\n",
       "      <th>1</th>\n",
       "      <td>4417</td>\n",
       "      <td>ALK</td>\n",
       "      <td>FBXO11::ALK</td>\n",
       "      <td>NaN</td>\n",
       "      <td>Fusion</td>\n",
       "      <td>False</td>\n",
       "      <td>[4350]</td>\n",
       "      <td>[0.0]</td>\n",
       "      <td>0.0</td>\n",
       "    </tr>\n",
       "    <tr>\n",
       "      <th>2</th>\n",
       "      <td>4214</td>\n",
       "      <td>VHL</td>\n",
       "      <td>NaN</td>\n",
       "      <td>NaN</td>\n",
       "      <td>Transcript Variant</td>\n",
       "      <td>False</td>\n",
       "      <td>[4082]</td>\n",
       "      <td>[0.0]</td>\n",
       "      <td>0.0</td>\n",
       "    </tr>\n",
       "    <tr>\n",
       "      <th>3</th>\n",
       "      <td>4216</td>\n",
       "      <td>VHL</td>\n",
       "      <td>NaN</td>\n",
       "      <td>NaN</td>\n",
       "      <td>Transcript Variant</td>\n",
       "      <td>False</td>\n",
       "      <td>[4084]</td>\n",
       "      <td>[0.0]</td>\n",
       "      <td>0.0</td>\n",
       "    </tr>\n",
       "    <tr>\n",
       "      <th>4</th>\n",
       "      <td>4278</td>\n",
       "      <td>VHL</td>\n",
       "      <td>NaN</td>\n",
       "      <td>NaN</td>\n",
       "      <td>Transcript Variant</td>\n",
       "      <td>False</td>\n",
       "      <td>[4146]</td>\n",
       "      <td>[0.0]</td>\n",
       "      <td>0.0</td>\n",
       "    </tr>\n",
       "  </tbody>\n",
       "</table>\n",
       "</div>"
      ],
      "text/plain": [
       "   variant_id gene_name  variant_name civic_variant_types            category   \n",
       "0        4170       VHL           NaN                 NaN  Transcript Variant  \\\n",
       "1        4417       ALK   FBXO11::ALK                 NaN              Fusion   \n",
       "2        4214       VHL           NaN                 NaN  Transcript Variant   \n",
       "3        4216       VHL           NaN                 NaN  Transcript Variant   \n",
       "4        4278       VHL           NaN                 NaN  Transcript Variant   \n",
       "\n",
       "   variant_accepted molecular_profile_id molecular_profile_score   \n",
       "0             False               [4038]                   [0.0]  \\\n",
       "1             False               [4350]                   [0.0]   \n",
       "2             False               [4082]                   [0.0]   \n",
       "3             False               [4084]                   [0.0]   \n",
       "4             False               [4146]                   [0.0]   \n",
       "\n",
       "   molecular_profile_score_sum  \n",
       "0                          0.0  \n",
       "1                          0.0  \n",
       "2                          0.0  \n",
       "3                          0.0  \n",
       "4                          0.0  "
      ]
     },
     "execution_count": 258,
     "metadata": {},
     "output_type": "execute_result"
    }
   ],
   "source": [
    "not_supported_variants_add_molprof_df = transform_df_mp_score_sum(\n",
    "    not_supported_variants_add_molprof_df\n",
    ")\n",
    "not_supported_variants_add_molprof_df.head()"
   ]
  },
  {
   "cell_type": "code",
   "execution_count": 259,
   "metadata": {},
   "outputs": [
    {
     "data": {
      "text/html": [
       "<div>\n",
       "<style scoped>\n",
       "    .dataframe tbody tr th:only-of-type {\n",
       "        vertical-align: middle;\n",
       "    }\n",
       "\n",
       "    .dataframe tbody tr th {\n",
       "        vertical-align: top;\n",
       "    }\n",
       "\n",
       "    .dataframe thead th {\n",
       "        text-align: right;\n",
       "    }\n",
       "</style>\n",
       "<table border=\"1\" class=\"dataframe\">\n",
       "  <thead>\n",
       "    <tr style=\"text-align: right;\">\n",
       "      <th></th>\n",
       "      <th>variant_id</th>\n",
       "      <th>gene_name</th>\n",
       "      <th>variant_name</th>\n",
       "      <th>civic_variant_types</th>\n",
       "      <th>category</th>\n",
       "      <th>variant_accepted</th>\n",
       "      <th>molecular_profile_id</th>\n",
       "      <th>molecular_profile_score</th>\n",
       "      <th>molecular_profile_score_sum</th>\n",
       "    </tr>\n",
       "  </thead>\n",
       "  <tbody>\n",
       "    <tr>\n",
       "      <th>728</th>\n",
       "      <td>1247</td>\n",
       "      <td>BRCA2</td>\n",
       "      <td>M1R</td>\n",
       "      <td>Missense Variant</td>\n",
       "      <td>Other</td>\n",
       "      <td>True</td>\n",
       "      <td>[1221]</td>\n",
       "      <td>[0.0]</td>\n",
       "      <td>0.0</td>\n",
       "    </tr>\n",
       "  </tbody>\n",
       "</table>\n",
       "</div>"
      ],
      "text/plain": [
       "     variant_id gene_name variant_name civic_variant_types category   \n",
       "728        1247     BRCA2          M1R    Missense Variant    Other  \\\n",
       "\n",
       "     variant_accepted molecular_profile_id molecular_profile_score   \n",
       "728              True               [1221]                   [0.0]  \\\n",
       "\n",
       "     molecular_profile_score_sum  \n",
       "728                          0.0  "
      ]
     },
     "execution_count": 259,
     "metadata": {},
     "output_type": "execute_result"
    }
   ],
   "source": [
    "not_supported_variants_add_molprof_df[\n",
    "    (not_supported_variants_add_molprof_df[\"molecular_profile_score_sum\"] == 0.0)\n",
    "    & (not_supported_variants_add_molprof_df[\"variant_accepted\"] == True)\n",
    "]"
   ]
  },
  {
   "cell_type": "code",
   "execution_count": 260,
   "metadata": {},
   "outputs": [
    {
     "data": {
      "text/plain": [
       "862.5"
      ]
     },
     "execution_count": 260,
     "metadata": {},
     "output_type": "execute_result"
    }
   ],
   "source": [
    "not_supported_variants_add_molprof_df[\"molecular_profile_score_sum\"].max()"
   ]
  },
  {
   "cell_type": "code",
   "execution_count": 261,
   "metadata": {},
   "outputs": [
    {
     "data": {
      "text/html": [
       "<div>\n",
       "<style scoped>\n",
       "    .dataframe tbody tr th:only-of-type {\n",
       "        vertical-align: middle;\n",
       "    }\n",
       "\n",
       "    .dataframe tbody tr th {\n",
       "        vertical-align: top;\n",
       "    }\n",
       "\n",
       "    .dataframe thead th {\n",
       "        text-align: right;\n",
       "    }\n",
       "</style>\n",
       "<table border=\"1\" class=\"dataframe\">\n",
       "  <thead>\n",
       "    <tr style=\"text-align: right;\">\n",
       "      <th></th>\n",
       "      <th>variant_id</th>\n",
       "      <th>gene_name</th>\n",
       "      <th>variant_name</th>\n",
       "      <th>civic_variant_types</th>\n",
       "      <th>category</th>\n",
       "      <th>variant_accepted</th>\n",
       "      <th>molecular_profile_id</th>\n",
       "      <th>molecular_profile_score</th>\n",
       "      <th>molecular_profile_score_sum</th>\n",
       "    </tr>\n",
       "  </thead>\n",
       "  <tbody>\n",
       "    <tr>\n",
       "      <th>7</th>\n",
       "      <td>2930</td>\n",
       "      <td>VHL</td>\n",
       "      <td>NaN</td>\n",
       "      <td>NaN</td>\n",
       "      <td>Transcript Variant</td>\n",
       "      <td>True</td>\n",
       "      <td>[2799]</td>\n",
       "      <td>[7.5]</td>\n",
       "      <td>7.5</td>\n",
       "    </tr>\n",
       "    <tr>\n",
       "      <th>9</th>\n",
       "      <td>785</td>\n",
       "      <td>CHEK2</td>\n",
       "      <td>1100DELC</td>\n",
       "      <td>Frameshift Truncation</td>\n",
       "      <td>Protein Consequence</td>\n",
       "      <td>True</td>\n",
       "      <td>[766]</td>\n",
       "      <td>[15.0]</td>\n",
       "      <td>15.0</td>\n",
       "    </tr>\n",
       "    <tr>\n",
       "      <th>12</th>\n",
       "      <td>823</td>\n",
       "      <td>EPCAM</td>\n",
       "      <td>3' Exon Deletion</td>\n",
       "      <td>Disruptive Inframe Deletion</td>\n",
       "      <td>Region Defined Variant</td>\n",
       "      <td>True</td>\n",
       "      <td>[801]</td>\n",
       "      <td>[20.0]</td>\n",
       "      <td>20.0</td>\n",
       "    </tr>\n",
       "    <tr>\n",
       "      <th>13</th>\n",
       "      <td>433</td>\n",
       "      <td>HIF1A</td>\n",
       "      <td>3' UTR Polymorphism</td>\n",
       "      <td>3 Prime UTR Variant;Snp</td>\n",
       "      <td>Region Defined Variant</td>\n",
       "      <td>True</td>\n",
       "      <td>[429]</td>\n",
       "      <td>[10.0]</td>\n",
       "      <td>10.0</td>\n",
       "    </tr>\n",
       "    <tr>\n",
       "      <th>15</th>\n",
       "      <td>2367</td>\n",
       "      <td>VHL</td>\n",
       "      <td>3p26.3-25.3 11Mb del</td>\n",
       "      <td>NaN</td>\n",
       "      <td>Region Defined Variant</td>\n",
       "      <td>True</td>\n",
       "      <td>[2240]</td>\n",
       "      <td>[7.5]</td>\n",
       "      <td>7.5</td>\n",
       "    </tr>\n",
       "    <tr>\n",
       "      <th>...</th>\n",
       "      <td>...</td>\n",
       "      <td>...</td>\n",
       "      <td>...</td>\n",
       "      <td>...</td>\n",
       "      <td>...</td>\n",
       "      <td>...</td>\n",
       "      <td>...</td>\n",
       "      <td>...</td>\n",
       "      <td>...</td>\n",
       "    </tr>\n",
       "    <tr>\n",
       "      <th>1543</th>\n",
       "      <td>272</td>\n",
       "      <td>CDKN2A</td>\n",
       "      <td>p16 Expression</td>\n",
       "      <td>NaN</td>\n",
       "      <td>Expression</td>\n",
       "      <td>True</td>\n",
       "      <td>[268]</td>\n",
       "      <td>[180.0]</td>\n",
       "      <td>180.0</td>\n",
       "    </tr>\n",
       "    <tr>\n",
       "      <th>1545</th>\n",
       "      <td>3313</td>\n",
       "      <td>CDKN1A</td>\n",
       "      <td>rs1059234</td>\n",
       "      <td>NaN</td>\n",
       "      <td>Other</td>\n",
       "      <td>True</td>\n",
       "      <td>[3181]</td>\n",
       "      <td>[15.0]</td>\n",
       "      <td>15.0</td>\n",
       "    </tr>\n",
       "    <tr>\n",
       "      <th>1547</th>\n",
       "      <td>256</td>\n",
       "      <td>KIT</td>\n",
       "      <td>rs17084733</td>\n",
       "      <td>3 Prime UTR Variant</td>\n",
       "      <td>Other</td>\n",
       "      <td>True</td>\n",
       "      <td>[252]</td>\n",
       "      <td>[15.0]</td>\n",
       "      <td>15.0</td>\n",
       "    </tr>\n",
       "    <tr>\n",
       "      <th>1548</th>\n",
       "      <td>2671</td>\n",
       "      <td>CDKN1A</td>\n",
       "      <td>rs1801270</td>\n",
       "      <td>NaN</td>\n",
       "      <td>Other</td>\n",
       "      <td>True</td>\n",
       "      <td>[2540]</td>\n",
       "      <td>[15.0]</td>\n",
       "      <td>15.0</td>\n",
       "    </tr>\n",
       "    <tr>\n",
       "      <th>1550</th>\n",
       "      <td>705</td>\n",
       "      <td>GADD45A</td>\n",
       "      <td>rs681673</td>\n",
       "      <td>Coding Transcript Intron Variant</td>\n",
       "      <td>Other</td>\n",
       "      <td>True</td>\n",
       "      <td>[686]</td>\n",
       "      <td>[15.0]</td>\n",
       "      <td>15.0</td>\n",
       "    </tr>\n",
       "  </tbody>\n",
       "</table>\n",
       "<p>789 rows × 9 columns</p>\n",
       "</div>"
      ],
      "text/plain": [
       "      variant_id gene_name          variant_name   \n",
       "7           2930       VHL                   NaN  \\\n",
       "9            785     CHEK2              1100DELC   \n",
       "12           823     EPCAM      3' Exon Deletion   \n",
       "13           433     HIF1A   3' UTR Polymorphism   \n",
       "15          2367       VHL  3p26.3-25.3 11Mb del   \n",
       "...          ...       ...                   ...   \n",
       "1543         272    CDKN2A        p16 Expression   \n",
       "1545        3313    CDKN1A             rs1059234   \n",
       "1547         256       KIT            rs17084733   \n",
       "1548        2671    CDKN1A             rs1801270   \n",
       "1550         705   GADD45A              rs681673   \n",
       "\n",
       "                   civic_variant_types                category   \n",
       "7                                  NaN      Transcript Variant  \\\n",
       "9                Frameshift Truncation     Protein Consequence   \n",
       "12         Disruptive Inframe Deletion  Region Defined Variant   \n",
       "13             3 Prime UTR Variant;Snp  Region Defined Variant   \n",
       "15                                 NaN  Region Defined Variant   \n",
       "...                                ...                     ...   \n",
       "1543                               NaN              Expression   \n",
       "1545                               NaN                   Other   \n",
       "1547               3 Prime UTR Variant                   Other   \n",
       "1548                               NaN                   Other   \n",
       "1550  Coding Transcript Intron Variant                   Other   \n",
       "\n",
       "      variant_accepted molecular_profile_id molecular_profile_score   \n",
       "7                 True               [2799]                   [7.5]  \\\n",
       "9                 True                [766]                  [15.0]   \n",
       "12                True                [801]                  [20.0]   \n",
       "13                True                [429]                  [10.0]   \n",
       "15                True               [2240]                   [7.5]   \n",
       "...                ...                  ...                     ...   \n",
       "1543              True                [268]                 [180.0]   \n",
       "1545              True               [3181]                  [15.0]   \n",
       "1547              True                [252]                  [15.0]   \n",
       "1548              True               [2540]                  [15.0]   \n",
       "1550              True                [686]                  [15.0]   \n",
       "\n",
       "      molecular_profile_score_sum  \n",
       "7                             7.5  \n",
       "9                            15.0  \n",
       "12                           20.0  \n",
       "13                           10.0  \n",
       "15                            7.5  \n",
       "...                           ...  \n",
       "1543                        180.0  \n",
       "1545                         15.0  \n",
       "1547                         15.0  \n",
       "1548                         15.0  \n",
       "1550                         15.0  \n",
       "\n",
       "[789 rows x 9 columns]"
      ]
     },
     "execution_count": 261,
     "metadata": {},
     "output_type": "execute_result"
    }
   ],
   "source": [
    "not_supported_variants_add_molprof_df[\n",
    "    (not_supported_variants_add_molprof_df[\"molecular_profile_score_sum\"] != 0.0)\n",
    "]"
   ]
  },
  {
   "cell_type": "markdown",
   "metadata": {},
   "source": [
    "#### <a id='toc5_5_2_3_'></a>[Impact by Subcategory](#toc0_)"
   ]
  },
  {
   "cell_type": "code",
   "execution_count": 262,
   "metadata": {},
   "outputs": [],
   "source": [
    "not_supported_impact_summary = {\n",
    "    \"Category\": VARIANT_CATEGORY_VALUES,\n",
    "    \"CIVIC Total Sum Impact Score\": [],\n",
    "    \"Average Impact Score per Variant\": [],\n",
    "    \"Average Impact Score per Evidence Item\": [],\n",
    "    \"Total Number Evidence Items\": [\n",
    "        v[\"number_unique_not_supported_category_evidence\"]\n",
    "        for v in not_supported_variant_categories_evidence_summary_data.values()\n",
    "    ],\n",
    "    \"% Accepted Evidence Items\": [\n",
    "        v[\"percentage_accepted_evidence_not_supported_category_variants\"]\n",
    "        for v in not_supported_variant_categories_evidence_summary_data.values()\n",
    "    ],\n",
    "    \"Total Number Variants\": [\n",
    "        v[\"number_unique_not_supported_category_variants\"]\n",
    "        for v in not_supported_variant_categories_summary_data.values()\n",
    "    ],\n",
    "}"
   ]
  },
  {
   "cell_type": "code",
   "execution_count": 263,
   "metadata": {},
   "outputs": [
    {
     "name": "stdout",
     "output_type": "stream",
     "text": [
      "Expression: 3618.0\n",
      "Epigenetic Modification: 285.5\n",
      "Fusion: 6558.75\n",
      "Protein Consequence: 2683.75\n",
      "Gene Function: 1805.5\n",
      "Rearrangements: 653.0\n",
      "Copy Number: 225.0\n",
      "Other: 703.5\n",
      "Genotypes Easy: 195.0\n",
      "Genotypes Compound: 117.5\n",
      "Region Defined Variant: 8353.5\n",
      "Transcript Variant: 356.5\n"
     ]
    }
   ],
   "source": [
    "not_supported_variant_categories_impact_data = dict()\n",
    "for category in VARIANT_CATEGORY_VALUES:\n",
    "    not_supported_variant_categories_impact_data[category] = {}\n",
    "    impact_category_df = not_supported_variants_add_molprof_df[\n",
    "        not_supported_variants_add_molprof_df.category == category\n",
    "    ]\n",
    "\n",
    "    total_sum_not_supported_category_impact = impact_category_df[\n",
    "        \"molecular_profile_score_sum\"\n",
    "    ].sum()\n",
    "    not_supported_variant_categories_impact_data[category][\n",
    "        \"total_sum_not_supported_category_impact\"\n",
    "    ] = total_sum_not_supported_category_impact\n",
    "\n",
    "    avg_impact_score_variant = (\n",
    "        total_sum_not_supported_category_impact\n",
    "        / number_unique_not_supported_category_variants\n",
    "    )\n",
    "    not_supported_variant_categories_impact_data[category][\n",
    "        \"avg_impact_score_variant\"\n",
    "    ] = avg_impact_score_variant\n",
    "\n",
    "    avg_impact_score_evidence = (\n",
    "        total_sum_not_supported_category_impact\n",
    "        / number_unique_not_supported_category_evidence\n",
    "    )\n",
    "    not_supported_variant_categories_impact_data[category][\n",
    "        \"avg_impact_score_evidence\"\n",
    "    ] = avg_impact_score_evidence\n",
    "\n",
    "    not_supported_impact_summary[\"CIVIC Total Sum Impact Score\"].append(\n",
    "        total_sum_not_supported_category_impact\n",
    "    )\n",
    "    not_supported_impact_summary[\"Average Impact Score per Variant\"].append(\n",
    "        avg_impact_score_variant\n",
    "    )\n",
    "    not_supported_impact_summary[\"Average Impact Score per Evidence Item\"].append(\n",
    "        avg_impact_score_evidence\n",
    "    )\n",
    "\n",
    "    print(f\"{category}: {total_sum_not_supported_category_impact}\")"
   ]
  },
  {
   "cell_type": "code",
   "execution_count": 264,
   "metadata": {},
   "outputs": [],
   "source": [
    "not_supported_variant_impact_df = pd.DataFrame(not_supported_impact_summary)"
   ]
  },
  {
   "cell_type": "code",
   "execution_count": 318,
   "metadata": {},
   "outputs": [
    {
     "data": {
      "text/html": [
       "<div>\n",
       "<style scoped>\n",
       "    .dataframe tbody tr th:only-of-type {\n",
       "        vertical-align: middle;\n",
       "    }\n",
       "\n",
       "    .dataframe tbody tr th {\n",
       "        vertical-align: top;\n",
       "    }\n",
       "\n",
       "    .dataframe thead th {\n",
       "        text-align: right;\n",
       "    }\n",
       "</style>\n",
       "<table border=\"1\" class=\"dataframe\">\n",
       "  <thead>\n",
       "    <tr style=\"text-align: right;\">\n",
       "      <th></th>\n",
       "      <th>Category</th>\n",
       "      <th>CIVIC Total Sum Impact Score</th>\n",
       "      <th>Average Impact Score per Variant</th>\n",
       "      <th>Average Impact Score per Evidence Item</th>\n",
       "      <th>Total Number Evidence Items</th>\n",
       "      <th>% Accepted Evidence Items</th>\n",
       "      <th>Total Number Variants</th>\n",
       "    </tr>\n",
       "  </thead>\n",
       "  <tbody>\n",
       "    <tr>\n",
       "      <th>0</th>\n",
       "      <td>Expression</td>\n",
       "      <td>3618.00</td>\n",
       "      <td>9.89</td>\n",
       "      <td>8.11</td>\n",
       "      <td>610</td>\n",
       "      <td>56.07%</td>\n",
       "      <td>287</td>\n",
       "    </tr>\n",
       "    <tr>\n",
       "      <th>1</th>\n",
       "      <td>Epigenetic Modification</td>\n",
       "      <td>285.50</td>\n",
       "      <td>0.78</td>\n",
       "      <td>0.64</td>\n",
       "      <td>23</td>\n",
       "      <td>95.65%</td>\n",
       "      <td>14</td>\n",
       "    </tr>\n",
       "    <tr>\n",
       "      <th>2</th>\n",
       "      <td>Fusion</td>\n",
       "      <td>6558.75</td>\n",
       "      <td>17.92</td>\n",
       "      <td>14.71</td>\n",
       "      <td>1218</td>\n",
       "      <td>61.33%</td>\n",
       "      <td>294</td>\n",
       "    </tr>\n",
       "    <tr>\n",
       "      <th>3</th>\n",
       "      <td>Protein Consequence</td>\n",
       "      <td>2683.75</td>\n",
       "      <td>7.33</td>\n",
       "      <td>6.02</td>\n",
       "      <td>293</td>\n",
       "      <td>65.19%</td>\n",
       "      <td>127</td>\n",
       "    </tr>\n",
       "    <tr>\n",
       "      <th>4</th>\n",
       "      <td>Gene Function</td>\n",
       "      <td>1805.50</td>\n",
       "      <td>4.93</td>\n",
       "      <td>4.05</td>\n",
       "      <td>345</td>\n",
       "      <td>44.64%</td>\n",
       "      <td>91</td>\n",
       "    </tr>\n",
       "    <tr>\n",
       "      <th>5</th>\n",
       "      <td>Rearrangements</td>\n",
       "      <td>653.00</td>\n",
       "      <td>1.78</td>\n",
       "      <td>1.46</td>\n",
       "      <td>137</td>\n",
       "      <td>38.69%</td>\n",
       "      <td>52</td>\n",
       "    </tr>\n",
       "    <tr>\n",
       "      <th>6</th>\n",
       "      <td>Copy Number</td>\n",
       "      <td>225.00</td>\n",
       "      <td>0.61</td>\n",
       "      <td>0.50</td>\n",
       "      <td>67</td>\n",
       "      <td>46.27%</td>\n",
       "      <td>34</td>\n",
       "    </tr>\n",
       "    <tr>\n",
       "      <th>7</th>\n",
       "      <td>Other</td>\n",
       "      <td>703.50</td>\n",
       "      <td>1.92</td>\n",
       "      <td>1.58</td>\n",
       "      <td>156</td>\n",
       "      <td>39.74%</td>\n",
       "      <td>86</td>\n",
       "    </tr>\n",
       "    <tr>\n",
       "      <th>8</th>\n",
       "      <td>Genotypes Easy</td>\n",
       "      <td>195.00</td>\n",
       "      <td>0.53</td>\n",
       "      <td>0.44</td>\n",
       "      <td>20</td>\n",
       "      <td>65.00%</td>\n",
       "      <td>10</td>\n",
       "    </tr>\n",
       "    <tr>\n",
       "      <th>9</th>\n",
       "      <td>Genotypes Compound</td>\n",
       "      <td>117.50</td>\n",
       "      <td>0.32</td>\n",
       "      <td>0.26</td>\n",
       "      <td>7</td>\n",
       "      <td>57.14%</td>\n",
       "      <td>6</td>\n",
       "    </tr>\n",
       "    <tr>\n",
       "      <th>10</th>\n",
       "      <td>Region Defined Variant</td>\n",
       "      <td>8353.50</td>\n",
       "      <td>22.82</td>\n",
       "      <td>18.73</td>\n",
       "      <td>958</td>\n",
       "      <td>58.25%</td>\n",
       "      <td>196</td>\n",
       "    </tr>\n",
       "    <tr>\n",
       "      <th>11</th>\n",
       "      <td>Transcript Variant</td>\n",
       "      <td>356.50</td>\n",
       "      <td>0.97</td>\n",
       "      <td>0.80</td>\n",
       "      <td>446</td>\n",
       "      <td>12.11%</td>\n",
       "      <td>366</td>\n",
       "    </tr>\n",
       "  </tbody>\n",
       "</table>\n",
       "</div>"
      ],
      "text/plain": [
       "                   Category  CIVIC Total Sum Impact Score   \n",
       "0                Expression                       3618.00  \\\n",
       "1   Epigenetic Modification                        285.50   \n",
       "2                    Fusion                       6558.75   \n",
       "3       Protein Consequence                       2683.75   \n",
       "4             Gene Function                       1805.50   \n",
       "5            Rearrangements                        653.00   \n",
       "6               Copy Number                        225.00   \n",
       "7                     Other                        703.50   \n",
       "8            Genotypes Easy                        195.00   \n",
       "9        Genotypes Compound                        117.50   \n",
       "10   Region Defined Variant                       8353.50   \n",
       "11       Transcript Variant                        356.50   \n",
       "\n",
       "    Average Impact Score per Variant  Average Impact Score per Evidence Item   \n",
       "0                               9.89                                    8.11  \\\n",
       "1                               0.78                                    0.64   \n",
       "2                              17.92                                   14.71   \n",
       "3                               7.33                                    6.02   \n",
       "4                               4.93                                    4.05   \n",
       "5                               1.78                                    1.46   \n",
       "6                               0.61                                    0.50   \n",
       "7                               1.92                                    1.58   \n",
       "8                               0.53                                    0.44   \n",
       "9                               0.32                                    0.26   \n",
       "10                             22.82                                   18.73   \n",
       "11                              0.97                                    0.80   \n",
       "\n",
       "    Total Number Evidence Items % Accepted Evidence Items   \n",
       "0                           610                    56.07%  \\\n",
       "1                            23                    95.65%   \n",
       "2                          1218                    61.33%   \n",
       "3                           293                    65.19%   \n",
       "4                           345                    44.64%   \n",
       "5                           137                    38.69%   \n",
       "6                            67                    46.27%   \n",
       "7                           156                    39.74%   \n",
       "8                            20                    65.00%   \n",
       "9                             7                    57.14%   \n",
       "10                          958                    58.25%   \n",
       "11                          446                    12.11%   \n",
       "\n",
       "    Total Number Variants  \n",
       "0                     287  \n",
       "1                      14  \n",
       "2                     294  \n",
       "3                     127  \n",
       "4                      91  \n",
       "5                      52  \n",
       "6                      34  \n",
       "7                      86  \n",
       "8                      10  \n",
       "9                       6  \n",
       "10                    196  \n",
       "11                    366  "
      ]
     },
     "execution_count": 318,
     "metadata": {},
     "output_type": "execute_result"
    }
   ],
   "source": [
    "not_supported_variant_impact_df = not_supported_variant_impact_df.round(2)\n",
    "not_supported_variant_impact_df"
   ]
  },
  {
   "cell_type": "code",
   "execution_count": 266,
   "metadata": {},
   "outputs": [],
   "source": [
    "not_supported_variant_impact_df.to_csv(\n",
    "    \"../normalization_analysis_output/not_supported_variant_impact_df.csv\", index=False\n",
    ")"
   ]
  },
  {
   "cell_type": "markdown",
   "metadata": {},
   "source": [
    "# <a id='toc6_'></a>[Summary](#toc0_)"
   ]
  },
  {
   "cell_type": "markdown",
   "metadata": {},
   "source": [
    "## <a id='toc6_1_'></a>[Variant Analysis](#toc0_)"
   ]
  },
  {
   "cell_type": "markdown",
   "metadata": {},
   "source": [
    "### <a id='toc6_1_1_'></a>[Building Summary Table 1 & 2](#toc0_)"
   ]
  },
  {
   "cell_type": "code",
   "execution_count": 267,
   "metadata": {},
   "outputs": [],
   "source": [
    "all_variant_df = pd.DataFrame(variant_analysis_summary)"
   ]
  },
  {
   "cell_type": "code",
   "execution_count": 268,
   "metadata": {},
   "outputs": [],
   "source": [
    "all_variant_df[\"Percentage of all CIViC Variant Items\"] = (\n",
    "    all_variant_df[\"Fraction of all CIViC Variant Items\"].astype(str)\n",
    "    + \"  (\"\n",
    "    + all_variant_df[\"Percentage of all CIViC Variant Items\"]\n",
    "    + \")\"\n",
    ")\n",
    "all_variant_df[\"Percentage of Accepted Variant Items\"] = (\n",
    "    all_variant_df[\"Fraction of Accepted Variant Items\"].astype(str)\n",
    "    + \"  (\"\n",
    "    + all_variant_df[\"Percentage of Accepted Variant Items\"]\n",
    "    + \")\"\n",
    ")\n",
    "all_variant_df[\"Percentage of Not Accepted Variant Items\"] = (\n",
    "    all_variant_df[\"Fraction of Not Accepted Variant Items\"].astype(str)\n",
    "    + \"  (\"\n",
    "    + all_variant_df[\"Percentage of Not Accepted Variant Items\"]\n",
    "    + \")\"\n",
    ")"
   ]
  },
  {
   "cell_type": "code",
   "execution_count": 269,
   "metadata": {},
   "outputs": [],
   "source": [
    "all_variant_df = all_variant_df.drop(\n",
    "    [\n",
    "        \"Fraction of all CIViC Variant Items\",\n",
    "        \"Fraction of Accepted Variant Items\",\n",
    "        \"Fraction of Not Accepted Variant Items\",\n",
    "    ],\n",
    "    axis=1,\n",
    ")"
   ]
  },
  {
   "cell_type": "code",
   "execution_count": 270,
   "metadata": {},
   "outputs": [],
   "source": [
    "all_variant_percent_status_df = all_variant_df.drop(\n",
    "    [\n",
    "        \"Percentage of all CIViC Variant Items\",\n",
    "        \"Count of CIViC Variant Items per Category\",\n",
    "    ],\n",
    "    axis=1,\n",
    ")\n",
    "\n",
    "for_merge_all_variant_percent_of_civic_df = all_variant_df.drop(\n",
    "    [\n",
    "        \"Percentage of Accepted Variant Items\",\n",
    "        \"Percentage of Not Accepted Variant Items\",\n",
    "    ],\n",
    "    axis=1,\n",
    ")\n",
    "\n",
    "all_variant_percent_of_civic_df = for_merge_all_variant_percent_of_civic_df.drop(\n",
    "    [\"Count of CIViC Variant Items per Category\"], axis=1\n",
    ")"
   ]
  },
  {
   "cell_type": "code",
   "execution_count": 271,
   "metadata": {},
   "outputs": [],
   "source": [
    "for_merge_all_variant_percent_of_civic_df.to_csv(\n",
    "    \"../normalization_analysis_output/for_merge_all_variant_percent_of_civic_df.csv\", index=False\n",
    ")"
   ]
  },
  {
   "cell_type": "markdown",
   "metadata": {},
   "source": [
    "### <a id='toc6_1_2_'></a>[Summary Table 1](#toc0_)"
   ]
  },
  {
   "cell_type": "markdown",
   "metadata": {},
   "source": [
    "The table below shows the 3 categories that CIViC variants were divided into after normalization and what percentage they make up of all variants in CIViC data."
   ]
  },
  {
   "cell_type": "code",
   "execution_count": 272,
   "metadata": {},
   "outputs": [
    {
     "data": {
      "text/html": [
       "<div>\n",
       "<style scoped>\n",
       "    .dataframe tbody tr th:only-of-type {\n",
       "        vertical-align: middle;\n",
       "    }\n",
       "\n",
       "    .dataframe tbody tr th {\n",
       "        vertical-align: top;\n",
       "    }\n",
       "\n",
       "    .dataframe thead th {\n",
       "        text-align: right;\n",
       "    }\n",
       "</style>\n",
       "<table border=\"1\" class=\"dataframe\">\n",
       "  <thead>\n",
       "    <tr style=\"text-align: right;\">\n",
       "      <th></th>\n",
       "      <th>Percentage of all CIViC Variant Items</th>\n",
       "    </tr>\n",
       "    <tr>\n",
       "      <th>Variant Category</th>\n",
       "      <th></th>\n",
       "    </tr>\n",
       "  </thead>\n",
       "  <tbody>\n",
       "    <tr>\n",
       "      <th>Normalized</th>\n",
       "      <td>1864 / 3519  (52.97%)</td>\n",
       "    </tr>\n",
       "    <tr>\n",
       "      <th>Unable to Normalize</th>\n",
       "      <td>92 / 3519  (2.61%)</td>\n",
       "    </tr>\n",
       "    <tr>\n",
       "      <th>Not Supported</th>\n",
       "      <td>1563 / 3519  (44.42%)</td>\n",
       "    </tr>\n",
       "  </tbody>\n",
       "</table>\n",
       "</div>"
      ],
      "text/plain": [
       "                    Percentage of all CIViC Variant Items\n",
       "Variant Category                                         \n",
       "Normalized                          1864 / 3519  (52.97%)\n",
       "Unable to Normalize                    92 / 3519  (2.61%)\n",
       "Not Supported                       1563 / 3519  (44.42%)"
      ]
     },
     "execution_count": 272,
     "metadata": {},
     "output_type": "execute_result"
    }
   ],
   "source": [
    "all_variant_percent_of_civic_df = all_variant_percent_of_civic_df.set_index(\n",
    "    \"Variant Category\"\n",
    ")\n",
    "all_variant_percent_of_civic_df"
   ]
  },
  {
   "cell_type": "code",
   "execution_count": 273,
   "metadata": {},
   "outputs": [],
   "source": [
    "civic_summary_table_1 = all_variant_percent_of_civic_df"
   ]
  },
  {
   "cell_type": "markdown",
   "metadata": {},
   "source": [
    "### <a id='toc6_1_3_'></a>[Summary Table 2](#toc0_)"
   ]
  },
  {
   "cell_type": "markdown",
   "metadata": {},
   "source": [
    "The table below shows the 3 categories that CIViC variants were divided into after normalization and what percentage of the variants in each category are accepted (have at least one evidence item that is accepted) or not."
   ]
  },
  {
   "cell_type": "code",
   "execution_count": 274,
   "metadata": {},
   "outputs": [
    {
     "data": {
      "text/html": [
       "<div>\n",
       "<style scoped>\n",
       "    .dataframe tbody tr th:only-of-type {\n",
       "        vertical-align: middle;\n",
       "    }\n",
       "\n",
       "    .dataframe tbody tr th {\n",
       "        vertical-align: top;\n",
       "    }\n",
       "\n",
       "    .dataframe thead th {\n",
       "        text-align: right;\n",
       "    }\n",
       "</style>\n",
       "<table border=\"1\" class=\"dataframe\">\n",
       "  <thead>\n",
       "    <tr style=\"text-align: right;\">\n",
       "      <th></th>\n",
       "      <th>Percentage of Accepted Variant Items</th>\n",
       "      <th>Percentage of Not Accepted Variant Items</th>\n",
       "    </tr>\n",
       "    <tr>\n",
       "      <th>Variant Category</th>\n",
       "      <th></th>\n",
       "      <th></th>\n",
       "    </tr>\n",
       "  </thead>\n",
       "  <tbody>\n",
       "    <tr>\n",
       "      <th>Normalized</th>\n",
       "      <td>865 / 1864  (46.41%)</td>\n",
       "      <td>999 / 1864  (53.59%)</td>\n",
       "    </tr>\n",
       "    <tr>\n",
       "      <th>Unable to Normalize</th>\n",
       "      <td>15 / 92  (16.30%)</td>\n",
       "      <td>77 / 92  (83.70%)</td>\n",
       "    </tr>\n",
       "    <tr>\n",
       "      <th>Not Supported</th>\n",
       "      <td>790 / 1563  (50.54%)</td>\n",
       "      <td>773 / 1563  (49.46%)</td>\n",
       "    </tr>\n",
       "  </tbody>\n",
       "</table>\n",
       "</div>"
      ],
      "text/plain": [
       "                    Percentage of Accepted Variant Items   \n",
       "Variant Category                                           \n",
       "Normalized                          865 / 1864  (46.41%)  \\\n",
       "Unable to Normalize                    15 / 92  (16.30%)   \n",
       "Not Supported                       790 / 1563  (50.54%)   \n",
       "\n",
       "                    Percentage of Not Accepted Variant Items  \n",
       "Variant Category                                              \n",
       "Normalized                              999 / 1864  (53.59%)  \n",
       "Unable to Normalize                        77 / 92  (83.70%)  \n",
       "Not Supported                           773 / 1563  (49.46%)  "
      ]
     },
     "execution_count": 274,
     "metadata": {},
     "output_type": "execute_result"
    }
   ],
   "source": [
    "all_variant_percent_status_df = all_variant_percent_status_df.set_index(\n",
    "    \"Variant Category\"\n",
    ")\n",
    "all_variant_percent_status_df"
   ]
  },
  {
   "cell_type": "code",
   "execution_count": 275,
   "metadata": {},
   "outputs": [],
   "source": [
    "civic_summary_table_2 = all_variant_percent_status_df"
   ]
  },
  {
   "cell_type": "markdown",
   "metadata": {},
   "source": [
    "### <a id='toc6_1_4_'></a>[Building Summary Tables 3 - 5](#toc0_)"
   ]
  },
  {
   "cell_type": "code",
   "execution_count": 276,
   "metadata": {},
   "outputs": [],
   "source": [
    "not_supported_variant_df = pd.DataFrame(not_supported_variant_analysis_summary)"
   ]
  },
  {
   "cell_type": "code",
   "execution_count": 277,
   "metadata": {},
   "outputs": [],
   "source": [
    "not_supported_variant_df[\"Percent of Not Supported Variant Items\"] = (\n",
    "    not_supported_variant_df[\"Fraction of Not Supported Variant Items\"].astype(str)\n",
    "    + \"  (\"\n",
    "    + not_supported_variant_df[\"Percent of Not Supported Variant Items\"]\n",
    "    + \")\"\n",
    ")\n",
    "not_supported_variant_df[\"Percent of all CIViC Variant Items\"] = (\n",
    "    not_supported_variant_df[\"Fraction of all CIViC Variant Items\"].astype(str)\n",
    "    + \"  (\"\n",
    "    + not_supported_variant_df[\"Percent of all CIViC Variant Items\"]\n",
    "    + \")\"\n",
    ")\n",
    "not_supported_variant_df[\"Percent of Accepted Variant Items\"] = (\n",
    "    not_supported_variant_df[\"Fraction of Accepted Variant Items\"].astype(str)\n",
    "    + \"  (\"\n",
    "    + not_supported_variant_df[\"Percent of Accepted Variant Items\"]\n",
    "    + \")\"\n",
    ")\n",
    "not_supported_variant_df[\"Percent of Not Accepted Variant Items\"] = (\n",
    "    not_supported_variant_df[\"Fraction of Not Accepted Variant Items\"].astype(str)\n",
    "    + \"  (\"\n",
    "    + not_supported_variant_df[\"Percent of Not Accepted Variant Items\"]\n",
    "    + \")\"\n",
    ")"
   ]
  },
  {
   "cell_type": "code",
   "execution_count": 278,
   "metadata": {},
   "outputs": [],
   "source": [
    "not_supported_variant_df = not_supported_variant_df.drop(\n",
    "    [\n",
    "        \"Fraction of Not Supported Variant Items\",\n",
    "        \"Fraction of all CIViC Variant Items\",\n",
    "        \"Fraction of Accepted Variant Items\",\n",
    "        \"Fraction of Not Accepted Variant Items\",\n",
    "    ],\n",
    "    axis=1,\n",
    ")"
   ]
  },
  {
   "cell_type": "code",
   "execution_count": 279,
   "metadata": {},
   "outputs": [],
   "source": [
    "for_merge_not_supported_variant_percent_of_civic_df = not_supported_variant_df.drop(\n",
    "    [\n",
    "        \"Percent of Not Supported Variant Items\",\n",
    "        \"Percent of Accepted Variant Items\",\n",
    "        \"Percent of Not Accepted Variant Items\",\n",
    "    ],\n",
    "    axis=1,\n",
    ")\n",
    "\n",
    "not_supported_variant_percent_of_civic_df = (\n",
    "    for_merge_not_supported_variant_percent_of_civic_df.drop(\n",
    "        [\"Count of CIViC Variant Items per Category\"], axis=1\n",
    "    )\n",
    ")\n",
    "\n",
    "not_supported_variant_percent_of_not_supported_df = not_supported_variant_df.drop(\n",
    "    [\n",
    "        \"Percent of all CIViC Variant Items\",\n",
    "        \"Count of CIViC Variant Items per Category\",\n",
    "        \"Percent of Accepted Variant Items\",\n",
    "        \"Percent of Not Accepted Variant Items\",\n",
    "    ],\n",
    "    axis=1,\n",
    ")\n",
    "\n",
    "not_supported_variant_percent_evidence_df = not_supported_variant_df.drop(\n",
    "    [\n",
    "        \"Percent of all CIViC Variant Items\",\n",
    "        \"Percent of Not Supported Variant Items\",\n",
    "        \"Count of CIViC Variant Items per Category\",\n",
    "    ],\n",
    "    axis=1,\n",
    ")"
   ]
  },
  {
   "cell_type": "code",
   "execution_count": 280,
   "metadata": {},
   "outputs": [],
   "source": [
    "for_merge_not_supported_variant_percent_of_civic_df.to_csv(\n",
    "    \"../normalization_analysis_output/for_merge_not_supported_variant_percent_of_civic_df.csv\", index=False\n",
    ")"
   ]
  },
  {
   "cell_type": "markdown",
   "metadata": {},
   "source": [
    "### <a id='toc6_1_5_'></a>[Summary Table 3](#toc0_)"
   ]
  },
  {
   "cell_type": "markdown",
   "metadata": {},
   "source": [
    "The table below shows the categories that the Not Supported variants were broken into and what percentage of all CIViC variants they make up. These percentages will not add up to 100% because Not Supported variants make up 45.62% of all CIViC variants."
   ]
  },
  {
   "cell_type": "code",
   "execution_count": 281,
   "metadata": {},
   "outputs": [
    {
     "data": {
      "text/html": [
       "<div>\n",
       "<style scoped>\n",
       "    .dataframe tbody tr th:only-of-type {\n",
       "        vertical-align: middle;\n",
       "    }\n",
       "\n",
       "    .dataframe tbody tr th {\n",
       "        vertical-align: top;\n",
       "    }\n",
       "\n",
       "    .dataframe thead th {\n",
       "        text-align: right;\n",
       "    }\n",
       "</style>\n",
       "<table border=\"1\" class=\"dataframe\">\n",
       "  <thead>\n",
       "    <tr style=\"text-align: right;\">\n",
       "      <th></th>\n",
       "      <th>Percent of all CIViC Variant Items</th>\n",
       "    </tr>\n",
       "    <tr>\n",
       "      <th>Category</th>\n",
       "      <th></th>\n",
       "    </tr>\n",
       "  </thead>\n",
       "  <tbody>\n",
       "    <tr>\n",
       "      <th>Expression</th>\n",
       "      <td>287 / 3519  (8.16%)</td>\n",
       "    </tr>\n",
       "    <tr>\n",
       "      <th>Epigenetic Modification</th>\n",
       "      <td>14 / 3519  (0.40%)</td>\n",
       "    </tr>\n",
       "    <tr>\n",
       "      <th>Fusion</th>\n",
       "      <td>294 / 3519  (8.35%)</td>\n",
       "    </tr>\n",
       "    <tr>\n",
       "      <th>Protein Consequence</th>\n",
       "      <td>127 / 3519  (3.61%)</td>\n",
       "    </tr>\n",
       "    <tr>\n",
       "      <th>Gene Function</th>\n",
       "      <td>91 / 3519  (2.59%)</td>\n",
       "    </tr>\n",
       "    <tr>\n",
       "      <th>Rearrangements</th>\n",
       "      <td>52 / 3519  (1.48%)</td>\n",
       "    </tr>\n",
       "    <tr>\n",
       "      <th>Copy Number</th>\n",
       "      <td>34 / 3519  (0.97%)</td>\n",
       "    </tr>\n",
       "    <tr>\n",
       "      <th>Other</th>\n",
       "      <td>86 / 3519  (2.44%)</td>\n",
       "    </tr>\n",
       "    <tr>\n",
       "      <th>Genotypes Easy</th>\n",
       "      <td>10 / 3519  (0.28%)</td>\n",
       "    </tr>\n",
       "    <tr>\n",
       "      <th>Genotypes Compound</th>\n",
       "      <td>6 / 3519  (0.17%)</td>\n",
       "    </tr>\n",
       "    <tr>\n",
       "      <th>Region Defined Variant</th>\n",
       "      <td>196 / 3519  (5.57%)</td>\n",
       "    </tr>\n",
       "    <tr>\n",
       "      <th>Transcript Variant</th>\n",
       "      <td>366 / 3519  (10.40%)</td>\n",
       "    </tr>\n",
       "  </tbody>\n",
       "</table>\n",
       "</div>"
      ],
      "text/plain": [
       "                        Percent of all CIViC Variant Items\n",
       "Category                                                  \n",
       "Expression                             287 / 3519  (8.16%)\n",
       "Epigenetic Modification                 14 / 3519  (0.40%)\n",
       "Fusion                                 294 / 3519  (8.35%)\n",
       "Protein Consequence                    127 / 3519  (3.61%)\n",
       "Gene Function                           91 / 3519  (2.59%)\n",
       "Rearrangements                          52 / 3519  (1.48%)\n",
       "Copy Number                             34 / 3519  (0.97%)\n",
       "Other                                   86 / 3519  (2.44%)\n",
       "Genotypes Easy                          10 / 3519  (0.28%)\n",
       "Genotypes Compound                       6 / 3519  (0.17%)\n",
       "Region Defined Variant                 196 / 3519  (5.57%)\n",
       "Transcript Variant                    366 / 3519  (10.40%)"
      ]
     },
     "execution_count": 281,
     "metadata": {},
     "output_type": "execute_result"
    }
   ],
   "source": [
    "not_supported_variant_percent_of_civic_df = (\n",
    "    not_supported_variant_percent_of_civic_df.set_index(\"Category\")\n",
    ")\n",
    "not_supported_variant_percent_of_civic_df"
   ]
  },
  {
   "cell_type": "code",
   "execution_count": 282,
   "metadata": {},
   "outputs": [],
   "source": [
    "civic_summary_table_3 = not_supported_variant_percent_of_civic_df"
   ]
  },
  {
   "cell_type": "markdown",
   "metadata": {},
   "source": [
    "### <a id='toc6_1_6_'></a>[Summary Table 4](#toc0_)"
   ]
  },
  {
   "cell_type": "markdown",
   "metadata": {},
   "source": [
    "The table below shows the Not Supported variants broken up into 12 sub categories and what percent each sub category take up in Not Supported variant group."
   ]
  },
  {
   "cell_type": "code",
   "execution_count": 283,
   "metadata": {},
   "outputs": [
    {
     "data": {
      "text/html": [
       "<div>\n",
       "<style scoped>\n",
       "    .dataframe tbody tr th:only-of-type {\n",
       "        vertical-align: middle;\n",
       "    }\n",
       "\n",
       "    .dataframe tbody tr th {\n",
       "        vertical-align: top;\n",
       "    }\n",
       "\n",
       "    .dataframe thead th {\n",
       "        text-align: right;\n",
       "    }\n",
       "</style>\n",
       "<table border=\"1\" class=\"dataframe\">\n",
       "  <thead>\n",
       "    <tr style=\"text-align: right;\">\n",
       "      <th></th>\n",
       "      <th>Percent of Not Supported Variant Items</th>\n",
       "    </tr>\n",
       "    <tr>\n",
       "      <th>Category</th>\n",
       "      <th></th>\n",
       "    </tr>\n",
       "  </thead>\n",
       "  <tbody>\n",
       "    <tr>\n",
       "      <th>Expression</th>\n",
       "      <td>287 / 1563  (18.36%)</td>\n",
       "    </tr>\n",
       "    <tr>\n",
       "      <th>Epigenetic Modification</th>\n",
       "      <td>14 / 1563  (0.90%)</td>\n",
       "    </tr>\n",
       "    <tr>\n",
       "      <th>Fusion</th>\n",
       "      <td>294 / 1563  (18.81%)</td>\n",
       "    </tr>\n",
       "    <tr>\n",
       "      <th>Protein Consequence</th>\n",
       "      <td>127 / 1563  (8.13%)</td>\n",
       "    </tr>\n",
       "    <tr>\n",
       "      <th>Gene Function</th>\n",
       "      <td>91 / 1563  (5.82%)</td>\n",
       "    </tr>\n",
       "    <tr>\n",
       "      <th>Rearrangements</th>\n",
       "      <td>52 / 1563  (3.33%)</td>\n",
       "    </tr>\n",
       "    <tr>\n",
       "      <th>Copy Number</th>\n",
       "      <td>34 / 1563  (2.18%)</td>\n",
       "    </tr>\n",
       "    <tr>\n",
       "      <th>Other</th>\n",
       "      <td>86 / 1563  (5.50%)</td>\n",
       "    </tr>\n",
       "    <tr>\n",
       "      <th>Genotypes Easy</th>\n",
       "      <td>10 / 1563  (0.64%)</td>\n",
       "    </tr>\n",
       "    <tr>\n",
       "      <th>Genotypes Compound</th>\n",
       "      <td>6 / 1563  (0.38%)</td>\n",
       "    </tr>\n",
       "    <tr>\n",
       "      <th>Region Defined Variant</th>\n",
       "      <td>196 / 1563  (12.54%)</td>\n",
       "    </tr>\n",
       "    <tr>\n",
       "      <th>Transcript Variant</th>\n",
       "      <td>366 / 1563  (23.42%)</td>\n",
       "    </tr>\n",
       "  </tbody>\n",
       "</table>\n",
       "</div>"
      ],
      "text/plain": [
       "                        Percent of Not Supported Variant Items\n",
       "Category                                                      \n",
       "Expression                                287 / 1563  (18.36%)\n",
       "Epigenetic Modification                     14 / 1563  (0.90%)\n",
       "Fusion                                    294 / 1563  (18.81%)\n",
       "Protein Consequence                        127 / 1563  (8.13%)\n",
       "Gene Function                               91 / 1563  (5.82%)\n",
       "Rearrangements                              52 / 1563  (3.33%)\n",
       "Copy Number                                 34 / 1563  (2.18%)\n",
       "Other                                       86 / 1563  (5.50%)\n",
       "Genotypes Easy                              10 / 1563  (0.64%)\n",
       "Genotypes Compound                           6 / 1563  (0.38%)\n",
       "Region Defined Variant                    196 / 1563  (12.54%)\n",
       "Transcript Variant                        366 / 1563  (23.42%)"
      ]
     },
     "execution_count": 283,
     "metadata": {},
     "output_type": "execute_result"
    }
   ],
   "source": [
    "not_supported_variant_percent_of_not_supported_df = (\n",
    "    not_supported_variant_percent_of_not_supported_df.set_index(\"Category\")\n",
    ")\n",
    "not_supported_variant_percent_of_not_supported_df"
   ]
  },
  {
   "cell_type": "code",
   "execution_count": 284,
   "metadata": {},
   "outputs": [],
   "source": [
    "civic_summary_table_4 = not_supported_variant_percent_of_not_supported_df"
   ]
  },
  {
   "cell_type": "markdown",
   "metadata": {},
   "source": [
    "### <a id='toc6_1_7_'></a>[Summary Table 5](#toc0_)"
   ]
  },
  {
   "cell_type": "markdown",
   "metadata": {},
   "source": [
    "The table below shows the Not Supported variants broken up into 12 sub categories and what percent each sub category take up in Not Supported variant group."
   ]
  },
  {
   "cell_type": "code",
   "execution_count": 285,
   "metadata": {},
   "outputs": [
    {
     "data": {
      "text/html": [
       "<div>\n",
       "<style scoped>\n",
       "    .dataframe tbody tr th:only-of-type {\n",
       "        vertical-align: middle;\n",
       "    }\n",
       "\n",
       "    .dataframe tbody tr th {\n",
       "        vertical-align: top;\n",
       "    }\n",
       "\n",
       "    .dataframe thead th {\n",
       "        text-align: right;\n",
       "    }\n",
       "</style>\n",
       "<table border=\"1\" class=\"dataframe\">\n",
       "  <thead>\n",
       "    <tr style=\"text-align: right;\">\n",
       "      <th></th>\n",
       "      <th>Percent of Accepted Variant Items</th>\n",
       "      <th>Percent of Not Accepted Variant Items</th>\n",
       "    </tr>\n",
       "    <tr>\n",
       "      <th>Category</th>\n",
       "      <th></th>\n",
       "      <th></th>\n",
       "    </tr>\n",
       "  </thead>\n",
       "  <tbody>\n",
       "    <tr>\n",
       "      <th>Expression</th>\n",
       "      <td>180 / 287  (62.72%)</td>\n",
       "      <td>107 / 287  (37.28%)</td>\n",
       "    </tr>\n",
       "    <tr>\n",
       "      <th>Epigenetic Modification</th>\n",
       "      <td>14 / 14  (100.00%)</td>\n",
       "      <td>0 / 14  (0.00%)</td>\n",
       "    </tr>\n",
       "    <tr>\n",
       "      <th>Fusion</th>\n",
       "      <td>204 / 294  (69.39%)</td>\n",
       "      <td>90 / 294  (30.61%)</td>\n",
       "    </tr>\n",
       "    <tr>\n",
       "      <th>Protein Consequence</th>\n",
       "      <td>70 / 127  (55.12%)</td>\n",
       "      <td>57 / 127  (44.88%)</td>\n",
       "    </tr>\n",
       "    <tr>\n",
       "      <th>Gene Function</th>\n",
       "      <td>49 / 91  (53.85%)</td>\n",
       "      <td>42 / 91  (46.15%)</td>\n",
       "    </tr>\n",
       "    <tr>\n",
       "      <th>Rearrangements</th>\n",
       "      <td>12 / 52  (23.08%)</td>\n",
       "      <td>40 / 52  (76.92%)</td>\n",
       "    </tr>\n",
       "    <tr>\n",
       "      <th>Copy Number</th>\n",
       "      <td>19 / 34  (55.88%)</td>\n",
       "      <td>15 / 34  (44.12%)</td>\n",
       "    </tr>\n",
       "    <tr>\n",
       "      <th>Other</th>\n",
       "      <td>44 / 86  (51.16%)</td>\n",
       "      <td>42 / 86  (48.84%)</td>\n",
       "    </tr>\n",
       "    <tr>\n",
       "      <th>Genotypes Easy</th>\n",
       "      <td>8 / 10  (80.00%)</td>\n",
       "      <td>2 / 10  (20.00%)</td>\n",
       "    </tr>\n",
       "    <tr>\n",
       "      <th>Genotypes Compound</th>\n",
       "      <td>4 / 6  (66.67%)</td>\n",
       "      <td>2 / 6  (33.33%)</td>\n",
       "    </tr>\n",
       "    <tr>\n",
       "      <th>Region Defined Variant</th>\n",
       "      <td>135 / 196  (68.88%)</td>\n",
       "      <td>61 / 196  (31.12%)</td>\n",
       "    </tr>\n",
       "    <tr>\n",
       "      <th>Transcript Variant</th>\n",
       "      <td>51 / 366  (13.93%)</td>\n",
       "      <td>315 / 366  (86.07%)</td>\n",
       "    </tr>\n",
       "  </tbody>\n",
       "</table>\n",
       "</div>"
      ],
      "text/plain": [
       "                        Percent of Accepted Variant Items   \n",
       "Category                                                    \n",
       "Expression                            180 / 287  (62.72%)  \\\n",
       "Epigenetic Modification                14 / 14  (100.00%)   \n",
       "Fusion                                204 / 294  (69.39%)   \n",
       "Protein Consequence                    70 / 127  (55.12%)   \n",
       "Gene Function                           49 / 91  (53.85%)   \n",
       "Rearrangements                          12 / 52  (23.08%)   \n",
       "Copy Number                             19 / 34  (55.88%)   \n",
       "Other                                   44 / 86  (51.16%)   \n",
       "Genotypes Easy                           8 / 10  (80.00%)   \n",
       "Genotypes Compound                        4 / 6  (66.67%)   \n",
       "Region Defined Variant                135 / 196  (68.88%)   \n",
       "Transcript Variant                     51 / 366  (13.93%)   \n",
       "\n",
       "                        Percent of Not Accepted Variant Items  \n",
       "Category                                                       \n",
       "Expression                                107 / 287  (37.28%)  \n",
       "Epigenetic Modification                       0 / 14  (0.00%)  \n",
       "Fusion                                     90 / 294  (30.61%)  \n",
       "Protein Consequence                        57 / 127  (44.88%)  \n",
       "Gene Function                               42 / 91  (46.15%)  \n",
       "Rearrangements                              40 / 52  (76.92%)  \n",
       "Copy Number                                 15 / 34  (44.12%)  \n",
       "Other                                       42 / 86  (48.84%)  \n",
       "Genotypes Easy                               2 / 10  (20.00%)  \n",
       "Genotypes Compound                            2 / 6  (33.33%)  \n",
       "Region Defined Variant                     61 / 196  (31.12%)  \n",
       "Transcript Variant                        315 / 366  (86.07%)  "
      ]
     },
     "execution_count": 285,
     "metadata": {},
     "output_type": "execute_result"
    }
   ],
   "source": [
    "not_supported_variant_percent_evidence_df = (\n",
    "    not_supported_variant_percent_evidence_df.set_index(\"Category\")\n",
    ")\n",
    "not_supported_variant_percent_evidence_df"
   ]
  },
  {
   "cell_type": "code",
   "execution_count": 286,
   "metadata": {},
   "outputs": [],
   "source": [
    "civic_summary_table_5 = not_supported_variant_percent_evidence_df"
   ]
  },
  {
   "cell_type": "markdown",
   "metadata": {},
   "source": [
    "## <a id='toc6_2_'></a>[Evidence Analysis](#toc0_)"
   ]
  },
  {
   "cell_type": "markdown",
   "metadata": {},
   "source": [
    "### <a id='toc6_2_1_'></a>[Building Summary Tables 6 & 7](#toc0_)"
   ]
  },
  {
   "cell_type": "code",
   "execution_count": 287,
   "metadata": {},
   "outputs": [],
   "source": [
    "all_variant_evidence_df = pd.DataFrame(evidence_analysis_summary)"
   ]
  },
  {
   "cell_type": "code",
   "execution_count": 288,
   "metadata": {},
   "outputs": [],
   "source": [
    "all_variant_evidence_df[\"Percentage of all CIViC Evidence Items\"] = (\n",
    "    all_variant_evidence_df[\"Fraction of all CIViC Evidence Items\"].astype(str)\n",
    "    + \"  (\"\n",
    "    + all_variant_evidence_df[\"Percentage of all CIViC Evidence Items\"]\n",
    "    + \")\"\n",
    ")\n",
    "all_variant_evidence_df[\"Percentage of Accepted Evidence Items\"] = (\n",
    "    all_variant_evidence_df[\"Fraction of Accepted Evidence Items\"].astype(str)\n",
    "    + \"  (\"\n",
    "    + all_variant_evidence_df[\"Percentage of Accepted Evidence Items\"]\n",
    "    + \")\"\n",
    ")\n",
    "all_variant_evidence_df[\"Percentage of Submitted Evidence Items\"] = (\n",
    "    all_variant_evidence_df[\"Fraction of Submitted Evidence Items\"].astype(str)\n",
    "    + \"  (\"\n",
    "    + all_variant_evidence_df[\"Percentage of Submitted Evidence Items\"]\n",
    "    + \")\"\n",
    ")"
   ]
  },
  {
   "cell_type": "code",
   "execution_count": 289,
   "metadata": {},
   "outputs": [],
   "source": [
    "all_variant_evidence_df = all_variant_evidence_df.drop(\n",
    "    [\n",
    "        \"Fraction of all CIViC Evidence Items\",\n",
    "        \"Fraction of Accepted Evidence Items\",\n",
    "        \"Fraction of Submitted Evidence Items\",\n",
    "    ],\n",
    "    axis=1,\n",
    ")"
   ]
  },
  {
   "cell_type": "code",
   "execution_count": 290,
   "metadata": {},
   "outputs": [],
   "source": [
    "for_merge_all_variant_evidence_percent_of_civic_df = all_variant_evidence_df.drop(\n",
    "    [\"Percentage of Accepted Evidence Items\", \"Percentage of Submitted Evidence Items\"],\n",
    "    axis=1,\n",
    ")\n",
    "\n",
    "all_variant_evidence_percent_of_civic_df = (\n",
    "    for_merge_all_variant_evidence_percent_of_civic_df.drop(\n",
    "        [\"Count of CIViC Evidence Items per Category\"], axis=1\n",
    "    )\n",
    ")\n",
    "\n",
    "all_variant_evidence_percent_evidence_df = all_variant_evidence_df.drop(\n",
    "    [\n",
    "        \"Percentage of all CIViC Evidence Items\",\n",
    "        \"Count of CIViC Evidence Items per Category\",\n",
    "    ],\n",
    "    axis=1,\n",
    ")"
   ]
  },
  {
   "cell_type": "code",
   "execution_count": 291,
   "metadata": {},
   "outputs": [],
   "source": [
    "for_merge_all_variant_evidence_percent_of_civic_df.to_csv(\n",
    "    \"../normalization_analysis_output/for_merge_all_variant_evidence_percent_of_civic_df.csv\", index=False\n",
    ")"
   ]
  },
  {
   "cell_type": "markdown",
   "metadata": {},
   "source": [
    "### <a id='toc6_2_2_'></a>[Summary Table 6](#toc0_)"
   ]
  },
  {
   "cell_type": "markdown",
   "metadata": {},
   "source": [
    "The table below shows what percentage of all evidence items in CIViC are associated with Normalized, Unable to Normalize, and Not Supported variants. This will not add up to 100% because evidence itmes may be used across multiple variants."
   ]
  },
  {
   "cell_type": "code",
   "execution_count": 292,
   "metadata": {},
   "outputs": [
    {
     "data": {
      "text/html": [
       "<div>\n",
       "<style scoped>\n",
       "    .dataframe tbody tr th:only-of-type {\n",
       "        vertical-align: middle;\n",
       "    }\n",
       "\n",
       "    .dataframe tbody tr th {\n",
       "        vertical-align: top;\n",
       "    }\n",
       "\n",
       "    .dataframe thead th {\n",
       "        text-align: right;\n",
       "    }\n",
       "</style>\n",
       "<table border=\"1\" class=\"dataframe\">\n",
       "  <thead>\n",
       "    <tr style=\"text-align: right;\">\n",
       "      <th></th>\n",
       "      <th>Percentage of all CIViC Evidence Items</th>\n",
       "    </tr>\n",
       "    <tr>\n",
       "      <th>Variant Category</th>\n",
       "      <th></th>\n",
       "    </tr>\n",
       "  </thead>\n",
       "  <tbody>\n",
       "    <tr>\n",
       "      <th>Normalized</th>\n",
       "      <td>5851 / 9920  (58.98%)</td>\n",
       "    </tr>\n",
       "    <tr>\n",
       "      <th>Unable to Normalize</th>\n",
       "      <td>142 / 9920  (1.43%)</td>\n",
       "    </tr>\n",
       "    <tr>\n",
       "      <th>Not Supported</th>\n",
       "      <td>4243 / 9920  (42.77%)</td>\n",
       "    </tr>\n",
       "  </tbody>\n",
       "</table>\n",
       "</div>"
      ],
      "text/plain": [
       "                    Percentage of all CIViC Evidence Items\n",
       "Variant Category                                          \n",
       "Normalized                           5851 / 9920  (58.98%)\n",
       "Unable to Normalize                    142 / 9920  (1.43%)\n",
       "Not Supported                        4243 / 9920  (42.77%)"
      ]
     },
     "execution_count": 292,
     "metadata": {},
     "output_type": "execute_result"
    }
   ],
   "source": [
    "all_variant_evidence_percent_of_civic_df = (\n",
    "    all_variant_evidence_percent_of_civic_df.set_index(\"Variant Category\")\n",
    ")\n",
    "all_variant_evidence_percent_of_civic_df"
   ]
  },
  {
   "cell_type": "code",
   "execution_count": 293,
   "metadata": {},
   "outputs": [],
   "source": [
    "civic_summary_table_6 = all_variant_evidence_percent_of_civic_df"
   ]
  },
  {
   "cell_type": "markdown",
   "metadata": {},
   "source": [
    "### <a id='toc6_2_3_'></a>[Summmary Table 7](#toc0_)"
   ]
  },
  {
   "cell_type": "markdown",
   "metadata": {},
   "source": [
    "The table below shows the percentage of accepted and sumbitted evidence items per category of variants."
   ]
  },
  {
   "cell_type": "code",
   "execution_count": 294,
   "metadata": {},
   "outputs": [
    {
     "data": {
      "text/html": [
       "<div>\n",
       "<style scoped>\n",
       "    .dataframe tbody tr th:only-of-type {\n",
       "        vertical-align: middle;\n",
       "    }\n",
       "\n",
       "    .dataframe tbody tr th {\n",
       "        vertical-align: top;\n",
       "    }\n",
       "\n",
       "    .dataframe thead th {\n",
       "        text-align: right;\n",
       "    }\n",
       "</style>\n",
       "<table border=\"1\" class=\"dataframe\">\n",
       "  <thead>\n",
       "    <tr style=\"text-align: right;\">\n",
       "      <th></th>\n",
       "      <th>Percentage of Accepted Evidence Items</th>\n",
       "      <th>Percentage of Submitted Evidence Items</th>\n",
       "    </tr>\n",
       "    <tr>\n",
       "      <th>Variant Category</th>\n",
       "      <th></th>\n",
       "      <th></th>\n",
       "    </tr>\n",
       "  </thead>\n",
       "  <tbody>\n",
       "    <tr>\n",
       "      <th>Normalized</th>\n",
       "      <td>2076 / 5851  (35.48%)</td>\n",
       "      <td>3775 / 5851  (64.52%)</td>\n",
       "    </tr>\n",
       "    <tr>\n",
       "      <th>Unable to Normalize</th>\n",
       "      <td>21 / 142  (14.79%)</td>\n",
       "      <td>121 / 142  (85.21%)</td>\n",
       "    </tr>\n",
       "    <tr>\n",
       "      <th>Not Supported</th>\n",
       "      <td>2231 / 4243  (52.58%)</td>\n",
       "      <td>2049 / 4243  (48.29%)</td>\n",
       "    </tr>\n",
       "  </tbody>\n",
       "</table>\n",
       "</div>"
      ],
      "text/plain": [
       "                    Percentage of Accepted Evidence Items   \n",
       "Variant Category                                            \n",
       "Normalized                          2076 / 5851  (35.48%)  \\\n",
       "Unable to Normalize                    21 / 142  (14.79%)   \n",
       "Not Supported                       2231 / 4243  (52.58%)   \n",
       "\n",
       "                    Percentage of Submitted Evidence Items  \n",
       "Variant Category                                            \n",
       "Normalized                           3775 / 5851  (64.52%)  \n",
       "Unable to Normalize                    121 / 142  (85.21%)  \n",
       "Not Supported                        2049 / 4243  (48.29%)  "
      ]
     },
     "execution_count": 294,
     "metadata": {},
     "output_type": "execute_result"
    }
   ],
   "source": [
    "all_variant_evidence_percent_evidence_df = (\n",
    "    all_variant_evidence_percent_evidence_df.set_index(\"Variant Category\")\n",
    ")\n",
    "all_variant_evidence_percent_evidence_df"
   ]
  },
  {
   "cell_type": "code",
   "execution_count": 295,
   "metadata": {},
   "outputs": [],
   "source": [
    "civic_summary_table_7 = all_variant_evidence_percent_evidence_df"
   ]
  },
  {
   "cell_type": "markdown",
   "metadata": {},
   "source": [
    "### <a id='toc6_2_4_'></a>[Building Summary Tables 8 - 10](#toc0_)"
   ]
  },
  {
   "cell_type": "code",
   "execution_count": 296,
   "metadata": {},
   "outputs": [],
   "source": [
    "not_supported_variant_evidence_df = pd.DataFrame(not_supported_variant_evidence_summary)"
   ]
  },
  {
   "cell_type": "code",
   "execution_count": 297,
   "metadata": {},
   "outputs": [],
   "source": [
    "not_supported_variant_evidence_df[\"Percent of all CIViC Evidence Items\"] = (\n",
    "    not_supported_variant_evidence_df[\"Fraction of CIViC Evidence Items\"].astype(str)\n",
    "    + \"  (\"\n",
    "    + not_supported_variant_evidence_df[\"Percent of all CIViC Evidence Items\"]\n",
    "    + \")\"\n",
    ")\n",
    "not_supported_variant_evidence_df[\"Percent of Not Supported Variant Evidence Items\"] = (\n",
    "    not_supported_variant_evidence_df[\n",
    "        \"Fraction of Not Supported Variant Evidence Items\"\n",
    "    ].astype(str)\n",
    "    + \"  (\"\n",
    "    + not_supported_variant_evidence_df[\n",
    "        \"Percent of Not Supported Variant Evidence Items\"\n",
    "    ]\n",
    "    + \")\"\n",
    ")\n",
    "not_supported_variant_evidence_df[\"Percent of Accepted Evidence Items\"] = (\n",
    "    not_supported_variant_evidence_df[\"Fraction of Accepted Evidence Items\"].astype(str)\n",
    "    + \"  (\"\n",
    "    + not_supported_variant_evidence_df[\"Percent of Accepted Evidence Items\"]\n",
    "    + \")\"\n",
    ")\n",
    "not_supported_variant_evidence_df[\"Percent of Submitted Evidence Items\"] = (\n",
    "    not_supported_variant_evidence_df[\"Fraction of Submitted Evidence Items\"].astype(\n",
    "        str\n",
    "    )\n",
    "    + \"  (\"\n",
    "    + not_supported_variant_evidence_df[\"Percent of Submitted Evidence Items\"]\n",
    "    + \")\"\n",
    ")"
   ]
  },
  {
   "cell_type": "code",
   "execution_count": 298,
   "metadata": {},
   "outputs": [],
   "source": [
    "not_supported_variant_evidence_df = not_supported_variant_evidence_df.drop(\n",
    "    [\n",
    "        \"Fraction of CIViC Evidence Items\",\n",
    "        \"Fraction of Not Supported Variant Evidence Items\",\n",
    "        \"Fraction of Accepted Evidence Items\",\n",
    "        \"Fraction of Submitted Evidence Items\",\n",
    "    ],\n",
    "    axis=1,\n",
    ")"
   ]
  },
  {
   "cell_type": "code",
   "execution_count": 299,
   "metadata": {},
   "outputs": [],
   "source": [
    "for_merge_not_supported_variant_evidence_percent_of_civic_df = (\n",
    "    not_supported_variant_evidence_df.drop(\n",
    "        [\n",
    "            \"Percent of Not Supported Variant Evidence Items\",\n",
    "            \"Percent of Accepted Evidence Items\",\n",
    "            \"Percent of Submitted Evidence Items\",\n",
    "        ],\n",
    "        axis=1,\n",
    "    )\n",
    ")\n",
    "\n",
    "not_supported_variant_evidence_percent_of_civic_df = (\n",
    "    for_merge_not_supported_variant_evidence_percent_of_civic_df.drop(\n",
    "        [\"Count of CIViC Evidence Items per Category\"], axis=1\n",
    "    )\n",
    ")\n",
    "\n",
    "not_supported_variant_evidence_percent_of_not_supported_df = (\n",
    "    not_supported_variant_evidence_df.drop(\n",
    "        [\n",
    "            \"Percent of all CIViC Evidence Items\",\n",
    "            \"Percent of Accepted Evidence Items\",\n",
    "            \"Percent of Submitted Evidence Items\",\n",
    "            \"Count of CIViC Evidence Items per Category\",\n",
    "        ],\n",
    "        axis=1,\n",
    "    )\n",
    ")\n",
    "\n",
    "not_supported_variant_evidence_percent_evidence_df = (\n",
    "    not_supported_variant_evidence_df.drop(\n",
    "        [\n",
    "            \"Percent of Not Supported Variant Evidence Items\",\n",
    "            \"Percent of all CIViC Evidence Items\",\n",
    "            \"Count of CIViC Evidence Items per Category\",\n",
    "        ],\n",
    "        axis=1,\n",
    "    )\n",
    ")"
   ]
  },
  {
   "cell_type": "code",
   "execution_count": 300,
   "metadata": {},
   "outputs": [],
   "source": [
    "for_merge_not_supported_variant_evidence_percent_of_civic_df.to_csv(\n",
    "    \"../normalization_analysis_output/for_merge_not_supported_variant_evidence_percent_of_civic_df.csv\", index=False\n",
    ")"
   ]
  },
  {
   "cell_type": "markdown",
   "metadata": {},
   "source": [
    "### <a id='toc6_2_5_'></a>[Summary Table 8](#toc0_)"
   ]
  },
  {
   "cell_type": "markdown",
   "metadata": {},
   "source": [
    "The table below shows the percentage of all CIViC evidence items that are associated with a Not Supported variant sub category. This will not add up to 100% since the evidence items can be associated with multiple variants."
   ]
  },
  {
   "cell_type": "code",
   "execution_count": 301,
   "metadata": {},
   "outputs": [
    {
     "data": {
      "text/html": [
       "<div>\n",
       "<style scoped>\n",
       "    .dataframe tbody tr th:only-of-type {\n",
       "        vertical-align: middle;\n",
       "    }\n",
       "\n",
       "    .dataframe tbody tr th {\n",
       "        vertical-align: top;\n",
       "    }\n",
       "\n",
       "    .dataframe thead th {\n",
       "        text-align: right;\n",
       "    }\n",
       "</style>\n",
       "<table border=\"1\" class=\"dataframe\">\n",
       "  <thead>\n",
       "    <tr style=\"text-align: right;\">\n",
       "      <th></th>\n",
       "      <th>Percent of all CIViC Evidence Items</th>\n",
       "    </tr>\n",
       "    <tr>\n",
       "      <th>Category</th>\n",
       "      <th></th>\n",
       "    </tr>\n",
       "  </thead>\n",
       "  <tbody>\n",
       "    <tr>\n",
       "      <th>Expression</th>\n",
       "      <td>610 / 9920  (6.15%)</td>\n",
       "    </tr>\n",
       "    <tr>\n",
       "      <th>Epigenetic Modification</th>\n",
       "      <td>23 / 9920  (0.23%)</td>\n",
       "    </tr>\n",
       "    <tr>\n",
       "      <th>Fusion</th>\n",
       "      <td>1218 / 9920  (12.28%)</td>\n",
       "    </tr>\n",
       "    <tr>\n",
       "      <th>Protein Consequence</th>\n",
       "      <td>293 / 9920  (2.95%)</td>\n",
       "    </tr>\n",
       "    <tr>\n",
       "      <th>Gene Function</th>\n",
       "      <td>345 / 9920  (3.48%)</td>\n",
       "    </tr>\n",
       "    <tr>\n",
       "      <th>Rearrangements</th>\n",
       "      <td>137 / 9920  (1.38%)</td>\n",
       "    </tr>\n",
       "    <tr>\n",
       "      <th>Copy Number</th>\n",
       "      <td>67 / 9920  (0.68%)</td>\n",
       "    </tr>\n",
       "    <tr>\n",
       "      <th>Other</th>\n",
       "      <td>156 / 9920  (1.57%)</td>\n",
       "    </tr>\n",
       "    <tr>\n",
       "      <th>Genotypes Easy</th>\n",
       "      <td>20 / 9920  (0.20%)</td>\n",
       "    </tr>\n",
       "    <tr>\n",
       "      <th>Genotypes Compound</th>\n",
       "      <td>7 / 9920  (0.07%)</td>\n",
       "    </tr>\n",
       "    <tr>\n",
       "      <th>Region Defined Variant</th>\n",
       "      <td>958 / 9920  (9.66%)</td>\n",
       "    </tr>\n",
       "    <tr>\n",
       "      <th>Transcript Variant</th>\n",
       "      <td>446 / 9920  (4.50%)</td>\n",
       "    </tr>\n",
       "  </tbody>\n",
       "</table>\n",
       "</div>"
      ],
      "text/plain": [
       "                        Percent of all CIViC Evidence Items\n",
       "Category                                                   \n",
       "Expression                              610 / 9920  (6.15%)\n",
       "Epigenetic Modification                  23 / 9920  (0.23%)\n",
       "Fusion                                1218 / 9920  (12.28%)\n",
       "Protein Consequence                     293 / 9920  (2.95%)\n",
       "Gene Function                           345 / 9920  (3.48%)\n",
       "Rearrangements                          137 / 9920  (1.38%)\n",
       "Copy Number                              67 / 9920  (0.68%)\n",
       "Other                                   156 / 9920  (1.57%)\n",
       "Genotypes Easy                           20 / 9920  (0.20%)\n",
       "Genotypes Compound                        7 / 9920  (0.07%)\n",
       "Region Defined Variant                  958 / 9920  (9.66%)\n",
       "Transcript Variant                      446 / 9920  (4.50%)"
      ]
     },
     "execution_count": 301,
     "metadata": {},
     "output_type": "execute_result"
    }
   ],
   "source": [
    "not_supported_variant_evidence_percent_of_civic_df = (\n",
    "    not_supported_variant_evidence_percent_of_civic_df.set_index(\"Category\")\n",
    ")\n",
    "not_supported_variant_evidence_percent_of_civic_df"
   ]
  },
  {
   "cell_type": "code",
   "execution_count": 302,
   "metadata": {},
   "outputs": [],
   "source": [
    "civic_summary_table_8 = not_supported_variant_evidence_percent_of_civic_df"
   ]
  },
  {
   "cell_type": "markdown",
   "metadata": {},
   "source": [
    "### <a id='toc6_2_6_'></a>[Summary Table 9](#toc0_)"
   ]
  },
  {
   "cell_type": "markdown",
   "metadata": {},
   "source": [
    "The table below shows the percentage of all evidence items associated with Not Supported variants that are associated with a variant sub category."
   ]
  },
  {
   "cell_type": "code",
   "execution_count": 303,
   "metadata": {},
   "outputs": [
    {
     "data": {
      "text/html": [
       "<div>\n",
       "<style scoped>\n",
       "    .dataframe tbody tr th:only-of-type {\n",
       "        vertical-align: middle;\n",
       "    }\n",
       "\n",
       "    .dataframe tbody tr th {\n",
       "        vertical-align: top;\n",
       "    }\n",
       "\n",
       "    .dataframe thead th {\n",
       "        text-align: right;\n",
       "    }\n",
       "</style>\n",
       "<table border=\"1\" class=\"dataframe\">\n",
       "  <thead>\n",
       "    <tr style=\"text-align: right;\">\n",
       "      <th></th>\n",
       "      <th>Percent of Not Supported Variant Evidence Items</th>\n",
       "    </tr>\n",
       "    <tr>\n",
       "      <th>Category</th>\n",
       "      <th></th>\n",
       "    </tr>\n",
       "  </thead>\n",
       "  <tbody>\n",
       "    <tr>\n",
       "      <th>Expression</th>\n",
       "      <td>610 / 4243  (14.38%)</td>\n",
       "    </tr>\n",
       "    <tr>\n",
       "      <th>Epigenetic Modification</th>\n",
       "      <td>23 / 4243  (0.54%)</td>\n",
       "    </tr>\n",
       "    <tr>\n",
       "      <th>Fusion</th>\n",
       "      <td>1218 / 4243  (28.71%)</td>\n",
       "    </tr>\n",
       "    <tr>\n",
       "      <th>Protein Consequence</th>\n",
       "      <td>293 / 4243  (6.91%)</td>\n",
       "    </tr>\n",
       "    <tr>\n",
       "      <th>Gene Function</th>\n",
       "      <td>345 / 4243  (8.13%)</td>\n",
       "    </tr>\n",
       "    <tr>\n",
       "      <th>Rearrangements</th>\n",
       "      <td>137 / 4243  (3.23%)</td>\n",
       "    </tr>\n",
       "    <tr>\n",
       "      <th>Copy Number</th>\n",
       "      <td>67 / 4243  (1.58%)</td>\n",
       "    </tr>\n",
       "    <tr>\n",
       "      <th>Other</th>\n",
       "      <td>156 / 4243  (3.68%)</td>\n",
       "    </tr>\n",
       "    <tr>\n",
       "      <th>Genotypes Easy</th>\n",
       "      <td>20 / 4243  (0.47%)</td>\n",
       "    </tr>\n",
       "    <tr>\n",
       "      <th>Genotypes Compound</th>\n",
       "      <td>7 / 4243  (0.16%)</td>\n",
       "    </tr>\n",
       "    <tr>\n",
       "      <th>Region Defined Variant</th>\n",
       "      <td>958 / 4243  (22.58%)</td>\n",
       "    </tr>\n",
       "    <tr>\n",
       "      <th>Transcript Variant</th>\n",
       "      <td>446 / 4243  (10.51%)</td>\n",
       "    </tr>\n",
       "  </tbody>\n",
       "</table>\n",
       "</div>"
      ],
      "text/plain": [
       "                        Percent of Not Supported Variant Evidence Items\n",
       "Category                                                               \n",
       "Expression                                         610 / 4243  (14.38%)\n",
       "Epigenetic Modification                              23 / 4243  (0.54%)\n",
       "Fusion                                            1218 / 4243  (28.71%)\n",
       "Protein Consequence                                 293 / 4243  (6.91%)\n",
       "Gene Function                                       345 / 4243  (8.13%)\n",
       "Rearrangements                                      137 / 4243  (3.23%)\n",
       "Copy Number                                          67 / 4243  (1.58%)\n",
       "Other                                               156 / 4243  (3.68%)\n",
       "Genotypes Easy                                       20 / 4243  (0.47%)\n",
       "Genotypes Compound                                    7 / 4243  (0.16%)\n",
       "Region Defined Variant                             958 / 4243  (22.58%)\n",
       "Transcript Variant                                 446 / 4243  (10.51%)"
      ]
     },
     "execution_count": 303,
     "metadata": {},
     "output_type": "execute_result"
    }
   ],
   "source": [
    "not_supported_variant_evidence_percent_of_not_supported_df = (\n",
    "    not_supported_variant_evidence_percent_of_not_supported_df.set_index(\"Category\")\n",
    ")\n",
    "not_supported_variant_evidence_percent_of_not_supported_df"
   ]
  },
  {
   "cell_type": "code",
   "execution_count": 304,
   "metadata": {},
   "outputs": [],
   "source": [
    "civic_summary_table_9 = not_supported_variant_evidence_percent_of_not_supported_df"
   ]
  },
  {
   "cell_type": "markdown",
   "metadata": {},
   "source": [
    "### <a id='toc6_2_7_'></a>[Summary Table 10](#toc0_)"
   ]
  },
  {
   "cell_type": "markdown",
   "metadata": {},
   "source": [
    "The table below shows the percentage of evidence items associated with Not Supported variant sub categories that are accepted or submitted."
   ]
  },
  {
   "cell_type": "code",
   "execution_count": 305,
   "metadata": {},
   "outputs": [
    {
     "data": {
      "text/html": [
       "<div>\n",
       "<style scoped>\n",
       "    .dataframe tbody tr th:only-of-type {\n",
       "        vertical-align: middle;\n",
       "    }\n",
       "\n",
       "    .dataframe tbody tr th {\n",
       "        vertical-align: top;\n",
       "    }\n",
       "\n",
       "    .dataframe thead th {\n",
       "        text-align: right;\n",
       "    }\n",
       "</style>\n",
       "<table border=\"1\" class=\"dataframe\">\n",
       "  <thead>\n",
       "    <tr style=\"text-align: right;\">\n",
       "      <th></th>\n",
       "      <th>Percent of Accepted Evidence Items</th>\n",
       "      <th>Percent of Submitted Evidence Items</th>\n",
       "    </tr>\n",
       "    <tr>\n",
       "      <th>Category</th>\n",
       "      <th></th>\n",
       "      <th></th>\n",
       "    </tr>\n",
       "  </thead>\n",
       "  <tbody>\n",
       "    <tr>\n",
       "      <th>Expression</th>\n",
       "      <td>342 / 610  (56.07%)</td>\n",
       "      <td>268 / 610  (43.93%)</td>\n",
       "    </tr>\n",
       "    <tr>\n",
       "      <th>Epigenetic Modification</th>\n",
       "      <td>22 / 23  (95.65%)</td>\n",
       "      <td>1 / 23  (4.35%)</td>\n",
       "    </tr>\n",
       "    <tr>\n",
       "      <th>Fusion</th>\n",
       "      <td>747 / 1218  (61.33%)</td>\n",
       "      <td>471 / 1218  (38.67%)</td>\n",
       "    </tr>\n",
       "    <tr>\n",
       "      <th>Protein Consequence</th>\n",
       "      <td>191 / 293  (65.19%)</td>\n",
       "      <td>102 / 293  (34.81%)</td>\n",
       "    </tr>\n",
       "    <tr>\n",
       "      <th>Gene Function</th>\n",
       "      <td>154 / 345  (44.64%)</td>\n",
       "      <td>191 / 345  (55.36%)</td>\n",
       "    </tr>\n",
       "    <tr>\n",
       "      <th>Rearrangements</th>\n",
       "      <td>53 / 137  (38.69%)</td>\n",
       "      <td>84 / 137  (61.31%)</td>\n",
       "    </tr>\n",
       "    <tr>\n",
       "      <th>Copy Number</th>\n",
       "      <td>31 / 67  (46.27%)</td>\n",
       "      <td>36 / 67  (53.73%)</td>\n",
       "    </tr>\n",
       "    <tr>\n",
       "      <th>Other</th>\n",
       "      <td>62 / 156  (39.74%)</td>\n",
       "      <td>94 / 156  (60.26%)</td>\n",
       "    </tr>\n",
       "    <tr>\n",
       "      <th>Genotypes Easy</th>\n",
       "      <td>13 / 20  (65.00%)</td>\n",
       "      <td>7 / 20  (35.00%)</td>\n",
       "    </tr>\n",
       "    <tr>\n",
       "      <th>Genotypes Compound</th>\n",
       "      <td>4 / 7  (57.14%)</td>\n",
       "      <td>3 / 7  (42.86%)</td>\n",
       "    </tr>\n",
       "    <tr>\n",
       "      <th>Region Defined Variant</th>\n",
       "      <td>558 / 958  (58.25%)</td>\n",
       "      <td>400 / 958  (41.75%)</td>\n",
       "    </tr>\n",
       "    <tr>\n",
       "      <th>Transcript Variant</th>\n",
       "      <td>54 / 446  (12.11%)</td>\n",
       "      <td>392 / 446  (87.89%)</td>\n",
       "    </tr>\n",
       "  </tbody>\n",
       "</table>\n",
       "</div>"
      ],
      "text/plain": [
       "                        Percent of Accepted Evidence Items   \n",
       "Category                                                     \n",
       "Expression                             342 / 610  (56.07%)  \\\n",
       "Epigenetic Modification                  22 / 23  (95.65%)   \n",
       "Fusion                                747 / 1218  (61.33%)   \n",
       "Protein Consequence                    191 / 293  (65.19%)   \n",
       "Gene Function                          154 / 345  (44.64%)   \n",
       "Rearrangements                          53 / 137  (38.69%)   \n",
       "Copy Number                              31 / 67  (46.27%)   \n",
       "Other                                   62 / 156  (39.74%)   \n",
       "Genotypes Easy                           13 / 20  (65.00%)   \n",
       "Genotypes Compound                         4 / 7  (57.14%)   \n",
       "Region Defined Variant                 558 / 958  (58.25%)   \n",
       "Transcript Variant                      54 / 446  (12.11%)   \n",
       "\n",
       "                        Percent of Submitted Evidence Items  \n",
       "Category                                                     \n",
       "Expression                              268 / 610  (43.93%)  \n",
       "Epigenetic Modification                     1 / 23  (4.35%)  \n",
       "Fusion                                 471 / 1218  (38.67%)  \n",
       "Protein Consequence                     102 / 293  (34.81%)  \n",
       "Gene Function                           191 / 345  (55.36%)  \n",
       "Rearrangements                           84 / 137  (61.31%)  \n",
       "Copy Number                               36 / 67  (53.73%)  \n",
       "Other                                    94 / 156  (60.26%)  \n",
       "Genotypes Easy                             7 / 20  (35.00%)  \n",
       "Genotypes Compound                          3 / 7  (42.86%)  \n",
       "Region Defined Variant                  400 / 958  (41.75%)  \n",
       "Transcript Variant                      392 / 446  (87.89%)  "
      ]
     },
     "execution_count": 305,
     "metadata": {},
     "output_type": "execute_result"
    }
   ],
   "source": [
    "not_supported_variant_evidence_percent_evidence_df = (\n",
    "    not_supported_variant_evidence_percent_evidence_df.set_index(\"Category\")\n",
    ")\n",
    "not_supported_variant_evidence_percent_evidence_df"
   ]
  },
  {
   "cell_type": "code",
   "execution_count": 306,
   "metadata": {},
   "outputs": [],
   "source": [
    "civic_summary_table_10 = not_supported_variant_evidence_percent_evidence_df"
   ]
  },
  {
   "cell_type": "markdown",
   "metadata": {},
   "source": [
    "## <a id='toc6_3_'></a>[Impact](#toc0_)"
   ]
  },
  {
   "cell_type": "code",
   "execution_count": 321,
   "metadata": {},
   "outputs": [
    {
     "data": {
      "text/html": [
       "<div>\n",
       "<style scoped>\n",
       "    .dataframe tbody tr th:only-of-type {\n",
       "        vertical-align: middle;\n",
       "    }\n",
       "\n",
       "    .dataframe tbody tr th {\n",
       "        vertical-align: top;\n",
       "    }\n",
       "\n",
       "    .dataframe thead th {\n",
       "        text-align: right;\n",
       "    }\n",
       "</style>\n",
       "<table border=\"1\" class=\"dataframe\">\n",
       "  <thead>\n",
       "    <tr style=\"text-align: right;\">\n",
       "      <th></th>\n",
       "      <th>Category</th>\n",
       "      <th>CIVIC Total Sum Impact Score</th>\n",
       "      <th>Average Impact Score per Variant</th>\n",
       "      <th>Average Impact Score per Evidence Item</th>\n",
       "      <th>Total Number Evidence Items</th>\n",
       "      <th>% Accepted Evidence Items</th>\n",
       "      <th>Total Number Variants</th>\n",
       "    </tr>\n",
       "  </thead>\n",
       "  <tbody>\n",
       "    <tr>\n",
       "      <th>0</th>\n",
       "      <td>Expression</td>\n",
       "      <td>3618.00</td>\n",
       "      <td>9.89</td>\n",
       "      <td>8.11</td>\n",
       "      <td>610</td>\n",
       "      <td>56.07%</td>\n",
       "      <td>287</td>\n",
       "    </tr>\n",
       "    <tr>\n",
       "      <th>1</th>\n",
       "      <td>Epigenetic Modification</td>\n",
       "      <td>285.50</td>\n",
       "      <td>0.78</td>\n",
       "      <td>0.64</td>\n",
       "      <td>23</td>\n",
       "      <td>95.65%</td>\n",
       "      <td>14</td>\n",
       "    </tr>\n",
       "    <tr>\n",
       "      <th>2</th>\n",
       "      <td>Fusion</td>\n",
       "      <td>6558.75</td>\n",
       "      <td>17.92</td>\n",
       "      <td>14.71</td>\n",
       "      <td>1218</td>\n",
       "      <td>61.33%</td>\n",
       "      <td>294</td>\n",
       "    </tr>\n",
       "    <tr>\n",
       "      <th>3</th>\n",
       "      <td>Protein Consequence</td>\n",
       "      <td>2683.75</td>\n",
       "      <td>7.33</td>\n",
       "      <td>6.02</td>\n",
       "      <td>293</td>\n",
       "      <td>65.19%</td>\n",
       "      <td>127</td>\n",
       "    </tr>\n",
       "    <tr>\n",
       "      <th>4</th>\n",
       "      <td>Gene Function</td>\n",
       "      <td>1805.50</td>\n",
       "      <td>4.93</td>\n",
       "      <td>4.05</td>\n",
       "      <td>345</td>\n",
       "      <td>44.64%</td>\n",
       "      <td>91</td>\n",
       "    </tr>\n",
       "    <tr>\n",
       "      <th>5</th>\n",
       "      <td>Rearrangements</td>\n",
       "      <td>653.00</td>\n",
       "      <td>1.78</td>\n",
       "      <td>1.46</td>\n",
       "      <td>137</td>\n",
       "      <td>38.69%</td>\n",
       "      <td>52</td>\n",
       "    </tr>\n",
       "    <tr>\n",
       "      <th>6</th>\n",
       "      <td>Copy Number</td>\n",
       "      <td>225.00</td>\n",
       "      <td>0.61</td>\n",
       "      <td>0.50</td>\n",
       "      <td>67</td>\n",
       "      <td>46.27%</td>\n",
       "      <td>34</td>\n",
       "    </tr>\n",
       "    <tr>\n",
       "      <th>7</th>\n",
       "      <td>Other</td>\n",
       "      <td>703.50</td>\n",
       "      <td>1.92</td>\n",
       "      <td>1.58</td>\n",
       "      <td>156</td>\n",
       "      <td>39.74%</td>\n",
       "      <td>86</td>\n",
       "    </tr>\n",
       "    <tr>\n",
       "      <th>8</th>\n",
       "      <td>Genotypes Easy</td>\n",
       "      <td>195.00</td>\n",
       "      <td>0.53</td>\n",
       "      <td>0.44</td>\n",
       "      <td>20</td>\n",
       "      <td>65.00%</td>\n",
       "      <td>10</td>\n",
       "    </tr>\n",
       "    <tr>\n",
       "      <th>9</th>\n",
       "      <td>Genotypes Compound</td>\n",
       "      <td>117.50</td>\n",
       "      <td>0.32</td>\n",
       "      <td>0.26</td>\n",
       "      <td>7</td>\n",
       "      <td>57.14%</td>\n",
       "      <td>6</td>\n",
       "    </tr>\n",
       "    <tr>\n",
       "      <th>10</th>\n",
       "      <td>Region Defined Variant</td>\n",
       "      <td>8353.50</td>\n",
       "      <td>22.82</td>\n",
       "      <td>18.73</td>\n",
       "      <td>958</td>\n",
       "      <td>58.25%</td>\n",
       "      <td>196</td>\n",
       "    </tr>\n",
       "    <tr>\n",
       "      <th>11</th>\n",
       "      <td>Transcript Variant</td>\n",
       "      <td>356.50</td>\n",
       "      <td>0.97</td>\n",
       "      <td>0.80</td>\n",
       "      <td>446</td>\n",
       "      <td>12.11%</td>\n",
       "      <td>366</td>\n",
       "    </tr>\n",
       "  </tbody>\n",
       "</table>\n",
       "</div>"
      ],
      "text/plain": [
       "                   Category  CIVIC Total Sum Impact Score   \n",
       "0                Expression                       3618.00  \\\n",
       "1   Epigenetic Modification                        285.50   \n",
       "2                    Fusion                       6558.75   \n",
       "3       Protein Consequence                       2683.75   \n",
       "4             Gene Function                       1805.50   \n",
       "5            Rearrangements                        653.00   \n",
       "6               Copy Number                        225.00   \n",
       "7                     Other                        703.50   \n",
       "8            Genotypes Easy                        195.00   \n",
       "9        Genotypes Compound                        117.50   \n",
       "10   Region Defined Variant                       8353.50   \n",
       "11       Transcript Variant                        356.50   \n",
       "\n",
       "    Average Impact Score per Variant  Average Impact Score per Evidence Item   \n",
       "0                               9.89                                    8.11  \\\n",
       "1                               0.78                                    0.64   \n",
       "2                              17.92                                   14.71   \n",
       "3                               7.33                                    6.02   \n",
       "4                               4.93                                    4.05   \n",
       "5                               1.78                                    1.46   \n",
       "6                               0.61                                    0.50   \n",
       "7                               1.92                                    1.58   \n",
       "8                               0.53                                    0.44   \n",
       "9                               0.32                                    0.26   \n",
       "10                             22.82                                   18.73   \n",
       "11                              0.97                                    0.80   \n",
       "\n",
       "    Total Number Evidence Items % Accepted Evidence Items   \n",
       "0                           610                    56.07%  \\\n",
       "1                            23                    95.65%   \n",
       "2                          1218                    61.33%   \n",
       "3                           293                    65.19%   \n",
       "4                           345                    44.64%   \n",
       "5                           137                    38.69%   \n",
       "6                            67                    46.27%   \n",
       "7                           156                    39.74%   \n",
       "8                            20                    65.00%   \n",
       "9                             7                    57.14%   \n",
       "10                          958                    58.25%   \n",
       "11                          446                    12.11%   \n",
       "\n",
       "    Total Number Variants  \n",
       "0                     287  \n",
       "1                      14  \n",
       "2                     294  \n",
       "3                     127  \n",
       "4                      91  \n",
       "5                      52  \n",
       "6                      34  \n",
       "7                      86  \n",
       "8                      10  \n",
       "9                       6  \n",
       "10                    196  \n",
       "11                    366  "
      ]
     },
     "execution_count": 321,
     "metadata": {},
     "output_type": "execute_result"
    }
   ],
   "source": [
    "not_supported_variant_impact_df = not_supported_variant_impact_df.round(2)\n",
    "not_supported_variant_impact_df"
   ]
  },
  {
   "cell_type": "markdown",
   "metadata": {},
   "source": [
    "The bar graph below shows the relationship between the Not Suported variant sub category impact score and the sub category. Additionally, the colors illustrate the number of evidence items associated each sub category."
   ]
  },
  {
   "cell_type": "code",
   "execution_count": 308,
   "metadata": {},
   "outputs": [
    {
     "data": {
      "application/vnd.plotly.v1+json": {
       "config": {
        "plotlyServerURL": "https://plot.ly"
       },
       "data": [
        {
         "alignmentgroup": "True",
         "customdata": [
          [
           610,
           "56.07%"
          ],
          [
           23,
           "95.65%"
          ],
          [
           1218,
           "61.33%"
          ],
          [
           293,
           "65.19%"
          ],
          [
           345,
           "44.64%"
          ],
          [
           137,
           "38.69%"
          ],
          [
           67,
           "46.27%"
          ],
          [
           156,
           "39.74%"
          ],
          [
           20,
           "65.00%"
          ],
          [
           7,
           "57.14%"
          ],
          [
           958,
           "58.25%"
          ],
          [
           446,
           "12.11%"
          ]
         ],
         "hovertemplate": "Category=%{x}<br>CIVIC Total Sum Impact Score=%{y}<br>Total Number Evidence Items=%{marker.color}<br>% Accepted Evidence Items=%{customdata[1]}<extra></extra>",
         "legendgroup": "",
         "marker": {
          "color": [
           610,
           23,
           1218,
           293,
           345,
           137,
           67,
           156,
           20,
           7,
           958,
           446
          ],
          "coloraxis": "coloraxis",
          "pattern": {
           "shape": ""
          }
         },
         "name": "",
         "offsetgroup": "",
         "orientation": "v",
         "showlegend": false,
         "textposition": "auto",
         "texttemplate": "%{y:.1f}",
         "type": "bar",
         "width": 1,
         "x": [
          "Expression",
          "Epigenetic Modification",
          "Fusion",
          "Protein Consequence",
          "Gene Function",
          "Rearrangements",
          "Copy Number",
          "Other",
          "Genotypes Easy",
          "Genotypes Compound",
          "Region Defined Variant",
          "Transcript Variant"
         ],
         "xaxis": "x",
         "y": [
          3618,
          285.5,
          6558.75,
          2683.75,
          1805.5,
          653,
          225,
          703.5,
          195,
          117.5,
          8353.5,
          356.5
         ],
         "yaxis": "y"
        }
       ],
       "layout": {
        "barmode": "relative",
        "coloraxis": {
         "colorbar": {
          "title": {
           "text": "Total Number Evidence Items"
          }
         },
         "colorscale": [
          [
           0,
           "rgb(0, 128, 128)"
          ],
          [
           0.16666666666666666,
           "rgb(112, 164, 148)"
          ],
          [
           0.3333333333333333,
           "rgb(180, 200, 168)"
          ],
          [
           0.5,
           "rgb(246, 237, 189)"
          ],
          [
           0.6666666666666666,
           "rgb(237, 187, 138)"
          ],
          [
           0.8333333333333334,
           "rgb(222, 138, 90)"
          ],
          [
           1,
           "rgb(202, 86, 44)"
          ]
         ]
        },
        "legend": {
         "tracegroupgap": 0
        },
        "margin": {
         "t": 60
        },
        "template": {
         "data": {
          "bar": [
           {
            "error_x": {
             "color": "#2a3f5f"
            },
            "error_y": {
             "color": "#2a3f5f"
            },
            "marker": {
             "line": {
              "color": "#E5ECF6",
              "width": 0.5
             },
             "pattern": {
              "fillmode": "overlay",
              "size": 10,
              "solidity": 0.2
             }
            },
            "type": "bar"
           }
          ],
          "barpolar": [
           {
            "marker": {
             "line": {
              "color": "#E5ECF6",
              "width": 0.5
             },
             "pattern": {
              "fillmode": "overlay",
              "size": 10,
              "solidity": 0.2
             }
            },
            "type": "barpolar"
           }
          ],
          "carpet": [
           {
            "aaxis": {
             "endlinecolor": "#2a3f5f",
             "gridcolor": "white",
             "linecolor": "white",
             "minorgridcolor": "white",
             "startlinecolor": "#2a3f5f"
            },
            "baxis": {
             "endlinecolor": "#2a3f5f",
             "gridcolor": "white",
             "linecolor": "white",
             "minorgridcolor": "white",
             "startlinecolor": "#2a3f5f"
            },
            "type": "carpet"
           }
          ],
          "choropleth": [
           {
            "colorbar": {
             "outlinewidth": 0,
             "ticks": ""
            },
            "type": "choropleth"
           }
          ],
          "contour": [
           {
            "colorbar": {
             "outlinewidth": 0,
             "ticks": ""
            },
            "colorscale": [
             [
              0,
              "#0d0887"
             ],
             [
              0.1111111111111111,
              "#46039f"
             ],
             [
              0.2222222222222222,
              "#7201a8"
             ],
             [
              0.3333333333333333,
              "#9c179e"
             ],
             [
              0.4444444444444444,
              "#bd3786"
             ],
             [
              0.5555555555555556,
              "#d8576b"
             ],
             [
              0.6666666666666666,
              "#ed7953"
             ],
             [
              0.7777777777777778,
              "#fb9f3a"
             ],
             [
              0.8888888888888888,
              "#fdca26"
             ],
             [
              1,
              "#f0f921"
             ]
            ],
            "type": "contour"
           }
          ],
          "contourcarpet": [
           {
            "colorbar": {
             "outlinewidth": 0,
             "ticks": ""
            },
            "type": "contourcarpet"
           }
          ],
          "heatmap": [
           {
            "colorbar": {
             "outlinewidth": 0,
             "ticks": ""
            },
            "colorscale": [
             [
              0,
              "#0d0887"
             ],
             [
              0.1111111111111111,
              "#46039f"
             ],
             [
              0.2222222222222222,
              "#7201a8"
             ],
             [
              0.3333333333333333,
              "#9c179e"
             ],
             [
              0.4444444444444444,
              "#bd3786"
             ],
             [
              0.5555555555555556,
              "#d8576b"
             ],
             [
              0.6666666666666666,
              "#ed7953"
             ],
             [
              0.7777777777777778,
              "#fb9f3a"
             ],
             [
              0.8888888888888888,
              "#fdca26"
             ],
             [
              1,
              "#f0f921"
             ]
            ],
            "type": "heatmap"
           }
          ],
          "heatmapgl": [
           {
            "colorbar": {
             "outlinewidth": 0,
             "ticks": ""
            },
            "colorscale": [
             [
              0,
              "#0d0887"
             ],
             [
              0.1111111111111111,
              "#46039f"
             ],
             [
              0.2222222222222222,
              "#7201a8"
             ],
             [
              0.3333333333333333,
              "#9c179e"
             ],
             [
              0.4444444444444444,
              "#bd3786"
             ],
             [
              0.5555555555555556,
              "#d8576b"
             ],
             [
              0.6666666666666666,
              "#ed7953"
             ],
             [
              0.7777777777777778,
              "#fb9f3a"
             ],
             [
              0.8888888888888888,
              "#fdca26"
             ],
             [
              1,
              "#f0f921"
             ]
            ],
            "type": "heatmapgl"
           }
          ],
          "histogram": [
           {
            "marker": {
             "pattern": {
              "fillmode": "overlay",
              "size": 10,
              "solidity": 0.2
             }
            },
            "type": "histogram"
           }
          ],
          "histogram2d": [
           {
            "colorbar": {
             "outlinewidth": 0,
             "ticks": ""
            },
            "colorscale": [
             [
              0,
              "#0d0887"
             ],
             [
              0.1111111111111111,
              "#46039f"
             ],
             [
              0.2222222222222222,
              "#7201a8"
             ],
             [
              0.3333333333333333,
              "#9c179e"
             ],
             [
              0.4444444444444444,
              "#bd3786"
             ],
             [
              0.5555555555555556,
              "#d8576b"
             ],
             [
              0.6666666666666666,
              "#ed7953"
             ],
             [
              0.7777777777777778,
              "#fb9f3a"
             ],
             [
              0.8888888888888888,
              "#fdca26"
             ],
             [
              1,
              "#f0f921"
             ]
            ],
            "type": "histogram2d"
           }
          ],
          "histogram2dcontour": [
           {
            "colorbar": {
             "outlinewidth": 0,
             "ticks": ""
            },
            "colorscale": [
             [
              0,
              "#0d0887"
             ],
             [
              0.1111111111111111,
              "#46039f"
             ],
             [
              0.2222222222222222,
              "#7201a8"
             ],
             [
              0.3333333333333333,
              "#9c179e"
             ],
             [
              0.4444444444444444,
              "#bd3786"
             ],
             [
              0.5555555555555556,
              "#d8576b"
             ],
             [
              0.6666666666666666,
              "#ed7953"
             ],
             [
              0.7777777777777778,
              "#fb9f3a"
             ],
             [
              0.8888888888888888,
              "#fdca26"
             ],
             [
              1,
              "#f0f921"
             ]
            ],
            "type": "histogram2dcontour"
           }
          ],
          "mesh3d": [
           {
            "colorbar": {
             "outlinewidth": 0,
             "ticks": ""
            },
            "type": "mesh3d"
           }
          ],
          "parcoords": [
           {
            "line": {
             "colorbar": {
              "outlinewidth": 0,
              "ticks": ""
             }
            },
            "type": "parcoords"
           }
          ],
          "pie": [
           {
            "automargin": true,
            "type": "pie"
           }
          ],
          "scatter": [
           {
            "fillpattern": {
             "fillmode": "overlay",
             "size": 10,
             "solidity": 0.2
            },
            "type": "scatter"
           }
          ],
          "scatter3d": [
           {
            "line": {
             "colorbar": {
              "outlinewidth": 0,
              "ticks": ""
             }
            },
            "marker": {
             "colorbar": {
              "outlinewidth": 0,
              "ticks": ""
             }
            },
            "type": "scatter3d"
           }
          ],
          "scattercarpet": [
           {
            "marker": {
             "colorbar": {
              "outlinewidth": 0,
              "ticks": ""
             }
            },
            "type": "scattercarpet"
           }
          ],
          "scattergeo": [
           {
            "marker": {
             "colorbar": {
              "outlinewidth": 0,
              "ticks": ""
             }
            },
            "type": "scattergeo"
           }
          ],
          "scattergl": [
           {
            "marker": {
             "colorbar": {
              "outlinewidth": 0,
              "ticks": ""
             }
            },
            "type": "scattergl"
           }
          ],
          "scattermapbox": [
           {
            "marker": {
             "colorbar": {
              "outlinewidth": 0,
              "ticks": ""
             }
            },
            "type": "scattermapbox"
           }
          ],
          "scatterpolar": [
           {
            "marker": {
             "colorbar": {
              "outlinewidth": 0,
              "ticks": ""
             }
            },
            "type": "scatterpolar"
           }
          ],
          "scatterpolargl": [
           {
            "marker": {
             "colorbar": {
              "outlinewidth": 0,
              "ticks": ""
             }
            },
            "type": "scatterpolargl"
           }
          ],
          "scatterternary": [
           {
            "marker": {
             "colorbar": {
              "outlinewidth": 0,
              "ticks": ""
             }
            },
            "type": "scatterternary"
           }
          ],
          "surface": [
           {
            "colorbar": {
             "outlinewidth": 0,
             "ticks": ""
            },
            "colorscale": [
             [
              0,
              "#0d0887"
             ],
             [
              0.1111111111111111,
              "#46039f"
             ],
             [
              0.2222222222222222,
              "#7201a8"
             ],
             [
              0.3333333333333333,
              "#9c179e"
             ],
             [
              0.4444444444444444,
              "#bd3786"
             ],
             [
              0.5555555555555556,
              "#d8576b"
             ],
             [
              0.6666666666666666,
              "#ed7953"
             ],
             [
              0.7777777777777778,
              "#fb9f3a"
             ],
             [
              0.8888888888888888,
              "#fdca26"
             ],
             [
              1,
              "#f0f921"
             ]
            ],
            "type": "surface"
           }
          ],
          "table": [
           {
            "cells": {
             "fill": {
              "color": "#EBF0F8"
             },
             "line": {
              "color": "white"
             }
            },
            "header": {
             "fill": {
              "color": "#C8D4E3"
             },
             "line": {
              "color": "white"
             }
            },
            "type": "table"
           }
          ]
         },
         "layout": {
          "annotationdefaults": {
           "arrowcolor": "#2a3f5f",
           "arrowhead": 0,
           "arrowwidth": 1
          },
          "autotypenumbers": "strict",
          "coloraxis": {
           "colorbar": {
            "outlinewidth": 0,
            "ticks": ""
           }
          },
          "colorscale": {
           "diverging": [
            [
             0,
             "#8e0152"
            ],
            [
             0.1,
             "#c51b7d"
            ],
            [
             0.2,
             "#de77ae"
            ],
            [
             0.3,
             "#f1b6da"
            ],
            [
             0.4,
             "#fde0ef"
            ],
            [
             0.5,
             "#f7f7f7"
            ],
            [
             0.6,
             "#e6f5d0"
            ],
            [
             0.7,
             "#b8e186"
            ],
            [
             0.8,
             "#7fbc41"
            ],
            [
             0.9,
             "#4d9221"
            ],
            [
             1,
             "#276419"
            ]
           ],
           "sequential": [
            [
             0,
             "#0d0887"
            ],
            [
             0.1111111111111111,
             "#46039f"
            ],
            [
             0.2222222222222222,
             "#7201a8"
            ],
            [
             0.3333333333333333,
             "#9c179e"
            ],
            [
             0.4444444444444444,
             "#bd3786"
            ],
            [
             0.5555555555555556,
             "#d8576b"
            ],
            [
             0.6666666666666666,
             "#ed7953"
            ],
            [
             0.7777777777777778,
             "#fb9f3a"
            ],
            [
             0.8888888888888888,
             "#fdca26"
            ],
            [
             1,
             "#f0f921"
            ]
           ],
           "sequentialminus": [
            [
             0,
             "#0d0887"
            ],
            [
             0.1111111111111111,
             "#46039f"
            ],
            [
             0.2222222222222222,
             "#7201a8"
            ],
            [
             0.3333333333333333,
             "#9c179e"
            ],
            [
             0.4444444444444444,
             "#bd3786"
            ],
            [
             0.5555555555555556,
             "#d8576b"
            ],
            [
             0.6666666666666666,
             "#ed7953"
            ],
            [
             0.7777777777777778,
             "#fb9f3a"
            ],
            [
             0.8888888888888888,
             "#fdca26"
            ],
            [
             1,
             "#f0f921"
            ]
           ]
          },
          "colorway": [
           "#636efa",
           "#EF553B",
           "#00cc96",
           "#ab63fa",
           "#FFA15A",
           "#19d3f3",
           "#FF6692",
           "#B6E880",
           "#FF97FF",
           "#FECB52"
          ],
          "font": {
           "color": "#2a3f5f"
          },
          "geo": {
           "bgcolor": "white",
           "lakecolor": "white",
           "landcolor": "#E5ECF6",
           "showlakes": true,
           "showland": true,
           "subunitcolor": "white"
          },
          "hoverlabel": {
           "align": "left"
          },
          "hovermode": "closest",
          "mapbox": {
           "style": "light"
          },
          "paper_bgcolor": "white",
          "plot_bgcolor": "#E5ECF6",
          "polar": {
           "angularaxis": {
            "gridcolor": "white",
            "linecolor": "white",
            "ticks": ""
           },
           "bgcolor": "#E5ECF6",
           "radialaxis": {
            "gridcolor": "white",
            "linecolor": "white",
            "ticks": ""
           }
          },
          "scene": {
           "xaxis": {
            "backgroundcolor": "#E5ECF6",
            "gridcolor": "white",
            "gridwidth": 2,
            "linecolor": "white",
            "showbackground": true,
            "ticks": "",
            "zerolinecolor": "white"
           },
           "yaxis": {
            "backgroundcolor": "#E5ECF6",
            "gridcolor": "white",
            "gridwidth": 2,
            "linecolor": "white",
            "showbackground": true,
            "ticks": "",
            "zerolinecolor": "white"
           },
           "zaxis": {
            "backgroundcolor": "#E5ECF6",
            "gridcolor": "white",
            "gridwidth": 2,
            "linecolor": "white",
            "showbackground": true,
            "ticks": "",
            "zerolinecolor": "white"
           }
          },
          "shapedefaults": {
           "line": {
            "color": "#2a3f5f"
           }
          },
          "ternary": {
           "aaxis": {
            "gridcolor": "white",
            "linecolor": "white",
            "ticks": ""
           },
           "baxis": {
            "gridcolor": "white",
            "linecolor": "white",
            "ticks": ""
           },
           "bgcolor": "#E5ECF6",
           "caxis": {
            "gridcolor": "white",
            "linecolor": "white",
            "ticks": ""
           }
          },
          "title": {
           "x": 0.05
          },
          "xaxis": {
           "automargin": true,
           "gridcolor": "white",
           "linecolor": "white",
           "ticks": "",
           "title": {
            "standoff": 15
           },
           "zerolinecolor": "white",
           "zerolinewidth": 2
          },
          "yaxis": {
           "automargin": true,
           "gridcolor": "white",
           "linecolor": "white",
           "ticks": "",
           "title": {
            "standoff": 15
           },
           "zerolinecolor": "white",
           "zerolinewidth": 2
          }
         }
        },
        "xaxis": {
         "anchor": "y",
         "domain": [
          0,
          1
         ],
         "title": {
          "text": "Category"
         }
        },
        "yaxis": {
         "anchor": "x",
         "domain": [
          0,
          1
         ],
         "title": {
          "text": "CIVIC Total Sum Impact Score"
         }
        }
       }
      }
     },
     "metadata": {},
     "output_type": "display_data"
    }
   ],
   "source": [
    "fig = px.bar(\n",
    "    not_supported_variant_impact_df,\n",
    "    x=\"Category\",\n",
    "    y=\"CIVIC Total Sum Impact Score\",\n",
    "    hover_data=[\n",
    "        \"Total Number Evidence Items\",\n",
    "        not_supported_variant_impact_df[\"% Accepted Evidence Items\"],\n",
    "    ],\n",
    "    color=\"Total Number Evidence Items\",\n",
    "    labels={\"CIVIC Total Sum Impact Score\": \"CIVIC Total Sum Impact Score\"},\n",
    "    text_auto=\".1f\",\n",
    "    color_continuous_scale=\"geyser\",\n",
    ")\n",
    "fig.update_traces(width=1)\n",
    "fig.show()"
   ]
  },
  {
   "cell_type": "code",
   "execution_count": 309,
   "metadata": {},
   "outputs": [],
   "source": [
    "fig.write_html(\"civic_ns_categories_impact_redgreen.html\")"
   ]
  },
  {
   "cell_type": "markdown",
   "metadata": {},
   "source": [
    "The scatterplot below shows the relationship between the Not Suported variant sub category impact score and the number of evidence items associated with variants in each sub category. Additionally, the sizes of the data point represent the number of variants in each sub category. "
   ]
  },
  {
   "cell_type": "code",
   "execution_count": 310,
   "metadata": {},
   "outputs": [
    {
     "data": {
      "application/vnd.plotly.v1+json": {
       "config": {
        "plotlyServerURL": "https://plot.ly"
       },
       "data": [
        {
         "customdata": [
          [
           "56.07%"
          ]
         ],
         "hovertemplate": "Category=Expression<br>Total Number Evidence Items=%{x}<br>CIVIC Total Sum Impact Score=%{y}<br>Total Number Variants=%{text}<br>% Accepted Evidence Items=%{customdata[0]}<extra></extra>",
         "legendgroup": "Expression",
         "marker": {
          "color": "#636efa",
          "size": [
           287
          ],
          "sizemode": "area",
          "sizeref": 0.22875,
          "symbol": "circle"
         },
         "mode": "markers+text",
         "name": "Expression",
         "orientation": "v",
         "showlegend": true,
         "text": [
          287
         ],
         "type": "scatter",
         "x": [
          610
         ],
         "xaxis": "x",
         "y": [
          3618
         ],
         "yaxis": "y"
        },
        {
         "customdata": [
          [
           "95.65%"
          ]
         ],
         "hovertemplate": "Category=Epigenetic Modification<br>Total Number Evidence Items=%{x}<br>CIVIC Total Sum Impact Score=%{y}<br>Total Number Variants=%{text}<br>% Accepted Evidence Items=%{customdata[0]}<extra></extra>",
         "legendgroup": "Epigenetic Modification",
         "marker": {
          "color": "#EF553B",
          "size": [
           14
          ],
          "sizemode": "area",
          "sizeref": 0.22875,
          "symbol": "circle"
         },
         "mode": "markers+text",
         "name": "Epigenetic Modification",
         "orientation": "v",
         "showlegend": true,
         "text": [
          14
         ],
         "type": "scatter",
         "x": [
          23
         ],
         "xaxis": "x",
         "y": [
          285.5
         ],
         "yaxis": "y"
        },
        {
         "customdata": [
          [
           "61.33%"
          ]
         ],
         "hovertemplate": "Category=Fusion<br>Total Number Evidence Items=%{x}<br>CIVIC Total Sum Impact Score=%{y}<br>Total Number Variants=%{text}<br>% Accepted Evidence Items=%{customdata[0]}<extra></extra>",
         "legendgroup": "Fusion",
         "marker": {
          "color": "#00cc96",
          "size": [
           294
          ],
          "sizemode": "area",
          "sizeref": 0.22875,
          "symbol": "circle"
         },
         "mode": "markers+text",
         "name": "Fusion",
         "orientation": "v",
         "showlegend": true,
         "text": [
          294
         ],
         "type": "scatter",
         "x": [
          1218
         ],
         "xaxis": "x",
         "y": [
          6558.75
         ],
         "yaxis": "y"
        },
        {
         "customdata": [
          [
           "65.19%"
          ]
         ],
         "hovertemplate": "Category=Protein Consequence<br>Total Number Evidence Items=%{x}<br>CIVIC Total Sum Impact Score=%{y}<br>Total Number Variants=%{text}<br>% Accepted Evidence Items=%{customdata[0]}<extra></extra>",
         "legendgroup": "Protein Consequence",
         "marker": {
          "color": "#ab63fa",
          "size": [
           127
          ],
          "sizemode": "area",
          "sizeref": 0.22875,
          "symbol": "circle"
         },
         "mode": "markers+text",
         "name": "Protein Consequence",
         "orientation": "v",
         "showlegend": true,
         "text": [
          127
         ],
         "type": "scatter",
         "x": [
          293
         ],
         "xaxis": "x",
         "y": [
          2683.75
         ],
         "yaxis": "y"
        },
        {
         "customdata": [
          [
           "44.64%"
          ]
         ],
         "hovertemplate": "Category=Gene Function<br>Total Number Evidence Items=%{x}<br>CIVIC Total Sum Impact Score=%{y}<br>Total Number Variants=%{text}<br>% Accepted Evidence Items=%{customdata[0]}<extra></extra>",
         "legendgroup": "Gene Function",
         "marker": {
          "color": "#FFA15A",
          "size": [
           91
          ],
          "sizemode": "area",
          "sizeref": 0.22875,
          "symbol": "circle"
         },
         "mode": "markers+text",
         "name": "Gene Function",
         "orientation": "v",
         "showlegend": true,
         "text": [
          91
         ],
         "type": "scatter",
         "x": [
          345
         ],
         "xaxis": "x",
         "y": [
          1805.5
         ],
         "yaxis": "y"
        },
        {
         "customdata": [
          [
           "38.69%"
          ]
         ],
         "hovertemplate": "Category=Rearrangements<br>Total Number Evidence Items=%{x}<br>CIVIC Total Sum Impact Score=%{y}<br>Total Number Variants=%{text}<br>% Accepted Evidence Items=%{customdata[0]}<extra></extra>",
         "legendgroup": "Rearrangements",
         "marker": {
          "color": "#19d3f3",
          "size": [
           52
          ],
          "sizemode": "area",
          "sizeref": 0.22875,
          "symbol": "circle"
         },
         "mode": "markers+text",
         "name": "Rearrangements",
         "orientation": "v",
         "showlegend": true,
         "text": [
          52
         ],
         "type": "scatter",
         "x": [
          137
         ],
         "xaxis": "x",
         "y": [
          653
         ],
         "yaxis": "y"
        },
        {
         "customdata": [
          [
           "46.27%"
          ]
         ],
         "hovertemplate": "Category=Copy Number<br>Total Number Evidence Items=%{x}<br>CIVIC Total Sum Impact Score=%{y}<br>Total Number Variants=%{text}<br>% Accepted Evidence Items=%{customdata[0]}<extra></extra>",
         "legendgroup": "Copy Number",
         "marker": {
          "color": "#FF6692",
          "size": [
           34
          ],
          "sizemode": "area",
          "sizeref": 0.22875,
          "symbol": "circle"
         },
         "mode": "markers+text",
         "name": "Copy Number",
         "orientation": "v",
         "showlegend": true,
         "text": [
          34
         ],
         "type": "scatter",
         "x": [
          67
         ],
         "xaxis": "x",
         "y": [
          225
         ],
         "yaxis": "y"
        },
        {
         "customdata": [
          [
           "39.74%"
          ]
         ],
         "hovertemplate": "Category=Other<br>Total Number Evidence Items=%{x}<br>CIVIC Total Sum Impact Score=%{y}<br>Total Number Variants=%{text}<br>% Accepted Evidence Items=%{customdata[0]}<extra></extra>",
         "legendgroup": "Other",
         "marker": {
          "color": "#B6E880",
          "size": [
           86
          ],
          "sizemode": "area",
          "sizeref": 0.22875,
          "symbol": "circle"
         },
         "mode": "markers+text",
         "name": "Other",
         "orientation": "v",
         "showlegend": true,
         "text": [
          86
         ],
         "type": "scatter",
         "x": [
          156
         ],
         "xaxis": "x",
         "y": [
          703.5
         ],
         "yaxis": "y"
        },
        {
         "customdata": [
          [
           "65.00%"
          ]
         ],
         "hovertemplate": "Category=Genotypes Easy<br>Total Number Evidence Items=%{x}<br>CIVIC Total Sum Impact Score=%{y}<br>Total Number Variants=%{text}<br>% Accepted Evidence Items=%{customdata[0]}<extra></extra>",
         "legendgroup": "Genotypes Easy",
         "marker": {
          "color": "#FF97FF",
          "size": [
           10
          ],
          "sizemode": "area",
          "sizeref": 0.22875,
          "symbol": "circle"
         },
         "mode": "markers+text",
         "name": "Genotypes Easy",
         "orientation": "v",
         "showlegend": true,
         "text": [
          10
         ],
         "type": "scatter",
         "x": [
          20
         ],
         "xaxis": "x",
         "y": [
          195
         ],
         "yaxis": "y"
        },
        {
         "customdata": [
          [
           "57.14%"
          ]
         ],
         "hovertemplate": "Category=Genotypes Compound<br>Total Number Evidence Items=%{x}<br>CIVIC Total Sum Impact Score=%{y}<br>Total Number Variants=%{text}<br>% Accepted Evidence Items=%{customdata[0]}<extra></extra>",
         "legendgroup": "Genotypes Compound",
         "marker": {
          "color": "#FECB52",
          "size": [
           6
          ],
          "sizemode": "area",
          "sizeref": 0.22875,
          "symbol": "circle"
         },
         "mode": "markers+text",
         "name": "Genotypes Compound",
         "orientation": "v",
         "showlegend": true,
         "text": [
          6
         ],
         "type": "scatter",
         "x": [
          7
         ],
         "xaxis": "x",
         "y": [
          117.5
         ],
         "yaxis": "y"
        },
        {
         "customdata": [
          [
           "58.25%"
          ]
         ],
         "hovertemplate": "Category=Region Defined Variant<br>Total Number Evidence Items=%{x}<br>CIVIC Total Sum Impact Score=%{y}<br>Total Number Variants=%{text}<br>% Accepted Evidence Items=%{customdata[0]}<extra></extra>",
         "legendgroup": "Region Defined Variant",
         "marker": {
          "color": "#636efa",
          "size": [
           196
          ],
          "sizemode": "area",
          "sizeref": 0.22875,
          "symbol": "circle"
         },
         "mode": "markers+text",
         "name": "Region Defined Variant",
         "orientation": "v",
         "showlegend": true,
         "text": [
          196
         ],
         "type": "scatter",
         "x": [
          958
         ],
         "xaxis": "x",
         "y": [
          8353.5
         ],
         "yaxis": "y"
        },
        {
         "customdata": [
          [
           "12.11%"
          ]
         ],
         "hovertemplate": "Category=Transcript Variant<br>Total Number Evidence Items=%{x}<br>CIVIC Total Sum Impact Score=%{y}<br>Total Number Variants=%{text}<br>% Accepted Evidence Items=%{customdata[0]}<extra></extra>",
         "legendgroup": "Transcript Variant",
         "marker": {
          "color": "#EF553B",
          "size": [
           366
          ],
          "sizemode": "area",
          "sizeref": 0.22875,
          "symbol": "circle"
         },
         "mode": "markers+text",
         "name": "Transcript Variant",
         "orientation": "v",
         "showlegend": true,
         "text": [
          366
         ],
         "type": "scatter",
         "x": [
          446
         ],
         "xaxis": "x",
         "y": [
          356.5
         ],
         "yaxis": "y"
        }
       ],
       "layout": {
        "legend": {
         "itemsizing": "constant",
         "title": {
          "text": "Category"
         },
         "tracegroupgap": 0
        },
        "margin": {
         "t": 60
        },
        "template": {
         "data": {
          "bar": [
           {
            "error_x": {
             "color": "#2a3f5f"
            },
            "error_y": {
             "color": "#2a3f5f"
            },
            "marker": {
             "line": {
              "color": "#E5ECF6",
              "width": 0.5
             },
             "pattern": {
              "fillmode": "overlay",
              "size": 10,
              "solidity": 0.2
             }
            },
            "type": "bar"
           }
          ],
          "barpolar": [
           {
            "marker": {
             "line": {
              "color": "#E5ECF6",
              "width": 0.5
             },
             "pattern": {
              "fillmode": "overlay",
              "size": 10,
              "solidity": 0.2
             }
            },
            "type": "barpolar"
           }
          ],
          "carpet": [
           {
            "aaxis": {
             "endlinecolor": "#2a3f5f",
             "gridcolor": "white",
             "linecolor": "white",
             "minorgridcolor": "white",
             "startlinecolor": "#2a3f5f"
            },
            "baxis": {
             "endlinecolor": "#2a3f5f",
             "gridcolor": "white",
             "linecolor": "white",
             "minorgridcolor": "white",
             "startlinecolor": "#2a3f5f"
            },
            "type": "carpet"
           }
          ],
          "choropleth": [
           {
            "colorbar": {
             "outlinewidth": 0,
             "ticks": ""
            },
            "type": "choropleth"
           }
          ],
          "contour": [
           {
            "colorbar": {
             "outlinewidth": 0,
             "ticks": ""
            },
            "colorscale": [
             [
              0,
              "#0d0887"
             ],
             [
              0.1111111111111111,
              "#46039f"
             ],
             [
              0.2222222222222222,
              "#7201a8"
             ],
             [
              0.3333333333333333,
              "#9c179e"
             ],
             [
              0.4444444444444444,
              "#bd3786"
             ],
             [
              0.5555555555555556,
              "#d8576b"
             ],
             [
              0.6666666666666666,
              "#ed7953"
             ],
             [
              0.7777777777777778,
              "#fb9f3a"
             ],
             [
              0.8888888888888888,
              "#fdca26"
             ],
             [
              1,
              "#f0f921"
             ]
            ],
            "type": "contour"
           }
          ],
          "contourcarpet": [
           {
            "colorbar": {
             "outlinewidth": 0,
             "ticks": ""
            },
            "type": "contourcarpet"
           }
          ],
          "heatmap": [
           {
            "colorbar": {
             "outlinewidth": 0,
             "ticks": ""
            },
            "colorscale": [
             [
              0,
              "#0d0887"
             ],
             [
              0.1111111111111111,
              "#46039f"
             ],
             [
              0.2222222222222222,
              "#7201a8"
             ],
             [
              0.3333333333333333,
              "#9c179e"
             ],
             [
              0.4444444444444444,
              "#bd3786"
             ],
             [
              0.5555555555555556,
              "#d8576b"
             ],
             [
              0.6666666666666666,
              "#ed7953"
             ],
             [
              0.7777777777777778,
              "#fb9f3a"
             ],
             [
              0.8888888888888888,
              "#fdca26"
             ],
             [
              1,
              "#f0f921"
             ]
            ],
            "type": "heatmap"
           }
          ],
          "heatmapgl": [
           {
            "colorbar": {
             "outlinewidth": 0,
             "ticks": ""
            },
            "colorscale": [
             [
              0,
              "#0d0887"
             ],
             [
              0.1111111111111111,
              "#46039f"
             ],
             [
              0.2222222222222222,
              "#7201a8"
             ],
             [
              0.3333333333333333,
              "#9c179e"
             ],
             [
              0.4444444444444444,
              "#bd3786"
             ],
             [
              0.5555555555555556,
              "#d8576b"
             ],
             [
              0.6666666666666666,
              "#ed7953"
             ],
             [
              0.7777777777777778,
              "#fb9f3a"
             ],
             [
              0.8888888888888888,
              "#fdca26"
             ],
             [
              1,
              "#f0f921"
             ]
            ],
            "type": "heatmapgl"
           }
          ],
          "histogram": [
           {
            "marker": {
             "pattern": {
              "fillmode": "overlay",
              "size": 10,
              "solidity": 0.2
             }
            },
            "type": "histogram"
           }
          ],
          "histogram2d": [
           {
            "colorbar": {
             "outlinewidth": 0,
             "ticks": ""
            },
            "colorscale": [
             [
              0,
              "#0d0887"
             ],
             [
              0.1111111111111111,
              "#46039f"
             ],
             [
              0.2222222222222222,
              "#7201a8"
             ],
             [
              0.3333333333333333,
              "#9c179e"
             ],
             [
              0.4444444444444444,
              "#bd3786"
             ],
             [
              0.5555555555555556,
              "#d8576b"
             ],
             [
              0.6666666666666666,
              "#ed7953"
             ],
             [
              0.7777777777777778,
              "#fb9f3a"
             ],
             [
              0.8888888888888888,
              "#fdca26"
             ],
             [
              1,
              "#f0f921"
             ]
            ],
            "type": "histogram2d"
           }
          ],
          "histogram2dcontour": [
           {
            "colorbar": {
             "outlinewidth": 0,
             "ticks": ""
            },
            "colorscale": [
             [
              0,
              "#0d0887"
             ],
             [
              0.1111111111111111,
              "#46039f"
             ],
             [
              0.2222222222222222,
              "#7201a8"
             ],
             [
              0.3333333333333333,
              "#9c179e"
             ],
             [
              0.4444444444444444,
              "#bd3786"
             ],
             [
              0.5555555555555556,
              "#d8576b"
             ],
             [
              0.6666666666666666,
              "#ed7953"
             ],
             [
              0.7777777777777778,
              "#fb9f3a"
             ],
             [
              0.8888888888888888,
              "#fdca26"
             ],
             [
              1,
              "#f0f921"
             ]
            ],
            "type": "histogram2dcontour"
           }
          ],
          "mesh3d": [
           {
            "colorbar": {
             "outlinewidth": 0,
             "ticks": ""
            },
            "type": "mesh3d"
           }
          ],
          "parcoords": [
           {
            "line": {
             "colorbar": {
              "outlinewidth": 0,
              "ticks": ""
             }
            },
            "type": "parcoords"
           }
          ],
          "pie": [
           {
            "automargin": true,
            "type": "pie"
           }
          ],
          "scatter": [
           {
            "fillpattern": {
             "fillmode": "overlay",
             "size": 10,
             "solidity": 0.2
            },
            "type": "scatter"
           }
          ],
          "scatter3d": [
           {
            "line": {
             "colorbar": {
              "outlinewidth": 0,
              "ticks": ""
             }
            },
            "marker": {
             "colorbar": {
              "outlinewidth": 0,
              "ticks": ""
             }
            },
            "type": "scatter3d"
           }
          ],
          "scattercarpet": [
           {
            "marker": {
             "colorbar": {
              "outlinewidth": 0,
              "ticks": ""
             }
            },
            "type": "scattercarpet"
           }
          ],
          "scattergeo": [
           {
            "marker": {
             "colorbar": {
              "outlinewidth": 0,
              "ticks": ""
             }
            },
            "type": "scattergeo"
           }
          ],
          "scattergl": [
           {
            "marker": {
             "colorbar": {
              "outlinewidth": 0,
              "ticks": ""
             }
            },
            "type": "scattergl"
           }
          ],
          "scattermapbox": [
           {
            "marker": {
             "colorbar": {
              "outlinewidth": 0,
              "ticks": ""
             }
            },
            "type": "scattermapbox"
           }
          ],
          "scatterpolar": [
           {
            "marker": {
             "colorbar": {
              "outlinewidth": 0,
              "ticks": ""
             }
            },
            "type": "scatterpolar"
           }
          ],
          "scatterpolargl": [
           {
            "marker": {
             "colorbar": {
              "outlinewidth": 0,
              "ticks": ""
             }
            },
            "type": "scatterpolargl"
           }
          ],
          "scatterternary": [
           {
            "marker": {
             "colorbar": {
              "outlinewidth": 0,
              "ticks": ""
             }
            },
            "type": "scatterternary"
           }
          ],
          "surface": [
           {
            "colorbar": {
             "outlinewidth": 0,
             "ticks": ""
            },
            "colorscale": [
             [
              0,
              "#0d0887"
             ],
             [
              0.1111111111111111,
              "#46039f"
             ],
             [
              0.2222222222222222,
              "#7201a8"
             ],
             [
              0.3333333333333333,
              "#9c179e"
             ],
             [
              0.4444444444444444,
              "#bd3786"
             ],
             [
              0.5555555555555556,
              "#d8576b"
             ],
             [
              0.6666666666666666,
              "#ed7953"
             ],
             [
              0.7777777777777778,
              "#fb9f3a"
             ],
             [
              0.8888888888888888,
              "#fdca26"
             ],
             [
              1,
              "#f0f921"
             ]
            ],
            "type": "surface"
           }
          ],
          "table": [
           {
            "cells": {
             "fill": {
              "color": "#EBF0F8"
             },
             "line": {
              "color": "white"
             }
            },
            "header": {
             "fill": {
              "color": "#C8D4E3"
             },
             "line": {
              "color": "white"
             }
            },
            "type": "table"
           }
          ]
         },
         "layout": {
          "annotationdefaults": {
           "arrowcolor": "#2a3f5f",
           "arrowhead": 0,
           "arrowwidth": 1
          },
          "autotypenumbers": "strict",
          "coloraxis": {
           "colorbar": {
            "outlinewidth": 0,
            "ticks": ""
           }
          },
          "colorscale": {
           "diverging": [
            [
             0,
             "#8e0152"
            ],
            [
             0.1,
             "#c51b7d"
            ],
            [
             0.2,
             "#de77ae"
            ],
            [
             0.3,
             "#f1b6da"
            ],
            [
             0.4,
             "#fde0ef"
            ],
            [
             0.5,
             "#f7f7f7"
            ],
            [
             0.6,
             "#e6f5d0"
            ],
            [
             0.7,
             "#b8e186"
            ],
            [
             0.8,
             "#7fbc41"
            ],
            [
             0.9,
             "#4d9221"
            ],
            [
             1,
             "#276419"
            ]
           ],
           "sequential": [
            [
             0,
             "#0d0887"
            ],
            [
             0.1111111111111111,
             "#46039f"
            ],
            [
             0.2222222222222222,
             "#7201a8"
            ],
            [
             0.3333333333333333,
             "#9c179e"
            ],
            [
             0.4444444444444444,
             "#bd3786"
            ],
            [
             0.5555555555555556,
             "#d8576b"
            ],
            [
             0.6666666666666666,
             "#ed7953"
            ],
            [
             0.7777777777777778,
             "#fb9f3a"
            ],
            [
             0.8888888888888888,
             "#fdca26"
            ],
            [
             1,
             "#f0f921"
            ]
           ],
           "sequentialminus": [
            [
             0,
             "#0d0887"
            ],
            [
             0.1111111111111111,
             "#46039f"
            ],
            [
             0.2222222222222222,
             "#7201a8"
            ],
            [
             0.3333333333333333,
             "#9c179e"
            ],
            [
             0.4444444444444444,
             "#bd3786"
            ],
            [
             0.5555555555555556,
             "#d8576b"
            ],
            [
             0.6666666666666666,
             "#ed7953"
            ],
            [
             0.7777777777777778,
             "#fb9f3a"
            ],
            [
             0.8888888888888888,
             "#fdca26"
            ],
            [
             1,
             "#f0f921"
            ]
           ]
          },
          "colorway": [
           "#636efa",
           "#EF553B",
           "#00cc96",
           "#ab63fa",
           "#FFA15A",
           "#19d3f3",
           "#FF6692",
           "#B6E880",
           "#FF97FF",
           "#FECB52"
          ],
          "font": {
           "color": "#2a3f5f"
          },
          "geo": {
           "bgcolor": "white",
           "lakecolor": "white",
           "landcolor": "#E5ECF6",
           "showlakes": true,
           "showland": true,
           "subunitcolor": "white"
          },
          "hoverlabel": {
           "align": "left"
          },
          "hovermode": "closest",
          "mapbox": {
           "style": "light"
          },
          "paper_bgcolor": "white",
          "plot_bgcolor": "#E5ECF6",
          "polar": {
           "angularaxis": {
            "gridcolor": "white",
            "linecolor": "white",
            "ticks": ""
           },
           "bgcolor": "#E5ECF6",
           "radialaxis": {
            "gridcolor": "white",
            "linecolor": "white",
            "ticks": ""
           }
          },
          "scene": {
           "xaxis": {
            "backgroundcolor": "#E5ECF6",
            "gridcolor": "white",
            "gridwidth": 2,
            "linecolor": "white",
            "showbackground": true,
            "ticks": "",
            "zerolinecolor": "white"
           },
           "yaxis": {
            "backgroundcolor": "#E5ECF6",
            "gridcolor": "white",
            "gridwidth": 2,
            "linecolor": "white",
            "showbackground": true,
            "ticks": "",
            "zerolinecolor": "white"
           },
           "zaxis": {
            "backgroundcolor": "#E5ECF6",
            "gridcolor": "white",
            "gridwidth": 2,
            "linecolor": "white",
            "showbackground": true,
            "ticks": "",
            "zerolinecolor": "white"
           }
          },
          "shapedefaults": {
           "line": {
            "color": "#2a3f5f"
           }
          },
          "ternary": {
           "aaxis": {
            "gridcolor": "white",
            "linecolor": "white",
            "ticks": ""
           },
           "baxis": {
            "gridcolor": "white",
            "linecolor": "white",
            "ticks": ""
           },
           "bgcolor": "#E5ECF6",
           "caxis": {
            "gridcolor": "white",
            "linecolor": "white",
            "ticks": ""
           }
          },
          "title": {
           "x": 0.05
          },
          "xaxis": {
           "automargin": true,
           "gridcolor": "white",
           "linecolor": "white",
           "ticks": "",
           "title": {
            "standoff": 15
           },
           "zerolinecolor": "white",
           "zerolinewidth": 2
          },
          "yaxis": {
           "automargin": true,
           "gridcolor": "white",
           "linecolor": "white",
           "ticks": "",
           "title": {
            "standoff": 15
           },
           "zerolinecolor": "white",
           "zerolinewidth": 2
          }
         }
        },
        "xaxis": {
         "anchor": "y",
         "domain": [
          0,
          1
         ],
         "title": {
          "text": "Total Number Evidence Items"
         }
        },
        "yaxis": {
         "anchor": "x",
         "domain": [
          0,
          1
         ],
         "title": {
          "text": "CIVIC Total Sum Impact Score"
         }
        }
       }
      }
     },
     "metadata": {},
     "output_type": "display_data"
    }
   ],
   "source": [
    "fig2 = px.scatter(\n",
    "    data_frame=not_supported_variant_impact_df,\n",
    "    x=\"Total Number Evidence Items\",\n",
    "    y=\"CIVIC Total Sum Impact Score\",\n",
    "    size=\"Total Number Variants\",\n",
    "    size_max=40,\n",
    "    text=\"Total Number Variants\",\n",
    "    color=\"Category\",\n",
    "    hover_data=\"% Accepted Evidence Items\",\n",
    ")\n",
    "fig2.show()"
   ]
  },
  {
   "cell_type": "code",
   "execution_count": 311,
   "metadata": {},
   "outputs": [],
   "source": [
    "fig2.write_html(\"civic_ns_categories_impact_scatterplot.html\")"
   ]
  },
  {
   "cell_type": "code",
   "execution_count": 312,
   "metadata": {},
   "outputs": [
    {
     "data": {
      "application/vnd.plotly.v1+json": {
       "config": {
        "plotlyServerURL": "https://plot.ly"
       },
       "data": [
        {
         "customdata": [
          [
           "56.07%",
           9.885245901639344
          ]
         ],
         "hovertemplate": "Category=Expression<br>Total Number Variants=%{text}<br>Average Impact Score per Evidence Item=%{y}<br>% Accepted Evidence Items=%{customdata[0]}<br>Average Impact Score per Variant=%{customdata[1]}<extra></extra>",
         "legendgroup": "Expression",
         "marker": {
          "color": "#636efa",
          "size": [
           287
          ],
          "sizemode": "area",
          "sizeref": 0.22875,
          "symbol": "circle"
         },
         "mode": "markers+text",
         "name": "Expression",
         "orientation": "v",
         "showlegend": true,
         "text": [
          287
         ],
         "type": "scatter",
         "x": [
          287
         ],
         "xaxis": "x",
         "y": [
          8.112107623318385
         ],
         "yaxis": "y"
        },
        {
         "customdata": [
          [
           "95.65%",
           0.7800546448087432
          ]
         ],
         "hovertemplate": "Category=Epigenetic Modification<br>Total Number Variants=%{text}<br>Average Impact Score per Evidence Item=%{y}<br>% Accepted Evidence Items=%{customdata[0]}<br>Average Impact Score per Variant=%{customdata[1]}<extra></extra>",
         "legendgroup": "Epigenetic Modification",
         "marker": {
          "color": "#EF553B",
          "size": [
           14
          ],
          "sizemode": "area",
          "sizeref": 0.22875,
          "symbol": "circle"
         },
         "mode": "markers+text",
         "name": "Epigenetic Modification",
         "orientation": "v",
         "showlegend": true,
         "text": [
          14
         ],
         "type": "scatter",
         "x": [
          14
         ],
         "xaxis": "x",
         "y": [
          0.6401345291479821
         ],
         "yaxis": "y"
        },
        {
         "customdata": [
          [
           "61.33%",
           17.920081967213115
          ]
         ],
         "hovertemplate": "Category=Fusion<br>Total Number Variants=%{text}<br>Average Impact Score per Evidence Item=%{y}<br>% Accepted Evidence Items=%{customdata[0]}<br>Average Impact Score per Variant=%{customdata[1]}<extra></extra>",
         "legendgroup": "Fusion",
         "marker": {
          "color": "#00cc96",
          "size": [
           294
          ],
          "sizemode": "area",
          "sizeref": 0.22875,
          "symbol": "circle"
         },
         "mode": "markers+text",
         "name": "Fusion",
         "orientation": "v",
         "showlegend": true,
         "text": [
          294
         ],
         "type": "scatter",
         "x": [
          294
         ],
         "xaxis": "x",
         "y": [
          14.705717488789238
         ],
         "yaxis": "y"
        },
        {
         "customdata": [
          [
           "65.19%",
           7.3326502732240435
          ]
         ],
         "hovertemplate": "Category=Protein Consequence<br>Total Number Variants=%{text}<br>Average Impact Score per Evidence Item=%{y}<br>% Accepted Evidence Items=%{customdata[0]}<br>Average Impact Score per Variant=%{customdata[1]}<extra></extra>",
         "legendgroup": "Protein Consequence",
         "marker": {
          "color": "#ab63fa",
          "size": [
           127
          ],
          "sizemode": "area",
          "sizeref": 0.22875,
          "symbol": "circle"
         },
         "mode": "markers+text",
         "name": "Protein Consequence",
         "orientation": "v",
         "showlegend": true,
         "text": [
          127
         ],
         "type": "scatter",
         "x": [
          127
         ],
         "xaxis": "x",
         "y": [
          6.0173766816143495
         ],
         "yaxis": "y"
        },
        {
         "customdata": [
          [
           "44.64%",
           4.933060109289618
          ]
         ],
         "hovertemplate": "Category=Gene Function<br>Total Number Variants=%{text}<br>Average Impact Score per Evidence Item=%{y}<br>% Accepted Evidence Items=%{customdata[0]}<br>Average Impact Score per Variant=%{customdata[1]}<extra></extra>",
         "legendgroup": "Gene Function",
         "marker": {
          "color": "#FFA15A",
          "size": [
           91
          ],
          "sizemode": "area",
          "sizeref": 0.22875,
          "symbol": "circle"
         },
         "mode": "markers+text",
         "name": "Gene Function",
         "orientation": "v",
         "showlegend": true,
         "text": [
          91
         ],
         "type": "scatter",
         "x": [
          91
         ],
         "xaxis": "x",
         "y": [
          4.048206278026906
         ],
         "yaxis": "y"
        },
        {
         "customdata": [
          [
           "38.69%",
           1.784153005464481
          ]
         ],
         "hovertemplate": "Category=Rearrangements<br>Total Number Variants=%{text}<br>Average Impact Score per Evidence Item=%{y}<br>% Accepted Evidence Items=%{customdata[0]}<br>Average Impact Score per Variant=%{customdata[1]}<extra></extra>",
         "legendgroup": "Rearrangements",
         "marker": {
          "color": "#19d3f3",
          "size": [
           52
          ],
          "sizemode": "area",
          "sizeref": 0.22875,
          "symbol": "circle"
         },
         "mode": "markers+text",
         "name": "Rearrangements",
         "orientation": "v",
         "showlegend": true,
         "text": [
          52
         ],
         "type": "scatter",
         "x": [
          52
         ],
         "xaxis": "x",
         "y": [
          1.4641255605381165
         ],
         "yaxis": "y"
        },
        {
         "customdata": [
          [
           "46.27%",
           0.6147540983606558
          ]
         ],
         "hovertemplate": "Category=Copy Number<br>Total Number Variants=%{text}<br>Average Impact Score per Evidence Item=%{y}<br>% Accepted Evidence Items=%{customdata[0]}<br>Average Impact Score per Variant=%{customdata[1]}<extra></extra>",
         "legendgroup": "Copy Number",
         "marker": {
          "color": "#FF6692",
          "size": [
           34
          ],
          "sizemode": "area",
          "sizeref": 0.22875,
          "symbol": "circle"
         },
         "mode": "markers+text",
         "name": "Copy Number",
         "orientation": "v",
         "showlegend": true,
         "text": [
          34
         ],
         "type": "scatter",
         "x": [
          34
         ],
         "xaxis": "x",
         "y": [
          0.5044843049327354
         ],
         "yaxis": "y"
        },
        {
         "customdata": [
          [
           "39.74%",
           1.9221311475409837
          ]
         ],
         "hovertemplate": "Category=Other<br>Total Number Variants=%{text}<br>Average Impact Score per Evidence Item=%{y}<br>% Accepted Evidence Items=%{customdata[0]}<br>Average Impact Score per Variant=%{customdata[1]}<extra></extra>",
         "legendgroup": "Other",
         "marker": {
          "color": "#B6E880",
          "size": [
           86
          ],
          "sizemode": "area",
          "sizeref": 0.22875,
          "symbol": "circle"
         },
         "mode": "markers+text",
         "name": "Other",
         "orientation": "v",
         "showlegend": true,
         "text": [
          86
         ],
         "type": "scatter",
         "x": [
          86
         ],
         "xaxis": "x",
         "y": [
          1.5773542600896862
         ],
         "yaxis": "y"
        },
        {
         "customdata": [
          [
           "65.00%",
           0.5327868852459017
          ]
         ],
         "hovertemplate": "Category=Genotypes Easy<br>Total Number Variants=%{text}<br>Average Impact Score per Evidence Item=%{y}<br>% Accepted Evidence Items=%{customdata[0]}<br>Average Impact Score per Variant=%{customdata[1]}<extra></extra>",
         "legendgroup": "Genotypes Easy",
         "marker": {
          "color": "#FF97FF",
          "size": [
           10
          ],
          "sizemode": "area",
          "sizeref": 0.22875,
          "symbol": "circle"
         },
         "mode": "markers+text",
         "name": "Genotypes Easy",
         "orientation": "v",
         "showlegend": true,
         "text": [
          10
         ],
         "type": "scatter",
         "x": [
          10
         ],
         "xaxis": "x",
         "y": [
          0.437219730941704
         ],
         "yaxis": "y"
        },
        {
         "customdata": [
          [
           "57.14%",
           0.32103825136612024
          ]
         ],
         "hovertemplate": "Category=Genotypes Compound<br>Total Number Variants=%{text}<br>Average Impact Score per Evidence Item=%{y}<br>% Accepted Evidence Items=%{customdata[0]}<br>Average Impact Score per Variant=%{customdata[1]}<extra></extra>",
         "legendgroup": "Genotypes Compound",
         "marker": {
          "color": "#FECB52",
          "size": [
           6
          ],
          "sizemode": "area",
          "sizeref": 0.22875,
          "symbol": "circle"
         },
         "mode": "markers+text",
         "name": "Genotypes Compound",
         "orientation": "v",
         "showlegend": true,
         "text": [
          6
         ],
         "type": "scatter",
         "x": [
          6
         ],
         "xaxis": "x",
         "y": [
          0.26345291479820626
         ],
         "yaxis": "y"
        },
        {
         "customdata": [
          [
           "58.25%",
           22.82377049180328
          ]
         ],
         "hovertemplate": "Category=Region Defined Variant<br>Total Number Variants=%{text}<br>Average Impact Score per Evidence Item=%{y}<br>% Accepted Evidence Items=%{customdata[0]}<br>Average Impact Score per Variant=%{customdata[1]}<extra></extra>",
         "legendgroup": "Region Defined Variant",
         "marker": {
          "color": "#636efa",
          "size": [
           196
          ],
          "sizemode": "area",
          "sizeref": 0.22875,
          "symbol": "circle"
         },
         "mode": "markers+text",
         "name": "Region Defined Variant",
         "orientation": "v",
         "showlegend": true,
         "text": [
          196
         ],
         "type": "scatter",
         "x": [
          196
         ],
         "xaxis": "x",
         "y": [
          18.72982062780269
         ],
         "yaxis": "y"
        },
        {
         "customdata": [
          [
           "12.11%",
           0.9740437158469946
          ]
         ],
         "hovertemplate": "Category=Transcript Variant<br>Total Number Variants=%{text}<br>Average Impact Score per Evidence Item=%{y}<br>% Accepted Evidence Items=%{customdata[0]}<br>Average Impact Score per Variant=%{customdata[1]}<extra></extra>",
         "legendgroup": "Transcript Variant",
         "marker": {
          "color": "#EF553B",
          "size": [
           366
          ],
          "sizemode": "area",
          "sizeref": 0.22875,
          "symbol": "circle"
         },
         "mode": "markers+text",
         "name": "Transcript Variant",
         "orientation": "v",
         "showlegend": true,
         "text": [
          366
         ],
         "type": "scatter",
         "x": [
          366
         ],
         "xaxis": "x",
         "y": [
          0.7993273542600897
         ],
         "yaxis": "y"
        }
       ],
       "layout": {
        "legend": {
         "itemsizing": "constant",
         "title": {
          "text": "Category"
         },
         "tracegroupgap": 0
        },
        "margin": {
         "t": 60
        },
        "template": {
         "data": {
          "bar": [
           {
            "error_x": {
             "color": "#2a3f5f"
            },
            "error_y": {
             "color": "#2a3f5f"
            },
            "marker": {
             "line": {
              "color": "#E5ECF6",
              "width": 0.5
             },
             "pattern": {
              "fillmode": "overlay",
              "size": 10,
              "solidity": 0.2
             }
            },
            "type": "bar"
           }
          ],
          "barpolar": [
           {
            "marker": {
             "line": {
              "color": "#E5ECF6",
              "width": 0.5
             },
             "pattern": {
              "fillmode": "overlay",
              "size": 10,
              "solidity": 0.2
             }
            },
            "type": "barpolar"
           }
          ],
          "carpet": [
           {
            "aaxis": {
             "endlinecolor": "#2a3f5f",
             "gridcolor": "white",
             "linecolor": "white",
             "minorgridcolor": "white",
             "startlinecolor": "#2a3f5f"
            },
            "baxis": {
             "endlinecolor": "#2a3f5f",
             "gridcolor": "white",
             "linecolor": "white",
             "minorgridcolor": "white",
             "startlinecolor": "#2a3f5f"
            },
            "type": "carpet"
           }
          ],
          "choropleth": [
           {
            "colorbar": {
             "outlinewidth": 0,
             "ticks": ""
            },
            "type": "choropleth"
           }
          ],
          "contour": [
           {
            "colorbar": {
             "outlinewidth": 0,
             "ticks": ""
            },
            "colorscale": [
             [
              0,
              "#0d0887"
             ],
             [
              0.1111111111111111,
              "#46039f"
             ],
             [
              0.2222222222222222,
              "#7201a8"
             ],
             [
              0.3333333333333333,
              "#9c179e"
             ],
             [
              0.4444444444444444,
              "#bd3786"
             ],
             [
              0.5555555555555556,
              "#d8576b"
             ],
             [
              0.6666666666666666,
              "#ed7953"
             ],
             [
              0.7777777777777778,
              "#fb9f3a"
             ],
             [
              0.8888888888888888,
              "#fdca26"
             ],
             [
              1,
              "#f0f921"
             ]
            ],
            "type": "contour"
           }
          ],
          "contourcarpet": [
           {
            "colorbar": {
             "outlinewidth": 0,
             "ticks": ""
            },
            "type": "contourcarpet"
           }
          ],
          "heatmap": [
           {
            "colorbar": {
             "outlinewidth": 0,
             "ticks": ""
            },
            "colorscale": [
             [
              0,
              "#0d0887"
             ],
             [
              0.1111111111111111,
              "#46039f"
             ],
             [
              0.2222222222222222,
              "#7201a8"
             ],
             [
              0.3333333333333333,
              "#9c179e"
             ],
             [
              0.4444444444444444,
              "#bd3786"
             ],
             [
              0.5555555555555556,
              "#d8576b"
             ],
             [
              0.6666666666666666,
              "#ed7953"
             ],
             [
              0.7777777777777778,
              "#fb9f3a"
             ],
             [
              0.8888888888888888,
              "#fdca26"
             ],
             [
              1,
              "#f0f921"
             ]
            ],
            "type": "heatmap"
           }
          ],
          "heatmapgl": [
           {
            "colorbar": {
             "outlinewidth": 0,
             "ticks": ""
            },
            "colorscale": [
             [
              0,
              "#0d0887"
             ],
             [
              0.1111111111111111,
              "#46039f"
             ],
             [
              0.2222222222222222,
              "#7201a8"
             ],
             [
              0.3333333333333333,
              "#9c179e"
             ],
             [
              0.4444444444444444,
              "#bd3786"
             ],
             [
              0.5555555555555556,
              "#d8576b"
             ],
             [
              0.6666666666666666,
              "#ed7953"
             ],
             [
              0.7777777777777778,
              "#fb9f3a"
             ],
             [
              0.8888888888888888,
              "#fdca26"
             ],
             [
              1,
              "#f0f921"
             ]
            ],
            "type": "heatmapgl"
           }
          ],
          "histogram": [
           {
            "marker": {
             "pattern": {
              "fillmode": "overlay",
              "size": 10,
              "solidity": 0.2
             }
            },
            "type": "histogram"
           }
          ],
          "histogram2d": [
           {
            "colorbar": {
             "outlinewidth": 0,
             "ticks": ""
            },
            "colorscale": [
             [
              0,
              "#0d0887"
             ],
             [
              0.1111111111111111,
              "#46039f"
             ],
             [
              0.2222222222222222,
              "#7201a8"
             ],
             [
              0.3333333333333333,
              "#9c179e"
             ],
             [
              0.4444444444444444,
              "#bd3786"
             ],
             [
              0.5555555555555556,
              "#d8576b"
             ],
             [
              0.6666666666666666,
              "#ed7953"
             ],
             [
              0.7777777777777778,
              "#fb9f3a"
             ],
             [
              0.8888888888888888,
              "#fdca26"
             ],
             [
              1,
              "#f0f921"
             ]
            ],
            "type": "histogram2d"
           }
          ],
          "histogram2dcontour": [
           {
            "colorbar": {
             "outlinewidth": 0,
             "ticks": ""
            },
            "colorscale": [
             [
              0,
              "#0d0887"
             ],
             [
              0.1111111111111111,
              "#46039f"
             ],
             [
              0.2222222222222222,
              "#7201a8"
             ],
             [
              0.3333333333333333,
              "#9c179e"
             ],
             [
              0.4444444444444444,
              "#bd3786"
             ],
             [
              0.5555555555555556,
              "#d8576b"
             ],
             [
              0.6666666666666666,
              "#ed7953"
             ],
             [
              0.7777777777777778,
              "#fb9f3a"
             ],
             [
              0.8888888888888888,
              "#fdca26"
             ],
             [
              1,
              "#f0f921"
             ]
            ],
            "type": "histogram2dcontour"
           }
          ],
          "mesh3d": [
           {
            "colorbar": {
             "outlinewidth": 0,
             "ticks": ""
            },
            "type": "mesh3d"
           }
          ],
          "parcoords": [
           {
            "line": {
             "colorbar": {
              "outlinewidth": 0,
              "ticks": ""
             }
            },
            "type": "parcoords"
           }
          ],
          "pie": [
           {
            "automargin": true,
            "type": "pie"
           }
          ],
          "scatter": [
           {
            "fillpattern": {
             "fillmode": "overlay",
             "size": 10,
             "solidity": 0.2
            },
            "type": "scatter"
           }
          ],
          "scatter3d": [
           {
            "line": {
             "colorbar": {
              "outlinewidth": 0,
              "ticks": ""
             }
            },
            "marker": {
             "colorbar": {
              "outlinewidth": 0,
              "ticks": ""
             }
            },
            "type": "scatter3d"
           }
          ],
          "scattercarpet": [
           {
            "marker": {
             "colorbar": {
              "outlinewidth": 0,
              "ticks": ""
             }
            },
            "type": "scattercarpet"
           }
          ],
          "scattergeo": [
           {
            "marker": {
             "colorbar": {
              "outlinewidth": 0,
              "ticks": ""
             }
            },
            "type": "scattergeo"
           }
          ],
          "scattergl": [
           {
            "marker": {
             "colorbar": {
              "outlinewidth": 0,
              "ticks": ""
             }
            },
            "type": "scattergl"
           }
          ],
          "scattermapbox": [
           {
            "marker": {
             "colorbar": {
              "outlinewidth": 0,
              "ticks": ""
             }
            },
            "type": "scattermapbox"
           }
          ],
          "scatterpolar": [
           {
            "marker": {
             "colorbar": {
              "outlinewidth": 0,
              "ticks": ""
             }
            },
            "type": "scatterpolar"
           }
          ],
          "scatterpolargl": [
           {
            "marker": {
             "colorbar": {
              "outlinewidth": 0,
              "ticks": ""
             }
            },
            "type": "scatterpolargl"
           }
          ],
          "scatterternary": [
           {
            "marker": {
             "colorbar": {
              "outlinewidth": 0,
              "ticks": ""
             }
            },
            "type": "scatterternary"
           }
          ],
          "surface": [
           {
            "colorbar": {
             "outlinewidth": 0,
             "ticks": ""
            },
            "colorscale": [
             [
              0,
              "#0d0887"
             ],
             [
              0.1111111111111111,
              "#46039f"
             ],
             [
              0.2222222222222222,
              "#7201a8"
             ],
             [
              0.3333333333333333,
              "#9c179e"
             ],
             [
              0.4444444444444444,
              "#bd3786"
             ],
             [
              0.5555555555555556,
              "#d8576b"
             ],
             [
              0.6666666666666666,
              "#ed7953"
             ],
             [
              0.7777777777777778,
              "#fb9f3a"
             ],
             [
              0.8888888888888888,
              "#fdca26"
             ],
             [
              1,
              "#f0f921"
             ]
            ],
            "type": "surface"
           }
          ],
          "table": [
           {
            "cells": {
             "fill": {
              "color": "#EBF0F8"
             },
             "line": {
              "color": "white"
             }
            },
            "header": {
             "fill": {
              "color": "#C8D4E3"
             },
             "line": {
              "color": "white"
             }
            },
            "type": "table"
           }
          ]
         },
         "layout": {
          "annotationdefaults": {
           "arrowcolor": "#2a3f5f",
           "arrowhead": 0,
           "arrowwidth": 1
          },
          "autotypenumbers": "strict",
          "coloraxis": {
           "colorbar": {
            "outlinewidth": 0,
            "ticks": ""
           }
          },
          "colorscale": {
           "diverging": [
            [
             0,
             "#8e0152"
            ],
            [
             0.1,
             "#c51b7d"
            ],
            [
             0.2,
             "#de77ae"
            ],
            [
             0.3,
             "#f1b6da"
            ],
            [
             0.4,
             "#fde0ef"
            ],
            [
             0.5,
             "#f7f7f7"
            ],
            [
             0.6,
             "#e6f5d0"
            ],
            [
             0.7,
             "#b8e186"
            ],
            [
             0.8,
             "#7fbc41"
            ],
            [
             0.9,
             "#4d9221"
            ],
            [
             1,
             "#276419"
            ]
           ],
           "sequential": [
            [
             0,
             "#0d0887"
            ],
            [
             0.1111111111111111,
             "#46039f"
            ],
            [
             0.2222222222222222,
             "#7201a8"
            ],
            [
             0.3333333333333333,
             "#9c179e"
            ],
            [
             0.4444444444444444,
             "#bd3786"
            ],
            [
             0.5555555555555556,
             "#d8576b"
            ],
            [
             0.6666666666666666,
             "#ed7953"
            ],
            [
             0.7777777777777778,
             "#fb9f3a"
            ],
            [
             0.8888888888888888,
             "#fdca26"
            ],
            [
             1,
             "#f0f921"
            ]
           ],
           "sequentialminus": [
            [
             0,
             "#0d0887"
            ],
            [
             0.1111111111111111,
             "#46039f"
            ],
            [
             0.2222222222222222,
             "#7201a8"
            ],
            [
             0.3333333333333333,
             "#9c179e"
            ],
            [
             0.4444444444444444,
             "#bd3786"
            ],
            [
             0.5555555555555556,
             "#d8576b"
            ],
            [
             0.6666666666666666,
             "#ed7953"
            ],
            [
             0.7777777777777778,
             "#fb9f3a"
            ],
            [
             0.8888888888888888,
             "#fdca26"
            ],
            [
             1,
             "#f0f921"
            ]
           ]
          },
          "colorway": [
           "#636efa",
           "#EF553B",
           "#00cc96",
           "#ab63fa",
           "#FFA15A",
           "#19d3f3",
           "#FF6692",
           "#B6E880",
           "#FF97FF",
           "#FECB52"
          ],
          "font": {
           "color": "#2a3f5f"
          },
          "geo": {
           "bgcolor": "white",
           "lakecolor": "white",
           "landcolor": "#E5ECF6",
           "showlakes": true,
           "showland": true,
           "subunitcolor": "white"
          },
          "hoverlabel": {
           "align": "left"
          },
          "hovermode": "closest",
          "mapbox": {
           "style": "light"
          },
          "paper_bgcolor": "white",
          "plot_bgcolor": "#E5ECF6",
          "polar": {
           "angularaxis": {
            "gridcolor": "white",
            "linecolor": "white",
            "ticks": ""
           },
           "bgcolor": "#E5ECF6",
           "radialaxis": {
            "gridcolor": "white",
            "linecolor": "white",
            "ticks": ""
           }
          },
          "scene": {
           "xaxis": {
            "backgroundcolor": "#E5ECF6",
            "gridcolor": "white",
            "gridwidth": 2,
            "linecolor": "white",
            "showbackground": true,
            "ticks": "",
            "zerolinecolor": "white"
           },
           "yaxis": {
            "backgroundcolor": "#E5ECF6",
            "gridcolor": "white",
            "gridwidth": 2,
            "linecolor": "white",
            "showbackground": true,
            "ticks": "",
            "zerolinecolor": "white"
           },
           "zaxis": {
            "backgroundcolor": "#E5ECF6",
            "gridcolor": "white",
            "gridwidth": 2,
            "linecolor": "white",
            "showbackground": true,
            "ticks": "",
            "zerolinecolor": "white"
           }
          },
          "shapedefaults": {
           "line": {
            "color": "#2a3f5f"
           }
          },
          "ternary": {
           "aaxis": {
            "gridcolor": "white",
            "linecolor": "white",
            "ticks": ""
           },
           "baxis": {
            "gridcolor": "white",
            "linecolor": "white",
            "ticks": ""
           },
           "bgcolor": "#E5ECF6",
           "caxis": {
            "gridcolor": "white",
            "linecolor": "white",
            "ticks": ""
           }
          },
          "title": {
           "x": 0.05
          },
          "xaxis": {
           "automargin": true,
           "gridcolor": "white",
           "linecolor": "white",
           "ticks": "",
           "title": {
            "standoff": 15
           },
           "zerolinecolor": "white",
           "zerolinewidth": 2
          },
          "yaxis": {
           "automargin": true,
           "gridcolor": "white",
           "linecolor": "white",
           "ticks": "",
           "title": {
            "standoff": 15
           },
           "zerolinecolor": "white",
           "zerolinewidth": 2
          }
         }
        },
        "xaxis": {
         "anchor": "y",
         "domain": [
          0,
          1
         ],
         "title": {
          "text": "Total Number Variants"
         }
        },
        "yaxis": {
         "anchor": "x",
         "domain": [
          0,
          1
         ],
         "title": {
          "text": "Average Impact Score per Evidence Item"
         }
        }
       }
      }
     },
     "metadata": {},
     "output_type": "display_data"
    }
   ],
   "source": [
    "fig3 = px.scatter(\n",
    "    data_frame=not_supported_variant_impact_df,\n",
    "    x=\"Total Number Variants\",\n",
    "    y=\"Average Impact Score per Evidence Item\",\n",
    "    size=\"Total Number Variants\",\n",
    "    size_max=40,\n",
    "    text=\"Total Number Variants\",\n",
    "    # color_discrete_sequence= Bold,\n",
    "    color=\"Category\",\n",
    "    hover_data=[\"% Accepted Evidence Items\", \"Average Impact Score per Variant\"],\n",
    ")\n",
    "fig3.show()"
   ]
  }
 ],
 "metadata": {
  "kernelspec": {
   "display_name": "Python 3.10.9 64-bit ('3.10.9')",
   "language": "python",
   "name": "python3"
  },
  "language_info": {
   "codemirror_mode": {
    "name": "ipython",
    "version": 3
   },
   "file_extension": ".py",
   "mimetype": "text/x-python",
   "name": "python",
   "nbconvert_exporter": "python",
   "pygments_lexer": "ipython3",
   "version": "3.10.9"
  },
  "orig_nbformat": 4,
  "vscode": {
   "interpreter": {
    "hash": "1bd4a0c8bc911393f4a19827cd0d555013b2fcb9ea63c8ddc9b9ae4ac59a8883"
   }
  }
 },
 "nbformat": 4,
 "nbformat_minor": 2
}
