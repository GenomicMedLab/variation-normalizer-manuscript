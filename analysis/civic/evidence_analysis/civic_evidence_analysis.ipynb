{
 "cells": [
  {
   "cell_type": "markdown",
   "metadata": {},
   "source": [
    "# <a id='toc1_'></a>[CIViC Evidence Analysis](#toc0_)\n",
    "This notebook contains an analysis on CIViC evidence data"
   ]
  },
  {
   "cell_type": "markdown",
   "metadata": {},
   "source": [
    "**Table of contents**<a id='toc0_'></a>    \n",
    "- [CIViC Evidence Analysis](#toc1_)    \n",
    "    - [Create output directory](#toc1_1_1_)    \n",
    "  - [Total Variants in CIViC](#toc1_2_)    \n",
    "  - [Total Evidence items in CIViC](#toc1_3_)    \n",
    "  - [Total Molecular Profiles in CIViC](#toc1_4_)    \n",
    "- [Create analysis functions / global variables](#toc2_)    \n",
    "  - [Summary dicts](#toc2_1_)    \n",
    "  - [Define Analysis Functions](#toc2_2_)    \n",
    "- [Analysis of Normalized Queries](#toc3_)    \n",
    "  - [List of Normalized Variants ID's](#toc3_1_)    \n",
    "  - [Variant analysis](#toc3_2_)    \n",
    "  - [Transform df for evidence analysis](#toc3_3_)    \n",
    "  - [Evidence analysis](#toc3_4_)    \n",
    "  - [Impact](#toc3_5_)    \n",
    "    - [Import molecular profile id](#toc3_5_1_)    \n",
    "    - [Import molecular profile scores](#toc3_5_2_)    \n",
    "- [Analysis of Unable to Normalize Queries](#toc4_)    \n",
    "  - [List of Unable to Normalize Variant ID's](#toc4_1_)    \n",
    "  - [Variant analysis](#toc4_2_)    \n",
    "  - [Transform df for evidence analysis](#toc4_3_)    \n",
    "  - [Evidence analysis](#toc4_4_)    \n",
    "  - [Impact](#toc4_5_)    \n",
    "    - [Import molecular profile id](#toc4_5_1_)    \n",
    "    - [Import molecular profile scores](#toc4_5_2_)    \n",
    "- [Analysis of Not Supported Variants](#toc5_)    \n",
    "    - [List of Not Supported Variant ID's](#toc5_1_1_)    \n",
    "  - [Variant Analysis](#toc5_2_)    \n",
    "    - [Not Supported Variant Analysis by Subcategory](#toc5_2_1_)    \n",
    "  - [Transform df for evidence analysis](#toc5_3_)    \n",
    "  - [Evidence analysis](#toc5_4_)    \n",
    "    - [Not Supported Variant Evidence Analysis by Subcategory](#toc5_4_1_)    \n",
    "  - [Impact](#toc5_5_)    \n",
    "    - [Via Evidence Level](#toc5_5_1_)    \n",
    "      - [Analysis with only Accepted Variants](#toc5_5_1_1_)    \n",
    "        - [Calculating evidence score via level](#toc5_5_1_1_1_)    \n",
    "        - [Summary Table](#toc5_5_1_1_2_)    \n",
    "      - [Analysis with Accepted and Submitted Variants](#toc5_5_1_2_)    \n",
    "        - [Calculating evidence score via level](#toc5_5_1_2_1_)    \n",
    "        - [Summary Table](#toc5_5_1_2_2_)    \n",
    "    - [Via Molecular Profile Score- this was not used eventaully since MOA evidence items are only scored by level](#toc5_5_2_)    \n",
    "      - [Import molecular profile id](#toc5_5_2_1_)    \n",
    "      - [Import molecular profile scores](#toc5_5_2_2_)    \n",
    "      - [Impact by Subcategory](#toc5_5_2_3_)    \n",
    "- [Summary](#toc6_)    \n",
    "  - [Variant Analysis](#toc6_1_)    \n",
    "    - [Building Summary Table 1 & 2](#toc6_1_1_)    \n",
    "    - [Summary Table 1](#toc6_1_2_)    \n",
    "    - [Summary Table 2](#toc6_1_3_)    \n",
    "    - [Building Summary Tables 3 - 5](#toc6_1_4_)    \n",
    "    - [Summary Table 3](#toc6_1_5_)    \n",
    "    - [Summary Table 4](#toc6_1_6_)    \n",
    "    - [Summary Table 5](#toc6_1_7_)    \n",
    "  - [Evidence Analysis](#toc6_2_)    \n",
    "    - [Building Summary Tables 6 & 7](#toc6_2_1_)    \n",
    "    - [Summary Table 6](#toc6_2_2_)    \n",
    "    - [Summmary Table 7](#toc6_2_3_)    \n",
    "    - [Building Summary Tables 8 - 10](#toc6_2_4_)    \n",
    "    - [Summary Table 8](#toc6_2_5_)    \n",
    "    - [Summary Table 9](#toc6_2_6_)    \n",
    "    - [Summary Table 10](#toc6_2_7_)    \n",
    "  - [Impact](#toc6_3_)    \n",
    "\n",
    "<!-- vscode-jupyter-toc-config\n",
    "\tnumbering=false\n",
    "\tanchor=true\n",
    "\tflat=false\n",
    "\tminLevel=1\n",
    "\tmaxLevel=6\n",
    "\t/vscode-jupyter-toc-config -->\n",
    "<!-- THIS CELL WILL BE REPLACED ON TOC UPDATE. DO NOT WRITE YOUR TEXT IN THIS CELL -->"
   ]
  },
  {
   "cell_type": "code",
   "execution_count": 1,
   "metadata": {},
   "outputs": [],
   "source": [
    "from pathlib import Path\n",
    "from enum import Enum\n",
    "import zipfile\n",
    "\n",
    "import pandas as pd\n",
    "from civicpy import civic as civicpy\n",
    "import plotly.express as px"
   ]
  },
  {
   "cell_type": "code",
   "execution_count": 2,
   "metadata": {},
   "outputs": [
    {
     "name": "stdout",
     "output_type": "stream",
     "text": [
      "Using ../cache-20230803.pkl.zip for civicpy cache\n"
     ]
    },
    {
     "data": {
      "text/plain": [
       "True"
      ]
     },
     "execution_count": 2,
     "metadata": {},
     "output_type": "execute_result"
    }
   ],
   "source": [
    "# Use latest cache that has been pushed to the repo\n",
    "latest_cache_zip_path = sorted(Path().glob(\"../cache-*.pkl.zip\"))[-1]\n",
    "print(f\"Using {latest_cache_zip_path} for civicpy cache\")\n",
    "\n",
    "with zipfile.ZipFile(latest_cache_zip_path, \"r\") as zip_ref:\n",
    "    zip_ref.extractall(\"../\")\n",
    "\n",
    "civicpy.load_cache(local_cache_path=Path(\"../cache.pkl\"), on_stale=\"ignore\")"
   ]
  },
  {
   "cell_type": "markdown",
   "metadata": {},
   "source": [
    "### <a id='toc1_1_1_'></a>[Create output directory](#toc0_)"
   ]
  },
  {
   "cell_type": "code",
   "execution_count": 3,
   "metadata": {},
   "outputs": [],
   "source": [
    "path = Path(\"civic_evidence_analysis_output\")\n",
    "path.mkdir(exist_ok = True)"
   ]
  },
  {
   "cell_type": "markdown",
   "metadata": {},
   "source": [
    "## <a id='toc1_2_'></a>[Total Variants in CIViC](#toc0_)"
   ]
  },
  {
   "cell_type": "code",
   "execution_count": 4,
   "metadata": {},
   "outputs": [
    {
     "data": {
      "text/plain": [
       "'Total Number of variants in CIViC: 3519'"
      ]
     },
     "execution_count": 4,
     "metadata": {},
     "output_type": "execute_result"
    }
   ],
   "source": [
    "civic_variant_ids = civicpy.get_all_variants(include_status=[\"accepted\", \"submitted\"])\n",
    "total_number_variants = len(civic_variant_ids)\n",
    "f\"Total Number of variants in CIViC: {total_number_variants}\""
   ]
  },
  {
   "cell_type": "markdown",
   "metadata": {},
   "source": [
    "## <a id='toc1_3_'></a>[Total Evidence items in CIViC](#toc0_)"
   ]
  },
  {
   "cell_type": "markdown",
   "metadata": {},
   "source": [
    "Need to remove all rejected evidence items"
   ]
  },
  {
   "cell_type": "code",
   "execution_count": 5,
   "metadata": {},
   "outputs": [],
   "source": [
    "civic_evidence_ids = civicpy.get_all_evidence(include_status=[\"accepted\", \"submitted\"])"
   ]
  },
  {
   "cell_type": "code",
   "execution_count": 6,
   "metadata": {},
   "outputs": [
    {
     "data": {
      "text/plain": [
       "'Total Number of accepted and submitted evidence items in CIViC: 9920'"
      ]
     },
     "execution_count": 6,
     "metadata": {},
     "output_type": "execute_result"
    }
   ],
   "source": [
    "total_ac_sub_evidence = len(civic_evidence_ids)\n",
    "f\"Total Number of accepted and submitted evidence items in CIViC: {total_ac_sub_evidence}\""
   ]
  },
  {
   "cell_type": "markdown",
   "metadata": {},
   "source": [
    "## <a id='toc1_4_'></a>[Total Molecular Profiles in CIViC](#toc0_)"
   ]
  },
  {
   "cell_type": "code",
   "execution_count": 7,
   "metadata": {},
   "outputs": [],
   "source": [
    "civic_molprof_ids = civicpy.get_all_molecular_profiles(\n",
    "    include_status=[\"accepted\", \"submitted\", \"rejected\"]\n",
    ")"
   ]
  },
  {
   "cell_type": "code",
   "execution_count": 8,
   "metadata": {},
   "outputs": [
    {
     "data": {
      "text/plain": [
       "9920"
      ]
     },
     "execution_count": 8,
     "metadata": {},
     "output_type": "execute_result"
    }
   ],
   "source": [
    "len(civic_evidence_ids)"
   ]
  },
  {
   "cell_type": "markdown",
   "metadata": {},
   "source": [
    "# <a id='toc2_'></a>[Create analysis functions / global variables](#toc0_)"
   ]
  },
  {
   "cell_type": "code",
   "execution_count": 9,
   "metadata": {},
   "outputs": [],
   "source": [
    "class VariantNormType(str, Enum):\n",
    "    \"\"\"Variation Normalization types\"\"\"\n",
    "\n",
    "    NORMALIZED = \"Normalized\"\n",
    "    UNABLE_TO_NORMALIZE = \"Unable to Normalize\"\n",
    "    NOT_SUPPORTED = \"Not Supported\"\n",
    "\n",
    "\n",
    "VARIANT_NORM_TYPE_VALUES = [v.value for v in VariantNormType.__members__.values()]"
   ]
  },
  {
   "cell_type": "code",
   "execution_count": 10,
   "metadata": {},
   "outputs": [],
   "source": [
    "class VariantCategory(str, Enum):\n",
    "    \"\"\"Create enum for the kind of variants that are in CIViC.\"\"\"\n",
    "    EXPRESSION = \"Expression Variants\"\n",
    "    EPIGENETIC_MODIFICATION = \"Epigenetic Modification\"\n",
    "    FUSION = \"Fusion Variants\"\n",
    "    SEQUENCE_VARS = \"Sequence Variants\"\n",
    "    GENE_FUNC = \"Gene Function Variants\"\n",
    "    REARRANGEMENTS = \"Rearrangement Variants\"\n",
    "    COPY_NUMBER = \"Copy Number Variants\"\n",
    "    OTHER = \"Other Variants\"\n",
    "    GENOTYPES = \"Genotype Variants\"\n",
    "    REGION_DEFINED_VAR = \"Region Defined Variants\"\n",
    "    TRANSCRIPT_VAR = \"Transcript Variants\"  # no attempt to normalize these ones, since there is no query we could use\n",
    "\n",
    "\n",
    "VARIANT_CATEGORY_VALUES = [v.value for v in VariantCategory.__members__.values()]"
   ]
  },
  {
   "cell_type": "markdown",
   "metadata": {},
   "source": [
    "## <a id='toc2_1_'></a>[Summary dicts](#toc0_)\n",
    "\n",
    "These dictionaries will be mutated and used at the end of the analysis"
   ]
  },
  {
   "cell_type": "code",
   "execution_count": 11,
   "metadata": {},
   "outputs": [
    {
     "data": {
      "text/plain": [
       "{'Variant Category': ['Normalized', 'Unable to Normalize', 'Not Supported'],\n",
       " 'Count of CIViC Variant Items per Category': [],\n",
       " 'Fraction of all CIViC Variant Items': [],\n",
       " 'Percentage of all CIViC Variant Items': [],\n",
       " 'Fraction of Accepted Variant Items': [],\n",
       " 'Percentage of Accepted Variant Items': [],\n",
       " 'Fraction of Not Accepted Variant Items': [],\n",
       " 'Percentage of Not Accepted Variant Items': []}"
      ]
     },
     "execution_count": 11,
     "metadata": {},
     "output_type": "execute_result"
    }
   ],
   "source": [
    "variant_analysis_summary = {\n",
    "    \"Variant Category\": VARIANT_NORM_TYPE_VALUES,\n",
    "    \"Count of CIViC Variant Items per Category\": [],\n",
    "    \"Fraction of all CIViC Variant Items\": [],\n",
    "    \"Percentage of all CIViC Variant Items\": [],\n",
    "    \"Fraction of Accepted Variant Items\": [],\n",
    "    \"Percentage of Accepted Variant Items\": [],\n",
    "    \"Fraction of Not Accepted Variant Items\": [],\n",
    "    \"Percentage of Not Accepted Variant Items\": [],\n",
    "}\n",
    "variant_analysis_summary"
   ]
  },
  {
   "cell_type": "code",
   "execution_count": 12,
   "metadata": {},
   "outputs": [
    {
     "data": {
      "text/plain": [
       "{'Variant Category': ['Normalized', 'Unable to Normalize', 'Not Supported'],\n",
       " 'Count of CIViC Evidence Items per Category': [],\n",
       " 'Fraction of all CIViC Evidence Items': [],\n",
       " 'Percentage of all CIViC Evidence Items': [],\n",
       " 'Fraction of Accepted Evidence Items': [],\n",
       " 'Percentage of Accepted Evidence Items': [],\n",
       " 'Fraction of Submitted Evidence Items': [],\n",
       " 'Percentage of Submitted Evidence Items': []}"
      ]
     },
     "execution_count": 12,
     "metadata": {},
     "output_type": "execute_result"
    }
   ],
   "source": [
    "evidence_analysis_summary = {\n",
    "    \"Variant Category\": VARIANT_NORM_TYPE_VALUES,\n",
    "    \"Count of CIViC Evidence Items per Category\": [],\n",
    "    \"Fraction of all CIViC Evidence Items\": [],\n",
    "    \"Percentage of all CIViC Evidence Items\": [],\n",
    "    \"Fraction of Accepted Evidence Items\": [],\n",
    "    \"Percentage of Accepted Evidence Items\": [],\n",
    "    \"Fraction of Submitted Evidence Items\": [],\n",
    "    \"Percentage of Submitted Evidence Items\": [],\n",
    "}\n",
    "evidence_analysis_summary"
   ]
  },
  {
   "cell_type": "markdown",
   "metadata": {},
   "source": [
    "## <a id='toc2_2_'></a>[Define Analysis Functions](#toc0_)"
   ]
  },
  {
   "cell_type": "code",
   "execution_count": 13,
   "metadata": {},
   "outputs": [],
   "source": [
    "def variant_analysis(\n",
    "    df: pd.DataFrame, variant_norm_type: VariantNormType\n",
    ") -> pd.DataFrame:\n",
    "    \"\"\"Do variant analysis (counts, percentages)\n",
    "\n",
    "    :param df: Dataframe of variants\n",
    "    :param variant_norm_type: The kind of variants that are in `df`\n",
    "    :return: Transformed dataframe with variant ID duplicates dropped\n",
    "    \"\"\"\n",
    "    # Drop duplicate rows\n",
    "    df = df.drop_duplicates(subset=[\"variant_id\"])\n",
    "    variant_ids = list(df[\"variant_id\"])\n",
    "\n",
    "    # Count\n",
    "    num_variants = len(variant_ids)\n",
    "    fraction_variants = f\"{num_variants} / {total_number_variants}\"\n",
    "    print(\n",
    "        f\"\\nNumber of {variant_norm_type.value} Variants in CIViC: {fraction_variants}\"\n",
    "    )\n",
    "\n",
    "    # Percentage\n",
    "    percentage_variants = f\"{num_variants / total_number_variants * 100:.2f}%\"\n",
    "    print(\n",
    "        f\"Percentage of {variant_norm_type.value} Variants in CIViC: {percentage_variants}\"\n",
    "    )\n",
    "\n",
    "    # Get accepted counts\n",
    "    num_accepted_variants = df.variant_accepted.sum()\n",
    "    fraction_accepted_variants = f\"{num_accepted_variants} / {num_variants}\"\n",
    "    print(\n",
    "        f\"\\nNumber of accepted {variant_norm_type.value} Variants: {fraction_accepted_variants}\"\n",
    "    )\n",
    "\n",
    "    # Get accepted percentage\n",
    "    percentage_accepted_variants = f\"{num_accepted_variants / num_variants * 100:.2f}%\"\n",
    "    print(\n",
    "        f\"Percentage of accepted {variant_norm_type.value} Variants: {percentage_accepted_variants}\"\n",
    "    )\n",
    "\n",
    "    # Get not accepted counts\n",
    "    num_not_accepted_variants = len(df) - num_accepted_variants\n",
    "    fraction_not_accepted_variants = f\"{num_not_accepted_variants} / {num_variants}\"\n",
    "    print(\n",
    "        f\"\\nNumber of not accepted {variant_norm_type.value} Variants: {fraction_not_accepted_variants}\"\n",
    "    )\n",
    "\n",
    "    # Get not accepted percentage\n",
    "    percentage_not_accepted_variants = (\n",
    "        f\"{num_not_accepted_variants / num_variants * 100:.2f}%\"\n",
    "    )\n",
    "    print(\n",
    "        f\"Percentage of not accepted {variant_norm_type.value} Variants: {percentage_not_accepted_variants}\"\n",
    "    )\n",
    "\n",
    "    variant_analysis_summary[\"Count of CIViC Variant Items per Category\"].append(\n",
    "        num_variants\n",
    "    )\n",
    "    variant_analysis_summary[\"Fraction of all CIViC Variant Items\"].append(\n",
    "        fraction_variants\n",
    "    )\n",
    "    variant_analysis_summary[\"Percentage of all CIViC Variant Items\"].append(\n",
    "        percentage_variants\n",
    "    )\n",
    "    variant_analysis_summary[\"Fraction of Accepted Variant Items\"].append(\n",
    "        fraction_accepted_variants\n",
    "    )\n",
    "    variant_analysis_summary[\"Percentage of Accepted Variant Items\"].append(\n",
    "        percentage_accepted_variants\n",
    "    )\n",
    "    variant_analysis_summary[\"Fraction of Not Accepted Variant Items\"].append(\n",
    "        fraction_not_accepted_variants\n",
    "    )\n",
    "    variant_analysis_summary[\"Percentage of Not Accepted Variant Items\"].append(\n",
    "        percentage_not_accepted_variants\n",
    "    )\n",
    "\n",
    "    return df"
   ]
  },
  {
   "cell_type": "code",
   "execution_count": 14,
   "metadata": {},
   "outputs": [],
   "source": [
    "def transform_df_evidence_ids(df: pd.DataFrame) -> pd.DataFrame:\n",
    "    \"\"\"Transform dataframe to include evidence ID information\n",
    "\n",
    "    :param df: Dataframe of variants\n",
    "    :return: Transformed dataframe with evidence ID information\n",
    "    \"\"\"\n",
    "    tmp_df = df.copy(deep=True)\n",
    "\n",
    "    _variants_evidence_ids = []\n",
    "    variant_ids = list(tmp_df[\"variant_id\"])\n",
    "\n",
    "    for v_id in variant_ids:\n",
    "        _variant_evidence_ids = []\n",
    "\n",
    "        for variant in civic_variant_ids:\n",
    "            if int(v_id) == variant.id:\n",
    "                for mp in variant.molecular_profiles:\n",
    "                    for e in mp.evidence_items:\n",
    "                        if e.id not in _variant_evidence_ids:\n",
    "                            _variant_evidence_ids.append(e.id)\n",
    "\n",
    "        _variants_evidence_ids.append(_variant_evidence_ids or \"\")\n",
    "\n",
    "    tmp_df[\"evidence_ids\"] = _variants_evidence_ids\n",
    "\n",
    "    # Explode and rename evidence ids field\n",
    "    tmp_df = tmp_df.explode(column=\"evidence_ids\")\n",
    "    tmp_df = tmp_df.rename(columns={\"evidence_ids\": \"evidence_id\"})\n",
    "\n",
    "    return tmp_df"
   ]
  },
  {
   "cell_type": "code",
   "execution_count": 15,
   "metadata": {},
   "outputs": [],
   "source": [
    "def transform_df_evidence(df: pd.DataFrame) -> pd.DataFrame:\n",
    "    \"\"\"Transform dataframe to include evidence status, rating, and level\n",
    "\n",
    "    :param df: Dataframe of variants\n",
    "    :return: Transformed dataframe with evidence status, rating, and level information.\n",
    "        Rejected evidence items will be dropped.\n",
    "    \"\"\"\n",
    "    variants_evidence_ids = list(df[\"evidence_id\"])\n",
    "\n",
    "    # Add evidence status, rating, and level information\n",
    "    _variants_evidence_statuses = []\n",
    "    _variants_evidence_ratings = []\n",
    "    _variants_evidence_levels = []\n",
    "\n",
    "    for eid in variants_evidence_ids:\n",
    "        _variant_evidence_statuses = []\n",
    "        _variant_evidence_ratings = []\n",
    "        _variant_evidence_levels = []\n",
    "\n",
    "        for evidence in civic_evidence_ids:\n",
    "            if eid and (int(eid) == evidence.id):\n",
    "                if evidence.status not in _variant_evidence_statuses:\n",
    "                    _variant_evidence_statuses.append(evidence.status)\n",
    "\n",
    "                if evidence.rating not in _variant_evidence_ratings:\n",
    "                    _variant_evidence_ratings.append(evidence.rating)\n",
    "\n",
    "                if evidence.evidence_level not in _variant_evidence_levels:\n",
    "                    _variant_evidence_levels.append(evidence.evidence_level)\n",
    "\n",
    "        _variants_evidence_statuses.append(_variant_evidence_statuses or \"\")\n",
    "        _variants_evidence_ratings.append(_variant_evidence_ratings or \"\")\n",
    "        _variants_evidence_levels.append(_variant_evidence_levels or \"\")\n",
    "\n",
    "    df[\"evidence_status\"] = _variants_evidence_statuses\n",
    "    df[\"evidence_status\"] = df[\"evidence_status\"].str.join(\", \")\n",
    "    df[\"evidence_rating\"] = _variants_evidence_ratings\n",
    "    df[\"evidence_level\"] = _variants_evidence_levels\n",
    "\n",
    "    # Drop rejected evidence items\n",
    "    df = df.drop(df[df.evidence_status == \"rejected\"].index)\n",
    "\n",
    "    return df"
   ]
  },
  {
   "cell_type": "code",
   "execution_count": 16,
   "metadata": {},
   "outputs": [],
   "source": [
    "def evidence_analysis1( #for Not Supported Variant analysis since it has sub categories and \n",
    "                        #evidence item duplicates should be dropped within the sub categories, \n",
    "                        # not accross all Not Supported Variant evidence items\n",
    "    df: pd.DataFrame, variant_norm_type: VariantNormType\n",
    ") -> pd.DataFrame:\n",
    "    \"\"\"Do evidence analysis (counts, percentages)\n",
    "\n",
    "    :param df: Dataframe of variants\n",
    "    :param variant_norm_type: The kind of variants that are in `df`\n",
    "    :return: Transformed dataframe with evidence ID duplicates dropped\n",
    "    \"\"\"\n",
    "    # Count\n",
    "    num_variant_unique_evidence_items = len(set(df.evidence_id))\n",
    "    fraction_evidence_items = (\n",
    "        f\"{num_variant_unique_evidence_items} / {total_ac_sub_evidence}\"\n",
    "    )\n",
    "    print(\n",
    "        f\"Number of {variant_norm_type.value} Variant Evidence items in CIViC: {fraction_evidence_items}\"\n",
    "    )\n",
    "\n",
    "    # Percentage\n",
    "    percentage_evidence_items = (\n",
    "        f\"{num_variant_unique_evidence_items / total_ac_sub_evidence * 100:.2f}%\"\n",
    "    )\n",
    "    print(\n",
    "        f\"Percentage of {variant_norm_type.value} Variant Evidence items in CIViC: {percentage_evidence_items}\"\n",
    "    )\n",
    "\n",
    "    # Add evidence accepted column\n",
    "    df[\"evidence_accepted\"] = df.evidence_status.map(\n",
    "        {\"accepted\": True, \"submitted\": False}\n",
    "    )\n",
    "\n",
    "    # Drop evidence id duplicates\n",
    "    df = df.drop_duplicates(subset=[\"evidence_id\", \"category\"])\n",
    "\n",
    "    # Get accepted counts\n",
    "    num_accepted_evidences_variants = df.evidence_accepted.sum()\n",
    "    fraction_accepted_evidences_variants = (\n",
    "        f\"{num_accepted_evidences_variants} / {num_variant_unique_evidence_items}\"\n",
    "    )\n",
    "    print(\n",
    "        f\"\\nNumber of accepted {variant_norm_type.value} Variant Evidence items: {fraction_accepted_evidences_variants}\"\n",
    "    )\n",
    "\n",
    "    # Get accepted percentage\n",
    "    percentage_accepted_evidences_variants = f\"{num_accepted_evidences_variants / num_variant_unique_evidence_items * 100:.2f}%\"\n",
    "    print(\n",
    "        f\"Percentage of accepted {variant_norm_type.value} Variant Evidence items: {percentage_accepted_evidences_variants}\"\n",
    "    )\n",
    "\n",
    "    # Get submitted counts\n",
    "    number_submitted_evidences_variants = len(df) - num_accepted_evidences_variants\n",
    "    fraction_submitted_evidences_variants = (\n",
    "        f\"{number_submitted_evidences_variants} / {num_variant_unique_evidence_items}\"\n",
    "    )\n",
    "    print(\n",
    "        f\"\\nNumber of submitted {variant_norm_type.value} Variant Evidence items: {fraction_submitted_evidences_variants}\"\n",
    "    )\n",
    "\n",
    "    # Get submitted percentage\n",
    "    percentage_submitted_evidences_variants = f\"{number_submitted_evidences_variants / num_variant_unique_evidence_items * 100:.2f}%\"\n",
    "    print(\n",
    "        f\"Percentage of not submitted {variant_norm_type.value} Variant Evidence items: {percentage_submitted_evidences_variants}\"\n",
    "    )\n",
    "\n",
    "    evidence_analysis_summary[\"Count of CIViC Evidence Items per Category\"].append(\n",
    "        num_variant_unique_evidence_items\n",
    "    )\n",
    "    evidence_analysis_summary[\"Fraction of all CIViC Evidence Items\"].append(\n",
    "        fraction_evidence_items\n",
    "    )\n",
    "    evidence_analysis_summary[\"Percentage of all CIViC Evidence Items\"].append(\n",
    "        percentage_evidence_items\n",
    "    )\n",
    "    evidence_analysis_summary[\"Fraction of Accepted Evidence Items\"].append(\n",
    "        fraction_accepted_evidences_variants\n",
    "    )\n",
    "    evidence_analysis_summary[\"Percentage of Accepted Evidence Items\"].append(\n",
    "        percentage_accepted_evidences_variants\n",
    "    )\n",
    "    evidence_analysis_summary[\"Fraction of Submitted Evidence Items\"].append(\n",
    "        fraction_submitted_evidences_variants\n",
    "    )\n",
    "    evidence_analysis_summary[\"Percentage of Submitted Evidence Items\"].append(\n",
    "        percentage_submitted_evidences_variants\n",
    "    )\n",
    "\n",
    "    return df"
   ]
  },
  {
   "cell_type": "code",
   "execution_count": 17,
   "metadata": {},
   "outputs": [],
   "source": [
    "def evidence_analysis2(\n",
    "    df: pd.DataFrame, variant_norm_type: VariantNormType\n",
    ") -> pd.DataFrame:\n",
    "    \"\"\"Do evidence analysis (counts, percentages)\n",
    "\n",
    "    :param df: Dataframe of variants\n",
    "    :param variant_norm_type: The kind of variants that are in `df`\n",
    "    :return: Transformed dataframe with evidence ID duplicates dropped\n",
    "    \"\"\"\n",
    "    # Count\n",
    "    num_variant_unique_evidence_items = len(set(df.evidence_id))\n",
    "    fraction_evidence_items = (\n",
    "        f\"{num_variant_unique_evidence_items} / {total_ac_sub_evidence}\"\n",
    "    )\n",
    "    print(\n",
    "        f\"Number of {variant_norm_type.value} Variant Evidence items in CIViC: {fraction_evidence_items}\"\n",
    "    )\n",
    "\n",
    "    # Percentage\n",
    "    percentage_evidence_items = (\n",
    "        f\"{num_variant_unique_evidence_items / total_ac_sub_evidence * 100:.2f}%\"\n",
    "    )\n",
    "    print(\n",
    "        f\"Percentage of {variant_norm_type.value} Variant Evidence items in CIViC: {percentage_evidence_items}\"\n",
    "    )\n",
    "\n",
    "    # Add evidence accepted column\n",
    "    df[\"evidence_accepted\"] = df.evidence_status.map(\n",
    "        {\"accepted\": True, \"submitted\": False}\n",
    "    )\n",
    "\n",
    "    # Drop evidence id duplicates\n",
    "    df = df.drop_duplicates(subset=[\"evidence_id\"])\n",
    "\n",
    "    # Get accepted counts\n",
    "    num_accepted_evidences_variants = df.evidence_accepted.sum()\n",
    "    fraction_accepted_evidences_variants = (\n",
    "        f\"{num_accepted_evidences_variants} / {num_variant_unique_evidence_items}\"\n",
    "    )\n",
    "    print(\n",
    "        f\"\\nNumber of accepted {variant_norm_type.value} Variant Evidence items: {fraction_accepted_evidences_variants}\"\n",
    "    )\n",
    "\n",
    "    # Get accepted percentage\n",
    "    percentage_accepted_evidences_variants = f\"{num_accepted_evidences_variants / num_variant_unique_evidence_items * 100:.2f}%\"\n",
    "    print(\n",
    "        f\"Percentage of accepted {variant_norm_type.value} Variant Evidence items: {percentage_accepted_evidences_variants}\"\n",
    "    )\n",
    "\n",
    "    # Get submitted counts\n",
    "    number_submitted_evidences_variants = len(df) - num_accepted_evidences_variants\n",
    "    fraction_submitted_evidences_variants = (\n",
    "        f\"{number_submitted_evidences_variants} / {num_variant_unique_evidence_items}\"\n",
    "    )\n",
    "    print(\n",
    "        f\"\\nNumber of submitted {variant_norm_type.value} Variant Evidence items: {fraction_submitted_evidences_variants}\"\n",
    "    )\n",
    "\n",
    "    # Get submitted percentage\n",
    "    percentage_submitted_evidences_variants = f\"{number_submitted_evidences_variants / num_variant_unique_evidence_items * 100:.2f}%\"\n",
    "    print(\n",
    "        f\"Percentage of not submitted {variant_norm_type.value} Variant Evidence items: {percentage_submitted_evidences_variants}\"\n",
    "    )\n",
    "\n",
    "    evidence_analysis_summary[\"Count of CIViC Evidence Items per Category\"].append(\n",
    "        num_variant_unique_evidence_items\n",
    "    )\n",
    "    evidence_analysis_summary[\"Fraction of all CIViC Evidence Items\"].append(\n",
    "        fraction_evidence_items\n",
    "    )\n",
    "    evidence_analysis_summary[\"Percentage of all CIViC Evidence Items\"].append(\n",
    "        percentage_evidence_items\n",
    "    )\n",
    "    evidence_analysis_summary[\"Fraction of Accepted Evidence Items\"].append(\n",
    "        fraction_accepted_evidences_variants\n",
    "    )\n",
    "    evidence_analysis_summary[\"Percentage of Accepted Evidence Items\"].append(\n",
    "        percentage_accepted_evidences_variants\n",
    "    )\n",
    "    evidence_analysis_summary[\"Fraction of Submitted Evidence Items\"].append(\n",
    "        fraction_submitted_evidences_variants\n",
    "    )\n",
    "    evidence_analysis_summary[\"Percentage of Submitted Evidence Items\"].append(\n",
    "        percentage_submitted_evidences_variants\n",
    "    )\n",
    "\n",
    "    return df"
   ]
  },
  {
   "cell_type": "code",
   "execution_count": 18,
   "metadata": {},
   "outputs": [],
   "source": [
    "def transform_df_mp_id(df: pd.DataFrame) -> pd.DataFrame:\n",
    "    \"\"\"Transform dataframe to include molecular profile ID information\n",
    "\n",
    "    :param df: Dataframe of variants\n",
    "    :return: Transformed dataframe with molecular profile ID information\n",
    "    \"\"\"\n",
    "    tmp_df = df.copy(deep=True)\n",
    "\n",
    "    variants_molprof_ids = []\n",
    "    variant_ids = list(tmp_df[\"variant_id\"])\n",
    "\n",
    "    for v_id in variant_ids:\n",
    "        variant_molprof_ids = []\n",
    "\n",
    "        for variant in civic_variant_ids:\n",
    "            if int(v_id) == variant.id:\n",
    "                for mp in variant.molecular_profiles:\n",
    "                    if mp.id not in variant_molprof_ids:\n",
    "                        variant_molprof_ids.append(mp.id)\n",
    "\n",
    "        variants_molprof_ids.append(variant_molprof_ids or \"\")\n",
    "\n",
    "    tmp_df[\"molecular_profile_id\"] = variants_molprof_ids\n",
    "    return tmp_df"
   ]
  },
  {
   "cell_type": "code",
   "execution_count": 19,
   "metadata": {},
   "outputs": [],
   "source": [
    "def transform_df_mp_score(df: pd.DataFrame) -> pd.DataFrame:\n",
    "    \"\"\"Transform dataframe to include molecular profile score information\n",
    "\n",
    "    :param df: Dataframe of variants\n",
    "    :return: Transformed dataframe with molecular profile score information\n",
    "    \"\"\"\n",
    "    variants_molprof_scores = []\n",
    "    normalized_variant_molprof_ids = list(df[\"molecular_profile_id\"])\n",
    "\n",
    "    for mp_ids in normalized_variant_molprof_ids:\n",
    "        variant_molprof_scores = []\n",
    "        for mp_id in mp_ids:\n",
    "            for molprof in civic_molprof_ids:\n",
    "                if int(mp_id) == molprof.id:\n",
    "                    if molprof.molecular_profile_score not in variant_molprof_scores:\n",
    "                        variant_molprof_scores.append(molprof.molecular_profile_score)\n",
    "\n",
    "        variants_molprof_scores.append(variant_molprof_scores or \"\")\n",
    "\n",
    "    df[\"molecular_profile_score\"] = variants_molprof_scores\n",
    "    return df"
   ]
  },
  {
   "cell_type": "code",
   "execution_count": 20,
   "metadata": {},
   "outputs": [],
   "source": [
    "def transform_df_mp_score_sum(df: pd.DataFrame) -> pd.DataFrame:\n",
    "    \"\"\"Transform dataframe to include molecular profile score sum information\n",
    "\n",
    "    :param df: Dataframe of variants\n",
    "    :return: Transformed dataframe with molecular profile score sum information\n",
    "    \"\"\"\n",
    "    df[\"molecular_profile_score_sum\"] = df[\"molecular_profile_score\"].apply(\n",
    "        lambda x: sum(x)\n",
    "    )\n",
    "    return df"
   ]
  },
  {
   "cell_type": "markdown",
   "metadata": {},
   "source": [
    "# <a id='toc3_'></a>[Analysis of Normalized Queries](#toc0_)"
   ]
  },
  {
   "cell_type": "markdown",
   "metadata": {},
   "source": [
    "## <a id='toc3_1_'></a>[List of Normalized Variants ID's](#toc0_)"
   ]
  },
  {
   "cell_type": "code",
   "execution_count": 21,
   "metadata": {},
   "outputs": [
    {
     "data": {
      "text/html": [
       "<div>\n",
       "<style scoped>\n",
       "    .dataframe tbody tr th:only-of-type {\n",
       "        vertical-align: middle;\n",
       "    }\n",
       "\n",
       "    .dataframe tbody tr th {\n",
       "        vertical-align: top;\n",
       "    }\n",
       "\n",
       "    .dataframe thead th {\n",
       "        text-align: right;\n",
       "    }\n",
       "</style>\n",
       "<table border=\"1\" class=\"dataframe\">\n",
       "  <thead>\n",
       "    <tr style=\"text-align: right;\">\n",
       "      <th></th>\n",
       "      <th>variant_id</th>\n",
       "      <th>query</th>\n",
       "      <th>query_type</th>\n",
       "      <th>variant_accepted</th>\n",
       "      <th>civic_variant_types</th>\n",
       "      <th>vrs_id</th>\n",
       "      <th>succeeded_endpoint</th>\n",
       "    </tr>\n",
       "  </thead>\n",
       "  <tbody>\n",
       "    <tr>\n",
       "      <th>0</th>\n",
       "      <td>2489</td>\n",
       "      <td>NC_000003.11:g.10191648_10191649insC</td>\n",
       "      <td>genomic</td>\n",
       "      <td>True</td>\n",
       "      <td>Stop Lost</td>\n",
       "      <td>ga4gh:VA.A34ZoIhq4xBuQbcE3bkj29n6diS6RzLB</td>\n",
       "      <td>normalize</td>\n",
       "    </tr>\n",
       "    <tr>\n",
       "      <th>1</th>\n",
       "      <td>1988</td>\n",
       "      <td>NC_000003.11:g.10191649A&gt;T</td>\n",
       "      <td>genomic</td>\n",
       "      <td>True</td>\n",
       "      <td>Stop Lost</td>\n",
       "      <td>ga4gh:VA.JcEpDvhUtgDWU4A-bxqLUuczBNb8QqRf</td>\n",
       "      <td>normalize</td>\n",
       "    </tr>\n",
       "    <tr>\n",
       "      <th>2</th>\n",
       "      <td>2488</td>\n",
       "      <td>3-10191647-T-G</td>\n",
       "      <td>genomic</td>\n",
       "      <td>True</td>\n",
       "      <td>Stop Lost</td>\n",
       "      <td>ga4gh:VA.7nGd8dgHbqtxMHk_rLxrB6_IMAzJ8XnH</td>\n",
       "      <td>normalize</td>\n",
       "    </tr>\n",
       "    <tr>\n",
       "      <th>3</th>\n",
       "      <td>1986</td>\n",
       "      <td>NC_000003.11:g.10191648G&gt;T</td>\n",
       "      <td>genomic</td>\n",
       "      <td>True</td>\n",
       "      <td>Stop Lost</td>\n",
       "      <td>ga4gh:VA.AmLtooLEvgdnEHD5YVWk6u1e2XBe7FiP</td>\n",
       "      <td>normalize</td>\n",
       "    </tr>\n",
       "    <tr>\n",
       "      <th>4</th>\n",
       "      <td>1987</td>\n",
       "      <td>NC_000003.11:g.10191649A&gt;G</td>\n",
       "      <td>genomic</td>\n",
       "      <td>True</td>\n",
       "      <td>Stop Lost</td>\n",
       "      <td>ga4gh:VA.KIz00usFWEmJHNyqmVL61obfgfRPgOIa</td>\n",
       "      <td>normalize</td>\n",
       "    </tr>\n",
       "  </tbody>\n",
       "</table>\n",
       "</div>"
      ],
      "text/plain": [
       "   variant_id                                 query query_type  \\\n",
       "0        2489  NC_000003.11:g.10191648_10191649insC    genomic   \n",
       "1        1988            NC_000003.11:g.10191649A>T    genomic   \n",
       "2        2488                        3-10191647-T-G    genomic   \n",
       "3        1986            NC_000003.11:g.10191648G>T    genomic   \n",
       "4        1987            NC_000003.11:g.10191649A>G    genomic   \n",
       "\n",
       "   variant_accepted civic_variant_types  \\\n",
       "0              True           Stop Lost   \n",
       "1              True           Stop Lost   \n",
       "2              True           Stop Lost   \n",
       "3              True           Stop Lost   \n",
       "4              True           Stop Lost   \n",
       "\n",
       "                                      vrs_id succeeded_endpoint  \n",
       "0  ga4gh:VA.A34ZoIhq4xBuQbcE3bkj29n6diS6RzLB          normalize  \n",
       "1  ga4gh:VA.JcEpDvhUtgDWU4A-bxqLUuczBNb8QqRf          normalize  \n",
       "2  ga4gh:VA.7nGd8dgHbqtxMHk_rLxrB6_IMAzJ8XnH          normalize  \n",
       "3  ga4gh:VA.AmLtooLEvgdnEHD5YVWk6u1e2XBe7FiP          normalize  \n",
       "4  ga4gh:VA.KIz00usFWEmJHNyqmVL61obfgfRPgOIa          normalize  "
      ]
     },
     "execution_count": 21,
     "metadata": {},
     "output_type": "execute_result"
    }
   ],
   "source": [
    "normalized_queries_df = pd.read_csv(\"../variation_analysis/able_to_normalize_queries.csv\", sep=\"\\t\")\n",
    "normalized_queries_df.head()"
   ]
  },
  {
   "cell_type": "markdown",
   "metadata": {},
   "source": [
    "## <a id='toc3_2_'></a>[Variant analysis](#toc0_)"
   ]
  },
  {
   "cell_type": "code",
   "execution_count": 22,
   "metadata": {},
   "outputs": [
    {
     "name": "stdout",
     "output_type": "stream",
     "text": [
      "\n",
      "Number of Normalized Variants in CIViC: 1876 / 3519\n",
      "Percentage of Normalized Variants in CIViC: 53.31%\n",
      "\n",
      "Number of accepted Normalized Variants: 869 / 1876\n",
      "Percentage of accepted Normalized Variants: 46.32%\n",
      "\n",
      "Number of not accepted Normalized Variants: 1007 / 1876\n",
      "Percentage of not accepted Normalized Variants: 53.68%\n"
     ]
    },
    {
     "data": {
      "text/html": [
       "<div>\n",
       "<style scoped>\n",
       "    .dataframe tbody tr th:only-of-type {\n",
       "        vertical-align: middle;\n",
       "    }\n",
       "\n",
       "    .dataframe tbody tr th {\n",
       "        vertical-align: top;\n",
       "    }\n",
       "\n",
       "    .dataframe thead th {\n",
       "        text-align: right;\n",
       "    }\n",
       "</style>\n",
       "<table border=\"1\" class=\"dataframe\">\n",
       "  <thead>\n",
       "    <tr style=\"text-align: right;\">\n",
       "      <th></th>\n",
       "      <th>variant_id</th>\n",
       "      <th>query</th>\n",
       "      <th>query_type</th>\n",
       "      <th>variant_accepted</th>\n",
       "      <th>civic_variant_types</th>\n",
       "      <th>vrs_id</th>\n",
       "      <th>succeeded_endpoint</th>\n",
       "    </tr>\n",
       "  </thead>\n",
       "  <tbody>\n",
       "    <tr>\n",
       "      <th>0</th>\n",
       "      <td>2489</td>\n",
       "      <td>NC_000003.11:g.10191648_10191649insC</td>\n",
       "      <td>genomic</td>\n",
       "      <td>True</td>\n",
       "      <td>Stop Lost</td>\n",
       "      <td>ga4gh:VA.A34ZoIhq4xBuQbcE3bkj29n6diS6RzLB</td>\n",
       "      <td>normalize</td>\n",
       "    </tr>\n",
       "    <tr>\n",
       "      <th>1</th>\n",
       "      <td>1988</td>\n",
       "      <td>NC_000003.11:g.10191649A&gt;T</td>\n",
       "      <td>genomic</td>\n",
       "      <td>True</td>\n",
       "      <td>Stop Lost</td>\n",
       "      <td>ga4gh:VA.JcEpDvhUtgDWU4A-bxqLUuczBNb8QqRf</td>\n",
       "      <td>normalize</td>\n",
       "    </tr>\n",
       "    <tr>\n",
       "      <th>2</th>\n",
       "      <td>2488</td>\n",
       "      <td>3-10191647-T-G</td>\n",
       "      <td>genomic</td>\n",
       "      <td>True</td>\n",
       "      <td>Stop Lost</td>\n",
       "      <td>ga4gh:VA.7nGd8dgHbqtxMHk_rLxrB6_IMAzJ8XnH</td>\n",
       "      <td>normalize</td>\n",
       "    </tr>\n",
       "    <tr>\n",
       "      <th>3</th>\n",
       "      <td>1986</td>\n",
       "      <td>NC_000003.11:g.10191648G&gt;T</td>\n",
       "      <td>genomic</td>\n",
       "      <td>True</td>\n",
       "      <td>Stop Lost</td>\n",
       "      <td>ga4gh:VA.AmLtooLEvgdnEHD5YVWk6u1e2XBe7FiP</td>\n",
       "      <td>normalize</td>\n",
       "    </tr>\n",
       "    <tr>\n",
       "      <th>4</th>\n",
       "      <td>1987</td>\n",
       "      <td>NC_000003.11:g.10191649A&gt;G</td>\n",
       "      <td>genomic</td>\n",
       "      <td>True</td>\n",
       "      <td>Stop Lost</td>\n",
       "      <td>ga4gh:VA.KIz00usFWEmJHNyqmVL61obfgfRPgOIa</td>\n",
       "      <td>normalize</td>\n",
       "    </tr>\n",
       "  </tbody>\n",
       "</table>\n",
       "</div>"
      ],
      "text/plain": [
       "   variant_id                                 query query_type  \\\n",
       "0        2489  NC_000003.11:g.10191648_10191649insC    genomic   \n",
       "1        1988            NC_000003.11:g.10191649A>T    genomic   \n",
       "2        2488                        3-10191647-T-G    genomic   \n",
       "3        1986            NC_000003.11:g.10191648G>T    genomic   \n",
       "4        1987            NC_000003.11:g.10191649A>G    genomic   \n",
       "\n",
       "   variant_accepted civic_variant_types  \\\n",
       "0              True           Stop Lost   \n",
       "1              True           Stop Lost   \n",
       "2              True           Stop Lost   \n",
       "3              True           Stop Lost   \n",
       "4              True           Stop Lost   \n",
       "\n",
       "                                      vrs_id succeeded_endpoint  \n",
       "0  ga4gh:VA.A34ZoIhq4xBuQbcE3bkj29n6diS6RzLB          normalize  \n",
       "1  ga4gh:VA.JcEpDvhUtgDWU4A-bxqLUuczBNb8QqRf          normalize  \n",
       "2  ga4gh:VA.7nGd8dgHbqtxMHk_rLxrB6_IMAzJ8XnH          normalize  \n",
       "3  ga4gh:VA.AmLtooLEvgdnEHD5YVWk6u1e2XBe7FiP          normalize  \n",
       "4  ga4gh:VA.KIz00usFWEmJHNyqmVL61obfgfRPgOIa          normalize  "
      ]
     },
     "execution_count": 22,
     "metadata": {},
     "output_type": "execute_result"
    }
   ],
   "source": [
    "normalized_queries_df = variant_analysis(\n",
    "    normalized_queries_df, VariantNormType.NORMALIZED\n",
    ")\n",
    "normalized_queries_df.head()"
   ]
  },
  {
   "cell_type": "code",
   "execution_count": 23,
   "metadata": {},
   "outputs": [
    {
     "data": {
      "text/plain": [
       "{'Variant Category': ['Normalized', 'Unable to Normalize', 'Not Supported'],\n",
       " 'Count of CIViC Variant Items per Category': [1876],\n",
       " 'Fraction of all CIViC Variant Items': ['1876 / 3519'],\n",
       " 'Percentage of all CIViC Variant Items': ['53.31%'],\n",
       " 'Fraction of Accepted Variant Items': ['869 / 1876'],\n",
       " 'Percentage of Accepted Variant Items': ['46.32%'],\n",
       " 'Fraction of Not Accepted Variant Items': ['1007 / 1876'],\n",
       " 'Percentage of Not Accepted Variant Items': ['53.68%']}"
      ]
     },
     "execution_count": 23,
     "metadata": {},
     "output_type": "execute_result"
    }
   ],
   "source": [
    "variant_analysis_summary"
   ]
  },
  {
   "cell_type": "markdown",
   "metadata": {},
   "source": [
    "## <a id='toc3_3_'></a>[Transform df for evidence analysis](#toc0_)"
   ]
  },
  {
   "cell_type": "code",
   "execution_count": 24,
   "metadata": {},
   "outputs": [
    {
     "data": {
      "text/html": [
       "<div>\n",
       "<style scoped>\n",
       "    .dataframe tbody tr th:only-of-type {\n",
       "        vertical-align: middle;\n",
       "    }\n",
       "\n",
       "    .dataframe tbody tr th {\n",
       "        vertical-align: top;\n",
       "    }\n",
       "\n",
       "    .dataframe thead th {\n",
       "        text-align: right;\n",
       "    }\n",
       "</style>\n",
       "<table border=\"1\" class=\"dataframe\">\n",
       "  <thead>\n",
       "    <tr style=\"text-align: right;\">\n",
       "      <th></th>\n",
       "      <th>variant_id</th>\n",
       "      <th>query</th>\n",
       "      <th>query_type</th>\n",
       "      <th>variant_accepted</th>\n",
       "      <th>civic_variant_types</th>\n",
       "      <th>vrs_id</th>\n",
       "      <th>succeeded_endpoint</th>\n",
       "      <th>evidence_id</th>\n",
       "    </tr>\n",
       "  </thead>\n",
       "  <tbody>\n",
       "    <tr>\n",
       "      <th>0</th>\n",
       "      <td>2489</td>\n",
       "      <td>NC_000003.11:g.10191648_10191649insC</td>\n",
       "      <td>genomic</td>\n",
       "      <td>True</td>\n",
       "      <td>Stop Lost</td>\n",
       "      <td>ga4gh:VA.A34ZoIhq4xBuQbcE3bkj29n6diS6RzLB</td>\n",
       "      <td>normalize</td>\n",
       "      <td>9347</td>\n",
       "    </tr>\n",
       "    <tr>\n",
       "      <th>0</th>\n",
       "      <td>2489</td>\n",
       "      <td>NC_000003.11:g.10191648_10191649insC</td>\n",
       "      <td>genomic</td>\n",
       "      <td>True</td>\n",
       "      <td>Stop Lost</td>\n",
       "      <td>ga4gh:VA.A34ZoIhq4xBuQbcE3bkj29n6diS6RzLB</td>\n",
       "      <td>normalize</td>\n",
       "      <td>6724</td>\n",
       "    </tr>\n",
       "    <tr>\n",
       "      <th>1</th>\n",
       "      <td>1988</td>\n",
       "      <td>NC_000003.11:g.10191649A&gt;T</td>\n",
       "      <td>genomic</td>\n",
       "      <td>True</td>\n",
       "      <td>Stop Lost</td>\n",
       "      <td>ga4gh:VA.JcEpDvhUtgDWU4A-bxqLUuczBNb8QqRf</td>\n",
       "      <td>normalize</td>\n",
       "      <td>5336</td>\n",
       "    </tr>\n",
       "    <tr>\n",
       "      <th>2</th>\n",
       "      <td>2488</td>\n",
       "      <td>3-10191647-T-G</td>\n",
       "      <td>genomic</td>\n",
       "      <td>True</td>\n",
       "      <td>Stop Lost</td>\n",
       "      <td>ga4gh:VA.7nGd8dgHbqtxMHk_rLxrB6_IMAzJ8XnH</td>\n",
       "      <td>normalize</td>\n",
       "      <td>10779</td>\n",
       "    </tr>\n",
       "    <tr>\n",
       "      <th>2</th>\n",
       "      <td>2488</td>\n",
       "      <td>3-10191647-T-G</td>\n",
       "      <td>genomic</td>\n",
       "      <td>True</td>\n",
       "      <td>Stop Lost</td>\n",
       "      <td>ga4gh:VA.7nGd8dgHbqtxMHk_rLxrB6_IMAzJ8XnH</td>\n",
       "      <td>normalize</td>\n",
       "      <td>6723</td>\n",
       "    </tr>\n",
       "  </tbody>\n",
       "</table>\n",
       "</div>"
      ],
      "text/plain": [
       "   variant_id                                 query query_type  \\\n",
       "0        2489  NC_000003.11:g.10191648_10191649insC    genomic   \n",
       "0        2489  NC_000003.11:g.10191648_10191649insC    genomic   \n",
       "1        1988            NC_000003.11:g.10191649A>T    genomic   \n",
       "2        2488                        3-10191647-T-G    genomic   \n",
       "2        2488                        3-10191647-T-G    genomic   \n",
       "\n",
       "   variant_accepted civic_variant_types  \\\n",
       "0              True           Stop Lost   \n",
       "0              True           Stop Lost   \n",
       "1              True           Stop Lost   \n",
       "2              True           Stop Lost   \n",
       "2              True           Stop Lost   \n",
       "\n",
       "                                      vrs_id succeeded_endpoint evidence_id  \n",
       "0  ga4gh:VA.A34ZoIhq4xBuQbcE3bkj29n6diS6RzLB          normalize        9347  \n",
       "0  ga4gh:VA.A34ZoIhq4xBuQbcE3bkj29n6diS6RzLB          normalize        6724  \n",
       "1  ga4gh:VA.JcEpDvhUtgDWU4A-bxqLUuczBNb8QqRf          normalize        5336  \n",
       "2  ga4gh:VA.7nGd8dgHbqtxMHk_rLxrB6_IMAzJ8XnH          normalize       10779  \n",
       "2  ga4gh:VA.7nGd8dgHbqtxMHk_rLxrB6_IMAzJ8XnH          normalize        6723  "
      ]
     },
     "execution_count": 24,
     "metadata": {},
     "output_type": "execute_result"
    }
   ],
   "source": [
    "normalized_queries_add_evidence_df = transform_df_evidence_ids(normalized_queries_df)\n",
    "normalized_queries_add_evidence_df.head()"
   ]
  },
  {
   "cell_type": "code",
   "execution_count": 25,
   "metadata": {},
   "outputs": [
    {
     "data": {
      "text/html": [
       "<div>\n",
       "<style scoped>\n",
       "    .dataframe tbody tr th:only-of-type {\n",
       "        vertical-align: middle;\n",
       "    }\n",
       "\n",
       "    .dataframe tbody tr th {\n",
       "        vertical-align: top;\n",
       "    }\n",
       "\n",
       "    .dataframe thead th {\n",
       "        text-align: right;\n",
       "    }\n",
       "</style>\n",
       "<table border=\"1\" class=\"dataframe\">\n",
       "  <thead>\n",
       "    <tr style=\"text-align: right;\">\n",
       "      <th></th>\n",
       "      <th>variant_id</th>\n",
       "      <th>query</th>\n",
       "      <th>query_type</th>\n",
       "      <th>variant_accepted</th>\n",
       "      <th>civic_variant_types</th>\n",
       "      <th>vrs_id</th>\n",
       "      <th>succeeded_endpoint</th>\n",
       "      <th>evidence_id</th>\n",
       "      <th>evidence_status</th>\n",
       "      <th>evidence_rating</th>\n",
       "      <th>evidence_level</th>\n",
       "    </tr>\n",
       "  </thead>\n",
       "  <tbody>\n",
       "    <tr>\n",
       "      <th>0</th>\n",
       "      <td>2489</td>\n",
       "      <td>NC_000003.11:g.10191648_10191649insC</td>\n",
       "      <td>genomic</td>\n",
       "      <td>True</td>\n",
       "      <td>Stop Lost</td>\n",
       "      <td>ga4gh:VA.A34ZoIhq4xBuQbcE3bkj29n6diS6RzLB</td>\n",
       "      <td>normalize</td>\n",
       "      <td>9347</td>\n",
       "      <td>submitted</td>\n",
       "      <td>[3]</td>\n",
       "      <td>[C]</td>\n",
       "    </tr>\n",
       "    <tr>\n",
       "      <th>0</th>\n",
       "      <td>2489</td>\n",
       "      <td>NC_000003.11:g.10191648_10191649insC</td>\n",
       "      <td>genomic</td>\n",
       "      <td>True</td>\n",
       "      <td>Stop Lost</td>\n",
       "      <td>ga4gh:VA.A34ZoIhq4xBuQbcE3bkj29n6diS6RzLB</td>\n",
       "      <td>normalize</td>\n",
       "      <td>6724</td>\n",
       "      <td>accepted</td>\n",
       "      <td>[2]</td>\n",
       "      <td>[C]</td>\n",
       "    </tr>\n",
       "    <tr>\n",
       "      <th>1</th>\n",
       "      <td>1988</td>\n",
       "      <td>NC_000003.11:g.10191649A&gt;T</td>\n",
       "      <td>genomic</td>\n",
       "      <td>True</td>\n",
       "      <td>Stop Lost</td>\n",
       "      <td>ga4gh:VA.JcEpDvhUtgDWU4A-bxqLUuczBNb8QqRf</td>\n",
       "      <td>normalize</td>\n",
       "      <td>5336</td>\n",
       "      <td>accepted</td>\n",
       "      <td>[2]</td>\n",
       "      <td>[C]</td>\n",
       "    </tr>\n",
       "    <tr>\n",
       "      <th>2</th>\n",
       "      <td>2488</td>\n",
       "      <td>3-10191647-T-G</td>\n",
       "      <td>genomic</td>\n",
       "      <td>True</td>\n",
       "      <td>Stop Lost</td>\n",
       "      <td>ga4gh:VA.7nGd8dgHbqtxMHk_rLxrB6_IMAzJ8XnH</td>\n",
       "      <td>normalize</td>\n",
       "      <td>10779</td>\n",
       "      <td>submitted</td>\n",
       "      <td>[3]</td>\n",
       "      <td>[C]</td>\n",
       "    </tr>\n",
       "    <tr>\n",
       "      <th>2</th>\n",
       "      <td>2488</td>\n",
       "      <td>3-10191647-T-G</td>\n",
       "      <td>genomic</td>\n",
       "      <td>True</td>\n",
       "      <td>Stop Lost</td>\n",
       "      <td>ga4gh:VA.7nGd8dgHbqtxMHk_rLxrB6_IMAzJ8XnH</td>\n",
       "      <td>normalize</td>\n",
       "      <td>6723</td>\n",
       "      <td>accepted</td>\n",
       "      <td>[2]</td>\n",
       "      <td>[C]</td>\n",
       "    </tr>\n",
       "  </tbody>\n",
       "</table>\n",
       "</div>"
      ],
      "text/plain": [
       "   variant_id                                 query query_type  \\\n",
       "0        2489  NC_000003.11:g.10191648_10191649insC    genomic   \n",
       "0        2489  NC_000003.11:g.10191648_10191649insC    genomic   \n",
       "1        1988            NC_000003.11:g.10191649A>T    genomic   \n",
       "2        2488                        3-10191647-T-G    genomic   \n",
       "2        2488                        3-10191647-T-G    genomic   \n",
       "\n",
       "   variant_accepted civic_variant_types  \\\n",
       "0              True           Stop Lost   \n",
       "0              True           Stop Lost   \n",
       "1              True           Stop Lost   \n",
       "2              True           Stop Lost   \n",
       "2              True           Stop Lost   \n",
       "\n",
       "                                      vrs_id succeeded_endpoint evidence_id  \\\n",
       "0  ga4gh:VA.A34ZoIhq4xBuQbcE3bkj29n6diS6RzLB          normalize        9347   \n",
       "0  ga4gh:VA.A34ZoIhq4xBuQbcE3bkj29n6diS6RzLB          normalize        6724   \n",
       "1  ga4gh:VA.JcEpDvhUtgDWU4A-bxqLUuczBNb8QqRf          normalize        5336   \n",
       "2  ga4gh:VA.7nGd8dgHbqtxMHk_rLxrB6_IMAzJ8XnH          normalize       10779   \n",
       "2  ga4gh:VA.7nGd8dgHbqtxMHk_rLxrB6_IMAzJ8XnH          normalize        6723   \n",
       "\n",
       "  evidence_status evidence_rating evidence_level  \n",
       "0       submitted             [3]            [C]  \n",
       "0        accepted             [2]            [C]  \n",
       "1        accepted             [2]            [C]  \n",
       "2       submitted             [3]            [C]  \n",
       "2        accepted             [2]            [C]  "
      ]
     },
     "execution_count": 25,
     "metadata": {},
     "output_type": "execute_result"
    }
   ],
   "source": [
    "normalized_queries_add_evidence_df = transform_df_evidence(\n",
    "    normalized_queries_add_evidence_df\n",
    ")\n",
    "normalized_queries_add_evidence_df.head()"
   ]
  },
  {
   "cell_type": "markdown",
   "metadata": {},
   "source": [
    "## <a id='toc3_4_'></a>[Evidence analysis](#toc0_)"
   ]
  },
  {
   "cell_type": "code",
   "execution_count": 26,
   "metadata": {},
   "outputs": [
    {
     "name": "stdout",
     "output_type": "stream",
     "text": [
      "Number of Normalized Variant Evidence items in CIViC: 5866 / 9920\n",
      "Percentage of Normalized Variant Evidence items in CIViC: 59.13%\n",
      "\n",
      "Number of accepted Normalized Variant Evidence items: 2080 / 5866\n",
      "Percentage of accepted Normalized Variant Evidence items: 35.46%\n",
      "\n",
      "Number of submitted Normalized Variant Evidence items: 3786 / 5866\n",
      "Percentage of not submitted Normalized Variant Evidence items: 64.54%\n"
     ]
    },
    {
     "data": {
      "text/html": [
       "<div>\n",
       "<style scoped>\n",
       "    .dataframe tbody tr th:only-of-type {\n",
       "        vertical-align: middle;\n",
       "    }\n",
       "\n",
       "    .dataframe tbody tr th {\n",
       "        vertical-align: top;\n",
       "    }\n",
       "\n",
       "    .dataframe thead th {\n",
       "        text-align: right;\n",
       "    }\n",
       "</style>\n",
       "<table border=\"1\" class=\"dataframe\">\n",
       "  <thead>\n",
       "    <tr style=\"text-align: right;\">\n",
       "      <th></th>\n",
       "      <th>variant_id</th>\n",
       "      <th>query</th>\n",
       "      <th>query_type</th>\n",
       "      <th>variant_accepted</th>\n",
       "      <th>civic_variant_types</th>\n",
       "      <th>vrs_id</th>\n",
       "      <th>succeeded_endpoint</th>\n",
       "      <th>evidence_id</th>\n",
       "      <th>evidence_status</th>\n",
       "      <th>evidence_rating</th>\n",
       "      <th>evidence_level</th>\n",
       "      <th>evidence_accepted</th>\n",
       "    </tr>\n",
       "  </thead>\n",
       "  <tbody>\n",
       "    <tr>\n",
       "      <th>0</th>\n",
       "      <td>2489</td>\n",
       "      <td>NC_000003.11:g.10191648_10191649insC</td>\n",
       "      <td>genomic</td>\n",
       "      <td>True</td>\n",
       "      <td>Stop Lost</td>\n",
       "      <td>ga4gh:VA.A34ZoIhq4xBuQbcE3bkj29n6diS6RzLB</td>\n",
       "      <td>normalize</td>\n",
       "      <td>9347</td>\n",
       "      <td>submitted</td>\n",
       "      <td>[3]</td>\n",
       "      <td>[C]</td>\n",
       "      <td>False</td>\n",
       "    </tr>\n",
       "    <tr>\n",
       "      <th>0</th>\n",
       "      <td>2489</td>\n",
       "      <td>NC_000003.11:g.10191648_10191649insC</td>\n",
       "      <td>genomic</td>\n",
       "      <td>True</td>\n",
       "      <td>Stop Lost</td>\n",
       "      <td>ga4gh:VA.A34ZoIhq4xBuQbcE3bkj29n6diS6RzLB</td>\n",
       "      <td>normalize</td>\n",
       "      <td>6724</td>\n",
       "      <td>accepted</td>\n",
       "      <td>[2]</td>\n",
       "      <td>[C]</td>\n",
       "      <td>True</td>\n",
       "    </tr>\n",
       "    <tr>\n",
       "      <th>1</th>\n",
       "      <td>1988</td>\n",
       "      <td>NC_000003.11:g.10191649A&gt;T</td>\n",
       "      <td>genomic</td>\n",
       "      <td>True</td>\n",
       "      <td>Stop Lost</td>\n",
       "      <td>ga4gh:VA.JcEpDvhUtgDWU4A-bxqLUuczBNb8QqRf</td>\n",
       "      <td>normalize</td>\n",
       "      <td>5336</td>\n",
       "      <td>accepted</td>\n",
       "      <td>[2]</td>\n",
       "      <td>[C]</td>\n",
       "      <td>True</td>\n",
       "    </tr>\n",
       "    <tr>\n",
       "      <th>2</th>\n",
       "      <td>2488</td>\n",
       "      <td>3-10191647-T-G</td>\n",
       "      <td>genomic</td>\n",
       "      <td>True</td>\n",
       "      <td>Stop Lost</td>\n",
       "      <td>ga4gh:VA.7nGd8dgHbqtxMHk_rLxrB6_IMAzJ8XnH</td>\n",
       "      <td>normalize</td>\n",
       "      <td>10779</td>\n",
       "      <td>submitted</td>\n",
       "      <td>[3]</td>\n",
       "      <td>[C]</td>\n",
       "      <td>False</td>\n",
       "    </tr>\n",
       "    <tr>\n",
       "      <th>2</th>\n",
       "      <td>2488</td>\n",
       "      <td>3-10191647-T-G</td>\n",
       "      <td>genomic</td>\n",
       "      <td>True</td>\n",
       "      <td>Stop Lost</td>\n",
       "      <td>ga4gh:VA.7nGd8dgHbqtxMHk_rLxrB6_IMAzJ8XnH</td>\n",
       "      <td>normalize</td>\n",
       "      <td>6723</td>\n",
       "      <td>accepted</td>\n",
       "      <td>[2]</td>\n",
       "      <td>[C]</td>\n",
       "      <td>True</td>\n",
       "    </tr>\n",
       "  </tbody>\n",
       "</table>\n",
       "</div>"
      ],
      "text/plain": [
       "   variant_id                                 query query_type  \\\n",
       "0        2489  NC_000003.11:g.10191648_10191649insC    genomic   \n",
       "0        2489  NC_000003.11:g.10191648_10191649insC    genomic   \n",
       "1        1988            NC_000003.11:g.10191649A>T    genomic   \n",
       "2        2488                        3-10191647-T-G    genomic   \n",
       "2        2488                        3-10191647-T-G    genomic   \n",
       "\n",
       "   variant_accepted civic_variant_types  \\\n",
       "0              True           Stop Lost   \n",
       "0              True           Stop Lost   \n",
       "1              True           Stop Lost   \n",
       "2              True           Stop Lost   \n",
       "2              True           Stop Lost   \n",
       "\n",
       "                                      vrs_id succeeded_endpoint evidence_id  \\\n",
       "0  ga4gh:VA.A34ZoIhq4xBuQbcE3bkj29n6diS6RzLB          normalize        9347   \n",
       "0  ga4gh:VA.A34ZoIhq4xBuQbcE3bkj29n6diS6RzLB          normalize        6724   \n",
       "1  ga4gh:VA.JcEpDvhUtgDWU4A-bxqLUuczBNb8QqRf          normalize        5336   \n",
       "2  ga4gh:VA.7nGd8dgHbqtxMHk_rLxrB6_IMAzJ8XnH          normalize       10779   \n",
       "2  ga4gh:VA.7nGd8dgHbqtxMHk_rLxrB6_IMAzJ8XnH          normalize        6723   \n",
       "\n",
       "  evidence_status evidence_rating evidence_level  evidence_accepted  \n",
       "0       submitted             [3]            [C]              False  \n",
       "0        accepted             [2]            [C]               True  \n",
       "1        accepted             [2]            [C]               True  \n",
       "2       submitted             [3]            [C]              False  \n",
       "2        accepted             [2]            [C]               True  "
      ]
     },
     "execution_count": 26,
     "metadata": {},
     "output_type": "execute_result"
    }
   ],
   "source": [
    "normalized_queries_add_evidence_df = evidence_analysis2(\n",
    "    normalized_queries_add_evidence_df, VariantNormType.NORMALIZED\n",
    ")\n",
    "normalized_queries_add_evidence_df.head()"
   ]
  },
  {
   "cell_type": "markdown",
   "metadata": {},
   "source": [
    "## <a id='toc3_5_'></a>[Impact](#toc0_)\n",
    "molecular profile score"
   ]
  },
  {
   "cell_type": "markdown",
   "metadata": {},
   "source": [
    "### <a id='toc3_5_1_'></a>[Import molecular profile id](#toc0_)"
   ]
  },
  {
   "cell_type": "code",
   "execution_count": 27,
   "metadata": {},
   "outputs": [
    {
     "data": {
      "text/html": [
       "<div>\n",
       "<style scoped>\n",
       "    .dataframe tbody tr th:only-of-type {\n",
       "        vertical-align: middle;\n",
       "    }\n",
       "\n",
       "    .dataframe tbody tr th {\n",
       "        vertical-align: top;\n",
       "    }\n",
       "\n",
       "    .dataframe thead th {\n",
       "        text-align: right;\n",
       "    }\n",
       "</style>\n",
       "<table border=\"1\" class=\"dataframe\">\n",
       "  <thead>\n",
       "    <tr style=\"text-align: right;\">\n",
       "      <th></th>\n",
       "      <th>variant_id</th>\n",
       "      <th>query</th>\n",
       "      <th>query_type</th>\n",
       "      <th>variant_accepted</th>\n",
       "      <th>civic_variant_types</th>\n",
       "      <th>vrs_id</th>\n",
       "      <th>succeeded_endpoint</th>\n",
       "      <th>molecular_profile_id</th>\n",
       "    </tr>\n",
       "  </thead>\n",
       "  <tbody>\n",
       "    <tr>\n",
       "      <th>0</th>\n",
       "      <td>2489</td>\n",
       "      <td>NC_000003.11:g.10191648_10191649insC</td>\n",
       "      <td>genomic</td>\n",
       "      <td>True</td>\n",
       "      <td>Stop Lost</td>\n",
       "      <td>ga4gh:VA.A34ZoIhq4xBuQbcE3bkj29n6diS6RzLB</td>\n",
       "      <td>normalize</td>\n",
       "      <td>[2362]</td>\n",
       "    </tr>\n",
       "    <tr>\n",
       "      <th>1</th>\n",
       "      <td>1988</td>\n",
       "      <td>NC_000003.11:g.10191649A&gt;T</td>\n",
       "      <td>genomic</td>\n",
       "      <td>True</td>\n",
       "      <td>Stop Lost</td>\n",
       "      <td>ga4gh:VA.JcEpDvhUtgDWU4A-bxqLUuczBNb8QqRf</td>\n",
       "      <td>normalize</td>\n",
       "      <td>[1864]</td>\n",
       "    </tr>\n",
       "    <tr>\n",
       "      <th>2</th>\n",
       "      <td>2488</td>\n",
       "      <td>3-10191647-T-G</td>\n",
       "      <td>genomic</td>\n",
       "      <td>True</td>\n",
       "      <td>Stop Lost</td>\n",
       "      <td>ga4gh:VA.7nGd8dgHbqtxMHk_rLxrB6_IMAzJ8XnH</td>\n",
       "      <td>normalize</td>\n",
       "      <td>[2361]</td>\n",
       "    </tr>\n",
       "    <tr>\n",
       "      <th>3</th>\n",
       "      <td>1986</td>\n",
       "      <td>NC_000003.11:g.10191648G&gt;T</td>\n",
       "      <td>genomic</td>\n",
       "      <td>True</td>\n",
       "      <td>Stop Lost</td>\n",
       "      <td>ga4gh:VA.AmLtooLEvgdnEHD5YVWk6u1e2XBe7FiP</td>\n",
       "      <td>normalize</td>\n",
       "      <td>[1862]</td>\n",
       "    </tr>\n",
       "    <tr>\n",
       "      <th>4</th>\n",
       "      <td>1987</td>\n",
       "      <td>NC_000003.11:g.10191649A&gt;G</td>\n",
       "      <td>genomic</td>\n",
       "      <td>True</td>\n",
       "      <td>Stop Lost</td>\n",
       "      <td>ga4gh:VA.KIz00usFWEmJHNyqmVL61obfgfRPgOIa</td>\n",
       "      <td>normalize</td>\n",
       "      <td>[1863]</td>\n",
       "    </tr>\n",
       "  </tbody>\n",
       "</table>\n",
       "</div>"
      ],
      "text/plain": [
       "   variant_id                                 query query_type  \\\n",
       "0        2489  NC_000003.11:g.10191648_10191649insC    genomic   \n",
       "1        1988            NC_000003.11:g.10191649A>T    genomic   \n",
       "2        2488                        3-10191647-T-G    genomic   \n",
       "3        1986            NC_000003.11:g.10191648G>T    genomic   \n",
       "4        1987            NC_000003.11:g.10191649A>G    genomic   \n",
       "\n",
       "   variant_accepted civic_variant_types  \\\n",
       "0              True           Stop Lost   \n",
       "1              True           Stop Lost   \n",
       "2              True           Stop Lost   \n",
       "3              True           Stop Lost   \n",
       "4              True           Stop Lost   \n",
       "\n",
       "                                      vrs_id succeeded_endpoint  \\\n",
       "0  ga4gh:VA.A34ZoIhq4xBuQbcE3bkj29n6diS6RzLB          normalize   \n",
       "1  ga4gh:VA.JcEpDvhUtgDWU4A-bxqLUuczBNb8QqRf          normalize   \n",
       "2  ga4gh:VA.7nGd8dgHbqtxMHk_rLxrB6_IMAzJ8XnH          normalize   \n",
       "3  ga4gh:VA.AmLtooLEvgdnEHD5YVWk6u1e2XBe7FiP          normalize   \n",
       "4  ga4gh:VA.KIz00usFWEmJHNyqmVL61obfgfRPgOIa          normalize   \n",
       "\n",
       "  molecular_profile_id  \n",
       "0               [2362]  \n",
       "1               [1864]  \n",
       "2               [2361]  \n",
       "3               [1862]  \n",
       "4               [1863]  "
      ]
     },
     "execution_count": 27,
     "metadata": {},
     "output_type": "execute_result"
    }
   ],
   "source": [
    "normalized_queries_add_molprof_df = transform_df_mp_id(normalized_queries_df)\n",
    "normalized_queries_add_molprof_df.head()"
   ]
  },
  {
   "cell_type": "code",
   "execution_count": 28,
   "metadata": {},
   "outputs": [
    {
     "data": {
      "text/html": [
       "<div>\n",
       "<style scoped>\n",
       "    .dataframe tbody tr th:only-of-type {\n",
       "        vertical-align: middle;\n",
       "    }\n",
       "\n",
       "    .dataframe tbody tr th {\n",
       "        vertical-align: top;\n",
       "    }\n",
       "\n",
       "    .dataframe thead th {\n",
       "        text-align: right;\n",
       "    }\n",
       "</style>\n",
       "<table border=\"1\" class=\"dataframe\">\n",
       "  <thead>\n",
       "    <tr style=\"text-align: right;\">\n",
       "      <th></th>\n",
       "      <th>variant_id</th>\n",
       "      <th>query</th>\n",
       "      <th>query_type</th>\n",
       "      <th>variant_accepted</th>\n",
       "      <th>civic_variant_types</th>\n",
       "      <th>vrs_id</th>\n",
       "      <th>succeeded_endpoint</th>\n",
       "      <th>molecular_profile_id</th>\n",
       "    </tr>\n",
       "  </thead>\n",
       "  <tbody>\n",
       "    <tr>\n",
       "      <th>86</th>\n",
       "      <td>190</td>\n",
       "      <td>EGFR Amplification</td>\n",
       "      <td>protein</td>\n",
       "      <td>True</td>\n",
       "      <td>Transcript Amplification</td>\n",
       "      <td>ga4gh:CX.sEHT64Lm86QaTXzw39uKLkBUbEkp4h_X</td>\n",
       "      <td>normalize</td>\n",
       "      <td>[190, 4175, 4346, 4567]</td>\n",
       "    </tr>\n",
       "  </tbody>\n",
       "</table>\n",
       "</div>"
      ],
      "text/plain": [
       "    variant_id               query query_type  variant_accepted  \\\n",
       "86         190  EGFR Amplification    protein              True   \n",
       "\n",
       "         civic_variant_types                                     vrs_id  \\\n",
       "86  Transcript Amplification  ga4gh:CX.sEHT64Lm86QaTXzw39uKLkBUbEkp4h_X   \n",
       "\n",
       "   succeeded_endpoint     molecular_profile_id  \n",
       "86          normalize  [190, 4175, 4346, 4567]  "
      ]
     },
     "execution_count": 28,
     "metadata": {},
     "output_type": "execute_result"
    }
   ],
   "source": [
    "normalized_queries_add_molprof_df.loc[\n",
    "    normalized_queries_add_molprof_df[\"variant_id\"] == 190\n",
    "]"
   ]
  },
  {
   "cell_type": "markdown",
   "metadata": {},
   "source": [
    "### <a id='toc3_5_2_'></a>[Import molecular profile scores](#toc0_)"
   ]
  },
  {
   "cell_type": "code",
   "execution_count": 29,
   "metadata": {},
   "outputs": [
    {
     "data": {
      "text/html": [
       "<div>\n",
       "<style scoped>\n",
       "    .dataframe tbody tr th:only-of-type {\n",
       "        vertical-align: middle;\n",
       "    }\n",
       "\n",
       "    .dataframe tbody tr th {\n",
       "        vertical-align: top;\n",
       "    }\n",
       "\n",
       "    .dataframe thead th {\n",
       "        text-align: right;\n",
       "    }\n",
       "</style>\n",
       "<table border=\"1\" class=\"dataframe\">\n",
       "  <thead>\n",
       "    <tr style=\"text-align: right;\">\n",
       "      <th></th>\n",
       "      <th>variant_id</th>\n",
       "      <th>query</th>\n",
       "      <th>query_type</th>\n",
       "      <th>variant_accepted</th>\n",
       "      <th>civic_variant_types</th>\n",
       "      <th>vrs_id</th>\n",
       "      <th>succeeded_endpoint</th>\n",
       "      <th>molecular_profile_id</th>\n",
       "      <th>molecular_profile_score</th>\n",
       "    </tr>\n",
       "  </thead>\n",
       "  <tbody>\n",
       "    <tr>\n",
       "      <th>0</th>\n",
       "      <td>2489</td>\n",
       "      <td>NC_000003.11:g.10191648_10191649insC</td>\n",
       "      <td>genomic</td>\n",
       "      <td>True</td>\n",
       "      <td>Stop Lost</td>\n",
       "      <td>ga4gh:VA.A34ZoIhq4xBuQbcE3bkj29n6diS6RzLB</td>\n",
       "      <td>normalize</td>\n",
       "      <td>[2362]</td>\n",
       "      <td>[5.0]</td>\n",
       "    </tr>\n",
       "    <tr>\n",
       "      <th>1</th>\n",
       "      <td>1988</td>\n",
       "      <td>NC_000003.11:g.10191649A&gt;T</td>\n",
       "      <td>genomic</td>\n",
       "      <td>True</td>\n",
       "      <td>Stop Lost</td>\n",
       "      <td>ga4gh:VA.JcEpDvhUtgDWU4A-bxqLUuczBNb8QqRf</td>\n",
       "      <td>normalize</td>\n",
       "      <td>[1864]</td>\n",
       "      <td>[5.0]</td>\n",
       "    </tr>\n",
       "    <tr>\n",
       "      <th>2</th>\n",
       "      <td>2488</td>\n",
       "      <td>3-10191647-T-G</td>\n",
       "      <td>genomic</td>\n",
       "      <td>True</td>\n",
       "      <td>Stop Lost</td>\n",
       "      <td>ga4gh:VA.7nGd8dgHbqtxMHk_rLxrB6_IMAzJ8XnH</td>\n",
       "      <td>normalize</td>\n",
       "      <td>[2361]</td>\n",
       "      <td>[5.0]</td>\n",
       "    </tr>\n",
       "    <tr>\n",
       "      <th>3</th>\n",
       "      <td>1986</td>\n",
       "      <td>NC_000003.11:g.10191648G&gt;T</td>\n",
       "      <td>genomic</td>\n",
       "      <td>True</td>\n",
       "      <td>Stop Lost</td>\n",
       "      <td>ga4gh:VA.AmLtooLEvgdnEHD5YVWk6u1e2XBe7FiP</td>\n",
       "      <td>normalize</td>\n",
       "      <td>[1862]</td>\n",
       "      <td>[10.0]</td>\n",
       "    </tr>\n",
       "    <tr>\n",
       "      <th>4</th>\n",
       "      <td>1987</td>\n",
       "      <td>NC_000003.11:g.10191649A&gt;G</td>\n",
       "      <td>genomic</td>\n",
       "      <td>True</td>\n",
       "      <td>Stop Lost</td>\n",
       "      <td>ga4gh:VA.KIz00usFWEmJHNyqmVL61obfgfRPgOIa</td>\n",
       "      <td>normalize</td>\n",
       "      <td>[1863]</td>\n",
       "      <td>[5.0]</td>\n",
       "    </tr>\n",
       "  </tbody>\n",
       "</table>\n",
       "</div>"
      ],
      "text/plain": [
       "   variant_id                                 query query_type  \\\n",
       "0        2489  NC_000003.11:g.10191648_10191649insC    genomic   \n",
       "1        1988            NC_000003.11:g.10191649A>T    genomic   \n",
       "2        2488                        3-10191647-T-G    genomic   \n",
       "3        1986            NC_000003.11:g.10191648G>T    genomic   \n",
       "4        1987            NC_000003.11:g.10191649A>G    genomic   \n",
       "\n",
       "   variant_accepted civic_variant_types  \\\n",
       "0              True           Stop Lost   \n",
       "1              True           Stop Lost   \n",
       "2              True           Stop Lost   \n",
       "3              True           Stop Lost   \n",
       "4              True           Stop Lost   \n",
       "\n",
       "                                      vrs_id succeeded_endpoint  \\\n",
       "0  ga4gh:VA.A34ZoIhq4xBuQbcE3bkj29n6diS6RzLB          normalize   \n",
       "1  ga4gh:VA.JcEpDvhUtgDWU4A-bxqLUuczBNb8QqRf          normalize   \n",
       "2  ga4gh:VA.7nGd8dgHbqtxMHk_rLxrB6_IMAzJ8XnH          normalize   \n",
       "3  ga4gh:VA.AmLtooLEvgdnEHD5YVWk6u1e2XBe7FiP          normalize   \n",
       "4  ga4gh:VA.KIz00usFWEmJHNyqmVL61obfgfRPgOIa          normalize   \n",
       "\n",
       "  molecular_profile_id molecular_profile_score  \n",
       "0               [2362]                   [5.0]  \n",
       "1               [1864]                   [5.0]  \n",
       "2               [2361]                   [5.0]  \n",
       "3               [1862]                  [10.0]  \n",
       "4               [1863]                   [5.0]  "
      ]
     },
     "execution_count": 29,
     "metadata": {},
     "output_type": "execute_result"
    }
   ],
   "source": [
    "normalized_queries_add_molprof_df = transform_df_mp_score(\n",
    "    normalized_queries_add_molprof_df\n",
    ")\n",
    "normalized_queries_add_molprof_df.head()"
   ]
  },
  {
   "cell_type": "markdown",
   "metadata": {},
   "source": [
    "Example query below"
   ]
  },
  {
   "cell_type": "code",
   "execution_count": 30,
   "metadata": {},
   "outputs": [
    {
     "data": {
      "text/html": [
       "<div>\n",
       "<style scoped>\n",
       "    .dataframe tbody tr th:only-of-type {\n",
       "        vertical-align: middle;\n",
       "    }\n",
       "\n",
       "    .dataframe tbody tr th {\n",
       "        vertical-align: top;\n",
       "    }\n",
       "\n",
       "    .dataframe thead th {\n",
       "        text-align: right;\n",
       "    }\n",
       "</style>\n",
       "<table border=\"1\" class=\"dataframe\">\n",
       "  <thead>\n",
       "    <tr style=\"text-align: right;\">\n",
       "      <th></th>\n",
       "      <th>variant_id</th>\n",
       "      <th>query</th>\n",
       "      <th>query_type</th>\n",
       "      <th>variant_accepted</th>\n",
       "      <th>civic_variant_types</th>\n",
       "      <th>vrs_id</th>\n",
       "      <th>succeeded_endpoint</th>\n",
       "      <th>molecular_profile_id</th>\n",
       "      <th>molecular_profile_score</th>\n",
       "    </tr>\n",
       "  </thead>\n",
       "  <tbody>\n",
       "    <tr>\n",
       "      <th>86</th>\n",
       "      <td>190</td>\n",
       "      <td>EGFR Amplification</td>\n",
       "      <td>protein</td>\n",
       "      <td>True</td>\n",
       "      <td>Transcript Amplification</td>\n",
       "      <td>ga4gh:CX.sEHT64Lm86QaTXzw39uKLkBUbEkp4h_X</td>\n",
       "      <td>normalize</td>\n",
       "      <td>[190, 4175, 4346, 4567]</td>\n",
       "      <td>[173.0, 5.0, 0.0]</td>\n",
       "    </tr>\n",
       "  </tbody>\n",
       "</table>\n",
       "</div>"
      ],
      "text/plain": [
       "    variant_id               query query_type  variant_accepted  \\\n",
       "86         190  EGFR Amplification    protein              True   \n",
       "\n",
       "         civic_variant_types                                     vrs_id  \\\n",
       "86  Transcript Amplification  ga4gh:CX.sEHT64Lm86QaTXzw39uKLkBUbEkp4h_X   \n",
       "\n",
       "   succeeded_endpoint     molecular_profile_id molecular_profile_score  \n",
       "86          normalize  [190, 4175, 4346, 4567]       [173.0, 5.0, 0.0]  "
      ]
     },
     "execution_count": 30,
     "metadata": {},
     "output_type": "execute_result"
    }
   ],
   "source": [
    "normalized_queries_add_molprof_df.loc[\n",
    "    normalized_queries_add_molprof_df[\"variant_id\"] == 190\n",
    "]"
   ]
  },
  {
   "cell_type": "code",
   "execution_count": 31,
   "metadata": {},
   "outputs": [
    {
     "data": {
      "text/html": [
       "<div>\n",
       "<style scoped>\n",
       "    .dataframe tbody tr th:only-of-type {\n",
       "        vertical-align: middle;\n",
       "    }\n",
       "\n",
       "    .dataframe tbody tr th {\n",
       "        vertical-align: top;\n",
       "    }\n",
       "\n",
       "    .dataframe thead th {\n",
       "        text-align: right;\n",
       "    }\n",
       "</style>\n",
       "<table border=\"1\" class=\"dataframe\">\n",
       "  <thead>\n",
       "    <tr style=\"text-align: right;\">\n",
       "      <th></th>\n",
       "      <th>variant_id</th>\n",
       "      <th>query</th>\n",
       "      <th>query_type</th>\n",
       "      <th>variant_accepted</th>\n",
       "      <th>civic_variant_types</th>\n",
       "      <th>vrs_id</th>\n",
       "      <th>succeeded_endpoint</th>\n",
       "      <th>molecular_profile_id</th>\n",
       "      <th>molecular_profile_score</th>\n",
       "      <th>molecular_profile_score_sum</th>\n",
       "    </tr>\n",
       "  </thead>\n",
       "  <tbody>\n",
       "    <tr>\n",
       "      <th>0</th>\n",
       "      <td>2489</td>\n",
       "      <td>NC_000003.11:g.10191648_10191649insC</td>\n",
       "      <td>genomic</td>\n",
       "      <td>True</td>\n",
       "      <td>Stop Lost</td>\n",
       "      <td>ga4gh:VA.A34ZoIhq4xBuQbcE3bkj29n6diS6RzLB</td>\n",
       "      <td>normalize</td>\n",
       "      <td>[2362]</td>\n",
       "      <td>[5.0]</td>\n",
       "      <td>5.0</td>\n",
       "    </tr>\n",
       "    <tr>\n",
       "      <th>1</th>\n",
       "      <td>1988</td>\n",
       "      <td>NC_000003.11:g.10191649A&gt;T</td>\n",
       "      <td>genomic</td>\n",
       "      <td>True</td>\n",
       "      <td>Stop Lost</td>\n",
       "      <td>ga4gh:VA.JcEpDvhUtgDWU4A-bxqLUuczBNb8QqRf</td>\n",
       "      <td>normalize</td>\n",
       "      <td>[1864]</td>\n",
       "      <td>[5.0]</td>\n",
       "      <td>5.0</td>\n",
       "    </tr>\n",
       "    <tr>\n",
       "      <th>2</th>\n",
       "      <td>2488</td>\n",
       "      <td>3-10191647-T-G</td>\n",
       "      <td>genomic</td>\n",
       "      <td>True</td>\n",
       "      <td>Stop Lost</td>\n",
       "      <td>ga4gh:VA.7nGd8dgHbqtxMHk_rLxrB6_IMAzJ8XnH</td>\n",
       "      <td>normalize</td>\n",
       "      <td>[2361]</td>\n",
       "      <td>[5.0]</td>\n",
       "      <td>5.0</td>\n",
       "    </tr>\n",
       "    <tr>\n",
       "      <th>3</th>\n",
       "      <td>1986</td>\n",
       "      <td>NC_000003.11:g.10191648G&gt;T</td>\n",
       "      <td>genomic</td>\n",
       "      <td>True</td>\n",
       "      <td>Stop Lost</td>\n",
       "      <td>ga4gh:VA.AmLtooLEvgdnEHD5YVWk6u1e2XBe7FiP</td>\n",
       "      <td>normalize</td>\n",
       "      <td>[1862]</td>\n",
       "      <td>[10.0]</td>\n",
       "      <td>10.0</td>\n",
       "    </tr>\n",
       "    <tr>\n",
       "      <th>4</th>\n",
       "      <td>1987</td>\n",
       "      <td>NC_000003.11:g.10191649A&gt;G</td>\n",
       "      <td>genomic</td>\n",
       "      <td>True</td>\n",
       "      <td>Stop Lost</td>\n",
       "      <td>ga4gh:VA.KIz00usFWEmJHNyqmVL61obfgfRPgOIa</td>\n",
       "      <td>normalize</td>\n",
       "      <td>[1863]</td>\n",
       "      <td>[5.0]</td>\n",
       "      <td>5.0</td>\n",
       "    </tr>\n",
       "  </tbody>\n",
       "</table>\n",
       "</div>"
      ],
      "text/plain": [
       "   variant_id                                 query query_type  \\\n",
       "0        2489  NC_000003.11:g.10191648_10191649insC    genomic   \n",
       "1        1988            NC_000003.11:g.10191649A>T    genomic   \n",
       "2        2488                        3-10191647-T-G    genomic   \n",
       "3        1986            NC_000003.11:g.10191648G>T    genomic   \n",
       "4        1987            NC_000003.11:g.10191649A>G    genomic   \n",
       "\n",
       "   variant_accepted civic_variant_types  \\\n",
       "0              True           Stop Lost   \n",
       "1              True           Stop Lost   \n",
       "2              True           Stop Lost   \n",
       "3              True           Stop Lost   \n",
       "4              True           Stop Lost   \n",
       "\n",
       "                                      vrs_id succeeded_endpoint  \\\n",
       "0  ga4gh:VA.A34ZoIhq4xBuQbcE3bkj29n6diS6RzLB          normalize   \n",
       "1  ga4gh:VA.JcEpDvhUtgDWU4A-bxqLUuczBNb8QqRf          normalize   \n",
       "2  ga4gh:VA.7nGd8dgHbqtxMHk_rLxrB6_IMAzJ8XnH          normalize   \n",
       "3  ga4gh:VA.AmLtooLEvgdnEHD5YVWk6u1e2XBe7FiP          normalize   \n",
       "4  ga4gh:VA.KIz00usFWEmJHNyqmVL61obfgfRPgOIa          normalize   \n",
       "\n",
       "  molecular_profile_id molecular_profile_score  molecular_profile_score_sum  \n",
       "0               [2362]                   [5.0]                          5.0  \n",
       "1               [1864]                   [5.0]                          5.0  \n",
       "2               [2361]                   [5.0]                          5.0  \n",
       "3               [1862]                  [10.0]                         10.0  \n",
       "4               [1863]                   [5.0]                          5.0  "
      ]
     },
     "execution_count": 31,
     "metadata": {},
     "output_type": "execute_result"
    }
   ],
   "source": [
    "normalized_queries_add_molprof_df = transform_df_mp_score_sum(\n",
    "    normalized_queries_add_molprof_df\n",
    ")\n",
    "normalized_queries_add_molprof_df.head()"
   ]
  },
  {
   "cell_type": "markdown",
   "metadata": {},
   "source": [
    "Example query below"
   ]
  },
  {
   "cell_type": "code",
   "execution_count": 32,
   "metadata": {},
   "outputs": [
    {
     "data": {
      "text/html": [
       "<div>\n",
       "<style scoped>\n",
       "    .dataframe tbody tr th:only-of-type {\n",
       "        vertical-align: middle;\n",
       "    }\n",
       "\n",
       "    .dataframe tbody tr th {\n",
       "        vertical-align: top;\n",
       "    }\n",
       "\n",
       "    .dataframe thead th {\n",
       "        text-align: right;\n",
       "    }\n",
       "</style>\n",
       "<table border=\"1\" class=\"dataframe\">\n",
       "  <thead>\n",
       "    <tr style=\"text-align: right;\">\n",
       "      <th></th>\n",
       "      <th>variant_id</th>\n",
       "      <th>query</th>\n",
       "      <th>query_type</th>\n",
       "      <th>variant_accepted</th>\n",
       "      <th>civic_variant_types</th>\n",
       "      <th>vrs_id</th>\n",
       "      <th>succeeded_endpoint</th>\n",
       "      <th>molecular_profile_id</th>\n",
       "      <th>molecular_profile_score</th>\n",
       "      <th>molecular_profile_score_sum</th>\n",
       "    </tr>\n",
       "  </thead>\n",
       "  <tbody>\n",
       "    <tr>\n",
       "      <th>86</th>\n",
       "      <td>190</td>\n",
       "      <td>EGFR Amplification</td>\n",
       "      <td>protein</td>\n",
       "      <td>True</td>\n",
       "      <td>Transcript Amplification</td>\n",
       "      <td>ga4gh:CX.sEHT64Lm86QaTXzw39uKLkBUbEkp4h_X</td>\n",
       "      <td>normalize</td>\n",
       "      <td>[190, 4175, 4346, 4567]</td>\n",
       "      <td>[173.0, 5.0, 0.0]</td>\n",
       "      <td>178.0</td>\n",
       "    </tr>\n",
       "  </tbody>\n",
       "</table>\n",
       "</div>"
      ],
      "text/plain": [
       "    variant_id               query query_type  variant_accepted  \\\n",
       "86         190  EGFR Amplification    protein              True   \n",
       "\n",
       "         civic_variant_types                                     vrs_id  \\\n",
       "86  Transcript Amplification  ga4gh:CX.sEHT64Lm86QaTXzw39uKLkBUbEkp4h_X   \n",
       "\n",
       "   succeeded_endpoint     molecular_profile_id molecular_profile_score  \\\n",
       "86          normalize  [190, 4175, 4346, 4567]       [173.0, 5.0, 0.0]   \n",
       "\n",
       "    molecular_profile_score_sum  \n",
       "86                        178.0  "
      ]
     },
     "execution_count": 32,
     "metadata": {},
     "output_type": "execute_result"
    }
   ],
   "source": [
    "normalized_queries_add_molprof_df.loc[\n",
    "    normalized_queries_add_molprof_df[\"variant_id\"] == 190\n",
    "]"
   ]
  },
  {
   "cell_type": "markdown",
   "metadata": {},
   "source": [
    "# <a id='toc4_'></a>[Analysis of Unable to Normalize Queries](#toc0_)"
   ]
  },
  {
   "cell_type": "markdown",
   "metadata": {},
   "source": [
    "## <a id='toc4_1_'></a>[List of Unable to Normalize Variant ID's](#toc0_)"
   ]
  },
  {
   "cell_type": "code",
   "execution_count": 33,
   "metadata": {},
   "outputs": [
    {
     "data": {
      "text/html": [
       "<div>\n",
       "<style scoped>\n",
       "    .dataframe tbody tr th:only-of-type {\n",
       "        vertical-align: middle;\n",
       "    }\n",
       "\n",
       "    .dataframe tbody tr th {\n",
       "        vertical-align: top;\n",
       "    }\n",
       "\n",
       "    .dataframe thead th {\n",
       "        text-align: right;\n",
       "    }\n",
       "</style>\n",
       "<table border=\"1\" class=\"dataframe\">\n",
       "  <thead>\n",
       "    <tr style=\"text-align: right;\">\n",
       "      <th></th>\n",
       "      <th>variant_id</th>\n",
       "      <th>query</th>\n",
       "      <th>query_type</th>\n",
       "      <th>variant_accepted</th>\n",
       "      <th>civic_variant_types</th>\n",
       "      <th>exception_raised</th>\n",
       "      <th>message</th>\n",
       "      <th>warnings</th>\n",
       "    </tr>\n",
       "  </thead>\n",
       "  <tbody>\n",
       "    <tr>\n",
       "      <th>0</th>\n",
       "      <td>748</td>\n",
       "      <td>MLH1 *757L</td>\n",
       "      <td>protein</td>\n",
       "      <td>True</td>\n",
       "      <td>Stop Lost</td>\n",
       "      <td>False</td>\n",
       "      <td>unable to normalize</td>\n",
       "      <td>['Unable to tokenize: *757L']</td>\n",
       "    </tr>\n",
       "    <tr>\n",
       "      <th>1</th>\n",
       "      <td>3718</td>\n",
       "      <td>AR A748V</td>\n",
       "      <td>protein</td>\n",
       "      <td>False</td>\n",
       "      <td>Not provided</td>\n",
       "      <td>False</td>\n",
       "      <td>unable to normalize</td>\n",
       "      <td>['Unable to translate AR A748V']</td>\n",
       "    </tr>\n",
       "    <tr>\n",
       "      <th>2</th>\n",
       "      <td>3725</td>\n",
       "      <td>AR A765T</td>\n",
       "      <td>protein</td>\n",
       "      <td>False</td>\n",
       "      <td>Not provided</td>\n",
       "      <td>False</td>\n",
       "      <td>unable to normalize</td>\n",
       "      <td>['Unable to translate AR A765T']</td>\n",
       "    </tr>\n",
       "    <tr>\n",
       "      <th>3</th>\n",
       "      <td>4485</td>\n",
       "      <td>ERBB2 A775_G776ins YVMA</td>\n",
       "      <td>protein</td>\n",
       "      <td>False</td>\n",
       "      <td>Not provided</td>\n",
       "      <td>False</td>\n",
       "      <td>unable to normalize</td>\n",
       "      <td>['Unable to tokenize: A775_G776ins', 'Unable t...</td>\n",
       "    </tr>\n",
       "    <tr>\n",
       "      <th>4</th>\n",
       "      <td>248</td>\n",
       "      <td>TERT C228T</td>\n",
       "      <td>protein</td>\n",
       "      <td>True</td>\n",
       "      <td>Regulatory Region Variant</td>\n",
       "      <td>False</td>\n",
       "      <td>unable to normalize</td>\n",
       "      <td>['Unable to translate TERT C228T']</td>\n",
       "    </tr>\n",
       "  </tbody>\n",
       "</table>\n",
       "</div>"
      ],
      "text/plain": [
       "   variant_id                    query query_type  variant_accepted  \\\n",
       "0         748               MLH1 *757L    protein              True   \n",
       "1        3718                 AR A748V    protein             False   \n",
       "2        3725                 AR A765T    protein             False   \n",
       "3        4485  ERBB2 A775_G776ins YVMA    protein             False   \n",
       "4         248               TERT C228T    protein              True   \n",
       "\n",
       "         civic_variant_types  exception_raised              message  \\\n",
       "0                  Stop Lost             False  unable to normalize   \n",
       "1               Not provided             False  unable to normalize   \n",
       "2               Not provided             False  unable to normalize   \n",
       "3               Not provided             False  unable to normalize   \n",
       "4  Regulatory Region Variant             False  unable to normalize   \n",
       "\n",
       "                                            warnings  \n",
       "0                      ['Unable to tokenize: *757L']  \n",
       "1                   ['Unable to translate AR A748V']  \n",
       "2                   ['Unable to translate AR A765T']  \n",
       "3  ['Unable to tokenize: A775_G776ins', 'Unable t...  \n",
       "4                 ['Unable to translate TERT C228T']  "
      ]
     },
     "execution_count": 33,
     "metadata": {},
     "output_type": "execute_result"
    }
   ],
   "source": [
    "not_normalized_queries_df = pd.read_csv(\"../variation_analysis/unable_to_normalize_queries.csv\", sep=\"\\t\")\n",
    "not_normalized_queries_df.head()"
   ]
  },
  {
   "cell_type": "markdown",
   "metadata": {},
   "source": [
    "## <a id='toc4_2_'></a>[Variant analysis](#toc0_)"
   ]
  },
  {
   "cell_type": "code",
   "execution_count": 34,
   "metadata": {},
   "outputs": [
    {
     "name": "stdout",
     "output_type": "stream",
     "text": [
      "\n",
      "Number of Unable to Normalize Variants in CIViC: 80 / 3519\n",
      "Percentage of Unable to Normalize Variants in CIViC: 2.27%\n",
      "\n",
      "Number of accepted Unable to Normalize Variants: 11 / 80\n",
      "Percentage of accepted Unable to Normalize Variants: 13.75%\n",
      "\n",
      "Number of not accepted Unable to Normalize Variants: 69 / 80\n",
      "Percentage of not accepted Unable to Normalize Variants: 86.25%\n"
     ]
    },
    {
     "data": {
      "text/html": [
       "<div>\n",
       "<style scoped>\n",
       "    .dataframe tbody tr th:only-of-type {\n",
       "        vertical-align: middle;\n",
       "    }\n",
       "\n",
       "    .dataframe tbody tr th {\n",
       "        vertical-align: top;\n",
       "    }\n",
       "\n",
       "    .dataframe thead th {\n",
       "        text-align: right;\n",
       "    }\n",
       "</style>\n",
       "<table border=\"1\" class=\"dataframe\">\n",
       "  <thead>\n",
       "    <tr style=\"text-align: right;\">\n",
       "      <th></th>\n",
       "      <th>variant_id</th>\n",
       "      <th>query</th>\n",
       "      <th>query_type</th>\n",
       "      <th>variant_accepted</th>\n",
       "      <th>civic_variant_types</th>\n",
       "      <th>exception_raised</th>\n",
       "      <th>message</th>\n",
       "      <th>warnings</th>\n",
       "    </tr>\n",
       "  </thead>\n",
       "  <tbody>\n",
       "    <tr>\n",
       "      <th>0</th>\n",
       "      <td>748</td>\n",
       "      <td>MLH1 *757L</td>\n",
       "      <td>protein</td>\n",
       "      <td>True</td>\n",
       "      <td>Stop Lost</td>\n",
       "      <td>False</td>\n",
       "      <td>unable to normalize</td>\n",
       "      <td>['Unable to tokenize: *757L']</td>\n",
       "    </tr>\n",
       "    <tr>\n",
       "      <th>1</th>\n",
       "      <td>3718</td>\n",
       "      <td>AR A748V</td>\n",
       "      <td>protein</td>\n",
       "      <td>False</td>\n",
       "      <td>Not provided</td>\n",
       "      <td>False</td>\n",
       "      <td>unable to normalize</td>\n",
       "      <td>['Unable to translate AR A748V']</td>\n",
       "    </tr>\n",
       "    <tr>\n",
       "      <th>2</th>\n",
       "      <td>3725</td>\n",
       "      <td>AR A765T</td>\n",
       "      <td>protein</td>\n",
       "      <td>False</td>\n",
       "      <td>Not provided</td>\n",
       "      <td>False</td>\n",
       "      <td>unable to normalize</td>\n",
       "      <td>['Unable to translate AR A765T']</td>\n",
       "    </tr>\n",
       "    <tr>\n",
       "      <th>3</th>\n",
       "      <td>4485</td>\n",
       "      <td>ERBB2 A775_G776ins YVMA</td>\n",
       "      <td>protein</td>\n",
       "      <td>False</td>\n",
       "      <td>Not provided</td>\n",
       "      <td>False</td>\n",
       "      <td>unable to normalize</td>\n",
       "      <td>['Unable to tokenize: A775_G776ins', 'Unable t...</td>\n",
       "    </tr>\n",
       "    <tr>\n",
       "      <th>4</th>\n",
       "      <td>248</td>\n",
       "      <td>TERT C228T</td>\n",
       "      <td>protein</td>\n",
       "      <td>True</td>\n",
       "      <td>Regulatory Region Variant</td>\n",
       "      <td>False</td>\n",
       "      <td>unable to normalize</td>\n",
       "      <td>['Unable to translate TERT C228T']</td>\n",
       "    </tr>\n",
       "  </tbody>\n",
       "</table>\n",
       "</div>"
      ],
      "text/plain": [
       "   variant_id                    query query_type  variant_accepted  \\\n",
       "0         748               MLH1 *757L    protein              True   \n",
       "1        3718                 AR A748V    protein             False   \n",
       "2        3725                 AR A765T    protein             False   \n",
       "3        4485  ERBB2 A775_G776ins YVMA    protein             False   \n",
       "4         248               TERT C228T    protein              True   \n",
       "\n",
       "         civic_variant_types  exception_raised              message  \\\n",
       "0                  Stop Lost             False  unable to normalize   \n",
       "1               Not provided             False  unable to normalize   \n",
       "2               Not provided             False  unable to normalize   \n",
       "3               Not provided             False  unable to normalize   \n",
       "4  Regulatory Region Variant             False  unable to normalize   \n",
       "\n",
       "                                            warnings  \n",
       "0                      ['Unable to tokenize: *757L']  \n",
       "1                   ['Unable to translate AR A748V']  \n",
       "2                   ['Unable to translate AR A765T']  \n",
       "3  ['Unable to tokenize: A775_G776ins', 'Unable t...  \n",
       "4                 ['Unable to translate TERT C228T']  "
      ]
     },
     "execution_count": 34,
     "metadata": {},
     "output_type": "execute_result"
    }
   ],
   "source": [
    "not_normalized_queries_df = variant_analysis(\n",
    "    not_normalized_queries_df, VariantNormType.UNABLE_TO_NORMALIZE\n",
    ")\n",
    "not_normalized_queries_df.head()"
   ]
  },
  {
   "cell_type": "markdown",
   "metadata": {},
   "source": [
    "## <a id='toc4_3_'></a>[Transform df for evidence analysis](#toc0_)"
   ]
  },
  {
   "cell_type": "code",
   "execution_count": 35,
   "metadata": {},
   "outputs": [
    {
     "data": {
      "text/html": [
       "<div>\n",
       "<style scoped>\n",
       "    .dataframe tbody tr th:only-of-type {\n",
       "        vertical-align: middle;\n",
       "    }\n",
       "\n",
       "    .dataframe tbody tr th {\n",
       "        vertical-align: top;\n",
       "    }\n",
       "\n",
       "    .dataframe thead th {\n",
       "        text-align: right;\n",
       "    }\n",
       "</style>\n",
       "<table border=\"1\" class=\"dataframe\">\n",
       "  <thead>\n",
       "    <tr style=\"text-align: right;\">\n",
       "      <th></th>\n",
       "      <th>variant_id</th>\n",
       "      <th>query</th>\n",
       "      <th>query_type</th>\n",
       "      <th>variant_accepted</th>\n",
       "      <th>civic_variant_types</th>\n",
       "      <th>exception_raised</th>\n",
       "      <th>message</th>\n",
       "      <th>warnings</th>\n",
       "      <th>evidence_id</th>\n",
       "    </tr>\n",
       "  </thead>\n",
       "  <tbody>\n",
       "    <tr>\n",
       "      <th>0</th>\n",
       "      <td>748</td>\n",
       "      <td>MLH1 *757L</td>\n",
       "      <td>protein</td>\n",
       "      <td>True</td>\n",
       "      <td>Stop Lost</td>\n",
       "      <td>False</td>\n",
       "      <td>unable to normalize</td>\n",
       "      <td>['Unable to tokenize: *757L']</td>\n",
       "      <td>1812</td>\n",
       "    </tr>\n",
       "    <tr>\n",
       "      <th>1</th>\n",
       "      <td>3718</td>\n",
       "      <td>AR A748V</td>\n",
       "      <td>protein</td>\n",
       "      <td>False</td>\n",
       "      <td>Not provided</td>\n",
       "      <td>False</td>\n",
       "      <td>unable to normalize</td>\n",
       "      <td>['Unable to translate AR A748V']</td>\n",
       "      <td>10128</td>\n",
       "    </tr>\n",
       "    <tr>\n",
       "      <th>2</th>\n",
       "      <td>3725</td>\n",
       "      <td>AR A765T</td>\n",
       "      <td>protein</td>\n",
       "      <td>False</td>\n",
       "      <td>Not provided</td>\n",
       "      <td>False</td>\n",
       "      <td>unable to normalize</td>\n",
       "      <td>['Unable to translate AR A765T']</td>\n",
       "      <td>10135</td>\n",
       "    </tr>\n",
       "    <tr>\n",
       "      <th>3</th>\n",
       "      <td>4485</td>\n",
       "      <td>ERBB2 A775_G776ins YVMA</td>\n",
       "      <td>protein</td>\n",
       "      <td>False</td>\n",
       "      <td>Not provided</td>\n",
       "      <td>False</td>\n",
       "      <td>unable to normalize</td>\n",
       "      <td>['Unable to tokenize: A775_G776ins', 'Unable t...</td>\n",
       "      <td>11494</td>\n",
       "    </tr>\n",
       "    <tr>\n",
       "      <th>3</th>\n",
       "      <td>4485</td>\n",
       "      <td>ERBB2 A775_G776ins YVMA</td>\n",
       "      <td>protein</td>\n",
       "      <td>False</td>\n",
       "      <td>Not provided</td>\n",
       "      <td>False</td>\n",
       "      <td>unable to normalize</td>\n",
       "      <td>['Unable to tokenize: A775_G776ins', 'Unable t...</td>\n",
       "      <td>11323</td>\n",
       "    </tr>\n",
       "  </tbody>\n",
       "</table>\n",
       "</div>"
      ],
      "text/plain": [
       "   variant_id                    query query_type  variant_accepted  \\\n",
       "0         748               MLH1 *757L    protein              True   \n",
       "1        3718                 AR A748V    protein             False   \n",
       "2        3725                 AR A765T    protein             False   \n",
       "3        4485  ERBB2 A775_G776ins YVMA    protein             False   \n",
       "3        4485  ERBB2 A775_G776ins YVMA    protein             False   \n",
       "\n",
       "  civic_variant_types  exception_raised              message  \\\n",
       "0           Stop Lost             False  unable to normalize   \n",
       "1        Not provided             False  unable to normalize   \n",
       "2        Not provided             False  unable to normalize   \n",
       "3        Not provided             False  unable to normalize   \n",
       "3        Not provided             False  unable to normalize   \n",
       "\n",
       "                                            warnings evidence_id  \n",
       "0                      ['Unable to tokenize: *757L']        1812  \n",
       "1                   ['Unable to translate AR A748V']       10128  \n",
       "2                   ['Unable to translate AR A765T']       10135  \n",
       "3  ['Unable to tokenize: A775_G776ins', 'Unable t...       11494  \n",
       "3  ['Unable to tokenize: A775_G776ins', 'Unable t...       11323  "
      ]
     },
     "execution_count": 35,
     "metadata": {},
     "output_type": "execute_result"
    }
   ],
   "source": [
    "not_normalized_quer_add_evidence_df = transform_df_evidence_ids(\n",
    "    not_normalized_queries_df\n",
    ")\n",
    "not_normalized_quer_add_evidence_df.head()"
   ]
  },
  {
   "cell_type": "code",
   "execution_count": 36,
   "metadata": {},
   "outputs": [
    {
     "data": {
      "text/html": [
       "<div>\n",
       "<style scoped>\n",
       "    .dataframe tbody tr th:only-of-type {\n",
       "        vertical-align: middle;\n",
       "    }\n",
       "\n",
       "    .dataframe tbody tr th {\n",
       "        vertical-align: top;\n",
       "    }\n",
       "\n",
       "    .dataframe thead th {\n",
       "        text-align: right;\n",
       "    }\n",
       "</style>\n",
       "<table border=\"1\" class=\"dataframe\">\n",
       "  <thead>\n",
       "    <tr style=\"text-align: right;\">\n",
       "      <th></th>\n",
       "      <th>variant_id</th>\n",
       "      <th>query</th>\n",
       "      <th>query_type</th>\n",
       "      <th>variant_accepted</th>\n",
       "      <th>civic_variant_types</th>\n",
       "      <th>exception_raised</th>\n",
       "      <th>message</th>\n",
       "      <th>warnings</th>\n",
       "      <th>evidence_id</th>\n",
       "      <th>evidence_status</th>\n",
       "      <th>evidence_rating</th>\n",
       "      <th>evidence_level</th>\n",
       "    </tr>\n",
       "  </thead>\n",
       "  <tbody>\n",
       "    <tr>\n",
       "      <th>0</th>\n",
       "      <td>748</td>\n",
       "      <td>MLH1 *757L</td>\n",
       "      <td>protein</td>\n",
       "      <td>True</td>\n",
       "      <td>Stop Lost</td>\n",
       "      <td>False</td>\n",
       "      <td>unable to normalize</td>\n",
       "      <td>['Unable to tokenize: *757L']</td>\n",
       "      <td>1812</td>\n",
       "      <td>accepted</td>\n",
       "      <td>[1]</td>\n",
       "      <td>[C]</td>\n",
       "    </tr>\n",
       "    <tr>\n",
       "      <th>1</th>\n",
       "      <td>3718</td>\n",
       "      <td>AR A748V</td>\n",
       "      <td>protein</td>\n",
       "      <td>False</td>\n",
       "      <td>Not provided</td>\n",
       "      <td>False</td>\n",
       "      <td>unable to normalize</td>\n",
       "      <td>['Unable to translate AR A748V']</td>\n",
       "      <td>10128</td>\n",
       "      <td>submitted</td>\n",
       "      <td>[3]</td>\n",
       "      <td>[D]</td>\n",
       "    </tr>\n",
       "    <tr>\n",
       "      <th>2</th>\n",
       "      <td>3725</td>\n",
       "      <td>AR A765T</td>\n",
       "      <td>protein</td>\n",
       "      <td>False</td>\n",
       "      <td>Not provided</td>\n",
       "      <td>False</td>\n",
       "      <td>unable to normalize</td>\n",
       "      <td>['Unable to translate AR A765T']</td>\n",
       "      <td>10135</td>\n",
       "      <td>submitted</td>\n",
       "      <td>[3]</td>\n",
       "      <td>[D]</td>\n",
       "    </tr>\n",
       "    <tr>\n",
       "      <th>3</th>\n",
       "      <td>4485</td>\n",
       "      <td>ERBB2 A775_G776ins YVMA</td>\n",
       "      <td>protein</td>\n",
       "      <td>False</td>\n",
       "      <td>Not provided</td>\n",
       "      <td>False</td>\n",
       "      <td>unable to normalize</td>\n",
       "      <td>['Unable to tokenize: A775_G776ins', 'Unable t...</td>\n",
       "      <td>11494</td>\n",
       "      <td>submitted</td>\n",
       "      <td>[4]</td>\n",
       "      <td>[D]</td>\n",
       "    </tr>\n",
       "    <tr>\n",
       "      <th>3</th>\n",
       "      <td>4485</td>\n",
       "      <td>ERBB2 A775_G776ins YVMA</td>\n",
       "      <td>protein</td>\n",
       "      <td>False</td>\n",
       "      <td>Not provided</td>\n",
       "      <td>False</td>\n",
       "      <td>unable to normalize</td>\n",
       "      <td>['Unable to tokenize: A775_G776ins', 'Unable t...</td>\n",
       "      <td>11323</td>\n",
       "      <td>submitted</td>\n",
       "      <td>[3]</td>\n",
       "      <td>[B]</td>\n",
       "    </tr>\n",
       "  </tbody>\n",
       "</table>\n",
       "</div>"
      ],
      "text/plain": [
       "   variant_id                    query query_type  variant_accepted  \\\n",
       "0         748               MLH1 *757L    protein              True   \n",
       "1        3718                 AR A748V    protein             False   \n",
       "2        3725                 AR A765T    protein             False   \n",
       "3        4485  ERBB2 A775_G776ins YVMA    protein             False   \n",
       "3        4485  ERBB2 A775_G776ins YVMA    protein             False   \n",
       "\n",
       "  civic_variant_types  exception_raised              message  \\\n",
       "0           Stop Lost             False  unable to normalize   \n",
       "1        Not provided             False  unable to normalize   \n",
       "2        Not provided             False  unable to normalize   \n",
       "3        Not provided             False  unable to normalize   \n",
       "3        Not provided             False  unable to normalize   \n",
       "\n",
       "                                            warnings evidence_id  \\\n",
       "0                      ['Unable to tokenize: *757L']        1812   \n",
       "1                   ['Unable to translate AR A748V']       10128   \n",
       "2                   ['Unable to translate AR A765T']       10135   \n",
       "3  ['Unable to tokenize: A775_G776ins', 'Unable t...       11494   \n",
       "3  ['Unable to tokenize: A775_G776ins', 'Unable t...       11323   \n",
       "\n",
       "  evidence_status evidence_rating evidence_level  \n",
       "0        accepted             [1]            [C]  \n",
       "1       submitted             [3]            [D]  \n",
       "2       submitted             [3]            [D]  \n",
       "3       submitted             [4]            [D]  \n",
       "3       submitted             [3]            [B]  "
      ]
     },
     "execution_count": 36,
     "metadata": {},
     "output_type": "execute_result"
    }
   ],
   "source": [
    "not_normalized_quer_add_evidence_df = transform_df_evidence(\n",
    "    not_normalized_quer_add_evidence_df\n",
    ")\n",
    "not_normalized_quer_add_evidence_df.head()"
   ]
  },
  {
   "cell_type": "markdown",
   "metadata": {},
   "source": [
    "## <a id='toc4_4_'></a>[Evidence analysis](#toc0_)"
   ]
  },
  {
   "cell_type": "code",
   "execution_count": 37,
   "metadata": {},
   "outputs": [
    {
     "name": "stdout",
     "output_type": "stream",
     "text": [
      "Number of Unable to Normalize Variant Evidence items in CIViC: 127 / 9920\n",
      "Percentage of Unable to Normalize Variant Evidence items in CIViC: 1.28%\n",
      "\n",
      "Number of accepted Unable to Normalize Variant Evidence items: 17 / 127\n",
      "Percentage of accepted Unable to Normalize Variant Evidence items: 13.39%\n",
      "\n",
      "Number of submitted Unable to Normalize Variant Evidence items: 110 / 127\n",
      "Percentage of not submitted Unable to Normalize Variant Evidence items: 86.61%\n"
     ]
    },
    {
     "data": {
      "text/html": [
       "<div>\n",
       "<style scoped>\n",
       "    .dataframe tbody tr th:only-of-type {\n",
       "        vertical-align: middle;\n",
       "    }\n",
       "\n",
       "    .dataframe tbody tr th {\n",
       "        vertical-align: top;\n",
       "    }\n",
       "\n",
       "    .dataframe thead th {\n",
       "        text-align: right;\n",
       "    }\n",
       "</style>\n",
       "<table border=\"1\" class=\"dataframe\">\n",
       "  <thead>\n",
       "    <tr style=\"text-align: right;\">\n",
       "      <th></th>\n",
       "      <th>variant_id</th>\n",
       "      <th>query</th>\n",
       "      <th>query_type</th>\n",
       "      <th>variant_accepted</th>\n",
       "      <th>civic_variant_types</th>\n",
       "      <th>exception_raised</th>\n",
       "      <th>message</th>\n",
       "      <th>warnings</th>\n",
       "      <th>evidence_id</th>\n",
       "      <th>evidence_status</th>\n",
       "      <th>evidence_rating</th>\n",
       "      <th>evidence_level</th>\n",
       "      <th>evidence_accepted</th>\n",
       "    </tr>\n",
       "  </thead>\n",
       "  <tbody>\n",
       "    <tr>\n",
       "      <th>0</th>\n",
       "      <td>748</td>\n",
       "      <td>MLH1 *757L</td>\n",
       "      <td>protein</td>\n",
       "      <td>True</td>\n",
       "      <td>Stop Lost</td>\n",
       "      <td>False</td>\n",
       "      <td>unable to normalize</td>\n",
       "      <td>['Unable to tokenize: *757L']</td>\n",
       "      <td>1812</td>\n",
       "      <td>accepted</td>\n",
       "      <td>[1]</td>\n",
       "      <td>[C]</td>\n",
       "      <td>True</td>\n",
       "    </tr>\n",
       "    <tr>\n",
       "      <th>1</th>\n",
       "      <td>3718</td>\n",
       "      <td>AR A748V</td>\n",
       "      <td>protein</td>\n",
       "      <td>False</td>\n",
       "      <td>Not provided</td>\n",
       "      <td>False</td>\n",
       "      <td>unable to normalize</td>\n",
       "      <td>['Unable to translate AR A748V']</td>\n",
       "      <td>10128</td>\n",
       "      <td>submitted</td>\n",
       "      <td>[3]</td>\n",
       "      <td>[D]</td>\n",
       "      <td>False</td>\n",
       "    </tr>\n",
       "    <tr>\n",
       "      <th>2</th>\n",
       "      <td>3725</td>\n",
       "      <td>AR A765T</td>\n",
       "      <td>protein</td>\n",
       "      <td>False</td>\n",
       "      <td>Not provided</td>\n",
       "      <td>False</td>\n",
       "      <td>unable to normalize</td>\n",
       "      <td>['Unable to translate AR A765T']</td>\n",
       "      <td>10135</td>\n",
       "      <td>submitted</td>\n",
       "      <td>[3]</td>\n",
       "      <td>[D]</td>\n",
       "      <td>False</td>\n",
       "    </tr>\n",
       "    <tr>\n",
       "      <th>3</th>\n",
       "      <td>4485</td>\n",
       "      <td>ERBB2 A775_G776ins YVMA</td>\n",
       "      <td>protein</td>\n",
       "      <td>False</td>\n",
       "      <td>Not provided</td>\n",
       "      <td>False</td>\n",
       "      <td>unable to normalize</td>\n",
       "      <td>['Unable to tokenize: A775_G776ins', 'Unable t...</td>\n",
       "      <td>11494</td>\n",
       "      <td>submitted</td>\n",
       "      <td>[4]</td>\n",
       "      <td>[D]</td>\n",
       "      <td>False</td>\n",
       "    </tr>\n",
       "    <tr>\n",
       "      <th>3</th>\n",
       "      <td>4485</td>\n",
       "      <td>ERBB2 A775_G776ins YVMA</td>\n",
       "      <td>protein</td>\n",
       "      <td>False</td>\n",
       "      <td>Not provided</td>\n",
       "      <td>False</td>\n",
       "      <td>unable to normalize</td>\n",
       "      <td>['Unable to tokenize: A775_G776ins', 'Unable t...</td>\n",
       "      <td>11323</td>\n",
       "      <td>submitted</td>\n",
       "      <td>[3]</td>\n",
       "      <td>[B]</td>\n",
       "      <td>False</td>\n",
       "    </tr>\n",
       "  </tbody>\n",
       "</table>\n",
       "</div>"
      ],
      "text/plain": [
       "   variant_id                    query query_type  variant_accepted  \\\n",
       "0         748               MLH1 *757L    protein              True   \n",
       "1        3718                 AR A748V    protein             False   \n",
       "2        3725                 AR A765T    protein             False   \n",
       "3        4485  ERBB2 A775_G776ins YVMA    protein             False   \n",
       "3        4485  ERBB2 A775_G776ins YVMA    protein             False   \n",
       "\n",
       "  civic_variant_types  exception_raised              message  \\\n",
       "0           Stop Lost             False  unable to normalize   \n",
       "1        Not provided             False  unable to normalize   \n",
       "2        Not provided             False  unable to normalize   \n",
       "3        Not provided             False  unable to normalize   \n",
       "3        Not provided             False  unable to normalize   \n",
       "\n",
       "                                            warnings evidence_id  \\\n",
       "0                      ['Unable to tokenize: *757L']        1812   \n",
       "1                   ['Unable to translate AR A748V']       10128   \n",
       "2                   ['Unable to translate AR A765T']       10135   \n",
       "3  ['Unable to tokenize: A775_G776ins', 'Unable t...       11494   \n",
       "3  ['Unable to tokenize: A775_G776ins', 'Unable t...       11323   \n",
       "\n",
       "  evidence_status evidence_rating evidence_level  evidence_accepted  \n",
       "0        accepted             [1]            [C]               True  \n",
       "1       submitted             [3]            [D]              False  \n",
       "2       submitted             [3]            [D]              False  \n",
       "3       submitted             [4]            [D]              False  \n",
       "3       submitted             [3]            [B]              False  "
      ]
     },
     "execution_count": 37,
     "metadata": {},
     "output_type": "execute_result"
    }
   ],
   "source": [
    "not_normalized_quer_add_evidence_df = evidence_analysis2(\n",
    "    not_normalized_quer_add_evidence_df, VariantNormType.UNABLE_TO_NORMALIZE\n",
    ")\n",
    "not_normalized_quer_add_evidence_df.head()"
   ]
  },
  {
   "cell_type": "markdown",
   "metadata": {},
   "source": [
    "## <a id='toc4_5_'></a>[Impact](#toc0_)\n",
    "molecular profile score"
   ]
  },
  {
   "cell_type": "markdown",
   "metadata": {},
   "source": [
    "### <a id='toc4_5_1_'></a>[Import molecular profile id](#toc0_)"
   ]
  },
  {
   "cell_type": "code",
   "execution_count": 38,
   "metadata": {},
   "outputs": [
    {
     "data": {
      "text/html": [
       "<div>\n",
       "<style scoped>\n",
       "    .dataframe tbody tr th:only-of-type {\n",
       "        vertical-align: middle;\n",
       "    }\n",
       "\n",
       "    .dataframe tbody tr th {\n",
       "        vertical-align: top;\n",
       "    }\n",
       "\n",
       "    .dataframe thead th {\n",
       "        text-align: right;\n",
       "    }\n",
       "</style>\n",
       "<table border=\"1\" class=\"dataframe\">\n",
       "  <thead>\n",
       "    <tr style=\"text-align: right;\">\n",
       "      <th></th>\n",
       "      <th>variant_id</th>\n",
       "      <th>query</th>\n",
       "      <th>query_type</th>\n",
       "      <th>variant_accepted</th>\n",
       "      <th>civic_variant_types</th>\n",
       "      <th>exception_raised</th>\n",
       "      <th>message</th>\n",
       "      <th>warnings</th>\n",
       "      <th>molecular_profile_id</th>\n",
       "    </tr>\n",
       "  </thead>\n",
       "  <tbody>\n",
       "    <tr>\n",
       "      <th>0</th>\n",
       "      <td>748</td>\n",
       "      <td>MLH1 *757L</td>\n",
       "      <td>protein</td>\n",
       "      <td>True</td>\n",
       "      <td>Stop Lost</td>\n",
       "      <td>False</td>\n",
       "      <td>unable to normalize</td>\n",
       "      <td>['Unable to tokenize: *757L']</td>\n",
       "      <td>[729]</td>\n",
       "    </tr>\n",
       "    <tr>\n",
       "      <th>1</th>\n",
       "      <td>3718</td>\n",
       "      <td>AR A748V</td>\n",
       "      <td>protein</td>\n",
       "      <td>False</td>\n",
       "      <td>Not provided</td>\n",
       "      <td>False</td>\n",
       "      <td>unable to normalize</td>\n",
       "      <td>['Unable to translate AR A748V']</td>\n",
       "      <td>[3586]</td>\n",
       "    </tr>\n",
       "    <tr>\n",
       "      <th>2</th>\n",
       "      <td>3725</td>\n",
       "      <td>AR A765T</td>\n",
       "      <td>protein</td>\n",
       "      <td>False</td>\n",
       "      <td>Not provided</td>\n",
       "      <td>False</td>\n",
       "      <td>unable to normalize</td>\n",
       "      <td>['Unable to translate AR A765T']</td>\n",
       "      <td>[3593]</td>\n",
       "    </tr>\n",
       "    <tr>\n",
       "      <th>3</th>\n",
       "      <td>4485</td>\n",
       "      <td>ERBB2 A775_G776ins YVMA</td>\n",
       "      <td>protein</td>\n",
       "      <td>False</td>\n",
       "      <td>Not provided</td>\n",
       "      <td>False</td>\n",
       "      <td>unable to normalize</td>\n",
       "      <td>['Unable to tokenize: A775_G776ins', 'Unable t...</td>\n",
       "      <td>[4463, 4472]</td>\n",
       "    </tr>\n",
       "    <tr>\n",
       "      <th>4</th>\n",
       "      <td>248</td>\n",
       "      <td>TERT C228T</td>\n",
       "      <td>protein</td>\n",
       "      <td>True</td>\n",
       "      <td>Regulatory Region Variant</td>\n",
       "      <td>False</td>\n",
       "      <td>unable to normalize</td>\n",
       "      <td>['Unable to translate TERT C228T']</td>\n",
       "      <td>[244]</td>\n",
       "    </tr>\n",
       "  </tbody>\n",
       "</table>\n",
       "</div>"
      ],
      "text/plain": [
       "   variant_id                    query query_type  variant_accepted  \\\n",
       "0         748               MLH1 *757L    protein              True   \n",
       "1        3718                 AR A748V    protein             False   \n",
       "2        3725                 AR A765T    protein             False   \n",
       "3        4485  ERBB2 A775_G776ins YVMA    protein             False   \n",
       "4         248               TERT C228T    protein              True   \n",
       "\n",
       "         civic_variant_types  exception_raised              message  \\\n",
       "0                  Stop Lost             False  unable to normalize   \n",
       "1               Not provided             False  unable to normalize   \n",
       "2               Not provided             False  unable to normalize   \n",
       "3               Not provided             False  unable to normalize   \n",
       "4  Regulatory Region Variant             False  unable to normalize   \n",
       "\n",
       "                                            warnings molecular_profile_id  \n",
       "0                      ['Unable to tokenize: *757L']                [729]  \n",
       "1                   ['Unable to translate AR A748V']               [3586]  \n",
       "2                   ['Unable to translate AR A765T']               [3593]  \n",
       "3  ['Unable to tokenize: A775_G776ins', 'Unable t...         [4463, 4472]  \n",
       "4                 ['Unable to translate TERT C228T']                [244]  "
      ]
     },
     "execution_count": 38,
     "metadata": {},
     "output_type": "execute_result"
    }
   ],
   "source": [
    "not_normalized_queries_add_molprof_df = transform_df_mp_id(not_normalized_queries_df)\n",
    "not_normalized_queries_add_molprof_df.head()"
   ]
  },
  {
   "cell_type": "markdown",
   "metadata": {},
   "source": [
    "### <a id='toc4_5_2_'></a>[Import molecular profile scores](#toc0_)"
   ]
  },
  {
   "cell_type": "code",
   "execution_count": 39,
   "metadata": {},
   "outputs": [
    {
     "data": {
      "text/html": [
       "<div>\n",
       "<style scoped>\n",
       "    .dataframe tbody tr th:only-of-type {\n",
       "        vertical-align: middle;\n",
       "    }\n",
       "\n",
       "    .dataframe tbody tr th {\n",
       "        vertical-align: top;\n",
       "    }\n",
       "\n",
       "    .dataframe thead th {\n",
       "        text-align: right;\n",
       "    }\n",
       "</style>\n",
       "<table border=\"1\" class=\"dataframe\">\n",
       "  <thead>\n",
       "    <tr style=\"text-align: right;\">\n",
       "      <th></th>\n",
       "      <th>variant_id</th>\n",
       "      <th>query</th>\n",
       "      <th>query_type</th>\n",
       "      <th>variant_accepted</th>\n",
       "      <th>civic_variant_types</th>\n",
       "      <th>exception_raised</th>\n",
       "      <th>message</th>\n",
       "      <th>warnings</th>\n",
       "      <th>molecular_profile_id</th>\n",
       "      <th>molecular_profile_score</th>\n",
       "    </tr>\n",
       "  </thead>\n",
       "  <tbody>\n",
       "    <tr>\n",
       "      <th>0</th>\n",
       "      <td>748</td>\n",
       "      <td>MLH1 *757L</td>\n",
       "      <td>protein</td>\n",
       "      <td>True</td>\n",
       "      <td>Stop Lost</td>\n",
       "      <td>False</td>\n",
       "      <td>unable to normalize</td>\n",
       "      <td>['Unable to tokenize: *757L']</td>\n",
       "      <td>[729]</td>\n",
       "      <td>[2.5]</td>\n",
       "    </tr>\n",
       "    <tr>\n",
       "      <th>1</th>\n",
       "      <td>3718</td>\n",
       "      <td>AR A748V</td>\n",
       "      <td>protein</td>\n",
       "      <td>False</td>\n",
       "      <td>Not provided</td>\n",
       "      <td>False</td>\n",
       "      <td>unable to normalize</td>\n",
       "      <td>['Unable to translate AR A748V']</td>\n",
       "      <td>[3586]</td>\n",
       "      <td>[0.0]</td>\n",
       "    </tr>\n",
       "    <tr>\n",
       "      <th>2</th>\n",
       "      <td>3725</td>\n",
       "      <td>AR A765T</td>\n",
       "      <td>protein</td>\n",
       "      <td>False</td>\n",
       "      <td>Not provided</td>\n",
       "      <td>False</td>\n",
       "      <td>unable to normalize</td>\n",
       "      <td>['Unable to translate AR A765T']</td>\n",
       "      <td>[3593]</td>\n",
       "      <td>[0.0]</td>\n",
       "    </tr>\n",
       "    <tr>\n",
       "      <th>3</th>\n",
       "      <td>4485</td>\n",
       "      <td>ERBB2 A775_G776ins YVMA</td>\n",
       "      <td>protein</td>\n",
       "      <td>False</td>\n",
       "      <td>Not provided</td>\n",
       "      <td>False</td>\n",
       "      <td>unable to normalize</td>\n",
       "      <td>['Unable to tokenize: A775_G776ins', 'Unable t...</td>\n",
       "      <td>[4463, 4472]</td>\n",
       "      <td>[0.0]</td>\n",
       "    </tr>\n",
       "    <tr>\n",
       "      <th>4</th>\n",
       "      <td>248</td>\n",
       "      <td>TERT C228T</td>\n",
       "      <td>protein</td>\n",
       "      <td>True</td>\n",
       "      <td>Regulatory Region Variant</td>\n",
       "      <td>False</td>\n",
       "      <td>unable to normalize</td>\n",
       "      <td>['Unable to translate TERT C228T']</td>\n",
       "      <td>[244]</td>\n",
       "      <td>[40.0]</td>\n",
       "    </tr>\n",
       "  </tbody>\n",
       "</table>\n",
       "</div>"
      ],
      "text/plain": [
       "   variant_id                    query query_type  variant_accepted  \\\n",
       "0         748               MLH1 *757L    protein              True   \n",
       "1        3718                 AR A748V    protein             False   \n",
       "2        3725                 AR A765T    protein             False   \n",
       "3        4485  ERBB2 A775_G776ins YVMA    protein             False   \n",
       "4         248               TERT C228T    protein              True   \n",
       "\n",
       "         civic_variant_types  exception_raised              message  \\\n",
       "0                  Stop Lost             False  unable to normalize   \n",
       "1               Not provided             False  unable to normalize   \n",
       "2               Not provided             False  unable to normalize   \n",
       "3               Not provided             False  unable to normalize   \n",
       "4  Regulatory Region Variant             False  unable to normalize   \n",
       "\n",
       "                                            warnings molecular_profile_id  \\\n",
       "0                      ['Unable to tokenize: *757L']                [729]   \n",
       "1                   ['Unable to translate AR A748V']               [3586]   \n",
       "2                   ['Unable to translate AR A765T']               [3593]   \n",
       "3  ['Unable to tokenize: A775_G776ins', 'Unable t...         [4463, 4472]   \n",
       "4                 ['Unable to translate TERT C228T']                [244]   \n",
       "\n",
       "  molecular_profile_score  \n",
       "0                   [2.5]  \n",
       "1                   [0.0]  \n",
       "2                   [0.0]  \n",
       "3                   [0.0]  \n",
       "4                  [40.0]  "
      ]
     },
     "execution_count": 39,
     "metadata": {},
     "output_type": "execute_result"
    }
   ],
   "source": [
    "not_normalized_queries_add_molprof_df = transform_df_mp_score(\n",
    "    not_normalized_queries_add_molprof_df\n",
    ")\n",
    "not_normalized_queries_add_molprof_df.head()"
   ]
  },
  {
   "cell_type": "code",
   "execution_count": 40,
   "metadata": {},
   "outputs": [
    {
     "data": {
      "text/html": [
       "<div>\n",
       "<style scoped>\n",
       "    .dataframe tbody tr th:only-of-type {\n",
       "        vertical-align: middle;\n",
       "    }\n",
       "\n",
       "    .dataframe tbody tr th {\n",
       "        vertical-align: top;\n",
       "    }\n",
       "\n",
       "    .dataframe thead th {\n",
       "        text-align: right;\n",
       "    }\n",
       "</style>\n",
       "<table border=\"1\" class=\"dataframe\">\n",
       "  <thead>\n",
       "    <tr style=\"text-align: right;\">\n",
       "      <th></th>\n",
       "      <th>variant_id</th>\n",
       "      <th>query</th>\n",
       "      <th>query_type</th>\n",
       "      <th>variant_accepted</th>\n",
       "      <th>civic_variant_types</th>\n",
       "      <th>exception_raised</th>\n",
       "      <th>message</th>\n",
       "      <th>warnings</th>\n",
       "      <th>molecular_profile_id</th>\n",
       "      <th>molecular_profile_score</th>\n",
       "      <th>molecular_profile_score_sum</th>\n",
       "    </tr>\n",
       "  </thead>\n",
       "  <tbody>\n",
       "    <tr>\n",
       "      <th>0</th>\n",
       "      <td>748</td>\n",
       "      <td>MLH1 *757L</td>\n",
       "      <td>protein</td>\n",
       "      <td>True</td>\n",
       "      <td>Stop Lost</td>\n",
       "      <td>False</td>\n",
       "      <td>unable to normalize</td>\n",
       "      <td>['Unable to tokenize: *757L']</td>\n",
       "      <td>[729]</td>\n",
       "      <td>[2.5]</td>\n",
       "      <td>2.5</td>\n",
       "    </tr>\n",
       "    <tr>\n",
       "      <th>1</th>\n",
       "      <td>3718</td>\n",
       "      <td>AR A748V</td>\n",
       "      <td>protein</td>\n",
       "      <td>False</td>\n",
       "      <td>Not provided</td>\n",
       "      <td>False</td>\n",
       "      <td>unable to normalize</td>\n",
       "      <td>['Unable to translate AR A748V']</td>\n",
       "      <td>[3586]</td>\n",
       "      <td>[0.0]</td>\n",
       "      <td>0.0</td>\n",
       "    </tr>\n",
       "    <tr>\n",
       "      <th>2</th>\n",
       "      <td>3725</td>\n",
       "      <td>AR A765T</td>\n",
       "      <td>protein</td>\n",
       "      <td>False</td>\n",
       "      <td>Not provided</td>\n",
       "      <td>False</td>\n",
       "      <td>unable to normalize</td>\n",
       "      <td>['Unable to translate AR A765T']</td>\n",
       "      <td>[3593]</td>\n",
       "      <td>[0.0]</td>\n",
       "      <td>0.0</td>\n",
       "    </tr>\n",
       "    <tr>\n",
       "      <th>3</th>\n",
       "      <td>4485</td>\n",
       "      <td>ERBB2 A775_G776ins YVMA</td>\n",
       "      <td>protein</td>\n",
       "      <td>False</td>\n",
       "      <td>Not provided</td>\n",
       "      <td>False</td>\n",
       "      <td>unable to normalize</td>\n",
       "      <td>['Unable to tokenize: A775_G776ins', 'Unable t...</td>\n",
       "      <td>[4463, 4472]</td>\n",
       "      <td>[0.0]</td>\n",
       "      <td>0.0</td>\n",
       "    </tr>\n",
       "    <tr>\n",
       "      <th>4</th>\n",
       "      <td>248</td>\n",
       "      <td>TERT C228T</td>\n",
       "      <td>protein</td>\n",
       "      <td>True</td>\n",
       "      <td>Regulatory Region Variant</td>\n",
       "      <td>False</td>\n",
       "      <td>unable to normalize</td>\n",
       "      <td>['Unable to translate TERT C228T']</td>\n",
       "      <td>[244]</td>\n",
       "      <td>[40.0]</td>\n",
       "      <td>40.0</td>\n",
       "    </tr>\n",
       "  </tbody>\n",
       "</table>\n",
       "</div>"
      ],
      "text/plain": [
       "   variant_id                    query query_type  variant_accepted  \\\n",
       "0         748               MLH1 *757L    protein              True   \n",
       "1        3718                 AR A748V    protein             False   \n",
       "2        3725                 AR A765T    protein             False   \n",
       "3        4485  ERBB2 A775_G776ins YVMA    protein             False   \n",
       "4         248               TERT C228T    protein              True   \n",
       "\n",
       "         civic_variant_types  exception_raised              message  \\\n",
       "0                  Stop Lost             False  unable to normalize   \n",
       "1               Not provided             False  unable to normalize   \n",
       "2               Not provided             False  unable to normalize   \n",
       "3               Not provided             False  unable to normalize   \n",
       "4  Regulatory Region Variant             False  unable to normalize   \n",
       "\n",
       "                                            warnings molecular_profile_id  \\\n",
       "0                      ['Unable to tokenize: *757L']                [729]   \n",
       "1                   ['Unable to translate AR A748V']               [3586]   \n",
       "2                   ['Unable to translate AR A765T']               [3593]   \n",
       "3  ['Unable to tokenize: A775_G776ins', 'Unable t...         [4463, 4472]   \n",
       "4                 ['Unable to translate TERT C228T']                [244]   \n",
       "\n",
       "  molecular_profile_score  molecular_profile_score_sum  \n",
       "0                   [2.5]                          2.5  \n",
       "1                   [0.0]                          0.0  \n",
       "2                   [0.0]                          0.0  \n",
       "3                   [0.0]                          0.0  \n",
       "4                  [40.0]                         40.0  "
      ]
     },
     "execution_count": 40,
     "metadata": {},
     "output_type": "execute_result"
    }
   ],
   "source": [
    "not_normalized_queries_add_molprof_df = transform_df_mp_score_sum(\n",
    "    not_normalized_queries_add_molprof_df\n",
    ")\n",
    "not_normalized_queries_add_molprof_df.head()"
   ]
  },
  {
   "cell_type": "markdown",
   "metadata": {},
   "source": [
    "# <a id='toc5_'></a>[Analysis of Not Supported Variants](#toc0_)"
   ]
  },
  {
   "cell_type": "markdown",
   "metadata": {},
   "source": [
    "### <a id='toc5_1_1_'></a>[List of Not Supported Variant ID's](#toc0_)"
   ]
  },
  {
   "cell_type": "code",
   "execution_count": 41,
   "metadata": {},
   "outputs": [
    {
     "data": {
      "text/html": [
       "<div>\n",
       "<style scoped>\n",
       "    .dataframe tbody tr th:only-of-type {\n",
       "        vertical-align: middle;\n",
       "    }\n",
       "\n",
       "    .dataframe tbody tr th {\n",
       "        vertical-align: top;\n",
       "    }\n",
       "\n",
       "    .dataframe thead th {\n",
       "        text-align: right;\n",
       "    }\n",
       "</style>\n",
       "<table border=\"1\" class=\"dataframe\">\n",
       "  <thead>\n",
       "    <tr style=\"text-align: right;\">\n",
       "      <th></th>\n",
       "      <th>variant_id</th>\n",
       "      <th>gene_name</th>\n",
       "      <th>variant_name</th>\n",
       "      <th>civic_variant_types</th>\n",
       "      <th>category</th>\n",
       "      <th>variant_accepted</th>\n",
       "    </tr>\n",
       "  </thead>\n",
       "  <tbody>\n",
       "    <tr>\n",
       "      <th>0</th>\n",
       "      <td>4170</td>\n",
       "      <td>VHL</td>\n",
       "      <td>NaN</td>\n",
       "      <td>Not provided</td>\n",
       "      <td>Transcript Variants</td>\n",
       "      <td>False</td>\n",
       "    </tr>\n",
       "    <tr>\n",
       "      <th>1</th>\n",
       "      <td>4417</td>\n",
       "      <td>ALK</td>\n",
       "      <td>FBXO11::ALK</td>\n",
       "      <td>Not provided</td>\n",
       "      <td>Fusion Variants</td>\n",
       "      <td>False</td>\n",
       "    </tr>\n",
       "    <tr>\n",
       "      <th>2</th>\n",
       "      <td>4214</td>\n",
       "      <td>VHL</td>\n",
       "      <td>NaN</td>\n",
       "      <td>Not provided</td>\n",
       "      <td>Transcript Variants</td>\n",
       "      <td>False</td>\n",
       "    </tr>\n",
       "    <tr>\n",
       "      <th>3</th>\n",
       "      <td>4216</td>\n",
       "      <td>VHL</td>\n",
       "      <td>NaN</td>\n",
       "      <td>Not provided</td>\n",
       "      <td>Transcript Variants</td>\n",
       "      <td>False</td>\n",
       "    </tr>\n",
       "    <tr>\n",
       "      <th>4</th>\n",
       "      <td>4278</td>\n",
       "      <td>VHL</td>\n",
       "      <td>NaN</td>\n",
       "      <td>Not provided</td>\n",
       "      <td>Transcript Variants</td>\n",
       "      <td>False</td>\n",
       "    </tr>\n",
       "  </tbody>\n",
       "</table>\n",
       "</div>"
      ],
      "text/plain": [
       "   variant_id gene_name  variant_name civic_variant_types  \\\n",
       "0        4170       VHL           NaN        Not provided   \n",
       "1        4417       ALK   FBXO11::ALK        Not provided   \n",
       "2        4214       VHL           NaN        Not provided   \n",
       "3        4216       VHL           NaN        Not provided   \n",
       "4        4278       VHL           NaN        Not provided   \n",
       "\n",
       "              category  variant_accepted  \n",
       "0  Transcript Variants             False  \n",
       "1      Fusion Variants             False  \n",
       "2  Transcript Variants             False  \n",
       "3  Transcript Variants             False  \n",
       "4  Transcript Variants             False  "
      ]
     },
     "execution_count": 41,
     "metadata": {},
     "output_type": "execute_result"
    }
   ],
   "source": [
    "not_supported_queries_df = pd.read_csv(\"../variation_analysis/not_supported_variants.csv\", sep=\"\\t\")\n",
    "not_supported_queries_df.head()"
   ]
  },
  {
   "cell_type": "markdown",
   "metadata": {},
   "source": [
    "## <a id='toc5_2_'></a>[Variant Analysis](#toc0_)"
   ]
  },
  {
   "cell_type": "code",
   "execution_count": 42,
   "metadata": {},
   "outputs": [
    {
     "name": "stdout",
     "output_type": "stream",
     "text": [
      "\n",
      "Number of Not Supported Variants in CIViC: 1563 / 3519\n",
      "Percentage of Not Supported Variants in CIViC: 44.42%\n",
      "\n",
      "Number of accepted Not Supported Variants: 790 / 1563\n",
      "Percentage of accepted Not Supported Variants: 50.54%\n",
      "\n",
      "Number of not accepted Not Supported Variants: 773 / 1563\n",
      "Percentage of not accepted Not Supported Variants: 49.46%\n"
     ]
    },
    {
     "data": {
      "text/html": [
       "<div>\n",
       "<style scoped>\n",
       "    .dataframe tbody tr th:only-of-type {\n",
       "        vertical-align: middle;\n",
       "    }\n",
       "\n",
       "    .dataframe tbody tr th {\n",
       "        vertical-align: top;\n",
       "    }\n",
       "\n",
       "    .dataframe thead th {\n",
       "        text-align: right;\n",
       "    }\n",
       "</style>\n",
       "<table border=\"1\" class=\"dataframe\">\n",
       "  <thead>\n",
       "    <tr style=\"text-align: right;\">\n",
       "      <th></th>\n",
       "      <th>variant_id</th>\n",
       "      <th>gene_name</th>\n",
       "      <th>variant_name</th>\n",
       "      <th>civic_variant_types</th>\n",
       "      <th>category</th>\n",
       "      <th>variant_accepted</th>\n",
       "    </tr>\n",
       "  </thead>\n",
       "  <tbody>\n",
       "    <tr>\n",
       "      <th>0</th>\n",
       "      <td>4170</td>\n",
       "      <td>VHL</td>\n",
       "      <td>NaN</td>\n",
       "      <td>Not provided</td>\n",
       "      <td>Transcript Variants</td>\n",
       "      <td>False</td>\n",
       "    </tr>\n",
       "    <tr>\n",
       "      <th>1</th>\n",
       "      <td>4417</td>\n",
       "      <td>ALK</td>\n",
       "      <td>FBXO11::ALK</td>\n",
       "      <td>Not provided</td>\n",
       "      <td>Fusion Variants</td>\n",
       "      <td>False</td>\n",
       "    </tr>\n",
       "    <tr>\n",
       "      <th>2</th>\n",
       "      <td>4214</td>\n",
       "      <td>VHL</td>\n",
       "      <td>NaN</td>\n",
       "      <td>Not provided</td>\n",
       "      <td>Transcript Variants</td>\n",
       "      <td>False</td>\n",
       "    </tr>\n",
       "    <tr>\n",
       "      <th>3</th>\n",
       "      <td>4216</td>\n",
       "      <td>VHL</td>\n",
       "      <td>NaN</td>\n",
       "      <td>Not provided</td>\n",
       "      <td>Transcript Variants</td>\n",
       "      <td>False</td>\n",
       "    </tr>\n",
       "    <tr>\n",
       "      <th>4</th>\n",
       "      <td>4278</td>\n",
       "      <td>VHL</td>\n",
       "      <td>NaN</td>\n",
       "      <td>Not provided</td>\n",
       "      <td>Transcript Variants</td>\n",
       "      <td>False</td>\n",
       "    </tr>\n",
       "  </tbody>\n",
       "</table>\n",
       "</div>"
      ],
      "text/plain": [
       "   variant_id gene_name  variant_name civic_variant_types  \\\n",
       "0        4170       VHL           NaN        Not provided   \n",
       "1        4417       ALK   FBXO11::ALK        Not provided   \n",
       "2        4214       VHL           NaN        Not provided   \n",
       "3        4216       VHL           NaN        Not provided   \n",
       "4        4278       VHL           NaN        Not provided   \n",
       "\n",
       "              category  variant_accepted  \n",
       "0  Transcript Variants             False  \n",
       "1      Fusion Variants             False  \n",
       "2  Transcript Variants             False  \n",
       "3  Transcript Variants             False  \n",
       "4  Transcript Variants             False  "
      ]
     },
     "execution_count": 42,
     "metadata": {},
     "output_type": "execute_result"
    }
   ],
   "source": [
    "not_supported_queries_df = variant_analysis(\n",
    "    not_supported_queries_df, VariantNormType.NOT_SUPPORTED\n",
    ")\n",
    "not_supported_queries_df.head()"
   ]
  },
  {
   "cell_type": "code",
   "execution_count": 43,
   "metadata": {},
   "outputs": [
    {
     "data": {
      "text/plain": [
       "variant_accepted\n",
       "True     790\n",
       "False    773\n",
       "Name: count, dtype: int64"
      ]
     },
     "execution_count": 43,
     "metadata": {},
     "output_type": "execute_result"
    }
   ],
   "source": [
    "not_supported_queries_df[\"variant_accepted\"].value_counts()"
   ]
  },
  {
   "cell_type": "markdown",
   "metadata": {},
   "source": [
    "### <a id='toc5_2_1_'></a>[Not Supported Variant Analysis by Subcategory](#toc0_)"
   ]
  },
  {
   "cell_type": "code",
   "execution_count": 44,
   "metadata": {},
   "outputs": [],
   "source": [
    "not_supported_variant_analysis_summary = {\n",
    "    \"Category\": VARIANT_CATEGORY_VALUES,\n",
    "    \"Count of CIViC Variant Items per Category\": [],\n",
    "    \"Fraction of Not Supported Variant Items\": [],\n",
    "    \"Percent of Not Supported Variant Items\": [],\n",
    "    \"Fraction of all CIViC Variant Items\": [],\n",
    "    \"Percent of all CIViC Variant Items\": [],\n",
    "    \"Fraction of Accepted Variant Items\": [],\n",
    "    \"Percent of Accepted Variant Items\": [],\n",
    "    \"Fraction of Not Accepted Variant Items\": [],\n",
    "    \"Percent of Not Accepted Variant Items\": [],\n",
    "}"
   ]
  },
  {
   "cell_type": "code",
   "execution_count": 45,
   "metadata": {},
   "outputs": [],
   "source": [
    "not_supported_variant_categories_summary_data = dict()\n",
    "total_number_unique_not_supported_variants = len(\n",
    "    set(not_supported_queries_df.variant_id)\n",
    ")\n",
    "\n",
    "for category in VARIANT_CATEGORY_VALUES:  # These are not supported categories\n",
    "    not_supported_variant_categories_summary_data[category] = {}\n",
    "    category_df = not_supported_queries_df[\n",
    "        not_supported_queries_df.category == category\n",
    "    ]\n",
    "\n",
    "    # Count\n",
    "    number_unique_not_supported_category_variants = len(set(category_df.variant_id))\n",
    "    not_supported_variant_categories_summary_data[category][\n",
    "        \"number_unique_not_supported_category_variants\"\n",
    "    ] = number_unique_not_supported_category_variants\n",
    "\n",
    "    # Fraction\n",
    "    fraction_not_supported_category_variant_of_civic = (\n",
    "        f\"{number_unique_not_supported_category_variants} / {total_number_variants}\"\n",
    "    )\n",
    "    not_supported_variant_categories_summary_data[category][\n",
    "        \"fraction_not_supported_category_variant_of_civic\"\n",
    "    ] = fraction_not_supported_category_variant_of_civic\n",
    "\n",
    "    # Percent\n",
    "    percent_not_supported_category_variant_of_civic = f\"{number_unique_not_supported_category_variants / total_number_variants * 100:.2f}%\"\n",
    "    not_supported_variant_categories_summary_data[category][\n",
    "        \"percent_not_supported_category_variant_of_civic\"\n",
    "    ] = percent_not_supported_category_variant_of_civic\n",
    "\n",
    "    # Not supported fraction\n",
    "    fraction_not_supported_category_variant_of_total_not_supported = f\"{number_unique_not_supported_category_variants} / {total_number_unique_not_supported_variants}\"\n",
    "    not_supported_variant_categories_summary_data[category][\n",
    "        \"fraction_not_supported_category_variant_of_total_not_supported\"\n",
    "    ] = fraction_not_supported_category_variant_of_total_not_supported\n",
    "\n",
    "    # Not supported percent\n",
    "    percent_not_supported_category_variant_of_total_not_supported = f\"{number_unique_not_supported_category_variants / total_number_unique_not_supported_variants * 100:.2f}%\"\n",
    "    not_supported_variant_categories_summary_data[category][\n",
    "        \"percent_not_supported_category_variant_of_total_not_supported\"\n",
    "    ] = percent_not_supported_category_variant_of_total_not_supported\n",
    "\n",
    "    # Accepted fraction\n",
    "    number_accepted_not_supported_category_variants = category_df.variant_accepted.sum()\n",
    "    fraction_accepted_not_supported_category_variants = f\"{number_accepted_not_supported_category_variants} / {number_unique_not_supported_category_variants}\"\n",
    "    not_supported_variant_categories_summary_data[category][\n",
    "        \"fraction_accepted_not_supported_category_variants\"\n",
    "    ] = fraction_accepted_not_supported_category_variants\n",
    "\n",
    "    # Accepted percent\n",
    "    percentage_accepted_not_supported_category_variants = f\"{number_accepted_not_supported_category_variants / number_unique_not_supported_category_variants * 100:.2f}%\"\n",
    "    not_supported_variant_categories_summary_data[category][\n",
    "        \"percentage_accepted_not_supported_category_variants\"\n",
    "    ] = percentage_accepted_not_supported_category_variants\n",
    "\n",
    "    # Not accepted fraction\n",
    "    number_not_accepted_not_supported_category_variants = (\n",
    "        len(category_df) - number_accepted_not_supported_category_variants\n",
    "    )\n",
    "    fraction_not_accepted_not_supported_category_variants = f\" {number_not_accepted_not_supported_category_variants} / {number_unique_not_supported_category_variants}\"\n",
    "    not_supported_variant_categories_summary_data[category][\n",
    "        \"fraction_not_accepted_not_supported_category_variants\"\n",
    "    ] = fraction_not_accepted_not_supported_category_variants\n",
    "\n",
    "    # Not accepted percent\n",
    "    percentage_not_accepted_not_supported_category_variants = f\"{number_not_accepted_not_supported_category_variants / number_unique_not_supported_category_variants * 100:.2f}%\"\n",
    "    not_supported_variant_categories_summary_data[category][\n",
    "        \"percentage_not_accepted_not_supported_category_variants\"\n",
    "    ] = percentage_not_accepted_not_supported_category_variants\n",
    "\n",
    "    not_supported_variant_analysis_summary[\n",
    "        \"Count of CIViC Variant Items per Category\"\n",
    "    ].append(number_unique_not_supported_category_variants)\n",
    "    not_supported_variant_analysis_summary[\n",
    "        \"Fraction of all CIViC Variant Items\"\n",
    "    ].append(fraction_not_supported_category_variant_of_civic)\n",
    "    not_supported_variant_analysis_summary[\"Percent of all CIViC Variant Items\"].append(\n",
    "        percent_not_supported_category_variant_of_civic\n",
    "    )\n",
    "    not_supported_variant_analysis_summary[\n",
    "        \"Fraction of Not Supported Variant Items\"\n",
    "    ].append(fraction_not_supported_category_variant_of_total_not_supported)\n",
    "    not_supported_variant_analysis_summary[\n",
    "        \"Percent of Not Supported Variant Items\"\n",
    "    ].append(percent_not_supported_category_variant_of_total_not_supported)\n",
    "    not_supported_variant_analysis_summary[\"Fraction of Accepted Variant Items\"].append(\n",
    "        fraction_accepted_not_supported_category_variants\n",
    "    )\n",
    "    not_supported_variant_analysis_summary[\"Percent of Accepted Variant Items\"].append(\n",
    "        percentage_accepted_not_supported_category_variants\n",
    "    )\n",
    "    not_supported_variant_analysis_summary[\n",
    "        \"Fraction of Not Accepted Variant Items\"\n",
    "    ].append(fraction_not_accepted_not_supported_category_variants)\n",
    "    not_supported_variant_analysis_summary[\n",
    "        \"Percent of Not Accepted Variant Items\"\n",
    "    ].append(percentage_not_accepted_not_supported_category_variants)"
   ]
  },
  {
   "cell_type": "markdown",
   "metadata": {},
   "source": [
    "## <a id='toc5_3_'></a>[Transform df for evidence analysis](#toc0_)"
   ]
  },
  {
   "cell_type": "code",
   "execution_count": 46,
   "metadata": {},
   "outputs": [
    {
     "data": {
      "text/html": [
       "<div>\n",
       "<style scoped>\n",
       "    .dataframe tbody tr th:only-of-type {\n",
       "        vertical-align: middle;\n",
       "    }\n",
       "\n",
       "    .dataframe tbody tr th {\n",
       "        vertical-align: top;\n",
       "    }\n",
       "\n",
       "    .dataframe thead th {\n",
       "        text-align: right;\n",
       "    }\n",
       "</style>\n",
       "<table border=\"1\" class=\"dataframe\">\n",
       "  <thead>\n",
       "    <tr style=\"text-align: right;\">\n",
       "      <th></th>\n",
       "      <th>variant_id</th>\n",
       "      <th>gene_name</th>\n",
       "      <th>variant_name</th>\n",
       "      <th>civic_variant_types</th>\n",
       "      <th>category</th>\n",
       "      <th>variant_accepted</th>\n",
       "      <th>evidence_id</th>\n",
       "    </tr>\n",
       "  </thead>\n",
       "  <tbody>\n",
       "    <tr>\n",
       "      <th>0</th>\n",
       "      <td>4170</td>\n",
       "      <td>VHL</td>\n",
       "      <td>NaN</td>\n",
       "      <td>Not provided</td>\n",
       "      <td>Transcript Variants</td>\n",
       "      <td>False</td>\n",
       "      <td>10647</td>\n",
       "    </tr>\n",
       "    <tr>\n",
       "      <th>1</th>\n",
       "      <td>4417</td>\n",
       "      <td>ALK</td>\n",
       "      <td>FBXO11::ALK</td>\n",
       "      <td>Not provided</td>\n",
       "      <td>Fusion Variants</td>\n",
       "      <td>False</td>\n",
       "      <td>7428</td>\n",
       "    </tr>\n",
       "    <tr>\n",
       "      <th>2</th>\n",
       "      <td>4214</td>\n",
       "      <td>VHL</td>\n",
       "      <td>NaN</td>\n",
       "      <td>Not provided</td>\n",
       "      <td>Transcript Variants</td>\n",
       "      <td>False</td>\n",
       "      <td>10752</td>\n",
       "    </tr>\n",
       "    <tr>\n",
       "      <th>3</th>\n",
       "      <td>4216</td>\n",
       "      <td>VHL</td>\n",
       "      <td>NaN</td>\n",
       "      <td>Not provided</td>\n",
       "      <td>Transcript Variants</td>\n",
       "      <td>False</td>\n",
       "      <td>10754</td>\n",
       "    </tr>\n",
       "    <tr>\n",
       "      <th>4</th>\n",
       "      <td>4278</td>\n",
       "      <td>VHL</td>\n",
       "      <td>NaN</td>\n",
       "      <td>Not provided</td>\n",
       "      <td>Transcript Variants</td>\n",
       "      <td>False</td>\n",
       "      <td>10958</td>\n",
       "    </tr>\n",
       "  </tbody>\n",
       "</table>\n",
       "</div>"
      ],
      "text/plain": [
       "   variant_id gene_name  variant_name civic_variant_types  \\\n",
       "0        4170       VHL           NaN        Not provided   \n",
       "1        4417       ALK   FBXO11::ALK        Not provided   \n",
       "2        4214       VHL           NaN        Not provided   \n",
       "3        4216       VHL           NaN        Not provided   \n",
       "4        4278       VHL           NaN        Not provided   \n",
       "\n",
       "              category  variant_accepted evidence_id  \n",
       "0  Transcript Variants             False       10647  \n",
       "1      Fusion Variants             False        7428  \n",
       "2  Transcript Variants             False       10752  \n",
       "3  Transcript Variants             False       10754  \n",
       "4  Transcript Variants             False       10958  "
      ]
     },
     "execution_count": 46,
     "metadata": {},
     "output_type": "execute_result"
    }
   ],
   "source": [
    "not_supported_variants_add_evidence_df = transform_df_evidence_ids(\n",
    "    not_supported_queries_df\n",
    ")\n",
    "not_supported_variants_add_evidence_df.head()"
   ]
  },
  {
   "cell_type": "markdown",
   "metadata": {},
   "source": [
    "There are no variants without evidence items"
   ]
  },
  {
   "cell_type": "code",
   "execution_count": 47,
   "metadata": {},
   "outputs": [
    {
     "data": {
      "text/html": [
       "<div>\n",
       "<style scoped>\n",
       "    .dataframe tbody tr th:only-of-type {\n",
       "        vertical-align: middle;\n",
       "    }\n",
       "\n",
       "    .dataframe tbody tr th {\n",
       "        vertical-align: top;\n",
       "    }\n",
       "\n",
       "    .dataframe thead th {\n",
       "        text-align: right;\n",
       "    }\n",
       "</style>\n",
       "<table border=\"1\" class=\"dataframe\">\n",
       "  <thead>\n",
       "    <tr style=\"text-align: right;\">\n",
       "      <th></th>\n",
       "      <th>variant_id</th>\n",
       "      <th>gene_name</th>\n",
       "      <th>variant_name</th>\n",
       "      <th>civic_variant_types</th>\n",
       "      <th>category</th>\n",
       "      <th>variant_accepted</th>\n",
       "      <th>evidence_id</th>\n",
       "    </tr>\n",
       "  </thead>\n",
       "  <tbody>\n",
       "  </tbody>\n",
       "</table>\n",
       "</div>"
      ],
      "text/plain": [
       "Empty DataFrame\n",
       "Columns: [variant_id, gene_name, variant_name, civic_variant_types, category, variant_accepted, evidence_id]\n",
       "Index: []"
      ]
     },
     "execution_count": 47,
     "metadata": {},
     "output_type": "execute_result"
    }
   ],
   "source": [
    "not_supported_variants_add_evidence_df.loc[\n",
    "    not_supported_variants_add_evidence_df[\"evidence_id\"] == \"\"\n",
    "]"
   ]
  },
  {
   "cell_type": "code",
   "execution_count": 48,
   "metadata": {},
   "outputs": [
    {
     "data": {
      "text/html": [
       "<div>\n",
       "<style scoped>\n",
       "    .dataframe tbody tr th:only-of-type {\n",
       "        vertical-align: middle;\n",
       "    }\n",
       "\n",
       "    .dataframe tbody tr th {\n",
       "        vertical-align: top;\n",
       "    }\n",
       "\n",
       "    .dataframe thead th {\n",
       "        text-align: right;\n",
       "    }\n",
       "</style>\n",
       "<table border=\"1\" class=\"dataframe\">\n",
       "  <thead>\n",
       "    <tr style=\"text-align: right;\">\n",
       "      <th></th>\n",
       "      <th>variant_id</th>\n",
       "      <th>gene_name</th>\n",
       "      <th>variant_name</th>\n",
       "      <th>civic_variant_types</th>\n",
       "      <th>category</th>\n",
       "      <th>variant_accepted</th>\n",
       "      <th>evidence_id</th>\n",
       "      <th>evidence_status</th>\n",
       "      <th>evidence_rating</th>\n",
       "      <th>evidence_level</th>\n",
       "    </tr>\n",
       "  </thead>\n",
       "  <tbody>\n",
       "    <tr>\n",
       "      <th>0</th>\n",
       "      <td>4170</td>\n",
       "      <td>VHL</td>\n",
       "      <td>NaN</td>\n",
       "      <td>Not provided</td>\n",
       "      <td>Transcript Variants</td>\n",
       "      <td>False</td>\n",
       "      <td>10647</td>\n",
       "      <td>submitted</td>\n",
       "      <td>[2]</td>\n",
       "      <td>[C]</td>\n",
       "    </tr>\n",
       "    <tr>\n",
       "      <th>1</th>\n",
       "      <td>4417</td>\n",
       "      <td>ALK</td>\n",
       "      <td>FBXO11::ALK</td>\n",
       "      <td>Not provided</td>\n",
       "      <td>Fusion Variants</td>\n",
       "      <td>False</td>\n",
       "      <td>7428</td>\n",
       "      <td>submitted</td>\n",
       "      <td>[3]</td>\n",
       "      <td>[C]</td>\n",
       "    </tr>\n",
       "    <tr>\n",
       "      <th>2</th>\n",
       "      <td>4214</td>\n",
       "      <td>VHL</td>\n",
       "      <td>NaN</td>\n",
       "      <td>Not provided</td>\n",
       "      <td>Transcript Variants</td>\n",
       "      <td>False</td>\n",
       "      <td>10752</td>\n",
       "      <td>submitted</td>\n",
       "      <td>[3]</td>\n",
       "      <td>[C]</td>\n",
       "    </tr>\n",
       "    <tr>\n",
       "      <th>3</th>\n",
       "      <td>4216</td>\n",
       "      <td>VHL</td>\n",
       "      <td>NaN</td>\n",
       "      <td>Not provided</td>\n",
       "      <td>Transcript Variants</td>\n",
       "      <td>False</td>\n",
       "      <td>10754</td>\n",
       "      <td>submitted</td>\n",
       "      <td>[3]</td>\n",
       "      <td>[C]</td>\n",
       "    </tr>\n",
       "    <tr>\n",
       "      <th>4</th>\n",
       "      <td>4278</td>\n",
       "      <td>VHL</td>\n",
       "      <td>NaN</td>\n",
       "      <td>Not provided</td>\n",
       "      <td>Transcript Variants</td>\n",
       "      <td>False</td>\n",
       "      <td>10958</td>\n",
       "      <td>submitted</td>\n",
       "      <td>[3]</td>\n",
       "      <td>[C]</td>\n",
       "    </tr>\n",
       "  </tbody>\n",
       "</table>\n",
       "</div>"
      ],
      "text/plain": [
       "   variant_id gene_name  variant_name civic_variant_types  \\\n",
       "0        4170       VHL           NaN        Not provided   \n",
       "1        4417       ALK   FBXO11::ALK        Not provided   \n",
       "2        4214       VHL           NaN        Not provided   \n",
       "3        4216       VHL           NaN        Not provided   \n",
       "4        4278       VHL           NaN        Not provided   \n",
       "\n",
       "              category  variant_accepted evidence_id evidence_status  \\\n",
       "0  Transcript Variants             False       10647       submitted   \n",
       "1      Fusion Variants             False        7428       submitted   \n",
       "2  Transcript Variants             False       10752       submitted   \n",
       "3  Transcript Variants             False       10754       submitted   \n",
       "4  Transcript Variants             False       10958       submitted   \n",
       "\n",
       "  evidence_rating evidence_level  \n",
       "0             [2]            [C]  \n",
       "1             [3]            [C]  \n",
       "2             [3]            [C]  \n",
       "3             [3]            [C]  \n",
       "4             [3]            [C]  "
      ]
     },
     "execution_count": 48,
     "metadata": {},
     "output_type": "execute_result"
    }
   ],
   "source": [
    "not_supported_variants_add_evidence_df = transform_df_evidence(\n",
    "    not_supported_variants_add_evidence_df\n",
    ")\n",
    "not_supported_variants_add_evidence_df.head()"
   ]
  },
  {
   "cell_type": "markdown",
   "metadata": {},
   "source": [
    "## <a id='toc5_4_'></a>[Evidence analysis](#toc0_)"
   ]
  },
  {
   "cell_type": "code",
   "execution_count": 49,
   "metadata": {},
   "outputs": [
    {
     "name": "stdout",
     "output_type": "stream",
     "text": [
      "Number of Not Supported Variant Evidence items in CIViC: 4243 / 9920\n",
      "Percentage of Not Supported Variant Evidence items in CIViC: 42.77%\n",
      "\n",
      "Number of accepted Not Supported Variant Evidence items: 2231 / 4243\n",
      "Percentage of accepted Not Supported Variant Evidence items: 52.58%\n",
      "\n",
      "Number of submitted Not Supported Variant Evidence items: 2048 / 4243\n",
      "Percentage of not submitted Not Supported Variant Evidence items: 48.27%\n"
     ]
    },
    {
     "data": {
      "text/html": [
       "<div>\n",
       "<style scoped>\n",
       "    .dataframe tbody tr th:only-of-type {\n",
       "        vertical-align: middle;\n",
       "    }\n",
       "\n",
       "    .dataframe tbody tr th {\n",
       "        vertical-align: top;\n",
       "    }\n",
       "\n",
       "    .dataframe thead th {\n",
       "        text-align: right;\n",
       "    }\n",
       "</style>\n",
       "<table border=\"1\" class=\"dataframe\">\n",
       "  <thead>\n",
       "    <tr style=\"text-align: right;\">\n",
       "      <th></th>\n",
       "      <th>variant_id</th>\n",
       "      <th>gene_name</th>\n",
       "      <th>variant_name</th>\n",
       "      <th>civic_variant_types</th>\n",
       "      <th>category</th>\n",
       "      <th>variant_accepted</th>\n",
       "      <th>evidence_id</th>\n",
       "      <th>evidence_status</th>\n",
       "      <th>evidence_rating</th>\n",
       "      <th>evidence_level</th>\n",
       "      <th>evidence_accepted</th>\n",
       "    </tr>\n",
       "  </thead>\n",
       "  <tbody>\n",
       "    <tr>\n",
       "      <th>0</th>\n",
       "      <td>4170</td>\n",
       "      <td>VHL</td>\n",
       "      <td>NaN</td>\n",
       "      <td>Not provided</td>\n",
       "      <td>Transcript Variants</td>\n",
       "      <td>False</td>\n",
       "      <td>10647</td>\n",
       "      <td>submitted</td>\n",
       "      <td>[2]</td>\n",
       "      <td>[C]</td>\n",
       "      <td>False</td>\n",
       "    </tr>\n",
       "    <tr>\n",
       "      <th>1</th>\n",
       "      <td>4417</td>\n",
       "      <td>ALK</td>\n",
       "      <td>FBXO11::ALK</td>\n",
       "      <td>Not provided</td>\n",
       "      <td>Fusion Variants</td>\n",
       "      <td>False</td>\n",
       "      <td>7428</td>\n",
       "      <td>submitted</td>\n",
       "      <td>[3]</td>\n",
       "      <td>[C]</td>\n",
       "      <td>False</td>\n",
       "    </tr>\n",
       "    <tr>\n",
       "      <th>2</th>\n",
       "      <td>4214</td>\n",
       "      <td>VHL</td>\n",
       "      <td>NaN</td>\n",
       "      <td>Not provided</td>\n",
       "      <td>Transcript Variants</td>\n",
       "      <td>False</td>\n",
       "      <td>10752</td>\n",
       "      <td>submitted</td>\n",
       "      <td>[3]</td>\n",
       "      <td>[C]</td>\n",
       "      <td>False</td>\n",
       "    </tr>\n",
       "    <tr>\n",
       "      <th>3</th>\n",
       "      <td>4216</td>\n",
       "      <td>VHL</td>\n",
       "      <td>NaN</td>\n",
       "      <td>Not provided</td>\n",
       "      <td>Transcript Variants</td>\n",
       "      <td>False</td>\n",
       "      <td>10754</td>\n",
       "      <td>submitted</td>\n",
       "      <td>[3]</td>\n",
       "      <td>[C]</td>\n",
       "      <td>False</td>\n",
       "    </tr>\n",
       "    <tr>\n",
       "      <th>4</th>\n",
       "      <td>4278</td>\n",
       "      <td>VHL</td>\n",
       "      <td>NaN</td>\n",
       "      <td>Not provided</td>\n",
       "      <td>Transcript Variants</td>\n",
       "      <td>False</td>\n",
       "      <td>10958</td>\n",
       "      <td>submitted</td>\n",
       "      <td>[3]</td>\n",
       "      <td>[C]</td>\n",
       "      <td>False</td>\n",
       "    </tr>\n",
       "  </tbody>\n",
       "</table>\n",
       "</div>"
      ],
      "text/plain": [
       "   variant_id gene_name  variant_name civic_variant_types  \\\n",
       "0        4170       VHL           NaN        Not provided   \n",
       "1        4417       ALK   FBXO11::ALK        Not provided   \n",
       "2        4214       VHL           NaN        Not provided   \n",
       "3        4216       VHL           NaN        Not provided   \n",
       "4        4278       VHL           NaN        Not provided   \n",
       "\n",
       "              category  variant_accepted evidence_id evidence_status  \\\n",
       "0  Transcript Variants             False       10647       submitted   \n",
       "1      Fusion Variants             False        7428       submitted   \n",
       "2  Transcript Variants             False       10752       submitted   \n",
       "3  Transcript Variants             False       10754       submitted   \n",
       "4  Transcript Variants             False       10958       submitted   \n",
       "\n",
       "  evidence_rating evidence_level  evidence_accepted  \n",
       "0             [2]            [C]              False  \n",
       "1             [3]            [C]              False  \n",
       "2             [3]            [C]              False  \n",
       "3             [3]            [C]              False  \n",
       "4             [3]            [C]              False  "
      ]
     },
     "execution_count": 49,
     "metadata": {},
     "output_type": "execute_result"
    }
   ],
   "source": [
    "not_supported_variants_add_evidence_df = evidence_analysis1(\n",
    "    not_supported_variants_add_evidence_df, VariantNormType.NOT_SUPPORTED\n",
    ")\n",
    "not_supported_variants_add_evidence_df.head()"
   ]
  },
  {
   "cell_type": "markdown",
   "metadata": {},
   "source": [
    "### <a id='toc5_4_1_'></a>[Not Supported Variant Evidence Analysis by Subcategory](#toc0_)"
   ]
  },
  {
   "cell_type": "markdown",
   "metadata": {},
   "source": [
    " List all the possible variant categories, have to use non unique file since evidence items are used more than once across groups\n"
   ]
  },
  {
   "cell_type": "code",
   "execution_count": 50,
   "metadata": {},
   "outputs": [
    {
     "data": {
      "text/plain": [
       "['Transcript Variants',\n",
       " 'Fusion Variants',\n",
       " 'Rearrangement Variants',\n",
       " 'Sequence Variants',\n",
       " 'Region Defined Variants',\n",
       " 'Other Variants',\n",
       " 'Copy Number Variants',\n",
       " 'Gene Function Variants',\n",
       " 'Expression Variants',\n",
       " 'Genotype Variants',\n",
       " 'Epigenetic Modification']"
      ]
     },
     "execution_count": 50,
     "metadata": {},
     "output_type": "execute_result"
    }
   ],
   "source": [
    "not_supported_variant_categories = (\n",
    "    not_supported_variants_add_evidence_df.category.unique()\n",
    ")\n",
    "[v for v in not_supported_variant_categories]"
   ]
  },
  {
   "cell_type": "markdown",
   "metadata": {},
   "source": [
    "Evidence items may be used across multiple variants"
   ]
  },
  {
   "cell_type": "code",
   "execution_count": 51,
   "metadata": {},
   "outputs": [
    {
     "data": {
      "text/html": [
       "<div>\n",
       "<style scoped>\n",
       "    .dataframe tbody tr th:only-of-type {\n",
       "        vertical-align: middle;\n",
       "    }\n",
       "\n",
       "    .dataframe tbody tr th {\n",
       "        vertical-align: top;\n",
       "    }\n",
       "\n",
       "    .dataframe thead th {\n",
       "        text-align: right;\n",
       "    }\n",
       "</style>\n",
       "<table border=\"1\" class=\"dataframe\">\n",
       "  <thead>\n",
       "    <tr style=\"text-align: right;\">\n",
       "      <th></th>\n",
       "      <th>variant_id</th>\n",
       "      <th>gene_name</th>\n",
       "      <th>variant_name</th>\n",
       "      <th>civic_variant_types</th>\n",
       "      <th>category</th>\n",
       "      <th>variant_accepted</th>\n",
       "      <th>evidence_id</th>\n",
       "      <th>evidence_status</th>\n",
       "      <th>evidence_rating</th>\n",
       "      <th>evidence_level</th>\n",
       "      <th>evidence_accepted</th>\n",
       "    </tr>\n",
       "  </thead>\n",
       "  <tbody>\n",
       "    <tr>\n",
       "      <th>52</th>\n",
       "      <td>1</td>\n",
       "      <td>ABL1</td>\n",
       "      <td>BCR::ABL</td>\n",
       "      <td>Transcript Fusion</td>\n",
       "      <td>Fusion Variants</td>\n",
       "      <td>True</td>\n",
       "      <td>11341</td>\n",
       "      <td>submitted</td>\n",
       "      <td>[4]</td>\n",
       "      <td>[A]</td>\n",
       "      <td>False</td>\n",
       "    </tr>\n",
       "    <tr>\n",
       "      <th>112</th>\n",
       "      <td>4497</td>\n",
       "      <td>FGFR1</td>\n",
       "      <td>BCR::FGFR1</td>\n",
       "      <td>Not provided</td>\n",
       "      <td>Fusion Variants</td>\n",
       "      <td>False</td>\n",
       "      <td>11324</td>\n",
       "      <td>submitted</td>\n",
       "      <td>[3]</td>\n",
       "      <td>[B]</td>\n",
       "      <td>False</td>\n",
       "    </tr>\n",
       "    <tr>\n",
       "      <th>176</th>\n",
       "      <td>437</td>\n",
       "      <td>FLT3</td>\n",
       "      <td>D835</td>\n",
       "      <td>Protein Altering Variant</td>\n",
       "      <td>Sequence Variants</td>\n",
       "      <td>True</td>\n",
       "      <td>11260</td>\n",
       "      <td>submitted</td>\n",
       "      <td>[4]</td>\n",
       "      <td>[A]</td>\n",
       "      <td>False</td>\n",
       "    </tr>\n",
       "    <tr>\n",
       "      <th>176</th>\n",
       "      <td>437</td>\n",
       "      <td>FLT3</td>\n",
       "      <td>D835</td>\n",
       "      <td>Protein Altering Variant</td>\n",
       "      <td>Sequence Variants</td>\n",
       "      <td>True</td>\n",
       "      <td>11261</td>\n",
       "      <td>submitted</td>\n",
       "      <td>[4]</td>\n",
       "      <td>[A]</td>\n",
       "      <td>False</td>\n",
       "    </tr>\n",
       "    <tr>\n",
       "      <th>198</th>\n",
       "      <td>200</td>\n",
       "      <td>IKZF1</td>\n",
       "      <td>Deletion</td>\n",
       "      <td>Transcript Ablation</td>\n",
       "      <td>Gene Function Variants</td>\n",
       "      <td>True</td>\n",
       "      <td>7786</td>\n",
       "      <td>submitted</td>\n",
       "      <td>[5]</td>\n",
       "      <td>[B]</td>\n",
       "      <td>False</td>\n",
       "    </tr>\n",
       "    <tr>\n",
       "      <th>...</th>\n",
       "      <td>...</td>\n",
       "      <td>...</td>\n",
       "      <td>...</td>\n",
       "      <td>...</td>\n",
       "      <td>...</td>\n",
       "      <td>...</td>\n",
       "      <td>...</td>\n",
       "      <td>...</td>\n",
       "      <td>...</td>\n",
       "      <td>...</td>\n",
       "      <td>...</td>\n",
       "    </tr>\n",
       "    <tr>\n",
       "      <th>1322</th>\n",
       "      <td>4389</td>\n",
       "      <td>ALK</td>\n",
       "      <td>T1151dup</td>\n",
       "      <td>Inframe Insertion</td>\n",
       "      <td>Copy Number Variants</td>\n",
       "      <td>True</td>\n",
       "      <td>4608</td>\n",
       "      <td>submitted</td>\n",
       "      <td>[2]</td>\n",
       "      <td>[D]</td>\n",
       "      <td>False</td>\n",
       "    </tr>\n",
       "    <tr>\n",
       "      <th>1344</th>\n",
       "      <td>2371</td>\n",
       "      <td>ABL1</td>\n",
       "      <td>TKD MUTATION</td>\n",
       "      <td>Not provided</td>\n",
       "      <td>Gene Function Variants</td>\n",
       "      <td>True</td>\n",
       "      <td>11339</td>\n",
       "      <td>submitted</td>\n",
       "      <td>[4]</td>\n",
       "      <td>[B]</td>\n",
       "      <td>False</td>\n",
       "    </tr>\n",
       "    <tr>\n",
       "      <th>1367</th>\n",
       "      <td>4500</td>\n",
       "      <td>FGFR1</td>\n",
       "      <td>Translocation</td>\n",
       "      <td>Not provided</td>\n",
       "      <td>Rearrangement Variants</td>\n",
       "      <td>False</td>\n",
       "      <td>11324</td>\n",
       "      <td>submitted</td>\n",
       "      <td>[3]</td>\n",
       "      <td>[B]</td>\n",
       "      <td>False</td>\n",
       "    </tr>\n",
       "    <tr>\n",
       "      <th>1480</th>\n",
       "      <td>4528</td>\n",
       "      <td>ZFTA</td>\n",
       "      <td>ZFTA::RELA</td>\n",
       "      <td>Not provided</td>\n",
       "      <td>Fusion Variants</td>\n",
       "      <td>True</td>\n",
       "      <td>11446</td>\n",
       "      <td>submitted</td>\n",
       "      <td>[3]</td>\n",
       "      <td>[B]</td>\n",
       "      <td>False</td>\n",
       "    </tr>\n",
       "    <tr>\n",
       "      <th>1490</th>\n",
       "      <td>4466</td>\n",
       "      <td>TERT</td>\n",
       "      <td>NaN</td>\n",
       "      <td>Not provided</td>\n",
       "      <td>Transcript Variants</td>\n",
       "      <td>False</td>\n",
       "      <td>11278</td>\n",
       "      <td>submitted</td>\n",
       "      <td>[2]</td>\n",
       "      <td>[C]</td>\n",
       "      <td>False</td>\n",
       "    </tr>\n",
       "  </tbody>\n",
       "</table>\n",
       "<p>72 rows × 11 columns</p>\n",
       "</div>"
      ],
      "text/plain": [
       "      variant_id gene_name   variant_name       civic_variant_types  \\\n",
       "52             1      ABL1       BCR::ABL         Transcript Fusion   \n",
       "112         4497     FGFR1     BCR::FGFR1              Not provided   \n",
       "176          437      FLT3           D835  Protein Altering Variant   \n",
       "176          437      FLT3           D835  Protein Altering Variant   \n",
       "198          200     IKZF1       Deletion       Transcript Ablation   \n",
       "...          ...       ...            ...                       ...   \n",
       "1322        4389       ALK       T1151dup         Inframe Insertion   \n",
       "1344        2371      ABL1   TKD MUTATION              Not provided   \n",
       "1367        4500     FGFR1  Translocation              Not provided   \n",
       "1480        4528      ZFTA     ZFTA::RELA              Not provided   \n",
       "1490        4466      TERT            NaN              Not provided   \n",
       "\n",
       "                    category  variant_accepted evidence_id evidence_status  \\\n",
       "52           Fusion Variants              True       11341       submitted   \n",
       "112          Fusion Variants             False       11324       submitted   \n",
       "176        Sequence Variants              True       11260       submitted   \n",
       "176        Sequence Variants              True       11261       submitted   \n",
       "198   Gene Function Variants              True        7786       submitted   \n",
       "...                      ...               ...         ...             ...   \n",
       "1322    Copy Number Variants              True        4608       submitted   \n",
       "1344  Gene Function Variants              True       11339       submitted   \n",
       "1367  Rearrangement Variants             False       11324       submitted   \n",
       "1480         Fusion Variants              True       11446       submitted   \n",
       "1490     Transcript Variants             False       11278       submitted   \n",
       "\n",
       "     evidence_rating evidence_level  evidence_accepted  \n",
       "52               [4]            [A]              False  \n",
       "112              [3]            [B]              False  \n",
       "176              [4]            [A]              False  \n",
       "176              [4]            [A]              False  \n",
       "198              [5]            [B]              False  \n",
       "...              ...            ...                ...  \n",
       "1322             [2]            [D]              False  \n",
       "1344             [4]            [B]              False  \n",
       "1367             [3]            [B]              False  \n",
       "1480             [3]            [B]              False  \n",
       "1490             [2]            [C]              False  \n",
       "\n",
       "[72 rows x 11 columns]"
      ]
     },
     "execution_count": 51,
     "metadata": {},
     "output_type": "execute_result"
    }
   ],
   "source": [
    "duplicate = not_supported_variants_add_evidence_df[\n",
    "    not_supported_variants_add_evidence_df.duplicated(\"evidence_id\", keep=False)\n",
    "]\n",
    "duplicate"
   ]
  },
  {
   "cell_type": "code",
   "execution_count": 52,
   "metadata": {},
   "outputs": [],
   "source": [
    "not_supported_variant_evidence_summary = {\n",
    "    \"Category\": VARIANT_CATEGORY_VALUES,\n",
    "    \"Count of CIViC Evidence Items per Category\": [],\n",
    "    \"Fraction of CIViC Evidence Items\": [],\n",
    "    \"Percent of all CIViC Evidence Items\": [],\n",
    "    \"Fraction of Not Supported Variant Evidence Items\": [],\n",
    "    \"Percent of Not Supported Variant Evidence Items\": [],\n",
    "    \"Fraction of Accepted Evidence Items\": [],\n",
    "    \"Percent of Accepted Evidence Items\": [],\n",
    "    \"Fraction of Submitted Evidence Items\": [],\n",
    "    \"Percent of Submitted Evidence Items\": [],\n",
    "}"
   ]
  },
  {
   "cell_type": "code",
   "execution_count": 53,
   "metadata": {},
   "outputs": [],
   "source": [
    "not_supported_variant_categories_evidence_summary_data = dict()\n",
    "total_number_not_supported_variant_unique_evidence_items = len(\n",
    "    set(not_supported_variants_add_evidence_df.evidence_id)\n",
    ")\n",
    "\n",
    "for category in VARIANT_CATEGORY_VALUES:\n",
    "    not_supported_variant_categories_evidence_summary_data[category] = {}\n",
    "    evidence_category_df = not_supported_variants_add_evidence_df[\n",
    "        not_supported_variants_add_evidence_df.category == category\n",
    "    ]\n",
    "    evidence_category_df = evidence_category_df.drop_duplicates(subset=[\"evidence_id\", \"category\"])\n",
    "\n",
    "    # Count\n",
    "    number_unique_not_supported_category_evidence = len(\n",
    "        set(evidence_category_df.evidence_id)\n",
    "    )\n",
    "    not_supported_variant_categories_evidence_summary_data[category][\n",
    "        \"number_unique_not_supported_category_evidence\"\n",
    "    ] = number_unique_not_supported_category_evidence\n",
    "\n",
    "    # Fraction\n",
    "    fraction_not_supported_category_variant_evidence_of_civic = (\n",
    "        f\"{number_unique_not_supported_category_evidence} / {total_ac_sub_evidence}\"\n",
    "    )\n",
    "    not_supported_variant_categories_evidence_summary_data[category][\n",
    "        \"fraction_not_supported_category_variant_evidence_of_civic\"\n",
    "    ] = fraction_not_supported_category_variant_evidence_of_civic\n",
    "\n",
    "    # Percent\n",
    "    percent_not_supported_category_variant_evidence_of_civic = f\"{number_unique_not_supported_category_evidence / total_ac_sub_evidence * 100:.2f}%\"\n",
    "    not_supported_variant_categories_evidence_summary_data[category][\n",
    "        \"percent_not_supported_category_variant_evidence_of_civic\"\n",
    "    ] = percent_not_supported_category_variant_evidence_of_civic\n",
    "\n",
    "    # Not supported fraction\n",
    "    fraction_not_supported_category_variant_evidence_of_total_not_supported = f\"{number_unique_not_supported_category_evidence} / {total_number_not_supported_variant_unique_evidence_items}\"\n",
    "    not_supported_variant_categories_evidence_summary_data[category][\n",
    "        \"fraction_not_supported_category_variant_evidence_of_total_not_supported\"\n",
    "    ] = fraction_not_supported_category_variant_evidence_of_total_not_supported\n",
    "\n",
    "    # Not supported percent\n",
    "    percent_not_supported_category_variant_evidence_of_total_not_supported = f\"{number_unique_not_supported_category_evidence / total_number_not_supported_variant_unique_evidence_items * 100:.2f}%\"\n",
    "    not_supported_variant_categories_evidence_summary_data[category][\n",
    "        \"percent_not_supported_category_variant_evidence_of_total_not_supported\"\n",
    "    ] = percent_not_supported_category_variant_evidence_of_total_not_supported\n",
    "\n",
    "    # Accepted fraction\n",
    "    number_accepted_not_supported_category_variant_evidence = (\n",
    "        evidence_category_df.evidence_accepted.sum()\n",
    "    )\n",
    "    fraction_accepted_evidence_not_supported_category_variants = f\"{number_accepted_not_supported_category_variant_evidence} / {number_unique_not_supported_category_evidence}\"\n",
    "    not_supported_variant_categories_evidence_summary_data[category][\n",
    "        \"fraction_accepted_evidence_not_supported_category_variants\"\n",
    "    ] = fraction_accepted_evidence_not_supported_category_variants\n",
    "\n",
    "    # Accepted percent\n",
    "    percentage_accepted_evidence_not_supported_category_variants = f\"{number_accepted_not_supported_category_variant_evidence / number_unique_not_supported_category_evidence * 100:.2f}%\"\n",
    "    not_supported_variant_categories_evidence_summary_data[category][\n",
    "        \"percentage_accepted_evidence_not_supported_category_variants\"\n",
    "    ] = percentage_accepted_evidence_not_supported_category_variants\n",
    "\n",
    "    # Submitted fraction\n",
    "    number_submitted_not_supported_category_variant_evidence = (\n",
    "        number_unique_not_supported_category_evidence\n",
    "        - evidence_category_df.evidence_accepted.sum()\n",
    "    )\n",
    "    fraction_submitted_evidence_not_supported_category_variants = f\"{number_submitted_not_supported_category_variant_evidence} / {number_unique_not_supported_category_evidence}\"\n",
    "    not_supported_variant_categories_evidence_summary_data[category][\n",
    "        \"fraction_submitted_evidence_not_supported_category_variants\"\n",
    "    ] = fraction_submitted_evidence_not_supported_category_variants\n",
    "\n",
    "    # Submitted percent\n",
    "    percentage_submitted_evidence_not_supported_category_variants = f\"{number_submitted_not_supported_category_variant_evidence / number_unique_not_supported_category_evidence * 100:.2f}%\"\n",
    "    not_supported_variant_categories_evidence_summary_data[category][\n",
    "        \"percentage_submitted_evidence_not_supported_category_variants\"\n",
    "    ] = percentage_submitted_evidence_not_supported_category_variants\n",
    "\n",
    "    not_supported_variant_evidence_summary[\n",
    "        \"Count of CIViC Evidence Items per Category\"\n",
    "    ].append(number_unique_not_supported_category_evidence)\n",
    "    not_supported_variant_evidence_summary[\"Fraction of CIViC Evidence Items\"].append(\n",
    "        fraction_not_supported_category_variant_evidence_of_civic\n",
    "    )\n",
    "    not_supported_variant_evidence_summary[\n",
    "        \"Percent of all CIViC Evidence Items\"\n",
    "    ].append(percent_not_supported_category_variant_evidence_of_civic)\n",
    "    not_supported_variant_evidence_summary[\n",
    "        \"Fraction of Not Supported Variant Evidence Items\"\n",
    "    ].append(fraction_not_supported_category_variant_evidence_of_total_not_supported)\n",
    "    not_supported_variant_evidence_summary[\n",
    "        \"Percent of Not Supported Variant Evidence Items\"\n",
    "    ].append(percent_not_supported_category_variant_evidence_of_total_not_supported)\n",
    "    not_supported_variant_evidence_summary[\n",
    "        \"Fraction of Accepted Evidence Items\"\n",
    "    ].append(fraction_accepted_evidence_not_supported_category_variants)\n",
    "    not_supported_variant_evidence_summary[\"Percent of Accepted Evidence Items\"].append(\n",
    "        percentage_accepted_evidence_not_supported_category_variants\n",
    "    )\n",
    "    not_supported_variant_evidence_summary[\n",
    "        \"Fraction of Submitted Evidence Items\"\n",
    "    ].append(fraction_submitted_evidence_not_supported_category_variants)\n",
    "    not_supported_variant_evidence_summary[\n",
    "        \"Percent of Submitted Evidence Items\"\n",
    "    ].append(percentage_submitted_evidence_not_supported_category_variants)"
   ]
  },
  {
   "cell_type": "markdown",
   "metadata": {},
   "source": [
    "## <a id='toc5_5_'></a>[Impact](#toc0_)"
   ]
  },
  {
   "cell_type": "markdown",
   "metadata": {},
   "source": [
    "### <a id='toc5_5_1_'></a>[Via Evidence Level](#toc0_)"
   ]
  },
  {
   "cell_type": "markdown",
   "metadata": {},
   "source": [
    "#### <a id='toc5_5_1_1_'></a>[Analysis with only Accepted Variants](#toc0_)"
   ]
  },
  {
   "cell_type": "markdown",
   "metadata": {},
   "source": [
    "accepted variant = a variant with at least one evidence item that is accepted"
   ]
  },
  {
   "cell_type": "code",
   "execution_count": 54,
   "metadata": {},
   "outputs": [],
   "source": [
    "ns_var_w_evid_df = not_supported_variants_add_evidence_df.copy()"
   ]
  },
  {
   "cell_type": "markdown",
   "metadata": {},
   "source": [
    "There are no variants without an evidence status"
   ]
  },
  {
   "cell_type": "code",
   "execution_count": 55,
   "metadata": {},
   "outputs": [
    {
     "data": {
      "text/html": [
       "<div>\n",
       "<style scoped>\n",
       "    .dataframe tbody tr th:only-of-type {\n",
       "        vertical-align: middle;\n",
       "    }\n",
       "\n",
       "    .dataframe tbody tr th {\n",
       "        vertical-align: top;\n",
       "    }\n",
       "\n",
       "    .dataframe thead th {\n",
       "        text-align: right;\n",
       "    }\n",
       "</style>\n",
       "<table border=\"1\" class=\"dataframe\">\n",
       "  <thead>\n",
       "    <tr style=\"text-align: right;\">\n",
       "      <th></th>\n",
       "      <th>variant_id</th>\n",
       "      <th>gene_name</th>\n",
       "      <th>variant_name</th>\n",
       "      <th>civic_variant_types</th>\n",
       "      <th>category</th>\n",
       "      <th>variant_accepted</th>\n",
       "      <th>evidence_id</th>\n",
       "      <th>evidence_status</th>\n",
       "      <th>evidence_rating</th>\n",
       "      <th>evidence_level</th>\n",
       "      <th>evidence_accepted</th>\n",
       "    </tr>\n",
       "  </thead>\n",
       "  <tbody>\n",
       "  </tbody>\n",
       "</table>\n",
       "</div>"
      ],
      "text/plain": [
       "Empty DataFrame\n",
       "Columns: [variant_id, gene_name, variant_name, civic_variant_types, category, variant_accepted, evidence_id, evidence_status, evidence_rating, evidence_level, evidence_accepted]\n",
       "Index: []"
      ]
     },
     "execution_count": 55,
     "metadata": {},
     "output_type": "execute_result"
    }
   ],
   "source": [
    "df_na = ns_var_w_evid_df[(ns_var_w_evid_df[(\"evidence_accepted\")]!=False) & ns_var_w_evid_df[\"evidence_accepted\"].isna()].copy()\n",
    "df_na"
   ]
  },
  {
   "cell_type": "markdown",
   "metadata": {},
   "source": [
    "Selecting only variants with at least one accepted evidence item (Accepted Variants)"
   ]
  },
  {
   "cell_type": "code",
   "execution_count": 56,
   "metadata": {},
   "outputs": [],
   "source": [
    "ns_var_w_acc_evid_df = ns_var_w_evid_df[(ns_var_w_evid_df[(\"evidence_accepted\")]!=False) & ns_var_w_evid_df[\"evidence_accepted\"].notna()].copy()"
   ]
  },
  {
   "cell_type": "markdown",
   "metadata": {},
   "source": [
    "##### <a id='toc5_5_1_1_1_'></a>[Calculating evidence score via level](#toc0_)"
   ]
  },
  {
   "cell_type": "code",
   "execution_count": 57,
   "metadata": {},
   "outputs": [
    {
     "data": {
      "text/html": [
       "<div>\n",
       "<style scoped>\n",
       "    .dataframe tbody tr th:only-of-type {\n",
       "        vertical-align: middle;\n",
       "    }\n",
       "\n",
       "    .dataframe tbody tr th {\n",
       "        vertical-align: top;\n",
       "    }\n",
       "\n",
       "    .dataframe thead th {\n",
       "        text-align: right;\n",
       "    }\n",
       "</style>\n",
       "<table border=\"1\" class=\"dataframe\">\n",
       "  <thead>\n",
       "    <tr style=\"text-align: right;\">\n",
       "      <th></th>\n",
       "      <th>variant_id</th>\n",
       "      <th>gene_name</th>\n",
       "      <th>variant_name</th>\n",
       "      <th>civic_variant_types</th>\n",
       "      <th>category</th>\n",
       "      <th>variant_accepted</th>\n",
       "      <th>evidence_id</th>\n",
       "      <th>evidence_status</th>\n",
       "      <th>evidence_rating</th>\n",
       "      <th>evidence_level</th>\n",
       "      <th>evidence_accepted</th>\n",
       "      <th>evidence_score</th>\n",
       "    </tr>\n",
       "  </thead>\n",
       "  <tbody>\n",
       "    <tr>\n",
       "      <th>7</th>\n",
       "      <td>2930</td>\n",
       "      <td>VHL</td>\n",
       "      <td>NaN</td>\n",
       "      <td>Not provided</td>\n",
       "      <td>Transcript Variants</td>\n",
       "      <td>True</td>\n",
       "      <td>7892</td>\n",
       "      <td>accepted</td>\n",
       "      <td>[3]</td>\n",
       "      <td>[C]</td>\n",
       "      <td>True</td>\n",
       "      <td></td>\n",
       "    </tr>\n",
       "    <tr>\n",
       "      <th>9</th>\n",
       "      <td>785</td>\n",
       "      <td>CHEK2</td>\n",
       "      <td>1100DELC</td>\n",
       "      <td>Frameshift Truncation</td>\n",
       "      <td>Sequence Variants</td>\n",
       "      <td>True</td>\n",
       "      <td>1850</td>\n",
       "      <td>accepted</td>\n",
       "      <td>[3]</td>\n",
       "      <td>[B]</td>\n",
       "      <td>True</td>\n",
       "      <td></td>\n",
       "    </tr>\n",
       "    <tr>\n",
       "      <th>12</th>\n",
       "      <td>823</td>\n",
       "      <td>EPCAM</td>\n",
       "      <td>3' Exon Deletion</td>\n",
       "      <td>Disruptive Inframe Deletion</td>\n",
       "      <td>Rearrangement Variants</td>\n",
       "      <td>True</td>\n",
       "      <td>1901</td>\n",
       "      <td>accepted</td>\n",
       "      <td>[4]</td>\n",
       "      <td>[B]</td>\n",
       "      <td>True</td>\n",
       "      <td></td>\n",
       "    </tr>\n",
       "    <tr>\n",
       "      <th>13</th>\n",
       "      <td>433</td>\n",
       "      <td>HIF1A</td>\n",
       "      <td>3' UTR Polymorphism</td>\n",
       "      <td>3 Prime UTR Variant;Snp</td>\n",
       "      <td>Region Defined Variants</td>\n",
       "      <td>True</td>\n",
       "      <td>1031</td>\n",
       "      <td>accepted</td>\n",
       "      <td>[2]</td>\n",
       "      <td>[B]</td>\n",
       "      <td>True</td>\n",
       "      <td></td>\n",
       "    </tr>\n",
       "    <tr>\n",
       "      <th>15</th>\n",
       "      <td>2367</td>\n",
       "      <td>VHL</td>\n",
       "      <td>3p26.3-25.3 11Mb del</td>\n",
       "      <td>Not provided</td>\n",
       "      <td>Rearrangement Variants</td>\n",
       "      <td>True</td>\n",
       "      <td>6287</td>\n",
       "      <td>accepted</td>\n",
       "      <td>[3]</td>\n",
       "      <td>[C]</td>\n",
       "      <td>True</td>\n",
       "      <td></td>\n",
       "    </tr>\n",
       "    <tr>\n",
       "      <th>...</th>\n",
       "      <td>...</td>\n",
       "      <td>...</td>\n",
       "      <td>...</td>\n",
       "      <td>...</td>\n",
       "      <td>...</td>\n",
       "      <td>...</td>\n",
       "      <td>...</td>\n",
       "      <td>...</td>\n",
       "      <td>...</td>\n",
       "      <td>...</td>\n",
       "      <td>...</td>\n",
       "      <td>...</td>\n",
       "    </tr>\n",
       "    <tr>\n",
       "      <th>1543</th>\n",
       "      <td>272</td>\n",
       "      <td>CDKN2A</td>\n",
       "      <td>p16 Expression</td>\n",
       "      <td>NaN</td>\n",
       "      <td>Expression Variants</td>\n",
       "      <td>True</td>\n",
       "      <td>1314</td>\n",
       "      <td>accepted</td>\n",
       "      <td>[2]</td>\n",
       "      <td>[B]</td>\n",
       "      <td>True</td>\n",
       "      <td></td>\n",
       "    </tr>\n",
       "    <tr>\n",
       "      <th>1545</th>\n",
       "      <td>3313</td>\n",
       "      <td>CDKN1A</td>\n",
       "      <td>rs1059234</td>\n",
       "      <td>Not provided</td>\n",
       "      <td>Other Variants</td>\n",
       "      <td>True</td>\n",
       "      <td>9244</td>\n",
       "      <td>accepted</td>\n",
       "      <td>[3]</td>\n",
       "      <td>[B]</td>\n",
       "      <td>True</td>\n",
       "      <td></td>\n",
       "    </tr>\n",
       "    <tr>\n",
       "      <th>1547</th>\n",
       "      <td>256</td>\n",
       "      <td>KIT</td>\n",
       "      <td>rs17084733</td>\n",
       "      <td>3 Prime UTR Variant</td>\n",
       "      <td>Other Variants</td>\n",
       "      <td>True</td>\n",
       "      <td>666</td>\n",
       "      <td>accepted</td>\n",
       "      <td>[3]</td>\n",
       "      <td>[B]</td>\n",
       "      <td>True</td>\n",
       "      <td></td>\n",
       "    </tr>\n",
       "    <tr>\n",
       "      <th>1548</th>\n",
       "      <td>2671</td>\n",
       "      <td>CDKN1A</td>\n",
       "      <td>rs1801270</td>\n",
       "      <td>Not provided</td>\n",
       "      <td>Other Variants</td>\n",
       "      <td>True</td>\n",
       "      <td>7227</td>\n",
       "      <td>accepted</td>\n",
       "      <td>[3]</td>\n",
       "      <td>[B]</td>\n",
       "      <td>True</td>\n",
       "      <td></td>\n",
       "    </tr>\n",
       "    <tr>\n",
       "      <th>1550</th>\n",
       "      <td>705</td>\n",
       "      <td>GADD45A</td>\n",
       "      <td>rs681673</td>\n",
       "      <td>Coding Transcript Intron Variant</td>\n",
       "      <td>Other Variants</td>\n",
       "      <td>True</td>\n",
       "      <td>1751</td>\n",
       "      <td>accepted</td>\n",
       "      <td>[3]</td>\n",
       "      <td>[B]</td>\n",
       "      <td>True</td>\n",
       "      <td></td>\n",
       "    </tr>\n",
       "  </tbody>\n",
       "</table>\n",
       "<p>2231 rows × 12 columns</p>\n",
       "</div>"
      ],
      "text/plain": [
       "      variant_id gene_name          variant_name  \\\n",
       "7           2930       VHL                   NaN   \n",
       "9            785     CHEK2              1100DELC   \n",
       "12           823     EPCAM      3' Exon Deletion   \n",
       "13           433     HIF1A   3' UTR Polymorphism   \n",
       "15          2367       VHL  3p26.3-25.3 11Mb del   \n",
       "...          ...       ...                   ...   \n",
       "1543         272    CDKN2A        p16 Expression   \n",
       "1545        3313    CDKN1A             rs1059234   \n",
       "1547         256       KIT            rs17084733   \n",
       "1548        2671    CDKN1A             rs1801270   \n",
       "1550         705   GADD45A              rs681673   \n",
       "\n",
       "                   civic_variant_types                 category  \\\n",
       "7                         Not provided      Transcript Variants   \n",
       "9                Frameshift Truncation        Sequence Variants   \n",
       "12         Disruptive Inframe Deletion   Rearrangement Variants   \n",
       "13             3 Prime UTR Variant;Snp  Region Defined Variants   \n",
       "15                        Not provided   Rearrangement Variants   \n",
       "...                                ...                      ...   \n",
       "1543                               NaN      Expression Variants   \n",
       "1545                      Not provided           Other Variants   \n",
       "1547               3 Prime UTR Variant           Other Variants   \n",
       "1548                      Not provided           Other Variants   \n",
       "1550  Coding Transcript Intron Variant           Other Variants   \n",
       "\n",
       "      variant_accepted evidence_id evidence_status evidence_rating  \\\n",
       "7                 True        7892        accepted             [3]   \n",
       "9                 True        1850        accepted             [3]   \n",
       "12                True        1901        accepted             [4]   \n",
       "13                True        1031        accepted             [2]   \n",
       "15                True        6287        accepted             [3]   \n",
       "...                ...         ...             ...             ...   \n",
       "1543              True        1314        accepted             [2]   \n",
       "1545              True        9244        accepted             [3]   \n",
       "1547              True         666        accepted             [3]   \n",
       "1548              True        7227        accepted             [3]   \n",
       "1550              True        1751        accepted             [3]   \n",
       "\n",
       "     evidence_level  evidence_accepted evidence_score  \n",
       "7               [C]               True                 \n",
       "9               [B]               True                 \n",
       "12              [B]               True                 \n",
       "13              [B]               True                 \n",
       "15              [C]               True                 \n",
       "...             ...                ...            ...  \n",
       "1543            [B]               True                 \n",
       "1545            [B]               True                 \n",
       "1547            [B]               True                 \n",
       "1548            [B]               True                 \n",
       "1550            [B]               True                 \n",
       "\n",
       "[2231 rows x 12 columns]"
      ]
     },
     "execution_count": 57,
     "metadata": {},
     "output_type": "execute_result"
    }
   ],
   "source": [
    "ns_var_w_acc_evid_df[\"evidence_score\"] = ''\n",
    "ns_var_w_acc_evid_df"
   ]
  },
  {
   "cell_type": "code",
   "execution_count": 58,
   "metadata": {},
   "outputs": [],
   "source": [
    "evidence_level_to_impact = {\"A\": 10, \"B\": 5, \"C\": 3, \"D\": 1, \"E\": 0.5}"
   ]
  },
  {
   "cell_type": "code",
   "execution_count": 59,
   "metadata": {},
   "outputs": [],
   "source": [
    "ns_var_w_acc_evid_df[\"evidence_level\"] = ns_var_w_acc_evid_df[\"evidence_level\"].apply(lambda x: x[0])"
   ]
  },
  {
   "cell_type": "code",
   "execution_count": 60,
   "metadata": {},
   "outputs": [
    {
     "data": {
      "text/html": [
       "<div>\n",
       "<style scoped>\n",
       "    .dataframe tbody tr th:only-of-type {\n",
       "        vertical-align: middle;\n",
       "    }\n",
       "\n",
       "    .dataframe tbody tr th {\n",
       "        vertical-align: top;\n",
       "    }\n",
       "\n",
       "    .dataframe thead th {\n",
       "        text-align: right;\n",
       "    }\n",
       "</style>\n",
       "<table border=\"1\" class=\"dataframe\">\n",
       "  <thead>\n",
       "    <tr style=\"text-align: right;\">\n",
       "      <th></th>\n",
       "      <th>variant_id</th>\n",
       "      <th>gene_name</th>\n",
       "      <th>variant_name</th>\n",
       "      <th>civic_variant_types</th>\n",
       "      <th>category</th>\n",
       "      <th>variant_accepted</th>\n",
       "      <th>evidence_id</th>\n",
       "      <th>evidence_status</th>\n",
       "      <th>evidence_rating</th>\n",
       "      <th>evidence_level</th>\n",
       "      <th>evidence_accepted</th>\n",
       "      <th>evidence_score</th>\n",
       "    </tr>\n",
       "  </thead>\n",
       "  <tbody>\n",
       "    <tr>\n",
       "      <th>7</th>\n",
       "      <td>2930</td>\n",
       "      <td>VHL</td>\n",
       "      <td>NaN</td>\n",
       "      <td>Not provided</td>\n",
       "      <td>Transcript Variants</td>\n",
       "      <td>True</td>\n",
       "      <td>7892</td>\n",
       "      <td>accepted</td>\n",
       "      <td>[3]</td>\n",
       "      <td>C</td>\n",
       "      <td>True</td>\n",
       "      <td>3.0</td>\n",
       "    </tr>\n",
       "    <tr>\n",
       "      <th>9</th>\n",
       "      <td>785</td>\n",
       "      <td>CHEK2</td>\n",
       "      <td>1100DELC</td>\n",
       "      <td>Frameshift Truncation</td>\n",
       "      <td>Sequence Variants</td>\n",
       "      <td>True</td>\n",
       "      <td>1850</td>\n",
       "      <td>accepted</td>\n",
       "      <td>[3]</td>\n",
       "      <td>B</td>\n",
       "      <td>True</td>\n",
       "      <td>5.0</td>\n",
       "    </tr>\n",
       "    <tr>\n",
       "      <th>12</th>\n",
       "      <td>823</td>\n",
       "      <td>EPCAM</td>\n",
       "      <td>3' Exon Deletion</td>\n",
       "      <td>Disruptive Inframe Deletion</td>\n",
       "      <td>Rearrangement Variants</td>\n",
       "      <td>True</td>\n",
       "      <td>1901</td>\n",
       "      <td>accepted</td>\n",
       "      <td>[4]</td>\n",
       "      <td>B</td>\n",
       "      <td>True</td>\n",
       "      <td>5.0</td>\n",
       "    </tr>\n",
       "    <tr>\n",
       "      <th>13</th>\n",
       "      <td>433</td>\n",
       "      <td>HIF1A</td>\n",
       "      <td>3' UTR Polymorphism</td>\n",
       "      <td>3 Prime UTR Variant;Snp</td>\n",
       "      <td>Region Defined Variants</td>\n",
       "      <td>True</td>\n",
       "      <td>1031</td>\n",
       "      <td>accepted</td>\n",
       "      <td>[2]</td>\n",
       "      <td>B</td>\n",
       "      <td>True</td>\n",
       "      <td>5.0</td>\n",
       "    </tr>\n",
       "    <tr>\n",
       "      <th>15</th>\n",
       "      <td>2367</td>\n",
       "      <td>VHL</td>\n",
       "      <td>3p26.3-25.3 11Mb del</td>\n",
       "      <td>Not provided</td>\n",
       "      <td>Rearrangement Variants</td>\n",
       "      <td>True</td>\n",
       "      <td>6287</td>\n",
       "      <td>accepted</td>\n",
       "      <td>[3]</td>\n",
       "      <td>C</td>\n",
       "      <td>True</td>\n",
       "      <td>3.0</td>\n",
       "    </tr>\n",
       "    <tr>\n",
       "      <th>...</th>\n",
       "      <td>...</td>\n",
       "      <td>...</td>\n",
       "      <td>...</td>\n",
       "      <td>...</td>\n",
       "      <td>...</td>\n",
       "      <td>...</td>\n",
       "      <td>...</td>\n",
       "      <td>...</td>\n",
       "      <td>...</td>\n",
       "      <td>...</td>\n",
       "      <td>...</td>\n",
       "      <td>...</td>\n",
       "    </tr>\n",
       "    <tr>\n",
       "      <th>1543</th>\n",
       "      <td>272</td>\n",
       "      <td>CDKN2A</td>\n",
       "      <td>p16 Expression</td>\n",
       "      <td>NaN</td>\n",
       "      <td>Expression Variants</td>\n",
       "      <td>True</td>\n",
       "      <td>1314</td>\n",
       "      <td>accepted</td>\n",
       "      <td>[2]</td>\n",
       "      <td>B</td>\n",
       "      <td>True</td>\n",
       "      <td>5.0</td>\n",
       "    </tr>\n",
       "    <tr>\n",
       "      <th>1545</th>\n",
       "      <td>3313</td>\n",
       "      <td>CDKN1A</td>\n",
       "      <td>rs1059234</td>\n",
       "      <td>Not provided</td>\n",
       "      <td>Other Variants</td>\n",
       "      <td>True</td>\n",
       "      <td>9244</td>\n",
       "      <td>accepted</td>\n",
       "      <td>[3]</td>\n",
       "      <td>B</td>\n",
       "      <td>True</td>\n",
       "      <td>5.0</td>\n",
       "    </tr>\n",
       "    <tr>\n",
       "      <th>1547</th>\n",
       "      <td>256</td>\n",
       "      <td>KIT</td>\n",
       "      <td>rs17084733</td>\n",
       "      <td>3 Prime UTR Variant</td>\n",
       "      <td>Other Variants</td>\n",
       "      <td>True</td>\n",
       "      <td>666</td>\n",
       "      <td>accepted</td>\n",
       "      <td>[3]</td>\n",
       "      <td>B</td>\n",
       "      <td>True</td>\n",
       "      <td>5.0</td>\n",
       "    </tr>\n",
       "    <tr>\n",
       "      <th>1548</th>\n",
       "      <td>2671</td>\n",
       "      <td>CDKN1A</td>\n",
       "      <td>rs1801270</td>\n",
       "      <td>Not provided</td>\n",
       "      <td>Other Variants</td>\n",
       "      <td>True</td>\n",
       "      <td>7227</td>\n",
       "      <td>accepted</td>\n",
       "      <td>[3]</td>\n",
       "      <td>B</td>\n",
       "      <td>True</td>\n",
       "      <td>5.0</td>\n",
       "    </tr>\n",
       "    <tr>\n",
       "      <th>1550</th>\n",
       "      <td>705</td>\n",
       "      <td>GADD45A</td>\n",
       "      <td>rs681673</td>\n",
       "      <td>Coding Transcript Intron Variant</td>\n",
       "      <td>Other Variants</td>\n",
       "      <td>True</td>\n",
       "      <td>1751</td>\n",
       "      <td>accepted</td>\n",
       "      <td>[3]</td>\n",
       "      <td>B</td>\n",
       "      <td>True</td>\n",
       "      <td>5.0</td>\n",
       "    </tr>\n",
       "  </tbody>\n",
       "</table>\n",
       "<p>2231 rows × 12 columns</p>\n",
       "</div>"
      ],
      "text/plain": [
       "      variant_id gene_name          variant_name  \\\n",
       "7           2930       VHL                   NaN   \n",
       "9            785     CHEK2              1100DELC   \n",
       "12           823     EPCAM      3' Exon Deletion   \n",
       "13           433     HIF1A   3' UTR Polymorphism   \n",
       "15          2367       VHL  3p26.3-25.3 11Mb del   \n",
       "...          ...       ...                   ...   \n",
       "1543         272    CDKN2A        p16 Expression   \n",
       "1545        3313    CDKN1A             rs1059234   \n",
       "1547         256       KIT            rs17084733   \n",
       "1548        2671    CDKN1A             rs1801270   \n",
       "1550         705   GADD45A              rs681673   \n",
       "\n",
       "                   civic_variant_types                 category  \\\n",
       "7                         Not provided      Transcript Variants   \n",
       "9                Frameshift Truncation        Sequence Variants   \n",
       "12         Disruptive Inframe Deletion   Rearrangement Variants   \n",
       "13             3 Prime UTR Variant;Snp  Region Defined Variants   \n",
       "15                        Not provided   Rearrangement Variants   \n",
       "...                                ...                      ...   \n",
       "1543                               NaN      Expression Variants   \n",
       "1545                      Not provided           Other Variants   \n",
       "1547               3 Prime UTR Variant           Other Variants   \n",
       "1548                      Not provided           Other Variants   \n",
       "1550  Coding Transcript Intron Variant           Other Variants   \n",
       "\n",
       "      variant_accepted evidence_id evidence_status evidence_rating  \\\n",
       "7                 True        7892        accepted             [3]   \n",
       "9                 True        1850        accepted             [3]   \n",
       "12                True        1901        accepted             [4]   \n",
       "13                True        1031        accepted             [2]   \n",
       "15                True        6287        accepted             [3]   \n",
       "...                ...         ...             ...             ...   \n",
       "1543              True        1314        accepted             [2]   \n",
       "1545              True        9244        accepted             [3]   \n",
       "1547              True         666        accepted             [3]   \n",
       "1548              True        7227        accepted             [3]   \n",
       "1550              True        1751        accepted             [3]   \n",
       "\n",
       "     evidence_level  evidence_accepted  evidence_score  \n",
       "7                 C               True             3.0  \n",
       "9                 B               True             5.0  \n",
       "12                B               True             5.0  \n",
       "13                B               True             5.0  \n",
       "15                C               True             3.0  \n",
       "...             ...                ...             ...  \n",
       "1543              B               True             5.0  \n",
       "1545              B               True             5.0  \n",
       "1547              B               True             5.0  \n",
       "1548              B               True             5.0  \n",
       "1550              B               True             5.0  \n",
       "\n",
       "[2231 rows x 12 columns]"
      ]
     },
     "execution_count": 60,
     "metadata": {},
     "output_type": "execute_result"
    }
   ],
   "source": [
    "ns_var_w_acc_evid_df[\"evidence_score\"] = ns_var_w_acc_evid_df[\"evidence_level\"].map(evidence_level_to_impact)\n",
    "ns_var_w_acc_evid_df"
   ]
  },
  {
   "cell_type": "markdown",
   "metadata": {},
   "source": [
    "Each variant recieves an evidence score by adding up the numerical value of levels of the evidence items associated with the variant"
   ]
  },
  {
   "cell_type": "code",
   "execution_count": 61,
   "metadata": {},
   "outputs": [
    {
     "data": {
      "text/html": [
       "<div>\n",
       "<style scoped>\n",
       "    .dataframe tbody tr th:only-of-type {\n",
       "        vertical-align: middle;\n",
       "    }\n",
       "\n",
       "    .dataframe tbody tr th {\n",
       "        vertical-align: top;\n",
       "    }\n",
       "\n",
       "    .dataframe thead th {\n",
       "        text-align: right;\n",
       "    }\n",
       "</style>\n",
       "<table border=\"1\" class=\"dataframe\">\n",
       "  <thead>\n",
       "    <tr style=\"text-align: right;\">\n",
       "      <th></th>\n",
       "      <th>gene_name</th>\n",
       "      <th>variant_name</th>\n",
       "      <th>category</th>\n",
       "      <th>#_evidence_items</th>\n",
       "      <th>evidence_score_sum</th>\n",
       "    </tr>\n",
       "    <tr>\n",
       "      <th>variant_id</th>\n",
       "      <th></th>\n",
       "      <th></th>\n",
       "      <th></th>\n",
       "      <th></th>\n",
       "      <th></th>\n",
       "    </tr>\n",
       "  </thead>\n",
       "  <tbody>\n",
       "    <tr>\n",
       "      <th>1</th>\n",
       "      <td>ABL1</td>\n",
       "      <td>BCR::ABL</td>\n",
       "      <td>Fusion Variants</td>\n",
       "      <td>129</td>\n",
       "      <td>320.0</td>\n",
       "    </tr>\n",
       "    <tr>\n",
       "      <th>5</th>\n",
       "      <td>ALK</td>\n",
       "      <td>EML4::ALK</td>\n",
       "      <td>Fusion Variants</td>\n",
       "      <td>47</td>\n",
       "      <td>91.0</td>\n",
       "    </tr>\n",
       "    <tr>\n",
       "      <th>17</th>\n",
       "      <td>BRAF</td>\n",
       "      <td>V600</td>\n",
       "      <td>Sequence Variants</td>\n",
       "      <td>22</td>\n",
       "      <td>123.0</td>\n",
       "    </tr>\n",
       "    <tr>\n",
       "      <th>19</th>\n",
       "      <td>CCND1</td>\n",
       "      <td>Expression</td>\n",
       "      <td>Expression Variants</td>\n",
       "      <td>2</td>\n",
       "      <td>10.0</td>\n",
       "    </tr>\n",
       "    <tr>\n",
       "      <th>20</th>\n",
       "      <td>CCND1</td>\n",
       "      <td>Overexpression</td>\n",
       "      <td>Expression Variants</td>\n",
       "      <td>8</td>\n",
       "      <td>36.0</td>\n",
       "    </tr>\n",
       "    <tr>\n",
       "      <th>...</th>\n",
       "      <td>...</td>\n",
       "      <td>...</td>\n",
       "      <td>...</td>\n",
       "      <td>...</td>\n",
       "      <td>...</td>\n",
       "    </tr>\n",
       "    <tr>\n",
       "      <th>4532</th>\n",
       "      <td>ZFTA</td>\n",
       "      <td>ZFTA::NCOA1</td>\n",
       "      <td>Fusion Variants</td>\n",
       "      <td>1</td>\n",
       "      <td>3.0</td>\n",
       "    </tr>\n",
       "    <tr>\n",
       "      <th>4533</th>\n",
       "      <td>ZFTA</td>\n",
       "      <td>ZFTA::NCOA2</td>\n",
       "      <td>Fusion Variants</td>\n",
       "      <td>1</td>\n",
       "      <td>3.0</td>\n",
       "    </tr>\n",
       "    <tr>\n",
       "      <th>4534</th>\n",
       "      <td>ZFTA</td>\n",
       "      <td>ZFTA::MAML2</td>\n",
       "      <td>Fusion Variants</td>\n",
       "      <td>1</td>\n",
       "      <td>3.0</td>\n",
       "    </tr>\n",
       "    <tr>\n",
       "      <th>4535</th>\n",
       "      <td>ZFTA</td>\n",
       "      <td>MN1::ZFTA</td>\n",
       "      <td>Fusion Variants</td>\n",
       "      <td>1</td>\n",
       "      <td>3.0</td>\n",
       "    </tr>\n",
       "    <tr>\n",
       "      <th>4546</th>\n",
       "      <td>ZFTA</td>\n",
       "      <td>ZFTA::RELA Methylation Profile</td>\n",
       "      <td>Other Variants</td>\n",
       "      <td>2</td>\n",
       "      <td>10.0</td>\n",
       "    </tr>\n",
       "  </tbody>\n",
       "</table>\n",
       "<p>790 rows × 5 columns</p>\n",
       "</div>"
      ],
      "text/plain": [
       "           gene_name                    variant_name             category  \\\n",
       "variant_id                                                                  \n",
       "1               ABL1                        BCR::ABL      Fusion Variants   \n",
       "5                ALK                       EML4::ALK      Fusion Variants   \n",
       "17              BRAF                            V600    Sequence Variants   \n",
       "19             CCND1                      Expression  Expression Variants   \n",
       "20             CCND1                  Overexpression  Expression Variants   \n",
       "...              ...                             ...                  ...   \n",
       "4532            ZFTA                     ZFTA::NCOA1      Fusion Variants   \n",
       "4533            ZFTA                     ZFTA::NCOA2      Fusion Variants   \n",
       "4534            ZFTA                     ZFTA::MAML2      Fusion Variants   \n",
       "4535            ZFTA                       MN1::ZFTA      Fusion Variants   \n",
       "4546            ZFTA  ZFTA::RELA Methylation Profile       Other Variants   \n",
       "\n",
       "            #_evidence_items  evidence_score_sum  \n",
       "variant_id                                        \n",
       "1                        129               320.0  \n",
       "5                         47                91.0  \n",
       "17                        22               123.0  \n",
       "19                         2                10.0  \n",
       "20                         8                36.0  \n",
       "...                      ...                 ...  \n",
       "4532                       1                 3.0  \n",
       "4533                       1                 3.0  \n",
       "4534                       1                 3.0  \n",
       "4535                       1                 3.0  \n",
       "4546                       2                10.0  \n",
       "\n",
       "[790 rows x 5 columns]"
      ]
     },
     "execution_count": 61,
     "metadata": {},
     "output_type": "execute_result"
    }
   ],
   "source": [
    "ns_var_w_acc_evid_df.sort_values(by=[\"variant_id\"])\n",
    "not_supported_variants_w_acc_evid_df = ns_var_w_acc_evid_df.groupby(\"variant_id\").aggregate(\n",
    "    {\n",
    "        \"gene_name\": \"first\",\n",
    "        \"variant_name\": \"first\",\n",
    "        \"category\": \"first\",\n",
    "        \"evidence_id\": \"count\",\n",
    "        \"evidence_score\": \"sum\",\n",
    "    }\n",
    ")\n",
    "not_supported_variants_w_acc_evid_df = not_supported_variants_w_acc_evid_df.rename(\n",
    "    columns={\"evidence_id\": \"#_evidence_items\", \"evidence_score\": \"evidence_score_sum\"}\n",
    ")\n",
    "not_supported_variants_w_acc_evid_df"
   ]
  },
  {
   "cell_type": "markdown",
   "metadata": {},
   "source": [
    "##### <a id='toc5_5_1_1_2_'></a>[Summary Table](#toc0_)"
   ]
  },
  {
   "cell_type": "code",
   "execution_count": 62,
   "metadata": {},
   "outputs": [
    {
     "data": {
      "text/html": [
       "<div>\n",
       "<style scoped>\n",
       "    .dataframe tbody tr th:only-of-type {\n",
       "        vertical-align: middle;\n",
       "    }\n",
       "\n",
       "    .dataframe tbody tr th {\n",
       "        vertical-align: top;\n",
       "    }\n",
       "\n",
       "    .dataframe thead th {\n",
       "        text-align: right;\n",
       "    }\n",
       "</style>\n",
       "<table border=\"1\" class=\"dataframe\">\n",
       "  <thead>\n",
       "    <tr style=\"text-align: right;\">\n",
       "      <th></th>\n",
       "      <th>number_of_variants</th>\n",
       "      <th>#_evidence_items</th>\n",
       "      <th>impact</th>\n",
       "      <th>average_impact_per_variant</th>\n",
       "    </tr>\n",
       "    <tr>\n",
       "      <th>category</th>\n",
       "      <th></th>\n",
       "      <th></th>\n",
       "      <th></th>\n",
       "      <th></th>\n",
       "    </tr>\n",
       "  </thead>\n",
       "  <tbody>\n",
       "    <tr>\n",
       "      <th>Fusion Variants</th>\n",
       "      <td>204</td>\n",
       "      <td>747</td>\n",
       "      <td>2304.5</td>\n",
       "      <td>11.30</td>\n",
       "    </tr>\n",
       "    <tr>\n",
       "      <th>Region Defined Variants</th>\n",
       "      <td>99</td>\n",
       "      <td>408</td>\n",
       "      <td>1853.0</td>\n",
       "      <td>18.72</td>\n",
       "    </tr>\n",
       "    <tr>\n",
       "      <th>Expression Variants</th>\n",
       "      <td>180</td>\n",
       "      <td>342</td>\n",
       "      <td>1235.0</td>\n",
       "      <td>6.86</td>\n",
       "    </tr>\n",
       "    <tr>\n",
       "      <th>Rearrangement Variants</th>\n",
       "      <td>47</td>\n",
       "      <td>202</td>\n",
       "      <td>892.5</td>\n",
       "      <td>18.99</td>\n",
       "    </tr>\n",
       "    <tr>\n",
       "      <th>Sequence Variants</th>\n",
       "      <td>73</td>\n",
       "      <td>196</td>\n",
       "      <td>856.5</td>\n",
       "      <td>11.73</td>\n",
       "    </tr>\n",
       "    <tr>\n",
       "      <th>Gene Function Variants</th>\n",
       "      <td>49</td>\n",
       "      <td>154</td>\n",
       "      <td>540.5</td>\n",
       "      <td>11.03</td>\n",
       "    </tr>\n",
       "    <tr>\n",
       "      <th>Other Variants</th>\n",
       "      <td>42</td>\n",
       "      <td>58</td>\n",
       "      <td>226.0</td>\n",
       "      <td>5.38</td>\n",
       "    </tr>\n",
       "    <tr>\n",
       "      <th>Transcript Variants</th>\n",
       "      <td>51</td>\n",
       "      <td>54</td>\n",
       "      <td>156.0</td>\n",
       "      <td>3.06</td>\n",
       "    </tr>\n",
       "    <tr>\n",
       "      <th>Copy Number Variants</th>\n",
       "      <td>19</td>\n",
       "      <td>31</td>\n",
       "      <td>89.0</td>\n",
       "      <td>4.68</td>\n",
       "    </tr>\n",
       "    <tr>\n",
       "      <th>Genotype Variants</th>\n",
       "      <td>12</td>\n",
       "      <td>17</td>\n",
       "      <td>86.0</td>\n",
       "      <td>7.17</td>\n",
       "    </tr>\n",
       "    <tr>\n",
       "      <th>Epigenetic Modification</th>\n",
       "      <td>14</td>\n",
       "      <td>22</td>\n",
       "      <td>82.0</td>\n",
       "      <td>5.86</td>\n",
       "    </tr>\n",
       "  </tbody>\n",
       "</table>\n",
       "</div>"
      ],
      "text/plain": [
       "                         number_of_variants  #_evidence_items  impact  \\\n",
       "category                                                                \n",
       "Fusion Variants                         204               747  2304.5   \n",
       "Region Defined Variants                  99               408  1853.0   \n",
       "Expression Variants                     180               342  1235.0   \n",
       "Rearrangement Variants                   47               202   892.5   \n",
       "Sequence Variants                        73               196   856.5   \n",
       "Gene Function Variants                   49               154   540.5   \n",
       "Other Variants                           42                58   226.0   \n",
       "Transcript Variants                      51                54   156.0   \n",
       "Copy Number Variants                     19                31    89.0   \n",
       "Genotype Variants                        12                17    86.0   \n",
       "Epigenetic Modification                  14                22    82.0   \n",
       "\n",
       "                         average_impact_per_variant  \n",
       "category                                             \n",
       "Fusion Variants                               11.30  \n",
       "Region Defined Variants                       18.72  \n",
       "Expression Variants                            6.86  \n",
       "Rearrangement Variants                        18.99  \n",
       "Sequence Variants                             11.73  \n",
       "Gene Function Variants                        11.03  \n",
       "Other Variants                                 5.38  \n",
       "Transcript Variants                            3.06  \n",
       "Copy Number Variants                           4.68  \n",
       "Genotype Variants                              7.17  \n",
       "Epigenetic Modification                        5.86  "
      ]
     },
     "execution_count": 62,
     "metadata": {},
     "output_type": "execute_result"
    }
   ],
   "source": [
    "not_supported_accepted_variant_categories_df = not_supported_variants_w_acc_evid_df.groupby(\"category\").aggregate(\n",
    "    {\"gene_name\": \"count\", \"#_evidence_items\": \"sum\", \"evidence_score_sum\": \"sum\"}\n",
    ")\n",
    "not_supported_accepted_variant_categories_df = not_supported_accepted_variant_categories_df.rename(\n",
    "    columns={\"evidence_score_sum\": \"impact\", \"gene_name\": \"number_of_variants\"}\n",
    ")\n",
    "not_supported_accepted_variant_categories_df[\"average_impact_per_variant\"] = (not_supported_accepted_variant_categories_df[\"impact\"] / not_supported_accepted_variant_categories_df[\"number_of_variants\"]).round(2)\n",
    "not_supported_accepted_variant_categories_df.sort_values(by=[\"impact\"], ascending=False)"
   ]
  },
  {
   "cell_type": "code",
   "execution_count": 63,
   "metadata": {},
   "outputs": [
    {
     "data": {
      "text/plain": [
       "number_of_variants             790.00\n",
       "#_evidence_items              2231.00\n",
       "impact                        8321.00\n",
       "average_impact_per_variant     104.78\n",
       "dtype: float64"
      ]
     },
     "execution_count": 63,
     "metadata": {},
     "output_type": "execute_result"
    }
   ],
   "source": [
    "not_supported_accepted_variant_categories_df.sum().round(2)"
   ]
  },
  {
   "cell_type": "markdown",
   "metadata": {},
   "source": [
    "#### <a id='toc5_5_1_2_'></a>[Analysis with Accepted and Submitted Variants](#toc0_)"
   ]
  },
  {
   "cell_type": "markdown",
   "metadata": {},
   "source": [
    "submitted variant = a variant with no accepted evidence items but with evidence items with the \"submitted\" status"
   ]
  },
  {
   "cell_type": "code",
   "execution_count": 64,
   "metadata": {},
   "outputs": [],
   "source": [
    "ns_var_w_acc_sub_evid_df = not_supported_variants_add_evidence_df.copy()"
   ]
  },
  {
   "cell_type": "markdown",
   "metadata": {},
   "source": [
    "##### <a id='toc5_5_1_2_1_'></a>[Calculating evidence score via level](#toc0_)"
   ]
  },
  {
   "cell_type": "code",
   "execution_count": 65,
   "metadata": {},
   "outputs": [
    {
     "data": {
      "text/html": [
       "<div>\n",
       "<style scoped>\n",
       "    .dataframe tbody tr th:only-of-type {\n",
       "        vertical-align: middle;\n",
       "    }\n",
       "\n",
       "    .dataframe tbody tr th {\n",
       "        vertical-align: top;\n",
       "    }\n",
       "\n",
       "    .dataframe thead th {\n",
       "        text-align: right;\n",
       "    }\n",
       "</style>\n",
       "<table border=\"1\" class=\"dataframe\">\n",
       "  <thead>\n",
       "    <tr style=\"text-align: right;\">\n",
       "      <th></th>\n",
       "      <th>variant_id</th>\n",
       "      <th>gene_name</th>\n",
       "      <th>variant_name</th>\n",
       "      <th>civic_variant_types</th>\n",
       "      <th>category</th>\n",
       "      <th>variant_accepted</th>\n",
       "      <th>evidence_id</th>\n",
       "      <th>evidence_status</th>\n",
       "      <th>evidence_rating</th>\n",
       "      <th>evidence_level</th>\n",
       "      <th>evidence_accepted</th>\n",
       "      <th>evidence_score</th>\n",
       "    </tr>\n",
       "  </thead>\n",
       "  <tbody>\n",
       "    <tr>\n",
       "      <th>0</th>\n",
       "      <td>4170</td>\n",
       "      <td>VHL</td>\n",
       "      <td>NaN</td>\n",
       "      <td>Not provided</td>\n",
       "      <td>Transcript Variants</td>\n",
       "      <td>False</td>\n",
       "      <td>10647</td>\n",
       "      <td>submitted</td>\n",
       "      <td>[2]</td>\n",
       "      <td>[C]</td>\n",
       "      <td>False</td>\n",
       "      <td></td>\n",
       "    </tr>\n",
       "    <tr>\n",
       "      <th>1</th>\n",
       "      <td>4417</td>\n",
       "      <td>ALK</td>\n",
       "      <td>FBXO11::ALK</td>\n",
       "      <td>Not provided</td>\n",
       "      <td>Fusion Variants</td>\n",
       "      <td>False</td>\n",
       "      <td>7428</td>\n",
       "      <td>submitted</td>\n",
       "      <td>[3]</td>\n",
       "      <td>[C]</td>\n",
       "      <td>False</td>\n",
       "      <td></td>\n",
       "    </tr>\n",
       "    <tr>\n",
       "      <th>2</th>\n",
       "      <td>4214</td>\n",
       "      <td>VHL</td>\n",
       "      <td>NaN</td>\n",
       "      <td>Not provided</td>\n",
       "      <td>Transcript Variants</td>\n",
       "      <td>False</td>\n",
       "      <td>10752</td>\n",
       "      <td>submitted</td>\n",
       "      <td>[3]</td>\n",
       "      <td>[C]</td>\n",
       "      <td>False</td>\n",
       "      <td></td>\n",
       "    </tr>\n",
       "    <tr>\n",
       "      <th>3</th>\n",
       "      <td>4216</td>\n",
       "      <td>VHL</td>\n",
       "      <td>NaN</td>\n",
       "      <td>Not provided</td>\n",
       "      <td>Transcript Variants</td>\n",
       "      <td>False</td>\n",
       "      <td>10754</td>\n",
       "      <td>submitted</td>\n",
       "      <td>[3]</td>\n",
       "      <td>[C]</td>\n",
       "      <td>False</td>\n",
       "      <td></td>\n",
       "    </tr>\n",
       "    <tr>\n",
       "      <th>4</th>\n",
       "      <td>4278</td>\n",
       "      <td>VHL</td>\n",
       "      <td>NaN</td>\n",
       "      <td>Not provided</td>\n",
       "      <td>Transcript Variants</td>\n",
       "      <td>False</td>\n",
       "      <td>10958</td>\n",
       "      <td>submitted</td>\n",
       "      <td>[3]</td>\n",
       "      <td>[C]</td>\n",
       "      <td>False</td>\n",
       "      <td></td>\n",
       "    </tr>\n",
       "    <tr>\n",
       "      <th>...</th>\n",
       "      <td>...</td>\n",
       "      <td>...</td>\n",
       "      <td>...</td>\n",
       "      <td>...</td>\n",
       "      <td>...</td>\n",
       "      <td>...</td>\n",
       "      <td>...</td>\n",
       "      <td>...</td>\n",
       "      <td>...</td>\n",
       "      <td>...</td>\n",
       "      <td>...</td>\n",
       "      <td>...</td>\n",
       "    </tr>\n",
       "    <tr>\n",
       "      <th>1560</th>\n",
       "      <td>3478</td>\n",
       "      <td>ESR2</td>\n",
       "      <td>underexpression beta-1</td>\n",
       "      <td>Not provided</td>\n",
       "      <td>Other Variants</td>\n",
       "      <td>False</td>\n",
       "      <td>9618</td>\n",
       "      <td>submitted</td>\n",
       "      <td>[4]</td>\n",
       "      <td>[B]</td>\n",
       "      <td>False</td>\n",
       "      <td></td>\n",
       "    </tr>\n",
       "    <tr>\n",
       "      <th>1560</th>\n",
       "      <td>3478</td>\n",
       "      <td>ESR2</td>\n",
       "      <td>underexpression beta-1</td>\n",
       "      <td>Not provided</td>\n",
       "      <td>Other Variants</td>\n",
       "      <td>False</td>\n",
       "      <td>9619</td>\n",
       "      <td>submitted</td>\n",
       "      <td>[4]</td>\n",
       "      <td>[B]</td>\n",
       "      <td>False</td>\n",
       "      <td></td>\n",
       "    </tr>\n",
       "    <tr>\n",
       "      <th>1561</th>\n",
       "      <td>3508</td>\n",
       "      <td>CD274</td>\n",
       "      <td>v242</td>\n",
       "      <td>Not provided</td>\n",
       "      <td>Sequence Variants</td>\n",
       "      <td>False</td>\n",
       "      <td>9695</td>\n",
       "      <td>submitted</td>\n",
       "      <td>[4]</td>\n",
       "      <td>[E]</td>\n",
       "      <td>False</td>\n",
       "      <td></td>\n",
       "    </tr>\n",
       "    <tr>\n",
       "      <th>1562</th>\n",
       "      <td>2422</td>\n",
       "      <td>NTRK3</td>\n",
       "      <td>~DEPRECATED-ETV6-NTRK3</td>\n",
       "      <td>Transcript Fusion</td>\n",
       "      <td>Other Variants</td>\n",
       "      <td>False</td>\n",
       "      <td>10692</td>\n",
       "      <td>submitted</td>\n",
       "      <td>[3]</td>\n",
       "      <td>[C]</td>\n",
       "      <td>False</td>\n",
       "      <td></td>\n",
       "    </tr>\n",
       "    <tr>\n",
       "      <th>1562</th>\n",
       "      <td>2422</td>\n",
       "      <td>NTRK3</td>\n",
       "      <td>~DEPRECATED-ETV6-NTRK3</td>\n",
       "      <td>Transcript Fusion</td>\n",
       "      <td>Other Variants</td>\n",
       "      <td>False</td>\n",
       "      <td>10717</td>\n",
       "      <td>submitted</td>\n",
       "      <td>[3]</td>\n",
       "      <td>[C]</td>\n",
       "      <td>False</td>\n",
       "      <td></td>\n",
       "    </tr>\n",
       "  </tbody>\n",
       "</table>\n",
       "<p>4279 rows × 12 columns</p>\n",
       "</div>"
      ],
      "text/plain": [
       "      variant_id gene_name            variant_name civic_variant_types  \\\n",
       "0           4170       VHL                     NaN        Not provided   \n",
       "1           4417       ALK             FBXO11::ALK        Not provided   \n",
       "2           4214       VHL                     NaN        Not provided   \n",
       "3           4216       VHL                     NaN        Not provided   \n",
       "4           4278       VHL                     NaN        Not provided   \n",
       "...          ...       ...                     ...                 ...   \n",
       "1560        3478      ESR2  underexpression beta-1        Not provided   \n",
       "1560        3478      ESR2  underexpression beta-1        Not provided   \n",
       "1561        3508     CD274                    v242        Not provided   \n",
       "1562        2422     NTRK3  ~DEPRECATED-ETV6-NTRK3   Transcript Fusion   \n",
       "1562        2422     NTRK3  ~DEPRECATED-ETV6-NTRK3   Transcript Fusion   \n",
       "\n",
       "                 category  variant_accepted evidence_id evidence_status  \\\n",
       "0     Transcript Variants             False       10647       submitted   \n",
       "1         Fusion Variants             False        7428       submitted   \n",
       "2     Transcript Variants             False       10752       submitted   \n",
       "3     Transcript Variants             False       10754       submitted   \n",
       "4     Transcript Variants             False       10958       submitted   \n",
       "...                   ...               ...         ...             ...   \n",
       "1560       Other Variants             False        9618       submitted   \n",
       "1560       Other Variants             False        9619       submitted   \n",
       "1561    Sequence Variants             False        9695       submitted   \n",
       "1562       Other Variants             False       10692       submitted   \n",
       "1562       Other Variants             False       10717       submitted   \n",
       "\n",
       "     evidence_rating evidence_level  evidence_accepted evidence_score  \n",
       "0                [2]            [C]              False                 \n",
       "1                [3]            [C]              False                 \n",
       "2                [3]            [C]              False                 \n",
       "3                [3]            [C]              False                 \n",
       "4                [3]            [C]              False                 \n",
       "...              ...            ...                ...            ...  \n",
       "1560             [4]            [B]              False                 \n",
       "1560             [4]            [B]              False                 \n",
       "1561             [4]            [E]              False                 \n",
       "1562             [3]            [C]              False                 \n",
       "1562             [3]            [C]              False                 \n",
       "\n",
       "[4279 rows x 12 columns]"
      ]
     },
     "execution_count": 65,
     "metadata": {},
     "output_type": "execute_result"
    }
   ],
   "source": [
    "ns_var_w_acc_sub_evid_df[\"evidence_score\"] = \"\"\n",
    "ns_var_w_acc_sub_evid_df"
   ]
  },
  {
   "cell_type": "code",
   "execution_count": 66,
   "metadata": {},
   "outputs": [],
   "source": [
    "ns_var_w_acc_sub_evid_df[\"evidence_level\"] = ns_var_w_acc_sub_evid_df[\"evidence_level\"].apply(lambda y: y[0])"
   ]
  },
  {
   "cell_type": "code",
   "execution_count": 67,
   "metadata": {},
   "outputs": [
    {
     "data": {
      "text/html": [
       "<div>\n",
       "<style scoped>\n",
       "    .dataframe tbody tr th:only-of-type {\n",
       "        vertical-align: middle;\n",
       "    }\n",
       "\n",
       "    .dataframe tbody tr th {\n",
       "        vertical-align: top;\n",
       "    }\n",
       "\n",
       "    .dataframe thead th {\n",
       "        text-align: right;\n",
       "    }\n",
       "</style>\n",
       "<table border=\"1\" class=\"dataframe\">\n",
       "  <thead>\n",
       "    <tr style=\"text-align: right;\">\n",
       "      <th></th>\n",
       "      <th>variant_id</th>\n",
       "      <th>gene_name</th>\n",
       "      <th>variant_name</th>\n",
       "      <th>civic_variant_types</th>\n",
       "      <th>category</th>\n",
       "      <th>variant_accepted</th>\n",
       "      <th>evidence_id</th>\n",
       "      <th>evidence_status</th>\n",
       "      <th>evidence_rating</th>\n",
       "      <th>evidence_level</th>\n",
       "      <th>evidence_accepted</th>\n",
       "      <th>evidence_score</th>\n",
       "    </tr>\n",
       "  </thead>\n",
       "  <tbody>\n",
       "    <tr>\n",
       "      <th>0</th>\n",
       "      <td>4170</td>\n",
       "      <td>VHL</td>\n",
       "      <td>NaN</td>\n",
       "      <td>Not provided</td>\n",
       "      <td>Transcript Variants</td>\n",
       "      <td>False</td>\n",
       "      <td>10647</td>\n",
       "      <td>submitted</td>\n",
       "      <td>[2]</td>\n",
       "      <td>C</td>\n",
       "      <td>False</td>\n",
       "      <td>3.0</td>\n",
       "    </tr>\n",
       "    <tr>\n",
       "      <th>1</th>\n",
       "      <td>4417</td>\n",
       "      <td>ALK</td>\n",
       "      <td>FBXO11::ALK</td>\n",
       "      <td>Not provided</td>\n",
       "      <td>Fusion Variants</td>\n",
       "      <td>False</td>\n",
       "      <td>7428</td>\n",
       "      <td>submitted</td>\n",
       "      <td>[3]</td>\n",
       "      <td>C</td>\n",
       "      <td>False</td>\n",
       "      <td>3.0</td>\n",
       "    </tr>\n",
       "    <tr>\n",
       "      <th>2</th>\n",
       "      <td>4214</td>\n",
       "      <td>VHL</td>\n",
       "      <td>NaN</td>\n",
       "      <td>Not provided</td>\n",
       "      <td>Transcript Variants</td>\n",
       "      <td>False</td>\n",
       "      <td>10752</td>\n",
       "      <td>submitted</td>\n",
       "      <td>[3]</td>\n",
       "      <td>C</td>\n",
       "      <td>False</td>\n",
       "      <td>3.0</td>\n",
       "    </tr>\n",
       "    <tr>\n",
       "      <th>3</th>\n",
       "      <td>4216</td>\n",
       "      <td>VHL</td>\n",
       "      <td>NaN</td>\n",
       "      <td>Not provided</td>\n",
       "      <td>Transcript Variants</td>\n",
       "      <td>False</td>\n",
       "      <td>10754</td>\n",
       "      <td>submitted</td>\n",
       "      <td>[3]</td>\n",
       "      <td>C</td>\n",
       "      <td>False</td>\n",
       "      <td>3.0</td>\n",
       "    </tr>\n",
       "    <tr>\n",
       "      <th>4</th>\n",
       "      <td>4278</td>\n",
       "      <td>VHL</td>\n",
       "      <td>NaN</td>\n",
       "      <td>Not provided</td>\n",
       "      <td>Transcript Variants</td>\n",
       "      <td>False</td>\n",
       "      <td>10958</td>\n",
       "      <td>submitted</td>\n",
       "      <td>[3]</td>\n",
       "      <td>C</td>\n",
       "      <td>False</td>\n",
       "      <td>3.0</td>\n",
       "    </tr>\n",
       "    <tr>\n",
       "      <th>...</th>\n",
       "      <td>...</td>\n",
       "      <td>...</td>\n",
       "      <td>...</td>\n",
       "      <td>...</td>\n",
       "      <td>...</td>\n",
       "      <td>...</td>\n",
       "      <td>...</td>\n",
       "      <td>...</td>\n",
       "      <td>...</td>\n",
       "      <td>...</td>\n",
       "      <td>...</td>\n",
       "      <td>...</td>\n",
       "    </tr>\n",
       "    <tr>\n",
       "      <th>1560</th>\n",
       "      <td>3478</td>\n",
       "      <td>ESR2</td>\n",
       "      <td>underexpression beta-1</td>\n",
       "      <td>Not provided</td>\n",
       "      <td>Other Variants</td>\n",
       "      <td>False</td>\n",
       "      <td>9618</td>\n",
       "      <td>submitted</td>\n",
       "      <td>[4]</td>\n",
       "      <td>B</td>\n",
       "      <td>False</td>\n",
       "      <td>5.0</td>\n",
       "    </tr>\n",
       "    <tr>\n",
       "      <th>1560</th>\n",
       "      <td>3478</td>\n",
       "      <td>ESR2</td>\n",
       "      <td>underexpression beta-1</td>\n",
       "      <td>Not provided</td>\n",
       "      <td>Other Variants</td>\n",
       "      <td>False</td>\n",
       "      <td>9619</td>\n",
       "      <td>submitted</td>\n",
       "      <td>[4]</td>\n",
       "      <td>B</td>\n",
       "      <td>False</td>\n",
       "      <td>5.0</td>\n",
       "    </tr>\n",
       "    <tr>\n",
       "      <th>1561</th>\n",
       "      <td>3508</td>\n",
       "      <td>CD274</td>\n",
       "      <td>v242</td>\n",
       "      <td>Not provided</td>\n",
       "      <td>Sequence Variants</td>\n",
       "      <td>False</td>\n",
       "      <td>9695</td>\n",
       "      <td>submitted</td>\n",
       "      <td>[4]</td>\n",
       "      <td>E</td>\n",
       "      <td>False</td>\n",
       "      <td>0.5</td>\n",
       "    </tr>\n",
       "    <tr>\n",
       "      <th>1562</th>\n",
       "      <td>2422</td>\n",
       "      <td>NTRK3</td>\n",
       "      <td>~DEPRECATED-ETV6-NTRK3</td>\n",
       "      <td>Transcript Fusion</td>\n",
       "      <td>Other Variants</td>\n",
       "      <td>False</td>\n",
       "      <td>10692</td>\n",
       "      <td>submitted</td>\n",
       "      <td>[3]</td>\n",
       "      <td>C</td>\n",
       "      <td>False</td>\n",
       "      <td>3.0</td>\n",
       "    </tr>\n",
       "    <tr>\n",
       "      <th>1562</th>\n",
       "      <td>2422</td>\n",
       "      <td>NTRK3</td>\n",
       "      <td>~DEPRECATED-ETV6-NTRK3</td>\n",
       "      <td>Transcript Fusion</td>\n",
       "      <td>Other Variants</td>\n",
       "      <td>False</td>\n",
       "      <td>10717</td>\n",
       "      <td>submitted</td>\n",
       "      <td>[3]</td>\n",
       "      <td>C</td>\n",
       "      <td>False</td>\n",
       "      <td>3.0</td>\n",
       "    </tr>\n",
       "  </tbody>\n",
       "</table>\n",
       "<p>4279 rows × 12 columns</p>\n",
       "</div>"
      ],
      "text/plain": [
       "      variant_id gene_name            variant_name civic_variant_types  \\\n",
       "0           4170       VHL                     NaN        Not provided   \n",
       "1           4417       ALK             FBXO11::ALK        Not provided   \n",
       "2           4214       VHL                     NaN        Not provided   \n",
       "3           4216       VHL                     NaN        Not provided   \n",
       "4           4278       VHL                     NaN        Not provided   \n",
       "...          ...       ...                     ...                 ...   \n",
       "1560        3478      ESR2  underexpression beta-1        Not provided   \n",
       "1560        3478      ESR2  underexpression beta-1        Not provided   \n",
       "1561        3508     CD274                    v242        Not provided   \n",
       "1562        2422     NTRK3  ~DEPRECATED-ETV6-NTRK3   Transcript Fusion   \n",
       "1562        2422     NTRK3  ~DEPRECATED-ETV6-NTRK3   Transcript Fusion   \n",
       "\n",
       "                 category  variant_accepted evidence_id evidence_status  \\\n",
       "0     Transcript Variants             False       10647       submitted   \n",
       "1         Fusion Variants             False        7428       submitted   \n",
       "2     Transcript Variants             False       10752       submitted   \n",
       "3     Transcript Variants             False       10754       submitted   \n",
       "4     Transcript Variants             False       10958       submitted   \n",
       "...                   ...               ...         ...             ...   \n",
       "1560       Other Variants             False        9618       submitted   \n",
       "1560       Other Variants             False        9619       submitted   \n",
       "1561    Sequence Variants             False        9695       submitted   \n",
       "1562       Other Variants             False       10692       submitted   \n",
       "1562       Other Variants             False       10717       submitted   \n",
       "\n",
       "     evidence_rating evidence_level  evidence_accepted  evidence_score  \n",
       "0                [2]              C              False             3.0  \n",
       "1                [3]              C              False             3.0  \n",
       "2                [3]              C              False             3.0  \n",
       "3                [3]              C              False             3.0  \n",
       "4                [3]              C              False             3.0  \n",
       "...              ...            ...                ...             ...  \n",
       "1560             [4]              B              False             5.0  \n",
       "1560             [4]              B              False             5.0  \n",
       "1561             [4]              E              False             0.5  \n",
       "1562             [3]              C              False             3.0  \n",
       "1562             [3]              C              False             3.0  \n",
       "\n",
       "[4279 rows x 12 columns]"
      ]
     },
     "execution_count": 67,
     "metadata": {},
     "output_type": "execute_result"
    }
   ],
   "source": [
    "ns_var_w_acc_sub_evid_df[\"evidence_score\"] = ns_var_w_acc_sub_evid_df[\"evidence_level\"].map(\n",
    "    evidence_level_to_impact\n",
    ")\n",
    "ns_var_w_acc_sub_evid_df"
   ]
  },
  {
   "cell_type": "code",
   "execution_count": 68,
   "metadata": {},
   "outputs": [
    {
     "data": {
      "text/html": [
       "<div>\n",
       "<style scoped>\n",
       "    .dataframe tbody tr th:only-of-type {\n",
       "        vertical-align: middle;\n",
       "    }\n",
       "\n",
       "    .dataframe tbody tr th {\n",
       "        vertical-align: top;\n",
       "    }\n",
       "\n",
       "    .dataframe thead th {\n",
       "        text-align: right;\n",
       "    }\n",
       "</style>\n",
       "<table border=\"1\" class=\"dataframe\">\n",
       "  <thead>\n",
       "    <tr style=\"text-align: right;\">\n",
       "      <th></th>\n",
       "      <th>gene_name</th>\n",
       "      <th>variant_name</th>\n",
       "      <th>category</th>\n",
       "      <th>#_evidence_items</th>\n",
       "      <th>evidence_score_sum</th>\n",
       "    </tr>\n",
       "    <tr>\n",
       "      <th>variant_id</th>\n",
       "      <th></th>\n",
       "      <th></th>\n",
       "      <th></th>\n",
       "      <th></th>\n",
       "      <th></th>\n",
       "    </tr>\n",
       "  </thead>\n",
       "  <tbody>\n",
       "    <tr>\n",
       "      <th>1</th>\n",
       "      <td>ABL1</td>\n",
       "      <td>BCR::ABL</td>\n",
       "      <td>Fusion Variants</td>\n",
       "      <td>185</td>\n",
       "      <td>494.0</td>\n",
       "    </tr>\n",
       "    <tr>\n",
       "      <th>5</th>\n",
       "      <td>ALK</td>\n",
       "      <td>EML4::ALK</td>\n",
       "      <td>Fusion Variants</td>\n",
       "      <td>95</td>\n",
       "      <td>167.0</td>\n",
       "    </tr>\n",
       "    <tr>\n",
       "      <th>17</th>\n",
       "      <td>BRAF</td>\n",
       "      <td>V600</td>\n",
       "      <td>Sequence Variants</td>\n",
       "      <td>26</td>\n",
       "      <td>153.0</td>\n",
       "    </tr>\n",
       "    <tr>\n",
       "      <th>19</th>\n",
       "      <td>CCND1</td>\n",
       "      <td>Expression</td>\n",
       "      <td>Expression Variants</td>\n",
       "      <td>2</td>\n",
       "      <td>10.0</td>\n",
       "    </tr>\n",
       "    <tr>\n",
       "      <th>20</th>\n",
       "      <td>CCND1</td>\n",
       "      <td>Overexpression</td>\n",
       "      <td>Expression Variants</td>\n",
       "      <td>10</td>\n",
       "      <td>40.0</td>\n",
       "    </tr>\n",
       "    <tr>\n",
       "      <th>...</th>\n",
       "      <td>...</td>\n",
       "      <td>...</td>\n",
       "      <td>...</td>\n",
       "      <td>...</td>\n",
       "      <td>...</td>\n",
       "    </tr>\n",
       "    <tr>\n",
       "      <th>4539</th>\n",
       "      <td>MET</td>\n",
       "      <td>None</td>\n",
       "      <td>Transcript Variants</td>\n",
       "      <td>1</td>\n",
       "      <td>3.0</td>\n",
       "    </tr>\n",
       "    <tr>\n",
       "      <th>4540</th>\n",
       "      <td>MET</td>\n",
       "      <td>None</td>\n",
       "      <td>Transcript Variants</td>\n",
       "      <td>1</td>\n",
       "      <td>3.0</td>\n",
       "    </tr>\n",
       "    <tr>\n",
       "      <th>4543</th>\n",
       "      <td>DICER1</td>\n",
       "      <td>Loss-of-function</td>\n",
       "      <td>Gene Function Variants</td>\n",
       "      <td>6</td>\n",
       "      <td>35.0</td>\n",
       "    </tr>\n",
       "    <tr>\n",
       "      <th>4544</th>\n",
       "      <td>MET</td>\n",
       "      <td>None</td>\n",
       "      <td>Transcript Variants</td>\n",
       "      <td>1</td>\n",
       "      <td>3.0</td>\n",
       "    </tr>\n",
       "    <tr>\n",
       "      <th>4546</th>\n",
       "      <td>ZFTA</td>\n",
       "      <td>ZFTA::RELA Methylation Profile</td>\n",
       "      <td>Other Variants</td>\n",
       "      <td>2</td>\n",
       "      <td>10.0</td>\n",
       "    </tr>\n",
       "  </tbody>\n",
       "</table>\n",
       "<p>1547 rows × 5 columns</p>\n",
       "</div>"
      ],
      "text/plain": [
       "           gene_name                    variant_name                category  \\\n",
       "variant_id                                                                     \n",
       "1               ABL1                        BCR::ABL         Fusion Variants   \n",
       "5                ALK                       EML4::ALK         Fusion Variants   \n",
       "17              BRAF                            V600       Sequence Variants   \n",
       "19             CCND1                      Expression     Expression Variants   \n",
       "20             CCND1                  Overexpression     Expression Variants   \n",
       "...              ...                             ...                     ...   \n",
       "4539             MET                            None     Transcript Variants   \n",
       "4540             MET                            None     Transcript Variants   \n",
       "4543          DICER1                Loss-of-function  Gene Function Variants   \n",
       "4544             MET                            None     Transcript Variants   \n",
       "4546            ZFTA  ZFTA::RELA Methylation Profile          Other Variants   \n",
       "\n",
       "            #_evidence_items  evidence_score_sum  \n",
       "variant_id                                        \n",
       "1                        185               494.0  \n",
       "5                         95               167.0  \n",
       "17                        26               153.0  \n",
       "19                         2                10.0  \n",
       "20                        10                40.0  \n",
       "...                      ...                 ...  \n",
       "4539                       1                 3.0  \n",
       "4540                       1                 3.0  \n",
       "4543                       6                35.0  \n",
       "4544                       1                 3.0  \n",
       "4546                       2                10.0  \n",
       "\n",
       "[1547 rows x 5 columns]"
      ]
     },
     "execution_count": 68,
     "metadata": {},
     "output_type": "execute_result"
    }
   ],
   "source": [
    "ns_var_w_acc_sub_evid_df.sort_values(by=[\"variant_id\"])\n",
    "not_supported_variants_w_acc_sub_evid_df = ns_var_w_acc_sub_evid_df.groupby(\"variant_id\").aggregate(\n",
    "    {\n",
    "        \"gene_name\": \"first\",\n",
    "        \"variant_name\": \"first\",\n",
    "        \"category\": \"first\",\n",
    "        \"evidence_id\": \"count\",\n",
    "        \"evidence_score\": \"sum\",\n",
    "    }\n",
    ")\n",
    "not_supported_variants_w_acc_sub_evid_df = not_supported_variants_w_acc_sub_evid_df.rename(\n",
    "    columns={\"evidence_id\": \"#_evidence_items\", \"evidence_score\": \"evidence_score_sum\"}\n",
    ")\n",
    "not_supported_variants_w_acc_sub_evid_df"
   ]
  },
  {
   "cell_type": "markdown",
   "metadata": {},
   "source": [
    "##### <a id='toc5_5_1_2_2_'></a>[Summary Table](#toc0_)"
   ]
  },
  {
   "cell_type": "code",
   "execution_count": 69,
   "metadata": {},
   "outputs": [
    {
     "data": {
      "text/html": [
       "<div>\n",
       "<style scoped>\n",
       "    .dataframe tbody tr th:only-of-type {\n",
       "        vertical-align: middle;\n",
       "    }\n",
       "\n",
       "    .dataframe tbody tr th {\n",
       "        vertical-align: top;\n",
       "    }\n",
       "\n",
       "    .dataframe thead th {\n",
       "        text-align: right;\n",
       "    }\n",
       "</style>\n",
       "<table border=\"1\" class=\"dataframe\">\n",
       "  <thead>\n",
       "    <tr style=\"text-align: right;\">\n",
       "      <th></th>\n",
       "      <th>number_of_variants</th>\n",
       "      <th>#_evidence_items</th>\n",
       "      <th>impact</th>\n",
       "      <th>average_impact_per_variant</th>\n",
       "    </tr>\n",
       "    <tr>\n",
       "      <th>category</th>\n",
       "      <th></th>\n",
       "      <th></th>\n",
       "      <th></th>\n",
       "      <th></th>\n",
       "    </tr>\n",
       "  </thead>\n",
       "  <tbody>\n",
       "    <tr>\n",
       "      <th>Fusion Variants</th>\n",
       "      <td>290</td>\n",
       "      <td>1218</td>\n",
       "      <td>3816.5</td>\n",
       "      <td>13.16</td>\n",
       "    </tr>\n",
       "    <tr>\n",
       "      <th>Region Defined Variants</th>\n",
       "      <td>124</td>\n",
       "      <td>566</td>\n",
       "      <td>2689.0</td>\n",
       "      <td>21.69</td>\n",
       "    </tr>\n",
       "    <tr>\n",
       "      <th>Expression Variants</th>\n",
       "      <td>287</td>\n",
       "      <td>610</td>\n",
       "      <td>2080.5</td>\n",
       "      <td>7.25</td>\n",
       "    </tr>\n",
       "    <tr>\n",
       "      <th>Rearrangement Variants</th>\n",
       "      <td>114</td>\n",
       "      <td>531</td>\n",
       "      <td>1969.0</td>\n",
       "      <td>17.27</td>\n",
       "    </tr>\n",
       "    <tr>\n",
       "      <th>Transcript Variants</th>\n",
       "      <td>366</td>\n",
       "      <td>446</td>\n",
       "      <td>1336.0</td>\n",
       "      <td>3.65</td>\n",
       "    </tr>\n",
       "    <tr>\n",
       "      <th>Sequence Variants</th>\n",
       "      <td>133</td>\n",
       "      <td>302</td>\n",
       "      <td>1206.0</td>\n",
       "      <td>9.07</td>\n",
       "    </tr>\n",
       "    <tr>\n",
       "      <th>Gene Function Variants</th>\n",
       "      <td>86</td>\n",
       "      <td>345</td>\n",
       "      <td>1134.0</td>\n",
       "      <td>13.19</td>\n",
       "    </tr>\n",
       "    <tr>\n",
       "      <th>Other Variants</th>\n",
       "      <td>83</td>\n",
       "      <td>144</td>\n",
       "      <td>515.5</td>\n",
       "      <td>6.21</td>\n",
       "    </tr>\n",
       "    <tr>\n",
       "      <th>Copy Number Variants</th>\n",
       "      <td>34</td>\n",
       "      <td>67</td>\n",
       "      <td>199.0</td>\n",
       "      <td>5.85</td>\n",
       "    </tr>\n",
       "    <tr>\n",
       "      <th>Genotype Variants</th>\n",
       "      <td>16</td>\n",
       "      <td>27</td>\n",
       "      <td>141.0</td>\n",
       "      <td>8.81</td>\n",
       "    </tr>\n",
       "    <tr>\n",
       "      <th>Epigenetic Modification</th>\n",
       "      <td>14</td>\n",
       "      <td>23</td>\n",
       "      <td>92.0</td>\n",
       "      <td>6.57</td>\n",
       "    </tr>\n",
       "  </tbody>\n",
       "</table>\n",
       "</div>"
      ],
      "text/plain": [
       "                         number_of_variants  #_evidence_items  impact  \\\n",
       "category                                                                \n",
       "Fusion Variants                         290              1218  3816.5   \n",
       "Region Defined Variants                 124               566  2689.0   \n",
       "Expression Variants                     287               610  2080.5   \n",
       "Rearrangement Variants                  114               531  1969.0   \n",
       "Transcript Variants                     366               446  1336.0   \n",
       "Sequence Variants                       133               302  1206.0   \n",
       "Gene Function Variants                   86               345  1134.0   \n",
       "Other Variants                           83               144   515.5   \n",
       "Copy Number Variants                     34                67   199.0   \n",
       "Genotype Variants                        16                27   141.0   \n",
       "Epigenetic Modification                  14                23    92.0   \n",
       "\n",
       "                         average_impact_per_variant  \n",
       "category                                             \n",
       "Fusion Variants                               13.16  \n",
       "Region Defined Variants                       21.69  \n",
       "Expression Variants                            7.25  \n",
       "Rearrangement Variants                        17.27  \n",
       "Transcript Variants                            3.65  \n",
       "Sequence Variants                              9.07  \n",
       "Gene Function Variants                        13.19  \n",
       "Other Variants                                 6.21  \n",
       "Copy Number Variants                           5.85  \n",
       "Genotype Variants                              8.81  \n",
       "Epigenetic Modification                        6.57  "
      ]
     },
     "execution_count": 69,
     "metadata": {},
     "output_type": "execute_result"
    }
   ],
   "source": [
    "not_supported_accepted_submitted_variant_categories_df = not_supported_variants_w_acc_sub_evid_df.groupby(\"category\").aggregate(\n",
    "    {\"gene_name\": \"count\", \"#_evidence_items\": \"sum\", \"evidence_score_sum\": \"sum\"}\n",
    ")\n",
    "not_supported_accepted_submitted_variant_categories_df = not_supported_accepted_submitted_variant_categories_df.rename(\n",
    "    columns={\"evidence_score_sum\": \"impact\", \"gene_name\": \"number_of_variants\"}\n",
    ")\n",
    "not_supported_accepted_submitted_variant_categories_df[\"average_impact_per_variant\"] = (\n",
    "    not_supported_accepted_submitted_variant_categories_df[\"impact\"] / not_supported_accepted_submitted_variant_categories_df[\"number_of_variants\"]\n",
    ").round(2)\n",
    "not_supported_accepted_submitted_variant_categories_df.sort_values(by=[\"impact\"], ascending=False)"
   ]
  },
  {
   "cell_type": "markdown",
   "metadata": {},
   "source": [
    "The difference in impact when removing the submitted variants from the analysis"
   ]
  },
  {
   "cell_type": "code",
   "execution_count": 70,
   "metadata": {},
   "outputs": [
    {
     "data": {
      "text/plain": [
       "category\n",
       "Fusion Variants            1512.0\n",
       "Transcript Variants        1180.0\n",
       "Rearrangement Variants     1076.5\n",
       "Expression Variants         845.5\n",
       "Region Defined Variants     836.0\n",
       "Gene Function Variants      593.5\n",
       "Sequence Variants           349.5\n",
       "Other Variants              289.5\n",
       "Copy Number Variants        110.0\n",
       "Genotype Variants            55.0\n",
       "Epigenetic Modification      10.0\n",
       "Name: impact, dtype: float64"
      ]
     },
     "execution_count": 70,
     "metadata": {},
     "output_type": "execute_result"
    }
   ],
   "source": [
    "(not_supported_accepted_submitted_variant_categories_df[\"impact\"] - not_supported_accepted_variant_categories_df[\"impact\"]).sort_values(ascending=False)"
   ]
  },
  {
   "cell_type": "code",
   "execution_count": 71,
   "metadata": {},
   "outputs": [],
   "source": [
    "not_supported_accepted_submitted_variant_categories_df.to_csv(\"civic_evidence_analysis_output/civic_both_evidence_cat_impact_df.csv\", index=True)\n",
    "not_supported_accepted_variant_categories_df.to_csv(\"civic_evidence_analysis_output/civic_accepted_evidence_only_impact_df.csv\", index=True)"
   ]
  },
  {
   "cell_type": "markdown",
   "metadata": {},
   "source": [
    "### <a id='toc5_5_2_'></a>[Via Molecular Profile Score- this was not used eventaully since MOA evidence items are only scored by level](#toc0_)"
   ]
  },
  {
   "cell_type": "markdown",
   "metadata": {},
   "source": [
    "#### <a id='toc5_5_2_1_'></a>[Import molecular profile id](#toc0_)"
   ]
  },
  {
   "cell_type": "code",
   "execution_count": 72,
   "metadata": {},
   "outputs": [
    {
     "data": {
      "text/html": [
       "<div>\n",
       "<style scoped>\n",
       "    .dataframe tbody tr th:only-of-type {\n",
       "        vertical-align: middle;\n",
       "    }\n",
       "\n",
       "    .dataframe tbody tr th {\n",
       "        vertical-align: top;\n",
       "    }\n",
       "\n",
       "    .dataframe thead th {\n",
       "        text-align: right;\n",
       "    }\n",
       "</style>\n",
       "<table border=\"1\" class=\"dataframe\">\n",
       "  <thead>\n",
       "    <tr style=\"text-align: right;\">\n",
       "      <th></th>\n",
       "      <th>variant_id</th>\n",
       "      <th>gene_name</th>\n",
       "      <th>variant_name</th>\n",
       "      <th>civic_variant_types</th>\n",
       "      <th>category</th>\n",
       "      <th>variant_accepted</th>\n",
       "      <th>molecular_profile_id</th>\n",
       "    </tr>\n",
       "  </thead>\n",
       "  <tbody>\n",
       "    <tr>\n",
       "      <th>0</th>\n",
       "      <td>4170</td>\n",
       "      <td>VHL</td>\n",
       "      <td>NaN</td>\n",
       "      <td>Not provided</td>\n",
       "      <td>Transcript Variants</td>\n",
       "      <td>False</td>\n",
       "      <td>[4038]</td>\n",
       "    </tr>\n",
       "    <tr>\n",
       "      <th>1</th>\n",
       "      <td>4417</td>\n",
       "      <td>ALK</td>\n",
       "      <td>FBXO11::ALK</td>\n",
       "      <td>Not provided</td>\n",
       "      <td>Fusion Variants</td>\n",
       "      <td>False</td>\n",
       "      <td>[4350]</td>\n",
       "    </tr>\n",
       "    <tr>\n",
       "      <th>2</th>\n",
       "      <td>4214</td>\n",
       "      <td>VHL</td>\n",
       "      <td>NaN</td>\n",
       "      <td>Not provided</td>\n",
       "      <td>Transcript Variants</td>\n",
       "      <td>False</td>\n",
       "      <td>[4082]</td>\n",
       "    </tr>\n",
       "    <tr>\n",
       "      <th>3</th>\n",
       "      <td>4216</td>\n",
       "      <td>VHL</td>\n",
       "      <td>NaN</td>\n",
       "      <td>Not provided</td>\n",
       "      <td>Transcript Variants</td>\n",
       "      <td>False</td>\n",
       "      <td>[4084]</td>\n",
       "    </tr>\n",
       "    <tr>\n",
       "      <th>4</th>\n",
       "      <td>4278</td>\n",
       "      <td>VHL</td>\n",
       "      <td>NaN</td>\n",
       "      <td>Not provided</td>\n",
       "      <td>Transcript Variants</td>\n",
       "      <td>False</td>\n",
       "      <td>[4146]</td>\n",
       "    </tr>\n",
       "  </tbody>\n",
       "</table>\n",
       "</div>"
      ],
      "text/plain": [
       "   variant_id gene_name  variant_name civic_variant_types  \\\n",
       "0        4170       VHL           NaN        Not provided   \n",
       "1        4417       ALK   FBXO11::ALK        Not provided   \n",
       "2        4214       VHL           NaN        Not provided   \n",
       "3        4216       VHL           NaN        Not provided   \n",
       "4        4278       VHL           NaN        Not provided   \n",
       "\n",
       "              category  variant_accepted molecular_profile_id  \n",
       "0  Transcript Variants             False               [4038]  \n",
       "1      Fusion Variants             False               [4350]  \n",
       "2  Transcript Variants             False               [4082]  \n",
       "3  Transcript Variants             False               [4084]  \n",
       "4  Transcript Variants             False               [4146]  "
      ]
     },
     "execution_count": 72,
     "metadata": {},
     "output_type": "execute_result"
    }
   ],
   "source": [
    "not_supported_variants_add_molprof_df = transform_df_mp_id(not_supported_queries_df)\n",
    "not_supported_variants_add_molprof_df.head()"
   ]
  },
  {
   "cell_type": "markdown",
   "metadata": {},
   "source": [
    "#### <a id='toc5_5_2_2_'></a>[Import molecular profile scores](#toc0_)"
   ]
  },
  {
   "cell_type": "code",
   "execution_count": 73,
   "metadata": {},
   "outputs": [
    {
     "data": {
      "text/html": [
       "<div>\n",
       "<style scoped>\n",
       "    .dataframe tbody tr th:only-of-type {\n",
       "        vertical-align: middle;\n",
       "    }\n",
       "\n",
       "    .dataframe tbody tr th {\n",
       "        vertical-align: top;\n",
       "    }\n",
       "\n",
       "    .dataframe thead th {\n",
       "        text-align: right;\n",
       "    }\n",
       "</style>\n",
       "<table border=\"1\" class=\"dataframe\">\n",
       "  <thead>\n",
       "    <tr style=\"text-align: right;\">\n",
       "      <th></th>\n",
       "      <th>variant_id</th>\n",
       "      <th>gene_name</th>\n",
       "      <th>variant_name</th>\n",
       "      <th>civic_variant_types</th>\n",
       "      <th>category</th>\n",
       "      <th>variant_accepted</th>\n",
       "      <th>molecular_profile_id</th>\n",
       "      <th>molecular_profile_score</th>\n",
       "    </tr>\n",
       "  </thead>\n",
       "  <tbody>\n",
       "    <tr>\n",
       "      <th>0</th>\n",
       "      <td>4170</td>\n",
       "      <td>VHL</td>\n",
       "      <td>NaN</td>\n",
       "      <td>Not provided</td>\n",
       "      <td>Transcript Variants</td>\n",
       "      <td>False</td>\n",
       "      <td>[4038]</td>\n",
       "      <td>[0.0]</td>\n",
       "    </tr>\n",
       "    <tr>\n",
       "      <th>1</th>\n",
       "      <td>4417</td>\n",
       "      <td>ALK</td>\n",
       "      <td>FBXO11::ALK</td>\n",
       "      <td>Not provided</td>\n",
       "      <td>Fusion Variants</td>\n",
       "      <td>False</td>\n",
       "      <td>[4350]</td>\n",
       "      <td>[0.0]</td>\n",
       "    </tr>\n",
       "    <tr>\n",
       "      <th>2</th>\n",
       "      <td>4214</td>\n",
       "      <td>VHL</td>\n",
       "      <td>NaN</td>\n",
       "      <td>Not provided</td>\n",
       "      <td>Transcript Variants</td>\n",
       "      <td>False</td>\n",
       "      <td>[4082]</td>\n",
       "      <td>[0.0]</td>\n",
       "    </tr>\n",
       "    <tr>\n",
       "      <th>3</th>\n",
       "      <td>4216</td>\n",
       "      <td>VHL</td>\n",
       "      <td>NaN</td>\n",
       "      <td>Not provided</td>\n",
       "      <td>Transcript Variants</td>\n",
       "      <td>False</td>\n",
       "      <td>[4084]</td>\n",
       "      <td>[0.0]</td>\n",
       "    </tr>\n",
       "    <tr>\n",
       "      <th>4</th>\n",
       "      <td>4278</td>\n",
       "      <td>VHL</td>\n",
       "      <td>NaN</td>\n",
       "      <td>Not provided</td>\n",
       "      <td>Transcript Variants</td>\n",
       "      <td>False</td>\n",
       "      <td>[4146]</td>\n",
       "      <td>[0.0]</td>\n",
       "    </tr>\n",
       "  </tbody>\n",
       "</table>\n",
       "</div>"
      ],
      "text/plain": [
       "   variant_id gene_name  variant_name civic_variant_types  \\\n",
       "0        4170       VHL           NaN        Not provided   \n",
       "1        4417       ALK   FBXO11::ALK        Not provided   \n",
       "2        4214       VHL           NaN        Not provided   \n",
       "3        4216       VHL           NaN        Not provided   \n",
       "4        4278       VHL           NaN        Not provided   \n",
       "\n",
       "              category  variant_accepted molecular_profile_id  \\\n",
       "0  Transcript Variants             False               [4038]   \n",
       "1      Fusion Variants             False               [4350]   \n",
       "2  Transcript Variants             False               [4082]   \n",
       "3  Transcript Variants             False               [4084]   \n",
       "4  Transcript Variants             False               [4146]   \n",
       "\n",
       "  molecular_profile_score  \n",
       "0                   [0.0]  \n",
       "1                   [0.0]  \n",
       "2                   [0.0]  \n",
       "3                   [0.0]  \n",
       "4                   [0.0]  "
      ]
     },
     "execution_count": 73,
     "metadata": {},
     "output_type": "execute_result"
    }
   ],
   "source": [
    "not_supported_variants_add_molprof_df = transform_df_mp_score(\n",
    "    not_supported_variants_add_molprof_df\n",
    ")\n",
    "not_supported_variants_add_molprof_df.head()"
   ]
  },
  {
   "cell_type": "code",
   "execution_count": 74,
   "metadata": {},
   "outputs": [
    {
     "data": {
      "text/html": [
       "<div>\n",
       "<style scoped>\n",
       "    .dataframe tbody tr th:only-of-type {\n",
       "        vertical-align: middle;\n",
       "    }\n",
       "\n",
       "    .dataframe tbody tr th {\n",
       "        vertical-align: top;\n",
       "    }\n",
       "\n",
       "    .dataframe thead th {\n",
       "        text-align: right;\n",
       "    }\n",
       "</style>\n",
       "<table border=\"1\" class=\"dataframe\">\n",
       "  <thead>\n",
       "    <tr style=\"text-align: right;\">\n",
       "      <th></th>\n",
       "      <th>variant_id</th>\n",
       "      <th>gene_name</th>\n",
       "      <th>variant_name</th>\n",
       "      <th>civic_variant_types</th>\n",
       "      <th>category</th>\n",
       "      <th>variant_accepted</th>\n",
       "      <th>molecular_profile_id</th>\n",
       "      <th>molecular_profile_score</th>\n",
       "      <th>molecular_profile_score_sum</th>\n",
       "    </tr>\n",
       "  </thead>\n",
       "  <tbody>\n",
       "    <tr>\n",
       "      <th>0</th>\n",
       "      <td>4170</td>\n",
       "      <td>VHL</td>\n",
       "      <td>NaN</td>\n",
       "      <td>Not provided</td>\n",
       "      <td>Transcript Variants</td>\n",
       "      <td>False</td>\n",
       "      <td>[4038]</td>\n",
       "      <td>[0.0]</td>\n",
       "      <td>0.0</td>\n",
       "    </tr>\n",
       "    <tr>\n",
       "      <th>1</th>\n",
       "      <td>4417</td>\n",
       "      <td>ALK</td>\n",
       "      <td>FBXO11::ALK</td>\n",
       "      <td>Not provided</td>\n",
       "      <td>Fusion Variants</td>\n",
       "      <td>False</td>\n",
       "      <td>[4350]</td>\n",
       "      <td>[0.0]</td>\n",
       "      <td>0.0</td>\n",
       "    </tr>\n",
       "    <tr>\n",
       "      <th>2</th>\n",
       "      <td>4214</td>\n",
       "      <td>VHL</td>\n",
       "      <td>NaN</td>\n",
       "      <td>Not provided</td>\n",
       "      <td>Transcript Variants</td>\n",
       "      <td>False</td>\n",
       "      <td>[4082]</td>\n",
       "      <td>[0.0]</td>\n",
       "      <td>0.0</td>\n",
       "    </tr>\n",
       "    <tr>\n",
       "      <th>3</th>\n",
       "      <td>4216</td>\n",
       "      <td>VHL</td>\n",
       "      <td>NaN</td>\n",
       "      <td>Not provided</td>\n",
       "      <td>Transcript Variants</td>\n",
       "      <td>False</td>\n",
       "      <td>[4084]</td>\n",
       "      <td>[0.0]</td>\n",
       "      <td>0.0</td>\n",
       "    </tr>\n",
       "    <tr>\n",
       "      <th>4</th>\n",
       "      <td>4278</td>\n",
       "      <td>VHL</td>\n",
       "      <td>NaN</td>\n",
       "      <td>Not provided</td>\n",
       "      <td>Transcript Variants</td>\n",
       "      <td>False</td>\n",
       "      <td>[4146]</td>\n",
       "      <td>[0.0]</td>\n",
       "      <td>0.0</td>\n",
       "    </tr>\n",
       "  </tbody>\n",
       "</table>\n",
       "</div>"
      ],
      "text/plain": [
       "   variant_id gene_name  variant_name civic_variant_types  \\\n",
       "0        4170       VHL           NaN        Not provided   \n",
       "1        4417       ALK   FBXO11::ALK        Not provided   \n",
       "2        4214       VHL           NaN        Not provided   \n",
       "3        4216       VHL           NaN        Not provided   \n",
       "4        4278       VHL           NaN        Not provided   \n",
       "\n",
       "              category  variant_accepted molecular_profile_id  \\\n",
       "0  Transcript Variants             False               [4038]   \n",
       "1      Fusion Variants             False               [4350]   \n",
       "2  Transcript Variants             False               [4082]   \n",
       "3  Transcript Variants             False               [4084]   \n",
       "4  Transcript Variants             False               [4146]   \n",
       "\n",
       "  molecular_profile_score  molecular_profile_score_sum  \n",
       "0                   [0.0]                          0.0  \n",
       "1                   [0.0]                          0.0  \n",
       "2                   [0.0]                          0.0  \n",
       "3                   [0.0]                          0.0  \n",
       "4                   [0.0]                          0.0  "
      ]
     },
     "execution_count": 74,
     "metadata": {},
     "output_type": "execute_result"
    }
   ],
   "source": [
    "not_supported_variants_add_molprof_df = transform_df_mp_score_sum(\n",
    "    not_supported_variants_add_molprof_df\n",
    ")\n",
    "not_supported_variants_add_molprof_df.head()"
   ]
  },
  {
   "cell_type": "code",
   "execution_count": 75,
   "metadata": {},
   "outputs": [
    {
     "data": {
      "text/html": [
       "<div>\n",
       "<style scoped>\n",
       "    .dataframe tbody tr th:only-of-type {\n",
       "        vertical-align: middle;\n",
       "    }\n",
       "\n",
       "    .dataframe tbody tr th {\n",
       "        vertical-align: top;\n",
       "    }\n",
       "\n",
       "    .dataframe thead th {\n",
       "        text-align: right;\n",
       "    }\n",
       "</style>\n",
       "<table border=\"1\" class=\"dataframe\">\n",
       "  <thead>\n",
       "    <tr style=\"text-align: right;\">\n",
       "      <th></th>\n",
       "      <th>variant_id</th>\n",
       "      <th>gene_name</th>\n",
       "      <th>variant_name</th>\n",
       "      <th>civic_variant_types</th>\n",
       "      <th>category</th>\n",
       "      <th>variant_accepted</th>\n",
       "      <th>molecular_profile_id</th>\n",
       "      <th>molecular_profile_score</th>\n",
       "      <th>molecular_profile_score_sum</th>\n",
       "    </tr>\n",
       "  </thead>\n",
       "  <tbody>\n",
       "    <tr>\n",
       "      <th>728</th>\n",
       "      <td>1247</td>\n",
       "      <td>BRCA2</td>\n",
       "      <td>M1R</td>\n",
       "      <td>Missense Variant</td>\n",
       "      <td>Other Variants</td>\n",
       "      <td>True</td>\n",
       "      <td>[1221]</td>\n",
       "      <td>[0.0]</td>\n",
       "      <td>0.0</td>\n",
       "    </tr>\n",
       "  </tbody>\n",
       "</table>\n",
       "</div>"
      ],
      "text/plain": [
       "     variant_id gene_name variant_name civic_variant_types        category  \\\n",
       "728        1247     BRCA2          M1R    Missense Variant  Other Variants   \n",
       "\n",
       "     variant_accepted molecular_profile_id molecular_profile_score  \\\n",
       "728              True               [1221]                   [0.0]   \n",
       "\n",
       "     molecular_profile_score_sum  \n",
       "728                          0.0  "
      ]
     },
     "execution_count": 75,
     "metadata": {},
     "output_type": "execute_result"
    }
   ],
   "source": [
    "not_supported_variants_add_molprof_df[\n",
    "    (not_supported_variants_add_molprof_df[\"molecular_profile_score_sum\"] == 0.0)\n",
    "    & (not_supported_variants_add_molprof_df[\"variant_accepted\"] == True)\n",
    "]"
   ]
  },
  {
   "cell_type": "code",
   "execution_count": 76,
   "metadata": {},
   "outputs": [
    {
     "data": {
      "text/plain": [
       "862.5"
      ]
     },
     "execution_count": 76,
     "metadata": {},
     "output_type": "execute_result"
    }
   ],
   "source": [
    "not_supported_variants_add_molprof_df[\"molecular_profile_score_sum\"].max()"
   ]
  },
  {
   "cell_type": "code",
   "execution_count": 77,
   "metadata": {},
   "outputs": [
    {
     "data": {
      "text/html": [
       "<div>\n",
       "<style scoped>\n",
       "    .dataframe tbody tr th:only-of-type {\n",
       "        vertical-align: middle;\n",
       "    }\n",
       "\n",
       "    .dataframe tbody tr th {\n",
       "        vertical-align: top;\n",
       "    }\n",
       "\n",
       "    .dataframe thead th {\n",
       "        text-align: right;\n",
       "    }\n",
       "</style>\n",
       "<table border=\"1\" class=\"dataframe\">\n",
       "  <thead>\n",
       "    <tr style=\"text-align: right;\">\n",
       "      <th></th>\n",
       "      <th>variant_id</th>\n",
       "      <th>gene_name</th>\n",
       "      <th>variant_name</th>\n",
       "      <th>civic_variant_types</th>\n",
       "      <th>category</th>\n",
       "      <th>variant_accepted</th>\n",
       "      <th>molecular_profile_id</th>\n",
       "      <th>molecular_profile_score</th>\n",
       "      <th>molecular_profile_score_sum</th>\n",
       "    </tr>\n",
       "  </thead>\n",
       "  <tbody>\n",
       "    <tr>\n",
       "      <th>7</th>\n",
       "      <td>2930</td>\n",
       "      <td>VHL</td>\n",
       "      <td>NaN</td>\n",
       "      <td>Not provided</td>\n",
       "      <td>Transcript Variants</td>\n",
       "      <td>True</td>\n",
       "      <td>[2799]</td>\n",
       "      <td>[7.5]</td>\n",
       "      <td>7.5</td>\n",
       "    </tr>\n",
       "    <tr>\n",
       "      <th>9</th>\n",
       "      <td>785</td>\n",
       "      <td>CHEK2</td>\n",
       "      <td>1100DELC</td>\n",
       "      <td>Frameshift Truncation</td>\n",
       "      <td>Sequence Variants</td>\n",
       "      <td>True</td>\n",
       "      <td>[766]</td>\n",
       "      <td>[15.0]</td>\n",
       "      <td>15.0</td>\n",
       "    </tr>\n",
       "    <tr>\n",
       "      <th>12</th>\n",
       "      <td>823</td>\n",
       "      <td>EPCAM</td>\n",
       "      <td>3' Exon Deletion</td>\n",
       "      <td>Disruptive Inframe Deletion</td>\n",
       "      <td>Rearrangement Variants</td>\n",
       "      <td>True</td>\n",
       "      <td>[801]</td>\n",
       "      <td>[20.0]</td>\n",
       "      <td>20.0</td>\n",
       "    </tr>\n",
       "    <tr>\n",
       "      <th>13</th>\n",
       "      <td>433</td>\n",
       "      <td>HIF1A</td>\n",
       "      <td>3' UTR Polymorphism</td>\n",
       "      <td>3 Prime UTR Variant;Snp</td>\n",
       "      <td>Region Defined Variants</td>\n",
       "      <td>True</td>\n",
       "      <td>[429]</td>\n",
       "      <td>[10.0]</td>\n",
       "      <td>10.0</td>\n",
       "    </tr>\n",
       "    <tr>\n",
       "      <th>15</th>\n",
       "      <td>2367</td>\n",
       "      <td>VHL</td>\n",
       "      <td>3p26.3-25.3 11Mb del</td>\n",
       "      <td>Not provided</td>\n",
       "      <td>Rearrangement Variants</td>\n",
       "      <td>True</td>\n",
       "      <td>[2240]</td>\n",
       "      <td>[7.5]</td>\n",
       "      <td>7.5</td>\n",
       "    </tr>\n",
       "    <tr>\n",
       "      <th>...</th>\n",
       "      <td>...</td>\n",
       "      <td>...</td>\n",
       "      <td>...</td>\n",
       "      <td>...</td>\n",
       "      <td>...</td>\n",
       "      <td>...</td>\n",
       "      <td>...</td>\n",
       "      <td>...</td>\n",
       "      <td>...</td>\n",
       "    </tr>\n",
       "    <tr>\n",
       "      <th>1543</th>\n",
       "      <td>272</td>\n",
       "      <td>CDKN2A</td>\n",
       "      <td>p16 Expression</td>\n",
       "      <td>NaN</td>\n",
       "      <td>Expression Variants</td>\n",
       "      <td>True</td>\n",
       "      <td>[268]</td>\n",
       "      <td>[180.0]</td>\n",
       "      <td>180.0</td>\n",
       "    </tr>\n",
       "    <tr>\n",
       "      <th>1545</th>\n",
       "      <td>3313</td>\n",
       "      <td>CDKN1A</td>\n",
       "      <td>rs1059234</td>\n",
       "      <td>Not provided</td>\n",
       "      <td>Other Variants</td>\n",
       "      <td>True</td>\n",
       "      <td>[3181]</td>\n",
       "      <td>[15.0]</td>\n",
       "      <td>15.0</td>\n",
       "    </tr>\n",
       "    <tr>\n",
       "      <th>1547</th>\n",
       "      <td>256</td>\n",
       "      <td>KIT</td>\n",
       "      <td>rs17084733</td>\n",
       "      <td>3 Prime UTR Variant</td>\n",
       "      <td>Other Variants</td>\n",
       "      <td>True</td>\n",
       "      <td>[252]</td>\n",
       "      <td>[15.0]</td>\n",
       "      <td>15.0</td>\n",
       "    </tr>\n",
       "    <tr>\n",
       "      <th>1548</th>\n",
       "      <td>2671</td>\n",
       "      <td>CDKN1A</td>\n",
       "      <td>rs1801270</td>\n",
       "      <td>Not provided</td>\n",
       "      <td>Other Variants</td>\n",
       "      <td>True</td>\n",
       "      <td>[2540]</td>\n",
       "      <td>[15.0]</td>\n",
       "      <td>15.0</td>\n",
       "    </tr>\n",
       "    <tr>\n",
       "      <th>1550</th>\n",
       "      <td>705</td>\n",
       "      <td>GADD45A</td>\n",
       "      <td>rs681673</td>\n",
       "      <td>Coding Transcript Intron Variant</td>\n",
       "      <td>Other Variants</td>\n",
       "      <td>True</td>\n",
       "      <td>[686]</td>\n",
       "      <td>[15.0]</td>\n",
       "      <td>15.0</td>\n",
       "    </tr>\n",
       "  </tbody>\n",
       "</table>\n",
       "<p>789 rows × 9 columns</p>\n",
       "</div>"
      ],
      "text/plain": [
       "      variant_id gene_name          variant_name  \\\n",
       "7           2930       VHL                   NaN   \n",
       "9            785     CHEK2              1100DELC   \n",
       "12           823     EPCAM      3' Exon Deletion   \n",
       "13           433     HIF1A   3' UTR Polymorphism   \n",
       "15          2367       VHL  3p26.3-25.3 11Mb del   \n",
       "...          ...       ...                   ...   \n",
       "1543         272    CDKN2A        p16 Expression   \n",
       "1545        3313    CDKN1A             rs1059234   \n",
       "1547         256       KIT            rs17084733   \n",
       "1548        2671    CDKN1A             rs1801270   \n",
       "1550         705   GADD45A              rs681673   \n",
       "\n",
       "                   civic_variant_types                 category  \\\n",
       "7                         Not provided      Transcript Variants   \n",
       "9                Frameshift Truncation        Sequence Variants   \n",
       "12         Disruptive Inframe Deletion   Rearrangement Variants   \n",
       "13             3 Prime UTR Variant;Snp  Region Defined Variants   \n",
       "15                        Not provided   Rearrangement Variants   \n",
       "...                                ...                      ...   \n",
       "1543                               NaN      Expression Variants   \n",
       "1545                      Not provided           Other Variants   \n",
       "1547               3 Prime UTR Variant           Other Variants   \n",
       "1548                      Not provided           Other Variants   \n",
       "1550  Coding Transcript Intron Variant           Other Variants   \n",
       "\n",
       "      variant_accepted molecular_profile_id molecular_profile_score  \\\n",
       "7                 True               [2799]                   [7.5]   \n",
       "9                 True                [766]                  [15.0]   \n",
       "12                True                [801]                  [20.0]   \n",
       "13                True                [429]                  [10.0]   \n",
       "15                True               [2240]                   [7.5]   \n",
       "...                ...                  ...                     ...   \n",
       "1543              True                [268]                 [180.0]   \n",
       "1545              True               [3181]                  [15.0]   \n",
       "1547              True                [252]                  [15.0]   \n",
       "1548              True               [2540]                  [15.0]   \n",
       "1550              True                [686]                  [15.0]   \n",
       "\n",
       "      molecular_profile_score_sum  \n",
       "7                             7.5  \n",
       "9                            15.0  \n",
       "12                           20.0  \n",
       "13                           10.0  \n",
       "15                            7.5  \n",
       "...                           ...  \n",
       "1543                        180.0  \n",
       "1545                         15.0  \n",
       "1547                         15.0  \n",
       "1548                         15.0  \n",
       "1550                         15.0  \n",
       "\n",
       "[789 rows x 9 columns]"
      ]
     },
     "execution_count": 77,
     "metadata": {},
     "output_type": "execute_result"
    }
   ],
   "source": [
    "not_supported_variants_add_molprof_df[\n",
    "    (not_supported_variants_add_molprof_df[\"molecular_profile_score_sum\"] != 0.0)\n",
    "]"
   ]
  },
  {
   "cell_type": "markdown",
   "metadata": {},
   "source": [
    "#### <a id='toc5_5_2_3_'></a>[Impact by Subcategory](#toc0_)"
   ]
  },
  {
   "cell_type": "code",
   "execution_count": 78,
   "metadata": {},
   "outputs": [],
   "source": [
    "not_supported_impact_summary = {\n",
    "    \"Category\": VARIANT_CATEGORY_VALUES,\n",
    "    \"CIVIC Total Sum Impact Score\": [],\n",
    "    \"Average Impact Score per Variant\": [],\n",
    "    \"Average Impact Score per Evidence Item\": [],\n",
    "    \"Total Number Evidence Items\": [\n",
    "        v[\"number_unique_not_supported_category_evidence\"]\n",
    "        for v in not_supported_variant_categories_evidence_summary_data.values()\n",
    "    ],\n",
    "    \"% Accepted Evidence Items\": [\n",
    "        v[\"percentage_accepted_evidence_not_supported_category_variants\"]\n",
    "        for v in not_supported_variant_categories_evidence_summary_data.values()\n",
    "    ],\n",
    "    \"Total Number Variants\": [\n",
    "        v[\"number_unique_not_supported_category_variants\"]\n",
    "        for v in not_supported_variant_categories_summary_data.values()\n",
    "    ],\n",
    "}"
   ]
  },
  {
   "cell_type": "code",
   "execution_count": 79,
   "metadata": {},
   "outputs": [
    {
     "name": "stdout",
     "output_type": "stream",
     "text": [
      "Expression Variants: 3618.0\n",
      "Epigenetic Modification: 285.5\n",
      "Fusion Variants: 6558.75\n",
      "Sequence Variants: 2746.75\n",
      "Gene Function Variants: 1805.5\n",
      "Rearrangement Variants: 2794.0\n",
      "Copy Number Variants: 225.0\n",
      "Other Variants: 653.5\n",
      "Genotype Variants: 312.5\n",
      "Region Defined Variants: 6199.5\n",
      "Transcript Variants: 356.5\n"
     ]
    }
   ],
   "source": [
    "not_supported_variant_categories_impact_data = dict()\n",
    "for category in VARIANT_CATEGORY_VALUES:\n",
    "    not_supported_variant_categories_impact_data[category] = {}\n",
    "    impact_category_df = not_supported_variants_add_molprof_df[\n",
    "        not_supported_variants_add_molprof_df.category == category\n",
    "    ]\n",
    "\n",
    "    total_sum_not_supported_category_impact = impact_category_df[\n",
    "        \"molecular_profile_score_sum\"\n",
    "    ].sum()\n",
    "    not_supported_variant_categories_impact_data[category][\n",
    "        \"total_sum_not_supported_category_impact\"\n",
    "    ] = total_sum_not_supported_category_impact\n",
    "\n",
    "    avg_impact_score_variant = (\n",
    "        total_sum_not_supported_category_impact\n",
    "        / number_unique_not_supported_category_variants\n",
    "    )\n",
    "    not_supported_variant_categories_impact_data[category][\n",
    "        \"avg_impact_score_variant\"\n",
    "    ] = avg_impact_score_variant\n",
    "\n",
    "    avg_impact_score_evidence = (\n",
    "        total_sum_not_supported_category_impact\n",
    "        / number_unique_not_supported_category_evidence\n",
    "    )\n",
    "    not_supported_variant_categories_impact_data[category][\n",
    "        \"avg_impact_score_evidence\"\n",
    "    ] = avg_impact_score_evidence\n",
    "\n",
    "    not_supported_impact_summary[\"CIVIC Total Sum Impact Score\"].append(\n",
    "        total_sum_not_supported_category_impact\n",
    "    )\n",
    "    not_supported_impact_summary[\"Average Impact Score per Variant\"].append(\n",
    "        avg_impact_score_variant\n",
    "    )\n",
    "    not_supported_impact_summary[\"Average Impact Score per Evidence Item\"].append(\n",
    "        avg_impact_score_evidence\n",
    "    )\n",
    "\n",
    "    print(f\"{category}: {total_sum_not_supported_category_impact}\")"
   ]
  },
  {
   "cell_type": "code",
   "execution_count": 80,
   "metadata": {},
   "outputs": [],
   "source": [
    "not_supported_variant_impact_df = pd.DataFrame(not_supported_impact_summary)"
   ]
  },
  {
   "cell_type": "code",
   "execution_count": 81,
   "metadata": {},
   "outputs": [
    {
     "data": {
      "text/html": [
       "<div>\n",
       "<style scoped>\n",
       "    .dataframe tbody tr th:only-of-type {\n",
       "        vertical-align: middle;\n",
       "    }\n",
       "\n",
       "    .dataframe tbody tr th {\n",
       "        vertical-align: top;\n",
       "    }\n",
       "\n",
       "    .dataframe thead th {\n",
       "        text-align: right;\n",
       "    }\n",
       "</style>\n",
       "<table border=\"1\" class=\"dataframe\">\n",
       "  <thead>\n",
       "    <tr style=\"text-align: right;\">\n",
       "      <th></th>\n",
       "      <th>Category</th>\n",
       "      <th>CIVIC Total Sum Impact Score</th>\n",
       "      <th>Average Impact Score per Variant</th>\n",
       "      <th>Average Impact Score per Evidence Item</th>\n",
       "      <th>Total Number Evidence Items</th>\n",
       "      <th>% Accepted Evidence Items</th>\n",
       "      <th>Total Number Variants</th>\n",
       "    </tr>\n",
       "  </thead>\n",
       "  <tbody>\n",
       "    <tr>\n",
       "      <th>0</th>\n",
       "      <td>Expression Variants</td>\n",
       "      <td>3618.00</td>\n",
       "      <td>9.89</td>\n",
       "      <td>8.11</td>\n",
       "      <td>610</td>\n",
       "      <td>56.07%</td>\n",
       "      <td>287</td>\n",
       "    </tr>\n",
       "    <tr>\n",
       "      <th>1</th>\n",
       "      <td>Epigenetic Modification</td>\n",
       "      <td>285.50</td>\n",
       "      <td>0.78</td>\n",
       "      <td>0.64</td>\n",
       "      <td>23</td>\n",
       "      <td>95.65%</td>\n",
       "      <td>14</td>\n",
       "    </tr>\n",
       "    <tr>\n",
       "      <th>2</th>\n",
       "      <td>Fusion Variants</td>\n",
       "      <td>6558.75</td>\n",
       "      <td>17.92</td>\n",
       "      <td>14.71</td>\n",
       "      <td>1218</td>\n",
       "      <td>61.33%</td>\n",
       "      <td>294</td>\n",
       "    </tr>\n",
       "    <tr>\n",
       "      <th>3</th>\n",
       "      <td>Sequence Variants</td>\n",
       "      <td>2746.75</td>\n",
       "      <td>7.50</td>\n",
       "      <td>6.16</td>\n",
       "      <td>302</td>\n",
       "      <td>64.90%</td>\n",
       "      <td>133</td>\n",
       "    </tr>\n",
       "    <tr>\n",
       "      <th>4</th>\n",
       "      <td>Gene Function Variants</td>\n",
       "      <td>1805.50</td>\n",
       "      <td>4.93</td>\n",
       "      <td>4.05</td>\n",
       "      <td>345</td>\n",
       "      <td>44.64%</td>\n",
       "      <td>91</td>\n",
       "    </tr>\n",
       "    <tr>\n",
       "      <th>5</th>\n",
       "      <td>Rearrangement Variants</td>\n",
       "      <td>2794.00</td>\n",
       "      <td>7.63</td>\n",
       "      <td>6.26</td>\n",
       "      <td>531</td>\n",
       "      <td>38.04%</td>\n",
       "      <td>116</td>\n",
       "    </tr>\n",
       "    <tr>\n",
       "      <th>6</th>\n",
       "      <td>Copy Number Variants</td>\n",
       "      <td>225.00</td>\n",
       "      <td>0.61</td>\n",
       "      <td>0.50</td>\n",
       "      <td>67</td>\n",
       "      <td>46.27%</td>\n",
       "      <td>34</td>\n",
       "    </tr>\n",
       "    <tr>\n",
       "      <th>7</th>\n",
       "      <td>Other Variants</td>\n",
       "      <td>653.50</td>\n",
       "      <td>1.79</td>\n",
       "      <td>1.47</td>\n",
       "      <td>144</td>\n",
       "      <td>40.28%</td>\n",
       "      <td>83</td>\n",
       "    </tr>\n",
       "    <tr>\n",
       "      <th>8</th>\n",
       "      <td>Genotype Variants</td>\n",
       "      <td>312.50</td>\n",
       "      <td>0.85</td>\n",
       "      <td>0.70</td>\n",
       "      <td>27</td>\n",
       "      <td>62.96%</td>\n",
       "      <td>16</td>\n",
       "    </tr>\n",
       "    <tr>\n",
       "      <th>9</th>\n",
       "      <td>Region Defined Variants</td>\n",
       "      <td>6199.50</td>\n",
       "      <td>16.94</td>\n",
       "      <td>13.90</td>\n",
       "      <td>566</td>\n",
       "      <td>72.08%</td>\n",
       "      <td>129</td>\n",
       "    </tr>\n",
       "    <tr>\n",
       "      <th>10</th>\n",
       "      <td>Transcript Variants</td>\n",
       "      <td>356.50</td>\n",
       "      <td>0.97</td>\n",
       "      <td>0.80</td>\n",
       "      <td>446</td>\n",
       "      <td>12.11%</td>\n",
       "      <td>366</td>\n",
       "    </tr>\n",
       "  </tbody>\n",
       "</table>\n",
       "</div>"
      ],
      "text/plain": [
       "                   Category  CIVIC Total Sum Impact Score  \\\n",
       "0       Expression Variants                       3618.00   \n",
       "1   Epigenetic Modification                        285.50   \n",
       "2           Fusion Variants                       6558.75   \n",
       "3         Sequence Variants                       2746.75   \n",
       "4    Gene Function Variants                       1805.50   \n",
       "5    Rearrangement Variants                       2794.00   \n",
       "6      Copy Number Variants                        225.00   \n",
       "7            Other Variants                        653.50   \n",
       "8         Genotype Variants                        312.50   \n",
       "9   Region Defined Variants                       6199.50   \n",
       "10      Transcript Variants                        356.50   \n",
       "\n",
       "    Average Impact Score per Variant  Average Impact Score per Evidence Item  \\\n",
       "0                               9.89                                    8.11   \n",
       "1                               0.78                                    0.64   \n",
       "2                              17.92                                   14.71   \n",
       "3                               7.50                                    6.16   \n",
       "4                               4.93                                    4.05   \n",
       "5                               7.63                                    6.26   \n",
       "6                               0.61                                    0.50   \n",
       "7                               1.79                                    1.47   \n",
       "8                               0.85                                    0.70   \n",
       "9                              16.94                                   13.90   \n",
       "10                              0.97                                    0.80   \n",
       "\n",
       "    Total Number Evidence Items % Accepted Evidence Items  \\\n",
       "0                           610                    56.07%   \n",
       "1                            23                    95.65%   \n",
       "2                          1218                    61.33%   \n",
       "3                           302                    64.90%   \n",
       "4                           345                    44.64%   \n",
       "5                           531                    38.04%   \n",
       "6                            67                    46.27%   \n",
       "7                           144                    40.28%   \n",
       "8                            27                    62.96%   \n",
       "9                           566                    72.08%   \n",
       "10                          446                    12.11%   \n",
       "\n",
       "    Total Number Variants  \n",
       "0                     287  \n",
       "1                      14  \n",
       "2                     294  \n",
       "3                     133  \n",
       "4                      91  \n",
       "5                     116  \n",
       "6                      34  \n",
       "7                      83  \n",
       "8                      16  \n",
       "9                     129  \n",
       "10                    366  "
      ]
     },
     "execution_count": 81,
     "metadata": {},
     "output_type": "execute_result"
    }
   ],
   "source": [
    "not_supported_variant_impact_df = not_supported_variant_impact_df.round(2)\n",
    "not_supported_variant_impact_df"
   ]
  },
  {
   "cell_type": "code",
   "execution_count": 82,
   "metadata": {},
   "outputs": [],
   "source": [
    "not_supported_variant_impact_df.to_csv(\n",
    "    \"civic_evidence_analysis_output/not_supported_variant_impact_df.csv\", index=False\n",
    ")"
   ]
  },
  {
   "cell_type": "markdown",
   "metadata": {},
   "source": [
    "# <a id='toc6_'></a>[Summary](#toc0_)"
   ]
  },
  {
   "cell_type": "markdown",
   "metadata": {},
   "source": [
    "## <a id='toc6_1_'></a>[Variant Analysis](#toc0_)"
   ]
  },
  {
   "cell_type": "markdown",
   "metadata": {},
   "source": [
    "### <a id='toc6_1_1_'></a>[Building Summary Table 1 & 2](#toc0_)"
   ]
  },
  {
   "cell_type": "code",
   "execution_count": 83,
   "metadata": {},
   "outputs": [],
   "source": [
    "all_variant_df = pd.DataFrame(variant_analysis_summary)"
   ]
  },
  {
   "cell_type": "code",
   "execution_count": 84,
   "metadata": {},
   "outputs": [],
   "source": [
    "all_variant_df[\"Percentage of all CIViC Variant Items\"] = (\n",
    "    all_variant_df[\"Fraction of all CIViC Variant Items\"].astype(str)\n",
    "    + \"  (\"\n",
    "    + all_variant_df[\"Percentage of all CIViC Variant Items\"]\n",
    "    + \")\"\n",
    ")\n",
    "all_variant_df[\"Percentage of Accepted Variant Items\"] = (\n",
    "    all_variant_df[\"Fraction of Accepted Variant Items\"].astype(str)\n",
    "    + \"  (\"\n",
    "    + all_variant_df[\"Percentage of Accepted Variant Items\"]\n",
    "    + \")\"\n",
    ")\n",
    "all_variant_df[\"Percentage of Not Accepted Variant Items\"] = (\n",
    "    all_variant_df[\"Fraction of Not Accepted Variant Items\"].astype(str)\n",
    "    + \"  (\"\n",
    "    + all_variant_df[\"Percentage of Not Accepted Variant Items\"]\n",
    "    + \")\"\n",
    ")"
   ]
  },
  {
   "cell_type": "code",
   "execution_count": 85,
   "metadata": {},
   "outputs": [],
   "source": [
    "all_variant_df = all_variant_df.drop(\n",
    "    [\n",
    "        \"Fraction of all CIViC Variant Items\",\n",
    "        \"Fraction of Accepted Variant Items\",\n",
    "        \"Fraction of Not Accepted Variant Items\",\n",
    "    ],\n",
    "    axis=1,\n",
    ")"
   ]
  },
  {
   "cell_type": "code",
   "execution_count": 86,
   "metadata": {},
   "outputs": [],
   "source": [
    "all_variant_percent_status_df = all_variant_df.drop(\n",
    "    [\n",
    "        \"Percentage of all CIViC Variant Items\",\n",
    "        \"Count of CIViC Variant Items per Category\",\n",
    "    ],\n",
    "    axis=1,\n",
    ")\n",
    "\n",
    "for_merge_all_variant_percent_of_civic_df = all_variant_df.drop(\n",
    "    [\n",
    "        \"Percentage of Accepted Variant Items\",\n",
    "        \"Percentage of Not Accepted Variant Items\",\n",
    "    ],\n",
    "    axis=1,\n",
    ")\n",
    "\n",
    "all_variant_percent_of_civic_df = for_merge_all_variant_percent_of_civic_df.drop(\n",
    "    [\"Count of CIViC Variant Items per Category\"], axis=1\n",
    ")"
   ]
  },
  {
   "cell_type": "code",
   "execution_count": 87,
   "metadata": {},
   "outputs": [],
   "source": [
    "for_merge_all_variant_percent_of_civic_df.to_csv(\n",
    "    \"civic_evidence_analysis_output/for_merge_all_variant_percent_of_civic_df.csv\", index=False\n",
    ")"
   ]
  },
  {
   "cell_type": "markdown",
   "metadata": {},
   "source": [
    "### <a id='toc6_1_2_'></a>[Summary Table 1](#toc0_)"
   ]
  },
  {
   "cell_type": "markdown",
   "metadata": {},
   "source": [
    "The table below shows the 3 categories that CIViC variants were divided into after normalization and what percentage they make up of all variants in CIViC data."
   ]
  },
  {
   "cell_type": "code",
   "execution_count": 88,
   "metadata": {},
   "outputs": [
    {
     "data": {
      "text/html": [
       "<div>\n",
       "<style scoped>\n",
       "    .dataframe tbody tr th:only-of-type {\n",
       "        vertical-align: middle;\n",
       "    }\n",
       "\n",
       "    .dataframe tbody tr th {\n",
       "        vertical-align: top;\n",
       "    }\n",
       "\n",
       "    .dataframe thead th {\n",
       "        text-align: right;\n",
       "    }\n",
       "</style>\n",
       "<table border=\"1\" class=\"dataframe\">\n",
       "  <thead>\n",
       "    <tr style=\"text-align: right;\">\n",
       "      <th></th>\n",
       "      <th>Percentage of all CIViC Variant Items</th>\n",
       "    </tr>\n",
       "    <tr>\n",
       "      <th>Variant Category</th>\n",
       "      <th></th>\n",
       "    </tr>\n",
       "  </thead>\n",
       "  <tbody>\n",
       "    <tr>\n",
       "      <th>Normalized</th>\n",
       "      <td>1876 / 3519  (53.31%)</td>\n",
       "    </tr>\n",
       "    <tr>\n",
       "      <th>Unable to Normalize</th>\n",
       "      <td>80 / 3519  (2.27%)</td>\n",
       "    </tr>\n",
       "    <tr>\n",
       "      <th>Not Supported</th>\n",
       "      <td>1563 / 3519  (44.42%)</td>\n",
       "    </tr>\n",
       "  </tbody>\n",
       "</table>\n",
       "</div>"
      ],
      "text/plain": [
       "                    Percentage of all CIViC Variant Items\n",
       "Variant Category                                         \n",
       "Normalized                          1876 / 3519  (53.31%)\n",
       "Unable to Normalize                    80 / 3519  (2.27%)\n",
       "Not Supported                       1563 / 3519  (44.42%)"
      ]
     },
     "execution_count": 88,
     "metadata": {},
     "output_type": "execute_result"
    }
   ],
   "source": [
    "all_variant_percent_of_civic_df = all_variant_percent_of_civic_df.set_index(\n",
    "    \"Variant Category\"\n",
    ")\n",
    "all_variant_percent_of_civic_df"
   ]
  },
  {
   "cell_type": "code",
   "execution_count": 89,
   "metadata": {},
   "outputs": [],
   "source": [
    "civic_summary_table_1 = all_variant_percent_of_civic_df"
   ]
  },
  {
   "cell_type": "markdown",
   "metadata": {},
   "source": [
    "### <a id='toc6_1_3_'></a>[Summary Table 2](#toc0_)"
   ]
  },
  {
   "cell_type": "markdown",
   "metadata": {},
   "source": [
    "The table below shows the 3 categories that CIViC variants were divided into after normalization and what percentage of the variants in each category are accepted (have at least one evidence item that is accepted) or not."
   ]
  },
  {
   "cell_type": "code",
   "execution_count": 90,
   "metadata": {},
   "outputs": [
    {
     "data": {
      "text/html": [
       "<div>\n",
       "<style scoped>\n",
       "    .dataframe tbody tr th:only-of-type {\n",
       "        vertical-align: middle;\n",
       "    }\n",
       "\n",
       "    .dataframe tbody tr th {\n",
       "        vertical-align: top;\n",
       "    }\n",
       "\n",
       "    .dataframe thead th {\n",
       "        text-align: right;\n",
       "    }\n",
       "</style>\n",
       "<table border=\"1\" class=\"dataframe\">\n",
       "  <thead>\n",
       "    <tr style=\"text-align: right;\">\n",
       "      <th></th>\n",
       "      <th>Percentage of Accepted Variant Items</th>\n",
       "      <th>Percentage of Not Accepted Variant Items</th>\n",
       "    </tr>\n",
       "    <tr>\n",
       "      <th>Variant Category</th>\n",
       "      <th></th>\n",
       "      <th></th>\n",
       "    </tr>\n",
       "  </thead>\n",
       "  <tbody>\n",
       "    <tr>\n",
       "      <th>Normalized</th>\n",
       "      <td>869 / 1876  (46.32%)</td>\n",
       "      <td>1007 / 1876  (53.68%)</td>\n",
       "    </tr>\n",
       "    <tr>\n",
       "      <th>Unable to Normalize</th>\n",
       "      <td>11 / 80  (13.75%)</td>\n",
       "      <td>69 / 80  (86.25%)</td>\n",
       "    </tr>\n",
       "    <tr>\n",
       "      <th>Not Supported</th>\n",
       "      <td>790 / 1563  (50.54%)</td>\n",
       "      <td>773 / 1563  (49.46%)</td>\n",
       "    </tr>\n",
       "  </tbody>\n",
       "</table>\n",
       "</div>"
      ],
      "text/plain": [
       "                    Percentage of Accepted Variant Items  \\\n",
       "Variant Category                                           \n",
       "Normalized                          869 / 1876  (46.32%)   \n",
       "Unable to Normalize                    11 / 80  (13.75%)   \n",
       "Not Supported                       790 / 1563  (50.54%)   \n",
       "\n",
       "                    Percentage of Not Accepted Variant Items  \n",
       "Variant Category                                              \n",
       "Normalized                             1007 / 1876  (53.68%)  \n",
       "Unable to Normalize                        69 / 80  (86.25%)  \n",
       "Not Supported                           773 / 1563  (49.46%)  "
      ]
     },
     "execution_count": 90,
     "metadata": {},
     "output_type": "execute_result"
    }
   ],
   "source": [
    "all_variant_percent_status_df = all_variant_percent_status_df.set_index(\n",
    "    \"Variant Category\"\n",
    ")\n",
    "all_variant_percent_status_df"
   ]
  },
  {
   "cell_type": "code",
   "execution_count": 91,
   "metadata": {},
   "outputs": [],
   "source": [
    "civic_summary_table_2 = all_variant_percent_status_df"
   ]
  },
  {
   "cell_type": "markdown",
   "metadata": {},
   "source": [
    "### <a id='toc6_1_4_'></a>[Building Summary Tables 3 - 5](#toc0_)"
   ]
  },
  {
   "cell_type": "code",
   "execution_count": 92,
   "metadata": {},
   "outputs": [],
   "source": [
    "not_supported_variant_df = pd.DataFrame(not_supported_variant_analysis_summary)"
   ]
  },
  {
   "cell_type": "code",
   "execution_count": 93,
   "metadata": {},
   "outputs": [],
   "source": [
    "not_supported_variant_df[\"Percent of Not Supported Variant Items\"] = (\n",
    "    not_supported_variant_df[\"Fraction of Not Supported Variant Items\"].astype(str)\n",
    "    + \"  (\"\n",
    "    + not_supported_variant_df[\"Percent of Not Supported Variant Items\"]\n",
    "    + \")\"\n",
    ")\n",
    "not_supported_variant_df[\"Percent of all CIViC Variant Items\"] = (\n",
    "    not_supported_variant_df[\"Fraction of all CIViC Variant Items\"].astype(str)\n",
    "    + \"  (\"\n",
    "    + not_supported_variant_df[\"Percent of all CIViC Variant Items\"]\n",
    "    + \")\"\n",
    ")\n",
    "not_supported_variant_df[\"Percent of Accepted Variant Items\"] = (\n",
    "    not_supported_variant_df[\"Fraction of Accepted Variant Items\"].astype(str)\n",
    "    + \"  (\"\n",
    "    + not_supported_variant_df[\"Percent of Accepted Variant Items\"]\n",
    "    + \")\"\n",
    ")\n",
    "not_supported_variant_df[\"Percent of Not Accepted Variant Items\"] = (\n",
    "    not_supported_variant_df[\"Fraction of Not Accepted Variant Items\"].astype(str)\n",
    "    + \"  (\"\n",
    "    + not_supported_variant_df[\"Percent of Not Accepted Variant Items\"]\n",
    "    + \")\"\n",
    ")"
   ]
  },
  {
   "cell_type": "code",
   "execution_count": 94,
   "metadata": {},
   "outputs": [],
   "source": [
    "not_supported_variant_df = not_supported_variant_df.drop(\n",
    "    [\n",
    "        \"Fraction of Not Supported Variant Items\",\n",
    "        \"Fraction of all CIViC Variant Items\",\n",
    "        \"Fraction of Accepted Variant Items\",\n",
    "        \"Fraction of Not Accepted Variant Items\",\n",
    "    ],\n",
    "    axis=1,\n",
    ")"
   ]
  },
  {
   "cell_type": "code",
   "execution_count": 95,
   "metadata": {},
   "outputs": [],
   "source": [
    "for_merge_not_supported_variant_percent_of_civic_df = not_supported_variant_df.drop(\n",
    "    [\n",
    "        \"Percent of Not Supported Variant Items\",\n",
    "        \"Percent of Accepted Variant Items\",\n",
    "        \"Percent of Not Accepted Variant Items\",\n",
    "    ],\n",
    "    axis=1,\n",
    ")\n",
    "\n",
    "not_supported_variant_percent_of_civic_df = (\n",
    "    for_merge_not_supported_variant_percent_of_civic_df.drop(\n",
    "        [\"Count of CIViC Variant Items per Category\"], axis=1\n",
    "    )\n",
    ")\n",
    "\n",
    "not_supported_variant_percent_of_not_supported_df = not_supported_variant_df.drop(\n",
    "    [\n",
    "        \"Percent of all CIViC Variant Items\",\n",
    "        \"Count of CIViC Variant Items per Category\",\n",
    "        \"Percent of Accepted Variant Items\",\n",
    "        \"Percent of Not Accepted Variant Items\",\n",
    "    ],\n",
    "    axis=1,\n",
    ")\n",
    "\n",
    "not_supported_variant_percent_evidence_df = not_supported_variant_df.drop(\n",
    "    [\n",
    "        \"Percent of all CIViC Variant Items\",\n",
    "        \"Percent of Not Supported Variant Items\",\n",
    "        \"Count of CIViC Variant Items per Category\",\n",
    "    ],\n",
    "    axis=1,\n",
    ")"
   ]
  },
  {
   "cell_type": "code",
   "execution_count": 96,
   "metadata": {},
   "outputs": [],
   "source": [
    "for_merge_not_supported_variant_percent_of_civic_df.to_csv(\n",
    "    \"civic_evidence_analysis_output/for_merge_not_supported_variant_percent_of_civic_df.csv\", index=False\n",
    ")"
   ]
  },
  {
   "cell_type": "markdown",
   "metadata": {},
   "source": [
    "### <a id='toc6_1_5_'></a>[Summary Table 3](#toc0_)"
   ]
  },
  {
   "cell_type": "markdown",
   "metadata": {},
   "source": [
    "The table below shows the categories that the Not Supported variants were broken into and what percentage of all CIViC variants they make up. These percentages will not add up to 100% because Not Supported variants make up 45.62% of all CIViC variants."
   ]
  },
  {
   "cell_type": "code",
   "execution_count": 97,
   "metadata": {},
   "outputs": [
    {
     "data": {
      "text/html": [
       "<div>\n",
       "<style scoped>\n",
       "    .dataframe tbody tr th:only-of-type {\n",
       "        vertical-align: middle;\n",
       "    }\n",
       "\n",
       "    .dataframe tbody tr th {\n",
       "        vertical-align: top;\n",
       "    }\n",
       "\n",
       "    .dataframe thead th {\n",
       "        text-align: right;\n",
       "    }\n",
       "</style>\n",
       "<table border=\"1\" class=\"dataframe\">\n",
       "  <thead>\n",
       "    <tr style=\"text-align: right;\">\n",
       "      <th></th>\n",
       "      <th>Percent of all CIViC Variant Items</th>\n",
       "    </tr>\n",
       "    <tr>\n",
       "      <th>Category</th>\n",
       "      <th></th>\n",
       "    </tr>\n",
       "  </thead>\n",
       "  <tbody>\n",
       "    <tr>\n",
       "      <th>Expression Variants</th>\n",
       "      <td>287 / 3519  (8.16%)</td>\n",
       "    </tr>\n",
       "    <tr>\n",
       "      <th>Epigenetic Modification</th>\n",
       "      <td>14 / 3519  (0.40%)</td>\n",
       "    </tr>\n",
       "    <tr>\n",
       "      <th>Fusion Variants</th>\n",
       "      <td>294 / 3519  (8.35%)</td>\n",
       "    </tr>\n",
       "    <tr>\n",
       "      <th>Sequence Variants</th>\n",
       "      <td>133 / 3519  (3.78%)</td>\n",
       "    </tr>\n",
       "    <tr>\n",
       "      <th>Gene Function Variants</th>\n",
       "      <td>91 / 3519  (2.59%)</td>\n",
       "    </tr>\n",
       "    <tr>\n",
       "      <th>Rearrangement Variants</th>\n",
       "      <td>116 / 3519  (3.30%)</td>\n",
       "    </tr>\n",
       "    <tr>\n",
       "      <th>Copy Number Variants</th>\n",
       "      <td>34 / 3519  (0.97%)</td>\n",
       "    </tr>\n",
       "    <tr>\n",
       "      <th>Other Variants</th>\n",
       "      <td>83 / 3519  (2.36%)</td>\n",
       "    </tr>\n",
       "    <tr>\n",
       "      <th>Genotype Variants</th>\n",
       "      <td>16 / 3519  (0.45%)</td>\n",
       "    </tr>\n",
       "    <tr>\n",
       "      <th>Region Defined Variants</th>\n",
       "      <td>129 / 3519  (3.67%)</td>\n",
       "    </tr>\n",
       "    <tr>\n",
       "      <th>Transcript Variants</th>\n",
       "      <td>366 / 3519  (10.40%)</td>\n",
       "    </tr>\n",
       "  </tbody>\n",
       "</table>\n",
       "</div>"
      ],
      "text/plain": [
       "                        Percent of all CIViC Variant Items\n",
       "Category                                                  \n",
       "Expression Variants                    287 / 3519  (8.16%)\n",
       "Epigenetic Modification                 14 / 3519  (0.40%)\n",
       "Fusion Variants                        294 / 3519  (8.35%)\n",
       "Sequence Variants                      133 / 3519  (3.78%)\n",
       "Gene Function Variants                  91 / 3519  (2.59%)\n",
       "Rearrangement Variants                 116 / 3519  (3.30%)\n",
       "Copy Number Variants                    34 / 3519  (0.97%)\n",
       "Other Variants                          83 / 3519  (2.36%)\n",
       "Genotype Variants                       16 / 3519  (0.45%)\n",
       "Region Defined Variants                129 / 3519  (3.67%)\n",
       "Transcript Variants                   366 / 3519  (10.40%)"
      ]
     },
     "execution_count": 97,
     "metadata": {},
     "output_type": "execute_result"
    }
   ],
   "source": [
    "not_supported_variant_percent_of_civic_df = (\n",
    "    not_supported_variant_percent_of_civic_df.set_index(\"Category\")\n",
    ")\n",
    "not_supported_variant_percent_of_civic_df"
   ]
  },
  {
   "cell_type": "code",
   "execution_count": 98,
   "metadata": {},
   "outputs": [],
   "source": [
    "civic_summary_table_3 = not_supported_variant_percent_of_civic_df"
   ]
  },
  {
   "cell_type": "markdown",
   "metadata": {},
   "source": [
    "### <a id='toc6_1_6_'></a>[Summary Table 4](#toc0_)"
   ]
  },
  {
   "cell_type": "markdown",
   "metadata": {},
   "source": [
    "The table below shows the Not Supported variants broken up into 12 sub categories and what percent each sub category take up in Not Supported variant group."
   ]
  },
  {
   "cell_type": "code",
   "execution_count": 99,
   "metadata": {},
   "outputs": [
    {
     "data": {
      "text/html": [
       "<div>\n",
       "<style scoped>\n",
       "    .dataframe tbody tr th:only-of-type {\n",
       "        vertical-align: middle;\n",
       "    }\n",
       "\n",
       "    .dataframe tbody tr th {\n",
       "        vertical-align: top;\n",
       "    }\n",
       "\n",
       "    .dataframe thead th {\n",
       "        text-align: right;\n",
       "    }\n",
       "</style>\n",
       "<table border=\"1\" class=\"dataframe\">\n",
       "  <thead>\n",
       "    <tr style=\"text-align: right;\">\n",
       "      <th></th>\n",
       "      <th>Percent of Not Supported Variant Items</th>\n",
       "    </tr>\n",
       "    <tr>\n",
       "      <th>Category</th>\n",
       "      <th></th>\n",
       "    </tr>\n",
       "  </thead>\n",
       "  <tbody>\n",
       "    <tr>\n",
       "      <th>Expression Variants</th>\n",
       "      <td>287 / 1563  (18.36%)</td>\n",
       "    </tr>\n",
       "    <tr>\n",
       "      <th>Epigenetic Modification</th>\n",
       "      <td>14 / 1563  (0.90%)</td>\n",
       "    </tr>\n",
       "    <tr>\n",
       "      <th>Fusion Variants</th>\n",
       "      <td>294 / 1563  (18.81%)</td>\n",
       "    </tr>\n",
       "    <tr>\n",
       "      <th>Sequence Variants</th>\n",
       "      <td>133 / 1563  (8.51%)</td>\n",
       "    </tr>\n",
       "    <tr>\n",
       "      <th>Gene Function Variants</th>\n",
       "      <td>91 / 1563  (5.82%)</td>\n",
       "    </tr>\n",
       "    <tr>\n",
       "      <th>Rearrangement Variants</th>\n",
       "      <td>116 / 1563  (7.42%)</td>\n",
       "    </tr>\n",
       "    <tr>\n",
       "      <th>Copy Number Variants</th>\n",
       "      <td>34 / 1563  (2.18%)</td>\n",
       "    </tr>\n",
       "    <tr>\n",
       "      <th>Other Variants</th>\n",
       "      <td>83 / 1563  (5.31%)</td>\n",
       "    </tr>\n",
       "    <tr>\n",
       "      <th>Genotype Variants</th>\n",
       "      <td>16 / 1563  (1.02%)</td>\n",
       "    </tr>\n",
       "    <tr>\n",
       "      <th>Region Defined Variants</th>\n",
       "      <td>129 / 1563  (8.25%)</td>\n",
       "    </tr>\n",
       "    <tr>\n",
       "      <th>Transcript Variants</th>\n",
       "      <td>366 / 1563  (23.42%)</td>\n",
       "    </tr>\n",
       "  </tbody>\n",
       "</table>\n",
       "</div>"
      ],
      "text/plain": [
       "                        Percent of Not Supported Variant Items\n",
       "Category                                                      \n",
       "Expression Variants                       287 / 1563  (18.36%)\n",
       "Epigenetic Modification                     14 / 1563  (0.90%)\n",
       "Fusion Variants                           294 / 1563  (18.81%)\n",
       "Sequence Variants                          133 / 1563  (8.51%)\n",
       "Gene Function Variants                      91 / 1563  (5.82%)\n",
       "Rearrangement Variants                     116 / 1563  (7.42%)\n",
       "Copy Number Variants                        34 / 1563  (2.18%)\n",
       "Other Variants                              83 / 1563  (5.31%)\n",
       "Genotype Variants                           16 / 1563  (1.02%)\n",
       "Region Defined Variants                    129 / 1563  (8.25%)\n",
       "Transcript Variants                       366 / 1563  (23.42%)"
      ]
     },
     "execution_count": 99,
     "metadata": {},
     "output_type": "execute_result"
    }
   ],
   "source": [
    "not_supported_variant_percent_of_not_supported_df = (\n",
    "    not_supported_variant_percent_of_not_supported_df.set_index(\"Category\")\n",
    ")\n",
    "not_supported_variant_percent_of_not_supported_df"
   ]
  },
  {
   "cell_type": "code",
   "execution_count": 100,
   "metadata": {},
   "outputs": [],
   "source": [
    "civic_summary_table_4 = not_supported_variant_percent_of_not_supported_df"
   ]
  },
  {
   "cell_type": "markdown",
   "metadata": {},
   "source": [
    "### <a id='toc6_1_7_'></a>[Summary Table 5](#toc0_)"
   ]
  },
  {
   "cell_type": "markdown",
   "metadata": {},
   "source": [
    "The table below shows the Not Supported variants broken up into 12 sub categories and what percent each sub category take up in Not Supported variant group."
   ]
  },
  {
   "cell_type": "code",
   "execution_count": 101,
   "metadata": {},
   "outputs": [
    {
     "data": {
      "text/html": [
       "<div>\n",
       "<style scoped>\n",
       "    .dataframe tbody tr th:only-of-type {\n",
       "        vertical-align: middle;\n",
       "    }\n",
       "\n",
       "    .dataframe tbody tr th {\n",
       "        vertical-align: top;\n",
       "    }\n",
       "\n",
       "    .dataframe thead th {\n",
       "        text-align: right;\n",
       "    }\n",
       "</style>\n",
       "<table border=\"1\" class=\"dataframe\">\n",
       "  <thead>\n",
       "    <tr style=\"text-align: right;\">\n",
       "      <th></th>\n",
       "      <th>Percent of Accepted Variant Items</th>\n",
       "      <th>Percent of Not Accepted Variant Items</th>\n",
       "    </tr>\n",
       "    <tr>\n",
       "      <th>Category</th>\n",
       "      <th></th>\n",
       "      <th></th>\n",
       "    </tr>\n",
       "  </thead>\n",
       "  <tbody>\n",
       "    <tr>\n",
       "      <th>Expression Variants</th>\n",
       "      <td>180 / 287  (62.72%)</td>\n",
       "      <td>107 / 287  (37.28%)</td>\n",
       "    </tr>\n",
       "    <tr>\n",
       "      <th>Epigenetic Modification</th>\n",
       "      <td>14 / 14  (100.00%)</td>\n",
       "      <td>0 / 14  (0.00%)</td>\n",
       "    </tr>\n",
       "    <tr>\n",
       "      <th>Fusion Variants</th>\n",
       "      <td>204 / 294  (69.39%)</td>\n",
       "      <td>90 / 294  (30.61%)</td>\n",
       "    </tr>\n",
       "    <tr>\n",
       "      <th>Sequence Variants</th>\n",
       "      <td>73 / 133  (54.89%)</td>\n",
       "      <td>60 / 133  (45.11%)</td>\n",
       "    </tr>\n",
       "    <tr>\n",
       "      <th>Gene Function Variants</th>\n",
       "      <td>49 / 91  (53.85%)</td>\n",
       "      <td>42 / 91  (46.15%)</td>\n",
       "    </tr>\n",
       "    <tr>\n",
       "      <th>Rearrangement Variants</th>\n",
       "      <td>47 / 116  (40.52%)</td>\n",
       "      <td>69 / 116  (59.48%)</td>\n",
       "    </tr>\n",
       "    <tr>\n",
       "      <th>Copy Number Variants</th>\n",
       "      <td>19 / 34  (55.88%)</td>\n",
       "      <td>15 / 34  (44.12%)</td>\n",
       "    </tr>\n",
       "    <tr>\n",
       "      <th>Other Variants</th>\n",
       "      <td>42 / 83  (50.60%)</td>\n",
       "      <td>41 / 83  (49.40%)</td>\n",
       "    </tr>\n",
       "    <tr>\n",
       "      <th>Genotype Variants</th>\n",
       "      <td>12 / 16  (75.00%)</td>\n",
       "      <td>4 / 16  (25.00%)</td>\n",
       "    </tr>\n",
       "    <tr>\n",
       "      <th>Region Defined Variants</th>\n",
       "      <td>99 / 129  (76.74%)</td>\n",
       "      <td>30 / 129  (23.26%)</td>\n",
       "    </tr>\n",
       "    <tr>\n",
       "      <th>Transcript Variants</th>\n",
       "      <td>51 / 366  (13.93%)</td>\n",
       "      <td>315 / 366  (86.07%)</td>\n",
       "    </tr>\n",
       "  </tbody>\n",
       "</table>\n",
       "</div>"
      ],
      "text/plain": [
       "                        Percent of Accepted Variant Items  \\\n",
       "Category                                                    \n",
       "Expression Variants                   180 / 287  (62.72%)   \n",
       "Epigenetic Modification                14 / 14  (100.00%)   \n",
       "Fusion Variants                       204 / 294  (69.39%)   \n",
       "Sequence Variants                      73 / 133  (54.89%)   \n",
       "Gene Function Variants                  49 / 91  (53.85%)   \n",
       "Rearrangement Variants                 47 / 116  (40.52%)   \n",
       "Copy Number Variants                    19 / 34  (55.88%)   \n",
       "Other Variants                          42 / 83  (50.60%)   \n",
       "Genotype Variants                       12 / 16  (75.00%)   \n",
       "Region Defined Variants                99 / 129  (76.74%)   \n",
       "Transcript Variants                    51 / 366  (13.93%)   \n",
       "\n",
       "                        Percent of Not Accepted Variant Items  \n",
       "Category                                                       \n",
       "Expression Variants                       107 / 287  (37.28%)  \n",
       "Epigenetic Modification                       0 / 14  (0.00%)  \n",
       "Fusion Variants                            90 / 294  (30.61%)  \n",
       "Sequence Variants                          60 / 133  (45.11%)  \n",
       "Gene Function Variants                      42 / 91  (46.15%)  \n",
       "Rearrangement Variants                     69 / 116  (59.48%)  \n",
       "Copy Number Variants                        15 / 34  (44.12%)  \n",
       "Other Variants                              41 / 83  (49.40%)  \n",
       "Genotype Variants                            4 / 16  (25.00%)  \n",
       "Region Defined Variants                    30 / 129  (23.26%)  \n",
       "Transcript Variants                       315 / 366  (86.07%)  "
      ]
     },
     "execution_count": 101,
     "metadata": {},
     "output_type": "execute_result"
    }
   ],
   "source": [
    "not_supported_variant_percent_evidence_df = (\n",
    "    not_supported_variant_percent_evidence_df.set_index(\"Category\")\n",
    ")\n",
    "not_supported_variant_percent_evidence_df"
   ]
  },
  {
   "cell_type": "code",
   "execution_count": 102,
   "metadata": {},
   "outputs": [],
   "source": [
    "civic_summary_table_5 = not_supported_variant_percent_evidence_df"
   ]
  },
  {
   "cell_type": "markdown",
   "metadata": {},
   "source": [
    "## <a id='toc6_2_'></a>[Evidence Analysis](#toc0_)"
   ]
  },
  {
   "cell_type": "markdown",
   "metadata": {},
   "source": [
    "### <a id='toc6_2_1_'></a>[Building Summary Tables 6 & 7](#toc0_)"
   ]
  },
  {
   "cell_type": "code",
   "execution_count": 103,
   "metadata": {},
   "outputs": [],
   "source": [
    "all_variant_evidence_df = pd.DataFrame(evidence_analysis_summary)"
   ]
  },
  {
   "cell_type": "code",
   "execution_count": 104,
   "metadata": {},
   "outputs": [],
   "source": [
    "all_variant_evidence_df[\"Percentage of all CIViC Evidence Items\"] = (\n",
    "    all_variant_evidence_df[\"Fraction of all CIViC Evidence Items\"].astype(str)\n",
    "    + \"  (\"\n",
    "    + all_variant_evidence_df[\"Percentage of all CIViC Evidence Items\"]\n",
    "    + \")\"\n",
    ")\n",
    "all_variant_evidence_df[\"Percentage of Accepted Evidence Items\"] = (\n",
    "    all_variant_evidence_df[\"Fraction of Accepted Evidence Items\"].astype(str)\n",
    "    + \"  (\"\n",
    "    + all_variant_evidence_df[\"Percentage of Accepted Evidence Items\"]\n",
    "    + \")\"\n",
    ")\n",
    "all_variant_evidence_df[\"Percentage of Submitted Evidence Items\"] = (\n",
    "    all_variant_evidence_df[\"Fraction of Submitted Evidence Items\"].astype(str)\n",
    "    + \"  (\"\n",
    "    + all_variant_evidence_df[\"Percentage of Submitted Evidence Items\"]\n",
    "    + \")\"\n",
    ")"
   ]
  },
  {
   "cell_type": "code",
   "execution_count": 105,
   "metadata": {},
   "outputs": [],
   "source": [
    "all_variant_evidence_df = all_variant_evidence_df.drop(\n",
    "    [\n",
    "        \"Fraction of all CIViC Evidence Items\",\n",
    "        \"Fraction of Accepted Evidence Items\",\n",
    "        \"Fraction of Submitted Evidence Items\",\n",
    "    ],\n",
    "    axis=1,\n",
    ")"
   ]
  },
  {
   "cell_type": "code",
   "execution_count": 106,
   "metadata": {},
   "outputs": [],
   "source": [
    "for_merge_all_variant_evidence_percent_of_civic_df = all_variant_evidence_df.drop(\n",
    "    [\"Percentage of Accepted Evidence Items\", \"Percentage of Submitted Evidence Items\"],\n",
    "    axis=1,\n",
    ")\n",
    "\n",
    "all_variant_evidence_percent_of_civic_df = (\n",
    "    for_merge_all_variant_evidence_percent_of_civic_df.drop(\n",
    "        [\"Count of CIViC Evidence Items per Category\"], axis=1\n",
    "    )\n",
    ")\n",
    "\n",
    "all_variant_evidence_percent_evidence_df = all_variant_evidence_df.drop(\n",
    "    [\n",
    "        \"Percentage of all CIViC Evidence Items\",\n",
    "        \"Count of CIViC Evidence Items per Category\",\n",
    "    ],\n",
    "    axis=1,\n",
    ")"
   ]
  },
  {
   "cell_type": "code",
   "execution_count": 107,
   "metadata": {},
   "outputs": [],
   "source": [
    "for_merge_all_variant_evidence_percent_of_civic_df.to_csv(\n",
    "    \"civic_evidence_analysis_output/for_merge_all_variant_evidence_percent_of_civic_df.csv\", index=False\n",
    ")"
   ]
  },
  {
   "cell_type": "markdown",
   "metadata": {},
   "source": [
    "### <a id='toc6_2_2_'></a>[Summary Table 6](#toc0_)"
   ]
  },
  {
   "cell_type": "markdown",
   "metadata": {},
   "source": [
    "The table below shows what percentage of all evidence items in CIViC are associated with Normalized, Unable to Normalize, and Not Supported variants. This will not add up to 100% because evidence itmes may be used across multiple variants."
   ]
  },
  {
   "cell_type": "code",
   "execution_count": 108,
   "metadata": {},
   "outputs": [
    {
     "data": {
      "text/html": [
       "<div>\n",
       "<style scoped>\n",
       "    .dataframe tbody tr th:only-of-type {\n",
       "        vertical-align: middle;\n",
       "    }\n",
       "\n",
       "    .dataframe tbody tr th {\n",
       "        vertical-align: top;\n",
       "    }\n",
       "\n",
       "    .dataframe thead th {\n",
       "        text-align: right;\n",
       "    }\n",
       "</style>\n",
       "<table border=\"1\" class=\"dataframe\">\n",
       "  <thead>\n",
       "    <tr style=\"text-align: right;\">\n",
       "      <th></th>\n",
       "      <th>Percentage of all CIViC Evidence Items</th>\n",
       "    </tr>\n",
       "    <tr>\n",
       "      <th>Variant Category</th>\n",
       "      <th></th>\n",
       "    </tr>\n",
       "  </thead>\n",
       "  <tbody>\n",
       "    <tr>\n",
       "      <th>Normalized</th>\n",
       "      <td>5866 / 9920  (59.13%)</td>\n",
       "    </tr>\n",
       "    <tr>\n",
       "      <th>Unable to Normalize</th>\n",
       "      <td>127 / 9920  (1.28%)</td>\n",
       "    </tr>\n",
       "    <tr>\n",
       "      <th>Not Supported</th>\n",
       "      <td>4243 / 9920  (42.77%)</td>\n",
       "    </tr>\n",
       "  </tbody>\n",
       "</table>\n",
       "</div>"
      ],
      "text/plain": [
       "                    Percentage of all CIViC Evidence Items\n",
       "Variant Category                                          \n",
       "Normalized                           5866 / 9920  (59.13%)\n",
       "Unable to Normalize                    127 / 9920  (1.28%)\n",
       "Not Supported                        4243 / 9920  (42.77%)"
      ]
     },
     "execution_count": 108,
     "metadata": {},
     "output_type": "execute_result"
    }
   ],
   "source": [
    "all_variant_evidence_percent_of_civic_df = (\n",
    "    all_variant_evidence_percent_of_civic_df.set_index(\"Variant Category\")\n",
    ")\n",
    "all_variant_evidence_percent_of_civic_df"
   ]
  },
  {
   "cell_type": "code",
   "execution_count": 109,
   "metadata": {},
   "outputs": [],
   "source": [
    "civic_summary_table_6 = all_variant_evidence_percent_of_civic_df"
   ]
  },
  {
   "cell_type": "markdown",
   "metadata": {},
   "source": [
    "### <a id='toc6_2_3_'></a>[Summmary Table 7](#toc0_)"
   ]
  },
  {
   "cell_type": "markdown",
   "metadata": {},
   "source": [
    "The table below shows the percentage of accepted and sumbitted evidence items per category of variants."
   ]
  },
  {
   "cell_type": "code",
   "execution_count": 110,
   "metadata": {},
   "outputs": [
    {
     "data": {
      "text/html": [
       "<div>\n",
       "<style scoped>\n",
       "    .dataframe tbody tr th:only-of-type {\n",
       "        vertical-align: middle;\n",
       "    }\n",
       "\n",
       "    .dataframe tbody tr th {\n",
       "        vertical-align: top;\n",
       "    }\n",
       "\n",
       "    .dataframe thead th {\n",
       "        text-align: right;\n",
       "    }\n",
       "</style>\n",
       "<table border=\"1\" class=\"dataframe\">\n",
       "  <thead>\n",
       "    <tr style=\"text-align: right;\">\n",
       "      <th></th>\n",
       "      <th>Percentage of Accepted Evidence Items</th>\n",
       "      <th>Percentage of Submitted Evidence Items</th>\n",
       "    </tr>\n",
       "    <tr>\n",
       "      <th>Variant Category</th>\n",
       "      <th></th>\n",
       "      <th></th>\n",
       "    </tr>\n",
       "  </thead>\n",
       "  <tbody>\n",
       "    <tr>\n",
       "      <th>Normalized</th>\n",
       "      <td>2080 / 5866  (35.46%)</td>\n",
       "      <td>3786 / 5866  (64.54%)</td>\n",
       "    </tr>\n",
       "    <tr>\n",
       "      <th>Unable to Normalize</th>\n",
       "      <td>17 / 127  (13.39%)</td>\n",
       "      <td>110 / 127  (86.61%)</td>\n",
       "    </tr>\n",
       "    <tr>\n",
       "      <th>Not Supported</th>\n",
       "      <td>2231 / 4243  (52.58%)</td>\n",
       "      <td>2048 / 4243  (48.27%)</td>\n",
       "    </tr>\n",
       "  </tbody>\n",
       "</table>\n",
       "</div>"
      ],
      "text/plain": [
       "                    Percentage of Accepted Evidence Items  \\\n",
       "Variant Category                                            \n",
       "Normalized                          2080 / 5866  (35.46%)   \n",
       "Unable to Normalize                    17 / 127  (13.39%)   \n",
       "Not Supported                       2231 / 4243  (52.58%)   \n",
       "\n",
       "                    Percentage of Submitted Evidence Items  \n",
       "Variant Category                                            \n",
       "Normalized                           3786 / 5866  (64.54%)  \n",
       "Unable to Normalize                    110 / 127  (86.61%)  \n",
       "Not Supported                        2048 / 4243  (48.27%)  "
      ]
     },
     "execution_count": 110,
     "metadata": {},
     "output_type": "execute_result"
    }
   ],
   "source": [
    "all_variant_evidence_percent_evidence_df = (\n",
    "    all_variant_evidence_percent_evidence_df.set_index(\"Variant Category\")\n",
    ")\n",
    "all_variant_evidence_percent_evidence_df"
   ]
  },
  {
   "cell_type": "code",
   "execution_count": 111,
   "metadata": {},
   "outputs": [],
   "source": [
    "civic_summary_table_7 = all_variant_evidence_percent_evidence_df"
   ]
  },
  {
   "cell_type": "markdown",
   "metadata": {},
   "source": [
    "### <a id='toc6_2_4_'></a>[Building Summary Tables 8 - 10](#toc0_)"
   ]
  },
  {
   "cell_type": "code",
   "execution_count": 112,
   "metadata": {},
   "outputs": [],
   "source": [
    "not_supported_variant_evidence_df = pd.DataFrame(not_supported_variant_evidence_summary)"
   ]
  },
  {
   "cell_type": "code",
   "execution_count": 113,
   "metadata": {},
   "outputs": [],
   "source": [
    "not_supported_variant_evidence_df[\"Percent of all CIViC Evidence Items\"] = (\n",
    "    not_supported_variant_evidence_df[\"Fraction of CIViC Evidence Items\"].astype(str)\n",
    "    + \"  (\"\n",
    "    + not_supported_variant_evidence_df[\"Percent of all CIViC Evidence Items\"]\n",
    "    + \")\"\n",
    ")\n",
    "not_supported_variant_evidence_df[\"Percent of Not Supported Variant Evidence Items\"] = (\n",
    "    not_supported_variant_evidence_df[\n",
    "        \"Fraction of Not Supported Variant Evidence Items\"\n",
    "    ].astype(str)\n",
    "    + \"  (\"\n",
    "    + not_supported_variant_evidence_df[\n",
    "        \"Percent of Not Supported Variant Evidence Items\"\n",
    "    ]\n",
    "    + \")\"\n",
    ")\n",
    "not_supported_variant_evidence_df[\"Percent of Accepted Evidence Items\"] = (\n",
    "    not_supported_variant_evidence_df[\"Fraction of Accepted Evidence Items\"].astype(str)\n",
    "    + \"  (\"\n",
    "    + not_supported_variant_evidence_df[\"Percent of Accepted Evidence Items\"]\n",
    "    + \")\"\n",
    ")\n",
    "not_supported_variant_evidence_df[\"Percent of Submitted Evidence Items\"] = (\n",
    "    not_supported_variant_evidence_df[\"Fraction of Submitted Evidence Items\"].astype(\n",
    "        str\n",
    "    )\n",
    "    + \"  (\"\n",
    "    + not_supported_variant_evidence_df[\"Percent of Submitted Evidence Items\"]\n",
    "    + \")\"\n",
    ")"
   ]
  },
  {
   "cell_type": "code",
   "execution_count": 114,
   "metadata": {},
   "outputs": [],
   "source": [
    "not_supported_variant_evidence_df = not_supported_variant_evidence_df.drop(\n",
    "    [\n",
    "        \"Fraction of CIViC Evidence Items\",\n",
    "        \"Fraction of Not Supported Variant Evidence Items\",\n",
    "        \"Fraction of Accepted Evidence Items\",\n",
    "        \"Fraction of Submitted Evidence Items\",\n",
    "    ],\n",
    "    axis=1,\n",
    ")"
   ]
  },
  {
   "cell_type": "code",
   "execution_count": 115,
   "metadata": {},
   "outputs": [],
   "source": [
    "for_merge_not_supported_variant_evidence_percent_of_civic_df = (\n",
    "    not_supported_variant_evidence_df.drop(\n",
    "        [\n",
    "            \"Percent of Not Supported Variant Evidence Items\",\n",
    "            \"Percent of Accepted Evidence Items\",\n",
    "            \"Percent of Submitted Evidence Items\",\n",
    "        ],\n",
    "        axis=1,\n",
    "    )\n",
    ")\n",
    "\n",
    "not_supported_variant_evidence_percent_of_civic_df = (\n",
    "    for_merge_not_supported_variant_evidence_percent_of_civic_df.drop(\n",
    "        [\"Count of CIViC Evidence Items per Category\"], axis=1\n",
    "    )\n",
    ")\n",
    "\n",
    "not_supported_variant_evidence_percent_of_not_supported_df = (\n",
    "    not_supported_variant_evidence_df.drop(\n",
    "        [\n",
    "            \"Percent of all CIViC Evidence Items\",\n",
    "            \"Percent of Accepted Evidence Items\",\n",
    "            \"Percent of Submitted Evidence Items\",\n",
    "            \"Count of CIViC Evidence Items per Category\",\n",
    "        ],\n",
    "        axis=1,\n",
    "    )\n",
    ")\n",
    "\n",
    "not_supported_variant_evidence_percent_evidence_df = (\n",
    "    not_supported_variant_evidence_df.drop(\n",
    "        [\n",
    "            \"Percent of Not Supported Variant Evidence Items\",\n",
    "            \"Percent of all CIViC Evidence Items\",\n",
    "            \"Count of CIViC Evidence Items per Category\",\n",
    "        ],\n",
    "        axis=1,\n",
    "    )\n",
    ")"
   ]
  },
  {
   "cell_type": "code",
   "execution_count": 116,
   "metadata": {},
   "outputs": [],
   "source": [
    "for_merge_not_supported_variant_evidence_percent_of_civic_df.to_csv(\n",
    "    \"civic_evidence_analysis_output/for_merge_not_supported_variant_evidence_percent_of_civic_df.csv\", index=False\n",
    ")"
   ]
  },
  {
   "cell_type": "markdown",
   "metadata": {},
   "source": [
    "### <a id='toc6_2_5_'></a>[Summary Table 8](#toc0_)"
   ]
  },
  {
   "cell_type": "markdown",
   "metadata": {},
   "source": [
    "The table below shows the percentage of all CIViC evidence items that are associated with a Not Supported variant sub category. This will not add up to 100% since the evidence items can be associated with multiple variants."
   ]
  },
  {
   "cell_type": "code",
   "execution_count": 117,
   "metadata": {},
   "outputs": [
    {
     "data": {
      "text/html": [
       "<div>\n",
       "<style scoped>\n",
       "    .dataframe tbody tr th:only-of-type {\n",
       "        vertical-align: middle;\n",
       "    }\n",
       "\n",
       "    .dataframe tbody tr th {\n",
       "        vertical-align: top;\n",
       "    }\n",
       "\n",
       "    .dataframe thead th {\n",
       "        text-align: right;\n",
       "    }\n",
       "</style>\n",
       "<table border=\"1\" class=\"dataframe\">\n",
       "  <thead>\n",
       "    <tr style=\"text-align: right;\">\n",
       "      <th></th>\n",
       "      <th>Percent of all CIViC Evidence Items</th>\n",
       "    </tr>\n",
       "    <tr>\n",
       "      <th>Category</th>\n",
       "      <th></th>\n",
       "    </tr>\n",
       "  </thead>\n",
       "  <tbody>\n",
       "    <tr>\n",
       "      <th>Expression Variants</th>\n",
       "      <td>610 / 9920  (6.15%)</td>\n",
       "    </tr>\n",
       "    <tr>\n",
       "      <th>Epigenetic Modification</th>\n",
       "      <td>23 / 9920  (0.23%)</td>\n",
       "    </tr>\n",
       "    <tr>\n",
       "      <th>Fusion Variants</th>\n",
       "      <td>1218 / 9920  (12.28%)</td>\n",
       "    </tr>\n",
       "    <tr>\n",
       "      <th>Sequence Variants</th>\n",
       "      <td>302 / 9920  (3.04%)</td>\n",
       "    </tr>\n",
       "    <tr>\n",
       "      <th>Gene Function Variants</th>\n",
       "      <td>345 / 9920  (3.48%)</td>\n",
       "    </tr>\n",
       "    <tr>\n",
       "      <th>Rearrangement Variants</th>\n",
       "      <td>531 / 9920  (5.35%)</td>\n",
       "    </tr>\n",
       "    <tr>\n",
       "      <th>Copy Number Variants</th>\n",
       "      <td>67 / 9920  (0.68%)</td>\n",
       "    </tr>\n",
       "    <tr>\n",
       "      <th>Other Variants</th>\n",
       "      <td>144 / 9920  (1.45%)</td>\n",
       "    </tr>\n",
       "    <tr>\n",
       "      <th>Genotype Variants</th>\n",
       "      <td>27 / 9920  (0.27%)</td>\n",
       "    </tr>\n",
       "    <tr>\n",
       "      <th>Region Defined Variants</th>\n",
       "      <td>566 / 9920  (5.71%)</td>\n",
       "    </tr>\n",
       "    <tr>\n",
       "      <th>Transcript Variants</th>\n",
       "      <td>446 / 9920  (4.50%)</td>\n",
       "    </tr>\n",
       "  </tbody>\n",
       "</table>\n",
       "</div>"
      ],
      "text/plain": [
       "                        Percent of all CIViC Evidence Items\n",
       "Category                                                   \n",
       "Expression Variants                     610 / 9920  (6.15%)\n",
       "Epigenetic Modification                  23 / 9920  (0.23%)\n",
       "Fusion Variants                       1218 / 9920  (12.28%)\n",
       "Sequence Variants                       302 / 9920  (3.04%)\n",
       "Gene Function Variants                  345 / 9920  (3.48%)\n",
       "Rearrangement Variants                  531 / 9920  (5.35%)\n",
       "Copy Number Variants                     67 / 9920  (0.68%)\n",
       "Other Variants                          144 / 9920  (1.45%)\n",
       "Genotype Variants                        27 / 9920  (0.27%)\n",
       "Region Defined Variants                 566 / 9920  (5.71%)\n",
       "Transcript Variants                     446 / 9920  (4.50%)"
      ]
     },
     "execution_count": 117,
     "metadata": {},
     "output_type": "execute_result"
    }
   ],
   "source": [
    "not_supported_variant_evidence_percent_of_civic_df = (\n",
    "    not_supported_variant_evidence_percent_of_civic_df.set_index(\"Category\")\n",
    ")\n",
    "not_supported_variant_evidence_percent_of_civic_df"
   ]
  },
  {
   "cell_type": "code",
   "execution_count": 118,
   "metadata": {},
   "outputs": [],
   "source": [
    "civic_summary_table_8 = not_supported_variant_evidence_percent_of_civic_df"
   ]
  },
  {
   "cell_type": "markdown",
   "metadata": {},
   "source": [
    "### <a id='toc6_2_6_'></a>[Summary Table 9](#toc0_)"
   ]
  },
  {
   "cell_type": "markdown",
   "metadata": {},
   "source": [
    "The table below shows the percentage of all evidence items associated with Not Supported variants that are associated with a variant sub category."
   ]
  },
  {
   "cell_type": "code",
   "execution_count": 119,
   "metadata": {},
   "outputs": [
    {
     "data": {
      "text/html": [
       "<div>\n",
       "<style scoped>\n",
       "    .dataframe tbody tr th:only-of-type {\n",
       "        vertical-align: middle;\n",
       "    }\n",
       "\n",
       "    .dataframe tbody tr th {\n",
       "        vertical-align: top;\n",
       "    }\n",
       "\n",
       "    .dataframe thead th {\n",
       "        text-align: right;\n",
       "    }\n",
       "</style>\n",
       "<table border=\"1\" class=\"dataframe\">\n",
       "  <thead>\n",
       "    <tr style=\"text-align: right;\">\n",
       "      <th></th>\n",
       "      <th>Percent of Not Supported Variant Evidence Items</th>\n",
       "    </tr>\n",
       "    <tr>\n",
       "      <th>Category</th>\n",
       "      <th></th>\n",
       "    </tr>\n",
       "  </thead>\n",
       "  <tbody>\n",
       "    <tr>\n",
       "      <th>Expression Variants</th>\n",
       "      <td>610 / 4243  (14.38%)</td>\n",
       "    </tr>\n",
       "    <tr>\n",
       "      <th>Epigenetic Modification</th>\n",
       "      <td>23 / 4243  (0.54%)</td>\n",
       "    </tr>\n",
       "    <tr>\n",
       "      <th>Fusion Variants</th>\n",
       "      <td>1218 / 4243  (28.71%)</td>\n",
       "    </tr>\n",
       "    <tr>\n",
       "      <th>Sequence Variants</th>\n",
       "      <td>302 / 4243  (7.12%)</td>\n",
       "    </tr>\n",
       "    <tr>\n",
       "      <th>Gene Function Variants</th>\n",
       "      <td>345 / 4243  (8.13%)</td>\n",
       "    </tr>\n",
       "    <tr>\n",
       "      <th>Rearrangement Variants</th>\n",
       "      <td>531 / 4243  (12.51%)</td>\n",
       "    </tr>\n",
       "    <tr>\n",
       "      <th>Copy Number Variants</th>\n",
       "      <td>67 / 4243  (1.58%)</td>\n",
       "    </tr>\n",
       "    <tr>\n",
       "      <th>Other Variants</th>\n",
       "      <td>144 / 4243  (3.39%)</td>\n",
       "    </tr>\n",
       "    <tr>\n",
       "      <th>Genotype Variants</th>\n",
       "      <td>27 / 4243  (0.64%)</td>\n",
       "    </tr>\n",
       "    <tr>\n",
       "      <th>Region Defined Variants</th>\n",
       "      <td>566 / 4243  (13.34%)</td>\n",
       "    </tr>\n",
       "    <tr>\n",
       "      <th>Transcript Variants</th>\n",
       "      <td>446 / 4243  (10.51%)</td>\n",
       "    </tr>\n",
       "  </tbody>\n",
       "</table>\n",
       "</div>"
      ],
      "text/plain": [
       "                        Percent of Not Supported Variant Evidence Items\n",
       "Category                                                               \n",
       "Expression Variants                                610 / 4243  (14.38%)\n",
       "Epigenetic Modification                              23 / 4243  (0.54%)\n",
       "Fusion Variants                                   1218 / 4243  (28.71%)\n",
       "Sequence Variants                                   302 / 4243  (7.12%)\n",
       "Gene Function Variants                              345 / 4243  (8.13%)\n",
       "Rearrangement Variants                             531 / 4243  (12.51%)\n",
       "Copy Number Variants                                 67 / 4243  (1.58%)\n",
       "Other Variants                                      144 / 4243  (3.39%)\n",
       "Genotype Variants                                    27 / 4243  (0.64%)\n",
       "Region Defined Variants                            566 / 4243  (13.34%)\n",
       "Transcript Variants                                446 / 4243  (10.51%)"
      ]
     },
     "execution_count": 119,
     "metadata": {},
     "output_type": "execute_result"
    }
   ],
   "source": [
    "not_supported_variant_evidence_percent_of_not_supported_df = (\n",
    "    not_supported_variant_evidence_percent_of_not_supported_df.set_index(\"Category\")\n",
    ")\n",
    "not_supported_variant_evidence_percent_of_not_supported_df"
   ]
  },
  {
   "cell_type": "code",
   "execution_count": 120,
   "metadata": {},
   "outputs": [],
   "source": [
    "civic_summary_table_9 = not_supported_variant_evidence_percent_of_not_supported_df"
   ]
  },
  {
   "cell_type": "markdown",
   "metadata": {},
   "source": [
    "### <a id='toc6_2_7_'></a>[Summary Table 10](#toc0_)"
   ]
  },
  {
   "cell_type": "markdown",
   "metadata": {},
   "source": [
    "The table below shows the percentage of evidence items associated with Not Supported variant sub categories that are accepted or submitted."
   ]
  },
  {
   "cell_type": "code",
   "execution_count": 121,
   "metadata": {},
   "outputs": [
    {
     "data": {
      "text/html": [
       "<div>\n",
       "<style scoped>\n",
       "    .dataframe tbody tr th:only-of-type {\n",
       "        vertical-align: middle;\n",
       "    }\n",
       "\n",
       "    .dataframe tbody tr th {\n",
       "        vertical-align: top;\n",
       "    }\n",
       "\n",
       "    .dataframe thead th {\n",
       "        text-align: right;\n",
       "    }\n",
       "</style>\n",
       "<table border=\"1\" class=\"dataframe\">\n",
       "  <thead>\n",
       "    <tr style=\"text-align: right;\">\n",
       "      <th></th>\n",
       "      <th>Percent of Accepted Evidence Items</th>\n",
       "      <th>Percent of Submitted Evidence Items</th>\n",
       "    </tr>\n",
       "    <tr>\n",
       "      <th>Category</th>\n",
       "      <th></th>\n",
       "      <th></th>\n",
       "    </tr>\n",
       "  </thead>\n",
       "  <tbody>\n",
       "    <tr>\n",
       "      <th>Expression Variants</th>\n",
       "      <td>342 / 610  (56.07%)</td>\n",
       "      <td>268 / 610  (43.93%)</td>\n",
       "    </tr>\n",
       "    <tr>\n",
       "      <th>Epigenetic Modification</th>\n",
       "      <td>22 / 23  (95.65%)</td>\n",
       "      <td>1 / 23  (4.35%)</td>\n",
       "    </tr>\n",
       "    <tr>\n",
       "      <th>Fusion Variants</th>\n",
       "      <td>747 / 1218  (61.33%)</td>\n",
       "      <td>471 / 1218  (38.67%)</td>\n",
       "    </tr>\n",
       "    <tr>\n",
       "      <th>Sequence Variants</th>\n",
       "      <td>196 / 302  (64.90%)</td>\n",
       "      <td>106 / 302  (35.10%)</td>\n",
       "    </tr>\n",
       "    <tr>\n",
       "      <th>Gene Function Variants</th>\n",
       "      <td>154 / 345  (44.64%)</td>\n",
       "      <td>191 / 345  (55.36%)</td>\n",
       "    </tr>\n",
       "    <tr>\n",
       "      <th>Rearrangement Variants</th>\n",
       "      <td>202 / 531  (38.04%)</td>\n",
       "      <td>329 / 531  (61.96%)</td>\n",
       "    </tr>\n",
       "    <tr>\n",
       "      <th>Copy Number Variants</th>\n",
       "      <td>31 / 67  (46.27%)</td>\n",
       "      <td>36 / 67  (53.73%)</td>\n",
       "    </tr>\n",
       "    <tr>\n",
       "      <th>Other Variants</th>\n",
       "      <td>58 / 144  (40.28%)</td>\n",
       "      <td>86 / 144  (59.72%)</td>\n",
       "    </tr>\n",
       "    <tr>\n",
       "      <th>Genotype Variants</th>\n",
       "      <td>17 / 27  (62.96%)</td>\n",
       "      <td>10 / 27  (37.04%)</td>\n",
       "    </tr>\n",
       "    <tr>\n",
       "      <th>Region Defined Variants</th>\n",
       "      <td>408 / 566  (72.08%)</td>\n",
       "      <td>158 / 566  (27.92%)</td>\n",
       "    </tr>\n",
       "    <tr>\n",
       "      <th>Transcript Variants</th>\n",
       "      <td>54 / 446  (12.11%)</td>\n",
       "      <td>392 / 446  (87.89%)</td>\n",
       "    </tr>\n",
       "  </tbody>\n",
       "</table>\n",
       "</div>"
      ],
      "text/plain": [
       "                        Percent of Accepted Evidence Items  \\\n",
       "Category                                                     \n",
       "Expression Variants                    342 / 610  (56.07%)   \n",
       "Epigenetic Modification                  22 / 23  (95.65%)   \n",
       "Fusion Variants                       747 / 1218  (61.33%)   \n",
       "Sequence Variants                      196 / 302  (64.90%)   \n",
       "Gene Function Variants                 154 / 345  (44.64%)   \n",
       "Rearrangement Variants                 202 / 531  (38.04%)   \n",
       "Copy Number Variants                     31 / 67  (46.27%)   \n",
       "Other Variants                          58 / 144  (40.28%)   \n",
       "Genotype Variants                        17 / 27  (62.96%)   \n",
       "Region Defined Variants                408 / 566  (72.08%)   \n",
       "Transcript Variants                     54 / 446  (12.11%)   \n",
       "\n",
       "                        Percent of Submitted Evidence Items  \n",
       "Category                                                     \n",
       "Expression Variants                     268 / 610  (43.93%)  \n",
       "Epigenetic Modification                     1 / 23  (4.35%)  \n",
       "Fusion Variants                        471 / 1218  (38.67%)  \n",
       "Sequence Variants                       106 / 302  (35.10%)  \n",
       "Gene Function Variants                  191 / 345  (55.36%)  \n",
       "Rearrangement Variants                  329 / 531  (61.96%)  \n",
       "Copy Number Variants                      36 / 67  (53.73%)  \n",
       "Other Variants                           86 / 144  (59.72%)  \n",
       "Genotype Variants                         10 / 27  (37.04%)  \n",
       "Region Defined Variants                 158 / 566  (27.92%)  \n",
       "Transcript Variants                     392 / 446  (87.89%)  "
      ]
     },
     "execution_count": 121,
     "metadata": {},
     "output_type": "execute_result"
    }
   ],
   "source": [
    "not_supported_variant_evidence_percent_evidence_df = (\n",
    "    not_supported_variant_evidence_percent_evidence_df.set_index(\"Category\")\n",
    ")\n",
    "not_supported_variant_evidence_percent_evidence_df"
   ]
  },
  {
   "cell_type": "code",
   "execution_count": 122,
   "metadata": {},
   "outputs": [],
   "source": [
    "civic_summary_table_10 = not_supported_variant_evidence_percent_evidence_df"
   ]
  },
  {
   "cell_type": "markdown",
   "metadata": {},
   "source": [
    "## <a id='toc6_3_'></a>[Impact](#toc0_)"
   ]
  },
  {
   "cell_type": "code",
   "execution_count": 123,
   "metadata": {},
   "outputs": [
    {
     "data": {
      "text/html": [
       "<div>\n",
       "<style scoped>\n",
       "    .dataframe tbody tr th:only-of-type {\n",
       "        vertical-align: middle;\n",
       "    }\n",
       "\n",
       "    .dataframe tbody tr th {\n",
       "        vertical-align: top;\n",
       "    }\n",
       "\n",
       "    .dataframe thead th {\n",
       "        text-align: right;\n",
       "    }\n",
       "</style>\n",
       "<table border=\"1\" class=\"dataframe\">\n",
       "  <thead>\n",
       "    <tr style=\"text-align: right;\">\n",
       "      <th></th>\n",
       "      <th>Category</th>\n",
       "      <th>CIVIC Total Sum Impact Score</th>\n",
       "      <th>Average Impact Score per Variant</th>\n",
       "      <th>Average Impact Score per Evidence Item</th>\n",
       "      <th>Total Number Evidence Items</th>\n",
       "      <th>% Accepted Evidence Items</th>\n",
       "      <th>Total Number Variants</th>\n",
       "    </tr>\n",
       "  </thead>\n",
       "  <tbody>\n",
       "    <tr>\n",
       "      <th>0</th>\n",
       "      <td>Expression Variants</td>\n",
       "      <td>3618.00</td>\n",
       "      <td>9.89</td>\n",
       "      <td>8.11</td>\n",
       "      <td>610</td>\n",
       "      <td>56.07%</td>\n",
       "      <td>287</td>\n",
       "    </tr>\n",
       "    <tr>\n",
       "      <th>1</th>\n",
       "      <td>Epigenetic Modification</td>\n",
       "      <td>285.50</td>\n",
       "      <td>0.78</td>\n",
       "      <td>0.64</td>\n",
       "      <td>23</td>\n",
       "      <td>95.65%</td>\n",
       "      <td>14</td>\n",
       "    </tr>\n",
       "    <tr>\n",
       "      <th>2</th>\n",
       "      <td>Fusion Variants</td>\n",
       "      <td>6558.75</td>\n",
       "      <td>17.92</td>\n",
       "      <td>14.71</td>\n",
       "      <td>1218</td>\n",
       "      <td>61.33%</td>\n",
       "      <td>294</td>\n",
       "    </tr>\n",
       "    <tr>\n",
       "      <th>3</th>\n",
       "      <td>Sequence Variants</td>\n",
       "      <td>2746.75</td>\n",
       "      <td>7.50</td>\n",
       "      <td>6.16</td>\n",
       "      <td>302</td>\n",
       "      <td>64.90%</td>\n",
       "      <td>133</td>\n",
       "    </tr>\n",
       "    <tr>\n",
       "      <th>4</th>\n",
       "      <td>Gene Function Variants</td>\n",
       "      <td>1805.50</td>\n",
       "      <td>4.93</td>\n",
       "      <td>4.05</td>\n",
       "      <td>345</td>\n",
       "      <td>44.64%</td>\n",
       "      <td>91</td>\n",
       "    </tr>\n",
       "    <tr>\n",
       "      <th>5</th>\n",
       "      <td>Rearrangement Variants</td>\n",
       "      <td>2794.00</td>\n",
       "      <td>7.63</td>\n",
       "      <td>6.26</td>\n",
       "      <td>531</td>\n",
       "      <td>38.04%</td>\n",
       "      <td>116</td>\n",
       "    </tr>\n",
       "    <tr>\n",
       "      <th>6</th>\n",
       "      <td>Copy Number Variants</td>\n",
       "      <td>225.00</td>\n",
       "      <td>0.61</td>\n",
       "      <td>0.50</td>\n",
       "      <td>67</td>\n",
       "      <td>46.27%</td>\n",
       "      <td>34</td>\n",
       "    </tr>\n",
       "    <tr>\n",
       "      <th>7</th>\n",
       "      <td>Other Variants</td>\n",
       "      <td>653.50</td>\n",
       "      <td>1.79</td>\n",
       "      <td>1.47</td>\n",
       "      <td>144</td>\n",
       "      <td>40.28%</td>\n",
       "      <td>83</td>\n",
       "    </tr>\n",
       "    <tr>\n",
       "      <th>8</th>\n",
       "      <td>Genotype Variants</td>\n",
       "      <td>312.50</td>\n",
       "      <td>0.85</td>\n",
       "      <td>0.70</td>\n",
       "      <td>27</td>\n",
       "      <td>62.96%</td>\n",
       "      <td>16</td>\n",
       "    </tr>\n",
       "    <tr>\n",
       "      <th>9</th>\n",
       "      <td>Region Defined Variants</td>\n",
       "      <td>6199.50</td>\n",
       "      <td>16.94</td>\n",
       "      <td>13.90</td>\n",
       "      <td>566</td>\n",
       "      <td>72.08%</td>\n",
       "      <td>129</td>\n",
       "    </tr>\n",
       "    <tr>\n",
       "      <th>10</th>\n",
       "      <td>Transcript Variants</td>\n",
       "      <td>356.50</td>\n",
       "      <td>0.97</td>\n",
       "      <td>0.80</td>\n",
       "      <td>446</td>\n",
       "      <td>12.11%</td>\n",
       "      <td>366</td>\n",
       "    </tr>\n",
       "  </tbody>\n",
       "</table>\n",
       "</div>"
      ],
      "text/plain": [
       "                   Category  CIVIC Total Sum Impact Score  \\\n",
       "0       Expression Variants                       3618.00   \n",
       "1   Epigenetic Modification                        285.50   \n",
       "2           Fusion Variants                       6558.75   \n",
       "3         Sequence Variants                       2746.75   \n",
       "4    Gene Function Variants                       1805.50   \n",
       "5    Rearrangement Variants                       2794.00   \n",
       "6      Copy Number Variants                        225.00   \n",
       "7            Other Variants                        653.50   \n",
       "8         Genotype Variants                        312.50   \n",
       "9   Region Defined Variants                       6199.50   \n",
       "10      Transcript Variants                        356.50   \n",
       "\n",
       "    Average Impact Score per Variant  Average Impact Score per Evidence Item  \\\n",
       "0                               9.89                                    8.11   \n",
       "1                               0.78                                    0.64   \n",
       "2                              17.92                                   14.71   \n",
       "3                               7.50                                    6.16   \n",
       "4                               4.93                                    4.05   \n",
       "5                               7.63                                    6.26   \n",
       "6                               0.61                                    0.50   \n",
       "7                               1.79                                    1.47   \n",
       "8                               0.85                                    0.70   \n",
       "9                              16.94                                   13.90   \n",
       "10                              0.97                                    0.80   \n",
       "\n",
       "    Total Number Evidence Items % Accepted Evidence Items  \\\n",
       "0                           610                    56.07%   \n",
       "1                            23                    95.65%   \n",
       "2                          1218                    61.33%   \n",
       "3                           302                    64.90%   \n",
       "4                           345                    44.64%   \n",
       "5                           531                    38.04%   \n",
       "6                            67                    46.27%   \n",
       "7                           144                    40.28%   \n",
       "8                            27                    62.96%   \n",
       "9                           566                    72.08%   \n",
       "10                          446                    12.11%   \n",
       "\n",
       "    Total Number Variants  \n",
       "0                     287  \n",
       "1                      14  \n",
       "2                     294  \n",
       "3                     133  \n",
       "4                      91  \n",
       "5                     116  \n",
       "6                      34  \n",
       "7                      83  \n",
       "8                      16  \n",
       "9                     129  \n",
       "10                    366  "
      ]
     },
     "execution_count": 123,
     "metadata": {},
     "output_type": "execute_result"
    }
   ],
   "source": [
    "not_supported_variant_impact_df = not_supported_variant_impact_df.round(2)\n",
    "not_supported_variant_impact_df"
   ]
  },
  {
   "cell_type": "markdown",
   "metadata": {},
   "source": [
    "The bar graph below shows the relationship between the Not Suported variant sub category impact score and the sub category. Additionally, the colors illustrate the number of evidence items associated each sub category."
   ]
  },
  {
   "cell_type": "code",
   "execution_count": 124,
   "metadata": {},
   "outputs": [
    {
     "data": {
      "application/vnd.plotly.v1+json": {
       "config": {
        "plotlyServerURL": "https://plot.ly"
       },
       "data": [
        {
         "alignmentgroup": "True",
         "customdata": [
          [
           610,
           "56.07%"
          ],
          [
           23,
           "95.65%"
          ],
          [
           1218,
           "61.33%"
          ],
          [
           302,
           "64.90%"
          ],
          [
           345,
           "44.64%"
          ],
          [
           531,
           "38.04%"
          ],
          [
           67,
           "46.27%"
          ],
          [
           144,
           "40.28%"
          ],
          [
           27,
           "62.96%"
          ],
          [
           566,
           "72.08%"
          ],
          [
           446,
           "12.11%"
          ]
         ],
         "hovertemplate": "Category=%{x}<br>CIVIC Total Sum Impact Score=%{y}<br>Total Number Evidence Items=%{marker.color}<br>% Accepted Evidence Items=%{customdata[1]}<extra></extra>",
         "legendgroup": "",
         "marker": {
          "color": [
           610,
           23,
           1218,
           302,
           345,
           531,
           67,
           144,
           27,
           566,
           446
          ],
          "coloraxis": "coloraxis",
          "pattern": {
           "shape": ""
          }
         },
         "name": "",
         "offsetgroup": "",
         "orientation": "v",
         "showlegend": false,
         "textposition": "auto",
         "texttemplate": "%{y:.1f}",
         "type": "bar",
         "width": 1,
         "x": [
          "Expression Variants",
          "Epigenetic Modification",
          "Fusion Variants",
          "Sequence Variants",
          "Gene Function Variants",
          "Rearrangement Variants",
          "Copy Number Variants",
          "Other Variants",
          "Genotype Variants",
          "Region Defined Variants",
          "Transcript Variants"
         ],
         "xaxis": "x",
         "y": [
          3618,
          285.5,
          6558.75,
          2746.75,
          1805.5,
          2794,
          225,
          653.5,
          312.5,
          6199.5,
          356.5
         ],
         "yaxis": "y"
        }
       ],
       "layout": {
        "barmode": "relative",
        "coloraxis": {
         "colorbar": {
          "title": {
           "text": "Total Number Evidence Items"
          }
         },
         "colorscale": [
          [
           0,
           "rgb(0, 128, 128)"
          ],
          [
           0.16666666666666666,
           "rgb(112, 164, 148)"
          ],
          [
           0.3333333333333333,
           "rgb(180, 200, 168)"
          ],
          [
           0.5,
           "rgb(246, 237, 189)"
          ],
          [
           0.6666666666666666,
           "rgb(237, 187, 138)"
          ],
          [
           0.8333333333333334,
           "rgb(222, 138, 90)"
          ],
          [
           1,
           "rgb(202, 86, 44)"
          ]
         ]
        },
        "legend": {
         "tracegroupgap": 0
        },
        "margin": {
         "t": 60
        },
        "template": {
         "data": {
          "bar": [
           {
            "error_x": {
             "color": "#2a3f5f"
            },
            "error_y": {
             "color": "#2a3f5f"
            },
            "marker": {
             "line": {
              "color": "#E5ECF6",
              "width": 0.5
             },
             "pattern": {
              "fillmode": "overlay",
              "size": 10,
              "solidity": 0.2
             }
            },
            "type": "bar"
           }
          ],
          "barpolar": [
           {
            "marker": {
             "line": {
              "color": "#E5ECF6",
              "width": 0.5
             },
             "pattern": {
              "fillmode": "overlay",
              "size": 10,
              "solidity": 0.2
             }
            },
            "type": "barpolar"
           }
          ],
          "carpet": [
           {
            "aaxis": {
             "endlinecolor": "#2a3f5f",
             "gridcolor": "white",
             "linecolor": "white",
             "minorgridcolor": "white",
             "startlinecolor": "#2a3f5f"
            },
            "baxis": {
             "endlinecolor": "#2a3f5f",
             "gridcolor": "white",
             "linecolor": "white",
             "minorgridcolor": "white",
             "startlinecolor": "#2a3f5f"
            },
            "type": "carpet"
           }
          ],
          "choropleth": [
           {
            "colorbar": {
             "outlinewidth": 0,
             "ticks": ""
            },
            "type": "choropleth"
           }
          ],
          "contour": [
           {
            "colorbar": {
             "outlinewidth": 0,
             "ticks": ""
            },
            "colorscale": [
             [
              0,
              "#0d0887"
             ],
             [
              0.1111111111111111,
              "#46039f"
             ],
             [
              0.2222222222222222,
              "#7201a8"
             ],
             [
              0.3333333333333333,
              "#9c179e"
             ],
             [
              0.4444444444444444,
              "#bd3786"
             ],
             [
              0.5555555555555556,
              "#d8576b"
             ],
             [
              0.6666666666666666,
              "#ed7953"
             ],
             [
              0.7777777777777778,
              "#fb9f3a"
             ],
             [
              0.8888888888888888,
              "#fdca26"
             ],
             [
              1,
              "#f0f921"
             ]
            ],
            "type": "contour"
           }
          ],
          "contourcarpet": [
           {
            "colorbar": {
             "outlinewidth": 0,
             "ticks": ""
            },
            "type": "contourcarpet"
           }
          ],
          "heatmap": [
           {
            "colorbar": {
             "outlinewidth": 0,
             "ticks": ""
            },
            "colorscale": [
             [
              0,
              "#0d0887"
             ],
             [
              0.1111111111111111,
              "#46039f"
             ],
             [
              0.2222222222222222,
              "#7201a8"
             ],
             [
              0.3333333333333333,
              "#9c179e"
             ],
             [
              0.4444444444444444,
              "#bd3786"
             ],
             [
              0.5555555555555556,
              "#d8576b"
             ],
             [
              0.6666666666666666,
              "#ed7953"
             ],
             [
              0.7777777777777778,
              "#fb9f3a"
             ],
             [
              0.8888888888888888,
              "#fdca26"
             ],
             [
              1,
              "#f0f921"
             ]
            ],
            "type": "heatmap"
           }
          ],
          "heatmapgl": [
           {
            "colorbar": {
             "outlinewidth": 0,
             "ticks": ""
            },
            "colorscale": [
             [
              0,
              "#0d0887"
             ],
             [
              0.1111111111111111,
              "#46039f"
             ],
             [
              0.2222222222222222,
              "#7201a8"
             ],
             [
              0.3333333333333333,
              "#9c179e"
             ],
             [
              0.4444444444444444,
              "#bd3786"
             ],
             [
              0.5555555555555556,
              "#d8576b"
             ],
             [
              0.6666666666666666,
              "#ed7953"
             ],
             [
              0.7777777777777778,
              "#fb9f3a"
             ],
             [
              0.8888888888888888,
              "#fdca26"
             ],
             [
              1,
              "#f0f921"
             ]
            ],
            "type": "heatmapgl"
           }
          ],
          "histogram": [
           {
            "marker": {
             "pattern": {
              "fillmode": "overlay",
              "size": 10,
              "solidity": 0.2
             }
            },
            "type": "histogram"
           }
          ],
          "histogram2d": [
           {
            "colorbar": {
             "outlinewidth": 0,
             "ticks": ""
            },
            "colorscale": [
             [
              0,
              "#0d0887"
             ],
             [
              0.1111111111111111,
              "#46039f"
             ],
             [
              0.2222222222222222,
              "#7201a8"
             ],
             [
              0.3333333333333333,
              "#9c179e"
             ],
             [
              0.4444444444444444,
              "#bd3786"
             ],
             [
              0.5555555555555556,
              "#d8576b"
             ],
             [
              0.6666666666666666,
              "#ed7953"
             ],
             [
              0.7777777777777778,
              "#fb9f3a"
             ],
             [
              0.8888888888888888,
              "#fdca26"
             ],
             [
              1,
              "#f0f921"
             ]
            ],
            "type": "histogram2d"
           }
          ],
          "histogram2dcontour": [
           {
            "colorbar": {
             "outlinewidth": 0,
             "ticks": ""
            },
            "colorscale": [
             [
              0,
              "#0d0887"
             ],
             [
              0.1111111111111111,
              "#46039f"
             ],
             [
              0.2222222222222222,
              "#7201a8"
             ],
             [
              0.3333333333333333,
              "#9c179e"
             ],
             [
              0.4444444444444444,
              "#bd3786"
             ],
             [
              0.5555555555555556,
              "#d8576b"
             ],
             [
              0.6666666666666666,
              "#ed7953"
             ],
             [
              0.7777777777777778,
              "#fb9f3a"
             ],
             [
              0.8888888888888888,
              "#fdca26"
             ],
             [
              1,
              "#f0f921"
             ]
            ],
            "type": "histogram2dcontour"
           }
          ],
          "mesh3d": [
           {
            "colorbar": {
             "outlinewidth": 0,
             "ticks": ""
            },
            "type": "mesh3d"
           }
          ],
          "parcoords": [
           {
            "line": {
             "colorbar": {
              "outlinewidth": 0,
              "ticks": ""
             }
            },
            "type": "parcoords"
           }
          ],
          "pie": [
           {
            "automargin": true,
            "type": "pie"
           }
          ],
          "scatter": [
           {
            "fillpattern": {
             "fillmode": "overlay",
             "size": 10,
             "solidity": 0.2
            },
            "type": "scatter"
           }
          ],
          "scatter3d": [
           {
            "line": {
             "colorbar": {
              "outlinewidth": 0,
              "ticks": ""
             }
            },
            "marker": {
             "colorbar": {
              "outlinewidth": 0,
              "ticks": ""
             }
            },
            "type": "scatter3d"
           }
          ],
          "scattercarpet": [
           {
            "marker": {
             "colorbar": {
              "outlinewidth": 0,
              "ticks": ""
             }
            },
            "type": "scattercarpet"
           }
          ],
          "scattergeo": [
           {
            "marker": {
             "colorbar": {
              "outlinewidth": 0,
              "ticks": ""
             }
            },
            "type": "scattergeo"
           }
          ],
          "scattergl": [
           {
            "marker": {
             "colorbar": {
              "outlinewidth": 0,
              "ticks": ""
             }
            },
            "type": "scattergl"
           }
          ],
          "scattermapbox": [
           {
            "marker": {
             "colorbar": {
              "outlinewidth": 0,
              "ticks": ""
             }
            },
            "type": "scattermapbox"
           }
          ],
          "scatterpolar": [
           {
            "marker": {
             "colorbar": {
              "outlinewidth": 0,
              "ticks": ""
             }
            },
            "type": "scatterpolar"
           }
          ],
          "scatterpolargl": [
           {
            "marker": {
             "colorbar": {
              "outlinewidth": 0,
              "ticks": ""
             }
            },
            "type": "scatterpolargl"
           }
          ],
          "scatterternary": [
           {
            "marker": {
             "colorbar": {
              "outlinewidth": 0,
              "ticks": ""
             }
            },
            "type": "scatterternary"
           }
          ],
          "surface": [
           {
            "colorbar": {
             "outlinewidth": 0,
             "ticks": ""
            },
            "colorscale": [
             [
              0,
              "#0d0887"
             ],
             [
              0.1111111111111111,
              "#46039f"
             ],
             [
              0.2222222222222222,
              "#7201a8"
             ],
             [
              0.3333333333333333,
              "#9c179e"
             ],
             [
              0.4444444444444444,
              "#bd3786"
             ],
             [
              0.5555555555555556,
              "#d8576b"
             ],
             [
              0.6666666666666666,
              "#ed7953"
             ],
             [
              0.7777777777777778,
              "#fb9f3a"
             ],
             [
              0.8888888888888888,
              "#fdca26"
             ],
             [
              1,
              "#f0f921"
             ]
            ],
            "type": "surface"
           }
          ],
          "table": [
           {
            "cells": {
             "fill": {
              "color": "#EBF0F8"
             },
             "line": {
              "color": "white"
             }
            },
            "header": {
             "fill": {
              "color": "#C8D4E3"
             },
             "line": {
              "color": "white"
             }
            },
            "type": "table"
           }
          ]
         },
         "layout": {
          "annotationdefaults": {
           "arrowcolor": "#2a3f5f",
           "arrowhead": 0,
           "arrowwidth": 1
          },
          "autotypenumbers": "strict",
          "coloraxis": {
           "colorbar": {
            "outlinewidth": 0,
            "ticks": ""
           }
          },
          "colorscale": {
           "diverging": [
            [
             0,
             "#8e0152"
            ],
            [
             0.1,
             "#c51b7d"
            ],
            [
             0.2,
             "#de77ae"
            ],
            [
             0.3,
             "#f1b6da"
            ],
            [
             0.4,
             "#fde0ef"
            ],
            [
             0.5,
             "#f7f7f7"
            ],
            [
             0.6,
             "#e6f5d0"
            ],
            [
             0.7,
             "#b8e186"
            ],
            [
             0.8,
             "#7fbc41"
            ],
            [
             0.9,
             "#4d9221"
            ],
            [
             1,
             "#276419"
            ]
           ],
           "sequential": [
            [
             0,
             "#0d0887"
            ],
            [
             0.1111111111111111,
             "#46039f"
            ],
            [
             0.2222222222222222,
             "#7201a8"
            ],
            [
             0.3333333333333333,
             "#9c179e"
            ],
            [
             0.4444444444444444,
             "#bd3786"
            ],
            [
             0.5555555555555556,
             "#d8576b"
            ],
            [
             0.6666666666666666,
             "#ed7953"
            ],
            [
             0.7777777777777778,
             "#fb9f3a"
            ],
            [
             0.8888888888888888,
             "#fdca26"
            ],
            [
             1,
             "#f0f921"
            ]
           ],
           "sequentialminus": [
            [
             0,
             "#0d0887"
            ],
            [
             0.1111111111111111,
             "#46039f"
            ],
            [
             0.2222222222222222,
             "#7201a8"
            ],
            [
             0.3333333333333333,
             "#9c179e"
            ],
            [
             0.4444444444444444,
             "#bd3786"
            ],
            [
             0.5555555555555556,
             "#d8576b"
            ],
            [
             0.6666666666666666,
             "#ed7953"
            ],
            [
             0.7777777777777778,
             "#fb9f3a"
            ],
            [
             0.8888888888888888,
             "#fdca26"
            ],
            [
             1,
             "#f0f921"
            ]
           ]
          },
          "colorway": [
           "#636efa",
           "#EF553B",
           "#00cc96",
           "#ab63fa",
           "#FFA15A",
           "#19d3f3",
           "#FF6692",
           "#B6E880",
           "#FF97FF",
           "#FECB52"
          ],
          "font": {
           "color": "#2a3f5f"
          },
          "geo": {
           "bgcolor": "white",
           "lakecolor": "white",
           "landcolor": "#E5ECF6",
           "showlakes": true,
           "showland": true,
           "subunitcolor": "white"
          },
          "hoverlabel": {
           "align": "left"
          },
          "hovermode": "closest",
          "mapbox": {
           "style": "light"
          },
          "paper_bgcolor": "white",
          "plot_bgcolor": "#E5ECF6",
          "polar": {
           "angularaxis": {
            "gridcolor": "white",
            "linecolor": "white",
            "ticks": ""
           },
           "bgcolor": "#E5ECF6",
           "radialaxis": {
            "gridcolor": "white",
            "linecolor": "white",
            "ticks": ""
           }
          },
          "scene": {
           "xaxis": {
            "backgroundcolor": "#E5ECF6",
            "gridcolor": "white",
            "gridwidth": 2,
            "linecolor": "white",
            "showbackground": true,
            "ticks": "",
            "zerolinecolor": "white"
           },
           "yaxis": {
            "backgroundcolor": "#E5ECF6",
            "gridcolor": "white",
            "gridwidth": 2,
            "linecolor": "white",
            "showbackground": true,
            "ticks": "",
            "zerolinecolor": "white"
           },
           "zaxis": {
            "backgroundcolor": "#E5ECF6",
            "gridcolor": "white",
            "gridwidth": 2,
            "linecolor": "white",
            "showbackground": true,
            "ticks": "",
            "zerolinecolor": "white"
           }
          },
          "shapedefaults": {
           "line": {
            "color": "#2a3f5f"
           }
          },
          "ternary": {
           "aaxis": {
            "gridcolor": "white",
            "linecolor": "white",
            "ticks": ""
           },
           "baxis": {
            "gridcolor": "white",
            "linecolor": "white",
            "ticks": ""
           },
           "bgcolor": "#E5ECF6",
           "caxis": {
            "gridcolor": "white",
            "linecolor": "white",
            "ticks": ""
           }
          },
          "title": {
           "x": 0.05
          },
          "xaxis": {
           "automargin": true,
           "gridcolor": "white",
           "linecolor": "white",
           "ticks": "",
           "title": {
            "standoff": 15
           },
           "zerolinecolor": "white",
           "zerolinewidth": 2
          },
          "yaxis": {
           "automargin": true,
           "gridcolor": "white",
           "linecolor": "white",
           "ticks": "",
           "title": {
            "standoff": 15
           },
           "zerolinecolor": "white",
           "zerolinewidth": 2
          }
         }
        },
        "xaxis": {
         "anchor": "y",
         "domain": [
          0,
          1
         ],
         "title": {
          "text": "Category"
         }
        },
        "yaxis": {
         "anchor": "x",
         "domain": [
          0,
          1
         ],
         "title": {
          "text": "CIVIC Total Sum Impact Score"
         }
        }
       }
      }
     },
     "metadata": {},
     "output_type": "display_data"
    }
   ],
   "source": [
    "fig = px.bar(\n",
    "    not_supported_variant_impact_df,\n",
    "    x=\"Category\",\n",
    "    y=\"CIVIC Total Sum Impact Score\",\n",
    "    hover_data=[\n",
    "        \"Total Number Evidence Items\",\n",
    "        not_supported_variant_impact_df[\"% Accepted Evidence Items\"],\n",
    "    ],\n",
    "    color=\"Total Number Evidence Items\",\n",
    "    labels={\"CIVIC Total Sum Impact Score\": \"CIVIC Total Sum Impact Score\"},\n",
    "    text_auto=\".1f\",\n",
    "    color_continuous_scale=\"geyser\",\n",
    ")\n",
    "fig.update_traces(width=1)\n",
    "fig.show()"
   ]
  },
  {
   "cell_type": "code",
   "execution_count": 126,
   "metadata": {},
   "outputs": [],
   "source": [
    "fig.write_html(\"civic_evidence_analysis_output/civic_ns_categories_impact_redgreen.html\")"
   ]
  },
  {
   "cell_type": "markdown",
   "metadata": {},
   "source": [
    "The scatterplot below shows the relationship between the Not Suported variant sub category impact score and the number of evidence items associated with variants in each sub category. Additionally, the sizes of the data point represent the number of variants in each sub category. "
   ]
  },
  {
   "cell_type": "code",
   "execution_count": 127,
   "metadata": {},
   "outputs": [
    {
     "data": {
      "application/vnd.plotly.v1+json": {
       "config": {
        "plotlyServerURL": "https://plot.ly"
       },
       "data": [
        {
         "customdata": [
          [
           "56.07%"
          ]
         ],
         "hovertemplate": "Category=Expression Variants<br>Total Number Evidence Items=%{x}<br>CIVIC Total Sum Impact Score=%{y}<br>Total Number Variants=%{text}<br>% Accepted Evidence Items=%{customdata[0]}<extra></extra>",
         "legendgroup": "Expression Variants",
         "marker": {
          "color": "#636efa",
          "size": [
           287
          ],
          "sizemode": "area",
          "sizeref": 0.22875,
          "symbol": "circle"
         },
         "mode": "markers+text",
         "name": "Expression Variants",
         "orientation": "v",
         "showlegend": true,
         "text": [
          287
         ],
         "type": "scatter",
         "x": [
          610
         ],
         "xaxis": "x",
         "y": [
          3618
         ],
         "yaxis": "y"
        },
        {
         "customdata": [
          [
           "95.65%"
          ]
         ],
         "hovertemplate": "Category=Epigenetic Modification<br>Total Number Evidence Items=%{x}<br>CIVIC Total Sum Impact Score=%{y}<br>Total Number Variants=%{text}<br>% Accepted Evidence Items=%{customdata[0]}<extra></extra>",
         "legendgroup": "Epigenetic Modification",
         "marker": {
          "color": "#EF553B",
          "size": [
           14
          ],
          "sizemode": "area",
          "sizeref": 0.22875,
          "symbol": "circle"
         },
         "mode": "markers+text",
         "name": "Epigenetic Modification",
         "orientation": "v",
         "showlegend": true,
         "text": [
          14
         ],
         "type": "scatter",
         "x": [
          23
         ],
         "xaxis": "x",
         "y": [
          285.5
         ],
         "yaxis": "y"
        },
        {
         "customdata": [
          [
           "61.33%"
          ]
         ],
         "hovertemplate": "Category=Fusion Variants<br>Total Number Evidence Items=%{x}<br>CIVIC Total Sum Impact Score=%{y}<br>Total Number Variants=%{text}<br>% Accepted Evidence Items=%{customdata[0]}<extra></extra>",
         "legendgroup": "Fusion Variants",
         "marker": {
          "color": "#00cc96",
          "size": [
           294
          ],
          "sizemode": "area",
          "sizeref": 0.22875,
          "symbol": "circle"
         },
         "mode": "markers+text",
         "name": "Fusion Variants",
         "orientation": "v",
         "showlegend": true,
         "text": [
          294
         ],
         "type": "scatter",
         "x": [
          1218
         ],
         "xaxis": "x",
         "y": [
          6558.75
         ],
         "yaxis": "y"
        },
        {
         "customdata": [
          [
           "64.90%"
          ]
         ],
         "hovertemplate": "Category=Sequence Variants<br>Total Number Evidence Items=%{x}<br>CIVIC Total Sum Impact Score=%{y}<br>Total Number Variants=%{text}<br>% Accepted Evidence Items=%{customdata[0]}<extra></extra>",
         "legendgroup": "Sequence Variants",
         "marker": {
          "color": "#ab63fa",
          "size": [
           133
          ],
          "sizemode": "area",
          "sizeref": 0.22875,
          "symbol": "circle"
         },
         "mode": "markers+text",
         "name": "Sequence Variants",
         "orientation": "v",
         "showlegend": true,
         "text": [
          133
         ],
         "type": "scatter",
         "x": [
          302
         ],
         "xaxis": "x",
         "y": [
          2746.75
         ],
         "yaxis": "y"
        },
        {
         "customdata": [
          [
           "44.64%"
          ]
         ],
         "hovertemplate": "Category=Gene Function Variants<br>Total Number Evidence Items=%{x}<br>CIVIC Total Sum Impact Score=%{y}<br>Total Number Variants=%{text}<br>% Accepted Evidence Items=%{customdata[0]}<extra></extra>",
         "legendgroup": "Gene Function Variants",
         "marker": {
          "color": "#FFA15A",
          "size": [
           91
          ],
          "sizemode": "area",
          "sizeref": 0.22875,
          "symbol": "circle"
         },
         "mode": "markers+text",
         "name": "Gene Function Variants",
         "orientation": "v",
         "showlegend": true,
         "text": [
          91
         ],
         "type": "scatter",
         "x": [
          345
         ],
         "xaxis": "x",
         "y": [
          1805.5
         ],
         "yaxis": "y"
        },
        {
         "customdata": [
          [
           "38.04%"
          ]
         ],
         "hovertemplate": "Category=Rearrangement Variants<br>Total Number Evidence Items=%{x}<br>CIVIC Total Sum Impact Score=%{y}<br>Total Number Variants=%{text}<br>% Accepted Evidence Items=%{customdata[0]}<extra></extra>",
         "legendgroup": "Rearrangement Variants",
         "marker": {
          "color": "#19d3f3",
          "size": [
           116
          ],
          "sizemode": "area",
          "sizeref": 0.22875,
          "symbol": "circle"
         },
         "mode": "markers+text",
         "name": "Rearrangement Variants",
         "orientation": "v",
         "showlegend": true,
         "text": [
          116
         ],
         "type": "scatter",
         "x": [
          531
         ],
         "xaxis": "x",
         "y": [
          2794
         ],
         "yaxis": "y"
        },
        {
         "customdata": [
          [
           "46.27%"
          ]
         ],
         "hovertemplate": "Category=Copy Number Variants<br>Total Number Evidence Items=%{x}<br>CIVIC Total Sum Impact Score=%{y}<br>Total Number Variants=%{text}<br>% Accepted Evidence Items=%{customdata[0]}<extra></extra>",
         "legendgroup": "Copy Number Variants",
         "marker": {
          "color": "#FF6692",
          "size": [
           34
          ],
          "sizemode": "area",
          "sizeref": 0.22875,
          "symbol": "circle"
         },
         "mode": "markers+text",
         "name": "Copy Number Variants",
         "orientation": "v",
         "showlegend": true,
         "text": [
          34
         ],
         "type": "scatter",
         "x": [
          67
         ],
         "xaxis": "x",
         "y": [
          225
         ],
         "yaxis": "y"
        },
        {
         "customdata": [
          [
           "40.28%"
          ]
         ],
         "hovertemplate": "Category=Other Variants<br>Total Number Evidence Items=%{x}<br>CIVIC Total Sum Impact Score=%{y}<br>Total Number Variants=%{text}<br>% Accepted Evidence Items=%{customdata[0]}<extra></extra>",
         "legendgroup": "Other Variants",
         "marker": {
          "color": "#B6E880",
          "size": [
           83
          ],
          "sizemode": "area",
          "sizeref": 0.22875,
          "symbol": "circle"
         },
         "mode": "markers+text",
         "name": "Other Variants",
         "orientation": "v",
         "showlegend": true,
         "text": [
          83
         ],
         "type": "scatter",
         "x": [
          144
         ],
         "xaxis": "x",
         "y": [
          653.5
         ],
         "yaxis": "y"
        },
        {
         "customdata": [
          [
           "62.96%"
          ]
         ],
         "hovertemplate": "Category=Genotype Variants<br>Total Number Evidence Items=%{x}<br>CIVIC Total Sum Impact Score=%{y}<br>Total Number Variants=%{text}<br>% Accepted Evidence Items=%{customdata[0]}<extra></extra>",
         "legendgroup": "Genotype Variants",
         "marker": {
          "color": "#FF97FF",
          "size": [
           16
          ],
          "sizemode": "area",
          "sizeref": 0.22875,
          "symbol": "circle"
         },
         "mode": "markers+text",
         "name": "Genotype Variants",
         "orientation": "v",
         "showlegend": true,
         "text": [
          16
         ],
         "type": "scatter",
         "x": [
          27
         ],
         "xaxis": "x",
         "y": [
          312.5
         ],
         "yaxis": "y"
        },
        {
         "customdata": [
          [
           "72.08%"
          ]
         ],
         "hovertemplate": "Category=Region Defined Variants<br>Total Number Evidence Items=%{x}<br>CIVIC Total Sum Impact Score=%{y}<br>Total Number Variants=%{text}<br>% Accepted Evidence Items=%{customdata[0]}<extra></extra>",
         "legendgroup": "Region Defined Variants",
         "marker": {
          "color": "#FECB52",
          "size": [
           129
          ],
          "sizemode": "area",
          "sizeref": 0.22875,
          "symbol": "circle"
         },
         "mode": "markers+text",
         "name": "Region Defined Variants",
         "orientation": "v",
         "showlegend": true,
         "text": [
          129
         ],
         "type": "scatter",
         "x": [
          566
         ],
         "xaxis": "x",
         "y": [
          6199.5
         ],
         "yaxis": "y"
        },
        {
         "customdata": [
          [
           "12.11%"
          ]
         ],
         "hovertemplate": "Category=Transcript Variants<br>Total Number Evidence Items=%{x}<br>CIVIC Total Sum Impact Score=%{y}<br>Total Number Variants=%{text}<br>% Accepted Evidence Items=%{customdata[0]}<extra></extra>",
         "legendgroup": "Transcript Variants",
         "marker": {
          "color": "#636efa",
          "size": [
           366
          ],
          "sizemode": "area",
          "sizeref": 0.22875,
          "symbol": "circle"
         },
         "mode": "markers+text",
         "name": "Transcript Variants",
         "orientation": "v",
         "showlegend": true,
         "text": [
          366
         ],
         "type": "scatter",
         "x": [
          446
         ],
         "xaxis": "x",
         "y": [
          356.5
         ],
         "yaxis": "y"
        }
       ],
       "layout": {
        "legend": {
         "itemsizing": "constant",
         "title": {
          "text": "Category"
         },
         "tracegroupgap": 0
        },
        "margin": {
         "t": 60
        },
        "template": {
         "data": {
          "bar": [
           {
            "error_x": {
             "color": "#2a3f5f"
            },
            "error_y": {
             "color": "#2a3f5f"
            },
            "marker": {
             "line": {
              "color": "#E5ECF6",
              "width": 0.5
             },
             "pattern": {
              "fillmode": "overlay",
              "size": 10,
              "solidity": 0.2
             }
            },
            "type": "bar"
           }
          ],
          "barpolar": [
           {
            "marker": {
             "line": {
              "color": "#E5ECF6",
              "width": 0.5
             },
             "pattern": {
              "fillmode": "overlay",
              "size": 10,
              "solidity": 0.2
             }
            },
            "type": "barpolar"
           }
          ],
          "carpet": [
           {
            "aaxis": {
             "endlinecolor": "#2a3f5f",
             "gridcolor": "white",
             "linecolor": "white",
             "minorgridcolor": "white",
             "startlinecolor": "#2a3f5f"
            },
            "baxis": {
             "endlinecolor": "#2a3f5f",
             "gridcolor": "white",
             "linecolor": "white",
             "minorgridcolor": "white",
             "startlinecolor": "#2a3f5f"
            },
            "type": "carpet"
           }
          ],
          "choropleth": [
           {
            "colorbar": {
             "outlinewidth": 0,
             "ticks": ""
            },
            "type": "choropleth"
           }
          ],
          "contour": [
           {
            "colorbar": {
             "outlinewidth": 0,
             "ticks": ""
            },
            "colorscale": [
             [
              0,
              "#0d0887"
             ],
             [
              0.1111111111111111,
              "#46039f"
             ],
             [
              0.2222222222222222,
              "#7201a8"
             ],
             [
              0.3333333333333333,
              "#9c179e"
             ],
             [
              0.4444444444444444,
              "#bd3786"
             ],
             [
              0.5555555555555556,
              "#d8576b"
             ],
             [
              0.6666666666666666,
              "#ed7953"
             ],
             [
              0.7777777777777778,
              "#fb9f3a"
             ],
             [
              0.8888888888888888,
              "#fdca26"
             ],
             [
              1,
              "#f0f921"
             ]
            ],
            "type": "contour"
           }
          ],
          "contourcarpet": [
           {
            "colorbar": {
             "outlinewidth": 0,
             "ticks": ""
            },
            "type": "contourcarpet"
           }
          ],
          "heatmap": [
           {
            "colorbar": {
             "outlinewidth": 0,
             "ticks": ""
            },
            "colorscale": [
             [
              0,
              "#0d0887"
             ],
             [
              0.1111111111111111,
              "#46039f"
             ],
             [
              0.2222222222222222,
              "#7201a8"
             ],
             [
              0.3333333333333333,
              "#9c179e"
             ],
             [
              0.4444444444444444,
              "#bd3786"
             ],
             [
              0.5555555555555556,
              "#d8576b"
             ],
             [
              0.6666666666666666,
              "#ed7953"
             ],
             [
              0.7777777777777778,
              "#fb9f3a"
             ],
             [
              0.8888888888888888,
              "#fdca26"
             ],
             [
              1,
              "#f0f921"
             ]
            ],
            "type": "heatmap"
           }
          ],
          "heatmapgl": [
           {
            "colorbar": {
             "outlinewidth": 0,
             "ticks": ""
            },
            "colorscale": [
             [
              0,
              "#0d0887"
             ],
             [
              0.1111111111111111,
              "#46039f"
             ],
             [
              0.2222222222222222,
              "#7201a8"
             ],
             [
              0.3333333333333333,
              "#9c179e"
             ],
             [
              0.4444444444444444,
              "#bd3786"
             ],
             [
              0.5555555555555556,
              "#d8576b"
             ],
             [
              0.6666666666666666,
              "#ed7953"
             ],
             [
              0.7777777777777778,
              "#fb9f3a"
             ],
             [
              0.8888888888888888,
              "#fdca26"
             ],
             [
              1,
              "#f0f921"
             ]
            ],
            "type": "heatmapgl"
           }
          ],
          "histogram": [
           {
            "marker": {
             "pattern": {
              "fillmode": "overlay",
              "size": 10,
              "solidity": 0.2
             }
            },
            "type": "histogram"
           }
          ],
          "histogram2d": [
           {
            "colorbar": {
             "outlinewidth": 0,
             "ticks": ""
            },
            "colorscale": [
             [
              0,
              "#0d0887"
             ],
             [
              0.1111111111111111,
              "#46039f"
             ],
             [
              0.2222222222222222,
              "#7201a8"
             ],
             [
              0.3333333333333333,
              "#9c179e"
             ],
             [
              0.4444444444444444,
              "#bd3786"
             ],
             [
              0.5555555555555556,
              "#d8576b"
             ],
             [
              0.6666666666666666,
              "#ed7953"
             ],
             [
              0.7777777777777778,
              "#fb9f3a"
             ],
             [
              0.8888888888888888,
              "#fdca26"
             ],
             [
              1,
              "#f0f921"
             ]
            ],
            "type": "histogram2d"
           }
          ],
          "histogram2dcontour": [
           {
            "colorbar": {
             "outlinewidth": 0,
             "ticks": ""
            },
            "colorscale": [
             [
              0,
              "#0d0887"
             ],
             [
              0.1111111111111111,
              "#46039f"
             ],
             [
              0.2222222222222222,
              "#7201a8"
             ],
             [
              0.3333333333333333,
              "#9c179e"
             ],
             [
              0.4444444444444444,
              "#bd3786"
             ],
             [
              0.5555555555555556,
              "#d8576b"
             ],
             [
              0.6666666666666666,
              "#ed7953"
             ],
             [
              0.7777777777777778,
              "#fb9f3a"
             ],
             [
              0.8888888888888888,
              "#fdca26"
             ],
             [
              1,
              "#f0f921"
             ]
            ],
            "type": "histogram2dcontour"
           }
          ],
          "mesh3d": [
           {
            "colorbar": {
             "outlinewidth": 0,
             "ticks": ""
            },
            "type": "mesh3d"
           }
          ],
          "parcoords": [
           {
            "line": {
             "colorbar": {
              "outlinewidth": 0,
              "ticks": ""
             }
            },
            "type": "parcoords"
           }
          ],
          "pie": [
           {
            "automargin": true,
            "type": "pie"
           }
          ],
          "scatter": [
           {
            "fillpattern": {
             "fillmode": "overlay",
             "size": 10,
             "solidity": 0.2
            },
            "type": "scatter"
           }
          ],
          "scatter3d": [
           {
            "line": {
             "colorbar": {
              "outlinewidth": 0,
              "ticks": ""
             }
            },
            "marker": {
             "colorbar": {
              "outlinewidth": 0,
              "ticks": ""
             }
            },
            "type": "scatter3d"
           }
          ],
          "scattercarpet": [
           {
            "marker": {
             "colorbar": {
              "outlinewidth": 0,
              "ticks": ""
             }
            },
            "type": "scattercarpet"
           }
          ],
          "scattergeo": [
           {
            "marker": {
             "colorbar": {
              "outlinewidth": 0,
              "ticks": ""
             }
            },
            "type": "scattergeo"
           }
          ],
          "scattergl": [
           {
            "marker": {
             "colorbar": {
              "outlinewidth": 0,
              "ticks": ""
             }
            },
            "type": "scattergl"
           }
          ],
          "scattermapbox": [
           {
            "marker": {
             "colorbar": {
              "outlinewidth": 0,
              "ticks": ""
             }
            },
            "type": "scattermapbox"
           }
          ],
          "scatterpolar": [
           {
            "marker": {
             "colorbar": {
              "outlinewidth": 0,
              "ticks": ""
             }
            },
            "type": "scatterpolar"
           }
          ],
          "scatterpolargl": [
           {
            "marker": {
             "colorbar": {
              "outlinewidth": 0,
              "ticks": ""
             }
            },
            "type": "scatterpolargl"
           }
          ],
          "scatterternary": [
           {
            "marker": {
             "colorbar": {
              "outlinewidth": 0,
              "ticks": ""
             }
            },
            "type": "scatterternary"
           }
          ],
          "surface": [
           {
            "colorbar": {
             "outlinewidth": 0,
             "ticks": ""
            },
            "colorscale": [
             [
              0,
              "#0d0887"
             ],
             [
              0.1111111111111111,
              "#46039f"
             ],
             [
              0.2222222222222222,
              "#7201a8"
             ],
             [
              0.3333333333333333,
              "#9c179e"
             ],
             [
              0.4444444444444444,
              "#bd3786"
             ],
             [
              0.5555555555555556,
              "#d8576b"
             ],
             [
              0.6666666666666666,
              "#ed7953"
             ],
             [
              0.7777777777777778,
              "#fb9f3a"
             ],
             [
              0.8888888888888888,
              "#fdca26"
             ],
             [
              1,
              "#f0f921"
             ]
            ],
            "type": "surface"
           }
          ],
          "table": [
           {
            "cells": {
             "fill": {
              "color": "#EBF0F8"
             },
             "line": {
              "color": "white"
             }
            },
            "header": {
             "fill": {
              "color": "#C8D4E3"
             },
             "line": {
              "color": "white"
             }
            },
            "type": "table"
           }
          ]
         },
         "layout": {
          "annotationdefaults": {
           "arrowcolor": "#2a3f5f",
           "arrowhead": 0,
           "arrowwidth": 1
          },
          "autotypenumbers": "strict",
          "coloraxis": {
           "colorbar": {
            "outlinewidth": 0,
            "ticks": ""
           }
          },
          "colorscale": {
           "diverging": [
            [
             0,
             "#8e0152"
            ],
            [
             0.1,
             "#c51b7d"
            ],
            [
             0.2,
             "#de77ae"
            ],
            [
             0.3,
             "#f1b6da"
            ],
            [
             0.4,
             "#fde0ef"
            ],
            [
             0.5,
             "#f7f7f7"
            ],
            [
             0.6,
             "#e6f5d0"
            ],
            [
             0.7,
             "#b8e186"
            ],
            [
             0.8,
             "#7fbc41"
            ],
            [
             0.9,
             "#4d9221"
            ],
            [
             1,
             "#276419"
            ]
           ],
           "sequential": [
            [
             0,
             "#0d0887"
            ],
            [
             0.1111111111111111,
             "#46039f"
            ],
            [
             0.2222222222222222,
             "#7201a8"
            ],
            [
             0.3333333333333333,
             "#9c179e"
            ],
            [
             0.4444444444444444,
             "#bd3786"
            ],
            [
             0.5555555555555556,
             "#d8576b"
            ],
            [
             0.6666666666666666,
             "#ed7953"
            ],
            [
             0.7777777777777778,
             "#fb9f3a"
            ],
            [
             0.8888888888888888,
             "#fdca26"
            ],
            [
             1,
             "#f0f921"
            ]
           ],
           "sequentialminus": [
            [
             0,
             "#0d0887"
            ],
            [
             0.1111111111111111,
             "#46039f"
            ],
            [
             0.2222222222222222,
             "#7201a8"
            ],
            [
             0.3333333333333333,
             "#9c179e"
            ],
            [
             0.4444444444444444,
             "#bd3786"
            ],
            [
             0.5555555555555556,
             "#d8576b"
            ],
            [
             0.6666666666666666,
             "#ed7953"
            ],
            [
             0.7777777777777778,
             "#fb9f3a"
            ],
            [
             0.8888888888888888,
             "#fdca26"
            ],
            [
             1,
             "#f0f921"
            ]
           ]
          },
          "colorway": [
           "#636efa",
           "#EF553B",
           "#00cc96",
           "#ab63fa",
           "#FFA15A",
           "#19d3f3",
           "#FF6692",
           "#B6E880",
           "#FF97FF",
           "#FECB52"
          ],
          "font": {
           "color": "#2a3f5f"
          },
          "geo": {
           "bgcolor": "white",
           "lakecolor": "white",
           "landcolor": "#E5ECF6",
           "showlakes": true,
           "showland": true,
           "subunitcolor": "white"
          },
          "hoverlabel": {
           "align": "left"
          },
          "hovermode": "closest",
          "mapbox": {
           "style": "light"
          },
          "paper_bgcolor": "white",
          "plot_bgcolor": "#E5ECF6",
          "polar": {
           "angularaxis": {
            "gridcolor": "white",
            "linecolor": "white",
            "ticks": ""
           },
           "bgcolor": "#E5ECF6",
           "radialaxis": {
            "gridcolor": "white",
            "linecolor": "white",
            "ticks": ""
           }
          },
          "scene": {
           "xaxis": {
            "backgroundcolor": "#E5ECF6",
            "gridcolor": "white",
            "gridwidth": 2,
            "linecolor": "white",
            "showbackground": true,
            "ticks": "",
            "zerolinecolor": "white"
           },
           "yaxis": {
            "backgroundcolor": "#E5ECF6",
            "gridcolor": "white",
            "gridwidth": 2,
            "linecolor": "white",
            "showbackground": true,
            "ticks": "",
            "zerolinecolor": "white"
           },
           "zaxis": {
            "backgroundcolor": "#E5ECF6",
            "gridcolor": "white",
            "gridwidth": 2,
            "linecolor": "white",
            "showbackground": true,
            "ticks": "",
            "zerolinecolor": "white"
           }
          },
          "shapedefaults": {
           "line": {
            "color": "#2a3f5f"
           }
          },
          "ternary": {
           "aaxis": {
            "gridcolor": "white",
            "linecolor": "white",
            "ticks": ""
           },
           "baxis": {
            "gridcolor": "white",
            "linecolor": "white",
            "ticks": ""
           },
           "bgcolor": "#E5ECF6",
           "caxis": {
            "gridcolor": "white",
            "linecolor": "white",
            "ticks": ""
           }
          },
          "title": {
           "x": 0.05
          },
          "xaxis": {
           "automargin": true,
           "gridcolor": "white",
           "linecolor": "white",
           "ticks": "",
           "title": {
            "standoff": 15
           },
           "zerolinecolor": "white",
           "zerolinewidth": 2
          },
          "yaxis": {
           "automargin": true,
           "gridcolor": "white",
           "linecolor": "white",
           "ticks": "",
           "title": {
            "standoff": 15
           },
           "zerolinecolor": "white",
           "zerolinewidth": 2
          }
         }
        },
        "xaxis": {
         "anchor": "y",
         "domain": [
          0,
          1
         ],
         "title": {
          "text": "Total Number Evidence Items"
         }
        },
        "yaxis": {
         "anchor": "x",
         "domain": [
          0,
          1
         ],
         "title": {
          "text": "CIVIC Total Sum Impact Score"
         }
        }
       }
      }
     },
     "metadata": {},
     "output_type": "display_data"
    }
   ],
   "source": [
    "fig2 = px.scatter(\n",
    "    data_frame=not_supported_variant_impact_df,\n",
    "    x=\"Total Number Evidence Items\",\n",
    "    y=\"CIVIC Total Sum Impact Score\",\n",
    "    size=\"Total Number Variants\",\n",
    "    size_max=40,\n",
    "    text=\"Total Number Variants\",\n",
    "    color=\"Category\",\n",
    "    hover_data=\"% Accepted Evidence Items\",\n",
    ")\n",
    "fig2.show()"
   ]
  },
  {
   "cell_type": "code",
   "execution_count": 128,
   "metadata": {},
   "outputs": [],
   "source": [
    "fig2.write_html(\"civic_evidence_analysis_output/civic_ns_categories_impact_scatterplot.html\")"
   ]
  },
  {
   "cell_type": "code",
   "execution_count": 129,
   "metadata": {},
   "outputs": [
    {
     "data": {
      "application/vnd.plotly.v1+json": {
       "config": {
        "plotlyServerURL": "https://plot.ly"
       },
       "data": [
        {
         "customdata": [
          [
           "56.07%",
           9.89
          ]
         ],
         "hovertemplate": "Category=Expression Variants<br>Total Number Variants=%{text}<br>Average Impact Score per Evidence Item=%{y}<br>% Accepted Evidence Items=%{customdata[0]}<br>Average Impact Score per Variant=%{customdata[1]}<extra></extra>",
         "legendgroup": "Expression Variants",
         "marker": {
          "color": "#636efa",
          "size": [
           287
          ],
          "sizemode": "area",
          "sizeref": 0.22875,
          "symbol": "circle"
         },
         "mode": "markers+text",
         "name": "Expression Variants",
         "orientation": "v",
         "showlegend": true,
         "text": [
          287
         ],
         "type": "scatter",
         "x": [
          287
         ],
         "xaxis": "x",
         "y": [
          8.11
         ],
         "yaxis": "y"
        },
        {
         "customdata": [
          [
           "95.65%",
           0.78
          ]
         ],
         "hovertemplate": "Category=Epigenetic Modification<br>Total Number Variants=%{text}<br>Average Impact Score per Evidence Item=%{y}<br>% Accepted Evidence Items=%{customdata[0]}<br>Average Impact Score per Variant=%{customdata[1]}<extra></extra>",
         "legendgroup": "Epigenetic Modification",
         "marker": {
          "color": "#EF553B",
          "size": [
           14
          ],
          "sizemode": "area",
          "sizeref": 0.22875,
          "symbol": "circle"
         },
         "mode": "markers+text",
         "name": "Epigenetic Modification",
         "orientation": "v",
         "showlegend": true,
         "text": [
          14
         ],
         "type": "scatter",
         "x": [
          14
         ],
         "xaxis": "x",
         "y": [
          0.64
         ],
         "yaxis": "y"
        },
        {
         "customdata": [
          [
           "61.33%",
           17.92
          ]
         ],
         "hovertemplate": "Category=Fusion Variants<br>Total Number Variants=%{text}<br>Average Impact Score per Evidence Item=%{y}<br>% Accepted Evidence Items=%{customdata[0]}<br>Average Impact Score per Variant=%{customdata[1]}<extra></extra>",
         "legendgroup": "Fusion Variants",
         "marker": {
          "color": "#00cc96",
          "size": [
           294
          ],
          "sizemode": "area",
          "sizeref": 0.22875,
          "symbol": "circle"
         },
         "mode": "markers+text",
         "name": "Fusion Variants",
         "orientation": "v",
         "showlegend": true,
         "text": [
          294
         ],
         "type": "scatter",
         "x": [
          294
         ],
         "xaxis": "x",
         "y": [
          14.71
         ],
         "yaxis": "y"
        },
        {
         "customdata": [
          [
           "64.90%",
           7.5
          ]
         ],
         "hovertemplate": "Category=Sequence Variants<br>Total Number Variants=%{text}<br>Average Impact Score per Evidence Item=%{y}<br>% Accepted Evidence Items=%{customdata[0]}<br>Average Impact Score per Variant=%{customdata[1]}<extra></extra>",
         "legendgroup": "Sequence Variants",
         "marker": {
          "color": "#ab63fa",
          "size": [
           133
          ],
          "sizemode": "area",
          "sizeref": 0.22875,
          "symbol": "circle"
         },
         "mode": "markers+text",
         "name": "Sequence Variants",
         "orientation": "v",
         "showlegend": true,
         "text": [
          133
         ],
         "type": "scatter",
         "x": [
          133
         ],
         "xaxis": "x",
         "y": [
          6.16
         ],
         "yaxis": "y"
        },
        {
         "customdata": [
          [
           "44.64%",
           4.93
          ]
         ],
         "hovertemplate": "Category=Gene Function Variants<br>Total Number Variants=%{text}<br>Average Impact Score per Evidence Item=%{y}<br>% Accepted Evidence Items=%{customdata[0]}<br>Average Impact Score per Variant=%{customdata[1]}<extra></extra>",
         "legendgroup": "Gene Function Variants",
         "marker": {
          "color": "#FFA15A",
          "size": [
           91
          ],
          "sizemode": "area",
          "sizeref": 0.22875,
          "symbol": "circle"
         },
         "mode": "markers+text",
         "name": "Gene Function Variants",
         "orientation": "v",
         "showlegend": true,
         "text": [
          91
         ],
         "type": "scatter",
         "x": [
          91
         ],
         "xaxis": "x",
         "y": [
          4.05
         ],
         "yaxis": "y"
        },
        {
         "customdata": [
          [
           "38.04%",
           7.63
          ]
         ],
         "hovertemplate": "Category=Rearrangement Variants<br>Total Number Variants=%{text}<br>Average Impact Score per Evidence Item=%{y}<br>% Accepted Evidence Items=%{customdata[0]}<br>Average Impact Score per Variant=%{customdata[1]}<extra></extra>",
         "legendgroup": "Rearrangement Variants",
         "marker": {
          "color": "#19d3f3",
          "size": [
           116
          ],
          "sizemode": "area",
          "sizeref": 0.22875,
          "symbol": "circle"
         },
         "mode": "markers+text",
         "name": "Rearrangement Variants",
         "orientation": "v",
         "showlegend": true,
         "text": [
          116
         ],
         "type": "scatter",
         "x": [
          116
         ],
         "xaxis": "x",
         "y": [
          6.26
         ],
         "yaxis": "y"
        },
        {
         "customdata": [
          [
           "46.27%",
           0.61
          ]
         ],
         "hovertemplate": "Category=Copy Number Variants<br>Total Number Variants=%{text}<br>Average Impact Score per Evidence Item=%{y}<br>% Accepted Evidence Items=%{customdata[0]}<br>Average Impact Score per Variant=%{customdata[1]}<extra></extra>",
         "legendgroup": "Copy Number Variants",
         "marker": {
          "color": "#FF6692",
          "size": [
           34
          ],
          "sizemode": "area",
          "sizeref": 0.22875,
          "symbol": "circle"
         },
         "mode": "markers+text",
         "name": "Copy Number Variants",
         "orientation": "v",
         "showlegend": true,
         "text": [
          34
         ],
         "type": "scatter",
         "x": [
          34
         ],
         "xaxis": "x",
         "y": [
          0.5
         ],
         "yaxis": "y"
        },
        {
         "customdata": [
          [
           "40.28%",
           1.79
          ]
         ],
         "hovertemplate": "Category=Other Variants<br>Total Number Variants=%{text}<br>Average Impact Score per Evidence Item=%{y}<br>% Accepted Evidence Items=%{customdata[0]}<br>Average Impact Score per Variant=%{customdata[1]}<extra></extra>",
         "legendgroup": "Other Variants",
         "marker": {
          "color": "#B6E880",
          "size": [
           83
          ],
          "sizemode": "area",
          "sizeref": 0.22875,
          "symbol": "circle"
         },
         "mode": "markers+text",
         "name": "Other Variants",
         "orientation": "v",
         "showlegend": true,
         "text": [
          83
         ],
         "type": "scatter",
         "x": [
          83
         ],
         "xaxis": "x",
         "y": [
          1.47
         ],
         "yaxis": "y"
        },
        {
         "customdata": [
          [
           "62.96%",
           0.85
          ]
         ],
         "hovertemplate": "Category=Genotype Variants<br>Total Number Variants=%{text}<br>Average Impact Score per Evidence Item=%{y}<br>% Accepted Evidence Items=%{customdata[0]}<br>Average Impact Score per Variant=%{customdata[1]}<extra></extra>",
         "legendgroup": "Genotype Variants",
         "marker": {
          "color": "#FF97FF",
          "size": [
           16
          ],
          "sizemode": "area",
          "sizeref": 0.22875,
          "symbol": "circle"
         },
         "mode": "markers+text",
         "name": "Genotype Variants",
         "orientation": "v",
         "showlegend": true,
         "text": [
          16
         ],
         "type": "scatter",
         "x": [
          16
         ],
         "xaxis": "x",
         "y": [
          0.7
         ],
         "yaxis": "y"
        },
        {
         "customdata": [
          [
           "72.08%",
           16.94
          ]
         ],
         "hovertemplate": "Category=Region Defined Variants<br>Total Number Variants=%{text}<br>Average Impact Score per Evidence Item=%{y}<br>% Accepted Evidence Items=%{customdata[0]}<br>Average Impact Score per Variant=%{customdata[1]}<extra></extra>",
         "legendgroup": "Region Defined Variants",
         "marker": {
          "color": "#FECB52",
          "size": [
           129
          ],
          "sizemode": "area",
          "sizeref": 0.22875,
          "symbol": "circle"
         },
         "mode": "markers+text",
         "name": "Region Defined Variants",
         "orientation": "v",
         "showlegend": true,
         "text": [
          129
         ],
         "type": "scatter",
         "x": [
          129
         ],
         "xaxis": "x",
         "y": [
          13.9
         ],
         "yaxis": "y"
        },
        {
         "customdata": [
          [
           "12.11%",
           0.97
          ]
         ],
         "hovertemplate": "Category=Transcript Variants<br>Total Number Variants=%{text}<br>Average Impact Score per Evidence Item=%{y}<br>% Accepted Evidence Items=%{customdata[0]}<br>Average Impact Score per Variant=%{customdata[1]}<extra></extra>",
         "legendgroup": "Transcript Variants",
         "marker": {
          "color": "#636efa",
          "size": [
           366
          ],
          "sizemode": "area",
          "sizeref": 0.22875,
          "symbol": "circle"
         },
         "mode": "markers+text",
         "name": "Transcript Variants",
         "orientation": "v",
         "showlegend": true,
         "text": [
          366
         ],
         "type": "scatter",
         "x": [
          366
         ],
         "xaxis": "x",
         "y": [
          0.8
         ],
         "yaxis": "y"
        }
       ],
       "layout": {
        "legend": {
         "itemsizing": "constant",
         "title": {
          "text": "Category"
         },
         "tracegroupgap": 0
        },
        "margin": {
         "t": 60
        },
        "template": {
         "data": {
          "bar": [
           {
            "error_x": {
             "color": "#2a3f5f"
            },
            "error_y": {
             "color": "#2a3f5f"
            },
            "marker": {
             "line": {
              "color": "#E5ECF6",
              "width": 0.5
             },
             "pattern": {
              "fillmode": "overlay",
              "size": 10,
              "solidity": 0.2
             }
            },
            "type": "bar"
           }
          ],
          "barpolar": [
           {
            "marker": {
             "line": {
              "color": "#E5ECF6",
              "width": 0.5
             },
             "pattern": {
              "fillmode": "overlay",
              "size": 10,
              "solidity": 0.2
             }
            },
            "type": "barpolar"
           }
          ],
          "carpet": [
           {
            "aaxis": {
             "endlinecolor": "#2a3f5f",
             "gridcolor": "white",
             "linecolor": "white",
             "minorgridcolor": "white",
             "startlinecolor": "#2a3f5f"
            },
            "baxis": {
             "endlinecolor": "#2a3f5f",
             "gridcolor": "white",
             "linecolor": "white",
             "minorgridcolor": "white",
             "startlinecolor": "#2a3f5f"
            },
            "type": "carpet"
           }
          ],
          "choropleth": [
           {
            "colorbar": {
             "outlinewidth": 0,
             "ticks": ""
            },
            "type": "choropleth"
           }
          ],
          "contour": [
           {
            "colorbar": {
             "outlinewidth": 0,
             "ticks": ""
            },
            "colorscale": [
             [
              0,
              "#0d0887"
             ],
             [
              0.1111111111111111,
              "#46039f"
             ],
             [
              0.2222222222222222,
              "#7201a8"
             ],
             [
              0.3333333333333333,
              "#9c179e"
             ],
             [
              0.4444444444444444,
              "#bd3786"
             ],
             [
              0.5555555555555556,
              "#d8576b"
             ],
             [
              0.6666666666666666,
              "#ed7953"
             ],
             [
              0.7777777777777778,
              "#fb9f3a"
             ],
             [
              0.8888888888888888,
              "#fdca26"
             ],
             [
              1,
              "#f0f921"
             ]
            ],
            "type": "contour"
           }
          ],
          "contourcarpet": [
           {
            "colorbar": {
             "outlinewidth": 0,
             "ticks": ""
            },
            "type": "contourcarpet"
           }
          ],
          "heatmap": [
           {
            "colorbar": {
             "outlinewidth": 0,
             "ticks": ""
            },
            "colorscale": [
             [
              0,
              "#0d0887"
             ],
             [
              0.1111111111111111,
              "#46039f"
             ],
             [
              0.2222222222222222,
              "#7201a8"
             ],
             [
              0.3333333333333333,
              "#9c179e"
             ],
             [
              0.4444444444444444,
              "#bd3786"
             ],
             [
              0.5555555555555556,
              "#d8576b"
             ],
             [
              0.6666666666666666,
              "#ed7953"
             ],
             [
              0.7777777777777778,
              "#fb9f3a"
             ],
             [
              0.8888888888888888,
              "#fdca26"
             ],
             [
              1,
              "#f0f921"
             ]
            ],
            "type": "heatmap"
           }
          ],
          "heatmapgl": [
           {
            "colorbar": {
             "outlinewidth": 0,
             "ticks": ""
            },
            "colorscale": [
             [
              0,
              "#0d0887"
             ],
             [
              0.1111111111111111,
              "#46039f"
             ],
             [
              0.2222222222222222,
              "#7201a8"
             ],
             [
              0.3333333333333333,
              "#9c179e"
             ],
             [
              0.4444444444444444,
              "#bd3786"
             ],
             [
              0.5555555555555556,
              "#d8576b"
             ],
             [
              0.6666666666666666,
              "#ed7953"
             ],
             [
              0.7777777777777778,
              "#fb9f3a"
             ],
             [
              0.8888888888888888,
              "#fdca26"
             ],
             [
              1,
              "#f0f921"
             ]
            ],
            "type": "heatmapgl"
           }
          ],
          "histogram": [
           {
            "marker": {
             "pattern": {
              "fillmode": "overlay",
              "size": 10,
              "solidity": 0.2
             }
            },
            "type": "histogram"
           }
          ],
          "histogram2d": [
           {
            "colorbar": {
             "outlinewidth": 0,
             "ticks": ""
            },
            "colorscale": [
             [
              0,
              "#0d0887"
             ],
             [
              0.1111111111111111,
              "#46039f"
             ],
             [
              0.2222222222222222,
              "#7201a8"
             ],
             [
              0.3333333333333333,
              "#9c179e"
             ],
             [
              0.4444444444444444,
              "#bd3786"
             ],
             [
              0.5555555555555556,
              "#d8576b"
             ],
             [
              0.6666666666666666,
              "#ed7953"
             ],
             [
              0.7777777777777778,
              "#fb9f3a"
             ],
             [
              0.8888888888888888,
              "#fdca26"
             ],
             [
              1,
              "#f0f921"
             ]
            ],
            "type": "histogram2d"
           }
          ],
          "histogram2dcontour": [
           {
            "colorbar": {
             "outlinewidth": 0,
             "ticks": ""
            },
            "colorscale": [
             [
              0,
              "#0d0887"
             ],
             [
              0.1111111111111111,
              "#46039f"
             ],
             [
              0.2222222222222222,
              "#7201a8"
             ],
             [
              0.3333333333333333,
              "#9c179e"
             ],
             [
              0.4444444444444444,
              "#bd3786"
             ],
             [
              0.5555555555555556,
              "#d8576b"
             ],
             [
              0.6666666666666666,
              "#ed7953"
             ],
             [
              0.7777777777777778,
              "#fb9f3a"
             ],
             [
              0.8888888888888888,
              "#fdca26"
             ],
             [
              1,
              "#f0f921"
             ]
            ],
            "type": "histogram2dcontour"
           }
          ],
          "mesh3d": [
           {
            "colorbar": {
             "outlinewidth": 0,
             "ticks": ""
            },
            "type": "mesh3d"
           }
          ],
          "parcoords": [
           {
            "line": {
             "colorbar": {
              "outlinewidth": 0,
              "ticks": ""
             }
            },
            "type": "parcoords"
           }
          ],
          "pie": [
           {
            "automargin": true,
            "type": "pie"
           }
          ],
          "scatter": [
           {
            "fillpattern": {
             "fillmode": "overlay",
             "size": 10,
             "solidity": 0.2
            },
            "type": "scatter"
           }
          ],
          "scatter3d": [
           {
            "line": {
             "colorbar": {
              "outlinewidth": 0,
              "ticks": ""
             }
            },
            "marker": {
             "colorbar": {
              "outlinewidth": 0,
              "ticks": ""
             }
            },
            "type": "scatter3d"
           }
          ],
          "scattercarpet": [
           {
            "marker": {
             "colorbar": {
              "outlinewidth": 0,
              "ticks": ""
             }
            },
            "type": "scattercarpet"
           }
          ],
          "scattergeo": [
           {
            "marker": {
             "colorbar": {
              "outlinewidth": 0,
              "ticks": ""
             }
            },
            "type": "scattergeo"
           }
          ],
          "scattergl": [
           {
            "marker": {
             "colorbar": {
              "outlinewidth": 0,
              "ticks": ""
             }
            },
            "type": "scattergl"
           }
          ],
          "scattermapbox": [
           {
            "marker": {
             "colorbar": {
              "outlinewidth": 0,
              "ticks": ""
             }
            },
            "type": "scattermapbox"
           }
          ],
          "scatterpolar": [
           {
            "marker": {
             "colorbar": {
              "outlinewidth": 0,
              "ticks": ""
             }
            },
            "type": "scatterpolar"
           }
          ],
          "scatterpolargl": [
           {
            "marker": {
             "colorbar": {
              "outlinewidth": 0,
              "ticks": ""
             }
            },
            "type": "scatterpolargl"
           }
          ],
          "scatterternary": [
           {
            "marker": {
             "colorbar": {
              "outlinewidth": 0,
              "ticks": ""
             }
            },
            "type": "scatterternary"
           }
          ],
          "surface": [
           {
            "colorbar": {
             "outlinewidth": 0,
             "ticks": ""
            },
            "colorscale": [
             [
              0,
              "#0d0887"
             ],
             [
              0.1111111111111111,
              "#46039f"
             ],
             [
              0.2222222222222222,
              "#7201a8"
             ],
             [
              0.3333333333333333,
              "#9c179e"
             ],
             [
              0.4444444444444444,
              "#bd3786"
             ],
             [
              0.5555555555555556,
              "#d8576b"
             ],
             [
              0.6666666666666666,
              "#ed7953"
             ],
             [
              0.7777777777777778,
              "#fb9f3a"
             ],
             [
              0.8888888888888888,
              "#fdca26"
             ],
             [
              1,
              "#f0f921"
             ]
            ],
            "type": "surface"
           }
          ],
          "table": [
           {
            "cells": {
             "fill": {
              "color": "#EBF0F8"
             },
             "line": {
              "color": "white"
             }
            },
            "header": {
             "fill": {
              "color": "#C8D4E3"
             },
             "line": {
              "color": "white"
             }
            },
            "type": "table"
           }
          ]
         },
         "layout": {
          "annotationdefaults": {
           "arrowcolor": "#2a3f5f",
           "arrowhead": 0,
           "arrowwidth": 1
          },
          "autotypenumbers": "strict",
          "coloraxis": {
           "colorbar": {
            "outlinewidth": 0,
            "ticks": ""
           }
          },
          "colorscale": {
           "diverging": [
            [
             0,
             "#8e0152"
            ],
            [
             0.1,
             "#c51b7d"
            ],
            [
             0.2,
             "#de77ae"
            ],
            [
             0.3,
             "#f1b6da"
            ],
            [
             0.4,
             "#fde0ef"
            ],
            [
             0.5,
             "#f7f7f7"
            ],
            [
             0.6,
             "#e6f5d0"
            ],
            [
             0.7,
             "#b8e186"
            ],
            [
             0.8,
             "#7fbc41"
            ],
            [
             0.9,
             "#4d9221"
            ],
            [
             1,
             "#276419"
            ]
           ],
           "sequential": [
            [
             0,
             "#0d0887"
            ],
            [
             0.1111111111111111,
             "#46039f"
            ],
            [
             0.2222222222222222,
             "#7201a8"
            ],
            [
             0.3333333333333333,
             "#9c179e"
            ],
            [
             0.4444444444444444,
             "#bd3786"
            ],
            [
             0.5555555555555556,
             "#d8576b"
            ],
            [
             0.6666666666666666,
             "#ed7953"
            ],
            [
             0.7777777777777778,
             "#fb9f3a"
            ],
            [
             0.8888888888888888,
             "#fdca26"
            ],
            [
             1,
             "#f0f921"
            ]
           ],
           "sequentialminus": [
            [
             0,
             "#0d0887"
            ],
            [
             0.1111111111111111,
             "#46039f"
            ],
            [
             0.2222222222222222,
             "#7201a8"
            ],
            [
             0.3333333333333333,
             "#9c179e"
            ],
            [
             0.4444444444444444,
             "#bd3786"
            ],
            [
             0.5555555555555556,
             "#d8576b"
            ],
            [
             0.6666666666666666,
             "#ed7953"
            ],
            [
             0.7777777777777778,
             "#fb9f3a"
            ],
            [
             0.8888888888888888,
             "#fdca26"
            ],
            [
             1,
             "#f0f921"
            ]
           ]
          },
          "colorway": [
           "#636efa",
           "#EF553B",
           "#00cc96",
           "#ab63fa",
           "#FFA15A",
           "#19d3f3",
           "#FF6692",
           "#B6E880",
           "#FF97FF",
           "#FECB52"
          ],
          "font": {
           "color": "#2a3f5f"
          },
          "geo": {
           "bgcolor": "white",
           "lakecolor": "white",
           "landcolor": "#E5ECF6",
           "showlakes": true,
           "showland": true,
           "subunitcolor": "white"
          },
          "hoverlabel": {
           "align": "left"
          },
          "hovermode": "closest",
          "mapbox": {
           "style": "light"
          },
          "paper_bgcolor": "white",
          "plot_bgcolor": "#E5ECF6",
          "polar": {
           "angularaxis": {
            "gridcolor": "white",
            "linecolor": "white",
            "ticks": ""
           },
           "bgcolor": "#E5ECF6",
           "radialaxis": {
            "gridcolor": "white",
            "linecolor": "white",
            "ticks": ""
           }
          },
          "scene": {
           "xaxis": {
            "backgroundcolor": "#E5ECF6",
            "gridcolor": "white",
            "gridwidth": 2,
            "linecolor": "white",
            "showbackground": true,
            "ticks": "",
            "zerolinecolor": "white"
           },
           "yaxis": {
            "backgroundcolor": "#E5ECF6",
            "gridcolor": "white",
            "gridwidth": 2,
            "linecolor": "white",
            "showbackground": true,
            "ticks": "",
            "zerolinecolor": "white"
           },
           "zaxis": {
            "backgroundcolor": "#E5ECF6",
            "gridcolor": "white",
            "gridwidth": 2,
            "linecolor": "white",
            "showbackground": true,
            "ticks": "",
            "zerolinecolor": "white"
           }
          },
          "shapedefaults": {
           "line": {
            "color": "#2a3f5f"
           }
          },
          "ternary": {
           "aaxis": {
            "gridcolor": "white",
            "linecolor": "white",
            "ticks": ""
           },
           "baxis": {
            "gridcolor": "white",
            "linecolor": "white",
            "ticks": ""
           },
           "bgcolor": "#E5ECF6",
           "caxis": {
            "gridcolor": "white",
            "linecolor": "white",
            "ticks": ""
           }
          },
          "title": {
           "x": 0.05
          },
          "xaxis": {
           "automargin": true,
           "gridcolor": "white",
           "linecolor": "white",
           "ticks": "",
           "title": {
            "standoff": 15
           },
           "zerolinecolor": "white",
           "zerolinewidth": 2
          },
          "yaxis": {
           "automargin": true,
           "gridcolor": "white",
           "linecolor": "white",
           "ticks": "",
           "title": {
            "standoff": 15
           },
           "zerolinecolor": "white",
           "zerolinewidth": 2
          }
         }
        },
        "xaxis": {
         "anchor": "y",
         "domain": [
          0,
          1
         ],
         "title": {
          "text": "Total Number Variants"
         }
        },
        "yaxis": {
         "anchor": "x",
         "domain": [
          0,
          1
         ],
         "title": {
          "text": "Average Impact Score per Evidence Item"
         }
        }
       }
      }
     },
     "metadata": {},
     "output_type": "display_data"
    }
   ],
   "source": [
    "fig3 = px.scatter(\n",
    "    data_frame=not_supported_variant_impact_df,\n",
    "    x=\"Total Number Variants\",\n",
    "    y=\"Average Impact Score per Evidence Item\",\n",
    "    size=\"Total Number Variants\",\n",
    "    size_max=40,\n",
    "    text=\"Total Number Variants\",\n",
    "    # color_discrete_sequence= Bold,\n",
    "    color=\"Category\",\n",
    "    hover_data=[\"% Accepted Evidence Items\", \"Average Impact Score per Variant\"],\n",
    ")\n",
    "fig3.show()"
   ]
  }
 ],
 "metadata": {
  "kernelspec": {
   "display_name": "Python 3.10.9 64-bit ('3.10.9')",
   "language": "python",
   "name": "python3"
  },
  "language_info": {
   "codemirror_mode": {
    "name": "ipython",
    "version": 3
   },
   "file_extension": ".py",
   "mimetype": "text/x-python",
   "name": "python",
   "nbconvert_exporter": "python",
   "pygments_lexer": "ipython3",
   "version": "3.10.9"
  },
  "orig_nbformat": 4,
  "vscode": {
   "interpreter": {
    "hash": "1bd4a0c8bc911393f4a19827cd0d555013b2fcb9ea63c8ddc9b9ae4ac59a8883"
   }
  }
 },
 "nbformat": 4,
 "nbformat_minor": 2
}
