{
 "cells": [
  {
   "cell_type": "markdown",
   "metadata": {},
   "source": [
    "# <a id='toc1_'></a>[CIViC Evidence Analysis](#toc0_)\n",
    "The civic_evidence_analysis notebook contains an analysis on CIViC evidence data"
   ]
  },
  {
   "cell_type": "markdown",
   "metadata": {},
   "source": [
    "**Table of contents**<a id='toc0_'></a>    \n",
    "- [CIViC Evidence Analysis](#toc1_)    \n",
    "  - [Initialize](#toc1_1_)    \n",
    "    - [Import necessary libraries](#toc1_1_1_)    \n",
    "    - [Create output directory](#toc1_1_2_)    \n",
    "    - [Use latest cache that has been pushed to the repo](#toc1_1_3_)    \n",
    "  - [Total Variants in CIViC](#toc1_2_)    \n",
    "  - [Total Evidence items in CIViC](#toc1_3_)    \n",
    "  - [Total Molecular Profiles in CIViC](#toc1_4_)    \n",
    "- [Create analysis functions / global variables](#toc2_)    \n",
    "  - [Summary dicts](#toc2_1_)    \n",
    "  - [Define Analysis Functions](#toc2_2_)    \n",
    "- [Analysis of Normalized Queries](#toc3_)    \n",
    "  - [List of Normalized Variants ID's](#toc3_1_)    \n",
    "  - [Variant analysis](#toc3_2_)    \n",
    "  - [Transform df for evidence analysis](#toc3_3_)    \n",
    "  - [Evidence analysis](#toc3_4_)    \n",
    "  - [Impact](#toc3_5_)    \n",
    "    - [Import molecular profile id](#toc3_5_1_)    \n",
    "    - [Import molecular profile scores](#toc3_5_2_)    \n",
    "- [Analysis of Unable to Normalize Queries](#toc4_)    \n",
    "  - [List of Unable to Normalize Variant ID's](#toc4_1_)    \n",
    "  - [Variant analysis](#toc4_2_)    \n",
    "  - [Transform df for evidence analysis](#toc4_3_)    \n",
    "  - [Evidence analysis](#toc4_4_)    \n",
    "  - [Impact](#toc4_5_)    \n",
    "    - [Import molecular profile id](#toc4_5_1_)    \n",
    "    - [Import molecular profile scores](#toc4_5_2_)    \n",
    "- [Analysis of Not Supported Variants](#toc5_)    \n",
    "    - [List of Not Supported Variant ID's](#toc5_1_1_)    \n",
    "  - [Variant Analysis](#toc5_2_)    \n",
    "    - [Not Supported Variant Analysis by Subcategory](#toc5_2_1_)    \n",
    "  - [Transform df for evidence analysis](#toc5_3_)    \n",
    "  - [Evidence analysis](#toc5_4_)    \n",
    "    - [Not Supported Variant Evidence Analysis by Subcategory](#toc5_4_1_)    \n",
    "  - [Impact](#toc5_5_)    \n",
    "    - [Via Evidence Level](#toc5_5_1_)    \n",
    "      - [Analysis with only Accepted Variants](#toc5_5_1_1_)    \n",
    "        - [Calculating evidence score via level](#toc5_5_1_1_1_)    \n",
    "        - [Summary Table](#toc5_5_1_1_2_)    \n",
    "        - [Calculating evidence score via level](#toc5_5_1_1_3_)    \n",
    "      - [Analysis with Accepted and Submitted Variants](#toc5_5_1_2_)    \n",
    "        - [Calculating evidence score via level](#toc5_5_1_2_1_)    \n",
    "        - [Summary Table](#toc5_5_1_2_2_)    \n",
    "    - [Via Molecular Profile Score- this was not used](#toc5_5_2_)    \n",
    "      - [Import molecular profile id](#toc5_5_2_1_)    \n",
    "      - [Import molecular profile scores](#toc5_5_2_2_)    \n",
    "      - [Impact by Subcategory](#toc5_5_2_3_)    \n",
    "- [Summary](#toc6_)    \n",
    "  - [Variant Analysis](#toc6_1_)    \n",
    "    - [Building Summary Table 1 & 2](#toc6_1_1_)    \n",
    "    - [Summary Table 1](#toc6_1_2_)    \n",
    "    - [Summary Table 2](#toc6_1_3_)    \n",
    "    - [Building Summary Tables 3 - 5](#toc6_1_4_)    \n",
    "    - [Summary Table 3](#toc6_1_5_)    \n",
    "    - [Summary Table 4](#toc6_1_6_)    \n",
    "    - [Summary Table 5](#toc6_1_7_)    \n",
    "  - [Evidence Analysis](#toc6_2_)    \n",
    "    - [Building Summary Tables 6 & 7](#toc6_2_1_)    \n",
    "    - [Summary Table 6](#toc6_2_2_)    \n",
    "    - [Summmary Table 7](#toc6_2_3_)    \n",
    "    - [Building Summary Tables 8 - 10](#toc6_2_4_)    \n",
    "    - [Summary Table 8](#toc6_2_5_)    \n",
    "    - [Summary Table 9](#toc6_2_6_)    \n",
    "    - [Summary Table 10](#toc6_2_7_)    \n",
    "  - [Impact](#toc6_3_)    \n",
    "\n",
    "<!-- vscode-jupyter-toc-config\n",
    "\tnumbering=false\n",
    "\tanchor=true\n",
    "\tflat=false\n",
    "\tminLevel=1\n",
    "\tmaxLevel=6\n",
    "\t/vscode-jupyter-toc-config -->\n",
    "<!-- THIS CELL WILL BE REPLACED ON TOC UPDATE. DO NOT WRITE YOUR TEXT IN THIS CELL -->"
   ]
  },
  {
   "cell_type": "markdown",
   "metadata": {},
   "source": [
    "## <a id='toc1_1_'></a>[Initialize](#toc0_)"
   ]
  },
  {
   "cell_type": "markdown",
   "metadata": {},
   "source": [
    "### <a id='toc1_1_1_'></a>[Import necessary libraries](#toc0_)"
   ]
  },
  {
   "cell_type": "code",
   "execution_count": 1,
   "metadata": {},
   "outputs": [],
   "source": [
    "import os\n",
    "import sys\n",
    "from pathlib import Path\n",
    "from enum import Enum\n",
    "import re\n",
    "import numpy as np\n",
    "\n",
    "import pandas as pd\n",
    "import plotly.express as px\n",
    "from civicpy import civic as civicpy\n",
    "\n",
    "module_path = os.path.abspath(os.path.join(\"../..\"))\n",
    "if module_path not in sys.path:\n",
    "    sys.path.append(module_path)\n",
    "\n",
    "from utils import load_civicpy_cache, NOT_SUPPORTED_VARIANT_CATEGORY_VALUES  # noqa: E402"
   ]
  },
  {
   "cell_type": "markdown",
   "metadata": {},
   "source": [
    "### <a id='toc1_1_2_'></a>[Create output directory](#toc0_)"
   ]
  },
  {
   "cell_type": "code",
   "execution_count": 2,
   "metadata": {},
   "outputs": [],
   "source": [
    "path = Path(\"output\")\n",
    "path.mkdir(exist_ok=True)"
   ]
  },
  {
   "cell_type": "markdown",
   "metadata": {},
   "source": [
    "### <a id='toc1_1_3_'></a>[Use latest cache that has been pushed to the repo](#toc0_)"
   ]
  },
  {
   "cell_type": "code",
   "execution_count": 3,
   "metadata": {},
   "outputs": [
    {
     "name": "stdout",
     "output_type": "stream",
     "text": [
      "Using cache-20250717.pkl for civicpy cache\n"
     ]
    }
   ],
   "source": [
    "load_civicpy_cache()"
   ]
  },
  {
   "cell_type": "markdown",
   "metadata": {},
   "source": [
    "## <a id='toc1_2_'></a>[Total Variants in CIViC](#toc0_)"
   ]
  },
  {
   "cell_type": "code",
   "execution_count": 4,
   "metadata": {},
   "outputs": [
    {
     "data": {
      "text/plain": [
       "'Total Number of variants in CIViC: 3845'"
      ]
     },
     "execution_count": 4,
     "metadata": {},
     "output_type": "execute_result"
    }
   ],
   "source": [
    "civic_variant_ids = civicpy.get_all_variants(include_status=[\"accepted\", \"submitted\"])\n",
    "total_number_variants = len(civic_variant_ids)\n",
    "f\"Total Number of variants in CIViC: {total_number_variants}\""
   ]
  },
  {
   "cell_type": "markdown",
   "metadata": {},
   "source": [
    "## <a id='toc1_3_'></a>[Total Evidence items in CIViC](#toc0_)"
   ]
  },
  {
   "cell_type": "markdown",
   "metadata": {},
   "source": [
    "Rejected evidence items are excluded"
   ]
  },
  {
   "cell_type": "code",
   "execution_count": 5,
   "metadata": {},
   "outputs": [],
   "source": [
    "civic_evidence_items = civicpy.get_all_evidence(\n",
    "    include_status=[\"accepted\", \"submitted\"]\n",
    ")"
   ]
  },
  {
   "cell_type": "code",
   "execution_count": 6,
   "metadata": {},
   "outputs": [
    {
     "data": {
      "text/plain": [
       "'Total Number of accepted and submitted evidence items in CIViC: 10850'"
      ]
     },
     "execution_count": 6,
     "metadata": {},
     "output_type": "execute_result"
    }
   ],
   "source": [
    "total_ac_sub_evidence = len(civic_evidence_items)\n",
    "f\"Total Number of accepted and submitted evidence items in CIViC: {total_ac_sub_evidence}\""
   ]
  },
  {
   "cell_type": "markdown",
   "metadata": {},
   "source": [
    "## <a id='toc1_4_'></a>[Total Molecular Profiles in CIViC](#toc0_)"
   ]
  },
  {
   "cell_type": "code",
   "execution_count": 7,
   "metadata": {},
   "outputs": [],
   "source": [
    "civic_molprofs = civicpy.get_all_molecular_profiles(\n",
    "    include_status=[\"accepted\", \"submitted\"]\n",
    ")"
   ]
  },
  {
   "cell_type": "markdown",
   "metadata": {},
   "source": [
    "# <a id='toc2_'></a>[Create analysis functions / global variables](#toc0_)"
   ]
  },
  {
   "cell_type": "code",
   "execution_count": 8,
   "metadata": {},
   "outputs": [],
   "source": [
    "class VariantNormType(str, Enum):\n",
    "    \"\"\"Variation Normalization types\"\"\"\n",
    "\n",
    "    NORMALIZED = \"Normalized\"\n",
    "    UNABLE_TO_NORMALIZE = \"Unable to Normalize\"\n",
    "    NOT_SUPPORTED = \"Not Supported\"\n",
    "\n",
    "\n",
    "VARIANT_NORM_TYPE_VALUES = [v.value for v in VariantNormType.__members__.values()]"
   ]
  },
  {
   "cell_type": "markdown",
   "metadata": {},
   "source": [
    "## <a id='toc2_1_'></a>[Summary dicts](#toc0_)\n",
    "\n",
    "These dictionaries will be mutated and used at the end of the analysis"
   ]
  },
  {
   "cell_type": "code",
   "execution_count": 9,
   "metadata": {},
   "outputs": [
    {
     "data": {
      "text/plain": [
       "{'Variant Category': ['Normalized', 'Unable to Normalize', 'Not Supported'],\n",
       " 'Count of CIViC Variants per Category': [],\n",
       " 'Fraction of all CIViC Variants': [],\n",
       " 'Percent of all CIViC Variants': [],\n",
       " 'Fraction of Accepted Variants': [],\n",
       " 'Percent of Accepted Variants': [],\n",
       " 'Fraction of Submitted Variants': [],\n",
       " 'Percent of Submitted Variants': []}"
      ]
     },
     "execution_count": 9,
     "metadata": {},
     "output_type": "execute_result"
    }
   ],
   "source": [
    "variant_analysis_summary = {\n",
    "    \"Variant Category\": VARIANT_NORM_TYPE_VALUES,\n",
    "    \"Count of CIViC Variants per Category\": [],\n",
    "    \"Fraction of all CIViC Variants\": [],\n",
    "    \"Percent of all CIViC Variants\": [],\n",
    "    \"Fraction of Accepted Variants\": [],\n",
    "    \"Percent of Accepted Variants\": [],\n",
    "    \"Fraction of Submitted Variants\": [],\n",
    "    \"Percent of Submitted Variants\": [],\n",
    "}\n",
    "variant_analysis_summary"
   ]
  },
  {
   "cell_type": "code",
   "execution_count": 10,
   "metadata": {},
   "outputs": [
    {
     "data": {
      "text/plain": [
       "{'Variant Category': ['Normalized', 'Unable to Normalize', 'Not Supported'],\n",
       " 'Count of CIViC Evidence Items per Category': [],\n",
       " 'Fraction of all CIViC Evidence Items': [],\n",
       " 'Percent of all CIViC Evidence Items': [],\n",
       " 'Fraction of Accepted Evidence Items': [],\n",
       " 'Percent of Accepted Evidence Items': [],\n",
       " 'Fraction of Submitted Evidence Items': [],\n",
       " 'Percent of Submitted Evidence Items': []}"
      ]
     },
     "execution_count": 10,
     "metadata": {},
     "output_type": "execute_result"
    }
   ],
   "source": [
    "evidence_analysis_summary = {\n",
    "    \"Variant Category\": VARIANT_NORM_TYPE_VALUES,\n",
    "    \"Count of CIViC Evidence Items per Category\": [],\n",
    "    \"Fraction of all CIViC Evidence Items\": [],\n",
    "    \"Percent of all CIViC Evidence Items\": [],\n",
    "    \"Fraction of Accepted Evidence Items\": [],\n",
    "    \"Percent of Accepted Evidence Items\": [],\n",
    "    \"Fraction of Submitted Evidence Items\": [],\n",
    "    \"Percent of Submitted Evidence Items\": [],\n",
    "}\n",
    "evidence_analysis_summary"
   ]
  },
  {
   "cell_type": "markdown",
   "metadata": {},
   "source": [
    "## <a id='toc2_2_'></a>[Define Analysis Functions](#toc0_)"
   ]
  },
  {
   "cell_type": "code",
   "execution_count": 11,
   "metadata": {},
   "outputs": [],
   "source": [
    "def variant_analysis(\n",
    "    df: pd.DataFrame, variant_norm_type: VariantNormType\n",
    ") -> pd.DataFrame:\n",
    "    \"\"\"Do variant analysis (counts, percentages)\n",
    "\n",
    "    :param df: Dataframe of variants\n",
    "    :param variant_norm_type: The kind of variants that are in `df`\n",
    "    :return: Transformed dataframe with variant ID duplicates dropped\n",
    "    \"\"\"\n",
    "    # Drop duplicate rows\n",
    "    df = df.drop_duplicates(subset=[\"variant_id\"])\n",
    "    variant_ids = list(df[\"variant_id\"])\n",
    "\n",
    "    # Count\n",
    "    num_variants = len(variant_ids)\n",
    "    fraction_variants = f\"{num_variants} / {total_number_variants}\"\n",
    "    print(\n",
    "        f\"\\nNumber of {variant_norm_type.value} Variants in CIViC: {fraction_variants}\"\n",
    "    )\n",
    "\n",
    "    # Percent\n",
    "    percentage_variants = f\"{num_variants / total_number_variants * 100:.2f}%\"\n",
    "    print(\n",
    "        f\"Percent of {variant_norm_type.value} Variants in CIViC: {percentage_variants}\"\n",
    "    )\n",
    "\n",
    "    # Get accepted counts\n",
    "    num_accepted_variants = df.variant_accepted.sum()\n",
    "    fraction_accepted_variants = f\"{num_accepted_variants} / {num_variants}\"\n",
    "    print(\n",
    "        f\"\\nNumber of accepted {variant_norm_type.value} Variants: {fraction_accepted_variants}\"\n",
    "    )\n",
    "\n",
    "    # Get accepted Percent\n",
    "    percentage_accepted_variants = f\"{num_accepted_variants / num_variants * 100:.2f}%\"\n",
    "    print(\n",
    "        f\"Percent of accepted {variant_norm_type.value} Variants: {percentage_accepted_variants}\"\n",
    "    )\n",
    "\n",
    "    # Get submitted counts\n",
    "    num_submitted_variants = len(df) - num_accepted_variants\n",
    "    fraction_submitted_variants = f\"{num_submitted_variants} / {num_variants}\"\n",
    "    print(\n",
    "        f\"\\nNumber of submitted {variant_norm_type.value} Variants: {fraction_submitted_variants}\"\n",
    "    )\n",
    "\n",
    "    # Get submitted Percent\n",
    "    percentage_submitted_variants = (\n",
    "        f\"{num_submitted_variants / num_variants * 100:.2f}%\"\n",
    "    )\n",
    "    print(\n",
    "        f\"Percent of submitted {variant_norm_type.value} Variants: {percentage_submitted_variants}\"\n",
    "    )\n",
    "\n",
    "    variant_analysis_summary[\"Count of CIViC Variants per Category\"].append(\n",
    "        num_variants\n",
    "    )\n",
    "    variant_analysis_summary[\"Fraction of all CIViC Variants\"].append(fraction_variants)\n",
    "    variant_analysis_summary[\"Percent of all CIViC Variants\"].append(\n",
    "        percentage_variants\n",
    "    )\n",
    "    variant_analysis_summary[\"Fraction of Accepted Variants\"].append(\n",
    "        fraction_accepted_variants\n",
    "    )\n",
    "    variant_analysis_summary[\"Percent of Accepted Variants\"].append(\n",
    "        percentage_accepted_variants\n",
    "    )\n",
    "    variant_analysis_summary[\"Fraction of Submitted Variants\"].append(\n",
    "        fraction_submitted_variants\n",
    "    )\n",
    "    variant_analysis_summary[\"Percent of Submitted Variants\"].append(\n",
    "        percentage_submitted_variants\n",
    "    )\n",
    "\n",
    "    return df"
   ]
  },
  {
   "cell_type": "code",
   "execution_count": 12,
   "metadata": {},
   "outputs": [],
   "source": [
    "def transform_df_evidence_ids(df: pd.DataFrame) -> pd.DataFrame:\n",
    "    \"\"\"Transform dataframe to include evidence ID information\n",
    "\n",
    "    :param df: Dataframe of variants\n",
    "    :return: Transformed dataframe with evidence ID information\n",
    "    \"\"\"\n",
    "    tmp_df = df.copy(deep=True)\n",
    "\n",
    "    _variants_evidence_ids = []\n",
    "    variant_ids = list(tmp_df[\"variant_id\"])\n",
    "\n",
    "    for v_id in variant_ids:\n",
    "        _variant_evidence_ids = []\n",
    "\n",
    "        for variant in civic_variant_ids:\n",
    "            if int(v_id) == variant.id:\n",
    "                for mp in variant.molecular_profiles:\n",
    "                    for e in mp.evidence_items:\n",
    "                        if e.id not in _variant_evidence_ids:\n",
    "                            _variant_evidence_ids.append(e.id)\n",
    "\n",
    "        _variants_evidence_ids.append(_variant_evidence_ids or \"\")\n",
    "\n",
    "    tmp_df[\"evidence_ids\"] = _variants_evidence_ids\n",
    "\n",
    "    # Explode and rename evidence ids field\n",
    "    tmp_df = tmp_df.explode(column=\"evidence_ids\")\n",
    "    tmp_df = tmp_df.rename(columns={\"evidence_ids\": \"evidence_id\"})\n",
    "\n",
    "    return tmp_df"
   ]
  },
  {
   "cell_type": "code",
   "execution_count": 13,
   "metadata": {},
   "outputs": [],
   "source": [
    "def transform_df_evidence(df: pd.DataFrame) -> pd.DataFrame:\n",
    "    \"\"\"Transform dataframe to include evidence status, rating, and level\n",
    "\n",
    "    :param df: Dataframe of variants\n",
    "    :return: Transformed dataframe with evidence status, rating, and level information.\n",
    "    \"\"\"\n",
    "    variants_evidence_ids = list(df[\"evidence_id\"])\n",
    "\n",
    "    # Add evidence status, rating, and level information\n",
    "    _variants_evidence_statuses = []\n",
    "    _variants_evidence_ratings = []\n",
    "    _variants_evidence_levels = []\n",
    "\n",
    "    for eid in variants_evidence_ids:\n",
    "        _variant_evidence_statuses = []\n",
    "        _variant_evidence_ratings = []\n",
    "        _variant_evidence_levels = []\n",
    "\n",
    "        for evidence in civic_evidence_items:\n",
    "            if eid and (int(eid) == evidence.id):\n",
    "                if evidence.status not in _variant_evidence_statuses:\n",
    "                    _variant_evidence_statuses.append(evidence.status)\n",
    "\n",
    "                if evidence.rating not in _variant_evidence_ratings:\n",
    "                    _variant_evidence_ratings.append(evidence.rating)\n",
    "\n",
    "                if evidence.evidence_level not in _variant_evidence_levels:\n",
    "                    _variant_evidence_levels.append(evidence.evidence_level)\n",
    "\n",
    "        _variants_evidence_statuses.append(_variant_evidence_statuses or \"\")\n",
    "        _variants_evidence_ratings.append(_variant_evidence_ratings or \"\")\n",
    "        _variants_evidence_levels.append(_variant_evidence_levels or \"\")\n",
    "\n",
    "    df[\"evidence_status\"] = _variants_evidence_statuses\n",
    "    df[\"evidence_status\"] = df[\"evidence_status\"].str.join(\", \")\n",
    "    df[\"evidence_rating\"] = _variants_evidence_ratings\n",
    "    df[\"evidence_level\"] = _variants_evidence_levels\n",
    "\n",
    "    return df"
   ]
  },
  {
   "cell_type": "code",
   "execution_count": 14,
   "metadata": {},
   "outputs": [],
   "source": [
    "def evidence_analysis(\n",
    "    df: pd.DataFrame, variant_norm_type: VariantNormType\n",
    ") -> pd.DataFrame:\n",
    "    \"\"\"Do evidence analysis (counts, percentages)\n",
    "\n",
    "    :param df: Dataframe of variants\n",
    "    :param variant_norm_type: The kind of variants that are in `df`\n",
    "    :return: Transformed dataframe with evidence ID duplicates dropped\n",
    "\n",
    "    this is for Not Supported Variant analysis since it has sub categories and\n",
    "    evidence item duplicates should be dropped within the sub categories,\n",
    "    not across all Not Supported Variant evidence items\n",
    "    \"\"\"\n",
    "    # Count\n",
    "    num_variant_unique_evidence_items = len(set(df.evidence_id))\n",
    "    fraction_evidence_items = (\n",
    "        f\"{num_variant_unique_evidence_items} / {total_ac_sub_evidence}\"\n",
    "    )\n",
    "    print(\n",
    "        f\"Number of {variant_norm_type.value} Variant Evidence items in CIViC: {fraction_evidence_items}\"\n",
    "    )\n",
    "\n",
    "    # Percent\n",
    "    percentage_evidence_items = (\n",
    "        f\"{num_variant_unique_evidence_items / total_ac_sub_evidence * 100:.2f}%\"\n",
    "    )\n",
    "    print(\n",
    "        f\"Percent of {variant_norm_type.value} Variant Evidence items in CIViC: {percentage_evidence_items}\"\n",
    "    )\n",
    "\n",
    "    # Add evidence accepted column\n",
    "    df[\"evidence_accepted\"] = df.evidence_status.map(\n",
    "        {\"accepted\": True, \"submitted\": False}\n",
    "    )\n",
    "\n",
    "    # Drop evidence id duplicates- this creates a new temporary df so that later duplicates can be\n",
    "    # dropped by evidence id and category\n",
    "    df1 = df.drop_duplicates(subset=[\"evidence_id\"])\n",
    "\n",
    "    # Get accepted counts\n",
    "    num_accepted_evidences_variants = df1.evidence_accepted.sum()\n",
    "    fraction_accepted_evidences_variants = (\n",
    "        f\"{num_accepted_evidences_variants} / {num_variant_unique_evidence_items}\"\n",
    "    )\n",
    "    print(\n",
    "        f\"\\nNumber of accepted {variant_norm_type.value} Variant Evidence items: {fraction_accepted_evidences_variants}\"\n",
    "    )\n",
    "\n",
    "    # Get accepted Percent\n",
    "    percentage_accepted_evidences_variants = f\"{num_accepted_evidences_variants / num_variant_unique_evidence_items * 100:.2f}%\"\n",
    "    print(\n",
    "        f\"Percent of accepted {variant_norm_type.value} Variant Evidence items: {percentage_accepted_evidences_variants}\"\n",
    "    )\n",
    "\n",
    "    # Get submitted counts\n",
    "    number_submitted_evidences_variants = len(df1) - num_accepted_evidences_variants\n",
    "    fraction_submitted_evidences_variants = (\n",
    "        f\"{number_submitted_evidences_variants} / {num_variant_unique_evidence_items}\"\n",
    "    )\n",
    "    print(\n",
    "        f\"\\nNumber of submitted {variant_norm_type.value} Variant Evidence items: {fraction_submitted_evidences_variants}\"\n",
    "    )\n",
    "\n",
    "    # Get submitted Percent\n",
    "    percentage_submitted_evidences_variants = f\"{number_submitted_evidences_variants / num_variant_unique_evidence_items * 100:.2f}%\"\n",
    "    print(\n",
    "        f\"Percent of submitted {variant_norm_type.value} Variant Evidence items: {percentage_submitted_evidences_variants}\"\n",
    "    )\n",
    "\n",
    "    evidence_analysis_summary[\"Count of CIViC Evidence Items per Category\"].append(\n",
    "        num_variant_unique_evidence_items\n",
    "    )\n",
    "    evidence_analysis_summary[\"Fraction of all CIViC Evidence Items\"].append(\n",
    "        fraction_evidence_items\n",
    "    )\n",
    "    evidence_analysis_summary[\"Percent of all CIViC Evidence Items\"].append(\n",
    "        percentage_evidence_items\n",
    "    )\n",
    "    evidence_analysis_summary[\"Fraction of Accepted Evidence Items\"].append(\n",
    "        fraction_accepted_evidences_variants\n",
    "    )\n",
    "    evidence_analysis_summary[\"Percent of Accepted Evidence Items\"].append(\n",
    "        percentage_accepted_evidences_variants\n",
    "    )\n",
    "    evidence_analysis_summary[\"Fraction of Submitted Evidence Items\"].append(\n",
    "        fraction_submitted_evidences_variants\n",
    "    )\n",
    "    evidence_analysis_summary[\"Percent of Submitted Evidence Items\"].append(\n",
    "        percentage_submitted_evidences_variants\n",
    "    )\n",
    "    if variant_norm_type == VariantNormType.NOT_SUPPORTED:\n",
    "        return df\n",
    "    else:\n",
    "        return df1"
   ]
  },
  {
   "cell_type": "code",
   "execution_count": 15,
   "metadata": {},
   "outputs": [],
   "source": [
    "def transform_df_mp_id(df: pd.DataFrame) -> pd.DataFrame:\n",
    "    \"\"\"Transform dataframe to include molecular profile ID information\n",
    "\n",
    "    :param df: Dataframe of variants\n",
    "    :return: Transformed dataframe with molecular profile ID information\n",
    "    \"\"\"\n",
    "    tmp_df = df.copy(deep=True)\n",
    "\n",
    "    variants_molprof_ids = []\n",
    "    variant_ids = list(tmp_df[\"variant_id\"])\n",
    "\n",
    "    for v_id in variant_ids:\n",
    "        variant_molprof_ids = []\n",
    "\n",
    "        for variant in civic_variant_ids:\n",
    "            if int(v_id) == variant.id:\n",
    "                for mp in variant.molecular_profiles:\n",
    "                    if mp.id not in variant_molprof_ids:\n",
    "                        variant_molprof_ids.append(mp.id)\n",
    "\n",
    "        variants_molprof_ids.append(variant_molprof_ids or \"\")\n",
    "\n",
    "    tmp_df[\"molecular_profile_id\"] = variants_molprof_ids\n",
    "    return tmp_df"
   ]
  },
  {
   "cell_type": "code",
   "execution_count": 16,
   "metadata": {},
   "outputs": [],
   "source": [
    "def transform_df_mp_score(df: pd.DataFrame) -> pd.DataFrame:\n",
    "    \"\"\"Transform dataframe to include molecular profile score information\n",
    "\n",
    "    :param df: Dataframe of variants\n",
    "    :return: Transformed dataframe with molecular profile score information\n",
    "    \"\"\"\n",
    "    variants_molprof_scores = []\n",
    "    normalized_variant_molprof_ids = list(df[\"molecular_profile_id\"])\n",
    "\n",
    "    for mp_ids in normalized_variant_molprof_ids:\n",
    "        variant_molprof_scores = []\n",
    "        for mp_id in mp_ids:\n",
    "            for molprof in civic_molprofs:\n",
    "                if int(mp_id) == molprof.id:\n",
    "                    variant_molprof_scores.append(molprof.molecular_profile_score)\n",
    "\n",
    "        variants_molprof_scores.append(variant_molprof_scores or \"\")\n",
    "\n",
    "    df[\"molecular_profile_score\"] = variants_molprof_scores\n",
    "    return df"
   ]
  },
  {
   "cell_type": "code",
   "execution_count": 17,
   "metadata": {},
   "outputs": [],
   "source": [
    "def transform_df_mp_score_sum(df: pd.DataFrame) -> pd.DataFrame:\n",
    "    \"\"\"Transform dataframe to include molecular profile score sum information\n",
    "\n",
    "    :param df: Dataframe of variants\n",
    "    :return: Transformed dataframe with molecular profile score sum information\n",
    "    \"\"\"\n",
    "    df[\"molecular_profile_score_sum\"] = df[\"molecular_profile_score\"].apply(\n",
    "        lambda x: sum(x)\n",
    "    )\n",
    "    return df"
   ]
  },
  {
   "cell_type": "markdown",
   "metadata": {},
   "source": [
    "# <a id='toc3_'></a>[Analysis of Normalized Queries](#toc0_)"
   ]
  },
  {
   "cell_type": "markdown",
   "metadata": {},
   "source": [
    "## <a id='toc3_1_'></a>[List of Normalized Variants ID's](#toc0_)"
   ]
  },
  {
   "cell_type": "code",
   "execution_count": 18,
   "metadata": {},
   "outputs": [
    {
     "data": {
      "text/html": [
       "<div>\n",
       "<style scoped>\n",
       "    .dataframe tbody tr th:only-of-type {\n",
       "        vertical-align: middle;\n",
       "    }\n",
       "\n",
       "    .dataframe tbody tr th {\n",
       "        vertical-align: top;\n",
       "    }\n",
       "\n",
       "    .dataframe thead th {\n",
       "        text-align: right;\n",
       "    }\n",
       "</style>\n",
       "<table border=\"1\" class=\"dataframe\">\n",
       "  <thead>\n",
       "    <tr style=\"text-align: right;\">\n",
       "      <th></th>\n",
       "      <th>variant_id</th>\n",
       "      <th>query</th>\n",
       "      <th>query_type</th>\n",
       "      <th>variant_accepted</th>\n",
       "      <th>civic_variant_types</th>\n",
       "      <th>vrs_id</th>\n",
       "      <th>succeeded_endpoint</th>\n",
       "    </tr>\n",
       "  </thead>\n",
       "  <tbody>\n",
       "    <tr>\n",
       "      <th>0</th>\n",
       "      <td>2489</td>\n",
       "      <td>NC_000003.11:g.10191648_10191649insC</td>\n",
       "      <td>genomic</td>\n",
       "      <td>True</td>\n",
       "      <td>Stop Lost</td>\n",
       "      <td>ga4gh:VA.bq-oeQxlHsivQjLeBx2iIDHE6byLoIYf</td>\n",
       "      <td>normalize</td>\n",
       "    </tr>\n",
       "    <tr>\n",
       "      <th>1</th>\n",
       "      <td>1988</td>\n",
       "      <td>NC_000003.11:g.10191649A&gt;T</td>\n",
       "      <td>genomic</td>\n",
       "      <td>True</td>\n",
       "      <td>Stop Lost</td>\n",
       "      <td>ga4gh:VA.F28e9gdIz4RKTwb8Vch32ewM9byNWd7s</td>\n",
       "      <td>normalize</td>\n",
       "    </tr>\n",
       "    <tr>\n",
       "      <th>2</th>\n",
       "      <td>2488</td>\n",
       "      <td>3-10191647-T-G</td>\n",
       "      <td>genomic</td>\n",
       "      <td>True</td>\n",
       "      <td>Stop Lost</td>\n",
       "      <td>ga4gh:VA.locY4ll_kFLsvWR3-6n4zSCbY2WeBC4H</td>\n",
       "      <td>normalize</td>\n",
       "    </tr>\n",
       "    <tr>\n",
       "      <th>3</th>\n",
       "      <td>1986</td>\n",
       "      <td>NC_000003.11:g.10191648G&gt;T</td>\n",
       "      <td>genomic</td>\n",
       "      <td>True</td>\n",
       "      <td>Stop Lost</td>\n",
       "      <td>ga4gh:VA.Mikw3IoUZ58l_zejQQOT0D0inT2Cvxpr</td>\n",
       "      <td>normalize</td>\n",
       "    </tr>\n",
       "    <tr>\n",
       "      <th>4</th>\n",
       "      <td>1987</td>\n",
       "      <td>NC_000003.11:g.10191649A&gt;G</td>\n",
       "      <td>genomic</td>\n",
       "      <td>True</td>\n",
       "      <td>Stop Lost</td>\n",
       "      <td>ga4gh:VA.GkISlkjkoX6ts9HHLAzsjDvbCU0d6KyH</td>\n",
       "      <td>normalize</td>\n",
       "    </tr>\n",
       "  </tbody>\n",
       "</table>\n",
       "</div>"
      ],
      "text/plain": [
       "   variant_id                                 query query_type  \\\n",
       "0        2489  NC_000003.11:g.10191648_10191649insC    genomic   \n",
       "1        1988            NC_000003.11:g.10191649A>T    genomic   \n",
       "2        2488                        3-10191647-T-G    genomic   \n",
       "3        1986            NC_000003.11:g.10191648G>T    genomic   \n",
       "4        1987            NC_000003.11:g.10191649A>G    genomic   \n",
       "\n",
       "   variant_accepted civic_variant_types  \\\n",
       "0              True           Stop Lost   \n",
       "1              True           Stop Lost   \n",
       "2              True           Stop Lost   \n",
       "3              True           Stop Lost   \n",
       "4              True           Stop Lost   \n",
       "\n",
       "                                      vrs_id succeeded_endpoint  \n",
       "0  ga4gh:VA.bq-oeQxlHsivQjLeBx2iIDHE6byLoIYf          normalize  \n",
       "1  ga4gh:VA.F28e9gdIz4RKTwb8Vch32ewM9byNWd7s          normalize  \n",
       "2  ga4gh:VA.locY4ll_kFLsvWR3-6n4zSCbY2WeBC4H          normalize  \n",
       "3  ga4gh:VA.Mikw3IoUZ58l_zejQQOT0D0inT2Cvxpr          normalize  \n",
       "4  ga4gh:VA.GkISlkjkoX6ts9HHLAzsjDvbCU0d6KyH          normalize  "
      ]
     },
     "execution_count": 18,
     "metadata": {},
     "output_type": "execute_result"
    }
   ],
   "source": [
    "normalized_queries_df = pd.read_csv(\n",
    "    \"../variation_analysis/able_to_normalize_queries.tsv\", sep=\"\\t\"\n",
    ")\n",
    "normalized_queries_df.head()"
   ]
  },
  {
   "cell_type": "markdown",
   "metadata": {},
   "source": [
    "## <a id='toc3_2_'></a>[Variant analysis](#toc0_)"
   ]
  },
  {
   "cell_type": "code",
   "execution_count": 19,
   "metadata": {},
   "outputs": [
    {
     "name": "stdout",
     "output_type": "stream",
     "text": [
      "\n",
      "Number of Normalized Variants in CIViC: 2015 / 3845\n",
      "Percent of Normalized Variants in CIViC: 52.41%\n",
      "\n",
      "Number of accepted Normalized Variants: 976 / 2015\n",
      "Percent of accepted Normalized Variants: 48.44%\n",
      "\n",
      "Number of submitted Normalized Variants: 1039 / 2015\n",
      "Percent of submitted Normalized Variants: 51.56%\n"
     ]
    },
    {
     "data": {
      "text/html": [
       "<div>\n",
       "<style scoped>\n",
       "    .dataframe tbody tr th:only-of-type {\n",
       "        vertical-align: middle;\n",
       "    }\n",
       "\n",
       "    .dataframe tbody tr th {\n",
       "        vertical-align: top;\n",
       "    }\n",
       "\n",
       "    .dataframe thead th {\n",
       "        text-align: right;\n",
       "    }\n",
       "</style>\n",
       "<table border=\"1\" class=\"dataframe\">\n",
       "  <thead>\n",
       "    <tr style=\"text-align: right;\">\n",
       "      <th></th>\n",
       "      <th>variant_id</th>\n",
       "      <th>query</th>\n",
       "      <th>query_type</th>\n",
       "      <th>variant_accepted</th>\n",
       "      <th>civic_variant_types</th>\n",
       "      <th>vrs_id</th>\n",
       "      <th>succeeded_endpoint</th>\n",
       "    </tr>\n",
       "  </thead>\n",
       "  <tbody>\n",
       "    <tr>\n",
       "      <th>0</th>\n",
       "      <td>2489</td>\n",
       "      <td>NC_000003.11:g.10191648_10191649insC</td>\n",
       "      <td>genomic</td>\n",
       "      <td>True</td>\n",
       "      <td>Stop Lost</td>\n",
       "      <td>ga4gh:VA.bq-oeQxlHsivQjLeBx2iIDHE6byLoIYf</td>\n",
       "      <td>normalize</td>\n",
       "    </tr>\n",
       "    <tr>\n",
       "      <th>1</th>\n",
       "      <td>1988</td>\n",
       "      <td>NC_000003.11:g.10191649A&gt;T</td>\n",
       "      <td>genomic</td>\n",
       "      <td>True</td>\n",
       "      <td>Stop Lost</td>\n",
       "      <td>ga4gh:VA.F28e9gdIz4RKTwb8Vch32ewM9byNWd7s</td>\n",
       "      <td>normalize</td>\n",
       "    </tr>\n",
       "    <tr>\n",
       "      <th>2</th>\n",
       "      <td>2488</td>\n",
       "      <td>3-10191647-T-G</td>\n",
       "      <td>genomic</td>\n",
       "      <td>True</td>\n",
       "      <td>Stop Lost</td>\n",
       "      <td>ga4gh:VA.locY4ll_kFLsvWR3-6n4zSCbY2WeBC4H</td>\n",
       "      <td>normalize</td>\n",
       "    </tr>\n",
       "    <tr>\n",
       "      <th>3</th>\n",
       "      <td>1986</td>\n",
       "      <td>NC_000003.11:g.10191648G&gt;T</td>\n",
       "      <td>genomic</td>\n",
       "      <td>True</td>\n",
       "      <td>Stop Lost</td>\n",
       "      <td>ga4gh:VA.Mikw3IoUZ58l_zejQQOT0D0inT2Cvxpr</td>\n",
       "      <td>normalize</td>\n",
       "    </tr>\n",
       "    <tr>\n",
       "      <th>4</th>\n",
       "      <td>1987</td>\n",
       "      <td>NC_000003.11:g.10191649A&gt;G</td>\n",
       "      <td>genomic</td>\n",
       "      <td>True</td>\n",
       "      <td>Stop Lost</td>\n",
       "      <td>ga4gh:VA.GkISlkjkoX6ts9HHLAzsjDvbCU0d6KyH</td>\n",
       "      <td>normalize</td>\n",
       "    </tr>\n",
       "  </tbody>\n",
       "</table>\n",
       "</div>"
      ],
      "text/plain": [
       "   variant_id                                 query query_type  \\\n",
       "0        2489  NC_000003.11:g.10191648_10191649insC    genomic   \n",
       "1        1988            NC_000003.11:g.10191649A>T    genomic   \n",
       "2        2488                        3-10191647-T-G    genomic   \n",
       "3        1986            NC_000003.11:g.10191648G>T    genomic   \n",
       "4        1987            NC_000003.11:g.10191649A>G    genomic   \n",
       "\n",
       "   variant_accepted civic_variant_types  \\\n",
       "0              True           Stop Lost   \n",
       "1              True           Stop Lost   \n",
       "2              True           Stop Lost   \n",
       "3              True           Stop Lost   \n",
       "4              True           Stop Lost   \n",
       "\n",
       "                                      vrs_id succeeded_endpoint  \n",
       "0  ga4gh:VA.bq-oeQxlHsivQjLeBx2iIDHE6byLoIYf          normalize  \n",
       "1  ga4gh:VA.F28e9gdIz4RKTwb8Vch32ewM9byNWd7s          normalize  \n",
       "2  ga4gh:VA.locY4ll_kFLsvWR3-6n4zSCbY2WeBC4H          normalize  \n",
       "3  ga4gh:VA.Mikw3IoUZ58l_zejQQOT0D0inT2Cvxpr          normalize  \n",
       "4  ga4gh:VA.GkISlkjkoX6ts9HHLAzsjDvbCU0d6KyH          normalize  "
      ]
     },
     "execution_count": 19,
     "metadata": {},
     "output_type": "execute_result"
    }
   ],
   "source": [
    "normalized_queries_df = variant_analysis(\n",
    "    normalized_queries_df, VariantNormType.NORMALIZED\n",
    ")\n",
    "normalized_queries_df.head()"
   ]
  },
  {
   "cell_type": "code",
   "execution_count": 20,
   "metadata": {},
   "outputs": [
    {
     "data": {
      "text/plain": [
       "{'Variant Category': ['Normalized', 'Unable to Normalize', 'Not Supported'],\n",
       " 'Count of CIViC Variants per Category': [2015],\n",
       " 'Fraction of all CIViC Variants': ['2015 / 3845'],\n",
       " 'Percent of all CIViC Variants': ['52.41%'],\n",
       " 'Fraction of Accepted Variants': ['976 / 2015'],\n",
       " 'Percent of Accepted Variants': ['48.44%'],\n",
       " 'Fraction of Submitted Variants': ['1039 / 2015'],\n",
       " 'Percent of Submitted Variants': ['51.56%']}"
      ]
     },
     "execution_count": 20,
     "metadata": {},
     "output_type": "execute_result"
    }
   ],
   "source": [
    "variant_analysis_summary"
   ]
  },
  {
   "cell_type": "markdown",
   "metadata": {},
   "source": [
    "## <a id='toc3_3_'></a>[Transform df for evidence analysis](#toc0_)"
   ]
  },
  {
   "cell_type": "code",
   "execution_count": 21,
   "metadata": {},
   "outputs": [
    {
     "data": {
      "text/html": [
       "<div>\n",
       "<style scoped>\n",
       "    .dataframe tbody tr th:only-of-type {\n",
       "        vertical-align: middle;\n",
       "    }\n",
       "\n",
       "    .dataframe tbody tr th {\n",
       "        vertical-align: top;\n",
       "    }\n",
       "\n",
       "    .dataframe thead th {\n",
       "        text-align: right;\n",
       "    }\n",
       "</style>\n",
       "<table border=\"1\" class=\"dataframe\">\n",
       "  <thead>\n",
       "    <tr style=\"text-align: right;\">\n",
       "      <th></th>\n",
       "      <th>variant_id</th>\n",
       "      <th>query</th>\n",
       "      <th>query_type</th>\n",
       "      <th>variant_accepted</th>\n",
       "      <th>civic_variant_types</th>\n",
       "      <th>vrs_id</th>\n",
       "      <th>succeeded_endpoint</th>\n",
       "      <th>evidence_id</th>\n",
       "    </tr>\n",
       "  </thead>\n",
       "  <tbody>\n",
       "    <tr>\n",
       "      <th>0</th>\n",
       "      <td>2489</td>\n",
       "      <td>NC_000003.11:g.10191648_10191649insC</td>\n",
       "      <td>genomic</td>\n",
       "      <td>True</td>\n",
       "      <td>Stop Lost</td>\n",
       "      <td>ga4gh:VA.bq-oeQxlHsivQjLeBx2iIDHE6byLoIYf</td>\n",
       "      <td>normalize</td>\n",
       "      <td>9347</td>\n",
       "    </tr>\n",
       "    <tr>\n",
       "      <th>0</th>\n",
       "      <td>2489</td>\n",
       "      <td>NC_000003.11:g.10191648_10191649insC</td>\n",
       "      <td>genomic</td>\n",
       "      <td>True</td>\n",
       "      <td>Stop Lost</td>\n",
       "      <td>ga4gh:VA.bq-oeQxlHsivQjLeBx2iIDHE6byLoIYf</td>\n",
       "      <td>normalize</td>\n",
       "      <td>6724</td>\n",
       "    </tr>\n",
       "    <tr>\n",
       "      <th>1</th>\n",
       "      <td>1988</td>\n",
       "      <td>NC_000003.11:g.10191649A&gt;T</td>\n",
       "      <td>genomic</td>\n",
       "      <td>True</td>\n",
       "      <td>Stop Lost</td>\n",
       "      <td>ga4gh:VA.F28e9gdIz4RKTwb8Vch32ewM9byNWd7s</td>\n",
       "      <td>normalize</td>\n",
       "      <td>5336</td>\n",
       "    </tr>\n",
       "    <tr>\n",
       "      <th>2</th>\n",
       "      <td>2488</td>\n",
       "      <td>3-10191647-T-G</td>\n",
       "      <td>genomic</td>\n",
       "      <td>True</td>\n",
       "      <td>Stop Lost</td>\n",
       "      <td>ga4gh:VA.locY4ll_kFLsvWR3-6n4zSCbY2WeBC4H</td>\n",
       "      <td>normalize</td>\n",
       "      <td>10779</td>\n",
       "    </tr>\n",
       "    <tr>\n",
       "      <th>2</th>\n",
       "      <td>2488</td>\n",
       "      <td>3-10191647-T-G</td>\n",
       "      <td>genomic</td>\n",
       "      <td>True</td>\n",
       "      <td>Stop Lost</td>\n",
       "      <td>ga4gh:VA.locY4ll_kFLsvWR3-6n4zSCbY2WeBC4H</td>\n",
       "      <td>normalize</td>\n",
       "      <td>6723</td>\n",
       "    </tr>\n",
       "  </tbody>\n",
       "</table>\n",
       "</div>"
      ],
      "text/plain": [
       "   variant_id                                 query query_type  \\\n",
       "0        2489  NC_000003.11:g.10191648_10191649insC    genomic   \n",
       "0        2489  NC_000003.11:g.10191648_10191649insC    genomic   \n",
       "1        1988            NC_000003.11:g.10191649A>T    genomic   \n",
       "2        2488                        3-10191647-T-G    genomic   \n",
       "2        2488                        3-10191647-T-G    genomic   \n",
       "\n",
       "   variant_accepted civic_variant_types  \\\n",
       "0              True           Stop Lost   \n",
       "0              True           Stop Lost   \n",
       "1              True           Stop Lost   \n",
       "2              True           Stop Lost   \n",
       "2              True           Stop Lost   \n",
       "\n",
       "                                      vrs_id succeeded_endpoint evidence_id  \n",
       "0  ga4gh:VA.bq-oeQxlHsivQjLeBx2iIDHE6byLoIYf          normalize        9347  \n",
       "0  ga4gh:VA.bq-oeQxlHsivQjLeBx2iIDHE6byLoIYf          normalize        6724  \n",
       "1  ga4gh:VA.F28e9gdIz4RKTwb8Vch32ewM9byNWd7s          normalize        5336  \n",
       "2  ga4gh:VA.locY4ll_kFLsvWR3-6n4zSCbY2WeBC4H          normalize       10779  \n",
       "2  ga4gh:VA.locY4ll_kFLsvWR3-6n4zSCbY2WeBC4H          normalize        6723  "
      ]
     },
     "execution_count": 21,
     "metadata": {},
     "output_type": "execute_result"
    }
   ],
   "source": [
    "normalized_queries_add_evidence_df = transform_df_evidence_ids(normalized_queries_df)\n",
    "normalized_queries_add_evidence_df.head()"
   ]
  },
  {
   "cell_type": "code",
   "execution_count": 22,
   "metadata": {},
   "outputs": [
    {
     "data": {
      "text/html": [
       "<div>\n",
       "<style scoped>\n",
       "    .dataframe tbody tr th:only-of-type {\n",
       "        vertical-align: middle;\n",
       "    }\n",
       "\n",
       "    .dataframe tbody tr th {\n",
       "        vertical-align: top;\n",
       "    }\n",
       "\n",
       "    .dataframe thead th {\n",
       "        text-align: right;\n",
       "    }\n",
       "</style>\n",
       "<table border=\"1\" class=\"dataframe\">\n",
       "  <thead>\n",
       "    <tr style=\"text-align: right;\">\n",
       "      <th></th>\n",
       "      <th>variant_id</th>\n",
       "      <th>query</th>\n",
       "      <th>query_type</th>\n",
       "      <th>variant_accepted</th>\n",
       "      <th>civic_variant_types</th>\n",
       "      <th>vrs_id</th>\n",
       "      <th>succeeded_endpoint</th>\n",
       "      <th>evidence_id</th>\n",
       "      <th>evidence_status</th>\n",
       "      <th>evidence_rating</th>\n",
       "      <th>evidence_level</th>\n",
       "    </tr>\n",
       "  </thead>\n",
       "  <tbody>\n",
       "    <tr>\n",
       "      <th>0</th>\n",
       "      <td>2489</td>\n",
       "      <td>NC_000003.11:g.10191648_10191649insC</td>\n",
       "      <td>genomic</td>\n",
       "      <td>True</td>\n",
       "      <td>Stop Lost</td>\n",
       "      <td>ga4gh:VA.bq-oeQxlHsivQjLeBx2iIDHE6byLoIYf</td>\n",
       "      <td>normalize</td>\n",
       "      <td>9347</td>\n",
       "      <td>submitted</td>\n",
       "      <td>[3]</td>\n",
       "      <td>[C]</td>\n",
       "    </tr>\n",
       "    <tr>\n",
       "      <th>0</th>\n",
       "      <td>2489</td>\n",
       "      <td>NC_000003.11:g.10191648_10191649insC</td>\n",
       "      <td>genomic</td>\n",
       "      <td>True</td>\n",
       "      <td>Stop Lost</td>\n",
       "      <td>ga4gh:VA.bq-oeQxlHsivQjLeBx2iIDHE6byLoIYf</td>\n",
       "      <td>normalize</td>\n",
       "      <td>6724</td>\n",
       "      <td>accepted</td>\n",
       "      <td>[2]</td>\n",
       "      <td>[C]</td>\n",
       "    </tr>\n",
       "    <tr>\n",
       "      <th>1</th>\n",
       "      <td>1988</td>\n",
       "      <td>NC_000003.11:g.10191649A&gt;T</td>\n",
       "      <td>genomic</td>\n",
       "      <td>True</td>\n",
       "      <td>Stop Lost</td>\n",
       "      <td>ga4gh:VA.F28e9gdIz4RKTwb8Vch32ewM9byNWd7s</td>\n",
       "      <td>normalize</td>\n",
       "      <td>5336</td>\n",
       "      <td>accepted</td>\n",
       "      <td>[2]</td>\n",
       "      <td>[C]</td>\n",
       "    </tr>\n",
       "    <tr>\n",
       "      <th>2</th>\n",
       "      <td>2488</td>\n",
       "      <td>3-10191647-T-G</td>\n",
       "      <td>genomic</td>\n",
       "      <td>True</td>\n",
       "      <td>Stop Lost</td>\n",
       "      <td>ga4gh:VA.locY4ll_kFLsvWR3-6n4zSCbY2WeBC4H</td>\n",
       "      <td>normalize</td>\n",
       "      <td>10779</td>\n",
       "      <td>submitted</td>\n",
       "      <td>[3]</td>\n",
       "      <td>[C]</td>\n",
       "    </tr>\n",
       "    <tr>\n",
       "      <th>2</th>\n",
       "      <td>2488</td>\n",
       "      <td>3-10191647-T-G</td>\n",
       "      <td>genomic</td>\n",
       "      <td>True</td>\n",
       "      <td>Stop Lost</td>\n",
       "      <td>ga4gh:VA.locY4ll_kFLsvWR3-6n4zSCbY2WeBC4H</td>\n",
       "      <td>normalize</td>\n",
       "      <td>6723</td>\n",
       "      <td>accepted</td>\n",
       "      <td>[2]</td>\n",
       "      <td>[C]</td>\n",
       "    </tr>\n",
       "  </tbody>\n",
       "</table>\n",
       "</div>"
      ],
      "text/plain": [
       "   variant_id                                 query query_type  \\\n",
       "0        2489  NC_000003.11:g.10191648_10191649insC    genomic   \n",
       "0        2489  NC_000003.11:g.10191648_10191649insC    genomic   \n",
       "1        1988            NC_000003.11:g.10191649A>T    genomic   \n",
       "2        2488                        3-10191647-T-G    genomic   \n",
       "2        2488                        3-10191647-T-G    genomic   \n",
       "\n",
       "   variant_accepted civic_variant_types  \\\n",
       "0              True           Stop Lost   \n",
       "0              True           Stop Lost   \n",
       "1              True           Stop Lost   \n",
       "2              True           Stop Lost   \n",
       "2              True           Stop Lost   \n",
       "\n",
       "                                      vrs_id succeeded_endpoint evidence_id  \\\n",
       "0  ga4gh:VA.bq-oeQxlHsivQjLeBx2iIDHE6byLoIYf          normalize        9347   \n",
       "0  ga4gh:VA.bq-oeQxlHsivQjLeBx2iIDHE6byLoIYf          normalize        6724   \n",
       "1  ga4gh:VA.F28e9gdIz4RKTwb8Vch32ewM9byNWd7s          normalize        5336   \n",
       "2  ga4gh:VA.locY4ll_kFLsvWR3-6n4zSCbY2WeBC4H          normalize       10779   \n",
       "2  ga4gh:VA.locY4ll_kFLsvWR3-6n4zSCbY2WeBC4H          normalize        6723   \n",
       "\n",
       "  evidence_status evidence_rating evidence_level  \n",
       "0       submitted             [3]            [C]  \n",
       "0        accepted             [2]            [C]  \n",
       "1        accepted             [2]            [C]  \n",
       "2       submitted             [3]            [C]  \n",
       "2        accepted             [2]            [C]  "
      ]
     },
     "execution_count": 22,
     "metadata": {},
     "output_type": "execute_result"
    }
   ],
   "source": [
    "normalized_queries_add_evidence_df = transform_df_evidence(\n",
    "    normalized_queries_add_evidence_df\n",
    ")\n",
    "normalized_queries_add_evidence_df.head()"
   ]
  },
  {
   "cell_type": "markdown",
   "metadata": {},
   "source": [
    "## <a id='toc3_4_'></a>[Evidence analysis](#toc0_)"
   ]
  },
  {
   "cell_type": "code",
   "execution_count": 23,
   "metadata": {},
   "outputs": [
    {
     "name": "stdout",
     "output_type": "stream",
     "text": [
      "Number of Normalized Variant Evidence items in CIViC: 6457 / 10850\n",
      "Percent of Normalized Variant Evidence items in CIViC: 59.51%\n",
      "\n",
      "Number of accepted Normalized Variant Evidence items: 2415 / 6457\n",
      "Percent of accepted Normalized Variant Evidence items: 37.40%\n",
      "\n",
      "Number of submitted Normalized Variant Evidence items: 4042 / 6457\n",
      "Percent of submitted Normalized Variant Evidence items: 62.60%\n"
     ]
    },
    {
     "data": {
      "text/html": [
       "<div>\n",
       "<style scoped>\n",
       "    .dataframe tbody tr th:only-of-type {\n",
       "        vertical-align: middle;\n",
       "    }\n",
       "\n",
       "    .dataframe tbody tr th {\n",
       "        vertical-align: top;\n",
       "    }\n",
       "\n",
       "    .dataframe thead th {\n",
       "        text-align: right;\n",
       "    }\n",
       "</style>\n",
       "<table border=\"1\" class=\"dataframe\">\n",
       "  <thead>\n",
       "    <tr style=\"text-align: right;\">\n",
       "      <th></th>\n",
       "      <th>variant_id</th>\n",
       "      <th>query</th>\n",
       "      <th>query_type</th>\n",
       "      <th>variant_accepted</th>\n",
       "      <th>civic_variant_types</th>\n",
       "      <th>vrs_id</th>\n",
       "      <th>succeeded_endpoint</th>\n",
       "      <th>evidence_id</th>\n",
       "      <th>evidence_status</th>\n",
       "      <th>evidence_rating</th>\n",
       "      <th>evidence_level</th>\n",
       "      <th>evidence_accepted</th>\n",
       "    </tr>\n",
       "  </thead>\n",
       "  <tbody>\n",
       "    <tr>\n",
       "      <th>0</th>\n",
       "      <td>2489</td>\n",
       "      <td>NC_000003.11:g.10191648_10191649insC</td>\n",
       "      <td>genomic</td>\n",
       "      <td>True</td>\n",
       "      <td>Stop Lost</td>\n",
       "      <td>ga4gh:VA.bq-oeQxlHsivQjLeBx2iIDHE6byLoIYf</td>\n",
       "      <td>normalize</td>\n",
       "      <td>9347</td>\n",
       "      <td>submitted</td>\n",
       "      <td>[3]</td>\n",
       "      <td>[C]</td>\n",
       "      <td>False</td>\n",
       "    </tr>\n",
       "    <tr>\n",
       "      <th>0</th>\n",
       "      <td>2489</td>\n",
       "      <td>NC_000003.11:g.10191648_10191649insC</td>\n",
       "      <td>genomic</td>\n",
       "      <td>True</td>\n",
       "      <td>Stop Lost</td>\n",
       "      <td>ga4gh:VA.bq-oeQxlHsivQjLeBx2iIDHE6byLoIYf</td>\n",
       "      <td>normalize</td>\n",
       "      <td>6724</td>\n",
       "      <td>accepted</td>\n",
       "      <td>[2]</td>\n",
       "      <td>[C]</td>\n",
       "      <td>True</td>\n",
       "    </tr>\n",
       "    <tr>\n",
       "      <th>1</th>\n",
       "      <td>1988</td>\n",
       "      <td>NC_000003.11:g.10191649A&gt;T</td>\n",
       "      <td>genomic</td>\n",
       "      <td>True</td>\n",
       "      <td>Stop Lost</td>\n",
       "      <td>ga4gh:VA.F28e9gdIz4RKTwb8Vch32ewM9byNWd7s</td>\n",
       "      <td>normalize</td>\n",
       "      <td>5336</td>\n",
       "      <td>accepted</td>\n",
       "      <td>[2]</td>\n",
       "      <td>[C]</td>\n",
       "      <td>True</td>\n",
       "    </tr>\n",
       "    <tr>\n",
       "      <th>2</th>\n",
       "      <td>2488</td>\n",
       "      <td>3-10191647-T-G</td>\n",
       "      <td>genomic</td>\n",
       "      <td>True</td>\n",
       "      <td>Stop Lost</td>\n",
       "      <td>ga4gh:VA.locY4ll_kFLsvWR3-6n4zSCbY2WeBC4H</td>\n",
       "      <td>normalize</td>\n",
       "      <td>10779</td>\n",
       "      <td>submitted</td>\n",
       "      <td>[3]</td>\n",
       "      <td>[C]</td>\n",
       "      <td>False</td>\n",
       "    </tr>\n",
       "    <tr>\n",
       "      <th>2</th>\n",
       "      <td>2488</td>\n",
       "      <td>3-10191647-T-G</td>\n",
       "      <td>genomic</td>\n",
       "      <td>True</td>\n",
       "      <td>Stop Lost</td>\n",
       "      <td>ga4gh:VA.locY4ll_kFLsvWR3-6n4zSCbY2WeBC4H</td>\n",
       "      <td>normalize</td>\n",
       "      <td>6723</td>\n",
       "      <td>accepted</td>\n",
       "      <td>[2]</td>\n",
       "      <td>[C]</td>\n",
       "      <td>True</td>\n",
       "    </tr>\n",
       "  </tbody>\n",
       "</table>\n",
       "</div>"
      ],
      "text/plain": [
       "   variant_id                                 query query_type  \\\n",
       "0        2489  NC_000003.11:g.10191648_10191649insC    genomic   \n",
       "0        2489  NC_000003.11:g.10191648_10191649insC    genomic   \n",
       "1        1988            NC_000003.11:g.10191649A>T    genomic   \n",
       "2        2488                        3-10191647-T-G    genomic   \n",
       "2        2488                        3-10191647-T-G    genomic   \n",
       "\n",
       "   variant_accepted civic_variant_types  \\\n",
       "0              True           Stop Lost   \n",
       "0              True           Stop Lost   \n",
       "1              True           Stop Lost   \n",
       "2              True           Stop Lost   \n",
       "2              True           Stop Lost   \n",
       "\n",
       "                                      vrs_id succeeded_endpoint evidence_id  \\\n",
       "0  ga4gh:VA.bq-oeQxlHsivQjLeBx2iIDHE6byLoIYf          normalize        9347   \n",
       "0  ga4gh:VA.bq-oeQxlHsivQjLeBx2iIDHE6byLoIYf          normalize        6724   \n",
       "1  ga4gh:VA.F28e9gdIz4RKTwb8Vch32ewM9byNWd7s          normalize        5336   \n",
       "2  ga4gh:VA.locY4ll_kFLsvWR3-6n4zSCbY2WeBC4H          normalize       10779   \n",
       "2  ga4gh:VA.locY4ll_kFLsvWR3-6n4zSCbY2WeBC4H          normalize        6723   \n",
       "\n",
       "  evidence_status evidence_rating evidence_level  evidence_accepted  \n",
       "0       submitted             [3]            [C]              False  \n",
       "0        accepted             [2]            [C]               True  \n",
       "1        accepted             [2]            [C]               True  \n",
       "2       submitted             [3]            [C]              False  \n",
       "2        accepted             [2]            [C]               True  "
      ]
     },
     "execution_count": 23,
     "metadata": {},
     "output_type": "execute_result"
    }
   ],
   "source": [
    "normalized_queries_add_evidence_df = evidence_analysis(\n",
    "    normalized_queries_add_evidence_df, VariantNormType.NORMALIZED\n",
    ")\n",
    "normalized_queries_add_evidence_df.head()"
   ]
  },
  {
   "cell_type": "markdown",
   "metadata": {},
   "source": [
    "## <a id='toc3_5_'></a>[Impact](#toc0_)\n",
    "Via molecular profile score"
   ]
  },
  {
   "cell_type": "markdown",
   "metadata": {},
   "source": [
    "### <a id='toc3_5_1_'></a>[Import molecular profile id](#toc0_)"
   ]
  },
  {
   "cell_type": "code",
   "execution_count": 24,
   "metadata": {},
   "outputs": [
    {
     "data": {
      "text/html": [
       "<div>\n",
       "<style scoped>\n",
       "    .dataframe tbody tr th:only-of-type {\n",
       "        vertical-align: middle;\n",
       "    }\n",
       "\n",
       "    .dataframe tbody tr th {\n",
       "        vertical-align: top;\n",
       "    }\n",
       "\n",
       "    .dataframe thead th {\n",
       "        text-align: right;\n",
       "    }\n",
       "</style>\n",
       "<table border=\"1\" class=\"dataframe\">\n",
       "  <thead>\n",
       "    <tr style=\"text-align: right;\">\n",
       "      <th></th>\n",
       "      <th>variant_id</th>\n",
       "      <th>query</th>\n",
       "      <th>query_type</th>\n",
       "      <th>variant_accepted</th>\n",
       "      <th>civic_variant_types</th>\n",
       "      <th>vrs_id</th>\n",
       "      <th>succeeded_endpoint</th>\n",
       "      <th>molecular_profile_id</th>\n",
       "    </tr>\n",
       "  </thead>\n",
       "  <tbody>\n",
       "    <tr>\n",
       "      <th>0</th>\n",
       "      <td>2489</td>\n",
       "      <td>NC_000003.11:g.10191648_10191649insC</td>\n",
       "      <td>genomic</td>\n",
       "      <td>True</td>\n",
       "      <td>Stop Lost</td>\n",
       "      <td>ga4gh:VA.bq-oeQxlHsivQjLeBx2iIDHE6byLoIYf</td>\n",
       "      <td>normalize</td>\n",
       "      <td>[2362]</td>\n",
       "    </tr>\n",
       "    <tr>\n",
       "      <th>1</th>\n",
       "      <td>1988</td>\n",
       "      <td>NC_000003.11:g.10191649A&gt;T</td>\n",
       "      <td>genomic</td>\n",
       "      <td>True</td>\n",
       "      <td>Stop Lost</td>\n",
       "      <td>ga4gh:VA.F28e9gdIz4RKTwb8Vch32ewM9byNWd7s</td>\n",
       "      <td>normalize</td>\n",
       "      <td>[1864]</td>\n",
       "    </tr>\n",
       "    <tr>\n",
       "      <th>2</th>\n",
       "      <td>2488</td>\n",
       "      <td>3-10191647-T-G</td>\n",
       "      <td>genomic</td>\n",
       "      <td>True</td>\n",
       "      <td>Stop Lost</td>\n",
       "      <td>ga4gh:VA.locY4ll_kFLsvWR3-6n4zSCbY2WeBC4H</td>\n",
       "      <td>normalize</td>\n",
       "      <td>[2361]</td>\n",
       "    </tr>\n",
       "    <tr>\n",
       "      <th>3</th>\n",
       "      <td>1986</td>\n",
       "      <td>NC_000003.11:g.10191648G&gt;T</td>\n",
       "      <td>genomic</td>\n",
       "      <td>True</td>\n",
       "      <td>Stop Lost</td>\n",
       "      <td>ga4gh:VA.Mikw3IoUZ58l_zejQQOT0D0inT2Cvxpr</td>\n",
       "      <td>normalize</td>\n",
       "      <td>[1862]</td>\n",
       "    </tr>\n",
       "    <tr>\n",
       "      <th>4</th>\n",
       "      <td>1987</td>\n",
       "      <td>NC_000003.11:g.10191649A&gt;G</td>\n",
       "      <td>genomic</td>\n",
       "      <td>True</td>\n",
       "      <td>Stop Lost</td>\n",
       "      <td>ga4gh:VA.GkISlkjkoX6ts9HHLAzsjDvbCU0d6KyH</td>\n",
       "      <td>normalize</td>\n",
       "      <td>[1863]</td>\n",
       "    </tr>\n",
       "  </tbody>\n",
       "</table>\n",
       "</div>"
      ],
      "text/plain": [
       "   variant_id                                 query query_type  \\\n",
       "0        2489  NC_000003.11:g.10191648_10191649insC    genomic   \n",
       "1        1988            NC_000003.11:g.10191649A>T    genomic   \n",
       "2        2488                        3-10191647-T-G    genomic   \n",
       "3        1986            NC_000003.11:g.10191648G>T    genomic   \n",
       "4        1987            NC_000003.11:g.10191649A>G    genomic   \n",
       "\n",
       "   variant_accepted civic_variant_types  \\\n",
       "0              True           Stop Lost   \n",
       "1              True           Stop Lost   \n",
       "2              True           Stop Lost   \n",
       "3              True           Stop Lost   \n",
       "4              True           Stop Lost   \n",
       "\n",
       "                                      vrs_id succeeded_endpoint  \\\n",
       "0  ga4gh:VA.bq-oeQxlHsivQjLeBx2iIDHE6byLoIYf          normalize   \n",
       "1  ga4gh:VA.F28e9gdIz4RKTwb8Vch32ewM9byNWd7s          normalize   \n",
       "2  ga4gh:VA.locY4ll_kFLsvWR3-6n4zSCbY2WeBC4H          normalize   \n",
       "3  ga4gh:VA.Mikw3IoUZ58l_zejQQOT0D0inT2Cvxpr          normalize   \n",
       "4  ga4gh:VA.GkISlkjkoX6ts9HHLAzsjDvbCU0d6KyH          normalize   \n",
       "\n",
       "  molecular_profile_id  \n",
       "0               [2362]  \n",
       "1               [1864]  \n",
       "2               [2361]  \n",
       "3               [1862]  \n",
       "4               [1863]  "
      ]
     },
     "execution_count": 24,
     "metadata": {},
     "output_type": "execute_result"
    }
   ],
   "source": [
    "normalized_queries_add_molprof_df = transform_df_mp_id(normalized_queries_df)\n",
    "normalized_queries_add_molprof_df.head()"
   ]
  },
  {
   "cell_type": "markdown",
   "metadata": {},
   "source": [
    "### <a id='toc3_5_2_'></a>[Import molecular profile scores](#toc0_)"
   ]
  },
  {
   "cell_type": "code",
   "execution_count": 25,
   "metadata": {},
   "outputs": [
    {
     "data": {
      "text/html": [
       "<div>\n",
       "<style scoped>\n",
       "    .dataframe tbody tr th:only-of-type {\n",
       "        vertical-align: middle;\n",
       "    }\n",
       "\n",
       "    .dataframe tbody tr th {\n",
       "        vertical-align: top;\n",
       "    }\n",
       "\n",
       "    .dataframe thead th {\n",
       "        text-align: right;\n",
       "    }\n",
       "</style>\n",
       "<table border=\"1\" class=\"dataframe\">\n",
       "  <thead>\n",
       "    <tr style=\"text-align: right;\">\n",
       "      <th></th>\n",
       "      <th>variant_id</th>\n",
       "      <th>query</th>\n",
       "      <th>query_type</th>\n",
       "      <th>variant_accepted</th>\n",
       "      <th>civic_variant_types</th>\n",
       "      <th>vrs_id</th>\n",
       "      <th>succeeded_endpoint</th>\n",
       "      <th>molecular_profile_id</th>\n",
       "      <th>molecular_profile_score</th>\n",
       "    </tr>\n",
       "  </thead>\n",
       "  <tbody>\n",
       "    <tr>\n",
       "      <th>0</th>\n",
       "      <td>2489</td>\n",
       "      <td>NC_000003.11:g.10191648_10191649insC</td>\n",
       "      <td>genomic</td>\n",
       "      <td>True</td>\n",
       "      <td>Stop Lost</td>\n",
       "      <td>ga4gh:VA.bq-oeQxlHsivQjLeBx2iIDHE6byLoIYf</td>\n",
       "      <td>normalize</td>\n",
       "      <td>[2362]</td>\n",
       "      <td>[5.0]</td>\n",
       "    </tr>\n",
       "    <tr>\n",
       "      <th>1</th>\n",
       "      <td>1988</td>\n",
       "      <td>NC_000003.11:g.10191649A&gt;T</td>\n",
       "      <td>genomic</td>\n",
       "      <td>True</td>\n",
       "      <td>Stop Lost</td>\n",
       "      <td>ga4gh:VA.F28e9gdIz4RKTwb8Vch32ewM9byNWd7s</td>\n",
       "      <td>normalize</td>\n",
       "      <td>[1864]</td>\n",
       "      <td>[5.0]</td>\n",
       "    </tr>\n",
       "    <tr>\n",
       "      <th>2</th>\n",
       "      <td>2488</td>\n",
       "      <td>3-10191647-T-G</td>\n",
       "      <td>genomic</td>\n",
       "      <td>True</td>\n",
       "      <td>Stop Lost</td>\n",
       "      <td>ga4gh:VA.locY4ll_kFLsvWR3-6n4zSCbY2WeBC4H</td>\n",
       "      <td>normalize</td>\n",
       "      <td>[2361]</td>\n",
       "      <td>[5.0]</td>\n",
       "    </tr>\n",
       "    <tr>\n",
       "      <th>3</th>\n",
       "      <td>1986</td>\n",
       "      <td>NC_000003.11:g.10191648G&gt;T</td>\n",
       "      <td>genomic</td>\n",
       "      <td>True</td>\n",
       "      <td>Stop Lost</td>\n",
       "      <td>ga4gh:VA.Mikw3IoUZ58l_zejQQOT0D0inT2Cvxpr</td>\n",
       "      <td>normalize</td>\n",
       "      <td>[1862]</td>\n",
       "      <td>[10.0]</td>\n",
       "    </tr>\n",
       "    <tr>\n",
       "      <th>4</th>\n",
       "      <td>1987</td>\n",
       "      <td>NC_000003.11:g.10191649A&gt;G</td>\n",
       "      <td>genomic</td>\n",
       "      <td>True</td>\n",
       "      <td>Stop Lost</td>\n",
       "      <td>ga4gh:VA.GkISlkjkoX6ts9HHLAzsjDvbCU0d6KyH</td>\n",
       "      <td>normalize</td>\n",
       "      <td>[1863]</td>\n",
       "      <td>[5.0]</td>\n",
       "    </tr>\n",
       "  </tbody>\n",
       "</table>\n",
       "</div>"
      ],
      "text/plain": [
       "   variant_id                                 query query_type  \\\n",
       "0        2489  NC_000003.11:g.10191648_10191649insC    genomic   \n",
       "1        1988            NC_000003.11:g.10191649A>T    genomic   \n",
       "2        2488                        3-10191647-T-G    genomic   \n",
       "3        1986            NC_000003.11:g.10191648G>T    genomic   \n",
       "4        1987            NC_000003.11:g.10191649A>G    genomic   \n",
       "\n",
       "   variant_accepted civic_variant_types  \\\n",
       "0              True           Stop Lost   \n",
       "1              True           Stop Lost   \n",
       "2              True           Stop Lost   \n",
       "3              True           Stop Lost   \n",
       "4              True           Stop Lost   \n",
       "\n",
       "                                      vrs_id succeeded_endpoint  \\\n",
       "0  ga4gh:VA.bq-oeQxlHsivQjLeBx2iIDHE6byLoIYf          normalize   \n",
       "1  ga4gh:VA.F28e9gdIz4RKTwb8Vch32ewM9byNWd7s          normalize   \n",
       "2  ga4gh:VA.locY4ll_kFLsvWR3-6n4zSCbY2WeBC4H          normalize   \n",
       "3  ga4gh:VA.Mikw3IoUZ58l_zejQQOT0D0inT2Cvxpr          normalize   \n",
       "4  ga4gh:VA.GkISlkjkoX6ts9HHLAzsjDvbCU0d6KyH          normalize   \n",
       "\n",
       "  molecular_profile_id molecular_profile_score  \n",
       "0               [2362]                   [5.0]  \n",
       "1               [1864]                   [5.0]  \n",
       "2               [2361]                   [5.0]  \n",
       "3               [1862]                  [10.0]  \n",
       "4               [1863]                   [5.0]  "
      ]
     },
     "execution_count": 25,
     "metadata": {},
     "output_type": "execute_result"
    }
   ],
   "source": [
    "normalized_queries_add_molprof_df = transform_df_mp_score(\n",
    "    normalized_queries_add_molprof_df\n",
    ")\n",
    "normalized_queries_add_molprof_df.head()"
   ]
  },
  {
   "cell_type": "code",
   "execution_count": 26,
   "metadata": {},
   "outputs": [
    {
     "data": {
      "text/html": [
       "<div>\n",
       "<style scoped>\n",
       "    .dataframe tbody tr th:only-of-type {\n",
       "        vertical-align: middle;\n",
       "    }\n",
       "\n",
       "    .dataframe tbody tr th {\n",
       "        vertical-align: top;\n",
       "    }\n",
       "\n",
       "    .dataframe thead th {\n",
       "        text-align: right;\n",
       "    }\n",
       "</style>\n",
       "<table border=\"1\" class=\"dataframe\">\n",
       "  <thead>\n",
       "    <tr style=\"text-align: right;\">\n",
       "      <th></th>\n",
       "      <th>variant_id</th>\n",
       "      <th>query</th>\n",
       "      <th>query_type</th>\n",
       "      <th>variant_accepted</th>\n",
       "      <th>civic_variant_types</th>\n",
       "      <th>vrs_id</th>\n",
       "      <th>succeeded_endpoint</th>\n",
       "      <th>molecular_profile_id</th>\n",
       "      <th>molecular_profile_score</th>\n",
       "      <th>molecular_profile_score_sum</th>\n",
       "    </tr>\n",
       "  </thead>\n",
       "  <tbody>\n",
       "    <tr>\n",
       "      <th>0</th>\n",
       "      <td>2489</td>\n",
       "      <td>NC_000003.11:g.10191648_10191649insC</td>\n",
       "      <td>genomic</td>\n",
       "      <td>True</td>\n",
       "      <td>Stop Lost</td>\n",
       "      <td>ga4gh:VA.bq-oeQxlHsivQjLeBx2iIDHE6byLoIYf</td>\n",
       "      <td>normalize</td>\n",
       "      <td>[2362]</td>\n",
       "      <td>[5.0]</td>\n",
       "      <td>5.0</td>\n",
       "    </tr>\n",
       "    <tr>\n",
       "      <th>1</th>\n",
       "      <td>1988</td>\n",
       "      <td>NC_000003.11:g.10191649A&gt;T</td>\n",
       "      <td>genomic</td>\n",
       "      <td>True</td>\n",
       "      <td>Stop Lost</td>\n",
       "      <td>ga4gh:VA.F28e9gdIz4RKTwb8Vch32ewM9byNWd7s</td>\n",
       "      <td>normalize</td>\n",
       "      <td>[1864]</td>\n",
       "      <td>[5.0]</td>\n",
       "      <td>5.0</td>\n",
       "    </tr>\n",
       "    <tr>\n",
       "      <th>2</th>\n",
       "      <td>2488</td>\n",
       "      <td>3-10191647-T-G</td>\n",
       "      <td>genomic</td>\n",
       "      <td>True</td>\n",
       "      <td>Stop Lost</td>\n",
       "      <td>ga4gh:VA.locY4ll_kFLsvWR3-6n4zSCbY2WeBC4H</td>\n",
       "      <td>normalize</td>\n",
       "      <td>[2361]</td>\n",
       "      <td>[5.0]</td>\n",
       "      <td>5.0</td>\n",
       "    </tr>\n",
       "    <tr>\n",
       "      <th>3</th>\n",
       "      <td>1986</td>\n",
       "      <td>NC_000003.11:g.10191648G&gt;T</td>\n",
       "      <td>genomic</td>\n",
       "      <td>True</td>\n",
       "      <td>Stop Lost</td>\n",
       "      <td>ga4gh:VA.Mikw3IoUZ58l_zejQQOT0D0inT2Cvxpr</td>\n",
       "      <td>normalize</td>\n",
       "      <td>[1862]</td>\n",
       "      <td>[10.0]</td>\n",
       "      <td>10.0</td>\n",
       "    </tr>\n",
       "    <tr>\n",
       "      <th>4</th>\n",
       "      <td>1987</td>\n",
       "      <td>NC_000003.11:g.10191649A&gt;G</td>\n",
       "      <td>genomic</td>\n",
       "      <td>True</td>\n",
       "      <td>Stop Lost</td>\n",
       "      <td>ga4gh:VA.GkISlkjkoX6ts9HHLAzsjDvbCU0d6KyH</td>\n",
       "      <td>normalize</td>\n",
       "      <td>[1863]</td>\n",
       "      <td>[5.0]</td>\n",
       "      <td>5.0</td>\n",
       "    </tr>\n",
       "  </tbody>\n",
       "</table>\n",
       "</div>"
      ],
      "text/plain": [
       "   variant_id                                 query query_type  \\\n",
       "0        2489  NC_000003.11:g.10191648_10191649insC    genomic   \n",
       "1        1988            NC_000003.11:g.10191649A>T    genomic   \n",
       "2        2488                        3-10191647-T-G    genomic   \n",
       "3        1986            NC_000003.11:g.10191648G>T    genomic   \n",
       "4        1987            NC_000003.11:g.10191649A>G    genomic   \n",
       "\n",
       "   variant_accepted civic_variant_types  \\\n",
       "0              True           Stop Lost   \n",
       "1              True           Stop Lost   \n",
       "2              True           Stop Lost   \n",
       "3              True           Stop Lost   \n",
       "4              True           Stop Lost   \n",
       "\n",
       "                                      vrs_id succeeded_endpoint  \\\n",
       "0  ga4gh:VA.bq-oeQxlHsivQjLeBx2iIDHE6byLoIYf          normalize   \n",
       "1  ga4gh:VA.F28e9gdIz4RKTwb8Vch32ewM9byNWd7s          normalize   \n",
       "2  ga4gh:VA.locY4ll_kFLsvWR3-6n4zSCbY2WeBC4H          normalize   \n",
       "3  ga4gh:VA.Mikw3IoUZ58l_zejQQOT0D0inT2Cvxpr          normalize   \n",
       "4  ga4gh:VA.GkISlkjkoX6ts9HHLAzsjDvbCU0d6KyH          normalize   \n",
       "\n",
       "  molecular_profile_id molecular_profile_score  molecular_profile_score_sum  \n",
       "0               [2362]                   [5.0]                          5.0  \n",
       "1               [1864]                   [5.0]                          5.0  \n",
       "2               [2361]                   [5.0]                          5.0  \n",
       "3               [1862]                  [10.0]                         10.0  \n",
       "4               [1863]                   [5.0]                          5.0  "
      ]
     },
     "execution_count": 26,
     "metadata": {},
     "output_type": "execute_result"
    }
   ],
   "source": [
    "normalized_queries_add_molprof_df = transform_df_mp_score_sum(\n",
    "    normalized_queries_add_molprof_df\n",
    ")\n",
    "normalized_queries_add_molprof_df.head()"
   ]
  },
  {
   "cell_type": "markdown",
   "metadata": {},
   "source": [
    "# <a id='toc4_'></a>[Analysis of Unable to Normalize Queries](#toc0_)"
   ]
  },
  {
   "cell_type": "markdown",
   "metadata": {},
   "source": [
    "## <a id='toc4_1_'></a>[List of Unable to Normalize Variant ID's](#toc0_)"
   ]
  },
  {
   "cell_type": "code",
   "execution_count": 27,
   "metadata": {},
   "outputs": [
    {
     "data": {
      "text/html": [
       "<div>\n",
       "<style scoped>\n",
       "    .dataframe tbody tr th:only-of-type {\n",
       "        vertical-align: middle;\n",
       "    }\n",
       "\n",
       "    .dataframe tbody tr th {\n",
       "        vertical-align: top;\n",
       "    }\n",
       "\n",
       "    .dataframe thead th {\n",
       "        text-align: right;\n",
       "    }\n",
       "</style>\n",
       "<table border=\"1\" class=\"dataframe\">\n",
       "  <thead>\n",
       "    <tr style=\"text-align: right;\">\n",
       "      <th></th>\n",
       "      <th>variant_id</th>\n",
       "      <th>query</th>\n",
       "      <th>query_type</th>\n",
       "      <th>variant_accepted</th>\n",
       "      <th>civic_variant_types</th>\n",
       "      <th>exception_raised</th>\n",
       "      <th>message</th>\n",
       "      <th>warnings</th>\n",
       "    </tr>\n",
       "  </thead>\n",
       "  <tbody>\n",
       "    <tr>\n",
       "      <th>0</th>\n",
       "      <td>748</td>\n",
       "      <td>MLH1 *757L</td>\n",
       "      <td>protein</td>\n",
       "      <td>True</td>\n",
       "      <td>Stop Lost</td>\n",
       "      <td>False</td>\n",
       "      <td>unable to normalize</td>\n",
       "      <td>['Unable to tokenize: *757L']</td>\n",
       "    </tr>\n",
       "    <tr>\n",
       "      <th>1</th>\n",
       "      <td>3718</td>\n",
       "      <td>AR A748V</td>\n",
       "      <td>protein</td>\n",
       "      <td>False</td>\n",
       "      <td>Not provided</td>\n",
       "      <td>False</td>\n",
       "      <td>unable to normalize</td>\n",
       "      <td>['Unable to translate AR A748V']</td>\n",
       "    </tr>\n",
       "    <tr>\n",
       "      <th>2</th>\n",
       "      <td>3725</td>\n",
       "      <td>AR A765T</td>\n",
       "      <td>protein</td>\n",
       "      <td>False</td>\n",
       "      <td>Not provided</td>\n",
       "      <td>False</td>\n",
       "      <td>unable to normalize</td>\n",
       "      <td>['Unable to translate AR A765T']</td>\n",
       "    </tr>\n",
       "    <tr>\n",
       "      <th>3</th>\n",
       "      <td>4485</td>\n",
       "      <td>ERBB2 A775_G776ins YVMA</td>\n",
       "      <td>protein</td>\n",
       "      <td>False</td>\n",
       "      <td>Not provided</td>\n",
       "      <td>False</td>\n",
       "      <td>unable to normalize</td>\n",
       "      <td>['Unable to tokenize: A775_G776ins', 'Unable t...</td>\n",
       "    </tr>\n",
       "    <tr>\n",
       "      <th>4</th>\n",
       "      <td>248</td>\n",
       "      <td>TERT C228T</td>\n",
       "      <td>protein</td>\n",
       "      <td>True</td>\n",
       "      <td>Regulatory Region Variant</td>\n",
       "      <td>False</td>\n",
       "      <td>unable to normalize</td>\n",
       "      <td>['Unable to translate TERT C228T']</td>\n",
       "    </tr>\n",
       "  </tbody>\n",
       "</table>\n",
       "</div>"
      ],
      "text/plain": [
       "   variant_id                    query query_type  variant_accepted  \\\n",
       "0         748               MLH1 *757L    protein              True   \n",
       "1        3718                 AR A748V    protein             False   \n",
       "2        3725                 AR A765T    protein             False   \n",
       "3        4485  ERBB2 A775_G776ins YVMA    protein             False   \n",
       "4         248               TERT C228T    protein              True   \n",
       "\n",
       "         civic_variant_types  exception_raised              message  \\\n",
       "0                  Stop Lost             False  unable to normalize   \n",
       "1               Not provided             False  unable to normalize   \n",
       "2               Not provided             False  unable to normalize   \n",
       "3               Not provided             False  unable to normalize   \n",
       "4  Regulatory Region Variant             False  unable to normalize   \n",
       "\n",
       "                                            warnings  \n",
       "0                      ['Unable to tokenize: *757L']  \n",
       "1                   ['Unable to translate AR A748V']  \n",
       "2                   ['Unable to translate AR A765T']  \n",
       "3  ['Unable to tokenize: A775_G776ins', 'Unable t...  \n",
       "4                 ['Unable to translate TERT C228T']  "
      ]
     },
     "execution_count": 27,
     "metadata": {},
     "output_type": "execute_result"
    }
   ],
   "source": [
    "not_normalized_queries_df = pd.read_csv(\n",
    "    \"../variation_analysis/unable_to_normalize_queries.tsv\", sep=\"\\t\"\n",
    ")\n",
    "not_normalized_queries_df.head()"
   ]
  },
  {
   "cell_type": "markdown",
   "metadata": {},
   "source": [
    "## <a id='toc4_2_'></a>[Variant analysis](#toc0_)"
   ]
  },
  {
   "cell_type": "code",
   "execution_count": 28,
   "metadata": {},
   "outputs": [
    {
     "name": "stdout",
     "output_type": "stream",
     "text": [
      "\n",
      "Number of Unable to Normalize Variants in CIViC: 83 / 3845\n",
      "Percent of Unable to Normalize Variants in CIViC: 2.16%\n",
      "\n",
      "Number of accepted Unable to Normalize Variants: 14 / 83\n",
      "Percent of accepted Unable to Normalize Variants: 16.87%\n",
      "\n",
      "Number of submitted Unable to Normalize Variants: 69 / 83\n",
      "Percent of submitted Unable to Normalize Variants: 83.13%\n"
     ]
    },
    {
     "data": {
      "text/html": [
       "<div>\n",
       "<style scoped>\n",
       "    .dataframe tbody tr th:only-of-type {\n",
       "        vertical-align: middle;\n",
       "    }\n",
       "\n",
       "    .dataframe tbody tr th {\n",
       "        vertical-align: top;\n",
       "    }\n",
       "\n",
       "    .dataframe thead th {\n",
       "        text-align: right;\n",
       "    }\n",
       "</style>\n",
       "<table border=\"1\" class=\"dataframe\">\n",
       "  <thead>\n",
       "    <tr style=\"text-align: right;\">\n",
       "      <th></th>\n",
       "      <th>variant_id</th>\n",
       "      <th>query</th>\n",
       "      <th>query_type</th>\n",
       "      <th>variant_accepted</th>\n",
       "      <th>civic_variant_types</th>\n",
       "      <th>exception_raised</th>\n",
       "      <th>message</th>\n",
       "      <th>warnings</th>\n",
       "    </tr>\n",
       "  </thead>\n",
       "  <tbody>\n",
       "    <tr>\n",
       "      <th>0</th>\n",
       "      <td>748</td>\n",
       "      <td>MLH1 *757L</td>\n",
       "      <td>protein</td>\n",
       "      <td>True</td>\n",
       "      <td>Stop Lost</td>\n",
       "      <td>False</td>\n",
       "      <td>unable to normalize</td>\n",
       "      <td>['Unable to tokenize: *757L']</td>\n",
       "    </tr>\n",
       "    <tr>\n",
       "      <th>1</th>\n",
       "      <td>3718</td>\n",
       "      <td>AR A748V</td>\n",
       "      <td>protein</td>\n",
       "      <td>False</td>\n",
       "      <td>Not provided</td>\n",
       "      <td>False</td>\n",
       "      <td>unable to normalize</td>\n",
       "      <td>['Unable to translate AR A748V']</td>\n",
       "    </tr>\n",
       "    <tr>\n",
       "      <th>2</th>\n",
       "      <td>3725</td>\n",
       "      <td>AR A765T</td>\n",
       "      <td>protein</td>\n",
       "      <td>False</td>\n",
       "      <td>Not provided</td>\n",
       "      <td>False</td>\n",
       "      <td>unable to normalize</td>\n",
       "      <td>['Unable to translate AR A765T']</td>\n",
       "    </tr>\n",
       "    <tr>\n",
       "      <th>3</th>\n",
       "      <td>4485</td>\n",
       "      <td>ERBB2 A775_G776ins YVMA</td>\n",
       "      <td>protein</td>\n",
       "      <td>False</td>\n",
       "      <td>Not provided</td>\n",
       "      <td>False</td>\n",
       "      <td>unable to normalize</td>\n",
       "      <td>['Unable to tokenize: A775_G776ins', 'Unable t...</td>\n",
       "    </tr>\n",
       "    <tr>\n",
       "      <th>4</th>\n",
       "      <td>248</td>\n",
       "      <td>TERT C228T</td>\n",
       "      <td>protein</td>\n",
       "      <td>True</td>\n",
       "      <td>Regulatory Region Variant</td>\n",
       "      <td>False</td>\n",
       "      <td>unable to normalize</td>\n",
       "      <td>['Unable to translate TERT C228T']</td>\n",
       "    </tr>\n",
       "  </tbody>\n",
       "</table>\n",
       "</div>"
      ],
      "text/plain": [
       "   variant_id                    query query_type  variant_accepted  \\\n",
       "0         748               MLH1 *757L    protein              True   \n",
       "1        3718                 AR A748V    protein             False   \n",
       "2        3725                 AR A765T    protein             False   \n",
       "3        4485  ERBB2 A775_G776ins YVMA    protein             False   \n",
       "4         248               TERT C228T    protein              True   \n",
       "\n",
       "         civic_variant_types  exception_raised              message  \\\n",
       "0                  Stop Lost             False  unable to normalize   \n",
       "1               Not provided             False  unable to normalize   \n",
       "2               Not provided             False  unable to normalize   \n",
       "3               Not provided             False  unable to normalize   \n",
       "4  Regulatory Region Variant             False  unable to normalize   \n",
       "\n",
       "                                            warnings  \n",
       "0                      ['Unable to tokenize: *757L']  \n",
       "1                   ['Unable to translate AR A748V']  \n",
       "2                   ['Unable to translate AR A765T']  \n",
       "3  ['Unable to tokenize: A775_G776ins', 'Unable t...  \n",
       "4                 ['Unable to translate TERT C228T']  "
      ]
     },
     "execution_count": 28,
     "metadata": {},
     "output_type": "execute_result"
    }
   ],
   "source": [
    "not_normalized_queries_df = variant_analysis(\n",
    "    not_normalized_queries_df, VariantNormType.UNABLE_TO_NORMALIZE\n",
    ")\n",
    "not_normalized_queries_df.head()"
   ]
  },
  {
   "cell_type": "markdown",
   "metadata": {},
   "source": [
    "## <a id='toc4_3_'></a>[Transform df for evidence analysis](#toc0_)"
   ]
  },
  {
   "cell_type": "code",
   "execution_count": 29,
   "metadata": {},
   "outputs": [
    {
     "data": {
      "text/html": [
       "<div>\n",
       "<style scoped>\n",
       "    .dataframe tbody tr th:only-of-type {\n",
       "        vertical-align: middle;\n",
       "    }\n",
       "\n",
       "    .dataframe tbody tr th {\n",
       "        vertical-align: top;\n",
       "    }\n",
       "\n",
       "    .dataframe thead th {\n",
       "        text-align: right;\n",
       "    }\n",
       "</style>\n",
       "<table border=\"1\" class=\"dataframe\">\n",
       "  <thead>\n",
       "    <tr style=\"text-align: right;\">\n",
       "      <th></th>\n",
       "      <th>variant_id</th>\n",
       "      <th>query</th>\n",
       "      <th>query_type</th>\n",
       "      <th>variant_accepted</th>\n",
       "      <th>civic_variant_types</th>\n",
       "      <th>exception_raised</th>\n",
       "      <th>message</th>\n",
       "      <th>warnings</th>\n",
       "      <th>evidence_id</th>\n",
       "    </tr>\n",
       "  </thead>\n",
       "  <tbody>\n",
       "    <tr>\n",
       "      <th>0</th>\n",
       "      <td>748</td>\n",
       "      <td>MLH1 *757L</td>\n",
       "      <td>protein</td>\n",
       "      <td>True</td>\n",
       "      <td>Stop Lost</td>\n",
       "      <td>False</td>\n",
       "      <td>unable to normalize</td>\n",
       "      <td>['Unable to tokenize: *757L']</td>\n",
       "      <td>1812</td>\n",
       "    </tr>\n",
       "    <tr>\n",
       "      <th>1</th>\n",
       "      <td>3718</td>\n",
       "      <td>AR A748V</td>\n",
       "      <td>protein</td>\n",
       "      <td>False</td>\n",
       "      <td>Not provided</td>\n",
       "      <td>False</td>\n",
       "      <td>unable to normalize</td>\n",
       "      <td>['Unable to translate AR A748V']</td>\n",
       "      <td>10128</td>\n",
       "    </tr>\n",
       "    <tr>\n",
       "      <th>2</th>\n",
       "      <td>3725</td>\n",
       "      <td>AR A765T</td>\n",
       "      <td>protein</td>\n",
       "      <td>False</td>\n",
       "      <td>Not provided</td>\n",
       "      <td>False</td>\n",
       "      <td>unable to normalize</td>\n",
       "      <td>['Unable to translate AR A765T']</td>\n",
       "      <td>10135</td>\n",
       "    </tr>\n",
       "    <tr>\n",
       "      <th>3</th>\n",
       "      <td>4485</td>\n",
       "      <td>ERBB2 A775_G776ins YVMA</td>\n",
       "      <td>protein</td>\n",
       "      <td>False</td>\n",
       "      <td>Not provided</td>\n",
       "      <td>False</td>\n",
       "      <td>unable to normalize</td>\n",
       "      <td>['Unable to tokenize: A775_G776ins', 'Unable t...</td>\n",
       "      <td>11494</td>\n",
       "    </tr>\n",
       "    <tr>\n",
       "      <th>3</th>\n",
       "      <td>4485</td>\n",
       "      <td>ERBB2 A775_G776ins YVMA</td>\n",
       "      <td>protein</td>\n",
       "      <td>False</td>\n",
       "      <td>Not provided</td>\n",
       "      <td>False</td>\n",
       "      <td>unable to normalize</td>\n",
       "      <td>['Unable to tokenize: A775_G776ins', 'Unable t...</td>\n",
       "      <td>11323</td>\n",
       "    </tr>\n",
       "  </tbody>\n",
       "</table>\n",
       "</div>"
      ],
      "text/plain": [
       "   variant_id                    query query_type  variant_accepted  \\\n",
       "0         748               MLH1 *757L    protein              True   \n",
       "1        3718                 AR A748V    protein             False   \n",
       "2        3725                 AR A765T    protein             False   \n",
       "3        4485  ERBB2 A775_G776ins YVMA    protein             False   \n",
       "3        4485  ERBB2 A775_G776ins YVMA    protein             False   \n",
       "\n",
       "  civic_variant_types  exception_raised              message  \\\n",
       "0           Stop Lost             False  unable to normalize   \n",
       "1        Not provided             False  unable to normalize   \n",
       "2        Not provided             False  unable to normalize   \n",
       "3        Not provided             False  unable to normalize   \n",
       "3        Not provided             False  unable to normalize   \n",
       "\n",
       "                                            warnings evidence_id  \n",
       "0                      ['Unable to tokenize: *757L']        1812  \n",
       "1                   ['Unable to translate AR A748V']       10128  \n",
       "2                   ['Unable to translate AR A765T']       10135  \n",
       "3  ['Unable to tokenize: A775_G776ins', 'Unable t...       11494  \n",
       "3  ['Unable to tokenize: A775_G776ins', 'Unable t...       11323  "
      ]
     },
     "execution_count": 29,
     "metadata": {},
     "output_type": "execute_result"
    }
   ],
   "source": [
    "not_normalized_quer_add_evidence_df = transform_df_evidence_ids(\n",
    "    not_normalized_queries_df\n",
    ")\n",
    "not_normalized_quer_add_evidence_df.head()"
   ]
  },
  {
   "cell_type": "code",
   "execution_count": 30,
   "metadata": {},
   "outputs": [
    {
     "data": {
      "text/html": [
       "<div>\n",
       "<style scoped>\n",
       "    .dataframe tbody tr th:only-of-type {\n",
       "        vertical-align: middle;\n",
       "    }\n",
       "\n",
       "    .dataframe tbody tr th {\n",
       "        vertical-align: top;\n",
       "    }\n",
       "\n",
       "    .dataframe thead th {\n",
       "        text-align: right;\n",
       "    }\n",
       "</style>\n",
       "<table border=\"1\" class=\"dataframe\">\n",
       "  <thead>\n",
       "    <tr style=\"text-align: right;\">\n",
       "      <th></th>\n",
       "      <th>variant_id</th>\n",
       "      <th>query</th>\n",
       "      <th>query_type</th>\n",
       "      <th>variant_accepted</th>\n",
       "      <th>civic_variant_types</th>\n",
       "      <th>exception_raised</th>\n",
       "      <th>message</th>\n",
       "      <th>warnings</th>\n",
       "      <th>evidence_id</th>\n",
       "      <th>evidence_status</th>\n",
       "      <th>evidence_rating</th>\n",
       "      <th>evidence_level</th>\n",
       "    </tr>\n",
       "  </thead>\n",
       "  <tbody>\n",
       "    <tr>\n",
       "      <th>0</th>\n",
       "      <td>748</td>\n",
       "      <td>MLH1 *757L</td>\n",
       "      <td>protein</td>\n",
       "      <td>True</td>\n",
       "      <td>Stop Lost</td>\n",
       "      <td>False</td>\n",
       "      <td>unable to normalize</td>\n",
       "      <td>['Unable to tokenize: *757L']</td>\n",
       "      <td>1812</td>\n",
       "      <td>accepted</td>\n",
       "      <td>[1]</td>\n",
       "      <td>[C]</td>\n",
       "    </tr>\n",
       "    <tr>\n",
       "      <th>1</th>\n",
       "      <td>3718</td>\n",
       "      <td>AR A748V</td>\n",
       "      <td>protein</td>\n",
       "      <td>False</td>\n",
       "      <td>Not provided</td>\n",
       "      <td>False</td>\n",
       "      <td>unable to normalize</td>\n",
       "      <td>['Unable to translate AR A748V']</td>\n",
       "      <td>10128</td>\n",
       "      <td>submitted</td>\n",
       "      <td>[3]</td>\n",
       "      <td>[D]</td>\n",
       "    </tr>\n",
       "    <tr>\n",
       "      <th>2</th>\n",
       "      <td>3725</td>\n",
       "      <td>AR A765T</td>\n",
       "      <td>protein</td>\n",
       "      <td>False</td>\n",
       "      <td>Not provided</td>\n",
       "      <td>False</td>\n",
       "      <td>unable to normalize</td>\n",
       "      <td>['Unable to translate AR A765T']</td>\n",
       "      <td>10135</td>\n",
       "      <td>submitted</td>\n",
       "      <td>[3]</td>\n",
       "      <td>[D]</td>\n",
       "    </tr>\n",
       "    <tr>\n",
       "      <th>3</th>\n",
       "      <td>4485</td>\n",
       "      <td>ERBB2 A775_G776ins YVMA</td>\n",
       "      <td>protein</td>\n",
       "      <td>False</td>\n",
       "      <td>Not provided</td>\n",
       "      <td>False</td>\n",
       "      <td>unable to normalize</td>\n",
       "      <td>['Unable to tokenize: A775_G776ins', 'Unable t...</td>\n",
       "      <td>11494</td>\n",
       "      <td>submitted</td>\n",
       "      <td>[4]</td>\n",
       "      <td>[D]</td>\n",
       "    </tr>\n",
       "    <tr>\n",
       "      <th>3</th>\n",
       "      <td>4485</td>\n",
       "      <td>ERBB2 A775_G776ins YVMA</td>\n",
       "      <td>protein</td>\n",
       "      <td>False</td>\n",
       "      <td>Not provided</td>\n",
       "      <td>False</td>\n",
       "      <td>unable to normalize</td>\n",
       "      <td>['Unable to tokenize: A775_G776ins', 'Unable t...</td>\n",
       "      <td>11323</td>\n",
       "      <td>submitted</td>\n",
       "      <td>[3]</td>\n",
       "      <td>[B]</td>\n",
       "    </tr>\n",
       "  </tbody>\n",
       "</table>\n",
       "</div>"
      ],
      "text/plain": [
       "   variant_id                    query query_type  variant_accepted  \\\n",
       "0         748               MLH1 *757L    protein              True   \n",
       "1        3718                 AR A748V    protein             False   \n",
       "2        3725                 AR A765T    protein             False   \n",
       "3        4485  ERBB2 A775_G776ins YVMA    protein             False   \n",
       "3        4485  ERBB2 A775_G776ins YVMA    protein             False   \n",
       "\n",
       "  civic_variant_types  exception_raised              message  \\\n",
       "0           Stop Lost             False  unable to normalize   \n",
       "1        Not provided             False  unable to normalize   \n",
       "2        Not provided             False  unable to normalize   \n",
       "3        Not provided             False  unable to normalize   \n",
       "3        Not provided             False  unable to normalize   \n",
       "\n",
       "                                            warnings evidence_id  \\\n",
       "0                      ['Unable to tokenize: *757L']        1812   \n",
       "1                   ['Unable to translate AR A748V']       10128   \n",
       "2                   ['Unable to translate AR A765T']       10135   \n",
       "3  ['Unable to tokenize: A775_G776ins', 'Unable t...       11494   \n",
       "3  ['Unable to tokenize: A775_G776ins', 'Unable t...       11323   \n",
       "\n",
       "  evidence_status evidence_rating evidence_level  \n",
       "0        accepted             [1]            [C]  \n",
       "1       submitted             [3]            [D]  \n",
       "2       submitted             [3]            [D]  \n",
       "3       submitted             [4]            [D]  \n",
       "3       submitted             [3]            [B]  "
      ]
     },
     "execution_count": 30,
     "metadata": {},
     "output_type": "execute_result"
    }
   ],
   "source": [
    "not_normalized_quer_add_evidence_df = transform_df_evidence(\n",
    "    not_normalized_quer_add_evidence_df\n",
    ")\n",
    "not_normalized_quer_add_evidence_df.head()"
   ]
  },
  {
   "cell_type": "markdown",
   "metadata": {},
   "source": [
    "## <a id='toc4_4_'></a>[Evidence analysis](#toc0_)"
   ]
  },
  {
   "cell_type": "code",
   "execution_count": 31,
   "metadata": {},
   "outputs": [
    {
     "name": "stdout",
     "output_type": "stream",
     "text": [
      "Number of Unable to Normalize Variant Evidence items in CIViC: 128 / 10850\n",
      "Percent of Unable to Normalize Variant Evidence items in CIViC: 1.18%\n",
      "\n",
      "Number of accepted Unable to Normalize Variant Evidence items: 20 / 128\n",
      "Percent of accepted Unable to Normalize Variant Evidence items: 15.62%\n",
      "\n",
      "Number of submitted Unable to Normalize Variant Evidence items: 108 / 128\n",
      "Percent of submitted Unable to Normalize Variant Evidence items: 84.38%\n"
     ]
    },
    {
     "data": {
      "text/html": [
       "<div>\n",
       "<style scoped>\n",
       "    .dataframe tbody tr th:only-of-type {\n",
       "        vertical-align: middle;\n",
       "    }\n",
       "\n",
       "    .dataframe tbody tr th {\n",
       "        vertical-align: top;\n",
       "    }\n",
       "\n",
       "    .dataframe thead th {\n",
       "        text-align: right;\n",
       "    }\n",
       "</style>\n",
       "<table border=\"1\" class=\"dataframe\">\n",
       "  <thead>\n",
       "    <tr style=\"text-align: right;\">\n",
       "      <th></th>\n",
       "      <th>variant_id</th>\n",
       "      <th>query</th>\n",
       "      <th>query_type</th>\n",
       "      <th>variant_accepted</th>\n",
       "      <th>civic_variant_types</th>\n",
       "      <th>exception_raised</th>\n",
       "      <th>message</th>\n",
       "      <th>warnings</th>\n",
       "      <th>evidence_id</th>\n",
       "      <th>evidence_status</th>\n",
       "      <th>evidence_rating</th>\n",
       "      <th>evidence_level</th>\n",
       "      <th>evidence_accepted</th>\n",
       "    </tr>\n",
       "  </thead>\n",
       "  <tbody>\n",
       "    <tr>\n",
       "      <th>0</th>\n",
       "      <td>748</td>\n",
       "      <td>MLH1 *757L</td>\n",
       "      <td>protein</td>\n",
       "      <td>True</td>\n",
       "      <td>Stop Lost</td>\n",
       "      <td>False</td>\n",
       "      <td>unable to normalize</td>\n",
       "      <td>['Unable to tokenize: *757L']</td>\n",
       "      <td>1812</td>\n",
       "      <td>accepted</td>\n",
       "      <td>[1]</td>\n",
       "      <td>[C]</td>\n",
       "      <td>True</td>\n",
       "    </tr>\n",
       "    <tr>\n",
       "      <th>1</th>\n",
       "      <td>3718</td>\n",
       "      <td>AR A748V</td>\n",
       "      <td>protein</td>\n",
       "      <td>False</td>\n",
       "      <td>Not provided</td>\n",
       "      <td>False</td>\n",
       "      <td>unable to normalize</td>\n",
       "      <td>['Unable to translate AR A748V']</td>\n",
       "      <td>10128</td>\n",
       "      <td>submitted</td>\n",
       "      <td>[3]</td>\n",
       "      <td>[D]</td>\n",
       "      <td>False</td>\n",
       "    </tr>\n",
       "    <tr>\n",
       "      <th>2</th>\n",
       "      <td>3725</td>\n",
       "      <td>AR A765T</td>\n",
       "      <td>protein</td>\n",
       "      <td>False</td>\n",
       "      <td>Not provided</td>\n",
       "      <td>False</td>\n",
       "      <td>unable to normalize</td>\n",
       "      <td>['Unable to translate AR A765T']</td>\n",
       "      <td>10135</td>\n",
       "      <td>submitted</td>\n",
       "      <td>[3]</td>\n",
       "      <td>[D]</td>\n",
       "      <td>False</td>\n",
       "    </tr>\n",
       "    <tr>\n",
       "      <th>3</th>\n",
       "      <td>4485</td>\n",
       "      <td>ERBB2 A775_G776ins YVMA</td>\n",
       "      <td>protein</td>\n",
       "      <td>False</td>\n",
       "      <td>Not provided</td>\n",
       "      <td>False</td>\n",
       "      <td>unable to normalize</td>\n",
       "      <td>['Unable to tokenize: A775_G776ins', 'Unable t...</td>\n",
       "      <td>11494</td>\n",
       "      <td>submitted</td>\n",
       "      <td>[4]</td>\n",
       "      <td>[D]</td>\n",
       "      <td>False</td>\n",
       "    </tr>\n",
       "    <tr>\n",
       "      <th>3</th>\n",
       "      <td>4485</td>\n",
       "      <td>ERBB2 A775_G776ins YVMA</td>\n",
       "      <td>protein</td>\n",
       "      <td>False</td>\n",
       "      <td>Not provided</td>\n",
       "      <td>False</td>\n",
       "      <td>unable to normalize</td>\n",
       "      <td>['Unable to tokenize: A775_G776ins', 'Unable t...</td>\n",
       "      <td>11323</td>\n",
       "      <td>submitted</td>\n",
       "      <td>[3]</td>\n",
       "      <td>[B]</td>\n",
       "      <td>False</td>\n",
       "    </tr>\n",
       "  </tbody>\n",
       "</table>\n",
       "</div>"
      ],
      "text/plain": [
       "   variant_id                    query query_type  variant_accepted  \\\n",
       "0         748               MLH1 *757L    protein              True   \n",
       "1        3718                 AR A748V    protein             False   \n",
       "2        3725                 AR A765T    protein             False   \n",
       "3        4485  ERBB2 A775_G776ins YVMA    protein             False   \n",
       "3        4485  ERBB2 A775_G776ins YVMA    protein             False   \n",
       "\n",
       "  civic_variant_types  exception_raised              message  \\\n",
       "0           Stop Lost             False  unable to normalize   \n",
       "1        Not provided             False  unable to normalize   \n",
       "2        Not provided             False  unable to normalize   \n",
       "3        Not provided             False  unable to normalize   \n",
       "3        Not provided             False  unable to normalize   \n",
       "\n",
       "                                            warnings evidence_id  \\\n",
       "0                      ['Unable to tokenize: *757L']        1812   \n",
       "1                   ['Unable to translate AR A748V']       10128   \n",
       "2                   ['Unable to translate AR A765T']       10135   \n",
       "3  ['Unable to tokenize: A775_G776ins', 'Unable t...       11494   \n",
       "3  ['Unable to tokenize: A775_G776ins', 'Unable t...       11323   \n",
       "\n",
       "  evidence_status evidence_rating evidence_level evidence_accepted  \n",
       "0        accepted             [1]            [C]              True  \n",
       "1       submitted             [3]            [D]             False  \n",
       "2       submitted             [3]            [D]             False  \n",
       "3       submitted             [4]            [D]             False  \n",
       "3       submitted             [3]            [B]             False  "
      ]
     },
     "execution_count": 31,
     "metadata": {},
     "output_type": "execute_result"
    }
   ],
   "source": [
    "not_normalized_quer_add_evidence_df = evidence_analysis(\n",
    "    not_normalized_quer_add_evidence_df, VariantNormType.UNABLE_TO_NORMALIZE\n",
    ")\n",
    "not_normalized_quer_add_evidence_df.head()"
   ]
  },
  {
   "cell_type": "markdown",
   "metadata": {},
   "source": [
    "## <a id='toc4_5_'></a>[Impact](#toc0_)\n",
    "Via molecular profile score"
   ]
  },
  {
   "cell_type": "markdown",
   "metadata": {},
   "source": [
    "### <a id='toc4_5_1_'></a>[Import molecular profile id](#toc0_)"
   ]
  },
  {
   "cell_type": "code",
   "execution_count": 32,
   "metadata": {},
   "outputs": [
    {
     "data": {
      "text/html": [
       "<div>\n",
       "<style scoped>\n",
       "    .dataframe tbody tr th:only-of-type {\n",
       "        vertical-align: middle;\n",
       "    }\n",
       "\n",
       "    .dataframe tbody tr th {\n",
       "        vertical-align: top;\n",
       "    }\n",
       "\n",
       "    .dataframe thead th {\n",
       "        text-align: right;\n",
       "    }\n",
       "</style>\n",
       "<table border=\"1\" class=\"dataframe\">\n",
       "  <thead>\n",
       "    <tr style=\"text-align: right;\">\n",
       "      <th></th>\n",
       "      <th>variant_id</th>\n",
       "      <th>query</th>\n",
       "      <th>query_type</th>\n",
       "      <th>variant_accepted</th>\n",
       "      <th>civic_variant_types</th>\n",
       "      <th>exception_raised</th>\n",
       "      <th>message</th>\n",
       "      <th>warnings</th>\n",
       "      <th>molecular_profile_id</th>\n",
       "    </tr>\n",
       "  </thead>\n",
       "  <tbody>\n",
       "    <tr>\n",
       "      <th>0</th>\n",
       "      <td>748</td>\n",
       "      <td>MLH1 *757L</td>\n",
       "      <td>protein</td>\n",
       "      <td>True</td>\n",
       "      <td>Stop Lost</td>\n",
       "      <td>False</td>\n",
       "      <td>unable to normalize</td>\n",
       "      <td>['Unable to tokenize: *757L']</td>\n",
       "      <td>[729]</td>\n",
       "    </tr>\n",
       "    <tr>\n",
       "      <th>1</th>\n",
       "      <td>3718</td>\n",
       "      <td>AR A748V</td>\n",
       "      <td>protein</td>\n",
       "      <td>False</td>\n",
       "      <td>Not provided</td>\n",
       "      <td>False</td>\n",
       "      <td>unable to normalize</td>\n",
       "      <td>['Unable to translate AR A748V']</td>\n",
       "      <td>[3586]</td>\n",
       "    </tr>\n",
       "    <tr>\n",
       "      <th>2</th>\n",
       "      <td>3725</td>\n",
       "      <td>AR A765T</td>\n",
       "      <td>protein</td>\n",
       "      <td>False</td>\n",
       "      <td>Not provided</td>\n",
       "      <td>False</td>\n",
       "      <td>unable to normalize</td>\n",
       "      <td>['Unable to translate AR A765T']</td>\n",
       "      <td>[3593]</td>\n",
       "    </tr>\n",
       "    <tr>\n",
       "      <th>3</th>\n",
       "      <td>4485</td>\n",
       "      <td>ERBB2 A775_G776ins YVMA</td>\n",
       "      <td>protein</td>\n",
       "      <td>False</td>\n",
       "      <td>Not provided</td>\n",
       "      <td>False</td>\n",
       "      <td>unable to normalize</td>\n",
       "      <td>['Unable to tokenize: A775_G776ins', 'Unable t...</td>\n",
       "      <td>[4463, 4472]</td>\n",
       "    </tr>\n",
       "    <tr>\n",
       "      <th>4</th>\n",
       "      <td>248</td>\n",
       "      <td>TERT C228T</td>\n",
       "      <td>protein</td>\n",
       "      <td>True</td>\n",
       "      <td>Regulatory Region Variant</td>\n",
       "      <td>False</td>\n",
       "      <td>unable to normalize</td>\n",
       "      <td>['Unable to translate TERT C228T']</td>\n",
       "      <td>[244]</td>\n",
       "    </tr>\n",
       "  </tbody>\n",
       "</table>\n",
       "</div>"
      ],
      "text/plain": [
       "   variant_id                    query query_type  variant_accepted  \\\n",
       "0         748               MLH1 *757L    protein              True   \n",
       "1        3718                 AR A748V    protein             False   \n",
       "2        3725                 AR A765T    protein             False   \n",
       "3        4485  ERBB2 A775_G776ins YVMA    protein             False   \n",
       "4         248               TERT C228T    protein              True   \n",
       "\n",
       "         civic_variant_types  exception_raised              message  \\\n",
       "0                  Stop Lost             False  unable to normalize   \n",
       "1               Not provided             False  unable to normalize   \n",
       "2               Not provided             False  unable to normalize   \n",
       "3               Not provided             False  unable to normalize   \n",
       "4  Regulatory Region Variant             False  unable to normalize   \n",
       "\n",
       "                                            warnings molecular_profile_id  \n",
       "0                      ['Unable to tokenize: *757L']                [729]  \n",
       "1                   ['Unable to translate AR A748V']               [3586]  \n",
       "2                   ['Unable to translate AR A765T']               [3593]  \n",
       "3  ['Unable to tokenize: A775_G776ins', 'Unable t...         [4463, 4472]  \n",
       "4                 ['Unable to translate TERT C228T']                [244]  "
      ]
     },
     "execution_count": 32,
     "metadata": {},
     "output_type": "execute_result"
    }
   ],
   "source": [
    "not_normalized_queries_add_molprof_df = transform_df_mp_id(not_normalized_queries_df)\n",
    "not_normalized_queries_add_molprof_df.head()"
   ]
  },
  {
   "cell_type": "markdown",
   "metadata": {},
   "source": [
    "### <a id='toc4_5_2_'></a>[Import molecular profile scores](#toc0_)"
   ]
  },
  {
   "cell_type": "code",
   "execution_count": 33,
   "metadata": {},
   "outputs": [
    {
     "data": {
      "text/html": [
       "<div>\n",
       "<style scoped>\n",
       "    .dataframe tbody tr th:only-of-type {\n",
       "        vertical-align: middle;\n",
       "    }\n",
       "\n",
       "    .dataframe tbody tr th {\n",
       "        vertical-align: top;\n",
       "    }\n",
       "\n",
       "    .dataframe thead th {\n",
       "        text-align: right;\n",
       "    }\n",
       "</style>\n",
       "<table border=\"1\" class=\"dataframe\">\n",
       "  <thead>\n",
       "    <tr style=\"text-align: right;\">\n",
       "      <th></th>\n",
       "      <th>variant_id</th>\n",
       "      <th>query</th>\n",
       "      <th>query_type</th>\n",
       "      <th>variant_accepted</th>\n",
       "      <th>civic_variant_types</th>\n",
       "      <th>exception_raised</th>\n",
       "      <th>message</th>\n",
       "      <th>warnings</th>\n",
       "      <th>molecular_profile_id</th>\n",
       "      <th>molecular_profile_score</th>\n",
       "    </tr>\n",
       "  </thead>\n",
       "  <tbody>\n",
       "    <tr>\n",
       "      <th>0</th>\n",
       "      <td>748</td>\n",
       "      <td>MLH1 *757L</td>\n",
       "      <td>protein</td>\n",
       "      <td>True</td>\n",
       "      <td>Stop Lost</td>\n",
       "      <td>False</td>\n",
       "      <td>unable to normalize</td>\n",
       "      <td>['Unable to tokenize: *757L']</td>\n",
       "      <td>[729]</td>\n",
       "      <td>[2.5]</td>\n",
       "    </tr>\n",
       "    <tr>\n",
       "      <th>1</th>\n",
       "      <td>3718</td>\n",
       "      <td>AR A748V</td>\n",
       "      <td>protein</td>\n",
       "      <td>False</td>\n",
       "      <td>Not provided</td>\n",
       "      <td>False</td>\n",
       "      <td>unable to normalize</td>\n",
       "      <td>['Unable to translate AR A748V']</td>\n",
       "      <td>[3586]</td>\n",
       "      <td>[0.0]</td>\n",
       "    </tr>\n",
       "    <tr>\n",
       "      <th>2</th>\n",
       "      <td>3725</td>\n",
       "      <td>AR A765T</td>\n",
       "      <td>protein</td>\n",
       "      <td>False</td>\n",
       "      <td>Not provided</td>\n",
       "      <td>False</td>\n",
       "      <td>unable to normalize</td>\n",
       "      <td>['Unable to translate AR A765T']</td>\n",
       "      <td>[3593]</td>\n",
       "      <td>[0.0]</td>\n",
       "    </tr>\n",
       "    <tr>\n",
       "      <th>3</th>\n",
       "      <td>4485</td>\n",
       "      <td>ERBB2 A775_G776ins YVMA</td>\n",
       "      <td>protein</td>\n",
       "      <td>False</td>\n",
       "      <td>Not provided</td>\n",
       "      <td>False</td>\n",
       "      <td>unable to normalize</td>\n",
       "      <td>['Unable to tokenize: A775_G776ins', 'Unable t...</td>\n",
       "      <td>[4463, 4472]</td>\n",
       "      <td>[0.0, 0.0]</td>\n",
       "    </tr>\n",
       "    <tr>\n",
       "      <th>4</th>\n",
       "      <td>248</td>\n",
       "      <td>TERT C228T</td>\n",
       "      <td>protein</td>\n",
       "      <td>True</td>\n",
       "      <td>Regulatory Region Variant</td>\n",
       "      <td>False</td>\n",
       "      <td>unable to normalize</td>\n",
       "      <td>['Unable to translate TERT C228T']</td>\n",
       "      <td>[244]</td>\n",
       "      <td>[40.0]</td>\n",
       "    </tr>\n",
       "  </tbody>\n",
       "</table>\n",
       "</div>"
      ],
      "text/plain": [
       "   variant_id                    query query_type  variant_accepted  \\\n",
       "0         748               MLH1 *757L    protein              True   \n",
       "1        3718                 AR A748V    protein             False   \n",
       "2        3725                 AR A765T    protein             False   \n",
       "3        4485  ERBB2 A775_G776ins YVMA    protein             False   \n",
       "4         248               TERT C228T    protein              True   \n",
       "\n",
       "         civic_variant_types  exception_raised              message  \\\n",
       "0                  Stop Lost             False  unable to normalize   \n",
       "1               Not provided             False  unable to normalize   \n",
       "2               Not provided             False  unable to normalize   \n",
       "3               Not provided             False  unable to normalize   \n",
       "4  Regulatory Region Variant             False  unable to normalize   \n",
       "\n",
       "                                            warnings molecular_profile_id  \\\n",
       "0                      ['Unable to tokenize: *757L']                [729]   \n",
       "1                   ['Unable to translate AR A748V']               [3586]   \n",
       "2                   ['Unable to translate AR A765T']               [3593]   \n",
       "3  ['Unable to tokenize: A775_G776ins', 'Unable t...         [4463, 4472]   \n",
       "4                 ['Unable to translate TERT C228T']                [244]   \n",
       "\n",
       "  molecular_profile_score  \n",
       "0                   [2.5]  \n",
       "1                   [0.0]  \n",
       "2                   [0.0]  \n",
       "3              [0.0, 0.0]  \n",
       "4                  [40.0]  "
      ]
     },
     "execution_count": 33,
     "metadata": {},
     "output_type": "execute_result"
    }
   ],
   "source": [
    "not_normalized_queries_add_molprof_df = transform_df_mp_score(\n",
    "    not_normalized_queries_add_molprof_df\n",
    ")\n",
    "not_normalized_queries_add_molprof_df.head()"
   ]
  },
  {
   "cell_type": "code",
   "execution_count": 34,
   "metadata": {},
   "outputs": [
    {
     "data": {
      "text/html": [
       "<div>\n",
       "<style scoped>\n",
       "    .dataframe tbody tr th:only-of-type {\n",
       "        vertical-align: middle;\n",
       "    }\n",
       "\n",
       "    .dataframe tbody tr th {\n",
       "        vertical-align: top;\n",
       "    }\n",
       "\n",
       "    .dataframe thead th {\n",
       "        text-align: right;\n",
       "    }\n",
       "</style>\n",
       "<table border=\"1\" class=\"dataframe\">\n",
       "  <thead>\n",
       "    <tr style=\"text-align: right;\">\n",
       "      <th></th>\n",
       "      <th>variant_id</th>\n",
       "      <th>query</th>\n",
       "      <th>query_type</th>\n",
       "      <th>variant_accepted</th>\n",
       "      <th>civic_variant_types</th>\n",
       "      <th>exception_raised</th>\n",
       "      <th>message</th>\n",
       "      <th>warnings</th>\n",
       "      <th>molecular_profile_id</th>\n",
       "      <th>molecular_profile_score</th>\n",
       "      <th>molecular_profile_score_sum</th>\n",
       "    </tr>\n",
       "  </thead>\n",
       "  <tbody>\n",
       "    <tr>\n",
       "      <th>0</th>\n",
       "      <td>748</td>\n",
       "      <td>MLH1 *757L</td>\n",
       "      <td>protein</td>\n",
       "      <td>True</td>\n",
       "      <td>Stop Lost</td>\n",
       "      <td>False</td>\n",
       "      <td>unable to normalize</td>\n",
       "      <td>['Unable to tokenize: *757L']</td>\n",
       "      <td>[729]</td>\n",
       "      <td>[2.5]</td>\n",
       "      <td>2.5</td>\n",
       "    </tr>\n",
       "    <tr>\n",
       "      <th>1</th>\n",
       "      <td>3718</td>\n",
       "      <td>AR A748V</td>\n",
       "      <td>protein</td>\n",
       "      <td>False</td>\n",
       "      <td>Not provided</td>\n",
       "      <td>False</td>\n",
       "      <td>unable to normalize</td>\n",
       "      <td>['Unable to translate AR A748V']</td>\n",
       "      <td>[3586]</td>\n",
       "      <td>[0.0]</td>\n",
       "      <td>0.0</td>\n",
       "    </tr>\n",
       "    <tr>\n",
       "      <th>2</th>\n",
       "      <td>3725</td>\n",
       "      <td>AR A765T</td>\n",
       "      <td>protein</td>\n",
       "      <td>False</td>\n",
       "      <td>Not provided</td>\n",
       "      <td>False</td>\n",
       "      <td>unable to normalize</td>\n",
       "      <td>['Unable to translate AR A765T']</td>\n",
       "      <td>[3593]</td>\n",
       "      <td>[0.0]</td>\n",
       "      <td>0.0</td>\n",
       "    </tr>\n",
       "    <tr>\n",
       "      <th>3</th>\n",
       "      <td>4485</td>\n",
       "      <td>ERBB2 A775_G776ins YVMA</td>\n",
       "      <td>protein</td>\n",
       "      <td>False</td>\n",
       "      <td>Not provided</td>\n",
       "      <td>False</td>\n",
       "      <td>unable to normalize</td>\n",
       "      <td>['Unable to tokenize: A775_G776ins', 'Unable t...</td>\n",
       "      <td>[4463, 4472]</td>\n",
       "      <td>[0.0, 0.0]</td>\n",
       "      <td>0.0</td>\n",
       "    </tr>\n",
       "    <tr>\n",
       "      <th>4</th>\n",
       "      <td>248</td>\n",
       "      <td>TERT C228T</td>\n",
       "      <td>protein</td>\n",
       "      <td>True</td>\n",
       "      <td>Regulatory Region Variant</td>\n",
       "      <td>False</td>\n",
       "      <td>unable to normalize</td>\n",
       "      <td>['Unable to translate TERT C228T']</td>\n",
       "      <td>[244]</td>\n",
       "      <td>[40.0]</td>\n",
       "      <td>40.0</td>\n",
       "    </tr>\n",
       "  </tbody>\n",
       "</table>\n",
       "</div>"
      ],
      "text/plain": [
       "   variant_id                    query query_type  variant_accepted  \\\n",
       "0         748               MLH1 *757L    protein              True   \n",
       "1        3718                 AR A748V    protein             False   \n",
       "2        3725                 AR A765T    protein             False   \n",
       "3        4485  ERBB2 A775_G776ins YVMA    protein             False   \n",
       "4         248               TERT C228T    protein              True   \n",
       "\n",
       "         civic_variant_types  exception_raised              message  \\\n",
       "0                  Stop Lost             False  unable to normalize   \n",
       "1               Not provided             False  unable to normalize   \n",
       "2               Not provided             False  unable to normalize   \n",
       "3               Not provided             False  unable to normalize   \n",
       "4  Regulatory Region Variant             False  unable to normalize   \n",
       "\n",
       "                                            warnings molecular_profile_id  \\\n",
       "0                      ['Unable to tokenize: *757L']                [729]   \n",
       "1                   ['Unable to translate AR A748V']               [3586]   \n",
       "2                   ['Unable to translate AR A765T']               [3593]   \n",
       "3  ['Unable to tokenize: A775_G776ins', 'Unable t...         [4463, 4472]   \n",
       "4                 ['Unable to translate TERT C228T']                [244]   \n",
       "\n",
       "  molecular_profile_score  molecular_profile_score_sum  \n",
       "0                   [2.5]                          2.5  \n",
       "1                   [0.0]                          0.0  \n",
       "2                   [0.0]                          0.0  \n",
       "3              [0.0, 0.0]                          0.0  \n",
       "4                  [40.0]                         40.0  "
      ]
     },
     "execution_count": 34,
     "metadata": {},
     "output_type": "execute_result"
    }
   ],
   "source": [
    "not_normalized_queries_add_molprof_df = transform_df_mp_score_sum(\n",
    "    not_normalized_queries_add_molprof_df\n",
    ")\n",
    "not_normalized_queries_add_molprof_df.head()"
   ]
  },
  {
   "cell_type": "markdown",
   "metadata": {},
   "source": [
    "# <a id='toc5_'></a>[Analysis of Not Supported Variants](#toc0_)"
   ]
  },
  {
   "cell_type": "markdown",
   "metadata": {},
   "source": [
    "### <a id='toc5_1_1_'></a>[List of Not Supported Variant ID's](#toc0_)"
   ]
  },
  {
   "cell_type": "code",
   "execution_count": 35,
   "metadata": {},
   "outputs": [
    {
     "data": {
      "text/html": [
       "<div>\n",
       "<style scoped>\n",
       "    .dataframe tbody tr th:only-of-type {\n",
       "        vertical-align: middle;\n",
       "    }\n",
       "\n",
       "    .dataframe tbody tr th {\n",
       "        vertical-align: top;\n",
       "    }\n",
       "\n",
       "    .dataframe thead th {\n",
       "        text-align: right;\n",
       "    }\n",
       "</style>\n",
       "<table border=\"1\" class=\"dataframe\">\n",
       "  <thead>\n",
       "    <tr style=\"text-align: right;\">\n",
       "      <th></th>\n",
       "      <th>variant_id</th>\n",
       "      <th>gene_name</th>\n",
       "      <th>variant_name</th>\n",
       "      <th>civic_variant_types</th>\n",
       "      <th>category</th>\n",
       "      <th>variant_accepted</th>\n",
       "    </tr>\n",
       "  </thead>\n",
       "  <tbody>\n",
       "    <tr>\n",
       "      <th>0</th>\n",
       "      <td>4170</td>\n",
       "      <td>VHL</td>\n",
       "      <td>NaN</td>\n",
       "      <td>Not provided</td>\n",
       "      <td>Transcript</td>\n",
       "      <td>False</td>\n",
       "    </tr>\n",
       "    <tr>\n",
       "      <th>1</th>\n",
       "      <td>4214</td>\n",
       "      <td>VHL</td>\n",
       "      <td>NaN</td>\n",
       "      <td>Not provided</td>\n",
       "      <td>Transcript</td>\n",
       "      <td>False</td>\n",
       "    </tr>\n",
       "    <tr>\n",
       "      <th>2</th>\n",
       "      <td>4216</td>\n",
       "      <td>VHL</td>\n",
       "      <td>NaN</td>\n",
       "      <td>Not provided</td>\n",
       "      <td>Transcript</td>\n",
       "      <td>False</td>\n",
       "    </tr>\n",
       "    <tr>\n",
       "      <th>3</th>\n",
       "      <td>4278</td>\n",
       "      <td>VHL</td>\n",
       "      <td>NaN</td>\n",
       "      <td>Not provided</td>\n",
       "      <td>Transcript</td>\n",
       "      <td>False</td>\n",
       "    </tr>\n",
       "    <tr>\n",
       "      <th>4</th>\n",
       "      <td>4232</td>\n",
       "      <td>BRCA1</td>\n",
       "      <td>NaN</td>\n",
       "      <td>Not provided</td>\n",
       "      <td>Transcript</td>\n",
       "      <td>False</td>\n",
       "    </tr>\n",
       "  </tbody>\n",
       "</table>\n",
       "</div>"
      ],
      "text/plain": [
       "   variant_id gene_name variant_name civic_variant_types    category  \\\n",
       "0        4170       VHL          NaN        Not provided  Transcript   \n",
       "1        4214       VHL          NaN        Not provided  Transcript   \n",
       "2        4216       VHL          NaN        Not provided  Transcript   \n",
       "3        4278       VHL          NaN        Not provided  Transcript   \n",
       "4        4232     BRCA1          NaN        Not provided  Transcript   \n",
       "\n",
       "   variant_accepted  \n",
       "0             False  \n",
       "1             False  \n",
       "2             False  \n",
       "3             False  \n",
       "4             False  "
      ]
     },
     "execution_count": 35,
     "metadata": {},
     "output_type": "execute_result"
    }
   ],
   "source": [
    "not_supported_queries_df = pd.read_csv(\n",
    "    \"../variation_analysis/not_supported_variants.tsv\", sep=\"\\t\"\n",
    ")\n",
    "not_supported_queries_df.head()"
   ]
  },
  {
   "cell_type": "markdown",
   "metadata": {},
   "source": [
    "## <a id='toc5_2_'></a>[Variant Analysis](#toc0_)"
   ]
  },
  {
   "cell_type": "code",
   "execution_count": 36,
   "metadata": {},
   "outputs": [
    {
     "name": "stdout",
     "output_type": "stream",
     "text": [
      "\n",
      "Number of Not Supported Variants in CIViC: 1747 / 3845\n",
      "Percent of Not Supported Variants in CIViC: 45.44%\n",
      "\n",
      "Number of accepted Not Supported Variants: 814 / 1747\n",
      "Percent of accepted Not Supported Variants: 46.59%\n",
      "\n",
      "Number of submitted Not Supported Variants: 933 / 1747\n",
      "Percent of submitted Not Supported Variants: 53.41%\n"
     ]
    },
    {
     "data": {
      "text/html": [
       "<div>\n",
       "<style scoped>\n",
       "    .dataframe tbody tr th:only-of-type {\n",
       "        vertical-align: middle;\n",
       "    }\n",
       "\n",
       "    .dataframe tbody tr th {\n",
       "        vertical-align: top;\n",
       "    }\n",
       "\n",
       "    .dataframe thead th {\n",
       "        text-align: right;\n",
       "    }\n",
       "</style>\n",
       "<table border=\"1\" class=\"dataframe\">\n",
       "  <thead>\n",
       "    <tr style=\"text-align: right;\">\n",
       "      <th></th>\n",
       "      <th>variant_id</th>\n",
       "      <th>gene_name</th>\n",
       "      <th>variant_name</th>\n",
       "      <th>civic_variant_types</th>\n",
       "      <th>category</th>\n",
       "      <th>variant_accepted</th>\n",
       "    </tr>\n",
       "  </thead>\n",
       "  <tbody>\n",
       "    <tr>\n",
       "      <th>0</th>\n",
       "      <td>4170</td>\n",
       "      <td>VHL</td>\n",
       "      <td>NaN</td>\n",
       "      <td>Not provided</td>\n",
       "      <td>Transcript</td>\n",
       "      <td>False</td>\n",
       "    </tr>\n",
       "    <tr>\n",
       "      <th>1</th>\n",
       "      <td>4214</td>\n",
       "      <td>VHL</td>\n",
       "      <td>NaN</td>\n",
       "      <td>Not provided</td>\n",
       "      <td>Transcript</td>\n",
       "      <td>False</td>\n",
       "    </tr>\n",
       "    <tr>\n",
       "      <th>2</th>\n",
       "      <td>4216</td>\n",
       "      <td>VHL</td>\n",
       "      <td>NaN</td>\n",
       "      <td>Not provided</td>\n",
       "      <td>Transcript</td>\n",
       "      <td>False</td>\n",
       "    </tr>\n",
       "    <tr>\n",
       "      <th>3</th>\n",
       "      <td>4278</td>\n",
       "      <td>VHL</td>\n",
       "      <td>NaN</td>\n",
       "      <td>Not provided</td>\n",
       "      <td>Transcript</td>\n",
       "      <td>False</td>\n",
       "    </tr>\n",
       "    <tr>\n",
       "      <th>4</th>\n",
       "      <td>4232</td>\n",
       "      <td>BRCA1</td>\n",
       "      <td>NaN</td>\n",
       "      <td>Not provided</td>\n",
       "      <td>Transcript</td>\n",
       "      <td>False</td>\n",
       "    </tr>\n",
       "  </tbody>\n",
       "</table>\n",
       "</div>"
      ],
      "text/plain": [
       "   variant_id gene_name variant_name civic_variant_types    category  \\\n",
       "0        4170       VHL          NaN        Not provided  Transcript   \n",
       "1        4214       VHL          NaN        Not provided  Transcript   \n",
       "2        4216       VHL          NaN        Not provided  Transcript   \n",
       "3        4278       VHL          NaN        Not provided  Transcript   \n",
       "4        4232     BRCA1          NaN        Not provided  Transcript   \n",
       "\n",
       "   variant_accepted  \n",
       "0             False  \n",
       "1             False  \n",
       "2             False  \n",
       "3             False  \n",
       "4             False  "
      ]
     },
     "execution_count": 36,
     "metadata": {},
     "output_type": "execute_result"
    }
   ],
   "source": [
    "not_supported_queries_df = variant_analysis(\n",
    "    not_supported_queries_df, VariantNormType.NOT_SUPPORTED\n",
    ")\n",
    "not_supported_queries_df.head()"
   ]
  },
  {
   "cell_type": "code",
   "execution_count": 37,
   "metadata": {},
   "outputs": [
    {
     "data": {
      "text/plain": [
       "variant_accepted\n",
       "False    933\n",
       "True     814\n",
       "Name: count, dtype: int64"
      ]
     },
     "execution_count": 37,
     "metadata": {},
     "output_type": "execute_result"
    }
   ],
   "source": [
    "not_supported_queries_df[\"variant_accepted\"].value_counts()"
   ]
  },
  {
   "cell_type": "markdown",
   "metadata": {},
   "source": [
    "### <a id='toc5_2_1_'></a>[Not Supported Variant Analysis by Subcategory](#toc0_)"
   ]
  },
  {
   "cell_type": "code",
   "execution_count": 38,
   "metadata": {},
   "outputs": [],
   "source": [
    "not_supported_variant_analysis_summary = {\n",
    "    \"Category\": NOT_SUPPORTED_VARIANT_CATEGORY_VALUES,\n",
    "    \"Count of CIViC Variants per Category\": [],\n",
    "    \"Fraction of Not Supported Variants\": [],\n",
    "    \"Percent of Not Supported Variants\": [],\n",
    "    \"Fraction of all CIViC Variants\": [],\n",
    "    \"Percent of all CIViC Variants\": [],\n",
    "    \"Fraction of Accepted Variants\": [],\n",
    "    \"Percent of Accepted Variants\": [],\n",
    "    \"Fraction of Submitted Variants\": [],\n",
    "    \"Percent of Submitted Variants\": [],\n",
    "}"
   ]
  },
  {
   "cell_type": "code",
   "execution_count": 39,
   "metadata": {},
   "outputs": [],
   "source": [
    "not_supported_variant_categories_summary_data = dict()\n",
    "total_number_unique_not_supported_variants = len(\n",
    "    set(not_supported_queries_df.variant_id)\n",
    ")\n",
    "\n",
    "for (\n",
    "    category\n",
    ") in NOT_SUPPORTED_VARIANT_CATEGORY_VALUES:  # These are not supported categories\n",
    "    not_supported_variant_categories_summary_data[category] = {}\n",
    "    category_df = not_supported_queries_df[\n",
    "        not_supported_queries_df.category == category\n",
    "    ]\n",
    "\n",
    "    # Count\n",
    "    number_unique_not_supported_category_variants = len(set(category_df.variant_id))\n",
    "    not_supported_variant_categories_summary_data[category][\n",
    "        \"number_unique_not_supported_category_variants\"\n",
    "    ] = number_unique_not_supported_category_variants\n",
    "\n",
    "    # Fraction\n",
    "    fraction_not_supported_category_variant_of_civic = (\n",
    "        f\"{number_unique_not_supported_category_variants} / {total_number_variants}\"\n",
    "    )\n",
    "    not_supported_variant_categories_summary_data[category][\n",
    "        \"fraction_not_supported_category_variant_of_civic\"\n",
    "    ] = fraction_not_supported_category_variant_of_civic\n",
    "\n",
    "    # Percent\n",
    "    percent_not_supported_category_variant_of_civic = f\"{number_unique_not_supported_category_variants / total_number_variants * 100:.2f}%\"\n",
    "    not_supported_variant_categories_summary_data[category][\n",
    "        \"percent_not_supported_category_variant_of_civic\"\n",
    "    ] = percent_not_supported_category_variant_of_civic\n",
    "\n",
    "    # Not supported fraction\n",
    "    fraction_not_supported_category_variant_of_total_not_supported = f\"{number_unique_not_supported_category_variants} / {total_number_unique_not_supported_variants}\"\n",
    "    not_supported_variant_categories_summary_data[category][\n",
    "        \"fraction_not_supported_category_variant_of_total_not_supported\"\n",
    "    ] = fraction_not_supported_category_variant_of_total_not_supported\n",
    "\n",
    "    # Not supported percent\n",
    "    percent_not_supported_category_variant_of_total_not_supported = f\"{number_unique_not_supported_category_variants / total_number_unique_not_supported_variants * 100:.2f}%\"\n",
    "    not_supported_variant_categories_summary_data[category][\n",
    "        \"percent_not_supported_category_variant_of_total_not_supported\"\n",
    "    ] = percent_not_supported_category_variant_of_total_not_supported\n",
    "\n",
    "    # Accepted fraction\n",
    "    number_accepted_not_supported_category_variants = category_df.variant_accepted.sum()\n",
    "    fraction_accepted_not_supported_category_variants = f\"{number_accepted_not_supported_category_variants} / {number_unique_not_supported_category_variants}\"\n",
    "    not_supported_variant_categories_summary_data[category][\n",
    "        \"fraction_accepted_not_supported_category_variants\"\n",
    "    ] = fraction_accepted_not_supported_category_variants\n",
    "\n",
    "    # Accepted percent\n",
    "    percentage_accepted_not_supported_category_variants = f\"{number_accepted_not_supported_category_variants / number_unique_not_supported_category_variants * 100:.2f}%\"\n",
    "    not_supported_variant_categories_summary_data[category][\n",
    "        \"percentage_accepted_not_supported_category_variants\"\n",
    "    ] = percentage_accepted_not_supported_category_variants\n",
    "\n",
    "    # Submitted fraction\n",
    "    number_submitted_not_supported_category_variants = (\n",
    "        len(category_df) - number_accepted_not_supported_category_variants\n",
    "    )\n",
    "    fraction_submitted_not_supported_category_variants = f\" {number_submitted_not_supported_category_variants} / {number_unique_not_supported_category_variants}\"\n",
    "    not_supported_variant_categories_summary_data[category][\n",
    "        \"fraction_submitted_not_supported_category_variants\"\n",
    "    ] = fraction_submitted_not_supported_category_variants\n",
    "\n",
    "    # Submitted percent\n",
    "    percentage_submitted_not_supported_category_variants = f\"{number_submitted_not_supported_category_variants / number_unique_not_supported_category_variants * 100:.2f}%\"\n",
    "    not_supported_variant_categories_summary_data[category][\n",
    "        \"percentage_submitted_not_supported_category_variants\"\n",
    "    ] = percentage_submitted_not_supported_category_variants\n",
    "\n",
    "    not_supported_variant_analysis_summary[\n",
    "        \"Count of CIViC Variants per Category\"\n",
    "    ].append(number_unique_not_supported_category_variants)\n",
    "    not_supported_variant_analysis_summary[\"Fraction of all CIViC Variants\"].append(\n",
    "        fraction_not_supported_category_variant_of_civic\n",
    "    )\n",
    "    not_supported_variant_analysis_summary[\"Percent of all CIViC Variants\"].append(\n",
    "        percent_not_supported_category_variant_of_civic\n",
    "    )\n",
    "    not_supported_variant_analysis_summary[\"Fraction of Not Supported Variants\"].append(\n",
    "        fraction_not_supported_category_variant_of_total_not_supported\n",
    "    )\n",
    "    not_supported_variant_analysis_summary[\"Percent of Not Supported Variants\"].append(\n",
    "        percent_not_supported_category_variant_of_total_not_supported\n",
    "    )\n",
    "    not_supported_variant_analysis_summary[\"Fraction of Accepted Variants\"].append(\n",
    "        fraction_accepted_not_supported_category_variants\n",
    "    )\n",
    "    not_supported_variant_analysis_summary[\"Percent of Accepted Variants\"].append(\n",
    "        percentage_accepted_not_supported_category_variants\n",
    "    )\n",
    "    not_supported_variant_analysis_summary[\"Fraction of Submitted Variants\"].append(\n",
    "        fraction_submitted_not_supported_category_variants\n",
    "    )\n",
    "    not_supported_variant_analysis_summary[\"Percent of Submitted Variants\"].append(\n",
    "        percentage_submitted_not_supported_category_variants\n",
    "    )"
   ]
  },
  {
   "cell_type": "markdown",
   "metadata": {},
   "source": [
    "## <a id='toc5_3_'></a>[Transform df for evidence analysis](#toc0_)"
   ]
  },
  {
   "cell_type": "code",
   "execution_count": 40,
   "metadata": {},
   "outputs": [
    {
     "data": {
      "text/html": [
       "<div>\n",
       "<style scoped>\n",
       "    .dataframe tbody tr th:only-of-type {\n",
       "        vertical-align: middle;\n",
       "    }\n",
       "\n",
       "    .dataframe tbody tr th {\n",
       "        vertical-align: top;\n",
       "    }\n",
       "\n",
       "    .dataframe thead th {\n",
       "        text-align: right;\n",
       "    }\n",
       "</style>\n",
       "<table border=\"1\" class=\"dataframe\">\n",
       "  <thead>\n",
       "    <tr style=\"text-align: right;\">\n",
       "      <th></th>\n",
       "      <th>variant_id</th>\n",
       "      <th>gene_name</th>\n",
       "      <th>variant_name</th>\n",
       "      <th>civic_variant_types</th>\n",
       "      <th>category</th>\n",
       "      <th>variant_accepted</th>\n",
       "      <th>evidence_id</th>\n",
       "    </tr>\n",
       "  </thead>\n",
       "  <tbody>\n",
       "    <tr>\n",
       "      <th>0</th>\n",
       "      <td>4170</td>\n",
       "      <td>VHL</td>\n",
       "      <td>NaN</td>\n",
       "      <td>Not provided</td>\n",
       "      <td>Transcript</td>\n",
       "      <td>False</td>\n",
       "      <td>10647</td>\n",
       "    </tr>\n",
       "    <tr>\n",
       "      <th>1</th>\n",
       "      <td>4214</td>\n",
       "      <td>VHL</td>\n",
       "      <td>NaN</td>\n",
       "      <td>Not provided</td>\n",
       "      <td>Transcript</td>\n",
       "      <td>False</td>\n",
       "      <td>10752</td>\n",
       "    </tr>\n",
       "    <tr>\n",
       "      <th>2</th>\n",
       "      <td>4216</td>\n",
       "      <td>VHL</td>\n",
       "      <td>NaN</td>\n",
       "      <td>Not provided</td>\n",
       "      <td>Transcript</td>\n",
       "      <td>False</td>\n",
       "      <td>10754</td>\n",
       "    </tr>\n",
       "    <tr>\n",
       "      <th>3</th>\n",
       "      <td>4278</td>\n",
       "      <td>VHL</td>\n",
       "      <td>NaN</td>\n",
       "      <td>Not provided</td>\n",
       "      <td>Transcript</td>\n",
       "      <td>False</td>\n",
       "      <td>10958</td>\n",
       "    </tr>\n",
       "    <tr>\n",
       "      <th>4</th>\n",
       "      <td>4232</td>\n",
       "      <td>BRCA1</td>\n",
       "      <td>NaN</td>\n",
       "      <td>Not provided</td>\n",
       "      <td>Transcript</td>\n",
       "      <td>False</td>\n",
       "      <td>7164</td>\n",
       "    </tr>\n",
       "    <tr>\n",
       "      <th>...</th>\n",
       "      <td>...</td>\n",
       "      <td>...</td>\n",
       "      <td>...</td>\n",
       "      <td>...</td>\n",
       "      <td>...</td>\n",
       "      <td>...</td>\n",
       "      <td>...</td>\n",
       "    </tr>\n",
       "    <tr>\n",
       "      <th>1744</th>\n",
       "      <td>3478</td>\n",
       "      <td>ESR2</td>\n",
       "      <td>underexpression beta-1</td>\n",
       "      <td>Not provided</td>\n",
       "      <td>Other</td>\n",
       "      <td>False</td>\n",
       "      <td>9613</td>\n",
       "    </tr>\n",
       "    <tr>\n",
       "      <th>1744</th>\n",
       "      <td>3478</td>\n",
       "      <td>ESR2</td>\n",
       "      <td>underexpression beta-1</td>\n",
       "      <td>Not provided</td>\n",
       "      <td>Other</td>\n",
       "      <td>False</td>\n",
       "      <td>9618</td>\n",
       "    </tr>\n",
       "    <tr>\n",
       "      <th>1744</th>\n",
       "      <td>3478</td>\n",
       "      <td>ESR2</td>\n",
       "      <td>underexpression beta-1</td>\n",
       "      <td>Not provided</td>\n",
       "      <td>Other</td>\n",
       "      <td>False</td>\n",
       "      <td>9619</td>\n",
       "    </tr>\n",
       "    <tr>\n",
       "      <th>1745</th>\n",
       "      <td>3508</td>\n",
       "      <td>CD274</td>\n",
       "      <td>v242</td>\n",
       "      <td>Not provided</td>\n",
       "      <td>Sequence</td>\n",
       "      <td>False</td>\n",
       "      <td>9695</td>\n",
       "    </tr>\n",
       "    <tr>\n",
       "      <th>1746</th>\n",
       "      <td>5159</td>\n",
       "      <td>NaN</td>\n",
       "      <td>v::C19MC fusion</td>\n",
       "      <td>Not provided</td>\n",
       "      <td>Region-Defined</td>\n",
       "      <td>True</td>\n",
       "      <td>12391</td>\n",
       "    </tr>\n",
       "  </tbody>\n",
       "</table>\n",
       "<p>5123 rows × 7 columns</p>\n",
       "</div>"
      ],
      "text/plain": [
       "      variant_id gene_name            variant_name civic_variant_types  \\\n",
       "0           4170       VHL                     NaN        Not provided   \n",
       "1           4214       VHL                     NaN        Not provided   \n",
       "2           4216       VHL                     NaN        Not provided   \n",
       "3           4278       VHL                     NaN        Not provided   \n",
       "4           4232     BRCA1                     NaN        Not provided   \n",
       "...          ...       ...                     ...                 ...   \n",
       "1744        3478      ESR2  underexpression beta-1        Not provided   \n",
       "1744        3478      ESR2  underexpression beta-1        Not provided   \n",
       "1744        3478      ESR2  underexpression beta-1        Not provided   \n",
       "1745        3508     CD274                    v242        Not provided   \n",
       "1746        5159       NaN         v::C19MC fusion        Not provided   \n",
       "\n",
       "            category  variant_accepted evidence_id  \n",
       "0         Transcript             False       10647  \n",
       "1         Transcript             False       10752  \n",
       "2         Transcript             False       10754  \n",
       "3         Transcript             False       10958  \n",
       "4         Transcript             False        7164  \n",
       "...              ...               ...         ...  \n",
       "1744           Other             False        9613  \n",
       "1744           Other             False        9618  \n",
       "1744           Other             False        9619  \n",
       "1745        Sequence             False        9695  \n",
       "1746  Region-Defined              True       12391  \n",
       "\n",
       "[5123 rows x 7 columns]"
      ]
     },
     "execution_count": 40,
     "metadata": {},
     "output_type": "execute_result"
    }
   ],
   "source": [
    "not_supported_variants_add_evidence_df = transform_df_evidence_ids(\n",
    "    not_supported_queries_df\n",
    ")\n",
    "not_supported_variants_add_evidence_df"
   ]
  },
  {
   "cell_type": "markdown",
   "metadata": {},
   "source": [
    "There are some variants without evidence items. These variants were excluded from the impact analysis since they cannot contribute a variant impact score."
   ]
  },
  {
   "cell_type": "code",
   "execution_count": 41,
   "metadata": {},
   "outputs": [
    {
     "data": {
      "text/html": [
       "<div>\n",
       "<style scoped>\n",
       "    .dataframe tbody tr th:only-of-type {\n",
       "        vertical-align: middle;\n",
       "    }\n",
       "\n",
       "    .dataframe tbody tr th {\n",
       "        vertical-align: top;\n",
       "    }\n",
       "\n",
       "    .dataframe thead th {\n",
       "        text-align: right;\n",
       "    }\n",
       "</style>\n",
       "<table border=\"1\" class=\"dataframe\">\n",
       "  <thead>\n",
       "    <tr style=\"text-align: right;\">\n",
       "      <th></th>\n",
       "      <th>variant_id</th>\n",
       "      <th>gene_name</th>\n",
       "      <th>variant_name</th>\n",
       "      <th>civic_variant_types</th>\n",
       "      <th>category</th>\n",
       "      <th>variant_accepted</th>\n",
       "      <th>evidence_id</th>\n",
       "    </tr>\n",
       "  </thead>\n",
       "  <tbody>\n",
       "    <tr>\n",
       "      <th>47</th>\n",
       "      <td>5163</td>\n",
       "      <td>NaN</td>\n",
       "      <td>Alterations</td>\n",
       "      <td>Not provided</td>\n",
       "      <td>Region-Defined</td>\n",
       "      <td>False</td>\n",
       "      <td></td>\n",
       "    </tr>\n",
       "    <tr>\n",
       "      <th>530</th>\n",
       "      <td>4537</td>\n",
       "      <td>NaN</td>\n",
       "      <td>Fusion</td>\n",
       "      <td>Transcript Fusion</td>\n",
       "      <td>Fusion</td>\n",
       "      <td>False</td>\n",
       "      <td></td>\n",
       "    </tr>\n",
       "  </tbody>\n",
       "</table>\n",
       "</div>"
      ],
      "text/plain": [
       "     variant_id gene_name variant_name civic_variant_types        category  \\\n",
       "47         5163       NaN  Alterations        Not provided  Region-Defined   \n",
       "530        4537       NaN       Fusion   Transcript Fusion          Fusion   \n",
       "\n",
       "     variant_accepted evidence_id  \n",
       "47              False              \n",
       "530             False              "
      ]
     },
     "execution_count": 41,
     "metadata": {},
     "output_type": "execute_result"
    }
   ],
   "source": [
    "not_supported_variants_add_evidence_df.loc[\n",
    "    not_supported_variants_add_evidence_df[\"evidence_id\"] == \"\"\n",
    "]"
   ]
  },
  {
   "cell_type": "code",
   "execution_count": 42,
   "metadata": {},
   "outputs": [
    {
     "data": {
      "text/html": [
       "<div>\n",
       "<style scoped>\n",
       "    .dataframe tbody tr th:only-of-type {\n",
       "        vertical-align: middle;\n",
       "    }\n",
       "\n",
       "    .dataframe tbody tr th {\n",
       "        vertical-align: top;\n",
       "    }\n",
       "\n",
       "    .dataframe thead th {\n",
       "        text-align: right;\n",
       "    }\n",
       "</style>\n",
       "<table border=\"1\" class=\"dataframe\">\n",
       "  <thead>\n",
       "    <tr style=\"text-align: right;\">\n",
       "      <th></th>\n",
       "      <th>variant_id</th>\n",
       "      <th>gene_name</th>\n",
       "      <th>variant_name</th>\n",
       "      <th>civic_variant_types</th>\n",
       "      <th>category</th>\n",
       "      <th>variant_accepted</th>\n",
       "      <th>evidence_id</th>\n",
       "      <th>evidence_status</th>\n",
       "      <th>evidence_rating</th>\n",
       "      <th>evidence_level</th>\n",
       "    </tr>\n",
       "  </thead>\n",
       "  <tbody>\n",
       "    <tr>\n",
       "      <th>0</th>\n",
       "      <td>4170</td>\n",
       "      <td>VHL</td>\n",
       "      <td>NaN</td>\n",
       "      <td>Not provided</td>\n",
       "      <td>Transcript</td>\n",
       "      <td>False</td>\n",
       "      <td>10647</td>\n",
       "      <td>submitted</td>\n",
       "      <td>[2]</td>\n",
       "      <td>[C]</td>\n",
       "    </tr>\n",
       "    <tr>\n",
       "      <th>1</th>\n",
       "      <td>4214</td>\n",
       "      <td>VHL</td>\n",
       "      <td>NaN</td>\n",
       "      <td>Not provided</td>\n",
       "      <td>Transcript</td>\n",
       "      <td>False</td>\n",
       "      <td>10752</td>\n",
       "      <td>submitted</td>\n",
       "      <td>[3]</td>\n",
       "      <td>[C]</td>\n",
       "    </tr>\n",
       "    <tr>\n",
       "      <th>2</th>\n",
       "      <td>4216</td>\n",
       "      <td>VHL</td>\n",
       "      <td>NaN</td>\n",
       "      <td>Not provided</td>\n",
       "      <td>Transcript</td>\n",
       "      <td>False</td>\n",
       "      <td>10754</td>\n",
       "      <td>submitted</td>\n",
       "      <td>[3]</td>\n",
       "      <td>[C]</td>\n",
       "    </tr>\n",
       "    <tr>\n",
       "      <th>3</th>\n",
       "      <td>4278</td>\n",
       "      <td>VHL</td>\n",
       "      <td>NaN</td>\n",
       "      <td>Not provided</td>\n",
       "      <td>Transcript</td>\n",
       "      <td>False</td>\n",
       "      <td>10958</td>\n",
       "      <td>submitted</td>\n",
       "      <td>[3]</td>\n",
       "      <td>[C]</td>\n",
       "    </tr>\n",
       "    <tr>\n",
       "      <th>4</th>\n",
       "      <td>4232</td>\n",
       "      <td>BRCA1</td>\n",
       "      <td>NaN</td>\n",
       "      <td>Not provided</td>\n",
       "      <td>Transcript</td>\n",
       "      <td>False</td>\n",
       "      <td>7164</td>\n",
       "      <td>submitted</td>\n",
       "      <td>[3]</td>\n",
       "      <td>[C]</td>\n",
       "    </tr>\n",
       "    <tr>\n",
       "      <th>...</th>\n",
       "      <td>...</td>\n",
       "      <td>...</td>\n",
       "      <td>...</td>\n",
       "      <td>...</td>\n",
       "      <td>...</td>\n",
       "      <td>...</td>\n",
       "      <td>...</td>\n",
       "      <td>...</td>\n",
       "      <td>...</td>\n",
       "      <td>...</td>\n",
       "    </tr>\n",
       "    <tr>\n",
       "      <th>1744</th>\n",
       "      <td>3478</td>\n",
       "      <td>ESR2</td>\n",
       "      <td>underexpression beta-1</td>\n",
       "      <td>Not provided</td>\n",
       "      <td>Other</td>\n",
       "      <td>False</td>\n",
       "      <td>9613</td>\n",
       "      <td>submitted</td>\n",
       "      <td>[4]</td>\n",
       "      <td>[B]</td>\n",
       "    </tr>\n",
       "    <tr>\n",
       "      <th>1744</th>\n",
       "      <td>3478</td>\n",
       "      <td>ESR2</td>\n",
       "      <td>underexpression beta-1</td>\n",
       "      <td>Not provided</td>\n",
       "      <td>Other</td>\n",
       "      <td>False</td>\n",
       "      <td>9618</td>\n",
       "      <td>submitted</td>\n",
       "      <td>[4]</td>\n",
       "      <td>[B]</td>\n",
       "    </tr>\n",
       "    <tr>\n",
       "      <th>1744</th>\n",
       "      <td>3478</td>\n",
       "      <td>ESR2</td>\n",
       "      <td>underexpression beta-1</td>\n",
       "      <td>Not provided</td>\n",
       "      <td>Other</td>\n",
       "      <td>False</td>\n",
       "      <td>9619</td>\n",
       "      <td>submitted</td>\n",
       "      <td>[4]</td>\n",
       "      <td>[B]</td>\n",
       "    </tr>\n",
       "    <tr>\n",
       "      <th>1745</th>\n",
       "      <td>3508</td>\n",
       "      <td>CD274</td>\n",
       "      <td>v242</td>\n",
       "      <td>Not provided</td>\n",
       "      <td>Sequence</td>\n",
       "      <td>False</td>\n",
       "      <td>9695</td>\n",
       "      <td>submitted</td>\n",
       "      <td>[4]</td>\n",
       "      <td>[E]</td>\n",
       "    </tr>\n",
       "    <tr>\n",
       "      <th>1746</th>\n",
       "      <td>5159</td>\n",
       "      <td>NaN</td>\n",
       "      <td>v::C19MC fusion</td>\n",
       "      <td>Not provided</td>\n",
       "      <td>Region-Defined</td>\n",
       "      <td>True</td>\n",
       "      <td>12391</td>\n",
       "      <td>accepted</td>\n",
       "      <td>[5]</td>\n",
       "      <td>[A]</td>\n",
       "    </tr>\n",
       "  </tbody>\n",
       "</table>\n",
       "<p>5123 rows × 10 columns</p>\n",
       "</div>"
      ],
      "text/plain": [
       "      variant_id gene_name            variant_name civic_variant_types  \\\n",
       "0           4170       VHL                     NaN        Not provided   \n",
       "1           4214       VHL                     NaN        Not provided   \n",
       "2           4216       VHL                     NaN        Not provided   \n",
       "3           4278       VHL                     NaN        Not provided   \n",
       "4           4232     BRCA1                     NaN        Not provided   \n",
       "...          ...       ...                     ...                 ...   \n",
       "1744        3478      ESR2  underexpression beta-1        Not provided   \n",
       "1744        3478      ESR2  underexpression beta-1        Not provided   \n",
       "1744        3478      ESR2  underexpression beta-1        Not provided   \n",
       "1745        3508     CD274                    v242        Not provided   \n",
       "1746        5159       NaN         v::C19MC fusion        Not provided   \n",
       "\n",
       "            category  variant_accepted evidence_id evidence_status  \\\n",
       "0         Transcript             False       10647       submitted   \n",
       "1         Transcript             False       10752       submitted   \n",
       "2         Transcript             False       10754       submitted   \n",
       "3         Transcript             False       10958       submitted   \n",
       "4         Transcript             False        7164       submitted   \n",
       "...              ...               ...         ...             ...   \n",
       "1744           Other             False        9613       submitted   \n",
       "1744           Other             False        9618       submitted   \n",
       "1744           Other             False        9619       submitted   \n",
       "1745        Sequence             False        9695       submitted   \n",
       "1746  Region-Defined              True       12391        accepted   \n",
       "\n",
       "     evidence_rating evidence_level  \n",
       "0                [2]            [C]  \n",
       "1                [3]            [C]  \n",
       "2                [3]            [C]  \n",
       "3                [3]            [C]  \n",
       "4                [3]            [C]  \n",
       "...              ...            ...  \n",
       "1744             [4]            [B]  \n",
       "1744             [4]            [B]  \n",
       "1744             [4]            [B]  \n",
       "1745             [4]            [E]  \n",
       "1746             [5]            [A]  \n",
       "\n",
       "[5123 rows x 10 columns]"
      ]
     },
     "execution_count": 42,
     "metadata": {},
     "output_type": "execute_result"
    }
   ],
   "source": [
    "not_supported_variants_add_evidence_df = transform_df_evidence(\n",
    "    not_supported_variants_add_evidence_df\n",
    ")\n",
    "not_supported_variants_add_evidence_df"
   ]
  },
  {
   "cell_type": "markdown",
   "metadata": {},
   "source": [
    "## <a id='toc5_4_'></a>[Evidence analysis](#toc0_)"
   ]
  },
  {
   "cell_type": "code",
   "execution_count": 43,
   "metadata": {},
   "outputs": [
    {
     "name": "stdout",
     "output_type": "stream",
     "text": [
      "Number of Not Supported Variant Evidence items in CIViC: 4926 / 10850\n",
      "Percent of Not Supported Variant Evidence items in CIViC: 45.40%\n",
      "\n",
      "Number of accepted Not Supported Variant Evidence items: 2558 / 4926\n",
      "Percent of accepted Not Supported Variant Evidence items: 51.93%\n",
      "\n",
      "Number of submitted Not Supported Variant Evidence items: 2368 / 4926\n",
      "Percent of submitted Not Supported Variant Evidence items: 48.07%\n"
     ]
    },
    {
     "data": {
      "text/html": [
       "<div>\n",
       "<style scoped>\n",
       "    .dataframe tbody tr th:only-of-type {\n",
       "        vertical-align: middle;\n",
       "    }\n",
       "\n",
       "    .dataframe tbody tr th {\n",
       "        vertical-align: top;\n",
       "    }\n",
       "\n",
       "    .dataframe thead th {\n",
       "        text-align: right;\n",
       "    }\n",
       "</style>\n",
       "<table border=\"1\" class=\"dataframe\">\n",
       "  <thead>\n",
       "    <tr style=\"text-align: right;\">\n",
       "      <th></th>\n",
       "      <th>variant_id</th>\n",
       "      <th>gene_name</th>\n",
       "      <th>variant_name</th>\n",
       "      <th>civic_variant_types</th>\n",
       "      <th>category</th>\n",
       "      <th>variant_accepted</th>\n",
       "      <th>evidence_id</th>\n",
       "      <th>evidence_status</th>\n",
       "      <th>evidence_rating</th>\n",
       "      <th>evidence_level</th>\n",
       "      <th>evidence_accepted</th>\n",
       "    </tr>\n",
       "  </thead>\n",
       "  <tbody>\n",
       "    <tr>\n",
       "      <th>0</th>\n",
       "      <td>4170</td>\n",
       "      <td>VHL</td>\n",
       "      <td>NaN</td>\n",
       "      <td>Not provided</td>\n",
       "      <td>Transcript</td>\n",
       "      <td>False</td>\n",
       "      <td>10647</td>\n",
       "      <td>submitted</td>\n",
       "      <td>[2]</td>\n",
       "      <td>[C]</td>\n",
       "      <td>False</td>\n",
       "    </tr>\n",
       "    <tr>\n",
       "      <th>1</th>\n",
       "      <td>4214</td>\n",
       "      <td>VHL</td>\n",
       "      <td>NaN</td>\n",
       "      <td>Not provided</td>\n",
       "      <td>Transcript</td>\n",
       "      <td>False</td>\n",
       "      <td>10752</td>\n",
       "      <td>submitted</td>\n",
       "      <td>[3]</td>\n",
       "      <td>[C]</td>\n",
       "      <td>False</td>\n",
       "    </tr>\n",
       "    <tr>\n",
       "      <th>2</th>\n",
       "      <td>4216</td>\n",
       "      <td>VHL</td>\n",
       "      <td>NaN</td>\n",
       "      <td>Not provided</td>\n",
       "      <td>Transcript</td>\n",
       "      <td>False</td>\n",
       "      <td>10754</td>\n",
       "      <td>submitted</td>\n",
       "      <td>[3]</td>\n",
       "      <td>[C]</td>\n",
       "      <td>False</td>\n",
       "    </tr>\n",
       "    <tr>\n",
       "      <th>3</th>\n",
       "      <td>4278</td>\n",
       "      <td>VHL</td>\n",
       "      <td>NaN</td>\n",
       "      <td>Not provided</td>\n",
       "      <td>Transcript</td>\n",
       "      <td>False</td>\n",
       "      <td>10958</td>\n",
       "      <td>submitted</td>\n",
       "      <td>[3]</td>\n",
       "      <td>[C]</td>\n",
       "      <td>False</td>\n",
       "    </tr>\n",
       "    <tr>\n",
       "      <th>4</th>\n",
       "      <td>4232</td>\n",
       "      <td>BRCA1</td>\n",
       "      <td>NaN</td>\n",
       "      <td>Not provided</td>\n",
       "      <td>Transcript</td>\n",
       "      <td>False</td>\n",
       "      <td>7164</td>\n",
       "      <td>submitted</td>\n",
       "      <td>[3]</td>\n",
       "      <td>[C]</td>\n",
       "      <td>False</td>\n",
       "    </tr>\n",
       "    <tr>\n",
       "      <th>...</th>\n",
       "      <td>...</td>\n",
       "      <td>...</td>\n",
       "      <td>...</td>\n",
       "      <td>...</td>\n",
       "      <td>...</td>\n",
       "      <td>...</td>\n",
       "      <td>...</td>\n",
       "      <td>...</td>\n",
       "      <td>...</td>\n",
       "      <td>...</td>\n",
       "      <td>...</td>\n",
       "    </tr>\n",
       "    <tr>\n",
       "      <th>1744</th>\n",
       "      <td>3478</td>\n",
       "      <td>ESR2</td>\n",
       "      <td>underexpression beta-1</td>\n",
       "      <td>Not provided</td>\n",
       "      <td>Other</td>\n",
       "      <td>False</td>\n",
       "      <td>9613</td>\n",
       "      <td>submitted</td>\n",
       "      <td>[4]</td>\n",
       "      <td>[B]</td>\n",
       "      <td>False</td>\n",
       "    </tr>\n",
       "    <tr>\n",
       "      <th>1744</th>\n",
       "      <td>3478</td>\n",
       "      <td>ESR2</td>\n",
       "      <td>underexpression beta-1</td>\n",
       "      <td>Not provided</td>\n",
       "      <td>Other</td>\n",
       "      <td>False</td>\n",
       "      <td>9618</td>\n",
       "      <td>submitted</td>\n",
       "      <td>[4]</td>\n",
       "      <td>[B]</td>\n",
       "      <td>False</td>\n",
       "    </tr>\n",
       "    <tr>\n",
       "      <th>1744</th>\n",
       "      <td>3478</td>\n",
       "      <td>ESR2</td>\n",
       "      <td>underexpression beta-1</td>\n",
       "      <td>Not provided</td>\n",
       "      <td>Other</td>\n",
       "      <td>False</td>\n",
       "      <td>9619</td>\n",
       "      <td>submitted</td>\n",
       "      <td>[4]</td>\n",
       "      <td>[B]</td>\n",
       "      <td>False</td>\n",
       "    </tr>\n",
       "    <tr>\n",
       "      <th>1745</th>\n",
       "      <td>3508</td>\n",
       "      <td>CD274</td>\n",
       "      <td>v242</td>\n",
       "      <td>Not provided</td>\n",
       "      <td>Sequence</td>\n",
       "      <td>False</td>\n",
       "      <td>9695</td>\n",
       "      <td>submitted</td>\n",
       "      <td>[4]</td>\n",
       "      <td>[E]</td>\n",
       "      <td>False</td>\n",
       "    </tr>\n",
       "    <tr>\n",
       "      <th>1746</th>\n",
       "      <td>5159</td>\n",
       "      <td>NaN</td>\n",
       "      <td>v::C19MC fusion</td>\n",
       "      <td>Not provided</td>\n",
       "      <td>Region-Defined</td>\n",
       "      <td>True</td>\n",
       "      <td>12391</td>\n",
       "      <td>accepted</td>\n",
       "      <td>[5]</td>\n",
       "      <td>[A]</td>\n",
       "      <td>True</td>\n",
       "    </tr>\n",
       "  </tbody>\n",
       "</table>\n",
       "<p>5123 rows × 11 columns</p>\n",
       "</div>"
      ],
      "text/plain": [
       "      variant_id gene_name            variant_name civic_variant_types  \\\n",
       "0           4170       VHL                     NaN        Not provided   \n",
       "1           4214       VHL                     NaN        Not provided   \n",
       "2           4216       VHL                     NaN        Not provided   \n",
       "3           4278       VHL                     NaN        Not provided   \n",
       "4           4232     BRCA1                     NaN        Not provided   \n",
       "...          ...       ...                     ...                 ...   \n",
       "1744        3478      ESR2  underexpression beta-1        Not provided   \n",
       "1744        3478      ESR2  underexpression beta-1        Not provided   \n",
       "1744        3478      ESR2  underexpression beta-1        Not provided   \n",
       "1745        3508     CD274                    v242        Not provided   \n",
       "1746        5159       NaN         v::C19MC fusion        Not provided   \n",
       "\n",
       "            category  variant_accepted evidence_id evidence_status  \\\n",
       "0         Transcript             False       10647       submitted   \n",
       "1         Transcript             False       10752       submitted   \n",
       "2         Transcript             False       10754       submitted   \n",
       "3         Transcript             False       10958       submitted   \n",
       "4         Transcript             False        7164       submitted   \n",
       "...              ...               ...         ...             ...   \n",
       "1744           Other             False        9613       submitted   \n",
       "1744           Other             False        9618       submitted   \n",
       "1744           Other             False        9619       submitted   \n",
       "1745        Sequence             False        9695       submitted   \n",
       "1746  Region-Defined              True       12391        accepted   \n",
       "\n",
       "     evidence_rating evidence_level evidence_accepted  \n",
       "0                [2]            [C]             False  \n",
       "1                [3]            [C]             False  \n",
       "2                [3]            [C]             False  \n",
       "3                [3]            [C]             False  \n",
       "4                [3]            [C]             False  \n",
       "...              ...            ...               ...  \n",
       "1744             [4]            [B]             False  \n",
       "1744             [4]            [B]             False  \n",
       "1744             [4]            [B]             False  \n",
       "1745             [4]            [E]             False  \n",
       "1746             [5]            [A]              True  \n",
       "\n",
       "[5123 rows x 11 columns]"
      ]
     },
     "execution_count": 43,
     "metadata": {},
     "output_type": "execute_result"
    }
   ],
   "source": [
    "not_supported_variants_add_evidence_df = evidence_analysis(\n",
    "    not_supported_variants_add_evidence_df, VariantNormType.NOT_SUPPORTED\n",
    ")\n",
    "not_supported_variants_add_evidence_df"
   ]
  },
  {
   "cell_type": "markdown",
   "metadata": {},
   "source": [
    "### <a id='toc5_4_1_'></a>[Not Supported Variant Evidence Analysis by Subcategory](#toc0_)"
   ]
  },
  {
   "cell_type": "markdown",
   "metadata": {},
   "source": [
    " List all the possible variant categories, have to use non unique file since evidence items are used more than once across groups\n"
   ]
  },
  {
   "cell_type": "code",
   "execution_count": 44,
   "metadata": {},
   "outputs": [
    {
     "data": {
      "text/plain": [
       "['Transcript',\n",
       " 'Genotype/Haplotype',\n",
       " 'Sequence',\n",
       " 'Rearrangement',\n",
       " 'Region-Defined',\n",
       " 'Other',\n",
       " 'Copy Number',\n",
       " 'Fusion',\n",
       " 'Gene Function',\n",
       " 'Expression',\n",
       " 'Genome Feature',\n",
       " 'Epigenetic Modification']"
      ]
     },
     "execution_count": 44,
     "metadata": {},
     "output_type": "execute_result"
    }
   ],
   "source": [
    "not_supported_variant_categories = (\n",
    "    not_supported_variants_add_evidence_df.category.unique()\n",
    ")\n",
    "[v for v in not_supported_variant_categories]"
   ]
  },
  {
   "cell_type": "markdown",
   "metadata": {},
   "source": [
    "Evidence items may be used across multiple variants"
   ]
  },
  {
   "cell_type": "code",
   "execution_count": 45,
   "metadata": {},
   "outputs": [
    {
     "data": {
      "text/html": [
       "<div>\n",
       "<style scoped>\n",
       "    .dataframe tbody tr th:only-of-type {\n",
       "        vertical-align: middle;\n",
       "    }\n",
       "\n",
       "    .dataframe tbody tr th {\n",
       "        vertical-align: top;\n",
       "    }\n",
       "\n",
       "    .dataframe thead th {\n",
       "        text-align: right;\n",
       "    }\n",
       "</style>\n",
       "<table border=\"1\" class=\"dataframe\">\n",
       "  <thead>\n",
       "    <tr style=\"text-align: right;\">\n",
       "      <th></th>\n",
       "      <th>variant_id</th>\n",
       "      <th>gene_name</th>\n",
       "      <th>variant_name</th>\n",
       "      <th>civic_variant_types</th>\n",
       "      <th>category</th>\n",
       "      <th>variant_accepted</th>\n",
       "      <th>evidence_id</th>\n",
       "      <th>evidence_status</th>\n",
       "      <th>evidence_rating</th>\n",
       "      <th>evidence_level</th>\n",
       "      <th>evidence_accepted</th>\n",
       "    </tr>\n",
       "  </thead>\n",
       "  <tbody>\n",
       "    <tr>\n",
       "      <th>5</th>\n",
       "      <td>5005</td>\n",
       "      <td>HLA-A</td>\n",
       "      <td>*02:01P</td>\n",
       "      <td>Not provided</td>\n",
       "      <td>Genotype/Haplotype</td>\n",
       "      <td>False</td>\n",
       "      <td>12138</td>\n",
       "      <td>submitted</td>\n",
       "      <td>[4]</td>\n",
       "      <td>[A]</td>\n",
       "      <td>False</td>\n",
       "    </tr>\n",
       "    <tr>\n",
       "      <th>6</th>\n",
       "      <td>5006</td>\n",
       "      <td>HLA-A</td>\n",
       "      <td>*02:02P</td>\n",
       "      <td>Not provided</td>\n",
       "      <td>Genotype/Haplotype</td>\n",
       "      <td>False</td>\n",
       "      <td>12138</td>\n",
       "      <td>submitted</td>\n",
       "      <td>[4]</td>\n",
       "      <td>[A]</td>\n",
       "      <td>False</td>\n",
       "    </tr>\n",
       "    <tr>\n",
       "      <th>7</th>\n",
       "      <td>5007</td>\n",
       "      <td>HLA-A</td>\n",
       "      <td>*02:03P</td>\n",
       "      <td>Not provided</td>\n",
       "      <td>Genotype/Haplotype</td>\n",
       "      <td>False</td>\n",
       "      <td>12138</td>\n",
       "      <td>submitted</td>\n",
       "      <td>[4]</td>\n",
       "      <td>[A]</td>\n",
       "      <td>False</td>\n",
       "    </tr>\n",
       "    <tr>\n",
       "      <th>8</th>\n",
       "      <td>5008</td>\n",
       "      <td>HLA-A</td>\n",
       "      <td>*02:06P</td>\n",
       "      <td>Not provided</td>\n",
       "      <td>Genotype/Haplotype</td>\n",
       "      <td>False</td>\n",
       "      <td>12138</td>\n",
       "      <td>submitted</td>\n",
       "      <td>[4]</td>\n",
       "      <td>[A]</td>\n",
       "      <td>False</td>\n",
       "    </tr>\n",
       "    <tr>\n",
       "      <th>40</th>\n",
       "      <td>1296</td>\n",
       "      <td>CTNNB1</td>\n",
       "      <td>Activating Mutation</td>\n",
       "      <td>Gain Of Function Variant;Transcript Variant</td>\n",
       "      <td>Gene Function</td>\n",
       "      <td>True</td>\n",
       "      <td>12023</td>\n",
       "      <td>submitted</td>\n",
       "      <td>[2]</td>\n",
       "      <td>[A]</td>\n",
       "      <td>False</td>\n",
       "    </tr>\n",
       "    <tr>\n",
       "      <th>...</th>\n",
       "      <td>...</td>\n",
       "      <td>...</td>\n",
       "      <td>...</td>\n",
       "      <td>...</td>\n",
       "      <td>...</td>\n",
       "      <td>...</td>\n",
       "      <td>...</td>\n",
       "      <td>...</td>\n",
       "      <td>...</td>\n",
       "      <td>...</td>\n",
       "      <td>...</td>\n",
       "    </tr>\n",
       "    <tr>\n",
       "      <th>1624</th>\n",
       "      <td>4466</td>\n",
       "      <td>TERT</td>\n",
       "      <td>NaN</td>\n",
       "      <td>Not provided</td>\n",
       "      <td>Transcript</td>\n",
       "      <td>False</td>\n",
       "      <td>11278</td>\n",
       "      <td>submitted</td>\n",
       "      <td>[2]</td>\n",
       "      <td>[C]</td>\n",
       "      <td>False</td>\n",
       "    </tr>\n",
       "    <tr>\n",
       "      <th>1662</th>\n",
       "      <td>5027</td>\n",
       "      <td>NaN</td>\n",
       "      <td>e10::e18</td>\n",
       "      <td>Transcript Fusion</td>\n",
       "      <td>Fusion</td>\n",
       "      <td>False</td>\n",
       "      <td>11169</td>\n",
       "      <td>submitted</td>\n",
       "      <td>[1]</td>\n",
       "      <td>[C]</td>\n",
       "      <td>False</td>\n",
       "    </tr>\n",
       "    <tr>\n",
       "      <th>1683</th>\n",
       "      <td>5015</td>\n",
       "      <td>MAP2K4</td>\n",
       "      <td>loss-of-function Mutation</td>\n",
       "      <td>Not provided</td>\n",
       "      <td>Gene Function</td>\n",
       "      <td>False</td>\n",
       "      <td>12141</td>\n",
       "      <td>submitted</td>\n",
       "      <td>[3]</td>\n",
       "      <td>[D]</td>\n",
       "      <td>False</td>\n",
       "    </tr>\n",
       "    <tr>\n",
       "      <th>1689</th>\n",
       "      <td>4463</td>\n",
       "      <td>TSC1</td>\n",
       "      <td>mutation</td>\n",
       "      <td>Not provided</td>\n",
       "      <td>Region-Defined</td>\n",
       "      <td>False</td>\n",
       "      <td>11269</td>\n",
       "      <td>submitted</td>\n",
       "      <td>[4]</td>\n",
       "      <td>[A]</td>\n",
       "      <td>False</td>\n",
       "    </tr>\n",
       "    <tr>\n",
       "      <th>1690</th>\n",
       "      <td>4464</td>\n",
       "      <td>TSC2</td>\n",
       "      <td>mutation</td>\n",
       "      <td>Not provided</td>\n",
       "      <td>Region-Defined</td>\n",
       "      <td>False</td>\n",
       "      <td>11269</td>\n",
       "      <td>submitted</td>\n",
       "      <td>[4]</td>\n",
       "      <td>[A]</td>\n",
       "      <td>False</td>\n",
       "    </tr>\n",
       "  </tbody>\n",
       "</table>\n",
       "<p>334 rows × 11 columns</p>\n",
       "</div>"
      ],
      "text/plain": [
       "      variant_id gene_name               variant_name  \\\n",
       "5           5005     HLA-A                    *02:01P   \n",
       "6           5006     HLA-A                    *02:02P   \n",
       "7           5007     HLA-A                    *02:03P   \n",
       "8           5008     HLA-A                    *02:06P   \n",
       "40          1296    CTNNB1        Activating Mutation   \n",
       "...          ...       ...                        ...   \n",
       "1624        4466      TERT                        NaN   \n",
       "1662        5027       NaN                   e10::e18   \n",
       "1683        5015    MAP2K4  loss-of-function Mutation   \n",
       "1689        4463      TSC1                   mutation   \n",
       "1690        4464      TSC2                   mutation   \n",
       "\n",
       "                              civic_variant_types            category  \\\n",
       "5                                    Not provided  Genotype/Haplotype   \n",
       "6                                    Not provided  Genotype/Haplotype   \n",
       "7                                    Not provided  Genotype/Haplotype   \n",
       "8                                    Not provided  Genotype/Haplotype   \n",
       "40    Gain Of Function Variant;Transcript Variant       Gene Function   \n",
       "...                                           ...                 ...   \n",
       "1624                                 Not provided          Transcript   \n",
       "1662                            Transcript Fusion              Fusion   \n",
       "1683                                 Not provided       Gene Function   \n",
       "1689                                 Not provided      Region-Defined   \n",
       "1690                                 Not provided      Region-Defined   \n",
       "\n",
       "      variant_accepted evidence_id evidence_status evidence_rating  \\\n",
       "5                False       12138       submitted             [4]   \n",
       "6                False       12138       submitted             [4]   \n",
       "7                False       12138       submitted             [4]   \n",
       "8                False       12138       submitted             [4]   \n",
       "40                True       12023       submitted             [2]   \n",
       "...                ...         ...             ...             ...   \n",
       "1624             False       11278       submitted             [2]   \n",
       "1662             False       11169       submitted             [1]   \n",
       "1683             False       12141       submitted             [3]   \n",
       "1689             False       11269       submitted             [4]   \n",
       "1690             False       11269       submitted             [4]   \n",
       "\n",
       "     evidence_level evidence_accepted  \n",
       "5               [A]             False  \n",
       "6               [A]             False  \n",
       "7               [A]             False  \n",
       "8               [A]             False  \n",
       "40              [A]             False  \n",
       "...             ...               ...  \n",
       "1624            [C]             False  \n",
       "1662            [C]             False  \n",
       "1683            [D]             False  \n",
       "1689            [A]             False  \n",
       "1690            [A]             False  \n",
       "\n",
       "[334 rows x 11 columns]"
      ]
     },
     "execution_count": 45,
     "metadata": {},
     "output_type": "execute_result"
    }
   ],
   "source": [
    "duplicate = not_supported_variants_add_evidence_df[\n",
    "    not_supported_variants_add_evidence_df.duplicated(\"evidence_id\", keep=False)\n",
    "]\n",
    "duplicate"
   ]
  },
  {
   "cell_type": "code",
   "execution_count": 46,
   "metadata": {},
   "outputs": [],
   "source": [
    "not_supported_variant_evidence_summary = {\n",
    "    \"Category\": NOT_SUPPORTED_VARIANT_CATEGORY_VALUES,\n",
    "    \"Count of CIViC Evidence Items per Category\": [],\n",
    "    \"Fraction of all CIViC Evidence Items\": [],\n",
    "    \"Percent of all CIViC Evidence Items\": [],\n",
    "    \"Fraction of Not Supported Variant Evidence Items\": [],\n",
    "    \"Percent of Not Supported Variant Evidence Items\": [],\n",
    "    \"Fraction of Accepted Evidence Items\": [],\n",
    "    \"Percent of Accepted Evidence Items\": [],\n",
    "    \"Fraction of Submitted Evidence Items\": [],\n",
    "    \"Percent of Submitted Evidence Items\": [],\n",
    "}"
   ]
  },
  {
   "cell_type": "code",
   "execution_count": 47,
   "metadata": {},
   "outputs": [],
   "source": [
    "not_supported_variant_categories_evidence_summary_data = dict()\n",
    "total_number_not_supported_variant_unique_evidence_items = len(\n",
    "    set(not_supported_variants_add_evidence_df.evidence_id)\n",
    ")\n",
    "\n",
    "for category in NOT_SUPPORTED_VARIANT_CATEGORY_VALUES:\n",
    "    not_supported_variant_categories_evidence_summary_data[category] = {}\n",
    "    evidence_category_df = not_supported_variants_add_evidence_df[\n",
    "        not_supported_variants_add_evidence_df.category == category\n",
    "    ]\n",
    " \n",
    "    # Count\n",
    "    number_unique_not_supported_category_evidence = len(\n",
    "        set(evidence_category_df.evidence_id)\n",
    "    )\n",
    "    not_supported_variant_categories_evidence_summary_data[category][\n",
    "        \"number_unique_not_supported_category_evidence\"\n",
    "    ] = number_unique_not_supported_category_evidence\n",
    "\n",
    "    # Fraction\n",
    "    fraction_not_supported_category_variant_evidence_of_civic = (\n",
    "        f\"{number_unique_not_supported_category_evidence} / {total_ac_sub_evidence}\"\n",
    "    )\n",
    "    not_supported_variant_categories_evidence_summary_data[category][\n",
    "        \"fraction_not_supported_category_variant_evidence_of_civic\"\n",
    "    ] = fraction_not_supported_category_variant_evidence_of_civic\n",
    "\n",
    "    # Percent\n",
    "    percent_not_supported_category_variant_evidence_of_civic = f\"{number_unique_not_supported_category_evidence / total_ac_sub_evidence * 100:.2f}%\"\n",
    "    not_supported_variant_categories_evidence_summary_data[category][\n",
    "        \"percent_not_supported_category_variant_evidence_of_civic\"\n",
    "    ] = percent_not_supported_category_variant_evidence_of_civic\n",
    "\n",
    "    # Not supported fraction\n",
    "    fraction_not_supported_category_variant_evidence_of_total_not_supported = f\"{number_unique_not_supported_category_evidence} / {total_number_not_supported_variant_unique_evidence_items}\"\n",
    "    not_supported_variant_categories_evidence_summary_data[category][\n",
    "        \"fraction_not_supported_category_variant_evidence_of_total_not_supported\"\n",
    "    ] = fraction_not_supported_category_variant_evidence_of_total_not_supported\n",
    "\n",
    "    # Not supported percent\n",
    "    percent_not_supported_category_variant_evidence_of_total_not_supported = f\"{number_unique_not_supported_category_evidence / total_number_not_supported_variant_unique_evidence_items * 100:.2f}%\"\n",
    "    not_supported_variant_categories_evidence_summary_data[category][\n",
    "        \"percent_not_supported_category_variant_evidence_of_total_not_supported\"\n",
    "    ] = percent_not_supported_category_variant_evidence_of_total_not_supported\n",
    "\n",
    "    # Accepted fraction\n",
    "    number_accepted_not_supported_category_variant_evidence = (\n",
    "        evidence_category_df.evidence_accepted.sum()\n",
    "    )\n",
    "    fraction_accepted_evidence_not_supported_category_variants = f\"{number_accepted_not_supported_category_variant_evidence} / {number_unique_not_supported_category_evidence}\"\n",
    "    not_supported_variant_categories_evidence_summary_data[category][\n",
    "        \"fraction_accepted_evidence_not_supported_category_variants\"\n",
    "    ] = fraction_accepted_evidence_not_supported_category_variants\n",
    "\n",
    "    # Accepted percent\n",
    "    percentage_accepted_evidence_not_supported_category_variants = f\"{number_accepted_not_supported_category_variant_evidence / number_unique_not_supported_category_evidence * 100:.2f}%\"\n",
    "    not_supported_variant_categories_evidence_summary_data[category][\n",
    "        \"percentage_accepted_evidence_not_supported_category_variants\"\n",
    "    ] = percentage_accepted_evidence_not_supported_category_variants\n",
    "\n",
    "    # Submitted fraction\n",
    "    number_submitted_not_supported_category_variant_evidence = (\n",
    "        number_unique_not_supported_category_evidence\n",
    "        - evidence_category_df.evidence_accepted.sum()\n",
    "    )\n",
    "    fraction_submitted_evidence_not_supported_category_variants = f\"{number_submitted_not_supported_category_variant_evidence} / {number_unique_not_supported_category_evidence}\"\n",
    "    not_supported_variant_categories_evidence_summary_data[category][\n",
    "        \"fraction_submitted_evidence_not_supported_category_variants\"\n",
    "    ] = fraction_submitted_evidence_not_supported_category_variants\n",
    "\n",
    "    # Submitted percent\n",
    "    percentage_submitted_evidence_not_supported_category_variants = f\"{number_submitted_not_supported_category_variant_evidence / number_unique_not_supported_category_evidence * 100:.2f}%\"\n",
    "    not_supported_variant_categories_evidence_summary_data[category][\n",
    "        \"percentage_submitted_evidence_not_supported_category_variants\"\n",
    "    ] = percentage_submitted_evidence_not_supported_category_variants\n",
    "\n",
    "    not_supported_variant_evidence_summary[\n",
    "        \"Count of CIViC Evidence Items per Category\"\n",
    "    ].append(number_unique_not_supported_category_evidence)\n",
    "    not_supported_variant_evidence_summary[\n",
    "        \"Fraction of all CIViC Evidence Items\"\n",
    "    ].append(fraction_not_supported_category_variant_evidence_of_civic)\n",
    "    not_supported_variant_evidence_summary[\n",
    "        \"Percent of all CIViC Evidence Items\"\n",
    "    ].append(percent_not_supported_category_variant_evidence_of_civic)\n",
    "    not_supported_variant_evidence_summary[\n",
    "        \"Fraction of Not Supported Variant Evidence Items\"\n",
    "    ].append(fraction_not_supported_category_variant_evidence_of_total_not_supported)\n",
    "    not_supported_variant_evidence_summary[\n",
    "        \"Percent of Not Supported Variant Evidence Items\"\n",
    "    ].append(percent_not_supported_category_variant_evidence_of_total_not_supported)\n",
    "    not_supported_variant_evidence_summary[\n",
    "        \"Fraction of Accepted Evidence Items\"\n",
    "    ].append(fraction_accepted_evidence_not_supported_category_variants)\n",
    "    not_supported_variant_evidence_summary[\"Percent of Accepted Evidence Items\"].append(\n",
    "        percentage_accepted_evidence_not_supported_category_variants\n",
    "    )\n",
    "    not_supported_variant_evidence_summary[\n",
    "        \"Fraction of Submitted Evidence Items\"\n",
    "    ].append(fraction_submitted_evidence_not_supported_category_variants)\n",
    "    not_supported_variant_evidence_summary[\n",
    "        \"Percent of Submitted Evidence Items\"\n",
    "    ].append(percentage_submitted_evidence_not_supported_category_variants)"
   ]
  },
  {
   "cell_type": "markdown",
   "metadata": {},
   "source": [
    "## <a id='toc5_5_'></a>[Impact](#toc0_)"
   ]
  },
  {
   "cell_type": "markdown",
   "metadata": {},
   "source": [
    "### <a id='toc5_5_1_'></a>[Via Evidence Level](#toc0_)"
   ]
  },
  {
   "cell_type": "markdown",
   "metadata": {},
   "source": [
    "#### <a id='toc5_5_1_1_'></a>[Analysis with only Accepted Variants](#toc0_)"
   ]
  },
  {
   "cell_type": "markdown",
   "metadata": {},
   "source": [
    "accepted variant = a variant with at least one 'accepted' evidence item"
   ]
  },
  {
   "cell_type": "code",
   "execution_count": 48,
   "metadata": {},
   "outputs": [],
   "source": [
    "ns_var_w_evid_df = not_supported_variants_add_evidence_df.copy()\n",
    "ns_var_w_evid_df[\"evidence_id\"] = ns_var_w_evid_df[\"evidence_id\"].apply(\n",
    "    lambda x: np.nan if isinstance(x, str) and x.strip() == \"\" else x\n",
    ")\n",
    "ns_var_w_evid_df = ns_var_w_evid_df[ns_var_w_evid_df[\"evidence_id\"].notna()]"
   ]
  },
  {
   "cell_type": "markdown",
   "metadata": {},
   "source": [
    "There are no variants without an evidence id that have an evidence status"
   ]
  },
  {
   "cell_type": "code",
   "execution_count": 49,
   "metadata": {},
   "outputs": [
    {
     "data": {
      "text/html": [
       "<div>\n",
       "<style scoped>\n",
       "    .dataframe tbody tr th:only-of-type {\n",
       "        vertical-align: middle;\n",
       "    }\n",
       "\n",
       "    .dataframe tbody tr th {\n",
       "        vertical-align: top;\n",
       "    }\n",
       "\n",
       "    .dataframe thead th {\n",
       "        text-align: right;\n",
       "    }\n",
       "</style>\n",
       "<table border=\"1\" class=\"dataframe\">\n",
       "  <thead>\n",
       "    <tr style=\"text-align: right;\">\n",
       "      <th></th>\n",
       "      <th>variant_id</th>\n",
       "      <th>gene_name</th>\n",
       "      <th>variant_name</th>\n",
       "      <th>civic_variant_types</th>\n",
       "      <th>category</th>\n",
       "      <th>variant_accepted</th>\n",
       "      <th>evidence_id</th>\n",
       "      <th>evidence_status</th>\n",
       "      <th>evidence_rating</th>\n",
       "      <th>evidence_level</th>\n",
       "      <th>evidence_accepted</th>\n",
       "    </tr>\n",
       "  </thead>\n",
       "  <tbody>\n",
       "  </tbody>\n",
       "</table>\n",
       "</div>"
      ],
      "text/plain": [
       "Empty DataFrame\n",
       "Columns: [variant_id, gene_name, variant_name, civic_variant_types, category, variant_accepted, evidence_id, evidence_status, evidence_rating, evidence_level, evidence_accepted]\n",
       "Index: []"
      ]
     },
     "execution_count": 49,
     "metadata": {},
     "output_type": "execute_result"
    }
   ],
   "source": [
    "ns_var_w_evid_df[\n",
    "    ns_var_w_evid_df[\"evidence_accepted\"].isna()\n",
    "]"
   ]
  },
  {
   "cell_type": "markdown",
   "metadata": {},
   "source": [
    "Selecting only variants with at least one accepted evidence item (Accepted Variants)"
   ]
  },
  {
   "cell_type": "code",
   "execution_count": 50,
   "metadata": {},
   "outputs": [],
   "source": [
    "ns_var_w_acc_evid_df = ns_var_w_evid_df[ns_var_w_evid_df[\"evidence_accepted\"]].copy()"
   ]
  },
  {
   "cell_type": "code",
   "execution_count": 51,
   "metadata": {},
   "outputs": [
    {
     "data": {
      "text/plain": [
       "evidence_accepted\n",
       "True    2615\n",
       "Name: count, dtype: int64"
      ]
     },
     "execution_count": 51,
     "metadata": {},
     "output_type": "execute_result"
    }
   ],
   "source": [
    "ns_var_w_acc_evid_df[\"evidence_accepted\"].value_counts()"
   ]
  },
  {
   "cell_type": "markdown",
   "metadata": {},
   "source": [
    "##### <a id='toc5_5_1_1_1_'></a>[Calculating evidence score via level](#toc0_)"
   ]
  },
  {
   "cell_type": "markdown",
   "metadata": {},
   "source": [
    "Each variant receives an evidence score by adding up the numerical value of levels of the evidence items associated with the variant"
   ]
  },
  {
   "cell_type": "code",
   "execution_count": 52,
   "metadata": {},
   "outputs": [],
   "source": [
    "def calculate_impact_score(df: pd.DataFrame) -> pd.DataFrame:\n",
    "    \"\"\"Converts the alphabetical evidence level to a numerical score and adds the score of each evidence item per variant\n",
    "\n",
    "    :param df: Dataframe of variants with respective evidence items\n",
    "    :return: Transformed dataframe with evidence score\n",
    "    \"\"\"\n",
    "    EVIDENCE_LEVEL_TO_IMPACT = {\"A\": 10, \"B\": 5, \"C\": 3, \"D\": 1, \"E\": 0.5}\n",
    "    df[\"evidence_level\"] = df[\"evidence_level\"].apply(lambda x: x[0])\n",
    "    df[\"evidence_score\"] = \"\"\n",
    "    df[\"evidence_score\"] = df[\"evidence_level\"].map(EVIDENCE_LEVEL_TO_IMPACT)\n",
    "\n",
    "    df.sort_values(by=[\"variant_id\"])\n",
    "    df1 = df.groupby(\"variant_id\").aggregate(\n",
    "        {\n",
    "            \"gene_name\": \"first\",\n",
    "            \"variant_name\": \"first\",\n",
    "            \"category\": \"first\",\n",
    "            \"evidence_id\": \"count\",\n",
    "            \"evidence_score\": \"sum\",\n",
    "        }\n",
    "    )\n",
    "    df1 = df1.rename(\n",
    "        columns={\n",
    "            \"evidence_id\": \"#_evidence_items\",\n",
    "            \"evidence_score\": \"evidence_score_sum\",\n",
    "        }\n",
    "    )\n",
    "\n",
    "    return df1"
   ]
  },
  {
   "cell_type": "code",
   "execution_count": 53,
   "metadata": {},
   "outputs": [
    {
     "data": {
      "text/html": [
       "<div>\n",
       "<style scoped>\n",
       "    .dataframe tbody tr th:only-of-type {\n",
       "        vertical-align: middle;\n",
       "    }\n",
       "\n",
       "    .dataframe tbody tr th {\n",
       "        vertical-align: top;\n",
       "    }\n",
       "\n",
       "    .dataframe thead th {\n",
       "        text-align: right;\n",
       "    }\n",
       "</style>\n",
       "<table border=\"1\" class=\"dataframe\">\n",
       "  <thead>\n",
       "    <tr style=\"text-align: right;\">\n",
       "      <th></th>\n",
       "      <th>gene_name</th>\n",
       "      <th>variant_name</th>\n",
       "      <th>category</th>\n",
       "      <th>#_evidence_items</th>\n",
       "      <th>evidence_score_sum</th>\n",
       "    </tr>\n",
       "    <tr>\n",
       "      <th>variant_id</th>\n",
       "      <th></th>\n",
       "      <th></th>\n",
       "      <th></th>\n",
       "      <th></th>\n",
       "      <th></th>\n",
       "    </tr>\n",
       "  </thead>\n",
       "  <tbody>\n",
       "    <tr>\n",
       "      <th>1</th>\n",
       "      <td>None</td>\n",
       "      <td>Fusion</td>\n",
       "      <td>Fusion</td>\n",
       "      <td>328</td>\n",
       "      <td>783.0</td>\n",
       "    </tr>\n",
       "    <tr>\n",
       "      <th>5</th>\n",
       "      <td>None</td>\n",
       "      <td>Fusion</td>\n",
       "      <td>Fusion</td>\n",
       "      <td>47</td>\n",
       "      <td>91.0</td>\n",
       "    </tr>\n",
       "    <tr>\n",
       "      <th>17</th>\n",
       "      <td>BRAF</td>\n",
       "      <td>V600</td>\n",
       "      <td>Sequence</td>\n",
       "      <td>25</td>\n",
       "      <td>146.0</td>\n",
       "    </tr>\n",
       "    <tr>\n",
       "      <th>19</th>\n",
       "      <td>CCND1</td>\n",
       "      <td>Expression</td>\n",
       "      <td>Expression</td>\n",
       "      <td>2</td>\n",
       "      <td>10.0</td>\n",
       "    </tr>\n",
       "    <tr>\n",
       "      <th>20</th>\n",
       "      <td>CCND1</td>\n",
       "      <td>Overexpression</td>\n",
       "      <td>Expression</td>\n",
       "      <td>8</td>\n",
       "      <td>36.0</td>\n",
       "    </tr>\n",
       "    <tr>\n",
       "      <th>...</th>\n",
       "      <td>...</td>\n",
       "      <td>...</td>\n",
       "      <td>...</td>\n",
       "      <td>...</td>\n",
       "      <td>...</td>\n",
       "    </tr>\n",
       "    <tr>\n",
       "      <th>5162</th>\n",
       "      <td>EPOR</td>\n",
       "      <td>rearrangements</td>\n",
       "      <td>Rearrangement</td>\n",
       "      <td>1</td>\n",
       "      <td>5.0</td>\n",
       "    </tr>\n",
       "    <tr>\n",
       "      <th>5167</th>\n",
       "      <td>None</td>\n",
       "      <td>Fusion</td>\n",
       "      <td>Fusion</td>\n",
       "      <td>1</td>\n",
       "      <td>3.0</td>\n",
       "    </tr>\n",
       "    <tr>\n",
       "      <th>5168</th>\n",
       "      <td>MECOM</td>\n",
       "      <td>rearrangement</td>\n",
       "      <td>Rearrangement</td>\n",
       "      <td>3</td>\n",
       "      <td>15.0</td>\n",
       "    </tr>\n",
       "    <tr>\n",
       "      <th>5171</th>\n",
       "      <td>ALK</td>\n",
       "      <td>Exon 2-18 Deletion</td>\n",
       "      <td>Rearrangement</td>\n",
       "      <td>2</td>\n",
       "      <td>6.0</td>\n",
       "    </tr>\n",
       "    <tr>\n",
       "      <th>5187</th>\n",
       "      <td>None</td>\n",
       "      <td>Fusion</td>\n",
       "      <td>Fusion</td>\n",
       "      <td>3</td>\n",
       "      <td>15.0</td>\n",
       "    </tr>\n",
       "  </tbody>\n",
       "</table>\n",
       "<p>814 rows × 5 columns</p>\n",
       "</div>"
      ],
      "text/plain": [
       "           gene_name        variant_name       category  #_evidence_items  \\\n",
       "variant_id                                                                  \n",
       "1               None              Fusion         Fusion               328   \n",
       "5               None              Fusion         Fusion                47   \n",
       "17              BRAF                V600       Sequence                25   \n",
       "19             CCND1          Expression     Expression                 2   \n",
       "20             CCND1      Overexpression     Expression                 8   \n",
       "...              ...                 ...            ...               ...   \n",
       "5162            EPOR      rearrangements  Rearrangement                 1   \n",
       "5167            None              Fusion         Fusion                 1   \n",
       "5168           MECOM       rearrangement  Rearrangement                 3   \n",
       "5171             ALK  Exon 2-18 Deletion  Rearrangement                 2   \n",
       "5187            None              Fusion         Fusion                 3   \n",
       "\n",
       "            evidence_score_sum  \n",
       "variant_id                      \n",
       "1                        783.0  \n",
       "5                         91.0  \n",
       "17                       146.0  \n",
       "19                        10.0  \n",
       "20                        36.0  \n",
       "...                        ...  \n",
       "5162                       5.0  \n",
       "5167                       3.0  \n",
       "5168                      15.0  \n",
       "5171                       6.0  \n",
       "5187                      15.0  \n",
       "\n",
       "[814 rows x 5 columns]"
      ]
     },
     "execution_count": 53,
     "metadata": {},
     "output_type": "execute_result"
    }
   ],
   "source": [
    "not_supported_variants_w_acc_evid_df = calculate_impact_score(ns_var_w_acc_evid_df)\n",
    "not_supported_variants_w_acc_evid_df"
   ]
  },
  {
   "cell_type": "markdown",
   "metadata": {},
   "source": [
    "##### <a id='toc5_5_1_1_2_'></a>[Summary Table](#toc0_)"
   ]
  },
  {
   "cell_type": "code",
   "execution_count": 54,
   "metadata": {},
   "outputs": [],
   "source": [
    "def summarize_impact(df: pd.DataFrame) -> pd.DataFrame:\n",
    "    \"\"\"Calculates the number of variants, evidence items, and impact score per category\n",
    "\n",
    "    :param df: Dataframe of variants\n",
    "    :return: Transformed dataframe with the number of variants, evidence items, and impact score per category\n",
    "    \"\"\"\n",
    "    df1 = df.reset_index()\n",
    "\n",
    "    df1 = df1.groupby(\"category\").aggregate(\n",
    "        {\"variant_id\": \"count\", \"#_evidence_items\": \"sum\", \"evidence_score_sum\": \"sum\"}\n",
    "    )\n",
    "    df1 = df1.rename(\n",
    "        columns={\"evidence_score_sum\": \"impact\", \"variant_id\": \"number_of_variants\"}\n",
    "    )\n",
    "    df1[\"average_impact_per_variant\"] = (\n",
    "        df1[\"impact\"] / df1[\"number_of_variants\"]\n",
    "    ).round(2)\n",
    "    df1 = df1.sort_values(by=[\"impact\"], ascending=False)\n",
    "\n",
    "    return df1"
   ]
  },
  {
   "cell_type": "code",
   "execution_count": 55,
   "metadata": {},
   "outputs": [
    {
     "data": {
      "text/html": [
       "<div>\n",
       "<style scoped>\n",
       "    .dataframe tbody tr th:only-of-type {\n",
       "        vertical-align: middle;\n",
       "    }\n",
       "\n",
       "    .dataframe tbody tr th {\n",
       "        vertical-align: top;\n",
       "    }\n",
       "\n",
       "    .dataframe thead th {\n",
       "        text-align: right;\n",
       "    }\n",
       "</style>\n",
       "<table border=\"1\" class=\"dataframe\">\n",
       "  <thead>\n",
       "    <tr style=\"text-align: right;\">\n",
       "      <th></th>\n",
       "      <th>number_of_variants</th>\n",
       "      <th>#_evidence_items</th>\n",
       "      <th>impact</th>\n",
       "      <th>average_impact_per_variant</th>\n",
       "    </tr>\n",
       "    <tr>\n",
       "      <th>category</th>\n",
       "      <th></th>\n",
       "      <th></th>\n",
       "      <th></th>\n",
       "      <th></th>\n",
       "    </tr>\n",
       "  </thead>\n",
       "  <tbody>\n",
       "    <tr>\n",
       "      <th>Fusion</th>\n",
       "      <td>203</td>\n",
       "      <td>1028</td>\n",
       "      <td>3475.5</td>\n",
       "      <td>17.12</td>\n",
       "    </tr>\n",
       "    <tr>\n",
       "      <th>Region-Defined</th>\n",
       "      <td>105</td>\n",
       "      <td>459</td>\n",
       "      <td>2197.0</td>\n",
       "      <td>20.92</td>\n",
       "    </tr>\n",
       "    <tr>\n",
       "      <th>Expression</th>\n",
       "      <td>181</td>\n",
       "      <td>345</td>\n",
       "      <td>1249.0</td>\n",
       "      <td>6.90</td>\n",
       "    </tr>\n",
       "    <tr>\n",
       "      <th>Rearrangement</th>\n",
       "      <td>52</td>\n",
       "      <td>238</td>\n",
       "      <td>1114.0</td>\n",
       "      <td>21.42</td>\n",
       "    </tr>\n",
       "    <tr>\n",
       "      <th>Sequence</th>\n",
       "      <td>70</td>\n",
       "      <td>193</td>\n",
       "      <td>844.5</td>\n",
       "      <td>12.06</td>\n",
       "    </tr>\n",
       "    <tr>\n",
       "      <th>Gene Function</th>\n",
       "      <td>59</td>\n",
       "      <td>171</td>\n",
       "      <td>613.5</td>\n",
       "      <td>10.40</td>\n",
       "    </tr>\n",
       "    <tr>\n",
       "      <th>Other</th>\n",
       "      <td>37</td>\n",
       "      <td>42</td>\n",
       "      <td>198.0</td>\n",
       "      <td>5.35</td>\n",
       "    </tr>\n",
       "    <tr>\n",
       "      <th>Transcript</th>\n",
       "      <td>56</td>\n",
       "      <td>58</td>\n",
       "      <td>168.0</td>\n",
       "      <td>3.00</td>\n",
       "    </tr>\n",
       "    <tr>\n",
       "      <th>Copy Number</th>\n",
       "      <td>19</td>\n",
       "      <td>35</td>\n",
       "      <td>113.0</td>\n",
       "      <td>5.95</td>\n",
       "    </tr>\n",
       "    <tr>\n",
       "      <th>Genotype/Haplotype</th>\n",
       "      <td>14</td>\n",
       "      <td>19</td>\n",
       "      <td>96.0</td>\n",
       "      <td>6.86</td>\n",
       "    </tr>\n",
       "    <tr>\n",
       "      <th>Epigenetic Modification</th>\n",
       "      <td>14</td>\n",
       "      <td>22</td>\n",
       "      <td>82.0</td>\n",
       "      <td>5.86</td>\n",
       "    </tr>\n",
       "    <tr>\n",
       "      <th>Genome Feature</th>\n",
       "      <td>4</td>\n",
       "      <td>5</td>\n",
       "      <td>25.0</td>\n",
       "      <td>6.25</td>\n",
       "    </tr>\n",
       "  </tbody>\n",
       "</table>\n",
       "</div>"
      ],
      "text/plain": [
       "                         number_of_variants  #_evidence_items  impact  \\\n",
       "category                                                                \n",
       "Fusion                                  203              1028  3475.5   \n",
       "Region-Defined                          105               459  2197.0   \n",
       "Expression                              181               345  1249.0   \n",
       "Rearrangement                            52               238  1114.0   \n",
       "Sequence                                 70               193   844.5   \n",
       "Gene Function                            59               171   613.5   \n",
       "Other                                    37                42   198.0   \n",
       "Transcript                               56                58   168.0   \n",
       "Copy Number                              19                35   113.0   \n",
       "Genotype/Haplotype                       14                19    96.0   \n",
       "Epigenetic Modification                  14                22    82.0   \n",
       "Genome Feature                            4                 5    25.0   \n",
       "\n",
       "                         average_impact_per_variant  \n",
       "category                                             \n",
       "Fusion                                        17.12  \n",
       "Region-Defined                                20.92  \n",
       "Expression                                     6.90  \n",
       "Rearrangement                                 21.42  \n",
       "Sequence                                      12.06  \n",
       "Gene Function                                 10.40  \n",
       "Other                                          5.35  \n",
       "Transcript                                     3.00  \n",
       "Copy Number                                    5.95  \n",
       "Genotype/Haplotype                             6.86  \n",
       "Epigenetic Modification                        5.86  \n",
       "Genome Feature                                 6.25  "
      ]
     },
     "execution_count": 55,
     "metadata": {},
     "output_type": "execute_result"
    }
   ],
   "source": [
    "not_supported_accepted_variant_categories_df = summarize_impact(\n",
    "    not_supported_variants_w_acc_evid_df\n",
    ")\n",
    "not_supported_accepted_variant_categories_df"
   ]
  },
  {
   "cell_type": "markdown",
   "metadata": {},
   "source": [
    "##### <a id='toc5_5_1_1_3_'></a>[Calculating evidence score via level](#toc0_)"
   ]
  },
  {
   "cell_type": "code",
   "execution_count": 56,
   "metadata": {},
   "outputs": [
    {
     "data": {
      "text/plain": [
       "number_of_variants              814.00\n",
       "#_evidence_items               2615.00\n",
       "impact                        10175.50\n",
       "average_impact_per_variant      122.09\n",
       "dtype: float64"
      ]
     },
     "execution_count": 56,
     "metadata": {},
     "output_type": "execute_result"
    }
   ],
   "source": [
    "not_supported_accepted_variant_categories_df.sum().round(2)"
   ]
  },
  {
   "cell_type": "markdown",
   "metadata": {},
   "source": [
    "#### <a id='toc5_5_1_2_'></a>[Analysis with Accepted and Submitted Variants](#toc0_)"
   ]
  },
  {
   "cell_type": "markdown",
   "metadata": {},
   "source": [
    "submitted variant = a variant with only 'submitted' evidence items"
   ]
  },
  {
   "cell_type": "code",
   "execution_count": 57,
   "metadata": {},
   "outputs": [],
   "source": [
    "ns_var_w_acc_sub_evid_df = not_supported_variants_add_evidence_df.copy()\n",
    "ns_var_w_acc_sub_evid_df[\"evidence_id\"] = ns_var_w_acc_sub_evid_df[\"evidence_id\"].apply(\n",
    "    lambda x: np.nan if isinstance(x, str) and x.strip() == \"\" else x\n",
    ")\n",
    "ns_var_w_acc_sub_evid_df = ns_var_w_acc_sub_evid_df[ns_var_w_acc_sub_evid_df[\"evidence_id\"].notna()] #.notna removes those with no evidence items"
   ]
  },
  {
   "cell_type": "markdown",
   "metadata": {},
   "source": [
    "##### <a id='toc5_5_1_2_1_'></a>[Calculating evidence score via level](#toc0_)"
   ]
  },
  {
   "cell_type": "code",
   "execution_count": 58,
   "metadata": {},
   "outputs": [
    {
     "data": {
      "text/html": [
       "<div>\n",
       "<style scoped>\n",
       "    .dataframe tbody tr th:only-of-type {\n",
       "        vertical-align: middle;\n",
       "    }\n",
       "\n",
       "    .dataframe tbody tr th {\n",
       "        vertical-align: top;\n",
       "    }\n",
       "\n",
       "    .dataframe thead th {\n",
       "        text-align: right;\n",
       "    }\n",
       "</style>\n",
       "<table border=\"1\" class=\"dataframe\">\n",
       "  <thead>\n",
       "    <tr style=\"text-align: right;\">\n",
       "      <th></th>\n",
       "      <th>gene_name</th>\n",
       "      <th>variant_name</th>\n",
       "      <th>category</th>\n",
       "      <th>#_evidence_items</th>\n",
       "      <th>evidence_score_sum</th>\n",
       "    </tr>\n",
       "    <tr>\n",
       "      <th>variant_id</th>\n",
       "      <th></th>\n",
       "      <th></th>\n",
       "      <th></th>\n",
       "      <th></th>\n",
       "      <th></th>\n",
       "    </tr>\n",
       "  </thead>\n",
       "  <tbody>\n",
       "    <tr>\n",
       "      <th>1</th>\n",
       "      <td>None</td>\n",
       "      <td>Fusion</td>\n",
       "      <td>Fusion</td>\n",
       "      <td>462</td>\n",
       "      <td>1117.0</td>\n",
       "    </tr>\n",
       "    <tr>\n",
       "      <th>5</th>\n",
       "      <td>None</td>\n",
       "      <td>Fusion</td>\n",
       "      <td>Fusion</td>\n",
       "      <td>95</td>\n",
       "      <td>167.0</td>\n",
       "    </tr>\n",
       "    <tr>\n",
       "      <th>17</th>\n",
       "      <td>BRAF</td>\n",
       "      <td>V600</td>\n",
       "      <td>Sequence</td>\n",
       "      <td>28</td>\n",
       "      <td>166.0</td>\n",
       "    </tr>\n",
       "    <tr>\n",
       "      <th>19</th>\n",
       "      <td>CCND1</td>\n",
       "      <td>Expression</td>\n",
       "      <td>Expression</td>\n",
       "      <td>2</td>\n",
       "      <td>10.0</td>\n",
       "    </tr>\n",
       "    <tr>\n",
       "      <th>20</th>\n",
       "      <td>CCND1</td>\n",
       "      <td>Overexpression</td>\n",
       "      <td>Expression</td>\n",
       "      <td>10</td>\n",
       "      <td>40.0</td>\n",
       "    </tr>\n",
       "    <tr>\n",
       "      <th>...</th>\n",
       "      <td>...</td>\n",
       "      <td>...</td>\n",
       "      <td>...</td>\n",
       "      <td>...</td>\n",
       "      <td>...</td>\n",
       "    </tr>\n",
       "    <tr>\n",
       "      <th>5178</th>\n",
       "      <td>CD44</td>\n",
       "      <td>CD44v10</td>\n",
       "      <td>Other</td>\n",
       "      <td>1</td>\n",
       "      <td>5.0</td>\n",
       "    </tr>\n",
       "    <tr>\n",
       "      <th>5179</th>\n",
       "      <td>None</td>\n",
       "      <td>Fusion</td>\n",
       "      <td>Fusion</td>\n",
       "      <td>1</td>\n",
       "      <td>5.0</td>\n",
       "    </tr>\n",
       "    <tr>\n",
       "      <th>5180</th>\n",
       "      <td>BAX</td>\n",
       "      <td>mutation</td>\n",
       "      <td>Region-Defined</td>\n",
       "      <td>1</td>\n",
       "      <td>1.0</td>\n",
       "    </tr>\n",
       "    <tr>\n",
       "      <th>5187</th>\n",
       "      <td>None</td>\n",
       "      <td>Fusion</td>\n",
       "      <td>Fusion</td>\n",
       "      <td>3</td>\n",
       "      <td>15.0</td>\n",
       "    </tr>\n",
       "    <tr>\n",
       "      <th>5194</th>\n",
       "      <td>BRAF</td>\n",
       "      <td>Kinase Domain Duplication</td>\n",
       "      <td>Copy Number</td>\n",
       "      <td>3</td>\n",
       "      <td>13.0</td>\n",
       "    </tr>\n",
       "  </tbody>\n",
       "</table>\n",
       "<p>1745 rows × 5 columns</p>\n",
       "</div>"
      ],
      "text/plain": [
       "           gene_name               variant_name        category  \\\n",
       "variant_id                                                        \n",
       "1               None                     Fusion          Fusion   \n",
       "5               None                     Fusion          Fusion   \n",
       "17              BRAF                       V600        Sequence   \n",
       "19             CCND1                 Expression      Expression   \n",
       "20             CCND1             Overexpression      Expression   \n",
       "...              ...                        ...             ...   \n",
       "5178            CD44                    CD44v10           Other   \n",
       "5179            None                     Fusion          Fusion   \n",
       "5180             BAX                   mutation  Region-Defined   \n",
       "5187            None                     Fusion          Fusion   \n",
       "5194            BRAF  Kinase Domain Duplication     Copy Number   \n",
       "\n",
       "            #_evidence_items  evidence_score_sum  \n",
       "variant_id                                        \n",
       "1                        462              1117.0  \n",
       "5                         95               167.0  \n",
       "17                        28               166.0  \n",
       "19                         2                10.0  \n",
       "20                        10                40.0  \n",
       "...                      ...                 ...  \n",
       "5178                       1                 5.0  \n",
       "5179                       1                 5.0  \n",
       "5180                       1                 1.0  \n",
       "5187                       3                15.0  \n",
       "5194                       3                13.0  \n",
       "\n",
       "[1745 rows x 5 columns]"
      ]
     },
     "execution_count": 58,
     "metadata": {},
     "output_type": "execute_result"
    }
   ],
   "source": [
    "not_supported_variants_w_acc_sub_evid_df = calculate_impact_score(\n",
    "    ns_var_w_acc_sub_evid_df\n",
    ")\n",
    "not_supported_variants_w_acc_sub_evid_df"
   ]
  },
  {
   "cell_type": "markdown",
   "metadata": {},
   "source": [
    "##### <a id='toc5_5_1_2_2_'></a>[Summary Table](#toc0_)"
   ]
  },
  {
   "cell_type": "code",
   "execution_count": 59,
   "metadata": {},
   "outputs": [
    {
     "data": {
      "text/html": [
       "<div>\n",
       "<style scoped>\n",
       "    .dataframe tbody tr th:only-of-type {\n",
       "        vertical-align: middle;\n",
       "    }\n",
       "\n",
       "    .dataframe tbody tr th {\n",
       "        vertical-align: top;\n",
       "    }\n",
       "\n",
       "    .dataframe thead th {\n",
       "        text-align: right;\n",
       "    }\n",
       "</style>\n",
       "<table border=\"1\" class=\"dataframe\">\n",
       "  <thead>\n",
       "    <tr style=\"text-align: right;\">\n",
       "      <th></th>\n",
       "      <th>number_of_variants</th>\n",
       "      <th>#_evidence_items</th>\n",
       "      <th>impact</th>\n",
       "      <th>average_impact_per_variant</th>\n",
       "    </tr>\n",
       "    <tr>\n",
       "      <th>category</th>\n",
       "      <th></th>\n",
       "      <th></th>\n",
       "      <th></th>\n",
       "      <th></th>\n",
       "    </tr>\n",
       "  </thead>\n",
       "  <tbody>\n",
       "    <tr>\n",
       "      <th>Fusion</th>\n",
       "      <td>312</td>\n",
       "      <td>1625</td>\n",
       "      <td>5552.0</td>\n",
       "      <td>17.79</td>\n",
       "    </tr>\n",
       "    <tr>\n",
       "      <th>Region-Defined</th>\n",
       "      <td>254</td>\n",
       "      <td>828</td>\n",
       "      <td>3398.5</td>\n",
       "      <td>13.38</td>\n",
       "    </tr>\n",
       "    <tr>\n",
       "      <th>Rearrangement</th>\n",
       "      <td>122</td>\n",
       "      <td>601</td>\n",
       "      <td>2373.5</td>\n",
       "      <td>19.45</td>\n",
       "    </tr>\n",
       "    <tr>\n",
       "      <th>Expression</th>\n",
       "      <td>294</td>\n",
       "      <td>626</td>\n",
       "      <td>2117.0</td>\n",
       "      <td>7.20</td>\n",
       "    </tr>\n",
       "    <tr>\n",
       "      <th>Gene Function</th>\n",
       "      <td>111</td>\n",
       "      <td>404</td>\n",
       "      <td>1362.5</td>\n",
       "      <td>12.27</td>\n",
       "    </tr>\n",
       "    <tr>\n",
       "      <th>Transcript</th>\n",
       "      <td>362</td>\n",
       "      <td>435</td>\n",
       "      <td>1305.0</td>\n",
       "      <td>3.60</td>\n",
       "    </tr>\n",
       "    <tr>\n",
       "      <th>Sequence</th>\n",
       "      <td>133</td>\n",
       "      <td>307</td>\n",
       "      <td>1241.0</td>\n",
       "      <td>9.33</td>\n",
       "    </tr>\n",
       "    <tr>\n",
       "      <th>Other</th>\n",
       "      <td>79</td>\n",
       "      <td>128</td>\n",
       "      <td>506.5</td>\n",
       "      <td>6.41</td>\n",
       "    </tr>\n",
       "    <tr>\n",
       "      <th>Genotype/Haplotype</th>\n",
       "      <td>22</td>\n",
       "      <td>42</td>\n",
       "      <td>232.0</td>\n",
       "      <td>10.55</td>\n",
       "    </tr>\n",
       "    <tr>\n",
       "      <th>Copy Number</th>\n",
       "      <td>32</td>\n",
       "      <td>77</td>\n",
       "      <td>225.0</td>\n",
       "      <td>7.03</td>\n",
       "    </tr>\n",
       "    <tr>\n",
       "      <th>Genome Feature</th>\n",
       "      <td>10</td>\n",
       "      <td>25</td>\n",
       "      <td>120.0</td>\n",
       "      <td>12.00</td>\n",
       "    </tr>\n",
       "    <tr>\n",
       "      <th>Epigenetic Modification</th>\n",
       "      <td>14</td>\n",
       "      <td>23</td>\n",
       "      <td>92.0</td>\n",
       "      <td>6.57</td>\n",
       "    </tr>\n",
       "  </tbody>\n",
       "</table>\n",
       "</div>"
      ],
      "text/plain": [
       "                         number_of_variants  #_evidence_items  impact  \\\n",
       "category                                                                \n",
       "Fusion                                  312              1625  5552.0   \n",
       "Region-Defined                          254               828  3398.5   \n",
       "Rearrangement                           122               601  2373.5   \n",
       "Expression                              294               626  2117.0   \n",
       "Gene Function                           111               404  1362.5   \n",
       "Transcript                              362               435  1305.0   \n",
       "Sequence                                133               307  1241.0   \n",
       "Other                                    79               128   506.5   \n",
       "Genotype/Haplotype                       22                42   232.0   \n",
       "Copy Number                              32                77   225.0   \n",
       "Genome Feature                           10                25   120.0   \n",
       "Epigenetic Modification                  14                23    92.0   \n",
       "\n",
       "                         average_impact_per_variant  \n",
       "category                                             \n",
       "Fusion                                        17.79  \n",
       "Region-Defined                                13.38  \n",
       "Rearrangement                                 19.45  \n",
       "Expression                                     7.20  \n",
       "Gene Function                                 12.27  \n",
       "Transcript                                     3.60  \n",
       "Sequence                                       9.33  \n",
       "Other                                          6.41  \n",
       "Genotype/Haplotype                            10.55  \n",
       "Copy Number                                    7.03  \n",
       "Genome Feature                                12.00  \n",
       "Epigenetic Modification                        6.57  "
      ]
     },
     "execution_count": 59,
     "metadata": {},
     "output_type": "execute_result"
    }
   ],
   "source": [
    "not_supported_accepted_submitted_variant_categories_df = summarize_impact(\n",
    "    not_supported_variants_w_acc_sub_evid_df\n",
    ")\n",
    "not_supported_accepted_submitted_variant_categories_df"
   ]
  },
  {
   "cell_type": "markdown",
   "metadata": {},
   "source": [
    "The impact of submitted variants only"
   ]
  },
  {
   "cell_type": "code",
   "execution_count": 60,
   "metadata": {},
   "outputs": [
    {
     "data": {
      "text/plain": [
       "category\n",
       "Fusion                     2076.5\n",
       "Rearrangement              1259.5\n",
       "Region-Defined             1201.5\n",
       "Transcript                 1137.0\n",
       "Expression                  868.0\n",
       "Gene Function               749.0\n",
       "Sequence                    396.5\n",
       "Other                       308.5\n",
       "Genotype/Haplotype          136.0\n",
       "Copy Number                 112.0\n",
       "Genome Feature               95.0\n",
       "Epigenetic Modification      10.0\n",
       "Name: impact, dtype: float64"
      ]
     },
     "execution_count": 60,
     "metadata": {},
     "output_type": "execute_result"
    }
   ],
   "source": [
    "(\n",
    "    not_supported_accepted_submitted_variant_categories_df[\"impact\"]\n",
    "    - not_supported_accepted_variant_categories_df[\"impact\"]\n",
    ").sort_values(ascending=False)"
   ]
  },
  {
   "cell_type": "code",
   "execution_count": 61,
   "metadata": {},
   "outputs": [],
   "source": [
    "not_supported_accepted_submitted_variant_categories_df.to_csv(\n",
    "    \"output/civic_both_evidence_cat_impact_df.csv\", index=True\n",
    ")\n",
    "not_supported_accepted_variant_categories_df.to_csv(\n",
    "    \"output/civic_accepted_evidence_only_impact_df.csv\",\n",
    "    index=True,\n",
    ")"
   ]
  },
  {
   "cell_type": "markdown",
   "metadata": {},
   "source": [
    "### <a id='toc5_5_2_'></a>[Via Molecular Profile Score- this was not used](#toc0_)\n",
    " Since MOA evidence items are only scored by level, we used impact score via evidence level for CIViC variants to remain consistent"
   ]
  },
  {
   "cell_type": "markdown",
   "metadata": {},
   "source": [
    "#### <a id='toc5_5_2_1_'></a>[Import molecular profile id](#toc0_)"
   ]
  },
  {
   "cell_type": "code",
   "execution_count": 62,
   "metadata": {},
   "outputs": [
    {
     "data": {
      "text/html": [
       "<div>\n",
       "<style scoped>\n",
       "    .dataframe tbody tr th:only-of-type {\n",
       "        vertical-align: middle;\n",
       "    }\n",
       "\n",
       "    .dataframe tbody tr th {\n",
       "        vertical-align: top;\n",
       "    }\n",
       "\n",
       "    .dataframe thead th {\n",
       "        text-align: right;\n",
       "    }\n",
       "</style>\n",
       "<table border=\"1\" class=\"dataframe\">\n",
       "  <thead>\n",
       "    <tr style=\"text-align: right;\">\n",
       "      <th></th>\n",
       "      <th>variant_id</th>\n",
       "      <th>gene_name</th>\n",
       "      <th>variant_name</th>\n",
       "      <th>civic_variant_types</th>\n",
       "      <th>category</th>\n",
       "      <th>variant_accepted</th>\n",
       "      <th>molecular_profile_id</th>\n",
       "    </tr>\n",
       "  </thead>\n",
       "  <tbody>\n",
       "    <tr>\n",
       "      <th>0</th>\n",
       "      <td>4170</td>\n",
       "      <td>VHL</td>\n",
       "      <td>NaN</td>\n",
       "      <td>Not provided</td>\n",
       "      <td>Transcript</td>\n",
       "      <td>False</td>\n",
       "      <td>[4038]</td>\n",
       "    </tr>\n",
       "    <tr>\n",
       "      <th>1</th>\n",
       "      <td>4214</td>\n",
       "      <td>VHL</td>\n",
       "      <td>NaN</td>\n",
       "      <td>Not provided</td>\n",
       "      <td>Transcript</td>\n",
       "      <td>False</td>\n",
       "      <td>[4082]</td>\n",
       "    </tr>\n",
       "    <tr>\n",
       "      <th>2</th>\n",
       "      <td>4216</td>\n",
       "      <td>VHL</td>\n",
       "      <td>NaN</td>\n",
       "      <td>Not provided</td>\n",
       "      <td>Transcript</td>\n",
       "      <td>False</td>\n",
       "      <td>[4084]</td>\n",
       "    </tr>\n",
       "    <tr>\n",
       "      <th>3</th>\n",
       "      <td>4278</td>\n",
       "      <td>VHL</td>\n",
       "      <td>NaN</td>\n",
       "      <td>Not provided</td>\n",
       "      <td>Transcript</td>\n",
       "      <td>False</td>\n",
       "      <td>[4146]</td>\n",
       "    </tr>\n",
       "    <tr>\n",
       "      <th>4</th>\n",
       "      <td>4232</td>\n",
       "      <td>BRCA1</td>\n",
       "      <td>NaN</td>\n",
       "      <td>Not provided</td>\n",
       "      <td>Transcript</td>\n",
       "      <td>False</td>\n",
       "      <td>[4100]</td>\n",
       "    </tr>\n",
       "  </tbody>\n",
       "</table>\n",
       "</div>"
      ],
      "text/plain": [
       "   variant_id gene_name variant_name civic_variant_types    category  \\\n",
       "0        4170       VHL          NaN        Not provided  Transcript   \n",
       "1        4214       VHL          NaN        Not provided  Transcript   \n",
       "2        4216       VHL          NaN        Not provided  Transcript   \n",
       "3        4278       VHL          NaN        Not provided  Transcript   \n",
       "4        4232     BRCA1          NaN        Not provided  Transcript   \n",
       "\n",
       "   variant_accepted molecular_profile_id  \n",
       "0             False               [4038]  \n",
       "1             False               [4082]  \n",
       "2             False               [4084]  \n",
       "3             False               [4146]  \n",
       "4             False               [4100]  "
      ]
     },
     "execution_count": 62,
     "metadata": {},
     "output_type": "execute_result"
    }
   ],
   "source": [
    "not_supported_variants_add_molprof_df = transform_df_mp_id(not_supported_queries_df)\n",
    "not_supported_variants_add_molprof_df.head()"
   ]
  },
  {
   "cell_type": "markdown",
   "metadata": {},
   "source": [
    "#### <a id='toc5_5_2_2_'></a>[Import molecular profile scores](#toc0_)"
   ]
  },
  {
   "cell_type": "code",
   "execution_count": 63,
   "metadata": {},
   "outputs": [
    {
     "data": {
      "text/html": [
       "<div>\n",
       "<style scoped>\n",
       "    .dataframe tbody tr th:only-of-type {\n",
       "        vertical-align: middle;\n",
       "    }\n",
       "\n",
       "    .dataframe tbody tr th {\n",
       "        vertical-align: top;\n",
       "    }\n",
       "\n",
       "    .dataframe thead th {\n",
       "        text-align: right;\n",
       "    }\n",
       "</style>\n",
       "<table border=\"1\" class=\"dataframe\">\n",
       "  <thead>\n",
       "    <tr style=\"text-align: right;\">\n",
       "      <th></th>\n",
       "      <th>variant_id</th>\n",
       "      <th>gene_name</th>\n",
       "      <th>variant_name</th>\n",
       "      <th>civic_variant_types</th>\n",
       "      <th>category</th>\n",
       "      <th>variant_accepted</th>\n",
       "      <th>molecular_profile_id</th>\n",
       "      <th>molecular_profile_score</th>\n",
       "    </tr>\n",
       "  </thead>\n",
       "  <tbody>\n",
       "    <tr>\n",
       "      <th>0</th>\n",
       "      <td>4170</td>\n",
       "      <td>VHL</td>\n",
       "      <td>NaN</td>\n",
       "      <td>Not provided</td>\n",
       "      <td>Transcript</td>\n",
       "      <td>False</td>\n",
       "      <td>[4038]</td>\n",
       "      <td>[0.0]</td>\n",
       "    </tr>\n",
       "    <tr>\n",
       "      <th>1</th>\n",
       "      <td>4214</td>\n",
       "      <td>VHL</td>\n",
       "      <td>NaN</td>\n",
       "      <td>Not provided</td>\n",
       "      <td>Transcript</td>\n",
       "      <td>False</td>\n",
       "      <td>[4082]</td>\n",
       "      <td>[0.0]</td>\n",
       "    </tr>\n",
       "    <tr>\n",
       "      <th>2</th>\n",
       "      <td>4216</td>\n",
       "      <td>VHL</td>\n",
       "      <td>NaN</td>\n",
       "      <td>Not provided</td>\n",
       "      <td>Transcript</td>\n",
       "      <td>False</td>\n",
       "      <td>[4084]</td>\n",
       "      <td>[0.0]</td>\n",
       "    </tr>\n",
       "    <tr>\n",
       "      <th>3</th>\n",
       "      <td>4278</td>\n",
       "      <td>VHL</td>\n",
       "      <td>NaN</td>\n",
       "      <td>Not provided</td>\n",
       "      <td>Transcript</td>\n",
       "      <td>False</td>\n",
       "      <td>[4146]</td>\n",
       "      <td>[0.0]</td>\n",
       "    </tr>\n",
       "    <tr>\n",
       "      <th>4</th>\n",
       "      <td>4232</td>\n",
       "      <td>BRCA1</td>\n",
       "      <td>NaN</td>\n",
       "      <td>Not provided</td>\n",
       "      <td>Transcript</td>\n",
       "      <td>False</td>\n",
       "      <td>[4100]</td>\n",
       "      <td>[0.0]</td>\n",
       "    </tr>\n",
       "  </tbody>\n",
       "</table>\n",
       "</div>"
      ],
      "text/plain": [
       "   variant_id gene_name variant_name civic_variant_types    category  \\\n",
       "0        4170       VHL          NaN        Not provided  Transcript   \n",
       "1        4214       VHL          NaN        Not provided  Transcript   \n",
       "2        4216       VHL          NaN        Not provided  Transcript   \n",
       "3        4278       VHL          NaN        Not provided  Transcript   \n",
       "4        4232     BRCA1          NaN        Not provided  Transcript   \n",
       "\n",
       "   variant_accepted molecular_profile_id molecular_profile_score  \n",
       "0             False               [4038]                   [0.0]  \n",
       "1             False               [4082]                   [0.0]  \n",
       "2             False               [4084]                   [0.0]  \n",
       "3             False               [4146]                   [0.0]  \n",
       "4             False               [4100]                   [0.0]  "
      ]
     },
     "execution_count": 63,
     "metadata": {},
     "output_type": "execute_result"
    }
   ],
   "source": [
    "not_supported_variants_add_molprof_df = transform_df_mp_score(\n",
    "    not_supported_variants_add_molprof_df\n",
    ")\n",
    "not_supported_variants_add_molprof_df.head()"
   ]
  },
  {
   "cell_type": "code",
   "execution_count": 64,
   "metadata": {},
   "outputs": [
    {
     "data": {
      "text/html": [
       "<div>\n",
       "<style scoped>\n",
       "    .dataframe tbody tr th:only-of-type {\n",
       "        vertical-align: middle;\n",
       "    }\n",
       "\n",
       "    .dataframe tbody tr th {\n",
       "        vertical-align: top;\n",
       "    }\n",
       "\n",
       "    .dataframe thead th {\n",
       "        text-align: right;\n",
       "    }\n",
       "</style>\n",
       "<table border=\"1\" class=\"dataframe\">\n",
       "  <thead>\n",
       "    <tr style=\"text-align: right;\">\n",
       "      <th></th>\n",
       "      <th>variant_id</th>\n",
       "      <th>gene_name</th>\n",
       "      <th>variant_name</th>\n",
       "      <th>civic_variant_types</th>\n",
       "      <th>category</th>\n",
       "      <th>variant_accepted</th>\n",
       "      <th>molecular_profile_id</th>\n",
       "      <th>molecular_profile_score</th>\n",
       "      <th>molecular_profile_score_sum</th>\n",
       "    </tr>\n",
       "  </thead>\n",
       "  <tbody>\n",
       "    <tr>\n",
       "      <th>0</th>\n",
       "      <td>4170</td>\n",
       "      <td>VHL</td>\n",
       "      <td>NaN</td>\n",
       "      <td>Not provided</td>\n",
       "      <td>Transcript</td>\n",
       "      <td>False</td>\n",
       "      <td>[4038]</td>\n",
       "      <td>[0.0]</td>\n",
       "      <td>0.0</td>\n",
       "    </tr>\n",
       "    <tr>\n",
       "      <th>1</th>\n",
       "      <td>4214</td>\n",
       "      <td>VHL</td>\n",
       "      <td>NaN</td>\n",
       "      <td>Not provided</td>\n",
       "      <td>Transcript</td>\n",
       "      <td>False</td>\n",
       "      <td>[4082]</td>\n",
       "      <td>[0.0]</td>\n",
       "      <td>0.0</td>\n",
       "    </tr>\n",
       "    <tr>\n",
       "      <th>2</th>\n",
       "      <td>4216</td>\n",
       "      <td>VHL</td>\n",
       "      <td>NaN</td>\n",
       "      <td>Not provided</td>\n",
       "      <td>Transcript</td>\n",
       "      <td>False</td>\n",
       "      <td>[4084]</td>\n",
       "      <td>[0.0]</td>\n",
       "      <td>0.0</td>\n",
       "    </tr>\n",
       "    <tr>\n",
       "      <th>3</th>\n",
       "      <td>4278</td>\n",
       "      <td>VHL</td>\n",
       "      <td>NaN</td>\n",
       "      <td>Not provided</td>\n",
       "      <td>Transcript</td>\n",
       "      <td>False</td>\n",
       "      <td>[4146]</td>\n",
       "      <td>[0.0]</td>\n",
       "      <td>0.0</td>\n",
       "    </tr>\n",
       "    <tr>\n",
       "      <th>4</th>\n",
       "      <td>4232</td>\n",
       "      <td>BRCA1</td>\n",
       "      <td>NaN</td>\n",
       "      <td>Not provided</td>\n",
       "      <td>Transcript</td>\n",
       "      <td>False</td>\n",
       "      <td>[4100]</td>\n",
       "      <td>[0.0]</td>\n",
       "      <td>0.0</td>\n",
       "    </tr>\n",
       "  </tbody>\n",
       "</table>\n",
       "</div>"
      ],
      "text/plain": [
       "   variant_id gene_name variant_name civic_variant_types    category  \\\n",
       "0        4170       VHL          NaN        Not provided  Transcript   \n",
       "1        4214       VHL          NaN        Not provided  Transcript   \n",
       "2        4216       VHL          NaN        Not provided  Transcript   \n",
       "3        4278       VHL          NaN        Not provided  Transcript   \n",
       "4        4232     BRCA1          NaN        Not provided  Transcript   \n",
       "\n",
       "   variant_accepted molecular_profile_id molecular_profile_score  \\\n",
       "0             False               [4038]                   [0.0]   \n",
       "1             False               [4082]                   [0.0]   \n",
       "2             False               [4084]                   [0.0]   \n",
       "3             False               [4146]                   [0.0]   \n",
       "4             False               [4100]                   [0.0]   \n",
       "\n",
       "   molecular_profile_score_sum  \n",
       "0                          0.0  \n",
       "1                          0.0  \n",
       "2                          0.0  \n",
       "3                          0.0  \n",
       "4                          0.0  "
      ]
     },
     "execution_count": 64,
     "metadata": {},
     "output_type": "execute_result"
    }
   ],
   "source": [
    "not_supported_variants_add_molprof_df = transform_df_mp_score_sum(\n",
    "    not_supported_variants_add_molprof_df\n",
    ")\n",
    "not_supported_variants_add_molprof_df.head()"
   ]
  },
  {
   "cell_type": "code",
   "execution_count": 65,
   "metadata": {},
   "outputs": [
    {
     "data": {
      "text/html": [
       "<div>\n",
       "<style scoped>\n",
       "    .dataframe tbody tr th:only-of-type {\n",
       "        vertical-align: middle;\n",
       "    }\n",
       "\n",
       "    .dataframe tbody tr th {\n",
       "        vertical-align: top;\n",
       "    }\n",
       "\n",
       "    .dataframe thead th {\n",
       "        text-align: right;\n",
       "    }\n",
       "</style>\n",
       "<table border=\"1\" class=\"dataframe\">\n",
       "  <thead>\n",
       "    <tr style=\"text-align: right;\">\n",
       "      <th></th>\n",
       "      <th>variant_id</th>\n",
       "      <th>gene_name</th>\n",
       "      <th>variant_name</th>\n",
       "      <th>civic_variant_types</th>\n",
       "      <th>category</th>\n",
       "      <th>variant_accepted</th>\n",
       "      <th>molecular_profile_id</th>\n",
       "      <th>molecular_profile_score</th>\n",
       "      <th>molecular_profile_score_sum</th>\n",
       "    </tr>\n",
       "  </thead>\n",
       "  <tbody>\n",
       "    <tr>\n",
       "      <th>42</th>\n",
       "      <td>2657</td>\n",
       "      <td>ERBB2</td>\n",
       "      <td>Activating Mutation</td>\n",
       "      <td>Gene Variant;Gain Of Function Variant</td>\n",
       "      <td>Gene Function</td>\n",
       "      <td>True</td>\n",
       "      <td>[2526, 5070]</td>\n",
       "      <td>[0.0, 0.0]</td>\n",
       "      <td>0.0</td>\n",
       "    </tr>\n",
       "    <tr>\n",
       "      <th>51</th>\n",
       "      <td>5157</td>\n",
       "      <td>NaN</td>\n",
       "      <td>Amplification</td>\n",
       "      <td>Not provided</td>\n",
       "      <td>Region-Defined</td>\n",
       "      <td>True</td>\n",
       "      <td>[5437]</td>\n",
       "      <td>[0.0]</td>\n",
       "      <td>0.0</td>\n",
       "    </tr>\n",
       "    <tr>\n",
       "      <th>129</th>\n",
       "      <td>4585</td>\n",
       "      <td>MTAP</td>\n",
       "      <td>Deletion</td>\n",
       "      <td>Not provided</td>\n",
       "      <td>Gene Function</td>\n",
       "      <td>True</td>\n",
       "      <td>[4644]</td>\n",
       "      <td>[0.0]</td>\n",
       "      <td>0.0</td>\n",
       "    </tr>\n",
       "    <tr>\n",
       "      <th>145</th>\n",
       "      <td>3744</td>\n",
       "      <td>VHL</td>\n",
       "      <td>NaN</td>\n",
       "      <td>Not provided</td>\n",
       "      <td>Transcript</td>\n",
       "      <td>True</td>\n",
       "      <td>[3612]</td>\n",
       "      <td>[0.0]</td>\n",
       "      <td>0.0</td>\n",
       "    </tr>\n",
       "    <tr>\n",
       "      <th>158</th>\n",
       "      <td>1516</td>\n",
       "      <td>EGFR</td>\n",
       "      <td>EGFRVIII</td>\n",
       "      <td>Not provided</td>\n",
       "      <td>Gene Function</td>\n",
       "      <td>True</td>\n",
       "      <td>[1424, 4245, 4345, 4346]</td>\n",
       "      <td>[0.0, 0.0, 0.0, 0.0]</td>\n",
       "      <td>0.0</td>\n",
       "    </tr>\n",
       "    <tr>\n",
       "      <th>...</th>\n",
       "      <td>...</td>\n",
       "      <td>...</td>\n",
       "      <td>...</td>\n",
       "      <td>...</td>\n",
       "      <td>...</td>\n",
       "      <td>...</td>\n",
       "      <td>...</td>\n",
       "      <td>...</td>\n",
       "      <td>...</td>\n",
       "    </tr>\n",
       "    <tr>\n",
       "      <th>1668</th>\n",
       "      <td>5144</td>\n",
       "      <td>NaN</td>\n",
       "      <td>e24::e4</td>\n",
       "      <td>Transcript Fusion</td>\n",
       "      <td>Fusion</td>\n",
       "      <td>True</td>\n",
       "      <td>[5422]</td>\n",
       "      <td>[0.0]</td>\n",
       "      <td>0.0</td>\n",
       "    </tr>\n",
       "    <tr>\n",
       "      <th>1675</th>\n",
       "      <td>5150</td>\n",
       "      <td>NaN</td>\n",
       "      <td>e7::e35</td>\n",
       "      <td>Not provided</td>\n",
       "      <td>Fusion</td>\n",
       "      <td>True</td>\n",
       "      <td>[5429]</td>\n",
       "      <td>[0.0]</td>\n",
       "      <td>0.0</td>\n",
       "    </tr>\n",
       "    <tr>\n",
       "      <th>1726</th>\n",
       "      <td>5168</td>\n",
       "      <td>MECOM</td>\n",
       "      <td>rearrangement</td>\n",
       "      <td>Not provided</td>\n",
       "      <td>Rearrangement</td>\n",
       "      <td>True</td>\n",
       "      <td>[5448]</td>\n",
       "      <td>[0.0]</td>\n",
       "      <td>0.0</td>\n",
       "    </tr>\n",
       "    <tr>\n",
       "      <th>1727</th>\n",
       "      <td>5162</td>\n",
       "      <td>EPOR</td>\n",
       "      <td>rearrangements</td>\n",
       "      <td>Not provided</td>\n",
       "      <td>Rearrangement</td>\n",
       "      <td>True</td>\n",
       "      <td>[5442]</td>\n",
       "      <td>[0.0]</td>\n",
       "      <td>0.0</td>\n",
       "    </tr>\n",
       "    <tr>\n",
       "      <th>1746</th>\n",
       "      <td>5159</td>\n",
       "      <td>NaN</td>\n",
       "      <td>v::C19MC fusion</td>\n",
       "      <td>Not provided</td>\n",
       "      <td>Region-Defined</td>\n",
       "      <td>True</td>\n",
       "      <td>[5439]</td>\n",
       "      <td>[0.0]</td>\n",
       "      <td>0.0</td>\n",
       "    </tr>\n",
       "  </tbody>\n",
       "</table>\n",
       "<p>61 rows × 9 columns</p>\n",
       "</div>"
      ],
      "text/plain": [
       "      variant_id gene_name         variant_name  \\\n",
       "42          2657     ERBB2  Activating Mutation   \n",
       "51          5157       NaN        Amplification   \n",
       "129         4585      MTAP             Deletion   \n",
       "145         3744       VHL                  NaN   \n",
       "158         1516      EGFR             EGFRVIII   \n",
       "...          ...       ...                  ...   \n",
       "1668        5144       NaN              e24::e4   \n",
       "1675        5150       NaN              e7::e35   \n",
       "1726        5168     MECOM        rearrangement   \n",
       "1727        5162      EPOR       rearrangements   \n",
       "1746        5159       NaN      v::C19MC fusion   \n",
       "\n",
       "                        civic_variant_types        category  variant_accepted  \\\n",
       "42    Gene Variant;Gain Of Function Variant   Gene Function              True   \n",
       "51                             Not provided  Region-Defined              True   \n",
       "129                            Not provided   Gene Function              True   \n",
       "145                            Not provided      Transcript              True   \n",
       "158                            Not provided   Gene Function              True   \n",
       "...                                     ...             ...               ...   \n",
       "1668                      Transcript Fusion          Fusion              True   \n",
       "1675                           Not provided          Fusion              True   \n",
       "1726                           Not provided   Rearrangement              True   \n",
       "1727                           Not provided   Rearrangement              True   \n",
       "1746                           Not provided  Region-Defined              True   \n",
       "\n",
       "          molecular_profile_id molecular_profile_score  \\\n",
       "42                [2526, 5070]              [0.0, 0.0]   \n",
       "51                      [5437]                   [0.0]   \n",
       "129                     [4644]                   [0.0]   \n",
       "145                     [3612]                   [0.0]   \n",
       "158   [1424, 4245, 4345, 4346]    [0.0, 0.0, 0.0, 0.0]   \n",
       "...                        ...                     ...   \n",
       "1668                    [5422]                   [0.0]   \n",
       "1675                    [5429]                   [0.0]   \n",
       "1726                    [5448]                   [0.0]   \n",
       "1727                    [5442]                   [0.0]   \n",
       "1746                    [5439]                   [0.0]   \n",
       "\n",
       "      molecular_profile_score_sum  \n",
       "42                            0.0  \n",
       "51                            0.0  \n",
       "129                           0.0  \n",
       "145                           0.0  \n",
       "158                           0.0  \n",
       "...                           ...  \n",
       "1668                          0.0  \n",
       "1675                          0.0  \n",
       "1726                          0.0  \n",
       "1727                          0.0  \n",
       "1746                          0.0  \n",
       "\n",
       "[61 rows x 9 columns]"
      ]
     },
     "execution_count": 65,
     "metadata": {},
     "output_type": "execute_result"
    }
   ],
   "source": [
    "not_supported_variants_add_molprof_df[\n",
    "    (not_supported_variants_add_molprof_df[\"molecular_profile_score_sum\"] == 0.0)\n",
    "    & (not_supported_variants_add_molprof_df[\"variant_accepted\"])\n",
    "]"
   ]
  },
  {
   "cell_type": "code",
   "execution_count": 66,
   "metadata": {},
   "outputs": [
    {
     "data": {
      "text/plain": [
       "np.float64(1065.0)"
      ]
     },
     "execution_count": 66,
     "metadata": {},
     "output_type": "execute_result"
    }
   ],
   "source": [
    "not_supported_variants_add_molprof_df[\"molecular_profile_score_sum\"].max()"
   ]
  },
  {
   "cell_type": "code",
   "execution_count": 67,
   "metadata": {},
   "outputs": [
    {
     "data": {
      "text/html": [
       "<div>\n",
       "<style scoped>\n",
       "    .dataframe tbody tr th:only-of-type {\n",
       "        vertical-align: middle;\n",
       "    }\n",
       "\n",
       "    .dataframe tbody tr th {\n",
       "        vertical-align: top;\n",
       "    }\n",
       "\n",
       "    .dataframe thead th {\n",
       "        text-align: right;\n",
       "    }\n",
       "</style>\n",
       "<table border=\"1\" class=\"dataframe\">\n",
       "  <thead>\n",
       "    <tr style=\"text-align: right;\">\n",
       "      <th></th>\n",
       "      <th>variant_id</th>\n",
       "      <th>gene_name</th>\n",
       "      <th>variant_name</th>\n",
       "      <th>civic_variant_types</th>\n",
       "      <th>category</th>\n",
       "      <th>variant_accepted</th>\n",
       "      <th>molecular_profile_id</th>\n",
       "      <th>molecular_profile_score</th>\n",
       "      <th>molecular_profile_score_sum</th>\n",
       "    </tr>\n",
       "  </thead>\n",
       "  <tbody>\n",
       "    <tr>\n",
       "      <th>11</th>\n",
       "      <td>2930</td>\n",
       "      <td>VHL</td>\n",
       "      <td>NaN</td>\n",
       "      <td>Not provided</td>\n",
       "      <td>Transcript</td>\n",
       "      <td>True</td>\n",
       "      <td>[2799]</td>\n",
       "      <td>[7.5]</td>\n",
       "      <td>7.5</td>\n",
       "    </tr>\n",
       "    <tr>\n",
       "      <th>13</th>\n",
       "      <td>785</td>\n",
       "      <td>CHEK2</td>\n",
       "      <td>1100DELC</td>\n",
       "      <td>Frameshift Truncation</td>\n",
       "      <td>Sequence</td>\n",
       "      <td>True</td>\n",
       "      <td>[766]</td>\n",
       "      <td>[15.0]</td>\n",
       "      <td>15.0</td>\n",
       "    </tr>\n",
       "    <tr>\n",
       "      <th>16</th>\n",
       "      <td>823</td>\n",
       "      <td>EPCAM</td>\n",
       "      <td>3' Exon Deletion</td>\n",
       "      <td>Disruptive Inframe Deletion</td>\n",
       "      <td>Rearrangement</td>\n",
       "      <td>True</td>\n",
       "      <td>[801]</td>\n",
       "      <td>[20.0]</td>\n",
       "      <td>20.0</td>\n",
       "    </tr>\n",
       "    <tr>\n",
       "      <th>17</th>\n",
       "      <td>433</td>\n",
       "      <td>HIF1A</td>\n",
       "      <td>3' UTR Polymorphism</td>\n",
       "      <td>3 Prime UTR Variant;Snp</td>\n",
       "      <td>Region-Defined</td>\n",
       "      <td>True</td>\n",
       "      <td>[429]</td>\n",
       "      <td>[10.0]</td>\n",
       "      <td>10.0</td>\n",
       "    </tr>\n",
       "    <tr>\n",
       "      <th>20</th>\n",
       "      <td>2367</td>\n",
       "      <td>VHL</td>\n",
       "      <td>3p26.3-25.3 11Mb del</td>\n",
       "      <td>Not provided</td>\n",
       "      <td>Rearrangement</td>\n",
       "      <td>True</td>\n",
       "      <td>[2240]</td>\n",
       "      <td>[7.5]</td>\n",
       "      <td>7.5</td>\n",
       "    </tr>\n",
       "    <tr>\n",
       "      <th>...</th>\n",
       "      <td>...</td>\n",
       "      <td>...</td>\n",
       "      <td>...</td>\n",
       "      <td>...</td>\n",
       "      <td>...</td>\n",
       "      <td>...</td>\n",
       "      <td>...</td>\n",
       "      <td>...</td>\n",
       "      <td>...</td>\n",
       "    </tr>\n",
       "    <tr>\n",
       "      <th>1722</th>\n",
       "      <td>272</td>\n",
       "      <td>CDKN2A</td>\n",
       "      <td>p16 Expression</td>\n",
       "      <td>NaN</td>\n",
       "      <td>Expression</td>\n",
       "      <td>True</td>\n",
       "      <td>[268]</td>\n",
       "      <td>[180.0]</td>\n",
       "      <td>180.0</td>\n",
       "    </tr>\n",
       "    <tr>\n",
       "      <th>1728</th>\n",
       "      <td>3313</td>\n",
       "      <td>CDKN1A</td>\n",
       "      <td>rs1059234</td>\n",
       "      <td>Not provided</td>\n",
       "      <td>Other</td>\n",
       "      <td>True</td>\n",
       "      <td>[3181]</td>\n",
       "      <td>[15.0]</td>\n",
       "      <td>15.0</td>\n",
       "    </tr>\n",
       "    <tr>\n",
       "      <th>1731</th>\n",
       "      <td>256</td>\n",
       "      <td>KIT</td>\n",
       "      <td>rs17084733</td>\n",
       "      <td>3 Prime UTR Variant</td>\n",
       "      <td>Other</td>\n",
       "      <td>True</td>\n",
       "      <td>[252]</td>\n",
       "      <td>[15.0]</td>\n",
       "      <td>15.0</td>\n",
       "    </tr>\n",
       "    <tr>\n",
       "      <th>1732</th>\n",
       "      <td>2671</td>\n",
       "      <td>CDKN1A</td>\n",
       "      <td>rs1801270</td>\n",
       "      <td>Not provided</td>\n",
       "      <td>Other</td>\n",
       "      <td>True</td>\n",
       "      <td>[2540]</td>\n",
       "      <td>[15.0]</td>\n",
       "      <td>15.0</td>\n",
       "    </tr>\n",
       "    <tr>\n",
       "      <th>1734</th>\n",
       "      <td>705</td>\n",
       "      <td>GADD45A</td>\n",
       "      <td>rs681673</td>\n",
       "      <td>Coding Transcript Intron Variant</td>\n",
       "      <td>Other</td>\n",
       "      <td>True</td>\n",
       "      <td>[686]</td>\n",
       "      <td>[15.0]</td>\n",
       "      <td>15.0</td>\n",
       "    </tr>\n",
       "  </tbody>\n",
       "</table>\n",
       "<p>757 rows × 9 columns</p>\n",
       "</div>"
      ],
      "text/plain": [
       "      variant_id gene_name          variant_name  \\\n",
       "11          2930       VHL                   NaN   \n",
       "13           785     CHEK2              1100DELC   \n",
       "16           823     EPCAM      3' Exon Deletion   \n",
       "17           433     HIF1A   3' UTR Polymorphism   \n",
       "20          2367       VHL  3p26.3-25.3 11Mb del   \n",
       "...          ...       ...                   ...   \n",
       "1722         272    CDKN2A        p16 Expression   \n",
       "1728        3313    CDKN1A             rs1059234   \n",
       "1731         256       KIT            rs17084733   \n",
       "1732        2671    CDKN1A             rs1801270   \n",
       "1734         705   GADD45A              rs681673   \n",
       "\n",
       "                   civic_variant_types        category  variant_accepted  \\\n",
       "11                        Not provided      Transcript              True   \n",
       "13               Frameshift Truncation        Sequence              True   \n",
       "16         Disruptive Inframe Deletion   Rearrangement              True   \n",
       "17             3 Prime UTR Variant;Snp  Region-Defined              True   \n",
       "20                        Not provided   Rearrangement              True   \n",
       "...                                ...             ...               ...   \n",
       "1722                               NaN      Expression              True   \n",
       "1728                      Not provided           Other              True   \n",
       "1731               3 Prime UTR Variant           Other              True   \n",
       "1732                      Not provided           Other              True   \n",
       "1734  Coding Transcript Intron Variant           Other              True   \n",
       "\n",
       "     molecular_profile_id molecular_profile_score  molecular_profile_score_sum  \n",
       "11                 [2799]                   [7.5]                          7.5  \n",
       "13                  [766]                  [15.0]                         15.0  \n",
       "16                  [801]                  [20.0]                         20.0  \n",
       "17                  [429]                  [10.0]                         10.0  \n",
       "20                 [2240]                   [7.5]                          7.5  \n",
       "...                   ...                     ...                          ...  \n",
       "1722                [268]                 [180.0]                        180.0  \n",
       "1728               [3181]                  [15.0]                         15.0  \n",
       "1731                [252]                  [15.0]                         15.0  \n",
       "1732               [2540]                  [15.0]                         15.0  \n",
       "1734                [686]                  [15.0]                         15.0  \n",
       "\n",
       "[757 rows x 9 columns]"
      ]
     },
     "execution_count": 67,
     "metadata": {},
     "output_type": "execute_result"
    }
   ],
   "source": [
    "not_supported_variants_add_molprof_df[\n",
    "    (not_supported_variants_add_molprof_df[\"molecular_profile_score_sum\"] != 0.0)\n",
    "]"
   ]
  },
  {
   "cell_type": "markdown",
   "metadata": {},
   "source": [
    "#### <a id='toc5_5_2_3_'></a>[Impact by Subcategory](#toc0_)"
   ]
  },
  {
   "cell_type": "code",
   "execution_count": 68,
   "metadata": {},
   "outputs": [],
   "source": [
    "not_supported_impact_summary = {\n",
    "    \"Category\": NOT_SUPPORTED_VARIANT_CATEGORY_VALUES,\n",
    "    \"CIVIC Total Sum Impact Score\": [],\n",
    "    \"Average Impact Score per Variant\": [],\n",
    "    \"Average Impact Score per Evidence Item\": [],\n",
    "    \"Total Number Evidence Items\": [\n",
    "        v[\"number_unique_not_supported_category_evidence\"]\n",
    "        for v in not_supported_variant_categories_evidence_summary_data.values()\n",
    "    ],\n",
    "    \"% Accepted Evidence Items\": [\n",
    "        v[\"percentage_accepted_evidence_not_supported_category_variants\"]\n",
    "        for v in not_supported_variant_categories_evidence_summary_data.values()\n",
    "    ],\n",
    "    \"Total Number Variants\": [\n",
    "        v[\"number_unique_not_supported_category_variants\"]\n",
    "        for v in not_supported_variant_categories_summary_data.values()\n",
    "    ],\n",
    "}"
   ]
  },
  {
   "cell_type": "code",
   "execution_count": 69,
   "metadata": {},
   "outputs": [
    {
     "name": "stdout",
     "output_type": "stream",
     "text": [
      "Sequence: 2601.75\n",
      "Genotype/Haplotype: 312.5\n",
      "Fusion: 8112.75\n",
      "Rearrangement: 3336.0\n",
      "Epigenetic Modification: 285.5\n",
      "Copy Number: 210.0\n",
      "Expression: 3628.0\n",
      "Gene Function: 1878.75\n",
      "Region-Defined: 6565.0\n",
      "Genome Feature: 0.0\n",
      "Other: 576.0\n",
      "Transcript: 349.0\n"
     ]
    }
   ],
   "source": [
    "not_supported_variant_categories_impact_data = dict()\n",
    "for category in NOT_SUPPORTED_VARIANT_CATEGORY_VALUES:\n",
    "    not_supported_variant_categories_impact_data[category] = {}\n",
    "    impact_category_df = not_supported_variants_add_molprof_df[\n",
    "        not_supported_variants_add_molprof_df.category == category\n",
    "    ]\n",
    "\n",
    "    total_sum_not_supported_category_impact = impact_category_df[\n",
    "        \"molecular_profile_score_sum\"\n",
    "    ].sum()\n",
    "    not_supported_variant_categories_impact_data[category][\n",
    "        \"total_sum_not_supported_category_impact\"\n",
    "    ] = total_sum_not_supported_category_impact\n",
    "\n",
    "    avg_impact_score_variant = (\n",
    "        total_sum_not_supported_category_impact\n",
    "        / number_unique_not_supported_category_variants\n",
    "    )\n",
    "    not_supported_variant_categories_impact_data[category][\n",
    "        \"avg_impact_score_variant\"\n",
    "    ] = avg_impact_score_variant\n",
    "\n",
    "    avg_impact_score_evidence = (\n",
    "        total_sum_not_supported_category_impact\n",
    "        / number_unique_not_supported_category_evidence\n",
    "    )\n",
    "    not_supported_variant_categories_impact_data[category][\n",
    "        \"avg_impact_score_evidence\"\n",
    "    ] = avg_impact_score_evidence\n",
    "\n",
    "    not_supported_impact_summary[\"CIVIC Total Sum Impact Score\"].append(\n",
    "        total_sum_not_supported_category_impact\n",
    "    )\n",
    "    not_supported_impact_summary[\"Average Impact Score per Variant\"].append(\n",
    "        avg_impact_score_variant\n",
    "    )\n",
    "    not_supported_impact_summary[\"Average Impact Score per Evidence Item\"].append(\n",
    "        avg_impact_score_evidence\n",
    "    )\n",
    "\n",
    "    print(f\"{category}: {total_sum_not_supported_category_impact}\")"
   ]
  },
  {
   "cell_type": "code",
   "execution_count": 70,
   "metadata": {},
   "outputs": [],
   "source": [
    "not_supported_variant_impact_df = pd.DataFrame(not_supported_impact_summary)"
   ]
  },
  {
   "cell_type": "code",
   "execution_count": 71,
   "metadata": {},
   "outputs": [
    {
     "data": {
      "text/html": [
       "<div>\n",
       "<style scoped>\n",
       "    .dataframe tbody tr th:only-of-type {\n",
       "        vertical-align: middle;\n",
       "    }\n",
       "\n",
       "    .dataframe tbody tr th {\n",
       "        vertical-align: top;\n",
       "    }\n",
       "\n",
       "    .dataframe thead th {\n",
       "        text-align: right;\n",
       "    }\n",
       "</style>\n",
       "<table border=\"1\" class=\"dataframe\">\n",
       "  <thead>\n",
       "    <tr style=\"text-align: right;\">\n",
       "      <th></th>\n",
       "      <th>Category</th>\n",
       "      <th>CIVIC Total Sum Impact Score</th>\n",
       "      <th>Average Impact Score per Variant</th>\n",
       "      <th>Average Impact Score per Evidence Item</th>\n",
       "      <th>Total Number Evidence Items</th>\n",
       "      <th>% Accepted Evidence Items</th>\n",
       "      <th>Total Number Variants</th>\n",
       "    </tr>\n",
       "  </thead>\n",
       "  <tbody>\n",
       "    <tr>\n",
       "      <th>0</th>\n",
       "      <td>Sequence</td>\n",
       "      <td>2601.75</td>\n",
       "      <td>7.19</td>\n",
       "      <td>5.98</td>\n",
       "      <td>300</td>\n",
       "      <td>64.33%</td>\n",
       "      <td>133</td>\n",
       "    </tr>\n",
       "    <tr>\n",
       "      <th>1</th>\n",
       "      <td>Genotype/Haplotype</td>\n",
       "      <td>312.50</td>\n",
       "      <td>0.86</td>\n",
       "      <td>0.72</td>\n",
       "      <td>39</td>\n",
       "      <td>48.72%</td>\n",
       "      <td>22</td>\n",
       "    </tr>\n",
       "    <tr>\n",
       "      <th>2</th>\n",
       "      <td>Fusion</td>\n",
       "      <td>8112.75</td>\n",
       "      <td>22.41</td>\n",
       "      <td>18.65</td>\n",
       "      <td>1590</td>\n",
       "      <td>64.65%</td>\n",
       "      <td>313</td>\n",
       "    </tr>\n",
       "    <tr>\n",
       "      <th>3</th>\n",
       "      <td>Rearrangement</td>\n",
       "      <td>3336.00</td>\n",
       "      <td>9.22</td>\n",
       "      <td>7.67</td>\n",
       "      <td>593</td>\n",
       "      <td>40.13%</td>\n",
       "      <td>122</td>\n",
       "    </tr>\n",
       "    <tr>\n",
       "      <th>4</th>\n",
       "      <td>Epigenetic Modification</td>\n",
       "      <td>285.50</td>\n",
       "      <td>0.79</td>\n",
       "      <td>0.66</td>\n",
       "      <td>23</td>\n",
       "      <td>95.65%</td>\n",
       "      <td>14</td>\n",
       "    </tr>\n",
       "    <tr>\n",
       "      <th>5</th>\n",
       "      <td>Copy Number</td>\n",
       "      <td>210.00</td>\n",
       "      <td>0.58</td>\n",
       "      <td>0.48</td>\n",
       "      <td>77</td>\n",
       "      <td>45.45%</td>\n",
       "      <td>32</td>\n",
       "    </tr>\n",
       "    <tr>\n",
       "      <th>6</th>\n",
       "      <td>Expression</td>\n",
       "      <td>3628.00</td>\n",
       "      <td>10.02</td>\n",
       "      <td>8.34</td>\n",
       "      <td>623</td>\n",
       "      <td>55.38%</td>\n",
       "      <td>294</td>\n",
       "    </tr>\n",
       "    <tr>\n",
       "      <th>7</th>\n",
       "      <td>Gene Function</td>\n",
       "      <td>1878.75</td>\n",
       "      <td>5.19</td>\n",
       "      <td>4.32</td>\n",
       "      <td>386</td>\n",
       "      <td>44.30%</td>\n",
       "      <td>111</td>\n",
       "    </tr>\n",
       "    <tr>\n",
       "      <th>8</th>\n",
       "      <td>Region-Defined</td>\n",
       "      <td>6565.00</td>\n",
       "      <td>18.14</td>\n",
       "      <td>15.09</td>\n",
       "      <td>782</td>\n",
       "      <td>58.70%</td>\n",
       "      <td>255</td>\n",
       "    </tr>\n",
       "    <tr>\n",
       "      <th>9</th>\n",
       "      <td>Genome Feature</td>\n",
       "      <td>0.00</td>\n",
       "      <td>0.00</td>\n",
       "      <td>0.00</td>\n",
       "      <td>25</td>\n",
       "      <td>20.00%</td>\n",
       "      <td>10</td>\n",
       "    </tr>\n",
       "    <tr>\n",
       "      <th>10</th>\n",
       "      <td>Other</td>\n",
       "      <td>576.00</td>\n",
       "      <td>1.59</td>\n",
       "      <td>1.32</td>\n",
       "      <td>126</td>\n",
       "      <td>33.33%</td>\n",
       "      <td>79</td>\n",
       "    </tr>\n",
       "    <tr>\n",
       "      <th>11</th>\n",
       "      <td>Transcript</td>\n",
       "      <td>349.00</td>\n",
       "      <td>0.96</td>\n",
       "      <td>0.80</td>\n",
       "      <td>435</td>\n",
       "      <td>13.33%</td>\n",
       "      <td>362</td>\n",
       "    </tr>\n",
       "  </tbody>\n",
       "</table>\n",
       "</div>"
      ],
      "text/plain": [
       "                   Category  CIVIC Total Sum Impact Score  \\\n",
       "0                  Sequence                       2601.75   \n",
       "1        Genotype/Haplotype                        312.50   \n",
       "2                    Fusion                       8112.75   \n",
       "3             Rearrangement                       3336.00   \n",
       "4   Epigenetic Modification                        285.50   \n",
       "5               Copy Number                        210.00   \n",
       "6                Expression                       3628.00   \n",
       "7             Gene Function                       1878.75   \n",
       "8            Region-Defined                       6565.00   \n",
       "9            Genome Feature                          0.00   \n",
       "10                    Other                        576.00   \n",
       "11               Transcript                        349.00   \n",
       "\n",
       "    Average Impact Score per Variant  Average Impact Score per Evidence Item  \\\n",
       "0                               7.19                                    5.98   \n",
       "1                               0.86                                    0.72   \n",
       "2                              22.41                                   18.65   \n",
       "3                               9.22                                    7.67   \n",
       "4                               0.79                                    0.66   \n",
       "5                               0.58                                    0.48   \n",
       "6                              10.02                                    8.34   \n",
       "7                               5.19                                    4.32   \n",
       "8                              18.14                                   15.09   \n",
       "9                               0.00                                    0.00   \n",
       "10                              1.59                                    1.32   \n",
       "11                              0.96                                    0.80   \n",
       "\n",
       "    Total Number Evidence Items % Accepted Evidence Items  \\\n",
       "0                           300                    64.33%   \n",
       "1                            39                    48.72%   \n",
       "2                          1590                    64.65%   \n",
       "3                           593                    40.13%   \n",
       "4                            23                    95.65%   \n",
       "5                            77                    45.45%   \n",
       "6                           623                    55.38%   \n",
       "7                           386                    44.30%   \n",
       "8                           782                    58.70%   \n",
       "9                            25                    20.00%   \n",
       "10                          126                    33.33%   \n",
       "11                          435                    13.33%   \n",
       "\n",
       "    Total Number Variants  \n",
       "0                     133  \n",
       "1                      22  \n",
       "2                     313  \n",
       "3                     122  \n",
       "4                      14  \n",
       "5                      32  \n",
       "6                     294  \n",
       "7                     111  \n",
       "8                     255  \n",
       "9                      10  \n",
       "10                     79  \n",
       "11                    362  "
      ]
     },
     "execution_count": 71,
     "metadata": {},
     "output_type": "execute_result"
    }
   ],
   "source": [
    "not_supported_variant_impact_df = not_supported_variant_impact_df.round(2)\n",
    "not_supported_variant_impact_df"
   ]
  },
  {
   "cell_type": "code",
   "execution_count": 72,
   "metadata": {},
   "outputs": [],
   "source": [
    "not_supported_variant_impact_df.to_csv(\n",
    "    \"output/not_supported_variant_impact_df.csv\", index=False\n",
    ")"
   ]
  },
  {
   "cell_type": "markdown",
   "metadata": {},
   "source": [
    "# <a id='toc6_'></a>[Summary](#toc0_)"
   ]
  },
  {
   "cell_type": "markdown",
   "metadata": {},
   "source": [
    "## <a id='toc6_1_'></a>[Variant Analysis](#toc0_)"
   ]
  },
  {
   "cell_type": "markdown",
   "metadata": {},
   "source": [
    "### <a id='toc6_1_1_'></a>[Building Summary Table 1 & 2](#toc0_)"
   ]
  },
  {
   "cell_type": "code",
   "execution_count": 73,
   "metadata": {},
   "outputs": [],
   "source": [
    "all_variant_df = pd.DataFrame(variant_analysis_summary)"
   ]
  },
  {
   "cell_type": "code",
   "execution_count": 74,
   "metadata": {},
   "outputs": [],
   "source": [
    "def combine_frac_perc(df: pd.DataFrame, denominator: str) -> pd.DataFrame:\n",
    "    \"\"\"Put fraction and percent string into one string\n",
    "\n",
    "    :param df: Dataframe of variant statistics\n",
    "    :param denominator: string representing what the denominator of the fraction is\n",
    "    :return: Transformed dataframe with fraction and percent string as one string\n",
    "    \"\"\"\n",
    "    for d in denominator:\n",
    "        perc_key = f\"Percent of {d}\"\n",
    "        frac_key = f\"Fraction of {d}\"\n",
    "        df[perc_key] = df[frac_key].astype(str) + \"  (\" + df[perc_key] + \")\"\n",
    "        df = df.drop([frac_key], axis=1)\n",
    "    return df"
   ]
  },
  {
   "cell_type": "code",
   "execution_count": 75,
   "metadata": {},
   "outputs": [
    {
     "data": {
      "text/html": [
       "<div>\n",
       "<style scoped>\n",
       "    .dataframe tbody tr th:only-of-type {\n",
       "        vertical-align: middle;\n",
       "    }\n",
       "\n",
       "    .dataframe tbody tr th {\n",
       "        vertical-align: top;\n",
       "    }\n",
       "\n",
       "    .dataframe thead th {\n",
       "        text-align: right;\n",
       "    }\n",
       "</style>\n",
       "<table border=\"1\" class=\"dataframe\">\n",
       "  <thead>\n",
       "    <tr style=\"text-align: right;\">\n",
       "      <th></th>\n",
       "      <th>Variant Category</th>\n",
       "      <th>Count of CIViC Variants per Category</th>\n",
       "      <th>Percent of all CIViC Variants</th>\n",
       "      <th>Percent of Accepted Variants</th>\n",
       "      <th>Percent of Submitted Variants</th>\n",
       "    </tr>\n",
       "  </thead>\n",
       "  <tbody>\n",
       "    <tr>\n",
       "      <th>0</th>\n",
       "      <td>Normalized</td>\n",
       "      <td>2015</td>\n",
       "      <td>2015 / 3845  (52.41%)</td>\n",
       "      <td>976 / 2015  (48.44%)</td>\n",
       "      <td>1039 / 2015  (51.56%)</td>\n",
       "    </tr>\n",
       "    <tr>\n",
       "      <th>1</th>\n",
       "      <td>Unable to Normalize</td>\n",
       "      <td>83</td>\n",
       "      <td>83 / 3845  (2.16%)</td>\n",
       "      <td>14 / 83  (16.87%)</td>\n",
       "      <td>69 / 83  (83.13%)</td>\n",
       "    </tr>\n",
       "    <tr>\n",
       "      <th>2</th>\n",
       "      <td>Not Supported</td>\n",
       "      <td>1747</td>\n",
       "      <td>1747 / 3845  (45.44%)</td>\n",
       "      <td>814 / 1747  (46.59%)</td>\n",
       "      <td>933 / 1747  (53.41%)</td>\n",
       "    </tr>\n",
       "  </tbody>\n",
       "</table>\n",
       "</div>"
      ],
      "text/plain": [
       "      Variant Category  Count of CIViC Variants per Category  \\\n",
       "0           Normalized                                  2015   \n",
       "1  Unable to Normalize                                    83   \n",
       "2        Not Supported                                  1747   \n",
       "\n",
       "  Percent of all CIViC Variants Percent of Accepted Variants  \\\n",
       "0         2015 / 3845  (52.41%)         976 / 2015  (48.44%)   \n",
       "1            83 / 3845  (2.16%)            14 / 83  (16.87%)   \n",
       "2         1747 / 3845  (45.44%)         814 / 1747  (46.59%)   \n",
       "\n",
       "  Percent of Submitted Variants  \n",
       "0         1039 / 2015  (51.56%)  \n",
       "1             69 / 83  (83.13%)  \n",
       "2          933 / 1747  (53.41%)  "
      ]
     },
     "execution_count": 75,
     "metadata": {},
     "output_type": "execute_result"
    }
   ],
   "source": [
    "all_variant_df = combine_frac_perc(\n",
    "    all_variant_df, [\"all CIViC Variants\", \"Accepted Variants\", \"Submitted Variants\"]\n",
    ")\n",
    "all_variant_df"
   ]
  },
  {
   "cell_type": "code",
   "execution_count": 76,
   "metadata": {},
   "outputs": [],
   "source": [
    "all_variant_percent_status_df = all_variant_df.drop(\n",
    "    [\n",
    "        \"Percent of all CIViC Variants\",\n",
    "        \"Count of CIViC Variants per Category\",\n",
    "    ],\n",
    "    axis=1,\n",
    ")\n",
    "\n",
    "for_merge_all_variant_percent_of_civic_df = all_variant_df.drop(\n",
    "    [\n",
    "        \"Percent of Accepted Variants\",\n",
    "        \"Percent of Submitted Variants\",\n",
    "    ],\n",
    "    axis=1,\n",
    ")\n",
    "\n",
    "all_variant_percent_of_civic_df = for_merge_all_variant_percent_of_civic_df.drop(\n",
    "    [\"Count of CIViC Variants per Category\"], axis=1\n",
    ")"
   ]
  },
  {
   "cell_type": "code",
   "execution_count": 77,
   "metadata": {},
   "outputs": [],
   "source": [
    "for_merge_all_variant_percent_of_civic_df.to_csv(\n",
    "    \"output/for_merge_all_variant_percent_of_civic_df.csv\",\n",
    "    index=False,\n",
    ")"
   ]
  },
  {
   "cell_type": "markdown",
   "metadata": {},
   "source": [
    "### <a id='toc6_1_2_'></a>[Summary Table 1](#toc0_)"
   ]
  },
  {
   "cell_type": "markdown",
   "metadata": {},
   "source": [
    "The table below shows the 3 categories that CIViC variants were divided into after normalization and what percent they make up of all variants in CIViC data."
   ]
  },
  {
   "cell_type": "markdown",
   "metadata": {},
   "source": [
    "<ins>Numerator:</ins> # of CIViC variants based on normalization status\n",
    "<br><ins>Denominator:</ins> # of all CIViC variants"
   ]
  },
  {
   "cell_type": "code",
   "execution_count": 78,
   "metadata": {},
   "outputs": [
    {
     "data": {
      "text/html": [
       "<div>\n",
       "<style scoped>\n",
       "    .dataframe tbody tr th:only-of-type {\n",
       "        vertical-align: middle;\n",
       "    }\n",
       "\n",
       "    .dataframe tbody tr th {\n",
       "        vertical-align: top;\n",
       "    }\n",
       "\n",
       "    .dataframe thead th {\n",
       "        text-align: right;\n",
       "    }\n",
       "</style>\n",
       "<table border=\"1\" class=\"dataframe\">\n",
       "  <thead>\n",
       "    <tr style=\"text-align: right;\">\n",
       "      <th></th>\n",
       "      <th>Percent of all CIViC Variants</th>\n",
       "    </tr>\n",
       "    <tr>\n",
       "      <th>Variant Category</th>\n",
       "      <th></th>\n",
       "    </tr>\n",
       "  </thead>\n",
       "  <tbody>\n",
       "    <tr>\n",
       "      <th>Normalized</th>\n",
       "      <td>2015 / 3845  (52.41%)</td>\n",
       "    </tr>\n",
       "    <tr>\n",
       "      <th>Unable to Normalize</th>\n",
       "      <td>83 / 3845  (2.16%)</td>\n",
       "    </tr>\n",
       "    <tr>\n",
       "      <th>Not Supported</th>\n",
       "      <td>1747 / 3845  (45.44%)</td>\n",
       "    </tr>\n",
       "  </tbody>\n",
       "</table>\n",
       "</div>"
      ],
      "text/plain": [
       "                    Percent of all CIViC Variants\n",
       "Variant Category                                 \n",
       "Normalized                  2015 / 3845  (52.41%)\n",
       "Unable to Normalize            83 / 3845  (2.16%)\n",
       "Not Supported               1747 / 3845  (45.44%)"
      ]
     },
     "execution_count": 78,
     "metadata": {},
     "output_type": "execute_result"
    }
   ],
   "source": [
    "all_variant_percent_of_civic_df = all_variant_percent_of_civic_df.set_index(\n",
    "    \"Variant Category\"\n",
    ")\n",
    "all_variant_percent_of_civic_df"
   ]
  },
  {
   "cell_type": "code",
   "execution_count": 79,
   "metadata": {},
   "outputs": [],
   "source": [
    "civic_summary_table_1 = all_variant_percent_of_civic_df"
   ]
  },
  {
   "cell_type": "markdown",
   "metadata": {},
   "source": [
    "### <a id='toc6_1_3_'></a>[Summary Table 2](#toc0_)"
   ]
  },
  {
   "cell_type": "markdown",
   "metadata": {},
   "source": [
    "The table below shows the 3 categories that CIViC variants were divided into after normalization and what percent of the variants in each category are accepted (have at least one evidence item that is accepted) or not."
   ]
  },
  {
   "cell_type": "markdown",
   "metadata": {},
   "source": [
    "<ins>Numerator:</ins> # of CIViC variants based on normalization and acceptance status\n",
    "<br><ins>Denominator:</ins> # of CIViC variants based on normalization status"
   ]
  },
  {
   "cell_type": "code",
   "execution_count": 80,
   "metadata": {},
   "outputs": [
    {
     "data": {
      "text/html": [
       "<div>\n",
       "<style scoped>\n",
       "    .dataframe tbody tr th:only-of-type {\n",
       "        vertical-align: middle;\n",
       "    }\n",
       "\n",
       "    .dataframe tbody tr th {\n",
       "        vertical-align: top;\n",
       "    }\n",
       "\n",
       "    .dataframe thead th {\n",
       "        text-align: right;\n",
       "    }\n",
       "</style>\n",
       "<table border=\"1\" class=\"dataframe\">\n",
       "  <thead>\n",
       "    <tr style=\"text-align: right;\">\n",
       "      <th></th>\n",
       "      <th>Percent of Accepted Variants</th>\n",
       "      <th>Percent of Submitted Variants</th>\n",
       "    </tr>\n",
       "    <tr>\n",
       "      <th>Variant Category</th>\n",
       "      <th></th>\n",
       "      <th></th>\n",
       "    </tr>\n",
       "  </thead>\n",
       "  <tbody>\n",
       "    <tr>\n",
       "      <th>Normalized</th>\n",
       "      <td>976 / 2015  (48.44%)</td>\n",
       "      <td>1039 / 2015  (51.56%)</td>\n",
       "    </tr>\n",
       "    <tr>\n",
       "      <th>Unable to Normalize</th>\n",
       "      <td>14 / 83  (16.87%)</td>\n",
       "      <td>69 / 83  (83.13%)</td>\n",
       "    </tr>\n",
       "    <tr>\n",
       "      <th>Not Supported</th>\n",
       "      <td>814 / 1747  (46.59%)</td>\n",
       "      <td>933 / 1747  (53.41%)</td>\n",
       "    </tr>\n",
       "  </tbody>\n",
       "</table>\n",
       "</div>"
      ],
      "text/plain": [
       "                    Percent of Accepted Variants Percent of Submitted Variants\n",
       "Variant Category                                                              \n",
       "Normalized                  976 / 2015  (48.44%)         1039 / 2015  (51.56%)\n",
       "Unable to Normalize            14 / 83  (16.87%)             69 / 83  (83.13%)\n",
       "Not Supported               814 / 1747  (46.59%)          933 / 1747  (53.41%)"
      ]
     },
     "execution_count": 80,
     "metadata": {},
     "output_type": "execute_result"
    }
   ],
   "source": [
    "all_variant_percent_status_df = all_variant_percent_status_df.set_index(\n",
    "    \"Variant Category\"\n",
    ")\n",
    "all_variant_percent_status_df"
   ]
  },
  {
   "cell_type": "code",
   "execution_count": 81,
   "metadata": {},
   "outputs": [],
   "source": [
    "civic_summary_table_2 = all_variant_percent_status_df"
   ]
  },
  {
   "cell_type": "markdown",
   "metadata": {},
   "source": [
    "### <a id='toc6_1_4_'></a>[Building Summary Tables 3 - 5](#toc0_)"
   ]
  },
  {
   "cell_type": "code",
   "execution_count": 82,
   "metadata": {},
   "outputs": [],
   "source": [
    "not_supported_variant_df = pd.DataFrame(not_supported_variant_analysis_summary)"
   ]
  },
  {
   "cell_type": "code",
   "execution_count": 83,
   "metadata": {},
   "outputs": [
    {
     "data": {
      "text/html": [
       "<div>\n",
       "<style scoped>\n",
       "    .dataframe tbody tr th:only-of-type {\n",
       "        vertical-align: middle;\n",
       "    }\n",
       "\n",
       "    .dataframe tbody tr th {\n",
       "        vertical-align: top;\n",
       "    }\n",
       "\n",
       "    .dataframe thead th {\n",
       "        text-align: right;\n",
       "    }\n",
       "</style>\n",
       "<table border=\"1\" class=\"dataframe\">\n",
       "  <thead>\n",
       "    <tr style=\"text-align: right;\">\n",
       "      <th></th>\n",
       "      <th>Category</th>\n",
       "      <th>Count of CIViC Variants per Category</th>\n",
       "      <th>Percent of Not Supported Variants</th>\n",
       "      <th>Percent of all CIViC Variants</th>\n",
       "      <th>Percent of Accepted Variants</th>\n",
       "      <th>Percent of Submitted Variants</th>\n",
       "    </tr>\n",
       "  </thead>\n",
       "  <tbody>\n",
       "    <tr>\n",
       "      <th>0</th>\n",
       "      <td>Sequence</td>\n",
       "      <td>133</td>\n",
       "      <td>133 / 1747  (7.61%)</td>\n",
       "      <td>133 / 3845  (3.46%)</td>\n",
       "      <td>70 / 133  (52.63%)</td>\n",
       "      <td>63 / 133  (47.37%)</td>\n",
       "    </tr>\n",
       "    <tr>\n",
       "      <th>1</th>\n",
       "      <td>Genotype/Haplotype</td>\n",
       "      <td>22</td>\n",
       "      <td>22 / 1747  (1.26%)</td>\n",
       "      <td>22 / 3845  (0.57%)</td>\n",
       "      <td>14 / 22  (63.64%)</td>\n",
       "      <td>8 / 22  (36.36%)</td>\n",
       "    </tr>\n",
       "    <tr>\n",
       "      <th>2</th>\n",
       "      <td>Fusion</td>\n",
       "      <td>313</td>\n",
       "      <td>313 / 1747  (17.92%)</td>\n",
       "      <td>313 / 3845  (8.14%)</td>\n",
       "      <td>203 / 313  (64.86%)</td>\n",
       "      <td>110 / 313  (35.14%)</td>\n",
       "    </tr>\n",
       "    <tr>\n",
       "      <th>3</th>\n",
       "      <td>Rearrangement</td>\n",
       "      <td>122</td>\n",
       "      <td>122 / 1747  (6.98%)</td>\n",
       "      <td>122 / 3845  (3.17%)</td>\n",
       "      <td>52 / 122  (42.62%)</td>\n",
       "      <td>70 / 122  (57.38%)</td>\n",
       "    </tr>\n",
       "    <tr>\n",
       "      <th>4</th>\n",
       "      <td>Epigenetic Modification</td>\n",
       "      <td>14</td>\n",
       "      <td>14 / 1747  (0.80%)</td>\n",
       "      <td>14 / 3845  (0.36%)</td>\n",
       "      <td>14 / 14  (100.00%)</td>\n",
       "      <td>0 / 14  (0.00%)</td>\n",
       "    </tr>\n",
       "    <tr>\n",
       "      <th>5</th>\n",
       "      <td>Copy Number</td>\n",
       "      <td>32</td>\n",
       "      <td>32 / 1747  (1.83%)</td>\n",
       "      <td>32 / 3845  (0.83%)</td>\n",
       "      <td>19 / 32  (59.38%)</td>\n",
       "      <td>13 / 32  (40.62%)</td>\n",
       "    </tr>\n",
       "    <tr>\n",
       "      <th>6</th>\n",
       "      <td>Expression</td>\n",
       "      <td>294</td>\n",
       "      <td>294 / 1747  (16.83%)</td>\n",
       "      <td>294 / 3845  (7.65%)</td>\n",
       "      <td>181 / 294  (61.56%)</td>\n",
       "      <td>113 / 294  (38.44%)</td>\n",
       "    </tr>\n",
       "    <tr>\n",
       "      <th>7</th>\n",
       "      <td>Gene Function</td>\n",
       "      <td>111</td>\n",
       "      <td>111 / 1747  (6.35%)</td>\n",
       "      <td>111 / 3845  (2.89%)</td>\n",
       "      <td>59 / 111  (53.15%)</td>\n",
       "      <td>52 / 111  (46.85%)</td>\n",
       "    </tr>\n",
       "    <tr>\n",
       "      <th>8</th>\n",
       "      <td>Region-Defined</td>\n",
       "      <td>255</td>\n",
       "      <td>255 / 1747  (14.60%)</td>\n",
       "      <td>255 / 3845  (6.63%)</td>\n",
       "      <td>105 / 255  (41.18%)</td>\n",
       "      <td>150 / 255  (58.82%)</td>\n",
       "    </tr>\n",
       "    <tr>\n",
       "      <th>9</th>\n",
       "      <td>Genome Feature</td>\n",
       "      <td>10</td>\n",
       "      <td>10 / 1747  (0.57%)</td>\n",
       "      <td>10 / 3845  (0.26%)</td>\n",
       "      <td>4 / 10  (40.00%)</td>\n",
       "      <td>6 / 10  (60.00%)</td>\n",
       "    </tr>\n",
       "    <tr>\n",
       "      <th>10</th>\n",
       "      <td>Other</td>\n",
       "      <td>79</td>\n",
       "      <td>79 / 1747  (4.52%)</td>\n",
       "      <td>79 / 3845  (2.05%)</td>\n",
       "      <td>37 / 79  (46.84%)</td>\n",
       "      <td>42 / 79  (53.16%)</td>\n",
       "    </tr>\n",
       "    <tr>\n",
       "      <th>11</th>\n",
       "      <td>Transcript</td>\n",
       "      <td>362</td>\n",
       "      <td>362 / 1747  (20.72%)</td>\n",
       "      <td>362 / 3845  (9.41%)</td>\n",
       "      <td>56 / 362  (15.47%)</td>\n",
       "      <td>306 / 362  (84.53%)</td>\n",
       "    </tr>\n",
       "  </tbody>\n",
       "</table>\n",
       "</div>"
      ],
      "text/plain": [
       "                   Category  Count of CIViC Variants per Category  \\\n",
       "0                  Sequence                                   133   \n",
       "1        Genotype/Haplotype                                    22   \n",
       "2                    Fusion                                   313   \n",
       "3             Rearrangement                                   122   \n",
       "4   Epigenetic Modification                                    14   \n",
       "5               Copy Number                                    32   \n",
       "6                Expression                                   294   \n",
       "7             Gene Function                                   111   \n",
       "8            Region-Defined                                   255   \n",
       "9            Genome Feature                                    10   \n",
       "10                    Other                                    79   \n",
       "11               Transcript                                   362   \n",
       "\n",
       "   Percent of Not Supported Variants Percent of all CIViC Variants  \\\n",
       "0                133 / 1747  (7.61%)           133 / 3845  (3.46%)   \n",
       "1                 22 / 1747  (1.26%)            22 / 3845  (0.57%)   \n",
       "2               313 / 1747  (17.92%)           313 / 3845  (8.14%)   \n",
       "3                122 / 1747  (6.98%)           122 / 3845  (3.17%)   \n",
       "4                 14 / 1747  (0.80%)            14 / 3845  (0.36%)   \n",
       "5                 32 / 1747  (1.83%)            32 / 3845  (0.83%)   \n",
       "6               294 / 1747  (16.83%)           294 / 3845  (7.65%)   \n",
       "7                111 / 1747  (6.35%)           111 / 3845  (2.89%)   \n",
       "8               255 / 1747  (14.60%)           255 / 3845  (6.63%)   \n",
       "9                 10 / 1747  (0.57%)            10 / 3845  (0.26%)   \n",
       "10                79 / 1747  (4.52%)            79 / 3845  (2.05%)   \n",
       "11              362 / 1747  (20.72%)           362 / 3845  (9.41%)   \n",
       "\n",
       "   Percent of Accepted Variants Percent of Submitted Variants  \n",
       "0            70 / 133  (52.63%)            63 / 133  (47.37%)  \n",
       "1             14 / 22  (63.64%)              8 / 22  (36.36%)  \n",
       "2           203 / 313  (64.86%)           110 / 313  (35.14%)  \n",
       "3            52 / 122  (42.62%)            70 / 122  (57.38%)  \n",
       "4            14 / 14  (100.00%)               0 / 14  (0.00%)  \n",
       "5             19 / 32  (59.38%)             13 / 32  (40.62%)  \n",
       "6           181 / 294  (61.56%)           113 / 294  (38.44%)  \n",
       "7            59 / 111  (53.15%)            52 / 111  (46.85%)  \n",
       "8           105 / 255  (41.18%)           150 / 255  (58.82%)  \n",
       "9              4 / 10  (40.00%)              6 / 10  (60.00%)  \n",
       "10            37 / 79  (46.84%)             42 / 79  (53.16%)  \n",
       "11           56 / 362  (15.47%)           306 / 362  (84.53%)  "
      ]
     },
     "execution_count": 83,
     "metadata": {},
     "output_type": "execute_result"
    }
   ],
   "source": [
    "not_supported_variant_df = combine_frac_perc(\n",
    "    not_supported_variant_df,\n",
    "    [\n",
    "        \"Not Supported Variants\",\n",
    "        \"all CIViC Variants\",\n",
    "        \"Accepted Variants\",\n",
    "        \"Submitted Variants\",\n",
    "    ],\n",
    ")\n",
    "not_supported_variant_df"
   ]
  },
  {
   "cell_type": "code",
   "execution_count": 84,
   "metadata": {},
   "outputs": [],
   "source": [
    "for_merge_not_supported_variant_percent_of_civic_df = not_supported_variant_df.drop(\n",
    "    [\n",
    "        \"Percent of Not Supported Variants\",\n",
    "        \"Percent of Accepted Variants\",\n",
    "        \"Percent of Submitted Variants\",\n",
    "    ],\n",
    "    axis=1,\n",
    ")\n",
    "\n",
    "not_supported_variant_percent_of_civic_df = (\n",
    "    for_merge_not_supported_variant_percent_of_civic_df.drop(\n",
    "        [\"Count of CIViC Variants per Category\"], axis=1\n",
    "    )\n",
    ")\n",
    "\n",
    "not_supported_variant_percent_of_not_supported_df = not_supported_variant_df[\n",
    "    [\"Category\", \"Percent of Not Supported Variants\"]\n",
    "].copy()\n",
    "\n",
    "not_supported_variant_percent_evidence_df = not_supported_variant_df.drop(\n",
    "    [\n",
    "        \"Percent of all CIViC Variants\",\n",
    "        \"Percent of Not Supported Variants\",\n",
    "        \"Count of CIViC Variants per Category\",\n",
    "    ],\n",
    "    axis=1,\n",
    ")"
   ]
  },
  {
   "cell_type": "code",
   "execution_count": 85,
   "metadata": {},
   "outputs": [],
   "source": [
    "for_merge_not_supported_variant_percent_of_civic_df.to_csv(\n",
    "    \"output/for_merge_not_supported_variant_percent_of_civic_df.csv\",\n",
    "    index=False,\n",
    ")"
   ]
  },
  {
   "cell_type": "markdown",
   "metadata": {},
   "source": [
    "### <a id='toc6_1_5_'></a>[Summary Table 3](#toc0_)"
   ]
  },
  {
   "cell_type": "markdown",
   "metadata": {},
   "source": [
    "The table below shows the categories that the Not Supported variants were broken into and what percent of all CIViC variants they make up. These percentages will not add up to 100% because Not Supported variants are only a subset of all CIViC variants."
   ]
  },
  {
   "cell_type": "markdown",
   "metadata": {},
   "source": [
    "<ins>Numerator:</ins> # of CIViC variants that are Not Supported in a given Subcategory\n",
    "<br><ins>Denominator:</ins> # of all CIViC variants"
   ]
  },
  {
   "cell_type": "code",
   "execution_count": 86,
   "metadata": {},
   "outputs": [
    {
     "data": {
      "text/html": [
       "<div>\n",
       "<style scoped>\n",
       "    .dataframe tbody tr th:only-of-type {\n",
       "        vertical-align: middle;\n",
       "    }\n",
       "\n",
       "    .dataframe tbody tr th {\n",
       "        vertical-align: top;\n",
       "    }\n",
       "\n",
       "    .dataframe thead th {\n",
       "        text-align: right;\n",
       "    }\n",
       "</style>\n",
       "<table border=\"1\" class=\"dataframe\">\n",
       "  <thead>\n",
       "    <tr style=\"text-align: right;\">\n",
       "      <th></th>\n",
       "      <th>Percent of all CIViC Variants</th>\n",
       "    </tr>\n",
       "    <tr>\n",
       "      <th>Category</th>\n",
       "      <th></th>\n",
       "    </tr>\n",
       "  </thead>\n",
       "  <tbody>\n",
       "    <tr>\n",
       "      <th>Sequence</th>\n",
       "      <td>133 / 3845  (3.46%)</td>\n",
       "    </tr>\n",
       "    <tr>\n",
       "      <th>Genotype/Haplotype</th>\n",
       "      <td>22 / 3845  (0.57%)</td>\n",
       "    </tr>\n",
       "    <tr>\n",
       "      <th>Fusion</th>\n",
       "      <td>313 / 3845  (8.14%)</td>\n",
       "    </tr>\n",
       "    <tr>\n",
       "      <th>Rearrangement</th>\n",
       "      <td>122 / 3845  (3.17%)</td>\n",
       "    </tr>\n",
       "    <tr>\n",
       "      <th>Epigenetic Modification</th>\n",
       "      <td>14 / 3845  (0.36%)</td>\n",
       "    </tr>\n",
       "    <tr>\n",
       "      <th>Copy Number</th>\n",
       "      <td>32 / 3845  (0.83%)</td>\n",
       "    </tr>\n",
       "    <tr>\n",
       "      <th>Expression</th>\n",
       "      <td>294 / 3845  (7.65%)</td>\n",
       "    </tr>\n",
       "    <tr>\n",
       "      <th>Gene Function</th>\n",
       "      <td>111 / 3845  (2.89%)</td>\n",
       "    </tr>\n",
       "    <tr>\n",
       "      <th>Region-Defined</th>\n",
       "      <td>255 / 3845  (6.63%)</td>\n",
       "    </tr>\n",
       "    <tr>\n",
       "      <th>Genome Feature</th>\n",
       "      <td>10 / 3845  (0.26%)</td>\n",
       "    </tr>\n",
       "    <tr>\n",
       "      <th>Other</th>\n",
       "      <td>79 / 3845  (2.05%)</td>\n",
       "    </tr>\n",
       "    <tr>\n",
       "      <th>Transcript</th>\n",
       "      <td>362 / 3845  (9.41%)</td>\n",
       "    </tr>\n",
       "  </tbody>\n",
       "</table>\n",
       "</div>"
      ],
      "text/plain": [
       "                        Percent of all CIViC Variants\n",
       "Category                                             \n",
       "Sequence                          133 / 3845  (3.46%)\n",
       "Genotype/Haplotype                 22 / 3845  (0.57%)\n",
       "Fusion                            313 / 3845  (8.14%)\n",
       "Rearrangement                     122 / 3845  (3.17%)\n",
       "Epigenetic Modification            14 / 3845  (0.36%)\n",
       "Copy Number                        32 / 3845  (0.83%)\n",
       "Expression                        294 / 3845  (7.65%)\n",
       "Gene Function                     111 / 3845  (2.89%)\n",
       "Region-Defined                    255 / 3845  (6.63%)\n",
       "Genome Feature                     10 / 3845  (0.26%)\n",
       "Other                              79 / 3845  (2.05%)\n",
       "Transcript                        362 / 3845  (9.41%)"
      ]
     },
     "execution_count": 86,
     "metadata": {},
     "output_type": "execute_result"
    }
   ],
   "source": [
    "not_supported_variant_percent_of_civic_df = (\n",
    "    not_supported_variant_percent_of_civic_df.set_index(\"Category\")\n",
    ")\n",
    "not_supported_variant_percent_of_civic_df"
   ]
  },
  {
   "cell_type": "code",
   "execution_count": 87,
   "metadata": {},
   "outputs": [],
   "source": [
    "civic_summary_table_3 = not_supported_variant_percent_of_civic_df"
   ]
  },
  {
   "cell_type": "markdown",
   "metadata": {},
   "source": [
    "### <a id='toc6_1_6_'></a>[Summary Table 4](#toc0_)"
   ]
  },
  {
   "cell_type": "markdown",
   "metadata": {},
   "source": [
    "The table below shows the Not Supported variants broken up into 11 sub categories and what percent each sub category takes up in Not Supported variant group."
   ]
  },
  {
   "cell_type": "markdown",
   "metadata": {},
   "source": [
    "<ins>Numerator:</ins> # of CIViC variants that are Not Supported in a given Subcategory\n",
    "<br><ins>Denominator:</ins> # of CIViC variants that are Not Supported"
   ]
  },
  {
   "cell_type": "code",
   "execution_count": 88,
   "metadata": {},
   "outputs": [
    {
     "data": {
      "text/html": [
       "<div>\n",
       "<style scoped>\n",
       "    .dataframe tbody tr th:only-of-type {\n",
       "        vertical-align: middle;\n",
       "    }\n",
       "\n",
       "    .dataframe tbody tr th {\n",
       "        vertical-align: top;\n",
       "    }\n",
       "\n",
       "    .dataframe thead th {\n",
       "        text-align: right;\n",
       "    }\n",
       "</style>\n",
       "<table border=\"1\" class=\"dataframe\">\n",
       "  <thead>\n",
       "    <tr style=\"text-align: right;\">\n",
       "      <th></th>\n",
       "      <th>Percent of Not Supported Variants</th>\n",
       "    </tr>\n",
       "    <tr>\n",
       "      <th>Category</th>\n",
       "      <th></th>\n",
       "    </tr>\n",
       "  </thead>\n",
       "  <tbody>\n",
       "    <tr>\n",
       "      <th>Sequence</th>\n",
       "      <td>133 / 1747  (7.61%)</td>\n",
       "    </tr>\n",
       "    <tr>\n",
       "      <th>Genotype/Haplotype</th>\n",
       "      <td>22 / 1747  (1.26%)</td>\n",
       "    </tr>\n",
       "    <tr>\n",
       "      <th>Fusion</th>\n",
       "      <td>313 / 1747  (17.92%)</td>\n",
       "    </tr>\n",
       "    <tr>\n",
       "      <th>Rearrangement</th>\n",
       "      <td>122 / 1747  (6.98%)</td>\n",
       "    </tr>\n",
       "    <tr>\n",
       "      <th>Epigenetic Modification</th>\n",
       "      <td>14 / 1747  (0.80%)</td>\n",
       "    </tr>\n",
       "    <tr>\n",
       "      <th>Copy Number</th>\n",
       "      <td>32 / 1747  (1.83%)</td>\n",
       "    </tr>\n",
       "    <tr>\n",
       "      <th>Expression</th>\n",
       "      <td>294 / 1747  (16.83%)</td>\n",
       "    </tr>\n",
       "    <tr>\n",
       "      <th>Gene Function</th>\n",
       "      <td>111 / 1747  (6.35%)</td>\n",
       "    </tr>\n",
       "    <tr>\n",
       "      <th>Region-Defined</th>\n",
       "      <td>255 / 1747  (14.60%)</td>\n",
       "    </tr>\n",
       "    <tr>\n",
       "      <th>Genome Feature</th>\n",
       "      <td>10 / 1747  (0.57%)</td>\n",
       "    </tr>\n",
       "    <tr>\n",
       "      <th>Other</th>\n",
       "      <td>79 / 1747  (4.52%)</td>\n",
       "    </tr>\n",
       "    <tr>\n",
       "      <th>Transcript</th>\n",
       "      <td>362 / 1747  (20.72%)</td>\n",
       "    </tr>\n",
       "  </tbody>\n",
       "</table>\n",
       "</div>"
      ],
      "text/plain": [
       "                        Percent of Not Supported Variants\n",
       "Category                                                 \n",
       "Sequence                              133 / 1747  (7.61%)\n",
       "Genotype/Haplotype                     22 / 1747  (1.26%)\n",
       "Fusion                               313 / 1747  (17.92%)\n",
       "Rearrangement                         122 / 1747  (6.98%)\n",
       "Epigenetic Modification                14 / 1747  (0.80%)\n",
       "Copy Number                            32 / 1747  (1.83%)\n",
       "Expression                           294 / 1747  (16.83%)\n",
       "Gene Function                         111 / 1747  (6.35%)\n",
       "Region-Defined                       255 / 1747  (14.60%)\n",
       "Genome Feature                         10 / 1747  (0.57%)\n",
       "Other                                  79 / 1747  (4.52%)\n",
       "Transcript                           362 / 1747  (20.72%)"
      ]
     },
     "execution_count": 88,
     "metadata": {},
     "output_type": "execute_result"
    }
   ],
   "source": [
    "not_supported_variant_percent_of_not_supported_df = (\n",
    "    not_supported_variant_percent_of_not_supported_df.set_index(\"Category\")\n",
    ")\n",
    "not_supported_variant_percent_of_not_supported_df"
   ]
  },
  {
   "cell_type": "code",
   "execution_count": 89,
   "metadata": {},
   "outputs": [],
   "source": [
    "civic_summary_table_4 = not_supported_variant_percent_of_not_supported_df"
   ]
  },
  {
   "cell_type": "markdown",
   "metadata": {},
   "source": [
    "### <a id='toc6_1_7_'></a>[Summary Table 5](#toc0_)"
   ]
  },
  {
   "cell_type": "markdown",
   "metadata": {},
   "source": [
    "The table below shows the Not Supported variants broken up into 11 sub categories and what percent each sub category takes up in Not Supported variant group."
   ]
  },
  {
   "cell_type": "markdown",
   "metadata": {},
   "source": [
    "<ins>Numerator:</ins> # of CIViC variants that are Not Supported in a given Subcategory based on acceptance status\n",
    "<br><ins>Denominator:</ins> # of CIViC variants that are Not Supported in a given Subcategory"
   ]
  },
  {
   "cell_type": "code",
   "execution_count": 90,
   "metadata": {},
   "outputs": [
    {
     "data": {
      "text/html": [
       "<div>\n",
       "<style scoped>\n",
       "    .dataframe tbody tr th:only-of-type {\n",
       "        vertical-align: middle;\n",
       "    }\n",
       "\n",
       "    .dataframe tbody tr th {\n",
       "        vertical-align: top;\n",
       "    }\n",
       "\n",
       "    .dataframe thead th {\n",
       "        text-align: right;\n",
       "    }\n",
       "</style>\n",
       "<table border=\"1\" class=\"dataframe\">\n",
       "  <thead>\n",
       "    <tr style=\"text-align: right;\">\n",
       "      <th></th>\n",
       "      <th>Percent of Accepted Variants</th>\n",
       "      <th>Percent of Submitted Variants</th>\n",
       "    </tr>\n",
       "    <tr>\n",
       "      <th>Category</th>\n",
       "      <th></th>\n",
       "      <th></th>\n",
       "    </tr>\n",
       "  </thead>\n",
       "  <tbody>\n",
       "    <tr>\n",
       "      <th>Sequence</th>\n",
       "      <td>70 / 133  (52.63%)</td>\n",
       "      <td>63 / 133  (47.37%)</td>\n",
       "    </tr>\n",
       "    <tr>\n",
       "      <th>Genotype/Haplotype</th>\n",
       "      <td>14 / 22  (63.64%)</td>\n",
       "      <td>8 / 22  (36.36%)</td>\n",
       "    </tr>\n",
       "    <tr>\n",
       "      <th>Fusion</th>\n",
       "      <td>203 / 313  (64.86%)</td>\n",
       "      <td>110 / 313  (35.14%)</td>\n",
       "    </tr>\n",
       "    <tr>\n",
       "      <th>Rearrangement</th>\n",
       "      <td>52 / 122  (42.62%)</td>\n",
       "      <td>70 / 122  (57.38%)</td>\n",
       "    </tr>\n",
       "    <tr>\n",
       "      <th>Epigenetic Modification</th>\n",
       "      <td>14 / 14  (100.00%)</td>\n",
       "      <td>0 / 14  (0.00%)</td>\n",
       "    </tr>\n",
       "    <tr>\n",
       "      <th>Copy Number</th>\n",
       "      <td>19 / 32  (59.38%)</td>\n",
       "      <td>13 / 32  (40.62%)</td>\n",
       "    </tr>\n",
       "    <tr>\n",
       "      <th>Expression</th>\n",
       "      <td>181 / 294  (61.56%)</td>\n",
       "      <td>113 / 294  (38.44%)</td>\n",
       "    </tr>\n",
       "    <tr>\n",
       "      <th>Gene Function</th>\n",
       "      <td>59 / 111  (53.15%)</td>\n",
       "      <td>52 / 111  (46.85%)</td>\n",
       "    </tr>\n",
       "    <tr>\n",
       "      <th>Region-Defined</th>\n",
       "      <td>105 / 255  (41.18%)</td>\n",
       "      <td>150 / 255  (58.82%)</td>\n",
       "    </tr>\n",
       "    <tr>\n",
       "      <th>Genome Feature</th>\n",
       "      <td>4 / 10  (40.00%)</td>\n",
       "      <td>6 / 10  (60.00%)</td>\n",
       "    </tr>\n",
       "    <tr>\n",
       "      <th>Other</th>\n",
       "      <td>37 / 79  (46.84%)</td>\n",
       "      <td>42 / 79  (53.16%)</td>\n",
       "    </tr>\n",
       "    <tr>\n",
       "      <th>Transcript</th>\n",
       "      <td>56 / 362  (15.47%)</td>\n",
       "      <td>306 / 362  (84.53%)</td>\n",
       "    </tr>\n",
       "  </tbody>\n",
       "</table>\n",
       "</div>"
      ],
      "text/plain": [
       "                        Percent of Accepted Variants  \\\n",
       "Category                                               \n",
       "Sequence                          70 / 133  (52.63%)   \n",
       "Genotype/Haplotype                 14 / 22  (63.64%)   \n",
       "Fusion                           203 / 313  (64.86%)   \n",
       "Rearrangement                     52 / 122  (42.62%)   \n",
       "Epigenetic Modification           14 / 14  (100.00%)   \n",
       "Copy Number                        19 / 32  (59.38%)   \n",
       "Expression                       181 / 294  (61.56%)   \n",
       "Gene Function                     59 / 111  (53.15%)   \n",
       "Region-Defined                   105 / 255  (41.18%)   \n",
       "Genome Feature                      4 / 10  (40.00%)   \n",
       "Other                              37 / 79  (46.84%)   \n",
       "Transcript                        56 / 362  (15.47%)   \n",
       "\n",
       "                        Percent of Submitted Variants  \n",
       "Category                                               \n",
       "Sequence                           63 / 133  (47.37%)  \n",
       "Genotype/Haplotype                   8 / 22  (36.36%)  \n",
       "Fusion                            110 / 313  (35.14%)  \n",
       "Rearrangement                      70 / 122  (57.38%)  \n",
       "Epigenetic Modification               0 / 14  (0.00%)  \n",
       "Copy Number                         13 / 32  (40.62%)  \n",
       "Expression                        113 / 294  (38.44%)  \n",
       "Gene Function                      52 / 111  (46.85%)  \n",
       "Region-Defined                    150 / 255  (58.82%)  \n",
       "Genome Feature                       6 / 10  (60.00%)  \n",
       "Other                               42 / 79  (53.16%)  \n",
       "Transcript                        306 / 362  (84.53%)  "
      ]
     },
     "execution_count": 90,
     "metadata": {},
     "output_type": "execute_result"
    }
   ],
   "source": [
    "not_supported_variant_percent_evidence_df = (\n",
    "    not_supported_variant_percent_evidence_df.set_index(\"Category\")\n",
    ")\n",
    "not_supported_variant_percent_evidence_df"
   ]
  },
  {
   "cell_type": "code",
   "execution_count": 91,
   "metadata": {},
   "outputs": [],
   "source": [
    "civic_summary_table_5 = not_supported_variant_percent_evidence_df"
   ]
  },
  {
   "cell_type": "markdown",
   "metadata": {},
   "source": [
    "## <a id='toc6_2_'></a>[Evidence Analysis](#toc0_)"
   ]
  },
  {
   "cell_type": "markdown",
   "metadata": {},
   "source": [
    "### <a id='toc6_2_1_'></a>[Building Summary Tables 6 & 7](#toc0_)"
   ]
  },
  {
   "cell_type": "code",
   "execution_count": 92,
   "metadata": {},
   "outputs": [],
   "source": [
    "all_variant_evidence_df = pd.DataFrame(evidence_analysis_summary)"
   ]
  },
  {
   "cell_type": "code",
   "execution_count": 93,
   "metadata": {},
   "outputs": [
    {
     "data": {
      "text/html": [
       "<div>\n",
       "<style scoped>\n",
       "    .dataframe tbody tr th:only-of-type {\n",
       "        vertical-align: middle;\n",
       "    }\n",
       "\n",
       "    .dataframe tbody tr th {\n",
       "        vertical-align: top;\n",
       "    }\n",
       "\n",
       "    .dataframe thead th {\n",
       "        text-align: right;\n",
       "    }\n",
       "</style>\n",
       "<table border=\"1\" class=\"dataframe\">\n",
       "  <thead>\n",
       "    <tr style=\"text-align: right;\">\n",
       "      <th></th>\n",
       "      <th>Variant Category</th>\n",
       "      <th>Count of CIViC Evidence Items per Category</th>\n",
       "      <th>Percent of all CIViC Evidence Items</th>\n",
       "      <th>Percent of Accepted Evidence Items</th>\n",
       "      <th>Percent of Submitted Evidence Items</th>\n",
       "    </tr>\n",
       "  </thead>\n",
       "  <tbody>\n",
       "    <tr>\n",
       "      <th>0</th>\n",
       "      <td>Normalized</td>\n",
       "      <td>6457</td>\n",
       "      <td>6457 / 10850  (59.51%)</td>\n",
       "      <td>2415 / 6457  (37.40%)</td>\n",
       "      <td>4042 / 6457  (62.60%)</td>\n",
       "    </tr>\n",
       "    <tr>\n",
       "      <th>1</th>\n",
       "      <td>Unable to Normalize</td>\n",
       "      <td>128</td>\n",
       "      <td>128 / 10850  (1.18%)</td>\n",
       "      <td>20 / 128  (15.62%)</td>\n",
       "      <td>108 / 128  (84.38%)</td>\n",
       "    </tr>\n",
       "    <tr>\n",
       "      <th>2</th>\n",
       "      <td>Not Supported</td>\n",
       "      <td>4926</td>\n",
       "      <td>4926 / 10850  (45.40%)</td>\n",
       "      <td>2558 / 4926  (51.93%)</td>\n",
       "      <td>2368 / 4926  (48.07%)</td>\n",
       "    </tr>\n",
       "  </tbody>\n",
       "</table>\n",
       "</div>"
      ],
      "text/plain": [
       "      Variant Category  Count of CIViC Evidence Items per Category  \\\n",
       "0           Normalized                                        6457   \n",
       "1  Unable to Normalize                                         128   \n",
       "2        Not Supported                                        4926   \n",
       "\n",
       "  Percent of all CIViC Evidence Items Percent of Accepted Evidence Items  \\\n",
       "0              6457 / 10850  (59.51%)              2415 / 6457  (37.40%)   \n",
       "1                128 / 10850  (1.18%)                 20 / 128  (15.62%)   \n",
       "2              4926 / 10850  (45.40%)              2558 / 4926  (51.93%)   \n",
       "\n",
       "  Percent of Submitted Evidence Items  \n",
       "0               4042 / 6457  (62.60%)  \n",
       "1                 108 / 128  (84.38%)  \n",
       "2               2368 / 4926  (48.07%)  "
      ]
     },
     "execution_count": 93,
     "metadata": {},
     "output_type": "execute_result"
    }
   ],
   "source": [
    "all_variant_evidence_df = combine_frac_perc(\n",
    "    all_variant_evidence_df,\n",
    "    [\"all CIViC Evidence Items\", \"Accepted Evidence Items\", \"Submitted Evidence Items\"],\n",
    ")\n",
    "all_variant_evidence_df"
   ]
  },
  {
   "cell_type": "code",
   "execution_count": 94,
   "metadata": {},
   "outputs": [],
   "source": [
    "for_merge_all_variant_evidence_percent_of_civic_df = all_variant_evidence_df.drop(\n",
    "    [\"Percent of Accepted Evidence Items\", \"Percent of Submitted Evidence Items\"],\n",
    "    axis=1,\n",
    ")\n",
    "\n",
    "all_variant_evidence_percent_of_civic_df = (\n",
    "    for_merge_all_variant_evidence_percent_of_civic_df.drop(\n",
    "        [\"Count of CIViC Evidence Items per Category\"], axis=1\n",
    "    )\n",
    ")\n",
    "\n",
    "all_variant_evidence_percent_evidence_df = all_variant_evidence_df.drop(\n",
    "    [\n",
    "        \"Percent of all CIViC Evidence Items\",\n",
    "        \"Count of CIViC Evidence Items per Category\",\n",
    "    ],\n",
    "    axis=1,\n",
    ")"
   ]
  },
  {
   "cell_type": "code",
   "execution_count": 95,
   "metadata": {},
   "outputs": [],
   "source": [
    "for_merge_all_variant_evidence_percent_of_civic_df.to_csv(\n",
    "    \"output/for_merge_all_variant_evidence_percent_of_civic_df.csv\",\n",
    "    index=False,\n",
    ")"
   ]
  },
  {
   "cell_type": "markdown",
   "metadata": {},
   "source": [
    "### <a id='toc6_2_2_'></a>[Summary Table 6](#toc0_)"
   ]
  },
  {
   "cell_type": "markdown",
   "metadata": {},
   "source": [
    "The table below shows what percent of all evidence items in CIViC are associated with Normalized, Unable to Normalize, and Not Supported variants. This will not add up to 100% because evidence items may be used across multiple variants."
   ]
  },
  {
   "cell_type": "markdown",
   "metadata": {},
   "source": [
    "<ins>Numerator:</ins> # of CIViC evidence items based on normalization status of associated variant\n",
    "<br><ins>Denominator:</ins> # of all CIViC evidence items"
   ]
  },
  {
   "cell_type": "code",
   "execution_count": 96,
   "metadata": {},
   "outputs": [
    {
     "data": {
      "text/html": [
       "<div>\n",
       "<style scoped>\n",
       "    .dataframe tbody tr th:only-of-type {\n",
       "        vertical-align: middle;\n",
       "    }\n",
       "\n",
       "    .dataframe tbody tr th {\n",
       "        vertical-align: top;\n",
       "    }\n",
       "\n",
       "    .dataframe thead th {\n",
       "        text-align: right;\n",
       "    }\n",
       "</style>\n",
       "<table border=\"1\" class=\"dataframe\">\n",
       "  <thead>\n",
       "    <tr style=\"text-align: right;\">\n",
       "      <th></th>\n",
       "      <th>Percent of all CIViC Evidence Items</th>\n",
       "    </tr>\n",
       "    <tr>\n",
       "      <th>Variant Category</th>\n",
       "      <th></th>\n",
       "    </tr>\n",
       "  </thead>\n",
       "  <tbody>\n",
       "    <tr>\n",
       "      <th>Normalized</th>\n",
       "      <td>6457 / 10850  (59.51%)</td>\n",
       "    </tr>\n",
       "    <tr>\n",
       "      <th>Unable to Normalize</th>\n",
       "      <td>128 / 10850  (1.18%)</td>\n",
       "    </tr>\n",
       "    <tr>\n",
       "      <th>Not Supported</th>\n",
       "      <td>4926 / 10850  (45.40%)</td>\n",
       "    </tr>\n",
       "  </tbody>\n",
       "</table>\n",
       "</div>"
      ],
      "text/plain": [
       "                    Percent of all CIViC Evidence Items\n",
       "Variant Category                                       \n",
       "Normalized                       6457 / 10850  (59.51%)\n",
       "Unable to Normalize                128 / 10850  (1.18%)\n",
       "Not Supported                    4926 / 10850  (45.40%)"
      ]
     },
     "execution_count": 96,
     "metadata": {},
     "output_type": "execute_result"
    }
   ],
   "source": [
    "all_variant_evidence_percent_of_civic_df = (\n",
    "    all_variant_evidence_percent_of_civic_df.set_index(\"Variant Category\")\n",
    ")\n",
    "all_variant_evidence_percent_of_civic_df"
   ]
  },
  {
   "cell_type": "code",
   "execution_count": 97,
   "metadata": {},
   "outputs": [],
   "source": [
    "civic_summary_table_6 = all_variant_evidence_percent_of_civic_df"
   ]
  },
  {
   "cell_type": "markdown",
   "metadata": {},
   "source": [
    "### <a id='toc6_2_3_'></a>[Summmary Table 7](#toc0_)"
   ]
  },
  {
   "cell_type": "markdown",
   "metadata": {},
   "source": [
    "The table below shows the percent of accepted and submitted evidence items per category of variants."
   ]
  },
  {
   "cell_type": "markdown",
   "metadata": {},
   "source": [
    "<ins>Numerator:</ins> # of CIViC evidence items based on evidence acceptance status and normalization status of associated variant\n",
    "<br><ins>Denominator:</ins> # of all CIViC evidence items based on normalization status of associated variant"
   ]
  },
  {
   "cell_type": "code",
   "execution_count": 98,
   "metadata": {},
   "outputs": [
    {
     "data": {
      "text/html": [
       "<div>\n",
       "<style scoped>\n",
       "    .dataframe tbody tr th:only-of-type {\n",
       "        vertical-align: middle;\n",
       "    }\n",
       "\n",
       "    .dataframe tbody tr th {\n",
       "        vertical-align: top;\n",
       "    }\n",
       "\n",
       "    .dataframe thead th {\n",
       "        text-align: right;\n",
       "    }\n",
       "</style>\n",
       "<table border=\"1\" class=\"dataframe\">\n",
       "  <thead>\n",
       "    <tr style=\"text-align: right;\">\n",
       "      <th></th>\n",
       "      <th>Percent of Accepted Evidence Items</th>\n",
       "      <th>Percent of Submitted Evidence Items</th>\n",
       "    </tr>\n",
       "    <tr>\n",
       "      <th>Variant Category</th>\n",
       "      <th></th>\n",
       "      <th></th>\n",
       "    </tr>\n",
       "  </thead>\n",
       "  <tbody>\n",
       "    <tr>\n",
       "      <th>Normalized</th>\n",
       "      <td>2415 / 6457  (37.40%)</td>\n",
       "      <td>4042 / 6457  (62.60%)</td>\n",
       "    </tr>\n",
       "    <tr>\n",
       "      <th>Unable to Normalize</th>\n",
       "      <td>20 / 128  (15.62%)</td>\n",
       "      <td>108 / 128  (84.38%)</td>\n",
       "    </tr>\n",
       "    <tr>\n",
       "      <th>Not Supported</th>\n",
       "      <td>2558 / 4926  (51.93%)</td>\n",
       "      <td>2368 / 4926  (48.07%)</td>\n",
       "    </tr>\n",
       "  </tbody>\n",
       "</table>\n",
       "</div>"
      ],
      "text/plain": [
       "                    Percent of Accepted Evidence Items  \\\n",
       "Variant Category                                         \n",
       "Normalized                       2415 / 6457  (37.40%)   \n",
       "Unable to Normalize                 20 / 128  (15.62%)   \n",
       "Not Supported                    2558 / 4926  (51.93%)   \n",
       "\n",
       "                    Percent of Submitted Evidence Items  \n",
       "Variant Category                                         \n",
       "Normalized                        4042 / 6457  (62.60%)  \n",
       "Unable to Normalize                 108 / 128  (84.38%)  \n",
       "Not Supported                     2368 / 4926  (48.07%)  "
      ]
     },
     "execution_count": 98,
     "metadata": {},
     "output_type": "execute_result"
    }
   ],
   "source": [
    "all_variant_evidence_percent_evidence_df = (\n",
    "    all_variant_evidence_percent_evidence_df.set_index(\"Variant Category\")\n",
    ")\n",
    "all_variant_evidence_percent_evidence_df"
   ]
  },
  {
   "cell_type": "code",
   "execution_count": 99,
   "metadata": {},
   "outputs": [],
   "source": [
    "civic_summary_table_7 = all_variant_evidence_percent_evidence_df"
   ]
  },
  {
   "cell_type": "markdown",
   "metadata": {},
   "source": [
    "### <a id='toc6_2_4_'></a>[Building Summary Tables 8 - 10](#toc0_)"
   ]
  },
  {
   "cell_type": "code",
   "execution_count": 100,
   "metadata": {},
   "outputs": [],
   "source": [
    "not_supported_variant_evidence_df = pd.DataFrame(not_supported_variant_evidence_summary)"
   ]
  },
  {
   "cell_type": "code",
   "execution_count": 101,
   "metadata": {},
   "outputs": [
    {
     "data": {
      "text/html": [
       "<div>\n",
       "<style scoped>\n",
       "    .dataframe tbody tr th:only-of-type {\n",
       "        vertical-align: middle;\n",
       "    }\n",
       "\n",
       "    .dataframe tbody tr th {\n",
       "        vertical-align: top;\n",
       "    }\n",
       "\n",
       "    .dataframe thead th {\n",
       "        text-align: right;\n",
       "    }\n",
       "</style>\n",
       "<table border=\"1\" class=\"dataframe\">\n",
       "  <thead>\n",
       "    <tr style=\"text-align: right;\">\n",
       "      <th></th>\n",
       "      <th>Category</th>\n",
       "      <th>Count of CIViC Evidence Items per Category</th>\n",
       "      <th>Percent of all CIViC Evidence Items</th>\n",
       "      <th>Percent of Not Supported Variant Evidence Items</th>\n",
       "      <th>Percent of Accepted Evidence Items</th>\n",
       "      <th>Percent of Submitted Evidence Items</th>\n",
       "    </tr>\n",
       "  </thead>\n",
       "  <tbody>\n",
       "    <tr>\n",
       "      <th>0</th>\n",
       "      <td>Sequence</td>\n",
       "      <td>300</td>\n",
       "      <td>300 / 10850  (2.76%)</td>\n",
       "      <td>300 / 4926  (6.09%)</td>\n",
       "      <td>193 / 300  (64.33%)</td>\n",
       "      <td>107 / 300  (35.67%)</td>\n",
       "    </tr>\n",
       "    <tr>\n",
       "      <th>1</th>\n",
       "      <td>Genotype/Haplotype</td>\n",
       "      <td>39</td>\n",
       "      <td>39 / 10850  (0.36%)</td>\n",
       "      <td>39 / 4926  (0.79%)</td>\n",
       "      <td>19 / 39  (48.72%)</td>\n",
       "      <td>20 / 39  (51.28%)</td>\n",
       "    </tr>\n",
       "    <tr>\n",
       "      <th>2</th>\n",
       "      <td>Fusion</td>\n",
       "      <td>1590</td>\n",
       "      <td>1590 / 10850  (14.65%)</td>\n",
       "      <td>1590 / 4926  (32.28%)</td>\n",
       "      <td>1028 / 1590  (64.65%)</td>\n",
       "      <td>562 / 1590  (35.35%)</td>\n",
       "    </tr>\n",
       "    <tr>\n",
       "      <th>3</th>\n",
       "      <td>Rearrangement</td>\n",
       "      <td>593</td>\n",
       "      <td>593 / 10850  (5.47%)</td>\n",
       "      <td>593 / 4926  (12.04%)</td>\n",
       "      <td>238 / 593  (40.13%)</td>\n",
       "      <td>355 / 593  (59.87%)</td>\n",
       "    </tr>\n",
       "    <tr>\n",
       "      <th>4</th>\n",
       "      <td>Epigenetic Modification</td>\n",
       "      <td>23</td>\n",
       "      <td>23 / 10850  (0.21%)</td>\n",
       "      <td>23 / 4926  (0.47%)</td>\n",
       "      <td>22 / 23  (95.65%)</td>\n",
       "      <td>1 / 23  (4.35%)</td>\n",
       "    </tr>\n",
       "    <tr>\n",
       "      <th>5</th>\n",
       "      <td>Copy Number</td>\n",
       "      <td>77</td>\n",
       "      <td>77 / 10850  (0.71%)</td>\n",
       "      <td>77 / 4926  (1.56%)</td>\n",
       "      <td>35 / 77  (45.45%)</td>\n",
       "      <td>42 / 77  (54.55%)</td>\n",
       "    </tr>\n",
       "    <tr>\n",
       "      <th>6</th>\n",
       "      <td>Expression</td>\n",
       "      <td>623</td>\n",
       "      <td>623 / 10850  (5.74%)</td>\n",
       "      <td>623 / 4926  (12.65%)</td>\n",
       "      <td>345 / 623  (55.38%)</td>\n",
       "      <td>278 / 623  (44.62%)</td>\n",
       "    </tr>\n",
       "    <tr>\n",
       "      <th>7</th>\n",
       "      <td>Gene Function</td>\n",
       "      <td>386</td>\n",
       "      <td>386 / 10850  (3.56%)</td>\n",
       "      <td>386 / 4926  (7.84%)</td>\n",
       "      <td>171 / 386  (44.30%)</td>\n",
       "      <td>215 / 386  (55.70%)</td>\n",
       "    </tr>\n",
       "    <tr>\n",
       "      <th>8</th>\n",
       "      <td>Region-Defined</td>\n",
       "      <td>782</td>\n",
       "      <td>782 / 10850  (7.21%)</td>\n",
       "      <td>782 / 4926  (15.87%)</td>\n",
       "      <td>459 / 782  (58.70%)</td>\n",
       "      <td>323 / 782  (41.30%)</td>\n",
       "    </tr>\n",
       "    <tr>\n",
       "      <th>9</th>\n",
       "      <td>Genome Feature</td>\n",
       "      <td>25</td>\n",
       "      <td>25 / 10850  (0.23%)</td>\n",
       "      <td>25 / 4926  (0.51%)</td>\n",
       "      <td>5 / 25  (20.00%)</td>\n",
       "      <td>20 / 25  (80.00%)</td>\n",
       "    </tr>\n",
       "    <tr>\n",
       "      <th>10</th>\n",
       "      <td>Other</td>\n",
       "      <td>126</td>\n",
       "      <td>126 / 10850  (1.16%)</td>\n",
       "      <td>126 / 4926  (2.56%)</td>\n",
       "      <td>42 / 126  (33.33%)</td>\n",
       "      <td>84 / 126  (66.67%)</td>\n",
       "    </tr>\n",
       "    <tr>\n",
       "      <th>11</th>\n",
       "      <td>Transcript</td>\n",
       "      <td>435</td>\n",
       "      <td>435 / 10850  (4.01%)</td>\n",
       "      <td>435 / 4926  (8.83%)</td>\n",
       "      <td>58 / 435  (13.33%)</td>\n",
       "      <td>377 / 435  (86.67%)</td>\n",
       "    </tr>\n",
       "  </tbody>\n",
       "</table>\n",
       "</div>"
      ],
      "text/plain": [
       "                   Category  Count of CIViC Evidence Items per Category  \\\n",
       "0                  Sequence                                         300   \n",
       "1        Genotype/Haplotype                                          39   \n",
       "2                    Fusion                                        1590   \n",
       "3             Rearrangement                                         593   \n",
       "4   Epigenetic Modification                                          23   \n",
       "5               Copy Number                                          77   \n",
       "6                Expression                                         623   \n",
       "7             Gene Function                                         386   \n",
       "8            Region-Defined                                         782   \n",
       "9            Genome Feature                                          25   \n",
       "10                    Other                                         126   \n",
       "11               Transcript                                         435   \n",
       "\n",
       "   Percent of all CIViC Evidence Items  \\\n",
       "0                 300 / 10850  (2.76%)   \n",
       "1                  39 / 10850  (0.36%)   \n",
       "2               1590 / 10850  (14.65%)   \n",
       "3                 593 / 10850  (5.47%)   \n",
       "4                  23 / 10850  (0.21%)   \n",
       "5                  77 / 10850  (0.71%)   \n",
       "6                 623 / 10850  (5.74%)   \n",
       "7                 386 / 10850  (3.56%)   \n",
       "8                 782 / 10850  (7.21%)   \n",
       "9                  25 / 10850  (0.23%)   \n",
       "10                126 / 10850  (1.16%)   \n",
       "11                435 / 10850  (4.01%)   \n",
       "\n",
       "   Percent of Not Supported Variant Evidence Items  \\\n",
       "0                              300 / 4926  (6.09%)   \n",
       "1                               39 / 4926  (0.79%)   \n",
       "2                            1590 / 4926  (32.28%)   \n",
       "3                             593 / 4926  (12.04%)   \n",
       "4                               23 / 4926  (0.47%)   \n",
       "5                               77 / 4926  (1.56%)   \n",
       "6                             623 / 4926  (12.65%)   \n",
       "7                              386 / 4926  (7.84%)   \n",
       "8                             782 / 4926  (15.87%)   \n",
       "9                               25 / 4926  (0.51%)   \n",
       "10                             126 / 4926  (2.56%)   \n",
       "11                             435 / 4926  (8.83%)   \n",
       "\n",
       "   Percent of Accepted Evidence Items Percent of Submitted Evidence Items  \n",
       "0                 193 / 300  (64.33%)                 107 / 300  (35.67%)  \n",
       "1                   19 / 39  (48.72%)                   20 / 39  (51.28%)  \n",
       "2               1028 / 1590  (64.65%)                562 / 1590  (35.35%)  \n",
       "3                 238 / 593  (40.13%)                 355 / 593  (59.87%)  \n",
       "4                   22 / 23  (95.65%)                     1 / 23  (4.35%)  \n",
       "5                   35 / 77  (45.45%)                   42 / 77  (54.55%)  \n",
       "6                 345 / 623  (55.38%)                 278 / 623  (44.62%)  \n",
       "7                 171 / 386  (44.30%)                 215 / 386  (55.70%)  \n",
       "8                 459 / 782  (58.70%)                 323 / 782  (41.30%)  \n",
       "9                    5 / 25  (20.00%)                   20 / 25  (80.00%)  \n",
       "10                 42 / 126  (33.33%)                  84 / 126  (66.67%)  \n",
       "11                 58 / 435  (13.33%)                 377 / 435  (86.67%)  "
      ]
     },
     "execution_count": 101,
     "metadata": {},
     "output_type": "execute_result"
    }
   ],
   "source": [
    "not_supported_variant_evidence_df = combine_frac_perc(\n",
    "    not_supported_variant_evidence_df,\n",
    "    [\n",
    "        \"all CIViC Evidence Items\",\n",
    "        \"Not Supported Variant Evidence Items\",\n",
    "        \"Accepted Evidence Items\",\n",
    "        \"Submitted Evidence Items\",\n",
    "    ],\n",
    ")\n",
    "not_supported_variant_evidence_df"
   ]
  },
  {
   "cell_type": "code",
   "execution_count": 102,
   "metadata": {},
   "outputs": [],
   "source": [
    "for_merge_not_supported_variant_evidence_percent_of_civic_df = (\n",
    "    not_supported_variant_evidence_df.drop(\n",
    "        [\n",
    "            \"Percent of Not Supported Variant Evidence Items\",\n",
    "            \"Percent of Accepted Evidence Items\",\n",
    "            \"Percent of Submitted Evidence Items\",\n",
    "        ],\n",
    "        axis=1,\n",
    "    )\n",
    ")\n",
    "\n",
    "not_supported_variant_evidence_percent_of_civic_df = (\n",
    "    for_merge_not_supported_variant_evidence_percent_of_civic_df.drop(\n",
    "        [\"Count of CIViC Evidence Items per Category\"], axis=1\n",
    "    )\n",
    ")\n",
    "\n",
    "not_supported_variant_evidence_percent_of_not_supported_df = (\n",
    "    not_supported_variant_evidence_df[\n",
    "        [\"Category\", \"Percent of Not Supported Variant Evidence Items\"]\n",
    "    ].copy()\n",
    ")\n",
    "\n",
    "\n",
    "not_supported_variant_evidence_percent_evidence_df = (\n",
    "    not_supported_variant_evidence_df.drop(\n",
    "        [\n",
    "            \"Percent of Not Supported Variant Evidence Items\",\n",
    "            \"Percent of all CIViC Evidence Items\",\n",
    "            \"Count of CIViC Evidence Items per Category\",\n",
    "        ],\n",
    "        axis=1,\n",
    "    )\n",
    ")"
   ]
  },
  {
   "cell_type": "code",
   "execution_count": 103,
   "metadata": {},
   "outputs": [],
   "source": [
    "for_merge_not_supported_variant_evidence_percent_of_civic_df.to_csv(\n",
    "    \"output/for_merge_not_supported_variant_evidence_percent_of_civic_df.csv\",\n",
    "    index=False,\n",
    ")"
   ]
  },
  {
   "cell_type": "markdown",
   "metadata": {},
   "source": [
    "### <a id='toc6_2_5_'></a>[Summary Table 8](#toc0_)"
   ]
  },
  {
   "cell_type": "markdown",
   "metadata": {},
   "source": [
    "The table below shows the percent of all CIViC evidence items that are associated with a Not Supported variant sub category. This will not add up to 100% since the evidence items can be associated with multiple variants."
   ]
  },
  {
   "cell_type": "markdown",
   "metadata": {},
   "source": [
    "<ins>Numerator:</ins> # of CIViC evidence items that are associated with Not Supported variants in a given Subcategory\n",
    "<br><ins>Denominator:</ins> # of all CIViC evidence items"
   ]
  },
  {
   "cell_type": "code",
   "execution_count": 104,
   "metadata": {},
   "outputs": [
    {
     "data": {
      "text/html": [
       "<div>\n",
       "<style scoped>\n",
       "    .dataframe tbody tr th:only-of-type {\n",
       "        vertical-align: middle;\n",
       "    }\n",
       "\n",
       "    .dataframe tbody tr th {\n",
       "        vertical-align: top;\n",
       "    }\n",
       "\n",
       "    .dataframe thead th {\n",
       "        text-align: right;\n",
       "    }\n",
       "</style>\n",
       "<table border=\"1\" class=\"dataframe\">\n",
       "  <thead>\n",
       "    <tr style=\"text-align: right;\">\n",
       "      <th></th>\n",
       "      <th>Percent of all CIViC Evidence Items</th>\n",
       "    </tr>\n",
       "    <tr>\n",
       "      <th>Category</th>\n",
       "      <th></th>\n",
       "    </tr>\n",
       "  </thead>\n",
       "  <tbody>\n",
       "    <tr>\n",
       "      <th>Sequence</th>\n",
       "      <td>300 / 10850  (2.76%)</td>\n",
       "    </tr>\n",
       "    <tr>\n",
       "      <th>Genotype/Haplotype</th>\n",
       "      <td>39 / 10850  (0.36%)</td>\n",
       "    </tr>\n",
       "    <tr>\n",
       "      <th>Fusion</th>\n",
       "      <td>1590 / 10850  (14.65%)</td>\n",
       "    </tr>\n",
       "    <tr>\n",
       "      <th>Rearrangement</th>\n",
       "      <td>593 / 10850  (5.47%)</td>\n",
       "    </tr>\n",
       "    <tr>\n",
       "      <th>Epigenetic Modification</th>\n",
       "      <td>23 / 10850  (0.21%)</td>\n",
       "    </tr>\n",
       "    <tr>\n",
       "      <th>Copy Number</th>\n",
       "      <td>77 / 10850  (0.71%)</td>\n",
       "    </tr>\n",
       "    <tr>\n",
       "      <th>Expression</th>\n",
       "      <td>623 / 10850  (5.74%)</td>\n",
       "    </tr>\n",
       "    <tr>\n",
       "      <th>Gene Function</th>\n",
       "      <td>386 / 10850  (3.56%)</td>\n",
       "    </tr>\n",
       "    <tr>\n",
       "      <th>Region-Defined</th>\n",
       "      <td>782 / 10850  (7.21%)</td>\n",
       "    </tr>\n",
       "    <tr>\n",
       "      <th>Genome Feature</th>\n",
       "      <td>25 / 10850  (0.23%)</td>\n",
       "    </tr>\n",
       "    <tr>\n",
       "      <th>Other</th>\n",
       "      <td>126 / 10850  (1.16%)</td>\n",
       "    </tr>\n",
       "    <tr>\n",
       "      <th>Transcript</th>\n",
       "      <td>435 / 10850  (4.01%)</td>\n",
       "    </tr>\n",
       "  </tbody>\n",
       "</table>\n",
       "</div>"
      ],
      "text/plain": [
       "                        Percent of all CIViC Evidence Items\n",
       "Category                                                   \n",
       "Sequence                               300 / 10850  (2.76%)\n",
       "Genotype/Haplotype                      39 / 10850  (0.36%)\n",
       "Fusion                               1590 / 10850  (14.65%)\n",
       "Rearrangement                          593 / 10850  (5.47%)\n",
       "Epigenetic Modification                 23 / 10850  (0.21%)\n",
       "Copy Number                             77 / 10850  (0.71%)\n",
       "Expression                             623 / 10850  (5.74%)\n",
       "Gene Function                          386 / 10850  (3.56%)\n",
       "Region-Defined                         782 / 10850  (7.21%)\n",
       "Genome Feature                          25 / 10850  (0.23%)\n",
       "Other                                  126 / 10850  (1.16%)\n",
       "Transcript                             435 / 10850  (4.01%)"
      ]
     },
     "execution_count": 104,
     "metadata": {},
     "output_type": "execute_result"
    }
   ],
   "source": [
    "not_supported_variant_evidence_percent_of_civic_df = (\n",
    "    not_supported_variant_evidence_percent_of_civic_df.set_index(\"Category\")\n",
    ")\n",
    "not_supported_variant_evidence_percent_of_civic_df"
   ]
  },
  {
   "cell_type": "code",
   "execution_count": 105,
   "metadata": {},
   "outputs": [],
   "source": [
    "civic_summary_table_8 = not_supported_variant_evidence_percent_of_civic_df"
   ]
  },
  {
   "cell_type": "markdown",
   "metadata": {},
   "source": [
    "### <a id='toc6_2_6_'></a>[Summary Table 9](#toc0_)"
   ]
  },
  {
   "cell_type": "markdown",
   "metadata": {},
   "source": [
    "The table below shows the percent of all evidence items associated with Not Supported variants that are associated with a variant sub category."
   ]
  },
  {
   "cell_type": "markdown",
   "metadata": {},
   "source": [
    "<ins>Numerator:</ins> # of CIViC evidence items that are associated with Not Supported variants in a given Subcategory\n",
    "<br><ins>Denominator:</ins> # of CIViC evidence items that are associated with Not Supported variants"
   ]
  },
  {
   "cell_type": "code",
   "execution_count": 106,
   "metadata": {},
   "outputs": [
    {
     "data": {
      "text/html": [
       "<div>\n",
       "<style scoped>\n",
       "    .dataframe tbody tr th:only-of-type {\n",
       "        vertical-align: middle;\n",
       "    }\n",
       "\n",
       "    .dataframe tbody tr th {\n",
       "        vertical-align: top;\n",
       "    }\n",
       "\n",
       "    .dataframe thead th {\n",
       "        text-align: right;\n",
       "    }\n",
       "</style>\n",
       "<table border=\"1\" class=\"dataframe\">\n",
       "  <thead>\n",
       "    <tr style=\"text-align: right;\">\n",
       "      <th></th>\n",
       "      <th>Percent of Not Supported Variant Evidence Items</th>\n",
       "    </tr>\n",
       "    <tr>\n",
       "      <th>Category</th>\n",
       "      <th></th>\n",
       "    </tr>\n",
       "  </thead>\n",
       "  <tbody>\n",
       "    <tr>\n",
       "      <th>Sequence</th>\n",
       "      <td>300 / 4926  (6.09%)</td>\n",
       "    </tr>\n",
       "    <tr>\n",
       "      <th>Genotype/Haplotype</th>\n",
       "      <td>39 / 4926  (0.79%)</td>\n",
       "    </tr>\n",
       "    <tr>\n",
       "      <th>Fusion</th>\n",
       "      <td>1590 / 4926  (32.28%)</td>\n",
       "    </tr>\n",
       "    <tr>\n",
       "      <th>Rearrangement</th>\n",
       "      <td>593 / 4926  (12.04%)</td>\n",
       "    </tr>\n",
       "    <tr>\n",
       "      <th>Epigenetic Modification</th>\n",
       "      <td>23 / 4926  (0.47%)</td>\n",
       "    </tr>\n",
       "    <tr>\n",
       "      <th>Copy Number</th>\n",
       "      <td>77 / 4926  (1.56%)</td>\n",
       "    </tr>\n",
       "    <tr>\n",
       "      <th>Expression</th>\n",
       "      <td>623 / 4926  (12.65%)</td>\n",
       "    </tr>\n",
       "    <tr>\n",
       "      <th>Gene Function</th>\n",
       "      <td>386 / 4926  (7.84%)</td>\n",
       "    </tr>\n",
       "    <tr>\n",
       "      <th>Region-Defined</th>\n",
       "      <td>782 / 4926  (15.87%)</td>\n",
       "    </tr>\n",
       "    <tr>\n",
       "      <th>Genome Feature</th>\n",
       "      <td>25 / 4926  (0.51%)</td>\n",
       "    </tr>\n",
       "    <tr>\n",
       "      <th>Other</th>\n",
       "      <td>126 / 4926  (2.56%)</td>\n",
       "    </tr>\n",
       "    <tr>\n",
       "      <th>Transcript</th>\n",
       "      <td>435 / 4926  (8.83%)</td>\n",
       "    </tr>\n",
       "  </tbody>\n",
       "</table>\n",
       "</div>"
      ],
      "text/plain": [
       "                        Percent of Not Supported Variant Evidence Items\n",
       "Category                                                               \n",
       "Sequence                                            300 / 4926  (6.09%)\n",
       "Genotype/Haplotype                                   39 / 4926  (0.79%)\n",
       "Fusion                                            1590 / 4926  (32.28%)\n",
       "Rearrangement                                      593 / 4926  (12.04%)\n",
       "Epigenetic Modification                              23 / 4926  (0.47%)\n",
       "Copy Number                                          77 / 4926  (1.56%)\n",
       "Expression                                         623 / 4926  (12.65%)\n",
       "Gene Function                                       386 / 4926  (7.84%)\n",
       "Region-Defined                                     782 / 4926  (15.87%)\n",
       "Genome Feature                                       25 / 4926  (0.51%)\n",
       "Other                                               126 / 4926  (2.56%)\n",
       "Transcript                                          435 / 4926  (8.83%)"
      ]
     },
     "execution_count": 106,
     "metadata": {},
     "output_type": "execute_result"
    }
   ],
   "source": [
    "not_supported_variant_evidence_percent_of_not_supported_df = (\n",
    "    not_supported_variant_evidence_percent_of_not_supported_df.set_index(\"Category\")\n",
    ")\n",
    "not_supported_variant_evidence_percent_of_not_supported_df"
   ]
  },
  {
   "cell_type": "code",
   "execution_count": 107,
   "metadata": {},
   "outputs": [],
   "source": [
    "civic_summary_table_9 = not_supported_variant_evidence_percent_of_not_supported_df"
   ]
  },
  {
   "cell_type": "markdown",
   "metadata": {},
   "source": [
    "### <a id='toc6_2_7_'></a>[Summary Table 10](#toc0_)"
   ]
  },
  {
   "cell_type": "markdown",
   "metadata": {},
   "source": [
    "The table below shows the percent of evidence items associated with Not Supported variant sub categories that are accepted or submitted."
   ]
  },
  {
   "cell_type": "markdown",
   "metadata": {},
   "source": [
    "<ins>Numerator:</ins> # of CIViC evidence items based on evidence acceptance status that are associated with Not Supported variants in a given Subcategory\n",
    "<br><ins>Denominator:</ins> # of CIViC evidence items that are associated with Not Supported variants in a given Subcategory"
   ]
  },
  {
   "cell_type": "code",
   "execution_count": 108,
   "metadata": {},
   "outputs": [
    {
     "data": {
      "text/html": [
       "<div>\n",
       "<style scoped>\n",
       "    .dataframe tbody tr th:only-of-type {\n",
       "        vertical-align: middle;\n",
       "    }\n",
       "\n",
       "    .dataframe tbody tr th {\n",
       "        vertical-align: top;\n",
       "    }\n",
       "\n",
       "    .dataframe thead th {\n",
       "        text-align: right;\n",
       "    }\n",
       "</style>\n",
       "<table border=\"1\" class=\"dataframe\">\n",
       "  <thead>\n",
       "    <tr style=\"text-align: right;\">\n",
       "      <th></th>\n",
       "      <th>Percent of Accepted Evidence Items</th>\n",
       "      <th>Percent of Submitted Evidence Items</th>\n",
       "    </tr>\n",
       "    <tr>\n",
       "      <th>Category</th>\n",
       "      <th></th>\n",
       "      <th></th>\n",
       "    </tr>\n",
       "  </thead>\n",
       "  <tbody>\n",
       "    <tr>\n",
       "      <th>Sequence</th>\n",
       "      <td>193 / 300  (64.33%)</td>\n",
       "      <td>107 / 300  (35.67%)</td>\n",
       "    </tr>\n",
       "    <tr>\n",
       "      <th>Genotype/Haplotype</th>\n",
       "      <td>19 / 39  (48.72%)</td>\n",
       "      <td>20 / 39  (51.28%)</td>\n",
       "    </tr>\n",
       "    <tr>\n",
       "      <th>Fusion</th>\n",
       "      <td>1028 / 1590  (64.65%)</td>\n",
       "      <td>562 / 1590  (35.35%)</td>\n",
       "    </tr>\n",
       "    <tr>\n",
       "      <th>Rearrangement</th>\n",
       "      <td>238 / 593  (40.13%)</td>\n",
       "      <td>355 / 593  (59.87%)</td>\n",
       "    </tr>\n",
       "    <tr>\n",
       "      <th>Epigenetic Modification</th>\n",
       "      <td>22 / 23  (95.65%)</td>\n",
       "      <td>1 / 23  (4.35%)</td>\n",
       "    </tr>\n",
       "    <tr>\n",
       "      <th>Copy Number</th>\n",
       "      <td>35 / 77  (45.45%)</td>\n",
       "      <td>42 / 77  (54.55%)</td>\n",
       "    </tr>\n",
       "    <tr>\n",
       "      <th>Expression</th>\n",
       "      <td>345 / 623  (55.38%)</td>\n",
       "      <td>278 / 623  (44.62%)</td>\n",
       "    </tr>\n",
       "    <tr>\n",
       "      <th>Gene Function</th>\n",
       "      <td>171 / 386  (44.30%)</td>\n",
       "      <td>215 / 386  (55.70%)</td>\n",
       "    </tr>\n",
       "    <tr>\n",
       "      <th>Region-Defined</th>\n",
       "      <td>459 / 782  (58.70%)</td>\n",
       "      <td>323 / 782  (41.30%)</td>\n",
       "    </tr>\n",
       "    <tr>\n",
       "      <th>Genome Feature</th>\n",
       "      <td>5 / 25  (20.00%)</td>\n",
       "      <td>20 / 25  (80.00%)</td>\n",
       "    </tr>\n",
       "    <tr>\n",
       "      <th>Other</th>\n",
       "      <td>42 / 126  (33.33%)</td>\n",
       "      <td>84 / 126  (66.67%)</td>\n",
       "    </tr>\n",
       "    <tr>\n",
       "      <th>Transcript</th>\n",
       "      <td>58 / 435  (13.33%)</td>\n",
       "      <td>377 / 435  (86.67%)</td>\n",
       "    </tr>\n",
       "  </tbody>\n",
       "</table>\n",
       "</div>"
      ],
      "text/plain": [
       "                        Percent of Accepted Evidence Items  \\\n",
       "Category                                                     \n",
       "Sequence                               193 / 300  (64.33%)   \n",
       "Genotype/Haplotype                       19 / 39  (48.72%)   \n",
       "Fusion                               1028 / 1590  (64.65%)   \n",
       "Rearrangement                          238 / 593  (40.13%)   \n",
       "Epigenetic Modification                  22 / 23  (95.65%)   \n",
       "Copy Number                              35 / 77  (45.45%)   \n",
       "Expression                             345 / 623  (55.38%)   \n",
       "Gene Function                          171 / 386  (44.30%)   \n",
       "Region-Defined                         459 / 782  (58.70%)   \n",
       "Genome Feature                            5 / 25  (20.00%)   \n",
       "Other                                   42 / 126  (33.33%)   \n",
       "Transcript                              58 / 435  (13.33%)   \n",
       "\n",
       "                        Percent of Submitted Evidence Items  \n",
       "Category                                                     \n",
       "Sequence                                107 / 300  (35.67%)  \n",
       "Genotype/Haplotype                        20 / 39  (51.28%)  \n",
       "Fusion                                 562 / 1590  (35.35%)  \n",
       "Rearrangement                           355 / 593  (59.87%)  \n",
       "Epigenetic Modification                     1 / 23  (4.35%)  \n",
       "Copy Number                               42 / 77  (54.55%)  \n",
       "Expression                              278 / 623  (44.62%)  \n",
       "Gene Function                           215 / 386  (55.70%)  \n",
       "Region-Defined                          323 / 782  (41.30%)  \n",
       "Genome Feature                            20 / 25  (80.00%)  \n",
       "Other                                    84 / 126  (66.67%)  \n",
       "Transcript                              377 / 435  (86.67%)  "
      ]
     },
     "execution_count": 108,
     "metadata": {},
     "output_type": "execute_result"
    }
   ],
   "source": [
    "not_supported_variant_evidence_percent_evidence_df = (\n",
    "    not_supported_variant_evidence_percent_evidence_df.set_index(\"Category\")\n",
    ")\n",
    "not_supported_variant_evidence_percent_evidence_df"
   ]
  },
  {
   "cell_type": "code",
   "execution_count": 109,
   "metadata": {},
   "outputs": [],
   "source": [
    "civic_summary_table_10 = not_supported_variant_evidence_percent_evidence_df"
   ]
  },
  {
   "cell_type": "markdown",
   "metadata": {},
   "source": [
    "## <a id='toc6_3_'></a>[Impact](#toc0_)"
   ]
  },
  {
   "cell_type": "markdown",
   "metadata": {},
   "source": [
    "accepted and submitted variants"
   ]
  },
  {
   "cell_type": "code",
   "execution_count": 110,
   "metadata": {},
   "outputs": [
    {
     "data": {
      "text/html": [
       "<div>\n",
       "<style scoped>\n",
       "    .dataframe tbody tr th:only-of-type {\n",
       "        vertical-align: middle;\n",
       "    }\n",
       "\n",
       "    .dataframe tbody tr th {\n",
       "        vertical-align: top;\n",
       "    }\n",
       "\n",
       "    .dataframe thead th {\n",
       "        text-align: right;\n",
       "    }\n",
       "</style>\n",
       "<table border=\"1\" class=\"dataframe\">\n",
       "  <thead>\n",
       "    <tr style=\"text-align: right;\">\n",
       "      <th></th>\n",
       "      <th>gene_name</th>\n",
       "      <th>variant_name</th>\n",
       "      <th>category</th>\n",
       "      <th>#_evidence_items</th>\n",
       "      <th>evidence_score_sum</th>\n",
       "    </tr>\n",
       "    <tr>\n",
       "      <th>variant_id</th>\n",
       "      <th></th>\n",
       "      <th></th>\n",
       "      <th></th>\n",
       "      <th></th>\n",
       "      <th></th>\n",
       "    </tr>\n",
       "  </thead>\n",
       "  <tbody>\n",
       "    <tr>\n",
       "      <th>1</th>\n",
       "      <td>None</td>\n",
       "      <td>Fusion</td>\n",
       "      <td>Fusion</td>\n",
       "      <td>462</td>\n",
       "      <td>1117.0</td>\n",
       "    </tr>\n",
       "    <tr>\n",
       "      <th>5</th>\n",
       "      <td>None</td>\n",
       "      <td>Fusion</td>\n",
       "      <td>Fusion</td>\n",
       "      <td>95</td>\n",
       "      <td>167.0</td>\n",
       "    </tr>\n",
       "    <tr>\n",
       "      <th>17</th>\n",
       "      <td>BRAF</td>\n",
       "      <td>V600</td>\n",
       "      <td>Sequence</td>\n",
       "      <td>28</td>\n",
       "      <td>166.0</td>\n",
       "    </tr>\n",
       "    <tr>\n",
       "      <th>19</th>\n",
       "      <td>CCND1</td>\n",
       "      <td>Expression</td>\n",
       "      <td>Expression</td>\n",
       "      <td>2</td>\n",
       "      <td>10.0</td>\n",
       "    </tr>\n",
       "    <tr>\n",
       "      <th>20</th>\n",
       "      <td>CCND1</td>\n",
       "      <td>Overexpression</td>\n",
       "      <td>Expression</td>\n",
       "      <td>10</td>\n",
       "      <td>40.0</td>\n",
       "    </tr>\n",
       "    <tr>\n",
       "      <th>...</th>\n",
       "      <td>...</td>\n",
       "      <td>...</td>\n",
       "      <td>...</td>\n",
       "      <td>...</td>\n",
       "      <td>...</td>\n",
       "    </tr>\n",
       "    <tr>\n",
       "      <th>5178</th>\n",
       "      <td>CD44</td>\n",
       "      <td>CD44v10</td>\n",
       "      <td>Other</td>\n",
       "      <td>1</td>\n",
       "      <td>5.0</td>\n",
       "    </tr>\n",
       "    <tr>\n",
       "      <th>5179</th>\n",
       "      <td>None</td>\n",
       "      <td>Fusion</td>\n",
       "      <td>Fusion</td>\n",
       "      <td>1</td>\n",
       "      <td>5.0</td>\n",
       "    </tr>\n",
       "    <tr>\n",
       "      <th>5180</th>\n",
       "      <td>BAX</td>\n",
       "      <td>mutation</td>\n",
       "      <td>Region-Defined</td>\n",
       "      <td>1</td>\n",
       "      <td>1.0</td>\n",
       "    </tr>\n",
       "    <tr>\n",
       "      <th>5187</th>\n",
       "      <td>None</td>\n",
       "      <td>Fusion</td>\n",
       "      <td>Fusion</td>\n",
       "      <td>3</td>\n",
       "      <td>15.0</td>\n",
       "    </tr>\n",
       "    <tr>\n",
       "      <th>5194</th>\n",
       "      <td>BRAF</td>\n",
       "      <td>Kinase Domain Duplication</td>\n",
       "      <td>Copy Number</td>\n",
       "      <td>3</td>\n",
       "      <td>13.0</td>\n",
       "    </tr>\n",
       "  </tbody>\n",
       "</table>\n",
       "<p>1745 rows × 5 columns</p>\n",
       "</div>"
      ],
      "text/plain": [
       "           gene_name               variant_name        category  \\\n",
       "variant_id                                                        \n",
       "1               None                     Fusion          Fusion   \n",
       "5               None                     Fusion          Fusion   \n",
       "17              BRAF                       V600        Sequence   \n",
       "19             CCND1                 Expression      Expression   \n",
       "20             CCND1             Overexpression      Expression   \n",
       "...              ...                        ...             ...   \n",
       "5178            CD44                    CD44v10           Other   \n",
       "5179            None                     Fusion          Fusion   \n",
       "5180             BAX                   mutation  Region-Defined   \n",
       "5187            None                     Fusion          Fusion   \n",
       "5194            BRAF  Kinase Domain Duplication     Copy Number   \n",
       "\n",
       "            #_evidence_items  evidence_score_sum  \n",
       "variant_id                                        \n",
       "1                        462              1117.0  \n",
       "5                         95               167.0  \n",
       "17                        28               166.0  \n",
       "19                         2                10.0  \n",
       "20                        10                40.0  \n",
       "...                      ...                 ...  \n",
       "5178                       1                 5.0  \n",
       "5179                       1                 5.0  \n",
       "5180                       1                 1.0  \n",
       "5187                       3                15.0  \n",
       "5194                       3                13.0  \n",
       "\n",
       "[1745 rows x 5 columns]"
      ]
     },
     "execution_count": 110,
     "metadata": {},
     "output_type": "execute_result"
    }
   ],
   "source": [
    "not_supported_variants_w_acc_sub_evid_df"
   ]
  },
  {
   "cell_type": "code",
   "execution_count": 111,
   "metadata": {},
   "outputs": [],
   "source": [
    "not_supported_elevel_impact_summary = {\n",
    "    \"Category\": NOT_SUPPORTED_VARIANT_CATEGORY_VALUES,\n",
    "    \"CIVIC Total Sum Impact Score\": [],\n",
    "    \"Average Impact Score per Variant\": [],\n",
    "    \"Average Impact Score per Evidence Item\": [],\n",
    "    \"Total Number Evidence Items\": [\n",
    "        v[\"number_unique_not_supported_category_evidence\"]\n",
    "        for v in not_supported_variant_categories_evidence_summary_data.values()\n",
    "    ],\n",
    "    \"% Accepted Evidence Items\": [\n",
    "        v[\"percentage_accepted_evidence_not_supported_category_variants\"]\n",
    "        for v in not_supported_variant_categories_evidence_summary_data.values()\n",
    "    ],\n",
    "    \"Total Number Variants\": [\n",
    "        v[\"number_unique_not_supported_category_variants\"]\n",
    "        for v in not_supported_variant_categories_summary_data.values()\n",
    "    ],\n",
    "}"
   ]
  },
  {
   "cell_type": "code",
   "execution_count": 112,
   "metadata": {},
   "outputs": [
    {
     "name": "stdout",
     "output_type": "stream",
     "text": [
      "Sequence: 1241.0\n",
      "Genotype/Haplotype: 232.0\n",
      "Fusion: 5552.0\n",
      "Rearrangement: 2373.5\n",
      "Epigenetic Modification: 92.0\n",
      "Copy Number: 225.0\n",
      "Expression: 2117.0\n",
      "Gene Function: 1362.5\n",
      "Region-Defined: 3398.5\n",
      "Genome Feature: 120.0\n",
      "Other: 506.5\n",
      "Transcript: 1305.0\n"
     ]
    }
   ],
   "source": [
    "not_supported_variant_categories_impact_data = dict()\n",
    "for category in NOT_SUPPORTED_VARIANT_CATEGORY_VALUES:\n",
    "    not_supported_variant_categories_impact_data[category] = {}\n",
    "    impact_category_df = not_supported_variants_w_acc_sub_evid_df[\n",
    "        not_supported_variants_w_acc_sub_evid_df.category == category\n",
    "    ]\n",
    "\n",
    "    total_sum_not_supported_category_impact = impact_category_df[\n",
    "        \"evidence_score_sum\"\n",
    "    ].sum()\n",
    "    not_supported_variant_categories_impact_data[category][\n",
    "        \"total_sum_not_supported_category_impact\"\n",
    "    ] = total_sum_not_supported_category_impact\n",
    "\n",
    "    avg_impact_score_variant = (\n",
    "        total_sum_not_supported_category_impact\n",
    "        / number_unique_not_supported_category_variants\n",
    "    )\n",
    "    not_supported_variant_categories_impact_data[category][\n",
    "        \"avg_impact_score_variant\"\n",
    "    ] = avg_impact_score_variant\n",
    "\n",
    "    avg_impact_score_evidence = (\n",
    "        total_sum_not_supported_category_impact\n",
    "        / number_unique_not_supported_category_evidence\n",
    "    )\n",
    "    not_supported_variant_categories_impact_data[category][\n",
    "        \"avg_impact_score_evidence\"\n",
    "    ] = avg_impact_score_evidence\n",
    "\n",
    "    not_supported_elevel_impact_summary[\"CIVIC Total Sum Impact Score\"].append(\n",
    "        total_sum_not_supported_category_impact\n",
    "    )\n",
    "    not_supported_elevel_impact_summary[\"Average Impact Score per Variant\"].append(\n",
    "        avg_impact_score_variant\n",
    "    )\n",
    "    not_supported_elevel_impact_summary[\n",
    "        \"Average Impact Score per Evidence Item\"\n",
    "    ].append(avg_impact_score_evidence)\n",
    "\n",
    "    print(f\"{category}: {total_sum_not_supported_category_impact}\")"
   ]
  },
  {
   "cell_type": "code",
   "execution_count": 113,
   "metadata": {},
   "outputs": [],
   "source": [
    "not_supported_variant_impact_df = pd.DataFrame(not_supported_elevel_impact_summary)"
   ]
  },
  {
   "cell_type": "code",
   "execution_count": 114,
   "metadata": {},
   "outputs": [
    {
     "data": {
      "text/html": [
       "<div>\n",
       "<style scoped>\n",
       "    .dataframe tbody tr th:only-of-type {\n",
       "        vertical-align: middle;\n",
       "    }\n",
       "\n",
       "    .dataframe tbody tr th {\n",
       "        vertical-align: top;\n",
       "    }\n",
       "\n",
       "    .dataframe thead th {\n",
       "        text-align: right;\n",
       "    }\n",
       "</style>\n",
       "<table border=\"1\" class=\"dataframe\">\n",
       "  <thead>\n",
       "    <tr style=\"text-align: right;\">\n",
       "      <th></th>\n",
       "      <th>Category</th>\n",
       "      <th>CIVIC Total Sum Impact Score</th>\n",
       "      <th>Average Impact Score per Variant</th>\n",
       "      <th>Average Impact Score per Evidence Item</th>\n",
       "      <th>Total Number Evidence Items</th>\n",
       "      <th>% Accepted Evidence Items</th>\n",
       "      <th>Total Number Variants</th>\n",
       "    </tr>\n",
       "  </thead>\n",
       "  <tbody>\n",
       "    <tr>\n",
       "      <th>0</th>\n",
       "      <td>Sequence</td>\n",
       "      <td>1241.0</td>\n",
       "      <td>3.43</td>\n",
       "      <td>2.85</td>\n",
       "      <td>300</td>\n",
       "      <td>64.33%</td>\n",
       "      <td>133</td>\n",
       "    </tr>\n",
       "    <tr>\n",
       "      <th>1</th>\n",
       "      <td>Genotype/Haplotype</td>\n",
       "      <td>232.0</td>\n",
       "      <td>0.64</td>\n",
       "      <td>0.53</td>\n",
       "      <td>39</td>\n",
       "      <td>48.72%</td>\n",
       "      <td>22</td>\n",
       "    </tr>\n",
       "    <tr>\n",
       "      <th>2</th>\n",
       "      <td>Fusion</td>\n",
       "      <td>5552.0</td>\n",
       "      <td>15.34</td>\n",
       "      <td>12.76</td>\n",
       "      <td>1590</td>\n",
       "      <td>64.65%</td>\n",
       "      <td>313</td>\n",
       "    </tr>\n",
       "    <tr>\n",
       "      <th>3</th>\n",
       "      <td>Rearrangement</td>\n",
       "      <td>2373.5</td>\n",
       "      <td>6.56</td>\n",
       "      <td>5.46</td>\n",
       "      <td>593</td>\n",
       "      <td>40.13%</td>\n",
       "      <td>122</td>\n",
       "    </tr>\n",
       "    <tr>\n",
       "      <th>4</th>\n",
       "      <td>Epigenetic Modification</td>\n",
       "      <td>92.0</td>\n",
       "      <td>0.25</td>\n",
       "      <td>0.21</td>\n",
       "      <td>23</td>\n",
       "      <td>95.65%</td>\n",
       "      <td>14</td>\n",
       "    </tr>\n",
       "    <tr>\n",
       "      <th>5</th>\n",
       "      <td>Copy Number</td>\n",
       "      <td>225.0</td>\n",
       "      <td>0.62</td>\n",
       "      <td>0.52</td>\n",
       "      <td>77</td>\n",
       "      <td>45.45%</td>\n",
       "      <td>32</td>\n",
       "    </tr>\n",
       "    <tr>\n",
       "      <th>6</th>\n",
       "      <td>Expression</td>\n",
       "      <td>2117.0</td>\n",
       "      <td>5.85</td>\n",
       "      <td>4.87</td>\n",
       "      <td>623</td>\n",
       "      <td>55.38%</td>\n",
       "      <td>294</td>\n",
       "    </tr>\n",
       "    <tr>\n",
       "      <th>7</th>\n",
       "      <td>Gene Function</td>\n",
       "      <td>1362.5</td>\n",
       "      <td>3.76</td>\n",
       "      <td>3.13</td>\n",
       "      <td>386</td>\n",
       "      <td>44.30%</td>\n",
       "      <td>111</td>\n",
       "    </tr>\n",
       "    <tr>\n",
       "      <th>8</th>\n",
       "      <td>Region-Defined</td>\n",
       "      <td>3398.5</td>\n",
       "      <td>9.39</td>\n",
       "      <td>7.81</td>\n",
       "      <td>782</td>\n",
       "      <td>58.70%</td>\n",
       "      <td>255</td>\n",
       "    </tr>\n",
       "    <tr>\n",
       "      <th>9</th>\n",
       "      <td>Genome Feature</td>\n",
       "      <td>120.0</td>\n",
       "      <td>0.33</td>\n",
       "      <td>0.28</td>\n",
       "      <td>25</td>\n",
       "      <td>20.00%</td>\n",
       "      <td>10</td>\n",
       "    </tr>\n",
       "    <tr>\n",
       "      <th>10</th>\n",
       "      <td>Other</td>\n",
       "      <td>506.5</td>\n",
       "      <td>1.40</td>\n",
       "      <td>1.16</td>\n",
       "      <td>126</td>\n",
       "      <td>33.33%</td>\n",
       "      <td>79</td>\n",
       "    </tr>\n",
       "    <tr>\n",
       "      <th>11</th>\n",
       "      <td>Transcript</td>\n",
       "      <td>1305.0</td>\n",
       "      <td>3.60</td>\n",
       "      <td>3.00</td>\n",
       "      <td>435</td>\n",
       "      <td>13.33%</td>\n",
       "      <td>362</td>\n",
       "    </tr>\n",
       "  </tbody>\n",
       "</table>\n",
       "</div>"
      ],
      "text/plain": [
       "                   Category  CIVIC Total Sum Impact Score  \\\n",
       "0                  Sequence                        1241.0   \n",
       "1        Genotype/Haplotype                         232.0   \n",
       "2                    Fusion                        5552.0   \n",
       "3             Rearrangement                        2373.5   \n",
       "4   Epigenetic Modification                          92.0   \n",
       "5               Copy Number                         225.0   \n",
       "6                Expression                        2117.0   \n",
       "7             Gene Function                        1362.5   \n",
       "8            Region-Defined                        3398.5   \n",
       "9            Genome Feature                         120.0   \n",
       "10                    Other                         506.5   \n",
       "11               Transcript                        1305.0   \n",
       "\n",
       "    Average Impact Score per Variant  Average Impact Score per Evidence Item  \\\n",
       "0                               3.43                                    2.85   \n",
       "1                               0.64                                    0.53   \n",
       "2                              15.34                                   12.76   \n",
       "3                               6.56                                    5.46   \n",
       "4                               0.25                                    0.21   \n",
       "5                               0.62                                    0.52   \n",
       "6                               5.85                                    4.87   \n",
       "7                               3.76                                    3.13   \n",
       "8                               9.39                                    7.81   \n",
       "9                               0.33                                    0.28   \n",
       "10                              1.40                                    1.16   \n",
       "11                              3.60                                    3.00   \n",
       "\n",
       "    Total Number Evidence Items % Accepted Evidence Items  \\\n",
       "0                           300                    64.33%   \n",
       "1                            39                    48.72%   \n",
       "2                          1590                    64.65%   \n",
       "3                           593                    40.13%   \n",
       "4                            23                    95.65%   \n",
       "5                            77                    45.45%   \n",
       "6                           623                    55.38%   \n",
       "7                           386                    44.30%   \n",
       "8                           782                    58.70%   \n",
       "9                            25                    20.00%   \n",
       "10                          126                    33.33%   \n",
       "11                          435                    13.33%   \n",
       "\n",
       "    Total Number Variants  \n",
       "0                     133  \n",
       "1                      22  \n",
       "2                     313  \n",
       "3                     122  \n",
       "4                      14  \n",
       "5                      32  \n",
       "6                     294  \n",
       "7                     111  \n",
       "8                     255  \n",
       "9                      10  \n",
       "10                     79  \n",
       "11                    362  "
      ]
     },
     "execution_count": 114,
     "metadata": {},
     "output_type": "execute_result"
    }
   ],
   "source": [
    "not_supported_variant_impact_df = not_supported_variant_impact_df.round(2)\n",
    "not_supported_variant_impact_df"
   ]
  },
  {
   "cell_type": "markdown",
   "metadata": {},
   "source": [
    "The bar graph below shows the relationship between the Not Supported variant sub category impact score and the sub category. Additionally, the colors illustrate the number of evidence items associated each sub category."
   ]
  },
  {
   "cell_type": "code",
   "execution_count": 115,
   "metadata": {},
   "outputs": [
    {
     "data": {
      "application/vnd.plotly.v1+json": {
       "config": {
        "plotlyServerURL": "https://plot.ly"
       },
       "data": [
        {
         "customdata": [
          [
           300,
           "64.33%"
          ],
          [
           39,
           "48.72%"
          ],
          [
           1590,
           "64.65%"
          ],
          [
           593,
           "40.13%"
          ],
          [
           23,
           "95.65%"
          ],
          [
           77,
           "45.45%"
          ],
          [
           623,
           "55.38%"
          ],
          [
           386,
           "44.30%"
          ],
          [
           782,
           "58.70%"
          ],
          [
           25,
           "20.00%"
          ],
          [
           126,
           "33.33%"
          ],
          [
           435,
           "13.33%"
          ]
         ],
         "hovertemplate": "Category=%{x}<br>CIVIC Total Sum Impact Score=%{y}<br>Total Number Evidence Items=%{marker.color}<br>% Accepted Evidence Items=%{customdata[1]}<extra></extra>",
         "legendgroup": "",
         "marker": {
          "color": {
           "bdata": "LAEnADYGUQIXAE0AbwKCAQ4DGQB+ALMB",
           "dtype": "i2"
          },
          "coloraxis": "coloraxis",
          "pattern": {
           "shape": ""
          }
         },
         "name": "",
         "orientation": "v",
         "showlegend": false,
         "textposition": "auto",
         "texttemplate": "%{y:.1f}",
         "type": "bar",
         "width": 1,
         "x": [
          "Sequence",
          "Genotype/Haplotype",
          "Fusion",
          "Rearrangement",
          "Epigenetic Modification",
          "Copy Number",
          "Expression",
          "Gene Function",
          "Region-Defined",
          "Genome Feature",
          "Other",
          "Transcript"
         ],
         "xaxis": "x",
         "y": {
          "bdata": "AAAAAABkk0AAAAAAAABtQAAAAAAAsLVAAAAAAACLokAAAAAAAABXQAAAAAAAIGxAAAAAAACKoEAAAAAAAEqVQAAAAAAAjapAAAAAAAAAXkAAAAAAAKh/QAAAAAAAZJRA",
          "dtype": "f8"
         },
         "yaxis": "y"
        }
       ],
       "layout": {
        "barmode": "relative",
        "coloraxis": {
         "colorbar": {
          "title": {
           "text": "Total Number Evidence Items"
          }
         },
         "colorscale": [
          [
           0,
           "rgb(0, 128, 128)"
          ],
          [
           0.16666666666666666,
           "rgb(112, 164, 148)"
          ],
          [
           0.3333333333333333,
           "rgb(180, 200, 168)"
          ],
          [
           0.5,
           "rgb(246, 237, 189)"
          ],
          [
           0.6666666666666666,
           "rgb(237, 187, 138)"
          ],
          [
           0.8333333333333334,
           "rgb(222, 138, 90)"
          ],
          [
           1,
           "rgb(202, 86, 44)"
          ]
         ]
        },
        "legend": {
         "tracegroupgap": 0
        },
        "margin": {
         "t": 60
        },
        "template": {
         "data": {
          "bar": [
           {
            "error_x": {
             "color": "#2a3f5f"
            },
            "error_y": {
             "color": "#2a3f5f"
            },
            "marker": {
             "line": {
              "color": "#E5ECF6",
              "width": 0.5
             },
             "pattern": {
              "fillmode": "overlay",
              "size": 10,
              "solidity": 0.2
             }
            },
            "type": "bar"
           }
          ],
          "barpolar": [
           {
            "marker": {
             "line": {
              "color": "#E5ECF6",
              "width": 0.5
             },
             "pattern": {
              "fillmode": "overlay",
              "size": 10,
              "solidity": 0.2
             }
            },
            "type": "barpolar"
           }
          ],
          "carpet": [
           {
            "aaxis": {
             "endlinecolor": "#2a3f5f",
             "gridcolor": "white",
             "linecolor": "white",
             "minorgridcolor": "white",
             "startlinecolor": "#2a3f5f"
            },
            "baxis": {
             "endlinecolor": "#2a3f5f",
             "gridcolor": "white",
             "linecolor": "white",
             "minorgridcolor": "white",
             "startlinecolor": "#2a3f5f"
            },
            "type": "carpet"
           }
          ],
          "choropleth": [
           {
            "colorbar": {
             "outlinewidth": 0,
             "ticks": ""
            },
            "type": "choropleth"
           }
          ],
          "contour": [
           {
            "colorbar": {
             "outlinewidth": 0,
             "ticks": ""
            },
            "colorscale": [
             [
              0,
              "#0d0887"
             ],
             [
              0.1111111111111111,
              "#46039f"
             ],
             [
              0.2222222222222222,
              "#7201a8"
             ],
             [
              0.3333333333333333,
              "#9c179e"
             ],
             [
              0.4444444444444444,
              "#bd3786"
             ],
             [
              0.5555555555555556,
              "#d8576b"
             ],
             [
              0.6666666666666666,
              "#ed7953"
             ],
             [
              0.7777777777777778,
              "#fb9f3a"
             ],
             [
              0.8888888888888888,
              "#fdca26"
             ],
             [
              1,
              "#f0f921"
             ]
            ],
            "type": "contour"
           }
          ],
          "contourcarpet": [
           {
            "colorbar": {
             "outlinewidth": 0,
             "ticks": ""
            },
            "type": "contourcarpet"
           }
          ],
          "heatmap": [
           {
            "colorbar": {
             "outlinewidth": 0,
             "ticks": ""
            },
            "colorscale": [
             [
              0,
              "#0d0887"
             ],
             [
              0.1111111111111111,
              "#46039f"
             ],
             [
              0.2222222222222222,
              "#7201a8"
             ],
             [
              0.3333333333333333,
              "#9c179e"
             ],
             [
              0.4444444444444444,
              "#bd3786"
             ],
             [
              0.5555555555555556,
              "#d8576b"
             ],
             [
              0.6666666666666666,
              "#ed7953"
             ],
             [
              0.7777777777777778,
              "#fb9f3a"
             ],
             [
              0.8888888888888888,
              "#fdca26"
             ],
             [
              1,
              "#f0f921"
             ]
            ],
            "type": "heatmap"
           }
          ],
          "histogram": [
           {
            "marker": {
             "pattern": {
              "fillmode": "overlay",
              "size": 10,
              "solidity": 0.2
             }
            },
            "type": "histogram"
           }
          ],
          "histogram2d": [
           {
            "colorbar": {
             "outlinewidth": 0,
             "ticks": ""
            },
            "colorscale": [
             [
              0,
              "#0d0887"
             ],
             [
              0.1111111111111111,
              "#46039f"
             ],
             [
              0.2222222222222222,
              "#7201a8"
             ],
             [
              0.3333333333333333,
              "#9c179e"
             ],
             [
              0.4444444444444444,
              "#bd3786"
             ],
             [
              0.5555555555555556,
              "#d8576b"
             ],
             [
              0.6666666666666666,
              "#ed7953"
             ],
             [
              0.7777777777777778,
              "#fb9f3a"
             ],
             [
              0.8888888888888888,
              "#fdca26"
             ],
             [
              1,
              "#f0f921"
             ]
            ],
            "type": "histogram2d"
           }
          ],
          "histogram2dcontour": [
           {
            "colorbar": {
             "outlinewidth": 0,
             "ticks": ""
            },
            "colorscale": [
             [
              0,
              "#0d0887"
             ],
             [
              0.1111111111111111,
              "#46039f"
             ],
             [
              0.2222222222222222,
              "#7201a8"
             ],
             [
              0.3333333333333333,
              "#9c179e"
             ],
             [
              0.4444444444444444,
              "#bd3786"
             ],
             [
              0.5555555555555556,
              "#d8576b"
             ],
             [
              0.6666666666666666,
              "#ed7953"
             ],
             [
              0.7777777777777778,
              "#fb9f3a"
             ],
             [
              0.8888888888888888,
              "#fdca26"
             ],
             [
              1,
              "#f0f921"
             ]
            ],
            "type": "histogram2dcontour"
           }
          ],
          "mesh3d": [
           {
            "colorbar": {
             "outlinewidth": 0,
             "ticks": ""
            },
            "type": "mesh3d"
           }
          ],
          "parcoords": [
           {
            "line": {
             "colorbar": {
              "outlinewidth": 0,
              "ticks": ""
             }
            },
            "type": "parcoords"
           }
          ],
          "pie": [
           {
            "automargin": true,
            "type": "pie"
           }
          ],
          "scatter": [
           {
            "fillpattern": {
             "fillmode": "overlay",
             "size": 10,
             "solidity": 0.2
            },
            "type": "scatter"
           }
          ],
          "scatter3d": [
           {
            "line": {
             "colorbar": {
              "outlinewidth": 0,
              "ticks": ""
             }
            },
            "marker": {
             "colorbar": {
              "outlinewidth": 0,
              "ticks": ""
             }
            },
            "type": "scatter3d"
           }
          ],
          "scattercarpet": [
           {
            "marker": {
             "colorbar": {
              "outlinewidth": 0,
              "ticks": ""
             }
            },
            "type": "scattercarpet"
           }
          ],
          "scattergeo": [
           {
            "marker": {
             "colorbar": {
              "outlinewidth": 0,
              "ticks": ""
             }
            },
            "type": "scattergeo"
           }
          ],
          "scattergl": [
           {
            "marker": {
             "colorbar": {
              "outlinewidth": 0,
              "ticks": ""
             }
            },
            "type": "scattergl"
           }
          ],
          "scattermap": [
           {
            "marker": {
             "colorbar": {
              "outlinewidth": 0,
              "ticks": ""
             }
            },
            "type": "scattermap"
           }
          ],
          "scattermapbox": [
           {
            "marker": {
             "colorbar": {
              "outlinewidth": 0,
              "ticks": ""
             }
            },
            "type": "scattermapbox"
           }
          ],
          "scatterpolar": [
           {
            "marker": {
             "colorbar": {
              "outlinewidth": 0,
              "ticks": ""
             }
            },
            "type": "scatterpolar"
           }
          ],
          "scatterpolargl": [
           {
            "marker": {
             "colorbar": {
              "outlinewidth": 0,
              "ticks": ""
             }
            },
            "type": "scatterpolargl"
           }
          ],
          "scatterternary": [
           {
            "marker": {
             "colorbar": {
              "outlinewidth": 0,
              "ticks": ""
             }
            },
            "type": "scatterternary"
           }
          ],
          "surface": [
           {
            "colorbar": {
             "outlinewidth": 0,
             "ticks": ""
            },
            "colorscale": [
             [
              0,
              "#0d0887"
             ],
             [
              0.1111111111111111,
              "#46039f"
             ],
             [
              0.2222222222222222,
              "#7201a8"
             ],
             [
              0.3333333333333333,
              "#9c179e"
             ],
             [
              0.4444444444444444,
              "#bd3786"
             ],
             [
              0.5555555555555556,
              "#d8576b"
             ],
             [
              0.6666666666666666,
              "#ed7953"
             ],
             [
              0.7777777777777778,
              "#fb9f3a"
             ],
             [
              0.8888888888888888,
              "#fdca26"
             ],
             [
              1,
              "#f0f921"
             ]
            ],
            "type": "surface"
           }
          ],
          "table": [
           {
            "cells": {
             "fill": {
              "color": "#EBF0F8"
             },
             "line": {
              "color": "white"
             }
            },
            "header": {
             "fill": {
              "color": "#C8D4E3"
             },
             "line": {
              "color": "white"
             }
            },
            "type": "table"
           }
          ]
         },
         "layout": {
          "annotationdefaults": {
           "arrowcolor": "#2a3f5f",
           "arrowhead": 0,
           "arrowwidth": 1
          },
          "autotypenumbers": "strict",
          "coloraxis": {
           "colorbar": {
            "outlinewidth": 0,
            "ticks": ""
           }
          },
          "colorscale": {
           "diverging": [
            [
             0,
             "#8e0152"
            ],
            [
             0.1,
             "#c51b7d"
            ],
            [
             0.2,
             "#de77ae"
            ],
            [
             0.3,
             "#f1b6da"
            ],
            [
             0.4,
             "#fde0ef"
            ],
            [
             0.5,
             "#f7f7f7"
            ],
            [
             0.6,
             "#e6f5d0"
            ],
            [
             0.7,
             "#b8e186"
            ],
            [
             0.8,
             "#7fbc41"
            ],
            [
             0.9,
             "#4d9221"
            ],
            [
             1,
             "#276419"
            ]
           ],
           "sequential": [
            [
             0,
             "#0d0887"
            ],
            [
             0.1111111111111111,
             "#46039f"
            ],
            [
             0.2222222222222222,
             "#7201a8"
            ],
            [
             0.3333333333333333,
             "#9c179e"
            ],
            [
             0.4444444444444444,
             "#bd3786"
            ],
            [
             0.5555555555555556,
             "#d8576b"
            ],
            [
             0.6666666666666666,
             "#ed7953"
            ],
            [
             0.7777777777777778,
             "#fb9f3a"
            ],
            [
             0.8888888888888888,
             "#fdca26"
            ],
            [
             1,
             "#f0f921"
            ]
           ],
           "sequentialminus": [
            [
             0,
             "#0d0887"
            ],
            [
             0.1111111111111111,
             "#46039f"
            ],
            [
             0.2222222222222222,
             "#7201a8"
            ],
            [
             0.3333333333333333,
             "#9c179e"
            ],
            [
             0.4444444444444444,
             "#bd3786"
            ],
            [
             0.5555555555555556,
             "#d8576b"
            ],
            [
             0.6666666666666666,
             "#ed7953"
            ],
            [
             0.7777777777777778,
             "#fb9f3a"
            ],
            [
             0.8888888888888888,
             "#fdca26"
            ],
            [
             1,
             "#f0f921"
            ]
           ]
          },
          "colorway": [
           "#636efa",
           "#EF553B",
           "#00cc96",
           "#ab63fa",
           "#FFA15A",
           "#19d3f3",
           "#FF6692",
           "#B6E880",
           "#FF97FF",
           "#FECB52"
          ],
          "font": {
           "color": "#2a3f5f"
          },
          "geo": {
           "bgcolor": "white",
           "lakecolor": "white",
           "landcolor": "#E5ECF6",
           "showlakes": true,
           "showland": true,
           "subunitcolor": "white"
          },
          "hoverlabel": {
           "align": "left"
          },
          "hovermode": "closest",
          "mapbox": {
           "style": "light"
          },
          "paper_bgcolor": "white",
          "plot_bgcolor": "#E5ECF6",
          "polar": {
           "angularaxis": {
            "gridcolor": "white",
            "linecolor": "white",
            "ticks": ""
           },
           "bgcolor": "#E5ECF6",
           "radialaxis": {
            "gridcolor": "white",
            "linecolor": "white",
            "ticks": ""
           }
          },
          "scene": {
           "xaxis": {
            "backgroundcolor": "#E5ECF6",
            "gridcolor": "white",
            "gridwidth": 2,
            "linecolor": "white",
            "showbackground": true,
            "ticks": "",
            "zerolinecolor": "white"
           },
           "yaxis": {
            "backgroundcolor": "#E5ECF6",
            "gridcolor": "white",
            "gridwidth": 2,
            "linecolor": "white",
            "showbackground": true,
            "ticks": "",
            "zerolinecolor": "white"
           },
           "zaxis": {
            "backgroundcolor": "#E5ECF6",
            "gridcolor": "white",
            "gridwidth": 2,
            "linecolor": "white",
            "showbackground": true,
            "ticks": "",
            "zerolinecolor": "white"
           }
          },
          "shapedefaults": {
           "line": {
            "color": "#2a3f5f"
           }
          },
          "ternary": {
           "aaxis": {
            "gridcolor": "white",
            "linecolor": "white",
            "ticks": ""
           },
           "baxis": {
            "gridcolor": "white",
            "linecolor": "white",
            "ticks": ""
           },
           "bgcolor": "#E5ECF6",
           "caxis": {
            "gridcolor": "white",
            "linecolor": "white",
            "ticks": ""
           }
          },
          "title": {
           "x": 0.05
          },
          "xaxis": {
           "automargin": true,
           "gridcolor": "white",
           "linecolor": "white",
           "ticks": "",
           "title": {
            "standoff": 15
           },
           "zerolinecolor": "white",
           "zerolinewidth": 2
          },
          "yaxis": {
           "automargin": true,
           "gridcolor": "white",
           "linecolor": "white",
           "ticks": "",
           "title": {
            "standoff": 15
           },
           "zerolinecolor": "white",
           "zerolinewidth": 2
          }
         }
        },
        "xaxis": {
         "anchor": "y",
         "domain": [
          0,
          1
         ],
         "title": {
          "text": "Category"
         }
        },
        "yaxis": {
         "anchor": "x",
         "domain": [
          0,
          1
         ],
         "title": {
          "text": "CIVIC Total Sum Impact Score"
         }
        }
       }
      }
     },
     "metadata": {},
     "output_type": "display_data"
    }
   ],
   "source": [
    "fig = px.bar(\n",
    "    not_supported_variant_impact_df,\n",
    "    x=\"Category\",\n",
    "    y=\"CIVIC Total Sum Impact Score\",\n",
    "    hover_data=[\n",
    "        \"Total Number Evidence Items\",\n",
    "        not_supported_variant_impact_df[\"% Accepted Evidence Items\"],\n",
    "    ],\n",
    "    color=\"Total Number Evidence Items\",\n",
    "    labels={\"CIVIC Total Sum Impact Score\": \"CIVIC Total Sum Impact Score\"},\n",
    "    text_auto=\".1f\",\n",
    "    color_continuous_scale=\"geyser\",\n",
    ")\n",
    "fig.update_traces(width=1)\n",
    "fig.show()"
   ]
  },
  {
   "cell_type": "code",
   "execution_count": 116,
   "metadata": {},
   "outputs": [],
   "source": [
    "fig.write_html(\"output/civic_ns_categories_impact_redgreen.html\")"
   ]
  },
  {
   "cell_type": "markdown",
   "metadata": {},
   "source": [
    "The scatter plot below shows the relationship between the Not Supported variant sub category impact score and the number of evidence items associated with variants in each sub category. Additionally, the sizes of the data point represent the number of variants in each sub category. "
   ]
  },
  {
   "cell_type": "code",
   "execution_count": 117,
   "metadata": {},
   "outputs": [
    {
     "data": {
      "application/vnd.plotly.v1+json": {
       "config": {
        "plotlyServerURL": "https://plot.ly"
       },
       "data": [
        {
         "customdata": [
          [
           "64.33%"
          ]
         ],
         "hovertemplate": "Category=Sequence<br>Total Number Evidence Items=%{x}<br>CIVIC Total Sum Impact Score=%{y}<br>Total Number Variants=%{text}<br>% Accepted Evidence Items=%{customdata[0]}<extra></extra>",
         "legendgroup": "Sequence",
         "marker": {
          "color": "#636efa",
          "size": {
           "bdata": "hQA=",
           "dtype": "i2"
          },
          "sizemode": "area",
          "sizeref": 0.22625,
          "symbol": "circle"
         },
         "mode": "markers+text",
         "name": "Sequence",
         "orientation": "v",
         "showlegend": true,
         "text": {
          "bdata": "AAAAAACgYEA=",
          "dtype": "f8"
         },
         "type": "scatter",
         "x": {
          "bdata": "LAE=",
          "dtype": "i2"
         },
         "xaxis": "x",
         "y": {
          "bdata": "AAAAAABkk0A=",
          "dtype": "f8"
         },
         "yaxis": "y"
        },
        {
         "customdata": [
          [
           "48.72%"
          ]
         ],
         "hovertemplate": "Category=Genotype/Haplotype<br>Total Number Evidence Items=%{x}<br>CIVIC Total Sum Impact Score=%{y}<br>Total Number Variants=%{text}<br>% Accepted Evidence Items=%{customdata[0]}<extra></extra>",
         "legendgroup": "Genotype/Haplotype",
         "marker": {
          "color": "#EF553B",
          "size": {
           "bdata": "Fg==",
           "dtype": "i1"
          },
          "sizemode": "area",
          "sizeref": 0.22625,
          "symbol": "circle"
         },
         "mode": "markers+text",
         "name": "Genotype/Haplotype",
         "orientation": "v",
         "showlegend": true,
         "text": {
          "bdata": "AAAAAAAANkA=",
          "dtype": "f8"
         },
         "type": "scatter",
         "x": {
          "bdata": "Jw==",
          "dtype": "i1"
         },
         "xaxis": "x",
         "y": {
          "bdata": "AAAAAAAAbUA=",
          "dtype": "f8"
         },
         "yaxis": "y"
        },
        {
         "customdata": [
          [
           "64.65%"
          ]
         ],
         "hovertemplate": "Category=Fusion<br>Total Number Evidence Items=%{x}<br>CIVIC Total Sum Impact Score=%{y}<br>Total Number Variants=%{text}<br>% Accepted Evidence Items=%{customdata[0]}<extra></extra>",
         "legendgroup": "Fusion",
         "marker": {
          "color": "#00cc96",
          "size": {
           "bdata": "OQE=",
           "dtype": "i2"
          },
          "sizemode": "area",
          "sizeref": 0.22625,
          "symbol": "circle"
         },
         "mode": "markers+text",
         "name": "Fusion",
         "orientation": "v",
         "showlegend": true,
         "text": {
          "bdata": "AAAAAACQc0A=",
          "dtype": "f8"
         },
         "type": "scatter",
         "x": {
          "bdata": "NgY=",
          "dtype": "i2"
         },
         "xaxis": "x",
         "y": {
          "bdata": "AAAAAACwtUA=",
          "dtype": "f8"
         },
         "yaxis": "y"
        },
        {
         "customdata": [
          [
           "40.13%"
          ]
         ],
         "hovertemplate": "Category=Rearrangement<br>Total Number Evidence Items=%{x}<br>CIVIC Total Sum Impact Score=%{y}<br>Total Number Variants=%{text}<br>% Accepted Evidence Items=%{customdata[0]}<extra></extra>",
         "legendgroup": "Rearrangement",
         "marker": {
          "color": "#ab63fa",
          "size": {
           "bdata": "eg==",
           "dtype": "i1"
          },
          "sizemode": "area",
          "sizeref": 0.22625,
          "symbol": "circle"
         },
         "mode": "markers+text",
         "name": "Rearrangement",
         "orientation": "v",
         "showlegend": true,
         "text": {
          "bdata": "AAAAAACAXkA=",
          "dtype": "f8"
         },
         "type": "scatter",
         "x": {
          "bdata": "UQI=",
          "dtype": "i2"
         },
         "xaxis": "x",
         "y": {
          "bdata": "AAAAAACLokA=",
          "dtype": "f8"
         },
         "yaxis": "y"
        },
        {
         "customdata": [
          [
           "95.65%"
          ]
         ],
         "hovertemplate": "Category=Epigenetic Modification<br>Total Number Evidence Items=%{x}<br>CIVIC Total Sum Impact Score=%{y}<br>Total Number Variants=%{text}<br>% Accepted Evidence Items=%{customdata[0]}<extra></extra>",
         "legendgroup": "Epigenetic Modification",
         "marker": {
          "color": "#FFA15A",
          "size": {
           "bdata": "Dg==",
           "dtype": "i1"
          },
          "sizemode": "area",
          "sizeref": 0.22625,
          "symbol": "circle"
         },
         "mode": "markers+text",
         "name": "Epigenetic Modification",
         "orientation": "v",
         "showlegend": true,
         "text": {
          "bdata": "AAAAAAAALEA=",
          "dtype": "f8"
         },
         "type": "scatter",
         "x": {
          "bdata": "Fw==",
          "dtype": "i1"
         },
         "xaxis": "x",
         "y": {
          "bdata": "AAAAAAAAV0A=",
          "dtype": "f8"
         },
         "yaxis": "y"
        },
        {
         "customdata": [
          [
           "45.45%"
          ]
         ],
         "hovertemplate": "Category=Copy Number<br>Total Number Evidence Items=%{x}<br>CIVIC Total Sum Impact Score=%{y}<br>Total Number Variants=%{text}<br>% Accepted Evidence Items=%{customdata[0]}<extra></extra>",
         "legendgroup": "Copy Number",
         "marker": {
          "color": "#19d3f3",
          "size": {
           "bdata": "IA==",
           "dtype": "i1"
          },
          "sizemode": "area",
          "sizeref": 0.22625,
          "symbol": "circle"
         },
         "mode": "markers+text",
         "name": "Copy Number",
         "orientation": "v",
         "showlegend": true,
         "text": {
          "bdata": "AAAAAAAAQEA=",
          "dtype": "f8"
         },
         "type": "scatter",
         "x": {
          "bdata": "TQ==",
          "dtype": "i1"
         },
         "xaxis": "x",
         "y": {
          "bdata": "AAAAAAAgbEA=",
          "dtype": "f8"
         },
         "yaxis": "y"
        },
        {
         "customdata": [
          [
           "55.38%"
          ]
         ],
         "hovertemplate": "Category=Expression<br>Total Number Evidence Items=%{x}<br>CIVIC Total Sum Impact Score=%{y}<br>Total Number Variants=%{text}<br>% Accepted Evidence Items=%{customdata[0]}<extra></extra>",
         "legendgroup": "Expression",
         "marker": {
          "color": "#FF6692",
          "size": {
           "bdata": "JgE=",
           "dtype": "i2"
          },
          "sizemode": "area",
          "sizeref": 0.22625,
          "symbol": "circle"
         },
         "mode": "markers+text",
         "name": "Expression",
         "orientation": "v",
         "showlegend": true,
         "text": {
          "bdata": "AAAAAABgckA=",
          "dtype": "f8"
         },
         "type": "scatter",
         "x": {
          "bdata": "bwI=",
          "dtype": "i2"
         },
         "xaxis": "x",
         "y": {
          "bdata": "AAAAAACKoEA=",
          "dtype": "f8"
         },
         "yaxis": "y"
        },
        {
         "customdata": [
          [
           "44.30%"
          ]
         ],
         "hovertemplate": "Category=Gene Function<br>Total Number Evidence Items=%{x}<br>CIVIC Total Sum Impact Score=%{y}<br>Total Number Variants=%{text}<br>% Accepted Evidence Items=%{customdata[0]}<extra></extra>",
         "legendgroup": "Gene Function",
         "marker": {
          "color": "#B6E880",
          "size": {
           "bdata": "bw==",
           "dtype": "i1"
          },
          "sizemode": "area",
          "sizeref": 0.22625,
          "symbol": "circle"
         },
         "mode": "markers+text",
         "name": "Gene Function",
         "orientation": "v",
         "showlegend": true,
         "text": {
          "bdata": "AAAAAADAW0A=",
          "dtype": "f8"
         },
         "type": "scatter",
         "x": {
          "bdata": "ggE=",
          "dtype": "i2"
         },
         "xaxis": "x",
         "y": {
          "bdata": "AAAAAABKlUA=",
          "dtype": "f8"
         },
         "yaxis": "y"
        },
        {
         "customdata": [
          [
           "58.70%"
          ]
         ],
         "hovertemplate": "Category=Region-Defined<br>Total Number Evidence Items=%{x}<br>CIVIC Total Sum Impact Score=%{y}<br>Total Number Variants=%{text}<br>% Accepted Evidence Items=%{customdata[0]}<extra></extra>",
         "legendgroup": "Region-Defined",
         "marker": {
          "color": "#FF97FF",
          "size": {
           "bdata": "/wA=",
           "dtype": "i2"
          },
          "sizemode": "area",
          "sizeref": 0.22625,
          "symbol": "circle"
         },
         "mode": "markers+text",
         "name": "Region-Defined",
         "orientation": "v",
         "showlegend": true,
         "text": {
          "bdata": "AAAAAADgb0A=",
          "dtype": "f8"
         },
         "type": "scatter",
         "x": {
          "bdata": "DgM=",
          "dtype": "i2"
         },
         "xaxis": "x",
         "y": {
          "bdata": "AAAAAACNqkA=",
          "dtype": "f8"
         },
         "yaxis": "y"
        },
        {
         "customdata": [
          [
           "20.00%"
          ]
         ],
         "hovertemplate": "Category=Genome Feature<br>Total Number Evidence Items=%{x}<br>CIVIC Total Sum Impact Score=%{y}<br>Total Number Variants=%{text}<br>% Accepted Evidence Items=%{customdata[0]}<extra></extra>",
         "legendgroup": "Genome Feature",
         "marker": {
          "color": "#FECB52",
          "size": {
           "bdata": "Cg==",
           "dtype": "i1"
          },
          "sizemode": "area",
          "sizeref": 0.22625,
          "symbol": "circle"
         },
         "mode": "markers+text",
         "name": "Genome Feature",
         "orientation": "v",
         "showlegend": true,
         "text": {
          "bdata": "AAAAAAAAJEA=",
          "dtype": "f8"
         },
         "type": "scatter",
         "x": {
          "bdata": "GQ==",
          "dtype": "i1"
         },
         "xaxis": "x",
         "y": {
          "bdata": "AAAAAAAAXkA=",
          "dtype": "f8"
         },
         "yaxis": "y"
        },
        {
         "customdata": [
          [
           "33.33%"
          ]
         ],
         "hovertemplate": "Category=Other<br>Total Number Evidence Items=%{x}<br>CIVIC Total Sum Impact Score=%{y}<br>Total Number Variants=%{text}<br>% Accepted Evidence Items=%{customdata[0]}<extra></extra>",
         "legendgroup": "Other",
         "marker": {
          "color": "#636efa",
          "size": {
           "bdata": "Tw==",
           "dtype": "i1"
          },
          "sizemode": "area",
          "sizeref": 0.22625,
          "symbol": "circle"
         },
         "mode": "markers+text",
         "name": "Other",
         "orientation": "v",
         "showlegend": true,
         "text": {
          "bdata": "AAAAAADAU0A=",
          "dtype": "f8"
         },
         "type": "scatter",
         "x": {
          "bdata": "fg==",
          "dtype": "i1"
         },
         "xaxis": "x",
         "y": {
          "bdata": "AAAAAACof0A=",
          "dtype": "f8"
         },
         "yaxis": "y"
        },
        {
         "customdata": [
          [
           "13.33%"
          ]
         ],
         "hovertemplate": "Category=Transcript<br>Total Number Evidence Items=%{x}<br>CIVIC Total Sum Impact Score=%{y}<br>Total Number Variants=%{text}<br>% Accepted Evidence Items=%{customdata[0]}<extra></extra>",
         "legendgroup": "Transcript",
         "marker": {
          "color": "#EF553B",
          "size": {
           "bdata": "agE=",
           "dtype": "i2"
          },
          "sizemode": "area",
          "sizeref": 0.22625,
          "symbol": "circle"
         },
         "mode": "markers+text",
         "name": "Transcript",
         "orientation": "v",
         "showlegend": true,
         "text": {
          "bdata": "AAAAAACgdkA=",
          "dtype": "f8"
         },
         "type": "scatter",
         "x": {
          "bdata": "swE=",
          "dtype": "i2"
         },
         "xaxis": "x",
         "y": {
          "bdata": "AAAAAABklEA=",
          "dtype": "f8"
         },
         "yaxis": "y"
        }
       ],
       "layout": {
        "legend": {
         "itemsizing": "constant",
         "title": {
          "text": "Category"
         },
         "tracegroupgap": 0
        },
        "margin": {
         "t": 60
        },
        "template": {
         "data": {
          "bar": [
           {
            "error_x": {
             "color": "#2a3f5f"
            },
            "error_y": {
             "color": "#2a3f5f"
            },
            "marker": {
             "line": {
              "color": "#E5ECF6",
              "width": 0.5
             },
             "pattern": {
              "fillmode": "overlay",
              "size": 10,
              "solidity": 0.2
             }
            },
            "type": "bar"
           }
          ],
          "barpolar": [
           {
            "marker": {
             "line": {
              "color": "#E5ECF6",
              "width": 0.5
             },
             "pattern": {
              "fillmode": "overlay",
              "size": 10,
              "solidity": 0.2
             }
            },
            "type": "barpolar"
           }
          ],
          "carpet": [
           {
            "aaxis": {
             "endlinecolor": "#2a3f5f",
             "gridcolor": "white",
             "linecolor": "white",
             "minorgridcolor": "white",
             "startlinecolor": "#2a3f5f"
            },
            "baxis": {
             "endlinecolor": "#2a3f5f",
             "gridcolor": "white",
             "linecolor": "white",
             "minorgridcolor": "white",
             "startlinecolor": "#2a3f5f"
            },
            "type": "carpet"
           }
          ],
          "choropleth": [
           {
            "colorbar": {
             "outlinewidth": 0,
             "ticks": ""
            },
            "type": "choropleth"
           }
          ],
          "contour": [
           {
            "colorbar": {
             "outlinewidth": 0,
             "ticks": ""
            },
            "colorscale": [
             [
              0,
              "#0d0887"
             ],
             [
              0.1111111111111111,
              "#46039f"
             ],
             [
              0.2222222222222222,
              "#7201a8"
             ],
             [
              0.3333333333333333,
              "#9c179e"
             ],
             [
              0.4444444444444444,
              "#bd3786"
             ],
             [
              0.5555555555555556,
              "#d8576b"
             ],
             [
              0.6666666666666666,
              "#ed7953"
             ],
             [
              0.7777777777777778,
              "#fb9f3a"
             ],
             [
              0.8888888888888888,
              "#fdca26"
             ],
             [
              1,
              "#f0f921"
             ]
            ],
            "type": "contour"
           }
          ],
          "contourcarpet": [
           {
            "colorbar": {
             "outlinewidth": 0,
             "ticks": ""
            },
            "type": "contourcarpet"
           }
          ],
          "heatmap": [
           {
            "colorbar": {
             "outlinewidth": 0,
             "ticks": ""
            },
            "colorscale": [
             [
              0,
              "#0d0887"
             ],
             [
              0.1111111111111111,
              "#46039f"
             ],
             [
              0.2222222222222222,
              "#7201a8"
             ],
             [
              0.3333333333333333,
              "#9c179e"
             ],
             [
              0.4444444444444444,
              "#bd3786"
             ],
             [
              0.5555555555555556,
              "#d8576b"
             ],
             [
              0.6666666666666666,
              "#ed7953"
             ],
             [
              0.7777777777777778,
              "#fb9f3a"
             ],
             [
              0.8888888888888888,
              "#fdca26"
             ],
             [
              1,
              "#f0f921"
             ]
            ],
            "type": "heatmap"
           }
          ],
          "histogram": [
           {
            "marker": {
             "pattern": {
              "fillmode": "overlay",
              "size": 10,
              "solidity": 0.2
             }
            },
            "type": "histogram"
           }
          ],
          "histogram2d": [
           {
            "colorbar": {
             "outlinewidth": 0,
             "ticks": ""
            },
            "colorscale": [
             [
              0,
              "#0d0887"
             ],
             [
              0.1111111111111111,
              "#46039f"
             ],
             [
              0.2222222222222222,
              "#7201a8"
             ],
             [
              0.3333333333333333,
              "#9c179e"
             ],
             [
              0.4444444444444444,
              "#bd3786"
             ],
             [
              0.5555555555555556,
              "#d8576b"
             ],
             [
              0.6666666666666666,
              "#ed7953"
             ],
             [
              0.7777777777777778,
              "#fb9f3a"
             ],
             [
              0.8888888888888888,
              "#fdca26"
             ],
             [
              1,
              "#f0f921"
             ]
            ],
            "type": "histogram2d"
           }
          ],
          "histogram2dcontour": [
           {
            "colorbar": {
             "outlinewidth": 0,
             "ticks": ""
            },
            "colorscale": [
             [
              0,
              "#0d0887"
             ],
             [
              0.1111111111111111,
              "#46039f"
             ],
             [
              0.2222222222222222,
              "#7201a8"
             ],
             [
              0.3333333333333333,
              "#9c179e"
             ],
             [
              0.4444444444444444,
              "#bd3786"
             ],
             [
              0.5555555555555556,
              "#d8576b"
             ],
             [
              0.6666666666666666,
              "#ed7953"
             ],
             [
              0.7777777777777778,
              "#fb9f3a"
             ],
             [
              0.8888888888888888,
              "#fdca26"
             ],
             [
              1,
              "#f0f921"
             ]
            ],
            "type": "histogram2dcontour"
           }
          ],
          "mesh3d": [
           {
            "colorbar": {
             "outlinewidth": 0,
             "ticks": ""
            },
            "type": "mesh3d"
           }
          ],
          "parcoords": [
           {
            "line": {
             "colorbar": {
              "outlinewidth": 0,
              "ticks": ""
             }
            },
            "type": "parcoords"
           }
          ],
          "pie": [
           {
            "automargin": true,
            "type": "pie"
           }
          ],
          "scatter": [
           {
            "fillpattern": {
             "fillmode": "overlay",
             "size": 10,
             "solidity": 0.2
            },
            "type": "scatter"
           }
          ],
          "scatter3d": [
           {
            "line": {
             "colorbar": {
              "outlinewidth": 0,
              "ticks": ""
             }
            },
            "marker": {
             "colorbar": {
              "outlinewidth": 0,
              "ticks": ""
             }
            },
            "type": "scatter3d"
           }
          ],
          "scattercarpet": [
           {
            "marker": {
             "colorbar": {
              "outlinewidth": 0,
              "ticks": ""
             }
            },
            "type": "scattercarpet"
           }
          ],
          "scattergeo": [
           {
            "marker": {
             "colorbar": {
              "outlinewidth": 0,
              "ticks": ""
             }
            },
            "type": "scattergeo"
           }
          ],
          "scattergl": [
           {
            "marker": {
             "colorbar": {
              "outlinewidth": 0,
              "ticks": ""
             }
            },
            "type": "scattergl"
           }
          ],
          "scattermap": [
           {
            "marker": {
             "colorbar": {
              "outlinewidth": 0,
              "ticks": ""
             }
            },
            "type": "scattermap"
           }
          ],
          "scattermapbox": [
           {
            "marker": {
             "colorbar": {
              "outlinewidth": 0,
              "ticks": ""
             }
            },
            "type": "scattermapbox"
           }
          ],
          "scatterpolar": [
           {
            "marker": {
             "colorbar": {
              "outlinewidth": 0,
              "ticks": ""
             }
            },
            "type": "scatterpolar"
           }
          ],
          "scatterpolargl": [
           {
            "marker": {
             "colorbar": {
              "outlinewidth": 0,
              "ticks": ""
             }
            },
            "type": "scatterpolargl"
           }
          ],
          "scatterternary": [
           {
            "marker": {
             "colorbar": {
              "outlinewidth": 0,
              "ticks": ""
             }
            },
            "type": "scatterternary"
           }
          ],
          "surface": [
           {
            "colorbar": {
             "outlinewidth": 0,
             "ticks": ""
            },
            "colorscale": [
             [
              0,
              "#0d0887"
             ],
             [
              0.1111111111111111,
              "#46039f"
             ],
             [
              0.2222222222222222,
              "#7201a8"
             ],
             [
              0.3333333333333333,
              "#9c179e"
             ],
             [
              0.4444444444444444,
              "#bd3786"
             ],
             [
              0.5555555555555556,
              "#d8576b"
             ],
             [
              0.6666666666666666,
              "#ed7953"
             ],
             [
              0.7777777777777778,
              "#fb9f3a"
             ],
             [
              0.8888888888888888,
              "#fdca26"
             ],
             [
              1,
              "#f0f921"
             ]
            ],
            "type": "surface"
           }
          ],
          "table": [
           {
            "cells": {
             "fill": {
              "color": "#EBF0F8"
             },
             "line": {
              "color": "white"
             }
            },
            "header": {
             "fill": {
              "color": "#C8D4E3"
             },
             "line": {
              "color": "white"
             }
            },
            "type": "table"
           }
          ]
         },
         "layout": {
          "annotationdefaults": {
           "arrowcolor": "#2a3f5f",
           "arrowhead": 0,
           "arrowwidth": 1
          },
          "autotypenumbers": "strict",
          "coloraxis": {
           "colorbar": {
            "outlinewidth": 0,
            "ticks": ""
           }
          },
          "colorscale": {
           "diverging": [
            [
             0,
             "#8e0152"
            ],
            [
             0.1,
             "#c51b7d"
            ],
            [
             0.2,
             "#de77ae"
            ],
            [
             0.3,
             "#f1b6da"
            ],
            [
             0.4,
             "#fde0ef"
            ],
            [
             0.5,
             "#f7f7f7"
            ],
            [
             0.6,
             "#e6f5d0"
            ],
            [
             0.7,
             "#b8e186"
            ],
            [
             0.8,
             "#7fbc41"
            ],
            [
             0.9,
             "#4d9221"
            ],
            [
             1,
             "#276419"
            ]
           ],
           "sequential": [
            [
             0,
             "#0d0887"
            ],
            [
             0.1111111111111111,
             "#46039f"
            ],
            [
             0.2222222222222222,
             "#7201a8"
            ],
            [
             0.3333333333333333,
             "#9c179e"
            ],
            [
             0.4444444444444444,
             "#bd3786"
            ],
            [
             0.5555555555555556,
             "#d8576b"
            ],
            [
             0.6666666666666666,
             "#ed7953"
            ],
            [
             0.7777777777777778,
             "#fb9f3a"
            ],
            [
             0.8888888888888888,
             "#fdca26"
            ],
            [
             1,
             "#f0f921"
            ]
           ],
           "sequentialminus": [
            [
             0,
             "#0d0887"
            ],
            [
             0.1111111111111111,
             "#46039f"
            ],
            [
             0.2222222222222222,
             "#7201a8"
            ],
            [
             0.3333333333333333,
             "#9c179e"
            ],
            [
             0.4444444444444444,
             "#bd3786"
            ],
            [
             0.5555555555555556,
             "#d8576b"
            ],
            [
             0.6666666666666666,
             "#ed7953"
            ],
            [
             0.7777777777777778,
             "#fb9f3a"
            ],
            [
             0.8888888888888888,
             "#fdca26"
            ],
            [
             1,
             "#f0f921"
            ]
           ]
          },
          "colorway": [
           "#636efa",
           "#EF553B",
           "#00cc96",
           "#ab63fa",
           "#FFA15A",
           "#19d3f3",
           "#FF6692",
           "#B6E880",
           "#FF97FF",
           "#FECB52"
          ],
          "font": {
           "color": "#2a3f5f"
          },
          "geo": {
           "bgcolor": "white",
           "lakecolor": "white",
           "landcolor": "#E5ECF6",
           "showlakes": true,
           "showland": true,
           "subunitcolor": "white"
          },
          "hoverlabel": {
           "align": "left"
          },
          "hovermode": "closest",
          "mapbox": {
           "style": "light"
          },
          "paper_bgcolor": "white",
          "plot_bgcolor": "#E5ECF6",
          "polar": {
           "angularaxis": {
            "gridcolor": "white",
            "linecolor": "white",
            "ticks": ""
           },
           "bgcolor": "#E5ECF6",
           "radialaxis": {
            "gridcolor": "white",
            "linecolor": "white",
            "ticks": ""
           }
          },
          "scene": {
           "xaxis": {
            "backgroundcolor": "#E5ECF6",
            "gridcolor": "white",
            "gridwidth": 2,
            "linecolor": "white",
            "showbackground": true,
            "ticks": "",
            "zerolinecolor": "white"
           },
           "yaxis": {
            "backgroundcolor": "#E5ECF6",
            "gridcolor": "white",
            "gridwidth": 2,
            "linecolor": "white",
            "showbackground": true,
            "ticks": "",
            "zerolinecolor": "white"
           },
           "zaxis": {
            "backgroundcolor": "#E5ECF6",
            "gridcolor": "white",
            "gridwidth": 2,
            "linecolor": "white",
            "showbackground": true,
            "ticks": "",
            "zerolinecolor": "white"
           }
          },
          "shapedefaults": {
           "line": {
            "color": "#2a3f5f"
           }
          },
          "ternary": {
           "aaxis": {
            "gridcolor": "white",
            "linecolor": "white",
            "ticks": ""
           },
           "baxis": {
            "gridcolor": "white",
            "linecolor": "white",
            "ticks": ""
           },
           "bgcolor": "#E5ECF6",
           "caxis": {
            "gridcolor": "white",
            "linecolor": "white",
            "ticks": ""
           }
          },
          "title": {
           "x": 0.05
          },
          "xaxis": {
           "automargin": true,
           "gridcolor": "white",
           "linecolor": "white",
           "ticks": "",
           "title": {
            "standoff": 15
           },
           "zerolinecolor": "white",
           "zerolinewidth": 2
          },
          "yaxis": {
           "automargin": true,
           "gridcolor": "white",
           "linecolor": "white",
           "ticks": "",
           "title": {
            "standoff": 15
           },
           "zerolinecolor": "white",
           "zerolinewidth": 2
          }
         }
        },
        "xaxis": {
         "anchor": "y",
         "domain": [
          0,
          1
         ],
         "title": {
          "text": "Total Number Evidence Items"
         }
        },
        "yaxis": {
         "anchor": "x",
         "domain": [
          0,
          1
         ],
         "title": {
          "text": "CIVIC Total Sum Impact Score"
         }
        }
       }
      }
     },
     "metadata": {},
     "output_type": "display_data"
    }
   ],
   "source": [
    "fig2 = px.scatter(\n",
    "    data_frame=not_supported_variant_impact_df,\n",
    "    x=\"Total Number Evidence Items\",\n",
    "    y=\"CIVIC Total Sum Impact Score\",\n",
    "    size=\"Total Number Variants\",\n",
    "    size_max=40,\n",
    "    text=\"Total Number Variants\",\n",
    "    color=\"Category\",\n",
    "    hover_data=\"% Accepted Evidence Items\",\n",
    ")\n",
    "fig2.show()"
   ]
  },
  {
   "cell_type": "code",
   "execution_count": 118,
   "metadata": {},
   "outputs": [],
   "source": [
    "fig2.write_html(\"output/civic_ns_categories_impact_scatterplot.html\")"
   ]
  },
  {
   "cell_type": "code",
   "execution_count": 119,
   "metadata": {},
   "outputs": [
    {
     "data": {
      "application/vnd.plotly.v1+json": {
       "config": {
        "plotlyServerURL": "https://plot.ly"
       },
       "data": [
        {
         "customdata": [
          [
           "64.33%",
           3.43
          ]
         ],
         "hovertemplate": "Category=Sequence<br>Total Number Variants=%{text}<br>Average Impact Score per Evidence Item=%{y}<br>% Accepted Evidence Items=%{customdata[0]}<br>Average Impact Score per Variant=%{customdata[1]}<extra></extra>",
         "legendgroup": "Sequence",
         "marker": {
          "color": "#636efa",
          "size": {
           "bdata": "hQA=",
           "dtype": "i2"
          },
          "sizemode": "area",
          "sizeref": 0.22625,
          "symbol": "circle"
         },
         "mode": "markers+text",
         "name": "Sequence",
         "orientation": "v",
         "showlegend": true,
         "text": {
          "bdata": "AAAAAACgYEA=",
          "dtype": "f8"
         },
         "type": "scatter",
         "x": {
          "bdata": "hQA=",
          "dtype": "i2"
         },
         "xaxis": "x",
         "y": {
          "bdata": "zczMzMzMBkA=",
          "dtype": "f8"
         },
         "yaxis": "y"
        },
        {
         "customdata": [
          [
           "48.72%",
           0.64
          ]
         ],
         "hovertemplate": "Category=Genotype/Haplotype<br>Total Number Variants=%{text}<br>Average Impact Score per Evidence Item=%{y}<br>% Accepted Evidence Items=%{customdata[0]}<br>Average Impact Score per Variant=%{customdata[1]}<extra></extra>",
         "legendgroup": "Genotype/Haplotype",
         "marker": {
          "color": "#EF553B",
          "size": {
           "bdata": "Fg==",
           "dtype": "i1"
          },
          "sizemode": "area",
          "sizeref": 0.22625,
          "symbol": "circle"
         },
         "mode": "markers+text",
         "name": "Genotype/Haplotype",
         "orientation": "v",
         "showlegend": true,
         "text": {
          "bdata": "AAAAAAAANkA=",
          "dtype": "f8"
         },
         "type": "scatter",
         "x": {
          "bdata": "Fg==",
          "dtype": "i1"
         },
         "xaxis": "x",
         "y": {
          "bdata": "9ihcj8L14D8=",
          "dtype": "f8"
         },
         "yaxis": "y"
        },
        {
         "customdata": [
          [
           "64.65%",
           15.34
          ]
         ],
         "hovertemplate": "Category=Fusion<br>Total Number Variants=%{text}<br>Average Impact Score per Evidence Item=%{y}<br>% Accepted Evidence Items=%{customdata[0]}<br>Average Impact Score per Variant=%{customdata[1]}<extra></extra>",
         "legendgroup": "Fusion",
         "marker": {
          "color": "#00cc96",
          "size": {
           "bdata": "OQE=",
           "dtype": "i2"
          },
          "sizemode": "area",
          "sizeref": 0.22625,
          "symbol": "circle"
         },
         "mode": "markers+text",
         "name": "Fusion",
         "orientation": "v",
         "showlegend": true,
         "text": {
          "bdata": "AAAAAACQc0A=",
          "dtype": "f8"
         },
         "type": "scatter",
         "x": {
          "bdata": "OQE=",
          "dtype": "i2"
         },
         "xaxis": "x",
         "y": {
          "bdata": "hetRuB6FKUA=",
          "dtype": "f8"
         },
         "yaxis": "y"
        },
        {
         "customdata": [
          [
           "40.13%",
           6.56
          ]
         ],
         "hovertemplate": "Category=Rearrangement<br>Total Number Variants=%{text}<br>Average Impact Score per Evidence Item=%{y}<br>% Accepted Evidence Items=%{customdata[0]}<br>Average Impact Score per Variant=%{customdata[1]}<extra></extra>",
         "legendgroup": "Rearrangement",
         "marker": {
          "color": "#ab63fa",
          "size": {
           "bdata": "eg==",
           "dtype": "i1"
          },
          "sizemode": "area",
          "sizeref": 0.22625,
          "symbol": "circle"
         },
         "mode": "markers+text",
         "name": "Rearrangement",
         "orientation": "v",
         "showlegend": true,
         "text": {
          "bdata": "AAAAAACAXkA=",
          "dtype": "f8"
         },
         "type": "scatter",
         "x": {
          "bdata": "eg==",
          "dtype": "i1"
         },
         "xaxis": "x",
         "y": {
          "bdata": "16NwPQrXFUA=",
          "dtype": "f8"
         },
         "yaxis": "y"
        },
        {
         "customdata": [
          [
           "95.65%",
           0.25
          ]
         ],
         "hovertemplate": "Category=Epigenetic Modification<br>Total Number Variants=%{text}<br>Average Impact Score per Evidence Item=%{y}<br>% Accepted Evidence Items=%{customdata[0]}<br>Average Impact Score per Variant=%{customdata[1]}<extra></extra>",
         "legendgroup": "Epigenetic Modification",
         "marker": {
          "color": "#FFA15A",
          "size": {
           "bdata": "Dg==",
           "dtype": "i1"
          },
          "sizemode": "area",
          "sizeref": 0.22625,
          "symbol": "circle"
         },
         "mode": "markers+text",
         "name": "Epigenetic Modification",
         "orientation": "v",
         "showlegend": true,
         "text": {
          "bdata": "AAAAAAAALEA=",
          "dtype": "f8"
         },
         "type": "scatter",
         "x": {
          "bdata": "Dg==",
          "dtype": "i1"
         },
         "xaxis": "x",
         "y": {
          "bdata": "4XoUrkfhyj8=",
          "dtype": "f8"
         },
         "yaxis": "y"
        },
        {
         "customdata": [
          [
           "45.45%",
           0.62
          ]
         ],
         "hovertemplate": "Category=Copy Number<br>Total Number Variants=%{text}<br>Average Impact Score per Evidence Item=%{y}<br>% Accepted Evidence Items=%{customdata[0]}<br>Average Impact Score per Variant=%{customdata[1]}<extra></extra>",
         "legendgroup": "Copy Number",
         "marker": {
          "color": "#19d3f3",
          "size": {
           "bdata": "IA==",
           "dtype": "i1"
          },
          "sizemode": "area",
          "sizeref": 0.22625,
          "symbol": "circle"
         },
         "mode": "markers+text",
         "name": "Copy Number",
         "orientation": "v",
         "showlegend": true,
         "text": {
          "bdata": "AAAAAAAAQEA=",
          "dtype": "f8"
         },
         "type": "scatter",
         "x": {
          "bdata": "IA==",
          "dtype": "i1"
         },
         "xaxis": "x",
         "y": {
          "bdata": "pHA9Ctej4D8=",
          "dtype": "f8"
         },
         "yaxis": "y"
        },
        {
         "customdata": [
          [
           "55.38%",
           5.85
          ]
         ],
         "hovertemplate": "Category=Expression<br>Total Number Variants=%{text}<br>Average Impact Score per Evidence Item=%{y}<br>% Accepted Evidence Items=%{customdata[0]}<br>Average Impact Score per Variant=%{customdata[1]}<extra></extra>",
         "legendgroup": "Expression",
         "marker": {
          "color": "#FF6692",
          "size": {
           "bdata": "JgE=",
           "dtype": "i2"
          },
          "sizemode": "area",
          "sizeref": 0.22625,
          "symbol": "circle"
         },
         "mode": "markers+text",
         "name": "Expression",
         "orientation": "v",
         "showlegend": true,
         "text": {
          "bdata": "AAAAAABgckA=",
          "dtype": "f8"
         },
         "type": "scatter",
         "x": {
          "bdata": "JgE=",
          "dtype": "i2"
         },
         "xaxis": "x",
         "y": {
          "bdata": "exSuR+F6E0A=",
          "dtype": "f8"
         },
         "yaxis": "y"
        },
        {
         "customdata": [
          [
           "44.30%",
           3.76
          ]
         ],
         "hovertemplate": "Category=Gene Function<br>Total Number Variants=%{text}<br>Average Impact Score per Evidence Item=%{y}<br>% Accepted Evidence Items=%{customdata[0]}<br>Average Impact Score per Variant=%{customdata[1]}<extra></extra>",
         "legendgroup": "Gene Function",
         "marker": {
          "color": "#B6E880",
          "size": {
           "bdata": "bw==",
           "dtype": "i1"
          },
          "sizemode": "area",
          "sizeref": 0.22625,
          "symbol": "circle"
         },
         "mode": "markers+text",
         "name": "Gene Function",
         "orientation": "v",
         "showlegend": true,
         "text": {
          "bdata": "AAAAAADAW0A=",
          "dtype": "f8"
         },
         "type": "scatter",
         "x": {
          "bdata": "bw==",
          "dtype": "i1"
         },
         "xaxis": "x",
         "y": {
          "bdata": "CtejcD0KCUA=",
          "dtype": "f8"
         },
         "yaxis": "y"
        },
        {
         "customdata": [
          [
           "58.70%",
           9.39
          ]
         ],
         "hovertemplate": "Category=Region-Defined<br>Total Number Variants=%{text}<br>Average Impact Score per Evidence Item=%{y}<br>% Accepted Evidence Items=%{customdata[0]}<br>Average Impact Score per Variant=%{customdata[1]}<extra></extra>",
         "legendgroup": "Region-Defined",
         "marker": {
          "color": "#FF97FF",
          "size": {
           "bdata": "/wA=",
           "dtype": "i2"
          },
          "sizemode": "area",
          "sizeref": 0.22625,
          "symbol": "circle"
         },
         "mode": "markers+text",
         "name": "Region-Defined",
         "orientation": "v",
         "showlegend": true,
         "text": {
          "bdata": "AAAAAADgb0A=",
          "dtype": "f8"
         },
         "type": "scatter",
         "x": {
          "bdata": "/wA=",
          "dtype": "i2"
         },
         "xaxis": "x",
         "y": {
          "bdata": "PQrXo3A9H0A=",
          "dtype": "f8"
         },
         "yaxis": "y"
        },
        {
         "customdata": [
          [
           "20.00%",
           0.33
          ]
         ],
         "hovertemplate": "Category=Genome Feature<br>Total Number Variants=%{text}<br>Average Impact Score per Evidence Item=%{y}<br>% Accepted Evidence Items=%{customdata[0]}<br>Average Impact Score per Variant=%{customdata[1]}<extra></extra>",
         "legendgroup": "Genome Feature",
         "marker": {
          "color": "#FECB52",
          "size": {
           "bdata": "Cg==",
           "dtype": "i1"
          },
          "sizemode": "area",
          "sizeref": 0.22625,
          "symbol": "circle"
         },
         "mode": "markers+text",
         "name": "Genome Feature",
         "orientation": "v",
         "showlegend": true,
         "text": {
          "bdata": "AAAAAAAAJEA=",
          "dtype": "f8"
         },
         "type": "scatter",
         "x": {
          "bdata": "Cg==",
          "dtype": "i1"
         },
         "xaxis": "x",
         "y": {
          "bdata": "7FG4HoXr0T8=",
          "dtype": "f8"
         },
         "yaxis": "y"
        },
        {
         "customdata": [
          [
           "33.33%",
           1.4
          ]
         ],
         "hovertemplate": "Category=Other<br>Total Number Variants=%{text}<br>Average Impact Score per Evidence Item=%{y}<br>% Accepted Evidence Items=%{customdata[0]}<br>Average Impact Score per Variant=%{customdata[1]}<extra></extra>",
         "legendgroup": "Other",
         "marker": {
          "color": "#636efa",
          "size": {
           "bdata": "Tw==",
           "dtype": "i1"
          },
          "sizemode": "area",
          "sizeref": 0.22625,
          "symbol": "circle"
         },
         "mode": "markers+text",
         "name": "Other",
         "orientation": "v",
         "showlegend": true,
         "text": {
          "bdata": "AAAAAADAU0A=",
          "dtype": "f8"
         },
         "type": "scatter",
         "x": {
          "bdata": "Tw==",
          "dtype": "i1"
         },
         "xaxis": "x",
         "y": {
          "bdata": "j8L1KFyP8j8=",
          "dtype": "f8"
         },
         "yaxis": "y"
        },
        {
         "customdata": [
          [
           "13.33%",
           3.6
          ]
         ],
         "hovertemplate": "Category=Transcript<br>Total Number Variants=%{text}<br>Average Impact Score per Evidence Item=%{y}<br>% Accepted Evidence Items=%{customdata[0]}<br>Average Impact Score per Variant=%{customdata[1]}<extra></extra>",
         "legendgroup": "Transcript",
         "marker": {
          "color": "#EF553B",
          "size": {
           "bdata": "agE=",
           "dtype": "i2"
          },
          "sizemode": "area",
          "sizeref": 0.22625,
          "symbol": "circle"
         },
         "mode": "markers+text",
         "name": "Transcript",
         "orientation": "v",
         "showlegend": true,
         "text": {
          "bdata": "AAAAAACgdkA=",
          "dtype": "f8"
         },
         "type": "scatter",
         "x": {
          "bdata": "agE=",
          "dtype": "i2"
         },
         "xaxis": "x",
         "y": {
          "bdata": "AAAAAAAACEA=",
          "dtype": "f8"
         },
         "yaxis": "y"
        }
       ],
       "layout": {
        "legend": {
         "itemsizing": "constant",
         "title": {
          "text": "Category"
         },
         "tracegroupgap": 0
        },
        "margin": {
         "t": 60
        },
        "template": {
         "data": {
          "bar": [
           {
            "error_x": {
             "color": "#2a3f5f"
            },
            "error_y": {
             "color": "#2a3f5f"
            },
            "marker": {
             "line": {
              "color": "#E5ECF6",
              "width": 0.5
             },
             "pattern": {
              "fillmode": "overlay",
              "size": 10,
              "solidity": 0.2
             }
            },
            "type": "bar"
           }
          ],
          "barpolar": [
           {
            "marker": {
             "line": {
              "color": "#E5ECF6",
              "width": 0.5
             },
             "pattern": {
              "fillmode": "overlay",
              "size": 10,
              "solidity": 0.2
             }
            },
            "type": "barpolar"
           }
          ],
          "carpet": [
           {
            "aaxis": {
             "endlinecolor": "#2a3f5f",
             "gridcolor": "white",
             "linecolor": "white",
             "minorgridcolor": "white",
             "startlinecolor": "#2a3f5f"
            },
            "baxis": {
             "endlinecolor": "#2a3f5f",
             "gridcolor": "white",
             "linecolor": "white",
             "minorgridcolor": "white",
             "startlinecolor": "#2a3f5f"
            },
            "type": "carpet"
           }
          ],
          "choropleth": [
           {
            "colorbar": {
             "outlinewidth": 0,
             "ticks": ""
            },
            "type": "choropleth"
           }
          ],
          "contour": [
           {
            "colorbar": {
             "outlinewidth": 0,
             "ticks": ""
            },
            "colorscale": [
             [
              0,
              "#0d0887"
             ],
             [
              0.1111111111111111,
              "#46039f"
             ],
             [
              0.2222222222222222,
              "#7201a8"
             ],
             [
              0.3333333333333333,
              "#9c179e"
             ],
             [
              0.4444444444444444,
              "#bd3786"
             ],
             [
              0.5555555555555556,
              "#d8576b"
             ],
             [
              0.6666666666666666,
              "#ed7953"
             ],
             [
              0.7777777777777778,
              "#fb9f3a"
             ],
             [
              0.8888888888888888,
              "#fdca26"
             ],
             [
              1,
              "#f0f921"
             ]
            ],
            "type": "contour"
           }
          ],
          "contourcarpet": [
           {
            "colorbar": {
             "outlinewidth": 0,
             "ticks": ""
            },
            "type": "contourcarpet"
           }
          ],
          "heatmap": [
           {
            "colorbar": {
             "outlinewidth": 0,
             "ticks": ""
            },
            "colorscale": [
             [
              0,
              "#0d0887"
             ],
             [
              0.1111111111111111,
              "#46039f"
             ],
             [
              0.2222222222222222,
              "#7201a8"
             ],
             [
              0.3333333333333333,
              "#9c179e"
             ],
             [
              0.4444444444444444,
              "#bd3786"
             ],
             [
              0.5555555555555556,
              "#d8576b"
             ],
             [
              0.6666666666666666,
              "#ed7953"
             ],
             [
              0.7777777777777778,
              "#fb9f3a"
             ],
             [
              0.8888888888888888,
              "#fdca26"
             ],
             [
              1,
              "#f0f921"
             ]
            ],
            "type": "heatmap"
           }
          ],
          "histogram": [
           {
            "marker": {
             "pattern": {
              "fillmode": "overlay",
              "size": 10,
              "solidity": 0.2
             }
            },
            "type": "histogram"
           }
          ],
          "histogram2d": [
           {
            "colorbar": {
             "outlinewidth": 0,
             "ticks": ""
            },
            "colorscale": [
             [
              0,
              "#0d0887"
             ],
             [
              0.1111111111111111,
              "#46039f"
             ],
             [
              0.2222222222222222,
              "#7201a8"
             ],
             [
              0.3333333333333333,
              "#9c179e"
             ],
             [
              0.4444444444444444,
              "#bd3786"
             ],
             [
              0.5555555555555556,
              "#d8576b"
             ],
             [
              0.6666666666666666,
              "#ed7953"
             ],
             [
              0.7777777777777778,
              "#fb9f3a"
             ],
             [
              0.8888888888888888,
              "#fdca26"
             ],
             [
              1,
              "#f0f921"
             ]
            ],
            "type": "histogram2d"
           }
          ],
          "histogram2dcontour": [
           {
            "colorbar": {
             "outlinewidth": 0,
             "ticks": ""
            },
            "colorscale": [
             [
              0,
              "#0d0887"
             ],
             [
              0.1111111111111111,
              "#46039f"
             ],
             [
              0.2222222222222222,
              "#7201a8"
             ],
             [
              0.3333333333333333,
              "#9c179e"
             ],
             [
              0.4444444444444444,
              "#bd3786"
             ],
             [
              0.5555555555555556,
              "#d8576b"
             ],
             [
              0.6666666666666666,
              "#ed7953"
             ],
             [
              0.7777777777777778,
              "#fb9f3a"
             ],
             [
              0.8888888888888888,
              "#fdca26"
             ],
             [
              1,
              "#f0f921"
             ]
            ],
            "type": "histogram2dcontour"
           }
          ],
          "mesh3d": [
           {
            "colorbar": {
             "outlinewidth": 0,
             "ticks": ""
            },
            "type": "mesh3d"
           }
          ],
          "parcoords": [
           {
            "line": {
             "colorbar": {
              "outlinewidth": 0,
              "ticks": ""
             }
            },
            "type": "parcoords"
           }
          ],
          "pie": [
           {
            "automargin": true,
            "type": "pie"
           }
          ],
          "scatter": [
           {
            "fillpattern": {
             "fillmode": "overlay",
             "size": 10,
             "solidity": 0.2
            },
            "type": "scatter"
           }
          ],
          "scatter3d": [
           {
            "line": {
             "colorbar": {
              "outlinewidth": 0,
              "ticks": ""
             }
            },
            "marker": {
             "colorbar": {
              "outlinewidth": 0,
              "ticks": ""
             }
            },
            "type": "scatter3d"
           }
          ],
          "scattercarpet": [
           {
            "marker": {
             "colorbar": {
              "outlinewidth": 0,
              "ticks": ""
             }
            },
            "type": "scattercarpet"
           }
          ],
          "scattergeo": [
           {
            "marker": {
             "colorbar": {
              "outlinewidth": 0,
              "ticks": ""
             }
            },
            "type": "scattergeo"
           }
          ],
          "scattergl": [
           {
            "marker": {
             "colorbar": {
              "outlinewidth": 0,
              "ticks": ""
             }
            },
            "type": "scattergl"
           }
          ],
          "scattermap": [
           {
            "marker": {
             "colorbar": {
              "outlinewidth": 0,
              "ticks": ""
             }
            },
            "type": "scattermap"
           }
          ],
          "scattermapbox": [
           {
            "marker": {
             "colorbar": {
              "outlinewidth": 0,
              "ticks": ""
             }
            },
            "type": "scattermapbox"
           }
          ],
          "scatterpolar": [
           {
            "marker": {
             "colorbar": {
              "outlinewidth": 0,
              "ticks": ""
             }
            },
            "type": "scatterpolar"
           }
          ],
          "scatterpolargl": [
           {
            "marker": {
             "colorbar": {
              "outlinewidth": 0,
              "ticks": ""
             }
            },
            "type": "scatterpolargl"
           }
          ],
          "scatterternary": [
           {
            "marker": {
             "colorbar": {
              "outlinewidth": 0,
              "ticks": ""
             }
            },
            "type": "scatterternary"
           }
          ],
          "surface": [
           {
            "colorbar": {
             "outlinewidth": 0,
             "ticks": ""
            },
            "colorscale": [
             [
              0,
              "#0d0887"
             ],
             [
              0.1111111111111111,
              "#46039f"
             ],
             [
              0.2222222222222222,
              "#7201a8"
             ],
             [
              0.3333333333333333,
              "#9c179e"
             ],
             [
              0.4444444444444444,
              "#bd3786"
             ],
             [
              0.5555555555555556,
              "#d8576b"
             ],
             [
              0.6666666666666666,
              "#ed7953"
             ],
             [
              0.7777777777777778,
              "#fb9f3a"
             ],
             [
              0.8888888888888888,
              "#fdca26"
             ],
             [
              1,
              "#f0f921"
             ]
            ],
            "type": "surface"
           }
          ],
          "table": [
           {
            "cells": {
             "fill": {
              "color": "#EBF0F8"
             },
             "line": {
              "color": "white"
             }
            },
            "header": {
             "fill": {
              "color": "#C8D4E3"
             },
             "line": {
              "color": "white"
             }
            },
            "type": "table"
           }
          ]
         },
         "layout": {
          "annotationdefaults": {
           "arrowcolor": "#2a3f5f",
           "arrowhead": 0,
           "arrowwidth": 1
          },
          "autotypenumbers": "strict",
          "coloraxis": {
           "colorbar": {
            "outlinewidth": 0,
            "ticks": ""
           }
          },
          "colorscale": {
           "diverging": [
            [
             0,
             "#8e0152"
            ],
            [
             0.1,
             "#c51b7d"
            ],
            [
             0.2,
             "#de77ae"
            ],
            [
             0.3,
             "#f1b6da"
            ],
            [
             0.4,
             "#fde0ef"
            ],
            [
             0.5,
             "#f7f7f7"
            ],
            [
             0.6,
             "#e6f5d0"
            ],
            [
             0.7,
             "#b8e186"
            ],
            [
             0.8,
             "#7fbc41"
            ],
            [
             0.9,
             "#4d9221"
            ],
            [
             1,
             "#276419"
            ]
           ],
           "sequential": [
            [
             0,
             "#0d0887"
            ],
            [
             0.1111111111111111,
             "#46039f"
            ],
            [
             0.2222222222222222,
             "#7201a8"
            ],
            [
             0.3333333333333333,
             "#9c179e"
            ],
            [
             0.4444444444444444,
             "#bd3786"
            ],
            [
             0.5555555555555556,
             "#d8576b"
            ],
            [
             0.6666666666666666,
             "#ed7953"
            ],
            [
             0.7777777777777778,
             "#fb9f3a"
            ],
            [
             0.8888888888888888,
             "#fdca26"
            ],
            [
             1,
             "#f0f921"
            ]
           ],
           "sequentialminus": [
            [
             0,
             "#0d0887"
            ],
            [
             0.1111111111111111,
             "#46039f"
            ],
            [
             0.2222222222222222,
             "#7201a8"
            ],
            [
             0.3333333333333333,
             "#9c179e"
            ],
            [
             0.4444444444444444,
             "#bd3786"
            ],
            [
             0.5555555555555556,
             "#d8576b"
            ],
            [
             0.6666666666666666,
             "#ed7953"
            ],
            [
             0.7777777777777778,
             "#fb9f3a"
            ],
            [
             0.8888888888888888,
             "#fdca26"
            ],
            [
             1,
             "#f0f921"
            ]
           ]
          },
          "colorway": [
           "#636efa",
           "#EF553B",
           "#00cc96",
           "#ab63fa",
           "#FFA15A",
           "#19d3f3",
           "#FF6692",
           "#B6E880",
           "#FF97FF",
           "#FECB52"
          ],
          "font": {
           "color": "#2a3f5f"
          },
          "geo": {
           "bgcolor": "white",
           "lakecolor": "white",
           "landcolor": "#E5ECF6",
           "showlakes": true,
           "showland": true,
           "subunitcolor": "white"
          },
          "hoverlabel": {
           "align": "left"
          },
          "hovermode": "closest",
          "mapbox": {
           "style": "light"
          },
          "paper_bgcolor": "white",
          "plot_bgcolor": "#E5ECF6",
          "polar": {
           "angularaxis": {
            "gridcolor": "white",
            "linecolor": "white",
            "ticks": ""
           },
           "bgcolor": "#E5ECF6",
           "radialaxis": {
            "gridcolor": "white",
            "linecolor": "white",
            "ticks": ""
           }
          },
          "scene": {
           "xaxis": {
            "backgroundcolor": "#E5ECF6",
            "gridcolor": "white",
            "gridwidth": 2,
            "linecolor": "white",
            "showbackground": true,
            "ticks": "",
            "zerolinecolor": "white"
           },
           "yaxis": {
            "backgroundcolor": "#E5ECF6",
            "gridcolor": "white",
            "gridwidth": 2,
            "linecolor": "white",
            "showbackground": true,
            "ticks": "",
            "zerolinecolor": "white"
           },
           "zaxis": {
            "backgroundcolor": "#E5ECF6",
            "gridcolor": "white",
            "gridwidth": 2,
            "linecolor": "white",
            "showbackground": true,
            "ticks": "",
            "zerolinecolor": "white"
           }
          },
          "shapedefaults": {
           "line": {
            "color": "#2a3f5f"
           }
          },
          "ternary": {
           "aaxis": {
            "gridcolor": "white",
            "linecolor": "white",
            "ticks": ""
           },
           "baxis": {
            "gridcolor": "white",
            "linecolor": "white",
            "ticks": ""
           },
           "bgcolor": "#E5ECF6",
           "caxis": {
            "gridcolor": "white",
            "linecolor": "white",
            "ticks": ""
           }
          },
          "title": {
           "x": 0.05
          },
          "xaxis": {
           "automargin": true,
           "gridcolor": "white",
           "linecolor": "white",
           "ticks": "",
           "title": {
            "standoff": 15
           },
           "zerolinecolor": "white",
           "zerolinewidth": 2
          },
          "yaxis": {
           "automargin": true,
           "gridcolor": "white",
           "linecolor": "white",
           "ticks": "",
           "title": {
            "standoff": 15
           },
           "zerolinecolor": "white",
           "zerolinewidth": 2
          }
         }
        },
        "xaxis": {
         "anchor": "y",
         "domain": [
          0,
          1
         ],
         "title": {
          "text": "Total Number Variants"
         }
        },
        "yaxis": {
         "anchor": "x",
         "domain": [
          0,
          1
         ],
         "title": {
          "text": "Average Impact Score per Evidence Item"
         }
        }
       }
      }
     },
     "metadata": {},
     "output_type": "display_data"
    }
   ],
   "source": [
    "fig3 = px.scatter(\n",
    "    data_frame=not_supported_variant_impact_df,\n",
    "    x=\"Total Number Variants\",\n",
    "    y=\"Average Impact Score per Evidence Item\",\n",
    "    size=\"Total Number Variants\",\n",
    "    size_max=40,\n",
    "    text=\"Total Number Variants\",\n",
    "    color=\"Category\",\n",
    "    hover_data=[\"% Accepted Evidence Items\", \"Average Impact Score per Variant\"],\n",
    ")\n",
    "fig3.show()"
   ]
  }
 ],
 "metadata": {
  "kernelspec": {
   "display_name": "Python 3.10.9 64-bit ('3.10.9')",
   "language": "python",
   "name": "python3"
  },
  "language_info": {
   "codemirror_mode": {
    "name": "ipython",
    "version": 3
   },
   "file_extension": ".py",
   "mimetype": "text/x-python",
   "name": "python",
   "nbconvert_exporter": "python",
   "pygments_lexer": "ipython3",
   "version": "3.13.5"
  },
  "orig_nbformat": 4,
  "vscode": {
   "interpreter": {
    "hash": "1bd4a0c8bc911393f4a19827cd0d555013b2fcb9ea63c8ddc9b9ae4ac59a8883"
   }
  }
 },
 "nbformat": 4,
 "nbformat_minor": 2
}
