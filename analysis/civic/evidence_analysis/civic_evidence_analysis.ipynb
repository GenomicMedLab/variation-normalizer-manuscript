{
 "cells": [
  {
   "cell_type": "markdown",
   "metadata": {},
   "source": [
    "# Analysis of Normalized Queries\n",
    "\n",
    "This notebook contains an analysis on CIViC evidence data"
   ]
  },
  {
   "cell_type": "code",
   "execution_count": 1,
   "metadata": {},
   "outputs": [],
   "source": [
    "from pathlib import Path\n",
    "from enum import Enum\n",
    "import zipfile\n",
    "\n",
    "import pandas as pd\n",
    "from civicpy import civic as civicpy\n",
    "import plotly.express as px"
   ]
  },
  {
   "cell_type": "code",
   "execution_count": 2,
   "metadata": {},
   "outputs": [
    {
     "name": "stdout",
     "output_type": "stream",
     "text": [
      "Using ../cache-20230803.pkl.zip for civicpy cache\n"
     ]
    },
    {
     "data": {
      "text/plain": [
       "True"
      ]
     },
     "execution_count": 2,
     "metadata": {},
     "output_type": "execute_result"
    }
   ],
   "source": [
    "# Use latest cache that has been pushed to the repo\n",
    "latest_cache_zip_path = sorted(Path().glob(\"../cache-*.pkl.zip\"))[-1]\n",
    "print(f\"Using {latest_cache_zip_path} for civicpy cache\")\n",
    "\n",
    "with zipfile.ZipFile(latest_cache_zip_path, \"r\") as zip_ref:\n",
    "    zip_ref.extractall(\"../\")\n",
    "\n",
    "civicpy.load_cache(local_cache_path=Path(\"../cache.pkl\"), on_stale=\"ignore\")"
   ]
  },
  {
   "cell_type": "markdown",
   "metadata": {},
   "source": [
    "## Total Variants in CIViC"
   ]
  },
  {
   "cell_type": "code",
   "execution_count": 3,
   "metadata": {},
   "outputs": [
    {
     "data": {
      "text/plain": [
       "'Total Number of variants in CIViC: 3582'"
      ]
     },
     "execution_count": 3,
     "metadata": {},
     "output_type": "execute_result"
    }
   ],
   "source": [
    "civic_variant_ids = civicpy.get_all_variants()\n",
    "total_number_variants = len(civic_variant_ids)\n",
    "f\"Total Number of variants in CIViC: {total_number_variants}\""
   ]
  },
  {
   "cell_type": "markdown",
   "metadata": {},
   "source": [
    "## Total Evidence items in CIViC"
   ]
  },
  {
   "cell_type": "markdown",
   "metadata": {},
   "source": [
    "Need to remove all rejected evidence items"
   ]
  },
  {
   "cell_type": "code",
   "execution_count": 4,
   "metadata": {},
   "outputs": [],
   "source": [
    "civic_evidence_ids = civicpy.get_all_evidence(include_status=[\"accepted\", \"submitted\"])"
   ]
  },
  {
   "cell_type": "code",
   "execution_count": 5,
   "metadata": {},
   "outputs": [
    {
     "data": {
      "text/plain": [
       "'Total Number of accepted and submitted evidence items in CIViC: 9920'"
      ]
     },
     "execution_count": 5,
     "metadata": {},
     "output_type": "execute_result"
    }
   ],
   "source": [
    "total_ac_sub_evidence = len(civic_evidence_ids)\n",
    "f\"Total Number of accepted and submitted evidence items in CIViC: {total_ac_sub_evidence}\""
   ]
  },
  {
   "cell_type": "markdown",
   "metadata": {},
   "source": [
    "## Total Molecular Profiles in CIViC"
   ]
  },
  {
   "cell_type": "code",
   "execution_count": 6,
   "metadata": {},
   "outputs": [],
   "source": [
    "civic_molprof_ids = civicpy.get_all_molecular_profiles(include_status=[\"accepted\", \"submitted\", \"rejected\"])"
   ]
  },
  {
   "attachments": {},
   "cell_type": "markdown",
   "metadata": {},
   "source": [
    "# Create analysis functions / global variables "
   ]
  },
  {
   "cell_type": "code",
   "execution_count": 7,
   "metadata": {},
   "outputs": [],
   "source": [
    "class VariantNormType(str, Enum):\n",
    "    \"\"\"Variation Normalization types\"\"\"\n",
    "\n",
    "    NORMALIZED = \"Normalized\"\n",
    "    UNABLE_TO_NORMALIZE = \"Unable to Normalize\"\n",
    "    NOT_SUPPORTED = \"Not Supported\"\n",
    "\n",
    "\n",
    "VARIANT_NORM_TYPE_VALUES = [v.value for v in VariantNormType.__members__.values()]"
   ]
  },
  {
   "cell_type": "code",
   "execution_count": 8,
   "metadata": {},
   "outputs": [],
   "source": [
    "class VariantCategory(str, Enum):\n",
    "    \"\"\"Create enum for the kind of variants that are in CIViC.\"\"\"\n",
    "    EXPRESSION = \"Expression Variants\"\n",
    "    EPIGENETIC_MODIFICATION = \"Epigenetic Modification\"\n",
    "    FUSION = \"Fusion Variants\"\n",
    "    SEQUENCE_VARS = \"Sequence Variants\"\n",
    "    GENE_FUNC = \"Gene Function Variants\"\n",
    "    REARRANGEMENTS = \"Rearrangement Variants\"\n",
    "    COPY_NUMBER = \"Copy Number Variants\"\n",
    "    OTHER = \"Other Variants\"\n",
    "    GENOTYPES = \"Genotype Variants\"\n",
    "    REGION_DEFINED_VAR = \"Region Defined Variants\"\n",
    "    TRANSCRIPT_VAR = \"Transcript Variants\"  # no attempt to normalize these ones, since there is no query we could use\n",
    "\n",
    "\n",
    "VARIANT_CATEGORY_VALUES = [v.value for v in VariantCategory.__members__.values()]"
   ]
  },
  {
   "cell_type": "markdown",
   "metadata": {},
   "source": [
    "## Summary dicts \n",
    "\n",
    "These dictionaries will be mutated and used at the end of the analysis"
   ]
  },
  {
   "cell_type": "code",
   "execution_count": 9,
   "metadata": {},
   "outputs": [
    {
     "data": {
      "text/plain": [
       "{'Variant Category': ['Normalized', 'Unable to Normalize', 'Not Supported'],\n",
       " 'Fraction of all CIViC Variant Items': [],\n",
       " 'Percentage of all CIViC Variant Items': [],\n",
       " 'Fraction of Accepted Variant Items': [],\n",
       " 'Percentage of Accepted Variant Items': [],\n",
       " 'Fraction of Not Accepted Variant Items': [],\n",
       " 'Percentage of Not Accepted Variant Items': []}"
      ]
     },
     "execution_count": 9,
     "metadata": {},
     "output_type": "execute_result"
    }
   ],
   "source": [
    "variant_analysis_summary = {\n",
    "    \"Variant Category\": VARIANT_NORM_TYPE_VALUES,\n",
    "    \"Fraction of all CIViC Variant Items\": [],\n",
    "    \"Percentage of all CIViC Variant Items\": [],\n",
    "    \"Fraction of Accepted Variant Items\": [],\n",
    "    \"Percentage of Accepted Variant Items\": [],\n",
    "    \"Fraction of Not Accepted Variant Items\": [],\n",
    "    \"Percentage of Not Accepted Variant Items\": []\n",
    "}\n",
    "variant_analysis_summary"
   ]
  },
  {
   "cell_type": "code",
   "execution_count": 10,
   "metadata": {},
   "outputs": [
    {
     "data": {
      "text/plain": [
       "{'Variant Category': ['Normalized', 'Unable to Normalize', 'Not Supported'],\n",
       " 'Fraction of all CIViC Evidence Items': [],\n",
       " 'Percentage of all CIViC Evidence Items': [],\n",
       " 'Fraction of Accepted Evidence Items': [],\n",
       " 'Percentage of Accepted Evidence Items': [],\n",
       " 'Fraction of Submitted Evidence Items': [],\n",
       " 'Percentage of Submitted Evidence Items': []}"
      ]
     },
     "execution_count": 10,
     "metadata": {},
     "output_type": "execute_result"
    }
   ],
   "source": [
    "evidence_analysis_summary = {\n",
    "    \"Variant Category\": VARIANT_NORM_TYPE_VALUES,\n",
    "    \"Fraction of all CIViC Evidence Items\": [],\n",
    "    \"Percentage of all CIViC Evidence Items\": [],\n",
    "    \"Fraction of Accepted Evidence Items\": [],\n",
    "    \"Percentage of Accepted Evidence Items\": [],\n",
    "    \"Fraction of Submitted Evidence Items\": [],\n",
    "    \"Percentage of Submitted Evidence Items\": []\n",
    "}\n",
    "evidence_analysis_summary"
   ]
  },
  {
   "cell_type": "code",
   "execution_count": 11,
   "metadata": {},
   "outputs": [],
   "source": [
    "def variant_analysis(df: pd.DataFrame, variant_norm_type: VariantNormType) -> pd.DataFrame:\n",
    "    \"\"\"Do variant analysis (counts, percentages)\n",
    "\n",
    "    :param df: Dataframe of variants\n",
    "    :param variant_norm_type: The kind of variants that are in `df`\n",
    "    :return: Transformed dataframe with variant ID duplicates dropped\n",
    "    \"\"\"\n",
    "    # Drop duplicate rows\n",
    "    df = df.drop_duplicates(subset=[\"variant_id\"])\n",
    "    variant_ids = list(df[\"variant_id\"])\n",
    "\n",
    "    # Count\n",
    "    num_variants = len(variant_ids)\n",
    "    fraction_variants = f\"{num_variants} / {total_number_variants}\"\n",
    "    print(f\"\\nNumber of {variant_norm_type.value} Variants in CIViC: {fraction_variants}\")\n",
    "\n",
    "    # Percentage\n",
    "    percentage_variants = f\"{num_variants / total_number_variants * 100:.2f}%\"\n",
    "    print(f\"Percentage of {variant_norm_type.value} Variants in CIViC: {percentage_variants}\")\n",
    "\n",
    "    # Get accepted counts\n",
    "    num_accepted_variants = df.variant_accepted.sum()\n",
    "    fraction_accepted_variants = f\"{num_accepted_variants} / {num_variants}\"\n",
    "    print(f\"\\nNumber of accepted {variant_norm_type.value} Variants: {fraction_accepted_variants}\")\n",
    "\n",
    "    # Get accepted percentage\n",
    "    percentage_accepted_variants = f\"{num_accepted_variants / num_variants * 100:.2f}%\"\n",
    "    print(f\"Percentage of accepted {variant_norm_type.value} Variants: {percentage_accepted_variants}\")\n",
    "\n",
    "    # Get not accepted counts\n",
    "    num_not_accepted_variants = len(df) - num_accepted_variants\n",
    "    fraction_not_accepted_variants = f\"{num_not_accepted_variants} / {num_variants}\"\n",
    "    print(f\"\\nNumber of not accepted {variant_norm_type.value} Variants: {fraction_not_accepted_variants}\")\n",
    "\n",
    "    # Get not accepted percentage\n",
    "    percentage_not_accepted_variants = f\"{num_not_accepted_variants / num_variants * 100:.2f}%\"\n",
    "    print(f\"Percentage of not accepted {variant_norm_type.value} Variants: {percentage_not_accepted_variants}\")\n",
    "\n",
    "    variant_analysis_summary[\"Fraction of all CIViC Variant Items\"].append(fraction_variants)\n",
    "    variant_analysis_summary[\"Percentage of all CIViC Variant Items\"].append(percentage_variants)\n",
    "    variant_analysis_summary[\"Fraction of Accepted Variant Items\"].append(fraction_accepted_variants)\n",
    "    variant_analysis_summary[\"Percentage of Accepted Variant Items\"].append(percentage_accepted_variants)\n",
    "    variant_analysis_summary[\"Fraction of Not Accepted Variant Items\"].append(fraction_not_accepted_variants)\n",
    "    variant_analysis_summary[\"Percentage of Not Accepted Variant Items\"].append(percentage_not_accepted_variants)\n",
    "\n",
    "    return df"
   ]
  },
  {
   "cell_type": "code",
   "execution_count": 12,
   "metadata": {},
   "outputs": [],
   "source": [
    "def transform_df_evidence_ids(df: pd.DataFrame) -> pd.DataFrame:\n",
    "    \"\"\"Transform dataframe to include evidence ID information\n",
    "\n",
    "    :param df: Dataframe of variants\n",
    "    :return: Transformed dataframe with evidence ID information\n",
    "    \"\"\"\n",
    "    tmp_df = df.copy(deep=True)\n",
    "\n",
    "    _variants_evidence_ids = []\n",
    "    variant_ids = list(tmp_df[\"variant_id\"])\n",
    "\n",
    "    for v_id in variant_ids:\n",
    "        _variant_evidence_ids = []\n",
    "\n",
    "        for variant in civic_variant_ids:\n",
    "            if int(v_id) == variant.id:\n",
    "                for mp in variant.molecular_profiles:\n",
    "                    for e in mp.evidence_items:\n",
    "                        if e.id not in _variant_evidence_ids:\n",
    "                            _variant_evidence_ids.append(e.id)\n",
    "\n",
    "        _variants_evidence_ids.append(_variant_evidence_ids or \"\")\n",
    "\n",
    "    tmp_df[\"evidence_ids\"] = _variants_evidence_ids\n",
    "\n",
    "    # Explode and rename evidence ids field\n",
    "    tmp_df = tmp_df.explode(column=\"evidence_ids\")\n",
    "    tmp_df = tmp_df.rename(columns={\"evidence_ids\": \"evidence_id\"})\n",
    "\n",
    "    return tmp_df"
   ]
  },
  {
   "cell_type": "code",
   "execution_count": 13,
   "metadata": {},
   "outputs": [],
   "source": [
    "def transform_df_evidence(df: pd.DataFrame) -> pd.DataFrame:\n",
    "    \"\"\"Transform dataframe to include evidence status, rating, and level\n",
    "\n",
    "    :param df: Dataframe of variants\n",
    "    :return: Transformed dataframe with evidence status, rating, and level information.\n",
    "        Rejected evidence items will be dropped.\n",
    "    \"\"\"\n",
    "    variants_evidence_ids = list(df[\"evidence_id\"])\n",
    "\n",
    "    # Add evidence status, rating, and level information\n",
    "    _variants_evidence_statuses = []\n",
    "    _variants_evidence_ratings = []\n",
    "    _variants_evidence_levels = []\n",
    "\n",
    "    for eid in variants_evidence_ids:\n",
    "        _variant_evidence_statuses = []\n",
    "        _variant_evidence_ratings = []\n",
    "        _variant_evidence_levels = []\n",
    "\n",
    "        for evidence in civic_evidence_ids:\n",
    "            if int(eid) == evidence.id:\n",
    "                if evidence.status not in _variant_evidence_statuses:\n",
    "                    _variant_evidence_statuses.append(evidence.status)\n",
    "\n",
    "                if evidence.rating not in _variant_evidence_ratings:\n",
    "                    _variant_evidence_ratings.append(evidence.rating)\n",
    "\n",
    "                if evidence.evidence_level not in _variant_evidence_levels:\n",
    "                    _variant_evidence_levels.append(evidence.evidence_level)\n",
    "\n",
    "        _variants_evidence_statuses.append(_variant_evidence_statuses or \"\")\n",
    "        _variants_evidence_ratings.append(_variant_evidence_ratings or \"\")\n",
    "        _variants_evidence_levels.append(_variant_evidence_levels or \"\")\n",
    "\n",
    "    df[\"evidence_status\"] = _variants_evidence_statuses\n",
    "    df[\"evidence_status\"] = df[\"evidence_status\"].str.join(\", \")\n",
    "    df[\"evidence_rating\"] = _variants_evidence_ratings\n",
    "    df[\"evidence_level\"] = _variants_evidence_levels\n",
    "\n",
    "    # Drop rejected evidence items\n",
    "    df = df.drop(df[df.evidence_status == \"rejected\"].index)\n",
    "\n",
    "    return df\n"
   ]
  },
  {
   "cell_type": "code",
   "execution_count": 14,
   "metadata": {},
   "outputs": [],
   "source": [
    "def evidence_analysis(df: pd.DataFrame, variant_norm_type: VariantNormType) -> pd.DataFrame:\n",
    "    \"\"\"Do evidence analysis (counts, percentages)\n",
    "\n",
    "    :param df: Dataframe of variants\n",
    "    :param variant_norm_type: The kind of variants that are in `df`\n",
    "    :return: Transformed dataframe with evidence ID duplicates dropped\n",
    "    \"\"\"\n",
    "    # Count\n",
    "    num_variant_unique_evidence_items = len(set(df.evidence_id))\n",
    "    fraction_evidence_items = f\"{num_variant_unique_evidence_items} / {total_ac_sub_evidence}\"\n",
    "    print(f\"Number of {variant_norm_type.value} Variant Evidence items in CIViC: {fraction_evidence_items}\")\n",
    "\n",
    "    # Percentage\n",
    "    percentage_evidence_items = f\"{num_variant_unique_evidence_items / total_ac_sub_evidence * 100:.2f}%\"\n",
    "    print(f\"Percentage of {variant_norm_type.value} Variant Evidence items in CIViC: {percentage_evidence_items}\")\n",
    "\n",
    "    # Add evidence accepted column\n",
    "    df[\"evidence_accepted\"] = df.evidence_status.map({\"accepted\": True, \"submitted\": False})\n",
    "\n",
    "    # Drop evidence id duplicates\n",
    "    df = df.drop_duplicates(subset=[\"evidence_id\"])\n",
    "\n",
    "    # Get accepted counts\n",
    "    num_accepted_evidences_variants = df.evidence_accepted.sum()\n",
    "    fraction_accepted_evidences_variants = f\"{num_accepted_evidences_variants} / {num_variant_unique_evidence_items}\"\n",
    "    print(f\"\\nNumber of accepted {variant_norm_type.value} Variant Evidence items: {fraction_accepted_evidences_variants}\")\n",
    "\n",
    "    # Get accepted percentage\n",
    "    percentage_accepted_evidences_variants = f\"{num_accepted_evidences_variants / num_variant_unique_evidence_items * 100:.2f}%\"\n",
    "    print(f\"Percentage of accepted {variant_norm_type.value} Variant Evidence items: {percentage_accepted_evidences_variants}\")\n",
    "\n",
    "    # Get submitted counts\n",
    "    number_submitted_evidences_variants = len(df) - num_accepted_evidences_variants\n",
    "    fraction_submitted_evidences_variants = f\"{number_submitted_evidences_variants} / {num_variant_unique_evidence_items}\"\n",
    "    print(f\"\\nNumber of submitted {variant_norm_type.value} Variant Evidence items: {fraction_submitted_evidences_variants}\")\n",
    "\n",
    "    # Get submitted percentage\n",
    "    percentage_submitted_evidences_variants = f\"{number_submitted_evidences_variants / num_variant_unique_evidence_items * 100:.2f}%\"\n",
    "    print(f\"Percentage of not submitted {variant_norm_type.value} Variant Evidence items: {percentage_submitted_evidences_variants}\")\n",
    "\n",
    "    evidence_analysis_summary[\"Fraction of all CIViC Evidence Items\"].append(fraction_evidence_items)\n",
    "    evidence_analysis_summary[\"Percentage of all CIViC Evidence Items\"].append(percentage_evidence_items)\n",
    "    evidence_analysis_summary[\"Fraction of Accepted Evidence Items\"].append(fraction_accepted_evidences_variants)\n",
    "    evidence_analysis_summary[\"Percentage of Accepted Evidence Items\"].append(percentage_accepted_evidences_variants)\n",
    "    evidence_analysis_summary[\"Fraction of Submitted Evidence Items\"].append(fraction_submitted_evidences_variants)\n",
    "    evidence_analysis_summary[\"Percentage of Submitted Evidence Items\"].append(percentage_submitted_evidences_variants)\n",
    "\n",
    "    return df"
   ]
  },
  {
   "cell_type": "code",
   "execution_count": 15,
   "metadata": {},
   "outputs": [],
   "source": [
    "def transform_df_mp_id(df: pd.DataFrame) -> pd.DataFrame:\n",
    "    \"\"\"Transform dataframe to include molecular profile ID information\n",
    "\n",
    "    :param df: Dataframe of variants\n",
    "    :return: Transformed dataframe with molecular profile ID information\n",
    "    \"\"\"\n",
    "    tmp_df = df.copy(deep=True)\n",
    "\n",
    "    variants_molprof_ids = []\n",
    "    variant_ids = list(tmp_df[\"variant_id\"])\n",
    "\n",
    "    for v_id in variant_ids:\n",
    "        variant_molprof_ids = []\n",
    "\n",
    "        for variant in civic_variant_ids:\n",
    "            if int(v_id) == variant.id:\n",
    "                for mp in variant.molecular_profiles:\n",
    "                    if mp.id not in variant_molprof_ids:\n",
    "                        variant_molprof_ids.append(mp.id)\n",
    "\n",
    "        variants_molprof_ids.append(variant_molprof_ids or \"\")\n",
    "\n",
    "    tmp_df[\"molecular_profile_id\"] = variants_molprof_ids\n",
    "    return tmp_df"
   ]
  },
  {
   "cell_type": "code",
   "execution_count": 16,
   "metadata": {},
   "outputs": [],
   "source": [
    "def transform_df_mp_score(df: pd.DataFrame) -> pd.DataFrame:\n",
    "    \"\"\"Transform dataframe to include molecular profile score information\n",
    "\n",
    "    :param df: Dataframe of variants\n",
    "    :return: Transformed dataframe with molecular profile score information\n",
    "    \"\"\"\n",
    "    variants_molprof_scores = []\n",
    "    normalized_variant_molprof_ids = list(df[\"molecular_profile_id\"])\n",
    "\n",
    "    for mp_ids in normalized_variant_molprof_ids:\n",
    "        variant_molprof_scores = []\n",
    "        for mp_id in mp_ids:\n",
    "            for molprof in civic_molprof_ids:\n",
    "                if int(mp_id) == molprof.id:\n",
    "                    if molprof.molecular_profile_score not in variant_molprof_scores:\n",
    "                        variant_molprof_scores.append(molprof.molecular_profile_score)\n",
    "\n",
    "        variants_molprof_scores.append(variant_molprof_scores or \"\")\n",
    "\n",
    "    df[\"molecular_profile_score\"] = variants_molprof_scores\n",
    "    return df"
   ]
  },
  {
   "cell_type": "code",
   "execution_count": 17,
   "metadata": {},
   "outputs": [],
   "source": [
    "def transform_df_mp_score_sum(df: pd.DataFrame) -> pd.DataFrame:\n",
    "    \"\"\"Transform dataframe to include molecular profile score sum information\n",
    "\n",
    "    :param df: Dataframe of variants\n",
    "    :return: Transformed dataframe with molecular profile score sum information\n",
    "    \"\"\"\n",
    "    df[\"molecular_profile_score_sum\"] = df[\"molecular_profile_score\"].apply(lambda x: sum(x))\n",
    "    return df"
   ]
  },
  {
   "cell_type": "markdown",
   "metadata": {},
   "source": [
    "## List of Normalized Variants ID's"
   ]
  },
  {
   "cell_type": "code",
   "execution_count": 18,
   "metadata": {},
   "outputs": [
    {
     "data": {
      "text/html": [
       "<div>\n",
       "<style scoped>\n",
       "    .dataframe tbody tr th:only-of-type {\n",
       "        vertical-align: middle;\n",
       "    }\n",
       "\n",
       "    .dataframe tbody tr th {\n",
       "        vertical-align: top;\n",
       "    }\n",
       "\n",
       "    .dataframe thead th {\n",
       "        text-align: right;\n",
       "    }\n",
       "</style>\n",
       "<table border=\"1\" class=\"dataframe\">\n",
       "  <thead>\n",
       "    <tr style=\"text-align: right;\">\n",
       "      <th></th>\n",
       "      <th>variant_id</th>\n",
       "      <th>query</th>\n",
       "      <th>query_type</th>\n",
       "      <th>variant_accepted</th>\n",
       "      <th>civic_variant_types</th>\n",
       "      <th>vrs_id</th>\n",
       "      <th>succeeded_endpoint</th>\n",
       "    </tr>\n",
       "  </thead>\n",
       "  <tbody>\n",
       "    <tr>\n",
       "      <th>0</th>\n",
       "      <td>2489</td>\n",
       "      <td>NC_000003.11:g.10191648_10191649insC</td>\n",
       "      <td>genomic</td>\n",
       "      <td>True</td>\n",
       "      <td>Stop Lost</td>\n",
       "      <td>ga4gh:VA.A34ZoIhq4xBuQbcE3bkj29n6diS6RzLB</td>\n",
       "      <td>normalize</td>\n",
       "    </tr>\n",
       "    <tr>\n",
       "      <th>1</th>\n",
       "      <td>1988</td>\n",
       "      <td>NC_000003.11:g.10191649A&gt;T</td>\n",
       "      <td>genomic</td>\n",
       "      <td>True</td>\n",
       "      <td>Stop Lost</td>\n",
       "      <td>ga4gh:VA.JcEpDvhUtgDWU4A-bxqLUuczBNb8QqRf</td>\n",
       "      <td>normalize</td>\n",
       "    </tr>\n",
       "    <tr>\n",
       "      <th>2</th>\n",
       "      <td>2488</td>\n",
       "      <td>3-10191647-T-G</td>\n",
       "      <td>genomic</td>\n",
       "      <td>True</td>\n",
       "      <td>Stop Lost</td>\n",
       "      <td>ga4gh:VA.7nGd8dgHbqtxMHk_rLxrB6_IMAzJ8XnH</td>\n",
       "      <td>normalize</td>\n",
       "    </tr>\n",
       "    <tr>\n",
       "      <th>3</th>\n",
       "      <td>1986</td>\n",
       "      <td>NC_000003.11:g.10191648G&gt;T</td>\n",
       "      <td>genomic</td>\n",
       "      <td>True</td>\n",
       "      <td>Stop Lost</td>\n",
       "      <td>ga4gh:VA.AmLtooLEvgdnEHD5YVWk6u1e2XBe7FiP</td>\n",
       "      <td>normalize</td>\n",
       "    </tr>\n",
       "    <tr>\n",
       "      <th>4</th>\n",
       "      <td>1987</td>\n",
       "      <td>NC_000003.11:g.10191649A&gt;G</td>\n",
       "      <td>genomic</td>\n",
       "      <td>True</td>\n",
       "      <td>Stop Lost</td>\n",
       "      <td>ga4gh:VA.KIz00usFWEmJHNyqmVL61obfgfRPgOIa</td>\n",
       "      <td>normalize</td>\n",
       "    </tr>\n",
       "  </tbody>\n",
       "</table>\n",
       "</div>"
      ],
      "text/plain": [
       "   variant_id                                 query query_type  \\\n",
       "0        2489  NC_000003.11:g.10191648_10191649insC    genomic   \n",
       "1        1988            NC_000003.11:g.10191649A>T    genomic   \n",
       "2        2488                        3-10191647-T-G    genomic   \n",
       "3        1986            NC_000003.11:g.10191648G>T    genomic   \n",
       "4        1987            NC_000003.11:g.10191649A>G    genomic   \n",
       "\n",
       "   variant_accepted civic_variant_types  \\\n",
       "0              True           Stop Lost   \n",
       "1              True           Stop Lost   \n",
       "2              True           Stop Lost   \n",
       "3              True           Stop Lost   \n",
       "4              True           Stop Lost   \n",
       "\n",
       "                                      vrs_id succeeded_endpoint  \n",
       "0  ga4gh:VA.A34ZoIhq4xBuQbcE3bkj29n6diS6RzLB          normalize  \n",
       "1  ga4gh:VA.JcEpDvhUtgDWU4A-bxqLUuczBNb8QqRf          normalize  \n",
       "2  ga4gh:VA.7nGd8dgHbqtxMHk_rLxrB6_IMAzJ8XnH          normalize  \n",
       "3  ga4gh:VA.AmLtooLEvgdnEHD5YVWk6u1e2XBe7FiP          normalize  \n",
       "4  ga4gh:VA.KIz00usFWEmJHNyqmVL61obfgfRPgOIa          normalize  "
      ]
     },
     "execution_count": 18,
     "metadata": {},
     "output_type": "execute_result"
    }
   ],
   "source": [
    "normalized_queries_df = pd.read_csv(\"../variation_analysis/able_to_normalize_queries.csv\", sep=\"\\t\")\n",
    "normalized_queries_df.head()"
   ]
  },
  {
   "cell_type": "markdown",
   "metadata": {},
   "source": [
    "## Variant analysis"
   ]
  },
  {
   "cell_type": "code",
   "execution_count": 19,
   "metadata": {},
   "outputs": [
    {
     "name": "stdout",
     "output_type": "stream",
     "text": [
      "\n",
      "Number of Normalized Variants in CIViC: 1876 / 3582\n",
      "Percentage of Normalized Variants in CIViC: 52.37%\n",
      "\n",
      "Number of accepted Normalized Variants: 869 / 1876\n",
      "Percentage of accepted Normalized Variants: 46.32%\n",
      "\n",
      "Number of not accepted Normalized Variants: 1007 / 1876\n",
      "Percentage of not accepted Normalized Variants: 53.68%\n"
     ]
    },
    {
     "data": {
      "text/html": [
       "<div>\n",
       "<style scoped>\n",
       "    .dataframe tbody tr th:only-of-type {\n",
       "        vertical-align: middle;\n",
       "    }\n",
       "\n",
       "    .dataframe tbody tr th {\n",
       "        vertical-align: top;\n",
       "    }\n",
       "\n",
       "    .dataframe thead th {\n",
       "        text-align: right;\n",
       "    }\n",
       "</style>\n",
       "<table border=\"1\" class=\"dataframe\">\n",
       "  <thead>\n",
       "    <tr style=\"text-align: right;\">\n",
       "      <th></th>\n",
       "      <th>variant_id</th>\n",
       "      <th>query</th>\n",
       "      <th>query_type</th>\n",
       "      <th>variant_accepted</th>\n",
       "      <th>civic_variant_types</th>\n",
       "      <th>vrs_id</th>\n",
       "      <th>succeeded_endpoint</th>\n",
       "    </tr>\n",
       "  </thead>\n",
       "  <tbody>\n",
       "    <tr>\n",
       "      <th>0</th>\n",
       "      <td>2489</td>\n",
       "      <td>NC_000003.11:g.10191648_10191649insC</td>\n",
       "      <td>genomic</td>\n",
       "      <td>True</td>\n",
       "      <td>Stop Lost</td>\n",
       "      <td>ga4gh:VA.A34ZoIhq4xBuQbcE3bkj29n6diS6RzLB</td>\n",
       "      <td>normalize</td>\n",
       "    </tr>\n",
       "    <tr>\n",
       "      <th>1</th>\n",
       "      <td>1988</td>\n",
       "      <td>NC_000003.11:g.10191649A&gt;T</td>\n",
       "      <td>genomic</td>\n",
       "      <td>True</td>\n",
       "      <td>Stop Lost</td>\n",
       "      <td>ga4gh:VA.JcEpDvhUtgDWU4A-bxqLUuczBNb8QqRf</td>\n",
       "      <td>normalize</td>\n",
       "    </tr>\n",
       "    <tr>\n",
       "      <th>2</th>\n",
       "      <td>2488</td>\n",
       "      <td>3-10191647-T-G</td>\n",
       "      <td>genomic</td>\n",
       "      <td>True</td>\n",
       "      <td>Stop Lost</td>\n",
       "      <td>ga4gh:VA.7nGd8dgHbqtxMHk_rLxrB6_IMAzJ8XnH</td>\n",
       "      <td>normalize</td>\n",
       "    </tr>\n",
       "    <tr>\n",
       "      <th>3</th>\n",
       "      <td>1986</td>\n",
       "      <td>NC_000003.11:g.10191648G&gt;T</td>\n",
       "      <td>genomic</td>\n",
       "      <td>True</td>\n",
       "      <td>Stop Lost</td>\n",
       "      <td>ga4gh:VA.AmLtooLEvgdnEHD5YVWk6u1e2XBe7FiP</td>\n",
       "      <td>normalize</td>\n",
       "    </tr>\n",
       "    <tr>\n",
       "      <th>4</th>\n",
       "      <td>1987</td>\n",
       "      <td>NC_000003.11:g.10191649A&gt;G</td>\n",
       "      <td>genomic</td>\n",
       "      <td>True</td>\n",
       "      <td>Stop Lost</td>\n",
       "      <td>ga4gh:VA.KIz00usFWEmJHNyqmVL61obfgfRPgOIa</td>\n",
       "      <td>normalize</td>\n",
       "    </tr>\n",
       "  </tbody>\n",
       "</table>\n",
       "</div>"
      ],
      "text/plain": [
       "   variant_id                                 query query_type  \\\n",
       "0        2489  NC_000003.11:g.10191648_10191649insC    genomic   \n",
       "1        1988            NC_000003.11:g.10191649A>T    genomic   \n",
       "2        2488                        3-10191647-T-G    genomic   \n",
       "3        1986            NC_000003.11:g.10191648G>T    genomic   \n",
       "4        1987            NC_000003.11:g.10191649A>G    genomic   \n",
       "\n",
       "   variant_accepted civic_variant_types  \\\n",
       "0              True           Stop Lost   \n",
       "1              True           Stop Lost   \n",
       "2              True           Stop Lost   \n",
       "3              True           Stop Lost   \n",
       "4              True           Stop Lost   \n",
       "\n",
       "                                      vrs_id succeeded_endpoint  \n",
       "0  ga4gh:VA.A34ZoIhq4xBuQbcE3bkj29n6diS6RzLB          normalize  \n",
       "1  ga4gh:VA.JcEpDvhUtgDWU4A-bxqLUuczBNb8QqRf          normalize  \n",
       "2  ga4gh:VA.7nGd8dgHbqtxMHk_rLxrB6_IMAzJ8XnH          normalize  \n",
       "3  ga4gh:VA.AmLtooLEvgdnEHD5YVWk6u1e2XBe7FiP          normalize  \n",
       "4  ga4gh:VA.KIz00usFWEmJHNyqmVL61obfgfRPgOIa          normalize  "
      ]
     },
     "execution_count": 19,
     "metadata": {},
     "output_type": "execute_result"
    }
   ],
   "source": [
    "normalized_queries_df = variant_analysis(normalized_queries_df, VariantNormType.NORMALIZED)\n",
    "normalized_queries_df.head()"
   ]
  },
  {
   "cell_type": "code",
   "execution_count": 20,
   "metadata": {},
   "outputs": [
    {
     "data": {
      "text/plain": [
       "{'Variant Category': ['Normalized', 'Unable to Normalize', 'Not Supported'],\n",
       " 'Fraction of all CIViC Variant Items': ['1876 / 3582'],\n",
       " 'Percentage of all CIViC Variant Items': ['52.37%'],\n",
       " 'Fraction of Accepted Variant Items': ['869 / 1876'],\n",
       " 'Percentage of Accepted Variant Items': ['46.32%'],\n",
       " 'Fraction of Not Accepted Variant Items': ['1007 / 1876'],\n",
       " 'Percentage of Not Accepted Variant Items': ['53.68%']}"
      ]
     },
     "execution_count": 20,
     "metadata": {},
     "output_type": "execute_result"
    }
   ],
   "source": [
    "variant_analysis_summary"
   ]
  },
  {
   "attachments": {},
   "cell_type": "markdown",
   "metadata": {},
   "source": [
    "## Transform df for evidence analysis"
   ]
  },
  {
   "cell_type": "code",
   "execution_count": 21,
   "metadata": {},
   "outputs": [
    {
     "data": {
      "text/html": [
       "<div>\n",
       "<style scoped>\n",
       "    .dataframe tbody tr th:only-of-type {\n",
       "        vertical-align: middle;\n",
       "    }\n",
       "\n",
       "    .dataframe tbody tr th {\n",
       "        vertical-align: top;\n",
       "    }\n",
       "\n",
       "    .dataframe thead th {\n",
       "        text-align: right;\n",
       "    }\n",
       "</style>\n",
       "<table border=\"1\" class=\"dataframe\">\n",
       "  <thead>\n",
       "    <tr style=\"text-align: right;\">\n",
       "      <th></th>\n",
       "      <th>variant_id</th>\n",
       "      <th>query</th>\n",
       "      <th>query_type</th>\n",
       "      <th>variant_accepted</th>\n",
       "      <th>civic_variant_types</th>\n",
       "      <th>vrs_id</th>\n",
       "      <th>succeeded_endpoint</th>\n",
       "      <th>evidence_id</th>\n",
       "    </tr>\n",
       "  </thead>\n",
       "  <tbody>\n",
       "    <tr>\n",
       "      <th>0</th>\n",
       "      <td>2489</td>\n",
       "      <td>NC_000003.11:g.10191648_10191649insC</td>\n",
       "      <td>genomic</td>\n",
       "      <td>True</td>\n",
       "      <td>Stop Lost</td>\n",
       "      <td>ga4gh:VA.A34ZoIhq4xBuQbcE3bkj29n6diS6RzLB</td>\n",
       "      <td>normalize</td>\n",
       "      <td>9347</td>\n",
       "    </tr>\n",
       "    <tr>\n",
       "      <th>0</th>\n",
       "      <td>2489</td>\n",
       "      <td>NC_000003.11:g.10191648_10191649insC</td>\n",
       "      <td>genomic</td>\n",
       "      <td>True</td>\n",
       "      <td>Stop Lost</td>\n",
       "      <td>ga4gh:VA.A34ZoIhq4xBuQbcE3bkj29n6diS6RzLB</td>\n",
       "      <td>normalize</td>\n",
       "      <td>6724</td>\n",
       "    </tr>\n",
       "    <tr>\n",
       "      <th>1</th>\n",
       "      <td>1988</td>\n",
       "      <td>NC_000003.11:g.10191649A&gt;T</td>\n",
       "      <td>genomic</td>\n",
       "      <td>True</td>\n",
       "      <td>Stop Lost</td>\n",
       "      <td>ga4gh:VA.JcEpDvhUtgDWU4A-bxqLUuczBNb8QqRf</td>\n",
       "      <td>normalize</td>\n",
       "      <td>5336</td>\n",
       "    </tr>\n",
       "    <tr>\n",
       "      <th>2</th>\n",
       "      <td>2488</td>\n",
       "      <td>3-10191647-T-G</td>\n",
       "      <td>genomic</td>\n",
       "      <td>True</td>\n",
       "      <td>Stop Lost</td>\n",
       "      <td>ga4gh:VA.7nGd8dgHbqtxMHk_rLxrB6_IMAzJ8XnH</td>\n",
       "      <td>normalize</td>\n",
       "      <td>10779</td>\n",
       "    </tr>\n",
       "    <tr>\n",
       "      <th>2</th>\n",
       "      <td>2488</td>\n",
       "      <td>3-10191647-T-G</td>\n",
       "      <td>genomic</td>\n",
       "      <td>True</td>\n",
       "      <td>Stop Lost</td>\n",
       "      <td>ga4gh:VA.7nGd8dgHbqtxMHk_rLxrB6_IMAzJ8XnH</td>\n",
       "      <td>normalize</td>\n",
       "      <td>6723</td>\n",
       "    </tr>\n",
       "  </tbody>\n",
       "</table>\n",
       "</div>"
      ],
      "text/plain": [
       "   variant_id                                 query query_type  \\\n",
       "0        2489  NC_000003.11:g.10191648_10191649insC    genomic   \n",
       "0        2489  NC_000003.11:g.10191648_10191649insC    genomic   \n",
       "1        1988            NC_000003.11:g.10191649A>T    genomic   \n",
       "2        2488                        3-10191647-T-G    genomic   \n",
       "2        2488                        3-10191647-T-G    genomic   \n",
       "\n",
       "   variant_accepted civic_variant_types  \\\n",
       "0              True           Stop Lost   \n",
       "0              True           Stop Lost   \n",
       "1              True           Stop Lost   \n",
       "2              True           Stop Lost   \n",
       "2              True           Stop Lost   \n",
       "\n",
       "                                      vrs_id succeeded_endpoint evidence_id  \n",
       "0  ga4gh:VA.A34ZoIhq4xBuQbcE3bkj29n6diS6RzLB          normalize        9347  \n",
       "0  ga4gh:VA.A34ZoIhq4xBuQbcE3bkj29n6diS6RzLB          normalize        6724  \n",
       "1  ga4gh:VA.JcEpDvhUtgDWU4A-bxqLUuczBNb8QqRf          normalize        5336  \n",
       "2  ga4gh:VA.7nGd8dgHbqtxMHk_rLxrB6_IMAzJ8XnH          normalize       10779  \n",
       "2  ga4gh:VA.7nGd8dgHbqtxMHk_rLxrB6_IMAzJ8XnH          normalize        6723  "
      ]
     },
     "execution_count": 21,
     "metadata": {},
     "output_type": "execute_result"
    }
   ],
   "source": [
    "normalized_queries_add_evidence_df = transform_df_evidence_ids(normalized_queries_df)\n",
    "normalized_queries_add_evidence_df.head()"
   ]
  },
  {
   "cell_type": "code",
   "execution_count": 22,
   "metadata": {},
   "outputs": [
    {
     "data": {
      "text/html": [
       "<div>\n",
       "<style scoped>\n",
       "    .dataframe tbody tr th:only-of-type {\n",
       "        vertical-align: middle;\n",
       "    }\n",
       "\n",
       "    .dataframe tbody tr th {\n",
       "        vertical-align: top;\n",
       "    }\n",
       "\n",
       "    .dataframe thead th {\n",
       "        text-align: right;\n",
       "    }\n",
       "</style>\n",
       "<table border=\"1\" class=\"dataframe\">\n",
       "  <thead>\n",
       "    <tr style=\"text-align: right;\">\n",
       "      <th></th>\n",
       "      <th>variant_id</th>\n",
       "      <th>query</th>\n",
       "      <th>query_type</th>\n",
       "      <th>variant_accepted</th>\n",
       "      <th>civic_variant_types</th>\n",
       "      <th>vrs_id</th>\n",
       "      <th>succeeded_endpoint</th>\n",
       "      <th>evidence_id</th>\n",
       "      <th>evidence_status</th>\n",
       "      <th>evidence_rating</th>\n",
       "      <th>evidence_level</th>\n",
       "    </tr>\n",
       "  </thead>\n",
       "  <tbody>\n",
       "    <tr>\n",
       "      <th>0</th>\n",
       "      <td>2489</td>\n",
       "      <td>NC_000003.11:g.10191648_10191649insC</td>\n",
       "      <td>genomic</td>\n",
       "      <td>True</td>\n",
       "      <td>Stop Lost</td>\n",
       "      <td>ga4gh:VA.A34ZoIhq4xBuQbcE3bkj29n6diS6RzLB</td>\n",
       "      <td>normalize</td>\n",
       "      <td>9347</td>\n",
       "      <td>submitted</td>\n",
       "      <td>[3]</td>\n",
       "      <td>[C]</td>\n",
       "    </tr>\n",
       "    <tr>\n",
       "      <th>0</th>\n",
       "      <td>2489</td>\n",
       "      <td>NC_000003.11:g.10191648_10191649insC</td>\n",
       "      <td>genomic</td>\n",
       "      <td>True</td>\n",
       "      <td>Stop Lost</td>\n",
       "      <td>ga4gh:VA.A34ZoIhq4xBuQbcE3bkj29n6diS6RzLB</td>\n",
       "      <td>normalize</td>\n",
       "      <td>6724</td>\n",
       "      <td>accepted</td>\n",
       "      <td>[2]</td>\n",
       "      <td>[C]</td>\n",
       "    </tr>\n",
       "    <tr>\n",
       "      <th>1</th>\n",
       "      <td>1988</td>\n",
       "      <td>NC_000003.11:g.10191649A&gt;T</td>\n",
       "      <td>genomic</td>\n",
       "      <td>True</td>\n",
       "      <td>Stop Lost</td>\n",
       "      <td>ga4gh:VA.JcEpDvhUtgDWU4A-bxqLUuczBNb8QqRf</td>\n",
       "      <td>normalize</td>\n",
       "      <td>5336</td>\n",
       "      <td>accepted</td>\n",
       "      <td>[2]</td>\n",
       "      <td>[C]</td>\n",
       "    </tr>\n",
       "    <tr>\n",
       "      <th>2</th>\n",
       "      <td>2488</td>\n",
       "      <td>3-10191647-T-G</td>\n",
       "      <td>genomic</td>\n",
       "      <td>True</td>\n",
       "      <td>Stop Lost</td>\n",
       "      <td>ga4gh:VA.7nGd8dgHbqtxMHk_rLxrB6_IMAzJ8XnH</td>\n",
       "      <td>normalize</td>\n",
       "      <td>10779</td>\n",
       "      <td>submitted</td>\n",
       "      <td>[3]</td>\n",
       "      <td>[C]</td>\n",
       "    </tr>\n",
       "    <tr>\n",
       "      <th>2</th>\n",
       "      <td>2488</td>\n",
       "      <td>3-10191647-T-G</td>\n",
       "      <td>genomic</td>\n",
       "      <td>True</td>\n",
       "      <td>Stop Lost</td>\n",
       "      <td>ga4gh:VA.7nGd8dgHbqtxMHk_rLxrB6_IMAzJ8XnH</td>\n",
       "      <td>normalize</td>\n",
       "      <td>6723</td>\n",
       "      <td>accepted</td>\n",
       "      <td>[2]</td>\n",
       "      <td>[C]</td>\n",
       "    </tr>\n",
       "  </tbody>\n",
       "</table>\n",
       "</div>"
      ],
      "text/plain": [
       "   variant_id                                 query query_type  \\\n",
       "0        2489  NC_000003.11:g.10191648_10191649insC    genomic   \n",
       "0        2489  NC_000003.11:g.10191648_10191649insC    genomic   \n",
       "1        1988            NC_000003.11:g.10191649A>T    genomic   \n",
       "2        2488                        3-10191647-T-G    genomic   \n",
       "2        2488                        3-10191647-T-G    genomic   \n",
       "\n",
       "   variant_accepted civic_variant_types  \\\n",
       "0              True           Stop Lost   \n",
       "0              True           Stop Lost   \n",
       "1              True           Stop Lost   \n",
       "2              True           Stop Lost   \n",
       "2              True           Stop Lost   \n",
       "\n",
       "                                      vrs_id succeeded_endpoint evidence_id  \\\n",
       "0  ga4gh:VA.A34ZoIhq4xBuQbcE3bkj29n6diS6RzLB          normalize        9347   \n",
       "0  ga4gh:VA.A34ZoIhq4xBuQbcE3bkj29n6diS6RzLB          normalize        6724   \n",
       "1  ga4gh:VA.JcEpDvhUtgDWU4A-bxqLUuczBNb8QqRf          normalize        5336   \n",
       "2  ga4gh:VA.7nGd8dgHbqtxMHk_rLxrB6_IMAzJ8XnH          normalize       10779   \n",
       "2  ga4gh:VA.7nGd8dgHbqtxMHk_rLxrB6_IMAzJ8XnH          normalize        6723   \n",
       "\n",
       "  evidence_status evidence_rating evidence_level  \n",
       "0       submitted             [3]            [C]  \n",
       "0        accepted             [2]            [C]  \n",
       "1        accepted             [2]            [C]  \n",
       "2       submitted             [3]            [C]  \n",
       "2        accepted             [2]            [C]  "
      ]
     },
     "execution_count": 22,
     "metadata": {},
     "output_type": "execute_result"
    }
   ],
   "source": [
    "normalized_queries_add_evidence_df = transform_df_evidence(normalized_queries_add_evidence_df)\n",
    "normalized_queries_add_evidence_df.head()"
   ]
  },
  {
   "cell_type": "markdown",
   "metadata": {},
   "source": [
    "## Evidence analysis"
   ]
  },
  {
   "cell_type": "code",
   "execution_count": 23,
   "metadata": {},
   "outputs": [
    {
     "name": "stdout",
     "output_type": "stream",
     "text": [
      "Number of Normalized Variant Evidence items in CIViC: 6005 / 9920\n",
      "Percentage of Normalized Variant Evidence items in CIViC: 60.53%\n",
      "\n",
      "Number of accepted Normalized Variant Evidence items: 2080 / 6005\n",
      "Percentage of accepted Normalized Variant Evidence items: 34.64%\n",
      "\n",
      "Number of submitted Normalized Variant Evidence items: 3925 / 6005\n",
      "Percentage of not submitted Normalized Variant Evidence items: 65.36%\n"
     ]
    },
    {
     "data": {
      "text/html": [
       "<div>\n",
       "<style scoped>\n",
       "    .dataframe tbody tr th:only-of-type {\n",
       "        vertical-align: middle;\n",
       "    }\n",
       "\n",
       "    .dataframe tbody tr th {\n",
       "        vertical-align: top;\n",
       "    }\n",
       "\n",
       "    .dataframe thead th {\n",
       "        text-align: right;\n",
       "    }\n",
       "</style>\n",
       "<table border=\"1\" class=\"dataframe\">\n",
       "  <thead>\n",
       "    <tr style=\"text-align: right;\">\n",
       "      <th></th>\n",
       "      <th>variant_id</th>\n",
       "      <th>query</th>\n",
       "      <th>query_type</th>\n",
       "      <th>variant_accepted</th>\n",
       "      <th>civic_variant_types</th>\n",
       "      <th>vrs_id</th>\n",
       "      <th>succeeded_endpoint</th>\n",
       "      <th>evidence_id</th>\n",
       "      <th>evidence_status</th>\n",
       "      <th>evidence_rating</th>\n",
       "      <th>evidence_level</th>\n",
       "      <th>evidence_accepted</th>\n",
       "    </tr>\n",
       "  </thead>\n",
       "  <tbody>\n",
       "    <tr>\n",
       "      <th>0</th>\n",
       "      <td>2489</td>\n",
       "      <td>NC_000003.11:g.10191648_10191649insC</td>\n",
       "      <td>genomic</td>\n",
       "      <td>True</td>\n",
       "      <td>Stop Lost</td>\n",
       "      <td>ga4gh:VA.A34ZoIhq4xBuQbcE3bkj29n6diS6RzLB</td>\n",
       "      <td>normalize</td>\n",
       "      <td>9347</td>\n",
       "      <td>submitted</td>\n",
       "      <td>[3]</td>\n",
       "      <td>[C]</td>\n",
       "      <td>False</td>\n",
       "    </tr>\n",
       "    <tr>\n",
       "      <th>0</th>\n",
       "      <td>2489</td>\n",
       "      <td>NC_000003.11:g.10191648_10191649insC</td>\n",
       "      <td>genomic</td>\n",
       "      <td>True</td>\n",
       "      <td>Stop Lost</td>\n",
       "      <td>ga4gh:VA.A34ZoIhq4xBuQbcE3bkj29n6diS6RzLB</td>\n",
       "      <td>normalize</td>\n",
       "      <td>6724</td>\n",
       "      <td>accepted</td>\n",
       "      <td>[2]</td>\n",
       "      <td>[C]</td>\n",
       "      <td>True</td>\n",
       "    </tr>\n",
       "    <tr>\n",
       "      <th>1</th>\n",
       "      <td>1988</td>\n",
       "      <td>NC_000003.11:g.10191649A&gt;T</td>\n",
       "      <td>genomic</td>\n",
       "      <td>True</td>\n",
       "      <td>Stop Lost</td>\n",
       "      <td>ga4gh:VA.JcEpDvhUtgDWU4A-bxqLUuczBNb8QqRf</td>\n",
       "      <td>normalize</td>\n",
       "      <td>5336</td>\n",
       "      <td>accepted</td>\n",
       "      <td>[2]</td>\n",
       "      <td>[C]</td>\n",
       "      <td>True</td>\n",
       "    </tr>\n",
       "    <tr>\n",
       "      <th>2</th>\n",
       "      <td>2488</td>\n",
       "      <td>3-10191647-T-G</td>\n",
       "      <td>genomic</td>\n",
       "      <td>True</td>\n",
       "      <td>Stop Lost</td>\n",
       "      <td>ga4gh:VA.7nGd8dgHbqtxMHk_rLxrB6_IMAzJ8XnH</td>\n",
       "      <td>normalize</td>\n",
       "      <td>10779</td>\n",
       "      <td>submitted</td>\n",
       "      <td>[3]</td>\n",
       "      <td>[C]</td>\n",
       "      <td>False</td>\n",
       "    </tr>\n",
       "    <tr>\n",
       "      <th>2</th>\n",
       "      <td>2488</td>\n",
       "      <td>3-10191647-T-G</td>\n",
       "      <td>genomic</td>\n",
       "      <td>True</td>\n",
       "      <td>Stop Lost</td>\n",
       "      <td>ga4gh:VA.7nGd8dgHbqtxMHk_rLxrB6_IMAzJ8XnH</td>\n",
       "      <td>normalize</td>\n",
       "      <td>6723</td>\n",
       "      <td>accepted</td>\n",
       "      <td>[2]</td>\n",
       "      <td>[C]</td>\n",
       "      <td>True</td>\n",
       "    </tr>\n",
       "  </tbody>\n",
       "</table>\n",
       "</div>"
      ],
      "text/plain": [
       "   variant_id                                 query query_type  \\\n",
       "0        2489  NC_000003.11:g.10191648_10191649insC    genomic   \n",
       "0        2489  NC_000003.11:g.10191648_10191649insC    genomic   \n",
       "1        1988            NC_000003.11:g.10191649A>T    genomic   \n",
       "2        2488                        3-10191647-T-G    genomic   \n",
       "2        2488                        3-10191647-T-G    genomic   \n",
       "\n",
       "   variant_accepted civic_variant_types  \\\n",
       "0              True           Stop Lost   \n",
       "0              True           Stop Lost   \n",
       "1              True           Stop Lost   \n",
       "2              True           Stop Lost   \n",
       "2              True           Stop Lost   \n",
       "\n",
       "                                      vrs_id succeeded_endpoint evidence_id  \\\n",
       "0  ga4gh:VA.A34ZoIhq4xBuQbcE3bkj29n6diS6RzLB          normalize        9347   \n",
       "0  ga4gh:VA.A34ZoIhq4xBuQbcE3bkj29n6diS6RzLB          normalize        6724   \n",
       "1  ga4gh:VA.JcEpDvhUtgDWU4A-bxqLUuczBNb8QqRf          normalize        5336   \n",
       "2  ga4gh:VA.7nGd8dgHbqtxMHk_rLxrB6_IMAzJ8XnH          normalize       10779   \n",
       "2  ga4gh:VA.7nGd8dgHbqtxMHk_rLxrB6_IMAzJ8XnH          normalize        6723   \n",
       "\n",
       "  evidence_status evidence_rating evidence_level evidence_accepted  \n",
       "0       submitted             [3]            [C]             False  \n",
       "0        accepted             [2]            [C]              True  \n",
       "1        accepted             [2]            [C]              True  \n",
       "2       submitted             [3]            [C]             False  \n",
       "2        accepted             [2]            [C]              True  "
      ]
     },
     "execution_count": 23,
     "metadata": {},
     "output_type": "execute_result"
    }
   ],
   "source": [
    "normalized_queries_add_evidence_df = evidence_analysis(normalized_queries_add_evidence_df, VariantNormType.NORMALIZED)\n",
    "normalized_queries_add_evidence_df.head()"
   ]
  },
  {
   "cell_type": "markdown",
   "metadata": {},
   "source": [
    "## Impact\n",
    "molecular profile score"
   ]
  },
  {
   "cell_type": "markdown",
   "metadata": {},
   "source": [
    "### Import molecular profile id"
   ]
  },
  {
   "cell_type": "code",
   "execution_count": 24,
   "metadata": {},
   "outputs": [
    {
     "data": {
      "text/html": [
       "<div>\n",
       "<style scoped>\n",
       "    .dataframe tbody tr th:only-of-type {\n",
       "        vertical-align: middle;\n",
       "    }\n",
       "\n",
       "    .dataframe tbody tr th {\n",
       "        vertical-align: top;\n",
       "    }\n",
       "\n",
       "    .dataframe thead th {\n",
       "        text-align: right;\n",
       "    }\n",
       "</style>\n",
       "<table border=\"1\" class=\"dataframe\">\n",
       "  <thead>\n",
       "    <tr style=\"text-align: right;\">\n",
       "      <th></th>\n",
       "      <th>variant_id</th>\n",
       "      <th>query</th>\n",
       "      <th>query_type</th>\n",
       "      <th>variant_accepted</th>\n",
       "      <th>civic_variant_types</th>\n",
       "      <th>vrs_id</th>\n",
       "      <th>succeeded_endpoint</th>\n",
       "      <th>molecular_profile_id</th>\n",
       "    </tr>\n",
       "  </thead>\n",
       "  <tbody>\n",
       "    <tr>\n",
       "      <th>0</th>\n",
       "      <td>2489</td>\n",
       "      <td>NC_000003.11:g.10191648_10191649insC</td>\n",
       "      <td>genomic</td>\n",
       "      <td>True</td>\n",
       "      <td>Stop Lost</td>\n",
       "      <td>ga4gh:VA.A34ZoIhq4xBuQbcE3bkj29n6diS6RzLB</td>\n",
       "      <td>normalize</td>\n",
       "      <td>[2362]</td>\n",
       "    </tr>\n",
       "    <tr>\n",
       "      <th>1</th>\n",
       "      <td>1988</td>\n",
       "      <td>NC_000003.11:g.10191649A&gt;T</td>\n",
       "      <td>genomic</td>\n",
       "      <td>True</td>\n",
       "      <td>Stop Lost</td>\n",
       "      <td>ga4gh:VA.JcEpDvhUtgDWU4A-bxqLUuczBNb8QqRf</td>\n",
       "      <td>normalize</td>\n",
       "      <td>[1864]</td>\n",
       "    </tr>\n",
       "    <tr>\n",
       "      <th>2</th>\n",
       "      <td>2488</td>\n",
       "      <td>3-10191647-T-G</td>\n",
       "      <td>genomic</td>\n",
       "      <td>True</td>\n",
       "      <td>Stop Lost</td>\n",
       "      <td>ga4gh:VA.7nGd8dgHbqtxMHk_rLxrB6_IMAzJ8XnH</td>\n",
       "      <td>normalize</td>\n",
       "      <td>[2361]</td>\n",
       "    </tr>\n",
       "    <tr>\n",
       "      <th>3</th>\n",
       "      <td>1986</td>\n",
       "      <td>NC_000003.11:g.10191648G&gt;T</td>\n",
       "      <td>genomic</td>\n",
       "      <td>True</td>\n",
       "      <td>Stop Lost</td>\n",
       "      <td>ga4gh:VA.AmLtooLEvgdnEHD5YVWk6u1e2XBe7FiP</td>\n",
       "      <td>normalize</td>\n",
       "      <td>[1862]</td>\n",
       "    </tr>\n",
       "    <tr>\n",
       "      <th>4</th>\n",
       "      <td>1987</td>\n",
       "      <td>NC_000003.11:g.10191649A&gt;G</td>\n",
       "      <td>genomic</td>\n",
       "      <td>True</td>\n",
       "      <td>Stop Lost</td>\n",
       "      <td>ga4gh:VA.KIz00usFWEmJHNyqmVL61obfgfRPgOIa</td>\n",
       "      <td>normalize</td>\n",
       "      <td>[1863]</td>\n",
       "    </tr>\n",
       "  </tbody>\n",
       "</table>\n",
       "</div>"
      ],
      "text/plain": [
       "   variant_id                                 query query_type  \\\n",
       "0        2489  NC_000003.11:g.10191648_10191649insC    genomic   \n",
       "1        1988            NC_000003.11:g.10191649A>T    genomic   \n",
       "2        2488                        3-10191647-T-G    genomic   \n",
       "3        1986            NC_000003.11:g.10191648G>T    genomic   \n",
       "4        1987            NC_000003.11:g.10191649A>G    genomic   \n",
       "\n",
       "   variant_accepted civic_variant_types  \\\n",
       "0              True           Stop Lost   \n",
       "1              True           Stop Lost   \n",
       "2              True           Stop Lost   \n",
       "3              True           Stop Lost   \n",
       "4              True           Stop Lost   \n",
       "\n",
       "                                      vrs_id succeeded_endpoint  \\\n",
       "0  ga4gh:VA.A34ZoIhq4xBuQbcE3bkj29n6diS6RzLB          normalize   \n",
       "1  ga4gh:VA.JcEpDvhUtgDWU4A-bxqLUuczBNb8QqRf          normalize   \n",
       "2  ga4gh:VA.7nGd8dgHbqtxMHk_rLxrB6_IMAzJ8XnH          normalize   \n",
       "3  ga4gh:VA.AmLtooLEvgdnEHD5YVWk6u1e2XBe7FiP          normalize   \n",
       "4  ga4gh:VA.KIz00usFWEmJHNyqmVL61obfgfRPgOIa          normalize   \n",
       "\n",
       "  molecular_profile_id  \n",
       "0               [2362]  \n",
       "1               [1864]  \n",
       "2               [2361]  \n",
       "3               [1862]  \n",
       "4               [1863]  "
      ]
     },
     "execution_count": 24,
     "metadata": {},
     "output_type": "execute_result"
    }
   ],
   "source": [
    "normalized_queries_add_molprof_df = transform_df_mp_id(normalized_queries_df)\n",
    "normalized_queries_add_molprof_df.head()"
   ]
  },
  {
   "cell_type": "code",
   "execution_count": 25,
   "metadata": {},
   "outputs": [
    {
     "data": {
      "text/html": [
       "<div>\n",
       "<style scoped>\n",
       "    .dataframe tbody tr th:only-of-type {\n",
       "        vertical-align: middle;\n",
       "    }\n",
       "\n",
       "    .dataframe tbody tr th {\n",
       "        vertical-align: top;\n",
       "    }\n",
       "\n",
       "    .dataframe thead th {\n",
       "        text-align: right;\n",
       "    }\n",
       "</style>\n",
       "<table border=\"1\" class=\"dataframe\">\n",
       "  <thead>\n",
       "    <tr style=\"text-align: right;\">\n",
       "      <th></th>\n",
       "      <th>variant_id</th>\n",
       "      <th>query</th>\n",
       "      <th>query_type</th>\n",
       "      <th>variant_accepted</th>\n",
       "      <th>civic_variant_types</th>\n",
       "      <th>vrs_id</th>\n",
       "      <th>succeeded_endpoint</th>\n",
       "      <th>molecular_profile_id</th>\n",
       "    </tr>\n",
       "  </thead>\n",
       "  <tbody>\n",
       "    <tr>\n",
       "      <th>86</th>\n",
       "      <td>190</td>\n",
       "      <td>EGFR Amplification</td>\n",
       "      <td>protein</td>\n",
       "      <td>True</td>\n",
       "      <td>Transcript Amplification</td>\n",
       "      <td>ga4gh:CX.sEHT64Lm86QaTXzw39uKLkBUbEkp4h_X</td>\n",
       "      <td>normalize</td>\n",
       "      <td>[190, 4175, 4346, 4567]</td>\n",
       "    </tr>\n",
       "  </tbody>\n",
       "</table>\n",
       "</div>"
      ],
      "text/plain": [
       "    variant_id               query query_type  variant_accepted  \\\n",
       "86         190  EGFR Amplification    protein              True   \n",
       "\n",
       "         civic_variant_types                                     vrs_id  \\\n",
       "86  Transcript Amplification  ga4gh:CX.sEHT64Lm86QaTXzw39uKLkBUbEkp4h_X   \n",
       "\n",
       "   succeeded_endpoint     molecular_profile_id  \n",
       "86          normalize  [190, 4175, 4346, 4567]  "
      ]
     },
     "execution_count": 25,
     "metadata": {},
     "output_type": "execute_result"
    }
   ],
   "source": [
    "normalized_queries_add_molprof_df.loc[normalized_queries_add_molprof_df[\"variant_id\"] == 190]"
   ]
  },
  {
   "cell_type": "markdown",
   "metadata": {},
   "source": [
    "### Import molecular profile scores"
   ]
  },
  {
   "cell_type": "code",
   "execution_count": 26,
   "metadata": {},
   "outputs": [
    {
     "data": {
      "text/html": [
       "<div>\n",
       "<style scoped>\n",
       "    .dataframe tbody tr th:only-of-type {\n",
       "        vertical-align: middle;\n",
       "    }\n",
       "\n",
       "    .dataframe tbody tr th {\n",
       "        vertical-align: top;\n",
       "    }\n",
       "\n",
       "    .dataframe thead th {\n",
       "        text-align: right;\n",
       "    }\n",
       "</style>\n",
       "<table border=\"1\" class=\"dataframe\">\n",
       "  <thead>\n",
       "    <tr style=\"text-align: right;\">\n",
       "      <th></th>\n",
       "      <th>variant_id</th>\n",
       "      <th>query</th>\n",
       "      <th>query_type</th>\n",
       "      <th>variant_accepted</th>\n",
       "      <th>civic_variant_types</th>\n",
       "      <th>vrs_id</th>\n",
       "      <th>succeeded_endpoint</th>\n",
       "      <th>molecular_profile_id</th>\n",
       "      <th>molecular_profile_score</th>\n",
       "    </tr>\n",
       "  </thead>\n",
       "  <tbody>\n",
       "    <tr>\n",
       "      <th>0</th>\n",
       "      <td>2489</td>\n",
       "      <td>NC_000003.11:g.10191648_10191649insC</td>\n",
       "      <td>genomic</td>\n",
       "      <td>True</td>\n",
       "      <td>Stop Lost</td>\n",
       "      <td>ga4gh:VA.A34ZoIhq4xBuQbcE3bkj29n6diS6RzLB</td>\n",
       "      <td>normalize</td>\n",
       "      <td>[2362]</td>\n",
       "      <td>[5.0]</td>\n",
       "    </tr>\n",
       "    <tr>\n",
       "      <th>1</th>\n",
       "      <td>1988</td>\n",
       "      <td>NC_000003.11:g.10191649A&gt;T</td>\n",
       "      <td>genomic</td>\n",
       "      <td>True</td>\n",
       "      <td>Stop Lost</td>\n",
       "      <td>ga4gh:VA.JcEpDvhUtgDWU4A-bxqLUuczBNb8QqRf</td>\n",
       "      <td>normalize</td>\n",
       "      <td>[1864]</td>\n",
       "      <td>[5.0]</td>\n",
       "    </tr>\n",
       "    <tr>\n",
       "      <th>2</th>\n",
       "      <td>2488</td>\n",
       "      <td>3-10191647-T-G</td>\n",
       "      <td>genomic</td>\n",
       "      <td>True</td>\n",
       "      <td>Stop Lost</td>\n",
       "      <td>ga4gh:VA.7nGd8dgHbqtxMHk_rLxrB6_IMAzJ8XnH</td>\n",
       "      <td>normalize</td>\n",
       "      <td>[2361]</td>\n",
       "      <td>[5.0]</td>\n",
       "    </tr>\n",
       "    <tr>\n",
       "      <th>3</th>\n",
       "      <td>1986</td>\n",
       "      <td>NC_000003.11:g.10191648G&gt;T</td>\n",
       "      <td>genomic</td>\n",
       "      <td>True</td>\n",
       "      <td>Stop Lost</td>\n",
       "      <td>ga4gh:VA.AmLtooLEvgdnEHD5YVWk6u1e2XBe7FiP</td>\n",
       "      <td>normalize</td>\n",
       "      <td>[1862]</td>\n",
       "      <td>[10.0]</td>\n",
       "    </tr>\n",
       "    <tr>\n",
       "      <th>4</th>\n",
       "      <td>1987</td>\n",
       "      <td>NC_000003.11:g.10191649A&gt;G</td>\n",
       "      <td>genomic</td>\n",
       "      <td>True</td>\n",
       "      <td>Stop Lost</td>\n",
       "      <td>ga4gh:VA.KIz00usFWEmJHNyqmVL61obfgfRPgOIa</td>\n",
       "      <td>normalize</td>\n",
       "      <td>[1863]</td>\n",
       "      <td>[5.0]</td>\n",
       "    </tr>\n",
       "  </tbody>\n",
       "</table>\n",
       "</div>"
      ],
      "text/plain": [
       "   variant_id                                 query query_type  \\\n",
       "0        2489  NC_000003.11:g.10191648_10191649insC    genomic   \n",
       "1        1988            NC_000003.11:g.10191649A>T    genomic   \n",
       "2        2488                        3-10191647-T-G    genomic   \n",
       "3        1986            NC_000003.11:g.10191648G>T    genomic   \n",
       "4        1987            NC_000003.11:g.10191649A>G    genomic   \n",
       "\n",
       "   variant_accepted civic_variant_types  \\\n",
       "0              True           Stop Lost   \n",
       "1              True           Stop Lost   \n",
       "2              True           Stop Lost   \n",
       "3              True           Stop Lost   \n",
       "4              True           Stop Lost   \n",
       "\n",
       "                                      vrs_id succeeded_endpoint  \\\n",
       "0  ga4gh:VA.A34ZoIhq4xBuQbcE3bkj29n6diS6RzLB          normalize   \n",
       "1  ga4gh:VA.JcEpDvhUtgDWU4A-bxqLUuczBNb8QqRf          normalize   \n",
       "2  ga4gh:VA.7nGd8dgHbqtxMHk_rLxrB6_IMAzJ8XnH          normalize   \n",
       "3  ga4gh:VA.AmLtooLEvgdnEHD5YVWk6u1e2XBe7FiP          normalize   \n",
       "4  ga4gh:VA.KIz00usFWEmJHNyqmVL61obfgfRPgOIa          normalize   \n",
       "\n",
       "  molecular_profile_id molecular_profile_score  \n",
       "0               [2362]                   [5.0]  \n",
       "1               [1864]                   [5.0]  \n",
       "2               [2361]                   [5.0]  \n",
       "3               [1862]                  [10.0]  \n",
       "4               [1863]                   [5.0]  "
      ]
     },
     "execution_count": 26,
     "metadata": {},
     "output_type": "execute_result"
    }
   ],
   "source": [
    "normalized_queries_add_molprof_df = transform_df_mp_score(normalized_queries_add_molprof_df)\n",
    "normalized_queries_add_molprof_df.head()"
   ]
  },
  {
   "cell_type": "code",
   "execution_count": 27,
   "metadata": {},
   "outputs": [
    {
     "data": {
      "text/html": [
       "<div>\n",
       "<style scoped>\n",
       "    .dataframe tbody tr th:only-of-type {\n",
       "        vertical-align: middle;\n",
       "    }\n",
       "\n",
       "    .dataframe tbody tr th {\n",
       "        vertical-align: top;\n",
       "    }\n",
       "\n",
       "    .dataframe thead th {\n",
       "        text-align: right;\n",
       "    }\n",
       "</style>\n",
       "<table border=\"1\" class=\"dataframe\">\n",
       "  <thead>\n",
       "    <tr style=\"text-align: right;\">\n",
       "      <th></th>\n",
       "      <th>variant_id</th>\n",
       "      <th>query</th>\n",
       "      <th>query_type</th>\n",
       "      <th>variant_accepted</th>\n",
       "      <th>civic_variant_types</th>\n",
       "      <th>vrs_id</th>\n",
       "      <th>succeeded_endpoint</th>\n",
       "      <th>molecular_profile_id</th>\n",
       "      <th>molecular_profile_score</th>\n",
       "    </tr>\n",
       "  </thead>\n",
       "  <tbody>\n",
       "    <tr>\n",
       "      <th>86</th>\n",
       "      <td>190</td>\n",
       "      <td>EGFR Amplification</td>\n",
       "      <td>protein</td>\n",
       "      <td>True</td>\n",
       "      <td>Transcript Amplification</td>\n",
       "      <td>ga4gh:CX.sEHT64Lm86QaTXzw39uKLkBUbEkp4h_X</td>\n",
       "      <td>normalize</td>\n",
       "      <td>[190, 4175, 4346, 4567]</td>\n",
       "      <td>[173.0, 5.0, 0.0]</td>\n",
       "    </tr>\n",
       "  </tbody>\n",
       "</table>\n",
       "</div>"
      ],
      "text/plain": [
       "    variant_id               query query_type  variant_accepted  \\\n",
       "86         190  EGFR Amplification    protein              True   \n",
       "\n",
       "         civic_variant_types                                     vrs_id  \\\n",
       "86  Transcript Amplification  ga4gh:CX.sEHT64Lm86QaTXzw39uKLkBUbEkp4h_X   \n",
       "\n",
       "   succeeded_endpoint     molecular_profile_id molecular_profile_score  \n",
       "86          normalize  [190, 4175, 4346, 4567]       [173.0, 5.0, 0.0]  "
      ]
     },
     "execution_count": 27,
     "metadata": {},
     "output_type": "execute_result"
    }
   ],
   "source": [
    "normalized_queries_add_molprof_df.loc[normalized_queries_add_molprof_df[\"variant_id\"] == 190]"
   ]
  },
  {
   "cell_type": "code",
   "execution_count": 28,
   "metadata": {},
   "outputs": [
    {
     "data": {
      "text/html": [
       "<div>\n",
       "<style scoped>\n",
       "    .dataframe tbody tr th:only-of-type {\n",
       "        vertical-align: middle;\n",
       "    }\n",
       "\n",
       "    .dataframe tbody tr th {\n",
       "        vertical-align: top;\n",
       "    }\n",
       "\n",
       "    .dataframe thead th {\n",
       "        text-align: right;\n",
       "    }\n",
       "</style>\n",
       "<table border=\"1\" class=\"dataframe\">\n",
       "  <thead>\n",
       "    <tr style=\"text-align: right;\">\n",
       "      <th></th>\n",
       "      <th>variant_id</th>\n",
       "      <th>query</th>\n",
       "      <th>query_type</th>\n",
       "      <th>variant_accepted</th>\n",
       "      <th>civic_variant_types</th>\n",
       "      <th>vrs_id</th>\n",
       "      <th>succeeded_endpoint</th>\n",
       "      <th>molecular_profile_id</th>\n",
       "      <th>molecular_profile_score</th>\n",
       "      <th>molecular_profile_score_sum</th>\n",
       "    </tr>\n",
       "  </thead>\n",
       "  <tbody>\n",
       "    <tr>\n",
       "      <th>0</th>\n",
       "      <td>2489</td>\n",
       "      <td>NC_000003.11:g.10191648_10191649insC</td>\n",
       "      <td>genomic</td>\n",
       "      <td>True</td>\n",
       "      <td>Stop Lost</td>\n",
       "      <td>ga4gh:VA.A34ZoIhq4xBuQbcE3bkj29n6diS6RzLB</td>\n",
       "      <td>normalize</td>\n",
       "      <td>[2362]</td>\n",
       "      <td>[5.0]</td>\n",
       "      <td>5.0</td>\n",
       "    </tr>\n",
       "    <tr>\n",
       "      <th>1</th>\n",
       "      <td>1988</td>\n",
       "      <td>NC_000003.11:g.10191649A&gt;T</td>\n",
       "      <td>genomic</td>\n",
       "      <td>True</td>\n",
       "      <td>Stop Lost</td>\n",
       "      <td>ga4gh:VA.JcEpDvhUtgDWU4A-bxqLUuczBNb8QqRf</td>\n",
       "      <td>normalize</td>\n",
       "      <td>[1864]</td>\n",
       "      <td>[5.0]</td>\n",
       "      <td>5.0</td>\n",
       "    </tr>\n",
       "    <tr>\n",
       "      <th>2</th>\n",
       "      <td>2488</td>\n",
       "      <td>3-10191647-T-G</td>\n",
       "      <td>genomic</td>\n",
       "      <td>True</td>\n",
       "      <td>Stop Lost</td>\n",
       "      <td>ga4gh:VA.7nGd8dgHbqtxMHk_rLxrB6_IMAzJ8XnH</td>\n",
       "      <td>normalize</td>\n",
       "      <td>[2361]</td>\n",
       "      <td>[5.0]</td>\n",
       "      <td>5.0</td>\n",
       "    </tr>\n",
       "    <tr>\n",
       "      <th>3</th>\n",
       "      <td>1986</td>\n",
       "      <td>NC_000003.11:g.10191648G&gt;T</td>\n",
       "      <td>genomic</td>\n",
       "      <td>True</td>\n",
       "      <td>Stop Lost</td>\n",
       "      <td>ga4gh:VA.AmLtooLEvgdnEHD5YVWk6u1e2XBe7FiP</td>\n",
       "      <td>normalize</td>\n",
       "      <td>[1862]</td>\n",
       "      <td>[10.0]</td>\n",
       "      <td>10.0</td>\n",
       "    </tr>\n",
       "    <tr>\n",
       "      <th>4</th>\n",
       "      <td>1987</td>\n",
       "      <td>NC_000003.11:g.10191649A&gt;G</td>\n",
       "      <td>genomic</td>\n",
       "      <td>True</td>\n",
       "      <td>Stop Lost</td>\n",
       "      <td>ga4gh:VA.KIz00usFWEmJHNyqmVL61obfgfRPgOIa</td>\n",
       "      <td>normalize</td>\n",
       "      <td>[1863]</td>\n",
       "      <td>[5.0]</td>\n",
       "      <td>5.0</td>\n",
       "    </tr>\n",
       "  </tbody>\n",
       "</table>\n",
       "</div>"
      ],
      "text/plain": [
       "   variant_id                                 query query_type  \\\n",
       "0        2489  NC_000003.11:g.10191648_10191649insC    genomic   \n",
       "1        1988            NC_000003.11:g.10191649A>T    genomic   \n",
       "2        2488                        3-10191647-T-G    genomic   \n",
       "3        1986            NC_000003.11:g.10191648G>T    genomic   \n",
       "4        1987            NC_000003.11:g.10191649A>G    genomic   \n",
       "\n",
       "   variant_accepted civic_variant_types  \\\n",
       "0              True           Stop Lost   \n",
       "1              True           Stop Lost   \n",
       "2              True           Stop Lost   \n",
       "3              True           Stop Lost   \n",
       "4              True           Stop Lost   \n",
       "\n",
       "                                      vrs_id succeeded_endpoint  \\\n",
       "0  ga4gh:VA.A34ZoIhq4xBuQbcE3bkj29n6diS6RzLB          normalize   \n",
       "1  ga4gh:VA.JcEpDvhUtgDWU4A-bxqLUuczBNb8QqRf          normalize   \n",
       "2  ga4gh:VA.7nGd8dgHbqtxMHk_rLxrB6_IMAzJ8XnH          normalize   \n",
       "3  ga4gh:VA.AmLtooLEvgdnEHD5YVWk6u1e2XBe7FiP          normalize   \n",
       "4  ga4gh:VA.KIz00usFWEmJHNyqmVL61obfgfRPgOIa          normalize   \n",
       "\n",
       "  molecular_profile_id molecular_profile_score  molecular_profile_score_sum  \n",
       "0               [2362]                   [5.0]                          5.0  \n",
       "1               [1864]                   [5.0]                          5.0  \n",
       "2               [2361]                   [5.0]                          5.0  \n",
       "3               [1862]                  [10.0]                         10.0  \n",
       "4               [1863]                   [5.0]                          5.0  "
      ]
     },
     "execution_count": 28,
     "metadata": {},
     "output_type": "execute_result"
    }
   ],
   "source": [
    "normalized_queries_add_molprof_df = transform_df_mp_score_sum(normalized_queries_add_molprof_df)\n",
    "normalized_queries_add_molprof_df.head()"
   ]
  },
  {
   "cell_type": "code",
   "execution_count": 29,
   "metadata": {},
   "outputs": [
    {
     "data": {
      "text/html": [
       "<div>\n",
       "<style scoped>\n",
       "    .dataframe tbody tr th:only-of-type {\n",
       "        vertical-align: middle;\n",
       "    }\n",
       "\n",
       "    .dataframe tbody tr th {\n",
       "        vertical-align: top;\n",
       "    }\n",
       "\n",
       "    .dataframe thead th {\n",
       "        text-align: right;\n",
       "    }\n",
       "</style>\n",
       "<table border=\"1\" class=\"dataframe\">\n",
       "  <thead>\n",
       "    <tr style=\"text-align: right;\">\n",
       "      <th></th>\n",
       "      <th>variant_id</th>\n",
       "      <th>query</th>\n",
       "      <th>query_type</th>\n",
       "      <th>variant_accepted</th>\n",
       "      <th>civic_variant_types</th>\n",
       "      <th>vrs_id</th>\n",
       "      <th>succeeded_endpoint</th>\n",
       "      <th>molecular_profile_id</th>\n",
       "      <th>molecular_profile_score</th>\n",
       "      <th>molecular_profile_score_sum</th>\n",
       "    </tr>\n",
       "  </thead>\n",
       "  <tbody>\n",
       "    <tr>\n",
       "      <th>86</th>\n",
       "      <td>190</td>\n",
       "      <td>EGFR Amplification</td>\n",
       "      <td>protein</td>\n",
       "      <td>True</td>\n",
       "      <td>Transcript Amplification</td>\n",
       "      <td>ga4gh:CX.sEHT64Lm86QaTXzw39uKLkBUbEkp4h_X</td>\n",
       "      <td>normalize</td>\n",
       "      <td>[190, 4175, 4346, 4567]</td>\n",
       "      <td>[173.0, 5.0, 0.0]</td>\n",
       "      <td>178.0</td>\n",
       "    </tr>\n",
       "  </tbody>\n",
       "</table>\n",
       "</div>"
      ],
      "text/plain": [
       "    variant_id               query query_type  variant_accepted  \\\n",
       "86         190  EGFR Amplification    protein              True   \n",
       "\n",
       "         civic_variant_types                                     vrs_id  \\\n",
       "86  Transcript Amplification  ga4gh:CX.sEHT64Lm86QaTXzw39uKLkBUbEkp4h_X   \n",
       "\n",
       "   succeeded_endpoint     molecular_profile_id molecular_profile_score  \\\n",
       "86          normalize  [190, 4175, 4346, 4567]       [173.0, 5.0, 0.0]   \n",
       "\n",
       "    molecular_profile_score_sum  \n",
       "86                        178.0  "
      ]
     },
     "execution_count": 29,
     "metadata": {},
     "output_type": "execute_result"
    }
   ],
   "source": [
    "normalized_queries_add_molprof_df.loc[normalized_queries_add_molprof_df[\"variant_id\"] == 190]"
   ]
  },
  {
   "cell_type": "markdown",
   "metadata": {},
   "source": [
    "# Analysis of Unable to Normalize Queries"
   ]
  },
  {
   "cell_type": "markdown",
   "metadata": {},
   "source": [
    "## List of Unable to Normalize Variant ID's"
   ]
  },
  {
   "cell_type": "code",
   "execution_count": 30,
   "metadata": {},
   "outputs": [
    {
     "data": {
      "text/html": [
       "<div>\n",
       "<style scoped>\n",
       "    .dataframe tbody tr th:only-of-type {\n",
       "        vertical-align: middle;\n",
       "    }\n",
       "\n",
       "    .dataframe tbody tr th {\n",
       "        vertical-align: top;\n",
       "    }\n",
       "\n",
       "    .dataframe thead th {\n",
       "        text-align: right;\n",
       "    }\n",
       "</style>\n",
       "<table border=\"1\" class=\"dataframe\">\n",
       "  <thead>\n",
       "    <tr style=\"text-align: right;\">\n",
       "      <th></th>\n",
       "      <th>variant_id</th>\n",
       "      <th>query</th>\n",
       "      <th>query_type</th>\n",
       "      <th>variant_accepted</th>\n",
       "      <th>civic_variant_types</th>\n",
       "      <th>exception_raised</th>\n",
       "      <th>message</th>\n",
       "      <th>warnings</th>\n",
       "    </tr>\n",
       "  </thead>\n",
       "  <tbody>\n",
       "    <tr>\n",
       "      <th>0</th>\n",
       "      <td>748</td>\n",
       "      <td>MLH1 *757L</td>\n",
       "      <td>protein</td>\n",
       "      <td>True</td>\n",
       "      <td>Stop Lost</td>\n",
       "      <td>False</td>\n",
       "      <td>unable to normalize</td>\n",
       "      <td>['Unable to tokenize: *757L']</td>\n",
       "    </tr>\n",
       "    <tr>\n",
       "      <th>1</th>\n",
       "      <td>3718</td>\n",
       "      <td>AR A748V</td>\n",
       "      <td>protein</td>\n",
       "      <td>False</td>\n",
       "      <td>Not provided</td>\n",
       "      <td>False</td>\n",
       "      <td>unable to normalize</td>\n",
       "      <td>['Unable to translate AR A748V']</td>\n",
       "    </tr>\n",
       "    <tr>\n",
       "      <th>2</th>\n",
       "      <td>3725</td>\n",
       "      <td>AR A765T</td>\n",
       "      <td>protein</td>\n",
       "      <td>False</td>\n",
       "      <td>Not provided</td>\n",
       "      <td>False</td>\n",
       "      <td>unable to normalize</td>\n",
       "      <td>['Unable to translate AR A765T']</td>\n",
       "    </tr>\n",
       "    <tr>\n",
       "      <th>3</th>\n",
       "      <td>4485</td>\n",
       "      <td>ERBB2 A775_G776ins YVMA</td>\n",
       "      <td>protein</td>\n",
       "      <td>False</td>\n",
       "      <td>Not provided</td>\n",
       "      <td>False</td>\n",
       "      <td>unable to normalize</td>\n",
       "      <td>['Unable to tokenize: A775_G776ins', 'Unable t...</td>\n",
       "    </tr>\n",
       "    <tr>\n",
       "      <th>4</th>\n",
       "      <td>248</td>\n",
       "      <td>TERT C228T</td>\n",
       "      <td>protein</td>\n",
       "      <td>True</td>\n",
       "      <td>Regulatory Region Variant</td>\n",
       "      <td>False</td>\n",
       "      <td>unable to normalize</td>\n",
       "      <td>['Unable to translate TERT C228T']</td>\n",
       "    </tr>\n",
       "  </tbody>\n",
       "</table>\n",
       "</div>"
      ],
      "text/plain": [
       "   variant_id                    query query_type  variant_accepted  \\\n",
       "0         748               MLH1 *757L    protein              True   \n",
       "1        3718                 AR A748V    protein             False   \n",
       "2        3725                 AR A765T    protein             False   \n",
       "3        4485  ERBB2 A775_G776ins YVMA    protein             False   \n",
       "4         248               TERT C228T    protein              True   \n",
       "\n",
       "         civic_variant_types  exception_raised              message  \\\n",
       "0                  Stop Lost             False  unable to normalize   \n",
       "1               Not provided             False  unable to normalize   \n",
       "2               Not provided             False  unable to normalize   \n",
       "3               Not provided             False  unable to normalize   \n",
       "4  Regulatory Region Variant             False  unable to normalize   \n",
       "\n",
       "                                            warnings  \n",
       "0                      ['Unable to tokenize: *757L']  \n",
       "1                   ['Unable to translate AR A748V']  \n",
       "2                   ['Unable to translate AR A765T']  \n",
       "3  ['Unable to tokenize: A775_G776ins', 'Unable t...  \n",
       "4                 ['Unable to translate TERT C228T']  "
      ]
     },
     "execution_count": 30,
     "metadata": {},
     "output_type": "execute_result"
    }
   ],
   "source": [
    "not_normalized_queries_df = pd.read_csv(\"../variation_analysis/unable_to_normalize_queries.csv\", sep=\"\\t\")\n",
    "not_normalized_queries_df.head()"
   ]
  },
  {
   "cell_type": "markdown",
   "metadata": {},
   "source": [
    "## Variant analysis"
   ]
  },
  {
   "cell_type": "code",
   "execution_count": 31,
   "metadata": {},
   "outputs": [
    {
     "name": "stdout",
     "output_type": "stream",
     "text": [
      "\n",
      "Number of Unable to Normalize Variants in CIViC: 80 / 3582\n",
      "Percentage of Unable to Normalize Variants in CIViC: 2.23%\n",
      "\n",
      "Number of accepted Unable to Normalize Variants: 11 / 80\n",
      "Percentage of accepted Unable to Normalize Variants: 13.75%\n",
      "\n",
      "Number of not accepted Unable to Normalize Variants: 69 / 80\n",
      "Percentage of not accepted Unable to Normalize Variants: 86.25%\n"
     ]
    },
    {
     "data": {
      "text/html": [
       "<div>\n",
       "<style scoped>\n",
       "    .dataframe tbody tr th:only-of-type {\n",
       "        vertical-align: middle;\n",
       "    }\n",
       "\n",
       "    .dataframe tbody tr th {\n",
       "        vertical-align: top;\n",
       "    }\n",
       "\n",
       "    .dataframe thead th {\n",
       "        text-align: right;\n",
       "    }\n",
       "</style>\n",
       "<table border=\"1\" class=\"dataframe\">\n",
       "  <thead>\n",
       "    <tr style=\"text-align: right;\">\n",
       "      <th></th>\n",
       "      <th>variant_id</th>\n",
       "      <th>query</th>\n",
       "      <th>query_type</th>\n",
       "      <th>variant_accepted</th>\n",
       "      <th>civic_variant_types</th>\n",
       "      <th>exception_raised</th>\n",
       "      <th>message</th>\n",
       "      <th>warnings</th>\n",
       "    </tr>\n",
       "  </thead>\n",
       "  <tbody>\n",
       "    <tr>\n",
       "      <th>0</th>\n",
       "      <td>748</td>\n",
       "      <td>MLH1 *757L</td>\n",
       "      <td>protein</td>\n",
       "      <td>True</td>\n",
       "      <td>Stop Lost</td>\n",
       "      <td>False</td>\n",
       "      <td>unable to normalize</td>\n",
       "      <td>['Unable to tokenize: *757L']</td>\n",
       "    </tr>\n",
       "    <tr>\n",
       "      <th>1</th>\n",
       "      <td>3718</td>\n",
       "      <td>AR A748V</td>\n",
       "      <td>protein</td>\n",
       "      <td>False</td>\n",
       "      <td>Not provided</td>\n",
       "      <td>False</td>\n",
       "      <td>unable to normalize</td>\n",
       "      <td>['Unable to translate AR A748V']</td>\n",
       "    </tr>\n",
       "    <tr>\n",
       "      <th>2</th>\n",
       "      <td>3725</td>\n",
       "      <td>AR A765T</td>\n",
       "      <td>protein</td>\n",
       "      <td>False</td>\n",
       "      <td>Not provided</td>\n",
       "      <td>False</td>\n",
       "      <td>unable to normalize</td>\n",
       "      <td>['Unable to translate AR A765T']</td>\n",
       "    </tr>\n",
       "    <tr>\n",
       "      <th>3</th>\n",
       "      <td>4485</td>\n",
       "      <td>ERBB2 A775_G776ins YVMA</td>\n",
       "      <td>protein</td>\n",
       "      <td>False</td>\n",
       "      <td>Not provided</td>\n",
       "      <td>False</td>\n",
       "      <td>unable to normalize</td>\n",
       "      <td>['Unable to tokenize: A775_G776ins', 'Unable t...</td>\n",
       "    </tr>\n",
       "    <tr>\n",
       "      <th>4</th>\n",
       "      <td>248</td>\n",
       "      <td>TERT C228T</td>\n",
       "      <td>protein</td>\n",
       "      <td>True</td>\n",
       "      <td>Regulatory Region Variant</td>\n",
       "      <td>False</td>\n",
       "      <td>unable to normalize</td>\n",
       "      <td>['Unable to translate TERT C228T']</td>\n",
       "    </tr>\n",
       "  </tbody>\n",
       "</table>\n",
       "</div>"
      ],
      "text/plain": [
       "   variant_id                    query query_type  variant_accepted  \\\n",
       "0         748               MLH1 *757L    protein              True   \n",
       "1        3718                 AR A748V    protein             False   \n",
       "2        3725                 AR A765T    protein             False   \n",
       "3        4485  ERBB2 A775_G776ins YVMA    protein             False   \n",
       "4         248               TERT C228T    protein              True   \n",
       "\n",
       "         civic_variant_types  exception_raised              message  \\\n",
       "0                  Stop Lost             False  unable to normalize   \n",
       "1               Not provided             False  unable to normalize   \n",
       "2               Not provided             False  unable to normalize   \n",
       "3               Not provided             False  unable to normalize   \n",
       "4  Regulatory Region Variant             False  unable to normalize   \n",
       "\n",
       "                                            warnings  \n",
       "0                      ['Unable to tokenize: *757L']  \n",
       "1                   ['Unable to translate AR A748V']  \n",
       "2                   ['Unable to translate AR A765T']  \n",
       "3  ['Unable to tokenize: A775_G776ins', 'Unable t...  \n",
       "4                 ['Unable to translate TERT C228T']  "
      ]
     },
     "execution_count": 31,
     "metadata": {},
     "output_type": "execute_result"
    }
   ],
   "source": [
    "not_normalized_queries_df = variant_analysis(not_normalized_queries_df, VariantNormType.UNABLE_TO_NORMALIZE)\n",
    "not_normalized_queries_df.head()"
   ]
  },
  {
   "attachments": {},
   "cell_type": "markdown",
   "metadata": {},
   "source": [
    "## Transform df for evidence analysis"
   ]
  },
  {
   "cell_type": "code",
   "execution_count": 32,
   "metadata": {},
   "outputs": [
    {
     "data": {
      "text/html": [
       "<div>\n",
       "<style scoped>\n",
       "    .dataframe tbody tr th:only-of-type {\n",
       "        vertical-align: middle;\n",
       "    }\n",
       "\n",
       "    .dataframe tbody tr th {\n",
       "        vertical-align: top;\n",
       "    }\n",
       "\n",
       "    .dataframe thead th {\n",
       "        text-align: right;\n",
       "    }\n",
       "</style>\n",
       "<table border=\"1\" class=\"dataframe\">\n",
       "  <thead>\n",
       "    <tr style=\"text-align: right;\">\n",
       "      <th></th>\n",
       "      <th>variant_id</th>\n",
       "      <th>query</th>\n",
       "      <th>query_type</th>\n",
       "      <th>variant_accepted</th>\n",
       "      <th>civic_variant_types</th>\n",
       "      <th>exception_raised</th>\n",
       "      <th>message</th>\n",
       "      <th>warnings</th>\n",
       "      <th>evidence_id</th>\n",
       "    </tr>\n",
       "  </thead>\n",
       "  <tbody>\n",
       "    <tr>\n",
       "      <th>0</th>\n",
       "      <td>748</td>\n",
       "      <td>MLH1 *757L</td>\n",
       "      <td>protein</td>\n",
       "      <td>True</td>\n",
       "      <td>Stop Lost</td>\n",
       "      <td>False</td>\n",
       "      <td>unable to normalize</td>\n",
       "      <td>['Unable to tokenize: *757L']</td>\n",
       "      <td>1812</td>\n",
       "    </tr>\n",
       "    <tr>\n",
       "      <th>1</th>\n",
       "      <td>3718</td>\n",
       "      <td>AR A748V</td>\n",
       "      <td>protein</td>\n",
       "      <td>False</td>\n",
       "      <td>Not provided</td>\n",
       "      <td>False</td>\n",
       "      <td>unable to normalize</td>\n",
       "      <td>['Unable to translate AR A748V']</td>\n",
       "      <td>10128</td>\n",
       "    </tr>\n",
       "    <tr>\n",
       "      <th>2</th>\n",
       "      <td>3725</td>\n",
       "      <td>AR A765T</td>\n",
       "      <td>protein</td>\n",
       "      <td>False</td>\n",
       "      <td>Not provided</td>\n",
       "      <td>False</td>\n",
       "      <td>unable to normalize</td>\n",
       "      <td>['Unable to translate AR A765T']</td>\n",
       "      <td>10135</td>\n",
       "    </tr>\n",
       "    <tr>\n",
       "      <th>3</th>\n",
       "      <td>4485</td>\n",
       "      <td>ERBB2 A775_G776ins YVMA</td>\n",
       "      <td>protein</td>\n",
       "      <td>False</td>\n",
       "      <td>Not provided</td>\n",
       "      <td>False</td>\n",
       "      <td>unable to normalize</td>\n",
       "      <td>['Unable to tokenize: A775_G776ins', 'Unable t...</td>\n",
       "      <td>11488</td>\n",
       "    </tr>\n",
       "    <tr>\n",
       "      <th>3</th>\n",
       "      <td>4485</td>\n",
       "      <td>ERBB2 A775_G776ins YVMA</td>\n",
       "      <td>protein</td>\n",
       "      <td>False</td>\n",
       "      <td>Not provided</td>\n",
       "      <td>False</td>\n",
       "      <td>unable to normalize</td>\n",
       "      <td>['Unable to tokenize: A775_G776ins', 'Unable t...</td>\n",
       "      <td>11494</td>\n",
       "    </tr>\n",
       "  </tbody>\n",
       "</table>\n",
       "</div>"
      ],
      "text/plain": [
       "   variant_id                    query query_type  variant_accepted  \\\n",
       "0         748               MLH1 *757L    protein              True   \n",
       "1        3718                 AR A748V    protein             False   \n",
       "2        3725                 AR A765T    protein             False   \n",
       "3        4485  ERBB2 A775_G776ins YVMA    protein             False   \n",
       "3        4485  ERBB2 A775_G776ins YVMA    protein             False   \n",
       "\n",
       "  civic_variant_types  exception_raised              message  \\\n",
       "0           Stop Lost             False  unable to normalize   \n",
       "1        Not provided             False  unable to normalize   \n",
       "2        Not provided             False  unable to normalize   \n",
       "3        Not provided             False  unable to normalize   \n",
       "3        Not provided             False  unable to normalize   \n",
       "\n",
       "                                            warnings evidence_id  \n",
       "0                      ['Unable to tokenize: *757L']        1812  \n",
       "1                   ['Unable to translate AR A748V']       10128  \n",
       "2                   ['Unable to translate AR A765T']       10135  \n",
       "3  ['Unable to tokenize: A775_G776ins', 'Unable t...       11488  \n",
       "3  ['Unable to tokenize: A775_G776ins', 'Unable t...       11494  "
      ]
     },
     "execution_count": 32,
     "metadata": {},
     "output_type": "execute_result"
    }
   ],
   "source": [
    "not_normalized_quer_add_evidence_df = transform_df_evidence_ids(not_normalized_queries_df)\n",
    "not_normalized_quer_add_evidence_df.head()"
   ]
  },
  {
   "cell_type": "code",
   "execution_count": 33,
   "metadata": {},
   "outputs": [
    {
     "data": {
      "text/html": [
       "<div>\n",
       "<style scoped>\n",
       "    .dataframe tbody tr th:only-of-type {\n",
       "        vertical-align: middle;\n",
       "    }\n",
       "\n",
       "    .dataframe tbody tr th {\n",
       "        vertical-align: top;\n",
       "    }\n",
       "\n",
       "    .dataframe thead th {\n",
       "        text-align: right;\n",
       "    }\n",
       "</style>\n",
       "<table border=\"1\" class=\"dataframe\">\n",
       "  <thead>\n",
       "    <tr style=\"text-align: right;\">\n",
       "      <th></th>\n",
       "      <th>variant_id</th>\n",
       "      <th>query</th>\n",
       "      <th>query_type</th>\n",
       "      <th>variant_accepted</th>\n",
       "      <th>civic_variant_types</th>\n",
       "      <th>exception_raised</th>\n",
       "      <th>message</th>\n",
       "      <th>warnings</th>\n",
       "      <th>evidence_id</th>\n",
       "      <th>evidence_status</th>\n",
       "      <th>evidence_rating</th>\n",
       "      <th>evidence_level</th>\n",
       "    </tr>\n",
       "  </thead>\n",
       "  <tbody>\n",
       "    <tr>\n",
       "      <th>0</th>\n",
       "      <td>748</td>\n",
       "      <td>MLH1 *757L</td>\n",
       "      <td>protein</td>\n",
       "      <td>True</td>\n",
       "      <td>Stop Lost</td>\n",
       "      <td>False</td>\n",
       "      <td>unable to normalize</td>\n",
       "      <td>['Unable to tokenize: *757L']</td>\n",
       "      <td>1812</td>\n",
       "      <td>accepted</td>\n",
       "      <td>[1]</td>\n",
       "      <td>[C]</td>\n",
       "    </tr>\n",
       "    <tr>\n",
       "      <th>1</th>\n",
       "      <td>3718</td>\n",
       "      <td>AR A748V</td>\n",
       "      <td>protein</td>\n",
       "      <td>False</td>\n",
       "      <td>Not provided</td>\n",
       "      <td>False</td>\n",
       "      <td>unable to normalize</td>\n",
       "      <td>['Unable to translate AR A748V']</td>\n",
       "      <td>10128</td>\n",
       "      <td>submitted</td>\n",
       "      <td>[3]</td>\n",
       "      <td>[D]</td>\n",
       "    </tr>\n",
       "    <tr>\n",
       "      <th>2</th>\n",
       "      <td>3725</td>\n",
       "      <td>AR A765T</td>\n",
       "      <td>protein</td>\n",
       "      <td>False</td>\n",
       "      <td>Not provided</td>\n",
       "      <td>False</td>\n",
       "      <td>unable to normalize</td>\n",
       "      <td>['Unable to translate AR A765T']</td>\n",
       "      <td>10135</td>\n",
       "      <td>submitted</td>\n",
       "      <td>[3]</td>\n",
       "      <td>[D]</td>\n",
       "    </tr>\n",
       "    <tr>\n",
       "      <th>3</th>\n",
       "      <td>4485</td>\n",
       "      <td>ERBB2 A775_G776ins YVMA</td>\n",
       "      <td>protein</td>\n",
       "      <td>False</td>\n",
       "      <td>Not provided</td>\n",
       "      <td>False</td>\n",
       "      <td>unable to normalize</td>\n",
       "      <td>['Unable to tokenize: A775_G776ins', 'Unable t...</td>\n",
       "      <td>11488</td>\n",
       "      <td></td>\n",
       "      <td></td>\n",
       "      <td></td>\n",
       "    </tr>\n",
       "    <tr>\n",
       "      <th>3</th>\n",
       "      <td>4485</td>\n",
       "      <td>ERBB2 A775_G776ins YVMA</td>\n",
       "      <td>protein</td>\n",
       "      <td>False</td>\n",
       "      <td>Not provided</td>\n",
       "      <td>False</td>\n",
       "      <td>unable to normalize</td>\n",
       "      <td>['Unable to tokenize: A775_G776ins', 'Unable t...</td>\n",
       "      <td>11494</td>\n",
       "      <td>submitted</td>\n",
       "      <td>[4]</td>\n",
       "      <td>[D]</td>\n",
       "    </tr>\n",
       "  </tbody>\n",
       "</table>\n",
       "</div>"
      ],
      "text/plain": [
       "   variant_id                    query query_type  variant_accepted  \\\n",
       "0         748               MLH1 *757L    protein              True   \n",
       "1        3718                 AR A748V    protein             False   \n",
       "2        3725                 AR A765T    protein             False   \n",
       "3        4485  ERBB2 A775_G776ins YVMA    protein             False   \n",
       "3        4485  ERBB2 A775_G776ins YVMA    protein             False   \n",
       "\n",
       "  civic_variant_types  exception_raised              message  \\\n",
       "0           Stop Lost             False  unable to normalize   \n",
       "1        Not provided             False  unable to normalize   \n",
       "2        Not provided             False  unable to normalize   \n",
       "3        Not provided             False  unable to normalize   \n",
       "3        Not provided             False  unable to normalize   \n",
       "\n",
       "                                            warnings evidence_id  \\\n",
       "0                      ['Unable to tokenize: *757L']        1812   \n",
       "1                   ['Unable to translate AR A748V']       10128   \n",
       "2                   ['Unable to translate AR A765T']       10135   \n",
       "3  ['Unable to tokenize: A775_G776ins', 'Unable t...       11488   \n",
       "3  ['Unable to tokenize: A775_G776ins', 'Unable t...       11494   \n",
       "\n",
       "  evidence_status evidence_rating evidence_level  \n",
       "0        accepted             [1]            [C]  \n",
       "1       submitted             [3]            [D]  \n",
       "2       submitted             [3]            [D]  \n",
       "3                                                 \n",
       "3       submitted             [4]            [D]  "
      ]
     },
     "execution_count": 33,
     "metadata": {},
     "output_type": "execute_result"
    }
   ],
   "source": [
    "not_normalized_quer_add_evidence_df = transform_df_evidence(not_normalized_quer_add_evidence_df)\n",
    "not_normalized_quer_add_evidence_df.head()"
   ]
  },
  {
   "cell_type": "markdown",
   "metadata": {},
   "source": [
    "## Evidence analysis"
   ]
  },
  {
   "cell_type": "code",
   "execution_count": 34,
   "metadata": {},
   "outputs": [
    {
     "name": "stdout",
     "output_type": "stream",
     "text": [
      "Number of Unable to Normalize Variant Evidence items in CIViC: 129 / 9920\n",
      "Percentage of Unable to Normalize Variant Evidence items in CIViC: 1.30%\n",
      "\n",
      "Number of accepted Unable to Normalize Variant Evidence items: 17 / 129\n",
      "Percentage of accepted Unable to Normalize Variant Evidence items: 13.18%\n",
      "\n",
      "Number of submitted Unable to Normalize Variant Evidence items: 112 / 129\n",
      "Percentage of not submitted Unable to Normalize Variant Evidence items: 86.82%\n"
     ]
    },
    {
     "data": {
      "text/html": [
       "<div>\n",
       "<style scoped>\n",
       "    .dataframe tbody tr th:only-of-type {\n",
       "        vertical-align: middle;\n",
       "    }\n",
       "\n",
       "    .dataframe tbody tr th {\n",
       "        vertical-align: top;\n",
       "    }\n",
       "\n",
       "    .dataframe thead th {\n",
       "        text-align: right;\n",
       "    }\n",
       "</style>\n",
       "<table border=\"1\" class=\"dataframe\">\n",
       "  <thead>\n",
       "    <tr style=\"text-align: right;\">\n",
       "      <th></th>\n",
       "      <th>variant_id</th>\n",
       "      <th>query</th>\n",
       "      <th>query_type</th>\n",
       "      <th>variant_accepted</th>\n",
       "      <th>civic_variant_types</th>\n",
       "      <th>exception_raised</th>\n",
       "      <th>message</th>\n",
       "      <th>warnings</th>\n",
       "      <th>evidence_id</th>\n",
       "      <th>evidence_status</th>\n",
       "      <th>evidence_rating</th>\n",
       "      <th>evidence_level</th>\n",
       "      <th>evidence_accepted</th>\n",
       "    </tr>\n",
       "  </thead>\n",
       "  <tbody>\n",
       "    <tr>\n",
       "      <th>0</th>\n",
       "      <td>748</td>\n",
       "      <td>MLH1 *757L</td>\n",
       "      <td>protein</td>\n",
       "      <td>True</td>\n",
       "      <td>Stop Lost</td>\n",
       "      <td>False</td>\n",
       "      <td>unable to normalize</td>\n",
       "      <td>['Unable to tokenize: *757L']</td>\n",
       "      <td>1812</td>\n",
       "      <td>accepted</td>\n",
       "      <td>[1]</td>\n",
       "      <td>[C]</td>\n",
       "      <td>True</td>\n",
       "    </tr>\n",
       "    <tr>\n",
       "      <th>1</th>\n",
       "      <td>3718</td>\n",
       "      <td>AR A748V</td>\n",
       "      <td>protein</td>\n",
       "      <td>False</td>\n",
       "      <td>Not provided</td>\n",
       "      <td>False</td>\n",
       "      <td>unable to normalize</td>\n",
       "      <td>['Unable to translate AR A748V']</td>\n",
       "      <td>10128</td>\n",
       "      <td>submitted</td>\n",
       "      <td>[3]</td>\n",
       "      <td>[D]</td>\n",
       "      <td>False</td>\n",
       "    </tr>\n",
       "    <tr>\n",
       "      <th>2</th>\n",
       "      <td>3725</td>\n",
       "      <td>AR A765T</td>\n",
       "      <td>protein</td>\n",
       "      <td>False</td>\n",
       "      <td>Not provided</td>\n",
       "      <td>False</td>\n",
       "      <td>unable to normalize</td>\n",
       "      <td>['Unable to translate AR A765T']</td>\n",
       "      <td>10135</td>\n",
       "      <td>submitted</td>\n",
       "      <td>[3]</td>\n",
       "      <td>[D]</td>\n",
       "      <td>False</td>\n",
       "    </tr>\n",
       "    <tr>\n",
       "      <th>3</th>\n",
       "      <td>4485</td>\n",
       "      <td>ERBB2 A775_G776ins YVMA</td>\n",
       "      <td>protein</td>\n",
       "      <td>False</td>\n",
       "      <td>Not provided</td>\n",
       "      <td>False</td>\n",
       "      <td>unable to normalize</td>\n",
       "      <td>['Unable to tokenize: A775_G776ins', 'Unable t...</td>\n",
       "      <td>11488</td>\n",
       "      <td></td>\n",
       "      <td></td>\n",
       "      <td></td>\n",
       "      <td>NaN</td>\n",
       "    </tr>\n",
       "    <tr>\n",
       "      <th>3</th>\n",
       "      <td>4485</td>\n",
       "      <td>ERBB2 A775_G776ins YVMA</td>\n",
       "      <td>protein</td>\n",
       "      <td>False</td>\n",
       "      <td>Not provided</td>\n",
       "      <td>False</td>\n",
       "      <td>unable to normalize</td>\n",
       "      <td>['Unable to tokenize: A775_G776ins', 'Unable t...</td>\n",
       "      <td>11494</td>\n",
       "      <td>submitted</td>\n",
       "      <td>[4]</td>\n",
       "      <td>[D]</td>\n",
       "      <td>False</td>\n",
       "    </tr>\n",
       "  </tbody>\n",
       "</table>\n",
       "</div>"
      ],
      "text/plain": [
       "   variant_id                    query query_type  variant_accepted  \\\n",
       "0         748               MLH1 *757L    protein              True   \n",
       "1        3718                 AR A748V    protein             False   \n",
       "2        3725                 AR A765T    protein             False   \n",
       "3        4485  ERBB2 A775_G776ins YVMA    protein             False   \n",
       "3        4485  ERBB2 A775_G776ins YVMA    protein             False   \n",
       "\n",
       "  civic_variant_types  exception_raised              message  \\\n",
       "0           Stop Lost             False  unable to normalize   \n",
       "1        Not provided             False  unable to normalize   \n",
       "2        Not provided             False  unable to normalize   \n",
       "3        Not provided             False  unable to normalize   \n",
       "3        Not provided             False  unable to normalize   \n",
       "\n",
       "                                            warnings evidence_id  \\\n",
       "0                      ['Unable to tokenize: *757L']        1812   \n",
       "1                   ['Unable to translate AR A748V']       10128   \n",
       "2                   ['Unable to translate AR A765T']       10135   \n",
       "3  ['Unable to tokenize: A775_G776ins', 'Unable t...       11488   \n",
       "3  ['Unable to tokenize: A775_G776ins', 'Unable t...       11494   \n",
       "\n",
       "  evidence_status evidence_rating evidence_level evidence_accepted  \n",
       "0        accepted             [1]            [C]              True  \n",
       "1       submitted             [3]            [D]             False  \n",
       "2       submitted             [3]            [D]             False  \n",
       "3                                                              NaN  \n",
       "3       submitted             [4]            [D]             False  "
      ]
     },
     "execution_count": 34,
     "metadata": {},
     "output_type": "execute_result"
    }
   ],
   "source": [
    "not_normalized_quer_add_evidence_df = evidence_analysis(not_normalized_quer_add_evidence_df, VariantNormType.UNABLE_TO_NORMALIZE)\n",
    "not_normalized_quer_add_evidence_df.head()"
   ]
  },
  {
   "cell_type": "markdown",
   "metadata": {},
   "source": [
    "## Impact\n",
    "molecular profile score"
   ]
  },
  {
   "cell_type": "markdown",
   "metadata": {},
   "source": [
    "### Import molecular profile id"
   ]
  },
  {
   "cell_type": "code",
   "execution_count": 35,
   "metadata": {},
   "outputs": [
    {
     "data": {
      "text/html": [
       "<div>\n",
       "<style scoped>\n",
       "    .dataframe tbody tr th:only-of-type {\n",
       "        vertical-align: middle;\n",
       "    }\n",
       "\n",
       "    .dataframe tbody tr th {\n",
       "        vertical-align: top;\n",
       "    }\n",
       "\n",
       "    .dataframe thead th {\n",
       "        text-align: right;\n",
       "    }\n",
       "</style>\n",
       "<table border=\"1\" class=\"dataframe\">\n",
       "  <thead>\n",
       "    <tr style=\"text-align: right;\">\n",
       "      <th></th>\n",
       "      <th>variant_id</th>\n",
       "      <th>query</th>\n",
       "      <th>query_type</th>\n",
       "      <th>variant_accepted</th>\n",
       "      <th>civic_variant_types</th>\n",
       "      <th>exception_raised</th>\n",
       "      <th>message</th>\n",
       "      <th>warnings</th>\n",
       "      <th>molecular_profile_id</th>\n",
       "    </tr>\n",
       "  </thead>\n",
       "  <tbody>\n",
       "    <tr>\n",
       "      <th>0</th>\n",
       "      <td>748</td>\n",
       "      <td>MLH1 *757L</td>\n",
       "      <td>protein</td>\n",
       "      <td>True</td>\n",
       "      <td>Stop Lost</td>\n",
       "      <td>False</td>\n",
       "      <td>unable to normalize</td>\n",
       "      <td>['Unable to tokenize: *757L']</td>\n",
       "      <td>[729]</td>\n",
       "    </tr>\n",
       "    <tr>\n",
       "      <th>1</th>\n",
       "      <td>3718</td>\n",
       "      <td>AR A748V</td>\n",
       "      <td>protein</td>\n",
       "      <td>False</td>\n",
       "      <td>Not provided</td>\n",
       "      <td>False</td>\n",
       "      <td>unable to normalize</td>\n",
       "      <td>['Unable to translate AR A748V']</td>\n",
       "      <td>[3586]</td>\n",
       "    </tr>\n",
       "    <tr>\n",
       "      <th>2</th>\n",
       "      <td>3725</td>\n",
       "      <td>AR A765T</td>\n",
       "      <td>protein</td>\n",
       "      <td>False</td>\n",
       "      <td>Not provided</td>\n",
       "      <td>False</td>\n",
       "      <td>unable to normalize</td>\n",
       "      <td>['Unable to translate AR A765T']</td>\n",
       "      <td>[3593]</td>\n",
       "    </tr>\n",
       "    <tr>\n",
       "      <th>3</th>\n",
       "      <td>4485</td>\n",
       "      <td>ERBB2 A775_G776ins YVMA</td>\n",
       "      <td>protein</td>\n",
       "      <td>False</td>\n",
       "      <td>Not provided</td>\n",
       "      <td>False</td>\n",
       "      <td>unable to normalize</td>\n",
       "      <td>['Unable to tokenize: A775_G776ins', 'Unable t...</td>\n",
       "      <td>[4463, 4472]</td>\n",
       "    </tr>\n",
       "    <tr>\n",
       "      <th>4</th>\n",
       "      <td>248</td>\n",
       "      <td>TERT C228T</td>\n",
       "      <td>protein</td>\n",
       "      <td>True</td>\n",
       "      <td>Regulatory Region Variant</td>\n",
       "      <td>False</td>\n",
       "      <td>unable to normalize</td>\n",
       "      <td>['Unable to translate TERT C228T']</td>\n",
       "      <td>[244]</td>\n",
       "    </tr>\n",
       "  </tbody>\n",
       "</table>\n",
       "</div>"
      ],
      "text/plain": [
       "   variant_id                    query query_type  variant_accepted  \\\n",
       "0         748               MLH1 *757L    protein              True   \n",
       "1        3718                 AR A748V    protein             False   \n",
       "2        3725                 AR A765T    protein             False   \n",
       "3        4485  ERBB2 A775_G776ins YVMA    protein             False   \n",
       "4         248               TERT C228T    protein              True   \n",
       "\n",
       "         civic_variant_types  exception_raised              message  \\\n",
       "0                  Stop Lost             False  unable to normalize   \n",
       "1               Not provided             False  unable to normalize   \n",
       "2               Not provided             False  unable to normalize   \n",
       "3               Not provided             False  unable to normalize   \n",
       "4  Regulatory Region Variant             False  unable to normalize   \n",
       "\n",
       "                                            warnings molecular_profile_id  \n",
       "0                      ['Unable to tokenize: *757L']                [729]  \n",
       "1                   ['Unable to translate AR A748V']               [3586]  \n",
       "2                   ['Unable to translate AR A765T']               [3593]  \n",
       "3  ['Unable to tokenize: A775_G776ins', 'Unable t...         [4463, 4472]  \n",
       "4                 ['Unable to translate TERT C228T']                [244]  "
      ]
     },
     "execution_count": 35,
     "metadata": {},
     "output_type": "execute_result"
    }
   ],
   "source": [
    "not_normalized_queries_add_molprof_df = transform_df_mp_id(not_normalized_queries_df)\n",
    "not_normalized_queries_add_molprof_df.head()"
   ]
  },
  {
   "cell_type": "markdown",
   "metadata": {},
   "source": [
    "### Import molecular profile scores"
   ]
  },
  {
   "cell_type": "code",
   "execution_count": 36,
   "metadata": {},
   "outputs": [
    {
     "data": {
      "text/html": [
       "<div>\n",
       "<style scoped>\n",
       "    .dataframe tbody tr th:only-of-type {\n",
       "        vertical-align: middle;\n",
       "    }\n",
       "\n",
       "    .dataframe tbody tr th {\n",
       "        vertical-align: top;\n",
       "    }\n",
       "\n",
       "    .dataframe thead th {\n",
       "        text-align: right;\n",
       "    }\n",
       "</style>\n",
       "<table border=\"1\" class=\"dataframe\">\n",
       "  <thead>\n",
       "    <tr style=\"text-align: right;\">\n",
       "      <th></th>\n",
       "      <th>variant_id</th>\n",
       "      <th>query</th>\n",
       "      <th>query_type</th>\n",
       "      <th>variant_accepted</th>\n",
       "      <th>civic_variant_types</th>\n",
       "      <th>exception_raised</th>\n",
       "      <th>message</th>\n",
       "      <th>warnings</th>\n",
       "      <th>molecular_profile_id</th>\n",
       "      <th>molecular_profile_score</th>\n",
       "    </tr>\n",
       "  </thead>\n",
       "  <tbody>\n",
       "    <tr>\n",
       "      <th>0</th>\n",
       "      <td>748</td>\n",
       "      <td>MLH1 *757L</td>\n",
       "      <td>protein</td>\n",
       "      <td>True</td>\n",
       "      <td>Stop Lost</td>\n",
       "      <td>False</td>\n",
       "      <td>unable to normalize</td>\n",
       "      <td>['Unable to tokenize: *757L']</td>\n",
       "      <td>[729]</td>\n",
       "      <td>[2.5]</td>\n",
       "    </tr>\n",
       "    <tr>\n",
       "      <th>1</th>\n",
       "      <td>3718</td>\n",
       "      <td>AR A748V</td>\n",
       "      <td>protein</td>\n",
       "      <td>False</td>\n",
       "      <td>Not provided</td>\n",
       "      <td>False</td>\n",
       "      <td>unable to normalize</td>\n",
       "      <td>['Unable to translate AR A748V']</td>\n",
       "      <td>[3586]</td>\n",
       "      <td>[0.0]</td>\n",
       "    </tr>\n",
       "    <tr>\n",
       "      <th>2</th>\n",
       "      <td>3725</td>\n",
       "      <td>AR A765T</td>\n",
       "      <td>protein</td>\n",
       "      <td>False</td>\n",
       "      <td>Not provided</td>\n",
       "      <td>False</td>\n",
       "      <td>unable to normalize</td>\n",
       "      <td>['Unable to translate AR A765T']</td>\n",
       "      <td>[3593]</td>\n",
       "      <td>[0.0]</td>\n",
       "    </tr>\n",
       "    <tr>\n",
       "      <th>3</th>\n",
       "      <td>4485</td>\n",
       "      <td>ERBB2 A775_G776ins YVMA</td>\n",
       "      <td>protein</td>\n",
       "      <td>False</td>\n",
       "      <td>Not provided</td>\n",
       "      <td>False</td>\n",
       "      <td>unable to normalize</td>\n",
       "      <td>['Unable to tokenize: A775_G776ins', 'Unable t...</td>\n",
       "      <td>[4463, 4472]</td>\n",
       "      <td>[0.0]</td>\n",
       "    </tr>\n",
       "    <tr>\n",
       "      <th>4</th>\n",
       "      <td>248</td>\n",
       "      <td>TERT C228T</td>\n",
       "      <td>protein</td>\n",
       "      <td>True</td>\n",
       "      <td>Regulatory Region Variant</td>\n",
       "      <td>False</td>\n",
       "      <td>unable to normalize</td>\n",
       "      <td>['Unable to translate TERT C228T']</td>\n",
       "      <td>[244]</td>\n",
       "      <td>[40.0]</td>\n",
       "    </tr>\n",
       "  </tbody>\n",
       "</table>\n",
       "</div>"
      ],
      "text/plain": [
       "   variant_id                    query query_type  variant_accepted  \\\n",
       "0         748               MLH1 *757L    protein              True   \n",
       "1        3718                 AR A748V    protein             False   \n",
       "2        3725                 AR A765T    protein             False   \n",
       "3        4485  ERBB2 A775_G776ins YVMA    protein             False   \n",
       "4         248               TERT C228T    protein              True   \n",
       "\n",
       "         civic_variant_types  exception_raised              message  \\\n",
       "0                  Stop Lost             False  unable to normalize   \n",
       "1               Not provided             False  unable to normalize   \n",
       "2               Not provided             False  unable to normalize   \n",
       "3               Not provided             False  unable to normalize   \n",
       "4  Regulatory Region Variant             False  unable to normalize   \n",
       "\n",
       "                                            warnings molecular_profile_id  \\\n",
       "0                      ['Unable to tokenize: *757L']                [729]   \n",
       "1                   ['Unable to translate AR A748V']               [3586]   \n",
       "2                   ['Unable to translate AR A765T']               [3593]   \n",
       "3  ['Unable to tokenize: A775_G776ins', 'Unable t...         [4463, 4472]   \n",
       "4                 ['Unable to translate TERT C228T']                [244]   \n",
       "\n",
       "  molecular_profile_score  \n",
       "0                   [2.5]  \n",
       "1                   [0.0]  \n",
       "2                   [0.0]  \n",
       "3                   [0.0]  \n",
       "4                  [40.0]  "
      ]
     },
     "execution_count": 36,
     "metadata": {},
     "output_type": "execute_result"
    }
   ],
   "source": [
    "not_normalized_queries_add_molprof_df = transform_df_mp_score(not_normalized_queries_add_molprof_df)\n",
    "not_normalized_queries_add_molprof_df.head()"
   ]
  },
  {
   "cell_type": "code",
   "execution_count": 37,
   "metadata": {},
   "outputs": [
    {
     "data": {
      "text/html": [
       "<div>\n",
       "<style scoped>\n",
       "    .dataframe tbody tr th:only-of-type {\n",
       "        vertical-align: middle;\n",
       "    }\n",
       "\n",
       "    .dataframe tbody tr th {\n",
       "        vertical-align: top;\n",
       "    }\n",
       "\n",
       "    .dataframe thead th {\n",
       "        text-align: right;\n",
       "    }\n",
       "</style>\n",
       "<table border=\"1\" class=\"dataframe\">\n",
       "  <thead>\n",
       "    <tr style=\"text-align: right;\">\n",
       "      <th></th>\n",
       "      <th>variant_id</th>\n",
       "      <th>query</th>\n",
       "      <th>query_type</th>\n",
       "      <th>variant_accepted</th>\n",
       "      <th>civic_variant_types</th>\n",
       "      <th>exception_raised</th>\n",
       "      <th>message</th>\n",
       "      <th>warnings</th>\n",
       "      <th>molecular_profile_id</th>\n",
       "      <th>molecular_profile_score</th>\n",
       "      <th>molecular_profile_score_sum</th>\n",
       "    </tr>\n",
       "  </thead>\n",
       "  <tbody>\n",
       "    <tr>\n",
       "      <th>0</th>\n",
       "      <td>748</td>\n",
       "      <td>MLH1 *757L</td>\n",
       "      <td>protein</td>\n",
       "      <td>True</td>\n",
       "      <td>Stop Lost</td>\n",
       "      <td>False</td>\n",
       "      <td>unable to normalize</td>\n",
       "      <td>['Unable to tokenize: *757L']</td>\n",
       "      <td>[729]</td>\n",
       "      <td>[2.5]</td>\n",
       "      <td>2.5</td>\n",
       "    </tr>\n",
       "    <tr>\n",
       "      <th>1</th>\n",
       "      <td>3718</td>\n",
       "      <td>AR A748V</td>\n",
       "      <td>protein</td>\n",
       "      <td>False</td>\n",
       "      <td>Not provided</td>\n",
       "      <td>False</td>\n",
       "      <td>unable to normalize</td>\n",
       "      <td>['Unable to translate AR A748V']</td>\n",
       "      <td>[3586]</td>\n",
       "      <td>[0.0]</td>\n",
       "      <td>0.0</td>\n",
       "    </tr>\n",
       "    <tr>\n",
       "      <th>2</th>\n",
       "      <td>3725</td>\n",
       "      <td>AR A765T</td>\n",
       "      <td>protein</td>\n",
       "      <td>False</td>\n",
       "      <td>Not provided</td>\n",
       "      <td>False</td>\n",
       "      <td>unable to normalize</td>\n",
       "      <td>['Unable to translate AR A765T']</td>\n",
       "      <td>[3593]</td>\n",
       "      <td>[0.0]</td>\n",
       "      <td>0.0</td>\n",
       "    </tr>\n",
       "    <tr>\n",
       "      <th>3</th>\n",
       "      <td>4485</td>\n",
       "      <td>ERBB2 A775_G776ins YVMA</td>\n",
       "      <td>protein</td>\n",
       "      <td>False</td>\n",
       "      <td>Not provided</td>\n",
       "      <td>False</td>\n",
       "      <td>unable to normalize</td>\n",
       "      <td>['Unable to tokenize: A775_G776ins', 'Unable t...</td>\n",
       "      <td>[4463, 4472]</td>\n",
       "      <td>[0.0]</td>\n",
       "      <td>0.0</td>\n",
       "    </tr>\n",
       "    <tr>\n",
       "      <th>4</th>\n",
       "      <td>248</td>\n",
       "      <td>TERT C228T</td>\n",
       "      <td>protein</td>\n",
       "      <td>True</td>\n",
       "      <td>Regulatory Region Variant</td>\n",
       "      <td>False</td>\n",
       "      <td>unable to normalize</td>\n",
       "      <td>['Unable to translate TERT C228T']</td>\n",
       "      <td>[244]</td>\n",
       "      <td>[40.0]</td>\n",
       "      <td>40.0</td>\n",
       "    </tr>\n",
       "  </tbody>\n",
       "</table>\n",
       "</div>"
      ],
      "text/plain": [
       "   variant_id                    query query_type  variant_accepted  \\\n",
       "0         748               MLH1 *757L    protein              True   \n",
       "1        3718                 AR A748V    protein             False   \n",
       "2        3725                 AR A765T    protein             False   \n",
       "3        4485  ERBB2 A775_G776ins YVMA    protein             False   \n",
       "4         248               TERT C228T    protein              True   \n",
       "\n",
       "         civic_variant_types  exception_raised              message  \\\n",
       "0                  Stop Lost             False  unable to normalize   \n",
       "1               Not provided             False  unable to normalize   \n",
       "2               Not provided             False  unable to normalize   \n",
       "3               Not provided             False  unable to normalize   \n",
       "4  Regulatory Region Variant             False  unable to normalize   \n",
       "\n",
       "                                            warnings molecular_profile_id  \\\n",
       "0                      ['Unable to tokenize: *757L']                [729]   \n",
       "1                   ['Unable to translate AR A748V']               [3586]   \n",
       "2                   ['Unable to translate AR A765T']               [3593]   \n",
       "3  ['Unable to tokenize: A775_G776ins', 'Unable t...         [4463, 4472]   \n",
       "4                 ['Unable to translate TERT C228T']                [244]   \n",
       "\n",
       "  molecular_profile_score  molecular_profile_score_sum  \n",
       "0                   [2.5]                          2.5  \n",
       "1                   [0.0]                          0.0  \n",
       "2                   [0.0]                          0.0  \n",
       "3                   [0.0]                          0.0  \n",
       "4                  [40.0]                         40.0  "
      ]
     },
     "execution_count": 37,
     "metadata": {},
     "output_type": "execute_result"
    }
   ],
   "source": [
    "not_normalized_queries_add_molprof_df = transform_df_mp_score_sum(not_normalized_queries_add_molprof_df)\n",
    "not_normalized_queries_add_molprof_df.head()"
   ]
  },
  {
   "cell_type": "markdown",
   "metadata": {},
   "source": [
    "# Analysis of Not Supported Variants"
   ]
  },
  {
   "cell_type": "markdown",
   "metadata": {},
   "source": [
    "### List of Not Supported Variant ID's"
   ]
  },
  {
   "cell_type": "code",
   "execution_count": 38,
   "metadata": {},
   "outputs": [
    {
     "data": {
      "text/html": [
       "<div>\n",
       "<style scoped>\n",
       "    .dataframe tbody tr th:only-of-type {\n",
       "        vertical-align: middle;\n",
       "    }\n",
       "\n",
       "    .dataframe tbody tr th {\n",
       "        vertical-align: top;\n",
       "    }\n",
       "\n",
       "    .dataframe thead th {\n",
       "        text-align: right;\n",
       "    }\n",
       "</style>\n",
       "<table border=\"1\" class=\"dataframe\">\n",
       "  <thead>\n",
       "    <tr style=\"text-align: right;\">\n",
       "      <th></th>\n",
       "      <th>variant_id</th>\n",
       "      <th>gene_name</th>\n",
       "      <th>variant_name</th>\n",
       "      <th>civic_variant_types</th>\n",
       "      <th>category</th>\n",
       "      <th>variant_accepted</th>\n",
       "    </tr>\n",
       "  </thead>\n",
       "  <tbody>\n",
       "    <tr>\n",
       "      <th>0</th>\n",
       "      <td>4170</td>\n",
       "      <td>VHL</td>\n",
       "      <td>NaN</td>\n",
       "      <td>Not provided</td>\n",
       "      <td>Transcript Variants</td>\n",
       "      <td>False</td>\n",
       "    </tr>\n",
       "    <tr>\n",
       "      <th>1</th>\n",
       "      <td>4417</td>\n",
       "      <td>ALK</td>\n",
       "      <td>FBXO11::ALK</td>\n",
       "      <td>Not provided</td>\n",
       "      <td>Fusion Variants</td>\n",
       "      <td>False</td>\n",
       "    </tr>\n",
       "    <tr>\n",
       "      <th>2</th>\n",
       "      <td>4214</td>\n",
       "      <td>VHL</td>\n",
       "      <td>NaN</td>\n",
       "      <td>Not provided</td>\n",
       "      <td>Transcript Variants</td>\n",
       "      <td>False</td>\n",
       "    </tr>\n",
       "    <tr>\n",
       "      <th>3</th>\n",
       "      <td>4216</td>\n",
       "      <td>VHL</td>\n",
       "      <td>NaN</td>\n",
       "      <td>Not provided</td>\n",
       "      <td>Transcript Variants</td>\n",
       "      <td>False</td>\n",
       "    </tr>\n",
       "    <tr>\n",
       "      <th>4</th>\n",
       "      <td>4278</td>\n",
       "      <td>VHL</td>\n",
       "      <td>NaN</td>\n",
       "      <td>Not provided</td>\n",
       "      <td>Transcript Variants</td>\n",
       "      <td>False</td>\n",
       "    </tr>\n",
       "  </tbody>\n",
       "</table>\n",
       "</div>"
      ],
      "text/plain": [
       "   variant_id gene_name  variant_name civic_variant_types  \\\n",
       "0        4170       VHL           NaN        Not provided   \n",
       "1        4417       ALK   FBXO11::ALK        Not provided   \n",
       "2        4214       VHL           NaN        Not provided   \n",
       "3        4216       VHL           NaN        Not provided   \n",
       "4        4278       VHL           NaN        Not provided   \n",
       "\n",
       "              category  variant_accepted  \n",
       "0  Transcript Variants             False  \n",
       "1      Fusion Variants             False  \n",
       "2  Transcript Variants             False  \n",
       "3  Transcript Variants             False  \n",
       "4  Transcript Variants             False  "
      ]
     },
     "execution_count": 38,
     "metadata": {},
     "output_type": "execute_result"
    }
   ],
   "source": [
    "not_supported_queries_df = pd.read_csv(\"../variation_analysis/not_supported_variants.csv\", sep=\"\\t\")\n",
    "not_supported_queries_df.head()"
   ]
  },
  {
   "cell_type": "markdown",
   "metadata": {},
   "source": [
    "## Variant Analysis"
   ]
  },
  {
   "cell_type": "code",
   "execution_count": 39,
   "metadata": {},
   "outputs": [
    {
     "name": "stdout",
     "output_type": "stream",
     "text": [
      "\n",
      "Number of Not Supported Variants in CIViC: 1563 / 3582\n",
      "Percentage of Not Supported Variants in CIViC: 43.63%\n",
      "\n",
      "Number of accepted Not Supported Variants: 790 / 1563\n",
      "Percentage of accepted Not Supported Variants: 50.54%\n",
      "\n",
      "Number of not accepted Not Supported Variants: 773 / 1563\n",
      "Percentage of not accepted Not Supported Variants: 49.46%\n"
     ]
    },
    {
     "data": {
      "text/html": [
       "<div>\n",
       "<style scoped>\n",
       "    .dataframe tbody tr th:only-of-type {\n",
       "        vertical-align: middle;\n",
       "    }\n",
       "\n",
       "    .dataframe tbody tr th {\n",
       "        vertical-align: top;\n",
       "    }\n",
       "\n",
       "    .dataframe thead th {\n",
       "        text-align: right;\n",
       "    }\n",
       "</style>\n",
       "<table border=\"1\" class=\"dataframe\">\n",
       "  <thead>\n",
       "    <tr style=\"text-align: right;\">\n",
       "      <th></th>\n",
       "      <th>variant_id</th>\n",
       "      <th>gene_name</th>\n",
       "      <th>variant_name</th>\n",
       "      <th>civic_variant_types</th>\n",
       "      <th>category</th>\n",
       "      <th>variant_accepted</th>\n",
       "    </tr>\n",
       "  </thead>\n",
       "  <tbody>\n",
       "    <tr>\n",
       "      <th>0</th>\n",
       "      <td>4170</td>\n",
       "      <td>VHL</td>\n",
       "      <td>NaN</td>\n",
       "      <td>Not provided</td>\n",
       "      <td>Transcript Variants</td>\n",
       "      <td>False</td>\n",
       "    </tr>\n",
       "    <tr>\n",
       "      <th>1</th>\n",
       "      <td>4417</td>\n",
       "      <td>ALK</td>\n",
       "      <td>FBXO11::ALK</td>\n",
       "      <td>Not provided</td>\n",
       "      <td>Fusion Variants</td>\n",
       "      <td>False</td>\n",
       "    </tr>\n",
       "    <tr>\n",
       "      <th>2</th>\n",
       "      <td>4214</td>\n",
       "      <td>VHL</td>\n",
       "      <td>NaN</td>\n",
       "      <td>Not provided</td>\n",
       "      <td>Transcript Variants</td>\n",
       "      <td>False</td>\n",
       "    </tr>\n",
       "    <tr>\n",
       "      <th>3</th>\n",
       "      <td>4216</td>\n",
       "      <td>VHL</td>\n",
       "      <td>NaN</td>\n",
       "      <td>Not provided</td>\n",
       "      <td>Transcript Variants</td>\n",
       "      <td>False</td>\n",
       "    </tr>\n",
       "    <tr>\n",
       "      <th>4</th>\n",
       "      <td>4278</td>\n",
       "      <td>VHL</td>\n",
       "      <td>NaN</td>\n",
       "      <td>Not provided</td>\n",
       "      <td>Transcript Variants</td>\n",
       "      <td>False</td>\n",
       "    </tr>\n",
       "  </tbody>\n",
       "</table>\n",
       "</div>"
      ],
      "text/plain": [
       "   variant_id gene_name  variant_name civic_variant_types  \\\n",
       "0        4170       VHL           NaN        Not provided   \n",
       "1        4417       ALK   FBXO11::ALK        Not provided   \n",
       "2        4214       VHL           NaN        Not provided   \n",
       "3        4216       VHL           NaN        Not provided   \n",
       "4        4278       VHL           NaN        Not provided   \n",
       "\n",
       "              category  variant_accepted  \n",
       "0  Transcript Variants             False  \n",
       "1      Fusion Variants             False  \n",
       "2  Transcript Variants             False  \n",
       "3  Transcript Variants             False  \n",
       "4  Transcript Variants             False  "
      ]
     },
     "execution_count": 39,
     "metadata": {},
     "output_type": "execute_result"
    }
   ],
   "source": [
    "not_supported_queries_df = variant_analysis(not_supported_queries_df, VariantNormType.NOT_SUPPORTED)\n",
    "not_supported_queries_df.head()"
   ]
  },
  {
   "cell_type": "markdown",
   "metadata": {},
   "source": [
    "### Not Supported Variant Analysis by Subcategory "
   ]
  },
  {
   "cell_type": "code",
   "execution_count": 40,
   "metadata": {},
   "outputs": [],
   "source": [
    "not_supported_variant_analysis_summary = {\n",
    "    \"Category\": VARIANT_CATEGORY_VALUES,\n",
    "    \"Fraction of Not Supported Variant Items\": [],\n",
    "    \"Percent of Not Supported Variant Items\": [],\n",
    "    \"Fraction of all CIViC Variant Items\": [],\n",
    "    \"Percent of all CIViC Variant Items\": [],\n",
    "    \"Fraction of Accepted Variant Items\": [],\n",
    "    \"Percent of Accepted Variant Items\": [],\n",
    "    \"Fraction of Not Accepted Variant Items\": [],\n",
    "    \"Percent of Not Accepted Variant Items\": []\n",
    "}"
   ]
  },
  {
   "cell_type": "code",
   "execution_count": 41,
   "metadata": {},
   "outputs": [],
   "source": [
    "not_supported_variant_categories_summary_data = dict()\n",
    "total_number_unique_not_supported_variants = len(set(not_supported_queries_df.variant_id))\n",
    "\n",
    "for category in VARIANT_CATEGORY_VALUES:  # These are not supported categories\n",
    "    not_supported_variant_categories_summary_data[category] = {}\n",
    "    category_df = not_supported_queries_df[not_supported_queries_df.category == category]\n",
    "\n",
    "    # Count\n",
    "    number_unique_not_supported_category_variants = len(set(category_df.variant_id))\n",
    "    not_supported_variant_categories_summary_data[category][\"number_unique_not_supported_category_variants\"] = number_unique_not_supported_category_variants\n",
    "\n",
    "    # Fraction\n",
    "    fraction_not_supported_category_variant_of_civic = f\"{number_unique_not_supported_category_variants} / {total_number_variants}\"\n",
    "    not_supported_variant_categories_summary_data[category][\"fraction_not_supported_category_variant_of_civic\"] = fraction_not_supported_category_variant_of_civic\n",
    "\n",
    "    # Percent\n",
    "    percent_not_supported_category_variant_of_civic = f\"{number_unique_not_supported_category_variants / total_number_variants * 100:.2f}%\"\n",
    "    not_supported_variant_categories_summary_data[category][\"percent_not_supported_category_variant_of_civic\"] = percent_not_supported_category_variant_of_civic\n",
    "\n",
    "    # Not supported fraction\n",
    "    fraction_not_supported_category_variant_of_total_not_supported = f\"{number_unique_not_supported_category_variants} / {total_number_unique_not_supported_variants}\"\n",
    "    not_supported_variant_categories_summary_data[category][\"fraction_not_supported_category_variant_of_total_not_supported\"] = fraction_not_supported_category_variant_of_total_not_supported\n",
    "\n",
    "    # Not supported percent\n",
    "    percent_not_supported_category_variant_of_total_not_supported = f\"{number_unique_not_supported_category_variants / total_number_unique_not_supported_variants * 100:.2f}%\"\n",
    "    not_supported_variant_categories_summary_data[category][\"percent_not_supported_category_variant_of_total_not_supported\"] = percent_not_supported_category_variant_of_total_not_supported\n",
    "\n",
    "    # Accepted fraction\n",
    "    number_accepted_not_supported_category_variants = category_df.variant_accepted.sum()\n",
    "    fraction_accepted_not_supported_category_variants = f\"{number_accepted_not_supported_category_variants} / {number_unique_not_supported_category_variants}\"\n",
    "    not_supported_variant_categories_summary_data[category][\"fraction_accepted_not_supported_category_variants\"] = fraction_accepted_not_supported_category_variants\n",
    "\n",
    "    # Accepted percent\n",
    "    percentage_accepted_not_supported_category_variants = f\"{number_accepted_not_supported_category_variants / number_unique_not_supported_category_variants * 100:.2f}%\"\n",
    "    not_supported_variant_categories_summary_data[category][\"percentage_accepted_not_supported_category_variants\"] = percentage_accepted_not_supported_category_variants\n",
    "\n",
    "    # Not accepted fraction\n",
    "    number_not_accepted_not_supported_category_variants = len(category_df) - number_accepted_not_supported_category_variants\n",
    "    fraction_not_accepted_not_supported_category_variants = f\" {number_not_accepted_not_supported_category_variants} / {number_unique_not_supported_category_variants}\"\n",
    "    not_supported_variant_categories_summary_data[category][\"fraction_not_accepted_not_supported_category_variants\"] = fraction_not_accepted_not_supported_category_variants\n",
    "\n",
    "    # Not accepted percent\n",
    "    percentage_not_accepted_not_supported_category_variants = f\"{number_not_accepted_not_supported_category_variants / number_unique_not_supported_category_variants * 100:.2f}%\"\n",
    "    not_supported_variant_categories_summary_data[category][\"percentage_not_accepted_not_supported_category_variants\"] = percentage_not_accepted_not_supported_category_variants\n",
    "\n",
    "    not_supported_variant_analysis_summary[\"Fraction of all CIViC Variant Items\"].append(fraction_not_supported_category_variant_of_civic)\n",
    "    not_supported_variant_analysis_summary[\"Percent of all CIViC Variant Items\"].append(percent_not_supported_category_variant_of_civic)\n",
    "    not_supported_variant_analysis_summary[\"Fraction of Not Supported Variant Items\"].append(fraction_not_supported_category_variant_of_total_not_supported)\n",
    "    not_supported_variant_analysis_summary[\"Percent of Not Supported Variant Items\"].append(percent_not_supported_category_variant_of_total_not_supported)\n",
    "    not_supported_variant_analysis_summary[\"Fraction of Accepted Variant Items\"].append(fraction_accepted_not_supported_category_variants)\n",
    "    not_supported_variant_analysis_summary[\"Percent of Accepted Variant Items\"].append(percentage_accepted_not_supported_category_variants)\n",
    "    not_supported_variant_analysis_summary[\"Fraction of Not Accepted Variant Items\"].append(fraction_not_accepted_not_supported_category_variants)\n",
    "    not_supported_variant_analysis_summary[\"Percent of Not Accepted Variant Items\"].append(percentage_not_accepted_not_supported_category_variants)"
   ]
  },
  {
   "attachments": {},
   "cell_type": "markdown",
   "metadata": {},
   "source": [
    "## Transform df for evidence analysis"
   ]
  },
  {
   "cell_type": "code",
   "execution_count": 42,
   "metadata": {},
   "outputs": [
    {
     "data": {
      "text/html": [
       "<div>\n",
       "<style scoped>\n",
       "    .dataframe tbody tr th:only-of-type {\n",
       "        vertical-align: middle;\n",
       "    }\n",
       "\n",
       "    .dataframe tbody tr th {\n",
       "        vertical-align: top;\n",
       "    }\n",
       "\n",
       "    .dataframe thead th {\n",
       "        text-align: right;\n",
       "    }\n",
       "</style>\n",
       "<table border=\"1\" class=\"dataframe\">\n",
       "  <thead>\n",
       "    <tr style=\"text-align: right;\">\n",
       "      <th></th>\n",
       "      <th>variant_id</th>\n",
       "      <th>gene_name</th>\n",
       "      <th>variant_name</th>\n",
       "      <th>civic_variant_types</th>\n",
       "      <th>category</th>\n",
       "      <th>variant_accepted</th>\n",
       "      <th>evidence_id</th>\n",
       "    </tr>\n",
       "  </thead>\n",
       "  <tbody>\n",
       "    <tr>\n",
       "      <th>0</th>\n",
       "      <td>4170</td>\n",
       "      <td>VHL</td>\n",
       "      <td>NaN</td>\n",
       "      <td>Not provided</td>\n",
       "      <td>Transcript Variants</td>\n",
       "      <td>False</td>\n",
       "      <td>10647</td>\n",
       "    </tr>\n",
       "    <tr>\n",
       "      <th>1</th>\n",
       "      <td>4417</td>\n",
       "      <td>ALK</td>\n",
       "      <td>FBXO11::ALK</td>\n",
       "      <td>Not provided</td>\n",
       "      <td>Fusion Variants</td>\n",
       "      <td>False</td>\n",
       "      <td>7428</td>\n",
       "    </tr>\n",
       "    <tr>\n",
       "      <th>2</th>\n",
       "      <td>4214</td>\n",
       "      <td>VHL</td>\n",
       "      <td>NaN</td>\n",
       "      <td>Not provided</td>\n",
       "      <td>Transcript Variants</td>\n",
       "      <td>False</td>\n",
       "      <td>10752</td>\n",
       "    </tr>\n",
       "    <tr>\n",
       "      <th>3</th>\n",
       "      <td>4216</td>\n",
       "      <td>VHL</td>\n",
       "      <td>NaN</td>\n",
       "      <td>Not provided</td>\n",
       "      <td>Transcript Variants</td>\n",
       "      <td>False</td>\n",
       "      <td>10754</td>\n",
       "    </tr>\n",
       "    <tr>\n",
       "      <th>4</th>\n",
       "      <td>4278</td>\n",
       "      <td>VHL</td>\n",
       "      <td>NaN</td>\n",
       "      <td>Not provided</td>\n",
       "      <td>Transcript Variants</td>\n",
       "      <td>False</td>\n",
       "      <td>10958</td>\n",
       "    </tr>\n",
       "  </tbody>\n",
       "</table>\n",
       "</div>"
      ],
      "text/plain": [
       "   variant_id gene_name  variant_name civic_variant_types  \\\n",
       "0        4170       VHL           NaN        Not provided   \n",
       "1        4417       ALK   FBXO11::ALK        Not provided   \n",
       "2        4214       VHL           NaN        Not provided   \n",
       "3        4216       VHL           NaN        Not provided   \n",
       "4        4278       VHL           NaN        Not provided   \n",
       "\n",
       "              category  variant_accepted evidence_id  \n",
       "0  Transcript Variants             False       10647  \n",
       "1      Fusion Variants             False        7428  \n",
       "2  Transcript Variants             False       10752  \n",
       "3  Transcript Variants             False       10754  \n",
       "4  Transcript Variants             False       10958  "
      ]
     },
     "execution_count": 42,
     "metadata": {},
     "output_type": "execute_result"
    }
   ],
   "source": [
    "not_supported_variants_add_evidence_df = transform_df_evidence_ids(not_supported_queries_df)\n",
    "not_supported_variants_add_evidence_df.head()"
   ]
  },
  {
   "cell_type": "code",
   "execution_count": 43,
   "metadata": {},
   "outputs": [
    {
     "data": {
      "text/html": [
       "<div>\n",
       "<style scoped>\n",
       "    .dataframe tbody tr th:only-of-type {\n",
       "        vertical-align: middle;\n",
       "    }\n",
       "\n",
       "    .dataframe tbody tr th {\n",
       "        vertical-align: top;\n",
       "    }\n",
       "\n",
       "    .dataframe thead th {\n",
       "        text-align: right;\n",
       "    }\n",
       "</style>\n",
       "<table border=\"1\" class=\"dataframe\">\n",
       "  <thead>\n",
       "    <tr style=\"text-align: right;\">\n",
       "      <th></th>\n",
       "      <th>variant_id</th>\n",
       "      <th>gene_name</th>\n",
       "      <th>variant_name</th>\n",
       "      <th>civic_variant_types</th>\n",
       "      <th>category</th>\n",
       "      <th>variant_accepted</th>\n",
       "      <th>evidence_id</th>\n",
       "      <th>evidence_status</th>\n",
       "      <th>evidence_rating</th>\n",
       "      <th>evidence_level</th>\n",
       "    </tr>\n",
       "  </thead>\n",
       "  <tbody>\n",
       "    <tr>\n",
       "      <th>0</th>\n",
       "      <td>4170</td>\n",
       "      <td>VHL</td>\n",
       "      <td>NaN</td>\n",
       "      <td>Not provided</td>\n",
       "      <td>Transcript Variants</td>\n",
       "      <td>False</td>\n",
       "      <td>10647</td>\n",
       "      <td>submitted</td>\n",
       "      <td>[2]</td>\n",
       "      <td>[C]</td>\n",
       "    </tr>\n",
       "    <tr>\n",
       "      <th>1</th>\n",
       "      <td>4417</td>\n",
       "      <td>ALK</td>\n",
       "      <td>FBXO11::ALK</td>\n",
       "      <td>Not provided</td>\n",
       "      <td>Fusion Variants</td>\n",
       "      <td>False</td>\n",
       "      <td>7428</td>\n",
       "      <td>submitted</td>\n",
       "      <td>[3]</td>\n",
       "      <td>[C]</td>\n",
       "    </tr>\n",
       "    <tr>\n",
       "      <th>2</th>\n",
       "      <td>4214</td>\n",
       "      <td>VHL</td>\n",
       "      <td>NaN</td>\n",
       "      <td>Not provided</td>\n",
       "      <td>Transcript Variants</td>\n",
       "      <td>False</td>\n",
       "      <td>10752</td>\n",
       "      <td>submitted</td>\n",
       "      <td>[3]</td>\n",
       "      <td>[C]</td>\n",
       "    </tr>\n",
       "    <tr>\n",
       "      <th>3</th>\n",
       "      <td>4216</td>\n",
       "      <td>VHL</td>\n",
       "      <td>NaN</td>\n",
       "      <td>Not provided</td>\n",
       "      <td>Transcript Variants</td>\n",
       "      <td>False</td>\n",
       "      <td>10754</td>\n",
       "      <td>submitted</td>\n",
       "      <td>[3]</td>\n",
       "      <td>[C]</td>\n",
       "    </tr>\n",
       "    <tr>\n",
       "      <th>4</th>\n",
       "      <td>4278</td>\n",
       "      <td>VHL</td>\n",
       "      <td>NaN</td>\n",
       "      <td>Not provided</td>\n",
       "      <td>Transcript Variants</td>\n",
       "      <td>False</td>\n",
       "      <td>10958</td>\n",
       "      <td>submitted</td>\n",
       "      <td>[3]</td>\n",
       "      <td>[C]</td>\n",
       "    </tr>\n",
       "  </tbody>\n",
       "</table>\n",
       "</div>"
      ],
      "text/plain": [
       "   variant_id gene_name  variant_name civic_variant_types  \\\n",
       "0        4170       VHL           NaN        Not provided   \n",
       "1        4417       ALK   FBXO11::ALK        Not provided   \n",
       "2        4214       VHL           NaN        Not provided   \n",
       "3        4216       VHL           NaN        Not provided   \n",
       "4        4278       VHL           NaN        Not provided   \n",
       "\n",
       "              category  variant_accepted evidence_id evidence_status  \\\n",
       "0  Transcript Variants             False       10647       submitted   \n",
       "1      Fusion Variants             False        7428       submitted   \n",
       "2  Transcript Variants             False       10752       submitted   \n",
       "3  Transcript Variants             False       10754       submitted   \n",
       "4  Transcript Variants             False       10958       submitted   \n",
       "\n",
       "  evidence_rating evidence_level  \n",
       "0             [2]            [C]  \n",
       "1             [3]            [C]  \n",
       "2             [3]            [C]  \n",
       "3             [3]            [C]  \n",
       "4             [3]            [C]  "
      ]
     },
     "execution_count": 43,
     "metadata": {},
     "output_type": "execute_result"
    }
   ],
   "source": [
    "not_supported_variants_add_evidence_df = transform_df_evidence(not_supported_variants_add_evidence_df)\n",
    "not_supported_variants_add_evidence_df.head()"
   ]
  },
  {
   "cell_type": "markdown",
   "metadata": {},
   "source": [
    "## Evidence analysis"
   ]
  },
  {
   "cell_type": "code",
   "execution_count": 44,
   "metadata": {},
   "outputs": [
    {
     "name": "stdout",
     "output_type": "stream",
     "text": [
      "Number of Not Supported Variant Evidence items in CIViC: 4340 / 9920\n",
      "Percentage of Not Supported Variant Evidence items in CIViC: 43.75%\n",
      "\n",
      "Number of accepted Not Supported Variant Evidence items: 2227 / 4340\n",
      "Percentage of accepted Not Supported Variant Evidence items: 51.31%\n",
      "\n",
      "Number of submitted Not Supported Variant Evidence items: 2113 / 4340\n",
      "Percentage of not submitted Not Supported Variant Evidence items: 48.69%\n"
     ]
    },
    {
     "data": {
      "text/html": [
       "<div>\n",
       "<style scoped>\n",
       "    .dataframe tbody tr th:only-of-type {\n",
       "        vertical-align: middle;\n",
       "    }\n",
       "\n",
       "    .dataframe tbody tr th {\n",
       "        vertical-align: top;\n",
       "    }\n",
       "\n",
       "    .dataframe thead th {\n",
       "        text-align: right;\n",
       "    }\n",
       "</style>\n",
       "<table border=\"1\" class=\"dataframe\">\n",
       "  <thead>\n",
       "    <tr style=\"text-align: right;\">\n",
       "      <th></th>\n",
       "      <th>variant_id</th>\n",
       "      <th>gene_name</th>\n",
       "      <th>variant_name</th>\n",
       "      <th>civic_variant_types</th>\n",
       "      <th>category</th>\n",
       "      <th>variant_accepted</th>\n",
       "      <th>evidence_id</th>\n",
       "      <th>evidence_status</th>\n",
       "      <th>evidence_rating</th>\n",
       "      <th>evidence_level</th>\n",
       "      <th>evidence_accepted</th>\n",
       "    </tr>\n",
       "  </thead>\n",
       "  <tbody>\n",
       "    <tr>\n",
       "      <th>0</th>\n",
       "      <td>4170</td>\n",
       "      <td>VHL</td>\n",
       "      <td>NaN</td>\n",
       "      <td>Not provided</td>\n",
       "      <td>Transcript Variants</td>\n",
       "      <td>False</td>\n",
       "      <td>10647</td>\n",
       "      <td>submitted</td>\n",
       "      <td>[2]</td>\n",
       "      <td>[C]</td>\n",
       "      <td>False</td>\n",
       "    </tr>\n",
       "    <tr>\n",
       "      <th>1</th>\n",
       "      <td>4417</td>\n",
       "      <td>ALK</td>\n",
       "      <td>FBXO11::ALK</td>\n",
       "      <td>Not provided</td>\n",
       "      <td>Fusion Variants</td>\n",
       "      <td>False</td>\n",
       "      <td>7428</td>\n",
       "      <td>submitted</td>\n",
       "      <td>[3]</td>\n",
       "      <td>[C]</td>\n",
       "      <td>False</td>\n",
       "    </tr>\n",
       "    <tr>\n",
       "      <th>2</th>\n",
       "      <td>4214</td>\n",
       "      <td>VHL</td>\n",
       "      <td>NaN</td>\n",
       "      <td>Not provided</td>\n",
       "      <td>Transcript Variants</td>\n",
       "      <td>False</td>\n",
       "      <td>10752</td>\n",
       "      <td>submitted</td>\n",
       "      <td>[3]</td>\n",
       "      <td>[C]</td>\n",
       "      <td>False</td>\n",
       "    </tr>\n",
       "    <tr>\n",
       "      <th>3</th>\n",
       "      <td>4216</td>\n",
       "      <td>VHL</td>\n",
       "      <td>NaN</td>\n",
       "      <td>Not provided</td>\n",
       "      <td>Transcript Variants</td>\n",
       "      <td>False</td>\n",
       "      <td>10754</td>\n",
       "      <td>submitted</td>\n",
       "      <td>[3]</td>\n",
       "      <td>[C]</td>\n",
       "      <td>False</td>\n",
       "    </tr>\n",
       "    <tr>\n",
       "      <th>4</th>\n",
       "      <td>4278</td>\n",
       "      <td>VHL</td>\n",
       "      <td>NaN</td>\n",
       "      <td>Not provided</td>\n",
       "      <td>Transcript Variants</td>\n",
       "      <td>False</td>\n",
       "      <td>10958</td>\n",
       "      <td>submitted</td>\n",
       "      <td>[3]</td>\n",
       "      <td>[C]</td>\n",
       "      <td>False</td>\n",
       "    </tr>\n",
       "  </tbody>\n",
       "</table>\n",
       "</div>"
      ],
      "text/plain": [
       "   variant_id gene_name  variant_name civic_variant_types  \\\n",
       "0        4170       VHL           NaN        Not provided   \n",
       "1        4417       ALK   FBXO11::ALK        Not provided   \n",
       "2        4214       VHL           NaN        Not provided   \n",
       "3        4216       VHL           NaN        Not provided   \n",
       "4        4278       VHL           NaN        Not provided   \n",
       "\n",
       "              category  variant_accepted evidence_id evidence_status  \\\n",
       "0  Transcript Variants             False       10647       submitted   \n",
       "1      Fusion Variants             False        7428       submitted   \n",
       "2  Transcript Variants             False       10752       submitted   \n",
       "3  Transcript Variants             False       10754       submitted   \n",
       "4  Transcript Variants             False       10958       submitted   \n",
       "\n",
       "  evidence_rating evidence_level evidence_accepted  \n",
       "0             [2]            [C]             False  \n",
       "1             [3]            [C]             False  \n",
       "2             [3]            [C]             False  \n",
       "3             [3]            [C]             False  \n",
       "4             [3]            [C]             False  "
      ]
     },
     "execution_count": 44,
     "metadata": {},
     "output_type": "execute_result"
    }
   ],
   "source": [
    "not_supported_variants_add_evidence_df = evidence_analysis(not_supported_variants_add_evidence_df, VariantNormType.NOT_SUPPORTED)\n",
    "not_supported_variants_add_evidence_df.head()"
   ]
  },
  {
   "cell_type": "markdown",
   "metadata": {},
   "source": [
    "### Not Supported Variant Evidence Analysis by Subcategory "
   ]
  },
  {
   "cell_type": "markdown",
   "metadata": {},
   "source": [
    " List all the possible variant categories, have to use non unique file since evidence items are used more than once across groups\n"
   ]
  },
  {
   "cell_type": "code",
   "execution_count": 45,
   "metadata": {},
   "outputs": [
    {
     "data": {
      "text/plain": [
       "['Transcript Variants',\n",
       " 'Fusion Variants',\n",
       " 'Rearrangement Variants',\n",
       " 'Sequence Variants',\n",
       " 'Region Defined Variants',\n",
       " 'Other Variants',\n",
       " 'Copy Number Variants',\n",
       " 'Gene Function Variants',\n",
       " 'Expression Variants',\n",
       " 'Genotype Variants',\n",
       " 'Epigenetic Modification']"
      ]
     },
     "execution_count": 45,
     "metadata": {},
     "output_type": "execute_result"
    }
   ],
   "source": [
    "not_supported_variant_categories = not_supported_variants_add_evidence_df.category.unique()\n",
    "[v for v in not_supported_variant_categories]"
   ]
  },
  {
   "attachments": {},
   "cell_type": "markdown",
   "metadata": {},
   "source": [
    "Evidence ID's can qualify for more than one kind of variant category"
   ]
  },
  {
   "cell_type": "code",
   "execution_count": 46,
   "metadata": {},
   "outputs": [
    {
     "data": {
      "text/html": [
       "<div>\n",
       "<style scoped>\n",
       "    .dataframe tbody tr th:only-of-type {\n",
       "        vertical-align: middle;\n",
       "    }\n",
       "\n",
       "    .dataframe tbody tr th {\n",
       "        vertical-align: top;\n",
       "    }\n",
       "\n",
       "    .dataframe thead th {\n",
       "        text-align: right;\n",
       "    }\n",
       "</style>\n",
       "<table border=\"1\" class=\"dataframe\">\n",
       "  <thead>\n",
       "    <tr style=\"text-align: right;\">\n",
       "      <th></th>\n",
       "      <th>variant_id</th>\n",
       "      <th>gene_name</th>\n",
       "      <th>variant_name</th>\n",
       "      <th>civic_variant_types</th>\n",
       "      <th>category</th>\n",
       "      <th>variant_accepted</th>\n",
       "      <th>evidence_id</th>\n",
       "      <th>evidence_status</th>\n",
       "      <th>evidence_rating</th>\n",
       "      <th>evidence_level</th>\n",
       "      <th>evidence_accepted</th>\n",
       "    </tr>\n",
       "  </thead>\n",
       "  <tbody>\n",
       "  </tbody>\n",
       "</table>\n",
       "</div>"
      ],
      "text/plain": [
       "Empty DataFrame\n",
       "Columns: [variant_id, gene_name, variant_name, civic_variant_types, category, variant_accepted, evidence_id, evidence_status, evidence_rating, evidence_level, evidence_accepted]\n",
       "Index: []"
      ]
     },
     "execution_count": 46,
     "metadata": {},
     "output_type": "execute_result"
    }
   ],
   "source": [
    "duplicate = not_supported_variants_add_evidence_df[not_supported_variants_add_evidence_df.duplicated(\"evidence_id\", keep=False)]\n",
    "duplicate"
   ]
  },
  {
   "cell_type": "code",
   "execution_count": 47,
   "metadata": {},
   "outputs": [],
   "source": [
    "not_supported_variant_evidence_summary = {\n",
    "    \"Category\": VARIANT_CATEGORY_VALUES,\n",
    "    \"Fraction of CIViC Evidence Items\": [],\n",
    "    \"Percent of CIViC Evidence Items\": [],\n",
    "    \"Fraction of Not Supported Variant Evidence Items\": [],\n",
    "    \"Percent of Not Supported Variant Evidence Items\": [],\n",
    "    \"Fraction of Accepted Evidence Items\": [],\n",
    "    \"Percent of Accepted Evidence Items\": [],\n",
    "    \"Fraction of Submitted Evidence Items\": [],\n",
    "    \"Percent of Submitted Evidence Items\": []\n",
    "}"
   ]
  },
  {
   "cell_type": "code",
   "execution_count": 48,
   "metadata": {},
   "outputs": [],
   "source": [
    "not_supported_variant_categories_evidence_summary_data = dict()\n",
    "total_number_not_supported_variant_unique_evidence_items = len(set(not_supported_variants_add_evidence_df.evidence_id))\n",
    "\n",
    "for category in VARIANT_CATEGORY_VALUES:\n",
    "    not_supported_variant_categories_evidence_summary_data[category] = {}\n",
    "    evidence_category_df = not_supported_variants_add_evidence_df[not_supported_variants_add_evidence_df.category == category]\n",
    "    evidence_category_df = evidence_category_df.drop_duplicates(subset=[\"evidence_id\"])\n",
    "\n",
    "    # Count\n",
    "    number_unique_not_supported_category_evidence = len(set(evidence_category_df.evidence_id))\n",
    "    not_supported_variant_categories_evidence_summary_data[category][\"number_unique_not_supported_category_evidence\"] = number_unique_not_supported_category_evidence\n",
    "\n",
    "    # Fraction\n",
    "    fraction_not_supported_category_variant_evidence_of_civic = f\"{number_unique_not_supported_category_evidence} / {total_ac_sub_evidence}\"\n",
    "    not_supported_variant_categories_evidence_summary_data[category][\"fraction_not_supported_category_variant_evidence_of_civic\"] = fraction_not_supported_category_variant_evidence_of_civic\n",
    "\n",
    "    # Percent\n",
    "    percent_not_supported_category_variant_evidence_of_civic = f\"{number_unique_not_supported_category_evidence / total_ac_sub_evidence * 100:.2f}%\"\n",
    "    not_supported_variant_categories_evidence_summary_data[category][\"percent_not_supported_category_variant_evidence_of_civic\"] = percent_not_supported_category_variant_evidence_of_civic\n",
    "\n",
    "    # Not supported fraction\n",
    "    fraction_not_supported_category_variant_evidence_of_total_not_supported = f\"{number_unique_not_supported_category_evidence} / {total_number_not_supported_variant_unique_evidence_items}\"\n",
    "    not_supported_variant_categories_evidence_summary_data[category][\"fraction_not_supported_category_variant_evidence_of_total_not_supported\"] = fraction_not_supported_category_variant_evidence_of_total_not_supported\n",
    "\n",
    "    # Not supported percent\n",
    "    percent_not_supported_category_variant_evidence_of_total_not_supported = f\"{number_unique_not_supported_category_evidence / total_number_not_supported_variant_unique_evidence_items * 100:.2f}%\"\n",
    "    not_supported_variant_categories_evidence_summary_data[category][\"percent_not_supported_category_variant_evidence_of_total_not_supported\"] = percent_not_supported_category_variant_evidence_of_total_not_supported\n",
    "\n",
    "    # Accepted fraction\n",
    "    number_accepted_not_supported_category_variant_evidence = evidence_category_df.evidence_accepted.sum()\n",
    "    fraction_accepted_evidence_not_supported_category_variants = f\"{number_accepted_not_supported_category_variant_evidence} / {number_unique_not_supported_category_evidence}\"\n",
    "    not_supported_variant_categories_evidence_summary_data[category][\"fraction_accepted_evidence_not_supported_category_variants\"] = fraction_accepted_evidence_not_supported_category_variants\n",
    "\n",
    "    # Accepted percent\n",
    "    percentage_accepted_evidence_not_supported_category_variants = f\"{number_accepted_not_supported_category_variant_evidence / number_unique_not_supported_category_evidence * 100:.2f}%\"\n",
    "    not_supported_variant_categories_evidence_summary_data[category][\"percentage_accepted_evidence_not_supported_category_variants\"] = percentage_accepted_evidence_not_supported_category_variants\n",
    "\n",
    "    # Submitted fraction\n",
    "    number_submitted_not_supported_category_variant_evidence = number_unique_not_supported_category_evidence - evidence_category_df.evidence_accepted.sum()\n",
    "    fraction_submitted_evidence_not_supported_category_variants = f\"{number_submitted_not_supported_category_variant_evidence} / {number_unique_not_supported_category_evidence}\"\n",
    "    not_supported_variant_categories_evidence_summary_data[category][\"fraction_submitted_evidence_not_supported_category_variants\"] = fraction_submitted_evidence_not_supported_category_variants\n",
    "\n",
    "    # Submitted percent\n",
    "    percentage_submitted_evidence_not_supported_category_variants = f\"{number_submitted_not_supported_category_variant_evidence / number_unique_not_supported_category_evidence * 100:.2f}%\"\n",
    "    not_supported_variant_categories_evidence_summary_data[category][\"percentage_submitted_evidence_not_supported_category_variants\"] = percentage_submitted_evidence_not_supported_category_variants\n",
    "\n",
    "    not_supported_variant_evidence_summary[\"Fraction of CIViC Evidence Items\"].append(fraction_not_supported_category_variant_evidence_of_civic)\n",
    "    not_supported_variant_evidence_summary[\"Percent of CIViC Evidence Items\"].append(percent_not_supported_category_variant_evidence_of_civic)\n",
    "    not_supported_variant_evidence_summary[\"Fraction of Not Supported Variant Evidence Items\"].append(fraction_not_supported_category_variant_evidence_of_total_not_supported)\n",
    "    not_supported_variant_evidence_summary[\"Percent of Not Supported Variant Evidence Items\"].append(percent_not_supported_category_variant_evidence_of_total_not_supported)\n",
    "    not_supported_variant_evidence_summary[\"Fraction of Accepted Evidence Items\"].append(fraction_accepted_evidence_not_supported_category_variants)\n",
    "    not_supported_variant_evidence_summary[\"Percent of Accepted Evidence Items\"].append(percentage_accepted_evidence_not_supported_category_variants)\n",
    "    not_supported_variant_evidence_summary[\"Fraction of Submitted Evidence Items\"].append(fraction_submitted_evidence_not_supported_category_variants)\n",
    "    not_supported_variant_evidence_summary[\"Percent of Submitted Evidence Items\"].append(percentage_submitted_evidence_not_supported_category_variants)"
   ]
  },
  {
   "cell_type": "markdown",
   "metadata": {},
   "source": [
    "## Impact\n",
    "molecular profile score"
   ]
  },
  {
   "cell_type": "markdown",
   "metadata": {},
   "source": [
    "### Import molecular profile id"
   ]
  },
  {
   "cell_type": "code",
   "execution_count": 49,
   "metadata": {},
   "outputs": [
    {
     "data": {
      "text/html": [
       "<div>\n",
       "<style scoped>\n",
       "    .dataframe tbody tr th:only-of-type {\n",
       "        vertical-align: middle;\n",
       "    }\n",
       "\n",
       "    .dataframe tbody tr th {\n",
       "        vertical-align: top;\n",
       "    }\n",
       "\n",
       "    .dataframe thead th {\n",
       "        text-align: right;\n",
       "    }\n",
       "</style>\n",
       "<table border=\"1\" class=\"dataframe\">\n",
       "  <thead>\n",
       "    <tr style=\"text-align: right;\">\n",
       "      <th></th>\n",
       "      <th>variant_id</th>\n",
       "      <th>gene_name</th>\n",
       "      <th>variant_name</th>\n",
       "      <th>civic_variant_types</th>\n",
       "      <th>category</th>\n",
       "      <th>variant_accepted</th>\n",
       "      <th>molecular_profile_id</th>\n",
       "    </tr>\n",
       "  </thead>\n",
       "  <tbody>\n",
       "    <tr>\n",
       "      <th>0</th>\n",
       "      <td>4170</td>\n",
       "      <td>VHL</td>\n",
       "      <td>NaN</td>\n",
       "      <td>Not provided</td>\n",
       "      <td>Transcript Variants</td>\n",
       "      <td>False</td>\n",
       "      <td>[4038]</td>\n",
       "    </tr>\n",
       "    <tr>\n",
       "      <th>1</th>\n",
       "      <td>4417</td>\n",
       "      <td>ALK</td>\n",
       "      <td>FBXO11::ALK</td>\n",
       "      <td>Not provided</td>\n",
       "      <td>Fusion Variants</td>\n",
       "      <td>False</td>\n",
       "      <td>[4350]</td>\n",
       "    </tr>\n",
       "    <tr>\n",
       "      <th>2</th>\n",
       "      <td>4214</td>\n",
       "      <td>VHL</td>\n",
       "      <td>NaN</td>\n",
       "      <td>Not provided</td>\n",
       "      <td>Transcript Variants</td>\n",
       "      <td>False</td>\n",
       "      <td>[4082]</td>\n",
       "    </tr>\n",
       "    <tr>\n",
       "      <th>3</th>\n",
       "      <td>4216</td>\n",
       "      <td>VHL</td>\n",
       "      <td>NaN</td>\n",
       "      <td>Not provided</td>\n",
       "      <td>Transcript Variants</td>\n",
       "      <td>False</td>\n",
       "      <td>[4084]</td>\n",
       "    </tr>\n",
       "    <tr>\n",
       "      <th>4</th>\n",
       "      <td>4278</td>\n",
       "      <td>VHL</td>\n",
       "      <td>NaN</td>\n",
       "      <td>Not provided</td>\n",
       "      <td>Transcript Variants</td>\n",
       "      <td>False</td>\n",
       "      <td>[4146]</td>\n",
       "    </tr>\n",
       "  </tbody>\n",
       "</table>\n",
       "</div>"
      ],
      "text/plain": [
       "   variant_id gene_name  variant_name civic_variant_types  \\\n",
       "0        4170       VHL           NaN        Not provided   \n",
       "1        4417       ALK   FBXO11::ALK        Not provided   \n",
       "2        4214       VHL           NaN        Not provided   \n",
       "3        4216       VHL           NaN        Not provided   \n",
       "4        4278       VHL           NaN        Not provided   \n",
       "\n",
       "              category  variant_accepted molecular_profile_id  \n",
       "0  Transcript Variants             False               [4038]  \n",
       "1      Fusion Variants             False               [4350]  \n",
       "2  Transcript Variants             False               [4082]  \n",
       "3  Transcript Variants             False               [4084]  \n",
       "4  Transcript Variants             False               [4146]  "
      ]
     },
     "execution_count": 49,
     "metadata": {},
     "output_type": "execute_result"
    }
   ],
   "source": [
    "not_supported_variants_add_molprof_df = transform_df_mp_id(not_supported_queries_df)\n",
    "not_supported_variants_add_molprof_df.head()"
   ]
  },
  {
   "cell_type": "markdown",
   "metadata": {},
   "source": [
    "### Import molecular profile scores"
   ]
  },
  {
   "cell_type": "code",
   "execution_count": 50,
   "metadata": {},
   "outputs": [
    {
     "data": {
      "text/html": [
       "<div>\n",
       "<style scoped>\n",
       "    .dataframe tbody tr th:only-of-type {\n",
       "        vertical-align: middle;\n",
       "    }\n",
       "\n",
       "    .dataframe tbody tr th {\n",
       "        vertical-align: top;\n",
       "    }\n",
       "\n",
       "    .dataframe thead th {\n",
       "        text-align: right;\n",
       "    }\n",
       "</style>\n",
       "<table border=\"1\" class=\"dataframe\">\n",
       "  <thead>\n",
       "    <tr style=\"text-align: right;\">\n",
       "      <th></th>\n",
       "      <th>variant_id</th>\n",
       "      <th>gene_name</th>\n",
       "      <th>variant_name</th>\n",
       "      <th>civic_variant_types</th>\n",
       "      <th>category</th>\n",
       "      <th>variant_accepted</th>\n",
       "      <th>molecular_profile_id</th>\n",
       "      <th>molecular_profile_score</th>\n",
       "    </tr>\n",
       "  </thead>\n",
       "  <tbody>\n",
       "    <tr>\n",
       "      <th>0</th>\n",
       "      <td>4170</td>\n",
       "      <td>VHL</td>\n",
       "      <td>NaN</td>\n",
       "      <td>Not provided</td>\n",
       "      <td>Transcript Variants</td>\n",
       "      <td>False</td>\n",
       "      <td>[4038]</td>\n",
       "      <td>[0.0]</td>\n",
       "    </tr>\n",
       "    <tr>\n",
       "      <th>1</th>\n",
       "      <td>4417</td>\n",
       "      <td>ALK</td>\n",
       "      <td>FBXO11::ALK</td>\n",
       "      <td>Not provided</td>\n",
       "      <td>Fusion Variants</td>\n",
       "      <td>False</td>\n",
       "      <td>[4350]</td>\n",
       "      <td>[0.0]</td>\n",
       "    </tr>\n",
       "    <tr>\n",
       "      <th>2</th>\n",
       "      <td>4214</td>\n",
       "      <td>VHL</td>\n",
       "      <td>NaN</td>\n",
       "      <td>Not provided</td>\n",
       "      <td>Transcript Variants</td>\n",
       "      <td>False</td>\n",
       "      <td>[4082]</td>\n",
       "      <td>[0.0]</td>\n",
       "    </tr>\n",
       "    <tr>\n",
       "      <th>3</th>\n",
       "      <td>4216</td>\n",
       "      <td>VHL</td>\n",
       "      <td>NaN</td>\n",
       "      <td>Not provided</td>\n",
       "      <td>Transcript Variants</td>\n",
       "      <td>False</td>\n",
       "      <td>[4084]</td>\n",
       "      <td>[0.0]</td>\n",
       "    </tr>\n",
       "    <tr>\n",
       "      <th>4</th>\n",
       "      <td>4278</td>\n",
       "      <td>VHL</td>\n",
       "      <td>NaN</td>\n",
       "      <td>Not provided</td>\n",
       "      <td>Transcript Variants</td>\n",
       "      <td>False</td>\n",
       "      <td>[4146]</td>\n",
       "      <td>[0.0]</td>\n",
       "    </tr>\n",
       "  </tbody>\n",
       "</table>\n",
       "</div>"
      ],
      "text/plain": [
       "   variant_id gene_name  variant_name civic_variant_types  \\\n",
       "0        4170       VHL           NaN        Not provided   \n",
       "1        4417       ALK   FBXO11::ALK        Not provided   \n",
       "2        4214       VHL           NaN        Not provided   \n",
       "3        4216       VHL           NaN        Not provided   \n",
       "4        4278       VHL           NaN        Not provided   \n",
       "\n",
       "              category  variant_accepted molecular_profile_id  \\\n",
       "0  Transcript Variants             False               [4038]   \n",
       "1      Fusion Variants             False               [4350]   \n",
       "2  Transcript Variants             False               [4082]   \n",
       "3  Transcript Variants             False               [4084]   \n",
       "4  Transcript Variants             False               [4146]   \n",
       "\n",
       "  molecular_profile_score  \n",
       "0                   [0.0]  \n",
       "1                   [0.0]  \n",
       "2                   [0.0]  \n",
       "3                   [0.0]  \n",
       "4                   [0.0]  "
      ]
     },
     "execution_count": 50,
     "metadata": {},
     "output_type": "execute_result"
    }
   ],
   "source": [
    "not_supported_variants_add_molprof_df = transform_df_mp_score(not_supported_variants_add_molprof_df)\n",
    "not_supported_variants_add_molprof_df.head()"
   ]
  },
  {
   "cell_type": "code",
   "execution_count": 51,
   "metadata": {},
   "outputs": [
    {
     "data": {
      "text/html": [
       "<div>\n",
       "<style scoped>\n",
       "    .dataframe tbody tr th:only-of-type {\n",
       "        vertical-align: middle;\n",
       "    }\n",
       "\n",
       "    .dataframe tbody tr th {\n",
       "        vertical-align: top;\n",
       "    }\n",
       "\n",
       "    .dataframe thead th {\n",
       "        text-align: right;\n",
       "    }\n",
       "</style>\n",
       "<table border=\"1\" class=\"dataframe\">\n",
       "  <thead>\n",
       "    <tr style=\"text-align: right;\">\n",
       "      <th></th>\n",
       "      <th>variant_id</th>\n",
       "      <th>gene_name</th>\n",
       "      <th>variant_name</th>\n",
       "      <th>civic_variant_types</th>\n",
       "      <th>category</th>\n",
       "      <th>variant_accepted</th>\n",
       "      <th>molecular_profile_id</th>\n",
       "      <th>molecular_profile_score</th>\n",
       "      <th>molecular_profile_score_sum</th>\n",
       "    </tr>\n",
       "  </thead>\n",
       "  <tbody>\n",
       "    <tr>\n",
       "      <th>0</th>\n",
       "      <td>4170</td>\n",
       "      <td>VHL</td>\n",
       "      <td>NaN</td>\n",
       "      <td>Not provided</td>\n",
       "      <td>Transcript Variants</td>\n",
       "      <td>False</td>\n",
       "      <td>[4038]</td>\n",
       "      <td>[0.0]</td>\n",
       "      <td>0.0</td>\n",
       "    </tr>\n",
       "    <tr>\n",
       "      <th>1</th>\n",
       "      <td>4417</td>\n",
       "      <td>ALK</td>\n",
       "      <td>FBXO11::ALK</td>\n",
       "      <td>Not provided</td>\n",
       "      <td>Fusion Variants</td>\n",
       "      <td>False</td>\n",
       "      <td>[4350]</td>\n",
       "      <td>[0.0]</td>\n",
       "      <td>0.0</td>\n",
       "    </tr>\n",
       "    <tr>\n",
       "      <th>2</th>\n",
       "      <td>4214</td>\n",
       "      <td>VHL</td>\n",
       "      <td>NaN</td>\n",
       "      <td>Not provided</td>\n",
       "      <td>Transcript Variants</td>\n",
       "      <td>False</td>\n",
       "      <td>[4082]</td>\n",
       "      <td>[0.0]</td>\n",
       "      <td>0.0</td>\n",
       "    </tr>\n",
       "    <tr>\n",
       "      <th>3</th>\n",
       "      <td>4216</td>\n",
       "      <td>VHL</td>\n",
       "      <td>NaN</td>\n",
       "      <td>Not provided</td>\n",
       "      <td>Transcript Variants</td>\n",
       "      <td>False</td>\n",
       "      <td>[4084]</td>\n",
       "      <td>[0.0]</td>\n",
       "      <td>0.0</td>\n",
       "    </tr>\n",
       "    <tr>\n",
       "      <th>4</th>\n",
       "      <td>4278</td>\n",
       "      <td>VHL</td>\n",
       "      <td>NaN</td>\n",
       "      <td>Not provided</td>\n",
       "      <td>Transcript Variants</td>\n",
       "      <td>False</td>\n",
       "      <td>[4146]</td>\n",
       "      <td>[0.0]</td>\n",
       "      <td>0.0</td>\n",
       "    </tr>\n",
       "  </tbody>\n",
       "</table>\n",
       "</div>"
      ],
      "text/plain": [
       "   variant_id gene_name  variant_name civic_variant_types  \\\n",
       "0        4170       VHL           NaN        Not provided   \n",
       "1        4417       ALK   FBXO11::ALK        Not provided   \n",
       "2        4214       VHL           NaN        Not provided   \n",
       "3        4216       VHL           NaN        Not provided   \n",
       "4        4278       VHL           NaN        Not provided   \n",
       "\n",
       "              category  variant_accepted molecular_profile_id  \\\n",
       "0  Transcript Variants             False               [4038]   \n",
       "1      Fusion Variants             False               [4350]   \n",
       "2  Transcript Variants             False               [4082]   \n",
       "3  Transcript Variants             False               [4084]   \n",
       "4  Transcript Variants             False               [4146]   \n",
       "\n",
       "  molecular_profile_score  molecular_profile_score_sum  \n",
       "0                   [0.0]                          0.0  \n",
       "1                   [0.0]                          0.0  \n",
       "2                   [0.0]                          0.0  \n",
       "3                   [0.0]                          0.0  \n",
       "4                   [0.0]                          0.0  "
      ]
     },
     "execution_count": 51,
     "metadata": {},
     "output_type": "execute_result"
    }
   ],
   "source": [
    "not_supported_variants_add_molprof_df = transform_df_mp_score_sum(not_supported_variants_add_molprof_df)\n",
    "not_supported_variants_add_molprof_df.head()"
   ]
  },
  {
   "cell_type": "markdown",
   "metadata": {},
   "source": [
    "### Impact by Subcategory"
   ]
  },
  {
   "cell_type": "code",
   "execution_count": 52,
   "metadata": {},
   "outputs": [],
   "source": [
    "not_supported_impact_summary = {\n",
    "    \"Category\": VARIANT_CATEGORY_VALUES,\n",
    "    \"Total Sum Impact Score\": [],\n",
    "    \"Total Number Evidence Items\": [v[\"number_unique_not_supported_category_evidence\"] for v in not_supported_variant_categories_evidence_summary_data.values()],\n",
    "    \"% Accepted Evidence Items\": [v[\"percentage_accepted_evidence_not_supported_category_variants\"] for v in not_supported_variant_categories_evidence_summary_data.values()],\n",
    "    \"Total Number Variants\": [v[\"number_unique_not_supported_category_variants\"] for v in not_supported_variant_categories_summary_data.values()]\n",
    "}"
   ]
  },
  {
   "cell_type": "code",
   "execution_count": 53,
   "metadata": {},
   "outputs": [
    {
     "name": "stdout",
     "output_type": "stream",
     "text": [
      "Expression Variants: 3618.0\n",
      "Epigenetic Modification: 285.5\n",
      "Fusion Variants: 6558.75\n",
      "Sequence Variants: 2746.75\n",
      "Gene Function Variants: 1805.5\n",
      "Rearrangement Variants: 2794.0\n",
      "Copy Number Variants: 225.0\n",
      "Other Variants: 653.5\n",
      "Genotype Variants: 312.5\n",
      "Region Defined Variants: 6199.5\n",
      "Transcript Variants: 356.5\n"
     ]
    }
   ],
   "source": [
    "not_supported_variant_categories_impact_data = dict()\n",
    "for category in VARIANT_CATEGORY_VALUES:\n",
    "    not_supported_variant_categories_impact_data[category] = {}\n",
    "    impact_category_df = not_supported_variants_add_molprof_df[not_supported_variants_add_molprof_df.category == category]\n",
    "\n",
    "    total_sum_not_supported_category_impact = impact_category_df[\"molecular_profile_score_sum\"].sum()\n",
    "    not_supported_variant_categories_impact_data[category][\"total_sum_not_supported_category_impact\"] = total_sum_not_supported_category_impact\n",
    "\n",
    "    not_supported_impact_summary[\"Total Sum Impact Score\"].append(total_sum_not_supported_category_impact)\n",
    "\n",
    "    print(f\"{category}: {total_sum_not_supported_category_impact}\")"
   ]
  },
  {
   "cell_type": "code",
   "execution_count": 54,
   "metadata": {},
   "outputs": [],
   "source": [
    "not_supported_variant_impact_df = pd.DataFrame(not_supported_impact_summary)"
   ]
  },
  {
   "cell_type": "markdown",
   "metadata": {},
   "source": [
    "# Summary"
   ]
  },
  {
   "cell_type": "markdown",
   "metadata": {},
   "source": [
    "## Variant Analysis"
   ]
  },
  {
   "cell_type": "code",
   "execution_count": 55,
   "metadata": {},
   "outputs": [],
   "source": [
    "all_variant_df = pd.DataFrame(variant_analysis_summary)"
   ]
  },
  {
   "cell_type": "code",
   "execution_count": 56,
   "metadata": {},
   "outputs": [],
   "source": [
    "all_variant_df[\"Percentage of all CIViC Variant Items\"] = all_variant_df[\"Fraction of all CIViC Variant Items\"].astype(str) + \"  (\" + all_variant_df[\"Percentage of all CIViC Variant Items\"] + \")\"\n",
    "all_variant_df[\"Percentage of Accepted Variant Items\"] = all_variant_df[\"Fraction of Accepted Variant Items\"].astype(str) + \"  (\" + all_variant_df[\"Percentage of Accepted Variant Items\"] + \")\"\n",
    "all_variant_df[\"Percentage of Not Accepted Variant Items\"] = all_variant_df[\"Fraction of Not Accepted Variant Items\"].astype(str) + \"  (\" + all_variant_df[\"Percentage of Not Accepted Variant Items\"] + \")\""
   ]
  },
  {
   "cell_type": "code",
   "execution_count": 57,
   "metadata": {},
   "outputs": [],
   "source": [
    "all_variant_df = all_variant_df.drop([\"Fraction of all CIViC Variant Items\", \"Fraction of Accepted Variant Items\", \"Fraction of Not Accepted Variant Items\"], axis=1)"
   ]
  },
  {
   "cell_type": "code",
   "execution_count": 58,
   "metadata": {},
   "outputs": [],
   "source": [
    "all_variant_percent_of_civic_df = all_variant_df.drop([\"Percentage of Accepted Variant Items\", \"Percentage of Not Accepted Variant Items\"], axis=1)\n",
    "all_variant_percent_evidence_df = all_variant_df.drop([\"Percentage of all CIViC Variant Items\"], axis=1)"
   ]
  },
  {
   "cell_type": "markdown",
   "metadata": {},
   "source": [
    "Summary Table 1: The table below shows the 3 categories that CIViC variants were divided into after normalization and what percentage they make up of all variants in CIViC data. "
   ]
  },
  {
   "cell_type": "code",
   "execution_count": 59,
   "metadata": {},
   "outputs": [
    {
     "data": {
      "text/html": [
       "<div>\n",
       "<style scoped>\n",
       "    .dataframe tbody tr th:only-of-type {\n",
       "        vertical-align: middle;\n",
       "    }\n",
       "\n",
       "    .dataframe tbody tr th {\n",
       "        vertical-align: top;\n",
       "    }\n",
       "\n",
       "    .dataframe thead th {\n",
       "        text-align: right;\n",
       "    }\n",
       "</style>\n",
       "<table border=\"1\" class=\"dataframe\">\n",
       "  <thead>\n",
       "    <tr style=\"text-align: right;\">\n",
       "      <th></th>\n",
       "      <th>Percentage of all CIViC Variant Items</th>\n",
       "    </tr>\n",
       "    <tr>\n",
       "      <th>Variant Category</th>\n",
       "      <th></th>\n",
       "    </tr>\n",
       "  </thead>\n",
       "  <tbody>\n",
       "    <tr>\n",
       "      <th>Normalized</th>\n",
       "      <td>1876 / 3582  (52.37%)</td>\n",
       "    </tr>\n",
       "    <tr>\n",
       "      <th>Unable to Normalize</th>\n",
       "      <td>80 / 3582  (2.23%)</td>\n",
       "    </tr>\n",
       "    <tr>\n",
       "      <th>Not Supported</th>\n",
       "      <td>1563 / 3582  (43.63%)</td>\n",
       "    </tr>\n",
       "  </tbody>\n",
       "</table>\n",
       "</div>"
      ],
      "text/plain": [
       "                    Percentage of all CIViC Variant Items\n",
       "Variant Category                                         \n",
       "Normalized                          1876 / 3582  (52.37%)\n",
       "Unable to Normalize                    80 / 3582  (2.23%)\n",
       "Not Supported                       1563 / 3582  (43.63%)"
      ]
     },
     "execution_count": 59,
     "metadata": {},
     "output_type": "execute_result"
    }
   ],
   "source": [
    "all_variant_percent_of_civic_df = all_variant_percent_of_civic_df.set_index(\"Variant Category\")\n",
    "all_variant_percent_of_civic_df"
   ]
  },
  {
   "cell_type": "code",
   "execution_count": 60,
   "metadata": {},
   "outputs": [],
   "source": [
    "summary_table_1 = all_variant_percent_of_civic_df"
   ]
  },
  {
   "cell_type": "markdown",
   "metadata": {},
   "source": [
    "Summary Table 2: The table below shows the 3 categories that CIViC variants were divided into after normalization and what percentage of the variants in each category are accepted (have at least one evidence item that is accepted) or not."
   ]
  },
  {
   "cell_type": "code",
   "execution_count": 61,
   "metadata": {},
   "outputs": [
    {
     "data": {
      "text/html": [
       "<div>\n",
       "<style scoped>\n",
       "    .dataframe tbody tr th:only-of-type {\n",
       "        vertical-align: middle;\n",
       "    }\n",
       "\n",
       "    .dataframe tbody tr th {\n",
       "        vertical-align: top;\n",
       "    }\n",
       "\n",
       "    .dataframe thead th {\n",
       "        text-align: right;\n",
       "    }\n",
       "</style>\n",
       "<table border=\"1\" class=\"dataframe\">\n",
       "  <thead>\n",
       "    <tr style=\"text-align: right;\">\n",
       "      <th></th>\n",
       "      <th>Percentage of Accepted Variant Items</th>\n",
       "      <th>Percentage of Not Accepted Variant Items</th>\n",
       "    </tr>\n",
       "    <tr>\n",
       "      <th>Variant Category</th>\n",
       "      <th></th>\n",
       "      <th></th>\n",
       "    </tr>\n",
       "  </thead>\n",
       "  <tbody>\n",
       "    <tr>\n",
       "      <th>Normalized</th>\n",
       "      <td>869 / 1876  (46.32%)</td>\n",
       "      <td>1007 / 1876  (53.68%)</td>\n",
       "    </tr>\n",
       "    <tr>\n",
       "      <th>Unable to Normalize</th>\n",
       "      <td>11 / 80  (13.75%)</td>\n",
       "      <td>69 / 80  (86.25%)</td>\n",
       "    </tr>\n",
       "    <tr>\n",
       "      <th>Not Supported</th>\n",
       "      <td>790 / 1563  (50.54%)</td>\n",
       "      <td>773 / 1563  (49.46%)</td>\n",
       "    </tr>\n",
       "  </tbody>\n",
       "</table>\n",
       "</div>"
      ],
      "text/plain": [
       "                    Percentage of Accepted Variant Items  \\\n",
       "Variant Category                                           \n",
       "Normalized                          869 / 1876  (46.32%)   \n",
       "Unable to Normalize                    11 / 80  (13.75%)   \n",
       "Not Supported                       790 / 1563  (50.54%)   \n",
       "\n",
       "                    Percentage of Not Accepted Variant Items  \n",
       "Variant Category                                              \n",
       "Normalized                             1007 / 1876  (53.68%)  \n",
       "Unable to Normalize                        69 / 80  (86.25%)  \n",
       "Not Supported                           773 / 1563  (49.46%)  "
      ]
     },
     "execution_count": 61,
     "metadata": {},
     "output_type": "execute_result"
    }
   ],
   "source": [
    "all_variant_percent_evidence_df = all_variant_percent_evidence_df.set_index(\"Variant Category\")\n",
    "all_variant_percent_evidence_df"
   ]
  },
  {
   "cell_type": "code",
   "execution_count": 62,
   "metadata": {},
   "outputs": [],
   "source": [
    "summary_table_2 = all_variant_percent_evidence_df"
   ]
  },
  {
   "cell_type": "code",
   "execution_count": 63,
   "metadata": {},
   "outputs": [
    {
     "data": {
      "text/html": [
       "<div>\n",
       "<style scoped>\n",
       "    .dataframe tbody tr th:only-of-type {\n",
       "        vertical-align: middle;\n",
       "    }\n",
       "\n",
       "    .dataframe tbody tr th {\n",
       "        vertical-align: top;\n",
       "    }\n",
       "\n",
       "    .dataframe thead th {\n",
       "        text-align: right;\n",
       "    }\n",
       "</style>\n",
       "<table border=\"1\" class=\"dataframe\">\n",
       "  <thead>\n",
       "    <tr style=\"text-align: right;\">\n",
       "      <th></th>\n",
       "      <th>Category</th>\n",
       "      <th>Fraction of Not Supported Variant Items</th>\n",
       "      <th>Percent of Not Supported Variant Items</th>\n",
       "      <th>Fraction of all CIViC Variant Items</th>\n",
       "      <th>Percent of all CIViC Variant Items</th>\n",
       "      <th>Fraction of Accepted Variant Items</th>\n",
       "      <th>Percent of Accepted Variant Items</th>\n",
       "      <th>Fraction of Not Accepted Variant Items</th>\n",
       "      <th>Percent of Not Accepted Variant Items</th>\n",
       "    </tr>\n",
       "  </thead>\n",
       "  <tbody>\n",
       "    <tr>\n",
       "      <th>0</th>\n",
       "      <td>Expression Variants</td>\n",
       "      <td>287 / 1563</td>\n",
       "      <td>18.36%</td>\n",
       "      <td>287 / 3582</td>\n",
       "      <td>8.01%</td>\n",
       "      <td>180 / 287</td>\n",
       "      <td>62.72%</td>\n",
       "      <td>107 / 287</td>\n",
       "      <td>37.28%</td>\n",
       "    </tr>\n",
       "    <tr>\n",
       "      <th>1</th>\n",
       "      <td>Epigenetic Modification</td>\n",
       "      <td>14 / 1563</td>\n",
       "      <td>0.90%</td>\n",
       "      <td>14 / 3582</td>\n",
       "      <td>0.39%</td>\n",
       "      <td>14 / 14</td>\n",
       "      <td>100.00%</td>\n",
       "      <td>0 / 14</td>\n",
       "      <td>0.00%</td>\n",
       "    </tr>\n",
       "    <tr>\n",
       "      <th>2</th>\n",
       "      <td>Fusion Variants</td>\n",
       "      <td>294 / 1563</td>\n",
       "      <td>18.81%</td>\n",
       "      <td>294 / 3582</td>\n",
       "      <td>8.21%</td>\n",
       "      <td>204 / 294</td>\n",
       "      <td>69.39%</td>\n",
       "      <td>90 / 294</td>\n",
       "      <td>30.61%</td>\n",
       "    </tr>\n",
       "    <tr>\n",
       "      <th>3</th>\n",
       "      <td>Sequence Variants</td>\n",
       "      <td>133 / 1563</td>\n",
       "      <td>8.51%</td>\n",
       "      <td>133 / 3582</td>\n",
       "      <td>3.71%</td>\n",
       "      <td>73 / 133</td>\n",
       "      <td>54.89%</td>\n",
       "      <td>60 / 133</td>\n",
       "      <td>45.11%</td>\n",
       "    </tr>\n",
       "    <tr>\n",
       "      <th>4</th>\n",
       "      <td>Gene Function Variants</td>\n",
       "      <td>91 / 1563</td>\n",
       "      <td>5.82%</td>\n",
       "      <td>91 / 3582</td>\n",
       "      <td>2.54%</td>\n",
       "      <td>49 / 91</td>\n",
       "      <td>53.85%</td>\n",
       "      <td>42 / 91</td>\n",
       "      <td>46.15%</td>\n",
       "    </tr>\n",
       "    <tr>\n",
       "      <th>5</th>\n",
       "      <td>Rearrangement Variants</td>\n",
       "      <td>116 / 1563</td>\n",
       "      <td>7.42%</td>\n",
       "      <td>116 / 3582</td>\n",
       "      <td>3.24%</td>\n",
       "      <td>47 / 116</td>\n",
       "      <td>40.52%</td>\n",
       "      <td>69 / 116</td>\n",
       "      <td>59.48%</td>\n",
       "    </tr>\n",
       "    <tr>\n",
       "      <th>6</th>\n",
       "      <td>Copy Number Variants</td>\n",
       "      <td>34 / 1563</td>\n",
       "      <td>2.18%</td>\n",
       "      <td>34 / 3582</td>\n",
       "      <td>0.95%</td>\n",
       "      <td>19 / 34</td>\n",
       "      <td>55.88%</td>\n",
       "      <td>15 / 34</td>\n",
       "      <td>44.12%</td>\n",
       "    </tr>\n",
       "    <tr>\n",
       "      <th>7</th>\n",
       "      <td>Other Variants</td>\n",
       "      <td>83 / 1563</td>\n",
       "      <td>5.31%</td>\n",
       "      <td>83 / 3582</td>\n",
       "      <td>2.32%</td>\n",
       "      <td>42 / 83</td>\n",
       "      <td>50.60%</td>\n",
       "      <td>41 / 83</td>\n",
       "      <td>49.40%</td>\n",
       "    </tr>\n",
       "    <tr>\n",
       "      <th>8</th>\n",
       "      <td>Genotype Variants</td>\n",
       "      <td>16 / 1563</td>\n",
       "      <td>1.02%</td>\n",
       "      <td>16 / 3582</td>\n",
       "      <td>0.45%</td>\n",
       "      <td>12 / 16</td>\n",
       "      <td>75.00%</td>\n",
       "      <td>4 / 16</td>\n",
       "      <td>25.00%</td>\n",
       "    </tr>\n",
       "    <tr>\n",
       "      <th>9</th>\n",
       "      <td>Region Defined Variants</td>\n",
       "      <td>129 / 1563</td>\n",
       "      <td>8.25%</td>\n",
       "      <td>129 / 3582</td>\n",
       "      <td>3.60%</td>\n",
       "      <td>99 / 129</td>\n",
       "      <td>76.74%</td>\n",
       "      <td>30 / 129</td>\n",
       "      <td>23.26%</td>\n",
       "    </tr>\n",
       "    <tr>\n",
       "      <th>10</th>\n",
       "      <td>Transcript Variants</td>\n",
       "      <td>366 / 1563</td>\n",
       "      <td>23.42%</td>\n",
       "      <td>366 / 3582</td>\n",
       "      <td>10.22%</td>\n",
       "      <td>51 / 366</td>\n",
       "      <td>13.93%</td>\n",
       "      <td>315 / 366</td>\n",
       "      <td>86.07%</td>\n",
       "    </tr>\n",
       "  </tbody>\n",
       "</table>\n",
       "</div>"
      ],
      "text/plain": [
       "                   Category Fraction of Not Supported Variant Items  \\\n",
       "0       Expression Variants                              287 / 1563   \n",
       "1   Epigenetic Modification                               14 / 1563   \n",
       "2           Fusion Variants                              294 / 1563   \n",
       "3         Sequence Variants                              133 / 1563   \n",
       "4    Gene Function Variants                               91 / 1563   \n",
       "5    Rearrangement Variants                              116 / 1563   \n",
       "6      Copy Number Variants                               34 / 1563   \n",
       "7            Other Variants                               83 / 1563   \n",
       "8         Genotype Variants                               16 / 1563   \n",
       "9   Region Defined Variants                              129 / 1563   \n",
       "10      Transcript Variants                              366 / 1563   \n",
       "\n",
       "   Percent of Not Supported Variant Items Fraction of all CIViC Variant Items  \\\n",
       "0                                  18.36%                          287 / 3582   \n",
       "1                                   0.90%                           14 / 3582   \n",
       "2                                  18.81%                          294 / 3582   \n",
       "3                                   8.51%                          133 / 3582   \n",
       "4                                   5.82%                           91 / 3582   \n",
       "5                                   7.42%                          116 / 3582   \n",
       "6                                   2.18%                           34 / 3582   \n",
       "7                                   5.31%                           83 / 3582   \n",
       "8                                   1.02%                           16 / 3582   \n",
       "9                                   8.25%                          129 / 3582   \n",
       "10                                 23.42%                          366 / 3582   \n",
       "\n",
       "   Percent of all CIViC Variant Items Fraction of Accepted Variant Items  \\\n",
       "0                               8.01%                          180 / 287   \n",
       "1                               0.39%                            14 / 14   \n",
       "2                               8.21%                          204 / 294   \n",
       "3                               3.71%                           73 / 133   \n",
       "4                               2.54%                            49 / 91   \n",
       "5                               3.24%                           47 / 116   \n",
       "6                               0.95%                            19 / 34   \n",
       "7                               2.32%                            42 / 83   \n",
       "8                               0.45%                            12 / 16   \n",
       "9                               3.60%                           99 / 129   \n",
       "10                             10.22%                           51 / 366   \n",
       "\n",
       "   Percent of Accepted Variant Items Fraction of Not Accepted Variant Items  \\\n",
       "0                             62.72%                              107 / 287   \n",
       "1                            100.00%                                 0 / 14   \n",
       "2                             69.39%                               90 / 294   \n",
       "3                             54.89%                               60 / 133   \n",
       "4                             53.85%                                42 / 91   \n",
       "5                             40.52%                               69 / 116   \n",
       "6                             55.88%                                15 / 34   \n",
       "7                             50.60%                                41 / 83   \n",
       "8                             75.00%                                 4 / 16   \n",
       "9                             76.74%                               30 / 129   \n",
       "10                            13.93%                              315 / 366   \n",
       "\n",
       "   Percent of Not Accepted Variant Items  \n",
       "0                                 37.28%  \n",
       "1                                  0.00%  \n",
       "2                                 30.61%  \n",
       "3                                 45.11%  \n",
       "4                                 46.15%  \n",
       "5                                 59.48%  \n",
       "6                                 44.12%  \n",
       "7                                 49.40%  \n",
       "8                                 25.00%  \n",
       "9                                 23.26%  \n",
       "10                                86.07%  "
      ]
     },
     "execution_count": 63,
     "metadata": {},
     "output_type": "execute_result"
    }
   ],
   "source": [
    "not_supported_variant_df = pd.DataFrame(not_supported_variant_analysis_summary)\n",
    "not_supported_variant_df"
   ]
  },
  {
   "cell_type": "code",
   "execution_count": 64,
   "metadata": {},
   "outputs": [],
   "source": [
    "not_supported_variant_df[\"Percent of Not Supported Variant Items\"] = not_supported_variant_df[\"Fraction of Not Supported Variant Items\"].astype(str) + \"  (\" + not_supported_variant_df[\"Percent of Not Supported Variant Items\"] + \")\"\n",
    "not_supported_variant_df[\"Percent of all CIViC Variant Items\"] = not_supported_variant_df[\"Fraction of all CIViC Variant Items\"].astype(str) + \"  (\" + not_supported_variant_df[\"Percent of all CIViC Variant Items\"] + \")\"\n",
    "not_supported_variant_df[\"Percent of Accepted Variant Items\"] = not_supported_variant_df[\"Fraction of Accepted Variant Items\"].astype(str) + \"  (\" + not_supported_variant_df[\"Percent of Accepted Variant Items\"] + \")\"\n",
    "not_supported_variant_df[\"Percent of Not Accepted Variant Items\"] = not_supported_variant_df[\"Fraction of Not Accepted Variant Items\"].astype(str) + \"  (\" + not_supported_variant_df[\"Percent of Not Accepted Variant Items\"] + \")\""
   ]
  },
  {
   "cell_type": "code",
   "execution_count": 65,
   "metadata": {},
   "outputs": [
    {
     "data": {
      "text/html": [
       "<div>\n",
       "<style scoped>\n",
       "    .dataframe tbody tr th:only-of-type {\n",
       "        vertical-align: middle;\n",
       "    }\n",
       "\n",
       "    .dataframe tbody tr th {\n",
       "        vertical-align: top;\n",
       "    }\n",
       "\n",
       "    .dataframe thead th {\n",
       "        text-align: right;\n",
       "    }\n",
       "</style>\n",
       "<table border=\"1\" class=\"dataframe\">\n",
       "  <thead>\n",
       "    <tr style=\"text-align: right;\">\n",
       "      <th></th>\n",
       "      <th>Category</th>\n",
       "      <th>Percent of Not Supported Variant Items</th>\n",
       "      <th>Percent of all CIViC Variant Items</th>\n",
       "      <th>Percent of Accepted Variant Items</th>\n",
       "      <th>Percent of Not Accepted Variant Items</th>\n",
       "    </tr>\n",
       "  </thead>\n",
       "  <tbody>\n",
       "    <tr>\n",
       "      <th>0</th>\n",
       "      <td>Expression Variants</td>\n",
       "      <td>287 / 1563  (18.36%)</td>\n",
       "      <td>287 / 3582  (8.01%)</td>\n",
       "      <td>180 / 287  (62.72%)</td>\n",
       "      <td>107 / 287  (37.28%)</td>\n",
       "    </tr>\n",
       "    <tr>\n",
       "      <th>1</th>\n",
       "      <td>Epigenetic Modification</td>\n",
       "      <td>14 / 1563  (0.90%)</td>\n",
       "      <td>14 / 3582  (0.39%)</td>\n",
       "      <td>14 / 14  (100.00%)</td>\n",
       "      <td>0 / 14  (0.00%)</td>\n",
       "    </tr>\n",
       "    <tr>\n",
       "      <th>2</th>\n",
       "      <td>Fusion Variants</td>\n",
       "      <td>294 / 1563  (18.81%)</td>\n",
       "      <td>294 / 3582  (8.21%)</td>\n",
       "      <td>204 / 294  (69.39%)</td>\n",
       "      <td>90 / 294  (30.61%)</td>\n",
       "    </tr>\n",
       "    <tr>\n",
       "      <th>3</th>\n",
       "      <td>Sequence Variants</td>\n",
       "      <td>133 / 1563  (8.51%)</td>\n",
       "      <td>133 / 3582  (3.71%)</td>\n",
       "      <td>73 / 133  (54.89%)</td>\n",
       "      <td>60 / 133  (45.11%)</td>\n",
       "    </tr>\n",
       "    <tr>\n",
       "      <th>4</th>\n",
       "      <td>Gene Function Variants</td>\n",
       "      <td>91 / 1563  (5.82%)</td>\n",
       "      <td>91 / 3582  (2.54%)</td>\n",
       "      <td>49 / 91  (53.85%)</td>\n",
       "      <td>42 / 91  (46.15%)</td>\n",
       "    </tr>\n",
       "    <tr>\n",
       "      <th>5</th>\n",
       "      <td>Rearrangement Variants</td>\n",
       "      <td>116 / 1563  (7.42%)</td>\n",
       "      <td>116 / 3582  (3.24%)</td>\n",
       "      <td>47 / 116  (40.52%)</td>\n",
       "      <td>69 / 116  (59.48%)</td>\n",
       "    </tr>\n",
       "    <tr>\n",
       "      <th>6</th>\n",
       "      <td>Copy Number Variants</td>\n",
       "      <td>34 / 1563  (2.18%)</td>\n",
       "      <td>34 / 3582  (0.95%)</td>\n",
       "      <td>19 / 34  (55.88%)</td>\n",
       "      <td>15 / 34  (44.12%)</td>\n",
       "    </tr>\n",
       "    <tr>\n",
       "      <th>7</th>\n",
       "      <td>Other Variants</td>\n",
       "      <td>83 / 1563  (5.31%)</td>\n",
       "      <td>83 / 3582  (2.32%)</td>\n",
       "      <td>42 / 83  (50.60%)</td>\n",
       "      <td>41 / 83  (49.40%)</td>\n",
       "    </tr>\n",
       "    <tr>\n",
       "      <th>8</th>\n",
       "      <td>Genotype Variants</td>\n",
       "      <td>16 / 1563  (1.02%)</td>\n",
       "      <td>16 / 3582  (0.45%)</td>\n",
       "      <td>12 / 16  (75.00%)</td>\n",
       "      <td>4 / 16  (25.00%)</td>\n",
       "    </tr>\n",
       "    <tr>\n",
       "      <th>9</th>\n",
       "      <td>Region Defined Variants</td>\n",
       "      <td>129 / 1563  (8.25%)</td>\n",
       "      <td>129 / 3582  (3.60%)</td>\n",
       "      <td>99 / 129  (76.74%)</td>\n",
       "      <td>30 / 129  (23.26%)</td>\n",
       "    </tr>\n",
       "    <tr>\n",
       "      <th>10</th>\n",
       "      <td>Transcript Variants</td>\n",
       "      <td>366 / 1563  (23.42%)</td>\n",
       "      <td>366 / 3582  (10.22%)</td>\n",
       "      <td>51 / 366  (13.93%)</td>\n",
       "      <td>315 / 366  (86.07%)</td>\n",
       "    </tr>\n",
       "  </tbody>\n",
       "</table>\n",
       "</div>"
      ],
      "text/plain": [
       "                   Category Percent of Not Supported Variant Items  \\\n",
       "0       Expression Variants                   287 / 1563  (18.36%)   \n",
       "1   Epigenetic Modification                     14 / 1563  (0.90%)   \n",
       "2           Fusion Variants                   294 / 1563  (18.81%)   \n",
       "3         Sequence Variants                    133 / 1563  (8.51%)   \n",
       "4    Gene Function Variants                     91 / 1563  (5.82%)   \n",
       "5    Rearrangement Variants                    116 / 1563  (7.42%)   \n",
       "6      Copy Number Variants                     34 / 1563  (2.18%)   \n",
       "7            Other Variants                     83 / 1563  (5.31%)   \n",
       "8         Genotype Variants                     16 / 1563  (1.02%)   \n",
       "9   Region Defined Variants                    129 / 1563  (8.25%)   \n",
       "10      Transcript Variants                   366 / 1563  (23.42%)   \n",
       "\n",
       "   Percent of all CIViC Variant Items Percent of Accepted Variant Items  \\\n",
       "0                 287 / 3582  (8.01%)               180 / 287  (62.72%)   \n",
       "1                  14 / 3582  (0.39%)                14 / 14  (100.00%)   \n",
       "2                 294 / 3582  (8.21%)               204 / 294  (69.39%)   \n",
       "3                 133 / 3582  (3.71%)                73 / 133  (54.89%)   \n",
       "4                  91 / 3582  (2.54%)                 49 / 91  (53.85%)   \n",
       "5                 116 / 3582  (3.24%)                47 / 116  (40.52%)   \n",
       "6                  34 / 3582  (0.95%)                 19 / 34  (55.88%)   \n",
       "7                  83 / 3582  (2.32%)                 42 / 83  (50.60%)   \n",
       "8                  16 / 3582  (0.45%)                 12 / 16  (75.00%)   \n",
       "9                 129 / 3582  (3.60%)                99 / 129  (76.74%)   \n",
       "10               366 / 3582  (10.22%)                51 / 366  (13.93%)   \n",
       "\n",
       "   Percent of Not Accepted Variant Items  \n",
       "0                    107 / 287  (37.28%)  \n",
       "1                        0 / 14  (0.00%)  \n",
       "2                     90 / 294  (30.61%)  \n",
       "3                     60 / 133  (45.11%)  \n",
       "4                      42 / 91  (46.15%)  \n",
       "5                     69 / 116  (59.48%)  \n",
       "6                      15 / 34  (44.12%)  \n",
       "7                      41 / 83  (49.40%)  \n",
       "8                       4 / 16  (25.00%)  \n",
       "9                     30 / 129  (23.26%)  \n",
       "10                   315 / 366  (86.07%)  "
      ]
     },
     "execution_count": 65,
     "metadata": {},
     "output_type": "execute_result"
    }
   ],
   "source": [
    "not_supported_variant_df = not_supported_variant_df.drop([\"Fraction of Not Supported Variant Items\", \"Fraction of all CIViC Variant Items\", \"Fraction of Accepted Variant Items\", \"Fraction of Not Accepted Variant Items\"], axis=1)\n",
    "not_supported_variant_df"
   ]
  },
  {
   "cell_type": "code",
   "execution_count": 66,
   "metadata": {},
   "outputs": [],
   "source": [
    "not_supported_variant_percent_of_civic_df = not_supported_variant_df.drop([\"Percent of Not Supported Variant Items\", \"Percent of Accepted Variant Items\", \"Percent of Not Accepted Variant Items\"], axis=1)\n",
    "not_supported_variant_percent_of_not_supported_df = not_supported_variant_df.drop([\"Percent of all CIViC Variant Items\", \"Percent of Accepted Variant Items\", \"Percent of Not Accepted Variant Items\"], axis=1)\n",
    "not_supported_variant_percent_evidence_df = not_supported_variant_df.drop([\"Percent of all CIViC Variant Items\", \"Percent of Not Supported Variant Items\"], axis=1)"
   ]
  },
  {
   "cell_type": "markdown",
   "metadata": {},
   "source": [
    "Summary Table 3: The table below shows the categories that the Not Supported variants were broken into and what percentage of all CIViC variants they make up. These percentages will not add up to 100% because Not Supported variants make up 45.62% of all CIViC variants. "
   ]
  },
  {
   "cell_type": "code",
   "execution_count": 67,
   "metadata": {},
   "outputs": [
    {
     "data": {
      "text/html": [
       "<div>\n",
       "<style scoped>\n",
       "    .dataframe tbody tr th:only-of-type {\n",
       "        vertical-align: middle;\n",
       "    }\n",
       "\n",
       "    .dataframe tbody tr th {\n",
       "        vertical-align: top;\n",
       "    }\n",
       "\n",
       "    .dataframe thead th {\n",
       "        text-align: right;\n",
       "    }\n",
       "</style>\n",
       "<table border=\"1\" class=\"dataframe\">\n",
       "  <thead>\n",
       "    <tr style=\"text-align: right;\">\n",
       "      <th></th>\n",
       "      <th>Percent of all CIViC Variant Items</th>\n",
       "    </tr>\n",
       "    <tr>\n",
       "      <th>Category</th>\n",
       "      <th></th>\n",
       "    </tr>\n",
       "  </thead>\n",
       "  <tbody>\n",
       "    <tr>\n",
       "      <th>Expression Variants</th>\n",
       "      <td>287 / 3582  (8.01%)</td>\n",
       "    </tr>\n",
       "    <tr>\n",
       "      <th>Epigenetic Modification</th>\n",
       "      <td>14 / 3582  (0.39%)</td>\n",
       "    </tr>\n",
       "    <tr>\n",
       "      <th>Fusion Variants</th>\n",
       "      <td>294 / 3582  (8.21%)</td>\n",
       "    </tr>\n",
       "    <tr>\n",
       "      <th>Sequence Variants</th>\n",
       "      <td>133 / 3582  (3.71%)</td>\n",
       "    </tr>\n",
       "    <tr>\n",
       "      <th>Gene Function Variants</th>\n",
       "      <td>91 / 3582  (2.54%)</td>\n",
       "    </tr>\n",
       "    <tr>\n",
       "      <th>Rearrangement Variants</th>\n",
       "      <td>116 / 3582  (3.24%)</td>\n",
       "    </tr>\n",
       "    <tr>\n",
       "      <th>Copy Number Variants</th>\n",
       "      <td>34 / 3582  (0.95%)</td>\n",
       "    </tr>\n",
       "    <tr>\n",
       "      <th>Other Variants</th>\n",
       "      <td>83 / 3582  (2.32%)</td>\n",
       "    </tr>\n",
       "    <tr>\n",
       "      <th>Genotype Variants</th>\n",
       "      <td>16 / 3582  (0.45%)</td>\n",
       "    </tr>\n",
       "    <tr>\n",
       "      <th>Region Defined Variants</th>\n",
       "      <td>129 / 3582  (3.60%)</td>\n",
       "    </tr>\n",
       "    <tr>\n",
       "      <th>Transcript Variants</th>\n",
       "      <td>366 / 3582  (10.22%)</td>\n",
       "    </tr>\n",
       "  </tbody>\n",
       "</table>\n",
       "</div>"
      ],
      "text/plain": [
       "                        Percent of all CIViC Variant Items\n",
       "Category                                                  \n",
       "Expression Variants                    287 / 3582  (8.01%)\n",
       "Epigenetic Modification                 14 / 3582  (0.39%)\n",
       "Fusion Variants                        294 / 3582  (8.21%)\n",
       "Sequence Variants                      133 / 3582  (3.71%)\n",
       "Gene Function Variants                  91 / 3582  (2.54%)\n",
       "Rearrangement Variants                 116 / 3582  (3.24%)\n",
       "Copy Number Variants                    34 / 3582  (0.95%)\n",
       "Other Variants                          83 / 3582  (2.32%)\n",
       "Genotype Variants                       16 / 3582  (0.45%)\n",
       "Region Defined Variants                129 / 3582  (3.60%)\n",
       "Transcript Variants                   366 / 3582  (10.22%)"
      ]
     },
     "execution_count": 67,
     "metadata": {},
     "output_type": "execute_result"
    }
   ],
   "source": [
    "not_supported_variant_percent_of_civic_df = not_supported_variant_percent_of_civic_df.set_index(\"Category\")\n",
    "not_supported_variant_percent_of_civic_df"
   ]
  },
  {
   "cell_type": "code",
   "execution_count": 68,
   "metadata": {},
   "outputs": [],
   "source": [
    "summary_table_3 = not_supported_variant_percent_of_civic_df"
   ]
  },
  {
   "cell_type": "markdown",
   "metadata": {},
   "source": [
    "Summary Table 4: The table below shows the Not Supported variants broken up into 12 sub categories and what percent each sub category take up in Not Supported variant group."
   ]
  },
  {
   "cell_type": "code",
   "execution_count": 69,
   "metadata": {},
   "outputs": [
    {
     "data": {
      "text/html": [
       "<div>\n",
       "<style scoped>\n",
       "    .dataframe tbody tr th:only-of-type {\n",
       "        vertical-align: middle;\n",
       "    }\n",
       "\n",
       "    .dataframe tbody tr th {\n",
       "        vertical-align: top;\n",
       "    }\n",
       "\n",
       "    .dataframe thead th {\n",
       "        text-align: right;\n",
       "    }\n",
       "</style>\n",
       "<table border=\"1\" class=\"dataframe\">\n",
       "  <thead>\n",
       "    <tr style=\"text-align: right;\">\n",
       "      <th></th>\n",
       "      <th>Percent of Not Supported Variant Items</th>\n",
       "    </tr>\n",
       "    <tr>\n",
       "      <th>Category</th>\n",
       "      <th></th>\n",
       "    </tr>\n",
       "  </thead>\n",
       "  <tbody>\n",
       "    <tr>\n",
       "      <th>Expression Variants</th>\n",
       "      <td>287 / 1563  (18.36%)</td>\n",
       "    </tr>\n",
       "    <tr>\n",
       "      <th>Epigenetic Modification</th>\n",
       "      <td>14 / 1563  (0.90%)</td>\n",
       "    </tr>\n",
       "    <tr>\n",
       "      <th>Fusion Variants</th>\n",
       "      <td>294 / 1563  (18.81%)</td>\n",
       "    </tr>\n",
       "    <tr>\n",
       "      <th>Sequence Variants</th>\n",
       "      <td>133 / 1563  (8.51%)</td>\n",
       "    </tr>\n",
       "    <tr>\n",
       "      <th>Gene Function Variants</th>\n",
       "      <td>91 / 1563  (5.82%)</td>\n",
       "    </tr>\n",
       "    <tr>\n",
       "      <th>Rearrangement Variants</th>\n",
       "      <td>116 / 1563  (7.42%)</td>\n",
       "    </tr>\n",
       "    <tr>\n",
       "      <th>Copy Number Variants</th>\n",
       "      <td>34 / 1563  (2.18%)</td>\n",
       "    </tr>\n",
       "    <tr>\n",
       "      <th>Other Variants</th>\n",
       "      <td>83 / 1563  (5.31%)</td>\n",
       "    </tr>\n",
       "    <tr>\n",
       "      <th>Genotype Variants</th>\n",
       "      <td>16 / 1563  (1.02%)</td>\n",
       "    </tr>\n",
       "    <tr>\n",
       "      <th>Region Defined Variants</th>\n",
       "      <td>129 / 1563  (8.25%)</td>\n",
       "    </tr>\n",
       "    <tr>\n",
       "      <th>Transcript Variants</th>\n",
       "      <td>366 / 1563  (23.42%)</td>\n",
       "    </tr>\n",
       "  </tbody>\n",
       "</table>\n",
       "</div>"
      ],
      "text/plain": [
       "                        Percent of Not Supported Variant Items\n",
       "Category                                                      \n",
       "Expression Variants                       287 / 1563  (18.36%)\n",
       "Epigenetic Modification                     14 / 1563  (0.90%)\n",
       "Fusion Variants                           294 / 1563  (18.81%)\n",
       "Sequence Variants                          133 / 1563  (8.51%)\n",
       "Gene Function Variants                      91 / 1563  (5.82%)\n",
       "Rearrangement Variants                     116 / 1563  (7.42%)\n",
       "Copy Number Variants                        34 / 1563  (2.18%)\n",
       "Other Variants                              83 / 1563  (5.31%)\n",
       "Genotype Variants                           16 / 1563  (1.02%)\n",
       "Region Defined Variants                    129 / 1563  (8.25%)\n",
       "Transcript Variants                       366 / 1563  (23.42%)"
      ]
     },
     "execution_count": 69,
     "metadata": {},
     "output_type": "execute_result"
    }
   ],
   "source": [
    "not_supported_variant_percent_of_not_supported_df = not_supported_variant_percent_of_not_supported_df.set_index(\"Category\")\n",
    "not_supported_variant_percent_of_not_supported_df"
   ]
  },
  {
   "cell_type": "code",
   "execution_count": 70,
   "metadata": {},
   "outputs": [],
   "source": [
    "summary_table_4: not_supported_variant_percent_of_not_supported_df"
   ]
  },
  {
   "cell_type": "markdown",
   "metadata": {},
   "source": [
    "Summary Table 5: The table below shows the percent of variant items in each Not Supported variant sub category that are accepted(have at least one evidence item that is accepted) or not, per category."
   ]
  },
  {
   "cell_type": "code",
   "execution_count": 71,
   "metadata": {},
   "outputs": [
    {
     "data": {
      "text/html": [
       "<div>\n",
       "<style scoped>\n",
       "    .dataframe tbody tr th:only-of-type {\n",
       "        vertical-align: middle;\n",
       "    }\n",
       "\n",
       "    .dataframe tbody tr th {\n",
       "        vertical-align: top;\n",
       "    }\n",
       "\n",
       "    .dataframe thead th {\n",
       "        text-align: right;\n",
       "    }\n",
       "</style>\n",
       "<table border=\"1\" class=\"dataframe\">\n",
       "  <thead>\n",
       "    <tr style=\"text-align: right;\">\n",
       "      <th></th>\n",
       "      <th>Percent of Accepted Variant Items</th>\n",
       "      <th>Percent of Not Accepted Variant Items</th>\n",
       "    </tr>\n",
       "    <tr>\n",
       "      <th>Category</th>\n",
       "      <th></th>\n",
       "      <th></th>\n",
       "    </tr>\n",
       "  </thead>\n",
       "  <tbody>\n",
       "    <tr>\n",
       "      <th>Expression Variants</th>\n",
       "      <td>180 / 287  (62.72%)</td>\n",
       "      <td>107 / 287  (37.28%)</td>\n",
       "    </tr>\n",
       "    <tr>\n",
       "      <th>Epigenetic Modification</th>\n",
       "      <td>14 / 14  (100.00%)</td>\n",
       "      <td>0 / 14  (0.00%)</td>\n",
       "    </tr>\n",
       "    <tr>\n",
       "      <th>Fusion Variants</th>\n",
       "      <td>204 / 294  (69.39%)</td>\n",
       "      <td>90 / 294  (30.61%)</td>\n",
       "    </tr>\n",
       "    <tr>\n",
       "      <th>Sequence Variants</th>\n",
       "      <td>73 / 133  (54.89%)</td>\n",
       "      <td>60 / 133  (45.11%)</td>\n",
       "    </tr>\n",
       "    <tr>\n",
       "      <th>Gene Function Variants</th>\n",
       "      <td>49 / 91  (53.85%)</td>\n",
       "      <td>42 / 91  (46.15%)</td>\n",
       "    </tr>\n",
       "    <tr>\n",
       "      <th>Rearrangement Variants</th>\n",
       "      <td>47 / 116  (40.52%)</td>\n",
       "      <td>69 / 116  (59.48%)</td>\n",
       "    </tr>\n",
       "    <tr>\n",
       "      <th>Copy Number Variants</th>\n",
       "      <td>19 / 34  (55.88%)</td>\n",
       "      <td>15 / 34  (44.12%)</td>\n",
       "    </tr>\n",
       "    <tr>\n",
       "      <th>Other Variants</th>\n",
       "      <td>42 / 83  (50.60%)</td>\n",
       "      <td>41 / 83  (49.40%)</td>\n",
       "    </tr>\n",
       "    <tr>\n",
       "      <th>Genotype Variants</th>\n",
       "      <td>12 / 16  (75.00%)</td>\n",
       "      <td>4 / 16  (25.00%)</td>\n",
       "    </tr>\n",
       "    <tr>\n",
       "      <th>Region Defined Variants</th>\n",
       "      <td>99 / 129  (76.74%)</td>\n",
       "      <td>30 / 129  (23.26%)</td>\n",
       "    </tr>\n",
       "    <tr>\n",
       "      <th>Transcript Variants</th>\n",
       "      <td>51 / 366  (13.93%)</td>\n",
       "      <td>315 / 366  (86.07%)</td>\n",
       "    </tr>\n",
       "  </tbody>\n",
       "</table>\n",
       "</div>"
      ],
      "text/plain": [
       "                        Percent of Accepted Variant Items  \\\n",
       "Category                                                    \n",
       "Expression Variants                   180 / 287  (62.72%)   \n",
       "Epigenetic Modification                14 / 14  (100.00%)   \n",
       "Fusion Variants                       204 / 294  (69.39%)   \n",
       "Sequence Variants                      73 / 133  (54.89%)   \n",
       "Gene Function Variants                  49 / 91  (53.85%)   \n",
       "Rearrangement Variants                 47 / 116  (40.52%)   \n",
       "Copy Number Variants                    19 / 34  (55.88%)   \n",
       "Other Variants                          42 / 83  (50.60%)   \n",
       "Genotype Variants                       12 / 16  (75.00%)   \n",
       "Region Defined Variants                99 / 129  (76.74%)   \n",
       "Transcript Variants                    51 / 366  (13.93%)   \n",
       "\n",
       "                        Percent of Not Accepted Variant Items  \n",
       "Category                                                       \n",
       "Expression Variants                       107 / 287  (37.28%)  \n",
       "Epigenetic Modification                       0 / 14  (0.00%)  \n",
       "Fusion Variants                            90 / 294  (30.61%)  \n",
       "Sequence Variants                          60 / 133  (45.11%)  \n",
       "Gene Function Variants                      42 / 91  (46.15%)  \n",
       "Rearrangement Variants                     69 / 116  (59.48%)  \n",
       "Copy Number Variants                        15 / 34  (44.12%)  \n",
       "Other Variants                              41 / 83  (49.40%)  \n",
       "Genotype Variants                            4 / 16  (25.00%)  \n",
       "Region Defined Variants                    30 / 129  (23.26%)  \n",
       "Transcript Variants                       315 / 366  (86.07%)  "
      ]
     },
     "execution_count": 71,
     "metadata": {},
     "output_type": "execute_result"
    }
   ],
   "source": [
    "not_supported_variant_percent_evidence_df = not_supported_variant_percent_evidence_df.set_index(\"Category\")\n",
    "not_supported_variant_percent_evidence_df"
   ]
  },
  {
   "cell_type": "code",
   "execution_count": 72,
   "metadata": {},
   "outputs": [],
   "source": [
    "summary_table_5 = not_supported_variant_percent_evidence_df"
   ]
  },
  {
   "cell_type": "markdown",
   "metadata": {},
   "source": [
    "## Evidence Analysis"
   ]
  },
  {
   "cell_type": "code",
   "execution_count": 73,
   "metadata": {},
   "outputs": [],
   "source": [
    "all_variant_evidence_df = pd.DataFrame(evidence_analysis_summary)"
   ]
  },
  {
   "cell_type": "code",
   "execution_count": 74,
   "metadata": {},
   "outputs": [],
   "source": [
    "all_variant_evidence_df[\"Percentage of all CIViC Evidence Items\"] = all_variant_evidence_df[\"Fraction of all CIViC Evidence Items\"].astype(str) + \"  (\" + all_variant_evidence_df[\"Percentage of all CIViC Evidence Items\"] + \")\"\n",
    "all_variant_evidence_df[\"Percentage of Accepted Evidence Items\"] = all_variant_evidence_df[\"Fraction of Accepted Evidence Items\"].astype(str) + \"  (\" + all_variant_evidence_df[\"Percentage of Accepted Evidence Items\"] + \")\"\n",
    "all_variant_evidence_df[\"Percentage of Submitted Evidence Items\"] = all_variant_evidence_df[\"Fraction of Submitted Evidence Items\"].astype(str) + \"  (\" + all_variant_evidence_df[\"Percentage of Submitted Evidence Items\"] + \")\""
   ]
  },
  {
   "cell_type": "code",
   "execution_count": 75,
   "metadata": {},
   "outputs": [],
   "source": [
    "all_variant_evidence_df = all_variant_evidence_df.drop([\"Fraction of all CIViC Evidence Items\", \"Fraction of Accepted Evidence Items\", \"Fraction of Submitted Evidence Items\"], axis=1)"
   ]
  },
  {
   "cell_type": "code",
   "execution_count": 76,
   "metadata": {},
   "outputs": [],
   "source": [
    "all_variant_evidence_percent_of_civic_df = all_variant_evidence_df.drop([\"Percentage of Accepted Evidence Items\", \"Percentage of Submitted Evidence Items\"], axis=1)\n",
    "all_variant_evidence_percent_evidence_df = all_variant_evidence_df.drop([\"Percentage of all CIViC Evidence Items\"], axis=1)"
   ]
  },
  {
   "cell_type": "markdown",
   "metadata": {},
   "source": [
    "Summary Table 6: The table below shows what percentage of all evidence items in CIViC are associated with Normalized, Unable to Normalize, and Not Supported variants. This will not add up to 100% because evidence itmes may be used across multiple variants."
   ]
  },
  {
   "cell_type": "code",
   "execution_count": 77,
   "metadata": {},
   "outputs": [
    {
     "data": {
      "text/html": [
       "<div>\n",
       "<style scoped>\n",
       "    .dataframe tbody tr th:only-of-type {\n",
       "        vertical-align: middle;\n",
       "    }\n",
       "\n",
       "    .dataframe tbody tr th {\n",
       "        vertical-align: top;\n",
       "    }\n",
       "\n",
       "    .dataframe thead th {\n",
       "        text-align: right;\n",
       "    }\n",
       "</style>\n",
       "<table border=\"1\" class=\"dataframe\">\n",
       "  <thead>\n",
       "    <tr style=\"text-align: right;\">\n",
       "      <th></th>\n",
       "      <th>Percentage of all CIViC Evidence Items</th>\n",
       "    </tr>\n",
       "    <tr>\n",
       "      <th>Variant Category</th>\n",
       "      <th></th>\n",
       "    </tr>\n",
       "  </thead>\n",
       "  <tbody>\n",
       "    <tr>\n",
       "      <th>Normalized</th>\n",
       "      <td>6005 / 9920  (60.53%)</td>\n",
       "    </tr>\n",
       "    <tr>\n",
       "      <th>Unable to Normalize</th>\n",
       "      <td>129 / 9920  (1.30%)</td>\n",
       "    </tr>\n",
       "    <tr>\n",
       "      <th>Not Supported</th>\n",
       "      <td>4340 / 9920  (43.75%)</td>\n",
       "    </tr>\n",
       "  </tbody>\n",
       "</table>\n",
       "</div>"
      ],
      "text/plain": [
       "                    Percentage of all CIViC Evidence Items\n",
       "Variant Category                                          \n",
       "Normalized                           6005 / 9920  (60.53%)\n",
       "Unable to Normalize                    129 / 9920  (1.30%)\n",
       "Not Supported                        4340 / 9920  (43.75%)"
      ]
     },
     "execution_count": 77,
     "metadata": {},
     "output_type": "execute_result"
    }
   ],
   "source": [
    "all_variant_evidence_percent_of_civic_df = all_variant_evidence_percent_of_civic_df.set_index(\"Variant Category\")\n",
    "all_variant_evidence_percent_of_civic_df"
   ]
  },
  {
   "cell_type": "code",
   "execution_count": 78,
   "metadata": {},
   "outputs": [],
   "source": [
    "summary_table_6 = all_variant_evidence_percent_of_civic_df"
   ]
  },
  {
   "cell_type": "markdown",
   "metadata": {},
   "source": [
    "Summmary Table 7: The table below shows the percentage of accepted and sumbitted evidence items per category of variants. "
   ]
  },
  {
   "cell_type": "code",
   "execution_count": 79,
   "metadata": {},
   "outputs": [
    {
     "data": {
      "text/html": [
       "<div>\n",
       "<style scoped>\n",
       "    .dataframe tbody tr th:only-of-type {\n",
       "        vertical-align: middle;\n",
       "    }\n",
       "\n",
       "    .dataframe tbody tr th {\n",
       "        vertical-align: top;\n",
       "    }\n",
       "\n",
       "    .dataframe thead th {\n",
       "        text-align: right;\n",
       "    }\n",
       "</style>\n",
       "<table border=\"1\" class=\"dataframe\">\n",
       "  <thead>\n",
       "    <tr style=\"text-align: right;\">\n",
       "      <th></th>\n",
       "      <th>Percentage of Accepted Evidence Items</th>\n",
       "      <th>Percentage of Submitted Evidence Items</th>\n",
       "    </tr>\n",
       "    <tr>\n",
       "      <th>Variant Category</th>\n",
       "      <th></th>\n",
       "      <th></th>\n",
       "    </tr>\n",
       "  </thead>\n",
       "  <tbody>\n",
       "    <tr>\n",
       "      <th>Normalized</th>\n",
       "      <td>2080 / 6005  (34.64%)</td>\n",
       "      <td>3925 / 6005  (65.36%)</td>\n",
       "    </tr>\n",
       "    <tr>\n",
       "      <th>Unable to Normalize</th>\n",
       "      <td>17 / 129  (13.18%)</td>\n",
       "      <td>112 / 129  (86.82%)</td>\n",
       "    </tr>\n",
       "    <tr>\n",
       "      <th>Not Supported</th>\n",
       "      <td>2227 / 4340  (51.31%)</td>\n",
       "      <td>2113 / 4340  (48.69%)</td>\n",
       "    </tr>\n",
       "  </tbody>\n",
       "</table>\n",
       "</div>"
      ],
      "text/plain": [
       "                    Percentage of Accepted Evidence Items  \\\n",
       "Variant Category                                            \n",
       "Normalized                          2080 / 6005  (34.64%)   \n",
       "Unable to Normalize                    17 / 129  (13.18%)   \n",
       "Not Supported                       2227 / 4340  (51.31%)   \n",
       "\n",
       "                    Percentage of Submitted Evidence Items  \n",
       "Variant Category                                            \n",
       "Normalized                           3925 / 6005  (65.36%)  \n",
       "Unable to Normalize                    112 / 129  (86.82%)  \n",
       "Not Supported                        2113 / 4340  (48.69%)  "
      ]
     },
     "execution_count": 79,
     "metadata": {},
     "output_type": "execute_result"
    }
   ],
   "source": [
    "all_variant_evidence_percent_evidence_df = all_variant_evidence_percent_evidence_df.set_index(\"Variant Category\")\n",
    "all_variant_evidence_percent_evidence_df"
   ]
  },
  {
   "cell_type": "code",
   "execution_count": 80,
   "metadata": {},
   "outputs": [],
   "source": [
    "summary_table_7 = all_variant_evidence_percent_evidence_df"
   ]
  },
  {
   "cell_type": "code",
   "execution_count": 81,
   "metadata": {},
   "outputs": [],
   "source": [
    "not_supported_variant_evidence_df = pd.DataFrame(not_supported_variant_evidence_summary)"
   ]
  },
  {
   "cell_type": "code",
   "execution_count": 82,
   "metadata": {},
   "outputs": [],
   "source": [
    "not_supported_variant_evidence_df[\"Percent of CIViC Evidence Items\"] = not_supported_variant_evidence_df[\"Fraction of CIViC Evidence Items\"].astype(str) + \"  (\" + not_supported_variant_evidence_df[\"Percent of CIViC Evidence Items\"] + \")\"\n",
    "not_supported_variant_evidence_df[\"Percent of Not Supported Variant Evidence Items\"] = not_supported_variant_evidence_df[\"Fraction of Not Supported Variant Evidence Items\"].astype(str) + \"  (\" + not_supported_variant_evidence_df[\"Percent of Not Supported Variant Evidence Items\"] + \")\"\n",
    "not_supported_variant_evidence_df[\"Percent of Accepted Evidence Items\"] = not_supported_variant_evidence_df[\"Fraction of Accepted Evidence Items\"].astype(str) + \"  (\" + not_supported_variant_evidence_df[\"Percent of Accepted Evidence Items\"] + \")\"\n",
    "not_supported_variant_evidence_df[\"Percent of Submitted Evidence Items\"] = not_supported_variant_evidence_df[\"Fraction of Submitted Evidence Items\"].astype(str) + \"  (\" + not_supported_variant_evidence_df[\"Percent of Submitted Evidence Items\"] + \")\""
   ]
  },
  {
   "cell_type": "code",
   "execution_count": 83,
   "metadata": {},
   "outputs": [],
   "source": [
    "not_supported_variant_evidence_df = not_supported_variant_evidence_df.drop([\"Fraction of CIViC Evidence Items\", \"Fraction of Not Supported Variant Evidence Items\", \"Fraction of Accepted Evidence Items\", \"Fraction of Submitted Evidence Items\"], axis=1)"
   ]
  },
  {
   "cell_type": "code",
   "execution_count": 84,
   "metadata": {},
   "outputs": [],
   "source": [
    "not_supported_variant_evidence_percent_of_civic_df = not_supported_variant_evidence_df.drop([\"Percent of Not Supported Variant Evidence Items\", \"Percent of Accepted Evidence Items\", \"Percent of Submitted Evidence Items\"], axis=1)\n",
    "not_supported_variant_evidence_percent_of_not_supported_df = not_supported_variant_evidence_df.drop([\"Percent of CIViC Evidence Items\", \"Percent of Accepted Evidence Items\", \"Percent of Submitted Evidence Items\"], axis=1)\n",
    "not_supported_variant_evidence_percent_evidence_df = not_supported_variant_evidence_df.drop([\"Percent of Not Supported Variant Evidence Items\", \"Percent of CIViC Evidence Items\"], axis=1)"
   ]
  },
  {
   "cell_type": "markdown",
   "metadata": {},
   "source": [
    "Summary Table 8: The table below shows the percentage of all CIViC evidence items that are associated with a Not Supported variant sub category. This will not add up to 100% since the evidence items can be associated with multiple variants."
   ]
  },
  {
   "cell_type": "code",
   "execution_count": 85,
   "metadata": {},
   "outputs": [
    {
     "data": {
      "text/html": [
       "<div>\n",
       "<style scoped>\n",
       "    .dataframe tbody tr th:only-of-type {\n",
       "        vertical-align: middle;\n",
       "    }\n",
       "\n",
       "    .dataframe tbody tr th {\n",
       "        vertical-align: top;\n",
       "    }\n",
       "\n",
       "    .dataframe thead th {\n",
       "        text-align: right;\n",
       "    }\n",
       "</style>\n",
       "<table border=\"1\" class=\"dataframe\">\n",
       "  <thead>\n",
       "    <tr style=\"text-align: right;\">\n",
       "      <th></th>\n",
       "      <th>Percent of CIViC Evidence Items</th>\n",
       "    </tr>\n",
       "    <tr>\n",
       "      <th>Category</th>\n",
       "      <th></th>\n",
       "    </tr>\n",
       "  </thead>\n",
       "  <tbody>\n",
       "    <tr>\n",
       "      <th>Expression Variants</th>\n",
       "      <td>611 / 9920  (6.16%)</td>\n",
       "    </tr>\n",
       "    <tr>\n",
       "      <th>Epigenetic Modification</th>\n",
       "      <td>23 / 9920  (0.23%)</td>\n",
       "    </tr>\n",
       "    <tr>\n",
       "      <th>Fusion Variants</th>\n",
       "      <td>1247 / 9920  (12.57%)</td>\n",
       "    </tr>\n",
       "    <tr>\n",
       "      <th>Sequence Variants</th>\n",
       "      <td>308 / 9920  (3.10%)</td>\n",
       "    </tr>\n",
       "    <tr>\n",
       "      <th>Gene Function Variants</th>\n",
       "      <td>354 / 9920  (3.57%)</td>\n",
       "    </tr>\n",
       "    <tr>\n",
       "      <th>Rearrangement Variants</th>\n",
       "      <td>534 / 9920  (5.38%)</td>\n",
       "    </tr>\n",
       "    <tr>\n",
       "      <th>Copy Number Variants</th>\n",
       "      <td>63 / 9920  (0.64%)</td>\n",
       "    </tr>\n",
       "    <tr>\n",
       "      <th>Other Variants</th>\n",
       "      <td>145 / 9920  (1.46%)</td>\n",
       "    </tr>\n",
       "    <tr>\n",
       "      <th>Genotype Variants</th>\n",
       "      <td>29 / 9920  (0.29%)</td>\n",
       "    </tr>\n",
       "    <tr>\n",
       "      <th>Region Defined Variants</th>\n",
       "      <td>575 / 9920  (5.80%)</td>\n",
       "    </tr>\n",
       "    <tr>\n",
       "      <th>Transcript Variants</th>\n",
       "      <td>451 / 9920  (4.55%)</td>\n",
       "    </tr>\n",
       "  </tbody>\n",
       "</table>\n",
       "</div>"
      ],
      "text/plain": [
       "                        Percent of CIViC Evidence Items\n",
       "Category                                               \n",
       "Expression Variants                 611 / 9920  (6.16%)\n",
       "Epigenetic Modification              23 / 9920  (0.23%)\n",
       "Fusion Variants                   1247 / 9920  (12.57%)\n",
       "Sequence Variants                   308 / 9920  (3.10%)\n",
       "Gene Function Variants              354 / 9920  (3.57%)\n",
       "Rearrangement Variants              534 / 9920  (5.38%)\n",
       "Copy Number Variants                 63 / 9920  (0.64%)\n",
       "Other Variants                      145 / 9920  (1.46%)\n",
       "Genotype Variants                    29 / 9920  (0.29%)\n",
       "Region Defined Variants             575 / 9920  (5.80%)\n",
       "Transcript Variants                 451 / 9920  (4.55%)"
      ]
     },
     "execution_count": 85,
     "metadata": {},
     "output_type": "execute_result"
    }
   ],
   "source": [
    "not_supported_variant_evidence_percent_of_civic_df = not_supported_variant_evidence_percent_of_civic_df.set_index(\"Category\")\n",
    "not_supported_variant_evidence_percent_of_civic_df"
   ]
  },
  {
   "cell_type": "code",
   "execution_count": 86,
   "metadata": {},
   "outputs": [],
   "source": [
    "summary_table_8 = not_supported_variant_evidence_percent_of_civic_df"
   ]
  },
  {
   "attachments": {},
   "cell_type": "markdown",
   "metadata": {},
   "source": [
    "Summary Table 9: The table below shows the percentage of all evidence items associated with Not Supported variants that are associated with a variant sub category. "
   ]
  },
  {
   "cell_type": "code",
   "execution_count": 87,
   "metadata": {},
   "outputs": [
    {
     "data": {
      "text/html": [
       "<div>\n",
       "<style scoped>\n",
       "    .dataframe tbody tr th:only-of-type {\n",
       "        vertical-align: middle;\n",
       "    }\n",
       "\n",
       "    .dataframe tbody tr th {\n",
       "        vertical-align: top;\n",
       "    }\n",
       "\n",
       "    .dataframe thead th {\n",
       "        text-align: right;\n",
       "    }\n",
       "</style>\n",
       "<table border=\"1\" class=\"dataframe\">\n",
       "  <thead>\n",
       "    <tr style=\"text-align: right;\">\n",
       "      <th></th>\n",
       "      <th>Percent of Not Supported Variant Evidence Items</th>\n",
       "    </tr>\n",
       "    <tr>\n",
       "      <th>Category</th>\n",
       "      <th></th>\n",
       "    </tr>\n",
       "  </thead>\n",
       "  <tbody>\n",
       "    <tr>\n",
       "      <th>Expression Variants</th>\n",
       "      <td>611 / 4340  (14.08%)</td>\n",
       "    </tr>\n",
       "    <tr>\n",
       "      <th>Epigenetic Modification</th>\n",
       "      <td>23 / 4340  (0.53%)</td>\n",
       "    </tr>\n",
       "    <tr>\n",
       "      <th>Fusion Variants</th>\n",
       "      <td>1247 / 4340  (28.73%)</td>\n",
       "    </tr>\n",
       "    <tr>\n",
       "      <th>Sequence Variants</th>\n",
       "      <td>308 / 4340  (7.10%)</td>\n",
       "    </tr>\n",
       "    <tr>\n",
       "      <th>Gene Function Variants</th>\n",
       "      <td>354 / 4340  (8.16%)</td>\n",
       "    </tr>\n",
       "    <tr>\n",
       "      <th>Rearrangement Variants</th>\n",
       "      <td>534 / 4340  (12.30%)</td>\n",
       "    </tr>\n",
       "    <tr>\n",
       "      <th>Copy Number Variants</th>\n",
       "      <td>63 / 4340  (1.45%)</td>\n",
       "    </tr>\n",
       "    <tr>\n",
       "      <th>Other Variants</th>\n",
       "      <td>145 / 4340  (3.34%)</td>\n",
       "    </tr>\n",
       "    <tr>\n",
       "      <th>Genotype Variants</th>\n",
       "      <td>29 / 4340  (0.67%)</td>\n",
       "    </tr>\n",
       "    <tr>\n",
       "      <th>Region Defined Variants</th>\n",
       "      <td>575 / 4340  (13.25%)</td>\n",
       "    </tr>\n",
       "    <tr>\n",
       "      <th>Transcript Variants</th>\n",
       "      <td>451 / 4340  (10.39%)</td>\n",
       "    </tr>\n",
       "  </tbody>\n",
       "</table>\n",
       "</div>"
      ],
      "text/plain": [
       "                        Percent of Not Supported Variant Evidence Items\n",
       "Category                                                               \n",
       "Expression Variants                                611 / 4340  (14.08%)\n",
       "Epigenetic Modification                              23 / 4340  (0.53%)\n",
       "Fusion Variants                                   1247 / 4340  (28.73%)\n",
       "Sequence Variants                                   308 / 4340  (7.10%)\n",
       "Gene Function Variants                              354 / 4340  (8.16%)\n",
       "Rearrangement Variants                             534 / 4340  (12.30%)\n",
       "Copy Number Variants                                 63 / 4340  (1.45%)\n",
       "Other Variants                                      145 / 4340  (3.34%)\n",
       "Genotype Variants                                    29 / 4340  (0.67%)\n",
       "Region Defined Variants                            575 / 4340  (13.25%)\n",
       "Transcript Variants                                451 / 4340  (10.39%)"
      ]
     },
     "execution_count": 87,
     "metadata": {},
     "output_type": "execute_result"
    }
   ],
   "source": [
    "not_supported_variant_evidence_percent_of_not_supported_df = not_supported_variant_evidence_percent_of_not_supported_df.set_index(\"Category\")\n",
    "not_supported_variant_evidence_percent_of_not_supported_df"
   ]
  },
  {
   "cell_type": "code",
   "execution_count": 88,
   "metadata": {},
   "outputs": [],
   "source": [
    "summary_table_9 = not_supported_variant_evidence_percent_of_not_supported_df"
   ]
  },
  {
   "cell_type": "markdown",
   "metadata": {},
   "source": [
    "Summary Table 10: The table below shows the percentage of evidence items associated with Not Supported variant sub categories that are accepted or submitted."
   ]
  },
  {
   "cell_type": "code",
   "execution_count": 89,
   "metadata": {},
   "outputs": [
    {
     "data": {
      "text/html": [
       "<div>\n",
       "<style scoped>\n",
       "    .dataframe tbody tr th:only-of-type {\n",
       "        vertical-align: middle;\n",
       "    }\n",
       "\n",
       "    .dataframe tbody tr th {\n",
       "        vertical-align: top;\n",
       "    }\n",
       "\n",
       "    .dataframe thead th {\n",
       "        text-align: right;\n",
       "    }\n",
       "</style>\n",
       "<table border=\"1\" class=\"dataframe\">\n",
       "  <thead>\n",
       "    <tr style=\"text-align: right;\">\n",
       "      <th></th>\n",
       "      <th>Percent of Accepted Evidence Items</th>\n",
       "      <th>Percent of Submitted Evidence Items</th>\n",
       "    </tr>\n",
       "    <tr>\n",
       "      <th>Category</th>\n",
       "      <th></th>\n",
       "      <th></th>\n",
       "    </tr>\n",
       "  </thead>\n",
       "  <tbody>\n",
       "    <tr>\n",
       "      <th>Expression Variants</th>\n",
       "      <td>342 / 611  (55.97%)</td>\n",
       "      <td>269 / 611  (44.03%)</td>\n",
       "    </tr>\n",
       "    <tr>\n",
       "      <th>Epigenetic Modification</th>\n",
       "      <td>22 / 23  (95.65%)</td>\n",
       "      <td>1 / 23  (4.35%)</td>\n",
       "    </tr>\n",
       "    <tr>\n",
       "      <th>Fusion Variants</th>\n",
       "      <td>747 / 1247  (59.90%)</td>\n",
       "      <td>500 / 1247  (40.10%)</td>\n",
       "    </tr>\n",
       "    <tr>\n",
       "      <th>Sequence Variants</th>\n",
       "      <td>196 / 308  (63.64%)</td>\n",
       "      <td>112 / 308  (36.36%)</td>\n",
       "    </tr>\n",
       "    <tr>\n",
       "      <th>Gene Function Variants</th>\n",
       "      <td>154 / 354  (43.50%)</td>\n",
       "      <td>200 / 354  (56.50%)</td>\n",
       "    </tr>\n",
       "    <tr>\n",
       "      <th>Rearrangement Variants</th>\n",
       "      <td>202 / 534  (37.83%)</td>\n",
       "      <td>332 / 534  (62.17%)</td>\n",
       "    </tr>\n",
       "    <tr>\n",
       "      <th>Copy Number Variants</th>\n",
       "      <td>27 / 63  (42.86%)</td>\n",
       "      <td>36 / 63  (57.14%)</td>\n",
       "    </tr>\n",
       "    <tr>\n",
       "      <th>Other Variants</th>\n",
       "      <td>58 / 145  (40.00%)</td>\n",
       "      <td>87 / 145  (60.00%)</td>\n",
       "    </tr>\n",
       "    <tr>\n",
       "      <th>Genotype Variants</th>\n",
       "      <td>17 / 29  (58.62%)</td>\n",
       "      <td>12 / 29  (41.38%)</td>\n",
       "    </tr>\n",
       "    <tr>\n",
       "      <th>Region Defined Variants</th>\n",
       "      <td>408 / 575  (70.96%)</td>\n",
       "      <td>167 / 575  (29.04%)</td>\n",
       "    </tr>\n",
       "    <tr>\n",
       "      <th>Transcript Variants</th>\n",
       "      <td>54 / 451  (11.97%)</td>\n",
       "      <td>397 / 451  (88.03%)</td>\n",
       "    </tr>\n",
       "  </tbody>\n",
       "</table>\n",
       "</div>"
      ],
      "text/plain": [
       "                        Percent of Accepted Evidence Items  \\\n",
       "Category                                                     \n",
       "Expression Variants                    342 / 611  (55.97%)   \n",
       "Epigenetic Modification                  22 / 23  (95.65%)   \n",
       "Fusion Variants                       747 / 1247  (59.90%)   \n",
       "Sequence Variants                      196 / 308  (63.64%)   \n",
       "Gene Function Variants                 154 / 354  (43.50%)   \n",
       "Rearrangement Variants                 202 / 534  (37.83%)   \n",
       "Copy Number Variants                     27 / 63  (42.86%)   \n",
       "Other Variants                          58 / 145  (40.00%)   \n",
       "Genotype Variants                        17 / 29  (58.62%)   \n",
       "Region Defined Variants                408 / 575  (70.96%)   \n",
       "Transcript Variants                     54 / 451  (11.97%)   \n",
       "\n",
       "                        Percent of Submitted Evidence Items  \n",
       "Category                                                     \n",
       "Expression Variants                     269 / 611  (44.03%)  \n",
       "Epigenetic Modification                     1 / 23  (4.35%)  \n",
       "Fusion Variants                        500 / 1247  (40.10%)  \n",
       "Sequence Variants                       112 / 308  (36.36%)  \n",
       "Gene Function Variants                  200 / 354  (56.50%)  \n",
       "Rearrangement Variants                  332 / 534  (62.17%)  \n",
       "Copy Number Variants                      36 / 63  (57.14%)  \n",
       "Other Variants                           87 / 145  (60.00%)  \n",
       "Genotype Variants                         12 / 29  (41.38%)  \n",
       "Region Defined Variants                 167 / 575  (29.04%)  \n",
       "Transcript Variants                     397 / 451  (88.03%)  "
      ]
     },
     "execution_count": 89,
     "metadata": {},
     "output_type": "execute_result"
    }
   ],
   "source": [
    "not_supported_variant_evidence_percent_evidence_df = not_supported_variant_evidence_percent_evidence_df.set_index(\"Category\")\n",
    "not_supported_variant_evidence_percent_evidence_df"
   ]
  },
  {
   "cell_type": "code",
   "execution_count": 90,
   "metadata": {},
   "outputs": [],
   "source": [
    "summary_table_10 = not_supported_variant_evidence_percent_evidence_df"
   ]
  },
  {
   "cell_type": "code",
   "execution_count": null,
   "metadata": {},
   "outputs": [],
   "source": []
  },
  {
   "cell_type": "markdown",
   "metadata": {},
   "source": [
    "## Impact"
   ]
  },
  {
   "cell_type": "markdown",
   "metadata": {},
   "source": [
    "The bar graph below shows the relationship between the Not Suported variant sub category impact score and the sub category. Additionally, the colors illustrate the number of evidence items associated each sub category."
   ]
  },
  {
   "cell_type": "code",
   "execution_count": 91,
   "metadata": {},
   "outputs": [
    {
     "data": {
      "application/vnd.plotly.v1+json": {
       "config": {
        "plotlyServerURL": "https://plot.ly"
       },
       "data": [
        {
         "alignmentgroup": "True",
         "customdata": [
          [
           611,
           "55.97%"
          ],
          [
           23,
           "95.65%"
          ],
          [
           1247,
           "59.90%"
          ],
          [
           308,
           "63.64%"
          ],
          [
           354,
           "43.50%"
          ],
          [
           534,
           "37.83%"
          ],
          [
           63,
           "42.86%"
          ],
          [
           145,
           "40.00%"
          ],
          [
           29,
           "58.62%"
          ],
          [
           575,
           "70.96%"
          ],
          [
           451,
           "11.97%"
          ]
         ],
         "hovertemplate": "Category=%{x}<br>Total Sum Impact Score=%{y}<br>Total Number Evidence Items=%{marker.color}<br>% Accepted Evidence Items=%{customdata[1]}<extra></extra>",
         "legendgroup": "",
         "marker": {
          "color": [
           611,
           23,
           1247,
           308,
           354,
           534,
           63,
           145,
           29,
           575,
           451
          ],
          "coloraxis": "coloraxis",
          "pattern": {
           "shape": ""
          }
         },
         "name": "",
         "offsetgroup": "",
         "orientation": "v",
         "showlegend": false,
         "textposition": "auto",
         "texttemplate": "%{y:.1f}",
         "type": "bar",
         "width": 1,
         "x": [
          "Expression Variants",
          "Epigenetic Modification",
          "Fusion Variants",
          "Sequence Variants",
          "Gene Function Variants",
          "Rearrangement Variants",
          "Copy Number Variants",
          "Other Variants",
          "Genotype Variants",
          "Region Defined Variants",
          "Transcript Variants"
         ],
         "xaxis": "x",
         "y": [
          3618,
          285.5,
          6558.75,
          2746.75,
          1805.5,
          2794,
          225,
          653.5,
          312.5,
          6199.5,
          356.5
         ],
         "yaxis": "y"
        }
       ],
       "layout": {
        "barmode": "relative",
        "coloraxis": {
         "colorbar": {
          "title": {
           "text": "Total Number Evidence Items"
          }
         },
         "colorscale": [
          [
           0,
           "rgb(0, 128, 128)"
          ],
          [
           0.16666666666666666,
           "rgb(112, 164, 148)"
          ],
          [
           0.3333333333333333,
           "rgb(180, 200, 168)"
          ],
          [
           0.5,
           "rgb(246, 237, 189)"
          ],
          [
           0.6666666666666666,
           "rgb(237, 187, 138)"
          ],
          [
           0.8333333333333334,
           "rgb(222, 138, 90)"
          ],
          [
           1,
           "rgb(202, 86, 44)"
          ]
         ]
        },
        "legend": {
         "tracegroupgap": 0
        },
        "margin": {
         "t": 60
        },
        "template": {
         "data": {
          "bar": [
           {
            "error_x": {
             "color": "#2a3f5f"
            },
            "error_y": {
             "color": "#2a3f5f"
            },
            "marker": {
             "line": {
              "color": "#E5ECF6",
              "width": 0.5
             },
             "pattern": {
              "fillmode": "overlay",
              "size": 10,
              "solidity": 0.2
             }
            },
            "type": "bar"
           }
          ],
          "barpolar": [
           {
            "marker": {
             "line": {
              "color": "#E5ECF6",
              "width": 0.5
             },
             "pattern": {
              "fillmode": "overlay",
              "size": 10,
              "solidity": 0.2
             }
            },
            "type": "barpolar"
           }
          ],
          "carpet": [
           {
            "aaxis": {
             "endlinecolor": "#2a3f5f",
             "gridcolor": "white",
             "linecolor": "white",
             "minorgridcolor": "white",
             "startlinecolor": "#2a3f5f"
            },
            "baxis": {
             "endlinecolor": "#2a3f5f",
             "gridcolor": "white",
             "linecolor": "white",
             "minorgridcolor": "white",
             "startlinecolor": "#2a3f5f"
            },
            "type": "carpet"
           }
          ],
          "choropleth": [
           {
            "colorbar": {
             "outlinewidth": 0,
             "ticks": ""
            },
            "type": "choropleth"
           }
          ],
          "contour": [
           {
            "colorbar": {
             "outlinewidth": 0,
             "ticks": ""
            },
            "colorscale": [
             [
              0,
              "#0d0887"
             ],
             [
              0.1111111111111111,
              "#46039f"
             ],
             [
              0.2222222222222222,
              "#7201a8"
             ],
             [
              0.3333333333333333,
              "#9c179e"
             ],
             [
              0.4444444444444444,
              "#bd3786"
             ],
             [
              0.5555555555555556,
              "#d8576b"
             ],
             [
              0.6666666666666666,
              "#ed7953"
             ],
             [
              0.7777777777777778,
              "#fb9f3a"
             ],
             [
              0.8888888888888888,
              "#fdca26"
             ],
             [
              1,
              "#f0f921"
             ]
            ],
            "type": "contour"
           }
          ],
          "contourcarpet": [
           {
            "colorbar": {
             "outlinewidth": 0,
             "ticks": ""
            },
            "type": "contourcarpet"
           }
          ],
          "heatmap": [
           {
            "colorbar": {
             "outlinewidth": 0,
             "ticks": ""
            },
            "colorscale": [
             [
              0,
              "#0d0887"
             ],
             [
              0.1111111111111111,
              "#46039f"
             ],
             [
              0.2222222222222222,
              "#7201a8"
             ],
             [
              0.3333333333333333,
              "#9c179e"
             ],
             [
              0.4444444444444444,
              "#bd3786"
             ],
             [
              0.5555555555555556,
              "#d8576b"
             ],
             [
              0.6666666666666666,
              "#ed7953"
             ],
             [
              0.7777777777777778,
              "#fb9f3a"
             ],
             [
              0.8888888888888888,
              "#fdca26"
             ],
             [
              1,
              "#f0f921"
             ]
            ],
            "type": "heatmap"
           }
          ],
          "heatmapgl": [
           {
            "colorbar": {
             "outlinewidth": 0,
             "ticks": ""
            },
            "colorscale": [
             [
              0,
              "#0d0887"
             ],
             [
              0.1111111111111111,
              "#46039f"
             ],
             [
              0.2222222222222222,
              "#7201a8"
             ],
             [
              0.3333333333333333,
              "#9c179e"
             ],
             [
              0.4444444444444444,
              "#bd3786"
             ],
             [
              0.5555555555555556,
              "#d8576b"
             ],
             [
              0.6666666666666666,
              "#ed7953"
             ],
             [
              0.7777777777777778,
              "#fb9f3a"
             ],
             [
              0.8888888888888888,
              "#fdca26"
             ],
             [
              1,
              "#f0f921"
             ]
            ],
            "type": "heatmapgl"
           }
          ],
          "histogram": [
           {
            "marker": {
             "pattern": {
              "fillmode": "overlay",
              "size": 10,
              "solidity": 0.2
             }
            },
            "type": "histogram"
           }
          ],
          "histogram2d": [
           {
            "colorbar": {
             "outlinewidth": 0,
             "ticks": ""
            },
            "colorscale": [
             [
              0,
              "#0d0887"
             ],
             [
              0.1111111111111111,
              "#46039f"
             ],
             [
              0.2222222222222222,
              "#7201a8"
             ],
             [
              0.3333333333333333,
              "#9c179e"
             ],
             [
              0.4444444444444444,
              "#bd3786"
             ],
             [
              0.5555555555555556,
              "#d8576b"
             ],
             [
              0.6666666666666666,
              "#ed7953"
             ],
             [
              0.7777777777777778,
              "#fb9f3a"
             ],
             [
              0.8888888888888888,
              "#fdca26"
             ],
             [
              1,
              "#f0f921"
             ]
            ],
            "type": "histogram2d"
           }
          ],
          "histogram2dcontour": [
           {
            "colorbar": {
             "outlinewidth": 0,
             "ticks": ""
            },
            "colorscale": [
             [
              0,
              "#0d0887"
             ],
             [
              0.1111111111111111,
              "#46039f"
             ],
             [
              0.2222222222222222,
              "#7201a8"
             ],
             [
              0.3333333333333333,
              "#9c179e"
             ],
             [
              0.4444444444444444,
              "#bd3786"
             ],
             [
              0.5555555555555556,
              "#d8576b"
             ],
             [
              0.6666666666666666,
              "#ed7953"
             ],
             [
              0.7777777777777778,
              "#fb9f3a"
             ],
             [
              0.8888888888888888,
              "#fdca26"
             ],
             [
              1,
              "#f0f921"
             ]
            ],
            "type": "histogram2dcontour"
           }
          ],
          "mesh3d": [
           {
            "colorbar": {
             "outlinewidth": 0,
             "ticks": ""
            },
            "type": "mesh3d"
           }
          ],
          "parcoords": [
           {
            "line": {
             "colorbar": {
              "outlinewidth": 0,
              "ticks": ""
             }
            },
            "type": "parcoords"
           }
          ],
          "pie": [
           {
            "automargin": true,
            "type": "pie"
           }
          ],
          "scatter": [
           {
            "fillpattern": {
             "fillmode": "overlay",
             "size": 10,
             "solidity": 0.2
            },
            "type": "scatter"
           }
          ],
          "scatter3d": [
           {
            "line": {
             "colorbar": {
              "outlinewidth": 0,
              "ticks": ""
             }
            },
            "marker": {
             "colorbar": {
              "outlinewidth": 0,
              "ticks": ""
             }
            },
            "type": "scatter3d"
           }
          ],
          "scattercarpet": [
           {
            "marker": {
             "colorbar": {
              "outlinewidth": 0,
              "ticks": ""
             }
            },
            "type": "scattercarpet"
           }
          ],
          "scattergeo": [
           {
            "marker": {
             "colorbar": {
              "outlinewidth": 0,
              "ticks": ""
             }
            },
            "type": "scattergeo"
           }
          ],
          "scattergl": [
           {
            "marker": {
             "colorbar": {
              "outlinewidth": 0,
              "ticks": ""
             }
            },
            "type": "scattergl"
           }
          ],
          "scattermapbox": [
           {
            "marker": {
             "colorbar": {
              "outlinewidth": 0,
              "ticks": ""
             }
            },
            "type": "scattermapbox"
           }
          ],
          "scatterpolar": [
           {
            "marker": {
             "colorbar": {
              "outlinewidth": 0,
              "ticks": ""
             }
            },
            "type": "scatterpolar"
           }
          ],
          "scatterpolargl": [
           {
            "marker": {
             "colorbar": {
              "outlinewidth": 0,
              "ticks": ""
             }
            },
            "type": "scatterpolargl"
           }
          ],
          "scatterternary": [
           {
            "marker": {
             "colorbar": {
              "outlinewidth": 0,
              "ticks": ""
             }
            },
            "type": "scatterternary"
           }
          ],
          "surface": [
           {
            "colorbar": {
             "outlinewidth": 0,
             "ticks": ""
            },
            "colorscale": [
             [
              0,
              "#0d0887"
             ],
             [
              0.1111111111111111,
              "#46039f"
             ],
             [
              0.2222222222222222,
              "#7201a8"
             ],
             [
              0.3333333333333333,
              "#9c179e"
             ],
             [
              0.4444444444444444,
              "#bd3786"
             ],
             [
              0.5555555555555556,
              "#d8576b"
             ],
             [
              0.6666666666666666,
              "#ed7953"
             ],
             [
              0.7777777777777778,
              "#fb9f3a"
             ],
             [
              0.8888888888888888,
              "#fdca26"
             ],
             [
              1,
              "#f0f921"
             ]
            ],
            "type": "surface"
           }
          ],
          "table": [
           {
            "cells": {
             "fill": {
              "color": "#EBF0F8"
             },
             "line": {
              "color": "white"
             }
            },
            "header": {
             "fill": {
              "color": "#C8D4E3"
             },
             "line": {
              "color": "white"
             }
            },
            "type": "table"
           }
          ]
         },
         "layout": {
          "annotationdefaults": {
           "arrowcolor": "#2a3f5f",
           "arrowhead": 0,
           "arrowwidth": 1
          },
          "autotypenumbers": "strict",
          "coloraxis": {
           "colorbar": {
            "outlinewidth": 0,
            "ticks": ""
           }
          },
          "colorscale": {
           "diverging": [
            [
             0,
             "#8e0152"
            ],
            [
             0.1,
             "#c51b7d"
            ],
            [
             0.2,
             "#de77ae"
            ],
            [
             0.3,
             "#f1b6da"
            ],
            [
             0.4,
             "#fde0ef"
            ],
            [
             0.5,
             "#f7f7f7"
            ],
            [
             0.6,
             "#e6f5d0"
            ],
            [
             0.7,
             "#b8e186"
            ],
            [
             0.8,
             "#7fbc41"
            ],
            [
             0.9,
             "#4d9221"
            ],
            [
             1,
             "#276419"
            ]
           ],
           "sequential": [
            [
             0,
             "#0d0887"
            ],
            [
             0.1111111111111111,
             "#46039f"
            ],
            [
             0.2222222222222222,
             "#7201a8"
            ],
            [
             0.3333333333333333,
             "#9c179e"
            ],
            [
             0.4444444444444444,
             "#bd3786"
            ],
            [
             0.5555555555555556,
             "#d8576b"
            ],
            [
             0.6666666666666666,
             "#ed7953"
            ],
            [
             0.7777777777777778,
             "#fb9f3a"
            ],
            [
             0.8888888888888888,
             "#fdca26"
            ],
            [
             1,
             "#f0f921"
            ]
           ],
           "sequentialminus": [
            [
             0,
             "#0d0887"
            ],
            [
             0.1111111111111111,
             "#46039f"
            ],
            [
             0.2222222222222222,
             "#7201a8"
            ],
            [
             0.3333333333333333,
             "#9c179e"
            ],
            [
             0.4444444444444444,
             "#bd3786"
            ],
            [
             0.5555555555555556,
             "#d8576b"
            ],
            [
             0.6666666666666666,
             "#ed7953"
            ],
            [
             0.7777777777777778,
             "#fb9f3a"
            ],
            [
             0.8888888888888888,
             "#fdca26"
            ],
            [
             1,
             "#f0f921"
            ]
           ]
          },
          "colorway": [
           "#636efa",
           "#EF553B",
           "#00cc96",
           "#ab63fa",
           "#FFA15A",
           "#19d3f3",
           "#FF6692",
           "#B6E880",
           "#FF97FF",
           "#FECB52"
          ],
          "font": {
           "color": "#2a3f5f"
          },
          "geo": {
           "bgcolor": "white",
           "lakecolor": "white",
           "landcolor": "#E5ECF6",
           "showlakes": true,
           "showland": true,
           "subunitcolor": "white"
          },
          "hoverlabel": {
           "align": "left"
          },
          "hovermode": "closest",
          "mapbox": {
           "style": "light"
          },
          "paper_bgcolor": "white",
          "plot_bgcolor": "#E5ECF6",
          "polar": {
           "angularaxis": {
            "gridcolor": "white",
            "linecolor": "white",
            "ticks": ""
           },
           "bgcolor": "#E5ECF6",
           "radialaxis": {
            "gridcolor": "white",
            "linecolor": "white",
            "ticks": ""
           }
          },
          "scene": {
           "xaxis": {
            "backgroundcolor": "#E5ECF6",
            "gridcolor": "white",
            "gridwidth": 2,
            "linecolor": "white",
            "showbackground": true,
            "ticks": "",
            "zerolinecolor": "white"
           },
           "yaxis": {
            "backgroundcolor": "#E5ECF6",
            "gridcolor": "white",
            "gridwidth": 2,
            "linecolor": "white",
            "showbackground": true,
            "ticks": "",
            "zerolinecolor": "white"
           },
           "zaxis": {
            "backgroundcolor": "#E5ECF6",
            "gridcolor": "white",
            "gridwidth": 2,
            "linecolor": "white",
            "showbackground": true,
            "ticks": "",
            "zerolinecolor": "white"
           }
          },
          "shapedefaults": {
           "line": {
            "color": "#2a3f5f"
           }
          },
          "ternary": {
           "aaxis": {
            "gridcolor": "white",
            "linecolor": "white",
            "ticks": ""
           },
           "baxis": {
            "gridcolor": "white",
            "linecolor": "white",
            "ticks": ""
           },
           "bgcolor": "#E5ECF6",
           "caxis": {
            "gridcolor": "white",
            "linecolor": "white",
            "ticks": ""
           }
          },
          "title": {
           "x": 0.05
          },
          "xaxis": {
           "automargin": true,
           "gridcolor": "white",
           "linecolor": "white",
           "ticks": "",
           "title": {
            "standoff": 15
           },
           "zerolinecolor": "white",
           "zerolinewidth": 2
          },
          "yaxis": {
           "automargin": true,
           "gridcolor": "white",
           "linecolor": "white",
           "ticks": "",
           "title": {
            "standoff": 15
           },
           "zerolinecolor": "white",
           "zerolinewidth": 2
          }
         }
        },
        "xaxis": {
         "anchor": "y",
         "domain": [
          0,
          1
         ],
         "title": {
          "text": "Category"
         }
        },
        "yaxis": {
         "anchor": "x",
         "domain": [
          0,
          1
         ],
         "title": {
          "text": "Total Sum Impact Score"
         }
        }
       }
      }
     },
     "metadata": {},
     "output_type": "display_data"
    }
   ],
   "source": [
    "fig = px.bar(\n",
    "    not_supported_variant_impact_df,\n",
    "    x=\"Category\",\n",
    "    y=\"Total Sum Impact Score\",\n",
    "    hover_data=[\"Total Number Evidence Items\", not_supported_variant_impact_df[\"% Accepted Evidence Items\"]],\n",
    "    color=\"Total Number Evidence Items\",\n",
    "    labels={\"Total Sum Impact Score\": \"Total Sum Impact Score\"},\n",
    "    text_auto=\".1f\",\n",
    "    color_continuous_scale=\"geyser\"\n",
    ")\n",
    "fig.update_traces(width=1)\n",
    "fig.show()"
   ]
  },
  {
   "cell_type": "code",
   "execution_count": 92,
   "metadata": {},
   "outputs": [],
   "source": [
    "fig.write_html(\"civic_ns_categories_impact_redgreen.html\")"
   ]
  },
  {
   "cell_type": "markdown",
   "metadata": {},
   "source": [
    "The scatterplot below shows the relationship between the Not Suported variant sub category impact score and the number of evidence items associated with variants in each sub category. Additionally, the sizes of the data point represent the number of variants in each sub category. "
   ]
  },
  {
   "cell_type": "code",
   "execution_count": 93,
   "metadata": {},
   "outputs": [
    {
     "data": {
      "application/vnd.plotly.v1+json": {
       "config": {
        "plotlyServerURL": "https://plot.ly"
       },
       "data": [
        {
         "customdata": [
          [
           "55.97%"
          ]
         ],
         "hovertemplate": "Category=Expression Variants<br>Total Number Evidence Items=%{x}<br>Total Sum Impact Score=%{y}<br>Total Number Variants=%{text}<br>% Accepted Evidence Items=%{customdata[0]}<extra></extra>",
         "legendgroup": "Expression Variants",
         "marker": {
          "color": "#636efa",
          "size": [
           287
          ],
          "sizemode": "area",
          "sizeref": 0.22875,
          "symbol": "circle"
         },
         "mode": "markers+text",
         "name": "Expression Variants",
         "orientation": "v",
         "showlegend": true,
         "text": [
          287
         ],
         "type": "scatter",
         "x": [
          611
         ],
         "xaxis": "x",
         "y": [
          3618
         ],
         "yaxis": "y"
        },
        {
         "customdata": [
          [
           "95.65%"
          ]
         ],
         "hovertemplate": "Category=Epigenetic Modification<br>Total Number Evidence Items=%{x}<br>Total Sum Impact Score=%{y}<br>Total Number Variants=%{text}<br>% Accepted Evidence Items=%{customdata[0]}<extra></extra>",
         "legendgroup": "Epigenetic Modification",
         "marker": {
          "color": "#EF553B",
          "size": [
           14
          ],
          "sizemode": "area",
          "sizeref": 0.22875,
          "symbol": "circle"
         },
         "mode": "markers+text",
         "name": "Epigenetic Modification",
         "orientation": "v",
         "showlegend": true,
         "text": [
          14
         ],
         "type": "scatter",
         "x": [
          23
         ],
         "xaxis": "x",
         "y": [
          285.5
         ],
         "yaxis": "y"
        },
        {
         "customdata": [
          [
           "59.90%"
          ]
         ],
         "hovertemplate": "Category=Fusion Variants<br>Total Number Evidence Items=%{x}<br>Total Sum Impact Score=%{y}<br>Total Number Variants=%{text}<br>% Accepted Evidence Items=%{customdata[0]}<extra></extra>",
         "legendgroup": "Fusion Variants",
         "marker": {
          "color": "#00cc96",
          "size": [
           294
          ],
          "sizemode": "area",
          "sizeref": 0.22875,
          "symbol": "circle"
         },
         "mode": "markers+text",
         "name": "Fusion Variants",
         "orientation": "v",
         "showlegend": true,
         "text": [
          294
         ],
         "type": "scatter",
         "x": [
          1247
         ],
         "xaxis": "x",
         "y": [
          6558.75
         ],
         "yaxis": "y"
        },
        {
         "customdata": [
          [
           "63.64%"
          ]
         ],
         "hovertemplate": "Category=Sequence Variants<br>Total Number Evidence Items=%{x}<br>Total Sum Impact Score=%{y}<br>Total Number Variants=%{text}<br>% Accepted Evidence Items=%{customdata[0]}<extra></extra>",
         "legendgroup": "Sequence Variants",
         "marker": {
          "color": "#ab63fa",
          "size": [
           133
          ],
          "sizemode": "area",
          "sizeref": 0.22875,
          "symbol": "circle"
         },
         "mode": "markers+text",
         "name": "Sequence Variants",
         "orientation": "v",
         "showlegend": true,
         "text": [
          133
         ],
         "type": "scatter",
         "x": [
          308
         ],
         "xaxis": "x",
         "y": [
          2746.75
         ],
         "yaxis": "y"
        },
        {
         "customdata": [
          [
           "43.50%"
          ]
         ],
         "hovertemplate": "Category=Gene Function Variants<br>Total Number Evidence Items=%{x}<br>Total Sum Impact Score=%{y}<br>Total Number Variants=%{text}<br>% Accepted Evidence Items=%{customdata[0]}<extra></extra>",
         "legendgroup": "Gene Function Variants",
         "marker": {
          "color": "#FFA15A",
          "size": [
           91
          ],
          "sizemode": "area",
          "sizeref": 0.22875,
          "symbol": "circle"
         },
         "mode": "markers+text",
         "name": "Gene Function Variants",
         "orientation": "v",
         "showlegend": true,
         "text": [
          91
         ],
         "type": "scatter",
         "x": [
          354
         ],
         "xaxis": "x",
         "y": [
          1805.5
         ],
         "yaxis": "y"
        },
        {
         "customdata": [
          [
           "37.83%"
          ]
         ],
         "hovertemplate": "Category=Rearrangement Variants<br>Total Number Evidence Items=%{x}<br>Total Sum Impact Score=%{y}<br>Total Number Variants=%{text}<br>% Accepted Evidence Items=%{customdata[0]}<extra></extra>",
         "legendgroup": "Rearrangement Variants",
         "marker": {
          "color": "#19d3f3",
          "size": [
           116
          ],
          "sizemode": "area",
          "sizeref": 0.22875,
          "symbol": "circle"
         },
         "mode": "markers+text",
         "name": "Rearrangement Variants",
         "orientation": "v",
         "showlegend": true,
         "text": [
          116
         ],
         "type": "scatter",
         "x": [
          534
         ],
         "xaxis": "x",
         "y": [
          2794
         ],
         "yaxis": "y"
        },
        {
         "customdata": [
          [
           "42.86%"
          ]
         ],
         "hovertemplate": "Category=Copy Number Variants<br>Total Number Evidence Items=%{x}<br>Total Sum Impact Score=%{y}<br>Total Number Variants=%{text}<br>% Accepted Evidence Items=%{customdata[0]}<extra></extra>",
         "legendgroup": "Copy Number Variants",
         "marker": {
          "color": "#FF6692",
          "size": [
           34
          ],
          "sizemode": "area",
          "sizeref": 0.22875,
          "symbol": "circle"
         },
         "mode": "markers+text",
         "name": "Copy Number Variants",
         "orientation": "v",
         "showlegend": true,
         "text": [
          34
         ],
         "type": "scatter",
         "x": [
          63
         ],
         "xaxis": "x",
         "y": [
          225
         ],
         "yaxis": "y"
        },
        {
         "customdata": [
          [
           "40.00%"
          ]
         ],
         "hovertemplate": "Category=Other Variants<br>Total Number Evidence Items=%{x}<br>Total Sum Impact Score=%{y}<br>Total Number Variants=%{text}<br>% Accepted Evidence Items=%{customdata[0]}<extra></extra>",
         "legendgroup": "Other Variants",
         "marker": {
          "color": "#B6E880",
          "size": [
           83
          ],
          "sizemode": "area",
          "sizeref": 0.22875,
          "symbol": "circle"
         },
         "mode": "markers+text",
         "name": "Other Variants",
         "orientation": "v",
         "showlegend": true,
         "text": [
          83
         ],
         "type": "scatter",
         "x": [
          145
         ],
         "xaxis": "x",
         "y": [
          653.5
         ],
         "yaxis": "y"
        },
        {
         "customdata": [
          [
           "58.62%"
          ]
         ],
         "hovertemplate": "Category=Genotype Variants<br>Total Number Evidence Items=%{x}<br>Total Sum Impact Score=%{y}<br>Total Number Variants=%{text}<br>% Accepted Evidence Items=%{customdata[0]}<extra></extra>",
         "legendgroup": "Genotype Variants",
         "marker": {
          "color": "#FF97FF",
          "size": [
           16
          ],
          "sizemode": "area",
          "sizeref": 0.22875,
          "symbol": "circle"
         },
         "mode": "markers+text",
         "name": "Genotype Variants",
         "orientation": "v",
         "showlegend": true,
         "text": [
          16
         ],
         "type": "scatter",
         "x": [
          29
         ],
         "xaxis": "x",
         "y": [
          312.5
         ],
         "yaxis": "y"
        },
        {
         "customdata": [
          [
           "70.96%"
          ]
         ],
         "hovertemplate": "Category=Region Defined Variants<br>Total Number Evidence Items=%{x}<br>Total Sum Impact Score=%{y}<br>Total Number Variants=%{text}<br>% Accepted Evidence Items=%{customdata[0]}<extra></extra>",
         "legendgroup": "Region Defined Variants",
         "marker": {
          "color": "#FECB52",
          "size": [
           129
          ],
          "sizemode": "area",
          "sizeref": 0.22875,
          "symbol": "circle"
         },
         "mode": "markers+text",
         "name": "Region Defined Variants",
         "orientation": "v",
         "showlegend": true,
         "text": [
          129
         ],
         "type": "scatter",
         "x": [
          575
         ],
         "xaxis": "x",
         "y": [
          6199.5
         ],
         "yaxis": "y"
        },
        {
         "customdata": [
          [
           "11.97%"
          ]
         ],
         "hovertemplate": "Category=Transcript Variants<br>Total Number Evidence Items=%{x}<br>Total Sum Impact Score=%{y}<br>Total Number Variants=%{text}<br>% Accepted Evidence Items=%{customdata[0]}<extra></extra>",
         "legendgroup": "Transcript Variants",
         "marker": {
          "color": "#636efa",
          "size": [
           366
          ],
          "sizemode": "area",
          "sizeref": 0.22875,
          "symbol": "circle"
         },
         "mode": "markers+text",
         "name": "Transcript Variants",
         "orientation": "v",
         "showlegend": true,
         "text": [
          366
         ],
         "type": "scatter",
         "x": [
          451
         ],
         "xaxis": "x",
         "y": [
          356.5
         ],
         "yaxis": "y"
        }
       ],
       "layout": {
        "legend": {
         "itemsizing": "constant",
         "title": {
          "text": "Category"
         },
         "tracegroupgap": 0
        },
        "margin": {
         "t": 60
        },
        "template": {
         "data": {
          "bar": [
           {
            "error_x": {
             "color": "#2a3f5f"
            },
            "error_y": {
             "color": "#2a3f5f"
            },
            "marker": {
             "line": {
              "color": "#E5ECF6",
              "width": 0.5
             },
             "pattern": {
              "fillmode": "overlay",
              "size": 10,
              "solidity": 0.2
             }
            },
            "type": "bar"
           }
          ],
          "barpolar": [
           {
            "marker": {
             "line": {
              "color": "#E5ECF6",
              "width": 0.5
             },
             "pattern": {
              "fillmode": "overlay",
              "size": 10,
              "solidity": 0.2
             }
            },
            "type": "barpolar"
           }
          ],
          "carpet": [
           {
            "aaxis": {
             "endlinecolor": "#2a3f5f",
             "gridcolor": "white",
             "linecolor": "white",
             "minorgridcolor": "white",
             "startlinecolor": "#2a3f5f"
            },
            "baxis": {
             "endlinecolor": "#2a3f5f",
             "gridcolor": "white",
             "linecolor": "white",
             "minorgridcolor": "white",
             "startlinecolor": "#2a3f5f"
            },
            "type": "carpet"
           }
          ],
          "choropleth": [
           {
            "colorbar": {
             "outlinewidth": 0,
             "ticks": ""
            },
            "type": "choropleth"
           }
          ],
          "contour": [
           {
            "colorbar": {
             "outlinewidth": 0,
             "ticks": ""
            },
            "colorscale": [
             [
              0,
              "#0d0887"
             ],
             [
              0.1111111111111111,
              "#46039f"
             ],
             [
              0.2222222222222222,
              "#7201a8"
             ],
             [
              0.3333333333333333,
              "#9c179e"
             ],
             [
              0.4444444444444444,
              "#bd3786"
             ],
             [
              0.5555555555555556,
              "#d8576b"
             ],
             [
              0.6666666666666666,
              "#ed7953"
             ],
             [
              0.7777777777777778,
              "#fb9f3a"
             ],
             [
              0.8888888888888888,
              "#fdca26"
             ],
             [
              1,
              "#f0f921"
             ]
            ],
            "type": "contour"
           }
          ],
          "contourcarpet": [
           {
            "colorbar": {
             "outlinewidth": 0,
             "ticks": ""
            },
            "type": "contourcarpet"
           }
          ],
          "heatmap": [
           {
            "colorbar": {
             "outlinewidth": 0,
             "ticks": ""
            },
            "colorscale": [
             [
              0,
              "#0d0887"
             ],
             [
              0.1111111111111111,
              "#46039f"
             ],
             [
              0.2222222222222222,
              "#7201a8"
             ],
             [
              0.3333333333333333,
              "#9c179e"
             ],
             [
              0.4444444444444444,
              "#bd3786"
             ],
             [
              0.5555555555555556,
              "#d8576b"
             ],
             [
              0.6666666666666666,
              "#ed7953"
             ],
             [
              0.7777777777777778,
              "#fb9f3a"
             ],
             [
              0.8888888888888888,
              "#fdca26"
             ],
             [
              1,
              "#f0f921"
             ]
            ],
            "type": "heatmap"
           }
          ],
          "heatmapgl": [
           {
            "colorbar": {
             "outlinewidth": 0,
             "ticks": ""
            },
            "colorscale": [
             [
              0,
              "#0d0887"
             ],
             [
              0.1111111111111111,
              "#46039f"
             ],
             [
              0.2222222222222222,
              "#7201a8"
             ],
             [
              0.3333333333333333,
              "#9c179e"
             ],
             [
              0.4444444444444444,
              "#bd3786"
             ],
             [
              0.5555555555555556,
              "#d8576b"
             ],
             [
              0.6666666666666666,
              "#ed7953"
             ],
             [
              0.7777777777777778,
              "#fb9f3a"
             ],
             [
              0.8888888888888888,
              "#fdca26"
             ],
             [
              1,
              "#f0f921"
             ]
            ],
            "type": "heatmapgl"
           }
          ],
          "histogram": [
           {
            "marker": {
             "pattern": {
              "fillmode": "overlay",
              "size": 10,
              "solidity": 0.2
             }
            },
            "type": "histogram"
           }
          ],
          "histogram2d": [
           {
            "colorbar": {
             "outlinewidth": 0,
             "ticks": ""
            },
            "colorscale": [
             [
              0,
              "#0d0887"
             ],
             [
              0.1111111111111111,
              "#46039f"
             ],
             [
              0.2222222222222222,
              "#7201a8"
             ],
             [
              0.3333333333333333,
              "#9c179e"
             ],
             [
              0.4444444444444444,
              "#bd3786"
             ],
             [
              0.5555555555555556,
              "#d8576b"
             ],
             [
              0.6666666666666666,
              "#ed7953"
             ],
             [
              0.7777777777777778,
              "#fb9f3a"
             ],
             [
              0.8888888888888888,
              "#fdca26"
             ],
             [
              1,
              "#f0f921"
             ]
            ],
            "type": "histogram2d"
           }
          ],
          "histogram2dcontour": [
           {
            "colorbar": {
             "outlinewidth": 0,
             "ticks": ""
            },
            "colorscale": [
             [
              0,
              "#0d0887"
             ],
             [
              0.1111111111111111,
              "#46039f"
             ],
             [
              0.2222222222222222,
              "#7201a8"
             ],
             [
              0.3333333333333333,
              "#9c179e"
             ],
             [
              0.4444444444444444,
              "#bd3786"
             ],
             [
              0.5555555555555556,
              "#d8576b"
             ],
             [
              0.6666666666666666,
              "#ed7953"
             ],
             [
              0.7777777777777778,
              "#fb9f3a"
             ],
             [
              0.8888888888888888,
              "#fdca26"
             ],
             [
              1,
              "#f0f921"
             ]
            ],
            "type": "histogram2dcontour"
           }
          ],
          "mesh3d": [
           {
            "colorbar": {
             "outlinewidth": 0,
             "ticks": ""
            },
            "type": "mesh3d"
           }
          ],
          "parcoords": [
           {
            "line": {
             "colorbar": {
              "outlinewidth": 0,
              "ticks": ""
             }
            },
            "type": "parcoords"
           }
          ],
          "pie": [
           {
            "automargin": true,
            "type": "pie"
           }
          ],
          "scatter": [
           {
            "fillpattern": {
             "fillmode": "overlay",
             "size": 10,
             "solidity": 0.2
            },
            "type": "scatter"
           }
          ],
          "scatter3d": [
           {
            "line": {
             "colorbar": {
              "outlinewidth": 0,
              "ticks": ""
             }
            },
            "marker": {
             "colorbar": {
              "outlinewidth": 0,
              "ticks": ""
             }
            },
            "type": "scatter3d"
           }
          ],
          "scattercarpet": [
           {
            "marker": {
             "colorbar": {
              "outlinewidth": 0,
              "ticks": ""
             }
            },
            "type": "scattercarpet"
           }
          ],
          "scattergeo": [
           {
            "marker": {
             "colorbar": {
              "outlinewidth": 0,
              "ticks": ""
             }
            },
            "type": "scattergeo"
           }
          ],
          "scattergl": [
           {
            "marker": {
             "colorbar": {
              "outlinewidth": 0,
              "ticks": ""
             }
            },
            "type": "scattergl"
           }
          ],
          "scattermapbox": [
           {
            "marker": {
             "colorbar": {
              "outlinewidth": 0,
              "ticks": ""
             }
            },
            "type": "scattermapbox"
           }
          ],
          "scatterpolar": [
           {
            "marker": {
             "colorbar": {
              "outlinewidth": 0,
              "ticks": ""
             }
            },
            "type": "scatterpolar"
           }
          ],
          "scatterpolargl": [
           {
            "marker": {
             "colorbar": {
              "outlinewidth": 0,
              "ticks": ""
             }
            },
            "type": "scatterpolargl"
           }
          ],
          "scatterternary": [
           {
            "marker": {
             "colorbar": {
              "outlinewidth": 0,
              "ticks": ""
             }
            },
            "type": "scatterternary"
           }
          ],
          "surface": [
           {
            "colorbar": {
             "outlinewidth": 0,
             "ticks": ""
            },
            "colorscale": [
             [
              0,
              "#0d0887"
             ],
             [
              0.1111111111111111,
              "#46039f"
             ],
             [
              0.2222222222222222,
              "#7201a8"
             ],
             [
              0.3333333333333333,
              "#9c179e"
             ],
             [
              0.4444444444444444,
              "#bd3786"
             ],
             [
              0.5555555555555556,
              "#d8576b"
             ],
             [
              0.6666666666666666,
              "#ed7953"
             ],
             [
              0.7777777777777778,
              "#fb9f3a"
             ],
             [
              0.8888888888888888,
              "#fdca26"
             ],
             [
              1,
              "#f0f921"
             ]
            ],
            "type": "surface"
           }
          ],
          "table": [
           {
            "cells": {
             "fill": {
              "color": "#EBF0F8"
             },
             "line": {
              "color": "white"
             }
            },
            "header": {
             "fill": {
              "color": "#C8D4E3"
             },
             "line": {
              "color": "white"
             }
            },
            "type": "table"
           }
          ]
         },
         "layout": {
          "annotationdefaults": {
           "arrowcolor": "#2a3f5f",
           "arrowhead": 0,
           "arrowwidth": 1
          },
          "autotypenumbers": "strict",
          "coloraxis": {
           "colorbar": {
            "outlinewidth": 0,
            "ticks": ""
           }
          },
          "colorscale": {
           "diverging": [
            [
             0,
             "#8e0152"
            ],
            [
             0.1,
             "#c51b7d"
            ],
            [
             0.2,
             "#de77ae"
            ],
            [
             0.3,
             "#f1b6da"
            ],
            [
             0.4,
             "#fde0ef"
            ],
            [
             0.5,
             "#f7f7f7"
            ],
            [
             0.6,
             "#e6f5d0"
            ],
            [
             0.7,
             "#b8e186"
            ],
            [
             0.8,
             "#7fbc41"
            ],
            [
             0.9,
             "#4d9221"
            ],
            [
             1,
             "#276419"
            ]
           ],
           "sequential": [
            [
             0,
             "#0d0887"
            ],
            [
             0.1111111111111111,
             "#46039f"
            ],
            [
             0.2222222222222222,
             "#7201a8"
            ],
            [
             0.3333333333333333,
             "#9c179e"
            ],
            [
             0.4444444444444444,
             "#bd3786"
            ],
            [
             0.5555555555555556,
             "#d8576b"
            ],
            [
             0.6666666666666666,
             "#ed7953"
            ],
            [
             0.7777777777777778,
             "#fb9f3a"
            ],
            [
             0.8888888888888888,
             "#fdca26"
            ],
            [
             1,
             "#f0f921"
            ]
           ],
           "sequentialminus": [
            [
             0,
             "#0d0887"
            ],
            [
             0.1111111111111111,
             "#46039f"
            ],
            [
             0.2222222222222222,
             "#7201a8"
            ],
            [
             0.3333333333333333,
             "#9c179e"
            ],
            [
             0.4444444444444444,
             "#bd3786"
            ],
            [
             0.5555555555555556,
             "#d8576b"
            ],
            [
             0.6666666666666666,
             "#ed7953"
            ],
            [
             0.7777777777777778,
             "#fb9f3a"
            ],
            [
             0.8888888888888888,
             "#fdca26"
            ],
            [
             1,
             "#f0f921"
            ]
           ]
          },
          "colorway": [
           "#636efa",
           "#EF553B",
           "#00cc96",
           "#ab63fa",
           "#FFA15A",
           "#19d3f3",
           "#FF6692",
           "#B6E880",
           "#FF97FF",
           "#FECB52"
          ],
          "font": {
           "color": "#2a3f5f"
          },
          "geo": {
           "bgcolor": "white",
           "lakecolor": "white",
           "landcolor": "#E5ECF6",
           "showlakes": true,
           "showland": true,
           "subunitcolor": "white"
          },
          "hoverlabel": {
           "align": "left"
          },
          "hovermode": "closest",
          "mapbox": {
           "style": "light"
          },
          "paper_bgcolor": "white",
          "plot_bgcolor": "#E5ECF6",
          "polar": {
           "angularaxis": {
            "gridcolor": "white",
            "linecolor": "white",
            "ticks": ""
           },
           "bgcolor": "#E5ECF6",
           "radialaxis": {
            "gridcolor": "white",
            "linecolor": "white",
            "ticks": ""
           }
          },
          "scene": {
           "xaxis": {
            "backgroundcolor": "#E5ECF6",
            "gridcolor": "white",
            "gridwidth": 2,
            "linecolor": "white",
            "showbackground": true,
            "ticks": "",
            "zerolinecolor": "white"
           },
           "yaxis": {
            "backgroundcolor": "#E5ECF6",
            "gridcolor": "white",
            "gridwidth": 2,
            "linecolor": "white",
            "showbackground": true,
            "ticks": "",
            "zerolinecolor": "white"
           },
           "zaxis": {
            "backgroundcolor": "#E5ECF6",
            "gridcolor": "white",
            "gridwidth": 2,
            "linecolor": "white",
            "showbackground": true,
            "ticks": "",
            "zerolinecolor": "white"
           }
          },
          "shapedefaults": {
           "line": {
            "color": "#2a3f5f"
           }
          },
          "ternary": {
           "aaxis": {
            "gridcolor": "white",
            "linecolor": "white",
            "ticks": ""
           },
           "baxis": {
            "gridcolor": "white",
            "linecolor": "white",
            "ticks": ""
           },
           "bgcolor": "#E5ECF6",
           "caxis": {
            "gridcolor": "white",
            "linecolor": "white",
            "ticks": ""
           }
          },
          "title": {
           "x": 0.05
          },
          "xaxis": {
           "automargin": true,
           "gridcolor": "white",
           "linecolor": "white",
           "ticks": "",
           "title": {
            "standoff": 15
           },
           "zerolinecolor": "white",
           "zerolinewidth": 2
          },
          "yaxis": {
           "automargin": true,
           "gridcolor": "white",
           "linecolor": "white",
           "ticks": "",
           "title": {
            "standoff": 15
           },
           "zerolinecolor": "white",
           "zerolinewidth": 2
          }
         }
        },
        "xaxis": {
         "anchor": "y",
         "domain": [
          0,
          1
         ],
         "title": {
          "text": "Total Number Evidence Items"
         }
        },
        "yaxis": {
         "anchor": "x",
         "domain": [
          0,
          1
         ],
         "title": {
          "text": "Total Sum Impact Score"
         }
        }
       }
      }
     },
     "metadata": {},
     "output_type": "display_data"
    }
   ],
   "source": [
    "fig2 = px.scatter(\n",
    "    data_frame=not_supported_variant_impact_df,\n",
    "    x=\"Total Number Evidence Items\",\n",
    "    y=\"Total Sum Impact Score\",\n",
    "    size=\"Total Number Variants\",\n",
    "    size_max=40,\n",
    "    text=\"Total Number Variants\",\n",
    "    color=\"Category\",\n",
    "    hover_data=\"% Accepted Evidence Items\"\n",
    ")\n",
    "fig2.show()"
   ]
  },
  {
   "cell_type": "code",
   "execution_count": 94,
   "metadata": {},
   "outputs": [],
   "source": [
    "fig2.write_html(\"civic_ns_categories_impact_scatterplot.html\")"
   ]
  },
  {
   "cell_type": "code",
   "execution_count": null,
   "metadata": {},
   "outputs": [],
   "source": []
  }
 ],
 "metadata": {
  "kernelspec": {
   "display_name": "Python 3.10.9 64-bit ('3.10.9')",
   "language": "python",
   "name": "python3"
  },
  "language_info": {
   "codemirror_mode": {
    "name": "ipython",
    "version": 3
   },
   "file_extension": ".py",
   "mimetype": "text/x-python",
   "name": "python",
   "nbconvert_exporter": "python",
   "pygments_lexer": "ipython3",
   "version": "3.11.3"
  },
  "orig_nbformat": 4,
  "vscode": {
   "interpreter": {
    "hash": "1bd4a0c8bc911393f4a19827cd0d555013b2fcb9ea63c8ddc9b9ae4ac59a8883"
   }
  }
 },
 "nbformat": 4,
 "nbformat_minor": 2
}
