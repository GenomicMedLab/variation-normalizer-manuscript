{
 "cells": [
  {
   "cell_type": "markdown",
   "metadata": {},
   "source": [
    "# <a id='toc1_'></a>[CIViC Evidence Analysis](#toc0_)\n",
    "The civic_evidence_analysis notebook contains an analysis on CIViC evidence data"
   ]
  },
  {
   "cell_type": "markdown",
   "metadata": {},
   "source": [
    "**Table of contents**<a id='toc0_'></a>    \n",
    "- [CIViC Evidence Analysis](#toc1_)    \n",
    "  - [Initialize](#toc1_1_)    \n",
    "    - [Import necessary libraries](#toc1_1_1_)    \n",
    "    - [Create output directory](#toc1_1_2_)    \n",
    "    - [Use latest cache that has been pushed to the repo](#toc1_1_3_)    \n",
    "  - [Total Variants in CIViC](#toc1_2_)    \n",
    "  - [Total Evidence items in CIViC](#toc1_3_)    \n",
    "  - [Total Molecular Profiles in CIViC](#toc1_4_)    \n",
    "- [Create analysis functions / global variables](#toc2_)    \n",
    "  - [Summary dicts](#toc2_1_)    \n",
    "  - [Define Analysis Functions](#toc2_2_)    \n",
    "- [Analysis of Normalized Queries](#toc3_)    \n",
    "  - [List of Normalized Variants ID's](#toc3_1_)    \n",
    "  - [Variant analysis](#toc3_2_)    \n",
    "  - [Transform df for evidence analysis](#toc3_3_)    \n",
    "  - [Evidence analysis](#toc3_4_)    \n",
    "  - [Impact](#toc3_5_)    \n",
    "    - [Import molecular profile id](#toc3_5_1_)    \n",
    "    - [Import molecular profile scores](#toc3_5_2_)    \n",
    "- [Analysis of Unable to Normalize Queries](#toc4_)    \n",
    "  - [List of Unable to Normalize Variant ID's](#toc4_1_)    \n",
    "  - [Variant analysis](#toc4_2_)    \n",
    "  - [Transform df for evidence analysis](#toc4_3_)    \n",
    "  - [Evidence analysis](#toc4_4_)    \n",
    "  - [Impact](#toc4_5_)    \n",
    "    - [Import molecular profile id](#toc4_5_1_)    \n",
    "    - [Import molecular profile scores](#toc4_5_2_)    \n",
    "- [Analysis of Not Supported Variants](#toc5_)    \n",
    "    - [List of Not Supported Variant ID's](#toc5_1_1_)    \n",
    "  - [Variant Analysis](#toc5_2_)    \n",
    "    - [Not Supported Variant Analysis by Subcategory](#toc5_2_1_)    \n",
    "  - [Transform df for evidence analysis](#toc5_3_)    \n",
    "  - [Evidence analysis](#toc5_4_)    \n",
    "    - [Not Supported Variant Evidence Analysis by Subcategory](#toc5_4_1_)    \n",
    "  - [Impact](#toc5_5_)    \n",
    "    - [Via Evidence Level](#toc5_5_1_)    \n",
    "      - [Analysis with only Accepted Variants](#toc5_5_1_1_)    \n",
    "        - [Calculating evidence score via level](#toc5_5_1_1_1_)    \n",
    "        - [Summary Table](#toc5_5_1_1_2_)    \n",
    "      - [Analysis with Accepted and Submitted Variants](#toc5_5_1_2_)    \n",
    "        - [Calculating evidence score via level](#toc5_5_1_2_1_)    \n",
    "        - [Summary Table](#toc5_5_1_2_2_)    \n",
    "    - [Via Molecular Profile Score- this was not used eventaully since MOA evidence items are only scored by level](#toc5_5_2_)    \n",
    "      - [Import molecular profile id](#toc5_5_2_1_)    \n",
    "      - [Import molecular profile scores](#toc5_5_2_2_)    \n",
    "      - [Impact by Subcategory](#toc5_5_2_3_)    \n",
    "- [Summary](#toc6_)    \n",
    "  - [Variant Analysis](#toc6_1_)    \n",
    "    - [Building Summary Table 1 & 2](#toc6_1_1_)    \n",
    "    - [Summary Table 1](#toc6_1_2_)    \n",
    "    - [Summary Table 2](#toc6_1_3_)    \n",
    "    - [Building Summary Tables 3 - 5](#toc6_1_4_)    \n",
    "    - [Summary Table 3](#toc6_1_5_)    \n",
    "    - [Summary Table 4](#toc6_1_6_)    \n",
    "    - [Summary Table 5](#toc6_1_7_)    \n",
    "  - [Evidence Analysis](#toc6_2_)    \n",
    "    - [Building Summary Tables 6 & 7](#toc6_2_1_)    \n",
    "    - [Summary Table 6](#toc6_2_2_)    \n",
    "    - [Summmary Table 7](#toc6_2_3_)    \n",
    "    - [Building Summary Tables 8 - 10](#toc6_2_4_)    \n",
    "    - [Summary Table 8](#toc6_2_5_)    \n",
    "    - [Summary Table 9](#toc6_2_6_)    \n",
    "    - [Summary Table 10](#toc6_2_7_)    \n",
    "  - [Impact](#toc6_3_)    \n",
    "\n",
    "<!-- vscode-jupyter-toc-config\n",
    "\tnumbering=false\n",
    "\tanchor=true\n",
    "\tflat=false\n",
    "\tminLevel=1\n",
    "\tmaxLevel=6\n",
    "\t/vscode-jupyter-toc-config -->\n",
    "<!-- THIS CELL WILL BE REPLACED ON TOC UPDATE. DO NOT WRITE YOUR TEXT IN THIS CELL -->"
   ]
  },
  {
   "cell_type": "markdown",
   "metadata": {},
   "source": [
    "## <a id='toc1_1_'></a>[Initialize](#toc0_)"
   ]
  },
  {
   "cell_type": "markdown",
   "metadata": {},
   "source": [
    "### <a id='toc1_1_1_'></a>[Import necessary libraries](#toc0_)"
   ]
  },
  {
   "cell_type": "code",
   "execution_count": null,
   "metadata": {},
   "outputs": [],
   "source": [
    "from pathlib import Path\n",
    "from enum import Enum\n",
    "import zipfile\n",
    "import pandas as pd\n",
    "from civicpy import civic as civicpy\n",
    "import plotly.express as px"
   ]
  },
  {
   "cell_type": "markdown",
   "metadata": {},
   "source": [
    "### <a id='toc1_1_2_'></a>[Create output directory](#toc0_)"
   ]
  },
  {
   "cell_type": "code",
   "execution_count": null,
   "metadata": {},
   "outputs": [],
   "source": [
    "path = Path(\"output\")\n",
    "path.mkdir(exist_ok=True)"
   ]
  },
  {
   "cell_type": "markdown",
   "metadata": {},
   "source": [
    "### <a id='toc1_1_3_'></a>[Use latest cache that has been pushed to the repo](#toc0_)"
   ]
  },
  {
   "cell_type": "code",
   "execution_count": null,
   "metadata": {},
   "outputs": [],
   "source": [
    "latest_cache_zip_path = sorted(Path().glob(\"../cache-*.pkl.zip\"))[-1]\n",
    "print(f\"Using {latest_cache_zip_path} for civicpy cache\")\n",
    "\n",
    "with zipfile.ZipFile(latest_cache_zip_path, \"r\") as zip_ref:\n",
    "    zip_ref.extractall(\"../\")\n",
    "\n",
    "civicpy.load_cache(local_cache_path=Path(\"../cache.pkl\"), on_stale=\"ignore\")"
   ]
  },
  {
   "cell_type": "markdown",
   "metadata": {},
   "source": [
    "## <a id='toc1_2_'></a>[Total Variants in CIViC](#toc0_)"
   ]
  },
  {
   "cell_type": "code",
   "execution_count": null,
   "metadata": {},
   "outputs": [],
   "source": [
    "civic_variant_ids = civicpy.get_all_variants(include_status=[\"accepted\", \"submitted\"])\n",
    "total_number_variants = len(civic_variant_ids)\n",
    "f\"Total Number of variants in CIViC: {total_number_variants}\""
   ]
  },
  {
   "cell_type": "markdown",
   "metadata": {},
   "source": [
    "## <a id='toc1_3_'></a>[Total Evidence items in CIViC](#toc0_)"
   ]
  },
  {
   "cell_type": "markdown",
   "metadata": {},
   "source": [
    "Rejected evidence items are excluded"
   ]
  },
  {
   "cell_type": "code",
   "execution_count": null,
   "metadata": {},
   "outputs": [],
   "source": [
    "civic_evidence_items = civicpy.get_all_evidence(\n",
    "    include_status=[\"accepted\", \"submitted\"]\n",
    ")"
   ]
  },
  {
   "cell_type": "code",
   "execution_count": null,
   "metadata": {},
   "outputs": [],
   "source": [
    "total_ac_sub_evidence = len(civic_evidence_items)\n",
    "f\"Total Number of accepted and submitted evidence items in CIViC: {total_ac_sub_evidence}\""
   ]
  },
  {
   "cell_type": "markdown",
   "metadata": {},
   "source": [
    "## <a id='toc1_4_'></a>[Total Molecular Profiles in CIViC](#toc0_)"
   ]
  },
  {
   "cell_type": "code",
   "execution_count": null,
   "metadata": {},
   "outputs": [],
   "source": [
    "civic_molprofs = civicpy.get_all_molecular_profiles(\n",
    "    include_status=[\"accepted\", \"submitted\"]\n",
    ")"
   ]
  },
  {
   "cell_type": "markdown",
   "metadata": {},
   "source": [
    "# <a id='toc2_'></a>[Create analysis functions / global variables](#toc0_)"
   ]
  },
  {
   "cell_type": "code",
   "execution_count": null,
   "metadata": {},
   "outputs": [],
   "source": [
    "class VariantNormType(str, Enum):\n",
    "    \"\"\"Variation Normalization types\"\"\"\n",
    "\n",
    "    NORMALIZED = \"Normalized\"\n",
    "    UNABLE_TO_NORMALIZE = \"Unable to Normalize\"\n",
    "    NOT_SUPPORTED = \"Not Supported\"\n",
    "\n",
    "\n",
    "VARIANT_NORM_TYPE_VALUES = [v.value for v in VariantNormType.__members__.values()]"
   ]
  },
  {
   "cell_type": "code",
   "execution_count": null,
   "metadata": {},
   "outputs": [],
   "source": [
    "class VariantCategory(str, Enum):\n",
    "    \"\"\"Create enum for the kind of variants that are in CIViC.\"\"\"\n",
    "\n",
    "    EXPRESSION = \"Expression Variants\"\n",
    "    EPIGENETIC_MODIFICATION = \"Epigenetic Modification\"\n",
    "    FUSION = \"Fusion Variants\"\n",
    "    SEQUENCE_VARS = \"Sequence Variants\"\n",
    "    GENE_FUNC = \"Gene Function Variants\"\n",
    "    REARRANGEMENTS = \"Rearrangement Variants\"\n",
    "    COPY_NUMBER = \"Copy Number Variants\"\n",
    "    OTHER = \"Other Variants\"\n",
    "    GENOTYPES = \"Genotype Variants\"\n",
    "    REGION_DEFINED_VAR = \"Region Defined Variants\"\n",
    "    TRANSCRIPT_VAR = \"Transcript Variants\"  # no attempt to normalize these ones, since there is no query we could use\n",
    "\n",
    "\n",
    "VARIANT_CATEGORY_VALUES = [v.value for v in VariantCategory.__members__.values()]"
   ]
  },
  {
   "cell_type": "markdown",
   "metadata": {},
   "source": [
    "## <a id='toc2_1_'></a>[Summary dicts](#toc0_)\n",
    "\n",
    "These dictionaries will be mutated and used at the end of the analysis"
   ]
  },
  {
   "cell_type": "code",
   "execution_count": null,
   "metadata": {},
   "outputs": [],
   "source": [
    "variant_analysis_summary = {\n",
    "    \"Variant Category\": VARIANT_NORM_TYPE_VALUES,\n",
    "    \"Count of CIViC Variants per Category\": [],\n",
    "    \"Fraction of all CIViC Variants\": [],\n",
    "    \"Percent of all CIViC Variants\": [],\n",
    "    \"Fraction of Accepted Variants\": [],\n",
    "    \"Percent of Accepted Variants\": [],\n",
    "    \"Fraction of Submitted Variants\": [],\n",
    "    \"Percent of Submitted Variants\": [],\n",
    "}\n",
    "variant_analysis_summary"
   ]
  },
  {
   "cell_type": "code",
   "execution_count": null,
   "metadata": {},
   "outputs": [],
   "source": [
    "evidence_analysis_summary = {\n",
    "    \"Variant Category\": VARIANT_NORM_TYPE_VALUES,\n",
    "    \"Count of CIViC Evidence Items per Category\": [],\n",
    "    \"Fraction of all CIViC Evidence Items\": [],\n",
    "    \"Percent of all CIViC Evidence Items\": [],\n",
    "    \"Fraction of Accepted Evidence Items\": [],\n",
    "    \"Percent of Accepted Evidence Items\": [],\n",
    "    \"Fraction of Submitted Evidence Items\": [],\n",
    "    \"Percent of Submitted Evidence Items\": [],\n",
    "}\n",
    "evidence_analysis_summary"
   ]
  },
  {
   "cell_type": "markdown",
   "metadata": {},
   "source": [
    "## <a id='toc2_2_'></a>[Define Analysis Functions](#toc0_)"
   ]
  },
  {
   "cell_type": "code",
   "execution_count": null,
   "metadata": {},
   "outputs": [],
   "source": [
    "def variant_analysis(\n",
    "    df: pd.DataFrame, variant_norm_type: VariantNormType\n",
    ") -> pd.DataFrame:\n",
    "    \"\"\"Do variant analysis (counts, percentages)\n",
    "\n",
    "    :param df: Dataframe of variants\n",
    "    :param variant_norm_type: The kind of variants that are in `df`\n",
    "    :return: Transformed dataframe with variant ID duplicates dropped\n",
    "    \"\"\"\n",
    "    # Drop duplicate rows\n",
    "    df = df.drop_duplicates(subset=[\"variant_id\"])\n",
    "    variant_ids = list(df[\"variant_id\"])\n",
    "\n",
    "    # Count\n",
    "    num_variants = len(variant_ids)\n",
    "    fraction_variants = f\"{num_variants} / {total_number_variants}\"\n",
    "    print(\n",
    "        f\"\\nNumber of {variant_norm_type.value} Variants in CIViC: {fraction_variants}\"\n",
    "    )\n",
    "\n",
    "    # Percent\n",
    "    percentage_variants = f\"{num_variants / total_number_variants * 100:.2f}%\"\n",
    "    print(\n",
    "        f\"Percent of {variant_norm_type.value} Variants in CIViC: {percentage_variants}\"\n",
    "    )\n",
    "\n",
    "    # Get accepted counts\n",
    "    num_accepted_variants = df.variant_accepted.sum()\n",
    "    fraction_accepted_variants = f\"{num_accepted_variants} / {num_variants}\"\n",
    "    print(\n",
    "        f\"\\nNumber of accepted {variant_norm_type.value} Variants: {fraction_accepted_variants}\"\n",
    "    )\n",
    "\n",
    "    # Get accepted Percent\n",
    "    percentage_accepted_variants = f\"{num_accepted_variants / num_variants * 100:.2f}%\"\n",
    "    print(\n",
    "        f\"Percent of accepted {variant_norm_type.value} Variants: {percentage_accepted_variants}\"\n",
    "    )\n",
    "\n",
    "    # Get submitted counts\n",
    "    num_submitted_variants = len(df) - num_accepted_variants\n",
    "    fraction_submitted_variants = f\"{num_submitted_variants} / {num_variants}\"\n",
    "    print(\n",
    "        f\"\\nNumber of submitted {variant_norm_type.value} Variants: {fraction_submitted_variants}\"\n",
    "    )\n",
    "\n",
    "    # Get submitted Percent\n",
    "    percentage_submitted_variants = (\n",
    "        f\"{num_submitted_variants / num_variants * 100:.2f}%\"\n",
    "    )\n",
    "    print(\n",
    "        f\"Percent of submitted {variant_norm_type.value} Variants: {percentage_submitted_variants}\"\n",
    "    )\n",
    "\n",
    "    variant_analysis_summary[\"Count of CIViC Variants per Category\"].append(\n",
    "        num_variants\n",
    "    )\n",
    "    variant_analysis_summary[\"Fraction of all CIViC Variants\"].append(fraction_variants)\n",
    "    variant_analysis_summary[\"Percent of all CIViC Variants\"].append(\n",
    "        percentage_variants\n",
    "    )\n",
    "    variant_analysis_summary[\"Fraction of Accepted Variants\"].append(\n",
    "        fraction_accepted_variants\n",
    "    )\n",
    "    variant_analysis_summary[\"Percent of Accepted Variants\"].append(\n",
    "        percentage_accepted_variants\n",
    "    )\n",
    "    variant_analysis_summary[\"Fraction of Submitted Variants\"].append(\n",
    "        fraction_submitted_variants\n",
    "    )\n",
    "    variant_analysis_summary[\"Percent of Submitted Variants\"].append(\n",
    "        percentage_submitted_variants\n",
    "    )\n",
    "\n",
    "    return df"
   ]
  },
  {
   "cell_type": "code",
   "execution_count": null,
   "metadata": {},
   "outputs": [],
   "source": [
    "def transform_df_evidence_ids(df: pd.DataFrame) -> pd.DataFrame:\n",
    "    \"\"\"Transform dataframe to include evidence ID information\n",
    "\n",
    "    :param df: Dataframe of variants\n",
    "    :return: Transformed dataframe with evidence ID information\n",
    "    \"\"\"\n",
    "    tmp_df = df.copy(deep=True)\n",
    "\n",
    "    _variants_evidence_ids = []\n",
    "    variant_ids = list(tmp_df[\"variant_id\"])\n",
    "\n",
    "    for v_id in variant_ids:\n",
    "        _variant_evidence_ids = []\n",
    "\n",
    "        for variant in civic_variant_ids:\n",
    "            if int(v_id) == variant.id:\n",
    "                for mp in variant.molecular_profiles:\n",
    "                    for e in mp.evidence_items:\n",
    "                        if e.id not in _variant_evidence_ids:\n",
    "                            _variant_evidence_ids.append(e.id)\n",
    "\n",
    "        _variants_evidence_ids.append(_variant_evidence_ids or \"\")\n",
    "\n",
    "    tmp_df[\"evidence_ids\"] = _variants_evidence_ids\n",
    "\n",
    "    # Explode and rename evidence ids field\n",
    "    tmp_df = tmp_df.explode(column=\"evidence_ids\")\n",
    "    tmp_df = tmp_df.rename(columns={\"evidence_ids\": \"evidence_id\"})\n",
    "\n",
    "    return tmp_df"
   ]
  },
  {
   "cell_type": "code",
   "execution_count": null,
   "metadata": {},
   "outputs": [],
   "source": [
    "def transform_df_evidence(df: pd.DataFrame) -> pd.DataFrame:\n",
    "    \"\"\"Transform dataframe to include evidence status, rating, and level\n",
    "\n",
    "    :param df: Dataframe of variants\n",
    "    :return: Transformed dataframe with evidence status, rating, and level information.\n",
    "    \"\"\"\n",
    "    variants_evidence_ids = list(df[\"evidence_id\"])\n",
    "\n",
    "    # Add evidence status, rating, and level information\n",
    "    _variants_evidence_statuses = []\n",
    "    _variants_evidence_ratings = []\n",
    "    _variants_evidence_levels = []\n",
    "\n",
    "    for eid in variants_evidence_ids:\n",
    "        _variant_evidence_statuses = []\n",
    "        _variant_evidence_ratings = []\n",
    "        _variant_evidence_levels = []\n",
    "\n",
    "        for evidence in civic_evidence_items:\n",
    "            if eid and (int(eid) == evidence.id):\n",
    "                if evidence.status not in _variant_evidence_statuses:\n",
    "                    _variant_evidence_statuses.append(evidence.status)\n",
    "\n",
    "                if evidence.rating not in _variant_evidence_ratings:\n",
    "                    _variant_evidence_ratings.append(evidence.rating)\n",
    "\n",
    "                if evidence.evidence_level not in _variant_evidence_levels:\n",
    "                    _variant_evidence_levels.append(evidence.evidence_level)\n",
    "\n",
    "        _variants_evidence_statuses.append(_variant_evidence_statuses or \"\")\n",
    "        _variants_evidence_ratings.append(_variant_evidence_ratings or \"\")\n",
    "        _variants_evidence_levels.append(_variant_evidence_levels or \"\")\n",
    "\n",
    "    df[\"evidence_status\"] = _variants_evidence_statuses\n",
    "    df[\"evidence_status\"] = df[\"evidence_status\"].str.join(\", \")\n",
    "    df[\"evidence_rating\"] = _variants_evidence_ratings\n",
    "    df[\"evidence_level\"] = _variants_evidence_levels\n",
    "\n",
    "    return df"
   ]
  },
  {
   "cell_type": "code",
   "execution_count": null,
   "metadata": {},
   "outputs": [],
   "source": [
    "def evidence_analysis(\n",
    "    df: pd.DataFrame, variant_norm_type: VariantNormType\n",
    ") -> pd.DataFrame:\n",
    "    \"\"\"Do evidence analysis (counts, percentages)\n",
    "\n",
    "    :param df: Dataframe of variants\n",
    "    :param variant_norm_type: The kind of variants that are in `df`\n",
    "    :return: Transformed dataframe with evidence ID duplicates dropped\n",
    "\n",
    "    this is for Not Supported Variant analysis since it has sub categories and\n",
    "    evidence item duplicates should be dropped within the sub categories,\n",
    "    not across all Not Supported Variant evidence items\n",
    "    \"\"\"\n",
    "    # Count\n",
    "    num_variant_unique_evidence_items = len(set(df.evidence_id))\n",
    "    fraction_evidence_items = (\n",
    "        f\"{num_variant_unique_evidence_items} / {total_ac_sub_evidence}\"\n",
    "    )\n",
    "    print(\n",
    "        f\"Number of {variant_norm_type.value} Variant Evidence items in CIViC: {fraction_evidence_items}\"\n",
    "    )\n",
    "\n",
    "    # Percent\n",
    "    percentage_evidence_items = (\n",
    "        f\"{num_variant_unique_evidence_items / total_ac_sub_evidence * 100:.2f}%\"\n",
    "    )\n",
    "    print(\n",
    "        f\"Percent of {variant_norm_type.value} Variant Evidence items in CIViC: {percentage_evidence_items}\"\n",
    "    )\n",
    "\n",
    "    # Add evidence accepted column\n",
    "    df[\"evidence_accepted\"] = df.evidence_status.map(\n",
    "        {\"accepted\": True, \"submitted\": False}\n",
    "    )\n",
    "\n",
    "    # Drop evidence id duplicates- this creates a new temporary df so that later duplicates can be\n",
    "    # dropped by evidence id and category\n",
    "    df1 = df.drop_duplicates(subset=[\"evidence_id\"])\n",
    "\n",
    "    # Get accepted counts\n",
    "    num_accepted_evidences_variants = df1.evidence_accepted.sum()\n",
    "    fraction_accepted_evidences_variants = (\n",
    "        f\"{num_accepted_evidences_variants} / {num_variant_unique_evidence_items}\"\n",
    "    )\n",
    "    print(\n",
    "        f\"\\nNumber of accepted {variant_norm_type.value} Variant Evidence items: {fraction_accepted_evidences_variants}\"\n",
    "    )\n",
    "\n",
    "    # Get accepted Percent\n",
    "    percentage_accepted_evidences_variants = f\"{num_accepted_evidences_variants / num_variant_unique_evidence_items * 100:.2f}%\"\n",
    "    print(\n",
    "        f\"Percent of accepted {variant_norm_type.value} Variant Evidence items: {percentage_accepted_evidences_variants}\"\n",
    "    )\n",
    "\n",
    "    # Get submitted counts\n",
    "    number_submitted_evidences_variants = len(df1) - num_accepted_evidences_variants\n",
    "    fraction_submitted_evidences_variants = (\n",
    "        f\"{number_submitted_evidences_variants} / {num_variant_unique_evidence_items}\"\n",
    "    )\n",
    "    print(\n",
    "        f\"\\nNumber of submitted {variant_norm_type.value} Variant Evidence items: {fraction_submitted_evidences_variants}\"\n",
    "    )\n",
    "\n",
    "    # Get submitted Percent\n",
    "    percentage_submitted_evidences_variants = f\"{number_submitted_evidences_variants / num_variant_unique_evidence_items * 100:.2f}%\"\n",
    "    print(\n",
    "        f\"Percent of submitted {variant_norm_type.value} Variant Evidence items: {percentage_submitted_evidences_variants}\"\n",
    "    )\n",
    "\n",
    "    evidence_analysis_summary[\"Count of CIViC Evidence Items per Category\"].append(\n",
    "        num_variant_unique_evidence_items\n",
    "    )\n",
    "    evidence_analysis_summary[\"Fraction of all CIViC Evidence Items\"].append(\n",
    "        fraction_evidence_items\n",
    "    )\n",
    "    evidence_analysis_summary[\"Percent of all CIViC Evidence Items\"].append(\n",
    "        percentage_evidence_items\n",
    "    )\n",
    "    evidence_analysis_summary[\"Fraction of Accepted Evidence Items\"].append(\n",
    "        fraction_accepted_evidences_variants\n",
    "    )\n",
    "    evidence_analysis_summary[\"Percent of Accepted Evidence Items\"].append(\n",
    "        percentage_accepted_evidences_variants\n",
    "    )\n",
    "    evidence_analysis_summary[\"Fraction of Submitted Evidence Items\"].append(\n",
    "        fraction_submitted_evidences_variants\n",
    "    )\n",
    "    evidence_analysis_summary[\"Percent of Submitted Evidence Items\"].append(\n",
    "        percentage_submitted_evidences_variants\n",
    "    )\n",
    "    if variant_norm_type == VariantNormType.NOT_SUPPORTED:\n",
    "        return df\n",
    "    else:\n",
    "        return df1"
   ]
  },
  {
   "cell_type": "code",
   "execution_count": null,
   "metadata": {},
   "outputs": [],
   "source": [
    "def transform_df_mp_id(df: pd.DataFrame) -> pd.DataFrame:\n",
    "    \"\"\"Transform dataframe to include molecular profile ID information\n",
    "\n",
    "    :param df: Dataframe of variants\n",
    "    :return: Transformed dataframe with molecular profile ID information\n",
    "    \"\"\"\n",
    "    tmp_df = df.copy(deep=True)\n",
    "\n",
    "    variants_molprof_ids = []\n",
    "    variant_ids = list(tmp_df[\"variant_id\"])\n",
    "\n",
    "    for v_id in variant_ids:\n",
    "        variant_molprof_ids = []\n",
    "\n",
    "        for variant in civic_variant_ids:\n",
    "            if int(v_id) == variant.id:\n",
    "                for mp in variant.molecular_profiles:\n",
    "                    if mp.id not in variant_molprof_ids:\n",
    "                        variant_molprof_ids.append(mp.id)\n",
    "\n",
    "        variants_molprof_ids.append(variant_molprof_ids or \"\")\n",
    "\n",
    "    tmp_df[\"molecular_profile_id\"] = variants_molprof_ids\n",
    "    return tmp_df"
   ]
  },
  {
   "cell_type": "code",
   "execution_count": null,
   "metadata": {},
   "outputs": [],
   "source": [
    "def transform_df_mp_score(df: pd.DataFrame) -> pd.DataFrame:\n",
    "    \"\"\"Transform dataframe to include molecular profile score information\n",
    "\n",
    "    :param df: Dataframe of variants\n",
    "    :return: Transformed dataframe with molecular profile score information\n",
    "    \"\"\"\n",
    "    variants_molprof_scores = []\n",
    "    normalized_variant_molprof_ids = list(df[\"molecular_profile_id\"])\n",
    "\n",
    "    for mp_ids in normalized_variant_molprof_ids:\n",
    "        variant_molprof_scores = []\n",
    "        for mp_id in mp_ids:\n",
    "            for molprof in civic_molprofs:\n",
    "                if int(mp_id) == molprof.id:\n",
    "                    variant_molprof_scores.append(molprof.molecular_profile_score)\n",
    "\n",
    "        variants_molprof_scores.append(variant_molprof_scores or \"\")\n",
    "\n",
    "    df[\"molecular_profile_score\"] = variants_molprof_scores\n",
    "    return df"
   ]
  },
  {
   "cell_type": "code",
   "execution_count": null,
   "metadata": {},
   "outputs": [],
   "source": [
    "def transform_df_mp_score_sum(df: pd.DataFrame) -> pd.DataFrame:\n",
    "    \"\"\"Transform dataframe to include molecular profile score sum information\n",
    "\n",
    "    :param df: Dataframe of variants\n",
    "    :return: Transformed dataframe with molecular profile score sum information\n",
    "    \"\"\"\n",
    "    df[\"molecular_profile_score_sum\"] = df[\"molecular_profile_score\"].apply(\n",
    "        lambda x: sum(x)\n",
    "    )\n",
    "    return df"
   ]
  },
  {
   "cell_type": "markdown",
   "metadata": {},
   "source": [
    "# <a id='toc3_'></a>[Analysis of Normalized Queries](#toc0_)"
   ]
  },
  {
   "cell_type": "markdown",
   "metadata": {},
   "source": [
    "## <a id='toc3_1_'></a>[List of Normalized Variants ID's](#toc0_)"
   ]
  },
  {
   "cell_type": "code",
   "execution_count": null,
   "metadata": {},
   "outputs": [],
   "source": [
    "normalized_queries_df = pd.read_csv(\n",
    "    \"../variation_analysis/able_to_normalize_queries.csv\", sep=\"\\t\"\n",
    ")\n",
    "normalized_queries_df.head()"
   ]
  },
  {
   "cell_type": "markdown",
   "metadata": {},
   "source": [
    "## <a id='toc3_2_'></a>[Variant analysis](#toc0_)"
   ]
  },
  {
   "cell_type": "code",
   "execution_count": null,
   "metadata": {},
   "outputs": [],
   "source": [
    "normalized_queries_df = variant_analysis(\n",
    "    normalized_queries_df, VariantNormType.NORMALIZED\n",
    ")\n",
    "normalized_queries_df.head()"
   ]
  },
  {
   "cell_type": "code",
   "execution_count": null,
   "metadata": {},
   "outputs": [],
   "source": [
    "variant_analysis_summary"
   ]
  },
  {
   "cell_type": "markdown",
   "metadata": {},
   "source": [
    "## <a id='toc3_3_'></a>[Transform df for evidence analysis](#toc0_)"
   ]
  },
  {
   "cell_type": "code",
   "execution_count": null,
   "metadata": {},
   "outputs": [],
   "source": [
    "normalized_queries_add_evidence_df = transform_df_evidence_ids(normalized_queries_df)\n",
    "normalized_queries_add_evidence_df.head()"
   ]
  },
  {
   "cell_type": "code",
   "execution_count": null,
   "metadata": {},
   "outputs": [],
   "source": [
    "normalized_queries_add_evidence_df = transform_df_evidence(\n",
    "    normalized_queries_add_evidence_df\n",
    ")\n",
    "normalized_queries_add_evidence_df.head()"
   ]
  },
  {
   "cell_type": "markdown",
   "metadata": {},
   "source": [
    "## <a id='toc3_4_'></a>[Evidence analysis](#toc0_)"
   ]
  },
  {
   "cell_type": "code",
   "execution_count": null,
   "metadata": {},
   "outputs": [],
   "source": [
    "normalized_queries_add_evidence_df = evidence_analysis(\n",
    "    normalized_queries_add_evidence_df, VariantNormType.NORMALIZED\n",
    ")\n",
    "normalized_queries_add_evidence_df.head()"
   ]
  },
  {
   "cell_type": "markdown",
   "metadata": {},
   "source": [
    "## <a id='toc3_5_'></a>[Impact](#toc0_)\n",
    "Via molecular profile score"
   ]
  },
  {
   "cell_type": "markdown",
   "metadata": {},
   "source": [
    "### <a id='toc3_5_1_'></a>[Import molecular profile id](#toc0_)"
   ]
  },
  {
   "cell_type": "code",
   "execution_count": null,
   "metadata": {},
   "outputs": [],
   "source": [
    "normalized_queries_add_molprof_df = transform_df_mp_id(normalized_queries_df)\n",
    "normalized_queries_add_molprof_df.head()"
   ]
  },
  {
   "cell_type": "markdown",
   "metadata": {},
   "source": [
    "### <a id='toc3_5_2_'></a>[Import molecular profile scores](#toc0_)"
   ]
  },
  {
   "cell_type": "code",
   "execution_count": null,
   "metadata": {},
   "outputs": [],
   "source": [
    "normalized_queries_add_molprof_df = transform_df_mp_score(\n",
    "    normalized_queries_add_molprof_df\n",
    ")\n",
    "normalized_queries_add_molprof_df.head()"
   ]
  },
  {
   "cell_type": "code",
   "execution_count": null,
   "metadata": {},
   "outputs": [],
   "source": [
    "normalized_queries_add_molprof_df = transform_df_mp_score_sum(\n",
    "    normalized_queries_add_molprof_df\n",
    ")\n",
    "normalized_queries_add_molprof_df.head()"
   ]
  },
  {
   "cell_type": "markdown",
   "metadata": {},
   "source": [
    "# <a id='toc4_'></a>[Analysis of Unable to Normalize Queries](#toc0_)"
   ]
  },
  {
   "cell_type": "markdown",
   "metadata": {},
   "source": [
    "## <a id='toc4_1_'></a>[List of Unable to Normalize Variant ID's](#toc0_)"
   ]
  },
  {
   "cell_type": "code",
   "execution_count": null,
   "metadata": {},
   "outputs": [],
   "source": [
    "not_normalized_queries_df = pd.read_csv(\n",
    "    \"../variation_analysis/unable_to_normalize_queries.csv\", sep=\"\\t\"\n",
    ")\n",
    "not_normalized_queries_df.head()"
   ]
  },
  {
   "cell_type": "markdown",
   "metadata": {},
   "source": [
    "## <a id='toc4_2_'></a>[Variant analysis](#toc0_)"
   ]
  },
  {
   "cell_type": "code",
   "execution_count": null,
   "metadata": {},
   "outputs": [],
   "source": [
    "not_normalized_queries_df = variant_analysis(\n",
    "    not_normalized_queries_df, VariantNormType.UNABLE_TO_NORMALIZE\n",
    ")\n",
    "not_normalized_queries_df.head()"
   ]
  },
  {
   "cell_type": "markdown",
   "metadata": {},
   "source": [
    "## <a id='toc4_3_'></a>[Transform df for evidence analysis](#toc0_)"
   ]
  },
  {
   "cell_type": "code",
   "execution_count": null,
   "metadata": {},
   "outputs": [],
   "source": [
    "not_normalized_quer_add_evidence_df = transform_df_evidence_ids(\n",
    "    not_normalized_queries_df\n",
    ")\n",
    "not_normalized_quer_add_evidence_df.head()"
   ]
  },
  {
   "cell_type": "code",
   "execution_count": null,
   "metadata": {},
   "outputs": [],
   "source": [
    "not_normalized_quer_add_evidence_df = transform_df_evidence(\n",
    "    not_normalized_quer_add_evidence_df\n",
    ")\n",
    "not_normalized_quer_add_evidence_df.head()"
   ]
  },
  {
   "cell_type": "markdown",
   "metadata": {},
   "source": [
    "## <a id='toc4_4_'></a>[Evidence analysis](#toc0_)"
   ]
  },
  {
   "cell_type": "code",
   "execution_count": null,
   "metadata": {},
   "outputs": [],
   "source": [
    "not_normalized_quer_add_evidence_df = evidence_analysis(\n",
    "    not_normalized_quer_add_evidence_df, VariantNormType.UNABLE_TO_NORMALIZE\n",
    ")\n",
    "not_normalized_quer_add_evidence_df.head()"
   ]
  },
  {
   "cell_type": "markdown",
   "metadata": {},
   "source": [
    "## <a id='toc4_5_'></a>[Impact](#toc0_)\n",
    "Via molecular profile score"
   ]
  },
  {
   "cell_type": "markdown",
   "metadata": {},
   "source": [
    "### <a id='toc4_5_1_'></a>[Import molecular profile id](#toc0_)"
   ]
  },
  {
   "cell_type": "code",
   "execution_count": null,
   "metadata": {},
   "outputs": [],
   "source": [
    "not_normalized_queries_add_molprof_df = transform_df_mp_id(not_normalized_queries_df)\n",
    "not_normalized_queries_add_molprof_df.head()"
   ]
  },
  {
   "cell_type": "markdown",
   "metadata": {},
   "source": [
    "### <a id='toc4_5_2_'></a>[Import molecular profile scores](#toc0_)"
   ]
  },
  {
   "cell_type": "code",
   "execution_count": null,
   "metadata": {},
   "outputs": [],
   "source": [
    "not_normalized_queries_add_molprof_df = transform_df_mp_score(\n",
    "    not_normalized_queries_add_molprof_df\n",
    ")\n",
    "not_normalized_queries_add_molprof_df.head()"
   ]
  },
  {
   "cell_type": "code",
   "execution_count": null,
   "metadata": {},
   "outputs": [],
   "source": [
    "not_normalized_queries_add_molprof_df = transform_df_mp_score_sum(\n",
    "    not_normalized_queries_add_molprof_df\n",
    ")\n",
    "not_normalized_queries_add_molprof_df.head()"
   ]
  },
  {
   "cell_type": "markdown",
   "metadata": {},
   "source": [
    "# <a id='toc5_'></a>[Analysis of Not Supported Variants](#toc0_)"
   ]
  },
  {
   "cell_type": "markdown",
   "metadata": {},
   "source": [
    "### <a id='toc5_1_1_'></a>[List of Not Supported Variant ID's](#toc0_)"
   ]
  },
  {
   "cell_type": "code",
   "execution_count": null,
   "metadata": {},
   "outputs": [],
   "source": [
    "not_supported_queries_df = pd.read_csv(\n",
    "    \"../variation_analysis/not_supported_variants.csv\", sep=\"\\t\"\n",
    ")\n",
    "not_supported_queries_df.head()"
   ]
  },
  {
   "cell_type": "markdown",
   "metadata": {},
   "source": [
    "## <a id='toc5_2_'></a>[Variant Analysis](#toc0_)"
   ]
  },
  {
   "cell_type": "code",
   "execution_count": null,
   "metadata": {},
   "outputs": [],
   "source": [
    "not_supported_queries_df = variant_analysis(\n",
    "    not_supported_queries_df, VariantNormType.NOT_SUPPORTED\n",
    ")\n",
    "not_supported_queries_df.head()"
   ]
  },
  {
   "cell_type": "code",
   "execution_count": null,
   "metadata": {},
   "outputs": [],
   "source": [
    "not_supported_queries_df[\"variant_accepted\"].value_counts()"
   ]
  },
  {
   "cell_type": "markdown",
   "metadata": {},
   "source": [
    "### <a id='toc5_2_1_'></a>[Not Supported Variant Analysis by Subcategory](#toc0_)"
   ]
  },
  {
   "cell_type": "code",
   "execution_count": null,
   "metadata": {},
   "outputs": [],
   "source": [
    "not_supported_variant_analysis_summary = {\n",
    "    \"Category\": VARIANT_CATEGORY_VALUES,\n",
    "    \"Count of CIViC Variants per Category\": [],\n",
    "    \"Fraction of Not Supported Variants\": [],\n",
    "    \"Percent of Not Supported Variants\": [],\n",
    "    \"Fraction of all CIViC Variants\": [],\n",
    "    \"Percent of all CIViC Variants\": [],\n",
    "    \"Fraction of Accepted Variants\": [],\n",
    "    \"Percent of Accepted Variants\": [],\n",
    "    \"Fraction of Submitted Variants\": [],\n",
    "    \"Percent of Submitted Variants\": [],\n",
    "}"
   ]
  },
  {
   "cell_type": "code",
   "execution_count": null,
   "metadata": {},
   "outputs": [],
   "source": [
    "not_supported_variant_categories_summary_data = dict()\n",
    "total_number_unique_not_supported_variants = len(\n",
    "    set(not_supported_queries_df.variant_id)\n",
    ")\n",
    "\n",
    "for category in VARIANT_CATEGORY_VALUES:  # These are not supported categories\n",
    "    not_supported_variant_categories_summary_data[category] = {}\n",
    "    category_df = not_supported_queries_df[\n",
    "        not_supported_queries_df.category == category\n",
    "    ]\n",
    "\n",
    "    # Count\n",
    "    number_unique_not_supported_category_variants = len(set(category_df.variant_id))\n",
    "    not_supported_variant_categories_summary_data[category][\n",
    "        \"number_unique_not_supported_category_variants\"\n",
    "    ] = number_unique_not_supported_category_variants\n",
    "\n",
    "    # Fraction\n",
    "    fraction_not_supported_category_variant_of_civic = (\n",
    "        f\"{number_unique_not_supported_category_variants} / {total_number_variants}\"\n",
    "    )\n",
    "    not_supported_variant_categories_summary_data[category][\n",
    "        \"fraction_not_supported_category_variant_of_civic\"\n",
    "    ] = fraction_not_supported_category_variant_of_civic\n",
    "\n",
    "    # Percent\n",
    "    percent_not_supported_category_variant_of_civic = f\"{number_unique_not_supported_category_variants / total_number_variants * 100:.2f}%\"\n",
    "    not_supported_variant_categories_summary_data[category][\n",
    "        \"percent_not_supported_category_variant_of_civic\"\n",
    "    ] = percent_not_supported_category_variant_of_civic\n",
    "\n",
    "    # Not supported fraction\n",
    "    fraction_not_supported_category_variant_of_total_not_supported = f\"{number_unique_not_supported_category_variants} / {total_number_unique_not_supported_variants}\"\n",
    "    not_supported_variant_categories_summary_data[category][\n",
    "        \"fraction_not_supported_category_variant_of_total_not_supported\"\n",
    "    ] = fraction_not_supported_category_variant_of_total_not_supported\n",
    "\n",
    "    # Not supported percent\n",
    "    percent_not_supported_category_variant_of_total_not_supported = f\"{number_unique_not_supported_category_variants / total_number_unique_not_supported_variants * 100:.2f}%\"\n",
    "    not_supported_variant_categories_summary_data[category][\n",
    "        \"percent_not_supported_category_variant_of_total_not_supported\"\n",
    "    ] = percent_not_supported_category_variant_of_total_not_supported\n",
    "\n",
    "    # Accepted fraction\n",
    "    number_accepted_not_supported_category_variants = category_df.variant_accepted.sum()\n",
    "    fraction_accepted_not_supported_category_variants = f\"{number_accepted_not_supported_category_variants} / {number_unique_not_supported_category_variants}\"\n",
    "    not_supported_variant_categories_summary_data[category][\n",
    "        \"fraction_accepted_not_supported_category_variants\"\n",
    "    ] = fraction_accepted_not_supported_category_variants\n",
    "\n",
    "    # Accepted percent\n",
    "    percentage_accepted_not_supported_category_variants = f\"{number_accepted_not_supported_category_variants / number_unique_not_supported_category_variants * 100:.2f}%\"\n",
    "    not_supported_variant_categories_summary_data[category][\n",
    "        \"percentage_accepted_not_supported_category_variants\"\n",
    "    ] = percentage_accepted_not_supported_category_variants\n",
    "\n",
    "    # Submitted fraction\n",
    "    number_submitted_not_supported_category_variants = (\n",
    "        len(category_df) - number_accepted_not_supported_category_variants\n",
    "    )\n",
    "    fraction_submitted_not_supported_category_variants = f\" {number_submitted_not_supported_category_variants} / {number_unique_not_supported_category_variants}\"\n",
    "    not_supported_variant_categories_summary_data[category][\n",
    "        \"fraction_submitted_not_supported_category_variants\"\n",
    "    ] = fraction_submitted_not_supported_category_variants\n",
    "\n",
    "    # Submitted percent\n",
    "    percentage_submitted_not_supported_category_variants = f\"{number_submitted_not_supported_category_variants / number_unique_not_supported_category_variants * 100:.2f}%\"\n",
    "    not_supported_variant_categories_summary_data[category][\n",
    "        \"percentage_submitted_not_supported_category_variants\"\n",
    "    ] = percentage_submitted_not_supported_category_variants\n",
    "\n",
    "    not_supported_variant_analysis_summary[\n",
    "        \"Count of CIViC Variants per Category\"\n",
    "    ].append(number_unique_not_supported_category_variants)\n",
    "    not_supported_variant_analysis_summary[\"Fraction of all CIViC Variants\"].append(\n",
    "        fraction_not_supported_category_variant_of_civic\n",
    "    )\n",
    "    not_supported_variant_analysis_summary[\"Percent of all CIViC Variants\"].append(\n",
    "        percent_not_supported_category_variant_of_civic\n",
    "    )\n",
    "    not_supported_variant_analysis_summary[\"Fraction of Not Supported Variants\"].append(\n",
    "        fraction_not_supported_category_variant_of_total_not_supported\n",
    "    )\n",
    "    not_supported_variant_analysis_summary[\"Percent of Not Supported Variants\"].append(\n",
    "        percent_not_supported_category_variant_of_total_not_supported\n",
    "    )\n",
    "    not_supported_variant_analysis_summary[\"Fraction of Accepted Variants\"].append(\n",
    "        fraction_accepted_not_supported_category_variants\n",
    "    )\n",
    "    not_supported_variant_analysis_summary[\"Percent of Accepted Variants\"].append(\n",
    "        percentage_accepted_not_supported_category_variants\n",
    "    )\n",
    "    not_supported_variant_analysis_summary[\"Fraction of Submitted Variants\"].append(\n",
    "        fraction_submitted_not_supported_category_variants\n",
    "    )\n",
    "    not_supported_variant_analysis_summary[\"Percent of Submitted Variants\"].append(\n",
    "        percentage_submitted_not_supported_category_variants\n",
    "    )"
   ]
  },
  {
   "cell_type": "markdown",
   "metadata": {},
   "source": [
    "## <a id='toc5_3_'></a>[Transform df for evidence analysis](#toc0_)"
   ]
  },
  {
   "cell_type": "code",
   "execution_count": null,
   "metadata": {},
   "outputs": [],
   "source": [
    "not_supported_variants_add_evidence_df = transform_df_evidence_ids(\n",
    "    not_supported_queries_df\n",
    ")\n",
    "not_supported_variants_add_evidence_df"
   ]
  },
  {
   "cell_type": "markdown",
   "metadata": {},
   "source": [
    "There are no variants without evidence items"
   ]
  },
  {
   "cell_type": "code",
   "execution_count": null,
   "metadata": {},
   "outputs": [],
   "source": [
    "not_supported_variants_add_evidence_df.loc[\n",
    "    not_supported_variants_add_evidence_df[\"evidence_id\"] == \"\"\n",
    "]"
   ]
  },
  {
   "cell_type": "code",
   "execution_count": null,
   "metadata": {},
   "outputs": [],
   "source": [
    "not_supported_variants_add_evidence_df = transform_df_evidence(\n",
    "    not_supported_variants_add_evidence_df\n",
    ")\n",
    "not_supported_variants_add_evidence_df"
   ]
  },
  {
   "cell_type": "markdown",
   "metadata": {},
   "source": [
    "## <a id='toc5_4_'></a>[Evidence analysis](#toc0_)"
   ]
  },
  {
   "cell_type": "code",
   "execution_count": null,
   "metadata": {},
   "outputs": [],
   "source": [
    "not_supported_variants_add_evidence_df = evidence_analysis(\n",
    "    not_supported_variants_add_evidence_df, VariantNormType.NOT_SUPPORTED\n",
    ")\n",
    "not_supported_variants_add_evidence_df"
   ]
  },
  {
   "cell_type": "markdown",
   "metadata": {},
   "source": [
    "### <a id='toc5_4_1_'></a>[Not Supported Variant Evidence Analysis by Subcategory](#toc0_)"
   ]
  },
  {
   "cell_type": "markdown",
   "metadata": {},
   "source": [
    " List all the possible variant categories, have to use non unique file since evidence items are used more than once across groups\n"
   ]
  },
  {
   "cell_type": "code",
   "execution_count": null,
   "metadata": {},
   "outputs": [],
   "source": [
    "not_supported_variant_categories = (\n",
    "    not_supported_variants_add_evidence_df.category.unique()\n",
    ")\n",
    "[v for v in not_supported_variant_categories]"
   ]
  },
  {
   "cell_type": "markdown",
   "metadata": {},
   "source": [
    "Evidence items may be used across multiple variants"
   ]
  },
  {
   "cell_type": "code",
   "execution_count": null,
   "metadata": {},
   "outputs": [],
   "source": [
    "duplicate = not_supported_variants_add_evidence_df[\n",
    "    not_supported_variants_add_evidence_df.duplicated(\"evidence_id\", keep=False)\n",
    "]\n",
    "duplicate"
   ]
  },
  {
   "cell_type": "code",
   "execution_count": null,
   "metadata": {},
   "outputs": [],
   "source": [
    "not_supported_variant_evidence_summary = {\n",
    "    \"Category\": VARIANT_CATEGORY_VALUES,\n",
    "    \"Count of CIViC Evidence Items per Category\": [],\n",
    "    \"Fraction of all CIViC Evidence Items\": [],\n",
    "    \"Percent of all CIViC Evidence Items\": [],\n",
    "    \"Fraction of Not Supported Variant Evidence Items\": [],\n",
    "    \"Percent of Not Supported Variant Evidence Items\": [],\n",
    "    \"Fraction of Accepted Evidence Items\": [],\n",
    "    \"Percent of Accepted Evidence Items\": [],\n",
    "    \"Fraction of Submitted Evidence Items\": [],\n",
    "    \"Percent of Submitted Evidence Items\": [],\n",
    "}"
   ]
  },
  {
   "cell_type": "code",
   "execution_count": null,
   "metadata": {},
   "outputs": [],
   "source": [
    "not_supported_variant_categories_evidence_summary_data = dict()\n",
    "total_number_not_supported_variant_unique_evidence_items = len(\n",
    "    set(not_supported_variants_add_evidence_df.evidence_id)\n",
    ")\n",
    "\n",
    "for category in VARIANT_CATEGORY_VALUES:\n",
    "    not_supported_variant_categories_evidence_summary_data[category] = {}\n",
    "    evidence_category_df = not_supported_variants_add_evidence_df[\n",
    "        not_supported_variants_add_evidence_df.category == category\n",
    "    ]\n",
    "    evidence_category_df = evidence_category_df.drop_duplicates(\n",
    "        subset=[\"evidence_id\", \"category\"]\n",
    "    )\n",
    "\n",
    "    # Count\n",
    "    number_unique_not_supported_category_evidence = len(\n",
    "        set(evidence_category_df.evidence_id)\n",
    "    )\n",
    "    not_supported_variant_categories_evidence_summary_data[category][\n",
    "        \"number_unique_not_supported_category_evidence\"\n",
    "    ] = number_unique_not_supported_category_evidence\n",
    "\n",
    "    # Fraction\n",
    "    fraction_not_supported_category_variant_evidence_of_civic = (\n",
    "        f\"{number_unique_not_supported_category_evidence} / {total_ac_sub_evidence}\"\n",
    "    )\n",
    "    not_supported_variant_categories_evidence_summary_data[category][\n",
    "        \"fraction_not_supported_category_variant_evidence_of_civic\"\n",
    "    ] = fraction_not_supported_category_variant_evidence_of_civic\n",
    "\n",
    "    # Percent\n",
    "    percent_not_supported_category_variant_evidence_of_civic = f\"{number_unique_not_supported_category_evidence / total_ac_sub_evidence * 100:.2f}%\"\n",
    "    not_supported_variant_categories_evidence_summary_data[category][\n",
    "        \"percent_not_supported_category_variant_evidence_of_civic\"\n",
    "    ] = percent_not_supported_category_variant_evidence_of_civic\n",
    "\n",
    "    # Not supported fraction\n",
    "    fraction_not_supported_category_variant_evidence_of_total_not_supported = f\"{number_unique_not_supported_category_evidence} / {total_number_not_supported_variant_unique_evidence_items}\"\n",
    "    not_supported_variant_categories_evidence_summary_data[category][\n",
    "        \"fraction_not_supported_category_variant_evidence_of_total_not_supported\"\n",
    "    ] = fraction_not_supported_category_variant_evidence_of_total_not_supported\n",
    "\n",
    "    # Not supported percent\n",
    "    percent_not_supported_category_variant_evidence_of_total_not_supported = f\"{number_unique_not_supported_category_evidence / total_number_not_supported_variant_unique_evidence_items * 100:.2f}%\"\n",
    "    not_supported_variant_categories_evidence_summary_data[category][\n",
    "        \"percent_not_supported_category_variant_evidence_of_total_not_supported\"\n",
    "    ] = percent_not_supported_category_variant_evidence_of_total_not_supported\n",
    "\n",
    "    # Accepted fraction\n",
    "    number_accepted_not_supported_category_variant_evidence = (\n",
    "        evidence_category_df.evidence_accepted.sum()\n",
    "    )\n",
    "    fraction_accepted_evidence_not_supported_category_variants = f\"{number_accepted_not_supported_category_variant_evidence} / {number_unique_not_supported_category_evidence}\"\n",
    "    not_supported_variant_categories_evidence_summary_data[category][\n",
    "        \"fraction_accepted_evidence_not_supported_category_variants\"\n",
    "    ] = fraction_accepted_evidence_not_supported_category_variants\n",
    "\n",
    "    # Accepted percent\n",
    "    percentage_accepted_evidence_not_supported_category_variants = f\"{number_accepted_not_supported_category_variant_evidence / number_unique_not_supported_category_evidence * 100:.2f}%\"\n",
    "    not_supported_variant_categories_evidence_summary_data[category][\n",
    "        \"percentage_accepted_evidence_not_supported_category_variants\"\n",
    "    ] = percentage_accepted_evidence_not_supported_category_variants\n",
    "\n",
    "    # Submitted fraction\n",
    "    number_submitted_not_supported_category_variant_evidence = (\n",
    "        number_unique_not_supported_category_evidence\n",
    "        - evidence_category_df.evidence_accepted.sum()\n",
    "    )\n",
    "    fraction_submitted_evidence_not_supported_category_variants = f\"{number_submitted_not_supported_category_variant_evidence} / {number_unique_not_supported_category_evidence}\"\n",
    "    not_supported_variant_categories_evidence_summary_data[category][\n",
    "        \"fraction_submitted_evidence_not_supported_category_variants\"\n",
    "    ] = fraction_submitted_evidence_not_supported_category_variants\n",
    "\n",
    "    # Submitted percent\n",
    "    percentage_submitted_evidence_not_supported_category_variants = f\"{number_submitted_not_supported_category_variant_evidence / number_unique_not_supported_category_evidence * 100:.2f}%\"\n",
    "    not_supported_variant_categories_evidence_summary_data[category][\n",
    "        \"percentage_submitted_evidence_not_supported_category_variants\"\n",
    "    ] = percentage_submitted_evidence_not_supported_category_variants\n",
    "\n",
    "    not_supported_variant_evidence_summary[\n",
    "        \"Count of CIViC Evidence Items per Category\"\n",
    "    ].append(number_unique_not_supported_category_evidence)\n",
    "    not_supported_variant_evidence_summary[\n",
    "        \"Fraction of all CIViC Evidence Items\"\n",
    "    ].append(fraction_not_supported_category_variant_evidence_of_civic)\n",
    "    not_supported_variant_evidence_summary[\n",
    "        \"Percent of all CIViC Evidence Items\"\n",
    "    ].append(percent_not_supported_category_variant_evidence_of_civic)\n",
    "    not_supported_variant_evidence_summary[\n",
    "        \"Fraction of Not Supported Variant Evidence Items\"\n",
    "    ].append(fraction_not_supported_category_variant_evidence_of_total_not_supported)\n",
    "    not_supported_variant_evidence_summary[\n",
    "        \"Percent of Not Supported Variant Evidence Items\"\n",
    "    ].append(percent_not_supported_category_variant_evidence_of_total_not_supported)\n",
    "    not_supported_variant_evidence_summary[\n",
    "        \"Fraction of Accepted Evidence Items\"\n",
    "    ].append(fraction_accepted_evidence_not_supported_category_variants)\n",
    "    not_supported_variant_evidence_summary[\"Percent of Accepted Evidence Items\"].append(\n",
    "        percentage_accepted_evidence_not_supported_category_variants\n",
    "    )\n",
    "    not_supported_variant_evidence_summary[\n",
    "        \"Fraction of Submitted Evidence Items\"\n",
    "    ].append(fraction_submitted_evidence_not_supported_category_variants)\n",
    "    not_supported_variant_evidence_summary[\n",
    "        \"Percent of Submitted Evidence Items\"\n",
    "    ].append(percentage_submitted_evidence_not_supported_category_variants)"
   ]
  },
  {
   "cell_type": "markdown",
   "metadata": {},
   "source": [
    "## <a id='toc5_5_'></a>[Impact](#toc0_)"
   ]
  },
  {
   "cell_type": "markdown",
   "metadata": {},
   "source": [
    "### <a id='toc5_5_1_'></a>[Via Evidence Level](#toc0_)"
   ]
  },
  {
   "cell_type": "markdown",
   "metadata": {},
   "source": [
    "#### <a id='toc5_5_1_1_'></a>[Analysis with only Accepted Variants](#toc0_)"
   ]
  },
  {
   "cell_type": "markdown",
   "metadata": {},
   "source": [
    "accepted variant = a variant with at least one 'accepted' evidence item"
   ]
  },
  {
   "cell_type": "code",
   "execution_count": null,
   "metadata": {},
   "outputs": [],
   "source": [
    "ns_var_w_evid_df = not_supported_variants_add_evidence_df.copy()"
   ]
  },
  {
   "cell_type": "markdown",
   "metadata": {},
   "source": [
    "There are no variants without an evidence status"
   ]
  },
  {
   "cell_type": "code",
   "execution_count": null,
   "metadata": {},
   "outputs": [],
   "source": [
    "ns_var_w_evid_df[\n",
    "    (ns_var_w_evid_df[\"evidence_accepted\"])\n",
    "    & ns_var_w_evid_df[\"evidence_accepted\"].isna()\n",
    "]"
   ]
  },
  {
   "cell_type": "markdown",
   "metadata": {},
   "source": [
    "Selecting only variants with at least one accepted evidence item (Accepted Variants)"
   ]
  },
  {
   "cell_type": "code",
   "execution_count": null,
   "metadata": {},
   "outputs": [],
   "source": [
    "ns_var_w_acc_evid_df = ns_var_w_evid_df[\n",
    "    ns_var_w_evid_df[\"evidence_accepted\"]\n",
    "].copy()"
   ]
  },
  {
   "cell_type": "code",
   "execution_count": null,
   "metadata": {},
   "outputs": [],
   "source": [
    "ns_var_w_acc_evid_df = ns_var_w_acc_evid_df.drop_duplicates(\n",
    "    subset=[\"evidence_id\", \"category\"]\n",
    ")"
   ]
  },
  {
   "cell_type": "markdown",
   "metadata": {},
   "source": [
    "##### <a id='toc5_5_1_1_1_'></a>[Calculating evidence score via level](#toc0_)"
   ]
  },
  {
   "cell_type": "markdown",
   "metadata": {},
   "source": [
    "Each variant receives an evidence score by adding up the numerical value of levels of the evidence items associated with the variant"
   ]
  },
  {
   "cell_type": "code",
   "execution_count": null,
   "metadata": {},
   "outputs": [],
   "source": [
    "def calculate_impact_score(df: pd.DataFrame) -> pd.DataFrame:\n",
    "    \"\"\"Converts the alphabetical evidence level to a numerical score and adds the score of each evidence item per variant\n",
    "\n",
    "    :param df: Dataframe of variants with respective evidence items\n",
    "    :return: Transformed dataframe with evidence score\n",
    "    \"\"\"\n",
    "    EVIDENCE_LEVEL_TO_IMPACT = {\"A\": 10, \"B\": 5, \"C\": 3, \"D\": 1, \"E\": 0.5}\n",
    "    df[\"evidence_level\"] = df[\"evidence_level\"].apply(lambda x: x[0])\n",
    "    df[\"evidence_score\"] = \"\"\n",
    "    df[\"evidence_score\"] = df[\"evidence_level\"].map(EVIDENCE_LEVEL_TO_IMPACT)\n",
    "\n",
    "    df.sort_values(by=[\"variant_id\"])\n",
    "    df1 = df.groupby(\"variant_id\").aggregate(\n",
    "        {\n",
    "            \"gene_name\": \"first\",\n",
    "            \"variant_name\": \"first\",\n",
    "            \"category\": \"first\",\n",
    "            \"evidence_id\": \"count\",\n",
    "            \"evidence_score\": \"sum\",\n",
    "        }\n",
    "    )\n",
    "    df1 = df1.rename(\n",
    "        columns={\n",
    "            \"evidence_id\": \"#_evidence_items\",\n",
    "            \"evidence_score\": \"evidence_score_sum\",\n",
    "        }\n",
    "    )\n",
    "\n",
    "    return df1"
   ]
  },
  {
   "cell_type": "code",
   "execution_count": null,
   "metadata": {},
   "outputs": [],
   "source": [
    "not_supported_variants_w_acc_evid_df = calculate_impact_score(ns_var_w_acc_evid_df)\n",
    "not_supported_variants_w_acc_evid_df"
   ]
  },
  {
   "cell_type": "markdown",
   "metadata": {},
   "source": [
    "##### <a id='toc5_5_1_1_2_'></a>[Summary Table](#toc0_)"
   ]
  },
  {
   "cell_type": "code",
   "execution_count": null,
   "metadata": {},
   "outputs": [],
   "source": [
    "def summarize_impact(df: pd.DataFrame) -> pd.DataFrame:\n",
    "    \"\"\"Calculates the number of variants, evidence items, and impact score per category\n",
    "\n",
    "    :param df: Dataframe of variants\n",
    "    :return: Transformed dataframe with the number of variants, evidence items, and impact score per category\n",
    "    \"\"\"\n",
    "    df1 = df.groupby(\"category\").aggregate(\n",
    "        {\"gene_name\": \"count\", \"#_evidence_items\": \"sum\", \"evidence_score_sum\": \"sum\"}\n",
    "    )\n",
    "    df1 = df1.rename(\n",
    "        columns={\"evidence_score_sum\": \"impact\", \"gene_name\": \"number_of_variants\"}\n",
    "    )\n",
    "    df1[\"average_impact_per_variant\"] = (\n",
    "        df1[\"impact\"] / df1[\"number_of_variants\"]\n",
    "    ).round(2)\n",
    "    df1 = df1.sort_values(by=[\"impact\"], ascending=False)\n",
    "    \n",
    "    return df1"
   ]
  },
  {
   "cell_type": "code",
   "execution_count": null,
   "metadata": {},
   "outputs": [],
   "source": [
    "not_supported_accepted_variant_categories_df = summarize_impact(\n",
    "    not_supported_variants_w_acc_evid_df\n",
    ")\n",
    "not_supported_accepted_variant_categories_df"
   ]
  },
  {
   "cell_type": "code",
   "execution_count": null,
   "metadata": {},
   "outputs": [],
   "source": [
    "not_supported_accepted_variant_categories_df.sum().round(2)"
   ]
  },
  {
   "cell_type": "markdown",
   "metadata": {},
   "source": [
    "#### <a id='toc5_5_1_2_'></a>[Analysis with Accepted and Submitted Variants](#toc0_)"
   ]
  },
  {
   "cell_type": "markdown",
   "metadata": {},
   "source": [
    "submitted variant = a variant with only 'submitted' evidence items"
   ]
  },
  {
   "cell_type": "code",
   "execution_count": null,
   "metadata": {},
   "outputs": [],
   "source": [
    "ns_var_w_acc_sub_evid_df = not_supported_variants_add_evidence_df.copy()"
   ]
  },
  {
   "cell_type": "code",
   "execution_count": null,
   "metadata": {},
   "outputs": [],
   "source": [
    "ns_var_w_acc_sub_evid_df = ns_var_w_acc_sub_evid_df.drop_duplicates(\n",
    "    subset=[\"evidence_id\", \"category\"]\n",
    ")"
   ]
  },
  {
   "cell_type": "markdown",
   "metadata": {},
   "source": [
    "##### <a id='toc5_5_1_2_1_'></a>[Calculating evidence score via level](#toc0_)"
   ]
  },
  {
   "cell_type": "code",
   "execution_count": null,
   "metadata": {},
   "outputs": [],
   "source": [
    "not_supported_variants_w_acc_sub_evid_df = calculate_impact_score(\n",
    "    ns_var_w_acc_sub_evid_df\n",
    ")\n",
    "not_supported_variants_w_acc_sub_evid_df"
   ]
  },
  {
   "cell_type": "markdown",
   "metadata": {},
   "source": [
    "##### <a id='toc5_5_1_2_2_'></a>[Summary Table](#toc0_)"
   ]
  },
  {
   "cell_type": "code",
   "execution_count": null,
   "metadata": {},
   "outputs": [],
   "source": [
    "not_supported_accepted_submitted_variant_categories_df = summarize_impact(\n",
    "    not_supported_variants_w_acc_sub_evid_df\n",
    ")\n",
    "not_supported_accepted_submitted_variant_categories_df"
   ]
  },
  {
   "cell_type": "markdown",
   "metadata": {},
   "source": [
    "The difference in impact when removing the submitted variants from the analysis"
   ]
  },
  {
   "cell_type": "code",
   "execution_count": null,
   "metadata": {},
   "outputs": [],
   "source": [
    "(\n",
    "    not_supported_accepted_submitted_variant_categories_df[\"impact\"]\n",
    "    - not_supported_accepted_variant_categories_df[\"impact\"]\n",
    ").sort_values(ascending=False)"
   ]
  },
  {
   "cell_type": "code",
   "execution_count": null,
   "metadata": {},
   "outputs": [],
   "source": [
    "not_supported_accepted_submitted_variant_categories_df.to_csv(\n",
    "    \"output/civic_both_evidence_cat_impact_df.csv\", index=True\n",
    ")\n",
    "not_supported_accepted_variant_categories_df.to_csv(\n",
    "    \"output/civic_accepted_evidence_only_impact_df.csv\",\n",
    "    index=True,\n",
    ")"
   ]
  },
  {
   "cell_type": "markdown",
   "metadata": {},
   "source": [
    "### <a id='toc5_5_2_'></a>[Via Molecular Profile Score- this was not used](#toc0_)\n",
    " Since MOA evidence items are only scored by level, we used impact score via evidence level for CIViC variants to remain consistent"
   ]
  },
  {
   "cell_type": "markdown",
   "metadata": {},
   "source": [
    "#### <a id='toc5_5_2_1_'></a>[Import molecular profile id](#toc0_)"
   ]
  },
  {
   "cell_type": "code",
   "execution_count": null,
   "metadata": {},
   "outputs": [],
   "source": [
    "not_supported_variants_add_molprof_df = transform_df_mp_id(not_supported_queries_df)\n",
    "not_supported_variants_add_molprof_df.head()"
   ]
  },
  {
   "cell_type": "markdown",
   "metadata": {},
   "source": [
    "#### <a id='toc5_5_2_2_'></a>[Import molecular profile scores](#toc0_)"
   ]
  },
  {
   "cell_type": "code",
   "execution_count": null,
   "metadata": {},
   "outputs": [],
   "source": [
    "not_supported_variants_add_molprof_df = transform_df_mp_score(\n",
    "    not_supported_variants_add_molprof_df\n",
    ")\n",
    "not_supported_variants_add_molprof_df.head()"
   ]
  },
  {
   "cell_type": "code",
   "execution_count": null,
   "metadata": {},
   "outputs": [],
   "source": [
    "not_supported_variants_add_molprof_df = transform_df_mp_score_sum(\n",
    "    not_supported_variants_add_molprof_df\n",
    ")\n",
    "not_supported_variants_add_molprof_df.head()"
   ]
  },
  {
   "cell_type": "code",
   "execution_count": null,
   "metadata": {},
   "outputs": [],
   "source": [
    "not_supported_variants_add_molprof_df[\n",
    "    (not_supported_variants_add_molprof_df[\"molecular_profile_score_sum\"] == 0.0)\n",
    "    & (not_supported_variants_add_molprof_df[\"variant_accepted\"] == True)\n",
    "]"
   ]
  },
  {
   "cell_type": "code",
   "execution_count": null,
   "metadata": {},
   "outputs": [],
   "source": [
    "not_supported_variants_add_molprof_df[\"molecular_profile_score_sum\"].max()"
   ]
  },
  {
   "cell_type": "code",
   "execution_count": null,
   "metadata": {},
   "outputs": [],
   "source": [
    "not_supported_variants_add_molprof_df[\n",
    "    (not_supported_variants_add_molprof_df[\"molecular_profile_score_sum\"] != 0.0)\n",
    "]"
   ]
  },
  {
   "cell_type": "markdown",
   "metadata": {},
   "source": [
    "#### <a id='toc5_5_2_3_'></a>[Impact by Subcategory](#toc0_)"
   ]
  },
  {
   "cell_type": "code",
   "execution_count": null,
   "metadata": {},
   "outputs": [],
   "source": [
    "not_supported_impact_summary = {\n",
    "    \"Category\": VARIANT_CATEGORY_VALUES,\n",
    "    \"CIVIC Total Sum Impact Score\": [],\n",
    "    \"Average Impact Score per Variant\": [],\n",
    "    \"Average Impact Score per Evidence Item\": [],\n",
    "    \"Total Number Evidence Items\": [\n",
    "        v[\"number_unique_not_supported_category_evidence\"]\n",
    "        for v in not_supported_variant_categories_evidence_summary_data.values()\n",
    "    ],\n",
    "    \"% Accepted Evidence Items\": [\n",
    "        v[\"percentage_accepted_evidence_not_supported_category_variants\"]\n",
    "        for v in not_supported_variant_categories_evidence_summary_data.values()\n",
    "    ],\n",
    "    \"Total Number Variants\": [\n",
    "        v[\"number_unique_not_supported_category_variants\"]\n",
    "        for v in not_supported_variant_categories_summary_data.values()\n",
    "    ],\n",
    "}"
   ]
  },
  {
   "cell_type": "code",
   "execution_count": null,
   "metadata": {},
   "outputs": [],
   "source": [
    "not_supported_variant_categories_impact_data = dict()\n",
    "for category in VARIANT_CATEGORY_VALUES:\n",
    "    not_supported_variant_categories_impact_data[category] = {}\n",
    "    impact_category_df = not_supported_variants_add_molprof_df[\n",
    "        not_supported_variants_add_molprof_df.category == category\n",
    "    ]\n",
    "\n",
    "    total_sum_not_supported_category_impact = impact_category_df[\n",
    "        \"molecular_profile_score_sum\"\n",
    "    ].sum()\n",
    "    not_supported_variant_categories_impact_data[category][\n",
    "        \"total_sum_not_supported_category_impact\"\n",
    "    ] = total_sum_not_supported_category_impact\n",
    "\n",
    "    avg_impact_score_variant = (\n",
    "        total_sum_not_supported_category_impact\n",
    "        / number_unique_not_supported_category_variants\n",
    "    )\n",
    "    not_supported_variant_categories_impact_data[category][\n",
    "        \"avg_impact_score_variant\"\n",
    "    ] = avg_impact_score_variant\n",
    "\n",
    "    avg_impact_score_evidence = (\n",
    "        total_sum_not_supported_category_impact\n",
    "        / number_unique_not_supported_category_evidence\n",
    "    )\n",
    "    not_supported_variant_categories_impact_data[category][\n",
    "        \"avg_impact_score_evidence\"\n",
    "    ] = avg_impact_score_evidence\n",
    "\n",
    "    not_supported_impact_summary[\"CIVIC Total Sum Impact Score\"].append(\n",
    "        total_sum_not_supported_category_impact\n",
    "    )\n",
    "    not_supported_impact_summary[\"Average Impact Score per Variant\"].append(\n",
    "        avg_impact_score_variant\n",
    "    )\n",
    "    not_supported_impact_summary[\"Average Impact Score per Evidence Item\"].append(\n",
    "        avg_impact_score_evidence\n",
    "    )\n",
    "\n",
    "    print(f\"{category}: {total_sum_not_supported_category_impact}\")"
   ]
  },
  {
   "cell_type": "code",
   "execution_count": null,
   "metadata": {},
   "outputs": [],
   "source": [
    "not_supported_variant_impact_df = pd.DataFrame(not_supported_impact_summary)"
   ]
  },
  {
   "cell_type": "code",
   "execution_count": null,
   "metadata": {},
   "outputs": [],
   "source": [
    "not_supported_variant_impact_df = not_supported_variant_impact_df.round(2)\n",
    "not_supported_variant_impact_df"
   ]
  },
  {
   "cell_type": "code",
   "execution_count": null,
   "metadata": {},
   "outputs": [],
   "source": [
    "not_supported_variant_impact_df.to_csv(\n",
    "    \"output/not_supported_variant_impact_df.csv\", index=False\n",
    ")"
   ]
  },
  {
   "cell_type": "markdown",
   "metadata": {},
   "source": [
    "# <a id='toc6_'></a>[Summary](#toc0_)"
   ]
  },
  {
   "cell_type": "markdown",
   "metadata": {},
   "source": [
    "## <a id='toc6_1_'></a>[Variant Analysis](#toc0_)"
   ]
  },
  {
   "cell_type": "markdown",
   "metadata": {},
   "source": [
    "### <a id='toc6_1_1_'></a>[Building Summary Table 1 & 2](#toc0_)"
   ]
  },
  {
   "cell_type": "code",
   "execution_count": null,
   "metadata": {},
   "outputs": [],
   "source": [
    "all_variant_df = pd.DataFrame(variant_analysis_summary)"
   ]
  },
  {
   "cell_type": "code",
   "execution_count": null,
   "metadata": {},
   "outputs": [],
   "source": [
    "def combine_frac_perc(df: pd.DataFrame, denominator: str) -> pd.DataFrame:\n",
    "    \"\"\"Put fraction and percent string into one string\n",
    "\n",
    "    :param df: Dataframe of variant statistics\n",
    "    :param denominator: string representing what the denominator of the fraction is\n",
    "    :return: Transformed dataframe with fraction and percent string as one string\n",
    "    \"\"\"\n",
    "    for d in denominator:\n",
    "        perc_key = f\"Percent of {d}\"\n",
    "        frac_key = f\"Fraction of {d}\"\n",
    "        df[perc_key] = (\n",
    "            df[frac_key].astype(str) + \"  (\" + df[perc_key] + \")\"\n",
    "        )\n",
    "        df = df.drop([frac_key], axis=1)\n",
    "    return df"
   ]
  },
  {
   "cell_type": "code",
   "execution_count": null,
   "metadata": {},
   "outputs": [],
   "source": [
    "all_variant_df = combine_frac_perc(\n",
    "    all_variant_df, [\"all CIViC Variants\", \"Accepted Variants\", \"Submitted Variants\"]\n",
    ")\n",
    "all_variant_df"
   ]
  },
  {
   "cell_type": "code",
   "execution_count": null,
   "metadata": {},
   "outputs": [],
   "source": [
    "all_variant_percent_status_df = all_variant_df.drop(\n",
    "    [\n",
    "        \"Percent of all CIViC Variants\",\n",
    "        \"Count of CIViC Variants per Category\",\n",
    "    ],\n",
    "    axis=1,\n",
    ")\n",
    "\n",
    "for_merge_all_variant_percent_of_civic_df = all_variant_df.drop(\n",
    "    [\n",
    "        \"Percent of Accepted Variants\",\n",
    "        \"Percent of Submitted Variants\",\n",
    "    ],\n",
    "    axis=1,\n",
    ")\n",
    "\n",
    "all_variant_percent_of_civic_df = for_merge_all_variant_percent_of_civic_df.drop(\n",
    "    [\"Count of CIViC Variants per Category\"], axis=1\n",
    ")"
   ]
  },
  {
   "cell_type": "code",
   "execution_count": null,
   "metadata": {},
   "outputs": [],
   "source": [
    "for_merge_all_variant_percent_of_civic_df.to_csv(\n",
    "    \"output/for_merge_all_variant_percent_of_civic_df.csv\",\n",
    "    index=False,\n",
    ")"
   ]
  },
  {
   "cell_type": "markdown",
   "metadata": {},
   "source": [
    "### <a id='toc6_1_2_'></a>[Summary Table 1](#toc0_)"
   ]
  },
  {
   "cell_type": "markdown",
   "metadata": {},
   "source": [
    "The table below shows the 3 categories that CIViC variants were divided into after normalization and what percent they make up of all variants in CIViC data."
   ]
  },
  {
   "cell_type": "markdown",
   "metadata": {},
   "source": [
    "<ins>Numerator:</ins> # of CIViC variants based on normalization status\n",
    "<br><ins>Denominator:</ins> # of all CIViC variants"
   ]
  },
  {
   "cell_type": "code",
   "execution_count": null,
   "metadata": {},
   "outputs": [],
   "source": [
    "all_variant_percent_of_civic_df = all_variant_percent_of_civic_df.set_index(\n",
    "    \"Variant Category\"\n",
    ")\n",
    "all_variant_percent_of_civic_df"
   ]
  },
  {
   "cell_type": "code",
   "execution_count": null,
   "metadata": {},
   "outputs": [],
   "source": [
    "civic_summary_table_1 = all_variant_percent_of_civic_df"
   ]
  },
  {
   "cell_type": "markdown",
   "metadata": {},
   "source": [
    "### <a id='toc6_1_3_'></a>[Summary Table 2](#toc0_)"
   ]
  },
  {
   "cell_type": "markdown",
   "metadata": {},
   "source": [
    "The table below shows the 3 categories that CIViC variants were divided into after normalization and what percent of the variants in each category are accepted (have at least one evidence item that is accepted) or not."
   ]
  },
  {
   "cell_type": "markdown",
   "metadata": {},
   "source": [
    "<ins>Numerator:</ins> # of CIViC variants based on normalization and acceptance status\n",
    "<br><ins>Denominator:</ins> # of CIViC variants based on normalization status"
   ]
  },
  {
   "cell_type": "code",
   "execution_count": null,
   "metadata": {},
   "outputs": [],
   "source": [
    "all_variant_percent_status_df = all_variant_percent_status_df.set_index(\n",
    "    \"Variant Category\"\n",
    ")\n",
    "all_variant_percent_status_df"
   ]
  },
  {
   "cell_type": "code",
   "execution_count": null,
   "metadata": {},
   "outputs": [],
   "source": [
    "civic_summary_table_2 = all_variant_percent_status_df"
   ]
  },
  {
   "cell_type": "markdown",
   "metadata": {},
   "source": [
    "### <a id='toc6_1_4_'></a>[Building Summary Tables 3 - 5](#toc0_)"
   ]
  },
  {
   "cell_type": "code",
   "execution_count": null,
   "metadata": {},
   "outputs": [],
   "source": [
    "not_supported_variant_df = pd.DataFrame(not_supported_variant_analysis_summary)"
   ]
  },
  {
   "cell_type": "code",
   "execution_count": null,
   "metadata": {},
   "outputs": [],
   "source": [
    "not_supported_variant_df = combine_frac_perc(\n",
    "    not_supported_variant_df,\n",
    "    [\n",
    "        \"Not Supported Variants\",\n",
    "        \"all CIViC Variants\",\n",
    "        \"Accepted Variants\",\n",
    "        \"Submitted Variants\",\n",
    "    ],\n",
    ")\n",
    "not_supported_variant_df"
   ]
  },
  {
   "cell_type": "code",
   "execution_count": null,
   "metadata": {},
   "outputs": [],
   "source": [
    "for_merge_not_supported_variant_percent_of_civic_df = not_supported_variant_df.drop(\n",
    "    [\n",
    "        \"Percent of Not Supported Variants\",\n",
    "        \"Percent of Accepted Variants\",\n",
    "        \"Percent of Submitted Variants\",\n",
    "    ],\n",
    "    axis=1,\n",
    ")\n",
    "\n",
    "not_supported_variant_percent_of_civic_df = (\n",
    "    for_merge_not_supported_variant_percent_of_civic_df.drop(\n",
    "        [\"Count of CIViC Variants per Category\"], axis=1\n",
    "    )\n",
    ")\n",
    "\n",
    "not_supported_variant_percent_of_not_supported_df = not_supported_variant_df[\n",
    "    [\"Category\", \"Percent of Not Supported Variants\"]\n",
    "].copy()\n",
    "\n",
    "not_supported_variant_percent_evidence_df = not_supported_variant_df.drop(\n",
    "    [\n",
    "        \"Percent of all CIViC Variants\",\n",
    "        \"Percent of Not Supported Variants\",\n",
    "        \"Count of CIViC Variants per Category\",\n",
    "    ],\n",
    "    axis=1,\n",
    ")"
   ]
  },
  {
   "cell_type": "code",
   "execution_count": null,
   "metadata": {},
   "outputs": [],
   "source": [
    "for_merge_not_supported_variant_percent_of_civic_df.to_csv(\n",
    "    \"output/for_merge_not_supported_variant_percent_of_civic_df.csv\",\n",
    "    index=False,\n",
    ")"
   ]
  },
  {
   "cell_type": "markdown",
   "metadata": {},
   "source": [
    "### <a id='toc6_1_5_'></a>[Summary Table 3](#toc0_)"
   ]
  },
  {
   "cell_type": "markdown",
   "metadata": {},
   "source": [
    "The table below shows the categories that the Not Supported variants were broken into and what percent of all CIViC variants they make up. These percentages will not add up to 100% because Not Supported variants are only a subset of all CIViC variants."
   ]
  },
  {
   "cell_type": "markdown",
   "metadata": {},
   "source": [
    "<ins>Numerator:</ins> # of CIViC variants that are Not Supported in a given Subcategory\n",
    "<br><ins>Denominator:</ins> # of all CIViC variants"
   ]
  },
  {
   "cell_type": "code",
   "execution_count": null,
   "metadata": {},
   "outputs": [],
   "source": [
    "not_supported_variant_percent_of_civic_df = (\n",
    "    not_supported_variant_percent_of_civic_df.set_index(\"Category\")\n",
    ")\n",
    "not_supported_variant_percent_of_civic_df"
   ]
  },
  {
   "cell_type": "code",
   "execution_count": null,
   "metadata": {},
   "outputs": [],
   "source": [
    "civic_summary_table_3 = not_supported_variant_percent_of_civic_df"
   ]
  },
  {
   "cell_type": "markdown",
   "metadata": {},
   "source": [
    "### <a id='toc6_1_6_'></a>[Summary Table 4](#toc0_)"
   ]
  },
  {
   "cell_type": "markdown",
   "metadata": {},
   "source": [
    "The table below shows the Not Supported variants broken up into 11 sub categories and what percent each sub category takes up in Not Supported variant group."
   ]
  },
  {
   "cell_type": "markdown",
   "metadata": {},
   "source": [
    "<ins>Numerator:</ins> # of CIViC variants that are Not Supported in a given Subcategory\n",
    "<br><ins>Denominator:</ins> # of CIViC variants that are Not Supported"
   ]
  },
  {
   "cell_type": "code",
   "execution_count": null,
   "metadata": {},
   "outputs": [],
   "source": [
    "not_supported_variant_percent_of_not_supported_df = (\n",
    "    not_supported_variant_percent_of_not_supported_df.set_index(\"Category\")\n",
    ")\n",
    "not_supported_variant_percent_of_not_supported_df"
   ]
  },
  {
   "cell_type": "code",
   "execution_count": null,
   "metadata": {},
   "outputs": [],
   "source": [
    "civic_summary_table_4 = not_supported_variant_percent_of_not_supported_df"
   ]
  },
  {
   "cell_type": "markdown",
   "metadata": {},
   "source": [
    "### <a id='toc6_1_7_'></a>[Summary Table 5](#toc0_)"
   ]
  },
  {
   "cell_type": "markdown",
   "metadata": {},
   "source": [
    "The table below shows the Not Supported variants broken up into 11 sub categories and what percent each sub category takes up in Not Supported variant group."
   ]
  },
  {
   "cell_type": "markdown",
   "metadata": {},
   "source": [
    "<ins>Numerator:</ins> # of CIViC variants that are Not Supported in a given Subcategory based on acceptance status\n",
    "<br><ins>Denominator:</ins> # of CIViC variants that are Not Supported in a given Subcategory"
   ]
  },
  {
   "cell_type": "code",
   "execution_count": null,
   "metadata": {},
   "outputs": [],
   "source": [
    "not_supported_variant_percent_evidence_df = (\n",
    "    not_supported_variant_percent_evidence_df.set_index(\"Category\")\n",
    ")\n",
    "not_supported_variant_percent_evidence_df"
   ]
  },
  {
   "cell_type": "code",
   "execution_count": null,
   "metadata": {},
   "outputs": [],
   "source": [
    "civic_summary_table_5 = not_supported_variant_percent_evidence_df"
   ]
  },
  {
   "cell_type": "markdown",
   "metadata": {},
   "source": [
    "## <a id='toc6_2_'></a>[Evidence Analysis](#toc0_)"
   ]
  },
  {
   "cell_type": "markdown",
   "metadata": {},
   "source": [
    "### <a id='toc6_2_1_'></a>[Building Summary Tables 6 & 7](#toc0_)"
   ]
  },
  {
   "cell_type": "code",
   "execution_count": null,
   "metadata": {},
   "outputs": [],
   "source": [
    "all_variant_evidence_df = pd.DataFrame(evidence_analysis_summary)"
   ]
  },
  {
   "cell_type": "code",
   "execution_count": null,
   "metadata": {},
   "outputs": [],
   "source": [
    "all_variant_evidence_df = combine_frac_perc(\n",
    "    all_variant_evidence_df,\n",
    "    [\"all CIViC Evidence Items\", \"Accepted Evidence Items\", \"Submitted Evidence Items\"],\n",
    ")\n",
    "all_variant_evidence_df"
   ]
  },
  {
   "cell_type": "code",
   "execution_count": null,
   "metadata": {},
   "outputs": [],
   "source": [
    "for_merge_all_variant_evidence_percent_of_civic_df = all_variant_evidence_df.drop(\n",
    "    [\"Percent of Accepted Evidence Items\", \"Percent of Submitted Evidence Items\"],\n",
    "    axis=1,\n",
    ")\n",
    "\n",
    "all_variant_evidence_percent_of_civic_df = (\n",
    "    for_merge_all_variant_evidence_percent_of_civic_df.drop(\n",
    "        [\"Count of CIViC Evidence Items per Category\"], axis=1\n",
    "    )\n",
    ")\n",
    "\n",
    "all_variant_evidence_percent_evidence_df = all_variant_evidence_df.drop(\n",
    "    [\n",
    "        \"Percent of all CIViC Evidence Items\",\n",
    "        \"Count of CIViC Evidence Items per Category\",\n",
    "    ],\n",
    "    axis=1,\n",
    ")"
   ]
  },
  {
   "cell_type": "code",
   "execution_count": null,
   "metadata": {},
   "outputs": [],
   "source": [
    "for_merge_all_variant_evidence_percent_of_civic_df.to_csv(\n",
    "    \"output/for_merge_all_variant_evidence_percent_of_civic_df.csv\",\n",
    "    index=False,\n",
    ")"
   ]
  },
  {
   "cell_type": "markdown",
   "metadata": {},
   "source": [
    "### <a id='toc6_2_2_'></a>[Summary Table 6](#toc0_)"
   ]
  },
  {
   "cell_type": "markdown",
   "metadata": {},
   "source": [
    "The table below shows what percent of all evidence items in CIViC are associated with Normalized, Unable to Normalize, and Not Supported variants. This will not add up to 100% because evidence items may be used across multiple variants."
   ]
  },
  {
   "cell_type": "markdown",
   "metadata": {},
   "source": [
    "<ins>Numerator:</ins> # of CIViC evidence items based on normalization status of associated variant\n",
    "<br><ins>Denominator:</ins> # of all CIViC evidence items"
   ]
  },
  {
   "cell_type": "code",
   "execution_count": null,
   "metadata": {},
   "outputs": [],
   "source": [
    "all_variant_evidence_percent_of_civic_df = (\n",
    "    all_variant_evidence_percent_of_civic_df.set_index(\"Variant Category\")\n",
    ")\n",
    "all_variant_evidence_percent_of_civic_df"
   ]
  },
  {
   "cell_type": "code",
   "execution_count": null,
   "metadata": {},
   "outputs": [],
   "source": [
    "civic_summary_table_6 = all_variant_evidence_percent_of_civic_df"
   ]
  },
  {
   "cell_type": "markdown",
   "metadata": {},
   "source": [
    "### <a id='toc6_2_3_'></a>[Summmary Table 7](#toc0_)"
   ]
  },
  {
   "cell_type": "markdown",
   "metadata": {},
   "source": [
    "The table below shows the percent of accepted and submitted evidence items per category of variants."
   ]
  },
  {
   "cell_type": "markdown",
   "metadata": {},
   "source": [
    "<ins>Numerator:</ins> # of CIViC evidence items based on evidence acceptance status and normalization status of associated variant\n",
    "<br><ins>Denominator:</ins> # of all CIViC evidence items based on normalization status of associated variant"
   ]
  },
  {
   "cell_type": "code",
   "execution_count": null,
   "metadata": {},
   "outputs": [],
   "source": [
    "all_variant_evidence_percent_evidence_df = (\n",
    "    all_variant_evidence_percent_evidence_df.set_index(\"Variant Category\")\n",
    ")\n",
    "all_variant_evidence_percent_evidence_df"
   ]
  },
  {
   "cell_type": "code",
   "execution_count": null,
   "metadata": {},
   "outputs": [],
   "source": [
    "civic_summary_table_7 = all_variant_evidence_percent_evidence_df"
   ]
  },
  {
   "cell_type": "markdown",
   "metadata": {},
   "source": [
    "### <a id='toc6_2_4_'></a>[Building Summary Tables 8 - 10](#toc0_)"
   ]
  },
  {
   "cell_type": "code",
   "execution_count": null,
   "metadata": {},
   "outputs": [],
   "source": [
    "not_supported_variant_evidence_df = pd.DataFrame(not_supported_variant_evidence_summary)"
   ]
  },
  {
   "cell_type": "code",
   "execution_count": null,
   "metadata": {},
   "outputs": [],
   "source": [
    "not_supported_variant_evidence_df = combine_frac_perc(\n",
    "    not_supported_variant_evidence_df,\n",
    "    [\n",
    "        \"all CIViC Evidence Items\",\n",
    "        \"Not Supported Variant Evidence Items\",\n",
    "        \"Accepted Evidence Items\",\n",
    "        \"Submitted Evidence Items\",\n",
    "    ],\n",
    ")\n",
    "not_supported_variant_evidence_df"
   ]
  },
  {
   "cell_type": "code",
   "execution_count": null,
   "metadata": {},
   "outputs": [],
   "source": [
    "for_merge_not_supported_variant_evidence_percent_of_civic_df = (\n",
    "    not_supported_variant_evidence_df.drop(\n",
    "        [\n",
    "            \"Percent of Not Supported Variant Evidence Items\",\n",
    "            \"Percent of Accepted Evidence Items\",\n",
    "            \"Percent of Submitted Evidence Items\",\n",
    "        ],\n",
    "        axis=1,\n",
    "    )\n",
    ")\n",
    "\n",
    "not_supported_variant_evidence_percent_of_civic_df = (\n",
    "    for_merge_not_supported_variant_evidence_percent_of_civic_df.drop(\n",
    "        [\"Count of CIViC Evidence Items per Category\"], axis=1\n",
    "    )\n",
    ")\n",
    "\n",
    "not_supported_variant_evidence_percent_of_not_supported_df = (\n",
    "    not_supported_variant_evidence_df[\n",
    "        [\"Category\", \"Percent of Not Supported Variant Evidence Items\"]\n",
    "    ].copy()\n",
    ")\n",
    "\n",
    "\n",
    "not_supported_variant_evidence_percent_evidence_df = (\n",
    "    not_supported_variant_evidence_df.drop(\n",
    "        [\n",
    "            \"Percent of Not Supported Variant Evidence Items\",\n",
    "            \"Percent of all CIViC Evidence Items\",\n",
    "            \"Count of CIViC Evidence Items per Category\",\n",
    "        ],\n",
    "        axis=1,\n",
    "    )\n",
    ")"
   ]
  },
  {
   "cell_type": "code",
   "execution_count": null,
   "metadata": {},
   "outputs": [],
   "source": [
    "for_merge_not_supported_variant_evidence_percent_of_civic_df.to_csv(\n",
    "    \"output/for_merge_not_supported_variant_evidence_percent_of_civic_df.csv\",\n",
    "    index=False,\n",
    ")"
   ]
  },
  {
   "cell_type": "markdown",
   "metadata": {},
   "source": [
    "### <a id='toc6_2_5_'></a>[Summary Table 8](#toc0_)"
   ]
  },
  {
   "cell_type": "markdown",
   "metadata": {},
   "source": [
    "The table below shows the percent of all CIViC evidence items that are associated with a Not Supported variant sub category. This will not add up to 100% since the evidence items can be associated with multiple variants."
   ]
  },
  {
   "cell_type": "markdown",
   "metadata": {},
   "source": [
    "<ins>Numerator:</ins> # of CIViC evidence items that are associated with Not Supported variants in a given Subcategory\n",
    "<br><ins>Denominator:</ins> # of all CIViC evidence items"
   ]
  },
  {
   "cell_type": "code",
   "execution_count": null,
   "metadata": {},
   "outputs": [],
   "source": [
    "not_supported_variant_evidence_percent_of_civic_df = (\n",
    "    not_supported_variant_evidence_percent_of_civic_df.set_index(\"Category\")\n",
    ")\n",
    "not_supported_variant_evidence_percent_of_civic_df"
   ]
  },
  {
   "cell_type": "code",
   "execution_count": null,
   "metadata": {},
   "outputs": [],
   "source": [
    "civic_summary_table_8 = not_supported_variant_evidence_percent_of_civic_df"
   ]
  },
  {
   "cell_type": "markdown",
   "metadata": {},
   "source": [
    "### <a id='toc6_2_6_'></a>[Summary Table 9](#toc0_)"
   ]
  },
  {
   "cell_type": "markdown",
   "metadata": {},
   "source": [
    "The table below shows the percent of all evidence items associated with Not Supported variants that are associated with a variant sub category."
   ]
  },
  {
   "cell_type": "markdown",
   "metadata": {},
   "source": [
    "<ins>Numerator:</ins> # of CIViC evidence items that are associated with Not Supported variants in a given Subcategory\n",
    "<br><ins>Denominator:</ins> # of CIViC evidence items that are associated with Not Supported variants"
   ]
  },
  {
   "cell_type": "code",
   "execution_count": null,
   "metadata": {},
   "outputs": [],
   "source": [
    "not_supported_variant_evidence_percent_of_not_supported_df = (\n",
    "    not_supported_variant_evidence_percent_of_not_supported_df.set_index(\"Category\")\n",
    ")\n",
    "not_supported_variant_evidence_percent_of_not_supported_df"
   ]
  },
  {
   "cell_type": "code",
   "execution_count": null,
   "metadata": {},
   "outputs": [],
   "source": [
    "civic_summary_table_9 = not_supported_variant_evidence_percent_of_not_supported_df"
   ]
  },
  {
   "cell_type": "markdown",
   "metadata": {},
   "source": [
    "### <a id='toc6_2_7_'></a>[Summary Table 10](#toc0_)"
   ]
  },
  {
   "cell_type": "markdown",
   "metadata": {},
   "source": [
    "The table below shows the percent of evidence items associated with Not Supported variant sub categories that are accepted or submitted."
   ]
  },
  {
   "cell_type": "markdown",
   "metadata": {},
   "source": [
    "<ins>Numerator:</ins> # of CIViC evidence items based on evidence acceptance status that are associated with Not Supported variants in a given Subcategory\n",
    "<br><ins>Denominator:</ins> # of CIViC evidence items that are associated with Not Supported variants in a given Subcategory"
   ]
  },
  {
   "cell_type": "code",
   "execution_count": null,
   "metadata": {},
   "outputs": [],
   "source": [
    "not_supported_variant_evidence_percent_evidence_df = (\n",
    "    not_supported_variant_evidence_percent_evidence_df.set_index(\"Category\")\n",
    ")\n",
    "not_supported_variant_evidence_percent_evidence_df"
   ]
  },
  {
   "cell_type": "code",
   "execution_count": null,
   "metadata": {},
   "outputs": [],
   "source": [
    "civic_summary_table_10 = not_supported_variant_evidence_percent_evidence_df"
   ]
  },
  {
   "cell_type": "markdown",
   "metadata": {},
   "source": [
    "## <a id='toc6_3_'></a>[Impact](#toc0_)"
   ]
  },
  {
   "cell_type": "markdown",
   "metadata": {},
   "source": [
    "accepted and submitted variants"
   ]
  },
  {
   "cell_type": "code",
   "execution_count": null,
   "metadata": {},
   "outputs": [],
   "source": [
    "not_supported_variants_w_acc_sub_evid_df"
   ]
  },
  {
   "cell_type": "code",
   "execution_count": null,
   "metadata": {},
   "outputs": [],
   "source": [
    "not_supported_elevel_impact_summary = {\n",
    "    \"Category\": VARIANT_CATEGORY_VALUES,\n",
    "    \"CIVIC Total Sum Impact Score\": [],\n",
    "    \"Average Impact Score per Variant\": [],\n",
    "    \"Average Impact Score per Evidence Item\": [],\n",
    "    \"Total Number Evidence Items\": [\n",
    "        v[\"number_unique_not_supported_category_evidence\"]\n",
    "        for v in not_supported_variant_categories_evidence_summary_data.values()\n",
    "    ],\n",
    "    \"% Accepted Evidence Items\": [\n",
    "        v[\"percentage_accepted_evidence_not_supported_category_variants\"]\n",
    "        for v in not_supported_variant_categories_evidence_summary_data.values()\n",
    "    ],\n",
    "    \"Total Number Variants\": [\n",
    "        v[\"number_unique_not_supported_category_variants\"]\n",
    "        for v in not_supported_variant_categories_summary_data.values()\n",
    "    ],\n",
    "}"
   ]
  },
  {
   "cell_type": "code",
   "execution_count": null,
   "metadata": {},
   "outputs": [],
   "source": [
    "not_supported_variant_categories_impact_data = dict()\n",
    "for category in VARIANT_CATEGORY_VALUES:\n",
    "    not_supported_variant_categories_impact_data[category] = {}\n",
    "    impact_category_df = not_supported_variants_w_acc_sub_evid_df[\n",
    "        not_supported_variants_w_acc_sub_evid_df.category == category\n",
    "    ]\n",
    "\n",
    "    total_sum_not_supported_category_impact = impact_category_df[\n",
    "        \"evidence_score_sum\"\n",
    "    ].sum()\n",
    "    not_supported_variant_categories_impact_data[category][\n",
    "        \"total_sum_not_supported_category_impact\"\n",
    "    ] = total_sum_not_supported_category_impact\n",
    "\n",
    "    avg_impact_score_variant = (\n",
    "        total_sum_not_supported_category_impact\n",
    "        / number_unique_not_supported_category_variants\n",
    "    )\n",
    "    not_supported_variant_categories_impact_data[category][\n",
    "        \"avg_impact_score_variant\"\n",
    "    ] = avg_impact_score_variant\n",
    "\n",
    "    avg_impact_score_evidence = (\n",
    "        total_sum_not_supported_category_impact\n",
    "        / number_unique_not_supported_category_evidence\n",
    "    )\n",
    "    not_supported_variant_categories_impact_data[category][\n",
    "        \"avg_impact_score_evidence\"\n",
    "    ] = avg_impact_score_evidence\n",
    "\n",
    "    not_supported_elevel_impact_summary[\"CIVIC Total Sum Impact Score\"].append(\n",
    "        total_sum_not_supported_category_impact\n",
    "    )\n",
    "    not_supported_elevel_impact_summary[\"Average Impact Score per Variant\"].append(\n",
    "        avg_impact_score_variant\n",
    "    )\n",
    "    not_supported_elevel_impact_summary[\n",
    "        \"Average Impact Score per Evidence Item\"\n",
    "    ].append(avg_impact_score_evidence)\n",
    "\n",
    "    print(f\"{category}: {total_sum_not_supported_category_impact}\")"
   ]
  },
  {
   "cell_type": "code",
   "execution_count": null,
   "metadata": {},
   "outputs": [],
   "source": [
    "not_supported_variant_impact_df = pd.DataFrame(not_supported_elevel_impact_summary)"
   ]
  },
  {
   "cell_type": "code",
   "execution_count": null,
   "metadata": {},
   "outputs": [],
   "source": [
    "not_supported_variant_impact_df = not_supported_variant_impact_df.round(2)\n",
    "not_supported_variant_impact_df"
   ]
  },
  {
   "cell_type": "markdown",
   "metadata": {},
   "source": [
    "The bar graph below shows the relationship between the Not Supported variant sub category impact score and the sub category. Additionally, the colors illustrate the number of evidence items associated each sub category."
   ]
  },
  {
   "cell_type": "code",
   "execution_count": null,
   "metadata": {},
   "outputs": [],
   "source": [
    "fig = px.bar(\n",
    "    not_supported_variant_impact_df,\n",
    "    x=\"Category\",\n",
    "    y=\"CIVIC Total Sum Impact Score\",\n",
    "    hover_data=[\n",
    "        \"Total Number Evidence Items\",\n",
    "        not_supported_variant_impact_df[\"% Accepted Evidence Items\"],\n",
    "    ],\n",
    "    color=\"Total Number Evidence Items\",\n",
    "    labels={\"CIVIC Total Sum Impact Score\": \"CIVIC Total Sum Impact Score\"},\n",
    "    text_auto=\".1f\",\n",
    "    color_continuous_scale=\"geyser\",\n",
    ")\n",
    "fig.update_traces(width=1)\n",
    "fig.show()"
   ]
  },
  {
   "cell_type": "code",
   "execution_count": null,
   "metadata": {},
   "outputs": [],
   "source": [
    "fig.write_html(\n",
    "    \"output/civic_ns_categories_impact_redgreen.html\"\n",
    ")"
   ]
  },
  {
   "cell_type": "markdown",
   "metadata": {},
   "source": [
    "The scatter plot below shows the relationship between the Not Supported variant sub category impact score and the number of evidence items associated with variants in each sub category. Additionally, the sizes of the data point represent the number of variants in each sub category. "
   ]
  },
  {
   "cell_type": "code",
   "execution_count": null,
   "metadata": {},
   "outputs": [],
   "source": [
    "fig2 = px.scatter(\n",
    "    data_frame=not_supported_variant_impact_df,\n",
    "    x=\"Total Number Evidence Items\",\n",
    "    y=\"CIVIC Total Sum Impact Score\",\n",
    "    size=\"Total Number Variants\",\n",
    "    size_max=40,\n",
    "    text=\"Total Number Variants\",\n",
    "    color=\"Category\",\n",
    "    hover_data=\"% Accepted Evidence Items\",\n",
    ")\n",
    "fig2.show()"
   ]
  },
  {
   "cell_type": "code",
   "execution_count": null,
   "metadata": {},
   "outputs": [],
   "source": [
    "fig2.write_html(\n",
    "    \"output/civic_ns_categories_impact_scatterplot.html\"\n",
    ")"
   ]
  },
  {
   "cell_type": "code",
   "execution_count": null,
   "metadata": {},
   "outputs": [],
   "source": [
    "fig3 = px.scatter(\n",
    "    data_frame=not_supported_variant_impact_df,\n",
    "    x=\"Total Number Variants\",\n",
    "    y=\"Average Impact Score per Evidence Item\",\n",
    "    size=\"Total Number Variants\",\n",
    "    size_max=40,\n",
    "    text=\"Total Number Variants\",\n",
    "    color=\"Category\",\n",
    "    hover_data=[\"% Accepted Evidence Items\", \"Average Impact Score per Variant\"],\n",
    ")\n",
    "fig3.show()"
   ]
  }
 ],
 "metadata": {
  "kernelspec": {
   "display_name": "Python 3.10.9 64-bit ('3.10.9')",
   "language": "python",
   "name": "python3"
  },
  "language_info": {
   "codemirror_mode": {
    "name": "ipython",
    "version": 3
   },
   "file_extension": ".py",
   "mimetype": "text/x-python",
   "name": "python",
   "nbconvert_exporter": "python",
   "pygments_lexer": "ipython3",
   "version": "3.10.9"
  },
  "orig_nbformat": 4,
  "vscode": {
   "interpreter": {
    "hash": "1bd4a0c8bc911393f4a19827cd0d555013b2fcb9ea63c8ddc9b9ae4ac59a8883"
   }
  }
 },
 "nbformat": 4,
 "nbformat_minor": 2
}
