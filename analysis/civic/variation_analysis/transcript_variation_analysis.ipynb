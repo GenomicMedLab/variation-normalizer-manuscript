{
 "cells": [
  {
   "cell_type": "markdown",
   "metadata": {},
   "source": [
    "This notebook is used to get the organization names and evidence status for evidence items associated to variants in the not supported transcript variants category.\n",
    "\n",
    "This notebook was run on July 21, 2025 (20250721)"
   ]
  },
  {
   "cell_type": "code",
   "execution_count": 1,
   "metadata": {},
   "outputs": [],
   "source": [
    "import csv\n",
    "import os\n",
    "import sys\n",
    "from typing import Optional\n",
    "\n",
    "import requests\n",
    "from civicpy import civic as civicpy\n",
    "\n",
    "module_path = os.path.abspath(os.path.join(\"../..\"))\n",
    "if module_path not in sys.path:\n",
    "    sys.path.append(module_path)\n",
    "\n",
    "from utils import load_civicpy_cache, NotSupportedVariantCategory  # noqa: E402"
   ]
  },
  {
   "cell_type": "code",
   "execution_count": 2,
   "metadata": {},
   "outputs": [
    {
     "data": {
      "text/plain": [
       "'There are 362 not supported Transcript Variants'"
      ]
     },
     "execution_count": 2,
     "metadata": {},
     "output_type": "execute_result"
    }
   ],
   "source": [
    "# Get set of not supported variant IDs\n",
    "not_supported_vids = set()\n",
    "\n",
    "with open(\"not_supported_variants.tsv\", \"r\") as rf:\n",
    "    reader = csv.reader(rf, delimiter=\"\\t\")\n",
    "    next(reader)\n",
    "\n",
    "    for row in reader:\n",
    "        if row[4] == NotSupportedVariantCategory.TRANSCRIPT:\n",
    "            not_supported_vids.add(row[0])\n",
    "\n",
    "num_transcript_vars = len(not_supported_vids)\n",
    "f\"There are {num_transcript_vars} not supported {NotSupportedVariantCategory.TRANSCRIPT}\""
   ]
  },
  {
   "cell_type": "code",
   "execution_count": 3,
   "metadata": {},
   "outputs": [
    {
     "name": "stdout",
     "output_type": "stream",
     "text": [
      "Using cache-20250717.pkl for civicpy cache\n"
     ]
    }
   ],
   "source": [
    "# Use latest cache that has been pushed to the repo\n",
    "load_civicpy_cache()"
   ]
  },
  {
   "cell_type": "code",
   "execution_count": 4,
   "metadata": {},
   "outputs": [],
   "source": [
    "# Get not supported variants from IDs\n",
    "not_supported_variants = civicpy.get_variants_by_ids(not_supported_vids)"
   ]
  },
  {
   "cell_type": "code",
   "execution_count": 5,
   "metadata": {},
   "outputs": [],
   "source": [
    "# civicpy at the moment does not capture submission events, so we must hit the graphql api\n",
    "def get_organization_name_for_evidence(evidence_id: int) -> Optional[str]:\n",
    "    \"\"\"Get organization name for an evidence item\n",
    "\n",
    "    :param evidence_id: CIViC evidence item ID\n",
    "    :return: Organization name for evidence item if found\n",
    "    \"\"\"\n",
    "    query = f\"\"\"\n",
    "        {{\n",
    "            evidenceItem(id: {evidence_id}) {{\n",
    "                submissionEvent {{\n",
    "                    organization {{\n",
    "                        name\n",
    "                    }}\n",
    "                }}\n",
    "            }}\n",
    "        }}\n",
    "    \"\"\"\n",
    "\n",
    "    resp = requests.post(\n",
    "        \"https://civicdb.org/api/graphql\",\n",
    "        json={\"query\": query},\n",
    "        headers={\"Content-Type\": \"application/json\"},\n",
    "    ).json()\n",
    "\n",
    "    ev_data = resp.get(\"data\").get(\"evidenceItem\")\n",
    "\n",
    "    org_name = None\n",
    "    if ev_data:\n",
    "        submission_event = ev_data[\"submissionEvent\"]\n",
    "        if submission_event:\n",
    "            org = submission_event[\"organization\"]\n",
    "            if org:\n",
    "                org_name = org[\"name\"]\n",
    "    return org_name"
   ]
  },
  {
   "cell_type": "code",
   "execution_count": 6,
   "metadata": {},
   "outputs": [],
   "source": [
    "org_name_mapping = {}  # organization name with status count mapping\n",
    "eids_no_org_name = {}  # evidence ids and associated status mapping\n",
    "checked_eids = set()\n",
    "\n",
    "for v in not_supported_variants:\n",
    "    for mp in v.molecular_profiles:\n",
    "        for e in mp.evidence_items:\n",
    "            if e.id in checked_eids:\n",
    "                # Do not want to have duplicate counts\n",
    "                continue\n",
    "\n",
    "            checked_eids.add(e.id)\n",
    "            e_status = e.status\n",
    "            org_name = get_organization_name_for_evidence(e.id)\n",
    "\n",
    "            if org_name:\n",
    "                if org_name in org_name_mapping:\n",
    "                    org_name_mapping[org_name][e_status] += 1\n",
    "                    org_name_mapping[org_name][\"total\"] += 1\n",
    "                else:\n",
    "                    status_count = {\n",
    "                        \"submitted\": 0,\n",
    "                        \"accepted\": 0,\n",
    "                        \"rejected\": 0,\n",
    "                        \"total\": 1,\n",
    "                    }\n",
    "                    status_count[e_status] += 1\n",
    "                    org_name_mapping[org_name] = status_count\n",
    "            else:\n",
    "                if e.id in eids_no_org_name:\n",
    "                    eids_no_org_name[e.id][e_status] += 1\n",
    "                    eids_no_org_name[e.id][\"total\"] += 1\n",
    "                else:\n",
    "                    status_count = {\n",
    "                        \"submitted\": 0,\n",
    "                        \"accepted\": 0,\n",
    "                        \"rejected\": 0,\n",
    "                        \"total\": 1,\n",
    "                    }\n",
    "                    status_count[e_status] += 1\n",
    "                    eids_no_org_name[e.id] = status_count"
   ]
  },
  {
   "cell_type": "code",
   "execution_count": 7,
   "metadata": {},
   "outputs": [
    {
     "data": {
      "text/plain": [
       "[('University Health Network (Toronto)',\n",
       "  {'submitted': 289, 'accepted': 15, 'rejected': 6, 'total': 310}),\n",
       " ('The McDonnell Genome Institute',\n",
       "  {'submitted': 60, 'accepted': 37, 'rejected': 0, 'total': 97}),\n",
       " ('ClinGen Somatic ',\n",
       "  {'submitted': 4, 'accepted': 1, 'rejected': 1, 'total': 6}),\n",
       " ('Illumina', {'submitted': 0, 'accepted': 3, 'rejected': 0, 'total': 3}),\n",
       " ('BCCA (POGS)', {'submitted': 1, 'accepted': 1, 'rejected': 0, 'total': 2}),\n",
       " ('NTRK SC-VCEP', {'submitted': 1, 'accepted': 0, 'rejected': 0, 'total': 1}),\n",
       " ('Pediatric Cancer CDWG',\n",
       "  {'submitted': 1, 'accepted': 0, 'rejected': 0, 'total': 1}),\n",
       " ('Treehouse Childhood Cancer Initiative',\n",
       "  {'submitted': 1, 'accepted': 0, 'rejected': 0, 'total': 1})]"
      ]
     },
     "execution_count": 7,
     "metadata": {},
     "output_type": "execute_result"
    }
   ],
   "source": [
    "sorted(org_name_mapping.items(), key=lambda x: x[1][\"total\"], reverse=True)"
   ]
  },
  {
   "cell_type": "code",
   "execution_count": 8,
   "metadata": {},
   "outputs": [
    {
     "data": {
      "text/plain": [
       "[(7230, {'submitted': 1, 'accepted': 0, 'rejected': 0, 'total': 1}),\n",
       " (11466, {'submitted': 1, 'accepted': 0, 'rejected': 0, 'total': 1}),\n",
       " (12273, {'submitted': 1, 'accepted': 0, 'rejected': 0, 'total': 1}),\n",
       " (12271, {'submitted': 1, 'accepted': 0, 'rejected': 0, 'total': 1}),\n",
       " (8066, {'submitted': 1, 'accepted': 0, 'rejected': 0, 'total': 1}),\n",
       " (8067, {'submitted': 0, 'accepted': 1, 'rejected': 0, 'total': 1}),\n",
       " (11693, {'submitted': 1, 'accepted': 0, 'rejected': 0, 'total': 1}),\n",
       " (8614, {'submitted': 1, 'accepted': 0, 'rejected': 0, 'total': 1}),\n",
       " (12274, {'submitted': 1, 'accepted': 0, 'rejected': 0, 'total': 1}),\n",
       " (11475, {'submitted': 1, 'accepted': 0, 'rejected': 0, 'total': 1}),\n",
       " (8661, {'submitted': 1, 'accepted': 0, 'rejected': 0, 'total': 1}),\n",
       " (6225, {'submitted': 1, 'accepted': 0, 'rejected': 0, 'total': 1}),\n",
       " (8051, {'submitted': 1, 'accepted': 0, 'rejected': 0, 'total': 1}),\n",
       " (11393, {'submitted': 1, 'accepted': 0, 'rejected': 0, 'total': 1}),\n",
       " (11546, {'submitted': 1, 'accepted': 0, 'rejected': 0, 'total': 1}),\n",
       " (11518, {'submitted': 1, 'accepted': 0, 'rejected': 0, 'total': 1}),\n",
       " (8655, {'submitted': 1, 'accepted': 0, 'rejected': 0, 'total': 1}),\n",
       " (11462, {'submitted': 1, 'accepted': 0, 'rejected': 0, 'total': 1}),\n",
       " (12277, {'submitted': 1, 'accepted': 0, 'rejected': 0, 'total': 1}),\n",
       " (11461, {'submitted': 1, 'accepted': 0, 'rejected': 0, 'total': 1}),\n",
       " (8650, {'submitted': 1, 'accepted': 0, 'rejected': 0, 'total': 1})]"
      ]
     },
     "execution_count": 8,
     "metadata": {},
     "output_type": "execute_result"
    }
   ],
   "source": [
    "sorted(eids_no_org_name.items(), key=lambda x: x[1][\"total\"], reverse=True)"
   ]
  },
  {
   "cell_type": "code",
   "execution_count": 9,
   "metadata": {},
   "outputs": [
    {
     "data": {
      "text/plain": [
       "'There are 442 evidence items associated to Transcript Variants'"
      ]
     },
     "execution_count": 9,
     "metadata": {},
     "output_type": "execute_result"
    }
   ],
   "source": [
    "f\"There are {len(checked_eids)} evidence items associated to {NotSupportedVariantCategory.TRANSCRIPT}\""
   ]
  }
 ],
 "metadata": {
  "kernelspec": {
   "display_name": "variation-normalizer-manuscript",
   "language": "python",
   "name": "python3"
  },
  "language_info": {
   "codemirror_mode": {
    "name": "ipython",
    "version": 3
   },
   "file_extension": ".py",
   "mimetype": "text/x-python",
   "name": "python",
   "nbconvert_exporter": "python",
   "pygments_lexer": "ipython3",
   "version": "3.13.5"
  }
 },
 "nbformat": 4,
 "nbformat_minor": 2
}
