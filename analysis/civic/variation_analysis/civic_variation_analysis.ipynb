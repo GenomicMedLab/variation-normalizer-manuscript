{
 "cells": [
  {
   "attachments": {},
   "cell_type": "markdown",
   "metadata": {},
   "source": [
    "# Analysis for CIViC data\n",
    "\n",
    "This notebook contains an analysis on CIViC variant data"
   ]
  },
  {
   "cell_type": "code",
   "execution_count": 1,
   "metadata": {},
   "outputs": [
    {
     "data": {
      "text/plain": [
       "True"
      ]
     },
     "execution_count": 1,
     "metadata": {},
     "output_type": "execute_result"
    }
   ],
   "source": [
    "from dotenv import load_dotenv\n",
    "\n",
    "load_dotenv(\"../../../.env.shared\")"
   ]
  },
  {
   "cell_type": "code",
   "execution_count": 2,
   "metadata": {},
   "outputs": [
    {
     "name": "stderr",
     "output_type": "stream",
     "text": [
      "/Users/kxk102/Documents/git/genomic_med_lab/variation-normalizer-manuscript/.venv/lib/python3.13/site-packages/hgvs/__init__.py:60: UserWarning: pkg_resources is deprecated as an API. See https://setuptools.pypa.io/en/latest/pkg_resources.html. The pkg_resources package is slated for removal as early as 2025-11-30. Refrain from using this package or pin to Setuptools<81.\n",
      "  import pkg_resources\n"
     ]
    }
   ],
   "source": [
    "import os\n",
    "import sys\n",
    "import logging\n",
    "import re\n",
    "import csv\n",
    "from typing import Dict, Set, Tuple, Optional\n",
    "\n",
    "from civicpy import civic as civicpy\n",
    "from gene.database import create_db\n",
    "from gene.query import QueryHandler as GeneQueryHandler\n",
    "from variation.query import QueryHandler\n",
    "from variation.schemas.service_schema import ClinVarAssembly\n",
    "\n",
    "module_path = os.path.abspath(os.path.join(\"../..\"))\n",
    "if module_path not in sys.path:\n",
    "    sys.path.append(module_path)\n",
    "\n",
    "from download_cool_seq_tool_files import download_cool_seq_tool_files  # noqa: E402\n",
    "from utils import load_civicpy_cache, NotSupportedVariantCategory  # noqa: E402\n",
    "\n",
    "log_filename = \"civic-variation-analysis.log\"\n",
    "logging.basicConfig(\n",
    "    filename=log_filename,\n",
    "    format=\"[%(asctime)s] - %(name)s - %(levelname)s : %(message)s\",\n",
    ")"
   ]
  },
  {
   "cell_type": "code",
   "execution_count": 3,
   "metadata": {},
   "outputs": [],
   "source": [
    "download_cool_seq_tool_files(is_docker_env=False)"
   ]
  },
  {
   "cell_type": "code",
   "execution_count": 4,
   "metadata": {},
   "outputs": [
    {
     "name": "stdout",
     "output_type": "stream",
     "text": [
      "***Using Gene Database Endpoint: http://localhost:8000***\n"
     ]
    }
   ],
   "source": [
    "gene_query_handler = GeneQueryHandler(create_db())\n",
    "query_handler = QueryHandler(gene_query_handler=gene_query_handler)"
   ]
  },
  {
   "cell_type": "code",
   "execution_count": 5,
   "metadata": {},
   "outputs": [],
   "source": [
    "# # Uncomment to get latest civic data and comment out the next cell\n",
    "# civicpy.update_cache(from_remote_cache=False)"
   ]
  },
  {
   "cell_type": "code",
   "execution_count": 6,
   "metadata": {},
   "outputs": [
    {
     "name": "stdout",
     "output_type": "stream",
     "text": [
      "Using cache-20250717.pkl for civicpy cache\n"
     ]
    }
   ],
   "source": [
    "# Use latest cache that has been pushed to the repo\n",
    "load_civicpy_cache()"
   ]
  },
  {
   "cell_type": "code",
   "execution_count": 7,
   "metadata": {},
   "outputs": [
    {
     "data": {
      "text/plain": [
       "'Total Number of accepted and submitted variants in CIViC: 3845'"
      ]
     },
     "execution_count": 7,
     "metadata": {},
     "output_type": "execute_result"
    }
   ],
   "source": [
    "acc_sub_variants = civicpy.get_all_variants(include_status=[\"accepted\", \"submitted\"])\n",
    "len_acc_sub_variants = len(acc_sub_variants)\n",
    "f\"Total Number of accepted and submitted variants in CIViC: {len_acc_sub_variants}\""
   ]
  },
  {
   "attachments": {},
   "cell_type": "markdown",
   "metadata": {},
   "source": [
    "Did not attempt to normalize `NotSupportedVariantCategory.TRANSCRIPT_VAR` due to no input query available. These are CIViC genomic variants (\"c.\" in variant name) with no genomic HGVS expression or representative coordinates."
   ]
  },
  {
   "attachments": {},
   "cell_type": "markdown",
   "metadata": {},
   "source": [
    "Below are variant names in CIViC that we know that the variation normalizer cannot support."
   ]
  },
  {
   "cell_type": "code",
   "execution_count": 8,
   "metadata": {},
   "outputs": [],
   "source": [
    "not_supported = {\n",
    "    NotSupportedVariantCategory.EXPRESSION: {\n",
    "        \"overexpression\",\n",
    "        \"expression\",\n",
    "        \"underexpression\",\n",
    "        \"serum levels\",\n",
    "        \"transcription levels\",\n",
    "        \"autocrine activation\",\n",
    "        \"tnc-l\",\n",
    "        \"top2a/90\",\n",
    "        \"low ratio of vegf165b/vegftotal\",\n",
    "        \"lgr5fl\",\n",
    "    },\n",
    "    NotSupportedVariantCategory.EPIGENETIC_MODIFICATION: {\n",
    "        \"methylation\",\n",
    "        \"promoter hypermethylation\",\n",
    "        \"promoter methylation\",\n",
    "        \"phosphorylation\",\n",
    "    },\n",
    "    NotSupportedVariantCategory.SEQUENCE_VARS: {\n",
    "        \"frameshift truncation\",\n",
    "        \"frameshift\",\n",
    "        \"frame shift\",\n",
    "        \"fs\",\n",
    "        \"truncating mutation\",\n",
    "        \"1100delc\",\n",
    "        \"deletion (p.k227_t233del)\",\n",
    "        \"y646f, y646n, y646s, y646h, y646c, a682g, a692v\",\n",
    "        \"loss-of-modification\",\n",
    "        \"t17 deletion\",\n",
    "        \"ex19 del l858r\",\n",
    "        \"single nucleotide variant\",\n",
    "    },\n",
    "    NotSupportedVariantCategory.GENE_FUNC: {\n",
    "        \"gain of function\",\n",
    "        \"gain-of-function\",\n",
    "        \"loss of function\",\n",
    "        \"loss-of-function\",\n",
    "        \"activating mutation\",\n",
    "        \"tkd mutation\",\n",
    "        \"inactivation\",\n",
    "        \"null\",\n",
    "        \"viii\",\n",
    "    },\n",
    "    NotSupportedVariantCategory.REARRANGEMENTS: {\n",
    "        \"translocation\",\n",
    "        \"rearrangement\",\n",
    "        \"double ph\",\n",
    "        \"alu insertion\",\n",
    "        \"exon 20 insertion\",\n",
    "        \"internal tandem duplications\",\n",
    "        \"tandem repeat\",\n",
    "        \"itd\",\n",
    "        \"d842_h845deldimh\",\n",
    "        \"k558np\",\n",
    "        \"exon\",\n",
    "    },\n",
    "    NotSupportedVariantCategory.COPY_NUMBER: {\n",
    "        \"copy number\",\n",
    "        \"repeat\",\n",
    "        \"dup\",\n",
    "        \"non-amplification\",\n",
    "        \"gain\",\n",
    "    },\n",
    "    NotSupportedVariantCategory.OTHER: {\n",
    "        \"cytoplasmic mislocalization\",\n",
    "        \"alternative transcript\",\n",
    "        \"rare mutation\",\n",
    "        \"splice\",\n",
    "        \"splicing\",\n",
    "        \"ceacam1-l\",\n",
    "        \"ceacam1-s\",\n",
    "        \"δ\",  # this is really Δ for upper case\n",
    "        \"delta\",\n",
    "        \"beta\",\n",
    "        \"ivs2+1g>a\",\n",
    "        \"ivs20, a-g, -2\",\n",
    "        \"deprecated\",\n",
    "        \"point mutations\",\n",
    "        \"conserved domain mut\",\n",
    "        \"cis double mutants\",\n",
    "        \"gbrcam\",\n",
    "        \"kras4a\",\n",
    "        \"kras4b\",\n",
    "        \"e151int\",\n",
    "        \"delnvtap\",\n",
    "    },\n",
    "    NotSupportedVariantCategory.GENOTYPES_AND_HAPLOTYPES: {\n",
    "        \"diplotypes\",\n",
    "        \"wild type\",\n",
    "        \"wildtype\",\n",
    "        \"p61braf(v600e)\",\n",
    "        \"loss of heterozygosity\",\n",
    "        \"biallelic inactivation\",\n",
    "        \"bi-allelic inactivation\",\n",
    "        \"homozygosity\",\n",
    "        \"loh\",\n",
    "        \"single allele deletion\",\n",
    "    },\n",
    "    NotSupportedVariantCategory.REGION_DEFINED_VAR: {\n",
    "        \"deleterious mutation\",\n",
    "        \"domain mutation\",\n",
    "        \"polymorphism\",\n",
    "        \"non-p-loop mutation\",\n",
    "        \"p-loop mutation\",\n",
    "        \"3' utr mutation\",\n",
    "        \"3-prime utr mutation\",\n",
    "        \"alteration\",\n",
    "        \"promoter mutation\",\n",
    "        \"non-v600\",\n",
    "    },\n",
    "}"
   ]
  },
  {
   "cell_type": "markdown",
   "metadata": {},
   "source": [
    "Create functions to be used later"
   ]
  },
  {
   "cell_type": "code",
   "execution_count": 9,
   "metadata": {},
   "outputs": [],
   "source": [
    "def _total_counts() -> dict:\n",
    "    \"\"\"Return initial total counts for genomic and protein variants\"\"\"\n",
    "    return {\n",
    "        \"protein\": {\"accepted\": 0, \"submitted\": 0, \"count\": 0},\n",
    "        \"genomic\": {\"accepted\": 0, \"submitted\": 0, \"count\": 0},\n",
    "    }\n",
    "\n",
    "\n",
    "def is_accepted_variant(v: civicpy.Variant) -> bool:\n",
    "    \"\"\"Return whether or not a variant (MPs) has at least one EID in an accepted status.\n",
    "\n",
    "    :param v: CIViC variant\n",
    "    :return: `True` if considered accepted variant. `False` otherwise.\n",
    "    \"\"\"\n",
    "    for mp in v.molecular_profiles:\n",
    "        for ev in mp.evidence_items:\n",
    "            if ev.status == \"accepted\":\n",
    "                return True\n",
    "    return False\n",
    "\n",
    "\n",
    "def get_variant_name_and_type(variant: civicpy.Variant) -> Tuple[Optional[str], str]:\n",
    "    \"\"\"Get transformed variant name and type\n",
    "\n",
    "    :param variant: CIViC variant record\n",
    "    :return: Tuple containing variant name to use in variation-normalizer (if found)\n",
    "        and whether or not it's 'protein' or 'genomic' variant\n",
    "    \"\"\"\n",
    "    v_name = None\n",
    "    v_q_type = None\n",
    "\n",
    "    if \"c.\" in variant.name:\n",
    "        # Try getting genomic HGVS expression first\n",
    "        v_name = (\n",
    "            [expr for expr in variant.hgvs_expressions if \"g.\" in expr] or [None]\n",
    "        )[0]\n",
    "\n",
    "        # If there is no genomic HGVS expression, try using gnomad vcf\n",
    "        if not v_name:\n",
    "            chromosome = variant.coordinates.chromosome\n",
    "            pos = variant.coordinates.start\n",
    "            ref = variant.coordinates.reference_bases\n",
    "            alt = variant.coordinates.variant_bases\n",
    "\n",
    "            if all((chromosome, pos, ref, alt)):\n",
    "                v_name = f\"{chromosome}-{pos}-{ref}-{alt}\"\n",
    "\n",
    "        v_q_type = \"genomic\"\n",
    "    else:\n",
    "        v_name = variant.name.strip()\n",
    "        v_q_type = \"protein\"\n",
    "\n",
    "    return v_name, v_q_type\n",
    "\n",
    "\n",
    "def translate_from_genomic(genomic_query: str) -> Dict:\n",
    "    \"\"\"Try using vrs-python translate from using genomic query that failed to normalize\n",
    "\n",
    "    :param genomic_query: Genomic query (hgvs or gnomad VCF)\n",
    "    :return: Response containing vrs_id (if successful) and errors (if unsuccessful)\n",
    "    \"\"\"\n",
    "    resp = {\"vrs_id\": None, \"error\": None}\n",
    "    try:\n",
    "        translate_from_resp = query_handler.vrs_python_tlr.translate_from(\n",
    "            genomic_query, assembly_name=\"GRCh37\"\n",
    "        )\n",
    "    except Exception as e:\n",
    "        resp[\"error\"] = str(e)\n",
    "    else:\n",
    "        resp[\"vrs_id\"] = translate_from_resp.id\n",
    "\n",
    "    return resp\n",
    "\n",
    "\n",
    "def get_not_supported_categories(\n",
    "    v_name: str, variant: civicpy.Variant\n",
    ") -> Set[NotSupportedVariantCategory]:\n",
    "    \"\"\"Get not supported categories for a CIViC variant.\n",
    "\n",
    "    :param v_name: Variant query to provide to the variation-normalizer\n",
    "    :param variant: CIViC variant record\n",
    "    :return: Set of associated NotSupportedVariantCategory for a variant. If supported,\n",
    "        empty set will be returned\n",
    "    \"\"\"\n",
    "    v_name_lower = v_name.lower()\n",
    "    categories = set()\n",
    "\n",
    "    variant_subtype = variant.subtype\n",
    "    if variant_subtype == \"factor_variant\":\n",
    "        if variant.factor.name == \"C19MC\":\n",
    "            categories.add(NotSupportedVariantCategory.REGION_DEFINED_VAR)\n",
    "        else:\n",
    "            categories.add(NotSupportedVariantCategory.GENOME_FEATURES)\n",
    "    elif variant_subtype == \"fusion_variant\":\n",
    "        categories.add(NotSupportedVariantCategory.FUSION)\n",
    "    elif v_name_lower in {\"loss\", \"deletion\"}:\n",
    "        categories.add(NotSupportedVariantCategory.GENE_FUNC)\n",
    "    elif any(\n",
    "        (\n",
    "            v_name_lower in {\"mutation\", \"mutations\", \"snp\"},\n",
    "            hasattr(variant, \"gene\")\n",
    "            and v_name_lower == f\"{variant.gene.name.lower()} mutation\",\n",
    "        )\n",
    "    ):\n",
    "        categories.add(NotSupportedVariantCategory.REGION_DEFINED_VAR)\n",
    "    else:\n",
    "        if v_name_lower.endswith(\"deletion and mutation\"):\n",
    "            v_name_split = v_name.split()\n",
    "            if len(v_name_split) == 4:\n",
    "                if gene_query_handler.normalize(v_name_split[0]).match_type > 0:\n",
    "                    categories.add(NotSupportedVariantCategory.REGION_DEFINED_VAR)\n",
    "\n",
    "        if re.match(r\"intron\\s\\d+\\smutation\", v_name_lower):  # ex: Intron 6 Mutation\n",
    "            categories.add(NotSupportedVariantCategory.REGION_DEFINED_VAR)\n",
    "\n",
    "        if any(\n",
    "            (\n",
    "                \"exon\" in v_name_lower,\n",
    "                re.match(r\"t\\(.*\\)\\(.*\\)\", v_name_lower),  # ex: t(1;3)(p36.3;p25)\n",
    "                re.match(r\".*ins$\", v_name_lower),  # ex: P780INS, L78_Q79ins\n",
    "                re.match(\n",
    "                    r\"\\w+_?\\w+>\\w+\", v_name_lower\n",
    "                ),  # ex: 56_61QKQKVG>R, E746_T751>I, N771>GY\n",
    "                re.match(r\"\\d+kb\\sdeletion\", v_name_lower),  # ex: 10kb Deletion\n",
    "                re.match(\n",
    "                    r\"partial\\sdeletion\\sof\\s\\d+(.\\d+)?\\skb\", v_name_lower\n",
    "                ),  # ex: Partial deletion of 0.7 Kb\n",
    "                re.match(\n",
    "                    r\"\\d+(p|q)\\d+(.\\d+)?-\\d+(.\\d+)?\\s\\d+mb del\", v_name_lower\n",
    "                ),  # ex: 3p26.3-25.3 11Mb del\n",
    "            )\n",
    "        ):\n",
    "            categories.add(NotSupportedVariantCategory.REARRANGEMENTS)\n",
    "\n",
    "        if any(\n",
    "            (\n",
    "                re.match(r\"^rs\\d+\", v_name_lower),  # ex: RS11623866\n",
    "                re.match(r\"class\\s\\d+\\smutation\", v_name_lower),  # ex: Class 3 Mutation\n",
    "            )\n",
    "        ):\n",
    "            categories.add(NotSupportedVariantCategory.OTHER)\n",
    "\n",
    "        if re.match(r\"cd\\d+v?\\d+\", v_name_lower):  # cd44, cd44v6\n",
    "            categories.add(NotSupportedVariantCategory.EXPRESSION)\n",
    "\n",
    "        if any(\n",
    "            (\n",
    "                re.match(r\"\\w+\\d+$\", v_name_lower),  # ex: V600\n",
    "                re.match(r\"\\w+\\d+\\w+\\/\\w+$\", v_name_lower),  # ex: S893A/T\n",
    "                re.match(\n",
    "                    r\"[a-z]+\\d+[a-z]+\\sand\\s[a-z]+\\d+[a-z|*]+\", v_name_lower\n",
    "                ),  # ex: E2014K and E2419K, R849W and R1108*\n",
    "                re.match(r\"[a-z]+\\d+\\s&\\s[a-z]+\\d+\", v_name_lower),  # ex: D835 & I836\n",
    "                re.match(\n",
    "                    r\"[a-z]+\\d+[a-z]+\\sor\\s[a-z]+\\d+[a-z]+\", v_name_lower\n",
    "                ),  # ex: H1047L or H1047R\n",
    "                re.match(r\"\\w+\\d+\\smutations\", v_name_lower),  # ex: E1813 mutations\n",
    "                re.match(\n",
    "                    r\"\\d+\\s\\((c|a|g|t)+-(c|a|g|t)+\\)\", v_name_lower\n",
    "                ),  # ex: 235 (CAG-TAG)\n",
    "                re.match(r\"del\\s\\d+-\\d+\", v_name_lower),  # ex: DEL 485-490\n",
    "            )\n",
    "        ):\n",
    "            categories.add(NotSupportedVariantCategory.SEQUENCE_VARS)\n",
    "\n",
    "        if re.match(\n",
    "            r\"grch3(7|8)\\/hg\\d+\\s\\w+.?\\d*\\(chr\\w+:\\d+-\\d+\\)x\\d+\", v_name_lower\n",
    "        ):  # ex: GRCh37/hg19 11q14.3(chr11:88960991-88961138)x160\n",
    "            categories.add(NotSupportedVariantCategory.COPY_NUMBER)\n",
    "\n",
    "        if re.match(r\"\\w+[^fs]\\*\\d+$\", v_name_lower):  # ex: UGT1A1*28\n",
    "            categories.add(NotSupportedVariantCategory.GENOTYPES_AND_HAPLOTYPES)\n",
    "\n",
    "        if re.match(r\"^\\*02:(?:0[1-3]|06)p$\", v_name_lower):\n",
    "            categories.add(NotSupportedVariantCategory.GENOTYPES_AND_HAPLOTYPES)\n",
    "\n",
    "        for k, v in not_supported.items():\n",
    "            if {x for x in v if x in v_name_lower}:\n",
    "                categories.add(k)\n",
    "\n",
    "    if len(categories) > 1:\n",
    "        # Those with multiple categories will be classified as other\n",
    "        categories = {NotSupportedVariantCategory.OTHER}\n",
    "\n",
    "    return categories"
   ]
  },
  {
   "cell_type": "markdown",
   "metadata": {},
   "source": [
    "Create files"
   ]
  },
  {
   "cell_type": "code",
   "execution_count": 10,
   "metadata": {},
   "outputs": [
    {
     "data": {
      "text/plain": [
       "92"
      ]
     },
     "execution_count": 10,
     "metadata": {},
     "output_type": "execute_result"
    }
   ],
   "source": [
    "# This file contains protein queries (gene + variant_name) we SHOULD be able to\n",
    "# normalize\n",
    "protein_variants_wf = open(\n",
    "    \"should_be_able_to_normalize_protein_variant_queries.tsv\", \"w\"\n",
    ")\n",
    "protein_variants_wr = csv.writer(protein_variants_wf, delimiter=\"\\t\")\n",
    "protein_variants_wr.writerow(\n",
    "    [\n",
    "        \"variant_id\",\n",
    "        \"gene_name\",\n",
    "        \"variant_name\",\n",
    "        \"variant_accepted\",\n",
    "        \"civic_variant_types\",\n",
    "    ]\n",
    ")\n",
    "\n",
    "# This file contains genomic queries (genomic HGVS expressions or gnomad VCF) we SHOULD\n",
    "# be able to normalize\n",
    "genomic_variants_wf = open(\n",
    "    \"should_be_able_to_normalize_genomic_variant_queries.tsv\", \"w\"\n",
    ")\n",
    "genomic_variants_wr = csv.writer(genomic_variants_wf, delimiter=\"\\t\")\n",
    "genomic_variants_wr.writerow(\n",
    "    [\"variant_id\", \"hgvs_g\", \"variant_accepted\", \"civic_variant_types\"]\n",
    ")\n",
    "\n",
    "# This file contains CIViC Variants we do not currently support in Variation Normalizer.\n",
    "# In these cases, we do not even attempt to try to normalize\n",
    "not_supported_wf = open(\"not_supported_variants.tsv\", \"w\")\n",
    "not_supported_wr = csv.writer(not_supported_wf, delimiter=\"\\t\")\n",
    "not_supported_wr.writerow(\n",
    "    [\n",
    "        \"variant_id\",\n",
    "        \"gene_name\",\n",
    "        \"variant_name\",\n",
    "        \"civic_variant_types\",\n",
    "        \"category\",\n",
    "        \"variant_accepted\",\n",
    "    ]\n",
    ")\n",
    "\n",
    "# This file contains CIViC Variant queries that were run through Variation Normalizer,\n",
    "# but failed to normalize.\n",
    "unable_to_normalize_wf = open(\"unable_to_normalize_queries.tsv\", \"w\")\n",
    "unable_to_normalize_wr = csv.writer(unable_to_normalize_wf, delimiter=\"\\t\")\n",
    "unable_to_normalize_wr.writerow(\n",
    "    [\n",
    "        \"variant_id\",\n",
    "        \"query\",\n",
    "        \"query_type\",\n",
    "        \"variant_accepted\",\n",
    "        \"civic_variant_types\",\n",
    "        \"exception_raised\",\n",
    "        \"message\",\n",
    "        \"warnings\",\n",
    "    ]\n",
    ")\n",
    "\n",
    "# This file contains CIViC Variant queries that were run through variation normalizer,\n",
    "# and successfully normalized\n",
    "able_to_normalize_wf = open(\"able_to_normalize_queries.tsv\", \"w\")\n",
    "able_to_normalize_wr = csv.writer(able_to_normalize_wf, delimiter=\"\\t\")\n",
    "able_to_normalize_wr.writerow(\n",
    "    [\n",
    "        \"variant_id\",\n",
    "        \"query\",\n",
    "        \"query_type\",\n",
    "        \"variant_accepted\",\n",
    "        \"civic_variant_types\",\n",
    "        \"vrs_id\",\n",
    "        \"succeeded_endpoint\",\n",
    "    ]\n",
    ")"
   ]
  },
  {
   "cell_type": "markdown",
   "metadata": {},
   "source": [
    "Create variables to store information, such as counts, that will be used later"
   ]
  },
  {
   "cell_type": "code",
   "execution_count": 11,
   "metadata": {},
   "outputs": [],
   "source": [
    "# Category name for variants we do not support: number of variants we found\n",
    "variant_category_counts = {c: 0 for c in NotSupportedVariantCategory.__members__}\n",
    "\n",
    "# Keep track of total counts\n",
    "should_be_able_to_normalize_total = _total_counts()\n",
    "can_normalize_total = _total_counts()\n",
    "unable_to_normalize_total = _total_counts()\n",
    "exception_total = _total_counts()\n",
    "genomic_translate_from_success = 0\n",
    "\n",
    "# Used to find duplicate queries\n",
    "queries_found = dict()"
   ]
  },
  {
   "cell_type": "code",
   "execution_count": 12,
   "metadata": {},
   "outputs": [],
   "source": [
    "for variant in acc_sub_variants:\n",
    "    civic_variant_types = (\n",
    "        \";\".join([v.name for v in variant.variant_types]) or \"Not provided\"\n",
    "    )\n",
    "\n",
    "    # if a variant has at least one EID in an accepted status, it counts towards\n",
    "    # “accepted”, because that indicates review and approval of the variant as part\n",
    "    # of the evidence review\n",
    "    is_accepted = is_accepted_variant(variant)\n",
    "    accepted_key = (\n",
    "        \"accepted\" if is_accepted else \"submitted\"\n",
    "    )  # used in total counts dicts\n",
    "\n",
    "    # Get variant name and type\n",
    "    v_name, v_q_type = get_variant_name_and_type(variant)\n",
    "\n",
    "    try:\n",
    "        gene_name = variant.gene.name.strip()\n",
    "    except AttributeError:\n",
    "        gene_name = None\n",
    "\n",
    "    if not v_name:\n",
    "        variant_category_name = NotSupportedVariantCategory.TRANSCRIPT_VAR\n",
    "        variant_category_counts[variant_category_name.name] += 1\n",
    "        not_supported_wr.writerow(\n",
    "            [\n",
    "                variant.id,\n",
    "                gene_name,\n",
    "                None,\n",
    "                civic_variant_types,\n",
    "                variant_category_name,\n",
    "                is_accepted,\n",
    "            ]\n",
    "        )\n",
    "        continue\n",
    "\n",
    "    # Determine if variant is not supported\n",
    "    not_supported_categories = get_not_supported_categories(v_name, variant)\n",
    "\n",
    "    if len(not_supported_categories) == 1:\n",
    "        variant_category_name = not_supported_categories.pop()\n",
    "        variant_category_counts[variant_category_name.name] += 1\n",
    "        not_supported_wr.writerow(\n",
    "            [\n",
    "                variant.id,\n",
    "                gene_name,\n",
    "                variant.name,\n",
    "                civic_variant_types,\n",
    "                variant_category_name,\n",
    "                is_accepted,\n",
    "            ]\n",
    "        )\n",
    "        continue\n",
    "\n",
    "    # We should support this, so we need to query the variation normalizer\n",
    "    if v_q_type == \"protein\":\n",
    "        q = f\"{gene_name} {v_name}\"\n",
    "        protein_variants_wr.writerow(\n",
    "            [variant.id, gene_name, v_name, is_accepted, civic_variant_types]\n",
    "        )\n",
    "    else:\n",
    "        q = v_name\n",
    "        genomic_variants_wr.writerow([variant.id, q, is_accepted, civic_variant_types])\n",
    "\n",
    "    should_be_able_to_normalize_total[v_q_type][\"count\"] += 1\n",
    "    should_be_able_to_normalize_total[v_q_type][accepted_key] += 1\n",
    "\n",
    "    if q in queries_found:\n",
    "        queries_found[q].append(variant.id)\n",
    "    else:\n",
    "        queries_found[q] = [variant.id]\n",
    "\n",
    "    try:\n",
    "        variation_norm_resp = await query_handler.normalize_handler.normalize(\n",
    "            q, input_assembly=ClinVarAssembly.GRCH37\n",
    "        )\n",
    "        if not variation_norm_resp.variation:\n",
    "            if v_q_type == \"protein\" and len(v_name.split()) == 1:\n",
    "                # Determine if fusion or gene name (which actually aren't supported)\n",
    "                if \"-\" in v_name:\n",
    "                    # could be {gene}-{gene}\n",
    "                    genes = v_name.split(\"-\")\n",
    "                    variant_category_name = NotSupportedVariantCategory.FUSION\n",
    "                else:\n",
    "                    # Just a gene name\n",
    "                    genes = [v_name]\n",
    "                    variant_category_name = NotSupportedVariantCategory.OTHER\n",
    "\n",
    "                is_genes = True\n",
    "                for g in genes:\n",
    "                    if gene_query_handler.normalize(g).match_type == 0:\n",
    "                        # not a gene\n",
    "                        is_genes = False\n",
    "                        break\n",
    "\n",
    "                if is_genes:\n",
    "                    variant_category_counts[variant_category_name.name] += 1\n",
    "                    not_supported_wr.writerow(\n",
    "                        [\n",
    "                            variant.id,\n",
    "                            gene_name,\n",
    "                            variant.name,\n",
    "                            civic_variant_types,\n",
    "                            variant_category_name,\n",
    "                            is_accepted,\n",
    "                        ]\n",
    "                    )\n",
    "                    continue\n",
    "\n",
    "            no_vrs_id = True\n",
    "            warnings = variation_norm_resp.warnings or []\n",
    "\n",
    "            # Try running genomic queries through vrs-python translate from\n",
    "            if v_q_type == \"genomic\":\n",
    "                genomic_resp = translate_from_genomic(q)\n",
    "\n",
    "                if genomic_resp[\"vrs_id\"]:\n",
    "                    genomic_translate_from_success += 1\n",
    "                    no_vrs_id = False\n",
    "                    vrs_id = genomic_resp[\"vrs_id\"]\n",
    "                else:\n",
    "                    warnings.append(genomic_resp[\"error\"])\n",
    "\n",
    "            if no_vrs_id:\n",
    "                unable_to_normalize_wr.writerow(\n",
    "                    [\n",
    "                        variant.id,\n",
    "                        q,\n",
    "                        v_q_type,\n",
    "                        is_accepted,\n",
    "                        civic_variant_types,\n",
    "                        False,\n",
    "                        \"unable to normalize\",\n",
    "                        sorted(warnings),\n",
    "                    ]\n",
    "                )\n",
    "                unable_to_normalize_total[v_q_type][\"count\"] += 1\n",
    "                unable_to_normalize_total[v_q_type][accepted_key] += 1\n",
    "            else:\n",
    "                can_normalize_total[v_q_type][\"count\"] += 1\n",
    "                can_normalize_total[v_q_type][accepted_key] += 1\n",
    "                able_to_normalize_wr.writerow(\n",
    "                    [\n",
    "                        variant.id,\n",
    "                        q,\n",
    "                        v_q_type,\n",
    "                        is_accepted,\n",
    "                        civic_variant_types,\n",
    "                        vrs_id,\n",
    "                        \"translate_from\",\n",
    "                    ]\n",
    "                )\n",
    "        else:\n",
    "            can_normalize_total[v_q_type][\"count\"] += 1\n",
    "            can_normalize_total[v_q_type][accepted_key] += 1\n",
    "            vrs_id = variation_norm_resp.variation.id\n",
    "            able_to_normalize_wr.writerow(\n",
    "                [\n",
    "                    variant.id,\n",
    "                    q,\n",
    "                    v_q_type,\n",
    "                    is_accepted,\n",
    "                    civic_variant_types,\n",
    "                    vrs_id,\n",
    "                    \"normalize\",\n",
    "                ]\n",
    "            )\n",
    "    except Exception as e:\n",
    "        warnings = [str(e)]\n",
    "\n",
    "        # Try running genomic queries through vrs-python translate from\n",
    "        if v_q_type == \"genomic\":\n",
    "            genomic_resp = translate_from_genomic(q)\n",
    "\n",
    "            if genomic_resp[\"vrs_id\"]:\n",
    "                vrs_id = genomic_resp[\"vrs_id\"]\n",
    "            else:\n",
    "                vrs_id = None\n",
    "                warnings.append(genomic_resp[\"error\"])\n",
    "\n",
    "            if vrs_id:\n",
    "                genomic_translate_from_success += 1\n",
    "                can_normalize_total[v_q_type][\"count\"] += 1\n",
    "                can_normalize_total[v_q_type][accepted_key] += 1\n",
    "                able_to_normalize_wr.writerow(\n",
    "                    [\n",
    "                        variant.id,\n",
    "                        q,\n",
    "                        v_q_type,\n",
    "                        is_accepted,\n",
    "                        civic_variant_types,\n",
    "                        vrs_id,\n",
    "                        \"translate_from\",\n",
    "                    ]\n",
    "                )\n",
    "                continue\n",
    "\n",
    "        unable_to_normalize_wr.writerow(\n",
    "            [\n",
    "                variant.id,\n",
    "                q,\n",
    "                v_q_type,\n",
    "                is_accepted,\n",
    "                civic_variant_types,\n",
    "                True,\n",
    "                sorted(warnings),\n",
    "                None,\n",
    "            ]\n",
    "        )\n",
    "        exception_total[v_q_type][\"count\"] += 1\n",
    "        exception_total[v_q_type][accepted_key] += 1"
   ]
  },
  {
   "cell_type": "code",
   "execution_count": 13,
   "metadata": {},
   "outputs": [],
   "source": [
    "# Close all files\n",
    "protein_variants_wf.close()\n",
    "genomic_variants_wf.close()\n",
    "not_supported_wf.close()\n",
    "unable_to_normalize_wf.close()\n",
    "able_to_normalize_wf.close()"
   ]
  },
  {
   "attachments": {},
   "cell_type": "markdown",
   "metadata": {},
   "source": [
    "## Variants we do not support"
   ]
  },
  {
   "cell_type": "code",
   "execution_count": 14,
   "metadata": {},
   "outputs": [],
   "source": [
    "do_not_support_total_sum = sum(variant_category_counts.values())"
   ]
  },
  {
   "attachments": {},
   "cell_type": "markdown",
   "metadata": {},
   "source": [
    "Below are the total number of variants for each category that we do not support"
   ]
  },
  {
   "cell_type": "code",
   "execution_count": 15,
   "metadata": {},
   "outputs": [
    {
     "data": {
      "text/plain": [
       "{'TRANSCRIPT_VAR': 362,\n",
       " 'FUSION': 313,\n",
       " 'EXPRESSION': 293,\n",
       " 'REGION_DEFINED_VAR': 252,\n",
       " 'SEQUENCE_VARS': 130,\n",
       " 'REARRANGEMENTS': 121,\n",
       " 'GENE_FUNC': 111,\n",
       " 'OTHER': 79,\n",
       " 'COPY_NUMBER': 32,\n",
       " 'GENOTYPES_AND_HAPLOTYPES': 22,\n",
       " 'EPIGENETIC_MODIFICATION': 14,\n",
       " 'GENOME_FEATURES': 10}"
      ]
     },
     "execution_count": 15,
     "metadata": {},
     "output_type": "execute_result"
    }
   ],
   "source": [
    "sorted_variant_cat_counts = dict(\n",
    "    sorted(variant_category_counts.items(), key=lambda x: x[1], reverse=True)\n",
    ")\n",
    "sorted_variant_cat_counts"
   ]
  },
  {
   "attachments": {},
   "cell_type": "markdown",
   "metadata": {},
   "source": [
    "Below is the total percentage of variants for each category that we do not support"
   ]
  },
  {
   "cell_type": "code",
   "execution_count": 16,
   "metadata": {},
   "outputs": [
    {
     "data": {
      "text/plain": [
       "{'TRANSCRIPT_VAR': '9.41%',\n",
       " 'FUSION': '8.14%',\n",
       " 'EXPRESSION': '7.62%',\n",
       " 'REGION_DEFINED_VAR': '6.55%',\n",
       " 'SEQUENCE_VARS': '3.38%',\n",
       " 'REARRANGEMENTS': '3.15%',\n",
       " 'GENE_FUNC': '2.89%',\n",
       " 'OTHER': '2.05%',\n",
       " 'COPY_NUMBER': '0.83%',\n",
       " 'GENOTYPES_AND_HAPLOTYPES': '0.57%',\n",
       " 'EPIGENETIC_MODIFICATION': '0.36%',\n",
       " 'GENOME_FEATURES': '0.26%'}"
      ]
     },
     "execution_count": 16,
     "metadata": {},
     "output_type": "execute_result"
    }
   ],
   "source": [
    "{\n",
    "    k: f\"{v / len_acc_sub_variants * 100:.2f}%\"\n",
    "    for k, v in sorted_variant_cat_counts.items()\n",
    "}"
   ]
  },
  {
   "cell_type": "code",
   "execution_count": 17,
   "metadata": {},
   "outputs": [
    {
     "data": {
      "text/plain": [
       "'The Variation Normalizer does not support 45.23% of the total accepted and submitted variants'"
      ]
     },
     "execution_count": 17,
     "metadata": {},
     "output_type": "execute_result"
    }
   ],
   "source": [
    "f\"The Variation Normalizer does not support {do_not_support_total_sum / len_acc_sub_variants * 100:.2f}% of the total accepted and submitted variants\""
   ]
  },
  {
   "cell_type": "code",
   "execution_count": 18,
   "metadata": {},
   "outputs": [
    {
     "data": {
      "text/plain": [
       "'Total number of variants we do not support in the Variation Normalizer: 1739'"
      ]
     },
     "execution_count": 18,
     "metadata": {},
     "output_type": "execute_result"
    }
   ],
   "source": [
    "f\"Total number of variants we do not support in the Variation Normalizer: {do_not_support_total_sum}\""
   ]
  },
  {
   "attachments": {},
   "cell_type": "markdown",
   "metadata": {},
   "source": [
    "## Variants we should be able to normalize"
   ]
  },
  {
   "cell_type": "code",
   "execution_count": 19,
   "metadata": {},
   "outputs": [
    {
     "data": {
      "text/plain": [
       "{'protein': {'accepted': 747, 'submitted': 940, 'count': 1687},\n",
       " 'genomic': {'accepted': 246, 'submitted': 177, 'count': 423}}"
      ]
     },
     "execution_count": 19,
     "metadata": {},
     "output_type": "execute_result"
    }
   ],
   "source": [
    "should_be_able_to_normalize_total"
   ]
  },
  {
   "cell_type": "code",
   "execution_count": 20,
   "metadata": {},
   "outputs": [
    {
     "data": {
      "text/plain": [
       "2110"
      ]
     },
     "execution_count": 20,
     "metadata": {},
     "output_type": "execute_result"
    }
   ],
   "source": [
    "should_be_able_to_normalize_total_sum = (\n",
    "    should_be_able_to_normalize_total[\"protein\"][\"count\"]\n",
    "    + should_be_able_to_normalize_total[\"genomic\"][\"count\"]\n",
    ")\n",
    "should_be_able_to_normalize_total_sum"
   ]
  },
  {
   "cell_type": "code",
   "execution_count": 21,
   "metadata": {},
   "outputs": [
    {
     "data": {
      "text/plain": [
       "'47.06% of these are accepted variants'"
      ]
     },
     "execution_count": 21,
     "metadata": {},
     "output_type": "execute_result"
    }
   ],
   "source": [
    "should_be_able_to_normalize_total_accepted = (\n",
    "    should_be_able_to_normalize_total[\"protein\"][\"accepted\"]\n",
    "    + should_be_able_to_normalize_total[\"genomic\"][\"accepted\"]\n",
    ")\n",
    "f\"{should_be_able_to_normalize_total_accepted / should_be_able_to_normalize_total_sum * 100:.2f}% of these are accepted variants\""
   ]
  },
  {
   "cell_type": "code",
   "execution_count": 22,
   "metadata": {},
   "outputs": [
    {
     "data": {
      "text/plain": [
       "'52.94% of these are submitted variants'"
      ]
     },
     "execution_count": 22,
     "metadata": {},
     "output_type": "execute_result"
    }
   ],
   "source": [
    "should_be_able_to_normalize_total_not_accepted = (\n",
    "    should_be_able_to_normalize_total[\"protein\"][\"submitted\"]\n",
    "    + should_be_able_to_normalize_total[\"genomic\"][\"submitted\"]\n",
    ")\n",
    "f\"{should_be_able_to_normalize_total_not_accepted / should_be_able_to_normalize_total_sum * 100:.2f}% of these are submitted variants\""
   ]
  },
  {
   "cell_type": "code",
   "execution_count": 23,
   "metadata": {},
   "outputs": [
    {
     "data": {
      "text/plain": [
       "'The Variation Normalizer SHOULD be able to normalize 54.88% of the total accepted and submitted variants'"
      ]
     },
     "execution_count": 23,
     "metadata": {},
     "output_type": "execute_result"
    }
   ],
   "source": [
    "f\"The Variation Normalizer SHOULD be able to normalize {should_be_able_to_normalize_total_sum / len_acc_sub_variants * 100:.2f}% of the total accepted and submitted variants\""
   ]
  },
  {
   "attachments": {},
   "cell_type": "markdown",
   "metadata": {},
   "source": [
    "## Variants we were not able to normalize\n",
    "\n",
    "Either due to a bug or an unsupported query type in Variation Normalizer"
   ]
  },
  {
   "cell_type": "code",
   "execution_count": 24,
   "metadata": {},
   "outputs": [
    {
     "data": {
      "text/plain": [
       "{'protein': {'accepted': 15, 'submitted': 76, 'count': 91},\n",
       " 'genomic': {'accepted': 0, 'submitted': 0, 'count': 0}}"
      ]
     },
     "execution_count": 24,
     "metadata": {},
     "output_type": "execute_result"
    }
   ],
   "source": [
    "unable_to_normalize_total"
   ]
  },
  {
   "cell_type": "code",
   "execution_count": 25,
   "metadata": {},
   "outputs": [
    {
     "data": {
      "text/plain": [
       "91"
      ]
     },
     "execution_count": 25,
     "metadata": {},
     "output_type": "execute_result"
    }
   ],
   "source": [
    "unable_to_normalize_total_sum = (\n",
    "    unable_to_normalize_total[\"protein\"][\"count\"]\n",
    "    + unable_to_normalize_total[\"genomic\"][\"count\"]\n",
    ")\n",
    "unable_to_normalize_total_sum"
   ]
  },
  {
   "cell_type": "code",
   "execution_count": 26,
   "metadata": {},
   "outputs": [
    {
     "data": {
      "text/plain": [
       "'16.48% of these are accepted variants'"
      ]
     },
     "execution_count": 26,
     "metadata": {},
     "output_type": "execute_result"
    }
   ],
   "source": [
    "unable_to_normalize_total_accepted = (\n",
    "    unable_to_normalize_total[\"protein\"][\"accepted\"]\n",
    "    + unable_to_normalize_total[\"genomic\"][\"accepted\"]\n",
    ")\n",
    "f\"{unable_to_normalize_total_accepted / unable_to_normalize_total_sum * 100:.2f}% of these are accepted variants\""
   ]
  },
  {
   "cell_type": "code",
   "execution_count": 27,
   "metadata": {},
   "outputs": [
    {
     "data": {
      "text/plain": [
       "'83.52% of these are submitted variants'"
      ]
     },
     "execution_count": 27,
     "metadata": {},
     "output_type": "execute_result"
    }
   ],
   "source": [
    "unable_to_normalize_total_not_accepted = (\n",
    "    unable_to_normalize_total[\"protein\"][\"submitted\"]\n",
    "    + unable_to_normalize_total[\"genomic\"][\"submitted\"]\n",
    ")\n",
    "f\"{unable_to_normalize_total_not_accepted / unable_to_normalize_total_sum * 100:.2f}% of these are submitted variants\""
   ]
  },
  {
   "cell_type": "code",
   "execution_count": 28,
   "metadata": {},
   "outputs": [
    {
     "data": {
      "text/plain": [
       "'The Variation Normalizer was unable to normalize 2.37% of the total accepted and submitted variants'"
      ]
     },
     "execution_count": 28,
     "metadata": {},
     "output_type": "execute_result"
    }
   ],
   "source": [
    "f\"The Variation Normalizer was unable to normalize {unable_to_normalize_total_sum / len_acc_sub_variants * 100:.2f}% of the total accepted and submitted variants\""
   ]
  },
  {
   "attachments": {},
   "cell_type": "markdown",
   "metadata": {},
   "source": [
    "## Breakdown of the variants we weren't able to normalize\n",
    "\n",
    "In this section, we breakdown the reasons on why we weren't able to normalize variants."
   ]
  },
  {
   "cell_type": "code",
   "execution_count": 29,
   "metadata": {},
   "outputs": [],
   "source": [
    "unable_to_tokenize = 0\n",
    "unable_to_find_valid = 0\n",
    "other = 0\n",
    "with open(\"unable_to_normalize_queries.tsv\", \"r\") as f:\n",
    "    reader = csv.reader(f, delimiter=\"\\t\")\n",
    "    next(reader)\n",
    "    for row in reader:\n",
    "        if \"Unable to find valid result\" in row[-1]:\n",
    "            unable_to_find_valid += 1\n",
    "        elif \"Unable to tokenize\" in row[-1]:\n",
    "            unable_to_tokenize += 1\n",
    "        else:\n",
    "            other += 1"
   ]
  },
  {
   "attachments": {},
   "cell_type": "markdown",
   "metadata": {},
   "source": [
    "### Due to not passing validation checks\n",
    "\n",
    "The Variation Normalizer performs validation checks on the input query (such as reference sequence). If these validation checks fail, then the input query will fail to normalize."
   ]
  },
  {
   "cell_type": "code",
   "execution_count": 30,
   "metadata": {},
   "outputs": [
    {
     "data": {
      "text/plain": [
       "'The Variation Normalizer found 0 invalid variants (This is 0.00% of the total accepted and submitted variants).'"
      ]
     },
     "execution_count": 30,
     "metadata": {},
     "output_type": "execute_result"
    }
   ],
   "source": [
    "f\"The Variation Normalizer found {unable_to_find_valid} invalid variants (This is {unable_to_find_valid / len_acc_sub_variants * 100:.2f}% of the total accepted and submitted variants).\""
   ]
  },
  {
   "attachments": {},
   "cell_type": "markdown",
   "metadata": {},
   "source": [
    "### Due to tokenization \n",
    "\n",
    "The Variation Normalizer will tokenize the input query to determine the kind of token. It is limited in the kinds of tokens it accepts, so these tokens are not yet supported in the Variation Normalizer. "
   ]
  },
  {
   "cell_type": "code",
   "execution_count": 31,
   "metadata": {},
   "outputs": [
    {
     "data": {
      "text/plain": [
       "'The Variation Normalizer was unable to tokenize 35 variants (0.91% of the total accepted and submitted variants).'"
      ]
     },
     "execution_count": 31,
     "metadata": {},
     "output_type": "execute_result"
    }
   ],
   "source": [
    "f\"The Variation Normalizer was unable to tokenize {unable_to_tokenize} variants ({unable_to_tokenize / len_acc_sub_variants * 100:.2f}% of the total accepted and submitted variants).\""
   ]
  },
  {
   "cell_type": "code",
   "execution_count": 32,
   "metadata": {},
   "outputs": [
    {
     "data": {
      "text/plain": [
       "'The Variation Normalizer was unable to normalize 56 variants due to other issues (This is 1.46% of the total accepted and submitted variants).'"
      ]
     },
     "execution_count": 32,
     "metadata": {},
     "output_type": "execute_result"
    }
   ],
   "source": [
    "f\"The Variation Normalizer was unable to normalize {other} variants due to other issues (This is {other / len_acc_sub_variants * 100:.2f}% of the total accepted and submitted variants).\""
   ]
  },
  {
   "attachments": {},
   "cell_type": "markdown",
   "metadata": {},
   "source": [
    "## Variant queries that raised an exception during normalization"
   ]
  },
  {
   "cell_type": "code",
   "execution_count": 33,
   "metadata": {},
   "outputs": [
    {
     "data": {
      "text/plain": [
       "{'protein': {'accepted': 0, 'submitted': 0, 'count': 0},\n",
       " 'genomic': {'accepted': 0, 'submitted': 0, 'count': 0}}"
      ]
     },
     "execution_count": 33,
     "metadata": {},
     "output_type": "execute_result"
    }
   ],
   "source": [
    "exception_total"
   ]
  },
  {
   "cell_type": "code",
   "execution_count": 34,
   "metadata": {},
   "outputs": [
    {
     "data": {
      "text/plain": [
       "0"
      ]
     },
     "execution_count": 34,
     "metadata": {},
     "output_type": "execute_result"
    }
   ],
   "source": [
    "exception_total_sum = (\n",
    "    exception_total[\"protein\"][\"count\"] + exception_total[\"genomic\"][\"count\"]\n",
    ")\n",
    "exception_total_sum"
   ]
  },
  {
   "cell_type": "code",
   "execution_count": 35,
   "metadata": {},
   "outputs": [
    {
     "data": {
      "text/plain": [
       "'The Variation Normalizer raised an exception for 0.00% of the total accepted and submitted variants'"
      ]
     },
     "execution_count": 35,
     "metadata": {},
     "output_type": "execute_result"
    }
   ],
   "source": [
    "f\"The Variation Normalizer raised an exception for {exception_total_sum / len_acc_sub_variants * 100:.2f}% of the total accepted and submitted variants\""
   ]
  },
  {
   "attachments": {},
   "cell_type": "markdown",
   "metadata": {},
   "source": [
    "## Variants we were able to normalize"
   ]
  },
  {
   "cell_type": "code",
   "execution_count": 36,
   "metadata": {},
   "outputs": [
    {
     "data": {
      "text/plain": [
       "{'protein': {'accepted': 730, 'submitted': 862, 'count': 1592},\n",
       " 'genomic': {'accepted': 246, 'submitted': 177, 'count': 423}}"
      ]
     },
     "execution_count": 36,
     "metadata": {},
     "output_type": "execute_result"
    }
   ],
   "source": [
    "can_normalize_total"
   ]
  },
  {
   "cell_type": "code",
   "execution_count": 37,
   "metadata": {},
   "outputs": [
    {
     "data": {
      "text/plain": [
       "2015"
      ]
     },
     "execution_count": 37,
     "metadata": {},
     "output_type": "execute_result"
    }
   ],
   "source": [
    "can_normalize_total_sum = (\n",
    "    can_normalize_total[\"protein\"][\"count\"] + can_normalize_total[\"genomic\"][\"count\"]\n",
    ")\n",
    "can_normalize_total_sum"
   ]
  },
  {
   "cell_type": "code",
   "execution_count": 38,
   "metadata": {},
   "outputs": [
    {
     "data": {
      "text/plain": [
       "'48.44% of these are accepted variants'"
      ]
     },
     "execution_count": 38,
     "metadata": {},
     "output_type": "execute_result"
    }
   ],
   "source": [
    "can_normalize_total_accepted = (\n",
    "    can_normalize_total[\"protein\"][\"accepted\"]\n",
    "    + can_normalize_total[\"genomic\"][\"accepted\"]\n",
    ")\n",
    "f\"{can_normalize_total_accepted / can_normalize_total_sum * 100:.2f}% of these are accepted variants\""
   ]
  },
  {
   "cell_type": "code",
   "execution_count": 39,
   "metadata": {},
   "outputs": [
    {
     "data": {
      "text/plain": [
       "'51.56% of these are submitted variants'"
      ]
     },
     "execution_count": 39,
     "metadata": {},
     "output_type": "execute_result"
    }
   ],
   "source": [
    "can_normalize_total_not_accepted = (\n",
    "    can_normalize_total[\"protein\"][\"submitted\"]\n",
    "    + can_normalize_total[\"genomic\"][\"submitted\"]\n",
    ")\n",
    "f\"{can_normalize_total_not_accepted / can_normalize_total_sum * 100:.2f}% of these are submitted variants\""
   ]
  },
  {
   "cell_type": "code",
   "execution_count": 40,
   "metadata": {},
   "outputs": [
    {
     "data": {
      "text/plain": [
       "'The Variation Normalizer successfully normalized 95.50% of the variants we SHOULD be able to normalize'"
      ]
     },
     "execution_count": 40,
     "metadata": {},
     "output_type": "execute_result"
    }
   ],
   "source": [
    "f\"The Variation Normalizer successfully normalized {can_normalize_total_sum / should_be_able_to_normalize_total_sum * 100:.2f}% of the variants we SHOULD be able to normalize\""
   ]
  },
  {
   "cell_type": "code",
   "execution_count": 41,
   "metadata": {},
   "outputs": [
    {
     "data": {
      "text/plain": [
       "'The Variation Normalizer successfully normalized 52.41% of the total accepted and submitted variants'"
      ]
     },
     "execution_count": 41,
     "metadata": {},
     "output_type": "execute_result"
    }
   ],
   "source": [
    "f\"The Variation Normalizer successfully normalized {can_normalize_total_sum / len_acc_sub_variants * 100:.2f}% of the total accepted and submitted variants\""
   ]
  },
  {
   "cell_type": "code",
   "execution_count": 42,
   "metadata": {},
   "outputs": [
    {
     "data": {
      "text/plain": [
       "'The Variation Normalizer was not able to normalize 1 genomic variants (count) but vrs-python translate was. These were included in the able to normalize total.'"
      ]
     },
     "execution_count": 42,
     "metadata": {},
     "output_type": "execute_result"
    }
   ],
   "source": [
    "f\"The Variation Normalizer was not able to normalize {genomic_translate_from_success} genomic variants (count) but vrs-python translate was. These were included in the able to normalize total.\""
   ]
  },
  {
   "attachments": {},
   "cell_type": "markdown",
   "metadata": {},
   "source": [
    "## Duplicate Queries\n",
    "\n",
    "These are duplicate queries found in civic. The values are the associated variant IDs. "
   ]
  },
  {
   "cell_type": "code",
   "execution_count": 43,
   "metadata": {},
   "outputs": [
    {
     "data": {
      "text/plain": [
       "{'ERBB2 A775_G776insYVMA': [2658, 4483],\n",
       " 'KRAS G12V': [147, 425],\n",
       " 'ERBB2 L755P': [1304, 4490],\n",
       " 'BRAF V600D': [11, 3452],\n",
       " 'ERBB2 V842I': [45, 4588]}"
      ]
     },
     "execution_count": 43,
     "metadata": {},
     "output_type": "execute_result"
    }
   ],
   "source": [
    "{k: v for k, v in queries_found.items() if len(v) > 1}"
   ]
  }
 ],
 "metadata": {
  "kernelspec": {
   "display_name": "variation-normalizer-manuscript",
   "language": "python",
   "name": "python3"
  },
  "language_info": {
   "codemirror_mode": {
    "name": "ipython",
    "version": 3
   },
   "file_extension": ".py",
   "mimetype": "text/x-python",
   "name": "python",
   "nbconvert_exporter": "python",
   "pygments_lexer": "ipython3",
   "version": "3.13.5"
  },
  "orig_nbformat": 4
 },
 "nbformat": 4,
 "nbformat_minor": 2
}
