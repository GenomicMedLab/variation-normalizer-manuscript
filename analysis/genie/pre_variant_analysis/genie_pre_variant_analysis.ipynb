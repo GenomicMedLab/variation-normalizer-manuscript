{
 "cells": [
  {
   "cell_type": "markdown",
   "metadata": {},
   "source": [
    "# <a id='toc1_'></a>[GENIE Pre Variant Analysis](#toc0_)\n",
    "\n",
    "This data uses `data_mutations_extended.txt` from Synapse. You will need to create an account to download data from [here](https://www.synapse.org/Synapse:syn68719440). This notebook expects the `data_mutations_extended.txt` to be in the same directory.\n",
    "\n",
    "This notebook is used to run GENIE variant data through the variation-normalizer."
   ]
  },
  {
   "cell_type": "markdown",
   "metadata": {},
   "source": [
    "**Table of contents**<a id='toc0_'></a>    \n",
    "- [GENIE Pre Variant Analysis](#toc1_)    \n",
    "  - [Create dataframe](#toc1_1_)    \n",
    "  - [Try using /normalize](#toc1_2_)    \n",
    "\n",
    "<!-- vscode-jupyter-toc-config\n",
    "\tnumbering=false\n",
    "\tanchor=true\n",
    "\tflat=false\n",
    "\tminLevel=1\n",
    "\tmaxLevel=6\n",
    "\t/vscode-jupyter-toc-config -->\n",
    "<!-- THIS CELL WILL BE REPLACED ON TOC UPDATE. DO NOT WRITE YOUR TEXT IN THIS CELL -->"
   ]
  },
  {
   "cell_type": "code",
   "execution_count": 1,
   "metadata": {},
   "outputs": [
    {
     "data": {
      "text/plain": [
       "True"
      ]
     },
     "execution_count": 1,
     "metadata": {},
     "output_type": "execute_result"
    }
   ],
   "source": [
    "# Load environment variables. This MUST be the first cell.\n",
    "from dotenv import load_dotenv\n",
    "\n",
    "load_dotenv(\"../../../.env.shared\")"
   ]
  },
  {
   "cell_type": "code",
   "execution_count": 2,
   "metadata": {},
   "outputs": [
    {
     "name": "stderr",
     "output_type": "stream",
     "text": [
      "/Users/rsjxa001/variation-normalizer-manuscript/.venv/lib/python3.13/site-packages/hgvs/__init__.py:60: UserWarning: pkg_resources is deprecated as an API. See https://setuptools.pypa.io/en/latest/pkg_resources.html. The pkg_resources package is slated for removal as early as 2025-11-30. Refrain from using this package or pin to Setuptools<81.\n",
      "  import pkg_resources\n"
     ]
    }
   ],
   "source": [
    "import logging\n",
    "import csv\n",
    "from pathlib import Path\n",
    "\n",
    "import numpy as np\n",
    "import pandas as pd\n",
    "from dotenv import load_dotenv\n",
    "from variation.query import QueryHandler\n",
    "from variation.schemas.service_schema import ClinVarAssembly\n",
    "from tqdm import tqdm\n",
    "\n",
    "\n",
    "log_filename = \"genie-pre-variant-analysis.log\"\n",
    "logging.basicConfig(\n",
    "    filename=log_filename,\n",
    "    format=\"[%(asctime)s] - %(name)s - %(levelname)s : %(message)s\",\n",
    ")"
   ]
  },
  {
   "cell_type": "code",
   "execution_count": 3,
   "metadata": {},
   "outputs": [],
   "source": [
    "# Download cool-seq-tool files. This must be done before initializing QueryHandler\n",
    "import os\n",
    "import sys\n",
    "\n",
    "module_path = os.path.abspath(os.path.join(\"../../..\"))\n",
    "if module_path not in sys.path:\n",
    "    sys.path.append(module_path)\n",
    "from analysis.download_cool_seq_tool_files import download_cool_seq_tool_files  # noqa: E402\n",
    "\n",
    "download_cool_seq_tool_files(is_docker_env=False)"
   ]
  },
  {
   "attachments": {},
   "cell_type": "markdown",
   "metadata": {},
   "source": [
    "## <a id='toc1_1_'></a>[Create dataframe](#toc0_)"
   ]
  },
  {
   "cell_type": "code",
   "execution_count": 4,
   "metadata": {},
   "outputs": [],
   "source": [
    "# Create output directory\n",
    "path = Path(\"variation_normalizer_output\")\n",
    "path.mkdir(exist_ok=True)"
   ]
  },
  {
   "cell_type": "code",
   "execution_count": 5,
   "metadata": {},
   "outputs": [
    {
     "name": "stderr",
     "output_type": "stream",
     "text": [
      "/var/folders/_d/tfjn_dfn6wl35y6ywjvyxlhh0000gq/T/ipykernel_81508/2987082493.py:2: DtypeWarning: Columns (4) have mixed types. Specify dtype option on import or set low_memory=False.\n",
      "  genie_variants_df = pd.read_csv(\n"
     ]
    },
    {
     "data": {
      "text/plain": [
       "(2738934, 12)"
      ]
     },
     "execution_count": 5,
     "metadata": {},
     "output_type": "execute_result"
    }
   ],
   "source": [
    "# Get GENIE Variant data\n",
    "genie_variants_df = pd.read_csv(\n",
    "    \"data_mutations_extended.txt\",\n",
    "    sep=\"\\t\",\n",
    "    usecols=[\n",
    "        \"Hugo_Symbol\",\n",
    "        \"NCBI_Build\",\n",
    "        \"Chromosome\",\n",
    "        \"Start_Position\",\n",
    "        \"End_Position\",\n",
    "        \"Tumor_Sample_Barcode\",\n",
    "        \"Reference_Allele\",\n",
    "        \"Tumor_Seq_Allele2\",\n",
    "        \"HGVSp_Short\",\n",
    "        \"dbSNP_RS\",\n",
    "    ],\n",
    ")\n",
    "# Some positions are '-', we drop nan below\n",
    "genie_variants_df = genie_variants_df.replace({\"-\": np.nan})\n",
    "\n",
    "# Create free text (hgvs like) query for protein representation: f\"{gene}: \"{p_change}\"\n",
    "genie_variants_df[\"free_text_p_short\"] = np.where(\n",
    "    ~genie_variants_df[\"Hugo_Symbol\"].isna() & ~genie_variants_df[\"HGVSp_Short\"].isna(),\n",
    "    genie_variants_df[\"Hugo_Symbol\"] + \" \" + genie_variants_df[\"HGVSp_Short\"],\n",
    "    np.nan,\n",
    ")\n",
    "\n",
    "# Create gnomad vcf like query for genomic representation: f\"{chromosome}-{pos}-{ref}-{alt}\"\n",
    "genie_variants_df[\"coordinates\"] = np.where(\n",
    "    ~genie_variants_df[\"Chromosome\"].isna()\n",
    "    & ~genie_variants_df[\"Start_Position\"].isna()\n",
    "    & ~genie_variants_df[\"End_Position\"].isna()\n",
    "    & ~genie_variants_df[\"Reference_Allele\"].isna()\n",
    "    & ~genie_variants_df[\"Tumor_Seq_Allele2\"].isna()\n",
    "    & ~genie_variants_df[\"NCBI_Build\"].isna(),\n",
    "    genie_variants_df[\"Chromosome\"].astype(str)\n",
    "    + \"-\"\n",
    "    + genie_variants_df[\"Start_Position\"].astype(str)\n",
    "    + \"-\"\n",
    "    + genie_variants_df[\"Reference_Allele\"]\n",
    "    + \"-\"\n",
    "    + genie_variants_df[\"Tumor_Seq_Allele2\"],\n",
    "    np.nan,\n",
    ")\n",
    "\n",
    "# Create genie df csv\n",
    "genie_variants_df.to_csv(\n",
    "    \"variation_normalizer_output/genie_variants_df.tsv\", sep=\"\\t\", index=False\n",
    ")\n",
    "\n",
    "genie_variants_df.shape"
   ]
  },
  {
   "cell_type": "markdown",
   "metadata": {},
   "source": [
    "Protein (free text)"
   ]
  },
  {
   "cell_type": "code",
   "execution_count": 6,
   "metadata": {},
   "outputs": [
    {
     "data": {
      "text/plain": [
       "(2686363, 12)"
      ]
     },
     "execution_count": 6,
     "metadata": {},
     "output_type": "execute_result"
    }
   ],
   "source": [
    "# Remove na values\n",
    "free_text_df = genie_variants_df.copy()\n",
    "free_text_df = free_text_df[free_text_df[\"free_text_p_short\"].notna()]\n",
    "free_text_df.shape"
   ]
  },
  {
   "cell_type": "code",
   "execution_count": 7,
   "metadata": {},
   "outputs": [
    {
     "data": {
      "text/plain": [
       "(954230, 12)"
      ]
     },
     "execution_count": 7,
     "metadata": {},
     "output_type": "execute_result"
    }
   ],
   "source": [
    "# Drop duplicates\n",
    "free_text_df = free_text_df.drop_duplicates(subset=[\"free_text_p_short\"])\n",
    "free_text_df.shape"
   ]
  },
  {
   "cell_type": "code",
   "execution_count": 8,
   "metadata": {},
   "outputs": [],
   "source": [
    "# Create free text df csv (if we need to debug)\n",
    "free_text_df.to_csv(\n",
    "    \"variation_normalizer_output/free_text_df.tsv\", sep=\"\\t\", index=False\n",
    ")"
   ]
  },
  {
   "cell_type": "code",
   "execution_count": 9,
   "metadata": {},
   "outputs": [],
   "source": [
    "# Create list of possible protein free text queries\n",
    "free_text_queries = [v for v in free_text_df[\"free_text_p_short\"].values]"
   ]
  },
  {
   "cell_type": "markdown",
   "metadata": {},
   "source": [
    "Genomic (coordinates)"
   ]
  },
  {
   "cell_type": "code",
   "execution_count": 10,
   "metadata": {},
   "outputs": [
    {
     "data": {
      "text/plain": [
       "(2397877, 12)"
      ]
     },
     "execution_count": 10,
     "metadata": {},
     "output_type": "execute_result"
    }
   ],
   "source": [
    "# Remove na values\n",
    "coordinates_df = genie_variants_df.copy()\n",
    "coordinates_df = coordinates_df[coordinates_df[\"coordinates\"].notna()]\n",
    "coordinates_df.shape"
   ]
  },
  {
   "cell_type": "code",
   "execution_count": 11,
   "metadata": {},
   "outputs": [
    {
     "data": {
      "text/plain": [
       "(963850, 12)"
      ]
     },
     "execution_count": 11,
     "metadata": {},
     "output_type": "execute_result"
    }
   ],
   "source": [
    "# Drop duplicates\n",
    "coordinates_df = coordinates_df.drop_duplicates(subset=[\"coordinates\"])\n",
    "coordinates_df.shape"
   ]
  },
  {
   "cell_type": "code",
   "execution_count": 12,
   "metadata": {},
   "outputs": [],
   "source": [
    "# Create coordinates df csv (if we need to debug)\n",
    "coordinates_df.to_csv(\n",
    "    \"variation_normalizer_output/coordinates_df.tsv\", sep=\"\\t\", index=False\n",
    ")"
   ]
  },
  {
   "cell_type": "code",
   "execution_count": 13,
   "metadata": {},
   "outputs": [],
   "source": [
    "# Create list of possible genomic gnomad vcf queries\n",
    "coordinates_queries = [v for v in coordinates_df[\"coordinates\"].values]"
   ]
  },
  {
   "attachments": {},
   "cell_type": "markdown",
   "metadata": {},
   "source": [
    "## <a id='toc1_2_'></a>[Try using /normalize](#toc0_)\n",
    "\n",
    "In this section, we will run the queries through the variation normalizer."
   ]
  },
  {
   "cell_type": "code",
   "execution_count": 14,
   "metadata": {},
   "outputs": [
    {
     "name": "stdout",
     "output_type": "stream",
     "text": [
      "***Using Gene Database Endpoint: http://localhost:8000***\n"
     ]
    }
   ],
   "source": [
    "query_handler = QueryHandler()"
   ]
  },
  {
   "cell_type": "code",
   "execution_count": 15,
   "metadata": {},
   "outputs": [],
   "source": [
    "def translate_from_genomic(genomic_query: str) -> dict:\n",
    "    \"\"\"Try using vrs-python translate from using genomic query that failed to normalize\"\"\"\n",
    "    resp = {\"vrs_id\": None, \"error\": None}\n",
    "    try:\n",
    "        translate_from_resp = query_handler.vrs_python_tlr.translate_from(\n",
    "            genomic_query, assembly_name=\"GRCh37\"\n",
    "        )\n",
    "    except Exception as e:\n",
    "        resp[\"error\"] = str(e)\n",
    "    else:\n",
    "        resp[\"vrs_id\"] = translate_from_resp.id\n",
    "\n",
    "    return resp"
   ]
  },
  {
   "cell_type": "code",
   "execution_count": 16,
   "metadata": {},
   "outputs": [],
   "source": [
    "async def normalize_genie(queries: list[str], query_type: str):\n",
    "    # This file contains GENIE Variant queries that we were not able to normalize.\n",
    "    unable_to_normalize_wf = open(\n",
    "        f\"variation_normalizer_output/unable_to_normalize_{query_type}_queries.tsv\", \"w\"\n",
    "    )\n",
    "    unable_to_normalize_wr = csv.writer(unable_to_normalize_wf, delimiter=\"\\t\")\n",
    "    unable_to_normalize_wr.writerow(\n",
    "        [\"query\", \"exception_raised\", \"message\", \"warnings\"]\n",
    "    )\n",
    "\n",
    "    # This file contains GENIE Variant queries that we were able to normalize.\n",
    "    able_to_normalize_wf = open(\n",
    "        f\"variation_normalizer_output/able_to_normalize_{query_type}_queries.tsv\", \"w\"\n",
    "    )\n",
    "    able_to_normalize_wr = csv.writer(able_to_normalize_wf, delimiter=\"\\t\")\n",
    "    able_to_normalize_wr.writerow([\"query\", \"vrs_id\", \"succeeded_endpoint\"])\n",
    "\n",
    "    for query in tqdm(queries):\n",
    "        try:\n",
    "            variation_norm_resp = await query_handler.normalize_handler.normalize(\n",
    "                query, input_assembly=ClinVarAssembly.GRCH37\n",
    "            )\n",
    "        except Exception as e:\n",
    "            warnings = [str(e)]\n",
    "\n",
    "            # If genomic, try not lifting over to see if we can normalizer\n",
    "            if query_type == \"genomic\":\n",
    "                genomic_resp = translate_from_genomic(query)\n",
    "\n",
    "                if genomic_resp[\"vrs_id\"]:\n",
    "                    vrs_id = genomic_resp[\"vrs_id\"]\n",
    "                else:\n",
    "                    vrs_id = None\n",
    "                    warnings.append(genomic_resp[\"error\"])\n",
    "\n",
    "                if vrs_id:\n",
    "                    able_to_normalize_wr.writerow([query, vrs_id, \"translate_from\"])\n",
    "                    continue\n",
    "\n",
    "            unable_to_normalize_wr.writerow([query, True, str(e), None])\n",
    "        else:\n",
    "            if variation_norm_resp.variation:\n",
    "                vrs_id = variation_norm_resp.variation.id\n",
    "                able_to_normalize_wr.writerow([query, vrs_id, \"normalize\"])\n",
    "            else:\n",
    "                warnings = sorted(variation_norm_resp.warnings)\n",
    "\n",
    "                # If genomic, try not lifting over to see if we can normalizer\n",
    "                if query_type == \"genomic\":\n",
    "                    genomic_resp = translate_from_genomic(query)\n",
    "\n",
    "                    if genomic_resp[\"vrs_id\"]:\n",
    "                        vrs_id = genomic_resp[\"vrs_id\"]\n",
    "                    else:\n",
    "                        vrs_id = None\n",
    "                        warnings.append(genomic_resp[\"error\"])\n",
    "\n",
    "                    if vrs_id:\n",
    "                        able_to_normalize_wr.writerow([query, vrs_id, \"translate_from\"])\n",
    "                        continue\n",
    "\n",
    "                unable_to_normalize_wr.writerow(\n",
    "                    [query, False, \"unable to normalize\", warnings]\n",
    "                )\n",
    "\n",
    "    # Close all files\n",
    "    unable_to_normalize_wf.close()\n",
    "    able_to_normalize_wf.close()"
   ]
  },
  {
   "cell_type": "code",
   "execution_count": 17,
   "metadata": {},
   "outputs": [
    {
     "name": "stderr",
     "output_type": "stream",
     "text": [
      "100%|██████████| 954230/954230 [60:04:47<00:00,  4.41it/s]     \n"
     ]
    }
   ],
   "source": [
    "await normalize_genie(free_text_queries, \"protein\")"
   ]
  },
  {
   "cell_type": "code",
   "execution_count": 18,
   "metadata": {},
   "outputs": [
    {
     "name": "stderr",
     "output_type": "stream",
     "text": [
      "100%|██████████| 963850/963850 [10:17:52<00:00, 26.00it/s]  \n"
     ]
    }
   ],
   "source": [
    "await normalize_genie(coordinates_queries, \"genomic\")"
   ]
  },
  {
   "cell_type": "code",
   "execution_count": null,
   "metadata": {},
   "outputs": [],
   "source": []
  }
 ],
 "metadata": {
  "kernelspec": {
   "display_name": "variation-normalizer-manuscript",
   "language": "python",
   "name": "python3"
  },
  "language_info": {
   "codemirror_mode": {
    "name": "ipython",
    "version": 3
   },
   "file_extension": ".py",
   "mimetype": "text/x-python",
   "name": "python",
   "nbconvert_exporter": "python",
   "pygments_lexer": "ipython3",
   "version": "3.13.5"
  },
  "orig_nbformat": 4
 },
 "nbformat": 4,
 "nbformat_minor": 2
}
