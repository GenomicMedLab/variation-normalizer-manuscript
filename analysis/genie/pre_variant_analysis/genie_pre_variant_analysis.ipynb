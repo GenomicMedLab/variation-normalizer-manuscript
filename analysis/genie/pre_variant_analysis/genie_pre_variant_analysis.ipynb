{
 "cells": [
  {
   "attachments": {},
   "cell_type": "markdown",
   "metadata": {},
   "source": [
    "# GENIE Pre Variant Analysis\n",
    "\n",
    "This data uses `data_mutations_extended.txt` from Synapse. You will need to create an account to download data from [here](https://www.synapse.org/Synapse:syn68719440). This notebook expects the `data_mutations_extended.txt` to be in the same directory.\n",
    "\n",
    "This notebook is used to run GENIE variant data through the variation-normalizer."
   ]
  },
  {
   "cell_type": "code",
   "execution_count": null,
   "metadata": {},
   "outputs": [],
   "source": [
    "# Load environment variables. This MUST be the first cell.\n",
    "from dotenv import load_dotenv\n",
    "\n",
    "load_dotenv(\"../../../.env.shared\")"
   ]
  },
  {
   "cell_type": "code",
   "execution_count": 1,
   "metadata": {},
   "outputs": [
    {
     "name": "stderr",
     "output_type": "stream",
     "text": [
      "/Users/rsjxa001/variation-normalizer-manuscript/.venv/lib/python3.13/site-packages/hgvs/__init__.py:60: UserWarning: pkg_resources is deprecated as an API. See https://setuptools.pypa.io/en/latest/pkg_resources.html. The pkg_resources package is slated for removal as early as 2025-11-30. Refrain from using this package or pin to Setuptools<81.\n",
      "  import pkg_resources\n"
     ]
    }
   ],
   "source": [
    "import logging\n",
    "import csv\n",
    "from pathlib import Path\n",
    "\n",
    "import numpy as np\n",
    "import pandas as pd\n",
    "from dotenv import load_dotenv\n",
    "from variation.query import QueryHandler\n",
    "from variation.schemas.service_schema import ClinVarAssembly\n",
    "from tqdm import tqdm\n",
    "\n",
    "\n",
    "log_filename = \"genie-pre-variant-analysis.log\"\n",
    "logging.basicConfig(\n",
    "    filename=log_filename,\n",
    "    format=\"[%(asctime)s] - %(name)s - %(levelname)s : %(message)s\",\n",
    ")"
   ]
  },
  {
   "cell_type": "code",
   "execution_count": null,
   "metadata": {},
   "outputs": [],
   "source": [
    "# Download cool-seq-tool files. This must be done before initializing QueryHandler\n",
    "from download_cool_seq_tool_files import download_cool_seq_tool_files\n",
    "download_cool_seq_tool_files(is_docker_env=False)"
   ]
  },
  {
   "attachments": {},
   "cell_type": "markdown",
   "metadata": {},
   "source": [
    "## Create dataframe"
   ]
  },
  {
   "cell_type": "code",
   "execution_count": 2,
   "metadata": {},
   "outputs": [],
   "source": [
    "# Create output directory\n",
    "path = Path(\"variation_normalizer_output\")\n",
    "path.mkdir(exist_ok=True)"
   ]
  },
  {
   "cell_type": "code",
   "execution_count": 3,
   "metadata": {},
   "outputs": [
    {
     "name": "stderr",
     "output_type": "stream",
     "text": [
      "/var/folders/_d/tfjn_dfn6wl35y6ywjvyxlhh0000gq/T/ipykernel_16640/2987082493.py:2: DtypeWarning: Columns (4) have mixed types. Specify dtype option on import or set low_memory=False.\n",
      "  genie_variants_df = pd.read_csv(\n"
     ]
    },
    {
     "data": {
      "text/plain": [
       "(2738934, 12)"
      ]
     },
     "execution_count": 3,
     "metadata": {},
     "output_type": "execute_result"
    }
   ],
   "source": [
    "# Get GENIE Variant data\n",
    "genie_variants_df = pd.read_csv(\n",
    "    \"data_mutations_extended.txt\",\n",
    "    sep=\"\\t\",\n",
    "    usecols=[\n",
    "        \"Hugo_Symbol\",\n",
    "        \"NCBI_Build\",\n",
    "        \"Chromosome\",\n",
    "        \"Start_Position\",\n",
    "        \"End_Position\",\n",
    "        \"Tumor_Sample_Barcode\",\n",
    "        \"Reference_Allele\",\n",
    "        \"Tumor_Seq_Allele2\",\n",
    "        \"HGVSp_Short\",\n",
    "        \"dbSNP_RS\",\n",
    "    ],\n",
    ")\n",
    "# Some positions are '-', we drop nan below\n",
    "genie_variants_df = genie_variants_df.replace({\"-\": np.nan})\n",
    "\n",
    "# Create free text (hgvs like) query for protein representation: f\"{gene}: \"{p_change}\"\n",
    "genie_variants_df[\"free_text_p_short\"] = np.where(\n",
    "    ~genie_variants_df[\"Hugo_Symbol\"].isna() & ~genie_variants_df[\"HGVSp_Short\"].isna(),\n",
    "    genie_variants_df[\"Hugo_Symbol\"] + \" \" + genie_variants_df[\"HGVSp_Short\"],\n",
    "    np.nan,\n",
    ")\n",
    "\n",
    "# Create gnomad vcf like query for genomic representation: f\"{chromosome}-{pos}-{ref}-{alt}\"\n",
    "genie_variants_df[\"coordinates\"] = np.where(\n",
    "    ~genie_variants_df[\"Chromosome\"].isna()\n",
    "    & ~genie_variants_df[\"Start_Position\"].isna()\n",
    "    & ~genie_variants_df[\"End_Position\"].isna()\n",
    "    & ~genie_variants_df[\"Reference_Allele\"].isna()\n",
    "    & ~genie_variants_df[\"Tumor_Seq_Allele2\"].isna()\n",
    "    & ~genie_variants_df[\"NCBI_Build\"].isna(),\n",
    "    genie_variants_df[\"Chromosome\"].astype(str)\n",
    "    + \"-\"\n",
    "    + genie_variants_df[\"Start_Position\"].astype(str)\n",
    "    + \"-\"\n",
    "    + genie_variants_df[\"Reference_Allele\"]\n",
    "    + \"-\"\n",
    "    + genie_variants_df[\"Tumor_Seq_Allele2\"],\n",
    "    np.nan,\n",
    ")\n",
    "\n",
    "# Create genie df csv\n",
    "genie_variants_df.to_csv(\n",
    "    \"variation_normalizer_output/genie_variants_df.tsv\", sep=\"\\t\", index=False\n",
    ")\n",
    "\n",
    "genie_variants_df.shape"
   ]
  },
  {
   "cell_type": "markdown",
   "metadata": {},
   "source": [
    "Protein (free text)"
   ]
  },
  {
   "cell_type": "code",
   "execution_count": 4,
   "metadata": {},
   "outputs": [
    {
     "data": {
      "text/plain": [
       "(2686363, 12)"
      ]
     },
     "execution_count": 4,
     "metadata": {},
     "output_type": "execute_result"
    }
   ],
   "source": [
    "# Remove na values\n",
    "free_text_df = genie_variants_df.copy()\n",
    "free_text_df = free_text_df[free_text_df[\"free_text_p_short\"].notna()]\n",
    "free_text_df.shape"
   ]
  },
  {
   "cell_type": "code",
   "execution_count": 5,
   "metadata": {},
   "outputs": [
    {
     "data": {
      "text/plain": [
       "(954230, 12)"
      ]
     },
     "execution_count": 5,
     "metadata": {},
     "output_type": "execute_result"
    }
   ],
   "source": [
    "# Drop duplicates\n",
    "free_text_df = free_text_df.drop_duplicates(subset=[\"free_text_p_short\"])\n",
    "free_text_df.shape"
   ]
  },
  {
   "cell_type": "code",
   "execution_count": 6,
   "metadata": {},
   "outputs": [],
   "source": [
    "# Create free text df csv (if we need to debug)\n",
    "free_text_df.to_csv(\n",
    "    \"variation_normalizer_output/free_text_df.tsv\", sep=\"\\t\", index=False\n",
    ")"
   ]
  },
  {
   "cell_type": "code",
   "execution_count": 7,
   "metadata": {},
   "outputs": [],
   "source": [
    "# Create list of possible protein free text queries\n",
    "free_text_queries = [v for v in free_text_df[\"free_text_p_short\"].values]"
   ]
  },
  {
   "cell_type": "markdown",
   "metadata": {},
   "source": [
    "Genomic (coordinates)"
   ]
  },
  {
   "cell_type": "code",
   "execution_count": 8,
   "metadata": {},
   "outputs": [
    {
     "data": {
      "text/plain": [
       "(2397877, 12)"
      ]
     },
     "execution_count": 8,
     "metadata": {},
     "output_type": "execute_result"
    }
   ],
   "source": [
    "# Remove na values\n",
    "coordinates_df = genie_variants_df.copy()\n",
    "coordinates_df = coordinates_df[coordinates_df[\"coordinates\"].notna()]\n",
    "coordinates_df.shape"
   ]
  },
  {
   "cell_type": "code",
   "execution_count": 9,
   "metadata": {},
   "outputs": [
    {
     "data": {
      "text/plain": [
       "(963850, 12)"
      ]
     },
     "execution_count": 9,
     "metadata": {},
     "output_type": "execute_result"
    }
   ],
   "source": [
    "# Drop duplicates\n",
    "coordinates_df = coordinates_df.drop_duplicates(subset=[\"coordinates\"])\n",
    "coordinates_df.shape"
   ]
  },
  {
   "cell_type": "code",
   "execution_count": 10,
   "metadata": {},
   "outputs": [],
   "source": [
    "# Create coordinates df csv (if we need to debug)\n",
    "coordinates_df.to_csv(\n",
    "    \"variation_normalizer_output/coordinates_df.tsv\", sep=\"\\t\", index=False\n",
    ")"
   ]
  },
  {
   "cell_type": "code",
   "execution_count": 11,
   "metadata": {},
   "outputs": [],
   "source": [
    "# Create list of possible genomic gnomad vcf queries\n",
    "coordinates_queries = [v for v in coordinates_df[\"coordinates\"].values]"
   ]
  },
  {
   "attachments": {},
   "cell_type": "markdown",
   "metadata": {},
   "source": [
    "## Try using /normalize\n",
    "\n",
    "In this section, we will run the queries through the variation normalizer."
   ]
  },
  {
   "cell_type": "code",
   "execution_count": 12,
   "metadata": {},
   "outputs": [
    {
     "data": {
      "text/plain": [
       "True"
      ]
     },
     "execution_count": 12,
     "metadata": {},
     "output_type": "execute_result"
    }
   ],
   "source": [
    "# Environment variables are set for gene-normalizer dynamodb instance and\n",
    "# UTA DB credentials\n",
    "load_dotenv(\".env.shared\")"
   ]
  },
  {
   "cell_type": "code",
   "execution_count": 13,
   "metadata": {},
   "outputs": [
    {
     "name": "stdout",
     "output_type": "stream",
     "text": [
      "***Using Gene Database Endpoint: http://localhost:8000***\n"
     ]
    }
   ],
   "source": [
    "query_handler = QueryHandler()"
   ]
  },
  {
   "cell_type": "code",
   "execution_count": 14,
   "metadata": {},
   "outputs": [],
   "source": [
    "def translate_from_genomic(genomic_query: str) -> dict:\n",
    "    \"\"\"Try using vrs-python translate from using genomic query that failed to normalize\"\"\"\n",
    "    resp = {\"vrs_id\": None, \"error\": None}\n",
    "    try:\n",
    "        translate_from_resp = query_handler.vrs_python_tlr.translate_from(\n",
    "            genomic_query, assembly_name=\"GRCh37\"\n",
    "        )\n",
    "    except Exception as e:\n",
    "        resp[\"error\"] = str(e)\n",
    "    else:\n",
    "        resp[\"vrs_id\"] = translate_from_resp.id\n",
    "\n",
    "    return resp"
   ]
  },
  {
   "cell_type": "code",
   "execution_count": 15,
   "metadata": {},
   "outputs": [],
   "source": [
    "async def normalize_genie(queries: list[str], query_type: str):\n",
    "    # This file contains GENIE Variant queries that we were not able to normalize.\n",
    "    unable_to_normalize_wf = open(\n",
    "        f\"variation_normalizer_output/unable_to_normalize_{query_type}_queries.tsv\", \"w\"\n",
    "    )\n",
    "    unable_to_normalize_wr = csv.writer(unable_to_normalize_wf, delimiter=\"\\t\")\n",
    "    unable_to_normalize_wr.writerow(\n",
    "        [\"query\", \"exception_raised\", \"message\", \"warnings\"]\n",
    "    )\n",
    "\n",
    "    # This file contains GENIE Variant queries that we were able to normalize.\n",
    "    able_to_normalize_wf = open(\n",
    "        f\"variation_normalizer_output/able_to_normalize_{query_type}_queries.tsv\", \"w\"\n",
    "    )\n",
    "    able_to_normalize_wr = csv.writer(able_to_normalize_wf, delimiter=\"\\t\")\n",
    "    able_to_normalize_wr.writerow([\"query\", \"vrs_id\", \"succeeded_endpoint\"])\n",
    "\n",
    "    for query in tqdm(queries):\n",
    "        try:\n",
    "            variation_norm_resp = await query_handler.normalize_handler.normalize(\n",
    "                query, input_assembly=ClinVarAssembly.GRCH37\n",
    "            )\n",
    "        except Exception as e:\n",
    "            warnings = [str(e)]\n",
    "\n",
    "            # If genomic, try not lifting over to see if we can normalizer\n",
    "            if query_type == \"genomic\":\n",
    "                genomic_resp = translate_from_genomic(query)\n",
    "\n",
    "                if genomic_resp[\"vrs_id\"]:\n",
    "                    vrs_id = genomic_resp[\"vrs_id\"]\n",
    "                else:\n",
    "                    vrs_id = None\n",
    "                    warnings.append(genomic_resp[\"error\"])\n",
    "\n",
    "                if vrs_id:\n",
    "                    able_to_normalize_wr.writerow([query, vrs_id, \"translate_from\"])\n",
    "                    continue\n",
    "\n",
    "            unable_to_normalize_wr.writerow([query, True, str(e), None])\n",
    "        else:\n",
    "            if variation_norm_resp.variation:\n",
    "                vrs_id = variation_norm_resp.variation.id\n",
    "                able_to_normalize_wr.writerow([query, vrs_id, \"normalize\"])\n",
    "            else:\n",
    "                warnings = sorted(variation_norm_resp.warnings)\n",
    "\n",
    "                # If genomic, try not lifting over to see if we can normalizer\n",
    "                if query_type == \"genomic\":\n",
    "                    genomic_resp = translate_from_genomic(query)\n",
    "\n",
    "                    if genomic_resp[\"vrs_id\"]:\n",
    "                        vrs_id = genomic_resp[\"vrs_id\"]\n",
    "                    else:\n",
    "                        vrs_id = None\n",
    "                        warnings.append(genomic_resp[\"error\"])\n",
    "\n",
    "                    if vrs_id:\n",
    "                        able_to_normalize_wr.writerow([query, vrs_id, \"translate_from\"])\n",
    "                        continue\n",
    "\n",
    "                unable_to_normalize_wr.writerow(\n",
    "                    [query, False, \"unable to normalize\", warnings]\n",
    "                )\n",
    "\n",
    "    # Close all files\n",
    "    unable_to_normalize_wf.close()\n",
    "    able_to_normalize_wf.close()"
   ]
  },
  {
   "cell_type": "code",
   "execution_count": 16,
   "metadata": {},
   "outputs": [
    {
     "name": "stderr",
     "output_type": "stream",
     "text": [
      "  0%|          | 223/954230 [01:56<138:46:19,  1.91it/s]\n"
     ]
    },
    {
     "ename": "CancelledError",
     "evalue": "",
     "output_type": "error",
     "traceback": [
      "\u001b[0;31m---------------------------------------------------------------------------\u001b[0m",
      "\u001b[0;31mCancelledError\u001b[0m                            Traceback (most recent call last)",
      "Cell \u001b[0;32mIn[16], line 1\u001b[0m\n\u001b[0;32m----> 1\u001b[0m \u001b[38;5;28;01mawait\u001b[39;00m normalize_genie(free_text_queries, \u001b[38;5;124m\"\u001b[39m\u001b[38;5;124mprotein\u001b[39m\u001b[38;5;124m\"\u001b[39m)\n",
      "Cell \u001b[0;32mIn[15], line 20\u001b[0m, in \u001b[0;36mnormalize_genie\u001b[0;34m(queries, query_type)\u001b[0m\n\u001b[1;32m     18\u001b[0m \u001b[38;5;28;01mfor\u001b[39;00m query \u001b[38;5;129;01min\u001b[39;00m tqdm(queries):\n\u001b[1;32m     19\u001b[0m     \u001b[38;5;28;01mtry\u001b[39;00m:\n\u001b[0;32m---> 20\u001b[0m         variation_norm_resp \u001b[38;5;241m=\u001b[39m \u001b[38;5;28;01mawait\u001b[39;00m query_handler\u001b[38;5;241m.\u001b[39mnormalize_handler\u001b[38;5;241m.\u001b[39mnormalize(\n\u001b[1;32m     21\u001b[0m             query, input_assembly\u001b[38;5;241m=\u001b[39mClinVarAssembly\u001b[38;5;241m.\u001b[39mGRCH37\n\u001b[1;32m     22\u001b[0m         )\n\u001b[1;32m     23\u001b[0m     \u001b[38;5;28;01mexcept\u001b[39;00m \u001b[38;5;167;01mException\u001b[39;00m \u001b[38;5;28;01mas\u001b[39;00m e:\n\u001b[1;32m     24\u001b[0m         warnings \u001b[38;5;241m=\u001b[39m [\u001b[38;5;28mstr\u001b[39m(e)]\n",
      "File \u001b[0;32m~/variation-normalizer-manuscript/.venv/lib/python3.13/site-packages/variation/normalize.py:249\u001b[0m, in \u001b[0;36mNormalize.normalize\u001b[0;34m(self, q, hgvs_dup_del_mode, input_assembly, baseline_copies, copy_change)\u001b[0m\n\u001b[1;32m    246\u001b[0m variation \u001b[38;5;241m=\u001b[39m \u001b[38;5;28;01mNone\u001b[39;00m\n\u001b[1;32m    247\u001b[0m \u001b[38;5;28;01mif\u001b[39;00m validation_summary\u001b[38;5;241m.\u001b[39mvalid_results:\n\u001b[1;32m    248\u001b[0m     \u001b[38;5;66;03m# Get translated VRS representations for valid results\u001b[39;00m\n\u001b[0;32m--> 249\u001b[0m     translations, warnings \u001b[38;5;241m=\u001b[39m \u001b[38;5;28;01mawait\u001b[39;00m \u001b[38;5;28mself\u001b[39m\u001b[38;5;241m.\u001b[39mget_translations(\n\u001b[1;32m    250\u001b[0m         validation_summary\u001b[38;5;241m.\u001b[39mvalid_results,\n\u001b[1;32m    251\u001b[0m         warnings,\n\u001b[1;32m    252\u001b[0m         endpoint_name\u001b[38;5;241m=\u001b[39mEndpoint\u001b[38;5;241m.\u001b[39mNORMALIZE,\n\u001b[1;32m    253\u001b[0m         hgvs_dup_del_mode\u001b[38;5;241m=\u001b[39mhgvs_dup_del_mode,\n\u001b[1;32m    254\u001b[0m         baseline_copies\u001b[38;5;241m=\u001b[39mbaseline_copies,\n\u001b[1;32m    255\u001b[0m         copy_change\u001b[38;5;241m=\u001b[39mcopy_change,\n\u001b[1;32m    256\u001b[0m         do_liftover\u001b[38;5;241m=\u001b[39m\u001b[38;5;28;01mTrue\u001b[39;00m,\n\u001b[1;32m    257\u001b[0m     )\n\u001b[1;32m    258\u001b[0m     \u001b[38;5;28;01mif\u001b[39;00m translations:\n\u001b[1;32m    259\u001b[0m         \u001b[38;5;66;03m# Get prioritized translation result so that output is always the same\u001b[39;00m\n\u001b[1;32m    260\u001b[0m         \u001b[38;5;28;01mfor\u001b[39;00m ac_status \u001b[38;5;129;01min\u001b[39;00m AC_PRIORITY_LABELS:\n",
      "File \u001b[0;32m~/variation-normalizer-manuscript/.venv/lib/python3.13/site-packages/variation/to_vrs.py:75\u001b[0m, in \u001b[0;36mToVRS.get_translations\u001b[0;34m(self, valid_results, warnings, endpoint_name, hgvs_dup_del_mode, baseline_copies, copy_change, do_liftover)\u001b[0m\n\u001b[1;32m     73\u001b[0m translations \u001b[38;5;241m=\u001b[39m []\n\u001b[1;32m     74\u001b[0m \u001b[38;5;28;01mfor\u001b[39;00m valid_result \u001b[38;5;129;01min\u001b[39;00m valid_results:\n\u001b[0;32m---> 75\u001b[0m     tr \u001b[38;5;241m=\u001b[39m \u001b[38;5;28;01mawait\u001b[39;00m \u001b[38;5;28mself\u001b[39m\u001b[38;5;241m.\u001b[39mtranslator\u001b[38;5;241m.\u001b[39mperform(\n\u001b[1;32m     76\u001b[0m         valid_result,\n\u001b[1;32m     77\u001b[0m         warnings,\n\u001b[1;32m     78\u001b[0m         endpoint_name\u001b[38;5;241m=\u001b[39mendpoint_name,\n\u001b[1;32m     79\u001b[0m         hgvs_dup_del_mode\u001b[38;5;241m=\u001b[39mhgvs_dup_del_mode,\n\u001b[1;32m     80\u001b[0m         baseline_copies\u001b[38;5;241m=\u001b[39mbaseline_copies,\n\u001b[1;32m     81\u001b[0m         copy_change\u001b[38;5;241m=\u001b[39mcopy_change,\n\u001b[1;32m     82\u001b[0m         do_liftover\u001b[38;5;241m=\u001b[39mdo_liftover,\n\u001b[1;32m     83\u001b[0m     )\n\u001b[1;32m     84\u001b[0m     \u001b[38;5;28;01mif\u001b[39;00m tr \u001b[38;5;129;01mand\u001b[39;00m tr \u001b[38;5;129;01mnot\u001b[39;00m \u001b[38;5;129;01min\u001b[39;00m translations:\n\u001b[1;32m     85\u001b[0m         translations\u001b[38;5;241m.\u001b[39mappend(tr)\n",
      "File \u001b[0;32m~/variation-normalizer-manuscript/.venv/lib/python3.13/site-packages/variation/translate.py:112\u001b[0m, in \u001b[0;36mTranslate.perform\u001b[0;34m(self, validation_result, warnings, endpoint_name, hgvs_dup_del_mode, baseline_copies, copy_change, do_liftover)\u001b[0m\n\u001b[1;32m    108\u001b[0m \u001b[38;5;28;01mfor\u001b[39;00m translator \u001b[38;5;129;01min\u001b[39;00m \u001b[38;5;28mself\u001b[39m\u001b[38;5;241m.\u001b[39mtranslators:\n\u001b[1;32m    109\u001b[0m     \u001b[38;5;28;01mif\u001b[39;00m translator\u001b[38;5;241m.\u001b[39mcan_translate(\n\u001b[1;32m    110\u001b[0m         validation_result\u001b[38;5;241m.\u001b[39mclassification\u001b[38;5;241m.\u001b[39mclassification_type\n\u001b[1;32m    111\u001b[0m     ):\n\u001b[0;32m--> 112\u001b[0m         result \u001b[38;5;241m=\u001b[39m \u001b[38;5;28;01mawait\u001b[39;00m translator\u001b[38;5;241m.\u001b[39mtranslate(\n\u001b[1;32m    113\u001b[0m             validation_result,\n\u001b[1;32m    114\u001b[0m             warnings,\n\u001b[1;32m    115\u001b[0m             endpoint_name\u001b[38;5;241m=\u001b[39mendpoint_name,\n\u001b[1;32m    116\u001b[0m             hgvs_dup_del_mode\u001b[38;5;241m=\u001b[39mhgvs_dup_del_mode,\n\u001b[1;32m    117\u001b[0m             baseline_copies\u001b[38;5;241m=\u001b[39mbaseline_copies,\n\u001b[1;32m    118\u001b[0m             copy_change\u001b[38;5;241m=\u001b[39mcopy_change,\n\u001b[1;32m    119\u001b[0m             do_liftover\u001b[38;5;241m=\u001b[39mdo_liftover,\n\u001b[1;32m    120\u001b[0m         )\n\u001b[1;32m    121\u001b[0m         translation_result \u001b[38;5;241m=\u001b[39m result\n\u001b[1;32m    122\u001b[0m         \u001b[38;5;28;01mbreak\u001b[39;00m\n",
      "File \u001b[0;32m~/variation-normalizer-manuscript/.venv/lib/python3.13/site-packages/variation/translators/protein_substitution.py:57\u001b[0m, in \u001b[0;36mProteinSubstitution.translate\u001b[0;34m(self, validation_result, warnings, endpoint_name, hgvs_dup_del_mode, baseline_copies, copy_change, do_liftover)\u001b[0m\n\u001b[1;32m     52\u001b[0m \u001b[38;5;66;03m# First will translate valid result to VRS Allele\u001b[39;00m\n\u001b[1;32m     53\u001b[0m classification: ProteinSubstitutionClassification \u001b[38;5;241m=\u001b[39m (\n\u001b[1;32m     54\u001b[0m     validation_result\u001b[38;5;241m.\u001b[39mclassification\n\u001b[1;32m     55\u001b[0m )\n\u001b[0;32m---> 57\u001b[0m \u001b[38;5;28;01mreturn\u001b[39;00m \u001b[38;5;28;01mawait\u001b[39;00m \u001b[38;5;28mself\u001b[39m\u001b[38;5;241m.\u001b[39mget_p_or_cdna_translation_result(\n\u001b[1;32m     58\u001b[0m     endpoint_name,\n\u001b[1;32m     59\u001b[0m     validation_result,\n\u001b[1;32m     60\u001b[0m     classification\u001b[38;5;241m.\u001b[39mpos,\n\u001b[1;32m     61\u001b[0m     classification\u001b[38;5;241m.\u001b[39mpos,\n\u001b[1;32m     62\u001b[0m     AltType\u001b[38;5;241m.\u001b[39mSUBSTITUTION,\n\u001b[1;32m     63\u001b[0m     AnnotationLayer\u001b[38;5;241m.\u001b[39mPROTEIN,\n\u001b[1;32m     64\u001b[0m     warnings,\n\u001b[1;32m     65\u001b[0m     ref\u001b[38;5;241m=\u001b[39mclassification\u001b[38;5;241m.\u001b[39mref,\n\u001b[1;32m     66\u001b[0m     alt\u001b[38;5;241m=\u001b[39mclassification\u001b[38;5;241m.\u001b[39malt,\n\u001b[1;32m     67\u001b[0m )\n",
      "File \u001b[0;32m~/variation-normalizer-manuscript/.venv/lib/python3.13/site-packages/variation/translators/translator.py:200\u001b[0m, in \u001b[0;36mTranslator.get_p_or_cdna_translation_result\u001b[0;34m(self, endpoint_name, validation_result, start_pos, end_pos, alt_type, coordinate_type, errors, cds_start, ref, alt)\u001b[0m\n\u001b[1;32m    197\u001b[0m vrs_seq_loc_ac_status \u001b[38;5;241m=\u001b[39m VrsSeqLocAcStatus\u001b[38;5;241m.\u001b[39mNA\n\u001b[1;32m    199\u001b[0m \u001b[38;5;28;01mif\u001b[39;00m endpoint_name \u001b[38;5;241m==\u001b[39m Endpoint\u001b[38;5;241m.\u001b[39mNORMALIZE:\n\u001b[0;32m--> 200\u001b[0m     mane \u001b[38;5;241m=\u001b[39m \u001b[38;5;28;01mawait\u001b[39;00m \u001b[38;5;28mself\u001b[39m\u001b[38;5;241m.\u001b[39mmane_transcript\u001b[38;5;241m.\u001b[39mget_mane_transcript(\n\u001b[1;32m    201\u001b[0m         validation_result\u001b[38;5;241m.\u001b[39maccession,\n\u001b[1;32m    202\u001b[0m         start_pos,\n\u001b[1;32m    203\u001b[0m         end_pos \u001b[38;5;28;01mif\u001b[39;00m end_pos \u001b[38;5;129;01mis\u001b[39;00m \u001b[38;5;129;01mnot\u001b[39;00m \u001b[38;5;28;01mNone\u001b[39;00m \u001b[38;5;28;01melse\u001b[39;00m start_pos,\n\u001b[1;32m    204\u001b[0m         coordinate_type,\n\u001b[1;32m    205\u001b[0m         try_longest_compatible\u001b[38;5;241m=\u001b[39m\u001b[38;5;28;01mTrue\u001b[39;00m,\n\u001b[1;32m    206\u001b[0m         coordinate_type\u001b[38;5;241m=\u001b[39mCoordinateType\u001b[38;5;241m.\u001b[39mRESIDUE,\n\u001b[1;32m    207\u001b[0m         ref\u001b[38;5;241m=\u001b[39mref,\n\u001b[1;32m    208\u001b[0m     )\n\u001b[1;32m    210\u001b[0m     \u001b[38;5;28;01mif\u001b[39;00m mane:\n\u001b[1;32m    211\u001b[0m         vrs_seq_loc_ac \u001b[38;5;241m=\u001b[39m mane\u001b[38;5;241m.\u001b[39mrefseq\n",
      "File \u001b[0;32m~/variation-normalizer-manuscript/.venv/lib/python3.13/site-packages/cool_seq_tool/mappers/mane_transcript.py:1091\u001b[0m, in \u001b[0;36mManeTranscript.get_mane_transcript\u001b[0;34m(self, ac, start_pos, end_pos, start_annotation_layer, gene, ref, try_longest_compatible, coordinate_type)\u001b[0m\n\u001b[1;32m   1089\u001b[0m \u001b[38;5;28;01mif\u001b[39;00m try_longest_compatible:\n\u001b[1;32m   1090\u001b[0m     \u001b[38;5;28;01mif\u001b[39;00m start_annotation_layer \u001b[38;5;241m==\u001b[39m AnnotationLayer\u001b[38;5;241m.\u001b[39mPROTEIN:\n\u001b[0;32m-> 1091\u001b[0m         \u001b[38;5;28;01mreturn\u001b[39;00m \u001b[38;5;28;01mawait\u001b[39;00m \u001b[38;5;28mself\u001b[39m\u001b[38;5;241m.\u001b[39mget_longest_compatible_transcript(\n\u001b[1;32m   1092\u001b[0m             start_pos,\n\u001b[1;32m   1093\u001b[0m             end_pos,\n\u001b[1;32m   1094\u001b[0m             AnnotationLayer\u001b[38;5;241m.\u001b[39mPROTEIN,\n\u001b[1;32m   1095\u001b[0m             ref\u001b[38;5;241m=\u001b[39mref,\n\u001b[1;32m   1096\u001b[0m             gene\u001b[38;5;241m=\u001b[39mg\u001b[38;5;241m.\u001b[39mgene,\n\u001b[1;32m   1097\u001b[0m             coordinate_type\u001b[38;5;241m=\u001b[39mcoordinate_type,\n\u001b[1;32m   1098\u001b[0m             mane_transcripts\u001b[38;5;241m=\u001b[39mmane_transcripts,\n\u001b[1;32m   1099\u001b[0m         )\n\u001b[1;32m   1100\u001b[0m     \u001b[38;5;28;01mreturn\u001b[39;00m \u001b[38;5;28;01mawait\u001b[39;00m \u001b[38;5;28mself\u001b[39m\u001b[38;5;241m.\u001b[39mget_longest_compatible_transcript(\n\u001b[1;32m   1101\u001b[0m         c_pos[\u001b[38;5;241m0\u001b[39m],\n\u001b[1;32m   1102\u001b[0m         c_pos[\u001b[38;5;241m1\u001b[39m],\n\u001b[0;32m   (...)\u001b[0m\n\u001b[1;32m   1107\u001b[0m         mane_transcripts\u001b[38;5;241m=\u001b[39mmane_transcripts,\n\u001b[1;32m   1108\u001b[0m     )\n\u001b[1;32m   1109\u001b[0m \u001b[38;5;28;01mreturn\u001b[39;00m \u001b[38;5;28;01mNone\u001b[39;00m\n",
      "File \u001b[0;32m~/variation-normalizer-manuscript/.venv/lib/python3.13/site-packages/cool_seq_tool/mappers/mane_transcript.py:787\u001b[0m, in \u001b[0;36mManeTranscript.get_longest_compatible_transcript\u001b[0;34m(self, start_pos, end_pos, start_annotation_layer, gene, ref, coordinate_type, mane_transcripts, alt_ac, end_annotation_layer)\u001b[0m\n\u001b[1;32m    785\u001b[0m \u001b[38;5;66;03m# Data Frame that contains transcripts associated to a gene\u001b[39;00m\n\u001b[1;32m    786\u001b[0m \u001b[38;5;28;01mif\u001b[39;00m is_p_or_c_start_anno:\n\u001b[0;32m--> 787\u001b[0m     df \u001b[38;5;241m=\u001b[39m \u001b[38;5;28;01mawait\u001b[39;00m \u001b[38;5;28mself\u001b[39m\u001b[38;5;241m.\u001b[39muta_db\u001b[38;5;241m.\u001b[39mget_transcripts(\n\u001b[1;32m    788\u001b[0m         c_start_pos, c_end_pos, gene\u001b[38;5;241m=\u001b[39mgene, use_tx_pos\u001b[38;5;241m=\u001b[39m\u001b[38;5;28;01mTrue\u001b[39;00m, alt_ac\u001b[38;5;241m=\u001b[39malt_ac\n\u001b[1;32m    789\u001b[0m     )\n\u001b[1;32m    790\u001b[0m \u001b[38;5;28;01melse\u001b[39;00m:\n\u001b[1;32m    791\u001b[0m     df \u001b[38;5;241m=\u001b[39m \u001b[38;5;28;01mawait\u001b[39;00m \u001b[38;5;28mself\u001b[39m\u001b[38;5;241m.\u001b[39muta_db\u001b[38;5;241m.\u001b[39mget_transcripts(\n\u001b[1;32m    792\u001b[0m         start_pos, end_pos, gene\u001b[38;5;241m=\u001b[39mgene, use_tx_pos\u001b[38;5;241m=\u001b[39m\u001b[38;5;28;01mFalse\u001b[39;00m, alt_ac\u001b[38;5;241m=\u001b[39malt_ac\n\u001b[1;32m    793\u001b[0m     )\n",
      "File \u001b[0;32m~/variation-normalizer-manuscript/.venv/lib/python3.13/site-packages/cool_seq_tool/sources/uta_database.py:820\u001b[0m, in \u001b[0;36mUtaDatabase.get_transcripts\u001b[0;34m(self, start_pos, end_pos, gene, use_tx_pos, alt_ac)\u001b[0m\n\u001b[1;32m    807\u001b[0m gene_cond \u001b[38;5;241m=\u001b[39m \u001b[38;5;124mf\u001b[39m\u001b[38;5;124m\"\u001b[39m\u001b[38;5;124mAND T.hgnc = \u001b[39m\u001b[38;5;124m'\u001b[39m\u001b[38;5;132;01m{\u001b[39;00mgene\u001b[38;5;132;01m}\u001b[39;00m\u001b[38;5;124m'\u001b[39m\u001b[38;5;124m\"\u001b[39m \u001b[38;5;28;01mif\u001b[39;00m gene \u001b[38;5;28;01melse\u001b[39;00m \u001b[38;5;124m\"\u001b[39m\u001b[38;5;124m\"\u001b[39m\n\u001b[1;32m    809\u001b[0m query \u001b[38;5;241m=\u001b[39m \u001b[38;5;124mf\u001b[39m\u001b[38;5;124m\"\"\"\u001b[39m\n\u001b[1;32m    810\u001b[0m \u001b[38;5;124m    SELECT AA.pro_ac, AA.tx_ac, ALIGN.alt_ac, T.cds_start_i\u001b[39m\n\u001b[1;32m    811\u001b[0m \u001b[38;5;124m    FROM \u001b[39m\u001b[38;5;132;01m{\u001b[39;00m\u001b[38;5;28mself\u001b[39m\u001b[38;5;241m.\u001b[39mschema\u001b[38;5;132;01m}\u001b[39;00m\u001b[38;5;124m.associated_accessions as AA\u001b[39m\n\u001b[0;32m   (...)\u001b[0m\n\u001b[1;32m    818\u001b[0m \u001b[38;5;124m    \u001b[39m\u001b[38;5;132;01m{\u001b[39;00morder_by_cond\u001b[38;5;132;01m}\u001b[39;00m\n\u001b[1;32m    819\u001b[0m \u001b[38;5;124m    \u001b[39m\u001b[38;5;124m\"\"\"\u001b[39m  \u001b[38;5;66;03m# noqa: S608\u001b[39;00m\n\u001b[0;32m--> 820\u001b[0m results \u001b[38;5;241m=\u001b[39m \u001b[38;5;28;01mawait\u001b[39;00m \u001b[38;5;28mself\u001b[39m\u001b[38;5;241m.\u001b[39mexecute_query(query)\n\u001b[1;32m    821\u001b[0m results \u001b[38;5;241m=\u001b[39m [\n\u001b[1;32m    822\u001b[0m     (r[\u001b[38;5;124m\"\u001b[39m\u001b[38;5;124mpro_ac\u001b[39m\u001b[38;5;124m\"\u001b[39m], r[\u001b[38;5;124m\"\u001b[39m\u001b[38;5;124mtx_ac\u001b[39m\u001b[38;5;124m\"\u001b[39m], r[\u001b[38;5;124m\"\u001b[39m\u001b[38;5;124malt_ac\u001b[39m\u001b[38;5;124m\"\u001b[39m], r[\u001b[38;5;124m\"\u001b[39m\u001b[38;5;124mcds_start_i\u001b[39m\u001b[38;5;124m\"\u001b[39m]) \u001b[38;5;28;01mfor\u001b[39;00m r \u001b[38;5;129;01min\u001b[39;00m results\n\u001b[1;32m    823\u001b[0m ]\n\u001b[1;32m    824\u001b[0m results_df \u001b[38;5;241m=\u001b[39m pl\u001b[38;5;241m.\u001b[39mDataFrame(results, schema\u001b[38;5;241m=\u001b[39mschema, orient\u001b[38;5;241m=\u001b[39m\u001b[38;5;124m\"\u001b[39m\u001b[38;5;124mrow\u001b[39m\u001b[38;5;124m\"\u001b[39m)\n",
      "File \u001b[0;32m~/variation-normalizer-manuscript/.venv/lib/python3.13/site-packages/cool_seq_tool/sources/uta_database.py:210\u001b[0m, in \u001b[0;36mUtaDatabase.execute_query\u001b[0;34m(self, query)\u001b[0m\n\u001b[1;32m    208\u001b[0m     \u001b[38;5;28;01mawait\u001b[39;00m \u001b[38;5;28mself\u001b[39m\u001b[38;5;241m.\u001b[39mcreate_pool()\n\u001b[1;32m    209\u001b[0m \u001b[38;5;28;01mtry\u001b[39;00m:\n\u001b[0;32m--> 210\u001b[0m     \u001b[38;5;28;01mreturn\u001b[39;00m \u001b[38;5;28;01mawait\u001b[39;00m _execute_query(query)\n\u001b[1;32m    211\u001b[0m \u001b[38;5;28;01mexcept\u001b[39;00m InvalidAuthorizationSpecificationError:\n\u001b[1;32m    212\u001b[0m     \u001b[38;5;28mself\u001b[39m\u001b[38;5;241m.\u001b[39m_connection_pool \u001b[38;5;241m=\u001b[39m \u001b[38;5;28;01mNone\u001b[39;00m\n",
      "File \u001b[0;32m~/variation-normalizer-manuscript/.venv/lib/python3.13/site-packages/cool_seq_tool/sources/uta_database.py:205\u001b[0m, in \u001b[0;36mUtaDatabase.execute_query.<locals>._execute_query\u001b[0;34m(q)\u001b[0m\n\u001b[1;32m    200\u001b[0m \u001b[38;5;28;01masync\u001b[39;00m \u001b[38;5;28;01mdef\u001b[39;00m\u001b[38;5;250m \u001b[39m\u001b[38;5;21m_execute_query\u001b[39m(q: \u001b[38;5;28mstr\u001b[39m) \u001b[38;5;241m-\u001b[39m\u001b[38;5;241m>\u001b[39m Any:  \u001b[38;5;66;03m# noqa: ANN401\u001b[39;00m\n\u001b[1;32m    201\u001b[0m     \u001b[38;5;28;01masync\u001b[39;00m \u001b[38;5;28;01mwith\u001b[39;00m (\n\u001b[1;32m    202\u001b[0m         \u001b[38;5;28mself\u001b[39m\u001b[38;5;241m.\u001b[39m_connection_pool\u001b[38;5;241m.\u001b[39macquire() \u001b[38;5;28;01mas\u001b[39;00m connection,\n\u001b[1;32m    203\u001b[0m         connection\u001b[38;5;241m.\u001b[39mtransaction(),\n\u001b[1;32m    204\u001b[0m     ):\n\u001b[0;32m--> 205\u001b[0m         \u001b[38;5;28;01mreturn\u001b[39;00m \u001b[38;5;28;01mawait\u001b[39;00m connection\u001b[38;5;241m.\u001b[39mfetch(q)\n",
      "File \u001b[0;32m~/variation-normalizer-manuscript/.venv/lib/python3.13/site-packages/asyncpg/connection.py:690\u001b[0m, in \u001b[0;36mConnection.fetch\u001b[0;34m(self, query, timeout, record_class, *args)\u001b[0m\n\u001b[1;32m    669\u001b[0m \u001b[38;5;250m\u001b[39m\u001b[38;5;124;03m\"\"\"Run a query and return the results as a list of :class:`Record`.\u001b[39;00m\n\u001b[1;32m    670\u001b[0m \n\u001b[1;32m    671\u001b[0m \u001b[38;5;124;03m:param str query:\u001b[39;00m\n\u001b[0;32m   (...)\u001b[0m\n\u001b[1;32m    687\u001b[0m \u001b[38;5;124;03m    Added the *record_class* parameter.\u001b[39;00m\n\u001b[1;32m    688\u001b[0m \u001b[38;5;124;03m\"\"\"\u001b[39;00m\n\u001b[1;32m    689\u001b[0m \u001b[38;5;28mself\u001b[39m\u001b[38;5;241m.\u001b[39m_check_open()\n\u001b[0;32m--> 690\u001b[0m \u001b[38;5;28;01mreturn\u001b[39;00m \u001b[38;5;28;01mawait\u001b[39;00m \u001b[38;5;28mself\u001b[39m\u001b[38;5;241m.\u001b[39m_execute(\n\u001b[1;32m    691\u001b[0m     query,\n\u001b[1;32m    692\u001b[0m     args,\n\u001b[1;32m    693\u001b[0m     \u001b[38;5;241m0\u001b[39m,\n\u001b[1;32m    694\u001b[0m     timeout,\n\u001b[1;32m    695\u001b[0m     record_class\u001b[38;5;241m=\u001b[39mrecord_class,\n\u001b[1;32m    696\u001b[0m )\n",
      "File \u001b[0;32m~/variation-normalizer-manuscript/.venv/lib/python3.13/site-packages/asyncpg/connection.py:1864\u001b[0m, in \u001b[0;36mConnection._execute\u001b[0;34m(self, query, args, limit, timeout, return_status, ignore_custom_codec, record_class)\u001b[0m\n\u001b[1;32m   1852\u001b[0m \u001b[38;5;28;01masync\u001b[39;00m \u001b[38;5;28;01mdef\u001b[39;00m\u001b[38;5;250m \u001b[39m\u001b[38;5;21m_execute\u001b[39m(\n\u001b[1;32m   1853\u001b[0m     \u001b[38;5;28mself\u001b[39m,\n\u001b[1;32m   1854\u001b[0m     query,\n\u001b[0;32m   (...)\u001b[0m\n\u001b[1;32m   1861\u001b[0m     record_class\u001b[38;5;241m=\u001b[39m\u001b[38;5;28;01mNone\u001b[39;00m\n\u001b[1;32m   1862\u001b[0m ):\n\u001b[1;32m   1863\u001b[0m     \u001b[38;5;28;01mwith\u001b[39;00m \u001b[38;5;28mself\u001b[39m\u001b[38;5;241m.\u001b[39m_stmt_exclusive_section:\n\u001b[0;32m-> 1864\u001b[0m         result, _ \u001b[38;5;241m=\u001b[39m \u001b[38;5;28;01mawait\u001b[39;00m \u001b[38;5;28mself\u001b[39m\u001b[38;5;241m.\u001b[39m__execute(\n\u001b[1;32m   1865\u001b[0m             query,\n\u001b[1;32m   1866\u001b[0m             args,\n\u001b[1;32m   1867\u001b[0m             limit,\n\u001b[1;32m   1868\u001b[0m             timeout,\n\u001b[1;32m   1869\u001b[0m             return_status\u001b[38;5;241m=\u001b[39mreturn_status,\n\u001b[1;32m   1870\u001b[0m             record_class\u001b[38;5;241m=\u001b[39mrecord_class,\n\u001b[1;32m   1871\u001b[0m             ignore_custom_codec\u001b[38;5;241m=\u001b[39mignore_custom_codec,\n\u001b[1;32m   1872\u001b[0m         )\n\u001b[1;32m   1873\u001b[0m     \u001b[38;5;28;01mreturn\u001b[39;00m result\n",
      "File \u001b[0;32m~/variation-normalizer-manuscript/.venv/lib/python3.13/site-packages/asyncpg/connection.py:1961\u001b[0m, in \u001b[0;36mConnection.__execute\u001b[0;34m(self, query, args, limit, timeout, return_status, ignore_custom_codec, record_class)\u001b[0m\n\u001b[1;32m   1953\u001b[0m         result, stmt \u001b[38;5;241m=\u001b[39m \u001b[38;5;28;01mawait\u001b[39;00m \u001b[38;5;28mself\u001b[39m\u001b[38;5;241m.\u001b[39m_do_execute(\n\u001b[1;32m   1954\u001b[0m             query,\n\u001b[1;32m   1955\u001b[0m             executor,\n\u001b[0;32m   (...)\u001b[0m\n\u001b[1;32m   1958\u001b[0m             ignore_custom_codec\u001b[38;5;241m=\u001b[39mignore_custom_codec,\n\u001b[1;32m   1959\u001b[0m         )\n\u001b[1;32m   1960\u001b[0m \u001b[38;5;28;01melse\u001b[39;00m:\n\u001b[0;32m-> 1961\u001b[0m     result, stmt \u001b[38;5;241m=\u001b[39m \u001b[38;5;28;01mawait\u001b[39;00m \u001b[38;5;28mself\u001b[39m\u001b[38;5;241m.\u001b[39m_do_execute(\n\u001b[1;32m   1962\u001b[0m         query,\n\u001b[1;32m   1963\u001b[0m         executor,\n\u001b[1;32m   1964\u001b[0m         timeout,\n\u001b[1;32m   1965\u001b[0m         record_class\u001b[38;5;241m=\u001b[39mrecord_class,\n\u001b[1;32m   1966\u001b[0m         ignore_custom_codec\u001b[38;5;241m=\u001b[39mignore_custom_codec,\n\u001b[1;32m   1967\u001b[0m     )\n\u001b[1;32m   1968\u001b[0m \u001b[38;5;28;01mreturn\u001b[39;00m result, stmt\n",
      "File \u001b[0;32m~/variation-normalizer-manuscript/.venv/lib/python3.13/site-packages/asyncpg/connection.py:2027\u001b[0m, in \u001b[0;36mConnection._do_execute\u001b[0;34m(self, query, executor, timeout, retry, ignore_custom_codec, record_class)\u001b[0m\n\u001b[1;32m   2025\u001b[0m \u001b[38;5;28;01melse\u001b[39;00m:\n\u001b[1;32m   2026\u001b[0m     \u001b[38;5;28;01mtry\u001b[39;00m:\n\u001b[0;32m-> 2027\u001b[0m         result \u001b[38;5;241m=\u001b[39m \u001b[38;5;28;01mawait\u001b[39;00m executor(stmt, timeout)\n\u001b[1;32m   2028\u001b[0m     \u001b[38;5;28;01mfinally\u001b[39;00m:\n\u001b[1;32m   2029\u001b[0m         after \u001b[38;5;241m=\u001b[39m time\u001b[38;5;241m.\u001b[39mmonotonic()\n",
      "File \u001b[0;32m~/variation-normalizer-manuscript/.venv/lib/python3.13/site-packages/asyncpg/protocol/protocol.pyx:206\u001b[0m, in \u001b[0;36mbind_execute\u001b[0;34m()\u001b[0m\n",
      "\u001b[0;31mCancelledError\u001b[0m: "
     ]
    }
   ],
   "source": [
    "await normalize_genie(free_text_queries, \"protein\")"
   ]
  },
  {
   "cell_type": "code",
   "execution_count": 17,
   "metadata": {},
   "outputs": [
    {
     "name": "stderr",
     "output_type": "stream",
     "text": [
      "  0%|          | 2063/963850 [01:19<10:15:26, 26.05it/s]\n"
     ]
    },
    {
     "ename": "CancelledError",
     "evalue": "",
     "output_type": "error",
     "traceback": [
      "\u001b[0;31m---------------------------------------------------------------------------\u001b[0m",
      "\u001b[0;31mCancelledError\u001b[0m                            Traceback (most recent call last)",
      "Cell \u001b[0;32mIn[17], line 1\u001b[0m\n\u001b[0;32m----> 1\u001b[0m \u001b[38;5;28;01mawait\u001b[39;00m normalize_genie(coordinates_queries, \u001b[38;5;124m\"\u001b[39m\u001b[38;5;124mgenomic\u001b[39m\u001b[38;5;124m\"\u001b[39m)\n",
      "Cell \u001b[0;32mIn[15], line 20\u001b[0m, in \u001b[0;36mnormalize_genie\u001b[0;34m(queries, query_type)\u001b[0m\n\u001b[1;32m     18\u001b[0m \u001b[38;5;28;01mfor\u001b[39;00m query \u001b[38;5;129;01min\u001b[39;00m tqdm(queries):\n\u001b[1;32m     19\u001b[0m     \u001b[38;5;28;01mtry\u001b[39;00m:\n\u001b[0;32m---> 20\u001b[0m         variation_norm_resp \u001b[38;5;241m=\u001b[39m \u001b[38;5;28;01mawait\u001b[39;00m query_handler\u001b[38;5;241m.\u001b[39mnormalize_handler\u001b[38;5;241m.\u001b[39mnormalize(\n\u001b[1;32m     21\u001b[0m             query, input_assembly\u001b[38;5;241m=\u001b[39mClinVarAssembly\u001b[38;5;241m.\u001b[39mGRCH37\n\u001b[1;32m     22\u001b[0m         )\n\u001b[1;32m     23\u001b[0m     \u001b[38;5;28;01mexcept\u001b[39;00m \u001b[38;5;167;01mException\u001b[39;00m \u001b[38;5;28;01mas\u001b[39;00m e:\n\u001b[1;32m     24\u001b[0m         warnings \u001b[38;5;241m=\u001b[39m [\u001b[38;5;28mstr\u001b[39m(e)]\n",
      "File \u001b[0;32m~/variation-normalizer-manuscript/.venv/lib/python3.13/site-packages/variation/normalize.py:249\u001b[0m, in \u001b[0;36mNormalize.normalize\u001b[0;34m(self, q, hgvs_dup_del_mode, input_assembly, baseline_copies, copy_change)\u001b[0m\n\u001b[1;32m    246\u001b[0m variation \u001b[38;5;241m=\u001b[39m \u001b[38;5;28;01mNone\u001b[39;00m\n\u001b[1;32m    247\u001b[0m \u001b[38;5;28;01mif\u001b[39;00m validation_summary\u001b[38;5;241m.\u001b[39mvalid_results:\n\u001b[1;32m    248\u001b[0m     \u001b[38;5;66;03m# Get translated VRS representations for valid results\u001b[39;00m\n\u001b[0;32m--> 249\u001b[0m     translations, warnings \u001b[38;5;241m=\u001b[39m \u001b[38;5;28;01mawait\u001b[39;00m \u001b[38;5;28mself\u001b[39m\u001b[38;5;241m.\u001b[39mget_translations(\n\u001b[1;32m    250\u001b[0m         validation_summary\u001b[38;5;241m.\u001b[39mvalid_results,\n\u001b[1;32m    251\u001b[0m         warnings,\n\u001b[1;32m    252\u001b[0m         endpoint_name\u001b[38;5;241m=\u001b[39mEndpoint\u001b[38;5;241m.\u001b[39mNORMALIZE,\n\u001b[1;32m    253\u001b[0m         hgvs_dup_del_mode\u001b[38;5;241m=\u001b[39mhgvs_dup_del_mode,\n\u001b[1;32m    254\u001b[0m         baseline_copies\u001b[38;5;241m=\u001b[39mbaseline_copies,\n\u001b[1;32m    255\u001b[0m         copy_change\u001b[38;5;241m=\u001b[39mcopy_change,\n\u001b[1;32m    256\u001b[0m         do_liftover\u001b[38;5;241m=\u001b[39m\u001b[38;5;28;01mTrue\u001b[39;00m,\n\u001b[1;32m    257\u001b[0m     )\n\u001b[1;32m    258\u001b[0m     \u001b[38;5;28;01mif\u001b[39;00m translations:\n\u001b[1;32m    259\u001b[0m         \u001b[38;5;66;03m# Get prioritized translation result so that output is always the same\u001b[39;00m\n\u001b[1;32m    260\u001b[0m         \u001b[38;5;28;01mfor\u001b[39;00m ac_status \u001b[38;5;129;01min\u001b[39;00m AC_PRIORITY_LABELS:\n",
      "File \u001b[0;32m~/variation-normalizer-manuscript/.venv/lib/python3.13/site-packages/variation/to_vrs.py:75\u001b[0m, in \u001b[0;36mToVRS.get_translations\u001b[0;34m(self, valid_results, warnings, endpoint_name, hgvs_dup_del_mode, baseline_copies, copy_change, do_liftover)\u001b[0m\n\u001b[1;32m     73\u001b[0m translations \u001b[38;5;241m=\u001b[39m []\n\u001b[1;32m     74\u001b[0m \u001b[38;5;28;01mfor\u001b[39;00m valid_result \u001b[38;5;129;01min\u001b[39;00m valid_results:\n\u001b[0;32m---> 75\u001b[0m     tr \u001b[38;5;241m=\u001b[39m \u001b[38;5;28;01mawait\u001b[39;00m \u001b[38;5;28mself\u001b[39m\u001b[38;5;241m.\u001b[39mtranslator\u001b[38;5;241m.\u001b[39mperform(\n\u001b[1;32m     76\u001b[0m         valid_result,\n\u001b[1;32m     77\u001b[0m         warnings,\n\u001b[1;32m     78\u001b[0m         endpoint_name\u001b[38;5;241m=\u001b[39mendpoint_name,\n\u001b[1;32m     79\u001b[0m         hgvs_dup_del_mode\u001b[38;5;241m=\u001b[39mhgvs_dup_del_mode,\n\u001b[1;32m     80\u001b[0m         baseline_copies\u001b[38;5;241m=\u001b[39mbaseline_copies,\n\u001b[1;32m     81\u001b[0m         copy_change\u001b[38;5;241m=\u001b[39mcopy_change,\n\u001b[1;32m     82\u001b[0m         do_liftover\u001b[38;5;241m=\u001b[39mdo_liftover,\n\u001b[1;32m     83\u001b[0m     )\n\u001b[1;32m     84\u001b[0m     \u001b[38;5;28;01mif\u001b[39;00m tr \u001b[38;5;129;01mand\u001b[39;00m tr \u001b[38;5;129;01mnot\u001b[39;00m \u001b[38;5;129;01min\u001b[39;00m translations:\n\u001b[1;32m     85\u001b[0m         translations\u001b[38;5;241m.\u001b[39mappend(tr)\n",
      "File \u001b[0;32m~/variation-normalizer-manuscript/.venv/lib/python3.13/site-packages/variation/translate.py:112\u001b[0m, in \u001b[0;36mTranslate.perform\u001b[0;34m(self, validation_result, warnings, endpoint_name, hgvs_dup_del_mode, baseline_copies, copy_change, do_liftover)\u001b[0m\n\u001b[1;32m    108\u001b[0m \u001b[38;5;28;01mfor\u001b[39;00m translator \u001b[38;5;129;01min\u001b[39;00m \u001b[38;5;28mself\u001b[39m\u001b[38;5;241m.\u001b[39mtranslators:\n\u001b[1;32m    109\u001b[0m     \u001b[38;5;28;01mif\u001b[39;00m translator\u001b[38;5;241m.\u001b[39mcan_translate(\n\u001b[1;32m    110\u001b[0m         validation_result\u001b[38;5;241m.\u001b[39mclassification\u001b[38;5;241m.\u001b[39mclassification_type\n\u001b[1;32m    111\u001b[0m     ):\n\u001b[0;32m--> 112\u001b[0m         result \u001b[38;5;241m=\u001b[39m \u001b[38;5;28;01mawait\u001b[39;00m translator\u001b[38;5;241m.\u001b[39mtranslate(\n\u001b[1;32m    113\u001b[0m             validation_result,\n\u001b[1;32m    114\u001b[0m             warnings,\n\u001b[1;32m    115\u001b[0m             endpoint_name\u001b[38;5;241m=\u001b[39mendpoint_name,\n\u001b[1;32m    116\u001b[0m             hgvs_dup_del_mode\u001b[38;5;241m=\u001b[39mhgvs_dup_del_mode,\n\u001b[1;32m    117\u001b[0m             baseline_copies\u001b[38;5;241m=\u001b[39mbaseline_copies,\n\u001b[1;32m    118\u001b[0m             copy_change\u001b[38;5;241m=\u001b[39mcopy_change,\n\u001b[1;32m    119\u001b[0m             do_liftover\u001b[38;5;241m=\u001b[39mdo_liftover,\n\u001b[1;32m    120\u001b[0m         )\n\u001b[1;32m    121\u001b[0m         translation_result \u001b[38;5;241m=\u001b[39m result\n\u001b[1;32m    122\u001b[0m         \u001b[38;5;28;01mbreak\u001b[39;00m\n",
      "File \u001b[0;32m~/variation-normalizer-manuscript/.venv/lib/python3.13/site-packages/variation/translators/genomic_substitution.py:70\u001b[0m, in \u001b[0;36mGenomicSubstitution.translate\u001b[0;34m(self, validation_result, warnings, endpoint_name, hgvs_dup_del_mode, baseline_copies, copy_change, do_liftover)\u001b[0m\n\u001b[1;32m     66\u001b[0m \u001b[38;5;28;01mif\u001b[39;00m endpoint_name \u001b[38;5;241m==\u001b[39m Endpoint\u001b[38;5;241m.\u001b[39mNORMALIZE:\n\u001b[1;32m     67\u001b[0m     gene \u001b[38;5;241m=\u001b[39m (\n\u001b[1;32m     68\u001b[0m         classification\u001b[38;5;241m.\u001b[39mgene_token\u001b[38;5;241m.\u001b[39mtoken \u001b[38;5;28;01mif\u001b[39;00m classification\u001b[38;5;241m.\u001b[39mgene_token \u001b[38;5;28;01melse\u001b[39;00m \u001b[38;5;28;01mNone\u001b[39;00m\n\u001b[1;32m     69\u001b[0m     )\n\u001b[0;32m---> 70\u001b[0m     mane \u001b[38;5;241m=\u001b[39m \u001b[38;5;28;01mawait\u001b[39;00m \u001b[38;5;28mself\u001b[39m\u001b[38;5;241m.\u001b[39mmane_transcript\u001b[38;5;241m.\u001b[39mget_mane_transcript(\n\u001b[1;32m     71\u001b[0m         validation_result\u001b[38;5;241m.\u001b[39maccession,\n\u001b[1;32m     72\u001b[0m         classification\u001b[38;5;241m.\u001b[39mpos,\n\u001b[1;32m     73\u001b[0m         classification\u001b[38;5;241m.\u001b[39mpos,\n\u001b[1;32m     74\u001b[0m         AnnotationLayer\u001b[38;5;241m.\u001b[39mGENOMIC,\n\u001b[1;32m     75\u001b[0m         try_longest_compatible\u001b[38;5;241m=\u001b[39m\u001b[38;5;28;01mTrue\u001b[39;00m,\n\u001b[1;32m     76\u001b[0m         coordinate_type\u001b[38;5;241m=\u001b[39mCoordinateType\u001b[38;5;241m.\u001b[39mRESIDUE,\n\u001b[1;32m     77\u001b[0m         gene\u001b[38;5;241m=\u001b[39mgene,\n\u001b[1;32m     78\u001b[0m     )\n\u001b[1;32m     80\u001b[0m     \u001b[38;5;28;01mif\u001b[39;00m mane:\n\u001b[1;32m     81\u001b[0m         vrs_seq_loc_ac_status \u001b[38;5;241m=\u001b[39m mane\u001b[38;5;241m.\u001b[39mstatus\n",
      "File \u001b[0;32m~/variation-normalizer-manuscript/.venv/lib/python3.13/site-packages/cool_seq_tool/mappers/mane_transcript.py:1112\u001b[0m, in \u001b[0;36mManeTranscript.get_mane_transcript\u001b[0;34m(self, ac, start_pos, end_pos, start_annotation_layer, gene, ref, try_longest_compatible, coordinate_type)\u001b[0m\n\u001b[1;32m   1110\u001b[0m \u001b[38;5;28;01mif\u001b[39;00m start_annotation_layer \u001b[38;5;241m==\u001b[39m AnnotationLayer\u001b[38;5;241m.\u001b[39mGENOMIC:\n\u001b[1;32m   1111\u001b[0m     \u001b[38;5;28;01mif\u001b[39;00m \u001b[38;5;129;01mnot\u001b[39;00m gene:\n\u001b[0;32m-> 1112\u001b[0m         \u001b[38;5;28;01mreturn\u001b[39;00m \u001b[38;5;28;01mawait\u001b[39;00m \u001b[38;5;28mself\u001b[39m\u001b[38;5;241m.\u001b[39mg_to_grch38(\n\u001b[1;32m   1113\u001b[0m             ac,\n\u001b[1;32m   1114\u001b[0m             start_pos,\n\u001b[1;32m   1115\u001b[0m             end_pos,\n\u001b[1;32m   1116\u001b[0m             get_mane_genes\u001b[38;5;241m=\u001b[39m\u001b[38;5;28;01mTrue\u001b[39;00m,\n\u001b[1;32m   1117\u001b[0m             coordinate_type\u001b[38;5;241m=\u001b[39mcoordinate_type,\n\u001b[1;32m   1118\u001b[0m         )\n\u001b[1;32m   1120\u001b[0m     \u001b[38;5;28;01mreturn\u001b[39;00m \u001b[38;5;28;01mawait\u001b[39;00m \u001b[38;5;28mself\u001b[39m\u001b[38;5;241m.\u001b[39mg_to_mane_c(\n\u001b[1;32m   1121\u001b[0m         ac, start_pos, end_pos, gene, coordinate_type\u001b[38;5;241m=\u001b[39mcoordinate_type\n\u001b[1;32m   1122\u001b[0m     )\n\u001b[1;32m   1123\u001b[0m _logger\u001b[38;5;241m.\u001b[39mwarning(\u001b[38;5;124m\"\u001b[39m\u001b[38;5;124mAnnotation layer not supported: \u001b[39m\u001b[38;5;132;01m%s\u001b[39;00m\u001b[38;5;124m\"\u001b[39m, start_annotation_layer)\n",
      "File \u001b[0;32m~/variation-normalizer-manuscript/.venv/lib/python3.13/site-packages/cool_seq_tool/mappers/mane_transcript.py:1187\u001b[0m, in \u001b[0;36mManeTranscript.g_to_grch38\u001b[0;34m(self, ac, start_pos, end_pos, get_mane_genes, coordinate_type)\u001b[0m\n\u001b[1;32m   1184\u001b[0m \u001b[38;5;28;01melse\u001b[39;00m:\n\u001b[1;32m   1185\u001b[0m     end_pos \u001b[38;5;241m=\u001b[39m start_pos\n\u001b[0;32m-> 1187\u001b[0m newest_ac \u001b[38;5;241m=\u001b[39m \u001b[38;5;28;01mawait\u001b[39;00m \u001b[38;5;28mself\u001b[39m\u001b[38;5;241m.\u001b[39muta_db\u001b[38;5;241m.\u001b[39mget_newest_assembly_ac(ac)\n\u001b[1;32m   1188\u001b[0m \u001b[38;5;28;01mif\u001b[39;00m newest_ac:\n\u001b[1;32m   1189\u001b[0m     ac \u001b[38;5;241m=\u001b[39m newest_ac[\u001b[38;5;241m0\u001b[39m]\n",
      "File \u001b[0;32m~/variation-normalizer-manuscript/.venv/lib/python3.13/site-packages/cool_seq_tool/sources/uta_database.py:359\u001b[0m, in \u001b[0;36mUtaDatabase.get_newest_assembly_ac\u001b[0;34m(self, ac)\u001b[0m\n\u001b[1;32m    347\u001b[0m     order_by_cond \u001b[38;5;241m=\u001b[39m (\n\u001b[1;32m    348\u001b[0m         \u001b[38;5;124m\"\u001b[39m\u001b[38;5;124mORDER BY SUBSTR(ac, 0, position(\u001b[39m\u001b[38;5;124m'\u001b[39m\u001b[38;5;124m.\u001b[39m\u001b[38;5;124m'\u001b[39m\u001b[38;5;124m in ac)),\u001b[39m\u001b[38;5;124m\"\u001b[39m\n\u001b[1;32m    349\u001b[0m         \u001b[38;5;124m\"\u001b[39m\u001b[38;5;124mCAST(SUBSTR(ac, position(\u001b[39m\u001b[38;5;124m'\u001b[39m\u001b[38;5;124m.\u001b[39m\u001b[38;5;124m'\u001b[39m\u001b[38;5;124m in ac) + 1, LENGTH(ac)) AS INT) DESC;\u001b[39m\u001b[38;5;124m\"\u001b[39m\n\u001b[1;32m    350\u001b[0m     )\n\u001b[1;32m    352\u001b[0m query \u001b[38;5;241m=\u001b[39m \u001b[38;5;124mf\u001b[39m\u001b[38;5;124m\"\"\"\u001b[39m\n\u001b[1;32m    353\u001b[0m \u001b[38;5;124m    SELECT ac\u001b[39m\n\u001b[1;32m    354\u001b[0m \u001b[38;5;124m    FROM \u001b[39m\u001b[38;5;132;01m{\u001b[39;00m\u001b[38;5;28mself\u001b[39m\u001b[38;5;241m.\u001b[39mschema\u001b[38;5;132;01m}\u001b[39;00m\u001b[38;5;124m._seq_anno_most_recent\u001b[39m\n\u001b[0;32m   (...)\u001b[0m\n\u001b[1;32m    357\u001b[0m \u001b[38;5;124m    \u001b[39m\u001b[38;5;132;01m{\u001b[39;00morder_by_cond\u001b[38;5;132;01m}\u001b[39;00m\n\u001b[1;32m    358\u001b[0m \u001b[38;5;124m    \u001b[39m\u001b[38;5;124m\"\"\"\u001b[39m  \u001b[38;5;66;03m# noqa: S608\u001b[39;00m\n\u001b[0;32m--> 359\u001b[0m results \u001b[38;5;241m=\u001b[39m \u001b[38;5;28;01mawait\u001b[39;00m \u001b[38;5;28mself\u001b[39m\u001b[38;5;241m.\u001b[39mexecute_query(query)\n\u001b[1;32m    360\u001b[0m \u001b[38;5;28;01mif\u001b[39;00m \u001b[38;5;129;01mnot\u001b[39;00m results:\n\u001b[1;32m    361\u001b[0m     \u001b[38;5;28;01mreturn\u001b[39;00m []\n",
      "File \u001b[0;32m~/variation-normalizer-manuscript/.venv/lib/python3.13/site-packages/cool_seq_tool/sources/uta_database.py:210\u001b[0m, in \u001b[0;36mUtaDatabase.execute_query\u001b[0;34m(self, query)\u001b[0m\n\u001b[1;32m    208\u001b[0m     \u001b[38;5;28;01mawait\u001b[39;00m \u001b[38;5;28mself\u001b[39m\u001b[38;5;241m.\u001b[39mcreate_pool()\n\u001b[1;32m    209\u001b[0m \u001b[38;5;28;01mtry\u001b[39;00m:\n\u001b[0;32m--> 210\u001b[0m     \u001b[38;5;28;01mreturn\u001b[39;00m \u001b[38;5;28;01mawait\u001b[39;00m _execute_query(query)\n\u001b[1;32m    211\u001b[0m \u001b[38;5;28;01mexcept\u001b[39;00m InvalidAuthorizationSpecificationError:\n\u001b[1;32m    212\u001b[0m     \u001b[38;5;28mself\u001b[39m\u001b[38;5;241m.\u001b[39m_connection_pool \u001b[38;5;241m=\u001b[39m \u001b[38;5;28;01mNone\u001b[39;00m\n",
      "File \u001b[0;32m~/variation-normalizer-manuscript/.venv/lib/python3.13/site-packages/cool_seq_tool/sources/uta_database.py:205\u001b[0m, in \u001b[0;36mUtaDatabase.execute_query.<locals>._execute_query\u001b[0;34m(q)\u001b[0m\n\u001b[1;32m    200\u001b[0m \u001b[38;5;28;01masync\u001b[39;00m \u001b[38;5;28;01mdef\u001b[39;00m\u001b[38;5;250m \u001b[39m\u001b[38;5;21m_execute_query\u001b[39m(q: \u001b[38;5;28mstr\u001b[39m) \u001b[38;5;241m-\u001b[39m\u001b[38;5;241m>\u001b[39m Any:  \u001b[38;5;66;03m# noqa: ANN401\u001b[39;00m\n\u001b[1;32m    201\u001b[0m     \u001b[38;5;28;01masync\u001b[39;00m \u001b[38;5;28;01mwith\u001b[39;00m (\n\u001b[1;32m    202\u001b[0m         \u001b[38;5;28mself\u001b[39m\u001b[38;5;241m.\u001b[39m_connection_pool\u001b[38;5;241m.\u001b[39macquire() \u001b[38;5;28;01mas\u001b[39;00m connection,\n\u001b[1;32m    203\u001b[0m         connection\u001b[38;5;241m.\u001b[39mtransaction(),\n\u001b[1;32m    204\u001b[0m     ):\n\u001b[0;32m--> 205\u001b[0m         \u001b[38;5;28;01mreturn\u001b[39;00m \u001b[38;5;28;01mawait\u001b[39;00m connection\u001b[38;5;241m.\u001b[39mfetch(q)\n",
      "File \u001b[0;32m~/variation-normalizer-manuscript/.venv/lib/python3.13/site-packages/asyncpg/connection.py:690\u001b[0m, in \u001b[0;36mConnection.fetch\u001b[0;34m(self, query, timeout, record_class, *args)\u001b[0m\n\u001b[1;32m    669\u001b[0m \u001b[38;5;250m\u001b[39m\u001b[38;5;124;03m\"\"\"Run a query and return the results as a list of :class:`Record`.\u001b[39;00m\n\u001b[1;32m    670\u001b[0m \n\u001b[1;32m    671\u001b[0m \u001b[38;5;124;03m:param str query:\u001b[39;00m\n\u001b[0;32m   (...)\u001b[0m\n\u001b[1;32m    687\u001b[0m \u001b[38;5;124;03m    Added the *record_class* parameter.\u001b[39;00m\n\u001b[1;32m    688\u001b[0m \u001b[38;5;124;03m\"\"\"\u001b[39;00m\n\u001b[1;32m    689\u001b[0m \u001b[38;5;28mself\u001b[39m\u001b[38;5;241m.\u001b[39m_check_open()\n\u001b[0;32m--> 690\u001b[0m \u001b[38;5;28;01mreturn\u001b[39;00m \u001b[38;5;28;01mawait\u001b[39;00m \u001b[38;5;28mself\u001b[39m\u001b[38;5;241m.\u001b[39m_execute(\n\u001b[1;32m    691\u001b[0m     query,\n\u001b[1;32m    692\u001b[0m     args,\n\u001b[1;32m    693\u001b[0m     \u001b[38;5;241m0\u001b[39m,\n\u001b[1;32m    694\u001b[0m     timeout,\n\u001b[1;32m    695\u001b[0m     record_class\u001b[38;5;241m=\u001b[39mrecord_class,\n\u001b[1;32m    696\u001b[0m )\n",
      "File \u001b[0;32m~/variation-normalizer-manuscript/.venv/lib/python3.13/site-packages/asyncpg/connection.py:1864\u001b[0m, in \u001b[0;36mConnection._execute\u001b[0;34m(self, query, args, limit, timeout, return_status, ignore_custom_codec, record_class)\u001b[0m\n\u001b[1;32m   1852\u001b[0m \u001b[38;5;28;01masync\u001b[39;00m \u001b[38;5;28;01mdef\u001b[39;00m\u001b[38;5;250m \u001b[39m\u001b[38;5;21m_execute\u001b[39m(\n\u001b[1;32m   1853\u001b[0m     \u001b[38;5;28mself\u001b[39m,\n\u001b[1;32m   1854\u001b[0m     query,\n\u001b[0;32m   (...)\u001b[0m\n\u001b[1;32m   1861\u001b[0m     record_class\u001b[38;5;241m=\u001b[39m\u001b[38;5;28;01mNone\u001b[39;00m\n\u001b[1;32m   1862\u001b[0m ):\n\u001b[1;32m   1863\u001b[0m     \u001b[38;5;28;01mwith\u001b[39;00m \u001b[38;5;28mself\u001b[39m\u001b[38;5;241m.\u001b[39m_stmt_exclusive_section:\n\u001b[0;32m-> 1864\u001b[0m         result, _ \u001b[38;5;241m=\u001b[39m \u001b[38;5;28;01mawait\u001b[39;00m \u001b[38;5;28mself\u001b[39m\u001b[38;5;241m.\u001b[39m__execute(\n\u001b[1;32m   1865\u001b[0m             query,\n\u001b[1;32m   1866\u001b[0m             args,\n\u001b[1;32m   1867\u001b[0m             limit,\n\u001b[1;32m   1868\u001b[0m             timeout,\n\u001b[1;32m   1869\u001b[0m             return_status\u001b[38;5;241m=\u001b[39mreturn_status,\n\u001b[1;32m   1870\u001b[0m             record_class\u001b[38;5;241m=\u001b[39mrecord_class,\n\u001b[1;32m   1871\u001b[0m             ignore_custom_codec\u001b[38;5;241m=\u001b[39mignore_custom_codec,\n\u001b[1;32m   1872\u001b[0m         )\n\u001b[1;32m   1873\u001b[0m     \u001b[38;5;28;01mreturn\u001b[39;00m result\n",
      "File \u001b[0;32m~/variation-normalizer-manuscript/.venv/lib/python3.13/site-packages/asyncpg/connection.py:1961\u001b[0m, in \u001b[0;36mConnection.__execute\u001b[0;34m(self, query, args, limit, timeout, return_status, ignore_custom_codec, record_class)\u001b[0m\n\u001b[1;32m   1953\u001b[0m         result, stmt \u001b[38;5;241m=\u001b[39m \u001b[38;5;28;01mawait\u001b[39;00m \u001b[38;5;28mself\u001b[39m\u001b[38;5;241m.\u001b[39m_do_execute(\n\u001b[1;32m   1954\u001b[0m             query,\n\u001b[1;32m   1955\u001b[0m             executor,\n\u001b[0;32m   (...)\u001b[0m\n\u001b[1;32m   1958\u001b[0m             ignore_custom_codec\u001b[38;5;241m=\u001b[39mignore_custom_codec,\n\u001b[1;32m   1959\u001b[0m         )\n\u001b[1;32m   1960\u001b[0m \u001b[38;5;28;01melse\u001b[39;00m:\n\u001b[0;32m-> 1961\u001b[0m     result, stmt \u001b[38;5;241m=\u001b[39m \u001b[38;5;28;01mawait\u001b[39;00m \u001b[38;5;28mself\u001b[39m\u001b[38;5;241m.\u001b[39m_do_execute(\n\u001b[1;32m   1962\u001b[0m         query,\n\u001b[1;32m   1963\u001b[0m         executor,\n\u001b[1;32m   1964\u001b[0m         timeout,\n\u001b[1;32m   1965\u001b[0m         record_class\u001b[38;5;241m=\u001b[39mrecord_class,\n\u001b[1;32m   1966\u001b[0m         ignore_custom_codec\u001b[38;5;241m=\u001b[39mignore_custom_codec,\n\u001b[1;32m   1967\u001b[0m     )\n\u001b[1;32m   1968\u001b[0m \u001b[38;5;28;01mreturn\u001b[39;00m result, stmt\n",
      "File \u001b[0;32m~/variation-normalizer-manuscript/.venv/lib/python3.13/site-packages/asyncpg/connection.py:2027\u001b[0m, in \u001b[0;36mConnection._do_execute\u001b[0;34m(self, query, executor, timeout, retry, ignore_custom_codec, record_class)\u001b[0m\n\u001b[1;32m   2025\u001b[0m \u001b[38;5;28;01melse\u001b[39;00m:\n\u001b[1;32m   2026\u001b[0m     \u001b[38;5;28;01mtry\u001b[39;00m:\n\u001b[0;32m-> 2027\u001b[0m         result \u001b[38;5;241m=\u001b[39m \u001b[38;5;28;01mawait\u001b[39;00m executor(stmt, timeout)\n\u001b[1;32m   2028\u001b[0m     \u001b[38;5;28;01mfinally\u001b[39;00m:\n\u001b[1;32m   2029\u001b[0m         after \u001b[38;5;241m=\u001b[39m time\u001b[38;5;241m.\u001b[39mmonotonic()\n",
      "File \u001b[0;32m~/variation-normalizer-manuscript/.venv/lib/python3.13/site-packages/asyncpg/protocol/protocol.pyx:206\u001b[0m, in \u001b[0;36mbind_execute\u001b[0;34m()\u001b[0m\n",
      "\u001b[0;31mCancelledError\u001b[0m: "
     ]
    }
   ],
   "source": [
    "await normalize_genie(coordinates_queries, \"genomic\")"
   ]
  },
  {
   "cell_type": "code",
   "execution_count": null,
   "metadata": {},
   "outputs": [],
   "source": []
  }
 ],
 "metadata": {
  "kernelspec": {
   "display_name": "variation-normalizer-manuscript",
   "language": "python",
   "name": "python3"
  },
  "language_info": {
   "codemirror_mode": {
    "name": "ipython",
    "version": 3
   },
   "file_extension": ".py",
   "mimetype": "text/x-python",
   "name": "python",
   "nbconvert_exporter": "python",
   "pygments_lexer": "ipython3",
   "version": "3.13.5"
  },
  "orig_nbformat": 4
 },
 "nbformat": 4,
 "nbformat_minor": 2
}
