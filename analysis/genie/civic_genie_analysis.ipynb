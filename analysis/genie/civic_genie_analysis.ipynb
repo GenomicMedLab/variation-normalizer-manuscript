{
 "cells": [
  {
   "attachments": {},
   "cell_type": "markdown",
   "metadata": {},
   "source": [
    "# GENIE Analysis\n",
    "\n",
    "This data uses `data_mutations_extended.txt` from Synapse. You will need to create an account to download data from [here](https://www.synapse.org/#!Synapse:syn51355986). This notebook expects the `data_mutations_extended.txt` to be in the same directory."
   ]
  },
  {
   "cell_type": "code",
   "execution_count": 1,
   "metadata": {},
   "outputs": [
    {
     "name": "stderr",
     "output_type": "stream",
     "text": [
      "/Users/kxk102/Documents/genomic_med_lab/folder-migration/variation-normalizer-manuscript/.venv/lib/python3.11/site-packages/python_jsonschema_objects/__init__.py:49: UserWarning: Schema version http://json-schema.org/draft-07/schema not recognized. Some keywords and features may not be supported.\n",
      "  warnings.warn(\n"
     ]
    }
   ],
   "source": [
    "\n",
    "import logging\n",
    "import csv\n",
    "from datetime import datetime\n",
    "\n",
    "import numpy as np\n",
    "import pandas as pd\n",
    "from dotenv import load_dotenv\n",
    "from variation.query import QueryHandler\n",
    "from variation.schemas.service_schema import ClinVarAssembly\n",
    "from tqdm import tqdm\n",
    "\n",
    "logging.getLogger(\"root\").setLevel(logging.WARNING)"
   ]
  },
  {
   "attachments": {},
   "cell_type": "markdown",
   "metadata": {},
   "source": [
    "## Create dataframe"
   ]
  },
  {
   "cell_type": "code",
   "execution_count": 2,
   "metadata": {},
   "outputs": [
    {
     "name": "stderr",
     "output_type": "stream",
     "text": [
      "/var/folders/lf/5g499lhn423dlt_l3y1ctkv0drnwj5/T/ipykernel_26300/3094103739.py:2: DtypeWarning: Columns (4) have mixed types. Specify dtype option on import or set low_memory=False.\n",
      "  genie_variants_df = pd.read_csv(\n"
     ]
    },
    {
     "data": {
      "text/plain": [
       "(1219725, 11)"
      ]
     },
     "execution_count": 2,
     "metadata": {},
     "output_type": "execute_result"
    }
   ],
   "source": [
    "# Get GENIE Variant data\n",
    "genie_variants_df = pd.read_csv(\n",
    "    \"data_mutations_extended.txt\", sep=\"\\t\",\n",
    "    usecols=[\n",
    "        \"Hugo_Symbol\", \n",
    "        \"NCBI_Build\",\n",
    "        \"Chromosome\", \n",
    "        \"Start_Position\", \n",
    "        \"End_Position\", \n",
    "        \"Reference_Allele\",\n",
    "        \"Tumor_Seq_Allele2\", \n",
    "        \"HGVSp_Short\",\n",
    "        \"dbSNP_RS\"\n",
    "    ]\n",
    ")\n",
    "# Some positions are '-', we drop nan below\n",
    "genie_variants_df = genie_variants_df.replace({\"-\": np.nan})\n",
    "\n",
    "genie_variants_df[\"free_text_p_short\"] = np.where(\n",
    "    ~genie_variants_df[\"Hugo_Symbol\"].isna() & ~genie_variants_df[\"HGVSp_Short\"].isna(),\n",
    "    genie_variants_df[\"Hugo_Symbol\"] + \" \" + genie_variants_df[\"HGVSp_Short\"],\n",
    "    np.nan\n",
    ")\n",
    "\n",
    "genie_variants_df[\"coordinates\"] = np.where(\n",
    "    ~genie_variants_df[\"Chromosome\"].isna() & ~genie_variants_df[\"Start_Position\"].isna() & ~genie_variants_df[\"End_Position\"].isna() & ~genie_variants_df[\"Reference_Allele\"].isna() & ~genie_variants_df[\"Tumor_Seq_Allele2\"].isna() & ~genie_variants_df[\"NCBI_Build\"].isna(),\n",
    "    genie_variants_df[\"Chromosome\"].astype(str) + \"-\" + genie_variants_df[\"Start_Position\"].astype(str) + \"-\" + genie_variants_df[\"Reference_Allele\"] + \"-\" + genie_variants_df[\"Tumor_Seq_Allele2\"],\n",
    "    np.nan\n",
    ")\n",
    "\n",
    "genie_variants_df = genie_variants_df[genie_variants_df[\"free_text_p_short\"].notna()]\n",
    "genie_variants_df = genie_variants_df[genie_variants_df[\"coordinates\"].notna()]\n",
    "genie_variants_df.shape"
   ]
  },
  {
   "cell_type": "code",
   "execution_count": 3,
   "metadata": {},
   "outputs": [
    {
     "data": {
      "text/plain": [
       "(1219725,)"
      ]
     },
     "execution_count": 3,
     "metadata": {},
     "output_type": "execute_result"
    }
   ],
   "source": [
    "free_text_df = genie_variants_df[\"free_text_p_short\"].copy()\n",
    "free_text_df.shape"
   ]
  },
  {
   "cell_type": "code",
   "execution_count": 4,
   "metadata": {},
   "outputs": [
    {
     "data": {
      "text/plain": [
       "(631330,)"
      ]
     },
     "execution_count": 4,
     "metadata": {},
     "output_type": "execute_result"
    }
   ],
   "source": [
    "# Get duplicates\n",
    "free_text_dups = free_text_df.loc[free_text_df.duplicated()]\n",
    "free_text_dups.shape"
   ]
  },
  {
   "cell_type": "code",
   "execution_count": 5,
   "metadata": {},
   "outputs": [
    {
     "data": {
      "text/plain": [
       "588395"
      ]
     },
     "execution_count": 5,
     "metadata": {},
     "output_type": "execute_result"
    }
   ],
   "source": [
    "\n",
    "# Drop duplicates\n",
    "free_text_df = free_text_df.drop_duplicates()\n",
    "free_text_queries = [v for v in free_text_df.values]\n",
    "len(free_text_queries)\n"
   ]
  },
  {
   "cell_type": "code",
   "execution_count": 6,
   "metadata": {},
   "outputs": [
    {
     "data": {
      "text/plain": [
       "(1219725,)"
      ]
     },
     "execution_count": 6,
     "metadata": {},
     "output_type": "execute_result"
    }
   ],
   "source": [
    "coordinates_df = genie_variants_df[\"coordinates\"].copy()\n",
    "coordinates_df.shape"
   ]
  },
  {
   "cell_type": "code",
   "execution_count": 7,
   "metadata": {},
   "outputs": [
    {
     "data": {
      "text/plain": [
       "(580018,)"
      ]
     },
     "execution_count": 7,
     "metadata": {},
     "output_type": "execute_result"
    }
   ],
   "source": [
    "# Get duplicates\n",
    "coord_dups = coordinates_df.loc[coordinates_df.duplicated()]\n",
    "coord_dups.shape"
   ]
  },
  {
   "cell_type": "code",
   "execution_count": 8,
   "metadata": {},
   "outputs": [
    {
     "data": {
      "text/plain": [
       "639707"
      ]
     },
     "execution_count": 8,
     "metadata": {},
     "output_type": "execute_result"
    }
   ],
   "source": [
    "\n",
    "# Drop duplicates\n",
    "coordinates_df = coordinates_df.drop_duplicates()\n",
    "coordinate_queries = [v for v in coordinates_df.values]\n",
    "len(coordinate_queries)"
   ]
  },
  {
   "attachments": {},
   "cell_type": "markdown",
   "metadata": {},
   "source": [
    "## Try using /normalize\n",
    "\n",
    "In this section, we will run the queries through the variation normalizer."
   ]
  },
  {
   "cell_type": "code",
   "execution_count": 9,
   "metadata": {},
   "outputs": [
    {
     "data": {
      "text/plain": [
       "True"
      ]
     },
     "execution_count": 9,
     "metadata": {},
     "output_type": "execute_result"
    }
   ],
   "source": [
    "# Environment variables are set for gene-normalizer dynamodb instance and \n",
    "# UTA DB credentials\n",
    "load_dotenv()"
   ]
  },
  {
   "cell_type": "code",
   "execution_count": 10,
   "metadata": {},
   "outputs": [
    {
     "name": "stdout",
     "output_type": "stream",
     "text": [
      "***Using Gene Database Endpoint: http://localhost:8000***\n"
     ]
    }
   ],
   "source": [
    "query_handler = QueryHandler()"
   ]
  },
  {
   "cell_type": "code",
   "execution_count": 11,
   "metadata": {},
   "outputs": [],
   "source": [
    "async def normalize_genie(queries: list[str], query_type: str):\n",
    "    # This file contains GENIE Variant queries that we were not able to normalize.\n",
    "    unable_to_normalize_wf = open(f\"unable_to_normalize_{query_type}_queries.csv\", \"w\")\n",
    "    unable_to_normalize_wr = csv.writer(unable_to_normalize_wf, delimiter=\"\\t\")\n",
    "    unable_to_normalize_wr.writerow([\"query\", \"exception_raised\", \"message\", \"warnings\"])\n",
    "\n",
    "    # This file contains GENIE Variant queries that we were able to normalize.\n",
    "    able_to_normalize_wf = open(f\"able_to_normalize_{query_type}_queries.csv\", \"w\")\n",
    "    able_to_normalize_wr = csv.writer(able_to_normalize_wf, delimiter=\"\\t\")\n",
    "    able_to_normalize_wr.writerow([\"query\", \"vrs_id\"])\n",
    "\n",
    "    for query in tqdm(queries):\n",
    "        try:\n",
    "            variation_norm_resp = await query_handler.normalize_handler.normalize(query, input_assembly=ClinVarAssembly.GRCH37)\n",
    "        except Exception as e:\n",
    "            unable_to_normalize_wr.writerow([query, True, str(e), None])\n",
    "        else:\n",
    "            if variation_norm_resp.variation_descriptor:\n",
    "                vrs_id = variation_norm_resp.variation_descriptor.variation.id\n",
    "                able_to_normalize_wr.writerow([query, vrs_id])\n",
    "            else:\n",
    "                unable_to_normalize_wr.writerow(\n",
    "                    [query, False, \"unable to normalize\", variation_norm_resp.warnings]\n",
    "                )\n",
    "\n",
    "    # Close all files\n",
    "    unable_to_normalize_wf.close()\n",
    "    able_to_normalize_wf.close()"
   ]
  },
  {
   "cell_type": "code",
   "execution_count": 12,
   "metadata": {},
   "outputs": [
    {
     "name": "stderr",
     "output_type": "stream",
     "text": [
      "100%|██████████| 639707/639707 [1:46:37<00:00, 100.00it/s] \n"
     ]
    }
   ],
   "source": [
    "await normalize_genie(coordinates_df.values, \"genomic\")"
   ]
  },
  {
   "cell_type": "code",
   "execution_count": 13,
   "metadata": {},
   "outputs": [],
   "source": [
    "# await normalize_genie(free_text_queries, \"protein\")"
   ]
  },
  {
   "cell_type": "code",
   "execution_count": 14,
   "metadata": {},
   "outputs": [],
   "source": [
    "# async def normalize_genie_existing(queries: list[str], query_type: str):\n",
    "#     \"\"\"If not finished normalizing....\"\"\"\n",
    "#     date = datetime.today().strftime(\"%Y%m%d\")\n",
    "    \n",
    "#     # This file contains GENIE Variant queries that we were not able to normalize.\n",
    "#     unable_to_normalize_wf = open(f\"unable_to_normalize_{query_type}_queries_{date}.csv\", \"w\")\n",
    "#     unable_to_normalize_wr = csv.writer(unable_to_normalize_wf, delimiter=\"\\t\")\n",
    "#     unable_to_normalize_wr.writerow([\"query\", \"exception_raised\", \"message\", \"warnings\"])\n",
    "\n",
    "#     # This file contains GENIE Variant queries that we were able to normalize.\n",
    "#     able_to_normalize_wf = open(f\"able_to_normalize_{query_type}_queries_{date}.csv\", \"w\")\n",
    "#     able_to_normalize_wr = csv.writer(able_to_normalize_wf, delimiter=\"\\t\")\n",
    "#     able_to_normalize_wr.writerow([\"query\", \"vrs_id\"])\n",
    "\n",
    "#     able_to_normalize_rf = open(f\"existing/able_to_normalize_protein_queries.csv\", \"r\")\n",
    "#     unable_to_normalize_rf = open(f\"existing/unable_to_normalize_protein_queries.csv\", \"r\")\n",
    "\n",
    "#     for query in tqdm(queries):\n",
    "        \n",
    "#         try:\n",
    "#             variation_norm_resp = await query_handler.normalize_handler.normalize(query)\n",
    "#         except Exception as e:\n",
    "#             unable_to_normalize_wr.writerow([query, True, str(e), None])\n",
    "#         else:\n",
    "#             if variation_norm_resp.variation_descriptor:\n",
    "#                 vrs_id = variation_norm_resp.variation_descriptor.variation.id\n",
    "#                 able_to_normalize_wr.writerow([query, vrs_id])\n",
    "#             else:\n",
    "#                 unable_to_normalize_wr.writerow(\n",
    "#                     [query, False, \"unable to normalize\", variation_norm_resp.warnings]\n",
    "#                 )\n",
    "\n",
    "#     # Close all files\n",
    "#     unable_to_normalize_wf.close()\n",
    "#     able_to_normalize_wf.close()\n",
    "#     able_to_normalize_rf.close()\n",
    "#     unable_to_normalize_rf.close()\n",
    "    "
   ]
  }
 ],
 "metadata": {
  "kernelspec": {
   "display_name": ".venv",
   "language": "python",
   "name": "python3"
  },
  "language_info": {
   "codemirror_mode": {
    "name": "ipython",
    "version": 3
   },
   "file_extension": ".py",
   "mimetype": "text/x-python",
   "name": "python",
   "nbconvert_exporter": "python",
   "pygments_lexer": "ipython3",
   "version": "3.11.3"
  },
  "orig_nbformat": 4
 },
 "nbformat": 4,
 "nbformat_minor": 2
}
