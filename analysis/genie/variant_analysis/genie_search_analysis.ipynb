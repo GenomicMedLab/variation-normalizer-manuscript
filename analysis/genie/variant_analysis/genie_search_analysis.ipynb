{
 "cells": [
  {
   "cell_type": "markdown",
   "id": "34b1fa10-28ad-44e4-b8a4-49aeef14b03e",
   "metadata": {},
   "source": [
    "# GENIE Search Analysis\n",
    "This notebook performs set intersections to determine matches between normalized variants from GENIE and normalized variants from CIViC, Molecular Oncology Almanac, and ClinVar.\n",
    "\n",
    "The following notebook must be run before running this analysis:  \n",
    "\n",
    "genie/pre_variant_analysis/genie_pre_variant_analysis.ipynb\n",
    "\n",
    "The following files are accessed in this notebook from the civic and moa directories:   \n",
    "\n",
    "civic/variation_analysis/able_to_normalize_queries.csv  \n",
    "moa/feature_analysis/able_to_normalize_queries.csv\n",
    "\n",
    "This notebook uses `data_mutations_extended.txt` from Synapse. You will need to create an account to download data from [here](https://www.synapse.org/#!Synapse:syn51355986). This notebook expects the `data_mutations_extended.txt` to be in the same directory."
   ]
  },
  {
   "cell_type": "code",
   "execution_count": 1,
   "id": "8d53de2a-4620-4700-b34b-56035b651ffb",
   "metadata": {},
   "outputs": [],
   "source": [
    "# Import relevant libraries\n",
    "import logging\n",
    "import csv\n",
    "from datetime import datetime\n",
    "import ndjson\n",
    "import numpy as np\n",
    "import pandas as pd\n",
    "from pathlib import Path\n",
    "from boto3.exceptions import ResourceLoadException\n",
    "from botocore.config import Config\n",
    "import boto3\n",
    "import gzip\n",
    "from dotenv import load_dotenv"
   ]
  },
  {
   "cell_type": "code",
   "execution_count": 2,
   "id": "279c95d1-4bd8-4f6f-a88a-113774aa3ab1",
   "metadata": {},
   "outputs": [
    {
     "data": {
      "text/plain": [
       "True"
      ]
     },
     "execution_count": 2,
     "metadata": {},
     "output_type": "execute_result"
    }
   ],
   "source": [
    "load_dotenv()"
   ]
  },
  {
   "cell_type": "markdown",
   "id": "8aaa6a3f-8b65-4383-8f7a-4c72baff9487",
   "metadata": {},
   "source": [
    "## Load Data (CIViC, Molecular Oncology Almanac, ClinVar)"
   ]
  },
  {
   "cell_type": "code",
   "execution_count": 3,
   "id": "22709d08-246b-4d37-a66f-f686f719cb1e",
   "metadata": {},
   "outputs": [],
   "source": [
    "# Load normalized variants for CIViC, MOA, and ClinVar.\n",
    "civic_variants = pd.read_csv(\"../../civic/variation_analysis/able_to_normalize_queries.csv\", sep=\"\\t\")\n",
    "moa_variants = pd.read_csv(\"../../moa/feature_analysis/able_to_normalize_queries.csv\", sep=\"\\t\")\n",
    "\n",
    "s3 = boto3.resource(\"s3\", config=Config(region_name=\"us-east-2\"))\n",
    "bucket = s3.Bucket(\"nch-igm-wagner-lab-public\").objects.filter(Prefix=\"variation-normalizer-manuscript/output-variation_identity-vrs-1.3.ndjson.gz\")\n",
    "\n",
    "for file in bucket:\n",
    "    fn = file.key.split(\"/\")[-1]\n",
    "    with open(fn, \"wb\") as f:\n",
    "        file.Object().download_fileobj(f)\n",
    "\n",
    "with gzip.open('output-variation_identity-vrs-1.3.ndjson.gz', 'rb') as f:\n",
    "    records = ndjson.load(f)\n",
    "\n",
    "df0 = pd.json_normalize(records)\n",
    "clinvar_variants = df0.copy()"
   ]
  },
  {
   "cell_type": "code",
   "execution_count": 4,
   "id": "766f1db2-e2fb-49b9-8b7b-06eb1a9908f0",
   "metadata": {},
   "outputs": [
    {
     "name": "stderr",
     "output_type": "stream",
     "text": [
      "/var/folders/td/cxs_k_d9765dngqbd7hq2b0x9nlq5_/T/ipykernel_36951/1991849804.py:2: DtypeWarning: Columns (4) have mixed types. Specify dtype option on import or set low_memory=False.\n",
      "  genie_variants_df = pd.read_csv(\n"
     ]
    },
    {
     "data": {
      "text/plain": [
       "(1219725, 12)"
      ]
     },
     "execution_count": 4,
     "metadata": {},
     "output_type": "execute_result"
    }
   ],
   "source": [
    "# Get GENIE Variant data\n",
    "genie_variants_df = pd.read_csv(\n",
    "    \"data_mutations_extended.txt\", sep=\"\\t\",\n",
    "    usecols=[\n",
    "        \"Hugo_Symbol\", \n",
    "        \"NCBI_Build\",\n",
    "        \"Chromosome\", \n",
    "        \"Start_Position\", \n",
    "        \"End_Position\", \n",
    "        \"Tumor_Sample_Barcode\",\n",
    "        \"Reference_Allele\",\n",
    "        \"Tumor_Seq_Allele2\", \n",
    "        \"HGVSp_Short\",\n",
    "        \"dbSNP_RS\"\n",
    "    ]\n",
    ")\n",
    "#Some positions are '-', we drop nan below\n",
    "genie_variants_df = genie_variants_df.replace({\"-\": np.nan})\n",
    "\n",
    "genie_variants_df[\"free_text_p_short\"] = np.where(\n",
    "    ~genie_variants_df[\"Hugo_Symbol\"].isna() & ~genie_variants_df[\"HGVSp_Short\"].isna(),\n",
    "    genie_variants_df[\"Hugo_Symbol\"] + \" \" + genie_variants_df[\"HGVSp_Short\"],\n",
    "    np.nan\n",
    ")\n",
    "\n",
    "genie_variants_df[\"coordinates\"] = np.where(\n",
    "    ~genie_variants_df[\"Chromosome\"].isna() & ~genie_variants_df[\"Start_Position\"].isna() & ~genie_variants_df[\"End_Position\"].isna() & ~genie_variants_df[\"Reference_Allele\"].isna() & ~genie_variants_df[\"Tumor_Seq_Allele2\"].isna() & ~genie_variants_df[\"NCBI_Build\"].isna(),\n",
    "    genie_variants_df[\"Chromosome\"].astype(str) + \"-\" + genie_variants_df[\"Start_Position\"].astype(str) + \"-\" + genie_variants_df[\"Reference_Allele\"] + \"-\" + genie_variants_df[\"Tumor_Seq_Allele2\"],\n",
    "    np.nan\n",
    ")\n",
    "\n",
    "genie_variants_df = genie_variants_df[genie_variants_df[\"free_text_p_short\"].notna()]\n",
    "genie_variants_df = genie_variants_df[genie_variants_df[\"coordinates\"].notna()]\n",
    "genie_variants_df.shape"
   ]
  },
  {
   "cell_type": "markdown",
   "id": "ed00e26a-936e-4761-9018-ba2971857215",
   "metadata": {},
   "source": [
    "### Normalized Genomic and Protein GENIE variants. \n",
    "Due to GENIE licenses, please run the analysis notebook in genie/pre_variant_analysis to generate the datasets below."
   ]
  },
  {
   "cell_type": "code",
   "execution_count": 5,
   "id": "c1efda24-dd64-42de-9e27-1d76d9fd1bdb",
   "metadata": {},
   "outputs": [],
   "source": [
    "able_to_normalize_genomic = pd.read_csv(\"able_to_normalize_genomic_queries.csv\",sep=\"\\t\")"
   ]
  },
  {
   "cell_type": "code",
   "execution_count": 6,
   "id": "45efc26f-f865-4a4d-92c8-1e8d29dcf5e5",
   "metadata": {},
   "outputs": [],
   "source": [
    "able_to_normalize_protein = pd.read_csv(\"able_to_normalize_protein_queries.csv\",sep=\"\\t\")"
   ]
  },
  {
   "cell_type": "markdown",
   "id": "16e14634-84ab-428c-a86b-784c49088094",
   "metadata": {},
   "source": [
    "## Create Output Directory"
   ]
  },
  {
   "cell_type": "code",
   "execution_count": 7,
   "id": "9b0d9d3e-0b79-4b5e-8db8-5a13de17dbdb",
   "metadata": {},
   "outputs": [],
   "source": [
    "path = Path(\"variant_analysis_output\")\n",
    "path.mkdir(exist_ok = True)"
   ]
  },
  {
   "cell_type": "markdown",
   "id": "2324a30e-250a-45b6-a3bf-a023e855a92f",
   "metadata": {},
   "source": [
    "## Variant-Level Analysis\n",
    "In this section we perform set intersections to determine how many normalized variants from GENIE match to MOA, CIViC, and ClinVar."
   ]
  },
  {
   "cell_type": "markdown",
   "id": "b85922d3-a86a-4f6b-9b32-cffde986a0bb",
   "metadata": {},
   "source": [
    "## MOA"
   ]
  },
  {
   "cell_type": "code",
   "execution_count": 15,
   "id": "d263cc59-5d6e-48a2-a3f0-f7e28d58d11a",
   "metadata": {},
   "outputs": [
    {
     "name": "stdout",
     "output_type": "stream",
     "text": [
      "The number of matched protein variants in MOA is: 122\n"
     ]
    }
   ],
   "source": [
    "# Intersect normalized GENIE protein variants with normalized MOA protein variants\n",
    "genie_moa_match = set(able_to_normalize_protein[\"vrs_id\"].to_list()).intersection(set(moa_variants[\"vrs_id\"].to_list()))\n",
    "print(f\"The number of matched protein variants in MOA is: {len(genie_moa_match)}\")\n",
    "with open(\"variant_analysis_output/genie_moa_match.txt\", \"w\") as f:\n",
    "    genie_moa_match = list(genie_moa_match)\n",
    "    for i in range(len(genie_moa_match)):\n",
    "        f.write(genie_moa_match[i] + \"\\n\")"
   ]
  },
  {
   "cell_type": "markdown",
   "id": "0e6d3a50-752d-4ffd-aa17-25e785ff9da8",
   "metadata": {},
   "source": [
    "## CIViC"
   ]
  },
  {
   "cell_type": "code",
   "execution_count": 8,
   "id": "191f1f5d-9aa9-4b49-a690-615f1eea2449",
   "metadata": {},
   "outputs": [
    {
     "name": "stdout",
     "output_type": "stream",
     "text": [
      "The number of matched genomic variants in CIViC is: 203\n",
      "The number of matched protein variants in CIViC is: 944\n",
      "The number of matched GENIE variants in CIViC is: 1147\n"
     ]
    }
   ],
   "source": [
    "# Intersect normalized GENIE genomic and protein variants with normalized CIViC variants\n",
    "genie_civic_match_genomic = set(able_to_normalize_genomic[\"vrs_id\"].to_list()).intersection(set(civic_variants[\"vrs_id\"].to_list()))\n",
    "print(f\"The number of matched genomic variants in CIViC is: {len(genie_civic_match_genomic)}\")\n",
    "with open(\"variant_analysis_output/genie_civic_match_genomic.txt\", \"w\") as f:\n",
    "    genie_civic_match_g = list(genie_civic_match_genomic)\n",
    "    for i in range(len(genie_civic_match_g)):\n",
    "        f.write(genie_civic_match_g[i] + \"\\n\")\n",
    "\n",
    "genie_civic_match_protein = set(able_to_normalize_protein[\"vrs_id\"].to_list()).intersection(set(civic_variants[\"vrs_id\"].to_list()))\n",
    "print(f\"The number of matched protein variants in CIViC is: {len(genie_civic_match_protein)}\")\n",
    "with open(\"variant_analysis_output/genie_civic_match_protein.txt\", \"w\") as f:\n",
    "    genie_civic_match_p = list(genie_civic_match_protein)\n",
    "    for i in range(len(genie_civic_match_p)):\n",
    "        f.write(genie_civic_match_p[i] + \"\\n\")\n",
    "\n",
    "civic_genie_union = genie_civic_match_genomic.union(genie_civic_match_protein)\n",
    "print(f\"The number of matched GENIE variants in CIViC is: {len(civic_genie_union)}\")\n",
    "with open(\"variant_analysis_output/genie_civic_match_union.txt\", \"w\") as f:\n",
    "    genie_civic_match_union = list(civic_genie_union)\n",
    "    for i in range(len(genie_civic_match_union)):\n",
    "        f.write(genie_civic_match_union[i] + \"\\n\")"
   ]
  },
  {
   "cell_type": "markdown",
   "id": "faa0c4c4-9a55-4623-b86b-d71a72cf5d3e",
   "metadata": {},
   "source": [
    "## ClinVar"
   ]
  },
  {
   "cell_type": "code",
   "execution_count": 9,
   "id": "1fc17464-19ba-4215-87b6-5293b8423b6a",
   "metadata": {},
   "outputs": [
    {
     "name": "stdout",
     "output_type": "stream",
     "text": [
      "The number of matched GENIE genomic variants in ClinVar is: 94028\n"
     ]
    }
   ],
   "source": [
    "# Intersect normalized GENIE genomic variants with normalized ClinVar variants\n",
    "genie_clinvar_match_genomic = set(able_to_normalize_genomic[\"vrs_id\"].to_list()).intersection(set(clinvar_variants[\"out._id\"].to_list()))\n",
    "print(f\"The number of matched GENIE genomic variants in ClinVar is: {len(genie_clinvar_match_genomic)}\")\n",
    "with open(\"variant_analysis_output/genie_clinvar_match_genomic.txt\", \"w\") as f:\n",
    "    genie_clinvar_match_genomic = list(genie_clinvar_match_genomic)\n",
    "    for i in range(len(genie_clinvar_match_genomic)):\n",
    "        f.write(genie_clinvar_match_genomic[i] + \"\\n\")"
   ]
  },
  {
   "cell_type": "code",
   "execution_count": 10,
   "id": "e88ff7f4-fca8-43d8-a683-014c768324c6",
   "metadata": {},
   "outputs": [
    {
     "data": {
      "text/plain": [
       "'The number of matched GENIE protein variants in ClinVar is: 0'"
      ]
     },
     "execution_count": 10,
     "metadata": {},
     "output_type": "execute_result"
    }
   ],
   "source": [
    "# Intersect normalized GENIE protein variants with normalized ClinVar variants\n",
    "genie_clinvar_match_protein = set(able_to_normalize_protein[\"vrs_id\"].to_list()).intersection(set(clinvar_variants[\"out._id\"].to_list()))\n",
    "f\"The number of matched GENIE protein variants in ClinVar is: {len(genie_clinvar_match_protein)}\""
   ]
  },
  {
   "cell_type": "markdown",
   "id": "69cc2b8e-7ab0-43be-89af-b908339bbb11",
   "metadata": {},
   "source": [
    "## Patient-Level Analysis\n",
    "In this section we summarize variant matching at the patient level, with >= 1 shared variant counting as a match."
   ]
  },
  {
   "cell_type": "markdown",
   "id": "f457f72b-1875-4ffe-9c84-f9f237fd3d2b",
   "metadata": {},
   "source": [
    "### Filter to include normalized genomic and protein variants"
   ]
  },
  {
   "cell_type": "code",
   "execution_count": 15,
   "id": "43041e58-077e-4846-a5d7-1a4dfd28d93c",
   "metadata": {},
   "outputs": [],
   "source": [
    "normalized_queries_genomic = able_to_normalize_genomic[\"query\"].to_list()\n",
    "queries = genie_variants_df['coordinates'].to_list()\n",
    "rows_to_keep_genomic = [queries.index(x) for x in normalized_queries_genomic]"
   ]
  },
  {
   "cell_type": "code",
   "execution_count": 16,
   "id": "cdac5805-d730-492f-acf9-f2c6577047d8",
   "metadata": {},
   "outputs": [],
   "source": [
    "genie_variants_genomic = genie_variants_df.iloc[rows_to_keep_genomic]"
   ]
  },
  {
   "cell_type": "code",
   "execution_count": 17,
   "id": "6053dca5-8c88-4131-9dab-1e2ad36672a6",
   "metadata": {},
   "outputs": [],
   "source": [
    "genie_variants_genomic.to_csv(\"genie_variants_genomic_normalized\", sep=\"\\t\", index=False)"
   ]
  },
  {
   "cell_type": "code",
   "execution_count": 18,
   "id": "51109fec-616f-44ad-be7c-49d019b47ac8",
   "metadata": {},
   "outputs": [],
   "source": [
    "normalized_queries_protein = able_to_normalize_protein[\"query\"].to_list()\n",
    "queries = genie_variants_df[\"free_text_p_short\"].to_list()\n",
    "rows_to_keep_protein = [queries.index(x) for x in normalized_queries_protein]"
   ]
  },
  {
   "cell_type": "code",
   "execution_count": 19,
   "id": "b80ca5f4-2677-4b8d-af9e-73da85223c82",
   "metadata": {},
   "outputs": [],
   "source": [
    "genie_variants_protein = genie_variants_df.iloc[rows_to_keep_protein]"
   ]
  },
  {
   "cell_type": "code",
   "execution_count": 20,
   "id": "ecda9d58-b9e4-466d-8888-658867f9b6b6",
   "metadata": {},
   "outputs": [],
   "source": [
    "genie_variants_protein.to_csv(\"genie_variants_protein_normalized\", sep=\"\\t\", index=False)"
   ]
  },
  {
   "cell_type": "code",
   "execution_count": 11,
   "id": "7dc46632-86da-473a-b63b-0788aa93fdd7",
   "metadata": {},
   "outputs": [],
   "source": [
    "# Read in dataframes\n",
    "genie_variants_genomic = pd.read_csv(\"genie_variants_genomic_normalized\", sep=\"\\t\")\n",
    "genie_variants_protein = pd.read_csv(\"genie_variants_protein_normalized\", sep=\"\\t\")"
   ]
  },
  {
   "cell_type": "code",
   "execution_count": 12,
   "id": "bebdbe0f-1189-41ec-b903-8ab0c97f0a9a",
   "metadata": {},
   "outputs": [],
   "source": [
    "# Create genomic variants patient dictionary\n",
    "pv = genie_variants_genomic[\"Tumor_Sample_Barcode\"].to_list()\n",
    "pvd_genomic = dict()\n",
    "for i in range(len(pv)):\n",
    "    key = pv[i]\n",
    "    var = able_to_normalize_genomic.at[i, \"vrs_id\"]\n",
    "    if key in pvd_genomic:\n",
    "        curr = pvd_genomic[key]\n",
    "        curr.append(var)\n",
    "        pvd_genomic[key] = curr\n",
    "    else:\n",
    "        pvd_genomic[key]= [var]"
   ]
  },
  {
   "cell_type": "code",
   "execution_count": 13,
   "id": "f2710a39-95d0-4e0e-8f44-56ffb4721fb1",
   "metadata": {},
   "outputs": [],
   "source": [
    "# Create protein variants patient dictionary\n",
    "pv = genie_variants_protein[\"Tumor_Sample_Barcode\"].to_list()\n",
    "pvd_protein = dict()\n",
    "for i in range(len(pv)):\n",
    "    key = pv[i]\n",
    "    var = able_to_normalize_protein.at[i, \"vrs_id\"]\n",
    "    if key in pvd_protein:\n",
    "        curr = pvd_protein[key]\n",
    "        curr.append(var)\n",
    "        pvd_protein[key] = curr\n",
    "    else:\n",
    "        pvd_protein[key]= [var]"
   ]
  },
  {
   "cell_type": "markdown",
   "id": "f4ee515b-7c6d-4084-9f52-9fdab03242f0",
   "metadata": {},
   "source": [
    "### MOA"
   ]
  },
  {
   "cell_type": "code",
   "execution_count": 17,
   "id": "d2ab75db-e501-4682-bcc7-ac7c6c4f1207",
   "metadata": {},
   "outputs": [
    {
     "name": "stdout",
     "output_type": "stream",
     "text": [
      "There are 117 patients with matching protein variant data in MOA\n"
     ]
    }
   ],
   "source": [
    "count = 0\n",
    "patients = []\n",
    "for key in pvd_protein:\n",
    "    isect = set(pvd_protein[key]).intersection(genie_moa_match)\n",
    "    if len(isect) >= 1:\n",
    "        count += 1\n",
    "        patients.append(key)\n",
    "print(f\"There are {count} patients with matching protein variant data in MOA\")\n",
    "\n",
    "with open(\"variant_analysis_output/moa_patient_match.txt\", \"w\") as f:\n",
    "    for i in range(len(patients)):\n",
    "        f.write(patients[i] + \"\\n\")"
   ]
  },
  {
   "cell_type": "markdown",
   "id": "aeb32052-4924-4f51-96c5-33c3b99446a0",
   "metadata": {},
   "source": [
    "### CIViC"
   ]
  },
  {
   "cell_type": "code",
   "execution_count": 18,
   "id": "1189e366-f61d-4063-982c-05b470110263",
   "metadata": {},
   "outputs": [
    {
     "name": "stdout",
     "output_type": "stream",
     "text": [
      "There are 904 patients with matching protein variant data in CIViC\n"
     ]
    }
   ],
   "source": [
    "# Protein variants patient count\n",
    "count = 0\n",
    "patients_protein = []\n",
    "for key in pvd_protein:\n",
    "    isect = set(pvd_protein[key]).intersection(genie_civic_match_protein)\n",
    "    if len(isect) >= 1:\n",
    "        count += 1\n",
    "        patients_protein.append(key)\n",
    "print(f\"There are {count} patients with matching protein variant data in CIViC\")\n",
    "\n",
    "with open(\"variant_analysis_output/civic_protein_patient_match.txt\", \"w\") as f:\n",
    "    for i in range(len(patients_protein)):\n",
    "        f.write(patients_protein[i] + \"\\n\")"
   ]
  },
  {
   "cell_type": "code",
   "execution_count": 19,
   "id": "8a8275a9-c1e8-489d-926b-eb54d1ec1e6d",
   "metadata": {},
   "outputs": [
    {
     "name": "stdout",
     "output_type": "stream",
     "text": [
      "There are 201 patients with matching genomic variant data in CIViC\n"
     ]
    }
   ],
   "source": [
    "# Genomic variants patient count\n",
    "count = 0\n",
    "patients_genomic = []\n",
    "for key in pvd_genomic:\n",
    "    isect = set(pvd_genomic[key]).intersection(genie_civic_match_genomic)\n",
    "    if len(isect) >= 1:\n",
    "        count += 1\n",
    "        patients_genomic.append(key)\n",
    "print(f\"There are {count} patients with matching genomic variant data in CIViC\")\n",
    "\n",
    "with open(\"variant_analysis_output/civic_genomic_patient_match.txt\", \"w\") as f:\n",
    "    for i in range(len(patients_genomic)):\n",
    "        f.write(patients_genomic[i] + \"\\n\")"
   ]
  },
  {
   "cell_type": "code",
   "execution_count": 20,
   "id": "41714c8d-816f-4c35-853f-4bc8807135da",
   "metadata": {},
   "outputs": [
    {
     "data": {
      "text/plain": [
       "8"
      ]
     },
     "execution_count": 20,
     "metadata": {},
     "output_type": "execute_result"
    }
   ],
   "source": [
    "# Compute number of patients with both genomic and protein variant overlap\n",
    "len(set(patients_genomic).intersection(set(patients_protein)))"
   ]
  },
  {
   "cell_type": "markdown",
   "id": "c42996b2-d106-4dfe-9239-760be7dbf657",
   "metadata": {},
   "source": [
    "### ClinVar"
   ]
  },
  {
   "cell_type": "code",
   "execution_count": 21,
   "id": "cc1f7965-5625-492e-bd0d-d9aa1e45b046",
   "metadata": {},
   "outputs": [
    {
     "name": "stdout",
     "output_type": "stream",
     "text": [
      "There are 45725 patients with matching genomic variant data in ClinVar\n"
     ]
    }
   ],
   "source": [
    "# Genomic variants patient count\n",
    "count = 0\n",
    "patients_genomic = []\n",
    "for key in pvd_genomic:\n",
    "    isect = set(pvd_genomic[key]).intersection(genie_clinvar_match_genomic)\n",
    "    if len(isect) >= 1:\n",
    "        count += 1\n",
    "        patients_genomic.append(key)\n",
    "print(f\"There are {count} patients with matching genomic variant data in ClinVar\")\n",
    "\n",
    "with open(\"variant_analysis_output/clinvar_patient_match.txt\", \"w\") as f:\n",
    "    for i in range(len(patients_genomic)):\n",
    "       f.write(patients_genomic[i] + \"\\n\")"
   ]
  },
  {
   "cell_type": "markdown",
   "id": "fa61dba5-1170-438e-9b80-d2fb172be3a8",
   "metadata": {},
   "source": [
    "## Variant Counts per Patient\n",
    "Compute the average number of genomic and protein variants per patient."
   ]
  },
  {
   "cell_type": "code",
   "execution_count": 23,
   "id": "1f66967a-75ed-4a53-85c0-33d10ae9cc7b",
   "metadata": {},
   "outputs": [
    {
     "data": {
      "text/plain": [
       "6.263040815326572"
      ]
     },
     "execution_count": 23,
     "metadata": {},
     "output_type": "execute_result"
    }
   ],
   "source": [
    "counts = []\n",
    "for key in pvd_genomic:\n",
    "    counts.append(len(pvd_genomic[key]))\n",
    "sum(counts)/len(counts)"
   ]
  },
  {
   "cell_type": "code",
   "execution_count": 24,
   "id": "2a873fc1-f3dd-411b-a9a8-efb5e01746c7",
   "metadata": {},
   "outputs": [
    {
     "data": {
      "text/plain": [
       "5.682793441414131"
      ]
     },
     "execution_count": 24,
     "metadata": {},
     "output_type": "execute_result"
    }
   ],
   "source": [
    "counts = []\n",
    "for key in pvd_protein:\n",
    "    counts.append(len(pvd_protein[key]))\n",
    "sum(counts)/len(counts)"
   ]
  }
 ],
 "metadata": {
  "kernelspec": {
   "display_name": "Python 3 (ipykernel)",
   "language": "python",
   "name": "python3"
  },
  "language_info": {
   "codemirror_mode": {
    "name": "ipython",
    "version": 3
   },
   "file_extension": ".py",
   "mimetype": "text/x-python",
   "name": "python",
   "nbconvert_exporter": "python",
   "pygments_lexer": "ipython3",
   "version": "3.11.5"
  }
 },
 "nbformat": 4,
 "nbformat_minor": 5
}
