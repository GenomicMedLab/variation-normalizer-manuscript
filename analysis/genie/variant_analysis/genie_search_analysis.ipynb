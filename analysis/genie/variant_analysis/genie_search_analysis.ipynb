{
 "cells": [
  {
   "cell_type": "markdown",
   "id": "34b1fa10-28ad-44e4-b8a4-49aeef14b03e",
   "metadata": {},
   "source": [
    "# GENIE Search Analysis\n",
    "\n",
    "This notebook performs set intersections to determine matches between normalized variants from GENIE and normalized variants from CIViC, Molecular Oncology Almanac, and ClinVar."
   ]
  },
  {
   "cell_type": "markdown",
   "id": "8c7e6ac4-3e80-4abb-9b9c-8de41518e405",
   "metadata": {},
   "source": [
    "## Prerequisites\n",
    "The following notebook must be run before running this analysis: \n",
    "\n",
    "- `genie/pre_variant_analysis/genie_pre_variant_analysis.ipynb`\n",
    "\n",
    "This notebook uses `data_mutations_extended.txt` from Synapse. You will need to create an account to download data from [here](https://www.synapse.org/#!Synapse:syn51355986). This notebook expects the `data_mutations_extended.txt` to be in the same directory."
   ]
  },
  {
   "cell_type": "code",
   "execution_count": 1,
   "id": "8d53de2a-4620-4700-b34b-56035b651ffb",
   "metadata": {},
   "outputs": [],
   "source": [
    "# Import relevant libraries\n",
    "import ndjson\n",
    "import numpy as np\n",
    "import pandas as pd\n",
    "from pathlib import Path\n",
    "from botocore.config import Config\n",
    "import boto3\n",
    "import gzip\n",
    "from dotenv import load_dotenv"
   ]
  },
  {
   "cell_type": "code",
   "execution_count": 2,
   "id": "279c95d1-4bd8-4f6f-a88a-113774aa3ab1",
   "metadata": {},
   "outputs": [
    {
     "data": {
      "text/plain": [
       "True"
      ]
     },
     "execution_count": 2,
     "metadata": {},
     "output_type": "execute_result"
    }
   ],
   "source": [
    "load_dotenv()"
   ]
  },
  {
   "cell_type": "markdown",
   "id": "8aaa6a3f-8b65-4383-8f7a-4c72baff9487",
   "metadata": {},
   "source": [
    "## Load Data (CIViC, Molecular Oncology Almanac, ClinVar, GENIE)"
   ]
  },
  {
   "cell_type": "code",
   "execution_count": 3,
   "id": "22709d08-246b-4d37-a66f-f686f719cb1e",
   "metadata": {},
   "outputs": [],
   "source": [
    "# Load normalized variants for CIViC\n",
    "civic_variants = pd.read_csv(\"../../civic/variation_analysis/able_to_normalize_queries.csv\", sep=\"\\t\")"
   ]
  },
  {
   "cell_type": "code",
   "execution_count": 4,
   "id": "f8f40171-dcba-41c1-b464-26af010fd526",
   "metadata": {},
   "outputs": [],
   "source": [
    "# Load normalized variants for MOA\n",
    "moa_variants = pd.read_csv(\"../../moa/feature_analysis/able_to_normalize_queries.csv\", sep=\"\\t\")"
   ]
  },
  {
   "cell_type": "code",
   "execution_count": 5,
   "id": "2a3a2f5c-8ef3-46c5-8b78-b6c384102a6f",
   "metadata": {},
   "outputs": [],
   "source": [
    "# Load normalized variants for ClinVar. Please sign in through `aws sso login` before running the cell.\n",
    "s3 = boto3.resource(\"s3\", config=Config(region_name=\"us-east-2\"))\n",
    "bucket = s3.Bucket(\"nch-igm-wagner-lab-public\").objects.filter(Prefix=\"variation-normalizer-manuscript/output-variation_identity-vrs-1.3.ndjson.gz\")\n",
    "\n",
    "for file in bucket:\n",
    "    fn = file.key.split(\"/\")[-1]\n",
    "    with open(fn, \"wb\") as f:\n",
    "        file.Object().download_fileobj(f)\n",
    "\n",
    "with gzip.open('output-variation_identity-vrs-1.3.ndjson.gz', 'rb') as f:\n",
    "    records = ndjson.load(f)\n",
    "\n",
    "df0 = pd.json_normalize(records)\n",
    "clinvar_variants = df0.copy()"
   ]
  },
  {
   "cell_type": "code",
   "execution_count": 6,
   "id": "766f1db2-e2fb-49b9-8b7b-06eb1a9908f0",
   "metadata": {},
   "outputs": [
    {
     "name": "stderr",
     "output_type": "stream",
     "text": [
      "/var/folders/td/cxs_k_d9765dngqbd7hq2b0x9nlq5_/T/ipykernel_1868/4034063577.py:2: DtypeWarning: Columns (4) have mixed types. Specify dtype option on import or set low_memory=False.\n",
      "  genie_variants_df = pd.read_csv(\n"
     ]
    },
    {
     "data": {
      "text/plain": [
       "(1432052, 12)"
      ]
     },
     "execution_count": 6,
     "metadata": {},
     "output_type": "execute_result"
    }
   ],
   "source": [
    "# Get GENIE Variant data\n",
    "genie_variants_df = pd.read_csv(\n",
    "    \"data_mutations_extended.txt\", sep=\"\\t\",\n",
    "    usecols=[\n",
    "        \"Hugo_Symbol\", \n",
    "        \"NCBI_Build\",\n",
    "        \"Chromosome\", \n",
    "        \"Start_Position\", \n",
    "        \"End_Position\", \n",
    "        \"Tumor_Sample_Barcode\",\n",
    "        \"Reference_Allele\",\n",
    "        \"Tumor_Seq_Allele2\", \n",
    "        \"HGVSp_Short\",\n",
    "        \"dbSNP_RS\"\n",
    "    ]\n",
    ")\n",
    "#Some positions are '-', we drop nan below\n",
    "genie_variants_df = genie_variants_df.replace({\"-\": np.nan})\n",
    "\n",
    "genie_variants_df[\"free_text_p_short\"] = np.where(\n",
    "    ~genie_variants_df[\"Hugo_Symbol\"].isna() & ~genie_variants_df[\"HGVSp_Short\"].isna(),\n",
    "    genie_variants_df[\"Hugo_Symbol\"] + \" \" + genie_variants_df[\"HGVSp_Short\"],\n",
    "    np.nan\n",
    ")\n",
    "\n",
    "genie_variants_df[\"coordinates\"] = np.where(\n",
    "    ~genie_variants_df[\"Chromosome\"].isna() & ~genie_variants_df[\"Start_Position\"].isna() & ~genie_variants_df[\"End_Position\"].isna() & ~genie_variants_df[\"Reference_Allele\"].isna() & ~genie_variants_df[\"Tumor_Seq_Allele2\"].isna() & ~genie_variants_df[\"NCBI_Build\"].isna(),\n",
    "    genie_variants_df[\"Chromosome\"].astype(str) + \"-\" + genie_variants_df[\"Start_Position\"].astype(str) + \"-\" + genie_variants_df[\"Reference_Allele\"] + \"-\" + genie_variants_df[\"Tumor_Seq_Allele2\"],\n",
    "    np.nan\n",
    ")\n",
    "\n",
    "genie_variants_df.shape"
   ]
  },
  {
   "cell_type": "markdown",
   "id": "ed00e26a-936e-4761-9018-ba2971857215",
   "metadata": {},
   "source": [
    "### Normalized Genomic and Protein GENIE variants \n",
    "Due to GENIE licenses, please run the analysis notebook in `genie/pre_variant_analysis` to generate the datasets below."
   ]
  },
  {
   "cell_type": "code",
   "execution_count": 7,
   "id": "c1efda24-dd64-42de-9e27-1d76d9fd1bdb",
   "metadata": {},
   "outputs": [],
   "source": [
    "genie_genomic_normalized = pd.read_csv(\"able_to_normalize_genomic_queries.csv\",sep=\"\\t\")"
   ]
  },
  {
   "cell_type": "code",
   "execution_count": 8,
   "id": "45efc26f-f865-4a4d-92c8-1e8d29dcf5e5",
   "metadata": {},
   "outputs": [],
   "source": [
    "genie_protein_normalized = pd.read_csv(\"able_to_normalize_protein_queries.csv\",sep=\"\\t\")"
   ]
  },
  {
   "cell_type": "markdown",
   "id": "16e14634-84ab-428c-a86b-784c49088094",
   "metadata": {},
   "source": [
    "## Create Output Directory"
   ]
  },
  {
   "cell_type": "code",
   "execution_count": 9,
   "id": "9b0d9d3e-0b79-4b5e-8db8-5a13de17dbdb",
   "metadata": {},
   "outputs": [],
   "source": [
    "path = Path(\"variant_analysis_output\")\n",
    "path.mkdir(exist_ok = True)"
   ]
  },
  {
   "cell_type": "markdown",
   "id": "2324a30e-250a-45b6-a3bf-a023e855a92f",
   "metadata": {},
   "source": [
    "## Variant-Level Analysis\n",
    "In this section we perform set intersections to determine how many normalized variants from GENIE match to MOA, CIViC, and ClinVar."
   ]
  },
  {
   "cell_type": "code",
   "execution_count": 11,
   "id": "1db857a4-834a-458b-a9f9-d5fb19db32ea",
   "metadata": {},
   "outputs": [],
   "source": [
    "# Helper functions\n",
    "def write_to_file(filename: str, data: list) -> None:\n",
    "    with open(filename, \"w\") as f:\n",
    "        for match in data:\n",
    "            f.write(match + \"\\n\")\n",
    "\n",
    "def check_kb(var, kb):\n",
    "    return True if var in kb else False"
   ]
  },
  {
   "cell_type": "markdown",
   "id": "b85922d3-a86a-4f6b-9b32-cffde986a0bb",
   "metadata": {},
   "source": [
    "## MOA"
   ]
  },
  {
   "cell_type": "code",
   "execution_count": 12,
   "id": "d263cc59-5d6e-48a2-a3f0-f7e28d58d11a",
   "metadata": {},
   "outputs": [
    {
     "data": {
      "text/plain": [
       "'The number of matched protein variants in MOA is: 122'"
      ]
     },
     "execution_count": 12,
     "metadata": {},
     "output_type": "execute_result"
    }
   ],
   "source": [
    "# Intersect normalized GENIE protein variants with normalized MOA protein variants\n",
    "genie_moa_match = set(genie_protein_normalized[\"vrs_id\"].to_list()).intersection(set(moa_variants[\"vrs_id\"].to_list()))\n",
    "write_to_file(\"variant_analysis_output/genie_moa_match.txt\", list(genie_moa_match))\n",
    "f\"The number of matched protein variants in MOA is: {len(genie_moa_match)}\""
   ]
  },
  {
   "cell_type": "markdown",
   "id": "0e6d3a50-752d-4ffd-aa17-25e785ff9da8",
   "metadata": {},
   "source": [
    "## CIViC"
   ]
  },
  {
   "cell_type": "code",
   "execution_count": 13,
   "id": "989a0370-7e8a-48f9-8c96-1aa025d2d5ec",
   "metadata": {},
   "outputs": [
    {
     "data": {
      "text/plain": [
       "'The number of matched genomic variants in CIViC is: 203'"
      ]
     },
     "execution_count": 13,
     "metadata": {},
     "output_type": "execute_result"
    }
   ],
   "source": [
    "# Intersect normalized GENIE genomic variants with normalized CIViC variants\n",
    "genie_civic_match_genomic = set(genie_genomic_normalized[\"vrs_id\"].to_list()).intersection(set(civic_variants[\"vrs_id\"].to_list()))\n",
    "write_to_file(\"variant_analysis_output/genie_civic_match_genomic.txt\", genie_civic_match_genomic)\n",
    "f\"The number of matched genomic variants in CIViC is: {len(genie_civic_match_genomic)}\""
   ]
  },
  {
   "cell_type": "code",
   "execution_count": 14,
   "id": "affb9179-1552-4b88-88dd-04b2afc583fe",
   "metadata": {},
   "outputs": [
    {
     "data": {
      "text/plain": [
       "'The number of matched protein variants in CIViC is: 944'"
      ]
     },
     "execution_count": 14,
     "metadata": {},
     "output_type": "execute_result"
    }
   ],
   "source": [
    "# Intersect normalized GENIE protein variants with normalized CIViC variants\n",
    "genie_civic_match_protein = set(genie_protein_normalized[\"vrs_id\"].to_list()).intersection(set(civic_variants[\"vrs_id\"].to_list()))\n",
    "write_to_file(\"variant_analysis_output/genie_civic_match_protein.txt\", genie_civic_match_protein)\n",
    "f\"The number of matched protein variants in CIViC is: {len(genie_civic_match_protein)}\""
   ]
  },
  {
   "cell_type": "code",
   "execution_count": 15,
   "id": "e652af20-66da-4b52-bcc7-1587b518a7a8",
   "metadata": {},
   "outputs": [
    {
     "data": {
      "text/plain": [
       "'The number of matched GENIE variants in CIViC is: 1147'"
      ]
     },
     "execution_count": 15,
     "metadata": {},
     "output_type": "execute_result"
    }
   ],
   "source": [
    "# Inspect union of GENIE genomic and protein variants\n",
    "civic_genie_union = genie_civic_match_genomic.union(genie_civic_match_protein)\n",
    "write_to_file(\"variant_analysis_output/genie_civic_match_union.txt\", civic_genie_union)\n",
    "f\"The number of matched GENIE variants in CIViC is: {len(civic_genie_union)}\""
   ]
  },
  {
   "cell_type": "markdown",
   "id": "faa0c4c4-9a55-4623-b86b-d71a72cf5d3e",
   "metadata": {},
   "source": [
    "## ClinVar"
   ]
  },
  {
   "cell_type": "code",
   "execution_count": 16,
   "id": "1fc17464-19ba-4215-87b6-5293b8423b6a",
   "metadata": {},
   "outputs": [
    {
     "data": {
      "text/plain": [
       "'The number of matched GENIE genomic variants in ClinVar is: 94028'"
      ]
     },
     "execution_count": 16,
     "metadata": {},
     "output_type": "execute_result"
    }
   ],
   "source": [
    "# Intersect normalized GENIE genomic variants with normalized ClinVar variants\n",
    "genie_clinvar_match_genomic = set(genie_genomic_normalized[\"vrs_id\"].to_list()).intersection(set(clinvar_variants[\"out._id\"].to_list()))\n",
    "write_to_file(\"variant_analysis_output/genie_clinvar_match_genomic.txt\", genie_clinvar_match_genomic)\n",
    "f\"The number of matched GENIE genomic variants in ClinVar is: {len(genie_clinvar_match_genomic)}\""
   ]
  },
  {
   "cell_type": "code",
   "execution_count": 17,
   "id": "e88ff7f4-fca8-43d8-a683-014c768324c6",
   "metadata": {},
   "outputs": [
    {
     "data": {
      "text/plain": [
       "'The number of matched GENIE protein variants in ClinVar is: 0'"
      ]
     },
     "execution_count": 17,
     "metadata": {},
     "output_type": "execute_result"
    }
   ],
   "source": [
    "# Intersect normalized GENIE protein variants with normalized ClinVar variants\n",
    "genie_clinvar_match_protein = set(genie_protein_normalized[\"vrs_id\"].to_list()).intersection(set(clinvar_variants[\"out._id\"].to_list()))\n",
    "f\"The number of matched GENIE protein variants in ClinVar is: {len(genie_clinvar_match_protein)}\""
   ]
  },
  {
   "cell_type": "markdown",
   "id": "69cc2b8e-7ab0-43be-89af-b908339bbb11",
   "metadata": {},
   "source": [
    "## Patient-Level Analysis\n",
    "In this section we summarize variant matching at the patient level, with >= 1 shared variant counting as a match."
   ]
  },
  {
   "cell_type": "markdown",
   "id": "f457f72b-1875-4ffe-9c84-f9f237fd3d2b",
   "metadata": {},
   "source": [
    "### Filter to include normalized genomic and protein variants"
   ]
  },
  {
   "cell_type": "code",
   "execution_count": 18,
   "id": "8f75a102-fbd5-4aa4-af31-1bfd4a772bfe",
   "metadata": {},
   "outputs": [],
   "source": [
    "genomic_variants_dict = {}\n",
    "for i in range(len(genie_genomic_normalized)):\n",
    "    if genie_genomic_normalized.at[i, \"query\"] not in genomic_variants_dict:\n",
    "        genomic_variants_dict[genie_genomic_normalized.at[i, \"query\"]] = genie_genomic_normalized.at[i, \"vrs_id\"]"
   ]
  },
  {
   "cell_type": "code",
   "execution_count": 19,
   "id": "051a8986-05d6-4018-8f45-86bcdee1a1b5",
   "metadata": {},
   "outputs": [],
   "source": [
    "# Add genomic vrs_ids to genie_variants_df\n",
    "l = []\n",
    "queries = genie_variants_df[\"coordinates\"].to_list()\n",
    "for i in range(len(queries)):\n",
    "    if queries[i] in genomic_variants_dict:\n",
    "        l.append(genomic_variants_dict[queries[i]])\n",
    "    else:\n",
    "        l.append(np.nan)\n",
    "genie_variants_df[\"vrs_id_genomic\"] = l\n",
    "genie_variants_genomic = genie_variants_df[genie_variants_df[\"vrs_id_genomic\"].notna()]"
   ]
  },
  {
   "cell_type": "code",
   "execution_count": 20,
   "id": "b5a0102e-00fb-4518-84c5-f8ea0b59d330",
   "metadata": {},
   "outputs": [],
   "source": [
    "protein_variants_dict = {}\n",
    "for i in range(len(genie_protein_normalized)):\n",
    "    if genie_protein_normalized.at[i, \"query\"] not in protein_variants_dict:\n",
    "        protein_variants_dict[genie_protein_normalized.at[i, \"query\"]] = genie_protein_normalized.at[i, \"vrs_id\"]"
   ]
  },
  {
   "cell_type": "code",
   "execution_count": 21,
   "id": "d9e13f2e-6d1b-41f8-aaab-f7f86612aa57",
   "metadata": {},
   "outputs": [],
   "source": [
    "# Add protein vrs_ids to genie_variants_df\n",
    "l = []\n",
    "queries = genie_variants_df[\"free_text_p_short\"].to_list()\n",
    "for i in range(len(queries)):\n",
    "    if queries[i] in protein_variants_dict:\n",
    "        l.append(protein_variants_dict[queries[i]])\n",
    "    else:\n",
    "        l.append(np.nan)\n",
    "genie_variants_df[\"vrs_id_protein\"] = l\n",
    "genie_variants_protein = genie_variants_df[genie_variants_df[\"vrs_id_protein\"].notna()]"
   ]
  },
  {
   "cell_type": "code",
   "execution_count": 22,
   "id": "083cce45-4253-46b0-8f5b-13d2bd5f24fa",
   "metadata": {},
   "outputs": [],
   "source": [
    "# Add columns indicating which variants are in which knowledgebase\n",
    "genie_variants_df['in_civic_genomic'] = genie_variants_df['vrs_id_genomic'].map(lambda x: check_kb(x, genie_civic_match_genomic))\n",
    "genie_variants_df['in_clinvar'] = genie_variants_df['vrs_id_genomic'].map(lambda x: check_kb(x, genie_clinvar_match_genomic))\n",
    "genie_variants_df['in_civic_protein'] = genie_variants_df['vrs_id_protein'].map(lambda x: check_kb(x, genie_civic_match_protein))\n",
    "genie_variants_df['in_moa'] = genie_variants_df['vrs_id_protein'].map(lambda x: check_kb(x, genie_moa_match))"
   ]
  },
  {
   "cell_type": "code",
   "execution_count": 23,
   "id": "bebdbe0f-1189-41ec-b903-8ab0c97f0a9a",
   "metadata": {},
   "outputs": [],
   "source": [
    "# Create genomic variants patient dictionary\n",
    "pvd_genomic = dict()\n",
    "for index, row in genie_variants_genomic.iterrows():\n",
    "    key = row[\"Tumor_Sample_Barcode\"]\n",
    "    var = row[\"vrs_id_genomic\"]\n",
    "    if key in pvd_genomic:\n",
    "        curr = pvd_genomic[key]\n",
    "        if pd.isna(var) == False:\n",
    "            curr.append(var)\n",
    "        pvd_genomic[key] = curr\n",
    "    else:\n",
    "        if pd.isna(var) == False:\n",
    "            pvd_genomic[key]= [var]"
   ]
  },
  {
   "cell_type": "code",
   "execution_count": 24,
   "id": "f2710a39-95d0-4e0e-8f44-56ffb4721fb1",
   "metadata": {},
   "outputs": [],
   "source": [
    "# Create protein variants patient dictionary\n",
    "pvd_protein = dict()\n",
    "for index, row in genie_variants_protein.iterrows():\n",
    "    key = row[\"Tumor_Sample_Barcode\"]\n",
    "    var = row[\"vrs_id_protein\"]\n",
    "    if key in pvd_protein:\n",
    "        curr = pvd_protein[key]\n",
    "        if pd.isna(var) == False:\n",
    "            curr.append(var)\n",
    "        pvd_protein[key] = curr\n",
    "    else:\n",
    "        if pd.isna(var) == False:\n",
    "            pvd_protein[key]= [var]"
   ]
  },
  {
   "cell_type": "markdown",
   "id": "f4ee515b-7c6d-4084-9f52-9fdab03242f0",
   "metadata": {},
   "source": [
    "### MOA"
   ]
  },
  {
   "cell_type": "code",
   "execution_count": 25,
   "id": "d2ab75db-e501-4682-bcc7-ac7c6c4f1207",
   "metadata": {},
   "outputs": [
    {
     "data": {
      "text/plain": [
       "'There are 41828 patients with matching protein variant data in MOA'"
      ]
     },
     "execution_count": 25,
     "metadata": {},
     "output_type": "execute_result"
    }
   ],
   "source": [
    "count = 0\n",
    "patients = []\n",
    "for key in pvd_protein:\n",
    "    isect = set(pvd_protein[key]).intersection(genie_moa_match)\n",
    "    if len(isect) >= 1:\n",
    "        count += 1\n",
    "        patients.append(key)\n",
    "write_to_file(\"variant_analysis_output/moa_patient_match.txt\", patients)\n",
    "f\"There are {count} patients with matching protein variant data in MOA\""
   ]
  },
  {
   "cell_type": "markdown",
   "id": "aeb32052-4924-4f51-96c5-33c3b99446a0",
   "metadata": {},
   "source": [
    "### CIViC"
   ]
  },
  {
   "cell_type": "code",
   "execution_count": 26,
   "id": "1189e366-f61d-4063-982c-05b470110263",
   "metadata": {},
   "outputs": [
    {
     "data": {
      "text/plain": [
       "'There are 84673 patients with matching protein variant data in CIViC'"
      ]
     },
     "execution_count": 26,
     "metadata": {},
     "output_type": "execute_result"
    }
   ],
   "source": [
    "# Protein variants patient count\n",
    "count = 0\n",
    "patients_protein = []\n",
    "for key in pvd_protein:\n",
    "    isect = set(pvd_protein[key]).intersection(genie_civic_match_protein)\n",
    "    if len(isect) >= 1:\n",
    "        count += 1\n",
    "        patients_protein.append(key)\n",
    "write_to_file(\"variant_analysis_output/civic_protein_patient_match.txt\", patients_protein)\n",
    "f\"There are {count} patients with matching protein variant data in CIViC\""
   ]
  },
  {
   "cell_type": "code",
   "execution_count": 27,
   "id": "8a8275a9-c1e8-489d-926b-eb54d1ec1e6d",
   "metadata": {},
   "outputs": [
    {
     "data": {
      "text/plain": [
       "'There are 853 patients with matching genomic variant data in CIViC'"
      ]
     },
     "execution_count": 27,
     "metadata": {},
     "output_type": "execute_result"
    }
   ],
   "source": [
    "# Genomic variants patient count\n",
    "count = 0\n",
    "patients_genomic = []\n",
    "for key in pvd_genomic:\n",
    "    isect = set(pvd_genomic[key]).intersection(genie_civic_match_genomic)\n",
    "    if len(isect) >= 1:\n",
    "        count += 1\n",
    "        patients_genomic.append(key)\n",
    "write_to_file(\"variant_analysis_output/civic_genomic_patient_match.txt\", patients_genomic)\n",
    "f\"There are {count} patients with matching genomic variant data in CIViC\""
   ]
  },
  {
   "cell_type": "code",
   "execution_count": 28,
   "id": "41714c8d-816f-4c35-853f-4bc8807135da",
   "metadata": {},
   "outputs": [
    {
     "data": {
      "text/plain": [
       "272"
      ]
     },
     "execution_count": 28,
     "metadata": {},
     "output_type": "execute_result"
    }
   ],
   "source": [
    "# Compute number of patients with both genomic and protein variant overlap\n",
    "len(set(patients_genomic).intersection(set(patients_protein)))"
   ]
  },
  {
   "cell_type": "markdown",
   "id": "c42996b2-d106-4dfe-9239-760be7dbf657",
   "metadata": {},
   "source": [
    "### ClinVar"
   ]
  },
  {
   "cell_type": "code",
   "execution_count": 29,
   "id": "cc1f7965-5625-492e-bd0d-d9aa1e45b046",
   "metadata": {},
   "outputs": [
    {
     "data": {
      "text/plain": [
       "'There are 126235 patients with matching genomic variant data in ClinVar'"
      ]
     },
     "execution_count": 29,
     "metadata": {},
     "output_type": "execute_result"
    }
   ],
   "source": [
    "# Genomic variants patient count\n",
    "count = 0\n",
    "patients_genomic = []\n",
    "for key in pvd_genomic:\n",
    "    isect = set(pvd_genomic[key]).intersection(genie_clinvar_match_genomic)\n",
    "    if len(isect) >= 1:\n",
    "        count += 1\n",
    "        patients_genomic.append(key)\n",
    "write_to_file(\"variant_analysis_output/clinvar_patient_match.txt\", patients_genomic)\n",
    "f\"There are {count} patients with matching genomic variant data in ClinVar\""
   ]
  },
  {
   "cell_type": "markdown",
   "id": "fa61dba5-1170-438e-9b80-d2fb172be3a8",
   "metadata": {},
   "source": [
    "## Variant Counts per Patient\n",
    "Compute the average number of genomic and protein variants per patient."
   ]
  },
  {
   "cell_type": "code",
   "execution_count": 30,
   "id": "1f66967a-75ed-4a53-85c0-33d10ae9cc7b",
   "metadata": {},
   "outputs": [
    {
     "data": {
      "text/plain": [
       "8.565950208752126"
      ]
     },
     "execution_count": 30,
     "metadata": {},
     "output_type": "execute_result"
    }
   ],
   "source": [
    "counts = []\n",
    "for key in pvd_genomic:\n",
    "    counts.append(len(pvd_genomic[key]))\n",
    "sum(counts)/len(counts)"
   ]
  },
  {
   "cell_type": "code",
   "execution_count": 31,
   "id": "2a873fc1-f3dd-411b-a9a8-efb5e01746c7",
   "metadata": {},
   "outputs": [
    {
     "data": {
      "text/plain": [
       "7.838487315182816"
      ]
     },
     "execution_count": 31,
     "metadata": {},
     "output_type": "execute_result"
    }
   ],
   "source": [
    "counts = []\n",
    "for key in pvd_protein:\n",
    "    counts.append(len(pvd_protein[key]))\n",
    "sum(counts)/len(counts)"
   ]
  },
  {
   "cell_type": "code",
   "execution_count": 32,
   "id": "e43fb859-bc38-4ac6-bde4-1049cca17add",
   "metadata": {},
   "outputs": [],
   "source": [
    "patient_vars = dict()\n",
    "for index, row in genie_variants_df.iterrows():\n",
    "    key = row[\"Tumor_Sample_Barcode\"]\n",
    "    var_g = row[\"vrs_id_genomic\"]\n",
    "    var_p = row[\"vrs_id_protein\"]\n",
    "    if key in patient_vars:\n",
    "        if pd.isna(var_g) == True and pd.isna(var_p) == True:\n",
    "            continue\n",
    "        curr = patient_vars[key]\n",
    "        curr += 1\n",
    "        patient_vars[key] = curr\n",
    "    else:\n",
    "        if pd.isna(var_g) == True and pd.isna(var_p) == True:\n",
    "            continue\n",
    "        patient_vars[key] = 1"
   ]
  },
  {
   "cell_type": "code",
   "execution_count": 33,
   "id": "94a83937-bd72-436c-b7f5-2d89be02302f",
   "metadata": {},
   "outputs": [
    {
     "data": {
      "text/plain": [
       "8.581963247821301"
      ]
     },
     "execution_count": 33,
     "metadata": {},
     "output_type": "execute_result"
    }
   ],
   "source": [
    "# Average number of normalized variants per patient\n",
    "counts = []\n",
    "for key in patient_vars:\n",
    "    counts.append(patient_vars[key])\n",
    "sum(counts)/len(counts)"
   ]
  },
  {
   "cell_type": "code",
   "execution_count": 41,
   "id": "19030b9f-9e28-4037-8057-4a10ce217364",
   "metadata": {},
   "outputs": [
    {
     "data": {
      "text/plain": [
       "9.75133633398476"
      ]
     },
     "execution_count": 41,
     "metadata": {},
     "output_type": "execute_result"
    }
   ],
   "source": [
    "# Average number of total variants per patient\n",
    "n_variants = list(genie_variants_df.groupby('Tumor_Sample_Barcode').size())\n",
    "sum(n_variants)/len(n_variants)"
   ]
  },
  {
   "cell_type": "code",
   "execution_count": 45,
   "id": "c2c79bbc-c892-4378-9724-77e5af53f1a5",
   "metadata": {},
   "outputs": [],
   "source": [
    "def kb_match(df):\n",
    "    n_variants = list(df.groupby('Tumor_Sample_Barcode').size())\n",
    "    return sum(n_variants)/len(n_variants)"
   ]
  },
  {
   "cell_type": "code",
   "execution_count": 46,
   "id": "cab7d8e2-c722-43ae-9a3b-206cd0fc2662",
   "metadata": {},
   "outputs": [
    {
     "data": {
      "text/plain": [
       "1.010550996483001"
      ]
     },
     "execution_count": 46,
     "metadata": {},
     "output_type": "execute_result"
    }
   ],
   "source": [
    "# Normalized matched genomic variants per patient in CIViC\n",
    "genie_df_civic_genomic = genie_variants_df[genie_variants_df['in_civic_genomic'] == True]\n",
    "kb_match(genie_df_civic_genomic)"
   ]
  },
  {
   "cell_type": "code",
   "execution_count": 47,
   "id": "47fd7ee3-549b-4c4e-bc83-820ca6fd56d9",
   "metadata": {},
   "outputs": [
    {
     "data": {
      "text/plain": [
       "1.379766867832721"
      ]
     },
     "execution_count": 47,
     "metadata": {},
     "output_type": "execute_result"
    }
   ],
   "source": [
    "# Normalized matched protein variants per patient in CIViC\n",
    "genie_df_civic_protein = genie_variants_df[genie_variants_df['in_civic_protein'] == True]\n",
    "kb_match(genie_df_civic_protein)"
   ]
  },
  {
   "cell_type": "code",
   "execution_count": 48,
   "id": "708f2751-b1de-4f46-89db-b2a5a36bb3e7",
   "metadata": {},
   "outputs": [
    {
     "data": {
      "text/plain": [
       "1.0997417997513628"
      ]
     },
     "execution_count": 48,
     "metadata": {},
     "output_type": "execute_result"
    }
   ],
   "source": [
    "# Normalized matched protein variants per patient in MOA\n",
    "genie_df_moa = genie_variants_df[genie_variants_df['in_moa'] == True]\n",
    "kb_match(genie_df_moa)"
   ]
  },
  {
   "cell_type": "code",
   "execution_count": 49,
   "id": "0446237e-228c-4063-be4c-68e8d2cd5bac",
   "metadata": {},
   "outputs": [
    {
     "data": {
      "text/plain": [
       "3.1800609973462195"
      ]
     },
     "execution_count": 49,
     "metadata": {},
     "output_type": "execute_result"
    }
   ],
   "source": [
    "# Normalized matched genomic variants per patient in ClinVar\n",
    "genie_df_clinvar = genie_variants_df[genie_variants_df['in_clinvar'] == True]\n",
    "kb_match(genie_df_clinvar)"
   ]
  },
  {
   "cell_type": "code",
   "execution_count": 63,
   "id": "504863b3-41d2-4efb-990f-996d876ed9a8",
   "metadata": {},
   "outputs": [
    {
     "data": {
      "text/plain": [
       "3.179842726703992"
      ]
     },
     "execution_count": 63,
     "metadata": {},
     "output_type": "execute_result"
    }
   ],
   "source": [
    "# Normalized matching across knowlegebases, genomic\n",
    "genie_df_genomic_combined = genie_variants_df[(genie_variants_df['in_civic_genomic'] == True) | (genie_variants_df['in_clinvar'] == True)]\n",
    "kb_match(genie_df_genomic_combined)"
   ]
  },
  {
   "cell_type": "code",
   "execution_count": 64,
   "id": "1913e698-1fa6-4946-ba35-a9e53193d401",
   "metadata": {},
   "outputs": [
    {
     "data": {
      "text/plain": [
       "1.3912535079513564"
      ]
     },
     "execution_count": 64,
     "metadata": {},
     "output_type": "execute_result"
    }
   ],
   "source": [
    "# Normalized matching across knowlegebases, protein\n",
    "genie_df_protein_combined = genie_variants_df[(genie_variants_df['in_civic_protein'] == True) | (genie_variants_df['in_moa'] == True)]\n",
    "kb_match(genie_df_protein_combined)"
   ]
  },
  {
   "cell_type": "code",
   "execution_count": 65,
   "id": "ba47c5e1-18ac-44a3-b6c3-ea85b20dadfe",
   "metadata": {},
   "outputs": [
    {
     "data": {
      "text/plain": [
       "3.203230538710766"
      ]
     },
     "execution_count": 65,
     "metadata": {},
     "output_type": "execute_result"
    }
   ],
   "source": [
    "# Nomralized matching across all knowledgebases\n",
    "genie_df_filtered= genie_variants_df[(genie_variants_df['in_civic_protein'] == True) | (genie_variants_df['in_moa'] == True) |\n",
    "(genie_variants_df['in_civic_genomic'] == True) | (genie_variants_df['in_clinvar'] == True)]\n",
    "kb_match(genie_df_filtered)"
   ]
  }
 ],
 "metadata": {
  "kernelspec": {
   "display_name": "Python 3 (ipykernel)",
   "language": "python",
   "name": "python3"
  },
  "language_info": {
   "codemirror_mode": {
    "name": "ipython",
    "version": 3
   },
   "file_extension": ".py",
   "mimetype": "text/x-python",
   "name": "python",
   "nbconvert_exporter": "python",
   "pygments_lexer": "ipython3",
   "version": "3.11.5"
  }
 },
 "nbformat": 4,
 "nbformat_minor": 5
}
