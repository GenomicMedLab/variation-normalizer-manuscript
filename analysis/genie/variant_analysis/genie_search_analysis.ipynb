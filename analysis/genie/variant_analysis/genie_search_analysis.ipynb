{
 "cells": [
  {
   "cell_type": "markdown",
   "id": "34b1fa10-28ad-44e4-b8a4-49aeef14b03e",
   "metadata": {},
   "source": [
    "# GENIE Search Analysis\n",
    "This notebook performs set intersections to determine matches between normalized variants from GENIE and normalized variants from CIViC, Molecular Oncology Almanac, and ClinVar."
   ]
  },
  {
   "cell_type": "code",
   "execution_count": 1,
   "id": "8d53de2a-4620-4700-b34b-56035b651ffb",
   "metadata": {},
   "outputs": [],
   "source": [
    "# Import relevant libraries\n",
    "import logging\n",
    "import csv\n",
    "from datetime import datetime\n",
    "import ndjson\n",
    "import numpy as np\n",
    "import pandas as pd\n",
    "from pathlib import Path\n",
    "from boto3.exceptions import ResourceLoadException\n",
    "from botocore.config import Config\n",
    "import boto3\n",
    "import gzip\n",
    "from dotenv import load_dotenv"
   ]
  },
  {
   "cell_type": "code",
   "execution_count": 2,
   "id": "279c95d1-4bd8-4f6f-a88a-113774aa3ab1",
   "metadata": {},
   "outputs": [
    {
     "data": {
      "text/plain": [
       "True"
      ]
     },
     "execution_count": 2,
     "metadata": {},
     "output_type": "execute_result"
    }
   ],
   "source": [
    "load_dotenv()"
   ]
  },
  {
   "cell_type": "markdown",
   "id": "8aaa6a3f-8b65-4383-8f7a-4c72baff9487",
   "metadata": {},
   "source": [
    "## Load Data (CIViC, Molecular Oncology Almanac, ClinVar)"
   ]
  },
  {
   "cell_type": "code",
   "execution_count": 3,
   "id": "22709d08-246b-4d37-a66f-f686f719cb1e",
   "metadata": {},
   "outputs": [],
   "source": [
    "# Load normalized variants for CIViC, MOA, and ClinVar.\n",
    "civic_variants = pd.read_csv(\"../../civic/variation_analysis/able_to_normalize_queries.csv\", sep=\"\\t\")\n",
    "moa_variants = pd.read_csv(\"../../moa/feature_analysis/able_to_normalize_queries.csv\", sep=\"\\t\")\n",
    "\n",
    "#to refresh SSO session, run aws sso login\n",
    "s3 = boto3.resource(\"s3\", config=Config(region_name=\"us-east-2\"))\n",
    "bucket = s3.Bucket(\"nch-igm-wagner-lab-public\").objects.filter(Prefix=\"variation-normalizer-manuscript/output-variation_identity-vrs-1.3.ndjson.gz\")\n",
    "\n",
    "for file in bucket:\n",
    "    fn = file.key.split(\"/\")[-1]\n",
    "    with open(fn, \"wb\") as f:\n",
    "        file.Object().download_fileobj(f)\n",
    "\n",
    "with gzip.open('output-variation_identity-vrs-1.3.ndjson.gz', 'rb') as f:\n",
    "    records = ndjson.load(f)\n",
    "\n",
    "df0 = pd.json_normalize(records)\n",
    "clinvar_variants = df0.copy()"
   ]
  },
  {
   "cell_type": "code",
   "execution_count": 4,
   "id": "766f1db2-e2fb-49b9-8b7b-06eb1a9908f0",
   "metadata": {},
   "outputs": [
    {
     "name": "stderr",
     "output_type": "stream",
     "text": [
      "/var/folders/td/cxs_k_d9765dngqbd7hq2b0x9nlq5_/T/ipykernel_35953/1991849804.py:2: DtypeWarning: Columns (4) have mixed types. Specify dtype option on import or set low_memory=False.\n",
      "  genie_variants_df = pd.read_csv(\n"
     ]
    },
    {
     "data": {
      "text/plain": [
       "(1219725, 12)"
      ]
     },
     "execution_count": 4,
     "metadata": {},
     "output_type": "execute_result"
    }
   ],
   "source": [
    "# Get GENIE Variant data\n",
    "genie_variants_df = pd.read_csv(\n",
    "    \"data_mutations_extended.txt\", sep=\"\\t\",\n",
    "    usecols=[\n",
    "        \"Hugo_Symbol\", \n",
    "        \"NCBI_Build\",\n",
    "        \"Chromosome\", \n",
    "        \"Start_Position\", \n",
    "        \"End_Position\", \n",
    "        \"Tumor_Sample_Barcode\",\n",
    "        \"Reference_Allele\",\n",
    "        \"Tumor_Seq_Allele2\", \n",
    "        \"HGVSp_Short\",\n",
    "        \"dbSNP_RS\"\n",
    "    ]\n",
    ")\n",
    "#Some positions are '-', we drop nan below\n",
    "genie_variants_df = genie_variants_df.replace({\"-\": np.nan})\n",
    "\n",
    "genie_variants_df[\"free_text_p_short\"] = np.where(\n",
    "    ~genie_variants_df[\"Hugo_Symbol\"].isna() & ~genie_variants_df[\"HGVSp_Short\"].isna(),\n",
    "    genie_variants_df[\"Hugo_Symbol\"] + \" \" + genie_variants_df[\"HGVSp_Short\"],\n",
    "    np.nan\n",
    ")\n",
    "\n",
    "genie_variants_df[\"coordinates\"] = np.where(\n",
    "    ~genie_variants_df[\"Chromosome\"].isna() & ~genie_variants_df[\"Start_Position\"].isna() & ~genie_variants_df[\"End_Position\"].isna() & ~genie_variants_df[\"Reference_Allele\"].isna() & ~genie_variants_df[\"Tumor_Seq_Allele2\"].isna() & ~genie_variants_df[\"NCBI_Build\"].isna(),\n",
    "    genie_variants_df[\"Chromosome\"].astype(str) + \"-\" + genie_variants_df[\"Start_Position\"].astype(str) + \"-\" + genie_variants_df[\"Reference_Allele\"] + \"-\" + genie_variants_df[\"Tumor_Seq_Allele2\"],\n",
    "    np.nan\n",
    ")\n",
    "\n",
    "genie_variants_df = genie_variants_df[genie_variants_df[\"free_text_p_short\"].notna()]\n",
    "genie_variants_df = genie_variants_df[genie_variants_df[\"coordinates\"].notna()]\n",
    "genie_variants_df.shape"
   ]
  },
  {
   "cell_type": "code",
   "execution_count": 5,
   "id": "2c870394-1c8c-44ea-b881-470d45512424",
   "metadata": {},
   "outputs": [
    {
     "data": {
      "text/html": [
       "<div>\n",
       "<style scoped>\n",
       "    .dataframe tbody tr th:only-of-type {\n",
       "        vertical-align: middle;\n",
       "    }\n",
       "\n",
       "    .dataframe tbody tr th {\n",
       "        vertical-align: top;\n",
       "    }\n",
       "\n",
       "    .dataframe thead th {\n",
       "        text-align: right;\n",
       "    }\n",
       "</style>\n",
       "<table border=\"1\" class=\"dataframe\">\n",
       "  <thead>\n",
       "    <tr style=\"text-align: right;\">\n",
       "      <th></th>\n",
       "      <th>Hugo_Symbol</th>\n",
       "      <th>NCBI_Build</th>\n",
       "      <th>Chromosome</th>\n",
       "      <th>Start_Position</th>\n",
       "      <th>End_Position</th>\n",
       "      <th>Reference_Allele</th>\n",
       "      <th>Tumor_Seq_Allele2</th>\n",
       "      <th>dbSNP_RS</th>\n",
       "      <th>Tumor_Sample_Barcode</th>\n",
       "      <th>HGVSp_Short</th>\n",
       "      <th>free_text_p_short</th>\n",
       "      <th>coordinates</th>\n",
       "    </tr>\n",
       "  </thead>\n",
       "  <tbody>\n",
       "    <tr>\n",
       "      <th>0</th>\n",
       "      <td>KRAS</td>\n",
       "      <td>GRCh37</td>\n",
       "      <td>12</td>\n",
       "      <td>25398285</td>\n",
       "      <td>25398285</td>\n",
       "      <td>C</td>\n",
       "      <td>A</td>\n",
       "      <td>rs121913530</td>\n",
       "      <td>GENIE-JHU-00006-00185</td>\n",
       "      <td>p.G12C</td>\n",
       "      <td>KRAS p.G12C</td>\n",
       "      <td>12-25398285-C-A</td>\n",
       "    </tr>\n",
       "    <tr>\n",
       "      <th>1</th>\n",
       "      <td>BRAF</td>\n",
       "      <td>GRCh37</td>\n",
       "      <td>7</td>\n",
       "      <td>140453136</td>\n",
       "      <td>140453136</td>\n",
       "      <td>A</td>\n",
       "      <td>T</td>\n",
       "      <td>rs113488022</td>\n",
       "      <td>GENIE-JHU-00006-00185</td>\n",
       "      <td>p.V600E</td>\n",
       "      <td>BRAF p.V600E</td>\n",
       "      <td>7-140453136-A-T</td>\n",
       "    </tr>\n",
       "    <tr>\n",
       "      <th>2</th>\n",
       "      <td>EGFR</td>\n",
       "      <td>GRCh37</td>\n",
       "      <td>7</td>\n",
       "      <td>55249071</td>\n",
       "      <td>55249071</td>\n",
       "      <td>C</td>\n",
       "      <td>T</td>\n",
       "      <td>rs121434569</td>\n",
       "      <td>GENIE-JHU-00006-00185</td>\n",
       "      <td>p.T790M</td>\n",
       "      <td>EGFR p.T790M</td>\n",
       "      <td>7-55249071-C-T</td>\n",
       "    </tr>\n",
       "    <tr>\n",
       "      <th>3</th>\n",
       "      <td>TP53</td>\n",
       "      <td>GRCh37</td>\n",
       "      <td>17</td>\n",
       "      <td>7577120</td>\n",
       "      <td>7577120</td>\n",
       "      <td>C</td>\n",
       "      <td>T</td>\n",
       "      <td>rs28934576</td>\n",
       "      <td>GENIE-JHU-00006-00185</td>\n",
       "      <td>p.R273H</td>\n",
       "      <td>TP53 p.R273H</td>\n",
       "      <td>17-7577120-C-T</td>\n",
       "    </tr>\n",
       "    <tr>\n",
       "      <th>4</th>\n",
       "      <td>NRAS</td>\n",
       "      <td>GRCh37</td>\n",
       "      <td>1</td>\n",
       "      <td>115256529</td>\n",
       "      <td>115256529</td>\n",
       "      <td>T</td>\n",
       "      <td>C</td>\n",
       "      <td>rs11554290</td>\n",
       "      <td>GENIE-JHU-00006-00185</td>\n",
       "      <td>p.Q61R</td>\n",
       "      <td>NRAS p.Q61R</td>\n",
       "      <td>1-115256529-T-C</td>\n",
       "    </tr>\n",
       "  </tbody>\n",
       "</table>\n",
       "</div>"
      ],
      "text/plain": [
       "  Hugo_Symbol NCBI_Build Chromosome  Start_Position  End_Position  \\\n",
       "0        KRAS     GRCh37         12        25398285      25398285   \n",
       "1        BRAF     GRCh37          7       140453136     140453136   \n",
       "2        EGFR     GRCh37          7        55249071      55249071   \n",
       "3        TP53     GRCh37         17         7577120       7577120   \n",
       "4        NRAS     GRCh37          1       115256529     115256529   \n",
       "\n",
       "  Reference_Allele Tumor_Seq_Allele2     dbSNP_RS   Tumor_Sample_Barcode  \\\n",
       "0                C                 A  rs121913530  GENIE-JHU-00006-00185   \n",
       "1                A                 T  rs113488022  GENIE-JHU-00006-00185   \n",
       "2                C                 T  rs121434569  GENIE-JHU-00006-00185   \n",
       "3                C                 T   rs28934576  GENIE-JHU-00006-00185   \n",
       "4                T                 C   rs11554290  GENIE-JHU-00006-00185   \n",
       "\n",
       "  HGVSp_Short free_text_p_short      coordinates  \n",
       "0      p.G12C       KRAS p.G12C  12-25398285-C-A  \n",
       "1     p.V600E      BRAF p.V600E  7-140453136-A-T  \n",
       "2     p.T790M      EGFR p.T790M   7-55249071-C-T  \n",
       "3     p.R273H      TP53 p.R273H   17-7577120-C-T  \n",
       "4      p.Q61R       NRAS p.Q61R  1-115256529-T-C  "
      ]
     },
     "execution_count": 5,
     "metadata": {},
     "output_type": "execute_result"
    }
   ],
   "source": [
    "genie_variants_df.head()"
   ]
  },
  {
   "cell_type": "markdown",
   "id": "ed00e26a-936e-4761-9018-ba2971857215",
   "metadata": {},
   "source": [
    "### Normalized Genomic and Protein GENIE variants. \n",
    "Due to GENIE licenses, please run the analysis notebook in genie/pre_variant_analysis to generate the datasets below."
   ]
  },
  {
   "cell_type": "code",
   "execution_count": 6,
   "id": "c1efda24-dd64-42de-9e27-1d76d9fd1bdb",
   "metadata": {},
   "outputs": [
    {
     "data": {
      "text/html": [
       "<div>\n",
       "<style scoped>\n",
       "    .dataframe tbody tr th:only-of-type {\n",
       "        vertical-align: middle;\n",
       "    }\n",
       "\n",
       "    .dataframe tbody tr th {\n",
       "        vertical-align: top;\n",
       "    }\n",
       "\n",
       "    .dataframe thead th {\n",
       "        text-align: right;\n",
       "    }\n",
       "</style>\n",
       "<table border=\"1\" class=\"dataframe\">\n",
       "  <thead>\n",
       "    <tr style=\"text-align: right;\">\n",
       "      <th></th>\n",
       "      <th>query</th>\n",
       "      <th>vrs_id</th>\n",
       "      <th>succeeded_endpoint</th>\n",
       "    </tr>\n",
       "  </thead>\n",
       "  <tbody>\n",
       "    <tr>\n",
       "      <th>0</th>\n",
       "      <td>12-25398285-C-A</td>\n",
       "      <td>ga4gh:VA.29aaPq9c0e1lwJWtXIkgtLzN8cv1xxAe</td>\n",
       "      <td>normalize</td>\n",
       "    </tr>\n",
       "    <tr>\n",
       "      <th>1</th>\n",
       "      <td>7-140453136-A-T</td>\n",
       "      <td>ga4gh:VA.fZiBjQEolbkL0AxjoTZf4SOkFy9J0ebU</td>\n",
       "      <td>normalize</td>\n",
       "    </tr>\n",
       "    <tr>\n",
       "      <th>2</th>\n",
       "      <td>7-55249071-C-T</td>\n",
       "      <td>ga4gh:VA.1ewlywoD423K7YH_K4YefZg6J_87pQTp</td>\n",
       "      <td>normalize</td>\n",
       "    </tr>\n",
       "    <tr>\n",
       "      <th>3</th>\n",
       "      <td>17-7577120-C-T</td>\n",
       "      <td>ga4gh:VA.AB-I5SlEJvtzl4BbOetee0MMtItNsmFC</td>\n",
       "      <td>normalize</td>\n",
       "    </tr>\n",
       "    <tr>\n",
       "      <th>4</th>\n",
       "      <td>1-115256529-T-C</td>\n",
       "      <td>ga4gh:VA.6uUGtcvxhZGl7lisrIOPRqkpD5jOcfXl</td>\n",
       "      <td>normalize</td>\n",
       "    </tr>\n",
       "  </tbody>\n",
       "</table>\n",
       "</div>"
      ],
      "text/plain": [
       "             query                                     vrs_id  \\\n",
       "0  12-25398285-C-A  ga4gh:VA.29aaPq9c0e1lwJWtXIkgtLzN8cv1xxAe   \n",
       "1  7-140453136-A-T  ga4gh:VA.fZiBjQEolbkL0AxjoTZf4SOkFy9J0ebU   \n",
       "2   7-55249071-C-T  ga4gh:VA.1ewlywoD423K7YH_K4YefZg6J_87pQTp   \n",
       "3   17-7577120-C-T  ga4gh:VA.AB-I5SlEJvtzl4BbOetee0MMtItNsmFC   \n",
       "4  1-115256529-T-C  ga4gh:VA.6uUGtcvxhZGl7lisrIOPRqkpD5jOcfXl   \n",
       "\n",
       "  succeeded_endpoint  \n",
       "0          normalize  \n",
       "1          normalize  \n",
       "2          normalize  \n",
       "3          normalize  \n",
       "4          normalize  "
      ]
     },
     "execution_count": 6,
     "metadata": {},
     "output_type": "execute_result"
    }
   ],
   "source": [
    "able_to_normalize_genomic = pd.read_csv(\"able_to_normalize_genomic_queries.csv\",sep=\"\\t\")\n",
    "able_to_normalize_genomic.head()"
   ]
  },
  {
   "cell_type": "code",
   "execution_count": 7,
   "id": "45efc26f-f865-4a4d-92c8-1e8d29dcf5e5",
   "metadata": {},
   "outputs": [
    {
     "data": {
      "text/html": [
       "<div>\n",
       "<style scoped>\n",
       "    .dataframe tbody tr th:only-of-type {\n",
       "        vertical-align: middle;\n",
       "    }\n",
       "\n",
       "    .dataframe tbody tr th {\n",
       "        vertical-align: top;\n",
       "    }\n",
       "\n",
       "    .dataframe thead th {\n",
       "        text-align: right;\n",
       "    }\n",
       "</style>\n",
       "<table border=\"1\" class=\"dataframe\">\n",
       "  <thead>\n",
       "    <tr style=\"text-align: right;\">\n",
       "      <th></th>\n",
       "      <th>query</th>\n",
       "      <th>vrs_id</th>\n",
       "      <th>succeeded_endpoint</th>\n",
       "    </tr>\n",
       "  </thead>\n",
       "  <tbody>\n",
       "    <tr>\n",
       "      <th>0</th>\n",
       "      <td>KRAS p.G12C</td>\n",
       "      <td>ga4gh:VA.GtaY-fkmnMXM-bRKyu5qvya6Zd47AM_X</td>\n",
       "      <td>normalize</td>\n",
       "    </tr>\n",
       "    <tr>\n",
       "      <th>1</th>\n",
       "      <td>BRAF p.V600E</td>\n",
       "      <td>ga4gh:VA.ZDdoQdURgO2Daj2NxLj4pcDnjiiAsfbO</td>\n",
       "      <td>normalize</td>\n",
       "    </tr>\n",
       "    <tr>\n",
       "      <th>2</th>\n",
       "      <td>EGFR p.T790M</td>\n",
       "      <td>ga4gh:VA.BldHTcxmxpKf1exsSbeuki1jhdek1GaJ</td>\n",
       "      <td>normalize</td>\n",
       "    </tr>\n",
       "    <tr>\n",
       "      <th>3</th>\n",
       "      <td>TP53 p.R273H</td>\n",
       "      <td>ga4gh:VA.kcPAoam8e66opWWbjcHmCNQ7DbgOV1Uq</td>\n",
       "      <td>normalize</td>\n",
       "    </tr>\n",
       "    <tr>\n",
       "      <th>4</th>\n",
       "      <td>NRAS p.Q61R</td>\n",
       "      <td>ga4gh:VA.UtLI1rrsdnYpKO9B6xHJBsUHmJ6tRrYn</td>\n",
       "      <td>normalize</td>\n",
       "    </tr>\n",
       "  </tbody>\n",
       "</table>\n",
       "</div>"
      ],
      "text/plain": [
       "          query                                     vrs_id succeeded_endpoint\n",
       "0   KRAS p.G12C  ga4gh:VA.GtaY-fkmnMXM-bRKyu5qvya6Zd47AM_X          normalize\n",
       "1  BRAF p.V600E  ga4gh:VA.ZDdoQdURgO2Daj2NxLj4pcDnjiiAsfbO          normalize\n",
       "2  EGFR p.T790M  ga4gh:VA.BldHTcxmxpKf1exsSbeuki1jhdek1GaJ          normalize\n",
       "3  TP53 p.R273H  ga4gh:VA.kcPAoam8e66opWWbjcHmCNQ7DbgOV1Uq          normalize\n",
       "4   NRAS p.Q61R  ga4gh:VA.UtLI1rrsdnYpKO9B6xHJBsUHmJ6tRrYn          normalize"
      ]
     },
     "execution_count": 7,
     "metadata": {},
     "output_type": "execute_result"
    }
   ],
   "source": [
    "able_to_normalize_protein = pd.read_csv(\"able_to_normalize_protein_queries.csv\",sep=\"\\t\")\n",
    "able_to_normalize_protein.head()"
   ]
  },
  {
   "cell_type": "markdown",
   "id": "16e14634-84ab-428c-a86b-784c49088094",
   "metadata": {},
   "source": [
    "## Create Output Directory"
   ]
  },
  {
   "cell_type": "code",
   "execution_count": 8,
   "id": "9b0d9d3e-0b79-4b5e-8db8-5a13de17dbdb",
   "metadata": {},
   "outputs": [],
   "source": [
    "path = Path(\"variant_analysis_output\")\n",
    "path.mkdir(exist_ok = True)"
   ]
  },
  {
   "cell_type": "markdown",
   "id": "2324a30e-250a-45b6-a3bf-a023e855a92f",
   "metadata": {},
   "source": [
    "## Variant-Level Analysis\n",
    "In this section we perform set intersections to determine how many normalized variants from GENIE match to MOA, CIViC, and ClinVar."
   ]
  },
  {
   "cell_type": "markdown",
   "id": "b85922d3-a86a-4f6b-9b32-cffde986a0bb",
   "metadata": {},
   "source": [
    "## MOA"
   ]
  },
  {
   "cell_type": "code",
   "execution_count": 9,
   "id": "d263cc59-5d6e-48a2-a3f0-f7e28d58d11a",
   "metadata": {},
   "outputs": [
    {
     "name": "stdout",
     "output_type": "stream",
     "text": [
      "The number of matched protein variants in MOA is: 122\n"
     ]
    }
   ],
   "source": [
    "# Intersect normalized GENIE protein variants with normalized MOA protein variants\n",
    "genie_moa_match = set(able_to_normalize_protein[\"vrs_id\"].to_list()).intersection(set(moa_variants[\"vrs_id\"].to_list()))\n",
    "print(f\"The number of matched protein variants in MOA is: {len(genie_moa_match)}\")\n",
    "with open(\"variant_analysis_output/genie_moa_match.txt\", \"w\") as f:\n",
    "    genie_moa_match = list(genie_moa_match)\n",
    "    for i in range(len(genie_moa_match)):\n",
    "        f.write(genie_moa_match[i] + \"\\n\")\n",
    "f.close()"
   ]
  },
  {
   "cell_type": "markdown",
   "id": "0e6d3a50-752d-4ffd-aa17-25e785ff9da8",
   "metadata": {},
   "source": [
    "## CIViC"
   ]
  },
  {
   "cell_type": "code",
   "execution_count": 10,
   "id": "191f1f5d-9aa9-4b49-a690-615f1eea2449",
   "metadata": {},
   "outputs": [
    {
     "name": "stdout",
     "output_type": "stream",
     "text": [
      "The number of matched genomic variants in CIViC is: 203\n",
      "The number of matched protein variants in CIViC is: 944\n",
      "The number of matched GENIE variants in CIViC is: 1147\n"
     ]
    }
   ],
   "source": [
    "# Intersect normalized GENIE genomic and protein variants with normalized CIViC variants\n",
    "genie_civic_match_genomic = set(able_to_normalize_genomic[\"vrs_id\"].to_list()).intersection(set(civic_variants[\"vrs_id\"].to_list()))\n",
    "print(f\"The number of matched genomic variants in CIViC is: {len(genie_civic_match_genomic)}\")\n",
    "with open(\"variant_analysis_output/genie_civic_match_genomic.txt\", \"w\") as f:\n",
    "    genie_civic_match_g = list(genie_civic_match_genomic)\n",
    "    for i in range(len(genie_civic_match_g)):\n",
    "        f.write(genie_civic_match_g[i] + \"\\n\")\n",
    "f.close()\n",
    "\n",
    "genie_civic_match_protein = set(able_to_normalize_protein[\"vrs_id\"].to_list()).intersection(set(civic_variants[\"vrs_id\"].to_list()))\n",
    "print(f\"The number of matched protein variants in CIViC is: {len(genie_civic_match_protein)}\")\n",
    "with open(\"variant_analysis_output/genie_civic_match_protein.txt\", \"w\") as f:\n",
    "    genie_civic_match_p = list(genie_civic_match_protein)\n",
    "    for i in range(len(genie_civic_match_p)):\n",
    "        f.write(genie_civic_match_p[i] + \"\\n\")\n",
    "f.close()\n",
    "\n",
    "civic_genie_union = genie_civic_match_genomic.union(genie_civic_match_protein)\n",
    "print(f\"The number of matched GENIE variants in CIViC is: {len(civic_genie_union)}\")\n",
    "with open(\"variant_analysis_output/genie_civic_match_union.txt\", \"w\") as f:\n",
    "    genie_civic_match_union = list(civic_genie_union)\n",
    "    for i in range(len(genie_civic_match_union)):\n",
    "        f.write(genie_civic_match_union[i] + \"\\n\")\n",
    "f.close()"
   ]
  },
  {
   "cell_type": "markdown",
   "id": "faa0c4c4-9a55-4623-b86b-d71a72cf5d3e",
   "metadata": {},
   "source": [
    "## ClinVar"
   ]
  },
  {
   "cell_type": "code",
   "execution_count": 11,
   "id": "1fc17464-19ba-4215-87b6-5293b8423b6a",
   "metadata": {},
   "outputs": [
    {
     "name": "stdout",
     "output_type": "stream",
     "text": [
      "The number of matched GENIE genomic variants in ClinVar is: 94028\n"
     ]
    }
   ],
   "source": [
    "# Intersect normalized GENIE genomic variants with normalized ClinVar variants\n",
    "genie_clinvar_match_genomic = set(able_to_normalize_genomic[\"vrs_id\"].to_list()).intersection(set(clinvar_variants[\"out._id\"].to_list()))\n",
    "print(f\"The number of matched GENIE genomic variants in ClinVar is: {len(genie_clinvar_match_genomic)}\")\n",
    "with open(\"variant_analysis_output/genie_clinvar_match_genomic.txt\", \"w\") as f:\n",
    "    genie_clinvar_match_genomic = list(genie_clinvar_match_genomic)\n",
    "    for i in range(len(genie_clinvar_match_genomic)):\n",
    "        f.write(genie_clinvar_match_genomic[i] + \"\\n\")\n",
    "f.close()"
   ]
  },
  {
   "cell_type": "code",
   "execution_count": 12,
   "id": "e88ff7f4-fca8-43d8-a683-014c768324c6",
   "metadata": {},
   "outputs": [
    {
     "name": "stdout",
     "output_type": "stream",
     "text": [
      "The number of matched GENIE protein variants in ClinVar is: 0\n"
     ]
    }
   ],
   "source": [
    "# Intersect normalized GENIE protein variants with normalized ClinVar variants\n",
    "genie_clinvar_match_protein = set(able_to_normalize_protein[\"vrs_id\"].to_list()).intersection(set(clinvar_variants[\"out._id\"].to_list()))\n",
    "print(f\"The number of matched GENIE protein variants in ClinVar is: {len(genie_clinvar_match_protein)}\")"
   ]
  },
  {
   "cell_type": "markdown",
   "id": "69cc2b8e-7ab0-43be-89af-b908339bbb11",
   "metadata": {},
   "source": [
    "## Patient-Level Analysis\n",
    "In this section we summarize variant matching at the patient level, with >= 1 shared variant counting as a match."
   ]
  },
  {
   "cell_type": "markdown",
   "id": "f457f72b-1875-4ffe-9c84-f9f237fd3d2b",
   "metadata": {},
   "source": [
    "### Filter to include normalized genomic and protein variants"
   ]
  },
  {
   "cell_type": "code",
   "execution_count": 15,
   "id": "43041e58-077e-4846-a5d7-1a4dfd28d93c",
   "metadata": {},
   "outputs": [],
   "source": [
    "normalized_queries_genomic = able_to_normalize_genomic[\"query\"].to_list()\n",
    "queries = genie_variants_df['coordinates'].to_list()\n",
    "rows_to_keep_genomic = [queries.index(x) for x in normalized_queries_genomic]"
   ]
  },
  {
   "cell_type": "code",
   "execution_count": 16,
   "id": "cdac5805-d730-492f-acf9-f2c6577047d8",
   "metadata": {},
   "outputs": [],
   "source": [
    "genie_variants_genomic = genie_variants_df.iloc[rows_to_keep_genomic]"
   ]
  },
  {
   "cell_type": "code",
   "execution_count": 17,
   "id": "6053dca5-8c88-4131-9dab-1e2ad36672a6",
   "metadata": {},
   "outputs": [],
   "source": [
    "genie_variants_genomic.to_csv(\"genie_variants_genomic_normalized\", sep=\"\\t\", index=False)"
   ]
  },
  {
   "cell_type": "code",
   "execution_count": 18,
   "id": "51109fec-616f-44ad-be7c-49d019b47ac8",
   "metadata": {},
   "outputs": [],
   "source": [
    "normalized_queries_protein = able_to_normalize_protein[\"query\"].to_list()\n",
    "queries = genie_variants_df[\"free_text_p_short\"].to_list()\n",
    "rows_to_keep_protein = [queries.index(x) for x in normalized_queries_protein]"
   ]
  },
  {
   "cell_type": "code",
   "execution_count": 19,
   "id": "b80ca5f4-2677-4b8d-af9e-73da85223c82",
   "metadata": {},
   "outputs": [],
   "source": [
    "genie_variants_protein = genie_variants_df.iloc[rows_to_keep_protein]"
   ]
  },
  {
   "cell_type": "code",
   "execution_count": 20,
   "id": "ecda9d58-b9e4-466d-8888-658867f9b6b6",
   "metadata": {},
   "outputs": [],
   "source": [
    "genie_variants_protein.to_csv(\"genie_variants_protein_normalized\", sep=\"\\t\", index=False)"
   ]
  },
  {
   "cell_type": "code",
   "execution_count": 13,
   "id": "7dc46632-86da-473a-b63b-0788aa93fdd7",
   "metadata": {},
   "outputs": [],
   "source": [
    "# Read in dataframes\n",
    "genie_variants_genomic = pd.read_csv(\"genie_variants_genomic_normalized\", sep=\"\\t\")\n",
    "genie_variants_protein = pd.read_csv(\"genie_variants_protein_normalized\", sep=\"\\t\")"
   ]
  },
  {
   "cell_type": "code",
   "execution_count": 14,
   "id": "33a1a060-58f1-40b4-aad2-624c36bb7e68",
   "metadata": {},
   "outputs": [
    {
     "data": {
      "text/html": [
       "<div>\n",
       "<style scoped>\n",
       "    .dataframe tbody tr th:only-of-type {\n",
       "        vertical-align: middle;\n",
       "    }\n",
       "\n",
       "    .dataframe tbody tr th {\n",
       "        vertical-align: top;\n",
       "    }\n",
       "\n",
       "    .dataframe thead th {\n",
       "        text-align: right;\n",
       "    }\n",
       "</style>\n",
       "<table border=\"1\" class=\"dataframe\">\n",
       "  <thead>\n",
       "    <tr style=\"text-align: right;\">\n",
       "      <th></th>\n",
       "      <th>Hugo_Symbol</th>\n",
       "      <th>NCBI_Build</th>\n",
       "      <th>Chromosome</th>\n",
       "      <th>Start_Position</th>\n",
       "      <th>End_Position</th>\n",
       "      <th>Reference_Allele</th>\n",
       "      <th>Tumor_Seq_Allele2</th>\n",
       "      <th>dbSNP_RS</th>\n",
       "      <th>Tumor_Sample_Barcode</th>\n",
       "      <th>HGVSp_Short</th>\n",
       "      <th>free_text_p_short</th>\n",
       "      <th>coordinates</th>\n",
       "    </tr>\n",
       "  </thead>\n",
       "  <tbody>\n",
       "    <tr>\n",
       "      <th>0</th>\n",
       "      <td>KRAS</td>\n",
       "      <td>GRCh37</td>\n",
       "      <td>12</td>\n",
       "      <td>25398285</td>\n",
       "      <td>25398285</td>\n",
       "      <td>C</td>\n",
       "      <td>A</td>\n",
       "      <td>rs121913530</td>\n",
       "      <td>GENIE-JHU-00006-00185</td>\n",
       "      <td>p.G12C</td>\n",
       "      <td>KRAS p.G12C</td>\n",
       "      <td>12-25398285-C-A</td>\n",
       "    </tr>\n",
       "    <tr>\n",
       "      <th>1</th>\n",
       "      <td>BRAF</td>\n",
       "      <td>GRCh37</td>\n",
       "      <td>7</td>\n",
       "      <td>140453136</td>\n",
       "      <td>140453136</td>\n",
       "      <td>A</td>\n",
       "      <td>T</td>\n",
       "      <td>rs113488022</td>\n",
       "      <td>GENIE-JHU-00006-00185</td>\n",
       "      <td>p.V600E</td>\n",
       "      <td>BRAF p.V600E</td>\n",
       "      <td>7-140453136-A-T</td>\n",
       "    </tr>\n",
       "    <tr>\n",
       "      <th>2</th>\n",
       "      <td>EGFR</td>\n",
       "      <td>GRCh37</td>\n",
       "      <td>7</td>\n",
       "      <td>55249071</td>\n",
       "      <td>55249071</td>\n",
       "      <td>C</td>\n",
       "      <td>T</td>\n",
       "      <td>rs121434569</td>\n",
       "      <td>GENIE-JHU-00006-00185</td>\n",
       "      <td>p.T790M</td>\n",
       "      <td>EGFR p.T790M</td>\n",
       "      <td>7-55249071-C-T</td>\n",
       "    </tr>\n",
       "    <tr>\n",
       "      <th>3</th>\n",
       "      <td>TP53</td>\n",
       "      <td>GRCh37</td>\n",
       "      <td>17</td>\n",
       "      <td>7577120</td>\n",
       "      <td>7577120</td>\n",
       "      <td>C</td>\n",
       "      <td>T</td>\n",
       "      <td>rs28934576</td>\n",
       "      <td>GENIE-JHU-00006-00185</td>\n",
       "      <td>p.R273H</td>\n",
       "      <td>TP53 p.R273H</td>\n",
       "      <td>17-7577120-C-T</td>\n",
       "    </tr>\n",
       "    <tr>\n",
       "      <th>4</th>\n",
       "      <td>NRAS</td>\n",
       "      <td>GRCh37</td>\n",
       "      <td>1</td>\n",
       "      <td>115256529</td>\n",
       "      <td>115256529</td>\n",
       "      <td>T</td>\n",
       "      <td>C</td>\n",
       "      <td>rs11554290</td>\n",
       "      <td>GENIE-JHU-00006-00185</td>\n",
       "      <td>p.Q61R</td>\n",
       "      <td>NRAS p.Q61R</td>\n",
       "      <td>1-115256529-T-C</td>\n",
       "    </tr>\n",
       "  </tbody>\n",
       "</table>\n",
       "</div>"
      ],
      "text/plain": [
       "  Hugo_Symbol NCBI_Build Chromosome  Start_Position  End_Position  \\\n",
       "0        KRAS     GRCh37         12        25398285      25398285   \n",
       "1        BRAF     GRCh37          7       140453136     140453136   \n",
       "2        EGFR     GRCh37          7        55249071      55249071   \n",
       "3        TP53     GRCh37         17         7577120       7577120   \n",
       "4        NRAS     GRCh37          1       115256529     115256529   \n",
       "\n",
       "  Reference_Allele Tumor_Seq_Allele2     dbSNP_RS   Tumor_Sample_Barcode  \\\n",
       "0                C                 A  rs121913530  GENIE-JHU-00006-00185   \n",
       "1                A                 T  rs113488022  GENIE-JHU-00006-00185   \n",
       "2                C                 T  rs121434569  GENIE-JHU-00006-00185   \n",
       "3                C                 T   rs28934576  GENIE-JHU-00006-00185   \n",
       "4                T                 C   rs11554290  GENIE-JHU-00006-00185   \n",
       "\n",
       "  HGVSp_Short free_text_p_short      coordinates  \n",
       "0      p.G12C       KRAS p.G12C  12-25398285-C-A  \n",
       "1     p.V600E      BRAF p.V600E  7-140453136-A-T  \n",
       "2     p.T790M      EGFR p.T790M   7-55249071-C-T  \n",
       "3     p.R273H      TP53 p.R273H   17-7577120-C-T  \n",
       "4      p.Q61R       NRAS p.Q61R  1-115256529-T-C  "
      ]
     },
     "execution_count": 14,
     "metadata": {},
     "output_type": "execute_result"
    }
   ],
   "source": [
    "genie_variants_genomic.head()"
   ]
  },
  {
   "cell_type": "code",
   "execution_count": 15,
   "id": "1f26d72a-b9ac-4891-a06d-1f0d82197e32",
   "metadata": {},
   "outputs": [
    {
     "data": {
      "text/html": [
       "<div>\n",
       "<style scoped>\n",
       "    .dataframe tbody tr th:only-of-type {\n",
       "        vertical-align: middle;\n",
       "    }\n",
       "\n",
       "    .dataframe tbody tr th {\n",
       "        vertical-align: top;\n",
       "    }\n",
       "\n",
       "    .dataframe thead th {\n",
       "        text-align: right;\n",
       "    }\n",
       "</style>\n",
       "<table border=\"1\" class=\"dataframe\">\n",
       "  <thead>\n",
       "    <tr style=\"text-align: right;\">\n",
       "      <th></th>\n",
       "      <th>Hugo_Symbol</th>\n",
       "      <th>NCBI_Build</th>\n",
       "      <th>Chromosome</th>\n",
       "      <th>Start_Position</th>\n",
       "      <th>End_Position</th>\n",
       "      <th>Reference_Allele</th>\n",
       "      <th>Tumor_Seq_Allele2</th>\n",
       "      <th>dbSNP_RS</th>\n",
       "      <th>Tumor_Sample_Barcode</th>\n",
       "      <th>HGVSp_Short</th>\n",
       "      <th>free_text_p_short</th>\n",
       "      <th>coordinates</th>\n",
       "    </tr>\n",
       "  </thead>\n",
       "  <tbody>\n",
       "    <tr>\n",
       "      <th>0</th>\n",
       "      <td>KRAS</td>\n",
       "      <td>GRCh37</td>\n",
       "      <td>12</td>\n",
       "      <td>25398285</td>\n",
       "      <td>25398285</td>\n",
       "      <td>C</td>\n",
       "      <td>A</td>\n",
       "      <td>rs121913530</td>\n",
       "      <td>GENIE-JHU-00006-00185</td>\n",
       "      <td>p.G12C</td>\n",
       "      <td>KRAS p.G12C</td>\n",
       "      <td>12-25398285-C-A</td>\n",
       "    </tr>\n",
       "    <tr>\n",
       "      <th>1</th>\n",
       "      <td>BRAF</td>\n",
       "      <td>GRCh37</td>\n",
       "      <td>7</td>\n",
       "      <td>140453136</td>\n",
       "      <td>140453136</td>\n",
       "      <td>A</td>\n",
       "      <td>T</td>\n",
       "      <td>rs113488022</td>\n",
       "      <td>GENIE-JHU-00006-00185</td>\n",
       "      <td>p.V600E</td>\n",
       "      <td>BRAF p.V600E</td>\n",
       "      <td>7-140453136-A-T</td>\n",
       "    </tr>\n",
       "    <tr>\n",
       "      <th>2</th>\n",
       "      <td>EGFR</td>\n",
       "      <td>GRCh37</td>\n",
       "      <td>7</td>\n",
       "      <td>55249071</td>\n",
       "      <td>55249071</td>\n",
       "      <td>C</td>\n",
       "      <td>T</td>\n",
       "      <td>rs121434569</td>\n",
       "      <td>GENIE-JHU-00006-00185</td>\n",
       "      <td>p.T790M</td>\n",
       "      <td>EGFR p.T790M</td>\n",
       "      <td>7-55249071-C-T</td>\n",
       "    </tr>\n",
       "    <tr>\n",
       "      <th>3</th>\n",
       "      <td>TP53</td>\n",
       "      <td>GRCh37</td>\n",
       "      <td>17</td>\n",
       "      <td>7577120</td>\n",
       "      <td>7577120</td>\n",
       "      <td>C</td>\n",
       "      <td>T</td>\n",
       "      <td>rs28934576</td>\n",
       "      <td>GENIE-JHU-00006-00185</td>\n",
       "      <td>p.R273H</td>\n",
       "      <td>TP53 p.R273H</td>\n",
       "      <td>17-7577120-C-T</td>\n",
       "    </tr>\n",
       "    <tr>\n",
       "      <th>4</th>\n",
       "      <td>NRAS</td>\n",
       "      <td>GRCh37</td>\n",
       "      <td>1</td>\n",
       "      <td>115256529</td>\n",
       "      <td>115256529</td>\n",
       "      <td>T</td>\n",
       "      <td>C</td>\n",
       "      <td>rs11554290</td>\n",
       "      <td>GENIE-JHU-00006-00185</td>\n",
       "      <td>p.Q61R</td>\n",
       "      <td>NRAS p.Q61R</td>\n",
       "      <td>1-115256529-T-C</td>\n",
       "    </tr>\n",
       "  </tbody>\n",
       "</table>\n",
       "</div>"
      ],
      "text/plain": [
       "  Hugo_Symbol NCBI_Build Chromosome  Start_Position  End_Position  \\\n",
       "0        KRAS     GRCh37         12        25398285      25398285   \n",
       "1        BRAF     GRCh37          7       140453136     140453136   \n",
       "2        EGFR     GRCh37          7        55249071      55249071   \n",
       "3        TP53     GRCh37         17         7577120       7577120   \n",
       "4        NRAS     GRCh37          1       115256529     115256529   \n",
       "\n",
       "  Reference_Allele Tumor_Seq_Allele2     dbSNP_RS   Tumor_Sample_Barcode  \\\n",
       "0                C                 A  rs121913530  GENIE-JHU-00006-00185   \n",
       "1                A                 T  rs113488022  GENIE-JHU-00006-00185   \n",
       "2                C                 T  rs121434569  GENIE-JHU-00006-00185   \n",
       "3                C                 T   rs28934576  GENIE-JHU-00006-00185   \n",
       "4                T                 C   rs11554290  GENIE-JHU-00006-00185   \n",
       "\n",
       "  HGVSp_Short free_text_p_short      coordinates  \n",
       "0      p.G12C       KRAS p.G12C  12-25398285-C-A  \n",
       "1     p.V600E      BRAF p.V600E  7-140453136-A-T  \n",
       "2     p.T790M      EGFR p.T790M   7-55249071-C-T  \n",
       "3     p.R273H      TP53 p.R273H   17-7577120-C-T  \n",
       "4      p.Q61R       NRAS p.Q61R  1-115256529-T-C  "
      ]
     },
     "execution_count": 15,
     "metadata": {},
     "output_type": "execute_result"
    }
   ],
   "source": [
    "genie_variants_protein.head()"
   ]
  },
  {
   "cell_type": "code",
   "execution_count": 16,
   "id": "bebdbe0f-1189-41ec-b903-8ab0c97f0a9a",
   "metadata": {},
   "outputs": [],
   "source": [
    "# Create genomic variants patient dictionary\n",
    "pv = genie_variants_genomic[\"Tumor_Sample_Barcode\"].to_list()\n",
    "pvd_genomic = dict()\n",
    "for i in range(len(pv)):\n",
    "    key = pv[i]\n",
    "    var = able_to_normalize_genomic.at[i, \"vrs_id\"]\n",
    "    if key in pvd_genomic:\n",
    "        curr = pvd_genomic[key]\n",
    "        curr.append(var)\n",
    "        pvd_genomic[key] = curr\n",
    "    else:\n",
    "        pvd_genomic[key]= [var]"
   ]
  },
  {
   "cell_type": "code",
   "execution_count": 17,
   "id": "f2710a39-95d0-4e0e-8f44-56ffb4721fb1",
   "metadata": {},
   "outputs": [],
   "source": [
    "# Create protein variants patient dictionary\n",
    "pv = genie_variants_protein[\"Tumor_Sample_Barcode\"].to_list()\n",
    "pvd_protein = dict()\n",
    "for i in range(len(pv)):\n",
    "    key = pv[i]\n",
    "    var = able_to_normalize_protein.at[i, \"vrs_id\"]\n",
    "    if key in pvd_protein:\n",
    "        curr = pvd_protein[key]\n",
    "        curr.append(var)\n",
    "        pvd_protein[key] = curr\n",
    "    else:\n",
    "        pvd_protein[key]= [var]"
   ]
  },
  {
   "cell_type": "markdown",
   "id": "f4ee515b-7c6d-4084-9f52-9fdab03242f0",
   "metadata": {},
   "source": [
    "### MOA"
   ]
  },
  {
   "cell_type": "code",
   "execution_count": 18,
   "id": "d2ab75db-e501-4682-bcc7-ac7c6c4f1207",
   "metadata": {},
   "outputs": [
    {
     "name": "stdout",
     "output_type": "stream",
     "text": [
      "There are 117 patients with matching protein variant data in MOA\n"
     ]
    }
   ],
   "source": [
    "count = 0\n",
    "patients = []\n",
    "for key in pvd_protein:\n",
    "    isect = set(pvd_protein[key]).intersection(genie_moa_match)\n",
    "    if len(isect) >= 1:\n",
    "        count += 1\n",
    "        patients.append(key)\n",
    "print(f\"There are {count} patients with matching protein variant data in MOA\")\n",
    "\n",
    "with open(\"variant_analysis_output/moa_patient_match.txt\", \"w\") as f:\n",
    "    for i in range(len(patients)):\n",
    "        f.write(patients[i] + \"\\n\")\n",
    "f.close()"
   ]
  },
  {
   "cell_type": "markdown",
   "id": "aeb32052-4924-4f51-96c5-33c3b99446a0",
   "metadata": {},
   "source": [
    "### CIViC"
   ]
  },
  {
   "cell_type": "code",
   "execution_count": 19,
   "id": "1189e366-f61d-4063-982c-05b470110263",
   "metadata": {},
   "outputs": [
    {
     "name": "stdout",
     "output_type": "stream",
     "text": [
      "There are 904 patients with matching protein variant data in CIViC\n"
     ]
    }
   ],
   "source": [
    "# Protein variants patient count\n",
    "count = 0\n",
    "patients_protein = []\n",
    "for key in pvd_protein:\n",
    "    isect = set(pvd_protein[key]).intersection(genie_civic_match_protein)\n",
    "    if len(isect) >= 1:\n",
    "        count += 1\n",
    "        patients_protein.append(key)\n",
    "print(f\"There are {count} patients with matching protein variant data in CIViC\")\n",
    "\n",
    "with open(\"variant_analysis_output/civic_protein_patient_match.txt\", \"w\") as f:\n",
    "    for i in range(len(patients_protein)):\n",
    "        f.write(patients_protein[i] + \"\\n\")\n",
    "f.close()"
   ]
  },
  {
   "cell_type": "code",
   "execution_count": 20,
   "id": "8a8275a9-c1e8-489d-926b-eb54d1ec1e6d",
   "metadata": {},
   "outputs": [
    {
     "name": "stdout",
     "output_type": "stream",
     "text": [
      "There are 201 patients with matching genomic variant data in CIViC\n"
     ]
    }
   ],
   "source": [
    "# Genomic variants patient count\n",
    "count = 0\n",
    "patients_genomic = []\n",
    "for key in pvd_genomic:\n",
    "    isect = set(pvd_genomic[key]).intersection(genie_civic_match_genomic)\n",
    "    if len(isect) >= 1:\n",
    "        count += 1\n",
    "        patients_genomic.append(key)\n",
    "print(f\"There are {count} patients with matching genomic variant data in CIViC\")\n",
    "\n",
    "with open(\"variant_analysis_output/civic_genomic_patient_match.txt\", \"w\") as f:\n",
    "    for i in range(len(patients_genomic)):\n",
    "        f.write(patients_genomic[i] + \"\\n\")\n",
    "f.close()"
   ]
  },
  {
   "cell_type": "code",
   "execution_count": 21,
   "id": "41714c8d-816f-4c35-853f-4bc8807135da",
   "metadata": {},
   "outputs": [
    {
     "data": {
      "text/plain": [
       "8"
      ]
     },
     "execution_count": 21,
     "metadata": {},
     "output_type": "execute_result"
    }
   ],
   "source": [
    "# Compute number of patients with both genomic and protein variant overlap\n",
    "len(set(patients_genomic).intersection(set(patients_protein)))"
   ]
  },
  {
   "cell_type": "markdown",
   "id": "c42996b2-d106-4dfe-9239-760be7dbf657",
   "metadata": {},
   "source": [
    "### ClinVar"
   ]
  },
  {
   "cell_type": "code",
   "execution_count": 22,
   "id": "cc1f7965-5625-492e-bd0d-d9aa1e45b046",
   "metadata": {},
   "outputs": [
    {
     "name": "stdout",
     "output_type": "stream",
     "text": [
      "There are 45725 patients with matching genomic variant data in ClinVar\n"
     ]
    }
   ],
   "source": [
    "# Genomic variants patient count\n",
    "count = 0\n",
    "patients_genomic = []\n",
    "for key in pvd_genomic:\n",
    "    isect = set(pvd_genomic[key]).intersection(genie_clinvar_match_genomic)\n",
    "    if len(isect) >= 1:\n",
    "        count += 1\n",
    "        patients_genomic.append(key)\n",
    "print(f\"There are {count} patients with matching genomic variant data in ClinVar\")\n",
    "\n",
    "with open(\"variant_analysis_output/clinvar_patient_match.txt\", \"w\") as f:\n",
    "    for i in range(len(patients_genomic)):\n",
    "       f.write(patients_genomic[i] + \"\\n\")\n",
    "f.close()"
   ]
  },
  {
   "cell_type": "markdown",
   "id": "fa61dba5-1170-438e-9b80-d2fb172be3a8",
   "metadata": {},
   "source": [
    "## Variant Counts per Patient\n",
    "Compute the average number of genomic and protein variants per patient."
   ]
  },
  {
   "cell_type": "code",
   "execution_count": 23,
   "id": "1f66967a-75ed-4a53-85c0-33d10ae9cc7b",
   "metadata": {},
   "outputs": [
    {
     "data": {
      "text/plain": [
       "6.263040815326572"
      ]
     },
     "execution_count": 23,
     "metadata": {},
     "output_type": "execute_result"
    }
   ],
   "source": [
    "counts = []\n",
    "for key in pvd_genomic:\n",
    "    counts.append(len(pvd_genomic[key]))\n",
    "sum(counts)/len(counts)"
   ]
  },
  {
   "cell_type": "code",
   "execution_count": 24,
   "id": "2a873fc1-f3dd-411b-a9a8-efb5e01746c7",
   "metadata": {},
   "outputs": [
    {
     "data": {
      "text/plain": [
       "5.682793441414131"
      ]
     },
     "execution_count": 24,
     "metadata": {},
     "output_type": "execute_result"
    }
   ],
   "source": [
    "counts = []\n",
    "for key in pvd_protein:\n",
    "    counts.append(len(pvd_protein[key]))\n",
    "sum(counts)/len(counts)"
   ]
  }
 ],
 "metadata": {
  "kernelspec": {
   "display_name": "Python 3 (ipykernel)",
   "language": "python",
   "name": "python3"
  },
  "language_info": {
   "codemirror_mode": {
    "name": "ipython",
    "version": 3
   },
   "file_extension": ".py",
   "mimetype": "text/x-python",
   "name": "python",
   "nbconvert_exporter": "python",
   "pygments_lexer": "ipython3",
   "version": "3.11.5"
  }
 },
 "nbformat": 4,
 "nbformat_minor": 5
}
