{
 "cells": [
  {
   "cell_type": "markdown",
   "id": "34b1fa10-28ad-44e4-b8a4-49aeef14b03e",
   "metadata": {},
   "source": [
    "# GENIE Search Analysis\n",
    "\n",
    "This notebook performs set operations to determine matches between normalized variants from GENIE and normalized variants from CIViC, Molecular Oncology Almanac, and ClinVar."
   ]
  },
  {
   "cell_type": "markdown",
   "id": "8c7e6ac4-3e80-4abb-9b9c-8de41518e405",
   "metadata": {},
   "source": [
    "### Prerequisites\n",
    "The following notebook must be run before running this analysis: \n",
    "\n",
    "- `genie/pre_variant_analysis/genie_pre_variant_analysis.ipynb`\n",
    "\n",
    "This notebook uses `data_mutations_extended.txt` from Synapse. You will need to create an account to download data from [here](https://www.synapse.org/#!Synapse:syn51355986). This notebook expects the `data_mutations_extended.txt` to be in the `pre_variant_analysis` directory."
   ]
  },
  {
   "cell_type": "code",
   "execution_count": 1,
   "id": "8d53de2a-4620-4700-b34b-56035b651ffb",
   "metadata": {},
   "outputs": [],
   "source": [
    "# Import relevant libraries\n",
    "import ndjson\n",
    "import numpy as np\n",
    "import pandas as pd\n",
    "from pathlib import Path\n",
    "import gzip"
   ]
  },
  {
   "cell_type": "markdown",
   "id": "8aaa6a3f-8b65-4383-8f7a-4c72baff9487",
   "metadata": {},
   "source": [
    "## Load Data (CIViC, Molecular Oncology Almanac, ClinVar, GENIE)"
   ]
  },
  {
   "cell_type": "code",
   "execution_count": 2,
   "id": "22709d08-246b-4d37-a66f-f686f719cb1e",
   "metadata": {},
   "outputs": [],
   "source": [
    "# Load normalized variants for CIViC\n",
    "civic_variants = pd.read_csv(\n",
    "    \"../../civic/variation_analysis/able_to_normalize_queries.csv\", sep=\"\\t\"\n",
    ")"
   ]
  },
  {
   "cell_type": "code",
   "execution_count": 3,
   "id": "f8f40171-dcba-41c1-b464-26af010fd526",
   "metadata": {},
   "outputs": [],
   "source": [
    "# Load normalized variants for MOA\n",
    "moa_variants = pd.read_csv(\n",
    "    \"../../moa/feature_analysis/able_to_normalize_queries.csv\", sep=\"\\t\"\n",
    ")"
   ]
  },
  {
   "cell_type": "code",
   "execution_count": 4,
   "id": "94c89830",
   "metadata": {},
   "outputs": [],
   "source": [
    "# Load normalized variants for ClinVar\n",
    "with gzip.open(\"../../clinvar/output-variation_identity-vrs-1.3.ndjson.gz\", \"rb\") as f:\n",
    "    records = ndjson.load(f)\n",
    "\n",
    "clinvar_variants = pd.json_normalize(records)"
   ]
  },
  {
   "cell_type": "code",
   "execution_count": 5,
   "id": "09ed1f43",
   "metadata": {},
   "outputs": [
    {
     "data": {
      "text/plain": [
       "(1432052, 12)"
      ]
     },
     "execution_count": 5,
     "metadata": {},
     "output_type": "execute_result"
    }
   ],
   "source": [
    "# Get GENIE variant data\n",
    "genie_variants_df = pd.read_csv(\n",
    "    \"../pre_variant_analysis/variation_normalizer_output/genie_variants_df.csv\",\n",
    "    sep=\"\\t\",\n",
    ")\n",
    "genie_variants_df.shape"
   ]
  },
  {
   "cell_type": "markdown",
   "id": "ed00e26a-936e-4761-9018-ba2971857215",
   "metadata": {},
   "source": [
    "## Normalized Genomic and Protein GENIE variants \n",
    "Due to GENIE licenses, please run the analysis notebook in `genie/pre_variant_analysis` to generate the datasets below."
   ]
  },
  {
   "cell_type": "code",
   "execution_count": 6,
   "id": "c1efda24-dd64-42de-9e27-1d76d9fd1bdb",
   "metadata": {},
   "outputs": [],
   "source": [
    "genie_genomic_normalized = pd.read_csv(\n",
    "    \"../pre_variant_analysis/variation_normalizer_output/able_to_normalize_genomic_queries.csv\",\n",
    "    sep=\"\\t\",\n",
    ")"
   ]
  },
  {
   "cell_type": "code",
   "execution_count": 7,
   "id": "45efc26f-f865-4a4d-92c8-1e8d29dcf5e5",
   "metadata": {},
   "outputs": [],
   "source": [
    "genie_protein_normalized = pd.read_csv(\n",
    "    \"../pre_variant_analysis/variation_normalizer_output/able_to_normalize_protein_queries.csv\",\n",
    "    sep=\"\\t\",\n",
    ")"
   ]
  },
  {
   "cell_type": "markdown",
   "id": "16e14634-84ab-428c-a86b-784c49088094",
   "metadata": {},
   "source": [
    "## Create Output Directory"
   ]
  },
  {
   "cell_type": "code",
   "execution_count": 8,
   "id": "9b0d9d3e-0b79-4b5e-8db8-5a13de17dbdb",
   "metadata": {},
   "outputs": [],
   "source": [
    "path = Path(\"variant_analysis_output\")\n",
    "path.mkdir(exist_ok=True)"
   ]
  },
  {
   "cell_type": "markdown",
   "id": "2324a30e-250a-45b6-a3bf-a023e855a92f",
   "metadata": {},
   "source": [
    "## Variant-Level Analysis\n",
    "In this section we perform set intersections to determine how many normalized variants from GENIE match to MOA, CIViC, and ClinVar."
   ]
  },
  {
   "cell_type": "code",
   "execution_count": 9,
   "id": "1db857a4-834a-458b-a9f9-d5fb19db32ea",
   "metadata": {},
   "outputs": [],
   "source": [
    "# Helper functions\n",
    "def create_var_patient_data(filename: str, data: list) -> None:\n",
    "    \"\"\"Write variant/patient data to a file\n",
    "    :param filename: The file to write to\n",
    "    :param data: A list of variants or patients\n",
    "    \"\"\"\n",
    "    with open(filename, \"w\") as f:\n",
    "        for match in data:\n",
    "            f.write(match + \"\\n\")\n",
    "\n",
    "\n",
    "def set_intersection(genie: list, kb: list) -> set:\n",
    "    \"\"\"Intersect GENIE variants with variants from different knowledgebases\n",
    "    :param genie: A list of GENIE variants\n",
    "    :param kb: A list of variants from a knowledgebase\n",
    "    :return: set of common variants\n",
    "    \"\"\"\n",
    "    return set(genie).intersection(kb)\n",
    "\n",
    "\n",
    "def var_analysis(genie: list, kb: list, filename: str) -> tuple:\n",
    "    \"\"\"Perform set intersection, write to file for variant analysis\n",
    "    :param genie: A list of GENIE variants\n",
    "    :param kb: A list of variants from a knowledgebase\n",
    "    :param filename: The file to write to\n",
    "    :return: A tuple containing a list of shared variants, and the length of the list\n",
    "    \"\"\"\n",
    "    match = set_intersection(genie, kb)\n",
    "    create_var_patient_data(filename, list(match))\n",
    "    return match, len(match)\n",
    "\n",
    "\n",
    "def is_var_in_kb(var: str, kb: set) -> bool:\n",
    "    \"\"\"Check if a variant is in a knowledgebase\n",
    "    :param var: A variant\n",
    "    :param kb: A set of variants\n",
    "    :return: True if variant is in knowledgebase\n",
    "    \"\"\"\n",
    "    return var in kb"
   ]
  },
  {
   "cell_type": "markdown",
   "id": "b85922d3-a86a-4f6b-9b32-cffde986a0bb",
   "metadata": {},
   "source": [
    "### MOA"
   ]
  },
  {
   "cell_type": "code",
   "execution_count": 10,
   "id": "85250b46",
   "metadata": {},
   "outputs": [
    {
     "data": {
      "text/plain": [
       "'The number of matched protein variants in MOA is: 122'"
      ]
     },
     "execution_count": 10,
     "metadata": {},
     "output_type": "execute_result"
    }
   ],
   "source": [
    "# Intersect normalized GENIE protein variants with normalized MOA protein variants\n",
    "genie_moa_match = var_analysis(\n",
    "    genie_protein_normalized[\"vrs_id\"].to_list(),\n",
    "    set(moa_variants[\"vrs_id\"].to_list()),\n",
    "    \"variant_analysis_output/genie_moa_match.txt\",\n",
    ")\n",
    "f\"The number of matched protein variants in MOA is: {genie_moa_match[1]}\""
   ]
  },
  {
   "cell_type": "markdown",
   "id": "0e6d3a50-752d-4ffd-aa17-25e785ff9da8",
   "metadata": {},
   "source": [
    "### CIViC"
   ]
  },
  {
   "cell_type": "code",
   "execution_count": 11,
   "id": "a531e9cc",
   "metadata": {},
   "outputs": [
    {
     "data": {
      "text/plain": [
       "'The number of matched genomic variants in CIViC is: 203'"
      ]
     },
     "execution_count": 11,
     "metadata": {},
     "output_type": "execute_result"
    }
   ],
   "source": [
    "# Intersect normalized GENIE genomic variants with normalized CIViC variants\n",
    "genie_civic_match_genomic = var_analysis(\n",
    "    genie_genomic_normalized[\"vrs_id\"].to_list(),\n",
    "    set(civic_variants[\"vrs_id\"].to_list()),\n",
    "    \"variant_analysis_output/genie_civic_match_genomic.txt\",\n",
    ")\n",
    "f\"The number of matched genomic variants in CIViC is: {genie_civic_match_genomic[1]}\""
   ]
  },
  {
   "cell_type": "code",
   "execution_count": 12,
   "id": "253da819",
   "metadata": {},
   "outputs": [
    {
     "data": {
      "text/plain": [
       "'The number of matched protein variants in CIViC is: 967'"
      ]
     },
     "execution_count": 12,
     "metadata": {},
     "output_type": "execute_result"
    }
   ],
   "source": [
    "# Intersect normalized GENIE protein variants with normalized CIViC variants\n",
    "genie_civic_match_protein = var_analysis(\n",
    "    genie_protein_normalized[\"vrs_id\"].to_list(),\n",
    "    set(civic_variants[\"vrs_id\"].to_list()),\n",
    "    \"variant_analysis_output/genie_civic_match_protein.txt\",\n",
    ")\n",
    "f\"The number of matched protein variants in CIViC is: {genie_civic_match_protein[1]}\""
   ]
  },
  {
   "cell_type": "code",
   "execution_count": 13,
   "id": "e652af20-66da-4b52-bcc7-1587b518a7a8",
   "metadata": {},
   "outputs": [
    {
     "data": {
      "text/plain": [
       "'The number of matched variants in CIViC is: 1170'"
      ]
     },
     "execution_count": 13,
     "metadata": {},
     "output_type": "execute_result"
    }
   ],
   "source": [
    "# Inspect union of GENIE genomic and protein variants\n",
    "civic_genie_union = genie_civic_match_genomic[0].union(genie_civic_match_protein[0])\n",
    "create_var_patient_data(\n",
    "    \"variant_analysis_output/genie_civic_match_union.txt\", civic_genie_union\n",
    ")\n",
    "f\"The number of matched variants in CIViC is: {len(civic_genie_union)}\""
   ]
  },
  {
   "cell_type": "markdown",
   "id": "faa0c4c4-9a55-4623-b86b-d71a72cf5d3e",
   "metadata": {},
   "source": [
    "### ClinVar"
   ]
  },
  {
   "cell_type": "code",
   "execution_count": 14,
   "id": "be1c454e",
   "metadata": {},
   "outputs": [
    {
     "data": {
      "text/plain": [
       "'The number of matched genomic variants in ClinVar is: 94300'"
      ]
     },
     "execution_count": 14,
     "metadata": {},
     "output_type": "execute_result"
    }
   ],
   "source": [
    "# Intersect normalized GENIE genomic variants with normalized ClinVar variants\n",
    "genie_clinvar_match_genomic = var_analysis(\n",
    "    genie_genomic_normalized[\"vrs_id\"].to_list(),\n",
    "    set(clinvar_variants[\"out._id\"].to_list()),\n",
    "    \"variant_analysis_output/genie_clinvar_match_genomic.txt\",\n",
    ")\n",
    "f\"The number of matched genomic variants in ClinVar is: {genie_clinvar_match_genomic[1]}\""
   ]
  },
  {
   "cell_type": "code",
   "execution_count": 15,
   "id": "e88ff7f4-fca8-43d8-a683-014c768324c6",
   "metadata": {},
   "outputs": [
    {
     "data": {
      "text/plain": [
       "'The number of matched protein variants in ClinVar is: 0'"
      ]
     },
     "execution_count": 15,
     "metadata": {},
     "output_type": "execute_result"
    }
   ],
   "source": [
    "# Intersect normalized GENIE protein variants with normalized ClinVar variants\n",
    "genie_clinvar_match_protein = set_intersection(\n",
    "    genie_protein_normalized[\"vrs_id\"].to_list(),\n",
    "    set(clinvar_variants[\"out._id\"].to_list()),\n",
    ")\n",
    "f\"The number of matched protein variants in ClinVar is: {len(genie_clinvar_match_protein)}\""
   ]
  },
  {
   "cell_type": "markdown",
   "id": "69cc2b8e-7ab0-43be-89af-b908339bbb11",
   "metadata": {},
   "source": [
    "## Patient-Level Analysis\n",
    "In this section we summarize variant matching at the patient level, with >= 1 shared variant counting as a match."
   ]
  },
  {
   "cell_type": "markdown",
   "id": "f457f72b-1875-4ffe-9c84-f9f237fd3d2b",
   "metadata": {},
   "source": [
    "### Filter to include normalized genomic and protein variants"
   ]
  },
  {
   "cell_type": "code",
   "execution_count": 16,
   "id": "85cb5569",
   "metadata": {},
   "outputs": [],
   "source": [
    "# Helper function - create dataframes with vrs_ids for genomic and protein variants\n",
    "def get_vrs_ids(df: pd.DataFrame, col_name: str) -> pd.DataFrame:\n",
    "    \"\"\"Given a list of GENIE variants, add a column containing the VRS IDs\n",
    "    :param df: A dataframe containing the VRS IDs for each variant\n",
    "    :param col_name: Indicates if genomic or protein variants will be added\n",
    "    :return: The updated genie_variants dataframe\n",
    "    \"\"\"\n",
    "    genie_variants_mapping = {}\n",
    "    for row in df.itertuples(index=False):\n",
    "        if row.query not in genie_variants_mapping:\n",
    "            genie_variants_mapping[row.query] = row.vrs_id\n",
    "\n",
    "    queries = genie_variants_df[col_name].to_list()\n",
    "    vrs_ids_list = [genie_variants_mapping.get(query, np.nan) for query in queries]\n",
    "\n",
    "    key = \"vrs_id_genomic\" if col_name == \"coordinates\" else \"vrs_id_protein\"\n",
    "    genie_variants_df[key] = vrs_ids_list\n",
    "    return genie_variants_df[genie_variants_df[key].notna()]"
   ]
  },
  {
   "cell_type": "code",
   "execution_count": 17,
   "id": "923bd9aa",
   "metadata": {},
   "outputs": [],
   "source": [
    "genie_variants_genomic = get_vrs_ids(genie_genomic_normalized, \"coordinates\")"
   ]
  },
  {
   "cell_type": "code",
   "execution_count": 18,
   "id": "b6a8a935",
   "metadata": {},
   "outputs": [],
   "source": [
    "genie_variants_protein = get_vrs_ids(genie_protein_normalized, \"free_text_p_short\")"
   ]
  },
  {
   "cell_type": "code",
   "execution_count": 19,
   "id": "083cce45-4253-46b0-8f5b-13d2bd5f24fa",
   "metadata": {},
   "outputs": [],
   "source": [
    "# Add columns indicating which variants are in which knowledgebase\n",
    "genie_variants_df[\"in_civic_genomic\"] = genie_variants_df[\"vrs_id_genomic\"].map(\n",
    "    lambda x: is_var_in_kb(x, genie_civic_match_genomic[0])\n",
    ")\n",
    "genie_variants_df[\"in_clinvar\"] = genie_variants_df[\"vrs_id_genomic\"].map(\n",
    "    lambda x: is_var_in_kb(x, genie_clinvar_match_genomic[0])\n",
    ")\n",
    "genie_variants_df[\"in_civic_protein\"] = genie_variants_df[\"vrs_id_protein\"].map(\n",
    "    lambda x: is_var_in_kb(x, genie_civic_match_protein[0])\n",
    ")\n",
    "genie_variants_df[\"in_moa\"] = genie_variants_df[\"vrs_id_protein\"].map(\n",
    "    lambda x: is_var_in_kb(x, genie_moa_match[0])\n",
    ")"
   ]
  },
  {
   "cell_type": "code",
   "execution_count": 20,
   "id": "3a440a0e",
   "metadata": {},
   "outputs": [],
   "source": [
    "# Helper function - create patient dictionary\n",
    "def get_patient_vars(df: pd.DataFrame, var_type: str) -> dict:\n",
    "    \"\"\"Create a dictionary reporting the variants a patient has\n",
    "    :param df: A dataframe with GENIE genomic or protein variants\n",
    "    :param var_type: Genomic or protein\n",
    "    :return: A dictionary of patient variants\n",
    "    \"\"\"\n",
    "    patient_dict = dict()\n",
    "    for row in df.itertuples(index=False):\n",
    "        key = row.Tumor_Sample_Barcode\n",
    "        var = row.vrs_id_genomic if var_type == \"genomic\" else row.vrs_id_protein\n",
    "        if key in patient_dict:\n",
    "            curr = patient_dict[key]\n",
    "            if not pd.isna(var):\n",
    "                curr.append(var)\n",
    "            patient_dict[key] = curr\n",
    "        else:\n",
    "            if not pd.isna(var):\n",
    "                patient_dict[key] = [var]\n",
    "    return patient_dict"
   ]
  },
  {
   "cell_type": "code",
   "execution_count": 21,
   "id": "b2424f72",
   "metadata": {},
   "outputs": [],
   "source": [
    "# Create genomic variants patient dictionary\n",
    "pvd_genomic = get_patient_vars(genie_variants_genomic, \"genomic\")"
   ]
  },
  {
   "cell_type": "code",
   "execution_count": 22,
   "id": "d684ac66",
   "metadata": {},
   "outputs": [],
   "source": [
    "# Create protein variants patient dictionary\n",
    "pvd_protein = get_patient_vars(genie_variants_protein, \"protein\")"
   ]
  },
  {
   "cell_type": "code",
   "execution_count": 23,
   "id": "591ff1c0",
   "metadata": {},
   "outputs": [],
   "source": [
    "# Patient Analysis Helper Function\n",
    "def patient_matching(patient_dict: dict, var_set: set, filename: str) -> tuple:\n",
    "    \"\"\"Perform patient matching for a given source\n",
    "    :param patient_dict: A dictionary of patient variants\n",
    "    :param var_set: A set of common variants\n",
    "    :param filename: The file to write to\n",
    "    :return: A tuple containing a list of patients with common variants, and the number of patients in that list\n",
    "    \"\"\"\n",
    "    count = 0\n",
    "    patients = []\n",
    "    for key in patient_dict:\n",
    "        isect = set(patient_dict[key]).intersection(var_set)\n",
    "        if isect:\n",
    "            count += 1\n",
    "            patients.append(key)\n",
    "    create_var_patient_data(filename, patients)\n",
    "    return count, patients"
   ]
  },
  {
   "cell_type": "markdown",
   "id": "f4ee515b-7c6d-4084-9f52-9fdab03242f0",
   "metadata": {},
   "source": [
    "### MOA"
   ]
  },
  {
   "cell_type": "code",
   "execution_count": 24,
   "id": "2fb93337",
   "metadata": {},
   "outputs": [
    {
     "data": {
      "text/plain": [
       "'There are 41828 patients with matching protein variant data in MOA'"
      ]
     },
     "execution_count": 24,
     "metadata": {},
     "output_type": "execute_result"
    }
   ],
   "source": [
    "moa_match = patient_matching(\n",
    "    pvd_protein, genie_moa_match[0], \"variant_analysis_output/moa_patient_match.txt\"\n",
    ")\n",
    "f\"There are {moa_match[0]} patients with matching protein variant data in MOA\""
   ]
  },
  {
   "cell_type": "markdown",
   "id": "aeb32052-4924-4f51-96c5-33c3b99446a0",
   "metadata": {},
   "source": [
    "### CIViC"
   ]
  },
  {
   "cell_type": "code",
   "execution_count": 25,
   "id": "37306871",
   "metadata": {},
   "outputs": [
    {
     "data": {
      "text/plain": [
       "'There are 84861 patients with matching protein variant data in CIViC'"
      ]
     },
     "execution_count": 25,
     "metadata": {},
     "output_type": "execute_result"
    }
   ],
   "source": [
    "civic_protein_match = patient_matching(\n",
    "    pvd_protein,\n",
    "    genie_civic_match_protein[0],\n",
    "    \"variant_analysis_output/civic_protein_patient_match.txt\",\n",
    ")\n",
    "f\"There are {civic_protein_match[0]} patients with matching protein variant data in CIViC\""
   ]
  },
  {
   "cell_type": "code",
   "execution_count": 26,
   "id": "a49cdbbc",
   "metadata": {},
   "outputs": [
    {
     "data": {
      "text/plain": [
       "'There are 853 patients with matching genomic variant data in CIViC'"
      ]
     },
     "execution_count": 26,
     "metadata": {},
     "output_type": "execute_result"
    }
   ],
   "source": [
    "civic_genomic_match = patient_matching(\n",
    "    pvd_genomic,\n",
    "    genie_civic_match_genomic[0],\n",
    "    \"variant_analysis_output/civic_genomic_patient_match.txt\",\n",
    ")\n",
    "f\"There are {civic_genomic_match[0]} patients with matching genomic variant data in CIViC\""
   ]
  },
  {
   "cell_type": "code",
   "execution_count": 27,
   "id": "41714c8d-816f-4c35-853f-4bc8807135da",
   "metadata": {},
   "outputs": [
    {
     "data": {
      "text/plain": [
       "272"
      ]
     },
     "execution_count": 27,
     "metadata": {},
     "output_type": "execute_result"
    }
   ],
   "source": [
    "# Compute number of patients with both genomic and protein variant overlap\n",
    "len(set(civic_genomic_match[1]).intersection(set(civic_protein_match[1])))"
   ]
  },
  {
   "cell_type": "markdown",
   "id": "c42996b2-d106-4dfe-9239-760be7dbf657",
   "metadata": {},
   "source": [
    "### ClinVar"
   ]
  },
  {
   "cell_type": "code",
   "execution_count": 28,
   "id": "8617b67f",
   "metadata": {},
   "outputs": [
    {
     "data": {
      "text/plain": [
       "'There are 127103 patients with matching genomic variant data in ClinVar'"
      ]
     },
     "execution_count": 28,
     "metadata": {},
     "output_type": "execute_result"
    }
   ],
   "source": [
    "genie_clinvar_patient_match = patient_matching(\n",
    "    pvd_genomic,\n",
    "    genie_clinvar_match_genomic[0],\n",
    "    \"variant_analysis_output/clinvar_patient_match.txt\",\n",
    ")\n",
    "f\"There are {genie_clinvar_patient_match[0]} patients with matching genomic variant data in ClinVar\""
   ]
  },
  {
   "cell_type": "markdown",
   "id": "fa61dba5-1170-438e-9b80-d2fb172be3a8",
   "metadata": {},
   "source": [
    "## Variant Counts per Patient\n",
    "Compute the average number of genomic and protein variants per patient."
   ]
  },
  {
   "cell_type": "code",
   "execution_count": 29,
   "id": "99fcb9db",
   "metadata": {},
   "outputs": [],
   "source": [
    "def get_avg_vars_per_patient(var_dict: dict) -> float:\n",
    "    \"\"\"Return the average number of variants per patient\n",
    "    :param var_dict: A dictionary of patient variants\n",
    "    :return: The average number of normalized variants\n",
    "    \"\"\"\n",
    "    counts = [len(var_dict[k]) for k in var_dict]\n",
    "    return sum(counts) / len(counts)"
   ]
  },
  {
   "cell_type": "code",
   "execution_count": 30,
   "id": "4b951a3e",
   "metadata": {},
   "outputs": [
    {
     "data": {
      "text/plain": [
       "8.703645296719163"
      ]
     },
     "execution_count": 30,
     "metadata": {},
     "output_type": "execute_result"
    }
   ],
   "source": [
    "# Normalized average, genomic\n",
    "get_avg_vars_per_patient(pvd_genomic)"
   ]
  },
  {
   "cell_type": "code",
   "execution_count": 31,
   "id": "a2f29635",
   "metadata": {},
   "outputs": [
    {
     "data": {
      "text/plain": [
       "7.9632307941219915"
      ]
     },
     "execution_count": 31,
     "metadata": {},
     "output_type": "execute_result"
    }
   ],
   "source": [
    "# Normalized average, protein\n",
    "get_avg_vars_per_patient(pvd_protein)"
   ]
  },
  {
   "cell_type": "code",
   "execution_count": 32,
   "id": "879fb2c0",
   "metadata": {},
   "outputs": [
    {
     "data": {
      "text/plain": [
       "8.860833124843634"
      ]
     },
     "execution_count": 32,
     "metadata": {},
     "output_type": "execute_result"
    }
   ],
   "source": [
    "# Average number of normalized variants per patient\n",
    "normalized_variants_df = genie_variants_df[\n",
    "    ~genie_variants_df[\"vrs_id_genomic\"].isna()\n",
    "    | ~genie_variants_df[\"vrs_id_protein\"].isna()\n",
    "]\n",
    "group_by_tsb = list(normalized_variants_df.groupby(\"Tumor_Sample_Barcode\").size())\n",
    "sum(group_by_tsb) / len(group_by_tsb)"
   ]
  },
  {
   "cell_type": "code",
   "execution_count": 33,
   "id": "c2c79bbc-c892-4378-9724-77e5af53f1a5",
   "metadata": {},
   "outputs": [],
   "source": [
    "def get_kb_avg_vars_per_patient(df: pd.DataFrame) -> float:\n",
    "    \"\"\"Compute the average number of variants per patient given a knowledgebase\n",
    "    :param df: The filtered dataframe of patient variants\n",
    "    :return: The average number of variants\n",
    "    \"\"\"\n",
    "    n_variants = list(df.groupby(\"Tumor_Sample_Barcode\").size())\n",
    "    return round(sum(n_variants) / len(n_variants), 2), len(n_variants)"
   ]
  },
  {
   "cell_type": "code",
   "execution_count": 34,
   "id": "6df32553",
   "metadata": {},
   "outputs": [
    {
     "data": {
      "text/plain": [
       "9.75"
      ]
     },
     "execution_count": 34,
     "metadata": {},
     "output_type": "execute_result"
    }
   ],
   "source": [
    "# Average number of total variants per patient\n",
    "get_kb_avg_vars_per_patient(genie_variants_df)[0]"
   ]
  },
  {
   "cell_type": "code",
   "execution_count": 35,
   "id": "cab7d8e2-c722-43ae-9a3b-206cd0fc2662",
   "metadata": {},
   "outputs": [
    {
     "data": {
      "text/plain": [
       "1.01"
      ]
     },
     "execution_count": 35,
     "metadata": {},
     "output_type": "execute_result"
    }
   ],
   "source": [
    "# Normalized matched genomic variants per patient in CIViC\n",
    "genie_df_civic_genomic = genie_variants_df[genie_variants_df[\"in_civic_genomic\"]]\n",
    "civic_genomic_match = get_kb_avg_vars_per_patient(genie_df_civic_genomic)\n",
    "civic_genomic_match[0]"
   ]
  },
  {
   "cell_type": "code",
   "execution_count": 36,
   "id": "47fd7ee3-549b-4c4e-bc83-820ca6fd56d9",
   "metadata": {},
   "outputs": [
    {
     "data": {
      "text/plain": [
       "1.38"
      ]
     },
     "execution_count": 36,
     "metadata": {},
     "output_type": "execute_result"
    }
   ],
   "source": [
    "# Normalized matched protein variants per patient in CIViC\n",
    "genie_df_civic_protein = genie_variants_df[genie_variants_df[\"in_civic_protein\"]]\n",
    "civic_protein_match = get_kb_avg_vars_per_patient(genie_df_civic_protein)\n",
    "civic_protein_match[0]"
   ]
  },
  {
   "cell_type": "code",
   "execution_count": 37,
   "id": "17b92b3e",
   "metadata": {},
   "outputs": [
    {
     "data": {
      "text/plain": [
       "1.38"
      ]
     },
     "execution_count": 37,
     "metadata": {},
     "output_type": "execute_result"
    }
   ],
   "source": [
    "# Normalized matched patient variants across CIViC\n",
    "genie_df_civic = genie_variants_df[\n",
    "    (genie_variants_df[\"in_civic_genomic\"]) | (genie_variants_df[\"in_civic_protein\"])\n",
    "]\n",
    "civic_match = get_kb_avg_vars_per_patient(genie_df_civic)\n",
    "civic_match[0]"
   ]
  },
  {
   "cell_type": "code",
   "execution_count": 38,
   "id": "708f2751-b1de-4f46-89db-b2a5a36bb3e7",
   "metadata": {},
   "outputs": [
    {
     "data": {
      "text/plain": [
       "1.1"
      ]
     },
     "execution_count": 38,
     "metadata": {},
     "output_type": "execute_result"
    }
   ],
   "source": [
    "# Normalized matched protein variants per patient in MOA\n",
    "genie_df_moa = genie_variants_df[genie_variants_df[\"in_moa\"]]\n",
    "moa_protein_match = get_kb_avg_vars_per_patient(genie_df_moa)\n",
    "moa_protein_match[0]"
   ]
  },
  {
   "cell_type": "code",
   "execution_count": 39,
   "id": "0446237e-228c-4063-be4c-68e8d2cd5bac",
   "metadata": {},
   "outputs": [
    {
     "data": {
      "text/plain": [
       "3.22"
      ]
     },
     "execution_count": 39,
     "metadata": {},
     "output_type": "execute_result"
    }
   ],
   "source": [
    "# Normalized matched genomic variants per patient in ClinVar\n",
    "genie_df_clinvar = genie_variants_df[genie_variants_df[\"in_clinvar\"]]\n",
    "clinvar_genomic_match = get_kb_avg_vars_per_patient(genie_df_clinvar)\n",
    "clinvar_genomic_match[0]"
   ]
  },
  {
   "cell_type": "code",
   "execution_count": 40,
   "id": "504863b3-41d2-4efb-990f-996d876ed9a8",
   "metadata": {},
   "outputs": [
    {
     "data": {
      "text/plain": [
       "3.22"
      ]
     },
     "execution_count": 40,
     "metadata": {},
     "output_type": "execute_result"
    }
   ],
   "source": [
    "# Normalized matching across knowlegebases, genomic\n",
    "genie_df_genomic_combined = genie_variants_df[\n",
    "    (genie_variants_df[\"in_civic_genomic\"]) | (genie_variants_df[\"in_clinvar\"])\n",
    "]\n",
    "genomic_combined_match = get_kb_avg_vars_per_patient(genie_df_genomic_combined)\n",
    "genomic_combined_match[0]"
   ]
  },
  {
   "cell_type": "code",
   "execution_count": 41,
   "id": "1913e698-1fa6-4946-ba35-a9e53193d401",
   "metadata": {},
   "outputs": [
    {
     "data": {
      "text/plain": [
       "1.39"
      ]
     },
     "execution_count": 41,
     "metadata": {},
     "output_type": "execute_result"
    }
   ],
   "source": [
    "# Normalized matching across knowlegebases, protein\n",
    "genie_df_protein_combined = genie_variants_df[\n",
    "    (genie_variants_df[\"in_civic_protein\"]) | (genie_variants_df[\"in_moa\"])\n",
    "]\n",
    "protein_combined_match = get_kb_avg_vars_per_patient(genie_df_protein_combined)\n",
    "protein_combined_match[0]"
   ]
  },
  {
   "cell_type": "code",
   "execution_count": 42,
   "id": "ba47c5e1-18ac-44a3-b6c3-ea85b20dadfe",
   "metadata": {},
   "outputs": [
    {
     "data": {
      "text/plain": [
       "3.25"
      ]
     },
     "execution_count": 42,
     "metadata": {},
     "output_type": "execute_result"
    }
   ],
   "source": [
    "# Normalized matching across all knowledgebases\n",
    "genie_df_filtered = genie_variants_df[\n",
    "    (genie_variants_df[\"in_civic_protein\"])\n",
    "    | (genie_variants_df[\"in_moa\"])\n",
    "    | (genie_variants_df[\"in_civic_genomic\"])\n",
    "    | (genie_variants_df[\"in_clinvar\"])\n",
    "]\n",
    "filtered_match = get_kb_avg_vars_per_patient(genie_df_filtered)\n",
    "filtered_match[0]"
   ]
  },
  {
   "cell_type": "markdown",
   "id": "2f1a49a4",
   "metadata": {},
   "source": [
    "## Summary Statistics"
   ]
  },
  {
   "cell_type": "code",
   "execution_count": 43,
   "id": "169acd38",
   "metadata": {},
   "outputs": [
    {
     "data": {
      "text/plain": [
       "146857"
      ]
     },
     "execution_count": 43,
     "metadata": {},
     "output_type": "execute_result"
    }
   ],
   "source": [
    "# Number of unique patients in GENIE dataframe\n",
    "total_patients = genie_variants_df[\"Tumor_Sample_Barcode\"].nunique()\n",
    "total_patients"
   ]
  },
  {
   "cell_type": "code",
   "execution_count": 44,
   "id": "f3af6d8e",
   "metadata": {},
   "outputs": [
    {
     "data": {
      "text/plain": [
       "143892"
      ]
     },
     "execution_count": 44,
     "metadata": {},
     "output_type": "execute_result"
    }
   ],
   "source": [
    "# Number of patients with at least 1 normalized variant\n",
    "normalized_patients = normalized_variants_df[\"Tumor_Sample_Barcode\"].nunique()\n",
    "normalized_patients"
   ]
  },
  {
   "cell_type": "code",
   "execution_count": 45,
   "id": "f4ae7bd7",
   "metadata": {},
   "outputs": [
    {
     "data": {
      "text/plain": [
       "128397"
      ]
     },
     "execution_count": 45,
     "metadata": {},
     "output_type": "execute_result"
    }
   ],
   "source": [
    "# Number of patients with at least 1 normalized variant and a match to a knowledgebase\n",
    "matching_patients = genie_df_filtered[\"Tumor_Sample_Barcode\"].nunique()\n",
    "matching_patients"
   ]
  },
  {
   "cell_type": "code",
   "execution_count": 46,
   "id": "b171f3fc",
   "metadata": {},
   "outputs": [],
   "source": [
    "# Table 1 - Variant Counts\n",
    "summary_df_var = pd.DataFrame(columns=[\"Protein\", \"Genomic\"])\n",
    "summary_df_var.loc[\"# of Unique GENIE Variants\"] = [\n",
    "    genie_variants_df[\"free_text_p_short\"].nunique(),\n",
    "    genie_variants_df[\"coordinates\"].nunique(),\n",
    "]\n",
    "summary_df_var.loc[\"# of Able to Normalize GENIE Queries\"] = [\n",
    "    len(genie_protein_normalized.index),\n",
    "    len(genie_genomic_normalized.index),\n",
    "]\n",
    "summary_df_var.loc[\"# of Unique GENIE VRS IDs\"] = [\n",
    "    normalized_variants_df[\"vrs_id_protein\"].nunique(),\n",
    "    normalized_variants_df[\"vrs_id_genomic\"].nunique(),\n",
    "]\n",
    "summary_df_var.loc[\"# of Unique Normalized GENIE Variants in CIViC\"] = [\n",
    "    genie_df_civic_protein[\"vrs_id_protein\"].nunique(),\n",
    "    genie_df_civic_genomic[\"vrs_id_genomic\"].nunique(),\n",
    "]\n",
    "summary_df_var.loc[\"# of Unique Normalized Protein GENIE Variants in MOA\"] = [\n",
    "    genie_df_moa[\"vrs_id_protein\"].nunique(),\n",
    "    0,\n",
    "]\n",
    "summary_df_var.loc[\"# of Unique Normalized Genomic GENIE Variants in ClinVar\"] = [\n",
    "    0,\n",
    "    genie_df_clinvar[\"vrs_id_genomic\"].nunique(),\n",
    "]"
   ]
  },
  {
   "cell_type": "code",
   "execution_count": 47,
   "id": "00e82c3e",
   "metadata": {},
   "outputs": [
    {
     "data": {
      "text/html": [
       "<div>\n",
       "<style scoped>\n",
       "    .dataframe tbody tr th:only-of-type {\n",
       "        vertical-align: middle;\n",
       "    }\n",
       "\n",
       "    .dataframe tbody tr th {\n",
       "        vertical-align: top;\n",
       "    }\n",
       "\n",
       "    .dataframe thead th {\n",
       "        text-align: right;\n",
       "    }\n",
       "</style>\n",
       "<table border=\"1\" class=\"dataframe\">\n",
       "  <thead>\n",
       "    <tr style=\"text-align: right;\">\n",
       "      <th></th>\n",
       "      <th>Protein</th>\n",
       "      <th>Genomic</th>\n",
       "    </tr>\n",
       "  </thead>\n",
       "  <tbody>\n",
       "    <tr>\n",
       "      <th># of Unique GENIE Variants</th>\n",
       "      <td>662149</td>\n",
       "      <td>647541</td>\n",
       "    </tr>\n",
       "    <tr>\n",
       "      <th># of Able to Normalize GENIE Queries</th>\n",
       "      <td>566804</td>\n",
       "      <td>646946</td>\n",
       "    </tr>\n",
       "    <tr>\n",
       "      <th># of Unique GENIE VRS IDs</th>\n",
       "      <td>565824</td>\n",
       "      <td>646696</td>\n",
       "    </tr>\n",
       "    <tr>\n",
       "      <th># of Unique Normalized GENIE Variants in CIViC</th>\n",
       "      <td>967</td>\n",
       "      <td>203</td>\n",
       "    </tr>\n",
       "    <tr>\n",
       "      <th># of Unique Normalized Protein GENIE Variants in MOA</th>\n",
       "      <td>122</td>\n",
       "      <td>0</td>\n",
       "    </tr>\n",
       "    <tr>\n",
       "      <th># of Unique Normalized Genomic GENIE Variants in ClinVar</th>\n",
       "      <td>0</td>\n",
       "      <td>94300</td>\n",
       "    </tr>\n",
       "  </tbody>\n",
       "</table>\n",
       "</div>"
      ],
      "text/plain": [
       "                                                    Protein  Genomic\n",
       "# of Unique GENIE Variants                           662149   647541\n",
       "# of Able to Normalize GENIE Queries                 566804   646946\n",
       "# of Unique GENIE VRS IDs                            565824   646696\n",
       "# of Unique Normalized GENIE Variants in CIViC          967      203\n",
       "# of Unique Normalized Protein GENIE Variants i...      122        0\n",
       "# of Unique Normalized Genomic GENIE Variants i...        0    94300"
      ]
     },
     "execution_count": 47,
     "metadata": {},
     "output_type": "execute_result"
    }
   ],
   "source": [
    "summary_df_var"
   ]
  },
  {
   "cell_type": "code",
   "execution_count": 48,
   "id": "efc9e0ad",
   "metadata": {},
   "outputs": [],
   "source": [
    "# Helper function\n",
    "def compute_percent(n: int) -> float:\n",
    "    \"\"\"Format percentage\n",
    "    :param n: An integer\n",
    "    :return: A float reporting the percentage\"\"\"\n",
    "    return round(100 * n / total_patients, 1)\n",
    "\n",
    "\n",
    "# Table 2 - Patient Matching. The percentages are computed using the total number of patients in the GENIE dataset.\n",
    "summary_df_patient = pd.DataFrame(columns=[\"Protein\", \"Genomic\", \"Protein or Genomic\"])\n",
    "summary_df_patient.loc[\"All Knowledgebases\"] = [\n",
    "    compute_percent(protein_combined_match[1]),\n",
    "    compute_percent(genomic_combined_match[1]),\n",
    "    compute_percent(filtered_match[1]),\n",
    "]\n",
    "summary_df_patient.loc[\"MOAlmanac\"] = [\n",
    "    compute_percent(moa_protein_match[1]),\n",
    "    0,\n",
    "    compute_percent(moa_protein_match[1]),\n",
    "]\n",
    "summary_df_patient.loc[\"ClinVar\"] = [\n",
    "    0,\n",
    "    compute_percent(clinvar_genomic_match[1]),\n",
    "    compute_percent(clinvar_genomic_match[1]),\n",
    "]\n",
    "summary_df_patient.loc[\"CIViC\"] = [\n",
    "    compute_percent(civic_protein_match[1]),\n",
    "    compute_percent(civic_genomic_match[1]),\n",
    "    compute_percent(civic_match[1]),\n",
    "]"
   ]
  },
  {
   "cell_type": "code",
   "execution_count": 49,
   "id": "1f94b1a8",
   "metadata": {},
   "outputs": [
    {
     "data": {
      "text/html": [
       "<div>\n",
       "<style scoped>\n",
       "    .dataframe tbody tr th:only-of-type {\n",
       "        vertical-align: middle;\n",
       "    }\n",
       "\n",
       "    .dataframe tbody tr th {\n",
       "        vertical-align: top;\n",
       "    }\n",
       "\n",
       "    .dataframe thead th {\n",
       "        text-align: right;\n",
       "    }\n",
       "</style>\n",
       "<table border=\"1\" class=\"dataframe\">\n",
       "  <thead>\n",
       "    <tr style=\"text-align: right;\">\n",
       "      <th></th>\n",
       "      <th>Protein</th>\n",
       "      <th>Genomic</th>\n",
       "      <th>Protein or Genomic</th>\n",
       "    </tr>\n",
       "  </thead>\n",
       "  <tbody>\n",
       "    <tr>\n",
       "      <th>All Knowledgebases</th>\n",
       "      <td>58.4</td>\n",
       "      <td>86.6</td>\n",
       "      <td>87.4</td>\n",
       "    </tr>\n",
       "    <tr>\n",
       "      <th>MOAlmanac</th>\n",
       "      <td>28.5</td>\n",
       "      <td>0.0</td>\n",
       "      <td>28.5</td>\n",
       "    </tr>\n",
       "    <tr>\n",
       "      <th>ClinVar</th>\n",
       "      <td>0.0</td>\n",
       "      <td>86.5</td>\n",
       "      <td>86.5</td>\n",
       "    </tr>\n",
       "    <tr>\n",
       "      <th>CIViC</th>\n",
       "      <td>57.8</td>\n",
       "      <td>0.6</td>\n",
       "      <td>58.2</td>\n",
       "    </tr>\n",
       "  </tbody>\n",
       "</table>\n",
       "</div>"
      ],
      "text/plain": [
       "                    Protein  Genomic  Protein or Genomic\n",
       "All Knowledgebases     58.4     86.6                87.4\n",
       "MOAlmanac              28.5      0.0                28.5\n",
       "ClinVar                 0.0     86.5                86.5\n",
       "CIViC                  57.8      0.6                58.2"
      ]
     },
     "execution_count": 49,
     "metadata": {},
     "output_type": "execute_result"
    }
   ],
   "source": [
    "summary_df_patient"
   ]
  },
  {
   "cell_type": "code",
   "execution_count": 50,
   "id": "5e364633",
   "metadata": {},
   "outputs": [
    {
     "data": {
      "image/png": "[encoded data removed]",
      "text/plain": [
       "<Figure size 900x600 with 1 Axes>"
      ]
     },
     "metadata": {},
     "output_type": "display_data"
    }
   ],
   "source": [
    "# Create Grouped Bar Plot for Table 2\n",
    "summary_df_patient_plot = summary_df_patient.T\n",
    "summary_df_patient_plot = summary_df_patient_plot[\n",
    "    [\"MOAlmanac\", \"CIViC\", \"ClinVar\", \"All Knowledgebases\"]\n",
    "]\n",
    "patient_plot = summary_df_patient_plot.plot.bar(\n",
    "    rot=0, width=0.7, color=[\"#99DDFF\", \"#44BB99\", \"#FFAABB\", \"#DDDDDD\"], figsize=(9, 6)\n",
    ")\n",
    "for container in patient_plot.containers:\n",
    "    patient_plot.bar_label(container)\n",
    "patient_plot.legend(loc=\"upper right\", ncols=4, fontsize=12, prop={\"family\": \"Arial\"})\n",
    "patient_plot.set_ylim(0, 110)\n",
    "patient_plot.set_ylabel(\"Percent of Patients with Match\", fontsize=16, fontname=\"Arial\")\n",
    "patient_plot.set_xlabel(\"Variant Type\", fontsize=16, fontname=\"Arial\")\n",
    "patient_plot.tick_params(axis=\"x\", labelsize=14, labelfontfamily=\"Arial\")\n",
    "patient_plot.set_title(\n",
    "    \"Percent of GENIE Patients with At Least One\\nVariant Match to a Knowledgebase\",\n",
    "    fontsize=18,\n",
    "    fontname=\"Arial\",\n",
    "    weight=\"bold\",\n",
    ")\n",
    "patient_plot.figure.savefig(\"genie_patient_matching.png\", bbox_inches=\"tight\", dpi=1000)"
   ]
  },
  {
   "cell_type": "code",
   "execution_count": 51,
   "id": "e84ccb12",
   "metadata": {},
   "outputs": [
    {
     "data": {
      "text/html": [
       "<div>\n",
       "<style scoped>\n",
       "    .dataframe tbody tr th:only-of-type {\n",
       "        vertical-align: middle;\n",
       "    }\n",
       "\n",
       "    .dataframe tbody tr th {\n",
       "        vertical-align: top;\n",
       "    }\n",
       "\n",
       "    .dataframe thead th {\n",
       "        text-align: right;\n",
       "    }\n",
       "</style>\n",
       "<table border=\"1\" class=\"dataframe\">\n",
       "  <thead>\n",
       "    <tr style=\"text-align: right;\">\n",
       "      <th></th>\n",
       "      <th>Protein</th>\n",
       "      <th>Genomic</th>\n",
       "      <th>Protein or Genomic</th>\n",
       "    </tr>\n",
       "  </thead>\n",
       "  <tbody>\n",
       "    <tr>\n",
       "      <th>All Knowledgebases</th>\n",
       "      <td>58.4</td>\n",
       "      <td>86.6</td>\n",
       "      <td>87.4</td>\n",
       "    </tr>\n",
       "    <tr>\n",
       "      <th>MOAlmanac</th>\n",
       "      <td>28.5</td>\n",
       "      <td>0.0</td>\n",
       "      <td>28.5</td>\n",
       "    </tr>\n",
       "    <tr>\n",
       "      <th>ClinVar</th>\n",
       "      <td>0.0</td>\n",
       "      <td>86.5</td>\n",
       "      <td>86.5</td>\n",
       "    </tr>\n",
       "    <tr>\n",
       "      <th>CIViC</th>\n",
       "      <td>57.8</td>\n",
       "      <td>0.6</td>\n",
       "      <td>58.2</td>\n",
       "    </tr>\n",
       "  </tbody>\n",
       "</table>\n",
       "</div>"
      ],
      "text/plain": [
       "                    Protein  Genomic  Protein or Genomic\n",
       "All Knowledgebases     58.4     86.6                87.4\n",
       "MOAlmanac              28.5      0.0                28.5\n",
       "ClinVar                 0.0     86.5                86.5\n",
       "CIViC                  57.8      0.6                58.2"
      ]
     },
     "execution_count": 51,
     "metadata": {},
     "output_type": "execute_result"
    }
   ],
   "source": [
    "summary_df_patient"
   ]
  },
  {
   "cell_type": "code",
   "execution_count": 52,
   "id": "fd602561",
   "metadata": {},
   "outputs": [],
   "source": [
    "# Table 3 - Average Variants Per Patient. This average is calculated using the number of patients from each filtering category.\n",
    "summary_df_avg = pd.DataFrame(columns=[\"Protein\", \"Genomic\"])\n",
    "summary_df_avg.loc[\"Average # of Total Variants per Patient\"] = [\n",
    "    get_kb_avg_vars_per_patient(\n",
    "        genie_variants_df[genie_variants_df[\"free_text_p_short\"].notna()]\n",
    "    )[0],\n",
    "    get_kb_avg_vars_per_patient(\n",
    "        genie_variants_df[genie_variants_df[\"coordinates\"].notna()]\n",
    "    )[0],\n",
    "]\n",
    "summary_df_avg.loc[\"Average # of Normalized Variants per Patient\"] = [\n",
    "    get_kb_avg_vars_per_patient(\n",
    "        normalized_variants_df[normalized_variants_df[\"vrs_id_protein\"].notna()]\n",
    "    )[0],\n",
    "    get_kb_avg_vars_per_patient(\n",
    "        normalized_variants_df[normalized_variants_df[\"vrs_id_genomic\"].notna()]\n",
    "    )[0],\n",
    "]\n",
    "summary_df_avg.loc[\"Average # of Normalized Variants per Patient in Clinvar\"] = [\n",
    "    0,\n",
    "    clinvar_genomic_match[0],\n",
    "]\n",
    "summary_df_avg.loc[\"Average # of Normalized Variants per Patient in MOA\"] = [\n",
    "    moa_protein_match[0],\n",
    "    0,\n",
    "]\n",
    "summary_df_avg.loc[\"Average # of Normalized Variants per Patient in CIViC\"] = [\n",
    "    civic_protein_match[0],\n",
    "    civic_genomic_match[0],\n",
    "]"
   ]
  },
  {
   "cell_type": "code",
   "execution_count": 53,
   "id": "200f687a",
   "metadata": {},
   "outputs": [
    {
     "data": {
      "text/html": [
       "<div>\n",
       "<style scoped>\n",
       "    .dataframe tbody tr th:only-of-type {\n",
       "        vertical-align: middle;\n",
       "    }\n",
       "\n",
       "    .dataframe tbody tr th {\n",
       "        vertical-align: top;\n",
       "    }\n",
       "\n",
       "    .dataframe thead th {\n",
       "        text-align: right;\n",
       "    }\n",
       "</style>\n",
       "<table border=\"1\" class=\"dataframe\">\n",
       "  <thead>\n",
       "    <tr style=\"text-align: right;\">\n",
       "      <th></th>\n",
       "      <th>Protein</th>\n",
       "      <th>Genomic</th>\n",
       "    </tr>\n",
       "  </thead>\n",
       "  <tbody>\n",
       "    <tr>\n",
       "      <th>Average # of Total Variants per Patient</th>\n",
       "      <td>9.60</td>\n",
       "      <td>8.71</td>\n",
       "    </tr>\n",
       "    <tr>\n",
       "      <th>Average # of Normalized Variants per Patient</th>\n",
       "      <td>7.96</td>\n",
       "      <td>8.70</td>\n",
       "    </tr>\n",
       "    <tr>\n",
       "      <th>Average # of Normalized Variants per Patient in Clinvar</th>\n",
       "      <td>0.00</td>\n",
       "      <td>3.22</td>\n",
       "    </tr>\n",
       "    <tr>\n",
       "      <th>Average # of Normalized Variants per Patient in MOA</th>\n",
       "      <td>1.10</td>\n",
       "      <td>0.00</td>\n",
       "    </tr>\n",
       "    <tr>\n",
       "      <th>Average # of Normalized Variants per Patient in CIViC</th>\n",
       "      <td>1.38</td>\n",
       "      <td>1.01</td>\n",
       "    </tr>\n",
       "  </tbody>\n",
       "</table>\n",
       "</div>"
      ],
      "text/plain": [
       "                                                    Protein  Genomic\n",
       "Average # of Total Variants per Patient                9.60     8.71\n",
       "Average # of Normalized Variants per Patient           7.96     8.70\n",
       "Average # of Normalized Variants per Patient in...     0.00     3.22\n",
       "Average # of Normalized Variants per Patient in...     1.10     0.00\n",
       "Average # of Normalized Variants per Patient in...     1.38     1.01"
      ]
     },
     "execution_count": 53,
     "metadata": {},
     "output_type": "execute_result"
    }
   ],
   "source": [
    "summary_df_avg"
   ]
  }
 ],
 "metadata": {
  "kernelspec": {
   "display_name": "Python 3 (ipykernel)",
   "language": "python",
   "name": "python3"
  },
  "language_info": {
   "codemirror_mode": {
    "name": "ipython",
    "version": 3
   },
   "file_extension": ".py",
   "mimetype": "text/x-python",
   "name": "python",
   "nbconvert_exporter": "python",
   "pygments_lexer": "ipython3",
   "version": "3.11.5"
  }
 },
 "nbformat": 4,
 "nbformat_minor": 5
}
