{
 "cells": [
  {
   "cell_type": "markdown",
   "metadata": {},
   "source": [
    "# Download Data\n",
    "\n",
    "Download data for analysis notebooks"
   ]
  },
  {
   "cell_type": "code",
   "execution_count": 1,
   "metadata": {},
   "outputs": [],
   "source": [
    "import requests\n",
    "from pathlib import Path"
   ]
  },
  {
   "cell_type": "code",
   "execution_count": 2,
   "metadata": {},
   "outputs": [],
   "source": [
    "MANUSCRIPT_S3_URL = \"https://nch-igm-wagner-lab-public.s3.us-east-2.amazonaws.com/variation-normalizer-manuscript/2025\""
   ]
  },
  {
   "cell_type": "code",
   "execution_count": 3,
   "metadata": {},
   "outputs": [],
   "source": [
    "def download_s3(url: str, outfile_path: Path) -> None:\n",
    "    \"\"\"Download objects from public s3 bucket\n",
    "\n",
    "    :param url: URL for file in s3 bucket\n",
    "    :param outfile_path: Path where file should be saved\n",
    "    \"\"\"\n",
    "    with requests.get(url, stream=True) as r:\n",
    "        r.raise_for_status()\n",
    "        with open(outfile_path, \"wb\") as h:\n",
    "            for chunk in r.iter_content(chunk_size=8192):\n",
    "                if chunk:\n",
    "                    h.write(chunk)"
   ]
  },
  {
   "cell_type": "markdown",
   "metadata": {},
   "source": [
    "## Download data needed for CNV analyses\n",
    "\n",
    "This notebook downloads all of the underlying data for analyses of CNVs in ClinVar and how a real-world data set of CNVs from microarrays matches to these variants. It also downloads the intermediate output files generated in the course of running these CNV analyses so that the user may avoid re-running long computations in the matching analysis."
   ]
  },
  {
   "cell_type": "code",
   "execution_count": 7,
   "metadata": {},
   "outputs": [],
   "source": [
    "path = \"cnvs/cnv_data\"\n",
    "Path(path).mkdir(exist_ok=True)\n",
    "\n",
    "for fn in [\n",
    "    \"NCH-microarray-CNVs-cleaned.csv\",\n",
    "    \"NCH-microarray-CNVs.csv\",\n",
    "    \"NCH-normalizer-results.json\",\n",
    "]:\n",
    "    url = f\"{MANUSCRIPT_S3_URL}/cnv_data/{fn}\"\n",
    "    outfile_path = Path(f\"{path}/{fn}\")\n",
    "    download_s3(url, outfile_path)"
   ]
  },
  {
   "cell_type": "markdown",
   "metadata": {},
   "source": [
    "## ClinVar normalized variant data\n",
    "\n",
    "If you have not already run the notebooks in the ClinVar analysis directory, you will need to pull down the normalized ClinVar variants. This can be done by running ```clinvar_variation_analysis.ipynb``` in the ```clinvar``` directory, or by running the following cell:"
   ]
  },
  {
   "cell_type": "code",
   "execution_count": 9,
   "metadata": {},
   "outputs": [],
   "source": [
    "path = \"clinvar\"\n",
    "Path(path).mkdir(exist_ok=True)\n",
    "\n",
    "url = f\"{MANUSCRIPT_S3_URL}/clinvar/vi-normalized-with-liftover.jsonl.gz\"\n",
    "outfile_path = Path(f\"{path}/vi-normalized-with-liftover.jsonl.gz\")\n",
    "download_s3(url, outfile_path)"
   ]
  }
 ],
 "metadata": {
  "kernelspec": {
   "display_name": ".venv",
   "language": "python",
   "name": "python3"
  },
  "language_info": {
   "codemirror_mode": {
    "name": "ipython",
    "version": 3
   },
   "file_extension": ".py",
   "mimetype": "text/x-python",
   "name": "python",
   "nbconvert_exporter": "python",
   "pygments_lexer": "ipython3",
   "version": "3.13.5"
  }
 },
 "nbformat": 4,
 "nbformat_minor": 2
}
