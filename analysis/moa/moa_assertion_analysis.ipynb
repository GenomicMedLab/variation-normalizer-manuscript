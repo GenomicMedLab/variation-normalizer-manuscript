{
 "cells": [
  {
   "attachments": {},
   "cell_type": "markdown",
   "metadata": {},
   "source": [
    "# Molecular Oncology Almanac Assertion Analysis"
   ]
  },
  {
   "attachments": {},
   "cell_type": "markdown",
   "metadata": {},
   "source": [
    "MOA evidence items are referred to as assertions and MOA variants are referred to as features in this analysis. "
   ]
  },
  {
   "cell_type": "code",
   "execution_count": 1,
   "metadata": {},
   "outputs": [],
   "source": [
    "from enum import Enum\n",
    "from typing import Dict\n",
    "import json\n",
    "\n",
    "import pandas as pd\n",
    "import plotly.express as px\n",
    "import requests\n",
    "from ga4gh.core import sha512t24u #pip install ga4gh.vrs\n"
   ]
  },
  {
   "cell_type": "code",
   "execution_count": 2,
   "metadata": {},
   "outputs": [],
   "source": [
    "def get_feature_digest(feature: Dict) -> str:\n",
    "    \"\"\"Get digest for feature\n",
    "\n",
    "    :param feature: MOA feature\n",
    "    :return: Digest\n",
    "    \"\"\"\n",
    "    attrs = json.dumps(\n",
    "        feature[\"attributes\"][0],\n",
    "        sort_keys=True,\n",
    "        separators=(\",\", \":\"),\n",
    "        indent=None\n",
    "    ).encode(\"utf-8\")\n",
    "    return sha512t24u(attrs)"
   ]
  },
  {
   "cell_type": "code",
   "execution_count": 3,
   "metadata": {},
   "outputs": [],
   "source": [
    "class VariantNormType(str, Enum):\n",
    "    \"\"\"Variation Normalization types\"\"\"\n",
    "\n",
    "    NORMALIZED = \"Normalized\"\n",
    "    NOT_SUPPORTED = \"Not Supported\"\n",
    "\n",
    "\n",
    "VARIANT_NORM_TYPE_VALUES = [v.value for v in VariantNormType.__members__.values()]"
   ]
  },
  {
   "cell_type": "code",
   "execution_count": 4,
   "metadata": {},
   "outputs": [],
   "source": [
    "class VariantCategory(str, Enum):\n",
    "    \"\"\"Create enum for the kind of variants that are in MOA.\"\"\"\n",
    "\n",
    "    EXPRESSION = \"Expression\"\n",
    "    EPIGENETIC_MODIFICATION = \"Epigenetic Modification\"\n",
    "    FUSION = \"Fusion\"\n",
    "    PROTEIN_CONS = \"Protein Consequence\"\n",
    "    GENE_FUNC = \"Gene Function\"\n",
    "    REARRANGEMENTS = \"Rearrangements\"\n",
    "    COPY_NUMBER = \"Copy Number\"\n",
    "    OTHER = \"Other\"\n",
    "    GENOTYPES_EASY = \"Genotypes Easy\"\n",
    "    GENOTYPES_COMPOUND = \"Genotypes Compound\"\n",
    "    REGION_DEFINED_VAR = \"Region Defined Variant\"\n",
    "    TRANSCRIPT_VAR = \"Transcript Variant\"  # no attempt to normalize these ones, since there is no query we could use\n",
    "\n",
    "\n",
    "VARIANT_CATEGORY_VALUES = [v.value for v in VariantCategory.__members__.values()]"
   ]
  },
  {
   "attachments": {},
   "cell_type": "markdown",
   "metadata": {},
   "source": [
    "## All Features (Variants) Analysis"
   ]
  },
  {
   "attachments": {},
   "cell_type": "markdown",
   "metadata": {},
   "source": [
    "### Creating a table with feature (variant) and assertion (evidence) information"
   ]
  },
  {
   "cell_type": "code",
   "execution_count": 5,
   "metadata": {},
   "outputs": [
    {
     "name": "stdout",
     "output_type": "stream",
     "text": [
      "428\n"
     ]
    }
   ],
   "source": [
    "# Create dictionary for MOA Feature ID -> Feature Type\n",
    "r = requests.get(\"https://moalmanac.org/api/features\")\n",
    "if r.status_code == 200:\n",
    "    feature_data = r.json()\n",
    "\n",
    "features = {}\n",
    "\n",
    "for feature in feature_data:\n",
    "    feature_id = feature[\"feature_id\"]\n",
    "    digest = get_feature_digest(feature)\n",
    "    features[digest] = feature[\"feature_type\"]\n",
    "\n",
    "count_unique_feature_ids = len(features.keys())\n",
    "print(count_unique_feature_ids)\n"
   ]
  },
  {
   "cell_type": "code",
   "execution_count": 6,
   "metadata": {},
   "outputs": [
    {
     "data": {
      "text/html": [
       "<div>\n",
       "<style scoped>\n",
       "    .dataframe tbody tr th:only-of-type {\n",
       "        vertical-align: middle;\n",
       "    }\n",
       "\n",
       "    .dataframe tbody tr th {\n",
       "        vertical-align: top;\n",
       "    }\n",
       "\n",
       "    .dataframe thead th {\n",
       "        text-align: right;\n",
       "    }\n",
       "</style>\n",
       "<table border=\"1\" class=\"dataframe\">\n",
       "  <thead>\n",
       "    <tr style=\"text-align: right;\">\n",
       "      <th></th>\n",
       "      <th>assertion_id</th>\n",
       "      <th>feature_id</th>\n",
       "      <th>feature_type</th>\n",
       "      <th>predictive_implication</th>\n",
       "      <th>feature_digest</th>\n",
       "    </tr>\n",
       "  </thead>\n",
       "  <tbody>\n",
       "    <tr>\n",
       "      <th>0</th>\n",
       "      <td>1</td>\n",
       "      <td>1</td>\n",
       "      <td>rearrangement</td>\n",
       "      <td>FDA-Approved</td>\n",
       "      <td>RnRyn89cJzVbVM93aw4OA44NIF5zblyP</td>\n",
       "    </tr>\n",
       "    <tr>\n",
       "      <th>1</th>\n",
       "      <td>2</td>\n",
       "      <td>2</td>\n",
       "      <td>rearrangement</td>\n",
       "      <td>FDA-Approved</td>\n",
       "      <td>RnRyn89cJzVbVM93aw4OA44NIF5zblyP</td>\n",
       "    </tr>\n",
       "    <tr>\n",
       "      <th>2</th>\n",
       "      <td>3</td>\n",
       "      <td>3</td>\n",
       "      <td>rearrangement</td>\n",
       "      <td>FDA-Approved</td>\n",
       "      <td>RnRyn89cJzVbVM93aw4OA44NIF5zblyP</td>\n",
       "    </tr>\n",
       "    <tr>\n",
       "      <th>3</th>\n",
       "      <td>4</td>\n",
       "      <td>4</td>\n",
       "      <td>rearrangement</td>\n",
       "      <td>FDA-Approved</td>\n",
       "      <td>RnRyn89cJzVbVM93aw4OA44NIF5zblyP</td>\n",
       "    </tr>\n",
       "    <tr>\n",
       "      <th>4</th>\n",
       "      <td>5</td>\n",
       "      <td>5</td>\n",
       "      <td>rearrangement</td>\n",
       "      <td>FDA-Approved</td>\n",
       "      <td>RnRyn89cJzVbVM93aw4OA44NIF5zblyP</td>\n",
       "    </tr>\n",
       "    <tr>\n",
       "      <th>...</th>\n",
       "      <td>...</td>\n",
       "      <td>...</td>\n",
       "      <td>...</td>\n",
       "      <td>...</td>\n",
       "      <td>...</td>\n",
       "    </tr>\n",
       "    <tr>\n",
       "      <th>889</th>\n",
       "      <td>890</td>\n",
       "      <td>890</td>\n",
       "      <td>somatic_variant</td>\n",
       "      <td>FDA-Approved</td>\n",
       "      <td>c3CkYcMt4ssh4AL4gpacJtFil8xl2TB2</td>\n",
       "    </tr>\n",
       "    <tr>\n",
       "      <th>890</th>\n",
       "      <td>891</td>\n",
       "      <td>891</td>\n",
       "      <td>somatic_variant</td>\n",
       "      <td>FDA-Approved</td>\n",
       "      <td>uAW4cOXId1N1MKo5fqHYdw9JGceCMmE5</td>\n",
       "    </tr>\n",
       "    <tr>\n",
       "      <th>891</th>\n",
       "      <td>892</td>\n",
       "      <td>892</td>\n",
       "      <td>somatic_variant</td>\n",
       "      <td>FDA-Approved</td>\n",
       "      <td>B5m8cSgi6w2xRCg0X_dPpQU2dwbvtXk1</td>\n",
       "    </tr>\n",
       "    <tr>\n",
       "      <th>892</th>\n",
       "      <td>893</td>\n",
       "      <td>893</td>\n",
       "      <td>somatic_variant</td>\n",
       "      <td>FDA-Approved</td>\n",
       "      <td>YLXf4Q8yr45bD0I_v6nkpDjBFuGPdFbd</td>\n",
       "    </tr>\n",
       "    <tr>\n",
       "      <th>893</th>\n",
       "      <td>894</td>\n",
       "      <td>894</td>\n",
       "      <td>somatic_variant</td>\n",
       "      <td>FDA-Approved</td>\n",
       "      <td>I4I_C5W3WTcrJrDzfwB2fGzi3asCjwy9</td>\n",
       "    </tr>\n",
       "  </tbody>\n",
       "</table>\n",
       "<p>894 rows × 5 columns</p>\n",
       "</div>"
      ],
      "text/plain": [
       "     assertion_id  feature_id     feature_type predictive_implication  \\\n",
       "0               1           1    rearrangement           FDA-Approved   \n",
       "1               2           2    rearrangement           FDA-Approved   \n",
       "2               3           3    rearrangement           FDA-Approved   \n",
       "3               4           4    rearrangement           FDA-Approved   \n",
       "4               5           5    rearrangement           FDA-Approved   \n",
       "..            ...         ...              ...                    ...   \n",
       "889           890         890  somatic_variant           FDA-Approved   \n",
       "890           891         891  somatic_variant           FDA-Approved   \n",
       "891           892         892  somatic_variant           FDA-Approved   \n",
       "892           893         893  somatic_variant           FDA-Approved   \n",
       "893           894         894  somatic_variant           FDA-Approved   \n",
       "\n",
       "                       feature_digest  \n",
       "0    RnRyn89cJzVbVM93aw4OA44NIF5zblyP  \n",
       "1    RnRyn89cJzVbVM93aw4OA44NIF5zblyP  \n",
       "2    RnRyn89cJzVbVM93aw4OA44NIF5zblyP  \n",
       "3    RnRyn89cJzVbVM93aw4OA44NIF5zblyP  \n",
       "4    RnRyn89cJzVbVM93aw4OA44NIF5zblyP  \n",
       "..                                ...  \n",
       "889  c3CkYcMt4ssh4AL4gpacJtFil8xl2TB2  \n",
       "890  uAW4cOXId1N1MKo5fqHYdw9JGceCMmE5  \n",
       "891  B5m8cSgi6w2xRCg0X_dPpQU2dwbvtXk1  \n",
       "892  YLXf4Q8yr45bD0I_v6nkpDjBFuGPdFbd  \n",
       "893  I4I_C5W3WTcrJrDzfwB2fGzi3asCjwy9  \n",
       "\n",
       "[894 rows x 5 columns]"
      ]
     },
     "execution_count": 6,
     "metadata": {},
     "output_type": "execute_result"
    }
   ],
   "source": [
    "# Create DF for assertions and their associated feature + predictive implication\n",
    "r = requests.get(\"https://moalmanac.org/api/assertions\")\n",
    "if r.status_code == 200:\n",
    "    assertion_data = r.json()\n",
    "\n",
    "transformed = []\n",
    "\n",
    "# Mapping from feature ID to feature digest\n",
    "feature_id_to_digest = {}\n",
    "\n",
    "for assertion in assertion_data:\n",
    "    assertion_id = assertion[\"assertion_id\"]\n",
    "    predictive_implication = assertion[\"predictive_implication\"]\n",
    "\n",
    "    if len(assertion[\"features\"]) != 1:\n",
    "        print(f\"assertion id ({assertion_id}) does not have 1 feature\")\n",
    "        continue\n",
    "\n",
    "    feature = assertion[\"features\"][0]\n",
    "    feature_id = feature[\"feature_id\"]\n",
    "    feature_digest = get_feature_digest(feature)\n",
    "\n",
    "    feature_id_to_digest[feature_id] = digest\n",
    "\n",
    "    transformed.append(\n",
    "        {\n",
    "            \"assertion_id\": assertion_id,\n",
    "            \"feature_id\": feature_id,\n",
    "            \"feature_type\": features[feature_digest],\n",
    "            \"predictive_implication\": predictive_implication,\n",
    "            \"feature_digest\": feature_digest\n",
    "        }\n",
    "    )\n",
    "moa_df = pd.DataFrame(transformed)\n",
    "moa_df"
   ]
  },
  {
   "cell_type": "code",
   "execution_count": 7,
   "metadata": {},
   "outputs": [],
   "source": [
    "unique_features_df = moa_df.sort_values(\"feature_id\").drop_duplicates(\"feature_digest\")\n",
    "len_unique_feature_ids = len(list(unique_features_df.feature_id))"
   ]
  },
  {
   "cell_type": "code",
   "execution_count": 8,
   "metadata": {},
   "outputs": [
    {
     "data": {
      "text/plain": [
       "'Total number of unique features (variants): 428'"
      ]
     },
     "execution_count": 8,
     "metadata": {},
     "output_type": "execute_result"
    }
   ],
   "source": [
    "total_len_features = len(moa_df.feature_digest.unique())\n",
    "f\"Total number of unique features (variants): {total_len_features}\""
   ]
  },
  {
   "cell_type": "code",
   "execution_count": 9,
   "metadata": {},
   "outputs": [],
   "source": [
    "assert total_len_features == len_unique_feature_ids"
   ]
  },
  {
   "cell_type": "code",
   "execution_count": 10,
   "metadata": {},
   "outputs": [
    {
     "data": {
      "text/plain": [
       "'Total number of unique assertions (evidence items): 894'"
      ]
     },
     "execution_count": 10,
     "metadata": {},
     "output_type": "execute_result"
    }
   ],
   "source": [
    "total_len_assertions = len(moa_df.assertion_id.unique())\n",
    "f\"Total number of unique assertions (evidence items): {total_len_assertions}\""
   ]
  },
  {
   "attachments": {},
   "cell_type": "markdown",
   "metadata": {},
   "source": [
    "### Converting feature (variant) types to normalized categories"
   ]
  },
  {
   "cell_type": "code",
   "execution_count": 11,
   "metadata": {},
   "outputs": [
    {
     "data": {
      "text/plain": [
       "['rearrangement',\n",
       " 'somatic_variant',\n",
       " 'germline_variant',\n",
       " 'copy_number',\n",
       " 'microsatellite_stability',\n",
       " 'mutational_signature',\n",
       " 'mutational_burden',\n",
       " 'knockdown',\n",
       " 'aneuploidy']"
      ]
     },
     "execution_count": 11,
     "metadata": {},
     "output_type": "execute_result"
    }
   ],
   "source": [
    "list(moa_df.feature_type.unique())"
   ]
  },
  {
   "cell_type": "code",
   "execution_count": 12,
   "metadata": {},
   "outputs": [
    {
     "data": {
      "text/html": [
       "<div>\n",
       "<style scoped>\n",
       "    .dataframe tbody tr th:only-of-type {\n",
       "        vertical-align: middle;\n",
       "    }\n",
       "\n",
       "    .dataframe tbody tr th {\n",
       "        vertical-align: top;\n",
       "    }\n",
       "\n",
       "    .dataframe thead th {\n",
       "        text-align: right;\n",
       "    }\n",
       "</style>\n",
       "<table border=\"1\" class=\"dataframe\">\n",
       "  <thead>\n",
       "    <tr style=\"text-align: right;\">\n",
       "      <th></th>\n",
       "      <th>assertion_id</th>\n",
       "      <th>feature_id</th>\n",
       "      <th>feature_type</th>\n",
       "      <th>predictive_implication</th>\n",
       "      <th>feature_digest</th>\n",
       "      <th>category</th>\n",
       "    </tr>\n",
       "  </thead>\n",
       "  <tbody>\n",
       "    <tr>\n",
       "      <th>0</th>\n",
       "      <td>1</td>\n",
       "      <td>1</td>\n",
       "      <td>rearrangement</td>\n",
       "      <td>FDA-Approved</td>\n",
       "      <td>RnRyn89cJzVbVM93aw4OA44NIF5zblyP</td>\n",
       "      <td>Rearrangements</td>\n",
       "    </tr>\n",
       "    <tr>\n",
       "      <th>1</th>\n",
       "      <td>2</td>\n",
       "      <td>2</td>\n",
       "      <td>rearrangement</td>\n",
       "      <td>FDA-Approved</td>\n",
       "      <td>RnRyn89cJzVbVM93aw4OA44NIF5zblyP</td>\n",
       "      <td>Rearrangements</td>\n",
       "    </tr>\n",
       "    <tr>\n",
       "      <th>2</th>\n",
       "      <td>3</td>\n",
       "      <td>3</td>\n",
       "      <td>rearrangement</td>\n",
       "      <td>FDA-Approved</td>\n",
       "      <td>RnRyn89cJzVbVM93aw4OA44NIF5zblyP</td>\n",
       "      <td>Rearrangements</td>\n",
       "    </tr>\n",
       "    <tr>\n",
       "      <th>3</th>\n",
       "      <td>4</td>\n",
       "      <td>4</td>\n",
       "      <td>rearrangement</td>\n",
       "      <td>FDA-Approved</td>\n",
       "      <td>RnRyn89cJzVbVM93aw4OA44NIF5zblyP</td>\n",
       "      <td>Rearrangements</td>\n",
       "    </tr>\n",
       "    <tr>\n",
       "      <th>4</th>\n",
       "      <td>5</td>\n",
       "      <td>5</td>\n",
       "      <td>rearrangement</td>\n",
       "      <td>FDA-Approved</td>\n",
       "      <td>RnRyn89cJzVbVM93aw4OA44NIF5zblyP</td>\n",
       "      <td>Rearrangements</td>\n",
       "    </tr>\n",
       "  </tbody>\n",
       "</table>\n",
       "</div>"
      ],
      "text/plain": [
       "   assertion_id  feature_id   feature_type predictive_implication  \\\n",
       "0             1           1  rearrangement           FDA-Approved   \n",
       "1             2           2  rearrangement           FDA-Approved   \n",
       "2             3           3  rearrangement           FDA-Approved   \n",
       "3             4           4  rearrangement           FDA-Approved   \n",
       "4             5           5  rearrangement           FDA-Approved   \n",
       "\n",
       "                     feature_digest        category  \n",
       "0  RnRyn89cJzVbVM93aw4OA44NIF5zblyP  Rearrangements  \n",
       "1  RnRyn89cJzVbVM93aw4OA44NIF5zblyP  Rearrangements  \n",
       "2  RnRyn89cJzVbVM93aw4OA44NIF5zblyP  Rearrangements  \n",
       "3  RnRyn89cJzVbVM93aw4OA44NIF5zblyP  Rearrangements  \n",
       "4  RnRyn89cJzVbVM93aw4OA44NIF5zblyP  Rearrangements  "
      ]
     },
     "execution_count": 12,
     "metadata": {},
     "output_type": "execute_result"
    }
   ],
   "source": [
    "moa_df[\"category\"] = moa_df[\"feature_type\"].copy()\n",
    "\n",
    "moa_df[\"category\"] = moa_df[\"category\"].replace(\"rearrangement\", VariantCategory.REARRANGEMENTS.value)\n",
    "moa_df[\"category\"] = moa_df[\"category\"].replace(\"aneuploidy\", VariantCategory.COPY_NUMBER.value)\n",
    "moa_df[\"category\"] = moa_df[\"category\"].replace(\"knockdown\", VariantCategory.EXPRESSION.value)\n",
    "moa_df[\"category\"] = moa_df[\"category\"].replace(\"somatic_variant\", VariantCategory.PROTEIN_CONS.value)\n",
    "moa_df[\"category\"] = moa_df[\"category\"].replace(\"germline_variant\", VariantCategory.PROTEIN_CONS.value)\n",
    "moa_df[\"category\"] = moa_df[\"category\"].replace(\"microsatellite_stability\", VariantCategory.REARRANGEMENTS.value)\n",
    "moa_df[\"category\"] = moa_df[\"category\"].replace(\"mutational_burden\", VariantCategory.OTHER.value)\n",
    "moa_df[\"category\"] = moa_df[\"category\"].replace(\"mutational_signature\", VariantCategory.OTHER.value)\n",
    "moa_df[\"category\"] = moa_df[\"category\"].replace(\"copy_number\", VariantCategory.COPY_NUMBER.value)\n",
    "\n",
    "moa_df.head()"
   ]
  },
  {
   "cell_type": "code",
   "execution_count": 13,
   "metadata": {},
   "outputs": [
    {
     "data": {
      "text/plain": [
       "['Rearrangements', 'Protein Consequence', 'Copy Number', 'Other', 'Expression']"
      ]
     },
     "execution_count": 13,
     "metadata": {},
     "output_type": "execute_result"
    }
   ],
   "source": [
    "list(moa_df.category.unique())"
   ]
  },
  {
   "attachments": {},
   "cell_type": "markdown",
   "metadata": {},
   "source": [
    "### Adding a numerical impact score based on the predictive implication\n",
    "This is based on the structure of MOA scoring"
   ]
  },
  {
   "cell_type": "code",
   "execution_count": 14,
   "metadata": {},
   "outputs": [
    {
     "data": {
      "text/plain": [
       "['FDA-Approved',\n",
       " 'Guideline',\n",
       " 'Clinical trial',\n",
       " 'Preclinical',\n",
       " 'Inferential',\n",
       " 'Clinical evidence']"
      ]
     },
     "execution_count": 14,
     "metadata": {},
     "output_type": "execute_result"
    }
   ],
   "source": [
    "predictive_implication_categories = moa_df.predictive_implication.unique()\n",
    "list(predictive_implication_categories)"
   ]
  },
  {
   "cell_type": "code",
   "execution_count": 15,
   "metadata": {},
   "outputs": [
    {
     "data": {
      "text/html": [
       "<div>\n",
       "<style scoped>\n",
       "    .dataframe tbody tr th:only-of-type {\n",
       "        vertical-align: middle;\n",
       "    }\n",
       "\n",
       "    .dataframe tbody tr th {\n",
       "        vertical-align: top;\n",
       "    }\n",
       "\n",
       "    .dataframe thead th {\n",
       "        text-align: right;\n",
       "    }\n",
       "</style>\n",
       "<table border=\"1\" class=\"dataframe\">\n",
       "  <thead>\n",
       "    <tr style=\"text-align: right;\">\n",
       "      <th></th>\n",
       "      <th>assertion_id</th>\n",
       "      <th>feature_id</th>\n",
       "      <th>feature_type</th>\n",
       "      <th>predictive_implication</th>\n",
       "      <th>feature_digest</th>\n",
       "      <th>category</th>\n",
       "      <th>impact_score</th>\n",
       "    </tr>\n",
       "  </thead>\n",
       "  <tbody>\n",
       "    <tr>\n",
       "      <th>0</th>\n",
       "      <td>1</td>\n",
       "      <td>1</td>\n",
       "      <td>rearrangement</td>\n",
       "      <td>FDA-Approved</td>\n",
       "      <td>RnRyn89cJzVbVM93aw4OA44NIF5zblyP</td>\n",
       "      <td>Rearrangements</td>\n",
       "      <td>10</td>\n",
       "    </tr>\n",
       "    <tr>\n",
       "      <th>1</th>\n",
       "      <td>2</td>\n",
       "      <td>2</td>\n",
       "      <td>rearrangement</td>\n",
       "      <td>FDA-Approved</td>\n",
       "      <td>RnRyn89cJzVbVM93aw4OA44NIF5zblyP</td>\n",
       "      <td>Rearrangements</td>\n",
       "      <td>10</td>\n",
       "    </tr>\n",
       "    <tr>\n",
       "      <th>2</th>\n",
       "      <td>3</td>\n",
       "      <td>3</td>\n",
       "      <td>rearrangement</td>\n",
       "      <td>FDA-Approved</td>\n",
       "      <td>RnRyn89cJzVbVM93aw4OA44NIF5zblyP</td>\n",
       "      <td>Rearrangements</td>\n",
       "      <td>10</td>\n",
       "    </tr>\n",
       "    <tr>\n",
       "      <th>3</th>\n",
       "      <td>4</td>\n",
       "      <td>4</td>\n",
       "      <td>rearrangement</td>\n",
       "      <td>FDA-Approved</td>\n",
       "      <td>RnRyn89cJzVbVM93aw4OA44NIF5zblyP</td>\n",
       "      <td>Rearrangements</td>\n",
       "      <td>10</td>\n",
       "    </tr>\n",
       "    <tr>\n",
       "      <th>4</th>\n",
       "      <td>5</td>\n",
       "      <td>5</td>\n",
       "      <td>rearrangement</td>\n",
       "      <td>FDA-Approved</td>\n",
       "      <td>RnRyn89cJzVbVM93aw4OA44NIF5zblyP</td>\n",
       "      <td>Rearrangements</td>\n",
       "      <td>10</td>\n",
       "    </tr>\n",
       "    <tr>\n",
       "      <th>...</th>\n",
       "      <td>...</td>\n",
       "      <td>...</td>\n",
       "      <td>...</td>\n",
       "      <td>...</td>\n",
       "      <td>...</td>\n",
       "      <td>...</td>\n",
       "      <td>...</td>\n",
       "    </tr>\n",
       "    <tr>\n",
       "      <th>889</th>\n",
       "      <td>890</td>\n",
       "      <td>890</td>\n",
       "      <td>somatic_variant</td>\n",
       "      <td>FDA-Approved</td>\n",
       "      <td>c3CkYcMt4ssh4AL4gpacJtFil8xl2TB2</td>\n",
       "      <td>Protein Consequence</td>\n",
       "      <td>10</td>\n",
       "    </tr>\n",
       "    <tr>\n",
       "      <th>890</th>\n",
       "      <td>891</td>\n",
       "      <td>891</td>\n",
       "      <td>somatic_variant</td>\n",
       "      <td>FDA-Approved</td>\n",
       "      <td>uAW4cOXId1N1MKo5fqHYdw9JGceCMmE5</td>\n",
       "      <td>Protein Consequence</td>\n",
       "      <td>10</td>\n",
       "    </tr>\n",
       "    <tr>\n",
       "      <th>891</th>\n",
       "      <td>892</td>\n",
       "      <td>892</td>\n",
       "      <td>somatic_variant</td>\n",
       "      <td>FDA-Approved</td>\n",
       "      <td>B5m8cSgi6w2xRCg0X_dPpQU2dwbvtXk1</td>\n",
       "      <td>Protein Consequence</td>\n",
       "      <td>10</td>\n",
       "    </tr>\n",
       "    <tr>\n",
       "      <th>892</th>\n",
       "      <td>893</td>\n",
       "      <td>893</td>\n",
       "      <td>somatic_variant</td>\n",
       "      <td>FDA-Approved</td>\n",
       "      <td>YLXf4Q8yr45bD0I_v6nkpDjBFuGPdFbd</td>\n",
       "      <td>Protein Consequence</td>\n",
       "      <td>10</td>\n",
       "    </tr>\n",
       "    <tr>\n",
       "      <th>893</th>\n",
       "      <td>894</td>\n",
       "      <td>894</td>\n",
       "      <td>somatic_variant</td>\n",
       "      <td>FDA-Approved</td>\n",
       "      <td>I4I_C5W3WTcrJrDzfwB2fGzi3asCjwy9</td>\n",
       "      <td>Protein Consequence</td>\n",
       "      <td>10</td>\n",
       "    </tr>\n",
       "  </tbody>\n",
       "</table>\n",
       "<p>894 rows × 7 columns</p>\n",
       "</div>"
      ],
      "text/plain": [
       "     assertion_id  feature_id     feature_type predictive_implication  \\\n",
       "0               1           1    rearrangement           FDA-Approved   \n",
       "1               2           2    rearrangement           FDA-Approved   \n",
       "2               3           3    rearrangement           FDA-Approved   \n",
       "3               4           4    rearrangement           FDA-Approved   \n",
       "4               5           5    rearrangement           FDA-Approved   \n",
       "..            ...         ...              ...                    ...   \n",
       "889           890         890  somatic_variant           FDA-Approved   \n",
       "890           891         891  somatic_variant           FDA-Approved   \n",
       "891           892         892  somatic_variant           FDA-Approved   \n",
       "892           893         893  somatic_variant           FDA-Approved   \n",
       "893           894         894  somatic_variant           FDA-Approved   \n",
       "\n",
       "                       feature_digest             category impact_score  \n",
       "0    RnRyn89cJzVbVM93aw4OA44NIF5zblyP       Rearrangements           10  \n",
       "1    RnRyn89cJzVbVM93aw4OA44NIF5zblyP       Rearrangements           10  \n",
       "2    RnRyn89cJzVbVM93aw4OA44NIF5zblyP       Rearrangements           10  \n",
       "3    RnRyn89cJzVbVM93aw4OA44NIF5zblyP       Rearrangements           10  \n",
       "4    RnRyn89cJzVbVM93aw4OA44NIF5zblyP       Rearrangements           10  \n",
       "..                                ...                  ...          ...  \n",
       "889  c3CkYcMt4ssh4AL4gpacJtFil8xl2TB2  Protein Consequence           10  \n",
       "890  uAW4cOXId1N1MKo5fqHYdw9JGceCMmE5  Protein Consequence           10  \n",
       "891  B5m8cSgi6w2xRCg0X_dPpQU2dwbvtXk1  Protein Consequence           10  \n",
       "892  YLXf4Q8yr45bD0I_v6nkpDjBFuGPdFbd  Protein Consequence           10  \n",
       "893  I4I_C5W3WTcrJrDzfwB2fGzi3asCjwy9  Protein Consequence           10  \n",
       "\n",
       "[894 rows x 7 columns]"
      ]
     },
     "execution_count": 15,
     "metadata": {},
     "output_type": "execute_result"
    }
   ],
   "source": [
    "moa_df[\"impact_score\"] = moa_df[\"predictive_implication\"].copy()\n",
    "\n",
    "moa_df.loc[moa_df[\"impact_score\"] == \"FDA-Approved\", \"impact_score\"] = 10\n",
    "moa_df.loc[moa_df[\"impact_score\"] == \"Guideline\", \"impact_score\"] = 10\n",
    "moa_df.loc[moa_df[\"impact_score\"] == \"Clinical evidence\", \"impact_score\"] = 5\n",
    "moa_df.loc[moa_df[\"impact_score\"] == \"Clinical trial\", \"impact_score\"] = 5\n",
    "moa_df.loc[moa_df[\"impact_score\"] == \"Preclinical\", \"impact_score\"] = 1\n",
    "moa_df.loc[moa_df[\"impact_score\"] == \"Inferential\", \"impact_score\"] = 1\n",
    "\n",
    "moa_df"
   ]
  },
  {
   "attachments": {},
   "cell_type": "markdown",
   "metadata": {},
   "source": [
    "### Impact Score Analysis"
   ]
  },
  {
   "cell_type": "code",
   "execution_count": 16,
   "metadata": {},
   "outputs": [
    {
     "name": "stdout",
     "output_type": "stream",
     "text": [
      "Expression: 12\n",
      "Epigenetic Modification: 0\n",
      "Fusion: 0\n",
      "Protein Consequence: 4199\n",
      "Gene Function: 0\n",
      "Rearrangements: 644\n",
      "Copy Number: 415\n",
      "Other: 62\n",
      "Genotypes Easy: 0\n",
      "Genotypes Compound: 0\n",
      "Region Defined Variant: 0\n",
      "Transcript Variant: 0\n"
     ]
    }
   ],
   "source": [
    "feature_categories_impact_data = dict()\n",
    "for category in VARIANT_CATEGORY_VALUES:\n",
    "    feature_categories_impact_data[category] = {}\n",
    "    impact_category_df = moa_df[moa_df.category == category]\n",
    "\n",
    "    total_sum_category_impact = impact_category_df[\"impact_score\"].sum()\n",
    "    feature_categories_impact_data[category][\"total_sum_category_impact\"] = total_sum_category_impact\n",
    "    print(f\"{category}: {total_sum_category_impact}\")"
   ]
  },
  {
   "attachments": {},
   "cell_type": "markdown",
   "metadata": {},
   "source": [
    "### Features (Variants) Analysis"
   ]
  },
  {
   "cell_type": "code",
   "execution_count": 17,
   "metadata": {},
   "outputs": [],
   "source": [
    "moa_feature_data = dict()\n",
    "for category in VARIANT_CATEGORY_VALUES:\n",
    "    moa_feature_data[category] = {}\n",
    "    feature_type_df = moa_df[moa_df.category == category]\n",
    "\n",
    "    number_unique_category_features = len(set(feature_type_df.feature_digest))\n",
    "    moa_feature_data[category][\"number_unique_category_features\"] = number_unique_category_features\n",
    "\n",
    "    fraction_category_feature = f\"{number_unique_category_features} / {total_len_features}\"\n",
    "    moa_feature_data[category][\"fraction_category_feature\"] = fraction_category_feature\n",
    "\n",
    "    percent_category_feature = \"{:.2f}\".format(number_unique_category_features / total_len_features * 100) + \"%\"\n",
    "    moa_feature_data[category][\"percent_category_feature\"] = percent_category_feature"
   ]
  },
  {
   "attachments": {},
   "cell_type": "markdown",
   "metadata": {},
   "source": [
    "### Assertions (Evidence Items) Analysis"
   ]
  },
  {
   "cell_type": "code",
   "execution_count": 18,
   "metadata": {},
   "outputs": [],
   "source": [
    "moa_assertion_data = dict()\n",
    "for category in VARIANT_CATEGORY_VALUES:\n",
    "    moa_assertion_data[category] = {}\n",
    "    assertion_type_df = moa_df[moa_df.category == category]\n",
    "\n",
    "    number_unique_category_assertions = len(set(assertion_type_df.assertion_id))\n",
    "    moa_assertion_data[category][\"number_unique_category_assertions\"] = number_unique_category_assertions\n",
    "\n",
    "    fraction_category_assertion = f\"{number_unique_category_assertions} / {total_len_assertions}\"\n",
    "    moa_assertion_data[category][\"fraction_category_assertion\"] = fraction_category_assertion\n",
    "\n",
    "    percent_category_assertion = \"{:.2f}\".format(number_unique_category_assertions / total_len_assertions * 100) + \"%\"\n",
    "    moa_assertion_data[category][\"percent_category_assertion\"] = percent_category_assertion"
   ]
  },
  {
   "attachments": {},
   "cell_type": "markdown",
   "metadata": {},
   "source": [
    "### Summaries for all Features (Variants) and Assertions (Evidence Items)"
   ]
  },
  {
   "cell_type": "code",
   "execution_count": 19,
   "metadata": {},
   "outputs": [],
   "source": [
    "feature_category_impact_score = [v[\"total_sum_category_impact\"] for v in feature_categories_impact_data.values()]\n",
    "feature_category_number = [v[\"number_unique_category_features\"] for v in moa_feature_data.values()]\n",
    "feature_category_fraction = [v[\"fraction_category_feature\"] for v in moa_feature_data.values()]\n",
    "feature_category_percent = [v[\"percent_category_feature\"] for v in moa_feature_data.values()]\n",
    "feature_category_assertion_number = [v[\"number_unique_category_assertions\"] for v in moa_assertion_data.values()]\n",
    "feature_category_assertion_fraction = [v[\"fraction_category_assertion\"] for v in moa_assertion_data.values()]\n",
    "feature_category_assertion_percent = [v[\"percent_category_assertion\"] for v in moa_assertion_data.values()]"
   ]
  },
  {
   "cell_type": "code",
   "execution_count": 20,
   "metadata": {},
   "outputs": [],
   "source": [
    "feature_category_dict = {\n",
    "    \"Category\": VARIANT_CATEGORY_VALUES,\n",
    "    \"Number of Features\": feature_category_number,\n",
    "    \"Fraction of Features\": feature_category_fraction,\n",
    "    \"Percent of Features\": feature_category_percent,\n",
    "    \"Number of Assertions\": feature_category_assertion_number,\n",
    "    \"Fraction of Assertions\": feature_category_assertion_fraction,\n",
    "    \"Percent of Assertions\": feature_category_assertion_percent,\n",
    "    \"Impact Score\": feature_category_impact_score\n",
    "}"
   ]
  },
  {
   "cell_type": "code",
   "execution_count": 21,
   "metadata": {},
   "outputs": [
    {
     "data": {
      "text/html": [
       "<div>\n",
       "<style scoped>\n",
       "    .dataframe tbody tr th:only-of-type {\n",
       "        vertical-align: middle;\n",
       "    }\n",
       "\n",
       "    .dataframe tbody tr th {\n",
       "        vertical-align: top;\n",
       "    }\n",
       "\n",
       "    .dataframe thead th {\n",
       "        text-align: right;\n",
       "    }\n",
       "</style>\n",
       "<table border=\"1\" class=\"dataframe\">\n",
       "  <thead>\n",
       "    <tr style=\"text-align: right;\">\n",
       "      <th></th>\n",
       "      <th>Category</th>\n",
       "      <th>Number of Features</th>\n",
       "      <th>Fraction of Features</th>\n",
       "      <th>Percent of Features</th>\n",
       "      <th>Number of Assertions</th>\n",
       "      <th>Fraction of Assertions</th>\n",
       "      <th>Percent of Assertions</th>\n",
       "      <th>Impact Score</th>\n",
       "    </tr>\n",
       "  </thead>\n",
       "  <tbody>\n",
       "    <tr>\n",
       "      <th>0</th>\n",
       "      <td>Expression</td>\n",
       "      <td>11</td>\n",
       "      <td>11 / 428</td>\n",
       "      <td>2.57%</td>\n",
       "      <td>12</td>\n",
       "      <td>12 / 894</td>\n",
       "      <td>1.34%</td>\n",
       "      <td>12</td>\n",
       "    </tr>\n",
       "    <tr>\n",
       "      <th>1</th>\n",
       "      <td>Epigenetic Modification</td>\n",
       "      <td>0</td>\n",
       "      <td>0 / 428</td>\n",
       "      <td>0.00%</td>\n",
       "      <td>0</td>\n",
       "      <td>0 / 894</td>\n",
       "      <td>0.00%</td>\n",
       "      <td>0</td>\n",
       "    </tr>\n",
       "    <tr>\n",
       "      <th>2</th>\n",
       "      <td>Fusion</td>\n",
       "      <td>0</td>\n",
       "      <td>0 / 428</td>\n",
       "      <td>0.00%</td>\n",
       "      <td>0</td>\n",
       "      <td>0 / 894</td>\n",
       "      <td>0.00%</td>\n",
       "      <td>0</td>\n",
       "    </tr>\n",
       "    <tr>\n",
       "      <th>3</th>\n",
       "      <td>Protein Consequence</td>\n",
       "      <td>323</td>\n",
       "      <td>323 / 428</td>\n",
       "      <td>75.47%</td>\n",
       "      <td>676</td>\n",
       "      <td>676 / 894</td>\n",
       "      <td>75.62%</td>\n",
       "      <td>4199</td>\n",
       "    </tr>\n",
       "    <tr>\n",
       "      <th>4</th>\n",
       "      <td>Gene Function</td>\n",
       "      <td>0</td>\n",
       "      <td>0 / 428</td>\n",
       "      <td>0.00%</td>\n",
       "      <td>0</td>\n",
       "      <td>0 / 894</td>\n",
       "      <td>0.00%</td>\n",
       "      <td>0</td>\n",
       "    </tr>\n",
       "    <tr>\n",
       "      <th>5</th>\n",
       "      <td>Rearrangements</td>\n",
       "      <td>38</td>\n",
       "      <td>38 / 428</td>\n",
       "      <td>8.88%</td>\n",
       "      <td>81</td>\n",
       "      <td>81 / 894</td>\n",
       "      <td>9.06%</td>\n",
       "      <td>644</td>\n",
       "    </tr>\n",
       "    <tr>\n",
       "      <th>6</th>\n",
       "      <td>Copy Number</td>\n",
       "      <td>47</td>\n",
       "      <td>47 / 428</td>\n",
       "      <td>10.98%</td>\n",
       "      <td>102</td>\n",
       "      <td>102 / 894</td>\n",
       "      <td>11.41%</td>\n",
       "      <td>415</td>\n",
       "    </tr>\n",
       "    <tr>\n",
       "      <th>7</th>\n",
       "      <td>Other</td>\n",
       "      <td>9</td>\n",
       "      <td>9 / 428</td>\n",
       "      <td>2.10%</td>\n",
       "      <td>23</td>\n",
       "      <td>23 / 894</td>\n",
       "      <td>2.57%</td>\n",
       "      <td>62</td>\n",
       "    </tr>\n",
       "    <tr>\n",
       "      <th>8</th>\n",
       "      <td>Genotypes Easy</td>\n",
       "      <td>0</td>\n",
       "      <td>0 / 428</td>\n",
       "      <td>0.00%</td>\n",
       "      <td>0</td>\n",
       "      <td>0 / 894</td>\n",
       "      <td>0.00%</td>\n",
       "      <td>0</td>\n",
       "    </tr>\n",
       "    <tr>\n",
       "      <th>9</th>\n",
       "      <td>Genotypes Compound</td>\n",
       "      <td>0</td>\n",
       "      <td>0 / 428</td>\n",
       "      <td>0.00%</td>\n",
       "      <td>0</td>\n",
       "      <td>0 / 894</td>\n",
       "      <td>0.00%</td>\n",
       "      <td>0</td>\n",
       "    </tr>\n",
       "    <tr>\n",
       "      <th>10</th>\n",
       "      <td>Region Defined Variant</td>\n",
       "      <td>0</td>\n",
       "      <td>0 / 428</td>\n",
       "      <td>0.00%</td>\n",
       "      <td>0</td>\n",
       "      <td>0 / 894</td>\n",
       "      <td>0.00%</td>\n",
       "      <td>0</td>\n",
       "    </tr>\n",
       "    <tr>\n",
       "      <th>11</th>\n",
       "      <td>Transcript Variant</td>\n",
       "      <td>0</td>\n",
       "      <td>0 / 428</td>\n",
       "      <td>0.00%</td>\n",
       "      <td>0</td>\n",
       "      <td>0 / 894</td>\n",
       "      <td>0.00%</td>\n",
       "      <td>0</td>\n",
       "    </tr>\n",
       "  </tbody>\n",
       "</table>\n",
       "</div>"
      ],
      "text/plain": [
       "                   Category  Number of Features Fraction of Features  \\\n",
       "0                Expression                  11             11 / 428   \n",
       "1   Epigenetic Modification                   0              0 / 428   \n",
       "2                    Fusion                   0              0 / 428   \n",
       "3       Protein Consequence                 323            323 / 428   \n",
       "4             Gene Function                   0              0 / 428   \n",
       "5            Rearrangements                  38             38 / 428   \n",
       "6               Copy Number                  47             47 / 428   \n",
       "7                     Other                   9              9 / 428   \n",
       "8            Genotypes Easy                   0              0 / 428   \n",
       "9        Genotypes Compound                   0              0 / 428   \n",
       "10   Region Defined Variant                   0              0 / 428   \n",
       "11       Transcript Variant                   0              0 / 428   \n",
       "\n",
       "   Percent of Features  Number of Assertions Fraction of Assertions  \\\n",
       "0                2.57%                    12               12 / 894   \n",
       "1                0.00%                     0                0 / 894   \n",
       "2                0.00%                     0                0 / 894   \n",
       "3               75.47%                   676              676 / 894   \n",
       "4                0.00%                     0                0 / 894   \n",
       "5                8.88%                    81               81 / 894   \n",
       "6               10.98%                   102              102 / 894   \n",
       "7                2.10%                    23               23 / 894   \n",
       "8                0.00%                     0                0 / 894   \n",
       "9                0.00%                     0                0 / 894   \n",
       "10               0.00%                     0                0 / 894   \n",
       "11               0.00%                     0                0 / 894   \n",
       "\n",
       "   Percent of Assertions  Impact Score  \n",
       "0                  1.34%            12  \n",
       "1                  0.00%             0  \n",
       "2                  0.00%             0  \n",
       "3                 75.62%          4199  \n",
       "4                  0.00%             0  \n",
       "5                  9.06%           644  \n",
       "6                 11.41%           415  \n",
       "7                  2.57%            62  \n",
       "8                  0.00%             0  \n",
       "9                  0.00%             0  \n",
       "10                 0.00%             0  \n",
       "11                 0.00%             0  "
      ]
     },
     "execution_count": 21,
     "metadata": {},
     "output_type": "execute_result"
    }
   ],
   "source": [
    "moa_feature_df = pd.DataFrame(feature_category_dict)\n",
    "moa_feature_df"
   ]
  },
  {
   "cell_type": "code",
   "execution_count": 22,
   "metadata": {},
   "outputs": [],
   "source": [
    "moa_feature_df[\"Percent of Features\"] = moa_feature_df[\"Fraction of Features\"].astype(str) + \" (\" + moa_feature_df[\"Percent of Features\"] + \")\"\n",
    "moa_feature_df[\"Percent of Assertions\"] = moa_feature_df[\"Fraction of Assertions\"].astype(str) + \" (\" + moa_feature_df[\"Percent of Assertions\"] + \")\""
   ]
  },
  {
   "cell_type": "code",
   "execution_count": 23,
   "metadata": {},
   "outputs": [],
   "source": [
    "moa_feature_df_abbreviated = moa_feature_df.drop([\"Number of Features\", \"Fraction of Features\", \"Number of Assertions\", \"Fraction of Assertions\"], axis=1)"
   ]
  },
  {
   "cell_type": "code",
   "execution_count": 24,
   "metadata": {},
   "outputs": [
    {
     "data": {
      "text/html": [
       "<div>\n",
       "<style scoped>\n",
       "    .dataframe tbody tr th:only-of-type {\n",
       "        vertical-align: middle;\n",
       "    }\n",
       "\n",
       "    .dataframe tbody tr th {\n",
       "        vertical-align: top;\n",
       "    }\n",
       "\n",
       "    .dataframe thead th {\n",
       "        text-align: right;\n",
       "    }\n",
       "</style>\n",
       "<table border=\"1\" class=\"dataframe\">\n",
       "  <thead>\n",
       "    <tr style=\"text-align: right;\">\n",
       "      <th></th>\n",
       "      <th>Percent of Features</th>\n",
       "      <th>Percent of Assertions</th>\n",
       "      <th>Impact Score</th>\n",
       "    </tr>\n",
       "    <tr>\n",
       "      <th>Category</th>\n",
       "      <th></th>\n",
       "      <th></th>\n",
       "      <th></th>\n",
       "    </tr>\n",
       "  </thead>\n",
       "  <tbody>\n",
       "    <tr>\n",
       "      <th>Expression</th>\n",
       "      <td>11 / 428 (2.57%)</td>\n",
       "      <td>12 / 894 (1.34%)</td>\n",
       "      <td>12</td>\n",
       "    </tr>\n",
       "    <tr>\n",
       "      <th>Epigenetic Modification</th>\n",
       "      <td>0 / 428 (0.00%)</td>\n",
       "      <td>0 / 894 (0.00%)</td>\n",
       "      <td>0</td>\n",
       "    </tr>\n",
       "    <tr>\n",
       "      <th>Fusion</th>\n",
       "      <td>0 / 428 (0.00%)</td>\n",
       "      <td>0 / 894 (0.00%)</td>\n",
       "      <td>0</td>\n",
       "    </tr>\n",
       "    <tr>\n",
       "      <th>Protein Consequence</th>\n",
       "      <td>323 / 428 (75.47%)</td>\n",
       "      <td>676 / 894 (75.62%)</td>\n",
       "      <td>4199</td>\n",
       "    </tr>\n",
       "    <tr>\n",
       "      <th>Gene Function</th>\n",
       "      <td>0 / 428 (0.00%)</td>\n",
       "      <td>0 / 894 (0.00%)</td>\n",
       "      <td>0</td>\n",
       "    </tr>\n",
       "    <tr>\n",
       "      <th>Rearrangements</th>\n",
       "      <td>38 / 428 (8.88%)</td>\n",
       "      <td>81 / 894 (9.06%)</td>\n",
       "      <td>644</td>\n",
       "    </tr>\n",
       "    <tr>\n",
       "      <th>Copy Number</th>\n",
       "      <td>47 / 428 (10.98%)</td>\n",
       "      <td>102 / 894 (11.41%)</td>\n",
       "      <td>415</td>\n",
       "    </tr>\n",
       "    <tr>\n",
       "      <th>Other</th>\n",
       "      <td>9 / 428 (2.10%)</td>\n",
       "      <td>23 / 894 (2.57%)</td>\n",
       "      <td>62</td>\n",
       "    </tr>\n",
       "    <tr>\n",
       "      <th>Genotypes Easy</th>\n",
       "      <td>0 / 428 (0.00%)</td>\n",
       "      <td>0 / 894 (0.00%)</td>\n",
       "      <td>0</td>\n",
       "    </tr>\n",
       "    <tr>\n",
       "      <th>Genotypes Compound</th>\n",
       "      <td>0 / 428 (0.00%)</td>\n",
       "      <td>0 / 894 (0.00%)</td>\n",
       "      <td>0</td>\n",
       "    </tr>\n",
       "    <tr>\n",
       "      <th>Region Defined Variant</th>\n",
       "      <td>0 / 428 (0.00%)</td>\n",
       "      <td>0 / 894 (0.00%)</td>\n",
       "      <td>0</td>\n",
       "    </tr>\n",
       "    <tr>\n",
       "      <th>Transcript Variant</th>\n",
       "      <td>0 / 428 (0.00%)</td>\n",
       "      <td>0 / 894 (0.00%)</td>\n",
       "      <td>0</td>\n",
       "    </tr>\n",
       "  </tbody>\n",
       "</table>\n",
       "</div>"
      ],
      "text/plain": [
       "                        Percent of Features Percent of Assertions  \\\n",
       "Category                                                            \n",
       "Expression                 11 / 428 (2.57%)      12 / 894 (1.34%)   \n",
       "Epigenetic Modification     0 / 428 (0.00%)       0 / 894 (0.00%)   \n",
       "Fusion                      0 / 428 (0.00%)       0 / 894 (0.00%)   \n",
       "Protein Consequence      323 / 428 (75.47%)    676 / 894 (75.62%)   \n",
       "Gene Function               0 / 428 (0.00%)       0 / 894 (0.00%)   \n",
       "Rearrangements             38 / 428 (8.88%)      81 / 894 (9.06%)   \n",
       "Copy Number               47 / 428 (10.98%)    102 / 894 (11.41%)   \n",
       "Other                       9 / 428 (2.10%)      23 / 894 (2.57%)   \n",
       "Genotypes Easy              0 / 428 (0.00%)       0 / 894 (0.00%)   \n",
       "Genotypes Compound          0 / 428 (0.00%)       0 / 894 (0.00%)   \n",
       "Region Defined Variant      0 / 428 (0.00%)       0 / 894 (0.00%)   \n",
       "Transcript Variant          0 / 428 (0.00%)       0 / 894 (0.00%)   \n",
       "\n",
       "                         Impact Score  \n",
       "Category                               \n",
       "Expression                         12  \n",
       "Epigenetic Modification             0  \n",
       "Fusion                              0  \n",
       "Protein Consequence              4199  \n",
       "Gene Function                       0  \n",
       "Rearrangements                    644  \n",
       "Copy Number                       415  \n",
       "Other                              62  \n",
       "Genotypes Easy                      0  \n",
       "Genotypes Compound                  0  \n",
       "Region Defined Variant              0  \n",
       "Transcript Variant                  0  "
      ]
     },
     "execution_count": 24,
     "metadata": {},
     "output_type": "execute_result"
    }
   ],
   "source": [
    "moa_feature_df_abbreviated = moa_feature_df_abbreviated.set_index(\"Category\")\n",
    "moa_feature_df_abbreviated"
   ]
  },
  {
   "cell_type": "code",
   "execution_count": 25,
   "metadata": {},
   "outputs": [
    {
     "data": {
      "application/vnd.plotly.v1+json": {
       "config": {
        "plotlyServerURL": "https://plot.ly"
       },
       "data": [
        {
         "hovertemplate": "Category=Expression<br>Number of Assertions=%{x}<br>Impact Score=%{y}<br>Number of Features=%{text}<extra></extra>",
         "legendgroup": "Expression",
         "marker": {
          "color": "#636efa",
          "size": [
           11
          ],
          "sizemode": "area",
          "sizeref": 0.201875,
          "symbol": "circle"
         },
         "mode": "markers+text",
         "name": "Expression",
         "orientation": "v",
         "showlegend": true,
         "text": [
          11
         ],
         "type": "scatter",
         "x": [
          12
         ],
         "xaxis": "x",
         "y": [
          12
         ],
         "yaxis": "y"
        },
        {
         "hovertemplate": "Category=Epigenetic Modification<br>Number of Assertions=%{x}<br>Impact Score=%{y}<br>Number of Features=%{text}<extra></extra>",
         "legendgroup": "Epigenetic Modification",
         "marker": {
          "color": "#EF553B",
          "size": [
           0
          ],
          "sizemode": "area",
          "sizeref": 0.201875,
          "symbol": "circle"
         },
         "mode": "markers+text",
         "name": "Epigenetic Modification",
         "orientation": "v",
         "showlegend": true,
         "text": [
          0
         ],
         "type": "scatter",
         "x": [
          0
         ],
         "xaxis": "x",
         "y": [
          0
         ],
         "yaxis": "y"
        },
        {
         "hovertemplate": "Category=Fusion<br>Number of Assertions=%{x}<br>Impact Score=%{y}<br>Number of Features=%{text}<extra></extra>",
         "legendgroup": "Fusion",
         "marker": {
          "color": "#00cc96",
          "size": [
           0
          ],
          "sizemode": "area",
          "sizeref": 0.201875,
          "symbol": "circle"
         },
         "mode": "markers+text",
         "name": "Fusion",
         "orientation": "v",
         "showlegend": true,
         "text": [
          0
         ],
         "type": "scatter",
         "x": [
          0
         ],
         "xaxis": "x",
         "y": [
          0
         ],
         "yaxis": "y"
        },
        {
         "hovertemplate": "Category=Protein Consequence<br>Number of Assertions=%{x}<br>Impact Score=%{y}<br>Number of Features=%{text}<extra></extra>",
         "legendgroup": "Protein Consequence",
         "marker": {
          "color": "#ab63fa",
          "size": [
           323
          ],
          "sizemode": "area",
          "sizeref": 0.201875,
          "symbol": "circle"
         },
         "mode": "markers+text",
         "name": "Protein Consequence",
         "orientation": "v",
         "showlegend": true,
         "text": [
          323
         ],
         "type": "scatter",
         "x": [
          676
         ],
         "xaxis": "x",
         "y": [
          4199
         ],
         "yaxis": "y"
        },
        {
         "hovertemplate": "Category=Gene Function<br>Number of Assertions=%{x}<br>Impact Score=%{y}<br>Number of Features=%{text}<extra></extra>",
         "legendgroup": "Gene Function",
         "marker": {
          "color": "#FFA15A",
          "size": [
           0
          ],
          "sizemode": "area",
          "sizeref": 0.201875,
          "symbol": "circle"
         },
         "mode": "markers+text",
         "name": "Gene Function",
         "orientation": "v",
         "showlegend": true,
         "text": [
          0
         ],
         "type": "scatter",
         "x": [
          0
         ],
         "xaxis": "x",
         "y": [
          0
         ],
         "yaxis": "y"
        },
        {
         "hovertemplate": "Category=Rearrangements<br>Number of Assertions=%{x}<br>Impact Score=%{y}<br>Number of Features=%{text}<extra></extra>",
         "legendgroup": "Rearrangements",
         "marker": {
          "color": "#19d3f3",
          "size": [
           38
          ],
          "sizemode": "area",
          "sizeref": 0.201875,
          "symbol": "circle"
         },
         "mode": "markers+text",
         "name": "Rearrangements",
         "orientation": "v",
         "showlegend": true,
         "text": [
          38
         ],
         "type": "scatter",
         "x": [
          81
         ],
         "xaxis": "x",
         "y": [
          644
         ],
         "yaxis": "y"
        },
        {
         "hovertemplate": "Category=Copy Number<br>Number of Assertions=%{x}<br>Impact Score=%{y}<br>Number of Features=%{text}<extra></extra>",
         "legendgroup": "Copy Number",
         "marker": {
          "color": "#FF6692",
          "size": [
           47
          ],
          "sizemode": "area",
          "sizeref": 0.201875,
          "symbol": "circle"
         },
         "mode": "markers+text",
         "name": "Copy Number",
         "orientation": "v",
         "showlegend": true,
         "text": [
          47
         ],
         "type": "scatter",
         "x": [
          102
         ],
         "xaxis": "x",
         "y": [
          415
         ],
         "yaxis": "y"
        },
        {
         "hovertemplate": "Category=Other<br>Number of Assertions=%{x}<br>Impact Score=%{y}<br>Number of Features=%{text}<extra></extra>",
         "legendgroup": "Other",
         "marker": {
          "color": "#B6E880",
          "size": [
           9
          ],
          "sizemode": "area",
          "sizeref": 0.201875,
          "symbol": "circle"
         },
         "mode": "markers+text",
         "name": "Other",
         "orientation": "v",
         "showlegend": true,
         "text": [
          9
         ],
         "type": "scatter",
         "x": [
          23
         ],
         "xaxis": "x",
         "y": [
          62
         ],
         "yaxis": "y"
        },
        {
         "hovertemplate": "Category=Genotypes Easy<br>Number of Assertions=%{x}<br>Impact Score=%{y}<br>Number of Features=%{text}<extra></extra>",
         "legendgroup": "Genotypes Easy",
         "marker": {
          "color": "#FF97FF",
          "size": [
           0
          ],
          "sizemode": "area",
          "sizeref": 0.201875,
          "symbol": "circle"
         },
         "mode": "markers+text",
         "name": "Genotypes Easy",
         "orientation": "v",
         "showlegend": true,
         "text": [
          0
         ],
         "type": "scatter",
         "x": [
          0
         ],
         "xaxis": "x",
         "y": [
          0
         ],
         "yaxis": "y"
        },
        {
         "hovertemplate": "Category=Genotypes Compound<br>Number of Assertions=%{x}<br>Impact Score=%{y}<br>Number of Features=%{text}<extra></extra>",
         "legendgroup": "Genotypes Compound",
         "marker": {
          "color": "#FECB52",
          "size": [
           0
          ],
          "sizemode": "area",
          "sizeref": 0.201875,
          "symbol": "circle"
         },
         "mode": "markers+text",
         "name": "Genotypes Compound",
         "orientation": "v",
         "showlegend": true,
         "text": [
          0
         ],
         "type": "scatter",
         "x": [
          0
         ],
         "xaxis": "x",
         "y": [
          0
         ],
         "yaxis": "y"
        },
        {
         "hovertemplate": "Category=Region Defined Variant<br>Number of Assertions=%{x}<br>Impact Score=%{y}<br>Number of Features=%{text}<extra></extra>",
         "legendgroup": "Region Defined Variant",
         "marker": {
          "color": "#636efa",
          "size": [
           0
          ],
          "sizemode": "area",
          "sizeref": 0.201875,
          "symbol": "circle"
         },
         "mode": "markers+text",
         "name": "Region Defined Variant",
         "orientation": "v",
         "showlegend": true,
         "text": [
          0
         ],
         "type": "scatter",
         "x": [
          0
         ],
         "xaxis": "x",
         "y": [
          0
         ],
         "yaxis": "y"
        },
        {
         "hovertemplate": "Category=Transcript Variant<br>Number of Assertions=%{x}<br>Impact Score=%{y}<br>Number of Features=%{text}<extra></extra>",
         "legendgroup": "Transcript Variant",
         "marker": {
          "color": "#EF553B",
          "size": [
           0
          ],
          "sizemode": "area",
          "sizeref": 0.201875,
          "symbol": "circle"
         },
         "mode": "markers+text",
         "name": "Transcript Variant",
         "orientation": "v",
         "showlegend": true,
         "text": [
          0
         ],
         "type": "scatter",
         "x": [
          0
         ],
         "xaxis": "x",
         "y": [
          0
         ],
         "yaxis": "y"
        }
       ],
       "layout": {
        "legend": {
         "itemsizing": "constant",
         "title": {
          "text": "Category"
         },
         "tracegroupgap": 0
        },
        "margin": {
         "t": 60
        },
        "template": {
         "data": {
          "bar": [
           {
            "error_x": {
             "color": "#2a3f5f"
            },
            "error_y": {
             "color": "#2a3f5f"
            },
            "marker": {
             "line": {
              "color": "#E5ECF6",
              "width": 0.5
             },
             "pattern": {
              "fillmode": "overlay",
              "size": 10,
              "solidity": 0.2
             }
            },
            "type": "bar"
           }
          ],
          "barpolar": [
           {
            "marker": {
             "line": {
              "color": "#E5ECF6",
              "width": 0.5
             },
             "pattern": {
              "fillmode": "overlay",
              "size": 10,
              "solidity": 0.2
             }
            },
            "type": "barpolar"
           }
          ],
          "carpet": [
           {
            "aaxis": {
             "endlinecolor": "#2a3f5f",
             "gridcolor": "white",
             "linecolor": "white",
             "minorgridcolor": "white",
             "startlinecolor": "#2a3f5f"
            },
            "baxis": {
             "endlinecolor": "#2a3f5f",
             "gridcolor": "white",
             "linecolor": "white",
             "minorgridcolor": "white",
             "startlinecolor": "#2a3f5f"
            },
            "type": "carpet"
           }
          ],
          "choropleth": [
           {
            "colorbar": {
             "outlinewidth": 0,
             "ticks": ""
            },
            "type": "choropleth"
           }
          ],
          "contour": [
           {
            "colorbar": {
             "outlinewidth": 0,
             "ticks": ""
            },
            "colorscale": [
             [
              0,
              "#0d0887"
             ],
             [
              0.1111111111111111,
              "#46039f"
             ],
             [
              0.2222222222222222,
              "#7201a8"
             ],
             [
              0.3333333333333333,
              "#9c179e"
             ],
             [
              0.4444444444444444,
              "#bd3786"
             ],
             [
              0.5555555555555556,
              "#d8576b"
             ],
             [
              0.6666666666666666,
              "#ed7953"
             ],
             [
              0.7777777777777778,
              "#fb9f3a"
             ],
             [
              0.8888888888888888,
              "#fdca26"
             ],
             [
              1,
              "#f0f921"
             ]
            ],
            "type": "contour"
           }
          ],
          "contourcarpet": [
           {
            "colorbar": {
             "outlinewidth": 0,
             "ticks": ""
            },
            "type": "contourcarpet"
           }
          ],
          "heatmap": [
           {
            "colorbar": {
             "outlinewidth": 0,
             "ticks": ""
            },
            "colorscale": [
             [
              0,
              "#0d0887"
             ],
             [
              0.1111111111111111,
              "#46039f"
             ],
             [
              0.2222222222222222,
              "#7201a8"
             ],
             [
              0.3333333333333333,
              "#9c179e"
             ],
             [
              0.4444444444444444,
              "#bd3786"
             ],
             [
              0.5555555555555556,
              "#d8576b"
             ],
             [
              0.6666666666666666,
              "#ed7953"
             ],
             [
              0.7777777777777778,
              "#fb9f3a"
             ],
             [
              0.8888888888888888,
              "#fdca26"
             ],
             [
              1,
              "#f0f921"
             ]
            ],
            "type": "heatmap"
           }
          ],
          "heatmapgl": [
           {
            "colorbar": {
             "outlinewidth": 0,
             "ticks": ""
            },
            "colorscale": [
             [
              0,
              "#0d0887"
             ],
             [
              0.1111111111111111,
              "#46039f"
             ],
             [
              0.2222222222222222,
              "#7201a8"
             ],
             [
              0.3333333333333333,
              "#9c179e"
             ],
             [
              0.4444444444444444,
              "#bd3786"
             ],
             [
              0.5555555555555556,
              "#d8576b"
             ],
             [
              0.6666666666666666,
              "#ed7953"
             ],
             [
              0.7777777777777778,
              "#fb9f3a"
             ],
             [
              0.8888888888888888,
              "#fdca26"
             ],
             [
              1,
              "#f0f921"
             ]
            ],
            "type": "heatmapgl"
           }
          ],
          "histogram": [
           {
            "marker": {
             "pattern": {
              "fillmode": "overlay",
              "size": 10,
              "solidity": 0.2
             }
            },
            "type": "histogram"
           }
          ],
          "histogram2d": [
           {
            "colorbar": {
             "outlinewidth": 0,
             "ticks": ""
            },
            "colorscale": [
             [
              0,
              "#0d0887"
             ],
             [
              0.1111111111111111,
              "#46039f"
             ],
             [
              0.2222222222222222,
              "#7201a8"
             ],
             [
              0.3333333333333333,
              "#9c179e"
             ],
             [
              0.4444444444444444,
              "#bd3786"
             ],
             [
              0.5555555555555556,
              "#d8576b"
             ],
             [
              0.6666666666666666,
              "#ed7953"
             ],
             [
              0.7777777777777778,
              "#fb9f3a"
             ],
             [
              0.8888888888888888,
              "#fdca26"
             ],
             [
              1,
              "#f0f921"
             ]
            ],
            "type": "histogram2d"
           }
          ],
          "histogram2dcontour": [
           {
            "colorbar": {
             "outlinewidth": 0,
             "ticks": ""
            },
            "colorscale": [
             [
              0,
              "#0d0887"
             ],
             [
              0.1111111111111111,
              "#46039f"
             ],
             [
              0.2222222222222222,
              "#7201a8"
             ],
             [
              0.3333333333333333,
              "#9c179e"
             ],
             [
              0.4444444444444444,
              "#bd3786"
             ],
             [
              0.5555555555555556,
              "#d8576b"
             ],
             [
              0.6666666666666666,
              "#ed7953"
             ],
             [
              0.7777777777777778,
              "#fb9f3a"
             ],
             [
              0.8888888888888888,
              "#fdca26"
             ],
             [
              1,
              "#f0f921"
             ]
            ],
            "type": "histogram2dcontour"
           }
          ],
          "mesh3d": [
           {
            "colorbar": {
             "outlinewidth": 0,
             "ticks": ""
            },
            "type": "mesh3d"
           }
          ],
          "parcoords": [
           {
            "line": {
             "colorbar": {
              "outlinewidth": 0,
              "ticks": ""
             }
            },
            "type": "parcoords"
           }
          ],
          "pie": [
           {
            "automargin": true,
            "type": "pie"
           }
          ],
          "scatter": [
           {
            "fillpattern": {
             "fillmode": "overlay",
             "size": 10,
             "solidity": 0.2
            },
            "type": "scatter"
           }
          ],
          "scatter3d": [
           {
            "line": {
             "colorbar": {
              "outlinewidth": 0,
              "ticks": ""
             }
            },
            "marker": {
             "colorbar": {
              "outlinewidth": 0,
              "ticks": ""
             }
            },
            "type": "scatter3d"
           }
          ],
          "scattercarpet": [
           {
            "marker": {
             "colorbar": {
              "outlinewidth": 0,
              "ticks": ""
             }
            },
            "type": "scattercarpet"
           }
          ],
          "scattergeo": [
           {
            "marker": {
             "colorbar": {
              "outlinewidth": 0,
              "ticks": ""
             }
            },
            "type": "scattergeo"
           }
          ],
          "scattergl": [
           {
            "marker": {
             "colorbar": {
              "outlinewidth": 0,
              "ticks": ""
             }
            },
            "type": "scattergl"
           }
          ],
          "scattermapbox": [
           {
            "marker": {
             "colorbar": {
              "outlinewidth": 0,
              "ticks": ""
             }
            },
            "type": "scattermapbox"
           }
          ],
          "scatterpolar": [
           {
            "marker": {
             "colorbar": {
              "outlinewidth": 0,
              "ticks": ""
             }
            },
            "type": "scatterpolar"
           }
          ],
          "scatterpolargl": [
           {
            "marker": {
             "colorbar": {
              "outlinewidth": 0,
              "ticks": ""
             }
            },
            "type": "scatterpolargl"
           }
          ],
          "scatterternary": [
           {
            "marker": {
             "colorbar": {
              "outlinewidth": 0,
              "ticks": ""
             }
            },
            "type": "scatterternary"
           }
          ],
          "surface": [
           {
            "colorbar": {
             "outlinewidth": 0,
             "ticks": ""
            },
            "colorscale": [
             [
              0,
              "#0d0887"
             ],
             [
              0.1111111111111111,
              "#46039f"
             ],
             [
              0.2222222222222222,
              "#7201a8"
             ],
             [
              0.3333333333333333,
              "#9c179e"
             ],
             [
              0.4444444444444444,
              "#bd3786"
             ],
             [
              0.5555555555555556,
              "#d8576b"
             ],
             [
              0.6666666666666666,
              "#ed7953"
             ],
             [
              0.7777777777777778,
              "#fb9f3a"
             ],
             [
              0.8888888888888888,
              "#fdca26"
             ],
             [
              1,
              "#f0f921"
             ]
            ],
            "type": "surface"
           }
          ],
          "table": [
           {
            "cells": {
             "fill": {
              "color": "#EBF0F8"
             },
             "line": {
              "color": "white"
             }
            },
            "header": {
             "fill": {
              "color": "#C8D4E3"
             },
             "line": {
              "color": "white"
             }
            },
            "type": "table"
           }
          ]
         },
         "layout": {
          "annotationdefaults": {
           "arrowcolor": "#2a3f5f",
           "arrowhead": 0,
           "arrowwidth": 1
          },
          "autotypenumbers": "strict",
          "coloraxis": {
           "colorbar": {
            "outlinewidth": 0,
            "ticks": ""
           }
          },
          "colorscale": {
           "diverging": [
            [
             0,
             "#8e0152"
            ],
            [
             0.1,
             "#c51b7d"
            ],
            [
             0.2,
             "#de77ae"
            ],
            [
             0.3,
             "#f1b6da"
            ],
            [
             0.4,
             "#fde0ef"
            ],
            [
             0.5,
             "#f7f7f7"
            ],
            [
             0.6,
             "#e6f5d0"
            ],
            [
             0.7,
             "#b8e186"
            ],
            [
             0.8,
             "#7fbc41"
            ],
            [
             0.9,
             "#4d9221"
            ],
            [
             1,
             "#276419"
            ]
           ],
           "sequential": [
            [
             0,
             "#0d0887"
            ],
            [
             0.1111111111111111,
             "#46039f"
            ],
            [
             0.2222222222222222,
             "#7201a8"
            ],
            [
             0.3333333333333333,
             "#9c179e"
            ],
            [
             0.4444444444444444,
             "#bd3786"
            ],
            [
             0.5555555555555556,
             "#d8576b"
            ],
            [
             0.6666666666666666,
             "#ed7953"
            ],
            [
             0.7777777777777778,
             "#fb9f3a"
            ],
            [
             0.8888888888888888,
             "#fdca26"
            ],
            [
             1,
             "#f0f921"
            ]
           ],
           "sequentialminus": [
            [
             0,
             "#0d0887"
            ],
            [
             0.1111111111111111,
             "#46039f"
            ],
            [
             0.2222222222222222,
             "#7201a8"
            ],
            [
             0.3333333333333333,
             "#9c179e"
            ],
            [
             0.4444444444444444,
             "#bd3786"
            ],
            [
             0.5555555555555556,
             "#d8576b"
            ],
            [
             0.6666666666666666,
             "#ed7953"
            ],
            [
             0.7777777777777778,
             "#fb9f3a"
            ],
            [
             0.8888888888888888,
             "#fdca26"
            ],
            [
             1,
             "#f0f921"
            ]
           ]
          },
          "colorway": [
           "#636efa",
           "#EF553B",
           "#00cc96",
           "#ab63fa",
           "#FFA15A",
           "#19d3f3",
           "#FF6692",
           "#B6E880",
           "#FF97FF",
           "#FECB52"
          ],
          "font": {
           "color": "#2a3f5f"
          },
          "geo": {
           "bgcolor": "white",
           "lakecolor": "white",
           "landcolor": "#E5ECF6",
           "showlakes": true,
           "showland": true,
           "subunitcolor": "white"
          },
          "hoverlabel": {
           "align": "left"
          },
          "hovermode": "closest",
          "mapbox": {
           "style": "light"
          },
          "paper_bgcolor": "white",
          "plot_bgcolor": "#E5ECF6",
          "polar": {
           "angularaxis": {
            "gridcolor": "white",
            "linecolor": "white",
            "ticks": ""
           },
           "bgcolor": "#E5ECF6",
           "radialaxis": {
            "gridcolor": "white",
            "linecolor": "white",
            "ticks": ""
           }
          },
          "scene": {
           "xaxis": {
            "backgroundcolor": "#E5ECF6",
            "gridcolor": "white",
            "gridwidth": 2,
            "linecolor": "white",
            "showbackground": true,
            "ticks": "",
            "zerolinecolor": "white"
           },
           "yaxis": {
            "backgroundcolor": "#E5ECF6",
            "gridcolor": "white",
            "gridwidth": 2,
            "linecolor": "white",
            "showbackground": true,
            "ticks": "",
            "zerolinecolor": "white"
           },
           "zaxis": {
            "backgroundcolor": "#E5ECF6",
            "gridcolor": "white",
            "gridwidth": 2,
            "linecolor": "white",
            "showbackground": true,
            "ticks": "",
            "zerolinecolor": "white"
           }
          },
          "shapedefaults": {
           "line": {
            "color": "#2a3f5f"
           }
          },
          "ternary": {
           "aaxis": {
            "gridcolor": "white",
            "linecolor": "white",
            "ticks": ""
           },
           "baxis": {
            "gridcolor": "white",
            "linecolor": "white",
            "ticks": ""
           },
           "bgcolor": "#E5ECF6",
           "caxis": {
            "gridcolor": "white",
            "linecolor": "white",
            "ticks": ""
           }
          },
          "title": {
           "x": 0.05
          },
          "xaxis": {
           "automargin": true,
           "gridcolor": "white",
           "linecolor": "white",
           "ticks": "",
           "title": {
            "standoff": 15
           },
           "zerolinecolor": "white",
           "zerolinewidth": 2
          },
          "yaxis": {
           "automargin": true,
           "gridcolor": "white",
           "linecolor": "white",
           "ticks": "",
           "title": {
            "standoff": 15
           },
           "zerolinecolor": "white",
           "zerolinewidth": 2
          }
         }
        },
        "xaxis": {
         "anchor": "y",
         "domain": [
          0,
          1
         ],
         "title": {
          "text": "Number of Assertions"
         }
        },
        "yaxis": {
         "anchor": "x",
         "domain": [
          0,
          1
         ],
         "title": {
          "text": "Impact Score"
         }
        }
       }
      }
     },
     "metadata": {},
     "output_type": "display_data"
    }
   ],
   "source": [
    "fig = px.scatter(\n",
    "    data_frame=moa_feature_df,\n",
    "    x=\"Number of Assertions\",\n",
    "    y=\"Impact Score\",\n",
    "    size=\"Number of Features\",\n",
    "    size_max=40,\n",
    "    text=\"Number of Features\",\n",
    "    color=\"Category\"\n",
    ")\n",
    "fig.show()"
   ]
  },
  {
   "cell_type": "code",
   "execution_count": 26,
   "metadata": {},
   "outputs": [],
   "source": [
    "fig.write_html(\"moa_feature_categories_impact_scatterplot.html\")"
   ]
  },
  {
   "attachments": {},
   "cell_type": "markdown",
   "metadata": {},
   "source": [
    "## Create functions / global variables used in analysis"
   ]
  },
  {
   "cell_type": "code",
   "execution_count": 27,
   "metadata": {},
   "outputs": [
    {
     "data": {
      "text/plain": [
       "{'Variant Category': ['Normalized', 'Not Supported'],\n",
       " 'Count of MOA Features per Category': [],\n",
       " 'Fraction of all MOA Features': [],\n",
       " 'Percentage of all MOA Features': []}"
      ]
     },
     "execution_count": 27,
     "metadata": {},
     "output_type": "execute_result"
    }
   ],
   "source": [
    "feature_analysis_summary = {\n",
    "    \"Variant Category\": VARIANT_NORM_TYPE_VALUES,\n",
    "    \"Count of MOA Features per Category\":[],\n",
    "    \"Fraction of all MOA Features\": [],\n",
    "    \"Percentage of all MOA Features\": []\n",
    "}\n",
    "feature_analysis_summary"
   ]
  },
  {
   "cell_type": "code",
   "execution_count": 28,
   "metadata": {},
   "outputs": [],
   "source": [
    "def feature_analysis(df: pd.DataFrame, variant_norm_type: VariantNormType) -> pd.DataFrame:\n",
    "    \"\"\"Do feature analysis (counts, percentages). Updates `feature_analysis_summary`\n",
    "\n",
    "    :param df: Dataframe of variants\n",
    "    :param variant_norm_type: The kind of features that are in `df`\n",
    "    :return: Transformed dataframe with variant ID duplicates dropped\n",
    "    \"\"\"\n",
    "    # Drop duplicate rows\n",
    "    df = df.drop_duplicates(subset=[\"feature_id\"])\n",
    "    feature_ids = list(df[\"feature_id\"])\n",
    "\n",
    "    # Count\n",
    "    num_features = len(feature_ids)\n",
    "    fraction_features = f\"{num_features} / {total_len_features}\"\n",
    "    print(f\"\\nNumber of {variant_norm_type.value} Features in MOA: {fraction_features}\")\n",
    "\n",
    "    # Percentage\n",
    "    percentage_features = f\"{num_features / total_len_features * 100:.2f}%\"\n",
    "    print(f\"Percentage of {variant_norm_type.value} Features in MOA: {percentage_features}\")\n",
    "\n",
    "    feature_analysis_summary[\"Count of MOA Features per Category\"].append(num_features)\n",
    "    feature_analysis_summary[\"Fraction of all MOA Features\"].append(fraction_features)\n",
    "    feature_analysis_summary[\"Percentage of all MOA Features\"].append(percentage_features)\n",
    "\n",
    "    return df"
   ]
  },
  {
   "cell_type": "code",
   "execution_count": 29,
   "metadata": {},
   "outputs": [
    {
     "data": {
      "text/plain": [
       "{'Variant Category': ['Normalized', 'Not Supported'],\n",
       " 'Count of MOA Assertions per Category': [],\n",
       " 'Fraction of all MOA Assertions': [],\n",
       " 'Percentage of all MOA Assertions': []}"
      ]
     },
     "execution_count": 29,
     "metadata": {},
     "output_type": "execute_result"
    }
   ],
   "source": [
    "assertion_analysis_summary = {\n",
    "    \"Variant Category\": VARIANT_NORM_TYPE_VALUES,\n",
    "    \"Count of MOA Assertions per Category\":[],\n",
    "    \"Fraction of all MOA Assertions\": [],\n",
    "    \"Percentage of all MOA Assertions\": []\n",
    "}\n",
    "assertion_analysis_summary"
   ]
  },
  {
   "cell_type": "code",
   "execution_count": 30,
   "metadata": {},
   "outputs": [],
   "source": [
    "def assertion_analysis(all_df: pd.DataFrame, variant_norm_df: pd.DataFrame, variant_norm_type: VariantNormType):\n",
    "    \"\"\"Do evidence analysis (counts, percentages). Updates `assertion_analysis_summary`\n",
    "\n",
    "    :param all_df: Dataframe for all assertions and features\n",
    "    :param variant_norm_df: Dataframe for features given certain `variant_norm_type`\n",
    "    :param variant_norm_type: The kind of variants that are in `df`\n",
    "    \"\"\"\n",
    "    # Need to do this bc of duplicate features\n",
    "    _feature_ids = set(variant_norm_df.feature_digest)\n",
    "    tmp_df = all_df[all_df[\"feature_digest\"].isin(_feature_ids)]\n",
    "    \n",
    "    # Count\n",
    "    num_assertions = len(tmp_df.assertion_id)\n",
    "    fraction_assertions = f\"{num_assertions} / {total_len_assertions}\"\n",
    "    print(f\"Number of {variant_norm_type.value} Feature Assertions in MOA: {fraction_assertions}\")\n",
    "\n",
    "    # Percentage\n",
    "    percentage_assertions = f\"{num_assertions / total_len_assertions * 100:.2f}%\"\n",
    "    print(f\"Percentage of {variant_norm_type.value} Feature Assertions in MOA: {percentage_assertions}\")\n",
    "\n",
    "    assertion_analysis_summary[\"Count of MOA Assertions per Category\"].append(num_assertions)\n",
    "    assertion_analysis_summary[\"Fraction of all MOA Assertions\"].append(fraction_assertions)\n",
    "    assertion_analysis_summary[\"Percentage of all MOA Assertions\"].append(percentage_assertions)"
   ]
  },
  {
   "cell_type": "code",
   "execution_count": 31,
   "metadata": {},
   "outputs": [
    {
     "data": {
      "text/html": [
       "<div>\n",
       "<style scoped>\n",
       "    .dataframe tbody tr th:only-of-type {\n",
       "        vertical-align: middle;\n",
       "    }\n",
       "\n",
       "    .dataframe tbody tr th {\n",
       "        vertical-align: top;\n",
       "    }\n",
       "\n",
       "    .dataframe thead th {\n",
       "        text-align: right;\n",
       "    }\n",
       "</style>\n",
       "<table border=\"1\" class=\"dataframe\">\n",
       "  <thead>\n",
       "    <tr style=\"text-align: right;\">\n",
       "      <th></th>\n",
       "      <th>feature_id</th>\n",
       "      <th>feature_digest</th>\n",
       "    </tr>\n",
       "  </thead>\n",
       "  <tbody>\n",
       "    <tr>\n",
       "      <th>0</th>\n",
       "      <td>1</td>\n",
       "      <td>B5m8cSgi6w2xRCg0X_dPpQU2dwbvtXk1</td>\n",
       "    </tr>\n",
       "    <tr>\n",
       "      <th>1</th>\n",
       "      <td>2</td>\n",
       "      <td>B5m8cSgi6w2xRCg0X_dPpQU2dwbvtXk1</td>\n",
       "    </tr>\n",
       "    <tr>\n",
       "      <th>2</th>\n",
       "      <td>3</td>\n",
       "      <td>B5m8cSgi6w2xRCg0X_dPpQU2dwbvtXk1</td>\n",
       "    </tr>\n",
       "    <tr>\n",
       "      <th>3</th>\n",
       "      <td>4</td>\n",
       "      <td>B5m8cSgi6w2xRCg0X_dPpQU2dwbvtXk1</td>\n",
       "    </tr>\n",
       "    <tr>\n",
       "      <th>4</th>\n",
       "      <td>5</td>\n",
       "      <td>B5m8cSgi6w2xRCg0X_dPpQU2dwbvtXk1</td>\n",
       "    </tr>\n",
       "    <tr>\n",
       "      <th>...</th>\n",
       "      <td>...</td>\n",
       "      <td>...</td>\n",
       "    </tr>\n",
       "    <tr>\n",
       "      <th>889</th>\n",
       "      <td>890</td>\n",
       "      <td>B5m8cSgi6w2xRCg0X_dPpQU2dwbvtXk1</td>\n",
       "    </tr>\n",
       "    <tr>\n",
       "      <th>890</th>\n",
       "      <td>891</td>\n",
       "      <td>B5m8cSgi6w2xRCg0X_dPpQU2dwbvtXk1</td>\n",
       "    </tr>\n",
       "    <tr>\n",
       "      <th>891</th>\n",
       "      <td>892</td>\n",
       "      <td>B5m8cSgi6w2xRCg0X_dPpQU2dwbvtXk1</td>\n",
       "    </tr>\n",
       "    <tr>\n",
       "      <th>892</th>\n",
       "      <td>893</td>\n",
       "      <td>B5m8cSgi6w2xRCg0X_dPpQU2dwbvtXk1</td>\n",
       "    </tr>\n",
       "    <tr>\n",
       "      <th>893</th>\n",
       "      <td>894</td>\n",
       "      <td>B5m8cSgi6w2xRCg0X_dPpQU2dwbvtXk1</td>\n",
       "    </tr>\n",
       "  </tbody>\n",
       "</table>\n",
       "<p>894 rows × 2 columns</p>\n",
       "</div>"
      ],
      "text/plain": [
       "     feature_id                    feature_digest\n",
       "0             1  B5m8cSgi6w2xRCg0X_dPpQU2dwbvtXk1\n",
       "1             2  B5m8cSgi6w2xRCg0X_dPpQU2dwbvtXk1\n",
       "2             3  B5m8cSgi6w2xRCg0X_dPpQU2dwbvtXk1\n",
       "3             4  B5m8cSgi6w2xRCg0X_dPpQU2dwbvtXk1\n",
       "4             5  B5m8cSgi6w2xRCg0X_dPpQU2dwbvtXk1\n",
       "..          ...                               ...\n",
       "889         890  B5m8cSgi6w2xRCg0X_dPpQU2dwbvtXk1\n",
       "890         891  B5m8cSgi6w2xRCg0X_dPpQU2dwbvtXk1\n",
       "891         892  B5m8cSgi6w2xRCg0X_dPpQU2dwbvtXk1\n",
       "892         893  B5m8cSgi6w2xRCg0X_dPpQU2dwbvtXk1\n",
       "893         894  B5m8cSgi6w2xRCg0X_dPpQU2dwbvtXk1\n",
       "\n",
       "[894 rows x 2 columns]"
      ]
     },
     "execution_count": 31,
     "metadata": {},
     "output_type": "execute_result"
    }
   ],
   "source": [
    "feature_id_to_digest_df = pd.DataFrame(feature_id_to_digest.items(), columns=[\"feature_id\", \"feature_digest\"])\n",
    "feature_id_to_digest_df"
   ]
  },
  {
   "attachments": {},
   "cell_type": "markdown",
   "metadata": {},
   "source": [
    "## Normalized Analysis"
   ]
  },
  {
   "cell_type": "code",
   "execution_count": 32,
   "metadata": {},
   "outputs": [
    {
     "data": {
      "text/plain": [
       "(179, 7)"
      ]
     },
     "execution_count": 32,
     "metadata": {},
     "output_type": "execute_result"
    }
   ],
   "source": [
    "normalized_queries_df = pd.read_csv(\"able_to_normalize_queries.csv\", sep=\"\\t\")\n",
    "normalized_queries_df = pd.merge(normalized_queries_df, feature_id_to_digest_df, left_on=\"variant_id\", right_on=\"feature_id\")\n",
    "normalized_queries_df.shape"
   ]
  },
  {
   "cell_type": "code",
   "execution_count": 33,
   "metadata": {},
   "outputs": [],
   "source": [
    "normalized_queries_df = pd.merge(normalized_queries_df[\"variant_id\"], moa_df, left_on=\"variant_id\", right_on=\"feature_id\", how=\"left\")\n",
    "normalized_queries_df = normalized_queries_df.drop(columns=[\"variant_id\"])"
   ]
  },
  {
   "cell_type": "code",
   "execution_count": 34,
   "metadata": {},
   "outputs": [
    {
     "name": "stdout",
     "output_type": "stream",
     "text": [
      "\n",
      "Number of Normalized Features in MOA: 179 / 428\n",
      "Percentage of Normalized Features in MOA: 41.82%\n"
     ]
    },
    {
     "data": {
      "text/html": [
       "<div>\n",
       "<style scoped>\n",
       "    .dataframe tbody tr th:only-of-type {\n",
       "        vertical-align: middle;\n",
       "    }\n",
       "\n",
       "    .dataframe tbody tr th {\n",
       "        vertical-align: top;\n",
       "    }\n",
       "\n",
       "    .dataframe thead th {\n",
       "        text-align: right;\n",
       "    }\n",
       "</style>\n",
       "<table border=\"1\" class=\"dataframe\">\n",
       "  <thead>\n",
       "    <tr style=\"text-align: right;\">\n",
       "      <th></th>\n",
       "      <th>assertion_id</th>\n",
       "      <th>feature_id</th>\n",
       "      <th>feature_type</th>\n",
       "      <th>predictive_implication</th>\n",
       "      <th>feature_digest</th>\n",
       "      <th>category</th>\n",
       "      <th>impact_score</th>\n",
       "    </tr>\n",
       "  </thead>\n",
       "  <tbody>\n",
       "    <tr>\n",
       "      <th>0</th>\n",
       "      <td>71</td>\n",
       "      <td>71</td>\n",
       "      <td>somatic_variant</td>\n",
       "      <td>Preclinical</td>\n",
       "      <td>KgolzM3HWhww4t4HywFYCySUtGRIQ_mx</td>\n",
       "      <td>Protein Consequence</td>\n",
       "      <td>1</td>\n",
       "    </tr>\n",
       "    <tr>\n",
       "      <th>1</th>\n",
       "      <td>73</td>\n",
       "      <td>73</td>\n",
       "      <td>somatic_variant</td>\n",
       "      <td>Clinical evidence</td>\n",
       "      <td>j3HtSnIdrU8CcuW8_Qs3qVxOn-kMJV1T</td>\n",
       "      <td>Protein Consequence</td>\n",
       "      <td>5</td>\n",
       "    </tr>\n",
       "    <tr>\n",
       "      <th>2</th>\n",
       "      <td>75</td>\n",
       "      <td>75</td>\n",
       "      <td>somatic_variant</td>\n",
       "      <td>Clinical evidence</td>\n",
       "      <td>X_Az48pPjt4IODuY2a50Yl2_1tGopcuF</td>\n",
       "      <td>Protein Consequence</td>\n",
       "      <td>5</td>\n",
       "    </tr>\n",
       "    <tr>\n",
       "      <th>3</th>\n",
       "      <td>76</td>\n",
       "      <td>76</td>\n",
       "      <td>somatic_variant</td>\n",
       "      <td>Clinical evidence</td>\n",
       "      <td>LQQXFXpA4FCOQ3Fz4988x2vynER4J-Wh</td>\n",
       "      <td>Protein Consequence</td>\n",
       "      <td>5</td>\n",
       "    </tr>\n",
       "    <tr>\n",
       "      <th>4</th>\n",
       "      <td>77</td>\n",
       "      <td>77</td>\n",
       "      <td>somatic_variant</td>\n",
       "      <td>Clinical evidence</td>\n",
       "      <td>DKoCqZUY0WBdUnoly9DL_PAjBBZTs51d</td>\n",
       "      <td>Protein Consequence</td>\n",
       "      <td>5</td>\n",
       "    </tr>\n",
       "    <tr>\n",
       "      <th>...</th>\n",
       "      <td>...</td>\n",
       "      <td>...</td>\n",
       "      <td>...</td>\n",
       "      <td>...</td>\n",
       "      <td>...</td>\n",
       "      <td>...</td>\n",
       "      <td>...</td>\n",
       "    </tr>\n",
       "    <tr>\n",
       "      <th>174</th>\n",
       "      <td>858</td>\n",
       "      <td>858</td>\n",
       "      <td>copy_number</td>\n",
       "      <td>Clinical evidence</td>\n",
       "      <td>UYE-1dofAcf0kc44xdOY2hxwkMNUzjl7</td>\n",
       "      <td>Copy Number</td>\n",
       "      <td>5</td>\n",
       "    </tr>\n",
       "    <tr>\n",
       "      <th>175</th>\n",
       "      <td>859</td>\n",
       "      <td>859</td>\n",
       "      <td>copy_number</td>\n",
       "      <td>Inferential</td>\n",
       "      <td>s8SpNzXJuTJlGEqC0Rk-zd8ke9l4fq00</td>\n",
       "      <td>Copy Number</td>\n",
       "      <td>1</td>\n",
       "    </tr>\n",
       "    <tr>\n",
       "      <th>176</th>\n",
       "      <td>868</td>\n",
       "      <td>868</td>\n",
       "      <td>somatic_variant</td>\n",
       "      <td>FDA-Approved</td>\n",
       "      <td>xEngbInsi1BKQp2pVFi44N8CYLj6ZEkD</td>\n",
       "      <td>Protein Consequence</td>\n",
       "      <td>10</td>\n",
       "    </tr>\n",
       "    <tr>\n",
       "      <th>177</th>\n",
       "      <td>869</td>\n",
       "      <td>869</td>\n",
       "      <td>somatic_variant</td>\n",
       "      <td>FDA-Approved</td>\n",
       "      <td>fqvuveTjuO96HizOsbWgFQmfF76lGtdl</td>\n",
       "      <td>Protein Consequence</td>\n",
       "      <td>10</td>\n",
       "    </tr>\n",
       "    <tr>\n",
       "      <th>178</th>\n",
       "      <td>870</td>\n",
       "      <td>870</td>\n",
       "      <td>somatic_variant</td>\n",
       "      <td>FDA-Approved</td>\n",
       "      <td>1JInmjKzPW9V9q9UKen4VODk1drBadA2</td>\n",
       "      <td>Protein Consequence</td>\n",
       "      <td>10</td>\n",
       "    </tr>\n",
       "  </tbody>\n",
       "</table>\n",
       "<p>179 rows × 7 columns</p>\n",
       "</div>"
      ],
      "text/plain": [
       "     assertion_id  feature_id     feature_type predictive_implication  \\\n",
       "0              71          71  somatic_variant            Preclinical   \n",
       "1              73          73  somatic_variant      Clinical evidence   \n",
       "2              75          75  somatic_variant      Clinical evidence   \n",
       "3              76          76  somatic_variant      Clinical evidence   \n",
       "4              77          77  somatic_variant      Clinical evidence   \n",
       "..            ...         ...              ...                    ...   \n",
       "174           858         858      copy_number      Clinical evidence   \n",
       "175           859         859      copy_number            Inferential   \n",
       "176           868         868  somatic_variant           FDA-Approved   \n",
       "177           869         869  somatic_variant           FDA-Approved   \n",
       "178           870         870  somatic_variant           FDA-Approved   \n",
       "\n",
       "                       feature_digest             category impact_score  \n",
       "0    KgolzM3HWhww4t4HywFYCySUtGRIQ_mx  Protein Consequence            1  \n",
       "1    j3HtSnIdrU8CcuW8_Qs3qVxOn-kMJV1T  Protein Consequence            5  \n",
       "2    X_Az48pPjt4IODuY2a50Yl2_1tGopcuF  Protein Consequence            5  \n",
       "3    LQQXFXpA4FCOQ3Fz4988x2vynER4J-Wh  Protein Consequence            5  \n",
       "4    DKoCqZUY0WBdUnoly9DL_PAjBBZTs51d  Protein Consequence            5  \n",
       "..                                ...                  ...          ...  \n",
       "174  UYE-1dofAcf0kc44xdOY2hxwkMNUzjl7          Copy Number            5  \n",
       "175  s8SpNzXJuTJlGEqC0Rk-zd8ke9l4fq00          Copy Number            1  \n",
       "176  xEngbInsi1BKQp2pVFi44N8CYLj6ZEkD  Protein Consequence           10  \n",
       "177  fqvuveTjuO96HizOsbWgFQmfF76lGtdl  Protein Consequence           10  \n",
       "178  1JInmjKzPW9V9q9UKen4VODk1drBadA2  Protein Consequence           10  \n",
       "\n",
       "[179 rows x 7 columns]"
      ]
     },
     "execution_count": 34,
     "metadata": {},
     "output_type": "execute_result"
    }
   ],
   "source": [
    "normalized_queries_df = feature_analysis(normalized_queries_df, VariantNormType.NORMALIZED)\n",
    "normalized_queries_df\n"
   ]
  },
  {
   "cell_type": "code",
   "execution_count": 35,
   "metadata": {},
   "outputs": [
    {
     "name": "stdout",
     "output_type": "stream",
     "text": [
      "Number of Normalized Feature Assertions in MOA: 325 / 894\n",
      "Percentage of Normalized Feature Assertions in MOA: 36.35%\n"
     ]
    }
   ],
   "source": [
    "assertion_analysis(moa_df, normalized_queries_df, VariantNormType.NORMALIZED)"
   ]
  },
  {
   "attachments": {},
   "cell_type": "markdown",
   "metadata": {},
   "source": [
    "## Not Supported Analysis"
   ]
  },
  {
   "cell_type": "code",
   "execution_count": 36,
   "metadata": {},
   "outputs": [
    {
     "data": {
      "text/plain": [
       "(244, 6)"
      ]
     },
     "execution_count": 36,
     "metadata": {},
     "output_type": "execute_result"
    }
   ],
   "source": [
    "not_supported_queries_df = pd.read_csv(\"not_supported_variants.csv\", sep=\"\\t\")\n",
    "not_supported_queries_df = pd.merge(not_supported_queries_df, feature_id_to_digest_df, left_on=\"variant_id\", right_on=\"feature_id\")\n",
    "not_supported_queries_df.shape"
   ]
  },
  {
   "cell_type": "code",
   "execution_count": 37,
   "metadata": {},
   "outputs": [
    {
     "data": {
      "text/html": [
       "<div>\n",
       "<style scoped>\n",
       "    .dataframe tbody tr th:only-of-type {\n",
       "        vertical-align: middle;\n",
       "    }\n",
       "\n",
       "    .dataframe tbody tr th {\n",
       "        vertical-align: top;\n",
       "    }\n",
       "\n",
       "    .dataframe thead th {\n",
       "        text-align: right;\n",
       "    }\n",
       "</style>\n",
       "<table border=\"1\" class=\"dataframe\">\n",
       "  <thead>\n",
       "    <tr style=\"text-align: right;\">\n",
       "      <th></th>\n",
       "      <th>assertion_id</th>\n",
       "      <th>feature_id</th>\n",
       "      <th>feature_type</th>\n",
       "      <th>predictive_implication</th>\n",
       "      <th>feature_digest</th>\n",
       "      <th>category</th>\n",
       "      <th>impact_score</th>\n",
       "    </tr>\n",
       "  </thead>\n",
       "  <tbody>\n",
       "    <tr>\n",
       "      <th>0</th>\n",
       "      <td>1</td>\n",
       "      <td>1</td>\n",
       "      <td>rearrangement</td>\n",
       "      <td>FDA-Approved</td>\n",
       "      <td>RnRyn89cJzVbVM93aw4OA44NIF5zblyP</td>\n",
       "      <td>Rearrangements</td>\n",
       "      <td>10</td>\n",
       "    </tr>\n",
       "    <tr>\n",
       "      <th>1</th>\n",
       "      <td>12</td>\n",
       "      <td>12</td>\n",
       "      <td>rearrangement</td>\n",
       "      <td>FDA-Approved</td>\n",
       "      <td>g99yF3kKnB-We_fMS5RaVygoSuT7qA-I</td>\n",
       "      <td>Rearrangements</td>\n",
       "      <td>10</td>\n",
       "    </tr>\n",
       "    <tr>\n",
       "      <th>2</th>\n",
       "      <td>15</td>\n",
       "      <td>15</td>\n",
       "      <td>rearrangement</td>\n",
       "      <td>FDA-Approved</td>\n",
       "      <td>e8PMq2A96-aBJ3Ip74ovx5VOUCztBTq7</td>\n",
       "      <td>Rearrangements</td>\n",
       "      <td>10</td>\n",
       "    </tr>\n",
       "    <tr>\n",
       "      <th>3</th>\n",
       "      <td>18</td>\n",
       "      <td>18</td>\n",
       "      <td>rearrangement</td>\n",
       "      <td>Guideline</td>\n",
       "      <td>DxfRiRV-3J6zRON4pnzNJjXkJf2bsp20</td>\n",
       "      <td>Rearrangements</td>\n",
       "      <td>10</td>\n",
       "    </tr>\n",
       "    <tr>\n",
       "      <th>4</th>\n",
       "      <td>21</td>\n",
       "      <td>21</td>\n",
       "      <td>rearrangement</td>\n",
       "      <td>Preclinical</td>\n",
       "      <td>BRsPjsZSCyDXnKtBt9XgsWX2JDNWY3FP</td>\n",
       "      <td>Rearrangements</td>\n",
       "      <td>1</td>\n",
       "    </tr>\n",
       "    <tr>\n",
       "      <th>...</th>\n",
       "      <td>...</td>\n",
       "      <td>...</td>\n",
       "      <td>...</td>\n",
       "      <td>...</td>\n",
       "      <td>...</td>\n",
       "      <td>...</td>\n",
       "      <td>...</td>\n",
       "    </tr>\n",
       "    <tr>\n",
       "      <th>239</th>\n",
       "      <td>849</td>\n",
       "      <td>849</td>\n",
       "      <td>copy_number</td>\n",
       "      <td>Inferential</td>\n",
       "      <td>jLD_tOKaW8wX5P2RiZ7EkMT8yBzfA_U_</td>\n",
       "      <td>Copy Number</td>\n",
       "      <td>1</td>\n",
       "    </tr>\n",
       "    <tr>\n",
       "      <th>240</th>\n",
       "      <td>853</td>\n",
       "      <td>853</td>\n",
       "      <td>copy_number</td>\n",
       "      <td>Inferential</td>\n",
       "      <td>3ZPmhQucEgPWkaRLg9viECM4O4pEg-BU</td>\n",
       "      <td>Copy Number</td>\n",
       "      <td>1</td>\n",
       "    </tr>\n",
       "    <tr>\n",
       "      <th>241</th>\n",
       "      <td>862</td>\n",
       "      <td>862</td>\n",
       "      <td>copy_number</td>\n",
       "      <td>Preclinical</td>\n",
       "      <td>LwEU_0YQA4iVchOdEiBrq_RmIciU-9EW</td>\n",
       "      <td>Copy Number</td>\n",
       "      <td>1</td>\n",
       "    </tr>\n",
       "    <tr>\n",
       "      <th>242</th>\n",
       "      <td>863</td>\n",
       "      <td>863</td>\n",
       "      <td>rearrangement</td>\n",
       "      <td>FDA-Approved</td>\n",
       "      <td>MpJsmn4LCLMXDsTNTTlyV5t3fKAnsJzL</td>\n",
       "      <td>Rearrangements</td>\n",
       "      <td>10</td>\n",
       "    </tr>\n",
       "    <tr>\n",
       "      <th>243</th>\n",
       "      <td>873</td>\n",
       "      <td>873</td>\n",
       "      <td>somatic_variant</td>\n",
       "      <td>FDA-Approved</td>\n",
       "      <td>qXCY7CGzeFBIDXYsc18tEVBImkWB_43E</td>\n",
       "      <td>Protein Consequence</td>\n",
       "      <td>10</td>\n",
       "    </tr>\n",
       "  </tbody>\n",
       "</table>\n",
       "<p>244 rows × 7 columns</p>\n",
       "</div>"
      ],
      "text/plain": [
       "     assertion_id  feature_id     feature_type predictive_implication  \\\n",
       "0               1           1    rearrangement           FDA-Approved   \n",
       "1              12          12    rearrangement           FDA-Approved   \n",
       "2              15          15    rearrangement           FDA-Approved   \n",
       "3              18          18    rearrangement              Guideline   \n",
       "4              21          21    rearrangement            Preclinical   \n",
       "..            ...         ...              ...                    ...   \n",
       "239           849         849      copy_number            Inferential   \n",
       "240           853         853      copy_number            Inferential   \n",
       "241           862         862      copy_number            Preclinical   \n",
       "242           863         863    rearrangement           FDA-Approved   \n",
       "243           873         873  somatic_variant           FDA-Approved   \n",
       "\n",
       "                       feature_digest             category impact_score  \n",
       "0    RnRyn89cJzVbVM93aw4OA44NIF5zblyP       Rearrangements           10  \n",
       "1    g99yF3kKnB-We_fMS5RaVygoSuT7qA-I       Rearrangements           10  \n",
       "2    e8PMq2A96-aBJ3Ip74ovx5VOUCztBTq7       Rearrangements           10  \n",
       "3    DxfRiRV-3J6zRON4pnzNJjXkJf2bsp20       Rearrangements           10  \n",
       "4    BRsPjsZSCyDXnKtBt9XgsWX2JDNWY3FP       Rearrangements            1  \n",
       "..                                ...                  ...          ...  \n",
       "239  jLD_tOKaW8wX5P2RiZ7EkMT8yBzfA_U_          Copy Number            1  \n",
       "240  3ZPmhQucEgPWkaRLg9viECM4O4pEg-BU          Copy Number            1  \n",
       "241  LwEU_0YQA4iVchOdEiBrq_RmIciU-9EW          Copy Number            1  \n",
       "242  MpJsmn4LCLMXDsTNTTlyV5t3fKAnsJzL       Rearrangements           10  \n",
       "243  qXCY7CGzeFBIDXYsc18tEVBImkWB_43E  Protein Consequence           10  \n",
       "\n",
       "[244 rows x 7 columns]"
      ]
     },
     "execution_count": 37,
     "metadata": {},
     "output_type": "execute_result"
    }
   ],
   "source": [
    "not_supported_queries_df = pd.merge(not_supported_queries_df[\"variant_id\"], moa_df, left_on=\"variant_id\", right_on=\"feature_id\", how=\"left\")\n",
    "not_supported_queries_df = not_supported_queries_df.drop(columns=[\"variant_id\"])\n",
    "not_supported_queries_df"
   ]
  },
  {
   "attachments": {},
   "cell_type": "markdown",
   "metadata": {},
   "source": [
    "### Feature (Variant) Analysis"
   ]
  },
  {
   "cell_type": "code",
   "execution_count": 38,
   "metadata": {},
   "outputs": [
    {
     "name": "stdout",
     "output_type": "stream",
     "text": [
      "\n",
      "Number of Not Supported Features in MOA: 244 / 428\n",
      "Percentage of Not Supported Features in MOA: 57.01%\n"
     ]
    }
   ],
   "source": [
    "not_supported_queries_df = feature_analysis(not_supported_queries_df, VariantNormType.NOT_SUPPORTED)"
   ]
  },
  {
   "attachments": {},
   "cell_type": "markdown",
   "metadata": {},
   "source": [
    "### Not Supported Feature (Variant) Analysis by Subcategory"
   ]
  },
  {
   "cell_type": "code",
   "execution_count": 39,
   "metadata": {},
   "outputs": [],
   "source": [
    "not_supported_feature_analysis_summary = {\n",
    "    \"Category\": VARIANT_CATEGORY_VALUES,\n",
    "    \"Count of MOA Features per Category\":[],\n",
    "    \"Fraction of all MOA Features\": [],\n",
    "    \"Percent of all MOA Features\": [],\n",
    "    \"Fraction of Not Supported Features\": [],\n",
    "    \"Percent of Not Supported Features\": [],\n",
    "}"
   ]
  },
  {
   "cell_type": "code",
   "execution_count": 40,
   "metadata": {},
   "outputs": [],
   "source": [
    "not_supported_feature_categories_summary_data = dict()\n",
    "total_number_unique_not_supported_features = len(set(not_supported_queries_df.feature_id))\n",
    "\n",
    "for category in VARIANT_CATEGORY_VALUES:  # These are not supported categories\n",
    "    not_supported_feature_categories_summary_data[category] = {}\n",
    "    category_df = not_supported_queries_df[not_supported_queries_df.category == category]\n",
    "\n",
    "    # Count\n",
    "    number_unique_not_supported_category_features = len(set(category_df.feature_id))\n",
    "    not_supported_feature_categories_summary_data[category][\"number_unique_not_supported_category_features\"] = number_unique_not_supported_category_features\n",
    "\n",
    "    # Fraction\n",
    "    fraction_not_supported_category_feature_of_moa = f\"{number_unique_not_supported_category_features} / {total_len_features}\"\n",
    "    not_supported_feature_categories_summary_data[category][\"fraction_not_supported_category_feature_of_moa\"] = fraction_not_supported_category_feature_of_moa\n",
    "\n",
    "    # Percent\n",
    "    percent_not_supported_category_feature_of_moa = f\"{number_unique_not_supported_category_features / total_len_features * 100:.2f}%\"\n",
    "    not_supported_feature_categories_summary_data[category][\"percent_not_supported_category_feature_of_moa\"] = percent_not_supported_category_feature_of_moa\n",
    "\n",
    "    # Not supported fraction\n",
    "    fraction_not_supported_category_feature_of_total_not_supported = f\"{number_unique_not_supported_category_features} / {total_number_unique_not_supported_features}\"\n",
    "    not_supported_feature_categories_summary_data[category][\"fraction_not_supported_category_feature_of_total_not_supported\"] = fraction_not_supported_category_feature_of_total_not_supported\n",
    "\n",
    "    # Not supported percent\n",
    "    percent_not_supported_category_feature_of_total_not_supported = f\"{number_unique_not_supported_category_features / total_number_unique_not_supported_features * 100:.2f}%\"\n",
    "    not_supported_feature_categories_summary_data[category][\"percent_not_supported_category_feature_of_total_not_supported\"] = percent_not_supported_category_feature_of_total_not_supported\n",
    "\n",
    "    not_supported_feature_analysis_summary[\"Count of MOA Features per Category\"].append(number_unique_not_supported_category_features)\n",
    "    not_supported_feature_analysis_summary[\"Fraction of all MOA Features\"].append(fraction_not_supported_category_feature_of_moa)\n",
    "    not_supported_feature_analysis_summary[\"Percent of all MOA Features\"].append(percent_not_supported_category_feature_of_moa)\n",
    "    not_supported_feature_analysis_summary[\"Fraction of Not Supported Features\"].append(fraction_not_supported_category_feature_of_total_not_supported)\n",
    "    not_supported_feature_analysis_summary[\"Percent of Not Supported Features\"].append(percent_not_supported_category_feature_of_total_not_supported)"
   ]
  },
  {
   "cell_type": "code",
   "execution_count": 41,
   "metadata": {},
   "outputs": [
    {
     "data": {
      "text/plain": [
       "0"
      ]
     },
     "execution_count": 41,
     "metadata": {},
     "output_type": "execute_result"
    }
   ],
   "source": [
    "number_unique_not_supported_category_features"
   ]
  },
  {
   "cell_type": "code",
   "execution_count": 42,
   "metadata": {},
   "outputs": [
    {
     "data": {
      "text/html": [
       "<div>\n",
       "<style scoped>\n",
       "    .dataframe tbody tr th:only-of-type {\n",
       "        vertical-align: middle;\n",
       "    }\n",
       "\n",
       "    .dataframe tbody tr th {\n",
       "        vertical-align: top;\n",
       "    }\n",
       "\n",
       "    .dataframe thead th {\n",
       "        text-align: right;\n",
       "    }\n",
       "</style>\n",
       "<table border=\"1\" class=\"dataframe\">\n",
       "  <thead>\n",
       "    <tr style=\"text-align: right;\">\n",
       "      <th></th>\n",
       "      <th>Category</th>\n",
       "      <th>Count of MOA Features per Category</th>\n",
       "      <th>Fraction of all MOA Features</th>\n",
       "      <th>Percent of all MOA Features</th>\n",
       "      <th>Fraction of Not Supported Features</th>\n",
       "      <th>Percent of Not Supported Features</th>\n",
       "    </tr>\n",
       "  </thead>\n",
       "  <tbody>\n",
       "    <tr>\n",
       "      <th>0</th>\n",
       "      <td>Expression</td>\n",
       "      <td>11</td>\n",
       "      <td>11 / 428</td>\n",
       "      <td>2.57%</td>\n",
       "      <td>11 / 244</td>\n",
       "      <td>4.51%</td>\n",
       "    </tr>\n",
       "    <tr>\n",
       "      <th>1</th>\n",
       "      <td>Epigenetic Modification</td>\n",
       "      <td>0</td>\n",
       "      <td>0 / 428</td>\n",
       "      <td>0.00%</td>\n",
       "      <td>0 / 244</td>\n",
       "      <td>0.00%</td>\n",
       "    </tr>\n",
       "    <tr>\n",
       "      <th>2</th>\n",
       "      <td>Fusion</td>\n",
       "      <td>0</td>\n",
       "      <td>0 / 428</td>\n",
       "      <td>0.00%</td>\n",
       "      <td>0 / 244</td>\n",
       "      <td>0.00%</td>\n",
       "    </tr>\n",
       "    <tr>\n",
       "      <th>3</th>\n",
       "      <td>Protein Consequence</td>\n",
       "      <td>169</td>\n",
       "      <td>169 / 428</td>\n",
       "      <td>39.49%</td>\n",
       "      <td>169 / 244</td>\n",
       "      <td>69.26%</td>\n",
       "    </tr>\n",
       "    <tr>\n",
       "      <th>4</th>\n",
       "      <td>Gene Function</td>\n",
       "      <td>0</td>\n",
       "      <td>0 / 428</td>\n",
       "      <td>0.00%</td>\n",
       "      <td>0 / 244</td>\n",
       "      <td>0.00%</td>\n",
       "    </tr>\n",
       "    <tr>\n",
       "      <th>5</th>\n",
       "      <td>Rearrangements</td>\n",
       "      <td>38</td>\n",
       "      <td>38 / 428</td>\n",
       "      <td>8.88%</td>\n",
       "      <td>38 / 244</td>\n",
       "      <td>15.57%</td>\n",
       "    </tr>\n",
       "    <tr>\n",
       "      <th>6</th>\n",
       "      <td>Copy Number</td>\n",
       "      <td>17</td>\n",
       "      <td>17 / 428</td>\n",
       "      <td>3.97%</td>\n",
       "      <td>17 / 244</td>\n",
       "      <td>6.97%</td>\n",
       "    </tr>\n",
       "    <tr>\n",
       "      <th>7</th>\n",
       "      <td>Other</td>\n",
       "      <td>9</td>\n",
       "      <td>9 / 428</td>\n",
       "      <td>2.10%</td>\n",
       "      <td>9 / 244</td>\n",
       "      <td>3.69%</td>\n",
       "    </tr>\n",
       "    <tr>\n",
       "      <th>8</th>\n",
       "      <td>Genotypes Easy</td>\n",
       "      <td>0</td>\n",
       "      <td>0 / 428</td>\n",
       "      <td>0.00%</td>\n",
       "      <td>0 / 244</td>\n",
       "      <td>0.00%</td>\n",
       "    </tr>\n",
       "    <tr>\n",
       "      <th>9</th>\n",
       "      <td>Genotypes Compound</td>\n",
       "      <td>0</td>\n",
       "      <td>0 / 428</td>\n",
       "      <td>0.00%</td>\n",
       "      <td>0 / 244</td>\n",
       "      <td>0.00%</td>\n",
       "    </tr>\n",
       "    <tr>\n",
       "      <th>10</th>\n",
       "      <td>Region Defined Variant</td>\n",
       "      <td>0</td>\n",
       "      <td>0 / 428</td>\n",
       "      <td>0.00%</td>\n",
       "      <td>0 / 244</td>\n",
       "      <td>0.00%</td>\n",
       "    </tr>\n",
       "    <tr>\n",
       "      <th>11</th>\n",
       "      <td>Transcript Variant</td>\n",
       "      <td>0</td>\n",
       "      <td>0 / 428</td>\n",
       "      <td>0.00%</td>\n",
       "      <td>0 / 244</td>\n",
       "      <td>0.00%</td>\n",
       "    </tr>\n",
       "  </tbody>\n",
       "</table>\n",
       "</div>"
      ],
      "text/plain": [
       "                   Category  Count of MOA Features per Category  \\\n",
       "0                Expression                                  11   \n",
       "1   Epigenetic Modification                                   0   \n",
       "2                    Fusion                                   0   \n",
       "3       Protein Consequence                                 169   \n",
       "4             Gene Function                                   0   \n",
       "5            Rearrangements                                  38   \n",
       "6               Copy Number                                  17   \n",
       "7                     Other                                   9   \n",
       "8            Genotypes Easy                                   0   \n",
       "9        Genotypes Compound                                   0   \n",
       "10   Region Defined Variant                                   0   \n",
       "11       Transcript Variant                                   0   \n",
       "\n",
       "   Fraction of all MOA Features Percent of all MOA Features  \\\n",
       "0                      11 / 428                       2.57%   \n",
       "1                       0 / 428                       0.00%   \n",
       "2                       0 / 428                       0.00%   \n",
       "3                     169 / 428                      39.49%   \n",
       "4                       0 / 428                       0.00%   \n",
       "5                      38 / 428                       8.88%   \n",
       "6                      17 / 428                       3.97%   \n",
       "7                       9 / 428                       2.10%   \n",
       "8                       0 / 428                       0.00%   \n",
       "9                       0 / 428                       0.00%   \n",
       "10                      0 / 428                       0.00%   \n",
       "11                      0 / 428                       0.00%   \n",
       "\n",
       "   Fraction of Not Supported Features Percent of Not Supported Features  \n",
       "0                            11 / 244                             4.51%  \n",
       "1                             0 / 244                             0.00%  \n",
       "2                             0 / 244                             0.00%  \n",
       "3                           169 / 244                            69.26%  \n",
       "4                             0 / 244                             0.00%  \n",
       "5                            38 / 244                            15.57%  \n",
       "6                            17 / 244                             6.97%  \n",
       "7                             9 / 244                             3.69%  \n",
       "8                             0 / 244                             0.00%  \n",
       "9                             0 / 244                             0.00%  \n",
       "10                            0 / 244                             0.00%  \n",
       "11                            0 / 244                             0.00%  "
      ]
     },
     "execution_count": 42,
     "metadata": {},
     "output_type": "execute_result"
    }
   ],
   "source": [
    "not_supported_variant_df = pd.DataFrame(not_supported_feature_analysis_summary)\n",
    "not_supported_variant_df"
   ]
  },
  {
   "attachments": {},
   "cell_type": "markdown",
   "metadata": {},
   "source": [
    "### Not Support Feature (Variant) Assertion (Evidence) Analysis by Subcategory"
   ]
  },
  {
   "attachments": {},
   "cell_type": "markdown",
   "metadata": {},
   "source": [
    "List all the possible variant categories"
   ]
  },
  {
   "cell_type": "code",
   "execution_count": 43,
   "metadata": {},
   "outputs": [
    {
     "data": {
      "text/plain": [
       "['Rearrangements', 'Protein Consequence', 'Copy Number', 'Other', 'Expression']"
      ]
     },
     "execution_count": 43,
     "metadata": {},
     "output_type": "execute_result"
    }
   ],
   "source": [
    "not_supported_feature_categories = not_supported_queries_df.category.unique()\n",
    "[v for v in not_supported_feature_categories]"
   ]
  },
  {
   "cell_type": "code",
   "execution_count": 44,
   "metadata": {},
   "outputs": [
    {
     "name": "stdout",
     "output_type": "stream",
     "text": [
      "Number of Not Supported Feature Assertions in MOA: 564 / 894\n",
      "Percentage of Not Supported Feature Assertions in MOA: 63.09%\n"
     ]
    }
   ],
   "source": [
    "assertion_analysis(moa_df, not_supported_queries_df, VariantNormType.NOT_SUPPORTED)\n"
   ]
  },
  {
   "cell_type": "code",
   "execution_count": 45,
   "metadata": {},
   "outputs": [],
   "source": [
    "not_supported_feature_assertion_summary = {\n",
    "    \"Category\": VARIANT_CATEGORY_VALUES,\n",
    "    \"Count of MOA Assertions per Category\": [],\n",
    "    \"Fraction of MOA Assertions\": [],\n",
    "    \"Percent of all MOA Assertions\": [],\n",
    "    \"Fraction of Not Supported Feature Assertions\": [],\n",
    "    \"Percent of Not Supported Feature Assertions\": []\n",
    "}"
   ]
  },
  {
   "cell_type": "code",
   "execution_count": 46,
   "metadata": {},
   "outputs": [],
   "source": [
    "not_supported_feature_ids = set(not_supported_queries_df.feature_digest)"
   ]
  },
  {
   "cell_type": "code",
   "execution_count": 47,
   "metadata": {},
   "outputs": [],
   "source": [
    "not_supported_feature_categories_assertion_summary_data = dict()\n",
    "total_number_not_supported_feature_unique_assertions = len(set(not_supported_queries_df.assertion_id))\n",
    "not_supported_feature_ids = set(not_supported_queries_df.feature_digest)\n",
    "\n",
    "for category in VARIANT_CATEGORY_VALUES:    \n",
    "    not_supported_feature_categories_assertion_summary_data[category] = {}\n",
    "\n",
    "    # Need to do this bc of duplicate features\n",
    "    tmp_df = moa_df[moa_df[\"feature_digest\"].isin(not_supported_feature_ids)]\n",
    "    \n",
    "    evidence_category_df = tmp_df[tmp_df.category == category]\n",
    "    \n",
    "    evidence_category_df = evidence_category_df.drop_duplicates(subset=[\"assertion_id\"])\n",
    "\n",
    "    # Count\n",
    "    number_unique_not_supported_category_assertion = len(set(evidence_category_df.assertion_id))\n",
    "    not_supported_feature_categories_assertion_summary_data[category][\"number_unique_not_supported_category_assertion\"] = number_unique_not_supported_category_assertion\n",
    "\n",
    "    # Fraction\n",
    "    fraction_not_supported_category_feature_assertion_of_moa = f\"{number_unique_not_supported_category_assertion} / {total_len_assertions}\"\n",
    "    not_supported_feature_categories_assertion_summary_data[category][\"fraction_not_supported_category_feature_assertion_of_moa\"] = fraction_not_supported_category_feature_assertion_of_moa\n",
    "\n",
    "    # Percent\n",
    "    percent_not_supported_category_feature_assertion_of_moa = f\"{number_unique_not_supported_category_assertion / total_len_assertions * 100:.2f}%\"\n",
    "    not_supported_feature_categories_assertion_summary_data[category][\"percent_not_supported_category_feature_assertion_of_moa\"] = percent_not_supported_category_feature_assertion_of_moa\n",
    "\n",
    "    # Not supported fraction\n",
    "    fraction_not_supported_category_feature_assertion_of_total_not_supported = f\"{number_unique_not_supported_category_assertion} / {total_number_not_supported_feature_unique_assertions}\"\n",
    "    not_supported_feature_categories_assertion_summary_data[category][\"fraction_not_supported_category_feature_assertion_of_total_not_supported\"] = fraction_not_supported_category_feature_assertion_of_total_not_supported\n",
    "\n",
    "    # Not supported percent\n",
    "    percent_not_supported_category_feature_assertion_of_total_not_supported = f\"{number_unique_not_supported_category_assertion / total_number_not_supported_feature_unique_assertions * 100:.2f}%\"\n",
    "    not_supported_feature_categories_assertion_summary_data[category][\"percent_not_supported_category_feature_assertion_of_total_not_supported\"] = percent_not_supported_category_feature_assertion_of_total_not_supported\n",
    "\n",
    "\n",
    "    not_supported_feature_assertion_summary[\"Count of MOA Assertions per Category\"].append(number_unique_not_supported_category_assertion)\n",
    "    not_supported_feature_assertion_summary[\"Fraction of MOA Assertions\"].append(fraction_not_supported_category_feature_assertion_of_moa)\n",
    "    not_supported_feature_assertion_summary[\"Percent of all MOA Assertions\"].append(percent_not_supported_category_feature_assertion_of_moa)\n",
    "    not_supported_feature_assertion_summary[\"Fraction of Not Supported Feature Assertions\"].append(fraction_not_supported_category_feature_assertion_of_total_not_supported)\n",
    "    not_supported_feature_assertion_summary[\"Percent of Not Supported Feature Assertions\"].append(percent_not_supported_category_feature_assertion_of_total_not_supported)\n"
   ]
  },
  {
   "cell_type": "code",
   "execution_count": 48,
   "metadata": {},
   "outputs": [
    {
     "data": {
      "text/plain": [
       "0"
      ]
     },
     "execution_count": 48,
     "metadata": {},
     "output_type": "execute_result"
    }
   ],
   "source": [
    "number_unique_not_supported_category_features"
   ]
  },
  {
   "attachments": {},
   "cell_type": "markdown",
   "metadata": {},
   "source": [
    "## Impact by Subcategory"
   ]
  },
  {
   "cell_type": "code",
   "execution_count": 49,
   "metadata": {},
   "outputs": [],
   "source": [
    "not_supported_impact_summary = {\n",
    "    \"Category\": VARIANT_CATEGORY_VALUES,\n",
    "    \"MOA Total Sum Impact Score\": [],\n",
    "    'Average Impact Score per Feature': [],\n",
    "    'Average Impact Score per Assertion':[],\n",
    "    \"Total Number Assertions\": [v[\"number_unique_not_supported_category_assertion\"] for v in not_supported_feature_categories_assertion_summary_data.values()],\n",
    "    \"Total Number Features\": [v[\"number_unique_not_supported_category_features\"] for v in not_supported_feature_categories_summary_data.values()]\n",
    "}"
   ]
  },
  {
   "cell_type": "code",
   "execution_count": 50,
   "metadata": {},
   "outputs": [
    {
     "data": {
      "text/plain": [
       "0"
      ]
     },
     "execution_count": 50,
     "metadata": {},
     "output_type": "execute_result"
    }
   ],
   "source": [
    "number_unique_not_supported_category_features"
   ]
  },
  {
   "cell_type": "code",
   "execution_count": 51,
   "metadata": {},
   "outputs": [
    {
     "name": "stdout",
     "output_type": "stream",
     "text": [
      "0\n",
      "Expression: 11, 0, 0\n",
      "0\n",
      "Epigenetic Modification: 0, 0, 0\n",
      "0\n",
      "Fusion: 0, 0, 0\n",
      "0\n",
      "Protein Consequence: 1064, 0, 0\n",
      "0\n",
      "Gene Function: 0, 0, 0\n",
      "0\n",
      "Rearrangements: 292, 0, 0\n",
      "0\n",
      "Copy Number: 47, 0, 0\n",
      "0\n",
      "Other: 35, 0, 0\n",
      "0\n",
      "Genotypes Easy: 0, 0, 0\n",
      "0\n",
      "Genotypes Compound: 0, 0, 0\n",
      "0\n",
      "Region Defined Variant: 0, 0, 0\n",
      "0\n",
      "Transcript Variant: 0, 0, 0\n"
     ]
    }
   ],
   "source": [
    "not_supported_feature_categories_impact_data = dict()\n",
    "for category in VARIANT_CATEGORY_VALUES:\n",
    "    not_supported_feature_categories_impact_data[category] = {}\n",
    "    impact_category_df = not_supported_queries_df[not_supported_queries_df.category == category]\n",
    "\n",
    "    total_sum_not_supported_category_impact = impact_category_df[\"impact_score\"].sum()\n",
    "    not_supported_feature_categories_impact_data[category][\"total_sum_not_supported_category_impact\"] = total_sum_not_supported_category_impact\n",
    "\n",
    "    if number_unique_not_supported_category_features == 0:\n",
    "        avg_impact_score_feature = 0\n",
    "        not_supported_feature_categories_impact_data[category][\"avg_impact_score_feature\"]=  avg_impact_score_feature\n",
    "\n",
    "        avg_impact_score_assertion = 0\n",
    "        not_supported_feature_categories_impact_data[category][\"avg_impact_score_evidence\"]=  avg_impact_score_assertion\n",
    "    else:\n",
    "        avg_impact_score_feature = total_sum_not_supported_category_impact/ number_unique_not_supported_category_features\n",
    "        not_supported_feature_categories_impact_data[category][\"avg_impact_score_feature\"]=  avg_impact_score_feature\n",
    "\n",
    "        avg_impact_score_assertion = total_sum_not_supported_category_impact/ number_unique_not_supported_category_assertion\n",
    "        not_supported_feature_categories_impact_data[category][\"avg_impact_score_evidence\"]=  avg_impact_score_assertion\n",
    "    \n",
    "    not_supported_impact_summary[\"MOA Total Sum Impact Score\"].append(total_sum_not_supported_category_impact)\n",
    "    not_supported_impact_summary[\"Average Impact Score per Feature\"].append(avg_impact_score_feature)\n",
    "    not_supported_impact_summary[\"Average Impact Score per Assertion\"].append(avg_impact_score_assertion)\n",
    "\n",
    "    print(number_unique_not_supported_category_features)\n",
    "    print(f\"{category}: {total_sum_not_supported_category_impact}, {avg_impact_score_feature}, {avg_impact_score_assertion}\")"
   ]
  },
  {
   "cell_type": "code",
   "execution_count": 52,
   "metadata": {},
   "outputs": [],
   "source": [
    "not_supported_feature_impact_df = pd.DataFrame(not_supported_impact_summary)"
   ]
  },
  {
   "cell_type": "code",
   "execution_count": 53,
   "metadata": {},
   "outputs": [
    {
     "data": {
      "text/html": [
       "<div>\n",
       "<style scoped>\n",
       "    .dataframe tbody tr th:only-of-type {\n",
       "        vertical-align: middle;\n",
       "    }\n",
       "\n",
       "    .dataframe tbody tr th {\n",
       "        vertical-align: top;\n",
       "    }\n",
       "\n",
       "    .dataframe thead th {\n",
       "        text-align: right;\n",
       "    }\n",
       "</style>\n",
       "<table border=\"1\" class=\"dataframe\">\n",
       "  <thead>\n",
       "    <tr style=\"text-align: right;\">\n",
       "      <th></th>\n",
       "      <th>Category</th>\n",
       "      <th>MOA Total Sum Impact Score</th>\n",
       "      <th>Average Impact Score per Feature</th>\n",
       "      <th>Average Impact Score per Assertion</th>\n",
       "      <th>Total Number Assertions</th>\n",
       "      <th>Total Number Features</th>\n",
       "    </tr>\n",
       "  </thead>\n",
       "  <tbody>\n",
       "    <tr>\n",
       "      <th>0</th>\n",
       "      <td>Expression</td>\n",
       "      <td>11</td>\n",
       "      <td>0</td>\n",
       "      <td>0</td>\n",
       "      <td>12</td>\n",
       "      <td>11</td>\n",
       "    </tr>\n",
       "    <tr>\n",
       "      <th>1</th>\n",
       "      <td>Epigenetic Modification</td>\n",
       "      <td>0</td>\n",
       "      <td>0</td>\n",
       "      <td>0</td>\n",
       "      <td>0</td>\n",
       "      <td>0</td>\n",
       "    </tr>\n",
       "    <tr>\n",
       "      <th>2</th>\n",
       "      <td>Fusion</td>\n",
       "      <td>0</td>\n",
       "      <td>0</td>\n",
       "      <td>0</td>\n",
       "      <td>0</td>\n",
       "      <td>0</td>\n",
       "    </tr>\n",
       "    <tr>\n",
       "      <th>3</th>\n",
       "      <td>Protein Consequence</td>\n",
       "      <td>1064</td>\n",
       "      <td>0</td>\n",
       "      <td>0</td>\n",
       "      <td>419</td>\n",
       "      <td>169</td>\n",
       "    </tr>\n",
       "    <tr>\n",
       "      <th>4</th>\n",
       "      <td>Gene Function</td>\n",
       "      <td>0</td>\n",
       "      <td>0</td>\n",
       "      <td>0</td>\n",
       "      <td>0</td>\n",
       "      <td>0</td>\n",
       "    </tr>\n",
       "    <tr>\n",
       "      <th>5</th>\n",
       "      <td>Rearrangements</td>\n",
       "      <td>292</td>\n",
       "      <td>0</td>\n",
       "      <td>0</td>\n",
       "      <td>81</td>\n",
       "      <td>38</td>\n",
       "    </tr>\n",
       "    <tr>\n",
       "      <th>6</th>\n",
       "      <td>Copy Number</td>\n",
       "      <td>47</td>\n",
       "      <td>0</td>\n",
       "      <td>0</td>\n",
       "      <td>29</td>\n",
       "      <td>17</td>\n",
       "    </tr>\n",
       "    <tr>\n",
       "      <th>7</th>\n",
       "      <td>Other</td>\n",
       "      <td>35</td>\n",
       "      <td>0</td>\n",
       "      <td>0</td>\n",
       "      <td>23</td>\n",
       "      <td>9</td>\n",
       "    </tr>\n",
       "    <tr>\n",
       "      <th>8</th>\n",
       "      <td>Genotypes Easy</td>\n",
       "      <td>0</td>\n",
       "      <td>0</td>\n",
       "      <td>0</td>\n",
       "      <td>0</td>\n",
       "      <td>0</td>\n",
       "    </tr>\n",
       "    <tr>\n",
       "      <th>9</th>\n",
       "      <td>Genotypes Compound</td>\n",
       "      <td>0</td>\n",
       "      <td>0</td>\n",
       "      <td>0</td>\n",
       "      <td>0</td>\n",
       "      <td>0</td>\n",
       "    </tr>\n",
       "    <tr>\n",
       "      <th>10</th>\n",
       "      <td>Region Defined Variant</td>\n",
       "      <td>0</td>\n",
       "      <td>0</td>\n",
       "      <td>0</td>\n",
       "      <td>0</td>\n",
       "      <td>0</td>\n",
       "    </tr>\n",
       "    <tr>\n",
       "      <th>11</th>\n",
       "      <td>Transcript Variant</td>\n",
       "      <td>0</td>\n",
       "      <td>0</td>\n",
       "      <td>0</td>\n",
       "      <td>0</td>\n",
       "      <td>0</td>\n",
       "    </tr>\n",
       "  </tbody>\n",
       "</table>\n",
       "</div>"
      ],
      "text/plain": [
       "                   Category  MOA Total Sum Impact Score  \\\n",
       "0                Expression                          11   \n",
       "1   Epigenetic Modification                           0   \n",
       "2                    Fusion                           0   \n",
       "3       Protein Consequence                        1064   \n",
       "4             Gene Function                           0   \n",
       "5            Rearrangements                         292   \n",
       "6               Copy Number                          47   \n",
       "7                     Other                          35   \n",
       "8            Genotypes Easy                           0   \n",
       "9        Genotypes Compound                           0   \n",
       "10   Region Defined Variant                           0   \n",
       "11       Transcript Variant                           0   \n",
       "\n",
       "    Average Impact Score per Feature  Average Impact Score per Assertion  \\\n",
       "0                                  0                                   0   \n",
       "1                                  0                                   0   \n",
       "2                                  0                                   0   \n",
       "3                                  0                                   0   \n",
       "4                                  0                                   0   \n",
       "5                                  0                                   0   \n",
       "6                                  0                                   0   \n",
       "7                                  0                                   0   \n",
       "8                                  0                                   0   \n",
       "9                                  0                                   0   \n",
       "10                                 0                                   0   \n",
       "11                                 0                                   0   \n",
       "\n",
       "    Total Number Assertions  Total Number Features  \n",
       "0                        12                     11  \n",
       "1                         0                      0  \n",
       "2                         0                      0  \n",
       "3                       419                    169  \n",
       "4                         0                      0  \n",
       "5                        81                     38  \n",
       "6                        29                     17  \n",
       "7                        23                      9  \n",
       "8                         0                      0  \n",
       "9                         0                      0  \n",
       "10                        0                      0  \n",
       "11                        0                      0  "
      ]
     },
     "execution_count": 53,
     "metadata": {},
     "output_type": "execute_result"
    }
   ],
   "source": [
    "not_supported_feature_impact_df"
   ]
  },
  {
   "cell_type": "code",
   "execution_count": 54,
   "metadata": {},
   "outputs": [],
   "source": [
    "not_supported_feature_impact_df.to_csv('../not_supported_feature_impact_df.csv', index=False)"
   ]
  },
  {
   "attachments": {},
   "cell_type": "markdown",
   "metadata": {},
   "source": [
    "# MOA Summary"
   ]
  },
  {
   "attachments": {},
   "cell_type": "markdown",
   "metadata": {},
   "source": [
    "## Feature (Variant) Analysis"
   ]
  },
  {
   "cell_type": "code",
   "execution_count": 55,
   "metadata": {},
   "outputs": [],
   "source": [
    "all_features_df = pd.DataFrame(feature_analysis_summary)"
   ]
  },
  {
   "cell_type": "code",
   "execution_count": 56,
   "metadata": {},
   "outputs": [],
   "source": [
    "all_features_df[\"Percentage of all MOA Features\"] = all_features_df[\"Fraction of all MOA Features\"].astype(str) + \"  (\" + all_features_df[\"Percentage of all MOA Features\"] + \")\""
   ]
  },
  {
   "cell_type": "code",
   "execution_count": 57,
   "metadata": {},
   "outputs": [],
   "source": [
    "for_merge_all_variant_percent_of_moa_df = all_features_df.drop(columns=[\"Fraction of all MOA Features\"])\n",
    "\n",
    "all_features_percent_of_moa_df = all_features_df.drop(columns=[\"Fraction of all MOA Features\", \"Count of MOA Features per Category\"])"
   ]
  },
  {
   "cell_type": "code",
   "execution_count": 58,
   "metadata": {},
   "outputs": [],
   "source": [
    "for_merge_all_variant_percent_of_moa_df.to_csv('../for_merge_all_variant_percent_of_moa_df.csv', index=False)"
   ]
  },
  {
   "attachments": {},
   "cell_type": "markdown",
   "metadata": {},
   "source": [
    "Summary Table 1: The table below shows the 2 categories that MOA features (variants) were divided into after normalization and what percentage they make up of all features (variants) in MOA data. "
   ]
  },
  {
   "cell_type": "code",
   "execution_count": 59,
   "metadata": {},
   "outputs": [
    {
     "data": {
      "text/html": [
       "<div>\n",
       "<style scoped>\n",
       "    .dataframe tbody tr th:only-of-type {\n",
       "        vertical-align: middle;\n",
       "    }\n",
       "\n",
       "    .dataframe tbody tr th {\n",
       "        vertical-align: top;\n",
       "    }\n",
       "\n",
       "    .dataframe thead th {\n",
       "        text-align: right;\n",
       "    }\n",
       "</style>\n",
       "<table border=\"1\" class=\"dataframe\">\n",
       "  <thead>\n",
       "    <tr style=\"text-align: right;\">\n",
       "      <th></th>\n",
       "      <th>Percentage of all MOA Features</th>\n",
       "    </tr>\n",
       "    <tr>\n",
       "      <th>Variant Category</th>\n",
       "      <th></th>\n",
       "    </tr>\n",
       "  </thead>\n",
       "  <tbody>\n",
       "    <tr>\n",
       "      <th>Normalized</th>\n",
       "      <td>179 / 428  (41.82%)</td>\n",
       "    </tr>\n",
       "    <tr>\n",
       "      <th>Not Supported</th>\n",
       "      <td>244 / 428  (57.01%)</td>\n",
       "    </tr>\n",
       "  </tbody>\n",
       "</table>\n",
       "</div>"
      ],
      "text/plain": [
       "                 Percentage of all MOA Features\n",
       "Variant Category                               \n",
       "Normalized                  179 / 428  (41.82%)\n",
       "Not Supported               244 / 428  (57.01%)"
      ]
     },
     "execution_count": 59,
     "metadata": {},
     "output_type": "execute_result"
    }
   ],
   "source": [
    "all_features_percent_of_moa_df = all_features_percent_of_moa_df.set_index(\"Variant Category\")\n",
    "all_features_percent_of_moa_df"
   ]
  },
  {
   "cell_type": "code",
   "execution_count": 60,
   "metadata": {},
   "outputs": [],
   "source": [
    "moa_summary_table_1= all_features_percent_of_moa_df"
   ]
  },
  {
   "attachments": {},
   "cell_type": "markdown",
   "metadata": {},
   "source": [
    "Summary Table 2: The table below shows the categories that the Not Supported features (variants) were broken into and what percentage of all MOA features (variants) they make up."
   ]
  },
  {
   "cell_type": "code",
   "execution_count": 61,
   "metadata": {},
   "outputs": [
    {
     "data": {
      "text/html": [
       "<div>\n",
       "<style scoped>\n",
       "    .dataframe tbody tr th:only-of-type {\n",
       "        vertical-align: middle;\n",
       "    }\n",
       "\n",
       "    .dataframe tbody tr th {\n",
       "        vertical-align: top;\n",
       "    }\n",
       "\n",
       "    .dataframe thead th {\n",
       "        text-align: right;\n",
       "    }\n",
       "</style>\n",
       "<table border=\"1\" class=\"dataframe\">\n",
       "  <thead>\n",
       "    <tr style=\"text-align: right;\">\n",
       "      <th></th>\n",
       "      <th>Percent of all MOA Features</th>\n",
       "    </tr>\n",
       "    <tr>\n",
       "      <th>Category</th>\n",
       "      <th></th>\n",
       "    </tr>\n",
       "  </thead>\n",
       "  <tbody>\n",
       "    <tr>\n",
       "      <th>Expression</th>\n",
       "      <td>11 / 428  (2.57%)</td>\n",
       "    </tr>\n",
       "    <tr>\n",
       "      <th>Epigenetic Modification</th>\n",
       "      <td>0 / 428  (0.00%)</td>\n",
       "    </tr>\n",
       "    <tr>\n",
       "      <th>Fusion</th>\n",
       "      <td>0 / 428  (0.00%)</td>\n",
       "    </tr>\n",
       "    <tr>\n",
       "      <th>Protein Consequence</th>\n",
       "      <td>169 / 428  (39.49%)</td>\n",
       "    </tr>\n",
       "    <tr>\n",
       "      <th>Gene Function</th>\n",
       "      <td>0 / 428  (0.00%)</td>\n",
       "    </tr>\n",
       "    <tr>\n",
       "      <th>Rearrangements</th>\n",
       "      <td>38 / 428  (8.88%)</td>\n",
       "    </tr>\n",
       "    <tr>\n",
       "      <th>Copy Number</th>\n",
       "      <td>17 / 428  (3.97%)</td>\n",
       "    </tr>\n",
       "    <tr>\n",
       "      <th>Other</th>\n",
       "      <td>9 / 428  (2.10%)</td>\n",
       "    </tr>\n",
       "    <tr>\n",
       "      <th>Genotypes Easy</th>\n",
       "      <td>0 / 428  (0.00%)</td>\n",
       "    </tr>\n",
       "    <tr>\n",
       "      <th>Genotypes Compound</th>\n",
       "      <td>0 / 428  (0.00%)</td>\n",
       "    </tr>\n",
       "    <tr>\n",
       "      <th>Region Defined Variant</th>\n",
       "      <td>0 / 428  (0.00%)</td>\n",
       "    </tr>\n",
       "    <tr>\n",
       "      <th>Transcript Variant</th>\n",
       "      <td>0 / 428  (0.00%)</td>\n",
       "    </tr>\n",
       "  </tbody>\n",
       "</table>\n",
       "</div>"
      ],
      "text/plain": [
       "                        Percent of all MOA Features\n",
       "Category                                           \n",
       "Expression                        11 / 428  (2.57%)\n",
       "Epigenetic Modification            0 / 428  (0.00%)\n",
       "Fusion                             0 / 428  (0.00%)\n",
       "Protein Consequence             169 / 428  (39.49%)\n",
       "Gene Function                      0 / 428  (0.00%)\n",
       "Rearrangements                    38 / 428  (8.88%)\n",
       "Copy Number                       17 / 428  (3.97%)\n",
       "Other                              9 / 428  (2.10%)\n",
       "Genotypes Easy                     0 / 428  (0.00%)\n",
       "Genotypes Compound                 0 / 428  (0.00%)\n",
       "Region Defined Variant             0 / 428  (0.00%)\n",
       "Transcript Variant                 0 / 428  (0.00%)"
      ]
     },
     "execution_count": 61,
     "metadata": {},
     "output_type": "execute_result"
    }
   ],
   "source": [
    "not_supported_features_total_df = pd.DataFrame(not_supported_feature_analysis_summary)\n",
    "not_supported_features_total_df[\"Percent of all MOA Features\"] = not_supported_features_total_df[\"Fraction of all MOA Features\"].astype(str) + \"  (\" + not_supported_features_total_df[\"Percent of all MOA Features\"] + \")\"\n",
    "for_merge_not_supported_features_total_df = not_supported_features_total_df.drop(columns=[\"Fraction of all MOA Features\", \"Fraction of Not Supported Features\", \"Percent of Not Supported Features\"])\n",
    "\n",
    "not_supported_features_total_df = not_supported_features_total_df.drop(columns=[\"Fraction of all MOA Features\", \"Fraction of Not Supported Features\", \"Percent of Not Supported Features\",\"Count of MOA Features per Category\"])\n",
    "not_supported_features_total_df = not_supported_features_total_df.set_index(\"Category\")\n",
    "not_supported_features_total_df"
   ]
  },
  {
   "cell_type": "code",
   "execution_count": 62,
   "metadata": {},
   "outputs": [],
   "source": [
    "moa_summary_table_2= not_supported_features_total_df"
   ]
  },
  {
   "cell_type": "code",
   "execution_count": 63,
   "metadata": {},
   "outputs": [],
   "source": [
    "for_merge_not_supported_features_total_df.to_csv('../for_merge_not_supported_features_total_df.csv', index=False)"
   ]
  },
  {
   "cell_type": "markdown",
   "metadata": {},
   "source": [
    "Summary Table 3: The table below shows the categories that the Not Supported features (variants) were broken into what percent each sub category take up in Not Supported variant group."
   ]
  },
  {
   "cell_type": "code",
   "execution_count": 64,
   "metadata": {},
   "outputs": [
    {
     "data": {
      "text/html": [
       "<div>\n",
       "<style scoped>\n",
       "    .dataframe tbody tr th:only-of-type {\n",
       "        vertical-align: middle;\n",
       "    }\n",
       "\n",
       "    .dataframe tbody tr th {\n",
       "        vertical-align: top;\n",
       "    }\n",
       "\n",
       "    .dataframe thead th {\n",
       "        text-align: right;\n",
       "    }\n",
       "</style>\n",
       "<table border=\"1\" class=\"dataframe\">\n",
       "  <thead>\n",
       "    <tr style=\"text-align: right;\">\n",
       "      <th></th>\n",
       "      <th>Percent of Not Supported Features</th>\n",
       "    </tr>\n",
       "    <tr>\n",
       "      <th>Category</th>\n",
       "      <th></th>\n",
       "    </tr>\n",
       "  </thead>\n",
       "  <tbody>\n",
       "    <tr>\n",
       "      <th>Expression</th>\n",
       "      <td>11 / 244  (4.51%)</td>\n",
       "    </tr>\n",
       "    <tr>\n",
       "      <th>Epigenetic Modification</th>\n",
       "      <td>0 / 244  (0.00%)</td>\n",
       "    </tr>\n",
       "    <tr>\n",
       "      <th>Fusion</th>\n",
       "      <td>0 / 244  (0.00%)</td>\n",
       "    </tr>\n",
       "    <tr>\n",
       "      <th>Protein Consequence</th>\n",
       "      <td>169 / 244  (69.26%)</td>\n",
       "    </tr>\n",
       "    <tr>\n",
       "      <th>Gene Function</th>\n",
       "      <td>0 / 244  (0.00%)</td>\n",
       "    </tr>\n",
       "    <tr>\n",
       "      <th>Rearrangements</th>\n",
       "      <td>38 / 244  (15.57%)</td>\n",
       "    </tr>\n",
       "    <tr>\n",
       "      <th>Copy Number</th>\n",
       "      <td>17 / 244  (6.97%)</td>\n",
       "    </tr>\n",
       "    <tr>\n",
       "      <th>Other</th>\n",
       "      <td>9 / 244  (3.69%)</td>\n",
       "    </tr>\n",
       "    <tr>\n",
       "      <th>Genotypes Easy</th>\n",
       "      <td>0 / 244  (0.00%)</td>\n",
       "    </tr>\n",
       "    <tr>\n",
       "      <th>Genotypes Compound</th>\n",
       "      <td>0 / 244  (0.00%)</td>\n",
       "    </tr>\n",
       "    <tr>\n",
       "      <th>Region Defined Variant</th>\n",
       "      <td>0 / 244  (0.00%)</td>\n",
       "    </tr>\n",
       "    <tr>\n",
       "      <th>Transcript Variant</th>\n",
       "      <td>0 / 244  (0.00%)</td>\n",
       "    </tr>\n",
       "  </tbody>\n",
       "</table>\n",
       "</div>"
      ],
      "text/plain": [
       "                        Percent of Not Supported Features\n",
       "Category                                                 \n",
       "Expression                              11 / 244  (4.51%)\n",
       "Epigenetic Modification                  0 / 244  (0.00%)\n",
       "Fusion                                   0 / 244  (0.00%)\n",
       "Protein Consequence                   169 / 244  (69.26%)\n",
       "Gene Function                            0 / 244  (0.00%)\n",
       "Rearrangements                         38 / 244  (15.57%)\n",
       "Copy Number                             17 / 244  (6.97%)\n",
       "Other                                    9 / 244  (3.69%)\n",
       "Genotypes Easy                           0 / 244  (0.00%)\n",
       "Genotypes Compound                       0 / 244  (0.00%)\n",
       "Region Defined Variant                   0 / 244  (0.00%)\n",
       "Transcript Variant                       0 / 244  (0.00%)"
      ]
     },
     "execution_count": 64,
     "metadata": {},
     "output_type": "execute_result"
    }
   ],
   "source": [
    "not_supported_features_category_df = pd.DataFrame(not_supported_feature_analysis_summary)\n",
    "not_supported_features_category_df[\"Percent of Not Supported Features\"] = not_supported_features_category_df[\"Fraction of Not Supported Features\"].astype(str) + \"  (\" + not_supported_features_category_df[\"Percent of Not Supported Features\"] + \")\"\n",
    "not_supported_features_category_df = not_supported_features_category_df.drop(columns=[\"Fraction of all MOA Features\", \"Fraction of Not Supported Features\", \"Percent of all MOA Features\",\"Count of MOA Features per Category\"])\n",
    "not_supported_features_category_df = not_supported_features_category_df.set_index(\"Category\")\n",
    "not_supported_features_category_df"
   ]
  },
  {
   "cell_type": "code",
   "execution_count": 65,
   "metadata": {},
   "outputs": [],
   "source": [
    "moa_summary_table_3= not_supported_features_category_df"
   ]
  },
  {
   "attachments": {},
   "cell_type": "markdown",
   "metadata": {},
   "source": [
    "## Evidence Analysis"
   ]
  },
  {
   "cell_type": "code",
   "execution_count": 66,
   "metadata": {},
   "outputs": [],
   "source": [
    "all_features_assertions_df = pd.DataFrame(assertion_analysis_summary)"
   ]
  },
  {
   "cell_type": "code",
   "execution_count": 67,
   "metadata": {},
   "outputs": [],
   "source": [
    "all_features_assertions_df[\"Percentage of all MOA Assertions\"] = all_features_assertions_df[\"Fraction of all MOA Assertions\"].astype(str) + \"  (\" + all_features_assertions_df[\"Percentage of all MOA Assertions\"] + \")\""
   ]
  },
  {
   "cell_type": "code",
   "execution_count": 68,
   "metadata": {},
   "outputs": [],
   "source": [
    "for_merge_all_features_assertions_df = all_features_assertions_df.drop(columns=[\"Fraction of all MOA Assertions\"])\n",
    "\n",
    "all_features_assertions_df= for_merge_all_features_assertions_df.drop(columns=[\"Count of MOA Assertions per Category\"])"
   ]
  },
  {
   "cell_type": "code",
   "execution_count": 69,
   "metadata": {},
   "outputs": [],
   "source": [
    "for_merge_all_features_assertions_df.to_csv('../for_merge_all_features_assertions_df.csv', index=False)"
   ]
  },
  {
   "attachments": {},
   "cell_type": "markdown",
   "metadata": {},
   "source": [
    "Summary Table 4: The table below shows what percentage of all assertions (evidence items) in MOA are associated with Normalized and Not Supported features (variants)"
   ]
  },
  {
   "cell_type": "code",
   "execution_count": 70,
   "metadata": {},
   "outputs": [
    {
     "data": {
      "text/html": [
       "<div>\n",
       "<style scoped>\n",
       "    .dataframe tbody tr th:only-of-type {\n",
       "        vertical-align: middle;\n",
       "    }\n",
       "\n",
       "    .dataframe tbody tr th {\n",
       "        vertical-align: top;\n",
       "    }\n",
       "\n",
       "    .dataframe thead th {\n",
       "        text-align: right;\n",
       "    }\n",
       "</style>\n",
       "<table border=\"1\" class=\"dataframe\">\n",
       "  <thead>\n",
       "    <tr style=\"text-align: right;\">\n",
       "      <th></th>\n",
       "      <th>Percentage of all MOA Assertions</th>\n",
       "    </tr>\n",
       "    <tr>\n",
       "      <th>Variant Category</th>\n",
       "      <th></th>\n",
       "    </tr>\n",
       "  </thead>\n",
       "  <tbody>\n",
       "    <tr>\n",
       "      <th>Normalized</th>\n",
       "      <td>325 / 894  (36.35%)</td>\n",
       "    </tr>\n",
       "    <tr>\n",
       "      <th>Not Supported</th>\n",
       "      <td>564 / 894  (63.09%)</td>\n",
       "    </tr>\n",
       "  </tbody>\n",
       "</table>\n",
       "</div>"
      ],
      "text/plain": [
       "                 Percentage of all MOA Assertions\n",
       "Variant Category                                 \n",
       "Normalized                    325 / 894  (36.35%)\n",
       "Not Supported                 564 / 894  (63.09%)"
      ]
     },
     "execution_count": 70,
     "metadata": {},
     "output_type": "execute_result"
    }
   ],
   "source": [
    "all_features_assertions_df = all_features_assertions_df.set_index(\"Variant Category\")\n",
    "moa_summary_table_4= all_features_assertions_df\n",
    "moa_summary_table_4"
   ]
  },
  {
   "cell_type": "code",
   "execution_count": 71,
   "metadata": {},
   "outputs": [],
   "source": [
    "not_supported_feature_assertion_df = pd.DataFrame(not_supported_feature_assertion_summary)"
   ]
  },
  {
   "cell_type": "code",
   "execution_count": 72,
   "metadata": {},
   "outputs": [],
   "source": [
    "not_supported_feature_assertion_df[\"Percent of all MOA Assertions\"] = not_supported_feature_assertion_df[\"Fraction of MOA Assertions\"].astype(str) + \"  (\" + not_supported_feature_assertion_df[\"Percent of all MOA Assertions\"] + \")\"\n",
    "not_supported_feature_assertion_df[\"Percent of Not Supported Feature Assertions\"] = not_supported_feature_assertion_df[\"Fraction of Not Supported Feature Assertions\"].astype(str) + \"  (\" + not_supported_feature_assertion_df[\"Percent of Not Supported Feature Assertions\"] + \")\""
   ]
  },
  {
   "cell_type": "code",
   "execution_count": 73,
   "metadata": {},
   "outputs": [],
   "source": [
    "not_supported_feature_assertion_df = not_supported_feature_assertion_df.drop(columns=[\"Fraction of MOA Assertions\", \"Fraction of Not Supported Feature Assertions\"])"
   ]
  },
  {
   "cell_type": "code",
   "execution_count": 74,
   "metadata": {},
   "outputs": [],
   "source": [
    "for_merge_not_supported_feature_assertion_df= not_supported_feature_assertion_df.drop([\"Percent of Not Supported Feature Assertions\"], axis=1)\n",
    "\n",
    "not_supported_feature_assertion_of_moa_df=for_merge_not_supported_feature_assertion_df.drop([\"Count of MOA Assertions per Category\"], axis=1)\n",
    "\n",
    "not_supported_feature_assertion_of_not_supported_df=not_supported_feature_assertion_df.drop([\"Percent of all MOA Assertions\",\"Count of MOA Assertions per Category\"], axis=1)"
   ]
  },
  {
   "cell_type": "code",
   "execution_count": 75,
   "metadata": {},
   "outputs": [],
   "source": [
    "for_merge_not_supported_feature_assertion_df.to_csv('../for_merge_not_supported_feature_assertion_df.csv', index=False)"
   ]
  },
  {
   "attachments": {},
   "cell_type": "markdown",
   "metadata": {},
   "source": [
    "Summary Table 5: The table below shows the percentage of all MOA assertions (evidence items) that are associated with a Not Supported variant sub category."
   ]
  },
  {
   "cell_type": "code",
   "execution_count": 76,
   "metadata": {},
   "outputs": [
    {
     "data": {
      "text/html": [
       "<div>\n",
       "<style scoped>\n",
       "    .dataframe tbody tr th:only-of-type {\n",
       "        vertical-align: middle;\n",
       "    }\n",
       "\n",
       "    .dataframe tbody tr th {\n",
       "        vertical-align: top;\n",
       "    }\n",
       "\n",
       "    .dataframe thead th {\n",
       "        text-align: right;\n",
       "    }\n",
       "</style>\n",
       "<table border=\"1\" class=\"dataframe\">\n",
       "  <thead>\n",
       "    <tr style=\"text-align: right;\">\n",
       "      <th></th>\n",
       "      <th>Percent of all MOA Assertions</th>\n",
       "    </tr>\n",
       "    <tr>\n",
       "      <th>Category</th>\n",
       "      <th></th>\n",
       "    </tr>\n",
       "  </thead>\n",
       "  <tbody>\n",
       "    <tr>\n",
       "      <th>Expression</th>\n",
       "      <td>12 / 894  (1.34%)</td>\n",
       "    </tr>\n",
       "    <tr>\n",
       "      <th>Epigenetic Modification</th>\n",
       "      <td>0 / 894  (0.00%)</td>\n",
       "    </tr>\n",
       "    <tr>\n",
       "      <th>Fusion</th>\n",
       "      <td>0 / 894  (0.00%)</td>\n",
       "    </tr>\n",
       "    <tr>\n",
       "      <th>Protein Consequence</th>\n",
       "      <td>419 / 894  (46.87%)</td>\n",
       "    </tr>\n",
       "    <tr>\n",
       "      <th>Gene Function</th>\n",
       "      <td>0 / 894  (0.00%)</td>\n",
       "    </tr>\n",
       "    <tr>\n",
       "      <th>Rearrangements</th>\n",
       "      <td>81 / 894  (9.06%)</td>\n",
       "    </tr>\n",
       "    <tr>\n",
       "      <th>Copy Number</th>\n",
       "      <td>29 / 894  (3.24%)</td>\n",
       "    </tr>\n",
       "    <tr>\n",
       "      <th>Other</th>\n",
       "      <td>23 / 894  (2.57%)</td>\n",
       "    </tr>\n",
       "    <tr>\n",
       "      <th>Genotypes Easy</th>\n",
       "      <td>0 / 894  (0.00%)</td>\n",
       "    </tr>\n",
       "    <tr>\n",
       "      <th>Genotypes Compound</th>\n",
       "      <td>0 / 894  (0.00%)</td>\n",
       "    </tr>\n",
       "    <tr>\n",
       "      <th>Region Defined Variant</th>\n",
       "      <td>0 / 894  (0.00%)</td>\n",
       "    </tr>\n",
       "    <tr>\n",
       "      <th>Transcript Variant</th>\n",
       "      <td>0 / 894  (0.00%)</td>\n",
       "    </tr>\n",
       "  </tbody>\n",
       "</table>\n",
       "</div>"
      ],
      "text/plain": [
       "                        Percent of all MOA Assertions\n",
       "Category                                             \n",
       "Expression                          12 / 894  (1.34%)\n",
       "Epigenetic Modification              0 / 894  (0.00%)\n",
       "Fusion                               0 / 894  (0.00%)\n",
       "Protein Consequence               419 / 894  (46.87%)\n",
       "Gene Function                        0 / 894  (0.00%)\n",
       "Rearrangements                      81 / 894  (9.06%)\n",
       "Copy Number                         29 / 894  (3.24%)\n",
       "Other                               23 / 894  (2.57%)\n",
       "Genotypes Easy                       0 / 894  (0.00%)\n",
       "Genotypes Compound                   0 / 894  (0.00%)\n",
       "Region Defined Variant               0 / 894  (0.00%)\n",
       "Transcript Variant                   0 / 894  (0.00%)"
      ]
     },
     "execution_count": 76,
     "metadata": {},
     "output_type": "execute_result"
    }
   ],
   "source": [
    "not_supported_feature_assertion_of_moa_df = not_supported_feature_assertion_of_moa_df.set_index(\"Category\")\n",
    "moa_summary_table_5=not_supported_feature_assertion_of_moa_df\n",
    "moa_summary_table_5"
   ]
  },
  {
   "cell_type": "markdown",
   "metadata": {},
   "source": [
    "Summary Table 6: The table below shows the percentage of all MOA Assertions (evidence items) associated with Not Supported features (variants) that are associated with a variant sub category. "
   ]
  },
  {
   "cell_type": "code",
   "execution_count": 77,
   "metadata": {},
   "outputs": [
    {
     "data": {
      "text/html": [
       "<div>\n",
       "<style scoped>\n",
       "    .dataframe tbody tr th:only-of-type {\n",
       "        vertical-align: middle;\n",
       "    }\n",
       "\n",
       "    .dataframe tbody tr th {\n",
       "        vertical-align: top;\n",
       "    }\n",
       "\n",
       "    .dataframe thead th {\n",
       "        text-align: right;\n",
       "    }\n",
       "</style>\n",
       "<table border=\"1\" class=\"dataframe\">\n",
       "  <thead>\n",
       "    <tr style=\"text-align: right;\">\n",
       "      <th></th>\n",
       "      <th>Percent of Not Supported Feature Assertions</th>\n",
       "    </tr>\n",
       "    <tr>\n",
       "      <th>Category</th>\n",
       "      <th></th>\n",
       "    </tr>\n",
       "  </thead>\n",
       "  <tbody>\n",
       "    <tr>\n",
       "      <th>Expression</th>\n",
       "      <td>12 / 244  (4.92%)</td>\n",
       "    </tr>\n",
       "    <tr>\n",
       "      <th>Epigenetic Modification</th>\n",
       "      <td>0 / 244  (0.00%)</td>\n",
       "    </tr>\n",
       "    <tr>\n",
       "      <th>Fusion</th>\n",
       "      <td>0 / 244  (0.00%)</td>\n",
       "    </tr>\n",
       "    <tr>\n",
       "      <th>Protein Consequence</th>\n",
       "      <td>419 / 244  (171.72%)</td>\n",
       "    </tr>\n",
       "    <tr>\n",
       "      <th>Gene Function</th>\n",
       "      <td>0 / 244  (0.00%)</td>\n",
       "    </tr>\n",
       "    <tr>\n",
       "      <th>Rearrangements</th>\n",
       "      <td>81 / 244  (33.20%)</td>\n",
       "    </tr>\n",
       "    <tr>\n",
       "      <th>Copy Number</th>\n",
       "      <td>29 / 244  (11.89%)</td>\n",
       "    </tr>\n",
       "    <tr>\n",
       "      <th>Other</th>\n",
       "      <td>23 / 244  (9.43%)</td>\n",
       "    </tr>\n",
       "    <tr>\n",
       "      <th>Genotypes Easy</th>\n",
       "      <td>0 / 244  (0.00%)</td>\n",
       "    </tr>\n",
       "    <tr>\n",
       "      <th>Genotypes Compound</th>\n",
       "      <td>0 / 244  (0.00%)</td>\n",
       "    </tr>\n",
       "    <tr>\n",
       "      <th>Region Defined Variant</th>\n",
       "      <td>0 / 244  (0.00%)</td>\n",
       "    </tr>\n",
       "    <tr>\n",
       "      <th>Transcript Variant</th>\n",
       "      <td>0 / 244  (0.00%)</td>\n",
       "    </tr>\n",
       "  </tbody>\n",
       "</table>\n",
       "</div>"
      ],
      "text/plain": [
       "                        Percent of Not Supported Feature Assertions\n",
       "Category                                                           \n",
       "Expression                                        12 / 244  (4.92%)\n",
       "Epigenetic Modification                            0 / 244  (0.00%)\n",
       "Fusion                                             0 / 244  (0.00%)\n",
       "Protein Consequence                            419 / 244  (171.72%)\n",
       "Gene Function                                      0 / 244  (0.00%)\n",
       "Rearrangements                                   81 / 244  (33.20%)\n",
       "Copy Number                                      29 / 244  (11.89%)\n",
       "Other                                             23 / 244  (9.43%)\n",
       "Genotypes Easy                                     0 / 244  (0.00%)\n",
       "Genotypes Compound                                 0 / 244  (0.00%)\n",
       "Region Defined Variant                             0 / 244  (0.00%)\n",
       "Transcript Variant                                 0 / 244  (0.00%)"
      ]
     },
     "execution_count": 77,
     "metadata": {},
     "output_type": "execute_result"
    }
   ],
   "source": [
    "not_supported_feature_assertion_of_not_supported_df = not_supported_feature_assertion_of_not_supported_df.set_index(\"Category\")\n",
    "moa_summary_table_6 = not_supported_feature_assertion_of_not_supported_df\n",
    "moa_summary_table_6"
   ]
  },
  {
   "attachments": {},
   "cell_type": "markdown",
   "metadata": {},
   "source": [
    "## Impact"
   ]
  },
  {
   "attachments": {},
   "cell_type": "markdown",
   "metadata": {},
   "source": [
    "The bar graph below shows the relationship between the Not Suported variant sub category impact score and the sub category. Additionally, the colors illustrate the number of assertions (evidence items) associated each sub category."
   ]
  },
  {
   "cell_type": "code",
   "execution_count": 78,
   "metadata": {},
   "outputs": [
    {
     "data": {
      "text/html": [
       "<div>\n",
       "<style scoped>\n",
       "    .dataframe tbody tr th:only-of-type {\n",
       "        vertical-align: middle;\n",
       "    }\n",
       "\n",
       "    .dataframe tbody tr th {\n",
       "        vertical-align: top;\n",
       "    }\n",
       "\n",
       "    .dataframe thead th {\n",
       "        text-align: right;\n",
       "    }\n",
       "</style>\n",
       "<table border=\"1\" class=\"dataframe\">\n",
       "  <thead>\n",
       "    <tr style=\"text-align: right;\">\n",
       "      <th></th>\n",
       "      <th>Category</th>\n",
       "      <th>MOA Total Sum Impact Score</th>\n",
       "      <th>Average Impact Score per Feature</th>\n",
       "      <th>Average Impact Score per Assertion</th>\n",
       "      <th>Total Number Assertions</th>\n",
       "      <th>Total Number Features</th>\n",
       "    </tr>\n",
       "  </thead>\n",
       "  <tbody>\n",
       "    <tr>\n",
       "      <th>0</th>\n",
       "      <td>Expression</td>\n",
       "      <td>11</td>\n",
       "      <td>0</td>\n",
       "      <td>0</td>\n",
       "      <td>12</td>\n",
       "      <td>11</td>\n",
       "    </tr>\n",
       "    <tr>\n",
       "      <th>1</th>\n",
       "      <td>Epigenetic Modification</td>\n",
       "      <td>0</td>\n",
       "      <td>0</td>\n",
       "      <td>0</td>\n",
       "      <td>0</td>\n",
       "      <td>0</td>\n",
       "    </tr>\n",
       "    <tr>\n",
       "      <th>2</th>\n",
       "      <td>Fusion</td>\n",
       "      <td>0</td>\n",
       "      <td>0</td>\n",
       "      <td>0</td>\n",
       "      <td>0</td>\n",
       "      <td>0</td>\n",
       "    </tr>\n",
       "    <tr>\n",
       "      <th>3</th>\n",
       "      <td>Protein Consequence</td>\n",
       "      <td>1064</td>\n",
       "      <td>0</td>\n",
       "      <td>0</td>\n",
       "      <td>419</td>\n",
       "      <td>169</td>\n",
       "    </tr>\n",
       "    <tr>\n",
       "      <th>4</th>\n",
       "      <td>Gene Function</td>\n",
       "      <td>0</td>\n",
       "      <td>0</td>\n",
       "      <td>0</td>\n",
       "      <td>0</td>\n",
       "      <td>0</td>\n",
       "    </tr>\n",
       "    <tr>\n",
       "      <th>5</th>\n",
       "      <td>Rearrangements</td>\n",
       "      <td>292</td>\n",
       "      <td>0</td>\n",
       "      <td>0</td>\n",
       "      <td>81</td>\n",
       "      <td>38</td>\n",
       "    </tr>\n",
       "    <tr>\n",
       "      <th>6</th>\n",
       "      <td>Copy Number</td>\n",
       "      <td>47</td>\n",
       "      <td>0</td>\n",
       "      <td>0</td>\n",
       "      <td>29</td>\n",
       "      <td>17</td>\n",
       "    </tr>\n",
       "    <tr>\n",
       "      <th>7</th>\n",
       "      <td>Other</td>\n",
       "      <td>35</td>\n",
       "      <td>0</td>\n",
       "      <td>0</td>\n",
       "      <td>23</td>\n",
       "      <td>9</td>\n",
       "    </tr>\n",
       "    <tr>\n",
       "      <th>8</th>\n",
       "      <td>Genotypes Easy</td>\n",
       "      <td>0</td>\n",
       "      <td>0</td>\n",
       "      <td>0</td>\n",
       "      <td>0</td>\n",
       "      <td>0</td>\n",
       "    </tr>\n",
       "    <tr>\n",
       "      <th>9</th>\n",
       "      <td>Genotypes Compound</td>\n",
       "      <td>0</td>\n",
       "      <td>0</td>\n",
       "      <td>0</td>\n",
       "      <td>0</td>\n",
       "      <td>0</td>\n",
       "    </tr>\n",
       "    <tr>\n",
       "      <th>10</th>\n",
       "      <td>Region Defined Variant</td>\n",
       "      <td>0</td>\n",
       "      <td>0</td>\n",
       "      <td>0</td>\n",
       "      <td>0</td>\n",
       "      <td>0</td>\n",
       "    </tr>\n",
       "    <tr>\n",
       "      <th>11</th>\n",
       "      <td>Transcript Variant</td>\n",
       "      <td>0</td>\n",
       "      <td>0</td>\n",
       "      <td>0</td>\n",
       "      <td>0</td>\n",
       "      <td>0</td>\n",
       "    </tr>\n",
       "  </tbody>\n",
       "</table>\n",
       "</div>"
      ],
      "text/plain": [
       "                   Category  MOA Total Sum Impact Score  \\\n",
       "0                Expression                          11   \n",
       "1   Epigenetic Modification                           0   \n",
       "2                    Fusion                           0   \n",
       "3       Protein Consequence                        1064   \n",
       "4             Gene Function                           0   \n",
       "5            Rearrangements                         292   \n",
       "6               Copy Number                          47   \n",
       "7                     Other                          35   \n",
       "8            Genotypes Easy                           0   \n",
       "9        Genotypes Compound                           0   \n",
       "10   Region Defined Variant                           0   \n",
       "11       Transcript Variant                           0   \n",
       "\n",
       "    Average Impact Score per Feature  Average Impact Score per Assertion  \\\n",
       "0                                  0                                   0   \n",
       "1                                  0                                   0   \n",
       "2                                  0                                   0   \n",
       "3                                  0                                   0   \n",
       "4                                  0                                   0   \n",
       "5                                  0                                   0   \n",
       "6                                  0                                   0   \n",
       "7                                  0                                   0   \n",
       "8                                  0                                   0   \n",
       "9                                  0                                   0   \n",
       "10                                 0                                   0   \n",
       "11                                 0                                   0   \n",
       "\n",
       "    Total Number Assertions  Total Number Features  \n",
       "0                        12                     11  \n",
       "1                         0                      0  \n",
       "2                         0                      0  \n",
       "3                       419                    169  \n",
       "4                         0                      0  \n",
       "5                        81                     38  \n",
       "6                        29                     17  \n",
       "7                        23                      9  \n",
       "8                         0                      0  \n",
       "9                         0                      0  \n",
       "10                        0                      0  \n",
       "11                        0                      0  "
      ]
     },
     "execution_count": 78,
     "metadata": {},
     "output_type": "execute_result"
    }
   ],
   "source": [
    "not_supported_feature_impact_df = pd.DataFrame(not_supported_impact_summary)\n",
    "not_supported_feature_impact_df"
   ]
  },
  {
   "cell_type": "code",
   "execution_count": 79,
   "metadata": {},
   "outputs": [],
   "source": [
    "not_supported_feature_impact_df.to_csv('../not_supported_feature_impact_df.csv', index=False)"
   ]
  },
  {
   "cell_type": "code",
   "execution_count": 80,
   "metadata": {},
   "outputs": [
    {
     "data": {
      "application/vnd.plotly.v1+json": {
       "config": {
        "plotlyServerURL": "https://plot.ly"
       },
       "data": [
        {
         "alignmentgroup": "True",
         "customdata": [
          [
           12
          ],
          [
           0
          ],
          [
           0
          ],
          [
           419
          ],
          [
           0
          ],
          [
           81
          ],
          [
           29
          ],
          [
           23
          ],
          [
           0
          ],
          [
           0
          ],
          [
           0
          ],
          [
           0
          ]
         ],
         "hovertemplate": "Category=%{x}<br>MOA Total Sum Impact Score=%{y}<br>Total Number Assertions=%{marker.color}<extra></extra>",
         "legendgroup": "",
         "marker": {
          "color": [
           12,
           0,
           0,
           419,
           0,
           81,
           29,
           23,
           0,
           0,
           0,
           0
          ],
          "coloraxis": "coloraxis",
          "pattern": {
           "shape": ""
          }
         },
         "name": "",
         "offsetgroup": "",
         "orientation": "v",
         "showlegend": false,
         "textposition": "auto",
         "texttemplate": "%{y:.1f}",
         "type": "bar",
         "width": 1,
         "x": [
          "Expression",
          "Epigenetic Modification",
          "Fusion",
          "Protein Consequence",
          "Gene Function",
          "Rearrangements",
          "Copy Number",
          "Other",
          "Genotypes Easy",
          "Genotypes Compound",
          "Region Defined Variant",
          "Transcript Variant"
         ],
         "xaxis": "x",
         "y": [
          11,
          0,
          0,
          1064,
          0,
          292,
          47,
          35,
          0,
          0,
          0,
          0
         ],
         "yaxis": "y"
        }
       ],
       "layout": {
        "barmode": "relative",
        "coloraxis": {
         "colorbar": {
          "title": {
           "text": "Total Number Assertions"
          }
         },
         "colorscale": [
          [
           0,
           "rgb(0, 128, 128)"
          ],
          [
           0.16666666666666666,
           "rgb(112, 164, 148)"
          ],
          [
           0.3333333333333333,
           "rgb(180, 200, 168)"
          ],
          [
           0.5,
           "rgb(246, 237, 189)"
          ],
          [
           0.6666666666666666,
           "rgb(237, 187, 138)"
          ],
          [
           0.8333333333333334,
           "rgb(222, 138, 90)"
          ],
          [
           1,
           "rgb(202, 86, 44)"
          ]
         ]
        },
        "legend": {
         "tracegroupgap": 0
        },
        "margin": {
         "t": 60
        },
        "template": {
         "data": {
          "bar": [
           {
            "error_x": {
             "color": "#2a3f5f"
            },
            "error_y": {
             "color": "#2a3f5f"
            },
            "marker": {
             "line": {
              "color": "#E5ECF6",
              "width": 0.5
             },
             "pattern": {
              "fillmode": "overlay",
              "size": 10,
              "solidity": 0.2
             }
            },
            "type": "bar"
           }
          ],
          "barpolar": [
           {
            "marker": {
             "line": {
              "color": "#E5ECF6",
              "width": 0.5
             },
             "pattern": {
              "fillmode": "overlay",
              "size": 10,
              "solidity": 0.2
             }
            },
            "type": "barpolar"
           }
          ],
          "carpet": [
           {
            "aaxis": {
             "endlinecolor": "#2a3f5f",
             "gridcolor": "white",
             "linecolor": "white",
             "minorgridcolor": "white",
             "startlinecolor": "#2a3f5f"
            },
            "baxis": {
             "endlinecolor": "#2a3f5f",
             "gridcolor": "white",
             "linecolor": "white",
             "minorgridcolor": "white",
             "startlinecolor": "#2a3f5f"
            },
            "type": "carpet"
           }
          ],
          "choropleth": [
           {
            "colorbar": {
             "outlinewidth": 0,
             "ticks": ""
            },
            "type": "choropleth"
           }
          ],
          "contour": [
           {
            "colorbar": {
             "outlinewidth": 0,
             "ticks": ""
            },
            "colorscale": [
             [
              0,
              "#0d0887"
             ],
             [
              0.1111111111111111,
              "#46039f"
             ],
             [
              0.2222222222222222,
              "#7201a8"
             ],
             [
              0.3333333333333333,
              "#9c179e"
             ],
             [
              0.4444444444444444,
              "#bd3786"
             ],
             [
              0.5555555555555556,
              "#d8576b"
             ],
             [
              0.6666666666666666,
              "#ed7953"
             ],
             [
              0.7777777777777778,
              "#fb9f3a"
             ],
             [
              0.8888888888888888,
              "#fdca26"
             ],
             [
              1,
              "#f0f921"
             ]
            ],
            "type": "contour"
           }
          ],
          "contourcarpet": [
           {
            "colorbar": {
             "outlinewidth": 0,
             "ticks": ""
            },
            "type": "contourcarpet"
           }
          ],
          "heatmap": [
           {
            "colorbar": {
             "outlinewidth": 0,
             "ticks": ""
            },
            "colorscale": [
             [
              0,
              "#0d0887"
             ],
             [
              0.1111111111111111,
              "#46039f"
             ],
             [
              0.2222222222222222,
              "#7201a8"
             ],
             [
              0.3333333333333333,
              "#9c179e"
             ],
             [
              0.4444444444444444,
              "#bd3786"
             ],
             [
              0.5555555555555556,
              "#d8576b"
             ],
             [
              0.6666666666666666,
              "#ed7953"
             ],
             [
              0.7777777777777778,
              "#fb9f3a"
             ],
             [
              0.8888888888888888,
              "#fdca26"
             ],
             [
              1,
              "#f0f921"
             ]
            ],
            "type": "heatmap"
           }
          ],
          "heatmapgl": [
           {
            "colorbar": {
             "outlinewidth": 0,
             "ticks": ""
            },
            "colorscale": [
             [
              0,
              "#0d0887"
             ],
             [
              0.1111111111111111,
              "#46039f"
             ],
             [
              0.2222222222222222,
              "#7201a8"
             ],
             [
              0.3333333333333333,
              "#9c179e"
             ],
             [
              0.4444444444444444,
              "#bd3786"
             ],
             [
              0.5555555555555556,
              "#d8576b"
             ],
             [
              0.6666666666666666,
              "#ed7953"
             ],
             [
              0.7777777777777778,
              "#fb9f3a"
             ],
             [
              0.8888888888888888,
              "#fdca26"
             ],
             [
              1,
              "#f0f921"
             ]
            ],
            "type": "heatmapgl"
           }
          ],
          "histogram": [
           {
            "marker": {
             "pattern": {
              "fillmode": "overlay",
              "size": 10,
              "solidity": 0.2
             }
            },
            "type": "histogram"
           }
          ],
          "histogram2d": [
           {
            "colorbar": {
             "outlinewidth": 0,
             "ticks": ""
            },
            "colorscale": [
             [
              0,
              "#0d0887"
             ],
             [
              0.1111111111111111,
              "#46039f"
             ],
             [
              0.2222222222222222,
              "#7201a8"
             ],
             [
              0.3333333333333333,
              "#9c179e"
             ],
             [
              0.4444444444444444,
              "#bd3786"
             ],
             [
              0.5555555555555556,
              "#d8576b"
             ],
             [
              0.6666666666666666,
              "#ed7953"
             ],
             [
              0.7777777777777778,
              "#fb9f3a"
             ],
             [
              0.8888888888888888,
              "#fdca26"
             ],
             [
              1,
              "#f0f921"
             ]
            ],
            "type": "histogram2d"
           }
          ],
          "histogram2dcontour": [
           {
            "colorbar": {
             "outlinewidth": 0,
             "ticks": ""
            },
            "colorscale": [
             [
              0,
              "#0d0887"
             ],
             [
              0.1111111111111111,
              "#46039f"
             ],
             [
              0.2222222222222222,
              "#7201a8"
             ],
             [
              0.3333333333333333,
              "#9c179e"
             ],
             [
              0.4444444444444444,
              "#bd3786"
             ],
             [
              0.5555555555555556,
              "#d8576b"
             ],
             [
              0.6666666666666666,
              "#ed7953"
             ],
             [
              0.7777777777777778,
              "#fb9f3a"
             ],
             [
              0.8888888888888888,
              "#fdca26"
             ],
             [
              1,
              "#f0f921"
             ]
            ],
            "type": "histogram2dcontour"
           }
          ],
          "mesh3d": [
           {
            "colorbar": {
             "outlinewidth": 0,
             "ticks": ""
            },
            "type": "mesh3d"
           }
          ],
          "parcoords": [
           {
            "line": {
             "colorbar": {
              "outlinewidth": 0,
              "ticks": ""
             }
            },
            "type": "parcoords"
           }
          ],
          "pie": [
           {
            "automargin": true,
            "type": "pie"
           }
          ],
          "scatter": [
           {
            "fillpattern": {
             "fillmode": "overlay",
             "size": 10,
             "solidity": 0.2
            },
            "type": "scatter"
           }
          ],
          "scatter3d": [
           {
            "line": {
             "colorbar": {
              "outlinewidth": 0,
              "ticks": ""
             }
            },
            "marker": {
             "colorbar": {
              "outlinewidth": 0,
              "ticks": ""
             }
            },
            "type": "scatter3d"
           }
          ],
          "scattercarpet": [
           {
            "marker": {
             "colorbar": {
              "outlinewidth": 0,
              "ticks": ""
             }
            },
            "type": "scattercarpet"
           }
          ],
          "scattergeo": [
           {
            "marker": {
             "colorbar": {
              "outlinewidth": 0,
              "ticks": ""
             }
            },
            "type": "scattergeo"
           }
          ],
          "scattergl": [
           {
            "marker": {
             "colorbar": {
              "outlinewidth": 0,
              "ticks": ""
             }
            },
            "type": "scattergl"
           }
          ],
          "scattermapbox": [
           {
            "marker": {
             "colorbar": {
              "outlinewidth": 0,
              "ticks": ""
             }
            },
            "type": "scattermapbox"
           }
          ],
          "scatterpolar": [
           {
            "marker": {
             "colorbar": {
              "outlinewidth": 0,
              "ticks": ""
             }
            },
            "type": "scatterpolar"
           }
          ],
          "scatterpolargl": [
           {
            "marker": {
             "colorbar": {
              "outlinewidth": 0,
              "ticks": ""
             }
            },
            "type": "scatterpolargl"
           }
          ],
          "scatterternary": [
           {
            "marker": {
             "colorbar": {
              "outlinewidth": 0,
              "ticks": ""
             }
            },
            "type": "scatterternary"
           }
          ],
          "surface": [
           {
            "colorbar": {
             "outlinewidth": 0,
             "ticks": ""
            },
            "colorscale": [
             [
              0,
              "#0d0887"
             ],
             [
              0.1111111111111111,
              "#46039f"
             ],
             [
              0.2222222222222222,
              "#7201a8"
             ],
             [
              0.3333333333333333,
              "#9c179e"
             ],
             [
              0.4444444444444444,
              "#bd3786"
             ],
             [
              0.5555555555555556,
              "#d8576b"
             ],
             [
              0.6666666666666666,
              "#ed7953"
             ],
             [
              0.7777777777777778,
              "#fb9f3a"
             ],
             [
              0.8888888888888888,
              "#fdca26"
             ],
             [
              1,
              "#f0f921"
             ]
            ],
            "type": "surface"
           }
          ],
          "table": [
           {
            "cells": {
             "fill": {
              "color": "#EBF0F8"
             },
             "line": {
              "color": "white"
             }
            },
            "header": {
             "fill": {
              "color": "#C8D4E3"
             },
             "line": {
              "color": "white"
             }
            },
            "type": "table"
           }
          ]
         },
         "layout": {
          "annotationdefaults": {
           "arrowcolor": "#2a3f5f",
           "arrowhead": 0,
           "arrowwidth": 1
          },
          "autotypenumbers": "strict",
          "coloraxis": {
           "colorbar": {
            "outlinewidth": 0,
            "ticks": ""
           }
          },
          "colorscale": {
           "diverging": [
            [
             0,
             "#8e0152"
            ],
            [
             0.1,
             "#c51b7d"
            ],
            [
             0.2,
             "#de77ae"
            ],
            [
             0.3,
             "#f1b6da"
            ],
            [
             0.4,
             "#fde0ef"
            ],
            [
             0.5,
             "#f7f7f7"
            ],
            [
             0.6,
             "#e6f5d0"
            ],
            [
             0.7,
             "#b8e186"
            ],
            [
             0.8,
             "#7fbc41"
            ],
            [
             0.9,
             "#4d9221"
            ],
            [
             1,
             "#276419"
            ]
           ],
           "sequential": [
            [
             0,
             "#0d0887"
            ],
            [
             0.1111111111111111,
             "#46039f"
            ],
            [
             0.2222222222222222,
             "#7201a8"
            ],
            [
             0.3333333333333333,
             "#9c179e"
            ],
            [
             0.4444444444444444,
             "#bd3786"
            ],
            [
             0.5555555555555556,
             "#d8576b"
            ],
            [
             0.6666666666666666,
             "#ed7953"
            ],
            [
             0.7777777777777778,
             "#fb9f3a"
            ],
            [
             0.8888888888888888,
             "#fdca26"
            ],
            [
             1,
             "#f0f921"
            ]
           ],
           "sequentialminus": [
            [
             0,
             "#0d0887"
            ],
            [
             0.1111111111111111,
             "#46039f"
            ],
            [
             0.2222222222222222,
             "#7201a8"
            ],
            [
             0.3333333333333333,
             "#9c179e"
            ],
            [
             0.4444444444444444,
             "#bd3786"
            ],
            [
             0.5555555555555556,
             "#d8576b"
            ],
            [
             0.6666666666666666,
             "#ed7953"
            ],
            [
             0.7777777777777778,
             "#fb9f3a"
            ],
            [
             0.8888888888888888,
             "#fdca26"
            ],
            [
             1,
             "#f0f921"
            ]
           ]
          },
          "colorway": [
           "#636efa",
           "#EF553B",
           "#00cc96",
           "#ab63fa",
           "#FFA15A",
           "#19d3f3",
           "#FF6692",
           "#B6E880",
           "#FF97FF",
           "#FECB52"
          ],
          "font": {
           "color": "#2a3f5f"
          },
          "geo": {
           "bgcolor": "white",
           "lakecolor": "white",
           "landcolor": "#E5ECF6",
           "showlakes": true,
           "showland": true,
           "subunitcolor": "white"
          },
          "hoverlabel": {
           "align": "left"
          },
          "hovermode": "closest",
          "mapbox": {
           "style": "light"
          },
          "paper_bgcolor": "white",
          "plot_bgcolor": "#E5ECF6",
          "polar": {
           "angularaxis": {
            "gridcolor": "white",
            "linecolor": "white",
            "ticks": ""
           },
           "bgcolor": "#E5ECF6",
           "radialaxis": {
            "gridcolor": "white",
            "linecolor": "white",
            "ticks": ""
           }
          },
          "scene": {
           "xaxis": {
            "backgroundcolor": "#E5ECF6",
            "gridcolor": "white",
            "gridwidth": 2,
            "linecolor": "white",
            "showbackground": true,
            "ticks": "",
            "zerolinecolor": "white"
           },
           "yaxis": {
            "backgroundcolor": "#E5ECF6",
            "gridcolor": "white",
            "gridwidth": 2,
            "linecolor": "white",
            "showbackground": true,
            "ticks": "",
            "zerolinecolor": "white"
           },
           "zaxis": {
            "backgroundcolor": "#E5ECF6",
            "gridcolor": "white",
            "gridwidth": 2,
            "linecolor": "white",
            "showbackground": true,
            "ticks": "",
            "zerolinecolor": "white"
           }
          },
          "shapedefaults": {
           "line": {
            "color": "#2a3f5f"
           }
          },
          "ternary": {
           "aaxis": {
            "gridcolor": "white",
            "linecolor": "white",
            "ticks": ""
           },
           "baxis": {
            "gridcolor": "white",
            "linecolor": "white",
            "ticks": ""
           },
           "bgcolor": "#E5ECF6",
           "caxis": {
            "gridcolor": "white",
            "linecolor": "white",
            "ticks": ""
           }
          },
          "title": {
           "x": 0.05
          },
          "xaxis": {
           "automargin": true,
           "gridcolor": "white",
           "linecolor": "white",
           "ticks": "",
           "title": {
            "standoff": 15
           },
           "zerolinecolor": "white",
           "zerolinewidth": 2
          },
          "yaxis": {
           "automargin": true,
           "gridcolor": "white",
           "linecolor": "white",
           "ticks": "",
           "title": {
            "standoff": 15
           },
           "zerolinecolor": "white",
           "zerolinewidth": 2
          }
         }
        },
        "xaxis": {
         "anchor": "y",
         "domain": [
          0,
          1
         ],
         "title": {
          "text": "Category"
         }
        },
        "yaxis": {
         "anchor": "x",
         "domain": [
          0,
          1
         ],
         "title": {
          "text": "MOA Total Sum Impact Score"
         }
        }
       }
      }
     },
     "metadata": {},
     "output_type": "display_data"
    }
   ],
   "source": [
    "fig3 = px.bar(\n",
    "    not_supported_feature_impact_df,\n",
    "    x=\"Category\",\n",
    "    y=\"MOA Total Sum Impact Score\",\n",
    "    hover_data=[\"Total Number Assertions\"],\n",
    "    color=\"Total Number Assertions\",\n",
    "    labels={\"MOA Total Sum Impact Score\": \"MOA Total Sum Impact Score\"},\n",
    "    text_auto=\".1f\",\n",
    "    color_continuous_scale=\"geyser\"\n",
    ")\n",
    "fig3.update_traces(width=1)\n",
    "fig3.show()"
   ]
  },
  {
   "cell_type": "code",
   "execution_count": 81,
   "metadata": {},
   "outputs": [],
   "source": [
    "fig3.write_html(\"moa_ns_categories_impact_redgreen.html\")"
   ]
  },
  {
   "attachments": {},
   "cell_type": "markdown",
   "metadata": {},
   "source": [
    "The scatterplot below shows the relationship between the Not Suported variant sub category impact score and the number of assertions (evidence items) associated with features (variants) in each sub category. Additionally, the sizes of the data point represent the number of features (variants) in each sub category. "
   ]
  },
  {
   "cell_type": "code",
   "execution_count": 82,
   "metadata": {},
   "outputs": [
    {
     "data": {
      "application/vnd.plotly.v1+json": {
       "config": {
        "plotlyServerURL": "https://plot.ly"
       },
       "data": [
        {
         "hovertemplate": "Category=Expression<br>Total Number Assertions=%{x}<br>MOA Total Sum Impact Score=%{y}<br>Total Number Features=%{text}<extra></extra>",
         "legendgroup": "Expression",
         "marker": {
          "color": "#636efa",
          "size": [
           11
          ],
          "sizemode": "area",
          "sizeref": 0.105625,
          "symbol": "circle"
         },
         "mode": "markers+text",
         "name": "Expression",
         "orientation": "v",
         "showlegend": true,
         "text": [
          11
         ],
         "type": "scatter",
         "x": [
          12
         ],
         "xaxis": "x",
         "y": [
          11
         ],
         "yaxis": "y"
        },
        {
         "hovertemplate": "Category=Epigenetic Modification<br>Total Number Assertions=%{x}<br>MOA Total Sum Impact Score=%{y}<br>Total Number Features=%{text}<extra></extra>",
         "legendgroup": "Epigenetic Modification",
         "marker": {
          "color": "#EF553B",
          "size": [
           0
          ],
          "sizemode": "area",
          "sizeref": 0.105625,
          "symbol": "circle"
         },
         "mode": "markers+text",
         "name": "Epigenetic Modification",
         "orientation": "v",
         "showlegend": true,
         "text": [
          0
         ],
         "type": "scatter",
         "x": [
          0
         ],
         "xaxis": "x",
         "y": [
          0
         ],
         "yaxis": "y"
        },
        {
         "hovertemplate": "Category=Fusion<br>Total Number Assertions=%{x}<br>MOA Total Sum Impact Score=%{y}<br>Total Number Features=%{text}<extra></extra>",
         "legendgroup": "Fusion",
         "marker": {
          "color": "#00cc96",
          "size": [
           0
          ],
          "sizemode": "area",
          "sizeref": 0.105625,
          "symbol": "circle"
         },
         "mode": "markers+text",
         "name": "Fusion",
         "orientation": "v",
         "showlegend": true,
         "text": [
          0
         ],
         "type": "scatter",
         "x": [
          0
         ],
         "xaxis": "x",
         "y": [
          0
         ],
         "yaxis": "y"
        },
        {
         "hovertemplate": "Category=Protein Consequence<br>Total Number Assertions=%{x}<br>MOA Total Sum Impact Score=%{y}<br>Total Number Features=%{text}<extra></extra>",
         "legendgroup": "Protein Consequence",
         "marker": {
          "color": "#ab63fa",
          "size": [
           169
          ],
          "sizemode": "area",
          "sizeref": 0.105625,
          "symbol": "circle"
         },
         "mode": "markers+text",
         "name": "Protein Consequence",
         "orientation": "v",
         "showlegend": true,
         "text": [
          169
         ],
         "type": "scatter",
         "x": [
          419
         ],
         "xaxis": "x",
         "y": [
          1064
         ],
         "yaxis": "y"
        },
        {
         "hovertemplate": "Category=Gene Function<br>Total Number Assertions=%{x}<br>MOA Total Sum Impact Score=%{y}<br>Total Number Features=%{text}<extra></extra>",
         "legendgroup": "Gene Function",
         "marker": {
          "color": "#FFA15A",
          "size": [
           0
          ],
          "sizemode": "area",
          "sizeref": 0.105625,
          "symbol": "circle"
         },
         "mode": "markers+text",
         "name": "Gene Function",
         "orientation": "v",
         "showlegend": true,
         "text": [
          0
         ],
         "type": "scatter",
         "x": [
          0
         ],
         "xaxis": "x",
         "y": [
          0
         ],
         "yaxis": "y"
        },
        {
         "hovertemplate": "Category=Rearrangements<br>Total Number Assertions=%{x}<br>MOA Total Sum Impact Score=%{y}<br>Total Number Features=%{text}<extra></extra>",
         "legendgroup": "Rearrangements",
         "marker": {
          "color": "#19d3f3",
          "size": [
           38
          ],
          "sizemode": "area",
          "sizeref": 0.105625,
          "symbol": "circle"
         },
         "mode": "markers+text",
         "name": "Rearrangements",
         "orientation": "v",
         "showlegend": true,
         "text": [
          38
         ],
         "type": "scatter",
         "x": [
          81
         ],
         "xaxis": "x",
         "y": [
          292
         ],
         "yaxis": "y"
        },
        {
         "hovertemplate": "Category=Copy Number<br>Total Number Assertions=%{x}<br>MOA Total Sum Impact Score=%{y}<br>Total Number Features=%{text}<extra></extra>",
         "legendgroup": "Copy Number",
         "marker": {
          "color": "#FF6692",
          "size": [
           17
          ],
          "sizemode": "area",
          "sizeref": 0.105625,
          "symbol": "circle"
         },
         "mode": "markers+text",
         "name": "Copy Number",
         "orientation": "v",
         "showlegend": true,
         "text": [
          17
         ],
         "type": "scatter",
         "x": [
          29
         ],
         "xaxis": "x",
         "y": [
          47
         ],
         "yaxis": "y"
        },
        {
         "hovertemplate": "Category=Other<br>Total Number Assertions=%{x}<br>MOA Total Sum Impact Score=%{y}<br>Total Number Features=%{text}<extra></extra>",
         "legendgroup": "Other",
         "marker": {
          "color": "#B6E880",
          "size": [
           9
          ],
          "sizemode": "area",
          "sizeref": 0.105625,
          "symbol": "circle"
         },
         "mode": "markers+text",
         "name": "Other",
         "orientation": "v",
         "showlegend": true,
         "text": [
          9
         ],
         "type": "scatter",
         "x": [
          23
         ],
         "xaxis": "x",
         "y": [
          35
         ],
         "yaxis": "y"
        },
        {
         "hovertemplate": "Category=Genotypes Easy<br>Total Number Assertions=%{x}<br>MOA Total Sum Impact Score=%{y}<br>Total Number Features=%{text}<extra></extra>",
         "legendgroup": "Genotypes Easy",
         "marker": {
          "color": "#FF97FF",
          "size": [
           0
          ],
          "sizemode": "area",
          "sizeref": 0.105625,
          "symbol": "circle"
         },
         "mode": "markers+text",
         "name": "Genotypes Easy",
         "orientation": "v",
         "showlegend": true,
         "text": [
          0
         ],
         "type": "scatter",
         "x": [
          0
         ],
         "xaxis": "x",
         "y": [
          0
         ],
         "yaxis": "y"
        },
        {
         "hovertemplate": "Category=Genotypes Compound<br>Total Number Assertions=%{x}<br>MOA Total Sum Impact Score=%{y}<br>Total Number Features=%{text}<extra></extra>",
         "legendgroup": "Genotypes Compound",
         "marker": {
          "color": "#FECB52",
          "size": [
           0
          ],
          "sizemode": "area",
          "sizeref": 0.105625,
          "symbol": "circle"
         },
         "mode": "markers+text",
         "name": "Genotypes Compound",
         "orientation": "v",
         "showlegend": true,
         "text": [
          0
         ],
         "type": "scatter",
         "x": [
          0
         ],
         "xaxis": "x",
         "y": [
          0
         ],
         "yaxis": "y"
        },
        {
         "hovertemplate": "Category=Region Defined Variant<br>Total Number Assertions=%{x}<br>MOA Total Sum Impact Score=%{y}<br>Total Number Features=%{text}<extra></extra>",
         "legendgroup": "Region Defined Variant",
         "marker": {
          "color": "#636efa",
          "size": [
           0
          ],
          "sizemode": "area",
          "sizeref": 0.105625,
          "symbol": "circle"
         },
         "mode": "markers+text",
         "name": "Region Defined Variant",
         "orientation": "v",
         "showlegend": true,
         "text": [
          0
         ],
         "type": "scatter",
         "x": [
          0
         ],
         "xaxis": "x",
         "y": [
          0
         ],
         "yaxis": "y"
        },
        {
         "hovertemplate": "Category=Transcript Variant<br>Total Number Assertions=%{x}<br>MOA Total Sum Impact Score=%{y}<br>Total Number Features=%{text}<extra></extra>",
         "legendgroup": "Transcript Variant",
         "marker": {
          "color": "#EF553B",
          "size": [
           0
          ],
          "sizemode": "area",
          "sizeref": 0.105625,
          "symbol": "circle"
         },
         "mode": "markers+text",
         "name": "Transcript Variant",
         "orientation": "v",
         "showlegend": true,
         "text": [
          0
         ],
         "type": "scatter",
         "x": [
          0
         ],
         "xaxis": "x",
         "y": [
          0
         ],
         "yaxis": "y"
        }
       ],
       "layout": {
        "legend": {
         "itemsizing": "constant",
         "title": {
          "text": "Category"
         },
         "tracegroupgap": 0
        },
        "margin": {
         "t": 60
        },
        "template": {
         "data": {
          "bar": [
           {
            "error_x": {
             "color": "#2a3f5f"
            },
            "error_y": {
             "color": "#2a3f5f"
            },
            "marker": {
             "line": {
              "color": "#E5ECF6",
              "width": 0.5
             },
             "pattern": {
              "fillmode": "overlay",
              "size": 10,
              "solidity": 0.2
             }
            },
            "type": "bar"
           }
          ],
          "barpolar": [
           {
            "marker": {
             "line": {
              "color": "#E5ECF6",
              "width": 0.5
             },
             "pattern": {
              "fillmode": "overlay",
              "size": 10,
              "solidity": 0.2
             }
            },
            "type": "barpolar"
           }
          ],
          "carpet": [
           {
            "aaxis": {
             "endlinecolor": "#2a3f5f",
             "gridcolor": "white",
             "linecolor": "white",
             "minorgridcolor": "white",
             "startlinecolor": "#2a3f5f"
            },
            "baxis": {
             "endlinecolor": "#2a3f5f",
             "gridcolor": "white",
             "linecolor": "white",
             "minorgridcolor": "white",
             "startlinecolor": "#2a3f5f"
            },
            "type": "carpet"
           }
          ],
          "choropleth": [
           {
            "colorbar": {
             "outlinewidth": 0,
             "ticks": ""
            },
            "type": "choropleth"
           }
          ],
          "contour": [
           {
            "colorbar": {
             "outlinewidth": 0,
             "ticks": ""
            },
            "colorscale": [
             [
              0,
              "#0d0887"
             ],
             [
              0.1111111111111111,
              "#46039f"
             ],
             [
              0.2222222222222222,
              "#7201a8"
             ],
             [
              0.3333333333333333,
              "#9c179e"
             ],
             [
              0.4444444444444444,
              "#bd3786"
             ],
             [
              0.5555555555555556,
              "#d8576b"
             ],
             [
              0.6666666666666666,
              "#ed7953"
             ],
             [
              0.7777777777777778,
              "#fb9f3a"
             ],
             [
              0.8888888888888888,
              "#fdca26"
             ],
             [
              1,
              "#f0f921"
             ]
            ],
            "type": "contour"
           }
          ],
          "contourcarpet": [
           {
            "colorbar": {
             "outlinewidth": 0,
             "ticks": ""
            },
            "type": "contourcarpet"
           }
          ],
          "heatmap": [
           {
            "colorbar": {
             "outlinewidth": 0,
             "ticks": ""
            },
            "colorscale": [
             [
              0,
              "#0d0887"
             ],
             [
              0.1111111111111111,
              "#46039f"
             ],
             [
              0.2222222222222222,
              "#7201a8"
             ],
             [
              0.3333333333333333,
              "#9c179e"
             ],
             [
              0.4444444444444444,
              "#bd3786"
             ],
             [
              0.5555555555555556,
              "#d8576b"
             ],
             [
              0.6666666666666666,
              "#ed7953"
             ],
             [
              0.7777777777777778,
              "#fb9f3a"
             ],
             [
              0.8888888888888888,
              "#fdca26"
             ],
             [
              1,
              "#f0f921"
             ]
            ],
            "type": "heatmap"
           }
          ],
          "heatmapgl": [
           {
            "colorbar": {
             "outlinewidth": 0,
             "ticks": ""
            },
            "colorscale": [
             [
              0,
              "#0d0887"
             ],
             [
              0.1111111111111111,
              "#46039f"
             ],
             [
              0.2222222222222222,
              "#7201a8"
             ],
             [
              0.3333333333333333,
              "#9c179e"
             ],
             [
              0.4444444444444444,
              "#bd3786"
             ],
             [
              0.5555555555555556,
              "#d8576b"
             ],
             [
              0.6666666666666666,
              "#ed7953"
             ],
             [
              0.7777777777777778,
              "#fb9f3a"
             ],
             [
              0.8888888888888888,
              "#fdca26"
             ],
             [
              1,
              "#f0f921"
             ]
            ],
            "type": "heatmapgl"
           }
          ],
          "histogram": [
           {
            "marker": {
             "pattern": {
              "fillmode": "overlay",
              "size": 10,
              "solidity": 0.2
             }
            },
            "type": "histogram"
           }
          ],
          "histogram2d": [
           {
            "colorbar": {
             "outlinewidth": 0,
             "ticks": ""
            },
            "colorscale": [
             [
              0,
              "#0d0887"
             ],
             [
              0.1111111111111111,
              "#46039f"
             ],
             [
              0.2222222222222222,
              "#7201a8"
             ],
             [
              0.3333333333333333,
              "#9c179e"
             ],
             [
              0.4444444444444444,
              "#bd3786"
             ],
             [
              0.5555555555555556,
              "#d8576b"
             ],
             [
              0.6666666666666666,
              "#ed7953"
             ],
             [
              0.7777777777777778,
              "#fb9f3a"
             ],
             [
              0.8888888888888888,
              "#fdca26"
             ],
             [
              1,
              "#f0f921"
             ]
            ],
            "type": "histogram2d"
           }
          ],
          "histogram2dcontour": [
           {
            "colorbar": {
             "outlinewidth": 0,
             "ticks": ""
            },
            "colorscale": [
             [
              0,
              "#0d0887"
             ],
             [
              0.1111111111111111,
              "#46039f"
             ],
             [
              0.2222222222222222,
              "#7201a8"
             ],
             [
              0.3333333333333333,
              "#9c179e"
             ],
             [
              0.4444444444444444,
              "#bd3786"
             ],
             [
              0.5555555555555556,
              "#d8576b"
             ],
             [
              0.6666666666666666,
              "#ed7953"
             ],
             [
              0.7777777777777778,
              "#fb9f3a"
             ],
             [
              0.8888888888888888,
              "#fdca26"
             ],
             [
              1,
              "#f0f921"
             ]
            ],
            "type": "histogram2dcontour"
           }
          ],
          "mesh3d": [
           {
            "colorbar": {
             "outlinewidth": 0,
             "ticks": ""
            },
            "type": "mesh3d"
           }
          ],
          "parcoords": [
           {
            "line": {
             "colorbar": {
              "outlinewidth": 0,
              "ticks": ""
             }
            },
            "type": "parcoords"
           }
          ],
          "pie": [
           {
            "automargin": true,
            "type": "pie"
           }
          ],
          "scatter": [
           {
            "fillpattern": {
             "fillmode": "overlay",
             "size": 10,
             "solidity": 0.2
            },
            "type": "scatter"
           }
          ],
          "scatter3d": [
           {
            "line": {
             "colorbar": {
              "outlinewidth": 0,
              "ticks": ""
             }
            },
            "marker": {
             "colorbar": {
              "outlinewidth": 0,
              "ticks": ""
             }
            },
            "type": "scatter3d"
           }
          ],
          "scattercarpet": [
           {
            "marker": {
             "colorbar": {
              "outlinewidth": 0,
              "ticks": ""
             }
            },
            "type": "scattercarpet"
           }
          ],
          "scattergeo": [
           {
            "marker": {
             "colorbar": {
              "outlinewidth": 0,
              "ticks": ""
             }
            },
            "type": "scattergeo"
           }
          ],
          "scattergl": [
           {
            "marker": {
             "colorbar": {
              "outlinewidth": 0,
              "ticks": ""
             }
            },
            "type": "scattergl"
           }
          ],
          "scattermapbox": [
           {
            "marker": {
             "colorbar": {
              "outlinewidth": 0,
              "ticks": ""
             }
            },
            "type": "scattermapbox"
           }
          ],
          "scatterpolar": [
           {
            "marker": {
             "colorbar": {
              "outlinewidth": 0,
              "ticks": ""
             }
            },
            "type": "scatterpolar"
           }
          ],
          "scatterpolargl": [
           {
            "marker": {
             "colorbar": {
              "outlinewidth": 0,
              "ticks": ""
             }
            },
            "type": "scatterpolargl"
           }
          ],
          "scatterternary": [
           {
            "marker": {
             "colorbar": {
              "outlinewidth": 0,
              "ticks": ""
             }
            },
            "type": "scatterternary"
           }
          ],
          "surface": [
           {
            "colorbar": {
             "outlinewidth": 0,
             "ticks": ""
            },
            "colorscale": [
             [
              0,
              "#0d0887"
             ],
             [
              0.1111111111111111,
              "#46039f"
             ],
             [
              0.2222222222222222,
              "#7201a8"
             ],
             [
              0.3333333333333333,
              "#9c179e"
             ],
             [
              0.4444444444444444,
              "#bd3786"
             ],
             [
              0.5555555555555556,
              "#d8576b"
             ],
             [
              0.6666666666666666,
              "#ed7953"
             ],
             [
              0.7777777777777778,
              "#fb9f3a"
             ],
             [
              0.8888888888888888,
              "#fdca26"
             ],
             [
              1,
              "#f0f921"
             ]
            ],
            "type": "surface"
           }
          ],
          "table": [
           {
            "cells": {
             "fill": {
              "color": "#EBF0F8"
             },
             "line": {
              "color": "white"
             }
            },
            "header": {
             "fill": {
              "color": "#C8D4E3"
             },
             "line": {
              "color": "white"
             }
            },
            "type": "table"
           }
          ]
         },
         "layout": {
          "annotationdefaults": {
           "arrowcolor": "#2a3f5f",
           "arrowhead": 0,
           "arrowwidth": 1
          },
          "autotypenumbers": "strict",
          "coloraxis": {
           "colorbar": {
            "outlinewidth": 0,
            "ticks": ""
           }
          },
          "colorscale": {
           "diverging": [
            [
             0,
             "#8e0152"
            ],
            [
             0.1,
             "#c51b7d"
            ],
            [
             0.2,
             "#de77ae"
            ],
            [
             0.3,
             "#f1b6da"
            ],
            [
             0.4,
             "#fde0ef"
            ],
            [
             0.5,
             "#f7f7f7"
            ],
            [
             0.6,
             "#e6f5d0"
            ],
            [
             0.7,
             "#b8e186"
            ],
            [
             0.8,
             "#7fbc41"
            ],
            [
             0.9,
             "#4d9221"
            ],
            [
             1,
             "#276419"
            ]
           ],
           "sequential": [
            [
             0,
             "#0d0887"
            ],
            [
             0.1111111111111111,
             "#46039f"
            ],
            [
             0.2222222222222222,
             "#7201a8"
            ],
            [
             0.3333333333333333,
             "#9c179e"
            ],
            [
             0.4444444444444444,
             "#bd3786"
            ],
            [
             0.5555555555555556,
             "#d8576b"
            ],
            [
             0.6666666666666666,
             "#ed7953"
            ],
            [
             0.7777777777777778,
             "#fb9f3a"
            ],
            [
             0.8888888888888888,
             "#fdca26"
            ],
            [
             1,
             "#f0f921"
            ]
           ],
           "sequentialminus": [
            [
             0,
             "#0d0887"
            ],
            [
             0.1111111111111111,
             "#46039f"
            ],
            [
             0.2222222222222222,
             "#7201a8"
            ],
            [
             0.3333333333333333,
             "#9c179e"
            ],
            [
             0.4444444444444444,
             "#bd3786"
            ],
            [
             0.5555555555555556,
             "#d8576b"
            ],
            [
             0.6666666666666666,
             "#ed7953"
            ],
            [
             0.7777777777777778,
             "#fb9f3a"
            ],
            [
             0.8888888888888888,
             "#fdca26"
            ],
            [
             1,
             "#f0f921"
            ]
           ]
          },
          "colorway": [
           "#636efa",
           "#EF553B",
           "#00cc96",
           "#ab63fa",
           "#FFA15A",
           "#19d3f3",
           "#FF6692",
           "#B6E880",
           "#FF97FF",
           "#FECB52"
          ],
          "font": {
           "color": "#2a3f5f"
          },
          "geo": {
           "bgcolor": "white",
           "lakecolor": "white",
           "landcolor": "#E5ECF6",
           "showlakes": true,
           "showland": true,
           "subunitcolor": "white"
          },
          "hoverlabel": {
           "align": "left"
          },
          "hovermode": "closest",
          "mapbox": {
           "style": "light"
          },
          "paper_bgcolor": "white",
          "plot_bgcolor": "#E5ECF6",
          "polar": {
           "angularaxis": {
            "gridcolor": "white",
            "linecolor": "white",
            "ticks": ""
           },
           "bgcolor": "#E5ECF6",
           "radialaxis": {
            "gridcolor": "white",
            "linecolor": "white",
            "ticks": ""
           }
          },
          "scene": {
           "xaxis": {
            "backgroundcolor": "#E5ECF6",
            "gridcolor": "white",
            "gridwidth": 2,
            "linecolor": "white",
            "showbackground": true,
            "ticks": "",
            "zerolinecolor": "white"
           },
           "yaxis": {
            "backgroundcolor": "#E5ECF6",
            "gridcolor": "white",
            "gridwidth": 2,
            "linecolor": "white",
            "showbackground": true,
            "ticks": "",
            "zerolinecolor": "white"
           },
           "zaxis": {
            "backgroundcolor": "#E5ECF6",
            "gridcolor": "white",
            "gridwidth": 2,
            "linecolor": "white",
            "showbackground": true,
            "ticks": "",
            "zerolinecolor": "white"
           }
          },
          "shapedefaults": {
           "line": {
            "color": "#2a3f5f"
           }
          },
          "ternary": {
           "aaxis": {
            "gridcolor": "white",
            "linecolor": "white",
            "ticks": ""
           },
           "baxis": {
            "gridcolor": "white",
            "linecolor": "white",
            "ticks": ""
           },
           "bgcolor": "#E5ECF6",
           "caxis": {
            "gridcolor": "white",
            "linecolor": "white",
            "ticks": ""
           }
          },
          "title": {
           "x": 0.05
          },
          "xaxis": {
           "automargin": true,
           "gridcolor": "white",
           "linecolor": "white",
           "ticks": "",
           "title": {
            "standoff": 15
           },
           "zerolinecolor": "white",
           "zerolinewidth": 2
          },
          "yaxis": {
           "automargin": true,
           "gridcolor": "white",
           "linecolor": "white",
           "ticks": "",
           "title": {
            "standoff": 15
           },
           "zerolinecolor": "white",
           "zerolinewidth": 2
          }
         }
        },
        "xaxis": {
         "anchor": "y",
         "domain": [
          0,
          1
         ],
         "title": {
          "text": "Total Number Assertions"
         }
        },
        "yaxis": {
         "anchor": "x",
         "domain": [
          0,
          1
         ],
         "title": {
          "text": "MOA Total Sum Impact Score"
         }
        }
       }
      }
     },
     "metadata": {},
     "output_type": "display_data"
    }
   ],
   "source": [
    "fig2 = px.scatter(\n",
    "    data_frame=not_supported_feature_impact_df,\n",
    "    x=\"Total Number Assertions\",\n",
    "    y=\"MOA Total Sum Impact Score\",\n",
    "    size=\"Total Number Features\",\n",
    "    size_max=40,\n",
    "    text=\"Total Number Features\",\n",
    "    color=\"Category\"\n",
    ")\n",
    "fig2.show()"
   ]
  },
  {
   "cell_type": "code",
   "execution_count": 83,
   "metadata": {},
   "outputs": [],
   "source": [
    "fig2.write_html(\"moa_ns_categories_impact_scatterplot.html\")"
   ]
  },
  {
   "cell_type": "code",
   "execution_count": 84,
   "metadata": {},
   "outputs": [],
   "source": [
    "def draw_pie(dist, \n",
    "             xpos, \n",
    "             ypos, \n",
    "             size, \n",
    "             ax=None):\n",
    "    if ax is None:\n",
    "        fig, ax = plt.subplots(figsize=(20,8))\n",
    "\n",
    "    # for incremental pie slices\n",
    "    cumsum = np.cumsum(dist)\n",
    "    cumsum = cumsum/ cumsum[-1]\n",
    "    pie = [0] + cumsum.tolist()\n",
    "\n",
    "    for r1, r2 in zip(pie[:-1], pie[1:]):\n",
    "        angles = np.linspace(2 * np.pi * r1, 2 * np.pi * r2)\n",
    "        x = [0] + np.cos(angles).tolist()\n",
    "        y = [0] + np.sin(angles).tolist()\n",
    "\n",
    "        xy = np.column_stack([x, y])\n",
    "\n",
    "        ax.scatter([xpos], [ypos], marker=xy, s=size)\n",
    "\n",
    "    return ax"
   ]
  },
  {
   "cell_type": "code",
   "execution_count": 85,
   "metadata": {},
   "outputs": [
    {
     "data": {
      "image/png": "[encoded data removed]",
      "text/plain": [
       "<Figure size 2000x800 with 1 Axes>"
      ]
     },
     "metadata": {},
     "output_type": "display_data"
    }
   ],
   "source": [
    "import matplotlib.pyplot as plt\n",
    "import numpy as np\n",
    "\n",
    "fig, ax = plt.subplots(figsize=(20,8))\n",
    "draw_pie([2,2], 2, 1, 2000, ax=ax)\n",
    "draw_pie([1,1,1,1,4], 1.5,1.5, 3000, ax=ax)\n",
    "plt.xlim(0,10)\n",
    "plt.ylim(0, 5)\n",
    "plt.show()"
   ]
  },
  {
   "cell_type": "code",
   "execution_count": 86,
   "metadata": {},
   "outputs": [
    {
     "data": {
      "image/png": "[encoded data removed]",
      "text/plain": [
       "<Figure size 4000x2000 with 1 Axes>"
      ]
     },
     "metadata": {},
     "output_type": "display_data"
    }
   ],
   "source": [
    "fig, ax = plt.subplots(figsize=(40,20))\n",
    "for (x,y), d in not_supported_feature_impact_df.groupby(['Total Number Assertions','MOA Total Sum Impact Score']):\n",
    "    dist = d['Category'].value_counts()\n",
    "    draw_pie(dist, x, y, 10000*len(d), ax=ax)\n",
    "plt.show()"
   ]
  },
  {
   "cell_type": "code",
   "execution_count": 87,
   "metadata": {},
   "outputs": [],
   "source": [
    "not_supported_variant_impact_df = pd.read_csv(\"../not_supported_variant_impact_df.csv\", sep=\",\")"
   ]
  },
  {
   "cell_type": "code",
   "execution_count": 88,
   "metadata": {},
   "outputs": [
    {
     "data": {
      "text/html": [
       "<div>\n",
       "<style scoped>\n",
       "    .dataframe tbody tr th:only-of-type {\n",
       "        vertical-align: middle;\n",
       "    }\n",
       "\n",
       "    .dataframe tbody tr th {\n",
       "        vertical-align: top;\n",
       "    }\n",
       "\n",
       "    .dataframe thead th {\n",
       "        text-align: right;\n",
       "    }\n",
       "</style>\n",
       "<table border=\"1\" class=\"dataframe\">\n",
       "  <thead>\n",
       "    <tr style=\"text-align: right;\">\n",
       "      <th></th>\n",
       "      <th>Category</th>\n",
       "      <th>MOA Total Sum Impact Score</th>\n",
       "      <th>Average Impact Score per Feature</th>\n",
       "      <th>Average Impact Score per Assertion</th>\n",
       "      <th>Total Number Assertions</th>\n",
       "      <th>Total Number Features</th>\n",
       "      <th>CIVIC Total Sum Impact Score</th>\n",
       "      <th>Average Impact Score per Variant</th>\n",
       "      <th>Average Impact Score per Evidence Item</th>\n",
       "      <th>Total Number Evidence Items</th>\n",
       "      <th>% Accepted Evidence Items</th>\n",
       "      <th>Total Number Variants</th>\n",
       "    </tr>\n",
       "  </thead>\n",
       "  <tbody>\n",
       "    <tr>\n",
       "      <th>0</th>\n",
       "      <td>Expression</td>\n",
       "      <td>11</td>\n",
       "      <td>0</td>\n",
       "      <td>0</td>\n",
       "      <td>12</td>\n",
       "      <td>11</td>\n",
       "      <td>3618.00</td>\n",
       "      <td>9.397403</td>\n",
       "      <td>7.681529</td>\n",
       "      <td>617</td>\n",
       "      <td>55.43%</td>\n",
       "      <td>291</td>\n",
       "    </tr>\n",
       "    <tr>\n",
       "      <th>1</th>\n",
       "      <td>Epigenetic Modification</td>\n",
       "      <td>0</td>\n",
       "      <td>0</td>\n",
       "      <td>0</td>\n",
       "      <td>0</td>\n",
       "      <td>0</td>\n",
       "      <td>285.50</td>\n",
       "      <td>0.741558</td>\n",
       "      <td>0.606157</td>\n",
       "      <td>24</td>\n",
       "      <td>91.67%</td>\n",
       "      <td>15</td>\n",
       "    </tr>\n",
       "    <tr>\n",
       "      <th>2</th>\n",
       "      <td>Fusion</td>\n",
       "      <td>0</td>\n",
       "      <td>0</td>\n",
       "      <td>0</td>\n",
       "      <td>0</td>\n",
       "      <td>0</td>\n",
       "      <td>6600.75</td>\n",
       "      <td>17.144805</td>\n",
       "      <td>14.014331</td>\n",
       "      <td>1241</td>\n",
       "      <td>59.39%</td>\n",
       "      <td>308</td>\n",
       "    </tr>\n",
       "    <tr>\n",
       "      <th>3</th>\n",
       "      <td>Protein Consequence</td>\n",
       "      <td>1064</td>\n",
       "      <td>0</td>\n",
       "      <td>0</td>\n",
       "      <td>419</td>\n",
       "      <td>169</td>\n",
       "      <td>2683.75</td>\n",
       "      <td>6.970779</td>\n",
       "      <td>5.697983</td>\n",
       "      <td>301</td>\n",
       "      <td>63.46%</td>\n",
       "      <td>128</td>\n",
       "    </tr>\n",
       "    <tr>\n",
       "      <th>4</th>\n",
       "      <td>Gene Function</td>\n",
       "      <td>0</td>\n",
       "      <td>0</td>\n",
       "      <td>0</td>\n",
       "      <td>0</td>\n",
       "      <td>0</td>\n",
       "      <td>1805.50</td>\n",
       "      <td>4.689610</td>\n",
       "      <td>3.833333</td>\n",
       "      <td>348</td>\n",
       "      <td>44.25%</td>\n",
       "      <td>90</td>\n",
       "    </tr>\n",
       "    <tr>\n",
       "      <th>5</th>\n",
       "      <td>Rearrangements</td>\n",
       "      <td>292</td>\n",
       "      <td>0</td>\n",
       "      <td>0</td>\n",
       "      <td>81</td>\n",
       "      <td>38</td>\n",
       "      <td>653.00</td>\n",
       "      <td>1.696104</td>\n",
       "      <td>1.386412</td>\n",
       "      <td>136</td>\n",
       "      <td>38.97%</td>\n",
       "      <td>52</td>\n",
       "    </tr>\n",
       "    <tr>\n",
       "      <th>6</th>\n",
       "      <td>Copy Number</td>\n",
       "      <td>47</td>\n",
       "      <td>0</td>\n",
       "      <td>0</td>\n",
       "      <td>29</td>\n",
       "      <td>17</td>\n",
       "      <td>225.00</td>\n",
       "      <td>0.584416</td>\n",
       "      <td>0.477707</td>\n",
       "      <td>64</td>\n",
       "      <td>42.19%</td>\n",
       "      <td>34</td>\n",
       "    </tr>\n",
       "    <tr>\n",
       "      <th>7</th>\n",
       "      <td>Other</td>\n",
       "      <td>35</td>\n",
       "      <td>0</td>\n",
       "      <td>0</td>\n",
       "      <td>23</td>\n",
       "      <td>9</td>\n",
       "      <td>673.50</td>\n",
       "      <td>1.749351</td>\n",
       "      <td>1.429936</td>\n",
       "      <td>162</td>\n",
       "      <td>37.04%</td>\n",
       "      <td>93</td>\n",
       "    </tr>\n",
       "    <tr>\n",
       "      <th>8</th>\n",
       "      <td>Genotypes Easy</td>\n",
       "      <td>0</td>\n",
       "      <td>0</td>\n",
       "      <td>0</td>\n",
       "      <td>0</td>\n",
       "      <td>0</td>\n",
       "      <td>195.00</td>\n",
       "      <td>0.506494</td>\n",
       "      <td>0.414013</td>\n",
       "      <td>23</td>\n",
       "      <td>56.52%</td>\n",
       "      <td>11</td>\n",
       "    </tr>\n",
       "    <tr>\n",
       "      <th>9</th>\n",
       "      <td>Genotypes Compound</td>\n",
       "      <td>0</td>\n",
       "      <td>0</td>\n",
       "      <td>0</td>\n",
       "      <td>0</td>\n",
       "      <td>0</td>\n",
       "      <td>117.50</td>\n",
       "      <td>0.305195</td>\n",
       "      <td>0.249469</td>\n",
       "      <td>7</td>\n",
       "      <td>57.14%</td>\n",
       "      <td>6</td>\n",
       "    </tr>\n",
       "    <tr>\n",
       "      <th>10</th>\n",
       "      <td>Region Defined Variant</td>\n",
       "      <td>0</td>\n",
       "      <td>0</td>\n",
       "      <td>0</td>\n",
       "      <td>0</td>\n",
       "      <td>0</td>\n",
       "      <td>8353.50</td>\n",
       "      <td>21.697403</td>\n",
       "      <td>17.735669</td>\n",
       "      <td>971</td>\n",
       "      <td>57.47%</td>\n",
       "      <td>209</td>\n",
       "    </tr>\n",
       "    <tr>\n",
       "      <th>11</th>\n",
       "      <td>Transcript Variant</td>\n",
       "      <td>0</td>\n",
       "      <td>0</td>\n",
       "      <td>0</td>\n",
       "      <td>0</td>\n",
       "      <td>0</td>\n",
       "      <td>356.50</td>\n",
       "      <td>0.925974</td>\n",
       "      <td>0.756900</td>\n",
       "      <td>471</td>\n",
       "      <td>11.46%</td>\n",
       "      <td>385</td>\n",
       "    </tr>\n",
       "  </tbody>\n",
       "</table>\n",
       "</div>"
      ],
      "text/plain": [
       "                   Category  MOA Total Sum Impact Score  \\\n",
       "0                Expression                          11   \n",
       "1   Epigenetic Modification                           0   \n",
       "2                    Fusion                           0   \n",
       "3       Protein Consequence                        1064   \n",
       "4             Gene Function                           0   \n",
       "5            Rearrangements                         292   \n",
       "6               Copy Number                          47   \n",
       "7                     Other                          35   \n",
       "8            Genotypes Easy                           0   \n",
       "9        Genotypes Compound                           0   \n",
       "10   Region Defined Variant                           0   \n",
       "11       Transcript Variant                           0   \n",
       "\n",
       "    Average Impact Score per Feature  Average Impact Score per Assertion  \\\n",
       "0                                  0                                   0   \n",
       "1                                  0                                   0   \n",
       "2                                  0                                   0   \n",
       "3                                  0                                   0   \n",
       "4                                  0                                   0   \n",
       "5                                  0                                   0   \n",
       "6                                  0                                   0   \n",
       "7                                  0                                   0   \n",
       "8                                  0                                   0   \n",
       "9                                  0                                   0   \n",
       "10                                 0                                   0   \n",
       "11                                 0                                   0   \n",
       "\n",
       "    Total Number Assertions  Total Number Features  \\\n",
       "0                        12                     11   \n",
       "1                         0                      0   \n",
       "2                         0                      0   \n",
       "3                       419                    169   \n",
       "4                         0                      0   \n",
       "5                        81                     38   \n",
       "6                        29                     17   \n",
       "7                        23                      9   \n",
       "8                         0                      0   \n",
       "9                         0                      0   \n",
       "10                        0                      0   \n",
       "11                        0                      0   \n",
       "\n",
       "    CIVIC Total Sum Impact Score  Average Impact Score per Variant  \\\n",
       "0                        3618.00                          9.397403   \n",
       "1                         285.50                          0.741558   \n",
       "2                        6600.75                         17.144805   \n",
       "3                        2683.75                          6.970779   \n",
       "4                        1805.50                          4.689610   \n",
       "5                         653.00                          1.696104   \n",
       "6                         225.00                          0.584416   \n",
       "7                         673.50                          1.749351   \n",
       "8                         195.00                          0.506494   \n",
       "9                         117.50                          0.305195   \n",
       "10                       8353.50                         21.697403   \n",
       "11                        356.50                          0.925974   \n",
       "\n",
       "    Average Impact Score per Evidence Item  Total Number Evidence Items  \\\n",
       "0                                 7.681529                          617   \n",
       "1                                 0.606157                           24   \n",
       "2                                14.014331                         1241   \n",
       "3                                 5.697983                          301   \n",
       "4                                 3.833333                          348   \n",
       "5                                 1.386412                          136   \n",
       "6                                 0.477707                           64   \n",
       "7                                 1.429936                          162   \n",
       "8                                 0.414013                           23   \n",
       "9                                 0.249469                            7   \n",
       "10                               17.735669                          971   \n",
       "11                                0.756900                          471   \n",
       "\n",
       "   % Accepted Evidence Items  Total Number Variants  \n",
       "0                     55.43%                    291  \n",
       "1                     91.67%                     15  \n",
       "2                     59.39%                    308  \n",
       "3                     63.46%                    128  \n",
       "4                     44.25%                     90  \n",
       "5                     38.97%                     52  \n",
       "6                     42.19%                     34  \n",
       "7                     37.04%                     93  \n",
       "8                     56.52%                     11  \n",
       "9                     57.14%                      6  \n",
       "10                    57.47%                    209  \n",
       "11                    11.46%                    385  "
      ]
     },
     "execution_count": 88,
     "metadata": {},
     "output_type": "execute_result"
    }
   ],
   "source": [
    "merged_not_supported_impact_df = pd.merge(not_supported_feature_impact_df, not_supported_variant_impact_df, on='Category')\n",
    "merged_not_supported_impact_df"
   ]
  },
  {
   "cell_type": "code",
   "execution_count": 89,
   "metadata": {},
   "outputs": [
    {
     "data": {
      "text/html": [
       "<div>\n",
       "<style scoped>\n",
       "    .dataframe tbody tr th:only-of-type {\n",
       "        vertical-align: middle;\n",
       "    }\n",
       "\n",
       "    .dataframe tbody tr th {\n",
       "        vertical-align: top;\n",
       "    }\n",
       "\n",
       "    .dataframe thead th {\n",
       "        text-align: right;\n",
       "    }\n",
       "</style>\n",
       "<table border=\"1\" class=\"dataframe\">\n",
       "  <thead>\n",
       "    <tr style=\"text-align: right;\">\n",
       "      <th></th>\n",
       "      <th>Category</th>\n",
       "      <th>MOA Total Sum Impact Score</th>\n",
       "      <th>Average Impact Score per Feature</th>\n",
       "      <th>Average Impact Score per Assertion</th>\n",
       "      <th>Total Number Assertions</th>\n",
       "      <th>Total Number Features</th>\n",
       "      <th>CIVIC Total Sum Impact Score</th>\n",
       "      <th>Average Impact Score per Variant</th>\n",
       "      <th>Average Impact Score per Evidence Item</th>\n",
       "      <th>Total Number Evidence Items</th>\n",
       "      <th>% Accepted Evidence Items</th>\n",
       "      <th>Total Number Variants</th>\n",
       "      <th>Sum Evidence Items</th>\n",
       "    </tr>\n",
       "  </thead>\n",
       "  <tbody>\n",
       "    <tr>\n",
       "      <th>0</th>\n",
       "      <td>Expression</td>\n",
       "      <td>11</td>\n",
       "      <td>0</td>\n",
       "      <td>0</td>\n",
       "      <td>12</td>\n",
       "      <td>11</td>\n",
       "      <td>3618.00</td>\n",
       "      <td>9.397403</td>\n",
       "      <td>7.681529</td>\n",
       "      <td>617</td>\n",
       "      <td>55.43%</td>\n",
       "      <td>291</td>\n",
       "      <td>629</td>\n",
       "    </tr>\n",
       "    <tr>\n",
       "      <th>1</th>\n",
       "      <td>Epigenetic Modification</td>\n",
       "      <td>0</td>\n",
       "      <td>0</td>\n",
       "      <td>0</td>\n",
       "      <td>0</td>\n",
       "      <td>0</td>\n",
       "      <td>285.50</td>\n",
       "      <td>0.741558</td>\n",
       "      <td>0.606157</td>\n",
       "      <td>24</td>\n",
       "      <td>91.67%</td>\n",
       "      <td>15</td>\n",
       "      <td>24</td>\n",
       "    </tr>\n",
       "    <tr>\n",
       "      <th>2</th>\n",
       "      <td>Fusion</td>\n",
       "      <td>0</td>\n",
       "      <td>0</td>\n",
       "      <td>0</td>\n",
       "      <td>0</td>\n",
       "      <td>0</td>\n",
       "      <td>6600.75</td>\n",
       "      <td>17.144805</td>\n",
       "      <td>14.014331</td>\n",
       "      <td>1241</td>\n",
       "      <td>59.39%</td>\n",
       "      <td>308</td>\n",
       "      <td>1241</td>\n",
       "    </tr>\n",
       "    <tr>\n",
       "      <th>3</th>\n",
       "      <td>Protein Consequence</td>\n",
       "      <td>1064</td>\n",
       "      <td>0</td>\n",
       "      <td>0</td>\n",
       "      <td>419</td>\n",
       "      <td>169</td>\n",
       "      <td>2683.75</td>\n",
       "      <td>6.970779</td>\n",
       "      <td>5.697983</td>\n",
       "      <td>301</td>\n",
       "      <td>63.46%</td>\n",
       "      <td>128</td>\n",
       "      <td>720</td>\n",
       "    </tr>\n",
       "    <tr>\n",
       "      <th>4</th>\n",
       "      <td>Gene Function</td>\n",
       "      <td>0</td>\n",
       "      <td>0</td>\n",
       "      <td>0</td>\n",
       "      <td>0</td>\n",
       "      <td>0</td>\n",
       "      <td>1805.50</td>\n",
       "      <td>4.689610</td>\n",
       "      <td>3.833333</td>\n",
       "      <td>348</td>\n",
       "      <td>44.25%</td>\n",
       "      <td>90</td>\n",
       "      <td>348</td>\n",
       "    </tr>\n",
       "    <tr>\n",
       "      <th>5</th>\n",
       "      <td>Rearrangements</td>\n",
       "      <td>292</td>\n",
       "      <td>0</td>\n",
       "      <td>0</td>\n",
       "      <td>81</td>\n",
       "      <td>38</td>\n",
       "      <td>653.00</td>\n",
       "      <td>1.696104</td>\n",
       "      <td>1.386412</td>\n",
       "      <td>136</td>\n",
       "      <td>38.97%</td>\n",
       "      <td>52</td>\n",
       "      <td>217</td>\n",
       "    </tr>\n",
       "    <tr>\n",
       "      <th>6</th>\n",
       "      <td>Copy Number</td>\n",
       "      <td>47</td>\n",
       "      <td>0</td>\n",
       "      <td>0</td>\n",
       "      <td>29</td>\n",
       "      <td>17</td>\n",
       "      <td>225.00</td>\n",
       "      <td>0.584416</td>\n",
       "      <td>0.477707</td>\n",
       "      <td>64</td>\n",
       "      <td>42.19%</td>\n",
       "      <td>34</td>\n",
       "      <td>93</td>\n",
       "    </tr>\n",
       "    <tr>\n",
       "      <th>7</th>\n",
       "      <td>Other</td>\n",
       "      <td>35</td>\n",
       "      <td>0</td>\n",
       "      <td>0</td>\n",
       "      <td>23</td>\n",
       "      <td>9</td>\n",
       "      <td>673.50</td>\n",
       "      <td>1.749351</td>\n",
       "      <td>1.429936</td>\n",
       "      <td>162</td>\n",
       "      <td>37.04%</td>\n",
       "      <td>93</td>\n",
       "      <td>185</td>\n",
       "    </tr>\n",
       "    <tr>\n",
       "      <th>8</th>\n",
       "      <td>Genotypes Easy</td>\n",
       "      <td>0</td>\n",
       "      <td>0</td>\n",
       "      <td>0</td>\n",
       "      <td>0</td>\n",
       "      <td>0</td>\n",
       "      <td>195.00</td>\n",
       "      <td>0.506494</td>\n",
       "      <td>0.414013</td>\n",
       "      <td>23</td>\n",
       "      <td>56.52%</td>\n",
       "      <td>11</td>\n",
       "      <td>23</td>\n",
       "    </tr>\n",
       "    <tr>\n",
       "      <th>9</th>\n",
       "      <td>Genotypes Compound</td>\n",
       "      <td>0</td>\n",
       "      <td>0</td>\n",
       "      <td>0</td>\n",
       "      <td>0</td>\n",
       "      <td>0</td>\n",
       "      <td>117.50</td>\n",
       "      <td>0.305195</td>\n",
       "      <td>0.249469</td>\n",
       "      <td>7</td>\n",
       "      <td>57.14%</td>\n",
       "      <td>6</td>\n",
       "      <td>7</td>\n",
       "    </tr>\n",
       "    <tr>\n",
       "      <th>10</th>\n",
       "      <td>Region Defined Variant</td>\n",
       "      <td>0</td>\n",
       "      <td>0</td>\n",
       "      <td>0</td>\n",
       "      <td>0</td>\n",
       "      <td>0</td>\n",
       "      <td>8353.50</td>\n",
       "      <td>21.697403</td>\n",
       "      <td>17.735669</td>\n",
       "      <td>971</td>\n",
       "      <td>57.47%</td>\n",
       "      <td>209</td>\n",
       "      <td>971</td>\n",
       "    </tr>\n",
       "    <tr>\n",
       "      <th>11</th>\n",
       "      <td>Transcript Variant</td>\n",
       "      <td>0</td>\n",
       "      <td>0</td>\n",
       "      <td>0</td>\n",
       "      <td>0</td>\n",
       "      <td>0</td>\n",
       "      <td>356.50</td>\n",
       "      <td>0.925974</td>\n",
       "      <td>0.756900</td>\n",
       "      <td>471</td>\n",
       "      <td>11.46%</td>\n",
       "      <td>385</td>\n",
       "      <td>471</td>\n",
       "    </tr>\n",
       "  </tbody>\n",
       "</table>\n",
       "</div>"
      ],
      "text/plain": [
       "                   Category  MOA Total Sum Impact Score  \\\n",
       "0                Expression                          11   \n",
       "1   Epigenetic Modification                           0   \n",
       "2                    Fusion                           0   \n",
       "3       Protein Consequence                        1064   \n",
       "4             Gene Function                           0   \n",
       "5            Rearrangements                         292   \n",
       "6               Copy Number                          47   \n",
       "7                     Other                          35   \n",
       "8            Genotypes Easy                           0   \n",
       "9        Genotypes Compound                           0   \n",
       "10   Region Defined Variant                           0   \n",
       "11       Transcript Variant                           0   \n",
       "\n",
       "    Average Impact Score per Feature  Average Impact Score per Assertion  \\\n",
       "0                                  0                                   0   \n",
       "1                                  0                                   0   \n",
       "2                                  0                                   0   \n",
       "3                                  0                                   0   \n",
       "4                                  0                                   0   \n",
       "5                                  0                                   0   \n",
       "6                                  0                                   0   \n",
       "7                                  0                                   0   \n",
       "8                                  0                                   0   \n",
       "9                                  0                                   0   \n",
       "10                                 0                                   0   \n",
       "11                                 0                                   0   \n",
       "\n",
       "    Total Number Assertions  Total Number Features  \\\n",
       "0                        12                     11   \n",
       "1                         0                      0   \n",
       "2                         0                      0   \n",
       "3                       419                    169   \n",
       "4                         0                      0   \n",
       "5                        81                     38   \n",
       "6                        29                     17   \n",
       "7                        23                      9   \n",
       "8                         0                      0   \n",
       "9                         0                      0   \n",
       "10                        0                      0   \n",
       "11                        0                      0   \n",
       "\n",
       "    CIVIC Total Sum Impact Score  Average Impact Score per Variant  \\\n",
       "0                        3618.00                          9.397403   \n",
       "1                         285.50                          0.741558   \n",
       "2                        6600.75                         17.144805   \n",
       "3                        2683.75                          6.970779   \n",
       "4                        1805.50                          4.689610   \n",
       "5                         653.00                          1.696104   \n",
       "6                         225.00                          0.584416   \n",
       "7                         673.50                          1.749351   \n",
       "8                         195.00                          0.506494   \n",
       "9                         117.50                          0.305195   \n",
       "10                       8353.50                         21.697403   \n",
       "11                        356.50                          0.925974   \n",
       "\n",
       "    Average Impact Score per Evidence Item  Total Number Evidence Items  \\\n",
       "0                                 7.681529                          617   \n",
       "1                                 0.606157                           24   \n",
       "2                                14.014331                         1241   \n",
       "3                                 5.697983                          301   \n",
       "4                                 3.833333                          348   \n",
       "5                                 1.386412                          136   \n",
       "6                                 0.477707                           64   \n",
       "7                                 1.429936                          162   \n",
       "8                                 0.414013                           23   \n",
       "9                                 0.249469                            7   \n",
       "10                               17.735669                          971   \n",
       "11                                0.756900                          471   \n",
       "\n",
       "   % Accepted Evidence Items  Total Number Variants  Sum Evidence Items  \n",
       "0                     55.43%                    291                 629  \n",
       "1                     91.67%                     15                  24  \n",
       "2                     59.39%                    308                1241  \n",
       "3                     63.46%                    128                 720  \n",
       "4                     44.25%                     90                 348  \n",
       "5                     38.97%                     52                 217  \n",
       "6                     42.19%                     34                  93  \n",
       "7                     37.04%                     93                 185  \n",
       "8                     56.52%                     11                  23  \n",
       "9                     57.14%                      6                   7  \n",
       "10                    57.47%                    209                 971  \n",
       "11                    11.46%                    385                 471  "
      ]
     },
     "execution_count": 89,
     "metadata": {},
     "output_type": "execute_result"
    }
   ],
   "source": [
    "merged_not_supported_impact_df['Sum Evidence Items'] = merged_not_supported_impact_df['Total Number Evidence Items']+merged_not_supported_impact_df['Total Number Assertions']\n",
    "merged_not_supported_impact_df"
   ]
  },
  {
   "cell_type": "code",
   "execution_count": 90,
   "metadata": {},
   "outputs": [
    {
     "data": {
      "text/html": [
       "<div>\n",
       "<style scoped>\n",
       "    .dataframe tbody tr th:only-of-type {\n",
       "        vertical-align: middle;\n",
       "    }\n",
       "\n",
       "    .dataframe tbody tr th {\n",
       "        vertical-align: top;\n",
       "    }\n",
       "\n",
       "    .dataframe thead th {\n",
       "        text-align: right;\n",
       "    }\n",
       "</style>\n",
       "<table border=\"1\" class=\"dataframe\">\n",
       "  <thead>\n",
       "    <tr style=\"text-align: right;\">\n",
       "      <th></th>\n",
       "      <th>Category</th>\n",
       "      <th>MOA Total Sum Impact Score</th>\n",
       "      <th>Average Impact Score per Feature</th>\n",
       "      <th>Average Impact Score per Assertion</th>\n",
       "      <th>Total Number Assertions</th>\n",
       "      <th>Total Number Features</th>\n",
       "      <th>CIVIC Total Sum Impact Score</th>\n",
       "      <th>Average Impact Score per Variant</th>\n",
       "      <th>Average Impact Score per Evidence Item</th>\n",
       "      <th>Total Number Evidence Items</th>\n",
       "      <th>% Accepted Evidence Items</th>\n",
       "      <th>Total Number Variants</th>\n",
       "      <th>Sum Evidence Items</th>\n",
       "      <th>Sum Variants</th>\n",
       "    </tr>\n",
       "  </thead>\n",
       "  <tbody>\n",
       "    <tr>\n",
       "      <th>0</th>\n",
       "      <td>Expression</td>\n",
       "      <td>11</td>\n",
       "      <td>0</td>\n",
       "      <td>0</td>\n",
       "      <td>12</td>\n",
       "      <td>11</td>\n",
       "      <td>3618.00</td>\n",
       "      <td>9.397403</td>\n",
       "      <td>7.681529</td>\n",
       "      <td>617</td>\n",
       "      <td>55.43%</td>\n",
       "      <td>291</td>\n",
       "      <td>629</td>\n",
       "      <td>302</td>\n",
       "    </tr>\n",
       "    <tr>\n",
       "      <th>1</th>\n",
       "      <td>Epigenetic Modification</td>\n",
       "      <td>0</td>\n",
       "      <td>0</td>\n",
       "      <td>0</td>\n",
       "      <td>0</td>\n",
       "      <td>0</td>\n",
       "      <td>285.50</td>\n",
       "      <td>0.741558</td>\n",
       "      <td>0.606157</td>\n",
       "      <td>24</td>\n",
       "      <td>91.67%</td>\n",
       "      <td>15</td>\n",
       "      <td>24</td>\n",
       "      <td>15</td>\n",
       "    </tr>\n",
       "    <tr>\n",
       "      <th>2</th>\n",
       "      <td>Fusion</td>\n",
       "      <td>0</td>\n",
       "      <td>0</td>\n",
       "      <td>0</td>\n",
       "      <td>0</td>\n",
       "      <td>0</td>\n",
       "      <td>6600.75</td>\n",
       "      <td>17.144805</td>\n",
       "      <td>14.014331</td>\n",
       "      <td>1241</td>\n",
       "      <td>59.39%</td>\n",
       "      <td>308</td>\n",
       "      <td>1241</td>\n",
       "      <td>308</td>\n",
       "    </tr>\n",
       "    <tr>\n",
       "      <th>3</th>\n",
       "      <td>Protein Consequence</td>\n",
       "      <td>1064</td>\n",
       "      <td>0</td>\n",
       "      <td>0</td>\n",
       "      <td>419</td>\n",
       "      <td>169</td>\n",
       "      <td>2683.75</td>\n",
       "      <td>6.970779</td>\n",
       "      <td>5.697983</td>\n",
       "      <td>301</td>\n",
       "      <td>63.46%</td>\n",
       "      <td>128</td>\n",
       "      <td>720</td>\n",
       "      <td>297</td>\n",
       "    </tr>\n",
       "    <tr>\n",
       "      <th>4</th>\n",
       "      <td>Gene Function</td>\n",
       "      <td>0</td>\n",
       "      <td>0</td>\n",
       "      <td>0</td>\n",
       "      <td>0</td>\n",
       "      <td>0</td>\n",
       "      <td>1805.50</td>\n",
       "      <td>4.689610</td>\n",
       "      <td>3.833333</td>\n",
       "      <td>348</td>\n",
       "      <td>44.25%</td>\n",
       "      <td>90</td>\n",
       "      <td>348</td>\n",
       "      <td>90</td>\n",
       "    </tr>\n",
       "    <tr>\n",
       "      <th>5</th>\n",
       "      <td>Rearrangements</td>\n",
       "      <td>292</td>\n",
       "      <td>0</td>\n",
       "      <td>0</td>\n",
       "      <td>81</td>\n",
       "      <td>38</td>\n",
       "      <td>653.00</td>\n",
       "      <td>1.696104</td>\n",
       "      <td>1.386412</td>\n",
       "      <td>136</td>\n",
       "      <td>38.97%</td>\n",
       "      <td>52</td>\n",
       "      <td>217</td>\n",
       "      <td>90</td>\n",
       "    </tr>\n",
       "    <tr>\n",
       "      <th>6</th>\n",
       "      <td>Copy Number</td>\n",
       "      <td>47</td>\n",
       "      <td>0</td>\n",
       "      <td>0</td>\n",
       "      <td>29</td>\n",
       "      <td>17</td>\n",
       "      <td>225.00</td>\n",
       "      <td>0.584416</td>\n",
       "      <td>0.477707</td>\n",
       "      <td>64</td>\n",
       "      <td>42.19%</td>\n",
       "      <td>34</td>\n",
       "      <td>93</td>\n",
       "      <td>51</td>\n",
       "    </tr>\n",
       "    <tr>\n",
       "      <th>7</th>\n",
       "      <td>Other</td>\n",
       "      <td>35</td>\n",
       "      <td>0</td>\n",
       "      <td>0</td>\n",
       "      <td>23</td>\n",
       "      <td>9</td>\n",
       "      <td>673.50</td>\n",
       "      <td>1.749351</td>\n",
       "      <td>1.429936</td>\n",
       "      <td>162</td>\n",
       "      <td>37.04%</td>\n",
       "      <td>93</td>\n",
       "      <td>185</td>\n",
       "      <td>102</td>\n",
       "    </tr>\n",
       "    <tr>\n",
       "      <th>8</th>\n",
       "      <td>Genotypes Easy</td>\n",
       "      <td>0</td>\n",
       "      <td>0</td>\n",
       "      <td>0</td>\n",
       "      <td>0</td>\n",
       "      <td>0</td>\n",
       "      <td>195.00</td>\n",
       "      <td>0.506494</td>\n",
       "      <td>0.414013</td>\n",
       "      <td>23</td>\n",
       "      <td>56.52%</td>\n",
       "      <td>11</td>\n",
       "      <td>23</td>\n",
       "      <td>11</td>\n",
       "    </tr>\n",
       "    <tr>\n",
       "      <th>9</th>\n",
       "      <td>Genotypes Compound</td>\n",
       "      <td>0</td>\n",
       "      <td>0</td>\n",
       "      <td>0</td>\n",
       "      <td>0</td>\n",
       "      <td>0</td>\n",
       "      <td>117.50</td>\n",
       "      <td>0.305195</td>\n",
       "      <td>0.249469</td>\n",
       "      <td>7</td>\n",
       "      <td>57.14%</td>\n",
       "      <td>6</td>\n",
       "      <td>7</td>\n",
       "      <td>6</td>\n",
       "    </tr>\n",
       "    <tr>\n",
       "      <th>10</th>\n",
       "      <td>Region Defined Variant</td>\n",
       "      <td>0</td>\n",
       "      <td>0</td>\n",
       "      <td>0</td>\n",
       "      <td>0</td>\n",
       "      <td>0</td>\n",
       "      <td>8353.50</td>\n",
       "      <td>21.697403</td>\n",
       "      <td>17.735669</td>\n",
       "      <td>971</td>\n",
       "      <td>57.47%</td>\n",
       "      <td>209</td>\n",
       "      <td>971</td>\n",
       "      <td>209</td>\n",
       "    </tr>\n",
       "    <tr>\n",
       "      <th>11</th>\n",
       "      <td>Transcript Variant</td>\n",
       "      <td>0</td>\n",
       "      <td>0</td>\n",
       "      <td>0</td>\n",
       "      <td>0</td>\n",
       "      <td>0</td>\n",
       "      <td>356.50</td>\n",
       "      <td>0.925974</td>\n",
       "      <td>0.756900</td>\n",
       "      <td>471</td>\n",
       "      <td>11.46%</td>\n",
       "      <td>385</td>\n",
       "      <td>471</td>\n",
       "      <td>385</td>\n",
       "    </tr>\n",
       "  </tbody>\n",
       "</table>\n",
       "</div>"
      ],
      "text/plain": [
       "                   Category  MOA Total Sum Impact Score  \\\n",
       "0                Expression                          11   \n",
       "1   Epigenetic Modification                           0   \n",
       "2                    Fusion                           0   \n",
       "3       Protein Consequence                        1064   \n",
       "4             Gene Function                           0   \n",
       "5            Rearrangements                         292   \n",
       "6               Copy Number                          47   \n",
       "7                     Other                          35   \n",
       "8            Genotypes Easy                           0   \n",
       "9        Genotypes Compound                           0   \n",
       "10   Region Defined Variant                           0   \n",
       "11       Transcript Variant                           0   \n",
       "\n",
       "    Average Impact Score per Feature  Average Impact Score per Assertion  \\\n",
       "0                                  0                                   0   \n",
       "1                                  0                                   0   \n",
       "2                                  0                                   0   \n",
       "3                                  0                                   0   \n",
       "4                                  0                                   0   \n",
       "5                                  0                                   0   \n",
       "6                                  0                                   0   \n",
       "7                                  0                                   0   \n",
       "8                                  0                                   0   \n",
       "9                                  0                                   0   \n",
       "10                                 0                                   0   \n",
       "11                                 0                                   0   \n",
       "\n",
       "    Total Number Assertions  Total Number Features  \\\n",
       "0                        12                     11   \n",
       "1                         0                      0   \n",
       "2                         0                      0   \n",
       "3                       419                    169   \n",
       "4                         0                      0   \n",
       "5                        81                     38   \n",
       "6                        29                     17   \n",
       "7                        23                      9   \n",
       "8                         0                      0   \n",
       "9                         0                      0   \n",
       "10                        0                      0   \n",
       "11                        0                      0   \n",
       "\n",
       "    CIVIC Total Sum Impact Score  Average Impact Score per Variant  \\\n",
       "0                        3618.00                          9.397403   \n",
       "1                         285.50                          0.741558   \n",
       "2                        6600.75                         17.144805   \n",
       "3                        2683.75                          6.970779   \n",
       "4                        1805.50                          4.689610   \n",
       "5                         653.00                          1.696104   \n",
       "6                         225.00                          0.584416   \n",
       "7                         673.50                          1.749351   \n",
       "8                         195.00                          0.506494   \n",
       "9                         117.50                          0.305195   \n",
       "10                       8353.50                         21.697403   \n",
       "11                        356.50                          0.925974   \n",
       "\n",
       "    Average Impact Score per Evidence Item  Total Number Evidence Items  \\\n",
       "0                                 7.681529                          617   \n",
       "1                                 0.606157                           24   \n",
       "2                                14.014331                         1241   \n",
       "3                                 5.697983                          301   \n",
       "4                                 3.833333                          348   \n",
       "5                                 1.386412                          136   \n",
       "6                                 0.477707                           64   \n",
       "7                                 1.429936                          162   \n",
       "8                                 0.414013                           23   \n",
       "9                                 0.249469                            7   \n",
       "10                               17.735669                          971   \n",
       "11                                0.756900                          471   \n",
       "\n",
       "   % Accepted Evidence Items  Total Number Variants  Sum Evidence Items  \\\n",
       "0                     55.43%                    291                 629   \n",
       "1                     91.67%                     15                  24   \n",
       "2                     59.39%                    308                1241   \n",
       "3                     63.46%                    128                 720   \n",
       "4                     44.25%                     90                 348   \n",
       "5                     38.97%                     52                 217   \n",
       "6                     42.19%                     34                  93   \n",
       "7                     37.04%                     93                 185   \n",
       "8                     56.52%                     11                  23   \n",
       "9                     57.14%                      6                   7   \n",
       "10                    57.47%                    209                 971   \n",
       "11                    11.46%                    385                 471   \n",
       "\n",
       "    Sum Variants  \n",
       "0            302  \n",
       "1             15  \n",
       "2            308  \n",
       "3            297  \n",
       "4             90  \n",
       "5             90  \n",
       "6             51  \n",
       "7            102  \n",
       "8             11  \n",
       "9              6  \n",
       "10           209  \n",
       "11           385  "
      ]
     },
     "execution_count": 90,
     "metadata": {},
     "output_type": "execute_result"
    }
   ],
   "source": [
    "merged_not_supported_impact_df['Sum Variants'] = merged_not_supported_impact_df['Total Number Variants']+merged_not_supported_impact_df['Total Number Features']\n",
    "merged_not_supported_impact_df"
   ]
  },
  {
   "cell_type": "code",
   "execution_count": 91,
   "metadata": {},
   "outputs": [
    {
     "data": {
      "text/html": [
       "<div>\n",
       "<style scoped>\n",
       "    .dataframe tbody tr th:only-of-type {\n",
       "        vertical-align: middle;\n",
       "    }\n",
       "\n",
       "    .dataframe tbody tr th {\n",
       "        vertical-align: top;\n",
       "    }\n",
       "\n",
       "    .dataframe thead th {\n",
       "        text-align: right;\n",
       "    }\n",
       "</style>\n",
       "<table border=\"1\" class=\"dataframe\">\n",
       "  <thead>\n",
       "    <tr style=\"text-align: right;\">\n",
       "      <th></th>\n",
       "      <th>Category</th>\n",
       "      <th>MOA Total Sum Impact Score</th>\n",
       "      <th>Average Impact Score per Feature</th>\n",
       "      <th>Average Impact Score per Assertion</th>\n",
       "      <th>Total Number Assertions</th>\n",
       "      <th>Total Number Features</th>\n",
       "      <th>CIVIC Total Sum Impact Score</th>\n",
       "      <th>Average Impact Score per Variant</th>\n",
       "      <th>Average Impact Score per Evidence Item</th>\n",
       "      <th>Total Number Evidence Items</th>\n",
       "      <th>% Accepted Evidence Items</th>\n",
       "      <th>Total Number Variants</th>\n",
       "      <th>Sum Evidence Items</th>\n",
       "      <th>Sum Variants</th>\n",
       "      <th>Sum Impact Score</th>\n",
       "    </tr>\n",
       "  </thead>\n",
       "  <tbody>\n",
       "    <tr>\n",
       "      <th>0</th>\n",
       "      <td>Expression</td>\n",
       "      <td>11</td>\n",
       "      <td>0</td>\n",
       "      <td>0</td>\n",
       "      <td>12</td>\n",
       "      <td>11</td>\n",
       "      <td>3618.00</td>\n",
       "      <td>9.397403</td>\n",
       "      <td>7.681529</td>\n",
       "      <td>617</td>\n",
       "      <td>55.43%</td>\n",
       "      <td>291</td>\n",
       "      <td>629</td>\n",
       "      <td>302</td>\n",
       "      <td>3629.00</td>\n",
       "    </tr>\n",
       "    <tr>\n",
       "      <th>1</th>\n",
       "      <td>Epigenetic Modification</td>\n",
       "      <td>0</td>\n",
       "      <td>0</td>\n",
       "      <td>0</td>\n",
       "      <td>0</td>\n",
       "      <td>0</td>\n",
       "      <td>285.50</td>\n",
       "      <td>0.741558</td>\n",
       "      <td>0.606157</td>\n",
       "      <td>24</td>\n",
       "      <td>91.67%</td>\n",
       "      <td>15</td>\n",
       "      <td>24</td>\n",
       "      <td>15</td>\n",
       "      <td>285.50</td>\n",
       "    </tr>\n",
       "    <tr>\n",
       "      <th>2</th>\n",
       "      <td>Fusion</td>\n",
       "      <td>0</td>\n",
       "      <td>0</td>\n",
       "      <td>0</td>\n",
       "      <td>0</td>\n",
       "      <td>0</td>\n",
       "      <td>6600.75</td>\n",
       "      <td>17.144805</td>\n",
       "      <td>14.014331</td>\n",
       "      <td>1241</td>\n",
       "      <td>59.39%</td>\n",
       "      <td>308</td>\n",
       "      <td>1241</td>\n",
       "      <td>308</td>\n",
       "      <td>6600.75</td>\n",
       "    </tr>\n",
       "    <tr>\n",
       "      <th>3</th>\n",
       "      <td>Protein Consequence</td>\n",
       "      <td>1064</td>\n",
       "      <td>0</td>\n",
       "      <td>0</td>\n",
       "      <td>419</td>\n",
       "      <td>169</td>\n",
       "      <td>2683.75</td>\n",
       "      <td>6.970779</td>\n",
       "      <td>5.697983</td>\n",
       "      <td>301</td>\n",
       "      <td>63.46%</td>\n",
       "      <td>128</td>\n",
       "      <td>720</td>\n",
       "      <td>297</td>\n",
       "      <td>3747.75</td>\n",
       "    </tr>\n",
       "    <tr>\n",
       "      <th>4</th>\n",
       "      <td>Gene Function</td>\n",
       "      <td>0</td>\n",
       "      <td>0</td>\n",
       "      <td>0</td>\n",
       "      <td>0</td>\n",
       "      <td>0</td>\n",
       "      <td>1805.50</td>\n",
       "      <td>4.689610</td>\n",
       "      <td>3.833333</td>\n",
       "      <td>348</td>\n",
       "      <td>44.25%</td>\n",
       "      <td>90</td>\n",
       "      <td>348</td>\n",
       "      <td>90</td>\n",
       "      <td>1805.50</td>\n",
       "    </tr>\n",
       "    <tr>\n",
       "      <th>5</th>\n",
       "      <td>Rearrangements</td>\n",
       "      <td>292</td>\n",
       "      <td>0</td>\n",
       "      <td>0</td>\n",
       "      <td>81</td>\n",
       "      <td>38</td>\n",
       "      <td>653.00</td>\n",
       "      <td>1.696104</td>\n",
       "      <td>1.386412</td>\n",
       "      <td>136</td>\n",
       "      <td>38.97%</td>\n",
       "      <td>52</td>\n",
       "      <td>217</td>\n",
       "      <td>90</td>\n",
       "      <td>945.00</td>\n",
       "    </tr>\n",
       "    <tr>\n",
       "      <th>6</th>\n",
       "      <td>Copy Number</td>\n",
       "      <td>47</td>\n",
       "      <td>0</td>\n",
       "      <td>0</td>\n",
       "      <td>29</td>\n",
       "      <td>17</td>\n",
       "      <td>225.00</td>\n",
       "      <td>0.584416</td>\n",
       "      <td>0.477707</td>\n",
       "      <td>64</td>\n",
       "      <td>42.19%</td>\n",
       "      <td>34</td>\n",
       "      <td>93</td>\n",
       "      <td>51</td>\n",
       "      <td>272.00</td>\n",
       "    </tr>\n",
       "    <tr>\n",
       "      <th>7</th>\n",
       "      <td>Other</td>\n",
       "      <td>35</td>\n",
       "      <td>0</td>\n",
       "      <td>0</td>\n",
       "      <td>23</td>\n",
       "      <td>9</td>\n",
       "      <td>673.50</td>\n",
       "      <td>1.749351</td>\n",
       "      <td>1.429936</td>\n",
       "      <td>162</td>\n",
       "      <td>37.04%</td>\n",
       "      <td>93</td>\n",
       "      <td>185</td>\n",
       "      <td>102</td>\n",
       "      <td>708.50</td>\n",
       "    </tr>\n",
       "    <tr>\n",
       "      <th>8</th>\n",
       "      <td>Genotypes Easy</td>\n",
       "      <td>0</td>\n",
       "      <td>0</td>\n",
       "      <td>0</td>\n",
       "      <td>0</td>\n",
       "      <td>0</td>\n",
       "      <td>195.00</td>\n",
       "      <td>0.506494</td>\n",
       "      <td>0.414013</td>\n",
       "      <td>23</td>\n",
       "      <td>56.52%</td>\n",
       "      <td>11</td>\n",
       "      <td>23</td>\n",
       "      <td>11</td>\n",
       "      <td>195.00</td>\n",
       "    </tr>\n",
       "    <tr>\n",
       "      <th>9</th>\n",
       "      <td>Genotypes Compound</td>\n",
       "      <td>0</td>\n",
       "      <td>0</td>\n",
       "      <td>0</td>\n",
       "      <td>0</td>\n",
       "      <td>0</td>\n",
       "      <td>117.50</td>\n",
       "      <td>0.305195</td>\n",
       "      <td>0.249469</td>\n",
       "      <td>7</td>\n",
       "      <td>57.14%</td>\n",
       "      <td>6</td>\n",
       "      <td>7</td>\n",
       "      <td>6</td>\n",
       "      <td>117.50</td>\n",
       "    </tr>\n",
       "    <tr>\n",
       "      <th>10</th>\n",
       "      <td>Region Defined Variant</td>\n",
       "      <td>0</td>\n",
       "      <td>0</td>\n",
       "      <td>0</td>\n",
       "      <td>0</td>\n",
       "      <td>0</td>\n",
       "      <td>8353.50</td>\n",
       "      <td>21.697403</td>\n",
       "      <td>17.735669</td>\n",
       "      <td>971</td>\n",
       "      <td>57.47%</td>\n",
       "      <td>209</td>\n",
       "      <td>971</td>\n",
       "      <td>209</td>\n",
       "      <td>8353.50</td>\n",
       "    </tr>\n",
       "    <tr>\n",
       "      <th>11</th>\n",
       "      <td>Transcript Variant</td>\n",
       "      <td>0</td>\n",
       "      <td>0</td>\n",
       "      <td>0</td>\n",
       "      <td>0</td>\n",
       "      <td>0</td>\n",
       "      <td>356.50</td>\n",
       "      <td>0.925974</td>\n",
       "      <td>0.756900</td>\n",
       "      <td>471</td>\n",
       "      <td>11.46%</td>\n",
       "      <td>385</td>\n",
       "      <td>471</td>\n",
       "      <td>385</td>\n",
       "      <td>356.50</td>\n",
       "    </tr>\n",
       "  </tbody>\n",
       "</table>\n",
       "</div>"
      ],
      "text/plain": [
       "                   Category  MOA Total Sum Impact Score  \\\n",
       "0                Expression                          11   \n",
       "1   Epigenetic Modification                           0   \n",
       "2                    Fusion                           0   \n",
       "3       Protein Consequence                        1064   \n",
       "4             Gene Function                           0   \n",
       "5            Rearrangements                         292   \n",
       "6               Copy Number                          47   \n",
       "7                     Other                          35   \n",
       "8            Genotypes Easy                           0   \n",
       "9        Genotypes Compound                           0   \n",
       "10   Region Defined Variant                           0   \n",
       "11       Transcript Variant                           0   \n",
       "\n",
       "    Average Impact Score per Feature  Average Impact Score per Assertion  \\\n",
       "0                                  0                                   0   \n",
       "1                                  0                                   0   \n",
       "2                                  0                                   0   \n",
       "3                                  0                                   0   \n",
       "4                                  0                                   0   \n",
       "5                                  0                                   0   \n",
       "6                                  0                                   0   \n",
       "7                                  0                                   0   \n",
       "8                                  0                                   0   \n",
       "9                                  0                                   0   \n",
       "10                                 0                                   0   \n",
       "11                                 0                                   0   \n",
       "\n",
       "    Total Number Assertions  Total Number Features  \\\n",
       "0                        12                     11   \n",
       "1                         0                      0   \n",
       "2                         0                      0   \n",
       "3                       419                    169   \n",
       "4                         0                      0   \n",
       "5                        81                     38   \n",
       "6                        29                     17   \n",
       "7                        23                      9   \n",
       "8                         0                      0   \n",
       "9                         0                      0   \n",
       "10                        0                      0   \n",
       "11                        0                      0   \n",
       "\n",
       "    CIVIC Total Sum Impact Score  Average Impact Score per Variant  \\\n",
       "0                        3618.00                          9.397403   \n",
       "1                         285.50                          0.741558   \n",
       "2                        6600.75                         17.144805   \n",
       "3                        2683.75                          6.970779   \n",
       "4                        1805.50                          4.689610   \n",
       "5                         653.00                          1.696104   \n",
       "6                         225.00                          0.584416   \n",
       "7                         673.50                          1.749351   \n",
       "8                         195.00                          0.506494   \n",
       "9                         117.50                          0.305195   \n",
       "10                       8353.50                         21.697403   \n",
       "11                        356.50                          0.925974   \n",
       "\n",
       "    Average Impact Score per Evidence Item  Total Number Evidence Items  \\\n",
       "0                                 7.681529                          617   \n",
       "1                                 0.606157                           24   \n",
       "2                                14.014331                         1241   \n",
       "3                                 5.697983                          301   \n",
       "4                                 3.833333                          348   \n",
       "5                                 1.386412                          136   \n",
       "6                                 0.477707                           64   \n",
       "7                                 1.429936                          162   \n",
       "8                                 0.414013                           23   \n",
       "9                                 0.249469                            7   \n",
       "10                               17.735669                          971   \n",
       "11                                0.756900                          471   \n",
       "\n",
       "   % Accepted Evidence Items  Total Number Variants  Sum Evidence Items  \\\n",
       "0                     55.43%                    291                 629   \n",
       "1                     91.67%                     15                  24   \n",
       "2                     59.39%                    308                1241   \n",
       "3                     63.46%                    128                 720   \n",
       "4                     44.25%                     90                 348   \n",
       "5                     38.97%                     52                 217   \n",
       "6                     42.19%                     34                  93   \n",
       "7                     37.04%                     93                 185   \n",
       "8                     56.52%                     11                  23   \n",
       "9                     57.14%                      6                   7   \n",
       "10                    57.47%                    209                 971   \n",
       "11                    11.46%                    385                 471   \n",
       "\n",
       "    Sum Variants  Sum Impact Score  \n",
       "0            302           3629.00  \n",
       "1             15            285.50  \n",
       "2            308           6600.75  \n",
       "3            297           3747.75  \n",
       "4             90           1805.50  \n",
       "5             90            945.00  \n",
       "6             51            272.00  \n",
       "7            102            708.50  \n",
       "8             11            195.00  \n",
       "9              6            117.50  \n",
       "10           209           8353.50  \n",
       "11           385            356.50  "
      ]
     },
     "execution_count": 91,
     "metadata": {},
     "output_type": "execute_result"
    }
   ],
   "source": [
    "merged_not_supported_impact_df['Sum Impact Score'] = merged_not_supported_impact_df['CIVIC Total Sum Impact Score']+merged_not_supported_impact_df['MOA Total Sum Impact Score']\n",
    "merged_not_supported_impact_df"
   ]
  },
  {
   "cell_type": "code",
   "execution_count": 92,
   "metadata": {},
   "outputs": [
    {
     "data": {
      "text/html": [
       "<div>\n",
       "<style scoped>\n",
       "    .dataframe tbody tr th:only-of-type {\n",
       "        vertical-align: middle;\n",
       "    }\n",
       "\n",
       "    .dataframe tbody tr th {\n",
       "        vertical-align: top;\n",
       "    }\n",
       "\n",
       "    .dataframe thead th {\n",
       "        text-align: right;\n",
       "    }\n",
       "</style>\n",
       "<table border=\"1\" class=\"dataframe\">\n",
       "  <thead>\n",
       "    <tr style=\"text-align: right;\">\n",
       "      <th></th>\n",
       "      <th>Category</th>\n",
       "      <th>MOA Total Sum Impact Score</th>\n",
       "      <th>Average Impact Score per Feature</th>\n",
       "      <th>Average Impact Score per Assertion</th>\n",
       "      <th>Total Number Assertions</th>\n",
       "      <th>Total Number Features</th>\n",
       "      <th>CIVIC Total Sum Impact Score</th>\n",
       "      <th>Average Impact Score per Variant</th>\n",
       "      <th>Average Impact Score per Evidence Item</th>\n",
       "      <th>Total Number Evidence Items</th>\n",
       "      <th>% Accepted Evidence Items</th>\n",
       "      <th>Total Number Variants</th>\n",
       "      <th>Sum Evidence Items</th>\n",
       "      <th>Sum Variants</th>\n",
       "      <th>Sum Impact Score</th>\n",
       "      <th>Ratio of MOA Features to MOA+CIVIC per Category</th>\n",
       "    </tr>\n",
       "  </thead>\n",
       "  <tbody>\n",
       "    <tr>\n",
       "      <th>0</th>\n",
       "      <td>Expression</td>\n",
       "      <td>11</td>\n",
       "      <td>0</td>\n",
       "      <td>0</td>\n",
       "      <td>12</td>\n",
       "      <td>11</td>\n",
       "      <td>3618.00</td>\n",
       "      <td>9.397403</td>\n",
       "      <td>7.681529</td>\n",
       "      <td>617</td>\n",
       "      <td>55.43%</td>\n",
       "      <td>291</td>\n",
       "      <td>629</td>\n",
       "      <td>302</td>\n",
       "      <td>3629.00</td>\n",
       "      <td>0.036424</td>\n",
       "    </tr>\n",
       "    <tr>\n",
       "      <th>1</th>\n",
       "      <td>Epigenetic Modification</td>\n",
       "      <td>0</td>\n",
       "      <td>0</td>\n",
       "      <td>0</td>\n",
       "      <td>0</td>\n",
       "      <td>0</td>\n",
       "      <td>285.50</td>\n",
       "      <td>0.741558</td>\n",
       "      <td>0.606157</td>\n",
       "      <td>24</td>\n",
       "      <td>91.67%</td>\n",
       "      <td>15</td>\n",
       "      <td>24</td>\n",
       "      <td>15</td>\n",
       "      <td>285.50</td>\n",
       "      <td>0.000000</td>\n",
       "    </tr>\n",
       "    <tr>\n",
       "      <th>2</th>\n",
       "      <td>Fusion</td>\n",
       "      <td>0</td>\n",
       "      <td>0</td>\n",
       "      <td>0</td>\n",
       "      <td>0</td>\n",
       "      <td>0</td>\n",
       "      <td>6600.75</td>\n",
       "      <td>17.144805</td>\n",
       "      <td>14.014331</td>\n",
       "      <td>1241</td>\n",
       "      <td>59.39%</td>\n",
       "      <td>308</td>\n",
       "      <td>1241</td>\n",
       "      <td>308</td>\n",
       "      <td>6600.75</td>\n",
       "      <td>0.000000</td>\n",
       "    </tr>\n",
       "    <tr>\n",
       "      <th>3</th>\n",
       "      <td>Protein Consequence</td>\n",
       "      <td>1064</td>\n",
       "      <td>0</td>\n",
       "      <td>0</td>\n",
       "      <td>419</td>\n",
       "      <td>169</td>\n",
       "      <td>2683.75</td>\n",
       "      <td>6.970779</td>\n",
       "      <td>5.697983</td>\n",
       "      <td>301</td>\n",
       "      <td>63.46%</td>\n",
       "      <td>128</td>\n",
       "      <td>720</td>\n",
       "      <td>297</td>\n",
       "      <td>3747.75</td>\n",
       "      <td>0.569024</td>\n",
       "    </tr>\n",
       "    <tr>\n",
       "      <th>4</th>\n",
       "      <td>Gene Function</td>\n",
       "      <td>0</td>\n",
       "      <td>0</td>\n",
       "      <td>0</td>\n",
       "      <td>0</td>\n",
       "      <td>0</td>\n",
       "      <td>1805.50</td>\n",
       "      <td>4.689610</td>\n",
       "      <td>3.833333</td>\n",
       "      <td>348</td>\n",
       "      <td>44.25%</td>\n",
       "      <td>90</td>\n",
       "      <td>348</td>\n",
       "      <td>90</td>\n",
       "      <td>1805.50</td>\n",
       "      <td>0.000000</td>\n",
       "    </tr>\n",
       "    <tr>\n",
       "      <th>5</th>\n",
       "      <td>Rearrangements</td>\n",
       "      <td>292</td>\n",
       "      <td>0</td>\n",
       "      <td>0</td>\n",
       "      <td>81</td>\n",
       "      <td>38</td>\n",
       "      <td>653.00</td>\n",
       "      <td>1.696104</td>\n",
       "      <td>1.386412</td>\n",
       "      <td>136</td>\n",
       "      <td>38.97%</td>\n",
       "      <td>52</td>\n",
       "      <td>217</td>\n",
       "      <td>90</td>\n",
       "      <td>945.00</td>\n",
       "      <td>0.422222</td>\n",
       "    </tr>\n",
       "    <tr>\n",
       "      <th>6</th>\n",
       "      <td>Copy Number</td>\n",
       "      <td>47</td>\n",
       "      <td>0</td>\n",
       "      <td>0</td>\n",
       "      <td>29</td>\n",
       "      <td>17</td>\n",
       "      <td>225.00</td>\n",
       "      <td>0.584416</td>\n",
       "      <td>0.477707</td>\n",
       "      <td>64</td>\n",
       "      <td>42.19%</td>\n",
       "      <td>34</td>\n",
       "      <td>93</td>\n",
       "      <td>51</td>\n",
       "      <td>272.00</td>\n",
       "      <td>0.333333</td>\n",
       "    </tr>\n",
       "    <tr>\n",
       "      <th>7</th>\n",
       "      <td>Other</td>\n",
       "      <td>35</td>\n",
       "      <td>0</td>\n",
       "      <td>0</td>\n",
       "      <td>23</td>\n",
       "      <td>9</td>\n",
       "      <td>673.50</td>\n",
       "      <td>1.749351</td>\n",
       "      <td>1.429936</td>\n",
       "      <td>162</td>\n",
       "      <td>37.04%</td>\n",
       "      <td>93</td>\n",
       "      <td>185</td>\n",
       "      <td>102</td>\n",
       "      <td>708.50</td>\n",
       "      <td>0.088235</td>\n",
       "    </tr>\n",
       "    <tr>\n",
       "      <th>8</th>\n",
       "      <td>Genotypes Easy</td>\n",
       "      <td>0</td>\n",
       "      <td>0</td>\n",
       "      <td>0</td>\n",
       "      <td>0</td>\n",
       "      <td>0</td>\n",
       "      <td>195.00</td>\n",
       "      <td>0.506494</td>\n",
       "      <td>0.414013</td>\n",
       "      <td>23</td>\n",
       "      <td>56.52%</td>\n",
       "      <td>11</td>\n",
       "      <td>23</td>\n",
       "      <td>11</td>\n",
       "      <td>195.00</td>\n",
       "      <td>0.000000</td>\n",
       "    </tr>\n",
       "    <tr>\n",
       "      <th>9</th>\n",
       "      <td>Genotypes Compound</td>\n",
       "      <td>0</td>\n",
       "      <td>0</td>\n",
       "      <td>0</td>\n",
       "      <td>0</td>\n",
       "      <td>0</td>\n",
       "      <td>117.50</td>\n",
       "      <td>0.305195</td>\n",
       "      <td>0.249469</td>\n",
       "      <td>7</td>\n",
       "      <td>57.14%</td>\n",
       "      <td>6</td>\n",
       "      <td>7</td>\n",
       "      <td>6</td>\n",
       "      <td>117.50</td>\n",
       "      <td>0.000000</td>\n",
       "    </tr>\n",
       "    <tr>\n",
       "      <th>10</th>\n",
       "      <td>Region Defined Variant</td>\n",
       "      <td>0</td>\n",
       "      <td>0</td>\n",
       "      <td>0</td>\n",
       "      <td>0</td>\n",
       "      <td>0</td>\n",
       "      <td>8353.50</td>\n",
       "      <td>21.697403</td>\n",
       "      <td>17.735669</td>\n",
       "      <td>971</td>\n",
       "      <td>57.47%</td>\n",
       "      <td>209</td>\n",
       "      <td>971</td>\n",
       "      <td>209</td>\n",
       "      <td>8353.50</td>\n",
       "      <td>0.000000</td>\n",
       "    </tr>\n",
       "    <tr>\n",
       "      <th>11</th>\n",
       "      <td>Transcript Variant</td>\n",
       "      <td>0</td>\n",
       "      <td>0</td>\n",
       "      <td>0</td>\n",
       "      <td>0</td>\n",
       "      <td>0</td>\n",
       "      <td>356.50</td>\n",
       "      <td>0.925974</td>\n",
       "      <td>0.756900</td>\n",
       "      <td>471</td>\n",
       "      <td>11.46%</td>\n",
       "      <td>385</td>\n",
       "      <td>471</td>\n",
       "      <td>385</td>\n",
       "      <td>356.50</td>\n",
       "      <td>0.000000</td>\n",
       "    </tr>\n",
       "  </tbody>\n",
       "</table>\n",
       "</div>"
      ],
      "text/plain": [
       "                   Category  MOA Total Sum Impact Score  \\\n",
       "0                Expression                          11   \n",
       "1   Epigenetic Modification                           0   \n",
       "2                    Fusion                           0   \n",
       "3       Protein Consequence                        1064   \n",
       "4             Gene Function                           0   \n",
       "5            Rearrangements                         292   \n",
       "6               Copy Number                          47   \n",
       "7                     Other                          35   \n",
       "8            Genotypes Easy                           0   \n",
       "9        Genotypes Compound                           0   \n",
       "10   Region Defined Variant                           0   \n",
       "11       Transcript Variant                           0   \n",
       "\n",
       "    Average Impact Score per Feature  Average Impact Score per Assertion  \\\n",
       "0                                  0                                   0   \n",
       "1                                  0                                   0   \n",
       "2                                  0                                   0   \n",
       "3                                  0                                   0   \n",
       "4                                  0                                   0   \n",
       "5                                  0                                   0   \n",
       "6                                  0                                   0   \n",
       "7                                  0                                   0   \n",
       "8                                  0                                   0   \n",
       "9                                  0                                   0   \n",
       "10                                 0                                   0   \n",
       "11                                 0                                   0   \n",
       "\n",
       "    Total Number Assertions  Total Number Features  \\\n",
       "0                        12                     11   \n",
       "1                         0                      0   \n",
       "2                         0                      0   \n",
       "3                       419                    169   \n",
       "4                         0                      0   \n",
       "5                        81                     38   \n",
       "6                        29                     17   \n",
       "7                        23                      9   \n",
       "8                         0                      0   \n",
       "9                         0                      0   \n",
       "10                        0                      0   \n",
       "11                        0                      0   \n",
       "\n",
       "    CIVIC Total Sum Impact Score  Average Impact Score per Variant  \\\n",
       "0                        3618.00                          9.397403   \n",
       "1                         285.50                          0.741558   \n",
       "2                        6600.75                         17.144805   \n",
       "3                        2683.75                          6.970779   \n",
       "4                        1805.50                          4.689610   \n",
       "5                         653.00                          1.696104   \n",
       "6                         225.00                          0.584416   \n",
       "7                         673.50                          1.749351   \n",
       "8                         195.00                          0.506494   \n",
       "9                         117.50                          0.305195   \n",
       "10                       8353.50                         21.697403   \n",
       "11                        356.50                          0.925974   \n",
       "\n",
       "    Average Impact Score per Evidence Item  Total Number Evidence Items  \\\n",
       "0                                 7.681529                          617   \n",
       "1                                 0.606157                           24   \n",
       "2                                14.014331                         1241   \n",
       "3                                 5.697983                          301   \n",
       "4                                 3.833333                          348   \n",
       "5                                 1.386412                          136   \n",
       "6                                 0.477707                           64   \n",
       "7                                 1.429936                          162   \n",
       "8                                 0.414013                           23   \n",
       "9                                 0.249469                            7   \n",
       "10                               17.735669                          971   \n",
       "11                                0.756900                          471   \n",
       "\n",
       "   % Accepted Evidence Items  Total Number Variants  Sum Evidence Items  \\\n",
       "0                     55.43%                    291                 629   \n",
       "1                     91.67%                     15                  24   \n",
       "2                     59.39%                    308                1241   \n",
       "3                     63.46%                    128                 720   \n",
       "4                     44.25%                     90                 348   \n",
       "5                     38.97%                     52                 217   \n",
       "6                     42.19%                     34                  93   \n",
       "7                     37.04%                     93                 185   \n",
       "8                     56.52%                     11                  23   \n",
       "9                     57.14%                      6                   7   \n",
       "10                    57.47%                    209                 971   \n",
       "11                    11.46%                    385                 471   \n",
       "\n",
       "    Sum Variants  Sum Impact Score  \\\n",
       "0            302           3629.00   \n",
       "1             15            285.50   \n",
       "2            308           6600.75   \n",
       "3            297           3747.75   \n",
       "4             90           1805.50   \n",
       "5             90            945.00   \n",
       "6             51            272.00   \n",
       "7            102            708.50   \n",
       "8             11            195.00   \n",
       "9              6            117.50   \n",
       "10           209           8353.50   \n",
       "11           385            356.50   \n",
       "\n",
       "    Ratio of MOA Features to MOA+CIVIC per Category  \n",
       "0                                          0.036424  \n",
       "1                                          0.000000  \n",
       "2                                          0.000000  \n",
       "3                                          0.569024  \n",
       "4                                          0.000000  \n",
       "5                                          0.422222  \n",
       "6                                          0.333333  \n",
       "7                                          0.088235  \n",
       "8                                          0.000000  \n",
       "9                                          0.000000  \n",
       "10                                         0.000000  \n",
       "11                                         0.000000  "
      ]
     },
     "execution_count": 92,
     "metadata": {},
     "output_type": "execute_result"
    }
   ],
   "source": [
    "merged_not_supported_impact_df['Ratio of MOA Features to MOA+CIVIC per Category'] = merged_not_supported_impact_df['Total Number Features']/(merged_not_supported_impact_df['Total Number Features']+merged_not_supported_impact_df['Total Number Variants'])\n",
    "merged_not_supported_impact_df"
   ]
  },
  {
   "cell_type": "code",
   "execution_count": 93,
   "metadata": {},
   "outputs": [],
   "source": [
    "import numpy as np\n",
    "from numpy import pi, sin, cos\n",
    "import plotly.graph_objects as go\n",
    "\n",
    "def degree2rad(degrees):\n",
    "    return degrees*pi/180\n",
    "def disk_part(center=[0,0], radius=1, start_angle=0, end_angle=90, n=50, seg=True):\n",
    "    sta = degree2rad(start_angle)\n",
    "    ea = degree2rad(end_angle)\n",
    "    t = np.linspace(sta, ea, n)\n",
    "    x = center[0] + radius*cos(t)\n",
    "    y = center[1] +radius*sin(t)\n",
    "    path = f\"M {x[0]},{y[0]}\"\n",
    "    for xc, yc in zip(x[1:], y[1:]):\n",
    "        path += f\" L{xc},{yc}\"\n",
    "    if seg: #segment\n",
    "        return path + \" Z\"\n",
    "    else: #disk sector\n",
    "        return path + f\" L{center[0]},{center[1]} Z\" #sector"
   ]
  },
  {
   "cell_type": "code",
   "execution_count": 94,
   "metadata": {},
   "outputs": [],
   "source": [
    "layout = go.Layout(\n",
    "    title=\"Title\",\n",
    "    xaxis=dict(\n",
    "        title=\"Number of Evidence Items\"\n",
    "    ),\n",
    "    yaxis=dict(\n",
    "        title=\"Impact Score\"\n",
    "    ) ) "
   ]
  },
  {
   "cell_type": "code",
   "execution_count": 95,
   "metadata": {},
   "outputs": [
    {
     "data": {
      "application/vnd.plotly.v1+json": {
       "config": {
        "plotlyServerURL": "https://plot.ly"
       },
       "data": [],
       "layout": {
        "height": 1000,
        "shapes": [
         {
          "fillcolor": "blue",
          "opacity": 0.5,
          "path": "M 302.0,3729.0 L289.67564371392706,3728.2376452871285 L277.53919804981,3725.9622048426786 L265.77570853863983,3722.2083725215844 L254.56453421378967,3717.0333833590716 L244.07661290692695,3710.5161409026828 L234.47185494278193,3702.7560141624485 L225.89670497135376,3693.8713225222273 L218.4819091125284,3683.9975317129056 L212.34052145766492,3673.285188353631 L207.56618032320847,3661.8976245533204 L204.2316805384533,3650.0084675706 L202.38786353591883,3637.7989925026263 L202.06284216723628,3625.4553583665947 L203.26157206384954,3613.1657697156566 L205.96577607803576,3601.117607066358 L210.13422295629937,3589.4945698902407 L215.70335599618033,3578.4738757306873 L222.58826210128746,3568.223558150331 L230.68396645928263,3558.899904707488 L239.86703310273916,3550.6450740250243 L249.99744694897197,3543.5849282844356 L260.9207486232009,3537.827114193299 L272.4703895151966,3533.459421685779 L284.47027116163923,3530.5484453812255 L296.7374302359876,3529.138569209735 L309.08482820756404,3529.2512896861854 L321.3242031356622,3530.8848881508475 L333.2689401171011,3534.0144569739523 L344.7369166212446,3538.592279324668 L355.5532793293921,3544.5485567141204 L365.55311013980986,3551.792473219529 L374.58394068957307,3560.2135801631416 L382.50807705406663,3569.6834801336386 L389.2046991792324,3580.0577846735605 L394.5717030363215,3591.1783157837317 L398.527257411645,3602.8755176781237 L401.01105159480187,3614.9710420169035 L401.9852149417655,3627.2804672003854 L401.43489429216265,3639.6161102625415 L399.36848043680953,3651.7898884908777 L395.8174801825336,3663.616187141277 L390.83603596492003,3674.9146895235003 L384.5001003334928,3685.5131263067583 L376.9062778960334,3695.249902126435 L368.17035237901985,3703.9765594438445 L358.42552126223603,3711.5600420923156 L347.82036490424224,3717.8847239971083 L336.5165811236436,3722.8541721370707 L324.6865197772086,3726.3926168680064 L302,3629.0 Z",
          "type": "path"
         },
         {
          "fillcolor": "red",
          "opacity": 0.5,
          "path": "M 324.6865197772086,3726.3926168680064 L324.2313953246121,3726.4975131063393 L323.7757859130495,3726.600282519412 L323.3197014812525,3726.700922865397 L322.8631519783146,3726.799431948911 L322.4061473634746,3726.895807621063 L321.94869760589927,3726.9900477794986 L321.49081268446565,3727.082150368449 L321.03250258754366,3727.1721133787755 L320.5737773127778,3727.2599348480107 L320.1146468668695,3727.345612860405 L319.6551212653588,3727.4291455469643 L319.1952105324053,3727.510531085495 L318.7349247005705,3727.5897677006406 L318.2742738105977,3727.6668536639213 L317.81326791119415,3727.7417872937735 L317.35191705881107,3727.814566955583 L316.89023131742465,3727.8851910617236 L316.42822075831646,3727.953658071591 L315.9658954598534,3728.0199664916345 L315.5032655072684,3728.084114875394 L315.0403409924401,3728.1461018235254 L314.57713201367284,3728.2059259838375 L314.11364867547616,3728.2635860513165 L313.6499010883445,3728.3190807681576 L313.1858993685368,3728.3724089237903 L312.72165363785564,3728.4235693549062 L312.2571740234265,3728.4725609454845 L311.7924706574767,3728.519382626815 L311.32755367711474,3728.564033377523 L310.86243322410877,3728.60651222359 L310.3971194446655,3728.6468182383765 L309.9316224892092,3728.6849505426403 L309.46595251215945,3728.7209083045586 L309.0001196717105,3728.7546907397427 L308.5341341296093,3728.786297111258 L308.06800605093383,3728.8157267296383 L307.60174560387145,3728.8429789529014 L307.1353629594967,3728.8680531865634 L306.6688682915502,3728.8909488836507 L306.2022717762159,3728.911665544714 L305.73558359189974,3728.9302027178364 L305.2688139190073,3728.9465599986456 L304.80197293972145,3728.9607370303215 L304.33507083778096,3728.9727335036036 L303.8681177982577,3728.9825491567995 L303.4011240073347,3728.990183775789 L302.9340996520843,3728.9956371940293 L302.46705492024495,3728.9989092925593 L302.00000000000006,3729.0 L302,3629.0 Z",
          "type": "path"
         },
         {
          "fillcolor": "blue",
          "opacity": 0.5,
          "path": "M 15.000000000000005,385.5 L2.2122838315494118,384.6790013823246 L-10.365458390950717,382.22948630390295 L-22.52670048793741,378.1916757346022 L-34.07175520039376,372.63187041233897 L-44.8110530491216,365.6413621867957 L-54.56825506034863,357.3349350097728 L-63.18314824680297,347.84898018587336 L-70.5142763005346,337.3392568310525 L-76.44126230158123,325.9783343122394 L-80.86678530366606,313.9527586631033 L-83.71817834144501,301.45998950333797 L-84.94862162006879,288.7051577571655 L-84.53791129491982,275.89769740923185 L-82.49279121818236,263.24790660436855 L-78.84684220497604,250.96349455786924 L-73.65993063730002,239.2461709759165 L-67.01722545969561,228.28833398778306 L-59.02779970753157,218.26991097386835 L-49.82283953077891,209.35540416308663 L-39.553490121054914,201.69118951081595 L-28.38837391175582,195.4031132097581 L-16.51082180236213,190.59442529893317 L-4.1158628701372635,187.34408430089348 L8.592978001928715,185.70546072496637 L21.407021998071247,185.70546072496637 L34.115862870137136,187.34408430089343 L46.51082180236202,190.59442529893312 L58.38837391175579,195.4031132097581 L69.5534901210548,201.6911895108159 L79.82283953077881,209.35540416308652 L89.02779970753156,218.26991097386832 L97.01722545969557,228.288333987783 L103.6599306373,239.24617097591647 L108.84684220497603,250.96349455786918 L112.49279121818235,263.24790660436855 L114.53791129491981,275.89769740923174 L114.94862162006879,288.70515775716547 L113.71817834144503,301.45998950333785 L110.86678530366608,313.95275866310317 L106.44126230158129,325.97833431223927 L100.51427630053465,337.33925683105247 L93.18314824680299,347.84898018587336 L84.56825506034869,357.3349350097727 L74.81105304912163,365.6413621867956 L64.07175520039388,372.6318704123389 L52.52670048793746,378.19167573460214 L40.36545839095085,382.22948630390295 L27.787716168450668,384.6790013823246 L15.00000000000003,385.5 L15,285.5 Z",
          "type": "path"
         },
         {
          "fillcolor": "red",
          "opacity": 0.5,
          "path": "M 15.00000000000003,385.5 L15.00000000000003,385.5 L15.00000000000003,385.5 L15.00000000000003,385.5 L15.00000000000003,385.5 L15.00000000000003,385.5 L15.00000000000003,385.5 L15.00000000000003,385.5 L15.00000000000003,385.5 L15.00000000000003,385.5 L15.00000000000003,385.5 L15.00000000000003,385.5 L15.00000000000003,385.5 L15.00000000000003,385.5 L15.00000000000003,385.5 L15.00000000000003,385.5 L15.00000000000003,385.5 L15.00000000000003,385.5 L15.00000000000003,385.5 L15.00000000000003,385.5 L15.00000000000003,385.5 L15.00000000000003,385.5 L15.00000000000003,385.5 L15.00000000000003,385.5 L15.00000000000003,385.5 L15.00000000000003,385.5 L15.00000000000003,385.5 L15.00000000000003,385.5 L15.00000000000003,385.5 L15.00000000000003,385.5 L15.00000000000003,385.5 L15.00000000000003,385.5 L15.00000000000003,385.5 L15.00000000000003,385.5 L15.00000000000003,385.5 L15.00000000000003,385.5 L15.00000000000003,385.5 L15.00000000000003,385.5 L15.00000000000003,385.5 L15.00000000000003,385.5 L15.00000000000003,385.5 L15.00000000000003,385.5 L15.00000000000003,385.5 L15.00000000000003,385.5 L15.00000000000003,385.5 L15.00000000000003,385.5 L15.00000000000003,385.5 L15.00000000000003,385.5 L15.00000000000003,385.5 L15.00000000000003,385.5 L15,285.5 Z",
          "type": "path"
         },
         {
          "fillcolor": "blue",
          "opacity": 0.5,
          "path": "M 308.0,6700.75 L295.2122838315494,6699.929001382325 L282.6345416090493,6697.479486303903 L270.47329951206257,6693.4416757346025 L258.92824479960626,6687.881870412339 L248.1889469508784,6680.891362186796 L238.43174493965137,6672.584935009772 L229.81685175319703,6663.098980185873 L222.48572369946538,6652.589256831053 L216.55873769841878,6641.228334312239 L212.13321469633394,6629.202758663103 L209.28182165855497,6616.709989503338 L208.0513783799312,6603.955157757166 L208.4620887050802,6591.147697409232 L210.50720878181764,6578.497906604369 L214.15315779502396,6566.213494557869 L219.34006936269998,6554.496170975916 L225.98277454030438,6543.5383339877835 L233.97220029246841,6533.519910973869 L243.1771604692211,6524.605404163087 L253.44650987894508,6516.941189510816 L264.6116260882442,6510.653113209758 L276.4891781976379,6505.844425298933 L288.8841371298627,6502.594084300894 L301.5929780019287,6500.9554607249665 L314.40702199807123,6500.9554607249665 L327.1158628701371,6502.594084300894 L339.510821802362,6505.844425298933 L351.3883739117558,6510.653113209758 L362.5534901210548,6516.941189510816 L372.8228395307788,6524.605404163087 L382.0277997075316,6533.519910973869 L390.01722545969557,6543.538333987783 L396.6599306373,6554.496170975916 L401.84684220497604,6566.213494557869 L405.49279121818233,6578.497906604369 L407.5379112949198,6591.147697409232 L407.9486216200688,6603.955157757166 L406.718178341445,6616.709989503338 L403.86678530366606,6629.202758663103 L399.4412623015813,6641.228334312239 L393.5142763005347,6652.589256831053 L386.183148246803,6663.098980185873 L377.5682550603487,6672.584935009772 L367.81105304912165,6680.891362186796 L357.07175520039385,6687.881870412339 L345.52670048793743,6693.4416757346025 L333.36545839095083,6697.479486303903 L320.7877161684507,6699.929001382325 L308.00000000000006,6700.75 L308,6600.75 Z",
          "type": "path"
         },
         {
          "fillcolor": "red",
          "opacity": 0.5,
          "path": "M 308.00000000000006,6700.75 L308.00000000000006,6700.75 L308.00000000000006,6700.75 L308.00000000000006,6700.75 L308.00000000000006,6700.75 L308.00000000000006,6700.75 L308.00000000000006,6700.75 L308.00000000000006,6700.75 L308.00000000000006,6700.75 L308.00000000000006,6700.75 L308.00000000000006,6700.75 L308.00000000000006,6700.75 L308.00000000000006,6700.75 L308.00000000000006,6700.75 L308.00000000000006,6700.75 L308.00000000000006,6700.75 L308.00000000000006,6700.75 L308.00000000000006,6700.75 L308.00000000000006,6700.75 L308.00000000000006,6700.75 L308.00000000000006,6700.75 L308.00000000000006,6700.75 L308.00000000000006,6700.75 L308.00000000000006,6700.75 L308.00000000000006,6700.75 L308.00000000000006,6700.75 L308.00000000000006,6700.75 L308.00000000000006,6700.75 L308.00000000000006,6700.75 L308.00000000000006,6700.75 L308.00000000000006,6700.75 L308.00000000000006,6700.75 L308.00000000000006,6700.75 L308.00000000000006,6700.75 L308.00000000000006,6700.75 L308.00000000000006,6700.75 L308.00000000000006,6700.75 L308.00000000000006,6700.75 L308.00000000000006,6700.75 L308.00000000000006,6700.75 L308.00000000000006,6700.75 L308.00000000000006,6700.75 L308.00000000000006,6700.75 L308.00000000000006,6700.75 L308.00000000000006,6700.75 L308.00000000000006,6700.75 L308.00000000000006,6700.75 L308.00000000000006,6700.75 L308.00000000000006,6700.75 L308.00000000000006,6700.75 L308,6600.75 Z",
          "type": "path"
         },
         {
          "fillcolor": "blue",
          "opacity": 0.5,
          "path": "M 297.0,3847.75 L291.4764762284582,3847.597336895609 L285.9698172226392,3847.139813702904 L280.4968362557161,3846.378827360105 L275.0742437729826,3845.3167013579605 L269.71859637048385,3843.9566786455257 L264.44624624338974,3842.302911728587 L259.27329125845694,3840.3604499909743 L254.2155258030231,3838.1352242774683 L249.28839256060232,3835.634028785376 L244.50693536032531,3832.8645003200686 L239.88575324418628,3829.8350949778096 L235.43895589234137,3826.5550623270797 L231.18012054255715,3823.0344171672177 L227.1222505353454,3819.2839089506156 L223.2777356113565,3815.3149889618207 L219.65831408225387,3811.1397753537644 L216.27503699057223,3806.771016147865 L213.13823436798816,3802.222050310976 L210.25748369502628,3797.5067670280273 L207.6415806585007,3792.6395632946987 L205.2985122959783,3787.635299959624 L203.23543260925953,3782.5092563503204 L201.45864072133608,3777.2770836214017 L199.97356164351723,3771.9547569674983 L198.78472971144873,3766.5585268468003 L197.89577474059752,3761.1048693641537 L197.30941094347395,3755.6104359651895 L197.02742864242938,3750.092002595099 L197.05068880333306,3744.566418477276 L197.37912040681755,3739.050554668219 L198.01172066511953,3733.5612525457786 L198.94655808385346,3728.115272388014 L200.18077835937055,3722.729242199672 L201.71061309369549,3717.41960694253 L203.53139130043334,3712.20257832462 L205.63755366651515,3707.0940853016305 L208.02266952623773,3702.1097254416354 L210.67945649577157,3697.264717301627 L213.59980270818716,3692.5738539612753 L216.77479158111078,3688.0514578557754 L220.19472904138746,3683.7113370457027 L223.84917312362705,3679.566743057383 L227.72696585226117,3675.6303304225107 L231.8162673097671,3671.914118040546 L236.10459178703883,3668.4294524818642 L240.57884590552976,3665.186973343705 L245.22536859476858,3662.1965807646916 L250.02997280318792,3659.467405197113 L254.97798881491136,3657.0077795292605 L297,3747.75 Z",
          "type": "path"
         },
         {
          "fillcolor": "red",
          "opacity": 0.5,
          "path": "M 254.97798881491136,3657.0077795292605 L261.70492372673203,3654.18581031792 L268.6196819641482,3651.8617444721 L275.68546652811716,3650.0479495462046 L282.86467673052954,3648.7540776795954 L290.1191082868861,3647.9870142325703 L297.4101566210225,3647.7508411458066 L304.6990222999924,3648.046815218248 L311.94691750588504,3648.8733614190273 L319.11527244583175,3650.2260812690206 L326.16594060179006,3652.097776247424 L333.0614017278631,3654.4784860988 L339.7649615149017,3657.3555418367423 L346.24094685987075,3660.713633162089 L352.4548957008502,3664.534889936936 L358.3737404074614,3668.798977280864 L363.96598375080276,3673.483203783338 L369.2018665164684,3678.56264225642 L374.05352586869446,3684.010262385209 L378.4951436228953,3689.797074570099 L382.5030836375546,3695.8922841954127 L386.05601759433955,3702.263455503449 L389.13503849709525,3708.8766842019004 L391.7237612857341,3715.6967778860962 L393.8084100296011,3722.687443315962 L395.3778912363138,3729.8114795510887 L396.4238528859638,3737.0309759161464 L396.94072887652703,3744.3075137431633 L396.92576864396693,3751.6023708170933 L396.3790517994057,3758.876727436719 L395.3034877054725,3766.091872994327 L393.7047999940827,3773.2094119748367 L391.5914961080371,3780.1914682781653 L388.97482202852575,3787.0008867775114 L385.8687024294552,3793.6014310409714 L382.2896665770686,3799.9579761643035 L378.25676036918526,3806.03669568868 L373.79144498214356,3811.805241608743 L368.9174826648003,3817.2329165130404 L363.6608102873348,3822.290836940807 L358.0494013177703,3826.9520870857696 L352.11311696070584,3831.1918620290535 L345.88354725042814,3834.987599738961 L339.39384294402737,3838.3191011351946 L332.6785391091011,3841.168637578592 L325.77337134482747,3843.5210452143688 L318.7150856143894,3845.36380566682 L311.541242700731,3846.6871126560627 L304.2900183262367,3847.483924182312 L297.00000000000006,3847.75 L297,3747.75 Z",
          "type": "path"
         },
         {
          "fillcolor": "blue",
          "opacity": 0.5,
          "path": "M 90.0,1905.5 L77.21228383154941,1904.6790013823247 L64.63454160904928,1902.2294863039028 L52.47329951206259,1898.191675734602 L40.92824479960624,1892.631870412339 L30.188946950878403,1885.6413621867957 L20.431744939651367,1877.3349350097728 L11.816851753197028,1867.8489801858734 L4.485723699465396,1857.3392568310526 L-1.441262301581233,1845.9783343122394 L-5.866785303666063,1833.9527586631032 L-8.718178341445011,1821.459989503338 L-9.948621620068792,1808.7051577571656 L-9.537911294919823,1795.8976974092318 L-7.4927912181823615,1783.2479066043686 L-3.846842204976042,1770.9634945578694 L1.3400693626999782,1759.2461709759166 L7.982774540304391,1748.288333987783 L15.972200292468429,1738.2699109738683 L25.177160469221093,1729.3554041630866 L35.446509878945086,1721.691189510816 L46.61162608824418,1715.403113209758 L58.48917819763787,1710.5944252989332 L70.88413712986274,1707.3440843008934 L83.59297800192871,1705.7054607249663 L96.40702199807124,1705.7054607249663 L109.11586287013714,1707.3440843008934 L121.51082180236202,1710.5944252989332 L133.3883739117558,1715.403113209758 L144.5534901210548,1721.691189510816 L154.82283953077882,1729.3554041630866 L164.02779970753156,1738.2699109738683 L172.01722545969557,1748.288333987783 L178.6599306373,1759.2461709759164 L183.84684220497604,1770.9634945578691 L187.49279121818233,1783.2479066043686 L189.5379112949198,1795.8976974092318 L189.9486216200688,1808.7051577571656 L188.71817834144503,1821.4599895033377 L185.86678530366606,1833.9527586631032 L181.44126230158128,1845.9783343122392 L175.51427630053465,1857.3392568310524 L168.183148246803,1867.8489801858734 L159.5682550603487,1877.3349350097726 L149.81105304912163,1885.6413621867957 L139.07175520039388,1892.631870412339 L127.52670048793746,1898.191675734602 L115.36545839095085,1902.2294863039028 L102.78771616845067,1904.6790013823247 L90.00000000000003,1905.5 L90,1805.5 Z",
          "type": "path"
         },
         {
          "fillcolor": "red",
          "opacity": 0.5,
          "path": "M 90.00000000000003,1905.5 L90.00000000000003,1905.5 L90.00000000000003,1905.5 L90.00000000000003,1905.5 L90.00000000000003,1905.5 L90.00000000000003,1905.5 L90.00000000000003,1905.5 L90.00000000000003,1905.5 L90.00000000000003,1905.5 L90.00000000000003,1905.5 L90.00000000000003,1905.5 L90.00000000000003,1905.5 L90.00000000000003,1905.5 L90.00000000000003,1905.5 L90.00000000000003,1905.5 L90.00000000000003,1905.5 L90.00000000000003,1905.5 L90.00000000000003,1905.5 L90.00000000000003,1905.5 L90.00000000000003,1905.5 L90.00000000000003,1905.5 L90.00000000000003,1905.5 L90.00000000000003,1905.5 L90.00000000000003,1905.5 L90.00000000000003,1905.5 L90.00000000000003,1905.5 L90.00000000000003,1905.5 L90.00000000000003,1905.5 L90.00000000000003,1905.5 L90.00000000000003,1905.5 L90.00000000000003,1905.5 L90.00000000000003,1905.5 L90.00000000000003,1905.5 L90.00000000000003,1905.5 L90.00000000000003,1905.5 L90.00000000000003,1905.5 L90.00000000000003,1905.5 L90.00000000000003,1905.5 L90.00000000000003,1905.5 L90.00000000000003,1905.5 L90.00000000000003,1905.5 L90.00000000000003,1905.5 L90.00000000000003,1905.5 L90.00000000000003,1905.5 L90.00000000000003,1905.5 L90.00000000000003,1905.5 L90.00000000000003,1905.5 L90.00000000000003,1905.5 L90.00000000000003,1905.5 L90.00000000000003,1905.5 L90,1805.5 Z",
          "type": "path"
         },
         {
          "fillcolor": "blue",
          "opacity": 0.5,
          "path": "M 90.0,1045.0 L82.59803126452219,1044.725678031483 L75.23667298173271,1043.90421717678 L67.95631279753349,1042.540124331066 L60.7968939666693,1040.640883507034 L53.797696206482634,1038.2169147743148 L46.99712019112574,1035.2815170903962 L40.43247686859024,1031.8507953366989 L34.13978275645316,1027.9435719601208 L28.153562339436867,1023.5812837048243 L22.506658652916727,1018.7878640008375 L17.23005309159909,1013.5896116547434 L12.352695431977224,1008.0150465628703 L7.901345001138168,1002.0947532386108 L3.90042386333684,995.8612130123431 L0.3718828298213168,989.3486258245813 L-2.664918972962255,982.592722590075 L-5.1933203160431844,975.6305691623123 L-7.199449278748787,968.5003629739615 L-8.672299356156074,961.2412234689731 L-9.603789845613747,953.892977476122 L-9.988810181027347,946.4959407015264 L-9.82524797167028,939.0906965389702 L-9.114000591687471,931.7178734115739 L-7.858970256706513,924.4179218664142 L-6.067042614568194,917.23089264505 L-3.7480489676371604,910.1962169475572 L-0.9147123339574961,903.3524900956401 L2.4174223568143276,896.7372597817389 L6.2300735497236275,890.3868200658917 L10.502323365160237,884.3360122505744 L15.210732363536764,878.6180337260075 L20.32946814435293,873.2642558346868 L25.830447074094465,868.3040517544152 L31.68348836538575,863.7646353441439 L37.85647966205014,859.6709118367844 L44.31555322160481,856.0453411981589 L51.025271728576676,852.9078149017588 L57.948822719185195,850.2755467953824 L65.04822055069292,848.1629786584018 L72.28451480733138,846.5817009678162 L79.61800399939557,845.5403893078028 L87.0084533830602,845.0447567716496 L94.41531570586221,845.0975226172166 L101.79795366674301,845.6983973478908 L109.11586287013722,846.8440843008934 L116.3288940508827,848.5282977342196 L123.3974733507298,850.7417973129802 L130.28281943791566,853.4724388059407 L136.94715627858903,856.7052407141073 L90,945.0 Z",
          "type": "path"
         },
         {
          "fillcolor": "red",
          "opacity": 0.5,
          "path": "M 136.94715627858903,856.7052407141073 L141.656382788571,859.375131432506 L146.21422959327782,862.2959469479624 L150.60733986304527,865.459127772413 L154.82283953077882,868.8554041630865 L158.84837501957583,872.4748232876069 L162.67214944504423,876.3067783908983 L166.2829571862266,880.3400398784199 L169.67021672381864,884.5627882246396 L172.82400164945005,888.9626486103073 L175.73506975515403,893.5267271870257 L178.3948901177787,898.2416488628413 L180.79566809896875,903.0935964981256 L182.9303681874552,908.0683513968844 L184.79273461671318,913.1513349748315 L186.37730969756745,918.3276514821216 L187.67944981202203,923.582131655539 L188.69533902144337,928.8993771722222 L189.4220002492184,934.2638057746511 L189.85730400511656,939.6596969346551 L189.9999746257887,945.0712379226275 L189.84959401311517,950.482570146936 L189.40660285944801,955.877835627733 L188.6722993561561,961.2412234689731 L187.64883538925824,966.55701619245 L186.3392102332934,971.8096357980726 L184.74726176190714,976.9836894153981 L182.87765520091284,982.0640144126395 L180.73586945678653,987.0357228309565 L178.32818106065946,991.8842450138142 L175.66164577486202,996.5953723035512 L172.74407791591966,1001.1552986800375 L169.58402745459617,1005.5506612193961 L166.1907549600927,1009.7685792542272 L162.57420446182823,1013.7966921205718 L158.7449743083318,1017.6231953809993 L154.71428610864336,1021.2368754176655 L150.49395184724148,1024.6271422939667 L146.09633926886877,1027.7840607884873 L141.53433563469406,1030.6983795102958 L136.82130995602455,1033.3615580102676 L131.97107381624446,1035.7657918089815 L126.9978408957879,1037.9040352678503 L121.9161853187636,1039.7700222364558 L116.74099894329316,1041.358284415585 L111.48744772072592,1042.6641673821523 L106.17092725162064,1043.6838442290468 L100.80701766873655,1044.4143267799345 L95.41143797925021,1044.8534743461476 L90.00000000000003,1045.0 L90,945.0 Z",
          "type": "path"
         },
         {
          "fillcolor": "blue",
          "opacity": 0.5,
          "path": "M 51.00000000000001,372.0 L42.46185657043716,371.6348338021207 L33.98606996833675,370.5420021355243 L25.634541609049283,368.72948630390295 L17.46826540972357,366.21052369755336 L9.546882330970469,363.0035111164267 L1.9282447996062402,359.13187041233897 L-5.332005806362204,354.6238774315995 L-12.180845524746132,349.5124555073452 L-18.568255060348633,343.8349350097728 L-24.44758509208144,337.6327807103518 L-29.775896968069233,330.95128895116596 L-34.514276300534604,323.8392568310525 L-38.628117170178655,316.34862582458135 L-42.08737486442044,308.5341024366395 L-44.86678530366606,300.4527586631032 L-46.94604955306667,292.16361517556334 L-48.30998207221546,283.7272102742402 L-48.94862162006879,275.2051577571655 L-48.85730400511656,266.65969693465513 L-48.03669614948382,258.1532380754626 L-46.49279121818236,249.74790660436858 L-44.23686484908522,241.5050893800773 L-41.28539280329038,233.48498636710093 L-37.65993063730002,225.7461709759165 L-33.386956275808345,218.34516228237374 L-28.49767663483979,211.3360122505745 L-23.027799707531557,204.76991097386832 L-17.017273777091944,198.69481281701735 L-10.509995661546434,193.15508618993528 L-3.5534901210548355,188.19118951081592 L3.801437230807643,183.83937572519912 L11.501070976906163,180.13142753896415 L19.48917819763787,177.09442529893317 L27.707419158162153,174.75054921632488 L36.095773382382475,173.11691737748714 L44.592978001928714,172.20546072496637 L53.13697517873007,172.0228359219692 L61.665365333512014,172.57037673659465 L70.11586287013722,173.84408430089348 L78.42675106749303,175.83465631589638 L86.53733281669886,178.52755498931688 L94.38837391175579,181.9031132097581 L101.92253565614229,185.93667818199836 L109.08479362589026,190.5987914743415 L115.82283953077881,195.85540416308652 L122.08746323872349,201.668125502848 L127.83291217331275,207.99450330660648 L133.01722545969557,214.788333987783 L137.60254037844385,221.99999999999994 L51,272.0 Z",
          "type": "path"
         },
         {
          "fillcolor": "red",
          "opacity": 0.5,
          "path": "M 137.60254037844385,221.99999999999994 L139.6599306373,225.74617097591647 L141.55536888925843,229.57683221009623 L143.28539280329036,233.4849863671009 L144.84684220497604,237.46349455786918 L146.2368648490852,241.50508938007727 L147.45292162967422,245.60238819324894 L148.49279121818233,249.74790660436852 L149.35457412105526,253.93407213936004 L150.03669614948382,258.1532380754626 L150.5379112949198,262.39769740923174 L150.85730400511656,266.6596969346551 L150.9942908565361,270.9314514056626 L150.9486216200688,275.20515775716547 L150.720379718118,279.47300935864234 L150.30998207221546,283.7272102742401 L149.71817834144503,287.9599895033379 L148.9460495530667,292.1636151755633 L147.9950061278417,296.3304086743308 L146.86678530366606,300.45275866310317 L145.56344796221867,304.5231349887547 L144.08737486442044,308.53410243663944 L142.44126230158125,312.4783343122394 L140.6281171701787,316.3486258245813 L138.65125147926477,320.1379072469783 L136.51427630053465,323.83925683105247 L134.22109517210737,327.4459134504523 L131.77589696806928,330.9512889511659 L129.183148246803,334.34898018587336 L126.44758509208144,337.6327807103518 L123.57420446182822,340.79669212057183 L120.56825506034869,343.8349350097727 L117.43522775070464,346.7419595255035 L114.18084552474613,349.5124555073452 L110.81105304912163,352.1413621867956 L107.33200580636228,354.62387743159945 L103.75005885087653,356.9554665176354 L100.0717552003938,359.1318704123389 L96.30381388406175,361.1491135545289 L92.45311766902955,363.0035111164267 L88.52670048793746,364.69167573460214 L84.53173459027644,366.2105236975533 L80.47551744109049,367.55728057861404 L76.36545839095075,368.72948630390295 L72.20906514155374,369.72499964605436 L68.01393003166328,370.5420021355243 L63.78771616845058,371.1790013823246 L59.53814342956287,371.6348338021207 L55.27297436149175,371.9086667417098 L51.00000000000003,372.0 L51,272.0 Z",
          "type": "path"
         },
         {
          "fillcolor": "blue",
          "opacity": 0.5,
          "path": "M 102.0,808.5 L90.33521530969047,807.817333825112 L78.82969369828947,805.7786559625745 L67.64052377436795,802.4118011407525 L56.92047489456864,797.7627381176983 L46.81591135415922,791.8949420548272 L37.46479402796065,784.8885278700045 L28.994796745892998,776.8391564026549 L21.521563120873523,767.8567283253757 L15.147127629158916,758.0638836345013 L9.958522500633222,747.5943272065598 L6.026589439618306,736.5910032823397 L3.4050124001678057,725.2041438029291 L2.1295846216755905,713.589217244424 L2.217719932199472,701.9048059565305 L3.668214991833267,690.3104409864429 L6.46126572229592,678.9644239498491 L10.558737698418753,668.0216656877606 L15.904686809788728,657.6315712186878 L22.426123083785768,647.935999863589 L30.034007241290936,639.0673283946712 L38.624466378768396,631.1466436524947 L48.08021217861974,624.2820893081683 L58.27214228452704,618.5673893428232 L69.0611029776878,614.0805684037787 L80.29978908755362,610.8828865087922 L91.83475519697674,609.0180026432189 L103.50851068212948,608.5113786697611 L115.16166998293927,609.3699316894204 L126.63512874570121,611.5819396000791 L137.7722361262891,615.1172011421535 L148.4209335948065,619.9274482461606 L158.43583103988584,625.947005052285 L167.68019182691262,633.0936846041396 L176.02779970753156,641.2699109738683 L183.36468209091595,650.3640514978539 L189.59066614842067,660.2519409335887 L194.6207465056165,670.7985767278961 L198.386245848167,681.8599622504638 L200.83575259541766,693.2850728264184 L201.93582283933836,704.9179177250687 L201.6714369650186,716.5996699518143 L200.04620471832868,728.1708347644828 L197.08231592089166,739.4734273066407 L192.82023750527034,750.3531296259466 L187.31816100684603,760.6613976270758 L180.65120805596115,770.2574891923069 L172.91040471799846,779.0103857791862 L164.2014386850637,786.8005812590702 L154.64321628773564,793.5217135729614 L102,708.5 Z",
          "type": "path"
         },
         {
          "fillcolor": "red",
          "opacity": 0.5,
          "path": "M 154.64321628773564,793.5217135729614 L153.67790964362823,794.1118780010402 L152.70598765362007,794.6910831587057 L151.72757473451142,795.2592549012702 L150.7427961340131,795.8163204964458 L149.75177791471418,796.3622086336544 L148.75464693794393,796.896849433157 L147.75153084753234,797.4201744549981 L146.7425580534707,797.9321167077678 L145.72785771547296,798.4326106571768 L144.70755972644264,798.9215922344455 L143.68179469584442,799.3989988445059 L142.65069393298495,799.864769374014 L141.61438943020414,800.3188441991737 L140.57301384597798,800.7611651933682 L139.52670048793746,801.1916757346022 L138.47558329580315,801.6103207127487 L137.41979682423994,802.0170465366051 L136.35947622563214,802.4118011407523 L135.29475723278256,802.7945339922207 L134.2257761415376,803.165196096958 L133.15266979333916,803.5237400061014 L132.0755755577082,803.8701198220522 L130.99463131465916,804.2042912043498 L129.90997543705032,804.5262113753492 L128.8217467728705,804.8358391256961 L127.73008462746455,805.1331348196027 L126.63512874570134,805.4180603999209 L125.53701929408433,805.6905793930148 L124.43589684280886,805.9506569134289 L123.33190234776795,806.1982596683548 L122.22517713250777,806.4333559618922 L121.11586287013728,806.6559156991066 L120.00410156519186,806.8659103898818 L118.89003553545591,807.0633131525673 L117.77380739374381,807.2480987174188 L116.65556002964435,807.4202434298334 L115.53543659122943,807.5797252533777 L114.4135804667289,807.7265237726085 L113.29013526617605,807.8606201956865 L112.16524480302327,807.9819973567811 L111.03905307573257,808.0906397182691 L109.9117042493425,808.1865333727226 L108.78334263701278,808.2696660446895 L107.6541126815513,808.3400270922656 L106.52415893692329,808.3976075084556 L105.39362604974697,808.4423999223277 L104.26265874077752,808.4743985999555 L103.13140178638061,808.4935994451533 L102.00000000000003,808.5 L102,708.5 Z",
          "type": "path"
         },
         {
          "fillcolor": "blue",
          "opacity": 0.5,
          "path": "M 11.000000000000005,295.0 L-1.7877161684505882,294.1790013823246 L-14.365458390950717,291.72948630390295 L-26.52670048793741,287.6916757346022 L-38.07175520039376,282.13187041233897 L-48.8110530491216,275.1413621867957 L-58.56825506034863,266.8349350097728 L-67.18314824680297,257.34898018587336 L-74.5142763005346,246.83925683105252 L-80.44126230158123,235.47833431223938 L-84.86678530366606,223.45275866310328 L-87.71817834144501,210.95998950333797 L-88.94862162006879,198.20515775716552 L-88.53791129491982,185.39769740923188 L-86.49279121818236,172.74790660436858 L-82.84684220497604,160.46349455786924 L-77.65993063730002,148.7461709759165 L-71.01722545969561,137.78833398778306 L-63.02779970753157,127.76991097386835 L-53.82283953077891,118.85540416308662 L-43.553490121054914,111.19118951081596 L-32.38837391175582,104.90311320975809 L-20.51082180236213,100.09442529893316 L-8.115862870137263,96.84408430089347 L4.592978001928715,95.20546072496637 L17.407021998071247,95.20546072496637 L30.115862870137136,96.84408430089344 L42.51082180236202,100.09442529893312 L54.38837391175579,104.90311320975808 L65.5534901210548,111.19118951081589 L75.82283953077881,118.85540416308653 L85.02779970753156,127.76991097386832 L93.01722545969557,137.788333987783 L99.6599306373,148.74617097591647 L104.84684220497603,160.46349455786918 L108.49279121818235,172.74790660436852 L110.53791129491981,185.39769740923174 L110.94862162006879,198.20515775716547 L109.71817834144503,210.95998950333782 L106.86678530366608,223.4527586631032 L102.44126230158129,235.4783343122393 L96.51427630053465,246.83925683105247 L89.18314824680299,257.34898018587336 L80.56825506034869,266.8349350097727 L70.81105304912163,275.1413621867956 L60.07175520039387,282.1318704123389 L48.52670048793746,287.69167573460214 L36.36545839095085,291.72948630390295 L23.787716168450668,294.1790013823246 L11.00000000000003,295.0 L11,195.0 Z",
          "type": "path"
         },
         {
          "fillcolor": "red",
          "opacity": 0.5,
          "path": "M 11.00000000000003,295.0 L11.00000000000003,295.0 L11.00000000000003,295.0 L11.00000000000003,295.0 L11.00000000000003,295.0 L11.00000000000003,295.0 L11.00000000000003,295.0 L11.00000000000003,295.0 L11.00000000000003,295.0 L11.00000000000003,295.0 L11.00000000000003,295.0 L11.00000000000003,295.0 L11.00000000000003,295.0 L11.00000000000003,295.0 L11.00000000000003,295.0 L11.00000000000003,295.0 L11.00000000000003,295.0 L11.00000000000003,295.0 L11.00000000000003,295.0 L11.00000000000003,295.0 L11.00000000000003,295.0 L11.00000000000003,295.0 L11.00000000000003,295.0 L11.00000000000003,295.0 L11.00000000000003,295.0 L11.00000000000003,295.0 L11.00000000000003,295.0 L11.00000000000003,295.0 L11.00000000000003,295.0 L11.00000000000003,295.0 L11.00000000000003,295.0 L11.00000000000003,295.0 L11.00000000000003,295.0 L11.00000000000003,295.0 L11.00000000000003,295.0 L11.00000000000003,295.0 L11.00000000000003,295.0 L11.00000000000003,295.0 L11.00000000000003,295.0 L11.00000000000003,295.0 L11.00000000000003,295.0 L11.00000000000003,295.0 L11.00000000000003,295.0 L11.00000000000003,295.0 L11.00000000000003,295.0 L11.00000000000003,295.0 L11.00000000000003,295.0 L11.00000000000003,295.0 L11.00000000000003,295.0 L11.00000000000003,295.0 L11,195.0 Z",
          "type": "path"
         },
         {
          "fillcolor": "blue",
          "opacity": 0.5,
          "path": "M 6.000000000000006,217.5 L-6.787716168450588,216.6790013823246 L-19.365458390950717,214.22948630390295 L-31.52670048793741,210.19167573460217 L-43.07175520039376,204.63187041233897 L-53.8110530491216,197.64136218679567 L-63.56825506034863,189.33493500977278 L-72.18314824680297,179.84898018587336 L-79.5142763005346,169.33925683105252 L-85.44126230158123,157.97833431223938 L-89.86678530366606,145.95275866310328 L-92.71817834144501,133.45998950333797 L-93.94862162006879,120.70515775716552 L-93.53791129491982,107.89769740923188 L-91.49279121818236,95.24790660436858 L-87.84684220497604,82.96349455786925 L-82.65993063730002,71.2461709759165 L-76.01722545969561,60.28833398778307 L-68.02779970753157,50.26991097386835 L-58.82283953077891,41.35540416308662 L-48.553490121054914,33.69118951081596 L-37.38837391175582,27.40311320975809 L-25.51082180236213,22.59442529893316 L-13.115862870137263,19.34408430089347 L-0.4070219980712846,17.705460724966372 L12.407021998071247,17.705460724966372 L25.115862870137136,19.344084300893442 L37.51082180236202,22.594425298933118 L49.38837391175579,27.403113209758075 L60.55349012105481,33.69118951081589 L70.82283953077881,41.35540416308653 L80.02779970753156,50.26991097386832 L88.01722545969557,60.288333987783 L94.6599306373,71.24617097591647 L99.84684220497603,82.96349455786918 L103.49279121818235,95.24790660436854 L105.53791129491981,107.89769740923175 L105.94862162006879,120.70515775716548 L104.71817834144503,133.45998950333782 L101.86678530366608,145.9527586631032 L97.44126230158129,157.9783343122393 L91.51427630053465,169.33925683105247 L84.18314824680299,179.84898018587333 L75.56825506034869,189.33493500977272 L65.81105304912163,197.64136218679565 L55.07175520039387,204.63187041233888 L43.52670048793746,210.19167573460214 L31.365458390950845,214.22948630390292 L18.787716168450668,216.6790013823246 L6.00000000000003,217.5 L6,117.5 Z",
          "type": "path"
         },
         {
          "fillcolor": "red",
          "opacity": 0.5,
          "path": "M 6.00000000000003,217.5 L6.00000000000003,217.5 L6.00000000000003,217.5 L6.00000000000003,217.5 L6.00000000000003,217.5 L6.00000000000003,217.5 L6.00000000000003,217.5 L6.00000000000003,217.5 L6.00000000000003,217.5 L6.00000000000003,217.5 L6.00000000000003,217.5 L6.00000000000003,217.5 L6.00000000000003,217.5 L6.00000000000003,217.5 L6.00000000000003,217.5 L6.00000000000003,217.5 L6.00000000000003,217.5 L6.00000000000003,217.5 L6.00000000000003,217.5 L6.00000000000003,217.5 L6.00000000000003,217.5 L6.00000000000003,217.5 L6.00000000000003,217.5 L6.00000000000003,217.5 L6.00000000000003,217.5 L6.00000000000003,217.5 L6.00000000000003,217.5 L6.00000000000003,217.5 L6.00000000000003,217.5 L6.00000000000003,217.5 L6.00000000000003,217.5 L6.00000000000003,217.5 L6.00000000000003,217.5 L6.00000000000003,217.5 L6.00000000000003,217.5 L6.00000000000003,217.5 L6.00000000000003,217.5 L6.00000000000003,217.5 L6.00000000000003,217.5 L6.00000000000003,217.5 L6.00000000000003,217.5 L6.00000000000003,217.5 L6.00000000000003,217.5 L6.00000000000003,217.5 L6.00000000000003,217.5 L6.00000000000003,217.5 L6.00000000000003,217.5 L6.00000000000003,217.5 L6.00000000000003,217.5 L6.00000000000003,217.5 L6,117.5 Z",
          "type": "path"
         },
         {
          "fillcolor": "blue",
          "opacity": 0.5,
          "path": "M 209.0,8453.5 L196.2122838315494,8452.679001382325 L183.63454160904928,8450.229486303902 L171.4732995120626,8446.191675734603 L159.92824479960623,8440.631870412339 L149.1889469508784,8433.641362186796 L139.43174493965137,8425.334935009772 L130.81685175319703,8415.848980185874 L123.4857236994654,8405.339256831052 L117.55873769841877,8393.97833431224 L113.13321469633394,8381.952758663103 L110.28182165855499,8369.459989503337 L109.05137837993121,8356.705157757166 L109.46208870508018,8343.897697409231 L111.50720878181764,8331.247906604369 L115.15315779502396,8318.96349455787 L120.34006936269998,8307.246170975917 L126.98277454030439,8296.288333987783 L134.97220029246841,8286.269910973868 L144.1771604692211,8277.355404163087 L154.44650987894508,8269.691189510815 L165.61162608824418,8263.403113209759 L177.48917819763787,8258.594425298934 L189.88413712986272,8255.344084300894 L202.5929780019287,8253.705460724967 L215.40702199807126,8253.705460724967 L228.11586287013714,8255.344084300894 L240.51082180236202,8258.594425298934 L252.3883739117558,8263.403113209759 L263.5534901210548,8269.691189510815 L273.8228395307788,8277.355404163087 L283.0277997075316,8286.269910973868 L291.01722545969557,8296.288333987783 L297.6599306373,8307.246170975917 L302.84684220497604,8318.96349455787 L306.49279121818233,8331.247906604369 L308.5379112949198,8343.897697409231 L308.9486216200688,8356.705157757166 L307.718178341445,8369.459989503337 L304.86678530366606,8381.952758663103 L300.4412623015813,8393.97833431224 L294.5142763005347,8405.339256831052 L287.183148246803,8415.848980185874 L278.5682550603487,8425.334935009772 L268.81105304912165,8433.641362186796 L258.07175520039385,8440.631870412339 L246.52670048793746,8446.191675734603 L234.36545839095083,8450.229486303902 L221.78771616845066,8452.679001382325 L209.00000000000003,8453.5 L209,8353.5 Z",
          "type": "path"
         },
         {
          "fillcolor": "red",
          "opacity": 0.5,
          "path": "M 209.00000000000003,8453.5 L209.00000000000003,8453.5 L209.00000000000003,8453.5 L209.00000000000003,8453.5 L209.00000000000003,8453.5 L209.00000000000003,8453.5 L209.00000000000003,8453.5 L209.00000000000003,8453.5 L209.00000000000003,8453.5 L209.00000000000003,8453.5 L209.00000000000003,8453.5 L209.00000000000003,8453.5 L209.00000000000003,8453.5 L209.00000000000003,8453.5 L209.00000000000003,8453.5 L209.00000000000003,8453.5 L209.00000000000003,8453.5 L209.00000000000003,8453.5 L209.00000000000003,8453.5 L209.00000000000003,8453.5 L209.00000000000003,8453.5 L209.00000000000003,8453.5 L209.00000000000003,8453.5 L209.00000000000003,8453.5 L209.00000000000003,8453.5 L209.00000000000003,8453.5 L209.00000000000003,8453.5 L209.00000000000003,8453.5 L209.00000000000003,8453.5 L209.00000000000003,8453.5 L209.00000000000003,8453.5 L209.00000000000003,8453.5 L209.00000000000003,8453.5 L209.00000000000003,8453.5 L209.00000000000003,8453.5 L209.00000000000003,8453.5 L209.00000000000003,8453.5 L209.00000000000003,8453.5 L209.00000000000003,8453.5 L209.00000000000003,8453.5 L209.00000000000003,8453.5 L209.00000000000003,8453.5 L209.00000000000003,8453.5 L209.00000000000003,8453.5 L209.00000000000003,8453.5 L209.00000000000003,8453.5 L209.00000000000003,8453.5 L209.00000000000003,8453.5 L209.00000000000003,8453.5 L209.00000000000003,8453.5 L209,8353.5 Z",
          "type": "path"
         },
         {
          "fillcolor": "blue",
          "opacity": 0.5,
          "path": "M 385.0,456.5 L372.2122838315494,455.6790013823246 L359.6345416090493,453.22948630390295 L347.47329951206257,449.1916757346022 L335.92824479960626,443.63187041233897 L325.1889469508784,436.6413621867957 L315.43174493965137,428.3349350097728 L306.81685175319706,418.84898018587336 L299.4857236994654,408.3392568310525 L293.5587376984188,396.9783343122394 L289.13321469633394,384.9527586631033 L286.281821658555,372.45998950333797 L285.0513783799312,359.7051577571655 L285.4620887050802,346.89769740923185 L287.50720878181767,334.24790660436855 L291.15315779502396,321.96349455786924 L296.3400693627,310.24617097591647 L302.9827745403044,299.28833398778306 L310.9722002924684,289.2699109738684 L320.1771604692211,280.35540416308663 L330.4465098789451,272.69118951081595 L341.6116260882442,266.4031132097581 L353.4891781976379,261.5944252989332 L365.8841371298627,258.3440843008935 L378.5929780019287,256.7054607249664 L391.40702199807123,256.7054607249664 L404.1158628701371,258.3440843008934 L416.510821802362,261.5944252989331 L428.3883739117558,266.4031132097581 L439.5534901210548,272.6911895108159 L449.8228395307788,280.3554041630865 L459.0277997075316,289.2699109738683 L467.01722545969557,299.288333987783 L473.6599306373,310.24617097591647 L478.84684220497604,321.9634945578692 L482.49279121818233,334.24790660436855 L484.5379112949198,346.89769740923174 L484.9486216200688,359.70515775716547 L483.718178341445,372.45998950333785 L480.86678530366606,384.95275866310317 L476.4412623015813,396.97833431223927 L470.5142763005347,408.33925683105247 L463.183148246803,418.84898018587336 L454.5682550603487,428.3349350097727 L444.81105304912165,436.6413621867956 L434.07175520039385,443.6318704123389 L422.52670048793743,449.19167573460214 L410.36545839095083,453.22948630390295 L397.7877161684507,455.6790013823246 L385.00000000000006,456.5 L385,356.5 Z",
          "type": "path"
         },
         {
          "fillcolor": "red",
          "opacity": 0.5,
          "path": "M 385.00000000000006,456.5 L385.00000000000006,456.5 L385.00000000000006,456.5 L385.00000000000006,456.5 L385.00000000000006,456.5 L385.00000000000006,456.5 L385.00000000000006,456.5 L385.00000000000006,456.5 L385.00000000000006,456.5 L385.00000000000006,456.5 L385.00000000000006,456.5 L385.00000000000006,456.5 L385.00000000000006,456.5 L385.00000000000006,456.5 L385.00000000000006,456.5 L385.00000000000006,456.5 L385.00000000000006,456.5 L385.00000000000006,456.5 L385.00000000000006,456.5 L385.00000000000006,456.5 L385.00000000000006,456.5 L385.00000000000006,456.5 L385.00000000000006,456.5 L385.00000000000006,456.5 L385.00000000000006,456.5 L385.00000000000006,456.5 L385.00000000000006,456.5 L385.00000000000006,456.5 L385.00000000000006,456.5 L385.00000000000006,456.5 L385.00000000000006,456.5 L385.00000000000006,456.5 L385.00000000000006,456.5 L385.00000000000006,456.5 L385.00000000000006,456.5 L385.00000000000006,456.5 L385.00000000000006,456.5 L385.00000000000006,456.5 L385.00000000000006,456.5 L385.00000000000006,456.5 L385.00000000000006,456.5 L385.00000000000006,456.5 L385.00000000000006,456.5 L385.00000000000006,456.5 L385.00000000000006,456.5 L385.00000000000006,456.5 L385.00000000000006,456.5 L385.00000000000006,456.5 L385.00000000000006,456.5 L385.00000000000006,456.5 L385,356.5 Z",
          "type": "path"
         }
        ],
        "template": {
         "data": {
          "bar": [
           {
            "error_x": {
             "color": "#2a3f5f"
            },
            "error_y": {
             "color": "#2a3f5f"
            },
            "marker": {
             "line": {
              "color": "#E5ECF6",
              "width": 0.5
             },
             "pattern": {
              "fillmode": "overlay",
              "size": 10,
              "solidity": 0.2
             }
            },
            "type": "bar"
           }
          ],
          "barpolar": [
           {
            "marker": {
             "line": {
              "color": "#E5ECF6",
              "width": 0.5
             },
             "pattern": {
              "fillmode": "overlay",
              "size": 10,
              "solidity": 0.2
             }
            },
            "type": "barpolar"
           }
          ],
          "carpet": [
           {
            "aaxis": {
             "endlinecolor": "#2a3f5f",
             "gridcolor": "white",
             "linecolor": "white",
             "minorgridcolor": "white",
             "startlinecolor": "#2a3f5f"
            },
            "baxis": {
             "endlinecolor": "#2a3f5f",
             "gridcolor": "white",
             "linecolor": "white",
             "minorgridcolor": "white",
             "startlinecolor": "#2a3f5f"
            },
            "type": "carpet"
           }
          ],
          "choropleth": [
           {
            "colorbar": {
             "outlinewidth": 0,
             "ticks": ""
            },
            "type": "choropleth"
           }
          ],
          "contour": [
           {
            "colorbar": {
             "outlinewidth": 0,
             "ticks": ""
            },
            "colorscale": [
             [
              0,
              "#0d0887"
             ],
             [
              0.1111111111111111,
              "#46039f"
             ],
             [
              0.2222222222222222,
              "#7201a8"
             ],
             [
              0.3333333333333333,
              "#9c179e"
             ],
             [
              0.4444444444444444,
              "#bd3786"
             ],
             [
              0.5555555555555556,
              "#d8576b"
             ],
             [
              0.6666666666666666,
              "#ed7953"
             ],
             [
              0.7777777777777778,
              "#fb9f3a"
             ],
             [
              0.8888888888888888,
              "#fdca26"
             ],
             [
              1,
              "#f0f921"
             ]
            ],
            "type": "contour"
           }
          ],
          "contourcarpet": [
           {
            "colorbar": {
             "outlinewidth": 0,
             "ticks": ""
            },
            "type": "contourcarpet"
           }
          ],
          "heatmap": [
           {
            "colorbar": {
             "outlinewidth": 0,
             "ticks": ""
            },
            "colorscale": [
             [
              0,
              "#0d0887"
             ],
             [
              0.1111111111111111,
              "#46039f"
             ],
             [
              0.2222222222222222,
              "#7201a8"
             ],
             [
              0.3333333333333333,
              "#9c179e"
             ],
             [
              0.4444444444444444,
              "#bd3786"
             ],
             [
              0.5555555555555556,
              "#d8576b"
             ],
             [
              0.6666666666666666,
              "#ed7953"
             ],
             [
              0.7777777777777778,
              "#fb9f3a"
             ],
             [
              0.8888888888888888,
              "#fdca26"
             ],
             [
              1,
              "#f0f921"
             ]
            ],
            "type": "heatmap"
           }
          ],
          "heatmapgl": [
           {
            "colorbar": {
             "outlinewidth": 0,
             "ticks": ""
            },
            "colorscale": [
             [
              0,
              "#0d0887"
             ],
             [
              0.1111111111111111,
              "#46039f"
             ],
             [
              0.2222222222222222,
              "#7201a8"
             ],
             [
              0.3333333333333333,
              "#9c179e"
             ],
             [
              0.4444444444444444,
              "#bd3786"
             ],
             [
              0.5555555555555556,
              "#d8576b"
             ],
             [
              0.6666666666666666,
              "#ed7953"
             ],
             [
              0.7777777777777778,
              "#fb9f3a"
             ],
             [
              0.8888888888888888,
              "#fdca26"
             ],
             [
              1,
              "#f0f921"
             ]
            ],
            "type": "heatmapgl"
           }
          ],
          "histogram": [
           {
            "marker": {
             "pattern": {
              "fillmode": "overlay",
              "size": 10,
              "solidity": 0.2
             }
            },
            "type": "histogram"
           }
          ],
          "histogram2d": [
           {
            "colorbar": {
             "outlinewidth": 0,
             "ticks": ""
            },
            "colorscale": [
             [
              0,
              "#0d0887"
             ],
             [
              0.1111111111111111,
              "#46039f"
             ],
             [
              0.2222222222222222,
              "#7201a8"
             ],
             [
              0.3333333333333333,
              "#9c179e"
             ],
             [
              0.4444444444444444,
              "#bd3786"
             ],
             [
              0.5555555555555556,
              "#d8576b"
             ],
             [
              0.6666666666666666,
              "#ed7953"
             ],
             [
              0.7777777777777778,
              "#fb9f3a"
             ],
             [
              0.8888888888888888,
              "#fdca26"
             ],
             [
              1,
              "#f0f921"
             ]
            ],
            "type": "histogram2d"
           }
          ],
          "histogram2dcontour": [
           {
            "colorbar": {
             "outlinewidth": 0,
             "ticks": ""
            },
            "colorscale": [
             [
              0,
              "#0d0887"
             ],
             [
              0.1111111111111111,
              "#46039f"
             ],
             [
              0.2222222222222222,
              "#7201a8"
             ],
             [
              0.3333333333333333,
              "#9c179e"
             ],
             [
              0.4444444444444444,
              "#bd3786"
             ],
             [
              0.5555555555555556,
              "#d8576b"
             ],
             [
              0.6666666666666666,
              "#ed7953"
             ],
             [
              0.7777777777777778,
              "#fb9f3a"
             ],
             [
              0.8888888888888888,
              "#fdca26"
             ],
             [
              1,
              "#f0f921"
             ]
            ],
            "type": "histogram2dcontour"
           }
          ],
          "mesh3d": [
           {
            "colorbar": {
             "outlinewidth": 0,
             "ticks": ""
            },
            "type": "mesh3d"
           }
          ],
          "parcoords": [
           {
            "line": {
             "colorbar": {
              "outlinewidth": 0,
              "ticks": ""
             }
            },
            "type": "parcoords"
           }
          ],
          "pie": [
           {
            "automargin": true,
            "type": "pie"
           }
          ],
          "scatter": [
           {
            "fillpattern": {
             "fillmode": "overlay",
             "size": 10,
             "solidity": 0.2
            },
            "type": "scatter"
           }
          ],
          "scatter3d": [
           {
            "line": {
             "colorbar": {
              "outlinewidth": 0,
              "ticks": ""
             }
            },
            "marker": {
             "colorbar": {
              "outlinewidth": 0,
              "ticks": ""
             }
            },
            "type": "scatter3d"
           }
          ],
          "scattercarpet": [
           {
            "marker": {
             "colorbar": {
              "outlinewidth": 0,
              "ticks": ""
             }
            },
            "type": "scattercarpet"
           }
          ],
          "scattergeo": [
           {
            "marker": {
             "colorbar": {
              "outlinewidth": 0,
              "ticks": ""
             }
            },
            "type": "scattergeo"
           }
          ],
          "scattergl": [
           {
            "marker": {
             "colorbar": {
              "outlinewidth": 0,
              "ticks": ""
             }
            },
            "type": "scattergl"
           }
          ],
          "scattermapbox": [
           {
            "marker": {
             "colorbar": {
              "outlinewidth": 0,
              "ticks": ""
             }
            },
            "type": "scattermapbox"
           }
          ],
          "scatterpolar": [
           {
            "marker": {
             "colorbar": {
              "outlinewidth": 0,
              "ticks": ""
             }
            },
            "type": "scatterpolar"
           }
          ],
          "scatterpolargl": [
           {
            "marker": {
             "colorbar": {
              "outlinewidth": 0,
              "ticks": ""
             }
            },
            "type": "scatterpolargl"
           }
          ],
          "scatterternary": [
           {
            "marker": {
             "colorbar": {
              "outlinewidth": 0,
              "ticks": ""
             }
            },
            "type": "scatterternary"
           }
          ],
          "surface": [
           {
            "colorbar": {
             "outlinewidth": 0,
             "ticks": ""
            },
            "colorscale": [
             [
              0,
              "#0d0887"
             ],
             [
              0.1111111111111111,
              "#46039f"
             ],
             [
              0.2222222222222222,
              "#7201a8"
             ],
             [
              0.3333333333333333,
              "#9c179e"
             ],
             [
              0.4444444444444444,
              "#bd3786"
             ],
             [
              0.5555555555555556,
              "#d8576b"
             ],
             [
              0.6666666666666666,
              "#ed7953"
             ],
             [
              0.7777777777777778,
              "#fb9f3a"
             ],
             [
              0.8888888888888888,
              "#fdca26"
             ],
             [
              1,
              "#f0f921"
             ]
            ],
            "type": "surface"
           }
          ],
          "table": [
           {
            "cells": {
             "fill": {
              "color": "#EBF0F8"
             },
             "line": {
              "color": "white"
             }
            },
            "header": {
             "fill": {
              "color": "#C8D4E3"
             },
             "line": {
              "color": "white"
             }
            },
            "type": "table"
           }
          ]
         },
         "layout": {
          "annotationdefaults": {
           "arrowcolor": "#2a3f5f",
           "arrowhead": 0,
           "arrowwidth": 1
          },
          "autotypenumbers": "strict",
          "coloraxis": {
           "colorbar": {
            "outlinewidth": 0,
            "ticks": ""
           }
          },
          "colorscale": {
           "diverging": [
            [
             0,
             "#8e0152"
            ],
            [
             0.1,
             "#c51b7d"
            ],
            [
             0.2,
             "#de77ae"
            ],
            [
             0.3,
             "#f1b6da"
            ],
            [
             0.4,
             "#fde0ef"
            ],
            [
             0.5,
             "#f7f7f7"
            ],
            [
             0.6,
             "#e6f5d0"
            ],
            [
             0.7,
             "#b8e186"
            ],
            [
             0.8,
             "#7fbc41"
            ],
            [
             0.9,
             "#4d9221"
            ],
            [
             1,
             "#276419"
            ]
           ],
           "sequential": [
            [
             0,
             "#0d0887"
            ],
            [
             0.1111111111111111,
             "#46039f"
            ],
            [
             0.2222222222222222,
             "#7201a8"
            ],
            [
             0.3333333333333333,
             "#9c179e"
            ],
            [
             0.4444444444444444,
             "#bd3786"
            ],
            [
             0.5555555555555556,
             "#d8576b"
            ],
            [
             0.6666666666666666,
             "#ed7953"
            ],
            [
             0.7777777777777778,
             "#fb9f3a"
            ],
            [
             0.8888888888888888,
             "#fdca26"
            ],
            [
             1,
             "#f0f921"
            ]
           ],
           "sequentialminus": [
            [
             0,
             "#0d0887"
            ],
            [
             0.1111111111111111,
             "#46039f"
            ],
            [
             0.2222222222222222,
             "#7201a8"
            ],
            [
             0.3333333333333333,
             "#9c179e"
            ],
            [
             0.4444444444444444,
             "#bd3786"
            ],
            [
             0.5555555555555556,
             "#d8576b"
            ],
            [
             0.6666666666666666,
             "#ed7953"
            ],
            [
             0.7777777777777778,
             "#fb9f3a"
            ],
            [
             0.8888888888888888,
             "#fdca26"
            ],
            [
             1,
             "#f0f921"
            ]
           ]
          },
          "colorway": [
           "#636efa",
           "#EF553B",
           "#00cc96",
           "#ab63fa",
           "#FFA15A",
           "#19d3f3",
           "#FF6692",
           "#B6E880",
           "#FF97FF",
           "#FECB52"
          ],
          "font": {
           "color": "#2a3f5f"
          },
          "geo": {
           "bgcolor": "white",
           "lakecolor": "white",
           "landcolor": "#E5ECF6",
           "showlakes": true,
           "showland": true,
           "subunitcolor": "white"
          },
          "hoverlabel": {
           "align": "left"
          },
          "hovermode": "closest",
          "mapbox": {
           "style": "light"
          },
          "paper_bgcolor": "white",
          "plot_bgcolor": "#E5ECF6",
          "polar": {
           "angularaxis": {
            "gridcolor": "white",
            "linecolor": "white",
            "ticks": ""
           },
           "bgcolor": "#E5ECF6",
           "radialaxis": {
            "gridcolor": "white",
            "linecolor": "white",
            "ticks": ""
           }
          },
          "scene": {
           "xaxis": {
            "backgroundcolor": "#E5ECF6",
            "gridcolor": "white",
            "gridwidth": 2,
            "linecolor": "white",
            "showbackground": true,
            "ticks": "",
            "zerolinecolor": "white"
           },
           "yaxis": {
            "backgroundcolor": "#E5ECF6",
            "gridcolor": "white",
            "gridwidth": 2,
            "linecolor": "white",
            "showbackground": true,
            "ticks": "",
            "zerolinecolor": "white"
           },
           "zaxis": {
            "backgroundcolor": "#E5ECF6",
            "gridcolor": "white",
            "gridwidth": 2,
            "linecolor": "white",
            "showbackground": true,
            "ticks": "",
            "zerolinecolor": "white"
           }
          },
          "shapedefaults": {
           "line": {
            "color": "#2a3f5f"
           }
          },
          "ternary": {
           "aaxis": {
            "gridcolor": "white",
            "linecolor": "white",
            "ticks": ""
           },
           "baxis": {
            "gridcolor": "white",
            "linecolor": "white",
            "ticks": ""
           },
           "bgcolor": "#E5ECF6",
           "caxis": {
            "gridcolor": "white",
            "linecolor": "white",
            "ticks": ""
           }
          },
          "title": {
           "x": 0.05
          },
          "xaxis": {
           "automargin": true,
           "gridcolor": "white",
           "linecolor": "white",
           "ticks": "",
           "title": {
            "standoff": 15
           },
           "zerolinecolor": "white",
           "zerolinewidth": 2
          },
          "yaxis": {
           "automargin": true,
           "gridcolor": "white",
           "linecolor": "white",
           "ticks": "",
           "title": {
            "standoff": 15
           },
           "zerolinecolor": "white",
           "zerolinewidth": 2
          }
         }
        },
        "title": {
         "text": "Title"
        },
        "width": 1000,
        "xaxis": {
         "range": [
          0,
          1300
         ],
         "title": {
          "text": "Number of Evidence Items"
         }
        },
        "yaxis": {
         "range": [
          0,
          9000
         ],
         "title": {
          "text": "Impact Score"
         }
        }
       }
      }
     },
     "metadata": {},
     "output_type": "display_data"
    }
   ],
   "source": [
    "fig = go.Figure(layout=layout)\n",
    "for ix,row in merged_not_supported_impact_df.iterrows():\n",
    "    proportion1 = 360*(row['Total Number Variants']/(row['Total Number Variants']+row['Total Number Features']))\n",
    "    proportion2 = 360*(row['Total Number Features']/(row['Total Number Variants']+row['Total Number Features']))\n",
    "    pie1 = disk_part(\n",
    "        center=[row['Sum Variants'],row['Sum Impact Score']],\n",
    "        radius = 100,\n",
    "        start_angle = 90,\n",
    "        end_angle = 90 + proportion1,\n",
    "        seg=False\n",
    "    )\n",
    "    pie2 = disk_part(\n",
    "        center=[row['Sum Variants'],row['Sum Impact Score']],\n",
    "        radius = 100,\n",
    "        start_angle = 90 + proportion1,\n",
    "        end_angle = 360+90,\n",
    "        seg=False\n",
    "    )\n",
    "    \n",
    "    fig.add_shape(type='path',path=pie1, fillcolor='blue', opacity=.5)\n",
    "    fig.add_shape(type='path',path=pie2, fillcolor='red', opacity=.5)\n",
    "fig.update_layout(width=1000, height=1000, xaxis_range=[0,1300], yaxis_range=[0, 9000])\n"
   ]
  },
  {
   "cell_type": "code",
   "execution_count": 96,
   "metadata": {},
   "outputs": [
    {
     "data": {
      "application/vnd.plotly.v1+json": {
       "config": {
        "plotlyServerURL": "https://plot.ly"
       },
       "data": [],
       "layout": {
        "height": 1000,
        "shapes": [
         {
          "fillcolor": "blue",
          "opacity": 0.5,
          "path": "M 302.0,3780.0 L283.39022200802987,3778.848844383564 L265.0641890552131,3775.4129293124447 L247.30131989334615,3769.7446425075923 L230.3724466628224,3761.9304088721983 L214.5356854894597,3752.089372763051 L200.03250096360068,3740.3715813852973 L187.08402450674419,3726.955697008563 L175.88768275991788,3712.0462728864873 L166.61418740107405,3695.8706344139823 L159.40493228804482,3678.675413075514 L154.36983761306448,3660.7227860316057 L151.58567393923744,3642.2864786789655 L151.09489167252676,3623.6475911335583 L152.9049738164128,3605.0903122706413 L156.988321877834,3586.8975866702 L163.28267666401203,3569.3468005342634 L171.69206755423232,3552.705552353338 L182.08827577294406,3537.227572807 L194.31278935351676,3523.148856108307 L208.17921998513614,3510.684061777787 L223.47614489294767,3500.0232417094976 L239.9703304210334,3491.3289424318814 L257.4102881679468,3484.7337267455264 L275.5301094540753,3480.3381525256505 L294.0535196563413,3478.2092395066998 L312.69809059342174,3478.37944742614 L331.17954673484985,3480.84618110778 L349.21609957682267,3485.571830030668 L366.5327440980793,3492.4843417802495 L382.86545178738214,3501.478320638322 L397.9651963111129,3512.416634561488 L411.6017504412554,3525.132506046344 L423.56719635164063,3539.432055001794 L433.6790957606409,3555.097254857076 L441.78327158484547,3571.889256833435 L447.7561586915839,3589.552031693967 L451.5066879081508,3607.8162734455245 L452.9776745620659,3626.4035054725823 L452.14669038116557,3645.0303264964377 L449.0264054595824,3663.4127316212252 L443.66439507562575,3681.2704425833285 L436.1424143070292,3698.3311811804856 L426.5751515035741,3714.334820723205 L415.10847962301045,3729.0373522109167 L401.91723209232,3742.214604760205 L387.2025371059764,3753.6656635593968 L371.1887510054058,3763.215933235633 L354.12003749670185,3770.719799926977 L336.25664486358505,3776.06285147069 L302,3629.0 Z",
          "type": "path"
         },
         {
          "fillcolor": "red",
          "opacity": 0.5,
          "path": "M 336.25664486358505,3776.06285147069 L335.56940694016424,3776.221244790572 L334.8814367287047,3776.376426604312 L334.19274923669127,3776.52839352675 L333.503359487255,3776.677142242856 L332.8132825188466,3776.822669507805 L332.12253338490785,3776.9649721470428 L331.4311271535431,3777.1040470563585 L330.73907890719096,3777.2398912019507 L330.0464037422945,3777.372501620496 L329.353116768973,3777.501875419211 L328.65923311069173,3777.628009775916 L327.96476790393206,3777.7509019390973 L327.2697362978614,3777.870549227967 L326.5741534540025,3777.9869490325214 L325.8780345459031,3778.100098813598 L325.1813947588047,3778.2099961029303 L324.4842492893112,3778.3166385032027 L323.78661334505784,3778.420023688102 L323.0885021443786,3778.520149402368 L322.3899309159753,3778.6170134618446 L321.6909148985846,3778.7106137535234 L320.99146934064595,3778.8009482355947 L320.291609499969,3778.888014937488 L319.59135064340023,3778.971811959918 L318.89070804649054,3779.052337474923 L318.189696993162,3779.1295897259083 L317.48833277537403,3779.203567027682 L316.78663069278986,3779.274267766491 L316.0846060524433,3779.34169040006 L315.3822741684042,3779.405833457621 L314.67965036144494,3779.4666955399484 L313.97674995870585,3779.524275319387 L313.2735882933607,3779.5785715398833 L312.57018070428285,3779.6295830170116 L311.8665425357101,3779.677308638 L311.1626891369101,3779.721747361754 L310.4586358618459,3779.762898218881 L309.7543980688401,3779.8007603117103 L309.0499911202408,3779.835332814313 L308.3454303820861,3779.866614972518 L307.6407312237686,3779.8946061039333 L306.935909017701,3779.9193055979554 L306.2309791389794,3779.9407129157853 L305.5259569650492,3779.9588275904416 L304.8208578753691,3779.9736492267675 L304.11569725107546,3779.9851775014413 L303.41049047464725,3779.9934121629844 L302.70525292956984,3779.9983530317645 L302.00000000000006,3780.0 L302,3629.0 Z",
          "type": "path"
         },
         {
          "fillcolor": "blue",
          "opacity": 0.5,
          "path": "M 15.0,293.0 L14.040921287366206,292.9384251036743 L13.097590620678696,292.75471147279274 L12.185497463404694,292.45187568009516 L11.319618359970468,292.0348902809254 L10.51417102131588,291.5106021640097 L9.782380870473851,290.88762012573295 L9.136263881489779,290.1761735139405 L8.586429277459905,289.3879442623289 L8.141905327381407,288.53587507341797 L7.8099911022250454,287.63395689973277 L7.596136624391624,286.69699921275037 L7.503853378494841,285.7403868317874 L7.534656652881013,284.7798273056924 L7.688040658636323,283.83109299532765 L7.961486834626797,282.9097620918402 L8.350505202202498,282.03096282319376 L8.84870809052283,281.20912504908375 L9.447915021935131,280.4577433230401 L10.138287035191581,279.7891553122315 L10.908488240920882,279.2143392133112 L11.745871956618313,278.74273349073184 L12.63668836482284,278.38208189742 L13.566310284739705,278.138306322567 L14.519473350144654,278.01540955437247 L15.480526649855344,278.01540955437247 L16.433689715260286,278.138306322567 L17.36331163517715,278.38208189742 L18.254128043381684,278.74273349073184 L19.09151175907911,279.2143392133112 L19.86171296480841,279.7891553122315 L20.55208497806487,280.4577433230401 L21.151291909477166,281.20912504908375 L21.6494947977975,282.03096282319376 L22.038513165373203,282.9097620918402 L22.311959341363675,283.83109299532765 L22.465343347118985,284.7798273056924 L22.496146621505158,285.7403868317874 L22.403863375608378,286.6969992127503 L22.190008897774955,287.63395689973277 L21.858094672618595,288.53587507341797 L21.4135707225401,289.3879442623289 L20.863736118510225,290.1761735139405 L20.217619129526152,290.88762012573295 L19.485828978684122,291.5106021640097 L18.68038164002954,292.0348902809254 L17.81450253659531,292.45187568009516 L16.902409379321313,292.75471147279274 L15.9590787126338,292.9384251036743 L15.000000000000002,293.0 L15,285.5 Z",
          "type": "path"
         },
         {
          "fillcolor": "red",
          "opacity": 0.5,
          "path": "M 15.000000000000002,293.0 L15.000000000000002,293.0 L15.000000000000002,293.0 L15.000000000000002,293.0 L15.000000000000002,293.0 L15.000000000000002,293.0 L15.000000000000002,293.0 L15.000000000000002,293.0 L15.000000000000002,293.0 L15.000000000000002,293.0 L15.000000000000002,293.0 L15.000000000000002,293.0 L15.000000000000002,293.0 L15.000000000000002,293.0 L15.000000000000002,293.0 L15.000000000000002,293.0 L15.000000000000002,293.0 L15.000000000000002,293.0 L15.000000000000002,293.0 L15.000000000000002,293.0 L15.000000000000002,293.0 L15.000000000000002,293.0 L15.000000000000002,293.0 L15.000000000000002,293.0 L15.000000000000002,293.0 L15.000000000000002,293.0 L15.000000000000002,293.0 L15.000000000000002,293.0 L15.000000000000002,293.0 L15.000000000000002,293.0 L15.000000000000002,293.0 L15.000000000000002,293.0 L15.000000000000002,293.0 L15.000000000000002,293.0 L15.000000000000002,293.0 L15.000000000000002,293.0 L15.000000000000002,293.0 L15.000000000000002,293.0 L15.000000000000002,293.0 L15.000000000000002,293.0 L15.000000000000002,293.0 L15.000000000000002,293.0 L15.000000000000002,293.0 L15.000000000000002,293.0 L15.000000000000002,293.0 L15.000000000000002,293.0 L15.000000000000002,293.0 L15.000000000000002,293.0 L15.000000000000002,293.0 L15.000000000000002,293.0 L15,285.5 Z",
          "type": "path"
         },
         {
          "fillcolor": "blue",
          "opacity": 0.5,
          "path": "M 308.0,6754.75 L288.3069171005861,6753.48566212878 L268.9371940779359,6749.713408908011 L250.2088812485764,6743.495180631287 L232.42949699139362,6734.933080435002 L215.89097830435276,6724.167697767665 L200.86488720706308,6711.37579991505 L187.59795169992344,6696.767429486245 L176.3080144971767,6680.5824555198205 L167.1804560555649,6663.086634840849 L160.36515063235427,6644.567248341179 L155.9740053541747,6625.328383835141 L154.07912270509405,6605.685942946035 L154.71161660582348,6585.962454010217 L157.86110152399917,6566.481776170727 L163.4758630043369,6547.563781619118 L171.46370681855797,6529.519103302911 L181.69347279206875,6512.644034341186 L193.99718845040138,6497.215662899757 L208.1728271226005,6483.487322411153 L223.98762521357543,6471.6844318466565 L241.18190417589602,6462.000794343027 L259.4733344243623,6454.595414960357 L278.5615711799886,6449.589889823376 L298.13318612297024,6447.066409516448 L317.8668138770297,6447.066409516448 L337.4384288200112,6449.589889823376 L356.5266655756375,6454.595414960357 L374.8180958241039,6462.000794343027 L392.0123747864244,6471.6844318466565 L407.82717287739933,6483.487322411153 L422.0028115495986,6497.215662899757 L434.30652720793114,6512.644034341186 L444.53629318144203,6529.519103302911 L452.52413699566307,6547.563781619118 L458.1388984760008,6566.481776170727 L461.28838339417655,6585.962454010217 L461.92087729490595,6605.685942946035 L460.02599464582534,6625.32838383514 L455.63484936764576,6644.567248341179 L448.81954394443517,6663.086634840848 L439.6919855028234,6680.5824555198205 L428.4020483000766,6696.7674294862445 L415.135112792937,6711.37579991505 L400.1090216956473,6724.167697767665 L383.5705030086066,6734.933080435002 L365.7911187514237,6743.495180631287 L347.0628059220643,6749.71340890801 L327.69308289941404,6753.48566212878 L308.00000000000006,6754.75 L308,6600.75 Z",
          "type": "path"
         },
         {
          "fillcolor": "red",
          "opacity": 0.5,
          "path": "M 308.00000000000006,6754.75 L308.00000000000006,6754.75 L308.00000000000006,6754.75 L308.00000000000006,6754.75 L308.00000000000006,6754.75 L308.00000000000006,6754.75 L308.00000000000006,6754.75 L308.00000000000006,6754.75 L308.00000000000006,6754.75 L308.00000000000006,6754.75 L308.00000000000006,6754.75 L308.00000000000006,6754.75 L308.00000000000006,6754.75 L308.00000000000006,6754.75 L308.00000000000006,6754.75 L308.00000000000006,6754.75 L308.00000000000006,6754.75 L308.00000000000006,6754.75 L308.00000000000006,6754.75 L308.00000000000006,6754.75 L308.00000000000006,6754.75 L308.00000000000006,6754.75 L308.00000000000006,6754.75 L308.00000000000006,6754.75 L308.00000000000006,6754.75 L308.00000000000006,6754.75 L308.00000000000006,6754.75 L308.00000000000006,6754.75 L308.00000000000006,6754.75 L308.00000000000006,6754.75 L308.00000000000006,6754.75 L308.00000000000006,6754.75 L308.00000000000006,6754.75 L308.00000000000006,6754.75 L308.00000000000006,6754.75 L308.00000000000006,6754.75 L308.00000000000006,6754.75 L308.00000000000006,6754.75 L308.00000000000006,6754.75 L308.00000000000006,6754.75 L308.00000000000006,6754.75 L308.00000000000006,6754.75 L308.00000000000006,6754.75 L308.00000000000006,6754.75 L308.00000000000006,6754.75 L308.00000000000006,6754.75 L308.00000000000006,6754.75 L308.00000000000006,6754.75 L308.00000000000006,6754.75 L308.00000000000006,6754.75 L308,6600.75 Z",
          "type": "path"
         },
         {
          "fillcolor": "blue",
          "opacity": 0.5,
          "path": "M 297.0,3896.25 L288.7975671992604,3896.023295289979 L280.62017857561926,3895.343873348813 L272.49280183973843,3894.2138086297555 L264.44025200287916,3892.636551516571 L256.48711561016853,3890.6169177886054 L248.65767567143374,3888.161073916952 L240.9758375188086,3885.276518236597 L233.46505581748931,3881.97205805204 L226.14826295249446,3878.2577827462833 L219.04779901008308,3874.1450329753015 L212.18534356761666,3869.6463660420472 L205.5818495001269,3864.775517555713 L199.25747900569735,3859.5473594933187 L193.2315420449879,3853.977854791664 L187.52243738286438,3848.0840086083035 L182.14759641214698,3841.88381640034 L177.12342993099975,3835.396208979579 L172.46527803646245,3828.6409947117995 L168.187363287114,3821.63879903662 L164.3027472778735,3814.4110014926277 L160.82329075952777,3806.979670440041 L157.75961742475045,3799.367495680226 L155.12108147118408,3791.597719177782 L152.9157390406231,3783.6940640967346 L151.15032362150134,3775.680662367499 L149.83022548978732,3767.5819810057683 L148.9594752510588,3759.422747408307 L148.54073153400765,3751.2278738537225 L148.57527287294963,3743.0223814387546 L149.0629938041241,3734.831323682305 L150.00240518770246,3726.6797100304816 L151.39063875452237,3718.592429496201 L153.22345586366527,3710.594174666513 L155.4952604441378,3702.7093663096575 L158.1991160811435,3694.9620788120606 L161.32676719477502,3687.375966672921 L164.86866424646306,3679.9741922808284 L168.8139928962208,3672.7793551929167 L173.15070702165792,3665.8134231324934 L177.8655654979495,3659.097664915826 L182.9441726264604,3652.6525855128684 L188.3710220885862,3646.497863440214 L194.12954429060787,3640.6522906774285 L200.20215695500417,3635.1337152902106 L206.57031880375268,3629.9589869355686 L213.2145861697117,3625.143905415402 L220.11467236323134,3620.703172435567 L227.24950961273404,3616.6503467177126 L234.59731339014337,3612.997802600952 L297,3747.75 Z",
          "type": "path"
         },
         {
          "fillcolor": "red",
          "opacity": 0.5,
          "path": "M 234.59731339014337,3612.997802600952 L244.58681173419708,3608.8071783221117 L254.8552277167601,3605.355940541068 L265.347917794254,3602.662455076114 L276.0090449448363,3600.7410553541995 L286.7818758060259,3599.6019661353666 L297.60908258221843,3599.2512491015227 L308.43304811548876,3599.690770599098 L319.1961724962393,3600.9181917072556 L329.8411795820602,3602.926980684496 L340.31142179365827,3605.706447727425 L350.55118156587673,3609.2418018567187 L360.50596784962903,3613.514229627562 L370.12280608690804,3618.5009952457026 L379.35052011576255,3624.17556155635 L388.14000450508024,3630.507731262083 L396.44448586994207,3637.463807618257 L404.21977177695555,3645.0067737507843 L411.42448591501136,3653.096489642035 L418.0202882799995,3661.6899057365968 L423.97207920176857,3670.7412920301877 L429.2481861275942,3680.202481422622 L433.82053216818645,3690.0231260398223 L437.66478550931515,3700.1509651608526 L440.76048889395764,3710.532103324203 L443.091168485926,3721.1112971333664 L444.6444215356562,3731.832249235478 L445.4119823816427,3742.6379079085973 L445.3897664362909,3753.4707706633835 L444.5778919221175,3764.273190243528 L442.98067924262665,3774.9876813965757 L440.6066279912128,3785.5572267826324 L437.46837172043513,3795.925580393075 L433.58261071236075,3806.0375668646043 L428.970023107741,3815.8393750958426 L423.6551548669469,3825.2788446039904 L417.6662891482401,3834.30574309769 L411.03529579848316,3842.872033788983 L403.7974617572284,3850.932131021865 L395.99130327669224,3858.4431428570983 L387.6583609568889,3865.3650993223678 L378.84297868664817,3871.6611651131443 L369.5920676668858,3877.297835612357 L359.95485677188066,3882.2451151857645 L349.9826305770152,3886.476676804209 L339.72845644706877,3889.9700021433378 L329.24690213736824,3892.706501415228 L318.59374541058554,3894.671612294253 L307.82567721446145,3895.854877410733 L297.00000000000006,3896.25 L297,3747.75 Z",
          "type": "path"
         },
         {
          "fillcolor": "blue",
          "opacity": 0.5,
          "path": "M 90.0,1850.5 L84.24552772419723,1850.130550622046 L78.58554372407218,1849.0282688367563 L73.11298478042816,1847.211254080571 L67.9177101598228,1844.7093416855525 L63.085026127895276,1841.563612984058 L58.694285222843114,1837.8257207543977 L54.817583288938664,1833.557041083643 L51.518575664759425,1828.8276655739737 L48.851431964288444,1823.7152504405078 L46.859946613350274,1818.3037413983964 L45.57681974634975,1812.681995276502 L45.023120270969045,1806.9423209907245 L45.20793991728608,1801.1789638341543 L46.128243951817936,1795.4865579719658 L47.76892100776078,1789.9585725510412 L50.10303121321499,1784.6857769391625 L53.092248543136975,1779.7547502945024 L56.687490131610794,1775.2464599382408 L60.82972221114949,1771.234931873389 L65.45092944552529,1767.7860352798673 L70.47523173970988,1764.9564009443911 L75.82013018893704,1762.79249138452 L81.39786170843823,1761.329837935402 L87.11684010086792,1760.5924573262348 L92.88315989913207,1760.5924573262348 L98.60213829156172,1761.329837935402 L104.1798698110629,1762.79249138452 L109.5247682602901,1764.9564009443911 L114.54907055447467,1767.786035279867 L119.17027778885046,1771.2349318733889 L123.3125098683892,1775.2464599382408 L126.907751456863,1779.7547502945024 L129.896968786785,1784.6857769391625 L132.23107899223922,1789.9585725510412 L133.87175604818205,1795.4865579719658 L134.79206008271393,1801.1789638341543 L134.97687972903094,1806.9423209907245 L134.42318025365026,1812.681995276502 L133.14005338664973,1818.3037413983964 L131.14856803571158,1823.7152504405076 L128.4814243352406,1828.8276655739735 L125.18241671106134,1833.557041083643 L121.30571477715691,1837.8257207543977 L116.91497387210474,1841.563612984058 L112.08228984017724,1844.7093416855525 L106.88701521957185,1847.211254080571 L101.41445627592788,1849.0282688367563 L95.7544722758028,1850.130550622046 L90.00000000000001,1850.5 L90,1805.5 Z",
          "type": "path"
         },
         {
          "fillcolor": "red",
          "opacity": 0.5,
          "path": "M 90.00000000000001,1850.5 L90.00000000000001,1850.5 L90.00000000000001,1850.5 L90.00000000000001,1850.5 L90.00000000000001,1850.5 L90.00000000000001,1850.5 L90.00000000000001,1850.5 L90.00000000000001,1850.5 L90.00000000000001,1850.5 L90.00000000000001,1850.5 L90.00000000000001,1850.5 L90.00000000000001,1850.5 L90.00000000000001,1850.5 L90.00000000000001,1850.5 L90.00000000000001,1850.5 L90.00000000000001,1850.5 L90.00000000000001,1850.5 L90.00000000000001,1850.5 L90.00000000000001,1850.5 L90.00000000000001,1850.5 L90.00000000000001,1850.5 L90.00000000000001,1850.5 L90.00000000000001,1850.5 L90.00000000000001,1850.5 L90.00000000000001,1850.5 L90.00000000000001,1850.5 L90.00000000000001,1850.5 L90.00000000000001,1850.5 L90.00000000000001,1850.5 L90.00000000000001,1850.5 L90.00000000000001,1850.5 L90.00000000000001,1850.5 L90.00000000000001,1850.5 L90.00000000000001,1850.5 L90.00000000000001,1850.5 L90.00000000000001,1850.5 L90.00000000000001,1850.5 L90.00000000000001,1850.5 L90.00000000000001,1850.5 L90.00000000000001,1850.5 L90.00000000000001,1850.5 L90.00000000000001,1850.5 L90.00000000000001,1850.5 L90.00000000000001,1850.5 L90.00000000000001,1850.5 L90.00000000000001,1850.5 L90.00000000000001,1850.5 L90.00000000000001,1850.5 L90.00000000000001,1850.5 L90.00000000000001,1850.5 L90,1805.5 Z",
          "type": "path"
         },
         {
          "fillcolor": "blue",
          "opacity": 0.5,
          "path": "M 90.0,990.0 L86.66911406903499,989.8765551141673 L83.35650284177972,989.506897729551 L80.08034075889006,988.8930559489797 L76.85860228500118,988.0383975781652 L73.70896329291719,986.9476116484417 L70.64870408600657,985.6266826906783 L67.69461459086561,984.0828579015144 L64.86290224040393,982.3246073820544 L62.16910305274659,980.3615776671709 L59.62799639381253,978.2045388003769 L57.25352389121959,975.8653252446345 L55.05871294438975,973.3567709532916 L53.05560525051217,970.6926389573748 L51.255190738501575,967.8875458555544 L49.667347273419594,964.9568816210616 L48.30078646216699,961.9167251655338 L47.16300585778057,958.7837561230406 L46.260247824563045,955.5751633382827 L45.59746528972977,952.3085505610379 L45.17829456947381,949.0018398642549 L45.005035418537695,945.6731733156869 L45.078638412748376,942.3408134425366 L45.39869973374064,939.0230430352083 L45.96346338448207,935.7380648398864 L46.769830823444316,932.5039016902725 L47.81337796456328,929.3382976264007 L49.08837944971913,926.258620543038 L50.58784006056645,923.2817669017825 L52.303533097375634,920.4240690296513 L54.22604551432211,917.7012055127585 L56.344829563591546,915.1281151767034 L58.64826066495882,912.7189151256091 L61.123701183342504,910.4868232894869 L63.757569764423586,908.4440859048648 L66.53541584792256,906.601910326553 L69.44199894972216,904.9704035391715 L72.46137227785951,903.5585167057915 L75.57697022363334,902.3739960579221 L78.77169924781181,901.4233403962809 L82.02803166329912,900.7117654355173 L85.328101799728,900.2431751885113 L88.65380402237709,900.0201405472424 L91.986892067638,900.0438851777475 L95.30907915003435,900.3142788065509 L98.60213829156174,900.8298379354021 L101.84800232289722,901.5877339803988 L105.02886300782842,902.5838087908411 L108.12726874706205,903.8125974626732 L111.12622032536507,905.2673583213483 L90,945.0 Z",
          "type": "path"
         },
         {
          "fillcolor": "red",
          "opacity": 0.5,
          "path": "M 111.12622032536507,905.2673583213483 L113.24537225485695,906.4688091446277 L115.29640331697502,907.783176126583 L117.27330293837038,909.2066074975859 L119.17027778885046,910.734931873389 L120.98176875880912,912.3636704794231 L122.7024672502699,914.0880502759043 L124.32733073380197,915.903017945289 L125.85159752571839,917.8032547010878 L127.27080074225253,919.7831918746383 L128.58078138981932,921.8370272341616 L129.77770055300041,923.9587419882786 L130.85805064453592,926.1421184241565 L131.81866568435484,928.380758128598 L132.65673057752093,930.6681007386742 L133.36978936390534,932.9974431669547 L133.9557524154099,935.3619592449925 L134.41290255964952,937.7547197275001 L134.7399001121483,940.168712598593 L134.93578680230246,942.5968636205948 L134.9999885816049,945.0320570651824 L134.93231730590182,947.4671565661212 L134.73297128675162,949.8950260324799 L134.40253471027023,952.3085505610379 L133.94197592516622,954.7006572866024 L133.35264460498203,957.0643361091327 L132.6362677928582,959.3926602369291 L131.79494484041078,961.6788064856878 L130.83114125555394,963.9160752739305 L129.74768147729677,966.0979102562164 L128.5477405986879,968.2179175365981 L127.23483506216385,970.2698844060169 L125.81281235456828,972.2477975487283 L124.28583973204171,974.1458606644022 L122.6583920078227,975.9585114542573 L120.93523843874931,977.6804379214497 L119.12142874888951,979.3065939379495 L117.22227833125868,980.832214032285 L115.24335267099096,982.2528273548193 L113.19045103561233,983.5642707796331 L111.06958948021105,984.7627011046204 L108.88698321731,985.8446063140416 L106.64902840310455,986.8068158705327 L104.36228339344362,987.6465100064052 L102.03344952448192,988.3612279870133 L99.66935147432666,988.9488753219686 L97.2769172632293,989.4077299030711 L94.86315795093145,989.7364470509706 L92.4351470906626,989.9340634557664 L90.00000000000001,990.0 L90,945.0 Z",
          "type": "path"
         },
         {
          "fillcolor": "blue",
          "opacity": 0.5,
          "path": "M 51.0,297.5 L48.82277342546148,297.4068826195408 L46.66144784192587,297.12821054455867 L44.531808110307566,296.66601900749527 L42.449407679479506,296.0236835428761 L40.42945499439747,295.2058953346888 L38.486702423899594,294.2186269551464 L36.63533851937764,293.06908874505785 L34.888884391189734,291.765676154373 L33.260094959611095,290.31790842749206 L31.760865801519234,288.7363590811397 L30.402146273142346,287.0325786825473 L29.193859543363676,285.21901049191837 L28.144830121604443,283.30889958526825 L27.26271940957279,281.31619612134307 L26.55396974756515,279.2554534590913 L26.023757363968,277.1417218697687 L25.675954571585056,274.99043861993124 L25.51310148688246,272.81731522807723 L25.536387478695275,270.63822271833703 L25.745642481881628,268.469075709243 L26.139338239363497,266.32571618411396 L26.714599463483268,264.2237977919197 L27.467224835160955,262.1786715236107 L28.391717687488494,260.2052735988587 L29.481326149668874,258.3180163820053 L30.728092458115853,256.5306831238965 L32.122911074579456,254.85632729833642 L33.65559518684155,253.30717726833944 L35.31495110630566,251.89454697843348 L37.08886001913102,250.62875332525806 L38.96436649385595,249.51904080992577 L40.92777309911107,248.57351402243586 L42.964740440397655,247.79907845122796 L45.06039188533135,247.20139005016284 L47.19942221250753,246.78481393125924 L49.366209390491825,246.55239248486643 L51.54492867057617,246.50582316010215 L53.719668160045565,246.64544606783164 L55.87454503188499,246.97024149672782 L57.99382152221072,247.47783736055356 L60.06201986825821,248.16452652227582 L62.06403534749773,249.02529386848832 L63.98524659231629,250.05385293640958 L65.81162237460201,251.24269182595708 L67.52982408034859,252.58312806158708 L69.12730312587449,254.06537200322623 L70.59239260419476,255.67859834318466 L71.91439249222236,257.41102516688466 L73.08364779650319,259.25 L51,272.0 Z",
          "type": "path"
         },
         {
          "fillcolor": "red",
          "opacity": 0.5,
          "path": "M 73.08364779650319,259.25 L73.6082823125115,260.2052735988587 L74.0916190667609,261.18209221357455 L74.53277516483905,262.1786715236107 L74.9309447622689,263.1931911122566 L75.28540053651673,264.2237977919197 L75.59549501556693,265.2686089892785 L75.8606617606365,266.32571618411396 L76.0804164008691,267.3931883955368 L76.25435751811837,268.46907570924293 L76.38216738020455,269.5514128393541 L76.46361252130473,270.63822271833703 L76.49854416841671,271.72752010844397 L76.48689851311754,272.8173152280772 L76.4286968281201,273.9056173864538 L76.32404542841495,274.99043861993124 L76.17313547706848,276.06979732335117 L75.976242636032,277.1417218697686 L75.73372656259963,278.2042542119543 L75.44603025243485,279.2554534590913 L75.11367923036576,280.29339942213244 L74.73728059042722,281.31619612134307 L74.31752188690322,282.32197524962106 L73.85516987839557,283.30889958526825 L73.35106912721253,284.27516634797945 L72.80614045663634,285.21901049191837 L72.22137926888738,286.13870792986535 L71.59785372685766,287.0325786825473 L70.93670280293476,287.8989899473977 L70.23913419848077,288.7363590811397 L69.5064221377662,289.54315649074584 L68.73990504038892,290.31790842749206 L67.94098307642969,291.05919967900337 L67.11111560881027,291.765676154373 L66.25181852752601,292.4360473576329 L65.36466148062237,293.06908874505785 L64.45126500697351,293.663643961997 L63.51329757610042,294.2186269551464 L62.552472540435744,294.73302395640485 L61.57054500560253,295.2058953346888 L60.56930862442405,295.63637731232353 L59.550592320520494,296.0236835428761 L58.51625694747807,296.3671065475466 L57.46819188969244,296.66601900749527 L56.4083116110962,296.91987490974384 L55.33855215807414,297.12821054455867 L54.2608676229549,297.2906453524928 L53.17722657453853,297.4068826195408 L52.089608462180394,297.476710019136 L51.00000000000001,297.5 L51,272.0 Z",
          "type": "path"
         },
         {
          "fillcolor": "blue",
          "opacity": 0.5,
          "path": "M 102.0,759.5 L96.05095980794214,759.151840250807 L90.18314378612763,758.1121145409129 L84.47666712492766,756.3950185817837 L79.00944219623001,754.0239964400262 L73.8561147906212,751.0314204479619 L69.08704495425994,747.4581492137023 L64.76734634040542,743.352969765354 L60.955997191645494,738.7719314459416 L57.70503509087105,733.7775806535957 L55.058846475322945,728.4381068753455 L53.05356061420534,722.8264116739932 L51.71655632408558,717.0191133394939 L51.06608815705455,711.0955007946562 L51.11103716542173,705.1364510378305 L51.850789645834965,699.2233249030859 L53.275245518370916,693.436856214423 L55.36495622619356,687.8560495007579 L58.09139027299226,682.5571013215308 L61.41732277273074,677.6123599304304 L65.29734369305838,673.0893374812823 L69.67847785317188,669.0497882627723 L74.50090821109606,665.5488655471659 L79.69879256510879,662.6343685648399 L85.20116251862078,660.3460898859271 L90.93289243465235,658.715272119484 L96.81572515045814,657.7641813480416 L102.76934044788604,657.5058031215782 L108.71245169129902,657.9436651616044 L114.56391566030761,659.0717891960403 L120.24384042440744,660.8747725824983 L125.67467613335133,663.3279986055419 L130.78227383034178,666.3979725766653 L135.49689783172542,670.0427791481112 L139.7541778508411,674.2126545966728 L143.49598786636716,678.8506662639055 L146.67123973569454,683.8934898761303 L149.2365807178644,689.272274131227 L151.15698538256515,694.9135807477365 L152.406233823663,700.7403871414733 L152.96726964806257,706.673138039785 L152.83243285215949,712.6308316754253 L152.00356440634764,718.5321257298863 L150.49198111965475,724.2964479263867 L148.31832112768788,729.8450961092327 L145.5122621134915,735.1023127898086 L142.1121161085402,739.9963194880766 L138.1643064061792,744.460296747385 L133.72273372938247,748.4332964421258 L128.84804030674516,751.8610739222103 L102,708.5 Z",
          "type": "path"
         },
         {
          "fillcolor": "red",
          "opacity": 0.5,
          "path": "M 128.84804030674516,751.8610739222103 L128.3557339182504,752.1620577805305 L127.86005370334624,752.4574524109399 L127.36106311460082,752.7472199996478 L126.85882602834668,753.0313234531874 L126.35340673650424,753.3097264031637 L125.8448699383514,753.58239321091 L125.33328073224149,753.8492889720491 L124.81870460727006,754.1103795209616 L124.30120743489121,754.3656314351601 L123.78085546048575,754.6150120395672 L123.25771529488065,754.858489410698 L122.73185390582233,755.0960323807471 L122.20333860940411,755.3276105415786 L121.67223706144877,755.5531942486178 L121.1386172488481,755.7727546246471 L120.6025474808596,755.9862635635019 L120.06409638036237,756.1936937336686 L119.52333287507238,756.3950185817837 L118.9803261887191,756.5902123360326 L118.43514583218418,756.7792500094486 L117.88786159460297,756.9621074031118 L117.33854353443117,757.1387611092466 L116.78726197047618,757.3091885142184 L116.23408747289567,757.4733678014281 L115.67909085416396,757.631277954105 L115.12234316000692,757.7828987579974 L114.56391566030769,757.9282108039597 L114.003879839983,758.0671954904375 L113.44230738983252,758.1998350258488 L112.87927019736165,758.326112430861 L112.31484033757896,758.446011540565 L111.74909006377001,758.5595170065443 L111.18209179824785,758.6666142988397 L110.61391812308251,758.7672897078093 L110.04464177080935,758.8615303458836 L109.47433561511862,758.949324149215 L108.903072661527,759.0306598792226 L108.33092603803173,759.1055271240303 L107.75796898574978,759.1739162998001 L107.18427484954186,759.2358186519584 L106.60991706862362,759.2912262563173 L106.03496916716468,759.3401320200885 L105.45950474487651,759.3825296827916 L104.88359746759116,759.4184138170555 L104.30732105783088,759.4477798293124 L103.73074928537095,759.4706239603871 L103.15395595779654,759.4869432859773 L102.5770149110541,759.4967357170282 L102.00000000000001,759.5 L102,708.5 Z",
          "type": "path"
         },
         {
          "fillcolor": "blue",
          "opacity": 0.5,
          "path": "M 11.0,200.5 L10.296675610735218,200.45484507602785 L9.604899788497711,200.32012174671468 L8.936031473163442,200.09804216540311 L8.301053463978343,199.79225287267863 L7.710392082298312,199.40777492027377 L7.173745971680825,198.9509214255375 L6.699926846425837,198.42919391022303 L6.296714803470596,197.85115912570788 L5.970730573413032,197.22630838717316 L5.727326808298367,196.56490172647068 L5.570500191220525,195.87779942268358 L5.5028258108962165,195.1762836766441 L5.52541487877941,194.47187335750775 L5.63789648299997,193.77613486324026 L5.8384236787263175,193.10049220068282 L6.123703814948499,192.45603940367542 L6.489052599716741,191.85335836932808 L6.928471016085764,191.30234510356277 L7.4347438258071605,190.81204722896976 L7.999558043341979,190.39051542309488 L8.613639434853429,190.0446712265367 L9.266904800870083,189.78019339144132 L9.94862754214245,189.60142463654915 L10.64761379010608,189.51130033987315 L11.352386209893918,189.51130033987315 L12.051372457857543,189.60142463654913 L12.733095199129911,189.78019339144132 L13.38636056514657,190.0446712265367 L14.000441956658014,190.39051542309488 L14.565256174192834,190.81204722896976 L15.071528983914236,191.30234510356277 L15.510947400283257,191.85335836932808 L15.876296185051501,192.45603940367542 L16.16157632127368,193.1004922006828 L16.36210351700003,193.77613486324026 L16.47458512122059,194.47187335750775 L16.497174189103784,195.1762836766441 L16.429499808779475,195.87779942268358 L16.272673191701635,196.56490172647068 L16.02926942658697,197.22630838717316 L15.703285196529407,197.85115912570788 L15.300073153574164,198.42919391022303 L14.826254028319179,198.9509214255375 L14.28960791770169,199.40777492027377 L13.698946536021662,199.79225287267863 L13.063968526836561,200.09804216540311 L12.395100211502296,200.32012174671465 L11.703324389264786,200.45484507602785 L11.000000000000002,200.5 L11,195.0 Z",
          "type": "path"
         },
         {
          "fillcolor": "red",
          "opacity": 0.5,
          "path": "M 11.000000000000002,200.5 L11.000000000000002,200.5 L11.000000000000002,200.5 L11.000000000000002,200.5 L11.000000000000002,200.5 L11.000000000000002,200.5 L11.000000000000002,200.5 L11.000000000000002,200.5 L11.000000000000002,200.5 L11.000000000000002,200.5 L11.000000000000002,200.5 L11.000000000000002,200.5 L11.000000000000002,200.5 L11.000000000000002,200.5 L11.000000000000002,200.5 L11.000000000000002,200.5 L11.000000000000002,200.5 L11.000000000000002,200.5 L11.000000000000002,200.5 L11.000000000000002,200.5 L11.000000000000002,200.5 L11.000000000000002,200.5 L11.000000000000002,200.5 L11.000000000000002,200.5 L11.000000000000002,200.5 L11.000000000000002,200.5 L11.000000000000002,200.5 L11.000000000000002,200.5 L11.000000000000002,200.5 L11.000000000000002,200.5 L11.000000000000002,200.5 L11.000000000000002,200.5 L11.000000000000002,200.5 L11.000000000000002,200.5 L11.000000000000002,200.5 L11.000000000000002,200.5 L11.000000000000002,200.5 L11.000000000000002,200.5 L11.000000000000002,200.5 L11.000000000000002,200.5 L11.000000000000002,200.5 L11.000000000000002,200.5 L11.000000000000002,200.5 L11.000000000000002,200.5 L11.000000000000002,200.5 L11.000000000000002,200.5 L11.000000000000002,200.5 L11.000000000000002,200.5 L11.000000000000002,200.5 L11.000000000000002,200.5 L11,195.0 Z",
          "type": "path"
         },
         {
          "fillcolor": "blue",
          "opacity": 0.5,
          "path": "M 6.0,120.5 L5.616368514946482,120.47537004146974 L5.2390362482714785,120.40188458911709 L4.874198985361877,120.28075027203806 L4.527847343988187,120.11395611237018 L4.205668408526352,119.90424086560387 L3.912952348189541,119.65504805029319 L3.6545055525959107,119.3704694055762 L3.4345717109839615,119.05517770493158 L3.2567621309525627,118.71435002936718 L3.1239964408900183,118.3535827598931 L3.03845464975665,117.97879968510014 L3.001541351397936,117.59615473271496 L3.0138626611524053,117.21193092227696 L3.075216263454529,116.83243719813106 L3.1845947338507186,116.46390483673608 L3.3402020808809993,116.1123851292775 L3.539483236209132,115.7836500196335 L3.7791660087740526,115.48309732921605 L4.055314814076633,115.2156621248926 L4.363395296368353,114.98573568532449 L4.698348782647326,114.79709339629274 L5.054675345929136,114.65283275896799 L5.426524113895882,114.55532252902681 L5.8077893400578615,114.50616382174898 L6.192210659942138,114.50616382174898 L6.573475886104114,114.5553225290268 L6.945324654070861,114.65283275896799 L7.301651217352674,114.79709339629274 L7.636604703631644,114.98573568532447 L7.9446851859233645,115.21566212489259 L8.220833991225946,115.48309732921605 L8.460516763790867,115.78365001963348 L8.659797919119,116.1123851292775 L8.81540526614928,116.46390483673608 L8.924783736545471,116.83243719813106 L8.986137338847595,117.21193092227695 L8.998458648602064,117.59615473271496 L8.961545350243352,117.97879968510013 L8.876003559109982,118.3535827598931 L8.743237869047439,118.71435002936718 L8.56542828901604,119.05517770493158 L8.34549444740409,119.3704694055762 L8.087047651810462,119.65504805029317 L7.794331591473648,119.90424086560387 L7.472152656011817,120.11395611237016 L7.125801014638124,120.28075027203806 L6.760963751728525,120.40188458911709 L6.38363148505352,120.47537004146974 L6.000000000000001,120.5 L6,117.5 Z",
          "type": "path"
         },
         {
          "fillcolor": "red",
          "opacity": 0.5,
          "path": "M 6.000000000000001,120.5 L6.000000000000001,120.5 L6.000000000000001,120.5 L6.000000000000001,120.5 L6.000000000000001,120.5 L6.000000000000001,120.5 L6.000000000000001,120.5 L6.000000000000001,120.5 L6.000000000000001,120.5 L6.000000000000001,120.5 L6.000000000000001,120.5 L6.000000000000001,120.5 L6.000000000000001,120.5 L6.000000000000001,120.5 L6.000000000000001,120.5 L6.000000000000001,120.5 L6.000000000000001,120.5 L6.000000000000001,120.5 L6.000000000000001,120.5 L6.000000000000001,120.5 L6.000000000000001,120.5 L6.000000000000001,120.5 L6.000000000000001,120.5 L6.000000000000001,120.5 L6.000000000000001,120.5 L6.000000000000001,120.5 L6.000000000000001,120.5 L6.000000000000001,120.5 L6.000000000000001,120.5 L6.000000000000001,120.5 L6.000000000000001,120.5 L6.000000000000001,120.5 L6.000000000000001,120.5 L6.000000000000001,120.5 L6.000000000000001,120.5 L6.000000000000001,120.5 L6.000000000000001,120.5 L6.000000000000001,120.5 L6.000000000000001,120.5 L6.000000000000001,120.5 L6.000000000000001,120.5 L6.000000000000001,120.5 L6.000000000000001,120.5 L6.000000000000001,120.5 L6.000000000000001,120.5 L6.000000000000001,120.5 L6.000000000000001,120.5 L6.000000000000001,120.5 L6.000000000000001,120.5 L6.000000000000001,120.5 L6,117.5 Z",
          "type": "path"
         },
         {
          "fillcolor": "blue",
          "opacity": 0.5,
          "path": "M 209.0,8458.0 L195.63683660396913,8457.142056444529 L182.4930959814565,8454.582313187579 L169.7845979901054,8450.362801142659 L157.7200158155885,8444.552804580895 L146.49744956366794,8437.247723485201 L136.30117346193566,8428.567507085212 L127.2986100820909,8418.654684294237 L119.63758126594134,8407.67202338845 L113.44388089484761,8395.79985935629 L108.81920935766897,8383.233132802943 L105.83950363318996,8370.178189030989 L104.55369040702811,8356.849389856237 L104.98288269680879,8343.465593792647 L107.12003317699943,8330.246562401566 L110.93004989580004,8317.409351812974 L116.35037248402148,8305.164748669833 L123.29199939461809,8293.713809017234 L131.6409493056295,8283.244556967693 L141.26013269033604,8273.928897350426 L151.9916028234976,8265.919793038802 L163.65914926221518,8259.348753304197 L176.0711912165316,8254.323674437384 L189.02392330070657,8250.927068094434 L202.3046620120155,8249.21470645759 L215.69533798798446,8249.21470645759 L228.97607669929332,8250.927068094434 L241.9288087834683,8254.323674437384 L254.34085073778482,8259.348753304197 L266.0083971765023,8265.919793038802 L276.73986730966385,8273.928897350426 L286.35905069437047,8283.244556967693 L294.70800060538187,8293.713809017234 L301.6496275159785,8305.164748669833 L307.06995010419996,8317.409351812974 L310.8799668230006,8330.246562401566 L313.0171173031912,8343.465593792647 L313.4463095929719,8356.849389856237 L312.16049636681004,8370.178189030989 L309.18079064233103,8383.233132802943 L304.55611910515245,8395.79985935629 L298.3624187340587,8407.67202338845 L290.7013899179091,8418.654684294237 L281.6988265380644,8428.567507085212 L271.5025504363321,8437.247723485201 L260.2799841844116,8444.552804580893 L248.21540200989466,8450.362801142659 L235.50690401854362,8454.582313187579 L222.36316339603096,8457.142056444529 L209.00000000000003,8458.0 L209,8353.5 Z",
          "type": "path"
         },
         {
          "fillcolor": "red",
          "opacity": 0.5,
          "path": "M 209.00000000000003,8458.0 L209.00000000000003,8458.0 L209.00000000000003,8458.0 L209.00000000000003,8458.0 L209.00000000000003,8458.0 L209.00000000000003,8458.0 L209.00000000000003,8458.0 L209.00000000000003,8458.0 L209.00000000000003,8458.0 L209.00000000000003,8458.0 L209.00000000000003,8458.0 L209.00000000000003,8458.0 L209.00000000000003,8458.0 L209.00000000000003,8458.0 L209.00000000000003,8458.0 L209.00000000000003,8458.0 L209.00000000000003,8458.0 L209.00000000000003,8458.0 L209.00000000000003,8458.0 L209.00000000000003,8458.0 L209.00000000000003,8458.0 L209.00000000000003,8458.0 L209.00000000000003,8458.0 L209.00000000000003,8458.0 L209.00000000000003,8458.0 L209.00000000000003,8458.0 L209.00000000000003,8458.0 L209.00000000000003,8458.0 L209.00000000000003,8458.0 L209.00000000000003,8458.0 L209.00000000000003,8458.0 L209.00000000000003,8458.0 L209.00000000000003,8458.0 L209.00000000000003,8458.0 L209.00000000000003,8458.0 L209.00000000000003,8458.0 L209.00000000000003,8458.0 L209.00000000000003,8458.0 L209.00000000000003,8458.0 L209.00000000000003,8458.0 L209.00000000000003,8458.0 L209.00000000000003,8458.0 L209.00000000000003,8458.0 L209.00000000000003,8458.0 L209.00000000000003,8458.0 L209.00000000000003,8458.0 L209.00000000000003,8458.0 L209.00000000000003,8458.0 L209.00000000000003,8458.0 L209.00000000000003,8458.0 L209,8353.5 Z",
          "type": "path"
         },
         {
          "fillcolor": "blue",
          "opacity": 0.5,
          "path": "M 385.0,549.0 L360.3836463757326,547.4195776609749 L336.17149259741984,542.7042611350132 L312.7611015607205,534.9314757891092 L290.53687123924203,524.2288505437525 L269.86372288044095,510.77212220958165 L251.08110900882886,494.7822498938126 L234.49743962490427,476.5217868578062 L220.3850181214709,456.2905693997761 L208.97557006945613,434.42079355106085 L200.45643829044283,411.2715604264738 L194.96750669271836,387.22297979392556 L192.5989033813676,362.6699286825436 L193.38952075727934,338.0155675127714 L197.32637690499897,313.6647202134095 L204.3448287554211,290.01722702389833 L214.32963352319746,267.46137912863924 L227.11684099008596,246.3675429264824 L242.49648556300173,227.08207862469658 L260.2160339032506,209.92165301394175 L279.9845315169693,195.1680398083207 L301.47738021987004,183.06349292878434 L324.34166803045287,173.80676870044633 L348.2019639749858,167.54986227921992 L372.66648265371276,164.39551189556025 L397.3335173462872,164.39551189556025 L421.79803602501397,167.5498622792199 L445.6583319695469,173.80676870044624 L468.5226197801299,183.06349292878429 L490.01546848303053,195.1680398083206 L509.7839660967492,209.92165301394158 L527.5035144369982,227.08207862469652 L542.8831590099139,246.36754292648226 L555.6703664768024,267.4613791286392 L565.6551712445788,290.01722702389816 L572.6736230950011,313.66472021340945 L576.6104792427207,338.0155675127711 L577.4010966186324,362.66992868254357 L575.0324933072817,387.22297979392533 L569.5435617095573,411.2715604264736 L561.024429930544,434.4207935510606 L549.6149818785292,456.29056939977596 L535.5025603750958,476.5217868578062 L518.9188909911712,494.7822498938125 L500.13627711955917,510.7721222095816 L479.4631287607582,524.2288505437523 L457.23889843927964,534.9314757891092 L433.8285074025804,542.7042611350131 L409.61635362426756,547.4195776609748 L385.00000000000006,549.0 L385,356.5 Z",
          "type": "path"
         },
         {
          "fillcolor": "red",
          "opacity": 0.5,
          "path": "M 385.00000000000006,549.0 L385.00000000000006,549.0 L385.00000000000006,549.0 L385.00000000000006,549.0 L385.00000000000006,549.0 L385.00000000000006,549.0 L385.00000000000006,549.0 L385.00000000000006,549.0 L385.00000000000006,549.0 L385.00000000000006,549.0 L385.00000000000006,549.0 L385.00000000000006,549.0 L385.00000000000006,549.0 L385.00000000000006,549.0 L385.00000000000006,549.0 L385.00000000000006,549.0 L385.00000000000006,549.0 L385.00000000000006,549.0 L385.00000000000006,549.0 L385.00000000000006,549.0 L385.00000000000006,549.0 L385.00000000000006,549.0 L385.00000000000006,549.0 L385.00000000000006,549.0 L385.00000000000006,549.0 L385.00000000000006,549.0 L385.00000000000006,549.0 L385.00000000000006,549.0 L385.00000000000006,549.0 L385.00000000000006,549.0 L385.00000000000006,549.0 L385.00000000000006,549.0 L385.00000000000006,549.0 L385.00000000000006,549.0 L385.00000000000006,549.0 L385.00000000000006,549.0 L385.00000000000006,549.0 L385.00000000000006,549.0 L385.00000000000006,549.0 L385.00000000000006,549.0 L385.00000000000006,549.0 L385.00000000000006,549.0 L385.00000000000006,549.0 L385.00000000000006,549.0 L385.00000000000006,549.0 L385.00000000000006,549.0 L385.00000000000006,549.0 L385.00000000000006,549.0 L385.00000000000006,549.0 L385.00000000000006,549.0 L385,356.5 Z",
          "type": "path"
         }
        ],
        "template": {
         "data": {
          "bar": [
           {
            "error_x": {
             "color": "#2a3f5f"
            },
            "error_y": {
             "color": "#2a3f5f"
            },
            "marker": {
             "line": {
              "color": "#E5ECF6",
              "width": 0.5
             },
             "pattern": {
              "fillmode": "overlay",
              "size": 10,
              "solidity": 0.2
             }
            },
            "type": "bar"
           }
          ],
          "barpolar": [
           {
            "marker": {
             "line": {
              "color": "#E5ECF6",
              "width": 0.5
             },
             "pattern": {
              "fillmode": "overlay",
              "size": 10,
              "solidity": 0.2
             }
            },
            "type": "barpolar"
           }
          ],
          "carpet": [
           {
            "aaxis": {
             "endlinecolor": "#2a3f5f",
             "gridcolor": "white",
             "linecolor": "white",
             "minorgridcolor": "white",
             "startlinecolor": "#2a3f5f"
            },
            "baxis": {
             "endlinecolor": "#2a3f5f",
             "gridcolor": "white",
             "linecolor": "white",
             "minorgridcolor": "white",
             "startlinecolor": "#2a3f5f"
            },
            "type": "carpet"
           }
          ],
          "choropleth": [
           {
            "colorbar": {
             "outlinewidth": 0,
             "ticks": ""
            },
            "type": "choropleth"
           }
          ],
          "contour": [
           {
            "colorbar": {
             "outlinewidth": 0,
             "ticks": ""
            },
            "colorscale": [
             [
              0,
              "#0d0887"
             ],
             [
              0.1111111111111111,
              "#46039f"
             ],
             [
              0.2222222222222222,
              "#7201a8"
             ],
             [
              0.3333333333333333,
              "#9c179e"
             ],
             [
              0.4444444444444444,
              "#bd3786"
             ],
             [
              0.5555555555555556,
              "#d8576b"
             ],
             [
              0.6666666666666666,
              "#ed7953"
             ],
             [
              0.7777777777777778,
              "#fb9f3a"
             ],
             [
              0.8888888888888888,
              "#fdca26"
             ],
             [
              1,
              "#f0f921"
             ]
            ],
            "type": "contour"
           }
          ],
          "contourcarpet": [
           {
            "colorbar": {
             "outlinewidth": 0,
             "ticks": ""
            },
            "type": "contourcarpet"
           }
          ],
          "heatmap": [
           {
            "colorbar": {
             "outlinewidth": 0,
             "ticks": ""
            },
            "colorscale": [
             [
              0,
              "#0d0887"
             ],
             [
              0.1111111111111111,
              "#46039f"
             ],
             [
              0.2222222222222222,
              "#7201a8"
             ],
             [
              0.3333333333333333,
              "#9c179e"
             ],
             [
              0.4444444444444444,
              "#bd3786"
             ],
             [
              0.5555555555555556,
              "#d8576b"
             ],
             [
              0.6666666666666666,
              "#ed7953"
             ],
             [
              0.7777777777777778,
              "#fb9f3a"
             ],
             [
              0.8888888888888888,
              "#fdca26"
             ],
             [
              1,
              "#f0f921"
             ]
            ],
            "type": "heatmap"
           }
          ],
          "heatmapgl": [
           {
            "colorbar": {
             "outlinewidth": 0,
             "ticks": ""
            },
            "colorscale": [
             [
              0,
              "#0d0887"
             ],
             [
              0.1111111111111111,
              "#46039f"
             ],
             [
              0.2222222222222222,
              "#7201a8"
             ],
             [
              0.3333333333333333,
              "#9c179e"
             ],
             [
              0.4444444444444444,
              "#bd3786"
             ],
             [
              0.5555555555555556,
              "#d8576b"
             ],
             [
              0.6666666666666666,
              "#ed7953"
             ],
             [
              0.7777777777777778,
              "#fb9f3a"
             ],
             [
              0.8888888888888888,
              "#fdca26"
             ],
             [
              1,
              "#f0f921"
             ]
            ],
            "type": "heatmapgl"
           }
          ],
          "histogram": [
           {
            "marker": {
             "pattern": {
              "fillmode": "overlay",
              "size": 10,
              "solidity": 0.2
             }
            },
            "type": "histogram"
           }
          ],
          "histogram2d": [
           {
            "colorbar": {
             "outlinewidth": 0,
             "ticks": ""
            },
            "colorscale": [
             [
              0,
              "#0d0887"
             ],
             [
              0.1111111111111111,
              "#46039f"
             ],
             [
              0.2222222222222222,
              "#7201a8"
             ],
             [
              0.3333333333333333,
              "#9c179e"
             ],
             [
              0.4444444444444444,
              "#bd3786"
             ],
             [
              0.5555555555555556,
              "#d8576b"
             ],
             [
              0.6666666666666666,
              "#ed7953"
             ],
             [
              0.7777777777777778,
              "#fb9f3a"
             ],
             [
              0.8888888888888888,
              "#fdca26"
             ],
             [
              1,
              "#f0f921"
             ]
            ],
            "type": "histogram2d"
           }
          ],
          "histogram2dcontour": [
           {
            "colorbar": {
             "outlinewidth": 0,
             "ticks": ""
            },
            "colorscale": [
             [
              0,
              "#0d0887"
             ],
             [
              0.1111111111111111,
              "#46039f"
             ],
             [
              0.2222222222222222,
              "#7201a8"
             ],
             [
              0.3333333333333333,
              "#9c179e"
             ],
             [
              0.4444444444444444,
              "#bd3786"
             ],
             [
              0.5555555555555556,
              "#d8576b"
             ],
             [
              0.6666666666666666,
              "#ed7953"
             ],
             [
              0.7777777777777778,
              "#fb9f3a"
             ],
             [
              0.8888888888888888,
              "#fdca26"
             ],
             [
              1,
              "#f0f921"
             ]
            ],
            "type": "histogram2dcontour"
           }
          ],
          "mesh3d": [
           {
            "colorbar": {
             "outlinewidth": 0,
             "ticks": ""
            },
            "type": "mesh3d"
           }
          ],
          "parcoords": [
           {
            "line": {
             "colorbar": {
              "outlinewidth": 0,
              "ticks": ""
             }
            },
            "type": "parcoords"
           }
          ],
          "pie": [
           {
            "automargin": true,
            "type": "pie"
           }
          ],
          "scatter": [
           {
            "fillpattern": {
             "fillmode": "overlay",
             "size": 10,
             "solidity": 0.2
            },
            "type": "scatter"
           }
          ],
          "scatter3d": [
           {
            "line": {
             "colorbar": {
              "outlinewidth": 0,
              "ticks": ""
             }
            },
            "marker": {
             "colorbar": {
              "outlinewidth": 0,
              "ticks": ""
             }
            },
            "type": "scatter3d"
           }
          ],
          "scattercarpet": [
           {
            "marker": {
             "colorbar": {
              "outlinewidth": 0,
              "ticks": ""
             }
            },
            "type": "scattercarpet"
           }
          ],
          "scattergeo": [
           {
            "marker": {
             "colorbar": {
              "outlinewidth": 0,
              "ticks": ""
             }
            },
            "type": "scattergeo"
           }
          ],
          "scattergl": [
           {
            "marker": {
             "colorbar": {
              "outlinewidth": 0,
              "ticks": ""
             }
            },
            "type": "scattergl"
           }
          ],
          "scattermapbox": [
           {
            "marker": {
             "colorbar": {
              "outlinewidth": 0,
              "ticks": ""
             }
            },
            "type": "scattermapbox"
           }
          ],
          "scatterpolar": [
           {
            "marker": {
             "colorbar": {
              "outlinewidth": 0,
              "ticks": ""
             }
            },
            "type": "scatterpolar"
           }
          ],
          "scatterpolargl": [
           {
            "marker": {
             "colorbar": {
              "outlinewidth": 0,
              "ticks": ""
             }
            },
            "type": "scatterpolargl"
           }
          ],
          "scatterternary": [
           {
            "marker": {
             "colorbar": {
              "outlinewidth": 0,
              "ticks": ""
             }
            },
            "type": "scatterternary"
           }
          ],
          "surface": [
           {
            "colorbar": {
             "outlinewidth": 0,
             "ticks": ""
            },
            "colorscale": [
             [
              0,
              "#0d0887"
             ],
             [
              0.1111111111111111,
              "#46039f"
             ],
             [
              0.2222222222222222,
              "#7201a8"
             ],
             [
              0.3333333333333333,
              "#9c179e"
             ],
             [
              0.4444444444444444,
              "#bd3786"
             ],
             [
              0.5555555555555556,
              "#d8576b"
             ],
             [
              0.6666666666666666,
              "#ed7953"
             ],
             [
              0.7777777777777778,
              "#fb9f3a"
             ],
             [
              0.8888888888888888,
              "#fdca26"
             ],
             [
              1,
              "#f0f921"
             ]
            ],
            "type": "surface"
           }
          ],
          "table": [
           {
            "cells": {
             "fill": {
              "color": "#EBF0F8"
             },
             "line": {
              "color": "white"
             }
            },
            "header": {
             "fill": {
              "color": "#C8D4E3"
             },
             "line": {
              "color": "white"
             }
            },
            "type": "table"
           }
          ]
         },
         "layout": {
          "annotationdefaults": {
           "arrowcolor": "#2a3f5f",
           "arrowhead": 0,
           "arrowwidth": 1
          },
          "autotypenumbers": "strict",
          "coloraxis": {
           "colorbar": {
            "outlinewidth": 0,
            "ticks": ""
           }
          },
          "colorscale": {
           "diverging": [
            [
             0,
             "#8e0152"
            ],
            [
             0.1,
             "#c51b7d"
            ],
            [
             0.2,
             "#de77ae"
            ],
            [
             0.3,
             "#f1b6da"
            ],
            [
             0.4,
             "#fde0ef"
            ],
            [
             0.5,
             "#f7f7f7"
            ],
            [
             0.6,
             "#e6f5d0"
            ],
            [
             0.7,
             "#b8e186"
            ],
            [
             0.8,
             "#7fbc41"
            ],
            [
             0.9,
             "#4d9221"
            ],
            [
             1,
             "#276419"
            ]
           ],
           "sequential": [
            [
             0,
             "#0d0887"
            ],
            [
             0.1111111111111111,
             "#46039f"
            ],
            [
             0.2222222222222222,
             "#7201a8"
            ],
            [
             0.3333333333333333,
             "#9c179e"
            ],
            [
             0.4444444444444444,
             "#bd3786"
            ],
            [
             0.5555555555555556,
             "#d8576b"
            ],
            [
             0.6666666666666666,
             "#ed7953"
            ],
            [
             0.7777777777777778,
             "#fb9f3a"
            ],
            [
             0.8888888888888888,
             "#fdca26"
            ],
            [
             1,
             "#f0f921"
            ]
           ],
           "sequentialminus": [
            [
             0,
             "#0d0887"
            ],
            [
             0.1111111111111111,
             "#46039f"
            ],
            [
             0.2222222222222222,
             "#7201a8"
            ],
            [
             0.3333333333333333,
             "#9c179e"
            ],
            [
             0.4444444444444444,
             "#bd3786"
            ],
            [
             0.5555555555555556,
             "#d8576b"
            ],
            [
             0.6666666666666666,
             "#ed7953"
            ],
            [
             0.7777777777777778,
             "#fb9f3a"
            ],
            [
             0.8888888888888888,
             "#fdca26"
            ],
            [
             1,
             "#f0f921"
            ]
           ]
          },
          "colorway": [
           "#636efa",
           "#EF553B",
           "#00cc96",
           "#ab63fa",
           "#FFA15A",
           "#19d3f3",
           "#FF6692",
           "#B6E880",
           "#FF97FF",
           "#FECB52"
          ],
          "font": {
           "color": "#2a3f5f"
          },
          "geo": {
           "bgcolor": "white",
           "lakecolor": "white",
           "landcolor": "#E5ECF6",
           "showlakes": true,
           "showland": true,
           "subunitcolor": "white"
          },
          "hoverlabel": {
           "align": "left"
          },
          "hovermode": "closest",
          "mapbox": {
           "style": "light"
          },
          "paper_bgcolor": "white",
          "plot_bgcolor": "#E5ECF6",
          "polar": {
           "angularaxis": {
            "gridcolor": "white",
            "linecolor": "white",
            "ticks": ""
           },
           "bgcolor": "#E5ECF6",
           "radialaxis": {
            "gridcolor": "white",
            "linecolor": "white",
            "ticks": ""
           }
          },
          "scene": {
           "xaxis": {
            "backgroundcolor": "#E5ECF6",
            "gridcolor": "white",
            "gridwidth": 2,
            "linecolor": "white",
            "showbackground": true,
            "ticks": "",
            "zerolinecolor": "white"
           },
           "yaxis": {
            "backgroundcolor": "#E5ECF6",
            "gridcolor": "white",
            "gridwidth": 2,
            "linecolor": "white",
            "showbackground": true,
            "ticks": "",
            "zerolinecolor": "white"
           },
           "zaxis": {
            "backgroundcolor": "#E5ECF6",
            "gridcolor": "white",
            "gridwidth": 2,
            "linecolor": "white",
            "showbackground": true,
            "ticks": "",
            "zerolinecolor": "white"
           }
          },
          "shapedefaults": {
           "line": {
            "color": "#2a3f5f"
           }
          },
          "ternary": {
           "aaxis": {
            "gridcolor": "white",
            "linecolor": "white",
            "ticks": ""
           },
           "baxis": {
            "gridcolor": "white",
            "linecolor": "white",
            "ticks": ""
           },
           "bgcolor": "#E5ECF6",
           "caxis": {
            "gridcolor": "white",
            "linecolor": "white",
            "ticks": ""
           }
          },
          "title": {
           "x": 0.05
          },
          "xaxis": {
           "automargin": true,
           "gridcolor": "white",
           "linecolor": "white",
           "ticks": "",
           "title": {
            "standoff": 15
           },
           "zerolinecolor": "white",
           "zerolinewidth": 2
          },
          "yaxis": {
           "automargin": true,
           "gridcolor": "white",
           "linecolor": "white",
           "ticks": "",
           "title": {
            "standoff": 15
           },
           "zerolinecolor": "white",
           "zerolinewidth": 2
          }
         }
        },
        "title": {
         "text": "Title"
        },
        "width": 1000,
        "xaxis": {
         "range": [
          0,
          3
         ],
         "title": {
          "text": "Number of Evidence Items"
         }
        },
        "yaxis": {
         "range": [
          0,
          9000
         ],
         "scaleanchor": "x",
         "scaleratio": 1,
         "title": {
          "text": "Impact Score"
         }
        }
       }
      }
     },
     "metadata": {},
     "output_type": "display_data"
    }
   ],
   "source": [
    "fig = go.Figure(layout=layout)\n",
    "for ix,row in merged_not_supported_impact_df.iterrows():\n",
    "    proportion1 = 360*(row['Total Number Variants']/(row['Total Number Variants']+row['Total Number Features']))\n",
    "    proportion2 = 360*(row['Total Number Features']/(row['Total Number Variants']+row['Total Number Features']))\n",
    "    pie1 = disk_part(\n",
    "        center=[row['Sum Variants'],row['Sum Impact Score']],\n",
    "        radius = (row['Total Number Variants']+row['Total Number Features'])/2,\n",
    "        start_angle = 90,\n",
    "        end_angle = 90 + proportion1,\n",
    "        seg=False\n",
    "    )\n",
    "    pie2 = disk_part(\n",
    "        center=[row['Sum Variants'],row['Sum Impact Score']],\n",
    "        radius = (row['Total Number Variants']+row['Total Number Features'])/2,\n",
    "        start_angle = 90 + proportion1,\n",
    "        end_angle = 360+90,\n",
    "        seg=False\n",
    "    )\n",
    "    \n",
    "    fig.add_shape(type='path',path=pie1, fillcolor='blue', opacity=.5)\n",
    "    fig.add_shape(type='path',path=pie2, fillcolor='red', opacity=.5)\n",
    "\n",
    "    \n",
    "# fig.add_annotation(hovertext= ['Category'])#, 'Total Number Assertions', 'CIVIC Total Sum Impact Score','MOA Total Sum Impact Score', 'Total Number Variants', 'Total Number Features'])\n",
    "\n",
    "# fig.add_annotation(hovertext= ['Total Number Evidence Items', 'Total Number Assertions', 'CIVIC Total Sum Impact Score','MOA Total Sum Impact Score', 'Total Number Variants', 'Total Number Features'])\n",
    "fig.update_yaxes(scaleanchor = \"x\", #IMPORTANT These yaxis settings ensure that the circle is non-deformed\n",
    "                 scaleratio = 1)\n",
    "fig.update_layout(width=1000, height=1000, xaxis_range=[0,3], yaxis_range=[0, 9000])\n"
   ]
  },
  {
   "cell_type": "code",
   "execution_count": 97,
   "metadata": {},
   "outputs": [],
   "source": [
    "fig.write_html(\"merged_not_supported_impact_df_scatterpieplot.html\")"
   ]
  },
  {
   "cell_type": "code",
   "execution_count": 98,
   "metadata": {},
   "outputs": [
    {
     "data": {
      "text/html": [
       "<div>\n",
       "<style scoped>\n",
       "    .dataframe tbody tr th:only-of-type {\n",
       "        vertical-align: middle;\n",
       "    }\n",
       "\n",
       "    .dataframe tbody tr th {\n",
       "        vertical-align: top;\n",
       "    }\n",
       "\n",
       "    .dataframe thead th {\n",
       "        text-align: right;\n",
       "    }\n",
       "</style>\n",
       "<table border=\"1\" class=\"dataframe\">\n",
       "  <thead>\n",
       "    <tr style=\"text-align: right;\">\n",
       "      <th></th>\n",
       "      <th>Category</th>\n",
       "      <th>MOA Total Sum Impact Score</th>\n",
       "      <th>Average Impact Score per Feature</th>\n",
       "      <th>Average Impact Score per Assertion</th>\n",
       "      <th>Total Number Assertions</th>\n",
       "      <th>Total Number Features</th>\n",
       "      <th>CIVIC Total Sum Impact Score</th>\n",
       "      <th>Average Impact Score per Variant</th>\n",
       "      <th>Average Impact Score per Evidence Item</th>\n",
       "      <th>Total Number Evidence Items</th>\n",
       "      <th>% Accepted Evidence Items</th>\n",
       "      <th>Total Number Variants</th>\n",
       "      <th>Sum Evidence Items</th>\n",
       "      <th>Sum Variants</th>\n",
       "      <th>Sum Impact Score</th>\n",
       "      <th>Ratio of MOA Features to MOA+CIVIC per Category</th>\n",
       "    </tr>\n",
       "  </thead>\n",
       "  <tbody>\n",
       "    <tr>\n",
       "      <th>0</th>\n",
       "      <td>Expression</td>\n",
       "      <td>11</td>\n",
       "      <td>0</td>\n",
       "      <td>0</td>\n",
       "      <td>12</td>\n",
       "      <td>11</td>\n",
       "      <td>3618.00</td>\n",
       "      <td>9.397403</td>\n",
       "      <td>7.681529</td>\n",
       "      <td>617</td>\n",
       "      <td>55.43%</td>\n",
       "      <td>291</td>\n",
       "      <td>629</td>\n",
       "      <td>302</td>\n",
       "      <td>3629.00</td>\n",
       "      <td>0.036424</td>\n",
       "    </tr>\n",
       "    <tr>\n",
       "      <th>1</th>\n",
       "      <td>Epigenetic Modification</td>\n",
       "      <td>0</td>\n",
       "      <td>0</td>\n",
       "      <td>0</td>\n",
       "      <td>0</td>\n",
       "      <td>0</td>\n",
       "      <td>285.50</td>\n",
       "      <td>0.741558</td>\n",
       "      <td>0.606157</td>\n",
       "      <td>24</td>\n",
       "      <td>91.67%</td>\n",
       "      <td>15</td>\n",
       "      <td>24</td>\n",
       "      <td>15</td>\n",
       "      <td>285.50</td>\n",
       "      <td>0.000000</td>\n",
       "    </tr>\n",
       "    <tr>\n",
       "      <th>2</th>\n",
       "      <td>Fusion</td>\n",
       "      <td>0</td>\n",
       "      <td>0</td>\n",
       "      <td>0</td>\n",
       "      <td>0</td>\n",
       "      <td>0</td>\n",
       "      <td>6600.75</td>\n",
       "      <td>17.144805</td>\n",
       "      <td>14.014331</td>\n",
       "      <td>1241</td>\n",
       "      <td>59.39%</td>\n",
       "      <td>308</td>\n",
       "      <td>1241</td>\n",
       "      <td>308</td>\n",
       "      <td>6600.75</td>\n",
       "      <td>0.000000</td>\n",
       "    </tr>\n",
       "    <tr>\n",
       "      <th>3</th>\n",
       "      <td>Protein Consequence</td>\n",
       "      <td>1064</td>\n",
       "      <td>0</td>\n",
       "      <td>0</td>\n",
       "      <td>419</td>\n",
       "      <td>169</td>\n",
       "      <td>2683.75</td>\n",
       "      <td>6.970779</td>\n",
       "      <td>5.697983</td>\n",
       "      <td>301</td>\n",
       "      <td>63.46%</td>\n",
       "      <td>128</td>\n",
       "      <td>720</td>\n",
       "      <td>297</td>\n",
       "      <td>3747.75</td>\n",
       "      <td>0.569024</td>\n",
       "    </tr>\n",
       "    <tr>\n",
       "      <th>4</th>\n",
       "      <td>Gene Function</td>\n",
       "      <td>0</td>\n",
       "      <td>0</td>\n",
       "      <td>0</td>\n",
       "      <td>0</td>\n",
       "      <td>0</td>\n",
       "      <td>1805.50</td>\n",
       "      <td>4.689610</td>\n",
       "      <td>3.833333</td>\n",
       "      <td>348</td>\n",
       "      <td>44.25%</td>\n",
       "      <td>90</td>\n",
       "      <td>348</td>\n",
       "      <td>90</td>\n",
       "      <td>1805.50</td>\n",
       "      <td>0.000000</td>\n",
       "    </tr>\n",
       "  </tbody>\n",
       "</table>\n",
       "</div>"
      ],
      "text/plain": [
       "                  Category  MOA Total Sum Impact Score  \\\n",
       "0               Expression                          11   \n",
       "1  Epigenetic Modification                           0   \n",
       "2                   Fusion                           0   \n",
       "3      Protein Consequence                        1064   \n",
       "4            Gene Function                           0   \n",
       "\n",
       "   Average Impact Score per Feature  Average Impact Score per Assertion  \\\n",
       "0                                 0                                   0   \n",
       "1                                 0                                   0   \n",
       "2                                 0                                   0   \n",
       "3                                 0                                   0   \n",
       "4                                 0                                   0   \n",
       "\n",
       "   Total Number Assertions  Total Number Features  \\\n",
       "0                       12                     11   \n",
       "1                        0                      0   \n",
       "2                        0                      0   \n",
       "3                      419                    169   \n",
       "4                        0                      0   \n",
       "\n",
       "   CIVIC Total Sum Impact Score  Average Impact Score per Variant  \\\n",
       "0                       3618.00                          9.397403   \n",
       "1                        285.50                          0.741558   \n",
       "2                       6600.75                         17.144805   \n",
       "3                       2683.75                          6.970779   \n",
       "4                       1805.50                          4.689610   \n",
       "\n",
       "   Average Impact Score per Evidence Item  Total Number Evidence Items  \\\n",
       "0                                7.681529                          617   \n",
       "1                                0.606157                           24   \n",
       "2                               14.014331                         1241   \n",
       "3                                5.697983                          301   \n",
       "4                                3.833333                          348   \n",
       "\n",
       "  % Accepted Evidence Items  Total Number Variants  Sum Evidence Items  \\\n",
       "0                    55.43%                    291                 629   \n",
       "1                    91.67%                     15                  24   \n",
       "2                    59.39%                    308                1241   \n",
       "3                    63.46%                    128                 720   \n",
       "4                    44.25%                     90                 348   \n",
       "\n",
       "   Sum Variants  Sum Impact Score  \\\n",
       "0           302           3629.00   \n",
       "1            15            285.50   \n",
       "2           308           6600.75   \n",
       "3           297           3747.75   \n",
       "4            90           1805.50   \n",
       "\n",
       "   Ratio of MOA Features to MOA+CIVIC per Category  \n",
       "0                                         0.036424  \n",
       "1                                         0.000000  \n",
       "2                                         0.000000  \n",
       "3                                         0.569024  \n",
       "4                                         0.000000  "
      ]
     },
     "execution_count": 98,
     "metadata": {},
     "output_type": "execute_result"
    }
   ],
   "source": [
    "merged_not_supported_impact_df.head()"
   ]
  },
  {
   "cell_type": "code",
   "execution_count": 99,
   "metadata": {},
   "outputs": [
    {
     "data": {
      "text/plain": [
       "array([0.03642384, 0.        , 0.        , 0.56902357, 0.        ,\n",
       "       0.42222222, 0.33333333, 0.08823529, 0.        , 0.        ,\n",
       "       0.        , 0.        ])"
      ]
     },
     "execution_count": 99,
     "metadata": {},
     "output_type": "execute_result"
    }
   ],
   "source": [
    "ratio_list = merged_not_supported_impact_df[\"Ratio of MOA Features to MOA+CIVIC per Category\"].to_numpy()\n",
    "ratio_list"
   ]
  },
  {
   "cell_type": "code",
   "execution_count": 100,
   "metadata": {},
   "outputs": [
    {
     "data": {
      "text/plain": [
       "array([ 629,   24, 1241,  720,  348,  217,   93,  185,   23,    7,  971,\n",
       "        471])"
      ]
     },
     "execution_count": 100,
     "metadata": {},
     "output_type": "execute_result"
    }
   ],
   "source": [
    "moa_civic_evidence_sum_list = merged_not_supported_impact_df[\"Sum Evidence Items\"].to_numpy()\n",
    "moa_civic_evidence_sum_list"
   ]
  },
  {
   "cell_type": "code",
   "execution_count": 101,
   "metadata": {},
   "outputs": [
    {
     "data": {
      "text/plain": [
       "array([302,  15, 308, 297,  90,  90,  51, 102,  11,   6, 209, 385])"
      ]
     },
     "execution_count": 101,
     "metadata": {},
     "output_type": "execute_result"
    }
   ],
   "source": [
    "moa_civic_variant_sum_list = merged_not_supported_impact_df[\"Sum Variants\"].to_numpy()\n",
    "moa_civic_variant_sum_list"
   ]
  },
  {
   "cell_type": "code",
   "execution_count": 102,
   "metadata": {},
   "outputs": [
    {
     "data": {
      "text/plain": [
       "array([3629.  ,  285.5 , 6600.75, 3747.75, 1805.5 ,  945.  ,  272.  ,\n",
       "        708.5 ,  195.  ,  117.5 , 8353.5 ,  356.5 ])"
      ]
     },
     "execution_count": 102,
     "metadata": {},
     "output_type": "execute_result"
    }
   ],
   "source": [
    "moa_civic_impact_score_list = merged_not_supported_impact_df[\"Sum Impact Score\"].to_numpy()\n",
    "moa_civic_impact_score_list"
   ]
  },
  {
   "cell_type": "code",
   "execution_count": 103,
   "metadata": {},
   "outputs": [
    {
     "data": {
      "image/png": "[encoded data removed]",
      "text/plain": [
       "<Figure size 640x480 with 1 Axes>"
      ]
     },
     "metadata": {},
     "output_type": "display_data"
    }
   ],
   "source": [
    "import numpy as np\n",
    "import matplotlib.pyplot as plt\n",
    "\n",
    "radi = np.array([.2, .6])\n",
    "\n",
    "# define some sizes of the scatter marker\n",
    "sizes = np.array([60])\n",
    "\n",
    "# calculate the points of the first pie marker\n",
    "#\n",
    "# these are just the origin (0,0) +\n",
    "# some points on a circle cos,sin\n",
    "\n",
    "xys = []\n",
    "ss = []\n",
    "colors = ['blue', 'green', 'red']\n",
    "for i in range(len(radi) + 1):\n",
    "    \n",
    "    if i == 0:\n",
    "        r1 = radi[i]\n",
    "        x = [0] + np.cos(np.linspace(0, 2 * np.pi * r1, 10)).tolist()\n",
    "        y = [0] + np.sin(np.linspace(0, 2 * np.pi * r1, 10)).tolist()\n",
    "    elif i == len(radi) - 1:\n",
    "        # last\n",
    "        r1 = radi[i]\n",
    "        x = [0] + np.cos(np.linspace(2 * np.pi * r1, 2 * np.pi, 10)).tolist()\n",
    "        y = [0] + np.sin(np.linspace(2 * np.pi * r1, 2 * np.pi, 10)).tolist()\n",
    "    else:\n",
    "        # middle\n",
    "        r1 = radi[i - 2]\n",
    "        r2 = radi[i - 1]\n",
    "        x = [0] + np.cos(np.linspace(2 * np.pi * r1, 2 * np.pi * r2, 10)).tolist()\n",
    "        y = [0] + np.sin(np.linspace(2 * np.pi * r1, 2 * np.pi * r2, 10)).tolist()\n",
    "\n",
    "    xy = np.column_stack([x, y])\n",
    "    xys.append(xy)\n",
    "    ss.append(np.abs(xy).max())\n",
    "\n",
    "fig, ax = plt.subplots()\n",
    "\n",
    "for i in range(len(xys)):\n",
    "    xy1 = xys[i]\n",
    "    s1 = ss[i]\n",
    "    color = colors[i]\n",
    "    ax.scatter(range(len(xys)), range(len(xys)), marker=xy1,\n",
    "            s=s1 ** 2 * sizes, facecolor=color)\n",
    "    \n",
    "plt.show()"
   ]
  },
  {
   "cell_type": "code",
   "execution_count": 104,
   "metadata": {},
   "outputs": [
    {
     "ename": "ValueError",
     "evalue": "x and y must be the same size",
     "output_type": "error",
     "traceback": [
      "\u001b[0;31m---------------------------------------------------------------------------\u001b[0m",
      "\u001b[0;31mValueError\u001b[0m                                Traceback (most recent call last)",
      "Cell \u001b[0;32mIn[104], line 44\u001b[0m\n\u001b[1;32m     42\u001b[0m     s1 \u001b[38;5;241m=\u001b[39m ss[i]\n\u001b[1;32m     43\u001b[0m     color \u001b[38;5;241m=\u001b[39m colors[i]\n\u001b[0;32m---> 44\u001b[0m     \u001b[43max\u001b[49m\u001b[38;5;241;43m.\u001b[39;49m\u001b[43mscatter\u001b[49m\u001b[43m(\u001b[49m\u001b[38;5;28;43mrange\u001b[39;49m\u001b[43m(\u001b[49m\u001b[38;5;241;43m1\u001b[39;49m\u001b[43m)\u001b[49m\u001b[43m,\u001b[49m\u001b[43m \u001b[49m\u001b[38;5;28;43mrange\u001b[39;49m\u001b[43m(\u001b[49m\u001b[38;5;241;43m3\u001b[39;49m\u001b[43m)\u001b[49m\u001b[43m,\u001b[49m\u001b[43m \u001b[49m\u001b[43mmarker\u001b[49m\u001b[38;5;241;43m=\u001b[39;49m\u001b[43mxy1\u001b[49m\u001b[43m,\u001b[49m\n\u001b[1;32m     45\u001b[0m \u001b[43m            \u001b[49m\u001b[43ms\u001b[49m\u001b[38;5;241;43m=\u001b[39;49m\u001b[43ms1\u001b[49m\u001b[43m \u001b[49m\u001b[38;5;241;43m*\u001b[39;49m\u001b[38;5;241;43m*\u001b[39;49m\u001b[43m \u001b[49m\u001b[38;5;241;43m2\u001b[39;49m\u001b[43m \u001b[49m\u001b[38;5;241;43m*\u001b[39;49m\u001b[43m \u001b[49m\u001b[43msizes\u001b[49m\u001b[43m,\u001b[49m\u001b[43m \u001b[49m\u001b[43mfacecolor\u001b[49m\u001b[38;5;241;43m=\u001b[39;49m\u001b[43mcolor\u001b[49m\u001b[43m)\u001b[49m\n\u001b[1;32m     47\u001b[0m plt\u001b[38;5;241m.\u001b[39mshow()\n",
      "File \u001b[0;32m~/Documents/git/genomic_med_lab/variation-normalizer-manuscript/.venv/lib/python3.10/site-packages/matplotlib/__init__.py:1442\u001b[0m, in \u001b[0;36m_preprocess_data.<locals>.inner\u001b[0;34m(ax, data, *args, **kwargs)\u001b[0m\n\u001b[1;32m   1439\u001b[0m \u001b[39m@functools\u001b[39m\u001b[39m.\u001b[39mwraps(func)\n\u001b[1;32m   1440\u001b[0m \u001b[39mdef\u001b[39;00m \u001b[39minner\u001b[39m(ax, \u001b[39m*\u001b[39margs, data\u001b[39m=\u001b[39m\u001b[39mNone\u001b[39;00m, \u001b[39m*\u001b[39m\u001b[39m*\u001b[39mkwargs):\n\u001b[1;32m   1441\u001b[0m     \u001b[39mif\u001b[39;00m data \u001b[39mis\u001b[39;00m \u001b[39mNone\u001b[39;00m:\n\u001b[0;32m-> 1442\u001b[0m         \u001b[39mreturn\u001b[39;00m func(ax, \u001b[39m*\u001b[39;49m\u001b[39mmap\u001b[39;49m(sanitize_sequence, args), \u001b[39m*\u001b[39;49m\u001b[39m*\u001b[39;49mkwargs)\n\u001b[1;32m   1444\u001b[0m     bound \u001b[39m=\u001b[39m new_sig\u001b[39m.\u001b[39mbind(ax, \u001b[39m*\u001b[39margs, \u001b[39m*\u001b[39m\u001b[39m*\u001b[39mkwargs)\n\u001b[1;32m   1445\u001b[0m     auto_label \u001b[39m=\u001b[39m (bound\u001b[39m.\u001b[39marguments\u001b[39m.\u001b[39mget(label_namer)\n\u001b[1;32m   1446\u001b[0m                   \u001b[39mor\u001b[39;00m bound\u001b[39m.\u001b[39mkwargs\u001b[39m.\u001b[39mget(label_namer))\n",
      "File \u001b[0;32m~/Documents/git/genomic_med_lab/variation-normalizer-manuscript/.venv/lib/python3.10/site-packages/matplotlib/axes/_axes.py:4584\u001b[0m, in \u001b[0;36mAxes.scatter\u001b[0;34m(self, x, y, s, c, marker, cmap, norm, vmin, vmax, alpha, linewidths, edgecolors, plotnonfinite, **kwargs)\u001b[0m\n\u001b[1;32m   4582\u001b[0m y \u001b[39m=\u001b[39m np\u001b[39m.\u001b[39mma\u001b[39m.\u001b[39mravel(y)\n\u001b[1;32m   4583\u001b[0m \u001b[39mif\u001b[39;00m x\u001b[39m.\u001b[39msize \u001b[39m!=\u001b[39m y\u001b[39m.\u001b[39msize:\n\u001b[0;32m-> 4584\u001b[0m     \u001b[39mraise\u001b[39;00m \u001b[39mValueError\u001b[39;00m(\u001b[39m\"\u001b[39m\u001b[39mx and y must be the same size\u001b[39m\u001b[39m\"\u001b[39m)\n\u001b[1;32m   4586\u001b[0m \u001b[39mif\u001b[39;00m s \u001b[39mis\u001b[39;00m \u001b[39mNone\u001b[39;00m:\n\u001b[1;32m   4587\u001b[0m     s \u001b[39m=\u001b[39m (\u001b[39m20\u001b[39m \u001b[39mif\u001b[39;00m mpl\u001b[39m.\u001b[39mrcParams[\u001b[39m'\u001b[39m\u001b[39m_internal.classic_mode\u001b[39m\u001b[39m'\u001b[39m] \u001b[39melse\u001b[39;00m\n\u001b[1;32m   4588\u001b[0m          mpl\u001b[39m.\u001b[39mrcParams[\u001b[39m'\u001b[39m\u001b[39mlines.markersize\u001b[39m\u001b[39m'\u001b[39m] \u001b[39m*\u001b[39m\u001b[39m*\u001b[39m \u001b[39m2.0\u001b[39m)\n",
      "\u001b[0;31mValueError\u001b[0m: x and y must be the same size"
     ]
    },
    {
     "data": {
      "image/png": "[encoded data removed]",
      "text/plain": [
       "<Figure size 640x480 with 1 Axes>"
      ]
     },
     "metadata": {},
     "output_type": "display_data"
    }
   ],
   "source": [
    "import numpy as np\n",
    "import matplotlib.pyplot as plt\n",
    "\n",
    "radi = ratio_list\n",
    "\n",
    "# define some sizes of the scatter marker\n",
    "sizes = moa_civic_variant_sum_list\n",
    "\n",
    "# calculate the points of the first pie marker\n",
    "#\n",
    "# these are just the origin (0,0) +\n",
    "# some points on a circle cos,sin\n",
    "\n",
    "xys = []\n",
    "ss = []\n",
    "colors = ['blue', 'green', 'red', ]\n",
    "for i in range(len(radi) + 1):\n",
    "    \n",
    "    if i == 0:\n",
    "        r1 = radi[i]\n",
    "        x = [0] + np.cos(np.linspace(0, 2 * np.pi * r1, 10)).tolist()\n",
    "        y = [0] + np.sin(np.linspace(0, 2 * np.pi * r1, 10)).tolist()\n",
    "    elif i == len(radi) - 1:\n",
    "        # last\n",
    "        r1 = radi[i]\n",
    "        x = [0] + np.cos(np.linspace(2 * np.pi * r1, 2 * np.pi, 10)).tolist()\n",
    "        y = [0] + np.sin(np.linspace(2 * np.pi * r1, 2 * np.pi, 10)).tolist()\n",
    "    else:\n",
    "        # middle\n",
    "        r1 = radi[i - 2]\n",
    "        r2 = radi[i - 1]\n",
    "        x = [0] + np.cos(np.linspace(2 * np.pi * r1, 2 * np.pi * r2, 10)).tolist()\n",
    "        y = [0] + np.sin(np.linspace(2 * np.pi * r1, 2 * np.pi * r2, 10)).tolist()\n",
    "\n",
    "    xy = np.column_stack([x, y])\n",
    "    xys.append(xy)\n",
    "    ss.append(np.abs(xy).max())\n",
    "\n",
    "fig, ax = plt.subplots()\n",
    "for i in range(len(xys)):\n",
    "    xy1 = xys[i]\n",
    "    s1 = ss[i]\n",
    "    color = colors[i]\n",
    "    ax.scatter(range(1), range(3), marker=xy1,\n",
    "            s=s1 ** 2 * sizes, facecolor=color)\n",
    "\n",
    "plt.show()"
   ]
  },
  {
   "cell_type": "code",
   "execution_count": null,
   "metadata": {},
   "outputs": [
    {
     "data": {
      "image/png": "[encoded data removed]",
      "text/plain": [
       "<Figure size 640x480 with 1 Axes>"
      ]
     },
     "metadata": {},
     "output_type": "display_data"
    }
   ],
   "source": [
    "import numpy as np\n",
    "import matplotlib.pyplot as plt\n",
    "\n",
    "# first define the ratios\n",
    "r1 = 0.2       # 20%\n",
    "r2 = r1 + 0.4  # 40%\n",
    "\n",
    "# define some sizes of the scatter marker\n",
    "sizes = np.array([60, 80, 120])\n",
    "\n",
    "# calculate the points of the first pie marker\n",
    "#\n",
    "# these are just the origin (0,0) +\n",
    "# some points on a circle cos,sin\n",
    "x = [0] + np.cos(np.linspace(0, 2 * np.pi * r1, 10)).tolist()\n",
    "y = [0] + np.sin(np.linspace(0, 2 * np.pi * r1, 10)).tolist()\n",
    "xy1 = np.column_stack([x, y])\n",
    "s1 = np.abs(xy1).max()\n",
    "\n",
    "x = [0] + np.cos(np.linspace(2 * np.pi * r1, 2 * np.pi * r2, 10)).tolist()\n",
    "y = [0] + np.sin(np.linspace(2 * np.pi * r1, 2 * np.pi * r2, 10)).tolist()\n",
    "xy2 = np.column_stack([x, y])\n",
    "s2 = np.abs(xy2).max()\n",
    "\n",
    "x = [0] + np.cos(np.linspace(2 * np.pi * r2, 2 * np.pi, 10)).tolist()\n",
    "y = [0] + np.sin(np.linspace(2 * np.pi * r2, 2 * np.pi, 10)).tolist()\n",
    "xy3 = np.column_stack([x, y])\n",
    "s3 = np.abs(xy3).max()\n",
    "\n",
    "fig, ax = plt.subplots()\n",
    "ax.pie([s1, s3, s3])\n",
    "# ax.scatter(range(3), range(3), marker=xy1,\n",
    "#            s=s1 ** 2 * sizes, facecolor='blue')\n",
    "# ax.scatter(range(3), range(3), marker=xy2,\n",
    "#            s=s2 ** 2 * sizes, facecolor='green')\n",
    "# ax.scatter(range(3), range(3), marker=xy3,\n",
    "#            s=s3 ** 2 * sizes, facecolor='red')\n",
    "\n",
    "plt.show()"
   ]
  },
  {
   "cell_type": "code",
   "execution_count": null,
   "metadata": {},
   "outputs": [
    {
     "data": {
      "image/png": "[encoded data removed]",
      "text/plain": [
       "<Figure size 640x480 with 1 Axes>"
      ]
     },
     "metadata": {},
     "output_type": "display_data"
    }
   ],
   "source": [
    "import numpy as np\n",
    "import matplotlib.pyplot as plt\n",
    "\n",
    "ratio = np.array([.2, .6])\n",
    "\n",
    "# define some sizes of the scatter marker\n",
    "sizes = np.array([60, 120])\n",
    "\n",
    "# calculate the points of the first pie marker\n",
    "#\n",
    "\n",
    "# these are just the origin (0,0) +\n",
    "# some points on a circle cos,sin\n",
    "\n",
    "xys = []\n",
    "ss = []\n",
    "colors = ['blue', 'green', 'red']\n",
    "\n",
    "for i in range(len(ratio) + 1):\n",
    "    \n",
    "    \n",
    "    x = [0] + np.cos(np.linspace(0, 2 * np.pi * r1, 10)).tolist()\n",
    "    y = [0] + np.sin(np.linspace(0, 2 * np.pi * r1, 10)).tolist()\n",
    "    \n",
    "for i in range(len(ratio) + 1):\n",
    "    x = [0] + np.cos(np.linspace(2 * np.pi * r1, 2 * np.pi, 10)).tolist()\n",
    "    y = [0] + np.sin(np.linspace(2 * np.pi * r1, 2 * np.pi, 10)).tolist()\n",
    "\n",
    "\n",
    "    xy = np.column_stack([x, y])\n",
    "    xys.append(xy)\n",
    "    ss.append(np.abs(xy).max())\n",
    "\n",
    "fig, ax = plt.subplots()\n",
    "\n",
    "for i in range(len(xys)):\n",
    "    xy1 = xys[i]\n",
    "    s1 = ss[i]\n",
    "    color = colors[i]\n",
    "    ax.scatter(1, 1, marker=xy1, s=1000)\n",
    "    ax.scatter(2, 1.5, marker=xy1, s=1000)\n",
    "    \n",
    "plt.show()"
   ]
  },
  {
   "cell_type": "code",
   "execution_count": null,
   "metadata": {},
   "outputs": [
    {
     "data": {
      "image/png": "[encoded data removed]",
      "text/plain": [
       "<Figure size 640x480 with 1 Axes>"
      ]
     },
     "metadata": {},
     "output_type": "display_data"
    }
   ],
   "source": [
    "import numpy as np\n",
    "import matplotlib.pyplot as plt\n",
    "import matplotlib.patches as mpatches\n",
    "from matplotlib.legend_handler import HandlerPatch\n",
    "from matplotlib.lines import Line2D\n",
    "import base64\n",
    "from io import BytesIO\n",
    "import mpld3\n",
    "from matplotlib.pyplot import figure\n",
    "\n",
    "# first define the ratios\n",
    "r1= ratio_list[0]    \n",
    "r2=ratio_list[1]\n",
    "r3=ratio_list[2]\n",
    "r4= ratio_list[3]\n",
    "r5=ratio_list[4]\n",
    "r6=ratio_list[5]\n",
    "r7=ratio_list[6]\n",
    "r8=ratio_list[7]\n",
    "r9=ratio_list[8]\n",
    "r10=ratio_list[9]\n",
    "r11= ratio_list[10]\n",
    "r12=ratio_list[11]\n",
    "\n",
    "# define some sizes of the scatter marker\n",
    "size1=moa_civic_variant_sum_list[0]\n",
    "size2=moa_civic_variant_sum_list[1]\n",
    "size3=moa_civic_variant_sum_list[2]\n",
    "size4=moa_civic_variant_sum_list[3]\n",
    "size5=moa_civic_variant_sum_list[4]\n",
    "size6=moa_civic_variant_sum_list[5]\n",
    "size7=moa_civic_variant_sum_list[6]\n",
    "size8=moa_civic_variant_sum_list[7]\n",
    "size9=moa_civic_variant_sum_list[8]\n",
    "size10=moa_civic_variant_sum_list[9]\n",
    "size11=moa_civic_variant_sum_list[10]\n",
    "size12=moa_civic_variant_sum_list[11]\n",
    "\n",
    "# calculate the points of the first pie marker\n",
    "#\n",
    "# these are just the origin (0,0) +\n",
    "# some points on a circle cos,sin\n",
    "x = [0] + np.cos(np.linspace(0, 2 * np.pi * r1, 100)).tolist()\n",
    "y = [0] + np.sin(np.linspace(0, 2 * np.pi * r1, 100)).tolist()\n",
    "xy1a = np.column_stack([x, y])\n",
    "\n",
    "x = [0] + np.cos(np.linspace(2 * np.pi * r1, 2 * np.pi, 100)).tolist()\n",
    "y = [0] + np.sin(np.linspace(2 * np.pi * r1, 2 * np.pi, 100)).tolist()\n",
    "xy1b = np.column_stack([x, y])\n",
    "\n",
    "# x = [0] + np.cos(np.linspace(0, 2 * np.pi * r2, 10)).tolist()\n",
    "# y = [0] + np.sin(np.linspace(0, 2 * np.pi * r2, 10)).tolist()\n",
    "# xy2a = np.column_stack([x, y])\n",
    "\n",
    "x = [0] + np.cos(np.linspace(2 * np.pi * r2, 2 * np.pi, 100)).tolist()\n",
    "y = [0] + np.sin(np.linspace(2 * np.pi * r2, 2 * np.pi, 100)).tolist()\n",
    "xy2b = np.column_stack([x, y])\n",
    "\n",
    "# x = [0] + np.cos(np.linspace(0, 2 * np.pi * r3, 10)).tolist()\n",
    "# y = [0] + np.sin(np.linspace(0, 2 * np.pi * r3, 10)).tolist()\n",
    "# xy3a = np.column_stack([x, y])\n",
    "\n",
    "x = [0] + np.cos(np.linspace(2 * np.pi * r3, 2 * np.pi, 100)).tolist()\n",
    "y = [0] + np.sin(np.linspace(2 * np.pi * r3, 2 * np.pi, 100)).tolist()\n",
    "xy3b = np.column_stack([x, y])\n",
    "\n",
    "x = [0] + np.cos(np.linspace(0, 2 * np.pi * r4, 100)).tolist()\n",
    "y = [0] + np.sin(np.linspace(0, 2 * np.pi * r4, 100)).tolist()\n",
    "xy4a = np.column_stack([x, y])\n",
    "\n",
    "x = [0] + np.cos(np.linspace(2 * np.pi * r4, 2 * np.pi, 100)).tolist()\n",
    "y = [0] + np.sin(np.linspace(2 * np.pi * r4, 2 * np.pi, 100)).tolist()\n",
    "xy4b = np.column_stack([x, y])\n",
    "\n",
    "# x = [0] + np.cos(np.linspace(0, 2 * np.pi * r5, 10)).tolist()\n",
    "# y = [0] + np.sin(np.linspace(0, 2 * np.pi * r5, 10)).tolist()\n",
    "# xy5a = np.column_stack([x, y])\n",
    "\n",
    "x = [0] + np.cos(np.linspace(2 * np.pi * r5, 2 * np.pi, 100)).tolist()\n",
    "y = [0] + np.sin(np.linspace(2 * np.pi * r5, 2 * np.pi, 100)).tolist()\n",
    "xy5b = np.column_stack([x, y])\n",
    "\n",
    "x = [0] + np.cos(np.linspace(0, 2 * np.pi * r6, 100)).tolist()\n",
    "y = [0] + np.sin(np.linspace(0, 2 * np.pi * r6, 100)).tolist()\n",
    "xy6a = np.column_stack([x, y])\n",
    "\n",
    "x = [0] + np.cos(np.linspace(2 * np.pi * r6, 2 * np.pi, 100)).tolist()\n",
    "y = [0] + np.sin(np.linspace(2 * np.pi * r6, 2 * np.pi, 100)).tolist()\n",
    "xy6b = np.column_stack([x, y])\n",
    "\n",
    "x = [0] + np.cos(np.linspace(0, 2 * np.pi * r7, 100)).tolist()\n",
    "y = [0] + np.sin(np.linspace(0, 2 * np.pi * r7, 100)).tolist()\n",
    "xy7a = np.column_stack([x, y])\n",
    "\n",
    "x = [0] + np.cos(np.linspace(2 * np.pi * r7, 2 * np.pi, 100)).tolist()\n",
    "y = [0] + np.sin(np.linspace(2 * np.pi * r7, 2 * np.pi, 100)).tolist()\n",
    "xy7b = np.column_stack([x, y])\n",
    "\n",
    "x = [0] + np.cos(np.linspace(0, 2 * np.pi * r8, 100)).tolist()\n",
    "y = [0] + np.sin(np.linspace(0, 2 * np.pi * r8, 100)).tolist()\n",
    "xy8a = np.column_stack([x, y])\n",
    "\n",
    "x = [0] + np.cos(np.linspace(2 * np.pi * r8, 2 * np.pi, 100)).tolist()\n",
    "y = [0] + np.sin(np.linspace(2 * np.pi * r8, 2 * np.pi, 100)).tolist()\n",
    "xy8b = np.column_stack([x, y])\n",
    "\n",
    "# x = [0] + np.cos(np.linspace(0, 2 * np.pi * r9, 10)).tolist()\n",
    "# y = [0] + np.sin(np.linspace(0, 2 * np.pi * r9, 10)).tolist()\n",
    "# xy9a = np.column_stack([x, y])\n",
    "\n",
    "x = [0] + np.cos(np.linspace(2 * np.pi * r9, 2 * np.pi, 100)).tolist()\n",
    "y = [0] + np.sin(np.linspace(2 * np.pi * r9, 2 * np.pi, 100)).tolist()\n",
    "xy9b = np.column_stack([x, y])\n",
    "\n",
    "# x = [0] + np.cos(np.linspace(0, 2 * np.pi * r10, 10)).tolist()\n",
    "# y = [0] + np.sin(np.linspace(0, 2 * np.pi * r10, 10)).tolist()\n",
    "# xy10a = np.column_stack([x, y])\n",
    "\n",
    "x = [0] + np.cos(np.linspace(2 * np.pi * r10, 2 * np.pi, 100)).tolist()\n",
    "y = [0] + np.sin(np.linspace(2 * np.pi * r10, 2 * np.pi, 100)).tolist()\n",
    "xy10b = np.column_stack([x, y])\n",
    "\n",
    "# x = [0] + np.cos(np.linspace(0, 2 * np.pi * r11, 10)).tolist()\n",
    "# y = [0] + np.sin(np.linspace(0, 2 * np.pi * r11, 10)).tolist()\n",
    "# xy11a = np.column_stack([x, y])\n",
    "\n",
    "x = [0] + np.cos(np.linspace(2 * np.pi * r11, 2 * np.pi, 100)).tolist()\n",
    "y = [0] + np.sin(np.linspace(2 * np.pi * r11, 2 * np.pi, 100)).tolist()\n",
    "xy11b = np.column_stack([x, y])\n",
    "\n",
    "# x = [0] + np.cos(np.linspace(0, 2 * np.pi * r12, 10)).tolist()\n",
    "# y = [0] + np.sin(np.linspace(0, 2 * np.pi * r12, 10)).tolist()\n",
    "# xy12a = np.column_stack([x, y])\n",
    "\n",
    "x = [0] + np.cos(np.linspace(2 * np.pi * r12, 2 * np.pi, 100)).tolist()\n",
    "y = [0] + np.sin(np.linspace(2 * np.pi * r12, 2 * np.pi, 100)).tolist()\n",
    "xy12b = np.column_stack([x, y])\n",
    "\n",
    "\n",
    "fig4, ax = plt.subplots()\n",
    "\n",
    "ax.scatter(moa_civic_evidence_sum_list[0],moa_civic_impact_score_list[0], marker=xy1a,\n",
    "           s=size1, facecolor='mistyrose', edgecolors='red' )\n",
    "ax.scatter(moa_civic_evidence_sum_list[0],moa_civic_impact_score_list[0], marker=xy1b,\n",
    "           s=size1, facecolor='red')\n",
    "\n",
    "# ax.scatter(moa_civic_evidence_sum_list[1],moa_civic_impact_score_list[1], marker=xy2a,\n",
    "#            s=size2, facecolor='blue')\n",
    "ax.scatter(moa_civic_evidence_sum_list[1],moa_civic_impact_score_list[1], marker=xy2b,\n",
    "           s=size2, facecolor='darkorange')\n",
    "\n",
    "# ax.scatter(moa_civic_evidence_sum_list[2],moa_civic_impact_score_list[2], marker=xy3a,\n",
    "#            s=size3, facecolor='blue')\n",
    "ax.scatter(moa_civic_evidence_sum_list[2],moa_civic_impact_score_list[2], marker=xy3b,\n",
    "           s=size3, facecolor='forestgreen')\n",
    "\n",
    "ax.scatter(moa_civic_evidence_sum_list[3],moa_civic_impact_score_list[3], marker=xy4a,\n",
    "           s=size4, facecolor='honeydew', edgecolors='lawngreen')\n",
    "ax.scatter(moa_civic_evidence_sum_list[3],moa_civic_impact_score_list[3], marker=xy4b,\n",
    "           s=size4, facecolor='lawngreen')\n",
    "\n",
    "# ax.scatter(moa_civic_evidence_sum_list[4],moa_civic_impact_score_list[4], marker=xy5a,\n",
    "#            s=size5, facecolor='blue')\n",
    "ax.scatter(moa_civic_evidence_sum_list[4],moa_civic_impact_score_list[4], marker=xy5b,\n",
    "           s=size5, facecolor='gold')\n",
    "\n",
    "ax.scatter(moa_civic_evidence_sum_list[5],moa_civic_impact_score_list[5], marker=xy6a,\n",
    "           s=size6, facecolor='azure', edgecolors='cyan')\n",
    "ax.scatter(moa_civic_evidence_sum_list[5],moa_civic_impact_score_list[5], marker=xy6b,\n",
    "           s=size6, facecolor='cyan')\n",
    "\n",
    "ax.scatter(moa_civic_evidence_sum_list[6],moa_civic_impact_score_list[6], marker=xy7a,\n",
    "           s=size7, facecolor='powderblue', edgecolors='deepskyblue')\n",
    "ax.scatter(moa_civic_evidence_sum_list[6],moa_civic_impact_score_list[6], marker=xy7b,\n",
    "           s=size7, facecolor='deepskyblue')\n",
    "\n",
    "ax.scatter(moa_civic_evidence_sum_list[7],moa_civic_impact_score_list[7], marker=xy8a,\n",
    "           s=size8, facecolor='thistle', edgecolors='mediumslateblue')\n",
    "ax.scatter(moa_civic_evidence_sum_list[7],moa_civic_impact_score_list[7], marker=xy8b,\n",
    "           s=size8, facecolor='mediumslateblue')\n",
    "\n",
    "# ax.scatter(moa_civic_evidence_sum_list[8],moa_civic_impact_score_list[8], marker=xy9a,\n",
    "#            s=size9, facecolor='blue')\n",
    "ax.scatter(moa_civic_evidence_sum_list[8],moa_civic_impact_score_list[8], marker=xy9b,\n",
    "           s=size9, facecolor='blue')\n",
    "\n",
    "# ax.scatter(moa_civic_evidence_sum_list[9],moa_civic_impact_score_list[9], marker=xy10a,\n",
    "#            s=size10, facecolor='blue')\n",
    "ax.scatter(moa_civic_evidence_sum_list[9],moa_civic_impact_score_list[9], marker=xy10b,\n",
    "           s=size10, facecolor='pink')\n",
    "\n",
    "# ax.scatter(moa_civic_evidence_sum_list[10],moa_civic_impact_score_list[10], marker=xy11a,\n",
    "#            s=size11, facecolor='blue')\n",
    "ax.scatter(moa_civic_evidence_sum_list[10],moa_civic_impact_score_list[10], marker=xy11b,\n",
    "           s=size11, facecolor='deeppink')\n",
    "\n",
    "# ax.scatter(moa_civic_evidence_sum_list[11],moa_civic_impact_score_list[11], marker=xy12a,\n",
    "#            s=size12, facecolor='blue')\n",
    "ax.scatter(moa_civic_evidence_sum_list[11],moa_civic_impact_score_list[11], marker=xy12b,\n",
    "           s=size12, facecolor='fuchsia')\n",
    "\n",
    "\n",
    "legend_elements = [Line2D([0], [0], marker='o', color='w', label='Expression',\n",
    "                          markerfacecolor='red', markersize=10),\n",
    "                   Line2D([0], [0], marker='o', color='w', label='Epigenetic Modification',\n",
    "                          markerfacecolor='darkorange', markersize=10),\n",
    "                   Line2D([0], [0], marker='o', color='w', label='Fusion',\n",
    "                          markerfacecolor='forestgreen', markersize=10),       \n",
    "                   Line2D([0], [0], marker='o', color='w', label='Protein Consequence',\n",
    "                          markerfacecolor='lawngreen', markersize=10),       \n",
    "                   Line2D([0], [0], marker='o', color='w', label='Gene Function',\n",
    "                          markerfacecolor='gold', markersize=10),       \n",
    "                   Line2D([0], [0], marker='o', color='w', label='Rearrangements',\n",
    "                          markerfacecolor='cyan', markersize=10),       \n",
    "                   Line2D([0], [0], marker='o', color='w', label='Copy Number',\n",
    "                          markerfacecolor='deepskyblue', markersize=10),\n",
    "                   Line2D([0], [0], marker='o', color='w', label='Other',\n",
    "                          markerfacecolor='mediumslateblue', markersize=10),\n",
    "                   Line2D([0], [0], marker='o', color='w', label='Genotypes Easy',\n",
    "                          markerfacecolor='blue', markersize=10),       \n",
    "                   Line2D([0], [0], marker='o', color='w', label='Genotypes Compound',\n",
    "                          markerfacecolor='pink', markersize=10),       \n",
    "                   Line2D([0], [0], marker='o', color='w', label='Region Defined',\n",
    "                          markerfacecolor='deeppink', markersize=10),       \n",
    "                   Line2D([0], [0], marker='o', color='w', label='Transcript',\n",
    "                          markerfacecolor='fuchsia', markersize=10)]\n",
    "\n",
    "# Create the figure\n",
    "ax.legend(handles=legend_elements, loc='upper left')\n",
    "plt.setp(plt.gca().get_legend().get_texts(), fontsize='6')\n",
    "\n",
    "plt.savefig('myfig.jpeg')\n",
    "plt.show()"
   ]
  },
  {
   "cell_type": "code",
   "execution_count": null,
   "metadata": {},
   "outputs": [
    {
     "data": {
      "image/png": "[encoded data removed]",
      "text/plain": [
       "<Figure size 2500x1500 with 1 Axes>"
      ]
     },
     "metadata": {},
     "output_type": "display_data"
    }
   ],
   "source": [
    "import numpy as np\n",
    "import matplotlib.pyplot as plt\n",
    "import matplotlib.patches as mpatches\n",
    "from matplotlib.legend_handler import HandlerPatch\n",
    "from matplotlib.lines import Line2D\n",
    "import base64\n",
    "from io import BytesIO\n",
    "import mpld3\n",
    "from matplotlib.pyplot import figure\n",
    "from matplotlib.hatch import Circles\n",
    "from matplotlib.widgets import TextBox\n",
    "# first define the ratios\n",
    "r1= ratio_list[0]  \n",
    "r2=ratio_list[1]\n",
    "r3=ratio_list[2] \n",
    "r4= ratio_list[3]  \n",
    "r5=ratio_list[4]\n",
    "r6=ratio_list[5]\n",
    "r7=ratio_list[6]\n",
    "r8=ratio_list[7]\n",
    "r9=ratio_list[8]\n",
    "r10=ratio_list[9] \n",
    "r11= ratio_list[10] \n",
    "r12=ratio_list[11]\n",
    "\n",
    "# define some sizes of the scatter marker\n",
    "size1=moa_civic_variant_sum_list[0]*20  \n",
    "size2=moa_civic_variant_sum_list[1]*20 \n",
    "size3=moa_civic_variant_sum_list[2]*20\n",
    "size4=moa_civic_variant_sum_list[3]*20 \n",
    "size5=moa_civic_variant_sum_list[4]*20 \n",
    "size6=moa_civic_variant_sum_list[5]*20 \n",
    "size7=moa_civic_variant_sum_list[6]*20 \n",
    "size8=moa_civic_variant_sum_list[7]*20 \n",
    "size9=moa_civic_variant_sum_list[8]*20 \n",
    "size10=moa_civic_variant_sum_list[9]*20  \n",
    "size11=moa_civic_variant_sum_list[10]*20  \n",
    "size12=moa_civic_variant_sum_list[11]*20 \n",
    "\n",
    "# calculate the points of the first pie marker\n",
    "#\n",
    "# these are just the origin (0,0) +\n",
    "# some points on a circle cos,sin\n",
    "x = [0] + np.cos(np.linspace(0, 2 * np.pi * r1, 100)).tolist()\n",
    "y = [0] + np.sin(np.linspace(0, 2 * np.pi * r1, 100)).tolist()\n",
    "xy1a = np.column_stack([x, y])\n",
    "\n",
    "x = [0] + np.cos(np.linspace(2 * np.pi * r1, 2 * np.pi, 100)).tolist()\n",
    "y = [0] + np.sin(np.linspace(2 * np.pi * r1, 2 * np.pi, 100)).tolist()\n",
    "xy1b = np.column_stack([x, y])\n",
    "\n",
    "# x = [0] + np.cos(np.linspace(0, 2 * np.pi * r2, 10)).tolist()\n",
    "# y = [0] + np.sin(np.linspace(0, 2 * np.pi * r2, 10)).tolist()\n",
    "# xy2a = np.column_stack([x, y])\n",
    "\n",
    "x = [0] + np.cos(np.linspace(2 * np.pi * r2, 2 * np.pi, 100)).tolist()\n",
    "y = [0] + np.sin(np.linspace(2 * np.pi * r2, 2 * np.pi, 100)).tolist()\n",
    "xy2b = np.column_stack([x, y])\n",
    "\n",
    "# x = [0] + np.cos(np.linspace(0, 2 * np.pi * r3, 10)).tolist()\n",
    "# y = [0] + np.sin(np.linspace(0, 2 * np.pi * r3, 10)).tolist()\n",
    "# xy3a = np.column_stack([x, y])\n",
    "\n",
    "x = [0] + np.cos(np.linspace(2 * np.pi * r3, 2 * np.pi, 100)).tolist()\n",
    "y = [0] + np.sin(np.linspace(2 * np.pi * r3, 2 * np.pi, 100)).tolist()\n",
    "xy3b = np.column_stack([x, y])\n",
    "\n",
    "x = [0] + np.cos(np.linspace(0, 2 * np.pi * r4, 100)).tolist()\n",
    "y = [0] + np.sin(np.linspace(0, 2 * np.pi * r4, 100)).tolist()\n",
    "xy4a = np.column_stack([x, y])\n",
    "\n",
    "x = [0] + np.cos(np.linspace(2 * np.pi * r4, 2 * np.pi, 100)).tolist()\n",
    "y = [0] + np.sin(np.linspace(2 * np.pi * r4, 2 * np.pi, 100)).tolist()\n",
    "xy4b = np.column_stack([x, y])\n",
    "\n",
    "# x = [0] + np.cos(np.linspace(0, 2 * np.pi * r5, 10)).tolist()\n",
    "# y = [0] + np.sin(np.linspace(0, 2 * np.pi * r5, 10)).tolist()\n",
    "# xy5a = np.column_stack([x, y])\n",
    "\n",
    "x = [0] + np.cos(np.linspace(2 * np.pi * r5, 2 * np.pi, 100)).tolist()\n",
    "y = [0] + np.sin(np.linspace(2 * np.pi * r5, 2 * np.pi, 100)).tolist()\n",
    "xy5b = np.column_stack([x, y])\n",
    "\n",
    "x = [0] + np.cos(np.linspace(0, 2 * np.pi * r6, 100)).tolist()\n",
    "y = [0] + np.sin(np.linspace(0, 2 * np.pi * r6, 100)).tolist()\n",
    "xy6a = np.column_stack([x, y])\n",
    "\n",
    "x = [0] + np.cos(np.linspace(2 * np.pi * r6, 2 * np.pi, 100)).tolist()\n",
    "y = [0] + np.sin(np.linspace(2 * np.pi * r6, 2 * np.pi, 100)).tolist()\n",
    "xy6b = np.column_stack([x, y])\n",
    "\n",
    "x = [0] + np.cos(np.linspace(0, 2 * np.pi * r7, 100)).tolist()\n",
    "y = [0] + np.sin(np.linspace(0, 2 * np.pi * r7, 100)).tolist()\n",
    "xy7a = np.column_stack([x, y])\n",
    "\n",
    "x = [0] + np.cos(np.linspace(2 * np.pi * r7, 2 * np.pi, 100)).tolist()\n",
    "y = [0] + np.sin(np.linspace(2 * np.pi * r7, 2 * np.pi, 100)).tolist()\n",
    "xy7b = np.column_stack([x, y])\n",
    "\n",
    "x = [0] + np.cos(np.linspace(0, 2 * np.pi * r8, 100)).tolist()\n",
    "y = [0] + np.sin(np.linspace(0, 2 * np.pi * r8, 100)).tolist()\n",
    "xy8a = np.column_stack([x, y])\n",
    "\n",
    "x = [0] + np.cos(np.linspace(2 * np.pi * r8, 2 * np.pi, 100)).tolist()\n",
    "y = [0] + np.sin(np.linspace(2 * np.pi * r8, 2 * np.pi, 100)).tolist()\n",
    "xy8b = np.column_stack([x, y])\n",
    "\n",
    "# x = [0] + np.cos(np.linspace(0, 2 * np.pi * r9, 10)).tolist()\n",
    "# y = [0] + np.sin(np.linspace(0, 2 * np.pi * r9, 10)).tolist()\n",
    "# xy9a = np.column_stack([x, y])\n",
    "\n",
    "x = [0] + np.cos(np.linspace(2 * np.pi * r9, 2 * np.pi, 100)).tolist()\n",
    "y = [0] + np.sin(np.linspace(2 * np.pi * r9, 2 * np.pi, 100)).tolist()\n",
    "xy9b = np.column_stack([x, y])\n",
    "\n",
    "# x = [0] + np.cos(np.linspace(0, 2 * np.pi * r10, 10)).tolist()\n",
    "# y = [0] + np.sin(np.linspace(0, 2 * np.pi * r10, 10)).tolist()\n",
    "# xy10a = np.column_stack([x, y])\n",
    "\n",
    "x = [0] + np.cos(np.linspace(2 * np.pi * r10, 2 * np.pi, 100)).tolist()\n",
    "y = [0] + np.sin(np.linspace(2 * np.pi * r10, 2 * np.pi, 100)).tolist()\n",
    "xy10b = np.column_stack([x, y])\n",
    "\n",
    "# x = [0] + np.cos(np.linspace(0, 2 * np.pi * r11, 10)).tolist()\n",
    "# y = [0] + np.sin(np.linspace(0, 2 * np.pi * r11, 10)).tolist()\n",
    "# xy11a = np.column_stack([x, y])\n",
    "\n",
    "x = [0] + np.cos(np.linspace(2 * np.pi * r11, 2 * np.pi, 100)).tolist()\n",
    "y = [0] + np.sin(np.linspace(2 * np.pi * r11, 2 * np.pi, 100)).tolist()\n",
    "xy11b = np.column_stack([x, y])\n",
    "\n",
    "# x = [0] + np.cos(np.linspace(0, 2 * np.pi * r12, 10)).tolist()\n",
    "# y = [0] + np.sin(np.linspace(0, 2 * np.pi * r12, 10)).tolist()\n",
    "# xy12a = np.column_stack([x, y])\n",
    "\n",
    "x = [0] + np.cos(np.linspace(2 * np.pi * r12, 2 * np.pi, 100)).tolist()\n",
    "y = [0] + np.sin(np.linspace(2 * np.pi * r12, 2 * np.pi, 100)).tolist()\n",
    "xy12b = np.column_stack([x, y])\n",
    "\n",
    "\n",
    "fig5, ax = plt.subplots(figsize=(25, 15))\n",
    "\n",
    "ax.scatter(moa_civic_evidence_sum_list[0],moa_civic_impact_score_list[0], marker=xy1a,\n",
    "           s=size1, facecolor='red', edgecolors='black', hatch='///////' )\n",
    "ax.scatter(moa_civic_evidence_sum_list[0],moa_civic_impact_score_list[0], marker=xy1b,\n",
    "           s=size1, facecolor='red')\n",
    "\n",
    "# ax.scatter(moa_civic_evidence_sum_list[1],moa_civic_impact_score_list[1], marker=xy2a,\n",
    "#            s=size2, facecolor='blue')\n",
    "ax.scatter(moa_civic_evidence_sum_list[1],moa_civic_impact_score_list[1], marker=xy2b,\n",
    "           s=size2, facecolor='darkorange')\n",
    "\n",
    "# ax.scatter(moa_civic_evidence_sum_list[2],moa_civic_impact_score_list[2], marker=xy3a,\n",
    "#            s=size3, facecolor='blue')\n",
    "ax.scatter(moa_civic_evidence_sum_list[2],moa_civic_impact_score_list[2], marker=xy3b,\n",
    "           s=size3, facecolor='forestgreen')\n",
    "\n",
    "ax.scatter(moa_civic_evidence_sum_list[3],moa_civic_impact_score_list[3], marker=xy4a,\n",
    "           s=size4, facecolor='lawngreen', edgecolors='black', hatch='///////')\n",
    "ax.scatter(moa_civic_evidence_sum_list[3],moa_civic_impact_score_list[3], marker=xy4b,\n",
    "           s=size4, facecolor='lawngreen')\n",
    "\n",
    "# ax.scatter(moa_civic_evidence_sum_list[4],moa_civic_impact_score_list[4], marker=xy5a,\n",
    "#            s=size5, facecolor='blue')\n",
    "ax.scatter(moa_civic_evidence_sum_list[4],moa_civic_impact_score_list[4], marker=xy5b,\n",
    "           s=size5, facecolor='gold')\n",
    "\n",
    "ax.scatter(moa_civic_evidence_sum_list[5],moa_civic_impact_score_list[5], marker=xy6a,\n",
    "           s=size6, facecolor='cyan', edgecolors='black', hatch='///////')\n",
    "ax.scatter(moa_civic_evidence_sum_list[5],moa_civic_impact_score_list[5], marker=xy6b,\n",
    "           s=size6, facecolor='cyan')\n",
    "\n",
    "ax.scatter(moa_civic_evidence_sum_list[6],moa_civic_impact_score_list[6], marker=xy7a,\n",
    "           s=size7, facecolor='deepskyblue' , edgecolors='black', hatch='///////')\n",
    "ax.scatter(moa_civic_evidence_sum_list[6],moa_civic_impact_score_list[6], marker=xy7b,\n",
    "           s=size7, facecolor='deepskyblue')\n",
    "\n",
    "ax.scatter(moa_civic_evidence_sum_list[7],moa_civic_impact_score_list[7], marker=xy8a,\n",
    "           s=size8, facecolor='mediumslateblue', edgecolors='black', hatch='///////' )\n",
    "ax.scatter(moa_civic_evidence_sum_list[7],moa_civic_impact_score_list[7], marker=xy8b,\n",
    "           s=size8, facecolor='mediumslateblue')\n",
    "\n",
    "# ax.scatter(moa_civic_evidence_sum_list[8],moa_civic_impact_score_list[8], marker=xy9a,\n",
    "#            s=size9, facecolor='blue')\n",
    "ax.scatter(moa_civic_evidence_sum_list[8],moa_civic_impact_score_list[8], marker=xy9b,\n",
    "           s=size9, facecolor='blue')\n",
    "\n",
    "# ax.scatter(moa_civic_evidence_sum_list[9],moa_civic_impact_score_list[9], marker=xy10a,\n",
    "#            s=size10, facecolor='blue')\n",
    "ax.scatter(moa_civic_evidence_sum_list[9],moa_civic_impact_score_list[9], marker=xy10b,\n",
    "           s=size10, facecolor='pink')\n",
    "\n",
    "# ax.scatter(moa_civic_evidence_sum_list[10],moa_civic_impact_score_list[10], marker=xy11a,\n",
    "#            s=size11, facecolor='blue')\n",
    "ax.scatter(moa_civic_evidence_sum_list[10],moa_civic_impact_score_list[10], marker=xy11b,\n",
    "           s=size11, facecolor='deeppink')\n",
    "\n",
    "# ax.scatter(moa_civic_evidence_sum_list[11],moa_civic_impact_score_list[11], marker=xy12a,\n",
    "#            s=size12, facecolor='blue')\n",
    "ax.scatter(moa_civic_evidence_sum_list[11],moa_civic_impact_score_list[11], marker=xy12b,\n",
    "           s=size12, facecolor='fuchsia')\n",
    "\n",
    "\n",
    "legend_elements = [Line2D([0], [0], marker='o', color='w', label='Expression (626, 3629.00)',\n",
    "                          markerfacecolor='red', markersize=20),\n",
    "                   Line2D([0], [0], marker='o', color='w', label='Epigenetic Modification (24, 285.50)',\n",
    "                          markerfacecolor='darkorange', markersize=20),\n",
    "                   Line2D([0], [0], marker='o', color='w', label='Fusion (1239, 5689.25)',\n",
    "                          markerfacecolor='forestgreen', markersize=20),       \n",
    "                   Line2D([0], [0], marker='o', color='w', label='Protein Consequence (705, 3747.75)',\n",
    "                          markerfacecolor='lawngreen', markersize=20),       \n",
    "                   Line2D([0], [0], marker='o', color='w', label='Gene Function (347, 1822.50)',\n",
    "                          markerfacecolor='gold', markersize=20),       \n",
    "                   Line2D([0], [0], marker='o', color='w', label='Rearrangements (218, 945.00)',\n",
    "                          markerfacecolor='cyan', markersize=20),       \n",
    "                   Line2D([0], [0], marker='o', color='w', label='Copy Number (93, 254.00)',\n",
    "                          markerfacecolor='deepskyblue', markersize=20),\n",
    "                   Line2D([0], [0], marker='o', color='w', label='Other  (185, 708.50)',\n",
    "                          markerfacecolor='mediumslateblue', markersize=20),\n",
    "                   Line2D([0], [0], marker='o', color='w', label='Genotypes Easy (23, 195.00)',\n",
    "                          markerfacecolor='blue', markersize=20),       \n",
    "                   Line2D([0], [0], marker='o', color='w', label='Genotypes Compound (7, 117.50)',\n",
    "                          markerfacecolor='pink', markersize=20),       \n",
    "                   Line2D([0], [0], marker='o', color='w', label='Region Defined (924, 8311.50)',\n",
    "                          markerfacecolor='deeppink', markersize=20),       \n",
    "                   Line2D([0], [0], marker='o', color='w', label='Transcript (471, 346.50)',\n",
    "                          markerfacecolor='fuchsia', markersize=20),\n",
    "                   Line2D([0], [0], color='w',\n",
    "                          markerfacecolor='white'),       \n",
    "                   mpatches.Circle(xy=(0,0), radius=1, edgecolor=\"black\", facecolor= \"white\", hatch='///////', label='Variants from MOA'), \n",
    "                   mpatches.Circle(xy=(0,0), radius=1, edgecolor=\"black\", facecolor= \"white\", label='Variants from CIViC'),\n",
    "                   Line2D([0], [0], color='w',\n",
    "                          markerfacecolor='white'),\n",
    "                   Line2D([0], [0], marker='o', color='w', label='Circle sizes indicate # of variants per category',\n",
    "                          markerfacecolor='black', markersize=15)]\n",
    "\n",
    "# Create the figure\n",
    "first_legend = ax.legend(handles=legend_elements, loc='upper left')\n",
    "first_legend._legend_box.align = \"left\"\n",
    "ax.add_artist(first_legend)\n",
    "ax.set_xlabel('Number of Evidence Items per Category (MOA & CIViC)', fontsize= 25)\n",
    "ax.set_ylabel('Impact Score per Category (MOA & CIViC)', fontsize= 25)\n",
    "for axis in ['top','bottom','left','right']:\n",
    "    ax.spines[axis].set_linewidth(4)\n",
    "ax.tick_params(width=4)\n",
    "plt.title(\"Impact Score of Currently Not Supported Variant Categories\", fontsize=40)\n",
    "plt.xticks(fontsize=20)\n",
    "plt.yticks(fontsize=20)\n",
    "plt.setp(plt.gca().get_legend().get_texts(), fontsize='17')\n",
    "\n",
    "plt.savefig('myfig2.jpeg', dpi=1000)\n",
    "\n",
    "plt.show()"
   ]
  },
  {
   "cell_type": "code",
   "execution_count": null,
   "metadata": {},
   "outputs": [],
   "source": []
  }
 ],
 "metadata": {
  "kernelspec": {
   "display_name": "Python 3.10.9 ('.venv': venv)",
   "language": "python",
   "name": "python3"
  },
  "language_info": {
   "codemirror_mode": {
    "name": "ipython",
    "version": 3
   },
   "file_extension": ".py",
   "mimetype": "text/x-python",
   "name": "python",
   "nbconvert_exporter": "python",
   "pygments_lexer": "ipython3",
   "version": "3.10.9"
  },
  "orig_nbformat": 4,
  "vscode": {
   "interpreter": {
    "hash": "60bedfc6dd95a1d756c285a8080496495ec396023cb257f004626f94ae504b38"
   }
  }
 },
 "nbformat": 4,
 "nbformat_minor": 2
}
