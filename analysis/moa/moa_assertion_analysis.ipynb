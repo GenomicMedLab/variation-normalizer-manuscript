{
 "cells": [
  {
   "attachments": {},
   "cell_type": "markdown",
   "metadata": {},
   "source": [
    "# Molecular Oncology Almanac Assertion Analysis"
   ]
  },
  {
   "attachments": {},
   "cell_type": "markdown",
   "metadata": {},
   "source": [
    "MOA evidence items are referred to as assertions and MOA variants are referred to as features in this analysis. "
   ]
  },
  {
   "cell_type": "code",
   "execution_count": 1,
   "metadata": {},
   "outputs": [],
   "source": [
    "from enum import Enum\n",
    "from typing import Dict\n",
    "import json\n",
    "\n",
    "import pandas as pd\n",
    "import plotly.express as px\n",
    "import requests\n",
    "from ga4gh.core import sha512t24u\n"
   ]
  },
  {
   "cell_type": "code",
   "execution_count": 2,
   "metadata": {},
   "outputs": [],
   "source": [
    "def get_feature_digest(feature: Dict) -> str:\n",
    "    \"\"\"Get digest for feature\n",
    "\n",
    "    :param feature: MOA feature\n",
    "    :return: Digest\n",
    "    \"\"\"\n",
    "    attrs = json.dumps(\n",
    "        feature[\"attributes\"][0],\n",
    "        sort_keys=True,\n",
    "        separators=(\",\", \":\"),\n",
    "        indent=None\n",
    "    ).encode(\"utf-8\")\n",
    "    return sha512t24u(attrs)"
   ]
  },
  {
   "cell_type": "code",
   "execution_count": 3,
   "metadata": {},
   "outputs": [],
   "source": [
    "class VariantNormType(str, Enum):\n",
    "    \"\"\"Variation Normalization types\"\"\"\n",
    "\n",
    "    NORMALIZED = \"Normalized\"\n",
    "    NOT_SUPPORTED = \"Not Supported\"\n",
    "\n",
    "\n",
    "VARIANT_NORM_TYPE_VALUES = [v.value for v in VariantNormType.__members__.values()]"
   ]
  },
  {
   "cell_type": "code",
   "execution_count": 4,
   "metadata": {},
   "outputs": [],
   "source": [
    "class VariantCategory(str, Enum):\n",
    "    \"\"\"Create enum for the kind of variants that are in MOA.\"\"\"\n",
    "\n",
    "    EXPRESSION = \"Expression\"\n",
    "    EPIGENETIC_MODIFICATION = \"Epigenetic Modification\"\n",
    "    FUSION = \"Fusion\"\n",
    "    PROTEIN_CONS = \"Protein Consequence\"\n",
    "    GENE_FUNC = \"Gene Function\"\n",
    "    REARRANGEMENTS = \"Rearrangements\"\n",
    "    COPY_NUMBER = \"Copy Number\"\n",
    "    OTHER = \"Other\"\n",
    "    GENOTYPES_EASY = \"Genotypes Easy\"\n",
    "    GENOTYPES_COMPOUND = \"Genotypes Compound\"\n",
    "    REGION_DEFINED_VAR = \"Region Defined Variant\"\n",
    "    TRANSCRIPT_VAR = \"Transcript Variant\"  # no attempt to normalize these ones, since there is no query we could use\n",
    "\n",
    "\n",
    "VARIANT_CATEGORY_VALUES = [v.value for v in VariantCategory.__members__.values()]"
   ]
  },
  {
   "attachments": {},
   "cell_type": "markdown",
   "metadata": {},
   "source": [
    "## All Features (Variants) Analysis"
   ]
  },
  {
   "attachments": {},
   "cell_type": "markdown",
   "metadata": {},
   "source": [
    "### Creating a table with feature (variant) and assertion (evidence) information"
   ]
  },
  {
   "cell_type": "code",
   "execution_count": 5,
   "metadata": {},
   "outputs": [
    {
     "name": "stdout",
     "output_type": "stream",
     "text": [
      "428\n"
     ]
    }
   ],
   "source": [
    "# Create dictionary for MOA Feature ID -> Feature Type\n",
    "r = requests.get(\"https://moalmanac.org/api/features\")\n",
    "if r.status_code == 200:\n",
    "    feature_data = r.json()\n",
    "\n",
    "features = {}\n",
    "\n",
    "for feature in feature_data:\n",
    "    feature_id = feature[\"feature_id\"]\n",
    "    digest = get_feature_digest(feature)\n",
    "    features[digest] = feature[\"feature_type\"]\n",
    "\n",
    "count_unique_feature_ids = len(features.keys())\n",
    "print(count_unique_feature_ids)\n"
   ]
  },
  {
   "cell_type": "code",
   "execution_count": 6,
   "metadata": {},
   "outputs": [
    {
     "data": {
      "text/html": [
       "<div>\n",
       "<style scoped>\n",
       "    .dataframe tbody tr th:only-of-type {\n",
       "        vertical-align: middle;\n",
       "    }\n",
       "\n",
       "    .dataframe tbody tr th {\n",
       "        vertical-align: top;\n",
       "    }\n",
       "\n",
       "    .dataframe thead th {\n",
       "        text-align: right;\n",
       "    }\n",
       "</style>\n",
       "<table border=\"1\" class=\"dataframe\">\n",
       "  <thead>\n",
       "    <tr style=\"text-align: right;\">\n",
       "      <th></th>\n",
       "      <th>assertion_id</th>\n",
       "      <th>feature_id</th>\n",
       "      <th>feature_type</th>\n",
       "      <th>predictive_implication</th>\n",
       "      <th>feature_digest</th>\n",
       "    </tr>\n",
       "  </thead>\n",
       "  <tbody>\n",
       "    <tr>\n",
       "      <th>0</th>\n",
       "      <td>1</td>\n",
       "      <td>1</td>\n",
       "      <td>rearrangement</td>\n",
       "      <td>FDA-Approved</td>\n",
       "      <td>RnRyn89cJzVbVM93aw4OA44NIF5zblyP</td>\n",
       "    </tr>\n",
       "    <tr>\n",
       "      <th>1</th>\n",
       "      <td>2</td>\n",
       "      <td>2</td>\n",
       "      <td>rearrangement</td>\n",
       "      <td>FDA-Approved</td>\n",
       "      <td>RnRyn89cJzVbVM93aw4OA44NIF5zblyP</td>\n",
       "    </tr>\n",
       "    <tr>\n",
       "      <th>2</th>\n",
       "      <td>3</td>\n",
       "      <td>3</td>\n",
       "      <td>rearrangement</td>\n",
       "      <td>FDA-Approved</td>\n",
       "      <td>RnRyn89cJzVbVM93aw4OA44NIF5zblyP</td>\n",
       "    </tr>\n",
       "    <tr>\n",
       "      <th>3</th>\n",
       "      <td>4</td>\n",
       "      <td>4</td>\n",
       "      <td>rearrangement</td>\n",
       "      <td>FDA-Approved</td>\n",
       "      <td>RnRyn89cJzVbVM93aw4OA44NIF5zblyP</td>\n",
       "    </tr>\n",
       "    <tr>\n",
       "      <th>4</th>\n",
       "      <td>5</td>\n",
       "      <td>5</td>\n",
       "      <td>rearrangement</td>\n",
       "      <td>FDA-Approved</td>\n",
       "      <td>RnRyn89cJzVbVM93aw4OA44NIF5zblyP</td>\n",
       "    </tr>\n",
       "    <tr>\n",
       "      <th>...</th>\n",
       "      <td>...</td>\n",
       "      <td>...</td>\n",
       "      <td>...</td>\n",
       "      <td>...</td>\n",
       "      <td>...</td>\n",
       "    </tr>\n",
       "    <tr>\n",
       "      <th>889</th>\n",
       "      <td>890</td>\n",
       "      <td>890</td>\n",
       "      <td>somatic_variant</td>\n",
       "      <td>FDA-Approved</td>\n",
       "      <td>c3CkYcMt4ssh4AL4gpacJtFil8xl2TB2</td>\n",
       "    </tr>\n",
       "    <tr>\n",
       "      <th>890</th>\n",
       "      <td>891</td>\n",
       "      <td>891</td>\n",
       "      <td>somatic_variant</td>\n",
       "      <td>FDA-Approved</td>\n",
       "      <td>uAW4cOXId1N1MKo5fqHYdw9JGceCMmE5</td>\n",
       "    </tr>\n",
       "    <tr>\n",
       "      <th>891</th>\n",
       "      <td>892</td>\n",
       "      <td>892</td>\n",
       "      <td>somatic_variant</td>\n",
       "      <td>FDA-Approved</td>\n",
       "      <td>B5m8cSgi6w2xRCg0X_dPpQU2dwbvtXk1</td>\n",
       "    </tr>\n",
       "    <tr>\n",
       "      <th>892</th>\n",
       "      <td>893</td>\n",
       "      <td>893</td>\n",
       "      <td>somatic_variant</td>\n",
       "      <td>FDA-Approved</td>\n",
       "      <td>YLXf4Q8yr45bD0I_v6nkpDjBFuGPdFbd</td>\n",
       "    </tr>\n",
       "    <tr>\n",
       "      <th>893</th>\n",
       "      <td>894</td>\n",
       "      <td>894</td>\n",
       "      <td>somatic_variant</td>\n",
       "      <td>FDA-Approved</td>\n",
       "      <td>I4I_C5W3WTcrJrDzfwB2fGzi3asCjwy9</td>\n",
       "    </tr>\n",
       "  </tbody>\n",
       "</table>\n",
       "<p>894 rows × 5 columns</p>\n",
       "</div>"
      ],
      "text/plain": [
       "     assertion_id  feature_id     feature_type predictive_implication   \n",
       "0               1           1    rearrangement           FDA-Approved  \\\n",
       "1               2           2    rearrangement           FDA-Approved   \n",
       "2               3           3    rearrangement           FDA-Approved   \n",
       "3               4           4    rearrangement           FDA-Approved   \n",
       "4               5           5    rearrangement           FDA-Approved   \n",
       "..            ...         ...              ...                    ...   \n",
       "889           890         890  somatic_variant           FDA-Approved   \n",
       "890           891         891  somatic_variant           FDA-Approved   \n",
       "891           892         892  somatic_variant           FDA-Approved   \n",
       "892           893         893  somatic_variant           FDA-Approved   \n",
       "893           894         894  somatic_variant           FDA-Approved   \n",
       "\n",
       "                       feature_digest  \n",
       "0    RnRyn89cJzVbVM93aw4OA44NIF5zblyP  \n",
       "1    RnRyn89cJzVbVM93aw4OA44NIF5zblyP  \n",
       "2    RnRyn89cJzVbVM93aw4OA44NIF5zblyP  \n",
       "3    RnRyn89cJzVbVM93aw4OA44NIF5zblyP  \n",
       "4    RnRyn89cJzVbVM93aw4OA44NIF5zblyP  \n",
       "..                                ...  \n",
       "889  c3CkYcMt4ssh4AL4gpacJtFil8xl2TB2  \n",
       "890  uAW4cOXId1N1MKo5fqHYdw9JGceCMmE5  \n",
       "891  B5m8cSgi6w2xRCg0X_dPpQU2dwbvtXk1  \n",
       "892  YLXf4Q8yr45bD0I_v6nkpDjBFuGPdFbd  \n",
       "893  I4I_C5W3WTcrJrDzfwB2fGzi3asCjwy9  \n",
       "\n",
       "[894 rows x 5 columns]"
      ]
     },
     "execution_count": 6,
     "metadata": {},
     "output_type": "execute_result"
    }
   ],
   "source": [
    "# Create DF for assertions and their associated feature + predictive implication\n",
    "r = requests.get(\"https://moalmanac.org/api/assertions\")\n",
    "if r.status_code == 200:\n",
    "    assertion_data = r.json()\n",
    "\n",
    "transformed = []\n",
    "\n",
    "# Mapping from feature ID to feature digest\n",
    "feature_id_to_digest = {}\n",
    "\n",
    "for assertion in assertion_data:\n",
    "    assertion_id = assertion[\"assertion_id\"]\n",
    "    predictive_implication = assertion[\"predictive_implication\"]\n",
    "\n",
    "    if len(assertion[\"features\"]) != 1:\n",
    "        print(f\"assertion id ({assertion_id}) does not have 1 feature\")\n",
    "        continue\n",
    "\n",
    "    feature = assertion[\"features\"][0]\n",
    "    feature_id = feature[\"feature_id\"]\n",
    "    feature_digest = get_feature_digest(feature)\n",
    "\n",
    "    feature_id_to_digest[feature_id] = digest\n",
    "\n",
    "    transformed.append(\n",
    "        {\n",
    "            \"assertion_id\": assertion_id,\n",
    "            \"feature_id\": feature_id,\n",
    "            \"feature_type\": features[feature_digest],\n",
    "            \"predictive_implication\": predictive_implication,\n",
    "            \"feature_digest\": feature_digest\n",
    "        }\n",
    "    )\n",
    "moa_df = pd.DataFrame(transformed)\n",
    "moa_df"
   ]
  },
  {
   "cell_type": "code",
   "execution_count": 7,
   "metadata": {},
   "outputs": [],
   "source": [
    "unique_features_df = moa_df.sort_values(\"feature_id\").drop_duplicates(\"feature_digest\")\n",
    "len_unique_feature_ids = len(list(unique_features_df.feature_id))"
   ]
  },
  {
   "cell_type": "code",
   "execution_count": 8,
   "metadata": {},
   "outputs": [
    {
     "data": {
      "text/plain": [
       "'Total number of unique features (variants): 428'"
      ]
     },
     "execution_count": 8,
     "metadata": {},
     "output_type": "execute_result"
    }
   ],
   "source": [
    "total_len_features = len(moa_df.feature_digest.unique())\n",
    "f\"Total number of unique features (variants): {total_len_features}\""
   ]
  },
  {
   "cell_type": "code",
   "execution_count": 9,
   "metadata": {},
   "outputs": [],
   "source": [
    "assert total_len_features == len_unique_feature_ids"
   ]
  },
  {
   "cell_type": "code",
   "execution_count": 10,
   "metadata": {},
   "outputs": [
    {
     "data": {
      "text/plain": [
       "'Total number of unique assertions (evidence items): 894'"
      ]
     },
     "execution_count": 10,
     "metadata": {},
     "output_type": "execute_result"
    }
   ],
   "source": [
    "total_len_assertions = len(moa_df.assertion_id.unique())\n",
    "f\"Total number of unique assertions (evidence items): {total_len_assertions}\""
   ]
  },
  {
   "attachments": {},
   "cell_type": "markdown",
   "metadata": {},
   "source": [
    "### Converting feature (variant) types to normalized categories"
   ]
  },
  {
   "cell_type": "code",
   "execution_count": 11,
   "metadata": {},
   "outputs": [
    {
     "data": {
      "text/plain": [
       "['rearrangement',\n",
       " 'somatic_variant',\n",
       " 'germline_variant',\n",
       " 'copy_number',\n",
       " 'microsatellite_stability',\n",
       " 'mutational_signature',\n",
       " 'mutational_burden',\n",
       " 'knockdown',\n",
       " 'aneuploidy']"
      ]
     },
     "execution_count": 11,
     "metadata": {},
     "output_type": "execute_result"
    }
   ],
   "source": [
    "list(moa_df.feature_type.unique())"
   ]
  },
  {
   "cell_type": "code",
   "execution_count": 12,
   "metadata": {},
   "outputs": [
    {
     "data": {
      "text/html": [
       "<div>\n",
       "<style scoped>\n",
       "    .dataframe tbody tr th:only-of-type {\n",
       "        vertical-align: middle;\n",
       "    }\n",
       "\n",
       "    .dataframe tbody tr th {\n",
       "        vertical-align: top;\n",
       "    }\n",
       "\n",
       "    .dataframe thead th {\n",
       "        text-align: right;\n",
       "    }\n",
       "</style>\n",
       "<table border=\"1\" class=\"dataframe\">\n",
       "  <thead>\n",
       "    <tr style=\"text-align: right;\">\n",
       "      <th></th>\n",
       "      <th>assertion_id</th>\n",
       "      <th>feature_id</th>\n",
       "      <th>feature_type</th>\n",
       "      <th>predictive_implication</th>\n",
       "      <th>feature_digest</th>\n",
       "      <th>category</th>\n",
       "    </tr>\n",
       "  </thead>\n",
       "  <tbody>\n",
       "    <tr>\n",
       "      <th>0</th>\n",
       "      <td>1</td>\n",
       "      <td>1</td>\n",
       "      <td>rearrangement</td>\n",
       "      <td>FDA-Approved</td>\n",
       "      <td>RnRyn89cJzVbVM93aw4OA44NIF5zblyP</td>\n",
       "      <td>Rearrangements</td>\n",
       "    </tr>\n",
       "    <tr>\n",
       "      <th>1</th>\n",
       "      <td>2</td>\n",
       "      <td>2</td>\n",
       "      <td>rearrangement</td>\n",
       "      <td>FDA-Approved</td>\n",
       "      <td>RnRyn89cJzVbVM93aw4OA44NIF5zblyP</td>\n",
       "      <td>Rearrangements</td>\n",
       "    </tr>\n",
       "    <tr>\n",
       "      <th>2</th>\n",
       "      <td>3</td>\n",
       "      <td>3</td>\n",
       "      <td>rearrangement</td>\n",
       "      <td>FDA-Approved</td>\n",
       "      <td>RnRyn89cJzVbVM93aw4OA44NIF5zblyP</td>\n",
       "      <td>Rearrangements</td>\n",
       "    </tr>\n",
       "    <tr>\n",
       "      <th>3</th>\n",
       "      <td>4</td>\n",
       "      <td>4</td>\n",
       "      <td>rearrangement</td>\n",
       "      <td>FDA-Approved</td>\n",
       "      <td>RnRyn89cJzVbVM93aw4OA44NIF5zblyP</td>\n",
       "      <td>Rearrangements</td>\n",
       "    </tr>\n",
       "    <tr>\n",
       "      <th>4</th>\n",
       "      <td>5</td>\n",
       "      <td>5</td>\n",
       "      <td>rearrangement</td>\n",
       "      <td>FDA-Approved</td>\n",
       "      <td>RnRyn89cJzVbVM93aw4OA44NIF5zblyP</td>\n",
       "      <td>Rearrangements</td>\n",
       "    </tr>\n",
       "  </tbody>\n",
       "</table>\n",
       "</div>"
      ],
      "text/plain": [
       "   assertion_id  feature_id   feature_type predictive_implication   \n",
       "0             1           1  rearrangement           FDA-Approved  \\\n",
       "1             2           2  rearrangement           FDA-Approved   \n",
       "2             3           3  rearrangement           FDA-Approved   \n",
       "3             4           4  rearrangement           FDA-Approved   \n",
       "4             5           5  rearrangement           FDA-Approved   \n",
       "\n",
       "                     feature_digest        category  \n",
       "0  RnRyn89cJzVbVM93aw4OA44NIF5zblyP  Rearrangements  \n",
       "1  RnRyn89cJzVbVM93aw4OA44NIF5zblyP  Rearrangements  \n",
       "2  RnRyn89cJzVbVM93aw4OA44NIF5zblyP  Rearrangements  \n",
       "3  RnRyn89cJzVbVM93aw4OA44NIF5zblyP  Rearrangements  \n",
       "4  RnRyn89cJzVbVM93aw4OA44NIF5zblyP  Rearrangements  "
      ]
     },
     "execution_count": 12,
     "metadata": {},
     "output_type": "execute_result"
    }
   ],
   "source": [
    "moa_df[\"category\"] = moa_df[\"feature_type\"].copy()\n",
    "\n",
    "moa_df[\"category\"] = moa_df[\"category\"].replace(\"rearrangement\", VariantCategory.REARRANGEMENTS.value)\n",
    "moa_df[\"category\"] = moa_df[\"category\"].replace(\"aneuploidy\", VariantCategory.COPY_NUMBER.value)\n",
    "moa_df[\"category\"] = moa_df[\"category\"].replace(\"knockdown\", VariantCategory.EXPRESSION.value)\n",
    "moa_df[\"category\"] = moa_df[\"category\"].replace(\"somatic_variant\", VariantCategory.PROTEIN_CONS.value)\n",
    "moa_df[\"category\"] = moa_df[\"category\"].replace(\"germline_variant\", VariantCategory.PROTEIN_CONS.value)\n",
    "moa_df[\"category\"] = moa_df[\"category\"].replace(\"microsatellite_stability\", VariantCategory.REARRANGEMENTS.value)\n",
    "moa_df[\"category\"] = moa_df[\"category\"].replace(\"mutational_burden\", VariantCategory.OTHER.value)\n",
    "moa_df[\"category\"] = moa_df[\"category\"].replace(\"mutational_signature\", VariantCategory.OTHER.value)\n",
    "moa_df[\"category\"] = moa_df[\"category\"].replace(\"copy_number\", VariantCategory.COPY_NUMBER.value)\n",
    "\n",
    "moa_df.head()"
   ]
  },
  {
   "cell_type": "code",
   "execution_count": 13,
   "metadata": {},
   "outputs": [
    {
     "data": {
      "text/plain": [
       "['Rearrangements', 'Protein Consequence', 'Copy Number', 'Other', 'Expression']"
      ]
     },
     "execution_count": 13,
     "metadata": {},
     "output_type": "execute_result"
    }
   ],
   "source": [
    "list(moa_df.category.unique())"
   ]
  },
  {
   "attachments": {},
   "cell_type": "markdown",
   "metadata": {},
   "source": [
    "### Adding a numerical impact score based on the predictive implication\n",
    "This is based on the structure of MOA scoring"
   ]
  },
  {
   "cell_type": "code",
   "execution_count": 14,
   "metadata": {},
   "outputs": [
    {
     "data": {
      "text/plain": [
       "['FDA-Approved',\n",
       " 'Guideline',\n",
       " 'Clinical trial',\n",
       " 'Preclinical',\n",
       " 'Inferential',\n",
       " 'Clinical evidence']"
      ]
     },
     "execution_count": 14,
     "metadata": {},
     "output_type": "execute_result"
    }
   ],
   "source": [
    "predictive_implication_categories = moa_df.predictive_implication.unique()\n",
    "list(predictive_implication_categories)"
   ]
  },
  {
   "cell_type": "code",
   "execution_count": 15,
   "metadata": {},
   "outputs": [
    {
     "data": {
      "text/html": [
       "<div>\n",
       "<style scoped>\n",
       "    .dataframe tbody tr th:only-of-type {\n",
       "        vertical-align: middle;\n",
       "    }\n",
       "\n",
       "    .dataframe tbody tr th {\n",
       "        vertical-align: top;\n",
       "    }\n",
       "\n",
       "    .dataframe thead th {\n",
       "        text-align: right;\n",
       "    }\n",
       "</style>\n",
       "<table border=\"1\" class=\"dataframe\">\n",
       "  <thead>\n",
       "    <tr style=\"text-align: right;\">\n",
       "      <th></th>\n",
       "      <th>assertion_id</th>\n",
       "      <th>feature_id</th>\n",
       "      <th>feature_type</th>\n",
       "      <th>predictive_implication</th>\n",
       "      <th>feature_digest</th>\n",
       "      <th>category</th>\n",
       "      <th>impact_score</th>\n",
       "    </tr>\n",
       "  </thead>\n",
       "  <tbody>\n",
       "    <tr>\n",
       "      <th>0</th>\n",
       "      <td>1</td>\n",
       "      <td>1</td>\n",
       "      <td>rearrangement</td>\n",
       "      <td>FDA-Approved</td>\n",
       "      <td>RnRyn89cJzVbVM93aw4OA44NIF5zblyP</td>\n",
       "      <td>Rearrangements</td>\n",
       "      <td>10</td>\n",
       "    </tr>\n",
       "    <tr>\n",
       "      <th>1</th>\n",
       "      <td>2</td>\n",
       "      <td>2</td>\n",
       "      <td>rearrangement</td>\n",
       "      <td>FDA-Approved</td>\n",
       "      <td>RnRyn89cJzVbVM93aw4OA44NIF5zblyP</td>\n",
       "      <td>Rearrangements</td>\n",
       "      <td>10</td>\n",
       "    </tr>\n",
       "    <tr>\n",
       "      <th>2</th>\n",
       "      <td>3</td>\n",
       "      <td>3</td>\n",
       "      <td>rearrangement</td>\n",
       "      <td>FDA-Approved</td>\n",
       "      <td>RnRyn89cJzVbVM93aw4OA44NIF5zblyP</td>\n",
       "      <td>Rearrangements</td>\n",
       "      <td>10</td>\n",
       "    </tr>\n",
       "    <tr>\n",
       "      <th>3</th>\n",
       "      <td>4</td>\n",
       "      <td>4</td>\n",
       "      <td>rearrangement</td>\n",
       "      <td>FDA-Approved</td>\n",
       "      <td>RnRyn89cJzVbVM93aw4OA44NIF5zblyP</td>\n",
       "      <td>Rearrangements</td>\n",
       "      <td>10</td>\n",
       "    </tr>\n",
       "    <tr>\n",
       "      <th>4</th>\n",
       "      <td>5</td>\n",
       "      <td>5</td>\n",
       "      <td>rearrangement</td>\n",
       "      <td>FDA-Approved</td>\n",
       "      <td>RnRyn89cJzVbVM93aw4OA44NIF5zblyP</td>\n",
       "      <td>Rearrangements</td>\n",
       "      <td>10</td>\n",
       "    </tr>\n",
       "  </tbody>\n",
       "</table>\n",
       "</div>"
      ],
      "text/plain": [
       "   assertion_id  feature_id   feature_type predictive_implication   \n",
       "0             1           1  rearrangement           FDA-Approved  \\\n",
       "1             2           2  rearrangement           FDA-Approved   \n",
       "2             3           3  rearrangement           FDA-Approved   \n",
       "3             4           4  rearrangement           FDA-Approved   \n",
       "4             5           5  rearrangement           FDA-Approved   \n",
       "\n",
       "                     feature_digest        category impact_score  \n",
       "0  RnRyn89cJzVbVM93aw4OA44NIF5zblyP  Rearrangements           10  \n",
       "1  RnRyn89cJzVbVM93aw4OA44NIF5zblyP  Rearrangements           10  \n",
       "2  RnRyn89cJzVbVM93aw4OA44NIF5zblyP  Rearrangements           10  \n",
       "3  RnRyn89cJzVbVM93aw4OA44NIF5zblyP  Rearrangements           10  \n",
       "4  RnRyn89cJzVbVM93aw4OA44NIF5zblyP  Rearrangements           10  "
      ]
     },
     "execution_count": 15,
     "metadata": {},
     "output_type": "execute_result"
    }
   ],
   "source": [
    "moa_df[\"impact_score\"] = moa_df[\"predictive_implication\"].copy()\n",
    "\n",
    "moa_df.loc[moa_df[\"impact_score\"] == \"FDA-Approved\", \"impact_score\"] = 10\n",
    "moa_df.loc[moa_df[\"impact_score\"] == \"Guideline\", \"impact_score\"] = 10\n",
    "moa_df.loc[moa_df[\"impact_score\"] == \"Clinical evidence\", \"impact_score\"] = 5\n",
    "moa_df.loc[moa_df[\"impact_score\"] == \"Clinical trial\", \"impact_score\"] = 5\n",
    "moa_df.loc[moa_df[\"impact_score\"] == \"Preclinical\", \"impact_score\"] = 1\n",
    "moa_df.loc[moa_df[\"impact_score\"] == \"Inferential\", \"impact_score\"] = 0.5\n",
    "\n",
    "moa_df.head()"
   ]
  },
  {
   "attachments": {},
   "cell_type": "markdown",
   "metadata": {},
   "source": [
    "### Impact Score Analysis"
   ]
  },
  {
   "cell_type": "code",
   "execution_count": 16,
   "metadata": {},
   "outputs": [
    {
     "name": "stdout",
     "output_type": "stream",
     "text": [
      "Expression: 12\n",
      "Epigenetic Modification: 0\n",
      "Fusion: 0\n",
      "Protein Consequence: 4152.5\n",
      "Gene Function: 0\n",
      "Rearrangements: 643.0\n",
      "Copy Number: 400.0\n",
      "Other: 53.5\n",
      "Genotypes Easy: 0\n",
      "Genotypes Compound: 0\n",
      "Region Defined Variant: 0\n",
      "Transcript Variant: 0\n"
     ]
    }
   ],
   "source": [
    "feature_categories_impact_data = dict()\n",
    "for category in VARIANT_CATEGORY_VALUES:\n",
    "    feature_categories_impact_data[category] = {}\n",
    "    impact_category_df = moa_df[moa_df.category == category]\n",
    "\n",
    "    total_sum_category_impact = impact_category_df[\"impact_score\"].sum()\n",
    "    feature_categories_impact_data[category][\"total_sum_category_impact\"] = total_sum_category_impact\n",
    "    print(f\"{category}: {total_sum_category_impact}\")"
   ]
  },
  {
   "attachments": {},
   "cell_type": "markdown",
   "metadata": {},
   "source": [
    "### Features (Variants) Analysis"
   ]
  },
  {
   "cell_type": "code",
   "execution_count": 17,
   "metadata": {},
   "outputs": [],
   "source": [
    "moa_feature_data = dict()\n",
    "for category in VARIANT_CATEGORY_VALUES:\n",
    "    moa_feature_data[category] = {}\n",
    "    feature_type_df = moa_df[moa_df.category == category]\n",
    "\n",
    "    number_unique_category_features = len(set(feature_type_df.feature_digest))\n",
    "    moa_feature_data[category][\"number_unique_category_features\"] = number_unique_category_features\n",
    "\n",
    "    fraction_category_feature = f\"{number_unique_category_features} / {total_len_features}\"\n",
    "    moa_feature_data[category][\"fraction_category_feature\"] = fraction_category_feature\n",
    "\n",
    "    percent_category_feature = \"{:.2f}\".format(number_unique_category_features / total_len_features * 100) + \"%\"\n",
    "    moa_feature_data[category][\"percent_category_feature\"] = percent_category_feature"
   ]
  },
  {
   "attachments": {},
   "cell_type": "markdown",
   "metadata": {},
   "source": [
    "### Assertions (Evidence Items) Analysis"
   ]
  },
  {
   "cell_type": "code",
   "execution_count": 18,
   "metadata": {},
   "outputs": [],
   "source": [
    "moa_assertion_data = dict()\n",
    "for category in VARIANT_CATEGORY_VALUES:\n",
    "    moa_assertion_data[category] = {}\n",
    "    assertion_type_df = moa_df[moa_df.category == category]\n",
    "\n",
    "    number_unique_category_assertions = len(set(assertion_type_df.assertion_id))\n",
    "    moa_assertion_data[category][\"number_unique_category_assertions\"] = number_unique_category_assertions\n",
    "\n",
    "    fraction_category_assertion = f\"{number_unique_category_assertions} / {total_len_assertions}\"\n",
    "    moa_assertion_data[category][\"fraction_category_assertion\"] = fraction_category_assertion\n",
    "\n",
    "    percent_category_assertion = \"{:.2f}\".format(number_unique_category_assertions / total_len_assertions * 100) + \"%\"\n",
    "    moa_assertion_data[category][\"percent_category_assertion\"] = percent_category_assertion"
   ]
  },
  {
   "attachments": {},
   "cell_type": "markdown",
   "metadata": {},
   "source": [
    "### Summaries for all Features (Variants) and Assertions (Evidence Items)"
   ]
  },
  {
   "cell_type": "code",
   "execution_count": 19,
   "metadata": {},
   "outputs": [],
   "source": [
    "feature_category_impact_score = [v[\"total_sum_category_impact\"] for v in feature_categories_impact_data.values()]\n",
    "feature_category_number = [v[\"number_unique_category_features\"] for v in moa_feature_data.values()]\n",
    "feature_category_fraction = [v[\"fraction_category_feature\"] for v in moa_feature_data.values()]\n",
    "feature_category_percent = [v[\"percent_category_feature\"] for v in moa_feature_data.values()]\n",
    "feature_category_assertion_number = [v[\"number_unique_category_assertions\"] for v in moa_assertion_data.values()]\n",
    "feature_category_assertion_fraction = [v[\"fraction_category_assertion\"] for v in moa_assertion_data.values()]\n",
    "feature_category_assertion_percent = [v[\"percent_category_assertion\"] for v in moa_assertion_data.values()]"
   ]
  },
  {
   "cell_type": "code",
   "execution_count": 20,
   "metadata": {},
   "outputs": [],
   "source": [
    "feature_category_dict = {\n",
    "    \"Category\": VARIANT_CATEGORY_VALUES,\n",
    "    \"Number of Features\": feature_category_number,\n",
    "    \"Fraction of Features\": feature_category_fraction,\n",
    "    \"Percent of Features\": feature_category_percent,\n",
    "    \"Number of Assertions\": feature_category_assertion_number,\n",
    "    \"Fraction of Assertions\": feature_category_assertion_fraction,\n",
    "    \"Percent of Assertions\": feature_category_assertion_percent,\n",
    "    \"Impact Score\": feature_category_impact_score\n",
    "}"
   ]
  },
  {
   "cell_type": "code",
   "execution_count": 21,
   "metadata": {},
   "outputs": [
    {
     "data": {
      "text/html": [
       "<div>\n",
       "<style scoped>\n",
       "    .dataframe tbody tr th:only-of-type {\n",
       "        vertical-align: middle;\n",
       "    }\n",
       "\n",
       "    .dataframe tbody tr th {\n",
       "        vertical-align: top;\n",
       "    }\n",
       "\n",
       "    .dataframe thead th {\n",
       "        text-align: right;\n",
       "    }\n",
       "</style>\n",
       "<table border=\"1\" class=\"dataframe\">\n",
       "  <thead>\n",
       "    <tr style=\"text-align: right;\">\n",
       "      <th></th>\n",
       "      <th>Category</th>\n",
       "      <th>Number of Features</th>\n",
       "      <th>Fraction of Features</th>\n",
       "      <th>Percent of Features</th>\n",
       "      <th>Number of Assertions</th>\n",
       "      <th>Fraction of Assertions</th>\n",
       "      <th>Percent of Assertions</th>\n",
       "      <th>Impact Score</th>\n",
       "    </tr>\n",
       "  </thead>\n",
       "  <tbody>\n",
       "    <tr>\n",
       "      <th>0</th>\n",
       "      <td>Expression</td>\n",
       "      <td>11</td>\n",
       "      <td>11 / 428</td>\n",
       "      <td>2.57%</td>\n",
       "      <td>12</td>\n",
       "      <td>12 / 894</td>\n",
       "      <td>1.34%</td>\n",
       "      <td>12.0</td>\n",
       "    </tr>\n",
       "    <tr>\n",
       "      <th>1</th>\n",
       "      <td>Epigenetic Modification</td>\n",
       "      <td>0</td>\n",
       "      <td>0 / 428</td>\n",
       "      <td>0.00%</td>\n",
       "      <td>0</td>\n",
       "      <td>0 / 894</td>\n",
       "      <td>0.00%</td>\n",
       "      <td>0.0</td>\n",
       "    </tr>\n",
       "    <tr>\n",
       "      <th>2</th>\n",
       "      <td>Fusion</td>\n",
       "      <td>0</td>\n",
       "      <td>0 / 428</td>\n",
       "      <td>0.00%</td>\n",
       "      <td>0</td>\n",
       "      <td>0 / 894</td>\n",
       "      <td>0.00%</td>\n",
       "      <td>0.0</td>\n",
       "    </tr>\n",
       "    <tr>\n",
       "      <th>3</th>\n",
       "      <td>Protein Consequence</td>\n",
       "      <td>323</td>\n",
       "      <td>323 / 428</td>\n",
       "      <td>75.47%</td>\n",
       "      <td>676</td>\n",
       "      <td>676 / 894</td>\n",
       "      <td>75.62%</td>\n",
       "      <td>4152.5</td>\n",
       "    </tr>\n",
       "    <tr>\n",
       "      <th>4</th>\n",
       "      <td>Gene Function</td>\n",
       "      <td>0</td>\n",
       "      <td>0 / 428</td>\n",
       "      <td>0.00%</td>\n",
       "      <td>0</td>\n",
       "      <td>0 / 894</td>\n",
       "      <td>0.00%</td>\n",
       "      <td>0.0</td>\n",
       "    </tr>\n",
       "    <tr>\n",
       "      <th>5</th>\n",
       "      <td>Rearrangements</td>\n",
       "      <td>38</td>\n",
       "      <td>38 / 428</td>\n",
       "      <td>8.88%</td>\n",
       "      <td>81</td>\n",
       "      <td>81 / 894</td>\n",
       "      <td>9.06%</td>\n",
       "      <td>643.0</td>\n",
       "    </tr>\n",
       "    <tr>\n",
       "      <th>6</th>\n",
       "      <td>Copy Number</td>\n",
       "      <td>47</td>\n",
       "      <td>47 / 428</td>\n",
       "      <td>10.98%</td>\n",
       "      <td>102</td>\n",
       "      <td>102 / 894</td>\n",
       "      <td>11.41%</td>\n",
       "      <td>400.0</td>\n",
       "    </tr>\n",
       "    <tr>\n",
       "      <th>7</th>\n",
       "      <td>Other</td>\n",
       "      <td>9</td>\n",
       "      <td>9 / 428</td>\n",
       "      <td>2.10%</td>\n",
       "      <td>23</td>\n",
       "      <td>23 / 894</td>\n",
       "      <td>2.57%</td>\n",
       "      <td>53.5</td>\n",
       "    </tr>\n",
       "    <tr>\n",
       "      <th>8</th>\n",
       "      <td>Genotypes Easy</td>\n",
       "      <td>0</td>\n",
       "      <td>0 / 428</td>\n",
       "      <td>0.00%</td>\n",
       "      <td>0</td>\n",
       "      <td>0 / 894</td>\n",
       "      <td>0.00%</td>\n",
       "      <td>0.0</td>\n",
       "    </tr>\n",
       "    <tr>\n",
       "      <th>9</th>\n",
       "      <td>Genotypes Compound</td>\n",
       "      <td>0</td>\n",
       "      <td>0 / 428</td>\n",
       "      <td>0.00%</td>\n",
       "      <td>0</td>\n",
       "      <td>0 / 894</td>\n",
       "      <td>0.00%</td>\n",
       "      <td>0.0</td>\n",
       "    </tr>\n",
       "    <tr>\n",
       "      <th>10</th>\n",
       "      <td>Region Defined Variant</td>\n",
       "      <td>0</td>\n",
       "      <td>0 / 428</td>\n",
       "      <td>0.00%</td>\n",
       "      <td>0</td>\n",
       "      <td>0 / 894</td>\n",
       "      <td>0.00%</td>\n",
       "      <td>0.0</td>\n",
       "    </tr>\n",
       "    <tr>\n",
       "      <th>11</th>\n",
       "      <td>Transcript Variant</td>\n",
       "      <td>0</td>\n",
       "      <td>0 / 428</td>\n",
       "      <td>0.00%</td>\n",
       "      <td>0</td>\n",
       "      <td>0 / 894</td>\n",
       "      <td>0.00%</td>\n",
       "      <td>0.0</td>\n",
       "    </tr>\n",
       "  </tbody>\n",
       "</table>\n",
       "</div>"
      ],
      "text/plain": [
       "                   Category  Number of Features Fraction of Features   \n",
       "0                Expression                  11             11 / 428  \\\n",
       "1   Epigenetic Modification                   0              0 / 428   \n",
       "2                    Fusion                   0              0 / 428   \n",
       "3       Protein Consequence                 323            323 / 428   \n",
       "4             Gene Function                   0              0 / 428   \n",
       "5            Rearrangements                  38             38 / 428   \n",
       "6               Copy Number                  47             47 / 428   \n",
       "7                     Other                   9              9 / 428   \n",
       "8            Genotypes Easy                   0              0 / 428   \n",
       "9        Genotypes Compound                   0              0 / 428   \n",
       "10   Region Defined Variant                   0              0 / 428   \n",
       "11       Transcript Variant                   0              0 / 428   \n",
       "\n",
       "   Percent of Features  Number of Assertions Fraction of Assertions   \n",
       "0                2.57%                    12               12 / 894  \\\n",
       "1                0.00%                     0                0 / 894   \n",
       "2                0.00%                     0                0 / 894   \n",
       "3               75.47%                   676              676 / 894   \n",
       "4                0.00%                     0                0 / 894   \n",
       "5                8.88%                    81               81 / 894   \n",
       "6               10.98%                   102              102 / 894   \n",
       "7                2.10%                    23               23 / 894   \n",
       "8                0.00%                     0                0 / 894   \n",
       "9                0.00%                     0                0 / 894   \n",
       "10               0.00%                     0                0 / 894   \n",
       "11               0.00%                     0                0 / 894   \n",
       "\n",
       "   Percent of Assertions  Impact Score  \n",
       "0                  1.34%          12.0  \n",
       "1                  0.00%           0.0  \n",
       "2                  0.00%           0.0  \n",
       "3                 75.62%        4152.5  \n",
       "4                  0.00%           0.0  \n",
       "5                  9.06%         643.0  \n",
       "6                 11.41%         400.0  \n",
       "7                  2.57%          53.5  \n",
       "8                  0.00%           0.0  \n",
       "9                  0.00%           0.0  \n",
       "10                 0.00%           0.0  \n",
       "11                 0.00%           0.0  "
      ]
     },
     "execution_count": 21,
     "metadata": {},
     "output_type": "execute_result"
    }
   ],
   "source": [
    "moa_feature_df = pd.DataFrame(feature_category_dict)\n",
    "moa_feature_df"
   ]
  },
  {
   "cell_type": "code",
   "execution_count": 22,
   "metadata": {},
   "outputs": [],
   "source": [
    "moa_feature_df[\"Percent of Features\"] = moa_feature_df[\"Fraction of Features\"].astype(str) + \" (\" + moa_feature_df[\"Percent of Features\"] + \")\"\n",
    "moa_feature_df[\"Percent of Assertions\"] = moa_feature_df[\"Fraction of Assertions\"].astype(str) + \" (\" + moa_feature_df[\"Percent of Assertions\"] + \")\""
   ]
  },
  {
   "cell_type": "code",
   "execution_count": 23,
   "metadata": {},
   "outputs": [],
   "source": [
    "moa_feature_df_abbreviated = moa_feature_df.drop([\"Number of Features\", \"Fraction of Features\", \"Number of Assertions\", \"Fraction of Assertions\"], axis=1)"
   ]
  },
  {
   "cell_type": "code",
   "execution_count": 24,
   "metadata": {},
   "outputs": [
    {
     "data": {
      "text/html": [
       "<div>\n",
       "<style scoped>\n",
       "    .dataframe tbody tr th:only-of-type {\n",
       "        vertical-align: middle;\n",
       "    }\n",
       "\n",
       "    .dataframe tbody tr th {\n",
       "        vertical-align: top;\n",
       "    }\n",
       "\n",
       "    .dataframe thead th {\n",
       "        text-align: right;\n",
       "    }\n",
       "</style>\n",
       "<table border=\"1\" class=\"dataframe\">\n",
       "  <thead>\n",
       "    <tr style=\"text-align: right;\">\n",
       "      <th></th>\n",
       "      <th>Percent of Features</th>\n",
       "      <th>Percent of Assertions</th>\n",
       "      <th>Impact Score</th>\n",
       "    </tr>\n",
       "    <tr>\n",
       "      <th>Category</th>\n",
       "      <th></th>\n",
       "      <th></th>\n",
       "      <th></th>\n",
       "    </tr>\n",
       "  </thead>\n",
       "  <tbody>\n",
       "    <tr>\n",
       "      <th>Expression</th>\n",
       "      <td>11 / 428 (2.57%)</td>\n",
       "      <td>12 / 894 (1.34%)</td>\n",
       "      <td>12.0</td>\n",
       "    </tr>\n",
       "    <tr>\n",
       "      <th>Epigenetic Modification</th>\n",
       "      <td>0 / 428 (0.00%)</td>\n",
       "      <td>0 / 894 (0.00%)</td>\n",
       "      <td>0.0</td>\n",
       "    </tr>\n",
       "    <tr>\n",
       "      <th>Fusion</th>\n",
       "      <td>0 / 428 (0.00%)</td>\n",
       "      <td>0 / 894 (0.00%)</td>\n",
       "      <td>0.0</td>\n",
       "    </tr>\n",
       "    <tr>\n",
       "      <th>Protein Consequence</th>\n",
       "      <td>323 / 428 (75.47%)</td>\n",
       "      <td>676 / 894 (75.62%)</td>\n",
       "      <td>4152.5</td>\n",
       "    </tr>\n",
       "    <tr>\n",
       "      <th>Gene Function</th>\n",
       "      <td>0 / 428 (0.00%)</td>\n",
       "      <td>0 / 894 (0.00%)</td>\n",
       "      <td>0.0</td>\n",
       "    </tr>\n",
       "    <tr>\n",
       "      <th>Rearrangements</th>\n",
       "      <td>38 / 428 (8.88%)</td>\n",
       "      <td>81 / 894 (9.06%)</td>\n",
       "      <td>643.0</td>\n",
       "    </tr>\n",
       "    <tr>\n",
       "      <th>Copy Number</th>\n",
       "      <td>47 / 428 (10.98%)</td>\n",
       "      <td>102 / 894 (11.41%)</td>\n",
       "      <td>400.0</td>\n",
       "    </tr>\n",
       "    <tr>\n",
       "      <th>Other</th>\n",
       "      <td>9 / 428 (2.10%)</td>\n",
       "      <td>23 / 894 (2.57%)</td>\n",
       "      <td>53.5</td>\n",
       "    </tr>\n",
       "    <tr>\n",
       "      <th>Genotypes Easy</th>\n",
       "      <td>0 / 428 (0.00%)</td>\n",
       "      <td>0 / 894 (0.00%)</td>\n",
       "      <td>0.0</td>\n",
       "    </tr>\n",
       "    <tr>\n",
       "      <th>Genotypes Compound</th>\n",
       "      <td>0 / 428 (0.00%)</td>\n",
       "      <td>0 / 894 (0.00%)</td>\n",
       "      <td>0.0</td>\n",
       "    </tr>\n",
       "    <tr>\n",
       "      <th>Region Defined Variant</th>\n",
       "      <td>0 / 428 (0.00%)</td>\n",
       "      <td>0 / 894 (0.00%)</td>\n",
       "      <td>0.0</td>\n",
       "    </tr>\n",
       "    <tr>\n",
       "      <th>Transcript Variant</th>\n",
       "      <td>0 / 428 (0.00%)</td>\n",
       "      <td>0 / 894 (0.00%)</td>\n",
       "      <td>0.0</td>\n",
       "    </tr>\n",
       "  </tbody>\n",
       "</table>\n",
       "</div>"
      ],
      "text/plain": [
       "                        Percent of Features Percent of Assertions   \n",
       "Category                                                            \n",
       "Expression                 11 / 428 (2.57%)      12 / 894 (1.34%)  \\\n",
       "Epigenetic Modification     0 / 428 (0.00%)       0 / 894 (0.00%)   \n",
       "Fusion                      0 / 428 (0.00%)       0 / 894 (0.00%)   \n",
       "Protein Consequence      323 / 428 (75.47%)    676 / 894 (75.62%)   \n",
       "Gene Function               0 / 428 (0.00%)       0 / 894 (0.00%)   \n",
       "Rearrangements             38 / 428 (8.88%)      81 / 894 (9.06%)   \n",
       "Copy Number               47 / 428 (10.98%)    102 / 894 (11.41%)   \n",
       "Other                       9 / 428 (2.10%)      23 / 894 (2.57%)   \n",
       "Genotypes Easy              0 / 428 (0.00%)       0 / 894 (0.00%)   \n",
       "Genotypes Compound          0 / 428 (0.00%)       0 / 894 (0.00%)   \n",
       "Region Defined Variant      0 / 428 (0.00%)       0 / 894 (0.00%)   \n",
       "Transcript Variant          0 / 428 (0.00%)       0 / 894 (0.00%)   \n",
       "\n",
       "                         Impact Score  \n",
       "Category                               \n",
       "Expression                       12.0  \n",
       "Epigenetic Modification           0.0  \n",
       "Fusion                            0.0  \n",
       "Protein Consequence            4152.5  \n",
       "Gene Function                     0.0  \n",
       "Rearrangements                  643.0  \n",
       "Copy Number                     400.0  \n",
       "Other                            53.5  \n",
       "Genotypes Easy                    0.0  \n",
       "Genotypes Compound                0.0  \n",
       "Region Defined Variant            0.0  \n",
       "Transcript Variant                0.0  "
      ]
     },
     "execution_count": 24,
     "metadata": {},
     "output_type": "execute_result"
    }
   ],
   "source": [
    "moa_feature_df_abbreviated = moa_feature_df_abbreviated.set_index(\"Category\")\n",
    "moa_feature_df_abbreviated"
   ]
  },
  {
   "cell_type": "markdown",
   "metadata": {},
   "source": []
  },
  {
   "cell_type": "code",
   "execution_count": 25,
   "metadata": {},
   "outputs": [
    {
     "data": {
      "application/vnd.plotly.v1+json": {
       "config": {
        "plotlyServerURL": "https://plot.ly"
       },
       "data": [
        {
         "hovertemplate": "Category=Expression<br>Number of Assertions=%{x}<br>Impact Score=%{y}<br>Number of Features=%{text}<extra></extra>",
         "legendgroup": "Expression",
         "marker": {
          "color": "#636efa",
          "size": [
           11
          ],
          "sizemode": "area",
          "sizeref": 0.201875,
          "symbol": "circle"
         },
         "mode": "markers+text",
         "name": "Expression",
         "orientation": "v",
         "showlegend": true,
         "text": [
          11
         ],
         "type": "scatter",
         "x": [
          12
         ],
         "xaxis": "x",
         "y": [
          12
         ],
         "yaxis": "y"
        },
        {
         "hovertemplate": "Category=Epigenetic Modification<br>Number of Assertions=%{x}<br>Impact Score=%{y}<br>Number of Features=%{text}<extra></extra>",
         "legendgroup": "Epigenetic Modification",
         "marker": {
          "color": "#EF553B",
          "size": [
           0
          ],
          "sizemode": "area",
          "sizeref": 0.201875,
          "symbol": "circle"
         },
         "mode": "markers+text",
         "name": "Epigenetic Modification",
         "orientation": "v",
         "showlegend": true,
         "text": [
          0
         ],
         "type": "scatter",
         "x": [
          0
         ],
         "xaxis": "x",
         "y": [
          0
         ],
         "yaxis": "y"
        },
        {
         "hovertemplate": "Category=Fusion<br>Number of Assertions=%{x}<br>Impact Score=%{y}<br>Number of Features=%{text}<extra></extra>",
         "legendgroup": "Fusion",
         "marker": {
          "color": "#00cc96",
          "size": [
           0
          ],
          "sizemode": "area",
          "sizeref": 0.201875,
          "symbol": "circle"
         },
         "mode": "markers+text",
         "name": "Fusion",
         "orientation": "v",
         "showlegend": true,
         "text": [
          0
         ],
         "type": "scatter",
         "x": [
          0
         ],
         "xaxis": "x",
         "y": [
          0
         ],
         "yaxis": "y"
        },
        {
         "hovertemplate": "Category=Protein Consequence<br>Number of Assertions=%{x}<br>Impact Score=%{y}<br>Number of Features=%{text}<extra></extra>",
         "legendgroup": "Protein Consequence",
         "marker": {
          "color": "#ab63fa",
          "size": [
           323
          ],
          "sizemode": "area",
          "sizeref": 0.201875,
          "symbol": "circle"
         },
         "mode": "markers+text",
         "name": "Protein Consequence",
         "orientation": "v",
         "showlegend": true,
         "text": [
          323
         ],
         "type": "scatter",
         "x": [
          676
         ],
         "xaxis": "x",
         "y": [
          4152.5
         ],
         "yaxis": "y"
        },
        {
         "hovertemplate": "Category=Gene Function<br>Number of Assertions=%{x}<br>Impact Score=%{y}<br>Number of Features=%{text}<extra></extra>",
         "legendgroup": "Gene Function",
         "marker": {
          "color": "#FFA15A",
          "size": [
           0
          ],
          "sizemode": "area",
          "sizeref": 0.201875,
          "symbol": "circle"
         },
         "mode": "markers+text",
         "name": "Gene Function",
         "orientation": "v",
         "showlegend": true,
         "text": [
          0
         ],
         "type": "scatter",
         "x": [
          0
         ],
         "xaxis": "x",
         "y": [
          0
         ],
         "yaxis": "y"
        },
        {
         "hovertemplate": "Category=Rearrangements<br>Number of Assertions=%{x}<br>Impact Score=%{y}<br>Number of Features=%{text}<extra></extra>",
         "legendgroup": "Rearrangements",
         "marker": {
          "color": "#19d3f3",
          "size": [
           38
          ],
          "sizemode": "area",
          "sizeref": 0.201875,
          "symbol": "circle"
         },
         "mode": "markers+text",
         "name": "Rearrangements",
         "orientation": "v",
         "showlegend": true,
         "text": [
          38
         ],
         "type": "scatter",
         "x": [
          81
         ],
         "xaxis": "x",
         "y": [
          643
         ],
         "yaxis": "y"
        },
        {
         "hovertemplate": "Category=Copy Number<br>Number of Assertions=%{x}<br>Impact Score=%{y}<br>Number of Features=%{text}<extra></extra>",
         "legendgroup": "Copy Number",
         "marker": {
          "color": "#FF6692",
          "size": [
           47
          ],
          "sizemode": "area",
          "sizeref": 0.201875,
          "symbol": "circle"
         },
         "mode": "markers+text",
         "name": "Copy Number",
         "orientation": "v",
         "showlegend": true,
         "text": [
          47
         ],
         "type": "scatter",
         "x": [
          102
         ],
         "xaxis": "x",
         "y": [
          400
         ],
         "yaxis": "y"
        },
        {
         "hovertemplate": "Category=Other<br>Number of Assertions=%{x}<br>Impact Score=%{y}<br>Number of Features=%{text}<extra></extra>",
         "legendgroup": "Other",
         "marker": {
          "color": "#B6E880",
          "size": [
           9
          ],
          "sizemode": "area",
          "sizeref": 0.201875,
          "symbol": "circle"
         },
         "mode": "markers+text",
         "name": "Other",
         "orientation": "v",
         "showlegend": true,
         "text": [
          9
         ],
         "type": "scatter",
         "x": [
          23
         ],
         "xaxis": "x",
         "y": [
          53.5
         ],
         "yaxis": "y"
        },
        {
         "hovertemplate": "Category=Genotypes Easy<br>Number of Assertions=%{x}<br>Impact Score=%{y}<br>Number of Features=%{text}<extra></extra>",
         "legendgroup": "Genotypes Easy",
         "marker": {
          "color": "#FF97FF",
          "size": [
           0
          ],
          "sizemode": "area",
          "sizeref": 0.201875,
          "symbol": "circle"
         },
         "mode": "markers+text",
         "name": "Genotypes Easy",
         "orientation": "v",
         "showlegend": true,
         "text": [
          0
         ],
         "type": "scatter",
         "x": [
          0
         ],
         "xaxis": "x",
         "y": [
          0
         ],
         "yaxis": "y"
        },
        {
         "hovertemplate": "Category=Genotypes Compound<br>Number of Assertions=%{x}<br>Impact Score=%{y}<br>Number of Features=%{text}<extra></extra>",
         "legendgroup": "Genotypes Compound",
         "marker": {
          "color": "#FECB52",
          "size": [
           0
          ],
          "sizemode": "area",
          "sizeref": 0.201875,
          "symbol": "circle"
         },
         "mode": "markers+text",
         "name": "Genotypes Compound",
         "orientation": "v",
         "showlegend": true,
         "text": [
          0
         ],
         "type": "scatter",
         "x": [
          0
         ],
         "xaxis": "x",
         "y": [
          0
         ],
         "yaxis": "y"
        },
        {
         "hovertemplate": "Category=Region Defined Variant<br>Number of Assertions=%{x}<br>Impact Score=%{y}<br>Number of Features=%{text}<extra></extra>",
         "legendgroup": "Region Defined Variant",
         "marker": {
          "color": "#636efa",
          "size": [
           0
          ],
          "sizemode": "area",
          "sizeref": 0.201875,
          "symbol": "circle"
         },
         "mode": "markers+text",
         "name": "Region Defined Variant",
         "orientation": "v",
         "showlegend": true,
         "text": [
          0
         ],
         "type": "scatter",
         "x": [
          0
         ],
         "xaxis": "x",
         "y": [
          0
         ],
         "yaxis": "y"
        },
        {
         "hovertemplate": "Category=Transcript Variant<br>Number of Assertions=%{x}<br>Impact Score=%{y}<br>Number of Features=%{text}<extra></extra>",
         "legendgroup": "Transcript Variant",
         "marker": {
          "color": "#EF553B",
          "size": [
           0
          ],
          "sizemode": "area",
          "sizeref": 0.201875,
          "symbol": "circle"
         },
         "mode": "markers+text",
         "name": "Transcript Variant",
         "orientation": "v",
         "showlegend": true,
         "text": [
          0
         ],
         "type": "scatter",
         "x": [
          0
         ],
         "xaxis": "x",
         "y": [
          0
         ],
         "yaxis": "y"
        }
       ],
       "layout": {
        "legend": {
         "itemsizing": "constant",
         "title": {
          "text": "Category"
         },
         "tracegroupgap": 0
        },
        "margin": {
         "t": 60
        },
        "template": {
         "data": {
          "bar": [
           {
            "error_x": {
             "color": "#2a3f5f"
            },
            "error_y": {
             "color": "#2a3f5f"
            },
            "marker": {
             "line": {
              "color": "#E5ECF6",
              "width": 0.5
             },
             "pattern": {
              "fillmode": "overlay",
              "size": 10,
              "solidity": 0.2
             }
            },
            "type": "bar"
           }
          ],
          "barpolar": [
           {
            "marker": {
             "line": {
              "color": "#E5ECF6",
              "width": 0.5
             },
             "pattern": {
              "fillmode": "overlay",
              "size": 10,
              "solidity": 0.2
             }
            },
            "type": "barpolar"
           }
          ],
          "carpet": [
           {
            "aaxis": {
             "endlinecolor": "#2a3f5f",
             "gridcolor": "white",
             "linecolor": "white",
             "minorgridcolor": "white",
             "startlinecolor": "#2a3f5f"
            },
            "baxis": {
             "endlinecolor": "#2a3f5f",
             "gridcolor": "white",
             "linecolor": "white",
             "minorgridcolor": "white",
             "startlinecolor": "#2a3f5f"
            },
            "type": "carpet"
           }
          ],
          "choropleth": [
           {
            "colorbar": {
             "outlinewidth": 0,
             "ticks": ""
            },
            "type": "choropleth"
           }
          ],
          "contour": [
           {
            "colorbar": {
             "outlinewidth": 0,
             "ticks": ""
            },
            "colorscale": [
             [
              0,
              "#0d0887"
             ],
             [
              0.1111111111111111,
              "#46039f"
             ],
             [
              0.2222222222222222,
              "#7201a8"
             ],
             [
              0.3333333333333333,
              "#9c179e"
             ],
             [
              0.4444444444444444,
              "#bd3786"
             ],
             [
              0.5555555555555556,
              "#d8576b"
             ],
             [
              0.6666666666666666,
              "#ed7953"
             ],
             [
              0.7777777777777778,
              "#fb9f3a"
             ],
             [
              0.8888888888888888,
              "#fdca26"
             ],
             [
              1,
              "#f0f921"
             ]
            ],
            "type": "contour"
           }
          ],
          "contourcarpet": [
           {
            "colorbar": {
             "outlinewidth": 0,
             "ticks": ""
            },
            "type": "contourcarpet"
           }
          ],
          "heatmap": [
           {
            "colorbar": {
             "outlinewidth": 0,
             "ticks": ""
            },
            "colorscale": [
             [
              0,
              "#0d0887"
             ],
             [
              0.1111111111111111,
              "#46039f"
             ],
             [
              0.2222222222222222,
              "#7201a8"
             ],
             [
              0.3333333333333333,
              "#9c179e"
             ],
             [
              0.4444444444444444,
              "#bd3786"
             ],
             [
              0.5555555555555556,
              "#d8576b"
             ],
             [
              0.6666666666666666,
              "#ed7953"
             ],
             [
              0.7777777777777778,
              "#fb9f3a"
             ],
             [
              0.8888888888888888,
              "#fdca26"
             ],
             [
              1,
              "#f0f921"
             ]
            ],
            "type": "heatmap"
           }
          ],
          "heatmapgl": [
           {
            "colorbar": {
             "outlinewidth": 0,
             "ticks": ""
            },
            "colorscale": [
             [
              0,
              "#0d0887"
             ],
             [
              0.1111111111111111,
              "#46039f"
             ],
             [
              0.2222222222222222,
              "#7201a8"
             ],
             [
              0.3333333333333333,
              "#9c179e"
             ],
             [
              0.4444444444444444,
              "#bd3786"
             ],
             [
              0.5555555555555556,
              "#d8576b"
             ],
             [
              0.6666666666666666,
              "#ed7953"
             ],
             [
              0.7777777777777778,
              "#fb9f3a"
             ],
             [
              0.8888888888888888,
              "#fdca26"
             ],
             [
              1,
              "#f0f921"
             ]
            ],
            "type": "heatmapgl"
           }
          ],
          "histogram": [
           {
            "marker": {
             "pattern": {
              "fillmode": "overlay",
              "size": 10,
              "solidity": 0.2
             }
            },
            "type": "histogram"
           }
          ],
          "histogram2d": [
           {
            "colorbar": {
             "outlinewidth": 0,
             "ticks": ""
            },
            "colorscale": [
             [
              0,
              "#0d0887"
             ],
             [
              0.1111111111111111,
              "#46039f"
             ],
             [
              0.2222222222222222,
              "#7201a8"
             ],
             [
              0.3333333333333333,
              "#9c179e"
             ],
             [
              0.4444444444444444,
              "#bd3786"
             ],
             [
              0.5555555555555556,
              "#d8576b"
             ],
             [
              0.6666666666666666,
              "#ed7953"
             ],
             [
              0.7777777777777778,
              "#fb9f3a"
             ],
             [
              0.8888888888888888,
              "#fdca26"
             ],
             [
              1,
              "#f0f921"
             ]
            ],
            "type": "histogram2d"
           }
          ],
          "histogram2dcontour": [
           {
            "colorbar": {
             "outlinewidth": 0,
             "ticks": ""
            },
            "colorscale": [
             [
              0,
              "#0d0887"
             ],
             [
              0.1111111111111111,
              "#46039f"
             ],
             [
              0.2222222222222222,
              "#7201a8"
             ],
             [
              0.3333333333333333,
              "#9c179e"
             ],
             [
              0.4444444444444444,
              "#bd3786"
             ],
             [
              0.5555555555555556,
              "#d8576b"
             ],
             [
              0.6666666666666666,
              "#ed7953"
             ],
             [
              0.7777777777777778,
              "#fb9f3a"
             ],
             [
              0.8888888888888888,
              "#fdca26"
             ],
             [
              1,
              "#f0f921"
             ]
            ],
            "type": "histogram2dcontour"
           }
          ],
          "mesh3d": [
           {
            "colorbar": {
             "outlinewidth": 0,
             "ticks": ""
            },
            "type": "mesh3d"
           }
          ],
          "parcoords": [
           {
            "line": {
             "colorbar": {
              "outlinewidth": 0,
              "ticks": ""
             }
            },
            "type": "parcoords"
           }
          ],
          "pie": [
           {
            "automargin": true,
            "type": "pie"
           }
          ],
          "scatter": [
           {
            "fillpattern": {
             "fillmode": "overlay",
             "size": 10,
             "solidity": 0.2
            },
            "type": "scatter"
           }
          ],
          "scatter3d": [
           {
            "line": {
             "colorbar": {
              "outlinewidth": 0,
              "ticks": ""
             }
            },
            "marker": {
             "colorbar": {
              "outlinewidth": 0,
              "ticks": ""
             }
            },
            "type": "scatter3d"
           }
          ],
          "scattercarpet": [
           {
            "marker": {
             "colorbar": {
              "outlinewidth": 0,
              "ticks": ""
             }
            },
            "type": "scattercarpet"
           }
          ],
          "scattergeo": [
           {
            "marker": {
             "colorbar": {
              "outlinewidth": 0,
              "ticks": ""
             }
            },
            "type": "scattergeo"
           }
          ],
          "scattergl": [
           {
            "marker": {
             "colorbar": {
              "outlinewidth": 0,
              "ticks": ""
             }
            },
            "type": "scattergl"
           }
          ],
          "scattermapbox": [
           {
            "marker": {
             "colorbar": {
              "outlinewidth": 0,
              "ticks": ""
             }
            },
            "type": "scattermapbox"
           }
          ],
          "scatterpolar": [
           {
            "marker": {
             "colorbar": {
              "outlinewidth": 0,
              "ticks": ""
             }
            },
            "type": "scatterpolar"
           }
          ],
          "scatterpolargl": [
           {
            "marker": {
             "colorbar": {
              "outlinewidth": 0,
              "ticks": ""
             }
            },
            "type": "scatterpolargl"
           }
          ],
          "scatterternary": [
           {
            "marker": {
             "colorbar": {
              "outlinewidth": 0,
              "ticks": ""
             }
            },
            "type": "scatterternary"
           }
          ],
          "surface": [
           {
            "colorbar": {
             "outlinewidth": 0,
             "ticks": ""
            },
            "colorscale": [
             [
              0,
              "#0d0887"
             ],
             [
              0.1111111111111111,
              "#46039f"
             ],
             [
              0.2222222222222222,
              "#7201a8"
             ],
             [
              0.3333333333333333,
              "#9c179e"
             ],
             [
              0.4444444444444444,
              "#bd3786"
             ],
             [
              0.5555555555555556,
              "#d8576b"
             ],
             [
              0.6666666666666666,
              "#ed7953"
             ],
             [
              0.7777777777777778,
              "#fb9f3a"
             ],
             [
              0.8888888888888888,
              "#fdca26"
             ],
             [
              1,
              "#f0f921"
             ]
            ],
            "type": "surface"
           }
          ],
          "table": [
           {
            "cells": {
             "fill": {
              "color": "#EBF0F8"
             },
             "line": {
              "color": "white"
             }
            },
            "header": {
             "fill": {
              "color": "#C8D4E3"
             },
             "line": {
              "color": "white"
             }
            },
            "type": "table"
           }
          ]
         },
         "layout": {
          "annotationdefaults": {
           "arrowcolor": "#2a3f5f",
           "arrowhead": 0,
           "arrowwidth": 1
          },
          "autotypenumbers": "strict",
          "coloraxis": {
           "colorbar": {
            "outlinewidth": 0,
            "ticks": ""
           }
          },
          "colorscale": {
           "diverging": [
            [
             0,
             "#8e0152"
            ],
            [
             0.1,
             "#c51b7d"
            ],
            [
             0.2,
             "#de77ae"
            ],
            [
             0.3,
             "#f1b6da"
            ],
            [
             0.4,
             "#fde0ef"
            ],
            [
             0.5,
             "#f7f7f7"
            ],
            [
             0.6,
             "#e6f5d0"
            ],
            [
             0.7,
             "#b8e186"
            ],
            [
             0.8,
             "#7fbc41"
            ],
            [
             0.9,
             "#4d9221"
            ],
            [
             1,
             "#276419"
            ]
           ],
           "sequential": [
            [
             0,
             "#0d0887"
            ],
            [
             0.1111111111111111,
             "#46039f"
            ],
            [
             0.2222222222222222,
             "#7201a8"
            ],
            [
             0.3333333333333333,
             "#9c179e"
            ],
            [
             0.4444444444444444,
             "#bd3786"
            ],
            [
             0.5555555555555556,
             "#d8576b"
            ],
            [
             0.6666666666666666,
             "#ed7953"
            ],
            [
             0.7777777777777778,
             "#fb9f3a"
            ],
            [
             0.8888888888888888,
             "#fdca26"
            ],
            [
             1,
             "#f0f921"
            ]
           ],
           "sequentialminus": [
            [
             0,
             "#0d0887"
            ],
            [
             0.1111111111111111,
             "#46039f"
            ],
            [
             0.2222222222222222,
             "#7201a8"
            ],
            [
             0.3333333333333333,
             "#9c179e"
            ],
            [
             0.4444444444444444,
             "#bd3786"
            ],
            [
             0.5555555555555556,
             "#d8576b"
            ],
            [
             0.6666666666666666,
             "#ed7953"
            ],
            [
             0.7777777777777778,
             "#fb9f3a"
            ],
            [
             0.8888888888888888,
             "#fdca26"
            ],
            [
             1,
             "#f0f921"
            ]
           ]
          },
          "colorway": [
           "#636efa",
           "#EF553B",
           "#00cc96",
           "#ab63fa",
           "#FFA15A",
           "#19d3f3",
           "#FF6692",
           "#B6E880",
           "#FF97FF",
           "#FECB52"
          ],
          "font": {
           "color": "#2a3f5f"
          },
          "geo": {
           "bgcolor": "white",
           "lakecolor": "white",
           "landcolor": "#E5ECF6",
           "showlakes": true,
           "showland": true,
           "subunitcolor": "white"
          },
          "hoverlabel": {
           "align": "left"
          },
          "hovermode": "closest",
          "mapbox": {
           "style": "light"
          },
          "paper_bgcolor": "white",
          "plot_bgcolor": "#E5ECF6",
          "polar": {
           "angularaxis": {
            "gridcolor": "white",
            "linecolor": "white",
            "ticks": ""
           },
           "bgcolor": "#E5ECF6",
           "radialaxis": {
            "gridcolor": "white",
            "linecolor": "white",
            "ticks": ""
           }
          },
          "scene": {
           "xaxis": {
            "backgroundcolor": "#E5ECF6",
            "gridcolor": "white",
            "gridwidth": 2,
            "linecolor": "white",
            "showbackground": true,
            "ticks": "",
            "zerolinecolor": "white"
           },
           "yaxis": {
            "backgroundcolor": "#E5ECF6",
            "gridcolor": "white",
            "gridwidth": 2,
            "linecolor": "white",
            "showbackground": true,
            "ticks": "",
            "zerolinecolor": "white"
           },
           "zaxis": {
            "backgroundcolor": "#E5ECF6",
            "gridcolor": "white",
            "gridwidth": 2,
            "linecolor": "white",
            "showbackground": true,
            "ticks": "",
            "zerolinecolor": "white"
           }
          },
          "shapedefaults": {
           "line": {
            "color": "#2a3f5f"
           }
          },
          "ternary": {
           "aaxis": {
            "gridcolor": "white",
            "linecolor": "white",
            "ticks": ""
           },
           "baxis": {
            "gridcolor": "white",
            "linecolor": "white",
            "ticks": ""
           },
           "bgcolor": "#E5ECF6",
           "caxis": {
            "gridcolor": "white",
            "linecolor": "white",
            "ticks": ""
           }
          },
          "title": {
           "x": 0.05
          },
          "xaxis": {
           "automargin": true,
           "gridcolor": "white",
           "linecolor": "white",
           "ticks": "",
           "title": {
            "standoff": 15
           },
           "zerolinecolor": "white",
           "zerolinewidth": 2
          },
          "yaxis": {
           "automargin": true,
           "gridcolor": "white",
           "linecolor": "white",
           "ticks": "",
           "title": {
            "standoff": 15
           },
           "zerolinecolor": "white",
           "zerolinewidth": 2
          }
         }
        },
        "xaxis": {
         "anchor": "y",
         "domain": [
          0,
          1
         ],
         "title": {
          "text": "Number of Assertions"
         }
        },
        "yaxis": {
         "anchor": "x",
         "domain": [
          0,
          1
         ],
         "title": {
          "text": "Impact Score"
         }
        }
       }
      }
     },
     "metadata": {},
     "output_type": "display_data"
    }
   ],
   "source": [
    "fig = px.scatter(\n",
    "    data_frame=moa_feature_df,\n",
    "    x=\"Number of Assertions\",\n",
    "    y=\"Impact Score\",\n",
    "    size=\"Number of Features\",\n",
    "    size_max=40,\n",
    "    text=\"Number of Features\",\n",
    "    color=\"Category\"\n",
    ")\n",
    "fig.show()"
   ]
  },
  {
   "cell_type": "code",
   "execution_count": 26,
   "metadata": {},
   "outputs": [],
   "source": [
    "fig.write_html(\"moa_feature_categories_impact_scatterplot.html\")"
   ]
  },
  {
   "attachments": {},
   "cell_type": "markdown",
   "metadata": {},
   "source": [
    "## Create functions / global variables used in analysis"
   ]
  },
  {
   "cell_type": "code",
   "execution_count": 27,
   "metadata": {},
   "outputs": [
    {
     "data": {
      "text/plain": [
       "{'Variant Category': ['Normalized', 'Not Supported'],\n",
       " 'Count of MOA Features per Category': [],\n",
       " 'Fraction of all MOA Features': [],\n",
       " 'Percentage of all MOA Features': []}"
      ]
     },
     "execution_count": 27,
     "metadata": {},
     "output_type": "execute_result"
    }
   ],
   "source": [
    "feature_analysis_summary = {\n",
    "    \"Variant Category\": VARIANT_NORM_TYPE_VALUES,\n",
    "    \"Count of MOA Features per Category\":[],\n",
    "    \"Fraction of all MOA Features\": [],\n",
    "    \"Percentage of all MOA Features\": []\n",
    "}\n",
    "feature_analysis_summary"
   ]
  },
  {
   "cell_type": "code",
   "execution_count": 28,
   "metadata": {},
   "outputs": [],
   "source": [
    "def feature_analysis(df: pd.DataFrame, variant_norm_type: VariantNormType) -> pd.DataFrame:\n",
    "    \"\"\"Do feature analysis (counts, percentages). Updates `feature_analysis_summary`\n",
    "\n",
    "    :param df: Dataframe of variants\n",
    "    :param variant_norm_type: The kind of features that are in `df`\n",
    "    :return: Transformed dataframe with variant ID duplicates dropped\n",
    "    \"\"\"\n",
    "    # Drop duplicate rows\n",
    "    df = df.drop_duplicates(subset=[\"feature_id\"])\n",
    "    feature_ids = list(df[\"feature_id\"])\n",
    "\n",
    "    # Count\n",
    "    num_features = len(feature_ids)\n",
    "    fraction_features = f\"{num_features} / {total_len_features}\"\n",
    "    print(f\"\\nNumber of {variant_norm_type.value} Features in MOA: {fraction_features}\")\n",
    "\n",
    "    # Percentage\n",
    "    percentage_features = f\"{num_features / total_len_features * 100:.2f}%\"\n",
    "    print(f\"Percentage of {variant_norm_type.value} Features in MOA: {percentage_features}\")\n",
    "\n",
    "    feature_analysis_summary[\"Count of MOA Features per Category\"].append(num_features)\n",
    "    feature_analysis_summary[\"Fraction of all MOA Features\"].append(fraction_features)\n",
    "    feature_analysis_summary[\"Percentage of all MOA Features\"].append(percentage_features)\n",
    "\n",
    "    return df"
   ]
  },
  {
   "cell_type": "code",
   "execution_count": 29,
   "metadata": {},
   "outputs": [
    {
     "data": {
      "text/plain": [
       "{'Variant Category': ['Normalized', 'Not Supported'],\n",
       " 'Count of MOA Assertions per Category': [],\n",
       " 'Fraction of all MOA Assertions': [],\n",
       " 'Percentage of all MOA Assertions': []}"
      ]
     },
     "execution_count": 29,
     "metadata": {},
     "output_type": "execute_result"
    }
   ],
   "source": [
    "assertion_analysis_summary = {\n",
    "    \"Variant Category\": VARIANT_NORM_TYPE_VALUES,\n",
    "    \"Count of MOA Assertions per Category\":[],\n",
    "    \"Fraction of all MOA Assertions\": [],\n",
    "    \"Percentage of all MOA Assertions\": []\n",
    "}\n",
    "assertion_analysis_summary"
   ]
  },
  {
   "cell_type": "code",
   "execution_count": 30,
   "metadata": {},
   "outputs": [],
   "source": [
    "def assertion_analysis(all_df: pd.DataFrame, variant_norm_df: pd.DataFrame, variant_norm_type: VariantNormType):\n",
    "    \"\"\"Do evidence analysis (counts, percentages). Updates `assertion_analysis_summary`\n",
    "\n",
    "    :param all_df: Dataframe for all assertions and features\n",
    "    :param variant_norm_df: Dataframe for features given certain `variant_norm_type`\n",
    "    :param variant_norm_type: The kind of variants that are in `df`\n",
    "    \"\"\"\n",
    "    # Need to do this bc of duplicate features\n",
    "    _feature_ids = set(variant_norm_df.feature_digest)\n",
    "    tmp_df = all_df[all_df[\"feature_digest\"].isin(_feature_ids)]\n",
    "    \n",
    "    # Count\n",
    "    num_assertions = len(tmp_df.assertion_id)\n",
    "    fraction_assertions = f\"{num_assertions} / {total_len_assertions}\"\n",
    "    print(f\"Number of {variant_norm_type.value} Feature Assertions in MOA: {fraction_assertions}\")\n",
    "\n",
    "    # Percentage\n",
    "    percentage_assertions = f\"{num_assertions / total_len_assertions * 100:.2f}%\"\n",
    "    print(f\"Percentage of {variant_norm_type.value} Feature Assertions in MOA: {percentage_assertions}\")\n",
    "\n",
    "    assertion_analysis_summary[\"Count of MOA Assertions per Category\"].append(num_assertions)\n",
    "    assertion_analysis_summary[\"Fraction of all MOA Assertions\"].append(fraction_assertions)\n",
    "    assertion_analysis_summary[\"Percentage of all MOA Assertions\"].append(percentage_assertions)"
   ]
  },
  {
   "cell_type": "code",
   "execution_count": 31,
   "metadata": {},
   "outputs": [
    {
     "data": {
      "text/html": [
       "<div>\n",
       "<style scoped>\n",
       "    .dataframe tbody tr th:only-of-type {\n",
       "        vertical-align: middle;\n",
       "    }\n",
       "\n",
       "    .dataframe tbody tr th {\n",
       "        vertical-align: top;\n",
       "    }\n",
       "\n",
       "    .dataframe thead th {\n",
       "        text-align: right;\n",
       "    }\n",
       "</style>\n",
       "<table border=\"1\" class=\"dataframe\">\n",
       "  <thead>\n",
       "    <tr style=\"text-align: right;\">\n",
       "      <th></th>\n",
       "      <th>feature_id</th>\n",
       "      <th>feature_digest</th>\n",
       "    </tr>\n",
       "  </thead>\n",
       "  <tbody>\n",
       "    <tr>\n",
       "      <th>0</th>\n",
       "      <td>1</td>\n",
       "      <td>B5m8cSgi6w2xRCg0X_dPpQU2dwbvtXk1</td>\n",
       "    </tr>\n",
       "    <tr>\n",
       "      <th>1</th>\n",
       "      <td>2</td>\n",
       "      <td>B5m8cSgi6w2xRCg0X_dPpQU2dwbvtXk1</td>\n",
       "    </tr>\n",
       "    <tr>\n",
       "      <th>2</th>\n",
       "      <td>3</td>\n",
       "      <td>B5m8cSgi6w2xRCg0X_dPpQU2dwbvtXk1</td>\n",
       "    </tr>\n",
       "    <tr>\n",
       "      <th>3</th>\n",
       "      <td>4</td>\n",
       "      <td>B5m8cSgi6w2xRCg0X_dPpQU2dwbvtXk1</td>\n",
       "    </tr>\n",
       "    <tr>\n",
       "      <th>4</th>\n",
       "      <td>5</td>\n",
       "      <td>B5m8cSgi6w2xRCg0X_dPpQU2dwbvtXk1</td>\n",
       "    </tr>\n",
       "    <tr>\n",
       "      <th>...</th>\n",
       "      <td>...</td>\n",
       "      <td>...</td>\n",
       "    </tr>\n",
       "    <tr>\n",
       "      <th>889</th>\n",
       "      <td>890</td>\n",
       "      <td>B5m8cSgi6w2xRCg0X_dPpQU2dwbvtXk1</td>\n",
       "    </tr>\n",
       "    <tr>\n",
       "      <th>890</th>\n",
       "      <td>891</td>\n",
       "      <td>B5m8cSgi6w2xRCg0X_dPpQU2dwbvtXk1</td>\n",
       "    </tr>\n",
       "    <tr>\n",
       "      <th>891</th>\n",
       "      <td>892</td>\n",
       "      <td>B5m8cSgi6w2xRCg0X_dPpQU2dwbvtXk1</td>\n",
       "    </tr>\n",
       "    <tr>\n",
       "      <th>892</th>\n",
       "      <td>893</td>\n",
       "      <td>B5m8cSgi6w2xRCg0X_dPpQU2dwbvtXk1</td>\n",
       "    </tr>\n",
       "    <tr>\n",
       "      <th>893</th>\n",
       "      <td>894</td>\n",
       "      <td>B5m8cSgi6w2xRCg0X_dPpQU2dwbvtXk1</td>\n",
       "    </tr>\n",
       "  </tbody>\n",
       "</table>\n",
       "<p>894 rows × 2 columns</p>\n",
       "</div>"
      ],
      "text/plain": [
       "     feature_id                    feature_digest\n",
       "0             1  B5m8cSgi6w2xRCg0X_dPpQU2dwbvtXk1\n",
       "1             2  B5m8cSgi6w2xRCg0X_dPpQU2dwbvtXk1\n",
       "2             3  B5m8cSgi6w2xRCg0X_dPpQU2dwbvtXk1\n",
       "3             4  B5m8cSgi6w2xRCg0X_dPpQU2dwbvtXk1\n",
       "4             5  B5m8cSgi6w2xRCg0X_dPpQU2dwbvtXk1\n",
       "..          ...                               ...\n",
       "889         890  B5m8cSgi6w2xRCg0X_dPpQU2dwbvtXk1\n",
       "890         891  B5m8cSgi6w2xRCg0X_dPpQU2dwbvtXk1\n",
       "891         892  B5m8cSgi6w2xRCg0X_dPpQU2dwbvtXk1\n",
       "892         893  B5m8cSgi6w2xRCg0X_dPpQU2dwbvtXk1\n",
       "893         894  B5m8cSgi6w2xRCg0X_dPpQU2dwbvtXk1\n",
       "\n",
       "[894 rows x 2 columns]"
      ]
     },
     "execution_count": 31,
     "metadata": {},
     "output_type": "execute_result"
    }
   ],
   "source": [
    "feature_id_to_digest_df = pd.DataFrame(feature_id_to_digest.items(), columns=[\"feature_id\", \"feature_digest\"])\n",
    "feature_id_to_digest_df"
   ]
  },
  {
   "attachments": {},
   "cell_type": "markdown",
   "metadata": {},
   "source": [
    "## Normalized Analysis"
   ]
  },
  {
   "cell_type": "code",
   "execution_count": 32,
   "metadata": {},
   "outputs": [
    {
     "data": {
      "text/plain": [
       "(179, 7)"
      ]
     },
     "execution_count": 32,
     "metadata": {},
     "output_type": "execute_result"
    }
   ],
   "source": [
    "normalized_queries_df = pd.read_csv(\"able_to_normalize_queries.csv\", sep=\"\\t\")\n",
    "normalized_queries_df = pd.merge(normalized_queries_df, feature_id_to_digest_df, left_on=\"variant_id\", right_on=\"feature_id\")\n",
    "normalized_queries_df.shape"
   ]
  },
  {
   "cell_type": "code",
   "execution_count": 33,
   "metadata": {},
   "outputs": [],
   "source": [
    "normalized_queries_df = pd.merge(normalized_queries_df[\"variant_id\"], moa_df, left_on=\"variant_id\", right_on=\"feature_id\", how=\"left\")\n",
    "normalized_queries_df = normalized_queries_df.drop(columns=[\"variant_id\"])"
   ]
  },
  {
   "cell_type": "code",
   "execution_count": 34,
   "metadata": {},
   "outputs": [
    {
     "name": "stdout",
     "output_type": "stream",
     "text": [
      "\n",
      "Number of Normalized Features in MOA: 179 / 428\n",
      "Percentage of Normalized Features in MOA: 41.82%\n"
     ]
    },
    {
     "data": {
      "text/html": [
       "<div>\n",
       "<style scoped>\n",
       "    .dataframe tbody tr th:only-of-type {\n",
       "        vertical-align: middle;\n",
       "    }\n",
       "\n",
       "    .dataframe tbody tr th {\n",
       "        vertical-align: top;\n",
       "    }\n",
       "\n",
       "    .dataframe thead th {\n",
       "        text-align: right;\n",
       "    }\n",
       "</style>\n",
       "<table border=\"1\" class=\"dataframe\">\n",
       "  <thead>\n",
       "    <tr style=\"text-align: right;\">\n",
       "      <th></th>\n",
       "      <th>assertion_id</th>\n",
       "      <th>feature_id</th>\n",
       "      <th>feature_type</th>\n",
       "      <th>predictive_implication</th>\n",
       "      <th>feature_digest</th>\n",
       "      <th>category</th>\n",
       "      <th>impact_score</th>\n",
       "    </tr>\n",
       "  </thead>\n",
       "  <tbody>\n",
       "    <tr>\n",
       "      <th>0</th>\n",
       "      <td>71</td>\n",
       "      <td>71</td>\n",
       "      <td>somatic_variant</td>\n",
       "      <td>Preclinical</td>\n",
       "      <td>KgolzM3HWhww4t4HywFYCySUtGRIQ_mx</td>\n",
       "      <td>Protein Consequence</td>\n",
       "      <td>1</td>\n",
       "    </tr>\n",
       "    <tr>\n",
       "      <th>1</th>\n",
       "      <td>73</td>\n",
       "      <td>73</td>\n",
       "      <td>somatic_variant</td>\n",
       "      <td>Clinical evidence</td>\n",
       "      <td>j3HtSnIdrU8CcuW8_Qs3qVxOn-kMJV1T</td>\n",
       "      <td>Protein Consequence</td>\n",
       "      <td>5</td>\n",
       "    </tr>\n",
       "    <tr>\n",
       "      <th>2</th>\n",
       "      <td>75</td>\n",
       "      <td>75</td>\n",
       "      <td>somatic_variant</td>\n",
       "      <td>Clinical evidence</td>\n",
       "      <td>X_Az48pPjt4IODuY2a50Yl2_1tGopcuF</td>\n",
       "      <td>Protein Consequence</td>\n",
       "      <td>5</td>\n",
       "    </tr>\n",
       "    <tr>\n",
       "      <th>3</th>\n",
       "      <td>76</td>\n",
       "      <td>76</td>\n",
       "      <td>somatic_variant</td>\n",
       "      <td>Clinical evidence</td>\n",
       "      <td>LQQXFXpA4FCOQ3Fz4988x2vynER4J-Wh</td>\n",
       "      <td>Protein Consequence</td>\n",
       "      <td>5</td>\n",
       "    </tr>\n",
       "    <tr>\n",
       "      <th>4</th>\n",
       "      <td>77</td>\n",
       "      <td>77</td>\n",
       "      <td>somatic_variant</td>\n",
       "      <td>Clinical evidence</td>\n",
       "      <td>DKoCqZUY0WBdUnoly9DL_PAjBBZTs51d</td>\n",
       "      <td>Protein Consequence</td>\n",
       "      <td>5</td>\n",
       "    </tr>\n",
       "    <tr>\n",
       "      <th>...</th>\n",
       "      <td>...</td>\n",
       "      <td>...</td>\n",
       "      <td>...</td>\n",
       "      <td>...</td>\n",
       "      <td>...</td>\n",
       "      <td>...</td>\n",
       "      <td>...</td>\n",
       "    </tr>\n",
       "    <tr>\n",
       "      <th>174</th>\n",
       "      <td>858</td>\n",
       "      <td>858</td>\n",
       "      <td>copy_number</td>\n",
       "      <td>Clinical evidence</td>\n",
       "      <td>UYE-1dofAcf0kc44xdOY2hxwkMNUzjl7</td>\n",
       "      <td>Copy Number</td>\n",
       "      <td>5</td>\n",
       "    </tr>\n",
       "    <tr>\n",
       "      <th>175</th>\n",
       "      <td>859</td>\n",
       "      <td>859</td>\n",
       "      <td>copy_number</td>\n",
       "      <td>Inferential</td>\n",
       "      <td>s8SpNzXJuTJlGEqC0Rk-zd8ke9l4fq00</td>\n",
       "      <td>Copy Number</td>\n",
       "      <td>0.5</td>\n",
       "    </tr>\n",
       "    <tr>\n",
       "      <th>176</th>\n",
       "      <td>868</td>\n",
       "      <td>868</td>\n",
       "      <td>somatic_variant</td>\n",
       "      <td>FDA-Approved</td>\n",
       "      <td>xEngbInsi1BKQp2pVFi44N8CYLj6ZEkD</td>\n",
       "      <td>Protein Consequence</td>\n",
       "      <td>10</td>\n",
       "    </tr>\n",
       "    <tr>\n",
       "      <th>177</th>\n",
       "      <td>869</td>\n",
       "      <td>869</td>\n",
       "      <td>somatic_variant</td>\n",
       "      <td>FDA-Approved</td>\n",
       "      <td>fqvuveTjuO96HizOsbWgFQmfF76lGtdl</td>\n",
       "      <td>Protein Consequence</td>\n",
       "      <td>10</td>\n",
       "    </tr>\n",
       "    <tr>\n",
       "      <th>178</th>\n",
       "      <td>870</td>\n",
       "      <td>870</td>\n",
       "      <td>somatic_variant</td>\n",
       "      <td>FDA-Approved</td>\n",
       "      <td>1JInmjKzPW9V9q9UKen4VODk1drBadA2</td>\n",
       "      <td>Protein Consequence</td>\n",
       "      <td>10</td>\n",
       "    </tr>\n",
       "  </tbody>\n",
       "</table>\n",
       "<p>179 rows × 7 columns</p>\n",
       "</div>"
      ],
      "text/plain": [
       "     assertion_id  feature_id     feature_type predictive_implication   \n",
       "0              71          71  somatic_variant            Preclinical  \\\n",
       "1              73          73  somatic_variant      Clinical evidence   \n",
       "2              75          75  somatic_variant      Clinical evidence   \n",
       "3              76          76  somatic_variant      Clinical evidence   \n",
       "4              77          77  somatic_variant      Clinical evidence   \n",
       "..            ...         ...              ...                    ...   \n",
       "174           858         858      copy_number      Clinical evidence   \n",
       "175           859         859      copy_number            Inferential   \n",
       "176           868         868  somatic_variant           FDA-Approved   \n",
       "177           869         869  somatic_variant           FDA-Approved   \n",
       "178           870         870  somatic_variant           FDA-Approved   \n",
       "\n",
       "                       feature_digest             category impact_score  \n",
       "0    KgolzM3HWhww4t4HywFYCySUtGRIQ_mx  Protein Consequence            1  \n",
       "1    j3HtSnIdrU8CcuW8_Qs3qVxOn-kMJV1T  Protein Consequence            5  \n",
       "2    X_Az48pPjt4IODuY2a50Yl2_1tGopcuF  Protein Consequence            5  \n",
       "3    LQQXFXpA4FCOQ3Fz4988x2vynER4J-Wh  Protein Consequence            5  \n",
       "4    DKoCqZUY0WBdUnoly9DL_PAjBBZTs51d  Protein Consequence            5  \n",
       "..                                ...                  ...          ...  \n",
       "174  UYE-1dofAcf0kc44xdOY2hxwkMNUzjl7          Copy Number            5  \n",
       "175  s8SpNzXJuTJlGEqC0Rk-zd8ke9l4fq00          Copy Number          0.5  \n",
       "176  xEngbInsi1BKQp2pVFi44N8CYLj6ZEkD  Protein Consequence           10  \n",
       "177  fqvuveTjuO96HizOsbWgFQmfF76lGtdl  Protein Consequence           10  \n",
       "178  1JInmjKzPW9V9q9UKen4VODk1drBadA2  Protein Consequence           10  \n",
       "\n",
       "[179 rows x 7 columns]"
      ]
     },
     "execution_count": 34,
     "metadata": {},
     "output_type": "execute_result"
    }
   ],
   "source": [
    "normalized_queries_df = feature_analysis(normalized_queries_df, VariantNormType.NORMALIZED)\n",
    "normalized_queries_df\n"
   ]
  },
  {
   "cell_type": "code",
   "execution_count": 35,
   "metadata": {},
   "outputs": [
    {
     "name": "stdout",
     "output_type": "stream",
     "text": [
      "Number of Normalized Feature Assertions in MOA: 325 / 894\n",
      "Percentage of Normalized Feature Assertions in MOA: 36.35%\n"
     ]
    }
   ],
   "source": [
    "assertion_analysis(moa_df, normalized_queries_df, VariantNormType.NORMALIZED)"
   ]
  },
  {
   "attachments": {},
   "cell_type": "markdown",
   "metadata": {},
   "source": [
    "## Not Supported Analysis"
   ]
  },
  {
   "cell_type": "code",
   "execution_count": 36,
   "metadata": {},
   "outputs": [
    {
     "data": {
      "text/plain": [
       "(244, 6)"
      ]
     },
     "execution_count": 36,
     "metadata": {},
     "output_type": "execute_result"
    }
   ],
   "source": [
    "not_supported_queries_df = pd.read_csv(\"not_supported_variants.csv\", sep=\"\\t\")\n",
    "not_supported_queries_df = pd.merge(not_supported_queries_df, feature_id_to_digest_df, left_on=\"variant_id\", right_on=\"feature_id\")\n",
    "not_supported_queries_df.shape"
   ]
  },
  {
   "cell_type": "code",
   "execution_count": 37,
   "metadata": {},
   "outputs": [
    {
     "data": {
      "text/html": [
       "<div>\n",
       "<style scoped>\n",
       "    .dataframe tbody tr th:only-of-type {\n",
       "        vertical-align: middle;\n",
       "    }\n",
       "\n",
       "    .dataframe tbody tr th {\n",
       "        vertical-align: top;\n",
       "    }\n",
       "\n",
       "    .dataframe thead th {\n",
       "        text-align: right;\n",
       "    }\n",
       "</style>\n",
       "<table border=\"1\" class=\"dataframe\">\n",
       "  <thead>\n",
       "    <tr style=\"text-align: right;\">\n",
       "      <th></th>\n",
       "      <th>assertion_id</th>\n",
       "      <th>feature_id</th>\n",
       "      <th>feature_type</th>\n",
       "      <th>predictive_implication</th>\n",
       "      <th>feature_digest</th>\n",
       "      <th>category</th>\n",
       "      <th>impact_score</th>\n",
       "    </tr>\n",
       "  </thead>\n",
       "  <tbody>\n",
       "    <tr>\n",
       "      <th>0</th>\n",
       "      <td>1</td>\n",
       "      <td>1</td>\n",
       "      <td>rearrangement</td>\n",
       "      <td>FDA-Approved</td>\n",
       "      <td>RnRyn89cJzVbVM93aw4OA44NIF5zblyP</td>\n",
       "      <td>Rearrangements</td>\n",
       "      <td>10</td>\n",
       "    </tr>\n",
       "    <tr>\n",
       "      <th>1</th>\n",
       "      <td>12</td>\n",
       "      <td>12</td>\n",
       "      <td>rearrangement</td>\n",
       "      <td>FDA-Approved</td>\n",
       "      <td>g99yF3kKnB-We_fMS5RaVygoSuT7qA-I</td>\n",
       "      <td>Rearrangements</td>\n",
       "      <td>10</td>\n",
       "    </tr>\n",
       "    <tr>\n",
       "      <th>2</th>\n",
       "      <td>15</td>\n",
       "      <td>15</td>\n",
       "      <td>rearrangement</td>\n",
       "      <td>FDA-Approved</td>\n",
       "      <td>e8PMq2A96-aBJ3Ip74ovx5VOUCztBTq7</td>\n",
       "      <td>Rearrangements</td>\n",
       "      <td>10</td>\n",
       "    </tr>\n",
       "    <tr>\n",
       "      <th>3</th>\n",
       "      <td>18</td>\n",
       "      <td>18</td>\n",
       "      <td>rearrangement</td>\n",
       "      <td>Guideline</td>\n",
       "      <td>DxfRiRV-3J6zRON4pnzNJjXkJf2bsp20</td>\n",
       "      <td>Rearrangements</td>\n",
       "      <td>10</td>\n",
       "    </tr>\n",
       "    <tr>\n",
       "      <th>4</th>\n",
       "      <td>21</td>\n",
       "      <td>21</td>\n",
       "      <td>rearrangement</td>\n",
       "      <td>Preclinical</td>\n",
       "      <td>BRsPjsZSCyDXnKtBt9XgsWX2JDNWY3FP</td>\n",
       "      <td>Rearrangements</td>\n",
       "      <td>1</td>\n",
       "    </tr>\n",
       "    <tr>\n",
       "      <th>...</th>\n",
       "      <td>...</td>\n",
       "      <td>...</td>\n",
       "      <td>...</td>\n",
       "      <td>...</td>\n",
       "      <td>...</td>\n",
       "      <td>...</td>\n",
       "      <td>...</td>\n",
       "    </tr>\n",
       "    <tr>\n",
       "      <th>239</th>\n",
       "      <td>849</td>\n",
       "      <td>849</td>\n",
       "      <td>copy_number</td>\n",
       "      <td>Inferential</td>\n",
       "      <td>jLD_tOKaW8wX5P2RiZ7EkMT8yBzfA_U_</td>\n",
       "      <td>Copy Number</td>\n",
       "      <td>0.5</td>\n",
       "    </tr>\n",
       "    <tr>\n",
       "      <th>240</th>\n",
       "      <td>853</td>\n",
       "      <td>853</td>\n",
       "      <td>copy_number</td>\n",
       "      <td>Inferential</td>\n",
       "      <td>3ZPmhQucEgPWkaRLg9viECM4O4pEg-BU</td>\n",
       "      <td>Copy Number</td>\n",
       "      <td>0.5</td>\n",
       "    </tr>\n",
       "    <tr>\n",
       "      <th>241</th>\n",
       "      <td>862</td>\n",
       "      <td>862</td>\n",
       "      <td>copy_number</td>\n",
       "      <td>Preclinical</td>\n",
       "      <td>LwEU_0YQA4iVchOdEiBrq_RmIciU-9EW</td>\n",
       "      <td>Copy Number</td>\n",
       "      <td>1</td>\n",
       "    </tr>\n",
       "    <tr>\n",
       "      <th>242</th>\n",
       "      <td>863</td>\n",
       "      <td>863</td>\n",
       "      <td>rearrangement</td>\n",
       "      <td>FDA-Approved</td>\n",
       "      <td>MpJsmn4LCLMXDsTNTTlyV5t3fKAnsJzL</td>\n",
       "      <td>Rearrangements</td>\n",
       "      <td>10</td>\n",
       "    </tr>\n",
       "    <tr>\n",
       "      <th>243</th>\n",
       "      <td>873</td>\n",
       "      <td>873</td>\n",
       "      <td>somatic_variant</td>\n",
       "      <td>FDA-Approved</td>\n",
       "      <td>qXCY7CGzeFBIDXYsc18tEVBImkWB_43E</td>\n",
       "      <td>Protein Consequence</td>\n",
       "      <td>10</td>\n",
       "    </tr>\n",
       "  </tbody>\n",
       "</table>\n",
       "<p>244 rows × 7 columns</p>\n",
       "</div>"
      ],
      "text/plain": [
       "     assertion_id  feature_id     feature_type predictive_implication   \n",
       "0               1           1    rearrangement           FDA-Approved  \\\n",
       "1              12          12    rearrangement           FDA-Approved   \n",
       "2              15          15    rearrangement           FDA-Approved   \n",
       "3              18          18    rearrangement              Guideline   \n",
       "4              21          21    rearrangement            Preclinical   \n",
       "..            ...         ...              ...                    ...   \n",
       "239           849         849      copy_number            Inferential   \n",
       "240           853         853      copy_number            Inferential   \n",
       "241           862         862      copy_number            Preclinical   \n",
       "242           863         863    rearrangement           FDA-Approved   \n",
       "243           873         873  somatic_variant           FDA-Approved   \n",
       "\n",
       "                       feature_digest             category impact_score  \n",
       "0    RnRyn89cJzVbVM93aw4OA44NIF5zblyP       Rearrangements           10  \n",
       "1    g99yF3kKnB-We_fMS5RaVygoSuT7qA-I       Rearrangements           10  \n",
       "2    e8PMq2A96-aBJ3Ip74ovx5VOUCztBTq7       Rearrangements           10  \n",
       "3    DxfRiRV-3J6zRON4pnzNJjXkJf2bsp20       Rearrangements           10  \n",
       "4    BRsPjsZSCyDXnKtBt9XgsWX2JDNWY3FP       Rearrangements            1  \n",
       "..                                ...                  ...          ...  \n",
       "239  jLD_tOKaW8wX5P2RiZ7EkMT8yBzfA_U_          Copy Number          0.5  \n",
       "240  3ZPmhQucEgPWkaRLg9viECM4O4pEg-BU          Copy Number          0.5  \n",
       "241  LwEU_0YQA4iVchOdEiBrq_RmIciU-9EW          Copy Number            1  \n",
       "242  MpJsmn4LCLMXDsTNTTlyV5t3fKAnsJzL       Rearrangements           10  \n",
       "243  qXCY7CGzeFBIDXYsc18tEVBImkWB_43E  Protein Consequence           10  \n",
       "\n",
       "[244 rows x 7 columns]"
      ]
     },
     "execution_count": 37,
     "metadata": {},
     "output_type": "execute_result"
    }
   ],
   "source": [
    "not_supported_queries_df = pd.merge(not_supported_queries_df[\"variant_id\"], moa_df, left_on=\"variant_id\", right_on=\"feature_id\", how=\"left\")\n",
    "not_supported_queries_df = not_supported_queries_df.drop(columns=[\"variant_id\"])\n",
    "not_supported_queries_df"
   ]
  },
  {
   "attachments": {},
   "cell_type": "markdown",
   "metadata": {},
   "source": [
    "### Feature (Variant) Analysis"
   ]
  },
  {
   "cell_type": "code",
   "execution_count": 38,
   "metadata": {},
   "outputs": [
    {
     "name": "stdout",
     "output_type": "stream",
     "text": [
      "\n",
      "Number of Not Supported Features in MOA: 244 / 428\n",
      "Percentage of Not Supported Features in MOA: 57.01%\n"
     ]
    }
   ],
   "source": [
    "not_supported_queries_df = feature_analysis(not_supported_queries_df, VariantNormType.NOT_SUPPORTED)"
   ]
  },
  {
   "attachments": {},
   "cell_type": "markdown",
   "metadata": {},
   "source": [
    "### Not Supported Feature (Variant) Analysis by Subcategory"
   ]
  },
  {
   "cell_type": "code",
   "execution_count": 39,
   "metadata": {},
   "outputs": [],
   "source": [
    "not_supported_feature_analysis_summary = {\n",
    "    \"Category\": VARIANT_CATEGORY_VALUES,\n",
    "    \"Count of MOA Features per Category\":[],\n",
    "    \"Fraction of all MOA Features\": [],\n",
    "    \"Percent of all MOA Features\": [],\n",
    "    \"Fraction of Not Supported Features\": [],\n",
    "    \"Percent of Not Supported Features\": [],\n",
    "}"
   ]
  },
  {
   "cell_type": "code",
   "execution_count": 40,
   "metadata": {},
   "outputs": [],
   "source": [
    "not_supported_feature_categories_summary_data = dict()\n",
    "total_number_unique_not_supported_features = len(set(not_supported_queries_df.feature_id))\n",
    "\n",
    "for category in VARIANT_CATEGORY_VALUES:  # These are not supported categories\n",
    "    not_supported_feature_categories_summary_data[category] = {}\n",
    "    category_df = not_supported_queries_df[not_supported_queries_df.category == category]\n",
    "\n",
    "    # Count\n",
    "    number_unique_not_supported_category_features = len(set(category_df.feature_id))\n",
    "    not_supported_feature_categories_summary_data[category][\"number_unique_not_supported_category_features\"] = number_unique_not_supported_category_features\n",
    "\n",
    "    # Fraction\n",
    "    fraction_not_supported_category_feature_of_moa = f\"{number_unique_not_supported_category_features} / {total_len_features}\"\n",
    "    not_supported_feature_categories_summary_data[category][\"fraction_not_supported_category_feature_of_moa\"] = fraction_not_supported_category_feature_of_moa\n",
    "\n",
    "    # Percent\n",
    "    percent_not_supported_category_feature_of_moa = f\"{number_unique_not_supported_category_features / total_len_features * 100:.2f}%\"\n",
    "    not_supported_feature_categories_summary_data[category][\"percent_not_supported_category_feature_of_moa\"] = percent_not_supported_category_feature_of_moa\n",
    "\n",
    "    # Not supported fraction\n",
    "    fraction_not_supported_category_feature_of_total_not_supported = f\"{number_unique_not_supported_category_features} / {total_number_unique_not_supported_features}\"\n",
    "    not_supported_feature_categories_summary_data[category][\"fraction_not_supported_category_feature_of_total_not_supported\"] = fraction_not_supported_category_feature_of_total_not_supported\n",
    "\n",
    "    # Not supported percent\n",
    "    percent_not_supported_category_feature_of_total_not_supported = f\"{number_unique_not_supported_category_features / total_number_unique_not_supported_features * 100:.2f}%\"\n",
    "    not_supported_feature_categories_summary_data[category][\"percent_not_supported_category_feature_of_total_not_supported\"] = percent_not_supported_category_feature_of_total_not_supported\n",
    "\n",
    "    not_supported_feature_analysis_summary[\"Count of MOA Features per Category\"].append(number_unique_not_supported_category_features)\n",
    "    not_supported_feature_analysis_summary[\"Fraction of all MOA Features\"].append(fraction_not_supported_category_feature_of_moa)\n",
    "    not_supported_feature_analysis_summary[\"Percent of all MOA Features\"].append(percent_not_supported_category_feature_of_moa)\n",
    "    not_supported_feature_analysis_summary[\"Fraction of Not Supported Features\"].append(fraction_not_supported_category_feature_of_total_not_supported)\n",
    "    not_supported_feature_analysis_summary[\"Percent of Not Supported Features\"].append(percent_not_supported_category_feature_of_total_not_supported)"
   ]
  },
  {
   "cell_type": "code",
   "execution_count": 41,
   "metadata": {},
   "outputs": [
    {
     "data": {
      "text/plain": [
       "0"
      ]
     },
     "execution_count": 41,
     "metadata": {},
     "output_type": "execute_result"
    }
   ],
   "source": [
    "number_unique_not_supported_category_features"
   ]
  },
  {
   "cell_type": "code",
   "execution_count": 42,
   "metadata": {},
   "outputs": [
    {
     "data": {
      "text/html": [
       "<div>\n",
       "<style scoped>\n",
       "    .dataframe tbody tr th:only-of-type {\n",
       "        vertical-align: middle;\n",
       "    }\n",
       "\n",
       "    .dataframe tbody tr th {\n",
       "        vertical-align: top;\n",
       "    }\n",
       "\n",
       "    .dataframe thead th {\n",
       "        text-align: right;\n",
       "    }\n",
       "</style>\n",
       "<table border=\"1\" class=\"dataframe\">\n",
       "  <thead>\n",
       "    <tr style=\"text-align: right;\">\n",
       "      <th></th>\n",
       "      <th>Category</th>\n",
       "      <th>Count of MOA Features per Category</th>\n",
       "      <th>Fraction of all MOA Features</th>\n",
       "      <th>Percent of all MOA Features</th>\n",
       "      <th>Fraction of Not Supported Features</th>\n",
       "      <th>Percent of Not Supported Features</th>\n",
       "    </tr>\n",
       "  </thead>\n",
       "  <tbody>\n",
       "    <tr>\n",
       "      <th>0</th>\n",
       "      <td>Expression</td>\n",
       "      <td>11</td>\n",
       "      <td>11 / 428</td>\n",
       "      <td>2.57%</td>\n",
       "      <td>11 / 244</td>\n",
       "      <td>4.51%</td>\n",
       "    </tr>\n",
       "    <tr>\n",
       "      <th>1</th>\n",
       "      <td>Epigenetic Modification</td>\n",
       "      <td>0</td>\n",
       "      <td>0 / 428</td>\n",
       "      <td>0.00%</td>\n",
       "      <td>0 / 244</td>\n",
       "      <td>0.00%</td>\n",
       "    </tr>\n",
       "    <tr>\n",
       "      <th>2</th>\n",
       "      <td>Fusion</td>\n",
       "      <td>0</td>\n",
       "      <td>0 / 428</td>\n",
       "      <td>0.00%</td>\n",
       "      <td>0 / 244</td>\n",
       "      <td>0.00%</td>\n",
       "    </tr>\n",
       "    <tr>\n",
       "      <th>3</th>\n",
       "      <td>Protein Consequence</td>\n",
       "      <td>169</td>\n",
       "      <td>169 / 428</td>\n",
       "      <td>39.49%</td>\n",
       "      <td>169 / 244</td>\n",
       "      <td>69.26%</td>\n",
       "    </tr>\n",
       "    <tr>\n",
       "      <th>4</th>\n",
       "      <td>Gene Function</td>\n",
       "      <td>0</td>\n",
       "      <td>0 / 428</td>\n",
       "      <td>0.00%</td>\n",
       "      <td>0 / 244</td>\n",
       "      <td>0.00%</td>\n",
       "    </tr>\n",
       "    <tr>\n",
       "      <th>5</th>\n",
       "      <td>Rearrangements</td>\n",
       "      <td>38</td>\n",
       "      <td>38 / 428</td>\n",
       "      <td>8.88%</td>\n",
       "      <td>38 / 244</td>\n",
       "      <td>15.57%</td>\n",
       "    </tr>\n",
       "    <tr>\n",
       "      <th>6</th>\n",
       "      <td>Copy Number</td>\n",
       "      <td>17</td>\n",
       "      <td>17 / 428</td>\n",
       "      <td>3.97%</td>\n",
       "      <td>17 / 244</td>\n",
       "      <td>6.97%</td>\n",
       "    </tr>\n",
       "    <tr>\n",
       "      <th>7</th>\n",
       "      <td>Other</td>\n",
       "      <td>9</td>\n",
       "      <td>9 / 428</td>\n",
       "      <td>2.10%</td>\n",
       "      <td>9 / 244</td>\n",
       "      <td>3.69%</td>\n",
       "    </tr>\n",
       "    <tr>\n",
       "      <th>8</th>\n",
       "      <td>Genotypes Easy</td>\n",
       "      <td>0</td>\n",
       "      <td>0 / 428</td>\n",
       "      <td>0.00%</td>\n",
       "      <td>0 / 244</td>\n",
       "      <td>0.00%</td>\n",
       "    </tr>\n",
       "    <tr>\n",
       "      <th>9</th>\n",
       "      <td>Genotypes Compound</td>\n",
       "      <td>0</td>\n",
       "      <td>0 / 428</td>\n",
       "      <td>0.00%</td>\n",
       "      <td>0 / 244</td>\n",
       "      <td>0.00%</td>\n",
       "    </tr>\n",
       "    <tr>\n",
       "      <th>10</th>\n",
       "      <td>Region Defined Variant</td>\n",
       "      <td>0</td>\n",
       "      <td>0 / 428</td>\n",
       "      <td>0.00%</td>\n",
       "      <td>0 / 244</td>\n",
       "      <td>0.00%</td>\n",
       "    </tr>\n",
       "    <tr>\n",
       "      <th>11</th>\n",
       "      <td>Transcript Variant</td>\n",
       "      <td>0</td>\n",
       "      <td>0 / 428</td>\n",
       "      <td>0.00%</td>\n",
       "      <td>0 / 244</td>\n",
       "      <td>0.00%</td>\n",
       "    </tr>\n",
       "  </tbody>\n",
       "</table>\n",
       "</div>"
      ],
      "text/plain": [
       "                   Category  Count of MOA Features per Category   \n",
       "0                Expression                                  11  \\\n",
       "1   Epigenetic Modification                                   0   \n",
       "2                    Fusion                                   0   \n",
       "3       Protein Consequence                                 169   \n",
       "4             Gene Function                                   0   \n",
       "5            Rearrangements                                  38   \n",
       "6               Copy Number                                  17   \n",
       "7                     Other                                   9   \n",
       "8            Genotypes Easy                                   0   \n",
       "9        Genotypes Compound                                   0   \n",
       "10   Region Defined Variant                                   0   \n",
       "11       Transcript Variant                                   0   \n",
       "\n",
       "   Fraction of all MOA Features Percent of all MOA Features   \n",
       "0                      11 / 428                       2.57%  \\\n",
       "1                       0 / 428                       0.00%   \n",
       "2                       0 / 428                       0.00%   \n",
       "3                     169 / 428                      39.49%   \n",
       "4                       0 / 428                       0.00%   \n",
       "5                      38 / 428                       8.88%   \n",
       "6                      17 / 428                       3.97%   \n",
       "7                       9 / 428                       2.10%   \n",
       "8                       0 / 428                       0.00%   \n",
       "9                       0 / 428                       0.00%   \n",
       "10                      0 / 428                       0.00%   \n",
       "11                      0 / 428                       0.00%   \n",
       "\n",
       "   Fraction of Not Supported Features Percent of Not Supported Features  \n",
       "0                            11 / 244                             4.51%  \n",
       "1                             0 / 244                             0.00%  \n",
       "2                             0 / 244                             0.00%  \n",
       "3                           169 / 244                            69.26%  \n",
       "4                             0 / 244                             0.00%  \n",
       "5                            38 / 244                            15.57%  \n",
       "6                            17 / 244                             6.97%  \n",
       "7                             9 / 244                             3.69%  \n",
       "8                             0 / 244                             0.00%  \n",
       "9                             0 / 244                             0.00%  \n",
       "10                            0 / 244                             0.00%  \n",
       "11                            0 / 244                             0.00%  "
      ]
     },
     "execution_count": 42,
     "metadata": {},
     "output_type": "execute_result"
    }
   ],
   "source": [
    "not_supported_variant_df = pd.DataFrame(not_supported_feature_analysis_summary)\n",
    "not_supported_variant_df"
   ]
  },
  {
   "attachments": {},
   "cell_type": "markdown",
   "metadata": {},
   "source": [
    "### Not Support Feature (Variant) Assertion (Evidence) Analysis by Subcategory"
   ]
  },
  {
   "attachments": {},
   "cell_type": "markdown",
   "metadata": {},
   "source": [
    "List all the possible variant categories"
   ]
  },
  {
   "cell_type": "code",
   "execution_count": 43,
   "metadata": {},
   "outputs": [
    {
     "data": {
      "text/plain": [
       "['Rearrangements', 'Protein Consequence', 'Copy Number', 'Other', 'Expression']"
      ]
     },
     "execution_count": 43,
     "metadata": {},
     "output_type": "execute_result"
    }
   ],
   "source": [
    "not_supported_feature_categories = not_supported_queries_df.category.unique()\n",
    "[v for v in not_supported_feature_categories]"
   ]
  },
  {
   "cell_type": "code",
   "execution_count": 44,
   "metadata": {},
   "outputs": [
    {
     "data": {
      "text/html": [
       "<div>\n",
       "<style scoped>\n",
       "    .dataframe tbody tr th:only-of-type {\n",
       "        vertical-align: middle;\n",
       "    }\n",
       "\n",
       "    .dataframe tbody tr th {\n",
       "        vertical-align: top;\n",
       "    }\n",
       "\n",
       "    .dataframe thead th {\n",
       "        text-align: right;\n",
       "    }\n",
       "</style>\n",
       "<table border=\"1\" class=\"dataframe\">\n",
       "  <thead>\n",
       "    <tr style=\"text-align: right;\">\n",
       "      <th></th>\n",
       "      <th>assertion_id</th>\n",
       "      <th>feature_id</th>\n",
       "      <th>feature_type</th>\n",
       "      <th>predictive_implication</th>\n",
       "      <th>feature_digest</th>\n",
       "      <th>category</th>\n",
       "      <th>impact_score</th>\n",
       "    </tr>\n",
       "  </thead>\n",
       "  <tbody>\n",
       "    <tr>\n",
       "      <th>0</th>\n",
       "      <td>1</td>\n",
       "      <td>1</td>\n",
       "      <td>rearrangement</td>\n",
       "      <td>FDA-Approved</td>\n",
       "      <td>RnRyn89cJzVbVM93aw4OA44NIF5zblyP</td>\n",
       "      <td>Rearrangements</td>\n",
       "      <td>10</td>\n",
       "    </tr>\n",
       "    <tr>\n",
       "      <th>1</th>\n",
       "      <td>12</td>\n",
       "      <td>12</td>\n",
       "      <td>rearrangement</td>\n",
       "      <td>FDA-Approved</td>\n",
       "      <td>g99yF3kKnB-We_fMS5RaVygoSuT7qA-I</td>\n",
       "      <td>Rearrangements</td>\n",
       "      <td>10</td>\n",
       "    </tr>\n",
       "    <tr>\n",
       "      <th>2</th>\n",
       "      <td>15</td>\n",
       "      <td>15</td>\n",
       "      <td>rearrangement</td>\n",
       "      <td>FDA-Approved</td>\n",
       "      <td>e8PMq2A96-aBJ3Ip74ovx5VOUCztBTq7</td>\n",
       "      <td>Rearrangements</td>\n",
       "      <td>10</td>\n",
       "    </tr>\n",
       "    <tr>\n",
       "      <th>3</th>\n",
       "      <td>18</td>\n",
       "      <td>18</td>\n",
       "      <td>rearrangement</td>\n",
       "      <td>Guideline</td>\n",
       "      <td>DxfRiRV-3J6zRON4pnzNJjXkJf2bsp20</td>\n",
       "      <td>Rearrangements</td>\n",
       "      <td>10</td>\n",
       "    </tr>\n",
       "    <tr>\n",
       "      <th>4</th>\n",
       "      <td>21</td>\n",
       "      <td>21</td>\n",
       "      <td>rearrangement</td>\n",
       "      <td>Preclinical</td>\n",
       "      <td>BRsPjsZSCyDXnKtBt9XgsWX2JDNWY3FP</td>\n",
       "      <td>Rearrangements</td>\n",
       "      <td>1</td>\n",
       "    </tr>\n",
       "    <tr>\n",
       "      <th>...</th>\n",
       "      <td>...</td>\n",
       "      <td>...</td>\n",
       "      <td>...</td>\n",
       "      <td>...</td>\n",
       "      <td>...</td>\n",
       "      <td>...</td>\n",
       "      <td>...</td>\n",
       "    </tr>\n",
       "    <tr>\n",
       "      <th>239</th>\n",
       "      <td>849</td>\n",
       "      <td>849</td>\n",
       "      <td>copy_number</td>\n",
       "      <td>Inferential</td>\n",
       "      <td>jLD_tOKaW8wX5P2RiZ7EkMT8yBzfA_U_</td>\n",
       "      <td>Copy Number</td>\n",
       "      <td>0.5</td>\n",
       "    </tr>\n",
       "    <tr>\n",
       "      <th>240</th>\n",
       "      <td>853</td>\n",
       "      <td>853</td>\n",
       "      <td>copy_number</td>\n",
       "      <td>Inferential</td>\n",
       "      <td>3ZPmhQucEgPWkaRLg9viECM4O4pEg-BU</td>\n",
       "      <td>Copy Number</td>\n",
       "      <td>0.5</td>\n",
       "    </tr>\n",
       "    <tr>\n",
       "      <th>241</th>\n",
       "      <td>862</td>\n",
       "      <td>862</td>\n",
       "      <td>copy_number</td>\n",
       "      <td>Preclinical</td>\n",
       "      <td>LwEU_0YQA4iVchOdEiBrq_RmIciU-9EW</td>\n",
       "      <td>Copy Number</td>\n",
       "      <td>1</td>\n",
       "    </tr>\n",
       "    <tr>\n",
       "      <th>242</th>\n",
       "      <td>863</td>\n",
       "      <td>863</td>\n",
       "      <td>rearrangement</td>\n",
       "      <td>FDA-Approved</td>\n",
       "      <td>MpJsmn4LCLMXDsTNTTlyV5t3fKAnsJzL</td>\n",
       "      <td>Rearrangements</td>\n",
       "      <td>10</td>\n",
       "    </tr>\n",
       "    <tr>\n",
       "      <th>243</th>\n",
       "      <td>873</td>\n",
       "      <td>873</td>\n",
       "      <td>somatic_variant</td>\n",
       "      <td>FDA-Approved</td>\n",
       "      <td>qXCY7CGzeFBIDXYsc18tEVBImkWB_43E</td>\n",
       "      <td>Protein Consequence</td>\n",
       "      <td>10</td>\n",
       "    </tr>\n",
       "  </tbody>\n",
       "</table>\n",
       "<p>244 rows × 7 columns</p>\n",
       "</div>"
      ],
      "text/plain": [
       "     assertion_id  feature_id     feature_type predictive_implication   \n",
       "0               1           1    rearrangement           FDA-Approved  \\\n",
       "1              12          12    rearrangement           FDA-Approved   \n",
       "2              15          15    rearrangement           FDA-Approved   \n",
       "3              18          18    rearrangement              Guideline   \n",
       "4              21          21    rearrangement            Preclinical   \n",
       "..            ...         ...              ...                    ...   \n",
       "239           849         849      copy_number            Inferential   \n",
       "240           853         853      copy_number            Inferential   \n",
       "241           862         862      copy_number            Preclinical   \n",
       "242           863         863    rearrangement           FDA-Approved   \n",
       "243           873         873  somatic_variant           FDA-Approved   \n",
       "\n",
       "                       feature_digest             category impact_score  \n",
       "0    RnRyn89cJzVbVM93aw4OA44NIF5zblyP       Rearrangements           10  \n",
       "1    g99yF3kKnB-We_fMS5RaVygoSuT7qA-I       Rearrangements           10  \n",
       "2    e8PMq2A96-aBJ3Ip74ovx5VOUCztBTq7       Rearrangements           10  \n",
       "3    DxfRiRV-3J6zRON4pnzNJjXkJf2bsp20       Rearrangements           10  \n",
       "4    BRsPjsZSCyDXnKtBt9XgsWX2JDNWY3FP       Rearrangements            1  \n",
       "..                                ...                  ...          ...  \n",
       "239  jLD_tOKaW8wX5P2RiZ7EkMT8yBzfA_U_          Copy Number          0.5  \n",
       "240  3ZPmhQucEgPWkaRLg9viECM4O4pEg-BU          Copy Number          0.5  \n",
       "241  LwEU_0YQA4iVchOdEiBrq_RmIciU-9EW          Copy Number            1  \n",
       "242  MpJsmn4LCLMXDsTNTTlyV5t3fKAnsJzL       Rearrangements           10  \n",
       "243  qXCY7CGzeFBIDXYsc18tEVBImkWB_43E  Protein Consequence           10  \n",
       "\n",
       "[244 rows x 7 columns]"
      ]
     },
     "execution_count": 44,
     "metadata": {},
     "output_type": "execute_result"
    }
   ],
   "source": [
    "not_supported_queries_df"
   ]
  },
  {
   "cell_type": "code",
   "execution_count": 45,
   "metadata": {},
   "outputs": [
    {
     "name": "stdout",
     "output_type": "stream",
     "text": [
      "Number of Not Supported Feature Assertions in MOA: 564 / 894\n",
      "Percentage of Not Supported Feature Assertions in MOA: 63.09%\n"
     ]
    }
   ],
   "source": [
    "assertion_analysis(moa_df, not_supported_queries_df, VariantNormType.NOT_SUPPORTED)\n"
   ]
  },
  {
   "cell_type": "code",
   "execution_count": 46,
   "metadata": {},
   "outputs": [],
   "source": [
    "not_supported_feature_assertion_summary = {\n",
    "    \"Category\": VARIANT_CATEGORY_VALUES,\n",
    "    \"Count of MOA Assertions per Category\": [],\n",
    "    \"Fraction of MOA Assertions\": [],\n",
    "    \"Percent of all MOA Assertions\": [],\n",
    "    \"Fraction of Not Supported Feature Assertions\": [],\n",
    "    \"Percent of Not Supported Feature Assertions\": []\n",
    "}"
   ]
  },
  {
   "cell_type": "code",
   "execution_count": 47,
   "metadata": {},
   "outputs": [],
   "source": [
    "not_supported_feature_ids = set(not_supported_queries_df.feature_digest)"
   ]
  },
  {
   "cell_type": "code",
   "execution_count": 48,
   "metadata": {},
   "outputs": [],
   "source": [
    "not_supported_feature_categories_assertion_summary_data = dict()\n",
    "total_number_not_supported_feature_unique_assertions = len(set(not_supported_queries_df.assertion_id))\n",
    "not_supported_feature_ids = set(not_supported_queries_df.feature_digest)\n",
    "\n",
    "for category in VARIANT_CATEGORY_VALUES:    \n",
    "    not_supported_feature_categories_assertion_summary_data[category] = {}\n",
    "\n",
    "    # Need to do this bc of duplicate features\n",
    "    tmp_df = moa_df[moa_df[\"feature_digest\"].isin(not_supported_feature_ids)]\n",
    "    \n",
    "    evidence_category_df = tmp_df[tmp_df.category == category]\n",
    "    \n",
    "    evidence_category_df = evidence_category_df.drop_duplicates(subset=[\"assertion_id\"])\n",
    "\n",
    "    # Count\n",
    "    number_unique_not_supported_category_assertion = len(set(evidence_category_df.assertion_id))\n",
    "    not_supported_feature_categories_assertion_summary_data[category][\"number_unique_not_supported_category_assertion\"] = number_unique_not_supported_category_assertion\n",
    "\n",
    "    # Fraction\n",
    "    fraction_not_supported_category_feature_assertion_of_moa = f\"{number_unique_not_supported_category_assertion} / {total_len_assertions}\"\n",
    "    not_supported_feature_categories_assertion_summary_data[category][\"fraction_not_supported_category_feature_assertion_of_moa\"] = fraction_not_supported_category_feature_assertion_of_moa\n",
    "\n",
    "    # Percent\n",
    "    percent_not_supported_category_feature_assertion_of_moa = f\"{number_unique_not_supported_category_assertion / total_len_assertions * 100:.2f}%\"\n",
    "    not_supported_feature_categories_assertion_summary_data[category][\"percent_not_supported_category_feature_assertion_of_moa\"] = percent_not_supported_category_feature_assertion_of_moa\n",
    "\n",
    "    # Not supported fraction\n",
    "    fraction_not_supported_category_feature_assertion_of_total_not_supported = f\"{number_unique_not_supported_category_assertion} / {total_number_not_supported_feature_unique_assertions}\"\n",
    "    not_supported_feature_categories_assertion_summary_data[category][\"fraction_not_supported_category_feature_assertion_of_total_not_supported\"] = fraction_not_supported_category_feature_assertion_of_total_not_supported\n",
    "\n",
    "    # Not supported percent\n",
    "    percent_not_supported_category_feature_assertion_of_total_not_supported = f\"{number_unique_not_supported_category_assertion / total_number_not_supported_feature_unique_assertions * 100:.2f}%\"\n",
    "    not_supported_feature_categories_assertion_summary_data[category][\"percent_not_supported_category_feature_assertion_of_total_not_supported\"] = percent_not_supported_category_feature_assertion_of_total_not_supported\n",
    "\n",
    "\n",
    "    not_supported_feature_assertion_summary[\"Count of MOA Assertions per Category\"].append(number_unique_not_supported_category_assertion)\n",
    "    not_supported_feature_assertion_summary[\"Fraction of MOA Assertions\"].append(fraction_not_supported_category_feature_assertion_of_moa)\n",
    "    not_supported_feature_assertion_summary[\"Percent of all MOA Assertions\"].append(percent_not_supported_category_feature_assertion_of_moa)\n",
    "    not_supported_feature_assertion_summary[\"Fraction of Not Supported Feature Assertions\"].append(fraction_not_supported_category_feature_assertion_of_total_not_supported)\n",
    "    not_supported_feature_assertion_summary[\"Percent of Not Supported Feature Assertions\"].append(percent_not_supported_category_feature_assertion_of_total_not_supported)\n"
   ]
  },
  {
   "cell_type": "code",
   "execution_count": 49,
   "metadata": {},
   "outputs": [
    {
     "data": {
      "text/plain": [
       "0"
      ]
     },
     "execution_count": 49,
     "metadata": {},
     "output_type": "execute_result"
    }
   ],
   "source": [
    "number_unique_not_supported_category_features"
   ]
  },
  {
   "attachments": {},
   "cell_type": "markdown",
   "metadata": {},
   "source": [
    "## Impact by Subcategory"
   ]
  },
  {
   "cell_type": "code",
   "execution_count": 50,
   "metadata": {},
   "outputs": [],
   "source": [
    "not_supported_impact_summary = {\n",
    "    \"Category\": VARIANT_CATEGORY_VALUES,\n",
    "    \"MOA Total Sum Impact Score\": [],\n",
    "    'Average Impact Score per Feature': [],\n",
    "    'Average Impact Score per Assertion':[],\n",
    "    \"Total Number Assertions\": [v[\"number_unique_not_supported_category_assertion\"] for v in not_supported_feature_categories_assertion_summary_data.values()],\n",
    "    \"Total Number Features\": [v[\"number_unique_not_supported_category_features\"] for v in not_supported_feature_categories_summary_data.values()]\n",
    "}"
   ]
  },
  {
   "cell_type": "code",
   "execution_count": 51,
   "metadata": {},
   "outputs": [
    {
     "name": "stdout",
     "output_type": "stream",
     "text": [
      "Number of unique features within category: 11\n",
      "Expression: 11, 1.0, 1.0\n",
      "Number of unique features within category: 0\n",
      "Epigenetic Modification: 0, 0, 0\n",
      "Number of unique features within category: 0\n",
      "Fusion: 0, 0, 0\n",
      "Number of unique features within category: 169\n",
      "Protein Consequence: 1054.5, 6.239644970414201, 6.239644970414201\n",
      "Number of unique features within category: 0\n",
      "Gene Function: 0, 0, 0\n",
      "Number of unique features within category: 38\n",
      "Rearrangements: 291.0, 7.657894736842105, 7.657894736842105\n",
      "Number of unique features within category: 17\n",
      "Copy Number: 44.5, 2.6176470588235294, 2.6176470588235294\n",
      "Number of unique features within category: 9\n",
      "Other: 32.5, 3.611111111111111, 3.611111111111111\n",
      "Number of unique features within category: 0\n",
      "Genotypes Easy: 0, 0, 0\n",
      "Number of unique features within category: 0\n",
      "Genotypes Compound: 0, 0, 0\n",
      "Number of unique features within category: 0\n",
      "Region Defined Variant: 0, 0, 0\n",
      "Number of unique features within category: 0\n",
      "Transcript Variant: 0, 0, 0\n"
     ]
    }
   ],
   "source": [
    "not_supported_feature_categories_impact_data = dict()\n",
    "for category in VARIANT_CATEGORY_VALUES:\n",
    "    #print(category)\n",
    "    not_supported_feature_categories_impact_data[category] = {}\n",
    "    impact_category_df = not_supported_queries_df[not_supported_queries_df[\"category\"] == category].copy()\n",
    "\n",
    "    total_sum_not_supported_category_impact = impact_category_df[\"impact_score\"].sum()\n",
    "    #print(f\"total sum {total_sum_not_supported_category_impact}\")\n",
    "    not_supported_feature_categories_impact_data[category][\"total_sum_not_supported_category_impact\"] = total_sum_not_supported_category_impact\n",
    "    #print(f\"\")\n",
    "    number_unique_not_supported_category_features = impact_category_df.feature_id.nunique()\n",
    "    number_unique_not_supported_category_assertion = impact_category_df.assertion_id.nunique()\n",
    "    #print(number_unique_not_supported_category_features)\n",
    "    #print(number_unique_not_supported_category_assertion)\n",
    "\n",
    "\n",
    "    if number_unique_not_supported_category_features == 0:\n",
    "        avg_impact_score_feature = 0\n",
    "        not_supported_feature_categories_impact_data[category][\"avg_impact_score_feature\"]=  avg_impact_score_feature\n",
    "\n",
    "        avg_impact_score_assertion = 0\n",
    "        not_supported_feature_categories_impact_data[category][\"avg_impact_score_evidence\"]=  avg_impact_score_assertion\n",
    "    else:\n",
    "        avg_impact_score_feature = total_sum_not_supported_category_impact/ number_unique_not_supported_category_features\n",
    "        not_supported_feature_categories_impact_data[category][\"avg_impact_score_feature\"]=  avg_impact_score_feature\n",
    "\n",
    "        avg_impact_score_assertion = total_sum_not_supported_category_impact/ number_unique_not_supported_category_assertion\n",
    "        not_supported_feature_categories_impact_data[category][\"avg_impact_score_evidence\"]=  avg_impact_score_assertion\n",
    "    \n",
    "    not_supported_impact_summary[\"MOA Total Sum Impact Score\"].append(total_sum_not_supported_category_impact)\n",
    "    not_supported_impact_summary[\"Average Impact Score per Feature\"].append(avg_impact_score_feature)\n",
    "    not_supported_impact_summary[\"Average Impact Score per Assertion\"].append(avg_impact_score_assertion)\n",
    "\n",
    "    print(f\"Number of unique features within category: {number_unique_not_supported_category_features}\")\n",
    "    print(f\"{category}: {total_sum_not_supported_category_impact}, {avg_impact_score_feature}, {avg_impact_score_assertion}\")"
   ]
  },
  {
   "cell_type": "code",
   "execution_count": 52,
   "metadata": {},
   "outputs": [],
   "source": [
    "not_supported_feature_impact_df = pd.DataFrame(not_supported_impact_summary)"
   ]
  },
  {
   "cell_type": "code",
   "execution_count": 53,
   "metadata": {},
   "outputs": [
    {
     "data": {
      "text/html": [
       "<div>\n",
       "<style scoped>\n",
       "    .dataframe tbody tr th:only-of-type {\n",
       "        vertical-align: middle;\n",
       "    }\n",
       "\n",
       "    .dataframe tbody tr th {\n",
       "        vertical-align: top;\n",
       "    }\n",
       "\n",
       "    .dataframe thead th {\n",
       "        text-align: right;\n",
       "    }\n",
       "</style>\n",
       "<table border=\"1\" class=\"dataframe\">\n",
       "  <thead>\n",
       "    <tr style=\"text-align: right;\">\n",
       "      <th></th>\n",
       "      <th>Category</th>\n",
       "      <th>MOA Total Sum Impact Score</th>\n",
       "      <th>Average Impact Score per Feature</th>\n",
       "      <th>Average Impact Score per Assertion</th>\n",
       "      <th>Total Number Assertions</th>\n",
       "      <th>Total Number Features</th>\n",
       "    </tr>\n",
       "  </thead>\n",
       "  <tbody>\n",
       "    <tr>\n",
       "      <th>0</th>\n",
       "      <td>Expression</td>\n",
       "      <td>11.0</td>\n",
       "      <td>1.000000</td>\n",
       "      <td>1.000000</td>\n",
       "      <td>12</td>\n",
       "      <td>11</td>\n",
       "    </tr>\n",
       "    <tr>\n",
       "      <th>1</th>\n",
       "      <td>Epigenetic Modification</td>\n",
       "      <td>0.0</td>\n",
       "      <td>0.000000</td>\n",
       "      <td>0.000000</td>\n",
       "      <td>0</td>\n",
       "      <td>0</td>\n",
       "    </tr>\n",
       "    <tr>\n",
       "      <th>2</th>\n",
       "      <td>Fusion</td>\n",
       "      <td>0.0</td>\n",
       "      <td>0.000000</td>\n",
       "      <td>0.000000</td>\n",
       "      <td>0</td>\n",
       "      <td>0</td>\n",
       "    </tr>\n",
       "    <tr>\n",
       "      <th>3</th>\n",
       "      <td>Protein Consequence</td>\n",
       "      <td>1054.5</td>\n",
       "      <td>6.239645</td>\n",
       "      <td>6.239645</td>\n",
       "      <td>419</td>\n",
       "      <td>169</td>\n",
       "    </tr>\n",
       "    <tr>\n",
       "      <th>4</th>\n",
       "      <td>Gene Function</td>\n",
       "      <td>0.0</td>\n",
       "      <td>0.000000</td>\n",
       "      <td>0.000000</td>\n",
       "      <td>0</td>\n",
       "      <td>0</td>\n",
       "    </tr>\n",
       "    <tr>\n",
       "      <th>5</th>\n",
       "      <td>Rearrangements</td>\n",
       "      <td>291.0</td>\n",
       "      <td>7.657895</td>\n",
       "      <td>7.657895</td>\n",
       "      <td>81</td>\n",
       "      <td>38</td>\n",
       "    </tr>\n",
       "    <tr>\n",
       "      <th>6</th>\n",
       "      <td>Copy Number</td>\n",
       "      <td>44.5</td>\n",
       "      <td>2.617647</td>\n",
       "      <td>2.617647</td>\n",
       "      <td>29</td>\n",
       "      <td>17</td>\n",
       "    </tr>\n",
       "    <tr>\n",
       "      <th>7</th>\n",
       "      <td>Other</td>\n",
       "      <td>32.5</td>\n",
       "      <td>3.611111</td>\n",
       "      <td>3.611111</td>\n",
       "      <td>23</td>\n",
       "      <td>9</td>\n",
       "    </tr>\n",
       "    <tr>\n",
       "      <th>8</th>\n",
       "      <td>Genotypes Easy</td>\n",
       "      <td>0.0</td>\n",
       "      <td>0.000000</td>\n",
       "      <td>0.000000</td>\n",
       "      <td>0</td>\n",
       "      <td>0</td>\n",
       "    </tr>\n",
       "    <tr>\n",
       "      <th>9</th>\n",
       "      <td>Genotypes Compound</td>\n",
       "      <td>0.0</td>\n",
       "      <td>0.000000</td>\n",
       "      <td>0.000000</td>\n",
       "      <td>0</td>\n",
       "      <td>0</td>\n",
       "    </tr>\n",
       "    <tr>\n",
       "      <th>10</th>\n",
       "      <td>Region Defined Variant</td>\n",
       "      <td>0.0</td>\n",
       "      <td>0.000000</td>\n",
       "      <td>0.000000</td>\n",
       "      <td>0</td>\n",
       "      <td>0</td>\n",
       "    </tr>\n",
       "    <tr>\n",
       "      <th>11</th>\n",
       "      <td>Transcript Variant</td>\n",
       "      <td>0.0</td>\n",
       "      <td>0.000000</td>\n",
       "      <td>0.000000</td>\n",
       "      <td>0</td>\n",
       "      <td>0</td>\n",
       "    </tr>\n",
       "  </tbody>\n",
       "</table>\n",
       "</div>"
      ],
      "text/plain": [
       "                   Category  MOA Total Sum Impact Score   \n",
       "0                Expression                        11.0  \\\n",
       "1   Epigenetic Modification                         0.0   \n",
       "2                    Fusion                         0.0   \n",
       "3       Protein Consequence                      1054.5   \n",
       "4             Gene Function                         0.0   \n",
       "5            Rearrangements                       291.0   \n",
       "6               Copy Number                        44.5   \n",
       "7                     Other                        32.5   \n",
       "8            Genotypes Easy                         0.0   \n",
       "9        Genotypes Compound                         0.0   \n",
       "10   Region Defined Variant                         0.0   \n",
       "11       Transcript Variant                         0.0   \n",
       "\n",
       "    Average Impact Score per Feature  Average Impact Score per Assertion   \n",
       "0                           1.000000                            1.000000  \\\n",
       "1                           0.000000                            0.000000   \n",
       "2                           0.000000                            0.000000   \n",
       "3                           6.239645                            6.239645   \n",
       "4                           0.000000                            0.000000   \n",
       "5                           7.657895                            7.657895   \n",
       "6                           2.617647                            2.617647   \n",
       "7                           3.611111                            3.611111   \n",
       "8                           0.000000                            0.000000   \n",
       "9                           0.000000                            0.000000   \n",
       "10                          0.000000                            0.000000   \n",
       "11                          0.000000                            0.000000   \n",
       "\n",
       "    Total Number Assertions  Total Number Features  \n",
       "0                        12                     11  \n",
       "1                         0                      0  \n",
       "2                         0                      0  \n",
       "3                       419                    169  \n",
       "4                         0                      0  \n",
       "5                        81                     38  \n",
       "6                        29                     17  \n",
       "7                        23                      9  \n",
       "8                         0                      0  \n",
       "9                         0                      0  \n",
       "10                        0                      0  \n",
       "11                        0                      0  "
      ]
     },
     "execution_count": 53,
     "metadata": {},
     "output_type": "execute_result"
    }
   ],
   "source": [
    "not_supported_feature_impact_df"
   ]
  },
  {
   "cell_type": "code",
   "execution_count": 54,
   "metadata": {},
   "outputs": [],
   "source": [
    "not_supported_feature_impact_df.to_csv('../not_supported_feature_impact_df.csv', index=False)"
   ]
  },
  {
   "attachments": {},
   "cell_type": "markdown",
   "metadata": {},
   "source": [
    "# MOA Summary"
   ]
  },
  {
   "attachments": {},
   "cell_type": "markdown",
   "metadata": {},
   "source": [
    "## Feature (Variant) Analysis"
   ]
  },
  {
   "cell_type": "code",
   "execution_count": 55,
   "metadata": {},
   "outputs": [],
   "source": [
    "all_features_df = pd.DataFrame(feature_analysis_summary)"
   ]
  },
  {
   "cell_type": "code",
   "execution_count": 56,
   "metadata": {},
   "outputs": [],
   "source": [
    "all_features_df[\"Percentage of all MOA Features\"] = all_features_df[\"Fraction of all MOA Features\"].astype(str) + \"  (\" + all_features_df[\"Percentage of all MOA Features\"] + \")\""
   ]
  },
  {
   "cell_type": "code",
   "execution_count": 57,
   "metadata": {},
   "outputs": [],
   "source": [
    "for_merge_all_variant_percent_of_moa_df = all_features_df.drop(columns=[\"Fraction of all MOA Features\"])\n",
    "\n",
    "all_features_percent_of_moa_df = all_features_df.drop(columns=[\"Fraction of all MOA Features\", \"Count of MOA Features per Category\"])"
   ]
  },
  {
   "cell_type": "code",
   "execution_count": 58,
   "metadata": {},
   "outputs": [],
   "source": [
    "for_merge_all_variant_percent_of_moa_df.to_csv('../for_merge_all_variant_percent_of_moa_df.csv', index=False)"
   ]
  },
  {
   "attachments": {},
   "cell_type": "markdown",
   "metadata": {},
   "source": [
    "Summary Table 1: The table below shows the 2 categories that MOA features (variants) were divided into after normalization and what percentage they make up of all features (variants) in MOA data. "
   ]
  },
  {
   "cell_type": "code",
   "execution_count": 59,
   "metadata": {},
   "outputs": [
    {
     "data": {
      "text/html": [
       "<div>\n",
       "<style scoped>\n",
       "    .dataframe tbody tr th:only-of-type {\n",
       "        vertical-align: middle;\n",
       "    }\n",
       "\n",
       "    .dataframe tbody tr th {\n",
       "        vertical-align: top;\n",
       "    }\n",
       "\n",
       "    .dataframe thead th {\n",
       "        text-align: right;\n",
       "    }\n",
       "</style>\n",
       "<table border=\"1\" class=\"dataframe\">\n",
       "  <thead>\n",
       "    <tr style=\"text-align: right;\">\n",
       "      <th></th>\n",
       "      <th>Percentage of all MOA Features</th>\n",
       "    </tr>\n",
       "    <tr>\n",
       "      <th>Variant Category</th>\n",
       "      <th></th>\n",
       "    </tr>\n",
       "  </thead>\n",
       "  <tbody>\n",
       "    <tr>\n",
       "      <th>Normalized</th>\n",
       "      <td>179 / 428  (41.82%)</td>\n",
       "    </tr>\n",
       "    <tr>\n",
       "      <th>Not Supported</th>\n",
       "      <td>244 / 428  (57.01%)</td>\n",
       "    </tr>\n",
       "  </tbody>\n",
       "</table>\n",
       "</div>"
      ],
      "text/plain": [
       "                 Percentage of all MOA Features\n",
       "Variant Category                               \n",
       "Normalized                  179 / 428  (41.82%)\n",
       "Not Supported               244 / 428  (57.01%)"
      ]
     },
     "execution_count": 59,
     "metadata": {},
     "output_type": "execute_result"
    }
   ],
   "source": [
    "all_features_percent_of_moa_df = all_features_percent_of_moa_df.set_index(\"Variant Category\")\n",
    "all_features_percent_of_moa_df"
   ]
  },
  {
   "cell_type": "code",
   "execution_count": 60,
   "metadata": {},
   "outputs": [],
   "source": [
    "moa_summary_table_1= all_features_percent_of_moa_df"
   ]
  },
  {
   "attachments": {},
   "cell_type": "markdown",
   "metadata": {},
   "source": [
    "Summary Table 2: The table below shows the categories that the Not Supported features (variants) were broken into and what percentage of all MOA features (variants) they make up."
   ]
  },
  {
   "cell_type": "code",
   "execution_count": 61,
   "metadata": {},
   "outputs": [
    {
     "data": {
      "text/html": [
       "<div>\n",
       "<style scoped>\n",
       "    .dataframe tbody tr th:only-of-type {\n",
       "        vertical-align: middle;\n",
       "    }\n",
       "\n",
       "    .dataframe tbody tr th {\n",
       "        vertical-align: top;\n",
       "    }\n",
       "\n",
       "    .dataframe thead th {\n",
       "        text-align: right;\n",
       "    }\n",
       "</style>\n",
       "<table border=\"1\" class=\"dataframe\">\n",
       "  <thead>\n",
       "    <tr style=\"text-align: right;\">\n",
       "      <th></th>\n",
       "      <th>Percent of all MOA Features</th>\n",
       "    </tr>\n",
       "    <tr>\n",
       "      <th>Category</th>\n",
       "      <th></th>\n",
       "    </tr>\n",
       "  </thead>\n",
       "  <tbody>\n",
       "    <tr>\n",
       "      <th>Expression</th>\n",
       "      <td>11 / 428  (2.57%)</td>\n",
       "    </tr>\n",
       "    <tr>\n",
       "      <th>Epigenetic Modification</th>\n",
       "      <td>0 / 428  (0.00%)</td>\n",
       "    </tr>\n",
       "    <tr>\n",
       "      <th>Fusion</th>\n",
       "      <td>0 / 428  (0.00%)</td>\n",
       "    </tr>\n",
       "    <tr>\n",
       "      <th>Protein Consequence</th>\n",
       "      <td>169 / 428  (39.49%)</td>\n",
       "    </tr>\n",
       "    <tr>\n",
       "      <th>Gene Function</th>\n",
       "      <td>0 / 428  (0.00%)</td>\n",
       "    </tr>\n",
       "    <tr>\n",
       "      <th>Rearrangements</th>\n",
       "      <td>38 / 428  (8.88%)</td>\n",
       "    </tr>\n",
       "    <tr>\n",
       "      <th>Copy Number</th>\n",
       "      <td>17 / 428  (3.97%)</td>\n",
       "    </tr>\n",
       "    <tr>\n",
       "      <th>Other</th>\n",
       "      <td>9 / 428  (2.10%)</td>\n",
       "    </tr>\n",
       "    <tr>\n",
       "      <th>Genotypes Easy</th>\n",
       "      <td>0 / 428  (0.00%)</td>\n",
       "    </tr>\n",
       "    <tr>\n",
       "      <th>Genotypes Compound</th>\n",
       "      <td>0 / 428  (0.00%)</td>\n",
       "    </tr>\n",
       "    <tr>\n",
       "      <th>Region Defined Variant</th>\n",
       "      <td>0 / 428  (0.00%)</td>\n",
       "    </tr>\n",
       "    <tr>\n",
       "      <th>Transcript Variant</th>\n",
       "      <td>0 / 428  (0.00%)</td>\n",
       "    </tr>\n",
       "  </tbody>\n",
       "</table>\n",
       "</div>"
      ],
      "text/plain": [
       "                        Percent of all MOA Features\n",
       "Category                                           \n",
       "Expression                        11 / 428  (2.57%)\n",
       "Epigenetic Modification            0 / 428  (0.00%)\n",
       "Fusion                             0 / 428  (0.00%)\n",
       "Protein Consequence             169 / 428  (39.49%)\n",
       "Gene Function                      0 / 428  (0.00%)\n",
       "Rearrangements                    38 / 428  (8.88%)\n",
       "Copy Number                       17 / 428  (3.97%)\n",
       "Other                              9 / 428  (2.10%)\n",
       "Genotypes Easy                     0 / 428  (0.00%)\n",
       "Genotypes Compound                 0 / 428  (0.00%)\n",
       "Region Defined Variant             0 / 428  (0.00%)\n",
       "Transcript Variant                 0 / 428  (0.00%)"
      ]
     },
     "execution_count": 61,
     "metadata": {},
     "output_type": "execute_result"
    }
   ],
   "source": [
    "not_supported_features_total_df = pd.DataFrame(not_supported_feature_analysis_summary)\n",
    "not_supported_features_total_df[\"Percent of all MOA Features\"] = not_supported_features_total_df[\"Fraction of all MOA Features\"].astype(str) + \"  (\" + not_supported_features_total_df[\"Percent of all MOA Features\"] + \")\"\n",
    "for_merge_not_supported_features_total_df = not_supported_features_total_df.drop(columns=[\"Fraction of all MOA Features\", \"Fraction of Not Supported Features\", \"Percent of Not Supported Features\"])\n",
    "\n",
    "not_supported_features_total_df = not_supported_features_total_df.drop(columns=[\"Fraction of all MOA Features\", \"Fraction of Not Supported Features\", \"Percent of Not Supported Features\",\"Count of MOA Features per Category\"])\n",
    "not_supported_features_total_df = not_supported_features_total_df.set_index(\"Category\")\n",
    "not_supported_features_total_df"
   ]
  },
  {
   "cell_type": "code",
   "execution_count": 62,
   "metadata": {},
   "outputs": [],
   "source": [
    "moa_summary_table_2= not_supported_features_total_df"
   ]
  },
  {
   "cell_type": "code",
   "execution_count": 63,
   "metadata": {},
   "outputs": [],
   "source": [
    "for_merge_not_supported_features_total_df.to_csv('../for_merge_not_supported_features_total_df.csv', index=False)"
   ]
  },
  {
   "cell_type": "markdown",
   "metadata": {},
   "source": [
    "Summary Table 3: The table below shows the categories that the Not Supported features (variants) were broken into what percent each sub category take up in Not Supported variant group."
   ]
  },
  {
   "cell_type": "code",
   "execution_count": 64,
   "metadata": {},
   "outputs": [
    {
     "data": {
      "text/html": [
       "<div>\n",
       "<style scoped>\n",
       "    .dataframe tbody tr th:only-of-type {\n",
       "        vertical-align: middle;\n",
       "    }\n",
       "\n",
       "    .dataframe tbody tr th {\n",
       "        vertical-align: top;\n",
       "    }\n",
       "\n",
       "    .dataframe thead th {\n",
       "        text-align: right;\n",
       "    }\n",
       "</style>\n",
       "<table border=\"1\" class=\"dataframe\">\n",
       "  <thead>\n",
       "    <tr style=\"text-align: right;\">\n",
       "      <th></th>\n",
       "      <th>Percent of Not Supported Features</th>\n",
       "    </tr>\n",
       "    <tr>\n",
       "      <th>Category</th>\n",
       "      <th></th>\n",
       "    </tr>\n",
       "  </thead>\n",
       "  <tbody>\n",
       "    <tr>\n",
       "      <th>Expression</th>\n",
       "      <td>11 / 244  (4.51%)</td>\n",
       "    </tr>\n",
       "    <tr>\n",
       "      <th>Epigenetic Modification</th>\n",
       "      <td>0 / 244  (0.00%)</td>\n",
       "    </tr>\n",
       "    <tr>\n",
       "      <th>Fusion</th>\n",
       "      <td>0 / 244  (0.00%)</td>\n",
       "    </tr>\n",
       "    <tr>\n",
       "      <th>Protein Consequence</th>\n",
       "      <td>169 / 244  (69.26%)</td>\n",
       "    </tr>\n",
       "    <tr>\n",
       "      <th>Gene Function</th>\n",
       "      <td>0 / 244  (0.00%)</td>\n",
       "    </tr>\n",
       "    <tr>\n",
       "      <th>Rearrangements</th>\n",
       "      <td>38 / 244  (15.57%)</td>\n",
       "    </tr>\n",
       "    <tr>\n",
       "      <th>Copy Number</th>\n",
       "      <td>17 / 244  (6.97%)</td>\n",
       "    </tr>\n",
       "    <tr>\n",
       "      <th>Other</th>\n",
       "      <td>9 / 244  (3.69%)</td>\n",
       "    </tr>\n",
       "    <tr>\n",
       "      <th>Genotypes Easy</th>\n",
       "      <td>0 / 244  (0.00%)</td>\n",
       "    </tr>\n",
       "    <tr>\n",
       "      <th>Genotypes Compound</th>\n",
       "      <td>0 / 244  (0.00%)</td>\n",
       "    </tr>\n",
       "    <tr>\n",
       "      <th>Region Defined Variant</th>\n",
       "      <td>0 / 244  (0.00%)</td>\n",
       "    </tr>\n",
       "    <tr>\n",
       "      <th>Transcript Variant</th>\n",
       "      <td>0 / 244  (0.00%)</td>\n",
       "    </tr>\n",
       "  </tbody>\n",
       "</table>\n",
       "</div>"
      ],
      "text/plain": [
       "                        Percent of Not Supported Features\n",
       "Category                                                 \n",
       "Expression                              11 / 244  (4.51%)\n",
       "Epigenetic Modification                  0 / 244  (0.00%)\n",
       "Fusion                                   0 / 244  (0.00%)\n",
       "Protein Consequence                   169 / 244  (69.26%)\n",
       "Gene Function                            0 / 244  (0.00%)\n",
       "Rearrangements                         38 / 244  (15.57%)\n",
       "Copy Number                             17 / 244  (6.97%)\n",
       "Other                                    9 / 244  (3.69%)\n",
       "Genotypes Easy                           0 / 244  (0.00%)\n",
       "Genotypes Compound                       0 / 244  (0.00%)\n",
       "Region Defined Variant                   0 / 244  (0.00%)\n",
       "Transcript Variant                       0 / 244  (0.00%)"
      ]
     },
     "execution_count": 64,
     "metadata": {},
     "output_type": "execute_result"
    }
   ],
   "source": [
    "not_supported_features_category_df = pd.DataFrame(not_supported_feature_analysis_summary)\n",
    "not_supported_features_category_df[\"Percent of Not Supported Features\"] = not_supported_features_category_df[\"Fraction of Not Supported Features\"].astype(str) + \"  (\" + not_supported_features_category_df[\"Percent of Not Supported Features\"] + \")\"\n",
    "not_supported_features_category_df = not_supported_features_category_df.drop(columns=[\"Fraction of all MOA Features\", \"Fraction of Not Supported Features\", \"Percent of all MOA Features\",\"Count of MOA Features per Category\"])\n",
    "not_supported_features_category_df = not_supported_features_category_df.set_index(\"Category\")\n",
    "not_supported_features_category_df"
   ]
  },
  {
   "cell_type": "code",
   "execution_count": 65,
   "metadata": {},
   "outputs": [],
   "source": [
    "moa_summary_table_3= not_supported_features_category_df"
   ]
  },
  {
   "attachments": {},
   "cell_type": "markdown",
   "metadata": {},
   "source": [
    "## Evidence Analysis"
   ]
  },
  {
   "cell_type": "code",
   "execution_count": 66,
   "metadata": {},
   "outputs": [],
   "source": [
    "all_features_assertions_df = pd.DataFrame(assertion_analysis_summary)"
   ]
  },
  {
   "cell_type": "code",
   "execution_count": 67,
   "metadata": {},
   "outputs": [],
   "source": [
    "all_features_assertions_df[\"Percentage of all MOA Assertions\"] = all_features_assertions_df[\"Fraction of all MOA Assertions\"].astype(str) + \"  (\" + all_features_assertions_df[\"Percentage of all MOA Assertions\"] + \")\""
   ]
  },
  {
   "cell_type": "code",
   "execution_count": 68,
   "metadata": {},
   "outputs": [],
   "source": [
    "for_merge_all_features_assertions_df = all_features_assertions_df.drop(columns=[\"Fraction of all MOA Assertions\"])\n",
    "\n",
    "all_features_assertions_df= for_merge_all_features_assertions_df.drop(columns=[\"Count of MOA Assertions per Category\"])"
   ]
  },
  {
   "cell_type": "code",
   "execution_count": 69,
   "metadata": {},
   "outputs": [],
   "source": [
    "for_merge_all_features_assertions_df.to_csv('../for_merge_all_features_assertions_df.csv', index=False)"
   ]
  },
  {
   "attachments": {},
   "cell_type": "markdown",
   "metadata": {},
   "source": [
    "Summary Table 4: The table below shows what percentage of all assertions (evidence items) in MOA are associated with Normalized and Not Supported features (variants)"
   ]
  },
  {
   "cell_type": "code",
   "execution_count": 70,
   "metadata": {},
   "outputs": [
    {
     "data": {
      "text/html": [
       "<div>\n",
       "<style scoped>\n",
       "    .dataframe tbody tr th:only-of-type {\n",
       "        vertical-align: middle;\n",
       "    }\n",
       "\n",
       "    .dataframe tbody tr th {\n",
       "        vertical-align: top;\n",
       "    }\n",
       "\n",
       "    .dataframe thead th {\n",
       "        text-align: right;\n",
       "    }\n",
       "</style>\n",
       "<table border=\"1\" class=\"dataframe\">\n",
       "  <thead>\n",
       "    <tr style=\"text-align: right;\">\n",
       "      <th></th>\n",
       "      <th>Percentage of all MOA Assertions</th>\n",
       "    </tr>\n",
       "    <tr>\n",
       "      <th>Variant Category</th>\n",
       "      <th></th>\n",
       "    </tr>\n",
       "  </thead>\n",
       "  <tbody>\n",
       "    <tr>\n",
       "      <th>Normalized</th>\n",
       "      <td>325 / 894  (36.35%)</td>\n",
       "    </tr>\n",
       "    <tr>\n",
       "      <th>Not Supported</th>\n",
       "      <td>564 / 894  (63.09%)</td>\n",
       "    </tr>\n",
       "  </tbody>\n",
       "</table>\n",
       "</div>"
      ],
      "text/plain": [
       "                 Percentage of all MOA Assertions\n",
       "Variant Category                                 \n",
       "Normalized                    325 / 894  (36.35%)\n",
       "Not Supported                 564 / 894  (63.09%)"
      ]
     },
     "execution_count": 70,
     "metadata": {},
     "output_type": "execute_result"
    }
   ],
   "source": [
    "all_features_assertions_df = all_features_assertions_df.set_index(\"Variant Category\")\n",
    "moa_summary_table_4= all_features_assertions_df\n",
    "moa_summary_table_4"
   ]
  },
  {
   "cell_type": "code",
   "execution_count": 71,
   "metadata": {},
   "outputs": [],
   "source": [
    "not_supported_feature_assertion_df = pd.DataFrame(not_supported_feature_assertion_summary)"
   ]
  },
  {
   "cell_type": "code",
   "execution_count": 72,
   "metadata": {},
   "outputs": [],
   "source": [
    "not_supported_feature_assertion_df[\"Percent of all MOA Assertions\"] = not_supported_feature_assertion_df[\"Fraction of MOA Assertions\"].astype(str) + \"  (\" + not_supported_feature_assertion_df[\"Percent of all MOA Assertions\"] + \")\"\n",
    "not_supported_feature_assertion_df[\"Percent of Not Supported Feature Assertions\"] = not_supported_feature_assertion_df[\"Fraction of Not Supported Feature Assertions\"].astype(str) + \"  (\" + not_supported_feature_assertion_df[\"Percent of Not Supported Feature Assertions\"] + \")\""
   ]
  },
  {
   "cell_type": "code",
   "execution_count": 73,
   "metadata": {},
   "outputs": [],
   "source": [
    "not_supported_feature_assertion_df = not_supported_feature_assertion_df.drop(columns=[\"Fraction of MOA Assertions\", \"Fraction of Not Supported Feature Assertions\"])"
   ]
  },
  {
   "cell_type": "code",
   "execution_count": 74,
   "metadata": {},
   "outputs": [],
   "source": [
    "for_merge_not_supported_feature_assertion_df= not_supported_feature_assertion_df.drop([\"Percent of Not Supported Feature Assertions\"], axis=1)\n",
    "\n",
    "not_supported_feature_assertion_of_moa_df=for_merge_not_supported_feature_assertion_df.drop([\"Count of MOA Assertions per Category\"], axis=1)\n",
    "\n",
    "not_supported_feature_assertion_of_not_supported_df=not_supported_feature_assertion_df.drop([\"Percent of all MOA Assertions\",\"Count of MOA Assertions per Category\"], axis=1)"
   ]
  },
  {
   "cell_type": "code",
   "execution_count": 75,
   "metadata": {},
   "outputs": [],
   "source": [
    "for_merge_not_supported_feature_assertion_df.to_csv('../for_merge_not_supported_feature_assertion_df.csv', index=False)"
   ]
  },
  {
   "attachments": {},
   "cell_type": "markdown",
   "metadata": {},
   "source": [
    "Summary Table 5: The table below shows the percentage of all MOA assertions (evidence items) that are associated with a Not Supported variant sub category."
   ]
  },
  {
   "cell_type": "code",
   "execution_count": 76,
   "metadata": {},
   "outputs": [
    {
     "data": {
      "text/html": [
       "<div>\n",
       "<style scoped>\n",
       "    .dataframe tbody tr th:only-of-type {\n",
       "        vertical-align: middle;\n",
       "    }\n",
       "\n",
       "    .dataframe tbody tr th {\n",
       "        vertical-align: top;\n",
       "    }\n",
       "\n",
       "    .dataframe thead th {\n",
       "        text-align: right;\n",
       "    }\n",
       "</style>\n",
       "<table border=\"1\" class=\"dataframe\">\n",
       "  <thead>\n",
       "    <tr style=\"text-align: right;\">\n",
       "      <th></th>\n",
       "      <th>Percent of all MOA Assertions</th>\n",
       "    </tr>\n",
       "    <tr>\n",
       "      <th>Category</th>\n",
       "      <th></th>\n",
       "    </tr>\n",
       "  </thead>\n",
       "  <tbody>\n",
       "    <tr>\n",
       "      <th>Expression</th>\n",
       "      <td>12 / 894  (1.34%)</td>\n",
       "    </tr>\n",
       "    <tr>\n",
       "      <th>Epigenetic Modification</th>\n",
       "      <td>0 / 894  (0.00%)</td>\n",
       "    </tr>\n",
       "    <tr>\n",
       "      <th>Fusion</th>\n",
       "      <td>0 / 894  (0.00%)</td>\n",
       "    </tr>\n",
       "    <tr>\n",
       "      <th>Protein Consequence</th>\n",
       "      <td>419 / 894  (46.87%)</td>\n",
       "    </tr>\n",
       "    <tr>\n",
       "      <th>Gene Function</th>\n",
       "      <td>0 / 894  (0.00%)</td>\n",
       "    </tr>\n",
       "    <tr>\n",
       "      <th>Rearrangements</th>\n",
       "      <td>81 / 894  (9.06%)</td>\n",
       "    </tr>\n",
       "    <tr>\n",
       "      <th>Copy Number</th>\n",
       "      <td>29 / 894  (3.24%)</td>\n",
       "    </tr>\n",
       "    <tr>\n",
       "      <th>Other</th>\n",
       "      <td>23 / 894  (2.57%)</td>\n",
       "    </tr>\n",
       "    <tr>\n",
       "      <th>Genotypes Easy</th>\n",
       "      <td>0 / 894  (0.00%)</td>\n",
       "    </tr>\n",
       "    <tr>\n",
       "      <th>Genotypes Compound</th>\n",
       "      <td>0 / 894  (0.00%)</td>\n",
       "    </tr>\n",
       "    <tr>\n",
       "      <th>Region Defined Variant</th>\n",
       "      <td>0 / 894  (0.00%)</td>\n",
       "    </tr>\n",
       "    <tr>\n",
       "      <th>Transcript Variant</th>\n",
       "      <td>0 / 894  (0.00%)</td>\n",
       "    </tr>\n",
       "  </tbody>\n",
       "</table>\n",
       "</div>"
      ],
      "text/plain": [
       "                        Percent of all MOA Assertions\n",
       "Category                                             \n",
       "Expression                          12 / 894  (1.34%)\n",
       "Epigenetic Modification              0 / 894  (0.00%)\n",
       "Fusion                               0 / 894  (0.00%)\n",
       "Protein Consequence               419 / 894  (46.87%)\n",
       "Gene Function                        0 / 894  (0.00%)\n",
       "Rearrangements                      81 / 894  (9.06%)\n",
       "Copy Number                         29 / 894  (3.24%)\n",
       "Other                               23 / 894  (2.57%)\n",
       "Genotypes Easy                       0 / 894  (0.00%)\n",
       "Genotypes Compound                   0 / 894  (0.00%)\n",
       "Region Defined Variant               0 / 894  (0.00%)\n",
       "Transcript Variant                   0 / 894  (0.00%)"
      ]
     },
     "execution_count": 76,
     "metadata": {},
     "output_type": "execute_result"
    }
   ],
   "source": [
    "not_supported_feature_assertion_of_moa_df = not_supported_feature_assertion_of_moa_df.set_index(\"Category\")\n",
    "moa_summary_table_5=not_supported_feature_assertion_of_moa_df\n",
    "moa_summary_table_5"
   ]
  },
  {
   "cell_type": "markdown",
   "metadata": {},
   "source": [
    "Summary Table 6: The table below shows the percentage of all MOA Assertions (evidence items) associated with Not Supported features (variants) that are associated with a variant sub category. "
   ]
  },
  {
   "cell_type": "code",
   "execution_count": 77,
   "metadata": {},
   "outputs": [
    {
     "data": {
      "text/html": [
       "<div>\n",
       "<style scoped>\n",
       "    .dataframe tbody tr th:only-of-type {\n",
       "        vertical-align: middle;\n",
       "    }\n",
       "\n",
       "    .dataframe tbody tr th {\n",
       "        vertical-align: top;\n",
       "    }\n",
       "\n",
       "    .dataframe thead th {\n",
       "        text-align: right;\n",
       "    }\n",
       "</style>\n",
       "<table border=\"1\" class=\"dataframe\">\n",
       "  <thead>\n",
       "    <tr style=\"text-align: right;\">\n",
       "      <th></th>\n",
       "      <th>Percent of Not Supported Feature Assertions</th>\n",
       "    </tr>\n",
       "    <tr>\n",
       "      <th>Category</th>\n",
       "      <th></th>\n",
       "    </tr>\n",
       "  </thead>\n",
       "  <tbody>\n",
       "    <tr>\n",
       "      <th>Expression</th>\n",
       "      <td>12 / 244  (4.92%)</td>\n",
       "    </tr>\n",
       "    <tr>\n",
       "      <th>Epigenetic Modification</th>\n",
       "      <td>0 / 244  (0.00%)</td>\n",
       "    </tr>\n",
       "    <tr>\n",
       "      <th>Fusion</th>\n",
       "      <td>0 / 244  (0.00%)</td>\n",
       "    </tr>\n",
       "    <tr>\n",
       "      <th>Protein Consequence</th>\n",
       "      <td>419 / 244  (171.72%)</td>\n",
       "    </tr>\n",
       "    <tr>\n",
       "      <th>Gene Function</th>\n",
       "      <td>0 / 244  (0.00%)</td>\n",
       "    </tr>\n",
       "    <tr>\n",
       "      <th>Rearrangements</th>\n",
       "      <td>81 / 244  (33.20%)</td>\n",
       "    </tr>\n",
       "    <tr>\n",
       "      <th>Copy Number</th>\n",
       "      <td>29 / 244  (11.89%)</td>\n",
       "    </tr>\n",
       "    <tr>\n",
       "      <th>Other</th>\n",
       "      <td>23 / 244  (9.43%)</td>\n",
       "    </tr>\n",
       "    <tr>\n",
       "      <th>Genotypes Easy</th>\n",
       "      <td>0 / 244  (0.00%)</td>\n",
       "    </tr>\n",
       "    <tr>\n",
       "      <th>Genotypes Compound</th>\n",
       "      <td>0 / 244  (0.00%)</td>\n",
       "    </tr>\n",
       "    <tr>\n",
       "      <th>Region Defined Variant</th>\n",
       "      <td>0 / 244  (0.00%)</td>\n",
       "    </tr>\n",
       "    <tr>\n",
       "      <th>Transcript Variant</th>\n",
       "      <td>0 / 244  (0.00%)</td>\n",
       "    </tr>\n",
       "  </tbody>\n",
       "</table>\n",
       "</div>"
      ],
      "text/plain": [
       "                        Percent of Not Supported Feature Assertions\n",
       "Category                                                           \n",
       "Expression                                        12 / 244  (4.92%)\n",
       "Epigenetic Modification                            0 / 244  (0.00%)\n",
       "Fusion                                             0 / 244  (0.00%)\n",
       "Protein Consequence                            419 / 244  (171.72%)\n",
       "Gene Function                                      0 / 244  (0.00%)\n",
       "Rearrangements                                   81 / 244  (33.20%)\n",
       "Copy Number                                      29 / 244  (11.89%)\n",
       "Other                                             23 / 244  (9.43%)\n",
       "Genotypes Easy                                     0 / 244  (0.00%)\n",
       "Genotypes Compound                                 0 / 244  (0.00%)\n",
       "Region Defined Variant                             0 / 244  (0.00%)\n",
       "Transcript Variant                                 0 / 244  (0.00%)"
      ]
     },
     "execution_count": 77,
     "metadata": {},
     "output_type": "execute_result"
    }
   ],
   "source": [
    "not_supported_feature_assertion_of_not_supported_df = not_supported_feature_assertion_of_not_supported_df.set_index(\"Category\")\n",
    "moa_summary_table_6 = not_supported_feature_assertion_of_not_supported_df\n",
    "moa_summary_table_6"
   ]
  },
  {
   "attachments": {},
   "cell_type": "markdown",
   "metadata": {},
   "source": [
    "## Impact"
   ]
  },
  {
   "attachments": {},
   "cell_type": "markdown",
   "metadata": {},
   "source": [
    "The bar graph below shows the relationship between the Not Suported variant sub category impact score and the sub category. Additionally, the colors illustrate the number of assertions (evidence items) associated each sub category."
   ]
  },
  {
   "cell_type": "code",
   "execution_count": 78,
   "metadata": {},
   "outputs": [
    {
     "data": {
      "text/html": [
       "<div>\n",
       "<style scoped>\n",
       "    .dataframe tbody tr th:only-of-type {\n",
       "        vertical-align: middle;\n",
       "    }\n",
       "\n",
       "    .dataframe tbody tr th {\n",
       "        vertical-align: top;\n",
       "    }\n",
       "\n",
       "    .dataframe thead th {\n",
       "        text-align: right;\n",
       "    }\n",
       "</style>\n",
       "<table border=\"1\" class=\"dataframe\">\n",
       "  <thead>\n",
       "    <tr style=\"text-align: right;\">\n",
       "      <th></th>\n",
       "      <th>Category</th>\n",
       "      <th>MOA Total Sum Impact Score</th>\n",
       "      <th>Average Impact Score per Feature</th>\n",
       "      <th>Average Impact Score per Assertion</th>\n",
       "      <th>Total Number Assertions</th>\n",
       "      <th>Total Number Features</th>\n",
       "    </tr>\n",
       "  </thead>\n",
       "  <tbody>\n",
       "    <tr>\n",
       "      <th>0</th>\n",
       "      <td>Expression</td>\n",
       "      <td>11.0</td>\n",
       "      <td>1.000000</td>\n",
       "      <td>1.000000</td>\n",
       "      <td>12</td>\n",
       "      <td>11</td>\n",
       "    </tr>\n",
       "    <tr>\n",
       "      <th>1</th>\n",
       "      <td>Epigenetic Modification</td>\n",
       "      <td>0.0</td>\n",
       "      <td>0.000000</td>\n",
       "      <td>0.000000</td>\n",
       "      <td>0</td>\n",
       "      <td>0</td>\n",
       "    </tr>\n",
       "    <tr>\n",
       "      <th>2</th>\n",
       "      <td>Fusion</td>\n",
       "      <td>0.0</td>\n",
       "      <td>0.000000</td>\n",
       "      <td>0.000000</td>\n",
       "      <td>0</td>\n",
       "      <td>0</td>\n",
       "    </tr>\n",
       "    <tr>\n",
       "      <th>3</th>\n",
       "      <td>Protein Consequence</td>\n",
       "      <td>1054.5</td>\n",
       "      <td>6.239645</td>\n",
       "      <td>6.239645</td>\n",
       "      <td>419</td>\n",
       "      <td>169</td>\n",
       "    </tr>\n",
       "    <tr>\n",
       "      <th>4</th>\n",
       "      <td>Gene Function</td>\n",
       "      <td>0.0</td>\n",
       "      <td>0.000000</td>\n",
       "      <td>0.000000</td>\n",
       "      <td>0</td>\n",
       "      <td>0</td>\n",
       "    </tr>\n",
       "    <tr>\n",
       "      <th>5</th>\n",
       "      <td>Rearrangements</td>\n",
       "      <td>291.0</td>\n",
       "      <td>7.657895</td>\n",
       "      <td>7.657895</td>\n",
       "      <td>81</td>\n",
       "      <td>38</td>\n",
       "    </tr>\n",
       "    <tr>\n",
       "      <th>6</th>\n",
       "      <td>Copy Number</td>\n",
       "      <td>44.5</td>\n",
       "      <td>2.617647</td>\n",
       "      <td>2.617647</td>\n",
       "      <td>29</td>\n",
       "      <td>17</td>\n",
       "    </tr>\n",
       "    <tr>\n",
       "      <th>7</th>\n",
       "      <td>Other</td>\n",
       "      <td>32.5</td>\n",
       "      <td>3.611111</td>\n",
       "      <td>3.611111</td>\n",
       "      <td>23</td>\n",
       "      <td>9</td>\n",
       "    </tr>\n",
       "    <tr>\n",
       "      <th>8</th>\n",
       "      <td>Genotypes Easy</td>\n",
       "      <td>0.0</td>\n",
       "      <td>0.000000</td>\n",
       "      <td>0.000000</td>\n",
       "      <td>0</td>\n",
       "      <td>0</td>\n",
       "    </tr>\n",
       "    <tr>\n",
       "      <th>9</th>\n",
       "      <td>Genotypes Compound</td>\n",
       "      <td>0.0</td>\n",
       "      <td>0.000000</td>\n",
       "      <td>0.000000</td>\n",
       "      <td>0</td>\n",
       "      <td>0</td>\n",
       "    </tr>\n",
       "    <tr>\n",
       "      <th>10</th>\n",
       "      <td>Region Defined Variant</td>\n",
       "      <td>0.0</td>\n",
       "      <td>0.000000</td>\n",
       "      <td>0.000000</td>\n",
       "      <td>0</td>\n",
       "      <td>0</td>\n",
       "    </tr>\n",
       "    <tr>\n",
       "      <th>11</th>\n",
       "      <td>Transcript Variant</td>\n",
       "      <td>0.0</td>\n",
       "      <td>0.000000</td>\n",
       "      <td>0.000000</td>\n",
       "      <td>0</td>\n",
       "      <td>0</td>\n",
       "    </tr>\n",
       "  </tbody>\n",
       "</table>\n",
       "</div>"
      ],
      "text/plain": [
       "                   Category  MOA Total Sum Impact Score   \n",
       "0                Expression                        11.0  \\\n",
       "1   Epigenetic Modification                         0.0   \n",
       "2                    Fusion                         0.0   \n",
       "3       Protein Consequence                      1054.5   \n",
       "4             Gene Function                         0.0   \n",
       "5            Rearrangements                       291.0   \n",
       "6               Copy Number                        44.5   \n",
       "7                     Other                        32.5   \n",
       "8            Genotypes Easy                         0.0   \n",
       "9        Genotypes Compound                         0.0   \n",
       "10   Region Defined Variant                         0.0   \n",
       "11       Transcript Variant                         0.0   \n",
       "\n",
       "    Average Impact Score per Feature  Average Impact Score per Assertion   \n",
       "0                           1.000000                            1.000000  \\\n",
       "1                           0.000000                            0.000000   \n",
       "2                           0.000000                            0.000000   \n",
       "3                           6.239645                            6.239645   \n",
       "4                           0.000000                            0.000000   \n",
       "5                           7.657895                            7.657895   \n",
       "6                           2.617647                            2.617647   \n",
       "7                           3.611111                            3.611111   \n",
       "8                           0.000000                            0.000000   \n",
       "9                           0.000000                            0.000000   \n",
       "10                          0.000000                            0.000000   \n",
       "11                          0.000000                            0.000000   \n",
       "\n",
       "    Total Number Assertions  Total Number Features  \n",
       "0                        12                     11  \n",
       "1                         0                      0  \n",
       "2                         0                      0  \n",
       "3                       419                    169  \n",
       "4                         0                      0  \n",
       "5                        81                     38  \n",
       "6                        29                     17  \n",
       "7                        23                      9  \n",
       "8                         0                      0  \n",
       "9                         0                      0  \n",
       "10                        0                      0  \n",
       "11                        0                      0  "
      ]
     },
     "execution_count": 78,
     "metadata": {},
     "output_type": "execute_result"
    }
   ],
   "source": [
    "not_supported_feature_impact_df = pd.DataFrame(not_supported_impact_summary)\n",
    "not_supported_feature_impact_df"
   ]
  },
  {
   "cell_type": "code",
   "execution_count": 79,
   "metadata": {},
   "outputs": [],
   "source": [
    "not_supported_feature_impact_df.to_csv('../not_supported_feature_impact_df.csv', index=False)"
   ]
  },
  {
   "cell_type": "code",
   "execution_count": 80,
   "metadata": {},
   "outputs": [
    {
     "data": {
      "application/vnd.plotly.v1+json": {
       "config": {
        "plotlyServerURL": "https://plot.ly"
       },
       "data": [
        {
         "alignmentgroup": "True",
         "customdata": [
          [
           12
          ],
          [
           0
          ],
          [
           0
          ],
          [
           419
          ],
          [
           0
          ],
          [
           81
          ],
          [
           29
          ],
          [
           23
          ],
          [
           0
          ],
          [
           0
          ],
          [
           0
          ],
          [
           0
          ]
         ],
         "hovertemplate": "Category=%{x}<br>MOA Total Sum Impact Score=%{y}<br>Total Number Assertions=%{marker.color}<extra></extra>",
         "legendgroup": "",
         "marker": {
          "color": [
           12,
           0,
           0,
           419,
           0,
           81,
           29,
           23,
           0,
           0,
           0,
           0
          ],
          "coloraxis": "coloraxis",
          "pattern": {
           "shape": ""
          }
         },
         "name": "",
         "offsetgroup": "",
         "orientation": "v",
         "showlegend": false,
         "textposition": "auto",
         "texttemplate": "%{y:.1f}",
         "type": "bar",
         "width": 1,
         "x": [
          "Expression",
          "Epigenetic Modification",
          "Fusion",
          "Protein Consequence",
          "Gene Function",
          "Rearrangements",
          "Copy Number",
          "Other",
          "Genotypes Easy",
          "Genotypes Compound",
          "Region Defined Variant",
          "Transcript Variant"
         ],
         "xaxis": "x",
         "y": [
          11,
          0,
          0,
          1054.5,
          0,
          291,
          44.5,
          32.5,
          0,
          0,
          0,
          0
         ],
         "yaxis": "y"
        }
       ],
       "layout": {
        "barmode": "relative",
        "coloraxis": {
         "colorbar": {
          "title": {
           "text": "Total Number Assertions"
          }
         },
         "colorscale": [
          [
           0,
           "rgb(0, 128, 128)"
          ],
          [
           0.16666666666666666,
           "rgb(112, 164, 148)"
          ],
          [
           0.3333333333333333,
           "rgb(180, 200, 168)"
          ],
          [
           0.5,
           "rgb(246, 237, 189)"
          ],
          [
           0.6666666666666666,
           "rgb(237, 187, 138)"
          ],
          [
           0.8333333333333334,
           "rgb(222, 138, 90)"
          ],
          [
           1,
           "rgb(202, 86, 44)"
          ]
         ]
        },
        "legend": {
         "tracegroupgap": 0
        },
        "margin": {
         "t": 60
        },
        "template": {
         "data": {
          "bar": [
           {
            "error_x": {
             "color": "#2a3f5f"
            },
            "error_y": {
             "color": "#2a3f5f"
            },
            "marker": {
             "line": {
              "color": "#E5ECF6",
              "width": 0.5
             },
             "pattern": {
              "fillmode": "overlay",
              "size": 10,
              "solidity": 0.2
             }
            },
            "type": "bar"
           }
          ],
          "barpolar": [
           {
            "marker": {
             "line": {
              "color": "#E5ECF6",
              "width": 0.5
             },
             "pattern": {
              "fillmode": "overlay",
              "size": 10,
              "solidity": 0.2
             }
            },
            "type": "barpolar"
           }
          ],
          "carpet": [
           {
            "aaxis": {
             "endlinecolor": "#2a3f5f",
             "gridcolor": "white",
             "linecolor": "white",
             "minorgridcolor": "white",
             "startlinecolor": "#2a3f5f"
            },
            "baxis": {
             "endlinecolor": "#2a3f5f",
             "gridcolor": "white",
             "linecolor": "white",
             "minorgridcolor": "white",
             "startlinecolor": "#2a3f5f"
            },
            "type": "carpet"
           }
          ],
          "choropleth": [
           {
            "colorbar": {
             "outlinewidth": 0,
             "ticks": ""
            },
            "type": "choropleth"
           }
          ],
          "contour": [
           {
            "colorbar": {
             "outlinewidth": 0,
             "ticks": ""
            },
            "colorscale": [
             [
              0,
              "#0d0887"
             ],
             [
              0.1111111111111111,
              "#46039f"
             ],
             [
              0.2222222222222222,
              "#7201a8"
             ],
             [
              0.3333333333333333,
              "#9c179e"
             ],
             [
              0.4444444444444444,
              "#bd3786"
             ],
             [
              0.5555555555555556,
              "#d8576b"
             ],
             [
              0.6666666666666666,
              "#ed7953"
             ],
             [
              0.7777777777777778,
              "#fb9f3a"
             ],
             [
              0.8888888888888888,
              "#fdca26"
             ],
             [
              1,
              "#f0f921"
             ]
            ],
            "type": "contour"
           }
          ],
          "contourcarpet": [
           {
            "colorbar": {
             "outlinewidth": 0,
             "ticks": ""
            },
            "type": "contourcarpet"
           }
          ],
          "heatmap": [
           {
            "colorbar": {
             "outlinewidth": 0,
             "ticks": ""
            },
            "colorscale": [
             [
              0,
              "#0d0887"
             ],
             [
              0.1111111111111111,
              "#46039f"
             ],
             [
              0.2222222222222222,
              "#7201a8"
             ],
             [
              0.3333333333333333,
              "#9c179e"
             ],
             [
              0.4444444444444444,
              "#bd3786"
             ],
             [
              0.5555555555555556,
              "#d8576b"
             ],
             [
              0.6666666666666666,
              "#ed7953"
             ],
             [
              0.7777777777777778,
              "#fb9f3a"
             ],
             [
              0.8888888888888888,
              "#fdca26"
             ],
             [
              1,
              "#f0f921"
             ]
            ],
            "type": "heatmap"
           }
          ],
          "heatmapgl": [
           {
            "colorbar": {
             "outlinewidth": 0,
             "ticks": ""
            },
            "colorscale": [
             [
              0,
              "#0d0887"
             ],
             [
              0.1111111111111111,
              "#46039f"
             ],
             [
              0.2222222222222222,
              "#7201a8"
             ],
             [
              0.3333333333333333,
              "#9c179e"
             ],
             [
              0.4444444444444444,
              "#bd3786"
             ],
             [
              0.5555555555555556,
              "#d8576b"
             ],
             [
              0.6666666666666666,
              "#ed7953"
             ],
             [
              0.7777777777777778,
              "#fb9f3a"
             ],
             [
              0.8888888888888888,
              "#fdca26"
             ],
             [
              1,
              "#f0f921"
             ]
            ],
            "type": "heatmapgl"
           }
          ],
          "histogram": [
           {
            "marker": {
             "pattern": {
              "fillmode": "overlay",
              "size": 10,
              "solidity": 0.2
             }
            },
            "type": "histogram"
           }
          ],
          "histogram2d": [
           {
            "colorbar": {
             "outlinewidth": 0,
             "ticks": ""
            },
            "colorscale": [
             [
              0,
              "#0d0887"
             ],
             [
              0.1111111111111111,
              "#46039f"
             ],
             [
              0.2222222222222222,
              "#7201a8"
             ],
             [
              0.3333333333333333,
              "#9c179e"
             ],
             [
              0.4444444444444444,
              "#bd3786"
             ],
             [
              0.5555555555555556,
              "#d8576b"
             ],
             [
              0.6666666666666666,
              "#ed7953"
             ],
             [
              0.7777777777777778,
              "#fb9f3a"
             ],
             [
              0.8888888888888888,
              "#fdca26"
             ],
             [
              1,
              "#f0f921"
             ]
            ],
            "type": "histogram2d"
           }
          ],
          "histogram2dcontour": [
           {
            "colorbar": {
             "outlinewidth": 0,
             "ticks": ""
            },
            "colorscale": [
             [
              0,
              "#0d0887"
             ],
             [
              0.1111111111111111,
              "#46039f"
             ],
             [
              0.2222222222222222,
              "#7201a8"
             ],
             [
              0.3333333333333333,
              "#9c179e"
             ],
             [
              0.4444444444444444,
              "#bd3786"
             ],
             [
              0.5555555555555556,
              "#d8576b"
             ],
             [
              0.6666666666666666,
              "#ed7953"
             ],
             [
              0.7777777777777778,
              "#fb9f3a"
             ],
             [
              0.8888888888888888,
              "#fdca26"
             ],
             [
              1,
              "#f0f921"
             ]
            ],
            "type": "histogram2dcontour"
           }
          ],
          "mesh3d": [
           {
            "colorbar": {
             "outlinewidth": 0,
             "ticks": ""
            },
            "type": "mesh3d"
           }
          ],
          "parcoords": [
           {
            "line": {
             "colorbar": {
              "outlinewidth": 0,
              "ticks": ""
             }
            },
            "type": "parcoords"
           }
          ],
          "pie": [
           {
            "automargin": true,
            "type": "pie"
           }
          ],
          "scatter": [
           {
            "fillpattern": {
             "fillmode": "overlay",
             "size": 10,
             "solidity": 0.2
            },
            "type": "scatter"
           }
          ],
          "scatter3d": [
           {
            "line": {
             "colorbar": {
              "outlinewidth": 0,
              "ticks": ""
             }
            },
            "marker": {
             "colorbar": {
              "outlinewidth": 0,
              "ticks": ""
             }
            },
            "type": "scatter3d"
           }
          ],
          "scattercarpet": [
           {
            "marker": {
             "colorbar": {
              "outlinewidth": 0,
              "ticks": ""
             }
            },
            "type": "scattercarpet"
           }
          ],
          "scattergeo": [
           {
            "marker": {
             "colorbar": {
              "outlinewidth": 0,
              "ticks": ""
             }
            },
            "type": "scattergeo"
           }
          ],
          "scattergl": [
           {
            "marker": {
             "colorbar": {
              "outlinewidth": 0,
              "ticks": ""
             }
            },
            "type": "scattergl"
           }
          ],
          "scattermapbox": [
           {
            "marker": {
             "colorbar": {
              "outlinewidth": 0,
              "ticks": ""
             }
            },
            "type": "scattermapbox"
           }
          ],
          "scatterpolar": [
           {
            "marker": {
             "colorbar": {
              "outlinewidth": 0,
              "ticks": ""
             }
            },
            "type": "scatterpolar"
           }
          ],
          "scatterpolargl": [
           {
            "marker": {
             "colorbar": {
              "outlinewidth": 0,
              "ticks": ""
             }
            },
            "type": "scatterpolargl"
           }
          ],
          "scatterternary": [
           {
            "marker": {
             "colorbar": {
              "outlinewidth": 0,
              "ticks": ""
             }
            },
            "type": "scatterternary"
           }
          ],
          "surface": [
           {
            "colorbar": {
             "outlinewidth": 0,
             "ticks": ""
            },
            "colorscale": [
             [
              0,
              "#0d0887"
             ],
             [
              0.1111111111111111,
              "#46039f"
             ],
             [
              0.2222222222222222,
              "#7201a8"
             ],
             [
              0.3333333333333333,
              "#9c179e"
             ],
             [
              0.4444444444444444,
              "#bd3786"
             ],
             [
              0.5555555555555556,
              "#d8576b"
             ],
             [
              0.6666666666666666,
              "#ed7953"
             ],
             [
              0.7777777777777778,
              "#fb9f3a"
             ],
             [
              0.8888888888888888,
              "#fdca26"
             ],
             [
              1,
              "#f0f921"
             ]
            ],
            "type": "surface"
           }
          ],
          "table": [
           {
            "cells": {
             "fill": {
              "color": "#EBF0F8"
             },
             "line": {
              "color": "white"
             }
            },
            "header": {
             "fill": {
              "color": "#C8D4E3"
             },
             "line": {
              "color": "white"
             }
            },
            "type": "table"
           }
          ]
         },
         "layout": {
          "annotationdefaults": {
           "arrowcolor": "#2a3f5f",
           "arrowhead": 0,
           "arrowwidth": 1
          },
          "autotypenumbers": "strict",
          "coloraxis": {
           "colorbar": {
            "outlinewidth": 0,
            "ticks": ""
           }
          },
          "colorscale": {
           "diverging": [
            [
             0,
             "#8e0152"
            ],
            [
             0.1,
             "#c51b7d"
            ],
            [
             0.2,
             "#de77ae"
            ],
            [
             0.3,
             "#f1b6da"
            ],
            [
             0.4,
             "#fde0ef"
            ],
            [
             0.5,
             "#f7f7f7"
            ],
            [
             0.6,
             "#e6f5d0"
            ],
            [
             0.7,
             "#b8e186"
            ],
            [
             0.8,
             "#7fbc41"
            ],
            [
             0.9,
             "#4d9221"
            ],
            [
             1,
             "#276419"
            ]
           ],
           "sequential": [
            [
             0,
             "#0d0887"
            ],
            [
             0.1111111111111111,
             "#46039f"
            ],
            [
             0.2222222222222222,
             "#7201a8"
            ],
            [
             0.3333333333333333,
             "#9c179e"
            ],
            [
             0.4444444444444444,
             "#bd3786"
            ],
            [
             0.5555555555555556,
             "#d8576b"
            ],
            [
             0.6666666666666666,
             "#ed7953"
            ],
            [
             0.7777777777777778,
             "#fb9f3a"
            ],
            [
             0.8888888888888888,
             "#fdca26"
            ],
            [
             1,
             "#f0f921"
            ]
           ],
           "sequentialminus": [
            [
             0,
             "#0d0887"
            ],
            [
             0.1111111111111111,
             "#46039f"
            ],
            [
             0.2222222222222222,
             "#7201a8"
            ],
            [
             0.3333333333333333,
             "#9c179e"
            ],
            [
             0.4444444444444444,
             "#bd3786"
            ],
            [
             0.5555555555555556,
             "#d8576b"
            ],
            [
             0.6666666666666666,
             "#ed7953"
            ],
            [
             0.7777777777777778,
             "#fb9f3a"
            ],
            [
             0.8888888888888888,
             "#fdca26"
            ],
            [
             1,
             "#f0f921"
            ]
           ]
          },
          "colorway": [
           "#636efa",
           "#EF553B",
           "#00cc96",
           "#ab63fa",
           "#FFA15A",
           "#19d3f3",
           "#FF6692",
           "#B6E880",
           "#FF97FF",
           "#FECB52"
          ],
          "font": {
           "color": "#2a3f5f"
          },
          "geo": {
           "bgcolor": "white",
           "lakecolor": "white",
           "landcolor": "#E5ECF6",
           "showlakes": true,
           "showland": true,
           "subunitcolor": "white"
          },
          "hoverlabel": {
           "align": "left"
          },
          "hovermode": "closest",
          "mapbox": {
           "style": "light"
          },
          "paper_bgcolor": "white",
          "plot_bgcolor": "#E5ECF6",
          "polar": {
           "angularaxis": {
            "gridcolor": "white",
            "linecolor": "white",
            "ticks": ""
           },
           "bgcolor": "#E5ECF6",
           "radialaxis": {
            "gridcolor": "white",
            "linecolor": "white",
            "ticks": ""
           }
          },
          "scene": {
           "xaxis": {
            "backgroundcolor": "#E5ECF6",
            "gridcolor": "white",
            "gridwidth": 2,
            "linecolor": "white",
            "showbackground": true,
            "ticks": "",
            "zerolinecolor": "white"
           },
           "yaxis": {
            "backgroundcolor": "#E5ECF6",
            "gridcolor": "white",
            "gridwidth": 2,
            "linecolor": "white",
            "showbackground": true,
            "ticks": "",
            "zerolinecolor": "white"
           },
           "zaxis": {
            "backgroundcolor": "#E5ECF6",
            "gridcolor": "white",
            "gridwidth": 2,
            "linecolor": "white",
            "showbackground": true,
            "ticks": "",
            "zerolinecolor": "white"
           }
          },
          "shapedefaults": {
           "line": {
            "color": "#2a3f5f"
           }
          },
          "ternary": {
           "aaxis": {
            "gridcolor": "white",
            "linecolor": "white",
            "ticks": ""
           },
           "baxis": {
            "gridcolor": "white",
            "linecolor": "white",
            "ticks": ""
           },
           "bgcolor": "#E5ECF6",
           "caxis": {
            "gridcolor": "white",
            "linecolor": "white",
            "ticks": ""
           }
          },
          "title": {
           "x": 0.05
          },
          "xaxis": {
           "automargin": true,
           "gridcolor": "white",
           "linecolor": "white",
           "ticks": "",
           "title": {
            "standoff": 15
           },
           "zerolinecolor": "white",
           "zerolinewidth": 2
          },
          "yaxis": {
           "automargin": true,
           "gridcolor": "white",
           "linecolor": "white",
           "ticks": "",
           "title": {
            "standoff": 15
           },
           "zerolinecolor": "white",
           "zerolinewidth": 2
          }
         }
        },
        "xaxis": {
         "anchor": "y",
         "domain": [
          0,
          1
         ],
         "title": {
          "text": "Category"
         }
        },
        "yaxis": {
         "anchor": "x",
         "domain": [
          0,
          1
         ],
         "title": {
          "text": "MOA Total Sum Impact Score"
         }
        }
       }
      }
     },
     "metadata": {},
     "output_type": "display_data"
    }
   ],
   "source": [
    "fig3 = px.bar(\n",
    "    not_supported_feature_impact_df,\n",
    "    x=\"Category\",\n",
    "    y=\"MOA Total Sum Impact Score\",\n",
    "    hover_data=[\"Total Number Assertions\"],\n",
    "    color=\"Total Number Assertions\",\n",
    "    labels={\"MOA Total Sum Impact Score\": \"MOA Total Sum Impact Score\"},\n",
    "    text_auto=\".1f\",\n",
    "    color_continuous_scale=\"geyser\"\n",
    ")\n",
    "fig3.update_traces(width=1)\n",
    "fig3.show()"
   ]
  },
  {
   "cell_type": "code",
   "execution_count": 81,
   "metadata": {},
   "outputs": [],
   "source": [
    "fig3.write_html(\"moa_ns_categories_impact_redgreen.html\")"
   ]
  },
  {
   "attachments": {},
   "cell_type": "markdown",
   "metadata": {},
   "source": [
    "The scatterplot below shows the relationship between the Not Suported variant sub category impact score and the number of assertions (evidence items) associated with features (variants) in each sub category. Additionally, the sizes of the data point represent the number of features (variants) in each sub category. "
   ]
  },
  {
   "cell_type": "code",
   "execution_count": 82,
   "metadata": {},
   "outputs": [
    {
     "data": {
      "application/vnd.plotly.v1+json": {
       "config": {
        "plotlyServerURL": "https://plot.ly"
       },
       "data": [
        {
         "hovertemplate": "Category=Expression<br>Total Number Assertions=%{x}<br>MOA Total Sum Impact Score=%{y}<br>Total Number Features=%{text}<extra></extra>",
         "legendgroup": "Expression",
         "marker": {
          "color": "#636efa",
          "size": [
           11
          ],
          "sizemode": "area",
          "sizeref": 0.105625,
          "symbol": "circle"
         },
         "mode": "markers+text",
         "name": "Expression",
         "orientation": "v",
         "showlegend": true,
         "text": [
          11
         ],
         "type": "scatter",
         "x": [
          12
         ],
         "xaxis": "x",
         "y": [
          11
         ],
         "yaxis": "y"
        },
        {
         "hovertemplate": "Category=Epigenetic Modification<br>Total Number Assertions=%{x}<br>MOA Total Sum Impact Score=%{y}<br>Total Number Features=%{text}<extra></extra>",
         "legendgroup": "Epigenetic Modification",
         "marker": {
          "color": "#EF553B",
          "size": [
           0
          ],
          "sizemode": "area",
          "sizeref": 0.105625,
          "symbol": "circle"
         },
         "mode": "markers+text",
         "name": "Epigenetic Modification",
         "orientation": "v",
         "showlegend": true,
         "text": [
          0
         ],
         "type": "scatter",
         "x": [
          0
         ],
         "xaxis": "x",
         "y": [
          0
         ],
         "yaxis": "y"
        },
        {
         "hovertemplate": "Category=Fusion<br>Total Number Assertions=%{x}<br>MOA Total Sum Impact Score=%{y}<br>Total Number Features=%{text}<extra></extra>",
         "legendgroup": "Fusion",
         "marker": {
          "color": "#00cc96",
          "size": [
           0
          ],
          "sizemode": "area",
          "sizeref": 0.105625,
          "symbol": "circle"
         },
         "mode": "markers+text",
         "name": "Fusion",
         "orientation": "v",
         "showlegend": true,
         "text": [
          0
         ],
         "type": "scatter",
         "x": [
          0
         ],
         "xaxis": "x",
         "y": [
          0
         ],
         "yaxis": "y"
        },
        {
         "hovertemplate": "Category=Protein Consequence<br>Total Number Assertions=%{x}<br>MOA Total Sum Impact Score=%{y}<br>Total Number Features=%{text}<extra></extra>",
         "legendgroup": "Protein Consequence",
         "marker": {
          "color": "#ab63fa",
          "size": [
           169
          ],
          "sizemode": "area",
          "sizeref": 0.105625,
          "symbol": "circle"
         },
         "mode": "markers+text",
         "name": "Protein Consequence",
         "orientation": "v",
         "showlegend": true,
         "text": [
          169
         ],
         "type": "scatter",
         "x": [
          419
         ],
         "xaxis": "x",
         "y": [
          1054.5
         ],
         "yaxis": "y"
        },
        {
         "hovertemplate": "Category=Gene Function<br>Total Number Assertions=%{x}<br>MOA Total Sum Impact Score=%{y}<br>Total Number Features=%{text}<extra></extra>",
         "legendgroup": "Gene Function",
         "marker": {
          "color": "#FFA15A",
          "size": [
           0
          ],
          "sizemode": "area",
          "sizeref": 0.105625,
          "symbol": "circle"
         },
         "mode": "markers+text",
         "name": "Gene Function",
         "orientation": "v",
         "showlegend": true,
         "text": [
          0
         ],
         "type": "scatter",
         "x": [
          0
         ],
         "xaxis": "x",
         "y": [
          0
         ],
         "yaxis": "y"
        },
        {
         "hovertemplate": "Category=Rearrangements<br>Total Number Assertions=%{x}<br>MOA Total Sum Impact Score=%{y}<br>Total Number Features=%{text}<extra></extra>",
         "legendgroup": "Rearrangements",
         "marker": {
          "color": "#19d3f3",
          "size": [
           38
          ],
          "sizemode": "area",
          "sizeref": 0.105625,
          "symbol": "circle"
         },
         "mode": "markers+text",
         "name": "Rearrangements",
         "orientation": "v",
         "showlegend": true,
         "text": [
          38
         ],
         "type": "scatter",
         "x": [
          81
         ],
         "xaxis": "x",
         "y": [
          291
         ],
         "yaxis": "y"
        },
        {
         "hovertemplate": "Category=Copy Number<br>Total Number Assertions=%{x}<br>MOA Total Sum Impact Score=%{y}<br>Total Number Features=%{text}<extra></extra>",
         "legendgroup": "Copy Number",
         "marker": {
          "color": "#FF6692",
          "size": [
           17
          ],
          "sizemode": "area",
          "sizeref": 0.105625,
          "symbol": "circle"
         },
         "mode": "markers+text",
         "name": "Copy Number",
         "orientation": "v",
         "showlegend": true,
         "text": [
          17
         ],
         "type": "scatter",
         "x": [
          29
         ],
         "xaxis": "x",
         "y": [
          44.5
         ],
         "yaxis": "y"
        },
        {
         "hovertemplate": "Category=Other<br>Total Number Assertions=%{x}<br>MOA Total Sum Impact Score=%{y}<br>Total Number Features=%{text}<extra></extra>",
         "legendgroup": "Other",
         "marker": {
          "color": "#B6E880",
          "size": [
           9
          ],
          "sizemode": "area",
          "sizeref": 0.105625,
          "symbol": "circle"
         },
         "mode": "markers+text",
         "name": "Other",
         "orientation": "v",
         "showlegend": true,
         "text": [
          9
         ],
         "type": "scatter",
         "x": [
          23
         ],
         "xaxis": "x",
         "y": [
          32.5
         ],
         "yaxis": "y"
        },
        {
         "hovertemplate": "Category=Genotypes Easy<br>Total Number Assertions=%{x}<br>MOA Total Sum Impact Score=%{y}<br>Total Number Features=%{text}<extra></extra>",
         "legendgroup": "Genotypes Easy",
         "marker": {
          "color": "#FF97FF",
          "size": [
           0
          ],
          "sizemode": "area",
          "sizeref": 0.105625,
          "symbol": "circle"
         },
         "mode": "markers+text",
         "name": "Genotypes Easy",
         "orientation": "v",
         "showlegend": true,
         "text": [
          0
         ],
         "type": "scatter",
         "x": [
          0
         ],
         "xaxis": "x",
         "y": [
          0
         ],
         "yaxis": "y"
        },
        {
         "hovertemplate": "Category=Genotypes Compound<br>Total Number Assertions=%{x}<br>MOA Total Sum Impact Score=%{y}<br>Total Number Features=%{text}<extra></extra>",
         "legendgroup": "Genotypes Compound",
         "marker": {
          "color": "#FECB52",
          "size": [
           0
          ],
          "sizemode": "area",
          "sizeref": 0.105625,
          "symbol": "circle"
         },
         "mode": "markers+text",
         "name": "Genotypes Compound",
         "orientation": "v",
         "showlegend": true,
         "text": [
          0
         ],
         "type": "scatter",
         "x": [
          0
         ],
         "xaxis": "x",
         "y": [
          0
         ],
         "yaxis": "y"
        },
        {
         "hovertemplate": "Category=Region Defined Variant<br>Total Number Assertions=%{x}<br>MOA Total Sum Impact Score=%{y}<br>Total Number Features=%{text}<extra></extra>",
         "legendgroup": "Region Defined Variant",
         "marker": {
          "color": "#636efa",
          "size": [
           0
          ],
          "sizemode": "area",
          "sizeref": 0.105625,
          "symbol": "circle"
         },
         "mode": "markers+text",
         "name": "Region Defined Variant",
         "orientation": "v",
         "showlegend": true,
         "text": [
          0
         ],
         "type": "scatter",
         "x": [
          0
         ],
         "xaxis": "x",
         "y": [
          0
         ],
         "yaxis": "y"
        },
        {
         "hovertemplate": "Category=Transcript Variant<br>Total Number Assertions=%{x}<br>MOA Total Sum Impact Score=%{y}<br>Total Number Features=%{text}<extra></extra>",
         "legendgroup": "Transcript Variant",
         "marker": {
          "color": "#EF553B",
          "size": [
           0
          ],
          "sizemode": "area",
          "sizeref": 0.105625,
          "symbol": "circle"
         },
         "mode": "markers+text",
         "name": "Transcript Variant",
         "orientation": "v",
         "showlegend": true,
         "text": [
          0
         ],
         "type": "scatter",
         "x": [
          0
         ],
         "xaxis": "x",
         "y": [
          0
         ],
         "yaxis": "y"
        }
       ],
       "layout": {
        "legend": {
         "itemsizing": "constant",
         "title": {
          "text": "Category"
         },
         "tracegroupgap": 0
        },
        "margin": {
         "t": 60
        },
        "template": {
         "data": {
          "bar": [
           {
            "error_x": {
             "color": "#2a3f5f"
            },
            "error_y": {
             "color": "#2a3f5f"
            },
            "marker": {
             "line": {
              "color": "#E5ECF6",
              "width": 0.5
             },
             "pattern": {
              "fillmode": "overlay",
              "size": 10,
              "solidity": 0.2
             }
            },
            "type": "bar"
           }
          ],
          "barpolar": [
           {
            "marker": {
             "line": {
              "color": "#E5ECF6",
              "width": 0.5
             },
             "pattern": {
              "fillmode": "overlay",
              "size": 10,
              "solidity": 0.2
             }
            },
            "type": "barpolar"
           }
          ],
          "carpet": [
           {
            "aaxis": {
             "endlinecolor": "#2a3f5f",
             "gridcolor": "white",
             "linecolor": "white",
             "minorgridcolor": "white",
             "startlinecolor": "#2a3f5f"
            },
            "baxis": {
             "endlinecolor": "#2a3f5f",
             "gridcolor": "white",
             "linecolor": "white",
             "minorgridcolor": "white",
             "startlinecolor": "#2a3f5f"
            },
            "type": "carpet"
           }
          ],
          "choropleth": [
           {
            "colorbar": {
             "outlinewidth": 0,
             "ticks": ""
            },
            "type": "choropleth"
           }
          ],
          "contour": [
           {
            "colorbar": {
             "outlinewidth": 0,
             "ticks": ""
            },
            "colorscale": [
             [
              0,
              "#0d0887"
             ],
             [
              0.1111111111111111,
              "#46039f"
             ],
             [
              0.2222222222222222,
              "#7201a8"
             ],
             [
              0.3333333333333333,
              "#9c179e"
             ],
             [
              0.4444444444444444,
              "#bd3786"
             ],
             [
              0.5555555555555556,
              "#d8576b"
             ],
             [
              0.6666666666666666,
              "#ed7953"
             ],
             [
              0.7777777777777778,
              "#fb9f3a"
             ],
             [
              0.8888888888888888,
              "#fdca26"
             ],
             [
              1,
              "#f0f921"
             ]
            ],
            "type": "contour"
           }
          ],
          "contourcarpet": [
           {
            "colorbar": {
             "outlinewidth": 0,
             "ticks": ""
            },
            "type": "contourcarpet"
           }
          ],
          "heatmap": [
           {
            "colorbar": {
             "outlinewidth": 0,
             "ticks": ""
            },
            "colorscale": [
             [
              0,
              "#0d0887"
             ],
             [
              0.1111111111111111,
              "#46039f"
             ],
             [
              0.2222222222222222,
              "#7201a8"
             ],
             [
              0.3333333333333333,
              "#9c179e"
             ],
             [
              0.4444444444444444,
              "#bd3786"
             ],
             [
              0.5555555555555556,
              "#d8576b"
             ],
             [
              0.6666666666666666,
              "#ed7953"
             ],
             [
              0.7777777777777778,
              "#fb9f3a"
             ],
             [
              0.8888888888888888,
              "#fdca26"
             ],
             [
              1,
              "#f0f921"
             ]
            ],
            "type": "heatmap"
           }
          ],
          "heatmapgl": [
           {
            "colorbar": {
             "outlinewidth": 0,
             "ticks": ""
            },
            "colorscale": [
             [
              0,
              "#0d0887"
             ],
             [
              0.1111111111111111,
              "#46039f"
             ],
             [
              0.2222222222222222,
              "#7201a8"
             ],
             [
              0.3333333333333333,
              "#9c179e"
             ],
             [
              0.4444444444444444,
              "#bd3786"
             ],
             [
              0.5555555555555556,
              "#d8576b"
             ],
             [
              0.6666666666666666,
              "#ed7953"
             ],
             [
              0.7777777777777778,
              "#fb9f3a"
             ],
             [
              0.8888888888888888,
              "#fdca26"
             ],
             [
              1,
              "#f0f921"
             ]
            ],
            "type": "heatmapgl"
           }
          ],
          "histogram": [
           {
            "marker": {
             "pattern": {
              "fillmode": "overlay",
              "size": 10,
              "solidity": 0.2
             }
            },
            "type": "histogram"
           }
          ],
          "histogram2d": [
           {
            "colorbar": {
             "outlinewidth": 0,
             "ticks": ""
            },
            "colorscale": [
             [
              0,
              "#0d0887"
             ],
             [
              0.1111111111111111,
              "#46039f"
             ],
             [
              0.2222222222222222,
              "#7201a8"
             ],
             [
              0.3333333333333333,
              "#9c179e"
             ],
             [
              0.4444444444444444,
              "#bd3786"
             ],
             [
              0.5555555555555556,
              "#d8576b"
             ],
             [
              0.6666666666666666,
              "#ed7953"
             ],
             [
              0.7777777777777778,
              "#fb9f3a"
             ],
             [
              0.8888888888888888,
              "#fdca26"
             ],
             [
              1,
              "#f0f921"
             ]
            ],
            "type": "histogram2d"
           }
          ],
          "histogram2dcontour": [
           {
            "colorbar": {
             "outlinewidth": 0,
             "ticks": ""
            },
            "colorscale": [
             [
              0,
              "#0d0887"
             ],
             [
              0.1111111111111111,
              "#46039f"
             ],
             [
              0.2222222222222222,
              "#7201a8"
             ],
             [
              0.3333333333333333,
              "#9c179e"
             ],
             [
              0.4444444444444444,
              "#bd3786"
             ],
             [
              0.5555555555555556,
              "#d8576b"
             ],
             [
              0.6666666666666666,
              "#ed7953"
             ],
             [
              0.7777777777777778,
              "#fb9f3a"
             ],
             [
              0.8888888888888888,
              "#fdca26"
             ],
             [
              1,
              "#f0f921"
             ]
            ],
            "type": "histogram2dcontour"
           }
          ],
          "mesh3d": [
           {
            "colorbar": {
             "outlinewidth": 0,
             "ticks": ""
            },
            "type": "mesh3d"
           }
          ],
          "parcoords": [
           {
            "line": {
             "colorbar": {
              "outlinewidth": 0,
              "ticks": ""
             }
            },
            "type": "parcoords"
           }
          ],
          "pie": [
           {
            "automargin": true,
            "type": "pie"
           }
          ],
          "scatter": [
           {
            "fillpattern": {
             "fillmode": "overlay",
             "size": 10,
             "solidity": 0.2
            },
            "type": "scatter"
           }
          ],
          "scatter3d": [
           {
            "line": {
             "colorbar": {
              "outlinewidth": 0,
              "ticks": ""
             }
            },
            "marker": {
             "colorbar": {
              "outlinewidth": 0,
              "ticks": ""
             }
            },
            "type": "scatter3d"
           }
          ],
          "scattercarpet": [
           {
            "marker": {
             "colorbar": {
              "outlinewidth": 0,
              "ticks": ""
             }
            },
            "type": "scattercarpet"
           }
          ],
          "scattergeo": [
           {
            "marker": {
             "colorbar": {
              "outlinewidth": 0,
              "ticks": ""
             }
            },
            "type": "scattergeo"
           }
          ],
          "scattergl": [
           {
            "marker": {
             "colorbar": {
              "outlinewidth": 0,
              "ticks": ""
             }
            },
            "type": "scattergl"
           }
          ],
          "scattermapbox": [
           {
            "marker": {
             "colorbar": {
              "outlinewidth": 0,
              "ticks": ""
             }
            },
            "type": "scattermapbox"
           }
          ],
          "scatterpolar": [
           {
            "marker": {
             "colorbar": {
              "outlinewidth": 0,
              "ticks": ""
             }
            },
            "type": "scatterpolar"
           }
          ],
          "scatterpolargl": [
           {
            "marker": {
             "colorbar": {
              "outlinewidth": 0,
              "ticks": ""
             }
            },
            "type": "scatterpolargl"
           }
          ],
          "scatterternary": [
           {
            "marker": {
             "colorbar": {
              "outlinewidth": 0,
              "ticks": ""
             }
            },
            "type": "scatterternary"
           }
          ],
          "surface": [
           {
            "colorbar": {
             "outlinewidth": 0,
             "ticks": ""
            },
            "colorscale": [
             [
              0,
              "#0d0887"
             ],
             [
              0.1111111111111111,
              "#46039f"
             ],
             [
              0.2222222222222222,
              "#7201a8"
             ],
             [
              0.3333333333333333,
              "#9c179e"
             ],
             [
              0.4444444444444444,
              "#bd3786"
             ],
             [
              0.5555555555555556,
              "#d8576b"
             ],
             [
              0.6666666666666666,
              "#ed7953"
             ],
             [
              0.7777777777777778,
              "#fb9f3a"
             ],
             [
              0.8888888888888888,
              "#fdca26"
             ],
             [
              1,
              "#f0f921"
             ]
            ],
            "type": "surface"
           }
          ],
          "table": [
           {
            "cells": {
             "fill": {
              "color": "#EBF0F8"
             },
             "line": {
              "color": "white"
             }
            },
            "header": {
             "fill": {
              "color": "#C8D4E3"
             },
             "line": {
              "color": "white"
             }
            },
            "type": "table"
           }
          ]
         },
         "layout": {
          "annotationdefaults": {
           "arrowcolor": "#2a3f5f",
           "arrowhead": 0,
           "arrowwidth": 1
          },
          "autotypenumbers": "strict",
          "coloraxis": {
           "colorbar": {
            "outlinewidth": 0,
            "ticks": ""
           }
          },
          "colorscale": {
           "diverging": [
            [
             0,
             "#8e0152"
            ],
            [
             0.1,
             "#c51b7d"
            ],
            [
             0.2,
             "#de77ae"
            ],
            [
             0.3,
             "#f1b6da"
            ],
            [
             0.4,
             "#fde0ef"
            ],
            [
             0.5,
             "#f7f7f7"
            ],
            [
             0.6,
             "#e6f5d0"
            ],
            [
             0.7,
             "#b8e186"
            ],
            [
             0.8,
             "#7fbc41"
            ],
            [
             0.9,
             "#4d9221"
            ],
            [
             1,
             "#276419"
            ]
           ],
           "sequential": [
            [
             0,
             "#0d0887"
            ],
            [
             0.1111111111111111,
             "#46039f"
            ],
            [
             0.2222222222222222,
             "#7201a8"
            ],
            [
             0.3333333333333333,
             "#9c179e"
            ],
            [
             0.4444444444444444,
             "#bd3786"
            ],
            [
             0.5555555555555556,
             "#d8576b"
            ],
            [
             0.6666666666666666,
             "#ed7953"
            ],
            [
             0.7777777777777778,
             "#fb9f3a"
            ],
            [
             0.8888888888888888,
             "#fdca26"
            ],
            [
             1,
             "#f0f921"
            ]
           ],
           "sequentialminus": [
            [
             0,
             "#0d0887"
            ],
            [
             0.1111111111111111,
             "#46039f"
            ],
            [
             0.2222222222222222,
             "#7201a8"
            ],
            [
             0.3333333333333333,
             "#9c179e"
            ],
            [
             0.4444444444444444,
             "#bd3786"
            ],
            [
             0.5555555555555556,
             "#d8576b"
            ],
            [
             0.6666666666666666,
             "#ed7953"
            ],
            [
             0.7777777777777778,
             "#fb9f3a"
            ],
            [
             0.8888888888888888,
             "#fdca26"
            ],
            [
             1,
             "#f0f921"
            ]
           ]
          },
          "colorway": [
           "#636efa",
           "#EF553B",
           "#00cc96",
           "#ab63fa",
           "#FFA15A",
           "#19d3f3",
           "#FF6692",
           "#B6E880",
           "#FF97FF",
           "#FECB52"
          ],
          "font": {
           "color": "#2a3f5f"
          },
          "geo": {
           "bgcolor": "white",
           "lakecolor": "white",
           "landcolor": "#E5ECF6",
           "showlakes": true,
           "showland": true,
           "subunitcolor": "white"
          },
          "hoverlabel": {
           "align": "left"
          },
          "hovermode": "closest",
          "mapbox": {
           "style": "light"
          },
          "paper_bgcolor": "white",
          "plot_bgcolor": "#E5ECF6",
          "polar": {
           "angularaxis": {
            "gridcolor": "white",
            "linecolor": "white",
            "ticks": ""
           },
           "bgcolor": "#E5ECF6",
           "radialaxis": {
            "gridcolor": "white",
            "linecolor": "white",
            "ticks": ""
           }
          },
          "scene": {
           "xaxis": {
            "backgroundcolor": "#E5ECF6",
            "gridcolor": "white",
            "gridwidth": 2,
            "linecolor": "white",
            "showbackground": true,
            "ticks": "",
            "zerolinecolor": "white"
           },
           "yaxis": {
            "backgroundcolor": "#E5ECF6",
            "gridcolor": "white",
            "gridwidth": 2,
            "linecolor": "white",
            "showbackground": true,
            "ticks": "",
            "zerolinecolor": "white"
           },
           "zaxis": {
            "backgroundcolor": "#E5ECF6",
            "gridcolor": "white",
            "gridwidth": 2,
            "linecolor": "white",
            "showbackground": true,
            "ticks": "",
            "zerolinecolor": "white"
           }
          },
          "shapedefaults": {
           "line": {
            "color": "#2a3f5f"
           }
          },
          "ternary": {
           "aaxis": {
            "gridcolor": "white",
            "linecolor": "white",
            "ticks": ""
           },
           "baxis": {
            "gridcolor": "white",
            "linecolor": "white",
            "ticks": ""
           },
           "bgcolor": "#E5ECF6",
           "caxis": {
            "gridcolor": "white",
            "linecolor": "white",
            "ticks": ""
           }
          },
          "title": {
           "x": 0.05
          },
          "xaxis": {
           "automargin": true,
           "gridcolor": "white",
           "linecolor": "white",
           "ticks": "",
           "title": {
            "standoff": 15
           },
           "zerolinecolor": "white",
           "zerolinewidth": 2
          },
          "yaxis": {
           "automargin": true,
           "gridcolor": "white",
           "linecolor": "white",
           "ticks": "",
           "title": {
            "standoff": 15
           },
           "zerolinecolor": "white",
           "zerolinewidth": 2
          }
         }
        },
        "xaxis": {
         "anchor": "y",
         "domain": [
          0,
          1
         ],
         "title": {
          "text": "Total Number Assertions"
         }
        },
        "yaxis": {
         "anchor": "x",
         "domain": [
          0,
          1
         ],
         "title": {
          "text": "MOA Total Sum Impact Score"
         }
        }
       }
      }
     },
     "metadata": {},
     "output_type": "display_data"
    }
   ],
   "source": [
    "fig2 = px.scatter(\n",
    "    data_frame=not_supported_feature_impact_df,\n",
    "    x=\"Total Number Assertions\",\n",
    "    y=\"MOA Total Sum Impact Score\",\n",
    "    size=\"Total Number Features\",\n",
    "    size_max=40,\n",
    "    text=\"Total Number Features\",\n",
    "    color=\"Category\"\n",
    ")\n",
    "fig2.show()"
   ]
  },
  {
   "cell_type": "code",
   "execution_count": 83,
   "metadata": {},
   "outputs": [],
   "source": [
    "fig2.write_html(\"moa_ns_categories_impact_scatterplot.html\")"
   ]
  },
  {
   "cell_type": "code",
   "execution_count": 84,
   "metadata": {},
   "outputs": [],
   "source": [
    "def draw_pie(dist, \n",
    "             xpos, \n",
    "             ypos, \n",
    "             size, \n",
    "             ax=None):\n",
    "    if ax is None:\n",
    "        fig, ax = plt.subplots(figsize=(20,8))\n",
    "\n",
    "    # for incremental pie slices\n",
    "    cumsum = np.cumsum(dist)\n",
    "    cumsum = cumsum/ cumsum[-1]\n",
    "    pie = [0] + cumsum.tolist()\n",
    "\n",
    "    for r1, r2 in zip(pie[:-1], pie[1:]):\n",
    "        angles = np.linspace(2 * np.pi * r1, 2 * np.pi * r2)\n",
    "        x = [0] + np.cos(angles).tolist()\n",
    "        y = [0] + np.sin(angles).tolist()\n",
    "\n",
    "        xy = np.column_stack([x, y])\n",
    "\n",
    "        ax.scatter([xpos], [ypos], marker=xy, s=size)\n",
    "\n",
    "    return ax"
   ]
  },
  {
   "cell_type": "code",
   "execution_count": 85,
   "metadata": {},
   "outputs": [
    {
     "data": {
      "image/png": "[encoded data removed]",
      "text/plain": [
       "<Figure size 2000x800 with 1 Axes>"
      ]
     },
     "metadata": {},
     "output_type": "display_data"
    }
   ],
   "source": [
    "import matplotlib.pyplot as plt\n",
    "import numpy as np\n",
    "\n",
    "fig, ax = plt.subplots(figsize=(20,8))\n",
    "draw_pie([2,2], 2, 1, 2000, ax=ax)\n",
    "draw_pie([1,1,1,1,4], 1.5,1.5, 3000, ax=ax)\n",
    "plt.xlim(0,10)\n",
    "plt.ylim(0, 5)\n",
    "plt.show()"
   ]
  },
  {
   "cell_type": "code",
   "execution_count": 86,
   "metadata": {},
   "outputs": [
    {
     "data": {
      "image/png": "[encoded data removed]",
      "text/plain": [
       "<Figure size 4000x2000 with 1 Axes>"
      ]
     },
     "metadata": {},
     "output_type": "display_data"
    }
   ],
   "source": [
    "fig, ax = plt.subplots(figsize=(40,20))\n",
    "for (x,y), d in not_supported_feature_impact_df.groupby(['Total Number Assertions','MOA Total Sum Impact Score']):\n",
    "    dist = d['Category'].value_counts()\n",
    "    draw_pie(dist, x, y, 10000*len(d), ax=ax)\n",
    "plt.show()"
   ]
  },
  {
   "cell_type": "code",
   "execution_count": 87,
   "metadata": {},
   "outputs": [],
   "source": [
    "not_supported_variant_impact_df = pd.read_csv(\"../not_supported_variant_impact_df.csv\", sep=\",\")"
   ]
  },
  {
   "cell_type": "code",
   "execution_count": 88,
   "metadata": {},
   "outputs": [
    {
     "data": {
      "text/html": [
       "<div>\n",
       "<style scoped>\n",
       "    .dataframe tbody tr th:only-of-type {\n",
       "        vertical-align: middle;\n",
       "    }\n",
       "\n",
       "    .dataframe tbody tr th {\n",
       "        vertical-align: top;\n",
       "    }\n",
       "\n",
       "    .dataframe thead th {\n",
       "        text-align: right;\n",
       "    }\n",
       "</style>\n",
       "<table border=\"1\" class=\"dataframe\">\n",
       "  <thead>\n",
       "    <tr style=\"text-align: right;\">\n",
       "      <th></th>\n",
       "      <th>Category</th>\n",
       "      <th>MOA Total Sum Impact Score</th>\n",
       "      <th>Average Impact Score per Feature</th>\n",
       "      <th>Average Impact Score per Assertion</th>\n",
       "      <th>Total Number Assertions</th>\n",
       "      <th>Total Number Features</th>\n",
       "      <th>CIVIC Total Sum Impact Score</th>\n",
       "      <th>Average Impact Score per Variant</th>\n",
       "      <th>Average Impact Score per Evidence Item</th>\n",
       "      <th>Total Number Evidence Items</th>\n",
       "      <th>% Accepted Evidence Items</th>\n",
       "      <th>Total Number Variants</th>\n",
       "    </tr>\n",
       "  </thead>\n",
       "  <tbody>\n",
       "    <tr>\n",
       "      <th>0</th>\n",
       "      <td>Expression</td>\n",
       "      <td>11.0</td>\n",
       "      <td>1.000000</td>\n",
       "      <td>1.000000</td>\n",
       "      <td>12</td>\n",
       "      <td>11</td>\n",
       "      <td>3618.00</td>\n",
       "      <td>9.397403</td>\n",
       "      <td>7.681529</td>\n",
       "      <td>618</td>\n",
       "      <td>55.34%</td>\n",
       "      <td>291</td>\n",
       "    </tr>\n",
       "    <tr>\n",
       "      <th>1</th>\n",
       "      <td>Epigenetic Modification</td>\n",
       "      <td>0.0</td>\n",
       "      <td>0.000000</td>\n",
       "      <td>0.000000</td>\n",
       "      <td>0</td>\n",
       "      <td>0</td>\n",
       "      <td>285.50</td>\n",
       "      <td>0.741558</td>\n",
       "      <td>0.606157</td>\n",
       "      <td>24</td>\n",
       "      <td>91.67%</td>\n",
       "      <td>15</td>\n",
       "    </tr>\n",
       "    <tr>\n",
       "      <th>2</th>\n",
       "      <td>Fusion</td>\n",
       "      <td>0.0</td>\n",
       "      <td>0.000000</td>\n",
       "      <td>0.000000</td>\n",
       "      <td>0</td>\n",
       "      <td>0</td>\n",
       "      <td>6600.75</td>\n",
       "      <td>17.144805</td>\n",
       "      <td>14.014331</td>\n",
       "      <td>1239</td>\n",
       "      <td>59.48%</td>\n",
       "      <td>308</td>\n",
       "    </tr>\n",
       "    <tr>\n",
       "      <th>3</th>\n",
       "      <td>Protein Consequence</td>\n",
       "      <td>1054.5</td>\n",
       "      <td>6.239645</td>\n",
       "      <td>6.239645</td>\n",
       "      <td>419</td>\n",
       "      <td>169</td>\n",
       "      <td>2683.75</td>\n",
       "      <td>6.970779</td>\n",
       "      <td>5.697983</td>\n",
       "      <td>301</td>\n",
       "      <td>63.46%</td>\n",
       "      <td>128</td>\n",
       "    </tr>\n",
       "    <tr>\n",
       "      <th>4</th>\n",
       "      <td>Gene Function</td>\n",
       "      <td>0.0</td>\n",
       "      <td>0.000000</td>\n",
       "      <td>0.000000</td>\n",
       "      <td>0</td>\n",
       "      <td>0</td>\n",
       "      <td>1805.50</td>\n",
       "      <td>4.689610</td>\n",
       "      <td>3.833333</td>\n",
       "      <td>348</td>\n",
       "      <td>44.25%</td>\n",
       "      <td>90</td>\n",
       "    </tr>\n",
       "    <tr>\n",
       "      <th>5</th>\n",
       "      <td>Rearrangements</td>\n",
       "      <td>291.0</td>\n",
       "      <td>7.657895</td>\n",
       "      <td>7.657895</td>\n",
       "      <td>81</td>\n",
       "      <td>38</td>\n",
       "      <td>653.00</td>\n",
       "      <td>1.696104</td>\n",
       "      <td>1.386412</td>\n",
       "      <td>136</td>\n",
       "      <td>38.97%</td>\n",
       "      <td>52</td>\n",
       "    </tr>\n",
       "    <tr>\n",
       "      <th>6</th>\n",
       "      <td>Copy Number</td>\n",
       "      <td>44.5</td>\n",
       "      <td>2.617647</td>\n",
       "      <td>2.617647</td>\n",
       "      <td>29</td>\n",
       "      <td>17</td>\n",
       "      <td>225.00</td>\n",
       "      <td>0.584416</td>\n",
       "      <td>0.477707</td>\n",
       "      <td>64</td>\n",
       "      <td>42.19%</td>\n",
       "      <td>34</td>\n",
       "    </tr>\n",
       "    <tr>\n",
       "      <th>7</th>\n",
       "      <td>Other</td>\n",
       "      <td>32.5</td>\n",
       "      <td>3.611111</td>\n",
       "      <td>3.611111</td>\n",
       "      <td>23</td>\n",
       "      <td>9</td>\n",
       "      <td>673.50</td>\n",
       "      <td>1.749351</td>\n",
       "      <td>1.429936</td>\n",
       "      <td>162</td>\n",
       "      <td>37.04%</td>\n",
       "      <td>93</td>\n",
       "    </tr>\n",
       "    <tr>\n",
       "      <th>8</th>\n",
       "      <td>Genotypes Easy</td>\n",
       "      <td>0.0</td>\n",
       "      <td>0.000000</td>\n",
       "      <td>0.000000</td>\n",
       "      <td>0</td>\n",
       "      <td>0</td>\n",
       "      <td>195.00</td>\n",
       "      <td>0.506494</td>\n",
       "      <td>0.414013</td>\n",
       "      <td>23</td>\n",
       "      <td>56.52%</td>\n",
       "      <td>11</td>\n",
       "    </tr>\n",
       "    <tr>\n",
       "      <th>9</th>\n",
       "      <td>Genotypes Compound</td>\n",
       "      <td>0.0</td>\n",
       "      <td>0.000000</td>\n",
       "      <td>0.000000</td>\n",
       "      <td>0</td>\n",
       "      <td>0</td>\n",
       "      <td>117.50</td>\n",
       "      <td>0.305195</td>\n",
       "      <td>0.249469</td>\n",
       "      <td>7</td>\n",
       "      <td>57.14%</td>\n",
       "      <td>6</td>\n",
       "    </tr>\n",
       "    <tr>\n",
       "      <th>10</th>\n",
       "      <td>Region Defined Variant</td>\n",
       "      <td>0.0</td>\n",
       "      <td>0.000000</td>\n",
       "      <td>0.000000</td>\n",
       "      <td>0</td>\n",
       "      <td>0</td>\n",
       "      <td>8353.50</td>\n",
       "      <td>21.697403</td>\n",
       "      <td>17.735669</td>\n",
       "      <td>976</td>\n",
       "      <td>57.17%</td>\n",
       "      <td>209</td>\n",
       "    </tr>\n",
       "    <tr>\n",
       "      <th>11</th>\n",
       "      <td>Transcript Variant</td>\n",
       "      <td>0.0</td>\n",
       "      <td>0.000000</td>\n",
       "      <td>0.000000</td>\n",
       "      <td>0</td>\n",
       "      <td>0</td>\n",
       "      <td>356.50</td>\n",
       "      <td>0.925974</td>\n",
       "      <td>0.756900</td>\n",
       "      <td>471</td>\n",
       "      <td>11.46%</td>\n",
       "      <td>385</td>\n",
       "    </tr>\n",
       "  </tbody>\n",
       "</table>\n",
       "</div>"
      ],
      "text/plain": [
       "                   Category  MOA Total Sum Impact Score   \n",
       "0                Expression                        11.0  \\\n",
       "1   Epigenetic Modification                         0.0   \n",
       "2                    Fusion                         0.0   \n",
       "3       Protein Consequence                      1054.5   \n",
       "4             Gene Function                         0.0   \n",
       "5            Rearrangements                       291.0   \n",
       "6               Copy Number                        44.5   \n",
       "7                     Other                        32.5   \n",
       "8            Genotypes Easy                         0.0   \n",
       "9        Genotypes Compound                         0.0   \n",
       "10   Region Defined Variant                         0.0   \n",
       "11       Transcript Variant                         0.0   \n",
       "\n",
       "    Average Impact Score per Feature  Average Impact Score per Assertion   \n",
       "0                           1.000000                            1.000000  \\\n",
       "1                           0.000000                            0.000000   \n",
       "2                           0.000000                            0.000000   \n",
       "3                           6.239645                            6.239645   \n",
       "4                           0.000000                            0.000000   \n",
       "5                           7.657895                            7.657895   \n",
       "6                           2.617647                            2.617647   \n",
       "7                           3.611111                            3.611111   \n",
       "8                           0.000000                            0.000000   \n",
       "9                           0.000000                            0.000000   \n",
       "10                          0.000000                            0.000000   \n",
       "11                          0.000000                            0.000000   \n",
       "\n",
       "    Total Number Assertions  Total Number Features   \n",
       "0                        12                     11  \\\n",
       "1                         0                      0   \n",
       "2                         0                      0   \n",
       "3                       419                    169   \n",
       "4                         0                      0   \n",
       "5                        81                     38   \n",
       "6                        29                     17   \n",
       "7                        23                      9   \n",
       "8                         0                      0   \n",
       "9                         0                      0   \n",
       "10                        0                      0   \n",
       "11                        0                      0   \n",
       "\n",
       "    CIVIC Total Sum Impact Score  Average Impact Score per Variant   \n",
       "0                        3618.00                          9.397403  \\\n",
       "1                         285.50                          0.741558   \n",
       "2                        6600.75                         17.144805   \n",
       "3                        2683.75                          6.970779   \n",
       "4                        1805.50                          4.689610   \n",
       "5                         653.00                          1.696104   \n",
       "6                         225.00                          0.584416   \n",
       "7                         673.50                          1.749351   \n",
       "8                         195.00                          0.506494   \n",
       "9                         117.50                          0.305195   \n",
       "10                       8353.50                         21.697403   \n",
       "11                        356.50                          0.925974   \n",
       "\n",
       "    Average Impact Score per Evidence Item  Total Number Evidence Items   \n",
       "0                                 7.681529                          618  \\\n",
       "1                                 0.606157                           24   \n",
       "2                                14.014331                         1239   \n",
       "3                                 5.697983                          301   \n",
       "4                                 3.833333                          348   \n",
       "5                                 1.386412                          136   \n",
       "6                                 0.477707                           64   \n",
       "7                                 1.429936                          162   \n",
       "8                                 0.414013                           23   \n",
       "9                                 0.249469                            7   \n",
       "10                               17.735669                          976   \n",
       "11                                0.756900                          471   \n",
       "\n",
       "   % Accepted Evidence Items  Total Number Variants  \n",
       "0                     55.34%                    291  \n",
       "1                     91.67%                     15  \n",
       "2                     59.48%                    308  \n",
       "3                     63.46%                    128  \n",
       "4                     44.25%                     90  \n",
       "5                     38.97%                     52  \n",
       "6                     42.19%                     34  \n",
       "7                     37.04%                     93  \n",
       "8                     56.52%                     11  \n",
       "9                     57.14%                      6  \n",
       "10                    57.17%                    209  \n",
       "11                    11.46%                    385  "
      ]
     },
     "execution_count": 88,
     "metadata": {},
     "output_type": "execute_result"
    }
   ],
   "source": [
    "merged_not_supported_impact_df = pd.merge(not_supported_feature_impact_df, not_supported_variant_impact_df, on='Category')\n",
    "merged_not_supported_impact_df"
   ]
  },
  {
   "cell_type": "code",
   "execution_count": 89,
   "metadata": {},
   "outputs": [
    {
     "data": {
      "text/html": [
       "<div>\n",
       "<style scoped>\n",
       "    .dataframe tbody tr th:only-of-type {\n",
       "        vertical-align: middle;\n",
       "    }\n",
       "\n",
       "    .dataframe tbody tr th {\n",
       "        vertical-align: top;\n",
       "    }\n",
       "\n",
       "    .dataframe thead th {\n",
       "        text-align: right;\n",
       "    }\n",
       "</style>\n",
       "<table border=\"1\" class=\"dataframe\">\n",
       "  <thead>\n",
       "    <tr style=\"text-align: right;\">\n",
       "      <th></th>\n",
       "      <th>Category</th>\n",
       "      <th>MOA Total Sum Impact Score</th>\n",
       "      <th>Average Impact Score per Feature</th>\n",
       "      <th>Average Impact Score per Assertion</th>\n",
       "      <th>Total Number Assertions</th>\n",
       "      <th>Total Number Features</th>\n",
       "      <th>CIVIC Total Sum Impact Score</th>\n",
       "      <th>Average Impact Score per Variant</th>\n",
       "      <th>Average Impact Score per Evidence Item</th>\n",
       "      <th>Total Number Evidence Items</th>\n",
       "      <th>% Accepted Evidence Items</th>\n",
       "      <th>Total Number Variants</th>\n",
       "      <th>Sum Evidence Items</th>\n",
       "    </tr>\n",
       "  </thead>\n",
       "  <tbody>\n",
       "    <tr>\n",
       "      <th>0</th>\n",
       "      <td>Expression</td>\n",
       "      <td>11.0</td>\n",
       "      <td>1.000000</td>\n",
       "      <td>1.000000</td>\n",
       "      <td>12</td>\n",
       "      <td>11</td>\n",
       "      <td>3618.00</td>\n",
       "      <td>9.397403</td>\n",
       "      <td>7.681529</td>\n",
       "      <td>618</td>\n",
       "      <td>55.34%</td>\n",
       "      <td>291</td>\n",
       "      <td>630</td>\n",
       "    </tr>\n",
       "    <tr>\n",
       "      <th>1</th>\n",
       "      <td>Epigenetic Modification</td>\n",
       "      <td>0.0</td>\n",
       "      <td>0.000000</td>\n",
       "      <td>0.000000</td>\n",
       "      <td>0</td>\n",
       "      <td>0</td>\n",
       "      <td>285.50</td>\n",
       "      <td>0.741558</td>\n",
       "      <td>0.606157</td>\n",
       "      <td>24</td>\n",
       "      <td>91.67%</td>\n",
       "      <td>15</td>\n",
       "      <td>24</td>\n",
       "    </tr>\n",
       "    <tr>\n",
       "      <th>2</th>\n",
       "      <td>Fusion</td>\n",
       "      <td>0.0</td>\n",
       "      <td>0.000000</td>\n",
       "      <td>0.000000</td>\n",
       "      <td>0</td>\n",
       "      <td>0</td>\n",
       "      <td>6600.75</td>\n",
       "      <td>17.144805</td>\n",
       "      <td>14.014331</td>\n",
       "      <td>1239</td>\n",
       "      <td>59.48%</td>\n",
       "      <td>308</td>\n",
       "      <td>1239</td>\n",
       "    </tr>\n",
       "    <tr>\n",
       "      <th>3</th>\n",
       "      <td>Protein Consequence</td>\n",
       "      <td>1054.5</td>\n",
       "      <td>6.239645</td>\n",
       "      <td>6.239645</td>\n",
       "      <td>419</td>\n",
       "      <td>169</td>\n",
       "      <td>2683.75</td>\n",
       "      <td>6.970779</td>\n",
       "      <td>5.697983</td>\n",
       "      <td>301</td>\n",
       "      <td>63.46%</td>\n",
       "      <td>128</td>\n",
       "      <td>720</td>\n",
       "    </tr>\n",
       "    <tr>\n",
       "      <th>4</th>\n",
       "      <td>Gene Function</td>\n",
       "      <td>0.0</td>\n",
       "      <td>0.000000</td>\n",
       "      <td>0.000000</td>\n",
       "      <td>0</td>\n",
       "      <td>0</td>\n",
       "      <td>1805.50</td>\n",
       "      <td>4.689610</td>\n",
       "      <td>3.833333</td>\n",
       "      <td>348</td>\n",
       "      <td>44.25%</td>\n",
       "      <td>90</td>\n",
       "      <td>348</td>\n",
       "    </tr>\n",
       "    <tr>\n",
       "      <th>5</th>\n",
       "      <td>Rearrangements</td>\n",
       "      <td>291.0</td>\n",
       "      <td>7.657895</td>\n",
       "      <td>7.657895</td>\n",
       "      <td>81</td>\n",
       "      <td>38</td>\n",
       "      <td>653.00</td>\n",
       "      <td>1.696104</td>\n",
       "      <td>1.386412</td>\n",
       "      <td>136</td>\n",
       "      <td>38.97%</td>\n",
       "      <td>52</td>\n",
       "      <td>217</td>\n",
       "    </tr>\n",
       "    <tr>\n",
       "      <th>6</th>\n",
       "      <td>Copy Number</td>\n",
       "      <td>44.5</td>\n",
       "      <td>2.617647</td>\n",
       "      <td>2.617647</td>\n",
       "      <td>29</td>\n",
       "      <td>17</td>\n",
       "      <td>225.00</td>\n",
       "      <td>0.584416</td>\n",
       "      <td>0.477707</td>\n",
       "      <td>64</td>\n",
       "      <td>42.19%</td>\n",
       "      <td>34</td>\n",
       "      <td>93</td>\n",
       "    </tr>\n",
       "    <tr>\n",
       "      <th>7</th>\n",
       "      <td>Other</td>\n",
       "      <td>32.5</td>\n",
       "      <td>3.611111</td>\n",
       "      <td>3.611111</td>\n",
       "      <td>23</td>\n",
       "      <td>9</td>\n",
       "      <td>673.50</td>\n",
       "      <td>1.749351</td>\n",
       "      <td>1.429936</td>\n",
       "      <td>162</td>\n",
       "      <td>37.04%</td>\n",
       "      <td>93</td>\n",
       "      <td>185</td>\n",
       "    </tr>\n",
       "    <tr>\n",
       "      <th>8</th>\n",
       "      <td>Genotypes Easy</td>\n",
       "      <td>0.0</td>\n",
       "      <td>0.000000</td>\n",
       "      <td>0.000000</td>\n",
       "      <td>0</td>\n",
       "      <td>0</td>\n",
       "      <td>195.00</td>\n",
       "      <td>0.506494</td>\n",
       "      <td>0.414013</td>\n",
       "      <td>23</td>\n",
       "      <td>56.52%</td>\n",
       "      <td>11</td>\n",
       "      <td>23</td>\n",
       "    </tr>\n",
       "    <tr>\n",
       "      <th>9</th>\n",
       "      <td>Genotypes Compound</td>\n",
       "      <td>0.0</td>\n",
       "      <td>0.000000</td>\n",
       "      <td>0.000000</td>\n",
       "      <td>0</td>\n",
       "      <td>0</td>\n",
       "      <td>117.50</td>\n",
       "      <td>0.305195</td>\n",
       "      <td>0.249469</td>\n",
       "      <td>7</td>\n",
       "      <td>57.14%</td>\n",
       "      <td>6</td>\n",
       "      <td>7</td>\n",
       "    </tr>\n",
       "    <tr>\n",
       "      <th>10</th>\n",
       "      <td>Region Defined Variant</td>\n",
       "      <td>0.0</td>\n",
       "      <td>0.000000</td>\n",
       "      <td>0.000000</td>\n",
       "      <td>0</td>\n",
       "      <td>0</td>\n",
       "      <td>8353.50</td>\n",
       "      <td>21.697403</td>\n",
       "      <td>17.735669</td>\n",
       "      <td>976</td>\n",
       "      <td>57.17%</td>\n",
       "      <td>209</td>\n",
       "      <td>976</td>\n",
       "    </tr>\n",
       "    <tr>\n",
       "      <th>11</th>\n",
       "      <td>Transcript Variant</td>\n",
       "      <td>0.0</td>\n",
       "      <td>0.000000</td>\n",
       "      <td>0.000000</td>\n",
       "      <td>0</td>\n",
       "      <td>0</td>\n",
       "      <td>356.50</td>\n",
       "      <td>0.925974</td>\n",
       "      <td>0.756900</td>\n",
       "      <td>471</td>\n",
       "      <td>11.46%</td>\n",
       "      <td>385</td>\n",
       "      <td>471</td>\n",
       "    </tr>\n",
       "  </tbody>\n",
       "</table>\n",
       "</div>"
      ],
      "text/plain": [
       "                   Category  MOA Total Sum Impact Score   \n",
       "0                Expression                        11.0  \\\n",
       "1   Epigenetic Modification                         0.0   \n",
       "2                    Fusion                         0.0   \n",
       "3       Protein Consequence                      1054.5   \n",
       "4             Gene Function                         0.0   \n",
       "5            Rearrangements                       291.0   \n",
       "6               Copy Number                        44.5   \n",
       "7                     Other                        32.5   \n",
       "8            Genotypes Easy                         0.0   \n",
       "9        Genotypes Compound                         0.0   \n",
       "10   Region Defined Variant                         0.0   \n",
       "11       Transcript Variant                         0.0   \n",
       "\n",
       "    Average Impact Score per Feature  Average Impact Score per Assertion   \n",
       "0                           1.000000                            1.000000  \\\n",
       "1                           0.000000                            0.000000   \n",
       "2                           0.000000                            0.000000   \n",
       "3                           6.239645                            6.239645   \n",
       "4                           0.000000                            0.000000   \n",
       "5                           7.657895                            7.657895   \n",
       "6                           2.617647                            2.617647   \n",
       "7                           3.611111                            3.611111   \n",
       "8                           0.000000                            0.000000   \n",
       "9                           0.000000                            0.000000   \n",
       "10                          0.000000                            0.000000   \n",
       "11                          0.000000                            0.000000   \n",
       "\n",
       "    Total Number Assertions  Total Number Features   \n",
       "0                        12                     11  \\\n",
       "1                         0                      0   \n",
       "2                         0                      0   \n",
       "3                       419                    169   \n",
       "4                         0                      0   \n",
       "5                        81                     38   \n",
       "6                        29                     17   \n",
       "7                        23                      9   \n",
       "8                         0                      0   \n",
       "9                         0                      0   \n",
       "10                        0                      0   \n",
       "11                        0                      0   \n",
       "\n",
       "    CIVIC Total Sum Impact Score  Average Impact Score per Variant   \n",
       "0                        3618.00                          9.397403  \\\n",
       "1                         285.50                          0.741558   \n",
       "2                        6600.75                         17.144805   \n",
       "3                        2683.75                          6.970779   \n",
       "4                        1805.50                          4.689610   \n",
       "5                         653.00                          1.696104   \n",
       "6                         225.00                          0.584416   \n",
       "7                         673.50                          1.749351   \n",
       "8                         195.00                          0.506494   \n",
       "9                         117.50                          0.305195   \n",
       "10                       8353.50                         21.697403   \n",
       "11                        356.50                          0.925974   \n",
       "\n",
       "    Average Impact Score per Evidence Item  Total Number Evidence Items   \n",
       "0                                 7.681529                          618  \\\n",
       "1                                 0.606157                           24   \n",
       "2                                14.014331                         1239   \n",
       "3                                 5.697983                          301   \n",
       "4                                 3.833333                          348   \n",
       "5                                 1.386412                          136   \n",
       "6                                 0.477707                           64   \n",
       "7                                 1.429936                          162   \n",
       "8                                 0.414013                           23   \n",
       "9                                 0.249469                            7   \n",
       "10                               17.735669                          976   \n",
       "11                                0.756900                          471   \n",
       "\n",
       "   % Accepted Evidence Items  Total Number Variants  Sum Evidence Items  \n",
       "0                     55.34%                    291                 630  \n",
       "1                     91.67%                     15                  24  \n",
       "2                     59.48%                    308                1239  \n",
       "3                     63.46%                    128                 720  \n",
       "4                     44.25%                     90                 348  \n",
       "5                     38.97%                     52                 217  \n",
       "6                     42.19%                     34                  93  \n",
       "7                     37.04%                     93                 185  \n",
       "8                     56.52%                     11                  23  \n",
       "9                     57.14%                      6                   7  \n",
       "10                    57.17%                    209                 976  \n",
       "11                    11.46%                    385                 471  "
      ]
     },
     "execution_count": 89,
     "metadata": {},
     "output_type": "execute_result"
    }
   ],
   "source": [
    "merged_not_supported_impact_df['Sum Evidence Items'] = merged_not_supported_impact_df['Total Number Evidence Items']+merged_not_supported_impact_df['Total Number Assertions']\n",
    "merged_not_supported_impact_df"
   ]
  },
  {
   "cell_type": "code",
   "execution_count": 90,
   "metadata": {},
   "outputs": [
    {
     "data": {
      "text/html": [
       "<div>\n",
       "<style scoped>\n",
       "    .dataframe tbody tr th:only-of-type {\n",
       "        vertical-align: middle;\n",
       "    }\n",
       "\n",
       "    .dataframe tbody tr th {\n",
       "        vertical-align: top;\n",
       "    }\n",
       "\n",
       "    .dataframe thead th {\n",
       "        text-align: right;\n",
       "    }\n",
       "</style>\n",
       "<table border=\"1\" class=\"dataframe\">\n",
       "  <thead>\n",
       "    <tr style=\"text-align: right;\">\n",
       "      <th></th>\n",
       "      <th>Category</th>\n",
       "      <th>MOA Total Sum Impact Score</th>\n",
       "      <th>Average Impact Score per Feature</th>\n",
       "      <th>Average Impact Score per Assertion</th>\n",
       "      <th>Total Number Assertions</th>\n",
       "      <th>Total Number Features</th>\n",
       "      <th>CIVIC Total Sum Impact Score</th>\n",
       "      <th>Average Impact Score per Variant</th>\n",
       "      <th>Average Impact Score per Evidence Item</th>\n",
       "      <th>Total Number Evidence Items</th>\n",
       "      <th>% Accepted Evidence Items</th>\n",
       "      <th>Total Number Variants</th>\n",
       "      <th>Sum Evidence Items</th>\n",
       "      <th>Sum Variants</th>\n",
       "    </tr>\n",
       "  </thead>\n",
       "  <tbody>\n",
       "    <tr>\n",
       "      <th>0</th>\n",
       "      <td>Expression</td>\n",
       "      <td>11.0</td>\n",
       "      <td>1.000000</td>\n",
       "      <td>1.000000</td>\n",
       "      <td>12</td>\n",
       "      <td>11</td>\n",
       "      <td>3618.00</td>\n",
       "      <td>9.397403</td>\n",
       "      <td>7.681529</td>\n",
       "      <td>618</td>\n",
       "      <td>55.34%</td>\n",
       "      <td>291</td>\n",
       "      <td>630</td>\n",
       "      <td>302</td>\n",
       "    </tr>\n",
       "    <tr>\n",
       "      <th>1</th>\n",
       "      <td>Epigenetic Modification</td>\n",
       "      <td>0.0</td>\n",
       "      <td>0.000000</td>\n",
       "      <td>0.000000</td>\n",
       "      <td>0</td>\n",
       "      <td>0</td>\n",
       "      <td>285.50</td>\n",
       "      <td>0.741558</td>\n",
       "      <td>0.606157</td>\n",
       "      <td>24</td>\n",
       "      <td>91.67%</td>\n",
       "      <td>15</td>\n",
       "      <td>24</td>\n",
       "      <td>15</td>\n",
       "    </tr>\n",
       "    <tr>\n",
       "      <th>2</th>\n",
       "      <td>Fusion</td>\n",
       "      <td>0.0</td>\n",
       "      <td>0.000000</td>\n",
       "      <td>0.000000</td>\n",
       "      <td>0</td>\n",
       "      <td>0</td>\n",
       "      <td>6600.75</td>\n",
       "      <td>17.144805</td>\n",
       "      <td>14.014331</td>\n",
       "      <td>1239</td>\n",
       "      <td>59.48%</td>\n",
       "      <td>308</td>\n",
       "      <td>1239</td>\n",
       "      <td>308</td>\n",
       "    </tr>\n",
       "    <tr>\n",
       "      <th>3</th>\n",
       "      <td>Protein Consequence</td>\n",
       "      <td>1054.5</td>\n",
       "      <td>6.239645</td>\n",
       "      <td>6.239645</td>\n",
       "      <td>419</td>\n",
       "      <td>169</td>\n",
       "      <td>2683.75</td>\n",
       "      <td>6.970779</td>\n",
       "      <td>5.697983</td>\n",
       "      <td>301</td>\n",
       "      <td>63.46%</td>\n",
       "      <td>128</td>\n",
       "      <td>720</td>\n",
       "      <td>297</td>\n",
       "    </tr>\n",
       "    <tr>\n",
       "      <th>4</th>\n",
       "      <td>Gene Function</td>\n",
       "      <td>0.0</td>\n",
       "      <td>0.000000</td>\n",
       "      <td>0.000000</td>\n",
       "      <td>0</td>\n",
       "      <td>0</td>\n",
       "      <td>1805.50</td>\n",
       "      <td>4.689610</td>\n",
       "      <td>3.833333</td>\n",
       "      <td>348</td>\n",
       "      <td>44.25%</td>\n",
       "      <td>90</td>\n",
       "      <td>348</td>\n",
       "      <td>90</td>\n",
       "    </tr>\n",
       "    <tr>\n",
       "      <th>5</th>\n",
       "      <td>Rearrangements</td>\n",
       "      <td>291.0</td>\n",
       "      <td>7.657895</td>\n",
       "      <td>7.657895</td>\n",
       "      <td>81</td>\n",
       "      <td>38</td>\n",
       "      <td>653.00</td>\n",
       "      <td>1.696104</td>\n",
       "      <td>1.386412</td>\n",
       "      <td>136</td>\n",
       "      <td>38.97%</td>\n",
       "      <td>52</td>\n",
       "      <td>217</td>\n",
       "      <td>90</td>\n",
       "    </tr>\n",
       "    <tr>\n",
       "      <th>6</th>\n",
       "      <td>Copy Number</td>\n",
       "      <td>44.5</td>\n",
       "      <td>2.617647</td>\n",
       "      <td>2.617647</td>\n",
       "      <td>29</td>\n",
       "      <td>17</td>\n",
       "      <td>225.00</td>\n",
       "      <td>0.584416</td>\n",
       "      <td>0.477707</td>\n",
       "      <td>64</td>\n",
       "      <td>42.19%</td>\n",
       "      <td>34</td>\n",
       "      <td>93</td>\n",
       "      <td>51</td>\n",
       "    </tr>\n",
       "    <tr>\n",
       "      <th>7</th>\n",
       "      <td>Other</td>\n",
       "      <td>32.5</td>\n",
       "      <td>3.611111</td>\n",
       "      <td>3.611111</td>\n",
       "      <td>23</td>\n",
       "      <td>9</td>\n",
       "      <td>673.50</td>\n",
       "      <td>1.749351</td>\n",
       "      <td>1.429936</td>\n",
       "      <td>162</td>\n",
       "      <td>37.04%</td>\n",
       "      <td>93</td>\n",
       "      <td>185</td>\n",
       "      <td>102</td>\n",
       "    </tr>\n",
       "    <tr>\n",
       "      <th>8</th>\n",
       "      <td>Genotypes Easy</td>\n",
       "      <td>0.0</td>\n",
       "      <td>0.000000</td>\n",
       "      <td>0.000000</td>\n",
       "      <td>0</td>\n",
       "      <td>0</td>\n",
       "      <td>195.00</td>\n",
       "      <td>0.506494</td>\n",
       "      <td>0.414013</td>\n",
       "      <td>23</td>\n",
       "      <td>56.52%</td>\n",
       "      <td>11</td>\n",
       "      <td>23</td>\n",
       "      <td>11</td>\n",
       "    </tr>\n",
       "    <tr>\n",
       "      <th>9</th>\n",
       "      <td>Genotypes Compound</td>\n",
       "      <td>0.0</td>\n",
       "      <td>0.000000</td>\n",
       "      <td>0.000000</td>\n",
       "      <td>0</td>\n",
       "      <td>0</td>\n",
       "      <td>117.50</td>\n",
       "      <td>0.305195</td>\n",
       "      <td>0.249469</td>\n",
       "      <td>7</td>\n",
       "      <td>57.14%</td>\n",
       "      <td>6</td>\n",
       "      <td>7</td>\n",
       "      <td>6</td>\n",
       "    </tr>\n",
       "    <tr>\n",
       "      <th>10</th>\n",
       "      <td>Region Defined Variant</td>\n",
       "      <td>0.0</td>\n",
       "      <td>0.000000</td>\n",
       "      <td>0.000000</td>\n",
       "      <td>0</td>\n",
       "      <td>0</td>\n",
       "      <td>8353.50</td>\n",
       "      <td>21.697403</td>\n",
       "      <td>17.735669</td>\n",
       "      <td>976</td>\n",
       "      <td>57.17%</td>\n",
       "      <td>209</td>\n",
       "      <td>976</td>\n",
       "      <td>209</td>\n",
       "    </tr>\n",
       "    <tr>\n",
       "      <th>11</th>\n",
       "      <td>Transcript Variant</td>\n",
       "      <td>0.0</td>\n",
       "      <td>0.000000</td>\n",
       "      <td>0.000000</td>\n",
       "      <td>0</td>\n",
       "      <td>0</td>\n",
       "      <td>356.50</td>\n",
       "      <td>0.925974</td>\n",
       "      <td>0.756900</td>\n",
       "      <td>471</td>\n",
       "      <td>11.46%</td>\n",
       "      <td>385</td>\n",
       "      <td>471</td>\n",
       "      <td>385</td>\n",
       "    </tr>\n",
       "  </tbody>\n",
       "</table>\n",
       "</div>"
      ],
      "text/plain": [
       "                   Category  MOA Total Sum Impact Score   \n",
       "0                Expression                        11.0  \\\n",
       "1   Epigenetic Modification                         0.0   \n",
       "2                    Fusion                         0.0   \n",
       "3       Protein Consequence                      1054.5   \n",
       "4             Gene Function                         0.0   \n",
       "5            Rearrangements                       291.0   \n",
       "6               Copy Number                        44.5   \n",
       "7                     Other                        32.5   \n",
       "8            Genotypes Easy                         0.0   \n",
       "9        Genotypes Compound                         0.0   \n",
       "10   Region Defined Variant                         0.0   \n",
       "11       Transcript Variant                         0.0   \n",
       "\n",
       "    Average Impact Score per Feature  Average Impact Score per Assertion   \n",
       "0                           1.000000                            1.000000  \\\n",
       "1                           0.000000                            0.000000   \n",
       "2                           0.000000                            0.000000   \n",
       "3                           6.239645                            6.239645   \n",
       "4                           0.000000                            0.000000   \n",
       "5                           7.657895                            7.657895   \n",
       "6                           2.617647                            2.617647   \n",
       "7                           3.611111                            3.611111   \n",
       "8                           0.000000                            0.000000   \n",
       "9                           0.000000                            0.000000   \n",
       "10                          0.000000                            0.000000   \n",
       "11                          0.000000                            0.000000   \n",
       "\n",
       "    Total Number Assertions  Total Number Features   \n",
       "0                        12                     11  \\\n",
       "1                         0                      0   \n",
       "2                         0                      0   \n",
       "3                       419                    169   \n",
       "4                         0                      0   \n",
       "5                        81                     38   \n",
       "6                        29                     17   \n",
       "7                        23                      9   \n",
       "8                         0                      0   \n",
       "9                         0                      0   \n",
       "10                        0                      0   \n",
       "11                        0                      0   \n",
       "\n",
       "    CIVIC Total Sum Impact Score  Average Impact Score per Variant   \n",
       "0                        3618.00                          9.397403  \\\n",
       "1                         285.50                          0.741558   \n",
       "2                        6600.75                         17.144805   \n",
       "3                        2683.75                          6.970779   \n",
       "4                        1805.50                          4.689610   \n",
       "5                         653.00                          1.696104   \n",
       "6                         225.00                          0.584416   \n",
       "7                         673.50                          1.749351   \n",
       "8                         195.00                          0.506494   \n",
       "9                         117.50                          0.305195   \n",
       "10                       8353.50                         21.697403   \n",
       "11                        356.50                          0.925974   \n",
       "\n",
       "    Average Impact Score per Evidence Item  Total Number Evidence Items   \n",
       "0                                 7.681529                          618  \\\n",
       "1                                 0.606157                           24   \n",
       "2                                14.014331                         1239   \n",
       "3                                 5.697983                          301   \n",
       "4                                 3.833333                          348   \n",
       "5                                 1.386412                          136   \n",
       "6                                 0.477707                           64   \n",
       "7                                 1.429936                          162   \n",
       "8                                 0.414013                           23   \n",
       "9                                 0.249469                            7   \n",
       "10                               17.735669                          976   \n",
       "11                                0.756900                          471   \n",
       "\n",
       "   % Accepted Evidence Items  Total Number Variants  Sum Evidence Items   \n",
       "0                     55.34%                    291                 630  \\\n",
       "1                     91.67%                     15                  24   \n",
       "2                     59.48%                    308                1239   \n",
       "3                     63.46%                    128                 720   \n",
       "4                     44.25%                     90                 348   \n",
       "5                     38.97%                     52                 217   \n",
       "6                     42.19%                     34                  93   \n",
       "7                     37.04%                     93                 185   \n",
       "8                     56.52%                     11                  23   \n",
       "9                     57.14%                      6                   7   \n",
       "10                    57.17%                    209                 976   \n",
       "11                    11.46%                    385                 471   \n",
       "\n",
       "    Sum Variants  \n",
       "0            302  \n",
       "1             15  \n",
       "2            308  \n",
       "3            297  \n",
       "4             90  \n",
       "5             90  \n",
       "6             51  \n",
       "7            102  \n",
       "8             11  \n",
       "9              6  \n",
       "10           209  \n",
       "11           385  "
      ]
     },
     "execution_count": 90,
     "metadata": {},
     "output_type": "execute_result"
    }
   ],
   "source": [
    "merged_not_supported_impact_df['Sum Variants'] = merged_not_supported_impact_df['Total Number Variants']+merged_not_supported_impact_df['Total Number Features']\n",
    "merged_not_supported_impact_df"
   ]
  },
  {
   "cell_type": "code",
   "execution_count": 91,
   "metadata": {},
   "outputs": [
    {
     "data": {
      "text/html": [
       "<div>\n",
       "<style scoped>\n",
       "    .dataframe tbody tr th:only-of-type {\n",
       "        vertical-align: middle;\n",
       "    }\n",
       "\n",
       "    .dataframe tbody tr th {\n",
       "        vertical-align: top;\n",
       "    }\n",
       "\n",
       "    .dataframe thead th {\n",
       "        text-align: right;\n",
       "    }\n",
       "</style>\n",
       "<table border=\"1\" class=\"dataframe\">\n",
       "  <thead>\n",
       "    <tr style=\"text-align: right;\">\n",
       "      <th></th>\n",
       "      <th>Category</th>\n",
       "      <th>MOA Total Sum Impact Score</th>\n",
       "      <th>Average Impact Score per Feature</th>\n",
       "      <th>Average Impact Score per Assertion</th>\n",
       "      <th>Total Number Assertions</th>\n",
       "      <th>Total Number Features</th>\n",
       "      <th>CIVIC Total Sum Impact Score</th>\n",
       "      <th>Average Impact Score per Variant</th>\n",
       "      <th>Average Impact Score per Evidence Item</th>\n",
       "      <th>Total Number Evidence Items</th>\n",
       "      <th>% Accepted Evidence Items</th>\n",
       "      <th>Total Number Variants</th>\n",
       "      <th>Sum Evidence Items</th>\n",
       "      <th>Sum Variants</th>\n",
       "      <th>Sum Impact Score</th>\n",
       "    </tr>\n",
       "  </thead>\n",
       "  <tbody>\n",
       "    <tr>\n",
       "      <th>0</th>\n",
       "      <td>Expression</td>\n",
       "      <td>11.0</td>\n",
       "      <td>1.000000</td>\n",
       "      <td>1.000000</td>\n",
       "      <td>12</td>\n",
       "      <td>11</td>\n",
       "      <td>3618.00</td>\n",
       "      <td>9.397403</td>\n",
       "      <td>7.681529</td>\n",
       "      <td>618</td>\n",
       "      <td>55.34%</td>\n",
       "      <td>291</td>\n",
       "      <td>630</td>\n",
       "      <td>302</td>\n",
       "      <td>3629.00</td>\n",
       "    </tr>\n",
       "    <tr>\n",
       "      <th>1</th>\n",
       "      <td>Epigenetic Modification</td>\n",
       "      <td>0.0</td>\n",
       "      <td>0.000000</td>\n",
       "      <td>0.000000</td>\n",
       "      <td>0</td>\n",
       "      <td>0</td>\n",
       "      <td>285.50</td>\n",
       "      <td>0.741558</td>\n",
       "      <td>0.606157</td>\n",
       "      <td>24</td>\n",
       "      <td>91.67%</td>\n",
       "      <td>15</td>\n",
       "      <td>24</td>\n",
       "      <td>15</td>\n",
       "      <td>285.50</td>\n",
       "    </tr>\n",
       "    <tr>\n",
       "      <th>2</th>\n",
       "      <td>Fusion</td>\n",
       "      <td>0.0</td>\n",
       "      <td>0.000000</td>\n",
       "      <td>0.000000</td>\n",
       "      <td>0</td>\n",
       "      <td>0</td>\n",
       "      <td>6600.75</td>\n",
       "      <td>17.144805</td>\n",
       "      <td>14.014331</td>\n",
       "      <td>1239</td>\n",
       "      <td>59.48%</td>\n",
       "      <td>308</td>\n",
       "      <td>1239</td>\n",
       "      <td>308</td>\n",
       "      <td>6600.75</td>\n",
       "    </tr>\n",
       "    <tr>\n",
       "      <th>3</th>\n",
       "      <td>Protein Consequence</td>\n",
       "      <td>1054.5</td>\n",
       "      <td>6.239645</td>\n",
       "      <td>6.239645</td>\n",
       "      <td>419</td>\n",
       "      <td>169</td>\n",
       "      <td>2683.75</td>\n",
       "      <td>6.970779</td>\n",
       "      <td>5.697983</td>\n",
       "      <td>301</td>\n",
       "      <td>63.46%</td>\n",
       "      <td>128</td>\n",
       "      <td>720</td>\n",
       "      <td>297</td>\n",
       "      <td>3738.25</td>\n",
       "    </tr>\n",
       "    <tr>\n",
       "      <th>4</th>\n",
       "      <td>Gene Function</td>\n",
       "      <td>0.0</td>\n",
       "      <td>0.000000</td>\n",
       "      <td>0.000000</td>\n",
       "      <td>0</td>\n",
       "      <td>0</td>\n",
       "      <td>1805.50</td>\n",
       "      <td>4.689610</td>\n",
       "      <td>3.833333</td>\n",
       "      <td>348</td>\n",
       "      <td>44.25%</td>\n",
       "      <td>90</td>\n",
       "      <td>348</td>\n",
       "      <td>90</td>\n",
       "      <td>1805.50</td>\n",
       "    </tr>\n",
       "    <tr>\n",
       "      <th>5</th>\n",
       "      <td>Rearrangements</td>\n",
       "      <td>291.0</td>\n",
       "      <td>7.657895</td>\n",
       "      <td>7.657895</td>\n",
       "      <td>81</td>\n",
       "      <td>38</td>\n",
       "      <td>653.00</td>\n",
       "      <td>1.696104</td>\n",
       "      <td>1.386412</td>\n",
       "      <td>136</td>\n",
       "      <td>38.97%</td>\n",
       "      <td>52</td>\n",
       "      <td>217</td>\n",
       "      <td>90</td>\n",
       "      <td>944.00</td>\n",
       "    </tr>\n",
       "    <tr>\n",
       "      <th>6</th>\n",
       "      <td>Copy Number</td>\n",
       "      <td>44.5</td>\n",
       "      <td>2.617647</td>\n",
       "      <td>2.617647</td>\n",
       "      <td>29</td>\n",
       "      <td>17</td>\n",
       "      <td>225.00</td>\n",
       "      <td>0.584416</td>\n",
       "      <td>0.477707</td>\n",
       "      <td>64</td>\n",
       "      <td>42.19%</td>\n",
       "      <td>34</td>\n",
       "      <td>93</td>\n",
       "      <td>51</td>\n",
       "      <td>269.50</td>\n",
       "    </tr>\n",
       "    <tr>\n",
       "      <th>7</th>\n",
       "      <td>Other</td>\n",
       "      <td>32.5</td>\n",
       "      <td>3.611111</td>\n",
       "      <td>3.611111</td>\n",
       "      <td>23</td>\n",
       "      <td>9</td>\n",
       "      <td>673.50</td>\n",
       "      <td>1.749351</td>\n",
       "      <td>1.429936</td>\n",
       "      <td>162</td>\n",
       "      <td>37.04%</td>\n",
       "      <td>93</td>\n",
       "      <td>185</td>\n",
       "      <td>102</td>\n",
       "      <td>706.00</td>\n",
       "    </tr>\n",
       "    <tr>\n",
       "      <th>8</th>\n",
       "      <td>Genotypes Easy</td>\n",
       "      <td>0.0</td>\n",
       "      <td>0.000000</td>\n",
       "      <td>0.000000</td>\n",
       "      <td>0</td>\n",
       "      <td>0</td>\n",
       "      <td>195.00</td>\n",
       "      <td>0.506494</td>\n",
       "      <td>0.414013</td>\n",
       "      <td>23</td>\n",
       "      <td>56.52%</td>\n",
       "      <td>11</td>\n",
       "      <td>23</td>\n",
       "      <td>11</td>\n",
       "      <td>195.00</td>\n",
       "    </tr>\n",
       "    <tr>\n",
       "      <th>9</th>\n",
       "      <td>Genotypes Compound</td>\n",
       "      <td>0.0</td>\n",
       "      <td>0.000000</td>\n",
       "      <td>0.000000</td>\n",
       "      <td>0</td>\n",
       "      <td>0</td>\n",
       "      <td>117.50</td>\n",
       "      <td>0.305195</td>\n",
       "      <td>0.249469</td>\n",
       "      <td>7</td>\n",
       "      <td>57.14%</td>\n",
       "      <td>6</td>\n",
       "      <td>7</td>\n",
       "      <td>6</td>\n",
       "      <td>117.50</td>\n",
       "    </tr>\n",
       "    <tr>\n",
       "      <th>10</th>\n",
       "      <td>Region Defined Variant</td>\n",
       "      <td>0.0</td>\n",
       "      <td>0.000000</td>\n",
       "      <td>0.000000</td>\n",
       "      <td>0</td>\n",
       "      <td>0</td>\n",
       "      <td>8353.50</td>\n",
       "      <td>21.697403</td>\n",
       "      <td>17.735669</td>\n",
       "      <td>976</td>\n",
       "      <td>57.17%</td>\n",
       "      <td>209</td>\n",
       "      <td>976</td>\n",
       "      <td>209</td>\n",
       "      <td>8353.50</td>\n",
       "    </tr>\n",
       "    <tr>\n",
       "      <th>11</th>\n",
       "      <td>Transcript Variant</td>\n",
       "      <td>0.0</td>\n",
       "      <td>0.000000</td>\n",
       "      <td>0.000000</td>\n",
       "      <td>0</td>\n",
       "      <td>0</td>\n",
       "      <td>356.50</td>\n",
       "      <td>0.925974</td>\n",
       "      <td>0.756900</td>\n",
       "      <td>471</td>\n",
       "      <td>11.46%</td>\n",
       "      <td>385</td>\n",
       "      <td>471</td>\n",
       "      <td>385</td>\n",
       "      <td>356.50</td>\n",
       "    </tr>\n",
       "  </tbody>\n",
       "</table>\n",
       "</div>"
      ],
      "text/plain": [
       "                   Category  MOA Total Sum Impact Score   \n",
       "0                Expression                        11.0  \\\n",
       "1   Epigenetic Modification                         0.0   \n",
       "2                    Fusion                         0.0   \n",
       "3       Protein Consequence                      1054.5   \n",
       "4             Gene Function                         0.0   \n",
       "5            Rearrangements                       291.0   \n",
       "6               Copy Number                        44.5   \n",
       "7                     Other                        32.5   \n",
       "8            Genotypes Easy                         0.0   \n",
       "9        Genotypes Compound                         0.0   \n",
       "10   Region Defined Variant                         0.0   \n",
       "11       Transcript Variant                         0.0   \n",
       "\n",
       "    Average Impact Score per Feature  Average Impact Score per Assertion   \n",
       "0                           1.000000                            1.000000  \\\n",
       "1                           0.000000                            0.000000   \n",
       "2                           0.000000                            0.000000   \n",
       "3                           6.239645                            6.239645   \n",
       "4                           0.000000                            0.000000   \n",
       "5                           7.657895                            7.657895   \n",
       "6                           2.617647                            2.617647   \n",
       "7                           3.611111                            3.611111   \n",
       "8                           0.000000                            0.000000   \n",
       "9                           0.000000                            0.000000   \n",
       "10                          0.000000                            0.000000   \n",
       "11                          0.000000                            0.000000   \n",
       "\n",
       "    Total Number Assertions  Total Number Features   \n",
       "0                        12                     11  \\\n",
       "1                         0                      0   \n",
       "2                         0                      0   \n",
       "3                       419                    169   \n",
       "4                         0                      0   \n",
       "5                        81                     38   \n",
       "6                        29                     17   \n",
       "7                        23                      9   \n",
       "8                         0                      0   \n",
       "9                         0                      0   \n",
       "10                        0                      0   \n",
       "11                        0                      0   \n",
       "\n",
       "    CIVIC Total Sum Impact Score  Average Impact Score per Variant   \n",
       "0                        3618.00                          9.397403  \\\n",
       "1                         285.50                          0.741558   \n",
       "2                        6600.75                         17.144805   \n",
       "3                        2683.75                          6.970779   \n",
       "4                        1805.50                          4.689610   \n",
       "5                         653.00                          1.696104   \n",
       "6                         225.00                          0.584416   \n",
       "7                         673.50                          1.749351   \n",
       "8                         195.00                          0.506494   \n",
       "9                         117.50                          0.305195   \n",
       "10                       8353.50                         21.697403   \n",
       "11                        356.50                          0.925974   \n",
       "\n",
       "    Average Impact Score per Evidence Item  Total Number Evidence Items   \n",
       "0                                 7.681529                          618  \\\n",
       "1                                 0.606157                           24   \n",
       "2                                14.014331                         1239   \n",
       "3                                 5.697983                          301   \n",
       "4                                 3.833333                          348   \n",
       "5                                 1.386412                          136   \n",
       "6                                 0.477707                           64   \n",
       "7                                 1.429936                          162   \n",
       "8                                 0.414013                           23   \n",
       "9                                 0.249469                            7   \n",
       "10                               17.735669                          976   \n",
       "11                                0.756900                          471   \n",
       "\n",
       "   % Accepted Evidence Items  Total Number Variants  Sum Evidence Items   \n",
       "0                     55.34%                    291                 630  \\\n",
       "1                     91.67%                     15                  24   \n",
       "2                     59.48%                    308                1239   \n",
       "3                     63.46%                    128                 720   \n",
       "4                     44.25%                     90                 348   \n",
       "5                     38.97%                     52                 217   \n",
       "6                     42.19%                     34                  93   \n",
       "7                     37.04%                     93                 185   \n",
       "8                     56.52%                     11                  23   \n",
       "9                     57.14%                      6                   7   \n",
       "10                    57.17%                    209                 976   \n",
       "11                    11.46%                    385                 471   \n",
       "\n",
       "    Sum Variants  Sum Impact Score  \n",
       "0            302           3629.00  \n",
       "1             15            285.50  \n",
       "2            308           6600.75  \n",
       "3            297           3738.25  \n",
       "4             90           1805.50  \n",
       "5             90            944.00  \n",
       "6             51            269.50  \n",
       "7            102            706.00  \n",
       "8             11            195.00  \n",
       "9              6            117.50  \n",
       "10           209           8353.50  \n",
       "11           385            356.50  "
      ]
     },
     "execution_count": 91,
     "metadata": {},
     "output_type": "execute_result"
    }
   ],
   "source": [
    "merged_not_supported_impact_df['Sum Impact Score'] = merged_not_supported_impact_df['CIVIC Total Sum Impact Score']+merged_not_supported_impact_df['MOA Total Sum Impact Score']\n",
    "merged_not_supported_impact_df"
   ]
  },
  {
   "cell_type": "code",
   "execution_count": 92,
   "metadata": {},
   "outputs": [
    {
     "data": {
      "text/html": [
       "<div>\n",
       "<style scoped>\n",
       "    .dataframe tbody tr th:only-of-type {\n",
       "        vertical-align: middle;\n",
       "    }\n",
       "\n",
       "    .dataframe tbody tr th {\n",
       "        vertical-align: top;\n",
       "    }\n",
       "\n",
       "    .dataframe thead th {\n",
       "        text-align: right;\n",
       "    }\n",
       "</style>\n",
       "<table border=\"1\" class=\"dataframe\">\n",
       "  <thead>\n",
       "    <tr style=\"text-align: right;\">\n",
       "      <th></th>\n",
       "      <th>Category</th>\n",
       "      <th>MOA Total Sum Impact Score</th>\n",
       "      <th>Average Impact Score per Feature</th>\n",
       "      <th>Average Impact Score per Assertion</th>\n",
       "      <th>Total Number Assertions</th>\n",
       "      <th>Total Number Features</th>\n",
       "      <th>CIVIC Total Sum Impact Score</th>\n",
       "      <th>Average Impact Score per Variant</th>\n",
       "      <th>Average Impact Score per Evidence Item</th>\n",
       "      <th>Total Number Evidence Items</th>\n",
       "      <th>% Accepted Evidence Items</th>\n",
       "      <th>Total Number Variants</th>\n",
       "      <th>Sum Evidence Items</th>\n",
       "      <th>Sum Variants</th>\n",
       "      <th>Sum Impact Score</th>\n",
       "      <th>Ratio of MOA Features to MOA+CIVIC per Category</th>\n",
       "    </tr>\n",
       "  </thead>\n",
       "  <tbody>\n",
       "    <tr>\n",
       "      <th>0</th>\n",
       "      <td>Expression</td>\n",
       "      <td>11.0</td>\n",
       "      <td>1.000000</td>\n",
       "      <td>1.000000</td>\n",
       "      <td>12</td>\n",
       "      <td>11</td>\n",
       "      <td>3618.00</td>\n",
       "      <td>9.397403</td>\n",
       "      <td>7.681529</td>\n",
       "      <td>618</td>\n",
       "      <td>55.34%</td>\n",
       "      <td>291</td>\n",
       "      <td>630</td>\n",
       "      <td>302</td>\n",
       "      <td>3629.00</td>\n",
       "      <td>0.036424</td>\n",
       "    </tr>\n",
       "    <tr>\n",
       "      <th>1</th>\n",
       "      <td>Epigenetic Modification</td>\n",
       "      <td>0.0</td>\n",
       "      <td>0.000000</td>\n",
       "      <td>0.000000</td>\n",
       "      <td>0</td>\n",
       "      <td>0</td>\n",
       "      <td>285.50</td>\n",
       "      <td>0.741558</td>\n",
       "      <td>0.606157</td>\n",
       "      <td>24</td>\n",
       "      <td>91.67%</td>\n",
       "      <td>15</td>\n",
       "      <td>24</td>\n",
       "      <td>15</td>\n",
       "      <td>285.50</td>\n",
       "      <td>0.000000</td>\n",
       "    </tr>\n",
       "    <tr>\n",
       "      <th>2</th>\n",
       "      <td>Fusion</td>\n",
       "      <td>0.0</td>\n",
       "      <td>0.000000</td>\n",
       "      <td>0.000000</td>\n",
       "      <td>0</td>\n",
       "      <td>0</td>\n",
       "      <td>6600.75</td>\n",
       "      <td>17.144805</td>\n",
       "      <td>14.014331</td>\n",
       "      <td>1239</td>\n",
       "      <td>59.48%</td>\n",
       "      <td>308</td>\n",
       "      <td>1239</td>\n",
       "      <td>308</td>\n",
       "      <td>6600.75</td>\n",
       "      <td>0.000000</td>\n",
       "    </tr>\n",
       "    <tr>\n",
       "      <th>3</th>\n",
       "      <td>Protein Consequence</td>\n",
       "      <td>1054.5</td>\n",
       "      <td>6.239645</td>\n",
       "      <td>6.239645</td>\n",
       "      <td>419</td>\n",
       "      <td>169</td>\n",
       "      <td>2683.75</td>\n",
       "      <td>6.970779</td>\n",
       "      <td>5.697983</td>\n",
       "      <td>301</td>\n",
       "      <td>63.46%</td>\n",
       "      <td>128</td>\n",
       "      <td>720</td>\n",
       "      <td>297</td>\n",
       "      <td>3738.25</td>\n",
       "      <td>0.569024</td>\n",
       "    </tr>\n",
       "    <tr>\n",
       "      <th>4</th>\n",
       "      <td>Gene Function</td>\n",
       "      <td>0.0</td>\n",
       "      <td>0.000000</td>\n",
       "      <td>0.000000</td>\n",
       "      <td>0</td>\n",
       "      <td>0</td>\n",
       "      <td>1805.50</td>\n",
       "      <td>4.689610</td>\n",
       "      <td>3.833333</td>\n",
       "      <td>348</td>\n",
       "      <td>44.25%</td>\n",
       "      <td>90</td>\n",
       "      <td>348</td>\n",
       "      <td>90</td>\n",
       "      <td>1805.50</td>\n",
       "      <td>0.000000</td>\n",
       "    </tr>\n",
       "    <tr>\n",
       "      <th>5</th>\n",
       "      <td>Rearrangements</td>\n",
       "      <td>291.0</td>\n",
       "      <td>7.657895</td>\n",
       "      <td>7.657895</td>\n",
       "      <td>81</td>\n",
       "      <td>38</td>\n",
       "      <td>653.00</td>\n",
       "      <td>1.696104</td>\n",
       "      <td>1.386412</td>\n",
       "      <td>136</td>\n",
       "      <td>38.97%</td>\n",
       "      <td>52</td>\n",
       "      <td>217</td>\n",
       "      <td>90</td>\n",
       "      <td>944.00</td>\n",
       "      <td>0.422222</td>\n",
       "    </tr>\n",
       "    <tr>\n",
       "      <th>6</th>\n",
       "      <td>Copy Number</td>\n",
       "      <td>44.5</td>\n",
       "      <td>2.617647</td>\n",
       "      <td>2.617647</td>\n",
       "      <td>29</td>\n",
       "      <td>17</td>\n",
       "      <td>225.00</td>\n",
       "      <td>0.584416</td>\n",
       "      <td>0.477707</td>\n",
       "      <td>64</td>\n",
       "      <td>42.19%</td>\n",
       "      <td>34</td>\n",
       "      <td>93</td>\n",
       "      <td>51</td>\n",
       "      <td>269.50</td>\n",
       "      <td>0.333333</td>\n",
       "    </tr>\n",
       "    <tr>\n",
       "      <th>7</th>\n",
       "      <td>Other</td>\n",
       "      <td>32.5</td>\n",
       "      <td>3.611111</td>\n",
       "      <td>3.611111</td>\n",
       "      <td>23</td>\n",
       "      <td>9</td>\n",
       "      <td>673.50</td>\n",
       "      <td>1.749351</td>\n",
       "      <td>1.429936</td>\n",
       "      <td>162</td>\n",
       "      <td>37.04%</td>\n",
       "      <td>93</td>\n",
       "      <td>185</td>\n",
       "      <td>102</td>\n",
       "      <td>706.00</td>\n",
       "      <td>0.088235</td>\n",
       "    </tr>\n",
       "    <tr>\n",
       "      <th>8</th>\n",
       "      <td>Genotypes Easy</td>\n",
       "      <td>0.0</td>\n",
       "      <td>0.000000</td>\n",
       "      <td>0.000000</td>\n",
       "      <td>0</td>\n",
       "      <td>0</td>\n",
       "      <td>195.00</td>\n",
       "      <td>0.506494</td>\n",
       "      <td>0.414013</td>\n",
       "      <td>23</td>\n",
       "      <td>56.52%</td>\n",
       "      <td>11</td>\n",
       "      <td>23</td>\n",
       "      <td>11</td>\n",
       "      <td>195.00</td>\n",
       "      <td>0.000000</td>\n",
       "    </tr>\n",
       "    <tr>\n",
       "      <th>9</th>\n",
       "      <td>Genotypes Compound</td>\n",
       "      <td>0.0</td>\n",
       "      <td>0.000000</td>\n",
       "      <td>0.000000</td>\n",
       "      <td>0</td>\n",
       "      <td>0</td>\n",
       "      <td>117.50</td>\n",
       "      <td>0.305195</td>\n",
       "      <td>0.249469</td>\n",
       "      <td>7</td>\n",
       "      <td>57.14%</td>\n",
       "      <td>6</td>\n",
       "      <td>7</td>\n",
       "      <td>6</td>\n",
       "      <td>117.50</td>\n",
       "      <td>0.000000</td>\n",
       "    </tr>\n",
       "    <tr>\n",
       "      <th>10</th>\n",
       "      <td>Region Defined Variant</td>\n",
       "      <td>0.0</td>\n",
       "      <td>0.000000</td>\n",
       "      <td>0.000000</td>\n",
       "      <td>0</td>\n",
       "      <td>0</td>\n",
       "      <td>8353.50</td>\n",
       "      <td>21.697403</td>\n",
       "      <td>17.735669</td>\n",
       "      <td>976</td>\n",
       "      <td>57.17%</td>\n",
       "      <td>209</td>\n",
       "      <td>976</td>\n",
       "      <td>209</td>\n",
       "      <td>8353.50</td>\n",
       "      <td>0.000000</td>\n",
       "    </tr>\n",
       "    <tr>\n",
       "      <th>11</th>\n",
       "      <td>Transcript Variant</td>\n",
       "      <td>0.0</td>\n",
       "      <td>0.000000</td>\n",
       "      <td>0.000000</td>\n",
       "      <td>0</td>\n",
       "      <td>0</td>\n",
       "      <td>356.50</td>\n",
       "      <td>0.925974</td>\n",
       "      <td>0.756900</td>\n",
       "      <td>471</td>\n",
       "      <td>11.46%</td>\n",
       "      <td>385</td>\n",
       "      <td>471</td>\n",
       "      <td>385</td>\n",
       "      <td>356.50</td>\n",
       "      <td>0.000000</td>\n",
       "    </tr>\n",
       "  </tbody>\n",
       "</table>\n",
       "</div>"
      ],
      "text/plain": [
       "                   Category  MOA Total Sum Impact Score   \n",
       "0                Expression                        11.0  \\\n",
       "1   Epigenetic Modification                         0.0   \n",
       "2                    Fusion                         0.0   \n",
       "3       Protein Consequence                      1054.5   \n",
       "4             Gene Function                         0.0   \n",
       "5            Rearrangements                       291.0   \n",
       "6               Copy Number                        44.5   \n",
       "7                     Other                        32.5   \n",
       "8            Genotypes Easy                         0.0   \n",
       "9        Genotypes Compound                         0.0   \n",
       "10   Region Defined Variant                         0.0   \n",
       "11       Transcript Variant                         0.0   \n",
       "\n",
       "    Average Impact Score per Feature  Average Impact Score per Assertion   \n",
       "0                           1.000000                            1.000000  \\\n",
       "1                           0.000000                            0.000000   \n",
       "2                           0.000000                            0.000000   \n",
       "3                           6.239645                            6.239645   \n",
       "4                           0.000000                            0.000000   \n",
       "5                           7.657895                            7.657895   \n",
       "6                           2.617647                            2.617647   \n",
       "7                           3.611111                            3.611111   \n",
       "8                           0.000000                            0.000000   \n",
       "9                           0.000000                            0.000000   \n",
       "10                          0.000000                            0.000000   \n",
       "11                          0.000000                            0.000000   \n",
       "\n",
       "    Total Number Assertions  Total Number Features   \n",
       "0                        12                     11  \\\n",
       "1                         0                      0   \n",
       "2                         0                      0   \n",
       "3                       419                    169   \n",
       "4                         0                      0   \n",
       "5                        81                     38   \n",
       "6                        29                     17   \n",
       "7                        23                      9   \n",
       "8                         0                      0   \n",
       "9                         0                      0   \n",
       "10                        0                      0   \n",
       "11                        0                      0   \n",
       "\n",
       "    CIVIC Total Sum Impact Score  Average Impact Score per Variant   \n",
       "0                        3618.00                          9.397403  \\\n",
       "1                         285.50                          0.741558   \n",
       "2                        6600.75                         17.144805   \n",
       "3                        2683.75                          6.970779   \n",
       "4                        1805.50                          4.689610   \n",
       "5                         653.00                          1.696104   \n",
       "6                         225.00                          0.584416   \n",
       "7                         673.50                          1.749351   \n",
       "8                         195.00                          0.506494   \n",
       "9                         117.50                          0.305195   \n",
       "10                       8353.50                         21.697403   \n",
       "11                        356.50                          0.925974   \n",
       "\n",
       "    Average Impact Score per Evidence Item  Total Number Evidence Items   \n",
       "0                                 7.681529                          618  \\\n",
       "1                                 0.606157                           24   \n",
       "2                                14.014331                         1239   \n",
       "3                                 5.697983                          301   \n",
       "4                                 3.833333                          348   \n",
       "5                                 1.386412                          136   \n",
       "6                                 0.477707                           64   \n",
       "7                                 1.429936                          162   \n",
       "8                                 0.414013                           23   \n",
       "9                                 0.249469                            7   \n",
       "10                               17.735669                          976   \n",
       "11                                0.756900                          471   \n",
       "\n",
       "   % Accepted Evidence Items  Total Number Variants  Sum Evidence Items   \n",
       "0                     55.34%                    291                 630  \\\n",
       "1                     91.67%                     15                  24   \n",
       "2                     59.48%                    308                1239   \n",
       "3                     63.46%                    128                 720   \n",
       "4                     44.25%                     90                 348   \n",
       "5                     38.97%                     52                 217   \n",
       "6                     42.19%                     34                  93   \n",
       "7                     37.04%                     93                 185   \n",
       "8                     56.52%                     11                  23   \n",
       "9                     57.14%                      6                   7   \n",
       "10                    57.17%                    209                 976   \n",
       "11                    11.46%                    385                 471   \n",
       "\n",
       "    Sum Variants  Sum Impact Score   \n",
       "0            302           3629.00  \\\n",
       "1             15            285.50   \n",
       "2            308           6600.75   \n",
       "3            297           3738.25   \n",
       "4             90           1805.50   \n",
       "5             90            944.00   \n",
       "6             51            269.50   \n",
       "7            102            706.00   \n",
       "8             11            195.00   \n",
       "9              6            117.50   \n",
       "10           209           8353.50   \n",
       "11           385            356.50   \n",
       "\n",
       "    Ratio of MOA Features to MOA+CIVIC per Category  \n",
       "0                                          0.036424  \n",
       "1                                          0.000000  \n",
       "2                                          0.000000  \n",
       "3                                          0.569024  \n",
       "4                                          0.000000  \n",
       "5                                          0.422222  \n",
       "6                                          0.333333  \n",
       "7                                          0.088235  \n",
       "8                                          0.000000  \n",
       "9                                          0.000000  \n",
       "10                                         0.000000  \n",
       "11                                         0.000000  "
      ]
     },
     "execution_count": 92,
     "metadata": {},
     "output_type": "execute_result"
    }
   ],
   "source": [
    "merged_not_supported_impact_df['Ratio of MOA Features to MOA+CIVIC per Category'] = merged_not_supported_impact_df['Total Number Features']/(merged_not_supported_impact_df['Total Number Features']+merged_not_supported_impact_df['Total Number Variants'])\n",
    "merged_not_supported_impact_df"
   ]
  },
  {
   "cell_type": "code",
   "execution_count": 93,
   "metadata": {},
   "outputs": [],
   "source": [
    "import numpy as np\n",
    "from numpy import pi, sin, cos\n",
    "import plotly.graph_objects as go\n",
    "\n",
    "def degree2rad(degrees):\n",
    "    return degrees*pi/180\n",
    "def disk_part(center=[0,0], radius=1, start_angle=0, end_angle=90, n=50, seg=True):\n",
    "    sta = degree2rad(start_angle)\n",
    "    ea = degree2rad(end_angle)\n",
    "    t = np.linspace(sta, ea, n)\n",
    "    x = center[0] + radius*cos(t)\n",
    "    y = center[1] +radius*sin(t)\n",
    "    path = f\"M {x[0]},{y[0]}\"\n",
    "    for xc, yc in zip(x[1:], y[1:]):\n",
    "        path += f\" L{xc},{yc}\"\n",
    "    if seg: #segment\n",
    "        return path + \" Z\"\n",
    "    else: #disk sector\n",
    "        return path + f\" L{center[0]},{center[1]} Z\" #sector"
   ]
  },
  {
   "cell_type": "code",
   "execution_count": 94,
   "metadata": {},
   "outputs": [],
   "source": [
    "layout = go.Layout(\n",
    "    title=\"Title\",\n",
    "    xaxis=dict(\n",
    "        title=\"Number of Evidence Items\"\n",
    "    ),\n",
    "    yaxis=dict(\n",
    "        title=\"Impact Score\"\n",
    "    ) ) "
   ]
  },
  {
   "cell_type": "code",
   "execution_count": 95,
   "metadata": {},
   "outputs": [
    {
     "ename": "AttributeError",
     "evalue": "'Figure' object has no attribute 'write_html'",
     "output_type": "error",
     "traceback": [
      "\u001b[0;31m---------------------------------------------------------------------------\u001b[0m",
      "\u001b[0;31mAttributeError\u001b[0m                            Traceback (most recent call last)",
      "Cell \u001b[0;32mIn[95], line 1\u001b[0m\n\u001b[0;32m----> 1\u001b[0m fig\u001b[39m.\u001b[39;49mwrite_html(\u001b[39m\"\u001b[39m\u001b[39mmerged_not_supported_impact_df_scatterpieplot.html\u001b[39m\u001b[39m\"\u001b[39m)\n",
      "\u001b[0;31mAttributeError\u001b[0m: 'Figure' object has no attribute 'write_html'"
     ]
    }
   ],
   "source": [
    "fig.write_html(\"merged_not_supported_impact_df_scatterpieplot.html\")"
   ]
  },
  {
   "cell_type": "code",
   "execution_count": null,
   "metadata": {},
   "outputs": [],
   "source": [
    "merged_not_supported_impact_df.head()"
   ]
  },
  {
   "cell_type": "code",
   "execution_count": null,
   "metadata": {},
   "outputs": [],
   "source": [
    "ratio_list = merged_not_supported_impact_df[\"Ratio of MOA Features to MOA+CIVIC per Category\"].to_numpy()\n",
    "ratio_list"
   ]
  },
  {
   "cell_type": "code",
   "execution_count": null,
   "metadata": {},
   "outputs": [],
   "source": [
    "moa_civic_evidence_sum_list = merged_not_supported_impact_df[\"Sum Evidence Items\"].to_numpy()\n",
    "moa_civic_evidence_sum_list"
   ]
  },
  {
   "cell_type": "code",
   "execution_count": null,
   "metadata": {},
   "outputs": [],
   "source": [
    "moa_civic_variant_sum_list = merged_not_supported_impact_df[\"Sum Variants\"].to_numpy()\n",
    "moa_civic_variant_sum_list"
   ]
  },
  {
   "cell_type": "code",
   "execution_count": null,
   "metadata": {},
   "outputs": [],
   "source": [
    "moa_civic_impact_score_list = merged_not_supported_impact_df[\"Sum Impact Score\"].to_numpy()\n",
    "moa_civic_impact_score_list"
   ]
  },
  {
   "cell_type": "code",
   "execution_count": null,
   "metadata": {},
   "outputs": [],
   "source": [
    "import numpy as np\n",
    "import matplotlib.pyplot as plt\n",
    "import matplotlib.patches as mpatches\n",
    "from matplotlib.legend_handler import HandlerPatch\n",
    "from matplotlib.lines import Line2D\n",
    "import base64\n",
    "from io import BytesIO\n",
    "import mpld3\n",
    "from matplotlib.pyplot import figure\n",
    "from matplotlib.hatch import Circles\n",
    "from matplotlib.widgets import TextBox\n",
    "# first define the ratios\n",
    "r1= ratio_list[0]  \n",
    "r2=ratio_list[1]\n",
    "r3=ratio_list[2] \n",
    "r4= ratio_list[3]  \n",
    "r5=ratio_list[4]\n",
    "r6=ratio_list[5]\n",
    "r7=ratio_list[6]\n",
    "r8=ratio_list[7]\n",
    "r9=ratio_list[8]\n",
    "r10=ratio_list[9] \n",
    "r11= ratio_list[10] \n",
    "r12=ratio_list[11]\n",
    "\n",
    "# define some sizes of the scatter marker\n",
    "size1=moa_civic_variant_sum_list[0]*20  \n",
    "size2=moa_civic_variant_sum_list[1]*20 \n",
    "size3=moa_civic_variant_sum_list[2]*20\n",
    "size4=moa_civic_variant_sum_list[3]*20 \n",
    "size5=moa_civic_variant_sum_list[4]*20 \n",
    "size6=moa_civic_variant_sum_list[5]*20 \n",
    "size7=moa_civic_variant_sum_list[6]*20 \n",
    "size8=moa_civic_variant_sum_list[7]*20 \n",
    "size9=moa_civic_variant_sum_list[8]*20 \n",
    "size10=moa_civic_variant_sum_list[9]*20  \n",
    "size11=moa_civic_variant_sum_list[10]*20  \n",
    "size12=moa_civic_variant_sum_list[11]*20 \n",
    "\n",
    "# calculate the points of the first pie marker\n",
    "#\n",
    "# these are just the origin (0,0) +\n",
    "# some points on a circle cos,sin\n",
    "x = [0] + np.cos(np.linspace(0, 2 * np.pi * r1, 100)).tolist()\n",
    "y = [0] + np.sin(np.linspace(0, 2 * np.pi * r1, 100)).tolist()\n",
    "xy1a = np.column_stack([x, y])\n",
    "\n",
    "x = [0] + np.cos(np.linspace(2 * np.pi * r1, 2 * np.pi, 100)).tolist()\n",
    "y = [0] + np.sin(np.linspace(2 * np.pi * r1, 2 * np.pi, 100)).tolist()\n",
    "xy1b = np.column_stack([x, y])\n",
    "\n",
    "# x = [0] + np.cos(np.linspace(0, 2 * np.pi * r2, 10)).tolist()\n",
    "# y = [0] + np.sin(np.linspace(0, 2 * np.pi * r2, 10)).tolist()\n",
    "# xy2a = np.column_stack([x, y])\n",
    "\n",
    "x = [0] + np.cos(np.linspace(2 * np.pi * r2, 2 * np.pi, 100)).tolist()\n",
    "y = [0] + np.sin(np.linspace(2 * np.pi * r2, 2 * np.pi, 100)).tolist()\n",
    "xy2b = np.column_stack([x, y])\n",
    "\n",
    "# x = [0] + np.cos(np.linspace(0, 2 * np.pi * r3, 10)).tolist()\n",
    "# y = [0] + np.sin(np.linspace(0, 2 * np.pi * r3, 10)).tolist()\n",
    "# xy3a = np.column_stack([x, y])\n",
    "\n",
    "x = [0] + np.cos(np.linspace(2 * np.pi * r3, 2 * np.pi, 100)).tolist()\n",
    "y = [0] + np.sin(np.linspace(2 * np.pi * r3, 2 * np.pi, 100)).tolist()\n",
    "xy3b = np.column_stack([x, y])\n",
    "\n",
    "x = [0] + np.cos(np.linspace(0, 2 * np.pi * r4, 100)).tolist()\n",
    "y = [0] + np.sin(np.linspace(0, 2 * np.pi * r4, 100)).tolist()\n",
    "xy4a = np.column_stack([x, y])\n",
    "\n",
    "x = [0] + np.cos(np.linspace(2 * np.pi * r4, 2 * np.pi, 100)).tolist()\n",
    "y = [0] + np.sin(np.linspace(2 * np.pi * r4, 2 * np.pi, 100)).tolist()\n",
    "xy4b = np.column_stack([x, y])\n",
    "\n",
    "# x = [0] + np.cos(np.linspace(0, 2 * np.pi * r5, 10)).tolist()\n",
    "# y = [0] + np.sin(np.linspace(0, 2 * np.pi * r5, 10)).tolist()\n",
    "# xy5a = np.column_stack([x, y])\n",
    "\n",
    "x = [0] + np.cos(np.linspace(2 * np.pi * r5, 2 * np.pi, 100)).tolist()\n",
    "y = [0] + np.sin(np.linspace(2 * np.pi * r5, 2 * np.pi, 100)).tolist()\n",
    "xy5b = np.column_stack([x, y])\n",
    "\n",
    "x = [0] + np.cos(np.linspace(0, 2 * np.pi * r6, 100)).tolist()\n",
    "y = [0] + np.sin(np.linspace(0, 2 * np.pi * r6, 100)).tolist()\n",
    "xy6a = np.column_stack([x, y])\n",
    "\n",
    "x = [0] + np.cos(np.linspace(2 * np.pi * r6, 2 * np.pi, 100)).tolist()\n",
    "y = [0] + np.sin(np.linspace(2 * np.pi * r6, 2 * np.pi, 100)).tolist()\n",
    "xy6b = np.column_stack([x, y])\n",
    "\n",
    "x = [0] + np.cos(np.linspace(0, 2 * np.pi * r7, 100)).tolist()\n",
    "y = [0] + np.sin(np.linspace(0, 2 * np.pi * r7, 100)).tolist()\n",
    "xy7a = np.column_stack([x, y])\n",
    "\n",
    "x = [0] + np.cos(np.linspace(2 * np.pi * r7, 2 * np.pi, 100)).tolist()\n",
    "y = [0] + np.sin(np.linspace(2 * np.pi * r7, 2 * np.pi, 100)).tolist()\n",
    "xy7b = np.column_stack([x, y])\n",
    "\n",
    "x = [0] + np.cos(np.linspace(0, 2 * np.pi * r8, 100)).tolist()\n",
    "y = [0] + np.sin(np.linspace(0, 2 * np.pi * r8, 100)).tolist()\n",
    "xy8a = np.column_stack([x, y])\n",
    "\n",
    "x = [0] + np.cos(np.linspace(2 * np.pi * r8, 2 * np.pi, 100)).tolist()\n",
    "y = [0] + np.sin(np.linspace(2 * np.pi * r8, 2 * np.pi, 100)).tolist()\n",
    "xy8b = np.column_stack([x, y])\n",
    "\n",
    "# x = [0] + np.cos(np.linspace(0, 2 * np.pi * r9, 10)).tolist()\n",
    "# y = [0] + np.sin(np.linspace(0, 2 * np.pi * r9, 10)).tolist()\n",
    "# xy9a = np.column_stack([x, y])\n",
    "\n",
    "x = [0] + np.cos(np.linspace(2 * np.pi * r9, 2 * np.pi, 100)).tolist()\n",
    "y = [0] + np.sin(np.linspace(2 * np.pi * r9, 2 * np.pi, 100)).tolist()\n",
    "xy9b = np.column_stack([x, y])\n",
    "\n",
    "# x = [0] + np.cos(np.linspace(0, 2 * np.pi * r10, 10)).tolist()\n",
    "# y = [0] + np.sin(np.linspace(0, 2 * np.pi * r10, 10)).tolist()\n",
    "# xy10a = np.column_stack([x, y])\n",
    "\n",
    "x = [0] + np.cos(np.linspace(2 * np.pi * r10, 2 * np.pi, 100)).tolist()\n",
    "y = [0] + np.sin(np.linspace(2 * np.pi * r10, 2 * np.pi, 100)).tolist()\n",
    "xy10b = np.column_stack([x, y])\n",
    "\n",
    "# x = [0] + np.cos(np.linspace(0, 2 * np.pi * r11, 10)).tolist()\n",
    "# y = [0] + np.sin(np.linspace(0, 2 * np.pi * r11, 10)).tolist()\n",
    "# xy11a = np.column_stack([x, y])\n",
    "\n",
    "x = [0] + np.cos(np.linspace(2 * np.pi * r11, 2 * np.pi, 100)).tolist()\n",
    "y = [0] + np.sin(np.linspace(2 * np.pi * r11, 2 * np.pi, 100)).tolist()\n",
    "xy11b = np.column_stack([x, y])\n",
    "\n",
    "# x = [0] + np.cos(np.linspace(0, 2 * np.pi * r12, 10)).tolist()\n",
    "# y = [0] + np.sin(np.linspace(0, 2 * np.pi * r12, 10)).tolist()\n",
    "# xy12a = np.column_stack([x, y])\n",
    "\n",
    "x = [0] + np.cos(np.linspace(2 * np.pi * r12, 2 * np.pi, 100)).tolist()\n",
    "y = [0] + np.sin(np.linspace(2 * np.pi * r12, 2 * np.pi, 100)).tolist()\n",
    "xy12b = np.column_stack([x, y])\n",
    "\n",
    "\n",
    "fig5, ax = plt.subplots(figsize=(25, 15))\n",
    "\n",
    "ax.scatter(moa_civic_evidence_sum_list[0],moa_civic_impact_score_list[0], marker=xy1a,\n",
    "           s=size1, facecolor='red', edgecolors='black', hatch='///////' )\n",
    "ax.scatter(moa_civic_evidence_sum_list[0],moa_civic_impact_score_list[0], marker=xy1b,\n",
    "           s=size1, facecolor='red')\n",
    "\n",
    "# ax.scatter(moa_civic_evidence_sum_list[1],moa_civic_impact_score_list[1], marker=xy2a,\n",
    "#            s=size2, facecolor='blue')\n",
    "ax.scatter(moa_civic_evidence_sum_list[1],moa_civic_impact_score_list[1], marker=xy2b,\n",
    "           s=size2, facecolor='darkorange')\n",
    "\n",
    "# ax.scatter(moa_civic_evidence_sum_list[2],moa_civic_impact_score_list[2], marker=xy3a,\n",
    "#            s=size3, facecolor='blue')\n",
    "ax.scatter(moa_civic_evidence_sum_list[2],moa_civic_impact_score_list[2], marker=xy3b,\n",
    "           s=size3, facecolor='forestgreen')\n",
    "\n",
    "ax.scatter(moa_civic_evidence_sum_list[3],moa_civic_impact_score_list[3], marker=xy4a,\n",
    "           s=size4, facecolor='lawngreen', edgecolors='black', hatch='///////')\n",
    "ax.scatter(moa_civic_evidence_sum_list[3],moa_civic_impact_score_list[3], marker=xy4b,\n",
    "           s=size4, facecolor='lawngreen')\n",
    "\n",
    "# ax.scatter(moa_civic_evidence_sum_list[4],moa_civic_impact_score_list[4], marker=xy5a,\n",
    "#            s=size5, facecolor='blue')\n",
    "ax.scatter(moa_civic_evidence_sum_list[4],moa_civic_impact_score_list[4], marker=xy5b,\n",
    "           s=size5, facecolor='gold')\n",
    "\n",
    "ax.scatter(moa_civic_evidence_sum_list[5],moa_civic_impact_score_list[5], marker=xy6a,\n",
    "           s=size6, facecolor='cyan', edgecolors='black', hatch='///////')\n",
    "ax.scatter(moa_civic_evidence_sum_list[5],moa_civic_impact_score_list[5], marker=xy6b,\n",
    "           s=size6, facecolor='cyan')\n",
    "\n",
    "ax.scatter(moa_civic_evidence_sum_list[6],moa_civic_impact_score_list[6], marker=xy7a,\n",
    "           s=size7, facecolor='deepskyblue' , edgecolors='black', hatch='///////')\n",
    "ax.scatter(moa_civic_evidence_sum_list[6],moa_civic_impact_score_list[6], marker=xy7b,\n",
    "           s=size7, facecolor='deepskyblue')\n",
    "\n",
    "ax.scatter(moa_civic_evidence_sum_list[7],moa_civic_impact_score_list[7], marker=xy8a,\n",
    "           s=size8, facecolor='mediumslateblue', edgecolors='black', hatch='///////' )\n",
    "ax.scatter(moa_civic_evidence_sum_list[7],moa_civic_impact_score_list[7], marker=xy8b,\n",
    "           s=size8, facecolor='mediumslateblue')\n",
    "\n",
    "# ax.scatter(moa_civic_evidence_sum_list[8],moa_civic_impact_score_list[8], marker=xy9a,\n",
    "#            s=size9, facecolor='blue')\n",
    "ax.scatter(moa_civic_evidence_sum_list[8],moa_civic_impact_score_list[8], marker=xy9b,\n",
    "           s=size9, facecolor='blue')\n",
    "\n",
    "# ax.scatter(moa_civic_evidence_sum_list[9],moa_civic_impact_score_list[9], marker=xy10a,\n",
    "#            s=size10, facecolor='blue')\n",
    "ax.scatter(moa_civic_evidence_sum_list[9],moa_civic_impact_score_list[9], marker=xy10b,\n",
    "           s=size10, facecolor='pink')\n",
    "\n",
    "# ax.scatter(moa_civic_evidence_sum_list[10],moa_civic_impact_score_list[10], marker=xy11a,\n",
    "#            s=size11, facecolor='blue')\n",
    "ax.scatter(moa_civic_evidence_sum_list[10],moa_civic_impact_score_list[10], marker=xy11b,\n",
    "           s=size11, facecolor='deeppink')\n",
    "\n",
    "# ax.scatter(moa_civic_evidence_sum_list[11],moa_civic_impact_score_list[11], marker=xy12a,\n",
    "#            s=size12, facecolor='blue')\n",
    "ax.scatter(moa_civic_evidence_sum_list[11],moa_civic_impact_score_list[11], marker=xy12b,\n",
    "           s=size12, facecolor='fuchsia')\n",
    "\n",
    "\n",
    "legend_elements = [Line2D([0], [0], marker='o', color='w', label='Expression (626, 3629.00)',\n",
    "                          markerfacecolor='red', markersize=20),\n",
    "                   Line2D([0], [0], marker='o', color='w', label='Epigenetic Modification (24, 285.50)',\n",
    "                          markerfacecolor='darkorange', markersize=20),\n",
    "                   Line2D([0], [0], marker='o', color='w', label='Fusion (1239, 5689.25)',\n",
    "                          markerfacecolor='forestgreen', markersize=20),       \n",
    "                   Line2D([0], [0], marker='o', color='w', label='Protein Consequence (705, 3747.75)',\n",
    "                          markerfacecolor='lawngreen', markersize=20),       \n",
    "                   Line2D([0], [0], marker='o', color='w', label='Gene Function (347, 1822.50)',\n",
    "                          markerfacecolor='gold', markersize=20),       \n",
    "                   Line2D([0], [0], marker='o', color='w', label='Rearrangements (218, 945.00)',\n",
    "                          markerfacecolor='cyan', markersize=20),       \n",
    "                   Line2D([0], [0], marker='o', color='w', label='Copy Number (93, 254.00)',\n",
    "                          markerfacecolor='deepskyblue', markersize=20),\n",
    "                   Line2D([0], [0], marker='o', color='w', label='Other  (185, 708.50)',\n",
    "                          markerfacecolor='mediumslateblue', markersize=20),\n",
    "                   Line2D([0], [0], marker='o', color='w', label='Genotypes Easy (23, 195.00)',\n",
    "                          markerfacecolor='blue', markersize=20),       \n",
    "                   Line2D([0], [0], marker='o', color='w', label='Genotypes Compound (7, 117.50)',\n",
    "                          markerfacecolor='pink', markersize=20),       \n",
    "                   Line2D([0], [0], marker='o', color='w', label='Region Defined (924, 8311.50)',\n",
    "                          markerfacecolor='deeppink', markersize=20),       \n",
    "                   Line2D([0], [0], marker='o', color='w', label='Transcript (471, 346.50)',\n",
    "                          markerfacecolor='fuchsia', markersize=20),\n",
    "                   Line2D([0], [0], color='w',\n",
    "                          markerfacecolor='white'),       \n",
    "                   mpatches.Circle(xy=(0,0), radius=1, edgecolor=\"black\", facecolor= \"white\", hatch='///////', label='Variants from MOA'), \n",
    "                   mpatches.Circle(xy=(0,0), radius=1, edgecolor=\"black\", facecolor= \"white\", label='Variants from CIViC'),\n",
    "                   Line2D([0], [0], color='w',\n",
    "                          markerfacecolor='white'),\n",
    "                   Line2D([0], [0], marker='o', color='w', label='Circle sizes indicate # of variants per category',\n",
    "                          markerfacecolor='black', markersize=15)]\n",
    "\n",
    "# Create the figure\n",
    "first_legend = ax.legend(handles=legend_elements, loc='upper left')\n",
    "first_legend._legend_box.align = \"left\"\n",
    "ax.add_artist(first_legend)\n",
    "ax.set_xlabel('Number of Evidence Items per Category (MOA & CIViC)', fontsize= 25)\n",
    "ax.set_ylabel('Impact Score per Category (MOA & CIViC)', fontsize= 25)\n",
    "for axis in ['top','bottom','left','right']:\n",
    "    ax.spines[axis].set_linewidth(4)\n",
    "ax.tick_params(width=4)\n",
    "plt.title(\"Impact Score of Currently Not Supported Variant Categories\", fontsize=40)\n",
    "plt.xticks(fontsize=20)\n",
    "plt.yticks(fontsize=20)\n",
    "plt.setp(plt.gca().get_legend().get_texts(), fontsize='17')\n",
    "\n",
    "plt.savefig('myfig2.jpeg', dpi=1000)\n",
    "\n",
    "plt.show()"
   ]
  },
  {
   "cell_type": "code",
   "execution_count": null,
   "metadata": {},
   "outputs": [],
   "source": []
  }
 ],
 "metadata": {
  "kernelspec": {
   "display_name": "Python 3.10.9 ('.venv': venv)",
   "language": "python",
   "name": "python3"
  },
  "language_info": {
   "codemirror_mode": {
    "name": "ipython",
    "version": 3
   },
   "file_extension": ".py",
   "mimetype": "text/x-python",
   "name": "python",
   "nbconvert_exporter": "python",
   "pygments_lexer": "ipython3",
   "version": "3.11.0rc2"
  },
  "orig_nbformat": 4,
  "vscode": {
   "interpreter": {
    "hash": "60bedfc6dd95a1d756c285a8080496495ec396023cb257f004626f94ae504b38"
   }
  }
 },
 "nbformat": 4,
 "nbformat_minor": 2
}
