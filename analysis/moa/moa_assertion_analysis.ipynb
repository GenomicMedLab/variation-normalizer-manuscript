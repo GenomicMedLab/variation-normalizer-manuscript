{
 "cells": [
  {
   "attachments": {},
   "cell_type": "markdown",
   "metadata": {},
   "source": [
    "# Molecular Oncology Almanac Assertion Analysis"
   ]
  },
  {
   "attachments": {},
   "cell_type": "markdown",
   "metadata": {},
   "source": [
    "MOA evidence items are referred to as assertions and MOA variants are referred to as features in this analysis. "
   ]
  },
  {
   "cell_type": "code",
   "execution_count": 3,
   "metadata": {},
   "outputs": [],
   "source": [
    "from enum import Enum\n",
    "from typing import Dict\n",
    "import json\n",
    "\n",
    "import pandas as pd\n",
    "import plotly.express as px\n",
    "import requests\n",
    "from ga4gh.core import sha512t24u\n"
   ]
  },
  {
   "cell_type": "code",
   "execution_count": 4,
   "metadata": {},
   "outputs": [],
   "source": [
    "def get_feature_digest(feature: Dict) -> str:\n",
    "    \"\"\"Get digest for feature\n",
    "\n",
    "    :param feature: MOA feature\n",
    "    :return: Digest\n",
    "    \"\"\"\n",
    "    attrs = json.dumps(\n",
    "        feature[\"attributes\"][0],\n",
    "        sort_keys=True,\n",
    "        separators=(\",\", \":\"),\n",
    "        indent=None\n",
    "    ).encode(\"utf-8\")\n",
    "    return sha512t24u(attrs)"
   ]
  },
  {
   "cell_type": "code",
   "execution_count": 5,
   "metadata": {},
   "outputs": [],
   "source": [
    "class VariantNormType(str, Enum):\n",
    "    \"\"\"Variation Normalization types\"\"\"\n",
    "\n",
    "    NORMALIZED = \"Normalized\"\n",
    "    NOT_SUPPORTED = \"Not Supported\"\n",
    "\n",
    "\n",
    "VARIANT_NORM_TYPE_VALUES = [v.value for v in VariantNormType.__members__.values()]"
   ]
  },
  {
   "cell_type": "code",
   "execution_count": 6,
   "metadata": {},
   "outputs": [],
   "source": [
    "class VariantCategory(str, Enum):\n",
    "    \"\"\"Create enum for the kind of variants that are in MOA.\"\"\"\n",
    "\n",
    "    EXPRESSION = \"Expression\"\n",
    "    EPIGENETIC_MODIFICATION = \"Epigenetic Modification\"\n",
    "    FUSION = \"Fusion\"\n",
    "    PROTEIN_CONS = \"Protein Consequence\"\n",
    "    GENE_FUNC = \"Gene Function\"\n",
    "    REARRANGEMENTS = \"Rearrangements\"\n",
    "    COPY_NUMBER = \"Copy Number\"\n",
    "    OTHER = \"Other\"\n",
    "    GENOTYPES_EASY = \"Genotypes Easy\"\n",
    "    GENOTYPES_COMPOUND = \"Genotypes Compound\"\n",
    "    REGION_DEFINED_VAR = \"Region Defined Variant\"\n",
    "    TRANSCRIPT_VAR = \"Transcript Variant\"  # no attempt to normalize these ones, since there is no query we could use\n",
    "\n",
    "\n",
    "VARIANT_CATEGORY_VALUES = [v.value for v in VariantCategory.__members__.values()]"
   ]
  },
  {
   "attachments": {},
   "cell_type": "markdown",
   "metadata": {},
   "source": [
    "## All Features (Variants) Analysis"
   ]
  },
  {
   "attachments": {},
   "cell_type": "markdown",
   "metadata": {},
   "source": [
    "### Creating a table with feature (variant) and assertion (evidence) information"
   ]
  },
  {
   "cell_type": "code",
   "execution_count": 7,
   "metadata": {},
   "outputs": [
    {
     "data": {
      "text/plain": [
       "423"
      ]
     },
     "execution_count": 7,
     "metadata": {},
     "output_type": "execute_result"
    }
   ],
   "source": [
    "# Create dictionary for MOA Feature ID -> Feature Type\n",
    "r = requests.get(\"https://moalmanac.org/api/features\")\n",
    "if r.status_code == 200:\n",
    "    feature_data = r.json()\n",
    "\n",
    "features = {}\n",
    "\n",
    "for feature in feature_data:\n",
    "    feature_id = feature[\"feature_id\"]\n",
    "    digest = get_feature_digest(feature)\n",
    "    features[digest] = feature[\"feature_type\"]\n",
    "\n",
    "len(features.keys())\n"
   ]
  },
  {
   "cell_type": "code",
   "execution_count": 8,
   "metadata": {},
   "outputs": [
    {
     "data": {
      "text/html": [
       "<div>\n",
       "<style scoped>\n",
       "    .dataframe tbody tr th:only-of-type {\n",
       "        vertical-align: middle;\n",
       "    }\n",
       "\n",
       "    .dataframe tbody tr th {\n",
       "        vertical-align: top;\n",
       "    }\n",
       "\n",
       "    .dataframe thead th {\n",
       "        text-align: right;\n",
       "    }\n",
       "</style>\n",
       "<table border=\"1\" class=\"dataframe\">\n",
       "  <thead>\n",
       "    <tr style=\"text-align: right;\">\n",
       "      <th></th>\n",
       "      <th>assertion_id</th>\n",
       "      <th>feature_id</th>\n",
       "      <th>feature_type</th>\n",
       "      <th>predictive_implication</th>\n",
       "      <th>feature_digest</th>\n",
       "    </tr>\n",
       "  </thead>\n",
       "  <tbody>\n",
       "    <tr>\n",
       "      <th>0</th>\n",
       "      <td>1</td>\n",
       "      <td>1</td>\n",
       "      <td>rearrangement</td>\n",
       "      <td>FDA-Approved</td>\n",
       "      <td>RnRyn89cJzVbVM93aw4OA44NIF5zblyP</td>\n",
       "    </tr>\n",
       "    <tr>\n",
       "      <th>1</th>\n",
       "      <td>2</td>\n",
       "      <td>2</td>\n",
       "      <td>rearrangement</td>\n",
       "      <td>FDA-Approved</td>\n",
       "      <td>RnRyn89cJzVbVM93aw4OA44NIF5zblyP</td>\n",
       "    </tr>\n",
       "    <tr>\n",
       "      <th>2</th>\n",
       "      <td>3</td>\n",
       "      <td>3</td>\n",
       "      <td>rearrangement</td>\n",
       "      <td>FDA-Approved</td>\n",
       "      <td>RnRyn89cJzVbVM93aw4OA44NIF5zblyP</td>\n",
       "    </tr>\n",
       "    <tr>\n",
       "      <th>3</th>\n",
       "      <td>4</td>\n",
       "      <td>4</td>\n",
       "      <td>rearrangement</td>\n",
       "      <td>FDA-Approved</td>\n",
       "      <td>RnRyn89cJzVbVM93aw4OA44NIF5zblyP</td>\n",
       "    </tr>\n",
       "    <tr>\n",
       "      <th>4</th>\n",
       "      <td>5</td>\n",
       "      <td>5</td>\n",
       "      <td>rearrangement</td>\n",
       "      <td>FDA-Approved</td>\n",
       "      <td>RnRyn89cJzVbVM93aw4OA44NIF5zblyP</td>\n",
       "    </tr>\n",
       "    <tr>\n",
       "      <th>...</th>\n",
       "      <td>...</td>\n",
       "      <td>...</td>\n",
       "      <td>...</td>\n",
       "      <td>...</td>\n",
       "      <td>...</td>\n",
       "    </tr>\n",
       "    <tr>\n",
       "      <th>869</th>\n",
       "      <td>870</td>\n",
       "      <td>870</td>\n",
       "      <td>somatic_variant</td>\n",
       "      <td>FDA-Approved</td>\n",
       "      <td>1JInmjKzPW9V9q9UKen4VODk1drBadA2</td>\n",
       "    </tr>\n",
       "    <tr>\n",
       "      <th>870</th>\n",
       "      <td>871</td>\n",
       "      <td>871</td>\n",
       "      <td>somatic_variant</td>\n",
       "      <td>FDA-Approved</td>\n",
       "      <td>txWE0iDd8r36tzSRZw9tyMcMz9-L5M0g</td>\n",
       "    </tr>\n",
       "    <tr>\n",
       "      <th>871</th>\n",
       "      <td>872</td>\n",
       "      <td>872</td>\n",
       "      <td>copy_number</td>\n",
       "      <td>FDA-Approved</td>\n",
       "      <td>PWxJ97XlgUgdA5hvLmyZENRIL9pTYY84</td>\n",
       "    </tr>\n",
       "    <tr>\n",
       "      <th>872</th>\n",
       "      <td>873</td>\n",
       "      <td>873</td>\n",
       "      <td>somatic_variant</td>\n",
       "      <td>FDA-Approved</td>\n",
       "      <td>qXCY7CGzeFBIDXYsc18tEVBImkWB_43E</td>\n",
       "    </tr>\n",
       "    <tr>\n",
       "      <th>873</th>\n",
       "      <td>874</td>\n",
       "      <td>874</td>\n",
       "      <td>somatic_variant</td>\n",
       "      <td>FDA-Approved</td>\n",
       "      <td>IpbUYvcvcPuvnET_IyVv-Yi_IUKddyvg</td>\n",
       "    </tr>\n",
       "  </tbody>\n",
       "</table>\n",
       "<p>874 rows × 5 columns</p>\n",
       "</div>"
      ],
      "text/plain": [
       "     assertion_id  feature_id     feature_type predictive_implication  \\\n",
       "0               1           1    rearrangement           FDA-Approved   \n",
       "1               2           2    rearrangement           FDA-Approved   \n",
       "2               3           3    rearrangement           FDA-Approved   \n",
       "3               4           4    rearrangement           FDA-Approved   \n",
       "4               5           5    rearrangement           FDA-Approved   \n",
       "..            ...         ...              ...                    ...   \n",
       "869           870         870  somatic_variant           FDA-Approved   \n",
       "870           871         871  somatic_variant           FDA-Approved   \n",
       "871           872         872      copy_number           FDA-Approved   \n",
       "872           873         873  somatic_variant           FDA-Approved   \n",
       "873           874         874  somatic_variant           FDA-Approved   \n",
       "\n",
       "                       feature_digest  \n",
       "0    RnRyn89cJzVbVM93aw4OA44NIF5zblyP  \n",
       "1    RnRyn89cJzVbVM93aw4OA44NIF5zblyP  \n",
       "2    RnRyn89cJzVbVM93aw4OA44NIF5zblyP  \n",
       "3    RnRyn89cJzVbVM93aw4OA44NIF5zblyP  \n",
       "4    RnRyn89cJzVbVM93aw4OA44NIF5zblyP  \n",
       "..                                ...  \n",
       "869  1JInmjKzPW9V9q9UKen4VODk1drBadA2  \n",
       "870  txWE0iDd8r36tzSRZw9tyMcMz9-L5M0g  \n",
       "871  PWxJ97XlgUgdA5hvLmyZENRIL9pTYY84  \n",
       "872  qXCY7CGzeFBIDXYsc18tEVBImkWB_43E  \n",
       "873  IpbUYvcvcPuvnET_IyVv-Yi_IUKddyvg  \n",
       "\n",
       "[874 rows x 5 columns]"
      ]
     },
     "execution_count": 8,
     "metadata": {},
     "output_type": "execute_result"
    }
   ],
   "source": [
    "# Create DF for assertions and their associated feature + predictive implication\n",
    "r = requests.get(\"https://moalmanac.org/api/assertions\")\n",
    "if r.status_code == 200:\n",
    "    assertion_data = r.json()\n",
    "\n",
    "transformed = []\n",
    "\n",
    "# Mapping from feature ID to feature digest\n",
    "feature_id_to_digest = {}\n",
    "\n",
    "for assertion in assertion_data:\n",
    "    assertion_id = assertion[\"assertion_id\"]\n",
    "    predictive_implication = assertion[\"predictive_implication\"]\n",
    "\n",
    "    if len(assertion[\"features\"]) != 1:\n",
    "        print(f\"assertion id ({assertion_id}) does not have 1 feature\")\n",
    "        continue\n",
    "\n",
    "    feature = assertion[\"features\"][0]\n",
    "    feature_id = feature[\"feature_id\"]\n",
    "    feature_digest = get_feature_digest(feature)\n",
    "\n",
    "    feature_id_to_digest[feature_id] = digest\n",
    "\n",
    "    transformed.append(\n",
    "        {\n",
    "            \"assertion_id\": assertion_id,\n",
    "            \"feature_id\": feature_id,\n",
    "            \"feature_type\": features[feature_digest],\n",
    "            \"predictive_implication\": predictive_implication,\n",
    "            \"feature_digest\": feature_digest\n",
    "        }\n",
    "    )\n",
    "moa_df = pd.DataFrame(transformed)\n",
    "moa_df"
   ]
  },
  {
   "cell_type": "code",
   "execution_count": 9,
   "metadata": {},
   "outputs": [],
   "source": [
    "unique_features_df = moa_df.sort_values(\"feature_id\").drop_duplicates(\"feature_digest\")\n",
    "len_unique_feature_ids = len(list(unique_features_df.feature_id))"
   ]
  },
  {
   "cell_type": "code",
   "execution_count": 10,
   "metadata": {},
   "outputs": [
    {
     "data": {
      "text/plain": [
       "'Total number of unique features (variants): 423'"
      ]
     },
     "execution_count": 10,
     "metadata": {},
     "output_type": "execute_result"
    }
   ],
   "source": [
    "total_len_features = len(moa_df.feature_digest.unique())\n",
    "f\"Total number of unique features (variants): {total_len_features}\""
   ]
  },
  {
   "cell_type": "code",
   "execution_count": 11,
   "metadata": {},
   "outputs": [],
   "source": [
    "assert total_len_features == len_unique_feature_ids"
   ]
  },
  {
   "cell_type": "code",
   "execution_count": 12,
   "metadata": {},
   "outputs": [
    {
     "data": {
      "text/plain": [
       "'Total number of unique assertions (evidence items): 874'"
      ]
     },
     "execution_count": 12,
     "metadata": {},
     "output_type": "execute_result"
    }
   ],
   "source": [
    "total_len_assertions = len(moa_df.assertion_id.unique())\n",
    "f\"Total number of unique assertions (evidence items): {total_len_assertions}\""
   ]
  },
  {
   "attachments": {},
   "cell_type": "markdown",
   "metadata": {},
   "source": [
    "### Converting feature (variant) types to normalized categories"
   ]
  },
  {
   "cell_type": "code",
   "execution_count": 13,
   "metadata": {},
   "outputs": [
    {
     "data": {
      "text/plain": [
       "['rearrangement',\n",
       " 'somatic_variant',\n",
       " 'germline_variant',\n",
       " 'copy_number',\n",
       " 'microsatellite_stability',\n",
       " 'mutational_signature',\n",
       " 'mutational_burden',\n",
       " 'knockdown',\n",
       " 'aneuploidy']"
      ]
     },
     "execution_count": 13,
     "metadata": {},
     "output_type": "execute_result"
    }
   ],
   "source": [
    "list(moa_df.feature_type.unique())"
   ]
  },
  {
   "cell_type": "code",
   "execution_count": 14,
   "metadata": {},
   "outputs": [
    {
     "data": {
      "text/html": [
       "<div>\n",
       "<style scoped>\n",
       "    .dataframe tbody tr th:only-of-type {\n",
       "        vertical-align: middle;\n",
       "    }\n",
       "\n",
       "    .dataframe tbody tr th {\n",
       "        vertical-align: top;\n",
       "    }\n",
       "\n",
       "    .dataframe thead th {\n",
       "        text-align: right;\n",
       "    }\n",
       "</style>\n",
       "<table border=\"1\" class=\"dataframe\">\n",
       "  <thead>\n",
       "    <tr style=\"text-align: right;\">\n",
       "      <th></th>\n",
       "      <th>assertion_id</th>\n",
       "      <th>feature_id</th>\n",
       "      <th>feature_type</th>\n",
       "      <th>predictive_implication</th>\n",
       "      <th>feature_digest</th>\n",
       "      <th>category</th>\n",
       "    </tr>\n",
       "  </thead>\n",
       "  <tbody>\n",
       "    <tr>\n",
       "      <th>0</th>\n",
       "      <td>1</td>\n",
       "      <td>1</td>\n",
       "      <td>rearrangement</td>\n",
       "      <td>FDA-Approved</td>\n",
       "      <td>RnRyn89cJzVbVM93aw4OA44NIF5zblyP</td>\n",
       "      <td>Rearrangements</td>\n",
       "    </tr>\n",
       "    <tr>\n",
       "      <th>1</th>\n",
       "      <td>2</td>\n",
       "      <td>2</td>\n",
       "      <td>rearrangement</td>\n",
       "      <td>FDA-Approved</td>\n",
       "      <td>RnRyn89cJzVbVM93aw4OA44NIF5zblyP</td>\n",
       "      <td>Rearrangements</td>\n",
       "    </tr>\n",
       "    <tr>\n",
       "      <th>2</th>\n",
       "      <td>3</td>\n",
       "      <td>3</td>\n",
       "      <td>rearrangement</td>\n",
       "      <td>FDA-Approved</td>\n",
       "      <td>RnRyn89cJzVbVM93aw4OA44NIF5zblyP</td>\n",
       "      <td>Rearrangements</td>\n",
       "    </tr>\n",
       "    <tr>\n",
       "      <th>3</th>\n",
       "      <td>4</td>\n",
       "      <td>4</td>\n",
       "      <td>rearrangement</td>\n",
       "      <td>FDA-Approved</td>\n",
       "      <td>RnRyn89cJzVbVM93aw4OA44NIF5zblyP</td>\n",
       "      <td>Rearrangements</td>\n",
       "    </tr>\n",
       "    <tr>\n",
       "      <th>4</th>\n",
       "      <td>5</td>\n",
       "      <td>5</td>\n",
       "      <td>rearrangement</td>\n",
       "      <td>FDA-Approved</td>\n",
       "      <td>RnRyn89cJzVbVM93aw4OA44NIF5zblyP</td>\n",
       "      <td>Rearrangements</td>\n",
       "    </tr>\n",
       "  </tbody>\n",
       "</table>\n",
       "</div>"
      ],
      "text/plain": [
       "   assertion_id  feature_id   feature_type predictive_implication  \\\n",
       "0             1           1  rearrangement           FDA-Approved   \n",
       "1             2           2  rearrangement           FDA-Approved   \n",
       "2             3           3  rearrangement           FDA-Approved   \n",
       "3             4           4  rearrangement           FDA-Approved   \n",
       "4             5           5  rearrangement           FDA-Approved   \n",
       "\n",
       "                     feature_digest        category  \n",
       "0  RnRyn89cJzVbVM93aw4OA44NIF5zblyP  Rearrangements  \n",
       "1  RnRyn89cJzVbVM93aw4OA44NIF5zblyP  Rearrangements  \n",
       "2  RnRyn89cJzVbVM93aw4OA44NIF5zblyP  Rearrangements  \n",
       "3  RnRyn89cJzVbVM93aw4OA44NIF5zblyP  Rearrangements  \n",
       "4  RnRyn89cJzVbVM93aw4OA44NIF5zblyP  Rearrangements  "
      ]
     },
     "execution_count": 14,
     "metadata": {},
     "output_type": "execute_result"
    }
   ],
   "source": [
    "moa_df[\"category\"] = moa_df[\"feature_type\"].copy()\n",
    "\n",
    "moa_df[\"category\"] = moa_df[\"category\"].replace(\"rearrangement\", VariantCategory.REARRANGEMENTS.value)\n",
    "moa_df[\"category\"] = moa_df[\"category\"].replace(\"aneuploidy\", VariantCategory.COPY_NUMBER.value)\n",
    "moa_df[\"category\"] = moa_df[\"category\"].replace(\"knockdown\", VariantCategory.EXPRESSION.value)\n",
    "moa_df[\"category\"] = moa_df[\"category\"].replace(\"somatic_variant\", VariantCategory.PROTEIN_CONS.value)\n",
    "moa_df[\"category\"] = moa_df[\"category\"].replace(\"germline_variant\", VariantCategory.PROTEIN_CONS.value)\n",
    "moa_df[\"category\"] = moa_df[\"category\"].replace(\"microsatellite_stability\", VariantCategory.REARRANGEMENTS.value)\n",
    "moa_df[\"category\"] = moa_df[\"category\"].replace(\"mutational_burden\", VariantCategory.OTHER.value)\n",
    "moa_df[\"category\"] = moa_df[\"category\"].replace(\"mutational_signature\", VariantCategory.OTHER.value)\n",
    "moa_df[\"category\"] = moa_df[\"category\"].replace(\"copy_number\", VariantCategory.COPY_NUMBER.value)\n",
    "\n",
    "moa_df.head()"
   ]
  },
  {
   "cell_type": "code",
   "execution_count": 15,
   "metadata": {},
   "outputs": [
    {
     "data": {
      "text/plain": [
       "['Rearrangements', 'Protein Consequence', 'Copy Number', 'Other', 'Expression']"
      ]
     },
     "execution_count": 15,
     "metadata": {},
     "output_type": "execute_result"
    }
   ],
   "source": [
    "list(moa_df.category.unique())"
   ]
  },
  {
   "attachments": {},
   "cell_type": "markdown",
   "metadata": {},
   "source": [
    "### Adding a numerical impact score based on the predictive implication\n",
    "This is based on the structure of MOA scoring"
   ]
  },
  {
   "cell_type": "code",
   "execution_count": 16,
   "metadata": {},
   "outputs": [
    {
     "data": {
      "text/plain": [
       "['FDA-Approved',\n",
       " 'Guideline',\n",
       " 'Clinical trial',\n",
       " 'Preclinical',\n",
       " 'Inferential',\n",
       " 'Clinical evidence']"
      ]
     },
     "execution_count": 16,
     "metadata": {},
     "output_type": "execute_result"
    }
   ],
   "source": [
    "predictive_implication_categories = moa_df.predictive_implication.unique()\n",
    "list(predictive_implication_categories)"
   ]
  },
  {
   "cell_type": "code",
   "execution_count": 17,
   "metadata": {},
   "outputs": [
    {
     "data": {
      "text/html": [
       "<div>\n",
       "<style scoped>\n",
       "    .dataframe tbody tr th:only-of-type {\n",
       "        vertical-align: middle;\n",
       "    }\n",
       "\n",
       "    .dataframe tbody tr th {\n",
       "        vertical-align: top;\n",
       "    }\n",
       "\n",
       "    .dataframe thead th {\n",
       "        text-align: right;\n",
       "    }\n",
       "</style>\n",
       "<table border=\"1\" class=\"dataframe\">\n",
       "  <thead>\n",
       "    <tr style=\"text-align: right;\">\n",
       "      <th></th>\n",
       "      <th>assertion_id</th>\n",
       "      <th>feature_id</th>\n",
       "      <th>feature_type</th>\n",
       "      <th>predictive_implication</th>\n",
       "      <th>feature_digest</th>\n",
       "      <th>category</th>\n",
       "      <th>impact_score</th>\n",
       "    </tr>\n",
       "  </thead>\n",
       "  <tbody>\n",
       "    <tr>\n",
       "      <th>0</th>\n",
       "      <td>1</td>\n",
       "      <td>1</td>\n",
       "      <td>rearrangement</td>\n",
       "      <td>FDA-Approved</td>\n",
       "      <td>RnRyn89cJzVbVM93aw4OA44NIF5zblyP</td>\n",
       "      <td>Rearrangements</td>\n",
       "      <td>10</td>\n",
       "    </tr>\n",
       "    <tr>\n",
       "      <th>1</th>\n",
       "      <td>2</td>\n",
       "      <td>2</td>\n",
       "      <td>rearrangement</td>\n",
       "      <td>FDA-Approved</td>\n",
       "      <td>RnRyn89cJzVbVM93aw4OA44NIF5zblyP</td>\n",
       "      <td>Rearrangements</td>\n",
       "      <td>10</td>\n",
       "    </tr>\n",
       "    <tr>\n",
       "      <th>2</th>\n",
       "      <td>3</td>\n",
       "      <td>3</td>\n",
       "      <td>rearrangement</td>\n",
       "      <td>FDA-Approved</td>\n",
       "      <td>RnRyn89cJzVbVM93aw4OA44NIF5zblyP</td>\n",
       "      <td>Rearrangements</td>\n",
       "      <td>10</td>\n",
       "    </tr>\n",
       "    <tr>\n",
       "      <th>3</th>\n",
       "      <td>4</td>\n",
       "      <td>4</td>\n",
       "      <td>rearrangement</td>\n",
       "      <td>FDA-Approved</td>\n",
       "      <td>RnRyn89cJzVbVM93aw4OA44NIF5zblyP</td>\n",
       "      <td>Rearrangements</td>\n",
       "      <td>10</td>\n",
       "    </tr>\n",
       "    <tr>\n",
       "      <th>4</th>\n",
       "      <td>5</td>\n",
       "      <td>5</td>\n",
       "      <td>rearrangement</td>\n",
       "      <td>FDA-Approved</td>\n",
       "      <td>RnRyn89cJzVbVM93aw4OA44NIF5zblyP</td>\n",
       "      <td>Rearrangements</td>\n",
       "      <td>10</td>\n",
       "    </tr>\n",
       "  </tbody>\n",
       "</table>\n",
       "</div>"
      ],
      "text/plain": [
       "   assertion_id  feature_id   feature_type predictive_implication  \\\n",
       "0             1           1  rearrangement           FDA-Approved   \n",
       "1             2           2  rearrangement           FDA-Approved   \n",
       "2             3           3  rearrangement           FDA-Approved   \n",
       "3             4           4  rearrangement           FDA-Approved   \n",
       "4             5           5  rearrangement           FDA-Approved   \n",
       "\n",
       "                     feature_digest        category impact_score  \n",
       "0  RnRyn89cJzVbVM93aw4OA44NIF5zblyP  Rearrangements           10  \n",
       "1  RnRyn89cJzVbVM93aw4OA44NIF5zblyP  Rearrangements           10  \n",
       "2  RnRyn89cJzVbVM93aw4OA44NIF5zblyP  Rearrangements           10  \n",
       "3  RnRyn89cJzVbVM93aw4OA44NIF5zblyP  Rearrangements           10  \n",
       "4  RnRyn89cJzVbVM93aw4OA44NIF5zblyP  Rearrangements           10  "
      ]
     },
     "execution_count": 17,
     "metadata": {},
     "output_type": "execute_result"
    }
   ],
   "source": [
    "moa_df[\"impact_score\"] = moa_df[\"predictive_implication\"].copy()\n",
    "\n",
    "moa_df.loc[moa_df[\"impact_score\"] == \"FDA-Approved\", \"impact_score\"] = 10\n",
    "moa_df.loc[moa_df[\"impact_score\"] == \"Guideline\", \"impact_score\"] = 10\n",
    "moa_df.loc[moa_df[\"impact_score\"] == \"Clinical evidence\", \"impact_score\"] = 5\n",
    "moa_df.loc[moa_df[\"impact_score\"] == \"Clinical trial\", \"impact_score\"] = 5\n",
    "moa_df.loc[moa_df[\"impact_score\"] == \"Preclinical\", \"impact_score\"] = 1\n",
    "moa_df.loc[moa_df[\"impact_score\"] == \"Inferential\", \"impact_score\"] = 1\n",
    "\n",
    "moa_df.head()"
   ]
  },
  {
   "attachments": {},
   "cell_type": "markdown",
   "metadata": {},
   "source": [
    "### Impact Score Analysis"
   ]
  },
  {
   "cell_type": "code",
   "execution_count": 18,
   "metadata": {},
   "outputs": [
    {
     "name": "stdout",
     "output_type": "stream",
     "text": [
      "Expression: 12\n",
      "Epigenetic Modification: 0\n",
      "Fusion: 0\n",
      "Protein Consequence: 3999\n",
      "Gene Function: 0\n",
      "Rearrangements: 644\n",
      "Copy Number: 415\n",
      "Other: 62\n",
      "Genotypes Easy: 0\n",
      "Genotypes Compound: 0\n",
      "Region Defined Variant: 0\n",
      "Transcript Variant: 0\n"
     ]
    }
   ],
   "source": [
    "feature_categories_impact_data = dict()\n",
    "for category in VARIANT_CATEGORY_VALUES:\n",
    "    feature_categories_impact_data[category] = {}\n",
    "    impact_category_df = moa_df[moa_df.category == category]\n",
    "\n",
    "    total_sum_category_impact = impact_category_df[\"impact_score\"].sum()\n",
    "    feature_categories_impact_data[category][\"total_sum_category_impact\"] = total_sum_category_impact\n",
    "    print(f\"{category}: {total_sum_category_impact}\")"
   ]
  },
  {
   "attachments": {},
   "cell_type": "markdown",
   "metadata": {},
   "source": [
    "### Features (Variants) Analysis"
   ]
  },
  {
   "cell_type": "code",
   "execution_count": 19,
   "metadata": {},
   "outputs": [],
   "source": [
    "moa_feature_data = dict()\n",
    "for category in VARIANT_CATEGORY_VALUES:\n",
    "    moa_feature_data[category] = {}\n",
    "    feature_type_df = moa_df[moa_df.category == category]\n",
    "\n",
    "    number_unique_category_features = len(set(feature_type_df.feature_digest))\n",
    "    moa_feature_data[category][\"number_unique_category_features\"] = number_unique_category_features\n",
    "\n",
    "    fraction_category_feature = f\"{number_unique_category_features} / {total_len_features}\"\n",
    "    moa_feature_data[category][\"fraction_category_feature\"] = fraction_category_feature\n",
    "\n",
    "    percent_category_feature = \"{:.2f}\".format(number_unique_category_features / total_len_features * 100) + \"%\"\n",
    "    moa_feature_data[category][\"percent_category_feature\"] = percent_category_feature"
   ]
  },
  {
   "attachments": {},
   "cell_type": "markdown",
   "metadata": {},
   "source": [
    "### Assertions (Evidence Items) Analysis"
   ]
  },
  {
   "cell_type": "code",
   "execution_count": 20,
   "metadata": {},
   "outputs": [],
   "source": [
    "moa_assertion_data = dict()\n",
    "for category in VARIANT_CATEGORY_VALUES:\n",
    "    moa_assertion_data[category] = {}\n",
    "    assertion_type_df = moa_df[moa_df.category == category]\n",
    "\n",
    "    number_unique_category_assertions = len(set(assertion_type_df.assertion_id))\n",
    "    moa_assertion_data[category][\"number_unique_category_assertions\"] = number_unique_category_assertions\n",
    "\n",
    "    fraction_category_assertion = f\"{number_unique_category_assertions} / {total_len_assertions}\"\n",
    "    moa_assertion_data[category][\"fraction_category_assertion\"] = fraction_category_assertion\n",
    "\n",
    "    percent_category_assertion = \"{:.2f}\".format(number_unique_category_assertions / total_len_assertions * 100) + \"%\"\n",
    "    moa_assertion_data[category][\"percent_category_assertion\"] = percent_category_assertion"
   ]
  },
  {
   "attachments": {},
   "cell_type": "markdown",
   "metadata": {},
   "source": [
    "### Summaries for all Features (Variants) and Assertions (Evidence Items)"
   ]
  },
  {
   "cell_type": "code",
   "execution_count": 21,
   "metadata": {},
   "outputs": [],
   "source": [
    "feature_category_impact_score = [v[\"total_sum_category_impact\"] for v in feature_categories_impact_data.values()]\n",
    "feature_category_number = [v[\"number_unique_category_features\"] for v in moa_feature_data.values()]\n",
    "feature_category_fraction = [v[\"fraction_category_feature\"] for v in moa_feature_data.values()]\n",
    "feature_category_percent = [v[\"percent_category_feature\"] for v in moa_feature_data.values()]\n",
    "feature_category_assertion_number = [v[\"number_unique_category_assertions\"] for v in moa_assertion_data.values()]\n",
    "feature_category_assertion_fraction = [v[\"fraction_category_assertion\"] for v in moa_assertion_data.values()]\n",
    "feature_category_assertion_percent = [v[\"percent_category_assertion\"] for v in moa_assertion_data.values()]"
   ]
  },
  {
   "cell_type": "code",
   "execution_count": 22,
   "metadata": {},
   "outputs": [],
   "source": [
    "feature_category_dict = {\n",
    "    \"Category\": VARIANT_CATEGORY_VALUES,\n",
    "    \"Number of Features\": feature_category_number,\n",
    "    \"Fraction of Features\": feature_category_fraction,\n",
    "    \"Percent of Features\": feature_category_percent,\n",
    "    \"Number of Assertions\": feature_category_assertion_number,\n",
    "    \"Fraction of Assertions\": feature_category_assertion_fraction,\n",
    "    \"Percent of Assertions\": feature_category_assertion_percent,\n",
    "    \"Impact Score\": feature_category_impact_score\n",
    "}"
   ]
  },
  {
   "cell_type": "code",
   "execution_count": 23,
   "metadata": {},
   "outputs": [
    {
     "data": {
      "text/html": [
       "<div>\n",
       "<style scoped>\n",
       "    .dataframe tbody tr th:only-of-type {\n",
       "        vertical-align: middle;\n",
       "    }\n",
       "\n",
       "    .dataframe tbody tr th {\n",
       "        vertical-align: top;\n",
       "    }\n",
       "\n",
       "    .dataframe thead th {\n",
       "        text-align: right;\n",
       "    }\n",
       "</style>\n",
       "<table border=\"1\" class=\"dataframe\">\n",
       "  <thead>\n",
       "    <tr style=\"text-align: right;\">\n",
       "      <th></th>\n",
       "      <th>Category</th>\n",
       "      <th>Number of Features</th>\n",
       "      <th>Fraction of Features</th>\n",
       "      <th>Percent of Features</th>\n",
       "      <th>Number of Assertions</th>\n",
       "      <th>Fraction of Assertions</th>\n",
       "      <th>Percent of Assertions</th>\n",
       "      <th>Impact Score</th>\n",
       "    </tr>\n",
       "  </thead>\n",
       "  <tbody>\n",
       "    <tr>\n",
       "      <th>0</th>\n",
       "      <td>Expression</td>\n",
       "      <td>11</td>\n",
       "      <td>11 / 423</td>\n",
       "      <td>2.60%</td>\n",
       "      <td>12</td>\n",
       "      <td>12 / 874</td>\n",
       "      <td>1.37%</td>\n",
       "      <td>12</td>\n",
       "    </tr>\n",
       "    <tr>\n",
       "      <th>1</th>\n",
       "      <td>Epigenetic Modification</td>\n",
       "      <td>0</td>\n",
       "      <td>0 / 423</td>\n",
       "      <td>0.00%</td>\n",
       "      <td>0</td>\n",
       "      <td>0 / 874</td>\n",
       "      <td>0.00%</td>\n",
       "      <td>0</td>\n",
       "    </tr>\n",
       "    <tr>\n",
       "      <th>2</th>\n",
       "      <td>Fusion</td>\n",
       "      <td>0</td>\n",
       "      <td>0 / 423</td>\n",
       "      <td>0.00%</td>\n",
       "      <td>0</td>\n",
       "      <td>0 / 874</td>\n",
       "      <td>0.00%</td>\n",
       "      <td>0</td>\n",
       "    </tr>\n",
       "    <tr>\n",
       "      <th>3</th>\n",
       "      <td>Protein Consequence</td>\n",
       "      <td>318</td>\n",
       "      <td>318 / 423</td>\n",
       "      <td>75.18%</td>\n",
       "      <td>656</td>\n",
       "      <td>656 / 874</td>\n",
       "      <td>75.06%</td>\n",
       "      <td>3999</td>\n",
       "    </tr>\n",
       "    <tr>\n",
       "      <th>4</th>\n",
       "      <td>Gene Function</td>\n",
       "      <td>0</td>\n",
       "      <td>0 / 423</td>\n",
       "      <td>0.00%</td>\n",
       "      <td>0</td>\n",
       "      <td>0 / 874</td>\n",
       "      <td>0.00%</td>\n",
       "      <td>0</td>\n",
       "    </tr>\n",
       "    <tr>\n",
       "      <th>5</th>\n",
       "      <td>Rearrangements</td>\n",
       "      <td>38</td>\n",
       "      <td>38 / 423</td>\n",
       "      <td>8.98%</td>\n",
       "      <td>81</td>\n",
       "      <td>81 / 874</td>\n",
       "      <td>9.27%</td>\n",
       "      <td>644</td>\n",
       "    </tr>\n",
       "    <tr>\n",
       "      <th>6</th>\n",
       "      <td>Copy Number</td>\n",
       "      <td>47</td>\n",
       "      <td>47 / 423</td>\n",
       "      <td>11.11%</td>\n",
       "      <td>102</td>\n",
       "      <td>102 / 874</td>\n",
       "      <td>11.67%</td>\n",
       "      <td>415</td>\n",
       "    </tr>\n",
       "    <tr>\n",
       "      <th>7</th>\n",
       "      <td>Other</td>\n",
       "      <td>9</td>\n",
       "      <td>9 / 423</td>\n",
       "      <td>2.13%</td>\n",
       "      <td>23</td>\n",
       "      <td>23 / 874</td>\n",
       "      <td>2.63%</td>\n",
       "      <td>62</td>\n",
       "    </tr>\n",
       "    <tr>\n",
       "      <th>8</th>\n",
       "      <td>Genotypes Easy</td>\n",
       "      <td>0</td>\n",
       "      <td>0 / 423</td>\n",
       "      <td>0.00%</td>\n",
       "      <td>0</td>\n",
       "      <td>0 / 874</td>\n",
       "      <td>0.00%</td>\n",
       "      <td>0</td>\n",
       "    </tr>\n",
       "    <tr>\n",
       "      <th>9</th>\n",
       "      <td>Genotypes Compound</td>\n",
       "      <td>0</td>\n",
       "      <td>0 / 423</td>\n",
       "      <td>0.00%</td>\n",
       "      <td>0</td>\n",
       "      <td>0 / 874</td>\n",
       "      <td>0.00%</td>\n",
       "      <td>0</td>\n",
       "    </tr>\n",
       "    <tr>\n",
       "      <th>10</th>\n",
       "      <td>Region Defined Variant</td>\n",
       "      <td>0</td>\n",
       "      <td>0 / 423</td>\n",
       "      <td>0.00%</td>\n",
       "      <td>0</td>\n",
       "      <td>0 / 874</td>\n",
       "      <td>0.00%</td>\n",
       "      <td>0</td>\n",
       "    </tr>\n",
       "    <tr>\n",
       "      <th>11</th>\n",
       "      <td>Transcript Variant</td>\n",
       "      <td>0</td>\n",
       "      <td>0 / 423</td>\n",
       "      <td>0.00%</td>\n",
       "      <td>0</td>\n",
       "      <td>0 / 874</td>\n",
       "      <td>0.00%</td>\n",
       "      <td>0</td>\n",
       "    </tr>\n",
       "  </tbody>\n",
       "</table>\n",
       "</div>"
      ],
      "text/plain": [
       "                   Category  Number of Features Fraction of Features  \\\n",
       "0                Expression                  11             11 / 423   \n",
       "1   Epigenetic Modification                   0              0 / 423   \n",
       "2                    Fusion                   0              0 / 423   \n",
       "3       Protein Consequence                 318            318 / 423   \n",
       "4             Gene Function                   0              0 / 423   \n",
       "5            Rearrangements                  38             38 / 423   \n",
       "6               Copy Number                  47             47 / 423   \n",
       "7                     Other                   9              9 / 423   \n",
       "8            Genotypes Easy                   0              0 / 423   \n",
       "9        Genotypes Compound                   0              0 / 423   \n",
       "10   Region Defined Variant                   0              0 / 423   \n",
       "11       Transcript Variant                   0              0 / 423   \n",
       "\n",
       "   Percent of Features  Number of Assertions Fraction of Assertions  \\\n",
       "0                2.60%                    12               12 / 874   \n",
       "1                0.00%                     0                0 / 874   \n",
       "2                0.00%                     0                0 / 874   \n",
       "3               75.18%                   656              656 / 874   \n",
       "4                0.00%                     0                0 / 874   \n",
       "5                8.98%                    81               81 / 874   \n",
       "6               11.11%                   102              102 / 874   \n",
       "7                2.13%                    23               23 / 874   \n",
       "8                0.00%                     0                0 / 874   \n",
       "9                0.00%                     0                0 / 874   \n",
       "10               0.00%                     0                0 / 874   \n",
       "11               0.00%                     0                0 / 874   \n",
       "\n",
       "   Percent of Assertions  Impact Score  \n",
       "0                  1.37%            12  \n",
       "1                  0.00%             0  \n",
       "2                  0.00%             0  \n",
       "3                 75.06%          3999  \n",
       "4                  0.00%             0  \n",
       "5                  9.27%           644  \n",
       "6                 11.67%           415  \n",
       "7                  2.63%            62  \n",
       "8                  0.00%             0  \n",
       "9                  0.00%             0  \n",
       "10                 0.00%             0  \n",
       "11                 0.00%             0  "
      ]
     },
     "execution_count": 23,
     "metadata": {},
     "output_type": "execute_result"
    }
   ],
   "source": [
    "moa_feature_df = pd.DataFrame(feature_category_dict)\n",
    "moa_feature_df"
   ]
  },
  {
   "cell_type": "code",
   "execution_count": 24,
   "metadata": {},
   "outputs": [],
   "source": [
    "moa_feature_df[\"Percent of Features\"] = moa_feature_df[\"Fraction of Features\"].astype(str) + \" (\" + moa_feature_df[\"Percent of Features\"] + \")\"\n",
    "moa_feature_df[\"Percent of Assertions\"] = moa_feature_df[\"Fraction of Assertions\"].astype(str) + \" (\" + moa_feature_df[\"Percent of Assertions\"] + \")\""
   ]
  },
  {
   "cell_type": "code",
   "execution_count": 25,
   "metadata": {},
   "outputs": [],
   "source": [
    "moa_feature_df_abbreviated = moa_feature_df.drop([\"Number of Features\", \"Fraction of Features\", \"Number of Assertions\", \"Fraction of Assertions\"], axis=1)"
   ]
  },
  {
   "cell_type": "code",
   "execution_count": 26,
   "metadata": {},
   "outputs": [
    {
     "data": {
      "text/html": [
       "<div>\n",
       "<style scoped>\n",
       "    .dataframe tbody tr th:only-of-type {\n",
       "        vertical-align: middle;\n",
       "    }\n",
       "\n",
       "    .dataframe tbody tr th {\n",
       "        vertical-align: top;\n",
       "    }\n",
       "\n",
       "    .dataframe thead th {\n",
       "        text-align: right;\n",
       "    }\n",
       "</style>\n",
       "<table border=\"1\" class=\"dataframe\">\n",
       "  <thead>\n",
       "    <tr style=\"text-align: right;\">\n",
       "      <th></th>\n",
       "      <th>Percent of Features</th>\n",
       "      <th>Percent of Assertions</th>\n",
       "      <th>Impact Score</th>\n",
       "    </tr>\n",
       "    <tr>\n",
       "      <th>Category</th>\n",
       "      <th></th>\n",
       "      <th></th>\n",
       "      <th></th>\n",
       "    </tr>\n",
       "  </thead>\n",
       "  <tbody>\n",
       "    <tr>\n",
       "      <th>Expression</th>\n",
       "      <td>11 / 423 (2.60%)</td>\n",
       "      <td>12 / 874 (1.37%)</td>\n",
       "      <td>12</td>\n",
       "    </tr>\n",
       "    <tr>\n",
       "      <th>Epigenetic Modification</th>\n",
       "      <td>0 / 423 (0.00%)</td>\n",
       "      <td>0 / 874 (0.00%)</td>\n",
       "      <td>0</td>\n",
       "    </tr>\n",
       "    <tr>\n",
       "      <th>Fusion</th>\n",
       "      <td>0 / 423 (0.00%)</td>\n",
       "      <td>0 / 874 (0.00%)</td>\n",
       "      <td>0</td>\n",
       "    </tr>\n",
       "    <tr>\n",
       "      <th>Protein Consequence</th>\n",
       "      <td>318 / 423 (75.18%)</td>\n",
       "      <td>656 / 874 (75.06%)</td>\n",
       "      <td>3999</td>\n",
       "    </tr>\n",
       "    <tr>\n",
       "      <th>Gene Function</th>\n",
       "      <td>0 / 423 (0.00%)</td>\n",
       "      <td>0 / 874 (0.00%)</td>\n",
       "      <td>0</td>\n",
       "    </tr>\n",
       "    <tr>\n",
       "      <th>Rearrangements</th>\n",
       "      <td>38 / 423 (8.98%)</td>\n",
       "      <td>81 / 874 (9.27%)</td>\n",
       "      <td>644</td>\n",
       "    </tr>\n",
       "    <tr>\n",
       "      <th>Copy Number</th>\n",
       "      <td>47 / 423 (11.11%)</td>\n",
       "      <td>102 / 874 (11.67%)</td>\n",
       "      <td>415</td>\n",
       "    </tr>\n",
       "    <tr>\n",
       "      <th>Other</th>\n",
       "      <td>9 / 423 (2.13%)</td>\n",
       "      <td>23 / 874 (2.63%)</td>\n",
       "      <td>62</td>\n",
       "    </tr>\n",
       "    <tr>\n",
       "      <th>Genotypes Easy</th>\n",
       "      <td>0 / 423 (0.00%)</td>\n",
       "      <td>0 / 874 (0.00%)</td>\n",
       "      <td>0</td>\n",
       "    </tr>\n",
       "    <tr>\n",
       "      <th>Genotypes Compound</th>\n",
       "      <td>0 / 423 (0.00%)</td>\n",
       "      <td>0 / 874 (0.00%)</td>\n",
       "      <td>0</td>\n",
       "    </tr>\n",
       "    <tr>\n",
       "      <th>Region Defined Variant</th>\n",
       "      <td>0 / 423 (0.00%)</td>\n",
       "      <td>0 / 874 (0.00%)</td>\n",
       "      <td>0</td>\n",
       "    </tr>\n",
       "    <tr>\n",
       "      <th>Transcript Variant</th>\n",
       "      <td>0 / 423 (0.00%)</td>\n",
       "      <td>0 / 874 (0.00%)</td>\n",
       "      <td>0</td>\n",
       "    </tr>\n",
       "  </tbody>\n",
       "</table>\n",
       "</div>"
      ],
      "text/plain": [
       "                        Percent of Features Percent of Assertions  \\\n",
       "Category                                                            \n",
       "Expression                 11 / 423 (2.60%)      12 / 874 (1.37%)   \n",
       "Epigenetic Modification     0 / 423 (0.00%)       0 / 874 (0.00%)   \n",
       "Fusion                      0 / 423 (0.00%)       0 / 874 (0.00%)   \n",
       "Protein Consequence      318 / 423 (75.18%)    656 / 874 (75.06%)   \n",
       "Gene Function               0 / 423 (0.00%)       0 / 874 (0.00%)   \n",
       "Rearrangements             38 / 423 (8.98%)      81 / 874 (9.27%)   \n",
       "Copy Number               47 / 423 (11.11%)    102 / 874 (11.67%)   \n",
       "Other                       9 / 423 (2.13%)      23 / 874 (2.63%)   \n",
       "Genotypes Easy              0 / 423 (0.00%)       0 / 874 (0.00%)   \n",
       "Genotypes Compound          0 / 423 (0.00%)       0 / 874 (0.00%)   \n",
       "Region Defined Variant      0 / 423 (0.00%)       0 / 874 (0.00%)   \n",
       "Transcript Variant          0 / 423 (0.00%)       0 / 874 (0.00%)   \n",
       "\n",
       "                         Impact Score  \n",
       "Category                               \n",
       "Expression                         12  \n",
       "Epigenetic Modification             0  \n",
       "Fusion                              0  \n",
       "Protein Consequence              3999  \n",
       "Gene Function                       0  \n",
       "Rearrangements                    644  \n",
       "Copy Number                       415  \n",
       "Other                              62  \n",
       "Genotypes Easy                      0  \n",
       "Genotypes Compound                  0  \n",
       "Region Defined Variant              0  \n",
       "Transcript Variant                  0  "
      ]
     },
     "execution_count": 26,
     "metadata": {},
     "output_type": "execute_result"
    }
   ],
   "source": [
    "moa_feature_df_abbreviated = moa_feature_df_abbreviated.set_index(\"Category\")\n",
    "moa_feature_df_abbreviated"
   ]
  },
  {
   "cell_type": "code",
   "execution_count": 27,
   "metadata": {},
   "outputs": [
    {
     "data": {
      "application/vnd.plotly.v1+json": {
       "config": {
        "plotlyServerURL": "https://plot.ly"
       },
       "data": [
        {
         "hovertemplate": "Category=Expression<br>Number of Assertions=%{x}<br>Impact Score=%{y}<br>Number of Features=%{text}<extra></extra>",
         "legendgroup": "Expression",
         "marker": {
          "color": "#636efa",
          "size": [
           11
          ],
          "sizemode": "area",
          "sizeref": 0.19875,
          "symbol": "circle"
         },
         "mode": "markers+text",
         "name": "Expression",
         "orientation": "v",
         "showlegend": true,
         "text": [
          11
         ],
         "type": "scatter",
         "x": [
          12
         ],
         "xaxis": "x",
         "y": [
          12
         ],
         "yaxis": "y"
        },
        {
         "hovertemplate": "Category=Epigenetic Modification<br>Number of Assertions=%{x}<br>Impact Score=%{y}<br>Number of Features=%{text}<extra></extra>",
         "legendgroup": "Epigenetic Modification",
         "marker": {
          "color": "#EF553B",
          "size": [
           0
          ],
          "sizemode": "area",
          "sizeref": 0.19875,
          "symbol": "circle"
         },
         "mode": "markers+text",
         "name": "Epigenetic Modification",
         "orientation": "v",
         "showlegend": true,
         "text": [
          0
         ],
         "type": "scatter",
         "x": [
          0
         ],
         "xaxis": "x",
         "y": [
          0
         ],
         "yaxis": "y"
        },
        {
         "hovertemplate": "Category=Fusion<br>Number of Assertions=%{x}<br>Impact Score=%{y}<br>Number of Features=%{text}<extra></extra>",
         "legendgroup": "Fusion",
         "marker": {
          "color": "#00cc96",
          "size": [
           0
          ],
          "sizemode": "area",
          "sizeref": 0.19875,
          "symbol": "circle"
         },
         "mode": "markers+text",
         "name": "Fusion",
         "orientation": "v",
         "showlegend": true,
         "text": [
          0
         ],
         "type": "scatter",
         "x": [
          0
         ],
         "xaxis": "x",
         "y": [
          0
         ],
         "yaxis": "y"
        },
        {
         "hovertemplate": "Category=Protein Consequence<br>Number of Assertions=%{x}<br>Impact Score=%{y}<br>Number of Features=%{text}<extra></extra>",
         "legendgroup": "Protein Consequence",
         "marker": {
          "color": "#ab63fa",
          "size": [
           318
          ],
          "sizemode": "area",
          "sizeref": 0.19875,
          "symbol": "circle"
         },
         "mode": "markers+text",
         "name": "Protein Consequence",
         "orientation": "v",
         "showlegend": true,
         "text": [
          318
         ],
         "type": "scatter",
         "x": [
          656
         ],
         "xaxis": "x",
         "y": [
          3999
         ],
         "yaxis": "y"
        },
        {
         "hovertemplate": "Category=Gene Function<br>Number of Assertions=%{x}<br>Impact Score=%{y}<br>Number of Features=%{text}<extra></extra>",
         "legendgroup": "Gene Function",
         "marker": {
          "color": "#FFA15A",
          "size": [
           0
          ],
          "sizemode": "area",
          "sizeref": 0.19875,
          "symbol": "circle"
         },
         "mode": "markers+text",
         "name": "Gene Function",
         "orientation": "v",
         "showlegend": true,
         "text": [
          0
         ],
         "type": "scatter",
         "x": [
          0
         ],
         "xaxis": "x",
         "y": [
          0
         ],
         "yaxis": "y"
        },
        {
         "hovertemplate": "Category=Rearrangements<br>Number of Assertions=%{x}<br>Impact Score=%{y}<br>Number of Features=%{text}<extra></extra>",
         "legendgroup": "Rearrangements",
         "marker": {
          "color": "#19d3f3",
          "size": [
           38
          ],
          "sizemode": "area",
          "sizeref": 0.19875,
          "symbol": "circle"
         },
         "mode": "markers+text",
         "name": "Rearrangements",
         "orientation": "v",
         "showlegend": true,
         "text": [
          38
         ],
         "type": "scatter",
         "x": [
          81
         ],
         "xaxis": "x",
         "y": [
          644
         ],
         "yaxis": "y"
        },
        {
         "hovertemplate": "Category=Copy Number<br>Number of Assertions=%{x}<br>Impact Score=%{y}<br>Number of Features=%{text}<extra></extra>",
         "legendgroup": "Copy Number",
         "marker": {
          "color": "#FF6692",
          "size": [
           47
          ],
          "sizemode": "area",
          "sizeref": 0.19875,
          "symbol": "circle"
         },
         "mode": "markers+text",
         "name": "Copy Number",
         "orientation": "v",
         "showlegend": true,
         "text": [
          47
         ],
         "type": "scatter",
         "x": [
          102
         ],
         "xaxis": "x",
         "y": [
          415
         ],
         "yaxis": "y"
        },
        {
         "hovertemplate": "Category=Other<br>Number of Assertions=%{x}<br>Impact Score=%{y}<br>Number of Features=%{text}<extra></extra>",
         "legendgroup": "Other",
         "marker": {
          "color": "#B6E880",
          "size": [
           9
          ],
          "sizemode": "area",
          "sizeref": 0.19875,
          "symbol": "circle"
         },
         "mode": "markers+text",
         "name": "Other",
         "orientation": "v",
         "showlegend": true,
         "text": [
          9
         ],
         "type": "scatter",
         "x": [
          23
         ],
         "xaxis": "x",
         "y": [
          62
         ],
         "yaxis": "y"
        },
        {
         "hovertemplate": "Category=Genotypes Easy<br>Number of Assertions=%{x}<br>Impact Score=%{y}<br>Number of Features=%{text}<extra></extra>",
         "legendgroup": "Genotypes Easy",
         "marker": {
          "color": "#FF97FF",
          "size": [
           0
          ],
          "sizemode": "area",
          "sizeref": 0.19875,
          "symbol": "circle"
         },
         "mode": "markers+text",
         "name": "Genotypes Easy",
         "orientation": "v",
         "showlegend": true,
         "text": [
          0
         ],
         "type": "scatter",
         "x": [
          0
         ],
         "xaxis": "x",
         "y": [
          0
         ],
         "yaxis": "y"
        },
        {
         "hovertemplate": "Category=Genotypes Compound<br>Number of Assertions=%{x}<br>Impact Score=%{y}<br>Number of Features=%{text}<extra></extra>",
         "legendgroup": "Genotypes Compound",
         "marker": {
          "color": "#FECB52",
          "size": [
           0
          ],
          "sizemode": "area",
          "sizeref": 0.19875,
          "symbol": "circle"
         },
         "mode": "markers+text",
         "name": "Genotypes Compound",
         "orientation": "v",
         "showlegend": true,
         "text": [
          0
         ],
         "type": "scatter",
         "x": [
          0
         ],
         "xaxis": "x",
         "y": [
          0
         ],
         "yaxis": "y"
        },
        {
         "hovertemplate": "Category=Region Defined Variant<br>Number of Assertions=%{x}<br>Impact Score=%{y}<br>Number of Features=%{text}<extra></extra>",
         "legendgroup": "Region Defined Variant",
         "marker": {
          "color": "#636efa",
          "size": [
           0
          ],
          "sizemode": "area",
          "sizeref": 0.19875,
          "symbol": "circle"
         },
         "mode": "markers+text",
         "name": "Region Defined Variant",
         "orientation": "v",
         "showlegend": true,
         "text": [
          0
         ],
         "type": "scatter",
         "x": [
          0
         ],
         "xaxis": "x",
         "y": [
          0
         ],
         "yaxis": "y"
        },
        {
         "hovertemplate": "Category=Transcript Variant<br>Number of Assertions=%{x}<br>Impact Score=%{y}<br>Number of Features=%{text}<extra></extra>",
         "legendgroup": "Transcript Variant",
         "marker": {
          "color": "#EF553B",
          "size": [
           0
          ],
          "sizemode": "area",
          "sizeref": 0.19875,
          "symbol": "circle"
         },
         "mode": "markers+text",
         "name": "Transcript Variant",
         "orientation": "v",
         "showlegend": true,
         "text": [
          0
         ],
         "type": "scatter",
         "x": [
          0
         ],
         "xaxis": "x",
         "y": [
          0
         ],
         "yaxis": "y"
        }
       ],
       "layout": {
        "legend": {
         "itemsizing": "constant",
         "title": {
          "text": "Category"
         },
         "tracegroupgap": 0
        },
        "margin": {
         "t": 60
        },
        "template": {
         "data": {
          "bar": [
           {
            "error_x": {
             "color": "#2a3f5f"
            },
            "error_y": {
             "color": "#2a3f5f"
            },
            "marker": {
             "line": {
              "color": "#E5ECF6",
              "width": 0.5
             },
             "pattern": {
              "fillmode": "overlay",
              "size": 10,
              "solidity": 0.2
             }
            },
            "type": "bar"
           }
          ],
          "barpolar": [
           {
            "marker": {
             "line": {
              "color": "#E5ECF6",
              "width": 0.5
             },
             "pattern": {
              "fillmode": "overlay",
              "size": 10,
              "solidity": 0.2
             }
            },
            "type": "barpolar"
           }
          ],
          "carpet": [
           {
            "aaxis": {
             "endlinecolor": "#2a3f5f",
             "gridcolor": "white",
             "linecolor": "white",
             "minorgridcolor": "white",
             "startlinecolor": "#2a3f5f"
            },
            "baxis": {
             "endlinecolor": "#2a3f5f",
             "gridcolor": "white",
             "linecolor": "white",
             "minorgridcolor": "white",
             "startlinecolor": "#2a3f5f"
            },
            "type": "carpet"
           }
          ],
          "choropleth": [
           {
            "colorbar": {
             "outlinewidth": 0,
             "ticks": ""
            },
            "type": "choropleth"
           }
          ],
          "contour": [
           {
            "colorbar": {
             "outlinewidth": 0,
             "ticks": ""
            },
            "colorscale": [
             [
              0,
              "#0d0887"
             ],
             [
              0.1111111111111111,
              "#46039f"
             ],
             [
              0.2222222222222222,
              "#7201a8"
             ],
             [
              0.3333333333333333,
              "#9c179e"
             ],
             [
              0.4444444444444444,
              "#bd3786"
             ],
             [
              0.5555555555555556,
              "#d8576b"
             ],
             [
              0.6666666666666666,
              "#ed7953"
             ],
             [
              0.7777777777777778,
              "#fb9f3a"
             ],
             [
              0.8888888888888888,
              "#fdca26"
             ],
             [
              1,
              "#f0f921"
             ]
            ],
            "type": "contour"
           }
          ],
          "contourcarpet": [
           {
            "colorbar": {
             "outlinewidth": 0,
             "ticks": ""
            },
            "type": "contourcarpet"
           }
          ],
          "heatmap": [
           {
            "colorbar": {
             "outlinewidth": 0,
             "ticks": ""
            },
            "colorscale": [
             [
              0,
              "#0d0887"
             ],
             [
              0.1111111111111111,
              "#46039f"
             ],
             [
              0.2222222222222222,
              "#7201a8"
             ],
             [
              0.3333333333333333,
              "#9c179e"
             ],
             [
              0.4444444444444444,
              "#bd3786"
             ],
             [
              0.5555555555555556,
              "#d8576b"
             ],
             [
              0.6666666666666666,
              "#ed7953"
             ],
             [
              0.7777777777777778,
              "#fb9f3a"
             ],
             [
              0.8888888888888888,
              "#fdca26"
             ],
             [
              1,
              "#f0f921"
             ]
            ],
            "type": "heatmap"
           }
          ],
          "heatmapgl": [
           {
            "colorbar": {
             "outlinewidth": 0,
             "ticks": ""
            },
            "colorscale": [
             [
              0,
              "#0d0887"
             ],
             [
              0.1111111111111111,
              "#46039f"
             ],
             [
              0.2222222222222222,
              "#7201a8"
             ],
             [
              0.3333333333333333,
              "#9c179e"
             ],
             [
              0.4444444444444444,
              "#bd3786"
             ],
             [
              0.5555555555555556,
              "#d8576b"
             ],
             [
              0.6666666666666666,
              "#ed7953"
             ],
             [
              0.7777777777777778,
              "#fb9f3a"
             ],
             [
              0.8888888888888888,
              "#fdca26"
             ],
             [
              1,
              "#f0f921"
             ]
            ],
            "type": "heatmapgl"
           }
          ],
          "histogram": [
           {
            "marker": {
             "pattern": {
              "fillmode": "overlay",
              "size": 10,
              "solidity": 0.2
             }
            },
            "type": "histogram"
           }
          ],
          "histogram2d": [
           {
            "colorbar": {
             "outlinewidth": 0,
             "ticks": ""
            },
            "colorscale": [
             [
              0,
              "#0d0887"
             ],
             [
              0.1111111111111111,
              "#46039f"
             ],
             [
              0.2222222222222222,
              "#7201a8"
             ],
             [
              0.3333333333333333,
              "#9c179e"
             ],
             [
              0.4444444444444444,
              "#bd3786"
             ],
             [
              0.5555555555555556,
              "#d8576b"
             ],
             [
              0.6666666666666666,
              "#ed7953"
             ],
             [
              0.7777777777777778,
              "#fb9f3a"
             ],
             [
              0.8888888888888888,
              "#fdca26"
             ],
             [
              1,
              "#f0f921"
             ]
            ],
            "type": "histogram2d"
           }
          ],
          "histogram2dcontour": [
           {
            "colorbar": {
             "outlinewidth": 0,
             "ticks": ""
            },
            "colorscale": [
             [
              0,
              "#0d0887"
             ],
             [
              0.1111111111111111,
              "#46039f"
             ],
             [
              0.2222222222222222,
              "#7201a8"
             ],
             [
              0.3333333333333333,
              "#9c179e"
             ],
             [
              0.4444444444444444,
              "#bd3786"
             ],
             [
              0.5555555555555556,
              "#d8576b"
             ],
             [
              0.6666666666666666,
              "#ed7953"
             ],
             [
              0.7777777777777778,
              "#fb9f3a"
             ],
             [
              0.8888888888888888,
              "#fdca26"
             ],
             [
              1,
              "#f0f921"
             ]
            ],
            "type": "histogram2dcontour"
           }
          ],
          "mesh3d": [
           {
            "colorbar": {
             "outlinewidth": 0,
             "ticks": ""
            },
            "type": "mesh3d"
           }
          ],
          "parcoords": [
           {
            "line": {
             "colorbar": {
              "outlinewidth": 0,
              "ticks": ""
             }
            },
            "type": "parcoords"
           }
          ],
          "pie": [
           {
            "automargin": true,
            "type": "pie"
           }
          ],
          "scatter": [
           {
            "fillpattern": {
             "fillmode": "overlay",
             "size": 10,
             "solidity": 0.2
            },
            "type": "scatter"
           }
          ],
          "scatter3d": [
           {
            "line": {
             "colorbar": {
              "outlinewidth": 0,
              "ticks": ""
             }
            },
            "marker": {
             "colorbar": {
              "outlinewidth": 0,
              "ticks": ""
             }
            },
            "type": "scatter3d"
           }
          ],
          "scattercarpet": [
           {
            "marker": {
             "colorbar": {
              "outlinewidth": 0,
              "ticks": ""
             }
            },
            "type": "scattercarpet"
           }
          ],
          "scattergeo": [
           {
            "marker": {
             "colorbar": {
              "outlinewidth": 0,
              "ticks": ""
             }
            },
            "type": "scattergeo"
           }
          ],
          "scattergl": [
           {
            "marker": {
             "colorbar": {
              "outlinewidth": 0,
              "ticks": ""
             }
            },
            "type": "scattergl"
           }
          ],
          "scattermapbox": [
           {
            "marker": {
             "colorbar": {
              "outlinewidth": 0,
              "ticks": ""
             }
            },
            "type": "scattermapbox"
           }
          ],
          "scatterpolar": [
           {
            "marker": {
             "colorbar": {
              "outlinewidth": 0,
              "ticks": ""
             }
            },
            "type": "scatterpolar"
           }
          ],
          "scatterpolargl": [
           {
            "marker": {
             "colorbar": {
              "outlinewidth": 0,
              "ticks": ""
             }
            },
            "type": "scatterpolargl"
           }
          ],
          "scatterternary": [
           {
            "marker": {
             "colorbar": {
              "outlinewidth": 0,
              "ticks": ""
             }
            },
            "type": "scatterternary"
           }
          ],
          "surface": [
           {
            "colorbar": {
             "outlinewidth": 0,
             "ticks": ""
            },
            "colorscale": [
             [
              0,
              "#0d0887"
             ],
             [
              0.1111111111111111,
              "#46039f"
             ],
             [
              0.2222222222222222,
              "#7201a8"
             ],
             [
              0.3333333333333333,
              "#9c179e"
             ],
             [
              0.4444444444444444,
              "#bd3786"
             ],
             [
              0.5555555555555556,
              "#d8576b"
             ],
             [
              0.6666666666666666,
              "#ed7953"
             ],
             [
              0.7777777777777778,
              "#fb9f3a"
             ],
             [
              0.8888888888888888,
              "#fdca26"
             ],
             [
              1,
              "#f0f921"
             ]
            ],
            "type": "surface"
           }
          ],
          "table": [
           {
            "cells": {
             "fill": {
              "color": "#EBF0F8"
             },
             "line": {
              "color": "white"
             }
            },
            "header": {
             "fill": {
              "color": "#C8D4E3"
             },
             "line": {
              "color": "white"
             }
            },
            "type": "table"
           }
          ]
         },
         "layout": {
          "annotationdefaults": {
           "arrowcolor": "#2a3f5f",
           "arrowhead": 0,
           "arrowwidth": 1
          },
          "autotypenumbers": "strict",
          "coloraxis": {
           "colorbar": {
            "outlinewidth": 0,
            "ticks": ""
           }
          },
          "colorscale": {
           "diverging": [
            [
             0,
             "#8e0152"
            ],
            [
             0.1,
             "#c51b7d"
            ],
            [
             0.2,
             "#de77ae"
            ],
            [
             0.3,
             "#f1b6da"
            ],
            [
             0.4,
             "#fde0ef"
            ],
            [
             0.5,
             "#f7f7f7"
            ],
            [
             0.6,
             "#e6f5d0"
            ],
            [
             0.7,
             "#b8e186"
            ],
            [
             0.8,
             "#7fbc41"
            ],
            [
             0.9,
             "#4d9221"
            ],
            [
             1,
             "#276419"
            ]
           ],
           "sequential": [
            [
             0,
             "#0d0887"
            ],
            [
             0.1111111111111111,
             "#46039f"
            ],
            [
             0.2222222222222222,
             "#7201a8"
            ],
            [
             0.3333333333333333,
             "#9c179e"
            ],
            [
             0.4444444444444444,
             "#bd3786"
            ],
            [
             0.5555555555555556,
             "#d8576b"
            ],
            [
             0.6666666666666666,
             "#ed7953"
            ],
            [
             0.7777777777777778,
             "#fb9f3a"
            ],
            [
             0.8888888888888888,
             "#fdca26"
            ],
            [
             1,
             "#f0f921"
            ]
           ],
           "sequentialminus": [
            [
             0,
             "#0d0887"
            ],
            [
             0.1111111111111111,
             "#46039f"
            ],
            [
             0.2222222222222222,
             "#7201a8"
            ],
            [
             0.3333333333333333,
             "#9c179e"
            ],
            [
             0.4444444444444444,
             "#bd3786"
            ],
            [
             0.5555555555555556,
             "#d8576b"
            ],
            [
             0.6666666666666666,
             "#ed7953"
            ],
            [
             0.7777777777777778,
             "#fb9f3a"
            ],
            [
             0.8888888888888888,
             "#fdca26"
            ],
            [
             1,
             "#f0f921"
            ]
           ]
          },
          "colorway": [
           "#636efa",
           "#EF553B",
           "#00cc96",
           "#ab63fa",
           "#FFA15A",
           "#19d3f3",
           "#FF6692",
           "#B6E880",
           "#FF97FF",
           "#FECB52"
          ],
          "font": {
           "color": "#2a3f5f"
          },
          "geo": {
           "bgcolor": "white",
           "lakecolor": "white",
           "landcolor": "#E5ECF6",
           "showlakes": true,
           "showland": true,
           "subunitcolor": "white"
          },
          "hoverlabel": {
           "align": "left"
          },
          "hovermode": "closest",
          "mapbox": {
           "style": "light"
          },
          "paper_bgcolor": "white",
          "plot_bgcolor": "#E5ECF6",
          "polar": {
           "angularaxis": {
            "gridcolor": "white",
            "linecolor": "white",
            "ticks": ""
           },
           "bgcolor": "#E5ECF6",
           "radialaxis": {
            "gridcolor": "white",
            "linecolor": "white",
            "ticks": ""
           }
          },
          "scene": {
           "xaxis": {
            "backgroundcolor": "#E5ECF6",
            "gridcolor": "white",
            "gridwidth": 2,
            "linecolor": "white",
            "showbackground": true,
            "ticks": "",
            "zerolinecolor": "white"
           },
           "yaxis": {
            "backgroundcolor": "#E5ECF6",
            "gridcolor": "white",
            "gridwidth": 2,
            "linecolor": "white",
            "showbackground": true,
            "ticks": "",
            "zerolinecolor": "white"
           },
           "zaxis": {
            "backgroundcolor": "#E5ECF6",
            "gridcolor": "white",
            "gridwidth": 2,
            "linecolor": "white",
            "showbackground": true,
            "ticks": "",
            "zerolinecolor": "white"
           }
          },
          "shapedefaults": {
           "line": {
            "color": "#2a3f5f"
           }
          },
          "ternary": {
           "aaxis": {
            "gridcolor": "white",
            "linecolor": "white",
            "ticks": ""
           },
           "baxis": {
            "gridcolor": "white",
            "linecolor": "white",
            "ticks": ""
           },
           "bgcolor": "#E5ECF6",
           "caxis": {
            "gridcolor": "white",
            "linecolor": "white",
            "ticks": ""
           }
          },
          "title": {
           "x": 0.05
          },
          "xaxis": {
           "automargin": true,
           "gridcolor": "white",
           "linecolor": "white",
           "ticks": "",
           "title": {
            "standoff": 15
           },
           "zerolinecolor": "white",
           "zerolinewidth": 2
          },
          "yaxis": {
           "automargin": true,
           "gridcolor": "white",
           "linecolor": "white",
           "ticks": "",
           "title": {
            "standoff": 15
           },
           "zerolinecolor": "white",
           "zerolinewidth": 2
          }
         }
        },
        "xaxis": {
         "anchor": "y",
         "domain": [
          0,
          1
         ],
         "title": {
          "text": "Number of Assertions"
         }
        },
        "yaxis": {
         "anchor": "x",
         "domain": [
          0,
          1
         ],
         "title": {
          "text": "Impact Score"
         }
        }
       }
      }
     },
     "metadata": {},
     "output_type": "display_data"
    }
   ],
   "source": [
    "fig = px.scatter(\n",
    "    data_frame=moa_feature_df,\n",
    "    x=\"Number of Assertions\",\n",
    "    y=\"Impact Score\",\n",
    "    size=\"Number of Features\",\n",
    "    size_max=40,\n",
    "    text=\"Number of Features\",\n",
    "    color=\"Category\"\n",
    ")\n",
    "fig.show()"
   ]
  },
  {
   "cell_type": "code",
   "execution_count": 28,
   "metadata": {},
   "outputs": [],
   "source": [
    "fig.write_html(\"moa_feature_categories_impact_scatterplot.html\")"
   ]
  },
  {
   "attachments": {},
   "cell_type": "markdown",
   "metadata": {},
   "source": [
    "## Create functions / global variables used in analysis"
   ]
  },
  {
   "cell_type": "code",
   "execution_count": 29,
   "metadata": {},
   "outputs": [
    {
     "data": {
      "text/plain": [
       "{'Variant Category': ['Normalized', 'Not Supported'],\n",
       " 'Fraction of all MOA Features': [],\n",
       " 'Percentage of all MOA Features': []}"
      ]
     },
     "execution_count": 29,
     "metadata": {},
     "output_type": "execute_result"
    }
   ],
   "source": [
    "feature_analysis_summary = {\n",
    "    \"Variant Category\": VARIANT_NORM_TYPE_VALUES,\n",
    "    \"Fraction of all MOA Features\": [],\n",
    "    \"Percentage of all MOA Features\": []\n",
    "}\n",
    "feature_analysis_summary"
   ]
  },
  {
   "cell_type": "code",
   "execution_count": 30,
   "metadata": {},
   "outputs": [],
   "source": [
    "def feature_analysis(df: pd.DataFrame, variant_norm_type: VariantNormType) -> pd.DataFrame:\n",
    "    \"\"\"Do feature analysis (counts, percentages). Updates `feature_analysis_summary`\n",
    "\n",
    "    :param df: Dataframe of variants\n",
    "    :param variant_norm_type: The kind of features that are in `df`\n",
    "    :return: Transformed dataframe with variant ID duplicates dropped\n",
    "    \"\"\"\n",
    "    # Drop duplicate rows\n",
    "    df = df.drop_duplicates(subset=[\"feature_id\"])\n",
    "    feature_ids = list(df[\"feature_id\"])\n",
    "\n",
    "    # Count\n",
    "    num_features = len(feature_ids)\n",
    "    fraction_features = f\"{num_features} / {total_len_features}\"\n",
    "    print(f\"\\nNumber of {variant_norm_type.value} Features in MOA: {fraction_features}\")\n",
    "\n",
    "    # Percentage\n",
    "    percentage_features = f\"{num_features / total_len_features * 100:.2f}%\"\n",
    "    print(f\"Percentage of {variant_norm_type.value} Features in MOA: {percentage_features}\")\n",
    "\n",
    "\n",
    "    feature_analysis_summary[\"Fraction of all MOA Features\"].append(fraction_features)\n",
    "    feature_analysis_summary[\"Percentage of all MOA Features\"].append(percentage_features)\n",
    "\n",
    "    return df"
   ]
  },
  {
   "cell_type": "code",
   "execution_count": 31,
   "metadata": {},
   "outputs": [
    {
     "data": {
      "text/plain": [
       "{'Variant Category': ['Normalized', 'Not Supported'],\n",
       " 'Fraction of all MOA Assertions': [],\n",
       " 'Percentage of all MOA Assertions': []}"
      ]
     },
     "execution_count": 31,
     "metadata": {},
     "output_type": "execute_result"
    }
   ],
   "source": [
    "assertion_analysis_summary = {\n",
    "    \"Variant Category\": VARIANT_NORM_TYPE_VALUES,\n",
    "    \"Fraction of all MOA Assertions\": [],\n",
    "    \"Percentage of all MOA Assertions\": []\n",
    "}\n",
    "assertion_analysis_summary"
   ]
  },
  {
   "cell_type": "code",
   "execution_count": 32,
   "metadata": {},
   "outputs": [],
   "source": [
    "def assertion_analysis(all_df: pd.DataFrame, variant_norm_df: pd.DataFrame, variant_norm_type: VariantNormType):\n",
    "    \"\"\"Do evidence analysis (counts, percentages). Updates `assertion_analysis_summary`\n",
    "\n",
    "    :param all_df: Dataframe for all assertions and features\n",
    "    :param variant_norm_df: Dataframe for features given certain `variant_norm_type`\n",
    "    :param variant_norm_type: The kind of variants that are in `df`\n",
    "    \"\"\"\n",
    "    # Need to do this bc of duplicate features\n",
    "    _feature_ids = set(variant_norm_df.feature_digest)\n",
    "    tmp_df = all_df[all_df[\"feature_digest\"].isin(_feature_ids)]\n",
    "    \n",
    "    # Count\n",
    "    num_assertions = len(tmp_df.assertion_id)\n",
    "    fraction_assertions = f\"{num_assertions} / {total_len_assertions}\"\n",
    "    print(f\"Number of {variant_norm_type.value} Feature Assertions in MOA: {fraction_assertions}\")\n",
    "\n",
    "    # Percentage\n",
    "    percentage_assertions = f\"{num_assertions / total_len_assertions * 100:.2f}%\"\n",
    "    print(f\"Percentage of {variant_norm_type.value} Feature Assertions in MOA: {percentage_assertions}\")\n",
    "\n",
    "    assertion_analysis_summary[\"Fraction of all MOA Assertions\"].append(fraction_assertions)\n",
    "    assertion_analysis_summary[\"Percentage of all MOA Assertions\"].append(percentage_assertions)"
   ]
  },
  {
   "cell_type": "code",
   "execution_count": 33,
   "metadata": {},
   "outputs": [
    {
     "data": {
      "text/html": [
       "<div>\n",
       "<style scoped>\n",
       "    .dataframe tbody tr th:only-of-type {\n",
       "        vertical-align: middle;\n",
       "    }\n",
       "\n",
       "    .dataframe tbody tr th {\n",
       "        vertical-align: top;\n",
       "    }\n",
       "\n",
       "    .dataframe thead th {\n",
       "        text-align: right;\n",
       "    }\n",
       "</style>\n",
       "<table border=\"1\" class=\"dataframe\">\n",
       "  <thead>\n",
       "    <tr style=\"text-align: right;\">\n",
       "      <th></th>\n",
       "      <th>feature_id</th>\n",
       "      <th>feature_digest</th>\n",
       "    </tr>\n",
       "  </thead>\n",
       "  <tbody>\n",
       "    <tr>\n",
       "      <th>0</th>\n",
       "      <td>1</td>\n",
       "      <td>qXCY7CGzeFBIDXYsc18tEVBImkWB_43E</td>\n",
       "    </tr>\n",
       "    <tr>\n",
       "      <th>1</th>\n",
       "      <td>2</td>\n",
       "      <td>qXCY7CGzeFBIDXYsc18tEVBImkWB_43E</td>\n",
       "    </tr>\n",
       "    <tr>\n",
       "      <th>2</th>\n",
       "      <td>3</td>\n",
       "      <td>qXCY7CGzeFBIDXYsc18tEVBImkWB_43E</td>\n",
       "    </tr>\n",
       "    <tr>\n",
       "      <th>3</th>\n",
       "      <td>4</td>\n",
       "      <td>qXCY7CGzeFBIDXYsc18tEVBImkWB_43E</td>\n",
       "    </tr>\n",
       "    <tr>\n",
       "      <th>4</th>\n",
       "      <td>5</td>\n",
       "      <td>qXCY7CGzeFBIDXYsc18tEVBImkWB_43E</td>\n",
       "    </tr>\n",
       "    <tr>\n",
       "      <th>...</th>\n",
       "      <td>...</td>\n",
       "      <td>...</td>\n",
       "    </tr>\n",
       "    <tr>\n",
       "      <th>869</th>\n",
       "      <td>870</td>\n",
       "      <td>qXCY7CGzeFBIDXYsc18tEVBImkWB_43E</td>\n",
       "    </tr>\n",
       "    <tr>\n",
       "      <th>870</th>\n",
       "      <td>871</td>\n",
       "      <td>qXCY7CGzeFBIDXYsc18tEVBImkWB_43E</td>\n",
       "    </tr>\n",
       "    <tr>\n",
       "      <th>871</th>\n",
       "      <td>872</td>\n",
       "      <td>qXCY7CGzeFBIDXYsc18tEVBImkWB_43E</td>\n",
       "    </tr>\n",
       "    <tr>\n",
       "      <th>872</th>\n",
       "      <td>873</td>\n",
       "      <td>qXCY7CGzeFBIDXYsc18tEVBImkWB_43E</td>\n",
       "    </tr>\n",
       "    <tr>\n",
       "      <th>873</th>\n",
       "      <td>874</td>\n",
       "      <td>qXCY7CGzeFBIDXYsc18tEVBImkWB_43E</td>\n",
       "    </tr>\n",
       "  </tbody>\n",
       "</table>\n",
       "<p>874 rows × 2 columns</p>\n",
       "</div>"
      ],
      "text/plain": [
       "     feature_id                    feature_digest\n",
       "0             1  qXCY7CGzeFBIDXYsc18tEVBImkWB_43E\n",
       "1             2  qXCY7CGzeFBIDXYsc18tEVBImkWB_43E\n",
       "2             3  qXCY7CGzeFBIDXYsc18tEVBImkWB_43E\n",
       "3             4  qXCY7CGzeFBIDXYsc18tEVBImkWB_43E\n",
       "4             5  qXCY7CGzeFBIDXYsc18tEVBImkWB_43E\n",
       "..          ...                               ...\n",
       "869         870  qXCY7CGzeFBIDXYsc18tEVBImkWB_43E\n",
       "870         871  qXCY7CGzeFBIDXYsc18tEVBImkWB_43E\n",
       "871         872  qXCY7CGzeFBIDXYsc18tEVBImkWB_43E\n",
       "872         873  qXCY7CGzeFBIDXYsc18tEVBImkWB_43E\n",
       "873         874  qXCY7CGzeFBIDXYsc18tEVBImkWB_43E\n",
       "\n",
       "[874 rows x 2 columns]"
      ]
     },
     "execution_count": 33,
     "metadata": {},
     "output_type": "execute_result"
    }
   ],
   "source": [
    "feature_id_to_digest_df = pd.DataFrame(feature_id_to_digest.items(), columns=[\"feature_id\", \"feature_digest\"])\n",
    "feature_id_to_digest_df"
   ]
  },
  {
   "attachments": {},
   "cell_type": "markdown",
   "metadata": {},
   "source": [
    "## Normalized Analysis"
   ]
  },
  {
   "cell_type": "code",
   "execution_count": 34,
   "metadata": {},
   "outputs": [
    {
     "data": {
      "text/plain": [
       "(179, 7)"
      ]
     },
     "execution_count": 34,
     "metadata": {},
     "output_type": "execute_result"
    }
   ],
   "source": [
    "normalized_queries_df = pd.read_csv(\"able_to_normalize_queries.csv\", sep=\"\\t\")\n",
    "normalized_queries_df = pd.merge(normalized_queries_df, feature_id_to_digest_df, left_on=\"variant_id\", right_on=\"feature_id\")\n",
    "normalized_queries_df.shape"
   ]
  },
  {
   "cell_type": "code",
   "execution_count": 35,
   "metadata": {},
   "outputs": [],
   "source": [
    "normalized_queries_df = pd.merge(normalized_queries_df[\"variant_id\"], moa_df, left_on=\"variant_id\", right_on=\"feature_id\", how=\"left\")\n",
    "normalized_queries_df = normalized_queries_df.drop(columns=[\"variant_id\"])"
   ]
  },
  {
   "cell_type": "code",
   "execution_count": 36,
   "metadata": {},
   "outputs": [
    {
     "name": "stdout",
     "output_type": "stream",
     "text": [
      "\n",
      "Number of Normalized Features in MOA: 179 / 423\n",
      "Percentage of Normalized Features in MOA: 42.32%\n"
     ]
    },
    {
     "data": {
      "text/html": [
       "<div>\n",
       "<style scoped>\n",
       "    .dataframe tbody tr th:only-of-type {\n",
       "        vertical-align: middle;\n",
       "    }\n",
       "\n",
       "    .dataframe tbody tr th {\n",
       "        vertical-align: top;\n",
       "    }\n",
       "\n",
       "    .dataframe thead th {\n",
       "        text-align: right;\n",
       "    }\n",
       "</style>\n",
       "<table border=\"1\" class=\"dataframe\">\n",
       "  <thead>\n",
       "    <tr style=\"text-align: right;\">\n",
       "      <th></th>\n",
       "      <th>assertion_id</th>\n",
       "      <th>feature_id</th>\n",
       "      <th>feature_type</th>\n",
       "      <th>predictive_implication</th>\n",
       "      <th>feature_digest</th>\n",
       "      <th>category</th>\n",
       "      <th>impact_score</th>\n",
       "    </tr>\n",
       "  </thead>\n",
       "  <tbody>\n",
       "    <tr>\n",
       "      <th>0</th>\n",
       "      <td>71</td>\n",
       "      <td>71</td>\n",
       "      <td>somatic_variant</td>\n",
       "      <td>Preclinical</td>\n",
       "      <td>KgolzM3HWhww4t4HywFYCySUtGRIQ_mx</td>\n",
       "      <td>Protein Consequence</td>\n",
       "      <td>1</td>\n",
       "    </tr>\n",
       "    <tr>\n",
       "      <th>1</th>\n",
       "      <td>73</td>\n",
       "      <td>73</td>\n",
       "      <td>somatic_variant</td>\n",
       "      <td>Clinical evidence</td>\n",
       "      <td>j3HtSnIdrU8CcuW8_Qs3qVxOn-kMJV1T</td>\n",
       "      <td>Protein Consequence</td>\n",
       "      <td>5</td>\n",
       "    </tr>\n",
       "    <tr>\n",
       "      <th>2</th>\n",
       "      <td>75</td>\n",
       "      <td>75</td>\n",
       "      <td>somatic_variant</td>\n",
       "      <td>Clinical evidence</td>\n",
       "      <td>X_Az48pPjt4IODuY2a50Yl2_1tGopcuF</td>\n",
       "      <td>Protein Consequence</td>\n",
       "      <td>5</td>\n",
       "    </tr>\n",
       "    <tr>\n",
       "      <th>3</th>\n",
       "      <td>76</td>\n",
       "      <td>76</td>\n",
       "      <td>somatic_variant</td>\n",
       "      <td>Clinical evidence</td>\n",
       "      <td>LQQXFXpA4FCOQ3Fz4988x2vynER4J-Wh</td>\n",
       "      <td>Protein Consequence</td>\n",
       "      <td>5</td>\n",
       "    </tr>\n",
       "    <tr>\n",
       "      <th>4</th>\n",
       "      <td>77</td>\n",
       "      <td>77</td>\n",
       "      <td>somatic_variant</td>\n",
       "      <td>Clinical evidence</td>\n",
       "      <td>DKoCqZUY0WBdUnoly9DL_PAjBBZTs51d</td>\n",
       "      <td>Protein Consequence</td>\n",
       "      <td>5</td>\n",
       "    </tr>\n",
       "    <tr>\n",
       "      <th>...</th>\n",
       "      <td>...</td>\n",
       "      <td>...</td>\n",
       "      <td>...</td>\n",
       "      <td>...</td>\n",
       "      <td>...</td>\n",
       "      <td>...</td>\n",
       "      <td>...</td>\n",
       "    </tr>\n",
       "    <tr>\n",
       "      <th>174</th>\n",
       "      <td>858</td>\n",
       "      <td>858</td>\n",
       "      <td>copy_number</td>\n",
       "      <td>Clinical evidence</td>\n",
       "      <td>UYE-1dofAcf0kc44xdOY2hxwkMNUzjl7</td>\n",
       "      <td>Copy Number</td>\n",
       "      <td>5</td>\n",
       "    </tr>\n",
       "    <tr>\n",
       "      <th>175</th>\n",
       "      <td>859</td>\n",
       "      <td>859</td>\n",
       "      <td>copy_number</td>\n",
       "      <td>Inferential</td>\n",
       "      <td>s8SpNzXJuTJlGEqC0Rk-zd8ke9l4fq00</td>\n",
       "      <td>Copy Number</td>\n",
       "      <td>1</td>\n",
       "    </tr>\n",
       "    <tr>\n",
       "      <th>176</th>\n",
       "      <td>868</td>\n",
       "      <td>868</td>\n",
       "      <td>somatic_variant</td>\n",
       "      <td>FDA-Approved</td>\n",
       "      <td>xEngbInsi1BKQp2pVFi44N8CYLj6ZEkD</td>\n",
       "      <td>Protein Consequence</td>\n",
       "      <td>10</td>\n",
       "    </tr>\n",
       "    <tr>\n",
       "      <th>177</th>\n",
       "      <td>869</td>\n",
       "      <td>869</td>\n",
       "      <td>somatic_variant</td>\n",
       "      <td>FDA-Approved</td>\n",
       "      <td>fqvuveTjuO96HizOsbWgFQmfF76lGtdl</td>\n",
       "      <td>Protein Consequence</td>\n",
       "      <td>10</td>\n",
       "    </tr>\n",
       "    <tr>\n",
       "      <th>178</th>\n",
       "      <td>870</td>\n",
       "      <td>870</td>\n",
       "      <td>somatic_variant</td>\n",
       "      <td>FDA-Approved</td>\n",
       "      <td>1JInmjKzPW9V9q9UKen4VODk1drBadA2</td>\n",
       "      <td>Protein Consequence</td>\n",
       "      <td>10</td>\n",
       "    </tr>\n",
       "  </tbody>\n",
       "</table>\n",
       "<p>179 rows × 7 columns</p>\n",
       "</div>"
      ],
      "text/plain": [
       "     assertion_id  feature_id     feature_type predictive_implication  \\\n",
       "0              71          71  somatic_variant            Preclinical   \n",
       "1              73          73  somatic_variant      Clinical evidence   \n",
       "2              75          75  somatic_variant      Clinical evidence   \n",
       "3              76          76  somatic_variant      Clinical evidence   \n",
       "4              77          77  somatic_variant      Clinical evidence   \n",
       "..            ...         ...              ...                    ...   \n",
       "174           858         858      copy_number      Clinical evidence   \n",
       "175           859         859      copy_number            Inferential   \n",
       "176           868         868  somatic_variant           FDA-Approved   \n",
       "177           869         869  somatic_variant           FDA-Approved   \n",
       "178           870         870  somatic_variant           FDA-Approved   \n",
       "\n",
       "                       feature_digest             category impact_score  \n",
       "0    KgolzM3HWhww4t4HywFYCySUtGRIQ_mx  Protein Consequence            1  \n",
       "1    j3HtSnIdrU8CcuW8_Qs3qVxOn-kMJV1T  Protein Consequence            5  \n",
       "2    X_Az48pPjt4IODuY2a50Yl2_1tGopcuF  Protein Consequence            5  \n",
       "3    LQQXFXpA4FCOQ3Fz4988x2vynER4J-Wh  Protein Consequence            5  \n",
       "4    DKoCqZUY0WBdUnoly9DL_PAjBBZTs51d  Protein Consequence            5  \n",
       "..                                ...                  ...          ...  \n",
       "174  UYE-1dofAcf0kc44xdOY2hxwkMNUzjl7          Copy Number            5  \n",
       "175  s8SpNzXJuTJlGEqC0Rk-zd8ke9l4fq00          Copy Number            1  \n",
       "176  xEngbInsi1BKQp2pVFi44N8CYLj6ZEkD  Protein Consequence           10  \n",
       "177  fqvuveTjuO96HizOsbWgFQmfF76lGtdl  Protein Consequence           10  \n",
       "178  1JInmjKzPW9V9q9UKen4VODk1drBadA2  Protein Consequence           10  \n",
       "\n",
       "[179 rows x 7 columns]"
      ]
     },
     "execution_count": 36,
     "metadata": {},
     "output_type": "execute_result"
    }
   ],
   "source": [
    "normalized_queries_df = feature_analysis(normalized_queries_df, VariantNormType.NORMALIZED)\n",
    "normalized_queries_df\n"
   ]
  },
  {
   "cell_type": "code",
   "execution_count": 37,
   "metadata": {},
   "outputs": [
    {
     "name": "stdout",
     "output_type": "stream",
     "text": [
      "Number of Normalized Feature Assertions in MOA: 325 / 874\n",
      "Percentage of Normalized Feature Assertions in MOA: 37.19%\n"
     ]
    }
   ],
   "source": [
    "assertion_analysis(moa_df, normalized_queries_df, VariantNormType.NORMALIZED)"
   ]
  },
  {
   "attachments": {},
   "cell_type": "markdown",
   "metadata": {},
   "source": [
    "## Not Supported Analysis"
   ]
  },
  {
   "cell_type": "code",
   "execution_count": 38,
   "metadata": {},
   "outputs": [
    {
     "data": {
      "text/plain": [
       "(244, 6)"
      ]
     },
     "execution_count": 38,
     "metadata": {},
     "output_type": "execute_result"
    }
   ],
   "source": [
    "not_supported_queries_df = pd.read_csv(\"not_supported_variants.csv\", sep=\"\\t\")\n",
    "not_supported_queries_df = pd.merge(not_supported_queries_df, feature_id_to_digest_df, left_on=\"variant_id\", right_on=\"feature_id\")\n",
    "not_supported_queries_df.shape"
   ]
  },
  {
   "cell_type": "code",
   "execution_count": 39,
   "metadata": {},
   "outputs": [
    {
     "data": {
      "text/html": [
       "<div>\n",
       "<style scoped>\n",
       "    .dataframe tbody tr th:only-of-type {\n",
       "        vertical-align: middle;\n",
       "    }\n",
       "\n",
       "    .dataframe tbody tr th {\n",
       "        vertical-align: top;\n",
       "    }\n",
       "\n",
       "    .dataframe thead th {\n",
       "        text-align: right;\n",
       "    }\n",
       "</style>\n",
       "<table border=\"1\" class=\"dataframe\">\n",
       "  <thead>\n",
       "    <tr style=\"text-align: right;\">\n",
       "      <th></th>\n",
       "      <th>assertion_id</th>\n",
       "      <th>feature_id</th>\n",
       "      <th>feature_type</th>\n",
       "      <th>predictive_implication</th>\n",
       "      <th>feature_digest</th>\n",
       "      <th>category</th>\n",
       "      <th>impact_score</th>\n",
       "    </tr>\n",
       "  </thead>\n",
       "  <tbody>\n",
       "    <tr>\n",
       "      <th>0</th>\n",
       "      <td>1</td>\n",
       "      <td>1</td>\n",
       "      <td>rearrangement</td>\n",
       "      <td>FDA-Approved</td>\n",
       "      <td>RnRyn89cJzVbVM93aw4OA44NIF5zblyP</td>\n",
       "      <td>Rearrangements</td>\n",
       "      <td>10</td>\n",
       "    </tr>\n",
       "    <tr>\n",
       "      <th>1</th>\n",
       "      <td>12</td>\n",
       "      <td>12</td>\n",
       "      <td>rearrangement</td>\n",
       "      <td>FDA-Approved</td>\n",
       "      <td>g99yF3kKnB-We_fMS5RaVygoSuT7qA-I</td>\n",
       "      <td>Rearrangements</td>\n",
       "      <td>10</td>\n",
       "    </tr>\n",
       "    <tr>\n",
       "      <th>2</th>\n",
       "      <td>15</td>\n",
       "      <td>15</td>\n",
       "      <td>rearrangement</td>\n",
       "      <td>FDA-Approved</td>\n",
       "      <td>e8PMq2A96-aBJ3Ip74ovx5VOUCztBTq7</td>\n",
       "      <td>Rearrangements</td>\n",
       "      <td>10</td>\n",
       "    </tr>\n",
       "    <tr>\n",
       "      <th>3</th>\n",
       "      <td>18</td>\n",
       "      <td>18</td>\n",
       "      <td>rearrangement</td>\n",
       "      <td>Guideline</td>\n",
       "      <td>DxfRiRV-3J6zRON4pnzNJjXkJf2bsp20</td>\n",
       "      <td>Rearrangements</td>\n",
       "      <td>10</td>\n",
       "    </tr>\n",
       "    <tr>\n",
       "      <th>4</th>\n",
       "      <td>21</td>\n",
       "      <td>21</td>\n",
       "      <td>rearrangement</td>\n",
       "      <td>Preclinical</td>\n",
       "      <td>BRsPjsZSCyDXnKtBt9XgsWX2JDNWY3FP</td>\n",
       "      <td>Rearrangements</td>\n",
       "      <td>1</td>\n",
       "    </tr>\n",
       "    <tr>\n",
       "      <th>...</th>\n",
       "      <td>...</td>\n",
       "      <td>...</td>\n",
       "      <td>...</td>\n",
       "      <td>...</td>\n",
       "      <td>...</td>\n",
       "      <td>...</td>\n",
       "      <td>...</td>\n",
       "    </tr>\n",
       "    <tr>\n",
       "      <th>239</th>\n",
       "      <td>849</td>\n",
       "      <td>849</td>\n",
       "      <td>copy_number</td>\n",
       "      <td>Inferential</td>\n",
       "      <td>jLD_tOKaW8wX5P2RiZ7EkMT8yBzfA_U_</td>\n",
       "      <td>Copy Number</td>\n",
       "      <td>1</td>\n",
       "    </tr>\n",
       "    <tr>\n",
       "      <th>240</th>\n",
       "      <td>853</td>\n",
       "      <td>853</td>\n",
       "      <td>copy_number</td>\n",
       "      <td>Inferential</td>\n",
       "      <td>3ZPmhQucEgPWkaRLg9viECM4O4pEg-BU</td>\n",
       "      <td>Copy Number</td>\n",
       "      <td>1</td>\n",
       "    </tr>\n",
       "    <tr>\n",
       "      <th>241</th>\n",
       "      <td>862</td>\n",
       "      <td>862</td>\n",
       "      <td>copy_number</td>\n",
       "      <td>Preclinical</td>\n",
       "      <td>LwEU_0YQA4iVchOdEiBrq_RmIciU-9EW</td>\n",
       "      <td>Copy Number</td>\n",
       "      <td>1</td>\n",
       "    </tr>\n",
       "    <tr>\n",
       "      <th>242</th>\n",
       "      <td>863</td>\n",
       "      <td>863</td>\n",
       "      <td>rearrangement</td>\n",
       "      <td>FDA-Approved</td>\n",
       "      <td>MpJsmn4LCLMXDsTNTTlyV5t3fKAnsJzL</td>\n",
       "      <td>Rearrangements</td>\n",
       "      <td>10</td>\n",
       "    </tr>\n",
       "    <tr>\n",
       "      <th>243</th>\n",
       "      <td>873</td>\n",
       "      <td>873</td>\n",
       "      <td>somatic_variant</td>\n",
       "      <td>FDA-Approved</td>\n",
       "      <td>qXCY7CGzeFBIDXYsc18tEVBImkWB_43E</td>\n",
       "      <td>Protein Consequence</td>\n",
       "      <td>10</td>\n",
       "    </tr>\n",
       "  </tbody>\n",
       "</table>\n",
       "<p>244 rows × 7 columns</p>\n",
       "</div>"
      ],
      "text/plain": [
       "     assertion_id  feature_id     feature_type predictive_implication  \\\n",
       "0               1           1    rearrangement           FDA-Approved   \n",
       "1              12          12    rearrangement           FDA-Approved   \n",
       "2              15          15    rearrangement           FDA-Approved   \n",
       "3              18          18    rearrangement              Guideline   \n",
       "4              21          21    rearrangement            Preclinical   \n",
       "..            ...         ...              ...                    ...   \n",
       "239           849         849      copy_number            Inferential   \n",
       "240           853         853      copy_number            Inferential   \n",
       "241           862         862      copy_number            Preclinical   \n",
       "242           863         863    rearrangement           FDA-Approved   \n",
       "243           873         873  somatic_variant           FDA-Approved   \n",
       "\n",
       "                       feature_digest             category impact_score  \n",
       "0    RnRyn89cJzVbVM93aw4OA44NIF5zblyP       Rearrangements           10  \n",
       "1    g99yF3kKnB-We_fMS5RaVygoSuT7qA-I       Rearrangements           10  \n",
       "2    e8PMq2A96-aBJ3Ip74ovx5VOUCztBTq7       Rearrangements           10  \n",
       "3    DxfRiRV-3J6zRON4pnzNJjXkJf2bsp20       Rearrangements           10  \n",
       "4    BRsPjsZSCyDXnKtBt9XgsWX2JDNWY3FP       Rearrangements            1  \n",
       "..                                ...                  ...          ...  \n",
       "239  jLD_tOKaW8wX5P2RiZ7EkMT8yBzfA_U_          Copy Number            1  \n",
       "240  3ZPmhQucEgPWkaRLg9viECM4O4pEg-BU          Copy Number            1  \n",
       "241  LwEU_0YQA4iVchOdEiBrq_RmIciU-9EW          Copy Number            1  \n",
       "242  MpJsmn4LCLMXDsTNTTlyV5t3fKAnsJzL       Rearrangements           10  \n",
       "243  qXCY7CGzeFBIDXYsc18tEVBImkWB_43E  Protein Consequence           10  \n",
       "\n",
       "[244 rows x 7 columns]"
      ]
     },
     "execution_count": 39,
     "metadata": {},
     "output_type": "execute_result"
    }
   ],
   "source": [
    "not_supported_queries_df = pd.merge(not_supported_queries_df[\"variant_id\"], moa_df, left_on=\"variant_id\", right_on=\"feature_id\", how=\"left\")\n",
    "not_supported_queries_df = not_supported_queries_df.drop(columns=[\"variant_id\"])\n",
    "not_supported_queries_df"
   ]
  },
  {
   "attachments": {},
   "cell_type": "markdown",
   "metadata": {},
   "source": [
    "### Feature (Variant) Analysis"
   ]
  },
  {
   "cell_type": "code",
   "execution_count": 40,
   "metadata": {},
   "outputs": [
    {
     "name": "stdout",
     "output_type": "stream",
     "text": [
      "\n",
      "Number of Not Supported Features in MOA: 244 / 423\n",
      "Percentage of Not Supported Features in MOA: 57.68%\n"
     ]
    }
   ],
   "source": [
    "not_supported_queries_df = feature_analysis(not_supported_queries_df, VariantNormType.NOT_SUPPORTED)"
   ]
  },
  {
   "attachments": {},
   "cell_type": "markdown",
   "metadata": {},
   "source": [
    "### Not Supported Feature (Variant) Analysis by Subcategory"
   ]
  },
  {
   "cell_type": "code",
   "execution_count": 41,
   "metadata": {},
   "outputs": [],
   "source": [
    "not_supported_feature_analysis_summary = {\n",
    "    \"Category\": VARIANT_CATEGORY_VALUES,\n",
    "    \"Fraction of all MOA Features\": [],\n",
    "    \"Percent of all MOA Features\": [],\n",
    "    \"Fraction of Not Supported Features\": [],\n",
    "    \"Percent of Not Supported Features\": [],\n",
    "}"
   ]
  },
  {
   "cell_type": "code",
   "execution_count": 42,
   "metadata": {},
   "outputs": [],
   "source": [
    "not_supported_feature_categories_summary_data = dict()\n",
    "total_number_unique_not_supported_features = len(set(not_supported_queries_df.feature_id))\n",
    "\n",
    "for category in VARIANT_CATEGORY_VALUES:  # These are not supported categories\n",
    "    not_supported_feature_categories_summary_data[category] = {}\n",
    "    category_df = not_supported_queries_df[not_supported_queries_df.category == category]\n",
    "\n",
    "    # Count\n",
    "    number_unique_not_supported_category_features = len(set(category_df.feature_id))\n",
    "    not_supported_feature_categories_summary_data[category][\"number_unique_not_supported_category_features\"] = number_unique_not_supported_category_features\n",
    "\n",
    "    # Fraction\n",
    "    fraction_not_supported_category_feature_of_moa = f\"{number_unique_not_supported_category_features} / {total_len_features}\"\n",
    "    not_supported_feature_categories_summary_data[category][\"fraction_not_supported_category_feature_of_moa\"] = fraction_not_supported_category_feature_of_moa\n",
    "\n",
    "    # Percent\n",
    "    percent_not_supported_category_feature_of_moa = f\"{number_unique_not_supported_category_features / total_len_features * 100:.2f}%\"\n",
    "    not_supported_feature_categories_summary_data[category][\"percent_not_supported_category_feature_of_moa\"] = percent_not_supported_category_feature_of_moa\n",
    "\n",
    "    # Not supported fraction\n",
    "    fraction_not_supported_category_feature_of_total_not_supported = f\"{number_unique_not_supported_category_features} / {total_number_unique_not_supported_features}\"\n",
    "    not_supported_feature_categories_summary_data[category][\"fraction_not_supported_category_feature_of_total_not_supported\"] = fraction_not_supported_category_feature_of_total_not_supported\n",
    "\n",
    "    # Not supported percent\n",
    "    percent_not_supported_category_feature_of_total_not_supported = f\"{number_unique_not_supported_category_features / total_number_unique_not_supported_features * 100:.2f}%\"\n",
    "    not_supported_feature_categories_summary_data[category][\"percent_not_supported_category_feature_of_total_not_supported\"] = percent_not_supported_category_feature_of_total_not_supported\n",
    "\n",
    "    not_supported_feature_analysis_summary[\"Fraction of all MOA Features\"].append(fraction_not_supported_category_feature_of_moa)\n",
    "    not_supported_feature_analysis_summary[\"Percent of all MOA Features\"].append(percent_not_supported_category_feature_of_moa)\n",
    "    not_supported_feature_analysis_summary[\"Fraction of Not Supported Features\"].append(fraction_not_supported_category_feature_of_total_not_supported)\n",
    "    not_supported_feature_analysis_summary[\"Percent of Not Supported Features\"].append(percent_not_supported_category_feature_of_total_not_supported)"
   ]
  },
  {
   "cell_type": "code",
   "execution_count": 43,
   "metadata": {},
   "outputs": [
    {
     "data": {
      "text/html": [
       "<div>\n",
       "<style scoped>\n",
       "    .dataframe tbody tr th:only-of-type {\n",
       "        vertical-align: middle;\n",
       "    }\n",
       "\n",
       "    .dataframe tbody tr th {\n",
       "        vertical-align: top;\n",
       "    }\n",
       "\n",
       "    .dataframe thead th {\n",
       "        text-align: right;\n",
       "    }\n",
       "</style>\n",
       "<table border=\"1\" class=\"dataframe\">\n",
       "  <thead>\n",
       "    <tr style=\"text-align: right;\">\n",
       "      <th></th>\n",
       "      <th>Category</th>\n",
       "      <th>Fraction of all MOA Features</th>\n",
       "      <th>Percent of all MOA Features</th>\n",
       "      <th>Fraction of Not Supported Features</th>\n",
       "      <th>Percent of Not Supported Features</th>\n",
       "    </tr>\n",
       "  </thead>\n",
       "  <tbody>\n",
       "    <tr>\n",
       "      <th>0</th>\n",
       "      <td>Expression</td>\n",
       "      <td>11 / 423</td>\n",
       "      <td>2.60%</td>\n",
       "      <td>11 / 244</td>\n",
       "      <td>4.51%</td>\n",
       "    </tr>\n",
       "    <tr>\n",
       "      <th>1</th>\n",
       "      <td>Epigenetic Modification</td>\n",
       "      <td>0 / 423</td>\n",
       "      <td>0.00%</td>\n",
       "      <td>0 / 244</td>\n",
       "      <td>0.00%</td>\n",
       "    </tr>\n",
       "    <tr>\n",
       "      <th>2</th>\n",
       "      <td>Fusion</td>\n",
       "      <td>0 / 423</td>\n",
       "      <td>0.00%</td>\n",
       "      <td>0 / 244</td>\n",
       "      <td>0.00%</td>\n",
       "    </tr>\n",
       "    <tr>\n",
       "      <th>3</th>\n",
       "      <td>Protein Consequence</td>\n",
       "      <td>169 / 423</td>\n",
       "      <td>39.95%</td>\n",
       "      <td>169 / 244</td>\n",
       "      <td>69.26%</td>\n",
       "    </tr>\n",
       "    <tr>\n",
       "      <th>4</th>\n",
       "      <td>Gene Function</td>\n",
       "      <td>0 / 423</td>\n",
       "      <td>0.00%</td>\n",
       "      <td>0 / 244</td>\n",
       "      <td>0.00%</td>\n",
       "    </tr>\n",
       "    <tr>\n",
       "      <th>5</th>\n",
       "      <td>Rearrangements</td>\n",
       "      <td>38 / 423</td>\n",
       "      <td>8.98%</td>\n",
       "      <td>38 / 244</td>\n",
       "      <td>15.57%</td>\n",
       "    </tr>\n",
       "    <tr>\n",
       "      <th>6</th>\n",
       "      <td>Copy Number</td>\n",
       "      <td>17 / 423</td>\n",
       "      <td>4.02%</td>\n",
       "      <td>17 / 244</td>\n",
       "      <td>6.97%</td>\n",
       "    </tr>\n",
       "    <tr>\n",
       "      <th>7</th>\n",
       "      <td>Other</td>\n",
       "      <td>9 / 423</td>\n",
       "      <td>2.13%</td>\n",
       "      <td>9 / 244</td>\n",
       "      <td>3.69%</td>\n",
       "    </tr>\n",
       "    <tr>\n",
       "      <th>8</th>\n",
       "      <td>Genotypes Easy</td>\n",
       "      <td>0 / 423</td>\n",
       "      <td>0.00%</td>\n",
       "      <td>0 / 244</td>\n",
       "      <td>0.00%</td>\n",
       "    </tr>\n",
       "    <tr>\n",
       "      <th>9</th>\n",
       "      <td>Genotypes Compound</td>\n",
       "      <td>0 / 423</td>\n",
       "      <td>0.00%</td>\n",
       "      <td>0 / 244</td>\n",
       "      <td>0.00%</td>\n",
       "    </tr>\n",
       "    <tr>\n",
       "      <th>10</th>\n",
       "      <td>Region Defined Variant</td>\n",
       "      <td>0 / 423</td>\n",
       "      <td>0.00%</td>\n",
       "      <td>0 / 244</td>\n",
       "      <td>0.00%</td>\n",
       "    </tr>\n",
       "    <tr>\n",
       "      <th>11</th>\n",
       "      <td>Transcript Variant</td>\n",
       "      <td>0 / 423</td>\n",
       "      <td>0.00%</td>\n",
       "      <td>0 / 244</td>\n",
       "      <td>0.00%</td>\n",
       "    </tr>\n",
       "  </tbody>\n",
       "</table>\n",
       "</div>"
      ],
      "text/plain": [
       "                   Category Fraction of all MOA Features  \\\n",
       "0                Expression                     11 / 423   \n",
       "1   Epigenetic Modification                      0 / 423   \n",
       "2                    Fusion                      0 / 423   \n",
       "3       Protein Consequence                    169 / 423   \n",
       "4             Gene Function                      0 / 423   \n",
       "5            Rearrangements                     38 / 423   \n",
       "6               Copy Number                     17 / 423   \n",
       "7                     Other                      9 / 423   \n",
       "8            Genotypes Easy                      0 / 423   \n",
       "9        Genotypes Compound                      0 / 423   \n",
       "10   Region Defined Variant                      0 / 423   \n",
       "11       Transcript Variant                      0 / 423   \n",
       "\n",
       "   Percent of all MOA Features Fraction of Not Supported Features  \\\n",
       "0                        2.60%                           11 / 244   \n",
       "1                        0.00%                            0 / 244   \n",
       "2                        0.00%                            0 / 244   \n",
       "3                       39.95%                          169 / 244   \n",
       "4                        0.00%                            0 / 244   \n",
       "5                        8.98%                           38 / 244   \n",
       "6                        4.02%                           17 / 244   \n",
       "7                        2.13%                            9 / 244   \n",
       "8                        0.00%                            0 / 244   \n",
       "9                        0.00%                            0 / 244   \n",
       "10                       0.00%                            0 / 244   \n",
       "11                       0.00%                            0 / 244   \n",
       "\n",
       "   Percent of Not Supported Features  \n",
       "0                              4.51%  \n",
       "1                              0.00%  \n",
       "2                              0.00%  \n",
       "3                             69.26%  \n",
       "4                              0.00%  \n",
       "5                             15.57%  \n",
       "6                              6.97%  \n",
       "7                              3.69%  \n",
       "8                              0.00%  \n",
       "9                              0.00%  \n",
       "10                             0.00%  \n",
       "11                             0.00%  "
      ]
     },
     "execution_count": 43,
     "metadata": {},
     "output_type": "execute_result"
    }
   ],
   "source": [
    "not_supported_variant_df = pd.DataFrame(not_supported_feature_analysis_summary)\n",
    "not_supported_variant_df"
   ]
  },
  {
   "attachments": {},
   "cell_type": "markdown",
   "metadata": {},
   "source": [
    "### Not Support Feature (Variant) Assertion (Evidence) Analysis by Subcategory"
   ]
  },
  {
   "attachments": {},
   "cell_type": "markdown",
   "metadata": {},
   "source": [
    "List all the possible variant categories"
   ]
  },
  {
   "cell_type": "code",
   "execution_count": 44,
   "metadata": {},
   "outputs": [
    {
     "data": {
      "text/plain": [
       "['Rearrangements', 'Protein Consequence', 'Copy Number', 'Other', 'Expression']"
      ]
     },
     "execution_count": 44,
     "metadata": {},
     "output_type": "execute_result"
    }
   ],
   "source": [
    "not_supported_feature_categories = not_supported_queries_df.category.unique()\n",
    "[v for v in not_supported_feature_categories]"
   ]
  },
  {
   "cell_type": "code",
   "execution_count": 45,
   "metadata": {},
   "outputs": [
    {
     "name": "stdout",
     "output_type": "stream",
     "text": [
      "Number of Not Supported Feature Assertions in MOA: 549 / 874\n",
      "Percentage of Not Supported Feature Assertions in MOA: 62.81%\n"
     ]
    }
   ],
   "source": [
    "assertion_analysis(moa_df, not_supported_queries_df, VariantNormType.NOT_SUPPORTED)\n"
   ]
  },
  {
   "cell_type": "code",
   "execution_count": 46,
   "metadata": {},
   "outputs": [],
   "source": [
    "not_supported_feature_assertion_summary = {\n",
    "    \"Category\": VARIANT_CATEGORY_VALUES,\n",
    "    \"Fraction of MOA Assertions\": [],\n",
    "    \"Percent of MOA Assertions\": [],\n",
    "    \"Fraction of Not Supported Feature Assertions\": [],\n",
    "    \"Percent of Not Supported Feature Assertions\": []\n",
    "}"
   ]
  },
  {
   "cell_type": "code",
   "execution_count": 47,
   "metadata": {},
   "outputs": [],
   "source": [
    "not_supported_feature_ids = set(not_supported_queries_df.feature_digest)"
   ]
  },
  {
   "cell_type": "code",
   "execution_count": 48,
   "metadata": {},
   "outputs": [],
   "source": [
    "not_supported_feature_categories_assertion_summary_data = dict()\n",
    "total_number_not_supported_feature_unique_assertions = len(set(not_supported_queries_df.assertion_id))\n",
    "not_supported_feature_ids = set(not_supported_queries_df.feature_digest)\n",
    "\n",
    "for category in VARIANT_CATEGORY_VALUES:    \n",
    "    not_supported_feature_categories_assertion_summary_data[category] = {}\n",
    "\n",
    "    # Need to do this bc of duplicate features\n",
    "    tmp_df = moa_df[moa_df[\"feature_digest\"].isin(not_supported_feature_ids)]\n",
    "    \n",
    "    evidence_category_df = tmp_df[tmp_df.category == category]\n",
    "    \n",
    "    evidence_category_df = evidence_category_df.drop_duplicates(subset=[\"assertion_id\"])\n",
    "\n",
    "    # Count\n",
    "    number_unique_not_supported_category_assertion = len(set(evidence_category_df.assertion_id))\n",
    "    not_supported_feature_categories_assertion_summary_data[category][\"number_unique_not_supported_category_assertion\"] = number_unique_not_supported_category_assertion\n",
    "\n",
    "    # Fraction\n",
    "    fraction_not_supported_category_feature_assertion_of_moa = f\"{number_unique_not_supported_category_assertion} / {total_len_assertions}\"\n",
    "    not_supported_feature_categories_assertion_summary_data[category][\"fraction_not_supported_category_feature_assertion_of_moa\"] = fraction_not_supported_category_feature_assertion_of_moa\n",
    "\n",
    "    # Percent\n",
    "    percent_not_supported_category_feature_assertion_of_moa = f\"{number_unique_not_supported_category_assertion / total_len_assertions * 100:.2f}%\"\n",
    "    not_supported_feature_categories_assertion_summary_data[category][\"percent_not_supported_category_feature_assertion_of_moa\"] = percent_not_supported_category_feature_assertion_of_moa\n",
    "\n",
    "    # Not supported fraction\n",
    "    fraction_not_supported_category_feature_assertion_of_total_not_supported = f\"{number_unique_not_supported_category_assertion} / {total_number_not_supported_feature_unique_assertions}\"\n",
    "    not_supported_feature_categories_assertion_summary_data[category][\"fraction_not_supported_category_feature_assertion_of_total_not_supported\"] = fraction_not_supported_category_feature_assertion_of_total_not_supported\n",
    "\n",
    "    # Not supported percent\n",
    "    percent_not_supported_category_feature_assertion_of_total_not_supported = f\"{number_unique_not_supported_category_assertion / total_number_not_supported_feature_unique_assertions * 100:.2f}%\"\n",
    "    not_supported_feature_categories_assertion_summary_data[category][\"percent_not_supported_category_feature_assertion_of_total_not_supported\"] = percent_not_supported_category_feature_assertion_of_total_not_supported\n",
    "\n",
    "    not_supported_feature_assertion_summary[\"Fraction of MOA Assertions\"].append(fraction_not_supported_category_feature_assertion_of_moa)\n",
    "    not_supported_feature_assertion_summary[\"Percent of MOA Assertions\"].append(percent_not_supported_category_feature_assertion_of_moa)\n",
    "    not_supported_feature_assertion_summary[\"Fraction of Not Supported Feature Assertions\"].append(fraction_not_supported_category_feature_assertion_of_total_not_supported)\n",
    "    not_supported_feature_assertion_summary[\"Percent of Not Supported Feature Assertions\"].append(percent_not_supported_category_feature_assertion_of_total_not_supported)\n"
   ]
  },
  {
   "attachments": {},
   "cell_type": "markdown",
   "metadata": {},
   "source": [
    "## Impact by Subcategory"
   ]
  },
  {
   "cell_type": "code",
   "execution_count": 49,
   "metadata": {},
   "outputs": [],
   "source": [
    "not_supported_impact_summary = {\n",
    "    \"Category\": VARIANT_CATEGORY_VALUES,\n",
    "    \"MOA Total Sum Impact Score\": [],\n",
    "    \"Total Number Assertions\": [v[\"number_unique_not_supported_category_assertion\"] for v in not_supported_feature_categories_assertion_summary_data.values()],\n",
    "    \"Total Number Features\": [v[\"number_unique_not_supported_category_features\"] for v in not_supported_feature_categories_summary_data.values()]\n",
    "}"
   ]
  },
  {
   "cell_type": "code",
   "execution_count": 50,
   "metadata": {},
   "outputs": [
    {
     "name": "stdout",
     "output_type": "stream",
     "text": [
      "Expression: 11\n",
      "Epigenetic Modification: 0\n",
      "Fusion: 0\n",
      "Protein Consequence: 1064\n",
      "Gene Function: 0\n",
      "Rearrangements: 292\n",
      "Copy Number: 47\n",
      "Other: 35\n",
      "Genotypes Easy: 0\n",
      "Genotypes Compound: 0\n",
      "Region Defined Variant: 0\n",
      "Transcript Variant: 0\n"
     ]
    }
   ],
   "source": [
    "not_supported_feature_categories_impact_data = dict()\n",
    "for category in VARIANT_CATEGORY_VALUES:\n",
    "    not_supported_feature_categories_impact_data[category] = {}\n",
    "    impact_category_df = not_supported_queries_df[not_supported_queries_df.category == category]\n",
    "\n",
    "    total_sum_not_supported_category_impact = impact_category_df[\"impact_score\"].sum()\n",
    "    not_supported_feature_categories_impact_data[category][\"total_sum_not_supported_category_impact\"] = total_sum_not_supported_category_impact\n",
    "\n",
    "    not_supported_impact_summary[\"MOA Total Sum Impact Score\"].append(total_sum_not_supported_category_impact)\n",
    "\n",
    "    print(f\"{category}: {total_sum_not_supported_category_impact}\")"
   ]
  },
  {
   "attachments": {},
   "cell_type": "markdown",
   "metadata": {},
   "source": [
    "# Summary"
   ]
  },
  {
   "attachments": {},
   "cell_type": "markdown",
   "metadata": {},
   "source": [
    "## Feature (Variant) Analysis"
   ]
  },
  {
   "attachments": {},
   "cell_type": "markdown",
   "metadata": {},
   "source": [
    "Summary Table 1: The table below shows the 3 categories that MOA features (variants) were divided into after normalization and what percentage they make up of all features (variants) in MOA data. "
   ]
  },
  {
   "cell_type": "code",
   "execution_count": 51,
   "metadata": {},
   "outputs": [
    {
     "data": {
      "text/html": [
       "<div>\n",
       "<style scoped>\n",
       "    .dataframe tbody tr th:only-of-type {\n",
       "        vertical-align: middle;\n",
       "    }\n",
       "\n",
       "    .dataframe tbody tr th {\n",
       "        vertical-align: top;\n",
       "    }\n",
       "\n",
       "    .dataframe thead th {\n",
       "        text-align: right;\n",
       "    }\n",
       "</style>\n",
       "<table border=\"1\" class=\"dataframe\">\n",
       "  <thead>\n",
       "    <tr style=\"text-align: right;\">\n",
       "      <th></th>\n",
       "      <th>Percentage of all MOA Features</th>\n",
       "    </tr>\n",
       "    <tr>\n",
       "      <th>Variant Category</th>\n",
       "      <th></th>\n",
       "    </tr>\n",
       "  </thead>\n",
       "  <tbody>\n",
       "    <tr>\n",
       "      <th>Normalized</th>\n",
       "      <td>179 / 423  (42.32%)</td>\n",
       "    </tr>\n",
       "    <tr>\n",
       "      <th>Not Supported</th>\n",
       "      <td>244 / 423  (57.68%)</td>\n",
       "    </tr>\n",
       "  </tbody>\n",
       "</table>\n",
       "</div>"
      ],
      "text/plain": [
       "                 Percentage of all MOA Features\n",
       "Variant Category                               \n",
       "Normalized                  179 / 423  (42.32%)\n",
       "Not Supported               244 / 423  (57.68%)"
      ]
     },
     "execution_count": 51,
     "metadata": {},
     "output_type": "execute_result"
    }
   ],
   "source": [
    "all_features_df = pd.DataFrame(feature_analysis_summary)\n",
    "all_features_df[\"Percentage of all MOA Features\"] = all_features_df[\"Fraction of all MOA Features\"].astype(str) + \"  (\" + all_features_df[\"Percentage of all MOA Features\"] + \")\"\n",
    "all_features_df = all_features_df.drop(columns=[\"Fraction of all MOA Features\"])\n",
    "all_features_df = all_features_df.set_index(\"Variant Category\")\n",
    "all_features_df"
   ]
  },
  {
   "attachments": {},
   "cell_type": "markdown",
   "metadata": {},
   "source": [
    "Summary Table 2: The table below shows the categories that the Not Supported features (variants) were broken into and what percentage of all MOA features (variants) they make up."
   ]
  },
  {
   "cell_type": "code",
   "execution_count": 52,
   "metadata": {},
   "outputs": [
    {
     "data": {
      "text/html": [
       "<div>\n",
       "<style scoped>\n",
       "    .dataframe tbody tr th:only-of-type {\n",
       "        vertical-align: middle;\n",
       "    }\n",
       "\n",
       "    .dataframe tbody tr th {\n",
       "        vertical-align: top;\n",
       "    }\n",
       "\n",
       "    .dataframe thead th {\n",
       "        text-align: right;\n",
       "    }\n",
       "</style>\n",
       "<table border=\"1\" class=\"dataframe\">\n",
       "  <thead>\n",
       "    <tr style=\"text-align: right;\">\n",
       "      <th></th>\n",
       "      <th>Percent of all MOA Features</th>\n",
       "      <th>Percent of Not Supported Features</th>\n",
       "    </tr>\n",
       "    <tr>\n",
       "      <th>Category</th>\n",
       "      <th></th>\n",
       "      <th></th>\n",
       "    </tr>\n",
       "  </thead>\n",
       "  <tbody>\n",
       "    <tr>\n",
       "      <th>Expression</th>\n",
       "      <td>11 / 423  (2.60%)</td>\n",
       "      <td>11 / 244  (4.51%)</td>\n",
       "    </tr>\n",
       "    <tr>\n",
       "      <th>Epigenetic Modification</th>\n",
       "      <td>0 / 423  (0.00%)</td>\n",
       "      <td>0 / 244  (0.00%)</td>\n",
       "    </tr>\n",
       "    <tr>\n",
       "      <th>Fusion</th>\n",
       "      <td>0 / 423  (0.00%)</td>\n",
       "      <td>0 / 244  (0.00%)</td>\n",
       "    </tr>\n",
       "    <tr>\n",
       "      <th>Protein Consequence</th>\n",
       "      <td>169 / 423  (39.95%)</td>\n",
       "      <td>169 / 244  (69.26%)</td>\n",
       "    </tr>\n",
       "    <tr>\n",
       "      <th>Gene Function</th>\n",
       "      <td>0 / 423  (0.00%)</td>\n",
       "      <td>0 / 244  (0.00%)</td>\n",
       "    </tr>\n",
       "    <tr>\n",
       "      <th>Rearrangements</th>\n",
       "      <td>38 / 423  (8.98%)</td>\n",
       "      <td>38 / 244  (15.57%)</td>\n",
       "    </tr>\n",
       "    <tr>\n",
       "      <th>Copy Number</th>\n",
       "      <td>17 / 423  (4.02%)</td>\n",
       "      <td>17 / 244  (6.97%)</td>\n",
       "    </tr>\n",
       "    <tr>\n",
       "      <th>Other</th>\n",
       "      <td>9 / 423  (2.13%)</td>\n",
       "      <td>9 / 244  (3.69%)</td>\n",
       "    </tr>\n",
       "    <tr>\n",
       "      <th>Genotypes Easy</th>\n",
       "      <td>0 / 423  (0.00%)</td>\n",
       "      <td>0 / 244  (0.00%)</td>\n",
       "    </tr>\n",
       "    <tr>\n",
       "      <th>Genotypes Compound</th>\n",
       "      <td>0 / 423  (0.00%)</td>\n",
       "      <td>0 / 244  (0.00%)</td>\n",
       "    </tr>\n",
       "    <tr>\n",
       "      <th>Region Defined Variant</th>\n",
       "      <td>0 / 423  (0.00%)</td>\n",
       "      <td>0 / 244  (0.00%)</td>\n",
       "    </tr>\n",
       "    <tr>\n",
       "      <th>Transcript Variant</th>\n",
       "      <td>0 / 423  (0.00%)</td>\n",
       "      <td>0 / 244  (0.00%)</td>\n",
       "    </tr>\n",
       "  </tbody>\n",
       "</table>\n",
       "</div>"
      ],
      "text/plain": [
       "                        Percent of all MOA Features  \\\n",
       "Category                                              \n",
       "Expression                        11 / 423  (2.60%)   \n",
       "Epigenetic Modification            0 / 423  (0.00%)   \n",
       "Fusion                             0 / 423  (0.00%)   \n",
       "Protein Consequence             169 / 423  (39.95%)   \n",
       "Gene Function                      0 / 423  (0.00%)   \n",
       "Rearrangements                    38 / 423  (8.98%)   \n",
       "Copy Number                       17 / 423  (4.02%)   \n",
       "Other                              9 / 423  (2.13%)   \n",
       "Genotypes Easy                     0 / 423  (0.00%)   \n",
       "Genotypes Compound                 0 / 423  (0.00%)   \n",
       "Region Defined Variant             0 / 423  (0.00%)   \n",
       "Transcript Variant                 0 / 423  (0.00%)   \n",
       "\n",
       "                        Percent of Not Supported Features  \n",
       "Category                                                   \n",
       "Expression                              11 / 244  (4.51%)  \n",
       "Epigenetic Modification                  0 / 244  (0.00%)  \n",
       "Fusion                                   0 / 244  (0.00%)  \n",
       "Protein Consequence                   169 / 244  (69.26%)  \n",
       "Gene Function                            0 / 244  (0.00%)  \n",
       "Rearrangements                         38 / 244  (15.57%)  \n",
       "Copy Number                             17 / 244  (6.97%)  \n",
       "Other                                    9 / 244  (3.69%)  \n",
       "Genotypes Easy                           0 / 244  (0.00%)  \n",
       "Genotypes Compound                       0 / 244  (0.00%)  \n",
       "Region Defined Variant                   0 / 244  (0.00%)  \n",
       "Transcript Variant                       0 / 244  (0.00%)  "
      ]
     },
     "execution_count": 52,
     "metadata": {},
     "output_type": "execute_result"
    }
   ],
   "source": [
    "not_supported_features_df = pd.DataFrame(not_supported_feature_analysis_summary)\n",
    "not_supported_features_df[\"Percent of Not Supported Features\"] = not_supported_features_df[\"Fraction of Not Supported Features\"].astype(str) + \"  (\" + not_supported_features_df[\"Percent of Not Supported Features\"] + \")\"\n",
    "not_supported_features_df[\"Percent of all MOA Features\"] = not_supported_features_df[\"Fraction of all MOA Features\"].astype(str) + \"  (\" + not_supported_features_df[\"Percent of all MOA Features\"] + \")\"\n",
    "not_supported_features_df = not_supported_features_df.drop(columns=[\"Fraction of all MOA Features\", \"Fraction of Not Supported Features\"])\n",
    "not_supported_features_df = not_supported_features_df.set_index(\"Category\")\n",
    "not_supported_features_df"
   ]
  },
  {
   "attachments": {},
   "cell_type": "markdown",
   "metadata": {},
   "source": [
    "## Evidence Analysis"
   ]
  },
  {
   "attachments": {},
   "cell_type": "markdown",
   "metadata": {},
   "source": [
    "Summary Table 3: The table below shows what percentage of all assertions (evidence items) in MOA are associated with Normalized and Not Supported features (variants)"
   ]
  },
  {
   "cell_type": "code",
   "execution_count": 53,
   "metadata": {},
   "outputs": [
    {
     "data": {
      "text/html": [
       "<div>\n",
       "<style scoped>\n",
       "    .dataframe tbody tr th:only-of-type {\n",
       "        vertical-align: middle;\n",
       "    }\n",
       "\n",
       "    .dataframe tbody tr th {\n",
       "        vertical-align: top;\n",
       "    }\n",
       "\n",
       "    .dataframe thead th {\n",
       "        text-align: right;\n",
       "    }\n",
       "</style>\n",
       "<table border=\"1\" class=\"dataframe\">\n",
       "  <thead>\n",
       "    <tr style=\"text-align: right;\">\n",
       "      <th></th>\n",
       "      <th>Percentage of all MOA Assertions</th>\n",
       "    </tr>\n",
       "    <tr>\n",
       "      <th>Variant Category</th>\n",
       "      <th></th>\n",
       "    </tr>\n",
       "  </thead>\n",
       "  <tbody>\n",
       "    <tr>\n",
       "      <th>Normalized</th>\n",
       "      <td>325 / 874  (37.19%)</td>\n",
       "    </tr>\n",
       "    <tr>\n",
       "      <th>Not Supported</th>\n",
       "      <td>549 / 874  (62.81%)</td>\n",
       "    </tr>\n",
       "  </tbody>\n",
       "</table>\n",
       "</div>"
      ],
      "text/plain": [
       "                 Percentage of all MOA Assertions\n",
       "Variant Category                                 \n",
       "Normalized                    325 / 874  (37.19%)\n",
       "Not Supported                 549 / 874  (62.81%)"
      ]
     },
     "execution_count": 53,
     "metadata": {},
     "output_type": "execute_result"
    }
   ],
   "source": [
    "all_features_assertions_df = pd.DataFrame(assertion_analysis_summary)\n",
    "all_features_assertions_df[\"Percentage of all MOA Assertions\"] = all_features_assertions_df[\"Fraction of all MOA Assertions\"].astype(str) + \"  (\" + all_features_assertions_df[\"Percentage of all MOA Assertions\"] + \")\"\n",
    "all_features_assertions_df = all_features_assertions_df.drop(columns=[\"Fraction of all MOA Assertions\"])\n",
    "all_features_assertions_df = all_features_assertions_df.set_index(\"Variant Category\")\n",
    "all_features_assertions_df"
   ]
  },
  {
   "attachments": {},
   "cell_type": "markdown",
   "metadata": {},
   "source": [
    "Summary Table 4: The table below shows the percentage of all MOA assertions (evidence items) that are associated with a Not Supported variant sub category. It also shows the percentage of all MOA Assertions (evidence items) associated with Not Supported features (variants) that are associated with a variant sub category. "
   ]
  },
  {
   "cell_type": "code",
   "execution_count": 54,
   "metadata": {},
   "outputs": [
    {
     "data": {
      "text/html": [
       "<div>\n",
       "<style scoped>\n",
       "    .dataframe tbody tr th:only-of-type {\n",
       "        vertical-align: middle;\n",
       "    }\n",
       "\n",
       "    .dataframe tbody tr th {\n",
       "        vertical-align: top;\n",
       "    }\n",
       "\n",
       "    .dataframe thead th {\n",
       "        text-align: right;\n",
       "    }\n",
       "</style>\n",
       "<table border=\"1\" class=\"dataframe\">\n",
       "  <thead>\n",
       "    <tr style=\"text-align: right;\">\n",
       "      <th></th>\n",
       "      <th>Percent of MOA Assertions</th>\n",
       "      <th>Percent of Not Supported Feature Assertions</th>\n",
       "    </tr>\n",
       "    <tr>\n",
       "      <th>Category</th>\n",
       "      <th></th>\n",
       "      <th></th>\n",
       "    </tr>\n",
       "  </thead>\n",
       "  <tbody>\n",
       "    <tr>\n",
       "      <th>Expression</th>\n",
       "      <td>12 / 874  (1.37%)</td>\n",
       "      <td>12 / 244  (4.92%)</td>\n",
       "    </tr>\n",
       "    <tr>\n",
       "      <th>Epigenetic Modification</th>\n",
       "      <td>0 / 874  (0.00%)</td>\n",
       "      <td>0 / 244  (0.00%)</td>\n",
       "    </tr>\n",
       "    <tr>\n",
       "      <th>Fusion</th>\n",
       "      <td>0 / 874  (0.00%)</td>\n",
       "      <td>0 / 244  (0.00%)</td>\n",
       "    </tr>\n",
       "    <tr>\n",
       "      <th>Protein Consequence</th>\n",
       "      <td>404 / 874  (46.22%)</td>\n",
       "      <td>404 / 244  (165.57%)</td>\n",
       "    </tr>\n",
       "    <tr>\n",
       "      <th>Gene Function</th>\n",
       "      <td>0 / 874  (0.00%)</td>\n",
       "      <td>0 / 244  (0.00%)</td>\n",
       "    </tr>\n",
       "    <tr>\n",
       "      <th>Rearrangements</th>\n",
       "      <td>81 / 874  (9.27%)</td>\n",
       "      <td>81 / 244  (33.20%)</td>\n",
       "    </tr>\n",
       "    <tr>\n",
       "      <th>Copy Number</th>\n",
       "      <td>29 / 874  (3.32%)</td>\n",
       "      <td>29 / 244  (11.89%)</td>\n",
       "    </tr>\n",
       "    <tr>\n",
       "      <th>Other</th>\n",
       "      <td>23 / 874  (2.63%)</td>\n",
       "      <td>23 / 244  (9.43%)</td>\n",
       "    </tr>\n",
       "    <tr>\n",
       "      <th>Genotypes Easy</th>\n",
       "      <td>0 / 874  (0.00%)</td>\n",
       "      <td>0 / 244  (0.00%)</td>\n",
       "    </tr>\n",
       "    <tr>\n",
       "      <th>Genotypes Compound</th>\n",
       "      <td>0 / 874  (0.00%)</td>\n",
       "      <td>0 / 244  (0.00%)</td>\n",
       "    </tr>\n",
       "    <tr>\n",
       "      <th>Region Defined Variant</th>\n",
       "      <td>0 / 874  (0.00%)</td>\n",
       "      <td>0 / 244  (0.00%)</td>\n",
       "    </tr>\n",
       "    <tr>\n",
       "      <th>Transcript Variant</th>\n",
       "      <td>0 / 874  (0.00%)</td>\n",
       "      <td>0 / 244  (0.00%)</td>\n",
       "    </tr>\n",
       "  </tbody>\n",
       "</table>\n",
       "</div>"
      ],
      "text/plain": [
       "                        Percent of MOA Assertions  \\\n",
       "Category                                            \n",
       "Expression                      12 / 874  (1.37%)   \n",
       "Epigenetic Modification          0 / 874  (0.00%)   \n",
       "Fusion                           0 / 874  (0.00%)   \n",
       "Protein Consequence           404 / 874  (46.22%)   \n",
       "Gene Function                    0 / 874  (0.00%)   \n",
       "Rearrangements                  81 / 874  (9.27%)   \n",
       "Copy Number                     29 / 874  (3.32%)   \n",
       "Other                           23 / 874  (2.63%)   \n",
       "Genotypes Easy                   0 / 874  (0.00%)   \n",
       "Genotypes Compound               0 / 874  (0.00%)   \n",
       "Region Defined Variant           0 / 874  (0.00%)   \n",
       "Transcript Variant               0 / 874  (0.00%)   \n",
       "\n",
       "                        Percent of Not Supported Feature Assertions  \n",
       "Category                                                             \n",
       "Expression                                        12 / 244  (4.92%)  \n",
       "Epigenetic Modification                            0 / 244  (0.00%)  \n",
       "Fusion                                             0 / 244  (0.00%)  \n",
       "Protein Consequence                            404 / 244  (165.57%)  \n",
       "Gene Function                                      0 / 244  (0.00%)  \n",
       "Rearrangements                                   81 / 244  (33.20%)  \n",
       "Copy Number                                      29 / 244  (11.89%)  \n",
       "Other                                             23 / 244  (9.43%)  \n",
       "Genotypes Easy                                     0 / 244  (0.00%)  \n",
       "Genotypes Compound                                 0 / 244  (0.00%)  \n",
       "Region Defined Variant                             0 / 244  (0.00%)  \n",
       "Transcript Variant                                 0 / 244  (0.00%)  "
      ]
     },
     "execution_count": 54,
     "metadata": {},
     "output_type": "execute_result"
    }
   ],
   "source": [
    "not_supported_feature_assertion_df = pd.DataFrame(not_supported_feature_assertion_summary)\n",
    "not_supported_feature_assertion_df[\"Percent of MOA Assertions\"] = not_supported_feature_assertion_df[\"Fraction of MOA Assertions\"].astype(str) + \"  (\" + not_supported_feature_assertion_df[\"Percent of MOA Assertions\"] + \")\"\n",
    "not_supported_feature_assertion_df[\"Percent of Not Supported Feature Assertions\"] = not_supported_feature_assertion_df[\"Fraction of Not Supported Feature Assertions\"].astype(str) + \"  (\" + not_supported_feature_assertion_df[\"Percent of Not Supported Feature Assertions\"] + \")\"\n",
    "not_supported_feature_assertion_df = not_supported_feature_assertion_df.drop(columns=[\"Fraction of MOA Assertions\", \"Fraction of Not Supported Feature Assertions\"])\n",
    "not_supported_feature_assertion_df = not_supported_feature_assertion_df.set_index(\"Category\")\n",
    "not_supported_feature_assertion_df"
   ]
  },
  {
   "attachments": {},
   "cell_type": "markdown",
   "metadata": {},
   "source": [
    "## Impact"
   ]
  },
  {
   "attachments": {},
   "cell_type": "markdown",
   "metadata": {},
   "source": [
    "The bar graph below shows the relationship between the Not Suported variant sub category impact score and the sub category. Additionally, the colors illustrate the number of assertions (evidence items) associated each sub category."
   ]
  },
  {
   "cell_type": "code",
   "execution_count": 55,
   "metadata": {},
   "outputs": [
    {
     "data": {
      "text/html": [
       "<div>\n",
       "<style scoped>\n",
       "    .dataframe tbody tr th:only-of-type {\n",
       "        vertical-align: middle;\n",
       "    }\n",
       "\n",
       "    .dataframe tbody tr th {\n",
       "        vertical-align: top;\n",
       "    }\n",
       "\n",
       "    .dataframe thead th {\n",
       "        text-align: right;\n",
       "    }\n",
       "</style>\n",
       "<table border=\"1\" class=\"dataframe\">\n",
       "  <thead>\n",
       "    <tr style=\"text-align: right;\">\n",
       "      <th></th>\n",
       "      <th>Category</th>\n",
       "      <th>MOA Total Sum Impact Score</th>\n",
       "      <th>Total Number Assertions</th>\n",
       "      <th>Total Number Features</th>\n",
       "    </tr>\n",
       "  </thead>\n",
       "  <tbody>\n",
       "    <tr>\n",
       "      <th>0</th>\n",
       "      <td>Expression</td>\n",
       "      <td>11</td>\n",
       "      <td>12</td>\n",
       "      <td>11</td>\n",
       "    </tr>\n",
       "    <tr>\n",
       "      <th>1</th>\n",
       "      <td>Epigenetic Modification</td>\n",
       "      <td>0</td>\n",
       "      <td>0</td>\n",
       "      <td>0</td>\n",
       "    </tr>\n",
       "    <tr>\n",
       "      <th>2</th>\n",
       "      <td>Fusion</td>\n",
       "      <td>0</td>\n",
       "      <td>0</td>\n",
       "      <td>0</td>\n",
       "    </tr>\n",
       "    <tr>\n",
       "      <th>3</th>\n",
       "      <td>Protein Consequence</td>\n",
       "      <td>1064</td>\n",
       "      <td>404</td>\n",
       "      <td>169</td>\n",
       "    </tr>\n",
       "    <tr>\n",
       "      <th>4</th>\n",
       "      <td>Gene Function</td>\n",
       "      <td>0</td>\n",
       "      <td>0</td>\n",
       "      <td>0</td>\n",
       "    </tr>\n",
       "    <tr>\n",
       "      <th>5</th>\n",
       "      <td>Rearrangements</td>\n",
       "      <td>292</td>\n",
       "      <td>81</td>\n",
       "      <td>38</td>\n",
       "    </tr>\n",
       "    <tr>\n",
       "      <th>6</th>\n",
       "      <td>Copy Number</td>\n",
       "      <td>47</td>\n",
       "      <td>29</td>\n",
       "      <td>17</td>\n",
       "    </tr>\n",
       "    <tr>\n",
       "      <th>7</th>\n",
       "      <td>Other</td>\n",
       "      <td>35</td>\n",
       "      <td>23</td>\n",
       "      <td>9</td>\n",
       "    </tr>\n",
       "    <tr>\n",
       "      <th>8</th>\n",
       "      <td>Genotypes Easy</td>\n",
       "      <td>0</td>\n",
       "      <td>0</td>\n",
       "      <td>0</td>\n",
       "    </tr>\n",
       "    <tr>\n",
       "      <th>9</th>\n",
       "      <td>Genotypes Compound</td>\n",
       "      <td>0</td>\n",
       "      <td>0</td>\n",
       "      <td>0</td>\n",
       "    </tr>\n",
       "    <tr>\n",
       "      <th>10</th>\n",
       "      <td>Region Defined Variant</td>\n",
       "      <td>0</td>\n",
       "      <td>0</td>\n",
       "      <td>0</td>\n",
       "    </tr>\n",
       "    <tr>\n",
       "      <th>11</th>\n",
       "      <td>Transcript Variant</td>\n",
       "      <td>0</td>\n",
       "      <td>0</td>\n",
       "      <td>0</td>\n",
       "    </tr>\n",
       "  </tbody>\n",
       "</table>\n",
       "</div>"
      ],
      "text/plain": [
       "                   Category  MOA Total Sum Impact Score  \\\n",
       "0                Expression                          11   \n",
       "1   Epigenetic Modification                           0   \n",
       "2                    Fusion                           0   \n",
       "3       Protein Consequence                        1064   \n",
       "4             Gene Function                           0   \n",
       "5            Rearrangements                         292   \n",
       "6               Copy Number                          47   \n",
       "7                     Other                          35   \n",
       "8            Genotypes Easy                           0   \n",
       "9        Genotypes Compound                           0   \n",
       "10   Region Defined Variant                           0   \n",
       "11       Transcript Variant                           0   \n",
       "\n",
       "    Total Number Assertions  Total Number Features  \n",
       "0                        12                     11  \n",
       "1                         0                      0  \n",
       "2                         0                      0  \n",
       "3                       404                    169  \n",
       "4                         0                      0  \n",
       "5                        81                     38  \n",
       "6                        29                     17  \n",
       "7                        23                      9  \n",
       "8                         0                      0  \n",
       "9                         0                      0  \n",
       "10                        0                      0  \n",
       "11                        0                      0  "
      ]
     },
     "execution_count": 55,
     "metadata": {},
     "output_type": "execute_result"
    }
   ],
   "source": [
    "not_supported_feature_impact_df = pd.DataFrame(not_supported_impact_summary)\n",
    "not_supported_feature_impact_df"
   ]
  },
  {
   "cell_type": "code",
   "execution_count": 56,
   "metadata": {},
   "outputs": [
    {
     "data": {
      "application/vnd.plotly.v1+json": {
       "config": {
        "plotlyServerURL": "https://plot.ly"
       },
       "data": [
        {
         "alignmentgroup": "True",
         "customdata": [
          [
           12
          ],
          [
           0
          ],
          [
           0
          ],
          [
           404
          ],
          [
           0
          ],
          [
           81
          ],
          [
           29
          ],
          [
           23
          ],
          [
           0
          ],
          [
           0
          ],
          [
           0
          ],
          [
           0
          ]
         ],
         "hovertemplate": "Category=%{x}<br>MOA Total Sum Impact Score=%{y}<br>Total Number Assertions=%{marker.color}<extra></extra>",
         "legendgroup": "",
         "marker": {
          "color": [
           12,
           0,
           0,
           404,
           0,
           81,
           29,
           23,
           0,
           0,
           0,
           0
          ],
          "coloraxis": "coloraxis",
          "pattern": {
           "shape": ""
          }
         },
         "name": "",
         "offsetgroup": "",
         "orientation": "v",
         "showlegend": false,
         "textposition": "auto",
         "texttemplate": "%{y:.1f}",
         "type": "bar",
         "width": 1,
         "x": [
          "Expression",
          "Epigenetic Modification",
          "Fusion",
          "Protein Consequence",
          "Gene Function",
          "Rearrangements",
          "Copy Number",
          "Other",
          "Genotypes Easy",
          "Genotypes Compound",
          "Region Defined Variant",
          "Transcript Variant"
         ],
         "xaxis": "x",
         "y": [
          11,
          0,
          0,
          1064,
          0,
          292,
          47,
          35,
          0,
          0,
          0,
          0
         ],
         "yaxis": "y"
        }
       ],
       "layout": {
        "barmode": "relative",
        "coloraxis": {
         "colorbar": {
          "title": {
           "text": "Total Number Assertions"
          }
         },
         "colorscale": [
          [
           0,
           "rgb(0, 128, 128)"
          ],
          [
           0.16666666666666666,
           "rgb(112, 164, 148)"
          ],
          [
           0.3333333333333333,
           "rgb(180, 200, 168)"
          ],
          [
           0.5,
           "rgb(246, 237, 189)"
          ],
          [
           0.6666666666666666,
           "rgb(237, 187, 138)"
          ],
          [
           0.8333333333333334,
           "rgb(222, 138, 90)"
          ],
          [
           1,
           "rgb(202, 86, 44)"
          ]
         ]
        },
        "legend": {
         "tracegroupgap": 0
        },
        "margin": {
         "t": 60
        },
        "template": {
         "data": {
          "bar": [
           {
            "error_x": {
             "color": "#2a3f5f"
            },
            "error_y": {
             "color": "#2a3f5f"
            },
            "marker": {
             "line": {
              "color": "#E5ECF6",
              "width": 0.5
             },
             "pattern": {
              "fillmode": "overlay",
              "size": 10,
              "solidity": 0.2
             }
            },
            "type": "bar"
           }
          ],
          "barpolar": [
           {
            "marker": {
             "line": {
              "color": "#E5ECF6",
              "width": 0.5
             },
             "pattern": {
              "fillmode": "overlay",
              "size": 10,
              "solidity": 0.2
             }
            },
            "type": "barpolar"
           }
          ],
          "carpet": [
           {
            "aaxis": {
             "endlinecolor": "#2a3f5f",
             "gridcolor": "white",
             "linecolor": "white",
             "minorgridcolor": "white",
             "startlinecolor": "#2a3f5f"
            },
            "baxis": {
             "endlinecolor": "#2a3f5f",
             "gridcolor": "white",
             "linecolor": "white",
             "minorgridcolor": "white",
             "startlinecolor": "#2a3f5f"
            },
            "type": "carpet"
           }
          ],
          "choropleth": [
           {
            "colorbar": {
             "outlinewidth": 0,
             "ticks": ""
            },
            "type": "choropleth"
           }
          ],
          "contour": [
           {
            "colorbar": {
             "outlinewidth": 0,
             "ticks": ""
            },
            "colorscale": [
             [
              0,
              "#0d0887"
             ],
             [
              0.1111111111111111,
              "#46039f"
             ],
             [
              0.2222222222222222,
              "#7201a8"
             ],
             [
              0.3333333333333333,
              "#9c179e"
             ],
             [
              0.4444444444444444,
              "#bd3786"
             ],
             [
              0.5555555555555556,
              "#d8576b"
             ],
             [
              0.6666666666666666,
              "#ed7953"
             ],
             [
              0.7777777777777778,
              "#fb9f3a"
             ],
             [
              0.8888888888888888,
              "#fdca26"
             ],
             [
              1,
              "#f0f921"
             ]
            ],
            "type": "contour"
           }
          ],
          "contourcarpet": [
           {
            "colorbar": {
             "outlinewidth": 0,
             "ticks": ""
            },
            "type": "contourcarpet"
           }
          ],
          "heatmap": [
           {
            "colorbar": {
             "outlinewidth": 0,
             "ticks": ""
            },
            "colorscale": [
             [
              0,
              "#0d0887"
             ],
             [
              0.1111111111111111,
              "#46039f"
             ],
             [
              0.2222222222222222,
              "#7201a8"
             ],
             [
              0.3333333333333333,
              "#9c179e"
             ],
             [
              0.4444444444444444,
              "#bd3786"
             ],
             [
              0.5555555555555556,
              "#d8576b"
             ],
             [
              0.6666666666666666,
              "#ed7953"
             ],
             [
              0.7777777777777778,
              "#fb9f3a"
             ],
             [
              0.8888888888888888,
              "#fdca26"
             ],
             [
              1,
              "#f0f921"
             ]
            ],
            "type": "heatmap"
           }
          ],
          "heatmapgl": [
           {
            "colorbar": {
             "outlinewidth": 0,
             "ticks": ""
            },
            "colorscale": [
             [
              0,
              "#0d0887"
             ],
             [
              0.1111111111111111,
              "#46039f"
             ],
             [
              0.2222222222222222,
              "#7201a8"
             ],
             [
              0.3333333333333333,
              "#9c179e"
             ],
             [
              0.4444444444444444,
              "#bd3786"
             ],
             [
              0.5555555555555556,
              "#d8576b"
             ],
             [
              0.6666666666666666,
              "#ed7953"
             ],
             [
              0.7777777777777778,
              "#fb9f3a"
             ],
             [
              0.8888888888888888,
              "#fdca26"
             ],
             [
              1,
              "#f0f921"
             ]
            ],
            "type": "heatmapgl"
           }
          ],
          "histogram": [
           {
            "marker": {
             "pattern": {
              "fillmode": "overlay",
              "size": 10,
              "solidity": 0.2
             }
            },
            "type": "histogram"
           }
          ],
          "histogram2d": [
           {
            "colorbar": {
             "outlinewidth": 0,
             "ticks": ""
            },
            "colorscale": [
             [
              0,
              "#0d0887"
             ],
             [
              0.1111111111111111,
              "#46039f"
             ],
             [
              0.2222222222222222,
              "#7201a8"
             ],
             [
              0.3333333333333333,
              "#9c179e"
             ],
             [
              0.4444444444444444,
              "#bd3786"
             ],
             [
              0.5555555555555556,
              "#d8576b"
             ],
             [
              0.6666666666666666,
              "#ed7953"
             ],
             [
              0.7777777777777778,
              "#fb9f3a"
             ],
             [
              0.8888888888888888,
              "#fdca26"
             ],
             [
              1,
              "#f0f921"
             ]
            ],
            "type": "histogram2d"
           }
          ],
          "histogram2dcontour": [
           {
            "colorbar": {
             "outlinewidth": 0,
             "ticks": ""
            },
            "colorscale": [
             [
              0,
              "#0d0887"
             ],
             [
              0.1111111111111111,
              "#46039f"
             ],
             [
              0.2222222222222222,
              "#7201a8"
             ],
             [
              0.3333333333333333,
              "#9c179e"
             ],
             [
              0.4444444444444444,
              "#bd3786"
             ],
             [
              0.5555555555555556,
              "#d8576b"
             ],
             [
              0.6666666666666666,
              "#ed7953"
             ],
             [
              0.7777777777777778,
              "#fb9f3a"
             ],
             [
              0.8888888888888888,
              "#fdca26"
             ],
             [
              1,
              "#f0f921"
             ]
            ],
            "type": "histogram2dcontour"
           }
          ],
          "mesh3d": [
           {
            "colorbar": {
             "outlinewidth": 0,
             "ticks": ""
            },
            "type": "mesh3d"
           }
          ],
          "parcoords": [
           {
            "line": {
             "colorbar": {
              "outlinewidth": 0,
              "ticks": ""
             }
            },
            "type": "parcoords"
           }
          ],
          "pie": [
           {
            "automargin": true,
            "type": "pie"
           }
          ],
          "scatter": [
           {
            "fillpattern": {
             "fillmode": "overlay",
             "size": 10,
             "solidity": 0.2
            },
            "type": "scatter"
           }
          ],
          "scatter3d": [
           {
            "line": {
             "colorbar": {
              "outlinewidth": 0,
              "ticks": ""
             }
            },
            "marker": {
             "colorbar": {
              "outlinewidth": 0,
              "ticks": ""
             }
            },
            "type": "scatter3d"
           }
          ],
          "scattercarpet": [
           {
            "marker": {
             "colorbar": {
              "outlinewidth": 0,
              "ticks": ""
             }
            },
            "type": "scattercarpet"
           }
          ],
          "scattergeo": [
           {
            "marker": {
             "colorbar": {
              "outlinewidth": 0,
              "ticks": ""
             }
            },
            "type": "scattergeo"
           }
          ],
          "scattergl": [
           {
            "marker": {
             "colorbar": {
              "outlinewidth": 0,
              "ticks": ""
             }
            },
            "type": "scattergl"
           }
          ],
          "scattermapbox": [
           {
            "marker": {
             "colorbar": {
              "outlinewidth": 0,
              "ticks": ""
             }
            },
            "type": "scattermapbox"
           }
          ],
          "scatterpolar": [
           {
            "marker": {
             "colorbar": {
              "outlinewidth": 0,
              "ticks": ""
             }
            },
            "type": "scatterpolar"
           }
          ],
          "scatterpolargl": [
           {
            "marker": {
             "colorbar": {
              "outlinewidth": 0,
              "ticks": ""
             }
            },
            "type": "scatterpolargl"
           }
          ],
          "scatterternary": [
           {
            "marker": {
             "colorbar": {
              "outlinewidth": 0,
              "ticks": ""
             }
            },
            "type": "scatterternary"
           }
          ],
          "surface": [
           {
            "colorbar": {
             "outlinewidth": 0,
             "ticks": ""
            },
            "colorscale": [
             [
              0,
              "#0d0887"
             ],
             [
              0.1111111111111111,
              "#46039f"
             ],
             [
              0.2222222222222222,
              "#7201a8"
             ],
             [
              0.3333333333333333,
              "#9c179e"
             ],
             [
              0.4444444444444444,
              "#bd3786"
             ],
             [
              0.5555555555555556,
              "#d8576b"
             ],
             [
              0.6666666666666666,
              "#ed7953"
             ],
             [
              0.7777777777777778,
              "#fb9f3a"
             ],
             [
              0.8888888888888888,
              "#fdca26"
             ],
             [
              1,
              "#f0f921"
             ]
            ],
            "type": "surface"
           }
          ],
          "table": [
           {
            "cells": {
             "fill": {
              "color": "#EBF0F8"
             },
             "line": {
              "color": "white"
             }
            },
            "header": {
             "fill": {
              "color": "#C8D4E3"
             },
             "line": {
              "color": "white"
             }
            },
            "type": "table"
           }
          ]
         },
         "layout": {
          "annotationdefaults": {
           "arrowcolor": "#2a3f5f",
           "arrowhead": 0,
           "arrowwidth": 1
          },
          "autotypenumbers": "strict",
          "coloraxis": {
           "colorbar": {
            "outlinewidth": 0,
            "ticks": ""
           }
          },
          "colorscale": {
           "diverging": [
            [
             0,
             "#8e0152"
            ],
            [
             0.1,
             "#c51b7d"
            ],
            [
             0.2,
             "#de77ae"
            ],
            [
             0.3,
             "#f1b6da"
            ],
            [
             0.4,
             "#fde0ef"
            ],
            [
             0.5,
             "#f7f7f7"
            ],
            [
             0.6,
             "#e6f5d0"
            ],
            [
             0.7,
             "#b8e186"
            ],
            [
             0.8,
             "#7fbc41"
            ],
            [
             0.9,
             "#4d9221"
            ],
            [
             1,
             "#276419"
            ]
           ],
           "sequential": [
            [
             0,
             "#0d0887"
            ],
            [
             0.1111111111111111,
             "#46039f"
            ],
            [
             0.2222222222222222,
             "#7201a8"
            ],
            [
             0.3333333333333333,
             "#9c179e"
            ],
            [
             0.4444444444444444,
             "#bd3786"
            ],
            [
             0.5555555555555556,
             "#d8576b"
            ],
            [
             0.6666666666666666,
             "#ed7953"
            ],
            [
             0.7777777777777778,
             "#fb9f3a"
            ],
            [
             0.8888888888888888,
             "#fdca26"
            ],
            [
             1,
             "#f0f921"
            ]
           ],
           "sequentialminus": [
            [
             0,
             "#0d0887"
            ],
            [
             0.1111111111111111,
             "#46039f"
            ],
            [
             0.2222222222222222,
             "#7201a8"
            ],
            [
             0.3333333333333333,
             "#9c179e"
            ],
            [
             0.4444444444444444,
             "#bd3786"
            ],
            [
             0.5555555555555556,
             "#d8576b"
            ],
            [
             0.6666666666666666,
             "#ed7953"
            ],
            [
             0.7777777777777778,
             "#fb9f3a"
            ],
            [
             0.8888888888888888,
             "#fdca26"
            ],
            [
             1,
             "#f0f921"
            ]
           ]
          },
          "colorway": [
           "#636efa",
           "#EF553B",
           "#00cc96",
           "#ab63fa",
           "#FFA15A",
           "#19d3f3",
           "#FF6692",
           "#B6E880",
           "#FF97FF",
           "#FECB52"
          ],
          "font": {
           "color": "#2a3f5f"
          },
          "geo": {
           "bgcolor": "white",
           "lakecolor": "white",
           "landcolor": "#E5ECF6",
           "showlakes": true,
           "showland": true,
           "subunitcolor": "white"
          },
          "hoverlabel": {
           "align": "left"
          },
          "hovermode": "closest",
          "mapbox": {
           "style": "light"
          },
          "paper_bgcolor": "white",
          "plot_bgcolor": "#E5ECF6",
          "polar": {
           "angularaxis": {
            "gridcolor": "white",
            "linecolor": "white",
            "ticks": ""
           },
           "bgcolor": "#E5ECF6",
           "radialaxis": {
            "gridcolor": "white",
            "linecolor": "white",
            "ticks": ""
           }
          },
          "scene": {
           "xaxis": {
            "backgroundcolor": "#E5ECF6",
            "gridcolor": "white",
            "gridwidth": 2,
            "linecolor": "white",
            "showbackground": true,
            "ticks": "",
            "zerolinecolor": "white"
           },
           "yaxis": {
            "backgroundcolor": "#E5ECF6",
            "gridcolor": "white",
            "gridwidth": 2,
            "linecolor": "white",
            "showbackground": true,
            "ticks": "",
            "zerolinecolor": "white"
           },
           "zaxis": {
            "backgroundcolor": "#E5ECF6",
            "gridcolor": "white",
            "gridwidth": 2,
            "linecolor": "white",
            "showbackground": true,
            "ticks": "",
            "zerolinecolor": "white"
           }
          },
          "shapedefaults": {
           "line": {
            "color": "#2a3f5f"
           }
          },
          "ternary": {
           "aaxis": {
            "gridcolor": "white",
            "linecolor": "white",
            "ticks": ""
           },
           "baxis": {
            "gridcolor": "white",
            "linecolor": "white",
            "ticks": ""
           },
           "bgcolor": "#E5ECF6",
           "caxis": {
            "gridcolor": "white",
            "linecolor": "white",
            "ticks": ""
           }
          },
          "title": {
           "x": 0.05
          },
          "xaxis": {
           "automargin": true,
           "gridcolor": "white",
           "linecolor": "white",
           "ticks": "",
           "title": {
            "standoff": 15
           },
           "zerolinecolor": "white",
           "zerolinewidth": 2
          },
          "yaxis": {
           "automargin": true,
           "gridcolor": "white",
           "linecolor": "white",
           "ticks": "",
           "title": {
            "standoff": 15
           },
           "zerolinecolor": "white",
           "zerolinewidth": 2
          }
         }
        },
        "xaxis": {
         "anchor": "y",
         "domain": [
          0,
          1
         ],
         "title": {
          "text": "Category"
         }
        },
        "yaxis": {
         "anchor": "x",
         "domain": [
          0,
          1
         ],
         "title": {
          "text": "MOA Total Sum Impact Score"
         }
        }
       }
      }
     },
     "metadata": {},
     "output_type": "display_data"
    }
   ],
   "source": [
    "fig3 = px.bar(\n",
    "    not_supported_feature_impact_df,\n",
    "    x=\"Category\",\n",
    "    y=\"MOA Total Sum Impact Score\",\n",
    "    hover_data=[\"Total Number Assertions\"],\n",
    "    color=\"Total Number Assertions\",\n",
    "    labels={\"MOA Total Sum Impact Score\": \"MOA Total Sum Impact Score\"},\n",
    "    text_auto=\".1f\",\n",
    "    color_continuous_scale=\"geyser\"\n",
    ")\n",
    "fig3.update_traces(width=1)\n",
    "fig3.show()"
   ]
  },
  {
   "cell_type": "code",
   "execution_count": 57,
   "metadata": {},
   "outputs": [],
   "source": [
    "fig3.write_html(\"moa_ns_categories_impact_redgreen.html\")"
   ]
  },
  {
   "attachments": {},
   "cell_type": "markdown",
   "metadata": {},
   "source": [
    "The scatterplot below shows the relationship between the Not Suported variant sub category impact score and the number of assertions (evidence items) associated with features (variants) in each sub category. Additionally, the sizes of the data point represent the number of features (variants) in each sub category. "
   ]
  },
  {
   "cell_type": "code",
   "execution_count": 58,
   "metadata": {},
   "outputs": [
    {
     "data": {
      "application/vnd.plotly.v1+json": {
       "config": {
        "plotlyServerURL": "https://plot.ly"
       },
       "data": [
        {
         "hovertemplate": "Category=Expression<br>Total Number Assertions=%{x}<br>MOA Total Sum Impact Score=%{y}<br>Total Number Features=%{text}<extra></extra>",
         "legendgroup": "Expression",
         "marker": {
          "color": "#636efa",
          "size": [
           11
          ],
          "sizemode": "area",
          "sizeref": 0.105625,
          "symbol": "circle"
         },
         "mode": "markers+text",
         "name": "Expression",
         "orientation": "v",
         "showlegend": true,
         "text": [
          11
         ],
         "type": "scatter",
         "x": [
          12
         ],
         "xaxis": "x",
         "y": [
          11
         ],
         "yaxis": "y"
        },
        {
         "hovertemplate": "Category=Epigenetic Modification<br>Total Number Assertions=%{x}<br>MOA Total Sum Impact Score=%{y}<br>Total Number Features=%{text}<extra></extra>",
         "legendgroup": "Epigenetic Modification",
         "marker": {
          "color": "#EF553B",
          "size": [
           0
          ],
          "sizemode": "area",
          "sizeref": 0.105625,
          "symbol": "circle"
         },
         "mode": "markers+text",
         "name": "Epigenetic Modification",
         "orientation": "v",
         "showlegend": true,
         "text": [
          0
         ],
         "type": "scatter",
         "x": [
          0
         ],
         "xaxis": "x",
         "y": [
          0
         ],
         "yaxis": "y"
        },
        {
         "hovertemplate": "Category=Fusion<br>Total Number Assertions=%{x}<br>MOA Total Sum Impact Score=%{y}<br>Total Number Features=%{text}<extra></extra>",
         "legendgroup": "Fusion",
         "marker": {
          "color": "#00cc96",
          "size": [
           0
          ],
          "sizemode": "area",
          "sizeref": 0.105625,
          "symbol": "circle"
         },
         "mode": "markers+text",
         "name": "Fusion",
         "orientation": "v",
         "showlegend": true,
         "text": [
          0
         ],
         "type": "scatter",
         "x": [
          0
         ],
         "xaxis": "x",
         "y": [
          0
         ],
         "yaxis": "y"
        },
        {
         "hovertemplate": "Category=Protein Consequence<br>Total Number Assertions=%{x}<br>MOA Total Sum Impact Score=%{y}<br>Total Number Features=%{text}<extra></extra>",
         "legendgroup": "Protein Consequence",
         "marker": {
          "color": "#ab63fa",
          "size": [
           169
          ],
          "sizemode": "area",
          "sizeref": 0.105625,
          "symbol": "circle"
         },
         "mode": "markers+text",
         "name": "Protein Consequence",
         "orientation": "v",
         "showlegend": true,
         "text": [
          169
         ],
         "type": "scatter",
         "x": [
          404
         ],
         "xaxis": "x",
         "y": [
          1064
         ],
         "yaxis": "y"
        },
        {
         "hovertemplate": "Category=Gene Function<br>Total Number Assertions=%{x}<br>MOA Total Sum Impact Score=%{y}<br>Total Number Features=%{text}<extra></extra>",
         "legendgroup": "Gene Function",
         "marker": {
          "color": "#FFA15A",
          "size": [
           0
          ],
          "sizemode": "area",
          "sizeref": 0.105625,
          "symbol": "circle"
         },
         "mode": "markers+text",
         "name": "Gene Function",
         "orientation": "v",
         "showlegend": true,
         "text": [
          0
         ],
         "type": "scatter",
         "x": [
          0
         ],
         "xaxis": "x",
         "y": [
          0
         ],
         "yaxis": "y"
        },
        {
         "hovertemplate": "Category=Rearrangements<br>Total Number Assertions=%{x}<br>MOA Total Sum Impact Score=%{y}<br>Total Number Features=%{text}<extra></extra>",
         "legendgroup": "Rearrangements",
         "marker": {
          "color": "#19d3f3",
          "size": [
           38
          ],
          "sizemode": "area",
          "sizeref": 0.105625,
          "symbol": "circle"
         },
         "mode": "markers+text",
         "name": "Rearrangements",
         "orientation": "v",
         "showlegend": true,
         "text": [
          38
         ],
         "type": "scatter",
         "x": [
          81
         ],
         "xaxis": "x",
         "y": [
          292
         ],
         "yaxis": "y"
        },
        {
         "hovertemplate": "Category=Copy Number<br>Total Number Assertions=%{x}<br>MOA Total Sum Impact Score=%{y}<br>Total Number Features=%{text}<extra></extra>",
         "legendgroup": "Copy Number",
         "marker": {
          "color": "#FF6692",
          "size": [
           17
          ],
          "sizemode": "area",
          "sizeref": 0.105625,
          "symbol": "circle"
         },
         "mode": "markers+text",
         "name": "Copy Number",
         "orientation": "v",
         "showlegend": true,
         "text": [
          17
         ],
         "type": "scatter",
         "x": [
          29
         ],
         "xaxis": "x",
         "y": [
          47
         ],
         "yaxis": "y"
        },
        {
         "hovertemplate": "Category=Other<br>Total Number Assertions=%{x}<br>MOA Total Sum Impact Score=%{y}<br>Total Number Features=%{text}<extra></extra>",
         "legendgroup": "Other",
         "marker": {
          "color": "#B6E880",
          "size": [
           9
          ],
          "sizemode": "area",
          "sizeref": 0.105625,
          "symbol": "circle"
         },
         "mode": "markers+text",
         "name": "Other",
         "orientation": "v",
         "showlegend": true,
         "text": [
          9
         ],
         "type": "scatter",
         "x": [
          23
         ],
         "xaxis": "x",
         "y": [
          35
         ],
         "yaxis": "y"
        },
        {
         "hovertemplate": "Category=Genotypes Easy<br>Total Number Assertions=%{x}<br>MOA Total Sum Impact Score=%{y}<br>Total Number Features=%{text}<extra></extra>",
         "legendgroup": "Genotypes Easy",
         "marker": {
          "color": "#FF97FF",
          "size": [
           0
          ],
          "sizemode": "area",
          "sizeref": 0.105625,
          "symbol": "circle"
         },
         "mode": "markers+text",
         "name": "Genotypes Easy",
         "orientation": "v",
         "showlegend": true,
         "text": [
          0
         ],
         "type": "scatter",
         "x": [
          0
         ],
         "xaxis": "x",
         "y": [
          0
         ],
         "yaxis": "y"
        },
        {
         "hovertemplate": "Category=Genotypes Compound<br>Total Number Assertions=%{x}<br>MOA Total Sum Impact Score=%{y}<br>Total Number Features=%{text}<extra></extra>",
         "legendgroup": "Genotypes Compound",
         "marker": {
          "color": "#FECB52",
          "size": [
           0
          ],
          "sizemode": "area",
          "sizeref": 0.105625,
          "symbol": "circle"
         },
         "mode": "markers+text",
         "name": "Genotypes Compound",
         "orientation": "v",
         "showlegend": true,
         "text": [
          0
         ],
         "type": "scatter",
         "x": [
          0
         ],
         "xaxis": "x",
         "y": [
          0
         ],
         "yaxis": "y"
        },
        {
         "hovertemplate": "Category=Region Defined Variant<br>Total Number Assertions=%{x}<br>MOA Total Sum Impact Score=%{y}<br>Total Number Features=%{text}<extra></extra>",
         "legendgroup": "Region Defined Variant",
         "marker": {
          "color": "#636efa",
          "size": [
           0
          ],
          "sizemode": "area",
          "sizeref": 0.105625,
          "symbol": "circle"
         },
         "mode": "markers+text",
         "name": "Region Defined Variant",
         "orientation": "v",
         "showlegend": true,
         "text": [
          0
         ],
         "type": "scatter",
         "x": [
          0
         ],
         "xaxis": "x",
         "y": [
          0
         ],
         "yaxis": "y"
        },
        {
         "hovertemplate": "Category=Transcript Variant<br>Total Number Assertions=%{x}<br>MOA Total Sum Impact Score=%{y}<br>Total Number Features=%{text}<extra></extra>",
         "legendgroup": "Transcript Variant",
         "marker": {
          "color": "#EF553B",
          "size": [
           0
          ],
          "sizemode": "area",
          "sizeref": 0.105625,
          "symbol": "circle"
         },
         "mode": "markers+text",
         "name": "Transcript Variant",
         "orientation": "v",
         "showlegend": true,
         "text": [
          0
         ],
         "type": "scatter",
         "x": [
          0
         ],
         "xaxis": "x",
         "y": [
          0
         ],
         "yaxis": "y"
        }
       ],
       "layout": {
        "legend": {
         "itemsizing": "constant",
         "title": {
          "text": "Category"
         },
         "tracegroupgap": 0
        },
        "margin": {
         "t": 60
        },
        "template": {
         "data": {
          "bar": [
           {
            "error_x": {
             "color": "#2a3f5f"
            },
            "error_y": {
             "color": "#2a3f5f"
            },
            "marker": {
             "line": {
              "color": "#E5ECF6",
              "width": 0.5
             },
             "pattern": {
              "fillmode": "overlay",
              "size": 10,
              "solidity": 0.2
             }
            },
            "type": "bar"
           }
          ],
          "barpolar": [
           {
            "marker": {
             "line": {
              "color": "#E5ECF6",
              "width": 0.5
             },
             "pattern": {
              "fillmode": "overlay",
              "size": 10,
              "solidity": 0.2
             }
            },
            "type": "barpolar"
           }
          ],
          "carpet": [
           {
            "aaxis": {
             "endlinecolor": "#2a3f5f",
             "gridcolor": "white",
             "linecolor": "white",
             "minorgridcolor": "white",
             "startlinecolor": "#2a3f5f"
            },
            "baxis": {
             "endlinecolor": "#2a3f5f",
             "gridcolor": "white",
             "linecolor": "white",
             "minorgridcolor": "white",
             "startlinecolor": "#2a3f5f"
            },
            "type": "carpet"
           }
          ],
          "choropleth": [
           {
            "colorbar": {
             "outlinewidth": 0,
             "ticks": ""
            },
            "type": "choropleth"
           }
          ],
          "contour": [
           {
            "colorbar": {
             "outlinewidth": 0,
             "ticks": ""
            },
            "colorscale": [
             [
              0,
              "#0d0887"
             ],
             [
              0.1111111111111111,
              "#46039f"
             ],
             [
              0.2222222222222222,
              "#7201a8"
             ],
             [
              0.3333333333333333,
              "#9c179e"
             ],
             [
              0.4444444444444444,
              "#bd3786"
             ],
             [
              0.5555555555555556,
              "#d8576b"
             ],
             [
              0.6666666666666666,
              "#ed7953"
             ],
             [
              0.7777777777777778,
              "#fb9f3a"
             ],
             [
              0.8888888888888888,
              "#fdca26"
             ],
             [
              1,
              "#f0f921"
             ]
            ],
            "type": "contour"
           }
          ],
          "contourcarpet": [
           {
            "colorbar": {
             "outlinewidth": 0,
             "ticks": ""
            },
            "type": "contourcarpet"
           }
          ],
          "heatmap": [
           {
            "colorbar": {
             "outlinewidth": 0,
             "ticks": ""
            },
            "colorscale": [
             [
              0,
              "#0d0887"
             ],
             [
              0.1111111111111111,
              "#46039f"
             ],
             [
              0.2222222222222222,
              "#7201a8"
             ],
             [
              0.3333333333333333,
              "#9c179e"
             ],
             [
              0.4444444444444444,
              "#bd3786"
             ],
             [
              0.5555555555555556,
              "#d8576b"
             ],
             [
              0.6666666666666666,
              "#ed7953"
             ],
             [
              0.7777777777777778,
              "#fb9f3a"
             ],
             [
              0.8888888888888888,
              "#fdca26"
             ],
             [
              1,
              "#f0f921"
             ]
            ],
            "type": "heatmap"
           }
          ],
          "heatmapgl": [
           {
            "colorbar": {
             "outlinewidth": 0,
             "ticks": ""
            },
            "colorscale": [
             [
              0,
              "#0d0887"
             ],
             [
              0.1111111111111111,
              "#46039f"
             ],
             [
              0.2222222222222222,
              "#7201a8"
             ],
             [
              0.3333333333333333,
              "#9c179e"
             ],
             [
              0.4444444444444444,
              "#bd3786"
             ],
             [
              0.5555555555555556,
              "#d8576b"
             ],
             [
              0.6666666666666666,
              "#ed7953"
             ],
             [
              0.7777777777777778,
              "#fb9f3a"
             ],
             [
              0.8888888888888888,
              "#fdca26"
             ],
             [
              1,
              "#f0f921"
             ]
            ],
            "type": "heatmapgl"
           }
          ],
          "histogram": [
           {
            "marker": {
             "pattern": {
              "fillmode": "overlay",
              "size": 10,
              "solidity": 0.2
             }
            },
            "type": "histogram"
           }
          ],
          "histogram2d": [
           {
            "colorbar": {
             "outlinewidth": 0,
             "ticks": ""
            },
            "colorscale": [
             [
              0,
              "#0d0887"
             ],
             [
              0.1111111111111111,
              "#46039f"
             ],
             [
              0.2222222222222222,
              "#7201a8"
             ],
             [
              0.3333333333333333,
              "#9c179e"
             ],
             [
              0.4444444444444444,
              "#bd3786"
             ],
             [
              0.5555555555555556,
              "#d8576b"
             ],
             [
              0.6666666666666666,
              "#ed7953"
             ],
             [
              0.7777777777777778,
              "#fb9f3a"
             ],
             [
              0.8888888888888888,
              "#fdca26"
             ],
             [
              1,
              "#f0f921"
             ]
            ],
            "type": "histogram2d"
           }
          ],
          "histogram2dcontour": [
           {
            "colorbar": {
             "outlinewidth": 0,
             "ticks": ""
            },
            "colorscale": [
             [
              0,
              "#0d0887"
             ],
             [
              0.1111111111111111,
              "#46039f"
             ],
             [
              0.2222222222222222,
              "#7201a8"
             ],
             [
              0.3333333333333333,
              "#9c179e"
             ],
             [
              0.4444444444444444,
              "#bd3786"
             ],
             [
              0.5555555555555556,
              "#d8576b"
             ],
             [
              0.6666666666666666,
              "#ed7953"
             ],
             [
              0.7777777777777778,
              "#fb9f3a"
             ],
             [
              0.8888888888888888,
              "#fdca26"
             ],
             [
              1,
              "#f0f921"
             ]
            ],
            "type": "histogram2dcontour"
           }
          ],
          "mesh3d": [
           {
            "colorbar": {
             "outlinewidth": 0,
             "ticks": ""
            },
            "type": "mesh3d"
           }
          ],
          "parcoords": [
           {
            "line": {
             "colorbar": {
              "outlinewidth": 0,
              "ticks": ""
             }
            },
            "type": "parcoords"
           }
          ],
          "pie": [
           {
            "automargin": true,
            "type": "pie"
           }
          ],
          "scatter": [
           {
            "fillpattern": {
             "fillmode": "overlay",
             "size": 10,
             "solidity": 0.2
            },
            "type": "scatter"
           }
          ],
          "scatter3d": [
           {
            "line": {
             "colorbar": {
              "outlinewidth": 0,
              "ticks": ""
             }
            },
            "marker": {
             "colorbar": {
              "outlinewidth": 0,
              "ticks": ""
             }
            },
            "type": "scatter3d"
           }
          ],
          "scattercarpet": [
           {
            "marker": {
             "colorbar": {
              "outlinewidth": 0,
              "ticks": ""
             }
            },
            "type": "scattercarpet"
           }
          ],
          "scattergeo": [
           {
            "marker": {
             "colorbar": {
              "outlinewidth": 0,
              "ticks": ""
             }
            },
            "type": "scattergeo"
           }
          ],
          "scattergl": [
           {
            "marker": {
             "colorbar": {
              "outlinewidth": 0,
              "ticks": ""
             }
            },
            "type": "scattergl"
           }
          ],
          "scattermapbox": [
           {
            "marker": {
             "colorbar": {
              "outlinewidth": 0,
              "ticks": ""
             }
            },
            "type": "scattermapbox"
           }
          ],
          "scatterpolar": [
           {
            "marker": {
             "colorbar": {
              "outlinewidth": 0,
              "ticks": ""
             }
            },
            "type": "scatterpolar"
           }
          ],
          "scatterpolargl": [
           {
            "marker": {
             "colorbar": {
              "outlinewidth": 0,
              "ticks": ""
             }
            },
            "type": "scatterpolargl"
           }
          ],
          "scatterternary": [
           {
            "marker": {
             "colorbar": {
              "outlinewidth": 0,
              "ticks": ""
             }
            },
            "type": "scatterternary"
           }
          ],
          "surface": [
           {
            "colorbar": {
             "outlinewidth": 0,
             "ticks": ""
            },
            "colorscale": [
             [
              0,
              "#0d0887"
             ],
             [
              0.1111111111111111,
              "#46039f"
             ],
             [
              0.2222222222222222,
              "#7201a8"
             ],
             [
              0.3333333333333333,
              "#9c179e"
             ],
             [
              0.4444444444444444,
              "#bd3786"
             ],
             [
              0.5555555555555556,
              "#d8576b"
             ],
             [
              0.6666666666666666,
              "#ed7953"
             ],
             [
              0.7777777777777778,
              "#fb9f3a"
             ],
             [
              0.8888888888888888,
              "#fdca26"
             ],
             [
              1,
              "#f0f921"
             ]
            ],
            "type": "surface"
           }
          ],
          "table": [
           {
            "cells": {
             "fill": {
              "color": "#EBF0F8"
             },
             "line": {
              "color": "white"
             }
            },
            "header": {
             "fill": {
              "color": "#C8D4E3"
             },
             "line": {
              "color": "white"
             }
            },
            "type": "table"
           }
          ]
         },
         "layout": {
          "annotationdefaults": {
           "arrowcolor": "#2a3f5f",
           "arrowhead": 0,
           "arrowwidth": 1
          },
          "autotypenumbers": "strict",
          "coloraxis": {
           "colorbar": {
            "outlinewidth": 0,
            "ticks": ""
           }
          },
          "colorscale": {
           "diverging": [
            [
             0,
             "#8e0152"
            ],
            [
             0.1,
             "#c51b7d"
            ],
            [
             0.2,
             "#de77ae"
            ],
            [
             0.3,
             "#f1b6da"
            ],
            [
             0.4,
             "#fde0ef"
            ],
            [
             0.5,
             "#f7f7f7"
            ],
            [
             0.6,
             "#e6f5d0"
            ],
            [
             0.7,
             "#b8e186"
            ],
            [
             0.8,
             "#7fbc41"
            ],
            [
             0.9,
             "#4d9221"
            ],
            [
             1,
             "#276419"
            ]
           ],
           "sequential": [
            [
             0,
             "#0d0887"
            ],
            [
             0.1111111111111111,
             "#46039f"
            ],
            [
             0.2222222222222222,
             "#7201a8"
            ],
            [
             0.3333333333333333,
             "#9c179e"
            ],
            [
             0.4444444444444444,
             "#bd3786"
            ],
            [
             0.5555555555555556,
             "#d8576b"
            ],
            [
             0.6666666666666666,
             "#ed7953"
            ],
            [
             0.7777777777777778,
             "#fb9f3a"
            ],
            [
             0.8888888888888888,
             "#fdca26"
            ],
            [
             1,
             "#f0f921"
            ]
           ],
           "sequentialminus": [
            [
             0,
             "#0d0887"
            ],
            [
             0.1111111111111111,
             "#46039f"
            ],
            [
             0.2222222222222222,
             "#7201a8"
            ],
            [
             0.3333333333333333,
             "#9c179e"
            ],
            [
             0.4444444444444444,
             "#bd3786"
            ],
            [
             0.5555555555555556,
             "#d8576b"
            ],
            [
             0.6666666666666666,
             "#ed7953"
            ],
            [
             0.7777777777777778,
             "#fb9f3a"
            ],
            [
             0.8888888888888888,
             "#fdca26"
            ],
            [
             1,
             "#f0f921"
            ]
           ]
          },
          "colorway": [
           "#636efa",
           "#EF553B",
           "#00cc96",
           "#ab63fa",
           "#FFA15A",
           "#19d3f3",
           "#FF6692",
           "#B6E880",
           "#FF97FF",
           "#FECB52"
          ],
          "font": {
           "color": "#2a3f5f"
          },
          "geo": {
           "bgcolor": "white",
           "lakecolor": "white",
           "landcolor": "#E5ECF6",
           "showlakes": true,
           "showland": true,
           "subunitcolor": "white"
          },
          "hoverlabel": {
           "align": "left"
          },
          "hovermode": "closest",
          "mapbox": {
           "style": "light"
          },
          "paper_bgcolor": "white",
          "plot_bgcolor": "#E5ECF6",
          "polar": {
           "angularaxis": {
            "gridcolor": "white",
            "linecolor": "white",
            "ticks": ""
           },
           "bgcolor": "#E5ECF6",
           "radialaxis": {
            "gridcolor": "white",
            "linecolor": "white",
            "ticks": ""
           }
          },
          "scene": {
           "xaxis": {
            "backgroundcolor": "#E5ECF6",
            "gridcolor": "white",
            "gridwidth": 2,
            "linecolor": "white",
            "showbackground": true,
            "ticks": "",
            "zerolinecolor": "white"
           },
           "yaxis": {
            "backgroundcolor": "#E5ECF6",
            "gridcolor": "white",
            "gridwidth": 2,
            "linecolor": "white",
            "showbackground": true,
            "ticks": "",
            "zerolinecolor": "white"
           },
           "zaxis": {
            "backgroundcolor": "#E5ECF6",
            "gridcolor": "white",
            "gridwidth": 2,
            "linecolor": "white",
            "showbackground": true,
            "ticks": "",
            "zerolinecolor": "white"
           }
          },
          "shapedefaults": {
           "line": {
            "color": "#2a3f5f"
           }
          },
          "ternary": {
           "aaxis": {
            "gridcolor": "white",
            "linecolor": "white",
            "ticks": ""
           },
           "baxis": {
            "gridcolor": "white",
            "linecolor": "white",
            "ticks": ""
           },
           "bgcolor": "#E5ECF6",
           "caxis": {
            "gridcolor": "white",
            "linecolor": "white",
            "ticks": ""
           }
          },
          "title": {
           "x": 0.05
          },
          "xaxis": {
           "automargin": true,
           "gridcolor": "white",
           "linecolor": "white",
           "ticks": "",
           "title": {
            "standoff": 15
           },
           "zerolinecolor": "white",
           "zerolinewidth": 2
          },
          "yaxis": {
           "automargin": true,
           "gridcolor": "white",
           "linecolor": "white",
           "ticks": "",
           "title": {
            "standoff": 15
           },
           "zerolinecolor": "white",
           "zerolinewidth": 2
          }
         }
        },
        "xaxis": {
         "anchor": "y",
         "domain": [
          0,
          1
         ],
         "title": {
          "text": "Total Number Assertions"
         }
        },
        "yaxis": {
         "anchor": "x",
         "domain": [
          0,
          1
         ],
         "title": {
          "text": "MOA Total Sum Impact Score"
         }
        }
       }
      }
     },
     "metadata": {},
     "output_type": "display_data"
    }
   ],
   "source": [
    "fig2 = px.scatter(\n",
    "    data_frame=not_supported_feature_impact_df,\n",
    "    x=\"Total Number Assertions\",\n",
    "    y=\"MOA Total Sum Impact Score\",\n",
    "    size=\"Total Number Features\",\n",
    "    size_max=40,\n",
    "    text=\"Total Number Features\",\n",
    "    color=\"Category\"\n",
    ")\n",
    "fig2.show()"
   ]
  },
  {
   "cell_type": "code",
   "execution_count": 59,
   "metadata": {},
   "outputs": [],
   "source": [
    "fig2.write_html(\"moa_ns_categories_impact_scatterplot.html\")"
   ]
  },
  {
   "cell_type": "code",
   "execution_count": 60,
   "metadata": {},
   "outputs": [],
   "source": [
    "def draw_pie(dist, \n",
    "             xpos, \n",
    "             ypos, \n",
    "             size, \n",
    "             ax=None):\n",
    "    if ax is None:\n",
    "        fig, ax = plt.subplots(figsize=(20,8))\n",
    "\n",
    "    # for incremental pie slices\n",
    "    cumsum = np.cumsum(dist)\n",
    "    cumsum = cumsum/ cumsum[-1]\n",
    "    pie = [0] + cumsum.tolist()\n",
    "\n",
    "    for r1, r2 in zip(pie[:-1], pie[1:]):\n",
    "        angles = np.linspace(2 * np.pi * r1, 2 * np.pi * r2)\n",
    "        x = [0] + np.cos(angles).tolist()\n",
    "        y = [0] + np.sin(angles).tolist()\n",
    "\n",
    "        xy = np.column_stack([x, y])\n",
    "\n",
    "        ax.scatter([xpos], [ypos], marker=xy, s=size)\n",
    "\n",
    "    return ax"
   ]
  },
  {
   "cell_type": "code",
   "execution_count": 61,
   "metadata": {},
   "outputs": [
    {
     "data": {
      "image/png": "[encoded data removed]",
      "text/plain": [
       "<Figure size 2000x800 with 1 Axes>"
      ]
     },
     "metadata": {},
     "output_type": "display_data"
    }
   ],
   "source": [
    "import matplotlib.pyplot as plt\n",
    "import numpy as np\n",
    "\n",
    "fig, ax = plt.subplots(figsize=(20,8))\n",
    "draw_pie([2,2], 2, 1, 2000, ax=ax)\n",
    "draw_pie([1,1,1,1,4], 1.5,1.5, 3000, ax=ax)\n",
    "plt.xlim(0,10)\n",
    "plt.ylim(0, 5)\n",
    "plt.show()"
   ]
  },
  {
   "cell_type": "code",
   "execution_count": 62,
   "metadata": {},
   "outputs": [
    {
     "data": {
      "image/png": "[encoded data removed]",
      "text/plain": [
       "<Figure size 4000x2000 with 1 Axes>"
      ]
     },
     "metadata": {},
     "output_type": "display_data"
    }
   ],
   "source": [
    "fig, ax = plt.subplots(figsize=(40,20))\n",
    "for (x,y), d in not_supported_feature_impact_df.groupby(['Total Number Assertions','MOA Total Sum Impact Score']):\n",
    "    dist = d['Category'].value_counts()\n",
    "    draw_pie(dist, x, y, 10000*len(d), ax=ax)\n",
    "plt.show()"
   ]
  },
  {
   "cell_type": "code",
   "execution_count": 63,
   "metadata": {},
   "outputs": [],
   "source": [
    "not_supported_variant_impact_df = pd.read_csv(\"../not_supported_variant_impact_df.csv\", sep=\",\")"
   ]
  },
  {
   "cell_type": "code",
   "execution_count": 64,
   "metadata": {},
   "outputs": [
    {
     "data": {
      "text/html": [
       "<div>\n",
       "<style scoped>\n",
       "    .dataframe tbody tr th:only-of-type {\n",
       "        vertical-align: middle;\n",
       "    }\n",
       "\n",
       "    .dataframe tbody tr th {\n",
       "        vertical-align: top;\n",
       "    }\n",
       "\n",
       "    .dataframe thead th {\n",
       "        text-align: right;\n",
       "    }\n",
       "</style>\n",
       "<table border=\"1\" class=\"dataframe\">\n",
       "  <thead>\n",
       "    <tr style=\"text-align: right;\">\n",
       "      <th></th>\n",
       "      <th>Category</th>\n",
       "      <th>MOA Total Sum Impact Score</th>\n",
       "      <th>Total Number Assertions</th>\n",
       "      <th>Total Number Features</th>\n",
       "      <th>CIVIC Total Sum Impact Score</th>\n",
       "      <th>Average Impact Score per Variant</th>\n",
       "      <th>Average Impact Score per Evidence Item</th>\n",
       "      <th>Total Number Evidence Items</th>\n",
       "      <th>% Accepted Evidence Items</th>\n",
       "      <th>Total Number Variants</th>\n",
       "    </tr>\n",
       "  </thead>\n",
       "  <tbody>\n",
       "    <tr>\n",
       "      <th>0</th>\n",
       "      <td>Expression</td>\n",
       "      <td>11</td>\n",
       "      <td>12</td>\n",
       "      <td>11</td>\n",
       "      <td>3618.00</td>\n",
       "      <td>9.397403</td>\n",
       "      <td>7.681529</td>\n",
       "      <td>614</td>\n",
       "      <td>55.70%</td>\n",
       "      <td>291</td>\n",
       "    </tr>\n",
       "    <tr>\n",
       "      <th>1</th>\n",
       "      <td>Epigenetic Modification</td>\n",
       "      <td>0</td>\n",
       "      <td>0</td>\n",
       "      <td>0</td>\n",
       "      <td>285.50</td>\n",
       "      <td>0.741558</td>\n",
       "      <td>0.606157</td>\n",
       "      <td>24</td>\n",
       "      <td>91.67%</td>\n",
       "      <td>15</td>\n",
       "    </tr>\n",
       "    <tr>\n",
       "      <th>2</th>\n",
       "      <td>Fusion</td>\n",
       "      <td>0</td>\n",
       "      <td>0</td>\n",
       "      <td>0</td>\n",
       "      <td>5689.25</td>\n",
       "      <td>14.777273</td>\n",
       "      <td>12.079087</td>\n",
       "      <td>1239</td>\n",
       "      <td>58.43%</td>\n",
       "      <td>308</td>\n",
       "    </tr>\n",
       "    <tr>\n",
       "      <th>3</th>\n",
       "      <td>Protein Consequence</td>\n",
       "      <td>1064</td>\n",
       "      <td>404</td>\n",
       "      <td>169</td>\n",
       "      <td>2683.75</td>\n",
       "      <td>6.970779</td>\n",
       "      <td>5.697983</td>\n",
       "      <td>301</td>\n",
       "      <td>63.46%</td>\n",
       "      <td>128</td>\n",
       "    </tr>\n",
       "    <tr>\n",
       "      <th>4</th>\n",
       "      <td>Gene Function</td>\n",
       "      <td>0</td>\n",
       "      <td>0</td>\n",
       "      <td>0</td>\n",
       "      <td>1822.50</td>\n",
       "      <td>4.733766</td>\n",
       "      <td>3.869427</td>\n",
       "      <td>347</td>\n",
       "      <td>44.38%</td>\n",
       "      <td>90</td>\n",
       "    </tr>\n",
       "    <tr>\n",
       "      <th>5</th>\n",
       "      <td>Rearrangements</td>\n",
       "      <td>292</td>\n",
       "      <td>81</td>\n",
       "      <td>38</td>\n",
       "      <td>653.00</td>\n",
       "      <td>1.696104</td>\n",
       "      <td>1.386412</td>\n",
       "      <td>137</td>\n",
       "      <td>38.69%</td>\n",
       "      <td>52</td>\n",
       "    </tr>\n",
       "    <tr>\n",
       "      <th>6</th>\n",
       "      <td>Copy Number</td>\n",
       "      <td>47</td>\n",
       "      <td>29</td>\n",
       "      <td>17</td>\n",
       "      <td>207.00</td>\n",
       "      <td>0.537662</td>\n",
       "      <td>0.439490</td>\n",
       "      <td>64</td>\n",
       "      <td>42.19%</td>\n",
       "      <td>34</td>\n",
       "    </tr>\n",
       "    <tr>\n",
       "      <th>7</th>\n",
       "      <td>Other</td>\n",
       "      <td>35</td>\n",
       "      <td>23</td>\n",
       "      <td>9</td>\n",
       "      <td>673.50</td>\n",
       "      <td>1.749351</td>\n",
       "      <td>1.429936</td>\n",
       "      <td>162</td>\n",
       "      <td>37.04%</td>\n",
       "      <td>93</td>\n",
       "    </tr>\n",
       "    <tr>\n",
       "      <th>8</th>\n",
       "      <td>Genotypes Easy</td>\n",
       "      <td>0</td>\n",
       "      <td>0</td>\n",
       "      <td>0</td>\n",
       "      <td>195.00</td>\n",
       "      <td>0.506494</td>\n",
       "      <td>0.414013</td>\n",
       "      <td>23</td>\n",
       "      <td>56.52%</td>\n",
       "      <td>11</td>\n",
       "    </tr>\n",
       "    <tr>\n",
       "      <th>9</th>\n",
       "      <td>Genotypes Compound</td>\n",
       "      <td>0</td>\n",
       "      <td>0</td>\n",
       "      <td>0</td>\n",
       "      <td>117.50</td>\n",
       "      <td>0.305195</td>\n",
       "      <td>0.249469</td>\n",
       "      <td>7</td>\n",
       "      <td>57.14%</td>\n",
       "      <td>6</td>\n",
       "    </tr>\n",
       "    <tr>\n",
       "      <th>10</th>\n",
       "      <td>Region Defined Variant</td>\n",
       "      <td>0</td>\n",
       "      <td>0</td>\n",
       "      <td>0</td>\n",
       "      <td>8311.50</td>\n",
       "      <td>21.588312</td>\n",
       "      <td>17.646497</td>\n",
       "      <td>924</td>\n",
       "      <td>60.28%</td>\n",
       "      <td>209</td>\n",
       "    </tr>\n",
       "    <tr>\n",
       "      <th>11</th>\n",
       "      <td>Transcript Variant</td>\n",
       "      <td>0</td>\n",
       "      <td>0</td>\n",
       "      <td>0</td>\n",
       "      <td>346.50</td>\n",
       "      <td>0.900000</td>\n",
       "      <td>0.735669</td>\n",
       "      <td>471</td>\n",
       "      <td>11.46%</td>\n",
       "      <td>385</td>\n",
       "    </tr>\n",
       "  </tbody>\n",
       "</table>\n",
       "</div>"
      ],
      "text/plain": [
       "                   Category  MOA Total Sum Impact Score  \\\n",
       "0                Expression                          11   \n",
       "1   Epigenetic Modification                           0   \n",
       "2                    Fusion                           0   \n",
       "3       Protein Consequence                        1064   \n",
       "4             Gene Function                           0   \n",
       "5            Rearrangements                         292   \n",
       "6               Copy Number                          47   \n",
       "7                     Other                          35   \n",
       "8            Genotypes Easy                           0   \n",
       "9        Genotypes Compound                           0   \n",
       "10   Region Defined Variant                           0   \n",
       "11       Transcript Variant                           0   \n",
       "\n",
       "    Total Number Assertions  Total Number Features  \\\n",
       "0                        12                     11   \n",
       "1                         0                      0   \n",
       "2                         0                      0   \n",
       "3                       404                    169   \n",
       "4                         0                      0   \n",
       "5                        81                     38   \n",
       "6                        29                     17   \n",
       "7                        23                      9   \n",
       "8                         0                      0   \n",
       "9                         0                      0   \n",
       "10                        0                      0   \n",
       "11                        0                      0   \n",
       "\n",
       "    CIVIC Total Sum Impact Score  Average Impact Score per Variant  \\\n",
       "0                        3618.00                          9.397403   \n",
       "1                         285.50                          0.741558   \n",
       "2                        5689.25                         14.777273   \n",
       "3                        2683.75                          6.970779   \n",
       "4                        1822.50                          4.733766   \n",
       "5                         653.00                          1.696104   \n",
       "6                         207.00                          0.537662   \n",
       "7                         673.50                          1.749351   \n",
       "8                         195.00                          0.506494   \n",
       "9                         117.50                          0.305195   \n",
       "10                       8311.50                         21.588312   \n",
       "11                        346.50                          0.900000   \n",
       "\n",
       "    Average Impact Score per Evidence Item  Total Number Evidence Items  \\\n",
       "0                                 7.681529                          614   \n",
       "1                                 0.606157                           24   \n",
       "2                                12.079087                         1239   \n",
       "3                                 5.697983                          301   \n",
       "4                                 3.869427                          347   \n",
       "5                                 1.386412                          137   \n",
       "6                                 0.439490                           64   \n",
       "7                                 1.429936                          162   \n",
       "8                                 0.414013                           23   \n",
       "9                                 0.249469                            7   \n",
       "10                               17.646497                          924   \n",
       "11                                0.735669                          471   \n",
       "\n",
       "   % Accepted Evidence Items  Total Number Variants  \n",
       "0                     55.70%                    291  \n",
       "1                     91.67%                     15  \n",
       "2                     58.43%                    308  \n",
       "3                     63.46%                    128  \n",
       "4                     44.38%                     90  \n",
       "5                     38.69%                     52  \n",
       "6                     42.19%                     34  \n",
       "7                     37.04%                     93  \n",
       "8                     56.52%                     11  \n",
       "9                     57.14%                      6  \n",
       "10                    60.28%                    209  \n",
       "11                    11.46%                    385  "
      ]
     },
     "execution_count": 64,
     "metadata": {},
     "output_type": "execute_result"
    }
   ],
   "source": [
    "merged_not_supported_impact_df = pd.merge(not_supported_feature_impact_df, not_supported_variant_impact_df, on='Category')\n",
    "merged_not_supported_impact_df"
   ]
  },
  {
   "cell_type": "code",
   "execution_count": 65,
   "metadata": {},
   "outputs": [
    {
     "data": {
      "text/html": [
       "<div>\n",
       "<style scoped>\n",
       "    .dataframe tbody tr th:only-of-type {\n",
       "        vertical-align: middle;\n",
       "    }\n",
       "\n",
       "    .dataframe tbody tr th {\n",
       "        vertical-align: top;\n",
       "    }\n",
       "\n",
       "    .dataframe thead th {\n",
       "        text-align: right;\n",
       "    }\n",
       "</style>\n",
       "<table border=\"1\" class=\"dataframe\">\n",
       "  <thead>\n",
       "    <tr style=\"text-align: right;\">\n",
       "      <th></th>\n",
       "      <th>Category</th>\n",
       "      <th>MOA Total Sum Impact Score</th>\n",
       "      <th>Total Number Assertions</th>\n",
       "      <th>Total Number Features</th>\n",
       "      <th>CIVIC Total Sum Impact Score</th>\n",
       "      <th>Average Impact Score per Variant</th>\n",
       "      <th>Average Impact Score per Evidence Item</th>\n",
       "      <th>Total Number Evidence Items</th>\n",
       "      <th>% Accepted Evidence Items</th>\n",
       "      <th>Total Number Variants</th>\n",
       "      <th>Sum Variants</th>\n",
       "    </tr>\n",
       "  </thead>\n",
       "  <tbody>\n",
       "    <tr>\n",
       "      <th>0</th>\n",
       "      <td>Expression</td>\n",
       "      <td>11</td>\n",
       "      <td>12</td>\n",
       "      <td>11</td>\n",
       "      <td>3618.00</td>\n",
       "      <td>9.397403</td>\n",
       "      <td>7.681529</td>\n",
       "      <td>614</td>\n",
       "      <td>55.70%</td>\n",
       "      <td>291</td>\n",
       "      <td>626</td>\n",
       "    </tr>\n",
       "    <tr>\n",
       "      <th>1</th>\n",
       "      <td>Epigenetic Modification</td>\n",
       "      <td>0</td>\n",
       "      <td>0</td>\n",
       "      <td>0</td>\n",
       "      <td>285.50</td>\n",
       "      <td>0.741558</td>\n",
       "      <td>0.606157</td>\n",
       "      <td>24</td>\n",
       "      <td>91.67%</td>\n",
       "      <td>15</td>\n",
       "      <td>24</td>\n",
       "    </tr>\n",
       "    <tr>\n",
       "      <th>2</th>\n",
       "      <td>Fusion</td>\n",
       "      <td>0</td>\n",
       "      <td>0</td>\n",
       "      <td>0</td>\n",
       "      <td>5689.25</td>\n",
       "      <td>14.777273</td>\n",
       "      <td>12.079087</td>\n",
       "      <td>1239</td>\n",
       "      <td>58.43%</td>\n",
       "      <td>308</td>\n",
       "      <td>1239</td>\n",
       "    </tr>\n",
       "    <tr>\n",
       "      <th>3</th>\n",
       "      <td>Protein Consequence</td>\n",
       "      <td>1064</td>\n",
       "      <td>404</td>\n",
       "      <td>169</td>\n",
       "      <td>2683.75</td>\n",
       "      <td>6.970779</td>\n",
       "      <td>5.697983</td>\n",
       "      <td>301</td>\n",
       "      <td>63.46%</td>\n",
       "      <td>128</td>\n",
       "      <td>705</td>\n",
       "    </tr>\n",
       "    <tr>\n",
       "      <th>4</th>\n",
       "      <td>Gene Function</td>\n",
       "      <td>0</td>\n",
       "      <td>0</td>\n",
       "      <td>0</td>\n",
       "      <td>1822.50</td>\n",
       "      <td>4.733766</td>\n",
       "      <td>3.869427</td>\n",
       "      <td>347</td>\n",
       "      <td>44.38%</td>\n",
       "      <td>90</td>\n",
       "      <td>347</td>\n",
       "    </tr>\n",
       "    <tr>\n",
       "      <th>5</th>\n",
       "      <td>Rearrangements</td>\n",
       "      <td>292</td>\n",
       "      <td>81</td>\n",
       "      <td>38</td>\n",
       "      <td>653.00</td>\n",
       "      <td>1.696104</td>\n",
       "      <td>1.386412</td>\n",
       "      <td>137</td>\n",
       "      <td>38.69%</td>\n",
       "      <td>52</td>\n",
       "      <td>218</td>\n",
       "    </tr>\n",
       "    <tr>\n",
       "      <th>6</th>\n",
       "      <td>Copy Number</td>\n",
       "      <td>47</td>\n",
       "      <td>29</td>\n",
       "      <td>17</td>\n",
       "      <td>207.00</td>\n",
       "      <td>0.537662</td>\n",
       "      <td>0.439490</td>\n",
       "      <td>64</td>\n",
       "      <td>42.19%</td>\n",
       "      <td>34</td>\n",
       "      <td>93</td>\n",
       "    </tr>\n",
       "    <tr>\n",
       "      <th>7</th>\n",
       "      <td>Other</td>\n",
       "      <td>35</td>\n",
       "      <td>23</td>\n",
       "      <td>9</td>\n",
       "      <td>673.50</td>\n",
       "      <td>1.749351</td>\n",
       "      <td>1.429936</td>\n",
       "      <td>162</td>\n",
       "      <td>37.04%</td>\n",
       "      <td>93</td>\n",
       "      <td>185</td>\n",
       "    </tr>\n",
       "    <tr>\n",
       "      <th>8</th>\n",
       "      <td>Genotypes Easy</td>\n",
       "      <td>0</td>\n",
       "      <td>0</td>\n",
       "      <td>0</td>\n",
       "      <td>195.00</td>\n",
       "      <td>0.506494</td>\n",
       "      <td>0.414013</td>\n",
       "      <td>23</td>\n",
       "      <td>56.52%</td>\n",
       "      <td>11</td>\n",
       "      <td>23</td>\n",
       "    </tr>\n",
       "    <tr>\n",
       "      <th>9</th>\n",
       "      <td>Genotypes Compound</td>\n",
       "      <td>0</td>\n",
       "      <td>0</td>\n",
       "      <td>0</td>\n",
       "      <td>117.50</td>\n",
       "      <td>0.305195</td>\n",
       "      <td>0.249469</td>\n",
       "      <td>7</td>\n",
       "      <td>57.14%</td>\n",
       "      <td>6</td>\n",
       "      <td>7</td>\n",
       "    </tr>\n",
       "    <tr>\n",
       "      <th>10</th>\n",
       "      <td>Region Defined Variant</td>\n",
       "      <td>0</td>\n",
       "      <td>0</td>\n",
       "      <td>0</td>\n",
       "      <td>8311.50</td>\n",
       "      <td>21.588312</td>\n",
       "      <td>17.646497</td>\n",
       "      <td>924</td>\n",
       "      <td>60.28%</td>\n",
       "      <td>209</td>\n",
       "      <td>924</td>\n",
       "    </tr>\n",
       "    <tr>\n",
       "      <th>11</th>\n",
       "      <td>Transcript Variant</td>\n",
       "      <td>0</td>\n",
       "      <td>0</td>\n",
       "      <td>0</td>\n",
       "      <td>346.50</td>\n",
       "      <td>0.900000</td>\n",
       "      <td>0.735669</td>\n",
       "      <td>471</td>\n",
       "      <td>11.46%</td>\n",
       "      <td>385</td>\n",
       "      <td>471</td>\n",
       "    </tr>\n",
       "  </tbody>\n",
       "</table>\n",
       "</div>"
      ],
      "text/plain": [
       "                   Category  MOA Total Sum Impact Score  \\\n",
       "0                Expression                          11   \n",
       "1   Epigenetic Modification                           0   \n",
       "2                    Fusion                           0   \n",
       "3       Protein Consequence                        1064   \n",
       "4             Gene Function                           0   \n",
       "5            Rearrangements                         292   \n",
       "6               Copy Number                          47   \n",
       "7                     Other                          35   \n",
       "8            Genotypes Easy                           0   \n",
       "9        Genotypes Compound                           0   \n",
       "10   Region Defined Variant                           0   \n",
       "11       Transcript Variant                           0   \n",
       "\n",
       "    Total Number Assertions  Total Number Features  \\\n",
       "0                        12                     11   \n",
       "1                         0                      0   \n",
       "2                         0                      0   \n",
       "3                       404                    169   \n",
       "4                         0                      0   \n",
       "5                        81                     38   \n",
       "6                        29                     17   \n",
       "7                        23                      9   \n",
       "8                         0                      0   \n",
       "9                         0                      0   \n",
       "10                        0                      0   \n",
       "11                        0                      0   \n",
       "\n",
       "    CIVIC Total Sum Impact Score  Average Impact Score per Variant  \\\n",
       "0                        3618.00                          9.397403   \n",
       "1                         285.50                          0.741558   \n",
       "2                        5689.25                         14.777273   \n",
       "3                        2683.75                          6.970779   \n",
       "4                        1822.50                          4.733766   \n",
       "5                         653.00                          1.696104   \n",
       "6                         207.00                          0.537662   \n",
       "7                         673.50                          1.749351   \n",
       "8                         195.00                          0.506494   \n",
       "9                         117.50                          0.305195   \n",
       "10                       8311.50                         21.588312   \n",
       "11                        346.50                          0.900000   \n",
       "\n",
       "    Average Impact Score per Evidence Item  Total Number Evidence Items  \\\n",
       "0                                 7.681529                          614   \n",
       "1                                 0.606157                           24   \n",
       "2                                12.079087                         1239   \n",
       "3                                 5.697983                          301   \n",
       "4                                 3.869427                          347   \n",
       "5                                 1.386412                          137   \n",
       "6                                 0.439490                           64   \n",
       "7                                 1.429936                          162   \n",
       "8                                 0.414013                           23   \n",
       "9                                 0.249469                            7   \n",
       "10                               17.646497                          924   \n",
       "11                                0.735669                          471   \n",
       "\n",
       "   % Accepted Evidence Items  Total Number Variants  Sum Variants  \n",
       "0                     55.70%                    291           626  \n",
       "1                     91.67%                     15            24  \n",
       "2                     58.43%                    308          1239  \n",
       "3                     63.46%                    128           705  \n",
       "4                     44.38%                     90           347  \n",
       "5                     38.69%                     52           218  \n",
       "6                     42.19%                     34            93  \n",
       "7                     37.04%                     93           185  \n",
       "8                     56.52%                     11            23  \n",
       "9                     57.14%                      6             7  \n",
       "10                    60.28%                    209           924  \n",
       "11                    11.46%                    385           471  "
      ]
     },
     "execution_count": 65,
     "metadata": {},
     "output_type": "execute_result"
    }
   ],
   "source": [
    "merged_not_supported_impact_df['Sum Variants'] = merged_not_supported_impact_df['Total Number Evidence Items']+merged_not_supported_impact_df['Total Number Assertions']\n",
    "merged_not_supported_impact_df"
   ]
  },
  {
   "cell_type": "code",
   "execution_count": 66,
   "metadata": {},
   "outputs": [
    {
     "data": {
      "text/html": [
       "<div>\n",
       "<style scoped>\n",
       "    .dataframe tbody tr th:only-of-type {\n",
       "        vertical-align: middle;\n",
       "    }\n",
       "\n",
       "    .dataframe tbody tr th {\n",
       "        vertical-align: top;\n",
       "    }\n",
       "\n",
       "    .dataframe thead th {\n",
       "        text-align: right;\n",
       "    }\n",
       "</style>\n",
       "<table border=\"1\" class=\"dataframe\">\n",
       "  <thead>\n",
       "    <tr style=\"text-align: right;\">\n",
       "      <th></th>\n",
       "      <th>Category</th>\n",
       "      <th>MOA Total Sum Impact Score</th>\n",
       "      <th>Total Number Assertions</th>\n",
       "      <th>Total Number Features</th>\n",
       "      <th>CIVIC Total Sum Impact Score</th>\n",
       "      <th>Average Impact Score per Variant</th>\n",
       "      <th>Average Impact Score per Evidence Item</th>\n",
       "      <th>Total Number Evidence Items</th>\n",
       "      <th>% Accepted Evidence Items</th>\n",
       "      <th>Total Number Variants</th>\n",
       "      <th>Sum Variants</th>\n",
       "      <th>Sum Impact Score</th>\n",
       "    </tr>\n",
       "  </thead>\n",
       "  <tbody>\n",
       "    <tr>\n",
       "      <th>0</th>\n",
       "      <td>Expression</td>\n",
       "      <td>11</td>\n",
       "      <td>12</td>\n",
       "      <td>11</td>\n",
       "      <td>3618.00</td>\n",
       "      <td>9.397403</td>\n",
       "      <td>7.681529</td>\n",
       "      <td>614</td>\n",
       "      <td>55.70%</td>\n",
       "      <td>291</td>\n",
       "      <td>626</td>\n",
       "      <td>3629.00</td>\n",
       "    </tr>\n",
       "    <tr>\n",
       "      <th>1</th>\n",
       "      <td>Epigenetic Modification</td>\n",
       "      <td>0</td>\n",
       "      <td>0</td>\n",
       "      <td>0</td>\n",
       "      <td>285.50</td>\n",
       "      <td>0.741558</td>\n",
       "      <td>0.606157</td>\n",
       "      <td>24</td>\n",
       "      <td>91.67%</td>\n",
       "      <td>15</td>\n",
       "      <td>24</td>\n",
       "      <td>285.50</td>\n",
       "    </tr>\n",
       "    <tr>\n",
       "      <th>2</th>\n",
       "      <td>Fusion</td>\n",
       "      <td>0</td>\n",
       "      <td>0</td>\n",
       "      <td>0</td>\n",
       "      <td>5689.25</td>\n",
       "      <td>14.777273</td>\n",
       "      <td>12.079087</td>\n",
       "      <td>1239</td>\n",
       "      <td>58.43%</td>\n",
       "      <td>308</td>\n",
       "      <td>1239</td>\n",
       "      <td>5689.25</td>\n",
       "    </tr>\n",
       "    <tr>\n",
       "      <th>3</th>\n",
       "      <td>Protein Consequence</td>\n",
       "      <td>1064</td>\n",
       "      <td>404</td>\n",
       "      <td>169</td>\n",
       "      <td>2683.75</td>\n",
       "      <td>6.970779</td>\n",
       "      <td>5.697983</td>\n",
       "      <td>301</td>\n",
       "      <td>63.46%</td>\n",
       "      <td>128</td>\n",
       "      <td>705</td>\n",
       "      <td>3747.75</td>\n",
       "    </tr>\n",
       "    <tr>\n",
       "      <th>4</th>\n",
       "      <td>Gene Function</td>\n",
       "      <td>0</td>\n",
       "      <td>0</td>\n",
       "      <td>0</td>\n",
       "      <td>1822.50</td>\n",
       "      <td>4.733766</td>\n",
       "      <td>3.869427</td>\n",
       "      <td>347</td>\n",
       "      <td>44.38%</td>\n",
       "      <td>90</td>\n",
       "      <td>347</td>\n",
       "      <td>1822.50</td>\n",
       "    </tr>\n",
       "    <tr>\n",
       "      <th>5</th>\n",
       "      <td>Rearrangements</td>\n",
       "      <td>292</td>\n",
       "      <td>81</td>\n",
       "      <td>38</td>\n",
       "      <td>653.00</td>\n",
       "      <td>1.696104</td>\n",
       "      <td>1.386412</td>\n",
       "      <td>137</td>\n",
       "      <td>38.69%</td>\n",
       "      <td>52</td>\n",
       "      <td>218</td>\n",
       "      <td>945.00</td>\n",
       "    </tr>\n",
       "    <tr>\n",
       "      <th>6</th>\n",
       "      <td>Copy Number</td>\n",
       "      <td>47</td>\n",
       "      <td>29</td>\n",
       "      <td>17</td>\n",
       "      <td>207.00</td>\n",
       "      <td>0.537662</td>\n",
       "      <td>0.439490</td>\n",
       "      <td>64</td>\n",
       "      <td>42.19%</td>\n",
       "      <td>34</td>\n",
       "      <td>93</td>\n",
       "      <td>254.00</td>\n",
       "    </tr>\n",
       "    <tr>\n",
       "      <th>7</th>\n",
       "      <td>Other</td>\n",
       "      <td>35</td>\n",
       "      <td>23</td>\n",
       "      <td>9</td>\n",
       "      <td>673.50</td>\n",
       "      <td>1.749351</td>\n",
       "      <td>1.429936</td>\n",
       "      <td>162</td>\n",
       "      <td>37.04%</td>\n",
       "      <td>93</td>\n",
       "      <td>185</td>\n",
       "      <td>708.50</td>\n",
       "    </tr>\n",
       "    <tr>\n",
       "      <th>8</th>\n",
       "      <td>Genotypes Easy</td>\n",
       "      <td>0</td>\n",
       "      <td>0</td>\n",
       "      <td>0</td>\n",
       "      <td>195.00</td>\n",
       "      <td>0.506494</td>\n",
       "      <td>0.414013</td>\n",
       "      <td>23</td>\n",
       "      <td>56.52%</td>\n",
       "      <td>11</td>\n",
       "      <td>23</td>\n",
       "      <td>195.00</td>\n",
       "    </tr>\n",
       "    <tr>\n",
       "      <th>9</th>\n",
       "      <td>Genotypes Compound</td>\n",
       "      <td>0</td>\n",
       "      <td>0</td>\n",
       "      <td>0</td>\n",
       "      <td>117.50</td>\n",
       "      <td>0.305195</td>\n",
       "      <td>0.249469</td>\n",
       "      <td>7</td>\n",
       "      <td>57.14%</td>\n",
       "      <td>6</td>\n",
       "      <td>7</td>\n",
       "      <td>117.50</td>\n",
       "    </tr>\n",
       "    <tr>\n",
       "      <th>10</th>\n",
       "      <td>Region Defined Variant</td>\n",
       "      <td>0</td>\n",
       "      <td>0</td>\n",
       "      <td>0</td>\n",
       "      <td>8311.50</td>\n",
       "      <td>21.588312</td>\n",
       "      <td>17.646497</td>\n",
       "      <td>924</td>\n",
       "      <td>60.28%</td>\n",
       "      <td>209</td>\n",
       "      <td>924</td>\n",
       "      <td>8311.50</td>\n",
       "    </tr>\n",
       "    <tr>\n",
       "      <th>11</th>\n",
       "      <td>Transcript Variant</td>\n",
       "      <td>0</td>\n",
       "      <td>0</td>\n",
       "      <td>0</td>\n",
       "      <td>346.50</td>\n",
       "      <td>0.900000</td>\n",
       "      <td>0.735669</td>\n",
       "      <td>471</td>\n",
       "      <td>11.46%</td>\n",
       "      <td>385</td>\n",
       "      <td>471</td>\n",
       "      <td>346.50</td>\n",
       "    </tr>\n",
       "  </tbody>\n",
       "</table>\n",
       "</div>"
      ],
      "text/plain": [
       "                   Category  MOA Total Sum Impact Score  \\\n",
       "0                Expression                          11   \n",
       "1   Epigenetic Modification                           0   \n",
       "2                    Fusion                           0   \n",
       "3       Protein Consequence                        1064   \n",
       "4             Gene Function                           0   \n",
       "5            Rearrangements                         292   \n",
       "6               Copy Number                          47   \n",
       "7                     Other                          35   \n",
       "8            Genotypes Easy                           0   \n",
       "9        Genotypes Compound                           0   \n",
       "10   Region Defined Variant                           0   \n",
       "11       Transcript Variant                           0   \n",
       "\n",
       "    Total Number Assertions  Total Number Features  \\\n",
       "0                        12                     11   \n",
       "1                         0                      0   \n",
       "2                         0                      0   \n",
       "3                       404                    169   \n",
       "4                         0                      0   \n",
       "5                        81                     38   \n",
       "6                        29                     17   \n",
       "7                        23                      9   \n",
       "8                         0                      0   \n",
       "9                         0                      0   \n",
       "10                        0                      0   \n",
       "11                        0                      0   \n",
       "\n",
       "    CIVIC Total Sum Impact Score  Average Impact Score per Variant  \\\n",
       "0                        3618.00                          9.397403   \n",
       "1                         285.50                          0.741558   \n",
       "2                        5689.25                         14.777273   \n",
       "3                        2683.75                          6.970779   \n",
       "4                        1822.50                          4.733766   \n",
       "5                         653.00                          1.696104   \n",
       "6                         207.00                          0.537662   \n",
       "7                         673.50                          1.749351   \n",
       "8                         195.00                          0.506494   \n",
       "9                         117.50                          0.305195   \n",
       "10                       8311.50                         21.588312   \n",
       "11                        346.50                          0.900000   \n",
       "\n",
       "    Average Impact Score per Evidence Item  Total Number Evidence Items  \\\n",
       "0                                 7.681529                          614   \n",
       "1                                 0.606157                           24   \n",
       "2                                12.079087                         1239   \n",
       "3                                 5.697983                          301   \n",
       "4                                 3.869427                          347   \n",
       "5                                 1.386412                          137   \n",
       "6                                 0.439490                           64   \n",
       "7                                 1.429936                          162   \n",
       "8                                 0.414013                           23   \n",
       "9                                 0.249469                            7   \n",
       "10                               17.646497                          924   \n",
       "11                                0.735669                          471   \n",
       "\n",
       "   % Accepted Evidence Items  Total Number Variants  Sum Variants  \\\n",
       "0                     55.70%                    291           626   \n",
       "1                     91.67%                     15            24   \n",
       "2                     58.43%                    308          1239   \n",
       "3                     63.46%                    128           705   \n",
       "4                     44.38%                     90           347   \n",
       "5                     38.69%                     52           218   \n",
       "6                     42.19%                     34            93   \n",
       "7                     37.04%                     93           185   \n",
       "8                     56.52%                     11            23   \n",
       "9                     57.14%                      6             7   \n",
       "10                    60.28%                    209           924   \n",
       "11                    11.46%                    385           471   \n",
       "\n",
       "    Sum Impact Score  \n",
       "0            3629.00  \n",
       "1             285.50  \n",
       "2            5689.25  \n",
       "3            3747.75  \n",
       "4            1822.50  \n",
       "5             945.00  \n",
       "6             254.00  \n",
       "7             708.50  \n",
       "8             195.00  \n",
       "9             117.50  \n",
       "10           8311.50  \n",
       "11            346.50  "
      ]
     },
     "execution_count": 66,
     "metadata": {},
     "output_type": "execute_result"
    }
   ],
   "source": [
    "merged_not_supported_impact_df['Sum Impact Score'] = merged_not_supported_impact_df['CIVIC Total Sum Impact Score']+merged_not_supported_impact_df['MOA Total Sum Impact Score']\n",
    "merged_not_supported_impact_df"
   ]
  },
  {
   "cell_type": "code",
   "execution_count": 67,
   "metadata": {},
   "outputs": [
    {
     "data": {
      "text/html": [
       "<div>\n",
       "<style scoped>\n",
       "    .dataframe tbody tr th:only-of-type {\n",
       "        vertical-align: middle;\n",
       "    }\n",
       "\n",
       "    .dataframe tbody tr th {\n",
       "        vertical-align: top;\n",
       "    }\n",
       "\n",
       "    .dataframe thead th {\n",
       "        text-align: right;\n",
       "    }\n",
       "</style>\n",
       "<table border=\"1\" class=\"dataframe\">\n",
       "  <thead>\n",
       "    <tr style=\"text-align: right;\">\n",
       "      <th></th>\n",
       "      <th>Category</th>\n",
       "      <th>MOA Total Sum Impact Score</th>\n",
       "      <th>Total Number Assertions</th>\n",
       "      <th>Total Number Features</th>\n",
       "      <th>CIVIC Total Sum Impact Score</th>\n",
       "      <th>Average Impact Score per Variant</th>\n",
       "      <th>Average Impact Score per Evidence Item</th>\n",
       "      <th>Total Number Evidence Items</th>\n",
       "      <th>% Accepted Evidence Items</th>\n",
       "      <th>Total Number Variants</th>\n",
       "      <th>Sum Variants</th>\n",
       "      <th>Sum Impact Score</th>\n",
       "      <th>Ratio of MOA Features to MOA+CIVIC per Category</th>\n",
       "    </tr>\n",
       "  </thead>\n",
       "  <tbody>\n",
       "    <tr>\n",
       "      <th>0</th>\n",
       "      <td>Expression</td>\n",
       "      <td>11</td>\n",
       "      <td>12</td>\n",
       "      <td>11</td>\n",
       "      <td>3618.00</td>\n",
       "      <td>9.397403</td>\n",
       "      <td>7.681529</td>\n",
       "      <td>614</td>\n",
       "      <td>55.70%</td>\n",
       "      <td>291</td>\n",
       "      <td>626</td>\n",
       "      <td>3629.00</td>\n",
       "      <td>0.036424</td>\n",
       "    </tr>\n",
       "    <tr>\n",
       "      <th>1</th>\n",
       "      <td>Epigenetic Modification</td>\n",
       "      <td>0</td>\n",
       "      <td>0</td>\n",
       "      <td>0</td>\n",
       "      <td>285.50</td>\n",
       "      <td>0.741558</td>\n",
       "      <td>0.606157</td>\n",
       "      <td>24</td>\n",
       "      <td>91.67%</td>\n",
       "      <td>15</td>\n",
       "      <td>24</td>\n",
       "      <td>285.50</td>\n",
       "      <td>0.000000</td>\n",
       "    </tr>\n",
       "    <tr>\n",
       "      <th>2</th>\n",
       "      <td>Fusion</td>\n",
       "      <td>0</td>\n",
       "      <td>0</td>\n",
       "      <td>0</td>\n",
       "      <td>5689.25</td>\n",
       "      <td>14.777273</td>\n",
       "      <td>12.079087</td>\n",
       "      <td>1239</td>\n",
       "      <td>58.43%</td>\n",
       "      <td>308</td>\n",
       "      <td>1239</td>\n",
       "      <td>5689.25</td>\n",
       "      <td>0.000000</td>\n",
       "    </tr>\n",
       "    <tr>\n",
       "      <th>3</th>\n",
       "      <td>Protein Consequence</td>\n",
       "      <td>1064</td>\n",
       "      <td>404</td>\n",
       "      <td>169</td>\n",
       "      <td>2683.75</td>\n",
       "      <td>6.970779</td>\n",
       "      <td>5.697983</td>\n",
       "      <td>301</td>\n",
       "      <td>63.46%</td>\n",
       "      <td>128</td>\n",
       "      <td>705</td>\n",
       "      <td>3747.75</td>\n",
       "      <td>0.569024</td>\n",
       "    </tr>\n",
       "    <tr>\n",
       "      <th>4</th>\n",
       "      <td>Gene Function</td>\n",
       "      <td>0</td>\n",
       "      <td>0</td>\n",
       "      <td>0</td>\n",
       "      <td>1822.50</td>\n",
       "      <td>4.733766</td>\n",
       "      <td>3.869427</td>\n",
       "      <td>347</td>\n",
       "      <td>44.38%</td>\n",
       "      <td>90</td>\n",
       "      <td>347</td>\n",
       "      <td>1822.50</td>\n",
       "      <td>0.000000</td>\n",
       "    </tr>\n",
       "    <tr>\n",
       "      <th>5</th>\n",
       "      <td>Rearrangements</td>\n",
       "      <td>292</td>\n",
       "      <td>81</td>\n",
       "      <td>38</td>\n",
       "      <td>653.00</td>\n",
       "      <td>1.696104</td>\n",
       "      <td>1.386412</td>\n",
       "      <td>137</td>\n",
       "      <td>38.69%</td>\n",
       "      <td>52</td>\n",
       "      <td>218</td>\n",
       "      <td>945.00</td>\n",
       "      <td>0.422222</td>\n",
       "    </tr>\n",
       "    <tr>\n",
       "      <th>6</th>\n",
       "      <td>Copy Number</td>\n",
       "      <td>47</td>\n",
       "      <td>29</td>\n",
       "      <td>17</td>\n",
       "      <td>207.00</td>\n",
       "      <td>0.537662</td>\n",
       "      <td>0.439490</td>\n",
       "      <td>64</td>\n",
       "      <td>42.19%</td>\n",
       "      <td>34</td>\n",
       "      <td>93</td>\n",
       "      <td>254.00</td>\n",
       "      <td>0.333333</td>\n",
       "    </tr>\n",
       "    <tr>\n",
       "      <th>7</th>\n",
       "      <td>Other</td>\n",
       "      <td>35</td>\n",
       "      <td>23</td>\n",
       "      <td>9</td>\n",
       "      <td>673.50</td>\n",
       "      <td>1.749351</td>\n",
       "      <td>1.429936</td>\n",
       "      <td>162</td>\n",
       "      <td>37.04%</td>\n",
       "      <td>93</td>\n",
       "      <td>185</td>\n",
       "      <td>708.50</td>\n",
       "      <td>0.088235</td>\n",
       "    </tr>\n",
       "    <tr>\n",
       "      <th>8</th>\n",
       "      <td>Genotypes Easy</td>\n",
       "      <td>0</td>\n",
       "      <td>0</td>\n",
       "      <td>0</td>\n",
       "      <td>195.00</td>\n",
       "      <td>0.506494</td>\n",
       "      <td>0.414013</td>\n",
       "      <td>23</td>\n",
       "      <td>56.52%</td>\n",
       "      <td>11</td>\n",
       "      <td>23</td>\n",
       "      <td>195.00</td>\n",
       "      <td>0.000000</td>\n",
       "    </tr>\n",
       "    <tr>\n",
       "      <th>9</th>\n",
       "      <td>Genotypes Compound</td>\n",
       "      <td>0</td>\n",
       "      <td>0</td>\n",
       "      <td>0</td>\n",
       "      <td>117.50</td>\n",
       "      <td>0.305195</td>\n",
       "      <td>0.249469</td>\n",
       "      <td>7</td>\n",
       "      <td>57.14%</td>\n",
       "      <td>6</td>\n",
       "      <td>7</td>\n",
       "      <td>117.50</td>\n",
       "      <td>0.000000</td>\n",
       "    </tr>\n",
       "    <tr>\n",
       "      <th>10</th>\n",
       "      <td>Region Defined Variant</td>\n",
       "      <td>0</td>\n",
       "      <td>0</td>\n",
       "      <td>0</td>\n",
       "      <td>8311.50</td>\n",
       "      <td>21.588312</td>\n",
       "      <td>17.646497</td>\n",
       "      <td>924</td>\n",
       "      <td>60.28%</td>\n",
       "      <td>209</td>\n",
       "      <td>924</td>\n",
       "      <td>8311.50</td>\n",
       "      <td>0.000000</td>\n",
       "    </tr>\n",
       "    <tr>\n",
       "      <th>11</th>\n",
       "      <td>Transcript Variant</td>\n",
       "      <td>0</td>\n",
       "      <td>0</td>\n",
       "      <td>0</td>\n",
       "      <td>346.50</td>\n",
       "      <td>0.900000</td>\n",
       "      <td>0.735669</td>\n",
       "      <td>471</td>\n",
       "      <td>11.46%</td>\n",
       "      <td>385</td>\n",
       "      <td>471</td>\n",
       "      <td>346.50</td>\n",
       "      <td>0.000000</td>\n",
       "    </tr>\n",
       "  </tbody>\n",
       "</table>\n",
       "</div>"
      ],
      "text/plain": [
       "                   Category  MOA Total Sum Impact Score  \\\n",
       "0                Expression                          11   \n",
       "1   Epigenetic Modification                           0   \n",
       "2                    Fusion                           0   \n",
       "3       Protein Consequence                        1064   \n",
       "4             Gene Function                           0   \n",
       "5            Rearrangements                         292   \n",
       "6               Copy Number                          47   \n",
       "7                     Other                          35   \n",
       "8            Genotypes Easy                           0   \n",
       "9        Genotypes Compound                           0   \n",
       "10   Region Defined Variant                           0   \n",
       "11       Transcript Variant                           0   \n",
       "\n",
       "    Total Number Assertions  Total Number Features  \\\n",
       "0                        12                     11   \n",
       "1                         0                      0   \n",
       "2                         0                      0   \n",
       "3                       404                    169   \n",
       "4                         0                      0   \n",
       "5                        81                     38   \n",
       "6                        29                     17   \n",
       "7                        23                      9   \n",
       "8                         0                      0   \n",
       "9                         0                      0   \n",
       "10                        0                      0   \n",
       "11                        0                      0   \n",
       "\n",
       "    CIVIC Total Sum Impact Score  Average Impact Score per Variant  \\\n",
       "0                        3618.00                          9.397403   \n",
       "1                         285.50                          0.741558   \n",
       "2                        5689.25                         14.777273   \n",
       "3                        2683.75                          6.970779   \n",
       "4                        1822.50                          4.733766   \n",
       "5                         653.00                          1.696104   \n",
       "6                         207.00                          0.537662   \n",
       "7                         673.50                          1.749351   \n",
       "8                         195.00                          0.506494   \n",
       "9                         117.50                          0.305195   \n",
       "10                       8311.50                         21.588312   \n",
       "11                        346.50                          0.900000   \n",
       "\n",
       "    Average Impact Score per Evidence Item  Total Number Evidence Items  \\\n",
       "0                                 7.681529                          614   \n",
       "1                                 0.606157                           24   \n",
       "2                                12.079087                         1239   \n",
       "3                                 5.697983                          301   \n",
       "4                                 3.869427                          347   \n",
       "5                                 1.386412                          137   \n",
       "6                                 0.439490                           64   \n",
       "7                                 1.429936                          162   \n",
       "8                                 0.414013                           23   \n",
       "9                                 0.249469                            7   \n",
       "10                               17.646497                          924   \n",
       "11                                0.735669                          471   \n",
       "\n",
       "   % Accepted Evidence Items  Total Number Variants  Sum Variants  \\\n",
       "0                     55.70%                    291           626   \n",
       "1                     91.67%                     15            24   \n",
       "2                     58.43%                    308          1239   \n",
       "3                     63.46%                    128           705   \n",
       "4                     44.38%                     90           347   \n",
       "5                     38.69%                     52           218   \n",
       "6                     42.19%                     34            93   \n",
       "7                     37.04%                     93           185   \n",
       "8                     56.52%                     11            23   \n",
       "9                     57.14%                      6             7   \n",
       "10                    60.28%                    209           924   \n",
       "11                    11.46%                    385           471   \n",
       "\n",
       "    Sum Impact Score  Ratio of MOA Features to MOA+CIVIC per Category  \n",
       "0            3629.00                                         0.036424  \n",
       "1             285.50                                         0.000000  \n",
       "2            5689.25                                         0.000000  \n",
       "3            3747.75                                         0.569024  \n",
       "4            1822.50                                         0.000000  \n",
       "5             945.00                                         0.422222  \n",
       "6             254.00                                         0.333333  \n",
       "7             708.50                                         0.088235  \n",
       "8             195.00                                         0.000000  \n",
       "9             117.50                                         0.000000  \n",
       "10           8311.50                                         0.000000  \n",
       "11            346.50                                         0.000000  "
      ]
     },
     "execution_count": 67,
     "metadata": {},
     "output_type": "execute_result"
    }
   ],
   "source": [
    "merged_not_supported_impact_df['Ratio of MOA Features to MOA+CIVIC per Category'] = merged_not_supported_impact_df['Total Number Features']/(merged_not_supported_impact_df['Total Number Features']+merged_not_supported_impact_df['Total Number Variants'])\n",
    "merged_not_supported_impact_df"
   ]
  },
  {
   "cell_type": "code",
   "execution_count": 68,
   "metadata": {},
   "outputs": [],
   "source": [
    "import numpy as np\n",
    "from numpy import pi, sin, cos\n",
    "import plotly.graph_objects as go\n",
    "\n",
    "def degree2rad(degrees):\n",
    "    return degrees*pi/180\n",
    "def disk_part(center=[0,0], radius=1, start_angle=0, end_angle=90, n=50, seg=True):\n",
    "    sta = degree2rad(start_angle)\n",
    "    ea = degree2rad(end_angle)\n",
    "    t = np.linspace(sta, ea, n)\n",
    "    x = center[0] + radius*cos(t)\n",
    "    y = center[1] +radius*sin(t)\n",
    "    path = f\"M {x[0]},{y[0]}\"\n",
    "    for xc, yc in zip(x[1:], y[1:]):\n",
    "        path += f\" L{xc},{yc}\"\n",
    "    if seg: #segment\n",
    "        return path + \" Z\"\n",
    "    else: #disk sector\n",
    "        return path + f\" L{center[0]},{center[1]} Z\" #sector"
   ]
  },
  {
   "cell_type": "code",
   "execution_count": 69,
   "metadata": {},
   "outputs": [],
   "source": [
    "layout = go.Layout(\n",
    "    title=\"Title\",\n",
    "    xaxis=dict(\n",
    "        title=\"Number of Evidence Items\"\n",
    "    ),\n",
    "    yaxis=dict(\n",
    "        title=\"Impact Score\"\n",
    "    ) ) "
   ]
  },
  {
   "cell_type": "code",
   "execution_count": 70,
   "metadata": {},
   "outputs": [
    {
     "data": {
      "application/vnd.plotly.v1+json": {
       "config": {
        "plotlyServerURL": "https://plot.ly"
       },
       "data": [],
       "layout": {
        "height": 1000,
        "shapes": [
         {
          "fillcolor": "blue",
          "opacity": 0.5,
          "path": "M 626.0,3729.0 L613.675643713927,3728.2376452871285 L601.53919804981,3725.9622048426786 L589.7757085386398,3722.2083725215844 L578.5645342137897,3717.0333833590716 L568.0766129069269,3710.5161409026828 L558.4718549427819,3702.7560141624485 L549.8967049713538,3693.8713225222273 L542.4819091125285,3683.9975317129056 L536.340521457665,3673.285188353631 L531.5661803232085,3661.8976245533204 L528.2316805384532,3650.0084675706 L526.3878635359189,3637.7989925026263 L526.0628421672362,3625.4553583665947 L527.2615720638495,3613.1657697156566 L529.9657760780358,3601.117607066358 L534.1342229562994,3589.4945698902407 L539.7033559961803,3578.4738757306873 L546.5882621012875,3568.223558150331 L554.6839664592826,3558.899904707488 L563.8670331027391,3550.6450740250243 L573.997446948972,3543.5849282844356 L584.9207486232009,3537.827114193299 L596.4703895151965,3533.459421685779 L608.4702711616393,3530.5484453812255 L620.7374302359876,3529.138569209735 L633.0848282075641,3529.2512896861854 L645.3242031356622,3530.8848881508475 L657.2689401171011,3534.0144569739523 L668.7369166212446,3538.592279324668 L679.5532793293921,3544.5485567141204 L689.5531101398099,3551.792473219529 L698.5839406895731,3560.2135801631416 L706.5080770540667,3569.6834801336386 L713.2046991792324,3580.0577846735605 L718.5717030363214,3591.1783157837317 L722.527257411645,3602.8755176781237 L725.0110515948019,3614.9710420169035 L725.9852149417655,3627.2804672003854 L725.4348942921627,3639.6161102625415 L723.3684804368095,3651.7898884908777 L719.8174801825336,3663.616187141277 L714.83603596492,3674.9146895235003 L708.5001003334928,3685.5131263067583 L700.9062778960334,3695.249902126435 L692.1703523790198,3703.9765594438445 L682.425521262236,3711.5600420923156 L671.8203649042423,3717.8847239971083 L660.5165811236436,3722.8541721370707 L648.6865197772087,3726.3926168680064 L626,3629.0 Z",
          "type": "path"
         },
         {
          "fillcolor": "red",
          "opacity": 0.5,
          "path": "M 648.6865197772087,3726.3926168680064 L648.2313953246121,3726.4975131063393 L647.7757859130495,3726.600282519412 L647.3197014812525,3726.700922865397 L646.8631519783146,3726.799431948911 L646.4061473634746,3726.895807621063 L645.9486976058993,3726.9900477794986 L645.4908126844656,3727.082150368449 L645.0325025875437,3727.1721133787755 L644.5737773127778,3727.2599348480107 L644.1146468668695,3727.345612860405 L643.6551212653587,3727.4291455469643 L643.1952105324053,3727.510531085495 L642.7349247005704,3727.5897677006406 L642.2742738105977,3727.6668536639213 L641.8132679111941,3727.7417872937735 L641.3519170588111,3727.814566955583 L640.8902313174247,3727.8851910617236 L640.4282207583165,3727.953658071591 L639.9658954598534,3728.0199664916345 L639.5032655072685,3728.084114875394 L639.0403409924402,3728.1461018235254 L638.5771320136728,3728.2059259838375 L638.1136486754762,3728.2635860513165 L637.6499010883444,3728.3190807681576 L637.1858993685368,3728.3724089237903 L636.7216536378556,3728.4235693549062 L636.2571740234265,3728.4725609454845 L635.7924706574768,3728.519382626815 L635.3275536771148,3728.564033377523 L634.8624332241087,3728.60651222359 L634.3971194446656,3728.6468182383765 L633.9316224892092,3728.6849505426403 L633.4659525121594,3728.7209083045586 L633.0001196717105,3728.7546907397427 L632.5341341296094,3728.786297111258 L632.0680060509338,3728.8157267296383 L631.6017456038714,3728.8429789529014 L631.1353629594968,3728.8680531865634 L630.6688682915502,3728.8909488836507 L630.202271776216,3728.911665544714 L629.7355835918997,3728.9302027178364 L629.2688139190074,3728.9465599986456 L628.8019729397215,3728.9607370303215 L628.3350708377809,3728.9727335036036 L627.8681177982577,3728.9825491567995 L627.4011240073347,3728.990183775789 L626.9340996520843,3728.9956371940293 L626.4670549202449,3728.9989092925593 L626.0,3729.0 L626,3629.0 Z",
          "type": "path"
         },
         {
          "fillcolor": "blue",
          "opacity": 0.5,
          "path": "M 24.000000000000007,385.5 L11.212283831549412,384.6790013823246 L-1.3654583909507174,382.22948630390295 L-13.526700487937411,378.1916757346022 L-25.07175520039376,372.63187041233897 L-35.8110530491216,365.6413621867957 L-45.56825506034863,357.3349350097728 L-54.18314824680297,347.84898018587336 L-61.514276300534604,337.3392568310525 L-67.44126230158123,325.9783343122394 L-71.86678530366606,313.9527586631033 L-74.71817834144501,301.45998950333797 L-75.94862162006879,288.7051577571655 L-75.53791129491982,275.89769740923185 L-73.49279121818236,263.24790660436855 L-69.84684220497604,250.96349455786924 L-64.65993063730002,239.2461709759165 L-58.01722545969561,228.28833398778306 L-50.02779970753157,218.26991097386835 L-40.82283953077891,209.35540416308663 L-30.553490121054914,201.69118951081595 L-19.38837391175582,195.4031132097581 L-7.5108218023621305,190.59442529893317 L4.8841371298627365,187.34408430089348 L17.592978001928714,185.70546072496637 L30.407021998071247,185.70546072496637 L43.115862870137136,187.34408430089343 L55.51082180236202,190.59442529893312 L67.38837391175579,195.4031132097581 L78.5534901210548,201.6911895108159 L88.82283953077881,209.35540416308652 L98.02779970753156,218.26991097386832 L106.01722545969557,228.288333987783 L112.6599306373,239.24617097591647 L117.84684220497603,250.96349455786918 L121.49279121818235,263.24790660436855 L123.53791129491981,275.89769740923174 L123.94862162006879,288.70515775716547 L122.71817834144503,301.45998950333785 L119.86678530366608,313.95275866310317 L115.44126230158129,325.97833431223927 L109.51427630053465,337.33925683105247 L102.18314824680299,347.84898018587336 L93.56825506034869,357.3349350097727 L83.81105304912163,365.6413621867956 L73.07175520039388,372.6318704123389 L61.52670048793746,378.19167573460214 L49.36545839095085,382.22948630390295 L36.78771616845067,384.6790013823246 L24.000000000000032,385.5 L24,285.5 Z",
          "type": "path"
         },
         {
          "fillcolor": "red",
          "opacity": 0.5,
          "path": "M 24.000000000000032,385.5 L24.000000000000032,385.5 L24.000000000000032,385.5 L24.000000000000032,385.5 L24.000000000000032,385.5 L24.000000000000032,385.5 L24.000000000000032,385.5 L24.000000000000032,385.5 L24.000000000000032,385.5 L24.000000000000032,385.5 L24.000000000000032,385.5 L24.000000000000032,385.5 L24.000000000000032,385.5 L24.000000000000032,385.5 L24.000000000000032,385.5 L24.000000000000032,385.5 L24.000000000000032,385.5 L24.000000000000032,385.5 L24.000000000000032,385.5 L24.000000000000032,385.5 L24.000000000000032,385.5 L24.000000000000032,385.5 L24.000000000000032,385.5 L24.000000000000032,385.5 L24.000000000000032,385.5 L24.000000000000032,385.5 L24.000000000000032,385.5 L24.000000000000032,385.5 L24.000000000000032,385.5 L24.000000000000032,385.5 L24.000000000000032,385.5 L24.000000000000032,385.5 L24.000000000000032,385.5 L24.000000000000032,385.5 L24.000000000000032,385.5 L24.000000000000032,385.5 L24.000000000000032,385.5 L24.000000000000032,385.5 L24.000000000000032,385.5 L24.000000000000032,385.5 L24.000000000000032,385.5 L24.000000000000032,385.5 L24.000000000000032,385.5 L24.000000000000032,385.5 L24.000000000000032,385.5 L24.000000000000032,385.5 L24.000000000000032,385.5 L24.000000000000032,385.5 L24.000000000000032,385.5 L24.000000000000032,385.5 L24,285.5 Z",
          "type": "path"
         },
         {
          "fillcolor": "blue",
          "opacity": 0.5,
          "path": "M 1239.0,5789.25 L1226.2122838315495,5788.429001382325 L1213.6345416090494,5785.979486303903 L1201.4732995120626,5781.9416757346025 L1189.9282447996063,5776.381870412339 L1179.1889469508783,5769.391362186796 L1169.4317449396513,5761.084935009772 L1160.816851753197,5751.598980185873 L1153.4857236994653,5741.089256831053 L1147.5587376984188,5729.728334312239 L1143.1332146963339,5717.702758663103 L1140.281821658555,5705.209989503338 L1139.0513783799313,5692.455157757166 L1139.46208870508,5679.647697409232 L1141.5072087818176,5666.997906604369 L1145.153157795024,5654.713494557869 L1150.3400693627,5642.996170975916 L1156.9827745403045,5632.0383339877835 L1164.9722002924684,5622.019910973869 L1174.177160469221,5613.105404163087 L1184.446509878945,5605.441189510816 L1195.611626088244,5599.153113209758 L1207.4891781976378,5594.344425298933 L1219.8841371298627,5591.094084300894 L1232.5929780019287,5589.4554607249665 L1245.4070219980713,5589.4554607249665 L1258.115862870137,5591.094084300894 L1270.510821802362,5594.344425298933 L1282.3883739117557,5599.153113209758 L1293.553490121055,5605.441189510816 L1303.8228395307788,5613.105404163087 L1313.0277997075316,5622.019910973869 L1321.0172254596955,5632.038333987783 L1327.6599306373,5642.996170975916 L1332.846842204976,5654.713494557869 L1336.4927912181824,5666.997906604369 L1338.53791129492,5679.647697409232 L1338.9486216200687,5692.455157757166 L1337.718178341445,5705.209989503338 L1334.8667853036661,5717.702758663103 L1330.4412623015812,5729.728334312239 L1324.5142763005347,5741.089256831053 L1317.183148246803,5751.598980185873 L1308.5682550603487,5761.084935009772 L1298.8110530491217,5769.391362186796 L1288.071755200394,5776.381870412339 L1276.5267004879374,5781.9416757346025 L1264.3654583909508,5785.979486303903 L1251.7877161684507,5788.429001382325 L1239.0,5789.25 L1239,5689.25 Z",
          "type": "path"
         },
         {
          "fillcolor": "red",
          "opacity": 0.5,
          "path": "M 1239.0,5789.25 L1239.0,5789.25 L1239.0,5789.25 L1239.0,5789.25 L1239.0,5789.25 L1239.0,5789.25 L1239.0,5789.25 L1239.0,5789.25 L1239.0,5789.25 L1239.0,5789.25 L1239.0,5789.25 L1239.0,5789.25 L1239.0,5789.25 L1239.0,5789.25 L1239.0,5789.25 L1239.0,5789.25 L1239.0,5789.25 L1239.0,5789.25 L1239.0,5789.25 L1239.0,5789.25 L1239.0,5789.25 L1239.0,5789.25 L1239.0,5789.25 L1239.0,5789.25 L1239.0,5789.25 L1239.0,5789.25 L1239.0,5789.25 L1239.0,5789.25 L1239.0,5789.25 L1239.0,5789.25 L1239.0,5789.25 L1239.0,5789.25 L1239.0,5789.25 L1239.0,5789.25 L1239.0,5789.25 L1239.0,5789.25 L1239.0,5789.25 L1239.0,5789.25 L1239.0,5789.25 L1239.0,5789.25 L1239.0,5789.25 L1239.0,5789.25 L1239.0,5789.25 L1239.0,5789.25 L1239.0,5789.25 L1239.0,5789.25 L1239.0,5789.25 L1239.0,5789.25 L1239.0,5789.25 L1239.0,5789.25 L1239,5689.25 Z",
          "type": "path"
         },
         {
          "fillcolor": "blue",
          "opacity": 0.5,
          "path": "M 705.0,3847.75 L699.4764762284582,3847.597336895609 L693.9698172226392,3847.139813702904 L688.4968362557162,3846.378827360105 L683.0742437729826,3845.3167013579605 L677.7185963704839,3843.9566786455257 L672.4462462433897,3842.302911728587 L667.273291258457,3840.3604499909743 L662.2155258030231,3838.1352242774683 L657.2883925606023,3835.634028785376 L652.5069353603253,3832.8645003200686 L647.8857532441863,3829.8350949778096 L643.4389558923414,3826.5550623270797 L639.1801205425571,3823.0344171672177 L635.1222505353454,3819.2839089506156 L631.2777356113564,3815.3149889618207 L627.6583140822538,3811.1397753537644 L624.2750369905722,3806.771016147865 L621.1382343679882,3802.222050310976 L618.2574836950263,3797.5067670280273 L615.6415806585006,3792.6395632946987 L613.2985122959783,3787.635299959624 L611.2354326092595,3782.5092563503204 L609.4586407213361,3777.2770836214017 L607.9735616435172,3771.9547569674983 L606.7847297114487,3766.5585268468003 L605.8957747405975,3761.1048693641537 L605.309410943474,3755.6104359651895 L605.0274286424294,3750.092002595099 L605.0506888033331,3744.566418477276 L605.3791204068176,3739.050554668219 L606.0117206651195,3733.5612525457786 L606.9465580838535,3728.115272388014 L608.1807783593706,3722.729242199672 L609.7106130936954,3717.41960694253 L611.5313913004334,3712.20257832462 L613.6375536665151,3707.0940853016305 L616.0226695262378,3702.1097254416354 L618.6794564957715,3697.264717301627 L621.5998027081871,3692.5738539612753 L624.7747915811108,3688.0514578557754 L628.1947290413875,3683.7113370457027 L631.8491731236271,3679.566743057383 L635.7269658522612,3675.6303304225107 L639.8162673097671,3671.914118040546 L644.1045917870389,3668.4294524818642 L648.5788459055298,3665.186973343705 L653.2253685947686,3662.1965807646916 L658.0299728031879,3659.467405197113 L662.9779888149113,3657.0077795292605 L705,3747.75 Z",
          "type": "path"
         },
         {
          "fillcolor": "red",
          "opacity": 0.5,
          "path": "M 662.9779888149113,3657.0077795292605 L669.7049237267321,3654.18581031792 L676.6196819641482,3651.8617444721 L683.6854665281171,3650.0479495462046 L690.8646767305295,3648.7540776795954 L698.1191082868861,3647.9870142325703 L705.4101566210225,3647.7508411458066 L712.6990222999924,3648.046815218248 L719.946917505885,3648.8733614190273 L727.1152724458318,3650.2260812690206 L734.1659406017901,3652.097776247424 L741.0614017278631,3654.4784860988 L747.7649615149016,3657.3555418367423 L754.2409468598707,3660.713633162089 L760.4548957008502,3664.534889936936 L766.3737404074615,3668.798977280864 L771.9659837508027,3673.483203783338 L777.2018665164684,3678.56264225642 L782.0535258686945,3684.010262385209 L786.4951436228953,3689.797074570099 L790.5030836375546,3695.8922841954127 L794.0560175943396,3702.263455503449 L797.1350384970953,3708.8766842019004 L799.7237612857341,3715.6967778860962 L801.8084100296011,3722.687443315962 L803.3778912363138,3729.8114795510887 L804.4238528859638,3737.0309759161464 L804.940728876527,3744.3075137431633 L804.925768643967,3751.6023708170933 L804.3790517994057,3758.876727436719 L803.3034877054724,3766.091872994327 L801.7047999940827,3773.2094119748367 L799.5914961080372,3780.1914682781653 L796.9748220285258,3787.0008867775114 L793.8687024294552,3793.6014310409714 L790.2896665770686,3799.9579761643035 L786.2567603691853,3806.03669568868 L781.7914449821435,3811.805241608743 L776.9174826648002,3817.2329165130404 L771.6608102873348,3822.290836940807 L766.0494013177703,3826.9520870857696 L760.1131169607058,3831.1918620290535 L753.8835472504281,3834.987599738961 L747.3938429440274,3838.3191011351946 L740.6785391091012,3841.168637578592 L733.7733713448274,3843.5210452143688 L726.7150856143894,3845.36380566682 L719.541242700731,3846.6871126560627 L712.2900183262367,3847.483924182312 L705.0,3847.75 L705,3747.75 Z",
          "type": "path"
         },
         {
          "fillcolor": "blue",
          "opacity": 0.5,
          "path": "M 347.0,1922.5 L334.2122838315494,1921.6790013823247 L321.6345416090493,1919.2294863039028 L309.47329951206257,1915.191675734602 L297.92824479960626,1909.631870412339 L287.1889469508784,1902.6413621867957 L277.43174493965137,1894.3349350097728 L268.81685175319706,1884.8489801858734 L261.4857236994654,1874.3392568310526 L255.55873769841878,1862.9783343122394 L251.13321469633394,1850.9527586631032 L248.28182165855497,1838.459989503338 L247.0513783799312,1825.7051577571656 L247.4620887050802,1812.8976974092318 L249.50720878181764,1800.2479066043686 L253.15315779502396,1787.9634945578694 L258.3400693627,1776.2461709759166 L264.9827745403044,1765.288333987783 L272.9722002924684,1755.2699109738683 L282.1771604692211,1746.3554041630866 L292.4465098789451,1738.691189510816 L303.6116260882442,1732.403113209758 L315.4891781976379,1727.5944252989332 L327.8841371298627,1724.3440843008934 L340.5929780019287,1722.7054607249663 L353.40702199807123,1722.7054607249663 L366.1158628701371,1724.3440843008934 L378.510821802362,1727.5944252989332 L390.3883739117558,1732.403113209758 L401.5534901210548,1738.691189510816 L411.8228395307788,1746.3554041630866 L421.0277997075316,1755.2699109738683 L429.01722545969557,1765.288333987783 L435.6599306373,1776.2461709759164 L440.84684220497604,1787.9634945578691 L444.49279121818233,1800.2479066043686 L446.5379112949198,1812.8976974092318 L446.9486216200688,1825.7051577571656 L445.718178341445,1838.4599895033377 L442.86678530366606,1850.9527586631032 L438.4412623015813,1862.9783343122392 L432.5142763005347,1874.3392568310524 L425.183148246803,1884.8489801858734 L416.5682550603487,1894.3349350097726 L406.81105304912165,1902.6413621867957 L396.07175520039385,1909.631870412339 L384.52670048793743,1915.191675734602 L372.36545839095083,1919.2294863039028 L359.7877161684507,1921.6790013823247 L347.00000000000006,1922.5 L347,1822.5 Z",
          "type": "path"
         },
         {
          "fillcolor": "red",
          "opacity": 0.5,
          "path": "M 347.00000000000006,1922.5 L347.00000000000006,1922.5 L347.00000000000006,1922.5 L347.00000000000006,1922.5 L347.00000000000006,1922.5 L347.00000000000006,1922.5 L347.00000000000006,1922.5 L347.00000000000006,1922.5 L347.00000000000006,1922.5 L347.00000000000006,1922.5 L347.00000000000006,1922.5 L347.00000000000006,1922.5 L347.00000000000006,1922.5 L347.00000000000006,1922.5 L347.00000000000006,1922.5 L347.00000000000006,1922.5 L347.00000000000006,1922.5 L347.00000000000006,1922.5 L347.00000000000006,1922.5 L347.00000000000006,1922.5 L347.00000000000006,1922.5 L347.00000000000006,1922.5 L347.00000000000006,1922.5 L347.00000000000006,1922.5 L347.00000000000006,1922.5 L347.00000000000006,1922.5 L347.00000000000006,1922.5 L347.00000000000006,1922.5 L347.00000000000006,1922.5 L347.00000000000006,1922.5 L347.00000000000006,1922.5 L347.00000000000006,1922.5 L347.00000000000006,1922.5 L347.00000000000006,1922.5 L347.00000000000006,1922.5 L347.00000000000006,1922.5 L347.00000000000006,1922.5 L347.00000000000006,1922.5 L347.00000000000006,1922.5 L347.00000000000006,1922.5 L347.00000000000006,1922.5 L347.00000000000006,1922.5 L347.00000000000006,1922.5 L347.00000000000006,1922.5 L347.00000000000006,1922.5 L347.00000000000006,1922.5 L347.00000000000006,1922.5 L347.00000000000006,1922.5 L347.00000000000006,1922.5 L347.00000000000006,1922.5 L347,1822.5 Z",
          "type": "path"
         },
         {
          "fillcolor": "blue",
          "opacity": 0.5,
          "path": "M 218.0,1045.0 L210.5980312645222,1044.725678031483 L203.2366729817327,1043.90421717678 L195.95631279753349,1042.540124331066 L188.7968939666693,1040.640883507034 L181.79769620648264,1038.2169147743148 L174.99712019112573,1035.2815170903962 L168.43247686859024,1031.8507953366989 L162.13978275645314,1027.9435719601208 L156.15356233943686,1023.5812837048243 L150.5066586529167,1018.7878640008375 L145.23005309159907,1013.5896116547434 L140.35269543197722,1008.0150465628703 L135.90134500113817,1002.0947532386108 L131.90042386333684,995.8612130123431 L128.37188282982132,989.3486258245813 L125.33508102703775,982.592722590075 L122.80667968395682,975.6305691623123 L120.80055072125121,968.5003629739615 L119.32770064384393,961.2412234689731 L118.39621015438625,953.892977476122 L118.01118981897265,946.4959407015264 L118.17475202832972,939.0906965389702 L118.88599940831253,931.7178734115739 L120.14102974329349,924.4179218664142 L121.9329573854318,917.23089264505 L124.25195103236284,910.1962169475572 L127.0852876660425,903.3524900956401 L130.4174223568143,896.7372597817389 L134.2300735497236,890.3868200658917 L138.50232336516024,884.3360122505744 L143.21073236353675,878.6180337260075 L148.32946814435292,873.2642558346868 L153.83044707409448,868.3040517544152 L159.68348836538576,863.7646353441439 L165.85647966205013,859.6709118367844 L172.3155532216048,856.0453411981589 L179.02527172857668,852.9078149017588 L185.9488227191852,850.2755467953824 L193.04822055069292,848.1629786584018 L200.2845148073314,846.5817009678162 L207.61800399939557,845.5403893078028 L215.00845338306019,845.0447567716496 L222.4153157058622,845.0975226172166 L229.797953666743,845.6983973478908 L237.11586287013722,846.8440843008934 L244.3288940508827,848.5282977342196 L251.3974733507298,850.7417973129802 L258.2828194379157,853.4724388059407 L264.94715627858903,856.7052407141073 L218,945.0 Z",
          "type": "path"
         },
         {
          "fillcolor": "red",
          "opacity": 0.5,
          "path": "M 264.94715627858903,856.7052407141073 L269.65638278857097,859.375131432506 L274.2142295932778,862.2959469479624 L278.6073398630453,865.459127772413 L282.8228395307788,868.8554041630865 L286.8483750195758,872.4748232876069 L290.6721494450442,876.3067783908983 L294.2829571862266,880.3400398784199 L297.6702167238186,884.5627882246396 L300.82400164945005,888.9626486103073 L303.73506975515403,893.5267271870257 L306.3948901177787,898.2416488628413 L308.79566809896875,903.0935964981256 L310.9303681874552,908.0683513968844 L312.7927346167132,913.1513349748315 L314.37730969756745,918.3276514821216 L315.679449812022,923.582131655539 L316.6953390214434,928.8993771722222 L317.4220002492184,934.2638057746511 L317.8573040051166,939.6596969346551 L317.9999746257887,945.0712379226275 L317.84959401311517,950.482570146936 L317.406602859448,955.877835627733 L316.6722993561561,961.2412234689731 L315.64883538925824,966.55701619245 L314.3392102332934,971.8096357980726 L312.7472617619071,976.9836894153981 L310.87765520091284,982.0640144126395 L308.73586945678653,987.0357228309565 L306.32818106065946,991.8842450138142 L303.661645774862,996.5953723035512 L300.74407791591966,1001.1552986800375 L297.58402745459614,1005.5506612193961 L294.1907549600927,1009.7685792542272 L290.57420446182823,1013.7966921205718 L286.7449743083318,1017.6231953809993 L282.71428610864336,1021.2368754176655 L278.4939518472415,1024.6271422939667 L274.09633926886875,1027.7840607884873 L269.53433563469406,1030.6983795102958 L264.82130995602455,1033.3615580102676 L259.9710738162445,1035.7657918089815 L254.9978408957879,1037.9040352678503 L249.9161853187636,1039.7700222364558 L244.74099894329316,1041.358284415585 L239.48744772072592,1042.6641673821523 L234.17092725162064,1043.6838442290468 L228.80701766873653,1044.4143267799345 L223.4114379792502,1044.8534743461476 L218.00000000000003,1045.0 L218,945.0 Z",
          "type": "path"
         },
         {
          "fillcolor": "blue",
          "opacity": 0.5,
          "path": "M 93.0,354.0 L84.46185657043716,353.6348338021207 L75.98606996833675,352.5420021355243 L67.63454160904928,350.72948630390295 L59.46826540972357,348.21052369755336 L51.54688233097047,345.0035111164267 L43.92824479960624,341.13187041233897 L36.667994193637796,336.6238774315995 L29.819154475253868,331.5124555073452 L23.431744939651367,325.8349350097728 L17.55241490791856,319.6327807103518 L12.224103031930767,312.95128895116596 L7.485723699465396,305.8392568310525 L3.3718828298213452,298.34862582458135 L-0.08737486442043974,290.5341024366395 L-2.866785303666063,282.4527586631032 L-4.946049553066672,274.16361517556334 L-6.309982072215462,265.7272102742402 L-6.948621620068792,257.2051577571655 L-6.857304005116561,248.6596969346551 L-6.0366961494838165,240.1532380754626 L-4.4927912181823615,231.74790660436858 L-2.2368648490852223,223.5050893800773 L0.7146071967096219,215.48498636710093 L4.340069362699978,207.7461709759165 L8.613043724191655,200.34516228237374 L13.502323365160208,193.3360122505745 L18.972200292468443,186.76991097386832 L24.982726222908056,180.69481281701735 L31.490004338453566,175.15508618993528 L38.446509878945164,170.19118951081592 L45.80143723080764,165.83937572519912 L53.50107097690616,162.13142753896415 L61.48917819763787,159.09442529893317 L69.70741915816215,156.75054921632488 L78.09577338238248,155.11691737748714 L86.59297800192871,154.20546072496637 L95.13697517873007,154.0228359219692 L103.66536533351201,154.57037673659465 L112.11586287013722,155.84408430089348 L120.42675106749303,157.83465631589638 L128.53733281669886,160.52755498931688 L136.3883739117558,163.9031132097581 L143.9225356561423,167.93667818199836 L151.08479362589026,172.5987914743415 L157.82283953077882,177.85540416308652 L164.0874632387235,183.668125502848 L169.83291217331276,189.99450330660648 L175.01722545969557,196.788333987783 L179.60254037844385,203.99999999999994 L93,254.0 Z",
          "type": "path"
         },
         {
          "fillcolor": "red",
          "opacity": 0.5,
          "path": "M 179.60254037844385,203.99999999999994 L181.6599306373,207.74617097591647 L183.55536888925843,211.57683221009623 L185.28539280329036,215.4849863671009 L186.84684220497604,219.46349455786918 L188.2368648490852,223.50508938007727 L189.45292162967422,227.60238819324894 L190.49279121818233,231.74790660436852 L191.35457412105526,235.93407213936004 L192.03669614948382,240.15323807546258 L192.5379112949198,244.39769740923174 L192.85730400511656,248.65969693465507 L192.9942908565361,252.9314514056626 L192.9486216200688,257.20515775716547 L192.720379718118,261.47300935864234 L192.30998207221546,265.7272102742401 L191.71817834144503,269.9599895033379 L190.9460495530667,274.1636151755633 L189.9950061278417,278.3304086743308 L188.86678530366606,282.45275866310317 L187.56344796221867,286.5231349887547 L186.08737486442044,290.53410243663944 L184.44126230158125,294.4783343122394 L182.6281171701787,298.3486258245813 L180.65125147926477,302.1379072469783 L178.51427630053465,305.83925683105247 L176.22109517210737,309.4459134504523 L173.77589696806928,312.9512889511659 L171.183148246803,316.34898018587336 L168.44758509208145,319.6327807103518 L165.57420446182823,322.79669212057183 L162.5682550603487,325.8349350097727 L159.43522775070466,328.7419595255035 L156.18084552474613,331.5124555073452 L152.81105304912163,334.1413621867956 L149.33200580636228,336.62387743159945 L145.75005885087654,338.9554665176354 L142.0717552003938,341.1318704123389 L138.30381388406175,343.1491135545289 L134.45311766902955,345.0035111164267 L130.52670048793746,346.69167573460214 L126.53173459027644,348.2105236975533 L122.47551744109049,349.55728057861404 L118.36545839095075,350.72948630390295 L114.20906514155374,351.72499964605436 L110.01393003166328,352.5420021355243 L105.78771616845057,353.1790013823246 L101.53814342956288,353.6348338021207 L97.27297436149175,353.9086667417098 L93.00000000000003,354.0 L93,254.0 Z",
          "type": "path"
         },
         {
          "fillcolor": "blue",
          "opacity": 0.5,
          "path": "M 185.0,808.5 L173.33521530969045,807.817333825112 L161.82969369828947,805.7786559625745 L150.64052377436795,802.4118011407525 L139.92047489456866,797.7627381176983 L129.81591135415923,791.8949420548272 L120.46479402796065,784.8885278700045 L111.994796745893,776.8391564026549 L104.52156312087352,767.8567283253757 L98.14712762915892,758.0638836345013 L92.95852250063322,747.5943272065598 L89.0265894396183,736.5910032823397 L86.4050124001678,725.2041438029291 L85.12958462167559,713.589217244424 L85.21771993219947,701.9048059565305 L86.66821499183327,690.3104409864429 L89.46126572229592,678.9644239498491 L93.55873769841875,668.0216656877606 L98.90468680978873,657.6315712186878 L105.42612308378577,647.935999863589 L113.03400724129094,639.0673283946712 L121.6244663787684,631.1466436524947 L131.08021217861975,624.2820893081683 L141.27214228452704,618.5673893428232 L152.0611029776878,614.0805684037787 L163.29978908755362,610.8828865087922 L174.83475519697674,609.0180026432189 L186.50851068212947,608.5113786697611 L198.16166998293926,609.3699316894204 L209.6351287457012,611.5819396000791 L220.7722361262891,615.1172011421535 L231.4209335948065,619.9274482461606 L241.43583103988584,625.947005052285 L250.68019182691262,633.0936846041396 L259.0277997075316,641.2699109738683 L266.36468209091595,650.3640514978539 L272.59066614842067,660.2519409335887 L277.62074650561647,670.7985767278961 L281.386245848167,681.8599622504638 L283.83575259541766,693.2850728264184 L284.93582283933836,704.9179177250687 L284.6714369650186,716.5996699518143 L283.0462047183287,728.1708347644828 L280.0823159208917,739.4734273066407 L275.82023750527037,750.3531296259466 L270.318161006846,760.6613976270758 L263.65120805596115,770.2574891923069 L255.91040471799846,779.0103857791862 L247.2014386850637,786.8005812590702 L237.64321628773564,793.5217135729614 L185,708.5 Z",
          "type": "path"
         },
         {
          "fillcolor": "red",
          "opacity": 0.5,
          "path": "M 237.64321628773564,793.5217135729614 L236.67790964362823,794.1118780010402 L235.70598765362007,794.6910831587057 L234.72757473451142,795.2592549012702 L233.7427961340131,795.8163204964458 L232.75177791471418,796.3622086336544 L231.75464693794393,796.896849433157 L230.75153084753234,797.4201744549981 L229.7425580534707,797.9321167077678 L228.72785771547296,798.4326106571768 L227.70755972644264,798.9215922344455 L226.68179469584442,799.3989988445059 L225.65069393298495,799.864769374014 L224.61438943020414,800.3188441991737 L223.57301384597798,800.7611651933682 L222.52670048793746,801.1916757346022 L221.47558329580315,801.6103207127487 L220.41979682423994,802.0170465366051 L219.35947622563214,802.4118011407523 L218.29475723278256,802.7945339922207 L217.2257761415376,803.165196096958 L216.15266979333916,803.5237400061014 L215.0755755577082,803.8701198220522 L213.99463131465916,804.2042912043498 L212.90997543705032,804.5262113753492 L211.8217467728705,804.8358391256961 L210.73008462746455,805.1331348196027 L209.63512874570134,805.4180603999209 L208.53701929408433,805.6905793930148 L207.43589684280886,805.9506569134289 L206.33190234776797,806.1982596683548 L205.22517713250778,806.4333559618922 L204.11586287013728,806.6559156991066 L203.00410156519186,806.8659103898818 L201.8900355354559,807.0633131525673 L200.77380739374382,807.2480987174188 L199.65556002964436,807.4202434298334 L198.53543659122943,807.5797252533777 L197.4135804667289,807.7265237726085 L196.29013526617607,807.8606201956865 L195.16524480302326,807.9819973567811 L194.03905307573257,808.0906397182691 L192.9117042493425,808.1865333727226 L191.78334263701277,808.2696660446895 L190.6541126815513,808.3400270922656 L189.5241589369233,808.3976075084556 L188.39362604974696,808.4423999223277 L187.26265874077754,808.4743985999555 L186.1314017863806,808.4935994451533 L185.00000000000003,808.5 L185,708.5 Z",
          "type": "path"
         },
         {
          "fillcolor": "blue",
          "opacity": 0.5,
          "path": "M 23.000000000000007,295.0 L10.212283831549412,294.1790013823246 L-2.3654583909507174,291.72948630390295 L-14.526700487937411,287.6916757346022 L-26.07175520039376,282.13187041233897 L-36.8110530491216,275.1413621867957 L-46.56825506034863,266.8349350097728 L-55.18314824680297,257.34898018587336 L-62.514276300534604,246.83925683105252 L-68.44126230158123,235.47833431223938 L-72.86678530366606,223.45275866310328 L-75.71817834144501,210.95998950333797 L-76.94862162006879,198.20515775716552 L-76.53791129491982,185.39769740923188 L-74.49279121818236,172.74790660436858 L-70.84684220497604,160.46349455786924 L-65.65993063730002,148.7461709759165 L-59.01722545969561,137.78833398778306 L-51.02779970753157,127.76991097386835 L-41.82283953077891,118.85540416308662 L-31.553490121054914,111.19118951081596 L-20.38837391175582,104.90311320975809 L-8.51082180236213,100.09442529893316 L3.8841371298627365,96.84408430089347 L16.592978001928714,95.20546072496637 L29.407021998071247,95.20546072496637 L42.115862870137136,96.84408430089344 L54.51082180236202,100.09442529893312 L66.38837391175579,104.90311320975808 L77.5534901210548,111.19118951081589 L87.82283953077881,118.85540416308653 L97.02779970753156,127.76991097386832 L105.01722545969557,137.788333987783 L111.6599306373,148.74617097591647 L116.84684220497603,160.46349455786918 L120.49279121818235,172.74790660436852 L122.53791129491981,185.39769740923174 L122.94862162006879,198.20515775716547 L121.71817834144503,210.95998950333782 L118.86678530366608,223.4527586631032 L114.44126230158129,235.4783343122393 L108.51427630053465,246.83925683105247 L101.18314824680299,257.34898018587336 L92.56825506034869,266.8349350097727 L82.81105304912163,275.1413621867956 L72.07175520039388,282.1318704123389 L60.52670048793746,287.69167573460214 L48.36545839095085,291.72948630390295 L35.78771616845067,294.1790013823246 L23.000000000000032,295.0 L23,195.0 Z",
          "type": "path"
         },
         {
          "fillcolor": "red",
          "opacity": 0.5,
          "path": "M 23.000000000000032,295.0 L23.000000000000032,295.0 L23.000000000000032,295.0 L23.000000000000032,295.0 L23.000000000000032,295.0 L23.000000000000032,295.0 L23.000000000000032,295.0 L23.000000000000032,295.0 L23.000000000000032,295.0 L23.000000000000032,295.0 L23.000000000000032,295.0 L23.000000000000032,295.0 L23.000000000000032,295.0 L23.000000000000032,295.0 L23.000000000000032,295.0 L23.000000000000032,295.0 L23.000000000000032,295.0 L23.000000000000032,295.0 L23.000000000000032,295.0 L23.000000000000032,295.0 L23.000000000000032,295.0 L23.000000000000032,295.0 L23.000000000000032,295.0 L23.000000000000032,295.0 L23.000000000000032,295.0 L23.000000000000032,295.0 L23.000000000000032,295.0 L23.000000000000032,295.0 L23.000000000000032,295.0 L23.000000000000032,295.0 L23.000000000000032,295.0 L23.000000000000032,295.0 L23.000000000000032,295.0 L23.000000000000032,295.0 L23.000000000000032,295.0 L23.000000000000032,295.0 L23.000000000000032,295.0 L23.000000000000032,295.0 L23.000000000000032,295.0 L23.000000000000032,295.0 L23.000000000000032,295.0 L23.000000000000032,295.0 L23.000000000000032,295.0 L23.000000000000032,295.0 L23.000000000000032,295.0 L23.000000000000032,295.0 L23.000000000000032,295.0 L23.000000000000032,295.0 L23.000000000000032,295.0 L23.000000000000032,295.0 L23,195.0 Z",
          "type": "path"
         },
         {
          "fillcolor": "blue",
          "opacity": 0.5,
          "path": "M 7.000000000000006,217.5 L-5.787716168450588,216.6790013823246 L-18.365458390950717,214.22948630390295 L-30.52670048793741,210.19167573460217 L-42.07175520039376,204.63187041233897 L-52.8110530491216,197.64136218679567 L-62.56825506034863,189.33493500977278 L-71.18314824680297,179.84898018587336 L-78.5142763005346,169.33925683105252 L-84.44126230158123,157.97833431223938 L-88.86678530366606,145.95275866310328 L-91.71817834144501,133.45998950333797 L-92.94862162006879,120.70515775716552 L-92.53791129491982,107.89769740923188 L-90.49279121818236,95.24790660436858 L-86.84684220497604,82.96349455786925 L-81.65993063730002,71.2461709759165 L-75.01722545969561,60.28833398778307 L-67.02779970753157,50.26991097386835 L-57.82283953077891,41.35540416308662 L-47.553490121054914,33.69118951081596 L-36.38837391175582,27.40311320975809 L-24.51082180236213,22.59442529893316 L-12.115862870137263,19.34408430089347 L0.5929780019287154,17.705460724966372 L13.407021998071247,17.705460724966372 L26.115862870137136,19.344084300893442 L38.51082180236202,22.594425298933118 L50.38837391175579,27.403113209758075 L61.55349012105481,33.69118951081589 L71.82283953077881,41.35540416308653 L81.02779970753156,50.26991097386832 L89.01722545969557,60.288333987783 L95.6599306373,71.24617097591647 L100.84684220497603,82.96349455786918 L104.49279121818235,95.24790660436854 L106.53791129491981,107.89769740923175 L106.94862162006879,120.70515775716548 L105.71817834144503,133.45998950333782 L102.86678530366608,145.9527586631032 L98.44126230158129,157.9783343122393 L92.51427630053465,169.33925683105247 L85.18314824680299,179.84898018587333 L76.56825506034869,189.33493500977272 L66.81105304912163,197.64136218679565 L56.07175520039387,204.63187041233888 L44.52670048793746,210.19167573460214 L32.36545839095085,214.22948630390292 L19.787716168450668,216.6790013823246 L7.00000000000003,217.5 L7,117.5 Z",
          "type": "path"
         },
         {
          "fillcolor": "red",
          "opacity": 0.5,
          "path": "M 7.00000000000003,217.5 L7.00000000000003,217.5 L7.00000000000003,217.5 L7.00000000000003,217.5 L7.00000000000003,217.5 L7.00000000000003,217.5 L7.00000000000003,217.5 L7.00000000000003,217.5 L7.00000000000003,217.5 L7.00000000000003,217.5 L7.00000000000003,217.5 L7.00000000000003,217.5 L7.00000000000003,217.5 L7.00000000000003,217.5 L7.00000000000003,217.5 L7.00000000000003,217.5 L7.00000000000003,217.5 L7.00000000000003,217.5 L7.00000000000003,217.5 L7.00000000000003,217.5 L7.00000000000003,217.5 L7.00000000000003,217.5 L7.00000000000003,217.5 L7.00000000000003,217.5 L7.00000000000003,217.5 L7.00000000000003,217.5 L7.00000000000003,217.5 L7.00000000000003,217.5 L7.00000000000003,217.5 L7.00000000000003,217.5 L7.00000000000003,217.5 L7.00000000000003,217.5 L7.00000000000003,217.5 L7.00000000000003,217.5 L7.00000000000003,217.5 L7.00000000000003,217.5 L7.00000000000003,217.5 L7.00000000000003,217.5 L7.00000000000003,217.5 L7.00000000000003,217.5 L7.00000000000003,217.5 L7.00000000000003,217.5 L7.00000000000003,217.5 L7.00000000000003,217.5 L7.00000000000003,217.5 L7.00000000000003,217.5 L7.00000000000003,217.5 L7.00000000000003,217.5 L7.00000000000003,217.5 L7.00000000000003,217.5 L7,117.5 Z",
          "type": "path"
         },
         {
          "fillcolor": "blue",
          "opacity": 0.5,
          "path": "M 924.0,8411.5 L911.2122838315494,8410.679001382325 L898.6345416090493,8408.229486303902 L886.4732995120626,8404.191675734603 L874.9282447996062,8398.631870412339 L864.1889469508784,8391.641362186796 L854.4317449396514,8383.334935009772 L845.816851753197,8373.848980185874 L838.4857236994654,8363.339256831052 L832.5587376984188,8351.97833431224 L828.1332146963339,8339.952758663103 L825.281821658555,8327.459989503337 L824.0513783799312,8314.705157757166 L824.4620887050802,8301.897697409231 L826.5072087818177,8289.247906604369 L830.153157795024,8276.96349455787 L835.3400693627,8265.246170975917 L841.9827745403044,8254.288333987783 L849.9722002924684,8244.269910973868 L859.1771604692211,8235.355404163087 L869.4465098789451,8227.691189510815 L880.6116260882442,8221.403113209759 L892.4891781976379,8216.594425298934 L904.8841371298628,8213.344084300894 L917.5929780019287,8211.705460724967 L930.4070219980713,8211.705460724967 L943.1158628701371,8213.344084300894 L955.510821802362,8216.594425298934 L967.3883739117558,8221.403113209759 L978.5534901210548,8227.691189510815 L988.8228395307788,8235.355404163087 L998.0277997075316,8244.269910973868 L1006.0172254596955,8254.288333987783 L1012.6599306373,8265.246170975917 L1017.846842204976,8276.96349455787 L1021.4927912181823,8289.247906604369 L1023.5379112949198,8301.897697409231 L1023.9486216200688,8314.705157757166 L1022.7181783414451,8327.459989503337 L1019.8667853036661,8339.952758663103 L1015.4412623015813,8351.97833431224 L1009.5142763005347,8363.339256831052 L1002.183148246803,8373.848980185874 L993.5682550603487,8383.334935009772 L983.8110530491216,8391.641362186796 L973.0717552003939,8398.631870412339 L961.5267004879374,8404.191675734603 L949.3654583909508,8408.229486303902 L936.7877161684506,8410.679001382325 L924.0,8411.5 L924,8311.5 Z",
          "type": "path"
         },
         {
          "fillcolor": "red",
          "opacity": 0.5,
          "path": "M 924.0,8411.5 L924.0,8411.5 L924.0,8411.5 L924.0,8411.5 L924.0,8411.5 L924.0,8411.5 L924.0,8411.5 L924.0,8411.5 L924.0,8411.5 L924.0,8411.5 L924.0,8411.5 L924.0,8411.5 L924.0,8411.5 L924.0,8411.5 L924.0,8411.5 L924.0,8411.5 L924.0,8411.5 L924.0,8411.5 L924.0,8411.5 L924.0,8411.5 L924.0,8411.5 L924.0,8411.5 L924.0,8411.5 L924.0,8411.5 L924.0,8411.5 L924.0,8411.5 L924.0,8411.5 L924.0,8411.5 L924.0,8411.5 L924.0,8411.5 L924.0,8411.5 L924.0,8411.5 L924.0,8411.5 L924.0,8411.5 L924.0,8411.5 L924.0,8411.5 L924.0,8411.5 L924.0,8411.5 L924.0,8411.5 L924.0,8411.5 L924.0,8411.5 L924.0,8411.5 L924.0,8411.5 L924.0,8411.5 L924.0,8411.5 L924.0,8411.5 L924.0,8411.5 L924.0,8411.5 L924.0,8411.5 L924.0,8411.5 L924,8311.5 Z",
          "type": "path"
         },
         {
          "fillcolor": "blue",
          "opacity": 0.5,
          "path": "M 471.0,446.5 L458.2122838315494,445.6790013823246 L445.6345416090493,443.22948630390295 L433.47329951206257,439.1916757346022 L421.92824479960626,433.63187041233897 L411.1889469508784,426.6413621867957 L401.43174493965137,418.3349350097728 L392.81685175319706,408.84898018587336 L385.4857236994654,398.3392568310525 L379.5587376984188,386.9783343122394 L375.13321469633394,374.9527586631033 L372.281821658555,362.45998950333797 L371.0513783799312,349.7051577571655 L371.4620887050802,336.89769740923185 L373.50720878181767,324.24790660436855 L377.15315779502396,311.96349455786924 L382.3400693627,300.24617097591647 L388.9827745403044,289.28833398778306 L396.9722002924684,279.2699109738684 L406.1771604692211,270.35540416308663 L416.4465098789451,262.69118951081595 L427.6116260882442,256.4031132097581 L439.4891781976379,251.59442529893317 L451.8841371298627,248.34408430089348 L464.5929780019287,246.70546072496637 L477.40702199807123,246.70546072496637 L490.1158628701371,248.34408430089343 L502.510821802362,251.59442529893312 L514.3883739117558,256.4031132097581 L525.5534901210548,262.6911895108159 L535.8228395307788,270.3554041630865 L545.0277997075316,279.2699109738683 L553.0172254596955,289.288333987783 L559.6599306373,300.24617097591647 L564.846842204976,311.9634945578692 L568.4927912181823,324.24790660436855 L570.5379112949198,336.89769740923174 L570.9486216200688,349.70515775716547 L569.7181783414451,362.45998950333785 L566.8667853036661,374.95275866310317 L562.4412623015813,386.97833431223927 L556.5142763005347,398.33925683105247 L549.183148246803,408.84898018587336 L540.5682550603487,418.3349350097727 L530.8110530491216,426.6413621867956 L520.0717552003939,433.6318704123389 L508.52670048793743,439.19167573460214 L496.36545839095083,443.22948630390295 L483.7877161684507,445.6790013823246 L471.00000000000006,446.5 L471,346.5 Z",
          "type": "path"
         },
         {
          "fillcolor": "red",
          "opacity": 0.5,
          "path": "M 471.00000000000006,446.5 L471.00000000000006,446.5 L471.00000000000006,446.5 L471.00000000000006,446.5 L471.00000000000006,446.5 L471.00000000000006,446.5 L471.00000000000006,446.5 L471.00000000000006,446.5 L471.00000000000006,446.5 L471.00000000000006,446.5 L471.00000000000006,446.5 L471.00000000000006,446.5 L471.00000000000006,446.5 L471.00000000000006,446.5 L471.00000000000006,446.5 L471.00000000000006,446.5 L471.00000000000006,446.5 L471.00000000000006,446.5 L471.00000000000006,446.5 L471.00000000000006,446.5 L471.00000000000006,446.5 L471.00000000000006,446.5 L471.00000000000006,446.5 L471.00000000000006,446.5 L471.00000000000006,446.5 L471.00000000000006,446.5 L471.00000000000006,446.5 L471.00000000000006,446.5 L471.00000000000006,446.5 L471.00000000000006,446.5 L471.00000000000006,446.5 L471.00000000000006,446.5 L471.00000000000006,446.5 L471.00000000000006,446.5 L471.00000000000006,446.5 L471.00000000000006,446.5 L471.00000000000006,446.5 L471.00000000000006,446.5 L471.00000000000006,446.5 L471.00000000000006,446.5 L471.00000000000006,446.5 L471.00000000000006,446.5 L471.00000000000006,446.5 L471.00000000000006,446.5 L471.00000000000006,446.5 L471.00000000000006,446.5 L471.00000000000006,446.5 L471.00000000000006,446.5 L471.00000000000006,446.5 L471.00000000000006,446.5 L471,346.5 Z",
          "type": "path"
         }
        ],
        "template": {
         "data": {
          "bar": [
           {
            "error_x": {
             "color": "#2a3f5f"
            },
            "error_y": {
             "color": "#2a3f5f"
            },
            "marker": {
             "line": {
              "color": "#E5ECF6",
              "width": 0.5
             },
             "pattern": {
              "fillmode": "overlay",
              "size": 10,
              "solidity": 0.2
             }
            },
            "type": "bar"
           }
          ],
          "barpolar": [
           {
            "marker": {
             "line": {
              "color": "#E5ECF6",
              "width": 0.5
             },
             "pattern": {
              "fillmode": "overlay",
              "size": 10,
              "solidity": 0.2
             }
            },
            "type": "barpolar"
           }
          ],
          "carpet": [
           {
            "aaxis": {
             "endlinecolor": "#2a3f5f",
             "gridcolor": "white",
             "linecolor": "white",
             "minorgridcolor": "white",
             "startlinecolor": "#2a3f5f"
            },
            "baxis": {
             "endlinecolor": "#2a3f5f",
             "gridcolor": "white",
             "linecolor": "white",
             "minorgridcolor": "white",
             "startlinecolor": "#2a3f5f"
            },
            "type": "carpet"
           }
          ],
          "choropleth": [
           {
            "colorbar": {
             "outlinewidth": 0,
             "ticks": ""
            },
            "type": "choropleth"
           }
          ],
          "contour": [
           {
            "colorbar": {
             "outlinewidth": 0,
             "ticks": ""
            },
            "colorscale": [
             [
              0,
              "#0d0887"
             ],
             [
              0.1111111111111111,
              "#46039f"
             ],
             [
              0.2222222222222222,
              "#7201a8"
             ],
             [
              0.3333333333333333,
              "#9c179e"
             ],
             [
              0.4444444444444444,
              "#bd3786"
             ],
             [
              0.5555555555555556,
              "#d8576b"
             ],
             [
              0.6666666666666666,
              "#ed7953"
             ],
             [
              0.7777777777777778,
              "#fb9f3a"
             ],
             [
              0.8888888888888888,
              "#fdca26"
             ],
             [
              1,
              "#f0f921"
             ]
            ],
            "type": "contour"
           }
          ],
          "contourcarpet": [
           {
            "colorbar": {
             "outlinewidth": 0,
             "ticks": ""
            },
            "type": "contourcarpet"
           }
          ],
          "heatmap": [
           {
            "colorbar": {
             "outlinewidth": 0,
             "ticks": ""
            },
            "colorscale": [
             [
              0,
              "#0d0887"
             ],
             [
              0.1111111111111111,
              "#46039f"
             ],
             [
              0.2222222222222222,
              "#7201a8"
             ],
             [
              0.3333333333333333,
              "#9c179e"
             ],
             [
              0.4444444444444444,
              "#bd3786"
             ],
             [
              0.5555555555555556,
              "#d8576b"
             ],
             [
              0.6666666666666666,
              "#ed7953"
             ],
             [
              0.7777777777777778,
              "#fb9f3a"
             ],
             [
              0.8888888888888888,
              "#fdca26"
             ],
             [
              1,
              "#f0f921"
             ]
            ],
            "type": "heatmap"
           }
          ],
          "heatmapgl": [
           {
            "colorbar": {
             "outlinewidth": 0,
             "ticks": ""
            },
            "colorscale": [
             [
              0,
              "#0d0887"
             ],
             [
              0.1111111111111111,
              "#46039f"
             ],
             [
              0.2222222222222222,
              "#7201a8"
             ],
             [
              0.3333333333333333,
              "#9c179e"
             ],
             [
              0.4444444444444444,
              "#bd3786"
             ],
             [
              0.5555555555555556,
              "#d8576b"
             ],
             [
              0.6666666666666666,
              "#ed7953"
             ],
             [
              0.7777777777777778,
              "#fb9f3a"
             ],
             [
              0.8888888888888888,
              "#fdca26"
             ],
             [
              1,
              "#f0f921"
             ]
            ],
            "type": "heatmapgl"
           }
          ],
          "histogram": [
           {
            "marker": {
             "pattern": {
              "fillmode": "overlay",
              "size": 10,
              "solidity": 0.2
             }
            },
            "type": "histogram"
           }
          ],
          "histogram2d": [
           {
            "colorbar": {
             "outlinewidth": 0,
             "ticks": ""
            },
            "colorscale": [
             [
              0,
              "#0d0887"
             ],
             [
              0.1111111111111111,
              "#46039f"
             ],
             [
              0.2222222222222222,
              "#7201a8"
             ],
             [
              0.3333333333333333,
              "#9c179e"
             ],
             [
              0.4444444444444444,
              "#bd3786"
             ],
             [
              0.5555555555555556,
              "#d8576b"
             ],
             [
              0.6666666666666666,
              "#ed7953"
             ],
             [
              0.7777777777777778,
              "#fb9f3a"
             ],
             [
              0.8888888888888888,
              "#fdca26"
             ],
             [
              1,
              "#f0f921"
             ]
            ],
            "type": "histogram2d"
           }
          ],
          "histogram2dcontour": [
           {
            "colorbar": {
             "outlinewidth": 0,
             "ticks": ""
            },
            "colorscale": [
             [
              0,
              "#0d0887"
             ],
             [
              0.1111111111111111,
              "#46039f"
             ],
             [
              0.2222222222222222,
              "#7201a8"
             ],
             [
              0.3333333333333333,
              "#9c179e"
             ],
             [
              0.4444444444444444,
              "#bd3786"
             ],
             [
              0.5555555555555556,
              "#d8576b"
             ],
             [
              0.6666666666666666,
              "#ed7953"
             ],
             [
              0.7777777777777778,
              "#fb9f3a"
             ],
             [
              0.8888888888888888,
              "#fdca26"
             ],
             [
              1,
              "#f0f921"
             ]
            ],
            "type": "histogram2dcontour"
           }
          ],
          "mesh3d": [
           {
            "colorbar": {
             "outlinewidth": 0,
             "ticks": ""
            },
            "type": "mesh3d"
           }
          ],
          "parcoords": [
           {
            "line": {
             "colorbar": {
              "outlinewidth": 0,
              "ticks": ""
             }
            },
            "type": "parcoords"
           }
          ],
          "pie": [
           {
            "automargin": true,
            "type": "pie"
           }
          ],
          "scatter": [
           {
            "fillpattern": {
             "fillmode": "overlay",
             "size": 10,
             "solidity": 0.2
            },
            "type": "scatter"
           }
          ],
          "scatter3d": [
           {
            "line": {
             "colorbar": {
              "outlinewidth": 0,
              "ticks": ""
             }
            },
            "marker": {
             "colorbar": {
              "outlinewidth": 0,
              "ticks": ""
             }
            },
            "type": "scatter3d"
           }
          ],
          "scattercarpet": [
           {
            "marker": {
             "colorbar": {
              "outlinewidth": 0,
              "ticks": ""
             }
            },
            "type": "scattercarpet"
           }
          ],
          "scattergeo": [
           {
            "marker": {
             "colorbar": {
              "outlinewidth": 0,
              "ticks": ""
             }
            },
            "type": "scattergeo"
           }
          ],
          "scattergl": [
           {
            "marker": {
             "colorbar": {
              "outlinewidth": 0,
              "ticks": ""
             }
            },
            "type": "scattergl"
           }
          ],
          "scattermapbox": [
           {
            "marker": {
             "colorbar": {
              "outlinewidth": 0,
              "ticks": ""
             }
            },
            "type": "scattermapbox"
           }
          ],
          "scatterpolar": [
           {
            "marker": {
             "colorbar": {
              "outlinewidth": 0,
              "ticks": ""
             }
            },
            "type": "scatterpolar"
           }
          ],
          "scatterpolargl": [
           {
            "marker": {
             "colorbar": {
              "outlinewidth": 0,
              "ticks": ""
             }
            },
            "type": "scatterpolargl"
           }
          ],
          "scatterternary": [
           {
            "marker": {
             "colorbar": {
              "outlinewidth": 0,
              "ticks": ""
             }
            },
            "type": "scatterternary"
           }
          ],
          "surface": [
           {
            "colorbar": {
             "outlinewidth": 0,
             "ticks": ""
            },
            "colorscale": [
             [
              0,
              "#0d0887"
             ],
             [
              0.1111111111111111,
              "#46039f"
             ],
             [
              0.2222222222222222,
              "#7201a8"
             ],
             [
              0.3333333333333333,
              "#9c179e"
             ],
             [
              0.4444444444444444,
              "#bd3786"
             ],
             [
              0.5555555555555556,
              "#d8576b"
             ],
             [
              0.6666666666666666,
              "#ed7953"
             ],
             [
              0.7777777777777778,
              "#fb9f3a"
             ],
             [
              0.8888888888888888,
              "#fdca26"
             ],
             [
              1,
              "#f0f921"
             ]
            ],
            "type": "surface"
           }
          ],
          "table": [
           {
            "cells": {
             "fill": {
              "color": "#EBF0F8"
             },
             "line": {
              "color": "white"
             }
            },
            "header": {
             "fill": {
              "color": "#C8D4E3"
             },
             "line": {
              "color": "white"
             }
            },
            "type": "table"
           }
          ]
         },
         "layout": {
          "annotationdefaults": {
           "arrowcolor": "#2a3f5f",
           "arrowhead": 0,
           "arrowwidth": 1
          },
          "autotypenumbers": "strict",
          "coloraxis": {
           "colorbar": {
            "outlinewidth": 0,
            "ticks": ""
           }
          },
          "colorscale": {
           "diverging": [
            [
             0,
             "#8e0152"
            ],
            [
             0.1,
             "#c51b7d"
            ],
            [
             0.2,
             "#de77ae"
            ],
            [
             0.3,
             "#f1b6da"
            ],
            [
             0.4,
             "#fde0ef"
            ],
            [
             0.5,
             "#f7f7f7"
            ],
            [
             0.6,
             "#e6f5d0"
            ],
            [
             0.7,
             "#b8e186"
            ],
            [
             0.8,
             "#7fbc41"
            ],
            [
             0.9,
             "#4d9221"
            ],
            [
             1,
             "#276419"
            ]
           ],
           "sequential": [
            [
             0,
             "#0d0887"
            ],
            [
             0.1111111111111111,
             "#46039f"
            ],
            [
             0.2222222222222222,
             "#7201a8"
            ],
            [
             0.3333333333333333,
             "#9c179e"
            ],
            [
             0.4444444444444444,
             "#bd3786"
            ],
            [
             0.5555555555555556,
             "#d8576b"
            ],
            [
             0.6666666666666666,
             "#ed7953"
            ],
            [
             0.7777777777777778,
             "#fb9f3a"
            ],
            [
             0.8888888888888888,
             "#fdca26"
            ],
            [
             1,
             "#f0f921"
            ]
           ],
           "sequentialminus": [
            [
             0,
             "#0d0887"
            ],
            [
             0.1111111111111111,
             "#46039f"
            ],
            [
             0.2222222222222222,
             "#7201a8"
            ],
            [
             0.3333333333333333,
             "#9c179e"
            ],
            [
             0.4444444444444444,
             "#bd3786"
            ],
            [
             0.5555555555555556,
             "#d8576b"
            ],
            [
             0.6666666666666666,
             "#ed7953"
            ],
            [
             0.7777777777777778,
             "#fb9f3a"
            ],
            [
             0.8888888888888888,
             "#fdca26"
            ],
            [
             1,
             "#f0f921"
            ]
           ]
          },
          "colorway": [
           "#636efa",
           "#EF553B",
           "#00cc96",
           "#ab63fa",
           "#FFA15A",
           "#19d3f3",
           "#FF6692",
           "#B6E880",
           "#FF97FF",
           "#FECB52"
          ],
          "font": {
           "color": "#2a3f5f"
          },
          "geo": {
           "bgcolor": "white",
           "lakecolor": "white",
           "landcolor": "#E5ECF6",
           "showlakes": true,
           "showland": true,
           "subunitcolor": "white"
          },
          "hoverlabel": {
           "align": "left"
          },
          "hovermode": "closest",
          "mapbox": {
           "style": "light"
          },
          "paper_bgcolor": "white",
          "plot_bgcolor": "#E5ECF6",
          "polar": {
           "angularaxis": {
            "gridcolor": "white",
            "linecolor": "white",
            "ticks": ""
           },
           "bgcolor": "#E5ECF6",
           "radialaxis": {
            "gridcolor": "white",
            "linecolor": "white",
            "ticks": ""
           }
          },
          "scene": {
           "xaxis": {
            "backgroundcolor": "#E5ECF6",
            "gridcolor": "white",
            "gridwidth": 2,
            "linecolor": "white",
            "showbackground": true,
            "ticks": "",
            "zerolinecolor": "white"
           },
           "yaxis": {
            "backgroundcolor": "#E5ECF6",
            "gridcolor": "white",
            "gridwidth": 2,
            "linecolor": "white",
            "showbackground": true,
            "ticks": "",
            "zerolinecolor": "white"
           },
           "zaxis": {
            "backgroundcolor": "#E5ECF6",
            "gridcolor": "white",
            "gridwidth": 2,
            "linecolor": "white",
            "showbackground": true,
            "ticks": "",
            "zerolinecolor": "white"
           }
          },
          "shapedefaults": {
           "line": {
            "color": "#2a3f5f"
           }
          },
          "ternary": {
           "aaxis": {
            "gridcolor": "white",
            "linecolor": "white",
            "ticks": ""
           },
           "baxis": {
            "gridcolor": "white",
            "linecolor": "white",
            "ticks": ""
           },
           "bgcolor": "#E5ECF6",
           "caxis": {
            "gridcolor": "white",
            "linecolor": "white",
            "ticks": ""
           }
          },
          "title": {
           "x": 0.05
          },
          "xaxis": {
           "automargin": true,
           "gridcolor": "white",
           "linecolor": "white",
           "ticks": "",
           "title": {
            "standoff": 15
           },
           "zerolinecolor": "white",
           "zerolinewidth": 2
          },
          "yaxis": {
           "automargin": true,
           "gridcolor": "white",
           "linecolor": "white",
           "ticks": "",
           "title": {
            "standoff": 15
           },
           "zerolinecolor": "white",
           "zerolinewidth": 2
          }
         }
        },
        "title": {
         "text": "Title"
        },
        "width": 1000,
        "xaxis": {
         "range": [
          0,
          1300
         ],
         "title": {
          "text": "Number of Evidence Items"
         }
        },
        "yaxis": {
         "range": [
          0,
          9000
         ],
         "title": {
          "text": "Impact Score"
         }
        }
       }
      }
     },
     "metadata": {},
     "output_type": "display_data"
    }
   ],
   "source": [
    "fig = go.Figure(layout=layout)\n",
    "for ix,row in merged_not_supported_impact_df.iterrows():\n",
    "    proportion1 = 360*(row['Total Number Variants']/(row['Total Number Variants']+row['Total Number Features']))\n",
    "    proportion2 = 360*(row['Total Number Features']/(row['Total Number Variants']+row['Total Number Features']))\n",
    "    pie1 = disk_part(\n",
    "        center=[row['Sum Variants'],row['Sum Impact Score']],\n",
    "        radius = 100,\n",
    "        start_angle = 90,\n",
    "        end_angle = 90 + proportion1,\n",
    "        seg=False\n",
    "    )\n",
    "    pie2 = disk_part(\n",
    "        center=[row['Sum Variants'],row['Sum Impact Score']],\n",
    "        radius = 100,\n",
    "        start_angle = 90 + proportion1,\n",
    "        end_angle = 360+90,\n",
    "        seg=False\n",
    "    )\n",
    "    \n",
    "    fig.add_shape(type='path',path=pie1, fillcolor='blue', opacity=.5)\n",
    "    fig.add_shape(type='path',path=pie2, fillcolor='red', opacity=.5)\n",
    "fig.update_layout(width=1000, height=1000, xaxis_range=[0,1300], yaxis_range=[0, 9000])\n"
   ]
  },
  {
   "cell_type": "code",
   "execution_count": 71,
   "metadata": {},
   "outputs": [
    {
     "data": {
      "application/vnd.plotly.v1+json": {
       "config": {
        "plotlyServerURL": "https://plot.ly"
       },
       "data": [],
       "layout": {
        "height": 1000,
        "shapes": [
         {
          "fillcolor": "blue",
          "opacity": 0.5,
          "path": "M 626.0,3780.0 L607.3902220080298,3778.848844383564 L589.0641890552131,3775.4129293124447 L571.3013198933461,3769.7446425075923 L554.3724466628224,3761.9304088721983 L538.5356854894596,3752.089372763051 L524.0325009636007,3740.3715813852973 L511.0840245067442,3726.955697008563 L499.8876827599179,3712.0462728864873 L490.61418740107405,3695.8706344139823 L483.40493228804485,3678.675413075514 L478.3698376130645,3660.7227860316057 L475.58567393923744,3642.2864786789655 L475.0948916725267,3623.6475911335583 L476.9049738164128,3605.0903122706413 L480.988321877834,3586.8975866702 L487.282676664012,3569.3468005342634 L495.6920675542323,3552.705552353338 L506.08827577294403,3537.227572807 L518.3127893535168,3523.148856108307 L532.1792199851361,3510.684061777787 L547.4761448929477,3500.0232417094976 L563.9703304210334,3491.3289424318814 L581.4102881679469,3484.7337267455264 L599.5301094540753,3480.3381525256505 L618.0535196563412,3478.2092395066998 L636.6980905934217,3478.37944742614 L655.1795467348499,3480.84618110778 L673.2160995768227,3485.571830030668 L690.5327440980793,3492.4843417802495 L706.8654517873822,3501.478320638322 L721.9651963111129,3512.416634561488 L735.6017504412554,3525.132506046344 L747.5671963516406,3539.432055001794 L757.6790957606408,3555.097254857076 L765.7832715848455,3571.889256833435 L771.7561586915839,3589.552031693967 L775.5066879081508,3607.8162734455245 L776.9776745620659,3626.4035054725823 L776.1466903811656,3645.0303264964377 L773.0264054595824,3663.4127316212252 L767.6643950756257,3681.2704425833285 L760.1424143070292,3698.3311811804856 L750.5751515035741,3714.334820723205 L739.1084796230105,3729.0373522109167 L725.91723209232,3742.214604760205 L711.2025371059764,3753.6656635593968 L695.1887510054057,3763.215933235633 L678.1200374967018,3770.719799926977 L660.256644863585,3776.06285147069 L626,3629.0 Z",
          "type": "path"
         },
         {
          "fillcolor": "red",
          "opacity": 0.5,
          "path": "M 660.256644863585,3776.06285147069 L659.5694069401642,3776.221244790572 L658.8814367287048,3776.376426604312 L658.1927492366913,3776.52839352675 L657.503359487255,3776.677142242856 L656.8132825188467,3776.822669507805 L656.1225333849079,3776.9649721470428 L655.4311271535431,3777.1040470563585 L654.7390789071909,3777.2398912019507 L654.0464037422945,3777.372501620496 L653.353116768973,3777.501875419211 L652.6592331106917,3777.628009775916 L651.964767903932,3777.7509019390973 L651.2697362978614,3777.870549227967 L650.5741534540025,3777.9869490325214 L649.8780345459031,3778.100098813598 L649.1813947588047,3778.2099961029303 L648.4842492893113,3778.3166385032027 L647.7866133450578,3778.420023688102 L647.0885021443786,3778.520149402368 L646.3899309159752,3778.6170134618446 L645.6909148985845,3778.7106137535234 L644.991469340646,3778.8009482355947 L644.291609499969,3778.888014937488 L643.5913506434002,3778.971811959918 L642.8907080464905,3779.052337474923 L642.189696993162,3779.1295897259083 L641.488332775374,3779.203567027682 L640.7866306927899,3779.274267766491 L640.0846060524433,3779.34169040006 L639.3822741684043,3779.405833457621 L638.6796503614449,3779.4666955399484 L637.9767499587059,3779.524275319387 L637.2735882933607,3779.5785715398833 L636.5701807042828,3779.6295830170116 L635.8665425357101,3779.677308638 L635.1626891369101,3779.721747361754 L634.4586358618459,3779.762898218881 L633.75439806884,3779.8007603117103 L633.0499911202407,3779.835332814313 L632.3454303820861,3779.866614972518 L631.6407312237686,3779.8946061039333 L630.9359090177011,3779.9193055979554 L630.2309791389794,3779.9407129157853 L629.5259569650492,3779.9588275904416 L628.8208578753691,3779.9736492267675 L628.1156972510754,3779.9851775014413 L627.4104904746473,3779.9934121629844 L626.7052529295698,3779.9983530317645 L626.0,3780.0 L626,3629.0 Z",
          "type": "path"
         },
         {
          "fillcolor": "blue",
          "opacity": 0.5,
          "path": "M 24.0,293.0 L23.040921287366206,292.9384251036743 L22.097590620678695,292.75471147279274 L21.185497463404694,292.45187568009516 L20.31961835997047,292.0348902809254 L19.51417102131588,291.5106021640097 L18.78238087047385,290.88762012573295 L18.13626388148978,290.1761735139405 L17.586429277459906,289.3879442623289 L17.14190532738141,288.53587507341797 L16.809991102225045,287.63395689973277 L16.596136624391626,286.69699921275037 L16.503853378494842,285.7403868317874 L16.53465665288101,284.7798273056924 L16.688040658636325,283.83109299532765 L16.961486834626797,282.9097620918402 L17.3505052022025,282.03096282319376 L17.84870809052283,281.20912504908375 L18.44791502193513,280.4577433230401 L19.13828703519158,279.7891553122315 L19.90848824092088,279.2143392133112 L20.745871956618313,278.74273349073184 L21.636688364822838,278.38208189742 L22.566310284739707,278.138306322567 L23.519473350144654,278.01540955437247 L24.480526649855342,278.01540955437247 L25.433689715260286,278.138306322567 L26.36331163517715,278.38208189742 L27.254128043381684,278.74273349073184 L28.09151175907911,279.2143392133112 L28.86171296480841,279.7891553122315 L29.55208497806487,280.4577433230401 L30.151291909477166,281.20912504908375 L30.6494947977975,282.03096282319376 L31.038513165373203,282.9097620918402 L31.311959341363675,283.83109299532765 L31.465343347118985,284.7798273056924 L31.496146621505158,285.7403868317874 L31.403863375608378,286.6969992127503 L31.190008897774955,287.63395689973277 L30.858094672618595,288.53587507341797 L30.4135707225401,289.3879442623289 L29.863736118510225,290.1761735139405 L29.217619129526152,290.88762012573295 L28.485828978684122,291.5106021640097 L27.68038164002954,292.0348902809254 L26.81450253659531,292.45187568009516 L25.902409379321313,292.75471147279274 L24.9590787126338,292.9384251036743 L24.000000000000004,293.0 L24,285.5 Z",
          "type": "path"
         },
         {
          "fillcolor": "red",
          "opacity": 0.5,
          "path": "M 24.000000000000004,293.0 L24.000000000000004,293.0 L24.000000000000004,293.0 L24.000000000000004,293.0 L24.000000000000004,293.0 L24.000000000000004,293.0 L24.000000000000004,293.0 L24.000000000000004,293.0 L24.000000000000004,293.0 L24.000000000000004,293.0 L24.000000000000004,293.0 L24.000000000000004,293.0 L24.000000000000004,293.0 L24.000000000000004,293.0 L24.000000000000004,293.0 L24.000000000000004,293.0 L24.000000000000004,293.0 L24.000000000000004,293.0 L24.000000000000004,293.0 L24.000000000000004,293.0 L24.000000000000004,293.0 L24.000000000000004,293.0 L24.000000000000004,293.0 L24.000000000000004,293.0 L24.000000000000004,293.0 L24.000000000000004,293.0 L24.000000000000004,293.0 L24.000000000000004,293.0 L24.000000000000004,293.0 L24.000000000000004,293.0 L24.000000000000004,293.0 L24.000000000000004,293.0 L24.000000000000004,293.0 L24.000000000000004,293.0 L24.000000000000004,293.0 L24.000000000000004,293.0 L24.000000000000004,293.0 L24.000000000000004,293.0 L24.000000000000004,293.0 L24.000000000000004,293.0 L24.000000000000004,293.0 L24.000000000000004,293.0 L24.000000000000004,293.0 L24.000000000000004,293.0 L24.000000000000004,293.0 L24.000000000000004,293.0 L24.000000000000004,293.0 L24.000000000000004,293.0 L24.000000000000004,293.0 L24.000000000000004,293.0 L24,285.5 Z",
          "type": "path"
         },
         {
          "fillcolor": "blue",
          "opacity": 0.5,
          "path": "M 1239.0,5843.25 L1219.3069171005861,5841.98566212878 L1199.9371940779358,5838.213408908011 L1181.2088812485763,5831.995180631287 L1163.4294969913935,5823.433080435002 L1146.8909783043528,5812.667697767665 L1131.864887207063,5799.87579991505 L1118.5979516999234,5785.267429486245 L1107.3080144971768,5769.0824555198205 L1098.180456055565,5751.586634840849 L1091.3651506323542,5733.067248341179 L1086.9740053541748,5713.828383835141 L1085.079122705094,5694.185942946035 L1085.7116166058236,5674.462454010217 L1088.8611015239992,5654.981776170727 L1094.4758630043368,5636.063781619118 L1102.463706818558,5618.019103302911 L1112.6934727920689,5601.144034341186 L1124.9971884504014,5585.715662899757 L1139.1728271226004,5571.987322411153 L1154.9876252135755,5560.1844318466565 L1172.181904175896,5550.500794343027 L1190.4733344243623,5543.095414960357 L1209.5615711799885,5538.089889823376 L1229.1331861229703,5535.566409516448 L1248.8668138770297,5535.566409516448 L1268.4384288200113,5538.089889823376 L1287.5266655756375,5543.095414960357 L1305.818095824104,5550.500794343027 L1323.0123747864245,5560.1844318466565 L1338.8271728773993,5571.987322411153 L1353.0028115495986,5585.715662899757 L1365.3065272079311,5601.144034341186 L1375.536293181442,5618.019103302911 L1383.524136995663,5636.063781619118 L1389.1388984760008,5654.981776170727 L1392.2883833941764,5674.462454010217 L1392.920877294906,5694.185942946035 L1391.0259946458254,5713.82838383514 L1386.6348493676458,5733.067248341179 L1379.8195439444353,5751.586634840848 L1370.6919855028234,5769.0824555198205 L1359.4020483000766,5785.2674294862445 L1346.135112792937,5799.87579991505 L1331.1090216956472,5812.667697767665 L1314.5705030086065,5823.433080435002 L1296.7911187514237,5831.995180631287 L1278.0628059220644,5838.21340890801 L1258.693082899414,5841.98566212878 L1239.0,5843.25 L1239,5689.25 Z",
          "type": "path"
         },
         {
          "fillcolor": "red",
          "opacity": 0.5,
          "path": "M 1239.0,5843.25 L1239.0,5843.25 L1239.0,5843.25 L1239.0,5843.25 L1239.0,5843.25 L1239.0,5843.25 L1239.0,5843.25 L1239.0,5843.25 L1239.0,5843.25 L1239.0,5843.25 L1239.0,5843.25 L1239.0,5843.25 L1239.0,5843.25 L1239.0,5843.25 L1239.0,5843.25 L1239.0,5843.25 L1239.0,5843.25 L1239.0,5843.25 L1239.0,5843.25 L1239.0,5843.25 L1239.0,5843.25 L1239.0,5843.25 L1239.0,5843.25 L1239.0,5843.25 L1239.0,5843.25 L1239.0,5843.25 L1239.0,5843.25 L1239.0,5843.25 L1239.0,5843.25 L1239.0,5843.25 L1239.0,5843.25 L1239.0,5843.25 L1239.0,5843.25 L1239.0,5843.25 L1239.0,5843.25 L1239.0,5843.25 L1239.0,5843.25 L1239.0,5843.25 L1239.0,5843.25 L1239.0,5843.25 L1239.0,5843.25 L1239.0,5843.25 L1239.0,5843.25 L1239.0,5843.25 L1239.0,5843.25 L1239.0,5843.25 L1239.0,5843.25 L1239.0,5843.25 L1239.0,5843.25 L1239.0,5843.25 L1239,5689.25 Z",
          "type": "path"
         },
         {
          "fillcolor": "blue",
          "opacity": 0.5,
          "path": "M 705.0,3896.25 L696.7975671992604,3896.023295289979 L688.6201785756192,3895.343873348813 L680.4928018397385,3894.2138086297555 L672.4402520028791,3892.636551516571 L664.4871156101685,3890.6169177886054 L656.6576756714337,3888.161073916952 L648.9758375188086,3885.276518236597 L641.4650558174893,3881.97205805204 L634.1482629524944,3878.2577827462833 L627.047799010083,3874.1450329753015 L620.1853435676167,3869.6463660420472 L613.581849500127,3864.775517555713 L607.2574790056974,3859.5473594933187 L601.2315420449879,3853.977854791664 L595.5224373828644,3848.0840086083035 L590.147596412147,3841.88381640034 L585.1234299309997,3835.396208979579 L580.4652780364625,3828.6409947117995 L576.1873632871141,3821.63879903662 L572.3027472778736,3814.4110014926277 L568.8232907595277,3806.979670440041 L565.7596174247504,3799.367495680226 L563.1210814711841,3791.597719177782 L560.9157390406231,3783.6940640967346 L559.1503236215013,3775.680662367499 L557.8302254897874,3767.5819810057683 L556.9594752510588,3759.422747408307 L556.5407315340076,3751.2278738537225 L556.5752728729497,3743.0223814387546 L557.0629938041241,3734.831323682305 L558.0024051877025,3726.6797100304816 L559.3906387545223,3718.592429496201 L561.2234558636653,3710.594174666513 L563.4952604441378,3702.7093663096575 L566.1991160811435,3694.9620788120606 L569.326767194775,3687.375966672921 L572.868664246463,3679.9741922808284 L576.8139928962208,3672.7793551929167 L581.1507070216579,3665.8134231324934 L585.8655654979495,3659.097664915826 L590.9441726264604,3652.6525855128684 L596.3710220885862,3646.497863440214 L602.1295442906079,3640.6522906774285 L608.2021569550042,3635.1337152902106 L614.5703188037527,3629.9589869355686 L621.2145861697118,3625.143905415402 L628.1146723632313,3620.703172435567 L635.2495096127341,3616.6503467177126 L642.5973133901433,3612.997802600952 L705,3747.75 Z",
          "type": "path"
         },
         {
          "fillcolor": "red",
          "opacity": 0.5,
          "path": "M 642.5973133901433,3612.997802600952 L652.5868117341971,3608.8071783221117 L662.85522771676,3605.355940541068 L673.3479177942539,3602.662455076114 L684.0090449448363,3600.7410553541995 L694.7818758060258,3599.6019661353666 L705.6090825822184,3599.2512491015227 L716.4330481154888,3599.690770599098 L727.1961724962393,3600.9181917072556 L737.8411795820601,3602.926980684496 L748.3114217936583,3605.706447727425 L758.5511815658767,3609.2418018567187 L768.505967849629,3613.514229627562 L778.122806086908,3618.5009952457026 L787.3505201157625,3624.17556155635 L796.1400045050802,3630.507731262083 L804.4444858699421,3637.463807618257 L812.2197717769556,3645.0067737507843 L819.4244859150114,3653.096489642035 L826.0202882799995,3661.6899057365968 L831.9720792017686,3670.7412920301877 L837.2481861275942,3680.202481422622 L841.8205321681864,3690.0231260398223 L845.6647855093152,3700.1509651608526 L848.7604888939577,3710.532103324203 L851.091168485926,3721.1112971333664 L852.6444215356562,3731.832249235478 L853.4119823816427,3742.6379079085973 L853.389766436291,3753.4707706633835 L852.5778919221175,3764.273190243528 L850.9806792426266,3774.9876813965757 L848.6066279912128,3785.5572267826324 L845.4683717204351,3795.925580393075 L841.5826107123607,3806.0375668646043 L836.970023107741,3815.8393750958426 L831.6551548669469,3825.2788446039904 L825.6662891482401,3834.30574309769 L819.0352957984832,3842.872033788983 L811.7974617572283,3850.932131021865 L803.9913032766922,3858.4431428570983 L795.6583609568888,3865.3650993223678 L786.8429786866482,3871.6611651131443 L777.5920676668858,3877.297835612357 L767.9548567718806,3882.2451151857645 L757.9826305770151,3886.476676804209 L747.7284564470688,3889.9700021433378 L737.2469021373682,3892.706501415228 L726.5937454105856,3894.671612294253 L715.8256772144615,3895.854877410733 L705.0,3896.25 L705,3747.75 Z",
          "type": "path"
         },
         {
          "fillcolor": "blue",
          "opacity": 0.5,
          "path": "M 347.0,1867.5 L341.24552772419725,1867.130550622046 L335.5855437240722,1866.0282688367563 L330.1129847804282,1864.211254080571 L324.91771015982283,1861.7093416855525 L320.0850261278953,1858.563612984058 L315.6942852228431,1854.8257207543977 L311.81758328893864,1850.557041083643 L308.5185756647594,1845.8276655739737 L305.85143196428845,1840.7152504405078 L303.8599466133503,1835.3037413983964 L302.57681974634977,1829.681995276502 L302.02312027096906,1823.9423209907245 L302.20793991728607,1818.1789638341543 L303.1282439518179,1812.4865579719658 L304.7689210077608,1806.9585725510412 L307.103031213215,1801.6857769391625 L310.092248543137,1796.7547502945024 L313.6874901316108,1792.2464599382408 L317.8297222111495,1788.234931873389 L322.4509294455253,1784.7860352798673 L327.4752317397099,1781.9564009443911 L332.820130188937,1779.79249138452 L338.39786170843826,1778.329837935402 L344.11684010086793,1777.5924573262348 L349.88315989913207,1777.5924573262348 L355.6021382915617,1778.329837935402 L361.17986981106293,1779.79249138452 L366.5247682602901,1781.9564009443911 L371.54907055447467,1784.786035279867 L376.17027778885046,1788.2349318733889 L380.3125098683892,1792.2464599382408 L383.907751456863,1796.7547502945024 L386.896968786785,1801.6857769391625 L389.2310789922392,1806.9585725510412 L390.8717560481821,1812.4865579719658 L391.79206008271393,1818.1789638341543 L391.97687972903094,1823.9423209907245 L391.4231802536503,1829.681995276502 L390.14005338664975,1835.3037413983964 L388.1485680357116,1840.7152504405076 L385.4814243352406,1845.8276655739735 L382.18241671106136,1850.557041083643 L378.30571477715694,1854.8257207543977 L373.9149738721047,1858.563612984058 L369.0822898401772,1861.7093416855525 L363.8870152195719,1864.211254080571 L358.4144562759279,1866.0282688367563 L352.7544722758028,1867.130550622046 L347.0,1867.5 L347,1822.5 Z",
          "type": "path"
         },
         {
          "fillcolor": "red",
          "opacity": 0.5,
          "path": "M 347.0,1867.5 L347.0,1867.5 L347.0,1867.5 L347.0,1867.5 L347.0,1867.5 L347.0,1867.5 L347.0,1867.5 L347.0,1867.5 L347.0,1867.5 L347.0,1867.5 L347.0,1867.5 L347.0,1867.5 L347.0,1867.5 L347.0,1867.5 L347.0,1867.5 L347.0,1867.5 L347.0,1867.5 L347.0,1867.5 L347.0,1867.5 L347.0,1867.5 L347.0,1867.5 L347.0,1867.5 L347.0,1867.5 L347.0,1867.5 L347.0,1867.5 L347.0,1867.5 L347.0,1867.5 L347.0,1867.5 L347.0,1867.5 L347.0,1867.5 L347.0,1867.5 L347.0,1867.5 L347.0,1867.5 L347.0,1867.5 L347.0,1867.5 L347.0,1867.5 L347.0,1867.5 L347.0,1867.5 L347.0,1867.5 L347.0,1867.5 L347.0,1867.5 L347.0,1867.5 L347.0,1867.5 L347.0,1867.5 L347.0,1867.5 L347.0,1867.5 L347.0,1867.5 L347.0,1867.5 L347.0,1867.5 L347.0,1867.5 L347,1822.5 Z",
          "type": "path"
         },
         {
          "fillcolor": "blue",
          "opacity": 0.5,
          "path": "M 218.0,990.0 L214.66911406903498,989.8765551141673 L211.35650284177973,989.506897729551 L208.08034075889006,988.8930559489797 L204.85860228500118,988.0383975781652 L201.7089632929172,986.9476116484417 L198.64870408600657,985.6266826906783 L195.6946145908656,984.0828579015144 L192.8629022404039,982.3246073820544 L190.16910305274658,980.3615776671709 L187.62799639381254,978.2045388003769 L185.25352389121957,975.8653252446345 L183.05871294438975,973.3567709532916 L181.05560525051217,970.6926389573748 L179.25519073850157,967.8875458555544 L177.66734727341958,964.9568816210616 L176.300786462167,961.9167251655338 L175.16300585778058,958.7837561230406 L174.26024782456304,955.5751633382827 L173.59746528972977,952.3085505610379 L173.17829456947382,949.0018398642549 L173.0050354185377,945.6731733156869 L173.07863841274838,942.3408134425366 L173.39869973374064,939.0230430352083 L173.96346338448205,935.7380648398864 L174.76983082344432,932.5039016902725 L175.81337796456327,929.3382976264007 L177.08837944971913,926.258620543038 L178.58784006056646,923.2817669017825 L180.30353309737563,920.4240690296513 L182.2260455143221,917.7012055127585 L184.34482956359153,915.1281151767034 L186.64826066495883,912.7189151256091 L189.12370118334252,910.4868232894869 L191.75756976442358,908.4440859048648 L194.53541584792256,906.601910326553 L197.44199894972218,904.9704035391715 L200.4613722778595,903.5585167057915 L203.57697022363334,902.3739960579221 L206.77169924781182,901.4233403962809 L210.02803166329912,900.7117654355173 L213.32810179972802,900.2431751885113 L216.6538040223771,900.0201405472424 L219.986892067638,900.0438851777475 L223.30907915003436,900.3142788065509 L226.60213829156174,900.8298379354021 L229.84800232289723,901.5877339803988 L233.02886300782842,902.5838087908411 L236.12726874706206,903.8125974626732 L239.12622032536507,905.2673583213483 L218,945.0 Z",
          "type": "path"
         },
         {
          "fillcolor": "red",
          "opacity": 0.5,
          "path": "M 239.12622032536507,905.2673583213483 L241.24537225485693,906.4688091446277 L243.29640331697502,907.783176126583 L245.27330293837036,909.2066074975859 L247.17027778885046,910.734931873389 L248.98176875880912,912.3636704794231 L250.7024672502699,914.0880502759043 L252.32733073380197,915.903017945289 L253.85159752571838,917.8032547010878 L255.27080074225253,919.7831918746383 L256.5807813898193,921.8370272341616 L257.7777005530004,923.9587419882786 L258.8580506445359,926.1421184241565 L259.81866568435487,928.380758128598 L260.65673057752093,930.6681007386742 L261.36978936390534,932.9974431669547 L261.9557524154099,935.3619592449925 L262.4129025596495,937.7547197275001 L262.7399001121483,940.168712598593 L262.93578680230246,942.5968636205948 L262.9999885816049,945.0320570651824 L262.93231730590185,947.4671565661212 L262.7329712867516,949.8950260324799 L262.40253471027023,952.3085505610379 L261.9419759251662,954.7006572866024 L261.35264460498206,957.0643361091327 L260.63626779285823,959.3926602369291 L259.7949448404108,961.6788064856878 L258.8311412555539,963.9160752739305 L257.74768147729674,966.0979102562164 L256.54774059868794,968.2179175365981 L255.23483506216385,970.2698844060169 L253.81281235456828,972.2477975487283 L252.28583973204172,974.1458606644022 L250.6583920078227,975.9585114542573 L248.9352384387493,977.6804379214497 L247.1214287488895,979.3065939379495 L245.22227833125868,980.832214032285 L243.24335267099096,982.2528273548193 L241.1904510356123,983.5642707796331 L239.06958948021105,984.7627011046204 L236.88698321731002,985.8446063140416 L234.64902840310455,986.8068158705327 L232.36228339344362,987.6465100064052 L230.0334495244819,988.3612279870133 L227.66935147432667,988.9488753219686 L225.27691726322928,989.4077299030711 L222.86315795093145,989.7364470509706 L220.43514709066258,989.9340634557664 L218.0,990.0 L218,945.0 Z",
          "type": "path"
         },
         {
          "fillcolor": "blue",
          "opacity": 0.5,
          "path": "M 93.0,279.5 L90.82277342546148,279.4068826195408 L88.66144784192588,279.12821054455867 L86.53180811030757,278.66601900749527 L84.4494076794795,278.0236835428761 L82.42945499439747,277.2058953346888 L80.48670242389959,276.2186269551464 L78.63533851937764,275.06908874505785 L76.88888439118973,273.765676154373 L75.2600949596111,272.31790842749206 L73.76086580151923,270.7363590811397 L72.40214627314235,269.0325786825473 L71.19385954336367,267.21901049191837 L70.14483012160444,265.30889958526825 L69.26271940957278,263.31619612134307 L68.55396974756515,261.2554534590913 L68.023757363968,259.1417218697687 L67.67595457158505,256.99043861993124 L67.51310148688246,254.8173152280772 L67.53638747869527,252.63822271833706 L67.74564248188163,250.46907570924296 L68.1393382393635,248.325716184114 L68.71459946348327,246.2237977919197 L69.46722483516095,244.17867152361075 L70.3917176874885,242.2052735988587 L71.48132614966887,240.3180163820053 L72.72809245811585,238.5306831238965 L74.12291107457946,236.85632729833642 L75.65559518684155,235.30717726833944 L77.31495110630566,233.89454697843348 L79.08886001913102,232.62875332525806 L80.96436649385595,231.51904080992577 L82.92777309911108,230.57351402243586 L84.96474044039766,229.79907845122796 L87.06039188533136,229.20139005016284 L89.19942221250753,228.78481393125924 L91.36620939049182,228.55239248486643 L93.54492867057617,228.50582316010215 L95.71966816004556,228.64544606783164 L97.87454503188499,228.97024149672782 L99.99382152221072,229.47783736055356 L102.0620198682582,230.16452652227582 L104.06403534749772,231.02529386848832 L105.98524659231629,232.05385293640958 L107.81162237460201,233.24269182595708 L109.52982408034859,234.58312806158708 L111.12730312587449,236.06537200322623 L112.59239260419476,237.67859834318466 L113.91439249222236,239.41102516688466 L115.08364779650319,241.25 L93,254.0 Z",
          "type": "path"
         },
         {
          "fillcolor": "red",
          "opacity": 0.5,
          "path": "M 115.08364779650319,241.25 L115.6082823125115,242.2052735988587 L116.0916190667609,243.18209221357455 L116.53277516483905,244.17867152361072 L116.9309447622689,245.19319111225664 L117.28540053651673,246.2237977919197 L117.59549501556693,247.26860898927848 L117.8606617606365,248.325716184114 L118.0804164008691,249.3931883955368 L118.25435751811837,250.46907570924296 L118.38216738020455,251.5514128393541 L118.46361252130473,252.63822271833703 L118.49854416841671,253.72752010844397 L118.48689851311754,254.8173152280772 L118.4286968281201,255.9056173864538 L118.32404542841495,256.99043861993124 L118.17313547706848,258.06979732335117 L117.976242636032,259.1417218697686 L117.73372656259963,260.2042542119543 L117.44603025243485,261.2554534590913 L117.11367923036576,262.29339942213244 L116.73728059042722,263.31619612134307 L116.31752188690322,264.32197524962106 L115.85516987839557,265.30889958526825 L115.35106912721253,266.27516634797945 L114.80614045663634,267.21901049191837 L114.22137926888738,268.13870792986535 L113.59785372685766,269.0325786825473 L112.93670280293476,269.8989899473977 L112.23913419848077,270.7363590811397 L111.5064221377662,271.54315649074584 L110.73990504038892,272.31790842749206 L109.94098307642969,273.05919967900337 L109.11111560881027,273.765676154373 L108.25181852752601,274.4360473576329 L107.36466148062237,275.06908874505785 L106.45126500697351,275.663643961997 L105.51329757610041,276.2186269551464 L104.55247254043574,276.73302395640485 L103.57054500560254,277.2058953346888 L102.56930862442405,277.63637731232353 L101.5505923205205,278.0236835428761 L100.51625694747807,278.3671065475466 L99.46819188969245,278.66601900749527 L98.4083116110962,278.91987490974384 L97.33855215807414,279.12821054455867 L96.2608676229549,279.2906453524928 L95.17722657453854,279.4068826195408 L94.0896084621804,279.476710019136 L93.00000000000001,279.5 L93,254.0 Z",
          "type": "path"
         },
         {
          "fillcolor": "blue",
          "opacity": 0.5,
          "path": "M 185.0,759.5 L179.05095980794215,759.151840250807 L173.18314378612763,758.1121145409129 L167.47666712492764,756.3950185817837 L162.00944219623,754.0239964400262 L156.8561147906212,751.0314204479619 L152.08704495425994,747.4581492137023 L147.76734634040542,743.352969765354 L143.9559971916455,738.7719314459416 L140.70503509087104,733.7775806535957 L138.05884647532295,728.4381068753455 L136.05356061420534,722.8264116739932 L134.7165563240856,717.0191133394939 L134.06608815705454,711.0955007946562 L134.11103716542172,705.1364510378305 L134.85078964583496,699.2233249030859 L136.27524551837092,693.436856214423 L138.36495622619356,687.8560495007579 L141.09139027299227,682.5571013215308 L144.41732277273076,677.6123599304304 L148.2973436930584,673.0893374812823 L152.6784778531719,669.0497882627723 L157.50090821109606,665.5488655471659 L162.6987925651088,662.6343685648399 L168.20116251862078,660.3460898859271 L173.93289243465236,658.715272119484 L179.81572515045815,657.7641813480416 L185.76934044788604,657.5058031215782 L191.71245169129904,657.9436651616044 L197.56391566030763,659.0717891960403 L203.24384042440744,660.8747725824983 L208.6746761333513,663.3279986055419 L213.78227383034178,666.3979725766653 L218.49689783172542,670.0427791481112 L222.7541778508411,674.2126545966728 L226.49598786636716,678.8506662639055 L229.67123973569454,683.8934898761303 L232.2365807178644,689.272274131227 L234.15698538256515,694.9135807477365 L235.406233823663,700.7403871414733 L235.96726964806257,706.673138039785 L235.83243285215949,712.6308316754253 L235.00356440634764,718.5321257298863 L233.49198111965475,724.2964479263867 L231.31832112768788,729.8450961092327 L228.5122621134915,735.1023127898086 L225.1121161085402,739.9963194880766 L221.1643064061792,744.460296747385 L216.72273372938247,748.4332964421258 L211.84804030674516,751.8610739222103 L185,708.5 Z",
          "type": "path"
         },
         {
          "fillcolor": "red",
          "opacity": 0.5,
          "path": "M 211.84804030674516,751.8610739222103 L211.3557339182504,752.1620577805305 L210.86005370334624,752.4574524109399 L210.36106311460082,752.7472199996478 L209.8588260283467,753.0313234531874 L209.35340673650424,753.3097264031637 L208.8448699383514,753.58239321091 L208.3332807322415,753.8492889720491 L207.81870460727006,754.1103795209616 L207.3012074348912,754.3656314351601 L206.78085546048575,754.6150120395672 L206.25771529488065,754.858489410698 L205.73185390582233,755.0960323807471 L205.2033386094041,755.3276105415786 L204.67223706144878,755.5531942486178 L204.1386172488481,755.7727546246471 L203.60254748085958,755.9862635635019 L203.06409638036237,756.1936937336686 L202.52333287507238,756.3950185817837 L201.98032618871912,756.5902123360326 L201.43514583218416,756.7792500094486 L200.88786159460298,756.9621074031118 L200.33854353443118,757.1387611092466 L199.78726197047618,757.3091885142184 L199.23408747289568,757.4733678014281 L198.67909085416395,757.631277954105 L198.12234316000692,757.7828987579974 L197.56391566030769,757.9282108039597 L197.003879839983,758.0671954904375 L196.4423073898325,758.1998350258488 L195.87927019736165,758.326112430861 L195.31484033757897,758.446011540565 L194.74909006377,758.5595170065443 L194.18209179824785,758.6666142988397 L193.6139181230825,758.7672897078093 L193.04464177080933,758.8615303458836 L192.47433561511863,758.949324149215 L191.903072661527,759.0306598792226 L191.33092603803175,759.1055271240303 L190.75796898574978,759.1739162998001 L190.18427484954188,759.2358186519584 L189.60991706862362,759.2912262563173 L189.03496916716466,759.3401320200885 L188.4595047448765,759.3825296827916 L187.88359746759116,759.4184138170555 L187.30732105783088,759.4477798293124 L186.73074928537096,759.4706239603871 L186.15395595779654,759.4869432859773 L185.5770149110541,759.4967357170282 L185.00000000000003,759.5 L185,708.5 Z",
          "type": "path"
         },
         {
          "fillcolor": "blue",
          "opacity": 0.5,
          "path": "M 23.0,200.5 L22.296675610735218,200.45484507602785 L21.60489978849771,200.32012174671468 L20.936031473163442,200.09804216540311 L20.30105346397834,199.79225287267863 L19.710392082298313,199.40777492027377 L19.173745971680823,198.9509214255375 L18.699926846425836,198.42919391022303 L18.296714803470596,197.85115912570788 L17.970730573413032,197.22630838717316 L17.727326808298365,196.56490172647068 L17.570500191220525,195.87779942268358 L17.502825810896216,195.1762836766441 L17.525414878779408,194.47187335750775 L17.63789648299997,193.77613486324026 L17.83842367872632,193.10049220068282 L18.1237038149485,192.45603940367542 L18.489052599716743,191.85335836932808 L18.928471016085766,191.30234510356277 L19.43474382580716,190.81204722896976 L19.99955804334198,190.39051542309488 L20.61363943485343,190.0446712265367 L21.266904800870083,189.78019339144132 L21.94862754214245,189.60142463654915 L22.647613790106078,189.51130033987315 L23.35238620989392,189.51130033987315 L24.051372457857543,189.60142463654913 L24.73309519912991,189.78019339144132 L25.386360565146568,190.0446712265367 L26.000441956658015,190.39051542309488 L26.565256174192836,190.81204722896976 L27.071528983914234,191.30234510356277 L27.510947400283257,191.85335836932808 L27.8762961850515,192.45603940367542 L28.16157632127368,193.1004922006828 L28.36210351700003,193.77613486324026 L28.47458512122059,194.47187335750775 L28.497174189103784,195.1762836766441 L28.429499808779475,195.87779942268358 L28.272673191701635,196.56490172647068 L28.02926942658697,197.22630838717316 L27.703285196529407,197.85115912570788 L27.300073153574164,198.42919391022303 L26.826254028319177,198.9509214255375 L26.28960791770169,199.40777492027377 L25.698946536021662,199.79225287267863 L25.06396852683656,200.09804216540311 L24.395100211502296,200.32012174671465 L23.703324389264786,200.45484507602785 L23.0,200.5 L23,195.0 Z",
          "type": "path"
         },
         {
          "fillcolor": "red",
          "opacity": 0.5,
          "path": "M 23.0,200.5 L23.0,200.5 L23.0,200.5 L23.0,200.5 L23.0,200.5 L23.0,200.5 L23.0,200.5 L23.0,200.5 L23.0,200.5 L23.0,200.5 L23.0,200.5 L23.0,200.5 L23.0,200.5 L23.0,200.5 L23.0,200.5 L23.0,200.5 L23.0,200.5 L23.0,200.5 L23.0,200.5 L23.0,200.5 L23.0,200.5 L23.0,200.5 L23.0,200.5 L23.0,200.5 L23.0,200.5 L23.0,200.5 L23.0,200.5 L23.0,200.5 L23.0,200.5 L23.0,200.5 L23.0,200.5 L23.0,200.5 L23.0,200.5 L23.0,200.5 L23.0,200.5 L23.0,200.5 L23.0,200.5 L23.0,200.5 L23.0,200.5 L23.0,200.5 L23.0,200.5 L23.0,200.5 L23.0,200.5 L23.0,200.5 L23.0,200.5 L23.0,200.5 L23.0,200.5 L23.0,200.5 L23.0,200.5 L23.0,200.5 L23,195.0 Z",
          "type": "path"
         },
         {
          "fillcolor": "blue",
          "opacity": 0.5,
          "path": "M 7.0,120.5 L6.616368514946482,120.47537004146974 L6.2390362482714785,120.40188458911709 L5.874198985361877,120.28075027203806 L5.527847343988187,120.11395611237018 L5.205668408526352,119.90424086560387 L4.912952348189541,119.65504805029319 L4.654505552595911,119.3704694055762 L4.4345717109839615,119.05517770493158 L4.256762130952563,118.71435002936718 L4.123996440890018,118.3535827598931 L4.03845464975665,117.97879968510014 L4.001541351397936,117.59615473271496 L4.013862661152405,117.21193092227696 L4.075216263454529,116.83243719813106 L4.184594733850719,116.46390483673608 L4.340202080880999,116.1123851292775 L4.539483236209132,115.7836500196335 L4.779166008774053,115.48309732921605 L5.055314814076633,115.2156621248926 L5.363395296368353,114.98573568532449 L5.698348782647326,114.79709339629274 L6.054675345929136,114.65283275896799 L6.426524113895882,114.55532252902681 L6.8077893400578615,114.50616382174898 L7.192210659942138,114.50616382174898 L7.573475886104114,114.5553225290268 L7.945324654070861,114.65283275896799 L8.301651217352674,114.79709339629274 L8.636604703631644,114.98573568532447 L8.944685185923364,115.21566212489259 L9.220833991225946,115.48309732921605 L9.460516763790867,115.78365001963348 L9.659797919119,116.1123851292775 L9.81540526614928,116.46390483673608 L9.924783736545471,116.83243719813106 L9.986137338847595,117.21193092227695 L9.998458648602064,117.59615473271496 L9.961545350243352,117.97879968510013 L9.876003559109982,118.3535827598931 L9.743237869047439,118.71435002936718 L9.56542828901604,119.05517770493158 L9.34549444740409,119.3704694055762 L9.087047651810462,119.65504805029317 L8.794331591473648,119.90424086560387 L8.472152656011817,120.11395611237016 L8.125801014638125,120.28075027203806 L7.760963751728525,120.40188458911709 L7.38363148505352,120.47537004146974 L7.000000000000001,120.5 L7,117.5 Z",
          "type": "path"
         },
         {
          "fillcolor": "red",
          "opacity": 0.5,
          "path": "M 7.000000000000001,120.5 L7.000000000000001,120.5 L7.000000000000001,120.5 L7.000000000000001,120.5 L7.000000000000001,120.5 L7.000000000000001,120.5 L7.000000000000001,120.5 L7.000000000000001,120.5 L7.000000000000001,120.5 L7.000000000000001,120.5 L7.000000000000001,120.5 L7.000000000000001,120.5 L7.000000000000001,120.5 L7.000000000000001,120.5 L7.000000000000001,120.5 L7.000000000000001,120.5 L7.000000000000001,120.5 L7.000000000000001,120.5 L7.000000000000001,120.5 L7.000000000000001,120.5 L7.000000000000001,120.5 L7.000000000000001,120.5 L7.000000000000001,120.5 L7.000000000000001,120.5 L7.000000000000001,120.5 L7.000000000000001,120.5 L7.000000000000001,120.5 L7.000000000000001,120.5 L7.000000000000001,120.5 L7.000000000000001,120.5 L7.000000000000001,120.5 L7.000000000000001,120.5 L7.000000000000001,120.5 L7.000000000000001,120.5 L7.000000000000001,120.5 L7.000000000000001,120.5 L7.000000000000001,120.5 L7.000000000000001,120.5 L7.000000000000001,120.5 L7.000000000000001,120.5 L7.000000000000001,120.5 L7.000000000000001,120.5 L7.000000000000001,120.5 L7.000000000000001,120.5 L7.000000000000001,120.5 L7.000000000000001,120.5 L7.000000000000001,120.5 L7.000000000000001,120.5 L7.000000000000001,120.5 L7.000000000000001,120.5 L7,117.5 Z",
          "type": "path"
         },
         {
          "fillcolor": "blue",
          "opacity": 0.5,
          "path": "M 924.0,8416.0 L910.6368366039692,8415.142056444529 L897.4930959814565,8412.582313187579 L884.7845979901055,8408.362801142659 L872.7200158155886,8402.552804580895 L861.4974495636679,8395.247723485201 L851.3011734619357,8386.567507085212 L842.2986100820909,8376.654684294237 L834.6375812659413,8365.67202338845 L828.4438808948476,8353.79985935629 L823.819209357669,8341.233132802943 L820.8395036331899,8328.178189030989 L819.5536904070282,8314.849389856237 L819.9828826968088,8301.465593792647 L822.1200331769994,8288.246562401566 L825.9300498958,8275.409351812974 L831.3503724840215,8263.164748669833 L838.2919993946181,8251.713809017234 L846.6409493056295,8241.244556967693 L856.260132690336,8231.928897350426 L866.9916028234976,8223.919793038802 L878.6591492622151,8217.348753304197 L891.0711912165316,8212.323674437384 L904.0239233007065,8208.927068094434 L917.3046620120155,8207.21470645759 L930.6953379879844,8207.21470645759 L943.9760766992933,8208.927068094434 L956.9288087834683,8212.323674437384 L969.3408507377848,8217.348753304197 L981.0083971765023,8223.919793038802 L991.7398673096639,8231.928897350426 L1001.3590506943705,8241.244556967693 L1009.7080006053818,8251.713809017234 L1016.6496275159785,8263.164748669833 L1022.0699501042,8275.409351812974 L1025.8799668230006,8288.246562401566 L1028.0171173031913,8301.465593792647 L1028.4463095929718,8314.849389856237 L1027.16049636681,8328.178189030989 L1024.180790642331,8341.233132802943 L1019.5561191051524,8353.79985935629 L1013.3624187340587,8365.67202338845 L1005.7013899179092,8376.654684294237 L996.6988265380644,8386.567507085212 L986.5025504363321,8395.247723485201 L975.2799841844115,8402.552804580893 L963.2154020098947,8408.362801142659 L950.5069040185437,8412.582313187579 L937.3631633960309,8415.142056444529 L924.0,8416.0 L924,8311.5 Z",
          "type": "path"
         },
         {
          "fillcolor": "red",
          "opacity": 0.5,
          "path": "M 924.0,8416.0 L924.0,8416.0 L924.0,8416.0 L924.0,8416.0 L924.0,8416.0 L924.0,8416.0 L924.0,8416.0 L924.0,8416.0 L924.0,8416.0 L924.0,8416.0 L924.0,8416.0 L924.0,8416.0 L924.0,8416.0 L924.0,8416.0 L924.0,8416.0 L924.0,8416.0 L924.0,8416.0 L924.0,8416.0 L924.0,8416.0 L924.0,8416.0 L924.0,8416.0 L924.0,8416.0 L924.0,8416.0 L924.0,8416.0 L924.0,8416.0 L924.0,8416.0 L924.0,8416.0 L924.0,8416.0 L924.0,8416.0 L924.0,8416.0 L924.0,8416.0 L924.0,8416.0 L924.0,8416.0 L924.0,8416.0 L924.0,8416.0 L924.0,8416.0 L924.0,8416.0 L924.0,8416.0 L924.0,8416.0 L924.0,8416.0 L924.0,8416.0 L924.0,8416.0 L924.0,8416.0 L924.0,8416.0 L924.0,8416.0 L924.0,8416.0 L924.0,8416.0 L924.0,8416.0 L924.0,8416.0 L924.0,8416.0 L924,8311.5 Z",
          "type": "path"
         },
         {
          "fillcolor": "blue",
          "opacity": 0.5,
          "path": "M 471.0,539.0 L446.3836463757326,537.4195776609749 L422.17149259741984,532.7042611350132 L398.7611015607205,524.9314757891092 L376.53687123924203,514.2288505437525 L355.86372288044095,500.77212220958165 L337.0811090088289,484.7822498938126 L320.49743962490425,466.5217868578062 L306.3850181214709,446.2905693997761 L294.9755700694561,424.42079355106085 L286.45643829044286,401.2715604264738 L280.96750669271836,377.22297979392556 L278.59890338136756,352.6699286825436 L279.38952075727934,328.0155675127714 L283.32637690499894,303.6647202134095 L290.3448287554211,280.01722702389833 L300.32963352319746,257.46137912863924 L313.11684099008596,236.3675429264824 L328.4964855630017,217.08207862469658 L346.2160339032506,199.92165301394175 L365.9845315169693,185.1680398083207 L387.47738021987004,173.06349292878434 L410.34166803045287,163.80676870044633 L434.2019639749858,157.54986227921992 L458.66648265371276,154.39551189556025 L483.3335173462872,154.39551189556025 L507.79803602501397,157.5498622792199 L531.6583319695469,163.80676870044624 L554.5226197801298,173.06349292878429 L576.0154684830305,185.1680398083206 L595.7839660967492,199.92165301394158 L613.5035144369982,217.08207862469652 L628.8831590099139,236.36754292648226 L641.6703664768024,257.4613791286392 L651.6551712445788,280.01722702389816 L658.6736230950011,303.66472021340945 L662.6104792427207,328.0155675127711 L663.4010966186324,352.66992868254357 L661.0324933072817,377.22297979392533 L655.5435617095573,401.2715604264736 L647.024429930544,424.4207935510606 L635.6149818785292,446.29056939977596 L621.5025603750958,466.5217868578062 L604.9188909911712,484.7822498938125 L586.1362771195592,500.7721222095816 L565.4631287607582,514.2288505437523 L543.2388984392796,524.9314757891092 L519.8285074025804,532.7042611350131 L495.61635362426756,537.4195776609748 L471.00000000000006,539.0 L471,346.5 Z",
          "type": "path"
         },
         {
          "fillcolor": "red",
          "opacity": 0.5,
          "path": "M 471.00000000000006,539.0 L471.00000000000006,539.0 L471.00000000000006,539.0 L471.00000000000006,539.0 L471.00000000000006,539.0 L471.00000000000006,539.0 L471.00000000000006,539.0 L471.00000000000006,539.0 L471.00000000000006,539.0 L471.00000000000006,539.0 L471.00000000000006,539.0 L471.00000000000006,539.0 L471.00000000000006,539.0 L471.00000000000006,539.0 L471.00000000000006,539.0 L471.00000000000006,539.0 L471.00000000000006,539.0 L471.00000000000006,539.0 L471.00000000000006,539.0 L471.00000000000006,539.0 L471.00000000000006,539.0 L471.00000000000006,539.0 L471.00000000000006,539.0 L471.00000000000006,539.0 L471.00000000000006,539.0 L471.00000000000006,539.0 L471.00000000000006,539.0 L471.00000000000006,539.0 L471.00000000000006,539.0 L471.00000000000006,539.0 L471.00000000000006,539.0 L471.00000000000006,539.0 L471.00000000000006,539.0 L471.00000000000006,539.0 L471.00000000000006,539.0 L471.00000000000006,539.0 L471.00000000000006,539.0 L471.00000000000006,539.0 L471.00000000000006,539.0 L471.00000000000006,539.0 L471.00000000000006,539.0 L471.00000000000006,539.0 L471.00000000000006,539.0 L471.00000000000006,539.0 L471.00000000000006,539.0 L471.00000000000006,539.0 L471.00000000000006,539.0 L471.00000000000006,539.0 L471.00000000000006,539.0 L471.00000000000006,539.0 L471,346.5 Z",
          "type": "path"
         }
        ],
        "template": {
         "data": {
          "bar": [
           {
            "error_x": {
             "color": "#2a3f5f"
            },
            "error_y": {
             "color": "#2a3f5f"
            },
            "marker": {
             "line": {
              "color": "#E5ECF6",
              "width": 0.5
             },
             "pattern": {
              "fillmode": "overlay",
              "size": 10,
              "solidity": 0.2
             }
            },
            "type": "bar"
           }
          ],
          "barpolar": [
           {
            "marker": {
             "line": {
              "color": "#E5ECF6",
              "width": 0.5
             },
             "pattern": {
              "fillmode": "overlay",
              "size": 10,
              "solidity": 0.2
             }
            },
            "type": "barpolar"
           }
          ],
          "carpet": [
           {
            "aaxis": {
             "endlinecolor": "#2a3f5f",
             "gridcolor": "white",
             "linecolor": "white",
             "minorgridcolor": "white",
             "startlinecolor": "#2a3f5f"
            },
            "baxis": {
             "endlinecolor": "#2a3f5f",
             "gridcolor": "white",
             "linecolor": "white",
             "minorgridcolor": "white",
             "startlinecolor": "#2a3f5f"
            },
            "type": "carpet"
           }
          ],
          "choropleth": [
           {
            "colorbar": {
             "outlinewidth": 0,
             "ticks": ""
            },
            "type": "choropleth"
           }
          ],
          "contour": [
           {
            "colorbar": {
             "outlinewidth": 0,
             "ticks": ""
            },
            "colorscale": [
             [
              0,
              "#0d0887"
             ],
             [
              0.1111111111111111,
              "#46039f"
             ],
             [
              0.2222222222222222,
              "#7201a8"
             ],
             [
              0.3333333333333333,
              "#9c179e"
             ],
             [
              0.4444444444444444,
              "#bd3786"
             ],
             [
              0.5555555555555556,
              "#d8576b"
             ],
             [
              0.6666666666666666,
              "#ed7953"
             ],
             [
              0.7777777777777778,
              "#fb9f3a"
             ],
             [
              0.8888888888888888,
              "#fdca26"
             ],
             [
              1,
              "#f0f921"
             ]
            ],
            "type": "contour"
           }
          ],
          "contourcarpet": [
           {
            "colorbar": {
             "outlinewidth": 0,
             "ticks": ""
            },
            "type": "contourcarpet"
           }
          ],
          "heatmap": [
           {
            "colorbar": {
             "outlinewidth": 0,
             "ticks": ""
            },
            "colorscale": [
             [
              0,
              "#0d0887"
             ],
             [
              0.1111111111111111,
              "#46039f"
             ],
             [
              0.2222222222222222,
              "#7201a8"
             ],
             [
              0.3333333333333333,
              "#9c179e"
             ],
             [
              0.4444444444444444,
              "#bd3786"
             ],
             [
              0.5555555555555556,
              "#d8576b"
             ],
             [
              0.6666666666666666,
              "#ed7953"
             ],
             [
              0.7777777777777778,
              "#fb9f3a"
             ],
             [
              0.8888888888888888,
              "#fdca26"
             ],
             [
              1,
              "#f0f921"
             ]
            ],
            "type": "heatmap"
           }
          ],
          "heatmapgl": [
           {
            "colorbar": {
             "outlinewidth": 0,
             "ticks": ""
            },
            "colorscale": [
             [
              0,
              "#0d0887"
             ],
             [
              0.1111111111111111,
              "#46039f"
             ],
             [
              0.2222222222222222,
              "#7201a8"
             ],
             [
              0.3333333333333333,
              "#9c179e"
             ],
             [
              0.4444444444444444,
              "#bd3786"
             ],
             [
              0.5555555555555556,
              "#d8576b"
             ],
             [
              0.6666666666666666,
              "#ed7953"
             ],
             [
              0.7777777777777778,
              "#fb9f3a"
             ],
             [
              0.8888888888888888,
              "#fdca26"
             ],
             [
              1,
              "#f0f921"
             ]
            ],
            "type": "heatmapgl"
           }
          ],
          "histogram": [
           {
            "marker": {
             "pattern": {
              "fillmode": "overlay",
              "size": 10,
              "solidity": 0.2
             }
            },
            "type": "histogram"
           }
          ],
          "histogram2d": [
           {
            "colorbar": {
             "outlinewidth": 0,
             "ticks": ""
            },
            "colorscale": [
             [
              0,
              "#0d0887"
             ],
             [
              0.1111111111111111,
              "#46039f"
             ],
             [
              0.2222222222222222,
              "#7201a8"
             ],
             [
              0.3333333333333333,
              "#9c179e"
             ],
             [
              0.4444444444444444,
              "#bd3786"
             ],
             [
              0.5555555555555556,
              "#d8576b"
             ],
             [
              0.6666666666666666,
              "#ed7953"
             ],
             [
              0.7777777777777778,
              "#fb9f3a"
             ],
             [
              0.8888888888888888,
              "#fdca26"
             ],
             [
              1,
              "#f0f921"
             ]
            ],
            "type": "histogram2d"
           }
          ],
          "histogram2dcontour": [
           {
            "colorbar": {
             "outlinewidth": 0,
             "ticks": ""
            },
            "colorscale": [
             [
              0,
              "#0d0887"
             ],
             [
              0.1111111111111111,
              "#46039f"
             ],
             [
              0.2222222222222222,
              "#7201a8"
             ],
             [
              0.3333333333333333,
              "#9c179e"
             ],
             [
              0.4444444444444444,
              "#bd3786"
             ],
             [
              0.5555555555555556,
              "#d8576b"
             ],
             [
              0.6666666666666666,
              "#ed7953"
             ],
             [
              0.7777777777777778,
              "#fb9f3a"
             ],
             [
              0.8888888888888888,
              "#fdca26"
             ],
             [
              1,
              "#f0f921"
             ]
            ],
            "type": "histogram2dcontour"
           }
          ],
          "mesh3d": [
           {
            "colorbar": {
             "outlinewidth": 0,
             "ticks": ""
            },
            "type": "mesh3d"
           }
          ],
          "parcoords": [
           {
            "line": {
             "colorbar": {
              "outlinewidth": 0,
              "ticks": ""
             }
            },
            "type": "parcoords"
           }
          ],
          "pie": [
           {
            "automargin": true,
            "type": "pie"
           }
          ],
          "scatter": [
           {
            "fillpattern": {
             "fillmode": "overlay",
             "size": 10,
             "solidity": 0.2
            },
            "type": "scatter"
           }
          ],
          "scatter3d": [
           {
            "line": {
             "colorbar": {
              "outlinewidth": 0,
              "ticks": ""
             }
            },
            "marker": {
             "colorbar": {
              "outlinewidth": 0,
              "ticks": ""
             }
            },
            "type": "scatter3d"
           }
          ],
          "scattercarpet": [
           {
            "marker": {
             "colorbar": {
              "outlinewidth": 0,
              "ticks": ""
             }
            },
            "type": "scattercarpet"
           }
          ],
          "scattergeo": [
           {
            "marker": {
             "colorbar": {
              "outlinewidth": 0,
              "ticks": ""
             }
            },
            "type": "scattergeo"
           }
          ],
          "scattergl": [
           {
            "marker": {
             "colorbar": {
              "outlinewidth": 0,
              "ticks": ""
             }
            },
            "type": "scattergl"
           }
          ],
          "scattermapbox": [
           {
            "marker": {
             "colorbar": {
              "outlinewidth": 0,
              "ticks": ""
             }
            },
            "type": "scattermapbox"
           }
          ],
          "scatterpolar": [
           {
            "marker": {
             "colorbar": {
              "outlinewidth": 0,
              "ticks": ""
             }
            },
            "type": "scatterpolar"
           }
          ],
          "scatterpolargl": [
           {
            "marker": {
             "colorbar": {
              "outlinewidth": 0,
              "ticks": ""
             }
            },
            "type": "scatterpolargl"
           }
          ],
          "scatterternary": [
           {
            "marker": {
             "colorbar": {
              "outlinewidth": 0,
              "ticks": ""
             }
            },
            "type": "scatterternary"
           }
          ],
          "surface": [
           {
            "colorbar": {
             "outlinewidth": 0,
             "ticks": ""
            },
            "colorscale": [
             [
              0,
              "#0d0887"
             ],
             [
              0.1111111111111111,
              "#46039f"
             ],
             [
              0.2222222222222222,
              "#7201a8"
             ],
             [
              0.3333333333333333,
              "#9c179e"
             ],
             [
              0.4444444444444444,
              "#bd3786"
             ],
             [
              0.5555555555555556,
              "#d8576b"
             ],
             [
              0.6666666666666666,
              "#ed7953"
             ],
             [
              0.7777777777777778,
              "#fb9f3a"
             ],
             [
              0.8888888888888888,
              "#fdca26"
             ],
             [
              1,
              "#f0f921"
             ]
            ],
            "type": "surface"
           }
          ],
          "table": [
           {
            "cells": {
             "fill": {
              "color": "#EBF0F8"
             },
             "line": {
              "color": "white"
             }
            },
            "header": {
             "fill": {
              "color": "#C8D4E3"
             },
             "line": {
              "color": "white"
             }
            },
            "type": "table"
           }
          ]
         },
         "layout": {
          "annotationdefaults": {
           "arrowcolor": "#2a3f5f",
           "arrowhead": 0,
           "arrowwidth": 1
          },
          "autotypenumbers": "strict",
          "coloraxis": {
           "colorbar": {
            "outlinewidth": 0,
            "ticks": ""
           }
          },
          "colorscale": {
           "diverging": [
            [
             0,
             "#8e0152"
            ],
            [
             0.1,
             "#c51b7d"
            ],
            [
             0.2,
             "#de77ae"
            ],
            [
             0.3,
             "#f1b6da"
            ],
            [
             0.4,
             "#fde0ef"
            ],
            [
             0.5,
             "#f7f7f7"
            ],
            [
             0.6,
             "#e6f5d0"
            ],
            [
             0.7,
             "#b8e186"
            ],
            [
             0.8,
             "#7fbc41"
            ],
            [
             0.9,
             "#4d9221"
            ],
            [
             1,
             "#276419"
            ]
           ],
           "sequential": [
            [
             0,
             "#0d0887"
            ],
            [
             0.1111111111111111,
             "#46039f"
            ],
            [
             0.2222222222222222,
             "#7201a8"
            ],
            [
             0.3333333333333333,
             "#9c179e"
            ],
            [
             0.4444444444444444,
             "#bd3786"
            ],
            [
             0.5555555555555556,
             "#d8576b"
            ],
            [
             0.6666666666666666,
             "#ed7953"
            ],
            [
             0.7777777777777778,
             "#fb9f3a"
            ],
            [
             0.8888888888888888,
             "#fdca26"
            ],
            [
             1,
             "#f0f921"
            ]
           ],
           "sequentialminus": [
            [
             0,
             "#0d0887"
            ],
            [
             0.1111111111111111,
             "#46039f"
            ],
            [
             0.2222222222222222,
             "#7201a8"
            ],
            [
             0.3333333333333333,
             "#9c179e"
            ],
            [
             0.4444444444444444,
             "#bd3786"
            ],
            [
             0.5555555555555556,
             "#d8576b"
            ],
            [
             0.6666666666666666,
             "#ed7953"
            ],
            [
             0.7777777777777778,
             "#fb9f3a"
            ],
            [
             0.8888888888888888,
             "#fdca26"
            ],
            [
             1,
             "#f0f921"
            ]
           ]
          },
          "colorway": [
           "#636efa",
           "#EF553B",
           "#00cc96",
           "#ab63fa",
           "#FFA15A",
           "#19d3f3",
           "#FF6692",
           "#B6E880",
           "#FF97FF",
           "#FECB52"
          ],
          "font": {
           "color": "#2a3f5f"
          },
          "geo": {
           "bgcolor": "white",
           "lakecolor": "white",
           "landcolor": "#E5ECF6",
           "showlakes": true,
           "showland": true,
           "subunitcolor": "white"
          },
          "hoverlabel": {
           "align": "left"
          },
          "hovermode": "closest",
          "mapbox": {
           "style": "light"
          },
          "paper_bgcolor": "white",
          "plot_bgcolor": "#E5ECF6",
          "polar": {
           "angularaxis": {
            "gridcolor": "white",
            "linecolor": "white",
            "ticks": ""
           },
           "bgcolor": "#E5ECF6",
           "radialaxis": {
            "gridcolor": "white",
            "linecolor": "white",
            "ticks": ""
           }
          },
          "scene": {
           "xaxis": {
            "backgroundcolor": "#E5ECF6",
            "gridcolor": "white",
            "gridwidth": 2,
            "linecolor": "white",
            "showbackground": true,
            "ticks": "",
            "zerolinecolor": "white"
           },
           "yaxis": {
            "backgroundcolor": "#E5ECF6",
            "gridcolor": "white",
            "gridwidth": 2,
            "linecolor": "white",
            "showbackground": true,
            "ticks": "",
            "zerolinecolor": "white"
           },
           "zaxis": {
            "backgroundcolor": "#E5ECF6",
            "gridcolor": "white",
            "gridwidth": 2,
            "linecolor": "white",
            "showbackground": true,
            "ticks": "",
            "zerolinecolor": "white"
           }
          },
          "shapedefaults": {
           "line": {
            "color": "#2a3f5f"
           }
          },
          "ternary": {
           "aaxis": {
            "gridcolor": "white",
            "linecolor": "white",
            "ticks": ""
           },
           "baxis": {
            "gridcolor": "white",
            "linecolor": "white",
            "ticks": ""
           },
           "bgcolor": "#E5ECF6",
           "caxis": {
            "gridcolor": "white",
            "linecolor": "white",
            "ticks": ""
           }
          },
          "title": {
           "x": 0.05
          },
          "xaxis": {
           "automargin": true,
           "gridcolor": "white",
           "linecolor": "white",
           "ticks": "",
           "title": {
            "standoff": 15
           },
           "zerolinecolor": "white",
           "zerolinewidth": 2
          },
          "yaxis": {
           "automargin": true,
           "gridcolor": "white",
           "linecolor": "white",
           "ticks": "",
           "title": {
            "standoff": 15
           },
           "zerolinecolor": "white",
           "zerolinewidth": 2
          }
         }
        },
        "title": {
         "text": "Title"
        },
        "width": 1000,
        "xaxis": {
         "range": [
          0,
          3
         ],
         "title": {
          "text": "Number of Evidence Items"
         }
        },
        "yaxis": {
         "range": [
          0,
          9000
         ],
         "scaleanchor": "x",
         "scaleratio": 1,
         "title": {
          "text": "Impact Score"
         }
        }
       }
      }
     },
     "metadata": {},
     "output_type": "display_data"
    }
   ],
   "source": [
    "fig = go.Figure(layout=layout)\n",
    "for ix,row in merged_not_supported_impact_df.iterrows():\n",
    "    proportion1 = 360*(row['Total Number Variants']/(row['Total Number Variants']+row['Total Number Features']))\n",
    "    proportion2 = 360*(row['Total Number Features']/(row['Total Number Variants']+row['Total Number Features']))\n",
    "    pie1 = disk_part(\n",
    "        center=[row['Sum Variants'],row['Sum Impact Score']],\n",
    "        radius = (row['Total Number Variants']+row['Total Number Features'])/2,\n",
    "        start_angle = 90,\n",
    "        end_angle = 90 + proportion1,\n",
    "        seg=False\n",
    "    )\n",
    "    pie2 = disk_part(\n",
    "        center=[row['Sum Variants'],row['Sum Impact Score']],\n",
    "        radius = (row['Total Number Variants']+row['Total Number Features'])/2,\n",
    "        start_angle = 90 + proportion1,\n",
    "        end_angle = 360+90,\n",
    "        seg=False\n",
    "    )\n",
    "    \n",
    "    fig.add_shape(type='path',path=pie1, fillcolor='blue', opacity=.5)\n",
    "    fig.add_shape(type='path',path=pie2, fillcolor='red', opacity=.5)\n",
    "\n",
    "    \n",
    "# fig.add_annotation(hovertext= ['Category'])#, 'Total Number Assertions', 'CIVIC Total Sum Impact Score','MOA Total Sum Impact Score', 'Total Number Variants', 'Total Number Features'])\n",
    "\n",
    "# fig.add_annotation(hovertext= ['Total Number Evidence Items', 'Total Number Assertions', 'CIVIC Total Sum Impact Score','MOA Total Sum Impact Score', 'Total Number Variants', 'Total Number Features'])\n",
    "fig.update_yaxes(scaleanchor = \"x\", #IMPORTANT These yaxis settings ensure that the circle is non-deformed\n",
    "                 scaleratio = 1)\n",
    "fig.update_layout(width=1000, height=1000, xaxis_range=[0,3], yaxis_range=[0, 9000])\n"
   ]
  },
  {
   "cell_type": "code",
   "execution_count": 72,
   "metadata": {},
   "outputs": [],
   "source": [
    "fig.write_html(\"merged_not_supported_impact_df_scatterpieplot.html\")"
   ]
  },
  {
   "cell_type": "code",
   "execution_count": 74,
   "metadata": {},
   "outputs": [
    {
     "data": {
      "text/html": [
       "<div>\n",
       "<style scoped>\n",
       "    .dataframe tbody tr th:only-of-type {\n",
       "        vertical-align: middle;\n",
       "    }\n",
       "\n",
       "    .dataframe tbody tr th {\n",
       "        vertical-align: top;\n",
       "    }\n",
       "\n",
       "    .dataframe thead th {\n",
       "        text-align: right;\n",
       "    }\n",
       "</style>\n",
       "<table border=\"1\" class=\"dataframe\">\n",
       "  <thead>\n",
       "    <tr style=\"text-align: right;\">\n",
       "      <th></th>\n",
       "      <th>Category</th>\n",
       "      <th>MOA Total Sum Impact Score</th>\n",
       "      <th>Total Number Assertions</th>\n",
       "      <th>Total Number Features</th>\n",
       "      <th>CIVIC Total Sum Impact Score</th>\n",
       "      <th>Average Impact Score per Variant</th>\n",
       "      <th>Average Impact Score per Evidence Item</th>\n",
       "      <th>Total Number Evidence Items</th>\n",
       "      <th>% Accepted Evidence Items</th>\n",
       "      <th>Total Number Variants</th>\n",
       "      <th>Sum Variants</th>\n",
       "      <th>Sum Impact Score</th>\n",
       "      <th>Ratio of MOA Features to MOA+CIVIC per Category</th>\n",
       "    </tr>\n",
       "  </thead>\n",
       "  <tbody>\n",
       "    <tr>\n",
       "      <th>0</th>\n",
       "      <td>Expression</td>\n",
       "      <td>11</td>\n",
       "      <td>12</td>\n",
       "      <td>11</td>\n",
       "      <td>3618.00</td>\n",
       "      <td>9.397403</td>\n",
       "      <td>7.681529</td>\n",
       "      <td>614</td>\n",
       "      <td>55.70%</td>\n",
       "      <td>291</td>\n",
       "      <td>626</td>\n",
       "      <td>3629.00</td>\n",
       "      <td>0.036424</td>\n",
       "    </tr>\n",
       "    <tr>\n",
       "      <th>1</th>\n",
       "      <td>Epigenetic Modification</td>\n",
       "      <td>0</td>\n",
       "      <td>0</td>\n",
       "      <td>0</td>\n",
       "      <td>285.50</td>\n",
       "      <td>0.741558</td>\n",
       "      <td>0.606157</td>\n",
       "      <td>24</td>\n",
       "      <td>91.67%</td>\n",
       "      <td>15</td>\n",
       "      <td>24</td>\n",
       "      <td>285.50</td>\n",
       "      <td>0.000000</td>\n",
       "    </tr>\n",
       "    <tr>\n",
       "      <th>2</th>\n",
       "      <td>Fusion</td>\n",
       "      <td>0</td>\n",
       "      <td>0</td>\n",
       "      <td>0</td>\n",
       "      <td>5689.25</td>\n",
       "      <td>14.777273</td>\n",
       "      <td>12.079087</td>\n",
       "      <td>1239</td>\n",
       "      <td>58.43%</td>\n",
       "      <td>308</td>\n",
       "      <td>1239</td>\n",
       "      <td>5689.25</td>\n",
       "      <td>0.000000</td>\n",
       "    </tr>\n",
       "    <tr>\n",
       "      <th>3</th>\n",
       "      <td>Protein Consequence</td>\n",
       "      <td>1064</td>\n",
       "      <td>404</td>\n",
       "      <td>169</td>\n",
       "      <td>2683.75</td>\n",
       "      <td>6.970779</td>\n",
       "      <td>5.697983</td>\n",
       "      <td>301</td>\n",
       "      <td>63.46%</td>\n",
       "      <td>128</td>\n",
       "      <td>705</td>\n",
       "      <td>3747.75</td>\n",
       "      <td>0.569024</td>\n",
       "    </tr>\n",
       "    <tr>\n",
       "      <th>4</th>\n",
       "      <td>Gene Function</td>\n",
       "      <td>0</td>\n",
       "      <td>0</td>\n",
       "      <td>0</td>\n",
       "      <td>1822.50</td>\n",
       "      <td>4.733766</td>\n",
       "      <td>3.869427</td>\n",
       "      <td>347</td>\n",
       "      <td>44.38%</td>\n",
       "      <td>90</td>\n",
       "      <td>347</td>\n",
       "      <td>1822.50</td>\n",
       "      <td>0.000000</td>\n",
       "    </tr>\n",
       "  </tbody>\n",
       "</table>\n",
       "</div>"
      ],
      "text/plain": [
       "                  Category  MOA Total Sum Impact Score  \\\n",
       "0               Expression                          11   \n",
       "1  Epigenetic Modification                           0   \n",
       "2                   Fusion                           0   \n",
       "3      Protein Consequence                        1064   \n",
       "4            Gene Function                           0   \n",
       "\n",
       "   Total Number Assertions  Total Number Features  \\\n",
       "0                       12                     11   \n",
       "1                        0                      0   \n",
       "2                        0                      0   \n",
       "3                      404                    169   \n",
       "4                        0                      0   \n",
       "\n",
       "   CIVIC Total Sum Impact Score  Average Impact Score per Variant  \\\n",
       "0                       3618.00                          9.397403   \n",
       "1                        285.50                          0.741558   \n",
       "2                       5689.25                         14.777273   \n",
       "3                       2683.75                          6.970779   \n",
       "4                       1822.50                          4.733766   \n",
       "\n",
       "   Average Impact Score per Evidence Item  Total Number Evidence Items  \\\n",
       "0                                7.681529                          614   \n",
       "1                                0.606157                           24   \n",
       "2                               12.079087                         1239   \n",
       "3                                5.697983                          301   \n",
       "4                                3.869427                          347   \n",
       "\n",
       "  % Accepted Evidence Items  Total Number Variants  Sum Variants  \\\n",
       "0                    55.70%                    291           626   \n",
       "1                    91.67%                     15            24   \n",
       "2                    58.43%                    308          1239   \n",
       "3                    63.46%                    128           705   \n",
       "4                    44.38%                     90           347   \n",
       "\n",
       "   Sum Impact Score  Ratio of MOA Features to MOA+CIVIC per Category  \n",
       "0           3629.00                                         0.036424  \n",
       "1            285.50                                         0.000000  \n",
       "2           5689.25                                         0.000000  \n",
       "3           3747.75                                         0.569024  \n",
       "4           1822.50                                         0.000000  "
      ]
     },
     "execution_count": 74,
     "metadata": {},
     "output_type": "execute_result"
    }
   ],
   "source": [
    "merged_not_supported_impact_df.head()"
   ]
  },
  {
   "cell_type": "code",
   "execution_count": 95,
   "metadata": {},
   "outputs": [
    {
     "data": {
      "text/plain": [
       "array([0.03642384, 0.        , 0.        , 0.56902357, 0.        ,\n",
       "       0.42222222, 0.33333333, 0.08823529, 0.        , 0.        ,\n",
       "       0.        , 0.        ])"
      ]
     },
     "execution_count": 95,
     "metadata": {},
     "output_type": "execute_result"
    }
   ],
   "source": [
    "ratio_list = merged_not_supported_impact_df[\"Ratio of MOA Features to MOA+CIVIC per Category\"].to_numpy()\n",
    "ratio_list"
   ]
  },
  {
   "cell_type": "code",
   "execution_count": 96,
   "metadata": {},
   "outputs": [
    {
     "data": {
      "text/plain": [
       "array([ 626,   24, 1239,  705,  347,  218,   93,  185,   23,    7,  924,\n",
       "        471])"
      ]
     },
     "execution_count": 96,
     "metadata": {},
     "output_type": "execute_result"
    }
   ],
   "source": [
    "moa_civic_variant_sum_list = merged_not_supported_impact_df[\"Sum Variants\"].to_numpy()\n",
    "moa_civic_variant_sum_list"
   ]
  },
  {
   "cell_type": "code",
   "execution_count": 151,
   "metadata": {},
   "outputs": [
    {
     "data": {
      "image/png": "[encoded data removed]",
      "text/plain": [
       "<Figure size 640x480 with 1 Axes>"
      ]
     },
     "metadata": {},
     "output_type": "display_data"
    }
   ],
   "source": [
    "import numpy as np\n",
    "import matplotlib.pyplot as plt\n",
    "\n",
    "radi = np.array([.2, .6])\n",
    "\n",
    "# define some sizes of the scatter marker\n",
    "sizes = np.array([60])\n",
    "\n",
    "# calculate the points of the first pie marker\n",
    "#\n",
    "# these are just the origin (0,0) +\n",
    "# some points on a circle cos,sin\n",
    "\n",
    "xys = []\n",
    "ss = []\n",
    "colors = ['blue', 'green', 'red']\n",
    "for i in range(len(radi) + 1):\n",
    "    \n",
    "    if i == 0:\n",
    "        r1 = radi[i]\n",
    "        x = [0] + np.cos(np.linspace(0, 2 * np.pi * r1, 10)).tolist()\n",
    "        y = [0] + np.sin(np.linspace(0, 2 * np.pi * r1, 10)).tolist()\n",
    "    elif i == len(radi) - 1:\n",
    "        # last\n",
    "        r1 = radi[i]\n",
    "        x = [0] + np.cos(np.linspace(2 * np.pi * r1, 2 * np.pi, 10)).tolist()\n",
    "        y = [0] + np.sin(np.linspace(2 * np.pi * r1, 2 * np.pi, 10)).tolist()\n",
    "    else:\n",
    "        # middle\n",
    "        r1 = radi[i - 2]\n",
    "        r2 = radi[i - 1]\n",
    "        x = [0] + np.cos(np.linspace(2 * np.pi * r1, 2 * np.pi * r2, 10)).tolist()\n",
    "        y = [0] + np.sin(np.linspace(2 * np.pi * r1, 2 * np.pi * r2, 10)).tolist()\n",
    "\n",
    "    xy = np.column_stack([x, y])\n",
    "    xys.append(xy)\n",
    "    ss.append(np.abs(xy).max())\n",
    "\n",
    "fig, ax = plt.subplots()\n",
    "\n",
    "for i in range(len(xys)):\n",
    "    xy1 = xys[i]\n",
    "    s1 = ss[i]\n",
    "    color = colors[i]\n",
    "    ax.scatter(range(len(xys)), range(len(xys)), marker=xy1,\n",
    "            s=s1 ** 2 * sizes, facecolor=color)\n",
    "    \n",
    "plt.show()"
   ]
  },
  {
   "cell_type": "code",
   "execution_count": null,
   "metadata": {},
   "outputs": [],
   "source": [
    "import numpy as np\n",
    "import matplotlib.pyplot as plt\n",
    "\n",
    "radi = ratio_list\n",
    "\n",
    "# define some sizes of the scatter marker\n",
    "sizes = moa_civic_variant_sum_list\n",
    "\n",
    "# calculate the points of the first pie marker\n",
    "#\n",
    "# these are just the origin (0,0) +\n",
    "# some points on a circle cos,sin\n",
    "\n",
    "xys = []\n",
    "ss = []\n",
    "colors = ['blue', 'green', 'red', ]\n",
    "for i in range(len(radi) + 1):\n",
    "    \n",
    "    if i == 0:\n",
    "        r1 = radi[i]\n",
    "        x = [0] + np.cos(np.linspace(0, 2 * np.pi * r1, 10)).tolist()\n",
    "        y = [0] + np.sin(np.linspace(0, 2 * np.pi * r1, 10)).tolist()\n",
    "    elif i == len(radi) - 1:\n",
    "        # last\n",
    "        r1 = radi[i]\n",
    "        x = [0] + np.cos(np.linspace(2 * np.pi * r1, 2 * np.pi, 10)).tolist()\n",
    "        y = [0] + np.sin(np.linspace(2 * np.pi * r1, 2 * np.pi, 10)).tolist()\n",
    "    else:\n",
    "        # middle\n",
    "        r1 = radi[i - 2]\n",
    "        r2 = radi[i - 1]\n",
    "        x = [0] + np.cos(np.linspace(2 * np.pi * r1, 2 * np.pi * r2, 10)).tolist()\n",
    "        y = [0] + np.sin(np.linspace(2 * np.pi * r1, 2 * np.pi * r2, 10)).tolist()\n",
    "\n",
    "    xy = np.column_stack([x, y])\n",
    "    xys.append(xy)\n",
    "    ss.append(np.abs(xy).max())\n",
    "\n",
    "fig, ax = plt.subplots()\n",
    "for i in range(len(xys)):\n",
    "    xy1 = xys[i]\n",
    "    s1 = ss[i]\n",
    "    color = colors[i]\n",
    "    ax.scatter(range(1), range(3), marker=xy1,\n",
    "            s=s1 ** 2 * sizes, facecolor=color)\n",
    "\n",
    "plt.show()"
   ]
  },
  {
   "cell_type": "code",
   "execution_count": 148,
   "metadata": {},
   "outputs": [
    {
     "data": {
      "image/png": "[encoded data removed]",
      "text/plain": [
       "<Figure size 640x480 with 1 Axes>"
      ]
     },
     "metadata": {},
     "output_type": "display_data"
    }
   ],
   "source": [
    "import numpy as np\n",
    "import matplotlib.pyplot as plt\n",
    "\n",
    "# first define the ratios\n",
    "r1 = 0.2       # 20%\n",
    "r2 = r1 + 0.4  # 40%\n",
    "\n",
    "# define some sizes of the scatter marker\n",
    "sizes = np.array([60, 80, 120])\n",
    "\n",
    "# calculate the points of the first pie marker\n",
    "#\n",
    "# these are just the origin (0,0) +\n",
    "# some points on a circle cos,sin\n",
    "x = [0] + np.cos(np.linspace(0, 2 * np.pi * r1, 10)).tolist()\n",
    "y = [0] + np.sin(np.linspace(0, 2 * np.pi * r1, 10)).tolist()\n",
    "xy1 = np.column_stack([x, y])\n",
    "s1 = np.abs(xy1).max()\n",
    "\n",
    "x = [0] + np.cos(np.linspace(2 * np.pi * r1, 2 * np.pi * r2, 10)).tolist()\n",
    "y = [0] + np.sin(np.linspace(2 * np.pi * r1, 2 * np.pi * r2, 10)).tolist()\n",
    "xy2 = np.column_stack([x, y])\n",
    "s2 = np.abs(xy2).max()\n",
    "\n",
    "x = [0] + np.cos(np.linspace(2 * np.pi * r2, 2 * np.pi, 10)).tolist()\n",
    "y = [0] + np.sin(np.linspace(2 * np.pi * r2, 2 * np.pi, 10)).tolist()\n",
    "xy3 = np.column_stack([x, y])\n",
    "s3 = np.abs(xy3).max()\n",
    "\n",
    "fig, ax = plt.subplots()\n",
    "ax.pie([s1, s3, s3])\n",
    "# ax.scatter(range(3), range(3), marker=xy1,\n",
    "#            s=s1 ** 2 * sizes, facecolor='blue')\n",
    "# ax.scatter(range(3), range(3), marker=xy2,\n",
    "#            s=s2 ** 2 * sizes, facecolor='green')\n",
    "# ax.scatter(range(3), range(3), marker=xy3,\n",
    "#            s=s3 ** 2 * sizes, facecolor='red')\n",
    "\n",
    "plt.show()"
   ]
  },
  {
   "cell_type": "code",
   "execution_count": null,
   "metadata": {},
   "outputs": [],
   "source": []
  }
 ],
 "metadata": {
  "kernelspec": {
   "display_name": "Python 3.10.9 ('.venv': venv)",
   "language": "python",
   "name": "python3"
  },
  "language_info": {
   "codemirror_mode": {
    "name": "ipython",
    "version": 3
   },
   "file_extension": ".py",
   "mimetype": "text/x-python",
   "name": "python",
   "nbconvert_exporter": "python",
   "pygments_lexer": "ipython3",
   "version": "3.10.9"
  },
  "orig_nbformat": 4,
  "vscode": {
   "interpreter": {
    "hash": "60bedfc6dd95a1d756c285a8080496495ec396023cb257f004626f94ae504b38"
   }
  }
 },
 "nbformat": 4,
 "nbformat_minor": 2
}
