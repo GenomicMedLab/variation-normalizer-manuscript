{
 "cells": [
  {
   "cell_type": "markdown",
   "metadata": {},
   "source": [
    "# <a id='toc1_'></a>[Molecular Oncology Almanac Assertion Analysis](#toc0_)"
   ]
  },
  {
   "attachments": {},
   "cell_type": "markdown",
   "metadata": {},
   "source": [
    "The moa_assertion_analysis notebook contains an analysis on the assertions in MOA. \n",
    "\n",
    "MOA evidence items are referred to as assertions and MOA variants are referred to as features in this analysis. \n",
    "\n",
    "The moa_features_analysis notebook is a prerequisite to this notebook as it will update the cache"
   ]
  },
  {
   "cell_type": "markdown",
   "metadata": {},
   "source": [
    "**Table of contents**<a id='toc0_'></a>    \n",
    "- [Molecular Oncology Almanac Assertion Analysis](#toc1_)    \n",
    "  - [Initialize](#toc1_1_)    \n",
    "    - [Import necessary libraries](#toc1_1_1_)    \n",
    "    - [Create output directory](#toc1_1_2_)    \n",
    "  - [Create analysis functions / global variables](#toc1_2_)    \n",
    "  - [All Features (Variants) Analysis](#toc1_3_)    \n",
    "    - [Creating a table with feature (variant) and assertion (evidence) information](#toc1_3_1_)    \n",
    "    - [Converting feature (variant) types to normalized categories](#toc1_3_2_)    \n",
    "    - [Adding a numerical impact score based on the predictive implication](#toc1_3_3_)    \n",
    "    - [Impact Score Analysis](#toc1_3_4_)    \n",
    "    - [Features (Variants) Analysis](#toc1_3_5_)    \n",
    "    - [Assertions (Evidence Items) Analysis](#toc1_3_6_)    \n",
    "    - [Summaries for all Features (Variants) and Assertions (Evidence Items)](#toc1_3_7_)    \n",
    "  - [Create functions / global variables used in analysis](#toc1_4_)    \n",
    "  - [Normalized Analysis](#toc1_5_)    \n",
    "  - [Not Supported Analysis](#toc1_6_)    \n",
    "    - [Feature (Variant) Analysis](#toc1_6_1_)    \n",
    "    - [Not Supported Feature (Variant) Analysis by Subcategory](#toc1_6_2_)    \n",
    "    - [Not Support Feature (Variant) Assertion (Evidence) Analysis by Subcategory](#toc1_6_3_)    \n",
    "    - [Impact Score Analysis by Subcategory](#toc1_6_4_)    \n",
    "- [MOA Summary](#toc2_)    \n",
    "  - [Feature (Variant) Analysis](#toc2_1_)    \n",
    "    - [Building Summary Tables 1 - 3](#toc2_1_1_)    \n",
    "    - [Summary Table 1](#toc2_1_2_)    \n",
    "    - [Summary Table 2](#toc2_1_3_)    \n",
    "    - [Summary Table 3](#toc2_1_4_)    \n",
    "  - [Evidence Analysis](#toc2_2_)    \n",
    "    - [Building Summary Table 4](#toc2_2_1_)    \n",
    "    - [Summary Table 4](#toc2_2_2_)    \n",
    "    - [Building Sumary Tables 5 & 6](#toc2_2_3_)    \n",
    "    - [Summary Table 5](#toc2_2_4_)    \n",
    "    - [Summary Table 6](#toc2_2_5_)    \n",
    "  - [Impact](#toc2_3_)    \n",
    "\n",
    "<!-- vscode-jupyter-toc-config\n",
    "\tnumbering=false\n",
    "\tanchor=true\n",
    "\tflat=false\n",
    "\tminLevel=1\n",
    "\tmaxLevel=6\n",
    "\t/vscode-jupyter-toc-config -->\n",
    "<!-- THIS CELL WILL BE REPLACED ON TOC UPDATE. DO NOT WRITE YOUR TEXT IN THIS CELL -->"
   ]
  },
  {
   "cell_type": "markdown",
   "metadata": {},
   "source": [
    "## <a id='toc1_1_'></a>[Initialize](#toc0_)"
   ]
  },
  {
   "cell_type": "markdown",
   "metadata": {},
   "source": [
    "### <a id='toc1_1_1_'></a>[Import necessary libraries](#toc0_)"
   ]
  },
  {
   "cell_type": "code",
   "execution_count": 1,
   "metadata": {},
   "outputs": [],
   "source": [
    "import os\n",
    "import sys\n",
    "import csv\n",
    "import json\n",
    "from enum import Enum\n",
    "from pathlib import Path\n",
    "from typing import Dict\n",
    "\n",
    "import pandas as pd\n",
    "import plotly.express as px\n",
    "from ga4gh.core import sha512t24u\n",
    "\n",
    "module_path = os.path.abspath(os.path.join(\"../..\"))\n",
    "if module_path not in sys.path:\n",
    "    sys.path.append(module_path)\n",
    "\n",
    "from utils import (  # noqa: E402\n",
    "    NOT_SUPPORTED_VARIANT_CATEGORY_VALUES,\n",
    "    MoaItemType,\n",
    "    load_latest_moa_zip,\n",
    ")"
   ]
  },
  {
   "cell_type": "markdown",
   "metadata": {},
   "source": [
    "### <a id='toc1_1_2_'></a>[Create output directory](#toc0_)"
   ]
  },
  {
   "cell_type": "code",
   "execution_count": 2,
   "metadata": {},
   "outputs": [],
   "source": [
    "path = Path(\"output\")\n",
    "path.mkdir(exist_ok=True)"
   ]
  },
  {
   "cell_type": "markdown",
   "metadata": {},
   "source": [
    "## <a id='toc1_2_'></a>[Create analysis functions / global variables](#toc0_)"
   ]
  },
  {
   "cell_type": "code",
   "execution_count": 3,
   "metadata": {},
   "outputs": [
    {
     "name": "stdout",
     "output_type": "stream",
     "text": [
      "Using moa_features_20250717.json for MOA features\n"
     ]
    }
   ],
   "source": [
    "# Use latest feature zip that has been pushed to the repo\n",
    "variants_resp = load_latest_moa_zip(MoaItemType.FEATURE)"
   ]
  },
  {
   "cell_type": "code",
   "execution_count": 4,
   "metadata": {},
   "outputs": [],
   "source": [
    "def get_feature_digest(feature: Dict) -> str:\n",
    "    \"\"\"Get digest for feature\n",
    "\n",
    "    :param feature: MOA feature\n",
    "    :return: Digest\n",
    "    \"\"\"\n",
    "    attrs = json.dumps(\n",
    "        feature[\"attributes\"][0], sort_keys=True, separators=(\",\", \":\"), indent=None\n",
    "    ).encode(\"utf-8\")\n",
    "    return sha512t24u(attrs)"
   ]
  },
  {
   "cell_type": "code",
   "execution_count": 5,
   "metadata": {},
   "outputs": [],
   "source": [
    "class VariantNormType(str, Enum):\n",
    "    \"\"\"Variation Normalization types\"\"\"\n",
    "\n",
    "    NORMALIZED = \"Normalized\"\n",
    "    NOT_SUPPORTED = \"Not Supported\"\n",
    "\n",
    "\n",
    "VARIANT_NORM_TYPE_VALUES = [v.value for v in VariantNormType.__members__.values()]"
   ]
  },
  {
   "cell_type": "markdown",
   "metadata": {},
   "source": [
    "## <a id='toc1_3_'></a>[All Features (Variants) Analysis](#toc0_)"
   ]
  },
  {
   "cell_type": "markdown",
   "metadata": {},
   "source": [
    "### <a id='toc1_3_1_'></a>[Creating a table with feature (variant) and assertion (evidence) information](#toc0_)"
   ]
  },
  {
   "cell_type": "code",
   "execution_count": 6,
   "metadata": {},
   "outputs": [
    {
     "name": "stdout",
     "output_type": "stream",
     "text": [
      "452\n"
     ]
    }
   ],
   "source": [
    "# Create dictionary for MOA Feature ID -> Feature Type\n",
    "\n",
    "features = {}\n",
    "\n",
    "for feature in variants_resp:\n",
    "    feature_id = feature[\"feature_id\"]\n",
    "    digest = get_feature_digest(feature)\n",
    "    features[digest] = feature[\"feature_type\"]\n",
    "\n",
    "count_unique_feature_ids = len(features.keys())\n",
    "print(count_unique_feature_ids)"
   ]
  },
  {
   "cell_type": "code",
   "execution_count": 7,
   "metadata": {},
   "outputs": [
    {
     "name": "stdout",
     "output_type": "stream",
     "text": [
      "Using moa_assertions_20250717.json for MOA assertions\n"
     ]
    }
   ],
   "source": [
    "# Use latest assertion zip that has been pushed to the repo\n",
    "assertions_resp = load_latest_moa_zip(MoaItemType.ASSERTION)"
   ]
  },
  {
   "cell_type": "code",
   "execution_count": 8,
   "metadata": {},
   "outputs": [
    {
     "name": "stdout",
     "output_type": "stream",
     "text": [
      "452\n"
     ]
    },
    {
     "data": {
      "text/html": [
       "<div>\n",
       "<style scoped>\n",
       "    .dataframe tbody tr th:only-of-type {\n",
       "        vertical-align: middle;\n",
       "    }\n",
       "\n",
       "    .dataframe tbody tr th {\n",
       "        vertical-align: top;\n",
       "    }\n",
       "\n",
       "    .dataframe thead th {\n",
       "        text-align: right;\n",
       "    }\n",
       "</style>\n",
       "<table border=\"1\" class=\"dataframe\">\n",
       "  <thead>\n",
       "    <tr style=\"text-align: right;\">\n",
       "      <th></th>\n",
       "      <th>assertion_id</th>\n",
       "      <th>feature_id</th>\n",
       "      <th>feature_type</th>\n",
       "      <th>predictive_implication</th>\n",
       "      <th>feature_digest</th>\n",
       "    </tr>\n",
       "  </thead>\n",
       "  <tbody>\n",
       "    <tr>\n",
       "      <th>0</th>\n",
       "      <td>1</td>\n",
       "      <td>1</td>\n",
       "      <td>rearrangement</td>\n",
       "      <td>FDA-Approved</td>\n",
       "      <td>RnRyn89cJzVbVM93aw4OA44NIF5zblyP</td>\n",
       "    </tr>\n",
       "    <tr>\n",
       "      <th>1</th>\n",
       "      <td>2</td>\n",
       "      <td>2</td>\n",
       "      <td>rearrangement</td>\n",
       "      <td>FDA-Approved</td>\n",
       "      <td>RnRyn89cJzVbVM93aw4OA44NIF5zblyP</td>\n",
       "    </tr>\n",
       "    <tr>\n",
       "      <th>2</th>\n",
       "      <td>3</td>\n",
       "      <td>3</td>\n",
       "      <td>rearrangement</td>\n",
       "      <td>FDA-Approved</td>\n",
       "      <td>RnRyn89cJzVbVM93aw4OA44NIF5zblyP</td>\n",
       "    </tr>\n",
       "    <tr>\n",
       "      <th>3</th>\n",
       "      <td>4</td>\n",
       "      <td>4</td>\n",
       "      <td>rearrangement</td>\n",
       "      <td>FDA-Approved</td>\n",
       "      <td>RnRyn89cJzVbVM93aw4OA44NIF5zblyP</td>\n",
       "    </tr>\n",
       "    <tr>\n",
       "      <th>4</th>\n",
       "      <td>5</td>\n",
       "      <td>5</td>\n",
       "      <td>rearrangement</td>\n",
       "      <td>FDA-Approved</td>\n",
       "      <td>RnRyn89cJzVbVM93aw4OA44NIF5zblyP</td>\n",
       "    </tr>\n",
       "    <tr>\n",
       "      <th>...</th>\n",
       "      <td>...</td>\n",
       "      <td>...</td>\n",
       "      <td>...</td>\n",
       "      <td>...</td>\n",
       "      <td>...</td>\n",
       "    </tr>\n",
       "    <tr>\n",
       "      <th>1002</th>\n",
       "      <td>1006</td>\n",
       "      <td>1006</td>\n",
       "      <td>somatic_variant</td>\n",
       "      <td>FDA-Approved</td>\n",
       "      <td>IpbUYvcvcPuvnET_IyVv-Yi_IUKddyvg</td>\n",
       "    </tr>\n",
       "    <tr>\n",
       "      <th>1003</th>\n",
       "      <td>1007</td>\n",
       "      <td>1007</td>\n",
       "      <td>somatic_variant</td>\n",
       "      <td>FDA-Approved</td>\n",
       "      <td>fakcYvzKfW8iRc3NOsxpYAHNWzO2rJtS</td>\n",
       "    </tr>\n",
       "    <tr>\n",
       "      <th>1004</th>\n",
       "      <td>1008</td>\n",
       "      <td>1008</td>\n",
       "      <td>rearrangement</td>\n",
       "      <td>FDA-Approved</td>\n",
       "      <td>yzNjLPO2biW_kdgqdjlMQXAEzDMrTxin</td>\n",
       "    </tr>\n",
       "    <tr>\n",
       "      <th>1005</th>\n",
       "      <td>1009</td>\n",
       "      <td>1009</td>\n",
       "      <td>somatic_variant</td>\n",
       "      <td>FDA-Approved</td>\n",
       "      <td>fakcYvzKfW8iRc3NOsxpYAHNWzO2rJtS</td>\n",
       "    </tr>\n",
       "    <tr>\n",
       "      <th>1006</th>\n",
       "      <td>1010</td>\n",
       "      <td>1010</td>\n",
       "      <td>somatic_variant</td>\n",
       "      <td>FDA-Approved</td>\n",
       "      <td>oHtby6jRuinPh1qwnS0YyEcfrARBfBcd</td>\n",
       "    </tr>\n",
       "  </tbody>\n",
       "</table>\n",
       "<p>1007 rows × 5 columns</p>\n",
       "</div>"
      ],
      "text/plain": [
       "      assertion_id  feature_id     feature_type predictive_implication  \\\n",
       "0                1           1    rearrangement           FDA-Approved   \n",
       "1                2           2    rearrangement           FDA-Approved   \n",
       "2                3           3    rearrangement           FDA-Approved   \n",
       "3                4           4    rearrangement           FDA-Approved   \n",
       "4                5           5    rearrangement           FDA-Approved   \n",
       "...            ...         ...              ...                    ...   \n",
       "1002          1006        1006  somatic_variant           FDA-Approved   \n",
       "1003          1007        1007  somatic_variant           FDA-Approved   \n",
       "1004          1008        1008    rearrangement           FDA-Approved   \n",
       "1005          1009        1009  somatic_variant           FDA-Approved   \n",
       "1006          1010        1010  somatic_variant           FDA-Approved   \n",
       "\n",
       "                        feature_digest  \n",
       "0     RnRyn89cJzVbVM93aw4OA44NIF5zblyP  \n",
       "1     RnRyn89cJzVbVM93aw4OA44NIF5zblyP  \n",
       "2     RnRyn89cJzVbVM93aw4OA44NIF5zblyP  \n",
       "3     RnRyn89cJzVbVM93aw4OA44NIF5zblyP  \n",
       "4     RnRyn89cJzVbVM93aw4OA44NIF5zblyP  \n",
       "...                                ...  \n",
       "1002  IpbUYvcvcPuvnET_IyVv-Yi_IUKddyvg  \n",
       "1003  fakcYvzKfW8iRc3NOsxpYAHNWzO2rJtS  \n",
       "1004  yzNjLPO2biW_kdgqdjlMQXAEzDMrTxin  \n",
       "1005  fakcYvzKfW8iRc3NOsxpYAHNWzO2rJtS  \n",
       "1006  oHtby6jRuinPh1qwnS0YyEcfrARBfBcd  \n",
       "\n",
       "[1007 rows x 5 columns]"
      ]
     },
     "execution_count": 8,
     "metadata": {},
     "output_type": "execute_result"
    }
   ],
   "source": [
    "# Create DF for assertions and their associated feature + predictive implication\n",
    "\n",
    "transformed = []\n",
    "\n",
    "# Mapping from feature ID to feature digest\n",
    "feature_id_to_digest = {}\n",
    "\n",
    "for assertion in assertions_resp:\n",
    "    assertion_id = assertion[\"assertion_id\"]\n",
    "    predictive_implication = assertion[\"predictive_implication\"]\n",
    "\n",
    "    if len(assertion[\"features\"]) != 1:\n",
    "        print(f\"assertion id ({assertion_id}) does not have 1 feature\")\n",
    "        continue\n",
    "\n",
    "    feature = assertion[\"features\"][0]\n",
    "    feature_id = feature[\"feature_id\"]\n",
    "    feature_digest = get_feature_digest(feature)\n",
    "\n",
    "    feature_id_to_digest[feature_id] = feature_digest\n",
    "\n",
    "    transformed.append(\n",
    "        {\n",
    "            \"assertion_id\": assertion_id,\n",
    "            \"feature_id\": feature_id,\n",
    "            \"feature_type\": features[feature_digest],\n",
    "            \"predictive_implication\": predictive_implication,\n",
    "            \"feature_digest\": feature_digest,\n",
    "        }\n",
    "    )\n",
    "moa_df = pd.DataFrame(transformed)\n",
    "print(len(moa_df[\"feature_digest\"].unique()))\n",
    "moa_df"
   ]
  },
  {
   "cell_type": "code",
   "execution_count": 9,
   "metadata": {},
   "outputs": [],
   "source": [
    "# Create dictionary for MOA Feature Digest -> Variant Category\n",
    "feature_digest_to_category = {}\n",
    "\n",
    "for fn in [\n",
    "    \"able_to_normalize_queries.tsv\",\n",
    "    \"unable_to_normalize_queries.tsv\",\n",
    "    \"not_supported_variants.tsv\",\n",
    "]:\n",
    "    with open(f\"../feature_analysis/{fn}\") as f:\n",
    "        reader = csv.reader(f, delimiter=\"\\t\")\n",
    "        header = next(reader)\n",
    "        for row in reader:\n",
    "            feature_id = row[0]\n",
    "            category = row[3]\n",
    "            digest = feature_id_to_digest[int(feature_id)]\n",
    "            feature_digest_to_category[digest] = category"
   ]
  },
  {
   "cell_type": "code",
   "execution_count": 10,
   "metadata": {},
   "outputs": [
    {
     "data": {
      "text/html": [
       "<div>\n",
       "<style scoped>\n",
       "    .dataframe tbody tr th:only-of-type {\n",
       "        vertical-align: middle;\n",
       "    }\n",
       "\n",
       "    .dataframe tbody tr th {\n",
       "        vertical-align: top;\n",
       "    }\n",
       "\n",
       "    .dataframe thead th {\n",
       "        text-align: right;\n",
       "    }\n",
       "</style>\n",
       "<table border=\"1\" class=\"dataframe\">\n",
       "  <thead>\n",
       "    <tr style=\"text-align: right;\">\n",
       "      <th></th>\n",
       "      <th>assertion_id</th>\n",
       "      <th>feature_id</th>\n",
       "      <th>feature_type</th>\n",
       "      <th>predictive_implication</th>\n",
       "      <th>feature_digest</th>\n",
       "      <th>category</th>\n",
       "    </tr>\n",
       "  </thead>\n",
       "  <tbody>\n",
       "    <tr>\n",
       "      <th>0</th>\n",
       "      <td>1</td>\n",
       "      <td>1</td>\n",
       "      <td>rearrangement</td>\n",
       "      <td>FDA-Approved</td>\n",
       "      <td>RnRyn89cJzVbVM93aw4OA44NIF5zblyP</td>\n",
       "      <td>Rearrangement</td>\n",
       "    </tr>\n",
       "    <tr>\n",
       "      <th>1</th>\n",
       "      <td>2</td>\n",
       "      <td>2</td>\n",
       "      <td>rearrangement</td>\n",
       "      <td>FDA-Approved</td>\n",
       "      <td>RnRyn89cJzVbVM93aw4OA44NIF5zblyP</td>\n",
       "      <td>Rearrangement</td>\n",
       "    </tr>\n",
       "    <tr>\n",
       "      <th>2</th>\n",
       "      <td>3</td>\n",
       "      <td>3</td>\n",
       "      <td>rearrangement</td>\n",
       "      <td>FDA-Approved</td>\n",
       "      <td>RnRyn89cJzVbVM93aw4OA44NIF5zblyP</td>\n",
       "      <td>Rearrangement</td>\n",
       "    </tr>\n",
       "    <tr>\n",
       "      <th>3</th>\n",
       "      <td>4</td>\n",
       "      <td>4</td>\n",
       "      <td>rearrangement</td>\n",
       "      <td>FDA-Approved</td>\n",
       "      <td>RnRyn89cJzVbVM93aw4OA44NIF5zblyP</td>\n",
       "      <td>Rearrangement</td>\n",
       "    </tr>\n",
       "    <tr>\n",
       "      <th>4</th>\n",
       "      <td>5</td>\n",
       "      <td>5</td>\n",
       "      <td>rearrangement</td>\n",
       "      <td>FDA-Approved</td>\n",
       "      <td>RnRyn89cJzVbVM93aw4OA44NIF5zblyP</td>\n",
       "      <td>Rearrangement</td>\n",
       "    </tr>\n",
       "    <tr>\n",
       "      <th>...</th>\n",
       "      <td>...</td>\n",
       "      <td>...</td>\n",
       "      <td>...</td>\n",
       "      <td>...</td>\n",
       "      <td>...</td>\n",
       "      <td>...</td>\n",
       "    </tr>\n",
       "    <tr>\n",
       "      <th>1002</th>\n",
       "      <td>1006</td>\n",
       "      <td>1006</td>\n",
       "      <td>somatic_variant</td>\n",
       "      <td>FDA-Approved</td>\n",
       "      <td>IpbUYvcvcPuvnET_IyVv-Yi_IUKddyvg</td>\n",
       "      <td>Sequence</td>\n",
       "    </tr>\n",
       "    <tr>\n",
       "      <th>1003</th>\n",
       "      <td>1007</td>\n",
       "      <td>1007</td>\n",
       "      <td>somatic_variant</td>\n",
       "      <td>FDA-Approved</td>\n",
       "      <td>fakcYvzKfW8iRc3NOsxpYAHNWzO2rJtS</td>\n",
       "      <td>Sequence</td>\n",
       "    </tr>\n",
       "    <tr>\n",
       "      <th>1004</th>\n",
       "      <td>1008</td>\n",
       "      <td>1008</td>\n",
       "      <td>rearrangement</td>\n",
       "      <td>FDA-Approved</td>\n",
       "      <td>yzNjLPO2biW_kdgqdjlMQXAEzDMrTxin</td>\n",
       "      <td>Rearrangement</td>\n",
       "    </tr>\n",
       "    <tr>\n",
       "      <th>1005</th>\n",
       "      <td>1009</td>\n",
       "      <td>1009</td>\n",
       "      <td>somatic_variant</td>\n",
       "      <td>FDA-Approved</td>\n",
       "      <td>fakcYvzKfW8iRc3NOsxpYAHNWzO2rJtS</td>\n",
       "      <td>Sequence</td>\n",
       "    </tr>\n",
       "    <tr>\n",
       "      <th>1006</th>\n",
       "      <td>1010</td>\n",
       "      <td>1010</td>\n",
       "      <td>somatic_variant</td>\n",
       "      <td>FDA-Approved</td>\n",
       "      <td>oHtby6jRuinPh1qwnS0YyEcfrARBfBcd</td>\n",
       "      <td>Sequence</td>\n",
       "    </tr>\n",
       "  </tbody>\n",
       "</table>\n",
       "<p>1007 rows × 6 columns</p>\n",
       "</div>"
      ],
      "text/plain": [
       "      assertion_id  feature_id     feature_type predictive_implication  \\\n",
       "0                1           1    rearrangement           FDA-Approved   \n",
       "1                2           2    rearrangement           FDA-Approved   \n",
       "2                3           3    rearrangement           FDA-Approved   \n",
       "3                4           4    rearrangement           FDA-Approved   \n",
       "4                5           5    rearrangement           FDA-Approved   \n",
       "...            ...         ...              ...                    ...   \n",
       "1002          1006        1006  somatic_variant           FDA-Approved   \n",
       "1003          1007        1007  somatic_variant           FDA-Approved   \n",
       "1004          1008        1008    rearrangement           FDA-Approved   \n",
       "1005          1009        1009  somatic_variant           FDA-Approved   \n",
       "1006          1010        1010  somatic_variant           FDA-Approved   \n",
       "\n",
       "                        feature_digest       category  \n",
       "0     RnRyn89cJzVbVM93aw4OA44NIF5zblyP  Rearrangement  \n",
       "1     RnRyn89cJzVbVM93aw4OA44NIF5zblyP  Rearrangement  \n",
       "2     RnRyn89cJzVbVM93aw4OA44NIF5zblyP  Rearrangement  \n",
       "3     RnRyn89cJzVbVM93aw4OA44NIF5zblyP  Rearrangement  \n",
       "4     RnRyn89cJzVbVM93aw4OA44NIF5zblyP  Rearrangement  \n",
       "...                                ...            ...  \n",
       "1002  IpbUYvcvcPuvnET_IyVv-Yi_IUKddyvg       Sequence  \n",
       "1003  fakcYvzKfW8iRc3NOsxpYAHNWzO2rJtS       Sequence  \n",
       "1004  yzNjLPO2biW_kdgqdjlMQXAEzDMrTxin  Rearrangement  \n",
       "1005  fakcYvzKfW8iRc3NOsxpYAHNWzO2rJtS       Sequence  \n",
       "1006  oHtby6jRuinPh1qwnS0YyEcfrARBfBcd       Sequence  \n",
       "\n",
       "[1007 rows x 6 columns]"
      ]
     },
     "execution_count": 10,
     "metadata": {},
     "output_type": "execute_result"
    }
   ],
   "source": [
    "# Add category column\n",
    "moa_df[\"category\"] = moa_df[\"feature_digest\"].apply(\n",
    "    lambda digest: feature_digest_to_category[digest]\n",
    ")\n",
    "moa_df"
   ]
  },
  {
   "cell_type": "code",
   "execution_count": 11,
   "metadata": {},
   "outputs": [],
   "source": [
    "moa_df.to_csv(\"output/moa_df.csv\")"
   ]
  },
  {
   "cell_type": "code",
   "execution_count": 12,
   "metadata": {},
   "outputs": [
    {
     "data": {
      "text/plain": [
       "452"
      ]
     },
     "execution_count": 12,
     "metadata": {},
     "output_type": "execute_result"
    }
   ],
   "source": [
    "unique_features_df = moa_df.sort_values(\"feature_id\").drop_duplicates(\n",
    "    subset=[\"feature_digest\"]\n",
    ")\n",
    "len_unique_feature_ids = len(list(unique_features_df.feature_id))\n",
    "len_unique_feature_ids"
   ]
  },
  {
   "cell_type": "code",
   "execution_count": 13,
   "metadata": {},
   "outputs": [
    {
     "data": {
      "text/plain": [
       "'Total number of unique features (variants): 452'"
      ]
     },
     "execution_count": 13,
     "metadata": {},
     "output_type": "execute_result"
    }
   ],
   "source": [
    "total_len_features = len(moa_df.feature_digest.unique())\n",
    "f\"Total number of unique features (variants): {total_len_features}\""
   ]
  },
  {
   "cell_type": "code",
   "execution_count": 14,
   "metadata": {},
   "outputs": [],
   "source": [
    "assert total_len_features == len_unique_feature_ids"
   ]
  },
  {
   "cell_type": "code",
   "execution_count": 15,
   "metadata": {},
   "outputs": [
    {
     "data": {
      "text/plain": [
       "'Total number of unique assertions (evidence items): 1007'"
      ]
     },
     "execution_count": 15,
     "metadata": {},
     "output_type": "execute_result"
    }
   ],
   "source": [
    "total_len_assertions = len(moa_df.assertion_id.unique())\n",
    "f\"Total number of unique assertions (evidence items): {total_len_assertions}\""
   ]
  },
  {
   "cell_type": "markdown",
   "metadata": {},
   "source": [
    "### <a id='toc1_3_2_'></a>[Converting feature (variant) types to normalized categories](#toc0_)"
   ]
  },
  {
   "cell_type": "code",
   "execution_count": 16,
   "metadata": {},
   "outputs": [
    {
     "data": {
      "text/plain": [
       "['rearrangement',\n",
       " 'somatic_variant',\n",
       " 'germline_variant',\n",
       " 'copy_number',\n",
       " 'microsatellite_stability',\n",
       " 'mutational_signature',\n",
       " 'mutational_burden',\n",
       " 'knockdown',\n",
       " 'aneuploidy']"
      ]
     },
     "execution_count": 16,
     "metadata": {},
     "output_type": "execute_result"
    }
   ],
   "source": [
    "list(moa_df.feature_type.unique())"
   ]
  },
  {
   "cell_type": "code",
   "execution_count": 17,
   "metadata": {},
   "outputs": [
    {
     "data": {
      "text/plain": [
       "['Rearrangement',\n",
       " 'Sequence',\n",
       " 'Gene Function',\n",
       " 'Region-Defined',\n",
       " 'Other',\n",
       " 'Copy Number',\n",
       " 'Expression']"
      ]
     },
     "execution_count": 17,
     "metadata": {},
     "output_type": "execute_result"
    }
   ],
   "source": [
    "list(moa_df.category.unique())"
   ]
  },
  {
   "cell_type": "markdown",
   "metadata": {},
   "source": [
    "### <a id='toc1_3_3_'></a>[Adding a numerical impact score based on the predictive implication](#toc0_)\n",
    "This is based on the structure of MOA scoring"
   ]
  },
  {
   "cell_type": "code",
   "execution_count": 18,
   "metadata": {},
   "outputs": [
    {
     "data": {
      "text/plain": [
       "['FDA-Approved',\n",
       " 'Guideline',\n",
       " 'Clinical trial',\n",
       " 'Preclinical',\n",
       " 'Inferential',\n",
       " 'Clinical evidence']"
      ]
     },
     "execution_count": 18,
     "metadata": {},
     "output_type": "execute_result"
    }
   ],
   "source": [
    "predictive_implication_categories = moa_df.predictive_implication.unique()\n",
    "list(predictive_implication_categories)"
   ]
  },
  {
   "cell_type": "code",
   "execution_count": 19,
   "metadata": {},
   "outputs": [
    {
     "data": {
      "text/html": [
       "<div>\n",
       "<style scoped>\n",
       "    .dataframe tbody tr th:only-of-type {\n",
       "        vertical-align: middle;\n",
       "    }\n",
       "\n",
       "    .dataframe tbody tr th {\n",
       "        vertical-align: top;\n",
       "    }\n",
       "\n",
       "    .dataframe thead th {\n",
       "        text-align: right;\n",
       "    }\n",
       "</style>\n",
       "<table border=\"1\" class=\"dataframe\">\n",
       "  <thead>\n",
       "    <tr style=\"text-align: right;\">\n",
       "      <th></th>\n",
       "      <th>assertion_id</th>\n",
       "      <th>feature_id</th>\n",
       "      <th>feature_type</th>\n",
       "      <th>predictive_implication</th>\n",
       "      <th>feature_digest</th>\n",
       "      <th>category</th>\n",
       "      <th>impact_score</th>\n",
       "    </tr>\n",
       "  </thead>\n",
       "  <tbody>\n",
       "    <tr>\n",
       "      <th>0</th>\n",
       "      <td>1</td>\n",
       "      <td>1</td>\n",
       "      <td>rearrangement</td>\n",
       "      <td>FDA-Approved</td>\n",
       "      <td>RnRyn89cJzVbVM93aw4OA44NIF5zblyP</td>\n",
       "      <td>Rearrangement</td>\n",
       "      <td>10</td>\n",
       "    </tr>\n",
       "    <tr>\n",
       "      <th>1</th>\n",
       "      <td>2</td>\n",
       "      <td>2</td>\n",
       "      <td>rearrangement</td>\n",
       "      <td>FDA-Approved</td>\n",
       "      <td>RnRyn89cJzVbVM93aw4OA44NIF5zblyP</td>\n",
       "      <td>Rearrangement</td>\n",
       "      <td>10</td>\n",
       "    </tr>\n",
       "    <tr>\n",
       "      <th>2</th>\n",
       "      <td>3</td>\n",
       "      <td>3</td>\n",
       "      <td>rearrangement</td>\n",
       "      <td>FDA-Approved</td>\n",
       "      <td>RnRyn89cJzVbVM93aw4OA44NIF5zblyP</td>\n",
       "      <td>Rearrangement</td>\n",
       "      <td>10</td>\n",
       "    </tr>\n",
       "    <tr>\n",
       "      <th>3</th>\n",
       "      <td>4</td>\n",
       "      <td>4</td>\n",
       "      <td>rearrangement</td>\n",
       "      <td>FDA-Approved</td>\n",
       "      <td>RnRyn89cJzVbVM93aw4OA44NIF5zblyP</td>\n",
       "      <td>Rearrangement</td>\n",
       "      <td>10</td>\n",
       "    </tr>\n",
       "    <tr>\n",
       "      <th>4</th>\n",
       "      <td>5</td>\n",
       "      <td>5</td>\n",
       "      <td>rearrangement</td>\n",
       "      <td>FDA-Approved</td>\n",
       "      <td>RnRyn89cJzVbVM93aw4OA44NIF5zblyP</td>\n",
       "      <td>Rearrangement</td>\n",
       "      <td>10</td>\n",
       "    </tr>\n",
       "  </tbody>\n",
       "</table>\n",
       "</div>"
      ],
      "text/plain": [
       "   assertion_id  feature_id   feature_type predictive_implication  \\\n",
       "0             1           1  rearrangement           FDA-Approved   \n",
       "1             2           2  rearrangement           FDA-Approved   \n",
       "2             3           3  rearrangement           FDA-Approved   \n",
       "3             4           4  rearrangement           FDA-Approved   \n",
       "4             5           5  rearrangement           FDA-Approved   \n",
       "\n",
       "                     feature_digest       category impact_score  \n",
       "0  RnRyn89cJzVbVM93aw4OA44NIF5zblyP  Rearrangement           10  \n",
       "1  RnRyn89cJzVbVM93aw4OA44NIF5zblyP  Rearrangement           10  \n",
       "2  RnRyn89cJzVbVM93aw4OA44NIF5zblyP  Rearrangement           10  \n",
       "3  RnRyn89cJzVbVM93aw4OA44NIF5zblyP  Rearrangement           10  \n",
       "4  RnRyn89cJzVbVM93aw4OA44NIF5zblyP  Rearrangement           10  "
      ]
     },
     "execution_count": 19,
     "metadata": {},
     "output_type": "execute_result"
    }
   ],
   "source": [
    "moa_df[\"impact_score\"] = moa_df[\"predictive_implication\"].copy()\n",
    "\n",
    "moa_df.loc[moa_df[\"impact_score\"] == \"FDA-Approved\", \"impact_score\"] = 10\n",
    "moa_df.loc[moa_df[\"impact_score\"] == \"Guideline\", \"impact_score\"] = 10\n",
    "moa_df.loc[moa_df[\"impact_score\"] == \"Clinical evidence\", \"impact_score\"] = 5\n",
    "moa_df.loc[moa_df[\"impact_score\"] == \"Clinical trial\", \"impact_score\"] = 5\n",
    "moa_df.loc[moa_df[\"impact_score\"] == \"Preclinical\", \"impact_score\"] = 1\n",
    "moa_df.loc[moa_df[\"impact_score\"] == \"Inferential\", \"impact_score\"] = 0.5\n",
    "\n",
    "moa_df.head()"
   ]
  },
  {
   "cell_type": "markdown",
   "metadata": {},
   "source": [
    "### <a id='toc1_3_4_'></a>[Impact Score Analysis](#toc0_)"
   ]
  },
  {
   "cell_type": "code",
   "execution_count": 20,
   "metadata": {},
   "outputs": [
    {
     "name": "stdout",
     "output_type": "stream",
     "text": [
      "Sequence: 4216.5\n",
      "Genotype/Haplotype: 0\n",
      "Fusion: 0\n",
      "Rearrangement: 693.0\n",
      "Epigenetic Modification: 0\n",
      "Copy Number: 427.5\n",
      "Expression: 12\n",
      "Gene Function: 112\n",
      "Region-Defined: 600.0\n",
      "Genome Feature: 0\n",
      "Other: 199.0\n",
      "Transcript: 0\n"
     ]
    }
   ],
   "source": [
    "feature_categories_impact_data = dict()\n",
    "for category in NOT_SUPPORTED_VARIANT_CATEGORY_VALUES:\n",
    "    feature_categories_impact_data[category] = {}\n",
    "    impact_category_df = moa_df[moa_df.category == category]\n",
    "\n",
    "    total_sum_category_impact = impact_category_df[\"impact_score\"].sum()\n",
    "    feature_categories_impact_data[category][\"total_sum_category_impact\"] = (\n",
    "        total_sum_category_impact\n",
    "    )\n",
    "    print(f\"{category}: {total_sum_category_impact}\")"
   ]
  },
  {
   "cell_type": "markdown",
   "metadata": {},
   "source": [
    "### <a id='toc1_3_5_'></a>[Features (Variants) Analysis](#toc0_)"
   ]
  },
  {
   "cell_type": "code",
   "execution_count": 21,
   "metadata": {},
   "outputs": [],
   "source": [
    "def calc_perc_item_analysis(item_type: MoaItemType, total_len: int) -> dict:\n",
    "    \"\"\"Calculates the percent of either the features or the assertions in MOA\n",
    "\n",
    "    :param item_type: The type of item\n",
    "    :param total_len: The total number of items defined by 'item_type'\n",
    "    :return: Dictionary with a string indicating the percent of the item\n",
    "    \"\"\"\n",
    "    moa_item_data = dict()\n",
    "\n",
    "    for category in NOT_SUPPORTED_VARIANT_CATEGORY_VALUES:\n",
    "        moa_item_data[category] = {}\n",
    "        item_type_df = moa_df[moa_df.category == category]\n",
    "        if item_type == MoaItemType.FEATURE:\n",
    "            number_unique_category_items = len(set(item_type_df.feature_digest))\n",
    "        else:\n",
    "            number_unique_category_items = len(set(item_type_df.assertion_id))\n",
    "\n",
    "        if item_type == MoaItemType.FEATURE:\n",
    "            singular = MoaItemType.FEATURE.value\n",
    "            plural = \"features\"\n",
    "        else:\n",
    "            singular = MoaItemType.ASSERTION.value\n",
    "            plural = \"assertions\"\n",
    "\n",
    "        moa_item_data[category][f\"number_unique_category_{plural}\"] = (\n",
    "            number_unique_category_items\n",
    "        )\n",
    "\n",
    "        fraction_category_item = f\"{number_unique_category_items} / {total_len}\"\n",
    "        moa_item_data[category][f\"fraction_category_{singular}\"] = (\n",
    "            fraction_category_item\n",
    "        )\n",
    "\n",
    "        percent_category_item = (\n",
    "            \"{:.2f}\".format(number_unique_category_items / total_len * 100) + \"%\"\n",
    "        )\n",
    "\n",
    "        moa_item_data[category][f\"percent_category_{singular}\"] = percent_category_item\n",
    "\n",
    "    return moa_item_data"
   ]
  },
  {
   "cell_type": "code",
   "execution_count": 22,
   "metadata": {},
   "outputs": [],
   "source": [
    "moa_feature_data = calc_perc_item_analysis(MoaItemType.FEATURE, total_len_features)"
   ]
  },
  {
   "cell_type": "markdown",
   "metadata": {},
   "source": [
    "### <a id='toc1_3_6_'></a>[Assertions (Evidence Items) Analysis](#toc0_)"
   ]
  },
  {
   "cell_type": "code",
   "execution_count": 23,
   "metadata": {},
   "outputs": [],
   "source": [
    "moa_assertion_data = calc_perc_item_analysis(\n",
    "    MoaItemType.ASSERTION, total_len_assertions\n",
    ")"
   ]
  },
  {
   "cell_type": "markdown",
   "metadata": {},
   "source": [
    "### <a id='toc1_3_7_'></a>[Summaries for all Features (Variants) and Assertions (Evidence Items)](#toc0_)"
   ]
  },
  {
   "cell_type": "code",
   "execution_count": 24,
   "metadata": {},
   "outputs": [],
   "source": [
    "feature_category_impact_score = [\n",
    "    v[\"total_sum_category_impact\"] for v in feature_categories_impact_data.values()\n",
    "]\n",
    "feature_category_number = [\n",
    "    v[\"number_unique_category_features\"] for v in moa_feature_data.values()\n",
    "]\n",
    "feature_category_fraction = [\n",
    "    v[\"fraction_category_feature\"] for v in moa_feature_data.values()\n",
    "]\n",
    "feature_category_percent = [\n",
    "    v[\"percent_category_feature\"] for v in moa_feature_data.values()\n",
    "]\n",
    "feature_category_assertion_number = [\n",
    "    v[\"number_unique_category_assertions\"] for v in moa_assertion_data.values()\n",
    "]\n",
    "feature_category_assertion_fraction = [\n",
    "    v[\"fraction_category_assertion\"] for v in moa_assertion_data.values()\n",
    "]\n",
    "feature_category_assertion_percent = [\n",
    "    v[\"percent_category_assertion\"] for v in moa_assertion_data.values()\n",
    "]"
   ]
  },
  {
   "cell_type": "code",
   "execution_count": 25,
   "metadata": {},
   "outputs": [],
   "source": [
    "feature_category_dict = {\n",
    "    \"Category\": NOT_SUPPORTED_VARIANT_CATEGORY_VALUES,\n",
    "    \"Number of Features\": feature_category_number,\n",
    "    \"Fraction of Features\": feature_category_fraction,\n",
    "    \"Percent of Features\": feature_category_percent,\n",
    "    \"Number of Assertions\": feature_category_assertion_number,\n",
    "    \"Fraction of Assertions\": feature_category_assertion_fraction,\n",
    "    \"Percent of Assertions\": feature_category_assertion_percent,\n",
    "    \"Impact Score\": feature_category_impact_score,\n",
    "}"
   ]
  },
  {
   "cell_type": "code",
   "execution_count": 26,
   "metadata": {},
   "outputs": [
    {
     "data": {
      "text/html": [
       "<div>\n",
       "<style scoped>\n",
       "    .dataframe tbody tr th:only-of-type {\n",
       "        vertical-align: middle;\n",
       "    }\n",
       "\n",
       "    .dataframe tbody tr th {\n",
       "        vertical-align: top;\n",
       "    }\n",
       "\n",
       "    .dataframe thead th {\n",
       "        text-align: right;\n",
       "    }\n",
       "</style>\n",
       "<table border=\"1\" class=\"dataframe\">\n",
       "  <thead>\n",
       "    <tr style=\"text-align: right;\">\n",
       "      <th></th>\n",
       "      <th>Category</th>\n",
       "      <th>Number of Features</th>\n",
       "      <th>Fraction of Features</th>\n",
       "      <th>Percent of Features</th>\n",
       "      <th>Number of Assertions</th>\n",
       "      <th>Fraction of Assertions</th>\n",
       "      <th>Percent of Assertions</th>\n",
       "      <th>Impact Score</th>\n",
       "    </tr>\n",
       "  </thead>\n",
       "  <tbody>\n",
       "    <tr>\n",
       "      <th>0</th>\n",
       "      <td>Sequence</td>\n",
       "      <td>286</td>\n",
       "      <td>286 / 452</td>\n",
       "      <td>63.27%</td>\n",
       "      <td>634</td>\n",
       "      <td>634 / 1007</td>\n",
       "      <td>62.96%</td>\n",
       "      <td>4216.5</td>\n",
       "    </tr>\n",
       "    <tr>\n",
       "      <th>1</th>\n",
       "      <td>Genotype/Haplotype</td>\n",
       "      <td>0</td>\n",
       "      <td>0 / 452</td>\n",
       "      <td>0.00%</td>\n",
       "      <td>0</td>\n",
       "      <td>0 / 1007</td>\n",
       "      <td>0.00%</td>\n",
       "      <td>0.0</td>\n",
       "    </tr>\n",
       "    <tr>\n",
       "      <th>2</th>\n",
       "      <td>Fusion</td>\n",
       "      <td>0</td>\n",
       "      <td>0 / 452</td>\n",
       "      <td>0.00%</td>\n",
       "      <td>0</td>\n",
       "      <td>0 / 1007</td>\n",
       "      <td>0.00%</td>\n",
       "      <td>0.0</td>\n",
       "    </tr>\n",
       "    <tr>\n",
       "      <th>3</th>\n",
       "      <td>Rearrangement</td>\n",
       "      <td>35</td>\n",
       "      <td>35 / 452</td>\n",
       "      <td>7.74%</td>\n",
       "      <td>85</td>\n",
       "      <td>85 / 1007</td>\n",
       "      <td>8.44%</td>\n",
       "      <td>693.0</td>\n",
       "    </tr>\n",
       "    <tr>\n",
       "      <th>4</th>\n",
       "      <td>Epigenetic Modification</td>\n",
       "      <td>0</td>\n",
       "      <td>0 / 452</td>\n",
       "      <td>0.00%</td>\n",
       "      <td>0</td>\n",
       "      <td>0 / 1007</td>\n",
       "      <td>0.00%</td>\n",
       "      <td>0.0</td>\n",
       "    </tr>\n",
       "    <tr>\n",
       "      <th>5</th>\n",
       "      <td>Copy Number</td>\n",
       "      <td>54</td>\n",
       "      <td>54 / 452</td>\n",
       "      <td>11.95%</td>\n",
       "      <td>116</td>\n",
       "      <td>116 / 1007</td>\n",
       "      <td>11.52%</td>\n",
       "      <td>427.5</td>\n",
       "    </tr>\n",
       "    <tr>\n",
       "      <th>6</th>\n",
       "      <td>Expression</td>\n",
       "      <td>11</td>\n",
       "      <td>11 / 452</td>\n",
       "      <td>2.43%</td>\n",
       "      <td>12</td>\n",
       "      <td>12 / 1007</td>\n",
       "      <td>1.19%</td>\n",
       "      <td>12.0</td>\n",
       "    </tr>\n",
       "    <tr>\n",
       "      <th>7</th>\n",
       "      <td>Gene Function</td>\n",
       "      <td>14</td>\n",
       "      <td>14 / 452</td>\n",
       "      <td>3.10%</td>\n",
       "      <td>20</td>\n",
       "      <td>20 / 1007</td>\n",
       "      <td>1.99%</td>\n",
       "      <td>112.0</td>\n",
       "    </tr>\n",
       "    <tr>\n",
       "      <th>8</th>\n",
       "      <td>Region-Defined</td>\n",
       "      <td>40</td>\n",
       "      <td>40 / 452</td>\n",
       "      <td>8.85%</td>\n",
       "      <td>109</td>\n",
       "      <td>109 / 1007</td>\n",
       "      <td>10.82%</td>\n",
       "      <td>600.0</td>\n",
       "    </tr>\n",
       "    <tr>\n",
       "      <th>9</th>\n",
       "      <td>Genome Feature</td>\n",
       "      <td>0</td>\n",
       "      <td>0 / 452</td>\n",
       "      <td>0.00%</td>\n",
       "      <td>0</td>\n",
       "      <td>0 / 1007</td>\n",
       "      <td>0.00%</td>\n",
       "      <td>0.0</td>\n",
       "    </tr>\n",
       "    <tr>\n",
       "      <th>10</th>\n",
       "      <td>Other</td>\n",
       "      <td>12</td>\n",
       "      <td>12 / 452</td>\n",
       "      <td>2.65%</td>\n",
       "      <td>31</td>\n",
       "      <td>31 / 1007</td>\n",
       "      <td>3.08%</td>\n",
       "      <td>199.0</td>\n",
       "    </tr>\n",
       "    <tr>\n",
       "      <th>11</th>\n",
       "      <td>Transcript</td>\n",
       "      <td>0</td>\n",
       "      <td>0 / 452</td>\n",
       "      <td>0.00%</td>\n",
       "      <td>0</td>\n",
       "      <td>0 / 1007</td>\n",
       "      <td>0.00%</td>\n",
       "      <td>0.0</td>\n",
       "    </tr>\n",
       "  </tbody>\n",
       "</table>\n",
       "</div>"
      ],
      "text/plain": [
       "                   Category  Number of Features Fraction of Features  \\\n",
       "0                  Sequence                 286            286 / 452   \n",
       "1        Genotype/Haplotype                   0              0 / 452   \n",
       "2                    Fusion                   0              0 / 452   \n",
       "3             Rearrangement                  35             35 / 452   \n",
       "4   Epigenetic Modification                   0              0 / 452   \n",
       "5               Copy Number                  54             54 / 452   \n",
       "6                Expression                  11             11 / 452   \n",
       "7             Gene Function                  14             14 / 452   \n",
       "8            Region-Defined                  40             40 / 452   \n",
       "9            Genome Feature                   0              0 / 452   \n",
       "10                    Other                  12             12 / 452   \n",
       "11               Transcript                   0              0 / 452   \n",
       "\n",
       "   Percent of Features  Number of Assertions Fraction of Assertions  \\\n",
       "0               63.27%                   634             634 / 1007   \n",
       "1                0.00%                     0               0 / 1007   \n",
       "2                0.00%                     0               0 / 1007   \n",
       "3                7.74%                    85              85 / 1007   \n",
       "4                0.00%                     0               0 / 1007   \n",
       "5               11.95%                   116             116 / 1007   \n",
       "6                2.43%                    12              12 / 1007   \n",
       "7                3.10%                    20              20 / 1007   \n",
       "8                8.85%                   109             109 / 1007   \n",
       "9                0.00%                     0               0 / 1007   \n",
       "10               2.65%                    31              31 / 1007   \n",
       "11               0.00%                     0               0 / 1007   \n",
       "\n",
       "   Percent of Assertions  Impact Score  \n",
       "0                 62.96%        4216.5  \n",
       "1                  0.00%           0.0  \n",
       "2                  0.00%           0.0  \n",
       "3                  8.44%         693.0  \n",
       "4                  0.00%           0.0  \n",
       "5                 11.52%         427.5  \n",
       "6                  1.19%          12.0  \n",
       "7                  1.99%         112.0  \n",
       "8                 10.82%         600.0  \n",
       "9                  0.00%           0.0  \n",
       "10                 3.08%         199.0  \n",
       "11                 0.00%           0.0  "
      ]
     },
     "execution_count": 26,
     "metadata": {},
     "output_type": "execute_result"
    }
   ],
   "source": [
    "moa_feature_df = pd.DataFrame(feature_category_dict)\n",
    "moa_feature_df"
   ]
  },
  {
   "cell_type": "code",
   "execution_count": 27,
   "metadata": {},
   "outputs": [],
   "source": [
    "def combine_frac_perc(df: pd.DataFrame, denominator: str) -> pd.DataFrame:\n",
    "    \"\"\"Put fraction and percent string into one string\n",
    "\n",
    "    :param df: Dataframe of variant statistics\n",
    "    :param denominator: string representing what the denominator of the fraction is\n",
    "    :return: Transformed dataframe with fraction and percent string as one string\n",
    "    \"\"\"\n",
    "    for d in denominator:\n",
    "        perc_key = f\"Percent of {d}\"\n",
    "        frac_key = f\"Fraction of {d}\"\n",
    "        df[perc_key] = df[frac_key].astype(str) + \"  (\" + df[perc_key] + \")\"\n",
    "        df = df.drop([frac_key], axis=1)\n",
    "    return df"
   ]
  },
  {
   "cell_type": "code",
   "execution_count": 28,
   "metadata": {},
   "outputs": [],
   "source": [
    "moa_feature_df = combine_frac_perc(moa_feature_df, [\"Features\"])"
   ]
  },
  {
   "cell_type": "code",
   "execution_count": 29,
   "metadata": {},
   "outputs": [],
   "source": [
    "moa_feature_df = combine_frac_perc(moa_feature_df, [\"Assertions\"])"
   ]
  },
  {
   "cell_type": "code",
   "execution_count": 30,
   "metadata": {},
   "outputs": [],
   "source": [
    "moa_feature_df_abbreviated = moa_feature_df[\n",
    "    [\n",
    "        \"Category\",\n",
    "        \"Percent of Features\",\n",
    "        \"Percent of Assertions\",\n",
    "        \"Impact Score\",\n",
    "    ]\n",
    "].copy()"
   ]
  },
  {
   "cell_type": "code",
   "execution_count": 31,
   "metadata": {},
   "outputs": [
    {
     "data": {
      "text/html": [
       "<div>\n",
       "<style scoped>\n",
       "    .dataframe tbody tr th:only-of-type {\n",
       "        vertical-align: middle;\n",
       "    }\n",
       "\n",
       "    .dataframe tbody tr th {\n",
       "        vertical-align: top;\n",
       "    }\n",
       "\n",
       "    .dataframe thead th {\n",
       "        text-align: right;\n",
       "    }\n",
       "</style>\n",
       "<table border=\"1\" class=\"dataframe\">\n",
       "  <thead>\n",
       "    <tr style=\"text-align: right;\">\n",
       "      <th></th>\n",
       "      <th>Percent of Features</th>\n",
       "      <th>Percent of Assertions</th>\n",
       "      <th>Impact Score</th>\n",
       "    </tr>\n",
       "    <tr>\n",
       "      <th>Category</th>\n",
       "      <th></th>\n",
       "      <th></th>\n",
       "      <th></th>\n",
       "    </tr>\n",
       "  </thead>\n",
       "  <tbody>\n",
       "    <tr>\n",
       "      <th>Sequence</th>\n",
       "      <td>286 / 452  (63.27%)</td>\n",
       "      <td>634 / 1007  (62.96%)</td>\n",
       "      <td>4216.5</td>\n",
       "    </tr>\n",
       "    <tr>\n",
       "      <th>Genotype/Haplotype</th>\n",
       "      <td>0 / 452  (0.00%)</td>\n",
       "      <td>0 / 1007  (0.00%)</td>\n",
       "      <td>0.0</td>\n",
       "    </tr>\n",
       "    <tr>\n",
       "      <th>Fusion</th>\n",
       "      <td>0 / 452  (0.00%)</td>\n",
       "      <td>0 / 1007  (0.00%)</td>\n",
       "      <td>0.0</td>\n",
       "    </tr>\n",
       "    <tr>\n",
       "      <th>Rearrangement</th>\n",
       "      <td>35 / 452  (7.74%)</td>\n",
       "      <td>85 / 1007  (8.44%)</td>\n",
       "      <td>693.0</td>\n",
       "    </tr>\n",
       "    <tr>\n",
       "      <th>Epigenetic Modification</th>\n",
       "      <td>0 / 452  (0.00%)</td>\n",
       "      <td>0 / 1007  (0.00%)</td>\n",
       "      <td>0.0</td>\n",
       "    </tr>\n",
       "    <tr>\n",
       "      <th>Copy Number</th>\n",
       "      <td>54 / 452  (11.95%)</td>\n",
       "      <td>116 / 1007  (11.52%)</td>\n",
       "      <td>427.5</td>\n",
       "    </tr>\n",
       "    <tr>\n",
       "      <th>Expression</th>\n",
       "      <td>11 / 452  (2.43%)</td>\n",
       "      <td>12 / 1007  (1.19%)</td>\n",
       "      <td>12.0</td>\n",
       "    </tr>\n",
       "    <tr>\n",
       "      <th>Gene Function</th>\n",
       "      <td>14 / 452  (3.10%)</td>\n",
       "      <td>20 / 1007  (1.99%)</td>\n",
       "      <td>112.0</td>\n",
       "    </tr>\n",
       "    <tr>\n",
       "      <th>Region-Defined</th>\n",
       "      <td>40 / 452  (8.85%)</td>\n",
       "      <td>109 / 1007  (10.82%)</td>\n",
       "      <td>600.0</td>\n",
       "    </tr>\n",
       "    <tr>\n",
       "      <th>Genome Feature</th>\n",
       "      <td>0 / 452  (0.00%)</td>\n",
       "      <td>0 / 1007  (0.00%)</td>\n",
       "      <td>0.0</td>\n",
       "    </tr>\n",
       "    <tr>\n",
       "      <th>Other</th>\n",
       "      <td>12 / 452  (2.65%)</td>\n",
       "      <td>31 / 1007  (3.08%)</td>\n",
       "      <td>199.0</td>\n",
       "    </tr>\n",
       "    <tr>\n",
       "      <th>Transcript</th>\n",
       "      <td>0 / 452  (0.00%)</td>\n",
       "      <td>0 / 1007  (0.00%)</td>\n",
       "      <td>0.0</td>\n",
       "    </tr>\n",
       "  </tbody>\n",
       "</table>\n",
       "</div>"
      ],
      "text/plain": [
       "                         Percent of Features Percent of Assertions  \\\n",
       "Category                                                             \n",
       "Sequence                 286 / 452  (63.27%)  634 / 1007  (62.96%)   \n",
       "Genotype/Haplotype          0 / 452  (0.00%)     0 / 1007  (0.00%)   \n",
       "Fusion                      0 / 452  (0.00%)     0 / 1007  (0.00%)   \n",
       "Rearrangement              35 / 452  (7.74%)    85 / 1007  (8.44%)   \n",
       "Epigenetic Modification     0 / 452  (0.00%)     0 / 1007  (0.00%)   \n",
       "Copy Number               54 / 452  (11.95%)  116 / 1007  (11.52%)   \n",
       "Expression                 11 / 452  (2.43%)    12 / 1007  (1.19%)   \n",
       "Gene Function              14 / 452  (3.10%)    20 / 1007  (1.99%)   \n",
       "Region-Defined             40 / 452  (8.85%)  109 / 1007  (10.82%)   \n",
       "Genome Feature              0 / 452  (0.00%)     0 / 1007  (0.00%)   \n",
       "Other                      12 / 452  (2.65%)    31 / 1007  (3.08%)   \n",
       "Transcript                  0 / 452  (0.00%)     0 / 1007  (0.00%)   \n",
       "\n",
       "                         Impact Score  \n",
       "Category                               \n",
       "Sequence                       4216.5  \n",
       "Genotype/Haplotype                0.0  \n",
       "Fusion                            0.0  \n",
       "Rearrangement                   693.0  \n",
       "Epigenetic Modification           0.0  \n",
       "Copy Number                     427.5  \n",
       "Expression                       12.0  \n",
       "Gene Function                   112.0  \n",
       "Region-Defined                  600.0  \n",
       "Genome Feature                    0.0  \n",
       "Other                           199.0  \n",
       "Transcript                        0.0  "
      ]
     },
     "execution_count": 31,
     "metadata": {},
     "output_type": "execute_result"
    }
   ],
   "source": [
    "moa_feature_df_abbreviated = moa_feature_df_abbreviated.set_index(\"Category\")\n",
    "moa_feature_df_abbreviated"
   ]
  },
  {
   "cell_type": "code",
   "execution_count": 32,
   "metadata": {},
   "outputs": [
    {
     "data": {
      "application/vnd.plotly.v1+json": {
       "config": {
        "plotlyServerURL": "https://plot.ly"
       },
       "data": [
        {
         "hovertemplate": "Category=Sequence<br>Number of Assertions=%{x}<br>Impact Score=%{y}<br>Number of Features=%{text}<extra></extra>",
         "legendgroup": "Sequence",
         "marker": {
          "color": "#636efa",
          "size": {
           "bdata": "HgE=",
           "dtype": "i2"
          },
          "sizemode": "area",
          "sizeref": 0.17875,
          "symbol": "circle"
         },
         "mode": "markers+text",
         "name": "Sequence",
         "orientation": "v",
         "showlegend": true,
         "text": {
          "bdata": "AAAAAADgcUA=",
          "dtype": "f8"
         },
         "type": "scatter",
         "x": {
          "bdata": "egI=",
          "dtype": "i2"
         },
         "xaxis": "x",
         "y": {
          "bdata": "AAAAAIB4sEA=",
          "dtype": "f8"
         },
         "yaxis": "y"
        },
        {
         "hovertemplate": "Category=Genotype/Haplotype<br>Number of Assertions=%{x}<br>Impact Score=%{y}<br>Number of Features=%{text}<extra></extra>",
         "legendgroup": "Genotype/Haplotype",
         "marker": {
          "color": "#EF553B",
          "size": {
           "bdata": "AA==",
           "dtype": "i1"
          },
          "sizemode": "area",
          "sizeref": 0.17875,
          "symbol": "circle"
         },
         "mode": "markers+text",
         "name": "Genotype/Haplotype",
         "orientation": "v",
         "showlegend": true,
         "text": {
          "bdata": "AAAAAAAAAAA=",
          "dtype": "f8"
         },
         "type": "scatter",
         "x": {
          "bdata": "AA==",
          "dtype": "i1"
         },
         "xaxis": "x",
         "y": {
          "bdata": "AAAAAAAAAAA=",
          "dtype": "f8"
         },
         "yaxis": "y"
        },
        {
         "hovertemplate": "Category=Fusion<br>Number of Assertions=%{x}<br>Impact Score=%{y}<br>Number of Features=%{text}<extra></extra>",
         "legendgroup": "Fusion",
         "marker": {
          "color": "#00cc96",
          "size": {
           "bdata": "AA==",
           "dtype": "i1"
          },
          "sizemode": "area",
          "sizeref": 0.17875,
          "symbol": "circle"
         },
         "mode": "markers+text",
         "name": "Fusion",
         "orientation": "v",
         "showlegend": true,
         "text": {
          "bdata": "AAAAAAAAAAA=",
          "dtype": "f8"
         },
         "type": "scatter",
         "x": {
          "bdata": "AA==",
          "dtype": "i1"
         },
         "xaxis": "x",
         "y": {
          "bdata": "AAAAAAAAAAA=",
          "dtype": "f8"
         },
         "yaxis": "y"
        },
        {
         "hovertemplate": "Category=Rearrangement<br>Number of Assertions=%{x}<br>Impact Score=%{y}<br>Number of Features=%{text}<extra></extra>",
         "legendgroup": "Rearrangement",
         "marker": {
          "color": "#ab63fa",
          "size": {
           "bdata": "Iw==",
           "dtype": "i1"
          },
          "sizemode": "area",
          "sizeref": 0.17875,
          "symbol": "circle"
         },
         "mode": "markers+text",
         "name": "Rearrangement",
         "orientation": "v",
         "showlegend": true,
         "text": {
          "bdata": "AAAAAACAQUA=",
          "dtype": "f8"
         },
         "type": "scatter",
         "x": {
          "bdata": "VQ==",
          "dtype": "i1"
         },
         "xaxis": "x",
         "y": {
          "bdata": "AAAAAACohUA=",
          "dtype": "f8"
         },
         "yaxis": "y"
        },
        {
         "hovertemplate": "Category=Epigenetic Modification<br>Number of Assertions=%{x}<br>Impact Score=%{y}<br>Number of Features=%{text}<extra></extra>",
         "legendgroup": "Epigenetic Modification",
         "marker": {
          "color": "#FFA15A",
          "size": {
           "bdata": "AA==",
           "dtype": "i1"
          },
          "sizemode": "area",
          "sizeref": 0.17875,
          "symbol": "circle"
         },
         "mode": "markers+text",
         "name": "Epigenetic Modification",
         "orientation": "v",
         "showlegend": true,
         "text": {
          "bdata": "AAAAAAAAAAA=",
          "dtype": "f8"
         },
         "type": "scatter",
         "x": {
          "bdata": "AA==",
          "dtype": "i1"
         },
         "xaxis": "x",
         "y": {
          "bdata": "AAAAAAAAAAA=",
          "dtype": "f8"
         },
         "yaxis": "y"
        },
        {
         "hovertemplate": "Category=Copy Number<br>Number of Assertions=%{x}<br>Impact Score=%{y}<br>Number of Features=%{text}<extra></extra>",
         "legendgroup": "Copy Number",
         "marker": {
          "color": "#19d3f3",
          "size": {
           "bdata": "Ng==",
           "dtype": "i1"
          },
          "sizemode": "area",
          "sizeref": 0.17875,
          "symbol": "circle"
         },
         "mode": "markers+text",
         "name": "Copy Number",
         "orientation": "v",
         "showlegend": true,
         "text": {
          "bdata": "AAAAAAAAS0A=",
          "dtype": "f8"
         },
         "type": "scatter",
         "x": {
          "bdata": "dA==",
          "dtype": "i1"
         },
         "xaxis": "x",
         "y": {
          "bdata": "AAAAAAC4ekA=",
          "dtype": "f8"
         },
         "yaxis": "y"
        },
        {
         "hovertemplate": "Category=Expression<br>Number of Assertions=%{x}<br>Impact Score=%{y}<br>Number of Features=%{text}<extra></extra>",
         "legendgroup": "Expression",
         "marker": {
          "color": "#FF6692",
          "size": {
           "bdata": "Cw==",
           "dtype": "i1"
          },
          "sizemode": "area",
          "sizeref": 0.17875,
          "symbol": "circle"
         },
         "mode": "markers+text",
         "name": "Expression",
         "orientation": "v",
         "showlegend": true,
         "text": {
          "bdata": "AAAAAAAAJkA=",
          "dtype": "f8"
         },
         "type": "scatter",
         "x": {
          "bdata": "DA==",
          "dtype": "i1"
         },
         "xaxis": "x",
         "y": {
          "bdata": "AAAAAAAAKEA=",
          "dtype": "f8"
         },
         "yaxis": "y"
        },
        {
         "hovertemplate": "Category=Gene Function<br>Number of Assertions=%{x}<br>Impact Score=%{y}<br>Number of Features=%{text}<extra></extra>",
         "legendgroup": "Gene Function",
         "marker": {
          "color": "#B6E880",
          "size": {
           "bdata": "Dg==",
           "dtype": "i1"
          },
          "sizemode": "area",
          "sizeref": 0.17875,
          "symbol": "circle"
         },
         "mode": "markers+text",
         "name": "Gene Function",
         "orientation": "v",
         "showlegend": true,
         "text": {
          "bdata": "AAAAAAAALEA=",
          "dtype": "f8"
         },
         "type": "scatter",
         "x": {
          "bdata": "FA==",
          "dtype": "i1"
         },
         "xaxis": "x",
         "y": {
          "bdata": "AAAAAAAAXEA=",
          "dtype": "f8"
         },
         "yaxis": "y"
        },
        {
         "hovertemplate": "Category=Region-Defined<br>Number of Assertions=%{x}<br>Impact Score=%{y}<br>Number of Features=%{text}<extra></extra>",
         "legendgroup": "Region-Defined",
         "marker": {
          "color": "#FF97FF",
          "size": {
           "bdata": "KA==",
           "dtype": "i1"
          },
          "sizemode": "area",
          "sizeref": 0.17875,
          "symbol": "circle"
         },
         "mode": "markers+text",
         "name": "Region-Defined",
         "orientation": "v",
         "showlegend": true,
         "text": {
          "bdata": "AAAAAAAAREA=",
          "dtype": "f8"
         },
         "type": "scatter",
         "x": {
          "bdata": "bQ==",
          "dtype": "i1"
         },
         "xaxis": "x",
         "y": {
          "bdata": "AAAAAADAgkA=",
          "dtype": "f8"
         },
         "yaxis": "y"
        },
        {
         "hovertemplate": "Category=Genome Feature<br>Number of Assertions=%{x}<br>Impact Score=%{y}<br>Number of Features=%{text}<extra></extra>",
         "legendgroup": "Genome Feature",
         "marker": {
          "color": "#FECB52",
          "size": {
           "bdata": "AA==",
           "dtype": "i1"
          },
          "sizemode": "area",
          "sizeref": 0.17875,
          "symbol": "circle"
         },
         "mode": "markers+text",
         "name": "Genome Feature",
         "orientation": "v",
         "showlegend": true,
         "text": {
          "bdata": "AAAAAAAAAAA=",
          "dtype": "f8"
         },
         "type": "scatter",
         "x": {
          "bdata": "AA==",
          "dtype": "i1"
         },
         "xaxis": "x",
         "y": {
          "bdata": "AAAAAAAAAAA=",
          "dtype": "f8"
         },
         "yaxis": "y"
        },
        {
         "hovertemplate": "Category=Other<br>Number of Assertions=%{x}<br>Impact Score=%{y}<br>Number of Features=%{text}<extra></extra>",
         "legendgroup": "Other",
         "marker": {
          "color": "#636efa",
          "size": {
           "bdata": "DA==",
           "dtype": "i1"
          },
          "sizemode": "area",
          "sizeref": 0.17875,
          "symbol": "circle"
         },
         "mode": "markers+text",
         "name": "Other",
         "orientation": "v",
         "showlegend": true,
         "text": {
          "bdata": "AAAAAAAAKEA=",
          "dtype": "f8"
         },
         "type": "scatter",
         "x": {
          "bdata": "Hw==",
          "dtype": "i1"
         },
         "xaxis": "x",
         "y": {
          "bdata": "AAAAAADgaEA=",
          "dtype": "f8"
         },
         "yaxis": "y"
        },
        {
         "hovertemplate": "Category=Transcript<br>Number of Assertions=%{x}<br>Impact Score=%{y}<br>Number of Features=%{text}<extra></extra>",
         "legendgroup": "Transcript",
         "marker": {
          "color": "#EF553B",
          "size": {
           "bdata": "AA==",
           "dtype": "i1"
          },
          "sizemode": "area",
          "sizeref": 0.17875,
          "symbol": "circle"
         },
         "mode": "markers+text",
         "name": "Transcript",
         "orientation": "v",
         "showlegend": true,
         "text": {
          "bdata": "AAAAAAAAAAA=",
          "dtype": "f8"
         },
         "type": "scatter",
         "x": {
          "bdata": "AA==",
          "dtype": "i1"
         },
         "xaxis": "x",
         "y": {
          "bdata": "AAAAAAAAAAA=",
          "dtype": "f8"
         },
         "yaxis": "y"
        }
       ],
       "layout": {
        "legend": {
         "itemsizing": "constant",
         "title": {
          "text": "Category"
         },
         "tracegroupgap": 0
        },
        "margin": {
         "t": 60
        },
        "template": {
         "data": {
          "bar": [
           {
            "error_x": {
             "color": "#2a3f5f"
            },
            "error_y": {
             "color": "#2a3f5f"
            },
            "marker": {
             "line": {
              "color": "#E5ECF6",
              "width": 0.5
             },
             "pattern": {
              "fillmode": "overlay",
              "size": 10,
              "solidity": 0.2
             }
            },
            "type": "bar"
           }
          ],
          "barpolar": [
           {
            "marker": {
             "line": {
              "color": "#E5ECF6",
              "width": 0.5
             },
             "pattern": {
              "fillmode": "overlay",
              "size": 10,
              "solidity": 0.2
             }
            },
            "type": "barpolar"
           }
          ],
          "carpet": [
           {
            "aaxis": {
             "endlinecolor": "#2a3f5f",
             "gridcolor": "white",
             "linecolor": "white",
             "minorgridcolor": "white",
             "startlinecolor": "#2a3f5f"
            },
            "baxis": {
             "endlinecolor": "#2a3f5f",
             "gridcolor": "white",
             "linecolor": "white",
             "minorgridcolor": "white",
             "startlinecolor": "#2a3f5f"
            },
            "type": "carpet"
           }
          ],
          "choropleth": [
           {
            "colorbar": {
             "outlinewidth": 0,
             "ticks": ""
            },
            "type": "choropleth"
           }
          ],
          "contour": [
           {
            "colorbar": {
             "outlinewidth": 0,
             "ticks": ""
            },
            "colorscale": [
             [
              0,
              "#0d0887"
             ],
             [
              0.1111111111111111,
              "#46039f"
             ],
             [
              0.2222222222222222,
              "#7201a8"
             ],
             [
              0.3333333333333333,
              "#9c179e"
             ],
             [
              0.4444444444444444,
              "#bd3786"
             ],
             [
              0.5555555555555556,
              "#d8576b"
             ],
             [
              0.6666666666666666,
              "#ed7953"
             ],
             [
              0.7777777777777778,
              "#fb9f3a"
             ],
             [
              0.8888888888888888,
              "#fdca26"
             ],
             [
              1,
              "#f0f921"
             ]
            ],
            "type": "contour"
           }
          ],
          "contourcarpet": [
           {
            "colorbar": {
             "outlinewidth": 0,
             "ticks": ""
            },
            "type": "contourcarpet"
           }
          ],
          "heatmap": [
           {
            "colorbar": {
             "outlinewidth": 0,
             "ticks": ""
            },
            "colorscale": [
             [
              0,
              "#0d0887"
             ],
             [
              0.1111111111111111,
              "#46039f"
             ],
             [
              0.2222222222222222,
              "#7201a8"
             ],
             [
              0.3333333333333333,
              "#9c179e"
             ],
             [
              0.4444444444444444,
              "#bd3786"
             ],
             [
              0.5555555555555556,
              "#d8576b"
             ],
             [
              0.6666666666666666,
              "#ed7953"
             ],
             [
              0.7777777777777778,
              "#fb9f3a"
             ],
             [
              0.8888888888888888,
              "#fdca26"
             ],
             [
              1,
              "#f0f921"
             ]
            ],
            "type": "heatmap"
           }
          ],
          "histogram": [
           {
            "marker": {
             "pattern": {
              "fillmode": "overlay",
              "size": 10,
              "solidity": 0.2
             }
            },
            "type": "histogram"
           }
          ],
          "histogram2d": [
           {
            "colorbar": {
             "outlinewidth": 0,
             "ticks": ""
            },
            "colorscale": [
             [
              0,
              "#0d0887"
             ],
             [
              0.1111111111111111,
              "#46039f"
             ],
             [
              0.2222222222222222,
              "#7201a8"
             ],
             [
              0.3333333333333333,
              "#9c179e"
             ],
             [
              0.4444444444444444,
              "#bd3786"
             ],
             [
              0.5555555555555556,
              "#d8576b"
             ],
             [
              0.6666666666666666,
              "#ed7953"
             ],
             [
              0.7777777777777778,
              "#fb9f3a"
             ],
             [
              0.8888888888888888,
              "#fdca26"
             ],
             [
              1,
              "#f0f921"
             ]
            ],
            "type": "histogram2d"
           }
          ],
          "histogram2dcontour": [
           {
            "colorbar": {
             "outlinewidth": 0,
             "ticks": ""
            },
            "colorscale": [
             [
              0,
              "#0d0887"
             ],
             [
              0.1111111111111111,
              "#46039f"
             ],
             [
              0.2222222222222222,
              "#7201a8"
             ],
             [
              0.3333333333333333,
              "#9c179e"
             ],
             [
              0.4444444444444444,
              "#bd3786"
             ],
             [
              0.5555555555555556,
              "#d8576b"
             ],
             [
              0.6666666666666666,
              "#ed7953"
             ],
             [
              0.7777777777777778,
              "#fb9f3a"
             ],
             [
              0.8888888888888888,
              "#fdca26"
             ],
             [
              1,
              "#f0f921"
             ]
            ],
            "type": "histogram2dcontour"
           }
          ],
          "mesh3d": [
           {
            "colorbar": {
             "outlinewidth": 0,
             "ticks": ""
            },
            "type": "mesh3d"
           }
          ],
          "parcoords": [
           {
            "line": {
             "colorbar": {
              "outlinewidth": 0,
              "ticks": ""
             }
            },
            "type": "parcoords"
           }
          ],
          "pie": [
           {
            "automargin": true,
            "type": "pie"
           }
          ],
          "scatter": [
           {
            "fillpattern": {
             "fillmode": "overlay",
             "size": 10,
             "solidity": 0.2
            },
            "type": "scatter"
           }
          ],
          "scatter3d": [
           {
            "line": {
             "colorbar": {
              "outlinewidth": 0,
              "ticks": ""
             }
            },
            "marker": {
             "colorbar": {
              "outlinewidth": 0,
              "ticks": ""
             }
            },
            "type": "scatter3d"
           }
          ],
          "scattercarpet": [
           {
            "marker": {
             "colorbar": {
              "outlinewidth": 0,
              "ticks": ""
             }
            },
            "type": "scattercarpet"
           }
          ],
          "scattergeo": [
           {
            "marker": {
             "colorbar": {
              "outlinewidth": 0,
              "ticks": ""
             }
            },
            "type": "scattergeo"
           }
          ],
          "scattergl": [
           {
            "marker": {
             "colorbar": {
              "outlinewidth": 0,
              "ticks": ""
             }
            },
            "type": "scattergl"
           }
          ],
          "scattermap": [
           {
            "marker": {
             "colorbar": {
              "outlinewidth": 0,
              "ticks": ""
             }
            },
            "type": "scattermap"
           }
          ],
          "scattermapbox": [
           {
            "marker": {
             "colorbar": {
              "outlinewidth": 0,
              "ticks": ""
             }
            },
            "type": "scattermapbox"
           }
          ],
          "scatterpolar": [
           {
            "marker": {
             "colorbar": {
              "outlinewidth": 0,
              "ticks": ""
             }
            },
            "type": "scatterpolar"
           }
          ],
          "scatterpolargl": [
           {
            "marker": {
             "colorbar": {
              "outlinewidth": 0,
              "ticks": ""
             }
            },
            "type": "scatterpolargl"
           }
          ],
          "scatterternary": [
           {
            "marker": {
             "colorbar": {
              "outlinewidth": 0,
              "ticks": ""
             }
            },
            "type": "scatterternary"
           }
          ],
          "surface": [
           {
            "colorbar": {
             "outlinewidth": 0,
             "ticks": ""
            },
            "colorscale": [
             [
              0,
              "#0d0887"
             ],
             [
              0.1111111111111111,
              "#46039f"
             ],
             [
              0.2222222222222222,
              "#7201a8"
             ],
             [
              0.3333333333333333,
              "#9c179e"
             ],
             [
              0.4444444444444444,
              "#bd3786"
             ],
             [
              0.5555555555555556,
              "#d8576b"
             ],
             [
              0.6666666666666666,
              "#ed7953"
             ],
             [
              0.7777777777777778,
              "#fb9f3a"
             ],
             [
              0.8888888888888888,
              "#fdca26"
             ],
             [
              1,
              "#f0f921"
             ]
            ],
            "type": "surface"
           }
          ],
          "table": [
           {
            "cells": {
             "fill": {
              "color": "#EBF0F8"
             },
             "line": {
              "color": "white"
             }
            },
            "header": {
             "fill": {
              "color": "#C8D4E3"
             },
             "line": {
              "color": "white"
             }
            },
            "type": "table"
           }
          ]
         },
         "layout": {
          "annotationdefaults": {
           "arrowcolor": "#2a3f5f",
           "arrowhead": 0,
           "arrowwidth": 1
          },
          "autotypenumbers": "strict",
          "coloraxis": {
           "colorbar": {
            "outlinewidth": 0,
            "ticks": ""
           }
          },
          "colorscale": {
           "diverging": [
            [
             0,
             "#8e0152"
            ],
            [
             0.1,
             "#c51b7d"
            ],
            [
             0.2,
             "#de77ae"
            ],
            [
             0.3,
             "#f1b6da"
            ],
            [
             0.4,
             "#fde0ef"
            ],
            [
             0.5,
             "#f7f7f7"
            ],
            [
             0.6,
             "#e6f5d0"
            ],
            [
             0.7,
             "#b8e186"
            ],
            [
             0.8,
             "#7fbc41"
            ],
            [
             0.9,
             "#4d9221"
            ],
            [
             1,
             "#276419"
            ]
           ],
           "sequential": [
            [
             0,
             "#0d0887"
            ],
            [
             0.1111111111111111,
             "#46039f"
            ],
            [
             0.2222222222222222,
             "#7201a8"
            ],
            [
             0.3333333333333333,
             "#9c179e"
            ],
            [
             0.4444444444444444,
             "#bd3786"
            ],
            [
             0.5555555555555556,
             "#d8576b"
            ],
            [
             0.6666666666666666,
             "#ed7953"
            ],
            [
             0.7777777777777778,
             "#fb9f3a"
            ],
            [
             0.8888888888888888,
             "#fdca26"
            ],
            [
             1,
             "#f0f921"
            ]
           ],
           "sequentialminus": [
            [
             0,
             "#0d0887"
            ],
            [
             0.1111111111111111,
             "#46039f"
            ],
            [
             0.2222222222222222,
             "#7201a8"
            ],
            [
             0.3333333333333333,
             "#9c179e"
            ],
            [
             0.4444444444444444,
             "#bd3786"
            ],
            [
             0.5555555555555556,
             "#d8576b"
            ],
            [
             0.6666666666666666,
             "#ed7953"
            ],
            [
             0.7777777777777778,
             "#fb9f3a"
            ],
            [
             0.8888888888888888,
             "#fdca26"
            ],
            [
             1,
             "#f0f921"
            ]
           ]
          },
          "colorway": [
           "#636efa",
           "#EF553B",
           "#00cc96",
           "#ab63fa",
           "#FFA15A",
           "#19d3f3",
           "#FF6692",
           "#B6E880",
           "#FF97FF",
           "#FECB52"
          ],
          "font": {
           "color": "#2a3f5f"
          },
          "geo": {
           "bgcolor": "white",
           "lakecolor": "white",
           "landcolor": "#E5ECF6",
           "showlakes": true,
           "showland": true,
           "subunitcolor": "white"
          },
          "hoverlabel": {
           "align": "left"
          },
          "hovermode": "closest",
          "mapbox": {
           "style": "light"
          },
          "paper_bgcolor": "white",
          "plot_bgcolor": "#E5ECF6",
          "polar": {
           "angularaxis": {
            "gridcolor": "white",
            "linecolor": "white",
            "ticks": ""
           },
           "bgcolor": "#E5ECF6",
           "radialaxis": {
            "gridcolor": "white",
            "linecolor": "white",
            "ticks": ""
           }
          },
          "scene": {
           "xaxis": {
            "backgroundcolor": "#E5ECF6",
            "gridcolor": "white",
            "gridwidth": 2,
            "linecolor": "white",
            "showbackground": true,
            "ticks": "",
            "zerolinecolor": "white"
           },
           "yaxis": {
            "backgroundcolor": "#E5ECF6",
            "gridcolor": "white",
            "gridwidth": 2,
            "linecolor": "white",
            "showbackground": true,
            "ticks": "",
            "zerolinecolor": "white"
           },
           "zaxis": {
            "backgroundcolor": "#E5ECF6",
            "gridcolor": "white",
            "gridwidth": 2,
            "linecolor": "white",
            "showbackground": true,
            "ticks": "",
            "zerolinecolor": "white"
           }
          },
          "shapedefaults": {
           "line": {
            "color": "#2a3f5f"
           }
          },
          "ternary": {
           "aaxis": {
            "gridcolor": "white",
            "linecolor": "white",
            "ticks": ""
           },
           "baxis": {
            "gridcolor": "white",
            "linecolor": "white",
            "ticks": ""
           },
           "bgcolor": "#E5ECF6",
           "caxis": {
            "gridcolor": "white",
            "linecolor": "white",
            "ticks": ""
           }
          },
          "title": {
           "x": 0.05
          },
          "xaxis": {
           "automargin": true,
           "gridcolor": "white",
           "linecolor": "white",
           "ticks": "",
           "title": {
            "standoff": 15
           },
           "zerolinecolor": "white",
           "zerolinewidth": 2
          },
          "yaxis": {
           "automargin": true,
           "gridcolor": "white",
           "linecolor": "white",
           "ticks": "",
           "title": {
            "standoff": 15
           },
           "zerolinecolor": "white",
           "zerolinewidth": 2
          }
         }
        },
        "xaxis": {
         "anchor": "y",
         "domain": [
          0,
          1
         ],
         "title": {
          "text": "Number of Assertions"
         }
        },
        "yaxis": {
         "anchor": "x",
         "domain": [
          0,
          1
         ],
         "title": {
          "text": "Impact Score"
         }
        }
       }
      }
     },
     "metadata": {},
     "output_type": "display_data"
    }
   ],
   "source": [
    "fig = px.scatter(\n",
    "    data_frame=moa_feature_df,\n",
    "    x=\"Number of Assertions\",\n",
    "    y=\"Impact Score\",\n",
    "    size=\"Number of Features\",\n",
    "    size_max=40,\n",
    "    text=\"Number of Features\",\n",
    "    color=\"Category\",\n",
    ")\n",
    "fig.show()"
   ]
  },
  {
   "cell_type": "code",
   "execution_count": 33,
   "metadata": {},
   "outputs": [],
   "source": [
    "fig.write_html(\"output/moa_feature_categories_impact_scatterplot.html\")"
   ]
  },
  {
   "cell_type": "markdown",
   "metadata": {},
   "source": [
    "## <a id='toc1_4_'></a>[Create functions / global variables used in analysis](#toc0_)"
   ]
  },
  {
   "cell_type": "code",
   "execution_count": 34,
   "metadata": {},
   "outputs": [
    {
     "data": {
      "text/plain": [
       "{'Variant Category': ['Normalized', 'Not Supported'],\n",
       " 'Count of MOA Features per Category': [],\n",
       " 'Fraction of all MOA Features': [],\n",
       " 'Percent of all MOA Features': []}"
      ]
     },
     "execution_count": 34,
     "metadata": {},
     "output_type": "execute_result"
    }
   ],
   "source": [
    "feature_analysis_summary = {\n",
    "    \"Variant Category\": VARIANT_NORM_TYPE_VALUES,\n",
    "    \"Count of MOA Features per Category\": [],\n",
    "    \"Fraction of all MOA Features\": [],\n",
    "    \"Percent of all MOA Features\": [],\n",
    "}\n",
    "feature_analysis_summary"
   ]
  },
  {
   "cell_type": "code",
   "execution_count": 35,
   "metadata": {},
   "outputs": [],
   "source": [
    "def feature_analysis(\n",
    "    df: pd.DataFrame, variant_norm_type: VariantNormType\n",
    ") -> pd.DataFrame:\n",
    "    \"\"\"Do feature analysis (counts, percents). Updates `feature_analysis_summary`\n",
    "\n",
    "    :param df: Dataframe of variants\n",
    "    :param variant_norm_type: The kind of features that are in `df`\n",
    "    :return: Transformed dataframe with variant ID duplicates dropped\n",
    "    \"\"\"\n",
    "    # Drop duplicate rows\n",
    "    df = df.drop_duplicates(subset=[\"feature_id\"])\n",
    "    feature_ids = list(df[\"feature_id\"])\n",
    "\n",
    "    # Count\n",
    "    num_features = len(feature_ids)\n",
    "    fraction_features = f\"{num_features} / {total_len_features}\"\n",
    "    print(f\"\\nNumber of {variant_norm_type.value} Features in MOA: {fraction_features}\")\n",
    "\n",
    "    # Percent\n",
    "    percent_features = f\"{num_features / total_len_features * 100:.2f}%\"\n",
    "    print(f\"Percent of {variant_norm_type.value} Features in MOA: {percent_features}\")\n",
    "\n",
    "    feature_analysis_summary[\"Count of MOA Features per Category\"].append(num_features)\n",
    "    feature_analysis_summary[\"Fraction of all MOA Features\"].append(fraction_features)\n",
    "    feature_analysis_summary[\"Percent of all MOA Features\"].append(percent_features)\n",
    "\n",
    "    return df"
   ]
  },
  {
   "cell_type": "code",
   "execution_count": 36,
   "metadata": {},
   "outputs": [
    {
     "data": {
      "text/plain": [
       "{'Variant Category': ['Normalized', 'Not Supported'],\n",
       " 'Count of MOA Assertions per Category': [],\n",
       " 'Fraction of all MOA Assertions': [],\n",
       " 'Percent of all MOA Assertions': []}"
      ]
     },
     "execution_count": 36,
     "metadata": {},
     "output_type": "execute_result"
    }
   ],
   "source": [
    "assertion_analysis_summary = {\n",
    "    \"Variant Category\": VARIANT_NORM_TYPE_VALUES,\n",
    "    \"Count of MOA Assertions per Category\": [],\n",
    "    \"Fraction of all MOA Assertions\": [],\n",
    "    \"Percent of all MOA Assertions\": [],\n",
    "}\n",
    "assertion_analysis_summary"
   ]
  },
  {
   "cell_type": "code",
   "execution_count": 37,
   "metadata": {},
   "outputs": [],
   "source": [
    "def assertion_analysis(\n",
    "    all_df: pd.DataFrame,\n",
    "    variant_norm_df: pd.DataFrame,\n",
    "    variant_norm_type: VariantNormType,\n",
    ") -> str:\n",
    "    \"\"\"Do evidence analysis (counts, percents). Updates `assertion_analysis_summary`\n",
    "\n",
    "    :param all_df: Dataframe for all assertions and features\n",
    "    :param variant_norm_df: Dataframe for features given certain `variant_norm_type`\n",
    "    :param variant_norm_type: The kind of variants that are in `df`\n",
    "    :return: a string with the evidence counts and percents per category\n",
    "    \"\"\"\n",
    "    # Need to do this bc of duplicate features\n",
    "    _feature_ids = set(variant_norm_df.feature_digest)\n",
    "    tmp_df = all_df[all_df[\"feature_digest\"].isin(_feature_ids)]\n",
    "\n",
    "    # Count\n",
    "    num_assertions = len(tmp_df.assertion_id)\n",
    "    fraction_assertions = f\"{num_assertions} / {total_len_assertions}\"\n",
    "    print(\n",
    "        f\"Number of {variant_norm_type.value} Feature Assertions in MOA: {fraction_assertions}\"\n",
    "    )\n",
    "\n",
    "    # Percent\n",
    "    percent_assertions = f\"{num_assertions / total_len_assertions * 100:.2f}%\"\n",
    "    print(\n",
    "        f\"Percent of {variant_norm_type.value} Feature Assertions in MOA: {percent_assertions}\"\n",
    "    )\n",
    "\n",
    "    assertion_analysis_summary[\"Count of MOA Assertions per Category\"].append(\n",
    "        num_assertions\n",
    "    )\n",
    "    assertion_analysis_summary[\"Fraction of all MOA Assertions\"].append(\n",
    "        fraction_assertions\n",
    "    )\n",
    "    assertion_analysis_summary[\"Percent of all MOA Assertions\"].append(\n",
    "        percent_assertions\n",
    "    )"
   ]
  },
  {
   "cell_type": "code",
   "execution_count": 38,
   "metadata": {},
   "outputs": [
    {
     "data": {
      "text/html": [
       "<div>\n",
       "<style scoped>\n",
       "    .dataframe tbody tr th:only-of-type {\n",
       "        vertical-align: middle;\n",
       "    }\n",
       "\n",
       "    .dataframe tbody tr th {\n",
       "        vertical-align: top;\n",
       "    }\n",
       "\n",
       "    .dataframe thead th {\n",
       "        text-align: right;\n",
       "    }\n",
       "</style>\n",
       "<table border=\"1\" class=\"dataframe\">\n",
       "  <thead>\n",
       "    <tr style=\"text-align: right;\">\n",
       "      <th></th>\n",
       "      <th>feature_id</th>\n",
       "      <th>feature_digest</th>\n",
       "    </tr>\n",
       "  </thead>\n",
       "  <tbody>\n",
       "    <tr>\n",
       "      <th>0</th>\n",
       "      <td>1</td>\n",
       "      <td>RnRyn89cJzVbVM93aw4OA44NIF5zblyP</td>\n",
       "    </tr>\n",
       "    <tr>\n",
       "      <th>1</th>\n",
       "      <td>2</td>\n",
       "      <td>RnRyn89cJzVbVM93aw4OA44NIF5zblyP</td>\n",
       "    </tr>\n",
       "    <tr>\n",
       "      <th>2</th>\n",
       "      <td>3</td>\n",
       "      <td>RnRyn89cJzVbVM93aw4OA44NIF5zblyP</td>\n",
       "    </tr>\n",
       "    <tr>\n",
       "      <th>3</th>\n",
       "      <td>4</td>\n",
       "      <td>RnRyn89cJzVbVM93aw4OA44NIF5zblyP</td>\n",
       "    </tr>\n",
       "    <tr>\n",
       "      <th>4</th>\n",
       "      <td>5</td>\n",
       "      <td>RnRyn89cJzVbVM93aw4OA44NIF5zblyP</td>\n",
       "    </tr>\n",
       "    <tr>\n",
       "      <th>...</th>\n",
       "      <td>...</td>\n",
       "      <td>...</td>\n",
       "    </tr>\n",
       "    <tr>\n",
       "      <th>1002</th>\n",
       "      <td>1006</td>\n",
       "      <td>IpbUYvcvcPuvnET_IyVv-Yi_IUKddyvg</td>\n",
       "    </tr>\n",
       "    <tr>\n",
       "      <th>1003</th>\n",
       "      <td>1007</td>\n",
       "      <td>fakcYvzKfW8iRc3NOsxpYAHNWzO2rJtS</td>\n",
       "    </tr>\n",
       "    <tr>\n",
       "      <th>1004</th>\n",
       "      <td>1008</td>\n",
       "      <td>yzNjLPO2biW_kdgqdjlMQXAEzDMrTxin</td>\n",
       "    </tr>\n",
       "    <tr>\n",
       "      <th>1005</th>\n",
       "      <td>1009</td>\n",
       "      <td>fakcYvzKfW8iRc3NOsxpYAHNWzO2rJtS</td>\n",
       "    </tr>\n",
       "    <tr>\n",
       "      <th>1006</th>\n",
       "      <td>1010</td>\n",
       "      <td>oHtby6jRuinPh1qwnS0YyEcfrARBfBcd</td>\n",
       "    </tr>\n",
       "  </tbody>\n",
       "</table>\n",
       "<p>1007 rows × 2 columns</p>\n",
       "</div>"
      ],
      "text/plain": [
       "      feature_id                    feature_digest\n",
       "0              1  RnRyn89cJzVbVM93aw4OA44NIF5zblyP\n",
       "1              2  RnRyn89cJzVbVM93aw4OA44NIF5zblyP\n",
       "2              3  RnRyn89cJzVbVM93aw4OA44NIF5zblyP\n",
       "3              4  RnRyn89cJzVbVM93aw4OA44NIF5zblyP\n",
       "4              5  RnRyn89cJzVbVM93aw4OA44NIF5zblyP\n",
       "...          ...                               ...\n",
       "1002        1006  IpbUYvcvcPuvnET_IyVv-Yi_IUKddyvg\n",
       "1003        1007  fakcYvzKfW8iRc3NOsxpYAHNWzO2rJtS\n",
       "1004        1008  yzNjLPO2biW_kdgqdjlMQXAEzDMrTxin\n",
       "1005        1009  fakcYvzKfW8iRc3NOsxpYAHNWzO2rJtS\n",
       "1006        1010  oHtby6jRuinPh1qwnS0YyEcfrARBfBcd\n",
       "\n",
       "[1007 rows x 2 columns]"
      ]
     },
     "execution_count": 38,
     "metadata": {},
     "output_type": "execute_result"
    }
   ],
   "source": [
    "feature_id_to_digest_df = pd.DataFrame(\n",
    "    feature_id_to_digest.items(), columns=[\"feature_id\", \"feature_digest\"]\n",
    ")\n",
    "feature_id_to_digest_df"
   ]
  },
  {
   "cell_type": "markdown",
   "metadata": {},
   "source": [
    "## <a id='toc1_5_'></a>[Normalized Analysis](#toc0_)"
   ]
  },
  {
   "cell_type": "code",
   "execution_count": 39,
   "metadata": {},
   "outputs": [
    {
     "data": {
      "text/plain": [
       "(196, 7)"
      ]
     },
     "execution_count": 39,
     "metadata": {},
     "output_type": "execute_result"
    }
   ],
   "source": [
    "normalized_queries_df = pd.read_csv(\n",
    "    \"../feature_analysis/able_to_normalize_queries.tsv\", sep=\"\\t\"\n",
    ")\n",
    "normalized_queries_df = pd.merge(\n",
    "    normalized_queries_df,\n",
    "    feature_id_to_digest_df,\n",
    "    left_on=\"variant_id\",\n",
    "    right_on=\"feature_id\",\n",
    ")\n",
    "normalized_queries_df.shape"
   ]
  },
  {
   "cell_type": "code",
   "execution_count": 40,
   "metadata": {},
   "outputs": [],
   "source": [
    "normalized_queries_df = pd.merge(\n",
    "    normalized_queries_df[\"variant_id\"],\n",
    "    moa_df,\n",
    "    left_on=\"variant_id\",\n",
    "    right_on=\"feature_id\",\n",
    "    how=\"left\",\n",
    ")\n",
    "normalized_queries_df = normalized_queries_df.drop(columns=[\"variant_id\"])"
   ]
  },
  {
   "cell_type": "code",
   "execution_count": 41,
   "metadata": {},
   "outputs": [
    {
     "name": "stdout",
     "output_type": "stream",
     "text": [
      "\n",
      "Number of Normalized Features in MOA: 196 / 452\n",
      "Percent of Normalized Features in MOA: 43.36%\n"
     ]
    },
    {
     "data": {
      "text/html": [
       "<div>\n",
       "<style scoped>\n",
       "    .dataframe tbody tr th:only-of-type {\n",
       "        vertical-align: middle;\n",
       "    }\n",
       "\n",
       "    .dataframe tbody tr th {\n",
       "        vertical-align: top;\n",
       "    }\n",
       "\n",
       "    .dataframe thead th {\n",
       "        text-align: right;\n",
       "    }\n",
       "</style>\n",
       "<table border=\"1\" class=\"dataframe\">\n",
       "  <thead>\n",
       "    <tr style=\"text-align: right;\">\n",
       "      <th></th>\n",
       "      <th>assertion_id</th>\n",
       "      <th>feature_id</th>\n",
       "      <th>feature_type</th>\n",
       "      <th>predictive_implication</th>\n",
       "      <th>feature_digest</th>\n",
       "      <th>category</th>\n",
       "      <th>impact_score</th>\n",
       "    </tr>\n",
       "  </thead>\n",
       "  <tbody>\n",
       "    <tr>\n",
       "      <th>0</th>\n",
       "      <td>66</td>\n",
       "      <td>66</td>\n",
       "      <td>somatic_variant</td>\n",
       "      <td>Preclinical</td>\n",
       "      <td>1ZF2zGmQI4p_iTMPh7nkrUKJ77tIOkGq</td>\n",
       "      <td>Sequence</td>\n",
       "      <td>1</td>\n",
       "    </tr>\n",
       "    <tr>\n",
       "      <th>1</th>\n",
       "      <td>68</td>\n",
       "      <td>68</td>\n",
       "      <td>somatic_variant</td>\n",
       "      <td>Clinical evidence</td>\n",
       "      <td>j3HtSnIdrU8CcuW8_Qs3qVxOn-kMJV1T</td>\n",
       "      <td>Sequence</td>\n",
       "      <td>5</td>\n",
       "    </tr>\n",
       "    <tr>\n",
       "      <th>2</th>\n",
       "      <td>70</td>\n",
       "      <td>70</td>\n",
       "      <td>somatic_variant</td>\n",
       "      <td>Clinical evidence</td>\n",
       "      <td>X_Az48pPjt4IODuY2a50Yl2_1tGopcuF</td>\n",
       "      <td>Sequence</td>\n",
       "      <td>5</td>\n",
       "    </tr>\n",
       "    <tr>\n",
       "      <th>3</th>\n",
       "      <td>71</td>\n",
       "      <td>71</td>\n",
       "      <td>somatic_variant</td>\n",
       "      <td>Clinical evidence</td>\n",
       "      <td>LQQXFXpA4FCOQ3Fz4988x2vynER4J-Wh</td>\n",
       "      <td>Sequence</td>\n",
       "      <td>5</td>\n",
       "    </tr>\n",
       "    <tr>\n",
       "      <th>4</th>\n",
       "      <td>72</td>\n",
       "      <td>72</td>\n",
       "      <td>somatic_variant</td>\n",
       "      <td>Clinical evidence</td>\n",
       "      <td>DKoCqZUY0WBdUnoly9DL_PAjBBZTs51d</td>\n",
       "      <td>Sequence</td>\n",
       "      <td>5</td>\n",
       "    </tr>\n",
       "    <tr>\n",
       "      <th>...</th>\n",
       "      <td>...</td>\n",
       "      <td>...</td>\n",
       "      <td>...</td>\n",
       "      <td>...</td>\n",
       "      <td>...</td>\n",
       "      <td>...</td>\n",
       "      <td>...</td>\n",
       "    </tr>\n",
       "    <tr>\n",
       "      <th>191</th>\n",
       "      <td>933</td>\n",
       "      <td>933</td>\n",
       "      <td>somatic_variant</td>\n",
       "      <td>Guideline</td>\n",
       "      <td>IPk4rQ1eAdyoX-M6VQliEu-bO6FGh7SI</td>\n",
       "      <td>Sequence</td>\n",
       "      <td>10</td>\n",
       "    </tr>\n",
       "    <tr>\n",
       "      <th>192</th>\n",
       "      <td>934</td>\n",
       "      <td>934</td>\n",
       "      <td>somatic_variant</td>\n",
       "      <td>Guideline</td>\n",
       "      <td>n-ihfI4tIYL5o_cqV68kGTK-TRGFDn4s</td>\n",
       "      <td>Sequence</td>\n",
       "      <td>10</td>\n",
       "    </tr>\n",
       "    <tr>\n",
       "      <th>193</th>\n",
       "      <td>935</td>\n",
       "      <td>935</td>\n",
       "      <td>somatic_variant</td>\n",
       "      <td>Guideline</td>\n",
       "      <td>1KbdWJrRMPrBqij9mYcz0e2eBiJOBk2b</td>\n",
       "      <td>Sequence</td>\n",
       "      <td>10</td>\n",
       "    </tr>\n",
       "    <tr>\n",
       "      <th>194</th>\n",
       "      <td>982</td>\n",
       "      <td>982</td>\n",
       "      <td>somatic_variant</td>\n",
       "      <td>FDA-Approved</td>\n",
       "      <td>jsnDTkZjGqQYzYDrnV2j1QT8adztw8Cx</td>\n",
       "      <td>Sequence</td>\n",
       "      <td>10</td>\n",
       "    </tr>\n",
       "    <tr>\n",
       "      <th>195</th>\n",
       "      <td>1010</td>\n",
       "      <td>1010</td>\n",
       "      <td>somatic_variant</td>\n",
       "      <td>FDA-Approved</td>\n",
       "      <td>oHtby6jRuinPh1qwnS0YyEcfrARBfBcd</td>\n",
       "      <td>Sequence</td>\n",
       "      <td>10</td>\n",
       "    </tr>\n",
       "  </tbody>\n",
       "</table>\n",
       "<p>196 rows × 7 columns</p>\n",
       "</div>"
      ],
      "text/plain": [
       "     assertion_id  feature_id     feature_type predictive_implication  \\\n",
       "0              66          66  somatic_variant            Preclinical   \n",
       "1              68          68  somatic_variant      Clinical evidence   \n",
       "2              70          70  somatic_variant      Clinical evidence   \n",
       "3              71          71  somatic_variant      Clinical evidence   \n",
       "4              72          72  somatic_variant      Clinical evidence   \n",
       "..            ...         ...              ...                    ...   \n",
       "191           933         933  somatic_variant              Guideline   \n",
       "192           934         934  somatic_variant              Guideline   \n",
       "193           935         935  somatic_variant              Guideline   \n",
       "194           982         982  somatic_variant           FDA-Approved   \n",
       "195          1010        1010  somatic_variant           FDA-Approved   \n",
       "\n",
       "                       feature_digest  category impact_score  \n",
       "0    1ZF2zGmQI4p_iTMPh7nkrUKJ77tIOkGq  Sequence            1  \n",
       "1    j3HtSnIdrU8CcuW8_Qs3qVxOn-kMJV1T  Sequence            5  \n",
       "2    X_Az48pPjt4IODuY2a50Yl2_1tGopcuF  Sequence            5  \n",
       "3    LQQXFXpA4FCOQ3Fz4988x2vynER4J-Wh  Sequence            5  \n",
       "4    DKoCqZUY0WBdUnoly9DL_PAjBBZTs51d  Sequence            5  \n",
       "..                                ...       ...          ...  \n",
       "191  IPk4rQ1eAdyoX-M6VQliEu-bO6FGh7SI  Sequence           10  \n",
       "192  n-ihfI4tIYL5o_cqV68kGTK-TRGFDn4s  Sequence           10  \n",
       "193  1KbdWJrRMPrBqij9mYcz0e2eBiJOBk2b  Sequence           10  \n",
       "194  jsnDTkZjGqQYzYDrnV2j1QT8adztw8Cx  Sequence           10  \n",
       "195  oHtby6jRuinPh1qwnS0YyEcfrARBfBcd  Sequence           10  \n",
       "\n",
       "[196 rows x 7 columns]"
      ]
     },
     "execution_count": 41,
     "metadata": {},
     "output_type": "execute_result"
    }
   ],
   "source": [
    "normalized_queries_df = feature_analysis(\n",
    "    normalized_queries_df, VariantNormType.NORMALIZED\n",
    ")\n",
    "normalized_queries_df"
   ]
  },
  {
   "cell_type": "code",
   "execution_count": 42,
   "metadata": {},
   "outputs": [
    {
     "name": "stdout",
     "output_type": "stream",
     "text": [
      "Number of Normalized Feature Assertions in MOA: 391 / 1007\n",
      "Percent of Normalized Feature Assertions in MOA: 38.83%\n"
     ]
    }
   ],
   "source": [
    "assertion_analysis(moa_df, normalized_queries_df, VariantNormType.NORMALIZED)"
   ]
  },
  {
   "cell_type": "markdown",
   "metadata": {},
   "source": [
    "## <a id='toc1_6_'></a>[Not Supported Analysis](#toc0_)"
   ]
  },
  {
   "cell_type": "code",
   "execution_count": 43,
   "metadata": {},
   "outputs": [
    {
     "data": {
      "text/plain": [
       "(256, 6)"
      ]
     },
     "execution_count": 43,
     "metadata": {},
     "output_type": "execute_result"
    }
   ],
   "source": [
    "not_supported_queries_df = pd.read_csv(\n",
    "    \"../feature_analysis/not_supported_variants.tsv\", sep=\"\\t\"\n",
    ")\n",
    "not_supported_queries_df = pd.merge(\n",
    "    not_supported_queries_df,\n",
    "    feature_id_to_digest_df,\n",
    "    left_on=\"variant_id\",\n",
    "    right_on=\"feature_id\",\n",
    ")\n",
    "not_supported_queries_df.shape"
   ]
  },
  {
   "cell_type": "code",
   "execution_count": 44,
   "metadata": {},
   "outputs": [
    {
     "data": {
      "text/html": [
       "<div>\n",
       "<style scoped>\n",
       "    .dataframe tbody tr th:only-of-type {\n",
       "        vertical-align: middle;\n",
       "    }\n",
       "\n",
       "    .dataframe tbody tr th {\n",
       "        vertical-align: top;\n",
       "    }\n",
       "\n",
       "    .dataframe thead th {\n",
       "        text-align: right;\n",
       "    }\n",
       "</style>\n",
       "<table border=\"1\" class=\"dataframe\">\n",
       "  <thead>\n",
       "    <tr style=\"text-align: right;\">\n",
       "      <th></th>\n",
       "      <th>assertion_id</th>\n",
       "      <th>feature_id</th>\n",
       "      <th>feature_type</th>\n",
       "      <th>predictive_implication</th>\n",
       "      <th>feature_digest</th>\n",
       "      <th>category</th>\n",
       "      <th>impact_score</th>\n",
       "    </tr>\n",
       "  </thead>\n",
       "  <tbody>\n",
       "    <tr>\n",
       "      <th>0</th>\n",
       "      <td>1</td>\n",
       "      <td>1</td>\n",
       "      <td>rearrangement</td>\n",
       "      <td>FDA-Approved</td>\n",
       "      <td>RnRyn89cJzVbVM93aw4OA44NIF5zblyP</td>\n",
       "      <td>Rearrangement</td>\n",
       "      <td>10</td>\n",
       "    </tr>\n",
       "    <tr>\n",
       "      <th>1</th>\n",
       "      <td>9</td>\n",
       "      <td>9</td>\n",
       "      <td>rearrangement</td>\n",
       "      <td>FDA-Approved</td>\n",
       "      <td>g99yF3kKnB-We_fMS5RaVygoSuT7qA-I</td>\n",
       "      <td>Rearrangement</td>\n",
       "      <td>10</td>\n",
       "    </tr>\n",
       "    <tr>\n",
       "      <th>2</th>\n",
       "      <td>12</td>\n",
       "      <td>12</td>\n",
       "      <td>rearrangement</td>\n",
       "      <td>FDA-Approved</td>\n",
       "      <td>e8PMq2A96-aBJ3Ip74ovx5VOUCztBTq7</td>\n",
       "      <td>Rearrangement</td>\n",
       "      <td>10</td>\n",
       "    </tr>\n",
       "    <tr>\n",
       "      <th>3</th>\n",
       "      <td>15</td>\n",
       "      <td>15</td>\n",
       "      <td>rearrangement</td>\n",
       "      <td>Guideline</td>\n",
       "      <td>DxfRiRV-3J6zRON4pnzNJjXkJf2bsp20</td>\n",
       "      <td>Rearrangement</td>\n",
       "      <td>10</td>\n",
       "    </tr>\n",
       "    <tr>\n",
       "      <th>4</th>\n",
       "      <td>18</td>\n",
       "      <td>18</td>\n",
       "      <td>rearrangement</td>\n",
       "      <td>Preclinical</td>\n",
       "      <td>BRsPjsZSCyDXnKtBt9XgsWX2JDNWY3FP</td>\n",
       "      <td>Rearrangement</td>\n",
       "      <td>1</td>\n",
       "    </tr>\n",
       "    <tr>\n",
       "      <th>...</th>\n",
       "      <td>...</td>\n",
       "      <td>...</td>\n",
       "      <td>...</td>\n",
       "      <td>...</td>\n",
       "      <td>...</td>\n",
       "      <td>...</td>\n",
       "      <td>...</td>\n",
       "    </tr>\n",
       "    <tr>\n",
       "      <th>251</th>\n",
       "      <td>956</td>\n",
       "      <td>956</td>\n",
       "      <td>somatic_variant</td>\n",
       "      <td>FDA-Approved</td>\n",
       "      <td>YOntQn-fL_3YdCwEFEqpVCNmzzxC8-4-</td>\n",
       "      <td>Sequence</td>\n",
       "      <td>10</td>\n",
       "    </tr>\n",
       "    <tr>\n",
       "      <th>252</th>\n",
       "      <td>964</td>\n",
       "      <td>964</td>\n",
       "      <td>rearrangement</td>\n",
       "      <td>FDA-Approved</td>\n",
       "      <td>yLodZXr73fFWpx8cIHv0ulWvyaHZcuO7</td>\n",
       "      <td>Rearrangement</td>\n",
       "      <td>10</td>\n",
       "    </tr>\n",
       "    <tr>\n",
       "      <th>253</th>\n",
       "      <td>965</td>\n",
       "      <td>965</td>\n",
       "      <td>rearrangement</td>\n",
       "      <td>FDA-Approved</td>\n",
       "      <td>sHaHVeGtfC5xdUaPl-qWIoSkAwucCCJF</td>\n",
       "      <td>Rearrangement</td>\n",
       "      <td>10</td>\n",
       "    </tr>\n",
       "    <tr>\n",
       "      <th>254</th>\n",
       "      <td>1001</td>\n",
       "      <td>1001</td>\n",
       "      <td>rearrangement</td>\n",
       "      <td>FDA-Approved</td>\n",
       "      <td>ovD4rWJe1XrPFmQlHBHX5hm8pfN9rEXQ</td>\n",
       "      <td>Rearrangement</td>\n",
       "      <td>10</td>\n",
       "    </tr>\n",
       "    <tr>\n",
       "      <th>255</th>\n",
       "      <td>1003</td>\n",
       "      <td>1003</td>\n",
       "      <td>rearrangement</td>\n",
       "      <td>FDA-Approved</td>\n",
       "      <td>Chis-9OH0cmLqTXQ87vB8KTXLeavBm0S</td>\n",
       "      <td>Rearrangement</td>\n",
       "      <td>10</td>\n",
       "    </tr>\n",
       "  </tbody>\n",
       "</table>\n",
       "<p>256 rows × 7 columns</p>\n",
       "</div>"
      ],
      "text/plain": [
       "     assertion_id  feature_id     feature_type predictive_implication  \\\n",
       "0               1           1    rearrangement           FDA-Approved   \n",
       "1               9           9    rearrangement           FDA-Approved   \n",
       "2              12          12    rearrangement           FDA-Approved   \n",
       "3              15          15    rearrangement              Guideline   \n",
       "4              18          18    rearrangement            Preclinical   \n",
       "..            ...         ...              ...                    ...   \n",
       "251           956         956  somatic_variant           FDA-Approved   \n",
       "252           964         964    rearrangement           FDA-Approved   \n",
       "253           965         965    rearrangement           FDA-Approved   \n",
       "254          1001        1001    rearrangement           FDA-Approved   \n",
       "255          1003        1003    rearrangement           FDA-Approved   \n",
       "\n",
       "                       feature_digest       category impact_score  \n",
       "0    RnRyn89cJzVbVM93aw4OA44NIF5zblyP  Rearrangement           10  \n",
       "1    g99yF3kKnB-We_fMS5RaVygoSuT7qA-I  Rearrangement           10  \n",
       "2    e8PMq2A96-aBJ3Ip74ovx5VOUCztBTq7  Rearrangement           10  \n",
       "3    DxfRiRV-3J6zRON4pnzNJjXkJf2bsp20  Rearrangement           10  \n",
       "4    BRsPjsZSCyDXnKtBt9XgsWX2JDNWY3FP  Rearrangement            1  \n",
       "..                                ...            ...          ...  \n",
       "251  YOntQn-fL_3YdCwEFEqpVCNmzzxC8-4-       Sequence           10  \n",
       "252  yLodZXr73fFWpx8cIHv0ulWvyaHZcuO7  Rearrangement           10  \n",
       "253  sHaHVeGtfC5xdUaPl-qWIoSkAwucCCJF  Rearrangement           10  \n",
       "254  ovD4rWJe1XrPFmQlHBHX5hm8pfN9rEXQ  Rearrangement           10  \n",
       "255  Chis-9OH0cmLqTXQ87vB8KTXLeavBm0S  Rearrangement           10  \n",
       "\n",
       "[256 rows x 7 columns]"
      ]
     },
     "execution_count": 44,
     "metadata": {},
     "output_type": "execute_result"
    }
   ],
   "source": [
    "not_supported_queries_df = pd.merge(\n",
    "    not_supported_queries_df[\"variant_id\"],\n",
    "    moa_df,\n",
    "    left_on=\"variant_id\",\n",
    "    right_on=\"feature_id\",\n",
    "    how=\"left\",\n",
    ")\n",
    "not_supported_queries_df = not_supported_queries_df.drop(columns=[\"variant_id\"])\n",
    "not_supported_queries_df"
   ]
  },
  {
   "cell_type": "markdown",
   "metadata": {},
   "source": [
    "### <a id='toc1_6_1_'></a>[Feature (Variant) Analysis](#toc0_)"
   ]
  },
  {
   "cell_type": "code",
   "execution_count": 45,
   "metadata": {},
   "outputs": [
    {
     "name": "stdout",
     "output_type": "stream",
     "text": [
      "\n",
      "Number of Not Supported Features in MOA: 256 / 452\n",
      "Percent of Not Supported Features in MOA: 56.64%\n"
     ]
    }
   ],
   "source": [
    "not_supported_queries_df = feature_analysis(\n",
    "    not_supported_queries_df, VariantNormType.NOT_SUPPORTED\n",
    ")"
   ]
  },
  {
   "cell_type": "markdown",
   "metadata": {},
   "source": [
    "### <a id='toc1_6_2_'></a>[Not Supported Feature (Variant) Analysis by Subcategory](#toc0_)"
   ]
  },
  {
   "cell_type": "code",
   "execution_count": 46,
   "metadata": {},
   "outputs": [],
   "source": [
    "not_supported_feature_analysis_summary = {\n",
    "    \"Category\": NOT_SUPPORTED_VARIANT_CATEGORY_VALUES,\n",
    "    \"Count of MOA Features per Category\": [],\n",
    "    \"Fraction of all MOA Features\": [],\n",
    "    \"Percent of all MOA Features\": [],\n",
    "    \"Fraction of Not Supported Features\": [],\n",
    "    \"Percent of Not Supported Features\": [],\n",
    "}"
   ]
  },
  {
   "cell_type": "code",
   "execution_count": 47,
   "metadata": {},
   "outputs": [],
   "source": [
    "not_supported_feature_categories_summary_data = dict()\n",
    "total_number_unique_not_supported_features = len(\n",
    "    set(not_supported_queries_df.feature_id)\n",
    ")\n",
    "\n",
    "for (\n",
    "    category\n",
    ") in NOT_SUPPORTED_VARIANT_CATEGORY_VALUES:  # These are not supported categories\n",
    "    not_supported_feature_categories_summary_data[category] = {}\n",
    "    category_df = not_supported_queries_df[\n",
    "        not_supported_queries_df.category == category\n",
    "    ]\n",
    "\n",
    "    # Count\n",
    "    number_unique_not_supported_category_features = len(set(category_df.feature_id))\n",
    "    not_supported_feature_categories_summary_data[category][\n",
    "        \"number_unique_not_supported_category_features\"\n",
    "    ] = number_unique_not_supported_category_features\n",
    "\n",
    "    # Fraction\n",
    "    fraction_not_supported_category_feature_of_moa = (\n",
    "        f\"{number_unique_not_supported_category_features} / {total_len_features}\"\n",
    "    )\n",
    "    not_supported_feature_categories_summary_data[category][\n",
    "        \"fraction_not_supported_category_feature_of_moa\"\n",
    "    ] = fraction_not_supported_category_feature_of_moa\n",
    "\n",
    "    # Percent\n",
    "    percent_not_supported_category_feature_of_moa = f\"{number_unique_not_supported_category_features / total_len_features * 100:.2f}%\"\n",
    "    not_supported_feature_categories_summary_data[category][\n",
    "        \"percent_not_supported_category_feature_of_moa\"\n",
    "    ] = percent_not_supported_category_feature_of_moa\n",
    "\n",
    "    # Not supported fraction\n",
    "    fraction_not_supported_category_feature_of_total_not_supported = f\"{number_unique_not_supported_category_features} / {total_number_unique_not_supported_features}\"\n",
    "    not_supported_feature_categories_summary_data[category][\n",
    "        \"fraction_not_supported_category_feature_of_total_not_supported\"\n",
    "    ] = fraction_not_supported_category_feature_of_total_not_supported\n",
    "\n",
    "    # Not supported percent\n",
    "    percent_not_supported_category_feature_of_total_not_supported = f\"{number_unique_not_supported_category_features / total_number_unique_not_supported_features * 100:.2f}%\"\n",
    "    not_supported_feature_categories_summary_data[category][\n",
    "        \"percent_not_supported_category_feature_of_total_not_supported\"\n",
    "    ] = percent_not_supported_category_feature_of_total_not_supported\n",
    "\n",
    "    not_supported_feature_analysis_summary[\"Count of MOA Features per Category\"].append(\n",
    "        number_unique_not_supported_category_features\n",
    "    )\n",
    "    not_supported_feature_analysis_summary[\"Fraction of all MOA Features\"].append(\n",
    "        fraction_not_supported_category_feature_of_moa\n",
    "    )\n",
    "    not_supported_feature_analysis_summary[\"Percent of all MOA Features\"].append(\n",
    "        percent_not_supported_category_feature_of_moa\n",
    "    )\n",
    "    not_supported_feature_analysis_summary[\"Fraction of Not Supported Features\"].append(\n",
    "        fraction_not_supported_category_feature_of_total_not_supported\n",
    "    )\n",
    "    not_supported_feature_analysis_summary[\"Percent of Not Supported Features\"].append(\n",
    "        percent_not_supported_category_feature_of_total_not_supported\n",
    "    )"
   ]
  },
  {
   "cell_type": "code",
   "execution_count": 48,
   "metadata": {},
   "outputs": [
    {
     "data": {
      "text/html": [
       "<div>\n",
       "<style scoped>\n",
       "    .dataframe tbody tr th:only-of-type {\n",
       "        vertical-align: middle;\n",
       "    }\n",
       "\n",
       "    .dataframe tbody tr th {\n",
       "        vertical-align: top;\n",
       "    }\n",
       "\n",
       "    .dataframe thead th {\n",
       "        text-align: right;\n",
       "    }\n",
       "</style>\n",
       "<table border=\"1\" class=\"dataframe\">\n",
       "  <thead>\n",
       "    <tr style=\"text-align: right;\">\n",
       "      <th></th>\n",
       "      <th>Category</th>\n",
       "      <th>Count of MOA Features per Category</th>\n",
       "      <th>Fraction of all MOA Features</th>\n",
       "      <th>Percent of all MOA Features</th>\n",
       "      <th>Fraction of Not Supported Features</th>\n",
       "      <th>Percent of Not Supported Features</th>\n",
       "    </tr>\n",
       "  </thead>\n",
       "  <tbody>\n",
       "    <tr>\n",
       "      <th>0</th>\n",
       "      <td>Sequence</td>\n",
       "      <td>127</td>\n",
       "      <td>127 / 452</td>\n",
       "      <td>28.10%</td>\n",
       "      <td>127 / 256</td>\n",
       "      <td>49.61%</td>\n",
       "    </tr>\n",
       "    <tr>\n",
       "      <th>1</th>\n",
       "      <td>Genotype/Haplotype</td>\n",
       "      <td>0</td>\n",
       "      <td>0 / 452</td>\n",
       "      <td>0.00%</td>\n",
       "      <td>0 / 256</td>\n",
       "      <td>0.00%</td>\n",
       "    </tr>\n",
       "    <tr>\n",
       "      <th>2</th>\n",
       "      <td>Fusion</td>\n",
       "      <td>0</td>\n",
       "      <td>0 / 452</td>\n",
       "      <td>0.00%</td>\n",
       "      <td>0 / 256</td>\n",
       "      <td>0.00%</td>\n",
       "    </tr>\n",
       "    <tr>\n",
       "      <th>3</th>\n",
       "      <td>Rearrangement</td>\n",
       "      <td>35</td>\n",
       "      <td>35 / 452</td>\n",
       "      <td>7.74%</td>\n",
       "      <td>35 / 256</td>\n",
       "      <td>13.67%</td>\n",
       "    </tr>\n",
       "    <tr>\n",
       "      <th>4</th>\n",
       "      <td>Epigenetic Modification</td>\n",
       "      <td>0</td>\n",
       "      <td>0 / 452</td>\n",
       "      <td>0.00%</td>\n",
       "      <td>0 / 256</td>\n",
       "      <td>0.00%</td>\n",
       "    </tr>\n",
       "    <tr>\n",
       "      <th>5</th>\n",
       "      <td>Copy Number</td>\n",
       "      <td>23</td>\n",
       "      <td>23 / 452</td>\n",
       "      <td>5.09%</td>\n",
       "      <td>23 / 256</td>\n",
       "      <td>8.98%</td>\n",
       "    </tr>\n",
       "    <tr>\n",
       "      <th>6</th>\n",
       "      <td>Expression</td>\n",
       "      <td>11</td>\n",
       "      <td>11 / 452</td>\n",
       "      <td>2.43%</td>\n",
       "      <td>11 / 256</td>\n",
       "      <td>4.30%</td>\n",
       "    </tr>\n",
       "    <tr>\n",
       "      <th>7</th>\n",
       "      <td>Gene Function</td>\n",
       "      <td>8</td>\n",
       "      <td>8 / 452</td>\n",
       "      <td>1.77%</td>\n",
       "      <td>8 / 256</td>\n",
       "      <td>3.12%</td>\n",
       "    </tr>\n",
       "    <tr>\n",
       "      <th>8</th>\n",
       "      <td>Region-Defined</td>\n",
       "      <td>40</td>\n",
       "      <td>40 / 452</td>\n",
       "      <td>8.85%</td>\n",
       "      <td>40 / 256</td>\n",
       "      <td>15.62%</td>\n",
       "    </tr>\n",
       "    <tr>\n",
       "      <th>9</th>\n",
       "      <td>Genome Feature</td>\n",
       "      <td>0</td>\n",
       "      <td>0 / 452</td>\n",
       "      <td>0.00%</td>\n",
       "      <td>0 / 256</td>\n",
       "      <td>0.00%</td>\n",
       "    </tr>\n",
       "    <tr>\n",
       "      <th>10</th>\n",
       "      <td>Other</td>\n",
       "      <td>12</td>\n",
       "      <td>12 / 452</td>\n",
       "      <td>2.65%</td>\n",
       "      <td>12 / 256</td>\n",
       "      <td>4.69%</td>\n",
       "    </tr>\n",
       "    <tr>\n",
       "      <th>11</th>\n",
       "      <td>Transcript</td>\n",
       "      <td>0</td>\n",
       "      <td>0 / 452</td>\n",
       "      <td>0.00%</td>\n",
       "      <td>0 / 256</td>\n",
       "      <td>0.00%</td>\n",
       "    </tr>\n",
       "  </tbody>\n",
       "</table>\n",
       "</div>"
      ],
      "text/plain": [
       "                   Category  Count of MOA Features per Category  \\\n",
       "0                  Sequence                                 127   \n",
       "1        Genotype/Haplotype                                   0   \n",
       "2                    Fusion                                   0   \n",
       "3             Rearrangement                                  35   \n",
       "4   Epigenetic Modification                                   0   \n",
       "5               Copy Number                                  23   \n",
       "6                Expression                                  11   \n",
       "7             Gene Function                                   8   \n",
       "8            Region-Defined                                  40   \n",
       "9            Genome Feature                                   0   \n",
       "10                    Other                                  12   \n",
       "11               Transcript                                   0   \n",
       "\n",
       "   Fraction of all MOA Features Percent of all MOA Features  \\\n",
       "0                     127 / 452                      28.10%   \n",
       "1                       0 / 452                       0.00%   \n",
       "2                       0 / 452                       0.00%   \n",
       "3                      35 / 452                       7.74%   \n",
       "4                       0 / 452                       0.00%   \n",
       "5                      23 / 452                       5.09%   \n",
       "6                      11 / 452                       2.43%   \n",
       "7                       8 / 452                       1.77%   \n",
       "8                      40 / 452                       8.85%   \n",
       "9                       0 / 452                       0.00%   \n",
       "10                     12 / 452                       2.65%   \n",
       "11                      0 / 452                       0.00%   \n",
       "\n",
       "   Fraction of Not Supported Features Percent of Not Supported Features  \n",
       "0                           127 / 256                            49.61%  \n",
       "1                             0 / 256                             0.00%  \n",
       "2                             0 / 256                             0.00%  \n",
       "3                            35 / 256                            13.67%  \n",
       "4                             0 / 256                             0.00%  \n",
       "5                            23 / 256                             8.98%  \n",
       "6                            11 / 256                             4.30%  \n",
       "7                             8 / 256                             3.12%  \n",
       "8                            40 / 256                            15.62%  \n",
       "9                             0 / 256                             0.00%  \n",
       "10                           12 / 256                             4.69%  \n",
       "11                            0 / 256                             0.00%  "
      ]
     },
     "execution_count": 48,
     "metadata": {},
     "output_type": "execute_result"
    }
   ],
   "source": [
    "not_supported_variant_df = pd.DataFrame(not_supported_feature_analysis_summary)\n",
    "not_supported_variant_df"
   ]
  },
  {
   "cell_type": "markdown",
   "metadata": {},
   "source": [
    "### <a id='toc1_6_3_'></a>[Not Support Feature (Variant) Assertion (Evidence) Analysis by Subcategory](#toc0_)"
   ]
  },
  {
   "attachments": {},
   "cell_type": "markdown",
   "metadata": {},
   "source": [
    "List all the possible variant categories"
   ]
  },
  {
   "cell_type": "code",
   "execution_count": 49,
   "metadata": {},
   "outputs": [
    {
     "data": {
      "text/plain": [
       "['Rearrangement',\n",
       " 'Sequence',\n",
       " 'Gene Function',\n",
       " 'Region-Defined',\n",
       " 'Other',\n",
       " 'Copy Number',\n",
       " 'Expression']"
      ]
     },
     "execution_count": 49,
     "metadata": {},
     "output_type": "execute_result"
    }
   ],
   "source": [
    "not_supported_feature_categories = not_supported_queries_df.category.unique()\n",
    "[v for v in not_supported_feature_categories]"
   ]
  },
  {
   "cell_type": "code",
   "execution_count": 50,
   "metadata": {},
   "outputs": [
    {
     "name": "stdout",
     "output_type": "stream",
     "text": [
      "Number of Not Supported Feature Assertions in MOA: 616 / 1007\n",
      "Percent of Not Supported Feature Assertions in MOA: 61.17%\n"
     ]
    }
   ],
   "source": [
    "assertion_analysis(moa_df, not_supported_queries_df, VariantNormType.NOT_SUPPORTED)"
   ]
  },
  {
   "cell_type": "code",
   "execution_count": 51,
   "metadata": {},
   "outputs": [],
   "source": [
    "not_supported_feature_assertion_summary = {\n",
    "    \"Category\": NOT_SUPPORTED_VARIANT_CATEGORY_VALUES,\n",
    "    \"Count of MOA Assertions per Category\": [],\n",
    "    \"Fraction of all MOA Assertions\": [],\n",
    "    \"Percent of all MOA Assertions\": [],\n",
    "    \"Fraction of Not Supported Feature Assertions\": [],\n",
    "    \"Percent of Not Supported Feature Assertions\": [],\n",
    "}"
   ]
  },
  {
   "cell_type": "code",
   "execution_count": 52,
   "metadata": {},
   "outputs": [],
   "source": [
    "not_supported_feature_ids = set(not_supported_queries_df.feature_digest)"
   ]
  },
  {
   "cell_type": "code",
   "execution_count": 53,
   "metadata": {},
   "outputs": [],
   "source": [
    "not_supported_feature_categories_assertion_summary_data = dict()\n",
    "\n",
    "not_supported_feature_ids = set(not_supported_queries_df.feature_digest)\n",
    "\n",
    "for category in NOT_SUPPORTED_VARIANT_CATEGORY_VALUES:\n",
    "    not_supported_feature_categories_assertion_summary_data[category] = {}\n",
    "\n",
    "    # Need to do this bc of duplicate features\n",
    "    tmp_df = moa_df[moa_df[\"feature_digest\"].isin(not_supported_feature_ids)]\n",
    "\n",
    "    evidence_category_df = tmp_df[tmp_df.category == category]\n",
    "\n",
    "    evidence_category_df = evidence_category_df.drop_duplicates(subset=[\"assertion_id\"])\n",
    "\n",
    "    # Count for Not Supported Feature Assertions\n",
    "    total_number_not_supported_feature_unique_assertions = len(tmp_df.assertion_id)\n",
    "\n",
    "    # Count per Category\n",
    "    number_unique_not_supported_category_assertion = len(\n",
    "        set(evidence_category_df.assertion_id)\n",
    "    )\n",
    "    not_supported_feature_categories_assertion_summary_data[category][\n",
    "        \"number_unique_not_supported_category_assertion\"\n",
    "    ] = number_unique_not_supported_category_assertion\n",
    "\n",
    "    # Fraction\n",
    "    fraction_not_supported_category_feature_assertion_of_moa = (\n",
    "        f\"{number_unique_not_supported_category_assertion} / {total_len_assertions}\"\n",
    "    )\n",
    "    not_supported_feature_categories_assertion_summary_data[category][\n",
    "        \"fraction_not_supported_category_feature_assertion_of_moa\"\n",
    "    ] = fraction_not_supported_category_feature_assertion_of_moa\n",
    "\n",
    "    # Percent\n",
    "    percent_not_supported_category_feature_assertion_of_moa = f\"{number_unique_not_supported_category_assertion / total_len_assertions * 100:.2f}%\"\n",
    "    not_supported_feature_categories_assertion_summary_data[category][\n",
    "        \"percent_not_supported_category_feature_assertion_of_moa\"\n",
    "    ] = percent_not_supported_category_feature_assertion_of_moa\n",
    "\n",
    "    # Not supported fraction\n",
    "    fraction_not_supported_category_feature_assertion_of_total_not_supported = f\"{number_unique_not_supported_category_assertion} / {total_number_not_supported_feature_unique_assertions}\"\n",
    "    not_supported_feature_categories_assertion_summary_data[category][\n",
    "        \"fraction_not_supported_category_feature_assertion_of_total_not_supported\"\n",
    "    ] = fraction_not_supported_category_feature_assertion_of_total_not_supported\n",
    "\n",
    "    # Not supported percent\n",
    "    percent_not_supported_category_feature_assertion_of_total_not_supported = f\"{number_unique_not_supported_category_assertion / total_number_not_supported_feature_unique_assertions * 100:.2f}%\"\n",
    "    not_supported_feature_categories_assertion_summary_data[category][\n",
    "        \"percent_not_supported_category_feature_assertion_of_total_not_supported\"\n",
    "    ] = percent_not_supported_category_feature_assertion_of_total_not_supported\n",
    "\n",
    "    not_supported_feature_assertion_summary[\n",
    "        \"Count of MOA Assertions per Category\"\n",
    "    ].append(number_unique_not_supported_category_assertion)\n",
    "    not_supported_feature_assertion_summary[\"Fraction of all MOA Assertions\"].append(\n",
    "        fraction_not_supported_category_feature_assertion_of_moa\n",
    "    )\n",
    "    not_supported_feature_assertion_summary[\"Percent of all MOA Assertions\"].append(\n",
    "        percent_not_supported_category_feature_assertion_of_moa\n",
    "    )\n",
    "    not_supported_feature_assertion_summary[\n",
    "        \"Fraction of Not Supported Feature Assertions\"\n",
    "    ].append(fraction_not_supported_category_feature_assertion_of_total_not_supported)\n",
    "    not_supported_feature_assertion_summary[\n",
    "        \"Percent of Not Supported Feature Assertions\"\n",
    "    ].append(percent_not_supported_category_feature_assertion_of_total_not_supported)"
   ]
  },
  {
   "cell_type": "code",
   "execution_count": 54,
   "metadata": {},
   "outputs": [
    {
     "data": {
      "text/plain": [
       "0"
      ]
     },
     "execution_count": 54,
     "metadata": {},
     "output_type": "execute_result"
    }
   ],
   "source": [
    "number_unique_not_supported_category_features"
   ]
  },
  {
   "cell_type": "markdown",
   "metadata": {},
   "source": [
    "### <a id='toc1_6_4_'></a>[Impact Score Analysis by Subcategory](#toc0_)"
   ]
  },
  {
   "cell_type": "code",
   "execution_count": 55,
   "metadata": {},
   "outputs": [],
   "source": [
    "not_supported_impact_summary = {\n",
    "    \"Category\": NOT_SUPPORTED_VARIANT_CATEGORY_VALUES,\n",
    "    \"MOA Total Sum Impact Score\": [],\n",
    "    \"Average Impact Score per Feature\": [],\n",
    "    \"Average Impact Score per Assertion\": [],\n",
    "    \"Total Number Assertions\": [\n",
    "        v[\"number_unique_not_supported_category_assertion\"]\n",
    "        for v in not_supported_feature_categories_assertion_summary_data.values()\n",
    "    ],\n",
    "    \"Total Number Features\": [\n",
    "        v[\"number_unique_not_supported_category_features\"]\n",
    "        for v in not_supported_feature_categories_summary_data.values()\n",
    "    ],\n",
    "}"
   ]
  },
  {
   "cell_type": "code",
   "execution_count": 56,
   "metadata": {},
   "outputs": [
    {
     "name": "stdout",
     "output_type": "stream",
     "text": [
      "Number of unique features within category: 127\n",
      "Sequence: 767.5, 6.04, 6.04\n",
      "Number of unique features within category: 0\n",
      "Genotype/Haplotype: 0, 0, 0\n",
      "Number of unique features within category: 0\n",
      "Fusion: 0, 0, 0\n",
      "Number of unique features within category: 35\n",
      "Rearrangement: 261.0, 7.46, 7.46\n",
      "Number of unique features within category: 0\n",
      "Epigenetic Modification: 0, 0, 0\n",
      "Number of unique features within category: 23\n",
      "Copy Number: 50.0, 2.17, 2.17\n",
      "Number of unique features within category: 11\n",
      "Expression: 11, 1.00, 1.00\n",
      "Number of unique features within category: 8\n",
      "Gene Function: 47, 5.88, 5.88\n",
      "Number of unique features within category: 40\n",
      "Region-Defined: 267.0, 6.67, 6.67\n",
      "Number of unique features within category: 0\n",
      "Genome Feature: 0, 0, 0\n",
      "Number of unique features within category: 12\n",
      "Other: 77.0, 6.42, 6.42\n",
      "Number of unique features within category: 0\n",
      "Transcript: 0, 0, 0\n"
     ]
    }
   ],
   "source": [
    "not_supported_feature_categories_impact_data = dict()\n",
    "for category in NOT_SUPPORTED_VARIANT_CATEGORY_VALUES:\n",
    "    not_supported_feature_categories_impact_data[category] = {}\n",
    "    impact_category_df = not_supported_queries_df[\n",
    "        not_supported_queries_df[\"category\"] == category\n",
    "    ].copy()\n",
    "\n",
    "    total_sum_not_supported_category_impact = impact_category_df[\"impact_score\"].sum()\n",
    "\n",
    "    not_supported_feature_categories_impact_data[category][\n",
    "        \"total_sum_not_supported_category_impact\"\n",
    "    ] = total_sum_not_supported_category_impact\n",
    "\n",
    "    number_unique_not_supported_category_features = (\n",
    "        impact_category_df.feature_id.nunique()\n",
    "    )\n",
    "    number_unique_not_supported_category_assertion = (\n",
    "        impact_category_df.assertion_id.nunique()\n",
    "    )\n",
    "\n",
    "    if number_unique_not_supported_category_features == 0:\n",
    "        avg_impact_score_feature = 0\n",
    "        not_supported_feature_categories_impact_data[category][\n",
    "            \"avg_impact_score_feature\"\n",
    "        ] = avg_impact_score_feature\n",
    "\n",
    "        avg_impact_score_assertion = 0\n",
    "        not_supported_feature_categories_impact_data[category][\n",
    "            \"avg_impact_score_evidence\"\n",
    "        ] = avg_impact_score_assertion\n",
    "    else:\n",
    "        avg_impact_score_feature = f\"{total_sum_not_supported_category_impact / number_unique_not_supported_category_features:.2f}\"\n",
    "        not_supported_feature_categories_impact_data[category][\n",
    "            \"avg_impact_score_feature\"\n",
    "        ] = avg_impact_score_feature\n",
    "\n",
    "        avg_impact_score_assertion = f\"{total_sum_not_supported_category_impact / number_unique_not_supported_category_assertion:.2f}\"\n",
    "        not_supported_feature_categories_impact_data[category][\n",
    "            \"avg_impact_score_evidence\"\n",
    "        ] = avg_impact_score_assertion\n",
    "\n",
    "    not_supported_impact_summary[\"MOA Total Sum Impact Score\"].append(\n",
    "        total_sum_not_supported_category_impact\n",
    "    )\n",
    "    not_supported_impact_summary[\"Average Impact Score per Feature\"].append(\n",
    "        avg_impact_score_feature\n",
    "    )\n",
    "    not_supported_impact_summary[\"Average Impact Score per Assertion\"].append(\n",
    "        avg_impact_score_assertion\n",
    "    )\n",
    "\n",
    "    print(\n",
    "        f\"Number of unique features within category: {number_unique_not_supported_category_features}\"\n",
    "    )\n",
    "    print(\n",
    "        f\"{category}: {total_sum_not_supported_category_impact}, {avg_impact_score_feature}, {avg_impact_score_assertion}\"\n",
    "    )"
   ]
  },
  {
   "cell_type": "code",
   "execution_count": 57,
   "metadata": {},
   "outputs": [],
   "source": [
    "not_supported_feature_impact_df = pd.DataFrame(not_supported_impact_summary)"
   ]
  },
  {
   "cell_type": "code",
   "execution_count": 58,
   "metadata": {},
   "outputs": [
    {
     "data": {
      "text/html": [
       "<div>\n",
       "<style scoped>\n",
       "    .dataframe tbody tr th:only-of-type {\n",
       "        vertical-align: middle;\n",
       "    }\n",
       "\n",
       "    .dataframe tbody tr th {\n",
       "        vertical-align: top;\n",
       "    }\n",
       "\n",
       "    .dataframe thead th {\n",
       "        text-align: right;\n",
       "    }\n",
       "</style>\n",
       "<table border=\"1\" class=\"dataframe\">\n",
       "  <thead>\n",
       "    <tr style=\"text-align: right;\">\n",
       "      <th></th>\n",
       "      <th>Category</th>\n",
       "      <th>MOA Total Sum Impact Score</th>\n",
       "      <th>Average Impact Score per Feature</th>\n",
       "      <th>Average Impact Score per Assertion</th>\n",
       "      <th>Total Number Assertions</th>\n",
       "      <th>Total Number Features</th>\n",
       "    </tr>\n",
       "  </thead>\n",
       "  <tbody>\n",
       "    <tr>\n",
       "      <th>0</th>\n",
       "      <td>Sequence</td>\n",
       "      <td>767.5</td>\n",
       "      <td>6.04</td>\n",
       "      <td>6.04</td>\n",
       "      <td>328</td>\n",
       "      <td>127</td>\n",
       "    </tr>\n",
       "    <tr>\n",
       "      <th>1</th>\n",
       "      <td>Genotype/Haplotype</td>\n",
       "      <td>0.0</td>\n",
       "      <td>0</td>\n",
       "      <td>0</td>\n",
       "      <td>0</td>\n",
       "      <td>0</td>\n",
       "    </tr>\n",
       "    <tr>\n",
       "      <th>2</th>\n",
       "      <td>Fusion</td>\n",
       "      <td>0.0</td>\n",
       "      <td>0</td>\n",
       "      <td>0</td>\n",
       "      <td>0</td>\n",
       "      <td>0</td>\n",
       "    </tr>\n",
       "    <tr>\n",
       "      <th>3</th>\n",
       "      <td>Rearrangement</td>\n",
       "      <td>261.0</td>\n",
       "      <td>7.46</td>\n",
       "      <td>7.46</td>\n",
       "      <td>85</td>\n",
       "      <td>35</td>\n",
       "    </tr>\n",
       "    <tr>\n",
       "      <th>4</th>\n",
       "      <td>Epigenetic Modification</td>\n",
       "      <td>0.0</td>\n",
       "      <td>0</td>\n",
       "      <td>0</td>\n",
       "      <td>0</td>\n",
       "      <td>0</td>\n",
       "    </tr>\n",
       "    <tr>\n",
       "      <th>5</th>\n",
       "      <td>Copy Number</td>\n",
       "      <td>50.0</td>\n",
       "      <td>2.17</td>\n",
       "      <td>2.17</td>\n",
       "      <td>37</td>\n",
       "      <td>23</td>\n",
       "    </tr>\n",
       "    <tr>\n",
       "      <th>6</th>\n",
       "      <td>Expression</td>\n",
       "      <td>11.0</td>\n",
       "      <td>1.00</td>\n",
       "      <td>1.00</td>\n",
       "      <td>12</td>\n",
       "      <td>11</td>\n",
       "    </tr>\n",
       "    <tr>\n",
       "      <th>7</th>\n",
       "      <td>Gene Function</td>\n",
       "      <td>47.0</td>\n",
       "      <td>5.88</td>\n",
       "      <td>5.88</td>\n",
       "      <td>14</td>\n",
       "      <td>8</td>\n",
       "    </tr>\n",
       "    <tr>\n",
       "      <th>8</th>\n",
       "      <td>Region-Defined</td>\n",
       "      <td>267.0</td>\n",
       "      <td>6.67</td>\n",
       "      <td>6.67</td>\n",
       "      <td>109</td>\n",
       "      <td>40</td>\n",
       "    </tr>\n",
       "    <tr>\n",
       "      <th>9</th>\n",
       "      <td>Genome Feature</td>\n",
       "      <td>0.0</td>\n",
       "      <td>0</td>\n",
       "      <td>0</td>\n",
       "      <td>0</td>\n",
       "      <td>0</td>\n",
       "    </tr>\n",
       "    <tr>\n",
       "      <th>10</th>\n",
       "      <td>Other</td>\n",
       "      <td>77.0</td>\n",
       "      <td>6.42</td>\n",
       "      <td>6.42</td>\n",
       "      <td>31</td>\n",
       "      <td>12</td>\n",
       "    </tr>\n",
       "    <tr>\n",
       "      <th>11</th>\n",
       "      <td>Transcript</td>\n",
       "      <td>0.0</td>\n",
       "      <td>0</td>\n",
       "      <td>0</td>\n",
       "      <td>0</td>\n",
       "      <td>0</td>\n",
       "    </tr>\n",
       "  </tbody>\n",
       "</table>\n",
       "</div>"
      ],
      "text/plain": [
       "                   Category  MOA Total Sum Impact Score  \\\n",
       "0                  Sequence                       767.5   \n",
       "1        Genotype/Haplotype                         0.0   \n",
       "2                    Fusion                         0.0   \n",
       "3             Rearrangement                       261.0   \n",
       "4   Epigenetic Modification                         0.0   \n",
       "5               Copy Number                        50.0   \n",
       "6                Expression                        11.0   \n",
       "7             Gene Function                        47.0   \n",
       "8            Region-Defined                       267.0   \n",
       "9            Genome Feature                         0.0   \n",
       "10                    Other                        77.0   \n",
       "11               Transcript                         0.0   \n",
       "\n",
       "   Average Impact Score per Feature Average Impact Score per Assertion  \\\n",
       "0                              6.04                               6.04   \n",
       "1                                 0                                  0   \n",
       "2                                 0                                  0   \n",
       "3                              7.46                               7.46   \n",
       "4                                 0                                  0   \n",
       "5                              2.17                               2.17   \n",
       "6                              1.00                               1.00   \n",
       "7                              5.88                               5.88   \n",
       "8                              6.67                               6.67   \n",
       "9                                 0                                  0   \n",
       "10                             6.42                               6.42   \n",
       "11                                0                                  0   \n",
       "\n",
       "    Total Number Assertions  Total Number Features  \n",
       "0                       328                    127  \n",
       "1                         0                      0  \n",
       "2                         0                      0  \n",
       "3                        85                     35  \n",
       "4                         0                      0  \n",
       "5                        37                     23  \n",
       "6                        12                     11  \n",
       "7                        14                      8  \n",
       "8                       109                     40  \n",
       "9                         0                      0  \n",
       "10                       31                     12  \n",
       "11                        0                      0  "
      ]
     },
     "execution_count": 58,
     "metadata": {},
     "output_type": "execute_result"
    }
   ],
   "source": [
    "not_supported_feature_impact_df"
   ]
  },
  {
   "cell_type": "code",
   "execution_count": 59,
   "metadata": {},
   "outputs": [],
   "source": [
    "not_supported_feature_impact_df.to_csv(\n",
    "    \"output/not_supported_feature_impact_df.csv\", index=False\n",
    ")"
   ]
  },
  {
   "cell_type": "markdown",
   "metadata": {},
   "source": [
    "# <a id='toc2_'></a>[MOA Summary](#toc0_)"
   ]
  },
  {
   "cell_type": "markdown",
   "metadata": {},
   "source": [
    "## <a id='toc2_1_'></a>[Feature (Variant) Analysis](#toc0_)"
   ]
  },
  {
   "cell_type": "markdown",
   "metadata": {},
   "source": [
    "### <a id='toc2_1_1_'></a>[Building Summary Tables 1 - 3](#toc0_)"
   ]
  },
  {
   "cell_type": "code",
   "execution_count": 60,
   "metadata": {},
   "outputs": [],
   "source": [
    "all_features_df = pd.DataFrame(feature_analysis_summary)"
   ]
  },
  {
   "cell_type": "code",
   "execution_count": 61,
   "metadata": {},
   "outputs": [],
   "source": [
    "all_features_df = combine_frac_perc(all_features_df, [\"all MOA Features\"])"
   ]
  },
  {
   "cell_type": "code",
   "execution_count": 62,
   "metadata": {},
   "outputs": [],
   "source": [
    "for_merge_all_variant_percent_of_moa_df = all_features_df\n",
    "all_features_percent_of_moa_df = all_features_df.drop(\n",
    "    \"Count of MOA Features per Category\", axis=1\n",
    ")"
   ]
  },
  {
   "cell_type": "code",
   "execution_count": 63,
   "metadata": {},
   "outputs": [],
   "source": [
    "for_merge_all_variant_percent_of_moa_df.to_csv(\n",
    "    \"output/for_merge_all_variant_percent_of_moa_df.csv\",\n",
    "    index=False,\n",
    ")"
   ]
  },
  {
   "cell_type": "markdown",
   "metadata": {},
   "source": [
    "### <a id='toc2_1_2_'></a>[Summary Table 1](#toc0_)"
   ]
  },
  {
   "cell_type": "markdown",
   "metadata": {},
   "source": [
    "The table below shows the 2 categories that MOA features (variants) were divided into after normalization and what percent they make up of all features (variants) in MOA data. "
   ]
  },
  {
   "cell_type": "markdown",
   "metadata": {},
   "source": [
    "<ins>Numerator:</ins> # of MOA Features (variants) that are Normalized or Not Supported\n",
    "<br><ins>Denominator:</ins> # of all MOA Features (variants)"
   ]
  },
  {
   "cell_type": "code",
   "execution_count": 64,
   "metadata": {},
   "outputs": [
    {
     "data": {
      "text/html": [
       "<div>\n",
       "<style scoped>\n",
       "    .dataframe tbody tr th:only-of-type {\n",
       "        vertical-align: middle;\n",
       "    }\n",
       "\n",
       "    .dataframe tbody tr th {\n",
       "        vertical-align: top;\n",
       "    }\n",
       "\n",
       "    .dataframe thead th {\n",
       "        text-align: right;\n",
       "    }\n",
       "</style>\n",
       "<table border=\"1\" class=\"dataframe\">\n",
       "  <thead>\n",
       "    <tr style=\"text-align: right;\">\n",
       "      <th></th>\n",
       "      <th>Percent of all MOA Features</th>\n",
       "    </tr>\n",
       "    <tr>\n",
       "      <th>Variant Category</th>\n",
       "      <th></th>\n",
       "    </tr>\n",
       "  </thead>\n",
       "  <tbody>\n",
       "    <tr>\n",
       "      <th>Normalized</th>\n",
       "      <td>196 / 452  (43.36%)</td>\n",
       "    </tr>\n",
       "    <tr>\n",
       "      <th>Not Supported</th>\n",
       "      <td>256 / 452  (56.64%)</td>\n",
       "    </tr>\n",
       "  </tbody>\n",
       "</table>\n",
       "</div>"
      ],
      "text/plain": [
       "                 Percent of all MOA Features\n",
       "Variant Category                            \n",
       "Normalized               196 / 452  (43.36%)\n",
       "Not Supported            256 / 452  (56.64%)"
      ]
     },
     "execution_count": 64,
     "metadata": {},
     "output_type": "execute_result"
    }
   ],
   "source": [
    "all_features_percent_of_moa_df = all_features_percent_of_moa_df.set_index(\n",
    "    \"Variant Category\"\n",
    ")\n",
    "all_features_percent_of_moa_df"
   ]
  },
  {
   "cell_type": "code",
   "execution_count": 65,
   "metadata": {},
   "outputs": [],
   "source": [
    "moa_summary_table_1 = all_features_percent_of_moa_df"
   ]
  },
  {
   "cell_type": "markdown",
   "metadata": {},
   "source": [
    "### <a id='toc2_1_3_'></a>[Summary Table 2](#toc0_)"
   ]
  },
  {
   "cell_type": "markdown",
   "metadata": {},
   "source": [
    "The table below shows the categories that the Not Supported features (variants) were broken into and what percent of all MOA features (variants) they make up."
   ]
  },
  {
   "cell_type": "markdown",
   "metadata": {},
   "source": [
    "<ins>Numerator:</ins> # of MOA Features (variants) that are Not Supported in a given Subcategory\n",
    "<br><ins>Denominator:</ins> # of all MOA Features (variants)"
   ]
  },
  {
   "cell_type": "code",
   "execution_count": 66,
   "metadata": {},
   "outputs": [],
   "source": [
    "not_supported_features_df = pd.DataFrame(not_supported_feature_analysis_summary)"
   ]
  },
  {
   "cell_type": "code",
   "execution_count": 67,
   "metadata": {},
   "outputs": [],
   "source": [
    "not_supported_features_total_df = combine_frac_perc(\n",
    "    not_supported_features_df, [\"all MOA Features\"]\n",
    ")"
   ]
  },
  {
   "cell_type": "code",
   "execution_count": 68,
   "metadata": {},
   "outputs": [],
   "source": [
    "for_merge_not_supported_features_total_df = not_supported_features_total_df[\n",
    "    [\n",
    "        \"Category\",\n",
    "        \"Count of MOA Features per Category\",\n",
    "        \"Percent of all MOA Features\",\n",
    "    ]\n",
    "].copy()"
   ]
  },
  {
   "cell_type": "code",
   "execution_count": 69,
   "metadata": {},
   "outputs": [
    {
     "data": {
      "text/html": [
       "<div>\n",
       "<style scoped>\n",
       "    .dataframe tbody tr th:only-of-type {\n",
       "        vertical-align: middle;\n",
       "    }\n",
       "\n",
       "    .dataframe tbody tr th {\n",
       "        vertical-align: top;\n",
       "    }\n",
       "\n",
       "    .dataframe thead th {\n",
       "        text-align: right;\n",
       "    }\n",
       "</style>\n",
       "<table border=\"1\" class=\"dataframe\">\n",
       "  <thead>\n",
       "    <tr style=\"text-align: right;\">\n",
       "      <th></th>\n",
       "      <th>Percent of all MOA Features</th>\n",
       "    </tr>\n",
       "    <tr>\n",
       "      <th>Category</th>\n",
       "      <th></th>\n",
       "    </tr>\n",
       "  </thead>\n",
       "  <tbody>\n",
       "    <tr>\n",
       "      <th>Sequence</th>\n",
       "      <td>127 / 452  (28.10%)</td>\n",
       "    </tr>\n",
       "    <tr>\n",
       "      <th>Genotype/Haplotype</th>\n",
       "      <td>0 / 452  (0.00%)</td>\n",
       "    </tr>\n",
       "    <tr>\n",
       "      <th>Fusion</th>\n",
       "      <td>0 / 452  (0.00%)</td>\n",
       "    </tr>\n",
       "    <tr>\n",
       "      <th>Rearrangement</th>\n",
       "      <td>35 / 452  (7.74%)</td>\n",
       "    </tr>\n",
       "    <tr>\n",
       "      <th>Epigenetic Modification</th>\n",
       "      <td>0 / 452  (0.00%)</td>\n",
       "    </tr>\n",
       "    <tr>\n",
       "      <th>Copy Number</th>\n",
       "      <td>23 / 452  (5.09%)</td>\n",
       "    </tr>\n",
       "    <tr>\n",
       "      <th>Expression</th>\n",
       "      <td>11 / 452  (2.43%)</td>\n",
       "    </tr>\n",
       "    <tr>\n",
       "      <th>Gene Function</th>\n",
       "      <td>8 / 452  (1.77%)</td>\n",
       "    </tr>\n",
       "    <tr>\n",
       "      <th>Region-Defined</th>\n",
       "      <td>40 / 452  (8.85%)</td>\n",
       "    </tr>\n",
       "    <tr>\n",
       "      <th>Genome Feature</th>\n",
       "      <td>0 / 452  (0.00%)</td>\n",
       "    </tr>\n",
       "    <tr>\n",
       "      <th>Other</th>\n",
       "      <td>12 / 452  (2.65%)</td>\n",
       "    </tr>\n",
       "    <tr>\n",
       "      <th>Transcript</th>\n",
       "      <td>0 / 452  (0.00%)</td>\n",
       "    </tr>\n",
       "  </tbody>\n",
       "</table>\n",
       "</div>"
      ],
      "text/plain": [
       "                        Percent of all MOA Features\n",
       "Category                                           \n",
       "Sequence                        127 / 452  (28.10%)\n",
       "Genotype/Haplotype                 0 / 452  (0.00%)\n",
       "Fusion                             0 / 452  (0.00%)\n",
       "Rearrangement                     35 / 452  (7.74%)\n",
       "Epigenetic Modification            0 / 452  (0.00%)\n",
       "Copy Number                       23 / 452  (5.09%)\n",
       "Expression                        11 / 452  (2.43%)\n",
       "Gene Function                      8 / 452  (1.77%)\n",
       "Region-Defined                    40 / 452  (8.85%)\n",
       "Genome Feature                     0 / 452  (0.00%)\n",
       "Other                             12 / 452  (2.65%)\n",
       "Transcript                         0 / 452  (0.00%)"
      ]
     },
     "execution_count": 69,
     "metadata": {},
     "output_type": "execute_result"
    }
   ],
   "source": [
    "not_supported_features_total_df = (\n",
    "    not_supported_features_total_df[\n",
    "        [\n",
    "            \"Category\",\n",
    "            \"Percent of all MOA Features\",\n",
    "        ]\n",
    "    ]\n",
    "    .copy()\n",
    "    .set_index(\"Category\")\n",
    ")\n",
    "not_supported_features_total_df"
   ]
  },
  {
   "cell_type": "code",
   "execution_count": 70,
   "metadata": {},
   "outputs": [],
   "source": [
    "moa_summary_table_2 = not_supported_features_total_df"
   ]
  },
  {
   "cell_type": "code",
   "execution_count": 71,
   "metadata": {},
   "outputs": [],
   "source": [
    "for_merge_not_supported_features_total_df.to_csv(\n",
    "    \"output/for_merge_not_supported_features_total_df.csv\",\n",
    "    index=False,\n",
    ")"
   ]
  },
  {
   "cell_type": "markdown",
   "metadata": {},
   "source": [
    "### <a id='toc2_1_4_'></a>[Summary Table 3](#toc0_)"
   ]
  },
  {
   "cell_type": "markdown",
   "metadata": {},
   "source": [
    "The table below shows the categories that the Not Supported features (variants) were broken into what percent each sub category take up in Not Supported variant group."
   ]
  },
  {
   "cell_type": "markdown",
   "metadata": {},
   "source": [
    "<ins>Numerator:</ins> # of MOA Features (variants) that are Not Supported in a given Subcategory\n",
    "<br><ins>Denominator:</ins> # of MOA Features (variants) that are Not Supported"
   ]
  },
  {
   "cell_type": "code",
   "execution_count": 72,
   "metadata": {},
   "outputs": [],
   "source": [
    "not_supported_features_category_df = combine_frac_perc(\n",
    "    not_supported_features_df, [\"Not Supported Features\"]\n",
    ")"
   ]
  },
  {
   "cell_type": "code",
   "execution_count": 73,
   "metadata": {},
   "outputs": [
    {
     "data": {
      "text/html": [
       "<div>\n",
       "<style scoped>\n",
       "    .dataframe tbody tr th:only-of-type {\n",
       "        vertical-align: middle;\n",
       "    }\n",
       "\n",
       "    .dataframe tbody tr th {\n",
       "        vertical-align: top;\n",
       "    }\n",
       "\n",
       "    .dataframe thead th {\n",
       "        text-align: right;\n",
       "    }\n",
       "</style>\n",
       "<table border=\"1\" class=\"dataframe\">\n",
       "  <thead>\n",
       "    <tr style=\"text-align: right;\">\n",
       "      <th></th>\n",
       "      <th>Percent of Not Supported Features</th>\n",
       "    </tr>\n",
       "    <tr>\n",
       "      <th>Category</th>\n",
       "      <th></th>\n",
       "    </tr>\n",
       "  </thead>\n",
       "  <tbody>\n",
       "    <tr>\n",
       "      <th>Sequence</th>\n",
       "      <td>127 / 256  (49.61%)</td>\n",
       "    </tr>\n",
       "    <tr>\n",
       "      <th>Genotype/Haplotype</th>\n",
       "      <td>0 / 256  (0.00%)</td>\n",
       "    </tr>\n",
       "    <tr>\n",
       "      <th>Fusion</th>\n",
       "      <td>0 / 256  (0.00%)</td>\n",
       "    </tr>\n",
       "    <tr>\n",
       "      <th>Rearrangement</th>\n",
       "      <td>35 / 256  (13.67%)</td>\n",
       "    </tr>\n",
       "    <tr>\n",
       "      <th>Epigenetic Modification</th>\n",
       "      <td>0 / 256  (0.00%)</td>\n",
       "    </tr>\n",
       "    <tr>\n",
       "      <th>Copy Number</th>\n",
       "      <td>23 / 256  (8.98%)</td>\n",
       "    </tr>\n",
       "    <tr>\n",
       "      <th>Expression</th>\n",
       "      <td>11 / 256  (4.30%)</td>\n",
       "    </tr>\n",
       "    <tr>\n",
       "      <th>Gene Function</th>\n",
       "      <td>8 / 256  (3.12%)</td>\n",
       "    </tr>\n",
       "    <tr>\n",
       "      <th>Region-Defined</th>\n",
       "      <td>40 / 256  (15.62%)</td>\n",
       "    </tr>\n",
       "    <tr>\n",
       "      <th>Genome Feature</th>\n",
       "      <td>0 / 256  (0.00%)</td>\n",
       "    </tr>\n",
       "    <tr>\n",
       "      <th>Other</th>\n",
       "      <td>12 / 256  (4.69%)</td>\n",
       "    </tr>\n",
       "    <tr>\n",
       "      <th>Transcript</th>\n",
       "      <td>0 / 256  (0.00%)</td>\n",
       "    </tr>\n",
       "  </tbody>\n",
       "</table>\n",
       "</div>"
      ],
      "text/plain": [
       "                        Percent of Not Supported Features\n",
       "Category                                                 \n",
       "Sequence                              127 / 256  (49.61%)\n",
       "Genotype/Haplotype                       0 / 256  (0.00%)\n",
       "Fusion                                   0 / 256  (0.00%)\n",
       "Rearrangement                          35 / 256  (13.67%)\n",
       "Epigenetic Modification                  0 / 256  (0.00%)\n",
       "Copy Number                             23 / 256  (8.98%)\n",
       "Expression                              11 / 256  (4.30%)\n",
       "Gene Function                            8 / 256  (3.12%)\n",
       "Region-Defined                         40 / 256  (15.62%)\n",
       "Genome Feature                           0 / 256  (0.00%)\n",
       "Other                                   12 / 256  (4.69%)\n",
       "Transcript                               0 / 256  (0.00%)"
      ]
     },
     "execution_count": 73,
     "metadata": {},
     "output_type": "execute_result"
    }
   ],
   "source": [
    "not_supported_features_category_df = not_supported_features_category_df[\n",
    "    [\"Category\", \"Percent of Not Supported Features\"]\n",
    "]\n",
    "not_supported_features_category_df = not_supported_features_category_df.set_index(\n",
    "    \"Category\"\n",
    ")\n",
    "not_supported_features_category_df"
   ]
  },
  {
   "cell_type": "code",
   "execution_count": 74,
   "metadata": {},
   "outputs": [],
   "source": [
    "moa_summary_table_3 = not_supported_features_category_df"
   ]
  },
  {
   "cell_type": "markdown",
   "metadata": {},
   "source": [
    "## <a id='toc2_2_'></a>[Evidence Analysis](#toc0_)"
   ]
  },
  {
   "cell_type": "markdown",
   "metadata": {},
   "source": [
    "### <a id='toc2_2_1_'></a>[Building Summary Table 4](#toc0_)"
   ]
  },
  {
   "cell_type": "code",
   "execution_count": 75,
   "metadata": {},
   "outputs": [],
   "source": [
    "all_features_assertions_df = pd.DataFrame(assertion_analysis_summary)"
   ]
  },
  {
   "cell_type": "code",
   "execution_count": 76,
   "metadata": {},
   "outputs": [],
   "source": [
    "all_features_assertions_df = combine_frac_perc(\n",
    "    all_features_assertions_df, [\"all MOA Assertions\"]\n",
    ")"
   ]
  },
  {
   "cell_type": "code",
   "execution_count": 77,
   "metadata": {},
   "outputs": [],
   "source": [
    "for_merge_all_features_assertions_df = all_features_assertions_df\n",
    "all_features_assertions_df = for_merge_all_features_assertions_df.drop(\n",
    "    columns=[\"Count of MOA Assertions per Category\"]\n",
    ")"
   ]
  },
  {
   "cell_type": "code",
   "execution_count": 78,
   "metadata": {},
   "outputs": [],
   "source": [
    "for_merge_all_features_assertions_df.to_csv(\n",
    "    \"output/for_merge_all_features_assertions_df.csv\",\n",
    "    index=False,\n",
    ")"
   ]
  },
  {
   "cell_type": "markdown",
   "metadata": {},
   "source": [
    "### <a id='toc2_2_2_'></a>[Summary Table 4](#toc0_)"
   ]
  },
  {
   "cell_type": "markdown",
   "metadata": {},
   "source": [
    "The table below shows what percent of all assertions (evidence items) in MOA are associated with Normalized and Not Supported features (variants)"
   ]
  },
  {
   "cell_type": "markdown",
   "metadata": {},
   "source": [
    "<ins>Numerator:</ins> # of MOA Assertions (evidence items) based on normalization status of associated features (variants)\n",
    "<br><ins>Denominator:</ins> # of all MOA Assertions (evidence items)"
   ]
  },
  {
   "cell_type": "code",
   "execution_count": 79,
   "metadata": {},
   "outputs": [
    {
     "data": {
      "text/html": [
       "<div>\n",
       "<style scoped>\n",
       "    .dataframe tbody tr th:only-of-type {\n",
       "        vertical-align: middle;\n",
       "    }\n",
       "\n",
       "    .dataframe tbody tr th {\n",
       "        vertical-align: top;\n",
       "    }\n",
       "\n",
       "    .dataframe thead th {\n",
       "        text-align: right;\n",
       "    }\n",
       "</style>\n",
       "<table border=\"1\" class=\"dataframe\">\n",
       "  <thead>\n",
       "    <tr style=\"text-align: right;\">\n",
       "      <th></th>\n",
       "      <th>Percent of all MOA Assertions</th>\n",
       "    </tr>\n",
       "    <tr>\n",
       "      <th>Variant Category</th>\n",
       "      <th></th>\n",
       "    </tr>\n",
       "  </thead>\n",
       "  <tbody>\n",
       "    <tr>\n",
       "      <th>Normalized</th>\n",
       "      <td>391 / 1007  (38.83%)</td>\n",
       "    </tr>\n",
       "    <tr>\n",
       "      <th>Not Supported</th>\n",
       "      <td>616 / 1007  (61.17%)</td>\n",
       "    </tr>\n",
       "  </tbody>\n",
       "</table>\n",
       "</div>"
      ],
      "text/plain": [
       "                 Percent of all MOA Assertions\n",
       "Variant Category                              \n",
       "Normalized                391 / 1007  (38.83%)\n",
       "Not Supported             616 / 1007  (61.17%)"
      ]
     },
     "execution_count": 79,
     "metadata": {},
     "output_type": "execute_result"
    }
   ],
   "source": [
    "all_features_assertions_df = all_features_assertions_df.set_index(\"Variant Category\")\n",
    "moa_summary_table_4 = all_features_assertions_df\n",
    "moa_summary_table_4"
   ]
  },
  {
   "cell_type": "markdown",
   "metadata": {},
   "source": [
    "### <a id='toc2_2_3_'></a>[Building Sumary Tables 5 & 6](#toc0_)"
   ]
  },
  {
   "cell_type": "code",
   "execution_count": 80,
   "metadata": {},
   "outputs": [],
   "source": [
    "not_supported_feature_assertion_df = pd.DataFrame(\n",
    "    not_supported_feature_assertion_summary\n",
    ")"
   ]
  },
  {
   "cell_type": "code",
   "execution_count": 81,
   "metadata": {},
   "outputs": [],
   "source": [
    "not_supported_feature_assertion_df = combine_frac_perc(\n",
    "    not_supported_feature_assertion_df, [\"all MOA Assertions\"]\n",
    ")"
   ]
  },
  {
   "cell_type": "code",
   "execution_count": 82,
   "metadata": {},
   "outputs": [],
   "source": [
    "not_supported_feature_assertion_df = combine_frac_perc(\n",
    "    not_supported_feature_assertion_df, [\"Not Supported Feature Assertions\"]\n",
    ")"
   ]
  },
  {
   "cell_type": "code",
   "execution_count": 83,
   "metadata": {},
   "outputs": [],
   "source": [
    "for_merge_not_supported_feature_assertion_df = not_supported_feature_assertion_df.drop(\n",
    "    [\"Percent of Not Supported Feature Assertions\"], axis=1\n",
    ")\n",
    "\n",
    "not_supported_feature_assertion_of_moa_df = (\n",
    "    for_merge_not_supported_feature_assertion_df.drop(\n",
    "        [\"Count of MOA Assertions per Category\"], axis=1\n",
    "    )\n",
    ")\n",
    "\n",
    "not_supported_feature_assertion_of_not_supported_df = (\n",
    "    not_supported_feature_assertion_df.drop(\n",
    "        [\"Percent of all MOA Assertions\", \"Count of MOA Assertions per Category\"],\n",
    "        axis=1,\n",
    "    )\n",
    ")"
   ]
  },
  {
   "cell_type": "code",
   "execution_count": 84,
   "metadata": {},
   "outputs": [],
   "source": [
    "for_merge_not_supported_feature_assertion_df.to_csv(\n",
    "    \"output/for_merge_not_supported_feature_assertion_df.csv\",\n",
    "    index=False,\n",
    ")"
   ]
  },
  {
   "cell_type": "markdown",
   "metadata": {},
   "source": [
    "### <a id='toc2_2_4_'></a>[Summary Table 5](#toc0_)"
   ]
  },
  {
   "cell_type": "markdown",
   "metadata": {},
   "source": [
    "The table below shows the percent of all MOA assertions (evidence items) that are associated with a Not Supported variant sub category."
   ]
  },
  {
   "cell_type": "markdown",
   "metadata": {},
   "source": [
    "<ins>Numerator:</ins> # of MOA Assertions (evidence items) associated with Not Supported features (variants) in a given Subcategory\n",
    "<br><ins>Denominator:</ins> # of all MOA Assertions (evidence items)"
   ]
  },
  {
   "cell_type": "code",
   "execution_count": 85,
   "metadata": {},
   "outputs": [
    {
     "data": {
      "text/html": [
       "<div>\n",
       "<style scoped>\n",
       "    .dataframe tbody tr th:only-of-type {\n",
       "        vertical-align: middle;\n",
       "    }\n",
       "\n",
       "    .dataframe tbody tr th {\n",
       "        vertical-align: top;\n",
       "    }\n",
       "\n",
       "    .dataframe thead th {\n",
       "        text-align: right;\n",
       "    }\n",
       "</style>\n",
       "<table border=\"1\" class=\"dataframe\">\n",
       "  <thead>\n",
       "    <tr style=\"text-align: right;\">\n",
       "      <th></th>\n",
       "      <th>Percent of all MOA Assertions</th>\n",
       "    </tr>\n",
       "    <tr>\n",
       "      <th>Category</th>\n",
       "      <th></th>\n",
       "    </tr>\n",
       "  </thead>\n",
       "  <tbody>\n",
       "    <tr>\n",
       "      <th>Sequence</th>\n",
       "      <td>328 / 1007  (32.57%)</td>\n",
       "    </tr>\n",
       "    <tr>\n",
       "      <th>Genotype/Haplotype</th>\n",
       "      <td>0 / 1007  (0.00%)</td>\n",
       "    </tr>\n",
       "    <tr>\n",
       "      <th>Fusion</th>\n",
       "      <td>0 / 1007  (0.00%)</td>\n",
       "    </tr>\n",
       "    <tr>\n",
       "      <th>Rearrangement</th>\n",
       "      <td>85 / 1007  (8.44%)</td>\n",
       "    </tr>\n",
       "    <tr>\n",
       "      <th>Epigenetic Modification</th>\n",
       "      <td>0 / 1007  (0.00%)</td>\n",
       "    </tr>\n",
       "    <tr>\n",
       "      <th>Copy Number</th>\n",
       "      <td>37 / 1007  (3.67%)</td>\n",
       "    </tr>\n",
       "    <tr>\n",
       "      <th>Expression</th>\n",
       "      <td>12 / 1007  (1.19%)</td>\n",
       "    </tr>\n",
       "    <tr>\n",
       "      <th>Gene Function</th>\n",
       "      <td>14 / 1007  (1.39%)</td>\n",
       "    </tr>\n",
       "    <tr>\n",
       "      <th>Region-Defined</th>\n",
       "      <td>109 / 1007  (10.82%)</td>\n",
       "    </tr>\n",
       "    <tr>\n",
       "      <th>Genome Feature</th>\n",
       "      <td>0 / 1007  (0.00%)</td>\n",
       "    </tr>\n",
       "    <tr>\n",
       "      <th>Other</th>\n",
       "      <td>31 / 1007  (3.08%)</td>\n",
       "    </tr>\n",
       "    <tr>\n",
       "      <th>Transcript</th>\n",
       "      <td>0 / 1007  (0.00%)</td>\n",
       "    </tr>\n",
       "  </tbody>\n",
       "</table>\n",
       "</div>"
      ],
      "text/plain": [
       "                        Percent of all MOA Assertions\n",
       "Category                                             \n",
       "Sequence                         328 / 1007  (32.57%)\n",
       "Genotype/Haplotype                  0 / 1007  (0.00%)\n",
       "Fusion                              0 / 1007  (0.00%)\n",
       "Rearrangement                      85 / 1007  (8.44%)\n",
       "Epigenetic Modification             0 / 1007  (0.00%)\n",
       "Copy Number                        37 / 1007  (3.67%)\n",
       "Expression                         12 / 1007  (1.19%)\n",
       "Gene Function                      14 / 1007  (1.39%)\n",
       "Region-Defined                   109 / 1007  (10.82%)\n",
       "Genome Feature                      0 / 1007  (0.00%)\n",
       "Other                              31 / 1007  (3.08%)\n",
       "Transcript                          0 / 1007  (0.00%)"
      ]
     },
     "execution_count": 85,
     "metadata": {},
     "output_type": "execute_result"
    }
   ],
   "source": [
    "not_supported_feature_assertion_of_moa_df = (\n",
    "    not_supported_feature_assertion_of_moa_df.set_index(\"Category\")\n",
    ")\n",
    "moa_summary_table_5 = not_supported_feature_assertion_of_moa_df\n",
    "moa_summary_table_5"
   ]
  },
  {
   "cell_type": "markdown",
   "metadata": {},
   "source": [
    "### <a id='toc2_2_5_'></a>[Summary Table 6](#toc0_)"
   ]
  },
  {
   "cell_type": "markdown",
   "metadata": {},
   "source": [
    "The table below shows the percent of MOA Assertions (evidence items) associated with Not Supported features (variants) that belong to each variant sub category. "
   ]
  },
  {
   "cell_type": "markdown",
   "metadata": {},
   "source": [
    "<ins>Numerator:</ins> # of MOA Assertions (evidence items) associated with Not Supported features (variants) in a given Subcategory\n",
    "<br><ins>Denominator:</ins> # of MOA Assertions (evidence items) associated with all Not Supported features (variants)"
   ]
  },
  {
   "cell_type": "code",
   "execution_count": 86,
   "metadata": {},
   "outputs": [
    {
     "data": {
      "text/html": [
       "<div>\n",
       "<style scoped>\n",
       "    .dataframe tbody tr th:only-of-type {\n",
       "        vertical-align: middle;\n",
       "    }\n",
       "\n",
       "    .dataframe tbody tr th {\n",
       "        vertical-align: top;\n",
       "    }\n",
       "\n",
       "    .dataframe thead th {\n",
       "        text-align: right;\n",
       "    }\n",
       "</style>\n",
       "<table border=\"1\" class=\"dataframe\">\n",
       "  <thead>\n",
       "    <tr style=\"text-align: right;\">\n",
       "      <th></th>\n",
       "      <th>Percent of Not Supported Feature Assertions</th>\n",
       "    </tr>\n",
       "    <tr>\n",
       "      <th>Category</th>\n",
       "      <th></th>\n",
       "    </tr>\n",
       "  </thead>\n",
       "  <tbody>\n",
       "    <tr>\n",
       "      <th>Sequence</th>\n",
       "      <td>328 / 616  (53.25%)</td>\n",
       "    </tr>\n",
       "    <tr>\n",
       "      <th>Genotype/Haplotype</th>\n",
       "      <td>0 / 616  (0.00%)</td>\n",
       "    </tr>\n",
       "    <tr>\n",
       "      <th>Fusion</th>\n",
       "      <td>0 / 616  (0.00%)</td>\n",
       "    </tr>\n",
       "    <tr>\n",
       "      <th>Rearrangement</th>\n",
       "      <td>85 / 616  (13.80%)</td>\n",
       "    </tr>\n",
       "    <tr>\n",
       "      <th>Epigenetic Modification</th>\n",
       "      <td>0 / 616  (0.00%)</td>\n",
       "    </tr>\n",
       "    <tr>\n",
       "      <th>Copy Number</th>\n",
       "      <td>37 / 616  (6.01%)</td>\n",
       "    </tr>\n",
       "    <tr>\n",
       "      <th>Expression</th>\n",
       "      <td>12 / 616  (1.95%)</td>\n",
       "    </tr>\n",
       "    <tr>\n",
       "      <th>Gene Function</th>\n",
       "      <td>14 / 616  (2.27%)</td>\n",
       "    </tr>\n",
       "    <tr>\n",
       "      <th>Region-Defined</th>\n",
       "      <td>109 / 616  (17.69%)</td>\n",
       "    </tr>\n",
       "    <tr>\n",
       "      <th>Genome Feature</th>\n",
       "      <td>0 / 616  (0.00%)</td>\n",
       "    </tr>\n",
       "    <tr>\n",
       "      <th>Other</th>\n",
       "      <td>31 / 616  (5.03%)</td>\n",
       "    </tr>\n",
       "    <tr>\n",
       "      <th>Transcript</th>\n",
       "      <td>0 / 616  (0.00%)</td>\n",
       "    </tr>\n",
       "  </tbody>\n",
       "</table>\n",
       "</div>"
      ],
      "text/plain": [
       "                        Percent of Not Supported Feature Assertions\n",
       "Category                                                           \n",
       "Sequence                                        328 / 616  (53.25%)\n",
       "Genotype/Haplotype                                 0 / 616  (0.00%)\n",
       "Fusion                                             0 / 616  (0.00%)\n",
       "Rearrangement                                    85 / 616  (13.80%)\n",
       "Epigenetic Modification                            0 / 616  (0.00%)\n",
       "Copy Number                                       37 / 616  (6.01%)\n",
       "Expression                                        12 / 616  (1.95%)\n",
       "Gene Function                                     14 / 616  (2.27%)\n",
       "Region-Defined                                  109 / 616  (17.69%)\n",
       "Genome Feature                                     0 / 616  (0.00%)\n",
       "Other                                             31 / 616  (5.03%)\n",
       "Transcript                                         0 / 616  (0.00%)"
      ]
     },
     "execution_count": 86,
     "metadata": {},
     "output_type": "execute_result"
    }
   ],
   "source": [
    "not_supported_feature_assertion_of_not_supported_df = (\n",
    "    not_supported_feature_assertion_of_not_supported_df.set_index(\"Category\")\n",
    ")\n",
    "moa_summary_table_6 = not_supported_feature_assertion_of_not_supported_df\n",
    "moa_summary_table_6"
   ]
  },
  {
   "cell_type": "markdown",
   "metadata": {},
   "source": [
    "## <a id='toc2_3_'></a>[Impact](#toc0_)"
   ]
  },
  {
   "attachments": {},
   "cell_type": "markdown",
   "metadata": {},
   "source": [
    "The bar graph below shows the relationship between the Not Supported variant sub category impact score and the sub category. Additionally, the colors illustrate the number of assertions (evidence items) associated each sub category."
   ]
  },
  {
   "cell_type": "code",
   "execution_count": 87,
   "metadata": {},
   "outputs": [
    {
     "data": {
      "text/html": [
       "<div>\n",
       "<style scoped>\n",
       "    .dataframe tbody tr th:only-of-type {\n",
       "        vertical-align: middle;\n",
       "    }\n",
       "\n",
       "    .dataframe tbody tr th {\n",
       "        vertical-align: top;\n",
       "    }\n",
       "\n",
       "    .dataframe thead th {\n",
       "        text-align: right;\n",
       "    }\n",
       "</style>\n",
       "<table border=\"1\" class=\"dataframe\">\n",
       "  <thead>\n",
       "    <tr style=\"text-align: right;\">\n",
       "      <th></th>\n",
       "      <th>Category</th>\n",
       "      <th>MOA Total Sum Impact Score</th>\n",
       "      <th>Average Impact Score per Feature</th>\n",
       "      <th>Average Impact Score per Assertion</th>\n",
       "      <th>Total Number Assertions</th>\n",
       "      <th>Total Number Features</th>\n",
       "    </tr>\n",
       "  </thead>\n",
       "  <tbody>\n",
       "    <tr>\n",
       "      <th>0</th>\n",
       "      <td>Sequence</td>\n",
       "      <td>767.5</td>\n",
       "      <td>6.04</td>\n",
       "      <td>6.04</td>\n",
       "      <td>328</td>\n",
       "      <td>127</td>\n",
       "    </tr>\n",
       "    <tr>\n",
       "      <th>1</th>\n",
       "      <td>Genotype/Haplotype</td>\n",
       "      <td>0.0</td>\n",
       "      <td>0</td>\n",
       "      <td>0</td>\n",
       "      <td>0</td>\n",
       "      <td>0</td>\n",
       "    </tr>\n",
       "    <tr>\n",
       "      <th>2</th>\n",
       "      <td>Fusion</td>\n",
       "      <td>0.0</td>\n",
       "      <td>0</td>\n",
       "      <td>0</td>\n",
       "      <td>0</td>\n",
       "      <td>0</td>\n",
       "    </tr>\n",
       "    <tr>\n",
       "      <th>3</th>\n",
       "      <td>Rearrangement</td>\n",
       "      <td>261.0</td>\n",
       "      <td>7.46</td>\n",
       "      <td>7.46</td>\n",
       "      <td>85</td>\n",
       "      <td>35</td>\n",
       "    </tr>\n",
       "    <tr>\n",
       "      <th>4</th>\n",
       "      <td>Epigenetic Modification</td>\n",
       "      <td>0.0</td>\n",
       "      <td>0</td>\n",
       "      <td>0</td>\n",
       "      <td>0</td>\n",
       "      <td>0</td>\n",
       "    </tr>\n",
       "    <tr>\n",
       "      <th>5</th>\n",
       "      <td>Copy Number</td>\n",
       "      <td>50.0</td>\n",
       "      <td>2.17</td>\n",
       "      <td>2.17</td>\n",
       "      <td>37</td>\n",
       "      <td>23</td>\n",
       "    </tr>\n",
       "    <tr>\n",
       "      <th>6</th>\n",
       "      <td>Expression</td>\n",
       "      <td>11.0</td>\n",
       "      <td>1.00</td>\n",
       "      <td>1.00</td>\n",
       "      <td>12</td>\n",
       "      <td>11</td>\n",
       "    </tr>\n",
       "    <tr>\n",
       "      <th>7</th>\n",
       "      <td>Gene Function</td>\n",
       "      <td>47.0</td>\n",
       "      <td>5.88</td>\n",
       "      <td>5.88</td>\n",
       "      <td>14</td>\n",
       "      <td>8</td>\n",
       "    </tr>\n",
       "    <tr>\n",
       "      <th>8</th>\n",
       "      <td>Region-Defined</td>\n",
       "      <td>267.0</td>\n",
       "      <td>6.67</td>\n",
       "      <td>6.67</td>\n",
       "      <td>109</td>\n",
       "      <td>40</td>\n",
       "    </tr>\n",
       "    <tr>\n",
       "      <th>9</th>\n",
       "      <td>Genome Feature</td>\n",
       "      <td>0.0</td>\n",
       "      <td>0</td>\n",
       "      <td>0</td>\n",
       "      <td>0</td>\n",
       "      <td>0</td>\n",
       "    </tr>\n",
       "    <tr>\n",
       "      <th>10</th>\n",
       "      <td>Other</td>\n",
       "      <td>77.0</td>\n",
       "      <td>6.42</td>\n",
       "      <td>6.42</td>\n",
       "      <td>31</td>\n",
       "      <td>12</td>\n",
       "    </tr>\n",
       "    <tr>\n",
       "      <th>11</th>\n",
       "      <td>Transcript</td>\n",
       "      <td>0.0</td>\n",
       "      <td>0</td>\n",
       "      <td>0</td>\n",
       "      <td>0</td>\n",
       "      <td>0</td>\n",
       "    </tr>\n",
       "  </tbody>\n",
       "</table>\n",
       "</div>"
      ],
      "text/plain": [
       "                   Category  MOA Total Sum Impact Score  \\\n",
       "0                  Sequence                       767.5   \n",
       "1        Genotype/Haplotype                         0.0   \n",
       "2                    Fusion                         0.0   \n",
       "3             Rearrangement                       261.0   \n",
       "4   Epigenetic Modification                         0.0   \n",
       "5               Copy Number                        50.0   \n",
       "6                Expression                        11.0   \n",
       "7             Gene Function                        47.0   \n",
       "8            Region-Defined                       267.0   \n",
       "9            Genome Feature                         0.0   \n",
       "10                    Other                        77.0   \n",
       "11               Transcript                         0.0   \n",
       "\n",
       "   Average Impact Score per Feature Average Impact Score per Assertion  \\\n",
       "0                              6.04                               6.04   \n",
       "1                                 0                                  0   \n",
       "2                                 0                                  0   \n",
       "3                              7.46                               7.46   \n",
       "4                                 0                                  0   \n",
       "5                              2.17                               2.17   \n",
       "6                              1.00                               1.00   \n",
       "7                              5.88                               5.88   \n",
       "8                              6.67                               6.67   \n",
       "9                                 0                                  0   \n",
       "10                             6.42                               6.42   \n",
       "11                                0                                  0   \n",
       "\n",
       "    Total Number Assertions  Total Number Features  \n",
       "0                       328                    127  \n",
       "1                         0                      0  \n",
       "2                         0                      0  \n",
       "3                        85                     35  \n",
       "4                         0                      0  \n",
       "5                        37                     23  \n",
       "6                        12                     11  \n",
       "7                        14                      8  \n",
       "8                       109                     40  \n",
       "9                         0                      0  \n",
       "10                       31                     12  \n",
       "11                        0                      0  "
      ]
     },
     "execution_count": 87,
     "metadata": {},
     "output_type": "execute_result"
    }
   ],
   "source": [
    "not_supported_feature_impact_df = pd.DataFrame(not_supported_impact_summary)\n",
    "not_supported_feature_impact_df"
   ]
  },
  {
   "cell_type": "code",
   "execution_count": 88,
   "metadata": {},
   "outputs": [],
   "source": [
    "not_supported_feature_impact_df.to_csv(\n",
    "    \"output/not_supported_feature_impact_df.csv\", index=False\n",
    ")"
   ]
  },
  {
   "cell_type": "code",
   "execution_count": 89,
   "metadata": {},
   "outputs": [
    {
     "data": {
      "application/vnd.plotly.v1+json": {
       "config": {
        "plotlyServerURL": "https://plot.ly"
       },
       "data": [
        {
         "customdata": {
          "bdata": "SAEAAAAAVQAAACUADAAOAG0AAAAfAAAA",
          "dtype": "i2",
          "shape": "12, 1"
         },
         "hovertemplate": "Category=%{x}<br>MOA Total Sum Impact Score=%{y}<br>Total Number Assertions=%{marker.color}<extra></extra>",
         "legendgroup": "",
         "marker": {
          "color": {
           "bdata": "SAEAAAAAVQAAACUADAAOAG0AAAAfAAAA",
           "dtype": "i2"
          },
          "coloraxis": "coloraxis",
          "pattern": {
           "shape": ""
          }
         },
         "name": "",
         "orientation": "v",
         "showlegend": false,
         "textposition": "auto",
         "texttemplate": "%{y:.1f}",
         "type": "bar",
         "width": 1,
         "x": [
          "Sequence",
          "Genotype/Haplotype",
          "Fusion",
          "Rearrangement",
          "Epigenetic Modification",
          "Copy Number",
          "Expression",
          "Gene Function",
          "Region-Defined",
          "Genome Feature",
          "Other",
          "Transcript"
         ],
         "xaxis": "x",
         "y": {
          "bdata": "AAAAAAD8h0AAAAAAAAAAAAAAAAAAAAAAAAAAAABQcEAAAAAAAAAAAAAAAAAAAElAAAAAAAAAJkAAAAAAAIBHQAAAAAAAsHBAAAAAAAAAAAAAAAAAAEBTQAAAAAAAAAAA",
          "dtype": "f8"
         },
         "yaxis": "y"
        }
       ],
       "layout": {
        "barmode": "relative",
        "coloraxis": {
         "colorbar": {
          "title": {
           "text": "Total Number Assertions"
          }
         },
         "colorscale": [
          [
           0,
           "rgb(0, 128, 128)"
          ],
          [
           0.16666666666666666,
           "rgb(112, 164, 148)"
          ],
          [
           0.3333333333333333,
           "rgb(180, 200, 168)"
          ],
          [
           0.5,
           "rgb(246, 237, 189)"
          ],
          [
           0.6666666666666666,
           "rgb(237, 187, 138)"
          ],
          [
           0.8333333333333334,
           "rgb(222, 138, 90)"
          ],
          [
           1,
           "rgb(202, 86, 44)"
          ]
         ]
        },
        "legend": {
         "tracegroupgap": 0
        },
        "margin": {
         "t": 60
        },
        "template": {
         "data": {
          "bar": [
           {
            "error_x": {
             "color": "#2a3f5f"
            },
            "error_y": {
             "color": "#2a3f5f"
            },
            "marker": {
             "line": {
              "color": "#E5ECF6",
              "width": 0.5
             },
             "pattern": {
              "fillmode": "overlay",
              "size": 10,
              "solidity": 0.2
             }
            },
            "type": "bar"
           }
          ],
          "barpolar": [
           {
            "marker": {
             "line": {
              "color": "#E5ECF6",
              "width": 0.5
             },
             "pattern": {
              "fillmode": "overlay",
              "size": 10,
              "solidity": 0.2
             }
            },
            "type": "barpolar"
           }
          ],
          "carpet": [
           {
            "aaxis": {
             "endlinecolor": "#2a3f5f",
             "gridcolor": "white",
             "linecolor": "white",
             "minorgridcolor": "white",
             "startlinecolor": "#2a3f5f"
            },
            "baxis": {
             "endlinecolor": "#2a3f5f",
             "gridcolor": "white",
             "linecolor": "white",
             "minorgridcolor": "white",
             "startlinecolor": "#2a3f5f"
            },
            "type": "carpet"
           }
          ],
          "choropleth": [
           {
            "colorbar": {
             "outlinewidth": 0,
             "ticks": ""
            },
            "type": "choropleth"
           }
          ],
          "contour": [
           {
            "colorbar": {
             "outlinewidth": 0,
             "ticks": ""
            },
            "colorscale": [
             [
              0,
              "#0d0887"
             ],
             [
              0.1111111111111111,
              "#46039f"
             ],
             [
              0.2222222222222222,
              "#7201a8"
             ],
             [
              0.3333333333333333,
              "#9c179e"
             ],
             [
              0.4444444444444444,
              "#bd3786"
             ],
             [
              0.5555555555555556,
              "#d8576b"
             ],
             [
              0.6666666666666666,
              "#ed7953"
             ],
             [
              0.7777777777777778,
              "#fb9f3a"
             ],
             [
              0.8888888888888888,
              "#fdca26"
             ],
             [
              1,
              "#f0f921"
             ]
            ],
            "type": "contour"
           }
          ],
          "contourcarpet": [
           {
            "colorbar": {
             "outlinewidth": 0,
             "ticks": ""
            },
            "type": "contourcarpet"
           }
          ],
          "heatmap": [
           {
            "colorbar": {
             "outlinewidth": 0,
             "ticks": ""
            },
            "colorscale": [
             [
              0,
              "#0d0887"
             ],
             [
              0.1111111111111111,
              "#46039f"
             ],
             [
              0.2222222222222222,
              "#7201a8"
             ],
             [
              0.3333333333333333,
              "#9c179e"
             ],
             [
              0.4444444444444444,
              "#bd3786"
             ],
             [
              0.5555555555555556,
              "#d8576b"
             ],
             [
              0.6666666666666666,
              "#ed7953"
             ],
             [
              0.7777777777777778,
              "#fb9f3a"
             ],
             [
              0.8888888888888888,
              "#fdca26"
             ],
             [
              1,
              "#f0f921"
             ]
            ],
            "type": "heatmap"
           }
          ],
          "histogram": [
           {
            "marker": {
             "pattern": {
              "fillmode": "overlay",
              "size": 10,
              "solidity": 0.2
             }
            },
            "type": "histogram"
           }
          ],
          "histogram2d": [
           {
            "colorbar": {
             "outlinewidth": 0,
             "ticks": ""
            },
            "colorscale": [
             [
              0,
              "#0d0887"
             ],
             [
              0.1111111111111111,
              "#46039f"
             ],
             [
              0.2222222222222222,
              "#7201a8"
             ],
             [
              0.3333333333333333,
              "#9c179e"
             ],
             [
              0.4444444444444444,
              "#bd3786"
             ],
             [
              0.5555555555555556,
              "#d8576b"
             ],
             [
              0.6666666666666666,
              "#ed7953"
             ],
             [
              0.7777777777777778,
              "#fb9f3a"
             ],
             [
              0.8888888888888888,
              "#fdca26"
             ],
             [
              1,
              "#f0f921"
             ]
            ],
            "type": "histogram2d"
           }
          ],
          "histogram2dcontour": [
           {
            "colorbar": {
             "outlinewidth": 0,
             "ticks": ""
            },
            "colorscale": [
             [
              0,
              "#0d0887"
             ],
             [
              0.1111111111111111,
              "#46039f"
             ],
             [
              0.2222222222222222,
              "#7201a8"
             ],
             [
              0.3333333333333333,
              "#9c179e"
             ],
             [
              0.4444444444444444,
              "#bd3786"
             ],
             [
              0.5555555555555556,
              "#d8576b"
             ],
             [
              0.6666666666666666,
              "#ed7953"
             ],
             [
              0.7777777777777778,
              "#fb9f3a"
             ],
             [
              0.8888888888888888,
              "#fdca26"
             ],
             [
              1,
              "#f0f921"
             ]
            ],
            "type": "histogram2dcontour"
           }
          ],
          "mesh3d": [
           {
            "colorbar": {
             "outlinewidth": 0,
             "ticks": ""
            },
            "type": "mesh3d"
           }
          ],
          "parcoords": [
           {
            "line": {
             "colorbar": {
              "outlinewidth": 0,
              "ticks": ""
             }
            },
            "type": "parcoords"
           }
          ],
          "pie": [
           {
            "automargin": true,
            "type": "pie"
           }
          ],
          "scatter": [
           {
            "fillpattern": {
             "fillmode": "overlay",
             "size": 10,
             "solidity": 0.2
            },
            "type": "scatter"
           }
          ],
          "scatter3d": [
           {
            "line": {
             "colorbar": {
              "outlinewidth": 0,
              "ticks": ""
             }
            },
            "marker": {
             "colorbar": {
              "outlinewidth": 0,
              "ticks": ""
             }
            },
            "type": "scatter3d"
           }
          ],
          "scattercarpet": [
           {
            "marker": {
             "colorbar": {
              "outlinewidth": 0,
              "ticks": ""
             }
            },
            "type": "scattercarpet"
           }
          ],
          "scattergeo": [
           {
            "marker": {
             "colorbar": {
              "outlinewidth": 0,
              "ticks": ""
             }
            },
            "type": "scattergeo"
           }
          ],
          "scattergl": [
           {
            "marker": {
             "colorbar": {
              "outlinewidth": 0,
              "ticks": ""
             }
            },
            "type": "scattergl"
           }
          ],
          "scattermap": [
           {
            "marker": {
             "colorbar": {
              "outlinewidth": 0,
              "ticks": ""
             }
            },
            "type": "scattermap"
           }
          ],
          "scattermapbox": [
           {
            "marker": {
             "colorbar": {
              "outlinewidth": 0,
              "ticks": ""
             }
            },
            "type": "scattermapbox"
           }
          ],
          "scatterpolar": [
           {
            "marker": {
             "colorbar": {
              "outlinewidth": 0,
              "ticks": ""
             }
            },
            "type": "scatterpolar"
           }
          ],
          "scatterpolargl": [
           {
            "marker": {
             "colorbar": {
              "outlinewidth": 0,
              "ticks": ""
             }
            },
            "type": "scatterpolargl"
           }
          ],
          "scatterternary": [
           {
            "marker": {
             "colorbar": {
              "outlinewidth": 0,
              "ticks": ""
             }
            },
            "type": "scatterternary"
           }
          ],
          "surface": [
           {
            "colorbar": {
             "outlinewidth": 0,
             "ticks": ""
            },
            "colorscale": [
             [
              0,
              "#0d0887"
             ],
             [
              0.1111111111111111,
              "#46039f"
             ],
             [
              0.2222222222222222,
              "#7201a8"
             ],
             [
              0.3333333333333333,
              "#9c179e"
             ],
             [
              0.4444444444444444,
              "#bd3786"
             ],
             [
              0.5555555555555556,
              "#d8576b"
             ],
             [
              0.6666666666666666,
              "#ed7953"
             ],
             [
              0.7777777777777778,
              "#fb9f3a"
             ],
             [
              0.8888888888888888,
              "#fdca26"
             ],
             [
              1,
              "#f0f921"
             ]
            ],
            "type": "surface"
           }
          ],
          "table": [
           {
            "cells": {
             "fill": {
              "color": "#EBF0F8"
             },
             "line": {
              "color": "white"
             }
            },
            "header": {
             "fill": {
              "color": "#C8D4E3"
             },
             "line": {
              "color": "white"
             }
            },
            "type": "table"
           }
          ]
         },
         "layout": {
          "annotationdefaults": {
           "arrowcolor": "#2a3f5f",
           "arrowhead": 0,
           "arrowwidth": 1
          },
          "autotypenumbers": "strict",
          "coloraxis": {
           "colorbar": {
            "outlinewidth": 0,
            "ticks": ""
           }
          },
          "colorscale": {
           "diverging": [
            [
             0,
             "#8e0152"
            ],
            [
             0.1,
             "#c51b7d"
            ],
            [
             0.2,
             "#de77ae"
            ],
            [
             0.3,
             "#f1b6da"
            ],
            [
             0.4,
             "#fde0ef"
            ],
            [
             0.5,
             "#f7f7f7"
            ],
            [
             0.6,
             "#e6f5d0"
            ],
            [
             0.7,
             "#b8e186"
            ],
            [
             0.8,
             "#7fbc41"
            ],
            [
             0.9,
             "#4d9221"
            ],
            [
             1,
             "#276419"
            ]
           ],
           "sequential": [
            [
             0,
             "#0d0887"
            ],
            [
             0.1111111111111111,
             "#46039f"
            ],
            [
             0.2222222222222222,
             "#7201a8"
            ],
            [
             0.3333333333333333,
             "#9c179e"
            ],
            [
             0.4444444444444444,
             "#bd3786"
            ],
            [
             0.5555555555555556,
             "#d8576b"
            ],
            [
             0.6666666666666666,
             "#ed7953"
            ],
            [
             0.7777777777777778,
             "#fb9f3a"
            ],
            [
             0.8888888888888888,
             "#fdca26"
            ],
            [
             1,
             "#f0f921"
            ]
           ],
           "sequentialminus": [
            [
             0,
             "#0d0887"
            ],
            [
             0.1111111111111111,
             "#46039f"
            ],
            [
             0.2222222222222222,
             "#7201a8"
            ],
            [
             0.3333333333333333,
             "#9c179e"
            ],
            [
             0.4444444444444444,
             "#bd3786"
            ],
            [
             0.5555555555555556,
             "#d8576b"
            ],
            [
             0.6666666666666666,
             "#ed7953"
            ],
            [
             0.7777777777777778,
             "#fb9f3a"
            ],
            [
             0.8888888888888888,
             "#fdca26"
            ],
            [
             1,
             "#f0f921"
            ]
           ]
          },
          "colorway": [
           "#636efa",
           "#EF553B",
           "#00cc96",
           "#ab63fa",
           "#FFA15A",
           "#19d3f3",
           "#FF6692",
           "#B6E880",
           "#FF97FF",
           "#FECB52"
          ],
          "font": {
           "color": "#2a3f5f"
          },
          "geo": {
           "bgcolor": "white",
           "lakecolor": "white",
           "landcolor": "#E5ECF6",
           "showlakes": true,
           "showland": true,
           "subunitcolor": "white"
          },
          "hoverlabel": {
           "align": "left"
          },
          "hovermode": "closest",
          "mapbox": {
           "style": "light"
          },
          "paper_bgcolor": "white",
          "plot_bgcolor": "#E5ECF6",
          "polar": {
           "angularaxis": {
            "gridcolor": "white",
            "linecolor": "white",
            "ticks": ""
           },
           "bgcolor": "#E5ECF6",
           "radialaxis": {
            "gridcolor": "white",
            "linecolor": "white",
            "ticks": ""
           }
          },
          "scene": {
           "xaxis": {
            "backgroundcolor": "#E5ECF6",
            "gridcolor": "white",
            "gridwidth": 2,
            "linecolor": "white",
            "showbackground": true,
            "ticks": "",
            "zerolinecolor": "white"
           },
           "yaxis": {
            "backgroundcolor": "#E5ECF6",
            "gridcolor": "white",
            "gridwidth": 2,
            "linecolor": "white",
            "showbackground": true,
            "ticks": "",
            "zerolinecolor": "white"
           },
           "zaxis": {
            "backgroundcolor": "#E5ECF6",
            "gridcolor": "white",
            "gridwidth": 2,
            "linecolor": "white",
            "showbackground": true,
            "ticks": "",
            "zerolinecolor": "white"
           }
          },
          "shapedefaults": {
           "line": {
            "color": "#2a3f5f"
           }
          },
          "ternary": {
           "aaxis": {
            "gridcolor": "white",
            "linecolor": "white",
            "ticks": ""
           },
           "baxis": {
            "gridcolor": "white",
            "linecolor": "white",
            "ticks": ""
           },
           "bgcolor": "#E5ECF6",
           "caxis": {
            "gridcolor": "white",
            "linecolor": "white",
            "ticks": ""
           }
          },
          "title": {
           "x": 0.05
          },
          "xaxis": {
           "automargin": true,
           "gridcolor": "white",
           "linecolor": "white",
           "ticks": "",
           "title": {
            "standoff": 15
           },
           "zerolinecolor": "white",
           "zerolinewidth": 2
          },
          "yaxis": {
           "automargin": true,
           "gridcolor": "white",
           "linecolor": "white",
           "ticks": "",
           "title": {
            "standoff": 15
           },
           "zerolinecolor": "white",
           "zerolinewidth": 2
          }
         }
        },
        "xaxis": {
         "anchor": "y",
         "domain": [
          0,
          1
         ],
         "title": {
          "text": "Category"
         }
        },
        "yaxis": {
         "anchor": "x",
         "domain": [
          0,
          1
         ],
         "title": {
          "text": "MOA Total Sum Impact Score"
         }
        }
       }
      }
     },
     "metadata": {},
     "output_type": "display_data"
    }
   ],
   "source": [
    "fig3 = px.bar(\n",
    "    not_supported_feature_impact_df,\n",
    "    x=\"Category\",\n",
    "    y=\"MOA Total Sum Impact Score\",\n",
    "    hover_data=[\"Total Number Assertions\"],\n",
    "    color=\"Total Number Assertions\",\n",
    "    labels={\"MOA Total Sum Impact Score\": \"MOA Total Sum Impact Score\"},\n",
    "    text_auto=\".1f\",\n",
    "    color_continuous_scale=\"geyser\",\n",
    ")\n",
    "fig3.update_traces(width=1)\n",
    "fig3.show()"
   ]
  },
  {
   "cell_type": "code",
   "execution_count": 90,
   "metadata": {},
   "outputs": [],
   "source": [
    "fig3.write_html(\"output/moa_ns_categories_impact_redgreen.html\")"
   ]
  },
  {
   "attachments": {},
   "cell_type": "markdown",
   "metadata": {},
   "source": [
    "The scatterplot below shows the relationship between the Not Supported variant sub category impact score and the number of assertions (evidence items) associated with features (variants) in each sub category. Additionally, the sizes of the data point represent the number of features (variants) in each sub category. "
   ]
  },
  {
   "cell_type": "code",
   "execution_count": 91,
   "metadata": {},
   "outputs": [
    {
     "data": {
      "application/vnd.plotly.v1+json": {
       "config": {
        "plotlyServerURL": "https://plot.ly"
       },
       "data": [
        {
         "hovertemplate": "Category=Sequence<br>Total Number Assertions=%{x}<br>MOA Total Sum Impact Score=%{y}<br>Total Number Features=%{text}<extra></extra>",
         "legendgroup": "Sequence",
         "marker": {
          "color": "#636efa",
          "size": {
           "bdata": "fw==",
           "dtype": "i1"
          },
          "sizemode": "area",
          "sizeref": 0.079375,
          "symbol": "circle"
         },
         "mode": "markers+text",
         "name": "Sequence",
         "orientation": "v",
         "showlegend": true,
         "text": {
          "bdata": "AAAAAADAX0A=",
          "dtype": "f8"
         },
         "type": "scatter",
         "x": {
          "bdata": "SAE=",
          "dtype": "i2"
         },
         "xaxis": "x",
         "y": {
          "bdata": "AAAAAAD8h0A=",
          "dtype": "f8"
         },
         "yaxis": "y"
        },
        {
         "hovertemplate": "Category=Genotype/Haplotype<br>Total Number Assertions=%{x}<br>MOA Total Sum Impact Score=%{y}<br>Total Number Features=%{text}<extra></extra>",
         "legendgroup": "Genotype/Haplotype",
         "marker": {
          "color": "#EF553B",
          "size": {
           "bdata": "AA==",
           "dtype": "i1"
          },
          "sizemode": "area",
          "sizeref": 0.079375,
          "symbol": "circle"
         },
         "mode": "markers+text",
         "name": "Genotype/Haplotype",
         "orientation": "v",
         "showlegend": true,
         "text": {
          "bdata": "AAAAAAAAAAA=",
          "dtype": "f8"
         },
         "type": "scatter",
         "x": {
          "bdata": "AA==",
          "dtype": "i1"
         },
         "xaxis": "x",
         "y": {
          "bdata": "AAAAAAAAAAA=",
          "dtype": "f8"
         },
         "yaxis": "y"
        },
        {
         "hovertemplate": "Category=Fusion<br>Total Number Assertions=%{x}<br>MOA Total Sum Impact Score=%{y}<br>Total Number Features=%{text}<extra></extra>",
         "legendgroup": "Fusion",
         "marker": {
          "color": "#00cc96",
          "size": {
           "bdata": "AA==",
           "dtype": "i1"
          },
          "sizemode": "area",
          "sizeref": 0.079375,
          "symbol": "circle"
         },
         "mode": "markers+text",
         "name": "Fusion",
         "orientation": "v",
         "showlegend": true,
         "text": {
          "bdata": "AAAAAAAAAAA=",
          "dtype": "f8"
         },
         "type": "scatter",
         "x": {
          "bdata": "AA==",
          "dtype": "i1"
         },
         "xaxis": "x",
         "y": {
          "bdata": "AAAAAAAAAAA=",
          "dtype": "f8"
         },
         "yaxis": "y"
        },
        {
         "hovertemplate": "Category=Rearrangement<br>Total Number Assertions=%{x}<br>MOA Total Sum Impact Score=%{y}<br>Total Number Features=%{text}<extra></extra>",
         "legendgroup": "Rearrangement",
         "marker": {
          "color": "#ab63fa",
          "size": {
           "bdata": "Iw==",
           "dtype": "i1"
          },
          "sizemode": "area",
          "sizeref": 0.079375,
          "symbol": "circle"
         },
         "mode": "markers+text",
         "name": "Rearrangement",
         "orientation": "v",
         "showlegend": true,
         "text": {
          "bdata": "AAAAAACAQUA=",
          "dtype": "f8"
         },
         "type": "scatter",
         "x": {
          "bdata": "VQ==",
          "dtype": "i1"
         },
         "xaxis": "x",
         "y": {
          "bdata": "AAAAAABQcEA=",
          "dtype": "f8"
         },
         "yaxis": "y"
        },
        {
         "hovertemplate": "Category=Epigenetic Modification<br>Total Number Assertions=%{x}<br>MOA Total Sum Impact Score=%{y}<br>Total Number Features=%{text}<extra></extra>",
         "legendgroup": "Epigenetic Modification",
         "marker": {
          "color": "#FFA15A",
          "size": {
           "bdata": "AA==",
           "dtype": "i1"
          },
          "sizemode": "area",
          "sizeref": 0.079375,
          "symbol": "circle"
         },
         "mode": "markers+text",
         "name": "Epigenetic Modification",
         "orientation": "v",
         "showlegend": true,
         "text": {
          "bdata": "AAAAAAAAAAA=",
          "dtype": "f8"
         },
         "type": "scatter",
         "x": {
          "bdata": "AA==",
          "dtype": "i1"
         },
         "xaxis": "x",
         "y": {
          "bdata": "AAAAAAAAAAA=",
          "dtype": "f8"
         },
         "yaxis": "y"
        },
        {
         "hovertemplate": "Category=Copy Number<br>Total Number Assertions=%{x}<br>MOA Total Sum Impact Score=%{y}<br>Total Number Features=%{text}<extra></extra>",
         "legendgroup": "Copy Number",
         "marker": {
          "color": "#19d3f3",
          "size": {
           "bdata": "Fw==",
           "dtype": "i1"
          },
          "sizemode": "area",
          "sizeref": 0.079375,
          "symbol": "circle"
         },
         "mode": "markers+text",
         "name": "Copy Number",
         "orientation": "v",
         "showlegend": true,
         "text": {
          "bdata": "AAAAAAAAN0A=",
          "dtype": "f8"
         },
         "type": "scatter",
         "x": {
          "bdata": "JQ==",
          "dtype": "i1"
         },
         "xaxis": "x",
         "y": {
          "bdata": "AAAAAAAASUA=",
          "dtype": "f8"
         },
         "yaxis": "y"
        },
        {
         "hovertemplate": "Category=Expression<br>Total Number Assertions=%{x}<br>MOA Total Sum Impact Score=%{y}<br>Total Number Features=%{text}<extra></extra>",
         "legendgroup": "Expression",
         "marker": {
          "color": "#FF6692",
          "size": {
           "bdata": "Cw==",
           "dtype": "i1"
          },
          "sizemode": "area",
          "sizeref": 0.079375,
          "symbol": "circle"
         },
         "mode": "markers+text",
         "name": "Expression",
         "orientation": "v",
         "showlegend": true,
         "text": {
          "bdata": "AAAAAAAAJkA=",
          "dtype": "f8"
         },
         "type": "scatter",
         "x": {
          "bdata": "DA==",
          "dtype": "i1"
         },
         "xaxis": "x",
         "y": {
          "bdata": "AAAAAAAAJkA=",
          "dtype": "f8"
         },
         "yaxis": "y"
        },
        {
         "hovertemplate": "Category=Gene Function<br>Total Number Assertions=%{x}<br>MOA Total Sum Impact Score=%{y}<br>Total Number Features=%{text}<extra></extra>",
         "legendgroup": "Gene Function",
         "marker": {
          "color": "#B6E880",
          "size": {
           "bdata": "CA==",
           "dtype": "i1"
          },
          "sizemode": "area",
          "sizeref": 0.079375,
          "symbol": "circle"
         },
         "mode": "markers+text",
         "name": "Gene Function",
         "orientation": "v",
         "showlegend": true,
         "text": {
          "bdata": "AAAAAAAAIEA=",
          "dtype": "f8"
         },
         "type": "scatter",
         "x": {
          "bdata": "Dg==",
          "dtype": "i1"
         },
         "xaxis": "x",
         "y": {
          "bdata": "AAAAAACAR0A=",
          "dtype": "f8"
         },
         "yaxis": "y"
        },
        {
         "hovertemplate": "Category=Region-Defined<br>Total Number Assertions=%{x}<br>MOA Total Sum Impact Score=%{y}<br>Total Number Features=%{text}<extra></extra>",
         "legendgroup": "Region-Defined",
         "marker": {
          "color": "#FF97FF",
          "size": {
           "bdata": "KA==",
           "dtype": "i1"
          },
          "sizemode": "area",
          "sizeref": 0.079375,
          "symbol": "circle"
         },
         "mode": "markers+text",
         "name": "Region-Defined",
         "orientation": "v",
         "showlegend": true,
         "text": {
          "bdata": "AAAAAAAAREA=",
          "dtype": "f8"
         },
         "type": "scatter",
         "x": {
          "bdata": "bQ==",
          "dtype": "i1"
         },
         "xaxis": "x",
         "y": {
          "bdata": "AAAAAACwcEA=",
          "dtype": "f8"
         },
         "yaxis": "y"
        },
        {
         "hovertemplate": "Category=Genome Feature<br>Total Number Assertions=%{x}<br>MOA Total Sum Impact Score=%{y}<br>Total Number Features=%{text}<extra></extra>",
         "legendgroup": "Genome Feature",
         "marker": {
          "color": "#FECB52",
          "size": {
           "bdata": "AA==",
           "dtype": "i1"
          },
          "sizemode": "area",
          "sizeref": 0.079375,
          "symbol": "circle"
         },
         "mode": "markers+text",
         "name": "Genome Feature",
         "orientation": "v",
         "showlegend": true,
         "text": {
          "bdata": "AAAAAAAAAAA=",
          "dtype": "f8"
         },
         "type": "scatter",
         "x": {
          "bdata": "AA==",
          "dtype": "i1"
         },
         "xaxis": "x",
         "y": {
          "bdata": "AAAAAAAAAAA=",
          "dtype": "f8"
         },
         "yaxis": "y"
        },
        {
         "hovertemplate": "Category=Other<br>Total Number Assertions=%{x}<br>MOA Total Sum Impact Score=%{y}<br>Total Number Features=%{text}<extra></extra>",
         "legendgroup": "Other",
         "marker": {
          "color": "#636efa",
          "size": {
           "bdata": "DA==",
           "dtype": "i1"
          },
          "sizemode": "area",
          "sizeref": 0.079375,
          "symbol": "circle"
         },
         "mode": "markers+text",
         "name": "Other",
         "orientation": "v",
         "showlegend": true,
         "text": {
          "bdata": "AAAAAAAAKEA=",
          "dtype": "f8"
         },
         "type": "scatter",
         "x": {
          "bdata": "Hw==",
          "dtype": "i1"
         },
         "xaxis": "x",
         "y": {
          "bdata": "AAAAAABAU0A=",
          "dtype": "f8"
         },
         "yaxis": "y"
        },
        {
         "hovertemplate": "Category=Transcript<br>Total Number Assertions=%{x}<br>MOA Total Sum Impact Score=%{y}<br>Total Number Features=%{text}<extra></extra>",
         "legendgroup": "Transcript",
         "marker": {
          "color": "#EF553B",
          "size": {
           "bdata": "AA==",
           "dtype": "i1"
          },
          "sizemode": "area",
          "sizeref": 0.079375,
          "symbol": "circle"
         },
         "mode": "markers+text",
         "name": "Transcript",
         "orientation": "v",
         "showlegend": true,
         "text": {
          "bdata": "AAAAAAAAAAA=",
          "dtype": "f8"
         },
         "type": "scatter",
         "x": {
          "bdata": "AA==",
          "dtype": "i1"
         },
         "xaxis": "x",
         "y": {
          "bdata": "AAAAAAAAAAA=",
          "dtype": "f8"
         },
         "yaxis": "y"
        }
       ],
       "layout": {
        "legend": {
         "itemsizing": "constant",
         "title": {
          "text": "Category"
         },
         "tracegroupgap": 0
        },
        "margin": {
         "t": 60
        },
        "template": {
         "data": {
          "bar": [
           {
            "error_x": {
             "color": "#2a3f5f"
            },
            "error_y": {
             "color": "#2a3f5f"
            },
            "marker": {
             "line": {
              "color": "#E5ECF6",
              "width": 0.5
             },
             "pattern": {
              "fillmode": "overlay",
              "size": 10,
              "solidity": 0.2
             }
            },
            "type": "bar"
           }
          ],
          "barpolar": [
           {
            "marker": {
             "line": {
              "color": "#E5ECF6",
              "width": 0.5
             },
             "pattern": {
              "fillmode": "overlay",
              "size": 10,
              "solidity": 0.2
             }
            },
            "type": "barpolar"
           }
          ],
          "carpet": [
           {
            "aaxis": {
             "endlinecolor": "#2a3f5f",
             "gridcolor": "white",
             "linecolor": "white",
             "minorgridcolor": "white",
             "startlinecolor": "#2a3f5f"
            },
            "baxis": {
             "endlinecolor": "#2a3f5f",
             "gridcolor": "white",
             "linecolor": "white",
             "minorgridcolor": "white",
             "startlinecolor": "#2a3f5f"
            },
            "type": "carpet"
           }
          ],
          "choropleth": [
           {
            "colorbar": {
             "outlinewidth": 0,
             "ticks": ""
            },
            "type": "choropleth"
           }
          ],
          "contour": [
           {
            "colorbar": {
             "outlinewidth": 0,
             "ticks": ""
            },
            "colorscale": [
             [
              0,
              "#0d0887"
             ],
             [
              0.1111111111111111,
              "#46039f"
             ],
             [
              0.2222222222222222,
              "#7201a8"
             ],
             [
              0.3333333333333333,
              "#9c179e"
             ],
             [
              0.4444444444444444,
              "#bd3786"
             ],
             [
              0.5555555555555556,
              "#d8576b"
             ],
             [
              0.6666666666666666,
              "#ed7953"
             ],
             [
              0.7777777777777778,
              "#fb9f3a"
             ],
             [
              0.8888888888888888,
              "#fdca26"
             ],
             [
              1,
              "#f0f921"
             ]
            ],
            "type": "contour"
           }
          ],
          "contourcarpet": [
           {
            "colorbar": {
             "outlinewidth": 0,
             "ticks": ""
            },
            "type": "contourcarpet"
           }
          ],
          "heatmap": [
           {
            "colorbar": {
             "outlinewidth": 0,
             "ticks": ""
            },
            "colorscale": [
             [
              0,
              "#0d0887"
             ],
             [
              0.1111111111111111,
              "#46039f"
             ],
             [
              0.2222222222222222,
              "#7201a8"
             ],
             [
              0.3333333333333333,
              "#9c179e"
             ],
             [
              0.4444444444444444,
              "#bd3786"
             ],
             [
              0.5555555555555556,
              "#d8576b"
             ],
             [
              0.6666666666666666,
              "#ed7953"
             ],
             [
              0.7777777777777778,
              "#fb9f3a"
             ],
             [
              0.8888888888888888,
              "#fdca26"
             ],
             [
              1,
              "#f0f921"
             ]
            ],
            "type": "heatmap"
           }
          ],
          "histogram": [
           {
            "marker": {
             "pattern": {
              "fillmode": "overlay",
              "size": 10,
              "solidity": 0.2
             }
            },
            "type": "histogram"
           }
          ],
          "histogram2d": [
           {
            "colorbar": {
             "outlinewidth": 0,
             "ticks": ""
            },
            "colorscale": [
             [
              0,
              "#0d0887"
             ],
             [
              0.1111111111111111,
              "#46039f"
             ],
             [
              0.2222222222222222,
              "#7201a8"
             ],
             [
              0.3333333333333333,
              "#9c179e"
             ],
             [
              0.4444444444444444,
              "#bd3786"
             ],
             [
              0.5555555555555556,
              "#d8576b"
             ],
             [
              0.6666666666666666,
              "#ed7953"
             ],
             [
              0.7777777777777778,
              "#fb9f3a"
             ],
             [
              0.8888888888888888,
              "#fdca26"
             ],
             [
              1,
              "#f0f921"
             ]
            ],
            "type": "histogram2d"
           }
          ],
          "histogram2dcontour": [
           {
            "colorbar": {
             "outlinewidth": 0,
             "ticks": ""
            },
            "colorscale": [
             [
              0,
              "#0d0887"
             ],
             [
              0.1111111111111111,
              "#46039f"
             ],
             [
              0.2222222222222222,
              "#7201a8"
             ],
             [
              0.3333333333333333,
              "#9c179e"
             ],
             [
              0.4444444444444444,
              "#bd3786"
             ],
             [
              0.5555555555555556,
              "#d8576b"
             ],
             [
              0.6666666666666666,
              "#ed7953"
             ],
             [
              0.7777777777777778,
              "#fb9f3a"
             ],
             [
              0.8888888888888888,
              "#fdca26"
             ],
             [
              1,
              "#f0f921"
             ]
            ],
            "type": "histogram2dcontour"
           }
          ],
          "mesh3d": [
           {
            "colorbar": {
             "outlinewidth": 0,
             "ticks": ""
            },
            "type": "mesh3d"
           }
          ],
          "parcoords": [
           {
            "line": {
             "colorbar": {
              "outlinewidth": 0,
              "ticks": ""
             }
            },
            "type": "parcoords"
           }
          ],
          "pie": [
           {
            "automargin": true,
            "type": "pie"
           }
          ],
          "scatter": [
           {
            "fillpattern": {
             "fillmode": "overlay",
             "size": 10,
             "solidity": 0.2
            },
            "type": "scatter"
           }
          ],
          "scatter3d": [
           {
            "line": {
             "colorbar": {
              "outlinewidth": 0,
              "ticks": ""
             }
            },
            "marker": {
             "colorbar": {
              "outlinewidth": 0,
              "ticks": ""
             }
            },
            "type": "scatter3d"
           }
          ],
          "scattercarpet": [
           {
            "marker": {
             "colorbar": {
              "outlinewidth": 0,
              "ticks": ""
             }
            },
            "type": "scattercarpet"
           }
          ],
          "scattergeo": [
           {
            "marker": {
             "colorbar": {
              "outlinewidth": 0,
              "ticks": ""
             }
            },
            "type": "scattergeo"
           }
          ],
          "scattergl": [
           {
            "marker": {
             "colorbar": {
              "outlinewidth": 0,
              "ticks": ""
             }
            },
            "type": "scattergl"
           }
          ],
          "scattermap": [
           {
            "marker": {
             "colorbar": {
              "outlinewidth": 0,
              "ticks": ""
             }
            },
            "type": "scattermap"
           }
          ],
          "scattermapbox": [
           {
            "marker": {
             "colorbar": {
              "outlinewidth": 0,
              "ticks": ""
             }
            },
            "type": "scattermapbox"
           }
          ],
          "scatterpolar": [
           {
            "marker": {
             "colorbar": {
              "outlinewidth": 0,
              "ticks": ""
             }
            },
            "type": "scatterpolar"
           }
          ],
          "scatterpolargl": [
           {
            "marker": {
             "colorbar": {
              "outlinewidth": 0,
              "ticks": ""
             }
            },
            "type": "scatterpolargl"
           }
          ],
          "scatterternary": [
           {
            "marker": {
             "colorbar": {
              "outlinewidth": 0,
              "ticks": ""
             }
            },
            "type": "scatterternary"
           }
          ],
          "surface": [
           {
            "colorbar": {
             "outlinewidth": 0,
             "ticks": ""
            },
            "colorscale": [
             [
              0,
              "#0d0887"
             ],
             [
              0.1111111111111111,
              "#46039f"
             ],
             [
              0.2222222222222222,
              "#7201a8"
             ],
             [
              0.3333333333333333,
              "#9c179e"
             ],
             [
              0.4444444444444444,
              "#bd3786"
             ],
             [
              0.5555555555555556,
              "#d8576b"
             ],
             [
              0.6666666666666666,
              "#ed7953"
             ],
             [
              0.7777777777777778,
              "#fb9f3a"
             ],
             [
              0.8888888888888888,
              "#fdca26"
             ],
             [
              1,
              "#f0f921"
             ]
            ],
            "type": "surface"
           }
          ],
          "table": [
           {
            "cells": {
             "fill": {
              "color": "#EBF0F8"
             },
             "line": {
              "color": "white"
             }
            },
            "header": {
             "fill": {
              "color": "#C8D4E3"
             },
             "line": {
              "color": "white"
             }
            },
            "type": "table"
           }
          ]
         },
         "layout": {
          "annotationdefaults": {
           "arrowcolor": "#2a3f5f",
           "arrowhead": 0,
           "arrowwidth": 1
          },
          "autotypenumbers": "strict",
          "coloraxis": {
           "colorbar": {
            "outlinewidth": 0,
            "ticks": ""
           }
          },
          "colorscale": {
           "diverging": [
            [
             0,
             "#8e0152"
            ],
            [
             0.1,
             "#c51b7d"
            ],
            [
             0.2,
             "#de77ae"
            ],
            [
             0.3,
             "#f1b6da"
            ],
            [
             0.4,
             "#fde0ef"
            ],
            [
             0.5,
             "#f7f7f7"
            ],
            [
             0.6,
             "#e6f5d0"
            ],
            [
             0.7,
             "#b8e186"
            ],
            [
             0.8,
             "#7fbc41"
            ],
            [
             0.9,
             "#4d9221"
            ],
            [
             1,
             "#276419"
            ]
           ],
           "sequential": [
            [
             0,
             "#0d0887"
            ],
            [
             0.1111111111111111,
             "#46039f"
            ],
            [
             0.2222222222222222,
             "#7201a8"
            ],
            [
             0.3333333333333333,
             "#9c179e"
            ],
            [
             0.4444444444444444,
             "#bd3786"
            ],
            [
             0.5555555555555556,
             "#d8576b"
            ],
            [
             0.6666666666666666,
             "#ed7953"
            ],
            [
             0.7777777777777778,
             "#fb9f3a"
            ],
            [
             0.8888888888888888,
             "#fdca26"
            ],
            [
             1,
             "#f0f921"
            ]
           ],
           "sequentialminus": [
            [
             0,
             "#0d0887"
            ],
            [
             0.1111111111111111,
             "#46039f"
            ],
            [
             0.2222222222222222,
             "#7201a8"
            ],
            [
             0.3333333333333333,
             "#9c179e"
            ],
            [
             0.4444444444444444,
             "#bd3786"
            ],
            [
             0.5555555555555556,
             "#d8576b"
            ],
            [
             0.6666666666666666,
             "#ed7953"
            ],
            [
             0.7777777777777778,
             "#fb9f3a"
            ],
            [
             0.8888888888888888,
             "#fdca26"
            ],
            [
             1,
             "#f0f921"
            ]
           ]
          },
          "colorway": [
           "#636efa",
           "#EF553B",
           "#00cc96",
           "#ab63fa",
           "#FFA15A",
           "#19d3f3",
           "#FF6692",
           "#B6E880",
           "#FF97FF",
           "#FECB52"
          ],
          "font": {
           "color": "#2a3f5f"
          },
          "geo": {
           "bgcolor": "white",
           "lakecolor": "white",
           "landcolor": "#E5ECF6",
           "showlakes": true,
           "showland": true,
           "subunitcolor": "white"
          },
          "hoverlabel": {
           "align": "left"
          },
          "hovermode": "closest",
          "mapbox": {
           "style": "light"
          },
          "paper_bgcolor": "white",
          "plot_bgcolor": "#E5ECF6",
          "polar": {
           "angularaxis": {
            "gridcolor": "white",
            "linecolor": "white",
            "ticks": ""
           },
           "bgcolor": "#E5ECF6",
           "radialaxis": {
            "gridcolor": "white",
            "linecolor": "white",
            "ticks": ""
           }
          },
          "scene": {
           "xaxis": {
            "backgroundcolor": "#E5ECF6",
            "gridcolor": "white",
            "gridwidth": 2,
            "linecolor": "white",
            "showbackground": true,
            "ticks": "",
            "zerolinecolor": "white"
           },
           "yaxis": {
            "backgroundcolor": "#E5ECF6",
            "gridcolor": "white",
            "gridwidth": 2,
            "linecolor": "white",
            "showbackground": true,
            "ticks": "",
            "zerolinecolor": "white"
           },
           "zaxis": {
            "backgroundcolor": "#E5ECF6",
            "gridcolor": "white",
            "gridwidth": 2,
            "linecolor": "white",
            "showbackground": true,
            "ticks": "",
            "zerolinecolor": "white"
           }
          },
          "shapedefaults": {
           "line": {
            "color": "#2a3f5f"
           }
          },
          "ternary": {
           "aaxis": {
            "gridcolor": "white",
            "linecolor": "white",
            "ticks": ""
           },
           "baxis": {
            "gridcolor": "white",
            "linecolor": "white",
            "ticks": ""
           },
           "bgcolor": "#E5ECF6",
           "caxis": {
            "gridcolor": "white",
            "linecolor": "white",
            "ticks": ""
           }
          },
          "title": {
           "x": 0.05
          },
          "xaxis": {
           "automargin": true,
           "gridcolor": "white",
           "linecolor": "white",
           "ticks": "",
           "title": {
            "standoff": 15
           },
           "zerolinecolor": "white",
           "zerolinewidth": 2
          },
          "yaxis": {
           "automargin": true,
           "gridcolor": "white",
           "linecolor": "white",
           "ticks": "",
           "title": {
            "standoff": 15
           },
           "zerolinecolor": "white",
           "zerolinewidth": 2
          }
         }
        },
        "xaxis": {
         "anchor": "y",
         "domain": [
          0,
          1
         ],
         "title": {
          "text": "Total Number Assertions"
         }
        },
        "yaxis": {
         "anchor": "x",
         "domain": [
          0,
          1
         ],
         "title": {
          "text": "MOA Total Sum Impact Score"
         }
        }
       }
      }
     },
     "metadata": {},
     "output_type": "display_data"
    }
   ],
   "source": [
    "fig2 = px.scatter(\n",
    "    data_frame=not_supported_feature_impact_df,\n",
    "    x=\"Total Number Assertions\",\n",
    "    y=\"MOA Total Sum Impact Score\",\n",
    "    size=\"Total Number Features\",\n",
    "    size_max=40,\n",
    "    text=\"Total Number Features\",\n",
    "    color=\"Category\",\n",
    ")\n",
    "fig2.show()"
   ]
  },
  {
   "cell_type": "code",
   "execution_count": 92,
   "metadata": {},
   "outputs": [],
   "source": [
    "fig2.write_html(\"output/moa_ns_categories_impact_scatterplot.html\")"
   ]
  }
 ],
 "metadata": {
  "kernelspec": {
   "display_name": "Python 3.10.9 ('.venv': venv)",
   "language": "python",
   "name": "python3"
  },
  "language_info": {
   "codemirror_mode": {
    "name": "ipython",
    "version": 3
   },
   "file_extension": ".py",
   "mimetype": "text/x-python",
   "name": "python",
   "nbconvert_exporter": "python",
   "pygments_lexer": "ipython3",
   "version": "3.13.5"
  },
  "orig_nbformat": 4,
  "vscode": {
   "interpreter": {
    "hash": "60bedfc6dd95a1d756c285a8080496495ec396023cb257f004626f94ae504b38"
   }
  }
 },
 "nbformat": 4,
 "nbformat_minor": 2
}
