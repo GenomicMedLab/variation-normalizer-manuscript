{
 "cells": [
  {
   "cell_type": "markdown",
   "metadata": {},
   "source": [
    "# <a id='toc1_'></a>[Molecular Oncology Almanac Assertion Analysis](#toc0_)"
   ]
  },
  {
   "attachments": {},
   "cell_type": "markdown",
   "metadata": {},
   "source": [
    "MOA evidence items are referred to as assertions and MOA variants are referred to as features in this analysis. \n",
    "\n",
    "The moa_features_analysis notebook is a prerequisite to thus notebook as it will update the cache"
   ]
  },
  {
   "cell_type": "markdown",
   "metadata": {},
   "source": [
    "**Table of contents**<a id='toc0_'></a>    \n",
    "- [Molecular Oncology Almanac Assertion Analysis](#toc1_)    \n",
    "  - [Initialize](#toc1_1_)    \n",
    "    - [Import necessary libraries](#toc1_1_1_)    \n",
    "    - [Create output directory](#toc1_1_2_)    \n",
    "  - [Create analysis functions / global variables](#toc1_2_)    \n",
    "  - [All Features (Variants) Analysis](#toc1_3_)    \n",
    "    - [Creating a table with feature (variant) and assertion (evidence) information](#toc1_3_1_)    \n",
    "    - [Converting feature (variant) types to normalized categories](#toc1_3_2_)    \n",
    "    - [Adding a numerical impact score based on the predictive implication](#toc1_3_3_)    \n",
    "    - [Impact Score Analysis](#toc1_3_4_)    \n",
    "    - [Features (Variants) Analysis](#toc1_3_5_)    \n",
    "    - [Assertions (Evidence Items) Analysis](#toc1_3_6_)    \n",
    "    - [Summaries for all Features (Variants) and Assertions (Evidence Items)](#toc1_3_7_)    \n",
    "  - [Create functions / global variables used in analysis](#toc1_4_)    \n",
    "  - [Normalized Analysis](#toc1_5_)    \n",
    "  - [Not Supported Analysis](#toc1_6_)    \n",
    "    - [Feature (Variant) Analysis](#toc1_6_1_)    \n",
    "    - [Not Supported Feature (Variant) Analysis by Subcategory](#toc1_6_2_)    \n",
    "    - [Not Support Feature (Variant) Assertion (Evidence) Analysis by Subcategory](#toc1_6_3_)    \n",
    "    - [Impact Score Analysis by Subcategory](#toc1_6_4_)    \n",
    "- [MOA Summary](#toc2_)    \n",
    "  - [Feature (Variant) Analysis](#toc2_1_)    \n",
    "    - [Building Summary Tables 1 - 3](#toc2_1_1_)    \n",
    "    - [Summary Table 1](#toc2_1_2_)    \n",
    "    - [Summary Table 2](#toc2_1_3_)    \n",
    "    - [Summary Table 3](#toc2_1_4_)    \n",
    "  - [Evidence Analysis](#toc2_2_)    \n",
    "    - [Building Summary Table 4](#toc2_2_1_)    \n",
    "    - [Summary Table 4](#toc2_2_2_)    \n",
    "    - [Building Sumary Tables 5 & 6](#toc2_2_3_)    \n",
    "    - [Summary Table 5](#toc2_2_4_)    \n",
    "    - [Summary Table 6](#toc2_2_5_)    \n",
    "  - [Impact](#toc2_3_)    \n",
    "\n",
    "<!-- vscode-jupyter-toc-config\n",
    "\tnumbering=false\n",
    "\tanchor=true\n",
    "\tflat=false\n",
    "\tminLevel=1\n",
    "\tmaxLevel=6\n",
    "\t/vscode-jupyter-toc-config -->\n",
    "<!-- THIS CELL WILL BE REPLACED ON TOC UPDATE. DO NOT WRITE YOUR TEXT IN THIS CELL -->"
   ]
  },
  {
   "cell_type": "markdown",
   "metadata": {},
   "source": [
    "## <a id='toc1_1_'></a>[Initialize](#toc0_)"
   ]
  },
  {
   "cell_type": "markdown",
   "metadata": {},
   "source": [
    "### <a id='toc1_1_1_'></a>[Import necessary libraries](#toc0_)"
   ]
  },
  {
   "cell_type": "code",
   "execution_count": null,
   "metadata": {},
   "outputs": [],
   "source": [
    "from enum import Enum\n",
    "from typing import Dict\n",
    "import json\n",
    "from pathlib import Path\n",
    "import pandas as pd\n",
    "import plotly.express as px\n",
    "from ga4gh.core import sha512t24u\n",
    "import zipfile"
   ]
  },
  {
   "cell_type": "markdown",
   "metadata": {},
   "source": [
    "### <a id='toc1_1_2_'></a>[Create output directory](#toc0_)"
   ]
  },
  {
   "cell_type": "code",
   "execution_count": null,
   "metadata": {},
   "outputs": [],
   "source": [
    "path = Path(\"moa_assertion_analysis_output\")\n",
    "path.mkdir(exist_ok=True)"
   ]
  },
  {
   "cell_type": "markdown",
   "metadata": {},
   "source": [
    "## <a id='toc1_2_'></a>[Create analysis functions / global variables](#toc0_)"
   ]
  },
  {
   "cell_type": "code",
   "execution_count": null,
   "metadata": {},
   "outputs": [],
   "source": [
    "# Use latest zip that has been pushed to the repo\n",
    "latest_zip_path = sorted(Path().glob(\"../feature_analysis/moa_features_*.zip\"))[-1]\n",
    "json_fn = latest_zip_path.name[:-4]\n",
    "\n",
    "with zipfile.ZipFile(latest_zip_path, \"r\") as zip_ref:\n",
    "    zip_ref.extractall()\n",
    "\n",
    "with open(json_fn, \"r\") as f:\n",
    "    variants_resp = json.load(f)\n",
    "\n",
    "f\"Using {json_fn} for MOA features\""
   ]
  },
  {
   "cell_type": "code",
   "execution_count": null,
   "metadata": {},
   "outputs": [],
   "source": [
    "def get_feature_digest(feature: Dict) -> str:\n",
    "    \"\"\"Get digest for feature\n",
    "\n",
    "    :param feature: MOA feature\n",
    "    :return: Digest\n",
    "    \"\"\"\n",
    "    attrs = json.dumps(\n",
    "        feature[\"attributes\"][0], sort_keys=True, separators=(\",\", \":\"), indent=None\n",
    "    ).encode(\"utf-8\")\n",
    "    return sha512t24u(attrs)"
   ]
  },
  {
   "cell_type": "code",
   "execution_count": null,
   "metadata": {},
   "outputs": [],
   "source": [
    "class VariantNormType(str, Enum):\n",
    "    \"\"\"Variation Normalization types\"\"\"\n",
    "\n",
    "    NORMALIZED = \"Normalized\"\n",
    "    NOT_SUPPORTED = \"Not Supported\"\n",
    "\n",
    "\n",
    "VARIANT_NORM_TYPE_VALUES = [v.value for v in VariantNormType.__members__.values()]"
   ]
  },
  {
   "cell_type": "code",
   "execution_count": null,
   "metadata": {},
   "outputs": [],
   "source": [
    "class VariantCategory(str, Enum):\n",
    "    \"\"\"Create enum for the kind of variants that are in MOA.\"\"\"\n",
    "\n",
    "    EXPRESSION = \"Expression Variants\"\n",
    "    EPIGENETIC_MODIFICATION = \"Epigenetic Modification\"\n",
    "    FUSION = \"Fusion Variants\"\n",
    "    SEQUENCE_VARS = \"Sequence Variants\"\n",
    "    GENE_FUNC = \"Gene Function Variants\"\n",
    "    REARRANGEMENTS = \"Rearrangement Variants\"\n",
    "    COPY_NUMBER = \"Copy Number Variants\"\n",
    "    OTHER = \"Other Variants\"\n",
    "    GENOTYPES = \"Genotype Variants\"\n",
    "    REGION_DEFINED_VAR = \"Region Defined Variants\"\n",
    "    TRANSCRIPT_VAR = \"Transcript Variants\"  # no attempt to normalize these ones, since there is no query we could use\n",
    "\n",
    "\n",
    "VARIANT_CATEGORY_VALUES = [v.value for v in VariantCategory.__members__.values()]"
   ]
  },
  {
   "cell_type": "code",
   "execution_count": null,
   "metadata": {},
   "outputs": [],
   "source": [
    "class ItemType(str, Enum):\n",
    "    \"\"\"Create enum for the kind of items that will be analyzed.\"\"\"\n",
    "\n",
    "    FEATURE = \"feature\"\n",
    "    ASSERTION = \"assertion\""
   ]
  },
  {
   "cell_type": "markdown",
   "metadata": {},
   "source": [
    "## <a id='toc1_3_'></a>[All Features (Variants) Analysis](#toc0_)"
   ]
  },
  {
   "cell_type": "markdown",
   "metadata": {},
   "source": [
    "### <a id='toc1_3_1_'></a>[Creating a table with feature (variant) and assertion (evidence) information](#toc0_)"
   ]
  },
  {
   "cell_type": "code",
   "execution_count": null,
   "metadata": {},
   "outputs": [],
   "source": [
    "# Create dictionary for MOA Feature ID -> Feature Type\n",
    "\n",
    "features = {}\n",
    "\n",
    "for feature in variants_resp:\n",
    "    feature_id = feature[\"feature_id\"]\n",
    "    digest = get_feature_digest(feature)\n",
    "    features[digest] = feature[\"feature_type\"]\n",
    "\n",
    "count_unique_feature_ids = len(features.keys())\n",
    "print(count_unique_feature_ids)"
   ]
  },
  {
   "cell_type": "code",
   "execution_count": null,
   "metadata": {},
   "outputs": [],
   "source": [
    "# Use latest zip that has been pushed to the repo\n",
    "latest_zip_path = sorted(Path().glob(\"moa_assertions_*.zip\"))[-1]\n",
    "json_fna = latest_zip_path.name[:-4]\n",
    "\n",
    "with zipfile.ZipFile(latest_zip_path, \"r\") as zip_ref:\n",
    "    zip_ref.extractall()\n",
    "\n",
    "with open(json_fna, \"r\") as f:\n",
    "    assertions_resp = json.load(f)\n",
    "\n",
    "f\"Using {json_fna} for MOA assertions\""
   ]
  },
  {
   "cell_type": "code",
   "execution_count": null,
   "metadata": {},
   "outputs": [],
   "source": [
    "# Create DF for assertions and their associated feature + predictive implication\n",
    "\n",
    "transformed = []\n",
    "\n",
    "# Mapping from feature ID to feature digest\n",
    "feature_id_to_digest = {}\n",
    "\n",
    "for assertion in assertions_resp:\n",
    "    assertion_id = assertion[\"assertion_id\"]\n",
    "    predictive_implication = assertion[\"predictive_implication\"]\n",
    "\n",
    "    if len(assertion[\"features\"]) != 1:\n",
    "        print(f\"assertion id ({assertion_id}) does not have 1 feature\")\n",
    "        continue\n",
    "\n",
    "    feature = assertion[\"features\"][0]\n",
    "    feature_id = feature[\"feature_id\"]\n",
    "    feature_digest = get_feature_digest(feature)\n",
    "\n",
    "    feature_id_to_digest[feature_id] = digest\n",
    "\n",
    "    transformed.append(\n",
    "        {\n",
    "            \"assertion_id\": assertion_id,\n",
    "            \"feature_id\": feature_id,\n",
    "            \"feature_type\": features[feature_digest],\n",
    "            \"predictive_implication\": predictive_implication,\n",
    "            \"feature_digest\": feature_digest,\n",
    "        }\n",
    "    )\n",
    "moa_df = pd.DataFrame(transformed)\n",
    "print(len(moa_df[\"feature_digest\"].unique()))\n",
    "moa_df"
   ]
  },
  {
   "cell_type": "code",
   "execution_count": null,
   "metadata": {},
   "outputs": [],
   "source": [
    "moa_df.to_csv(\"moa_assertion_analysis_output/moa_df.csv\")"
   ]
  },
  {
   "cell_type": "code",
   "execution_count": null,
   "metadata": {},
   "outputs": [],
   "source": [
    "unique_features_df = moa_df.sort_values(\"feature_id\").drop_duplicates(\n",
    "    subset=[\"feature_digest\"]\n",
    ")\n",
    "len_unique_feature_ids = len(list(unique_features_df.feature_id))\n",
    "len_unique_feature_ids"
   ]
  },
  {
   "cell_type": "code",
   "execution_count": null,
   "metadata": {},
   "outputs": [],
   "source": [
    "total_len_features = len(moa_df.feature_digest.unique())\n",
    "f\"Total number of unique features (variants): {total_len_features}\""
   ]
  },
  {
   "cell_type": "code",
   "execution_count": null,
   "metadata": {},
   "outputs": [],
   "source": [
    "assert total_len_features == len_unique_feature_ids"
   ]
  },
  {
   "cell_type": "code",
   "execution_count": null,
   "metadata": {},
   "outputs": [],
   "source": [
    "total_len_assertions = len(moa_df.assertion_id.unique())\n",
    "f\"Total number of unique assertions (evidence items): {total_len_assertions}\""
   ]
  },
  {
   "cell_type": "markdown",
   "metadata": {},
   "source": [
    "### <a id='toc1_3_2_'></a>[Converting feature (variant) types to normalized categories](#toc0_)"
   ]
  },
  {
   "cell_type": "code",
   "execution_count": null,
   "metadata": {},
   "outputs": [],
   "source": [
    "list(moa_df.feature_type.unique())"
   ]
  },
  {
   "cell_type": "code",
   "execution_count": null,
   "metadata": {},
   "outputs": [],
   "source": [
    "moa_df[\"category\"] = moa_df[\"feature_type\"].copy()\n",
    "\n",
    "moa_df[\"category\"] = moa_df[\"category\"].replace(\n",
    "    \"rearrangement\", VariantCategory.REARRANGEMENTS.value\n",
    ")\n",
    "moa_df[\"category\"] = moa_df[\"category\"].replace(\n",
    "    \"aneuploidy\", VariantCategory.COPY_NUMBER.value\n",
    ")\n",
    "moa_df[\"category\"] = moa_df[\"category\"].replace(\n",
    "    \"knockdown\", VariantCategory.EXPRESSION.value\n",
    ")\n",
    "moa_df[\"category\"] = moa_df[\"category\"].replace(\n",
    "    \"somatic_variant\", VariantCategory.SEQUENCE_VARS.value\n",
    ")\n",
    "moa_df[\"category\"] = moa_df[\"category\"].replace(\n",
    "    \"germline_variant\", VariantCategory.SEQUENCE_VARS.value\n",
    ")\n",
    "moa_df[\"category\"] = moa_df[\"category\"].replace(\n",
    "    \"microsatellite_stability\", VariantCategory.REARRANGEMENTS.value\n",
    ")\n",
    "moa_df[\"category\"] = moa_df[\"category\"].replace(\n",
    "    \"mutational_burden\", VariantCategory.OTHER.value\n",
    ")\n",
    "moa_df[\"category\"] = moa_df[\"category\"].replace(\n",
    "    \"mutational_signature\", VariantCategory.OTHER.value\n",
    ")\n",
    "moa_df[\"category\"] = moa_df[\"category\"].replace(\n",
    "    \"copy_number\", VariantCategory.COPY_NUMBER.value\n",
    ")\n",
    "\n",
    "moa_df.head()"
   ]
  },
  {
   "cell_type": "code",
   "execution_count": null,
   "metadata": {},
   "outputs": [],
   "source": [
    "list(moa_df.category.unique())"
   ]
  },
  {
   "cell_type": "markdown",
   "metadata": {},
   "source": [
    "### <a id='toc1_3_3_'></a>[Adding a numerical impact score based on the predictive implication](#toc0_)\n",
    "This is based on the structure of MOA scoring"
   ]
  },
  {
   "cell_type": "code",
   "execution_count": null,
   "metadata": {},
   "outputs": [],
   "source": [
    "predictive_implication_categories = moa_df.predictive_implication.unique()\n",
    "list(predictive_implication_categories)"
   ]
  },
  {
   "cell_type": "code",
   "execution_count": null,
   "metadata": {},
   "outputs": [],
   "source": [
    "moa_df[\"impact_score\"] = moa_df[\"predictive_implication\"].copy()\n",
    "\n",
    "moa_df.loc[moa_df[\"impact_score\"] == \"FDA-Approved\", \"impact_score\"] = 10\n",
    "moa_df.loc[moa_df[\"impact_score\"] == \"Guideline\", \"impact_score\"] = 10\n",
    "moa_df.loc[moa_df[\"impact_score\"] == \"Clinical evidence\", \"impact_score\"] = 5\n",
    "moa_df.loc[moa_df[\"impact_score\"] == \"Clinical trial\", \"impact_score\"] = 5\n",
    "moa_df.loc[moa_df[\"impact_score\"] == \"Preclinical\", \"impact_score\"] = 1\n",
    "moa_df.loc[moa_df[\"impact_score\"] == \"Inferential\", \"impact_score\"] = 0.5\n",
    "\n",
    "moa_df.head()"
   ]
  },
  {
   "cell_type": "markdown",
   "metadata": {},
   "source": [
    "### <a id='toc1_3_4_'></a>[Impact Score Analysis](#toc0_)"
   ]
  },
  {
   "cell_type": "code",
   "execution_count": null,
   "metadata": {},
   "outputs": [],
   "source": [
    "feature_categories_impact_data = dict()\n",
    "for category in VARIANT_CATEGORY_VALUES:\n",
    "    feature_categories_impact_data[category] = {}\n",
    "    impact_category_df = moa_df[moa_df.category == category]\n",
    "\n",
    "    total_sum_category_impact = impact_category_df[\"impact_score\"].sum()\n",
    "    feature_categories_impact_data[category][\n",
    "        \"total_sum_category_impact\"\n",
    "    ] = total_sum_category_impact\n",
    "    print(f\"{category}: {total_sum_category_impact}\")"
   ]
  },
  {
   "cell_type": "markdown",
   "metadata": {},
   "source": [
    "### <a id='toc1_3_5_'></a>[Features (Variants) Analysis](#toc0_)"
   ]
  },
  {
   "cell_type": "code",
   "execution_count": null,
   "metadata": {},
   "outputs": [],
   "source": [
    "def calc_perc_item_analysis(item_type: ItemType, total_len: int) -> dict:\n",
    "    \"\"\"Calculates the percent of either the features or the assertions in MOA\n",
    "\n",
    "    :param item_type: The type of item\n",
    "    :param total_len: The total number of items defined by 'item_type'\n",
    "    :return: Dictionary with a string indicating the percent of the item \n",
    "    \"\"\"\n",
    "    moa_item_data = dict()\n",
    "\n",
    "    for category in VARIANT_CATEGORY_VALUES:\n",
    "        moa_item_data[category] = {}\n",
    "        item_type_df = moa_df[moa_df.category == category]\n",
    "        if item_type == ItemType.FEATURE:\n",
    "            number_unique_category_items = len(set(item_type_df.feature_digest))\n",
    "        else:\n",
    "            number_unique_category_items = len(set(item_type_df.assertion_id))\n",
    "\n",
    "        if item_type == ItemType.FEATURE:\n",
    "            singular = ItemType.FEATURE.value\n",
    "            plural = \"features\"\n",
    "        else:\n",
    "            singular = ItemType.ASSERTION.value\n",
    "            plural = \"assertions\"\n",
    "\n",
    "        moa_item_data[category][\n",
    "            f\"number_unique_category_{plural}\"\n",
    "        ] = number_unique_category_items\n",
    "\n",
    "        fraction_category_item = f\"{number_unique_category_items} / {total_len}\"\n",
    "        moa_item_data[category][\n",
    "            f\"fraction_category_{singular}\"\n",
    "        ] = fraction_category_item\n",
    "\n",
    "        percent_category_item = (\n",
    "            \"{:.2f}\".format(number_unique_category_items / total_len * 100) + \"%\"\n",
    "        )\n",
    "\n",
    "        moa_item_data[category][f\"percent_category_{singular}\"] = percent_category_item\n",
    "\n",
    "    return moa_item_data"
   ]
  },
  {
   "cell_type": "code",
   "execution_count": null,
   "metadata": {},
   "outputs": [],
   "source": [
    "moa_feature_data = calc_perc_item_analysis(ItemType.FEATURE, total_len_features)"
   ]
  },
  {
   "cell_type": "markdown",
   "metadata": {},
   "source": [
    "### <a id='toc1_3_6_'></a>[Assertions (Evidence Items) Analysis](#toc0_)"
   ]
  },
  {
   "cell_type": "code",
   "execution_count": null,
   "metadata": {},
   "outputs": [],
   "source": [
    "moa_assertion_data = calc_perc_item_analysis(ItemType.ASSERTION, total_len_assertions)"
   ]
  },
  {
   "cell_type": "markdown",
   "metadata": {},
   "source": [
    "### <a id='toc1_3_7_'></a>[Summaries for all Features (Variants) and Assertions (Evidence Items)](#toc0_)"
   ]
  },
  {
   "cell_type": "code",
   "execution_count": null,
   "metadata": {},
   "outputs": [],
   "source": [
    "feature_category_impact_score = [\n",
    "    v[\"total_sum_category_impact\"] for v in feature_categories_impact_data.values()\n",
    "]\n",
    "feature_category_number = [\n",
    "    v[\"number_unique_category_features\"] for v in moa_feature_data.values()\n",
    "]\n",
    "feature_category_fraction = [\n",
    "    v[\"fraction_category_feature\"] for v in moa_feature_data.values()\n",
    "]\n",
    "feature_category_percent = [\n",
    "    v[\"percent_category_feature\"] for v in moa_feature_data.values()\n",
    "]\n",
    "feature_category_assertion_number = [\n",
    "    v[\"number_unique_category_assertions\"] for v in moa_assertion_data.values()\n",
    "]\n",
    "feature_category_assertion_fraction = [\n",
    "    v[\"fraction_category_assertion\"] for v in moa_assertion_data.values()\n",
    "]\n",
    "feature_category_assertion_percent = [\n",
    "    v[\"percent_category_assertion\"] for v in moa_assertion_data.values()\n",
    "]"
   ]
  },
  {
   "cell_type": "code",
   "execution_count": null,
   "metadata": {},
   "outputs": [],
   "source": [
    "feature_category_dict = {\n",
    "    \"Category\": VARIANT_CATEGORY_VALUES,\n",
    "    \"Number of Features\": feature_category_number,\n",
    "    \"Fraction of Features\": feature_category_fraction,\n",
    "    \"Percent of Features\": feature_category_percent,\n",
    "    \"Number of Assertions\": feature_category_assertion_number,\n",
    "    \"Fraction of Assertions\": feature_category_assertion_fraction,\n",
    "    \"Percent of Assertions\": feature_category_assertion_percent,\n",
    "    \"Impact Score\": feature_category_impact_score,\n",
    "}"
   ]
  },
  {
   "cell_type": "code",
   "execution_count": null,
   "metadata": {},
   "outputs": [],
   "source": [
    "moa_feature_df = pd.DataFrame(feature_category_dict)\n",
    "moa_feature_df"
   ]
  },
  {
   "cell_type": "code",
   "execution_count": null,
   "metadata": {},
   "outputs": [],
   "source": [
    "moa_feature_df = combine_frac_perc(moa_feature_df, \"Features\")"
   ]
  },
  {
   "cell_type": "code",
   "execution_count": null,
   "metadata": {},
   "outputs": [],
   "source": [
    "moa_feature_df = combine_frac_perc(moa_feature_df, \"Assertions\")"
   ]
  },
  {
   "cell_type": "code",
   "execution_count": null,
   "metadata": {},
   "outputs": [],
   "source": [
    "moa_feature_df_abbreviated = moa_feature_df[\n",
    "    [\n",
    "        \"Category\",\n",
    "        \"Percent of Features\",\n",
    "        \"Percent of Assertions\",\n",
    "        \"Impact Score\",\n",
    "    ]\n",
    "].copy()"
   ]
  },
  {
   "cell_type": "code",
   "execution_count": null,
   "metadata": {},
   "outputs": [],
   "source": [
    "moa_feature_df_abbreviated = moa_feature_df_abbreviated.set_index(\"Category\")\n",
    "moa_feature_df_abbreviated"
   ]
  },
  {
   "cell_type": "code",
   "execution_count": null,
   "metadata": {},
   "outputs": [],
   "source": [
    "fig = px.scatter(\n",
    "    data_frame=moa_feature_df,\n",
    "    x=\"Number of Assertions\",\n",
    "    y=\"Impact Score\",\n",
    "    size=\"Number of Features\",\n",
    "    size_max=40,\n",
    "    text=\"Number of Features\",\n",
    "    color=\"Category\",\n",
    ")\n",
    "fig.show()"
   ]
  },
  {
   "cell_type": "code",
   "execution_count": null,
   "metadata": {},
   "outputs": [],
   "source": [
    "fig.write_html(\n",
    "    \"moa_assertion_analysis_output/moa_feature_categories_impact_scatterplot.html\"\n",
    ")"
   ]
  },
  {
   "cell_type": "markdown",
   "metadata": {},
   "source": [
    "## <a id='toc1_4_'></a>[Create functions / global variables used in analysis](#toc0_)"
   ]
  },
  {
   "cell_type": "code",
   "execution_count": null,
   "metadata": {},
   "outputs": [],
   "source": [
    "feature_analysis_summary = {\n",
    "    \"Variant Category\": VARIANT_NORM_TYPE_VALUES,\n",
    "    \"Count of MOA Features per Category\": [],\n",
    "    \"Fraction of all MOA Features\": [],\n",
    "    \"Percent of all MOA Features\": [],\n",
    "}\n",
    "feature_analysis_summary"
   ]
  },
  {
   "cell_type": "code",
   "execution_count": null,
   "metadata": {},
   "outputs": [],
   "source": [
    "def feature_analysis(\n",
    "    df: pd.DataFrame, variant_norm_type: VariantNormType\n",
    ") -> pd.DataFrame:\n",
    "    \"\"\"Do feature analysis (counts, percents). Updates `feature_analysis_summary`\n",
    "\n",
    "    :param df: Dataframe of variants\n",
    "    :param variant_norm_type: The kind of features that are in `df`\n",
    "    :return: Transformed dataframe with variant ID duplicates dropped\n",
    "    \"\"\"\n",
    "    # Drop duplicate rows\n",
    "    df = df.drop_duplicates(subset=[\"feature_id\"])\n",
    "    feature_ids = list(df[\"feature_id\"])\n",
    "\n",
    "    # Count\n",
    "    num_features = len(feature_ids)\n",
    "    fraction_features = f\"{num_features} / {total_len_features}\"\n",
    "    print(f\"\\nNumber of {variant_norm_type.value} Features in MOA: {fraction_features}\")\n",
    "\n",
    "    # Percent\n",
    "    percent_features = f\"{num_features / total_len_features * 100:.2f}%\"\n",
    "    print(f\"Percent of {variant_norm_type.value} Features in MOA: {percent_features}\")\n",
    "\n",
    "    feature_analysis_summary[\"Count of MOA Features per Category\"].append(num_features)\n",
    "    feature_analysis_summary[\"Fraction of all MOA Features\"].append(fraction_features)\n",
    "    feature_analysis_summary[\"Percent of all MOA Features\"].append(percent_features)\n",
    "\n",
    "    return df"
   ]
  },
  {
   "cell_type": "code",
   "execution_count": null,
   "metadata": {},
   "outputs": [],
   "source": [
    "assertion_analysis_summary = {\n",
    "    \"Variant Category\": VARIANT_NORM_TYPE_VALUES,\n",
    "    \"Count of MOA Assertions per Category\": [],\n",
    "    \"Fraction of all MOA Assertions\": [],\n",
    "    \"Percent of all MOA Assertions\": [],\n",
    "}\n",
    "assertion_analysis_summary"
   ]
  },
  {
   "cell_type": "code",
   "execution_count": null,
   "metadata": {},
   "outputs": [],
   "source": [
    "def assertion_analysis(\n",
    "    all_df: pd.DataFrame,\n",
    "    variant_norm_df: pd.DataFrame,\n",
    "    variant_norm_type: VariantNormType,\n",
    ") -> str:\n",
    "    \"\"\"Do evidence analysis (counts, percents). Updates `assertion_analysis_summary`\n",
    "\n",
    "    :param all_df: Dataframe for all assertions and features\n",
    "    :param variant_norm_df: Dataframe for features given certain `variant_norm_type`\n",
    "    :param variant_norm_type: The kind of variants that are in `df`\n",
    "    :return: a string with the evidence counts and percents per category\n",
    "    \"\"\"\n",
    "    # Need to do this bc of duplicate features\n",
    "    _feature_ids = set(variant_norm_df.feature_digest)\n",
    "    tmp_df = all_df[all_df[\"feature_digest\"].isin(_feature_ids)]\n",
    "\n",
    "    # Count\n",
    "    num_assertions = len(tmp_df.assertion_id)\n",
    "    fraction_assertions = f\"{num_assertions} / {total_len_assertions}\"\n",
    "    print(\n",
    "        f\"Number of {variant_norm_type.value} Feature Assertions in MOA: {fraction_assertions}\"\n",
    "    )\n",
    "\n",
    "    # Percent\n",
    "    percent_assertions = f\"{num_assertions / total_len_assertions * 100:.2f}%\"\n",
    "    print(\n",
    "        f\"Percent of {variant_norm_type.value} Feature Assertions in MOA: {percent_assertions}\"\n",
    "    )\n",
    "\n",
    "    assertion_analysis_summary[\"Count of MOA Assertions per Category\"].append(\n",
    "        num_assertions\n",
    "    )\n",
    "    assertion_analysis_summary[\"Fraction of all MOA Assertions\"].append(\n",
    "        fraction_assertions\n",
    "    )\n",
    "    assertion_analysis_summary[\"Percent of all MOA Assertions\"].append(\n",
    "        percent_assertions\n",
    "    )"
   ]
  },
  {
   "cell_type": "code",
   "execution_count": null,
   "metadata": {},
   "outputs": [],
   "source": [
    "feature_id_to_digest_df = pd.DataFrame(\n",
    "    feature_id_to_digest.items(), columns=[\"feature_id\", \"feature_digest\"]\n",
    ")\n",
    "feature_id_to_digest_df"
   ]
  },
  {
   "cell_type": "markdown",
   "metadata": {},
   "source": [
    "## <a id='toc1_5_'></a>[Normalized Analysis](#toc0_)"
   ]
  },
  {
   "cell_type": "code",
   "execution_count": null,
   "metadata": {},
   "outputs": [],
   "source": [
    "normalized_queries_df = pd.read_csv(\n",
    "    \"../feature_analysis/able_to_normalize_queries.csv\", sep=\"\\t\"\n",
    ")\n",
    "normalized_queries_df = pd.merge(\n",
    "    normalized_queries_df,\n",
    "    feature_id_to_digest_df,\n",
    "    left_on=\"variant_id\",\n",
    "    right_on=\"feature_id\",\n",
    ")\n",
    "normalized_queries_df.shape"
   ]
  },
  {
   "cell_type": "code",
   "execution_count": null,
   "metadata": {},
   "outputs": [],
   "source": [
    "normalized_queries_df = pd.merge(\n",
    "    normalized_queries_df[\"variant_id\"],\n",
    "    moa_df,\n",
    "    left_on=\"variant_id\",\n",
    "    right_on=\"feature_id\",\n",
    "    how=\"left\",\n",
    ")\n",
    "normalized_queries_df = normalized_queries_df.drop(columns=[\"variant_id\"])"
   ]
  },
  {
   "cell_type": "code",
   "execution_count": null,
   "metadata": {},
   "outputs": [],
   "source": [
    "normalized_queries_df = feature_analysis(\n",
    "    normalized_queries_df, VariantNormType.NORMALIZED\n",
    ")\n",
    "normalized_queries_df"
   ]
  },
  {
   "cell_type": "code",
   "execution_count": null,
   "metadata": {},
   "outputs": [],
   "source": [
    "assertion_analysis(moa_df, normalized_queries_df, VariantNormType.NORMALIZED)"
   ]
  },
  {
   "cell_type": "markdown",
   "metadata": {},
   "source": [
    "## <a id='toc1_6_'></a>[Not Supported Analysis](#toc0_)"
   ]
  },
  {
   "cell_type": "code",
   "execution_count": null,
   "metadata": {},
   "outputs": [],
   "source": [
    "not_supported_queries_df = pd.read_csv(\n",
    "    \"../feature_analysis/not_supported_variants.csv\", sep=\"\\t\"\n",
    ")\n",
    "not_supported_queries_df = pd.merge(\n",
    "    not_supported_queries_df,\n",
    "    feature_id_to_digest_df,\n",
    "    left_on=\"variant_id\",\n",
    "    right_on=\"feature_id\",\n",
    ")\n",
    "not_supported_queries_df.shape"
   ]
  },
  {
   "cell_type": "code",
   "execution_count": null,
   "metadata": {},
   "outputs": [],
   "source": [
    "not_supported_queries_df = pd.merge(\n",
    "    not_supported_queries_df[\"variant_id\"],\n",
    "    moa_df,\n",
    "    left_on=\"variant_id\",\n",
    "    right_on=\"feature_id\",\n",
    "    how=\"left\",\n",
    ")\n",
    "not_supported_queries_df = not_supported_queries_df.drop(columns=[\"variant_id\"])\n",
    "not_supported_queries_df"
   ]
  },
  {
   "cell_type": "markdown",
   "metadata": {},
   "source": [
    "### <a id='toc1_6_1_'></a>[Feature (Variant) Analysis](#toc0_)"
   ]
  },
  {
   "cell_type": "code",
   "execution_count": null,
   "metadata": {},
   "outputs": [],
   "source": [
    "not_supported_queries_df = feature_analysis(\n",
    "    not_supported_queries_df, VariantNormType.NOT_SUPPORTED\n",
    ")"
   ]
  },
  {
   "cell_type": "markdown",
   "metadata": {},
   "source": [
    "### <a id='toc1_6_2_'></a>[Not Supported Feature (Variant) Analysis by Subcategory](#toc0_)"
   ]
  },
  {
   "cell_type": "code",
   "execution_count": null,
   "metadata": {},
   "outputs": [],
   "source": [
    "not_supported_feature_analysis_summary = {\n",
    "    \"Category\": VARIANT_CATEGORY_VALUES,\n",
    "    \"Count of MOA Features per Category\": [],\n",
    "    \"Fraction of all MOA Features\": [],\n",
    "    \"Percent of all MOA Features\": [],\n",
    "    \"Fraction of Not Supported Features\": [],\n",
    "    \"Percent of Not Supported Features\": [],\n",
    "}"
   ]
  },
  {
   "cell_type": "code",
   "execution_count": null,
   "metadata": {},
   "outputs": [],
   "source": [
    "not_supported_feature_categories_summary_data = dict()\n",
    "total_number_unique_not_supported_features = len(\n",
    "    set(not_supported_queries_df.feature_id)\n",
    ")\n",
    "\n",
    "for category in VARIANT_CATEGORY_VALUES:  # These are not supported categories\n",
    "    not_supported_feature_categories_summary_data[category] = {}\n",
    "    category_df = not_supported_queries_df[\n",
    "        not_supported_queries_df.category == category\n",
    "    ]\n",
    "\n",
    "    # Count\n",
    "    number_unique_not_supported_category_features = len(set(category_df.feature_id))\n",
    "    not_supported_feature_categories_summary_data[category][\n",
    "        \"number_unique_not_supported_category_features\"\n",
    "    ] = number_unique_not_supported_category_features\n",
    "\n",
    "    # Fraction\n",
    "    fraction_not_supported_category_feature_of_moa = (\n",
    "        f\"{number_unique_not_supported_category_features} / {total_len_features}\"\n",
    "    )\n",
    "    not_supported_feature_categories_summary_data[category][\n",
    "        \"fraction_not_supported_category_feature_of_moa\"\n",
    "    ] = fraction_not_supported_category_feature_of_moa\n",
    "\n",
    "    # Percent\n",
    "    percent_not_supported_category_feature_of_moa = f\"{number_unique_not_supported_category_features / total_len_features * 100:.2f}%\"\n",
    "    not_supported_feature_categories_summary_data[category][\n",
    "        \"percent_not_supported_category_feature_of_moa\"\n",
    "    ] = percent_not_supported_category_feature_of_moa\n",
    "\n",
    "    # Not supported fraction\n",
    "    fraction_not_supported_category_feature_of_total_not_supported = f\"{number_unique_not_supported_category_features} / {total_number_unique_not_supported_features}\"\n",
    "    not_supported_feature_categories_summary_data[category][\n",
    "        \"fraction_not_supported_category_feature_of_total_not_supported\"\n",
    "    ] = fraction_not_supported_category_feature_of_total_not_supported\n",
    "\n",
    "    # Not supported percent\n",
    "    percent_not_supported_category_feature_of_total_not_supported = f\"{number_unique_not_supported_category_features / total_number_unique_not_supported_features * 100:.2f}%\"\n",
    "    not_supported_feature_categories_summary_data[category][\n",
    "        \"percent_not_supported_category_feature_of_total_not_supported\"\n",
    "    ] = percent_not_supported_category_feature_of_total_not_supported\n",
    "\n",
    "    not_supported_feature_analysis_summary[\"Count of MOA Features per Category\"].append(\n",
    "        number_unique_not_supported_category_features\n",
    "    )\n",
    "    not_supported_feature_analysis_summary[\"Fraction of all MOA Features\"].append(\n",
    "        fraction_not_supported_category_feature_of_moa\n",
    "    )\n",
    "    not_supported_feature_analysis_summary[\"Percent of all MOA Features\"].append(\n",
    "        percent_not_supported_category_feature_of_moa\n",
    "    )\n",
    "    not_supported_feature_analysis_summary[\"Fraction of Not Supported Features\"].append(\n",
    "        fraction_not_supported_category_feature_of_total_not_supported\n",
    "    )\n",
    "    not_supported_feature_analysis_summary[\"Percent of Not Supported Features\"].append(\n",
    "        percent_not_supported_category_feature_of_total_not_supported\n",
    "    )"
   ]
  },
  {
   "cell_type": "code",
   "execution_count": null,
   "metadata": {},
   "outputs": [],
   "source": [
    "not_supported_variant_df = pd.DataFrame(not_supported_feature_analysis_summary)\n",
    "not_supported_variant_df"
   ]
  },
  {
   "cell_type": "markdown",
   "metadata": {},
   "source": [
    "### <a id='toc1_6_3_'></a>[Not Support Feature (Variant) Assertion (Evidence) Analysis by Subcategory](#toc0_)"
   ]
  },
  {
   "attachments": {},
   "cell_type": "markdown",
   "metadata": {},
   "source": [
    "List all the possible variant categories"
   ]
  },
  {
   "cell_type": "code",
   "execution_count": null,
   "metadata": {},
   "outputs": [],
   "source": [
    "not_supported_feature_categories = not_supported_queries_df.category.unique()\n",
    "[v for v in not_supported_feature_categories]"
   ]
  },
  {
   "cell_type": "code",
   "execution_count": null,
   "metadata": {},
   "outputs": [],
   "source": [
    "assertion_analysis(moa_df, not_supported_queries_df, VariantNormType.NOT_SUPPORTED)"
   ]
  },
  {
   "cell_type": "code",
   "execution_count": null,
   "metadata": {},
   "outputs": [],
   "source": [
    "not_supported_feature_assertion_summary = {\n",
    "    \"Category\": VARIANT_CATEGORY_VALUES,\n",
    "    \"Count of MOA Assertions per Category\": [],\n",
    "    \"Fraction of all MOA Assertions\": [],\n",
    "    \"Percent of all MOA Assertions\": [],\n",
    "    \"Fraction of Not Supported Feature Assertions\": [],\n",
    "    \"Percent of Not Supported Feature Assertions\": [],\n",
    "}"
   ]
  },
  {
   "cell_type": "code",
   "execution_count": null,
   "metadata": {},
   "outputs": [],
   "source": [
    "not_supported_feature_ids = set(not_supported_queries_df.feature_digest)"
   ]
  },
  {
   "cell_type": "code",
   "execution_count": null,
   "metadata": {},
   "outputs": [],
   "source": [
    "not_supported_feature_categories_assertion_summary_data = dict()\n",
    "\n",
    "not_supported_feature_ids = set(not_supported_queries_df.feature_digest)\n",
    "\n",
    "for category in VARIANT_CATEGORY_VALUES:\n",
    "    not_supported_feature_categories_assertion_summary_data[category] = {}\n",
    "\n",
    "    # Need to do this bc of duplicate features\n",
    "    tmp_df = moa_df[moa_df[\"feature_digest\"].isin(not_supported_feature_ids)]\n",
    "\n",
    "    evidence_category_df = tmp_df[tmp_df.category == category]\n",
    "\n",
    "    evidence_category_df = evidence_category_df.drop_duplicates(subset=[\"assertion_id\"])\n",
    "\n",
    "    # Count for Not Supported Feature Assertions\n",
    "    total_number_not_supported_feature_unique_assertions = len(tmp_df.assertion_id)\n",
    "\n",
    "    # Count per Category\n",
    "    number_unique_not_supported_category_assertion = len(\n",
    "        set(evidence_category_df.assertion_id)\n",
    "    )\n",
    "    not_supported_feature_categories_assertion_summary_data[category][\n",
    "        \"number_unique_not_supported_category_assertion\"\n",
    "    ] = number_unique_not_supported_category_assertion\n",
    "\n",
    "    # Fraction\n",
    "    fraction_not_supported_category_feature_assertion_of_moa = (\n",
    "        f\"{number_unique_not_supported_category_assertion} / {total_len_assertions}\"\n",
    "    )\n",
    "    not_supported_feature_categories_assertion_summary_data[category][\n",
    "        \"fraction_not_supported_category_feature_assertion_of_moa\"\n",
    "    ] = fraction_not_supported_category_feature_assertion_of_moa\n",
    "\n",
    "    # Percent\n",
    "    percent_not_supported_category_feature_assertion_of_moa = f\"{number_unique_not_supported_category_assertion / total_len_assertions * 100:.2f}%\"\n",
    "    not_supported_feature_categories_assertion_summary_data[category][\n",
    "        \"percent_not_supported_category_feature_assertion_of_moa\"\n",
    "    ] = percent_not_supported_category_feature_assertion_of_moa\n",
    "\n",
    "    # Not supported fraction\n",
    "    fraction_not_supported_category_feature_assertion_of_total_not_supported = f\"{number_unique_not_supported_category_assertion} / {total_number_not_supported_feature_unique_assertions}\"\n",
    "    not_supported_feature_categories_assertion_summary_data[category][\n",
    "        \"fraction_not_supported_category_feature_assertion_of_total_not_supported\"\n",
    "    ] = fraction_not_supported_category_feature_assertion_of_total_not_supported\n",
    "\n",
    "    # Not supported percent\n",
    "    percent_not_supported_category_feature_assertion_of_total_not_supported = f\"{number_unique_not_supported_category_assertion / total_number_not_supported_feature_unique_assertions * 100:.2f}%\"\n",
    "    not_supported_feature_categories_assertion_summary_data[category][\n",
    "        \"percent_not_supported_category_feature_assertion_of_total_not_supported\"\n",
    "    ] = percent_not_supported_category_feature_assertion_of_total_not_supported\n",
    "\n",
    "    not_supported_feature_assertion_summary[\n",
    "        \"Count of MOA Assertions per Category\"\n",
    "    ].append(number_unique_not_supported_category_assertion)\n",
    "    not_supported_feature_assertion_summary[\"Fraction of all MOA Assertions\"].append(\n",
    "        fraction_not_supported_category_feature_assertion_of_moa\n",
    "    )\n",
    "    not_supported_feature_assertion_summary[\"Percent of all MOA Assertions\"].append(\n",
    "        percent_not_supported_category_feature_assertion_of_moa\n",
    "    )\n",
    "    not_supported_feature_assertion_summary[\n",
    "        \"Fraction of Not Supported Feature Assertions\"\n",
    "    ].append(fraction_not_supported_category_feature_assertion_of_total_not_supported)\n",
    "    not_supported_feature_assertion_summary[\n",
    "        \"Percent of Not Supported Feature Assertions\"\n",
    "    ].append(percent_not_supported_category_feature_assertion_of_total_not_supported)"
   ]
  },
  {
   "cell_type": "code",
   "execution_count": null,
   "metadata": {},
   "outputs": [],
   "source": [
    "number_unique_not_supported_category_features"
   ]
  },
  {
   "cell_type": "markdown",
   "metadata": {},
   "source": [
    "### <a id='toc1_6_4_'></a>[Impact Score Analysis by Subcategory](#toc0_)"
   ]
  },
  {
   "cell_type": "code",
   "execution_count": null,
   "metadata": {},
   "outputs": [],
   "source": [
    "not_supported_impact_summary = {\n",
    "    \"Category\": VARIANT_CATEGORY_VALUES,\n",
    "    \"MOA Total Sum Impact Score\": [],\n",
    "    \"Average Impact Score per Feature\": [],\n",
    "    \"Average Impact Score per Assertion\": [],\n",
    "    \"Total Number Assertions\": [\n",
    "        v[\"number_unique_not_supported_category_assertion\"]\n",
    "        for v in not_supported_feature_categories_assertion_summary_data.values()\n",
    "    ],\n",
    "    \"Total Number Features\": [\n",
    "        v[\"number_unique_not_supported_category_features\"]\n",
    "        for v in not_supported_feature_categories_summary_data.values()\n",
    "    ],\n",
    "}"
   ]
  },
  {
   "cell_type": "code",
   "execution_count": null,
   "metadata": {},
   "outputs": [],
   "source": [
    "not_supported_feature_categories_impact_data = dict()\n",
    "for category in VARIANT_CATEGORY_VALUES:\n",
    "    not_supported_feature_categories_impact_data[category] = {}\n",
    "    impact_category_df = not_supported_queries_df[\n",
    "        not_supported_queries_df[\"category\"] == category\n",
    "    ].copy()\n",
    "\n",
    "    total_sum_not_supported_category_impact = impact_category_df[\"impact_score\"].sum()\n",
    "\n",
    "    not_supported_feature_categories_impact_data[category][\n",
    "        \"total_sum_not_supported_category_impact\"\n",
    "    ] = total_sum_not_supported_category_impact\n",
    "\n",
    "    number_unique_not_supported_category_features = (\n",
    "        impact_category_df.feature_id.nunique()\n",
    "    )\n",
    "    number_unique_not_supported_category_assertion = (\n",
    "        impact_category_df.assertion_id.nunique()\n",
    "    )\n",
    "\n",
    "    if number_unique_not_supported_category_features == 0:\n",
    "        avg_impact_score_feature = 0\n",
    "        not_supported_feature_categories_impact_data[category][\n",
    "            \"avg_impact_score_feature\"\n",
    "        ] = avg_impact_score_feature\n",
    "\n",
    "        avg_impact_score_assertion = 0\n",
    "        not_supported_feature_categories_impact_data[category][\n",
    "            \"avg_impact_score_evidence\"\n",
    "        ] = avg_impact_score_assertion\n",
    "    else:\n",
    "        avg_impact_score_feature = f\"{total_sum_not_supported_category_impact / number_unique_not_supported_category_features:.2f}\"\n",
    "        not_supported_feature_categories_impact_data[category][\n",
    "            \"avg_impact_score_feature\"\n",
    "        ] = avg_impact_score_feature\n",
    "\n",
    "        avg_impact_score_assertion = f\"{total_sum_not_supported_category_impact / number_unique_not_supported_category_assertion:.2f}\"\n",
    "        not_supported_feature_categories_impact_data[category][\n",
    "            \"avg_impact_score_evidence\"\n",
    "        ] = avg_impact_score_assertion\n",
    "\n",
    "    not_supported_impact_summary[\"MOA Total Sum Impact Score\"].append(\n",
    "        total_sum_not_supported_category_impact\n",
    "    )\n",
    "    not_supported_impact_summary[\"Average Impact Score per Feature\"].append(\n",
    "        avg_impact_score_feature\n",
    "    )\n",
    "    not_supported_impact_summary[\"Average Impact Score per Assertion\"].append(\n",
    "        avg_impact_score_assertion\n",
    "    )\n",
    "\n",
    "    print(\n",
    "        f\"Number of unique features within category: {number_unique_not_supported_category_features}\"\n",
    "    )\n",
    "    print(\n",
    "        f\"{category}: {total_sum_not_supported_category_impact}, {avg_impact_score_feature}, {avg_impact_score_assertion}\"\n",
    "    )"
   ]
  },
  {
   "cell_type": "code",
   "execution_count": null,
   "metadata": {},
   "outputs": [],
   "source": [
    "not_supported_feature_impact_df = pd.DataFrame(not_supported_impact_summary)"
   ]
  },
  {
   "cell_type": "code",
   "execution_count": null,
   "metadata": {},
   "outputs": [],
   "source": [
    "not_supported_feature_impact_df"
   ]
  },
  {
   "cell_type": "code",
   "execution_count": null,
   "metadata": {},
   "outputs": [],
   "source": [
    "not_supported_feature_impact_df.to_csv(\n",
    "    \"moa_assertion_analysis_output/not_supported_feature_impact_df.csv\", index=False\n",
    ")"
   ]
  },
  {
   "cell_type": "markdown",
   "metadata": {},
   "source": [
    "# <a id='toc2_'></a>[MOA Summary](#toc0_)"
   ]
  },
  {
   "cell_type": "markdown",
   "metadata": {},
   "source": [
    "## <a id='toc2_1_'></a>[Feature (Variant) Analysis](#toc0_)"
   ]
  },
  {
   "cell_type": "markdown",
   "metadata": {},
   "source": [
    "### <a id='toc2_1_1_'></a>[Building Summary Tables 1 - 3](#toc0_)"
   ]
  },
  {
   "cell_type": "code",
   "execution_count": null,
   "metadata": {},
   "outputs": [],
   "source": [
    "all_features_df = pd.DataFrame(feature_analysis_summary)"
   ]
  },
  {
   "cell_type": "code",
   "execution_count": null,
   "metadata": {},
   "outputs": [],
   "source": [
    "all_features_df = combine_frac_perc(all_features_df, \"all MOA Features\")"
   ]
  },
  {
   "cell_type": "code",
   "execution_count": null,
   "metadata": {},
   "outputs": [],
   "source": [
    "for_merge_all_variant_percent_of_moa_df = all_features_df.drop(\n",
    "    columns=[\"Fraction of all MOA Features\"]\n",
    ")\n",
    "\n",
    "all_features_percent_of_moa_df = all_features_df.drop(\n",
    "    columns=[\"Fraction of all MOA Features\", \"Count of MOA Features per Category\"]\n",
    ")"
   ]
  },
  {
   "cell_type": "code",
   "execution_count": null,
   "metadata": {},
   "outputs": [],
   "source": [
    "for_merge_all_variant_percent_of_moa_df.to_csv(\n",
    "    \"moa_assertion_analysis_output/for_merge_all_variant_percent_of_moa_df.csv\",\n",
    "    index=False,\n",
    ")"
   ]
  },
  {
   "cell_type": "markdown",
   "metadata": {},
   "source": [
    "### <a id='toc2_1_2_'></a>[Summary Table 1](#toc0_)"
   ]
  },
  {
   "cell_type": "markdown",
   "metadata": {},
   "source": [
    "The table below shows the 2 categories that MOA features (variants) were divided into after normalization and what percent they make up of all features (variants) in MOA data. "
   ]
  },
  {
   "cell_type": "markdown",
   "metadata": {},
   "source": [
    "<ins>Numerator:</ins> # of MOA Features (variants) that are Normalized or Not Supported\n",
    "<br><ins>Denominator:</ins> # of all MOA Features (variants)"
   ]
  },
  {
   "cell_type": "code",
   "execution_count": null,
   "metadata": {},
   "outputs": [],
   "source": [
    "all_features_percent_of_moa_df = all_features_percent_of_moa_df.set_index(\n",
    "    \"Variant Category\"\n",
    ")\n",
    "all_features_percent_of_moa_df"
   ]
  },
  {
   "cell_type": "code",
   "execution_count": null,
   "metadata": {},
   "outputs": [],
   "source": [
    "moa_summary_table_1 = all_features_percent_of_moa_df"
   ]
  },
  {
   "cell_type": "markdown",
   "metadata": {},
   "source": [
    "### <a id='toc2_1_3_'></a>[Summary Table 2](#toc0_)"
   ]
  },
  {
   "cell_type": "markdown",
   "metadata": {},
   "source": [
    "The table below shows the categories that the Not Supported features (variants) were broken into and what percent of all MOA features (variants) they make up."
   ]
  },
  {
   "cell_type": "markdown",
   "metadata": {},
   "source": [
    "<ins>Numerator:</ins> # of MOA Features (variants) that are Not Supported in a given Subcategory\n",
    "<br><ins>Denominator:</ins> # of all MOA Features (variants)"
   ]
  },
  {
   "cell_type": "code",
   "execution_count": null,
   "metadata": {},
   "outputs": [],
   "source": [
    "not_supported_features_df = pd.DataFrame(not_supported_feature_analysis_summary)"
   ]
  },
  {
   "cell_type": "code",
   "execution_count": null,
   "metadata": {},
   "outputs": [],
   "source": [
    "not_supported_features_total_df = combine_frac_perc(\n",
    "    not_supported_features_df, \"all MOA Features\"\n",
    ")"
   ]
  },
  {
   "cell_type": "code",
   "execution_count": null,
   "metadata": {},
   "outputs": [],
   "source": [
    "for_merge_not_supported_features_total_df = not_supported_features_total_df[\n",
    "    [\n",
    "        \"Category\",\n",
    "        \"Count of MOA Features per Category\",\n",
    "        \"Percent of all MOA Features\",\n",
    "    ]\n",
    "].copy()"
   ]
  },
  {
   "cell_type": "code",
   "execution_count": null,
   "metadata": {},
   "outputs": [],
   "source": [
    "not_supported_features_total_df = (\n",
    "    not_supported_features_total_df[\n",
    "        [\n",
    "            \"Category\",\n",
    "            \"Percent of all MOA Features\",\n",
    "        ]\n",
    "    ]\n",
    "    .copy()\n",
    "    .set_index(\"Category\")\n",
    ")\n",
    "not_supported_features_total_df"
   ]
  },
  {
   "cell_type": "code",
   "execution_count": null,
   "metadata": {},
   "outputs": [],
   "source": [
    "moa_summary_table_2 = not_supported_features_total_df"
   ]
  },
  {
   "cell_type": "code",
   "execution_count": null,
   "metadata": {},
   "outputs": [],
   "source": [
    "for_merge_not_supported_features_total_df.to_csv(\n",
    "    \"moa_assertion_analysis_output/for_merge_not_supported_features_total_df.csv\",\n",
    "    index=False,\n",
    ")"
   ]
  },
  {
   "cell_type": "markdown",
   "metadata": {},
   "source": [
    "### <a id='toc2_1_4_'></a>[Summary Table 3](#toc0_)"
   ]
  },
  {
   "cell_type": "markdown",
   "metadata": {},
   "source": [
    "The table below shows the categories that the Not Supported features (variants) were broken into what percent each sub category take up in Not Supported variant group."
   ]
  },
  {
   "cell_type": "markdown",
   "metadata": {},
   "source": [
    "<ins>Numerator:</ins> # of MOA Features (variants) that are Not Supported in a given Subcategory\n",
    "<br><ins>Denominator:</ins> # of MOA Features (variants) that are Not Supported"
   ]
  },
  {
   "cell_type": "code",
   "execution_count": null,
   "metadata": {},
   "outputs": [],
   "source": [
    "not_supported_features_category_df = combine_frac_perc(\n",
    "    not_supported_features_df, \"Not Supported Features\"\n",
    ")"
   ]
  },
  {
   "cell_type": "code",
   "execution_count": null,
   "metadata": {},
   "outputs": [],
   "source": [
    "not_supported_features_category_df = not_supported_features_category_df[\n",
    "    [\"Category\", \"Percent of Not Supported Features\"]\n",
    "]\n",
    "not_supported_features_category_df = not_supported_features_category_df.set_index(\n",
    "    \"Category\"\n",
    ")\n",
    "not_supported_features_category_df"
   ]
  },
  {
   "cell_type": "code",
   "execution_count": null,
   "metadata": {},
   "outputs": [],
   "source": [
    "moa_summary_table_3 = not_supported_features_category_df"
   ]
  },
  {
   "cell_type": "markdown",
   "metadata": {},
   "source": [
    "## <a id='toc2_2_'></a>[Evidence Analysis](#toc0_)"
   ]
  },
  {
   "cell_type": "markdown",
   "metadata": {},
   "source": [
    "### <a id='toc2_2_1_'></a>[Building Summary Table 4](#toc0_)"
   ]
  },
  {
   "cell_type": "code",
   "execution_count": null,
   "metadata": {},
   "outputs": [],
   "source": [
    "all_features_assertions_df = pd.DataFrame(assertion_analysis_summary)"
   ]
  },
  {
   "cell_type": "code",
   "execution_count": null,
   "metadata": {},
   "outputs": [],
   "source": [
    "all_features_assertions_df = combine_frac_perc(\n",
    "    all_features_assertions_df, \"all MOA Assertions\"\n",
    ")"
   ]
  },
  {
   "cell_type": "code",
   "execution_count": null,
   "metadata": {},
   "outputs": [],
   "source": [
    "for_merge_all_features_assertions_df = all_features_assertions_df.drop(\n",
    "    columns=[\"Fraction of all MOA Assertions\"]\n",
    ")\n",
    "\n",
    "all_features_assertions_df = for_merge_all_features_assertions_df.drop(\n",
    "    columns=[\"Count of MOA Assertions per Category\"]\n",
    ")"
   ]
  },
  {
   "cell_type": "code",
   "execution_count": null,
   "metadata": {},
   "outputs": [],
   "source": [
    "for_merge_all_features_assertions_df.to_csv(\n",
    "    \"moa_assertion_analysis_output/for_merge_all_features_assertions_df.csv\",\n",
    "    index=False,\n",
    ")"
   ]
  },
  {
   "cell_type": "markdown",
   "metadata": {},
   "source": [
    "### <a id='toc2_2_2_'></a>[Summary Table 4](#toc0_)"
   ]
  },
  {
   "cell_type": "markdown",
   "metadata": {},
   "source": [
    "The table below shows what percent of all assertions (evidence items) in MOA are associated with Normalized and Not Supported features (variants)"
   ]
  },
  {
   "cell_type": "markdown",
   "metadata": {},
   "source": [
    "<ins>Numerator:</ins> # of MOA Assertions (evidence items) based on normalization status of associated features (variants)\n",
    "<br><ins>Denominator:</ins> # of all MOA Assertions (evidence items)"
   ]
  },
  {
   "cell_type": "code",
   "execution_count": null,
   "metadata": {},
   "outputs": [],
   "source": [
    "all_features_assertions_df = all_features_assertions_df.set_index(\"Variant Category\")\n",
    "moa_summary_table_4 = all_features_assertions_df\n",
    "moa_summary_table_4"
   ]
  },
  {
   "cell_type": "markdown",
   "metadata": {},
   "source": [
    "### <a id='toc2_2_3_'></a>[Building Sumary Tables 5 & 6](#toc0_)"
   ]
  },
  {
   "cell_type": "code",
   "execution_count": null,
   "metadata": {},
   "outputs": [],
   "source": [
    "not_supported_feature_assertion_df = pd.DataFrame(\n",
    "    not_supported_feature_assertion_summary\n",
    ")"
   ]
  },
  {
   "cell_type": "code",
   "execution_count": null,
   "metadata": {},
   "outputs": [],
   "source": [
    "not_supported_feature_assertion_df = combine_frac_perc(\n",
    "    not_supported_feature_assertion_df, \"all MOA Assertions\"\n",
    ")"
   ]
  },
  {
   "cell_type": "code",
   "execution_count": null,
   "metadata": {},
   "outputs": [],
   "source": [
    "not_supported_feature_assertion_df = combine_frac_perc(\n",
    "    not_supported_feature_assertion_df, \"Not Supported Feature Assertions\"\n",
    ")"
   ]
  },
  {
   "cell_type": "code",
   "execution_count": null,
   "metadata": {},
   "outputs": [],
   "source": [
    "not_supported_feature_assertion_df = not_supported_feature_assertion_df.drop(\n",
    "    columns=[\n",
    "        \"Fraction of all MOA Assertions\",\n",
    "        \"Fraction of Not Supported Feature Assertions\",\n",
    "    ]\n",
    ")"
   ]
  },
  {
   "cell_type": "code",
   "execution_count": null,
   "metadata": {},
   "outputs": [],
   "source": [
    "for_merge_not_supported_feature_assertion_df = not_supported_feature_assertion_df.drop(\n",
    "    [\"Percent of Not Supported Feature Assertions\"], axis=1\n",
    ")\n",
    "\n",
    "not_supported_feature_assertion_of_moa_df = (\n",
    "    for_merge_not_supported_feature_assertion_df.drop(\n",
    "        [\"Count of MOA Assertions per Category\"], axis=1\n",
    "    )\n",
    ")\n",
    "\n",
    "not_supported_feature_assertion_of_not_supported_df = (\n",
    "    not_supported_feature_assertion_df.drop(\n",
    "        [\"Percent of all MOA Assertions\", \"Count of MOA Assertions per Category\"],\n",
    "        axis=1,\n",
    "    )\n",
    ")"
   ]
  },
  {
   "cell_type": "code",
   "execution_count": null,
   "metadata": {},
   "outputs": [],
   "source": [
    "for_merge_not_supported_feature_assertion_df.to_csv(\n",
    "    \"moa_assertion_analysis_output/for_merge_not_supported_feature_assertion_df.csv\",\n",
    "    index=False,\n",
    ")"
   ]
  },
  {
   "cell_type": "markdown",
   "metadata": {},
   "source": [
    "### <a id='toc2_2_4_'></a>[Summary Table 5](#toc0_)"
   ]
  },
  {
   "cell_type": "markdown",
   "metadata": {},
   "source": [
    "The table below shows the percent of all MOA assertions (evidence items) that are associated with a Not Supported variant sub category."
   ]
  },
  {
   "cell_type": "markdown",
   "metadata": {},
   "source": [
    "<ins>Numerator:</ins> # of MOA Assertions (evidence items) associated with Not Supported features (variants) in a given Subcategory\n",
    "<br><ins>Denominator:</ins> # of all MOA Assertions (evidence items)"
   ]
  },
  {
   "cell_type": "code",
   "execution_count": null,
   "metadata": {},
   "outputs": [],
   "source": [
    "not_supported_feature_assertion_of_moa_df = (\n",
    "    not_supported_feature_assertion_of_moa_df.set_index(\"Category\")\n",
    ")\n",
    "moa_summary_table_5 = not_supported_feature_assertion_of_moa_df\n",
    "moa_summary_table_5"
   ]
  },
  {
   "cell_type": "markdown",
   "metadata": {},
   "source": [
    "### <a id='toc2_2_5_'></a>[Summary Table 6](#toc0_)"
   ]
  },
  {
   "cell_type": "markdown",
   "metadata": {},
   "source": [
    "The table below shows the percent of MOA Assertions (evidence items) associated with Not Supported features (variants) that belong to each variant sub category. "
   ]
  },
  {
   "cell_type": "markdown",
   "metadata": {},
   "source": [
    "<ins>Numerator:</ins> # of MOA Assertions (evidence items) associated with Not Supported features (variants) in a given Subcategory\n",
    "<br><ins>Denominator:</ins> # of MOA Assertions (evidence items) associated with all Not Supported features (variants)"
   ]
  },
  {
   "cell_type": "code",
   "execution_count": null,
   "metadata": {},
   "outputs": [],
   "source": [
    "not_supported_feature_assertion_of_not_supported_df = (\n",
    "    not_supported_feature_assertion_of_not_supported_df.set_index(\"Category\")\n",
    ")\n",
    "moa_summary_table_6 = not_supported_feature_assertion_of_not_supported_df\n",
    "moa_summary_table_6"
   ]
  },
  {
   "cell_type": "markdown",
   "metadata": {},
   "source": [
    "## <a id='toc2_3_'></a>[Impact](#toc0_)"
   ]
  },
  {
   "attachments": {},
   "cell_type": "markdown",
   "metadata": {},
   "source": [
    "The bar graph below shows the relationship between the Not Supported variant sub category impact score and the sub category. Additionally, the colors illustrate the number of assertions (evidence items) associated each sub category."
   ]
  },
  {
   "cell_type": "code",
   "execution_count": null,
   "metadata": {},
   "outputs": [],
   "source": [
    "not_supported_feature_impact_df = pd.DataFrame(not_supported_impact_summary)\n",
    "not_supported_feature_impact_df"
   ]
  },
  {
   "cell_type": "code",
   "execution_count": null,
   "metadata": {},
   "outputs": [],
   "source": [
    "not_supported_feature_impact_df.to_csv(\n",
    "    \"moa_assertion_analysis_output/not_supported_feature_impact_df.csv\", index=False\n",
    ")"
   ]
  },
  {
   "cell_type": "code",
   "execution_count": null,
   "metadata": {},
   "outputs": [],
   "source": [
    "fig3 = px.bar(\n",
    "    not_supported_feature_impact_df,\n",
    "    x=\"Category\",\n",
    "    y=\"MOA Total Sum Impact Score\",\n",
    "    hover_data=[\"Total Number Assertions\"],\n",
    "    color=\"Total Number Assertions\",\n",
    "    labels={\"MOA Total Sum Impact Score\": \"MOA Total Sum Impact Score\"},\n",
    "    text_auto=\".1f\",\n",
    "    color_continuous_scale=\"geyser\",\n",
    ")\n",
    "fig3.update_traces(width=1)\n",
    "fig3.show()"
   ]
  },
  {
   "cell_type": "code",
   "execution_count": null,
   "metadata": {},
   "outputs": [],
   "source": [
    "fig3.write_html(\"moa_assertion_analysis_output/moa_ns_categories_impact_redgreen.html\")"
   ]
  },
  {
   "attachments": {},
   "cell_type": "markdown",
   "metadata": {},
   "source": [
    "The scatterplot below shows the relationship between the Not Supported variant sub category impact score and the number of assertions (evidence items) associated with features (variants) in each sub category. Additionally, the sizes of the data point represent the number of features (variants) in each sub category. "
   ]
  },
  {
   "cell_type": "code",
   "execution_count": null,
   "metadata": {},
   "outputs": [],
   "source": [
    "fig2 = px.scatter(\n",
    "    data_frame=not_supported_feature_impact_df,\n",
    "    x=\"Total Number Assertions\",\n",
    "    y=\"MOA Total Sum Impact Score\",\n",
    "    size=\"Total Number Features\",\n",
    "    size_max=40,\n",
    "    text=\"Total Number Features\",\n",
    "    color=\"Category\",\n",
    ")\n",
    "fig2.show()"
   ]
  },
  {
   "cell_type": "code",
   "execution_count": null,
   "metadata": {},
   "outputs": [],
   "source": [
    "fig2.write_html(\n",
    "    \"moa_assertion_analysis_output/moa_ns_categories_impact_scatterplot.html\"\n",
    ")"
   ]
  }
 ],
 "metadata": {
  "kernelspec": {
   "display_name": "Python 3.10.9 ('.venv': venv)",
   "language": "python",
   "name": "python3"
  },
  "language_info": {
   "codemirror_mode": {
    "name": "ipython",
    "version": 3
   },
   "file_extension": ".py",
   "mimetype": "text/x-python",
   "name": "python",
   "nbconvert_exporter": "python",
   "pygments_lexer": "ipython3",
   "version": "3.10.9"
  },
  "orig_nbformat": 4,
  "vscode": {
   "interpreter": {
    "hash": "60bedfc6dd95a1d756c285a8080496495ec396023cb257f004626f94ae504b38"
   }
  }
 },
 "nbformat": 4,
 "nbformat_minor": 2
}
