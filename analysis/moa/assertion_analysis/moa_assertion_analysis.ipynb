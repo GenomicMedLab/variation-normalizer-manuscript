{
 "cells": [
  {
   "attachments": {},
   "cell_type": "markdown",
   "metadata": {},
   "source": [
    "# Molecular Oncology Almanac Assertion Analysis"
   ]
  },
  {
   "attachments": {},
   "cell_type": "markdown",
   "metadata": {},
   "source": [
    "MOA evidence items are referred to as assertions and MOA variants are referred to as features in this analysis. "
   ]
  },
  {
   "cell_type": "code",
   "execution_count": 1,
   "metadata": {},
   "outputs": [],
   "source": [
    "from enum import Enum\n",
    "from typing import Dict\n",
    "import json\n",
    "\n",
    "import pandas as pd\n",
    "import plotly.express as px\n",
    "import requests\n",
    "from ga4gh.core import sha512t24u\n"
   ]
  },
  {
   "cell_type": "code",
   "execution_count": 2,
   "metadata": {},
   "outputs": [],
   "source": [
    "def get_feature_digest(feature: Dict) -> str:\n",
    "    \"\"\"Get digest for feature\n",
    "\n",
    "    :param feature: MOA feature\n",
    "    :return: Digest\n",
    "    \"\"\"\n",
    "    attrs = json.dumps(\n",
    "        feature[\"attributes\"][0],\n",
    "        sort_keys=True,\n",
    "        separators=(\",\", \":\"),\n",
    "        indent=None\n",
    "    ).encode(\"utf-8\")\n",
    "    return sha512t24u(attrs)"
   ]
  },
  {
   "cell_type": "code",
   "execution_count": 3,
   "metadata": {},
   "outputs": [],
   "source": [
    "class VariantNormType(str, Enum):\n",
    "    \"\"\"Variation Normalization types\"\"\"\n",
    "\n",
    "    NORMALIZED = \"Normalized\"\n",
    "    NOT_SUPPORTED = \"Not Supported\"\n",
    "\n",
    "\n",
    "VARIANT_NORM_TYPE_VALUES = [v.value for v in VariantNormType.__members__.values()]"
   ]
  },
  {
   "cell_type": "code",
   "execution_count": 4,
   "metadata": {},
   "outputs": [],
   "source": [
    "class VariantCategory(str, Enum):\n",
    "    \"\"\"Create enum for the kind of variants that are in CIViC.\"\"\"\n",
    "    EXPRESSION = \"Expression Variants\"\n",
    "    EPIGENETIC_MODIFICATION = \"Epigenetic Modification\"\n",
    "    FUSION = \"Fusion Variants\"\n",
    "    SEQUENCE_VARS = \"Sequence Variants\"\n",
    "    GENE_FUNC = \"Gene Function Variants\"\n",
    "    REARRANGEMENTS = \"Rearrangement Variants\"\n",
    "    COPY_NUMBER = \"Copy Number Variants\"\n",
    "    OTHER = \"Other Variants\"\n",
    "    GENOTYPES = \"Genotype Variants\"\n",
    "    REGION_DEFINED_VAR = \"Region Defined Variants\"\n",
    "    TRANSCRIPT_VAR = \"Transcript Variants\"  # no attempt to normalize these ones, since there is no query we could use\n",
    "\n",
    "\n",
    "VARIANT_CATEGORY_VALUES = [v.value for v in VariantCategory.__members__.values()]"
   ]
  },
  {
   "attachments": {},
   "cell_type": "markdown",
   "metadata": {},
   "source": [
    "## All Features (Variants) Analysis"
   ]
  },
  {
   "attachments": {},
   "cell_type": "markdown",
   "metadata": {},
   "source": [
    "### Creating a table with feature (variant) and assertion (evidence) information"
   ]
  },
  {
   "cell_type": "code",
   "execution_count": 5,
   "metadata": {},
   "outputs": [
    {
     "data": {
      "text/plain": [
       "429"
      ]
     },
     "execution_count": 5,
     "metadata": {},
     "output_type": "execute_result"
    }
   ],
   "source": [
    "# Create dictionary for MOA Feature ID -> Feature Type\n",
    "r = requests.get(\"https://moalmanac.org/api/features\")\n",
    "if r.status_code == 200:\n",
    "    feature_data = r.json()\n",
    "\n",
    "features = {}\n",
    "\n",
    "for feature in feature_data:\n",
    "    feature_id = feature[\"feature_id\"]\n",
    "    digest = get_feature_digest(feature)\n",
    "    features[digest] = feature[\"feature_type\"]\n",
    "\n",
    "len(features.keys())\n"
   ]
  },
  {
   "cell_type": "code",
   "execution_count": 6,
   "metadata": {},
   "outputs": [
    {
     "data": {
      "text/html": [
       "<div>\n",
       "<style scoped>\n",
       "    .dataframe tbody tr th:only-of-type {\n",
       "        vertical-align: middle;\n",
       "    }\n",
       "\n",
       "    .dataframe tbody tr th {\n",
       "        vertical-align: top;\n",
       "    }\n",
       "\n",
       "    .dataframe thead th {\n",
       "        text-align: right;\n",
       "    }\n",
       "</style>\n",
       "<table border=\"1\" class=\"dataframe\">\n",
       "  <thead>\n",
       "    <tr style=\"text-align: right;\">\n",
       "      <th></th>\n",
       "      <th>assertion_id</th>\n",
       "      <th>feature_id</th>\n",
       "      <th>feature_type</th>\n",
       "      <th>predictive_implication</th>\n",
       "      <th>feature_digest</th>\n",
       "    </tr>\n",
       "  </thead>\n",
       "  <tbody>\n",
       "    <tr>\n",
       "      <th>0</th>\n",
       "      <td>1</td>\n",
       "      <td>1</td>\n",
       "      <td>rearrangement</td>\n",
       "      <td>FDA-Approved</td>\n",
       "      <td>RnRyn89cJzVbVM93aw4OA44NIF5zblyP</td>\n",
       "    </tr>\n",
       "    <tr>\n",
       "      <th>1</th>\n",
       "      <td>2</td>\n",
       "      <td>2</td>\n",
       "      <td>rearrangement</td>\n",
       "      <td>FDA-Approved</td>\n",
       "      <td>RnRyn89cJzVbVM93aw4OA44NIF5zblyP</td>\n",
       "    </tr>\n",
       "    <tr>\n",
       "      <th>2</th>\n",
       "      <td>3</td>\n",
       "      <td>3</td>\n",
       "      <td>rearrangement</td>\n",
       "      <td>FDA-Approved</td>\n",
       "      <td>RnRyn89cJzVbVM93aw4OA44NIF5zblyP</td>\n",
       "    </tr>\n",
       "    <tr>\n",
       "      <th>3</th>\n",
       "      <td>4</td>\n",
       "      <td>4</td>\n",
       "      <td>rearrangement</td>\n",
       "      <td>FDA-Approved</td>\n",
       "      <td>RnRyn89cJzVbVM93aw4OA44NIF5zblyP</td>\n",
       "    </tr>\n",
       "    <tr>\n",
       "      <th>4</th>\n",
       "      <td>5</td>\n",
       "      <td>5</td>\n",
       "      <td>rearrangement</td>\n",
       "      <td>FDA-Approved</td>\n",
       "      <td>RnRyn89cJzVbVM93aw4OA44NIF5zblyP</td>\n",
       "    </tr>\n",
       "    <tr>\n",
       "      <th>...</th>\n",
       "      <td>...</td>\n",
       "      <td>...</td>\n",
       "      <td>...</td>\n",
       "      <td>...</td>\n",
       "      <td>...</td>\n",
       "    </tr>\n",
       "    <tr>\n",
       "      <th>889</th>\n",
       "      <td>890</td>\n",
       "      <td>890</td>\n",
       "      <td>somatic_variant</td>\n",
       "      <td>FDA-Approved</td>\n",
       "      <td>c3CkYcMt4ssh4AL4gpacJtFil8xl2TB2</td>\n",
       "    </tr>\n",
       "    <tr>\n",
       "      <th>890</th>\n",
       "      <td>891</td>\n",
       "      <td>891</td>\n",
       "      <td>somatic_variant</td>\n",
       "      <td>FDA-Approved</td>\n",
       "      <td>uAW4cOXId1N1MKo5fqHYdw9JGceCMmE5</td>\n",
       "    </tr>\n",
       "    <tr>\n",
       "      <th>891</th>\n",
       "      <td>892</td>\n",
       "      <td>892</td>\n",
       "      <td>somatic_variant</td>\n",
       "      <td>FDA-Approved</td>\n",
       "      <td>B5m8cSgi6w2xRCg0X_dPpQU2dwbvtXk1</td>\n",
       "    </tr>\n",
       "    <tr>\n",
       "      <th>892</th>\n",
       "      <td>893</td>\n",
       "      <td>893</td>\n",
       "      <td>somatic_variant</td>\n",
       "      <td>FDA-Approved</td>\n",
       "      <td>YLXf4Q8yr45bD0I_v6nkpDjBFuGPdFbd</td>\n",
       "    </tr>\n",
       "    <tr>\n",
       "      <th>893</th>\n",
       "      <td>894</td>\n",
       "      <td>894</td>\n",
       "      <td>somatic_variant</td>\n",
       "      <td>FDA-Approved</td>\n",
       "      <td>I4I_C5W3WTcrJrDzfwB2fGzi3asCjwy9</td>\n",
       "    </tr>\n",
       "  </tbody>\n",
       "</table>\n",
       "<p>894 rows × 5 columns</p>\n",
       "</div>"
      ],
      "text/plain": [
       "     assertion_id  feature_id     feature_type predictive_implication  \\\n",
       "0               1           1    rearrangement           FDA-Approved   \n",
       "1               2           2    rearrangement           FDA-Approved   \n",
       "2               3           3    rearrangement           FDA-Approved   \n",
       "3               4           4    rearrangement           FDA-Approved   \n",
       "4               5           5    rearrangement           FDA-Approved   \n",
       "..            ...         ...              ...                    ...   \n",
       "889           890         890  somatic_variant           FDA-Approved   \n",
       "890           891         891  somatic_variant           FDA-Approved   \n",
       "891           892         892  somatic_variant           FDA-Approved   \n",
       "892           893         893  somatic_variant           FDA-Approved   \n",
       "893           894         894  somatic_variant           FDA-Approved   \n",
       "\n",
       "                       feature_digest  \n",
       "0    RnRyn89cJzVbVM93aw4OA44NIF5zblyP  \n",
       "1    RnRyn89cJzVbVM93aw4OA44NIF5zblyP  \n",
       "2    RnRyn89cJzVbVM93aw4OA44NIF5zblyP  \n",
       "3    RnRyn89cJzVbVM93aw4OA44NIF5zblyP  \n",
       "4    RnRyn89cJzVbVM93aw4OA44NIF5zblyP  \n",
       "..                                ...  \n",
       "889  c3CkYcMt4ssh4AL4gpacJtFil8xl2TB2  \n",
       "890  uAW4cOXId1N1MKo5fqHYdw9JGceCMmE5  \n",
       "891  B5m8cSgi6w2xRCg0X_dPpQU2dwbvtXk1  \n",
       "892  YLXf4Q8yr45bD0I_v6nkpDjBFuGPdFbd  \n",
       "893  I4I_C5W3WTcrJrDzfwB2fGzi3asCjwy9  \n",
       "\n",
       "[894 rows x 5 columns]"
      ]
     },
     "execution_count": 6,
     "metadata": {},
     "output_type": "execute_result"
    }
   ],
   "source": [
    "# Create DF for assertions and their associated feature + predictive implication\n",
    "r = requests.get(\"https://moalmanac.org/api/assertions\")\n",
    "if r.status_code == 200:\n",
    "    assertion_data = r.json()\n",
    "\n",
    "transformed = []\n",
    "\n",
    "# Mapping from feature ID to feature digest\n",
    "feature_id_to_digest = {}\n",
    "\n",
    "for assertion in assertion_data:\n",
    "    assertion_id = assertion[\"assertion_id\"]\n",
    "    predictive_implication = assertion[\"predictive_implication\"]\n",
    "\n",
    "    if len(assertion[\"features\"]) != 1:\n",
    "        print(f\"assertion id ({assertion_id}) does not have 1 feature\")\n",
    "        continue\n",
    "\n",
    "    feature = assertion[\"features\"][0]\n",
    "    feature_id = feature[\"feature_id\"]\n",
    "    feature_digest = get_feature_digest(feature)\n",
    "\n",
    "    feature_id_to_digest[feature_id] = digest\n",
    "\n",
    "    transformed.append(\n",
    "        {\n",
    "            \"assertion_id\": assertion_id,\n",
    "            \"feature_id\": feature_id,\n",
    "            \"feature_type\": features[feature_digest],\n",
    "            \"predictive_implication\": predictive_implication,\n",
    "            \"feature_digest\": feature_digest\n",
    "        }\n",
    "    )\n",
    "moa_df = pd.DataFrame(transformed)\n",
    "moa_df"
   ]
  },
  {
   "cell_type": "code",
   "execution_count": 7,
   "metadata": {},
   "outputs": [],
   "source": [
    "unique_features_df = moa_df.sort_values(\"feature_id\").drop_duplicates(\"feature_digest\")\n",
    "len_unique_feature_ids = len(list(unique_features_df.feature_id))"
   ]
  },
  {
   "cell_type": "code",
   "execution_count": 8,
   "metadata": {},
   "outputs": [
    {
     "data": {
      "text/plain": [
       "'Total number of unique features (variants): 428'"
      ]
     },
     "execution_count": 8,
     "metadata": {},
     "output_type": "execute_result"
    }
   ],
   "source": [
    "total_len_features = len(moa_df.feature_digest.unique())\n",
    "f\"Total number of unique features (variants): {total_len_features}\""
   ]
  },
  {
   "cell_type": "code",
   "execution_count": 9,
   "metadata": {},
   "outputs": [],
   "source": [
    "assert total_len_features == len_unique_feature_ids"
   ]
  },
  {
   "cell_type": "code",
   "execution_count": 10,
   "metadata": {},
   "outputs": [
    {
     "data": {
      "text/plain": [
       "'Total number of unique assertions (evidence items): 894'"
      ]
     },
     "execution_count": 10,
     "metadata": {},
     "output_type": "execute_result"
    }
   ],
   "source": [
    "total_len_assertions = len(moa_df.assertion_id.unique())\n",
    "f\"Total number of unique assertions (evidence items): {total_len_assertions}\""
   ]
  },
  {
   "attachments": {},
   "cell_type": "markdown",
   "metadata": {},
   "source": [
    "### Converting feature (variant) types to normalized categories"
   ]
  },
  {
   "cell_type": "code",
   "execution_count": 11,
   "metadata": {},
   "outputs": [
    {
     "data": {
      "text/plain": [
       "['rearrangement',\n",
       " 'somatic_variant',\n",
       " 'germline_variant',\n",
       " 'copy_number',\n",
       " 'microsatellite_stability',\n",
       " 'mutational_signature',\n",
       " 'mutational_burden',\n",
       " 'knockdown',\n",
       " 'aneuploidy']"
      ]
     },
     "execution_count": 11,
     "metadata": {},
     "output_type": "execute_result"
    }
   ],
   "source": [
    "list(moa_df.feature_type.unique())"
   ]
  },
  {
   "cell_type": "code",
   "execution_count": 12,
   "metadata": {},
   "outputs": [
    {
     "data": {
      "text/html": [
       "<div>\n",
       "<style scoped>\n",
       "    .dataframe tbody tr th:only-of-type {\n",
       "        vertical-align: middle;\n",
       "    }\n",
       "\n",
       "    .dataframe tbody tr th {\n",
       "        vertical-align: top;\n",
       "    }\n",
       "\n",
       "    .dataframe thead th {\n",
       "        text-align: right;\n",
       "    }\n",
       "</style>\n",
       "<table border=\"1\" class=\"dataframe\">\n",
       "  <thead>\n",
       "    <tr style=\"text-align: right;\">\n",
       "      <th></th>\n",
       "      <th>assertion_id</th>\n",
       "      <th>feature_id</th>\n",
       "      <th>feature_type</th>\n",
       "      <th>predictive_implication</th>\n",
       "      <th>feature_digest</th>\n",
       "      <th>category</th>\n",
       "    </tr>\n",
       "  </thead>\n",
       "  <tbody>\n",
       "    <tr>\n",
       "      <th>0</th>\n",
       "      <td>1</td>\n",
       "      <td>1</td>\n",
       "      <td>rearrangement</td>\n",
       "      <td>FDA-Approved</td>\n",
       "      <td>RnRyn89cJzVbVM93aw4OA44NIF5zblyP</td>\n",
       "      <td>Rearrangement Variants</td>\n",
       "    </tr>\n",
       "    <tr>\n",
       "      <th>1</th>\n",
       "      <td>2</td>\n",
       "      <td>2</td>\n",
       "      <td>rearrangement</td>\n",
       "      <td>FDA-Approved</td>\n",
       "      <td>RnRyn89cJzVbVM93aw4OA44NIF5zblyP</td>\n",
       "      <td>Rearrangement Variants</td>\n",
       "    </tr>\n",
       "    <tr>\n",
       "      <th>2</th>\n",
       "      <td>3</td>\n",
       "      <td>3</td>\n",
       "      <td>rearrangement</td>\n",
       "      <td>FDA-Approved</td>\n",
       "      <td>RnRyn89cJzVbVM93aw4OA44NIF5zblyP</td>\n",
       "      <td>Rearrangement Variants</td>\n",
       "    </tr>\n",
       "    <tr>\n",
       "      <th>3</th>\n",
       "      <td>4</td>\n",
       "      <td>4</td>\n",
       "      <td>rearrangement</td>\n",
       "      <td>FDA-Approved</td>\n",
       "      <td>RnRyn89cJzVbVM93aw4OA44NIF5zblyP</td>\n",
       "      <td>Rearrangement Variants</td>\n",
       "    </tr>\n",
       "    <tr>\n",
       "      <th>4</th>\n",
       "      <td>5</td>\n",
       "      <td>5</td>\n",
       "      <td>rearrangement</td>\n",
       "      <td>FDA-Approved</td>\n",
       "      <td>RnRyn89cJzVbVM93aw4OA44NIF5zblyP</td>\n",
       "      <td>Rearrangement Variants</td>\n",
       "    </tr>\n",
       "  </tbody>\n",
       "</table>\n",
       "</div>"
      ],
      "text/plain": [
       "   assertion_id  feature_id   feature_type predictive_implication  \\\n",
       "0             1           1  rearrangement           FDA-Approved   \n",
       "1             2           2  rearrangement           FDA-Approved   \n",
       "2             3           3  rearrangement           FDA-Approved   \n",
       "3             4           4  rearrangement           FDA-Approved   \n",
       "4             5           5  rearrangement           FDA-Approved   \n",
       "\n",
       "                     feature_digest                category  \n",
       "0  RnRyn89cJzVbVM93aw4OA44NIF5zblyP  Rearrangement Variants  \n",
       "1  RnRyn89cJzVbVM93aw4OA44NIF5zblyP  Rearrangement Variants  \n",
       "2  RnRyn89cJzVbVM93aw4OA44NIF5zblyP  Rearrangement Variants  \n",
       "3  RnRyn89cJzVbVM93aw4OA44NIF5zblyP  Rearrangement Variants  \n",
       "4  RnRyn89cJzVbVM93aw4OA44NIF5zblyP  Rearrangement Variants  "
      ]
     },
     "execution_count": 12,
     "metadata": {},
     "output_type": "execute_result"
    }
   ],
   "source": [
    "moa_df[\"category\"] = moa_df[\"feature_type\"].copy()\n",
    "\n",
    "moa_df[\"category\"] = moa_df[\"category\"].replace(\"rearrangement\", VariantCategory.REARRANGEMENTS.value)\n",
    "moa_df[\"category\"] = moa_df[\"category\"].replace(\"aneuploidy\", VariantCategory.COPY_NUMBER.value)\n",
    "moa_df[\"category\"] = moa_df[\"category\"].replace(\"knockdown\", VariantCategory.EXPRESSION.value)\n",
    "moa_df[\"category\"] = moa_df[\"category\"].replace(\"somatic_variant\", VariantCategory.SEQUENCE_VARS.value)\n",
    "moa_df[\"category\"] = moa_df[\"category\"].replace(\"germline_variant\", VariantCategory.SEQUENCE_VARS.value)\n",
    "moa_df[\"category\"] = moa_df[\"category\"].replace(\"microsatellite_stability\", VariantCategory.REARRANGEMENTS.value)\n",
    "moa_df[\"category\"] = moa_df[\"category\"].replace(\"mutational_burden\", VariantCategory.OTHER.value)\n",
    "moa_df[\"category\"] = moa_df[\"category\"].replace(\"mutational_signature\", VariantCategory.OTHER.value)\n",
    "moa_df[\"category\"] = moa_df[\"category\"].replace(\"copy_number\", VariantCategory.COPY_NUMBER.value)\n",
    "\n",
    "moa_df.head()"
   ]
  },
  {
   "cell_type": "code",
   "execution_count": 13,
   "metadata": {},
   "outputs": [
    {
     "data": {
      "text/plain": [
       "['Rearrangement Variants',\n",
       " 'Sequence Variants',\n",
       " 'Copy Number Variants',\n",
       " 'Other Variants',\n",
       " 'Expression Variants']"
      ]
     },
     "execution_count": 13,
     "metadata": {},
     "output_type": "execute_result"
    }
   ],
   "source": [
    "list(moa_df.category.unique())"
   ]
  },
  {
   "attachments": {},
   "cell_type": "markdown",
   "metadata": {},
   "source": [
    "### Adding a numerical impact score based on the predictive implication\n",
    "This is based on the structure of MOA scoring"
   ]
  },
  {
   "cell_type": "code",
   "execution_count": 14,
   "metadata": {},
   "outputs": [
    {
     "data": {
      "text/plain": [
       "['FDA-Approved',\n",
       " 'Guideline',\n",
       " 'Clinical trial',\n",
       " 'Preclinical',\n",
       " 'Inferential',\n",
       " 'Clinical evidence']"
      ]
     },
     "execution_count": 14,
     "metadata": {},
     "output_type": "execute_result"
    }
   ],
   "source": [
    "predictive_implication_categories = moa_df.predictive_implication.unique()\n",
    "list(predictive_implication_categories)"
   ]
  },
  {
   "cell_type": "code",
   "execution_count": 15,
   "metadata": {},
   "outputs": [
    {
     "data": {
      "text/html": [
       "<div>\n",
       "<style scoped>\n",
       "    .dataframe tbody tr th:only-of-type {\n",
       "        vertical-align: middle;\n",
       "    }\n",
       "\n",
       "    .dataframe tbody tr th {\n",
       "        vertical-align: top;\n",
       "    }\n",
       "\n",
       "    .dataframe thead th {\n",
       "        text-align: right;\n",
       "    }\n",
       "</style>\n",
       "<table border=\"1\" class=\"dataframe\">\n",
       "  <thead>\n",
       "    <tr style=\"text-align: right;\">\n",
       "      <th></th>\n",
       "      <th>assertion_id</th>\n",
       "      <th>feature_id</th>\n",
       "      <th>feature_type</th>\n",
       "      <th>predictive_implication</th>\n",
       "      <th>feature_digest</th>\n",
       "      <th>category</th>\n",
       "      <th>impact_score</th>\n",
       "    </tr>\n",
       "  </thead>\n",
       "  <tbody>\n",
       "    <tr>\n",
       "      <th>0</th>\n",
       "      <td>1</td>\n",
       "      <td>1</td>\n",
       "      <td>rearrangement</td>\n",
       "      <td>FDA-Approved</td>\n",
       "      <td>RnRyn89cJzVbVM93aw4OA44NIF5zblyP</td>\n",
       "      <td>Rearrangement Variants</td>\n",
       "      <td>10</td>\n",
       "    </tr>\n",
       "    <tr>\n",
       "      <th>1</th>\n",
       "      <td>2</td>\n",
       "      <td>2</td>\n",
       "      <td>rearrangement</td>\n",
       "      <td>FDA-Approved</td>\n",
       "      <td>RnRyn89cJzVbVM93aw4OA44NIF5zblyP</td>\n",
       "      <td>Rearrangement Variants</td>\n",
       "      <td>10</td>\n",
       "    </tr>\n",
       "    <tr>\n",
       "      <th>2</th>\n",
       "      <td>3</td>\n",
       "      <td>3</td>\n",
       "      <td>rearrangement</td>\n",
       "      <td>FDA-Approved</td>\n",
       "      <td>RnRyn89cJzVbVM93aw4OA44NIF5zblyP</td>\n",
       "      <td>Rearrangement Variants</td>\n",
       "      <td>10</td>\n",
       "    </tr>\n",
       "    <tr>\n",
       "      <th>3</th>\n",
       "      <td>4</td>\n",
       "      <td>4</td>\n",
       "      <td>rearrangement</td>\n",
       "      <td>FDA-Approved</td>\n",
       "      <td>RnRyn89cJzVbVM93aw4OA44NIF5zblyP</td>\n",
       "      <td>Rearrangement Variants</td>\n",
       "      <td>10</td>\n",
       "    </tr>\n",
       "    <tr>\n",
       "      <th>4</th>\n",
       "      <td>5</td>\n",
       "      <td>5</td>\n",
       "      <td>rearrangement</td>\n",
       "      <td>FDA-Approved</td>\n",
       "      <td>RnRyn89cJzVbVM93aw4OA44NIF5zblyP</td>\n",
       "      <td>Rearrangement Variants</td>\n",
       "      <td>10</td>\n",
       "    </tr>\n",
       "  </tbody>\n",
       "</table>\n",
       "</div>"
      ],
      "text/plain": [
       "   assertion_id  feature_id   feature_type predictive_implication  \\\n",
       "0             1           1  rearrangement           FDA-Approved   \n",
       "1             2           2  rearrangement           FDA-Approved   \n",
       "2             3           3  rearrangement           FDA-Approved   \n",
       "3             4           4  rearrangement           FDA-Approved   \n",
       "4             5           5  rearrangement           FDA-Approved   \n",
       "\n",
       "                     feature_digest                category impact_score  \n",
       "0  RnRyn89cJzVbVM93aw4OA44NIF5zblyP  Rearrangement Variants           10  \n",
       "1  RnRyn89cJzVbVM93aw4OA44NIF5zblyP  Rearrangement Variants           10  \n",
       "2  RnRyn89cJzVbVM93aw4OA44NIF5zblyP  Rearrangement Variants           10  \n",
       "3  RnRyn89cJzVbVM93aw4OA44NIF5zblyP  Rearrangement Variants           10  \n",
       "4  RnRyn89cJzVbVM93aw4OA44NIF5zblyP  Rearrangement Variants           10  "
      ]
     },
     "execution_count": 15,
     "metadata": {},
     "output_type": "execute_result"
    }
   ],
   "source": [
    "moa_df[\"impact_score\"] = moa_df[\"predictive_implication\"].copy()\n",
    "\n",
    "moa_df.loc[moa_df[\"impact_score\"] == \"FDA-Approved\", \"impact_score\"] = 10\n",
    "moa_df.loc[moa_df[\"impact_score\"] == \"Guideline\", \"impact_score\"] = 10\n",
    "moa_df.loc[moa_df[\"impact_score\"] == \"Clinical evidence\", \"impact_score\"] = 5\n",
    "moa_df.loc[moa_df[\"impact_score\"] == \"Clinical trial\", \"impact_score\"] = 5\n",
    "moa_df.loc[moa_df[\"impact_score\"] == \"Preclinical\", \"impact_score\"] = 1\n",
    "moa_df.loc[moa_df[\"impact_score\"] == \"Inferential\", \"impact_score\"] = 1\n",
    "\n",
    "moa_df.head()"
   ]
  },
  {
   "attachments": {},
   "cell_type": "markdown",
   "metadata": {},
   "source": [
    "### Impact Score Analysis"
   ]
  },
  {
   "cell_type": "code",
   "execution_count": 16,
   "metadata": {},
   "outputs": [
    {
     "name": "stdout",
     "output_type": "stream",
     "text": [
      "Expression Variants: 12\n",
      "Epigenetic Modification: 0\n",
      "Fusion Variants: 0\n",
      "Sequence Variants: 4199\n",
      "Gene Function Variants: 0\n",
      "Rearrangement Variants: 644\n",
      "Copy Number Variants: 415\n",
      "Other Variants: 62\n",
      "Genotype Variants: 0\n",
      "Region Defined Variants: 0\n",
      "Transcript Variants: 0\n"
     ]
    }
   ],
   "source": [
    "feature_categories_impact_data = dict()\n",
    "for category in VARIANT_CATEGORY_VALUES:\n",
    "    feature_categories_impact_data[category] = {}\n",
    "    impact_category_df = moa_df[moa_df.category == category]\n",
    "\n",
    "    total_sum_category_impact = impact_category_df[\"impact_score\"].sum()\n",
    "    feature_categories_impact_data[category][\"total_sum_category_impact\"] = total_sum_category_impact\n",
    "    print(f\"{category}: {total_sum_category_impact}\")"
   ]
  },
  {
   "attachments": {},
   "cell_type": "markdown",
   "metadata": {},
   "source": [
    "### Features (Variants) Analysis"
   ]
  },
  {
   "cell_type": "code",
   "execution_count": 17,
   "metadata": {},
   "outputs": [],
   "source": [
    "moa_feature_data = dict()\n",
    "for category in VARIANT_CATEGORY_VALUES:\n",
    "    moa_feature_data[category] = {}\n",
    "    feature_type_df = moa_df[moa_df.category == category]\n",
    "\n",
    "    number_unique_category_features = len(set(feature_type_df.feature_digest))\n",
    "    moa_feature_data[category][\"number_unique_category_features\"] = number_unique_category_features\n",
    "\n",
    "    fraction_category_feature = f\"{number_unique_category_features} / {total_len_features}\"\n",
    "    moa_feature_data[category][\"fraction_category_feature\"] = fraction_category_feature\n",
    "\n",
    "    percent_category_feature = \"{:.2f}\".format(number_unique_category_features / total_len_features * 100) + \"%\"\n",
    "    moa_feature_data[category][\"percent_category_feature\"] = percent_category_feature"
   ]
  },
  {
   "attachments": {},
   "cell_type": "markdown",
   "metadata": {},
   "source": [
    "### Assertions (Evidence Items) Analysis"
   ]
  },
  {
   "cell_type": "code",
   "execution_count": 18,
   "metadata": {},
   "outputs": [],
   "source": [
    "moa_assertion_data = dict()\n",
    "for category in VARIANT_CATEGORY_VALUES:\n",
    "    moa_assertion_data[category] = {}\n",
    "    assertion_type_df = moa_df[moa_df.category == category]\n",
    "\n",
    "    number_unique_category_assertions = len(set(assertion_type_df.assertion_id))\n",
    "    moa_assertion_data[category][\"number_unique_category_assertions\"] = number_unique_category_assertions\n",
    "\n",
    "    fraction_category_assertion = f\"{number_unique_category_assertions} / {total_len_assertions}\"\n",
    "    moa_assertion_data[category][\"fraction_category_assertion\"] = fraction_category_assertion\n",
    "\n",
    "    percent_category_assertion = \"{:.2f}\".format(number_unique_category_assertions / total_len_assertions * 100) + \"%\"\n",
    "    moa_assertion_data[category][\"percent_category_assertion\"] = percent_category_assertion"
   ]
  },
  {
   "attachments": {},
   "cell_type": "markdown",
   "metadata": {},
   "source": [
    "### Summaries for all Features (Variants) and Assertions (Evidence Items)"
   ]
  },
  {
   "cell_type": "code",
   "execution_count": 19,
   "metadata": {},
   "outputs": [],
   "source": [
    "feature_category_impact_score = [v[\"total_sum_category_impact\"] for v in feature_categories_impact_data.values()]\n",
    "feature_category_number = [v[\"number_unique_category_features\"] for v in moa_feature_data.values()]\n",
    "feature_category_fraction = [v[\"fraction_category_feature\"] for v in moa_feature_data.values()]\n",
    "feature_category_percent = [v[\"percent_category_feature\"] for v in moa_feature_data.values()]\n",
    "feature_category_assertion_number = [v[\"number_unique_category_assertions\"] for v in moa_assertion_data.values()]\n",
    "feature_category_assertion_fraction = [v[\"fraction_category_assertion\"] for v in moa_assertion_data.values()]\n",
    "feature_category_assertion_percent = [v[\"percent_category_assertion\"] for v in moa_assertion_data.values()]"
   ]
  },
  {
   "cell_type": "code",
   "execution_count": 20,
   "metadata": {},
   "outputs": [],
   "source": [
    "feature_category_dict = {\n",
    "    \"Category\": VARIANT_CATEGORY_VALUES,\n",
    "    \"Number of Features\": feature_category_number,\n",
    "    \"Fraction of Features\": feature_category_fraction,\n",
    "    \"Percent of Features\": feature_category_percent,\n",
    "    \"Number of Assertions\": feature_category_assertion_number,\n",
    "    \"Fraction of Assertions\": feature_category_assertion_fraction,\n",
    "    \"Percent of Assertions\": feature_category_assertion_percent,\n",
    "    \"Impact Score\": feature_category_impact_score\n",
    "}"
   ]
  },
  {
   "cell_type": "code",
   "execution_count": 21,
   "metadata": {},
   "outputs": [
    {
     "data": {
      "text/html": [
       "<div>\n",
       "<style scoped>\n",
       "    .dataframe tbody tr th:only-of-type {\n",
       "        vertical-align: middle;\n",
       "    }\n",
       "\n",
       "    .dataframe tbody tr th {\n",
       "        vertical-align: top;\n",
       "    }\n",
       "\n",
       "    .dataframe thead th {\n",
       "        text-align: right;\n",
       "    }\n",
       "</style>\n",
       "<table border=\"1\" class=\"dataframe\">\n",
       "  <thead>\n",
       "    <tr style=\"text-align: right;\">\n",
       "      <th></th>\n",
       "      <th>Category</th>\n",
       "      <th>Number of Features</th>\n",
       "      <th>Fraction of Features</th>\n",
       "      <th>Percent of Features</th>\n",
       "      <th>Number of Assertions</th>\n",
       "      <th>Fraction of Assertions</th>\n",
       "      <th>Percent of Assertions</th>\n",
       "      <th>Impact Score</th>\n",
       "    </tr>\n",
       "  </thead>\n",
       "  <tbody>\n",
       "    <tr>\n",
       "      <th>0</th>\n",
       "      <td>Expression Variants</td>\n",
       "      <td>11</td>\n",
       "      <td>11 / 428</td>\n",
       "      <td>2.57%</td>\n",
       "      <td>12</td>\n",
       "      <td>12 / 894</td>\n",
       "      <td>1.34%</td>\n",
       "      <td>12</td>\n",
       "    </tr>\n",
       "    <tr>\n",
       "      <th>1</th>\n",
       "      <td>Epigenetic Modification</td>\n",
       "      <td>0</td>\n",
       "      <td>0 / 428</td>\n",
       "      <td>0.00%</td>\n",
       "      <td>0</td>\n",
       "      <td>0 / 894</td>\n",
       "      <td>0.00%</td>\n",
       "      <td>0</td>\n",
       "    </tr>\n",
       "    <tr>\n",
       "      <th>2</th>\n",
       "      <td>Fusion Variants</td>\n",
       "      <td>0</td>\n",
       "      <td>0 / 428</td>\n",
       "      <td>0.00%</td>\n",
       "      <td>0</td>\n",
       "      <td>0 / 894</td>\n",
       "      <td>0.00%</td>\n",
       "      <td>0</td>\n",
       "    </tr>\n",
       "    <tr>\n",
       "      <th>3</th>\n",
       "      <td>Sequence Variants</td>\n",
       "      <td>323</td>\n",
       "      <td>323 / 428</td>\n",
       "      <td>75.47%</td>\n",
       "      <td>676</td>\n",
       "      <td>676 / 894</td>\n",
       "      <td>75.62%</td>\n",
       "      <td>4199</td>\n",
       "    </tr>\n",
       "    <tr>\n",
       "      <th>4</th>\n",
       "      <td>Gene Function Variants</td>\n",
       "      <td>0</td>\n",
       "      <td>0 / 428</td>\n",
       "      <td>0.00%</td>\n",
       "      <td>0</td>\n",
       "      <td>0 / 894</td>\n",
       "      <td>0.00%</td>\n",
       "      <td>0</td>\n",
       "    </tr>\n",
       "    <tr>\n",
       "      <th>5</th>\n",
       "      <td>Rearrangement Variants</td>\n",
       "      <td>38</td>\n",
       "      <td>38 / 428</td>\n",
       "      <td>8.88%</td>\n",
       "      <td>81</td>\n",
       "      <td>81 / 894</td>\n",
       "      <td>9.06%</td>\n",
       "      <td>644</td>\n",
       "    </tr>\n",
       "    <tr>\n",
       "      <th>6</th>\n",
       "      <td>Copy Number Variants</td>\n",
       "      <td>47</td>\n",
       "      <td>47 / 428</td>\n",
       "      <td>10.98%</td>\n",
       "      <td>102</td>\n",
       "      <td>102 / 894</td>\n",
       "      <td>11.41%</td>\n",
       "      <td>415</td>\n",
       "    </tr>\n",
       "    <tr>\n",
       "      <th>7</th>\n",
       "      <td>Other Variants</td>\n",
       "      <td>9</td>\n",
       "      <td>9 / 428</td>\n",
       "      <td>2.10%</td>\n",
       "      <td>23</td>\n",
       "      <td>23 / 894</td>\n",
       "      <td>2.57%</td>\n",
       "      <td>62</td>\n",
       "    </tr>\n",
       "    <tr>\n",
       "      <th>8</th>\n",
       "      <td>Genotype Variants</td>\n",
       "      <td>0</td>\n",
       "      <td>0 / 428</td>\n",
       "      <td>0.00%</td>\n",
       "      <td>0</td>\n",
       "      <td>0 / 894</td>\n",
       "      <td>0.00%</td>\n",
       "      <td>0</td>\n",
       "    </tr>\n",
       "    <tr>\n",
       "      <th>9</th>\n",
       "      <td>Region Defined Variants</td>\n",
       "      <td>0</td>\n",
       "      <td>0 / 428</td>\n",
       "      <td>0.00%</td>\n",
       "      <td>0</td>\n",
       "      <td>0 / 894</td>\n",
       "      <td>0.00%</td>\n",
       "      <td>0</td>\n",
       "    </tr>\n",
       "    <tr>\n",
       "      <th>10</th>\n",
       "      <td>Transcript Variants</td>\n",
       "      <td>0</td>\n",
       "      <td>0 / 428</td>\n",
       "      <td>0.00%</td>\n",
       "      <td>0</td>\n",
       "      <td>0 / 894</td>\n",
       "      <td>0.00%</td>\n",
       "      <td>0</td>\n",
       "    </tr>\n",
       "  </tbody>\n",
       "</table>\n",
       "</div>"
      ],
      "text/plain": [
       "                   Category  Number of Features Fraction of Features  \\\n",
       "0       Expression Variants                  11             11 / 428   \n",
       "1   Epigenetic Modification                   0              0 / 428   \n",
       "2           Fusion Variants                   0              0 / 428   \n",
       "3         Sequence Variants                 323            323 / 428   \n",
       "4    Gene Function Variants                   0              0 / 428   \n",
       "5    Rearrangement Variants                  38             38 / 428   \n",
       "6      Copy Number Variants                  47             47 / 428   \n",
       "7            Other Variants                   9              9 / 428   \n",
       "8         Genotype Variants                   0              0 / 428   \n",
       "9   Region Defined Variants                   0              0 / 428   \n",
       "10      Transcript Variants                   0              0 / 428   \n",
       "\n",
       "   Percent of Features  Number of Assertions Fraction of Assertions  \\\n",
       "0                2.57%                    12               12 / 894   \n",
       "1                0.00%                     0                0 / 894   \n",
       "2                0.00%                     0                0 / 894   \n",
       "3               75.47%                   676              676 / 894   \n",
       "4                0.00%                     0                0 / 894   \n",
       "5                8.88%                    81               81 / 894   \n",
       "6               10.98%                   102              102 / 894   \n",
       "7                2.10%                    23               23 / 894   \n",
       "8                0.00%                     0                0 / 894   \n",
       "9                0.00%                     0                0 / 894   \n",
       "10               0.00%                     0                0 / 894   \n",
       "\n",
       "   Percent of Assertions  Impact Score  \n",
       "0                  1.34%            12  \n",
       "1                  0.00%             0  \n",
       "2                  0.00%             0  \n",
       "3                 75.62%          4199  \n",
       "4                  0.00%             0  \n",
       "5                  9.06%           644  \n",
       "6                 11.41%           415  \n",
       "7                  2.57%            62  \n",
       "8                  0.00%             0  \n",
       "9                  0.00%             0  \n",
       "10                 0.00%             0  "
      ]
     },
     "execution_count": 21,
     "metadata": {},
     "output_type": "execute_result"
    }
   ],
   "source": [
    "moa_feature_df = pd.DataFrame(feature_category_dict)\n",
    "moa_feature_df"
   ]
  },
  {
   "cell_type": "code",
   "execution_count": 22,
   "metadata": {},
   "outputs": [],
   "source": [
    "moa_feature_df[\"Percent of Features\"] = moa_feature_df[\"Fraction of Features\"].astype(str) + \" (\" + moa_feature_df[\"Percent of Features\"] + \")\"\n",
    "moa_feature_df[\"Percent of Assertions\"] = moa_feature_df[\"Fraction of Assertions\"].astype(str) + \" (\" + moa_feature_df[\"Percent of Assertions\"] + \")\""
   ]
  },
  {
   "cell_type": "code",
   "execution_count": 23,
   "metadata": {},
   "outputs": [],
   "source": [
    "moa_feature_df_abbreviated = moa_feature_df.drop([\"Number of Features\", \"Fraction of Features\", \"Number of Assertions\", \"Fraction of Assertions\"], axis=1)"
   ]
  },
  {
   "cell_type": "code",
   "execution_count": 24,
   "metadata": {},
   "outputs": [
    {
     "data": {
      "text/html": [
       "<div>\n",
       "<style scoped>\n",
       "    .dataframe tbody tr th:only-of-type {\n",
       "        vertical-align: middle;\n",
       "    }\n",
       "\n",
       "    .dataframe tbody tr th {\n",
       "        vertical-align: top;\n",
       "    }\n",
       "\n",
       "    .dataframe thead th {\n",
       "        text-align: right;\n",
       "    }\n",
       "</style>\n",
       "<table border=\"1\" class=\"dataframe\">\n",
       "  <thead>\n",
       "    <tr style=\"text-align: right;\">\n",
       "      <th></th>\n",
       "      <th>Percent of Features</th>\n",
       "      <th>Percent of Assertions</th>\n",
       "      <th>Impact Score</th>\n",
       "    </tr>\n",
       "    <tr>\n",
       "      <th>Category</th>\n",
       "      <th></th>\n",
       "      <th></th>\n",
       "      <th></th>\n",
       "    </tr>\n",
       "  </thead>\n",
       "  <tbody>\n",
       "    <tr>\n",
       "      <th>Expression Variants</th>\n",
       "      <td>11 / 428 (2.57%)</td>\n",
       "      <td>12 / 894 (1.34%)</td>\n",
       "      <td>12</td>\n",
       "    </tr>\n",
       "    <tr>\n",
       "      <th>Epigenetic Modification</th>\n",
       "      <td>0 / 428 (0.00%)</td>\n",
       "      <td>0 / 894 (0.00%)</td>\n",
       "      <td>0</td>\n",
       "    </tr>\n",
       "    <tr>\n",
       "      <th>Fusion Variants</th>\n",
       "      <td>0 / 428 (0.00%)</td>\n",
       "      <td>0 / 894 (0.00%)</td>\n",
       "      <td>0</td>\n",
       "    </tr>\n",
       "    <tr>\n",
       "      <th>Sequence Variants</th>\n",
       "      <td>323 / 428 (75.47%)</td>\n",
       "      <td>676 / 894 (75.62%)</td>\n",
       "      <td>4199</td>\n",
       "    </tr>\n",
       "    <tr>\n",
       "      <th>Gene Function Variants</th>\n",
       "      <td>0 / 428 (0.00%)</td>\n",
       "      <td>0 / 894 (0.00%)</td>\n",
       "      <td>0</td>\n",
       "    </tr>\n",
       "    <tr>\n",
       "      <th>Rearrangement Variants</th>\n",
       "      <td>38 / 428 (8.88%)</td>\n",
       "      <td>81 / 894 (9.06%)</td>\n",
       "      <td>644</td>\n",
       "    </tr>\n",
       "    <tr>\n",
       "      <th>Copy Number Variants</th>\n",
       "      <td>47 / 428 (10.98%)</td>\n",
       "      <td>102 / 894 (11.41%)</td>\n",
       "      <td>415</td>\n",
       "    </tr>\n",
       "    <tr>\n",
       "      <th>Other Variants</th>\n",
       "      <td>9 / 428 (2.10%)</td>\n",
       "      <td>23 / 894 (2.57%)</td>\n",
       "      <td>62</td>\n",
       "    </tr>\n",
       "    <tr>\n",
       "      <th>Genotype Variants</th>\n",
       "      <td>0 / 428 (0.00%)</td>\n",
       "      <td>0 / 894 (0.00%)</td>\n",
       "      <td>0</td>\n",
       "    </tr>\n",
       "    <tr>\n",
       "      <th>Region Defined Variants</th>\n",
       "      <td>0 / 428 (0.00%)</td>\n",
       "      <td>0 / 894 (0.00%)</td>\n",
       "      <td>0</td>\n",
       "    </tr>\n",
       "    <tr>\n",
       "      <th>Transcript Variants</th>\n",
       "      <td>0 / 428 (0.00%)</td>\n",
       "      <td>0 / 894 (0.00%)</td>\n",
       "      <td>0</td>\n",
       "    </tr>\n",
       "  </tbody>\n",
       "</table>\n",
       "</div>"
      ],
      "text/plain": [
       "                        Percent of Features Percent of Assertions  \\\n",
       "Category                                                            \n",
       "Expression Variants        11 / 428 (2.57%)      12 / 894 (1.34%)   \n",
       "Epigenetic Modification     0 / 428 (0.00%)       0 / 894 (0.00%)   \n",
       "Fusion Variants             0 / 428 (0.00%)       0 / 894 (0.00%)   \n",
       "Sequence Variants        323 / 428 (75.47%)    676 / 894 (75.62%)   \n",
       "Gene Function Variants      0 / 428 (0.00%)       0 / 894 (0.00%)   \n",
       "Rearrangement Variants     38 / 428 (8.88%)      81 / 894 (9.06%)   \n",
       "Copy Number Variants      47 / 428 (10.98%)    102 / 894 (11.41%)   \n",
       "Other Variants              9 / 428 (2.10%)      23 / 894 (2.57%)   \n",
       "Genotype Variants           0 / 428 (0.00%)       0 / 894 (0.00%)   \n",
       "Region Defined Variants     0 / 428 (0.00%)       0 / 894 (0.00%)   \n",
       "Transcript Variants         0 / 428 (0.00%)       0 / 894 (0.00%)   \n",
       "\n",
       "                         Impact Score  \n",
       "Category                               \n",
       "Expression Variants                12  \n",
       "Epigenetic Modification             0  \n",
       "Fusion Variants                     0  \n",
       "Sequence Variants                4199  \n",
       "Gene Function Variants              0  \n",
       "Rearrangement Variants            644  \n",
       "Copy Number Variants              415  \n",
       "Other Variants                     62  \n",
       "Genotype Variants                   0  \n",
       "Region Defined Variants             0  \n",
       "Transcript Variants                 0  "
      ]
     },
     "execution_count": 24,
     "metadata": {},
     "output_type": "execute_result"
    }
   ],
   "source": [
    "moa_feature_df_abbreviated = moa_feature_df_abbreviated.set_index(\"Category\")\n",
    "moa_feature_df_abbreviated"
   ]
  },
  {
   "cell_type": "code",
   "execution_count": 25,
   "metadata": {},
   "outputs": [
    {
     "data": {
      "application/vnd.plotly.v1+json": {
       "config": {
        "plotlyServerURL": "https://plot.ly"
       },
       "data": [
        {
         "hovertemplate": "Category=Expression Variants<br>Number of Assertions=%{x}<br>Impact Score=%{y}<br>Number of Features=%{text}<extra></extra>",
         "legendgroup": "Expression Variants",
         "marker": {
          "color": "#636efa",
          "size": [
           11
          ],
          "sizemode": "area",
          "sizeref": 0.201875,
          "symbol": "circle"
         },
         "mode": "markers+text",
         "name": "Expression Variants",
         "orientation": "v",
         "showlegend": true,
         "text": [
          11
         ],
         "type": "scatter",
         "x": [
          12
         ],
         "xaxis": "x",
         "y": [
          12
         ],
         "yaxis": "y"
        },
        {
         "hovertemplate": "Category=Epigenetic Modification<br>Number of Assertions=%{x}<br>Impact Score=%{y}<br>Number of Features=%{text}<extra></extra>",
         "legendgroup": "Epigenetic Modification",
         "marker": {
          "color": "#EF553B",
          "size": [
           0
          ],
          "sizemode": "area",
          "sizeref": 0.201875,
          "symbol": "circle"
         },
         "mode": "markers+text",
         "name": "Epigenetic Modification",
         "orientation": "v",
         "showlegend": true,
         "text": [
          0
         ],
         "type": "scatter",
         "x": [
          0
         ],
         "xaxis": "x",
         "y": [
          0
         ],
         "yaxis": "y"
        },
        {
         "hovertemplate": "Category=Fusion Variants<br>Number of Assertions=%{x}<br>Impact Score=%{y}<br>Number of Features=%{text}<extra></extra>",
         "legendgroup": "Fusion Variants",
         "marker": {
          "color": "#00cc96",
          "size": [
           0
          ],
          "sizemode": "area",
          "sizeref": 0.201875,
          "symbol": "circle"
         },
         "mode": "markers+text",
         "name": "Fusion Variants",
         "orientation": "v",
         "showlegend": true,
         "text": [
          0
         ],
         "type": "scatter",
         "x": [
          0
         ],
         "xaxis": "x",
         "y": [
          0
         ],
         "yaxis": "y"
        },
        {
         "hovertemplate": "Category=Sequence Variants<br>Number of Assertions=%{x}<br>Impact Score=%{y}<br>Number of Features=%{text}<extra></extra>",
         "legendgroup": "Sequence Variants",
         "marker": {
          "color": "#ab63fa",
          "size": [
           323
          ],
          "sizemode": "area",
          "sizeref": 0.201875,
          "symbol": "circle"
         },
         "mode": "markers+text",
         "name": "Sequence Variants",
         "orientation": "v",
         "showlegend": true,
         "text": [
          323
         ],
         "type": "scatter",
         "x": [
          676
         ],
         "xaxis": "x",
         "y": [
          4199
         ],
         "yaxis": "y"
        },
        {
         "hovertemplate": "Category=Gene Function Variants<br>Number of Assertions=%{x}<br>Impact Score=%{y}<br>Number of Features=%{text}<extra></extra>",
         "legendgroup": "Gene Function Variants",
         "marker": {
          "color": "#FFA15A",
          "size": [
           0
          ],
          "sizemode": "area",
          "sizeref": 0.201875,
          "symbol": "circle"
         },
         "mode": "markers+text",
         "name": "Gene Function Variants",
         "orientation": "v",
         "showlegend": true,
         "text": [
          0
         ],
         "type": "scatter",
         "x": [
          0
         ],
         "xaxis": "x",
         "y": [
          0
         ],
         "yaxis": "y"
        },
        {
         "hovertemplate": "Category=Rearrangement Variants<br>Number of Assertions=%{x}<br>Impact Score=%{y}<br>Number of Features=%{text}<extra></extra>",
         "legendgroup": "Rearrangement Variants",
         "marker": {
          "color": "#19d3f3",
          "size": [
           38
          ],
          "sizemode": "area",
          "sizeref": 0.201875,
          "symbol": "circle"
         },
         "mode": "markers+text",
         "name": "Rearrangement Variants",
         "orientation": "v",
         "showlegend": true,
         "text": [
          38
         ],
         "type": "scatter",
         "x": [
          81
         ],
         "xaxis": "x",
         "y": [
          644
         ],
         "yaxis": "y"
        },
        {
         "hovertemplate": "Category=Copy Number Variants<br>Number of Assertions=%{x}<br>Impact Score=%{y}<br>Number of Features=%{text}<extra></extra>",
         "legendgroup": "Copy Number Variants",
         "marker": {
          "color": "#FF6692",
          "size": [
           47
          ],
          "sizemode": "area",
          "sizeref": 0.201875,
          "symbol": "circle"
         },
         "mode": "markers+text",
         "name": "Copy Number Variants",
         "orientation": "v",
         "showlegend": true,
         "text": [
          47
         ],
         "type": "scatter",
         "x": [
          102
         ],
         "xaxis": "x",
         "y": [
          415
         ],
         "yaxis": "y"
        },
        {
         "hovertemplate": "Category=Other Variants<br>Number of Assertions=%{x}<br>Impact Score=%{y}<br>Number of Features=%{text}<extra></extra>",
         "legendgroup": "Other Variants",
         "marker": {
          "color": "#B6E880",
          "size": [
           9
          ],
          "sizemode": "area",
          "sizeref": 0.201875,
          "symbol": "circle"
         },
         "mode": "markers+text",
         "name": "Other Variants",
         "orientation": "v",
         "showlegend": true,
         "text": [
          9
         ],
         "type": "scatter",
         "x": [
          23
         ],
         "xaxis": "x",
         "y": [
          62
         ],
         "yaxis": "y"
        },
        {
         "hovertemplate": "Category=Genotype Variants<br>Number of Assertions=%{x}<br>Impact Score=%{y}<br>Number of Features=%{text}<extra></extra>",
         "legendgroup": "Genotype Variants",
         "marker": {
          "color": "#FF97FF",
          "size": [
           0
          ],
          "sizemode": "area",
          "sizeref": 0.201875,
          "symbol": "circle"
         },
         "mode": "markers+text",
         "name": "Genotype Variants",
         "orientation": "v",
         "showlegend": true,
         "text": [
          0
         ],
         "type": "scatter",
         "x": [
          0
         ],
         "xaxis": "x",
         "y": [
          0
         ],
         "yaxis": "y"
        },
        {
         "hovertemplate": "Category=Region Defined Variants<br>Number of Assertions=%{x}<br>Impact Score=%{y}<br>Number of Features=%{text}<extra></extra>",
         "legendgroup": "Region Defined Variants",
         "marker": {
          "color": "#FECB52",
          "size": [
           0
          ],
          "sizemode": "area",
          "sizeref": 0.201875,
          "symbol": "circle"
         },
         "mode": "markers+text",
         "name": "Region Defined Variants",
         "orientation": "v",
         "showlegend": true,
         "text": [
          0
         ],
         "type": "scatter",
         "x": [
          0
         ],
         "xaxis": "x",
         "y": [
          0
         ],
         "yaxis": "y"
        },
        {
         "hovertemplate": "Category=Transcript Variants<br>Number of Assertions=%{x}<br>Impact Score=%{y}<br>Number of Features=%{text}<extra></extra>",
         "legendgroup": "Transcript Variants",
         "marker": {
          "color": "#636efa",
          "size": [
           0
          ],
          "sizemode": "area",
          "sizeref": 0.201875,
          "symbol": "circle"
         },
         "mode": "markers+text",
         "name": "Transcript Variants",
         "orientation": "v",
         "showlegend": true,
         "text": [
          0
         ],
         "type": "scatter",
         "x": [
          0
         ],
         "xaxis": "x",
         "y": [
          0
         ],
         "yaxis": "y"
        }
       ],
       "layout": {
        "legend": {
         "itemsizing": "constant",
         "title": {
          "text": "Category"
         },
         "tracegroupgap": 0
        },
        "margin": {
         "t": 60
        },
        "template": {
         "data": {
          "bar": [
           {
            "error_x": {
             "color": "#2a3f5f"
            },
            "error_y": {
             "color": "#2a3f5f"
            },
            "marker": {
             "line": {
              "color": "#E5ECF6",
              "width": 0.5
             },
             "pattern": {
              "fillmode": "overlay",
              "size": 10,
              "solidity": 0.2
             }
            },
            "type": "bar"
           }
          ],
          "barpolar": [
           {
            "marker": {
             "line": {
              "color": "#E5ECF6",
              "width": 0.5
             },
             "pattern": {
              "fillmode": "overlay",
              "size": 10,
              "solidity": 0.2
             }
            },
            "type": "barpolar"
           }
          ],
          "carpet": [
           {
            "aaxis": {
             "endlinecolor": "#2a3f5f",
             "gridcolor": "white",
             "linecolor": "white",
             "minorgridcolor": "white",
             "startlinecolor": "#2a3f5f"
            },
            "baxis": {
             "endlinecolor": "#2a3f5f",
             "gridcolor": "white",
             "linecolor": "white",
             "minorgridcolor": "white",
             "startlinecolor": "#2a3f5f"
            },
            "type": "carpet"
           }
          ],
          "choropleth": [
           {
            "colorbar": {
             "outlinewidth": 0,
             "ticks": ""
            },
            "type": "choropleth"
           }
          ],
          "contour": [
           {
            "colorbar": {
             "outlinewidth": 0,
             "ticks": ""
            },
            "colorscale": [
             [
              0,
              "#0d0887"
             ],
             [
              0.1111111111111111,
              "#46039f"
             ],
             [
              0.2222222222222222,
              "#7201a8"
             ],
             [
              0.3333333333333333,
              "#9c179e"
             ],
             [
              0.4444444444444444,
              "#bd3786"
             ],
             [
              0.5555555555555556,
              "#d8576b"
             ],
             [
              0.6666666666666666,
              "#ed7953"
             ],
             [
              0.7777777777777778,
              "#fb9f3a"
             ],
             [
              0.8888888888888888,
              "#fdca26"
             ],
             [
              1,
              "#f0f921"
             ]
            ],
            "type": "contour"
           }
          ],
          "contourcarpet": [
           {
            "colorbar": {
             "outlinewidth": 0,
             "ticks": ""
            },
            "type": "contourcarpet"
           }
          ],
          "heatmap": [
           {
            "colorbar": {
             "outlinewidth": 0,
             "ticks": ""
            },
            "colorscale": [
             [
              0,
              "#0d0887"
             ],
             [
              0.1111111111111111,
              "#46039f"
             ],
             [
              0.2222222222222222,
              "#7201a8"
             ],
             [
              0.3333333333333333,
              "#9c179e"
             ],
             [
              0.4444444444444444,
              "#bd3786"
             ],
             [
              0.5555555555555556,
              "#d8576b"
             ],
             [
              0.6666666666666666,
              "#ed7953"
             ],
             [
              0.7777777777777778,
              "#fb9f3a"
             ],
             [
              0.8888888888888888,
              "#fdca26"
             ],
             [
              1,
              "#f0f921"
             ]
            ],
            "type": "heatmap"
           }
          ],
          "heatmapgl": [
           {
            "colorbar": {
             "outlinewidth": 0,
             "ticks": ""
            },
            "colorscale": [
             [
              0,
              "#0d0887"
             ],
             [
              0.1111111111111111,
              "#46039f"
             ],
             [
              0.2222222222222222,
              "#7201a8"
             ],
             [
              0.3333333333333333,
              "#9c179e"
             ],
             [
              0.4444444444444444,
              "#bd3786"
             ],
             [
              0.5555555555555556,
              "#d8576b"
             ],
             [
              0.6666666666666666,
              "#ed7953"
             ],
             [
              0.7777777777777778,
              "#fb9f3a"
             ],
             [
              0.8888888888888888,
              "#fdca26"
             ],
             [
              1,
              "#f0f921"
             ]
            ],
            "type": "heatmapgl"
           }
          ],
          "histogram": [
           {
            "marker": {
             "pattern": {
              "fillmode": "overlay",
              "size": 10,
              "solidity": 0.2
             }
            },
            "type": "histogram"
           }
          ],
          "histogram2d": [
           {
            "colorbar": {
             "outlinewidth": 0,
             "ticks": ""
            },
            "colorscale": [
             [
              0,
              "#0d0887"
             ],
             [
              0.1111111111111111,
              "#46039f"
             ],
             [
              0.2222222222222222,
              "#7201a8"
             ],
             [
              0.3333333333333333,
              "#9c179e"
             ],
             [
              0.4444444444444444,
              "#bd3786"
             ],
             [
              0.5555555555555556,
              "#d8576b"
             ],
             [
              0.6666666666666666,
              "#ed7953"
             ],
             [
              0.7777777777777778,
              "#fb9f3a"
             ],
             [
              0.8888888888888888,
              "#fdca26"
             ],
             [
              1,
              "#f0f921"
             ]
            ],
            "type": "histogram2d"
           }
          ],
          "histogram2dcontour": [
           {
            "colorbar": {
             "outlinewidth": 0,
             "ticks": ""
            },
            "colorscale": [
             [
              0,
              "#0d0887"
             ],
             [
              0.1111111111111111,
              "#46039f"
             ],
             [
              0.2222222222222222,
              "#7201a8"
             ],
             [
              0.3333333333333333,
              "#9c179e"
             ],
             [
              0.4444444444444444,
              "#bd3786"
             ],
             [
              0.5555555555555556,
              "#d8576b"
             ],
             [
              0.6666666666666666,
              "#ed7953"
             ],
             [
              0.7777777777777778,
              "#fb9f3a"
             ],
             [
              0.8888888888888888,
              "#fdca26"
             ],
             [
              1,
              "#f0f921"
             ]
            ],
            "type": "histogram2dcontour"
           }
          ],
          "mesh3d": [
           {
            "colorbar": {
             "outlinewidth": 0,
             "ticks": ""
            },
            "type": "mesh3d"
           }
          ],
          "parcoords": [
           {
            "line": {
             "colorbar": {
              "outlinewidth": 0,
              "ticks": ""
             }
            },
            "type": "parcoords"
           }
          ],
          "pie": [
           {
            "automargin": true,
            "type": "pie"
           }
          ],
          "scatter": [
           {
            "fillpattern": {
             "fillmode": "overlay",
             "size": 10,
             "solidity": 0.2
            },
            "type": "scatter"
           }
          ],
          "scatter3d": [
           {
            "line": {
             "colorbar": {
              "outlinewidth": 0,
              "ticks": ""
             }
            },
            "marker": {
             "colorbar": {
              "outlinewidth": 0,
              "ticks": ""
             }
            },
            "type": "scatter3d"
           }
          ],
          "scattercarpet": [
           {
            "marker": {
             "colorbar": {
              "outlinewidth": 0,
              "ticks": ""
             }
            },
            "type": "scattercarpet"
           }
          ],
          "scattergeo": [
           {
            "marker": {
             "colorbar": {
              "outlinewidth": 0,
              "ticks": ""
             }
            },
            "type": "scattergeo"
           }
          ],
          "scattergl": [
           {
            "marker": {
             "colorbar": {
              "outlinewidth": 0,
              "ticks": ""
             }
            },
            "type": "scattergl"
           }
          ],
          "scattermapbox": [
           {
            "marker": {
             "colorbar": {
              "outlinewidth": 0,
              "ticks": ""
             }
            },
            "type": "scattermapbox"
           }
          ],
          "scatterpolar": [
           {
            "marker": {
             "colorbar": {
              "outlinewidth": 0,
              "ticks": ""
             }
            },
            "type": "scatterpolar"
           }
          ],
          "scatterpolargl": [
           {
            "marker": {
             "colorbar": {
              "outlinewidth": 0,
              "ticks": ""
             }
            },
            "type": "scatterpolargl"
           }
          ],
          "scatterternary": [
           {
            "marker": {
             "colorbar": {
              "outlinewidth": 0,
              "ticks": ""
             }
            },
            "type": "scatterternary"
           }
          ],
          "surface": [
           {
            "colorbar": {
             "outlinewidth": 0,
             "ticks": ""
            },
            "colorscale": [
             [
              0,
              "#0d0887"
             ],
             [
              0.1111111111111111,
              "#46039f"
             ],
             [
              0.2222222222222222,
              "#7201a8"
             ],
             [
              0.3333333333333333,
              "#9c179e"
             ],
             [
              0.4444444444444444,
              "#bd3786"
             ],
             [
              0.5555555555555556,
              "#d8576b"
             ],
             [
              0.6666666666666666,
              "#ed7953"
             ],
             [
              0.7777777777777778,
              "#fb9f3a"
             ],
             [
              0.8888888888888888,
              "#fdca26"
             ],
             [
              1,
              "#f0f921"
             ]
            ],
            "type": "surface"
           }
          ],
          "table": [
           {
            "cells": {
             "fill": {
              "color": "#EBF0F8"
             },
             "line": {
              "color": "white"
             }
            },
            "header": {
             "fill": {
              "color": "#C8D4E3"
             },
             "line": {
              "color": "white"
             }
            },
            "type": "table"
           }
          ]
         },
         "layout": {
          "annotationdefaults": {
           "arrowcolor": "#2a3f5f",
           "arrowhead": 0,
           "arrowwidth": 1
          },
          "autotypenumbers": "strict",
          "coloraxis": {
           "colorbar": {
            "outlinewidth": 0,
            "ticks": ""
           }
          },
          "colorscale": {
           "diverging": [
            [
             0,
             "#8e0152"
            ],
            [
             0.1,
             "#c51b7d"
            ],
            [
             0.2,
             "#de77ae"
            ],
            [
             0.3,
             "#f1b6da"
            ],
            [
             0.4,
             "#fde0ef"
            ],
            [
             0.5,
             "#f7f7f7"
            ],
            [
             0.6,
             "#e6f5d0"
            ],
            [
             0.7,
             "#b8e186"
            ],
            [
             0.8,
             "#7fbc41"
            ],
            [
             0.9,
             "#4d9221"
            ],
            [
             1,
             "#276419"
            ]
           ],
           "sequential": [
            [
             0,
             "#0d0887"
            ],
            [
             0.1111111111111111,
             "#46039f"
            ],
            [
             0.2222222222222222,
             "#7201a8"
            ],
            [
             0.3333333333333333,
             "#9c179e"
            ],
            [
             0.4444444444444444,
             "#bd3786"
            ],
            [
             0.5555555555555556,
             "#d8576b"
            ],
            [
             0.6666666666666666,
             "#ed7953"
            ],
            [
             0.7777777777777778,
             "#fb9f3a"
            ],
            [
             0.8888888888888888,
             "#fdca26"
            ],
            [
             1,
             "#f0f921"
            ]
           ],
           "sequentialminus": [
            [
             0,
             "#0d0887"
            ],
            [
             0.1111111111111111,
             "#46039f"
            ],
            [
             0.2222222222222222,
             "#7201a8"
            ],
            [
             0.3333333333333333,
             "#9c179e"
            ],
            [
             0.4444444444444444,
             "#bd3786"
            ],
            [
             0.5555555555555556,
             "#d8576b"
            ],
            [
             0.6666666666666666,
             "#ed7953"
            ],
            [
             0.7777777777777778,
             "#fb9f3a"
            ],
            [
             0.8888888888888888,
             "#fdca26"
            ],
            [
             1,
             "#f0f921"
            ]
           ]
          },
          "colorway": [
           "#636efa",
           "#EF553B",
           "#00cc96",
           "#ab63fa",
           "#FFA15A",
           "#19d3f3",
           "#FF6692",
           "#B6E880",
           "#FF97FF",
           "#FECB52"
          ],
          "font": {
           "color": "#2a3f5f"
          },
          "geo": {
           "bgcolor": "white",
           "lakecolor": "white",
           "landcolor": "#E5ECF6",
           "showlakes": true,
           "showland": true,
           "subunitcolor": "white"
          },
          "hoverlabel": {
           "align": "left"
          },
          "hovermode": "closest",
          "mapbox": {
           "style": "light"
          },
          "paper_bgcolor": "white",
          "plot_bgcolor": "#E5ECF6",
          "polar": {
           "angularaxis": {
            "gridcolor": "white",
            "linecolor": "white",
            "ticks": ""
           },
           "bgcolor": "#E5ECF6",
           "radialaxis": {
            "gridcolor": "white",
            "linecolor": "white",
            "ticks": ""
           }
          },
          "scene": {
           "xaxis": {
            "backgroundcolor": "#E5ECF6",
            "gridcolor": "white",
            "gridwidth": 2,
            "linecolor": "white",
            "showbackground": true,
            "ticks": "",
            "zerolinecolor": "white"
           },
           "yaxis": {
            "backgroundcolor": "#E5ECF6",
            "gridcolor": "white",
            "gridwidth": 2,
            "linecolor": "white",
            "showbackground": true,
            "ticks": "",
            "zerolinecolor": "white"
           },
           "zaxis": {
            "backgroundcolor": "#E5ECF6",
            "gridcolor": "white",
            "gridwidth": 2,
            "linecolor": "white",
            "showbackground": true,
            "ticks": "",
            "zerolinecolor": "white"
           }
          },
          "shapedefaults": {
           "line": {
            "color": "#2a3f5f"
           }
          },
          "ternary": {
           "aaxis": {
            "gridcolor": "white",
            "linecolor": "white",
            "ticks": ""
           },
           "baxis": {
            "gridcolor": "white",
            "linecolor": "white",
            "ticks": ""
           },
           "bgcolor": "#E5ECF6",
           "caxis": {
            "gridcolor": "white",
            "linecolor": "white",
            "ticks": ""
           }
          },
          "title": {
           "x": 0.05
          },
          "xaxis": {
           "automargin": true,
           "gridcolor": "white",
           "linecolor": "white",
           "ticks": "",
           "title": {
            "standoff": 15
           },
           "zerolinecolor": "white",
           "zerolinewidth": 2
          },
          "yaxis": {
           "automargin": true,
           "gridcolor": "white",
           "linecolor": "white",
           "ticks": "",
           "title": {
            "standoff": 15
           },
           "zerolinecolor": "white",
           "zerolinewidth": 2
          }
         }
        },
        "xaxis": {
         "anchor": "y",
         "domain": [
          0,
          1
         ],
         "title": {
          "text": "Number of Assertions"
         }
        },
        "yaxis": {
         "anchor": "x",
         "domain": [
          0,
          1
         ],
         "title": {
          "text": "Impact Score"
         }
        }
       }
      }
     },
     "metadata": {},
     "output_type": "display_data"
    }
   ],
   "source": [
    "fig = px.scatter(\n",
    "    data_frame=moa_feature_df,\n",
    "    x=\"Number of Assertions\",\n",
    "    y=\"Impact Score\",\n",
    "    size=\"Number of Features\",\n",
    "    size_max=40,\n",
    "    text=\"Number of Features\",\n",
    "    color=\"Category\"\n",
    ")\n",
    "fig.show()"
   ]
  },
  {
   "cell_type": "code",
   "execution_count": 26,
   "metadata": {},
   "outputs": [],
   "source": [
    "fig.write_html(\"moa_feature_categories_impact_scatterplot.html\")"
   ]
  },
  {
   "attachments": {},
   "cell_type": "markdown",
   "metadata": {},
   "source": [
    "## Create functions / global variables used in analysis"
   ]
  },
  {
   "cell_type": "code",
   "execution_count": 27,
   "metadata": {},
   "outputs": [
    {
     "data": {
      "text/plain": [
       "{'Variant Category': ['Normalized', 'Not Supported'],\n",
       " 'Fraction of all MOA Features': [],\n",
       " 'Percentage of all MOA Features': []}"
      ]
     },
     "execution_count": 27,
     "metadata": {},
     "output_type": "execute_result"
    }
   ],
   "source": [
    "feature_analysis_summary = {\n",
    "    \"Variant Category\": VARIANT_NORM_TYPE_VALUES,\n",
    "    \"Fraction of all MOA Features\": [],\n",
    "    \"Percentage of all MOA Features\": []\n",
    "}\n",
    "feature_analysis_summary"
   ]
  },
  {
   "cell_type": "code",
   "execution_count": 28,
   "metadata": {},
   "outputs": [],
   "source": [
    "def feature_analysis(df: pd.DataFrame, variant_norm_type: VariantNormType) -> pd.DataFrame:\n",
    "    \"\"\"Do feature analysis (counts, percentages). Updates `feature_analysis_summary`\n",
    "\n",
    "    :param df: Dataframe of variants\n",
    "    :param variant_norm_type: The kind of features that are in `df`\n",
    "    :return: Transformed dataframe with variant ID duplicates dropped\n",
    "    \"\"\"\n",
    "    # Drop duplicate rows\n",
    "    df = df.drop_duplicates(subset=[\"feature_id\"])\n",
    "    feature_ids = list(df[\"feature_id\"])\n",
    "\n",
    "    # Count\n",
    "    num_features = len(feature_ids)\n",
    "    fraction_features = f\"{num_features} / {total_len_features}\"\n",
    "    print(f\"\\nNumber of {variant_norm_type.value} Features in MOA: {fraction_features}\")\n",
    "\n",
    "    # Percentage\n",
    "    percentage_features = f\"{num_features / total_len_features * 100:.2f}%\"\n",
    "    print(f\"Percentage of {variant_norm_type.value} Features in MOA: {percentage_features}\")\n",
    "\n",
    "\n",
    "    feature_analysis_summary[\"Fraction of all MOA Features\"].append(fraction_features)\n",
    "    feature_analysis_summary[\"Percentage of all MOA Features\"].append(percentage_features)\n",
    "\n",
    "    return df"
   ]
  },
  {
   "cell_type": "code",
   "execution_count": 29,
   "metadata": {},
   "outputs": [
    {
     "data": {
      "text/plain": [
       "{'Variant Category': ['Normalized', 'Not Supported'],\n",
       " 'Fraction of all MOA Assertions': [],\n",
       " 'Percentage of all MOA Assertions': []}"
      ]
     },
     "execution_count": 29,
     "metadata": {},
     "output_type": "execute_result"
    }
   ],
   "source": [
    "assertion_analysis_summary = {\n",
    "    \"Variant Category\": VARIANT_NORM_TYPE_VALUES,\n",
    "    \"Fraction of all MOA Assertions\": [],\n",
    "    \"Percentage of all MOA Assertions\": []\n",
    "}\n",
    "assertion_analysis_summary"
   ]
  },
  {
   "cell_type": "code",
   "execution_count": 30,
   "metadata": {},
   "outputs": [],
   "source": [
    "def assertion_analysis(all_df: pd.DataFrame, variant_norm_df: pd.DataFrame, variant_norm_type: VariantNormType):\n",
    "    \"\"\"Do evidence analysis (counts, percentages). Updates `assertion_analysis_summary`\n",
    "\n",
    "    :param all_df: Dataframe for all assertions and features\n",
    "    :param variant_norm_df: Dataframe for features given certain `variant_norm_type`\n",
    "    :param variant_norm_type: The kind of variants that are in `df`\n",
    "    \"\"\"\n",
    "    # Need to do this bc of duplicate features\n",
    "    _feature_ids = set(variant_norm_df.feature_digest)\n",
    "    tmp_df = all_df[all_df[\"feature_digest\"].isin(_feature_ids)]\n",
    "    \n",
    "    # Count\n",
    "    num_assertions = len(tmp_df.assertion_id)\n",
    "    fraction_assertions = f\"{num_assertions} / {total_len_assertions}\"\n",
    "    print(f\"Number of {variant_norm_type.value} Feature Assertions in MOA: {fraction_assertions}\")\n",
    "\n",
    "    # Percentage\n",
    "    percentage_assertions = f\"{num_assertions / total_len_assertions * 100:.2f}%\"\n",
    "    print(f\"Percentage of {variant_norm_type.value} Feature Assertions in MOA: {percentage_assertions}\")\n",
    "\n",
    "    assertion_analysis_summary[\"Fraction of all MOA Assertions\"].append(fraction_assertions)\n",
    "    assertion_analysis_summary[\"Percentage of all MOA Assertions\"].append(percentage_assertions)"
   ]
  },
  {
   "cell_type": "code",
   "execution_count": 31,
   "metadata": {},
   "outputs": [
    {
     "data": {
      "text/html": [
       "<div>\n",
       "<style scoped>\n",
       "    .dataframe tbody tr th:only-of-type {\n",
       "        vertical-align: middle;\n",
       "    }\n",
       "\n",
       "    .dataframe tbody tr th {\n",
       "        vertical-align: top;\n",
       "    }\n",
       "\n",
       "    .dataframe thead th {\n",
       "        text-align: right;\n",
       "    }\n",
       "</style>\n",
       "<table border=\"1\" class=\"dataframe\">\n",
       "  <thead>\n",
       "    <tr style=\"text-align: right;\">\n",
       "      <th></th>\n",
       "      <th>feature_id</th>\n",
       "      <th>feature_digest</th>\n",
       "    </tr>\n",
       "  </thead>\n",
       "  <tbody>\n",
       "    <tr>\n",
       "      <th>0</th>\n",
       "      <td>1</td>\n",
       "      <td>qd-wbn94ZLfPXYoS5Mdv0IGpN163Z6pr</td>\n",
       "    </tr>\n",
       "    <tr>\n",
       "      <th>1</th>\n",
       "      <td>2</td>\n",
       "      <td>qd-wbn94ZLfPXYoS5Mdv0IGpN163Z6pr</td>\n",
       "    </tr>\n",
       "    <tr>\n",
       "      <th>2</th>\n",
       "      <td>3</td>\n",
       "      <td>qd-wbn94ZLfPXYoS5Mdv0IGpN163Z6pr</td>\n",
       "    </tr>\n",
       "    <tr>\n",
       "      <th>3</th>\n",
       "      <td>4</td>\n",
       "      <td>qd-wbn94ZLfPXYoS5Mdv0IGpN163Z6pr</td>\n",
       "    </tr>\n",
       "    <tr>\n",
       "      <th>4</th>\n",
       "      <td>5</td>\n",
       "      <td>qd-wbn94ZLfPXYoS5Mdv0IGpN163Z6pr</td>\n",
       "    </tr>\n",
       "    <tr>\n",
       "      <th>...</th>\n",
       "      <td>...</td>\n",
       "      <td>...</td>\n",
       "    </tr>\n",
       "    <tr>\n",
       "      <th>889</th>\n",
       "      <td>890</td>\n",
       "      <td>qd-wbn94ZLfPXYoS5Mdv0IGpN163Z6pr</td>\n",
       "    </tr>\n",
       "    <tr>\n",
       "      <th>890</th>\n",
       "      <td>891</td>\n",
       "      <td>qd-wbn94ZLfPXYoS5Mdv0IGpN163Z6pr</td>\n",
       "    </tr>\n",
       "    <tr>\n",
       "      <th>891</th>\n",
       "      <td>892</td>\n",
       "      <td>qd-wbn94ZLfPXYoS5Mdv0IGpN163Z6pr</td>\n",
       "    </tr>\n",
       "    <tr>\n",
       "      <th>892</th>\n",
       "      <td>893</td>\n",
       "      <td>qd-wbn94ZLfPXYoS5Mdv0IGpN163Z6pr</td>\n",
       "    </tr>\n",
       "    <tr>\n",
       "      <th>893</th>\n",
       "      <td>894</td>\n",
       "      <td>qd-wbn94ZLfPXYoS5Mdv0IGpN163Z6pr</td>\n",
       "    </tr>\n",
       "  </tbody>\n",
       "</table>\n",
       "<p>894 rows × 2 columns</p>\n",
       "</div>"
      ],
      "text/plain": [
       "     feature_id                    feature_digest\n",
       "0             1  qd-wbn94ZLfPXYoS5Mdv0IGpN163Z6pr\n",
       "1             2  qd-wbn94ZLfPXYoS5Mdv0IGpN163Z6pr\n",
       "2             3  qd-wbn94ZLfPXYoS5Mdv0IGpN163Z6pr\n",
       "3             4  qd-wbn94ZLfPXYoS5Mdv0IGpN163Z6pr\n",
       "4             5  qd-wbn94ZLfPXYoS5Mdv0IGpN163Z6pr\n",
       "..          ...                               ...\n",
       "889         890  qd-wbn94ZLfPXYoS5Mdv0IGpN163Z6pr\n",
       "890         891  qd-wbn94ZLfPXYoS5Mdv0IGpN163Z6pr\n",
       "891         892  qd-wbn94ZLfPXYoS5Mdv0IGpN163Z6pr\n",
       "892         893  qd-wbn94ZLfPXYoS5Mdv0IGpN163Z6pr\n",
       "893         894  qd-wbn94ZLfPXYoS5Mdv0IGpN163Z6pr\n",
       "\n",
       "[894 rows x 2 columns]"
      ]
     },
     "execution_count": 31,
     "metadata": {},
     "output_type": "execute_result"
    }
   ],
   "source": [
    "feature_id_to_digest_df = pd.DataFrame(feature_id_to_digest.items(), columns=[\"feature_id\", \"feature_digest\"])\n",
    "feature_id_to_digest_df"
   ]
  },
  {
   "attachments": {},
   "cell_type": "markdown",
   "metadata": {},
   "source": [
    "## Normalized Analysis"
   ]
  },
  {
   "cell_type": "code",
   "execution_count": 32,
   "metadata": {},
   "outputs": [
    {
     "data": {
      "text/plain": [
       "(179, 7)"
      ]
     },
     "execution_count": 32,
     "metadata": {},
     "output_type": "execute_result"
    }
   ],
   "source": [
    "normalized_queries_df = pd.read_csv(\"../feature_analysis/able_to_normalize_queries.csv\", sep=\"\\t\")\n",
    "normalized_queries_df = pd.merge(normalized_queries_df, feature_id_to_digest_df, left_on=\"variant_id\", right_on=\"feature_id\")\n",
    "normalized_queries_df.shape"
   ]
  },
  {
   "cell_type": "code",
   "execution_count": 33,
   "metadata": {},
   "outputs": [],
   "source": [
    "normalized_queries_df = pd.merge(normalized_queries_df[\"variant_id\"], moa_df, left_on=\"variant_id\", right_on=\"feature_id\", how=\"left\")\n",
    "normalized_queries_df = normalized_queries_df.drop(columns=[\"variant_id\"])"
   ]
  },
  {
   "cell_type": "code",
   "execution_count": 34,
   "metadata": {},
   "outputs": [
    {
     "name": "stdout",
     "output_type": "stream",
     "text": [
      "\n",
      "Number of Normalized Features in MOA: 179 / 428\n",
      "Percentage of Normalized Features in MOA: 41.82%\n"
     ]
    },
    {
     "data": {
      "text/html": [
       "<div>\n",
       "<style scoped>\n",
       "    .dataframe tbody tr th:only-of-type {\n",
       "        vertical-align: middle;\n",
       "    }\n",
       "\n",
       "    .dataframe tbody tr th {\n",
       "        vertical-align: top;\n",
       "    }\n",
       "\n",
       "    .dataframe thead th {\n",
       "        text-align: right;\n",
       "    }\n",
       "</style>\n",
       "<table border=\"1\" class=\"dataframe\">\n",
       "  <thead>\n",
       "    <tr style=\"text-align: right;\">\n",
       "      <th></th>\n",
       "      <th>assertion_id</th>\n",
       "      <th>feature_id</th>\n",
       "      <th>feature_type</th>\n",
       "      <th>predictive_implication</th>\n",
       "      <th>feature_digest</th>\n",
       "      <th>category</th>\n",
       "      <th>impact_score</th>\n",
       "    </tr>\n",
       "  </thead>\n",
       "  <tbody>\n",
       "    <tr>\n",
       "      <th>0</th>\n",
       "      <td>71</td>\n",
       "      <td>71</td>\n",
       "      <td>somatic_variant</td>\n",
       "      <td>Preclinical</td>\n",
       "      <td>KgolzM3HWhww4t4HywFYCySUtGRIQ_mx</td>\n",
       "      <td>Sequence Variants</td>\n",
       "      <td>1</td>\n",
       "    </tr>\n",
       "    <tr>\n",
       "      <th>1</th>\n",
       "      <td>73</td>\n",
       "      <td>73</td>\n",
       "      <td>somatic_variant</td>\n",
       "      <td>Clinical evidence</td>\n",
       "      <td>j3HtSnIdrU8CcuW8_Qs3qVxOn-kMJV1T</td>\n",
       "      <td>Sequence Variants</td>\n",
       "      <td>5</td>\n",
       "    </tr>\n",
       "    <tr>\n",
       "      <th>2</th>\n",
       "      <td>75</td>\n",
       "      <td>75</td>\n",
       "      <td>somatic_variant</td>\n",
       "      <td>Clinical evidence</td>\n",
       "      <td>X_Az48pPjt4IODuY2a50Yl2_1tGopcuF</td>\n",
       "      <td>Sequence Variants</td>\n",
       "      <td>5</td>\n",
       "    </tr>\n",
       "    <tr>\n",
       "      <th>3</th>\n",
       "      <td>76</td>\n",
       "      <td>76</td>\n",
       "      <td>somatic_variant</td>\n",
       "      <td>Clinical evidence</td>\n",
       "      <td>LQQXFXpA4FCOQ3Fz4988x2vynER4J-Wh</td>\n",
       "      <td>Sequence Variants</td>\n",
       "      <td>5</td>\n",
       "    </tr>\n",
       "    <tr>\n",
       "      <th>4</th>\n",
       "      <td>77</td>\n",
       "      <td>77</td>\n",
       "      <td>somatic_variant</td>\n",
       "      <td>Clinical evidence</td>\n",
       "      <td>DKoCqZUY0WBdUnoly9DL_PAjBBZTs51d</td>\n",
       "      <td>Sequence Variants</td>\n",
       "      <td>5</td>\n",
       "    </tr>\n",
       "    <tr>\n",
       "      <th>...</th>\n",
       "      <td>...</td>\n",
       "      <td>...</td>\n",
       "      <td>...</td>\n",
       "      <td>...</td>\n",
       "      <td>...</td>\n",
       "      <td>...</td>\n",
       "      <td>...</td>\n",
       "    </tr>\n",
       "    <tr>\n",
       "      <th>174</th>\n",
       "      <td>858</td>\n",
       "      <td>858</td>\n",
       "      <td>copy_number</td>\n",
       "      <td>Clinical evidence</td>\n",
       "      <td>UYE-1dofAcf0kc44xdOY2hxwkMNUzjl7</td>\n",
       "      <td>Copy Number Variants</td>\n",
       "      <td>5</td>\n",
       "    </tr>\n",
       "    <tr>\n",
       "      <th>175</th>\n",
       "      <td>859</td>\n",
       "      <td>859</td>\n",
       "      <td>copy_number</td>\n",
       "      <td>Inferential</td>\n",
       "      <td>s8SpNzXJuTJlGEqC0Rk-zd8ke9l4fq00</td>\n",
       "      <td>Copy Number Variants</td>\n",
       "      <td>1</td>\n",
       "    </tr>\n",
       "    <tr>\n",
       "      <th>176</th>\n",
       "      <td>868</td>\n",
       "      <td>868</td>\n",
       "      <td>somatic_variant</td>\n",
       "      <td>FDA-Approved</td>\n",
       "      <td>xEngbInsi1BKQp2pVFi44N8CYLj6ZEkD</td>\n",
       "      <td>Sequence Variants</td>\n",
       "      <td>10</td>\n",
       "    </tr>\n",
       "    <tr>\n",
       "      <th>177</th>\n",
       "      <td>869</td>\n",
       "      <td>869</td>\n",
       "      <td>somatic_variant</td>\n",
       "      <td>FDA-Approved</td>\n",
       "      <td>fqvuveTjuO96HizOsbWgFQmfF76lGtdl</td>\n",
       "      <td>Sequence Variants</td>\n",
       "      <td>10</td>\n",
       "    </tr>\n",
       "    <tr>\n",
       "      <th>178</th>\n",
       "      <td>870</td>\n",
       "      <td>870</td>\n",
       "      <td>somatic_variant</td>\n",
       "      <td>FDA-Approved</td>\n",
       "      <td>1JInmjKzPW9V9q9UKen4VODk1drBadA2</td>\n",
       "      <td>Sequence Variants</td>\n",
       "      <td>10</td>\n",
       "    </tr>\n",
       "  </tbody>\n",
       "</table>\n",
       "<p>179 rows × 7 columns</p>\n",
       "</div>"
      ],
      "text/plain": [
       "     assertion_id  feature_id     feature_type predictive_implication  \\\n",
       "0              71          71  somatic_variant            Preclinical   \n",
       "1              73          73  somatic_variant      Clinical evidence   \n",
       "2              75          75  somatic_variant      Clinical evidence   \n",
       "3              76          76  somatic_variant      Clinical evidence   \n",
       "4              77          77  somatic_variant      Clinical evidence   \n",
       "..            ...         ...              ...                    ...   \n",
       "174           858         858      copy_number      Clinical evidence   \n",
       "175           859         859      copy_number            Inferential   \n",
       "176           868         868  somatic_variant           FDA-Approved   \n",
       "177           869         869  somatic_variant           FDA-Approved   \n",
       "178           870         870  somatic_variant           FDA-Approved   \n",
       "\n",
       "                       feature_digest              category impact_score  \n",
       "0    KgolzM3HWhww4t4HywFYCySUtGRIQ_mx     Sequence Variants            1  \n",
       "1    j3HtSnIdrU8CcuW8_Qs3qVxOn-kMJV1T     Sequence Variants            5  \n",
       "2    X_Az48pPjt4IODuY2a50Yl2_1tGopcuF     Sequence Variants            5  \n",
       "3    LQQXFXpA4FCOQ3Fz4988x2vynER4J-Wh     Sequence Variants            5  \n",
       "4    DKoCqZUY0WBdUnoly9DL_PAjBBZTs51d     Sequence Variants            5  \n",
       "..                                ...                   ...          ...  \n",
       "174  UYE-1dofAcf0kc44xdOY2hxwkMNUzjl7  Copy Number Variants            5  \n",
       "175  s8SpNzXJuTJlGEqC0Rk-zd8ke9l4fq00  Copy Number Variants            1  \n",
       "176  xEngbInsi1BKQp2pVFi44N8CYLj6ZEkD     Sequence Variants           10  \n",
       "177  fqvuveTjuO96HizOsbWgFQmfF76lGtdl     Sequence Variants           10  \n",
       "178  1JInmjKzPW9V9q9UKen4VODk1drBadA2     Sequence Variants           10  \n",
       "\n",
       "[179 rows x 7 columns]"
      ]
     },
     "execution_count": 34,
     "metadata": {},
     "output_type": "execute_result"
    }
   ],
   "source": [
    "normalized_queries_df = feature_analysis(normalized_queries_df, VariantNormType.NORMALIZED)\n",
    "normalized_queries_df\n"
   ]
  },
  {
   "cell_type": "code",
   "execution_count": 35,
   "metadata": {},
   "outputs": [
    {
     "name": "stdout",
     "output_type": "stream",
     "text": [
      "Number of Normalized Feature Assertions in MOA: 325 / 894\n",
      "Percentage of Normalized Feature Assertions in MOA: 36.35%\n"
     ]
    }
   ],
   "source": [
    "assertion_analysis(moa_df, normalized_queries_df, VariantNormType.NORMALIZED)"
   ]
  },
  {
   "attachments": {},
   "cell_type": "markdown",
   "metadata": {},
   "source": [
    "## Not Supported Analysis"
   ]
  },
  {
   "cell_type": "code",
   "execution_count": 36,
   "metadata": {},
   "outputs": [
    {
     "data": {
      "text/plain": [
       "(249, 6)"
      ]
     },
     "execution_count": 36,
     "metadata": {},
     "output_type": "execute_result"
    }
   ],
   "source": [
    "not_supported_queries_df = pd.read_csv(\"../feature_analysis/not_supported_variants.csv\", sep=\"\\t\")\n",
    "not_supported_queries_df = pd.merge(not_supported_queries_df, feature_id_to_digest_df, left_on=\"variant_id\", right_on=\"feature_id\")\n",
    "not_supported_queries_df.shape"
   ]
  },
  {
   "cell_type": "code",
   "execution_count": 37,
   "metadata": {},
   "outputs": [
    {
     "data": {
      "text/html": [
       "<div>\n",
       "<style scoped>\n",
       "    .dataframe tbody tr th:only-of-type {\n",
       "        vertical-align: middle;\n",
       "    }\n",
       "\n",
       "    .dataframe tbody tr th {\n",
       "        vertical-align: top;\n",
       "    }\n",
       "\n",
       "    .dataframe thead th {\n",
       "        text-align: right;\n",
       "    }\n",
       "</style>\n",
       "<table border=\"1\" class=\"dataframe\">\n",
       "  <thead>\n",
       "    <tr style=\"text-align: right;\">\n",
       "      <th></th>\n",
       "      <th>assertion_id</th>\n",
       "      <th>feature_id</th>\n",
       "      <th>feature_type</th>\n",
       "      <th>predictive_implication</th>\n",
       "      <th>feature_digest</th>\n",
       "      <th>category</th>\n",
       "      <th>impact_score</th>\n",
       "    </tr>\n",
       "  </thead>\n",
       "  <tbody>\n",
       "    <tr>\n",
       "      <th>0</th>\n",
       "      <td>1</td>\n",
       "      <td>1</td>\n",
       "      <td>rearrangement</td>\n",
       "      <td>FDA-Approved</td>\n",
       "      <td>RnRyn89cJzVbVM93aw4OA44NIF5zblyP</td>\n",
       "      <td>Rearrangement Variants</td>\n",
       "      <td>10</td>\n",
       "    </tr>\n",
       "    <tr>\n",
       "      <th>1</th>\n",
       "      <td>12</td>\n",
       "      <td>12</td>\n",
       "      <td>rearrangement</td>\n",
       "      <td>FDA-Approved</td>\n",
       "      <td>g99yF3kKnB-We_fMS5RaVygoSuT7qA-I</td>\n",
       "      <td>Rearrangement Variants</td>\n",
       "      <td>10</td>\n",
       "    </tr>\n",
       "    <tr>\n",
       "      <th>2</th>\n",
       "      <td>15</td>\n",
       "      <td>15</td>\n",
       "      <td>rearrangement</td>\n",
       "      <td>FDA-Approved</td>\n",
       "      <td>e8PMq2A96-aBJ3Ip74ovx5VOUCztBTq7</td>\n",
       "      <td>Rearrangement Variants</td>\n",
       "      <td>10</td>\n",
       "    </tr>\n",
       "    <tr>\n",
       "      <th>3</th>\n",
       "      <td>18</td>\n",
       "      <td>18</td>\n",
       "      <td>rearrangement</td>\n",
       "      <td>Guideline</td>\n",
       "      <td>DxfRiRV-3J6zRON4pnzNJjXkJf2bsp20</td>\n",
       "      <td>Rearrangement Variants</td>\n",
       "      <td>10</td>\n",
       "    </tr>\n",
       "    <tr>\n",
       "      <th>4</th>\n",
       "      <td>21</td>\n",
       "      <td>21</td>\n",
       "      <td>rearrangement</td>\n",
       "      <td>Preclinical</td>\n",
       "      <td>BRsPjsZSCyDXnKtBt9XgsWX2JDNWY3FP</td>\n",
       "      <td>Rearrangement Variants</td>\n",
       "      <td>1</td>\n",
       "    </tr>\n",
       "    <tr>\n",
       "      <th>...</th>\n",
       "      <td>...</td>\n",
       "      <td>...</td>\n",
       "      <td>...</td>\n",
       "      <td>...</td>\n",
       "      <td>...</td>\n",
       "      <td>...</td>\n",
       "      <td>...</td>\n",
       "    </tr>\n",
       "    <tr>\n",
       "      <th>244</th>\n",
       "      <td>884</td>\n",
       "      <td>884</td>\n",
       "      <td>somatic_variant</td>\n",
       "      <td>FDA-Approved</td>\n",
       "      <td>la1NEYWBdiIyc7pFY3WCEc07SMmRbHYv</td>\n",
       "      <td>Sequence Variants</td>\n",
       "      <td>10</td>\n",
       "    </tr>\n",
       "    <tr>\n",
       "      <th>245</th>\n",
       "      <td>889</td>\n",
       "      <td>889</td>\n",
       "      <td>somatic_variant</td>\n",
       "      <td>FDA-Approved</td>\n",
       "      <td>mPC4szjbEkf6R9N7LNhZ1Tbf5-1seh8u</td>\n",
       "      <td>Sequence Variants</td>\n",
       "      <td>10</td>\n",
       "    </tr>\n",
       "    <tr>\n",
       "      <th>246</th>\n",
       "      <td>890</td>\n",
       "      <td>890</td>\n",
       "      <td>somatic_variant</td>\n",
       "      <td>FDA-Approved</td>\n",
       "      <td>c3CkYcMt4ssh4AL4gpacJtFil8xl2TB2</td>\n",
       "      <td>Sequence Variants</td>\n",
       "      <td>10</td>\n",
       "    </tr>\n",
       "    <tr>\n",
       "      <th>247</th>\n",
       "      <td>891</td>\n",
       "      <td>891</td>\n",
       "      <td>somatic_variant</td>\n",
       "      <td>FDA-Approved</td>\n",
       "      <td>uAW4cOXId1N1MKo5fqHYdw9JGceCMmE5</td>\n",
       "      <td>Sequence Variants</td>\n",
       "      <td>10</td>\n",
       "    </tr>\n",
       "    <tr>\n",
       "      <th>248</th>\n",
       "      <td>892</td>\n",
       "      <td>892</td>\n",
       "      <td>somatic_variant</td>\n",
       "      <td>FDA-Approved</td>\n",
       "      <td>B5m8cSgi6w2xRCg0X_dPpQU2dwbvtXk1</td>\n",
       "      <td>Sequence Variants</td>\n",
       "      <td>10</td>\n",
       "    </tr>\n",
       "  </tbody>\n",
       "</table>\n",
       "<p>249 rows × 7 columns</p>\n",
       "</div>"
      ],
      "text/plain": [
       "     assertion_id  feature_id     feature_type predictive_implication  \\\n",
       "0               1           1    rearrangement           FDA-Approved   \n",
       "1              12          12    rearrangement           FDA-Approved   \n",
       "2              15          15    rearrangement           FDA-Approved   \n",
       "3              18          18    rearrangement              Guideline   \n",
       "4              21          21    rearrangement            Preclinical   \n",
       "..            ...         ...              ...                    ...   \n",
       "244           884         884  somatic_variant           FDA-Approved   \n",
       "245           889         889  somatic_variant           FDA-Approved   \n",
       "246           890         890  somatic_variant           FDA-Approved   \n",
       "247           891         891  somatic_variant           FDA-Approved   \n",
       "248           892         892  somatic_variant           FDA-Approved   \n",
       "\n",
       "                       feature_digest                category impact_score  \n",
       "0    RnRyn89cJzVbVM93aw4OA44NIF5zblyP  Rearrangement Variants           10  \n",
       "1    g99yF3kKnB-We_fMS5RaVygoSuT7qA-I  Rearrangement Variants           10  \n",
       "2    e8PMq2A96-aBJ3Ip74ovx5VOUCztBTq7  Rearrangement Variants           10  \n",
       "3    DxfRiRV-3J6zRON4pnzNJjXkJf2bsp20  Rearrangement Variants           10  \n",
       "4    BRsPjsZSCyDXnKtBt9XgsWX2JDNWY3FP  Rearrangement Variants            1  \n",
       "..                                ...                     ...          ...  \n",
       "244  la1NEYWBdiIyc7pFY3WCEc07SMmRbHYv       Sequence Variants           10  \n",
       "245  mPC4szjbEkf6R9N7LNhZ1Tbf5-1seh8u       Sequence Variants           10  \n",
       "246  c3CkYcMt4ssh4AL4gpacJtFil8xl2TB2       Sequence Variants           10  \n",
       "247  uAW4cOXId1N1MKo5fqHYdw9JGceCMmE5       Sequence Variants           10  \n",
       "248  B5m8cSgi6w2xRCg0X_dPpQU2dwbvtXk1       Sequence Variants           10  \n",
       "\n",
       "[249 rows x 7 columns]"
      ]
     },
     "execution_count": 37,
     "metadata": {},
     "output_type": "execute_result"
    }
   ],
   "source": [
    "not_supported_queries_df = pd.merge(not_supported_queries_df[\"variant_id\"], moa_df, left_on=\"variant_id\", right_on=\"feature_id\", how=\"left\")\n",
    "not_supported_queries_df = not_supported_queries_df.drop(columns=[\"variant_id\"])\n",
    "not_supported_queries_df"
   ]
  },
  {
   "attachments": {},
   "cell_type": "markdown",
   "metadata": {},
   "source": [
    "### Feature (Variant) Analysis"
   ]
  },
  {
   "cell_type": "code",
   "execution_count": 38,
   "metadata": {},
   "outputs": [
    {
     "name": "stdout",
     "output_type": "stream",
     "text": [
      "\n",
      "Number of Not Supported Features in MOA: 249 / 428\n",
      "Percentage of Not Supported Features in MOA: 58.18%\n"
     ]
    }
   ],
   "source": [
    "not_supported_queries_df = feature_analysis(not_supported_queries_df, VariantNormType.NOT_SUPPORTED)"
   ]
  },
  {
   "attachments": {},
   "cell_type": "markdown",
   "metadata": {},
   "source": [
    "### Not Supported Feature (Variant) Analysis by Subcategory"
   ]
  },
  {
   "cell_type": "code",
   "execution_count": 39,
   "metadata": {},
   "outputs": [],
   "source": [
    "not_supported_feature_analysis_summary = {\n",
    "    \"Category\": VARIANT_CATEGORY_VALUES,\n",
    "    \"Fraction of all MOA Features\": [],\n",
    "    \"Percent of all MOA Features\": [],\n",
    "    \"Fraction of Not Supported Features\": [],\n",
    "    \"Percent of Not Supported Features\": [],\n",
    "}"
   ]
  },
  {
   "cell_type": "code",
   "execution_count": 40,
   "metadata": {},
   "outputs": [],
   "source": [
    "not_supported_feature_categories_summary_data = dict()\n",
    "total_number_unique_not_supported_features = len(set(not_supported_queries_df.feature_id))\n",
    "\n",
    "for category in VARIANT_CATEGORY_VALUES:  # These are not supported categories\n",
    "    not_supported_feature_categories_summary_data[category] = {}\n",
    "    category_df = not_supported_queries_df[not_supported_queries_df.category == category]\n",
    "\n",
    "    # Count\n",
    "    number_unique_not_supported_category_features = len(set(category_df.feature_id))\n",
    "    not_supported_feature_categories_summary_data[category][\"number_unique_not_supported_category_features\"] = number_unique_not_supported_category_features\n",
    "\n",
    "    # Fraction\n",
    "    fraction_not_supported_category_feature_of_moa = f\"{number_unique_not_supported_category_features} / {total_len_features}\"\n",
    "    not_supported_feature_categories_summary_data[category][\"fraction_not_supported_category_feature_of_moa\"] = fraction_not_supported_category_feature_of_moa\n",
    "\n",
    "    # Percent\n",
    "    percent_not_supported_category_feature_of_moa = f\"{number_unique_not_supported_category_features / total_len_features * 100:.2f}%\"\n",
    "    not_supported_feature_categories_summary_data[category][\"percent_not_supported_category_feature_of_moa\"] = percent_not_supported_category_feature_of_moa\n",
    "\n",
    "    # Not supported fraction\n",
    "    fraction_not_supported_category_feature_of_total_not_supported = f\"{number_unique_not_supported_category_features} / {total_number_unique_not_supported_features}\"\n",
    "    not_supported_feature_categories_summary_data[category][\"fraction_not_supported_category_feature_of_total_not_supported\"] = fraction_not_supported_category_feature_of_total_not_supported\n",
    "\n",
    "    # Not supported percent\n",
    "    percent_not_supported_category_feature_of_total_not_supported = f\"{number_unique_not_supported_category_features / total_number_unique_not_supported_features * 100:.2f}%\"\n",
    "    not_supported_feature_categories_summary_data[category][\"percent_not_supported_category_feature_of_total_not_supported\"] = percent_not_supported_category_feature_of_total_not_supported\n",
    "\n",
    "    not_supported_feature_analysis_summary[\"Fraction of all MOA Features\"].append(fraction_not_supported_category_feature_of_moa)\n",
    "    not_supported_feature_analysis_summary[\"Percent of all MOA Features\"].append(percent_not_supported_category_feature_of_moa)\n",
    "    not_supported_feature_analysis_summary[\"Fraction of Not Supported Features\"].append(fraction_not_supported_category_feature_of_total_not_supported)\n",
    "    not_supported_feature_analysis_summary[\"Percent of Not Supported Features\"].append(percent_not_supported_category_feature_of_total_not_supported)"
   ]
  },
  {
   "cell_type": "code",
   "execution_count": 41,
   "metadata": {},
   "outputs": [
    {
     "data": {
      "text/html": [
       "<div>\n",
       "<style scoped>\n",
       "    .dataframe tbody tr th:only-of-type {\n",
       "        vertical-align: middle;\n",
       "    }\n",
       "\n",
       "    .dataframe tbody tr th {\n",
       "        vertical-align: top;\n",
       "    }\n",
       "\n",
       "    .dataframe thead th {\n",
       "        text-align: right;\n",
       "    }\n",
       "</style>\n",
       "<table border=\"1\" class=\"dataframe\">\n",
       "  <thead>\n",
       "    <tr style=\"text-align: right;\">\n",
       "      <th></th>\n",
       "      <th>Category</th>\n",
       "      <th>Fraction of all MOA Features</th>\n",
       "      <th>Percent of all MOA Features</th>\n",
       "      <th>Fraction of Not Supported Features</th>\n",
       "      <th>Percent of Not Supported Features</th>\n",
       "    </tr>\n",
       "  </thead>\n",
       "  <tbody>\n",
       "    <tr>\n",
       "      <th>0</th>\n",
       "      <td>Expression Variants</td>\n",
       "      <td>11 / 428</td>\n",
       "      <td>2.57%</td>\n",
       "      <td>11 / 249</td>\n",
       "      <td>4.42%</td>\n",
       "    </tr>\n",
       "    <tr>\n",
       "      <th>1</th>\n",
       "      <td>Epigenetic Modification</td>\n",
       "      <td>0 / 428</td>\n",
       "      <td>0.00%</td>\n",
       "      <td>0 / 249</td>\n",
       "      <td>0.00%</td>\n",
       "    </tr>\n",
       "    <tr>\n",
       "      <th>2</th>\n",
       "      <td>Fusion Variants</td>\n",
       "      <td>0 / 428</td>\n",
       "      <td>0.00%</td>\n",
       "      <td>0 / 249</td>\n",
       "      <td>0.00%</td>\n",
       "    </tr>\n",
       "    <tr>\n",
       "      <th>3</th>\n",
       "      <td>Sequence Variants</td>\n",
       "      <td>174 / 428</td>\n",
       "      <td>40.65%</td>\n",
       "      <td>174 / 249</td>\n",
       "      <td>69.88%</td>\n",
       "    </tr>\n",
       "    <tr>\n",
       "      <th>4</th>\n",
       "      <td>Gene Function Variants</td>\n",
       "      <td>0 / 428</td>\n",
       "      <td>0.00%</td>\n",
       "      <td>0 / 249</td>\n",
       "      <td>0.00%</td>\n",
       "    </tr>\n",
       "    <tr>\n",
       "      <th>5</th>\n",
       "      <td>Rearrangement Variants</td>\n",
       "      <td>38 / 428</td>\n",
       "      <td>8.88%</td>\n",
       "      <td>38 / 249</td>\n",
       "      <td>15.26%</td>\n",
       "    </tr>\n",
       "    <tr>\n",
       "      <th>6</th>\n",
       "      <td>Copy Number Variants</td>\n",
       "      <td>17 / 428</td>\n",
       "      <td>3.97%</td>\n",
       "      <td>17 / 249</td>\n",
       "      <td>6.83%</td>\n",
       "    </tr>\n",
       "    <tr>\n",
       "      <th>7</th>\n",
       "      <td>Other Variants</td>\n",
       "      <td>9 / 428</td>\n",
       "      <td>2.10%</td>\n",
       "      <td>9 / 249</td>\n",
       "      <td>3.61%</td>\n",
       "    </tr>\n",
       "    <tr>\n",
       "      <th>8</th>\n",
       "      <td>Genotype Variants</td>\n",
       "      <td>0 / 428</td>\n",
       "      <td>0.00%</td>\n",
       "      <td>0 / 249</td>\n",
       "      <td>0.00%</td>\n",
       "    </tr>\n",
       "    <tr>\n",
       "      <th>9</th>\n",
       "      <td>Region Defined Variants</td>\n",
       "      <td>0 / 428</td>\n",
       "      <td>0.00%</td>\n",
       "      <td>0 / 249</td>\n",
       "      <td>0.00%</td>\n",
       "    </tr>\n",
       "    <tr>\n",
       "      <th>10</th>\n",
       "      <td>Transcript Variants</td>\n",
       "      <td>0 / 428</td>\n",
       "      <td>0.00%</td>\n",
       "      <td>0 / 249</td>\n",
       "      <td>0.00%</td>\n",
       "    </tr>\n",
       "  </tbody>\n",
       "</table>\n",
       "</div>"
      ],
      "text/plain": [
       "                   Category Fraction of all MOA Features  \\\n",
       "0       Expression Variants                     11 / 428   \n",
       "1   Epigenetic Modification                      0 / 428   \n",
       "2           Fusion Variants                      0 / 428   \n",
       "3         Sequence Variants                    174 / 428   \n",
       "4    Gene Function Variants                      0 / 428   \n",
       "5    Rearrangement Variants                     38 / 428   \n",
       "6      Copy Number Variants                     17 / 428   \n",
       "7            Other Variants                      9 / 428   \n",
       "8         Genotype Variants                      0 / 428   \n",
       "9   Region Defined Variants                      0 / 428   \n",
       "10      Transcript Variants                      0 / 428   \n",
       "\n",
       "   Percent of all MOA Features Fraction of Not Supported Features  \\\n",
       "0                        2.57%                           11 / 249   \n",
       "1                        0.00%                            0 / 249   \n",
       "2                        0.00%                            0 / 249   \n",
       "3                       40.65%                          174 / 249   \n",
       "4                        0.00%                            0 / 249   \n",
       "5                        8.88%                           38 / 249   \n",
       "6                        3.97%                           17 / 249   \n",
       "7                        2.10%                            9 / 249   \n",
       "8                        0.00%                            0 / 249   \n",
       "9                        0.00%                            0 / 249   \n",
       "10                       0.00%                            0 / 249   \n",
       "\n",
       "   Percent of Not Supported Features  \n",
       "0                              4.42%  \n",
       "1                              0.00%  \n",
       "2                              0.00%  \n",
       "3                             69.88%  \n",
       "4                              0.00%  \n",
       "5                             15.26%  \n",
       "6                              6.83%  \n",
       "7                              3.61%  \n",
       "8                              0.00%  \n",
       "9                              0.00%  \n",
       "10                             0.00%  "
      ]
     },
     "execution_count": 41,
     "metadata": {},
     "output_type": "execute_result"
    }
   ],
   "source": [
    "not_supported_variant_df = pd.DataFrame(not_supported_feature_analysis_summary)\n",
    "not_supported_variant_df"
   ]
  },
  {
   "attachments": {},
   "cell_type": "markdown",
   "metadata": {},
   "source": [
    "### Not Support Feature (Variant) Assertion (Evidence) Analysis by Subcategory"
   ]
  },
  {
   "attachments": {},
   "cell_type": "markdown",
   "metadata": {},
   "source": [
    "List all the possible variant categories"
   ]
  },
  {
   "cell_type": "code",
   "execution_count": 42,
   "metadata": {},
   "outputs": [
    {
     "data": {
      "text/plain": [
       "['Rearrangement Variants',\n",
       " 'Sequence Variants',\n",
       " 'Copy Number Variants',\n",
       " 'Other Variants',\n",
       " 'Expression Variants']"
      ]
     },
     "execution_count": 42,
     "metadata": {},
     "output_type": "execute_result"
    }
   ],
   "source": [
    "not_supported_feature_categories = not_supported_queries_df.category.unique()\n",
    "[v for v in not_supported_feature_categories]"
   ]
  },
  {
   "cell_type": "code",
   "execution_count": 43,
   "metadata": {},
   "outputs": [
    {
     "name": "stdout",
     "output_type": "stream",
     "text": [
      "Number of Not Supported Feature Assertions in MOA: 569 / 894\n",
      "Percentage of Not Supported Feature Assertions in MOA: 63.65%\n"
     ]
    }
   ],
   "source": [
    "assertion_analysis(moa_df, not_supported_queries_df, VariantNormType.NOT_SUPPORTED)\n"
   ]
  },
  {
   "cell_type": "code",
   "execution_count": 44,
   "metadata": {},
   "outputs": [],
   "source": [
    "not_supported_feature_assertion_summary = {\n",
    "    \"Category\": VARIANT_CATEGORY_VALUES,\n",
    "    \"Fraction of MOA Assertions\": [],\n",
    "    \"Percent of MOA Assertions\": [],\n",
    "    \"Fraction of Not Supported Feature Assertions\": [],\n",
    "    \"Percent of Not Supported Feature Assertions\": []\n",
    "}"
   ]
  },
  {
   "cell_type": "code",
   "execution_count": 45,
   "metadata": {},
   "outputs": [],
   "source": [
    "not_supported_feature_ids = set(not_supported_queries_df.feature_digest)"
   ]
  },
  {
   "cell_type": "code",
   "execution_count": 46,
   "metadata": {},
   "outputs": [],
   "source": [
    "not_supported_feature_categories_assertion_summary_data = dict()\n",
    "total_number_not_supported_feature_unique_assertions = len(set(not_supported_queries_df.assertion_id))\n",
    "not_supported_feature_ids = set(not_supported_queries_df.feature_digest)\n",
    "\n",
    "for category in VARIANT_CATEGORY_VALUES:    \n",
    "    not_supported_feature_categories_assertion_summary_data[category] = {}\n",
    "\n",
    "    # Need to do this bc of duplicate features\n",
    "    tmp_df = moa_df[moa_df[\"feature_digest\"].isin(not_supported_feature_ids)]\n",
    "    \n",
    "    evidence_category_df = tmp_df[tmp_df.category == category]\n",
    "    \n",
    "    evidence_category_df = evidence_category_df.drop_duplicates(subset=[\"assertion_id\"])\n",
    "\n",
    "    # Count\n",
    "    number_unique_not_supported_category_assertion = len(set(evidence_category_df.assertion_id))\n",
    "    not_supported_feature_categories_assertion_summary_data[category][\"number_unique_not_supported_category_assertion\"] = number_unique_not_supported_category_assertion\n",
    "\n",
    "    # Fraction\n",
    "    fraction_not_supported_category_feature_assertion_of_moa = f\"{number_unique_not_supported_category_assertion} / {total_len_assertions}\"\n",
    "    not_supported_feature_categories_assertion_summary_data[category][\"fraction_not_supported_category_feature_assertion_of_moa\"] = fraction_not_supported_category_feature_assertion_of_moa\n",
    "\n",
    "    # Percent\n",
    "    percent_not_supported_category_feature_assertion_of_moa = f\"{number_unique_not_supported_category_assertion / total_len_assertions * 100:.2f}%\"\n",
    "    not_supported_feature_categories_assertion_summary_data[category][\"percent_not_supported_category_feature_assertion_of_moa\"] = percent_not_supported_category_feature_assertion_of_moa\n",
    "\n",
    "    # Not supported fraction\n",
    "    fraction_not_supported_category_feature_assertion_of_total_not_supported = f\"{number_unique_not_supported_category_assertion} / {total_number_not_supported_feature_unique_assertions}\"\n",
    "    not_supported_feature_categories_assertion_summary_data[category][\"fraction_not_supported_category_feature_assertion_of_total_not_supported\"] = fraction_not_supported_category_feature_assertion_of_total_not_supported\n",
    "\n",
    "    # Not supported percent\n",
    "    percent_not_supported_category_feature_assertion_of_total_not_supported = f\"{number_unique_not_supported_category_assertion / total_number_not_supported_feature_unique_assertions * 100:.2f}%\"\n",
    "    not_supported_feature_categories_assertion_summary_data[category][\"percent_not_supported_category_feature_assertion_of_total_not_supported\"] = percent_not_supported_category_feature_assertion_of_total_not_supported\n",
    "\n",
    "    not_supported_feature_assertion_summary[\"Fraction of MOA Assertions\"].append(fraction_not_supported_category_feature_assertion_of_moa)\n",
    "    not_supported_feature_assertion_summary[\"Percent of MOA Assertions\"].append(percent_not_supported_category_feature_assertion_of_moa)\n",
    "    not_supported_feature_assertion_summary[\"Fraction of Not Supported Feature Assertions\"].append(fraction_not_supported_category_feature_assertion_of_total_not_supported)\n",
    "    not_supported_feature_assertion_summary[\"Percent of Not Supported Feature Assertions\"].append(percent_not_supported_category_feature_assertion_of_total_not_supported)\n"
   ]
  },
  {
   "attachments": {},
   "cell_type": "markdown",
   "metadata": {},
   "source": [
    "## Impact by Subcategory"
   ]
  },
  {
   "cell_type": "code",
   "execution_count": 47,
   "metadata": {},
   "outputs": [],
   "source": [
    "not_supported_impact_summary = {\n",
    "    \"Category\": VARIANT_CATEGORY_VALUES,\n",
    "    \"Total Sum Impact Score\": [],\n",
    "    \"Total Number Assertions\": [v[\"number_unique_not_supported_category_assertion\"] for v in not_supported_feature_categories_assertion_summary_data.values()],\n",
    "    \"Total Number Features\": [v[\"number_unique_not_supported_category_features\"] for v in not_supported_feature_categories_summary_data.values()]\n",
    "}"
   ]
  },
  {
   "cell_type": "code",
   "execution_count": 48,
   "metadata": {},
   "outputs": [
    {
     "name": "stdout",
     "output_type": "stream",
     "text": [
      "Expression Variants: 11\n",
      "Epigenetic Modification: 0\n",
      "Fusion Variants: 0\n",
      "Sequence Variants: 1114\n",
      "Gene Function Variants: 0\n",
      "Rearrangement Variants: 292\n",
      "Copy Number Variants: 47\n",
      "Other Variants: 35\n",
      "Genotype Variants: 0\n",
      "Region Defined Variants: 0\n",
      "Transcript Variants: 0\n"
     ]
    }
   ],
   "source": [
    "not_supported_feature_categories_impact_data = dict()\n",
    "for category in VARIANT_CATEGORY_VALUES:\n",
    "    not_supported_feature_categories_impact_data[category] = {}\n",
    "    impact_category_df = not_supported_queries_df[not_supported_queries_df.category == category]\n",
    "\n",
    "    total_sum_not_supported_category_impact = impact_category_df[\"impact_score\"].sum()\n",
    "    not_supported_feature_categories_impact_data[category][\"total_sum_not_supported_category_impact\"] = total_sum_not_supported_category_impact\n",
    "\n",
    "    not_supported_impact_summary[\"Total Sum Impact Score\"].append(total_sum_not_supported_category_impact)\n",
    "\n",
    "    print(f\"{category}: {total_sum_not_supported_category_impact}\")"
   ]
  },
  {
   "attachments": {},
   "cell_type": "markdown",
   "metadata": {},
   "source": [
    "# Summary"
   ]
  },
  {
   "attachments": {},
   "cell_type": "markdown",
   "metadata": {},
   "source": [
    "## Feature (Variant) Analysis"
   ]
  },
  {
   "attachments": {},
   "cell_type": "markdown",
   "metadata": {},
   "source": [
    "Summary Table 1: The table below shows the 3 categories that MOA features (variants) were divided into after normalization and what percentage they make up of all features (variants) in MOA data. "
   ]
  },
  {
   "cell_type": "code",
   "execution_count": 49,
   "metadata": {},
   "outputs": [
    {
     "data": {
      "text/html": [
       "<div>\n",
       "<style scoped>\n",
       "    .dataframe tbody tr th:only-of-type {\n",
       "        vertical-align: middle;\n",
       "    }\n",
       "\n",
       "    .dataframe tbody tr th {\n",
       "        vertical-align: top;\n",
       "    }\n",
       "\n",
       "    .dataframe thead th {\n",
       "        text-align: right;\n",
       "    }\n",
       "</style>\n",
       "<table border=\"1\" class=\"dataframe\">\n",
       "  <thead>\n",
       "    <tr style=\"text-align: right;\">\n",
       "      <th></th>\n",
       "      <th>Percentage of all MOA Features</th>\n",
       "    </tr>\n",
       "    <tr>\n",
       "      <th>Variant Category</th>\n",
       "      <th></th>\n",
       "    </tr>\n",
       "  </thead>\n",
       "  <tbody>\n",
       "    <tr>\n",
       "      <th>Normalized</th>\n",
       "      <td>179 / 428  (41.82%)</td>\n",
       "    </tr>\n",
       "    <tr>\n",
       "      <th>Not Supported</th>\n",
       "      <td>249 / 428  (58.18%)</td>\n",
       "    </tr>\n",
       "  </tbody>\n",
       "</table>\n",
       "</div>"
      ],
      "text/plain": [
       "                 Percentage of all MOA Features\n",
       "Variant Category                               \n",
       "Normalized                  179 / 428  (41.82%)\n",
       "Not Supported               249 / 428  (58.18%)"
      ]
     },
     "execution_count": 49,
     "metadata": {},
     "output_type": "execute_result"
    }
   ],
   "source": [
    "all_features_df = pd.DataFrame(feature_analysis_summary)\n",
    "all_features_df[\"Percentage of all MOA Features\"] = all_features_df[\"Fraction of all MOA Features\"].astype(str) + \"  (\" + all_features_df[\"Percentage of all MOA Features\"] + \")\"\n",
    "all_features_df = all_features_df.drop(columns=[\"Fraction of all MOA Features\"])\n",
    "all_features_df = all_features_df.set_index(\"Variant Category\")\n",
    "all_features_df"
   ]
  },
  {
   "attachments": {},
   "cell_type": "markdown",
   "metadata": {},
   "source": [
    "Summary Table 2: The table below shows the categories that the Not Supported features (variants) were broken into and what percentage of all MOA features (variants) they make up."
   ]
  },
  {
   "cell_type": "code",
   "execution_count": 50,
   "metadata": {},
   "outputs": [
    {
     "data": {
      "text/html": [
       "<div>\n",
       "<style scoped>\n",
       "    .dataframe tbody tr th:only-of-type {\n",
       "        vertical-align: middle;\n",
       "    }\n",
       "\n",
       "    .dataframe tbody tr th {\n",
       "        vertical-align: top;\n",
       "    }\n",
       "\n",
       "    .dataframe thead th {\n",
       "        text-align: right;\n",
       "    }\n",
       "</style>\n",
       "<table border=\"1\" class=\"dataframe\">\n",
       "  <thead>\n",
       "    <tr style=\"text-align: right;\">\n",
       "      <th></th>\n",
       "      <th>Percent of all MOA Features</th>\n",
       "      <th>Percent of Not Supported Features</th>\n",
       "    </tr>\n",
       "    <tr>\n",
       "      <th>Category</th>\n",
       "      <th></th>\n",
       "      <th></th>\n",
       "    </tr>\n",
       "  </thead>\n",
       "  <tbody>\n",
       "    <tr>\n",
       "      <th>Expression Variants</th>\n",
       "      <td>11 / 428  (2.57%)</td>\n",
       "      <td>11 / 249  (4.42%)</td>\n",
       "    </tr>\n",
       "    <tr>\n",
       "      <th>Epigenetic Modification</th>\n",
       "      <td>0 / 428  (0.00%)</td>\n",
       "      <td>0 / 249  (0.00%)</td>\n",
       "    </tr>\n",
       "    <tr>\n",
       "      <th>Fusion Variants</th>\n",
       "      <td>0 / 428  (0.00%)</td>\n",
       "      <td>0 / 249  (0.00%)</td>\n",
       "    </tr>\n",
       "    <tr>\n",
       "      <th>Sequence Variants</th>\n",
       "      <td>174 / 428  (40.65%)</td>\n",
       "      <td>174 / 249  (69.88%)</td>\n",
       "    </tr>\n",
       "    <tr>\n",
       "      <th>Gene Function Variants</th>\n",
       "      <td>0 / 428  (0.00%)</td>\n",
       "      <td>0 / 249  (0.00%)</td>\n",
       "    </tr>\n",
       "    <tr>\n",
       "      <th>Rearrangement Variants</th>\n",
       "      <td>38 / 428  (8.88%)</td>\n",
       "      <td>38 / 249  (15.26%)</td>\n",
       "    </tr>\n",
       "    <tr>\n",
       "      <th>Copy Number Variants</th>\n",
       "      <td>17 / 428  (3.97%)</td>\n",
       "      <td>17 / 249  (6.83%)</td>\n",
       "    </tr>\n",
       "    <tr>\n",
       "      <th>Other Variants</th>\n",
       "      <td>9 / 428  (2.10%)</td>\n",
       "      <td>9 / 249  (3.61%)</td>\n",
       "    </tr>\n",
       "    <tr>\n",
       "      <th>Genotype Variants</th>\n",
       "      <td>0 / 428  (0.00%)</td>\n",
       "      <td>0 / 249  (0.00%)</td>\n",
       "    </tr>\n",
       "    <tr>\n",
       "      <th>Region Defined Variants</th>\n",
       "      <td>0 / 428  (0.00%)</td>\n",
       "      <td>0 / 249  (0.00%)</td>\n",
       "    </tr>\n",
       "    <tr>\n",
       "      <th>Transcript Variants</th>\n",
       "      <td>0 / 428  (0.00%)</td>\n",
       "      <td>0 / 249  (0.00%)</td>\n",
       "    </tr>\n",
       "  </tbody>\n",
       "</table>\n",
       "</div>"
      ],
      "text/plain": [
       "                        Percent of all MOA Features  \\\n",
       "Category                                              \n",
       "Expression Variants               11 / 428  (2.57%)   \n",
       "Epigenetic Modification            0 / 428  (0.00%)   \n",
       "Fusion Variants                    0 / 428  (0.00%)   \n",
       "Sequence Variants               174 / 428  (40.65%)   \n",
       "Gene Function Variants             0 / 428  (0.00%)   \n",
       "Rearrangement Variants            38 / 428  (8.88%)   \n",
       "Copy Number Variants              17 / 428  (3.97%)   \n",
       "Other Variants                     9 / 428  (2.10%)   \n",
       "Genotype Variants                  0 / 428  (0.00%)   \n",
       "Region Defined Variants            0 / 428  (0.00%)   \n",
       "Transcript Variants                0 / 428  (0.00%)   \n",
       "\n",
       "                        Percent of Not Supported Features  \n",
       "Category                                                   \n",
       "Expression Variants                     11 / 249  (4.42%)  \n",
       "Epigenetic Modification                  0 / 249  (0.00%)  \n",
       "Fusion Variants                          0 / 249  (0.00%)  \n",
       "Sequence Variants                     174 / 249  (69.88%)  \n",
       "Gene Function Variants                   0 / 249  (0.00%)  \n",
       "Rearrangement Variants                 38 / 249  (15.26%)  \n",
       "Copy Number Variants                    17 / 249  (6.83%)  \n",
       "Other Variants                           9 / 249  (3.61%)  \n",
       "Genotype Variants                        0 / 249  (0.00%)  \n",
       "Region Defined Variants                  0 / 249  (0.00%)  \n",
       "Transcript Variants                      0 / 249  (0.00%)  "
      ]
     },
     "execution_count": 50,
     "metadata": {},
     "output_type": "execute_result"
    }
   ],
   "source": [
    "not_supported_features_df = pd.DataFrame(not_supported_feature_analysis_summary)\n",
    "not_supported_features_df[\"Percent of Not Supported Features\"] = not_supported_features_df[\"Fraction of Not Supported Features\"].astype(str) + \"  (\" + not_supported_features_df[\"Percent of Not Supported Features\"] + \")\"\n",
    "not_supported_features_df[\"Percent of all MOA Features\"] = not_supported_features_df[\"Fraction of all MOA Features\"].astype(str) + \"  (\" + not_supported_features_df[\"Percent of all MOA Features\"] + \")\"\n",
    "not_supported_features_df = not_supported_features_df.drop(columns=[\"Fraction of all MOA Features\", \"Fraction of Not Supported Features\"])\n",
    "not_supported_features_df = not_supported_features_df.set_index(\"Category\")\n",
    "not_supported_features_df"
   ]
  },
  {
   "attachments": {},
   "cell_type": "markdown",
   "metadata": {},
   "source": [
    "## Evidence Analysis"
   ]
  },
  {
   "attachments": {},
   "cell_type": "markdown",
   "metadata": {},
   "source": [
    "Summary Table 3: The table below shows what percentage of all assertions (evidence items) in MOA are associated with Normalized and Not Supported features (variants)"
   ]
  },
  {
   "cell_type": "code",
   "execution_count": 51,
   "metadata": {},
   "outputs": [
    {
     "data": {
      "text/html": [
       "<div>\n",
       "<style scoped>\n",
       "    .dataframe tbody tr th:only-of-type {\n",
       "        vertical-align: middle;\n",
       "    }\n",
       "\n",
       "    .dataframe tbody tr th {\n",
       "        vertical-align: top;\n",
       "    }\n",
       "\n",
       "    .dataframe thead th {\n",
       "        text-align: right;\n",
       "    }\n",
       "</style>\n",
       "<table border=\"1\" class=\"dataframe\">\n",
       "  <thead>\n",
       "    <tr style=\"text-align: right;\">\n",
       "      <th></th>\n",
       "      <th>Percentage of all MOA Assertions</th>\n",
       "    </tr>\n",
       "    <tr>\n",
       "      <th>Variant Category</th>\n",
       "      <th></th>\n",
       "    </tr>\n",
       "  </thead>\n",
       "  <tbody>\n",
       "    <tr>\n",
       "      <th>Normalized</th>\n",
       "      <td>325 / 894  (36.35%)</td>\n",
       "    </tr>\n",
       "    <tr>\n",
       "      <th>Not Supported</th>\n",
       "      <td>569 / 894  (63.65%)</td>\n",
       "    </tr>\n",
       "  </tbody>\n",
       "</table>\n",
       "</div>"
      ],
      "text/plain": [
       "                 Percentage of all MOA Assertions\n",
       "Variant Category                                 \n",
       "Normalized                    325 / 894  (36.35%)\n",
       "Not Supported                 569 / 894  (63.65%)"
      ]
     },
     "execution_count": 51,
     "metadata": {},
     "output_type": "execute_result"
    }
   ],
   "source": [
    "all_features_assertions_df = pd.DataFrame(assertion_analysis_summary)\n",
    "all_features_assertions_df[\"Percentage of all MOA Assertions\"] = all_features_assertions_df[\"Fraction of all MOA Assertions\"].astype(str) + \"  (\" + all_features_assertions_df[\"Percentage of all MOA Assertions\"] + \")\"\n",
    "all_features_assertions_df = all_features_assertions_df.drop(columns=[\"Fraction of all MOA Assertions\"])\n",
    "all_features_assertions_df = all_features_assertions_df.set_index(\"Variant Category\")\n",
    "all_features_assertions_df"
   ]
  },
  {
   "attachments": {},
   "cell_type": "markdown",
   "metadata": {},
   "source": [
    "Summary Table 4: The table below shows the percentage of all MOA assertions (evidence items) that are associated with a Not Supported variant sub category. It also shows the percentage of all MOA Assertions (evidence items) associated with Not Supported features (variants) that are associated with a variant sub category. "
   ]
  },
  {
   "cell_type": "code",
   "execution_count": 52,
   "metadata": {},
   "outputs": [
    {
     "data": {
      "text/html": [
       "<div>\n",
       "<style scoped>\n",
       "    .dataframe tbody tr th:only-of-type {\n",
       "        vertical-align: middle;\n",
       "    }\n",
       "\n",
       "    .dataframe tbody tr th {\n",
       "        vertical-align: top;\n",
       "    }\n",
       "\n",
       "    .dataframe thead th {\n",
       "        text-align: right;\n",
       "    }\n",
       "</style>\n",
       "<table border=\"1\" class=\"dataframe\">\n",
       "  <thead>\n",
       "    <tr style=\"text-align: right;\">\n",
       "      <th></th>\n",
       "      <th>Percent of MOA Assertions</th>\n",
       "      <th>Percent of Not Supported Feature Assertions</th>\n",
       "    </tr>\n",
       "    <tr>\n",
       "      <th>Category</th>\n",
       "      <th></th>\n",
       "      <th></th>\n",
       "    </tr>\n",
       "  </thead>\n",
       "  <tbody>\n",
       "    <tr>\n",
       "      <th>Expression Variants</th>\n",
       "      <td>12 / 894  (1.34%)</td>\n",
       "      <td>12 / 249  (4.82%)</td>\n",
       "    </tr>\n",
       "    <tr>\n",
       "      <th>Epigenetic Modification</th>\n",
       "      <td>0 / 894  (0.00%)</td>\n",
       "      <td>0 / 249  (0.00%)</td>\n",
       "    </tr>\n",
       "    <tr>\n",
       "      <th>Fusion Variants</th>\n",
       "      <td>0 / 894  (0.00%)</td>\n",
       "      <td>0 / 249  (0.00%)</td>\n",
       "    </tr>\n",
       "    <tr>\n",
       "      <th>Sequence Variants</th>\n",
       "      <td>424 / 894  (47.43%)</td>\n",
       "      <td>424 / 249  (170.28%)</td>\n",
       "    </tr>\n",
       "    <tr>\n",
       "      <th>Gene Function Variants</th>\n",
       "      <td>0 / 894  (0.00%)</td>\n",
       "      <td>0 / 249  (0.00%)</td>\n",
       "    </tr>\n",
       "    <tr>\n",
       "      <th>Rearrangement Variants</th>\n",
       "      <td>81 / 894  (9.06%)</td>\n",
       "      <td>81 / 249  (32.53%)</td>\n",
       "    </tr>\n",
       "    <tr>\n",
       "      <th>Copy Number Variants</th>\n",
       "      <td>29 / 894  (3.24%)</td>\n",
       "      <td>29 / 249  (11.65%)</td>\n",
       "    </tr>\n",
       "    <tr>\n",
       "      <th>Other Variants</th>\n",
       "      <td>23 / 894  (2.57%)</td>\n",
       "      <td>23 / 249  (9.24%)</td>\n",
       "    </tr>\n",
       "    <tr>\n",
       "      <th>Genotype Variants</th>\n",
       "      <td>0 / 894  (0.00%)</td>\n",
       "      <td>0 / 249  (0.00%)</td>\n",
       "    </tr>\n",
       "    <tr>\n",
       "      <th>Region Defined Variants</th>\n",
       "      <td>0 / 894  (0.00%)</td>\n",
       "      <td>0 / 249  (0.00%)</td>\n",
       "    </tr>\n",
       "    <tr>\n",
       "      <th>Transcript Variants</th>\n",
       "      <td>0 / 894  (0.00%)</td>\n",
       "      <td>0 / 249  (0.00%)</td>\n",
       "    </tr>\n",
       "  </tbody>\n",
       "</table>\n",
       "</div>"
      ],
      "text/plain": [
       "                        Percent of MOA Assertions  \\\n",
       "Category                                            \n",
       "Expression Variants             12 / 894  (1.34%)   \n",
       "Epigenetic Modification          0 / 894  (0.00%)   \n",
       "Fusion Variants                  0 / 894  (0.00%)   \n",
       "Sequence Variants             424 / 894  (47.43%)   \n",
       "Gene Function Variants           0 / 894  (0.00%)   \n",
       "Rearrangement Variants          81 / 894  (9.06%)   \n",
       "Copy Number Variants            29 / 894  (3.24%)   \n",
       "Other Variants                  23 / 894  (2.57%)   \n",
       "Genotype Variants                0 / 894  (0.00%)   \n",
       "Region Defined Variants          0 / 894  (0.00%)   \n",
       "Transcript Variants              0 / 894  (0.00%)   \n",
       "\n",
       "                        Percent of Not Supported Feature Assertions  \n",
       "Category                                                             \n",
       "Expression Variants                               12 / 249  (4.82%)  \n",
       "Epigenetic Modification                            0 / 249  (0.00%)  \n",
       "Fusion Variants                                    0 / 249  (0.00%)  \n",
       "Sequence Variants                              424 / 249  (170.28%)  \n",
       "Gene Function Variants                             0 / 249  (0.00%)  \n",
       "Rearrangement Variants                           81 / 249  (32.53%)  \n",
       "Copy Number Variants                             29 / 249  (11.65%)  \n",
       "Other Variants                                    23 / 249  (9.24%)  \n",
       "Genotype Variants                                  0 / 249  (0.00%)  \n",
       "Region Defined Variants                            0 / 249  (0.00%)  \n",
       "Transcript Variants                                0 / 249  (0.00%)  "
      ]
     },
     "execution_count": 52,
     "metadata": {},
     "output_type": "execute_result"
    }
   ],
   "source": [
    "not_supported_feature_assertion_df = pd.DataFrame(not_supported_feature_assertion_summary)\n",
    "not_supported_feature_assertion_df[\"Percent of MOA Assertions\"] = not_supported_feature_assertion_df[\"Fraction of MOA Assertions\"].astype(str) + \"  (\" + not_supported_feature_assertion_df[\"Percent of MOA Assertions\"] + \")\"\n",
    "not_supported_feature_assertion_df[\"Percent of Not Supported Feature Assertions\"] = not_supported_feature_assertion_df[\"Fraction of Not Supported Feature Assertions\"].astype(str) + \"  (\" + not_supported_feature_assertion_df[\"Percent of Not Supported Feature Assertions\"] + \")\"\n",
    "not_supported_feature_assertion_df = not_supported_feature_assertion_df.drop(columns=[\"Fraction of MOA Assertions\", \"Fraction of Not Supported Feature Assertions\"])\n",
    "not_supported_feature_assertion_df = not_supported_feature_assertion_df.set_index(\"Category\")\n",
    "not_supported_feature_assertion_df"
   ]
  },
  {
   "attachments": {},
   "cell_type": "markdown",
   "metadata": {},
   "source": [
    "## Impact"
   ]
  },
  {
   "attachments": {},
   "cell_type": "markdown",
   "metadata": {},
   "source": [
    "The bar graph below shows the relationship between the Not Suported variant sub category impact score and the sub category. Additionally, the colors illustrate the number of assertions (evidence items) associated each sub category."
   ]
  },
  {
   "cell_type": "code",
   "execution_count": 53,
   "metadata": {},
   "outputs": [],
   "source": [
    "not_supported_feature_impact_df = pd.DataFrame(not_supported_impact_summary)"
   ]
  },
  {
   "cell_type": "code",
   "execution_count": 54,
   "metadata": {},
   "outputs": [
    {
     "data": {
      "application/vnd.plotly.v1+json": {
       "config": {
        "plotlyServerURL": "https://plot.ly"
       },
       "data": [
        {
         "alignmentgroup": "True",
         "customdata": [
          [
           12
          ],
          [
           0
          ],
          [
           0
          ],
          [
           424
          ],
          [
           0
          ],
          [
           81
          ],
          [
           29
          ],
          [
           23
          ],
          [
           0
          ],
          [
           0
          ],
          [
           0
          ]
         ],
         "hovertemplate": "Category=%{x}<br>Total Sum Impact Score=%{y}<br>Total Number Assertions=%{marker.color}<extra></extra>",
         "legendgroup": "",
         "marker": {
          "color": [
           12,
           0,
           0,
           424,
           0,
           81,
           29,
           23,
           0,
           0,
           0
          ],
          "coloraxis": "coloraxis",
          "pattern": {
           "shape": ""
          }
         },
         "name": "",
         "offsetgroup": "",
         "orientation": "v",
         "showlegend": false,
         "textposition": "auto",
         "texttemplate": "%{y:.1f}",
         "type": "bar",
         "width": 1,
         "x": [
          "Expression Variants",
          "Epigenetic Modification",
          "Fusion Variants",
          "Sequence Variants",
          "Gene Function Variants",
          "Rearrangement Variants",
          "Copy Number Variants",
          "Other Variants",
          "Genotype Variants",
          "Region Defined Variants",
          "Transcript Variants"
         ],
         "xaxis": "x",
         "y": [
          11,
          0,
          0,
          1114,
          0,
          292,
          47,
          35,
          0,
          0,
          0
         ],
         "yaxis": "y"
        }
       ],
       "layout": {
        "barmode": "relative",
        "coloraxis": {
         "colorbar": {
          "title": {
           "text": "Total Number Assertions"
          }
         },
         "colorscale": [
          [
           0,
           "rgb(0, 128, 128)"
          ],
          [
           0.16666666666666666,
           "rgb(112, 164, 148)"
          ],
          [
           0.3333333333333333,
           "rgb(180, 200, 168)"
          ],
          [
           0.5,
           "rgb(246, 237, 189)"
          ],
          [
           0.6666666666666666,
           "rgb(237, 187, 138)"
          ],
          [
           0.8333333333333334,
           "rgb(222, 138, 90)"
          ],
          [
           1,
           "rgb(202, 86, 44)"
          ]
         ]
        },
        "legend": {
         "tracegroupgap": 0
        },
        "margin": {
         "t": 60
        },
        "template": {
         "data": {
          "bar": [
           {
            "error_x": {
             "color": "#2a3f5f"
            },
            "error_y": {
             "color": "#2a3f5f"
            },
            "marker": {
             "line": {
              "color": "#E5ECF6",
              "width": 0.5
             },
             "pattern": {
              "fillmode": "overlay",
              "size": 10,
              "solidity": 0.2
             }
            },
            "type": "bar"
           }
          ],
          "barpolar": [
           {
            "marker": {
             "line": {
              "color": "#E5ECF6",
              "width": 0.5
             },
             "pattern": {
              "fillmode": "overlay",
              "size": 10,
              "solidity": 0.2
             }
            },
            "type": "barpolar"
           }
          ],
          "carpet": [
           {
            "aaxis": {
             "endlinecolor": "#2a3f5f",
             "gridcolor": "white",
             "linecolor": "white",
             "minorgridcolor": "white",
             "startlinecolor": "#2a3f5f"
            },
            "baxis": {
             "endlinecolor": "#2a3f5f",
             "gridcolor": "white",
             "linecolor": "white",
             "minorgridcolor": "white",
             "startlinecolor": "#2a3f5f"
            },
            "type": "carpet"
           }
          ],
          "choropleth": [
           {
            "colorbar": {
             "outlinewidth": 0,
             "ticks": ""
            },
            "type": "choropleth"
           }
          ],
          "contour": [
           {
            "colorbar": {
             "outlinewidth": 0,
             "ticks": ""
            },
            "colorscale": [
             [
              0,
              "#0d0887"
             ],
             [
              0.1111111111111111,
              "#46039f"
             ],
             [
              0.2222222222222222,
              "#7201a8"
             ],
             [
              0.3333333333333333,
              "#9c179e"
             ],
             [
              0.4444444444444444,
              "#bd3786"
             ],
             [
              0.5555555555555556,
              "#d8576b"
             ],
             [
              0.6666666666666666,
              "#ed7953"
             ],
             [
              0.7777777777777778,
              "#fb9f3a"
             ],
             [
              0.8888888888888888,
              "#fdca26"
             ],
             [
              1,
              "#f0f921"
             ]
            ],
            "type": "contour"
           }
          ],
          "contourcarpet": [
           {
            "colorbar": {
             "outlinewidth": 0,
             "ticks": ""
            },
            "type": "contourcarpet"
           }
          ],
          "heatmap": [
           {
            "colorbar": {
             "outlinewidth": 0,
             "ticks": ""
            },
            "colorscale": [
             [
              0,
              "#0d0887"
             ],
             [
              0.1111111111111111,
              "#46039f"
             ],
             [
              0.2222222222222222,
              "#7201a8"
             ],
             [
              0.3333333333333333,
              "#9c179e"
             ],
             [
              0.4444444444444444,
              "#bd3786"
             ],
             [
              0.5555555555555556,
              "#d8576b"
             ],
             [
              0.6666666666666666,
              "#ed7953"
             ],
             [
              0.7777777777777778,
              "#fb9f3a"
             ],
             [
              0.8888888888888888,
              "#fdca26"
             ],
             [
              1,
              "#f0f921"
             ]
            ],
            "type": "heatmap"
           }
          ],
          "heatmapgl": [
           {
            "colorbar": {
             "outlinewidth": 0,
             "ticks": ""
            },
            "colorscale": [
             [
              0,
              "#0d0887"
             ],
             [
              0.1111111111111111,
              "#46039f"
             ],
             [
              0.2222222222222222,
              "#7201a8"
             ],
             [
              0.3333333333333333,
              "#9c179e"
             ],
             [
              0.4444444444444444,
              "#bd3786"
             ],
             [
              0.5555555555555556,
              "#d8576b"
             ],
             [
              0.6666666666666666,
              "#ed7953"
             ],
             [
              0.7777777777777778,
              "#fb9f3a"
             ],
             [
              0.8888888888888888,
              "#fdca26"
             ],
             [
              1,
              "#f0f921"
             ]
            ],
            "type": "heatmapgl"
           }
          ],
          "histogram": [
           {
            "marker": {
             "pattern": {
              "fillmode": "overlay",
              "size": 10,
              "solidity": 0.2
             }
            },
            "type": "histogram"
           }
          ],
          "histogram2d": [
           {
            "colorbar": {
             "outlinewidth": 0,
             "ticks": ""
            },
            "colorscale": [
             [
              0,
              "#0d0887"
             ],
             [
              0.1111111111111111,
              "#46039f"
             ],
             [
              0.2222222222222222,
              "#7201a8"
             ],
             [
              0.3333333333333333,
              "#9c179e"
             ],
             [
              0.4444444444444444,
              "#bd3786"
             ],
             [
              0.5555555555555556,
              "#d8576b"
             ],
             [
              0.6666666666666666,
              "#ed7953"
             ],
             [
              0.7777777777777778,
              "#fb9f3a"
             ],
             [
              0.8888888888888888,
              "#fdca26"
             ],
             [
              1,
              "#f0f921"
             ]
            ],
            "type": "histogram2d"
           }
          ],
          "histogram2dcontour": [
           {
            "colorbar": {
             "outlinewidth": 0,
             "ticks": ""
            },
            "colorscale": [
             [
              0,
              "#0d0887"
             ],
             [
              0.1111111111111111,
              "#46039f"
             ],
             [
              0.2222222222222222,
              "#7201a8"
             ],
             [
              0.3333333333333333,
              "#9c179e"
             ],
             [
              0.4444444444444444,
              "#bd3786"
             ],
             [
              0.5555555555555556,
              "#d8576b"
             ],
             [
              0.6666666666666666,
              "#ed7953"
             ],
             [
              0.7777777777777778,
              "#fb9f3a"
             ],
             [
              0.8888888888888888,
              "#fdca26"
             ],
             [
              1,
              "#f0f921"
             ]
            ],
            "type": "histogram2dcontour"
           }
          ],
          "mesh3d": [
           {
            "colorbar": {
             "outlinewidth": 0,
             "ticks": ""
            },
            "type": "mesh3d"
           }
          ],
          "parcoords": [
           {
            "line": {
             "colorbar": {
              "outlinewidth": 0,
              "ticks": ""
             }
            },
            "type": "parcoords"
           }
          ],
          "pie": [
           {
            "automargin": true,
            "type": "pie"
           }
          ],
          "scatter": [
           {
            "fillpattern": {
             "fillmode": "overlay",
             "size": 10,
             "solidity": 0.2
            },
            "type": "scatter"
           }
          ],
          "scatter3d": [
           {
            "line": {
             "colorbar": {
              "outlinewidth": 0,
              "ticks": ""
             }
            },
            "marker": {
             "colorbar": {
              "outlinewidth": 0,
              "ticks": ""
             }
            },
            "type": "scatter3d"
           }
          ],
          "scattercarpet": [
           {
            "marker": {
             "colorbar": {
              "outlinewidth": 0,
              "ticks": ""
             }
            },
            "type": "scattercarpet"
           }
          ],
          "scattergeo": [
           {
            "marker": {
             "colorbar": {
              "outlinewidth": 0,
              "ticks": ""
             }
            },
            "type": "scattergeo"
           }
          ],
          "scattergl": [
           {
            "marker": {
             "colorbar": {
              "outlinewidth": 0,
              "ticks": ""
             }
            },
            "type": "scattergl"
           }
          ],
          "scattermapbox": [
           {
            "marker": {
             "colorbar": {
              "outlinewidth": 0,
              "ticks": ""
             }
            },
            "type": "scattermapbox"
           }
          ],
          "scatterpolar": [
           {
            "marker": {
             "colorbar": {
              "outlinewidth": 0,
              "ticks": ""
             }
            },
            "type": "scatterpolar"
           }
          ],
          "scatterpolargl": [
           {
            "marker": {
             "colorbar": {
              "outlinewidth": 0,
              "ticks": ""
             }
            },
            "type": "scatterpolargl"
           }
          ],
          "scatterternary": [
           {
            "marker": {
             "colorbar": {
              "outlinewidth": 0,
              "ticks": ""
             }
            },
            "type": "scatterternary"
           }
          ],
          "surface": [
           {
            "colorbar": {
             "outlinewidth": 0,
             "ticks": ""
            },
            "colorscale": [
             [
              0,
              "#0d0887"
             ],
             [
              0.1111111111111111,
              "#46039f"
             ],
             [
              0.2222222222222222,
              "#7201a8"
             ],
             [
              0.3333333333333333,
              "#9c179e"
             ],
             [
              0.4444444444444444,
              "#bd3786"
             ],
             [
              0.5555555555555556,
              "#d8576b"
             ],
             [
              0.6666666666666666,
              "#ed7953"
             ],
             [
              0.7777777777777778,
              "#fb9f3a"
             ],
             [
              0.8888888888888888,
              "#fdca26"
             ],
             [
              1,
              "#f0f921"
             ]
            ],
            "type": "surface"
           }
          ],
          "table": [
           {
            "cells": {
             "fill": {
              "color": "#EBF0F8"
             },
             "line": {
              "color": "white"
             }
            },
            "header": {
             "fill": {
              "color": "#C8D4E3"
             },
             "line": {
              "color": "white"
             }
            },
            "type": "table"
           }
          ]
         },
         "layout": {
          "annotationdefaults": {
           "arrowcolor": "#2a3f5f",
           "arrowhead": 0,
           "arrowwidth": 1
          },
          "autotypenumbers": "strict",
          "coloraxis": {
           "colorbar": {
            "outlinewidth": 0,
            "ticks": ""
           }
          },
          "colorscale": {
           "diverging": [
            [
             0,
             "#8e0152"
            ],
            [
             0.1,
             "#c51b7d"
            ],
            [
             0.2,
             "#de77ae"
            ],
            [
             0.3,
             "#f1b6da"
            ],
            [
             0.4,
             "#fde0ef"
            ],
            [
             0.5,
             "#f7f7f7"
            ],
            [
             0.6,
             "#e6f5d0"
            ],
            [
             0.7,
             "#b8e186"
            ],
            [
             0.8,
             "#7fbc41"
            ],
            [
             0.9,
             "#4d9221"
            ],
            [
             1,
             "#276419"
            ]
           ],
           "sequential": [
            [
             0,
             "#0d0887"
            ],
            [
             0.1111111111111111,
             "#46039f"
            ],
            [
             0.2222222222222222,
             "#7201a8"
            ],
            [
             0.3333333333333333,
             "#9c179e"
            ],
            [
             0.4444444444444444,
             "#bd3786"
            ],
            [
             0.5555555555555556,
             "#d8576b"
            ],
            [
             0.6666666666666666,
             "#ed7953"
            ],
            [
             0.7777777777777778,
             "#fb9f3a"
            ],
            [
             0.8888888888888888,
             "#fdca26"
            ],
            [
             1,
             "#f0f921"
            ]
           ],
           "sequentialminus": [
            [
             0,
             "#0d0887"
            ],
            [
             0.1111111111111111,
             "#46039f"
            ],
            [
             0.2222222222222222,
             "#7201a8"
            ],
            [
             0.3333333333333333,
             "#9c179e"
            ],
            [
             0.4444444444444444,
             "#bd3786"
            ],
            [
             0.5555555555555556,
             "#d8576b"
            ],
            [
             0.6666666666666666,
             "#ed7953"
            ],
            [
             0.7777777777777778,
             "#fb9f3a"
            ],
            [
             0.8888888888888888,
             "#fdca26"
            ],
            [
             1,
             "#f0f921"
            ]
           ]
          },
          "colorway": [
           "#636efa",
           "#EF553B",
           "#00cc96",
           "#ab63fa",
           "#FFA15A",
           "#19d3f3",
           "#FF6692",
           "#B6E880",
           "#FF97FF",
           "#FECB52"
          ],
          "font": {
           "color": "#2a3f5f"
          },
          "geo": {
           "bgcolor": "white",
           "lakecolor": "white",
           "landcolor": "#E5ECF6",
           "showlakes": true,
           "showland": true,
           "subunitcolor": "white"
          },
          "hoverlabel": {
           "align": "left"
          },
          "hovermode": "closest",
          "mapbox": {
           "style": "light"
          },
          "paper_bgcolor": "white",
          "plot_bgcolor": "#E5ECF6",
          "polar": {
           "angularaxis": {
            "gridcolor": "white",
            "linecolor": "white",
            "ticks": ""
           },
           "bgcolor": "#E5ECF6",
           "radialaxis": {
            "gridcolor": "white",
            "linecolor": "white",
            "ticks": ""
           }
          },
          "scene": {
           "xaxis": {
            "backgroundcolor": "#E5ECF6",
            "gridcolor": "white",
            "gridwidth": 2,
            "linecolor": "white",
            "showbackground": true,
            "ticks": "",
            "zerolinecolor": "white"
           },
           "yaxis": {
            "backgroundcolor": "#E5ECF6",
            "gridcolor": "white",
            "gridwidth": 2,
            "linecolor": "white",
            "showbackground": true,
            "ticks": "",
            "zerolinecolor": "white"
           },
           "zaxis": {
            "backgroundcolor": "#E5ECF6",
            "gridcolor": "white",
            "gridwidth": 2,
            "linecolor": "white",
            "showbackground": true,
            "ticks": "",
            "zerolinecolor": "white"
           }
          },
          "shapedefaults": {
           "line": {
            "color": "#2a3f5f"
           }
          },
          "ternary": {
           "aaxis": {
            "gridcolor": "white",
            "linecolor": "white",
            "ticks": ""
           },
           "baxis": {
            "gridcolor": "white",
            "linecolor": "white",
            "ticks": ""
           },
           "bgcolor": "#E5ECF6",
           "caxis": {
            "gridcolor": "white",
            "linecolor": "white",
            "ticks": ""
           }
          },
          "title": {
           "x": 0.05
          },
          "xaxis": {
           "automargin": true,
           "gridcolor": "white",
           "linecolor": "white",
           "ticks": "",
           "title": {
            "standoff": 15
           },
           "zerolinecolor": "white",
           "zerolinewidth": 2
          },
          "yaxis": {
           "automargin": true,
           "gridcolor": "white",
           "linecolor": "white",
           "ticks": "",
           "title": {
            "standoff": 15
           },
           "zerolinecolor": "white",
           "zerolinewidth": 2
          }
         }
        },
        "xaxis": {
         "anchor": "y",
         "domain": [
          0,
          1
         ],
         "title": {
          "text": "Category"
         }
        },
        "yaxis": {
         "anchor": "x",
         "domain": [
          0,
          1
         ],
         "title": {
          "text": "Total Sum Impact Score"
         }
        }
       }
      }
     },
     "metadata": {},
     "output_type": "display_data"
    }
   ],
   "source": [
    "fig = px.bar(\n",
    "    not_supported_feature_impact_df,\n",
    "    x=\"Category\",\n",
    "    y=\"Total Sum Impact Score\",\n",
    "    hover_data=[\"Total Number Assertions\"],\n",
    "    color=\"Total Number Assertions\",\n",
    "    labels={\"Total Sum Impact Score\": \"Total Sum Impact Score\"},\n",
    "    text_auto=\".1f\",\n",
    "    color_continuous_scale=\"geyser\"\n",
    ")\n",
    "fig.update_traces(width=1)\n",
    "fig.show()"
   ]
  },
  {
   "cell_type": "code",
   "execution_count": 55,
   "metadata": {},
   "outputs": [],
   "source": [
    "fig.write_html(\"moa_ns_categories_impact_redgreen.html\")"
   ]
  },
  {
   "attachments": {},
   "cell_type": "markdown",
   "metadata": {},
   "source": [
    "The scatterplot below shows the relationship between the Not Suported variant sub category impact score and the number of assertions (evidence items) associated with features (variants) in each sub category. Additionally, the sizes of the data point represent the number of features (variants) in each sub category. "
   ]
  },
  {
   "cell_type": "code",
   "execution_count": 56,
   "metadata": {},
   "outputs": [
    {
     "data": {
      "application/vnd.plotly.v1+json": {
       "config": {
        "plotlyServerURL": "https://plot.ly"
       },
       "data": [
        {
         "hovertemplate": "Category=Expression Variants<br>Total Number Assertions=%{x}<br>Total Sum Impact Score=%{y}<br>Total Number Features=%{text}<extra></extra>",
         "legendgroup": "Expression Variants",
         "marker": {
          "color": "#636efa",
          "size": [
           11
          ],
          "sizemode": "area",
          "sizeref": 0.10875,
          "symbol": "circle"
         },
         "mode": "markers+text",
         "name": "Expression Variants",
         "orientation": "v",
         "showlegend": true,
         "text": [
          11
         ],
         "type": "scatter",
         "x": [
          12
         ],
         "xaxis": "x",
         "y": [
          11
         ],
         "yaxis": "y"
        },
        {
         "hovertemplate": "Category=Epigenetic Modification<br>Total Number Assertions=%{x}<br>Total Sum Impact Score=%{y}<br>Total Number Features=%{text}<extra></extra>",
         "legendgroup": "Epigenetic Modification",
         "marker": {
          "color": "#EF553B",
          "size": [
           0
          ],
          "sizemode": "area",
          "sizeref": 0.10875,
          "symbol": "circle"
         },
         "mode": "markers+text",
         "name": "Epigenetic Modification",
         "orientation": "v",
         "showlegend": true,
         "text": [
          0
         ],
         "type": "scatter",
         "x": [
          0
         ],
         "xaxis": "x",
         "y": [
          0
         ],
         "yaxis": "y"
        },
        {
         "hovertemplate": "Category=Fusion Variants<br>Total Number Assertions=%{x}<br>Total Sum Impact Score=%{y}<br>Total Number Features=%{text}<extra></extra>",
         "legendgroup": "Fusion Variants",
         "marker": {
          "color": "#00cc96",
          "size": [
           0
          ],
          "sizemode": "area",
          "sizeref": 0.10875,
          "symbol": "circle"
         },
         "mode": "markers+text",
         "name": "Fusion Variants",
         "orientation": "v",
         "showlegend": true,
         "text": [
          0
         ],
         "type": "scatter",
         "x": [
          0
         ],
         "xaxis": "x",
         "y": [
          0
         ],
         "yaxis": "y"
        },
        {
         "hovertemplate": "Category=Sequence Variants<br>Total Number Assertions=%{x}<br>Total Sum Impact Score=%{y}<br>Total Number Features=%{text}<extra></extra>",
         "legendgroup": "Sequence Variants",
         "marker": {
          "color": "#ab63fa",
          "size": [
           174
          ],
          "sizemode": "area",
          "sizeref": 0.10875,
          "symbol": "circle"
         },
         "mode": "markers+text",
         "name": "Sequence Variants",
         "orientation": "v",
         "showlegend": true,
         "text": [
          174
         ],
         "type": "scatter",
         "x": [
          424
         ],
         "xaxis": "x",
         "y": [
          1114
         ],
         "yaxis": "y"
        },
        {
         "hovertemplate": "Category=Gene Function Variants<br>Total Number Assertions=%{x}<br>Total Sum Impact Score=%{y}<br>Total Number Features=%{text}<extra></extra>",
         "legendgroup": "Gene Function Variants",
         "marker": {
          "color": "#FFA15A",
          "size": [
           0
          ],
          "sizemode": "area",
          "sizeref": 0.10875,
          "symbol": "circle"
         },
         "mode": "markers+text",
         "name": "Gene Function Variants",
         "orientation": "v",
         "showlegend": true,
         "text": [
          0
         ],
         "type": "scatter",
         "x": [
          0
         ],
         "xaxis": "x",
         "y": [
          0
         ],
         "yaxis": "y"
        },
        {
         "hovertemplate": "Category=Rearrangement Variants<br>Total Number Assertions=%{x}<br>Total Sum Impact Score=%{y}<br>Total Number Features=%{text}<extra></extra>",
         "legendgroup": "Rearrangement Variants",
         "marker": {
          "color": "#19d3f3",
          "size": [
           38
          ],
          "sizemode": "area",
          "sizeref": 0.10875,
          "symbol": "circle"
         },
         "mode": "markers+text",
         "name": "Rearrangement Variants",
         "orientation": "v",
         "showlegend": true,
         "text": [
          38
         ],
         "type": "scatter",
         "x": [
          81
         ],
         "xaxis": "x",
         "y": [
          292
         ],
         "yaxis": "y"
        },
        {
         "hovertemplate": "Category=Copy Number Variants<br>Total Number Assertions=%{x}<br>Total Sum Impact Score=%{y}<br>Total Number Features=%{text}<extra></extra>",
         "legendgroup": "Copy Number Variants",
         "marker": {
          "color": "#FF6692",
          "size": [
           17
          ],
          "sizemode": "area",
          "sizeref": 0.10875,
          "symbol": "circle"
         },
         "mode": "markers+text",
         "name": "Copy Number Variants",
         "orientation": "v",
         "showlegend": true,
         "text": [
          17
         ],
         "type": "scatter",
         "x": [
          29
         ],
         "xaxis": "x",
         "y": [
          47
         ],
         "yaxis": "y"
        },
        {
         "hovertemplate": "Category=Other Variants<br>Total Number Assertions=%{x}<br>Total Sum Impact Score=%{y}<br>Total Number Features=%{text}<extra></extra>",
         "legendgroup": "Other Variants",
         "marker": {
          "color": "#B6E880",
          "size": [
           9
          ],
          "sizemode": "area",
          "sizeref": 0.10875,
          "symbol": "circle"
         },
         "mode": "markers+text",
         "name": "Other Variants",
         "orientation": "v",
         "showlegend": true,
         "text": [
          9
         ],
         "type": "scatter",
         "x": [
          23
         ],
         "xaxis": "x",
         "y": [
          35
         ],
         "yaxis": "y"
        },
        {
         "hovertemplate": "Category=Genotype Variants<br>Total Number Assertions=%{x}<br>Total Sum Impact Score=%{y}<br>Total Number Features=%{text}<extra></extra>",
         "legendgroup": "Genotype Variants",
         "marker": {
          "color": "#FF97FF",
          "size": [
           0
          ],
          "sizemode": "area",
          "sizeref": 0.10875,
          "symbol": "circle"
         },
         "mode": "markers+text",
         "name": "Genotype Variants",
         "orientation": "v",
         "showlegend": true,
         "text": [
          0
         ],
         "type": "scatter",
         "x": [
          0
         ],
         "xaxis": "x",
         "y": [
          0
         ],
         "yaxis": "y"
        },
        {
         "hovertemplate": "Category=Region Defined Variants<br>Total Number Assertions=%{x}<br>Total Sum Impact Score=%{y}<br>Total Number Features=%{text}<extra></extra>",
         "legendgroup": "Region Defined Variants",
         "marker": {
          "color": "#FECB52",
          "size": [
           0
          ],
          "sizemode": "area",
          "sizeref": 0.10875,
          "symbol": "circle"
         },
         "mode": "markers+text",
         "name": "Region Defined Variants",
         "orientation": "v",
         "showlegend": true,
         "text": [
          0
         ],
         "type": "scatter",
         "x": [
          0
         ],
         "xaxis": "x",
         "y": [
          0
         ],
         "yaxis": "y"
        },
        {
         "hovertemplate": "Category=Transcript Variants<br>Total Number Assertions=%{x}<br>Total Sum Impact Score=%{y}<br>Total Number Features=%{text}<extra></extra>",
         "legendgroup": "Transcript Variants",
         "marker": {
          "color": "#636efa",
          "size": [
           0
          ],
          "sizemode": "area",
          "sizeref": 0.10875,
          "symbol": "circle"
         },
         "mode": "markers+text",
         "name": "Transcript Variants",
         "orientation": "v",
         "showlegend": true,
         "text": [
          0
         ],
         "type": "scatter",
         "x": [
          0
         ],
         "xaxis": "x",
         "y": [
          0
         ],
         "yaxis": "y"
        }
       ],
       "layout": {
        "legend": {
         "itemsizing": "constant",
         "title": {
          "text": "Category"
         },
         "tracegroupgap": 0
        },
        "margin": {
         "t": 60
        },
        "template": {
         "data": {
          "bar": [
           {
            "error_x": {
             "color": "#2a3f5f"
            },
            "error_y": {
             "color": "#2a3f5f"
            },
            "marker": {
             "line": {
              "color": "#E5ECF6",
              "width": 0.5
             },
             "pattern": {
              "fillmode": "overlay",
              "size": 10,
              "solidity": 0.2
             }
            },
            "type": "bar"
           }
          ],
          "barpolar": [
           {
            "marker": {
             "line": {
              "color": "#E5ECF6",
              "width": 0.5
             },
             "pattern": {
              "fillmode": "overlay",
              "size": 10,
              "solidity": 0.2
             }
            },
            "type": "barpolar"
           }
          ],
          "carpet": [
           {
            "aaxis": {
             "endlinecolor": "#2a3f5f",
             "gridcolor": "white",
             "linecolor": "white",
             "minorgridcolor": "white",
             "startlinecolor": "#2a3f5f"
            },
            "baxis": {
             "endlinecolor": "#2a3f5f",
             "gridcolor": "white",
             "linecolor": "white",
             "minorgridcolor": "white",
             "startlinecolor": "#2a3f5f"
            },
            "type": "carpet"
           }
          ],
          "choropleth": [
           {
            "colorbar": {
             "outlinewidth": 0,
             "ticks": ""
            },
            "type": "choropleth"
           }
          ],
          "contour": [
           {
            "colorbar": {
             "outlinewidth": 0,
             "ticks": ""
            },
            "colorscale": [
             [
              0,
              "#0d0887"
             ],
             [
              0.1111111111111111,
              "#46039f"
             ],
             [
              0.2222222222222222,
              "#7201a8"
             ],
             [
              0.3333333333333333,
              "#9c179e"
             ],
             [
              0.4444444444444444,
              "#bd3786"
             ],
             [
              0.5555555555555556,
              "#d8576b"
             ],
             [
              0.6666666666666666,
              "#ed7953"
             ],
             [
              0.7777777777777778,
              "#fb9f3a"
             ],
             [
              0.8888888888888888,
              "#fdca26"
             ],
             [
              1,
              "#f0f921"
             ]
            ],
            "type": "contour"
           }
          ],
          "contourcarpet": [
           {
            "colorbar": {
             "outlinewidth": 0,
             "ticks": ""
            },
            "type": "contourcarpet"
           }
          ],
          "heatmap": [
           {
            "colorbar": {
             "outlinewidth": 0,
             "ticks": ""
            },
            "colorscale": [
             [
              0,
              "#0d0887"
             ],
             [
              0.1111111111111111,
              "#46039f"
             ],
             [
              0.2222222222222222,
              "#7201a8"
             ],
             [
              0.3333333333333333,
              "#9c179e"
             ],
             [
              0.4444444444444444,
              "#bd3786"
             ],
             [
              0.5555555555555556,
              "#d8576b"
             ],
             [
              0.6666666666666666,
              "#ed7953"
             ],
             [
              0.7777777777777778,
              "#fb9f3a"
             ],
             [
              0.8888888888888888,
              "#fdca26"
             ],
             [
              1,
              "#f0f921"
             ]
            ],
            "type": "heatmap"
           }
          ],
          "heatmapgl": [
           {
            "colorbar": {
             "outlinewidth": 0,
             "ticks": ""
            },
            "colorscale": [
             [
              0,
              "#0d0887"
             ],
             [
              0.1111111111111111,
              "#46039f"
             ],
             [
              0.2222222222222222,
              "#7201a8"
             ],
             [
              0.3333333333333333,
              "#9c179e"
             ],
             [
              0.4444444444444444,
              "#bd3786"
             ],
             [
              0.5555555555555556,
              "#d8576b"
             ],
             [
              0.6666666666666666,
              "#ed7953"
             ],
             [
              0.7777777777777778,
              "#fb9f3a"
             ],
             [
              0.8888888888888888,
              "#fdca26"
             ],
             [
              1,
              "#f0f921"
             ]
            ],
            "type": "heatmapgl"
           }
          ],
          "histogram": [
           {
            "marker": {
             "pattern": {
              "fillmode": "overlay",
              "size": 10,
              "solidity": 0.2
             }
            },
            "type": "histogram"
           }
          ],
          "histogram2d": [
           {
            "colorbar": {
             "outlinewidth": 0,
             "ticks": ""
            },
            "colorscale": [
             [
              0,
              "#0d0887"
             ],
             [
              0.1111111111111111,
              "#46039f"
             ],
             [
              0.2222222222222222,
              "#7201a8"
             ],
             [
              0.3333333333333333,
              "#9c179e"
             ],
             [
              0.4444444444444444,
              "#bd3786"
             ],
             [
              0.5555555555555556,
              "#d8576b"
             ],
             [
              0.6666666666666666,
              "#ed7953"
             ],
             [
              0.7777777777777778,
              "#fb9f3a"
             ],
             [
              0.8888888888888888,
              "#fdca26"
             ],
             [
              1,
              "#f0f921"
             ]
            ],
            "type": "histogram2d"
           }
          ],
          "histogram2dcontour": [
           {
            "colorbar": {
             "outlinewidth": 0,
             "ticks": ""
            },
            "colorscale": [
             [
              0,
              "#0d0887"
             ],
             [
              0.1111111111111111,
              "#46039f"
             ],
             [
              0.2222222222222222,
              "#7201a8"
             ],
             [
              0.3333333333333333,
              "#9c179e"
             ],
             [
              0.4444444444444444,
              "#bd3786"
             ],
             [
              0.5555555555555556,
              "#d8576b"
             ],
             [
              0.6666666666666666,
              "#ed7953"
             ],
             [
              0.7777777777777778,
              "#fb9f3a"
             ],
             [
              0.8888888888888888,
              "#fdca26"
             ],
             [
              1,
              "#f0f921"
             ]
            ],
            "type": "histogram2dcontour"
           }
          ],
          "mesh3d": [
           {
            "colorbar": {
             "outlinewidth": 0,
             "ticks": ""
            },
            "type": "mesh3d"
           }
          ],
          "parcoords": [
           {
            "line": {
             "colorbar": {
              "outlinewidth": 0,
              "ticks": ""
             }
            },
            "type": "parcoords"
           }
          ],
          "pie": [
           {
            "automargin": true,
            "type": "pie"
           }
          ],
          "scatter": [
           {
            "fillpattern": {
             "fillmode": "overlay",
             "size": 10,
             "solidity": 0.2
            },
            "type": "scatter"
           }
          ],
          "scatter3d": [
           {
            "line": {
             "colorbar": {
              "outlinewidth": 0,
              "ticks": ""
             }
            },
            "marker": {
             "colorbar": {
              "outlinewidth": 0,
              "ticks": ""
             }
            },
            "type": "scatter3d"
           }
          ],
          "scattercarpet": [
           {
            "marker": {
             "colorbar": {
              "outlinewidth": 0,
              "ticks": ""
             }
            },
            "type": "scattercarpet"
           }
          ],
          "scattergeo": [
           {
            "marker": {
             "colorbar": {
              "outlinewidth": 0,
              "ticks": ""
             }
            },
            "type": "scattergeo"
           }
          ],
          "scattergl": [
           {
            "marker": {
             "colorbar": {
              "outlinewidth": 0,
              "ticks": ""
             }
            },
            "type": "scattergl"
           }
          ],
          "scattermapbox": [
           {
            "marker": {
             "colorbar": {
              "outlinewidth": 0,
              "ticks": ""
             }
            },
            "type": "scattermapbox"
           }
          ],
          "scatterpolar": [
           {
            "marker": {
             "colorbar": {
              "outlinewidth": 0,
              "ticks": ""
             }
            },
            "type": "scatterpolar"
           }
          ],
          "scatterpolargl": [
           {
            "marker": {
             "colorbar": {
              "outlinewidth": 0,
              "ticks": ""
             }
            },
            "type": "scatterpolargl"
           }
          ],
          "scatterternary": [
           {
            "marker": {
             "colorbar": {
              "outlinewidth": 0,
              "ticks": ""
             }
            },
            "type": "scatterternary"
           }
          ],
          "surface": [
           {
            "colorbar": {
             "outlinewidth": 0,
             "ticks": ""
            },
            "colorscale": [
             [
              0,
              "#0d0887"
             ],
             [
              0.1111111111111111,
              "#46039f"
             ],
             [
              0.2222222222222222,
              "#7201a8"
             ],
             [
              0.3333333333333333,
              "#9c179e"
             ],
             [
              0.4444444444444444,
              "#bd3786"
             ],
             [
              0.5555555555555556,
              "#d8576b"
             ],
             [
              0.6666666666666666,
              "#ed7953"
             ],
             [
              0.7777777777777778,
              "#fb9f3a"
             ],
             [
              0.8888888888888888,
              "#fdca26"
             ],
             [
              1,
              "#f0f921"
             ]
            ],
            "type": "surface"
           }
          ],
          "table": [
           {
            "cells": {
             "fill": {
              "color": "#EBF0F8"
             },
             "line": {
              "color": "white"
             }
            },
            "header": {
             "fill": {
              "color": "#C8D4E3"
             },
             "line": {
              "color": "white"
             }
            },
            "type": "table"
           }
          ]
         },
         "layout": {
          "annotationdefaults": {
           "arrowcolor": "#2a3f5f",
           "arrowhead": 0,
           "arrowwidth": 1
          },
          "autotypenumbers": "strict",
          "coloraxis": {
           "colorbar": {
            "outlinewidth": 0,
            "ticks": ""
           }
          },
          "colorscale": {
           "diverging": [
            [
             0,
             "#8e0152"
            ],
            [
             0.1,
             "#c51b7d"
            ],
            [
             0.2,
             "#de77ae"
            ],
            [
             0.3,
             "#f1b6da"
            ],
            [
             0.4,
             "#fde0ef"
            ],
            [
             0.5,
             "#f7f7f7"
            ],
            [
             0.6,
             "#e6f5d0"
            ],
            [
             0.7,
             "#b8e186"
            ],
            [
             0.8,
             "#7fbc41"
            ],
            [
             0.9,
             "#4d9221"
            ],
            [
             1,
             "#276419"
            ]
           ],
           "sequential": [
            [
             0,
             "#0d0887"
            ],
            [
             0.1111111111111111,
             "#46039f"
            ],
            [
             0.2222222222222222,
             "#7201a8"
            ],
            [
             0.3333333333333333,
             "#9c179e"
            ],
            [
             0.4444444444444444,
             "#bd3786"
            ],
            [
             0.5555555555555556,
             "#d8576b"
            ],
            [
             0.6666666666666666,
             "#ed7953"
            ],
            [
             0.7777777777777778,
             "#fb9f3a"
            ],
            [
             0.8888888888888888,
             "#fdca26"
            ],
            [
             1,
             "#f0f921"
            ]
           ],
           "sequentialminus": [
            [
             0,
             "#0d0887"
            ],
            [
             0.1111111111111111,
             "#46039f"
            ],
            [
             0.2222222222222222,
             "#7201a8"
            ],
            [
             0.3333333333333333,
             "#9c179e"
            ],
            [
             0.4444444444444444,
             "#bd3786"
            ],
            [
             0.5555555555555556,
             "#d8576b"
            ],
            [
             0.6666666666666666,
             "#ed7953"
            ],
            [
             0.7777777777777778,
             "#fb9f3a"
            ],
            [
             0.8888888888888888,
             "#fdca26"
            ],
            [
             1,
             "#f0f921"
            ]
           ]
          },
          "colorway": [
           "#636efa",
           "#EF553B",
           "#00cc96",
           "#ab63fa",
           "#FFA15A",
           "#19d3f3",
           "#FF6692",
           "#B6E880",
           "#FF97FF",
           "#FECB52"
          ],
          "font": {
           "color": "#2a3f5f"
          },
          "geo": {
           "bgcolor": "white",
           "lakecolor": "white",
           "landcolor": "#E5ECF6",
           "showlakes": true,
           "showland": true,
           "subunitcolor": "white"
          },
          "hoverlabel": {
           "align": "left"
          },
          "hovermode": "closest",
          "mapbox": {
           "style": "light"
          },
          "paper_bgcolor": "white",
          "plot_bgcolor": "#E5ECF6",
          "polar": {
           "angularaxis": {
            "gridcolor": "white",
            "linecolor": "white",
            "ticks": ""
           },
           "bgcolor": "#E5ECF6",
           "radialaxis": {
            "gridcolor": "white",
            "linecolor": "white",
            "ticks": ""
           }
          },
          "scene": {
           "xaxis": {
            "backgroundcolor": "#E5ECF6",
            "gridcolor": "white",
            "gridwidth": 2,
            "linecolor": "white",
            "showbackground": true,
            "ticks": "",
            "zerolinecolor": "white"
           },
           "yaxis": {
            "backgroundcolor": "#E5ECF6",
            "gridcolor": "white",
            "gridwidth": 2,
            "linecolor": "white",
            "showbackground": true,
            "ticks": "",
            "zerolinecolor": "white"
           },
           "zaxis": {
            "backgroundcolor": "#E5ECF6",
            "gridcolor": "white",
            "gridwidth": 2,
            "linecolor": "white",
            "showbackground": true,
            "ticks": "",
            "zerolinecolor": "white"
           }
          },
          "shapedefaults": {
           "line": {
            "color": "#2a3f5f"
           }
          },
          "ternary": {
           "aaxis": {
            "gridcolor": "white",
            "linecolor": "white",
            "ticks": ""
           },
           "baxis": {
            "gridcolor": "white",
            "linecolor": "white",
            "ticks": ""
           },
           "bgcolor": "#E5ECF6",
           "caxis": {
            "gridcolor": "white",
            "linecolor": "white",
            "ticks": ""
           }
          },
          "title": {
           "x": 0.05
          },
          "xaxis": {
           "automargin": true,
           "gridcolor": "white",
           "linecolor": "white",
           "ticks": "",
           "title": {
            "standoff": 15
           },
           "zerolinecolor": "white",
           "zerolinewidth": 2
          },
          "yaxis": {
           "automargin": true,
           "gridcolor": "white",
           "linecolor": "white",
           "ticks": "",
           "title": {
            "standoff": 15
           },
           "zerolinecolor": "white",
           "zerolinewidth": 2
          }
         }
        },
        "xaxis": {
         "anchor": "y",
         "domain": [
          0,
          1
         ],
         "title": {
          "text": "Total Number Assertions"
         }
        },
        "yaxis": {
         "anchor": "x",
         "domain": [
          0,
          1
         ],
         "title": {
          "text": "Total Sum Impact Score"
         }
        }
       }
      }
     },
     "metadata": {},
     "output_type": "display_data"
    }
   ],
   "source": [
    "fig2 = px.scatter(\n",
    "    data_frame=not_supported_feature_impact_df,\n",
    "    x=\"Total Number Assertions\",\n",
    "    y=\"Total Sum Impact Score\",\n",
    "    size=\"Total Number Features\",\n",
    "    size_max=40,\n",
    "    text=\"Total Number Features\",\n",
    "    color=\"Category\"\n",
    ")\n",
    "fig2.show()"
   ]
  },
  {
   "cell_type": "code",
   "execution_count": 57,
   "metadata": {},
   "outputs": [],
   "source": [
    "fig2.write_html(\"moa_ns_categories_impact_scatterplot.html\")"
   ]
  }
 ],
 "metadata": {
  "kernelspec": {
   "display_name": ".venv",
   "language": "python",
   "name": "python3"
  },
  "language_info": {
   "codemirror_mode": {
    "name": "ipython",
    "version": 3
   },
   "file_extension": ".py",
   "mimetype": "text/x-python",
   "name": "python",
   "nbconvert_exporter": "python",
   "pygments_lexer": "ipython3",
   "version": "3.11.3"
  },
  "orig_nbformat": 4
 },
 "nbformat": 4,
 "nbformat_minor": 2
}
