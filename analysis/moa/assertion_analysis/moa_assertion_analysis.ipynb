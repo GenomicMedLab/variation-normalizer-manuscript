{
 "cells": [
  {
   "cell_type": "markdown",
   "metadata": {},
   "source": [
    "# <a id='toc1_'></a>[Molecular Oncology Almanac Assertion Analysis](#toc0_)"
   ]
  },
  {
   "attachments": {},
   "cell_type": "markdown",
   "metadata": {},
   "source": [
    "MOA evidence items are referred to as assertions and MOA variants are referred to as features in this analysis. \n",
    "\n",
    "The moa_features_analysis notebook is a prerequisite to thus notebook as it will update the cache"
   ]
  },
  {
   "cell_type": "markdown",
   "metadata": {},
   "source": [
    "**Table of contents**<a id='toc0_'></a>    \n",
    "- [Molecular Oncology Almanac Assertion Analysis](#toc1_)    \n",
    "  - [Initialize](#toc1_1_)    \n",
    "    - [Import necessary libraries](#toc1_1_1_)    \n",
    "    - [Create output directory](#toc1_1_2_)    \n",
    "  - [Create analysis functions / global variables](#toc1_2_)    \n",
    "  - [All Features (Variants) Analysis](#toc1_3_)    \n",
    "    - [Creating a table with feature (variant) and assertion (evidence) information](#toc1_3_1_)    \n",
    "    - [Converting feature (variant) types to normalized categories](#toc1_3_2_)    \n",
    "    - [Adding a numerical impact score based on the predictive implication](#toc1_3_3_)    \n",
    "    - [Impact Score Analysis](#toc1_3_4_)    \n",
    "    - [Features (Variants) Analysis](#toc1_3_5_)    \n",
    "    - [Assertions (Evidence Items) Analysis](#toc1_3_6_)    \n",
    "    - [Summaries for all Features (Variants) and Assertions (Evidence Items)](#toc1_3_7_)    \n",
    "  - [Create functions / global variables used in analysis](#toc1_4_)    \n",
    "  - [Normalized Analysis](#toc1_5_)    \n",
    "  - [Not Supported Analysis](#toc1_6_)    \n",
    "    - [Feature (Variant) Analysis](#toc1_6_1_)    \n",
    "    - [Not Supported Feature (Variant) Analysis by Subcategory](#toc1_6_2_)    \n",
    "    - [Not Support Feature (Variant) Assertion (Evidence) Analysis by Subcategory](#toc1_6_3_)    \n",
    "    - [Impact Score Analysis by Subcategory](#toc1_6_4_)    \n",
    "- [MOA Summary](#toc2_)    \n",
    "  - [Feature (Variant) Analysis](#toc2_1_)    \n",
    "    - [Building Summary Tables 1 - 3](#toc2_1_1_)    \n",
    "    - [Summary Table 1](#toc2_1_2_)    \n",
    "    - [Summary Table 2](#toc2_1_3_)    \n",
    "    - [Summary Table 3](#toc2_1_4_)    \n",
    "  - [Evidence Analysis](#toc2_2_)    \n",
    "    - [Building Summary Table 4](#toc2_2_1_)    \n",
    "    - [Summary Table 4](#toc2_2_2_)    \n",
    "    - [Building Sumary Tables 5 & 6](#toc2_2_3_)    \n",
    "    - [Summary Table 5](#toc2_2_4_)    \n",
    "    - [Summary Table 6](#toc2_2_5_)    \n",
    "  - [Impact](#toc2_3_)    \n",
    "\n",
    "<!-- vscode-jupyter-toc-config\n",
    "\tnumbering=false\n",
    "\tanchor=true\n",
    "\tflat=false\n",
    "\tminLevel=1\n",
    "\tmaxLevel=6\n",
    "\t/vscode-jupyter-toc-config -->\n",
    "<!-- THIS CELL WILL BE REPLACED ON TOC UPDATE. DO NOT WRITE YOUR TEXT IN THIS CELL -->"
   ]
  },
  {
   "cell_type": "markdown",
   "metadata": {},
   "source": [
    "## <a id='toc1_1_'></a>[Initialize](#toc0_)"
   ]
  },
  {
   "cell_type": "markdown",
   "metadata": {},
   "source": [
    "### <a id='toc1_1_1_'></a>[Import necessary libraries](#toc0_)"
   ]
  },
  {
   "cell_type": "code",
   "execution_count": 190,
   "metadata": {},
   "outputs": [],
   "source": [
    "from enum import Enum\n",
    "from typing import Dict\n",
    "import json\n",
    "from pathlib import Path\n",
    "import pandas as pd\n",
    "import plotly.express as px\n",
    "from ga4gh.core import sha512t24u\n",
    "import zipfile"
   ]
  },
  {
   "cell_type": "markdown",
   "metadata": {},
   "source": [
    "### <a id='toc1_1_2_'></a>[Create output directory](#toc0_)"
   ]
  },
  {
   "cell_type": "code",
   "execution_count": 191,
   "metadata": {},
   "outputs": [],
   "source": [
    "path = Path(\"moa_assertion_analysis_output\")\n",
    "path.mkdir(exist_ok=True)"
   ]
  },
  {
   "cell_type": "markdown",
   "metadata": {},
   "source": [
    "## <a id='toc1_2_'></a>[Create analysis functions / global variables](#toc0_)"
   ]
  },
  {
   "cell_type": "code",
   "execution_count": 192,
   "metadata": {},
   "outputs": [
    {
     "data": {
      "text/plain": [
       "'Using moa_features_20230926.json for MOA features'"
      ]
     },
     "execution_count": 192,
     "metadata": {},
     "output_type": "execute_result"
    }
   ],
   "source": [
    "# Use latest zip that has been pushed to the repo\n",
    "latest_zip_path = sorted(Path().glob(\"../feature_analysis/moa_features_*.zip\"))[-1]\n",
    "json_fn = latest_zip_path.name[:-4]\n",
    "\n",
    "with zipfile.ZipFile(latest_zip_path, \"r\") as zip_ref:\n",
    "    zip_ref.extractall()\n",
    "\n",
    "with open(json_fn, \"r\") as f:\n",
    "    variants_resp = json.load(f)\n",
    "\n",
    "f\"Using {json_fn} for MOA features\""
   ]
  },
  {
   "cell_type": "code",
   "execution_count": 193,
   "metadata": {},
   "outputs": [],
   "source": [
    "def get_feature_digest(feature: Dict) -> str:\n",
    "    \"\"\"Get digest for feature\n",
    "\n",
    "    :param feature: MOA feature\n",
    "    :return: Digest\n",
    "    \"\"\"\n",
    "    attrs = json.dumps(\n",
    "        feature[\"attributes\"][0], sort_keys=True, separators=(\",\", \":\"), indent=None\n",
    "    ).encode(\"utf-8\")\n",
    "    return sha512t24u(attrs)"
   ]
  },
  {
   "cell_type": "code",
   "execution_count": 195,
   "metadata": {},
   "outputs": [],
   "source": [
    "class VariantNormType(str, Enum):\n",
    "    \"\"\"Variation Normalization types\"\"\"\n",
    "\n",
    "    NORMALIZED = \"Normalized\"\n",
    "    NOT_SUPPORTED = \"Not Supported\"\n",
    "\n",
    "\n",
    "VARIANT_NORM_TYPE_VALUES = [v.value for v in VariantNormType.__members__.values()]"
   ]
  },
  {
   "cell_type": "code",
   "execution_count": 196,
   "metadata": {},
   "outputs": [],
   "source": [
    "class VariantCategory(str, Enum):\n",
    "    \"\"\"Create enum for the kind of variants that are in MOA.\"\"\"\n",
    "\n",
    "    EXPRESSION = \"Expression Variants\"\n",
    "    EPIGENETIC_MODIFICATION = \"Epigenetic Modification\"\n",
    "    FUSION = \"Fusion Variants\"\n",
    "    SEQUENCE_VARS = \"Sequence Variants\"\n",
    "    GENE_FUNC = \"Gene Function Variants\"\n",
    "    REARRANGEMENTS = \"Rearrangement Variants\"\n",
    "    COPY_NUMBER = \"Copy Number Variants\"\n",
    "    OTHER = \"Other Variants\"\n",
    "    GENOTYPES = \"Genotype Variants\"\n",
    "    REGION_DEFINED_VAR = \"Region Defined Variants\"\n",
    "    TRANSCRIPT_VAR = \"Transcript Variants\"  # no attempt to normalize these ones, since there is no query we could use\n",
    "\n",
    "\n",
    "VARIANT_CATEGORY_VALUES = [v.value for v in VariantCategory.__members__.values()]"
   ]
  },
  {
   "cell_type": "code",
   "execution_count": 197,
   "metadata": {},
   "outputs": [],
   "source": [
    "class ItemType(str, Enum):\n",
    "    \"\"\"Create enum for the kind of items that will be analyzed.\"\"\"\n",
    "\n",
    "    FEATURE = \"feature\"\n",
    "    ASSERTION = \"assertion\""
   ]
  },
  {
   "cell_type": "markdown",
   "metadata": {},
   "source": [
    "## <a id='toc1_3_'></a>[All Features (Variants) Analysis](#toc0_)"
   ]
  },
  {
   "cell_type": "markdown",
   "metadata": {},
   "source": [
    "### <a id='toc1_3_1_'></a>[Creating a table with feature (variant) and assertion (evidence) information](#toc0_)"
   ]
  },
  {
   "cell_type": "code",
   "execution_count": 198,
   "metadata": {},
   "outputs": [
    {
     "name": "stdout",
     "output_type": "stream",
     "text": [
      "428\n"
     ]
    }
   ],
   "source": [
    "# Create dictionary for MOA Feature ID -> Feature Type\n",
    "\n",
    "features = {}\n",
    "\n",
    "for feature in variants_resp:\n",
    "    feature_id = feature[\"feature_id\"]\n",
    "    digest = get_feature_digest(feature)\n",
    "    features[digest] = feature[\"feature_type\"]\n",
    "\n",
    "count_unique_feature_ids = len(features.keys())\n",
    "print(count_unique_feature_ids)"
   ]
  },
  {
   "cell_type": "code",
   "execution_count": 199,
   "metadata": {},
   "outputs": [
    {
     "data": {
      "text/plain": [
       "'Using moa_assertions_20230926.json for MOA assertions'"
      ]
     },
     "execution_count": 199,
     "metadata": {},
     "output_type": "execute_result"
    }
   ],
   "source": [
    "# Use latest zip that has been pushed to the repo\n",
    "latest_zip_path = sorted(Path().glob(\"moa_assertions_*.zip\"))[-1]\n",
    "json_fna = latest_zip_path.name[:-4]\n",
    "\n",
    "with zipfile.ZipFile(latest_zip_path, \"r\") as zip_ref:\n",
    "    zip_ref.extractall()\n",
    "\n",
    "with open(json_fna, \"r\") as f:\n",
    "    assertions_resp = json.load(f)\n",
    "\n",
    "f\"Using {json_fna} for MOA assertions\""
   ]
  },
  {
   "cell_type": "code",
   "execution_count": 200,
   "metadata": {},
   "outputs": [
    {
     "name": "stdout",
     "output_type": "stream",
     "text": [
      "428\n"
     ]
    },
    {
     "data": {
      "text/html": [
       "<div>\n",
       "<style scoped>\n",
       "    .dataframe tbody tr th:only-of-type {\n",
       "        vertical-align: middle;\n",
       "    }\n",
       "\n",
       "    .dataframe tbody tr th {\n",
       "        vertical-align: top;\n",
       "    }\n",
       "\n",
       "    .dataframe thead th {\n",
       "        text-align: right;\n",
       "    }\n",
       "</style>\n",
       "<table border=\"1\" class=\"dataframe\">\n",
       "  <thead>\n",
       "    <tr style=\"text-align: right;\">\n",
       "      <th></th>\n",
       "      <th>assertion_id</th>\n",
       "      <th>feature_id</th>\n",
       "      <th>feature_type</th>\n",
       "      <th>predictive_implication</th>\n",
       "      <th>feature_digest</th>\n",
       "    </tr>\n",
       "  </thead>\n",
       "  <tbody>\n",
       "    <tr>\n",
       "      <th>0</th>\n",
       "      <td>1</td>\n",
       "      <td>1</td>\n",
       "      <td>rearrangement</td>\n",
       "      <td>FDA-Approved</td>\n",
       "      <td>RnRyn89cJzVbVM93aw4OA44NIF5zblyP</td>\n",
       "    </tr>\n",
       "    <tr>\n",
       "      <th>1</th>\n",
       "      <td>2</td>\n",
       "      <td>2</td>\n",
       "      <td>rearrangement</td>\n",
       "      <td>FDA-Approved</td>\n",
       "      <td>RnRyn89cJzVbVM93aw4OA44NIF5zblyP</td>\n",
       "    </tr>\n",
       "    <tr>\n",
       "      <th>2</th>\n",
       "      <td>3</td>\n",
       "      <td>3</td>\n",
       "      <td>rearrangement</td>\n",
       "      <td>FDA-Approved</td>\n",
       "      <td>RnRyn89cJzVbVM93aw4OA44NIF5zblyP</td>\n",
       "    </tr>\n",
       "    <tr>\n",
       "      <th>3</th>\n",
       "      <td>4</td>\n",
       "      <td>4</td>\n",
       "      <td>rearrangement</td>\n",
       "      <td>FDA-Approved</td>\n",
       "      <td>RnRyn89cJzVbVM93aw4OA44NIF5zblyP</td>\n",
       "    </tr>\n",
       "    <tr>\n",
       "      <th>4</th>\n",
       "      <td>5</td>\n",
       "      <td>5</td>\n",
       "      <td>rearrangement</td>\n",
       "      <td>FDA-Approved</td>\n",
       "      <td>RnRyn89cJzVbVM93aw4OA44NIF5zblyP</td>\n",
       "    </tr>\n",
       "    <tr>\n",
       "      <th>...</th>\n",
       "      <td>...</td>\n",
       "      <td>...</td>\n",
       "      <td>...</td>\n",
       "      <td>...</td>\n",
       "      <td>...</td>\n",
       "    </tr>\n",
       "    <tr>\n",
       "      <th>893</th>\n",
       "      <td>894</td>\n",
       "      <td>894</td>\n",
       "      <td>germline_variant</td>\n",
       "      <td>FDA-Approved</td>\n",
       "      <td>5UD28MjD2bPMEnlA6enWWTEftU7JVXzi</td>\n",
       "    </tr>\n",
       "    <tr>\n",
       "      <th>894</th>\n",
       "      <td>895</td>\n",
       "      <td>895</td>\n",
       "      <td>somatic_variant</td>\n",
       "      <td>FDA-Approved</td>\n",
       "      <td>OQ7B9XkAYOPvcmJES3ULOTn7Ai9ZQec9</td>\n",
       "    </tr>\n",
       "    <tr>\n",
       "      <th>895</th>\n",
       "      <td>896</td>\n",
       "      <td>896</td>\n",
       "      <td>germline_variant</td>\n",
       "      <td>FDA-Approved</td>\n",
       "      <td>i3K0tcuhFKzBkb4jkwHaU0_NLz4NKKJj</td>\n",
       "    </tr>\n",
       "    <tr>\n",
       "      <th>896</th>\n",
       "      <td>897</td>\n",
       "      <td>897</td>\n",
       "      <td>somatic_variant</td>\n",
       "      <td>FDA-Approved</td>\n",
       "      <td>3CBFHlLnAU0h_OurUo6SY_Wlo04P03N5</td>\n",
       "    </tr>\n",
       "    <tr>\n",
       "      <th>897</th>\n",
       "      <td>898</td>\n",
       "      <td>898</td>\n",
       "      <td>microsatellite_stability</td>\n",
       "      <td>FDA-Approved</td>\n",
       "      <td>_qME1HhQ3VL9-nJaeABduePIk-j5Uyk6</td>\n",
       "    </tr>\n",
       "  </tbody>\n",
       "</table>\n",
       "<p>898 rows × 5 columns</p>\n",
       "</div>"
      ],
      "text/plain": [
       "     assertion_id  feature_id              feature_type  \\\n",
       "0               1           1             rearrangement   \n",
       "1               2           2             rearrangement   \n",
       "2               3           3             rearrangement   \n",
       "3               4           4             rearrangement   \n",
       "4               5           5             rearrangement   \n",
       "..            ...         ...                       ...   \n",
       "893           894         894          germline_variant   \n",
       "894           895         895           somatic_variant   \n",
       "895           896         896          germline_variant   \n",
       "896           897         897           somatic_variant   \n",
       "897           898         898  microsatellite_stability   \n",
       "\n",
       "    predictive_implication                    feature_digest  \n",
       "0             FDA-Approved  RnRyn89cJzVbVM93aw4OA44NIF5zblyP  \n",
       "1             FDA-Approved  RnRyn89cJzVbVM93aw4OA44NIF5zblyP  \n",
       "2             FDA-Approved  RnRyn89cJzVbVM93aw4OA44NIF5zblyP  \n",
       "3             FDA-Approved  RnRyn89cJzVbVM93aw4OA44NIF5zblyP  \n",
       "4             FDA-Approved  RnRyn89cJzVbVM93aw4OA44NIF5zblyP  \n",
       "..                     ...                               ...  \n",
       "893           FDA-Approved  5UD28MjD2bPMEnlA6enWWTEftU7JVXzi  \n",
       "894           FDA-Approved  OQ7B9XkAYOPvcmJES3ULOTn7Ai9ZQec9  \n",
       "895           FDA-Approved  i3K0tcuhFKzBkb4jkwHaU0_NLz4NKKJj  \n",
       "896           FDA-Approved  3CBFHlLnAU0h_OurUo6SY_Wlo04P03N5  \n",
       "897           FDA-Approved  _qME1HhQ3VL9-nJaeABduePIk-j5Uyk6  \n",
       "\n",
       "[898 rows x 5 columns]"
      ]
     },
     "execution_count": 200,
     "metadata": {},
     "output_type": "execute_result"
    }
   ],
   "source": [
    "# Create DF for assertions and their associated feature + predictive implication\n",
    "\n",
    "transformed = []\n",
    "\n",
    "# Mapping from feature ID to feature digest\n",
    "feature_id_to_digest = {}\n",
    "\n",
    "for assertion in assertions_resp:\n",
    "    assertion_id = assertion[\"assertion_id\"]\n",
    "    predictive_implication = assertion[\"predictive_implication\"]\n",
    "\n",
    "    if len(assertion[\"features\"]) != 1:\n",
    "        print(f\"assertion id ({assertion_id}) does not have 1 feature\")\n",
    "        continue\n",
    "\n",
    "    feature = assertion[\"features\"][0]\n",
    "    feature_id = feature[\"feature_id\"]\n",
    "    feature_digest = get_feature_digest(feature)\n",
    "\n",
    "    feature_id_to_digest[feature_id] = digest\n",
    "\n",
    "    transformed.append(\n",
    "        {\n",
    "            \"assertion_id\": assertion_id,\n",
    "            \"feature_id\": feature_id,\n",
    "            \"feature_type\": features[feature_digest],\n",
    "            \"predictive_implication\": predictive_implication,\n",
    "            \"feature_digest\": feature_digest,\n",
    "        }\n",
    "    )\n",
    "moa_df = pd.DataFrame(transformed)\n",
    "print(len(moa_df[\"feature_digest\"].unique()))\n",
    "moa_df"
   ]
  },
  {
   "cell_type": "code",
   "execution_count": 201,
   "metadata": {},
   "outputs": [],
   "source": [
    "moa_df.to_csv(\"moa_assertion_analysis_output/moa_df.csv\")"
   ]
  },
  {
   "cell_type": "code",
   "execution_count": 202,
   "metadata": {},
   "outputs": [
    {
     "data": {
      "text/plain": [
       "428"
      ]
     },
     "execution_count": 202,
     "metadata": {},
     "output_type": "execute_result"
    }
   ],
   "source": [
    "unique_features_df = moa_df.sort_values(\"feature_id\").drop_duplicates(\n",
    "    subset=[\"feature_digest\"]\n",
    ")\n",
    "len_unique_feature_ids = len(list(unique_features_df.feature_id))\n",
    "len_unique_feature_ids"
   ]
  },
  {
   "cell_type": "code",
   "execution_count": 203,
   "metadata": {},
   "outputs": [
    {
     "data": {
      "text/plain": [
       "'Total number of unique features (variants): 428'"
      ]
     },
     "execution_count": 203,
     "metadata": {},
     "output_type": "execute_result"
    }
   ],
   "source": [
    "total_len_features = len(moa_df.feature_digest.unique())\n",
    "f\"Total number of unique features (variants): {total_len_features}\""
   ]
  },
  {
   "cell_type": "code",
   "execution_count": 204,
   "metadata": {},
   "outputs": [],
   "source": [
    "assert total_len_features == len_unique_feature_ids"
   ]
  },
  {
   "cell_type": "code",
   "execution_count": 205,
   "metadata": {},
   "outputs": [
    {
     "data": {
      "text/plain": [
       "'Total number of unique assertions (evidence items): 898'"
      ]
     },
     "execution_count": 205,
     "metadata": {},
     "output_type": "execute_result"
    }
   ],
   "source": [
    "total_len_assertions = len(moa_df.assertion_id.unique())\n",
    "f\"Total number of unique assertions (evidence items): {total_len_assertions}\""
   ]
  },
  {
   "cell_type": "markdown",
   "metadata": {},
   "source": [
    "### <a id='toc1_3_2_'></a>[Converting feature (variant) types to normalized categories](#toc0_)"
   ]
  },
  {
   "cell_type": "code",
   "execution_count": 206,
   "metadata": {},
   "outputs": [
    {
     "data": {
      "text/plain": [
       "['rearrangement',\n",
       " 'somatic_variant',\n",
       " 'germline_variant',\n",
       " 'copy_number',\n",
       " 'microsatellite_stability',\n",
       " 'mutational_signature',\n",
       " 'mutational_burden',\n",
       " 'knockdown',\n",
       " 'aneuploidy']"
      ]
     },
     "execution_count": 206,
     "metadata": {},
     "output_type": "execute_result"
    }
   ],
   "source": [
    "list(moa_df.feature_type.unique())"
   ]
  },
  {
   "cell_type": "code",
   "execution_count": 207,
   "metadata": {},
   "outputs": [
    {
     "data": {
      "text/html": [
       "<div>\n",
       "<style scoped>\n",
       "    .dataframe tbody tr th:only-of-type {\n",
       "        vertical-align: middle;\n",
       "    }\n",
       "\n",
       "    .dataframe tbody tr th {\n",
       "        vertical-align: top;\n",
       "    }\n",
       "\n",
       "    .dataframe thead th {\n",
       "        text-align: right;\n",
       "    }\n",
       "</style>\n",
       "<table border=\"1\" class=\"dataframe\">\n",
       "  <thead>\n",
       "    <tr style=\"text-align: right;\">\n",
       "      <th></th>\n",
       "      <th>assertion_id</th>\n",
       "      <th>feature_id</th>\n",
       "      <th>feature_type</th>\n",
       "      <th>predictive_implication</th>\n",
       "      <th>feature_digest</th>\n",
       "      <th>category</th>\n",
       "    </tr>\n",
       "  </thead>\n",
       "  <tbody>\n",
       "    <tr>\n",
       "      <th>0</th>\n",
       "      <td>1</td>\n",
       "      <td>1</td>\n",
       "      <td>rearrangement</td>\n",
       "      <td>FDA-Approved</td>\n",
       "      <td>RnRyn89cJzVbVM93aw4OA44NIF5zblyP</td>\n",
       "      <td>Rearrangement Variants</td>\n",
       "    </tr>\n",
       "    <tr>\n",
       "      <th>1</th>\n",
       "      <td>2</td>\n",
       "      <td>2</td>\n",
       "      <td>rearrangement</td>\n",
       "      <td>FDA-Approved</td>\n",
       "      <td>RnRyn89cJzVbVM93aw4OA44NIF5zblyP</td>\n",
       "      <td>Rearrangement Variants</td>\n",
       "    </tr>\n",
       "    <tr>\n",
       "      <th>2</th>\n",
       "      <td>3</td>\n",
       "      <td>3</td>\n",
       "      <td>rearrangement</td>\n",
       "      <td>FDA-Approved</td>\n",
       "      <td>RnRyn89cJzVbVM93aw4OA44NIF5zblyP</td>\n",
       "      <td>Rearrangement Variants</td>\n",
       "    </tr>\n",
       "    <tr>\n",
       "      <th>3</th>\n",
       "      <td>4</td>\n",
       "      <td>4</td>\n",
       "      <td>rearrangement</td>\n",
       "      <td>FDA-Approved</td>\n",
       "      <td>RnRyn89cJzVbVM93aw4OA44NIF5zblyP</td>\n",
       "      <td>Rearrangement Variants</td>\n",
       "    </tr>\n",
       "    <tr>\n",
       "      <th>4</th>\n",
       "      <td>5</td>\n",
       "      <td>5</td>\n",
       "      <td>rearrangement</td>\n",
       "      <td>FDA-Approved</td>\n",
       "      <td>RnRyn89cJzVbVM93aw4OA44NIF5zblyP</td>\n",
       "      <td>Rearrangement Variants</td>\n",
       "    </tr>\n",
       "  </tbody>\n",
       "</table>\n",
       "</div>"
      ],
      "text/plain": [
       "   assertion_id  feature_id   feature_type predictive_implication  \\\n",
       "0             1           1  rearrangement           FDA-Approved   \n",
       "1             2           2  rearrangement           FDA-Approved   \n",
       "2             3           3  rearrangement           FDA-Approved   \n",
       "3             4           4  rearrangement           FDA-Approved   \n",
       "4             5           5  rearrangement           FDA-Approved   \n",
       "\n",
       "                     feature_digest                category  \n",
       "0  RnRyn89cJzVbVM93aw4OA44NIF5zblyP  Rearrangement Variants  \n",
       "1  RnRyn89cJzVbVM93aw4OA44NIF5zblyP  Rearrangement Variants  \n",
       "2  RnRyn89cJzVbVM93aw4OA44NIF5zblyP  Rearrangement Variants  \n",
       "3  RnRyn89cJzVbVM93aw4OA44NIF5zblyP  Rearrangement Variants  \n",
       "4  RnRyn89cJzVbVM93aw4OA44NIF5zblyP  Rearrangement Variants  "
      ]
     },
     "execution_count": 207,
     "metadata": {},
     "output_type": "execute_result"
    }
   ],
   "source": [
    "moa_df[\"category\"] = moa_df[\"feature_type\"].copy()\n",
    "\n",
    "moa_df[\"category\"] = moa_df[\"category\"].replace(\n",
    "    \"rearrangement\", VariantCategory.REARRANGEMENTS.value\n",
    ")\n",
    "moa_df[\"category\"] = moa_df[\"category\"].replace(\n",
    "    \"aneuploidy\", VariantCategory.COPY_NUMBER.value\n",
    ")\n",
    "moa_df[\"category\"] = moa_df[\"category\"].replace(\n",
    "    \"knockdown\", VariantCategory.EXPRESSION.value\n",
    ")\n",
    "moa_df[\"category\"] = moa_df[\"category\"].replace(\n",
    "    \"somatic_variant\", VariantCategory.SEQUENCE_VARS.value\n",
    ")\n",
    "moa_df[\"category\"] = moa_df[\"category\"].replace(\n",
    "    \"germline_variant\", VariantCategory.SEQUENCE_VARS.value\n",
    ")\n",
    "moa_df[\"category\"] = moa_df[\"category\"].replace(\n",
    "    \"microsatellite_stability\", VariantCategory.REARRANGEMENTS.value\n",
    ")\n",
    "moa_df[\"category\"] = moa_df[\"category\"].replace(\n",
    "    \"mutational_burden\", VariantCategory.OTHER.value\n",
    ")\n",
    "moa_df[\"category\"] = moa_df[\"category\"].replace(\n",
    "    \"mutational_signature\", VariantCategory.OTHER.value\n",
    ")\n",
    "moa_df[\"category\"] = moa_df[\"category\"].replace(\n",
    "    \"copy_number\", VariantCategory.COPY_NUMBER.value\n",
    ")\n",
    "\n",
    "moa_df.head()"
   ]
  },
  {
   "cell_type": "code",
   "execution_count": 208,
   "metadata": {},
   "outputs": [
    {
     "data": {
      "text/plain": [
       "['Rearrangement Variants',\n",
       " 'Sequence Variants',\n",
       " 'Copy Number Variants',\n",
       " 'Other Variants',\n",
       " 'Expression Variants']"
      ]
     },
     "execution_count": 208,
     "metadata": {},
     "output_type": "execute_result"
    }
   ],
   "source": [
    "list(moa_df.category.unique())"
   ]
  },
  {
   "cell_type": "markdown",
   "metadata": {},
   "source": [
    "### <a id='toc1_3_3_'></a>[Adding a numerical impact score based on the predictive implication](#toc0_)\n",
    "This is based on the structure of MOA scoring"
   ]
  },
  {
   "cell_type": "code",
   "execution_count": 209,
   "metadata": {},
   "outputs": [
    {
     "data": {
      "text/plain": [
       "['FDA-Approved',\n",
       " 'Guideline',\n",
       " 'Clinical trial',\n",
       " 'Preclinical',\n",
       " 'Inferential',\n",
       " 'Clinical evidence']"
      ]
     },
     "execution_count": 209,
     "metadata": {},
     "output_type": "execute_result"
    }
   ],
   "source": [
    "predictive_implication_categories = moa_df.predictive_implication.unique()\n",
    "list(predictive_implication_categories)"
   ]
  },
  {
   "cell_type": "code",
   "execution_count": 210,
   "metadata": {},
   "outputs": [
    {
     "data": {
      "text/html": [
       "<div>\n",
       "<style scoped>\n",
       "    .dataframe tbody tr th:only-of-type {\n",
       "        vertical-align: middle;\n",
       "    }\n",
       "\n",
       "    .dataframe tbody tr th {\n",
       "        vertical-align: top;\n",
       "    }\n",
       "\n",
       "    .dataframe thead th {\n",
       "        text-align: right;\n",
       "    }\n",
       "</style>\n",
       "<table border=\"1\" class=\"dataframe\">\n",
       "  <thead>\n",
       "    <tr style=\"text-align: right;\">\n",
       "      <th></th>\n",
       "      <th>assertion_id</th>\n",
       "      <th>feature_id</th>\n",
       "      <th>feature_type</th>\n",
       "      <th>predictive_implication</th>\n",
       "      <th>feature_digest</th>\n",
       "      <th>category</th>\n",
       "      <th>impact_score</th>\n",
       "    </tr>\n",
       "  </thead>\n",
       "  <tbody>\n",
       "    <tr>\n",
       "      <th>0</th>\n",
       "      <td>1</td>\n",
       "      <td>1</td>\n",
       "      <td>rearrangement</td>\n",
       "      <td>FDA-Approved</td>\n",
       "      <td>RnRyn89cJzVbVM93aw4OA44NIF5zblyP</td>\n",
       "      <td>Rearrangement Variants</td>\n",
       "      <td>10</td>\n",
       "    </tr>\n",
       "    <tr>\n",
       "      <th>1</th>\n",
       "      <td>2</td>\n",
       "      <td>2</td>\n",
       "      <td>rearrangement</td>\n",
       "      <td>FDA-Approved</td>\n",
       "      <td>RnRyn89cJzVbVM93aw4OA44NIF5zblyP</td>\n",
       "      <td>Rearrangement Variants</td>\n",
       "      <td>10</td>\n",
       "    </tr>\n",
       "    <tr>\n",
       "      <th>2</th>\n",
       "      <td>3</td>\n",
       "      <td>3</td>\n",
       "      <td>rearrangement</td>\n",
       "      <td>FDA-Approved</td>\n",
       "      <td>RnRyn89cJzVbVM93aw4OA44NIF5zblyP</td>\n",
       "      <td>Rearrangement Variants</td>\n",
       "      <td>10</td>\n",
       "    </tr>\n",
       "    <tr>\n",
       "      <th>3</th>\n",
       "      <td>4</td>\n",
       "      <td>4</td>\n",
       "      <td>rearrangement</td>\n",
       "      <td>FDA-Approved</td>\n",
       "      <td>RnRyn89cJzVbVM93aw4OA44NIF5zblyP</td>\n",
       "      <td>Rearrangement Variants</td>\n",
       "      <td>10</td>\n",
       "    </tr>\n",
       "    <tr>\n",
       "      <th>4</th>\n",
       "      <td>5</td>\n",
       "      <td>5</td>\n",
       "      <td>rearrangement</td>\n",
       "      <td>FDA-Approved</td>\n",
       "      <td>RnRyn89cJzVbVM93aw4OA44NIF5zblyP</td>\n",
       "      <td>Rearrangement Variants</td>\n",
       "      <td>10</td>\n",
       "    </tr>\n",
       "  </tbody>\n",
       "</table>\n",
       "</div>"
      ],
      "text/plain": [
       "   assertion_id  feature_id   feature_type predictive_implication  \\\n",
       "0             1           1  rearrangement           FDA-Approved   \n",
       "1             2           2  rearrangement           FDA-Approved   \n",
       "2             3           3  rearrangement           FDA-Approved   \n",
       "3             4           4  rearrangement           FDA-Approved   \n",
       "4             5           5  rearrangement           FDA-Approved   \n",
       "\n",
       "                     feature_digest                category impact_score  \n",
       "0  RnRyn89cJzVbVM93aw4OA44NIF5zblyP  Rearrangement Variants           10  \n",
       "1  RnRyn89cJzVbVM93aw4OA44NIF5zblyP  Rearrangement Variants           10  \n",
       "2  RnRyn89cJzVbVM93aw4OA44NIF5zblyP  Rearrangement Variants           10  \n",
       "3  RnRyn89cJzVbVM93aw4OA44NIF5zblyP  Rearrangement Variants           10  \n",
       "4  RnRyn89cJzVbVM93aw4OA44NIF5zblyP  Rearrangement Variants           10  "
      ]
     },
     "execution_count": 210,
     "metadata": {},
     "output_type": "execute_result"
    }
   ],
   "source": [
    "moa_df[\"impact_score\"] = moa_df[\"predictive_implication\"].copy()\n",
    "\n",
    "moa_df.loc[moa_df[\"impact_score\"] == \"FDA-Approved\", \"impact_score\"] = 10\n",
    "moa_df.loc[moa_df[\"impact_score\"] == \"Guideline\", \"impact_score\"] = 10\n",
    "moa_df.loc[moa_df[\"impact_score\"] == \"Clinical evidence\", \"impact_score\"] = 5\n",
    "moa_df.loc[moa_df[\"impact_score\"] == \"Clinical trial\", \"impact_score\"] = 5\n",
    "moa_df.loc[moa_df[\"impact_score\"] == \"Preclinical\", \"impact_score\"] = 1\n",
    "moa_df.loc[moa_df[\"impact_score\"] == \"Inferential\", \"impact_score\"] = 0.5\n",
    "\n",
    "moa_df.head()"
   ]
  },
  {
   "cell_type": "markdown",
   "metadata": {},
   "source": [
    "### <a id='toc1_3_4_'></a>[Impact Score Analysis](#toc0_)"
   ]
  },
  {
   "cell_type": "code",
   "execution_count": 211,
   "metadata": {},
   "outputs": [
    {
     "name": "stdout",
     "output_type": "stream",
     "text": [
      "Expression Variants: 12\n",
      "Epigenetic Modification: 0\n",
      "Fusion Variants: 0\n",
      "Sequence Variants: 4182.5\n",
      "Gene Function Variants: 0\n",
      "Rearrangement Variants: 653.0\n",
      "Copy Number Variants: 400.0\n",
      "Other Variants: 53.5\n",
      "Genotype Variants: 0\n",
      "Region Defined Variants: 0\n",
      "Transcript Variants: 0\n"
     ]
    }
   ],
   "source": [
    "feature_categories_impact_data = dict()\n",
    "for category in VARIANT_CATEGORY_VALUES:\n",
    "    feature_categories_impact_data[category] = {}\n",
    "    impact_category_df = moa_df[moa_df.category == category]\n",
    "\n",
    "    total_sum_category_impact = impact_category_df[\"impact_score\"].sum()\n",
    "    feature_categories_impact_data[category][\n",
    "        \"total_sum_category_impact\"\n",
    "    ] = total_sum_category_impact\n",
    "    print(f\"{category}: {total_sum_category_impact}\")"
   ]
  },
  {
   "cell_type": "markdown",
   "metadata": {},
   "source": [
    "### <a id='toc1_3_5_'></a>[Features (Variants) Analysis](#toc0_)"
   ]
  },
  {
   "cell_type": "code",
   "execution_count": 212,
   "metadata": {},
   "outputs": [],
   "source": [
    "def calc_perc_item_analysis(item_type: ItemType, total_len: int()) -> dict():\n",
    "    \"\"\"Calculates the percent of either the features or the assertions in MOA\n",
    "\n",
    "    :param item_type: indicates if the item of interest is a feature or an assertion\n",
    "    :param total_len: calls a variable that represents the total number of items\n",
    "    \"\"\"\n",
    "    moa_item_data = dict()\n",
    "\n",
    "    for category in VARIANT_CATEGORY_VALUES:\n",
    "        moa_item_data[category] = {}\n",
    "        item_type_df = moa_df[moa_df.category == category]\n",
    "        if item_type == ItemType.FEATURE:\n",
    "            number_unique_category_items = len(set(item_type_df.feature_digest))\n",
    "        else:\n",
    "            number_unique_category_items = len(set(item_type_df.assertion_id))\n",
    "\n",
    "        if item_type == ItemType.FEATURE:\n",
    "            singular = \"feature\"\n",
    "            plural = \"features\"\n",
    "        else:\n",
    "            singular = \"assertion\"\n",
    "            plural = \"assertions\"\n",
    "\n",
    "        moa_item_data[category][\n",
    "            f\"number_unique_category_{plural}\"\n",
    "        ] = number_unique_category_items\n",
    "\n",
    "        fraction_category_item = f\"{number_unique_category_items} / {total_len}\"\n",
    "        moa_item_data[category][\n",
    "            f\"fraction_category_{singular}\"\n",
    "        ] = fraction_category_item\n",
    "\n",
    "        percent_category_item = (\n",
    "            \"{:.2f}\".format(number_unique_category_items / total_len * 100) + \"%\"\n",
    "        )\n",
    "\n",
    "        moa_item_data[category][f\"percent_category_{singular}\"] = percent_category_item\n",
    "\n",
    "    return moa_item_data"
   ]
  },
  {
   "cell_type": "code",
   "execution_count": 213,
   "metadata": {},
   "outputs": [],
   "source": [
    "moa_feature_data = calc_perc_item_analysis(ItemType.FEATURE, total_len_features)"
   ]
  },
  {
   "cell_type": "markdown",
   "metadata": {},
   "source": [
    "### <a id='toc1_3_6_'></a>[Assertions (Evidence Items) Analysis](#toc0_)"
   ]
  },
  {
   "cell_type": "code",
   "execution_count": 214,
   "metadata": {},
   "outputs": [],
   "source": [
    "moa_assertion_data = calc_perc_item_analysis(ItemType.ASSERTION, total_len_assertions)"
   ]
  },
  {
   "cell_type": "markdown",
   "metadata": {},
   "source": [
    "### <a id='toc1_3_7_'></a>[Summaries for all Features (Variants) and Assertions (Evidence Items)](#toc0_)"
   ]
  },
  {
   "cell_type": "code",
   "execution_count": 215,
   "metadata": {},
   "outputs": [],
   "source": [
    "feature_category_impact_score = [\n",
    "    v[\"total_sum_category_impact\"] for v in feature_categories_impact_data.values()\n",
    "]\n",
    "feature_category_number = [\n",
    "    v[\"number_unique_category_features\"] for v in moa_feature_data.values()\n",
    "]\n",
    "feature_category_fraction = [\n",
    "    v[\"fraction_category_feature\"] for v in moa_feature_data.values()\n",
    "]\n",
    "feature_category_percent = [\n",
    "    v[\"percent_category_feature\"] for v in moa_feature_data.values()\n",
    "]\n",
    "feature_category_assertion_number = [\n",
    "    v[\"number_unique_category_assertions\"] for v in moa_assertion_data.values()\n",
    "]\n",
    "feature_category_assertion_fraction = [\n",
    "    v[\"fraction_category_assertion\"] for v in moa_assertion_data.values()\n",
    "]\n",
    "feature_category_assertion_percent = [\n",
    "    v[\"percent_category_assertion\"] for v in moa_assertion_data.values()\n",
    "]"
   ]
  },
  {
   "cell_type": "code",
   "execution_count": 216,
   "metadata": {},
   "outputs": [],
   "source": [
    "feature_category_dict = {\n",
    "    \"Category\": VARIANT_CATEGORY_VALUES,\n",
    "    \"Number of Features\": feature_category_number,\n",
    "    \"Fraction of Features\": feature_category_fraction,\n",
    "    \"Percent of Features\": feature_category_percent,\n",
    "    \"Number of Assertions\": feature_category_assertion_number,\n",
    "    \"Fraction of Assertions\": feature_category_assertion_fraction,\n",
    "    \"Percent of Assertions\": feature_category_assertion_percent,\n",
    "    \"Impact Score\": feature_category_impact_score,\n",
    "}"
   ]
  },
  {
   "cell_type": "code",
   "execution_count": 217,
   "metadata": {},
   "outputs": [
    {
     "data": {
      "text/html": [
       "<div>\n",
       "<style scoped>\n",
       "    .dataframe tbody tr th:only-of-type {\n",
       "        vertical-align: middle;\n",
       "    }\n",
       "\n",
       "    .dataframe tbody tr th {\n",
       "        vertical-align: top;\n",
       "    }\n",
       "\n",
       "    .dataframe thead th {\n",
       "        text-align: right;\n",
       "    }\n",
       "</style>\n",
       "<table border=\"1\" class=\"dataframe\">\n",
       "  <thead>\n",
       "    <tr style=\"text-align: right;\">\n",
       "      <th></th>\n",
       "      <th>Category</th>\n",
       "      <th>Number of Features</th>\n",
       "      <th>Fraction of Features</th>\n",
       "      <th>Percent of Features</th>\n",
       "      <th>Number of Assertions</th>\n",
       "      <th>Fraction of Assertions</th>\n",
       "      <th>Percent of Assertions</th>\n",
       "      <th>Impact Score</th>\n",
       "    </tr>\n",
       "  </thead>\n",
       "  <tbody>\n",
       "    <tr>\n",
       "      <th>0</th>\n",
       "      <td>Expression Variants</td>\n",
       "      <td>11</td>\n",
       "      <td>11 / 428</td>\n",
       "      <td>2.57%</td>\n",
       "      <td>12</td>\n",
       "      <td>12 / 898</td>\n",
       "      <td>1.34%</td>\n",
       "      <td>12.0</td>\n",
       "    </tr>\n",
       "    <tr>\n",
       "      <th>1</th>\n",
       "      <td>Epigenetic Modification</td>\n",
       "      <td>0</td>\n",
       "      <td>0 / 428</td>\n",
       "      <td>0.00%</td>\n",
       "      <td>0</td>\n",
       "      <td>0 / 898</td>\n",
       "      <td>0.00%</td>\n",
       "      <td>0.0</td>\n",
       "    </tr>\n",
       "    <tr>\n",
       "      <th>2</th>\n",
       "      <td>Fusion Variants</td>\n",
       "      <td>0</td>\n",
       "      <td>0 / 428</td>\n",
       "      <td>0.00%</td>\n",
       "      <td>0</td>\n",
       "      <td>0 / 898</td>\n",
       "      <td>0.00%</td>\n",
       "      <td>0.0</td>\n",
       "    </tr>\n",
       "    <tr>\n",
       "      <th>3</th>\n",
       "      <td>Sequence Variants</td>\n",
       "      <td>323</td>\n",
       "      <td>323 / 428</td>\n",
       "      <td>75.47%</td>\n",
       "      <td>679</td>\n",
       "      <td>679 / 898</td>\n",
       "      <td>75.61%</td>\n",
       "      <td>4182.5</td>\n",
       "    </tr>\n",
       "    <tr>\n",
       "      <th>4</th>\n",
       "      <td>Gene Function Variants</td>\n",
       "      <td>0</td>\n",
       "      <td>0 / 428</td>\n",
       "      <td>0.00%</td>\n",
       "      <td>0</td>\n",
       "      <td>0 / 898</td>\n",
       "      <td>0.00%</td>\n",
       "      <td>0.0</td>\n",
       "    </tr>\n",
       "    <tr>\n",
       "      <th>5</th>\n",
       "      <td>Rearrangement Variants</td>\n",
       "      <td>38</td>\n",
       "      <td>38 / 428</td>\n",
       "      <td>8.88%</td>\n",
       "      <td>82</td>\n",
       "      <td>82 / 898</td>\n",
       "      <td>9.13%</td>\n",
       "      <td>653.0</td>\n",
       "    </tr>\n",
       "    <tr>\n",
       "      <th>6</th>\n",
       "      <td>Copy Number Variants</td>\n",
       "      <td>47</td>\n",
       "      <td>47 / 428</td>\n",
       "      <td>10.98%</td>\n",
       "      <td>102</td>\n",
       "      <td>102 / 898</td>\n",
       "      <td>11.36%</td>\n",
       "      <td>400.0</td>\n",
       "    </tr>\n",
       "    <tr>\n",
       "      <th>7</th>\n",
       "      <td>Other Variants</td>\n",
       "      <td>9</td>\n",
       "      <td>9 / 428</td>\n",
       "      <td>2.10%</td>\n",
       "      <td>23</td>\n",
       "      <td>23 / 898</td>\n",
       "      <td>2.56%</td>\n",
       "      <td>53.5</td>\n",
       "    </tr>\n",
       "    <tr>\n",
       "      <th>8</th>\n",
       "      <td>Genotype Variants</td>\n",
       "      <td>0</td>\n",
       "      <td>0 / 428</td>\n",
       "      <td>0.00%</td>\n",
       "      <td>0</td>\n",
       "      <td>0 / 898</td>\n",
       "      <td>0.00%</td>\n",
       "      <td>0.0</td>\n",
       "    </tr>\n",
       "    <tr>\n",
       "      <th>9</th>\n",
       "      <td>Region Defined Variants</td>\n",
       "      <td>0</td>\n",
       "      <td>0 / 428</td>\n",
       "      <td>0.00%</td>\n",
       "      <td>0</td>\n",
       "      <td>0 / 898</td>\n",
       "      <td>0.00%</td>\n",
       "      <td>0.0</td>\n",
       "    </tr>\n",
       "    <tr>\n",
       "      <th>10</th>\n",
       "      <td>Transcript Variants</td>\n",
       "      <td>0</td>\n",
       "      <td>0 / 428</td>\n",
       "      <td>0.00%</td>\n",
       "      <td>0</td>\n",
       "      <td>0 / 898</td>\n",
       "      <td>0.00%</td>\n",
       "      <td>0.0</td>\n",
       "    </tr>\n",
       "  </tbody>\n",
       "</table>\n",
       "</div>"
      ],
      "text/plain": [
       "                   Category  Number of Features Fraction of Features  \\\n",
       "0       Expression Variants                  11             11 / 428   \n",
       "1   Epigenetic Modification                   0              0 / 428   \n",
       "2           Fusion Variants                   0              0 / 428   \n",
       "3         Sequence Variants                 323            323 / 428   \n",
       "4    Gene Function Variants                   0              0 / 428   \n",
       "5    Rearrangement Variants                  38             38 / 428   \n",
       "6      Copy Number Variants                  47             47 / 428   \n",
       "7            Other Variants                   9              9 / 428   \n",
       "8         Genotype Variants                   0              0 / 428   \n",
       "9   Region Defined Variants                   0              0 / 428   \n",
       "10      Transcript Variants                   0              0 / 428   \n",
       "\n",
       "   Percent of Features  Number of Assertions Fraction of Assertions  \\\n",
       "0                2.57%                    12               12 / 898   \n",
       "1                0.00%                     0                0 / 898   \n",
       "2                0.00%                     0                0 / 898   \n",
       "3               75.47%                   679              679 / 898   \n",
       "4                0.00%                     0                0 / 898   \n",
       "5                8.88%                    82               82 / 898   \n",
       "6               10.98%                   102              102 / 898   \n",
       "7                2.10%                    23               23 / 898   \n",
       "8                0.00%                     0                0 / 898   \n",
       "9                0.00%                     0                0 / 898   \n",
       "10               0.00%                     0                0 / 898   \n",
       "\n",
       "   Percent of Assertions  Impact Score  \n",
       "0                  1.34%          12.0  \n",
       "1                  0.00%           0.0  \n",
       "2                  0.00%           0.0  \n",
       "3                 75.61%        4182.5  \n",
       "4                  0.00%           0.0  \n",
       "5                  9.13%         653.0  \n",
       "6                 11.36%         400.0  \n",
       "7                  2.56%          53.5  \n",
       "8                  0.00%           0.0  \n",
       "9                  0.00%           0.0  \n",
       "10                 0.00%           0.0  "
      ]
     },
     "execution_count": 217,
     "metadata": {},
     "output_type": "execute_result"
    }
   ],
   "source": [
    "moa_feature_df = pd.DataFrame(feature_category_dict)\n",
    "moa_feature_df"
   ]
  },
  {
   "cell_type": "code",
   "execution_count": 218,
   "metadata": {},
   "outputs": [],
   "source": [
    "moa_feature_df = combine_frac_perc(moa_feature_df, \"Features\")"
   ]
  },
  {
   "cell_type": "code",
   "execution_count": 219,
   "metadata": {},
   "outputs": [],
   "source": [
    "moa_feature_df = combine_frac_perc(moa_feature_df, \"Assertions\")"
   ]
  },
  {
   "cell_type": "code",
   "execution_count": 220,
   "metadata": {},
   "outputs": [],
   "source": [
    "moa_feature_df_abbreviated = moa_feature_df[\n",
    "    [\n",
    "        \"Category\",\n",
    "        \"Percent of Features\",\n",
    "        \"Percent of Assertions\",\n",
    "        \"Impact Score\",\n",
    "    ]\n",
    "].copy()"
   ]
  },
  {
   "cell_type": "code",
   "execution_count": 221,
   "metadata": {},
   "outputs": [
    {
     "data": {
      "text/html": [
       "<div>\n",
       "<style scoped>\n",
       "    .dataframe tbody tr th:only-of-type {\n",
       "        vertical-align: middle;\n",
       "    }\n",
       "\n",
       "    .dataframe tbody tr th {\n",
       "        vertical-align: top;\n",
       "    }\n",
       "\n",
       "    .dataframe thead th {\n",
       "        text-align: right;\n",
       "    }\n",
       "</style>\n",
       "<table border=\"1\" class=\"dataframe\">\n",
       "  <thead>\n",
       "    <tr style=\"text-align: right;\">\n",
       "      <th></th>\n",
       "      <th>Percent of Features</th>\n",
       "      <th>Percent of Assertions</th>\n",
       "      <th>Impact Score</th>\n",
       "    </tr>\n",
       "    <tr>\n",
       "      <th>Category</th>\n",
       "      <th></th>\n",
       "      <th></th>\n",
       "      <th></th>\n",
       "    </tr>\n",
       "  </thead>\n",
       "  <tbody>\n",
       "    <tr>\n",
       "      <th>Expression Variants</th>\n",
       "      <td>11 / 428  (2.57%)</td>\n",
       "      <td>12 / 898  (1.34%)</td>\n",
       "      <td>12.0</td>\n",
       "    </tr>\n",
       "    <tr>\n",
       "      <th>Epigenetic Modification</th>\n",
       "      <td>0 / 428  (0.00%)</td>\n",
       "      <td>0 / 898  (0.00%)</td>\n",
       "      <td>0.0</td>\n",
       "    </tr>\n",
       "    <tr>\n",
       "      <th>Fusion Variants</th>\n",
       "      <td>0 / 428  (0.00%)</td>\n",
       "      <td>0 / 898  (0.00%)</td>\n",
       "      <td>0.0</td>\n",
       "    </tr>\n",
       "    <tr>\n",
       "      <th>Sequence Variants</th>\n",
       "      <td>323 / 428  (75.47%)</td>\n",
       "      <td>679 / 898  (75.61%)</td>\n",
       "      <td>4182.5</td>\n",
       "    </tr>\n",
       "    <tr>\n",
       "      <th>Gene Function Variants</th>\n",
       "      <td>0 / 428  (0.00%)</td>\n",
       "      <td>0 / 898  (0.00%)</td>\n",
       "      <td>0.0</td>\n",
       "    </tr>\n",
       "    <tr>\n",
       "      <th>Rearrangement Variants</th>\n",
       "      <td>38 / 428  (8.88%)</td>\n",
       "      <td>82 / 898  (9.13%)</td>\n",
       "      <td>653.0</td>\n",
       "    </tr>\n",
       "    <tr>\n",
       "      <th>Copy Number Variants</th>\n",
       "      <td>47 / 428  (10.98%)</td>\n",
       "      <td>102 / 898  (11.36%)</td>\n",
       "      <td>400.0</td>\n",
       "    </tr>\n",
       "    <tr>\n",
       "      <th>Other Variants</th>\n",
       "      <td>9 / 428  (2.10%)</td>\n",
       "      <td>23 / 898  (2.56%)</td>\n",
       "      <td>53.5</td>\n",
       "    </tr>\n",
       "    <tr>\n",
       "      <th>Genotype Variants</th>\n",
       "      <td>0 / 428  (0.00%)</td>\n",
       "      <td>0 / 898  (0.00%)</td>\n",
       "      <td>0.0</td>\n",
       "    </tr>\n",
       "    <tr>\n",
       "      <th>Region Defined Variants</th>\n",
       "      <td>0 / 428  (0.00%)</td>\n",
       "      <td>0 / 898  (0.00%)</td>\n",
       "      <td>0.0</td>\n",
       "    </tr>\n",
       "    <tr>\n",
       "      <th>Transcript Variants</th>\n",
       "      <td>0 / 428  (0.00%)</td>\n",
       "      <td>0 / 898  (0.00%)</td>\n",
       "      <td>0.0</td>\n",
       "    </tr>\n",
       "  </tbody>\n",
       "</table>\n",
       "</div>"
      ],
      "text/plain": [
       "                         Percent of Features Percent of Assertions  \\\n",
       "Category                                                             \n",
       "Expression Variants        11 / 428  (2.57%)     12 / 898  (1.34%)   \n",
       "Epigenetic Modification     0 / 428  (0.00%)      0 / 898  (0.00%)   \n",
       "Fusion Variants             0 / 428  (0.00%)      0 / 898  (0.00%)   \n",
       "Sequence Variants        323 / 428  (75.47%)   679 / 898  (75.61%)   \n",
       "Gene Function Variants      0 / 428  (0.00%)      0 / 898  (0.00%)   \n",
       "Rearrangement Variants     38 / 428  (8.88%)     82 / 898  (9.13%)   \n",
       "Copy Number Variants      47 / 428  (10.98%)   102 / 898  (11.36%)   \n",
       "Other Variants              9 / 428  (2.10%)     23 / 898  (2.56%)   \n",
       "Genotype Variants           0 / 428  (0.00%)      0 / 898  (0.00%)   \n",
       "Region Defined Variants     0 / 428  (0.00%)      0 / 898  (0.00%)   \n",
       "Transcript Variants         0 / 428  (0.00%)      0 / 898  (0.00%)   \n",
       "\n",
       "                         Impact Score  \n",
       "Category                               \n",
       "Expression Variants              12.0  \n",
       "Epigenetic Modification           0.0  \n",
       "Fusion Variants                   0.0  \n",
       "Sequence Variants              4182.5  \n",
       "Gene Function Variants            0.0  \n",
       "Rearrangement Variants          653.0  \n",
       "Copy Number Variants            400.0  \n",
       "Other Variants                   53.5  \n",
       "Genotype Variants                 0.0  \n",
       "Region Defined Variants           0.0  \n",
       "Transcript Variants               0.0  "
      ]
     },
     "execution_count": 221,
     "metadata": {},
     "output_type": "execute_result"
    }
   ],
   "source": [
    "moa_feature_df_abbreviated = moa_feature_df_abbreviated.set_index(\"Category\")\n",
    "moa_feature_df_abbreviated"
   ]
  },
  {
   "cell_type": "code",
   "execution_count": 222,
   "metadata": {},
   "outputs": [
    {
     "data": {
      "application/vnd.plotly.v1+json": {
       "config": {
        "plotlyServerURL": "https://plot.ly"
       },
       "data": [
        {
         "hovertemplate": "Category=Expression Variants<br>Number of Assertions=%{x}<br>Impact Score=%{y}<br>Number of Features=%{text}<extra></extra>",
         "legendgroup": "Expression Variants",
         "marker": {
          "color": "#636efa",
          "size": [
           11
          ],
          "sizemode": "area",
          "sizeref": 0.201875,
          "symbol": "circle"
         },
         "mode": "markers+text",
         "name": "Expression Variants",
         "orientation": "v",
         "showlegend": true,
         "text": [
          11
         ],
         "type": "scatter",
         "x": [
          12
         ],
         "xaxis": "x",
         "y": [
          12
         ],
         "yaxis": "y"
        },
        {
         "hovertemplate": "Category=Epigenetic Modification<br>Number of Assertions=%{x}<br>Impact Score=%{y}<br>Number of Features=%{text}<extra></extra>",
         "legendgroup": "Epigenetic Modification",
         "marker": {
          "color": "#EF553B",
          "size": [
           0
          ],
          "sizemode": "area",
          "sizeref": 0.201875,
          "symbol": "circle"
         },
         "mode": "markers+text",
         "name": "Epigenetic Modification",
         "orientation": "v",
         "showlegend": true,
         "text": [
          0
         ],
         "type": "scatter",
         "x": [
          0
         ],
         "xaxis": "x",
         "y": [
          0
         ],
         "yaxis": "y"
        },
        {
         "hovertemplate": "Category=Fusion Variants<br>Number of Assertions=%{x}<br>Impact Score=%{y}<br>Number of Features=%{text}<extra></extra>",
         "legendgroup": "Fusion Variants",
         "marker": {
          "color": "#00cc96",
          "size": [
           0
          ],
          "sizemode": "area",
          "sizeref": 0.201875,
          "symbol": "circle"
         },
         "mode": "markers+text",
         "name": "Fusion Variants",
         "orientation": "v",
         "showlegend": true,
         "text": [
          0
         ],
         "type": "scatter",
         "x": [
          0
         ],
         "xaxis": "x",
         "y": [
          0
         ],
         "yaxis": "y"
        },
        {
         "hovertemplate": "Category=Sequence Variants<br>Number of Assertions=%{x}<br>Impact Score=%{y}<br>Number of Features=%{text}<extra></extra>",
         "legendgroup": "Sequence Variants",
         "marker": {
          "color": "#ab63fa",
          "size": [
           323
          ],
          "sizemode": "area",
          "sizeref": 0.201875,
          "symbol": "circle"
         },
         "mode": "markers+text",
         "name": "Sequence Variants",
         "orientation": "v",
         "showlegend": true,
         "text": [
          323
         ],
         "type": "scatter",
         "x": [
          679
         ],
         "xaxis": "x",
         "y": [
          4182.5
         ],
         "yaxis": "y"
        },
        {
         "hovertemplate": "Category=Gene Function Variants<br>Number of Assertions=%{x}<br>Impact Score=%{y}<br>Number of Features=%{text}<extra></extra>",
         "legendgroup": "Gene Function Variants",
         "marker": {
          "color": "#FFA15A",
          "size": [
           0
          ],
          "sizemode": "area",
          "sizeref": 0.201875,
          "symbol": "circle"
         },
         "mode": "markers+text",
         "name": "Gene Function Variants",
         "orientation": "v",
         "showlegend": true,
         "text": [
          0
         ],
         "type": "scatter",
         "x": [
          0
         ],
         "xaxis": "x",
         "y": [
          0
         ],
         "yaxis": "y"
        },
        {
         "hovertemplate": "Category=Rearrangement Variants<br>Number of Assertions=%{x}<br>Impact Score=%{y}<br>Number of Features=%{text}<extra></extra>",
         "legendgroup": "Rearrangement Variants",
         "marker": {
          "color": "#19d3f3",
          "size": [
           38
          ],
          "sizemode": "area",
          "sizeref": 0.201875,
          "symbol": "circle"
         },
         "mode": "markers+text",
         "name": "Rearrangement Variants",
         "orientation": "v",
         "showlegend": true,
         "text": [
          38
         ],
         "type": "scatter",
         "x": [
          82
         ],
         "xaxis": "x",
         "y": [
          653
         ],
         "yaxis": "y"
        },
        {
         "hovertemplate": "Category=Copy Number Variants<br>Number of Assertions=%{x}<br>Impact Score=%{y}<br>Number of Features=%{text}<extra></extra>",
         "legendgroup": "Copy Number Variants",
         "marker": {
          "color": "#FF6692",
          "size": [
           47
          ],
          "sizemode": "area",
          "sizeref": 0.201875,
          "symbol": "circle"
         },
         "mode": "markers+text",
         "name": "Copy Number Variants",
         "orientation": "v",
         "showlegend": true,
         "text": [
          47
         ],
         "type": "scatter",
         "x": [
          102
         ],
         "xaxis": "x",
         "y": [
          400
         ],
         "yaxis": "y"
        },
        {
         "hovertemplate": "Category=Other Variants<br>Number of Assertions=%{x}<br>Impact Score=%{y}<br>Number of Features=%{text}<extra></extra>",
         "legendgroup": "Other Variants",
         "marker": {
          "color": "#B6E880",
          "size": [
           9
          ],
          "sizemode": "area",
          "sizeref": 0.201875,
          "symbol": "circle"
         },
         "mode": "markers+text",
         "name": "Other Variants",
         "orientation": "v",
         "showlegend": true,
         "text": [
          9
         ],
         "type": "scatter",
         "x": [
          23
         ],
         "xaxis": "x",
         "y": [
          53.5
         ],
         "yaxis": "y"
        },
        {
         "hovertemplate": "Category=Genotype Variants<br>Number of Assertions=%{x}<br>Impact Score=%{y}<br>Number of Features=%{text}<extra></extra>",
         "legendgroup": "Genotype Variants",
         "marker": {
          "color": "#FF97FF",
          "size": [
           0
          ],
          "sizemode": "area",
          "sizeref": 0.201875,
          "symbol": "circle"
         },
         "mode": "markers+text",
         "name": "Genotype Variants",
         "orientation": "v",
         "showlegend": true,
         "text": [
          0
         ],
         "type": "scatter",
         "x": [
          0
         ],
         "xaxis": "x",
         "y": [
          0
         ],
         "yaxis": "y"
        },
        {
         "hovertemplate": "Category=Region Defined Variants<br>Number of Assertions=%{x}<br>Impact Score=%{y}<br>Number of Features=%{text}<extra></extra>",
         "legendgroup": "Region Defined Variants",
         "marker": {
          "color": "#FECB52",
          "size": [
           0
          ],
          "sizemode": "area",
          "sizeref": 0.201875,
          "symbol": "circle"
         },
         "mode": "markers+text",
         "name": "Region Defined Variants",
         "orientation": "v",
         "showlegend": true,
         "text": [
          0
         ],
         "type": "scatter",
         "x": [
          0
         ],
         "xaxis": "x",
         "y": [
          0
         ],
         "yaxis": "y"
        },
        {
         "hovertemplate": "Category=Transcript Variants<br>Number of Assertions=%{x}<br>Impact Score=%{y}<br>Number of Features=%{text}<extra></extra>",
         "legendgroup": "Transcript Variants",
         "marker": {
          "color": "#636efa",
          "size": [
           0
          ],
          "sizemode": "area",
          "sizeref": 0.201875,
          "symbol": "circle"
         },
         "mode": "markers+text",
         "name": "Transcript Variants",
         "orientation": "v",
         "showlegend": true,
         "text": [
          0
         ],
         "type": "scatter",
         "x": [
          0
         ],
         "xaxis": "x",
         "y": [
          0
         ],
         "yaxis": "y"
        }
       ],
       "layout": {
        "legend": {
         "itemsizing": "constant",
         "title": {
          "text": "Category"
         },
         "tracegroupgap": 0
        },
        "margin": {
         "t": 60
        },
        "template": {
         "data": {
          "bar": [
           {
            "error_x": {
             "color": "#2a3f5f"
            },
            "error_y": {
             "color": "#2a3f5f"
            },
            "marker": {
             "line": {
              "color": "#E5ECF6",
              "width": 0.5
             },
             "pattern": {
              "fillmode": "overlay",
              "size": 10,
              "solidity": 0.2
             }
            },
            "type": "bar"
           }
          ],
          "barpolar": [
           {
            "marker": {
             "line": {
              "color": "#E5ECF6",
              "width": 0.5
             },
             "pattern": {
              "fillmode": "overlay",
              "size": 10,
              "solidity": 0.2
             }
            },
            "type": "barpolar"
           }
          ],
          "carpet": [
           {
            "aaxis": {
             "endlinecolor": "#2a3f5f",
             "gridcolor": "white",
             "linecolor": "white",
             "minorgridcolor": "white",
             "startlinecolor": "#2a3f5f"
            },
            "baxis": {
             "endlinecolor": "#2a3f5f",
             "gridcolor": "white",
             "linecolor": "white",
             "minorgridcolor": "white",
             "startlinecolor": "#2a3f5f"
            },
            "type": "carpet"
           }
          ],
          "choropleth": [
           {
            "colorbar": {
             "outlinewidth": 0,
             "ticks": ""
            },
            "type": "choropleth"
           }
          ],
          "contour": [
           {
            "colorbar": {
             "outlinewidth": 0,
             "ticks": ""
            },
            "colorscale": [
             [
              0,
              "#0d0887"
             ],
             [
              0.1111111111111111,
              "#46039f"
             ],
             [
              0.2222222222222222,
              "#7201a8"
             ],
             [
              0.3333333333333333,
              "#9c179e"
             ],
             [
              0.4444444444444444,
              "#bd3786"
             ],
             [
              0.5555555555555556,
              "#d8576b"
             ],
             [
              0.6666666666666666,
              "#ed7953"
             ],
             [
              0.7777777777777778,
              "#fb9f3a"
             ],
             [
              0.8888888888888888,
              "#fdca26"
             ],
             [
              1,
              "#f0f921"
             ]
            ],
            "type": "contour"
           }
          ],
          "contourcarpet": [
           {
            "colorbar": {
             "outlinewidth": 0,
             "ticks": ""
            },
            "type": "contourcarpet"
           }
          ],
          "heatmap": [
           {
            "colorbar": {
             "outlinewidth": 0,
             "ticks": ""
            },
            "colorscale": [
             [
              0,
              "#0d0887"
             ],
             [
              0.1111111111111111,
              "#46039f"
             ],
             [
              0.2222222222222222,
              "#7201a8"
             ],
             [
              0.3333333333333333,
              "#9c179e"
             ],
             [
              0.4444444444444444,
              "#bd3786"
             ],
             [
              0.5555555555555556,
              "#d8576b"
             ],
             [
              0.6666666666666666,
              "#ed7953"
             ],
             [
              0.7777777777777778,
              "#fb9f3a"
             ],
             [
              0.8888888888888888,
              "#fdca26"
             ],
             [
              1,
              "#f0f921"
             ]
            ],
            "type": "heatmap"
           }
          ],
          "heatmapgl": [
           {
            "colorbar": {
             "outlinewidth": 0,
             "ticks": ""
            },
            "colorscale": [
             [
              0,
              "#0d0887"
             ],
             [
              0.1111111111111111,
              "#46039f"
             ],
             [
              0.2222222222222222,
              "#7201a8"
             ],
             [
              0.3333333333333333,
              "#9c179e"
             ],
             [
              0.4444444444444444,
              "#bd3786"
             ],
             [
              0.5555555555555556,
              "#d8576b"
             ],
             [
              0.6666666666666666,
              "#ed7953"
             ],
             [
              0.7777777777777778,
              "#fb9f3a"
             ],
             [
              0.8888888888888888,
              "#fdca26"
             ],
             [
              1,
              "#f0f921"
             ]
            ],
            "type": "heatmapgl"
           }
          ],
          "histogram": [
           {
            "marker": {
             "pattern": {
              "fillmode": "overlay",
              "size": 10,
              "solidity": 0.2
             }
            },
            "type": "histogram"
           }
          ],
          "histogram2d": [
           {
            "colorbar": {
             "outlinewidth": 0,
             "ticks": ""
            },
            "colorscale": [
             [
              0,
              "#0d0887"
             ],
             [
              0.1111111111111111,
              "#46039f"
             ],
             [
              0.2222222222222222,
              "#7201a8"
             ],
             [
              0.3333333333333333,
              "#9c179e"
             ],
             [
              0.4444444444444444,
              "#bd3786"
             ],
             [
              0.5555555555555556,
              "#d8576b"
             ],
             [
              0.6666666666666666,
              "#ed7953"
             ],
             [
              0.7777777777777778,
              "#fb9f3a"
             ],
             [
              0.8888888888888888,
              "#fdca26"
             ],
             [
              1,
              "#f0f921"
             ]
            ],
            "type": "histogram2d"
           }
          ],
          "histogram2dcontour": [
           {
            "colorbar": {
             "outlinewidth": 0,
             "ticks": ""
            },
            "colorscale": [
             [
              0,
              "#0d0887"
             ],
             [
              0.1111111111111111,
              "#46039f"
             ],
             [
              0.2222222222222222,
              "#7201a8"
             ],
             [
              0.3333333333333333,
              "#9c179e"
             ],
             [
              0.4444444444444444,
              "#bd3786"
             ],
             [
              0.5555555555555556,
              "#d8576b"
             ],
             [
              0.6666666666666666,
              "#ed7953"
             ],
             [
              0.7777777777777778,
              "#fb9f3a"
             ],
             [
              0.8888888888888888,
              "#fdca26"
             ],
             [
              1,
              "#f0f921"
             ]
            ],
            "type": "histogram2dcontour"
           }
          ],
          "mesh3d": [
           {
            "colorbar": {
             "outlinewidth": 0,
             "ticks": ""
            },
            "type": "mesh3d"
           }
          ],
          "parcoords": [
           {
            "line": {
             "colorbar": {
              "outlinewidth": 0,
              "ticks": ""
             }
            },
            "type": "parcoords"
           }
          ],
          "pie": [
           {
            "automargin": true,
            "type": "pie"
           }
          ],
          "scatter": [
           {
            "fillpattern": {
             "fillmode": "overlay",
             "size": 10,
             "solidity": 0.2
            },
            "type": "scatter"
           }
          ],
          "scatter3d": [
           {
            "line": {
             "colorbar": {
              "outlinewidth": 0,
              "ticks": ""
             }
            },
            "marker": {
             "colorbar": {
              "outlinewidth": 0,
              "ticks": ""
             }
            },
            "type": "scatter3d"
           }
          ],
          "scattercarpet": [
           {
            "marker": {
             "colorbar": {
              "outlinewidth": 0,
              "ticks": ""
             }
            },
            "type": "scattercarpet"
           }
          ],
          "scattergeo": [
           {
            "marker": {
             "colorbar": {
              "outlinewidth": 0,
              "ticks": ""
             }
            },
            "type": "scattergeo"
           }
          ],
          "scattergl": [
           {
            "marker": {
             "colorbar": {
              "outlinewidth": 0,
              "ticks": ""
             }
            },
            "type": "scattergl"
           }
          ],
          "scattermapbox": [
           {
            "marker": {
             "colorbar": {
              "outlinewidth": 0,
              "ticks": ""
             }
            },
            "type": "scattermapbox"
           }
          ],
          "scatterpolar": [
           {
            "marker": {
             "colorbar": {
              "outlinewidth": 0,
              "ticks": ""
             }
            },
            "type": "scatterpolar"
           }
          ],
          "scatterpolargl": [
           {
            "marker": {
             "colorbar": {
              "outlinewidth": 0,
              "ticks": ""
             }
            },
            "type": "scatterpolargl"
           }
          ],
          "scatterternary": [
           {
            "marker": {
             "colorbar": {
              "outlinewidth": 0,
              "ticks": ""
             }
            },
            "type": "scatterternary"
           }
          ],
          "surface": [
           {
            "colorbar": {
             "outlinewidth": 0,
             "ticks": ""
            },
            "colorscale": [
             [
              0,
              "#0d0887"
             ],
             [
              0.1111111111111111,
              "#46039f"
             ],
             [
              0.2222222222222222,
              "#7201a8"
             ],
             [
              0.3333333333333333,
              "#9c179e"
             ],
             [
              0.4444444444444444,
              "#bd3786"
             ],
             [
              0.5555555555555556,
              "#d8576b"
             ],
             [
              0.6666666666666666,
              "#ed7953"
             ],
             [
              0.7777777777777778,
              "#fb9f3a"
             ],
             [
              0.8888888888888888,
              "#fdca26"
             ],
             [
              1,
              "#f0f921"
             ]
            ],
            "type": "surface"
           }
          ],
          "table": [
           {
            "cells": {
             "fill": {
              "color": "#EBF0F8"
             },
             "line": {
              "color": "white"
             }
            },
            "header": {
             "fill": {
              "color": "#C8D4E3"
             },
             "line": {
              "color": "white"
             }
            },
            "type": "table"
           }
          ]
         },
         "layout": {
          "annotationdefaults": {
           "arrowcolor": "#2a3f5f",
           "arrowhead": 0,
           "arrowwidth": 1
          },
          "autotypenumbers": "strict",
          "coloraxis": {
           "colorbar": {
            "outlinewidth": 0,
            "ticks": ""
           }
          },
          "colorscale": {
           "diverging": [
            [
             0,
             "#8e0152"
            ],
            [
             0.1,
             "#c51b7d"
            ],
            [
             0.2,
             "#de77ae"
            ],
            [
             0.3,
             "#f1b6da"
            ],
            [
             0.4,
             "#fde0ef"
            ],
            [
             0.5,
             "#f7f7f7"
            ],
            [
             0.6,
             "#e6f5d0"
            ],
            [
             0.7,
             "#b8e186"
            ],
            [
             0.8,
             "#7fbc41"
            ],
            [
             0.9,
             "#4d9221"
            ],
            [
             1,
             "#276419"
            ]
           ],
           "sequential": [
            [
             0,
             "#0d0887"
            ],
            [
             0.1111111111111111,
             "#46039f"
            ],
            [
             0.2222222222222222,
             "#7201a8"
            ],
            [
             0.3333333333333333,
             "#9c179e"
            ],
            [
             0.4444444444444444,
             "#bd3786"
            ],
            [
             0.5555555555555556,
             "#d8576b"
            ],
            [
             0.6666666666666666,
             "#ed7953"
            ],
            [
             0.7777777777777778,
             "#fb9f3a"
            ],
            [
             0.8888888888888888,
             "#fdca26"
            ],
            [
             1,
             "#f0f921"
            ]
           ],
           "sequentialminus": [
            [
             0,
             "#0d0887"
            ],
            [
             0.1111111111111111,
             "#46039f"
            ],
            [
             0.2222222222222222,
             "#7201a8"
            ],
            [
             0.3333333333333333,
             "#9c179e"
            ],
            [
             0.4444444444444444,
             "#bd3786"
            ],
            [
             0.5555555555555556,
             "#d8576b"
            ],
            [
             0.6666666666666666,
             "#ed7953"
            ],
            [
             0.7777777777777778,
             "#fb9f3a"
            ],
            [
             0.8888888888888888,
             "#fdca26"
            ],
            [
             1,
             "#f0f921"
            ]
           ]
          },
          "colorway": [
           "#636efa",
           "#EF553B",
           "#00cc96",
           "#ab63fa",
           "#FFA15A",
           "#19d3f3",
           "#FF6692",
           "#B6E880",
           "#FF97FF",
           "#FECB52"
          ],
          "font": {
           "color": "#2a3f5f"
          },
          "geo": {
           "bgcolor": "white",
           "lakecolor": "white",
           "landcolor": "#E5ECF6",
           "showlakes": true,
           "showland": true,
           "subunitcolor": "white"
          },
          "hoverlabel": {
           "align": "left"
          },
          "hovermode": "closest",
          "mapbox": {
           "style": "light"
          },
          "paper_bgcolor": "white",
          "plot_bgcolor": "#E5ECF6",
          "polar": {
           "angularaxis": {
            "gridcolor": "white",
            "linecolor": "white",
            "ticks": ""
           },
           "bgcolor": "#E5ECF6",
           "radialaxis": {
            "gridcolor": "white",
            "linecolor": "white",
            "ticks": ""
           }
          },
          "scene": {
           "xaxis": {
            "backgroundcolor": "#E5ECF6",
            "gridcolor": "white",
            "gridwidth": 2,
            "linecolor": "white",
            "showbackground": true,
            "ticks": "",
            "zerolinecolor": "white"
           },
           "yaxis": {
            "backgroundcolor": "#E5ECF6",
            "gridcolor": "white",
            "gridwidth": 2,
            "linecolor": "white",
            "showbackground": true,
            "ticks": "",
            "zerolinecolor": "white"
           },
           "zaxis": {
            "backgroundcolor": "#E5ECF6",
            "gridcolor": "white",
            "gridwidth": 2,
            "linecolor": "white",
            "showbackground": true,
            "ticks": "",
            "zerolinecolor": "white"
           }
          },
          "shapedefaults": {
           "line": {
            "color": "#2a3f5f"
           }
          },
          "ternary": {
           "aaxis": {
            "gridcolor": "white",
            "linecolor": "white",
            "ticks": ""
           },
           "baxis": {
            "gridcolor": "white",
            "linecolor": "white",
            "ticks": ""
           },
           "bgcolor": "#E5ECF6",
           "caxis": {
            "gridcolor": "white",
            "linecolor": "white",
            "ticks": ""
           }
          },
          "title": {
           "x": 0.05
          },
          "xaxis": {
           "automargin": true,
           "gridcolor": "white",
           "linecolor": "white",
           "ticks": "",
           "title": {
            "standoff": 15
           },
           "zerolinecolor": "white",
           "zerolinewidth": 2
          },
          "yaxis": {
           "automargin": true,
           "gridcolor": "white",
           "linecolor": "white",
           "ticks": "",
           "title": {
            "standoff": 15
           },
           "zerolinecolor": "white",
           "zerolinewidth": 2
          }
         }
        },
        "xaxis": {
         "anchor": "y",
         "domain": [
          0,
          1
         ],
         "title": {
          "text": "Number of Assertions"
         }
        },
        "yaxis": {
         "anchor": "x",
         "domain": [
          0,
          1
         ],
         "title": {
          "text": "Impact Score"
         }
        }
       }
      }
     },
     "metadata": {},
     "output_type": "display_data"
    }
   ],
   "source": [
    "fig = px.scatter(\n",
    "    data_frame=moa_feature_df,\n",
    "    x=\"Number of Assertions\",\n",
    "    y=\"Impact Score\",\n",
    "    size=\"Number of Features\",\n",
    "    size_max=40,\n",
    "    text=\"Number of Features\",\n",
    "    color=\"Category\",\n",
    ")\n",
    "fig.show()"
   ]
  },
  {
   "cell_type": "code",
   "execution_count": 223,
   "metadata": {},
   "outputs": [],
   "source": [
    "fig.write_html(\n",
    "    \"moa_assertion_analysis_output/moa_feature_categories_impact_scatterplot.html\"\n",
    ")"
   ]
  },
  {
   "cell_type": "markdown",
   "metadata": {},
   "source": [
    "## <a id='toc1_4_'></a>[Create functions / global variables used in analysis](#toc0_)"
   ]
  },
  {
   "cell_type": "code",
   "execution_count": 224,
   "metadata": {},
   "outputs": [
    {
     "data": {
      "text/plain": [
       "{'Variant Category': ['Normalized', 'Not Supported'],\n",
       " 'Count of MOA Features per Category': [],\n",
       " 'Fraction of all MOA Features': [],\n",
       " 'Percent of all MOA Features': []}"
      ]
     },
     "execution_count": 224,
     "metadata": {},
     "output_type": "execute_result"
    }
   ],
   "source": [
    "feature_analysis_summary = {\n",
    "    \"Variant Category\": VARIANT_NORM_TYPE_VALUES,\n",
    "    \"Count of MOA Features per Category\": [],\n",
    "    \"Fraction of all MOA Features\": [],\n",
    "    \"Percent of all MOA Features\": [],\n",
    "}\n",
    "feature_analysis_summary"
   ]
  },
  {
   "cell_type": "code",
   "execution_count": 225,
   "metadata": {},
   "outputs": [],
   "source": [
    "def feature_analysis(\n",
    "    df: pd.DataFrame, variant_norm_type: VariantNormType\n",
    ") -> pd.DataFrame:\n",
    "    \"\"\"Do feature analysis (counts, percents). Updates `feature_analysis_summary`\n",
    "\n",
    "    :param df: Dataframe of variants\n",
    "    :param variant_norm_type: The kind of features that are in `df`\n",
    "    :return: Transformed dataframe with variant ID duplicates dropped\n",
    "    \"\"\"\n",
    "    # Drop duplicate rows\n",
    "    df = df.drop_duplicates(subset=[\"feature_id\"])\n",
    "    feature_ids = list(df[\"feature_id\"])\n",
    "\n",
    "    # Count\n",
    "    num_features = len(feature_ids)\n",
    "    fraction_features = f\"{num_features} / {total_len_features}\"\n",
    "    print(f\"\\nNumber of {variant_norm_type.value} Features in MOA: {fraction_features}\")\n",
    "\n",
    "    # Percent\n",
    "    percent_features = f\"{num_features / total_len_features * 100:.2f}%\"\n",
    "    print(f\"Percent of {variant_norm_type.value} Features in MOA: {percent_features}\")\n",
    "\n",
    "    feature_analysis_summary[\"Count of MOA Features per Category\"].append(num_features)\n",
    "    feature_analysis_summary[\"Fraction of all MOA Features\"].append(fraction_features)\n",
    "    feature_analysis_summary[\"Percent of all MOA Features\"].append(percent_features)\n",
    "\n",
    "    return df"
   ]
  },
  {
   "cell_type": "code",
   "execution_count": 226,
   "metadata": {},
   "outputs": [
    {
     "data": {
      "text/plain": [
       "{'Variant Category': ['Normalized', 'Not Supported'],\n",
       " 'Count of MOA Assertions per Category': [],\n",
       " 'Fraction of all MOA Assertions': [],\n",
       " 'Percent of all MOA Assertions': []}"
      ]
     },
     "execution_count": 226,
     "metadata": {},
     "output_type": "execute_result"
    }
   ],
   "source": [
    "assertion_analysis_summary = {\n",
    "    \"Variant Category\": VARIANT_NORM_TYPE_VALUES,\n",
    "    \"Count of MOA Assertions per Category\": [],\n",
    "    \"Fraction of all MOA Assertions\": [],\n",
    "    \"Percent of all MOA Assertions\": [],\n",
    "}\n",
    "assertion_analysis_summary"
   ]
  },
  {
   "cell_type": "code",
   "execution_count": 227,
   "metadata": {},
   "outputs": [],
   "source": [
    "def assertion_analysis(\n",
    "    all_df: pd.DataFrame,\n",
    "    variant_norm_df: pd.DataFrame,\n",
    "    variant_norm_type: VariantNormType,\n",
    ") -> str:\n",
    "    \"\"\"Do evidence analysis (counts, percents). Updates `assertion_analysis_summary`\n",
    "\n",
    "    :param all_df: Dataframe for all assertions and features\n",
    "    :param variant_norm_df: Dataframe for features given certain `variant_norm_type`\n",
    "    :param variant_norm_type: The kind of variants that are in `df`\n",
    "    \"\"\"\n",
    "    # Need to do this bc of duplicate features\n",
    "    _feature_ids = set(variant_norm_df.feature_digest)\n",
    "    tmp_df = all_df[all_df[\"feature_digest\"].isin(_feature_ids)]\n",
    "\n",
    "    # Count\n",
    "    num_assertions = len(tmp_df.assertion_id)\n",
    "    fraction_assertions = f\"{num_assertions} / {total_len_assertions}\"\n",
    "    print(\n",
    "        f\"Number of {variant_norm_type.value} Feature Assertions in MOA: {fraction_assertions}\"\n",
    "    )\n",
    "\n",
    "    # Percent\n",
    "    percent_assertions = f\"{num_assertions / total_len_assertions * 100:.2f}%\"\n",
    "    print(\n",
    "        f\"Percent of {variant_norm_type.value} Feature Assertions in MOA: {percent_assertions}\"\n",
    "    )\n",
    "\n",
    "    assertion_analysis_summary[\"Count of MOA Assertions per Category\"].append(\n",
    "        num_assertions\n",
    "    )\n",
    "    assertion_analysis_summary[\"Fraction of all MOA Assertions\"].append(\n",
    "        fraction_assertions\n",
    "    )\n",
    "    assertion_analysis_summary[\"Percent of all MOA Assertions\"].append(\n",
    "        percent_assertions\n",
    "    )"
   ]
  },
  {
   "cell_type": "code",
   "execution_count": 228,
   "metadata": {},
   "outputs": [
    {
     "data": {
      "text/html": [
       "<div>\n",
       "<style scoped>\n",
       "    .dataframe tbody tr th:only-of-type {\n",
       "        vertical-align: middle;\n",
       "    }\n",
       "\n",
       "    .dataframe tbody tr th {\n",
       "        vertical-align: top;\n",
       "    }\n",
       "\n",
       "    .dataframe thead th {\n",
       "        text-align: right;\n",
       "    }\n",
       "</style>\n",
       "<table border=\"1\" class=\"dataframe\">\n",
       "  <thead>\n",
       "    <tr style=\"text-align: right;\">\n",
       "      <th></th>\n",
       "      <th>feature_id</th>\n",
       "      <th>feature_digest</th>\n",
       "    </tr>\n",
       "  </thead>\n",
       "  <tbody>\n",
       "    <tr>\n",
       "      <th>0</th>\n",
       "      <td>1</td>\n",
       "      <td>B5m8cSgi6w2xRCg0X_dPpQU2dwbvtXk1</td>\n",
       "    </tr>\n",
       "    <tr>\n",
       "      <th>1</th>\n",
       "      <td>2</td>\n",
       "      <td>B5m8cSgi6w2xRCg0X_dPpQU2dwbvtXk1</td>\n",
       "    </tr>\n",
       "    <tr>\n",
       "      <th>2</th>\n",
       "      <td>3</td>\n",
       "      <td>B5m8cSgi6w2xRCg0X_dPpQU2dwbvtXk1</td>\n",
       "    </tr>\n",
       "    <tr>\n",
       "      <th>3</th>\n",
       "      <td>4</td>\n",
       "      <td>B5m8cSgi6w2xRCg0X_dPpQU2dwbvtXk1</td>\n",
       "    </tr>\n",
       "    <tr>\n",
       "      <th>4</th>\n",
       "      <td>5</td>\n",
       "      <td>B5m8cSgi6w2xRCg0X_dPpQU2dwbvtXk1</td>\n",
       "    </tr>\n",
       "    <tr>\n",
       "      <th>...</th>\n",
       "      <td>...</td>\n",
       "      <td>...</td>\n",
       "    </tr>\n",
       "    <tr>\n",
       "      <th>893</th>\n",
       "      <td>894</td>\n",
       "      <td>B5m8cSgi6w2xRCg0X_dPpQU2dwbvtXk1</td>\n",
       "    </tr>\n",
       "    <tr>\n",
       "      <th>894</th>\n",
       "      <td>895</td>\n",
       "      <td>B5m8cSgi6w2xRCg0X_dPpQU2dwbvtXk1</td>\n",
       "    </tr>\n",
       "    <tr>\n",
       "      <th>895</th>\n",
       "      <td>896</td>\n",
       "      <td>B5m8cSgi6w2xRCg0X_dPpQU2dwbvtXk1</td>\n",
       "    </tr>\n",
       "    <tr>\n",
       "      <th>896</th>\n",
       "      <td>897</td>\n",
       "      <td>B5m8cSgi6w2xRCg0X_dPpQU2dwbvtXk1</td>\n",
       "    </tr>\n",
       "    <tr>\n",
       "      <th>897</th>\n",
       "      <td>898</td>\n",
       "      <td>B5m8cSgi6w2xRCg0X_dPpQU2dwbvtXk1</td>\n",
       "    </tr>\n",
       "  </tbody>\n",
       "</table>\n",
       "<p>898 rows × 2 columns</p>\n",
       "</div>"
      ],
      "text/plain": [
       "     feature_id                    feature_digest\n",
       "0             1  B5m8cSgi6w2xRCg0X_dPpQU2dwbvtXk1\n",
       "1             2  B5m8cSgi6w2xRCg0X_dPpQU2dwbvtXk1\n",
       "2             3  B5m8cSgi6w2xRCg0X_dPpQU2dwbvtXk1\n",
       "3             4  B5m8cSgi6w2xRCg0X_dPpQU2dwbvtXk1\n",
       "4             5  B5m8cSgi6w2xRCg0X_dPpQU2dwbvtXk1\n",
       "..          ...                               ...\n",
       "893         894  B5m8cSgi6w2xRCg0X_dPpQU2dwbvtXk1\n",
       "894         895  B5m8cSgi6w2xRCg0X_dPpQU2dwbvtXk1\n",
       "895         896  B5m8cSgi6w2xRCg0X_dPpQU2dwbvtXk1\n",
       "896         897  B5m8cSgi6w2xRCg0X_dPpQU2dwbvtXk1\n",
       "897         898  B5m8cSgi6w2xRCg0X_dPpQU2dwbvtXk1\n",
       "\n",
       "[898 rows x 2 columns]"
      ]
     },
     "execution_count": 228,
     "metadata": {},
     "output_type": "execute_result"
    }
   ],
   "source": [
    "feature_id_to_digest_df = pd.DataFrame(\n",
    "    feature_id_to_digest.items(), columns=[\"feature_id\", \"feature_digest\"]\n",
    ")\n",
    "feature_id_to_digest_df"
   ]
  },
  {
   "cell_type": "markdown",
   "metadata": {},
   "source": [
    "## <a id='toc1_5_'></a>[Normalized Analysis](#toc0_)"
   ]
  },
  {
   "cell_type": "code",
   "execution_count": 229,
   "metadata": {},
   "outputs": [
    {
     "data": {
      "text/plain": [
       "(179, 7)"
      ]
     },
     "execution_count": 229,
     "metadata": {},
     "output_type": "execute_result"
    }
   ],
   "source": [
    "normalized_queries_df = pd.read_csv(\n",
    "    \"../feature_analysis/able_to_normalize_queries.csv\", sep=\"\\t\"\n",
    ")\n",
    "normalized_queries_df = pd.merge(\n",
    "    normalized_queries_df,\n",
    "    feature_id_to_digest_df,\n",
    "    left_on=\"variant_id\",\n",
    "    right_on=\"feature_id\",\n",
    ")\n",
    "normalized_queries_df.shape"
   ]
  },
  {
   "cell_type": "code",
   "execution_count": 230,
   "metadata": {},
   "outputs": [],
   "source": [
    "normalized_queries_df = pd.merge(\n",
    "    normalized_queries_df[\"variant_id\"],\n",
    "    moa_df,\n",
    "    left_on=\"variant_id\",\n",
    "    right_on=\"feature_id\",\n",
    "    how=\"left\",\n",
    ")\n",
    "normalized_queries_df = normalized_queries_df.drop(columns=[\"variant_id\"])"
   ]
  },
  {
   "cell_type": "code",
   "execution_count": 231,
   "metadata": {},
   "outputs": [
    {
     "name": "stdout",
     "output_type": "stream",
     "text": [
      "\n",
      "Number of Normalized Features in MOA: 179 / 428\n",
      "Percent of Normalized Features in MOA: 41.82%\n"
     ]
    },
    {
     "data": {
      "text/html": [
       "<div>\n",
       "<style scoped>\n",
       "    .dataframe tbody tr th:only-of-type {\n",
       "        vertical-align: middle;\n",
       "    }\n",
       "\n",
       "    .dataframe tbody tr th {\n",
       "        vertical-align: top;\n",
       "    }\n",
       "\n",
       "    .dataframe thead th {\n",
       "        text-align: right;\n",
       "    }\n",
       "</style>\n",
       "<table border=\"1\" class=\"dataframe\">\n",
       "  <thead>\n",
       "    <tr style=\"text-align: right;\">\n",
       "      <th></th>\n",
       "      <th>assertion_id</th>\n",
       "      <th>feature_id</th>\n",
       "      <th>feature_type</th>\n",
       "      <th>predictive_implication</th>\n",
       "      <th>feature_digest</th>\n",
       "      <th>category</th>\n",
       "      <th>impact_score</th>\n",
       "    </tr>\n",
       "  </thead>\n",
       "  <tbody>\n",
       "    <tr>\n",
       "      <th>0</th>\n",
       "      <td>71</td>\n",
       "      <td>71</td>\n",
       "      <td>somatic_variant</td>\n",
       "      <td>Preclinical</td>\n",
       "      <td>KgolzM3HWhww4t4HywFYCySUtGRIQ_mx</td>\n",
       "      <td>Sequence Variants</td>\n",
       "      <td>1</td>\n",
       "    </tr>\n",
       "    <tr>\n",
       "      <th>1</th>\n",
       "      <td>73</td>\n",
       "      <td>73</td>\n",
       "      <td>somatic_variant</td>\n",
       "      <td>Clinical evidence</td>\n",
       "      <td>j3HtSnIdrU8CcuW8_Qs3qVxOn-kMJV1T</td>\n",
       "      <td>Sequence Variants</td>\n",
       "      <td>5</td>\n",
       "    </tr>\n",
       "    <tr>\n",
       "      <th>2</th>\n",
       "      <td>75</td>\n",
       "      <td>75</td>\n",
       "      <td>somatic_variant</td>\n",
       "      <td>Clinical evidence</td>\n",
       "      <td>X_Az48pPjt4IODuY2a50Yl2_1tGopcuF</td>\n",
       "      <td>Sequence Variants</td>\n",
       "      <td>5</td>\n",
       "    </tr>\n",
       "    <tr>\n",
       "      <th>3</th>\n",
       "      <td>76</td>\n",
       "      <td>76</td>\n",
       "      <td>somatic_variant</td>\n",
       "      <td>Clinical evidence</td>\n",
       "      <td>LQQXFXpA4FCOQ3Fz4988x2vynER4J-Wh</td>\n",
       "      <td>Sequence Variants</td>\n",
       "      <td>5</td>\n",
       "    </tr>\n",
       "    <tr>\n",
       "      <th>4</th>\n",
       "      <td>77</td>\n",
       "      <td>77</td>\n",
       "      <td>somatic_variant</td>\n",
       "      <td>Clinical evidence</td>\n",
       "      <td>DKoCqZUY0WBdUnoly9DL_PAjBBZTs51d</td>\n",
       "      <td>Sequence Variants</td>\n",
       "      <td>5</td>\n",
       "    </tr>\n",
       "    <tr>\n",
       "      <th>...</th>\n",
       "      <td>...</td>\n",
       "      <td>...</td>\n",
       "      <td>...</td>\n",
       "      <td>...</td>\n",
       "      <td>...</td>\n",
       "      <td>...</td>\n",
       "      <td>...</td>\n",
       "    </tr>\n",
       "    <tr>\n",
       "      <th>174</th>\n",
       "      <td>857</td>\n",
       "      <td>857</td>\n",
       "      <td>copy_number</td>\n",
       "      <td>Clinical evidence</td>\n",
       "      <td>UYE-1dofAcf0kc44xdOY2hxwkMNUzjl7</td>\n",
       "      <td>Copy Number Variants</td>\n",
       "      <td>5</td>\n",
       "    </tr>\n",
       "    <tr>\n",
       "      <th>175</th>\n",
       "      <td>858</td>\n",
       "      <td>858</td>\n",
       "      <td>copy_number</td>\n",
       "      <td>Inferential</td>\n",
       "      <td>s8SpNzXJuTJlGEqC0Rk-zd8ke9l4fq00</td>\n",
       "      <td>Copy Number Variants</td>\n",
       "      <td>0.5</td>\n",
       "    </tr>\n",
       "    <tr>\n",
       "      <th>176</th>\n",
       "      <td>867</td>\n",
       "      <td>867</td>\n",
       "      <td>somatic_variant</td>\n",
       "      <td>FDA-Approved</td>\n",
       "      <td>xEngbInsi1BKQp2pVFi44N8CYLj6ZEkD</td>\n",
       "      <td>Sequence Variants</td>\n",
       "      <td>10</td>\n",
       "    </tr>\n",
       "    <tr>\n",
       "      <th>177</th>\n",
       "      <td>868</td>\n",
       "      <td>868</td>\n",
       "      <td>somatic_variant</td>\n",
       "      <td>FDA-Approved</td>\n",
       "      <td>fqvuveTjuO96HizOsbWgFQmfF76lGtdl</td>\n",
       "      <td>Sequence Variants</td>\n",
       "      <td>10</td>\n",
       "    </tr>\n",
       "    <tr>\n",
       "      <th>178</th>\n",
       "      <td>869</td>\n",
       "      <td>869</td>\n",
       "      <td>somatic_variant</td>\n",
       "      <td>FDA-Approved</td>\n",
       "      <td>1JInmjKzPW9V9q9UKen4VODk1drBadA2</td>\n",
       "      <td>Sequence Variants</td>\n",
       "      <td>10</td>\n",
       "    </tr>\n",
       "  </tbody>\n",
       "</table>\n",
       "<p>179 rows × 7 columns</p>\n",
       "</div>"
      ],
      "text/plain": [
       "     assertion_id  feature_id     feature_type predictive_implication  \\\n",
       "0              71          71  somatic_variant            Preclinical   \n",
       "1              73          73  somatic_variant      Clinical evidence   \n",
       "2              75          75  somatic_variant      Clinical evidence   \n",
       "3              76          76  somatic_variant      Clinical evidence   \n",
       "4              77          77  somatic_variant      Clinical evidence   \n",
       "..            ...         ...              ...                    ...   \n",
       "174           857         857      copy_number      Clinical evidence   \n",
       "175           858         858      copy_number            Inferential   \n",
       "176           867         867  somatic_variant           FDA-Approved   \n",
       "177           868         868  somatic_variant           FDA-Approved   \n",
       "178           869         869  somatic_variant           FDA-Approved   \n",
       "\n",
       "                       feature_digest              category impact_score  \n",
       "0    KgolzM3HWhww4t4HywFYCySUtGRIQ_mx     Sequence Variants            1  \n",
       "1    j3HtSnIdrU8CcuW8_Qs3qVxOn-kMJV1T     Sequence Variants            5  \n",
       "2    X_Az48pPjt4IODuY2a50Yl2_1tGopcuF     Sequence Variants            5  \n",
       "3    LQQXFXpA4FCOQ3Fz4988x2vynER4J-Wh     Sequence Variants            5  \n",
       "4    DKoCqZUY0WBdUnoly9DL_PAjBBZTs51d     Sequence Variants            5  \n",
       "..                                ...                   ...          ...  \n",
       "174  UYE-1dofAcf0kc44xdOY2hxwkMNUzjl7  Copy Number Variants            5  \n",
       "175  s8SpNzXJuTJlGEqC0Rk-zd8ke9l4fq00  Copy Number Variants          0.5  \n",
       "176  xEngbInsi1BKQp2pVFi44N8CYLj6ZEkD     Sequence Variants           10  \n",
       "177  fqvuveTjuO96HizOsbWgFQmfF76lGtdl     Sequence Variants           10  \n",
       "178  1JInmjKzPW9V9q9UKen4VODk1drBadA2     Sequence Variants           10  \n",
       "\n",
       "[179 rows x 7 columns]"
      ]
     },
     "execution_count": 231,
     "metadata": {},
     "output_type": "execute_result"
    }
   ],
   "source": [
    "normalized_queries_df = feature_analysis(\n",
    "    normalized_queries_df, VariantNormType.NORMALIZED\n",
    ")\n",
    "normalized_queries_df"
   ]
  },
  {
   "cell_type": "code",
   "execution_count": 232,
   "metadata": {},
   "outputs": [
    {
     "name": "stdout",
     "output_type": "stream",
     "text": [
      "Number of Normalized Feature Assertions in MOA: 325 / 898\n",
      "Percent of Normalized Feature Assertions in MOA: 36.19%\n"
     ]
    }
   ],
   "source": [
    "assertion_analysis(moa_df, normalized_queries_df, VariantNormType.NORMALIZED)"
   ]
  },
  {
   "cell_type": "markdown",
   "metadata": {},
   "source": [
    "## <a id='toc1_6_'></a>[Not Supported Analysis](#toc0_)"
   ]
  },
  {
   "cell_type": "code",
   "execution_count": 233,
   "metadata": {},
   "outputs": [
    {
     "data": {
      "text/plain": [
       "(249, 6)"
      ]
     },
     "execution_count": 233,
     "metadata": {},
     "output_type": "execute_result"
    }
   ],
   "source": [
    "not_supported_queries_df = pd.read_csv(\n",
    "    \"../feature_analysis/not_supported_variants.csv\", sep=\"\\t\"\n",
    ")\n",
    "not_supported_queries_df = pd.merge(\n",
    "    not_supported_queries_df,\n",
    "    feature_id_to_digest_df,\n",
    "    left_on=\"variant_id\",\n",
    "    right_on=\"feature_id\",\n",
    ")\n",
    "not_supported_queries_df.shape"
   ]
  },
  {
   "cell_type": "code",
   "execution_count": 234,
   "metadata": {},
   "outputs": [
    {
     "data": {
      "text/html": [
       "<div>\n",
       "<style scoped>\n",
       "    .dataframe tbody tr th:only-of-type {\n",
       "        vertical-align: middle;\n",
       "    }\n",
       "\n",
       "    .dataframe tbody tr th {\n",
       "        vertical-align: top;\n",
       "    }\n",
       "\n",
       "    .dataframe thead th {\n",
       "        text-align: right;\n",
       "    }\n",
       "</style>\n",
       "<table border=\"1\" class=\"dataframe\">\n",
       "  <thead>\n",
       "    <tr style=\"text-align: right;\">\n",
       "      <th></th>\n",
       "      <th>assertion_id</th>\n",
       "      <th>feature_id</th>\n",
       "      <th>feature_type</th>\n",
       "      <th>predictive_implication</th>\n",
       "      <th>feature_digest</th>\n",
       "      <th>category</th>\n",
       "      <th>impact_score</th>\n",
       "    </tr>\n",
       "  </thead>\n",
       "  <tbody>\n",
       "    <tr>\n",
       "      <th>0</th>\n",
       "      <td>1</td>\n",
       "      <td>1</td>\n",
       "      <td>rearrangement</td>\n",
       "      <td>FDA-Approved</td>\n",
       "      <td>RnRyn89cJzVbVM93aw4OA44NIF5zblyP</td>\n",
       "      <td>Rearrangement Variants</td>\n",
       "      <td>10</td>\n",
       "    </tr>\n",
       "    <tr>\n",
       "      <th>1</th>\n",
       "      <td>12</td>\n",
       "      <td>12</td>\n",
       "      <td>rearrangement</td>\n",
       "      <td>FDA-Approved</td>\n",
       "      <td>g99yF3kKnB-We_fMS5RaVygoSuT7qA-I</td>\n",
       "      <td>Rearrangement Variants</td>\n",
       "      <td>10</td>\n",
       "    </tr>\n",
       "    <tr>\n",
       "      <th>2</th>\n",
       "      <td>15</td>\n",
       "      <td>15</td>\n",
       "      <td>rearrangement</td>\n",
       "      <td>FDA-Approved</td>\n",
       "      <td>e8PMq2A96-aBJ3Ip74ovx5VOUCztBTq7</td>\n",
       "      <td>Rearrangement Variants</td>\n",
       "      <td>10</td>\n",
       "    </tr>\n",
       "    <tr>\n",
       "      <th>3</th>\n",
       "      <td>18</td>\n",
       "      <td>18</td>\n",
       "      <td>rearrangement</td>\n",
       "      <td>Guideline</td>\n",
       "      <td>DxfRiRV-3J6zRON4pnzNJjXkJf2bsp20</td>\n",
       "      <td>Rearrangement Variants</td>\n",
       "      <td>10</td>\n",
       "    </tr>\n",
       "    <tr>\n",
       "      <th>4</th>\n",
       "      <td>21</td>\n",
       "      <td>21</td>\n",
       "      <td>rearrangement</td>\n",
       "      <td>Preclinical</td>\n",
       "      <td>BRsPjsZSCyDXnKtBt9XgsWX2JDNWY3FP</td>\n",
       "      <td>Rearrangement Variants</td>\n",
       "      <td>1</td>\n",
       "    </tr>\n",
       "    <tr>\n",
       "      <th>...</th>\n",
       "      <td>...</td>\n",
       "      <td>...</td>\n",
       "      <td>...</td>\n",
       "      <td>...</td>\n",
       "      <td>...</td>\n",
       "      <td>...</td>\n",
       "      <td>...</td>\n",
       "    </tr>\n",
       "    <tr>\n",
       "      <th>244</th>\n",
       "      <td>883</td>\n",
       "      <td>883</td>\n",
       "      <td>somatic_variant</td>\n",
       "      <td>FDA-Approved</td>\n",
       "      <td>la1NEYWBdiIyc7pFY3WCEc07SMmRbHYv</td>\n",
       "      <td>Sequence Variants</td>\n",
       "      <td>10</td>\n",
       "    </tr>\n",
       "    <tr>\n",
       "      <th>245</th>\n",
       "      <td>888</td>\n",
       "      <td>888</td>\n",
       "      <td>somatic_variant</td>\n",
       "      <td>FDA-Approved</td>\n",
       "      <td>mPC4szjbEkf6R9N7LNhZ1Tbf5-1seh8u</td>\n",
       "      <td>Sequence Variants</td>\n",
       "      <td>10</td>\n",
       "    </tr>\n",
       "    <tr>\n",
       "      <th>246</th>\n",
       "      <td>889</td>\n",
       "      <td>889</td>\n",
       "      <td>somatic_variant</td>\n",
       "      <td>FDA-Approved</td>\n",
       "      <td>c3CkYcMt4ssh4AL4gpacJtFil8xl2TB2</td>\n",
       "      <td>Sequence Variants</td>\n",
       "      <td>10</td>\n",
       "    </tr>\n",
       "    <tr>\n",
       "      <th>247</th>\n",
       "      <td>890</td>\n",
       "      <td>890</td>\n",
       "      <td>somatic_variant</td>\n",
       "      <td>FDA-Approved</td>\n",
       "      <td>uAW4cOXId1N1MKo5fqHYdw9JGceCMmE5</td>\n",
       "      <td>Sequence Variants</td>\n",
       "      <td>10</td>\n",
       "    </tr>\n",
       "    <tr>\n",
       "      <th>248</th>\n",
       "      <td>891</td>\n",
       "      <td>891</td>\n",
       "      <td>somatic_variant</td>\n",
       "      <td>FDA-Approved</td>\n",
       "      <td>B5m8cSgi6w2xRCg0X_dPpQU2dwbvtXk1</td>\n",
       "      <td>Sequence Variants</td>\n",
       "      <td>10</td>\n",
       "    </tr>\n",
       "  </tbody>\n",
       "</table>\n",
       "<p>249 rows × 7 columns</p>\n",
       "</div>"
      ],
      "text/plain": [
       "     assertion_id  feature_id     feature_type predictive_implication  \\\n",
       "0               1           1    rearrangement           FDA-Approved   \n",
       "1              12          12    rearrangement           FDA-Approved   \n",
       "2              15          15    rearrangement           FDA-Approved   \n",
       "3              18          18    rearrangement              Guideline   \n",
       "4              21          21    rearrangement            Preclinical   \n",
       "..            ...         ...              ...                    ...   \n",
       "244           883         883  somatic_variant           FDA-Approved   \n",
       "245           888         888  somatic_variant           FDA-Approved   \n",
       "246           889         889  somatic_variant           FDA-Approved   \n",
       "247           890         890  somatic_variant           FDA-Approved   \n",
       "248           891         891  somatic_variant           FDA-Approved   \n",
       "\n",
       "                       feature_digest                category impact_score  \n",
       "0    RnRyn89cJzVbVM93aw4OA44NIF5zblyP  Rearrangement Variants           10  \n",
       "1    g99yF3kKnB-We_fMS5RaVygoSuT7qA-I  Rearrangement Variants           10  \n",
       "2    e8PMq2A96-aBJ3Ip74ovx5VOUCztBTq7  Rearrangement Variants           10  \n",
       "3    DxfRiRV-3J6zRON4pnzNJjXkJf2bsp20  Rearrangement Variants           10  \n",
       "4    BRsPjsZSCyDXnKtBt9XgsWX2JDNWY3FP  Rearrangement Variants            1  \n",
       "..                                ...                     ...          ...  \n",
       "244  la1NEYWBdiIyc7pFY3WCEc07SMmRbHYv       Sequence Variants           10  \n",
       "245  mPC4szjbEkf6R9N7LNhZ1Tbf5-1seh8u       Sequence Variants           10  \n",
       "246  c3CkYcMt4ssh4AL4gpacJtFil8xl2TB2       Sequence Variants           10  \n",
       "247  uAW4cOXId1N1MKo5fqHYdw9JGceCMmE5       Sequence Variants           10  \n",
       "248  B5m8cSgi6w2xRCg0X_dPpQU2dwbvtXk1       Sequence Variants           10  \n",
       "\n",
       "[249 rows x 7 columns]"
      ]
     },
     "execution_count": 234,
     "metadata": {},
     "output_type": "execute_result"
    }
   ],
   "source": [
    "not_supported_queries_df = pd.merge(\n",
    "    not_supported_queries_df[\"variant_id\"],\n",
    "    moa_df,\n",
    "    left_on=\"variant_id\",\n",
    "    right_on=\"feature_id\",\n",
    "    how=\"left\",\n",
    ")\n",
    "not_supported_queries_df = not_supported_queries_df.drop(columns=[\"variant_id\"])\n",
    "not_supported_queries_df"
   ]
  },
  {
   "cell_type": "markdown",
   "metadata": {},
   "source": [
    "### <a id='toc1_6_1_'></a>[Feature (Variant) Analysis](#toc0_)"
   ]
  },
  {
   "cell_type": "code",
   "execution_count": 235,
   "metadata": {},
   "outputs": [
    {
     "name": "stdout",
     "output_type": "stream",
     "text": [
      "\n",
      "Number of Not Supported Features in MOA: 249 / 428\n",
      "Percent of Not Supported Features in MOA: 58.18%\n"
     ]
    }
   ],
   "source": [
    "not_supported_queries_df = feature_analysis(\n",
    "    not_supported_queries_df, VariantNormType.NOT_SUPPORTED\n",
    ")"
   ]
  },
  {
   "cell_type": "markdown",
   "metadata": {},
   "source": [
    "### <a id='toc1_6_2_'></a>[Not Supported Feature (Variant) Analysis by Subcategory](#toc0_)"
   ]
  },
  {
   "cell_type": "code",
   "execution_count": 236,
   "metadata": {},
   "outputs": [],
   "source": [
    "not_supported_feature_analysis_summary = {\n",
    "    \"Category\": VARIANT_CATEGORY_VALUES,\n",
    "    \"Count of MOA Features per Category\": [],\n",
    "    \"Fraction of all MOA Features\": [],\n",
    "    \"Percent of all MOA Features\": [],\n",
    "    \"Fraction of Not Supported Features\": [],\n",
    "    \"Percent of Not Supported Features\": [],\n",
    "}"
   ]
  },
  {
   "cell_type": "code",
   "execution_count": 237,
   "metadata": {},
   "outputs": [],
   "source": [
    "not_supported_feature_categories_summary_data = dict()\n",
    "total_number_unique_not_supported_features = len(\n",
    "    set(not_supported_queries_df.feature_id)\n",
    ")\n",
    "\n",
    "for category in VARIANT_CATEGORY_VALUES:  # These are not supported categories\n",
    "    not_supported_feature_categories_summary_data[category] = {}\n",
    "    category_df = not_supported_queries_df[\n",
    "        not_supported_queries_df.category == category\n",
    "    ]\n",
    "\n",
    "    # Count\n",
    "    number_unique_not_supported_category_features = len(set(category_df.feature_id))\n",
    "    not_supported_feature_categories_summary_data[category][\n",
    "        \"number_unique_not_supported_category_features\"\n",
    "    ] = number_unique_not_supported_category_features\n",
    "\n",
    "    # Fraction\n",
    "    fraction_not_supported_category_feature_of_moa = (\n",
    "        f\"{number_unique_not_supported_category_features} / {total_len_features}\"\n",
    "    )\n",
    "    not_supported_feature_categories_summary_data[category][\n",
    "        \"fraction_not_supported_category_feature_of_moa\"\n",
    "    ] = fraction_not_supported_category_feature_of_moa\n",
    "\n",
    "    # Percent\n",
    "    percent_not_supported_category_feature_of_moa = f\"{number_unique_not_supported_category_features / total_len_features * 100:.2f}%\"\n",
    "    not_supported_feature_categories_summary_data[category][\n",
    "        \"percent_not_supported_category_feature_of_moa\"\n",
    "    ] = percent_not_supported_category_feature_of_moa\n",
    "\n",
    "    # Not supported fraction\n",
    "    fraction_not_supported_category_feature_of_total_not_supported = f\"{number_unique_not_supported_category_features} / {total_number_unique_not_supported_features}\"\n",
    "    not_supported_feature_categories_summary_data[category][\n",
    "        \"fraction_not_supported_category_feature_of_total_not_supported\"\n",
    "    ] = fraction_not_supported_category_feature_of_total_not_supported\n",
    "\n",
    "    # Not supported percent\n",
    "    percent_not_supported_category_feature_of_total_not_supported = f\"{number_unique_not_supported_category_features / total_number_unique_not_supported_features * 100:.2f}%\"\n",
    "    not_supported_feature_categories_summary_data[category][\n",
    "        \"percent_not_supported_category_feature_of_total_not_supported\"\n",
    "    ] = percent_not_supported_category_feature_of_total_not_supported\n",
    "\n",
    "    not_supported_feature_analysis_summary[\"Count of MOA Features per Category\"].append(\n",
    "        number_unique_not_supported_category_features\n",
    "    )\n",
    "    not_supported_feature_analysis_summary[\"Fraction of all MOA Features\"].append(\n",
    "        fraction_not_supported_category_feature_of_moa\n",
    "    )\n",
    "    not_supported_feature_analysis_summary[\"Percent of all MOA Features\"].append(\n",
    "        percent_not_supported_category_feature_of_moa\n",
    "    )\n",
    "    not_supported_feature_analysis_summary[\"Fraction of Not Supported Features\"].append(\n",
    "        fraction_not_supported_category_feature_of_total_not_supported\n",
    "    )\n",
    "    not_supported_feature_analysis_summary[\"Percent of Not Supported Features\"].append(\n",
    "        percent_not_supported_category_feature_of_total_not_supported\n",
    "    )"
   ]
  },
  {
   "cell_type": "code",
   "execution_count": 238,
   "metadata": {},
   "outputs": [
    {
     "data": {
      "text/html": [
       "<div>\n",
       "<style scoped>\n",
       "    .dataframe tbody tr th:only-of-type {\n",
       "        vertical-align: middle;\n",
       "    }\n",
       "\n",
       "    .dataframe tbody tr th {\n",
       "        vertical-align: top;\n",
       "    }\n",
       "\n",
       "    .dataframe thead th {\n",
       "        text-align: right;\n",
       "    }\n",
       "</style>\n",
       "<table border=\"1\" class=\"dataframe\">\n",
       "  <thead>\n",
       "    <tr style=\"text-align: right;\">\n",
       "      <th></th>\n",
       "      <th>Category</th>\n",
       "      <th>Count of MOA Features per Category</th>\n",
       "      <th>Fraction of all MOA Features</th>\n",
       "      <th>Percent of all MOA Features</th>\n",
       "      <th>Fraction of Not Supported Features</th>\n",
       "      <th>Percent of Not Supported Features</th>\n",
       "    </tr>\n",
       "  </thead>\n",
       "  <tbody>\n",
       "    <tr>\n",
       "      <th>0</th>\n",
       "      <td>Expression Variants</td>\n",
       "      <td>11</td>\n",
       "      <td>11 / 428</td>\n",
       "      <td>2.57%</td>\n",
       "      <td>11 / 249</td>\n",
       "      <td>4.42%</td>\n",
       "    </tr>\n",
       "    <tr>\n",
       "      <th>1</th>\n",
       "      <td>Epigenetic Modification</td>\n",
       "      <td>0</td>\n",
       "      <td>0 / 428</td>\n",
       "      <td>0.00%</td>\n",
       "      <td>0 / 249</td>\n",
       "      <td>0.00%</td>\n",
       "    </tr>\n",
       "    <tr>\n",
       "      <th>2</th>\n",
       "      <td>Fusion Variants</td>\n",
       "      <td>0</td>\n",
       "      <td>0 / 428</td>\n",
       "      <td>0.00%</td>\n",
       "      <td>0 / 249</td>\n",
       "      <td>0.00%</td>\n",
       "    </tr>\n",
       "    <tr>\n",
       "      <th>3</th>\n",
       "      <td>Sequence Variants</td>\n",
       "      <td>174</td>\n",
       "      <td>174 / 428</td>\n",
       "      <td>40.65%</td>\n",
       "      <td>174 / 249</td>\n",
       "      <td>69.88%</td>\n",
       "    </tr>\n",
       "    <tr>\n",
       "      <th>4</th>\n",
       "      <td>Gene Function Variants</td>\n",
       "      <td>0</td>\n",
       "      <td>0 / 428</td>\n",
       "      <td>0.00%</td>\n",
       "      <td>0 / 249</td>\n",
       "      <td>0.00%</td>\n",
       "    </tr>\n",
       "    <tr>\n",
       "      <th>5</th>\n",
       "      <td>Rearrangement Variants</td>\n",
       "      <td>38</td>\n",
       "      <td>38 / 428</td>\n",
       "      <td>8.88%</td>\n",
       "      <td>38 / 249</td>\n",
       "      <td>15.26%</td>\n",
       "    </tr>\n",
       "    <tr>\n",
       "      <th>6</th>\n",
       "      <td>Copy Number Variants</td>\n",
       "      <td>17</td>\n",
       "      <td>17 / 428</td>\n",
       "      <td>3.97%</td>\n",
       "      <td>17 / 249</td>\n",
       "      <td>6.83%</td>\n",
       "    </tr>\n",
       "    <tr>\n",
       "      <th>7</th>\n",
       "      <td>Other Variants</td>\n",
       "      <td>9</td>\n",
       "      <td>9 / 428</td>\n",
       "      <td>2.10%</td>\n",
       "      <td>9 / 249</td>\n",
       "      <td>3.61%</td>\n",
       "    </tr>\n",
       "    <tr>\n",
       "      <th>8</th>\n",
       "      <td>Genotype Variants</td>\n",
       "      <td>0</td>\n",
       "      <td>0 / 428</td>\n",
       "      <td>0.00%</td>\n",
       "      <td>0 / 249</td>\n",
       "      <td>0.00%</td>\n",
       "    </tr>\n",
       "    <tr>\n",
       "      <th>9</th>\n",
       "      <td>Region Defined Variants</td>\n",
       "      <td>0</td>\n",
       "      <td>0 / 428</td>\n",
       "      <td>0.00%</td>\n",
       "      <td>0 / 249</td>\n",
       "      <td>0.00%</td>\n",
       "    </tr>\n",
       "    <tr>\n",
       "      <th>10</th>\n",
       "      <td>Transcript Variants</td>\n",
       "      <td>0</td>\n",
       "      <td>0 / 428</td>\n",
       "      <td>0.00%</td>\n",
       "      <td>0 / 249</td>\n",
       "      <td>0.00%</td>\n",
       "    </tr>\n",
       "  </tbody>\n",
       "</table>\n",
       "</div>"
      ],
      "text/plain": [
       "                   Category  Count of MOA Features per Category  \\\n",
       "0       Expression Variants                                  11   \n",
       "1   Epigenetic Modification                                   0   \n",
       "2           Fusion Variants                                   0   \n",
       "3         Sequence Variants                                 174   \n",
       "4    Gene Function Variants                                   0   \n",
       "5    Rearrangement Variants                                  38   \n",
       "6      Copy Number Variants                                  17   \n",
       "7            Other Variants                                   9   \n",
       "8         Genotype Variants                                   0   \n",
       "9   Region Defined Variants                                   0   \n",
       "10      Transcript Variants                                   0   \n",
       "\n",
       "   Fraction of all MOA Features Percent of all MOA Features  \\\n",
       "0                      11 / 428                       2.57%   \n",
       "1                       0 / 428                       0.00%   \n",
       "2                       0 / 428                       0.00%   \n",
       "3                     174 / 428                      40.65%   \n",
       "4                       0 / 428                       0.00%   \n",
       "5                      38 / 428                       8.88%   \n",
       "6                      17 / 428                       3.97%   \n",
       "7                       9 / 428                       2.10%   \n",
       "8                       0 / 428                       0.00%   \n",
       "9                       0 / 428                       0.00%   \n",
       "10                      0 / 428                       0.00%   \n",
       "\n",
       "   Fraction of Not Supported Features Percent of Not Supported Features  \n",
       "0                            11 / 249                             4.42%  \n",
       "1                             0 / 249                             0.00%  \n",
       "2                             0 / 249                             0.00%  \n",
       "3                           174 / 249                            69.88%  \n",
       "4                             0 / 249                             0.00%  \n",
       "5                            38 / 249                            15.26%  \n",
       "6                            17 / 249                             6.83%  \n",
       "7                             9 / 249                             3.61%  \n",
       "8                             0 / 249                             0.00%  \n",
       "9                             0 / 249                             0.00%  \n",
       "10                            0 / 249                             0.00%  "
      ]
     },
     "execution_count": 238,
     "metadata": {},
     "output_type": "execute_result"
    }
   ],
   "source": [
    "not_supported_variant_df = pd.DataFrame(not_supported_feature_analysis_summary)\n",
    "not_supported_variant_df"
   ]
  },
  {
   "cell_type": "markdown",
   "metadata": {},
   "source": [
    "### <a id='toc1_6_3_'></a>[Not Support Feature (Variant) Assertion (Evidence) Analysis by Subcategory](#toc0_)"
   ]
  },
  {
   "attachments": {},
   "cell_type": "markdown",
   "metadata": {},
   "source": [
    "List all the possible variant categories"
   ]
  },
  {
   "cell_type": "code",
   "execution_count": 239,
   "metadata": {},
   "outputs": [
    {
     "data": {
      "text/plain": [
       "['Rearrangement Variants',\n",
       " 'Sequence Variants',\n",
       " 'Copy Number Variants',\n",
       " 'Other Variants',\n",
       " 'Expression Variants']"
      ]
     },
     "execution_count": 239,
     "metadata": {},
     "output_type": "execute_result"
    }
   ],
   "source": [
    "not_supported_feature_categories = not_supported_queries_df.category.unique()\n",
    "[v for v in not_supported_feature_categories]"
   ]
  },
  {
   "cell_type": "code",
   "execution_count": 240,
   "metadata": {},
   "outputs": [
    {
     "name": "stdout",
     "output_type": "stream",
     "text": [
      "Number of Not Supported Feature Assertions in MOA: 573 / 898\n",
      "Percent of Not Supported Feature Assertions in MOA: 63.81%\n"
     ]
    }
   ],
   "source": [
    "assertion_analysis(moa_df, not_supported_queries_df, VariantNormType.NOT_SUPPORTED)"
   ]
  },
  {
   "cell_type": "code",
   "execution_count": 241,
   "metadata": {},
   "outputs": [],
   "source": [
    "not_supported_feature_assertion_summary = {\n",
    "    \"Category\": VARIANT_CATEGORY_VALUES,\n",
    "    \"Count of MOA Assertions per Category\": [],\n",
    "    \"Fraction of all MOA Assertions\": [],\n",
    "    \"Percent of all MOA Assertions\": [],\n",
    "    \"Fraction of Not Supported Feature Assertions\": [],\n",
    "    \"Percent of Not Supported Feature Assertions\": [],\n",
    "}"
   ]
  },
  {
   "cell_type": "code",
   "execution_count": 242,
   "metadata": {},
   "outputs": [],
   "source": [
    "not_supported_feature_ids = set(not_supported_queries_df.feature_digest)"
   ]
  },
  {
   "cell_type": "code",
   "execution_count": 243,
   "metadata": {},
   "outputs": [],
   "source": [
    "not_supported_feature_categories_assertion_summary_data = dict()\n",
    "\n",
    "not_supported_feature_ids = set(not_supported_queries_df.feature_digest)\n",
    "\n",
    "for category in VARIANT_CATEGORY_VALUES:\n",
    "    not_supported_feature_categories_assertion_summary_data[category] = {}\n",
    "\n",
    "    # Need to do this bc of duplicate features\n",
    "    tmp_df = moa_df[moa_df[\"feature_digest\"].isin(not_supported_feature_ids)]\n",
    "\n",
    "    evidence_category_df = tmp_df[tmp_df.category == category]\n",
    "\n",
    "    evidence_category_df = evidence_category_df.drop_duplicates(subset=[\"assertion_id\"])\n",
    "\n",
    "    # Count for Not Supported Feature Assertions\n",
    "    total_number_not_supported_feature_unique_assertions = len(tmp_df.assertion_id)\n",
    "\n",
    "    # Count per Category\n",
    "    number_unique_not_supported_category_assertion = len(\n",
    "        set(evidence_category_df.assertion_id)\n",
    "    )\n",
    "    not_supported_feature_categories_assertion_summary_data[category][\n",
    "        \"number_unique_not_supported_category_assertion\"\n",
    "    ] = number_unique_not_supported_category_assertion\n",
    "\n",
    "    # Fraction\n",
    "    fraction_not_supported_category_feature_assertion_of_moa = (\n",
    "        f\"{number_unique_not_supported_category_assertion} / {total_len_assertions}\"\n",
    "    )\n",
    "    not_supported_feature_categories_assertion_summary_data[category][\n",
    "        \"fraction_not_supported_category_feature_assertion_of_moa\"\n",
    "    ] = fraction_not_supported_category_feature_assertion_of_moa\n",
    "\n",
    "    # Percent\n",
    "    percent_not_supported_category_feature_assertion_of_moa = f\"{number_unique_not_supported_category_assertion / total_len_assertions * 100:.2f}%\"\n",
    "    not_supported_feature_categories_assertion_summary_data[category][\n",
    "        \"percent_not_supported_category_feature_assertion_of_moa\"\n",
    "    ] = percent_not_supported_category_feature_assertion_of_moa\n",
    "\n",
    "    # Not supported fraction\n",
    "    fraction_not_supported_category_feature_assertion_of_total_not_supported = f\"{number_unique_not_supported_category_assertion} / {total_number_not_supported_feature_unique_assertions}\"\n",
    "    not_supported_feature_categories_assertion_summary_data[category][\n",
    "        \"fraction_not_supported_category_feature_assertion_of_total_not_supported\"\n",
    "    ] = fraction_not_supported_category_feature_assertion_of_total_not_supported\n",
    "\n",
    "    # Not supported percent\n",
    "    percent_not_supported_category_feature_assertion_of_total_not_supported = f\"{number_unique_not_supported_category_assertion / total_number_not_supported_feature_unique_assertions * 100:.2f}%\"\n",
    "    not_supported_feature_categories_assertion_summary_data[category][\n",
    "        \"percent_not_supported_category_feature_assertion_of_total_not_supported\"\n",
    "    ] = percent_not_supported_category_feature_assertion_of_total_not_supported\n",
    "\n",
    "    not_supported_feature_assertion_summary[\n",
    "        \"Count of MOA Assertions per Category\"\n",
    "    ].append(number_unique_not_supported_category_assertion)\n",
    "    not_supported_feature_assertion_summary[\"Fraction of all MOA Assertions\"].append(\n",
    "        fraction_not_supported_category_feature_assertion_of_moa\n",
    "    )\n",
    "    not_supported_feature_assertion_summary[\"Percent of all MOA Assertions\"].append(\n",
    "        percent_not_supported_category_feature_assertion_of_moa\n",
    "    )\n",
    "    not_supported_feature_assertion_summary[\n",
    "        \"Fraction of Not Supported Feature Assertions\"\n",
    "    ].append(fraction_not_supported_category_feature_assertion_of_total_not_supported)\n",
    "    not_supported_feature_assertion_summary[\n",
    "        \"Percent of Not Supported Feature Assertions\"\n",
    "    ].append(percent_not_supported_category_feature_assertion_of_total_not_supported)"
   ]
  },
  {
   "cell_type": "code",
   "execution_count": 244,
   "metadata": {},
   "outputs": [
    {
     "data": {
      "text/plain": [
       "0"
      ]
     },
     "execution_count": 244,
     "metadata": {},
     "output_type": "execute_result"
    }
   ],
   "source": [
    "number_unique_not_supported_category_features"
   ]
  },
  {
   "cell_type": "markdown",
   "metadata": {},
   "source": [
    "### <a id='toc1_6_4_'></a>[Impact Score Analysis by Subcategory](#toc0_)"
   ]
  },
  {
   "cell_type": "code",
   "execution_count": 245,
   "metadata": {},
   "outputs": [],
   "source": [
    "not_supported_impact_summary = {\n",
    "    \"Category\": VARIANT_CATEGORY_VALUES,\n",
    "    \"MOA Total Sum Impact Score\": [],\n",
    "    \"Average Impact Score per Feature\": [],\n",
    "    \"Average Impact Score per Assertion\": [],\n",
    "    \"Total Number Assertions\": [\n",
    "        v[\"number_unique_not_supported_category_assertion\"]\n",
    "        for v in not_supported_feature_categories_assertion_summary_data.values()\n",
    "    ],\n",
    "    \"Total Number Features\": [\n",
    "        v[\"number_unique_not_supported_category_features\"]\n",
    "        for v in not_supported_feature_categories_summary_data.values()\n",
    "    ],\n",
    "}"
   ]
  },
  {
   "cell_type": "code",
   "execution_count": 246,
   "metadata": {},
   "outputs": [
    {
     "name": "stdout",
     "output_type": "stream",
     "text": [
      "Number of unique features within category: 11\n",
      "Expression Variants: 11, 1.00, 1.00\n",
      "Number of unique features within category: 0\n",
      "Epigenetic Modification: 0, 0, 0\n",
      "Number of unique features within category: 0\n",
      "Fusion Variants: 0, 0, 0\n",
      "Number of unique features within category: 174\n",
      "Sequence Variants: 1104.5, 6.35, 6.35\n",
      "Number of unique features within category: 0\n",
      "Gene Function Variants: 0, 0, 0\n",
      "Number of unique features within category: 38\n",
      "Rearrangement Variants: 291.0, 7.66, 7.66\n",
      "Number of unique features within category: 17\n",
      "Copy Number Variants: 44.5, 2.62, 2.62\n",
      "Number of unique features within category: 9\n",
      "Other Variants: 32.5, 3.61, 3.61\n",
      "Number of unique features within category: 0\n",
      "Genotype Variants: 0, 0, 0\n",
      "Number of unique features within category: 0\n",
      "Region Defined Variants: 0, 0, 0\n",
      "Number of unique features within category: 0\n",
      "Transcript Variants: 0, 0, 0\n"
     ]
    }
   ],
   "source": [
    "not_supported_feature_categories_impact_data = dict()\n",
    "for category in VARIANT_CATEGORY_VALUES:\n",
    "    not_supported_feature_categories_impact_data[category] = {}\n",
    "    impact_category_df = not_supported_queries_df[\n",
    "        not_supported_queries_df[\"category\"] == category\n",
    "    ].copy()\n",
    "\n",
    "    total_sum_not_supported_category_impact = impact_category_df[\"impact_score\"].sum()\n",
    "\n",
    "    not_supported_feature_categories_impact_data[category][\n",
    "        \"total_sum_not_supported_category_impact\"\n",
    "    ] = total_sum_not_supported_category_impact\n",
    "\n",
    "    number_unique_not_supported_category_features = (\n",
    "        impact_category_df.feature_id.nunique()\n",
    "    )\n",
    "    number_unique_not_supported_category_assertion = (\n",
    "        impact_category_df.assertion_id.nunique()\n",
    "    )\n",
    "\n",
    "    if number_unique_not_supported_category_features == 0:\n",
    "        avg_impact_score_feature = 0\n",
    "        not_supported_feature_categories_impact_data[category][\n",
    "            \"avg_impact_score_feature\"\n",
    "        ] = avg_impact_score_feature\n",
    "\n",
    "        avg_impact_score_assertion = 0\n",
    "        not_supported_feature_categories_impact_data[category][\n",
    "            \"avg_impact_score_evidence\"\n",
    "        ] = avg_impact_score_assertion\n",
    "    else:\n",
    "        avg_impact_score_feature = f\"{total_sum_not_supported_category_impact / number_unique_not_supported_category_features:.2f}\"\n",
    "        not_supported_feature_categories_impact_data[category][\n",
    "            \"avg_impact_score_feature\"\n",
    "        ] = avg_impact_score_feature\n",
    "\n",
    "        avg_impact_score_assertion = f\"{total_sum_not_supported_category_impact / number_unique_not_supported_category_assertion:.2f}\"\n",
    "        not_supported_feature_categories_impact_data[category][\n",
    "            \"avg_impact_score_evidence\"\n",
    "        ] = avg_impact_score_assertion\n",
    "\n",
    "    not_supported_impact_summary[\"MOA Total Sum Impact Score\"].append(\n",
    "        total_sum_not_supported_category_impact\n",
    "    )\n",
    "    not_supported_impact_summary[\"Average Impact Score per Feature\"].append(\n",
    "        avg_impact_score_feature\n",
    "    )\n",
    "    not_supported_impact_summary[\"Average Impact Score per Assertion\"].append(\n",
    "        avg_impact_score_assertion\n",
    "    )\n",
    "\n",
    "    print(\n",
    "        f\"Number of unique features within category: {number_unique_not_supported_category_features}\"\n",
    "    )\n",
    "    print(\n",
    "        f\"{category}: {total_sum_not_supported_category_impact}, {avg_impact_score_feature}, {avg_impact_score_assertion}\"\n",
    "    )"
   ]
  },
  {
   "cell_type": "code",
   "execution_count": 247,
   "metadata": {},
   "outputs": [],
   "source": [
    "not_supported_feature_impact_df = pd.DataFrame(not_supported_impact_summary)"
   ]
  },
  {
   "cell_type": "code",
   "execution_count": 248,
   "metadata": {},
   "outputs": [
    {
     "data": {
      "text/html": [
       "<div>\n",
       "<style scoped>\n",
       "    .dataframe tbody tr th:only-of-type {\n",
       "        vertical-align: middle;\n",
       "    }\n",
       "\n",
       "    .dataframe tbody tr th {\n",
       "        vertical-align: top;\n",
       "    }\n",
       "\n",
       "    .dataframe thead th {\n",
       "        text-align: right;\n",
       "    }\n",
       "</style>\n",
       "<table border=\"1\" class=\"dataframe\">\n",
       "  <thead>\n",
       "    <tr style=\"text-align: right;\">\n",
       "      <th></th>\n",
       "      <th>Category</th>\n",
       "      <th>MOA Total Sum Impact Score</th>\n",
       "      <th>Average Impact Score per Feature</th>\n",
       "      <th>Average Impact Score per Assertion</th>\n",
       "      <th>Total Number Assertions</th>\n",
       "      <th>Total Number Features</th>\n",
       "    </tr>\n",
       "  </thead>\n",
       "  <tbody>\n",
       "    <tr>\n",
       "      <th>0</th>\n",
       "      <td>Expression Variants</td>\n",
       "      <td>11.0</td>\n",
       "      <td>1.00</td>\n",
       "      <td>1.00</td>\n",
       "      <td>12</td>\n",
       "      <td>11</td>\n",
       "    </tr>\n",
       "    <tr>\n",
       "      <th>1</th>\n",
       "      <td>Epigenetic Modification</td>\n",
       "      <td>0.0</td>\n",
       "      <td>0</td>\n",
       "      <td>0</td>\n",
       "      <td>0</td>\n",
       "      <td>0</td>\n",
       "    </tr>\n",
       "    <tr>\n",
       "      <th>2</th>\n",
       "      <td>Fusion Variants</td>\n",
       "      <td>0.0</td>\n",
       "      <td>0</td>\n",
       "      <td>0</td>\n",
       "      <td>0</td>\n",
       "      <td>0</td>\n",
       "    </tr>\n",
       "    <tr>\n",
       "      <th>3</th>\n",
       "      <td>Sequence Variants</td>\n",
       "      <td>1104.5</td>\n",
       "      <td>6.35</td>\n",
       "      <td>6.35</td>\n",
       "      <td>427</td>\n",
       "      <td>174</td>\n",
       "    </tr>\n",
       "    <tr>\n",
       "      <th>4</th>\n",
       "      <td>Gene Function Variants</td>\n",
       "      <td>0.0</td>\n",
       "      <td>0</td>\n",
       "      <td>0</td>\n",
       "      <td>0</td>\n",
       "      <td>0</td>\n",
       "    </tr>\n",
       "    <tr>\n",
       "      <th>5</th>\n",
       "      <td>Rearrangement Variants</td>\n",
       "      <td>291.0</td>\n",
       "      <td>7.66</td>\n",
       "      <td>7.66</td>\n",
       "      <td>82</td>\n",
       "      <td>38</td>\n",
       "    </tr>\n",
       "    <tr>\n",
       "      <th>6</th>\n",
       "      <td>Copy Number Variants</td>\n",
       "      <td>44.5</td>\n",
       "      <td>2.62</td>\n",
       "      <td>2.62</td>\n",
       "      <td>29</td>\n",
       "      <td>17</td>\n",
       "    </tr>\n",
       "    <tr>\n",
       "      <th>7</th>\n",
       "      <td>Other Variants</td>\n",
       "      <td>32.5</td>\n",
       "      <td>3.61</td>\n",
       "      <td>3.61</td>\n",
       "      <td>23</td>\n",
       "      <td>9</td>\n",
       "    </tr>\n",
       "    <tr>\n",
       "      <th>8</th>\n",
       "      <td>Genotype Variants</td>\n",
       "      <td>0.0</td>\n",
       "      <td>0</td>\n",
       "      <td>0</td>\n",
       "      <td>0</td>\n",
       "      <td>0</td>\n",
       "    </tr>\n",
       "    <tr>\n",
       "      <th>9</th>\n",
       "      <td>Region Defined Variants</td>\n",
       "      <td>0.0</td>\n",
       "      <td>0</td>\n",
       "      <td>0</td>\n",
       "      <td>0</td>\n",
       "      <td>0</td>\n",
       "    </tr>\n",
       "    <tr>\n",
       "      <th>10</th>\n",
       "      <td>Transcript Variants</td>\n",
       "      <td>0.0</td>\n",
       "      <td>0</td>\n",
       "      <td>0</td>\n",
       "      <td>0</td>\n",
       "      <td>0</td>\n",
       "    </tr>\n",
       "  </tbody>\n",
       "</table>\n",
       "</div>"
      ],
      "text/plain": [
       "                   Category  MOA Total Sum Impact Score  \\\n",
       "0       Expression Variants                        11.0   \n",
       "1   Epigenetic Modification                         0.0   \n",
       "2           Fusion Variants                         0.0   \n",
       "3         Sequence Variants                      1104.5   \n",
       "4    Gene Function Variants                         0.0   \n",
       "5    Rearrangement Variants                       291.0   \n",
       "6      Copy Number Variants                        44.5   \n",
       "7            Other Variants                        32.5   \n",
       "8         Genotype Variants                         0.0   \n",
       "9   Region Defined Variants                         0.0   \n",
       "10      Transcript Variants                         0.0   \n",
       "\n",
       "   Average Impact Score per Feature Average Impact Score per Assertion  \\\n",
       "0                              1.00                               1.00   \n",
       "1                                 0                                  0   \n",
       "2                                 0                                  0   \n",
       "3                              6.35                               6.35   \n",
       "4                                 0                                  0   \n",
       "5                              7.66                               7.66   \n",
       "6                              2.62                               2.62   \n",
       "7                              3.61                               3.61   \n",
       "8                                 0                                  0   \n",
       "9                                 0                                  0   \n",
       "10                                0                                  0   \n",
       "\n",
       "    Total Number Assertions  Total Number Features  \n",
       "0                        12                     11  \n",
       "1                         0                      0  \n",
       "2                         0                      0  \n",
       "3                       427                    174  \n",
       "4                         0                      0  \n",
       "5                        82                     38  \n",
       "6                        29                     17  \n",
       "7                        23                      9  \n",
       "8                         0                      0  \n",
       "9                         0                      0  \n",
       "10                        0                      0  "
      ]
     },
     "execution_count": 248,
     "metadata": {},
     "output_type": "execute_result"
    }
   ],
   "source": [
    "not_supported_feature_impact_df"
   ]
  },
  {
   "cell_type": "code",
   "execution_count": 249,
   "metadata": {},
   "outputs": [],
   "source": [
    "not_supported_feature_impact_df.to_csv(\n",
    "    \"moa_assertion_analysis_output/not_supported_feature_impact_df.csv\", index=False\n",
    ")"
   ]
  },
  {
   "cell_type": "markdown",
   "metadata": {},
   "source": [
    "# <a id='toc2_'></a>[MOA Summary](#toc0_)"
   ]
  },
  {
   "cell_type": "markdown",
   "metadata": {},
   "source": [
    "## <a id='toc2_1_'></a>[Feature (Variant) Analysis](#toc0_)"
   ]
  },
  {
   "cell_type": "markdown",
   "metadata": {},
   "source": [
    "### <a id='toc2_1_1_'></a>[Building Summary Tables 1 - 3](#toc0_)"
   ]
  },
  {
   "cell_type": "code",
   "execution_count": 250,
   "metadata": {},
   "outputs": [],
   "source": [
    "all_features_df = pd.DataFrame(feature_analysis_summary)"
   ]
  },
  {
   "cell_type": "code",
   "execution_count": 251,
   "metadata": {},
   "outputs": [],
   "source": [
    "all_features_df = combine_frac_perc(all_features_df, \"all MOA Features\")"
   ]
  },
  {
   "cell_type": "code",
   "execution_count": 252,
   "metadata": {},
   "outputs": [],
   "source": [
    "for_merge_all_variant_percent_of_moa_df = all_features_df.drop(\n",
    "    columns=[\"Fraction of all MOA Features\"]\n",
    ")\n",
    "\n",
    "all_features_percent_of_moa_df = all_features_df.drop(\n",
    "    columns=[\"Fraction of all MOA Features\", \"Count of MOA Features per Category\"]\n",
    ")"
   ]
  },
  {
   "cell_type": "code",
   "execution_count": 253,
   "metadata": {},
   "outputs": [],
   "source": [
    "for_merge_all_variant_percent_of_moa_df.to_csv(\n",
    "    \"moa_assertion_analysis_output/for_merge_all_variant_percent_of_moa_df.csv\",\n",
    "    index=False,\n",
    ")"
   ]
  },
  {
   "cell_type": "markdown",
   "metadata": {},
   "source": [
    "### <a id='toc2_1_2_'></a>[Summary Table 1](#toc0_)"
   ]
  },
  {
   "cell_type": "markdown",
   "metadata": {},
   "source": [
    "The table below shows the 2 categories that MOA features (variants) were divided into after normalization and what percent they make up of all features (variants) in MOA data. "
   ]
  },
  {
   "cell_type": "markdown",
   "metadata": {},
   "source": [
    "<ins>Numerator:</ins> # of MOA Features (variants) that are Normalized or Not Supported\n",
    "<br><ins>Denominator:</ins> # of all MOA Features (variants)"
   ]
  },
  {
   "cell_type": "code",
   "execution_count": 254,
   "metadata": {},
   "outputs": [
    {
     "data": {
      "text/html": [
       "<div>\n",
       "<style scoped>\n",
       "    .dataframe tbody tr th:only-of-type {\n",
       "        vertical-align: middle;\n",
       "    }\n",
       "\n",
       "    .dataframe tbody tr th {\n",
       "        vertical-align: top;\n",
       "    }\n",
       "\n",
       "    .dataframe thead th {\n",
       "        text-align: right;\n",
       "    }\n",
       "</style>\n",
       "<table border=\"1\" class=\"dataframe\">\n",
       "  <thead>\n",
       "    <tr style=\"text-align: right;\">\n",
       "      <th></th>\n",
       "      <th>Percent of all MOA Features</th>\n",
       "    </tr>\n",
       "    <tr>\n",
       "      <th>Variant Category</th>\n",
       "      <th></th>\n",
       "    </tr>\n",
       "  </thead>\n",
       "  <tbody>\n",
       "    <tr>\n",
       "      <th>Normalized</th>\n",
       "      <td>179 / 428  (41.82%)</td>\n",
       "    </tr>\n",
       "    <tr>\n",
       "      <th>Not Supported</th>\n",
       "      <td>249 / 428  (58.18%)</td>\n",
       "    </tr>\n",
       "  </tbody>\n",
       "</table>\n",
       "</div>"
      ],
      "text/plain": [
       "                 Percent of all MOA Features\n",
       "Variant Category                            \n",
       "Normalized               179 / 428  (41.82%)\n",
       "Not Supported            249 / 428  (58.18%)"
      ]
     },
     "execution_count": 254,
     "metadata": {},
     "output_type": "execute_result"
    }
   ],
   "source": [
    "all_features_percent_of_moa_df = all_features_percent_of_moa_df.set_index(\n",
    "    \"Variant Category\"\n",
    ")\n",
    "all_features_percent_of_moa_df"
   ]
  },
  {
   "cell_type": "code",
   "execution_count": 255,
   "metadata": {},
   "outputs": [],
   "source": [
    "moa_summary_table_1 = all_features_percent_of_moa_df"
   ]
  },
  {
   "cell_type": "markdown",
   "metadata": {},
   "source": [
    "### <a id='toc2_1_3_'></a>[Summary Table 2](#toc0_)"
   ]
  },
  {
   "cell_type": "markdown",
   "metadata": {},
   "source": [
    "The table below shows the categories that the Not Supported features (variants) were broken into and what percent of all MOA features (variants) they make up."
   ]
  },
  {
   "cell_type": "markdown",
   "metadata": {},
   "source": [
    "<ins>Numerator:</ins> # of MOA Features (variants) that are Not Supported in a given Subcategory\n",
    "<br><ins>Denominator:</ins> # of all MOA Features (variants)"
   ]
  },
  {
   "cell_type": "code",
   "execution_count": 256,
   "metadata": {},
   "outputs": [],
   "source": [
    "not_supported_features_df = pd.DataFrame(not_supported_feature_analysis_summary)"
   ]
  },
  {
   "cell_type": "code",
   "execution_count": 257,
   "metadata": {},
   "outputs": [],
   "source": [
    "not_supported_features_total_df = combine_frac_perc(\n",
    "    not_supported_features_df, \"all MOA Features\"\n",
    ")"
   ]
  },
  {
   "cell_type": "code",
   "execution_count": 258,
   "metadata": {},
   "outputs": [],
   "source": [
    "for_merge_not_supported_features_total_df = not_supported_features_total_df[\n",
    "    [\n",
    "        \"Category\",\n",
    "        \"Count of MOA Features per Category\",\n",
    "        \"Percent of all MOA Features\",\n",
    "    ]\n",
    "].copy()"
   ]
  },
  {
   "cell_type": "code",
   "execution_count": 259,
   "metadata": {},
   "outputs": [
    {
     "data": {
      "text/html": [
       "<div>\n",
       "<style scoped>\n",
       "    .dataframe tbody tr th:only-of-type {\n",
       "        vertical-align: middle;\n",
       "    }\n",
       "\n",
       "    .dataframe tbody tr th {\n",
       "        vertical-align: top;\n",
       "    }\n",
       "\n",
       "    .dataframe thead th {\n",
       "        text-align: right;\n",
       "    }\n",
       "</style>\n",
       "<table border=\"1\" class=\"dataframe\">\n",
       "  <thead>\n",
       "    <tr style=\"text-align: right;\">\n",
       "      <th></th>\n",
       "      <th>Percent of all MOA Features</th>\n",
       "    </tr>\n",
       "    <tr>\n",
       "      <th>Category</th>\n",
       "      <th></th>\n",
       "    </tr>\n",
       "  </thead>\n",
       "  <tbody>\n",
       "    <tr>\n",
       "      <th>Expression Variants</th>\n",
       "      <td>11 / 428  (2.57%)</td>\n",
       "    </tr>\n",
       "    <tr>\n",
       "      <th>Epigenetic Modification</th>\n",
       "      <td>0 / 428  (0.00%)</td>\n",
       "    </tr>\n",
       "    <tr>\n",
       "      <th>Fusion Variants</th>\n",
       "      <td>0 / 428  (0.00%)</td>\n",
       "    </tr>\n",
       "    <tr>\n",
       "      <th>Sequence Variants</th>\n",
       "      <td>174 / 428  (40.65%)</td>\n",
       "    </tr>\n",
       "    <tr>\n",
       "      <th>Gene Function Variants</th>\n",
       "      <td>0 / 428  (0.00%)</td>\n",
       "    </tr>\n",
       "    <tr>\n",
       "      <th>Rearrangement Variants</th>\n",
       "      <td>38 / 428  (8.88%)</td>\n",
       "    </tr>\n",
       "    <tr>\n",
       "      <th>Copy Number Variants</th>\n",
       "      <td>17 / 428  (3.97%)</td>\n",
       "    </tr>\n",
       "    <tr>\n",
       "      <th>Other Variants</th>\n",
       "      <td>9 / 428  (2.10%)</td>\n",
       "    </tr>\n",
       "    <tr>\n",
       "      <th>Genotype Variants</th>\n",
       "      <td>0 / 428  (0.00%)</td>\n",
       "    </tr>\n",
       "    <tr>\n",
       "      <th>Region Defined Variants</th>\n",
       "      <td>0 / 428  (0.00%)</td>\n",
       "    </tr>\n",
       "    <tr>\n",
       "      <th>Transcript Variants</th>\n",
       "      <td>0 / 428  (0.00%)</td>\n",
       "    </tr>\n",
       "  </tbody>\n",
       "</table>\n",
       "</div>"
      ],
      "text/plain": [
       "                        Percent of all MOA Features\n",
       "Category                                           \n",
       "Expression Variants               11 / 428  (2.57%)\n",
       "Epigenetic Modification            0 / 428  (0.00%)\n",
       "Fusion Variants                    0 / 428  (0.00%)\n",
       "Sequence Variants               174 / 428  (40.65%)\n",
       "Gene Function Variants             0 / 428  (0.00%)\n",
       "Rearrangement Variants            38 / 428  (8.88%)\n",
       "Copy Number Variants              17 / 428  (3.97%)\n",
       "Other Variants                     9 / 428  (2.10%)\n",
       "Genotype Variants                  0 / 428  (0.00%)\n",
       "Region Defined Variants            0 / 428  (0.00%)\n",
       "Transcript Variants                0 / 428  (0.00%)"
      ]
     },
     "execution_count": 259,
     "metadata": {},
     "output_type": "execute_result"
    }
   ],
   "source": [
    "not_supported_features_total_df = (\n",
    "    not_supported_features_total_df[\n",
    "        [\n",
    "            \"Category\",\n",
    "            \"Percent of all MOA Features\",\n",
    "        ]\n",
    "    ]\n",
    "    .copy()\n",
    "    .set_index(\"Category\")\n",
    ")\n",
    "not_supported_features_total_df"
   ]
  },
  {
   "cell_type": "code",
   "execution_count": 260,
   "metadata": {},
   "outputs": [],
   "source": [
    "moa_summary_table_2 = not_supported_features_total_df"
   ]
  },
  {
   "cell_type": "code",
   "execution_count": 261,
   "metadata": {},
   "outputs": [],
   "source": [
    "for_merge_not_supported_features_total_df.to_csv(\n",
    "    \"moa_assertion_analysis_output/for_merge_not_supported_features_total_df.csv\",\n",
    "    index=False,\n",
    ")"
   ]
  },
  {
   "cell_type": "markdown",
   "metadata": {},
   "source": [
    "### <a id='toc2_1_4_'></a>[Summary Table 3](#toc0_)"
   ]
  },
  {
   "cell_type": "markdown",
   "metadata": {},
   "source": [
    "The table below shows the categories that the Not Supported features (variants) were broken into what percent each sub category take up in Not Supported variant group."
   ]
  },
  {
   "cell_type": "markdown",
   "metadata": {},
   "source": [
    "<ins>Numerator:</ins> # of MOA Features (variants) that are Not Supported in a given Subcategory\n",
    "<br><ins>Denominator:</ins> # of MOA Features (variants) that are Not Supported"
   ]
  },
  {
   "cell_type": "code",
   "execution_count": 262,
   "metadata": {},
   "outputs": [],
   "source": [
    "not_supported_features_category_df = combine_frac_perc(\n",
    "    not_supported_features_df, \"Not Supported Features\"\n",
    ")"
   ]
  },
  {
   "cell_type": "code",
   "execution_count": 263,
   "metadata": {},
   "outputs": [
    {
     "data": {
      "text/html": [
       "<div>\n",
       "<style scoped>\n",
       "    .dataframe tbody tr th:only-of-type {\n",
       "        vertical-align: middle;\n",
       "    }\n",
       "\n",
       "    .dataframe tbody tr th {\n",
       "        vertical-align: top;\n",
       "    }\n",
       "\n",
       "    .dataframe thead th {\n",
       "        text-align: right;\n",
       "    }\n",
       "</style>\n",
       "<table border=\"1\" class=\"dataframe\">\n",
       "  <thead>\n",
       "    <tr style=\"text-align: right;\">\n",
       "      <th></th>\n",
       "      <th>Percent of Not Supported Features</th>\n",
       "    </tr>\n",
       "    <tr>\n",
       "      <th>Category</th>\n",
       "      <th></th>\n",
       "    </tr>\n",
       "  </thead>\n",
       "  <tbody>\n",
       "    <tr>\n",
       "      <th>Expression Variants</th>\n",
       "      <td>11 / 249  (4.42%)</td>\n",
       "    </tr>\n",
       "    <tr>\n",
       "      <th>Epigenetic Modification</th>\n",
       "      <td>0 / 249  (0.00%)</td>\n",
       "    </tr>\n",
       "    <tr>\n",
       "      <th>Fusion Variants</th>\n",
       "      <td>0 / 249  (0.00%)</td>\n",
       "    </tr>\n",
       "    <tr>\n",
       "      <th>Sequence Variants</th>\n",
       "      <td>174 / 249  (69.88%)</td>\n",
       "    </tr>\n",
       "    <tr>\n",
       "      <th>Gene Function Variants</th>\n",
       "      <td>0 / 249  (0.00%)</td>\n",
       "    </tr>\n",
       "    <tr>\n",
       "      <th>Rearrangement Variants</th>\n",
       "      <td>38 / 249  (15.26%)</td>\n",
       "    </tr>\n",
       "    <tr>\n",
       "      <th>Copy Number Variants</th>\n",
       "      <td>17 / 249  (6.83%)</td>\n",
       "    </tr>\n",
       "    <tr>\n",
       "      <th>Other Variants</th>\n",
       "      <td>9 / 249  (3.61%)</td>\n",
       "    </tr>\n",
       "    <tr>\n",
       "      <th>Genotype Variants</th>\n",
       "      <td>0 / 249  (0.00%)</td>\n",
       "    </tr>\n",
       "    <tr>\n",
       "      <th>Region Defined Variants</th>\n",
       "      <td>0 / 249  (0.00%)</td>\n",
       "    </tr>\n",
       "    <tr>\n",
       "      <th>Transcript Variants</th>\n",
       "      <td>0 / 249  (0.00%)</td>\n",
       "    </tr>\n",
       "  </tbody>\n",
       "</table>\n",
       "</div>"
      ],
      "text/plain": [
       "                        Percent of Not Supported Features\n",
       "Category                                                 \n",
       "Expression Variants                     11 / 249  (4.42%)\n",
       "Epigenetic Modification                  0 / 249  (0.00%)\n",
       "Fusion Variants                          0 / 249  (0.00%)\n",
       "Sequence Variants                     174 / 249  (69.88%)\n",
       "Gene Function Variants                   0 / 249  (0.00%)\n",
       "Rearrangement Variants                 38 / 249  (15.26%)\n",
       "Copy Number Variants                    17 / 249  (6.83%)\n",
       "Other Variants                           9 / 249  (3.61%)\n",
       "Genotype Variants                        0 / 249  (0.00%)\n",
       "Region Defined Variants                  0 / 249  (0.00%)\n",
       "Transcript Variants                      0 / 249  (0.00%)"
      ]
     },
     "execution_count": 263,
     "metadata": {},
     "output_type": "execute_result"
    }
   ],
   "source": [
    "not_supported_features_category_df = not_supported_features_category_df[\n",
    "    [\"Category\", \"Percent of Not Supported Features\"]\n",
    "]\n",
    "not_supported_features_category_df = not_supported_features_category_df.set_index(\n",
    "    \"Category\"\n",
    ")\n",
    "not_supported_features_category_df"
   ]
  },
  {
   "cell_type": "code",
   "execution_count": 264,
   "metadata": {},
   "outputs": [],
   "source": [
    "moa_summary_table_3 = not_supported_features_category_df"
   ]
  },
  {
   "cell_type": "markdown",
   "metadata": {},
   "source": [
    "## <a id='toc2_2_'></a>[Evidence Analysis](#toc0_)"
   ]
  },
  {
   "cell_type": "markdown",
   "metadata": {},
   "source": [
    "### <a id='toc2_2_1_'></a>[Building Summary Table 4](#toc0_)"
   ]
  },
  {
   "cell_type": "code",
   "execution_count": 265,
   "metadata": {},
   "outputs": [],
   "source": [
    "all_features_assertions_df = pd.DataFrame(assertion_analysis_summary)"
   ]
  },
  {
   "cell_type": "code",
   "execution_count": 266,
   "metadata": {},
   "outputs": [],
   "source": [
    "all_features_assertions_df = combine_frac_perc(\n",
    "    all_features_assertions_df, \"all MOA Assertions\"\n",
    ")"
   ]
  },
  {
   "cell_type": "code",
   "execution_count": 267,
   "metadata": {},
   "outputs": [],
   "source": [
    "for_merge_all_features_assertions_df = all_features_assertions_df.drop(\n",
    "    columns=[\"Fraction of all MOA Assertions\"]\n",
    ")\n",
    "\n",
    "all_features_assertions_df = for_merge_all_features_assertions_df.drop(\n",
    "    columns=[\"Count of MOA Assertions per Category\"]\n",
    ")"
   ]
  },
  {
   "cell_type": "code",
   "execution_count": 268,
   "metadata": {},
   "outputs": [],
   "source": [
    "for_merge_all_features_assertions_df.to_csv(\n",
    "    \"moa_assertion_analysis_output/for_merge_all_features_assertions_df.csv\",\n",
    "    index=False,\n",
    ")"
   ]
  },
  {
   "cell_type": "markdown",
   "metadata": {},
   "source": [
    "### <a id='toc2_2_2_'></a>[Summary Table 4](#toc0_)"
   ]
  },
  {
   "cell_type": "markdown",
   "metadata": {},
   "source": [
    "The table below shows what percent of all assertions (evidence items) in MOA are associated with Normalized and Not Supported features (variants)"
   ]
  },
  {
   "cell_type": "markdown",
   "metadata": {},
   "source": [
    "<ins>Numerator:</ins> # of MOA Assertions (evidence items) based on normalization status of associated features (variants)\n",
    "<br><ins>Denominator:</ins> # of all MOA Assertions (evidence items)"
   ]
  },
  {
   "cell_type": "code",
   "execution_count": 269,
   "metadata": {},
   "outputs": [
    {
     "data": {
      "text/html": [
       "<div>\n",
       "<style scoped>\n",
       "    .dataframe tbody tr th:only-of-type {\n",
       "        vertical-align: middle;\n",
       "    }\n",
       "\n",
       "    .dataframe tbody tr th {\n",
       "        vertical-align: top;\n",
       "    }\n",
       "\n",
       "    .dataframe thead th {\n",
       "        text-align: right;\n",
       "    }\n",
       "</style>\n",
       "<table border=\"1\" class=\"dataframe\">\n",
       "  <thead>\n",
       "    <tr style=\"text-align: right;\">\n",
       "      <th></th>\n",
       "      <th>Percent of all MOA Assertions</th>\n",
       "    </tr>\n",
       "    <tr>\n",
       "      <th>Variant Category</th>\n",
       "      <th></th>\n",
       "    </tr>\n",
       "  </thead>\n",
       "  <tbody>\n",
       "    <tr>\n",
       "      <th>Normalized</th>\n",
       "      <td>325 / 898  (36.19%)</td>\n",
       "    </tr>\n",
       "    <tr>\n",
       "      <th>Not Supported</th>\n",
       "      <td>573 / 898  (63.81%)</td>\n",
       "    </tr>\n",
       "  </tbody>\n",
       "</table>\n",
       "</div>"
      ],
      "text/plain": [
       "                 Percent of all MOA Assertions\n",
       "Variant Category                              \n",
       "Normalized                 325 / 898  (36.19%)\n",
       "Not Supported              573 / 898  (63.81%)"
      ]
     },
     "execution_count": 269,
     "metadata": {},
     "output_type": "execute_result"
    }
   ],
   "source": [
    "all_features_assertions_df = all_features_assertions_df.set_index(\"Variant Category\")\n",
    "moa_summary_table_4 = all_features_assertions_df\n",
    "moa_summary_table_4"
   ]
  },
  {
   "cell_type": "markdown",
   "metadata": {},
   "source": [
    "### <a id='toc2_2_3_'></a>[Building Sumary Tables 5 & 6](#toc0_)"
   ]
  },
  {
   "cell_type": "code",
   "execution_count": 270,
   "metadata": {},
   "outputs": [],
   "source": [
    "not_supported_feature_assertion_df = pd.DataFrame(\n",
    "    not_supported_feature_assertion_summary\n",
    ")"
   ]
  },
  {
   "cell_type": "code",
   "execution_count": 271,
   "metadata": {},
   "outputs": [],
   "source": [
    "not_supported_feature_assertion_df = combine_frac_perc(\n",
    "    not_supported_feature_assertion_df, \"all MOA Assertions\"\n",
    ")"
   ]
  },
  {
   "cell_type": "code",
   "execution_count": 272,
   "metadata": {},
   "outputs": [],
   "source": [
    "not_supported_feature_assertion_df = combine_frac_perc(\n",
    "    not_supported_feature_assertion_df, \"Not Supported Feature Assertions\"\n",
    ")"
   ]
  },
  {
   "cell_type": "code",
   "execution_count": 273,
   "metadata": {},
   "outputs": [],
   "source": [
    "not_supported_feature_assertion_df = not_supported_feature_assertion_df.drop(\n",
    "    columns=[\n",
    "        \"Fraction of all MOA Assertions\",\n",
    "        \"Fraction of Not Supported Feature Assertions\",\n",
    "    ]\n",
    ")"
   ]
  },
  {
   "cell_type": "code",
   "execution_count": 274,
   "metadata": {},
   "outputs": [],
   "source": [
    "for_merge_not_supported_feature_assertion_df = not_supported_feature_assertion_df.drop(\n",
    "    [\"Percent of Not Supported Feature Assertions\"], axis=1\n",
    ")\n",
    "\n",
    "not_supported_feature_assertion_of_moa_df = (\n",
    "    for_merge_not_supported_feature_assertion_df.drop(\n",
    "        [\"Count of MOA Assertions per Category\"], axis=1\n",
    "    )\n",
    ")\n",
    "\n",
    "not_supported_feature_assertion_of_not_supported_df = (\n",
    "    not_supported_feature_assertion_df.drop(\n",
    "        [\"Percent of all MOA Assertions\", \"Count of MOA Assertions per Category\"],\n",
    "        axis=1,\n",
    "    )\n",
    ")"
   ]
  },
  {
   "cell_type": "code",
   "execution_count": 275,
   "metadata": {},
   "outputs": [],
   "source": [
    "for_merge_not_supported_feature_assertion_df.to_csv(\n",
    "    \"moa_assertion_analysis_output/for_merge_not_supported_feature_assertion_df.csv\",\n",
    "    index=False,\n",
    ")"
   ]
  },
  {
   "cell_type": "markdown",
   "metadata": {},
   "source": [
    "### <a id='toc2_2_4_'></a>[Summary Table 5](#toc0_)"
   ]
  },
  {
   "cell_type": "markdown",
   "metadata": {},
   "source": [
    "The table below shows the percent of all MOA assertions (evidence items) that are associated with a Not Supported variant sub category."
   ]
  },
  {
   "cell_type": "markdown",
   "metadata": {},
   "source": [
    "<ins>Numerator:</ins> # of MOA Assertions (evidence items) associated with Not Supported features (variants) in a given Subcategory\n",
    "<br><ins>Denominator:</ins> # of all MOA Assertions (evidence items)"
   ]
  },
  {
   "cell_type": "code",
   "execution_count": 276,
   "metadata": {},
   "outputs": [
    {
     "data": {
      "text/html": [
       "<div>\n",
       "<style scoped>\n",
       "    .dataframe tbody tr th:only-of-type {\n",
       "        vertical-align: middle;\n",
       "    }\n",
       "\n",
       "    .dataframe tbody tr th {\n",
       "        vertical-align: top;\n",
       "    }\n",
       "\n",
       "    .dataframe thead th {\n",
       "        text-align: right;\n",
       "    }\n",
       "</style>\n",
       "<table border=\"1\" class=\"dataframe\">\n",
       "  <thead>\n",
       "    <tr style=\"text-align: right;\">\n",
       "      <th></th>\n",
       "      <th>Percent of all MOA Assertions</th>\n",
       "    </tr>\n",
       "    <tr>\n",
       "      <th>Category</th>\n",
       "      <th></th>\n",
       "    </tr>\n",
       "  </thead>\n",
       "  <tbody>\n",
       "    <tr>\n",
       "      <th>Expression Variants</th>\n",
       "      <td>12 / 898  (1.34%)</td>\n",
       "    </tr>\n",
       "    <tr>\n",
       "      <th>Epigenetic Modification</th>\n",
       "      <td>0 / 898  (0.00%)</td>\n",
       "    </tr>\n",
       "    <tr>\n",
       "      <th>Fusion Variants</th>\n",
       "      <td>0 / 898  (0.00%)</td>\n",
       "    </tr>\n",
       "    <tr>\n",
       "      <th>Sequence Variants</th>\n",
       "      <td>427 / 898  (47.55%)</td>\n",
       "    </tr>\n",
       "    <tr>\n",
       "      <th>Gene Function Variants</th>\n",
       "      <td>0 / 898  (0.00%)</td>\n",
       "    </tr>\n",
       "    <tr>\n",
       "      <th>Rearrangement Variants</th>\n",
       "      <td>82 / 898  (9.13%)</td>\n",
       "    </tr>\n",
       "    <tr>\n",
       "      <th>Copy Number Variants</th>\n",
       "      <td>29 / 898  (3.23%)</td>\n",
       "    </tr>\n",
       "    <tr>\n",
       "      <th>Other Variants</th>\n",
       "      <td>23 / 898  (2.56%)</td>\n",
       "    </tr>\n",
       "    <tr>\n",
       "      <th>Genotype Variants</th>\n",
       "      <td>0 / 898  (0.00%)</td>\n",
       "    </tr>\n",
       "    <tr>\n",
       "      <th>Region Defined Variants</th>\n",
       "      <td>0 / 898  (0.00%)</td>\n",
       "    </tr>\n",
       "    <tr>\n",
       "      <th>Transcript Variants</th>\n",
       "      <td>0 / 898  (0.00%)</td>\n",
       "    </tr>\n",
       "  </tbody>\n",
       "</table>\n",
       "</div>"
      ],
      "text/plain": [
       "                        Percent of all MOA Assertions\n",
       "Category                                             \n",
       "Expression Variants                 12 / 898  (1.34%)\n",
       "Epigenetic Modification              0 / 898  (0.00%)\n",
       "Fusion Variants                      0 / 898  (0.00%)\n",
       "Sequence Variants                 427 / 898  (47.55%)\n",
       "Gene Function Variants               0 / 898  (0.00%)\n",
       "Rearrangement Variants              82 / 898  (9.13%)\n",
       "Copy Number Variants                29 / 898  (3.23%)\n",
       "Other Variants                      23 / 898  (2.56%)\n",
       "Genotype Variants                    0 / 898  (0.00%)\n",
       "Region Defined Variants              0 / 898  (0.00%)\n",
       "Transcript Variants                  0 / 898  (0.00%)"
      ]
     },
     "execution_count": 276,
     "metadata": {},
     "output_type": "execute_result"
    }
   ],
   "source": [
    "not_supported_feature_assertion_of_moa_df = (\n",
    "    not_supported_feature_assertion_of_moa_df.set_index(\"Category\")\n",
    ")\n",
    "moa_summary_table_5 = not_supported_feature_assertion_of_moa_df\n",
    "moa_summary_table_5"
   ]
  },
  {
   "cell_type": "markdown",
   "metadata": {},
   "source": [
    "### <a id='toc2_2_5_'></a>[Summary Table 6](#toc0_)"
   ]
  },
  {
   "cell_type": "markdown",
   "metadata": {},
   "source": [
    "The table below shows the percent of MOA Assertions (evidence items) associated with Not Supported features (variants) that belong to each variant sub category. "
   ]
  },
  {
   "cell_type": "markdown",
   "metadata": {},
   "source": [
    "<ins>Numerator:</ins> # of MOA Assertions (evidence items) associated with Not Supported features (variants) in a given Subcategory\n",
    "<br><ins>Denominator:</ins> # of MOA Assertions (evidence items) associated with all Not Supported features (variants)"
   ]
  },
  {
   "cell_type": "code",
   "execution_count": 277,
   "metadata": {},
   "outputs": [
    {
     "data": {
      "text/html": [
       "<div>\n",
       "<style scoped>\n",
       "    .dataframe tbody tr th:only-of-type {\n",
       "        vertical-align: middle;\n",
       "    }\n",
       "\n",
       "    .dataframe tbody tr th {\n",
       "        vertical-align: top;\n",
       "    }\n",
       "\n",
       "    .dataframe thead th {\n",
       "        text-align: right;\n",
       "    }\n",
       "</style>\n",
       "<table border=\"1\" class=\"dataframe\">\n",
       "  <thead>\n",
       "    <tr style=\"text-align: right;\">\n",
       "      <th></th>\n",
       "      <th>Percent of Not Supported Feature Assertions</th>\n",
       "    </tr>\n",
       "    <tr>\n",
       "      <th>Category</th>\n",
       "      <th></th>\n",
       "    </tr>\n",
       "  </thead>\n",
       "  <tbody>\n",
       "    <tr>\n",
       "      <th>Expression Variants</th>\n",
       "      <td>12 / 573  (2.09%)</td>\n",
       "    </tr>\n",
       "    <tr>\n",
       "      <th>Epigenetic Modification</th>\n",
       "      <td>0 / 573  (0.00%)</td>\n",
       "    </tr>\n",
       "    <tr>\n",
       "      <th>Fusion Variants</th>\n",
       "      <td>0 / 573  (0.00%)</td>\n",
       "    </tr>\n",
       "    <tr>\n",
       "      <th>Sequence Variants</th>\n",
       "      <td>427 / 573  (74.52%)</td>\n",
       "    </tr>\n",
       "    <tr>\n",
       "      <th>Gene Function Variants</th>\n",
       "      <td>0 / 573  (0.00%)</td>\n",
       "    </tr>\n",
       "    <tr>\n",
       "      <th>Rearrangement Variants</th>\n",
       "      <td>82 / 573  (14.31%)</td>\n",
       "    </tr>\n",
       "    <tr>\n",
       "      <th>Copy Number Variants</th>\n",
       "      <td>29 / 573  (5.06%)</td>\n",
       "    </tr>\n",
       "    <tr>\n",
       "      <th>Other Variants</th>\n",
       "      <td>23 / 573  (4.01%)</td>\n",
       "    </tr>\n",
       "    <tr>\n",
       "      <th>Genotype Variants</th>\n",
       "      <td>0 / 573  (0.00%)</td>\n",
       "    </tr>\n",
       "    <tr>\n",
       "      <th>Region Defined Variants</th>\n",
       "      <td>0 / 573  (0.00%)</td>\n",
       "    </tr>\n",
       "    <tr>\n",
       "      <th>Transcript Variants</th>\n",
       "      <td>0 / 573  (0.00%)</td>\n",
       "    </tr>\n",
       "  </tbody>\n",
       "</table>\n",
       "</div>"
      ],
      "text/plain": [
       "                        Percent of Not Supported Feature Assertions\n",
       "Category                                                           \n",
       "Expression Variants                               12 / 573  (2.09%)\n",
       "Epigenetic Modification                            0 / 573  (0.00%)\n",
       "Fusion Variants                                    0 / 573  (0.00%)\n",
       "Sequence Variants                               427 / 573  (74.52%)\n",
       "Gene Function Variants                             0 / 573  (0.00%)\n",
       "Rearrangement Variants                           82 / 573  (14.31%)\n",
       "Copy Number Variants                              29 / 573  (5.06%)\n",
       "Other Variants                                    23 / 573  (4.01%)\n",
       "Genotype Variants                                  0 / 573  (0.00%)\n",
       "Region Defined Variants                            0 / 573  (0.00%)\n",
       "Transcript Variants                                0 / 573  (0.00%)"
      ]
     },
     "execution_count": 277,
     "metadata": {},
     "output_type": "execute_result"
    }
   ],
   "source": [
    "not_supported_feature_assertion_of_not_supported_df = (\n",
    "    not_supported_feature_assertion_of_not_supported_df.set_index(\"Category\")\n",
    ")\n",
    "moa_summary_table_6 = not_supported_feature_assertion_of_not_supported_df\n",
    "moa_summary_table_6"
   ]
  },
  {
   "cell_type": "markdown",
   "metadata": {},
   "source": [
    "## <a id='toc2_3_'></a>[Impact](#toc0_)"
   ]
  },
  {
   "attachments": {},
   "cell_type": "markdown",
   "metadata": {},
   "source": [
    "The bar graph below shows the relationship between the Not Supported variant sub category impact score and the sub category. Additionally, the colors illustrate the number of assertions (evidence items) associated each sub category."
   ]
  },
  {
   "cell_type": "code",
   "execution_count": 278,
   "metadata": {},
   "outputs": [
    {
     "data": {
      "text/html": [
       "<div>\n",
       "<style scoped>\n",
       "    .dataframe tbody tr th:only-of-type {\n",
       "        vertical-align: middle;\n",
       "    }\n",
       "\n",
       "    .dataframe tbody tr th {\n",
       "        vertical-align: top;\n",
       "    }\n",
       "\n",
       "    .dataframe thead th {\n",
       "        text-align: right;\n",
       "    }\n",
       "</style>\n",
       "<table border=\"1\" class=\"dataframe\">\n",
       "  <thead>\n",
       "    <tr style=\"text-align: right;\">\n",
       "      <th></th>\n",
       "      <th>Category</th>\n",
       "      <th>MOA Total Sum Impact Score</th>\n",
       "      <th>Average Impact Score per Feature</th>\n",
       "      <th>Average Impact Score per Assertion</th>\n",
       "      <th>Total Number Assertions</th>\n",
       "      <th>Total Number Features</th>\n",
       "    </tr>\n",
       "  </thead>\n",
       "  <tbody>\n",
       "    <tr>\n",
       "      <th>0</th>\n",
       "      <td>Expression Variants</td>\n",
       "      <td>11.0</td>\n",
       "      <td>1.00</td>\n",
       "      <td>1.00</td>\n",
       "      <td>12</td>\n",
       "      <td>11</td>\n",
       "    </tr>\n",
       "    <tr>\n",
       "      <th>1</th>\n",
       "      <td>Epigenetic Modification</td>\n",
       "      <td>0.0</td>\n",
       "      <td>0</td>\n",
       "      <td>0</td>\n",
       "      <td>0</td>\n",
       "      <td>0</td>\n",
       "    </tr>\n",
       "    <tr>\n",
       "      <th>2</th>\n",
       "      <td>Fusion Variants</td>\n",
       "      <td>0.0</td>\n",
       "      <td>0</td>\n",
       "      <td>0</td>\n",
       "      <td>0</td>\n",
       "      <td>0</td>\n",
       "    </tr>\n",
       "    <tr>\n",
       "      <th>3</th>\n",
       "      <td>Sequence Variants</td>\n",
       "      <td>1104.5</td>\n",
       "      <td>6.35</td>\n",
       "      <td>6.35</td>\n",
       "      <td>427</td>\n",
       "      <td>174</td>\n",
       "    </tr>\n",
       "    <tr>\n",
       "      <th>4</th>\n",
       "      <td>Gene Function Variants</td>\n",
       "      <td>0.0</td>\n",
       "      <td>0</td>\n",
       "      <td>0</td>\n",
       "      <td>0</td>\n",
       "      <td>0</td>\n",
       "    </tr>\n",
       "    <tr>\n",
       "      <th>5</th>\n",
       "      <td>Rearrangement Variants</td>\n",
       "      <td>291.0</td>\n",
       "      <td>7.66</td>\n",
       "      <td>7.66</td>\n",
       "      <td>82</td>\n",
       "      <td>38</td>\n",
       "    </tr>\n",
       "    <tr>\n",
       "      <th>6</th>\n",
       "      <td>Copy Number Variants</td>\n",
       "      <td>44.5</td>\n",
       "      <td>2.62</td>\n",
       "      <td>2.62</td>\n",
       "      <td>29</td>\n",
       "      <td>17</td>\n",
       "    </tr>\n",
       "    <tr>\n",
       "      <th>7</th>\n",
       "      <td>Other Variants</td>\n",
       "      <td>32.5</td>\n",
       "      <td>3.61</td>\n",
       "      <td>3.61</td>\n",
       "      <td>23</td>\n",
       "      <td>9</td>\n",
       "    </tr>\n",
       "    <tr>\n",
       "      <th>8</th>\n",
       "      <td>Genotype Variants</td>\n",
       "      <td>0.0</td>\n",
       "      <td>0</td>\n",
       "      <td>0</td>\n",
       "      <td>0</td>\n",
       "      <td>0</td>\n",
       "    </tr>\n",
       "    <tr>\n",
       "      <th>9</th>\n",
       "      <td>Region Defined Variants</td>\n",
       "      <td>0.0</td>\n",
       "      <td>0</td>\n",
       "      <td>0</td>\n",
       "      <td>0</td>\n",
       "      <td>0</td>\n",
       "    </tr>\n",
       "    <tr>\n",
       "      <th>10</th>\n",
       "      <td>Transcript Variants</td>\n",
       "      <td>0.0</td>\n",
       "      <td>0</td>\n",
       "      <td>0</td>\n",
       "      <td>0</td>\n",
       "      <td>0</td>\n",
       "    </tr>\n",
       "  </tbody>\n",
       "</table>\n",
       "</div>"
      ],
      "text/plain": [
       "                   Category  MOA Total Sum Impact Score  \\\n",
       "0       Expression Variants                        11.0   \n",
       "1   Epigenetic Modification                         0.0   \n",
       "2           Fusion Variants                         0.0   \n",
       "3         Sequence Variants                      1104.5   \n",
       "4    Gene Function Variants                         0.0   \n",
       "5    Rearrangement Variants                       291.0   \n",
       "6      Copy Number Variants                        44.5   \n",
       "7            Other Variants                        32.5   \n",
       "8         Genotype Variants                         0.0   \n",
       "9   Region Defined Variants                         0.0   \n",
       "10      Transcript Variants                         0.0   \n",
       "\n",
       "   Average Impact Score per Feature Average Impact Score per Assertion  \\\n",
       "0                              1.00                               1.00   \n",
       "1                                 0                                  0   \n",
       "2                                 0                                  0   \n",
       "3                              6.35                               6.35   \n",
       "4                                 0                                  0   \n",
       "5                              7.66                               7.66   \n",
       "6                              2.62                               2.62   \n",
       "7                              3.61                               3.61   \n",
       "8                                 0                                  0   \n",
       "9                                 0                                  0   \n",
       "10                                0                                  0   \n",
       "\n",
       "    Total Number Assertions  Total Number Features  \n",
       "0                        12                     11  \n",
       "1                         0                      0  \n",
       "2                         0                      0  \n",
       "3                       427                    174  \n",
       "4                         0                      0  \n",
       "5                        82                     38  \n",
       "6                        29                     17  \n",
       "7                        23                      9  \n",
       "8                         0                      0  \n",
       "9                         0                      0  \n",
       "10                        0                      0  "
      ]
     },
     "execution_count": 278,
     "metadata": {},
     "output_type": "execute_result"
    }
   ],
   "source": [
    "not_supported_feature_impact_df = pd.DataFrame(not_supported_impact_summary)\n",
    "not_supported_feature_impact_df"
   ]
  },
  {
   "cell_type": "code",
   "execution_count": 279,
   "metadata": {},
   "outputs": [],
   "source": [
    "not_supported_feature_impact_df.to_csv(\n",
    "    \"moa_assertion_analysis_output/not_supported_feature_impact_df.csv\", index=False\n",
    ")"
   ]
  },
  {
   "cell_type": "code",
   "execution_count": 280,
   "metadata": {},
   "outputs": [
    {
     "data": {
      "application/vnd.plotly.v1+json": {
       "config": {
        "plotlyServerURL": "https://plot.ly"
       },
       "data": [
        {
         "alignmentgroup": "True",
         "customdata": [
          [
           12
          ],
          [
           0
          ],
          [
           0
          ],
          [
           427
          ],
          [
           0
          ],
          [
           82
          ],
          [
           29
          ],
          [
           23
          ],
          [
           0
          ],
          [
           0
          ],
          [
           0
          ]
         ],
         "hovertemplate": "Category=%{x}<br>MOA Total Sum Impact Score=%{y}<br>Total Number Assertions=%{marker.color}<extra></extra>",
         "legendgroup": "",
         "marker": {
          "color": [
           12,
           0,
           0,
           427,
           0,
           82,
           29,
           23,
           0,
           0,
           0
          ],
          "coloraxis": "coloraxis",
          "pattern": {
           "shape": ""
          }
         },
         "name": "",
         "offsetgroup": "",
         "orientation": "v",
         "showlegend": false,
         "textposition": "auto",
         "texttemplate": "%{y:.1f}",
         "type": "bar",
         "width": 1,
         "x": [
          "Expression Variants",
          "Epigenetic Modification",
          "Fusion Variants",
          "Sequence Variants",
          "Gene Function Variants",
          "Rearrangement Variants",
          "Copy Number Variants",
          "Other Variants",
          "Genotype Variants",
          "Region Defined Variants",
          "Transcript Variants"
         ],
         "xaxis": "x",
         "y": [
          11,
          0,
          0,
          1104.5,
          0,
          291,
          44.5,
          32.5,
          0,
          0,
          0
         ],
         "yaxis": "y"
        }
       ],
       "layout": {
        "barmode": "relative",
        "coloraxis": {
         "colorbar": {
          "title": {
           "text": "Total Number Assertions"
          }
         },
         "colorscale": [
          [
           0,
           "rgb(0, 128, 128)"
          ],
          [
           0.16666666666666666,
           "rgb(112, 164, 148)"
          ],
          [
           0.3333333333333333,
           "rgb(180, 200, 168)"
          ],
          [
           0.5,
           "rgb(246, 237, 189)"
          ],
          [
           0.6666666666666666,
           "rgb(237, 187, 138)"
          ],
          [
           0.8333333333333334,
           "rgb(222, 138, 90)"
          ],
          [
           1,
           "rgb(202, 86, 44)"
          ]
         ]
        },
        "legend": {
         "tracegroupgap": 0
        },
        "margin": {
         "t": 60
        },
        "template": {
         "data": {
          "bar": [
           {
            "error_x": {
             "color": "#2a3f5f"
            },
            "error_y": {
             "color": "#2a3f5f"
            },
            "marker": {
             "line": {
              "color": "#E5ECF6",
              "width": 0.5
             },
             "pattern": {
              "fillmode": "overlay",
              "size": 10,
              "solidity": 0.2
             }
            },
            "type": "bar"
           }
          ],
          "barpolar": [
           {
            "marker": {
             "line": {
              "color": "#E5ECF6",
              "width": 0.5
             },
             "pattern": {
              "fillmode": "overlay",
              "size": 10,
              "solidity": 0.2
             }
            },
            "type": "barpolar"
           }
          ],
          "carpet": [
           {
            "aaxis": {
             "endlinecolor": "#2a3f5f",
             "gridcolor": "white",
             "linecolor": "white",
             "minorgridcolor": "white",
             "startlinecolor": "#2a3f5f"
            },
            "baxis": {
             "endlinecolor": "#2a3f5f",
             "gridcolor": "white",
             "linecolor": "white",
             "minorgridcolor": "white",
             "startlinecolor": "#2a3f5f"
            },
            "type": "carpet"
           }
          ],
          "choropleth": [
           {
            "colorbar": {
             "outlinewidth": 0,
             "ticks": ""
            },
            "type": "choropleth"
           }
          ],
          "contour": [
           {
            "colorbar": {
             "outlinewidth": 0,
             "ticks": ""
            },
            "colorscale": [
             [
              0,
              "#0d0887"
             ],
             [
              0.1111111111111111,
              "#46039f"
             ],
             [
              0.2222222222222222,
              "#7201a8"
             ],
             [
              0.3333333333333333,
              "#9c179e"
             ],
             [
              0.4444444444444444,
              "#bd3786"
             ],
             [
              0.5555555555555556,
              "#d8576b"
             ],
             [
              0.6666666666666666,
              "#ed7953"
             ],
             [
              0.7777777777777778,
              "#fb9f3a"
             ],
             [
              0.8888888888888888,
              "#fdca26"
             ],
             [
              1,
              "#f0f921"
             ]
            ],
            "type": "contour"
           }
          ],
          "contourcarpet": [
           {
            "colorbar": {
             "outlinewidth": 0,
             "ticks": ""
            },
            "type": "contourcarpet"
           }
          ],
          "heatmap": [
           {
            "colorbar": {
             "outlinewidth": 0,
             "ticks": ""
            },
            "colorscale": [
             [
              0,
              "#0d0887"
             ],
             [
              0.1111111111111111,
              "#46039f"
             ],
             [
              0.2222222222222222,
              "#7201a8"
             ],
             [
              0.3333333333333333,
              "#9c179e"
             ],
             [
              0.4444444444444444,
              "#bd3786"
             ],
             [
              0.5555555555555556,
              "#d8576b"
             ],
             [
              0.6666666666666666,
              "#ed7953"
             ],
             [
              0.7777777777777778,
              "#fb9f3a"
             ],
             [
              0.8888888888888888,
              "#fdca26"
             ],
             [
              1,
              "#f0f921"
             ]
            ],
            "type": "heatmap"
           }
          ],
          "heatmapgl": [
           {
            "colorbar": {
             "outlinewidth": 0,
             "ticks": ""
            },
            "colorscale": [
             [
              0,
              "#0d0887"
             ],
             [
              0.1111111111111111,
              "#46039f"
             ],
             [
              0.2222222222222222,
              "#7201a8"
             ],
             [
              0.3333333333333333,
              "#9c179e"
             ],
             [
              0.4444444444444444,
              "#bd3786"
             ],
             [
              0.5555555555555556,
              "#d8576b"
             ],
             [
              0.6666666666666666,
              "#ed7953"
             ],
             [
              0.7777777777777778,
              "#fb9f3a"
             ],
             [
              0.8888888888888888,
              "#fdca26"
             ],
             [
              1,
              "#f0f921"
             ]
            ],
            "type": "heatmapgl"
           }
          ],
          "histogram": [
           {
            "marker": {
             "pattern": {
              "fillmode": "overlay",
              "size": 10,
              "solidity": 0.2
             }
            },
            "type": "histogram"
           }
          ],
          "histogram2d": [
           {
            "colorbar": {
             "outlinewidth": 0,
             "ticks": ""
            },
            "colorscale": [
             [
              0,
              "#0d0887"
             ],
             [
              0.1111111111111111,
              "#46039f"
             ],
             [
              0.2222222222222222,
              "#7201a8"
             ],
             [
              0.3333333333333333,
              "#9c179e"
             ],
             [
              0.4444444444444444,
              "#bd3786"
             ],
             [
              0.5555555555555556,
              "#d8576b"
             ],
             [
              0.6666666666666666,
              "#ed7953"
             ],
             [
              0.7777777777777778,
              "#fb9f3a"
             ],
             [
              0.8888888888888888,
              "#fdca26"
             ],
             [
              1,
              "#f0f921"
             ]
            ],
            "type": "histogram2d"
           }
          ],
          "histogram2dcontour": [
           {
            "colorbar": {
             "outlinewidth": 0,
             "ticks": ""
            },
            "colorscale": [
             [
              0,
              "#0d0887"
             ],
             [
              0.1111111111111111,
              "#46039f"
             ],
             [
              0.2222222222222222,
              "#7201a8"
             ],
             [
              0.3333333333333333,
              "#9c179e"
             ],
             [
              0.4444444444444444,
              "#bd3786"
             ],
             [
              0.5555555555555556,
              "#d8576b"
             ],
             [
              0.6666666666666666,
              "#ed7953"
             ],
             [
              0.7777777777777778,
              "#fb9f3a"
             ],
             [
              0.8888888888888888,
              "#fdca26"
             ],
             [
              1,
              "#f0f921"
             ]
            ],
            "type": "histogram2dcontour"
           }
          ],
          "mesh3d": [
           {
            "colorbar": {
             "outlinewidth": 0,
             "ticks": ""
            },
            "type": "mesh3d"
           }
          ],
          "parcoords": [
           {
            "line": {
             "colorbar": {
              "outlinewidth": 0,
              "ticks": ""
             }
            },
            "type": "parcoords"
           }
          ],
          "pie": [
           {
            "automargin": true,
            "type": "pie"
           }
          ],
          "scatter": [
           {
            "fillpattern": {
             "fillmode": "overlay",
             "size": 10,
             "solidity": 0.2
            },
            "type": "scatter"
           }
          ],
          "scatter3d": [
           {
            "line": {
             "colorbar": {
              "outlinewidth": 0,
              "ticks": ""
             }
            },
            "marker": {
             "colorbar": {
              "outlinewidth": 0,
              "ticks": ""
             }
            },
            "type": "scatter3d"
           }
          ],
          "scattercarpet": [
           {
            "marker": {
             "colorbar": {
              "outlinewidth": 0,
              "ticks": ""
             }
            },
            "type": "scattercarpet"
           }
          ],
          "scattergeo": [
           {
            "marker": {
             "colorbar": {
              "outlinewidth": 0,
              "ticks": ""
             }
            },
            "type": "scattergeo"
           }
          ],
          "scattergl": [
           {
            "marker": {
             "colorbar": {
              "outlinewidth": 0,
              "ticks": ""
             }
            },
            "type": "scattergl"
           }
          ],
          "scattermapbox": [
           {
            "marker": {
             "colorbar": {
              "outlinewidth": 0,
              "ticks": ""
             }
            },
            "type": "scattermapbox"
           }
          ],
          "scatterpolar": [
           {
            "marker": {
             "colorbar": {
              "outlinewidth": 0,
              "ticks": ""
             }
            },
            "type": "scatterpolar"
           }
          ],
          "scatterpolargl": [
           {
            "marker": {
             "colorbar": {
              "outlinewidth": 0,
              "ticks": ""
             }
            },
            "type": "scatterpolargl"
           }
          ],
          "scatterternary": [
           {
            "marker": {
             "colorbar": {
              "outlinewidth": 0,
              "ticks": ""
             }
            },
            "type": "scatterternary"
           }
          ],
          "surface": [
           {
            "colorbar": {
             "outlinewidth": 0,
             "ticks": ""
            },
            "colorscale": [
             [
              0,
              "#0d0887"
             ],
             [
              0.1111111111111111,
              "#46039f"
             ],
             [
              0.2222222222222222,
              "#7201a8"
             ],
             [
              0.3333333333333333,
              "#9c179e"
             ],
             [
              0.4444444444444444,
              "#bd3786"
             ],
             [
              0.5555555555555556,
              "#d8576b"
             ],
             [
              0.6666666666666666,
              "#ed7953"
             ],
             [
              0.7777777777777778,
              "#fb9f3a"
             ],
             [
              0.8888888888888888,
              "#fdca26"
             ],
             [
              1,
              "#f0f921"
             ]
            ],
            "type": "surface"
           }
          ],
          "table": [
           {
            "cells": {
             "fill": {
              "color": "#EBF0F8"
             },
             "line": {
              "color": "white"
             }
            },
            "header": {
             "fill": {
              "color": "#C8D4E3"
             },
             "line": {
              "color": "white"
             }
            },
            "type": "table"
           }
          ]
         },
         "layout": {
          "annotationdefaults": {
           "arrowcolor": "#2a3f5f",
           "arrowhead": 0,
           "arrowwidth": 1
          },
          "autotypenumbers": "strict",
          "coloraxis": {
           "colorbar": {
            "outlinewidth": 0,
            "ticks": ""
           }
          },
          "colorscale": {
           "diverging": [
            [
             0,
             "#8e0152"
            ],
            [
             0.1,
             "#c51b7d"
            ],
            [
             0.2,
             "#de77ae"
            ],
            [
             0.3,
             "#f1b6da"
            ],
            [
             0.4,
             "#fde0ef"
            ],
            [
             0.5,
             "#f7f7f7"
            ],
            [
             0.6,
             "#e6f5d0"
            ],
            [
             0.7,
             "#b8e186"
            ],
            [
             0.8,
             "#7fbc41"
            ],
            [
             0.9,
             "#4d9221"
            ],
            [
             1,
             "#276419"
            ]
           ],
           "sequential": [
            [
             0,
             "#0d0887"
            ],
            [
             0.1111111111111111,
             "#46039f"
            ],
            [
             0.2222222222222222,
             "#7201a8"
            ],
            [
             0.3333333333333333,
             "#9c179e"
            ],
            [
             0.4444444444444444,
             "#bd3786"
            ],
            [
             0.5555555555555556,
             "#d8576b"
            ],
            [
             0.6666666666666666,
             "#ed7953"
            ],
            [
             0.7777777777777778,
             "#fb9f3a"
            ],
            [
             0.8888888888888888,
             "#fdca26"
            ],
            [
             1,
             "#f0f921"
            ]
           ],
           "sequentialminus": [
            [
             0,
             "#0d0887"
            ],
            [
             0.1111111111111111,
             "#46039f"
            ],
            [
             0.2222222222222222,
             "#7201a8"
            ],
            [
             0.3333333333333333,
             "#9c179e"
            ],
            [
             0.4444444444444444,
             "#bd3786"
            ],
            [
             0.5555555555555556,
             "#d8576b"
            ],
            [
             0.6666666666666666,
             "#ed7953"
            ],
            [
             0.7777777777777778,
             "#fb9f3a"
            ],
            [
             0.8888888888888888,
             "#fdca26"
            ],
            [
             1,
             "#f0f921"
            ]
           ]
          },
          "colorway": [
           "#636efa",
           "#EF553B",
           "#00cc96",
           "#ab63fa",
           "#FFA15A",
           "#19d3f3",
           "#FF6692",
           "#B6E880",
           "#FF97FF",
           "#FECB52"
          ],
          "font": {
           "color": "#2a3f5f"
          },
          "geo": {
           "bgcolor": "white",
           "lakecolor": "white",
           "landcolor": "#E5ECF6",
           "showlakes": true,
           "showland": true,
           "subunitcolor": "white"
          },
          "hoverlabel": {
           "align": "left"
          },
          "hovermode": "closest",
          "mapbox": {
           "style": "light"
          },
          "paper_bgcolor": "white",
          "plot_bgcolor": "#E5ECF6",
          "polar": {
           "angularaxis": {
            "gridcolor": "white",
            "linecolor": "white",
            "ticks": ""
           },
           "bgcolor": "#E5ECF6",
           "radialaxis": {
            "gridcolor": "white",
            "linecolor": "white",
            "ticks": ""
           }
          },
          "scene": {
           "xaxis": {
            "backgroundcolor": "#E5ECF6",
            "gridcolor": "white",
            "gridwidth": 2,
            "linecolor": "white",
            "showbackground": true,
            "ticks": "",
            "zerolinecolor": "white"
           },
           "yaxis": {
            "backgroundcolor": "#E5ECF6",
            "gridcolor": "white",
            "gridwidth": 2,
            "linecolor": "white",
            "showbackground": true,
            "ticks": "",
            "zerolinecolor": "white"
           },
           "zaxis": {
            "backgroundcolor": "#E5ECF6",
            "gridcolor": "white",
            "gridwidth": 2,
            "linecolor": "white",
            "showbackground": true,
            "ticks": "",
            "zerolinecolor": "white"
           }
          },
          "shapedefaults": {
           "line": {
            "color": "#2a3f5f"
           }
          },
          "ternary": {
           "aaxis": {
            "gridcolor": "white",
            "linecolor": "white",
            "ticks": ""
           },
           "baxis": {
            "gridcolor": "white",
            "linecolor": "white",
            "ticks": ""
           },
           "bgcolor": "#E5ECF6",
           "caxis": {
            "gridcolor": "white",
            "linecolor": "white",
            "ticks": ""
           }
          },
          "title": {
           "x": 0.05
          },
          "xaxis": {
           "automargin": true,
           "gridcolor": "white",
           "linecolor": "white",
           "ticks": "",
           "title": {
            "standoff": 15
           },
           "zerolinecolor": "white",
           "zerolinewidth": 2
          },
          "yaxis": {
           "automargin": true,
           "gridcolor": "white",
           "linecolor": "white",
           "ticks": "",
           "title": {
            "standoff": 15
           },
           "zerolinecolor": "white",
           "zerolinewidth": 2
          }
         }
        },
        "xaxis": {
         "anchor": "y",
         "domain": [
          0,
          1
         ],
         "title": {
          "text": "Category"
         }
        },
        "yaxis": {
         "anchor": "x",
         "domain": [
          0,
          1
         ],
         "title": {
          "text": "MOA Total Sum Impact Score"
         }
        }
       }
      }
     },
     "metadata": {},
     "output_type": "display_data"
    }
   ],
   "source": [
    "fig3 = px.bar(\n",
    "    not_supported_feature_impact_df,\n",
    "    x=\"Category\",\n",
    "    y=\"MOA Total Sum Impact Score\",\n",
    "    hover_data=[\"Total Number Assertions\"],\n",
    "    color=\"Total Number Assertions\",\n",
    "    labels={\"MOA Total Sum Impact Score\": \"MOA Total Sum Impact Score\"},\n",
    "    text_auto=\".1f\",\n",
    "    color_continuous_scale=\"geyser\",\n",
    ")\n",
    "fig3.update_traces(width=1)\n",
    "fig3.show()"
   ]
  },
  {
   "cell_type": "code",
   "execution_count": 281,
   "metadata": {},
   "outputs": [],
   "source": [
    "fig3.write_html(\"moa_assertion_analysis_output/moa_ns_categories_impact_redgreen.html\")"
   ]
  },
  {
   "attachments": {},
   "cell_type": "markdown",
   "metadata": {},
   "source": [
    "The scatterplot below shows the relationship between the Not Supported variant sub category impact score and the number of assertions (evidence items) associated with features (variants) in each sub category. Additionally, the sizes of the data point represent the number of features (variants) in each sub category. "
   ]
  },
  {
   "cell_type": "code",
   "execution_count": 282,
   "metadata": {},
   "outputs": [
    {
     "data": {
      "application/vnd.plotly.v1+json": {
       "config": {
        "plotlyServerURL": "https://plot.ly"
       },
       "data": [
        {
         "hovertemplate": "Category=Expression Variants<br>Total Number Assertions=%{x}<br>MOA Total Sum Impact Score=%{y}<br>Total Number Features=%{text}<extra></extra>",
         "legendgroup": "Expression Variants",
         "marker": {
          "color": "#636efa",
          "size": [
           11
          ],
          "sizemode": "area",
          "sizeref": 0.10875,
          "symbol": "circle"
         },
         "mode": "markers+text",
         "name": "Expression Variants",
         "orientation": "v",
         "showlegend": true,
         "text": [
          11
         ],
         "type": "scatter",
         "x": [
          12
         ],
         "xaxis": "x",
         "y": [
          11
         ],
         "yaxis": "y"
        },
        {
         "hovertemplate": "Category=Epigenetic Modification<br>Total Number Assertions=%{x}<br>MOA Total Sum Impact Score=%{y}<br>Total Number Features=%{text}<extra></extra>",
         "legendgroup": "Epigenetic Modification",
         "marker": {
          "color": "#EF553B",
          "size": [
           0
          ],
          "sizemode": "area",
          "sizeref": 0.10875,
          "symbol": "circle"
         },
         "mode": "markers+text",
         "name": "Epigenetic Modification",
         "orientation": "v",
         "showlegend": true,
         "text": [
          0
         ],
         "type": "scatter",
         "x": [
          0
         ],
         "xaxis": "x",
         "y": [
          0
         ],
         "yaxis": "y"
        },
        {
         "hovertemplate": "Category=Fusion Variants<br>Total Number Assertions=%{x}<br>MOA Total Sum Impact Score=%{y}<br>Total Number Features=%{text}<extra></extra>",
         "legendgroup": "Fusion Variants",
         "marker": {
          "color": "#00cc96",
          "size": [
           0
          ],
          "sizemode": "area",
          "sizeref": 0.10875,
          "symbol": "circle"
         },
         "mode": "markers+text",
         "name": "Fusion Variants",
         "orientation": "v",
         "showlegend": true,
         "text": [
          0
         ],
         "type": "scatter",
         "x": [
          0
         ],
         "xaxis": "x",
         "y": [
          0
         ],
         "yaxis": "y"
        },
        {
         "hovertemplate": "Category=Sequence Variants<br>Total Number Assertions=%{x}<br>MOA Total Sum Impact Score=%{y}<br>Total Number Features=%{text}<extra></extra>",
         "legendgroup": "Sequence Variants",
         "marker": {
          "color": "#ab63fa",
          "size": [
           174
          ],
          "sizemode": "area",
          "sizeref": 0.10875,
          "symbol": "circle"
         },
         "mode": "markers+text",
         "name": "Sequence Variants",
         "orientation": "v",
         "showlegend": true,
         "text": [
          174
         ],
         "type": "scatter",
         "x": [
          427
         ],
         "xaxis": "x",
         "y": [
          1104.5
         ],
         "yaxis": "y"
        },
        {
         "hovertemplate": "Category=Gene Function Variants<br>Total Number Assertions=%{x}<br>MOA Total Sum Impact Score=%{y}<br>Total Number Features=%{text}<extra></extra>",
         "legendgroup": "Gene Function Variants",
         "marker": {
          "color": "#FFA15A",
          "size": [
           0
          ],
          "sizemode": "area",
          "sizeref": 0.10875,
          "symbol": "circle"
         },
         "mode": "markers+text",
         "name": "Gene Function Variants",
         "orientation": "v",
         "showlegend": true,
         "text": [
          0
         ],
         "type": "scatter",
         "x": [
          0
         ],
         "xaxis": "x",
         "y": [
          0
         ],
         "yaxis": "y"
        },
        {
         "hovertemplate": "Category=Rearrangement Variants<br>Total Number Assertions=%{x}<br>MOA Total Sum Impact Score=%{y}<br>Total Number Features=%{text}<extra></extra>",
         "legendgroup": "Rearrangement Variants",
         "marker": {
          "color": "#19d3f3",
          "size": [
           38
          ],
          "sizemode": "area",
          "sizeref": 0.10875,
          "symbol": "circle"
         },
         "mode": "markers+text",
         "name": "Rearrangement Variants",
         "orientation": "v",
         "showlegend": true,
         "text": [
          38
         ],
         "type": "scatter",
         "x": [
          82
         ],
         "xaxis": "x",
         "y": [
          291
         ],
         "yaxis": "y"
        },
        {
         "hovertemplate": "Category=Copy Number Variants<br>Total Number Assertions=%{x}<br>MOA Total Sum Impact Score=%{y}<br>Total Number Features=%{text}<extra></extra>",
         "legendgroup": "Copy Number Variants",
         "marker": {
          "color": "#FF6692",
          "size": [
           17
          ],
          "sizemode": "area",
          "sizeref": 0.10875,
          "symbol": "circle"
         },
         "mode": "markers+text",
         "name": "Copy Number Variants",
         "orientation": "v",
         "showlegend": true,
         "text": [
          17
         ],
         "type": "scatter",
         "x": [
          29
         ],
         "xaxis": "x",
         "y": [
          44.5
         ],
         "yaxis": "y"
        },
        {
         "hovertemplate": "Category=Other Variants<br>Total Number Assertions=%{x}<br>MOA Total Sum Impact Score=%{y}<br>Total Number Features=%{text}<extra></extra>",
         "legendgroup": "Other Variants",
         "marker": {
          "color": "#B6E880",
          "size": [
           9
          ],
          "sizemode": "area",
          "sizeref": 0.10875,
          "symbol": "circle"
         },
         "mode": "markers+text",
         "name": "Other Variants",
         "orientation": "v",
         "showlegend": true,
         "text": [
          9
         ],
         "type": "scatter",
         "x": [
          23
         ],
         "xaxis": "x",
         "y": [
          32.5
         ],
         "yaxis": "y"
        },
        {
         "hovertemplate": "Category=Genotype Variants<br>Total Number Assertions=%{x}<br>MOA Total Sum Impact Score=%{y}<br>Total Number Features=%{text}<extra></extra>",
         "legendgroup": "Genotype Variants",
         "marker": {
          "color": "#FF97FF",
          "size": [
           0
          ],
          "sizemode": "area",
          "sizeref": 0.10875,
          "symbol": "circle"
         },
         "mode": "markers+text",
         "name": "Genotype Variants",
         "orientation": "v",
         "showlegend": true,
         "text": [
          0
         ],
         "type": "scatter",
         "x": [
          0
         ],
         "xaxis": "x",
         "y": [
          0
         ],
         "yaxis": "y"
        },
        {
         "hovertemplate": "Category=Region Defined Variants<br>Total Number Assertions=%{x}<br>MOA Total Sum Impact Score=%{y}<br>Total Number Features=%{text}<extra></extra>",
         "legendgroup": "Region Defined Variants",
         "marker": {
          "color": "#FECB52",
          "size": [
           0
          ],
          "sizemode": "area",
          "sizeref": 0.10875,
          "symbol": "circle"
         },
         "mode": "markers+text",
         "name": "Region Defined Variants",
         "orientation": "v",
         "showlegend": true,
         "text": [
          0
         ],
         "type": "scatter",
         "x": [
          0
         ],
         "xaxis": "x",
         "y": [
          0
         ],
         "yaxis": "y"
        },
        {
         "hovertemplate": "Category=Transcript Variants<br>Total Number Assertions=%{x}<br>MOA Total Sum Impact Score=%{y}<br>Total Number Features=%{text}<extra></extra>",
         "legendgroup": "Transcript Variants",
         "marker": {
          "color": "#636efa",
          "size": [
           0
          ],
          "sizemode": "area",
          "sizeref": 0.10875,
          "symbol": "circle"
         },
         "mode": "markers+text",
         "name": "Transcript Variants",
         "orientation": "v",
         "showlegend": true,
         "text": [
          0
         ],
         "type": "scatter",
         "x": [
          0
         ],
         "xaxis": "x",
         "y": [
          0
         ],
         "yaxis": "y"
        }
       ],
       "layout": {
        "legend": {
         "itemsizing": "constant",
         "title": {
          "text": "Category"
         },
         "tracegroupgap": 0
        },
        "margin": {
         "t": 60
        },
        "template": {
         "data": {
          "bar": [
           {
            "error_x": {
             "color": "#2a3f5f"
            },
            "error_y": {
             "color": "#2a3f5f"
            },
            "marker": {
             "line": {
              "color": "#E5ECF6",
              "width": 0.5
             },
             "pattern": {
              "fillmode": "overlay",
              "size": 10,
              "solidity": 0.2
             }
            },
            "type": "bar"
           }
          ],
          "barpolar": [
           {
            "marker": {
             "line": {
              "color": "#E5ECF6",
              "width": 0.5
             },
             "pattern": {
              "fillmode": "overlay",
              "size": 10,
              "solidity": 0.2
             }
            },
            "type": "barpolar"
           }
          ],
          "carpet": [
           {
            "aaxis": {
             "endlinecolor": "#2a3f5f",
             "gridcolor": "white",
             "linecolor": "white",
             "minorgridcolor": "white",
             "startlinecolor": "#2a3f5f"
            },
            "baxis": {
             "endlinecolor": "#2a3f5f",
             "gridcolor": "white",
             "linecolor": "white",
             "minorgridcolor": "white",
             "startlinecolor": "#2a3f5f"
            },
            "type": "carpet"
           }
          ],
          "choropleth": [
           {
            "colorbar": {
             "outlinewidth": 0,
             "ticks": ""
            },
            "type": "choropleth"
           }
          ],
          "contour": [
           {
            "colorbar": {
             "outlinewidth": 0,
             "ticks": ""
            },
            "colorscale": [
             [
              0,
              "#0d0887"
             ],
             [
              0.1111111111111111,
              "#46039f"
             ],
             [
              0.2222222222222222,
              "#7201a8"
             ],
             [
              0.3333333333333333,
              "#9c179e"
             ],
             [
              0.4444444444444444,
              "#bd3786"
             ],
             [
              0.5555555555555556,
              "#d8576b"
             ],
             [
              0.6666666666666666,
              "#ed7953"
             ],
             [
              0.7777777777777778,
              "#fb9f3a"
             ],
             [
              0.8888888888888888,
              "#fdca26"
             ],
             [
              1,
              "#f0f921"
             ]
            ],
            "type": "contour"
           }
          ],
          "contourcarpet": [
           {
            "colorbar": {
             "outlinewidth": 0,
             "ticks": ""
            },
            "type": "contourcarpet"
           }
          ],
          "heatmap": [
           {
            "colorbar": {
             "outlinewidth": 0,
             "ticks": ""
            },
            "colorscale": [
             [
              0,
              "#0d0887"
             ],
             [
              0.1111111111111111,
              "#46039f"
             ],
             [
              0.2222222222222222,
              "#7201a8"
             ],
             [
              0.3333333333333333,
              "#9c179e"
             ],
             [
              0.4444444444444444,
              "#bd3786"
             ],
             [
              0.5555555555555556,
              "#d8576b"
             ],
             [
              0.6666666666666666,
              "#ed7953"
             ],
             [
              0.7777777777777778,
              "#fb9f3a"
             ],
             [
              0.8888888888888888,
              "#fdca26"
             ],
             [
              1,
              "#f0f921"
             ]
            ],
            "type": "heatmap"
           }
          ],
          "heatmapgl": [
           {
            "colorbar": {
             "outlinewidth": 0,
             "ticks": ""
            },
            "colorscale": [
             [
              0,
              "#0d0887"
             ],
             [
              0.1111111111111111,
              "#46039f"
             ],
             [
              0.2222222222222222,
              "#7201a8"
             ],
             [
              0.3333333333333333,
              "#9c179e"
             ],
             [
              0.4444444444444444,
              "#bd3786"
             ],
             [
              0.5555555555555556,
              "#d8576b"
             ],
             [
              0.6666666666666666,
              "#ed7953"
             ],
             [
              0.7777777777777778,
              "#fb9f3a"
             ],
             [
              0.8888888888888888,
              "#fdca26"
             ],
             [
              1,
              "#f0f921"
             ]
            ],
            "type": "heatmapgl"
           }
          ],
          "histogram": [
           {
            "marker": {
             "pattern": {
              "fillmode": "overlay",
              "size": 10,
              "solidity": 0.2
             }
            },
            "type": "histogram"
           }
          ],
          "histogram2d": [
           {
            "colorbar": {
             "outlinewidth": 0,
             "ticks": ""
            },
            "colorscale": [
             [
              0,
              "#0d0887"
             ],
             [
              0.1111111111111111,
              "#46039f"
             ],
             [
              0.2222222222222222,
              "#7201a8"
             ],
             [
              0.3333333333333333,
              "#9c179e"
             ],
             [
              0.4444444444444444,
              "#bd3786"
             ],
             [
              0.5555555555555556,
              "#d8576b"
             ],
             [
              0.6666666666666666,
              "#ed7953"
             ],
             [
              0.7777777777777778,
              "#fb9f3a"
             ],
             [
              0.8888888888888888,
              "#fdca26"
             ],
             [
              1,
              "#f0f921"
             ]
            ],
            "type": "histogram2d"
           }
          ],
          "histogram2dcontour": [
           {
            "colorbar": {
             "outlinewidth": 0,
             "ticks": ""
            },
            "colorscale": [
             [
              0,
              "#0d0887"
             ],
             [
              0.1111111111111111,
              "#46039f"
             ],
             [
              0.2222222222222222,
              "#7201a8"
             ],
             [
              0.3333333333333333,
              "#9c179e"
             ],
             [
              0.4444444444444444,
              "#bd3786"
             ],
             [
              0.5555555555555556,
              "#d8576b"
             ],
             [
              0.6666666666666666,
              "#ed7953"
             ],
             [
              0.7777777777777778,
              "#fb9f3a"
             ],
             [
              0.8888888888888888,
              "#fdca26"
             ],
             [
              1,
              "#f0f921"
             ]
            ],
            "type": "histogram2dcontour"
           }
          ],
          "mesh3d": [
           {
            "colorbar": {
             "outlinewidth": 0,
             "ticks": ""
            },
            "type": "mesh3d"
           }
          ],
          "parcoords": [
           {
            "line": {
             "colorbar": {
              "outlinewidth": 0,
              "ticks": ""
             }
            },
            "type": "parcoords"
           }
          ],
          "pie": [
           {
            "automargin": true,
            "type": "pie"
           }
          ],
          "scatter": [
           {
            "fillpattern": {
             "fillmode": "overlay",
             "size": 10,
             "solidity": 0.2
            },
            "type": "scatter"
           }
          ],
          "scatter3d": [
           {
            "line": {
             "colorbar": {
              "outlinewidth": 0,
              "ticks": ""
             }
            },
            "marker": {
             "colorbar": {
              "outlinewidth": 0,
              "ticks": ""
             }
            },
            "type": "scatter3d"
           }
          ],
          "scattercarpet": [
           {
            "marker": {
             "colorbar": {
              "outlinewidth": 0,
              "ticks": ""
             }
            },
            "type": "scattercarpet"
           }
          ],
          "scattergeo": [
           {
            "marker": {
             "colorbar": {
              "outlinewidth": 0,
              "ticks": ""
             }
            },
            "type": "scattergeo"
           }
          ],
          "scattergl": [
           {
            "marker": {
             "colorbar": {
              "outlinewidth": 0,
              "ticks": ""
             }
            },
            "type": "scattergl"
           }
          ],
          "scattermapbox": [
           {
            "marker": {
             "colorbar": {
              "outlinewidth": 0,
              "ticks": ""
             }
            },
            "type": "scattermapbox"
           }
          ],
          "scatterpolar": [
           {
            "marker": {
             "colorbar": {
              "outlinewidth": 0,
              "ticks": ""
             }
            },
            "type": "scatterpolar"
           }
          ],
          "scatterpolargl": [
           {
            "marker": {
             "colorbar": {
              "outlinewidth": 0,
              "ticks": ""
             }
            },
            "type": "scatterpolargl"
           }
          ],
          "scatterternary": [
           {
            "marker": {
             "colorbar": {
              "outlinewidth": 0,
              "ticks": ""
             }
            },
            "type": "scatterternary"
           }
          ],
          "surface": [
           {
            "colorbar": {
             "outlinewidth": 0,
             "ticks": ""
            },
            "colorscale": [
             [
              0,
              "#0d0887"
             ],
             [
              0.1111111111111111,
              "#46039f"
             ],
             [
              0.2222222222222222,
              "#7201a8"
             ],
             [
              0.3333333333333333,
              "#9c179e"
             ],
             [
              0.4444444444444444,
              "#bd3786"
             ],
             [
              0.5555555555555556,
              "#d8576b"
             ],
             [
              0.6666666666666666,
              "#ed7953"
             ],
             [
              0.7777777777777778,
              "#fb9f3a"
             ],
             [
              0.8888888888888888,
              "#fdca26"
             ],
             [
              1,
              "#f0f921"
             ]
            ],
            "type": "surface"
           }
          ],
          "table": [
           {
            "cells": {
             "fill": {
              "color": "#EBF0F8"
             },
             "line": {
              "color": "white"
             }
            },
            "header": {
             "fill": {
              "color": "#C8D4E3"
             },
             "line": {
              "color": "white"
             }
            },
            "type": "table"
           }
          ]
         },
         "layout": {
          "annotationdefaults": {
           "arrowcolor": "#2a3f5f",
           "arrowhead": 0,
           "arrowwidth": 1
          },
          "autotypenumbers": "strict",
          "coloraxis": {
           "colorbar": {
            "outlinewidth": 0,
            "ticks": ""
           }
          },
          "colorscale": {
           "diverging": [
            [
             0,
             "#8e0152"
            ],
            [
             0.1,
             "#c51b7d"
            ],
            [
             0.2,
             "#de77ae"
            ],
            [
             0.3,
             "#f1b6da"
            ],
            [
             0.4,
             "#fde0ef"
            ],
            [
             0.5,
             "#f7f7f7"
            ],
            [
             0.6,
             "#e6f5d0"
            ],
            [
             0.7,
             "#b8e186"
            ],
            [
             0.8,
             "#7fbc41"
            ],
            [
             0.9,
             "#4d9221"
            ],
            [
             1,
             "#276419"
            ]
           ],
           "sequential": [
            [
             0,
             "#0d0887"
            ],
            [
             0.1111111111111111,
             "#46039f"
            ],
            [
             0.2222222222222222,
             "#7201a8"
            ],
            [
             0.3333333333333333,
             "#9c179e"
            ],
            [
             0.4444444444444444,
             "#bd3786"
            ],
            [
             0.5555555555555556,
             "#d8576b"
            ],
            [
             0.6666666666666666,
             "#ed7953"
            ],
            [
             0.7777777777777778,
             "#fb9f3a"
            ],
            [
             0.8888888888888888,
             "#fdca26"
            ],
            [
             1,
             "#f0f921"
            ]
           ],
           "sequentialminus": [
            [
             0,
             "#0d0887"
            ],
            [
             0.1111111111111111,
             "#46039f"
            ],
            [
             0.2222222222222222,
             "#7201a8"
            ],
            [
             0.3333333333333333,
             "#9c179e"
            ],
            [
             0.4444444444444444,
             "#bd3786"
            ],
            [
             0.5555555555555556,
             "#d8576b"
            ],
            [
             0.6666666666666666,
             "#ed7953"
            ],
            [
             0.7777777777777778,
             "#fb9f3a"
            ],
            [
             0.8888888888888888,
             "#fdca26"
            ],
            [
             1,
             "#f0f921"
            ]
           ]
          },
          "colorway": [
           "#636efa",
           "#EF553B",
           "#00cc96",
           "#ab63fa",
           "#FFA15A",
           "#19d3f3",
           "#FF6692",
           "#B6E880",
           "#FF97FF",
           "#FECB52"
          ],
          "font": {
           "color": "#2a3f5f"
          },
          "geo": {
           "bgcolor": "white",
           "lakecolor": "white",
           "landcolor": "#E5ECF6",
           "showlakes": true,
           "showland": true,
           "subunitcolor": "white"
          },
          "hoverlabel": {
           "align": "left"
          },
          "hovermode": "closest",
          "mapbox": {
           "style": "light"
          },
          "paper_bgcolor": "white",
          "plot_bgcolor": "#E5ECF6",
          "polar": {
           "angularaxis": {
            "gridcolor": "white",
            "linecolor": "white",
            "ticks": ""
           },
           "bgcolor": "#E5ECF6",
           "radialaxis": {
            "gridcolor": "white",
            "linecolor": "white",
            "ticks": ""
           }
          },
          "scene": {
           "xaxis": {
            "backgroundcolor": "#E5ECF6",
            "gridcolor": "white",
            "gridwidth": 2,
            "linecolor": "white",
            "showbackground": true,
            "ticks": "",
            "zerolinecolor": "white"
           },
           "yaxis": {
            "backgroundcolor": "#E5ECF6",
            "gridcolor": "white",
            "gridwidth": 2,
            "linecolor": "white",
            "showbackground": true,
            "ticks": "",
            "zerolinecolor": "white"
           },
           "zaxis": {
            "backgroundcolor": "#E5ECF6",
            "gridcolor": "white",
            "gridwidth": 2,
            "linecolor": "white",
            "showbackground": true,
            "ticks": "",
            "zerolinecolor": "white"
           }
          },
          "shapedefaults": {
           "line": {
            "color": "#2a3f5f"
           }
          },
          "ternary": {
           "aaxis": {
            "gridcolor": "white",
            "linecolor": "white",
            "ticks": ""
           },
           "baxis": {
            "gridcolor": "white",
            "linecolor": "white",
            "ticks": ""
           },
           "bgcolor": "#E5ECF6",
           "caxis": {
            "gridcolor": "white",
            "linecolor": "white",
            "ticks": ""
           }
          },
          "title": {
           "x": 0.05
          },
          "xaxis": {
           "automargin": true,
           "gridcolor": "white",
           "linecolor": "white",
           "ticks": "",
           "title": {
            "standoff": 15
           },
           "zerolinecolor": "white",
           "zerolinewidth": 2
          },
          "yaxis": {
           "automargin": true,
           "gridcolor": "white",
           "linecolor": "white",
           "ticks": "",
           "title": {
            "standoff": 15
           },
           "zerolinecolor": "white",
           "zerolinewidth": 2
          }
         }
        },
        "xaxis": {
         "anchor": "y",
         "domain": [
          0,
          1
         ],
         "title": {
          "text": "Total Number Assertions"
         }
        },
        "yaxis": {
         "anchor": "x",
         "domain": [
          0,
          1
         ],
         "title": {
          "text": "MOA Total Sum Impact Score"
         }
        }
       }
      }
     },
     "metadata": {},
     "output_type": "display_data"
    }
   ],
   "source": [
    "fig2 = px.scatter(\n",
    "    data_frame=not_supported_feature_impact_df,\n",
    "    x=\"Total Number Assertions\",\n",
    "    y=\"MOA Total Sum Impact Score\",\n",
    "    size=\"Total Number Features\",\n",
    "    size_max=40,\n",
    "    text=\"Total Number Features\",\n",
    "    color=\"Category\",\n",
    ")\n",
    "fig2.show()"
   ]
  },
  {
   "cell_type": "code",
   "execution_count": 283,
   "metadata": {},
   "outputs": [],
   "source": [
    "fig2.write_html(\n",
    "    \"moa_assertion_analysis_output/moa_ns_categories_impact_scatterplot.html\"\n",
    ")"
   ]
  }
 ],
 "metadata": {
  "kernelspec": {
   "display_name": "Python 3.10.9 ('.venv': venv)",
   "language": "python",
   "name": "python3"
  },
  "language_info": {
   "codemirror_mode": {
    "name": "ipython",
    "version": 3
   },
   "file_extension": ".py",
   "mimetype": "text/x-python",
   "name": "python",
   "nbconvert_exporter": "python",
   "pygments_lexer": "ipython3",
   "version": "3.10.9"
  },
  "orig_nbformat": 4,
  "vscode": {
   "interpreter": {
    "hash": "60bedfc6dd95a1d756c285a8080496495ec396023cb257f004626f94ae504b38"
   }
  }
 },
 "nbformat": 4,
 "nbformat_minor": 2
}
