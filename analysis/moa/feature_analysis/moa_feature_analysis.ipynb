{
 "cells": [
  {
   "cell_type": "markdown",
   "metadata": {},
   "source": [
    "# Analysis for MOAlmanac data\n",
    "\n",
    "This notebook contains an analysis on MOAlmanac feature (variant) data"
   ]
  },
  {
   "cell_type": "code",
   "execution_count": 1,
   "metadata": {},
   "outputs": [
    {
     "data": {
      "text/plain": [
       "True"
      ]
     },
     "execution_count": 1,
     "metadata": {},
     "output_type": "execute_result"
    }
   ],
   "source": [
    "# Load environment variables. This MUST be the first cell.\n",
    "from dotenv import load_dotenv\n",
    "\n",
    "load_dotenv(\"../../../.env.shared\")"
   ]
  },
  {
   "cell_type": "code",
   "execution_count": 2,
   "metadata": {},
   "outputs": [
    {
     "name": "stderr",
     "output_type": "stream",
     "text": [
      "/Users/kxk102/Documents/git/genomic_med_lab/variation-normalizer-manuscript/.venv/lib/python3.13/site-packages/hgvs/__init__.py:60: UserWarning: pkg_resources is deprecated as an API. See https://setuptools.pypa.io/en/latest/pkg_resources.html. The pkg_resources package is slated for removal as early as 2025-11-30. Refrain from using this package or pin to Setuptools<81.\n",
      "  import pkg_resources\n"
     ]
    }
   ],
   "source": [
    "import csv\n",
    "import json  # noqa: F401\n",
    "import logging\n",
    "import os\n",
    "import re\n",
    "import sys\n",
    "import zipfile  # noqa: F401\n",
    "from typing import Dict, Tuple, Optional\n",
    "\n",
    "import requests  # noqa: F401\n",
    "from datetime import datetime  # noqa: F401\n",
    "from variation.query import QueryHandler\n",
    "\n",
    "module_path = os.path.abspath(os.path.join(\"../..\"))\n",
    "if module_path not in sys.path:\n",
    "    sys.path.append(module_path)\n",
    "\n",
    "from utils import NotSupportedVariantCategory, MoaItemType, load_latest_moa_zip  # noqa: E402\n",
    "\n",
    "\n",
    "log_filename = \"moa-feature-analysis.log\"\n",
    "logging.basicConfig(\n",
    "    filename=log_filename,\n",
    "    format=\"[%(asctime)s] - %(name)s - %(levelname)s : %(message)s\",\n",
    ")"
   ]
  },
  {
   "cell_type": "code",
   "execution_count": 3,
   "metadata": {},
   "outputs": [
    {
     "name": "stdout",
     "output_type": "stream",
     "text": [
      "***Using Gene Database Endpoint: http://localhost:8000***\n"
     ]
    }
   ],
   "source": [
    "query_handler = QueryHandler()"
   ]
  },
  {
   "cell_type": "code",
   "execution_count": 4,
   "metadata": {},
   "outputs": [],
   "source": [
    "# # Uncomment to get latest moa data and comment out the next cell\n",
    "# for k in [\"features\", \"assertions\"]:\n",
    "#     r = requests.get(f\"https://moalmanac.org/api/{k}\")\n",
    "#     variants_resp = r.json()\n",
    "#     date = datetime.today().strftime(\"%Y%m%d\")\n",
    "#     fn = f\"moa_{k}_{date}.json\"\n",
    "#     with zipfile.ZipFile(f\"{fn}.zip\", \"w\") as zf:\n",
    "#         with open(f\"moa_{k}_{date}.json\", \"w+\") as wf:\n",
    "#             wf.write(json.dumps(variants_resp, indent=4))\n",
    "#         zf.write(f\"moa_{k}_{date}.json\")"
   ]
  },
  {
   "cell_type": "code",
   "execution_count": 5,
   "metadata": {},
   "outputs": [
    {
     "name": "stdout",
     "output_type": "stream",
     "text": [
      "Using moa_features_20250717.json for MOA features\n"
     ]
    }
   ],
   "source": [
    "# Use latest zip that has been pushed to the repo\n",
    "variants_resp = load_latest_moa_zip(MoaItemType.FEATURE)"
   ]
  },
  {
   "cell_type": "code",
   "execution_count": 6,
   "metadata": {},
   "outputs": [],
   "source": [
    "# Map MOA Feature Type to Categories\n",
    "MOA_FT_TO_VARIANT_CATEGORIES = {\n",
    "    \"rearrangement\": NotSupportedVariantCategory.REARRANGEMENT,\n",
    "    \"copy_number\": NotSupportedVariantCategory.COPY_NUMBER,\n",
    "    \"microsatellite_stability\": NotSupportedVariantCategory.OTHER,\n",
    "    \"mutational_signature\": NotSupportedVariantCategory.OTHER,\n",
    "    \"mutational_burden\": NotSupportedVariantCategory.OTHER,\n",
    "    \"neoantigen_burden\": NotSupportedVariantCategory.OTHER,\n",
    "    \"knockdown\": NotSupportedVariantCategory.EXPRESSION,\n",
    "    \"silencing\": NotSupportedVariantCategory.EXPRESSION,\n",
    "    \"aneuploidy\": NotSupportedVariantCategory.COPY_NUMBER,\n",
    "}"
   ]
  },
  {
   "cell_type": "markdown",
   "metadata": {},
   "source": [
    "Create functions to be used later"
   ]
  },
  {
   "cell_type": "code",
   "execution_count": 7,
   "metadata": {},
   "outputs": [],
   "source": [
    "def get_feature(variant_record: Dict, feature_type: str) -> Tuple[Optional[str], bool]:\n",
    "    \"\"\"Get feature label to be used in the variation-normalizer and whether or not its\n",
    "    supported by the variation-normalizer\n",
    "\n",
    "    :param variant_record: MOA variant\n",
    "    :param feature_type: MOA feature type for `variant_record`\n",
    "    :return: Tuple containing the feature label and whether or not its supported by the\n",
    "        variation-normalizer\n",
    "    \"\"\"\n",
    "    supported = False\n",
    "    feature = None\n",
    "\n",
    "    if feature_type == \"rearrangement\":\n",
    "        gene1 = variant_record[\"gene1\"] if variant_record.get(\"gene1\") else \"\"\n",
    "        gene2 = f\"--{variant_record['gene2']}\" if variant_record.get(\"gene2\") else \"\"\n",
    "        locus = f\" {variant_record['locus']}\" if variant_record.get(\"locus\") else \"\"\n",
    "        rearrangement_type = (\n",
    "            f\" {variant_record['rearrangement_type']}\"\n",
    "            if variant_record.get(\"rearrangement_type\")\n",
    "            else \"\"\n",
    "        )\n",
    "        feature = f\"{gene1}{gene2}{locus}{rearrangement_type}\"\n",
    "    elif feature_type in {\"somatic_variant\", \"germline_variant\"}:\n",
    "        gene = variant_record[\"gene\"] if variant_record.get(\"gene\") else \"\"\n",
    "        protein_change = (\n",
    "            f\" {variant_record['protein_change']}\"\n",
    "            if variant_record.get(\"protein_change\")\n",
    "            else \"\"\n",
    "        )\n",
    "        feature = f\"{gene}{protein_change}\"\n",
    "        supported = True\n",
    "    elif feature_type == \"copy_number\":\n",
    "        # These are all {gene} Amplification|Deletion\n",
    "        feature = f\"{variant_record['gene']} {variant_record['direction']}\"\n",
    "        if variant_record[\"direction\"] == \"Amplification\":\n",
    "            supported = True\n",
    "    elif feature_type == \"microsatellite_stability\":\n",
    "        # The only one is MSI-High\n",
    "        feature = str(variant_record.get(\"status\"))\n",
    "    elif feature_type == \"mutational_signature\":\n",
    "        cs = variant_record[\"cosmic_signature\"]\n",
    "        feature = f\"COSMIC Signature {cs}\"\n",
    "    elif feature_type == \"mutational_burden\":\n",
    "        clss = variant_record[\"classification\"]\n",
    "        min_mut = variant_record[\"minimum_mutations\"]\n",
    "        mut_per_mb = variant_record[\"mutations_per_mb\"]\n",
    "        muts = (\n",
    "            f\" (>= {min_mut} mutations)\"\n",
    "            if min_mut\n",
    "            else (f\" (>= {mut_per_mb} mutations/Mb)\" if mut_per_mb else \"\")\n",
    "        )\n",
    "        feature = f\"{clss}{muts}\"\n",
    "    elif feature_type == \"neoantigen_burden\":\n",
    "        # Doesn't seem like there are any of these\n",
    "        feature = str(variant_record[\"classification\"])\n",
    "    elif feature_type == \"knockdown\" or feature_type == \"silencing\":\n",
    "        gene = variant_record[\"gene\"]\n",
    "        technique = (\n",
    "            f\" ({variant_record['technique']})\" if variant_record[\"technique\"] else \"\"\n",
    "        )\n",
    "        feature = f\"{gene}{technique}\"\n",
    "    elif feature_type == \"aneuploidy\":\n",
    "        # The only one is Whole genome doubling\n",
    "        feature = str(variant_record[\"event\"])\n",
    "\n",
    "    return feature, supported\n",
    "\n",
    "\n",
    "def get_category(\n",
    "    feature_type: str,\n",
    "    variant_record: Dict,\n",
    ") -> NotSupportedVariantCategory:\n",
    "    \"\"\"Get category name for MOA feature\n",
    "\n",
    "    :param feature_type: MOA feature type for `variant_record`\n",
    "    :param variant_record: MOA variant\n",
    "    :return: Category for MOA feature\n",
    "    \"\"\"\n",
    "    if feature_type in {\"somatic_variant\", \"germline_variant\"}:\n",
    "        variant_annotation = variant_record.get(\"variant_annotation\")\n",
    "\n",
    "        if not variant_annotation:\n",
    "            category_name = NotSupportedVariantCategory.REGION_DEFINED\n",
    "        elif variant_annotation in {\n",
    "            \"Nonsense\",\n",
    "            \"Oncogenic Mutations\",\n",
    "            \"Activating mutation\",\n",
    "        }:\n",
    "            category_name = NotSupportedVariantCategory.GENE_FUNCTION\n",
    "        elif variant_annotation in {\"Frameshift\", \"Insertion\", \"Missense\"}:\n",
    "            category_name = NotSupportedVariantCategory.SEQUENCE\n",
    "        elif variant_annotation == \"Splice Site\":\n",
    "            category_name = NotSupportedVariantCategory.OTHER\n",
    "        elif variant_annotation == \"Deletion\":\n",
    "            if variant_record.get(\"exon\"):\n",
    "                category_name = NotSupportedVariantCategory.SEQUENCE\n",
    "            else:\n",
    "                category_name = NotSupportedVariantCategory.GENE_FUNCTION\n",
    "        else:\n",
    "            raise NotImplementedError(\n",
    "                f\"{variant_annotation} does not map to a variant category\"\n",
    "            )\n",
    "    else:\n",
    "        category_name = MOA_FT_TO_VARIANT_CATEGORIES[feature_type]\n",
    "\n",
    "    return category_name"
   ]
  },
  {
   "cell_type": "markdown",
   "metadata": {},
   "source": [
    "Create files"
   ]
  },
  {
   "cell_type": "code",
   "execution_count": 8,
   "metadata": {},
   "outputs": [
    {
     "data": {
      "text/plain": [
       "51"
      ]
     },
     "execution_count": 8,
     "metadata": {},
     "output_type": "execute_result"
    }
   ],
   "source": [
    "# This file contains MOA Variants where there are no queries available.\n",
    "no_query_wf = open(\"no_query.tsv\", \"w\")\n",
    "no_query_wr = csv.writer(no_query_wf, delimiter=\"\\t\")\n",
    "no_query_wr.writerow([\"variant_id\", \"feature\"])\n",
    "\n",
    "# This file contains all queries we SHOULD be able to normalize\n",
    "all_queries_wf = open(\"should_be_able_to_normalize_queries.tsv\", \"w\")\n",
    "all_queries_wr = csv.writer(all_queries_wf, delimiter=\"\\t\")\n",
    "all_queries_wr.writerow([\"variant_id\", \"query\", \"moa_feature_type\", \"category\"])\n",
    "\n",
    "# This file contains MOAlmanac Variants we do not currently support in Variation Normalizer.\n",
    "# In these cases, we do not even attempt to try to normalize\n",
    "not_supported_wf = open(\"not_supported_variants.tsv\", \"w\")\n",
    "not_supported_wr = csv.writer(not_supported_wf, delimiter=\"\\t\")\n",
    "not_supported_wr.writerow([\"variant_id\", \"query\", \"moa_feature_type\", \"category\"])\n",
    "\n",
    "# This file contains MOAlmanac Variant queries that were run through the Variation Normalizer,\n",
    "# but failed to normalize.\n",
    "unable_to_normalize_wf = open(\"unable_to_normalize_queries.tsv\", \"w\")\n",
    "unable_to_normalize_wr = csv.writer(unable_to_normalize_wf, delimiter=\"\\t\")\n",
    "unable_to_normalize_wr.writerow(\n",
    "    [\n",
    "        \"variant_id\",\n",
    "        \"query\",\n",
    "        \"moa_feature_type\",\n",
    "        \"category\",\n",
    "        \"exception_raised\",\n",
    "        \"message\",\n",
    "        \"warnings\",\n",
    "    ]\n",
    ")\n",
    "\n",
    "# This file contains MOAlmanac Variant queries that were run through the Variation Normalizer,\n",
    "# and successfully normalized\n",
    "able_to_normalize_wf = open(\"able_to_normalize_queries.tsv\", \"w\")\n",
    "able_to_normalize_wr = csv.writer(able_to_normalize_wf, delimiter=\"\\t\")\n",
    "able_to_normalize_wr.writerow(\n",
    "    [\"variant_id\", \"query\", \"moa_feature_type\", \"category\", \"vrs_id\"]\n",
    ")"
   ]
  },
  {
   "cell_type": "markdown",
   "metadata": {},
   "source": [
    "Create variables to store information, such as counts, that will be used later"
   ]
  },
  {
   "cell_type": "code",
   "execution_count": 9,
   "metadata": {},
   "outputs": [],
   "source": [
    "# Category name for variants we do not support: number of variants we found\n",
    "not_supported_feature_counts = {c: 0 for c in NotSupportedVariantCategory.__members__}\n",
    "\n",
    "# Keep track of total counts\n",
    "total_variants = 0\n",
    "no_query_total = 0\n",
    "should_be_able_to_normalize_total = 0\n",
    "can_normalize_total = 0\n",
    "unable_to_normalize_total = 0\n",
    "exception_total = 0"
   ]
  },
  {
   "cell_type": "code",
   "execution_count": 10,
   "metadata": {},
   "outputs": [],
   "source": [
    "for v in variants_resp:\n",
    "    total_variants += 1\n",
    "    variant_id = v[\"feature_id\"]\n",
    "    variant_record = {\"id\": variant_id}\n",
    "    variant_record.update(v[\"attributes\"][0])\n",
    "\n",
    "    feature_type = variant_record[\"feature_type\"]\n",
    "    feature, supported = get_feature(variant_record, feature_type)\n",
    "\n",
    "    if not feature:\n",
    "        no_query_total += 1\n",
    "        no_query_wr.writerow([variant_id, v])\n",
    "        continue\n",
    "\n",
    "    category_name = None\n",
    "    if any(\n",
    "        (\n",
    "            re.match(r\".+fs\\*\\d+$\", feature, re.IGNORECASE),\n",
    "            re.match(r\".+\\d+$\", feature, re.IGNORECASE),\n",
    "        )\n",
    "    ):\n",
    "        supported = False\n",
    "        category_name = NotSupportedVariantCategory.SEQUENCE\n",
    "\n",
    "    if not category_name:\n",
    "        category_name = get_category(feature_type, variant_record)\n",
    "\n",
    "    if not supported or len(feature.split()) == 1:\n",
    "        not_supported_feature_counts[category_name.name] += 1\n",
    "        not_supported_wr.writerow([variant_id, feature, feature_type, category_name])\n",
    "        continue\n",
    "\n",
    "    should_be_able_to_normalize_total += 1\n",
    "    all_queries_wr.writerow([variant_id, feature, feature_type, category_name])\n",
    "\n",
    "    try:\n",
    "        variation_norm_resp = await query_handler.normalize_handler.normalize(feature)\n",
    "        if not variation_norm_resp.variation:\n",
    "            unable_to_normalize_wr.writerow(\n",
    "                [\n",
    "                    variant_id,\n",
    "                    feature,\n",
    "                    feature_type,\n",
    "                    category_name,\n",
    "                    False,\n",
    "                    \"unable to normalize\",\n",
    "                    variation_norm_resp.warnings,\n",
    "                ]\n",
    "            )\n",
    "            unable_to_normalize_total += 1\n",
    "        else:\n",
    "            can_normalize_total += 1\n",
    "            vrs_id = variation_norm_resp.variation.id\n",
    "            able_to_normalize_wr.writerow(\n",
    "                [variant_id, feature, feature_type, category_name, vrs_id]\n",
    "            )\n",
    "    except Exception as e:\n",
    "        unable_to_normalize_wr.writerow(\n",
    "            [variant_id, feature, feature_type, category_name, True, str(e), None]\n",
    "        )\n",
    "        exception_total += 1"
   ]
  },
  {
   "cell_type": "code",
   "execution_count": 11,
   "metadata": {},
   "outputs": [],
   "source": [
    "# Close files\n",
    "no_query_wf.close()\n",
    "all_queries_wf.close()\n",
    "not_supported_wf.close()\n",
    "unable_to_normalize_wf.close()\n",
    "able_to_normalize_wf.close()"
   ]
  },
  {
   "cell_type": "code",
   "execution_count": 12,
   "metadata": {},
   "outputs": [
    {
     "data": {
      "text/plain": [
       "'Total number of variants in MOAlmanac: 452'"
      ]
     },
     "execution_count": 12,
     "metadata": {},
     "output_type": "execute_result"
    }
   ],
   "source": [
    "f\"Total number of variants in MOAlmanac: {total_variants}\""
   ]
  },
  {
   "attachments": {},
   "cell_type": "markdown",
   "metadata": {},
   "source": [
    "# Variants that we could not find queries for"
   ]
  },
  {
   "cell_type": "code",
   "execution_count": 13,
   "metadata": {},
   "outputs": [
    {
     "data": {
      "text/plain": [
       "0"
      ]
     },
     "execution_count": 13,
     "metadata": {},
     "output_type": "execute_result"
    }
   ],
   "source": [
    "no_query_total"
   ]
  },
  {
   "cell_type": "code",
   "execution_count": 14,
   "metadata": {},
   "outputs": [
    {
     "data": {
      "text/plain": [
       "'0.00% of the total features had no queries'"
      ]
     },
     "execution_count": 14,
     "metadata": {},
     "output_type": "execute_result"
    }
   ],
   "source": [
    "f\"{no_query_total / total_variants * 100:.2f}% of the total features had no queries\""
   ]
  },
  {
   "attachments": {},
   "cell_type": "markdown",
   "metadata": {},
   "source": [
    "# Variants we do not support"
   ]
  },
  {
   "cell_type": "code",
   "execution_count": 15,
   "metadata": {},
   "outputs": [
    {
     "data": {
      "text/plain": [
       "'Total number of variants we do not support in the Variation Normalizer: 256'"
      ]
     },
     "execution_count": 15,
     "metadata": {},
     "output_type": "execute_result"
    }
   ],
   "source": [
    "do_not_support_total_sum = sum(not_supported_feature_counts.values())\n",
    "f\"Total number of variants we do not support in the Variation Normalizer: {do_not_support_total_sum}\""
   ]
  },
  {
   "cell_type": "code",
   "execution_count": 16,
   "metadata": {},
   "outputs": [
    {
     "data": {
      "text/plain": [
       "'The Variation Normalizer does not support 56.64% of the total variants'"
      ]
     },
     "execution_count": 16,
     "metadata": {},
     "output_type": "execute_result"
    }
   ],
   "source": [
    "f\"The Variation Normalizer does not support {do_not_support_total_sum / total_variants * 100:.2f}% of the total variants\""
   ]
  },
  {
   "attachments": {},
   "cell_type": "markdown",
   "metadata": {},
   "source": [
    "Below are the total number of variants for each MOA Feature Type that we do not support"
   ]
  },
  {
   "cell_type": "code",
   "execution_count": 17,
   "metadata": {},
   "outputs": [
    {
     "data": {
      "text/plain": [
       "{'SEQUENCE': 127,\n",
       " 'REGION_DEFINED': 40,\n",
       " 'REARRANGEMENT': 35,\n",
       " 'COPY_NUMBER': 23,\n",
       " 'OTHER': 12,\n",
       " 'EXPRESSION': 11,\n",
       " 'GENE_FUNCTION': 8,\n",
       " 'GENOTYPE_AND_HAPLOTYPE': 0,\n",
       " 'FUSION': 0,\n",
       " 'EPIGENETIC_MODIFICATION': 0,\n",
       " 'GENOME_FEATURE': 0,\n",
       " 'TRANSCRIPT': 0}"
      ]
     },
     "execution_count": 17,
     "metadata": {},
     "output_type": "execute_result"
    }
   ],
   "source": [
    "sorted_not_sup_counts = dict(\n",
    "    sorted(not_supported_feature_counts.items(), key=lambda x: x[1], reverse=True)\n",
    ")\n",
    "sorted_not_sup_counts"
   ]
  },
  {
   "attachments": {},
   "cell_type": "markdown",
   "metadata": {},
   "source": [
    "Below is the total percentage of variants for each MOA Feature Type that we do not support"
   ]
  },
  {
   "cell_type": "code",
   "execution_count": 18,
   "metadata": {},
   "outputs": [
    {
     "data": {
      "text/plain": [
       "{'SEQUENCE': '28.10%',\n",
       " 'REGION_DEFINED': '8.85%',\n",
       " 'REARRANGEMENT': '7.74%',\n",
       " 'COPY_NUMBER': '5.09%',\n",
       " 'OTHER': '2.65%',\n",
       " 'EXPRESSION': '2.43%',\n",
       " 'GENE_FUNCTION': '1.77%',\n",
       " 'GENOTYPE_AND_HAPLOTYPE': '0.00%',\n",
       " 'FUSION': '0.00%',\n",
       " 'EPIGENETIC_MODIFICATION': '0.00%',\n",
       " 'GENOME_FEATURE': '0.00%',\n",
       " 'TRANSCRIPT': '0.00%'}"
      ]
     },
     "execution_count": 18,
     "metadata": {},
     "output_type": "execute_result"
    }
   ],
   "source": [
    "{k: f\"{v / total_variants * 100:.2f}%\" for k, v in sorted_not_sup_counts.items()}"
   ]
  },
  {
   "attachments": {},
   "cell_type": "markdown",
   "metadata": {},
   "source": [
    "# Variants we should be able to normalize"
   ]
  },
  {
   "cell_type": "code",
   "execution_count": 19,
   "metadata": {},
   "outputs": [
    {
     "data": {
      "text/plain": [
       "196"
      ]
     },
     "execution_count": 19,
     "metadata": {},
     "output_type": "execute_result"
    }
   ],
   "source": [
    "should_be_able_to_normalize_total"
   ]
  },
  {
   "cell_type": "code",
   "execution_count": 20,
   "metadata": {},
   "outputs": [
    {
     "data": {
      "text/plain": [
       "'The Variation Normalizer SHOULD be able to normalize 43.36% of the total variants'"
      ]
     },
     "execution_count": 20,
     "metadata": {},
     "output_type": "execute_result"
    }
   ],
   "source": [
    "f\"The Variation Normalizer SHOULD be able to normalize {should_be_able_to_normalize_total / total_variants * 100:.2f}% of the total variants\""
   ]
  },
  {
   "attachments": {},
   "cell_type": "markdown",
   "metadata": {},
   "source": [
    "# Variants we were not able to normalize\n",
    "\n",
    "Either due to a bug or an unsupported query type in Variation Normalizer"
   ]
  },
  {
   "cell_type": "code",
   "execution_count": 21,
   "metadata": {},
   "outputs": [
    {
     "data": {
      "text/plain": [
       "0"
      ]
     },
     "execution_count": 21,
     "metadata": {},
     "output_type": "execute_result"
    }
   ],
   "source": [
    "unable_to_normalize_total"
   ]
  },
  {
   "cell_type": "code",
   "execution_count": 22,
   "metadata": {},
   "outputs": [
    {
     "data": {
      "text/plain": [
       "'The Variation Normalizer was unable to normalize 0.0% of the total variants'"
      ]
     },
     "execution_count": 22,
     "metadata": {},
     "output_type": "execute_result"
    }
   ],
   "source": [
    "f\"The Variation Normalizer was unable to normalize {unable_to_normalize_total / total_variants * 100}% of the total variants\""
   ]
  },
  {
   "attachments": {},
   "cell_type": "markdown",
   "metadata": {},
   "source": [
    "## Breakdown of the variants we weren't able to normalize\n",
    "\n",
    "In this section, we breakdown the reasons on why we weren't able to normalize variants."
   ]
  },
  {
   "cell_type": "code",
   "execution_count": 23,
   "metadata": {},
   "outputs": [],
   "source": [
    "unable_to_tokenize = 0\n",
    "unable_to_find_valid = 0\n",
    "other = 0\n",
    "with open(\"unable_to_normalize_queries.tsv\", \"r\") as f:\n",
    "    reader = csv.reader(f, delimiter=\"\\t\")\n",
    "    next(reader)\n",
    "    for row in reader:\n",
    "        if \"Unable to find valid result\" in row[-1]:\n",
    "            unable_to_find_valid += 1\n",
    "        elif \"Unable to tokenize\" in row[-1]:\n",
    "            unable_to_tokenize += 1\n",
    "        else:\n",
    "            other += 1"
   ]
  },
  {
   "attachments": {},
   "cell_type": "markdown",
   "metadata": {},
   "source": [
    "### Due to not passing validation checks\n",
    "\n",
    "The Variation Normalizer performs validation checks on the input query (such as reference sequence). If these validation checks fail, then the input query will fail to normalize."
   ]
  },
  {
   "cell_type": "code",
   "execution_count": 24,
   "metadata": {},
   "outputs": [
    {
     "data": {
      "text/plain": [
       "'The Variation Normalizer found 0 invalid variants (This is 0.00% of the total variants).'"
      ]
     },
     "execution_count": 24,
     "metadata": {},
     "output_type": "execute_result"
    }
   ],
   "source": [
    "f\"The Variation Normalizer found {unable_to_find_valid} invalid variants (This is {unable_to_find_valid / total_variants * 100:.2f}% of the total variants).\""
   ]
  },
  {
   "attachments": {},
   "cell_type": "markdown",
   "metadata": {},
   "source": [
    "### Due to tokenization \n",
    "\n",
    "The Variation Normalizer will tokenize the input query to determine the kind of token. It is limited in the kinds of tokens it accepts, so these tokens are not yet supported in the Variation Normalizer. "
   ]
  },
  {
   "cell_type": "code",
   "execution_count": 25,
   "metadata": {},
   "outputs": [
    {
     "data": {
      "text/plain": [
       "'The Variation Normalizer was unable to tokenize 0 variants (0.00% of the total variants).'"
      ]
     },
     "execution_count": 25,
     "metadata": {},
     "output_type": "execute_result"
    }
   ],
   "source": [
    "f\"The Variation Normalizer was unable to tokenize {unable_to_tokenize} variants ({unable_to_tokenize / total_variants * 100:.2f}% of the total variants).\""
   ]
  },
  {
   "cell_type": "code",
   "execution_count": 26,
   "metadata": {},
   "outputs": [
    {
     "data": {
      "text/plain": [
       "'The Variation Normalizer was unable to normalize 0 variants due to other issues (This is 0.00% of the total variants).'"
      ]
     },
     "execution_count": 26,
     "metadata": {},
     "output_type": "execute_result"
    }
   ],
   "source": [
    "f\"The Variation Normalizer was unable to normalize {other} variants due to other issues (This is {other / total_variants * 100:.2f}% of the total variants).\""
   ]
  },
  {
   "attachments": {},
   "cell_type": "markdown",
   "metadata": {},
   "source": [
    "## Variant queries that raised an exception during normalization"
   ]
  },
  {
   "cell_type": "code",
   "execution_count": 27,
   "metadata": {},
   "outputs": [
    {
     "data": {
      "text/plain": [
       "'The Variation Normalizer raised an exception for 0.00% of the total variants'"
      ]
     },
     "execution_count": 27,
     "metadata": {},
     "output_type": "execute_result"
    }
   ],
   "source": [
    "f\"The Variation Normalizer raised an exception for {exception_total / total_variants * 100:.2f}% of the total variants\""
   ]
  },
  {
   "attachments": {},
   "cell_type": "markdown",
   "metadata": {},
   "source": [
    "# Variants we were able to normalize"
   ]
  },
  {
   "cell_type": "code",
   "execution_count": 28,
   "metadata": {},
   "outputs": [
    {
     "data": {
      "text/plain": [
       "196"
      ]
     },
     "execution_count": 28,
     "metadata": {},
     "output_type": "execute_result"
    }
   ],
   "source": [
    "can_normalize_total"
   ]
  },
  {
   "cell_type": "code",
   "execution_count": 29,
   "metadata": {},
   "outputs": [
    {
     "data": {
      "text/plain": [
       "'The Variation Normalizer successfully normalized 100.00% of the variants we SHOULD be able to normalize'"
      ]
     },
     "execution_count": 29,
     "metadata": {},
     "output_type": "execute_result"
    }
   ],
   "source": [
    "f\"The Variation Normalizer successfully normalized {can_normalize_total / should_be_able_to_normalize_total * 100:.2f}% of the variants we SHOULD be able to normalize\""
   ]
  },
  {
   "cell_type": "code",
   "execution_count": 30,
   "metadata": {},
   "outputs": [
    {
     "data": {
      "text/plain": [
       "'The Variation Normalizer successfully normalized 43.36% of the total variants'"
      ]
     },
     "execution_count": 30,
     "metadata": {},
     "output_type": "execute_result"
    }
   ],
   "source": [
    "f\"The Variation Normalizer successfully normalized {can_normalize_total / total_variants * 100:.2f}% of the total variants\""
   ]
  }
 ],
 "metadata": {
  "kernelspec": {
   "display_name": "variation-normalizer-manuscript (3.13.5)",
   "language": "python",
   "name": "python3"
  },
  "language_info": {
   "codemirror_mode": {
    "name": "ipython",
    "version": 3
   },
   "file_extension": ".py",
   "mimetype": "text/x-python",
   "name": "python",
   "nbconvert_exporter": "python",
   "pygments_lexer": "ipython3",
   "version": "3.13.5"
  },
  "orig_nbformat": 4
 },
 "nbformat": 4,
 "nbformat_minor": 2
}
