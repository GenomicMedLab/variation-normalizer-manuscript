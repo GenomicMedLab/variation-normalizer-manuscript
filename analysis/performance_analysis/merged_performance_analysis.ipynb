{
 "cells": [
  {
   "cell_type": "markdown",
   "metadata": {},
   "source": [
    "# Normalizer Performance Analysis\n",
    "\n",
    "This notebook contains an analysis of the normalizer performance on the CIViC, MOA, and Clinvar data"
   ]
  },
  {
   "cell_type": "markdown",
   "metadata": {},
   "source": [
    "## Import relevant packages"
   ]
  },
  {
   "cell_type": "code",
   "execution_count": 1,
   "metadata": {},
   "outputs": [],
   "source": [
    "from pathlib import Path\n",
    "import pandas as pd\n",
    "# from civicpy import civic as civicpy\n",
    "# import plotly.express as px\n",
    "import ndjson\n",
    "import re\n",
    "from dotenv import load_dotenv\n",
    "import os"
   ]
  },
  {
   "cell_type": "markdown",
   "metadata": {},
   "source": [
    "## Dictionaries to map variants to categories and record category counts"
   ]
  },
  {
   "cell_type": "code",
   "execution_count": 2,
   "metadata": {},
   "outputs": [],
   "source": [
    "civic_category_bins = {\n",
    "    \"Sequence Variants\": \"Sequence Variants\",\n",
    "    \"Copy Number Variants\": \"Copy Number Variants\"\n",
    "}\n",
    "\n",
    "\n",
    "\n",
    "moa_category_bins = {\n",
    "    \"Sequence Variants\": \"Sequence Variants\",\n",
    "    \"Copy Number Variants\": \"Copy Number Variants\",\n",
    "    \"Rearrangement Variants\": \"Rearrangement Variants\",\n",
    "    \"Expression Variants\": \"Expression Variants\",\n",
    "    \"Other Variants\": \"Other Variants\"\n",
    "}\n",
    "\n",
    "# the values in this dictionary are lists of 4 integer values:\n",
    "# [nomalized_count, unable_to_normalize_count, unsupported_count, total_count]\n",
    "nomalized_count = 0\n",
    "unable_to_normalize_count = 1\n",
    "unsupported_count = 2\n",
    "total_count = 3\n",
    "\n",
    "category_counts = {\n",
    "    \"Copy Number Variants\":[0,0,0,0],\n",
    "    \"Expression Variants\":[0,0,0,0],\n",
    "    \"Other Variants\": [0,0,0,0],\n",
    "    \"Rearrangement Variants\":[0,0,0,0],\n",
    "    \"Sequence Variants\":[0,0,0,0]\n",
    "}"
   ]
  },
  {
   "cell_type": "markdown",
   "metadata": {},
   "source": [
    "## CIViC\n",
    "\n"
   ]
  },
  {
   "cell_type": "markdown",
   "metadata": {},
   "source": [
    "Read in .csv of normalized variants in CIVIC"
   ]
  },
  {
   "cell_type": "code",
   "execution_count": 11,
   "metadata": {},
   "outputs": [
    {
     "name": "stdout",
     "output_type": "stream",
     "text": [
      "(1876, 7)\n"
     ]
    },
    {
     "data": {
      "text/plain": [
       "pandas.core.frame.DataFrame"
      ]
     },
     "execution_count": 11,
     "metadata": {},
     "output_type": "execute_result"
    }
   ],
   "source": [
    "civic_normalized_df = pd.read_csv(\"../civic/variation_analysis/able_to_normalize_queries.csv\",sep = \"\\t\")\n",
    "print(civic_normalized_df.shape)\n",
    "civic_normalized_df.head()\n",
    "type(civic_normalized_df)"
   ]
  },
  {
   "cell_type": "markdown",
   "metadata": {},
   "source": [
    "Trim columns and add new column to flag as normalized."
   ]
  },
  {
   "cell_type": "code",
   "execution_count": null,
   "metadata": {},
   "outputs": [],
   "source": []
  },
  {
   "cell_type": "code",
   "execution_count": null,
   "metadata": {},
   "outputs": [],
   "source": [
    "os.path.realpath(\"merged_performance_analysis.ipynb\")\n",
    "os.chdir('/Users/dpp002/Documents/Variant Normalizer Manuscript/variation-normalizer-manuscript-1/analysis')\n",
    "print(\"Current working directory: {0}\".format(os.getcwd()))\n",
    "for entry in os.scandir('.'):\n",
    "    if entry.is_file():\n",
    "        print(entry.name)"
   ]
  },
  {
   "cell_type": "code",
   "execution_count": null,
   "metadata": {},
   "outputs": [],
   "source": [
    "os.chdir('/Users/dpp002/Documents/Variant Normalizer Manuscript/variation-normalizer-manuscript-1/analysis/civic/variation_analysis')\n",
    "print(\"Current working directory: {0}\".format(os.getcwd()))\n",
    "\n",
    "for entry in os.scandir('.'):\n",
    "    if entry.is_file():\n",
    "        print(entry.name)"
   ]
  },
  {
   "cell_type": "markdown",
   "metadata": {},
   "source": [
    "Add category column to CIViC df."
   ]
  },
  {
   "cell_type": "code",
   "execution_count": null,
   "metadata": {},
   "outputs": [],
   "source": []
  },
  {
   "cell_type": "markdown",
   "metadata": {},
   "source": [
    "Bin variants to categories.\n",
    "\n",
    "For variants with multiple associated types:  If the 2+ types have a subset relationship (eg frameshift; frameshift truncation), reassign with the superset type (frameshift).  If the types are disjoint (eg: Trancript Variant; Loss of Function Variant), reassign with the type most closely  associated with the assayed data (Transcript Variant)."
   ]
  },
  {
   "cell_type": "markdown",
   "metadata": {},
   "source": [
    "\n",
    "For variants without an associated type (approximately 1,632 entries) use regexes to assign types where possible."
   ]
  },
  {
   "cell_type": "markdown",
   "metadata": {},
   "source": [
    "Finally, assign variants to category bins based on type."
   ]
  },
  {
   "cell_type": "markdown",
   "metadata": {},
   "source": [
    "Split df by normalized/not_normalized/not_supported flags"
   ]
  },
  {
   "cell_type": "markdown",
   "metadata": {},
   "source": [
    "For each df, Get CIViC Variant counts by category and add to counts dictionary"
   ]
  },
  {
   "cell_type": "markdown",
   "metadata": {},
   "source": [
    "## MOA\n",
    "\n",
    "Read MOA .csv file for Normalized variants"
   ]
  },
  {
   "cell_type": "code",
   "execution_count": 3,
   "metadata": {},
   "outputs": [
    {
     "name": "stdout",
     "output_type": "stream",
     "text": [
      "(181, 5)\n"
     ]
    },
    {
     "data": {
      "text/plain": [
       "pandas.core.frame.DataFrame"
      ]
     },
     "execution_count": 3,
     "metadata": {},
     "output_type": "execute_result"
    }
   ],
   "source": [
    "moa_normalized_df = pd.read_csv(\"../moa/feature_analysis/able_to_normalize_queries.csv\",sep = \"\\t\")\n",
    "print(moa_normalized_df.shape)\n",
    "moa_normalized_df.head()\n",
    "type(moa_normalized_df)"
   ]
  },
  {
   "cell_type": "markdown",
   "metadata": {},
   "source": [
    "Get variant counts by category, update variant counts df "
   ]
  },
  {
   "cell_type": "code",
   "execution_count": 4,
   "metadata": {},
   "outputs": [
    {
     "name": "stdout",
     "output_type": "stream",
     "text": [
      "Sequence Variants 149\n",
      "Copy Number Variants 32\n",
      "('Copy Number Variants', [32, 0, 0, 32])\n",
      "('Expression Variants', [0, 0, 0, 0])\n",
      "('Other Variants', [0, 0, 0, 0])\n",
      "('Rearrangement Variants', [0, 0, 0, 0])\n",
      "('Sequence Variants', [149, 0, 0, 149])\n"
     ]
    }
   ],
   "source": [
    "moa_normalized_category_counts = moa_normalized_df[\"category\"].value_counts(dropna=False)\n",
    "moa_normalized_category_counts.head()\n",
    "indeces = moa_normalized_category_counts.index\n",
    "for i in range(len(moa_normalized_category_counts)):\n",
    "    variant = moa_normalized_category_counts.index[i]\n",
    "    count = moa_normalized_category_counts[i]\n",
    "    print(variant, count)\n",
    "    target_category = moa_category_bins[variant]\n",
    "    # print(target_category)\n",
    "    category_counts[target_category][nomalized_count] += count\n",
    "    category_counts[target_category][total_count] += count\n",
    "\n",
    "for i in category_counts.items():\n",
    "    print(i)\n"
   ]
  },
  {
   "cell_type": "markdown",
   "metadata": {},
   "source": [
    "Repeat same process for variants that were supported but failed to normalize."
   ]
  },
  {
   "cell_type": "code",
   "execution_count": 5,
   "metadata": {},
   "outputs": [
    {
     "name": "stdout",
     "output_type": "stream",
     "text": [
      "(0, 7)\n"
     ]
    },
    {
     "data": {
      "text/plain": [
       "pandas.core.frame.DataFrame"
      ]
     },
     "execution_count": 5,
     "metadata": {},
     "output_type": "execute_result"
    }
   ],
   "source": [
    "moa_not_normalized_df = pd.read_csv(\"../moa/feature_analysis/unable_to_normalize_queries.csv\",sep = \"\\t\")\n",
    "print(moa_not_normalized_df.shape)\n",
    "moa_not_normalized_df.head()\n",
    "type(moa_not_normalized_df)"
   ]
  },
  {
   "cell_type": "code",
   "execution_count": 6,
   "metadata": {},
   "outputs": [
    {
     "name": "stdout",
     "output_type": "stream",
     "text": [
      "('Copy Number Variants', [32, 0, 0, 32])\n",
      "('Expression Variants', [0, 0, 0, 0])\n",
      "('Other Variants', [0, 0, 0, 0])\n",
      "('Rearrangement Variants', [0, 0, 0, 0])\n",
      "('Sequence Variants', [149, 0, 0, 149])\n"
     ]
    }
   ],
   "source": [
    "moa__not_normalized_category_counts = moa_not_normalized_df[\"category\"].value_counts(dropna=False)\n",
    "moa__not_normalized_category_counts.head()\n",
    "indeces = moa__not_normalized_category_counts.index\n",
    "for i in range(len(moa__not_normalized_category_counts)):\n",
    "    variant = moa__not_normalized_category_counts.index[i]\n",
    "    count = moa__not_normalized_category_counts[i]\n",
    "    print(variant, count)\n",
    "    target_category = moa_category_bins[variant]\n",
    "    # print(target_category)\n",
    "    category_counts[target_category][unable_to_normalize_count] += count\n",
    "    category_counts[target_category][total_count] += count\n",
    "\n",
    "for i in category_counts.items():\n",
    "    print(i)\n"
   ]
  },
  {
   "cell_type": "markdown",
   "metadata": {},
   "source": [
    "Repeat same process for variants that are unsupported."
   ]
  },
  {
   "cell_type": "code",
   "execution_count": 7,
   "metadata": {},
   "outputs": [
    {
     "name": "stdout",
     "output_type": "stream",
     "text": [
      "(249, 4)\n",
      "   variant_id                        query moa_feature_type  \\\n",
      "0           1             BCR--ABL1 Fusion    rearrangement   \n",
      "1          12                   ALK Fusion    rearrangement   \n",
      "2          15                          ALK    rearrangement   \n",
      "3          18            ALK Translocation    rearrangement   \n",
      "4          21  BRD4 t(15;19) Translocation    rearrangement   \n",
      "\n",
      "                 category  \n",
      "0  Rearrangement Variants  \n",
      "1  Rearrangement Variants  \n",
      "2  Rearrangement Variants  \n",
      "3  Rearrangement Variants  \n",
      "4  Rearrangement Variants  \n",
      "category\n",
      "Sequence Variants         181\n",
      "Rearrangement Variants     35\n",
      "Copy Number Variants       17\n",
      "Expression Variants        11\n",
      "Other Variants              5\n",
      "Name: count, dtype: int64\n"
     ]
    }
   ],
   "source": [
    "moa_not_supported_df = pd.read_csv(\"../moa/feature_analysis/not_supported_variants.csv\",sep = \"\\t\")\n",
    "print(moa_not_supported_df.shape)\n",
    "print(moa_not_supported_df.head())\n",
    "type(moa_not_supported_df)\n",
    "print(moa_not_supported_df[\"category\"].value_counts(dropna=False))"
   ]
  },
  {
   "cell_type": "code",
   "execution_count": 8,
   "metadata": {},
   "outputs": [
    {
     "data": {
      "text/plain": [
       "<bound method NDFrame.head of      variant_id                      query          moa_feature_type  \\\n",
       "210         781                   MSI-High  microsatellite_stability   \n",
       "216         803                       High         mutational_burden   \n",
       "217         805    High (>= 178 mutations)         mutational_burden   \n",
       "218         806    High (>= 100 mutations)         mutational_burden   \n",
       "219         808  High (>= 10 mutations/Mb)         mutational_burden   \n",
       "\n",
       "           category  \n",
       "210  Other Variants  \n",
       "216  Other Variants  \n",
       "217  Other Variants  \n",
       "218  Other Variants  \n",
       "219  Other Variants  >"
      ]
     },
     "execution_count": 8,
     "metadata": {},
     "output_type": "execute_result"
    }
   ],
   "source": [
    "othervars = moa_not_supported_df[moa_not_supported_df[\"category\"] == \"Other Variants\"]\n",
    "# print(othervars.head())\n",
    "type(othervars)\n",
    "othervars.head"
   ]
  },
  {
   "cell_type": "code",
   "execution_count": 9,
   "metadata": {},
   "outputs": [
    {
     "name": "stdout",
     "output_type": "stream",
     "text": [
      "Sequence Variants 181\n",
      "Rearrangement Variants 35\n",
      "Copy Number Variants 17\n",
      "Expression Variants 11\n",
      "Other Variants 5\n",
      "('Copy Number Variants', [32, 0, 17, 49])\n",
      "('Expression Variants', [0, 0, 11, 11])\n",
      "('Other Variants', [0, 0, 5, 5])\n",
      "('Rearrangement Variants', [0, 0, 35, 35])\n",
      "('Sequence Variants', [149, 0, 181, 330])\n"
     ]
    }
   ],
   "source": [
    "moa__not_supported_category_counts = moa_not_supported_df[\"category\"].value_counts(dropna=False)\n",
    "moa__not_supported_category_counts.head()\n",
    "indeces = moa__not_supported_category_counts.index\n",
    "for i in range(len(moa__not_supported_category_counts)):\n",
    "    variant = moa__not_supported_category_counts.index[i]\n",
    "    count = moa__not_supported_category_counts[i]\n",
    "    print(variant, count)\n",
    "    target_category = moa_category_bins[variant]\n",
    "    # print(target_category)\n",
    "    category_counts[target_category][unsupported_count] += count\n",
    "    category_counts[target_category][total_count] += count\n",
    "\n",
    "for i in category_counts.items():\n",
    "    print(i)\n"
   ]
  },
  {
   "cell_type": "markdown",
   "metadata": {},
   "source": [
    "## ClinVar\n",
    "\n",
    "Get df from ClinVar Analysis"
   ]
  },
  {
   "cell_type": "markdown",
   "metadata": {},
   "source": [
    "Get Clinvar Variant counts by category, update variant counts df "
   ]
  },
  {
   "cell_type": "markdown",
   "metadata": {},
   "source": [
    "Output counts df"
   ]
  },
  {
   "cell_type": "markdown",
   "metadata": {},
   "source": [
    "Generate figure(?)"
   ]
  }
 ],
 "metadata": {
  "kernelspec": {
   "display_name": "Python 3",
   "language": "python",
   "name": "python3"
  },
  "language_info": {
   "codemirror_mode": {
    "name": "ipython",
    "version": 3
   },
   "file_extension": ".py",
   "mimetype": "text/x-python",
   "name": "python",
   "nbconvert_exporter": "python",
   "pygments_lexer": "ipython3",
   "version": "3.11.4"
  },
  "orig_nbformat": 4
 },
 "nbformat": 4,
 "nbformat_minor": 2
}
