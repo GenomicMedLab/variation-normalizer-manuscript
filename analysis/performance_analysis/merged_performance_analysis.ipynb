{
 "cells": [
  {
   "cell_type": "markdown",
   "metadata": {},
   "source": [
    "# Normalizer Performance Analysis\n",
    "\n",
    "This notebook contains an analysis of the normalizer performance on the CIViC, MOA, and Clinvar data"
   ]
  },
  {
   "cell_type": "markdown",
   "metadata": {},
   "source": [
    "## import relevant packages"
   ]
  },
  {
   "cell_type": "code",
   "execution_count": 2,
   "metadata": {},
   "outputs": [],
   "source": [
    "from pathlib import Path\n",
    "import pandas as pd\n",
    "# from civicpy import civic as civicpy\n",
    "# import plotly.express as px\n",
    "import ndjson\n",
    "import re\n",
    "from dotenv import load_dotenv\n",
    "import os"
   ]
  },
  {
   "cell_type": "markdown",
   "metadata": {},
   "source": [
    "## Dictionaries to hold categories and df to hold variant counts."
   ]
  },
  {
   "cell_type": "code",
   "execution_count": 3,
   "metadata": {},
   "outputs": [],
   "source": [
    "moa_category_bins = {\n",
    "    \"Sequence Variants\": \"Sequence Variants\",\n",
    "    \"Copy Number Variants\": \"Copy Number Variants\"\n",
    "}"
   ]
  },
  {
   "cell_type": "markdown",
   "metadata": {},
   "source": [
    "## CIViC\n",
    "\n",
    "Read CIViC .csv files"
   ]
  },
  {
   "cell_type": "code",
   "execution_count": 6,
   "metadata": {},
   "outputs": [
    {
     "name": "stdout",
     "output_type": "stream",
     "text": [
      "Current working directory: /Users/dpp002/Documents/Variant Normalizer Manuscript/variation-normalizer-manuscript-1/analysis\n",
      ".DS_Store\n",
      "clinvar_analysis.ipynb\n",
      "merged_moa_civic_evidence_analysis.ipynb\n"
     ]
    }
   ],
   "source": [
    "os.path.realpath(\"merged_performance_analysis.ipynb\")\n",
    "os.chdir('/Users/dpp002/Documents/Variant Normalizer Manuscript/variation-normalizer-manuscript-1/analysis')\n",
    "print(\"Current working directory: {0}\".format(os.getcwd()))\n",
    "for entry in os.scandir('.'):\n",
    "    if entry.is_file():\n",
    "        print(entry.name)"
   ]
  },
  {
   "cell_type": "code",
   "execution_count": 5,
   "metadata": {},
   "outputs": [
    {
     "name": "stdout",
     "output_type": "stream",
     "text": [
      "Current working directory: /Users/dpp002/Documents/Variant Normalizer Manuscript/variation-normalizer-manuscript-1/analysis/civic/variation_analysis\n",
      "unable_to_normalize_queries.csv\n",
      "not_supported_variants.csv\n",
      "should_be_able_to_normalize_genomic_variant_queries.csv\n",
      "should_be_able_to_normalize_protein_variant_queries.csv\n",
      "able_to_normalize_queries.csv\n",
      "civic_variation_analysis.ipynb\n"
     ]
    }
   ],
   "source": [
    "os.chdir('/Users/dpp002/Documents/Variant Normalizer Manuscript/variation-normalizer-manuscript-1/analysis/civic/variation_analysis')\n",
    "print(\"Current working directory: {0}\".format(os.getcwd()))\n",
    "\n",
    "for entry in os.scandir('.'):\n",
    "    if entry.is_file():\n",
    "        print(entry.name)"
   ]
  },
  {
   "cell_type": "code",
   "execution_count": null,
   "metadata": {},
   "outputs": [],
   "source": [
    "# civic_supported_df = "
   ]
  },
  {
   "cell_type": "markdown",
   "metadata": {},
   "source": [
    "Get CIViC Variant counts by category, update variant counts df "
   ]
  },
  {
   "cell_type": "markdown",
   "metadata": {},
   "source": [
    "## MOA\n",
    "\n",
    "Read MOA .csv files"
   ]
  },
  {
   "cell_type": "code",
   "execution_count": 32,
   "metadata": {},
   "outputs": [
    {
     "name": "stdout",
     "output_type": "stream",
     "text": [
      "(181, 5)\n"
     ]
    },
    {
     "data": {
      "text/plain": [
       "pandas.core.frame.DataFrame"
      ]
     },
     "execution_count": 32,
     "metadata": {},
     "output_type": "execute_result"
    }
   ],
   "source": [
    "moa_normalized_df = pd.read_csv(\"/Users/dpp002/Documents/Variant Normalizer Manuscript/variation-normalizer-manuscript-1/analysis/moa/feature_analysis/able_to_normalize_queries.csv\",sep = \"\\t\")\n",
    "print(moa_normalized_df.shape)\n",
    "moa_normalized_df.head()\n",
    "type(moa_normalized_df)"
   ]
  },
  {
   "cell_type": "code",
   "execution_count": 42,
   "metadata": {},
   "outputs": [
    {
     "name": "stdout",
     "output_type": "stream",
     "text": [
      "Index(['Sequence Variants', 'Copy Number Variants'], dtype='object', name='category')\n",
      "Sequence Variants , 149\n",
      "Copy Number Variants , 32\n"
     ]
    }
   ],
   "source": [
    "moa_normalized_category_counts = moa_normalized_df[\"category\"].value_counts(dropna=False)\n",
    "# moa_normalized_category_counts = moa_normalized_df[\"category\"].value_counts(dropna=False).reset_index().rename(columns={\"index\": \"category\", 0: \"count\"})\n",
    "moa_normalized_category_counts.head()\n",
    "indeces = moa_normalized_category_counts.index\n",
    "print(indeces)\n",
    "print(indeces[0],',',moa_normalized_category_counts[0])\n",
    "print(indeces[1],',',moa_normalized_category_counts[1])\n"
   ]
  },
  {
   "cell_type": "markdown",
   "metadata": {},
   "source": []
  },
  {
   "cell_type": "code",
   "execution_count": null,
   "metadata": {},
   "outputs": [],
   "source": []
  },
  {
   "cell_type": "markdown",
   "metadata": {},
   "source": [
    "Get MOA Variant counts by category, update variant counts df "
   ]
  },
  {
   "cell_type": "markdown",
   "metadata": {},
   "source": [
    "## ClinVar\n",
    "\n",
    "Get df from ClinVar Analysis"
   ]
  },
  {
   "cell_type": "markdown",
   "metadata": {},
   "source": [
    "Get Clinvar Variant counts by category, update variant counts df "
   ]
  },
  {
   "cell_type": "markdown",
   "metadata": {},
   "source": [
    "Output counts df"
   ]
  },
  {
   "cell_type": "markdown",
   "metadata": {},
   "source": [
    "Generate figure(?)"
   ]
  }
 ],
 "metadata": {
  "kernelspec": {
   "display_name": "Python 3",
   "language": "python",
   "name": "python3"
  },
  "language_info": {
   "codemirror_mode": {
    "name": "ipython",
    "version": 3
   },
   "file_extension": ".py",
   "mimetype": "text/x-python",
   "name": "python",
   "nbconvert_exporter": "python",
   "pygments_lexer": "ipython3",
   "version": "3.11.4"
  },
  "orig_nbformat": 4
 },
 "nbformat": 4,
 "nbformat_minor": 2
}
