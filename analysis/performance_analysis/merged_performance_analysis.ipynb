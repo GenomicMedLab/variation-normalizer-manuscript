{
 "cells": [
  {
   "cell_type": "markdown",
   "metadata": {},
   "source": [
    "# Normalizer Performance Analysis\n",
    "\n",
    "This notebook contains an analysis of the normalizer performance on the CIViC, MOA, and Clinvar data"
   ]
  },
  {
   "cell_type": "markdown",
   "metadata": {},
   "source": [
    "## Import relevant packages"
   ]
  },
  {
   "cell_type": "code",
   "execution_count": 1,
   "metadata": {},
   "outputs": [],
   "source": [
    "from pathlib import Path\n",
    "import pandas as pd\n",
    "import numpy as np\n",
    "# from civicpy import civic as civicpy\n",
    "# import plotly.express as px\n",
    "import ndjson\n",
    "import re\n",
    "from dotenv import load_dotenv\n",
    "import os"
   ]
  },
  {
   "cell_type": "markdown",
   "metadata": {},
   "source": [
    "## Dictionaries to map variants to categories and record category counts"
   ]
  },
  {
   "cell_type": "code",
   "execution_count": 2,
   "metadata": {},
   "outputs": [],
   "source": [
    "civic_category_bins = {\n",
    "    \"Sequence Variants\": \"Sequence Variants\",\n",
    "    \"Copy Number Variants\": \"Copy Number Variants\"\n",
    "}\n",
    "\n",
    "\n",
    "\n",
    "moa_category_bins = {\n",
    "    \"Sequence Variants\": \"Sequence Variants\",\n",
    "    \"Copy Number Variants\": \"Copy Number Variants\",\n",
    "    \"Rearrangement Variants\": \"Rearrangement Variants\",\n",
    "    \"Expression Variants\": \"Expression Variants\",\n",
    "    \"Other Variants\": \"Other Variants\"\n",
    "}\n",
    "\n",
    "# the values in this dictionary are lists of 4 integer values:\n",
    "# [nomalized_count, unable_to_normalize_count, unsupported_count, total_count]\n",
    "nomalized_count = 0\n",
    "unable_to_normalize_count = 1\n",
    "unsupported_count = 2\n",
    "total_count = 3\n",
    "\n",
    "category_counts = {\n",
    "    \"Copy Number Variants\":[0,0,0,0],\n",
    "    \"Expression Variants\":[0,0,0,0],\n",
    "    \"Other Variants\": [0,0,0,0],\n",
    "    \"Rearrangement Variants\":[0,0,0,0],\n",
    "    \"Sequence Variants\":[0,0,0,0]\n",
    "}"
   ]
  },
  {
   "cell_type": "markdown",
   "metadata": {},
   "source": [
    "## CIViC\n",
    "\n"
   ]
  },
  {
   "cell_type": "markdown",
   "metadata": {},
   "source": [
    "In order to score the normalizer's performance on the CIViC data, some cleaning is required.\n",
    "\n",
    "First we need to read in the data that was ostensibly supported, get rid of varients with multiple type labels, and assign variant types to as  many of the entries as possible that have a \"Not provided\" value for civic_variant_types."
   ]
  },
  {
   "cell_type": "markdown",
   "metadata": {},
   "source": [
    "Read in .csv of normalized variants in CIVIC"
   ]
  },
  {
   "cell_type": "code",
   "execution_count": 3,
   "metadata": {},
   "outputs": [
    {
     "name": "stdout",
     "output_type": "stream",
     "text": [
      "(1876, 7)\n"
     ]
    },
    {
     "data": {
      "text/plain": [
       "pandas.core.frame.DataFrame"
      ]
     },
     "execution_count": 3,
     "metadata": {},
     "output_type": "execute_result"
    }
   ],
   "source": [
    "civic_normalized_df = pd.read_csv(\"../civic/variation_analysis/able_to_normalize_queries.csv\",sep = \"\\t\")\n",
    "print(civic_normalized_df.shape)\n",
    "civic_normalized_df.head()\n",
    "type(civic_normalized_df)"
   ]
  },
  {
   "cell_type": "markdown",
   "metadata": {},
   "source": [
    "Prune columns and add new column to flag as normalized."
   ]
  },
  {
   "cell_type": "code",
   "execution_count": 4,
   "metadata": {},
   "outputs": [
    {
     "data": {
      "text/html": [
       "<div>\n",
       "<style scoped>\n",
       "    .dataframe tbody tr th:only-of-type {\n",
       "        vertical-align: middle;\n",
       "    }\n",
       "\n",
       "    .dataframe tbody tr th {\n",
       "        vertical-align: top;\n",
       "    }\n",
       "\n",
       "    .dataframe thead th {\n",
       "        text-align: right;\n",
       "    }\n",
       "</style>\n",
       "<table border=\"1\" class=\"dataframe\">\n",
       "  <thead>\n",
       "    <tr style=\"text-align: right;\">\n",
       "      <th></th>\n",
       "      <th>variant_id</th>\n",
       "      <th>query</th>\n",
       "      <th>query_type</th>\n",
       "      <th>civic_variant_types</th>\n",
       "      <th>normalization_status</th>\n",
       "    </tr>\n",
       "  </thead>\n",
       "  <tbody>\n",
       "    <tr>\n",
       "      <th>0</th>\n",
       "      <td>2489</td>\n",
       "      <td>NC_000003.11:g.10191648_10191649insC</td>\n",
       "      <td>genomic</td>\n",
       "      <td>Stop Lost</td>\n",
       "      <td>normalized</td>\n",
       "    </tr>\n",
       "    <tr>\n",
       "      <th>1</th>\n",
       "      <td>1988</td>\n",
       "      <td>NC_000003.11:g.10191649A&gt;T</td>\n",
       "      <td>genomic</td>\n",
       "      <td>Stop Lost</td>\n",
       "      <td>normalized</td>\n",
       "    </tr>\n",
       "    <tr>\n",
       "      <th>2</th>\n",
       "      <td>2488</td>\n",
       "      <td>3-10191647-T-G</td>\n",
       "      <td>genomic</td>\n",
       "      <td>Stop Lost</td>\n",
       "      <td>normalized</td>\n",
       "    </tr>\n",
       "    <tr>\n",
       "      <th>3</th>\n",
       "      <td>1986</td>\n",
       "      <td>NC_000003.11:g.10191648G&gt;T</td>\n",
       "      <td>genomic</td>\n",
       "      <td>Stop Lost</td>\n",
       "      <td>normalized</td>\n",
       "    </tr>\n",
       "    <tr>\n",
       "      <th>4</th>\n",
       "      <td>1987</td>\n",
       "      <td>NC_000003.11:g.10191649A&gt;G</td>\n",
       "      <td>genomic</td>\n",
       "      <td>Stop Lost</td>\n",
       "      <td>normalized</td>\n",
       "    </tr>\n",
       "  </tbody>\n",
       "</table>\n",
       "</div>"
      ],
      "text/plain": [
       "   variant_id                                 query query_type  \\\n",
       "0        2489  NC_000003.11:g.10191648_10191649insC    genomic   \n",
       "1        1988            NC_000003.11:g.10191649A>T    genomic   \n",
       "2        2488                        3-10191647-T-G    genomic   \n",
       "3        1986            NC_000003.11:g.10191648G>T    genomic   \n",
       "4        1987            NC_000003.11:g.10191649A>G    genomic   \n",
       "\n",
       "  civic_variant_types normalization_status  \n",
       "0           Stop Lost           normalized  \n",
       "1           Stop Lost           normalized  \n",
       "2           Stop Lost           normalized  \n",
       "3           Stop Lost           normalized  \n",
       "4           Stop Lost           normalized  "
      ]
     },
     "execution_count": 4,
     "metadata": {},
     "output_type": "execute_result"
    }
   ],
   "source": [
    "pruned_civic_normalized_df = civic_normalized_df[[\"variant_id\",\"query\",\"query_type\",\"civic_variant_types\"]]\n",
    "pruned_civic_normalized_df.insert(4,\"normalization_status\",\"normalized\")\n",
    "pruned_civic_normalized_df.head()"
   ]
  },
  {
   "cell_type": "markdown",
   "metadata": {},
   "source": [
    "Repeat process with the variants that were unable to be normalized."
   ]
  },
  {
   "cell_type": "code",
   "execution_count": 5,
   "metadata": {},
   "outputs": [
    {
     "name": "stdout",
     "output_type": "stream",
     "text": [
      "(80, 8)\n"
     ]
    },
    {
     "data": {
      "text/plain": [
       "pandas.core.frame.DataFrame"
      ]
     },
     "execution_count": 5,
     "metadata": {},
     "output_type": "execute_result"
    }
   ],
   "source": [
    "civic_not_normalized_df = pd.read_csv(\"../civic/variation_analysis/unable_to_normalize_queries.csv\",sep = \"\\t\")\n",
    "print(civic_not_normalized_df.shape)\n",
    "civic_not_normalized_df.head()\n",
    "type(civic_not_normalized_df)"
   ]
  },
  {
   "cell_type": "code",
   "execution_count": 6,
   "metadata": {},
   "outputs": [
    {
     "data": {
      "text/html": [
       "<div>\n",
       "<style scoped>\n",
       "    .dataframe tbody tr th:only-of-type {\n",
       "        vertical-align: middle;\n",
       "    }\n",
       "\n",
       "    .dataframe tbody tr th {\n",
       "        vertical-align: top;\n",
       "    }\n",
       "\n",
       "    .dataframe thead th {\n",
       "        text-align: right;\n",
       "    }\n",
       "</style>\n",
       "<table border=\"1\" class=\"dataframe\">\n",
       "  <thead>\n",
       "    <tr style=\"text-align: right;\">\n",
       "      <th></th>\n",
       "      <th>variant_id</th>\n",
       "      <th>query</th>\n",
       "      <th>query_type</th>\n",
       "      <th>civic_variant_types</th>\n",
       "      <th>normalization_status</th>\n",
       "    </tr>\n",
       "  </thead>\n",
       "  <tbody>\n",
       "    <tr>\n",
       "      <th>0</th>\n",
       "      <td>748</td>\n",
       "      <td>MLH1 *757L</td>\n",
       "      <td>protein</td>\n",
       "      <td>Stop Lost</td>\n",
       "      <td>not_normalized</td>\n",
       "    </tr>\n",
       "    <tr>\n",
       "      <th>1</th>\n",
       "      <td>3718</td>\n",
       "      <td>AR A748V</td>\n",
       "      <td>protein</td>\n",
       "      <td>Not provided</td>\n",
       "      <td>not_normalized</td>\n",
       "    </tr>\n",
       "    <tr>\n",
       "      <th>2</th>\n",
       "      <td>3725</td>\n",
       "      <td>AR A765T</td>\n",
       "      <td>protein</td>\n",
       "      <td>Not provided</td>\n",
       "      <td>not_normalized</td>\n",
       "    </tr>\n",
       "    <tr>\n",
       "      <th>3</th>\n",
       "      <td>4485</td>\n",
       "      <td>ERBB2 A775_G776ins YVMA</td>\n",
       "      <td>protein</td>\n",
       "      <td>Not provided</td>\n",
       "      <td>not_normalized</td>\n",
       "    </tr>\n",
       "    <tr>\n",
       "      <th>4</th>\n",
       "      <td>248</td>\n",
       "      <td>TERT C228T</td>\n",
       "      <td>protein</td>\n",
       "      <td>Regulatory Region Variant</td>\n",
       "      <td>not_normalized</td>\n",
       "    </tr>\n",
       "  </tbody>\n",
       "</table>\n",
       "</div>"
      ],
      "text/plain": [
       "   variant_id                    query query_type        civic_variant_types  \\\n",
       "0         748               MLH1 *757L    protein                  Stop Lost   \n",
       "1        3718                 AR A748V    protein               Not provided   \n",
       "2        3725                 AR A765T    protein               Not provided   \n",
       "3        4485  ERBB2 A775_G776ins YVMA    protein               Not provided   \n",
       "4         248               TERT C228T    protein  Regulatory Region Variant   \n",
       "\n",
       "  normalization_status  \n",
       "0       not_normalized  \n",
       "1       not_normalized  \n",
       "2       not_normalized  \n",
       "3       not_normalized  \n",
       "4       not_normalized  "
      ]
     },
     "execution_count": 6,
     "metadata": {},
     "output_type": "execute_result"
    }
   ],
   "source": [
    "pruned_civic_not_normalized_df = civic_not_normalized_df[[\"variant_id\",\"query\",\"query_type\",\"civic_variant_types\"]]\n",
    "pruned_civic_not_normalized_df.insert(4,\"normalization_status\",\"not_normalized\")\n",
    "pruned_civic_not_normalized_df.head()"
   ]
  },
  {
   "cell_type": "markdown",
   "metadata": {},
   "source": [
    "Merge these dfs"
   ]
  },
  {
   "cell_type": "code",
   "execution_count": 7,
   "metadata": {},
   "outputs": [
    {
     "data": {
      "text/plain": [
       "(1956, 5)"
      ]
     },
     "execution_count": 7,
     "metadata": {},
     "output_type": "execute_result"
    }
   ],
   "source": [
    "frames = [pruned_civic_normalized_df, pruned_civic_not_normalized_df]\n",
    "civic_supported_df = pd.concat(frames)\n",
    "civic_supported_df.shape"
   ]
  },
  {
   "cell_type": "markdown",
   "metadata": {},
   "source": [
    "Making all queries in all caps to make it easier to account of untyped variants later on."
   ]
  },
  {
   "cell_type": "code",
   "execution_count": 8,
   "metadata": {},
   "outputs": [],
   "source": [
    "civic_supported_df[\"query\"] = civic_supported_df[\"query\"].apply(str.upper)"
   ]
  },
  {
   "cell_type": "markdown",
   "metadata": {},
   "source": [
    "Checking variant types.  The single largest types is \"Not provided\".  \n",
    "Most of these look like amino acid substitutions.\n",
    "Defining a regex to detect these variants and assign \"Missense Varaint\" type to these variants."
   ]
  },
  {
   "cell_type": "code",
   "execution_count": 9,
   "metadata": {},
   "outputs": [
    {
     "data": {
      "text/plain": [
       "civic_variant_types\n",
       "Not provided                                                 816\n",
       "Missense Variant                                             815\n",
       "Stop Gained                                                   60\n",
       "Frameshift Truncation                                         36\n",
       "Transcript Amplification                                      36\n",
       "Inframe Deletion                                              35\n",
       "Minus 1 Frameshift Variant;Frameshift Truncation              21\n",
       "Inframe Insertion                                             17\n",
       "Synonymous Variant                                            13\n",
       "Splice Donor Variant                                          13\n",
       "Splice Acceptor Variant                                        9\n",
       "Missense Variant;Gain Of Function Variant                      9\n",
       "Frameshift Variant                                             7\n",
       "Stop Lost                                                      6\n",
       "Conservative Inframe Deletion                                  6\n",
       "Delins                                                         4\n",
       "Frameshift Truncation;Minus 2 Frameshift Variant               4\n",
       "Plus 1 Frameshift Variant;Frameshift Truncation                3\n",
       "Start Lost                                                     3\n",
       "3 Prime UTR Variant                                            3\n",
       "Splice Donor Region Variant                                    2\n",
       "Non Conservative Missense Variant                              2\n",
       "Regulatory Region Variant                                      2\n",
       "Coding Sequence Variant                                        2\n",
       "Missense Variant;Transcript Fusion                             2\n",
       "Stop Gained;Loss Of Function Variant                           2\n",
       "Disruptive Inframe Deletion                                    2\n",
       "Missense Variant;Polymorphic Sequence Variant                  2\n",
       "Missense Variant;Loss Of Function Variant                      2\n",
       "Minus 1 Frameshift Variant                                     2\n",
       "Inframe Variant;Inframe Insertion;Inframe Deletion;Delins      1\n",
       "Intron Variant                                                 1\n",
       "Frameshift Variant;Minus 1 Frameshift Variant                  1\n",
       "Frameshift Variant;Delins                                      1\n",
       "Direct Tandem Duplication                                      1\n",
       "Amino Acid Deletion;Inframe Deletion                           1\n",
       "Missense Variant;Snp                                           1\n",
       "Disruptive Inframe Insertion                                   1\n",
       "Splicing Variant                                               1\n",
       "Frameshift                                                     1\n",
       "Frameshift Truncation;Plus 2 Frameshift Variant                1\n",
       "Missense Variant;Loss Of Heterozygosity                        1\n",
       "Transcript Fusion                                              1\n",
       "Minus 2 Frameshift Variant                                     1\n",
       "Inframe Indel                                                  1\n",
       "Inframe Insertion;Inframe Deletion;Delins                      1\n",
       "Plus 1 Frameshift Variant                                      1\n",
       "Inframe Insertion;Delins                                       1\n",
       "Plus 1 Frameshift Variant;Frameshift Elongation                1\n",
       "Stop Lost;Inframe Deletion                                     1\n",
       "Name: count, dtype: int64"
      ]
     },
     "execution_count": 9,
     "metadata": {},
     "output_type": "execute_result"
    }
   ],
   "source": [
    "civic_supported_df[\"civic_variant_types\"].value_counts(dropna=False)"
   ]
  },
  {
   "cell_type": "markdown",
   "metadata": {},
   "source": [
    "If a variant does not have an assigned variant type in civic, it is a protein query, and the query matches a regex pattern associated with variant flagstitutions (such as \"PTEN A126D\"), then I am re-classifying them as a \"Missense Variant\" instead."
   ]
  },
  {
   "cell_type": "code",
   "execution_count": 10,
   "metadata": {},
   "outputs": [],
   "source": [
    "civic_supported_df[\"variant flag\"] = civic_supported_df[\"query\"].apply(lambda x: bool(re.match(\"\\S+\\s+[A-Z]+\\d+[A-Z|*]\", x)))\n",
    "\n",
    "civic_supported_df[\"civic_variant_types\"] = np.where((civic_supported_df[\"query_type\"] == \"protein\") & (civic_supported_df[\"civic_variant_types\"] == \"Not provided\") & (civic_supported_df[\"variant flag\"]), \"Missense Variant\", civic_supported_df[\"civic_variant_types\"])\n",
    "\n",
    "# civic_supported_df[0:20]\n",
    "    # bool(re.match(\"\\S+\\s+[A-Z]+\\d+[A-Z]\",\"PTEN A126D\"))"
   ]
  },
  {
   "cell_type": "markdown",
   "metadata": {},
   "source": [
    "Doing so reduced the 816 untyped variants down to 70.\n",
    "Checking the remaining weird variants."
   ]
  },
  {
   "cell_type": "code",
   "execution_count": 19,
   "metadata": {},
   "outputs": [
    {
     "name": "stdout",
     "output_type": "stream",
     "text": [
      "      variant_id                               query query_type  \\\n",
      "328         2514                     3-10183806-A-CC    genomic   \n",
      "545         2290                      3-10188288-G-A    genomic   \n",
      "1178        1882                      3-10188252-A-C    genomic   \n",
      "1544        2461          NC_000003.11:G.10188323A>C    genomic   \n",
      "1557        2504          NC_000003.11:G.10188196A>G    genomic   \n",
      "1870         615  NC_000009.11:G.5070053_5070054INSG    genomic   \n",
      "1871        3161                      3-10183878-G-A    genomic   \n",
      "48          4542          DICER1 RNASE IIIB MUTATION    protein   \n",
      "\n",
      "     civic_variant_types normalization_status  variant flag  \n",
      "328         Not provided           normalized         False  \n",
      "545         Not provided           normalized         False  \n",
      "1178        Not provided           normalized         False  \n",
      "1544        Not provided           normalized         False  \n",
      "1557        Not provided           normalized         False  \n",
      "1870        Not provided           normalized         False  \n",
      "1871        Not provided           normalized         False  \n",
      "48          Not provided       not_normalized         False  \n"
     ]
    }
   ],
   "source": [
    "untyped_variants = civic_supported_df[civic_supported_df[\"civic_variant_types\"] == \"Not provided\"]\n",
    "print(untyped_variants.head(20))"
   ]
  },
  {
   "cell_type": "markdown",
   "metadata": {},
   "source": [
    "Reassigning variants marked as {gene} Amplification as Transcript Amplification Variants"
   ]
  },
  {
   "cell_type": "code",
   "execution_count": 12,
   "metadata": {},
   "outputs": [],
   "source": [
    "civic_supported_df[\"variant flag\"] = civic_supported_df[\"query\"].apply(lambda x: bool(re.match(\"\\S+\\s+AMPLIFICATION\", x)))\n",
    "\n",
    "civic_supported_df[\"civic_variant_types\"] = np.where((civic_supported_df[\"query_type\"] == \"protein\") & (civic_supported_df[\"civic_variant_types\"] == \"Not provided\") & (civic_supported_df[\"variant flag\"]), \"Transcript Amplification\", civic_supported_df[\"civic_variant_types\"])\n"
   ]
  },
  {
   "cell_type": "markdown",
   "metadata": {},
   "source": [
    "Reassigning amino acid insertions, delins, and deletions as \"Missense Variant\", including a couple of variants that have a random space before or after the sequence operation like \"INS\""
   ]
  },
  {
   "cell_type": "code",
   "execution_count": 13,
   "metadata": {},
   "outputs": [],
   "source": [
    "civic_supported_df[\"variant flag\"] = civic_supported_df[\"query\"].apply(lambda x: bool(re.match(\"\\S+\\s+[A-Z]+\\d+_+[A-Z]+\\d+INS+[A-Z]\", x)))\n",
    "\n",
    "civic_supported_df[\"civic_variant_types\"] = np.where((civic_supported_df[\"query_type\"] == \"protein\") & (civic_supported_df[\"civic_variant_types\"] == \"Not provided\") & (civic_supported_df[\"variant flag\"]), \"Missense Variant\", civic_supported_df[\"civic_variant_types\"])\n"
   ]
  },
  {
   "cell_type": "code",
   "execution_count": 14,
   "metadata": {},
   "outputs": [],
   "source": [
    "civic_supported_df[\"variant flag\"] = civic_supported_df[\"query\"].apply(lambda x: bool(re.match(\"\\S+\\s+[A-Z]+\\d+_+[A-Z]+\\d+INS+\\s+[A-Z]\", x)))\n",
    "\n",
    "civic_supported_df[\"civic_variant_types\"] = np.where((civic_supported_df[\"query_type\"] == \"protein\") & (civic_supported_df[\"civic_variant_types\"] == \"Not provided\") & (civic_supported_df[\"variant flag\"]), \"Missense Variant\", civic_supported_df[\"civic_variant_types\"])"
   ]
  },
  {
   "cell_type": "code",
   "execution_count": 15,
   "metadata": {},
   "outputs": [],
   "source": [
    "civic_supported_df[\"variant flag\"] = civic_supported_df[\"query\"].apply(lambda x: bool(re.match(\"\\S+\\s+[A-Z]+\\d+-+\\d+\\s+INS+[A-Z]\", x)))\n",
    "\n",
    "civic_supported_df[\"civic_variant_types\"] = np.where((civic_supported_df[\"query_type\"] == \"protein\") & (civic_supported_df[\"civic_variant_types\"] == \"Not provided\") & (civic_supported_df[\"variant flag\"]), \"Missense Variant\", civic_supported_df[\"civic_variant_types\"])"
   ]
  },
  {
   "cell_type": "code",
   "execution_count": 16,
   "metadata": {},
   "outputs": [],
   "source": [
    "civic_supported_df[\"variant flag\"] = civic_supported_df[\"query\"].apply(lambda x: bool(re.match(\"\\S+\\s+[A-Z]+\\d+_+[A-Z]+\\d+DELINS+[A-Z]\", x)))\n",
    "\n",
    "civic_supported_df[\"civic_variant_types\"] = np.where((civic_supported_df[\"query_type\"] == \"protein\") & (civic_supported_df[\"civic_variant_types\"] == \"Not provided\") & (civic_supported_df[\"variant flag\"]), \"Missense Variant\", civic_supported_df[\"civic_variant_types\"])\n"
   ]
  },
  {
   "cell_type": "code",
   "execution_count": 17,
   "metadata": {},
   "outputs": [],
   "source": [
    "civic_supported_df[\"variant flag\"] = civic_supported_df[\"query\"].apply(lambda x: bool(re.match(\"\\S+\\s+[A-Z]+\\d+_+[A-Z]+\\d+DEL\", x)))\n",
    "\n",
    "civic_supported_df[\"civic_variant_types\"] = np.where((civic_supported_df[\"query_type\"] == \"protein\") & (civic_supported_df[\"civic_variant_types\"] == \"Not provided\") & (civic_supported_df[\"variant flag\"]), \"Missense Variant\", civic_supported_df[\"civic_variant_types\"])\n"
   ]
  },
  {
   "cell_type": "markdown",
   "metadata": {},
   "source": [
    "And assigning missense types to a handful of remaining variants that are non-standard names for genomic and protein sequence variants"
   ]
  },
  {
   "cell_type": "code",
   "execution_count": 18,
   "metadata": {},
   "outputs": [],
   "source": [
    "civic_supported_df[\"variant flag\"] = civic_supported_df[\"query\"].apply(lambda x: bool(re.match(\"\\S+\\s+P\\.+[A-Z]+\\d+[A-Z]\", x)))\n",
    "\n",
    "civic_supported_df[\"civic_variant_types\"] = np.where((civic_supported_df[\"query_type\"] == \"protein\") & (civic_supported_df[\"civic_variant_types\"] == \"Not provided\") & (civic_supported_df[\"variant flag\"]), \"Missense Variant\", civic_supported_df[\"civic_variant_types\"])\n"
   ]
  },
  {
   "cell_type": "markdown",
   "metadata": {},
   "source": [
    "Add category column to CIViC df."
   ]
  },
  {
   "cell_type": "code",
   "execution_count": null,
   "metadata": {},
   "outputs": [],
   "source": []
  },
  {
   "cell_type": "markdown",
   "metadata": {},
   "source": [
    "Bin variants to categories.\n",
    "\n",
    "For variants with multiple associated types:  If the 2+ types have a subset relationship (eg frameshift; frameshift truncation), reassign with the superset type (frameshift).  If the types are disjoint (eg: Trancript Variant; Loss of Function Variant), reassign with the type most closely  associated with the assayed data (Transcript Variant)."
   ]
  },
  {
   "cell_type": "markdown",
   "metadata": {},
   "source": [
    "\n",
    "For variants without an associated type (approximately 1,632 entries) use regexes to assign types where possible."
   ]
  },
  {
   "cell_type": "markdown",
   "metadata": {},
   "source": [
    "Finally, assign variants to category bins based on type."
   ]
  },
  {
   "cell_type": "markdown",
   "metadata": {},
   "source": [
    "Split df by normalized/not_normalized/not_supported flags"
   ]
  },
  {
   "cell_type": "markdown",
   "metadata": {},
   "source": [
    "For each df, Get CIViC Variant counts by category and add to counts dictionary"
   ]
  },
  {
   "cell_type": "markdown",
   "metadata": {},
   "source": [
    "## MOA\n",
    "\n",
    "Read MOA .csv file for Normalized variants"
   ]
  },
  {
   "cell_type": "code",
   "execution_count": null,
   "metadata": {},
   "outputs": [],
   "source": [
    "moa_normalized_df = pd.read_csv(\"../moa/feature_analysis/able_to_normalize_queries.csv\",sep = \"\\t\")\n",
    "print(moa_normalized_df.shape)\n",
    "moa_normalized_df.head()\n",
    "type(moa_normalized_df)"
   ]
  },
  {
   "cell_type": "markdown",
   "metadata": {},
   "source": [
    "Get variant counts by category, update variant counts df "
   ]
  },
  {
   "cell_type": "code",
   "execution_count": null,
   "metadata": {},
   "outputs": [],
   "source": [
    "moa_normalized_category_counts = moa_normalized_df[\"category\"].value_counts(dropna=False)\n",
    "moa_normalized_category_counts.head()\n",
    "indeces = moa_normalized_category_counts.index\n",
    "for i in range(len(moa_normalized_category_counts)):\n",
    "    variant = moa_normalized_category_counts.index[i]\n",
    "    count = moa_normalized_category_counts[i]\n",
    "    print(variant, count)\n",
    "    target_category = moa_category_bins[variant]\n",
    "    # print(target_category)\n",
    "    category_counts[target_category][nomalized_count] += count\n",
    "    category_counts[target_category][total_count] += count\n",
    "\n",
    "for i in category_counts.items():\n",
    "    print(i)\n"
   ]
  },
  {
   "cell_type": "markdown",
   "metadata": {},
   "source": [
    "Repeat same process for variants that were supported but failed to normalize."
   ]
  },
  {
   "cell_type": "code",
   "execution_count": null,
   "metadata": {},
   "outputs": [],
   "source": [
    "moa_not_normalized_df = pd.read_csv(\"../moa/feature_analysis/unable_to_normalize_queries.csv\",sep = \"\\t\")\n",
    "print(moa_not_normalized_df.shape)\n",
    "moa_not_normalized_df.head()\n",
    "type(moa_not_normalized_df)"
   ]
  },
  {
   "cell_type": "code",
   "execution_count": null,
   "metadata": {},
   "outputs": [],
   "source": [
    "moa__not_normalized_category_counts = moa_not_normalized_df[\"category\"].value_counts(dropna=False)\n",
    "moa__not_normalized_category_counts.head()\n",
    "indeces = moa__not_normalized_category_counts.index\n",
    "for i in range(len(moa__not_normalized_category_counts)):\n",
    "    variant = moa__not_normalized_category_counts.index[i]\n",
    "    count = moa__not_normalized_category_counts[i]\n",
    "    print(variant, count)\n",
    "    target_category = moa_category_bins[variant]\n",
    "    # print(target_category)\n",
    "    category_counts[target_category][unable_to_normalize_count] += count\n",
    "    category_counts[target_category][total_count] += count\n",
    "\n",
    "for i in category_counts.items():\n",
    "    print(i)\n"
   ]
  },
  {
   "cell_type": "markdown",
   "metadata": {},
   "source": [
    "Repeat same process for variants that are unsupported."
   ]
  },
  {
   "cell_type": "code",
   "execution_count": null,
   "metadata": {},
   "outputs": [],
   "source": [
    "moa_not_supported_df = pd.read_csv(\"../moa/feature_analysis/not_supported_variants.csv\",sep = \"\\t\")\n",
    "print(moa_not_supported_df.shape)\n",
    "print(moa_not_supported_df.head())\n",
    "type(moa_not_supported_df)\n",
    "print(moa_not_supported_df[\"category\"].value_counts(dropna=False))"
   ]
  },
  {
   "cell_type": "code",
   "execution_count": null,
   "metadata": {},
   "outputs": [],
   "source": [
    "othervars = moa_not_supported_df[moa_not_supported_df[\"category\"] == \"Other Variants\"]\n",
    "# print(othervars.head())\n",
    "type(othervars)\n",
    "othervars.head"
   ]
  },
  {
   "cell_type": "code",
   "execution_count": null,
   "metadata": {},
   "outputs": [],
   "source": [
    "moa__not_supported_category_counts = moa_not_supported_df[\"category\"].value_counts(dropna=False)\n",
    "moa__not_supported_category_counts.head()\n",
    "indeces = moa__not_supported_category_counts.index\n",
    "for i in range(len(moa__not_supported_category_counts)):\n",
    "    variant = moa__not_supported_category_counts.index[i]\n",
    "    count = moa__not_supported_category_counts[i]\n",
    "    print(variant, count)\n",
    "    target_category = moa_category_bins[variant]\n",
    "    # print(target_category)\n",
    "    category_counts[target_category][unsupported_count] += count\n",
    "    category_counts[target_category][total_count] += count\n",
    "\n",
    "for i in category_counts.items():\n",
    "    print(i)\n"
   ]
  },
  {
   "cell_type": "markdown",
   "metadata": {},
   "source": [
    "## ClinVar\n",
    "\n",
    "Get df from ClinVar Analysis"
   ]
  },
  {
   "cell_type": "markdown",
   "metadata": {},
   "source": [
    "Get Clinvar Variant counts by category, update variant counts df "
   ]
  },
  {
   "cell_type": "markdown",
   "metadata": {},
   "source": [
    "Output counts df"
   ]
  },
  {
   "cell_type": "markdown",
   "metadata": {},
   "source": [
    "Generate figure(?)"
   ]
  }
 ],
 "metadata": {
  "kernelspec": {
   "display_name": "Python 3",
   "language": "python",
   "name": "python3"
  },
  "language_info": {
   "codemirror_mode": {
    "name": "ipython",
    "version": 3
   },
   "file_extension": ".py",
   "mimetype": "text/x-python",
   "name": "python",
   "nbconvert_exporter": "python",
   "pygments_lexer": "ipython3",
   "version": "3.11.4"
  },
  "orig_nbformat": 4
 },
 "nbformat": 4,
 "nbformat_minor": 2
}
