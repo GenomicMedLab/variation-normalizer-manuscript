{
 "cells": [
  {
   "cell_type": "markdown",
   "metadata": {},
   "source": [
    "# <a id='toc1_'></a>[Normalizer Performance Analysis](#toc0_)\n",
    "\n",
    "This notebook contains an analysis of the normalizer performance on the CIViC, MOA, and Clinvar data"
   ]
  },
  {
   "cell_type": "markdown",
   "metadata": {},
   "source": [
    "## <a id='toc1_1_'></a>[Import relevant packages](#toc0_)"
   ]
  },
  {
   "cell_type": "code",
   "execution_count": 1,
   "metadata": {},
   "outputs": [],
   "source": [
    "import pandas as pd\n",
    "import numpy as np\n",
    "import json\n",
    "import re\n",
    "import plotly.graph_objects as go\n",
    "from enum import Enum\n",
    "from enum import IntEnum"
   ]
  },
  {
   "cell_type": "markdown",
   "metadata": {},
   "source": [
    "## <a id='toc1_2_'></a>[Dictionaries to map variants to categories and record category counts](#toc0_)"
   ]
  },
  {
   "cell_type": "markdown",
   "metadata": {},
   "source": [
    "Bin variants to categories.\n",
    "\n",
    "For variants with multiple associated types:  If the 2+ types have a subset relationship (eg frameshift; frameshift truncation), they are assigned to categories consistent with the superset type (frameshift).  If the types are disjoint (eg: Transcript Variant; Loss of Function Variant), they are assigned with the category most closely associated with the assayed data (Transcript Variant).  This assignment is done in the civic_category_bins dictionary."
   ]
  },
  {
   "cell_type": "code",
   "execution_count": 2,
   "metadata": {},
   "outputs": [],
   "source": [
    "civic_category_bins = {\n",
    "    \"Delins\":\"Sequence Variants\",\n",
    "    \"Direct Tandem Duplication\":\"Sequence Variants\",\n",
    "    \"Disruptive Inframe Deletion\":\"Sequence Variants\",\n",
    "    \"Disruptive Inframe Insertion\":\"Sequence Variants\",\n",
    "    \"Coding Sequence Variant\":\"Sequence Variants\",\n",
    "    \"Conservative Inframe Deletion\":\"Sequence Variants\",\n",
    "    \"Copy Number Variants\":\"Copy Number Variants\",\n",
    "    \"Frameshift\":\"Sequence Variants\",\n",
    "    \"Frameshift Truncation\":\"Sequence Variants\",\n",
    "    \"Frameshift Variant\":\"Sequence Variants\",\n",
    "    \"Frameshift Variant;Minus 1 Frameshift Variant\":\"Sequence Variants\",\n",
    "    \"Inframe Deletion\":\"Sequence Variants\",\n",
    "    \"Inframe Indel\":\"Sequence Variants\",\n",
    "    \"Inframe Insertion\":\"Sequence Variants\",\n",
    "    \"Intron Variant\":\"Region-Defined Variants\",\n",
    "    \"Minus 1 Frameshift Variant\":\"Sequence Variants\",\n",
    "    \"Minus 2 Frameshift Variant\":\"Sequence Variants\",\n",
    "    \"Missense Variant\":\"Sequence Variants\",\n",
    "    \"Non Conservative Missense Variant\":\"Sequence Variants\",\n",
    "    \"Plus 1 Frameshift Variant\":\"Sequence Variants\",\n",
    "    \"Region-Defined Variant\":\"Region-Defined Variants\",\n",
    "    \"Regulatory Region Variant\":\"Region-Defined Variants\",\n",
    "    \"Sequence Variants\":\"Sequence Variants\",\n",
    "    \"Splice Acceptor Variant\":\"Region-Defined Variants\",\n",
    "    \"Splice Donor Region Variant\":\"Region-Defined Variants\",\n",
    "    \"Splice Donor Variant\":\"Region-Defined Variants\",\n",
    "    \"Splicing Variant\":\"Other Variants\",\n",
    "    \"Start Lost\":\"Sequence Variants\",\n",
    "    \"Stop Gained\":\"Sequence Variants\",\n",
    "    \"Stop Lost\":\"Sequence Variants\",\n",
    "    \"Synonymous Variant\":\"Sequence Variants\",\n",
    "    \"Transcript Amplification\":\"Copy Number Variants\",\n",
    "    \"Transcript Fusion\":\"Fusion Variants\",\n",
    "    \"3 Prime UTR Variant\":\"Region-Defined Variants\",\n",
    "    \"Amino Acid Deletion;Inframe Deletion\":\"Sequence Variants\",\n",
    "    \"Frameshift Truncation;Minus 2 Frameshift Variant\":\"Sequence Variants\",\n",
    "    \"Frameshift Truncation;Plus 2 Frameshift Variant\":\"Sequence Variants\",\n",
    "    \"Frameshift Variant;Delins\":\"Sequence Variants\",\n",
    "    \"Inframe Insertion;Delins\":\"Sequence Variants\",\n",
    "    \"Inframe Insertion;Inframe Deletion;Delins\":\"Sequence Variants\",\n",
    "    \"Inframe Variant;Inframe Insertion;Inframe Deletion;Delins \":\"Sequence Variants\",\n",
    "    \"Minus 1 Frameshift Variant;Frameshift Truncation\":\"Sequence Variants\",\n",
    "    \"Plus 1 Frameshift Variant;Frameshift Elongation\":\"Sequence Variants\",\n",
    "    \"Plus 1 Frameshift Variant;Frameshift Truncation\":\"Sequence Variants\",\n",
    "    \"Missense Variant;Gain Of Function Variant\":\"Sequence Variants\", \n",
    "    \"Missense Variant;Loss Of Function Variant\":\"Sequence Variants\", \n",
    "    \"Missense Variant;Loss Of Heterozygosity\":\"Sequence Variants\", \n",
    "    \"Missense Variant;Polymorphic Sequence Variant\":\"Sequence Variants\", \n",
    "    \"Missense Variant;Snp\":\"Sequence Variants\", \n",
    "    \"Missense Variant;Transcript Fusion\":\"Sequence Variants\",\n",
    "    \"Stop Gained;Loss Of Function Variant\":\"Sequence Variants\",\n",
    "    \"Stop Lost;Inframe Deletion\":\"Sequence Variants\"\n",
    "}\n",
    "\n",
    "\n",
    "\n",
    "moa_category_bins = {\n",
    "    \"Copy Number Variants\": \"Copy Number Variants\",\n",
    "    \"Expression Variants\": \"Expression Variants\",\n",
    "    \"Other Variants\": \"Other Variants\",\n",
    "    \"Rearrangement Variants\": \"Rearrangement Variants\",\n",
    "    \"Sequence Variants\": \"Sequence Variants\"\n",
    "}\n",
    "\n",
    "\n",
    "\n",
    "clinvar_category_bins = {\n",
    "    \"Complex\":\"Other Variants\",\n",
    "    \"CompoundHeterozygote\":\"Genotype Variants\",\n",
    "    \"Deletion\":\"Sequence Variants\",\n",
    "    \"Diplotype\":\"Genotype Variants\",\n",
    "    \"Distinct chromosomes\":\"Rearrangement Variants\",\n",
    "    \"Duplication\":\"Sequence Variants\",\n",
    "    \"Haplotype\":\"Sequence Variants\",\n",
    "    \"Haplotype, single variant\":\"Sequence Variants\",\n",
    "    \"Indel\":\"Sequence Variants\",\n",
    "    \"Insertion\":\"Sequence Variants\",\n",
    "    \"Inversion\":\"Sequence Variants\",\n",
    "    \"Microsatellite\":\"Sequence Variants\",\n",
    "    \"Phase unknown\":\"Other Variants\",\n",
    "    \"Tandem duplication\":\"Sequence Variants\",\n",
    "    \"Translocation\":\"Rearrangement Variants\",\n",
    "    \"Variation\":\"Other Variants\",\n",
    "    \"copy number gain\":\"Copy Number Variants\",\n",
    "    \"copy number loss\":\"Copy Number Variants\",\n",
    "    \"fusion\":\"Fusion Variants\",\n",
    "    \"protein only\":\"Sequence Variants\",\n",
    "    \"single nucleotide variant\":\"Sequence Variants\"\n",
    "}"
   ]
  },
  {
   "cell_type": "markdown",
   "metadata": {},
   "source": [
    "These variables flag the fields in the dictionary item values below.  In category_counts, each entry is a list of integer values, representing, in order, the number of tokens normalized of that variant, the number ostensibly supported but unable to be normalized, the number of tokens that are not supported, and the total number of tokens."
   ]
  },
  {
   "cell_type": "code",
   "execution_count": 3,
   "metadata": {},
   "outputs": [],
   "source": [
    "class Fields(IntEnum):\n",
    "    \"\"\"Create IntEnum for count fields in the category_counts dict.\"\"\"\n",
    "    NORMALIZED_COUNT = 0\n",
    "    UNABLE_TO_NORMALIZE_COUNT = 1\n",
    "    UNSUPPORTED_COUNT = 2\n",
    "    TOTAL_COUNT = 3\n",
    "    PERCENT_NORMALIZED = 4"
   ]
  },
  {
   "cell_type": "code",
   "execution_count": 4,
   "metadata": {},
   "outputs": [],
   "source": [
    "category_counts = {\n",
    "    \"Copy Number Variants\":[0,0,0,0,0.0],\n",
    "    \"Epigenetic Modification\":[0,0,0,0,0.0],\n",
    "    \"Expression Variants\":[0,0,0,0,0.0],\n",
    "    \"Fusion Variants\":[0,0,0,0,0.0],\n",
    "    \"Gene Function Variants\":[0,0,0,0,0.0],\n",
    "    \"Genotype Variants\":[0,0,0,0,0.0],\n",
    "    \"Other Variants\":[0,0,0,0,0.0],\n",
    "    \"Rearrangement Variants\":[0,0,0,0,0.0],\n",
    "    \"Region-Defined Variants\":[0,0,0,0,0.0],\n",
    "    \"Sequence Variants\":[0,0,0,0,0.0]\n",
    "}"
   ]
  },
  {
   "cell_type": "markdown",
   "metadata": {},
   "source": [
    "## <a id='toc1_3_'></a>[CIViC](#toc0_)\n",
    "\n"
   ]
  },
  {
   "cell_type": "markdown",
   "metadata": {},
   "source": [
    "In order to score the normalizer's performance on the CIViC data, some cleaning is required.\n",
    "\n",
    "First we need to read in the data that was ostensibly supported, get rid of variants with multiple type labels, and assign variant types to as  many of the entries as possible that have a \"Not provided\" value for civic_variant_types."
   ]
  },
  {
   "cell_type": "markdown",
   "metadata": {},
   "source": [
    "Read in .csv of normalized variants in CIVIC"
   ]
  },
  {
   "cell_type": "code",
   "execution_count": 5,
   "metadata": {},
   "outputs": [
    {
     "data": {
      "text/html": [
       "<div>\n",
       "<style scoped>\n",
       "    .dataframe tbody tr th:only-of-type {\n",
       "        vertical-align: middle;\n",
       "    }\n",
       "\n",
       "    .dataframe tbody tr th {\n",
       "        vertical-align: top;\n",
       "    }\n",
       "\n",
       "    .dataframe thead th {\n",
       "        text-align: right;\n",
       "    }\n",
       "</style>\n",
       "<table border=\"1\" class=\"dataframe\">\n",
       "  <thead>\n",
       "    <tr style=\"text-align: right;\">\n",
       "      <th></th>\n",
       "      <th>variant_id</th>\n",
       "      <th>query</th>\n",
       "      <th>query_type</th>\n",
       "      <th>variant_accepted</th>\n",
       "      <th>civic_variant_types</th>\n",
       "      <th>vrs_id</th>\n",
       "      <th>succeeded_endpoint</th>\n",
       "    </tr>\n",
       "  </thead>\n",
       "  <tbody>\n",
       "    <tr>\n",
       "      <th>0</th>\n",
       "      <td>2489</td>\n",
       "      <td>NC_000003.11:g.10191648_10191649insC</td>\n",
       "      <td>genomic</td>\n",
       "      <td>True</td>\n",
       "      <td>Stop Lost</td>\n",
       "      <td>ga4gh:VA.A34ZoIhq4xBuQbcE3bkj29n6diS6RzLB</td>\n",
       "      <td>normalize</td>\n",
       "    </tr>\n",
       "    <tr>\n",
       "      <th>1</th>\n",
       "      <td>1988</td>\n",
       "      <td>NC_000003.11:g.10191649A&gt;T</td>\n",
       "      <td>genomic</td>\n",
       "      <td>True</td>\n",
       "      <td>Stop Lost</td>\n",
       "      <td>ga4gh:VA.JcEpDvhUtgDWU4A-bxqLUuczBNb8QqRf</td>\n",
       "      <td>normalize</td>\n",
       "    </tr>\n",
       "    <tr>\n",
       "      <th>2</th>\n",
       "      <td>2488</td>\n",
       "      <td>3-10191647-T-G</td>\n",
       "      <td>genomic</td>\n",
       "      <td>True</td>\n",
       "      <td>Stop Lost</td>\n",
       "      <td>ga4gh:VA.7nGd8dgHbqtxMHk_rLxrB6_IMAzJ8XnH</td>\n",
       "      <td>normalize</td>\n",
       "    </tr>\n",
       "    <tr>\n",
       "      <th>3</th>\n",
       "      <td>1986</td>\n",
       "      <td>NC_000003.11:g.10191648G&gt;T</td>\n",
       "      <td>genomic</td>\n",
       "      <td>True</td>\n",
       "      <td>Stop Lost</td>\n",
       "      <td>ga4gh:VA.AmLtooLEvgdnEHD5YVWk6u1e2XBe7FiP</td>\n",
       "      <td>normalize</td>\n",
       "    </tr>\n",
       "    <tr>\n",
       "      <th>4</th>\n",
       "      <td>1987</td>\n",
       "      <td>NC_000003.11:g.10191649A&gt;G</td>\n",
       "      <td>genomic</td>\n",
       "      <td>True</td>\n",
       "      <td>Stop Lost</td>\n",
       "      <td>ga4gh:VA.KIz00usFWEmJHNyqmVL61obfgfRPgOIa</td>\n",
       "      <td>normalize</td>\n",
       "    </tr>\n",
       "  </tbody>\n",
       "</table>\n",
       "</div>"
      ],
      "text/plain": [
       "   variant_id                                 query query_type  \\\n",
       "0        2489  NC_000003.11:g.10191648_10191649insC    genomic   \n",
       "1        1988            NC_000003.11:g.10191649A>T    genomic   \n",
       "2        2488                        3-10191647-T-G    genomic   \n",
       "3        1986            NC_000003.11:g.10191648G>T    genomic   \n",
       "4        1987            NC_000003.11:g.10191649A>G    genomic   \n",
       "\n",
       "   variant_accepted civic_variant_types  \\\n",
       "0              True           Stop Lost   \n",
       "1              True           Stop Lost   \n",
       "2              True           Stop Lost   \n",
       "3              True           Stop Lost   \n",
       "4              True           Stop Lost   \n",
       "\n",
       "                                      vrs_id succeeded_endpoint  \n",
       "0  ga4gh:VA.A34ZoIhq4xBuQbcE3bkj29n6diS6RzLB          normalize  \n",
       "1  ga4gh:VA.JcEpDvhUtgDWU4A-bxqLUuczBNb8QqRf          normalize  \n",
       "2  ga4gh:VA.7nGd8dgHbqtxMHk_rLxrB6_IMAzJ8XnH          normalize  \n",
       "3  ga4gh:VA.AmLtooLEvgdnEHD5YVWk6u1e2XBe7FiP          normalize  \n",
       "4  ga4gh:VA.KIz00usFWEmJHNyqmVL61obfgfRPgOIa          normalize  "
      ]
     },
     "execution_count": 5,
     "metadata": {},
     "output_type": "execute_result"
    }
   ],
   "source": [
    "civic_normalized_df = pd.read_csv(\"../civic/variation_analysis/able_to_normalize_queries.csv\",sep = \"\\t\")\n",
    "civic_normalized_df.head()"
   ]
  },
  {
   "cell_type": "markdown",
   "metadata": {},
   "source": [
    "Prune columns and add new column to flag as normalized."
   ]
  },
  {
   "cell_type": "code",
   "execution_count": 6,
   "metadata": {},
   "outputs": [
    {
     "data": {
      "text/html": [
       "<div>\n",
       "<style scoped>\n",
       "    .dataframe tbody tr th:only-of-type {\n",
       "        vertical-align: middle;\n",
       "    }\n",
       "\n",
       "    .dataframe tbody tr th {\n",
       "        vertical-align: top;\n",
       "    }\n",
       "\n",
       "    .dataframe thead th {\n",
       "        text-align: right;\n",
       "    }\n",
       "</style>\n",
       "<table border=\"1\" class=\"dataframe\">\n",
       "  <thead>\n",
       "    <tr style=\"text-align: right;\">\n",
       "      <th></th>\n",
       "      <th>variant_id</th>\n",
       "      <th>query</th>\n",
       "      <th>query_type</th>\n",
       "      <th>civic_variant_types</th>\n",
       "      <th>normalization_status</th>\n",
       "    </tr>\n",
       "  </thead>\n",
       "  <tbody>\n",
       "    <tr>\n",
       "      <th>0</th>\n",
       "      <td>2489</td>\n",
       "      <td>NC_000003.11:g.10191648_10191649insC</td>\n",
       "      <td>genomic</td>\n",
       "      <td>Stop Lost</td>\n",
       "      <td>normalized</td>\n",
       "    </tr>\n",
       "    <tr>\n",
       "      <th>1</th>\n",
       "      <td>1988</td>\n",
       "      <td>NC_000003.11:g.10191649A&gt;T</td>\n",
       "      <td>genomic</td>\n",
       "      <td>Stop Lost</td>\n",
       "      <td>normalized</td>\n",
       "    </tr>\n",
       "    <tr>\n",
       "      <th>2</th>\n",
       "      <td>2488</td>\n",
       "      <td>3-10191647-T-G</td>\n",
       "      <td>genomic</td>\n",
       "      <td>Stop Lost</td>\n",
       "      <td>normalized</td>\n",
       "    </tr>\n",
       "    <tr>\n",
       "      <th>3</th>\n",
       "      <td>1986</td>\n",
       "      <td>NC_000003.11:g.10191648G&gt;T</td>\n",
       "      <td>genomic</td>\n",
       "      <td>Stop Lost</td>\n",
       "      <td>normalized</td>\n",
       "    </tr>\n",
       "    <tr>\n",
       "      <th>4</th>\n",
       "      <td>1987</td>\n",
       "      <td>NC_000003.11:g.10191649A&gt;G</td>\n",
       "      <td>genomic</td>\n",
       "      <td>Stop Lost</td>\n",
       "      <td>normalized</td>\n",
       "    </tr>\n",
       "  </tbody>\n",
       "</table>\n",
       "</div>"
      ],
      "text/plain": [
       "   variant_id                                 query query_type  \\\n",
       "0        2489  NC_000003.11:g.10191648_10191649insC    genomic   \n",
       "1        1988            NC_000003.11:g.10191649A>T    genomic   \n",
       "2        2488                        3-10191647-T-G    genomic   \n",
       "3        1986            NC_000003.11:g.10191648G>T    genomic   \n",
       "4        1987            NC_000003.11:g.10191649A>G    genomic   \n",
       "\n",
       "  civic_variant_types normalization_status  \n",
       "0           Stop Lost           normalized  \n",
       "1           Stop Lost           normalized  \n",
       "2           Stop Lost           normalized  \n",
       "3           Stop Lost           normalized  \n",
       "4           Stop Lost           normalized  "
      ]
     },
     "execution_count": 6,
     "metadata": {},
     "output_type": "execute_result"
    }
   ],
   "source": [
    "pruned_civic_normalized_df = civic_normalized_df[[\"variant_id\",\"query\",\"query_type\",\"civic_variant_types\"]]\n",
    "pruned_civic_normalized_df.insert(4,\"normalization_status\",\"normalized\")\n",
    "pruned_civic_normalized_df.head()"
   ]
  },
  {
   "cell_type": "markdown",
   "metadata": {},
   "source": [
    "Repeat process with the variants that were unable to be normalized."
   ]
  },
  {
   "cell_type": "code",
   "execution_count": 7,
   "metadata": {},
   "outputs": [
    {
     "data": {
      "text/plain": [
       "(80, 8)"
      ]
     },
     "execution_count": 7,
     "metadata": {},
     "output_type": "execute_result"
    }
   ],
   "source": [
    "civic_not_normalized_df = pd.read_csv(\"../civic/variation_analysis/unable_to_normalize_queries.csv\",sep = \"\\t\")\n",
    "civic_not_normalized_df.shape"
   ]
  },
  {
   "cell_type": "code",
   "execution_count": 8,
   "metadata": {},
   "outputs": [
    {
     "data": {
      "text/html": [
       "<div>\n",
       "<style scoped>\n",
       "    .dataframe tbody tr th:only-of-type {\n",
       "        vertical-align: middle;\n",
       "    }\n",
       "\n",
       "    .dataframe tbody tr th {\n",
       "        vertical-align: top;\n",
       "    }\n",
       "\n",
       "    .dataframe thead th {\n",
       "        text-align: right;\n",
       "    }\n",
       "</style>\n",
       "<table border=\"1\" class=\"dataframe\">\n",
       "  <thead>\n",
       "    <tr style=\"text-align: right;\">\n",
       "      <th></th>\n",
       "      <th>variant_id</th>\n",
       "      <th>query</th>\n",
       "      <th>query_type</th>\n",
       "      <th>civic_variant_types</th>\n",
       "      <th>normalization_status</th>\n",
       "    </tr>\n",
       "  </thead>\n",
       "  <tbody>\n",
       "    <tr>\n",
       "      <th>0</th>\n",
       "      <td>748</td>\n",
       "      <td>MLH1 *757L</td>\n",
       "      <td>protein</td>\n",
       "      <td>Stop Lost</td>\n",
       "      <td>not_normalized</td>\n",
       "    </tr>\n",
       "    <tr>\n",
       "      <th>1</th>\n",
       "      <td>3718</td>\n",
       "      <td>AR A748V</td>\n",
       "      <td>protein</td>\n",
       "      <td>Not provided</td>\n",
       "      <td>not_normalized</td>\n",
       "    </tr>\n",
       "    <tr>\n",
       "      <th>2</th>\n",
       "      <td>3725</td>\n",
       "      <td>AR A765T</td>\n",
       "      <td>protein</td>\n",
       "      <td>Not provided</td>\n",
       "      <td>not_normalized</td>\n",
       "    </tr>\n",
       "    <tr>\n",
       "      <th>3</th>\n",
       "      <td>4485</td>\n",
       "      <td>ERBB2 A775_G776ins YVMA</td>\n",
       "      <td>protein</td>\n",
       "      <td>Not provided</td>\n",
       "      <td>not_normalized</td>\n",
       "    </tr>\n",
       "    <tr>\n",
       "      <th>4</th>\n",
       "      <td>248</td>\n",
       "      <td>TERT C228T</td>\n",
       "      <td>protein</td>\n",
       "      <td>Regulatory Region Variant</td>\n",
       "      <td>not_normalized</td>\n",
       "    </tr>\n",
       "  </tbody>\n",
       "</table>\n",
       "</div>"
      ],
      "text/plain": [
       "   variant_id                    query query_type        civic_variant_types  \\\n",
       "0         748               MLH1 *757L    protein                  Stop Lost   \n",
       "1        3718                 AR A748V    protein               Not provided   \n",
       "2        3725                 AR A765T    protein               Not provided   \n",
       "3        4485  ERBB2 A775_G776ins YVMA    protein               Not provided   \n",
       "4         248               TERT C228T    protein  Regulatory Region Variant   \n",
       "\n",
       "  normalization_status  \n",
       "0       not_normalized  \n",
       "1       not_normalized  \n",
       "2       not_normalized  \n",
       "3       not_normalized  \n",
       "4       not_normalized  "
      ]
     },
     "execution_count": 8,
     "metadata": {},
     "output_type": "execute_result"
    }
   ],
   "source": [
    "pruned_civic_not_normalized_df = civic_not_normalized_df[[\"variant_id\",\"query\",\"query_type\",\"civic_variant_types\"]]\n",
    "pruned_civic_not_normalized_df.insert(4,\"normalization_status\",\"not_normalized\")\n",
    "pruned_civic_not_normalized_df.head()"
   ]
  },
  {
   "cell_type": "markdown",
   "metadata": {},
   "source": [
    "Merge these dfs"
   ]
  },
  {
   "cell_type": "code",
   "execution_count": 9,
   "metadata": {},
   "outputs": [
    {
     "data": {
      "text/plain": [
       "(1956, 5)"
      ]
     },
     "execution_count": 9,
     "metadata": {},
     "output_type": "execute_result"
    }
   ],
   "source": [
    "frames = [pruned_civic_normalized_df, pruned_civic_not_normalized_df]\n",
    "civic_supported_df = pd.concat(frames)\n",
    "civic_supported_df.shape"
   ]
  },
  {
   "cell_type": "markdown",
   "metadata": {},
   "source": [
    "Making all queries in all caps to make it easier to account of untyped variants later on."
   ]
  },
  {
   "cell_type": "code",
   "execution_count": 10,
   "metadata": {},
   "outputs": [],
   "source": [
    "civic_supported_df[\"query\"] = civic_supported_df[\"query\"].apply(str.upper)"
   ]
  },
  {
   "cell_type": "markdown",
   "metadata": {},
   "source": [
    "Checking variant types.  The single largest types is \"Not provided\".  \n",
    "Most of these look like amino acid substitutions.\n",
    "Defining a regex to detect these variants and assign \"Missense Variant\" type to these variants."
   ]
  },
  {
   "cell_type": "code",
   "execution_count": 11,
   "metadata": {},
   "outputs": [
    {
     "data": {
      "text/plain": [
       "civic_variant_types\n",
       "Not provided                                                 816\n",
       "Missense Variant                                             815\n",
       "Stop Gained                                                   60\n",
       "Frameshift Truncation                                         36\n",
       "Transcript Amplification                                      36\n",
       "Inframe Deletion                                              35\n",
       "Minus 1 Frameshift Variant;Frameshift Truncation              21\n",
       "Inframe Insertion                                             17\n",
       "Synonymous Variant                                            13\n",
       "Splice Donor Variant                                          13\n",
       "Splice Acceptor Variant                                        9\n",
       "Missense Variant;Gain Of Function Variant                      9\n",
       "Frameshift Variant                                             7\n",
       "Stop Lost                                                      6\n",
       "Conservative Inframe Deletion                                  6\n",
       "Delins                                                         4\n",
       "Frameshift Truncation;Minus 2 Frameshift Variant               4\n",
       "Plus 1 Frameshift Variant;Frameshift Truncation                3\n",
       "Start Lost                                                     3\n",
       "3 Prime UTR Variant                                            3\n",
       "Splice Donor Region Variant                                    2\n",
       "Non Conservative Missense Variant                              2\n",
       "Regulatory Region Variant                                      2\n",
       "Coding Sequence Variant                                        2\n",
       "Missense Variant;Transcript Fusion                             2\n",
       "Stop Gained;Loss Of Function Variant                           2\n",
       "Disruptive Inframe Deletion                                    2\n",
       "Missense Variant;Polymorphic Sequence Variant                  2\n",
       "Missense Variant;Loss Of Function Variant                      2\n",
       "Minus 1 Frameshift Variant                                     2\n",
       "Inframe Variant;Inframe Insertion;Inframe Deletion;Delins      1\n",
       "Intron Variant                                                 1\n",
       "Frameshift Variant;Minus 1 Frameshift Variant                  1\n",
       "Frameshift Variant;Delins                                      1\n",
       "Direct Tandem Duplication                                      1\n",
       "Amino Acid Deletion;Inframe Deletion                           1\n",
       "Missense Variant;Snp                                           1\n",
       "Disruptive Inframe Insertion                                   1\n",
       "Splicing Variant                                               1\n",
       "Frameshift                                                     1\n",
       "Frameshift Truncation;Plus 2 Frameshift Variant                1\n",
       "Missense Variant;Loss Of Heterozygosity                        1\n",
       "Transcript Fusion                                              1\n",
       "Minus 2 Frameshift Variant                                     1\n",
       "Inframe Indel                                                  1\n",
       "Inframe Insertion;Inframe Deletion;Delins                      1\n",
       "Plus 1 Frameshift Variant                                      1\n",
       "Inframe Insertion;Delins                                       1\n",
       "Plus 1 Frameshift Variant;Frameshift Elongation                1\n",
       "Stop Lost;Inframe Deletion                                     1\n",
       "Name: count, dtype: int64"
      ]
     },
     "execution_count": 11,
     "metadata": {},
     "output_type": "execute_result"
    }
   ],
   "source": [
    "civic_supported_df[\"civic_variant_types\"].value_counts(dropna=False)"
   ]
  },
  {
   "cell_type": "markdown",
   "metadata": {},
   "source": [
    "If a variant does not have an assigned variant type in civic, if it is a protein query and the query matches a regex pattern associated with variant substitutions (such as \"PTEN A126D\"), then I am re-classifying them as a \"Missense Variant\" instead."
   ]
  },
  {
   "cell_type": "code",
   "execution_count": 12,
   "metadata": {},
   "outputs": [],
   "source": [
    "civic_supported_df[\"variant flag\"] = civic_supported_df[\"query\"].apply(lambda x: bool(re.match(\"\\S+\\s+[A-Z]+\\d+[A-Z|*]\", x)))\n",
    "civic_supported_df[\"civic_variant_types\"] = np.where((civic_supported_df[\"query_type\"] == \"protein\") & (civic_supported_df[\"civic_variant_types\"] == \"Not provided\") & (civic_supported_df[\"variant flag\"]), \"Missense Variant\", civic_supported_df[\"civic_variant_types\"])"
   ]
  },
  {
   "cell_type": "markdown",
   "metadata": {},
   "source": [
    "Doing so reduced the 816 untyped variants down to 70.\n",
    "Checking the remaining weird variants."
   ]
  },
  {
   "cell_type": "code",
   "execution_count": 13,
   "metadata": {},
   "outputs": [
    {
     "data": {
      "text/html": [
       "<div>\n",
       "<style scoped>\n",
       "    .dataframe tbody tr th:only-of-type {\n",
       "        vertical-align: middle;\n",
       "    }\n",
       "\n",
       "    .dataframe tbody tr th {\n",
       "        vertical-align: top;\n",
       "    }\n",
       "\n",
       "    .dataframe thead th {\n",
       "        text-align: right;\n",
       "    }\n",
       "</style>\n",
       "<table border=\"1\" class=\"dataframe\">\n",
       "  <thead>\n",
       "    <tr style=\"text-align: right;\">\n",
       "      <th></th>\n",
       "      <th>variant_id</th>\n",
       "      <th>query</th>\n",
       "      <th>query_type</th>\n",
       "      <th>civic_variant_types</th>\n",
       "      <th>normalization_status</th>\n",
       "      <th>variant flag</th>\n",
       "    </tr>\n",
       "  </thead>\n",
       "  <tbody>\n",
       "    <tr>\n",
       "      <th>11</th>\n",
       "      <td>3342</td>\n",
       "      <td>KRAS A11_G12INSGA</td>\n",
       "      <td>protein</td>\n",
       "      <td>Not provided</td>\n",
       "      <td>normalized</td>\n",
       "      <td>False</td>\n",
       "    </tr>\n",
       "    <tr>\n",
       "      <th>65</th>\n",
       "      <td>4484</td>\n",
       "      <td>ERBB2 A775_G776INSIVMA</td>\n",
       "      <td>protein</td>\n",
       "      <td>Not provided</td>\n",
       "      <td>normalized</td>\n",
       "      <td>False</td>\n",
       "    </tr>\n",
       "    <tr>\n",
       "      <th>66</th>\n",
       "      <td>2658</td>\n",
       "      <td>ERBB2 A775_G776INSYVMA</td>\n",
       "      <td>protein</td>\n",
       "      <td>Not provided</td>\n",
       "      <td>normalized</td>\n",
       "      <td>False</td>\n",
       "    </tr>\n",
       "    <tr>\n",
       "      <th>67</th>\n",
       "      <td>4483</td>\n",
       "      <td>ERBB2 A775_G776INSYVMA</td>\n",
       "      <td>protein</td>\n",
       "      <td>Not provided</td>\n",
       "      <td>normalized</td>\n",
       "      <td>False</td>\n",
       "    </tr>\n",
       "    <tr>\n",
       "      <th>74</th>\n",
       "      <td>3751</td>\n",
       "      <td>ARHGAP35 A865_L870DELINSV</td>\n",
       "      <td>protein</td>\n",
       "      <td>Not provided</td>\n",
       "      <td>normalized</td>\n",
       "      <td>False</td>\n",
       "    </tr>\n",
       "    <tr>\n",
       "      <th>82</th>\n",
       "      <td>2655</td>\n",
       "      <td>MYB AMPLIFICATION</td>\n",
       "      <td>protein</td>\n",
       "      <td>Not provided</td>\n",
       "      <td>normalized</td>\n",
       "      <td>False</td>\n",
       "    </tr>\n",
       "    <tr>\n",
       "      <th>110</th>\n",
       "      <td>1261</td>\n",
       "      <td>MDM2 AMPLIFICATION</td>\n",
       "      <td>protein</td>\n",
       "      <td>Not provided</td>\n",
       "      <td>normalized</td>\n",
       "      <td>False</td>\n",
       "    </tr>\n",
       "    <tr>\n",
       "      <th>113</th>\n",
       "      <td>1276</td>\n",
       "      <td>SMO AMPLIFICATION</td>\n",
       "      <td>protein</td>\n",
       "      <td>Not provided</td>\n",
       "      <td>normalized</td>\n",
       "      <td>False</td>\n",
       "    </tr>\n",
       "    <tr>\n",
       "      <th>116</th>\n",
       "      <td>1684</td>\n",
       "      <td>PSMD4 AMPLIFICATION</td>\n",
       "      <td>protein</td>\n",
       "      <td>Not provided</td>\n",
       "      <td>normalized</td>\n",
       "      <td>False</td>\n",
       "    </tr>\n",
       "    <tr>\n",
       "      <th>118</th>\n",
       "      <td>2205</td>\n",
       "      <td>FLT4 AMPLIFICATION</td>\n",
       "      <td>protein</td>\n",
       "      <td>Not provided</td>\n",
       "      <td>normalized</td>\n",
       "      <td>False</td>\n",
       "    </tr>\n",
       "    <tr>\n",
       "      <th>119</th>\n",
       "      <td>2240</td>\n",
       "      <td>TLK2 AMPLIFICATION</td>\n",
       "      <td>protein</td>\n",
       "      <td>Not provided</td>\n",
       "      <td>normalized</td>\n",
       "      <td>False</td>\n",
       "    </tr>\n",
       "    <tr>\n",
       "      <th>120</th>\n",
       "      <td>2397</td>\n",
       "      <td>CRKL AMPLIFICATION</td>\n",
       "      <td>protein</td>\n",
       "      <td>Not provided</td>\n",
       "      <td>normalized</td>\n",
       "      <td>False</td>\n",
       "    </tr>\n",
       "    <tr>\n",
       "      <th>121</th>\n",
       "      <td>2550</td>\n",
       "      <td>NRAS AMPLIFICATION</td>\n",
       "      <td>protein</td>\n",
       "      <td>Not provided</td>\n",
       "      <td>normalized</td>\n",
       "      <td>False</td>\n",
       "    </tr>\n",
       "    <tr>\n",
       "      <th>122</th>\n",
       "      <td>2564</td>\n",
       "      <td>MYC AMPLIFICATION</td>\n",
       "      <td>protein</td>\n",
       "      <td>Not provided</td>\n",
       "      <td>normalized</td>\n",
       "      <td>False</td>\n",
       "    </tr>\n",
       "    <tr>\n",
       "      <th>123</th>\n",
       "      <td>2598</td>\n",
       "      <td>IRS2 AMPLIFICATION</td>\n",
       "      <td>protein</td>\n",
       "      <td>Not provided</td>\n",
       "      <td>normalized</td>\n",
       "      <td>False</td>\n",
       "    </tr>\n",
       "    <tr>\n",
       "      <th>124</th>\n",
       "      <td>2619</td>\n",
       "      <td>FLT3 AMPLIFICATION</td>\n",
       "      <td>protein</td>\n",
       "      <td>Not provided</td>\n",
       "      <td>normalized</td>\n",
       "      <td>False</td>\n",
       "    </tr>\n",
       "    <tr>\n",
       "      <th>125</th>\n",
       "      <td>2637</td>\n",
       "      <td>KDR AMPLIFICATION</td>\n",
       "      <td>protein</td>\n",
       "      <td>Not provided</td>\n",
       "      <td>normalized</td>\n",
       "      <td>False</td>\n",
       "    </tr>\n",
       "    <tr>\n",
       "      <th>126</th>\n",
       "      <td>2746</td>\n",
       "      <td>CCND2 AMPLIFICATION</td>\n",
       "      <td>protein</td>\n",
       "      <td>Not provided</td>\n",
       "      <td>normalized</td>\n",
       "      <td>False</td>\n",
       "    </tr>\n",
       "    <tr>\n",
       "      <th>127</th>\n",
       "      <td>2747</td>\n",
       "      <td>CCND3 AMPLIFICATION</td>\n",
       "      <td>protein</td>\n",
       "      <td>Not provided</td>\n",
       "      <td>normalized</td>\n",
       "      <td>False</td>\n",
       "    </tr>\n",
       "    <tr>\n",
       "      <th>128</th>\n",
       "      <td>2844</td>\n",
       "      <td>MITF AMPLIFICATION</td>\n",
       "      <td>protein</td>\n",
       "      <td>Not provided</td>\n",
       "      <td>normalized</td>\n",
       "      <td>False</td>\n",
       "    </tr>\n",
       "  </tbody>\n",
       "</table>\n",
       "</div>"
      ],
      "text/plain": [
       "     variant_id                      query query_type civic_variant_types  \\\n",
       "11         3342          KRAS A11_G12INSGA    protein        Not provided   \n",
       "65         4484     ERBB2 A775_G776INSIVMA    protein        Not provided   \n",
       "66         2658     ERBB2 A775_G776INSYVMA    protein        Not provided   \n",
       "67         4483     ERBB2 A775_G776INSYVMA    protein        Not provided   \n",
       "74         3751  ARHGAP35 A865_L870DELINSV    protein        Not provided   \n",
       "82         2655          MYB AMPLIFICATION    protein        Not provided   \n",
       "110        1261         MDM2 AMPLIFICATION    protein        Not provided   \n",
       "113        1276          SMO AMPLIFICATION    protein        Not provided   \n",
       "116        1684        PSMD4 AMPLIFICATION    protein        Not provided   \n",
       "118        2205         FLT4 AMPLIFICATION    protein        Not provided   \n",
       "119        2240         TLK2 AMPLIFICATION    protein        Not provided   \n",
       "120        2397         CRKL AMPLIFICATION    protein        Not provided   \n",
       "121        2550         NRAS AMPLIFICATION    protein        Not provided   \n",
       "122        2564          MYC AMPLIFICATION    protein        Not provided   \n",
       "123        2598         IRS2 AMPLIFICATION    protein        Not provided   \n",
       "124        2619         FLT3 AMPLIFICATION    protein        Not provided   \n",
       "125        2637          KDR AMPLIFICATION    protein        Not provided   \n",
       "126        2746        CCND2 AMPLIFICATION    protein        Not provided   \n",
       "127        2747        CCND3 AMPLIFICATION    protein        Not provided   \n",
       "128        2844         MITF AMPLIFICATION    protein        Not provided   \n",
       "\n",
       "    normalization_status  variant flag  \n",
       "11            normalized         False  \n",
       "65            normalized         False  \n",
       "66            normalized         False  \n",
       "67            normalized         False  \n",
       "74            normalized         False  \n",
       "82            normalized         False  \n",
       "110           normalized         False  \n",
       "113           normalized         False  \n",
       "116           normalized         False  \n",
       "118           normalized         False  \n",
       "119           normalized         False  \n",
       "120           normalized         False  \n",
       "121           normalized         False  \n",
       "122           normalized         False  \n",
       "123           normalized         False  \n",
       "124           normalized         False  \n",
       "125           normalized         False  \n",
       "126           normalized         False  \n",
       "127           normalized         False  \n",
       "128           normalized         False  "
      ]
     },
     "execution_count": 13,
     "metadata": {},
     "output_type": "execute_result"
    }
   ],
   "source": [
    "untyped_variants = civic_supported_df[civic_supported_df[\"civic_variant_types\"] == \"Not provided\"]\n",
    "untyped_variants.head(20)"
   ]
  },
  {
   "cell_type": "markdown",
   "metadata": {},
   "source": [
    "Reassigning variants marked as {gene} Amplification as Transcript Amplification Variants"
   ]
  },
  {
   "cell_type": "code",
   "execution_count": 14,
   "metadata": {},
   "outputs": [],
   "source": [
    "civic_supported_df[\"variant flag\"] = civic_supported_df[\"query\"].apply(lambda x: bool(re.match(\"\\S+\\s+AMPLIFICATION\", x)))\n",
    "civic_supported_df[\"civic_variant_types\"] = np.where((civic_supported_df[\"query_type\"] == \"protein\") & (civic_supported_df[\"civic_variant_types\"] == \"Not provided\") & (civic_supported_df[\"variant flag\"]), \"Transcript Amplification\", civic_supported_df[\"civic_variant_types\"])\n"
   ]
  },
  {
   "cell_type": "markdown",
   "metadata": {},
   "source": [
    "Reassigning amino acid insertions, delins, and deletions as \"Missense Variant\", including a couple of variants that have a random space before or after the sequence operation like \"INS\""
   ]
  },
  {
   "cell_type": "code",
   "execution_count": 15,
   "metadata": {},
   "outputs": [],
   "source": [
    "civic_supported_df[\"variant flag\"] = civic_supported_df[\"query\"].apply(lambda x: bool(re.match(\"\\S+\\s+[A-Z]+\\d+_+[A-Z]+\\d+INS+[A-Z]\", x)))\n",
    "civic_supported_df[\"civic_variant_types\"] = np.where((civic_supported_df[\"query_type\"] == \"protein\") & (civic_supported_df[\"civic_variant_types\"] == \"Not provided\") & (civic_supported_df[\"variant flag\"]), \"Missense Variant\", civic_supported_df[\"civic_variant_types\"])\n"
   ]
  },
  {
   "cell_type": "code",
   "execution_count": 16,
   "metadata": {},
   "outputs": [],
   "source": [
    "civic_supported_df[\"variant flag\"] = civic_supported_df[\"query\"].apply(lambda x: bool(re.match(\"\\S+\\s+[A-Z]+\\d+_+[A-Z]+\\d+INS+\\s+[A-Z]\", x)))\n",
    "civic_supported_df[\"civic_variant_types\"] = np.where((civic_supported_df[\"query_type\"] == \"protein\") & (civic_supported_df[\"civic_variant_types\"] == \"Not provided\") & (civic_supported_df[\"variant flag\"]), \"Missense Variant\", civic_supported_df[\"civic_variant_types\"])"
   ]
  },
  {
   "cell_type": "code",
   "execution_count": 17,
   "metadata": {},
   "outputs": [],
   "source": [
    "civic_supported_df[\"variant flag\"] = civic_supported_df[\"query\"].apply(lambda x: bool(re.match(\"\\S+\\s+[A-Z]+\\d+-+\\d+\\s+INS+[A-Z]\", x)))\n",
    "civic_supported_df[\"civic_variant_types\"] = np.where((civic_supported_df[\"query_type\"] == \"protein\") & (civic_supported_df[\"civic_variant_types\"] == \"Not provided\") & (civic_supported_df[\"variant flag\"]), \"Missense Variant\", civic_supported_df[\"civic_variant_types\"])"
   ]
  },
  {
   "cell_type": "code",
   "execution_count": 18,
   "metadata": {},
   "outputs": [],
   "source": [
    "civic_supported_df[\"variant flag\"] = civic_supported_df[\"query\"].apply(lambda x: bool(re.match(\"\\S+\\s+[A-Z]+\\d+_+[A-Z]+\\d+DELINS+[A-Z]\", x)))\n",
    "civic_supported_df[\"civic_variant_types\"] = np.where((civic_supported_df[\"query_type\"] == \"protein\") & (civic_supported_df[\"civic_variant_types\"] == \"Not provided\") & (civic_supported_df[\"variant flag\"]), \"Missense Variant\", civic_supported_df[\"civic_variant_types\"])\n"
   ]
  },
  {
   "cell_type": "code",
   "execution_count": 19,
   "metadata": {},
   "outputs": [],
   "source": [
    "civic_supported_df[\"variant flag\"] = civic_supported_df[\"query\"].apply(lambda x: bool(re.match(\"\\S+\\s+[A-Z]+\\d+_+[A-Z]+\\d+DEL\", x)))\n",
    "civic_supported_df[\"civic_variant_types\"] = np.where((civic_supported_df[\"query_type\"] == \"protein\") & (civic_supported_df[\"civic_variant_types\"] == \"Not provided\") & (civic_supported_df[\"variant flag\"]), \"Missense Variant\", civic_supported_df[\"civic_variant_types\"])\n"
   ]
  },
  {
   "cell_type": "markdown",
   "metadata": {},
   "source": [
    "And assigning missense types to a handful of remaining variants that are non-standard names for genomic and protein sequence variants"
   ]
  },
  {
   "cell_type": "code",
   "execution_count": 20,
   "metadata": {},
   "outputs": [],
   "source": [
    "civic_supported_df[\"variant flag\"] = civic_supported_df[\"query\"].apply(lambda x: bool(re.match(\"\\S+\\s+P\\.+[A-Z]+\\d+[A-Z]\", x)))\n",
    "civic_supported_df[\"civic_variant_types\"] = np.where((civic_supported_df[\"query_type\"] == \"protein\") & (civic_supported_df[\"civic_variant_types\"] == \"Not provided\") & (civic_supported_df[\"variant flag\"]), \"Missense Variant\", civic_supported_df[\"civic_variant_types\"])\n"
   ]
  },
  {
   "cell_type": "code",
   "execution_count": 21,
   "metadata": {},
   "outputs": [],
   "source": [
    "civic_supported_df[\"variant flag\"] = civic_supported_df[\"query\"].apply(lambda x: bool(re.match(\"\\S+[A-Z]+\\-+[A-Z]\", x)))\n",
    "civic_supported_df[\"civic_variant_types\"] = np.where((civic_supported_df[\"query_type\"] == \"genomic\") & (civic_supported_df[\"civic_variant_types\"] == \"Not provided\") & (civic_supported_df[\"variant flag\"]), \"Missense Variant\", civic_supported_df[\"civic_variant_types\"])"
   ]
  },
  {
   "cell_type": "code",
   "execution_count": 22,
   "metadata": {},
   "outputs": [],
   "source": [
    "civic_supported_df[\"variant flag\"] = civic_supported_df[\"query\"].apply(lambda x: bool(re.match(\"NC_\\d+\\.+\\d+:[A-Z]+\\.+\\d+[A-Z]+>+[A-Z]\", x)))\n",
    "civic_supported_df[\"civic_variant_types\"] = np.where((civic_supported_df[\"query_type\"] == \"genomic\") & (civic_supported_df[\"civic_variant_types\"] == \"Not provided\") & (civic_supported_df[\"variant flag\"]), \"Missense Variant\", civic_supported_df[\"civic_variant_types\"])"
   ]
  },
  {
   "cell_type": "code",
   "execution_count": 23,
   "metadata": {},
   "outputs": [],
   "source": [
    "civic_supported_df[\"variant flag\"] = civic_supported_df[\"query\"].apply(lambda x: bool(re.match(\"NC_\\d+\\.+\\d+:[A-Z]+\\.+\\d+_+\\d+INS+[A-Z]\", x)))\n",
    "civic_supported_df[\"civic_variant_types\"] = np.where((civic_supported_df[\"query_type\"] == \"genomic\") & (civic_supported_df[\"civic_variant_types\"] == \"Not provided\") & (civic_supported_df[\"variant flag\"]), \"Missense Variant\", civic_supported_df[\"civic_variant_types\"])"
   ]
  },
  {
   "cell_type": "markdown",
   "metadata": {},
   "source": [
    "This last variant is a unique (to this db) nonstandard nomenclature for just some variant in a particular domain, so it is a region-defined variant."
   ]
  },
  {
   "cell_type": "code",
   "execution_count": 24,
   "metadata": {},
   "outputs": [],
   "source": [
    "civic_supported_df[\"variant flag\"] = civic_supported_df[\"query\"].apply(lambda x: bool(re.match(\"DICER1 RNASE IIIB MUTATION\", x)))\n",
    "civic_supported_df[\"civic_variant_types\"] = np.where((civic_supported_df[\"query_type\"] == \"protein\") & (civic_supported_df[\"civic_variant_types\"] == \"Not provided\") & (civic_supported_df[\"variant flag\"]), \"Region-Defined Variant\", civic_supported_df[\"civic_variant_types\"])"
   ]
  },
  {
   "cell_type": "markdown",
   "metadata": {},
   "source": [
    "Add category column to CIViC df."
   ]
  },
  {
   "cell_type": "code",
   "execution_count": 25,
   "metadata": {},
   "outputs": [
    {
     "data": {
      "text/html": [
       "<div>\n",
       "<style scoped>\n",
       "    .dataframe tbody tr th:only-of-type {\n",
       "        vertical-align: middle;\n",
       "    }\n",
       "\n",
       "    .dataframe tbody tr th {\n",
       "        vertical-align: top;\n",
       "    }\n",
       "\n",
       "    .dataframe thead th {\n",
       "        text-align: right;\n",
       "    }\n",
       "</style>\n",
       "<table border=\"1\" class=\"dataframe\">\n",
       "  <thead>\n",
       "    <tr style=\"text-align: right;\">\n",
       "      <th></th>\n",
       "      <th>variant_id</th>\n",
       "      <th>query</th>\n",
       "      <th>query_type</th>\n",
       "      <th>civic_variant_types</th>\n",
       "      <th>normalization_status</th>\n",
       "      <th>variant flag</th>\n",
       "      <th>category</th>\n",
       "    </tr>\n",
       "  </thead>\n",
       "  <tbody>\n",
       "    <tr>\n",
       "      <th>75</th>\n",
       "      <td>953</td>\n",
       "      <td>KIT Y553_K558DEL</td>\n",
       "      <td>protein</td>\n",
       "      <td>Inframe Deletion</td>\n",
       "      <td>not_normalized</td>\n",
       "      <td>False</td>\n",
       "      <td>Sequence Variants</td>\n",
       "    </tr>\n",
       "    <tr>\n",
       "      <th>76</th>\n",
       "      <td>1542</td>\n",
       "      <td>KIT Y553_W557DELYEVQW</td>\n",
       "      <td>protein</td>\n",
       "      <td>Inframe Deletion</td>\n",
       "      <td>not_normalized</td>\n",
       "      <td>False</td>\n",
       "      <td>Sequence Variants</td>\n",
       "    </tr>\n",
       "    <tr>\n",
       "      <th>77</th>\n",
       "      <td>1548</td>\n",
       "      <td>KIT Y570_L576DEL</td>\n",
       "      <td>protein</td>\n",
       "      <td>Inframe Deletion</td>\n",
       "      <td>not_normalized</td>\n",
       "      <td>False</td>\n",
       "      <td>Sequence Variants</td>\n",
       "    </tr>\n",
       "    <tr>\n",
       "      <th>78</th>\n",
       "      <td>1630</td>\n",
       "      <td>FLT3 Y591_V592INSVDFREYE</td>\n",
       "      <td>protein</td>\n",
       "      <td>Missense Variant</td>\n",
       "      <td>not_normalized</td>\n",
       "      <td>False</td>\n",
       "      <td>Sequence Variants</td>\n",
       "    </tr>\n",
       "    <tr>\n",
       "      <th>79</th>\n",
       "      <td>3724</td>\n",
       "      <td>AR Y763C</td>\n",
       "      <td>protein</td>\n",
       "      <td>Missense Variant</td>\n",
       "      <td>not_normalized</td>\n",
       "      <td>False</td>\n",
       "      <td>Sequence Variants</td>\n",
       "    </tr>\n",
       "  </tbody>\n",
       "</table>\n",
       "</div>"
      ],
      "text/plain": [
       "    variant_id                     query query_type civic_variant_types  \\\n",
       "75         953          KIT Y553_K558DEL    protein    Inframe Deletion   \n",
       "76        1542     KIT Y553_W557DELYEVQW    protein    Inframe Deletion   \n",
       "77        1548          KIT Y570_L576DEL    protein    Inframe Deletion   \n",
       "78        1630  FLT3 Y591_V592INSVDFREYE    protein    Missense Variant   \n",
       "79        3724                  AR Y763C    protein    Missense Variant   \n",
       "\n",
       "   normalization_status  variant flag           category  \n",
       "75       not_normalized         False  Sequence Variants  \n",
       "76       not_normalized         False  Sequence Variants  \n",
       "77       not_normalized         False  Sequence Variants  \n",
       "78       not_normalized         False  Sequence Variants  \n",
       "79       not_normalized         False  Sequence Variants  "
      ]
     },
     "execution_count": 25,
     "metadata": {},
     "output_type": "execute_result"
    }
   ],
   "source": [
    "civic_supported_df[\"category\"] = civic_supported_df[\"civic_variant_types\"].map(civic_category_bins)\n",
    "civic_supported_df.tail()"
   ]
  },
  {
   "cell_type": "markdown",
   "metadata": {},
   "source": [
    "Split df by normalized/not_normalized flag"
   ]
  },
  {
   "cell_type": "code",
   "execution_count": 26,
   "metadata": {},
   "outputs": [
    {
     "data": {
      "text/html": [
       "<div>\n",
       "<style scoped>\n",
       "    .dataframe tbody tr th:only-of-type {\n",
       "        vertical-align: middle;\n",
       "    }\n",
       "\n",
       "    .dataframe tbody tr th {\n",
       "        vertical-align: top;\n",
       "    }\n",
       "\n",
       "    .dataframe thead th {\n",
       "        text-align: right;\n",
       "    }\n",
       "</style>\n",
       "<table border=\"1\" class=\"dataframe\">\n",
       "  <thead>\n",
       "    <tr style=\"text-align: right;\">\n",
       "      <th></th>\n",
       "      <th>variant_id</th>\n",
       "      <th>query</th>\n",
       "      <th>query_type</th>\n",
       "      <th>civic_variant_types</th>\n",
       "      <th>normalization_status</th>\n",
       "      <th>variant flag</th>\n",
       "      <th>category</th>\n",
       "    </tr>\n",
       "  </thead>\n",
       "  <tbody>\n",
       "    <tr>\n",
       "      <th>0</th>\n",
       "      <td>2489</td>\n",
       "      <td>NC_000003.11:G.10191648_10191649INSC</td>\n",
       "      <td>genomic</td>\n",
       "      <td>Stop Lost</td>\n",
       "      <td>normalized</td>\n",
       "      <td>False</td>\n",
       "      <td>Sequence Variants</td>\n",
       "    </tr>\n",
       "    <tr>\n",
       "      <th>1</th>\n",
       "      <td>1988</td>\n",
       "      <td>NC_000003.11:G.10191649A&gt;T</td>\n",
       "      <td>genomic</td>\n",
       "      <td>Stop Lost</td>\n",
       "      <td>normalized</td>\n",
       "      <td>False</td>\n",
       "      <td>Sequence Variants</td>\n",
       "    </tr>\n",
       "    <tr>\n",
       "      <th>2</th>\n",
       "      <td>2488</td>\n",
       "      <td>3-10191647-T-G</td>\n",
       "      <td>genomic</td>\n",
       "      <td>Stop Lost</td>\n",
       "      <td>normalized</td>\n",
       "      <td>False</td>\n",
       "      <td>Sequence Variants</td>\n",
       "    </tr>\n",
       "    <tr>\n",
       "      <th>3</th>\n",
       "      <td>1986</td>\n",
       "      <td>NC_000003.11:G.10191648G&gt;T</td>\n",
       "      <td>genomic</td>\n",
       "      <td>Stop Lost</td>\n",
       "      <td>normalized</td>\n",
       "      <td>False</td>\n",
       "      <td>Sequence Variants</td>\n",
       "    </tr>\n",
       "    <tr>\n",
       "      <th>4</th>\n",
       "      <td>1987</td>\n",
       "      <td>NC_000003.11:G.10191649A&gt;G</td>\n",
       "      <td>genomic</td>\n",
       "      <td>Stop Lost</td>\n",
       "      <td>normalized</td>\n",
       "      <td>False</td>\n",
       "      <td>Sequence Variants</td>\n",
       "    </tr>\n",
       "    <tr>\n",
       "      <th>...</th>\n",
       "      <td>...</td>\n",
       "      <td>...</td>\n",
       "      <td>...</td>\n",
       "      <td>...</td>\n",
       "      <td>...</td>\n",
       "      <td>...</td>\n",
       "      <td>...</td>\n",
       "    </tr>\n",
       "    <tr>\n",
       "      <th>1871</th>\n",
       "      <td>3161</td>\n",
       "      <td>3-10183878-G-A</td>\n",
       "      <td>genomic</td>\n",
       "      <td>Missense Variant</td>\n",
       "      <td>normalized</td>\n",
       "      <td>False</td>\n",
       "      <td>Sequence Variants</td>\n",
       "    </tr>\n",
       "    <tr>\n",
       "      <th>1872</th>\n",
       "      <td>877</td>\n",
       "      <td>NC_000020.11:G.58903752C&gt;T</td>\n",
       "      <td>genomic</td>\n",
       "      <td>Synonymous Variant</td>\n",
       "      <td>normalized</td>\n",
       "      <td>False</td>\n",
       "      <td>Sequence Variants</td>\n",
       "    </tr>\n",
       "    <tr>\n",
       "      <th>1873</th>\n",
       "      <td>731</td>\n",
       "      <td>NC_000003.11:G.37056036G&gt;A</td>\n",
       "      <td>genomic</td>\n",
       "      <td>Splice Donor Variant</td>\n",
       "      <td>normalized</td>\n",
       "      <td>False</td>\n",
       "      <td>Region-Defined Variants</td>\n",
       "    </tr>\n",
       "    <tr>\n",
       "      <th>1874</th>\n",
       "      <td>3045</td>\n",
       "      <td>VHL P.F76DEL</td>\n",
       "      <td>protein</td>\n",
       "      <td>Missense Variant</td>\n",
       "      <td>normalized</td>\n",
       "      <td>False</td>\n",
       "      <td>Sequence Variants</td>\n",
       "    </tr>\n",
       "    <tr>\n",
       "      <th>1875</th>\n",
       "      <td>3310</td>\n",
       "      <td>HDAC9 P.L33R</td>\n",
       "      <td>protein</td>\n",
       "      <td>Missense Variant</td>\n",
       "      <td>normalized</td>\n",
       "      <td>False</td>\n",
       "      <td>Sequence Variants</td>\n",
       "    </tr>\n",
       "  </tbody>\n",
       "</table>\n",
       "<p>1876 rows × 7 columns</p>\n",
       "</div>"
      ],
      "text/plain": [
       "      variant_id                                 query query_type  \\\n",
       "0           2489  NC_000003.11:G.10191648_10191649INSC    genomic   \n",
       "1           1988            NC_000003.11:G.10191649A>T    genomic   \n",
       "2           2488                        3-10191647-T-G    genomic   \n",
       "3           1986            NC_000003.11:G.10191648G>T    genomic   \n",
       "4           1987            NC_000003.11:G.10191649A>G    genomic   \n",
       "...          ...                                   ...        ...   \n",
       "1871        3161                        3-10183878-G-A    genomic   \n",
       "1872         877            NC_000020.11:G.58903752C>T    genomic   \n",
       "1873         731            NC_000003.11:G.37056036G>A    genomic   \n",
       "1874        3045                          VHL P.F76DEL    protein   \n",
       "1875        3310                          HDAC9 P.L33R    protein   \n",
       "\n",
       "       civic_variant_types normalization_status  variant flag  \\\n",
       "0                Stop Lost           normalized         False   \n",
       "1                Stop Lost           normalized         False   \n",
       "2                Stop Lost           normalized         False   \n",
       "3                Stop Lost           normalized         False   \n",
       "4                Stop Lost           normalized         False   \n",
       "...                    ...                  ...           ...   \n",
       "1871      Missense Variant           normalized         False   \n",
       "1872    Synonymous Variant           normalized         False   \n",
       "1873  Splice Donor Variant           normalized         False   \n",
       "1874      Missense Variant           normalized         False   \n",
       "1875      Missense Variant           normalized         False   \n",
       "\n",
       "                     category  \n",
       "0           Sequence Variants  \n",
       "1           Sequence Variants  \n",
       "2           Sequence Variants  \n",
       "3           Sequence Variants  \n",
       "4           Sequence Variants  \n",
       "...                       ...  \n",
       "1871        Sequence Variants  \n",
       "1872        Sequence Variants  \n",
       "1873  Region-Defined Variants  \n",
       "1874        Sequence Variants  \n",
       "1875        Sequence Variants  \n",
       "\n",
       "[1876 rows x 7 columns]"
      ]
     },
     "execution_count": 26,
     "metadata": {},
     "output_type": "execute_result"
    }
   ],
   "source": [
    "civic_normalized_df_cats = civic_supported_df[civic_supported_df[\"normalization_status\"] == \"normalized\"]\n",
    "civic_normalized_df_cats"
   ]
  },
  {
   "cell_type": "code",
   "execution_count": 27,
   "metadata": {},
   "outputs": [
    {
     "data": {
      "text/html": [
       "<div>\n",
       "<style scoped>\n",
       "    .dataframe tbody tr th:only-of-type {\n",
       "        vertical-align: middle;\n",
       "    }\n",
       "\n",
       "    .dataframe tbody tr th {\n",
       "        vertical-align: top;\n",
       "    }\n",
       "\n",
       "    .dataframe thead th {\n",
       "        text-align: right;\n",
       "    }\n",
       "</style>\n",
       "<table border=\"1\" class=\"dataframe\">\n",
       "  <thead>\n",
       "    <tr style=\"text-align: right;\">\n",
       "      <th></th>\n",
       "      <th>variant_id</th>\n",
       "      <th>query</th>\n",
       "      <th>query_type</th>\n",
       "      <th>civic_variant_types</th>\n",
       "      <th>normalization_status</th>\n",
       "      <th>variant flag</th>\n",
       "      <th>category</th>\n",
       "    </tr>\n",
       "  </thead>\n",
       "  <tbody>\n",
       "    <tr>\n",
       "      <th>0</th>\n",
       "      <td>748</td>\n",
       "      <td>MLH1 *757L</td>\n",
       "      <td>protein</td>\n",
       "      <td>Stop Lost</td>\n",
       "      <td>not_normalized</td>\n",
       "      <td>False</td>\n",
       "      <td>Sequence Variants</td>\n",
       "    </tr>\n",
       "    <tr>\n",
       "      <th>1</th>\n",
       "      <td>3718</td>\n",
       "      <td>AR A748V</td>\n",
       "      <td>protein</td>\n",
       "      <td>Missense Variant</td>\n",
       "      <td>not_normalized</td>\n",
       "      <td>False</td>\n",
       "      <td>Sequence Variants</td>\n",
       "    </tr>\n",
       "    <tr>\n",
       "      <th>2</th>\n",
       "      <td>3725</td>\n",
       "      <td>AR A765T</td>\n",
       "      <td>protein</td>\n",
       "      <td>Missense Variant</td>\n",
       "      <td>not_normalized</td>\n",
       "      <td>False</td>\n",
       "      <td>Sequence Variants</td>\n",
       "    </tr>\n",
       "    <tr>\n",
       "      <th>3</th>\n",
       "      <td>4485</td>\n",
       "      <td>ERBB2 A775_G776INS YVMA</td>\n",
       "      <td>protein</td>\n",
       "      <td>Missense Variant</td>\n",
       "      <td>not_normalized</td>\n",
       "      <td>False</td>\n",
       "      <td>Sequence Variants</td>\n",
       "    </tr>\n",
       "    <tr>\n",
       "      <th>4</th>\n",
       "      <td>248</td>\n",
       "      <td>TERT C228T</td>\n",
       "      <td>protein</td>\n",
       "      <td>Regulatory Region Variant</td>\n",
       "      <td>not_normalized</td>\n",
       "      <td>False</td>\n",
       "      <td>Region-Defined Variants</td>\n",
       "    </tr>\n",
       "    <tr>\n",
       "      <th>...</th>\n",
       "      <td>...</td>\n",
       "      <td>...</td>\n",
       "      <td>...</td>\n",
       "      <td>...</td>\n",
       "      <td>...</td>\n",
       "      <td>...</td>\n",
       "      <td>...</td>\n",
       "    </tr>\n",
       "    <tr>\n",
       "      <th>75</th>\n",
       "      <td>953</td>\n",
       "      <td>KIT Y553_K558DEL</td>\n",
       "      <td>protein</td>\n",
       "      <td>Inframe Deletion</td>\n",
       "      <td>not_normalized</td>\n",
       "      <td>False</td>\n",
       "      <td>Sequence Variants</td>\n",
       "    </tr>\n",
       "    <tr>\n",
       "      <th>76</th>\n",
       "      <td>1542</td>\n",
       "      <td>KIT Y553_W557DELYEVQW</td>\n",
       "      <td>protein</td>\n",
       "      <td>Inframe Deletion</td>\n",
       "      <td>not_normalized</td>\n",
       "      <td>False</td>\n",
       "      <td>Sequence Variants</td>\n",
       "    </tr>\n",
       "    <tr>\n",
       "      <th>77</th>\n",
       "      <td>1548</td>\n",
       "      <td>KIT Y570_L576DEL</td>\n",
       "      <td>protein</td>\n",
       "      <td>Inframe Deletion</td>\n",
       "      <td>not_normalized</td>\n",
       "      <td>False</td>\n",
       "      <td>Sequence Variants</td>\n",
       "    </tr>\n",
       "    <tr>\n",
       "      <th>78</th>\n",
       "      <td>1630</td>\n",
       "      <td>FLT3 Y591_V592INSVDFREYE</td>\n",
       "      <td>protein</td>\n",
       "      <td>Missense Variant</td>\n",
       "      <td>not_normalized</td>\n",
       "      <td>False</td>\n",
       "      <td>Sequence Variants</td>\n",
       "    </tr>\n",
       "    <tr>\n",
       "      <th>79</th>\n",
       "      <td>3724</td>\n",
       "      <td>AR Y763C</td>\n",
       "      <td>protein</td>\n",
       "      <td>Missense Variant</td>\n",
       "      <td>not_normalized</td>\n",
       "      <td>False</td>\n",
       "      <td>Sequence Variants</td>\n",
       "    </tr>\n",
       "  </tbody>\n",
       "</table>\n",
       "<p>80 rows × 7 columns</p>\n",
       "</div>"
      ],
      "text/plain": [
       "    variant_id                     query query_type  \\\n",
       "0          748                MLH1 *757L    protein   \n",
       "1         3718                  AR A748V    protein   \n",
       "2         3725                  AR A765T    protein   \n",
       "3         4485   ERBB2 A775_G776INS YVMA    protein   \n",
       "4          248                TERT C228T    protein   \n",
       "..         ...                       ...        ...   \n",
       "75         953          KIT Y553_K558DEL    protein   \n",
       "76        1542     KIT Y553_W557DELYEVQW    protein   \n",
       "77        1548          KIT Y570_L576DEL    protein   \n",
       "78        1630  FLT3 Y591_V592INSVDFREYE    protein   \n",
       "79        3724                  AR Y763C    protein   \n",
       "\n",
       "          civic_variant_types normalization_status  variant flag  \\\n",
       "0                   Stop Lost       not_normalized         False   \n",
       "1            Missense Variant       not_normalized         False   \n",
       "2            Missense Variant       not_normalized         False   \n",
       "3            Missense Variant       not_normalized         False   \n",
       "4   Regulatory Region Variant       not_normalized         False   \n",
       "..                        ...                  ...           ...   \n",
       "75           Inframe Deletion       not_normalized         False   \n",
       "76           Inframe Deletion       not_normalized         False   \n",
       "77           Inframe Deletion       not_normalized         False   \n",
       "78           Missense Variant       not_normalized         False   \n",
       "79           Missense Variant       not_normalized         False   \n",
       "\n",
       "                   category  \n",
       "0         Sequence Variants  \n",
       "1         Sequence Variants  \n",
       "2         Sequence Variants  \n",
       "3         Sequence Variants  \n",
       "4   Region-Defined Variants  \n",
       "..                      ...  \n",
       "75        Sequence Variants  \n",
       "76        Sequence Variants  \n",
       "77        Sequence Variants  \n",
       "78        Sequence Variants  \n",
       "79        Sequence Variants  \n",
       "\n",
       "[80 rows x 7 columns]"
      ]
     },
     "execution_count": 27,
     "metadata": {},
     "output_type": "execute_result"
    }
   ],
   "source": [
    "civic_not_normalized_df_cats = civic_supported_df[civic_supported_df[\"normalization_status\"] == \"not_normalized\"]\n",
    "civic_not_normalized_df_cats"
   ]
  },
  {
   "cell_type": "markdown",
   "metadata": {},
   "source": [
    "For each df, Get CIViC Variant counts by category and add to counts dictionary"
   ]
  },
  {
   "cell_type": "code",
   "execution_count": 28,
   "metadata": {},
   "outputs": [
    {
     "data": {
      "text/plain": [
       "{'Sequence Variants': 1788,\n",
       " 'Copy Number Variants': 57,\n",
       " 'Region-Defined Variants': 28,\n",
       " 'Fusion Variants': 1,\n",
       " 'Other Variants': 1}"
      ]
     },
     "execution_count": 28,
     "metadata": {},
     "output_type": "execute_result"
    }
   ],
   "source": [
    "civic_normalized_category_counts = json.loads(civic_normalized_df_cats[\"category\"].value_counts().to_json())\n",
    "civic_normalized_category_counts"
   ]
  },
  {
   "cell_type": "code",
   "execution_count": 29,
   "metadata": {},
   "outputs": [],
   "source": [
    "def add_json_counts(var_category_counts, support_status) -> None:\n",
    "    \"\"\"given a JSON of variant categories and counts and whether that dataframe represents normalized, not_normalized, or not_supported variants, adds the counts of variants to dictionary of counts\n",
    "    \n",
    "    :param var_category_counts: counts of variants in clinvar with variant type information in JSON format.\n",
    "    :param support_status: an int flag to indicate if the variants in the dataframe are normalized (0), unable to be normalized (1), or unsupported (2) by the normalizer\n",
    "    \"\"\"\n",
    "    for category, count in var_category_counts.items():\n",
    "        category_counts[category][support_status] += count\n",
    "        category_counts[category][Fields.TOTAL_COUNT] += count"
   ]
  },
  {
   "cell_type": "code",
   "execution_count": 30,
   "metadata": {},
   "outputs": [
    {
     "data": {
      "text/plain": [
       "{'Copy Number Variants': [57, 0, 0, 57, 0.0],\n",
       " 'Epigenetic Modification': [0, 0, 0, 0, 0.0],\n",
       " 'Expression Variants': [0, 0, 0, 0, 0.0],\n",
       " 'Fusion Variants': [1, 0, 0, 1, 0.0],\n",
       " 'Gene Function Variants': [0, 0, 0, 0, 0.0],\n",
       " 'Genotype Variants': [0, 0, 0, 0, 0.0],\n",
       " 'Other Variants': [1, 0, 0, 1, 0.0],\n",
       " 'Rearrangement Variants': [0, 0, 0, 0, 0.0],\n",
       " 'Region-Defined Variants': [28, 0, 0, 28, 0.0],\n",
       " 'Sequence Variants': [1788, 0, 0, 1788, 0.0]}"
      ]
     },
     "execution_count": 30,
     "metadata": {},
     "output_type": "execute_result"
    }
   ],
   "source": [
    "add_json_counts(civic_normalized_category_counts, Fields.NORMALIZED_COUNT)\n",
    "category_counts"
   ]
  },
  {
   "cell_type": "code",
   "execution_count": 31,
   "metadata": {},
   "outputs": [
    {
     "data": {
      "text/plain": [
       "{'Sequence Variants': 77, 'Region-Defined Variants': 3}"
      ]
     },
     "execution_count": 31,
     "metadata": {},
     "output_type": "execute_result"
    }
   ],
   "source": [
    "civic_not_normalized_category_counts = json.loads(civic_not_normalized_df_cats[\"category\"].value_counts().to_json())\n",
    "civic_not_normalized_category_counts"
   ]
  },
  {
   "cell_type": "code",
   "execution_count": 32,
   "metadata": {},
   "outputs": [
    {
     "data": {
      "text/plain": [
       "{'Copy Number Variants': [57, 0, 0, 57, 0.0],\n",
       " 'Epigenetic Modification': [0, 0, 0, 0, 0.0],\n",
       " 'Expression Variants': [0, 0, 0, 0, 0.0],\n",
       " 'Fusion Variants': [1, 0, 0, 1, 0.0],\n",
       " 'Gene Function Variants': [0, 0, 0, 0, 0.0],\n",
       " 'Genotype Variants': [0, 0, 0, 0, 0.0],\n",
       " 'Other Variants': [1, 0, 0, 1, 0.0],\n",
       " 'Rearrangement Variants': [0, 0, 0, 0, 0.0],\n",
       " 'Region-Defined Variants': [28, 3, 0, 31, 0.0],\n",
       " 'Sequence Variants': [1788, 77, 0, 1865, 0.0]}"
      ]
     },
     "execution_count": 32,
     "metadata": {},
     "output_type": "execute_result"
    }
   ],
   "source": [
    "add_json_counts(civic_not_normalized_category_counts, Fields.UNABLE_TO_NORMALIZE_COUNT)\n",
    "category_counts"
   ]
  },
  {
   "cell_type": "markdown",
   "metadata": {},
   "source": [
    "Read in the csv for unsupported variants.  This data was already mapped to categories in civic_variant_analysis.  Therefore, we only need to import the data and perform the count on the category column."
   ]
  },
  {
   "cell_type": "code",
   "execution_count": 33,
   "metadata": {},
   "outputs": [
    {
     "name": "stdout",
     "output_type": "stream",
     "text": [
      "(1563, 6)\n"
     ]
    },
    {
     "data": {
      "text/html": [
       "<div>\n",
       "<style scoped>\n",
       "    .dataframe tbody tr th:only-of-type {\n",
       "        vertical-align: middle;\n",
       "    }\n",
       "\n",
       "    .dataframe tbody tr th {\n",
       "        vertical-align: top;\n",
       "    }\n",
       "\n",
       "    .dataframe thead th {\n",
       "        text-align: right;\n",
       "    }\n",
       "</style>\n",
       "<table border=\"1\" class=\"dataframe\">\n",
       "  <thead>\n",
       "    <tr style=\"text-align: right;\">\n",
       "      <th></th>\n",
       "      <th>variant_id</th>\n",
       "      <th>gene_name</th>\n",
       "      <th>variant_name</th>\n",
       "      <th>civic_variant_types</th>\n",
       "      <th>category</th>\n",
       "      <th>variant_accepted</th>\n",
       "    </tr>\n",
       "  </thead>\n",
       "  <tbody>\n",
       "    <tr>\n",
       "      <th>0</th>\n",
       "      <td>4170</td>\n",
       "      <td>VHL</td>\n",
       "      <td>NaN</td>\n",
       "      <td>Not provided</td>\n",
       "      <td>Transcript Variants</td>\n",
       "      <td>False</td>\n",
       "    </tr>\n",
       "    <tr>\n",
       "      <th>1</th>\n",
       "      <td>4417</td>\n",
       "      <td>ALK</td>\n",
       "      <td>FBXO11::ALK</td>\n",
       "      <td>Not provided</td>\n",
       "      <td>Fusion Variants</td>\n",
       "      <td>False</td>\n",
       "    </tr>\n",
       "    <tr>\n",
       "      <th>2</th>\n",
       "      <td>4214</td>\n",
       "      <td>VHL</td>\n",
       "      <td>NaN</td>\n",
       "      <td>Not provided</td>\n",
       "      <td>Transcript Variants</td>\n",
       "      <td>False</td>\n",
       "    </tr>\n",
       "    <tr>\n",
       "      <th>3</th>\n",
       "      <td>4216</td>\n",
       "      <td>VHL</td>\n",
       "      <td>NaN</td>\n",
       "      <td>Not provided</td>\n",
       "      <td>Transcript Variants</td>\n",
       "      <td>False</td>\n",
       "    </tr>\n",
       "    <tr>\n",
       "      <th>4</th>\n",
       "      <td>4278</td>\n",
       "      <td>VHL</td>\n",
       "      <td>NaN</td>\n",
       "      <td>Not provided</td>\n",
       "      <td>Transcript Variants</td>\n",
       "      <td>False</td>\n",
       "    </tr>\n",
       "  </tbody>\n",
       "</table>\n",
       "</div>"
      ],
      "text/plain": [
       "   variant_id gene_name  variant_name civic_variant_types  \\\n",
       "0        4170       VHL           NaN        Not provided   \n",
       "1        4417       ALK   FBXO11::ALK        Not provided   \n",
       "2        4214       VHL           NaN        Not provided   \n",
       "3        4216       VHL           NaN        Not provided   \n",
       "4        4278       VHL           NaN        Not provided   \n",
       "\n",
       "              category  variant_accepted  \n",
       "0  Transcript Variants             False  \n",
       "1      Fusion Variants             False  \n",
       "2  Transcript Variants             False  \n",
       "3  Transcript Variants             False  \n",
       "4  Transcript Variants             False  "
      ]
     },
     "execution_count": 33,
     "metadata": {},
     "output_type": "execute_result"
    }
   ],
   "source": [
    "not_supported_variants = pd.read_csv(\"../civic/variation_analysis/not_supported_variants.csv\",sep = \"\\t\")\n",
    "print(not_supported_variants.shape)\n",
    "not_supported_variants.head()"
   ]
  },
  {
   "cell_type": "markdown",
   "metadata": {},
   "source": [
    "Checking Counts."
   ]
  },
  {
   "cell_type": "code",
   "execution_count": 34,
   "metadata": {},
   "outputs": [
    {
     "data": {
      "text/plain": [
       "category\n",
       "Transcript Variants        366\n",
       "Fusion Variants            294\n",
       "Expression Variants        287\n",
       "Sequence Variants          133\n",
       "Region Defined Variants    129\n",
       "Rearrangement Variants     116\n",
       "Gene Function Variants      91\n",
       "Other Variants              83\n",
       "Copy Number Variants        34\n",
       "Genotype Variants           16\n",
       "Epigenetic Modification     14\n",
       "Name: count, dtype: int64"
      ]
     },
     "execution_count": 34,
     "metadata": {},
     "output_type": "execute_result"
    }
   ],
   "source": [
    "not_supported_variants[\"category\"].value_counts()"
   ]
  },
  {
   "cell_type": "markdown",
   "metadata": {},
   "source": [
    "There are two small discrepancies here. First, there is a hyphen missing from \"Region-Defined Variants\" which will cause a key error.  Second, the variants labelled as \"Transcript Variants\" here should be binned under \"Sequence Variants\".  Fixing that now."
   ]
  },
  {
   "cell_type": "code",
   "execution_count": 35,
   "metadata": {},
   "outputs": [],
   "source": [
    "not_supported_variants[\"category\"].replace(\"Region Defined Variants\", \"Region-Defined Variants\", inplace=True)\n",
    "not_supported_variants[\"category\"].replace(\"Transcript Variants\", \"Sequence Variants\", inplace=True)"
   ]
  },
  {
   "cell_type": "code",
   "execution_count": 36,
   "metadata": {},
   "outputs": [
    {
     "data": {
      "text/plain": [
       "{'Sequence Variants': 499,\n",
       " 'Fusion Variants': 294,\n",
       " 'Expression Variants': 287,\n",
       " 'Region-Defined Variants': 129,\n",
       " 'Rearrangement Variants': 116,\n",
       " 'Gene Function Variants': 91,\n",
       " 'Other Variants': 83,\n",
       " 'Copy Number Variants': 34,\n",
       " 'Genotype Variants': 16,\n",
       " 'Epigenetic Modification': 14}"
      ]
     },
     "execution_count": 36,
     "metadata": {},
     "output_type": "execute_result"
    }
   ],
   "source": [
    "not_supported_variants_category_counts = json.loads(not_supported_variants[\"category\"].value_counts().to_json())\n",
    "not_supported_variants_category_counts"
   ]
  },
  {
   "cell_type": "code",
   "execution_count": 37,
   "metadata": {},
   "outputs": [
    {
     "data": {
      "text/plain": [
       "{'Copy Number Variants': [57, 0, 34, 91, 0.0],\n",
       " 'Epigenetic Modification': [0, 0, 14, 14, 0.0],\n",
       " 'Expression Variants': [0, 0, 287, 287, 0.0],\n",
       " 'Fusion Variants': [1, 0, 294, 295, 0.0],\n",
       " 'Gene Function Variants': [0, 0, 91, 91, 0.0],\n",
       " 'Genotype Variants': [0, 0, 16, 16, 0.0],\n",
       " 'Other Variants': [1, 0, 83, 84, 0.0],\n",
       " 'Rearrangement Variants': [0, 0, 116, 116, 0.0],\n",
       " 'Region-Defined Variants': [28, 3, 129, 160, 0.0],\n",
       " 'Sequence Variants': [1788, 77, 499, 2364, 0.0]}"
      ]
     },
     "execution_count": 37,
     "metadata": {},
     "output_type": "execute_result"
    }
   ],
   "source": [
    "add_json_counts(not_supported_variants_category_counts, Fields.UNSUPPORTED_COUNT)\n",
    "category_counts"
   ]
  },
  {
   "cell_type": "markdown",
   "metadata": {},
   "source": [
    "## <a id='toc1_4_'></a>[MOA](#toc0_)\n",
    "\n",
    "Read MOA .csv file for Normalized variants"
   ]
  },
  {
   "cell_type": "code",
   "execution_count": 38,
   "metadata": {},
   "outputs": [
    {
     "name": "stdout",
     "output_type": "stream",
     "text": [
      "(181, 5)\n"
     ]
    },
    {
     "data": {
      "text/html": [
       "<div>\n",
       "<style scoped>\n",
       "    .dataframe tbody tr th:only-of-type {\n",
       "        vertical-align: middle;\n",
       "    }\n",
       "\n",
       "    .dataframe tbody tr th {\n",
       "        vertical-align: top;\n",
       "    }\n",
       "\n",
       "    .dataframe thead th {\n",
       "        text-align: right;\n",
       "    }\n",
       "</style>\n",
       "<table border=\"1\" class=\"dataframe\">\n",
       "  <thead>\n",
       "    <tr style=\"text-align: right;\">\n",
       "      <th></th>\n",
       "      <th>variant_id</th>\n",
       "      <th>query</th>\n",
       "      <th>moa_feature_type</th>\n",
       "      <th>category</th>\n",
       "      <th>vrs_id</th>\n",
       "    </tr>\n",
       "  </thead>\n",
       "  <tbody>\n",
       "    <tr>\n",
       "      <th>0</th>\n",
       "      <td>71</td>\n",
       "      <td>ABL1 p.T315I</td>\n",
       "      <td>somatic_variant</td>\n",
       "      <td>Sequence Variants</td>\n",
       "      <td>ga4gh:VA.M3CbaYfwomLqvJbdK4w-W7V-zw7LdjGj</td>\n",
       "    </tr>\n",
       "    <tr>\n",
       "      <th>1</th>\n",
       "      <td>73</td>\n",
       "      <td>ABL1 p.T315A</td>\n",
       "      <td>somatic_variant</td>\n",
       "      <td>Sequence Variants</td>\n",
       "      <td>ga4gh:VA.Z9Ygies0W47sv7z1LXuMrD8ql6eFv_Fb</td>\n",
       "    </tr>\n",
       "    <tr>\n",
       "      <th>2</th>\n",
       "      <td>75</td>\n",
       "      <td>ABL1 p.F317L</td>\n",
       "      <td>somatic_variant</td>\n",
       "      <td>Sequence Variants</td>\n",
       "      <td>ga4gh:VA.KthZ0GvMM8IAq73dQ1Bqh9e8Ys0LKL8p</td>\n",
       "    </tr>\n",
       "    <tr>\n",
       "      <th>3</th>\n",
       "      <td>76</td>\n",
       "      <td>ABL1 p.F317V</td>\n",
       "      <td>somatic_variant</td>\n",
       "      <td>Sequence Variants</td>\n",
       "      <td>ga4gh:VA.ZQYG0E49jxi2VTHK3Fmfktzg5KBW0is5</td>\n",
       "    </tr>\n",
       "    <tr>\n",
       "      <th>4</th>\n",
       "      <td>77</td>\n",
       "      <td>ABL1 p.F317I</td>\n",
       "      <td>somatic_variant</td>\n",
       "      <td>Sequence Variants</td>\n",
       "      <td>ga4gh:VA.KNp3-VqwztR6vlk9k4x1XhebBhFX3nFe</td>\n",
       "    </tr>\n",
       "  </tbody>\n",
       "</table>\n",
       "</div>"
      ],
      "text/plain": [
       "   variant_id         query moa_feature_type           category  \\\n",
       "0          71  ABL1 p.T315I  somatic_variant  Sequence Variants   \n",
       "1          73  ABL1 p.T315A  somatic_variant  Sequence Variants   \n",
       "2          75  ABL1 p.F317L  somatic_variant  Sequence Variants   \n",
       "3          76  ABL1 p.F317V  somatic_variant  Sequence Variants   \n",
       "4          77  ABL1 p.F317I  somatic_variant  Sequence Variants   \n",
       "\n",
       "                                      vrs_id  \n",
       "0  ga4gh:VA.M3CbaYfwomLqvJbdK4w-W7V-zw7LdjGj  \n",
       "1  ga4gh:VA.Z9Ygies0W47sv7z1LXuMrD8ql6eFv_Fb  \n",
       "2  ga4gh:VA.KthZ0GvMM8IAq73dQ1Bqh9e8Ys0LKL8p  \n",
       "3  ga4gh:VA.ZQYG0E49jxi2VTHK3Fmfktzg5KBW0is5  \n",
       "4  ga4gh:VA.KNp3-VqwztR6vlk9k4x1XhebBhFX3nFe  "
      ]
     },
     "execution_count": 38,
     "metadata": {},
     "output_type": "execute_result"
    }
   ],
   "source": [
    "moa_normalized_df = pd.read_csv(\"../moa/feature_analysis/able_to_normalize_queries.csv\",sep = \"\\t\")\n",
    "print(moa_normalized_df.shape)\n",
    "moa_normalized_df.head()"
   ]
  },
  {
   "cell_type": "markdown",
   "metadata": {},
   "source": [
    "Get variant counts by category, update variant counts df "
   ]
  },
  {
   "cell_type": "code",
   "execution_count": 39,
   "metadata": {},
   "outputs": [
    {
     "data": {
      "text/plain": [
       "{'Sequence Variants': 149, 'Copy Number Variants': 32}"
      ]
     },
     "execution_count": 39,
     "metadata": {},
     "output_type": "execute_result"
    }
   ],
   "source": [
    "moa_normalized_category_counts = json.loads(moa_normalized_df[\"category\"].value_counts().to_json())\n",
    "moa_normalized_category_counts"
   ]
  },
  {
   "cell_type": "code",
   "execution_count": 40,
   "metadata": {},
   "outputs": [
    {
     "data": {
      "text/plain": [
       "{'Copy Number Variants': [89, 0, 34, 123, 0.0],\n",
       " 'Epigenetic Modification': [0, 0, 14, 14, 0.0],\n",
       " 'Expression Variants': [0, 0, 287, 287, 0.0],\n",
       " 'Fusion Variants': [1, 0, 294, 295, 0.0],\n",
       " 'Gene Function Variants': [0, 0, 91, 91, 0.0],\n",
       " 'Genotype Variants': [0, 0, 16, 16, 0.0],\n",
       " 'Other Variants': [1, 0, 83, 84, 0.0],\n",
       " 'Rearrangement Variants': [0, 0, 116, 116, 0.0],\n",
       " 'Region-Defined Variants': [28, 3, 129, 160, 0.0],\n",
       " 'Sequence Variants': [1937, 77, 499, 2513, 0.0]}"
      ]
     },
     "execution_count": 40,
     "metadata": {},
     "output_type": "execute_result"
    }
   ],
   "source": [
    "add_json_counts(moa_normalized_category_counts, Fields.NORMALIZED_COUNT)\n",
    "category_counts"
   ]
  },
  {
   "cell_type": "markdown",
   "metadata": {},
   "source": [
    "Repeat same process for variants that were supported but failed to normalize."
   ]
  },
  {
   "cell_type": "code",
   "execution_count": 41,
   "metadata": {},
   "outputs": [
    {
     "name": "stdout",
     "output_type": "stream",
     "text": [
      "(0, 7)\n"
     ]
    },
    {
     "data": {
      "text/html": [
       "<div>\n",
       "<style scoped>\n",
       "    .dataframe tbody tr th:only-of-type {\n",
       "        vertical-align: middle;\n",
       "    }\n",
       "\n",
       "    .dataframe tbody tr th {\n",
       "        vertical-align: top;\n",
       "    }\n",
       "\n",
       "    .dataframe thead th {\n",
       "        text-align: right;\n",
       "    }\n",
       "</style>\n",
       "<table border=\"1\" class=\"dataframe\">\n",
       "  <thead>\n",
       "    <tr style=\"text-align: right;\">\n",
       "      <th></th>\n",
       "      <th>variant_id</th>\n",
       "      <th>query</th>\n",
       "      <th>moa_feature_type</th>\n",
       "      <th>category</th>\n",
       "      <th>exception_raised</th>\n",
       "      <th>message</th>\n",
       "      <th>warnings</th>\n",
       "    </tr>\n",
       "  </thead>\n",
       "  <tbody>\n",
       "  </tbody>\n",
       "</table>\n",
       "</div>"
      ],
      "text/plain": [
       "Empty DataFrame\n",
       "Columns: [variant_id, query, moa_feature_type, category, exception_raised, message, warnings]\n",
       "Index: []"
      ]
     },
     "execution_count": 41,
     "metadata": {},
     "output_type": "execute_result"
    }
   ],
   "source": [
    "moa_not_normalized_df = pd.read_csv(\"../moa/feature_analysis/unable_to_normalize_queries.csv\",sep = \"\\t\")\n",
    "print(moa_not_normalized_df.shape)\n",
    "moa_not_normalized_df.head()"
   ]
  },
  {
   "cell_type": "code",
   "execution_count": 42,
   "metadata": {},
   "outputs": [
    {
     "data": {
      "text/plain": [
       "{}"
      ]
     },
     "execution_count": 42,
     "metadata": {},
     "output_type": "execute_result"
    }
   ],
   "source": [
    "moa_not_normalized_category_counts = json.loads(moa_not_normalized_df[\"category\"].value_counts().to_json())\n",
    "moa_not_normalized_category_counts"
   ]
  },
  {
   "cell_type": "code",
   "execution_count": 43,
   "metadata": {},
   "outputs": [
    {
     "data": {
      "text/plain": [
       "{'Copy Number Variants': [89, 0, 34, 123, 0.0],\n",
       " 'Epigenetic Modification': [0, 0, 14, 14, 0.0],\n",
       " 'Expression Variants': [0, 0, 287, 287, 0.0],\n",
       " 'Fusion Variants': [1, 0, 294, 295, 0.0],\n",
       " 'Gene Function Variants': [0, 0, 91, 91, 0.0],\n",
       " 'Genotype Variants': [0, 0, 16, 16, 0.0],\n",
       " 'Other Variants': [1, 0, 83, 84, 0.0],\n",
       " 'Rearrangement Variants': [0, 0, 116, 116, 0.0],\n",
       " 'Region-Defined Variants': [28, 3, 129, 160, 0.0],\n",
       " 'Sequence Variants': [1937, 77, 499, 2513, 0.0]}"
      ]
     },
     "execution_count": 43,
     "metadata": {},
     "output_type": "execute_result"
    }
   ],
   "source": [
    "add_json_counts(moa_not_normalized_category_counts, Fields.UNABLE_TO_NORMALIZE_COUNT)\n",
    "category_counts"
   ]
  },
  {
   "cell_type": "markdown",
   "metadata": {},
   "source": [
    "Repeat same process for variants that are unsupported."
   ]
  },
  {
   "cell_type": "code",
   "execution_count": 44,
   "metadata": {},
   "outputs": [
    {
     "name": "stdout",
     "output_type": "stream",
     "text": [
      "(249, 4)\n",
      "   variant_id                        query moa_feature_type  \\\n",
      "0           1             BCR--ABL1 Fusion    rearrangement   \n",
      "1          12                   ALK Fusion    rearrangement   \n",
      "2          15                          ALK    rearrangement   \n",
      "3          18            ALK Translocation    rearrangement   \n",
      "4          21  BRD4 t(15;19) Translocation    rearrangement   \n",
      "\n",
      "                 category  \n",
      "0  Rearrangement Variants  \n",
      "1  Rearrangement Variants  \n",
      "2  Rearrangement Variants  \n",
      "3  Rearrangement Variants  \n",
      "4  Rearrangement Variants  \n"
     ]
    },
    {
     "data": {
      "text/plain": [
       "category\n",
       "Sequence Variants         181\n",
       "Rearrangement Variants     35\n",
       "Copy Number Variants       17\n",
       "Expression Variants        11\n",
       "Other Variants              5\n",
       "Name: count, dtype: int64"
      ]
     },
     "execution_count": 44,
     "metadata": {},
     "output_type": "execute_result"
    }
   ],
   "source": [
    "moa_not_supported_df = pd.read_csv(\"../moa/feature_analysis/not_supported_variants.csv\",sep = \"\\t\")\n",
    "print(moa_not_supported_df.shape)\n",
    "print(moa_not_supported_df.head())\n",
    "moa_not_supported_df[\"category\"].value_counts(dropna=False)"
   ]
  },
  {
   "cell_type": "code",
   "execution_count": 45,
   "metadata": {},
   "outputs": [
    {
     "data": {
      "text/plain": [
       "{'Sequence Variants': 181,\n",
       " 'Rearrangement Variants': 35,\n",
       " 'Copy Number Variants': 17,\n",
       " 'Expression Variants': 11,\n",
       " 'Other Variants': 5}"
      ]
     },
     "execution_count": 45,
     "metadata": {},
     "output_type": "execute_result"
    }
   ],
   "source": [
    "moa_not_supported_category_counts = json.loads(moa_not_supported_df[\"category\"].value_counts().to_json())\n",
    "moa_not_supported_category_counts"
   ]
  },
  {
   "cell_type": "code",
   "execution_count": 46,
   "metadata": {},
   "outputs": [
    {
     "data": {
      "text/plain": [
       "{'Copy Number Variants': [89, 0, 51, 140, 0.0],\n",
       " 'Epigenetic Modification': [0, 0, 14, 14, 0.0],\n",
       " 'Expression Variants': [0, 0, 298, 298, 0.0],\n",
       " 'Fusion Variants': [1, 0, 294, 295, 0.0],\n",
       " 'Gene Function Variants': [0, 0, 91, 91, 0.0],\n",
       " 'Genotype Variants': [0, 0, 16, 16, 0.0],\n",
       " 'Other Variants': [1, 0, 88, 89, 0.0],\n",
       " 'Rearrangement Variants': [0, 0, 151, 151, 0.0],\n",
       " 'Region-Defined Variants': [28, 3, 129, 160, 0.0],\n",
       " 'Sequence Variants': [1937, 77, 680, 2694, 0.0]}"
      ]
     },
     "execution_count": 46,
     "metadata": {},
     "output_type": "execute_result"
    }
   ],
   "source": [
    "add_json_counts(moa_not_supported_category_counts, Fields.UNSUPPORTED_COUNT)\n",
    "category_counts"
   ]
  },
  {
   "cell_type": "markdown",
   "metadata": {},
   "source": [
    "## <a id='toc1_5_'></a>[ClinVar](#toc0_)\n",
    "\n",
    "Read in the three clinvar csv files."
   ]
  },
  {
   "cell_type": "code",
   "execution_count": 47,
   "metadata": {},
   "outputs": [
    {
     "name": "stdout",
     "output_type": "stream",
     "text": [
      "(20, 4)\n"
     ]
    },
    {
     "data": {
      "text/html": [
       "<div>\n",
       "<style scoped>\n",
       "    .dataframe tbody tr th:only-of-type {\n",
       "        vertical-align: middle;\n",
       "    }\n",
       "\n",
       "    .dataframe tbody tr th {\n",
       "        vertical-align: top;\n",
       "    }\n",
       "\n",
       "    .dataframe thead th {\n",
       "        text-align: right;\n",
       "    }\n",
       "</style>\n",
       "<table border=\"1\" class=\"dataframe\">\n",
       "  <thead>\n",
       "    <tr style=\"text-align: right;\">\n",
       "      <th></th>\n",
       "      <th>Unnamed: 0</th>\n",
       "      <th>in.variation_type</th>\n",
       "      <th>in.vrs_xform_plan.policy</th>\n",
       "      <th>count</th>\n",
       "    </tr>\n",
       "  </thead>\n",
       "  <tbody>\n",
       "    <tr>\n",
       "      <th>0</th>\n",
       "      <td>0</td>\n",
       "      <td>single nucleotide variant</td>\n",
       "      <td>Canonical SPDI</td>\n",
       "      <td>1934692</td>\n",
       "    </tr>\n",
       "    <tr>\n",
       "      <th>1</th>\n",
       "      <td>1</td>\n",
       "      <td>Deletion</td>\n",
       "      <td>Canonical SPDI</td>\n",
       "      <td>92875</td>\n",
       "    </tr>\n",
       "    <tr>\n",
       "      <th>2</th>\n",
       "      <td>2</td>\n",
       "      <td>Duplication</td>\n",
       "      <td>Canonical SPDI</td>\n",
       "      <td>43185</td>\n",
       "    </tr>\n",
       "    <tr>\n",
       "      <th>3</th>\n",
       "      <td>3</td>\n",
       "      <td>copy number loss</td>\n",
       "      <td>Absolute copy count</td>\n",
       "      <td>26857</td>\n",
       "    </tr>\n",
       "    <tr>\n",
       "      <th>4</th>\n",
       "      <td>4</td>\n",
       "      <td>Microsatellite</td>\n",
       "      <td>Canonical SPDI</td>\n",
       "      <td>26678</td>\n",
       "    </tr>\n",
       "    <tr>\n",
       "      <th>5</th>\n",
       "      <td>5</td>\n",
       "      <td>copy number gain</td>\n",
       "      <td>Absolute copy count</td>\n",
       "      <td>25583</td>\n",
       "    </tr>\n",
       "    <tr>\n",
       "      <th>6</th>\n",
       "      <td>6</td>\n",
       "      <td>Deletion</td>\n",
       "      <td>Copy number change (cn loss|del and cn gain|dup)</td>\n",
       "      <td>16249</td>\n",
       "    </tr>\n",
       "    <tr>\n",
       "      <th>7</th>\n",
       "      <td>7</td>\n",
       "      <td>Indel</td>\n",
       "      <td>Canonical SPDI</td>\n",
       "      <td>10986</td>\n",
       "    </tr>\n",
       "    <tr>\n",
       "      <th>8</th>\n",
       "      <td>8</td>\n",
       "      <td>Insertion</td>\n",
       "      <td>Canonical SPDI</td>\n",
       "      <td>8865</td>\n",
       "    </tr>\n",
       "    <tr>\n",
       "      <th>9</th>\n",
       "      <td>9</td>\n",
       "      <td>Duplication</td>\n",
       "      <td>Copy number change (cn loss|del and cn gain|dup)</td>\n",
       "      <td>8119</td>\n",
       "    </tr>\n",
       "    <tr>\n",
       "      <th>10</th>\n",
       "      <td>10</td>\n",
       "      <td>copy number loss</td>\n",
       "      <td>Copy number change (cn loss|del and cn gain|dup)</td>\n",
       "      <td>1524</td>\n",
       "    </tr>\n",
       "    <tr>\n",
       "      <th>11</th>\n",
       "      <td>11</td>\n",
       "      <td>Inversion</td>\n",
       "      <td>Canonical SPDI</td>\n",
       "      <td>1051</td>\n",
       "    </tr>\n",
       "    <tr>\n",
       "      <th>12</th>\n",
       "      <td>12</td>\n",
       "      <td>copy number gain</td>\n",
       "      <td>Copy number change (cn loss|del and cn gain|dup)</td>\n",
       "      <td>1003</td>\n",
       "    </tr>\n",
       "    <tr>\n",
       "      <th>13</th>\n",
       "      <td>13</td>\n",
       "      <td>single nucleotide variant</td>\n",
       "      <td>Remaining valid hgvs alleles</td>\n",
       "      <td>396</td>\n",
       "    </tr>\n",
       "    <tr>\n",
       "      <th>14</th>\n",
       "      <td>14</td>\n",
       "      <td>Indel</td>\n",
       "      <td>Remaining valid hgvs alleles</td>\n",
       "      <td>340</td>\n",
       "    </tr>\n",
       "    <tr>\n",
       "      <th>15</th>\n",
       "      <td>15</td>\n",
       "      <td>Variation</td>\n",
       "      <td>Canonical SPDI</td>\n",
       "      <td>337</td>\n",
       "    </tr>\n",
       "    <tr>\n",
       "      <th>16</th>\n",
       "      <td>16</td>\n",
       "      <td>Insertion</td>\n",
       "      <td>Remaining valid hgvs alleles</td>\n",
       "      <td>191</td>\n",
       "    </tr>\n",
       "    <tr>\n",
       "      <th>17</th>\n",
       "      <td>17</td>\n",
       "      <td>Deletion</td>\n",
       "      <td>Absolute copy count</td>\n",
       "      <td>3</td>\n",
       "    </tr>\n",
       "    <tr>\n",
       "      <th>18</th>\n",
       "      <td>18</td>\n",
       "      <td>Variation</td>\n",
       "      <td>Remaining valid hgvs alleles</td>\n",
       "      <td>1</td>\n",
       "    </tr>\n",
       "    <tr>\n",
       "      <th>19</th>\n",
       "      <td>19</td>\n",
       "      <td>Duplication</td>\n",
       "      <td>Absolute copy count</td>\n",
       "      <td>1</td>\n",
       "    </tr>\n",
       "  </tbody>\n",
       "</table>\n",
       "</div>"
      ],
      "text/plain": [
       "    Unnamed: 0          in.variation_type  \\\n",
       "0            0  single nucleotide variant   \n",
       "1            1                   Deletion   \n",
       "2            2                Duplication   \n",
       "3            3           copy number loss   \n",
       "4            4             Microsatellite   \n",
       "5            5           copy number gain   \n",
       "6            6                   Deletion   \n",
       "7            7                      Indel   \n",
       "8            8                  Insertion   \n",
       "9            9                Duplication   \n",
       "10          10           copy number loss   \n",
       "11          11                  Inversion   \n",
       "12          12           copy number gain   \n",
       "13          13  single nucleotide variant   \n",
       "14          14                      Indel   \n",
       "15          15                  Variation   \n",
       "16          16                  Insertion   \n",
       "17          17                   Deletion   \n",
       "18          18                  Variation   \n",
       "19          19                Duplication   \n",
       "\n",
       "                            in.vrs_xform_plan.policy    count  \n",
       "0                                     Canonical SPDI  1934692  \n",
       "1                                     Canonical SPDI    92875  \n",
       "2                                     Canonical SPDI    43185  \n",
       "3                                Absolute copy count    26857  \n",
       "4                                     Canonical SPDI    26678  \n",
       "5                                Absolute copy count    25583  \n",
       "6   Copy number change (cn loss|del and cn gain|dup)    16249  \n",
       "7                                     Canonical SPDI    10986  \n",
       "8                                     Canonical SPDI     8865  \n",
       "9   Copy number change (cn loss|del and cn gain|dup)     8119  \n",
       "10  Copy number change (cn loss|del and cn gain|dup)     1524  \n",
       "11                                    Canonical SPDI     1051  \n",
       "12  Copy number change (cn loss|del and cn gain|dup)     1003  \n",
       "13                      Remaining valid hgvs alleles      396  \n",
       "14                      Remaining valid hgvs alleles      340  \n",
       "15                                    Canonical SPDI      337  \n",
       "16                      Remaining valid hgvs alleles      191  \n",
       "17                               Absolute copy count        3  \n",
       "18                      Remaining valid hgvs alleles        1  \n",
       "19                               Absolute copy count        1  "
      ]
     },
     "execution_count": 47,
     "metadata": {},
     "output_type": "execute_result"
    }
   ],
   "source": [
    "clinvar_normalized_df = pd.read_csv(\"../clinvar/clinvar_variation_analysis_output/variation_type_count_supported_df.csv\")\n",
    "print(clinvar_normalized_df.shape)\n",
    "clinvar_normalized_df.head(20)"
   ]
  },
  {
   "cell_type": "code",
   "execution_count": 48,
   "metadata": {},
   "outputs": [
    {
     "name": "stdout",
     "output_type": "stream",
     "text": [
      "(9, 4)\n"
     ]
    },
    {
     "data": {
      "text/html": [
       "<div>\n",
       "<style scoped>\n",
       "    .dataframe tbody tr th:only-of-type {\n",
       "        vertical-align: middle;\n",
       "    }\n",
       "\n",
       "    .dataframe tbody tr th {\n",
       "        vertical-align: top;\n",
       "    }\n",
       "\n",
       "    .dataframe thead th {\n",
       "        text-align: right;\n",
       "    }\n",
       "</style>\n",
       "<table border=\"1\" class=\"dataframe\">\n",
       "  <thead>\n",
       "    <tr style=\"text-align: right;\">\n",
       "      <th></th>\n",
       "      <th>Unnamed: 0</th>\n",
       "      <th>in.variation_type</th>\n",
       "      <th>in.vrs_xform_plan.policy</th>\n",
       "      <th>count</th>\n",
       "    </tr>\n",
       "  </thead>\n",
       "  <tbody>\n",
       "    <tr>\n",
       "      <th>0</th>\n",
       "      <td>0</td>\n",
       "      <td>copy number loss</td>\n",
       "      <td>Absolute copy count</td>\n",
       "      <td>475</td>\n",
       "    </tr>\n",
       "    <tr>\n",
       "      <th>1</th>\n",
       "      <td>1</td>\n",
       "      <td>copy number gain</td>\n",
       "      <td>Absolute copy count</td>\n",
       "      <td>344</td>\n",
       "    </tr>\n",
       "    <tr>\n",
       "      <th>2</th>\n",
       "      <td>2</td>\n",
       "      <td>Deletion</td>\n",
       "      <td>Copy number change (cn loss|del and cn gain|dup)</td>\n",
       "      <td>89</td>\n",
       "    </tr>\n",
       "    <tr>\n",
       "      <th>3</th>\n",
       "      <td>3</td>\n",
       "      <td>Duplication</td>\n",
       "      <td>Copy number change (cn loss|del and cn gain|dup)</td>\n",
       "      <td>72</td>\n",
       "    </tr>\n",
       "    <tr>\n",
       "      <th>4</th>\n",
       "      <td>4</td>\n",
       "      <td>copy number loss</td>\n",
       "      <td>Copy number change (cn loss|del and cn gain|dup)</td>\n",
       "      <td>31</td>\n",
       "    </tr>\n",
       "    <tr>\n",
       "      <th>5</th>\n",
       "      <td>5</td>\n",
       "      <td>copy number gain</td>\n",
       "      <td>Copy number change (cn loss|del and cn gain|dup)</td>\n",
       "      <td>17</td>\n",
       "    </tr>\n",
       "    <tr>\n",
       "      <th>6</th>\n",
       "      <td>6</td>\n",
       "      <td>single nucleotide variant</td>\n",
       "      <td>Remaining valid hgvs alleles</td>\n",
       "      <td>11</td>\n",
       "    </tr>\n",
       "    <tr>\n",
       "      <th>7</th>\n",
       "      <td>7</td>\n",
       "      <td>Insertion</td>\n",
       "      <td>Remaining valid hgvs alleles</td>\n",
       "      <td>1</td>\n",
       "    </tr>\n",
       "    <tr>\n",
       "      <th>8</th>\n",
       "      <td>8</td>\n",
       "      <td>Variation</td>\n",
       "      <td>Remaining valid hgvs alleles</td>\n",
       "      <td>1</td>\n",
       "    </tr>\n",
       "  </tbody>\n",
       "</table>\n",
       "</div>"
      ],
      "text/plain": [
       "   Unnamed: 0          in.variation_type  \\\n",
       "0           0           copy number loss   \n",
       "1           1           copy number gain   \n",
       "2           2                   Deletion   \n",
       "3           3                Duplication   \n",
       "4           4           copy number loss   \n",
       "5           5           copy number gain   \n",
       "6           6  single nucleotide variant   \n",
       "7           7                  Insertion   \n",
       "8           8                  Variation   \n",
       "\n",
       "                           in.vrs_xform_plan.policy  count  \n",
       "0                               Absolute copy count    475  \n",
       "1                               Absolute copy count    344  \n",
       "2  Copy number change (cn loss|del and cn gain|dup)     89  \n",
       "3  Copy number change (cn loss|del and cn gain|dup)     72  \n",
       "4  Copy number change (cn loss|del and cn gain|dup)     31  \n",
       "5  Copy number change (cn loss|del and cn gain|dup)     17  \n",
       "6                      Remaining valid hgvs alleles     11  \n",
       "7                      Remaining valid hgvs alleles      1  \n",
       "8                      Remaining valid hgvs alleles      1  "
      ]
     },
     "execution_count": 48,
     "metadata": {},
     "output_type": "execute_result"
    }
   ],
   "source": [
    "clinvar_not_normalized_df = pd.read_csv(\"../clinvar/clinvar_variation_analysis_output/variation_type_count_supported_not_normalized_df.csv\")\n",
    "print(clinvar_not_normalized_df.shape)\n",
    "clinvar_not_normalized_df.head(10)"
   ]
  },
  {
   "cell_type": "code",
   "execution_count": 49,
   "metadata": {},
   "outputs": [
    {
     "name": "stdout",
     "output_type": "stream",
     "text": [
      "(37, 4)\n"
     ]
    },
    {
     "data": {
      "text/html": [
       "<div>\n",
       "<style scoped>\n",
       "    .dataframe tbody tr th:only-of-type {\n",
       "        vertical-align: middle;\n",
       "    }\n",
       "\n",
       "    .dataframe tbody tr th {\n",
       "        vertical-align: top;\n",
       "    }\n",
       "\n",
       "    .dataframe thead th {\n",
       "        text-align: right;\n",
       "    }\n",
       "</style>\n",
       "<table border=\"1\" class=\"dataframe\">\n",
       "  <thead>\n",
       "    <tr style=\"text-align: right;\">\n",
       "      <th></th>\n",
       "      <th>Unnamed: 0</th>\n",
       "      <th>in.variation_type</th>\n",
       "      <th>in.vrs_xform_plan.policy</th>\n",
       "      <th>count</th>\n",
       "    </tr>\n",
       "  </thead>\n",
       "  <tbody>\n",
       "    <tr>\n",
       "      <th>0</th>\n",
       "      <td>0</td>\n",
       "      <td>copy number gain</td>\n",
       "      <td>NCBI36 genomic only</td>\n",
       "      <td>2897</td>\n",
       "    </tr>\n",
       "    <tr>\n",
       "      <th>1</th>\n",
       "      <td>1</td>\n",
       "      <td>copy number loss</td>\n",
       "      <td>NCBI36 genomic only</td>\n",
       "      <td>1749</td>\n",
       "    </tr>\n",
       "    <tr>\n",
       "      <th>2</th>\n",
       "      <td>2</td>\n",
       "      <td>Deletion</td>\n",
       "      <td>No hgvs or location info</td>\n",
       "      <td>1236</td>\n",
       "    </tr>\n",
       "    <tr>\n",
       "      <th>3</th>\n",
       "      <td>3</td>\n",
       "      <td>Diplotype</td>\n",
       "      <td>Genotype/Haplotype</td>\n",
       "      <td>596</td>\n",
       "    </tr>\n",
       "    <tr>\n",
       "      <th>4</th>\n",
       "      <td>4</td>\n",
       "      <td>Haplotype</td>\n",
       "      <td>Genotype/Haplotype</td>\n",
       "      <td>565</td>\n",
       "    </tr>\n",
       "    <tr>\n",
       "      <th>5</th>\n",
       "      <td>5</td>\n",
       "      <td>Microsatellite</td>\n",
       "      <td>Invalid/unsupported hgvs</td>\n",
       "      <td>415</td>\n",
       "    </tr>\n",
       "    <tr>\n",
       "      <th>6</th>\n",
       "      <td>6</td>\n",
       "      <td>Deletion</td>\n",
       "      <td>Invalid/unsupported hgvs</td>\n",
       "      <td>413</td>\n",
       "    </tr>\n",
       "    <tr>\n",
       "      <th>7</th>\n",
       "      <td>7</td>\n",
       "      <td>Insertion</td>\n",
       "      <td>No hgvs or location info</td>\n",
       "      <td>382</td>\n",
       "    </tr>\n",
       "    <tr>\n",
       "      <th>8</th>\n",
       "      <td>8</td>\n",
       "      <td>Insertion</td>\n",
       "      <td>Invalid/unsupported hgvs</td>\n",
       "      <td>306</td>\n",
       "    </tr>\n",
       "    <tr>\n",
       "      <th>9</th>\n",
       "      <td>9</td>\n",
       "      <td>single nucleotide variant</td>\n",
       "      <td>No hgvs or location info</td>\n",
       "      <td>287</td>\n",
       "    </tr>\n",
       "    <tr>\n",
       "      <th>10</th>\n",
       "      <td>10</td>\n",
       "      <td>Translocation</td>\n",
       "      <td>No hgvs or location info</td>\n",
       "      <td>271</td>\n",
       "    </tr>\n",
       "    <tr>\n",
       "      <th>11</th>\n",
       "      <td>11</td>\n",
       "      <td>Duplication</td>\n",
       "      <td>No hgvs or location info</td>\n",
       "      <td>265</td>\n",
       "    </tr>\n",
       "    <tr>\n",
       "      <th>12</th>\n",
       "      <td>12</td>\n",
       "      <td>CompoundHeterozygote</td>\n",
       "      <td>Genotype/Haplotype</td>\n",
       "      <td>249</td>\n",
       "    </tr>\n",
       "    <tr>\n",
       "      <th>13</th>\n",
       "      <td>13</td>\n",
       "      <td>Variation</td>\n",
       "      <td>No hgvs or location info</td>\n",
       "      <td>206</td>\n",
       "    </tr>\n",
       "    <tr>\n",
       "      <th>14</th>\n",
       "      <td>14</td>\n",
       "      <td>Indel</td>\n",
       "      <td>No hgvs or location info</td>\n",
       "      <td>138</td>\n",
       "    </tr>\n",
       "    <tr>\n",
       "      <th>15</th>\n",
       "      <td>15</td>\n",
       "      <td>Duplication</td>\n",
       "      <td>Invalid/unsupported hgvs</td>\n",
       "      <td>116</td>\n",
       "    </tr>\n",
       "    <tr>\n",
       "      <th>16</th>\n",
       "      <td>16</td>\n",
       "      <td>protein only</td>\n",
       "      <td>No hgvs or location info</td>\n",
       "      <td>95</td>\n",
       "    </tr>\n",
       "    <tr>\n",
       "      <th>17</th>\n",
       "      <td>17</td>\n",
       "      <td>Complex</td>\n",
       "      <td>No hgvs or location info</td>\n",
       "      <td>72</td>\n",
       "    </tr>\n",
       "    <tr>\n",
       "      <th>18</th>\n",
       "      <td>18</td>\n",
       "      <td>Deletion</td>\n",
       "      <td>NCBI36 genomic only</td>\n",
       "      <td>71</td>\n",
       "    </tr>\n",
       "    <tr>\n",
       "      <th>19</th>\n",
       "      <td>19</td>\n",
       "      <td>Microsatellite</td>\n",
       "      <td>No hgvs or location info</td>\n",
       "      <td>67</td>\n",
       "    </tr>\n",
       "  </tbody>\n",
       "</table>\n",
       "</div>"
      ],
      "text/plain": [
       "    Unnamed: 0          in.variation_type  in.vrs_xform_plan.policy  count\n",
       "0            0           copy number gain       NCBI36 genomic only   2897\n",
       "1            1           copy number loss       NCBI36 genomic only   1749\n",
       "2            2                   Deletion  No hgvs or location info   1236\n",
       "3            3                  Diplotype        Genotype/Haplotype    596\n",
       "4            4                  Haplotype        Genotype/Haplotype    565\n",
       "5            5             Microsatellite  Invalid/unsupported hgvs    415\n",
       "6            6                   Deletion  Invalid/unsupported hgvs    413\n",
       "7            7                  Insertion  No hgvs or location info    382\n",
       "8            8                  Insertion  Invalid/unsupported hgvs    306\n",
       "9            9  single nucleotide variant  No hgvs or location info    287\n",
       "10          10              Translocation  No hgvs or location info    271\n",
       "11          11                Duplication  No hgvs or location info    265\n",
       "12          12       CompoundHeterozygote        Genotype/Haplotype    249\n",
       "13          13                  Variation  No hgvs or location info    206\n",
       "14          14                      Indel  No hgvs or location info    138\n",
       "15          15                Duplication  Invalid/unsupported hgvs    116\n",
       "16          16               protein only  No hgvs or location info     95\n",
       "17          17                    Complex  No hgvs or location info     72\n",
       "18          18                   Deletion       NCBI36 genomic only     71\n",
       "19          19             Microsatellite  No hgvs or location info     67"
      ]
     },
     "execution_count": 49,
     "metadata": {},
     "output_type": "execute_result"
    }
   ],
   "source": [
    "clinvar_not_supported_df = pd.read_csv(\"../clinvar/clinvar_variation_analysis_output/variation_type_count_not_supported_df.csv\")\n",
    "print(clinvar_not_supported_df.shape)\n",
    "clinvar_not_supported_df.head(20)"
   ]
  },
  {
   "cell_type": "markdown",
   "metadata": {},
   "source": [
    "Add column and map variant types to categories."
   ]
  },
  {
   "cell_type": "code",
   "execution_count": 50,
   "metadata": {},
   "outputs": [
    {
     "data": {
      "text/html": [
       "<div>\n",
       "<style scoped>\n",
       "    .dataframe tbody tr th:only-of-type {\n",
       "        vertical-align: middle;\n",
       "    }\n",
       "\n",
       "    .dataframe tbody tr th {\n",
       "        vertical-align: top;\n",
       "    }\n",
       "\n",
       "    .dataframe thead th {\n",
       "        text-align: right;\n",
       "    }\n",
       "</style>\n",
       "<table border=\"1\" class=\"dataframe\">\n",
       "  <thead>\n",
       "    <tr style=\"text-align: right;\">\n",
       "      <th></th>\n",
       "      <th>Unnamed: 0</th>\n",
       "      <th>in.variation_type</th>\n",
       "      <th>in.vrs_xform_plan.policy</th>\n",
       "      <th>count</th>\n",
       "      <th>category</th>\n",
       "    </tr>\n",
       "  </thead>\n",
       "  <tbody>\n",
       "    <tr>\n",
       "      <th>0</th>\n",
       "      <td>0</td>\n",
       "      <td>single nucleotide variant</td>\n",
       "      <td>Canonical SPDI</td>\n",
       "      <td>1934692</td>\n",
       "      <td>Sequence Variants</td>\n",
       "    </tr>\n",
       "    <tr>\n",
       "      <th>1</th>\n",
       "      <td>1</td>\n",
       "      <td>Deletion</td>\n",
       "      <td>Canonical SPDI</td>\n",
       "      <td>92875</td>\n",
       "      <td>Sequence Variants</td>\n",
       "    </tr>\n",
       "    <tr>\n",
       "      <th>2</th>\n",
       "      <td>2</td>\n",
       "      <td>Duplication</td>\n",
       "      <td>Canonical SPDI</td>\n",
       "      <td>43185</td>\n",
       "      <td>Sequence Variants</td>\n",
       "    </tr>\n",
       "    <tr>\n",
       "      <th>3</th>\n",
       "      <td>3</td>\n",
       "      <td>copy number loss</td>\n",
       "      <td>Absolute copy count</td>\n",
       "      <td>26857</td>\n",
       "      <td>Copy Number Variants</td>\n",
       "    </tr>\n",
       "    <tr>\n",
       "      <th>4</th>\n",
       "      <td>4</td>\n",
       "      <td>Microsatellite</td>\n",
       "      <td>Canonical SPDI</td>\n",
       "      <td>26678</td>\n",
       "      <td>Sequence Variants</td>\n",
       "    </tr>\n",
       "    <tr>\n",
       "      <th>5</th>\n",
       "      <td>5</td>\n",
       "      <td>copy number gain</td>\n",
       "      <td>Absolute copy count</td>\n",
       "      <td>25583</td>\n",
       "      <td>Copy Number Variants</td>\n",
       "    </tr>\n",
       "    <tr>\n",
       "      <th>6</th>\n",
       "      <td>6</td>\n",
       "      <td>Deletion</td>\n",
       "      <td>Copy number change (cn loss|del and cn gain|dup)</td>\n",
       "      <td>16249</td>\n",
       "      <td>Sequence Variants</td>\n",
       "    </tr>\n",
       "    <tr>\n",
       "      <th>7</th>\n",
       "      <td>7</td>\n",
       "      <td>Indel</td>\n",
       "      <td>Canonical SPDI</td>\n",
       "      <td>10986</td>\n",
       "      <td>Sequence Variants</td>\n",
       "    </tr>\n",
       "    <tr>\n",
       "      <th>8</th>\n",
       "      <td>8</td>\n",
       "      <td>Insertion</td>\n",
       "      <td>Canonical SPDI</td>\n",
       "      <td>8865</td>\n",
       "      <td>Sequence Variants</td>\n",
       "    </tr>\n",
       "    <tr>\n",
       "      <th>9</th>\n",
       "      <td>9</td>\n",
       "      <td>Duplication</td>\n",
       "      <td>Copy number change (cn loss|del and cn gain|dup)</td>\n",
       "      <td>8119</td>\n",
       "      <td>Sequence Variants</td>\n",
       "    </tr>\n",
       "    <tr>\n",
       "      <th>10</th>\n",
       "      <td>10</td>\n",
       "      <td>copy number loss</td>\n",
       "      <td>Copy number change (cn loss|del and cn gain|dup)</td>\n",
       "      <td>1524</td>\n",
       "      <td>Copy Number Variants</td>\n",
       "    </tr>\n",
       "    <tr>\n",
       "      <th>11</th>\n",
       "      <td>11</td>\n",
       "      <td>Inversion</td>\n",
       "      <td>Canonical SPDI</td>\n",
       "      <td>1051</td>\n",
       "      <td>Sequence Variants</td>\n",
       "    </tr>\n",
       "    <tr>\n",
       "      <th>12</th>\n",
       "      <td>12</td>\n",
       "      <td>copy number gain</td>\n",
       "      <td>Copy number change (cn loss|del and cn gain|dup)</td>\n",
       "      <td>1003</td>\n",
       "      <td>Copy Number Variants</td>\n",
       "    </tr>\n",
       "    <tr>\n",
       "      <th>13</th>\n",
       "      <td>13</td>\n",
       "      <td>single nucleotide variant</td>\n",
       "      <td>Remaining valid hgvs alleles</td>\n",
       "      <td>396</td>\n",
       "      <td>Sequence Variants</td>\n",
       "    </tr>\n",
       "    <tr>\n",
       "      <th>14</th>\n",
       "      <td>14</td>\n",
       "      <td>Indel</td>\n",
       "      <td>Remaining valid hgvs alleles</td>\n",
       "      <td>340</td>\n",
       "      <td>Sequence Variants</td>\n",
       "    </tr>\n",
       "    <tr>\n",
       "      <th>15</th>\n",
       "      <td>15</td>\n",
       "      <td>Variation</td>\n",
       "      <td>Canonical SPDI</td>\n",
       "      <td>337</td>\n",
       "      <td>Other Variants</td>\n",
       "    </tr>\n",
       "    <tr>\n",
       "      <th>16</th>\n",
       "      <td>16</td>\n",
       "      <td>Insertion</td>\n",
       "      <td>Remaining valid hgvs alleles</td>\n",
       "      <td>191</td>\n",
       "      <td>Sequence Variants</td>\n",
       "    </tr>\n",
       "    <tr>\n",
       "      <th>17</th>\n",
       "      <td>17</td>\n",
       "      <td>Deletion</td>\n",
       "      <td>Absolute copy count</td>\n",
       "      <td>3</td>\n",
       "      <td>Sequence Variants</td>\n",
       "    </tr>\n",
       "    <tr>\n",
       "      <th>18</th>\n",
       "      <td>18</td>\n",
       "      <td>Variation</td>\n",
       "      <td>Remaining valid hgvs alleles</td>\n",
       "      <td>1</td>\n",
       "      <td>Other Variants</td>\n",
       "    </tr>\n",
       "    <tr>\n",
       "      <th>19</th>\n",
       "      <td>19</td>\n",
       "      <td>Duplication</td>\n",
       "      <td>Absolute copy count</td>\n",
       "      <td>1</td>\n",
       "      <td>Sequence Variants</td>\n",
       "    </tr>\n",
       "  </tbody>\n",
       "</table>\n",
       "</div>"
      ],
      "text/plain": [
       "    Unnamed: 0          in.variation_type  \\\n",
       "0            0  single nucleotide variant   \n",
       "1            1                   Deletion   \n",
       "2            2                Duplication   \n",
       "3            3           copy number loss   \n",
       "4            4             Microsatellite   \n",
       "5            5           copy number gain   \n",
       "6            6                   Deletion   \n",
       "7            7                      Indel   \n",
       "8            8                  Insertion   \n",
       "9            9                Duplication   \n",
       "10          10           copy number loss   \n",
       "11          11                  Inversion   \n",
       "12          12           copy number gain   \n",
       "13          13  single nucleotide variant   \n",
       "14          14                      Indel   \n",
       "15          15                  Variation   \n",
       "16          16                  Insertion   \n",
       "17          17                   Deletion   \n",
       "18          18                  Variation   \n",
       "19          19                Duplication   \n",
       "\n",
       "                            in.vrs_xform_plan.policy    count  \\\n",
       "0                                     Canonical SPDI  1934692   \n",
       "1                                     Canonical SPDI    92875   \n",
       "2                                     Canonical SPDI    43185   \n",
       "3                                Absolute copy count    26857   \n",
       "4                                     Canonical SPDI    26678   \n",
       "5                                Absolute copy count    25583   \n",
       "6   Copy number change (cn loss|del and cn gain|dup)    16249   \n",
       "7                                     Canonical SPDI    10986   \n",
       "8                                     Canonical SPDI     8865   \n",
       "9   Copy number change (cn loss|del and cn gain|dup)     8119   \n",
       "10  Copy number change (cn loss|del and cn gain|dup)     1524   \n",
       "11                                    Canonical SPDI     1051   \n",
       "12  Copy number change (cn loss|del and cn gain|dup)     1003   \n",
       "13                      Remaining valid hgvs alleles      396   \n",
       "14                      Remaining valid hgvs alleles      340   \n",
       "15                                    Canonical SPDI      337   \n",
       "16                      Remaining valid hgvs alleles      191   \n",
       "17                               Absolute copy count        3   \n",
       "18                      Remaining valid hgvs alleles        1   \n",
       "19                               Absolute copy count        1   \n",
       "\n",
       "                category  \n",
       "0      Sequence Variants  \n",
       "1      Sequence Variants  \n",
       "2      Sequence Variants  \n",
       "3   Copy Number Variants  \n",
       "4      Sequence Variants  \n",
       "5   Copy Number Variants  \n",
       "6      Sequence Variants  \n",
       "7      Sequence Variants  \n",
       "8      Sequence Variants  \n",
       "9      Sequence Variants  \n",
       "10  Copy Number Variants  \n",
       "11     Sequence Variants  \n",
       "12  Copy Number Variants  \n",
       "13     Sequence Variants  \n",
       "14     Sequence Variants  \n",
       "15        Other Variants  \n",
       "16     Sequence Variants  \n",
       "17     Sequence Variants  \n",
       "18        Other Variants  \n",
       "19     Sequence Variants  "
      ]
     },
     "execution_count": 50,
     "metadata": {},
     "output_type": "execute_result"
    }
   ],
   "source": [
    "clinvar_normalized_df[\"category\"] = clinvar_normalized_df[\"in.variation_type\"].map(clinvar_category_bins)\n",
    "clinvar_normalized_df.head(20)"
   ]
  },
  {
   "cell_type": "code",
   "execution_count": 51,
   "metadata": {},
   "outputs": [
    {
     "data": {
      "text/html": [
       "<div>\n",
       "<style scoped>\n",
       "    .dataframe tbody tr th:only-of-type {\n",
       "        vertical-align: middle;\n",
       "    }\n",
       "\n",
       "    .dataframe tbody tr th {\n",
       "        vertical-align: top;\n",
       "    }\n",
       "\n",
       "    .dataframe thead th {\n",
       "        text-align: right;\n",
       "    }\n",
       "</style>\n",
       "<table border=\"1\" class=\"dataframe\">\n",
       "  <thead>\n",
       "    <tr style=\"text-align: right;\">\n",
       "      <th></th>\n",
       "      <th>Unnamed: 0</th>\n",
       "      <th>in.variation_type</th>\n",
       "      <th>in.vrs_xform_plan.policy</th>\n",
       "      <th>count</th>\n",
       "      <th>category</th>\n",
       "    </tr>\n",
       "  </thead>\n",
       "  <tbody>\n",
       "    <tr>\n",
       "      <th>0</th>\n",
       "      <td>0</td>\n",
       "      <td>copy number loss</td>\n",
       "      <td>Absolute copy count</td>\n",
       "      <td>475</td>\n",
       "      <td>Copy Number Variants</td>\n",
       "    </tr>\n",
       "    <tr>\n",
       "      <th>1</th>\n",
       "      <td>1</td>\n",
       "      <td>copy number gain</td>\n",
       "      <td>Absolute copy count</td>\n",
       "      <td>344</td>\n",
       "      <td>Copy Number Variants</td>\n",
       "    </tr>\n",
       "    <tr>\n",
       "      <th>2</th>\n",
       "      <td>2</td>\n",
       "      <td>Deletion</td>\n",
       "      <td>Copy number change (cn loss|del and cn gain|dup)</td>\n",
       "      <td>89</td>\n",
       "      <td>Sequence Variants</td>\n",
       "    </tr>\n",
       "    <tr>\n",
       "      <th>3</th>\n",
       "      <td>3</td>\n",
       "      <td>Duplication</td>\n",
       "      <td>Copy number change (cn loss|del and cn gain|dup)</td>\n",
       "      <td>72</td>\n",
       "      <td>Sequence Variants</td>\n",
       "    </tr>\n",
       "    <tr>\n",
       "      <th>4</th>\n",
       "      <td>4</td>\n",
       "      <td>copy number loss</td>\n",
       "      <td>Copy number change (cn loss|del and cn gain|dup)</td>\n",
       "      <td>31</td>\n",
       "      <td>Copy Number Variants</td>\n",
       "    </tr>\n",
       "    <tr>\n",
       "      <th>5</th>\n",
       "      <td>5</td>\n",
       "      <td>copy number gain</td>\n",
       "      <td>Copy number change (cn loss|del and cn gain|dup)</td>\n",
       "      <td>17</td>\n",
       "      <td>Copy Number Variants</td>\n",
       "    </tr>\n",
       "    <tr>\n",
       "      <th>6</th>\n",
       "      <td>6</td>\n",
       "      <td>single nucleotide variant</td>\n",
       "      <td>Remaining valid hgvs alleles</td>\n",
       "      <td>11</td>\n",
       "      <td>Sequence Variants</td>\n",
       "    </tr>\n",
       "    <tr>\n",
       "      <th>7</th>\n",
       "      <td>7</td>\n",
       "      <td>Insertion</td>\n",
       "      <td>Remaining valid hgvs alleles</td>\n",
       "      <td>1</td>\n",
       "      <td>Sequence Variants</td>\n",
       "    </tr>\n",
       "    <tr>\n",
       "      <th>8</th>\n",
       "      <td>8</td>\n",
       "      <td>Variation</td>\n",
       "      <td>Remaining valid hgvs alleles</td>\n",
       "      <td>1</td>\n",
       "      <td>Other Variants</td>\n",
       "    </tr>\n",
       "  </tbody>\n",
       "</table>\n",
       "</div>"
      ],
      "text/plain": [
       "   Unnamed: 0          in.variation_type  \\\n",
       "0           0           copy number loss   \n",
       "1           1           copy number gain   \n",
       "2           2                   Deletion   \n",
       "3           3                Duplication   \n",
       "4           4           copy number loss   \n",
       "5           5           copy number gain   \n",
       "6           6  single nucleotide variant   \n",
       "7           7                  Insertion   \n",
       "8           8                  Variation   \n",
       "\n",
       "                           in.vrs_xform_plan.policy  count  \\\n",
       "0                               Absolute copy count    475   \n",
       "1                               Absolute copy count    344   \n",
       "2  Copy number change (cn loss|del and cn gain|dup)     89   \n",
       "3  Copy number change (cn loss|del and cn gain|dup)     72   \n",
       "4  Copy number change (cn loss|del and cn gain|dup)     31   \n",
       "5  Copy number change (cn loss|del and cn gain|dup)     17   \n",
       "6                      Remaining valid hgvs alleles     11   \n",
       "7                      Remaining valid hgvs alleles      1   \n",
       "8                      Remaining valid hgvs alleles      1   \n",
       "\n",
       "               category  \n",
       "0  Copy Number Variants  \n",
       "1  Copy Number Variants  \n",
       "2     Sequence Variants  \n",
       "3     Sequence Variants  \n",
       "4  Copy Number Variants  \n",
       "5  Copy Number Variants  \n",
       "6     Sequence Variants  \n",
       "7     Sequence Variants  \n",
       "8        Other Variants  "
      ]
     },
     "execution_count": 51,
     "metadata": {},
     "output_type": "execute_result"
    }
   ],
   "source": [
    "clinvar_not_normalized_df[\"category\"] = clinvar_not_normalized_df[\"in.variation_type\"].map(clinvar_category_bins)\n",
    "clinvar_not_normalized_df.head(20)"
   ]
  },
  {
   "cell_type": "code",
   "execution_count": 52,
   "metadata": {},
   "outputs": [
    {
     "data": {
      "text/html": [
       "<div>\n",
       "<style scoped>\n",
       "    .dataframe tbody tr th:only-of-type {\n",
       "        vertical-align: middle;\n",
       "    }\n",
       "\n",
       "    .dataframe tbody tr th {\n",
       "        vertical-align: top;\n",
       "    }\n",
       "\n",
       "    .dataframe thead th {\n",
       "        text-align: right;\n",
       "    }\n",
       "</style>\n",
       "<table border=\"1\" class=\"dataframe\">\n",
       "  <thead>\n",
       "    <tr style=\"text-align: right;\">\n",
       "      <th></th>\n",
       "      <th>Unnamed: 0</th>\n",
       "      <th>in.variation_type</th>\n",
       "      <th>in.vrs_xform_plan.policy</th>\n",
       "      <th>count</th>\n",
       "      <th>category</th>\n",
       "    </tr>\n",
       "  </thead>\n",
       "  <tbody>\n",
       "    <tr>\n",
       "      <th>0</th>\n",
       "      <td>0</td>\n",
       "      <td>copy number gain</td>\n",
       "      <td>NCBI36 genomic only</td>\n",
       "      <td>2897</td>\n",
       "      <td>Copy Number Variants</td>\n",
       "    </tr>\n",
       "    <tr>\n",
       "      <th>1</th>\n",
       "      <td>1</td>\n",
       "      <td>copy number loss</td>\n",
       "      <td>NCBI36 genomic only</td>\n",
       "      <td>1749</td>\n",
       "      <td>Copy Number Variants</td>\n",
       "    </tr>\n",
       "    <tr>\n",
       "      <th>2</th>\n",
       "      <td>2</td>\n",
       "      <td>Deletion</td>\n",
       "      <td>No hgvs or location info</td>\n",
       "      <td>1236</td>\n",
       "      <td>Sequence Variants</td>\n",
       "    </tr>\n",
       "    <tr>\n",
       "      <th>3</th>\n",
       "      <td>3</td>\n",
       "      <td>Diplotype</td>\n",
       "      <td>Genotype/Haplotype</td>\n",
       "      <td>596</td>\n",
       "      <td>Genotype Variants</td>\n",
       "    </tr>\n",
       "    <tr>\n",
       "      <th>4</th>\n",
       "      <td>4</td>\n",
       "      <td>Haplotype</td>\n",
       "      <td>Genotype/Haplotype</td>\n",
       "      <td>565</td>\n",
       "      <td>Sequence Variants</td>\n",
       "    </tr>\n",
       "    <tr>\n",
       "      <th>5</th>\n",
       "      <td>5</td>\n",
       "      <td>Microsatellite</td>\n",
       "      <td>Invalid/unsupported hgvs</td>\n",
       "      <td>415</td>\n",
       "      <td>Sequence Variants</td>\n",
       "    </tr>\n",
       "    <tr>\n",
       "      <th>6</th>\n",
       "      <td>6</td>\n",
       "      <td>Deletion</td>\n",
       "      <td>Invalid/unsupported hgvs</td>\n",
       "      <td>413</td>\n",
       "      <td>Sequence Variants</td>\n",
       "    </tr>\n",
       "    <tr>\n",
       "      <th>7</th>\n",
       "      <td>7</td>\n",
       "      <td>Insertion</td>\n",
       "      <td>No hgvs or location info</td>\n",
       "      <td>382</td>\n",
       "      <td>Sequence Variants</td>\n",
       "    </tr>\n",
       "    <tr>\n",
       "      <th>8</th>\n",
       "      <td>8</td>\n",
       "      <td>Insertion</td>\n",
       "      <td>Invalid/unsupported hgvs</td>\n",
       "      <td>306</td>\n",
       "      <td>Sequence Variants</td>\n",
       "    </tr>\n",
       "    <tr>\n",
       "      <th>9</th>\n",
       "      <td>9</td>\n",
       "      <td>single nucleotide variant</td>\n",
       "      <td>No hgvs or location info</td>\n",
       "      <td>287</td>\n",
       "      <td>Sequence Variants</td>\n",
       "    </tr>\n",
       "    <tr>\n",
       "      <th>10</th>\n",
       "      <td>10</td>\n",
       "      <td>Translocation</td>\n",
       "      <td>No hgvs or location info</td>\n",
       "      <td>271</td>\n",
       "      <td>Rearrangement Variants</td>\n",
       "    </tr>\n",
       "    <tr>\n",
       "      <th>11</th>\n",
       "      <td>11</td>\n",
       "      <td>Duplication</td>\n",
       "      <td>No hgvs or location info</td>\n",
       "      <td>265</td>\n",
       "      <td>Sequence Variants</td>\n",
       "    </tr>\n",
       "    <tr>\n",
       "      <th>12</th>\n",
       "      <td>12</td>\n",
       "      <td>CompoundHeterozygote</td>\n",
       "      <td>Genotype/Haplotype</td>\n",
       "      <td>249</td>\n",
       "      <td>Genotype Variants</td>\n",
       "    </tr>\n",
       "    <tr>\n",
       "      <th>13</th>\n",
       "      <td>13</td>\n",
       "      <td>Variation</td>\n",
       "      <td>No hgvs or location info</td>\n",
       "      <td>206</td>\n",
       "      <td>Other Variants</td>\n",
       "    </tr>\n",
       "    <tr>\n",
       "      <th>14</th>\n",
       "      <td>14</td>\n",
       "      <td>Indel</td>\n",
       "      <td>No hgvs or location info</td>\n",
       "      <td>138</td>\n",
       "      <td>Sequence Variants</td>\n",
       "    </tr>\n",
       "    <tr>\n",
       "      <th>15</th>\n",
       "      <td>15</td>\n",
       "      <td>Duplication</td>\n",
       "      <td>Invalid/unsupported hgvs</td>\n",
       "      <td>116</td>\n",
       "      <td>Sequence Variants</td>\n",
       "    </tr>\n",
       "    <tr>\n",
       "      <th>16</th>\n",
       "      <td>16</td>\n",
       "      <td>protein only</td>\n",
       "      <td>No hgvs or location info</td>\n",
       "      <td>95</td>\n",
       "      <td>Sequence Variants</td>\n",
       "    </tr>\n",
       "    <tr>\n",
       "      <th>17</th>\n",
       "      <td>17</td>\n",
       "      <td>Complex</td>\n",
       "      <td>No hgvs or location info</td>\n",
       "      <td>72</td>\n",
       "      <td>Other Variants</td>\n",
       "    </tr>\n",
       "    <tr>\n",
       "      <th>18</th>\n",
       "      <td>18</td>\n",
       "      <td>Deletion</td>\n",
       "      <td>NCBI36 genomic only</td>\n",
       "      <td>71</td>\n",
       "      <td>Sequence Variants</td>\n",
       "    </tr>\n",
       "    <tr>\n",
       "      <th>19</th>\n",
       "      <td>19</td>\n",
       "      <td>Microsatellite</td>\n",
       "      <td>No hgvs or location info</td>\n",
       "      <td>67</td>\n",
       "      <td>Sequence Variants</td>\n",
       "    </tr>\n",
       "  </tbody>\n",
       "</table>\n",
       "</div>"
      ],
      "text/plain": [
       "    Unnamed: 0          in.variation_type  in.vrs_xform_plan.policy  count  \\\n",
       "0            0           copy number gain       NCBI36 genomic only   2897   \n",
       "1            1           copy number loss       NCBI36 genomic only   1749   \n",
       "2            2                   Deletion  No hgvs or location info   1236   \n",
       "3            3                  Diplotype        Genotype/Haplotype    596   \n",
       "4            4                  Haplotype        Genotype/Haplotype    565   \n",
       "5            5             Microsatellite  Invalid/unsupported hgvs    415   \n",
       "6            6                   Deletion  Invalid/unsupported hgvs    413   \n",
       "7            7                  Insertion  No hgvs or location info    382   \n",
       "8            8                  Insertion  Invalid/unsupported hgvs    306   \n",
       "9            9  single nucleotide variant  No hgvs or location info    287   \n",
       "10          10              Translocation  No hgvs or location info    271   \n",
       "11          11                Duplication  No hgvs or location info    265   \n",
       "12          12       CompoundHeterozygote        Genotype/Haplotype    249   \n",
       "13          13                  Variation  No hgvs or location info    206   \n",
       "14          14                      Indel  No hgvs or location info    138   \n",
       "15          15                Duplication  Invalid/unsupported hgvs    116   \n",
       "16          16               protein only  No hgvs or location info     95   \n",
       "17          17                    Complex  No hgvs or location info     72   \n",
       "18          18                   Deletion       NCBI36 genomic only     71   \n",
       "19          19             Microsatellite  No hgvs or location info     67   \n",
       "\n",
       "                  category  \n",
       "0     Copy Number Variants  \n",
       "1     Copy Number Variants  \n",
       "2        Sequence Variants  \n",
       "3        Genotype Variants  \n",
       "4        Sequence Variants  \n",
       "5        Sequence Variants  \n",
       "6        Sequence Variants  \n",
       "7        Sequence Variants  \n",
       "8        Sequence Variants  \n",
       "9        Sequence Variants  \n",
       "10  Rearrangement Variants  \n",
       "11       Sequence Variants  \n",
       "12       Genotype Variants  \n",
       "13          Other Variants  \n",
       "14       Sequence Variants  \n",
       "15       Sequence Variants  \n",
       "16       Sequence Variants  \n",
       "17          Other Variants  \n",
       "18       Sequence Variants  \n",
       "19       Sequence Variants  "
      ]
     },
     "execution_count": 52,
     "metadata": {},
     "output_type": "execute_result"
    }
   ],
   "source": [
    "clinvar_not_supported_df[\"category\"] = clinvar_not_supported_df[\"in.variation_type\"].map(clinvar_category_bins)\n",
    "clinvar_not_supported_df.head(20)"
   ]
  },
  {
   "cell_type": "markdown",
   "metadata": {},
   "source": [
    "Due to the structure of the data and the way that the original analysis developed, some but not all CNVs per the in.variation_type were annotated in the in.vrs_xform_plan.policy column as \"Copy number change (cn loss|del and cn gain|dup)\", \"Absolute copy count\", or \"Min/max copy count range not supported\".  However, some of the Copy number Gain/Loss variants did not get binned as CNVs per the in.vrs_xform_plan.policy.  Therefore, we need to mark those variants in the union of the following two sets as being in the category of Copy Number Variants:\n",
    "\n",
    "Variants with in.variant_type ==\n",
    "1. copy number loss\n",
    "2. copy number gain\n",
    "\n",
    "Variants with in.vrs_xform_plan.policy == \n",
    "1. Copy number change (cn loss|del and cn gain|dup)\n",
    "2. Absolute copy count\n",
    "3. Min/max copy count range not supported\n",
    "\n",
    "Above we already caught the first set of variants. Now we must go back through each df one more time and map the variants we missed per in.vrs_xform_plan.policy values to the category of Copy Number Variants."
   ]
  },
  {
   "cell_type": "code",
   "execution_count": 53,
   "metadata": {},
   "outputs": [],
   "source": [
    "cnv_per_policy = [\"Copy number change (cn loss|del and cn gain|dup)\",\"Absolute copy count\",\"Min/max copy count range not supported\",\"Copy number change (cn loss|del and cn gain|dup)\"]"
   ]
  },
  {
   "cell_type": "code",
   "execution_count": 54,
   "metadata": {},
   "outputs": [],
   "source": [
    "clinvar_normalized_df.loc[\n",
    "    clinvar_normalized_df[\"in.vrs_xform_plan.policy\"].isin(cnv_per_policy),\n",
    "      \"category\"\n",
    "      ] = \"Copy Number Variants\"\n"
   ]
  },
  {
   "cell_type": "code",
   "execution_count": 55,
   "metadata": {},
   "outputs": [
    {
     "data": {
      "text/html": [
       "<div>\n",
       "<style scoped>\n",
       "    .dataframe tbody tr th:only-of-type {\n",
       "        vertical-align: middle;\n",
       "    }\n",
       "\n",
       "    .dataframe tbody tr th {\n",
       "        vertical-align: top;\n",
       "    }\n",
       "\n",
       "    .dataframe thead th {\n",
       "        text-align: right;\n",
       "    }\n",
       "</style>\n",
       "<table border=\"1\" class=\"dataframe\">\n",
       "  <thead>\n",
       "    <tr style=\"text-align: right;\">\n",
       "      <th></th>\n",
       "      <th>Unnamed: 0</th>\n",
       "      <th>in.variation_type</th>\n",
       "      <th>in.vrs_xform_plan.policy</th>\n",
       "      <th>count</th>\n",
       "      <th>category</th>\n",
       "    </tr>\n",
       "  </thead>\n",
       "  <tbody>\n",
       "    <tr>\n",
       "      <th>0</th>\n",
       "      <td>0</td>\n",
       "      <td>single nucleotide variant</td>\n",
       "      <td>Canonical SPDI</td>\n",
       "      <td>1934692</td>\n",
       "      <td>Sequence Variants</td>\n",
       "    </tr>\n",
       "    <tr>\n",
       "      <th>1</th>\n",
       "      <td>1</td>\n",
       "      <td>Deletion</td>\n",
       "      <td>Canonical SPDI</td>\n",
       "      <td>92875</td>\n",
       "      <td>Sequence Variants</td>\n",
       "    </tr>\n",
       "    <tr>\n",
       "      <th>2</th>\n",
       "      <td>2</td>\n",
       "      <td>Duplication</td>\n",
       "      <td>Canonical SPDI</td>\n",
       "      <td>43185</td>\n",
       "      <td>Sequence Variants</td>\n",
       "    </tr>\n",
       "    <tr>\n",
       "      <th>3</th>\n",
       "      <td>3</td>\n",
       "      <td>copy number loss</td>\n",
       "      <td>Absolute copy count</td>\n",
       "      <td>26857</td>\n",
       "      <td>Copy Number Variants</td>\n",
       "    </tr>\n",
       "    <tr>\n",
       "      <th>4</th>\n",
       "      <td>4</td>\n",
       "      <td>Microsatellite</td>\n",
       "      <td>Canonical SPDI</td>\n",
       "      <td>26678</td>\n",
       "      <td>Sequence Variants</td>\n",
       "    </tr>\n",
       "    <tr>\n",
       "      <th>5</th>\n",
       "      <td>5</td>\n",
       "      <td>copy number gain</td>\n",
       "      <td>Absolute copy count</td>\n",
       "      <td>25583</td>\n",
       "      <td>Copy Number Variants</td>\n",
       "    </tr>\n",
       "    <tr>\n",
       "      <th>6</th>\n",
       "      <td>6</td>\n",
       "      <td>Deletion</td>\n",
       "      <td>Copy number change (cn loss|del and cn gain|dup)</td>\n",
       "      <td>16249</td>\n",
       "      <td>Copy Number Variants</td>\n",
       "    </tr>\n",
       "    <tr>\n",
       "      <th>7</th>\n",
       "      <td>7</td>\n",
       "      <td>Indel</td>\n",
       "      <td>Canonical SPDI</td>\n",
       "      <td>10986</td>\n",
       "      <td>Sequence Variants</td>\n",
       "    </tr>\n",
       "    <tr>\n",
       "      <th>8</th>\n",
       "      <td>8</td>\n",
       "      <td>Insertion</td>\n",
       "      <td>Canonical SPDI</td>\n",
       "      <td>8865</td>\n",
       "      <td>Sequence Variants</td>\n",
       "    </tr>\n",
       "    <tr>\n",
       "      <th>9</th>\n",
       "      <td>9</td>\n",
       "      <td>Duplication</td>\n",
       "      <td>Copy number change (cn loss|del and cn gain|dup)</td>\n",
       "      <td>8119</td>\n",
       "      <td>Copy Number Variants</td>\n",
       "    </tr>\n",
       "    <tr>\n",
       "      <th>10</th>\n",
       "      <td>10</td>\n",
       "      <td>copy number loss</td>\n",
       "      <td>Copy number change (cn loss|del and cn gain|dup)</td>\n",
       "      <td>1524</td>\n",
       "      <td>Copy Number Variants</td>\n",
       "    </tr>\n",
       "    <tr>\n",
       "      <th>11</th>\n",
       "      <td>11</td>\n",
       "      <td>Inversion</td>\n",
       "      <td>Canonical SPDI</td>\n",
       "      <td>1051</td>\n",
       "      <td>Sequence Variants</td>\n",
       "    </tr>\n",
       "    <tr>\n",
       "      <th>12</th>\n",
       "      <td>12</td>\n",
       "      <td>copy number gain</td>\n",
       "      <td>Copy number change (cn loss|del and cn gain|dup)</td>\n",
       "      <td>1003</td>\n",
       "      <td>Copy Number Variants</td>\n",
       "    </tr>\n",
       "    <tr>\n",
       "      <th>13</th>\n",
       "      <td>13</td>\n",
       "      <td>single nucleotide variant</td>\n",
       "      <td>Remaining valid hgvs alleles</td>\n",
       "      <td>396</td>\n",
       "      <td>Sequence Variants</td>\n",
       "    </tr>\n",
       "    <tr>\n",
       "      <th>14</th>\n",
       "      <td>14</td>\n",
       "      <td>Indel</td>\n",
       "      <td>Remaining valid hgvs alleles</td>\n",
       "      <td>340</td>\n",
       "      <td>Sequence Variants</td>\n",
       "    </tr>\n",
       "    <tr>\n",
       "      <th>15</th>\n",
       "      <td>15</td>\n",
       "      <td>Variation</td>\n",
       "      <td>Canonical SPDI</td>\n",
       "      <td>337</td>\n",
       "      <td>Other Variants</td>\n",
       "    </tr>\n",
       "    <tr>\n",
       "      <th>16</th>\n",
       "      <td>16</td>\n",
       "      <td>Insertion</td>\n",
       "      <td>Remaining valid hgvs alleles</td>\n",
       "      <td>191</td>\n",
       "      <td>Sequence Variants</td>\n",
       "    </tr>\n",
       "    <tr>\n",
       "      <th>17</th>\n",
       "      <td>17</td>\n",
       "      <td>Deletion</td>\n",
       "      <td>Absolute copy count</td>\n",
       "      <td>3</td>\n",
       "      <td>Copy Number Variants</td>\n",
       "    </tr>\n",
       "    <tr>\n",
       "      <th>18</th>\n",
       "      <td>18</td>\n",
       "      <td>Variation</td>\n",
       "      <td>Remaining valid hgvs alleles</td>\n",
       "      <td>1</td>\n",
       "      <td>Other Variants</td>\n",
       "    </tr>\n",
       "    <tr>\n",
       "      <th>19</th>\n",
       "      <td>19</td>\n",
       "      <td>Duplication</td>\n",
       "      <td>Absolute copy count</td>\n",
       "      <td>1</td>\n",
       "      <td>Copy Number Variants</td>\n",
       "    </tr>\n",
       "  </tbody>\n",
       "</table>\n",
       "</div>"
      ],
      "text/plain": [
       "    Unnamed: 0          in.variation_type  \\\n",
       "0            0  single nucleotide variant   \n",
       "1            1                   Deletion   \n",
       "2            2                Duplication   \n",
       "3            3           copy number loss   \n",
       "4            4             Microsatellite   \n",
       "5            5           copy number gain   \n",
       "6            6                   Deletion   \n",
       "7            7                      Indel   \n",
       "8            8                  Insertion   \n",
       "9            9                Duplication   \n",
       "10          10           copy number loss   \n",
       "11          11                  Inversion   \n",
       "12          12           copy number gain   \n",
       "13          13  single nucleotide variant   \n",
       "14          14                      Indel   \n",
       "15          15                  Variation   \n",
       "16          16                  Insertion   \n",
       "17          17                   Deletion   \n",
       "18          18                  Variation   \n",
       "19          19                Duplication   \n",
       "\n",
       "                            in.vrs_xform_plan.policy    count  \\\n",
       "0                                     Canonical SPDI  1934692   \n",
       "1                                     Canonical SPDI    92875   \n",
       "2                                     Canonical SPDI    43185   \n",
       "3                                Absolute copy count    26857   \n",
       "4                                     Canonical SPDI    26678   \n",
       "5                                Absolute copy count    25583   \n",
       "6   Copy number change (cn loss|del and cn gain|dup)    16249   \n",
       "7                                     Canonical SPDI    10986   \n",
       "8                                     Canonical SPDI     8865   \n",
       "9   Copy number change (cn loss|del and cn gain|dup)     8119   \n",
       "10  Copy number change (cn loss|del and cn gain|dup)     1524   \n",
       "11                                    Canonical SPDI     1051   \n",
       "12  Copy number change (cn loss|del and cn gain|dup)     1003   \n",
       "13                      Remaining valid hgvs alleles      396   \n",
       "14                      Remaining valid hgvs alleles      340   \n",
       "15                                    Canonical SPDI      337   \n",
       "16                      Remaining valid hgvs alleles      191   \n",
       "17                               Absolute copy count        3   \n",
       "18                      Remaining valid hgvs alleles        1   \n",
       "19                               Absolute copy count        1   \n",
       "\n",
       "                category  \n",
       "0      Sequence Variants  \n",
       "1      Sequence Variants  \n",
       "2      Sequence Variants  \n",
       "3   Copy Number Variants  \n",
       "4      Sequence Variants  \n",
       "5   Copy Number Variants  \n",
       "6   Copy Number Variants  \n",
       "7      Sequence Variants  \n",
       "8      Sequence Variants  \n",
       "9   Copy Number Variants  \n",
       "10  Copy Number Variants  \n",
       "11     Sequence Variants  \n",
       "12  Copy Number Variants  \n",
       "13     Sequence Variants  \n",
       "14     Sequence Variants  \n",
       "15        Other Variants  \n",
       "16     Sequence Variants  \n",
       "17  Copy Number Variants  \n",
       "18        Other Variants  \n",
       "19  Copy Number Variants  "
      ]
     },
     "execution_count": 55,
     "metadata": {},
     "output_type": "execute_result"
    }
   ],
   "source": [
    "clinvar_normalized_df"
   ]
  },
  {
   "cell_type": "code",
   "execution_count": 56,
   "metadata": {},
   "outputs": [
    {
     "data": {
      "text/html": [
       "<div>\n",
       "<style scoped>\n",
       "    .dataframe tbody tr th:only-of-type {\n",
       "        vertical-align: middle;\n",
       "    }\n",
       "\n",
       "    .dataframe tbody tr th {\n",
       "        vertical-align: top;\n",
       "    }\n",
       "\n",
       "    .dataframe thead th {\n",
       "        text-align: right;\n",
       "    }\n",
       "</style>\n",
       "<table border=\"1\" class=\"dataframe\">\n",
       "  <thead>\n",
       "    <tr style=\"text-align: right;\">\n",
       "      <th></th>\n",
       "      <th>Unnamed: 0</th>\n",
       "      <th>in.variation_type</th>\n",
       "      <th>in.vrs_xform_plan.policy</th>\n",
       "      <th>count</th>\n",
       "      <th>category</th>\n",
       "    </tr>\n",
       "  </thead>\n",
       "  <tbody>\n",
       "    <tr>\n",
       "      <th>0</th>\n",
       "      <td>0</td>\n",
       "      <td>copy number loss</td>\n",
       "      <td>Absolute copy count</td>\n",
       "      <td>475</td>\n",
       "      <td>Copy Number Variants</td>\n",
       "    </tr>\n",
       "    <tr>\n",
       "      <th>1</th>\n",
       "      <td>1</td>\n",
       "      <td>copy number gain</td>\n",
       "      <td>Absolute copy count</td>\n",
       "      <td>344</td>\n",
       "      <td>Copy Number Variants</td>\n",
       "    </tr>\n",
       "    <tr>\n",
       "      <th>2</th>\n",
       "      <td>2</td>\n",
       "      <td>Deletion</td>\n",
       "      <td>Copy number change (cn loss|del and cn gain|dup)</td>\n",
       "      <td>89</td>\n",
       "      <td>Sequence Variants</td>\n",
       "    </tr>\n",
       "    <tr>\n",
       "      <th>3</th>\n",
       "      <td>3</td>\n",
       "      <td>Duplication</td>\n",
       "      <td>Copy number change (cn loss|del and cn gain|dup)</td>\n",
       "      <td>72</td>\n",
       "      <td>Sequence Variants</td>\n",
       "    </tr>\n",
       "    <tr>\n",
       "      <th>4</th>\n",
       "      <td>4</td>\n",
       "      <td>copy number loss</td>\n",
       "      <td>Copy number change (cn loss|del and cn gain|dup)</td>\n",
       "      <td>31</td>\n",
       "      <td>Copy Number Variants</td>\n",
       "    </tr>\n",
       "    <tr>\n",
       "      <th>5</th>\n",
       "      <td>5</td>\n",
       "      <td>copy number gain</td>\n",
       "      <td>Copy number change (cn loss|del and cn gain|dup)</td>\n",
       "      <td>17</td>\n",
       "      <td>Copy Number Variants</td>\n",
       "    </tr>\n",
       "    <tr>\n",
       "      <th>6</th>\n",
       "      <td>6</td>\n",
       "      <td>single nucleotide variant</td>\n",
       "      <td>Remaining valid hgvs alleles</td>\n",
       "      <td>11</td>\n",
       "      <td>Sequence Variants</td>\n",
       "    </tr>\n",
       "    <tr>\n",
       "      <th>7</th>\n",
       "      <td>7</td>\n",
       "      <td>Insertion</td>\n",
       "      <td>Remaining valid hgvs alleles</td>\n",
       "      <td>1</td>\n",
       "      <td>Sequence Variants</td>\n",
       "    </tr>\n",
       "    <tr>\n",
       "      <th>8</th>\n",
       "      <td>8</td>\n",
       "      <td>Variation</td>\n",
       "      <td>Remaining valid hgvs alleles</td>\n",
       "      <td>1</td>\n",
       "      <td>Other Variants</td>\n",
       "    </tr>\n",
       "  </tbody>\n",
       "</table>\n",
       "</div>"
      ],
      "text/plain": [
       "   Unnamed: 0          in.variation_type  \\\n",
       "0           0           copy number loss   \n",
       "1           1           copy number gain   \n",
       "2           2                   Deletion   \n",
       "3           3                Duplication   \n",
       "4           4           copy number loss   \n",
       "5           5           copy number gain   \n",
       "6           6  single nucleotide variant   \n",
       "7           7                  Insertion   \n",
       "8           8                  Variation   \n",
       "\n",
       "                           in.vrs_xform_plan.policy  count  \\\n",
       "0                               Absolute copy count    475   \n",
       "1                               Absolute copy count    344   \n",
       "2  Copy number change (cn loss|del and cn gain|dup)     89   \n",
       "3  Copy number change (cn loss|del and cn gain|dup)     72   \n",
       "4  Copy number change (cn loss|del and cn gain|dup)     31   \n",
       "5  Copy number change (cn loss|del and cn gain|dup)     17   \n",
       "6                      Remaining valid hgvs alleles     11   \n",
       "7                      Remaining valid hgvs alleles      1   \n",
       "8                      Remaining valid hgvs alleles      1   \n",
       "\n",
       "               category  \n",
       "0  Copy Number Variants  \n",
       "1  Copy Number Variants  \n",
       "2     Sequence Variants  \n",
       "3     Sequence Variants  \n",
       "4  Copy Number Variants  \n",
       "5  Copy Number Variants  \n",
       "6     Sequence Variants  \n",
       "7     Sequence Variants  \n",
       "8        Other Variants  "
      ]
     },
     "execution_count": 56,
     "metadata": {},
     "output_type": "execute_result"
    }
   ],
   "source": [
    "clinvar_not_normalized_df"
   ]
  },
  {
   "cell_type": "code",
   "execution_count": 57,
   "metadata": {},
   "outputs": [
    {
     "data": {
      "text/html": [
       "<div>\n",
       "<style scoped>\n",
       "    .dataframe tbody tr th:only-of-type {\n",
       "        vertical-align: middle;\n",
       "    }\n",
       "\n",
       "    .dataframe tbody tr th {\n",
       "        vertical-align: top;\n",
       "    }\n",
       "\n",
       "    .dataframe thead th {\n",
       "        text-align: right;\n",
       "    }\n",
       "</style>\n",
       "<table border=\"1\" class=\"dataframe\">\n",
       "  <thead>\n",
       "    <tr style=\"text-align: right;\">\n",
       "      <th></th>\n",
       "      <th>Unnamed: 0</th>\n",
       "      <th>in.variation_type</th>\n",
       "      <th>in.vrs_xform_plan.policy</th>\n",
       "      <th>count</th>\n",
       "      <th>category</th>\n",
       "    </tr>\n",
       "  </thead>\n",
       "  <tbody>\n",
       "    <tr>\n",
       "      <th>0</th>\n",
       "      <td>0</td>\n",
       "      <td>copy number loss</td>\n",
       "      <td>Absolute copy count</td>\n",
       "      <td>475</td>\n",
       "      <td>Copy Number Variants</td>\n",
       "    </tr>\n",
       "    <tr>\n",
       "      <th>1</th>\n",
       "      <td>1</td>\n",
       "      <td>copy number gain</td>\n",
       "      <td>Absolute copy count</td>\n",
       "      <td>344</td>\n",
       "      <td>Copy Number Variants</td>\n",
       "    </tr>\n",
       "    <tr>\n",
       "      <th>2</th>\n",
       "      <td>2</td>\n",
       "      <td>Deletion</td>\n",
       "      <td>Copy number change (cn loss|del and cn gain|dup)</td>\n",
       "      <td>89</td>\n",
       "      <td>Copy Number Variants</td>\n",
       "    </tr>\n",
       "    <tr>\n",
       "      <th>3</th>\n",
       "      <td>3</td>\n",
       "      <td>Duplication</td>\n",
       "      <td>Copy number change (cn loss|del and cn gain|dup)</td>\n",
       "      <td>72</td>\n",
       "      <td>Copy Number Variants</td>\n",
       "    </tr>\n",
       "    <tr>\n",
       "      <th>4</th>\n",
       "      <td>4</td>\n",
       "      <td>copy number loss</td>\n",
       "      <td>Copy number change (cn loss|del and cn gain|dup)</td>\n",
       "      <td>31</td>\n",
       "      <td>Copy Number Variants</td>\n",
       "    </tr>\n",
       "    <tr>\n",
       "      <th>5</th>\n",
       "      <td>5</td>\n",
       "      <td>copy number gain</td>\n",
       "      <td>Copy number change (cn loss|del and cn gain|dup)</td>\n",
       "      <td>17</td>\n",
       "      <td>Copy Number Variants</td>\n",
       "    </tr>\n",
       "    <tr>\n",
       "      <th>6</th>\n",
       "      <td>6</td>\n",
       "      <td>single nucleotide variant</td>\n",
       "      <td>Remaining valid hgvs alleles</td>\n",
       "      <td>11</td>\n",
       "      <td>Sequence Variants</td>\n",
       "    </tr>\n",
       "    <tr>\n",
       "      <th>7</th>\n",
       "      <td>7</td>\n",
       "      <td>Insertion</td>\n",
       "      <td>Remaining valid hgvs alleles</td>\n",
       "      <td>1</td>\n",
       "      <td>Sequence Variants</td>\n",
       "    </tr>\n",
       "    <tr>\n",
       "      <th>8</th>\n",
       "      <td>8</td>\n",
       "      <td>Variation</td>\n",
       "      <td>Remaining valid hgvs alleles</td>\n",
       "      <td>1</td>\n",
       "      <td>Other Variants</td>\n",
       "    </tr>\n",
       "  </tbody>\n",
       "</table>\n",
       "</div>"
      ],
      "text/plain": [
       "   Unnamed: 0          in.variation_type  \\\n",
       "0           0           copy number loss   \n",
       "1           1           copy number gain   \n",
       "2           2                   Deletion   \n",
       "3           3                Duplication   \n",
       "4           4           copy number loss   \n",
       "5           5           copy number gain   \n",
       "6           6  single nucleotide variant   \n",
       "7           7                  Insertion   \n",
       "8           8                  Variation   \n",
       "\n",
       "                           in.vrs_xform_plan.policy  count  \\\n",
       "0                               Absolute copy count    475   \n",
       "1                               Absolute copy count    344   \n",
       "2  Copy number change (cn loss|del and cn gain|dup)     89   \n",
       "3  Copy number change (cn loss|del and cn gain|dup)     72   \n",
       "4  Copy number change (cn loss|del and cn gain|dup)     31   \n",
       "5  Copy number change (cn loss|del and cn gain|dup)     17   \n",
       "6                      Remaining valid hgvs alleles     11   \n",
       "7                      Remaining valid hgvs alleles      1   \n",
       "8                      Remaining valid hgvs alleles      1   \n",
       "\n",
       "               category  \n",
       "0  Copy Number Variants  \n",
       "1  Copy Number Variants  \n",
       "2  Copy Number Variants  \n",
       "3  Copy Number Variants  \n",
       "4  Copy Number Variants  \n",
       "5  Copy Number Variants  \n",
       "6     Sequence Variants  \n",
       "7     Sequence Variants  \n",
       "8        Other Variants  "
      ]
     },
     "execution_count": 57,
     "metadata": {},
     "output_type": "execute_result"
    }
   ],
   "source": [
    "clinvar_not_normalized_df.loc[\n",
    "    clinvar_not_normalized_df[\"in.vrs_xform_plan.policy\"].isin(cnv_per_policy),\n",
    "      \"category\"\n",
    "      ] = \"Copy Number Variants\"\n",
    "\n",
    "\n",
    "clinvar_not_normalized_df"
   ]
  },
  {
   "cell_type": "code",
   "execution_count": 58,
   "metadata": {},
   "outputs": [
    {
     "data": {
      "text/html": [
       "<div>\n",
       "<style scoped>\n",
       "    .dataframe tbody tr th:only-of-type {\n",
       "        vertical-align: middle;\n",
       "    }\n",
       "\n",
       "    .dataframe tbody tr th {\n",
       "        vertical-align: top;\n",
       "    }\n",
       "\n",
       "    .dataframe thead th {\n",
       "        text-align: right;\n",
       "    }\n",
       "</style>\n",
       "<table border=\"1\" class=\"dataframe\">\n",
       "  <thead>\n",
       "    <tr style=\"text-align: right;\">\n",
       "      <th></th>\n",
       "      <th>Unnamed: 0</th>\n",
       "      <th>in.variation_type</th>\n",
       "      <th>in.vrs_xform_plan.policy</th>\n",
       "      <th>count</th>\n",
       "      <th>category</th>\n",
       "    </tr>\n",
       "  </thead>\n",
       "  <tbody>\n",
       "    <tr>\n",
       "      <th>0</th>\n",
       "      <td>0</td>\n",
       "      <td>copy number gain</td>\n",
       "      <td>NCBI36 genomic only</td>\n",
       "      <td>2897</td>\n",
       "      <td>Copy Number Variants</td>\n",
       "    </tr>\n",
       "    <tr>\n",
       "      <th>1</th>\n",
       "      <td>1</td>\n",
       "      <td>copy number loss</td>\n",
       "      <td>NCBI36 genomic only</td>\n",
       "      <td>1749</td>\n",
       "      <td>Copy Number Variants</td>\n",
       "    </tr>\n",
       "    <tr>\n",
       "      <th>2</th>\n",
       "      <td>2</td>\n",
       "      <td>Deletion</td>\n",
       "      <td>No hgvs or location info</td>\n",
       "      <td>1236</td>\n",
       "      <td>Sequence Variants</td>\n",
       "    </tr>\n",
       "    <tr>\n",
       "      <th>3</th>\n",
       "      <td>3</td>\n",
       "      <td>Diplotype</td>\n",
       "      <td>Genotype/Haplotype</td>\n",
       "      <td>596</td>\n",
       "      <td>Genotype Variants</td>\n",
       "    </tr>\n",
       "    <tr>\n",
       "      <th>4</th>\n",
       "      <td>4</td>\n",
       "      <td>Haplotype</td>\n",
       "      <td>Genotype/Haplotype</td>\n",
       "      <td>565</td>\n",
       "      <td>Sequence Variants</td>\n",
       "    </tr>\n",
       "    <tr>\n",
       "      <th>5</th>\n",
       "      <td>5</td>\n",
       "      <td>Microsatellite</td>\n",
       "      <td>Invalid/unsupported hgvs</td>\n",
       "      <td>415</td>\n",
       "      <td>Sequence Variants</td>\n",
       "    </tr>\n",
       "    <tr>\n",
       "      <th>6</th>\n",
       "      <td>6</td>\n",
       "      <td>Deletion</td>\n",
       "      <td>Invalid/unsupported hgvs</td>\n",
       "      <td>413</td>\n",
       "      <td>Sequence Variants</td>\n",
       "    </tr>\n",
       "    <tr>\n",
       "      <th>7</th>\n",
       "      <td>7</td>\n",
       "      <td>Insertion</td>\n",
       "      <td>No hgvs or location info</td>\n",
       "      <td>382</td>\n",
       "      <td>Sequence Variants</td>\n",
       "    </tr>\n",
       "    <tr>\n",
       "      <th>8</th>\n",
       "      <td>8</td>\n",
       "      <td>Insertion</td>\n",
       "      <td>Invalid/unsupported hgvs</td>\n",
       "      <td>306</td>\n",
       "      <td>Sequence Variants</td>\n",
       "    </tr>\n",
       "    <tr>\n",
       "      <th>9</th>\n",
       "      <td>9</td>\n",
       "      <td>single nucleotide variant</td>\n",
       "      <td>No hgvs or location info</td>\n",
       "      <td>287</td>\n",
       "      <td>Sequence Variants</td>\n",
       "    </tr>\n",
       "    <tr>\n",
       "      <th>10</th>\n",
       "      <td>10</td>\n",
       "      <td>Translocation</td>\n",
       "      <td>No hgvs or location info</td>\n",
       "      <td>271</td>\n",
       "      <td>Rearrangement Variants</td>\n",
       "    </tr>\n",
       "    <tr>\n",
       "      <th>11</th>\n",
       "      <td>11</td>\n",
       "      <td>Duplication</td>\n",
       "      <td>No hgvs or location info</td>\n",
       "      <td>265</td>\n",
       "      <td>Sequence Variants</td>\n",
       "    </tr>\n",
       "    <tr>\n",
       "      <th>12</th>\n",
       "      <td>12</td>\n",
       "      <td>CompoundHeterozygote</td>\n",
       "      <td>Genotype/Haplotype</td>\n",
       "      <td>249</td>\n",
       "      <td>Genotype Variants</td>\n",
       "    </tr>\n",
       "    <tr>\n",
       "      <th>13</th>\n",
       "      <td>13</td>\n",
       "      <td>Variation</td>\n",
       "      <td>No hgvs or location info</td>\n",
       "      <td>206</td>\n",
       "      <td>Other Variants</td>\n",
       "    </tr>\n",
       "    <tr>\n",
       "      <th>14</th>\n",
       "      <td>14</td>\n",
       "      <td>Indel</td>\n",
       "      <td>No hgvs or location info</td>\n",
       "      <td>138</td>\n",
       "      <td>Sequence Variants</td>\n",
       "    </tr>\n",
       "    <tr>\n",
       "      <th>15</th>\n",
       "      <td>15</td>\n",
       "      <td>Duplication</td>\n",
       "      <td>Invalid/unsupported hgvs</td>\n",
       "      <td>116</td>\n",
       "      <td>Sequence Variants</td>\n",
       "    </tr>\n",
       "    <tr>\n",
       "      <th>16</th>\n",
       "      <td>16</td>\n",
       "      <td>protein only</td>\n",
       "      <td>No hgvs or location info</td>\n",
       "      <td>95</td>\n",
       "      <td>Sequence Variants</td>\n",
       "    </tr>\n",
       "    <tr>\n",
       "      <th>17</th>\n",
       "      <td>17</td>\n",
       "      <td>Complex</td>\n",
       "      <td>No hgvs or location info</td>\n",
       "      <td>72</td>\n",
       "      <td>Other Variants</td>\n",
       "    </tr>\n",
       "    <tr>\n",
       "      <th>18</th>\n",
       "      <td>18</td>\n",
       "      <td>Deletion</td>\n",
       "      <td>NCBI36 genomic only</td>\n",
       "      <td>71</td>\n",
       "      <td>Sequence Variants</td>\n",
       "    </tr>\n",
       "    <tr>\n",
       "      <th>19</th>\n",
       "      <td>19</td>\n",
       "      <td>Microsatellite</td>\n",
       "      <td>No hgvs or location info</td>\n",
       "      <td>67</td>\n",
       "      <td>Sequence Variants</td>\n",
       "    </tr>\n",
       "    <tr>\n",
       "      <th>20</th>\n",
       "      <td>20</td>\n",
       "      <td>Inversion</td>\n",
       "      <td>No hgvs or location info</td>\n",
       "      <td>63</td>\n",
       "      <td>Sequence Variants</td>\n",
       "    </tr>\n",
       "    <tr>\n",
       "      <th>21</th>\n",
       "      <td>21</td>\n",
       "      <td>Duplication</td>\n",
       "      <td>NCBI36 genomic only</td>\n",
       "      <td>50</td>\n",
       "      <td>Sequence Variants</td>\n",
       "    </tr>\n",
       "    <tr>\n",
       "      <th>22</th>\n",
       "      <td>22</td>\n",
       "      <td>Indel</td>\n",
       "      <td>Invalid/unsupported hgvs</td>\n",
       "      <td>40</td>\n",
       "      <td>Sequence Variants</td>\n",
       "    </tr>\n",
       "    <tr>\n",
       "      <th>23</th>\n",
       "      <td>23</td>\n",
       "      <td>Inversion</td>\n",
       "      <td>Invalid/unsupported hgvs</td>\n",
       "      <td>29</td>\n",
       "      <td>Sequence Variants</td>\n",
       "    </tr>\n",
       "    <tr>\n",
       "      <th>24</th>\n",
       "      <td>24</td>\n",
       "      <td>Haplotype, single variant</td>\n",
       "      <td>Genotype/Haplotype</td>\n",
       "      <td>21</td>\n",
       "      <td>Sequence Variants</td>\n",
       "    </tr>\n",
       "    <tr>\n",
       "      <th>25</th>\n",
       "      <td>25</td>\n",
       "      <td>copy number gain</td>\n",
       "      <td>Min/max copy count range not supported</td>\n",
       "      <td>14</td>\n",
       "      <td>Copy Number Variants</td>\n",
       "    </tr>\n",
       "    <tr>\n",
       "      <th>26</th>\n",
       "      <td>26</td>\n",
       "      <td>Phase unknown</td>\n",
       "      <td>Genotype/Haplotype</td>\n",
       "      <td>8</td>\n",
       "      <td>Other Variants</td>\n",
       "    </tr>\n",
       "    <tr>\n",
       "      <th>27</th>\n",
       "      <td>27</td>\n",
       "      <td>copy number loss</td>\n",
       "      <td>Invalid/unsupported hgvs</td>\n",
       "      <td>7</td>\n",
       "      <td>Copy Number Variants</td>\n",
       "    </tr>\n",
       "    <tr>\n",
       "      <th>28</th>\n",
       "      <td>28</td>\n",
       "      <td>fusion</td>\n",
       "      <td>No hgvs or location info</td>\n",
       "      <td>6</td>\n",
       "      <td>Fusion Variants</td>\n",
       "    </tr>\n",
       "    <tr>\n",
       "      <th>29</th>\n",
       "      <td>29</td>\n",
       "      <td>copy number gain</td>\n",
       "      <td>Invalid/unsupported hgvs</td>\n",
       "      <td>5</td>\n",
       "      <td>Copy Number Variants</td>\n",
       "    </tr>\n",
       "    <tr>\n",
       "      <th>30</th>\n",
       "      <td>30</td>\n",
       "      <td>Complex</td>\n",
       "      <td>NCBI36 genomic only</td>\n",
       "      <td>3</td>\n",
       "      <td>Other Variants</td>\n",
       "    </tr>\n",
       "    <tr>\n",
       "      <th>31</th>\n",
       "      <td>31</td>\n",
       "      <td>Variation</td>\n",
       "      <td>Invalid/unsupported hgvs</td>\n",
       "      <td>2</td>\n",
       "      <td>Other Variants</td>\n",
       "    </tr>\n",
       "    <tr>\n",
       "      <th>32</th>\n",
       "      <td>32</td>\n",
       "      <td>Complex</td>\n",
       "      <td>Invalid/unsupported hgvs</td>\n",
       "      <td>2</td>\n",
       "      <td>Other Variants</td>\n",
       "    </tr>\n",
       "    <tr>\n",
       "      <th>33</th>\n",
       "      <td>33</td>\n",
       "      <td>Translocation</td>\n",
       "      <td>Invalid/unsupported hgvs</td>\n",
       "      <td>1</td>\n",
       "      <td>Rearrangement Variants</td>\n",
       "    </tr>\n",
       "    <tr>\n",
       "      <th>34</th>\n",
       "      <td>34</td>\n",
       "      <td>Translocation</td>\n",
       "      <td>NCBI36 genomic only</td>\n",
       "      <td>1</td>\n",
       "      <td>Rearrangement Variants</td>\n",
       "    </tr>\n",
       "    <tr>\n",
       "      <th>35</th>\n",
       "      <td>35</td>\n",
       "      <td>Tandem duplication</td>\n",
       "      <td>No hgvs or location info</td>\n",
       "      <td>1</td>\n",
       "      <td>Sequence Variants</td>\n",
       "    </tr>\n",
       "    <tr>\n",
       "      <th>36</th>\n",
       "      <td>36</td>\n",
       "      <td>Distinct chromosomes</td>\n",
       "      <td>Genotype/Haplotype</td>\n",
       "      <td>1</td>\n",
       "      <td>Rearrangement Variants</td>\n",
       "    </tr>\n",
       "  </tbody>\n",
       "</table>\n",
       "</div>"
      ],
      "text/plain": [
       "    Unnamed: 0          in.variation_type  \\\n",
       "0            0           copy number gain   \n",
       "1            1           copy number loss   \n",
       "2            2                   Deletion   \n",
       "3            3                  Diplotype   \n",
       "4            4                  Haplotype   \n",
       "5            5             Microsatellite   \n",
       "6            6                   Deletion   \n",
       "7            7                  Insertion   \n",
       "8            8                  Insertion   \n",
       "9            9  single nucleotide variant   \n",
       "10          10              Translocation   \n",
       "11          11                Duplication   \n",
       "12          12       CompoundHeterozygote   \n",
       "13          13                  Variation   \n",
       "14          14                      Indel   \n",
       "15          15                Duplication   \n",
       "16          16               protein only   \n",
       "17          17                    Complex   \n",
       "18          18                   Deletion   \n",
       "19          19             Microsatellite   \n",
       "20          20                  Inversion   \n",
       "21          21                Duplication   \n",
       "22          22                      Indel   \n",
       "23          23                  Inversion   \n",
       "24          24  Haplotype, single variant   \n",
       "25          25           copy number gain   \n",
       "26          26              Phase unknown   \n",
       "27          27           copy number loss   \n",
       "28          28                     fusion   \n",
       "29          29           copy number gain   \n",
       "30          30                    Complex   \n",
       "31          31                  Variation   \n",
       "32          32                    Complex   \n",
       "33          33              Translocation   \n",
       "34          34              Translocation   \n",
       "35          35         Tandem duplication   \n",
       "36          36       Distinct chromosomes   \n",
       "\n",
       "                  in.vrs_xform_plan.policy  count                category  \n",
       "0                      NCBI36 genomic only   2897    Copy Number Variants  \n",
       "1                      NCBI36 genomic only   1749    Copy Number Variants  \n",
       "2                 No hgvs or location info   1236       Sequence Variants  \n",
       "3                       Genotype/Haplotype    596       Genotype Variants  \n",
       "4                       Genotype/Haplotype    565       Sequence Variants  \n",
       "5                 Invalid/unsupported hgvs    415       Sequence Variants  \n",
       "6                 Invalid/unsupported hgvs    413       Sequence Variants  \n",
       "7                 No hgvs or location info    382       Sequence Variants  \n",
       "8                 Invalid/unsupported hgvs    306       Sequence Variants  \n",
       "9                 No hgvs or location info    287       Sequence Variants  \n",
       "10                No hgvs or location info    271  Rearrangement Variants  \n",
       "11                No hgvs or location info    265       Sequence Variants  \n",
       "12                      Genotype/Haplotype    249       Genotype Variants  \n",
       "13                No hgvs or location info    206          Other Variants  \n",
       "14                No hgvs or location info    138       Sequence Variants  \n",
       "15                Invalid/unsupported hgvs    116       Sequence Variants  \n",
       "16                No hgvs or location info     95       Sequence Variants  \n",
       "17                No hgvs or location info     72          Other Variants  \n",
       "18                     NCBI36 genomic only     71       Sequence Variants  \n",
       "19                No hgvs or location info     67       Sequence Variants  \n",
       "20                No hgvs or location info     63       Sequence Variants  \n",
       "21                     NCBI36 genomic only     50       Sequence Variants  \n",
       "22                Invalid/unsupported hgvs     40       Sequence Variants  \n",
       "23                Invalid/unsupported hgvs     29       Sequence Variants  \n",
       "24                      Genotype/Haplotype     21       Sequence Variants  \n",
       "25  Min/max copy count range not supported     14    Copy Number Variants  \n",
       "26                      Genotype/Haplotype      8          Other Variants  \n",
       "27                Invalid/unsupported hgvs      7    Copy Number Variants  \n",
       "28                No hgvs or location info      6         Fusion Variants  \n",
       "29                Invalid/unsupported hgvs      5    Copy Number Variants  \n",
       "30                     NCBI36 genomic only      3          Other Variants  \n",
       "31                Invalid/unsupported hgvs      2          Other Variants  \n",
       "32                Invalid/unsupported hgvs      2          Other Variants  \n",
       "33                Invalid/unsupported hgvs      1  Rearrangement Variants  \n",
       "34                     NCBI36 genomic only      1  Rearrangement Variants  \n",
       "35                No hgvs or location info      1       Sequence Variants  \n",
       "36                      Genotype/Haplotype      1  Rearrangement Variants  "
      ]
     },
     "execution_count": 58,
     "metadata": {},
     "output_type": "execute_result"
    }
   ],
   "source": [
    "clinvar_not_supported_df"
   ]
  },
  {
   "cell_type": "code",
   "execution_count": 59,
   "metadata": {},
   "outputs": [
    {
     "data": {
      "text/html": [
       "<div>\n",
       "<style scoped>\n",
       "    .dataframe tbody tr th:only-of-type {\n",
       "        vertical-align: middle;\n",
       "    }\n",
       "\n",
       "    .dataframe tbody tr th {\n",
       "        vertical-align: top;\n",
       "    }\n",
       "\n",
       "    .dataframe thead th {\n",
       "        text-align: right;\n",
       "    }\n",
       "</style>\n",
       "<table border=\"1\" class=\"dataframe\">\n",
       "  <thead>\n",
       "    <tr style=\"text-align: right;\">\n",
       "      <th></th>\n",
       "      <th>Unnamed: 0</th>\n",
       "      <th>in.variation_type</th>\n",
       "      <th>in.vrs_xform_plan.policy</th>\n",
       "      <th>count</th>\n",
       "      <th>category</th>\n",
       "    </tr>\n",
       "  </thead>\n",
       "  <tbody>\n",
       "    <tr>\n",
       "      <th>0</th>\n",
       "      <td>0</td>\n",
       "      <td>copy number gain</td>\n",
       "      <td>NCBI36 genomic only</td>\n",
       "      <td>2897</td>\n",
       "      <td>Copy Number Variants</td>\n",
       "    </tr>\n",
       "    <tr>\n",
       "      <th>1</th>\n",
       "      <td>1</td>\n",
       "      <td>copy number loss</td>\n",
       "      <td>NCBI36 genomic only</td>\n",
       "      <td>1749</td>\n",
       "      <td>Copy Number Variants</td>\n",
       "    </tr>\n",
       "    <tr>\n",
       "      <th>2</th>\n",
       "      <td>2</td>\n",
       "      <td>Deletion</td>\n",
       "      <td>No hgvs or location info</td>\n",
       "      <td>1236</td>\n",
       "      <td>Sequence Variants</td>\n",
       "    </tr>\n",
       "    <tr>\n",
       "      <th>3</th>\n",
       "      <td>3</td>\n",
       "      <td>Diplotype</td>\n",
       "      <td>Genotype/Haplotype</td>\n",
       "      <td>596</td>\n",
       "      <td>Genotype Variants</td>\n",
       "    </tr>\n",
       "    <tr>\n",
       "      <th>4</th>\n",
       "      <td>4</td>\n",
       "      <td>Haplotype</td>\n",
       "      <td>Genotype/Haplotype</td>\n",
       "      <td>565</td>\n",
       "      <td>Sequence Variants</td>\n",
       "    </tr>\n",
       "    <tr>\n",
       "      <th>5</th>\n",
       "      <td>5</td>\n",
       "      <td>Microsatellite</td>\n",
       "      <td>Invalid/unsupported hgvs</td>\n",
       "      <td>415</td>\n",
       "      <td>Sequence Variants</td>\n",
       "    </tr>\n",
       "    <tr>\n",
       "      <th>6</th>\n",
       "      <td>6</td>\n",
       "      <td>Deletion</td>\n",
       "      <td>Invalid/unsupported hgvs</td>\n",
       "      <td>413</td>\n",
       "      <td>Sequence Variants</td>\n",
       "    </tr>\n",
       "    <tr>\n",
       "      <th>7</th>\n",
       "      <td>7</td>\n",
       "      <td>Insertion</td>\n",
       "      <td>No hgvs or location info</td>\n",
       "      <td>382</td>\n",
       "      <td>Sequence Variants</td>\n",
       "    </tr>\n",
       "    <tr>\n",
       "      <th>8</th>\n",
       "      <td>8</td>\n",
       "      <td>Insertion</td>\n",
       "      <td>Invalid/unsupported hgvs</td>\n",
       "      <td>306</td>\n",
       "      <td>Sequence Variants</td>\n",
       "    </tr>\n",
       "    <tr>\n",
       "      <th>9</th>\n",
       "      <td>9</td>\n",
       "      <td>single nucleotide variant</td>\n",
       "      <td>No hgvs or location info</td>\n",
       "      <td>287</td>\n",
       "      <td>Sequence Variants</td>\n",
       "    </tr>\n",
       "    <tr>\n",
       "      <th>10</th>\n",
       "      <td>10</td>\n",
       "      <td>Translocation</td>\n",
       "      <td>No hgvs or location info</td>\n",
       "      <td>271</td>\n",
       "      <td>Rearrangement Variants</td>\n",
       "    </tr>\n",
       "    <tr>\n",
       "      <th>11</th>\n",
       "      <td>11</td>\n",
       "      <td>Duplication</td>\n",
       "      <td>No hgvs or location info</td>\n",
       "      <td>265</td>\n",
       "      <td>Sequence Variants</td>\n",
       "    </tr>\n",
       "    <tr>\n",
       "      <th>12</th>\n",
       "      <td>12</td>\n",
       "      <td>CompoundHeterozygote</td>\n",
       "      <td>Genotype/Haplotype</td>\n",
       "      <td>249</td>\n",
       "      <td>Genotype Variants</td>\n",
       "    </tr>\n",
       "    <tr>\n",
       "      <th>13</th>\n",
       "      <td>13</td>\n",
       "      <td>Variation</td>\n",
       "      <td>No hgvs or location info</td>\n",
       "      <td>206</td>\n",
       "      <td>Other Variants</td>\n",
       "    </tr>\n",
       "    <tr>\n",
       "      <th>14</th>\n",
       "      <td>14</td>\n",
       "      <td>Indel</td>\n",
       "      <td>No hgvs or location info</td>\n",
       "      <td>138</td>\n",
       "      <td>Sequence Variants</td>\n",
       "    </tr>\n",
       "    <tr>\n",
       "      <th>15</th>\n",
       "      <td>15</td>\n",
       "      <td>Duplication</td>\n",
       "      <td>Invalid/unsupported hgvs</td>\n",
       "      <td>116</td>\n",
       "      <td>Sequence Variants</td>\n",
       "    </tr>\n",
       "    <tr>\n",
       "      <th>16</th>\n",
       "      <td>16</td>\n",
       "      <td>protein only</td>\n",
       "      <td>No hgvs or location info</td>\n",
       "      <td>95</td>\n",
       "      <td>Sequence Variants</td>\n",
       "    </tr>\n",
       "    <tr>\n",
       "      <th>17</th>\n",
       "      <td>17</td>\n",
       "      <td>Complex</td>\n",
       "      <td>No hgvs or location info</td>\n",
       "      <td>72</td>\n",
       "      <td>Other Variants</td>\n",
       "    </tr>\n",
       "    <tr>\n",
       "      <th>18</th>\n",
       "      <td>18</td>\n",
       "      <td>Deletion</td>\n",
       "      <td>NCBI36 genomic only</td>\n",
       "      <td>71</td>\n",
       "      <td>Sequence Variants</td>\n",
       "    </tr>\n",
       "    <tr>\n",
       "      <th>19</th>\n",
       "      <td>19</td>\n",
       "      <td>Microsatellite</td>\n",
       "      <td>No hgvs or location info</td>\n",
       "      <td>67</td>\n",
       "      <td>Sequence Variants</td>\n",
       "    </tr>\n",
       "    <tr>\n",
       "      <th>20</th>\n",
       "      <td>20</td>\n",
       "      <td>Inversion</td>\n",
       "      <td>No hgvs or location info</td>\n",
       "      <td>63</td>\n",
       "      <td>Sequence Variants</td>\n",
       "    </tr>\n",
       "    <tr>\n",
       "      <th>21</th>\n",
       "      <td>21</td>\n",
       "      <td>Duplication</td>\n",
       "      <td>NCBI36 genomic only</td>\n",
       "      <td>50</td>\n",
       "      <td>Sequence Variants</td>\n",
       "    </tr>\n",
       "    <tr>\n",
       "      <th>22</th>\n",
       "      <td>22</td>\n",
       "      <td>Indel</td>\n",
       "      <td>Invalid/unsupported hgvs</td>\n",
       "      <td>40</td>\n",
       "      <td>Sequence Variants</td>\n",
       "    </tr>\n",
       "    <tr>\n",
       "      <th>23</th>\n",
       "      <td>23</td>\n",
       "      <td>Inversion</td>\n",
       "      <td>Invalid/unsupported hgvs</td>\n",
       "      <td>29</td>\n",
       "      <td>Sequence Variants</td>\n",
       "    </tr>\n",
       "    <tr>\n",
       "      <th>24</th>\n",
       "      <td>24</td>\n",
       "      <td>Haplotype, single variant</td>\n",
       "      <td>Genotype/Haplotype</td>\n",
       "      <td>21</td>\n",
       "      <td>Sequence Variants</td>\n",
       "    </tr>\n",
       "    <tr>\n",
       "      <th>25</th>\n",
       "      <td>25</td>\n",
       "      <td>copy number gain</td>\n",
       "      <td>Min/max copy count range not supported</td>\n",
       "      <td>14</td>\n",
       "      <td>Copy Number Variants</td>\n",
       "    </tr>\n",
       "    <tr>\n",
       "      <th>26</th>\n",
       "      <td>26</td>\n",
       "      <td>Phase unknown</td>\n",
       "      <td>Genotype/Haplotype</td>\n",
       "      <td>8</td>\n",
       "      <td>Other Variants</td>\n",
       "    </tr>\n",
       "    <tr>\n",
       "      <th>27</th>\n",
       "      <td>27</td>\n",
       "      <td>copy number loss</td>\n",
       "      <td>Invalid/unsupported hgvs</td>\n",
       "      <td>7</td>\n",
       "      <td>Copy Number Variants</td>\n",
       "    </tr>\n",
       "    <tr>\n",
       "      <th>28</th>\n",
       "      <td>28</td>\n",
       "      <td>fusion</td>\n",
       "      <td>No hgvs or location info</td>\n",
       "      <td>6</td>\n",
       "      <td>Fusion Variants</td>\n",
       "    </tr>\n",
       "    <tr>\n",
       "      <th>29</th>\n",
       "      <td>29</td>\n",
       "      <td>copy number gain</td>\n",
       "      <td>Invalid/unsupported hgvs</td>\n",
       "      <td>5</td>\n",
       "      <td>Copy Number Variants</td>\n",
       "    </tr>\n",
       "    <tr>\n",
       "      <th>30</th>\n",
       "      <td>30</td>\n",
       "      <td>Complex</td>\n",
       "      <td>NCBI36 genomic only</td>\n",
       "      <td>3</td>\n",
       "      <td>Other Variants</td>\n",
       "    </tr>\n",
       "    <tr>\n",
       "      <th>31</th>\n",
       "      <td>31</td>\n",
       "      <td>Variation</td>\n",
       "      <td>Invalid/unsupported hgvs</td>\n",
       "      <td>2</td>\n",
       "      <td>Other Variants</td>\n",
       "    </tr>\n",
       "    <tr>\n",
       "      <th>32</th>\n",
       "      <td>32</td>\n",
       "      <td>Complex</td>\n",
       "      <td>Invalid/unsupported hgvs</td>\n",
       "      <td>2</td>\n",
       "      <td>Other Variants</td>\n",
       "    </tr>\n",
       "    <tr>\n",
       "      <th>33</th>\n",
       "      <td>33</td>\n",
       "      <td>Translocation</td>\n",
       "      <td>Invalid/unsupported hgvs</td>\n",
       "      <td>1</td>\n",
       "      <td>Rearrangement Variants</td>\n",
       "    </tr>\n",
       "    <tr>\n",
       "      <th>34</th>\n",
       "      <td>34</td>\n",
       "      <td>Translocation</td>\n",
       "      <td>NCBI36 genomic only</td>\n",
       "      <td>1</td>\n",
       "      <td>Rearrangement Variants</td>\n",
       "    </tr>\n",
       "    <tr>\n",
       "      <th>35</th>\n",
       "      <td>35</td>\n",
       "      <td>Tandem duplication</td>\n",
       "      <td>No hgvs or location info</td>\n",
       "      <td>1</td>\n",
       "      <td>Sequence Variants</td>\n",
       "    </tr>\n",
       "    <tr>\n",
       "      <th>36</th>\n",
       "      <td>36</td>\n",
       "      <td>Distinct chromosomes</td>\n",
       "      <td>Genotype/Haplotype</td>\n",
       "      <td>1</td>\n",
       "      <td>Rearrangement Variants</td>\n",
       "    </tr>\n",
       "  </tbody>\n",
       "</table>\n",
       "</div>"
      ],
      "text/plain": [
       "    Unnamed: 0          in.variation_type  \\\n",
       "0            0           copy number gain   \n",
       "1            1           copy number loss   \n",
       "2            2                   Deletion   \n",
       "3            3                  Diplotype   \n",
       "4            4                  Haplotype   \n",
       "5            5             Microsatellite   \n",
       "6            6                   Deletion   \n",
       "7            7                  Insertion   \n",
       "8            8                  Insertion   \n",
       "9            9  single nucleotide variant   \n",
       "10          10              Translocation   \n",
       "11          11                Duplication   \n",
       "12          12       CompoundHeterozygote   \n",
       "13          13                  Variation   \n",
       "14          14                      Indel   \n",
       "15          15                Duplication   \n",
       "16          16               protein only   \n",
       "17          17                    Complex   \n",
       "18          18                   Deletion   \n",
       "19          19             Microsatellite   \n",
       "20          20                  Inversion   \n",
       "21          21                Duplication   \n",
       "22          22                      Indel   \n",
       "23          23                  Inversion   \n",
       "24          24  Haplotype, single variant   \n",
       "25          25           copy number gain   \n",
       "26          26              Phase unknown   \n",
       "27          27           copy number loss   \n",
       "28          28                     fusion   \n",
       "29          29           copy number gain   \n",
       "30          30                    Complex   \n",
       "31          31                  Variation   \n",
       "32          32                    Complex   \n",
       "33          33              Translocation   \n",
       "34          34              Translocation   \n",
       "35          35         Tandem duplication   \n",
       "36          36       Distinct chromosomes   \n",
       "\n",
       "                  in.vrs_xform_plan.policy  count                category  \n",
       "0                      NCBI36 genomic only   2897    Copy Number Variants  \n",
       "1                      NCBI36 genomic only   1749    Copy Number Variants  \n",
       "2                 No hgvs or location info   1236       Sequence Variants  \n",
       "3                       Genotype/Haplotype    596       Genotype Variants  \n",
       "4                       Genotype/Haplotype    565       Sequence Variants  \n",
       "5                 Invalid/unsupported hgvs    415       Sequence Variants  \n",
       "6                 Invalid/unsupported hgvs    413       Sequence Variants  \n",
       "7                 No hgvs or location info    382       Sequence Variants  \n",
       "8                 Invalid/unsupported hgvs    306       Sequence Variants  \n",
       "9                 No hgvs or location info    287       Sequence Variants  \n",
       "10                No hgvs or location info    271  Rearrangement Variants  \n",
       "11                No hgvs or location info    265       Sequence Variants  \n",
       "12                      Genotype/Haplotype    249       Genotype Variants  \n",
       "13                No hgvs or location info    206          Other Variants  \n",
       "14                No hgvs or location info    138       Sequence Variants  \n",
       "15                Invalid/unsupported hgvs    116       Sequence Variants  \n",
       "16                No hgvs or location info     95       Sequence Variants  \n",
       "17                No hgvs or location info     72          Other Variants  \n",
       "18                     NCBI36 genomic only     71       Sequence Variants  \n",
       "19                No hgvs or location info     67       Sequence Variants  \n",
       "20                No hgvs or location info     63       Sequence Variants  \n",
       "21                     NCBI36 genomic only     50       Sequence Variants  \n",
       "22                Invalid/unsupported hgvs     40       Sequence Variants  \n",
       "23                Invalid/unsupported hgvs     29       Sequence Variants  \n",
       "24                      Genotype/Haplotype     21       Sequence Variants  \n",
       "25  Min/max copy count range not supported     14    Copy Number Variants  \n",
       "26                      Genotype/Haplotype      8          Other Variants  \n",
       "27                Invalid/unsupported hgvs      7    Copy Number Variants  \n",
       "28                No hgvs or location info      6         Fusion Variants  \n",
       "29                Invalid/unsupported hgvs      5    Copy Number Variants  \n",
       "30                     NCBI36 genomic only      3          Other Variants  \n",
       "31                Invalid/unsupported hgvs      2          Other Variants  \n",
       "32                Invalid/unsupported hgvs      2          Other Variants  \n",
       "33                Invalid/unsupported hgvs      1  Rearrangement Variants  \n",
       "34                     NCBI36 genomic only      1  Rearrangement Variants  \n",
       "35                No hgvs or location info      1       Sequence Variants  \n",
       "36                      Genotype/Haplotype      1  Rearrangement Variants  "
      ]
     },
     "execution_count": 59,
     "metadata": {},
     "output_type": "execute_result"
    }
   ],
   "source": [
    "clinvar_not_supported_df.loc[\n",
    "    clinvar_not_supported_df[\"in.vrs_xform_plan.policy\"].isin(cnv_per_policy),\n",
    "      \"category\"\n",
    "      ] = \"Copy Number Variants\"\n",
    "\n",
    "clinvar_not_supported_df"
   ]
  },
  {
   "cell_type": "markdown",
   "metadata": {},
   "source": [
    "Get counts from the three dfs."
   ]
  },
  {
   "cell_type": "code",
   "execution_count": 60,
   "metadata": {},
   "outputs": [
    {
     "data": {
      "text/plain": [
       "{'Copy Number Variants': [89, 0, 51, 140, 0.0],\n",
       " 'Epigenetic Modification': [0, 0, 14, 14, 0.0],\n",
       " 'Expression Variants': [0, 0, 298, 298, 0.0],\n",
       " 'Fusion Variants': [1, 0, 294, 295, 0.0],\n",
       " 'Gene Function Variants': [0, 0, 91, 91, 0.0],\n",
       " 'Genotype Variants': [0, 0, 16, 16, 0.0],\n",
       " 'Other Variants': [1, 0, 88, 89, 0.0],\n",
       " 'Rearrangement Variants': [0, 0, 151, 151, 0.0],\n",
       " 'Region-Defined Variants': [28, 3, 129, 160, 0.0],\n",
       " 'Sequence Variants': [1937, 77, 680, 2694, 0.0]}"
      ]
     },
     "execution_count": 60,
     "metadata": {},
     "output_type": "execute_result"
    }
   ],
   "source": [
    "category_counts"
   ]
  },
  {
   "cell_type": "code",
   "execution_count": 61,
   "metadata": {},
   "outputs": [],
   "source": [
    "def sum_clinvar_counts(dataframe: pd.DataFrame, support_status: int) -> None:\n",
    "    \"\"\"given a dataframe and whether that dataframe represents normalized, not_normalized, or not_supported variants, adds the counts of variants to dictionary of counts\n",
    "    \n",
    "    :param dataframe: counts of variants in clinvar with variant type information in dataframe format.\n",
    "    :param support_status: an int flag to indicate if the variants in the dataframe are normalized (0), unable to be normalized (1), or unsupported (2) by the normalizer\n",
    "    \"\"\"\n",
    "    for i in category_counts.keys():\n",
    "        subdf = dataframe[dataframe[\"category\"] == i]\n",
    "        if len(subdf):\n",
    "            category = i\n",
    "            count = subdf[\"count\"].sum()\n",
    "            print(category, count)\n",
    "            category_counts[category][support_status] += count\n",
    "            category_counts[category][Fields.TOTAL_COUNT] += count\n"
   ]
  },
  {
   "cell_type": "code",
   "execution_count": 62,
   "metadata": {},
   "outputs": [
    {
     "name": "stdout",
     "output_type": "stream",
     "text": [
      "Copy Number Variants 79339\n",
      "Other Variants 338\n",
      "Sequence Variants 2119259\n"
     ]
    },
    {
     "data": {
      "text/plain": [
       "{'Copy Number Variants': [79428, 0, 51, 79479, 0.0],\n",
       " 'Epigenetic Modification': [0, 0, 14, 14, 0.0],\n",
       " 'Expression Variants': [0, 0, 298, 298, 0.0],\n",
       " 'Fusion Variants': [1, 0, 294, 295, 0.0],\n",
       " 'Gene Function Variants': [0, 0, 91, 91, 0.0],\n",
       " 'Genotype Variants': [0, 0, 16, 16, 0.0],\n",
       " 'Other Variants': [339, 0, 88, 427, 0.0],\n",
       " 'Rearrangement Variants': [0, 0, 151, 151, 0.0],\n",
       " 'Region-Defined Variants': [28, 3, 129, 160, 0.0],\n",
       " 'Sequence Variants': [2121196, 77, 680, 2121953, 0.0]}"
      ]
     },
     "execution_count": 62,
     "metadata": {},
     "output_type": "execute_result"
    }
   ],
   "source": [
    "sum_clinvar_counts(clinvar_normalized_df,Fields.NORMALIZED_COUNT)\n",
    "\n",
    "category_counts"
   ]
  },
  {
   "cell_type": "code",
   "execution_count": 63,
   "metadata": {},
   "outputs": [
    {
     "name": "stdout",
     "output_type": "stream",
     "text": [
      "Copy Number Variants 1028\n",
      "Other Variants 1\n",
      "Sequence Variants 12\n"
     ]
    },
    {
     "data": {
      "text/plain": [
       "{'Copy Number Variants': [79428, 1028, 51, 80507, 0.0],\n",
       " 'Epigenetic Modification': [0, 0, 14, 14, 0.0],\n",
       " 'Expression Variants': [0, 0, 298, 298, 0.0],\n",
       " 'Fusion Variants': [1, 0, 294, 295, 0.0],\n",
       " 'Gene Function Variants': [0, 0, 91, 91, 0.0],\n",
       " 'Genotype Variants': [0, 0, 16, 16, 0.0],\n",
       " 'Other Variants': [339, 1, 88, 428, 0.0],\n",
       " 'Rearrangement Variants': [0, 0, 151, 151, 0.0],\n",
       " 'Region-Defined Variants': [28, 3, 129, 160, 0.0],\n",
       " 'Sequence Variants': [2121196, 89, 680, 2121965, 0.0]}"
      ]
     },
     "execution_count": 63,
     "metadata": {},
     "output_type": "execute_result"
    }
   ],
   "source": [
    "sum_clinvar_counts(clinvar_not_normalized_df,Fields.UNABLE_TO_NORMALIZE_COUNT)\n",
    "\n",
    "category_counts"
   ]
  },
  {
   "cell_type": "code",
   "execution_count": 64,
   "metadata": {},
   "outputs": [
    {
     "name": "stdout",
     "output_type": "stream",
     "text": [
      "Copy Number Variants 4672\n",
      "Fusion Variants 6\n",
      "Genotype Variants 845\n",
      "Other Variants 293\n",
      "Rearrangement Variants 274\n",
      "Sequence Variants 4560\n"
     ]
    },
    {
     "data": {
      "text/plain": [
       "{'Copy Number Variants': [79428, 1028, 4723, 85179, 0.0],\n",
       " 'Epigenetic Modification': [0, 0, 14, 14, 0.0],\n",
       " 'Expression Variants': [0, 0, 298, 298, 0.0],\n",
       " 'Fusion Variants': [1, 0, 300, 301, 0.0],\n",
       " 'Gene Function Variants': [0, 0, 91, 91, 0.0],\n",
       " 'Genotype Variants': [0, 0, 861, 861, 0.0],\n",
       " 'Other Variants': [339, 1, 381, 721, 0.0],\n",
       " 'Rearrangement Variants': [0, 0, 425, 425, 0.0],\n",
       " 'Region-Defined Variants': [28, 3, 129, 160, 0.0],\n",
       " 'Sequence Variants': [2121196, 89, 5240, 2126525, 0.0]}"
      ]
     },
     "execution_count": 64,
     "metadata": {},
     "output_type": "execute_result"
    }
   ],
   "source": [
    "sum_clinvar_counts(clinvar_not_supported_df,Fields.UNSUPPORTED_COUNT)\n",
    "\n",
    "category_counts"
   ]
  },
  {
   "cell_type": "markdown",
   "metadata": {},
   "source": [
    "## <a id='toc1_6_'></a>[Computing Coverage](#toc0_)"
   ]
  },
  {
   "cell_type": "markdown",
   "metadata": {},
   "source": [
    "For the purposes of making the table, computing the percent of all variants normalized in each category."
   ]
  },
  {
   "cell_type": "code",
   "execution_count": 65,
   "metadata": {},
   "outputs": [
    {
     "data": {
      "text/plain": [
       "{'Copy Number Variants': [79428, 1028, 4723, 85179, '0.9325'],\n",
       " 'Epigenetic Modification': [0, 0, 14, 14, '0.0000'],\n",
       " 'Expression Variants': [0, 0, 298, 298, '0.0000'],\n",
       " 'Fusion Variants': [1, 0, 300, 301, '0.0033'],\n",
       " 'Gene Function Variants': [0, 0, 91, 91, '0.0000'],\n",
       " 'Genotype Variants': [0, 0, 861, 861, '0.0000'],\n",
       " 'Other Variants': [339, 1, 381, 721, '0.4702'],\n",
       " 'Rearrangement Variants': [0, 0, 425, 425, '0.0000'],\n",
       " 'Region-Defined Variants': [28, 3, 129, 160, '0.1750'],\n",
       " 'Sequence Variants': [2121196, 89, 5240, 2126525, '0.9975']}"
      ]
     },
     "execution_count": 65,
     "metadata": {},
     "output_type": "execute_result"
    }
   ],
   "source": [
    "for i in category_counts.keys():\n",
    "    normalized = category_counts[i][Fields.NORMALIZED_COUNT]\n",
    "    total = category_counts[i][Fields.TOTAL_COUNT]\n",
    "    percent_covered = normalized/total\n",
    "    category_counts[i][Fields.PERCENT_NORMALIZED] = \"%.4f\" % percent_covered\n",
    "\n",
    "category_counts\n",
    "    "
   ]
  },
  {
   "cell_type": "markdown",
   "metadata": {},
   "source": [
    "**Table of contents**<a id='toc0_'></a>    \n",
    "- [Normalizer Performance Analysis](#toc1_)    \n",
    "  - [Import relevant packages](#toc1_1_)    \n",
    "  - [Dictionaries to map variants to categories and record category counts](#toc1_2_)    \n",
    "  - [CIViC](#toc1_3_)    \n",
    "  - [MOA](#toc1_4_)    \n",
    "  - [ClinVar](#toc1_5_)    \n",
    "  - [Computing Coverage](#toc1_6_)    \n",
    "  - [Generating Table](#toc1_7_)    \n",
    "\n",
    "<!-- vscode-jupyter-toc-config\n",
    "\tnumbering=false\n",
    "\tanchor=true\n",
    "\tflat=false\n",
    "\tminLevel=1\n",
    "\tmaxLevel=6\n",
    "\t/vscode-jupyter-toc-config -->\n",
    "<!-- THIS CELL WILL BE REPLACED ON TOC UPDATE. DO NOT WRITE YOUR TEXT IN THIS CELL -->"
   ]
  },
  {
   "cell_type": "markdown",
   "metadata": {},
   "source": [
    "## <a id='toc1_7_'></a>[Generating Table](#toc0_)"
   ]
  },
  {
   "cell_type": "markdown",
   "metadata": {},
   "source": [
    "Generating a table in plotly to show variant counts and normalization percentage by category, as well as the types of data fields associated with different variant categories."
   ]
  },
  {
   "cell_type": "code",
   "execution_count": 66,
   "metadata": {},
   "outputs": [],
   "source": [
    "class VariantCategory(str, Enum):\n",
    "    \"\"\"Create enum for the kind of variants that are in the combined analysis.\"\"\"\n",
    "    SEQUENCE_VARS = \"Sequence Variants\"\n",
    "    GENOTYPES = \"Genotype Variants\"\n",
    "    FUSION = \"Fusion Variants\"\n",
    "    REARRANGEMENTS = \"Rearrangement Variants\"\n",
    "    EPIGENETIC_MODIFICATION = \"Epigenetic Modification\"\n",
    "    COPY_NUMBER = \"Copy Number Variants\"\n",
    "    EXPRESSION = \"Expression Variants\"\n",
    "    GENE_FUNC = \"Gene Function Variants\"\n",
    "    REGION_DEFINED_VAR = \"Region-Defined Variants\"\n",
    "    OTHER = \"Other Variants\"\n",
    "\n",
    "VARIANT_CATEGORY_VALUES = VariantCategory.__members__.values()\n",
    "    "
   ]
  },
  {
   "cell_type": "code",
   "execution_count": 67,
   "metadata": {},
   "outputs": [
    {
     "data": {
      "application/vnd.plotly.v1+json": {
       "config": {
        "plotlyServerURL": "https://plot.ly"
       },
       "data": [
        {
         "cells": {
          "align": "right",
          "fill": {
           "color": [
            [
             "rgb(49, 130, 189)",
             "white",
             "white",
             "white",
             "white",
             "rgb(49, 130, 189)",
             "white",
             "white",
             "rgb(189, 215, 231)",
             "rgb(107, 174, 214)"
            ]
           ]
          },
          "font": {
           "color": "black",
           "size": 18
          },
          "height": 30,
          "line": {
           "color": [
            "black"
           ]
          },
          "values": [
           [
            "Sequence",
            "Genotype",
            "Fusion",
            "Rearrangement",
            "Epigenetic Modification",
            "Copy Number",
            "Expression",
            "Gene Function",
            "Region-Defined",
            "Other"
           ],
           [
            "2,126,525",
            "861",
            "301",
            "425",
            "14",
            "85,179",
            "298",
            "91",
            "160",
            "721"
           ],
           [
            "99.75%",
            "0.00%",
            "0.33%",
            "0.00%",
            "0.00%",
            "93.25%",
            "0.00%",
            "0.00%",
            "17.50%",
            "47.02%"
           ],
           [
            "⬤",
            "⬤",
            "",
            "",
            "",
            "",
            "",
            "",
            "",
            "<b>◯</b>"
           ],
           [
            "<b>◯</b>",
            "<b>◯</b>",
            "⬤",
            "⬤",
            "",
            "",
            "",
            "",
            "",
            ""
           ],
           [
            "<b>◯</b>",
            "<b>◯</b>",
            "",
            "",
            "",
            "",
            "",
            "",
            "",
            "<b>◯</b>"
           ],
           [
            "<b>◯</b>",
            "<b>◯</b>",
            "",
            "",
            "⬤",
            "⬤",
            "<b>◯</b>",
            "",
            "",
            "<b>◯</b>"
           ],
           [
            "<b>◯</b>",
            "<b>◯</b>",
            "",
            "",
            "<b>◯</b>",
            "<b>◯</b>",
            "⬤",
            "⬤",
            "",
            "<b>◯</b>"
           ],
           [
            "<b>◯</b>",
            "<b>◯</b>",
            "<b>◯</b>",
            "<b>◯</b>",
            "<b>◯</b>",
            "<b>◯</b>",
            "<b>◯</b>",
            "<b>◯</b>",
            "⬤",
            "<b>◯</b>"
           ]
          ]
         },
         "columnwidth": [
          90,
          53,
          65,
          53,
          50,
          50,
          50,
          50,
          50,
          50
         ],
         "header": {
          "align": "center",
          "fill": {
           "color": "white"
          },
          "font": {
           "color": "black",
           "size": 18
          },
          "line": {
           "color": "black"
          },
          "values": [
           "<b>Variant Category</b>",
           "<b>Count</b>",
           "<b>% Normalized</b>",
           "<b>Δ Sequence</b>",
           "<b>Δ Location</b>",
           "<b>Δ Frame</b>",
           "<b>Δ Quantity</b>",
           "<b>Δ Function</b>",
           "<b>Region Specificity</b>"
          ]
         },
         "type": "table"
        }
       ],
       "layout": {
        "annotations": [
         {
          "align": "left",
          "bordercolor": "black",
          "borderwidth": 1,
          "showarrow": false,
          "text": "  ⬤  Core information fields<br><br>  <b>◯</b>  Optional information fields  ",
          "x": 0.98,
          "xanchor": "right",
          "xref": "paper",
          "y": 0.02,
          "yanchor": "bottom",
          "yref": "paper"
         }
        ],
        "font": {
         "color": "Black",
         "size": 18
        },
        "height": 585,
        "margin": {
         "b": 0,
         "l": 2,
         "r": 2,
         "t": 52
        },
        "template": {
         "data": {
          "bar": [
           {
            "error_x": {
             "color": "#2a3f5f"
            },
            "error_y": {
             "color": "#2a3f5f"
            },
            "marker": {
             "line": {
              "color": "#E5ECF6",
              "width": 0.5
             },
             "pattern": {
              "fillmode": "overlay",
              "size": 10,
              "solidity": 0.2
             }
            },
            "type": "bar"
           }
          ],
          "barpolar": [
           {
            "marker": {
             "line": {
              "color": "#E5ECF6",
              "width": 0.5
             },
             "pattern": {
              "fillmode": "overlay",
              "size": 10,
              "solidity": 0.2
             }
            },
            "type": "barpolar"
           }
          ],
          "carpet": [
           {
            "aaxis": {
             "endlinecolor": "#2a3f5f",
             "gridcolor": "white",
             "linecolor": "white",
             "minorgridcolor": "white",
             "startlinecolor": "#2a3f5f"
            },
            "baxis": {
             "endlinecolor": "#2a3f5f",
             "gridcolor": "white",
             "linecolor": "white",
             "minorgridcolor": "white",
             "startlinecolor": "#2a3f5f"
            },
            "type": "carpet"
           }
          ],
          "choropleth": [
           {
            "colorbar": {
             "outlinewidth": 0,
             "ticks": ""
            },
            "type": "choropleth"
           }
          ],
          "contour": [
           {
            "colorbar": {
             "outlinewidth": 0,
             "ticks": ""
            },
            "colorscale": [
             [
              0,
              "#0d0887"
             ],
             [
              0.1111111111111111,
              "#46039f"
             ],
             [
              0.2222222222222222,
              "#7201a8"
             ],
             [
              0.3333333333333333,
              "#9c179e"
             ],
             [
              0.4444444444444444,
              "#bd3786"
             ],
             [
              0.5555555555555556,
              "#d8576b"
             ],
             [
              0.6666666666666666,
              "#ed7953"
             ],
             [
              0.7777777777777778,
              "#fb9f3a"
             ],
             [
              0.8888888888888888,
              "#fdca26"
             ],
             [
              1,
              "#f0f921"
             ]
            ],
            "type": "contour"
           }
          ],
          "contourcarpet": [
           {
            "colorbar": {
             "outlinewidth": 0,
             "ticks": ""
            },
            "type": "contourcarpet"
           }
          ],
          "heatmap": [
           {
            "colorbar": {
             "outlinewidth": 0,
             "ticks": ""
            },
            "colorscale": [
             [
              0,
              "#0d0887"
             ],
             [
              0.1111111111111111,
              "#46039f"
             ],
             [
              0.2222222222222222,
              "#7201a8"
             ],
             [
              0.3333333333333333,
              "#9c179e"
             ],
             [
              0.4444444444444444,
              "#bd3786"
             ],
             [
              0.5555555555555556,
              "#d8576b"
             ],
             [
              0.6666666666666666,
              "#ed7953"
             ],
             [
              0.7777777777777778,
              "#fb9f3a"
             ],
             [
              0.8888888888888888,
              "#fdca26"
             ],
             [
              1,
              "#f0f921"
             ]
            ],
            "type": "heatmap"
           }
          ],
          "heatmapgl": [
           {
            "colorbar": {
             "outlinewidth": 0,
             "ticks": ""
            },
            "colorscale": [
             [
              0,
              "#0d0887"
             ],
             [
              0.1111111111111111,
              "#46039f"
             ],
             [
              0.2222222222222222,
              "#7201a8"
             ],
             [
              0.3333333333333333,
              "#9c179e"
             ],
             [
              0.4444444444444444,
              "#bd3786"
             ],
             [
              0.5555555555555556,
              "#d8576b"
             ],
             [
              0.6666666666666666,
              "#ed7953"
             ],
             [
              0.7777777777777778,
              "#fb9f3a"
             ],
             [
              0.8888888888888888,
              "#fdca26"
             ],
             [
              1,
              "#f0f921"
             ]
            ],
            "type": "heatmapgl"
           }
          ],
          "histogram": [
           {
            "marker": {
             "pattern": {
              "fillmode": "overlay",
              "size": 10,
              "solidity": 0.2
             }
            },
            "type": "histogram"
           }
          ],
          "histogram2d": [
           {
            "colorbar": {
             "outlinewidth": 0,
             "ticks": ""
            },
            "colorscale": [
             [
              0,
              "#0d0887"
             ],
             [
              0.1111111111111111,
              "#46039f"
             ],
             [
              0.2222222222222222,
              "#7201a8"
             ],
             [
              0.3333333333333333,
              "#9c179e"
             ],
             [
              0.4444444444444444,
              "#bd3786"
             ],
             [
              0.5555555555555556,
              "#d8576b"
             ],
             [
              0.6666666666666666,
              "#ed7953"
             ],
             [
              0.7777777777777778,
              "#fb9f3a"
             ],
             [
              0.8888888888888888,
              "#fdca26"
             ],
             [
              1,
              "#f0f921"
             ]
            ],
            "type": "histogram2d"
           }
          ],
          "histogram2dcontour": [
           {
            "colorbar": {
             "outlinewidth": 0,
             "ticks": ""
            },
            "colorscale": [
             [
              0,
              "#0d0887"
             ],
             [
              0.1111111111111111,
              "#46039f"
             ],
             [
              0.2222222222222222,
              "#7201a8"
             ],
             [
              0.3333333333333333,
              "#9c179e"
             ],
             [
              0.4444444444444444,
              "#bd3786"
             ],
             [
              0.5555555555555556,
              "#d8576b"
             ],
             [
              0.6666666666666666,
              "#ed7953"
             ],
             [
              0.7777777777777778,
              "#fb9f3a"
             ],
             [
              0.8888888888888888,
              "#fdca26"
             ],
             [
              1,
              "#f0f921"
             ]
            ],
            "type": "histogram2dcontour"
           }
          ],
          "mesh3d": [
           {
            "colorbar": {
             "outlinewidth": 0,
             "ticks": ""
            },
            "type": "mesh3d"
           }
          ],
          "parcoords": [
           {
            "line": {
             "colorbar": {
              "outlinewidth": 0,
              "ticks": ""
             }
            },
            "type": "parcoords"
           }
          ],
          "pie": [
           {
            "automargin": true,
            "type": "pie"
           }
          ],
          "scatter": [
           {
            "fillpattern": {
             "fillmode": "overlay",
             "size": 10,
             "solidity": 0.2
            },
            "type": "scatter"
           }
          ],
          "scatter3d": [
           {
            "line": {
             "colorbar": {
              "outlinewidth": 0,
              "ticks": ""
             }
            },
            "marker": {
             "colorbar": {
              "outlinewidth": 0,
              "ticks": ""
             }
            },
            "type": "scatter3d"
           }
          ],
          "scattercarpet": [
           {
            "marker": {
             "colorbar": {
              "outlinewidth": 0,
              "ticks": ""
             }
            },
            "type": "scattercarpet"
           }
          ],
          "scattergeo": [
           {
            "marker": {
             "colorbar": {
              "outlinewidth": 0,
              "ticks": ""
             }
            },
            "type": "scattergeo"
           }
          ],
          "scattergl": [
           {
            "marker": {
             "colorbar": {
              "outlinewidth": 0,
              "ticks": ""
             }
            },
            "type": "scattergl"
           }
          ],
          "scattermapbox": [
           {
            "marker": {
             "colorbar": {
              "outlinewidth": 0,
              "ticks": ""
             }
            },
            "type": "scattermapbox"
           }
          ],
          "scatterpolar": [
           {
            "marker": {
             "colorbar": {
              "outlinewidth": 0,
              "ticks": ""
             }
            },
            "type": "scatterpolar"
           }
          ],
          "scatterpolargl": [
           {
            "marker": {
             "colorbar": {
              "outlinewidth": 0,
              "ticks": ""
             }
            },
            "type": "scatterpolargl"
           }
          ],
          "scatterternary": [
           {
            "marker": {
             "colorbar": {
              "outlinewidth": 0,
              "ticks": ""
             }
            },
            "type": "scatterternary"
           }
          ],
          "surface": [
           {
            "colorbar": {
             "outlinewidth": 0,
             "ticks": ""
            },
            "colorscale": [
             [
              0,
              "#0d0887"
             ],
             [
              0.1111111111111111,
              "#46039f"
             ],
             [
              0.2222222222222222,
              "#7201a8"
             ],
             [
              0.3333333333333333,
              "#9c179e"
             ],
             [
              0.4444444444444444,
              "#bd3786"
             ],
             [
              0.5555555555555556,
              "#d8576b"
             ],
             [
              0.6666666666666666,
              "#ed7953"
             ],
             [
              0.7777777777777778,
              "#fb9f3a"
             ],
             [
              0.8888888888888888,
              "#fdca26"
             ],
             [
              1,
              "#f0f921"
             ]
            ],
            "type": "surface"
           }
          ],
          "table": [
           {
            "cells": {
             "fill": {
              "color": "#EBF0F8"
             },
             "line": {
              "color": "white"
             }
            },
            "header": {
             "fill": {
              "color": "#C8D4E3"
             },
             "line": {
              "color": "white"
             }
            },
            "type": "table"
           }
          ]
         },
         "layout": {
          "annotationdefaults": {
           "arrowcolor": "#2a3f5f",
           "arrowhead": 0,
           "arrowwidth": 1
          },
          "autotypenumbers": "strict",
          "coloraxis": {
           "colorbar": {
            "outlinewidth": 0,
            "ticks": ""
           }
          },
          "colorscale": {
           "diverging": [
            [
             0,
             "#8e0152"
            ],
            [
             0.1,
             "#c51b7d"
            ],
            [
             0.2,
             "#de77ae"
            ],
            [
             0.3,
             "#f1b6da"
            ],
            [
             0.4,
             "#fde0ef"
            ],
            [
             0.5,
             "#f7f7f7"
            ],
            [
             0.6,
             "#e6f5d0"
            ],
            [
             0.7,
             "#b8e186"
            ],
            [
             0.8,
             "#7fbc41"
            ],
            [
             0.9,
             "#4d9221"
            ],
            [
             1,
             "#276419"
            ]
           ],
           "sequential": [
            [
             0,
             "#0d0887"
            ],
            [
             0.1111111111111111,
             "#46039f"
            ],
            [
             0.2222222222222222,
             "#7201a8"
            ],
            [
             0.3333333333333333,
             "#9c179e"
            ],
            [
             0.4444444444444444,
             "#bd3786"
            ],
            [
             0.5555555555555556,
             "#d8576b"
            ],
            [
             0.6666666666666666,
             "#ed7953"
            ],
            [
             0.7777777777777778,
             "#fb9f3a"
            ],
            [
             0.8888888888888888,
             "#fdca26"
            ],
            [
             1,
             "#f0f921"
            ]
           ],
           "sequentialminus": [
            [
             0,
             "#0d0887"
            ],
            [
             0.1111111111111111,
             "#46039f"
            ],
            [
             0.2222222222222222,
             "#7201a8"
            ],
            [
             0.3333333333333333,
             "#9c179e"
            ],
            [
             0.4444444444444444,
             "#bd3786"
            ],
            [
             0.5555555555555556,
             "#d8576b"
            ],
            [
             0.6666666666666666,
             "#ed7953"
            ],
            [
             0.7777777777777778,
             "#fb9f3a"
            ],
            [
             0.8888888888888888,
             "#fdca26"
            ],
            [
             1,
             "#f0f921"
            ]
           ]
          },
          "colorway": [
           "#636efa",
           "#EF553B",
           "#00cc96",
           "#ab63fa",
           "#FFA15A",
           "#19d3f3",
           "#FF6692",
           "#B6E880",
           "#FF97FF",
           "#FECB52"
          ],
          "font": {
           "color": "#2a3f5f"
          },
          "geo": {
           "bgcolor": "white",
           "lakecolor": "white",
           "landcolor": "#E5ECF6",
           "showlakes": true,
           "showland": true,
           "subunitcolor": "white"
          },
          "hoverlabel": {
           "align": "left"
          },
          "hovermode": "closest",
          "mapbox": {
           "style": "light"
          },
          "paper_bgcolor": "white",
          "plot_bgcolor": "#E5ECF6",
          "polar": {
           "angularaxis": {
            "gridcolor": "white",
            "linecolor": "white",
            "ticks": ""
           },
           "bgcolor": "#E5ECF6",
           "radialaxis": {
            "gridcolor": "white",
            "linecolor": "white",
            "ticks": ""
           }
          },
          "scene": {
           "xaxis": {
            "backgroundcolor": "#E5ECF6",
            "gridcolor": "white",
            "gridwidth": 2,
            "linecolor": "white",
            "showbackground": true,
            "ticks": "",
            "zerolinecolor": "white"
           },
           "yaxis": {
            "backgroundcolor": "#E5ECF6",
            "gridcolor": "white",
            "gridwidth": 2,
            "linecolor": "white",
            "showbackground": true,
            "ticks": "",
            "zerolinecolor": "white"
           },
           "zaxis": {
            "backgroundcolor": "#E5ECF6",
            "gridcolor": "white",
            "gridwidth": 2,
            "linecolor": "white",
            "showbackground": true,
            "ticks": "",
            "zerolinecolor": "white"
           }
          },
          "shapedefaults": {
           "line": {
            "color": "#2a3f5f"
           }
          },
          "ternary": {
           "aaxis": {
            "gridcolor": "white",
            "linecolor": "white",
            "ticks": ""
           },
           "baxis": {
            "gridcolor": "white",
            "linecolor": "white",
            "ticks": ""
           },
           "bgcolor": "#E5ECF6",
           "caxis": {
            "gridcolor": "white",
            "linecolor": "white",
            "ticks": ""
           }
          },
          "title": {
           "x": 0.05
          },
          "xaxis": {
           "automargin": true,
           "gridcolor": "white",
           "linecolor": "white",
           "ticks": "",
           "title": {
            "standoff": 15
           },
           "zerolinecolor": "white",
           "zerolinewidth": 2
          },
          "yaxis": {
           "automargin": true,
           "gridcolor": "white",
           "linecolor": "white",
           "ticks": "",
           "title": {
            "standoff": 15
           },
           "zerolinecolor": "white",
           "zerolinewidth": 2
          }
         }
        },
        "title": {
         "text": "<b>Counts, Normalizer Performance, and Data Types of Variants by Category</b>"
        },
        "width": 1400
       }
      }
     },
     "metadata": {},
     "output_type": "display_data"
    }
   ],
   "source": [
    "base_colors = ['rgb(49, 130, 189)','rgb(239, 243, 255)', 'rgb(189, 215, 231)', 'rgb(107, 174, 214)',\n",
    "           'white']\n",
    "core_field = \"\\u2B24\"\n",
    "optional_field = \"<b>◯</b>\"\n",
    "\n",
    "colors = ['rgb(49, 130, 189)','white', 'white', 'white',\n",
    "           'white', 'rgb(49, 130, 189)', 'white', 'white', 'rgb(189, 215, 231)','rgb(107, 174, 214)']\n",
    "\n",
    "data = {\n",
    "        # 'variant_category' : VARIANT_CATEGORY_VALUES,\n",
    "        'variant_category' : [\"Sequence\", \"Genotype\", \"Fusion\", \"Rearrangement\", \"Epigenetic Modification\", \"Copy Number\", \"Expression\", \"Gene Function\", \"Region-Defined\", \"Other\"],\n",
    "        'counts' : [f'{category_counts[v.value][Fields.TOTAL_COUNT]:,}' for v in VARIANT_CATEGORY_VALUES],\n",
    "        'percent_normalized' : [\"%.2f\" %round(float(category_counts[v.value][Fields.PERCENT_NORMALIZED])*100,2)+\"%\" for v in VARIANT_CATEGORY_VALUES],\n",
    "        'delta_sequence' : [core_field, core_field, \"\", \"\", \"\", \"\", \"\", \"\", \"\", optional_field],\n",
    "        'delta_location' : [optional_field, optional_field, core_field, core_field, \"\", \"\", \"\", \"\", \"\", \"\"],\n",
    "        'delta_frame' : [optional_field, optional_field, \"\", \"\", \"\", \"\", \"\", \"\", \"\", optional_field],\n",
    "        'delta_quantity' : [optional_field, optional_field, \"\", \"\", core_field, core_field, optional_field, \"\", \"\", optional_field],\n",
    "        'delta_function' : [optional_field, optional_field, \"\", \"\", optional_field, optional_field, core_field, core_field, \"\", optional_field],\n",
    "        'region_specificity' : [optional_field, optional_field, optional_field, optional_field, optional_field, optional_field, optional_field, optional_field, core_field, optional_field],\n",
    "        'shading' : colors\n",
    "         }\n",
    "df = pd.DataFrame(data)\n",
    "\n",
    "fig = go.Figure(data=[go.Table(\n",
    "  columnwidth = [90,53,65,53,50,50,50,50,50,50],\n",
    "  header=dict(\n",
    "    values=[\"<b>Variant Category</b>\", \"<b>Count</b>\", \"<b>% Normalized</b>\", \"<b>Δ Sequence</b>\", \"<b>Δ Location</b>\", \"<b>Δ Frame</b>\", \"<b>Δ Quantity</b>\", \"<b>Δ Function</b>\", \"<b>Region Specificity</b>\"],\n",
    "    line_color='black', fill_color='white',\n",
    "    align='center', font=dict(color='black', size=18)\n",
    "  ),\n",
    "  cells=dict(\n",
    "    values=[df.variant_category, df.counts, df.percent_normalized, df.delta_sequence, df.delta_location, df.delta_frame, df.delta_quantity, df.delta_function, df.region_specificity],\n",
    "    line_color=[\"black\"], fill_color= [df.shading],\n",
    "    align='right', font=dict(color='black', size=18), height=30\n",
    "  ))\n",
    "\n",
    "])\n",
    "\n",
    "fig.add_annotation(\n",
    "            dict(\n",
    "                text='  \\u2B24  Core information fields<br><br>  <b>◯</b>  Optional information fields  ',\n",
    "                align='left',\n",
    "                showarrow=False,\n",
    "                xref='paper',\n",
    "                xanchor = 'right',\n",
    "                yref='paper',\n",
    "                x=0.98,\n",
    "                y=0.02,\n",
    "                yanchor = 'bottom',\n",
    "                bordercolor='black',\n",
    "                borderwidth=1\n",
    "            ))\n",
    "\n",
    "fig.update_layout(\n",
    "    height=585, \n",
    "    width=1400,\n",
    "    font=dict(\n",
    "        size=18,\n",
    "        color=\"Black\"\n",
    "        ),\n",
    "    title = \"<b>Counts, Normalizer Performance, and Data Types of Variants by Category</b>\",\n",
    "        margin=go.layout.Margin(\n",
    "        l=2, #left margin\n",
    "        r=2, #right margin\n",
    "        b=0, #bottom margin\n",
    "        t=52  #top margin\n",
    "    ))\n",
    "fig.show()"
   ]
  },
  {
   "cell_type": "markdown",
   "metadata": {},
   "source": [
    "Exporting the table as a .png file."
   ]
  },
  {
   "cell_type": "code",
   "execution_count": 68,
   "metadata": {},
   "outputs": [],
   "source": [
    "fig.write_image(\"../merged_performance_analysis_table.png\",'png')"
   ]
  }
 ],
 "metadata": {
  "kernelspec": {
   "display_name": "Python 3",
   "language": "python",
   "name": "python3"
  },
  "language_info": {
   "codemirror_mode": {
    "name": "ipython",
    "version": 3
   },
   "file_extension": ".py",
   "mimetype": "text/x-python",
   "name": "python",
   "nbconvert_exporter": "python",
   "pygments_lexer": "ipython3",
   "version": "3.11.4"
  },
  "orig_nbformat": 4
 },
 "nbformat": 4,
 "nbformat_minor": 2
}
