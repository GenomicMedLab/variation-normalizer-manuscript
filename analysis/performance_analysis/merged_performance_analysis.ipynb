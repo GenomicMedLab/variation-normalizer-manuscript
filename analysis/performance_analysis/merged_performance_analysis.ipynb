{
 "cells": [
  {
   "cell_type": "markdown",
   "metadata": {},
   "source": [
    "# Normalizer Performance Analysis\n",
    "\n",
    "This notebook contains an analysis of the normalizer performance on the CIViC, MOA, and Clinvar data"
   ]
  },
  {
   "cell_type": "markdown",
   "metadata": {},
   "source": [
    "## Import relevant packages"
   ]
  },
  {
   "cell_type": "code",
   "execution_count": 1,
   "metadata": {},
   "outputs": [],
   "source": [
    "from pathlib import Path\n",
    "import pandas as pd\n",
    "import numpy as np\n",
    "# from civicpy import civic as civicpy\n",
    "# import plotly.express as px\n",
    "import ndjson\n",
    "import re\n",
    "from dotenv import load_dotenv\n",
    "import os"
   ]
  },
  {
   "cell_type": "markdown",
   "metadata": {},
   "source": [
    "## Dictionaries to map variants to categories and record category counts"
   ]
  },
  {
   "cell_type": "markdown",
   "metadata": {},
   "source": [
    "Bin variants to categories.\n",
    "\n",
    "For variants with multiple associated types:  If the 2+ types have a subset relationship (eg frameshift; frameshift truncation), they are assigned to categories consistent with the superset type (frameshift).  If the types are disjoint (eg: Trancript Variant; Loss of Function Variant), they are assigned with the category most closely associated with the assayed data (Transcript Variant).  This assignment is done in the civic_category_bins dictionary."
   ]
  },
  {
   "cell_type": "code",
   "execution_count": 2,
   "metadata": {},
   "outputs": [],
   "source": [
    "civic_category_bins = {\n",
    "    \"Delins\":\"Sequence Variants\",\n",
    "    \"Direct Tandem Duplication\":\"Sequence Variants\",\n",
    "    \"Disruptive Inframe Deletion\":\"Sequence Variants\",\n",
    "    \"Disruptive Inframe Insertion\":\"Sequence Variants\",\n",
    "    \"Coding Sequence Variant\":\"Sequence Variants\",\n",
    "    \"Conservative Inframe Deletion\":\"Sequence Variants\",\n",
    "    \"Copy Number Variants\":\"Copy Number Variants\",\n",
    "    \"Frameshift\":\"Sequence Variants\",\n",
    "    \"Frameshift Truncation\":\"Sequence Variants\",\n",
    "    \"Frameshift Variant\":\"Sequence Variants\",\n",
    "    \"Frameshift Variant;Minus 1 Frameshift Variant\":\"Sequence Variants\",\n",
    "    \"Inframe Deletion\":\"Sequence Variants\",\n",
    "    \"Inframe Indel\":\"Sequence Variants\",\n",
    "    \"Inframe Insertion\":\"Sequence Variants\",\n",
    "    \"Intron Variant\":\"Region-Defined Variants\",\n",
    "    \"Minus 1 Frameshift Variant\":\"Sequence Variants\",\n",
    "    \"Minus 2 Frameshift Variant\":\"Sequence Variants\",\n",
    "    \"Missense Variant\":\"Sequence Variants\",\n",
    "    \"Non Conservative Missense Variant\":\"Sequence Variants\",\n",
    "    \"Plus 1 Frameshift Variant\":\"Sequence Variants\",\n",
    "    \"Region-Defined Variant\":\"Region-Defined Variants\",\n",
    "    \"Regulatory Region Variant\":\"Region-Defined Variants\",\n",
    "    \"Sequence Variants\":\"Sequence Variants\",\n",
    "    \"Splice Acceptor Variant\":\"Region-Defined Variants\",\n",
    "    \"Splice Donor Region Variant\":\"Region-Defined Variants\",\n",
    "    \"Splice Donor Variant\":\"Region-Defined Variants\",\n",
    "    \"Splicing Variant\":\"Other Variants\",\n",
    "    \"Start Lost\":\"Sequence Variants\",\n",
    "    \"Stop Gained\":\"Sequence Variants\",\n",
    "    \"Stop Lost\":\"Sequence Variants\",\n",
    "    \"Synonymous Variant\":\"Sequence Variants\",\n",
    "    \"Transcript Amplification\":\"Copy Number Variants\",\n",
    "    \"Transcript Fusion\":\"Fusion Variants\",\n",
    "    \"3 Prime UTR Variant\":\"Region-Defined Variants\",\n",
    "    \"Amino Acid Deletion;Inframe Deletion\":\"Sequence Variants\",\n",
    "    \"Frameshift Truncation;Minus 2 Frameshift Variant\":\"Sequence Variants\",\n",
    "    \"Frameshift Truncation;Plus 2 Frameshift Variant\":\"Sequence Variants\",\n",
    "    \"Frameshift Variant;Delins\":\"Sequence Variants\",\n",
    "    \"Inframe Insertion;Delins\":\"Sequence Variants\",\n",
    "    \"Inframe Insertion;Inframe Deletion;Delins\":\"Sequence Variants\",\n",
    "    \"Inframe Variant;Inframe Insertion;Inframe Deletion;Delins \":\"Sequence Variants\",\n",
    "    \"Minus 1 Frameshift Variant;Frameshift Truncation\":\"Sequence Variants\",\n",
    "    \"Plus 1 Frameshift Variant;Frameshift Elongation\":\"Sequence Variants\",\n",
    "    \"Plus 1 Frameshift Variant;Frameshift Truncation\":\"Sequence Variants\",\n",
    "    \"Missense Variant;Gain Of Function Variant\":\"Sequence Variants\", \n",
    "    \"Missense Variant;Loss Of Function Variant\":\"Sequence Variants\", \n",
    "    \"Missense Variant;Loss Of Heterozygosity\":\"Sequence Variants\", \n",
    "    \"Missense Variant;Polymorphic Sequence Variant\":\"Sequence Variants\", \n",
    "    \"Missense Variant;Snp\":\"Sequence Variants\", \n",
    "    \"Missense Variant;Transcript Fusion\":\"Sequence Variants\",\n",
    "    \"Stop Gained;Loss Of Function Variant\":\"Sequence Variants\",\n",
    "    \"Stop Lost;Inframe Deletion\":\"Sequence Variants\"\n",
    "}\n",
    "\n",
    "\n",
    "\n",
    "moa_category_bins = {\n",
    "    \"Copy Number Variants\": \"Copy Number Variants\",\n",
    "    \"Expression Variants\": \"Expression Variants\",\n",
    "    \"Other Variants\": \"Other Variants\",\n",
    "    \"Rearrangement Variants\": \"Rearrangement Variants\",\n",
    "    \"Sequence Variants\": \"Sequence Variants\"\n",
    "}\n",
    "\n",
    "\n",
    "\n",
    "clinvar_category_bins = {\n",
    "    \"Complex\":\"Other Variants\",\n",
    "    \"CompoundHeterozygote\":\"Genotype Variants\",\n",
    "    \"Deletion\":\"Sequence Variants\",\n",
    "    \"Diplotype\":\"Genotype Variants\",\n",
    "    \"Distinct chromosomes\":\"Rearrangement Variants\",\n",
    "    \"Duplication\":\"Sequence Variants\",\n",
    "    \"Haplotype\":\"Sequence Variants\",\n",
    "    \"Haplotype, single variant\":\"Sequence Variants\",\n",
    "    \"Indel\":\"Sequence Variants\",\n",
    "    \"Insertion\":\"Sequence Variants\",\n",
    "    \"Inversion\":\"Sequence Variants\",\n",
    "    \"Microsatellite\":\"Sequence Variants\",\n",
    "    \"Phase unknown\":\"Other Variants\",\n",
    "    \"Tandem duplication\":\"Sequence Variants\",\n",
    "    \"Translocation\":\"Rearrangement Variants\",\n",
    "    \"Variation\":\"Other Variants\",\n",
    "    \"copy number gain\":\"Copy Number Variants\",\n",
    "    \"copy number loss\":\"Copy Number Variants\",\n",
    "    \"fusion\":\"Fusion Variants\",\n",
    "    \"protein only\":\"Sequence Variants\",\n",
    "    \"single nucleotide variant\":\"Sequence Variants\"\n",
    "}\n",
    "\n",
    "\n",
    "# the values in this dictionary are lists of 4 integer values:\n",
    "# [nomalized_count, unable_to_normalize_count, unsupported_count, total_count]\n",
    "nomalized_count = 0\n",
    "unable_to_normalize_count = 1\n",
    "unsupported_count = 2\n",
    "total_count = 3\n",
    "\n",
    "category_counts = {\n",
    "    \"Copy Number Variants\":[0,0,0,0],\n",
    "    \"Epigenetic Modification\":[0,0,0,0],\n",
    "    \"Expression Variants\":[0,0,0,0],\n",
    "    \"Fusion Variants\":[0,0,0,0],\n",
    "    \"Gene Function Variants\":[0,0,0,0],\n",
    "    \"Genotype Variants\":[0,0,0,0],\n",
    "    \"Other Variants\":[0,0,0,0],\n",
    "    \"Rearrangement Variants\":[0,0,0,0],\n",
    "    \"Region-Defined Variants\":[0,0,0,0],\n",
    "    \"Sequence Variants\":[0,0,0,0]\n",
    "}"
   ]
  },
  {
   "cell_type": "markdown",
   "metadata": {},
   "source": [
    "## CIViC\n",
    "\n"
   ]
  },
  {
   "cell_type": "markdown",
   "metadata": {},
   "source": [
    "In order to score the normalizer's performance on the CIViC data, some cleaning is required.\n",
    "\n",
    "First we need to read in the data that was ostensibly supported, get rid of varients with multiple type labels, and assign variant types to as  many of the entries as possible that have a \"Not provided\" value for civic_variant_types."
   ]
  },
  {
   "cell_type": "markdown",
   "metadata": {},
   "source": [
    "Read in .csv of normalized variants in CIVIC"
   ]
  },
  {
   "cell_type": "code",
   "execution_count": 3,
   "metadata": {},
   "outputs": [
    {
     "name": "stdout",
     "output_type": "stream",
     "text": [
      "(1876, 7)\n"
     ]
    },
    {
     "data": {
      "text/plain": [
       "pandas.core.frame.DataFrame"
      ]
     },
     "execution_count": 3,
     "metadata": {},
     "output_type": "execute_result"
    }
   ],
   "source": [
    "civic_normalized_df = pd.read_csv(\"../civic/variation_analysis/able_to_normalize_queries.csv\",sep = \"\\t\")\n",
    "print(civic_normalized_df.shape)\n",
    "civic_normalized_df.head()\n",
    "type(civic_normalized_df)"
   ]
  },
  {
   "cell_type": "markdown",
   "metadata": {},
   "source": [
    "Prune columns and add new column to flag as normalized."
   ]
  },
  {
   "cell_type": "code",
   "execution_count": 4,
   "metadata": {},
   "outputs": [
    {
     "data": {
      "text/html": [
       "<div>\n",
       "<style scoped>\n",
       "    .dataframe tbody tr th:only-of-type {\n",
       "        vertical-align: middle;\n",
       "    }\n",
       "\n",
       "    .dataframe tbody tr th {\n",
       "        vertical-align: top;\n",
       "    }\n",
       "\n",
       "    .dataframe thead th {\n",
       "        text-align: right;\n",
       "    }\n",
       "</style>\n",
       "<table border=\"1\" class=\"dataframe\">\n",
       "  <thead>\n",
       "    <tr style=\"text-align: right;\">\n",
       "      <th></th>\n",
       "      <th>variant_id</th>\n",
       "      <th>query</th>\n",
       "      <th>query_type</th>\n",
       "      <th>civic_variant_types</th>\n",
       "      <th>normalization_status</th>\n",
       "    </tr>\n",
       "  </thead>\n",
       "  <tbody>\n",
       "    <tr>\n",
       "      <th>0</th>\n",
       "      <td>2489</td>\n",
       "      <td>NC_000003.11:g.10191648_10191649insC</td>\n",
       "      <td>genomic</td>\n",
       "      <td>Stop Lost</td>\n",
       "      <td>normalized</td>\n",
       "    </tr>\n",
       "    <tr>\n",
       "      <th>1</th>\n",
       "      <td>1988</td>\n",
       "      <td>NC_000003.11:g.10191649A&gt;T</td>\n",
       "      <td>genomic</td>\n",
       "      <td>Stop Lost</td>\n",
       "      <td>normalized</td>\n",
       "    </tr>\n",
       "    <tr>\n",
       "      <th>2</th>\n",
       "      <td>2488</td>\n",
       "      <td>3-10191647-T-G</td>\n",
       "      <td>genomic</td>\n",
       "      <td>Stop Lost</td>\n",
       "      <td>normalized</td>\n",
       "    </tr>\n",
       "    <tr>\n",
       "      <th>3</th>\n",
       "      <td>1986</td>\n",
       "      <td>NC_000003.11:g.10191648G&gt;T</td>\n",
       "      <td>genomic</td>\n",
       "      <td>Stop Lost</td>\n",
       "      <td>normalized</td>\n",
       "    </tr>\n",
       "    <tr>\n",
       "      <th>4</th>\n",
       "      <td>1987</td>\n",
       "      <td>NC_000003.11:g.10191649A&gt;G</td>\n",
       "      <td>genomic</td>\n",
       "      <td>Stop Lost</td>\n",
       "      <td>normalized</td>\n",
       "    </tr>\n",
       "  </tbody>\n",
       "</table>\n",
       "</div>"
      ],
      "text/plain": [
       "   variant_id                                 query query_type  \\\n",
       "0        2489  NC_000003.11:g.10191648_10191649insC    genomic   \n",
       "1        1988            NC_000003.11:g.10191649A>T    genomic   \n",
       "2        2488                        3-10191647-T-G    genomic   \n",
       "3        1986            NC_000003.11:g.10191648G>T    genomic   \n",
       "4        1987            NC_000003.11:g.10191649A>G    genomic   \n",
       "\n",
       "  civic_variant_types normalization_status  \n",
       "0           Stop Lost           normalized  \n",
       "1           Stop Lost           normalized  \n",
       "2           Stop Lost           normalized  \n",
       "3           Stop Lost           normalized  \n",
       "4           Stop Lost           normalized  "
      ]
     },
     "execution_count": 4,
     "metadata": {},
     "output_type": "execute_result"
    }
   ],
   "source": [
    "pruned_civic_normalized_df = civic_normalized_df[[\"variant_id\",\"query\",\"query_type\",\"civic_variant_types\"]]\n",
    "pruned_civic_normalized_df.insert(4,\"normalization_status\",\"normalized\")\n",
    "pruned_civic_normalized_df.head()"
   ]
  },
  {
   "cell_type": "markdown",
   "metadata": {},
   "source": [
    "Repeat process with the variants that were unable to be normalized."
   ]
  },
  {
   "cell_type": "code",
   "execution_count": 5,
   "metadata": {},
   "outputs": [
    {
     "name": "stdout",
     "output_type": "stream",
     "text": [
      "(80, 8)\n"
     ]
    },
    {
     "data": {
      "text/plain": [
       "pandas.core.frame.DataFrame"
      ]
     },
     "execution_count": 5,
     "metadata": {},
     "output_type": "execute_result"
    }
   ],
   "source": [
    "civic_not_normalized_df = pd.read_csv(\"../civic/variation_analysis/unable_to_normalize_queries.csv\",sep = \"\\t\")\n",
    "print(civic_not_normalized_df.shape)\n",
    "civic_not_normalized_df.head()\n",
    "type(civic_not_normalized_df)"
   ]
  },
  {
   "cell_type": "code",
   "execution_count": 6,
   "metadata": {},
   "outputs": [
    {
     "data": {
      "text/html": [
       "<div>\n",
       "<style scoped>\n",
       "    .dataframe tbody tr th:only-of-type {\n",
       "        vertical-align: middle;\n",
       "    }\n",
       "\n",
       "    .dataframe tbody tr th {\n",
       "        vertical-align: top;\n",
       "    }\n",
       "\n",
       "    .dataframe thead th {\n",
       "        text-align: right;\n",
       "    }\n",
       "</style>\n",
       "<table border=\"1\" class=\"dataframe\">\n",
       "  <thead>\n",
       "    <tr style=\"text-align: right;\">\n",
       "      <th></th>\n",
       "      <th>variant_id</th>\n",
       "      <th>query</th>\n",
       "      <th>query_type</th>\n",
       "      <th>civic_variant_types</th>\n",
       "      <th>normalization_status</th>\n",
       "    </tr>\n",
       "  </thead>\n",
       "  <tbody>\n",
       "    <tr>\n",
       "      <th>0</th>\n",
       "      <td>748</td>\n",
       "      <td>MLH1 *757L</td>\n",
       "      <td>protein</td>\n",
       "      <td>Stop Lost</td>\n",
       "      <td>not_normalized</td>\n",
       "    </tr>\n",
       "    <tr>\n",
       "      <th>1</th>\n",
       "      <td>3718</td>\n",
       "      <td>AR A748V</td>\n",
       "      <td>protein</td>\n",
       "      <td>Not provided</td>\n",
       "      <td>not_normalized</td>\n",
       "    </tr>\n",
       "    <tr>\n",
       "      <th>2</th>\n",
       "      <td>3725</td>\n",
       "      <td>AR A765T</td>\n",
       "      <td>protein</td>\n",
       "      <td>Not provided</td>\n",
       "      <td>not_normalized</td>\n",
       "    </tr>\n",
       "    <tr>\n",
       "      <th>3</th>\n",
       "      <td>4485</td>\n",
       "      <td>ERBB2 A775_G776ins YVMA</td>\n",
       "      <td>protein</td>\n",
       "      <td>Not provided</td>\n",
       "      <td>not_normalized</td>\n",
       "    </tr>\n",
       "    <tr>\n",
       "      <th>4</th>\n",
       "      <td>248</td>\n",
       "      <td>TERT C228T</td>\n",
       "      <td>protein</td>\n",
       "      <td>Regulatory Region Variant</td>\n",
       "      <td>not_normalized</td>\n",
       "    </tr>\n",
       "  </tbody>\n",
       "</table>\n",
       "</div>"
      ],
      "text/plain": [
       "   variant_id                    query query_type        civic_variant_types  \\\n",
       "0         748               MLH1 *757L    protein                  Stop Lost   \n",
       "1        3718                 AR A748V    protein               Not provided   \n",
       "2        3725                 AR A765T    protein               Not provided   \n",
       "3        4485  ERBB2 A775_G776ins YVMA    protein               Not provided   \n",
       "4         248               TERT C228T    protein  Regulatory Region Variant   \n",
       "\n",
       "  normalization_status  \n",
       "0       not_normalized  \n",
       "1       not_normalized  \n",
       "2       not_normalized  \n",
       "3       not_normalized  \n",
       "4       not_normalized  "
      ]
     },
     "execution_count": 6,
     "metadata": {},
     "output_type": "execute_result"
    }
   ],
   "source": [
    "pruned_civic_not_normalized_df = civic_not_normalized_df[[\"variant_id\",\"query\",\"query_type\",\"civic_variant_types\"]]\n",
    "pruned_civic_not_normalized_df.insert(4,\"normalization_status\",\"not_normalized\")\n",
    "pruned_civic_not_normalized_df.head()"
   ]
  },
  {
   "cell_type": "markdown",
   "metadata": {},
   "source": [
    "Merge these dfs"
   ]
  },
  {
   "cell_type": "code",
   "execution_count": 7,
   "metadata": {},
   "outputs": [
    {
     "data": {
      "text/plain": [
       "(1956, 5)"
      ]
     },
     "execution_count": 7,
     "metadata": {},
     "output_type": "execute_result"
    }
   ],
   "source": [
    "frames = [pruned_civic_normalized_df, pruned_civic_not_normalized_df]\n",
    "civic_supported_df = pd.concat(frames)\n",
    "civic_supported_df.shape"
   ]
  },
  {
   "cell_type": "markdown",
   "metadata": {},
   "source": [
    "Making all queries in all caps to make it easier to account of untyped variants later on."
   ]
  },
  {
   "cell_type": "code",
   "execution_count": 8,
   "metadata": {},
   "outputs": [],
   "source": [
    "civic_supported_df[\"query\"] = civic_supported_df[\"query\"].apply(str.upper)"
   ]
  },
  {
   "cell_type": "markdown",
   "metadata": {},
   "source": [
    "Checking variant types.  The single largest types is \"Not provided\".  \n",
    "Most of these look like amino acid substitutions.\n",
    "Defining a regex to detect these variants and assign \"Missense Varaint\" type to these variants."
   ]
  },
  {
   "cell_type": "code",
   "execution_count": 9,
   "metadata": {},
   "outputs": [
    {
     "data": {
      "text/plain": [
       "civic_variant_types\n",
       "Not provided                                                 816\n",
       "Missense Variant                                             815\n",
       "Stop Gained                                                   60\n",
       "Frameshift Truncation                                         36\n",
       "Transcript Amplification                                      36\n",
       "Inframe Deletion                                              35\n",
       "Minus 1 Frameshift Variant;Frameshift Truncation              21\n",
       "Inframe Insertion                                             17\n",
       "Synonymous Variant                                            13\n",
       "Splice Donor Variant                                          13\n",
       "Splice Acceptor Variant                                        9\n",
       "Missense Variant;Gain Of Function Variant                      9\n",
       "Frameshift Variant                                             7\n",
       "Stop Lost                                                      6\n",
       "Conservative Inframe Deletion                                  6\n",
       "Delins                                                         4\n",
       "Frameshift Truncation;Minus 2 Frameshift Variant               4\n",
       "Plus 1 Frameshift Variant;Frameshift Truncation                3\n",
       "Start Lost                                                     3\n",
       "3 Prime UTR Variant                                            3\n",
       "Splice Donor Region Variant                                    2\n",
       "Non Conservative Missense Variant                              2\n",
       "Regulatory Region Variant                                      2\n",
       "Coding Sequence Variant                                        2\n",
       "Missense Variant;Transcript Fusion                             2\n",
       "Stop Gained;Loss Of Function Variant                           2\n",
       "Disruptive Inframe Deletion                                    2\n",
       "Missense Variant;Polymorphic Sequence Variant                  2\n",
       "Missense Variant;Loss Of Function Variant                      2\n",
       "Minus 1 Frameshift Variant                                     2\n",
       "Inframe Variant;Inframe Insertion;Inframe Deletion;Delins      1\n",
       "Intron Variant                                                 1\n",
       "Frameshift Variant;Minus 1 Frameshift Variant                  1\n",
       "Frameshift Variant;Delins                                      1\n",
       "Direct Tandem Duplication                                      1\n",
       "Amino Acid Deletion;Inframe Deletion                           1\n",
       "Missense Variant;Snp                                           1\n",
       "Disruptive Inframe Insertion                                   1\n",
       "Splicing Variant                                               1\n",
       "Frameshift                                                     1\n",
       "Frameshift Truncation;Plus 2 Frameshift Variant                1\n",
       "Missense Variant;Loss Of Heterozygosity                        1\n",
       "Transcript Fusion                                              1\n",
       "Minus 2 Frameshift Variant                                     1\n",
       "Inframe Indel                                                  1\n",
       "Inframe Insertion;Inframe Deletion;Delins                      1\n",
       "Plus 1 Frameshift Variant                                      1\n",
       "Inframe Insertion;Delins                                       1\n",
       "Plus 1 Frameshift Variant;Frameshift Elongation                1\n",
       "Stop Lost;Inframe Deletion                                     1\n",
       "Name: count, dtype: int64"
      ]
     },
     "execution_count": 9,
     "metadata": {},
     "output_type": "execute_result"
    }
   ],
   "source": [
    "civic_supported_df[\"civic_variant_types\"].value_counts(dropna=False)"
   ]
  },
  {
   "cell_type": "markdown",
   "metadata": {},
   "source": [
    "If a variant does not have an assigned variant type in civic, it is a protein query, and the query matches a regex pattern associated with variant flagstitutions (such as \"PTEN A126D\"), then I am re-classifying them as a \"Missense Variant\" instead."
   ]
  },
  {
   "cell_type": "code",
   "execution_count": 10,
   "metadata": {},
   "outputs": [],
   "source": [
    "civic_supported_df[\"variant flag\"] = civic_supported_df[\"query\"].apply(lambda x: bool(re.match(\"\\S+\\s+[A-Z]+\\d+[A-Z|*]\", x)))\n",
    "\n",
    "civic_supported_df[\"civic_variant_types\"] = np.where((civic_supported_df[\"query_type\"] == \"protein\") & (civic_supported_df[\"civic_variant_types\"] == \"Not provided\") & (civic_supported_df[\"variant flag\"]), \"Missense Variant\", civic_supported_df[\"civic_variant_types\"])\n",
    "\n",
    "# civic_supported_df[0:20]\n",
    "    # bool(re.match(\"\\S+\\s+[A-Z]+\\d+[A-Z]\",\"PTEN A126D\"))"
   ]
  },
  {
   "cell_type": "markdown",
   "metadata": {},
   "source": [
    "Doing so reduced the 816 untyped variants down to 70.\n",
    "Checking the remaining weird variants."
   ]
  },
  {
   "cell_type": "code",
   "execution_count": 11,
   "metadata": {},
   "outputs": [
    {
     "name": "stdout",
     "output_type": "stream",
     "text": [
      "     variant_id                      query query_type civic_variant_types  \\\n",
      "11         3342          KRAS A11_G12INSGA    protein        Not provided   \n",
      "65         4484     ERBB2 A775_G776INSIVMA    protein        Not provided   \n",
      "66         2658     ERBB2 A775_G776INSYVMA    protein        Not provided   \n",
      "67         4483     ERBB2 A775_G776INSYVMA    protein        Not provided   \n",
      "74         3751  ARHGAP35 A865_L870DELINSV    protein        Not provided   \n",
      "82         2655          MYB AMPLIFICATION    protein        Not provided   \n",
      "110        1261         MDM2 AMPLIFICATION    protein        Not provided   \n",
      "113        1276          SMO AMPLIFICATION    protein        Not provided   \n",
      "116        1684        PSMD4 AMPLIFICATION    protein        Not provided   \n",
      "118        2205         FLT4 AMPLIFICATION    protein        Not provided   \n",
      "119        2240         TLK2 AMPLIFICATION    protein        Not provided   \n",
      "120        2397         CRKL AMPLIFICATION    protein        Not provided   \n",
      "121        2550         NRAS AMPLIFICATION    protein        Not provided   \n",
      "122        2564          MYC AMPLIFICATION    protein        Not provided   \n",
      "123        2598         IRS2 AMPLIFICATION    protein        Not provided   \n",
      "124        2619         FLT3 AMPLIFICATION    protein        Not provided   \n",
      "125        2637          KDR AMPLIFICATION    protein        Not provided   \n",
      "126        2746        CCND2 AMPLIFICATION    protein        Not provided   \n",
      "127        2747        CCND3 AMPLIFICATION    protein        Not provided   \n",
      "128        2844         MITF AMPLIFICATION    protein        Not provided   \n",
      "\n",
      "    normalization_status  variant flag  \n",
      "11            normalized         False  \n",
      "65            normalized         False  \n",
      "66            normalized         False  \n",
      "67            normalized         False  \n",
      "74            normalized         False  \n",
      "82            normalized         False  \n",
      "110           normalized         False  \n",
      "113           normalized         False  \n",
      "116           normalized         False  \n",
      "118           normalized         False  \n",
      "119           normalized         False  \n",
      "120           normalized         False  \n",
      "121           normalized         False  \n",
      "122           normalized         False  \n",
      "123           normalized         False  \n",
      "124           normalized         False  \n",
      "125           normalized         False  \n",
      "126           normalized         False  \n",
      "127           normalized         False  \n",
      "128           normalized         False  \n"
     ]
    }
   ],
   "source": [
    "untyped_variants = civic_supported_df[civic_supported_df[\"civic_variant_types\"] == \"Not provided\"]\n",
    "print(untyped_variants.head(20))"
   ]
  },
  {
   "cell_type": "markdown",
   "metadata": {},
   "source": [
    "Reassigning variants marked as {gene} Amplification as Transcript Amplification Variants"
   ]
  },
  {
   "cell_type": "code",
   "execution_count": 12,
   "metadata": {},
   "outputs": [],
   "source": [
    "civic_supported_df[\"variant flag\"] = civic_supported_df[\"query\"].apply(lambda x: bool(re.match(\"\\S+\\s+AMPLIFICATION\", x)))\n",
    "\n",
    "civic_supported_df[\"civic_variant_types\"] = np.where((civic_supported_df[\"query_type\"] == \"protein\") & (civic_supported_df[\"civic_variant_types\"] == \"Not provided\") & (civic_supported_df[\"variant flag\"]), \"Transcript Amplification\", civic_supported_df[\"civic_variant_types\"])\n"
   ]
  },
  {
   "cell_type": "markdown",
   "metadata": {},
   "source": [
    "Reassigning amino acid insertions, delins, and deletions as \"Missense Variant\", including a couple of variants that have a random space before or after the sequence operation like \"INS\""
   ]
  },
  {
   "cell_type": "code",
   "execution_count": 13,
   "metadata": {},
   "outputs": [],
   "source": [
    "civic_supported_df[\"variant flag\"] = civic_supported_df[\"query\"].apply(lambda x: bool(re.match(\"\\S+\\s+[A-Z]+\\d+_+[A-Z]+\\d+INS+[A-Z]\", x)))\n",
    "\n",
    "civic_supported_df[\"civic_variant_types\"] = np.where((civic_supported_df[\"query_type\"] == \"protein\") & (civic_supported_df[\"civic_variant_types\"] == \"Not provided\") & (civic_supported_df[\"variant flag\"]), \"Missense Variant\", civic_supported_df[\"civic_variant_types\"])\n"
   ]
  },
  {
   "cell_type": "code",
   "execution_count": 14,
   "metadata": {},
   "outputs": [],
   "source": [
    "civic_supported_df[\"variant flag\"] = civic_supported_df[\"query\"].apply(lambda x: bool(re.match(\"\\S+\\s+[A-Z]+\\d+_+[A-Z]+\\d+INS+\\s+[A-Z]\", x)))\n",
    "\n",
    "civic_supported_df[\"civic_variant_types\"] = np.where((civic_supported_df[\"query_type\"] == \"protein\") & (civic_supported_df[\"civic_variant_types\"] == \"Not provided\") & (civic_supported_df[\"variant flag\"]), \"Missense Variant\", civic_supported_df[\"civic_variant_types\"])"
   ]
  },
  {
   "cell_type": "code",
   "execution_count": 15,
   "metadata": {},
   "outputs": [],
   "source": [
    "civic_supported_df[\"variant flag\"] = civic_supported_df[\"query\"].apply(lambda x: bool(re.match(\"\\S+\\s+[A-Z]+\\d+-+\\d+\\s+INS+[A-Z]\", x)))\n",
    "\n",
    "civic_supported_df[\"civic_variant_types\"] = np.where((civic_supported_df[\"query_type\"] == \"protein\") & (civic_supported_df[\"civic_variant_types\"] == \"Not provided\") & (civic_supported_df[\"variant flag\"]), \"Missense Variant\", civic_supported_df[\"civic_variant_types\"])"
   ]
  },
  {
   "cell_type": "code",
   "execution_count": 16,
   "metadata": {},
   "outputs": [],
   "source": [
    "civic_supported_df[\"variant flag\"] = civic_supported_df[\"query\"].apply(lambda x: bool(re.match(\"\\S+\\s+[A-Z]+\\d+_+[A-Z]+\\d+DELINS+[A-Z]\", x)))\n",
    "\n",
    "civic_supported_df[\"civic_variant_types\"] = np.where((civic_supported_df[\"query_type\"] == \"protein\") & (civic_supported_df[\"civic_variant_types\"] == \"Not provided\") & (civic_supported_df[\"variant flag\"]), \"Missense Variant\", civic_supported_df[\"civic_variant_types\"])\n"
   ]
  },
  {
   "cell_type": "code",
   "execution_count": 17,
   "metadata": {},
   "outputs": [],
   "source": [
    "civic_supported_df[\"variant flag\"] = civic_supported_df[\"query\"].apply(lambda x: bool(re.match(\"\\S+\\s+[A-Z]+\\d+_+[A-Z]+\\d+DEL\", x)))\n",
    "\n",
    "civic_supported_df[\"civic_variant_types\"] = np.where((civic_supported_df[\"query_type\"] == \"protein\") & (civic_supported_df[\"civic_variant_types\"] == \"Not provided\") & (civic_supported_df[\"variant flag\"]), \"Missense Variant\", civic_supported_df[\"civic_variant_types\"])\n"
   ]
  },
  {
   "cell_type": "markdown",
   "metadata": {},
   "source": [
    "And assigning missense types to a handful of remaining variants that are non-standard names for genomic and protein sequence variants"
   ]
  },
  {
   "cell_type": "code",
   "execution_count": 18,
   "metadata": {},
   "outputs": [],
   "source": [
    "civic_supported_df[\"variant flag\"] = civic_supported_df[\"query\"].apply(lambda x: bool(re.match(\"\\S+\\s+P\\.+[A-Z]+\\d+[A-Z]\", x)))\n",
    "\n",
    "civic_supported_df[\"civic_variant_types\"] = np.where((civic_supported_df[\"query_type\"] == \"protein\") & (civic_supported_df[\"civic_variant_types\"] == \"Not provided\") & (civic_supported_df[\"variant flag\"]), \"Missense Variant\", civic_supported_df[\"civic_variant_types\"])\n"
   ]
  },
  {
   "cell_type": "code",
   "execution_count": 19,
   "metadata": {},
   "outputs": [],
   "source": [
    "civic_supported_df[\"variant flag\"] = civic_supported_df[\"query\"].apply(lambda x: bool(re.match(\"\\S+[A-Z]+\\-+[A-Z]\", x)))\n",
    "\n",
    "civic_supported_df[\"civic_variant_types\"] = np.where((civic_supported_df[\"query_type\"] == \"genomic\") & (civic_supported_df[\"civic_variant_types\"] == \"Not provided\") & (civic_supported_df[\"variant flag\"]), \"Missense Variant\", civic_supported_df[\"civic_variant_types\"])"
   ]
  },
  {
   "cell_type": "code",
   "execution_count": 20,
   "metadata": {},
   "outputs": [],
   "source": [
    "civic_supported_df[\"variant flag\"] = civic_supported_df[\"query\"].apply(lambda x: bool(re.match(\"NC_\\d+\\.+\\d+:[A-Z]+\\.+\\d+[A-Z]+>+[A-Z]\", x)))\n",
    "\n",
    "civic_supported_df[\"civic_variant_types\"] = np.where((civic_supported_df[\"query_type\"] == \"genomic\") & (civic_supported_df[\"civic_variant_types\"] == \"Not provided\") & (civic_supported_df[\"variant flag\"]), \"Missense Variant\", civic_supported_df[\"civic_variant_types\"])"
   ]
  },
  {
   "cell_type": "code",
   "execution_count": 21,
   "metadata": {},
   "outputs": [],
   "source": [
    "civic_supported_df[\"variant flag\"] = civic_supported_df[\"query\"].apply(lambda x: bool(re.match(\"NC_\\d+\\.+\\d+:[A-Z]+\\.+\\d+_+\\d+INS+[A-Z]\", x)))\n",
    "\n",
    "civic_supported_df[\"civic_variant_types\"] = np.where((civic_supported_df[\"query_type\"] == \"genomic\") & (civic_supported_df[\"civic_variant_types\"] == \"Not provided\") & (civic_supported_df[\"variant flag\"]), \"Missense Variant\", civic_supported_df[\"civic_variant_types\"])"
   ]
  },
  {
   "cell_type": "markdown",
   "metadata": {},
   "source": [
    "This last variant is a unique (to this db) nonstandard nomenclature for just some variant in a particular domain, so it is a region-defined variant."
   ]
  },
  {
   "cell_type": "code",
   "execution_count": 22,
   "metadata": {},
   "outputs": [],
   "source": [
    "civic_supported_df[\"variant flag\"] = civic_supported_df[\"query\"].apply(lambda x: bool(re.match(\"DICER1 RNASE IIIB MUTATION\", x)))\n",
    "\n",
    "civic_supported_df[\"civic_variant_types\"] = np.where((civic_supported_df[\"query_type\"] == \"protein\") & (civic_supported_df[\"civic_variant_types\"] == \"Not provided\") & (civic_supported_df[\"variant flag\"]), \"Region-Defined Variant\", civic_supported_df[\"civic_variant_types\"])"
   ]
  },
  {
   "cell_type": "markdown",
   "metadata": {},
   "source": [
    "Add category column to CIViC df."
   ]
  },
  {
   "cell_type": "code",
   "execution_count": 23,
   "metadata": {},
   "outputs": [
    {
     "data": {
      "text/html": [
       "<div>\n",
       "<style scoped>\n",
       "    .dataframe tbody tr th:only-of-type {\n",
       "        vertical-align: middle;\n",
       "    }\n",
       "\n",
       "    .dataframe tbody tr th {\n",
       "        vertical-align: top;\n",
       "    }\n",
       "\n",
       "    .dataframe thead th {\n",
       "        text-align: right;\n",
       "    }\n",
       "</style>\n",
       "<table border=\"1\" class=\"dataframe\">\n",
       "  <thead>\n",
       "    <tr style=\"text-align: right;\">\n",
       "      <th></th>\n",
       "      <th>variant_id</th>\n",
       "      <th>query</th>\n",
       "      <th>query_type</th>\n",
       "      <th>civic_variant_types</th>\n",
       "      <th>normalization_status</th>\n",
       "      <th>variant flag</th>\n",
       "      <th>category</th>\n",
       "    </tr>\n",
       "  </thead>\n",
       "  <tbody>\n",
       "    <tr>\n",
       "      <th>75</th>\n",
       "      <td>953</td>\n",
       "      <td>KIT Y553_K558DEL</td>\n",
       "      <td>protein</td>\n",
       "      <td>Inframe Deletion</td>\n",
       "      <td>not_normalized</td>\n",
       "      <td>False</td>\n",
       "      <td>Sequence Variants</td>\n",
       "    </tr>\n",
       "    <tr>\n",
       "      <th>76</th>\n",
       "      <td>1542</td>\n",
       "      <td>KIT Y553_W557DELYEVQW</td>\n",
       "      <td>protein</td>\n",
       "      <td>Inframe Deletion</td>\n",
       "      <td>not_normalized</td>\n",
       "      <td>False</td>\n",
       "      <td>Sequence Variants</td>\n",
       "    </tr>\n",
       "    <tr>\n",
       "      <th>77</th>\n",
       "      <td>1548</td>\n",
       "      <td>KIT Y570_L576DEL</td>\n",
       "      <td>protein</td>\n",
       "      <td>Inframe Deletion</td>\n",
       "      <td>not_normalized</td>\n",
       "      <td>False</td>\n",
       "      <td>Sequence Variants</td>\n",
       "    </tr>\n",
       "    <tr>\n",
       "      <th>78</th>\n",
       "      <td>1630</td>\n",
       "      <td>FLT3 Y591_V592INSVDFREYE</td>\n",
       "      <td>protein</td>\n",
       "      <td>Missense Variant</td>\n",
       "      <td>not_normalized</td>\n",
       "      <td>False</td>\n",
       "      <td>Sequence Variants</td>\n",
       "    </tr>\n",
       "    <tr>\n",
       "      <th>79</th>\n",
       "      <td>3724</td>\n",
       "      <td>AR Y763C</td>\n",
       "      <td>protein</td>\n",
       "      <td>Missense Variant</td>\n",
       "      <td>not_normalized</td>\n",
       "      <td>False</td>\n",
       "      <td>Sequence Variants</td>\n",
       "    </tr>\n",
       "  </tbody>\n",
       "</table>\n",
       "</div>"
      ],
      "text/plain": [
       "    variant_id                     query query_type civic_variant_types  \\\n",
       "75         953          KIT Y553_K558DEL    protein    Inframe Deletion   \n",
       "76        1542     KIT Y553_W557DELYEVQW    protein    Inframe Deletion   \n",
       "77        1548          KIT Y570_L576DEL    protein    Inframe Deletion   \n",
       "78        1630  FLT3 Y591_V592INSVDFREYE    protein    Missense Variant   \n",
       "79        3724                  AR Y763C    protein    Missense Variant   \n",
       "\n",
       "   normalization_status  variant flag           category  \n",
       "75       not_normalized         False  Sequence Variants  \n",
       "76       not_normalized         False  Sequence Variants  \n",
       "77       not_normalized         False  Sequence Variants  \n",
       "78       not_normalized         False  Sequence Variants  \n",
       "79       not_normalized         False  Sequence Variants  "
      ]
     },
     "execution_count": 23,
     "metadata": {},
     "output_type": "execute_result"
    }
   ],
   "source": [
    "civic_supported_df[\"category\"] = civic_supported_df[\"civic_variant_types\"].map(civic_category_bins)\n",
    "civic_supported_df.tail()"
   ]
  },
  {
   "cell_type": "markdown",
   "metadata": {},
   "source": [
    "Split df by normalized/not_normalized flag"
   ]
  },
  {
   "cell_type": "code",
   "execution_count": 24,
   "metadata": {},
   "outputs": [
    {
     "data": {
      "text/html": [
       "<div>\n",
       "<style scoped>\n",
       "    .dataframe tbody tr th:only-of-type {\n",
       "        vertical-align: middle;\n",
       "    }\n",
       "\n",
       "    .dataframe tbody tr th {\n",
       "        vertical-align: top;\n",
       "    }\n",
       "\n",
       "    .dataframe thead th {\n",
       "        text-align: right;\n",
       "    }\n",
       "</style>\n",
       "<table border=\"1\" class=\"dataframe\">\n",
       "  <thead>\n",
       "    <tr style=\"text-align: right;\">\n",
       "      <th></th>\n",
       "      <th>variant_id</th>\n",
       "      <th>query</th>\n",
       "      <th>query_type</th>\n",
       "      <th>civic_variant_types</th>\n",
       "      <th>normalization_status</th>\n",
       "      <th>variant flag</th>\n",
       "      <th>category</th>\n",
       "    </tr>\n",
       "  </thead>\n",
       "  <tbody>\n",
       "    <tr>\n",
       "      <th>0</th>\n",
       "      <td>2489</td>\n",
       "      <td>NC_000003.11:G.10191648_10191649INSC</td>\n",
       "      <td>genomic</td>\n",
       "      <td>Stop Lost</td>\n",
       "      <td>normalized</td>\n",
       "      <td>False</td>\n",
       "      <td>Sequence Variants</td>\n",
       "    </tr>\n",
       "    <tr>\n",
       "      <th>1</th>\n",
       "      <td>1988</td>\n",
       "      <td>NC_000003.11:G.10191649A&gt;T</td>\n",
       "      <td>genomic</td>\n",
       "      <td>Stop Lost</td>\n",
       "      <td>normalized</td>\n",
       "      <td>False</td>\n",
       "      <td>Sequence Variants</td>\n",
       "    </tr>\n",
       "    <tr>\n",
       "      <th>2</th>\n",
       "      <td>2488</td>\n",
       "      <td>3-10191647-T-G</td>\n",
       "      <td>genomic</td>\n",
       "      <td>Stop Lost</td>\n",
       "      <td>normalized</td>\n",
       "      <td>False</td>\n",
       "      <td>Sequence Variants</td>\n",
       "    </tr>\n",
       "    <tr>\n",
       "      <th>3</th>\n",
       "      <td>1986</td>\n",
       "      <td>NC_000003.11:G.10191648G&gt;T</td>\n",
       "      <td>genomic</td>\n",
       "      <td>Stop Lost</td>\n",
       "      <td>normalized</td>\n",
       "      <td>False</td>\n",
       "      <td>Sequence Variants</td>\n",
       "    </tr>\n",
       "    <tr>\n",
       "      <th>4</th>\n",
       "      <td>1987</td>\n",
       "      <td>NC_000003.11:G.10191649A&gt;G</td>\n",
       "      <td>genomic</td>\n",
       "      <td>Stop Lost</td>\n",
       "      <td>normalized</td>\n",
       "      <td>False</td>\n",
       "      <td>Sequence Variants</td>\n",
       "    </tr>\n",
       "    <tr>\n",
       "      <th>...</th>\n",
       "      <td>...</td>\n",
       "      <td>...</td>\n",
       "      <td>...</td>\n",
       "      <td>...</td>\n",
       "      <td>...</td>\n",
       "      <td>...</td>\n",
       "      <td>...</td>\n",
       "    </tr>\n",
       "    <tr>\n",
       "      <th>1871</th>\n",
       "      <td>3161</td>\n",
       "      <td>3-10183878-G-A</td>\n",
       "      <td>genomic</td>\n",
       "      <td>Missense Variant</td>\n",
       "      <td>normalized</td>\n",
       "      <td>False</td>\n",
       "      <td>Sequence Variants</td>\n",
       "    </tr>\n",
       "    <tr>\n",
       "      <th>1872</th>\n",
       "      <td>877</td>\n",
       "      <td>NC_000020.11:G.58903752C&gt;T</td>\n",
       "      <td>genomic</td>\n",
       "      <td>Synonymous Variant</td>\n",
       "      <td>normalized</td>\n",
       "      <td>False</td>\n",
       "      <td>Sequence Variants</td>\n",
       "    </tr>\n",
       "    <tr>\n",
       "      <th>1873</th>\n",
       "      <td>731</td>\n",
       "      <td>NC_000003.11:G.37056036G&gt;A</td>\n",
       "      <td>genomic</td>\n",
       "      <td>Splice Donor Variant</td>\n",
       "      <td>normalized</td>\n",
       "      <td>False</td>\n",
       "      <td>Region-Defined Variants</td>\n",
       "    </tr>\n",
       "    <tr>\n",
       "      <th>1874</th>\n",
       "      <td>3045</td>\n",
       "      <td>VHL P.F76DEL</td>\n",
       "      <td>protein</td>\n",
       "      <td>Missense Variant</td>\n",
       "      <td>normalized</td>\n",
       "      <td>False</td>\n",
       "      <td>Sequence Variants</td>\n",
       "    </tr>\n",
       "    <tr>\n",
       "      <th>1875</th>\n",
       "      <td>3310</td>\n",
       "      <td>HDAC9 P.L33R</td>\n",
       "      <td>protein</td>\n",
       "      <td>Missense Variant</td>\n",
       "      <td>normalized</td>\n",
       "      <td>False</td>\n",
       "      <td>Sequence Variants</td>\n",
       "    </tr>\n",
       "  </tbody>\n",
       "</table>\n",
       "<p>1876 rows × 7 columns</p>\n",
       "</div>"
      ],
      "text/plain": [
       "      variant_id                                 query query_type  \\\n",
       "0           2489  NC_000003.11:G.10191648_10191649INSC    genomic   \n",
       "1           1988            NC_000003.11:G.10191649A>T    genomic   \n",
       "2           2488                        3-10191647-T-G    genomic   \n",
       "3           1986            NC_000003.11:G.10191648G>T    genomic   \n",
       "4           1987            NC_000003.11:G.10191649A>G    genomic   \n",
       "...          ...                                   ...        ...   \n",
       "1871        3161                        3-10183878-G-A    genomic   \n",
       "1872         877            NC_000020.11:G.58903752C>T    genomic   \n",
       "1873         731            NC_000003.11:G.37056036G>A    genomic   \n",
       "1874        3045                          VHL P.F76DEL    protein   \n",
       "1875        3310                          HDAC9 P.L33R    protein   \n",
       "\n",
       "       civic_variant_types normalization_status  variant flag  \\\n",
       "0                Stop Lost           normalized         False   \n",
       "1                Stop Lost           normalized         False   \n",
       "2                Stop Lost           normalized         False   \n",
       "3                Stop Lost           normalized         False   \n",
       "4                Stop Lost           normalized         False   \n",
       "...                    ...                  ...           ...   \n",
       "1871      Missense Variant           normalized         False   \n",
       "1872    Synonymous Variant           normalized         False   \n",
       "1873  Splice Donor Variant           normalized         False   \n",
       "1874      Missense Variant           normalized         False   \n",
       "1875      Missense Variant           normalized         False   \n",
       "\n",
       "                     category  \n",
       "0           Sequence Variants  \n",
       "1           Sequence Variants  \n",
       "2           Sequence Variants  \n",
       "3           Sequence Variants  \n",
       "4           Sequence Variants  \n",
       "...                       ...  \n",
       "1871        Sequence Variants  \n",
       "1872        Sequence Variants  \n",
       "1873  Region-Defined Variants  \n",
       "1874        Sequence Variants  \n",
       "1875        Sequence Variants  \n",
       "\n",
       "[1876 rows x 7 columns]"
      ]
     },
     "execution_count": 24,
     "metadata": {},
     "output_type": "execute_result"
    }
   ],
   "source": [
    "civic_normalized_df_cats = civic_supported_df[civic_supported_df[\"normalization_status\"] == \"normalized\"]\n",
    "civic_normalized_df_cats"
   ]
  },
  {
   "cell_type": "code",
   "execution_count": 25,
   "metadata": {},
   "outputs": [
    {
     "data": {
      "text/html": [
       "<div>\n",
       "<style scoped>\n",
       "    .dataframe tbody tr th:only-of-type {\n",
       "        vertical-align: middle;\n",
       "    }\n",
       "\n",
       "    .dataframe tbody tr th {\n",
       "        vertical-align: top;\n",
       "    }\n",
       "\n",
       "    .dataframe thead th {\n",
       "        text-align: right;\n",
       "    }\n",
       "</style>\n",
       "<table border=\"1\" class=\"dataframe\">\n",
       "  <thead>\n",
       "    <tr style=\"text-align: right;\">\n",
       "      <th></th>\n",
       "      <th>variant_id</th>\n",
       "      <th>query</th>\n",
       "      <th>query_type</th>\n",
       "      <th>civic_variant_types</th>\n",
       "      <th>normalization_status</th>\n",
       "      <th>variant flag</th>\n",
       "      <th>category</th>\n",
       "    </tr>\n",
       "  </thead>\n",
       "  <tbody>\n",
       "    <tr>\n",
       "      <th>0</th>\n",
       "      <td>748</td>\n",
       "      <td>MLH1 *757L</td>\n",
       "      <td>protein</td>\n",
       "      <td>Stop Lost</td>\n",
       "      <td>not_normalized</td>\n",
       "      <td>False</td>\n",
       "      <td>Sequence Variants</td>\n",
       "    </tr>\n",
       "    <tr>\n",
       "      <th>1</th>\n",
       "      <td>3718</td>\n",
       "      <td>AR A748V</td>\n",
       "      <td>protein</td>\n",
       "      <td>Missense Variant</td>\n",
       "      <td>not_normalized</td>\n",
       "      <td>False</td>\n",
       "      <td>Sequence Variants</td>\n",
       "    </tr>\n",
       "    <tr>\n",
       "      <th>2</th>\n",
       "      <td>3725</td>\n",
       "      <td>AR A765T</td>\n",
       "      <td>protein</td>\n",
       "      <td>Missense Variant</td>\n",
       "      <td>not_normalized</td>\n",
       "      <td>False</td>\n",
       "      <td>Sequence Variants</td>\n",
       "    </tr>\n",
       "    <tr>\n",
       "      <th>3</th>\n",
       "      <td>4485</td>\n",
       "      <td>ERBB2 A775_G776INS YVMA</td>\n",
       "      <td>protein</td>\n",
       "      <td>Missense Variant</td>\n",
       "      <td>not_normalized</td>\n",
       "      <td>False</td>\n",
       "      <td>Sequence Variants</td>\n",
       "    </tr>\n",
       "    <tr>\n",
       "      <th>4</th>\n",
       "      <td>248</td>\n",
       "      <td>TERT C228T</td>\n",
       "      <td>protein</td>\n",
       "      <td>Regulatory Region Variant</td>\n",
       "      <td>not_normalized</td>\n",
       "      <td>False</td>\n",
       "      <td>Region-Defined Variants</td>\n",
       "    </tr>\n",
       "    <tr>\n",
       "      <th>...</th>\n",
       "      <td>...</td>\n",
       "      <td>...</td>\n",
       "      <td>...</td>\n",
       "      <td>...</td>\n",
       "      <td>...</td>\n",
       "      <td>...</td>\n",
       "      <td>...</td>\n",
       "    </tr>\n",
       "    <tr>\n",
       "      <th>75</th>\n",
       "      <td>953</td>\n",
       "      <td>KIT Y553_K558DEL</td>\n",
       "      <td>protein</td>\n",
       "      <td>Inframe Deletion</td>\n",
       "      <td>not_normalized</td>\n",
       "      <td>False</td>\n",
       "      <td>Sequence Variants</td>\n",
       "    </tr>\n",
       "    <tr>\n",
       "      <th>76</th>\n",
       "      <td>1542</td>\n",
       "      <td>KIT Y553_W557DELYEVQW</td>\n",
       "      <td>protein</td>\n",
       "      <td>Inframe Deletion</td>\n",
       "      <td>not_normalized</td>\n",
       "      <td>False</td>\n",
       "      <td>Sequence Variants</td>\n",
       "    </tr>\n",
       "    <tr>\n",
       "      <th>77</th>\n",
       "      <td>1548</td>\n",
       "      <td>KIT Y570_L576DEL</td>\n",
       "      <td>protein</td>\n",
       "      <td>Inframe Deletion</td>\n",
       "      <td>not_normalized</td>\n",
       "      <td>False</td>\n",
       "      <td>Sequence Variants</td>\n",
       "    </tr>\n",
       "    <tr>\n",
       "      <th>78</th>\n",
       "      <td>1630</td>\n",
       "      <td>FLT3 Y591_V592INSVDFREYE</td>\n",
       "      <td>protein</td>\n",
       "      <td>Missense Variant</td>\n",
       "      <td>not_normalized</td>\n",
       "      <td>False</td>\n",
       "      <td>Sequence Variants</td>\n",
       "    </tr>\n",
       "    <tr>\n",
       "      <th>79</th>\n",
       "      <td>3724</td>\n",
       "      <td>AR Y763C</td>\n",
       "      <td>protein</td>\n",
       "      <td>Missense Variant</td>\n",
       "      <td>not_normalized</td>\n",
       "      <td>False</td>\n",
       "      <td>Sequence Variants</td>\n",
       "    </tr>\n",
       "  </tbody>\n",
       "</table>\n",
       "<p>80 rows × 7 columns</p>\n",
       "</div>"
      ],
      "text/plain": [
       "    variant_id                     query query_type  \\\n",
       "0          748                MLH1 *757L    protein   \n",
       "1         3718                  AR A748V    protein   \n",
       "2         3725                  AR A765T    protein   \n",
       "3         4485   ERBB2 A775_G776INS YVMA    protein   \n",
       "4          248                TERT C228T    protein   \n",
       "..         ...                       ...        ...   \n",
       "75         953          KIT Y553_K558DEL    protein   \n",
       "76        1542     KIT Y553_W557DELYEVQW    protein   \n",
       "77        1548          KIT Y570_L576DEL    protein   \n",
       "78        1630  FLT3 Y591_V592INSVDFREYE    protein   \n",
       "79        3724                  AR Y763C    protein   \n",
       "\n",
       "          civic_variant_types normalization_status  variant flag  \\\n",
       "0                   Stop Lost       not_normalized         False   \n",
       "1            Missense Variant       not_normalized         False   \n",
       "2            Missense Variant       not_normalized         False   \n",
       "3            Missense Variant       not_normalized         False   \n",
       "4   Regulatory Region Variant       not_normalized         False   \n",
       "..                        ...                  ...           ...   \n",
       "75           Inframe Deletion       not_normalized         False   \n",
       "76           Inframe Deletion       not_normalized         False   \n",
       "77           Inframe Deletion       not_normalized         False   \n",
       "78           Missense Variant       not_normalized         False   \n",
       "79           Missense Variant       not_normalized         False   \n",
       "\n",
       "                   category  \n",
       "0         Sequence Variants  \n",
       "1         Sequence Variants  \n",
       "2         Sequence Variants  \n",
       "3         Sequence Variants  \n",
       "4   Region-Defined Variants  \n",
       "..                      ...  \n",
       "75        Sequence Variants  \n",
       "76        Sequence Variants  \n",
       "77        Sequence Variants  \n",
       "78        Sequence Variants  \n",
       "79        Sequence Variants  \n",
       "\n",
       "[80 rows x 7 columns]"
      ]
     },
     "execution_count": 25,
     "metadata": {},
     "output_type": "execute_result"
    }
   ],
   "source": [
    "civic_not_normalized_df_cats = civic_supported_df[civic_supported_df[\"normalization_status\"] == \"not_normalized\"]\n",
    "civic_not_normalized_df_cats"
   ]
  },
  {
   "cell_type": "markdown",
   "metadata": {},
   "source": [
    "For each df, Get CIViC Variant counts by category and add to counts dictionary"
   ]
  },
  {
   "cell_type": "code",
   "execution_count": 26,
   "metadata": {},
   "outputs": [
    {
     "name": "stdout",
     "output_type": "stream",
     "text": [
      "Sequence Variants 1788\n",
      "Copy Number Variants 57\n",
      "Region-Defined Variants 28\n",
      "Fusion Variants 1\n",
      "Other Variants 1\n",
      "('Copy Number Variants', [57, 0, 0, 57])\n",
      "('Epigenetic Modification', [0, 0, 0, 0])\n",
      "('Expression Variants', [0, 0, 0, 0])\n",
      "('Fusion Variants', [1, 0, 0, 1])\n",
      "('Gene Function Variants', [0, 0, 0, 0])\n",
      "('Genotype Variants', [0, 0, 0, 0])\n",
      "('Other Variants', [1, 0, 0, 1])\n",
      "('Rearrangement Variants', [0, 0, 0, 0])\n",
      "('Region-Defined Variants', [28, 0, 0, 28])\n",
      "('Sequence Variants', [1788, 0, 0, 1788])\n"
     ]
    }
   ],
   "source": [
    "civic_normalized_category_counts = civic_normalized_df_cats[\"category\"].value_counts()\n",
    "civic_normalized_category_counts.head()\n",
    "for i in range(len(civic_normalized_category_counts)):\n",
    "    category = civic_normalized_category_counts.index[i]\n",
    "    count = civic_normalized_category_counts[i]\n",
    "    print(category, count)\n",
    "    category_counts[category][nomalized_count] += count\n",
    "    category_counts[category][total_count] += count\n",
    "\n",
    "for i in category_counts.items():\n",
    "    print(i)\n"
   ]
  },
  {
   "cell_type": "code",
   "execution_count": 27,
   "metadata": {},
   "outputs": [
    {
     "name": "stdout",
     "output_type": "stream",
     "text": [
      "Sequence Variants 77\n",
      "Region-Defined Variants 3\n",
      "('Copy Number Variants', [57, 0, 0, 57])\n",
      "('Epigenetic Modification', [0, 0, 0, 0])\n",
      "('Expression Variants', [0, 0, 0, 0])\n",
      "('Fusion Variants', [1, 0, 0, 1])\n",
      "('Gene Function Variants', [0, 0, 0, 0])\n",
      "('Genotype Variants', [0, 0, 0, 0])\n",
      "('Other Variants', [1, 0, 0, 1])\n",
      "('Rearrangement Variants', [0, 0, 0, 0])\n",
      "('Region-Defined Variants', [28, 3, 0, 31])\n",
      "('Sequence Variants', [1788, 77, 0, 1865])\n"
     ]
    }
   ],
   "source": [
    "civic_not_normalized_category_counts = civic_not_normalized_df_cats[\"category\"].value_counts()\n",
    "civic_not_normalized_category_counts.head()\n",
    "for i in range(len(civic_not_normalized_category_counts)):\n",
    "    category = civic_not_normalized_category_counts.index[i]\n",
    "    count = civic_not_normalized_category_counts[i]\n",
    "    print(category, count)\n",
    "    category_counts[category][unable_to_normalize_count] += count\n",
    "    category_counts[category][total_count] += count\n",
    "\n",
    "for i in category_counts.items():\n",
    "    print(i)"
   ]
  },
  {
   "cell_type": "markdown",
   "metadata": {},
   "source": [
    "Read in the csv for unsupported variants.  This data was already mapped to categories in civic_variant_analysis.  Therefore, we only need to import the data and perform the count on the category column."
   ]
  },
  {
   "cell_type": "code",
   "execution_count": 28,
   "metadata": {},
   "outputs": [
    {
     "name": "stdout",
     "output_type": "stream",
     "text": [
      "(1563, 6)\n"
     ]
    },
    {
     "data": {
      "text/html": [
       "<div>\n",
       "<style scoped>\n",
       "    .dataframe tbody tr th:only-of-type {\n",
       "        vertical-align: middle;\n",
       "    }\n",
       "\n",
       "    .dataframe tbody tr th {\n",
       "        vertical-align: top;\n",
       "    }\n",
       "\n",
       "    .dataframe thead th {\n",
       "        text-align: right;\n",
       "    }\n",
       "</style>\n",
       "<table border=\"1\" class=\"dataframe\">\n",
       "  <thead>\n",
       "    <tr style=\"text-align: right;\">\n",
       "      <th></th>\n",
       "      <th>variant_id</th>\n",
       "      <th>gene_name</th>\n",
       "      <th>variant_name</th>\n",
       "      <th>civic_variant_types</th>\n",
       "      <th>category</th>\n",
       "      <th>variant_accepted</th>\n",
       "    </tr>\n",
       "  </thead>\n",
       "  <tbody>\n",
       "    <tr>\n",
       "      <th>0</th>\n",
       "      <td>4170</td>\n",
       "      <td>VHL</td>\n",
       "      <td>NaN</td>\n",
       "      <td>Not provided</td>\n",
       "      <td>Transcript Variants</td>\n",
       "      <td>False</td>\n",
       "    </tr>\n",
       "    <tr>\n",
       "      <th>1</th>\n",
       "      <td>4417</td>\n",
       "      <td>ALK</td>\n",
       "      <td>FBXO11::ALK</td>\n",
       "      <td>Not provided</td>\n",
       "      <td>Fusion Variants</td>\n",
       "      <td>False</td>\n",
       "    </tr>\n",
       "    <tr>\n",
       "      <th>2</th>\n",
       "      <td>4214</td>\n",
       "      <td>VHL</td>\n",
       "      <td>NaN</td>\n",
       "      <td>Not provided</td>\n",
       "      <td>Transcript Variants</td>\n",
       "      <td>False</td>\n",
       "    </tr>\n",
       "    <tr>\n",
       "      <th>3</th>\n",
       "      <td>4216</td>\n",
       "      <td>VHL</td>\n",
       "      <td>NaN</td>\n",
       "      <td>Not provided</td>\n",
       "      <td>Transcript Variants</td>\n",
       "      <td>False</td>\n",
       "    </tr>\n",
       "    <tr>\n",
       "      <th>4</th>\n",
       "      <td>4278</td>\n",
       "      <td>VHL</td>\n",
       "      <td>NaN</td>\n",
       "      <td>Not provided</td>\n",
       "      <td>Transcript Variants</td>\n",
       "      <td>False</td>\n",
       "    </tr>\n",
       "  </tbody>\n",
       "</table>\n",
       "</div>"
      ],
      "text/plain": [
       "   variant_id gene_name  variant_name civic_variant_types  \\\n",
       "0        4170       VHL           NaN        Not provided   \n",
       "1        4417       ALK   FBXO11::ALK        Not provided   \n",
       "2        4214       VHL           NaN        Not provided   \n",
       "3        4216       VHL           NaN        Not provided   \n",
       "4        4278       VHL           NaN        Not provided   \n",
       "\n",
       "              category  variant_accepted  \n",
       "0  Transcript Variants             False  \n",
       "1      Fusion Variants             False  \n",
       "2  Transcript Variants             False  \n",
       "3  Transcript Variants             False  \n",
       "4  Transcript Variants             False  "
      ]
     },
     "execution_count": 28,
     "metadata": {},
     "output_type": "execute_result"
    }
   ],
   "source": [
    "not_supported_variants = pd.read_csv(\"../civic/variation_analysis/not_supported_variants.csv\",sep = \"\\t\")\n",
    "print(not_supported_variants.shape)\n",
    "not_supported_variants.head()"
   ]
  },
  {
   "cell_type": "markdown",
   "metadata": {},
   "source": [
    "Checking Counts."
   ]
  },
  {
   "cell_type": "code",
   "execution_count": 29,
   "metadata": {},
   "outputs": [
    {
     "data": {
      "text/plain": [
       "category\n",
       "Transcript Variants        366\n",
       "Fusion Variants            294\n",
       "Expression Variants        287\n",
       "Sequence Variants          133\n",
       "Region Defined Variants    129\n",
       "Rearrangement Variants     116\n",
       "Gene Function Variants      91\n",
       "Other Variants              83\n",
       "Copy Number Variants        34\n",
       "Genotype Variants           16\n",
       "Epigenetic Modification     14\n",
       "Name: count, dtype: int64"
      ]
     },
     "execution_count": 29,
     "metadata": {},
     "output_type": "execute_result"
    }
   ],
   "source": [
    "not_supported_variants[\"category\"].value_counts()"
   ]
  },
  {
   "cell_type": "markdown",
   "metadata": {},
   "source": [
    "There are two small discrepencies here. First, there is a hyphen missing from \"Region-Defined Variants\" which will cause a key error.  Second, the variants labelled as \"Transcript Variants\" here should be binned under \"Other Variants\".  Fixing that now."
   ]
  },
  {
   "cell_type": "code",
   "execution_count": 30,
   "metadata": {},
   "outputs": [],
   "source": [
    "not_supported_variants[\"category\"].replace(\"Region Defined Variants\", \"Region-Defined Variants\", inplace=True)\n",
    "not_supported_variants[\"category\"].replace(\"Transcript Variants\", \"Other Variants\", inplace=True)"
   ]
  },
  {
   "cell_type": "code",
   "execution_count": 31,
   "metadata": {},
   "outputs": [
    {
     "name": "stdout",
     "output_type": "stream",
     "text": [
      "Other Variants 449\n",
      "Fusion Variants 294\n",
      "Expression Variants 287\n",
      "Sequence Variants 133\n",
      "Region-Defined Variants 129\n",
      "Rearrangement Variants 116\n",
      "Gene Function Variants 91\n",
      "Copy Number Variants 34\n",
      "Genotype Variants 16\n",
      "Epigenetic Modification 14\n",
      "('Copy Number Variants', [57, 0, 34, 91])\n",
      "('Epigenetic Modification', [0, 0, 14, 14])\n",
      "('Expression Variants', [0, 0, 287, 287])\n",
      "('Fusion Variants', [1, 0, 294, 295])\n",
      "('Gene Function Variants', [0, 0, 91, 91])\n",
      "('Genotype Variants', [0, 0, 16, 16])\n",
      "('Other Variants', [1, 0, 449, 450])\n",
      "('Rearrangement Variants', [0, 0, 116, 116])\n",
      "('Region-Defined Variants', [28, 3, 129, 160])\n",
      "('Sequence Variants', [1788, 77, 133, 1998])\n"
     ]
    }
   ],
   "source": [
    "not_supported_variants_category_counts = not_supported_variants[\"category\"].value_counts()\n",
    "not_supported_variants_category_counts.head()\n",
    "for i in range(len(not_supported_variants_category_counts)):\n",
    "    category = not_supported_variants_category_counts.index[i]\n",
    "    count = not_supported_variants_category_counts[i]\n",
    "    print(category, count)\n",
    "    category_counts[category][unsupported_count] += count\n",
    "    category_counts[category][total_count] += count\n",
    "\n",
    "for i in category_counts.items():\n",
    "    print(i)"
   ]
  },
  {
   "cell_type": "markdown",
   "metadata": {},
   "source": [
    "## MOA\n",
    "\n",
    "Read MOA .csv file for Normalized variants"
   ]
  },
  {
   "cell_type": "code",
   "execution_count": 32,
   "metadata": {},
   "outputs": [
    {
     "name": "stdout",
     "output_type": "stream",
     "text": [
      "(181, 5)\n"
     ]
    },
    {
     "data": {
      "text/plain": [
       "pandas.core.frame.DataFrame"
      ]
     },
     "execution_count": 32,
     "metadata": {},
     "output_type": "execute_result"
    }
   ],
   "source": [
    "moa_normalized_df = pd.read_csv(\"../moa/feature_analysis/able_to_normalize_queries.csv\",sep = \"\\t\")\n",
    "print(moa_normalized_df.shape)\n",
    "moa_normalized_df.head()\n",
    "type(moa_normalized_df)"
   ]
  },
  {
   "cell_type": "markdown",
   "metadata": {},
   "source": [
    "Get variant counts by category, update variant counts df "
   ]
  },
  {
   "cell_type": "code",
   "execution_count": 33,
   "metadata": {},
   "outputs": [
    {
     "name": "stdout",
     "output_type": "stream",
     "text": [
      "Sequence Variants 149\n",
      "Copy Number Variants 32\n",
      "('Copy Number Variants', [89, 0, 34, 123])\n",
      "('Epigenetic Modification', [0, 0, 14, 14])\n",
      "('Expression Variants', [0, 0, 287, 287])\n",
      "('Fusion Variants', [1, 0, 294, 295])\n",
      "('Gene Function Variants', [0, 0, 91, 91])\n",
      "('Genotype Variants', [0, 0, 16, 16])\n",
      "('Other Variants', [1, 0, 449, 450])\n",
      "('Rearrangement Variants', [0, 0, 116, 116])\n",
      "('Region-Defined Variants', [28, 3, 129, 160])\n",
      "('Sequence Variants', [1937, 77, 133, 2147])\n"
     ]
    }
   ],
   "source": [
    "moa_normalized_category_counts = moa_normalized_df[\"category\"].value_counts(dropna=False)\n",
    "moa_normalized_category_counts.head()\n",
    "indeces = moa_normalized_category_counts.index\n",
    "for i in range(len(moa_normalized_category_counts)):\n",
    "    variant = moa_normalized_category_counts.index[i]\n",
    "    count = moa_normalized_category_counts[i]\n",
    "    print(variant, count)\n",
    "    target_category = moa_category_bins[variant]\n",
    "    # print(target_category)\n",
    "    category_counts[target_category][nomalized_count] += count\n",
    "    category_counts[target_category][total_count] += count\n",
    "\n",
    "for i in category_counts.items():\n",
    "    print(i)\n"
   ]
  },
  {
   "cell_type": "markdown",
   "metadata": {},
   "source": [
    "Repeat same process for variants that were supported but failed to normalize."
   ]
  },
  {
   "cell_type": "code",
   "execution_count": 34,
   "metadata": {},
   "outputs": [
    {
     "name": "stdout",
     "output_type": "stream",
     "text": [
      "(0, 7)\n"
     ]
    },
    {
     "data": {
      "text/plain": [
       "pandas.core.frame.DataFrame"
      ]
     },
     "execution_count": 34,
     "metadata": {},
     "output_type": "execute_result"
    }
   ],
   "source": [
    "moa_not_normalized_df = pd.read_csv(\"../moa/feature_analysis/unable_to_normalize_queries.csv\",sep = \"\\t\")\n",
    "print(moa_not_normalized_df.shape)\n",
    "moa_not_normalized_df.head()\n",
    "type(moa_not_normalized_df)"
   ]
  },
  {
   "cell_type": "code",
   "execution_count": 35,
   "metadata": {},
   "outputs": [
    {
     "name": "stdout",
     "output_type": "stream",
     "text": [
      "('Copy Number Variants', [89, 0, 34, 123])\n",
      "('Epigenetic Modification', [0, 0, 14, 14])\n",
      "('Expression Variants', [0, 0, 287, 287])\n",
      "('Fusion Variants', [1, 0, 294, 295])\n",
      "('Gene Function Variants', [0, 0, 91, 91])\n",
      "('Genotype Variants', [0, 0, 16, 16])\n",
      "('Other Variants', [1, 0, 449, 450])\n",
      "('Rearrangement Variants', [0, 0, 116, 116])\n",
      "('Region-Defined Variants', [28, 3, 129, 160])\n",
      "('Sequence Variants', [1937, 77, 133, 2147])\n"
     ]
    }
   ],
   "source": [
    "moa__not_normalized_category_counts = moa_not_normalized_df[\"category\"].value_counts(dropna=False)\n",
    "moa__not_normalized_category_counts.head()\n",
    "indeces = moa__not_normalized_category_counts.index\n",
    "for i in range(len(moa__not_normalized_category_counts)):\n",
    "    variant = moa__not_normalized_category_counts.index[i]\n",
    "    count = moa__not_normalized_category_counts[i]\n",
    "    print(variant, count)\n",
    "    target_category = moa_category_bins[variant]\n",
    "    # print(target_category)\n",
    "    category_counts[target_category][unable_to_normalize_count] += count\n",
    "    category_counts[target_category][total_count] += count\n",
    "\n",
    "for i in category_counts.items():\n",
    "    print(i)\n"
   ]
  },
  {
   "cell_type": "markdown",
   "metadata": {},
   "source": [
    "Repeat same process for variants that are unsupported."
   ]
  },
  {
   "cell_type": "code",
   "execution_count": 36,
   "metadata": {},
   "outputs": [
    {
     "name": "stdout",
     "output_type": "stream",
     "text": [
      "(249, 4)\n",
      "   variant_id                        query moa_feature_type  \\\n",
      "0           1             BCR--ABL1 Fusion    rearrangement   \n",
      "1          12                   ALK Fusion    rearrangement   \n",
      "2          15                          ALK    rearrangement   \n",
      "3          18            ALK Translocation    rearrangement   \n",
      "4          21  BRD4 t(15;19) Translocation    rearrangement   \n",
      "\n",
      "                 category  \n",
      "0  Rearrangement Variants  \n",
      "1  Rearrangement Variants  \n",
      "2  Rearrangement Variants  \n",
      "3  Rearrangement Variants  \n",
      "4  Rearrangement Variants  \n",
      "category\n",
      "Sequence Variants         181\n",
      "Rearrangement Variants     35\n",
      "Copy Number Variants       17\n",
      "Expression Variants        11\n",
      "Other Variants              5\n",
      "Name: count, dtype: int64\n"
     ]
    }
   ],
   "source": [
    "moa_not_supported_df = pd.read_csv(\"../moa/feature_analysis/not_supported_variants.csv\",sep = \"\\t\")\n",
    "print(moa_not_supported_df.shape)\n",
    "print(moa_not_supported_df.head())\n",
    "type(moa_not_supported_df)\n",
    "print(moa_not_supported_df[\"category\"].value_counts(dropna=False))"
   ]
  },
  {
   "cell_type": "code",
   "execution_count": 37,
   "metadata": {},
   "outputs": [
    {
     "data": {
      "text/plain": [
       "<bound method NDFrame.head of      variant_id                      query          moa_feature_type  \\\n",
       "210         781                   MSI-High  microsatellite_stability   \n",
       "216         803                       High         mutational_burden   \n",
       "217         805    High (>= 178 mutations)         mutational_burden   \n",
       "218         806    High (>= 100 mutations)         mutational_burden   \n",
       "219         808  High (>= 10 mutations/Mb)         mutational_burden   \n",
       "\n",
       "           category  \n",
       "210  Other Variants  \n",
       "216  Other Variants  \n",
       "217  Other Variants  \n",
       "218  Other Variants  \n",
       "219  Other Variants  >"
      ]
     },
     "execution_count": 37,
     "metadata": {},
     "output_type": "execute_result"
    }
   ],
   "source": [
    "othervars = moa_not_supported_df[moa_not_supported_df[\"category\"] == \"Other Variants\"]\n",
    "# print(othervars.head())\n",
    "type(othervars)\n",
    "othervars.head"
   ]
  },
  {
   "cell_type": "code",
   "execution_count": 38,
   "metadata": {},
   "outputs": [
    {
     "name": "stdout",
     "output_type": "stream",
     "text": [
      "Sequence Variants 181\n",
      "Rearrangement Variants 35\n",
      "Copy Number Variants 17\n",
      "Expression Variants 11\n",
      "Other Variants 5\n",
      "('Copy Number Variants', [89, 0, 51, 140])\n",
      "('Epigenetic Modification', [0, 0, 14, 14])\n",
      "('Expression Variants', [0, 0, 298, 298])\n",
      "('Fusion Variants', [1, 0, 294, 295])\n",
      "('Gene Function Variants', [0, 0, 91, 91])\n",
      "('Genotype Variants', [0, 0, 16, 16])\n",
      "('Other Variants', [1, 0, 454, 455])\n",
      "('Rearrangement Variants', [0, 0, 151, 151])\n",
      "('Region-Defined Variants', [28, 3, 129, 160])\n",
      "('Sequence Variants', [1937, 77, 314, 2328])\n"
     ]
    }
   ],
   "source": [
    "moa__not_supported_category_counts = moa_not_supported_df[\"category\"].value_counts(dropna=False)\n",
    "moa__not_supported_category_counts.head()\n",
    "indeces = moa__not_supported_category_counts.index\n",
    "for i in range(len(moa__not_supported_category_counts)):\n",
    "    variant = moa__not_supported_category_counts.index[i]\n",
    "    count = moa__not_supported_category_counts[i]\n",
    "    print(variant, count)\n",
    "    target_category = moa_category_bins[variant]\n",
    "    # print(target_category)\n",
    "    category_counts[target_category][unsupported_count] += count\n",
    "    category_counts[target_category][total_count] += count\n",
    "\n",
    "for i in category_counts.items():\n",
    "    print(i)\n"
   ]
  },
  {
   "cell_type": "markdown",
   "metadata": {},
   "source": [
    "## ClinVar\n",
    "\n",
    "Get df from ClinVar Analysis"
   ]
  },
  {
   "cell_type": "markdown",
   "metadata": {},
   "source": [
    "Get Clinvar Variant counts by category, update variant counts df "
   ]
  },
  {
   "cell_type": "markdown",
   "metadata": {},
   "source": [
    "Output counts df"
   ]
  },
  {
   "cell_type": "markdown",
   "metadata": {},
   "source": [
    "Generate figure(?)"
   ]
  }
 ],
 "metadata": {
  "kernelspec": {
   "display_name": "Python 3",
   "language": "python",
   "name": "python3"
  },
  "language_info": {
   "codemirror_mode": {
    "name": "ipython",
    "version": 3
   },
   "file_extension": ".py",
   "mimetype": "text/x-python",
   "name": "python",
   "nbconvert_exporter": "python",
   "pygments_lexer": "ipython3",
   "version": "3.11.4"
  },
  "orig_nbformat": 4
 },
 "nbformat": 4,
 "nbformat_minor": 2
}
