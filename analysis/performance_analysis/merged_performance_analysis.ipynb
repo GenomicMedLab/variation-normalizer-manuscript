{
 "cells": [
  {
   "cell_type": "markdown",
   "metadata": {},
   "source": [
    "**Table of contents**<a id='toc0_'></a>    \n",
    "- [Normalizer Performance Analysis](#toc1_)    \n",
    "  - [Import relevant packages](#toc1_1_)    \n",
    "  - [Dictionaries to map variants to categories and record category counts](#toc1_2_)    \n",
    "  - [CIViC](#toc1_3_)    \n",
    "  - [MOA](#toc1_4_)    \n",
    "  - [ClinVar](#toc1_5_)    \n",
    "  - [Computing Coverage](#toc1_6_)    \n",
    "  - [Generating Table](#toc1_7_)    \n",
    "\n",
    "<!-- vscode-jupyter-toc-config\n",
    "\tnumbering=false\n",
    "\tanchor=true\n",
    "\tflat=false\n",
    "\tminLevel=1\n",
    "\tmaxLevel=6\n",
    "\t/vscode-jupyter-toc-config -->\n",
    "<!-- THIS CELL WILL BE REPLACED ON TOC UPDATE. DO NOT WRITE YOUR TEXT IN THIS CELL -->"
   ]
  },
  {
   "cell_type": "markdown",
   "metadata": {},
   "source": [
    "# <a id='toc1_'></a>[Normalizer Performance Analysis](#toc0_)\n",
    "\n",
    "This notebook contains an analysis of the normalizer performance on the CIViC, MOA, and Clinvar data"
   ]
  },
  {
   "cell_type": "markdown",
   "metadata": {},
   "source": [
    "## <a id='toc1_1_'></a>[Import relevant packages](#toc0_)"
   ]
  },
  {
   "cell_type": "code",
   "execution_count": 1,
   "metadata": {},
   "outputs": [],
   "source": [
    "import os\n",
    "import json\n",
    "import re\n",
    "import sys\n",
    "from enum import IntEnum\n",
    "\n",
    "import numpy as np\n",
    "import pandas as pd\n",
    "import plotly.graph_objects as go\n",
    "\n",
    "module_path = os.path.abspath(os.path.join(\"..\"))\n",
    "if module_path not in sys.path:\n",
    "    sys.path.append(module_path)\n",
    "\n"
   ]
  },
  {
   "cell_type": "code",
   "execution_count": 2,
   "metadata": {},
   "outputs": [
    {
     "data": {
      "text/plain": [
       "['Sequence',\n",
       " 'Genotype/Haplotype',\n",
       " 'Fusion',\n",
       " 'Rearrangement',\n",
       " 'Epigenetic Modification',\n",
       " 'Copy Number',\n",
       " 'Expression',\n",
       " 'Gene Function',\n",
       " 'Region-Defined',\n",
       " 'Genome Feature',\n",
       " 'Other']"
      ]
     },
     "execution_count": 2,
     "metadata": {},
     "output_type": "execute_result"
    }
   ],
   "source": [
    "# Import NOT_SUPPORTED_VARIANT_CATEGORY_VALUES from utils.py and remove TRANSCRIPT_VAR\n",
    "from utils import NotSupportedVariantCategory, NOT_SUPPORTED_VARIANT_CATEGORY_VALUES  # noqa: E402\n",
    "NOT_SUPPORTED_VARIANT_CATEGORY_VALUES = NOT_SUPPORTED_VARIANT_CATEGORY_VALUES[:-1]\n",
    "NOT_SUPPORTED_VARIANT_CATEGORY_VALUES"
   ]
  },
  {
   "cell_type": "markdown",
   "metadata": {},
   "source": [
    "## <a id='toc1_2_'></a>[Dictionaries to map variants to categories and record category counts](#toc0_)"
   ]
  },
  {
   "cell_type": "markdown",
   "metadata": {},
   "source": [
    "Bin variants to categories.\n",
    "\n",
    "For variants with multiple associated types:  If the 2+ types have a subset relationship (eg frameshift; frameshift truncation), they are assigned to categories consistent with the superset type (frameshift).  If the types are disjoint (eg: Transcript Variant; Loss of Function Variant), they are assigned with the category most closely associated with the assayed data (Transcript Variant).  This assignment is done in the CIVIC_CATEGORY_BINS dictionary."
   ]
  },
  {
   "cell_type": "code",
   "execution_count": 3,
   "metadata": {},
   "outputs": [],
   "source": [
    "CIVIC_CATEGORY_BINS = {\n",
    "    \"Delins\": NotSupportedVariantCategory.SEQUENCE,\n",
    "    \"Direct Tandem Duplication\": NotSupportedVariantCategory.SEQUENCE,\n",
    "    \"Disruptive Inframe Deletion\": NotSupportedVariantCategory.SEQUENCE,\n",
    "    \"Disruptive Inframe Insertion\": NotSupportedVariantCategory.SEQUENCE,\n",
    "    \"Coding Sequence Variant\": NotSupportedVariantCategory.SEQUENCE,\n",
    "    \"Conservative Inframe Deletion\": NotSupportedVariantCategory.SEQUENCE,\n",
    "    \"Copy Number Variants\": NotSupportedVariantCategory.COPY_NUMBER,\n",
    "    \"Frameshift\": NotSupportedVariantCategory.SEQUENCE,\n",
    "    \"Frameshift Truncation\": NotSupportedVariantCategory.SEQUENCE,\n",
    "    \"Frameshift Variant\": NotSupportedVariantCategory.SEQUENCE,\n",
    "    \"Frameshift Variant;Minus 1 Frameshift Variant\": NotSupportedVariantCategory.SEQUENCE,\n",
    "    \"Inframe Deletion\": NotSupportedVariantCategory.SEQUENCE,\n",
    "    \"Inframe Indel\": NotSupportedVariantCategory.SEQUENCE,\n",
    "    \"Inframe Insertion\": NotSupportedVariantCategory.SEQUENCE,\n",
    "    \"Intron Variant\": NotSupportedVariantCategory.REGION_DEFINED,\n",
    "    \"Minus 1 Frameshift Variant\": NotSupportedVariantCategory.SEQUENCE,\n",
    "    \"Minus 2 Frameshift Variant\": NotSupportedVariantCategory.SEQUENCE,\n",
    "    \"Missense Variant\": NotSupportedVariantCategory.SEQUENCE,\n",
    "    \"Non Conservative Missense Variant\": NotSupportedVariantCategory.SEQUENCE,\n",
    "    \"Plus 1 Frameshift Variant\": NotSupportedVariantCategory.SEQUENCE,\n",
    "    \"Region-Defined Variant\": NotSupportedVariantCategory.REGION_DEFINED,\n",
    "    \"Regulatory Region Variant\": NotSupportedVariantCategory.REGION_DEFINED,\n",
    "    \"Sequence Variants\": NotSupportedVariantCategory.SEQUENCE,\n",
    "    \"Splice Acceptor Variant\": NotSupportedVariantCategory.REGION_DEFINED,\n",
    "    \"Splice Donor Region Variant\": NotSupportedVariantCategory.REGION_DEFINED,\n",
    "    \"Splice Donor Variant\": NotSupportedVariantCategory.REGION_DEFINED,\n",
    "    \"Splicing Variant\": NotSupportedVariantCategory.OTHER,\n",
    "    \"Start Lost\": NotSupportedVariantCategory.SEQUENCE,\n",
    "    \"Stop Gained\": NotSupportedVariantCategory.SEQUENCE,\n",
    "    \"Stop Lost\": NotSupportedVariantCategory.SEQUENCE,\n",
    "    \"Synonymous Variant\": NotSupportedVariantCategory.SEQUENCE,\n",
    "    \"Transcript Amplification\": NotSupportedVariantCategory.COPY_NUMBER,\n",
    "    \"Transcript Fusion\": NotSupportedVariantCategory.FUSION,\n",
    "    \"3 Prime UTR Variant\": NotSupportedVariantCategory.REGION_DEFINED,\n",
    "    \"Amino Acid Deletion;Inframe Deletion\": NotSupportedVariantCategory.SEQUENCE,\n",
    "    \"Frameshift Truncation;Minus 2 Frameshift Variant\": NotSupportedVariantCategory.SEQUENCE,\n",
    "    \"Frameshift Truncation;Plus 2 Frameshift Variant\": NotSupportedVariantCategory.SEQUENCE,\n",
    "    \"Frameshift Variant;Delins\": NotSupportedVariantCategory.SEQUENCE,\n",
    "    \"Inframe Insertion;Delins\": NotSupportedVariantCategory.SEQUENCE,\n",
    "    \"Inframe Insertion;Inframe Deletion;Delins\": NotSupportedVariantCategory.SEQUENCE,\n",
    "    \"Inframe Variant;Inframe Insertion;Inframe Deletion;Delins \": NotSupportedVariantCategory.SEQUENCE,\n",
    "    \"Minus 1 Frameshift Variant;Frameshift Truncation\": NotSupportedVariantCategory.SEQUENCE,\n",
    "    \"Plus 1 Frameshift Variant;Frameshift Elongation\": NotSupportedVariantCategory.SEQUENCE,\n",
    "    \"Plus 1 Frameshift Variant;Frameshift Truncation\": NotSupportedVariantCategory.SEQUENCE,\n",
    "    \"Missense Variant;Gain Of Function Variant\": NotSupportedVariantCategory.SEQUENCE,\n",
    "    \"Missense Variant;Loss Of Function Variant\": NotSupportedVariantCategory.SEQUENCE,\n",
    "    \"Missense Variant;Loss Of Heterozygosity\": NotSupportedVariantCategory.SEQUENCE,\n",
    "    \"Missense Variant;Polymorphic Sequence Variant\": NotSupportedVariantCategory.SEQUENCE,\n",
    "    \"Missense Variant;Snp\": NotSupportedVariantCategory.SEQUENCE,\n",
    "    \"Missense Variant;Transcript Fusion\": NotSupportedVariantCategory.SEQUENCE,\n",
    "    \"Stop Gained;Loss Of Function Variant\": NotSupportedVariantCategory.SEQUENCE,\n",
    "    \"Stop Lost;Inframe Deletion\": NotSupportedVariantCategory.SEQUENCE,\n",
    "}\n",
    "\n",
    "CLINVAR_CATEGORY_BINS = {\n",
    "    \"Complex\": NotSupportedVariantCategory.OTHER,\n",
    "    \"CompoundHeterozygote\": NotSupportedVariantCategory.GENOTYPE_AND_HAPLOTYPE,\n",
    "    \"Deletion\": NotSupportedVariantCategory.SEQUENCE,\n",
    "    \"Diplotype\": NotSupportedVariantCategory.GENOTYPE_AND_HAPLOTYPE,\n",
    "    \"Distinct chromosomes\": NotSupportedVariantCategory.REARRANGEMENT,\n",
    "    \"Duplication\": NotSupportedVariantCategory.SEQUENCE,\n",
    "    \"Haplotype\": NotSupportedVariantCategory.SEQUENCE,\n",
    "    \"Haplotype, single variant\": NotSupportedVariantCategory.SEQUENCE,\n",
    "    \"Indel\": NotSupportedVariantCategory.SEQUENCE,\n",
    "    \"Insertion\": NotSupportedVariantCategory.SEQUENCE,\n",
    "    \"Inversion\": NotSupportedVariantCategory.SEQUENCE,\n",
    "    \"Microsatellite\": NotSupportedVariantCategory.SEQUENCE,\n",
    "    \"Phase unknown\": NotSupportedVariantCategory.OTHER,\n",
    "    \"Tandem duplication\": NotSupportedVariantCategory.SEQUENCE,\n",
    "    \"Translocation\": NotSupportedVariantCategory.REARRANGEMENT,\n",
    "    \"Variation\": NotSupportedVariantCategory.OTHER,\n",
    "    \"copy number gain\": NotSupportedVariantCategory.COPY_NUMBER,\n",
    "    \"copy number loss\": NotSupportedVariantCategory.COPY_NUMBER,\n",
    "    \"fusion\": NotSupportedVariantCategory.FUSION,\n",
    "    \"protein only\": NotSupportedVariantCategory.SEQUENCE,\n",
    "    \"single nucleotide variant\": NotSupportedVariantCategory.SEQUENCE,\n",
    "}"
   ]
  },
  {
   "cell_type": "markdown",
   "metadata": {},
   "source": [
    "These variables flag the fields in the dictionary item values below.  In category_counts, each entry is a list of integer values, representing, in order, the number of tokens normalized of that variant, the number ostensibly supported but unable to be normalized, the number of tokens that are not supported, and the total number of tokens."
   ]
  },
  {
   "cell_type": "code",
   "execution_count": 4,
   "metadata": {},
   "outputs": [],
   "source": [
    "class Fields(IntEnum):\n",
    "    \"\"\"Create IntEnum for count fields in the category_counts dict.\"\"\"\n",
    "\n",
    "    NORMALIZED_COUNT = 0\n",
    "    UNABLE_TO_NORMALIZE_COUNT = 1\n",
    "    UNSUPPORTED_COUNT = 2\n",
    "    TOTAL_COUNT = 3\n",
    "    PERCENT_NORMALIZED = 4"
   ]
  },
  {
   "cell_type": "code",
   "execution_count": 5,
   "metadata": {},
   "outputs": [],
   "source": [
    "category_counts = {v: [0, 0, 0, 0, 0.0] for v in NOT_SUPPORTED_VARIANT_CATEGORY_VALUES}"
   ]
  },
  {
   "cell_type": "markdown",
   "metadata": {},
   "source": [
    "## <a id='toc1_3_'></a>[CIViC](#toc0_)\n",
    "\n"
   ]
  },
  {
   "cell_type": "markdown",
   "metadata": {},
   "source": [
    "In order to score the normalizer's performance on the CIViC data, some cleaning is required.\n",
    "\n",
    "First we need to read in the data that was ostensibly supported, get rid of variants with multiple type labels, and assign variant types to as  many of the entries as possible that have a \"Not provided\" value for civic_variant_types."
   ]
  },
  {
   "cell_type": "markdown",
   "metadata": {},
   "source": [
    "Read in .csv of normalized variants in CIVIC"
   ]
  },
  {
   "cell_type": "code",
   "execution_count": 6,
   "metadata": {},
   "outputs": [
    {
     "data": {
      "text/html": [
       "<div>\n",
       "<style scoped>\n",
       "    .dataframe tbody tr th:only-of-type {\n",
       "        vertical-align: middle;\n",
       "    }\n",
       "\n",
       "    .dataframe tbody tr th {\n",
       "        vertical-align: top;\n",
       "    }\n",
       "\n",
       "    .dataframe thead th {\n",
       "        text-align: right;\n",
       "    }\n",
       "</style>\n",
       "<table border=\"1\" class=\"dataframe\">\n",
       "  <thead>\n",
       "    <tr style=\"text-align: right;\">\n",
       "      <th></th>\n",
       "      <th>variant_id</th>\n",
       "      <th>query</th>\n",
       "      <th>query_type</th>\n",
       "      <th>variant_accepted</th>\n",
       "      <th>civic_variant_types</th>\n",
       "      <th>vrs_id</th>\n",
       "      <th>succeeded_endpoint</th>\n",
       "    </tr>\n",
       "  </thead>\n",
       "  <tbody>\n",
       "    <tr>\n",
       "      <th>0</th>\n",
       "      <td>2489</td>\n",
       "      <td>NC_000003.11:g.10191648_10191649insC</td>\n",
       "      <td>genomic</td>\n",
       "      <td>True</td>\n",
       "      <td>Stop Lost</td>\n",
       "      <td>ga4gh:VA.bq-oeQxlHsivQjLeBx2iIDHE6byLoIYf</td>\n",
       "      <td>normalize</td>\n",
       "    </tr>\n",
       "    <tr>\n",
       "      <th>1</th>\n",
       "      <td>1988</td>\n",
       "      <td>NC_000003.11:g.10191649A&gt;T</td>\n",
       "      <td>genomic</td>\n",
       "      <td>True</td>\n",
       "      <td>Stop Lost</td>\n",
       "      <td>ga4gh:VA.F28e9gdIz4RKTwb8Vch32ewM9byNWd7s</td>\n",
       "      <td>normalize</td>\n",
       "    </tr>\n",
       "    <tr>\n",
       "      <th>2</th>\n",
       "      <td>2488</td>\n",
       "      <td>3-10191647-T-G</td>\n",
       "      <td>genomic</td>\n",
       "      <td>True</td>\n",
       "      <td>Stop Lost</td>\n",
       "      <td>ga4gh:VA.locY4ll_kFLsvWR3-6n4zSCbY2WeBC4H</td>\n",
       "      <td>normalize</td>\n",
       "    </tr>\n",
       "    <tr>\n",
       "      <th>3</th>\n",
       "      <td>1986</td>\n",
       "      <td>NC_000003.11:g.10191648G&gt;T</td>\n",
       "      <td>genomic</td>\n",
       "      <td>True</td>\n",
       "      <td>Stop Lost</td>\n",
       "      <td>ga4gh:VA.Mikw3IoUZ58l_zejQQOT0D0inT2Cvxpr</td>\n",
       "      <td>normalize</td>\n",
       "    </tr>\n",
       "    <tr>\n",
       "      <th>4</th>\n",
       "      <td>1987</td>\n",
       "      <td>NC_000003.11:g.10191649A&gt;G</td>\n",
       "      <td>genomic</td>\n",
       "      <td>True</td>\n",
       "      <td>Stop Lost</td>\n",
       "      <td>ga4gh:VA.GkISlkjkoX6ts9HHLAzsjDvbCU0d6KyH</td>\n",
       "      <td>normalize</td>\n",
       "    </tr>\n",
       "  </tbody>\n",
       "</table>\n",
       "</div>"
      ],
      "text/plain": [
       "   variant_id                                 query query_type  \\\n",
       "0        2489  NC_000003.11:g.10191648_10191649insC    genomic   \n",
       "1        1988            NC_000003.11:g.10191649A>T    genomic   \n",
       "2        2488                        3-10191647-T-G    genomic   \n",
       "3        1986            NC_000003.11:g.10191648G>T    genomic   \n",
       "4        1987            NC_000003.11:g.10191649A>G    genomic   \n",
       "\n",
       "   variant_accepted civic_variant_types  \\\n",
       "0              True           Stop Lost   \n",
       "1              True           Stop Lost   \n",
       "2              True           Stop Lost   \n",
       "3              True           Stop Lost   \n",
       "4              True           Stop Lost   \n",
       "\n",
       "                                      vrs_id succeeded_endpoint  \n",
       "0  ga4gh:VA.bq-oeQxlHsivQjLeBx2iIDHE6byLoIYf          normalize  \n",
       "1  ga4gh:VA.F28e9gdIz4RKTwb8Vch32ewM9byNWd7s          normalize  \n",
       "2  ga4gh:VA.locY4ll_kFLsvWR3-6n4zSCbY2WeBC4H          normalize  \n",
       "3  ga4gh:VA.Mikw3IoUZ58l_zejQQOT0D0inT2Cvxpr          normalize  \n",
       "4  ga4gh:VA.GkISlkjkoX6ts9HHLAzsjDvbCU0d6KyH          normalize  "
      ]
     },
     "execution_count": 6,
     "metadata": {},
     "output_type": "execute_result"
    }
   ],
   "source": [
    "civic_normalized_df = pd.read_csv(\n",
    "    \"../civic/variation_analysis/able_to_normalize_queries.tsv\", sep=\"\\t\"\n",
    ")\n",
    "civic_normalized_df.head()"
   ]
  },
  {
   "cell_type": "markdown",
   "metadata": {},
   "source": [
    "Prune columns and add new column to flag as normalized."
   ]
  },
  {
   "cell_type": "code",
   "execution_count": 7,
   "metadata": {},
   "outputs": [
    {
     "data": {
      "text/html": [
       "<div>\n",
       "<style scoped>\n",
       "    .dataframe tbody tr th:only-of-type {\n",
       "        vertical-align: middle;\n",
       "    }\n",
       "\n",
       "    .dataframe tbody tr th {\n",
       "        vertical-align: top;\n",
       "    }\n",
       "\n",
       "    .dataframe thead th {\n",
       "        text-align: right;\n",
       "    }\n",
       "</style>\n",
       "<table border=\"1\" class=\"dataframe\">\n",
       "  <thead>\n",
       "    <tr style=\"text-align: right;\">\n",
       "      <th></th>\n",
       "      <th>variant_id</th>\n",
       "      <th>query</th>\n",
       "      <th>query_type</th>\n",
       "      <th>civic_variant_types</th>\n",
       "      <th>normalization_status</th>\n",
       "    </tr>\n",
       "  </thead>\n",
       "  <tbody>\n",
       "    <tr>\n",
       "      <th>0</th>\n",
       "      <td>2489</td>\n",
       "      <td>NC_000003.11:g.10191648_10191649insC</td>\n",
       "      <td>genomic</td>\n",
       "      <td>Stop Lost</td>\n",
       "      <td>normalized</td>\n",
       "    </tr>\n",
       "    <tr>\n",
       "      <th>1</th>\n",
       "      <td>1988</td>\n",
       "      <td>NC_000003.11:g.10191649A&gt;T</td>\n",
       "      <td>genomic</td>\n",
       "      <td>Stop Lost</td>\n",
       "      <td>normalized</td>\n",
       "    </tr>\n",
       "    <tr>\n",
       "      <th>2</th>\n",
       "      <td>2488</td>\n",
       "      <td>3-10191647-T-G</td>\n",
       "      <td>genomic</td>\n",
       "      <td>Stop Lost</td>\n",
       "      <td>normalized</td>\n",
       "    </tr>\n",
       "    <tr>\n",
       "      <th>3</th>\n",
       "      <td>1986</td>\n",
       "      <td>NC_000003.11:g.10191648G&gt;T</td>\n",
       "      <td>genomic</td>\n",
       "      <td>Stop Lost</td>\n",
       "      <td>normalized</td>\n",
       "    </tr>\n",
       "    <tr>\n",
       "      <th>4</th>\n",
       "      <td>1987</td>\n",
       "      <td>NC_000003.11:g.10191649A&gt;G</td>\n",
       "      <td>genomic</td>\n",
       "      <td>Stop Lost</td>\n",
       "      <td>normalized</td>\n",
       "    </tr>\n",
       "  </tbody>\n",
       "</table>\n",
       "</div>"
      ],
      "text/plain": [
       "   variant_id                                 query query_type  \\\n",
       "0        2489  NC_000003.11:g.10191648_10191649insC    genomic   \n",
       "1        1988            NC_000003.11:g.10191649A>T    genomic   \n",
       "2        2488                        3-10191647-T-G    genomic   \n",
       "3        1986            NC_000003.11:g.10191648G>T    genomic   \n",
       "4        1987            NC_000003.11:g.10191649A>G    genomic   \n",
       "\n",
       "  civic_variant_types normalization_status  \n",
       "0           Stop Lost           normalized  \n",
       "1           Stop Lost           normalized  \n",
       "2           Stop Lost           normalized  \n",
       "3           Stop Lost           normalized  \n",
       "4           Stop Lost           normalized  "
      ]
     },
     "execution_count": 7,
     "metadata": {},
     "output_type": "execute_result"
    }
   ],
   "source": [
    "pruned_civic_normalized_df = civic_normalized_df[\n",
    "    [\"variant_id\", \"query\", \"query_type\", \"civic_variant_types\"]\n",
    "]\n",
    "pruned_civic_normalized_df.insert(4, \"normalization_status\", \"normalized\")\n",
    "pruned_civic_normalized_df.head()"
   ]
  },
  {
   "cell_type": "markdown",
   "metadata": {},
   "source": [
    "Repeat process with the variants that were unable to be normalized."
   ]
  },
  {
   "cell_type": "code",
   "execution_count": 8,
   "metadata": {},
   "outputs": [
    {
     "data": {
      "text/plain": [
       "(83, 8)"
      ]
     },
     "execution_count": 8,
     "metadata": {},
     "output_type": "execute_result"
    }
   ],
   "source": [
    "civic_not_normalized_df = pd.read_csv(\n",
    "    \"../civic/variation_analysis/unable_to_normalize_queries.tsv\", sep=\"\\t\"\n",
    ")\n",
    "civic_not_normalized_df.shape"
   ]
  },
  {
   "cell_type": "code",
   "execution_count": 9,
   "metadata": {},
   "outputs": [
    {
     "data": {
      "text/html": [
       "<div>\n",
       "<style scoped>\n",
       "    .dataframe tbody tr th:only-of-type {\n",
       "        vertical-align: middle;\n",
       "    }\n",
       "\n",
       "    .dataframe tbody tr th {\n",
       "        vertical-align: top;\n",
       "    }\n",
       "\n",
       "    .dataframe thead th {\n",
       "        text-align: right;\n",
       "    }\n",
       "</style>\n",
       "<table border=\"1\" class=\"dataframe\">\n",
       "  <thead>\n",
       "    <tr style=\"text-align: right;\">\n",
       "      <th></th>\n",
       "      <th>variant_id</th>\n",
       "      <th>query</th>\n",
       "      <th>query_type</th>\n",
       "      <th>civic_variant_types</th>\n",
       "      <th>normalization_status</th>\n",
       "    </tr>\n",
       "  </thead>\n",
       "  <tbody>\n",
       "    <tr>\n",
       "      <th>0</th>\n",
       "      <td>748</td>\n",
       "      <td>MLH1 *757L</td>\n",
       "      <td>protein</td>\n",
       "      <td>Stop Lost</td>\n",
       "      <td>not_normalized</td>\n",
       "    </tr>\n",
       "    <tr>\n",
       "      <th>1</th>\n",
       "      <td>3718</td>\n",
       "      <td>AR A748V</td>\n",
       "      <td>protein</td>\n",
       "      <td>Not provided</td>\n",
       "      <td>not_normalized</td>\n",
       "    </tr>\n",
       "    <tr>\n",
       "      <th>2</th>\n",
       "      <td>3725</td>\n",
       "      <td>AR A765T</td>\n",
       "      <td>protein</td>\n",
       "      <td>Not provided</td>\n",
       "      <td>not_normalized</td>\n",
       "    </tr>\n",
       "    <tr>\n",
       "      <th>3</th>\n",
       "      <td>4485</td>\n",
       "      <td>ERBB2 A775_G776ins YVMA</td>\n",
       "      <td>protein</td>\n",
       "      <td>Not provided</td>\n",
       "      <td>not_normalized</td>\n",
       "    </tr>\n",
       "    <tr>\n",
       "      <th>4</th>\n",
       "      <td>248</td>\n",
       "      <td>TERT C228T</td>\n",
       "      <td>protein</td>\n",
       "      <td>Regulatory Region Variant</td>\n",
       "      <td>not_normalized</td>\n",
       "    </tr>\n",
       "  </tbody>\n",
       "</table>\n",
       "</div>"
      ],
      "text/plain": [
       "   variant_id                    query query_type        civic_variant_types  \\\n",
       "0         748               MLH1 *757L    protein                  Stop Lost   \n",
       "1        3718                 AR A748V    protein               Not provided   \n",
       "2        3725                 AR A765T    protein               Not provided   \n",
       "3        4485  ERBB2 A775_G776ins YVMA    protein               Not provided   \n",
       "4         248               TERT C228T    protein  Regulatory Region Variant   \n",
       "\n",
       "  normalization_status  \n",
       "0       not_normalized  \n",
       "1       not_normalized  \n",
       "2       not_normalized  \n",
       "3       not_normalized  \n",
       "4       not_normalized  "
      ]
     },
     "execution_count": 9,
     "metadata": {},
     "output_type": "execute_result"
    }
   ],
   "source": [
    "pruned_civic_not_normalized_df = civic_not_normalized_df[\n",
    "    [\"variant_id\", \"query\", \"query_type\", \"civic_variant_types\"]\n",
    "]\n",
    "pruned_civic_not_normalized_df.insert(4, \"normalization_status\", \"not_normalized\")\n",
    "pruned_civic_not_normalized_df.head()"
   ]
  },
  {
   "cell_type": "markdown",
   "metadata": {},
   "source": [
    "Merge these dfs"
   ]
  },
  {
   "cell_type": "code",
   "execution_count": 10,
   "metadata": {},
   "outputs": [
    {
     "data": {
      "text/plain": [
       "(2098, 5)"
      ]
     },
     "execution_count": 10,
     "metadata": {},
     "output_type": "execute_result"
    }
   ],
   "source": [
    "frames = [pruned_civic_normalized_df, pruned_civic_not_normalized_df]\n",
    "civic_supported_df = pd.concat(frames)\n",
    "civic_supported_df.shape"
   ]
  },
  {
   "cell_type": "markdown",
   "metadata": {},
   "source": [
    "Making all queries in all caps to make it easier to account of untyped variants later on."
   ]
  },
  {
   "cell_type": "code",
   "execution_count": 11,
   "metadata": {},
   "outputs": [],
   "source": [
    "civic_supported_df[\"query\"] = civic_supported_df[\"query\"].apply(str.upper)"
   ]
  },
  {
   "cell_type": "markdown",
   "metadata": {},
   "source": [
    "Checking variant types.  The single largest types is \"Not provided\".  "
   ]
  },
  {
   "cell_type": "code",
   "execution_count": 12,
   "metadata": {},
   "outputs": [
    {
     "data": {
      "text/plain": [
       "civic_variant_types\n",
       "Not provided                                                  898\n",
       "Missense Variant                                              877\n",
       "Stop Gained                                                    60\n",
       "Transcript Amplification                                       36\n",
       "Frameshift Truncation                                          35\n",
       "Inframe Deletion                                               34\n",
       "Inframe Insertion                                              17\n",
       "Frameshift Truncation;Minus 1 Frameshift Variant               15\n",
       "Synonymous Variant                                             13\n",
       "Splice Donor Variant                                           13\n",
       "Splice Acceptor Variant                                         9\n",
       "Frameshift Variant                                              7\n",
       "Minus 1 Frameshift Variant;Frameshift Truncation                6\n",
       "Missense Variant;Gain Of Function Variant                       6\n",
       "Stop Lost                                                       6\n",
       "Conservative Inframe Deletion                                   6\n",
       "Frameshift Truncation;Minus 2 Frameshift Variant                5\n",
       "Delins                                                          4\n",
       "Start Lost                                                      3\n",
       "3 Prime UTR Variant                                             3\n",
       "Gain Of Function Variant;Missense Variant                       3\n",
       "Disruptive Inframe Deletion                                     2\n",
       "Minus 1 Frameshift Variant                                      2\n",
       "Plus 1 Frameshift Variant;Frameshift Truncation                 2\n",
       "Splice Donor Region Variant                                     2\n",
       "Missense Variant;Loss Of Function Variant                       2\n",
       "Missense Variant;Polymorphic Sequence Variant                   2\n",
       "Regulatory Region Variant                                       2\n",
       "Inframe Insertion;Inframe Deletion;Delins                       2\n",
       "Non Conservative Missense Variant                               2\n",
       "Stop Gained;Loss Of Function Variant                            2\n",
       "Splicing Variant                                                1\n",
       "Intron Variant                                                  1\n",
       "Frameshift Variant;Delins                                       1\n",
       "Stop Lost;Inframe Deletion                                      1\n",
       "Missense Variant;Snp                                            1\n",
       "Amino Acid Deletion;Inframe Deletion                            1\n",
       "Direct Tandem Duplication                                       1\n",
       "Frameshift Truncation;Plus 2 Frameshift Variant                 1\n",
       "Deletion;Amino Acid Deletion;Conservative Inframe Deletion      1\n",
       "Frameshift Truncation;Plus 1 Frameshift Variant                 1\n",
       "Frameshift                                                      1\n",
       "Minus 2 Frameshift Variant                                      1\n",
       "Inframe Indel                                                   1\n",
       "Plus 1 Frameshift Variant                                       1\n",
       "Plus 1 Frameshift Variant;Frameshift Elongation                 1\n",
       "Coding Sequence Variant                                         1\n",
       "Inframe Variant;Inframe Insertion;Inframe Deletion;Delins       1\n",
       "Inframe Insertion;Delins                                        1\n",
       "Missense Variant;Loss Of Heterozygosity                         1\n",
       "Disruptive Inframe Insertion                                    1\n",
       "Frameshift Variant;Minus 1 Frameshift Variant                   1\n",
       "Transcript Regulatory Region Fusion                             1\n",
       "Name: count, dtype: int64"
      ]
     },
     "execution_count": 12,
     "metadata": {},
     "output_type": "execute_result"
    }
   ],
   "source": [
    "civic_supported_df[\"civic_variant_types\"].value_counts(dropna=False)"
   ]
  },
  {
   "cell_type": "markdown",
   "metadata": {},
   "source": [
    "Most of these look like amino acid substitutions.\n",
    "Defining a regex to detect these variants and assign \"Missense Variant\" type to these variants.\n",
    "\n",
    "If a variant does not have an assigned variant type in civic, if it is a protein query, and the query matches a regex pattern associated with variant substitutions (such as \"PTEN A126D\"), then I am re-classifying them as a \"Missense Variant\" instead."
   ]
  },
  {
   "cell_type": "code",
   "execution_count": 13,
   "metadata": {},
   "outputs": [],
   "source": [
    "civic_supported_df[\"variant flag\"] = civic_supported_df[\"query\"].apply(\n",
    "    lambda x: bool(re.match(\"\\S+\\s+[A-Z]+\\d+[A-Z|*]\", x))\n",
    ")\n",
    "civic_supported_df[\"civic_variant_types\"] = np.where(\n",
    "    (civic_supported_df[\"query_type\"] == \"protein\")\n",
    "    & (civic_supported_df[\"civic_variant_types\"] == \"Not provided\")\n",
    "    & (civic_supported_df[\"variant flag\"]),\n",
    "    \"Missense Variant\",\n",
    "    civic_supported_df[\"civic_variant_types\"],\n",
    ")"
   ]
  },
  {
   "cell_type": "markdown",
   "metadata": {},
   "source": [
    "Doing so reduced the 816 untyped variants down to 86.\n",
    "Checking the remaining weird variants."
   ]
  },
  {
   "cell_type": "code",
   "execution_count": 14,
   "metadata": {},
   "outputs": [
    {
     "name": "stdout",
     "output_type": "stream",
     "text": [
      "86\n"
     ]
    },
    {
     "data": {
      "text/html": [
       "<div>\n",
       "<style scoped>\n",
       "    .dataframe tbody tr th:only-of-type {\n",
       "        vertical-align: middle;\n",
       "    }\n",
       "\n",
       "    .dataframe tbody tr th {\n",
       "        vertical-align: top;\n",
       "    }\n",
       "\n",
       "    .dataframe thead th {\n",
       "        text-align: right;\n",
       "    }\n",
       "</style>\n",
       "<table border=\"1\" class=\"dataframe\">\n",
       "  <thead>\n",
       "    <tr style=\"text-align: right;\">\n",
       "      <th></th>\n",
       "      <th>variant_id</th>\n",
       "      <th>query</th>\n",
       "      <th>query_type</th>\n",
       "      <th>civic_variant_types</th>\n",
       "      <th>normalization_status</th>\n",
       "      <th>variant flag</th>\n",
       "    </tr>\n",
       "  </thead>\n",
       "  <tbody>\n",
       "    <tr>\n",
       "      <th>11</th>\n",
       "      <td>3342</td>\n",
       "      <td>KRAS A11_G12INSGA</td>\n",
       "      <td>protein</td>\n",
       "      <td>Not provided</td>\n",
       "      <td>normalized</td>\n",
       "      <td>False</td>\n",
       "    </tr>\n",
       "    <tr>\n",
       "      <th>68</th>\n",
       "      <td>4484</td>\n",
       "      <td>ERBB2 A775_G776INSIVMA</td>\n",
       "      <td>protein</td>\n",
       "      <td>Not provided</td>\n",
       "      <td>normalized</td>\n",
       "      <td>False</td>\n",
       "    </tr>\n",
       "    <tr>\n",
       "      <th>69</th>\n",
       "      <td>4723</td>\n",
       "      <td>ERBB2 A775_G776INSTVMA</td>\n",
       "      <td>protein</td>\n",
       "      <td>Not provided</td>\n",
       "      <td>normalized</td>\n",
       "      <td>False</td>\n",
       "    </tr>\n",
       "    <tr>\n",
       "      <th>70</th>\n",
       "      <td>4724</td>\n",
       "      <td>ERBB2 A775_G776INSV</td>\n",
       "      <td>protein</td>\n",
       "      <td>Not provided</td>\n",
       "      <td>normalized</td>\n",
       "      <td>False</td>\n",
       "    </tr>\n",
       "    <tr>\n",
       "      <th>71</th>\n",
       "      <td>4725</td>\n",
       "      <td>ERBB2 A775_G776INSVVMA</td>\n",
       "      <td>protein</td>\n",
       "      <td>Not provided</td>\n",
       "      <td>normalized</td>\n",
       "      <td>False</td>\n",
       "    </tr>\n",
       "    <tr>\n",
       "      <th>72</th>\n",
       "      <td>2658</td>\n",
       "      <td>ERBB2 A775_G776INSYVMA</td>\n",
       "      <td>protein</td>\n",
       "      <td>Not provided</td>\n",
       "      <td>normalized</td>\n",
       "      <td>False</td>\n",
       "    </tr>\n",
       "    <tr>\n",
       "      <th>73</th>\n",
       "      <td>4483</td>\n",
       "      <td>ERBB2 A775_G776INSYVMA</td>\n",
       "      <td>protein</td>\n",
       "      <td>Not provided</td>\n",
       "      <td>normalized</td>\n",
       "      <td>False</td>\n",
       "    </tr>\n",
       "    <tr>\n",
       "      <th>80</th>\n",
       "      <td>3751</td>\n",
       "      <td>ARHGAP35 A865_L870DELINSV</td>\n",
       "      <td>protein</td>\n",
       "      <td>Not provided</td>\n",
       "      <td>normalized</td>\n",
       "      <td>False</td>\n",
       "    </tr>\n",
       "    <tr>\n",
       "      <th>88</th>\n",
       "      <td>2655</td>\n",
       "      <td>MYB AMPLIFICATION</td>\n",
       "      <td>protein</td>\n",
       "      <td>Not provided</td>\n",
       "      <td>normalized</td>\n",
       "      <td>False</td>\n",
       "    </tr>\n",
       "    <tr>\n",
       "      <th>116</th>\n",
       "      <td>1261</td>\n",
       "      <td>MDM2 AMPLIFICATION</td>\n",
       "      <td>protein</td>\n",
       "      <td>Not provided</td>\n",
       "      <td>normalized</td>\n",
       "      <td>False</td>\n",
       "    </tr>\n",
       "    <tr>\n",
       "      <th>119</th>\n",
       "      <td>1276</td>\n",
       "      <td>SMO AMPLIFICATION</td>\n",
       "      <td>protein</td>\n",
       "      <td>Not provided</td>\n",
       "      <td>normalized</td>\n",
       "      <td>False</td>\n",
       "    </tr>\n",
       "    <tr>\n",
       "      <th>122</th>\n",
       "      <td>1684</td>\n",
       "      <td>PSMD4 AMPLIFICATION</td>\n",
       "      <td>protein</td>\n",
       "      <td>Not provided</td>\n",
       "      <td>normalized</td>\n",
       "      <td>False</td>\n",
       "    </tr>\n",
       "    <tr>\n",
       "      <th>124</th>\n",
       "      <td>2205</td>\n",
       "      <td>FLT4 AMPLIFICATION</td>\n",
       "      <td>protein</td>\n",
       "      <td>Not provided</td>\n",
       "      <td>normalized</td>\n",
       "      <td>False</td>\n",
       "    </tr>\n",
       "    <tr>\n",
       "      <th>125</th>\n",
       "      <td>2240</td>\n",
       "      <td>TLK2 AMPLIFICATION</td>\n",
       "      <td>protein</td>\n",
       "      <td>Not provided</td>\n",
       "      <td>normalized</td>\n",
       "      <td>False</td>\n",
       "    </tr>\n",
       "    <tr>\n",
       "      <th>126</th>\n",
       "      <td>2397</td>\n",
       "      <td>CRKL AMPLIFICATION</td>\n",
       "      <td>protein</td>\n",
       "      <td>Not provided</td>\n",
       "      <td>normalized</td>\n",
       "      <td>False</td>\n",
       "    </tr>\n",
       "    <tr>\n",
       "      <th>127</th>\n",
       "      <td>2550</td>\n",
       "      <td>NRAS AMPLIFICATION</td>\n",
       "      <td>protein</td>\n",
       "      <td>Not provided</td>\n",
       "      <td>normalized</td>\n",
       "      <td>False</td>\n",
       "    </tr>\n",
       "    <tr>\n",
       "      <th>128</th>\n",
       "      <td>2564</td>\n",
       "      <td>MYC AMPLIFICATION</td>\n",
       "      <td>protein</td>\n",
       "      <td>Not provided</td>\n",
       "      <td>normalized</td>\n",
       "      <td>False</td>\n",
       "    </tr>\n",
       "    <tr>\n",
       "      <th>129</th>\n",
       "      <td>2598</td>\n",
       "      <td>IRS2 AMPLIFICATION</td>\n",
       "      <td>protein</td>\n",
       "      <td>Not provided</td>\n",
       "      <td>normalized</td>\n",
       "      <td>False</td>\n",
       "    </tr>\n",
       "    <tr>\n",
       "      <th>130</th>\n",
       "      <td>2619</td>\n",
       "      <td>FLT3 AMPLIFICATION</td>\n",
       "      <td>protein</td>\n",
       "      <td>Not provided</td>\n",
       "      <td>normalized</td>\n",
       "      <td>False</td>\n",
       "    </tr>\n",
       "    <tr>\n",
       "      <th>131</th>\n",
       "      <td>2637</td>\n",
       "      <td>KDR AMPLIFICATION</td>\n",
       "      <td>protein</td>\n",
       "      <td>Not provided</td>\n",
       "      <td>normalized</td>\n",
       "      <td>False</td>\n",
       "    </tr>\n",
       "  </tbody>\n",
       "</table>\n",
       "</div>"
      ],
      "text/plain": [
       "     variant_id                      query query_type civic_variant_types  \\\n",
       "11         3342          KRAS A11_G12INSGA    protein        Not provided   \n",
       "68         4484     ERBB2 A775_G776INSIVMA    protein        Not provided   \n",
       "69         4723     ERBB2 A775_G776INSTVMA    protein        Not provided   \n",
       "70         4724        ERBB2 A775_G776INSV    protein        Not provided   \n",
       "71         4725     ERBB2 A775_G776INSVVMA    protein        Not provided   \n",
       "72         2658     ERBB2 A775_G776INSYVMA    protein        Not provided   \n",
       "73         4483     ERBB2 A775_G776INSYVMA    protein        Not provided   \n",
       "80         3751  ARHGAP35 A865_L870DELINSV    protein        Not provided   \n",
       "88         2655          MYB AMPLIFICATION    protein        Not provided   \n",
       "116        1261         MDM2 AMPLIFICATION    protein        Not provided   \n",
       "119        1276          SMO AMPLIFICATION    protein        Not provided   \n",
       "122        1684        PSMD4 AMPLIFICATION    protein        Not provided   \n",
       "124        2205         FLT4 AMPLIFICATION    protein        Not provided   \n",
       "125        2240         TLK2 AMPLIFICATION    protein        Not provided   \n",
       "126        2397         CRKL AMPLIFICATION    protein        Not provided   \n",
       "127        2550         NRAS AMPLIFICATION    protein        Not provided   \n",
       "128        2564          MYC AMPLIFICATION    protein        Not provided   \n",
       "129        2598         IRS2 AMPLIFICATION    protein        Not provided   \n",
       "130        2619         FLT3 AMPLIFICATION    protein        Not provided   \n",
       "131        2637          KDR AMPLIFICATION    protein        Not provided   \n",
       "\n",
       "    normalization_status  variant flag  \n",
       "11            normalized         False  \n",
       "68            normalized         False  \n",
       "69            normalized         False  \n",
       "70            normalized         False  \n",
       "71            normalized         False  \n",
       "72            normalized         False  \n",
       "73            normalized         False  \n",
       "80            normalized         False  \n",
       "88            normalized         False  \n",
       "116           normalized         False  \n",
       "119           normalized         False  \n",
       "122           normalized         False  \n",
       "124           normalized         False  \n",
       "125           normalized         False  \n",
       "126           normalized         False  \n",
       "127           normalized         False  \n",
       "128           normalized         False  \n",
       "129           normalized         False  \n",
       "130           normalized         False  \n",
       "131           normalized         False  "
      ]
     },
     "execution_count": 14,
     "metadata": {},
     "output_type": "execute_result"
    }
   ],
   "source": [
    "untyped_variants = civic_supported_df[\n",
    "    civic_supported_df[\"civic_variant_types\"] == \"Not provided\"\n",
    "]\n",
    "print(len(untyped_variants))\n",
    "untyped_variants.head(20)"
   ]
  },
  {
   "cell_type": "markdown",
   "metadata": {},
   "source": [
    "Reassigning variants marked as {gene} Amplification as Transcript Amplification Variants"
   ]
  },
  {
   "cell_type": "code",
   "execution_count": 15,
   "metadata": {},
   "outputs": [],
   "source": [
    "civic_supported_df[\"variant flag\"] = civic_supported_df[\"query\"].apply(\n",
    "    lambda x: bool(re.match(\"\\S+\\s+AMPLIFICATION\", x))\n",
    ")\n",
    "civic_supported_df[\"civic_variant_types\"] = np.where(\n",
    "    (civic_supported_df[\"query_type\"] == \"protein\")\n",
    "    & (civic_supported_df[\"civic_variant_types\"] == \"Not provided\")\n",
    "    & (civic_supported_df[\"variant flag\"]),\n",
    "    \"Transcript Amplification\",\n",
    "    civic_supported_df[\"civic_variant_types\"],\n",
    ")"
   ]
  },
  {
   "cell_type": "markdown",
   "metadata": {},
   "source": [
    "Reassigning amino acid insertions, delins, and deletions as \"Missense Variant\", including a couple of variants that have a random space before or after the sequence operation like \"INS\""
   ]
  },
  {
   "cell_type": "code",
   "execution_count": 16,
   "metadata": {},
   "outputs": [],
   "source": [
    "civic_supported_df[\"variant flag\"] = civic_supported_df[\"query\"].apply(\n",
    "    lambda x: bool(re.match(\"\\S+\\s+[A-Z]+\\d+_+[A-Z]+\\d+INS+[A-Z]\", x))\n",
    ")\n",
    "civic_supported_df[\"civic_variant_types\"] = np.where(\n",
    "    (civic_supported_df[\"query_type\"] == \"protein\")\n",
    "    & (civic_supported_df[\"civic_variant_types\"] == \"Not provided\")\n",
    "    & (civic_supported_df[\"variant flag\"]),\n",
    "    \"Missense Variant\",\n",
    "    civic_supported_df[\"civic_variant_types\"],\n",
    ")"
   ]
  },
  {
   "cell_type": "code",
   "execution_count": 17,
   "metadata": {},
   "outputs": [],
   "source": [
    "civic_supported_df[\"variant flag\"] = civic_supported_df[\"query\"].apply(\n",
    "    lambda x: bool(re.match(\"\\S+\\s+[A-Z]+\\d+_+[A-Z]+\\d+INS+\\s+[A-Z]\", x))\n",
    ")\n",
    "civic_supported_df[\"civic_variant_types\"] = np.where(\n",
    "    (civic_supported_df[\"query_type\"] == \"protein\")\n",
    "    & (civic_supported_df[\"civic_variant_types\"] == \"Not provided\")\n",
    "    & (civic_supported_df[\"variant flag\"]),\n",
    "    \"Missense Variant\",\n",
    "    civic_supported_df[\"civic_variant_types\"],\n",
    ")"
   ]
  },
  {
   "cell_type": "code",
   "execution_count": 18,
   "metadata": {},
   "outputs": [],
   "source": [
    "civic_supported_df[\"variant flag\"] = civic_supported_df[\"query\"].apply(\n",
    "    lambda x: bool(re.match(\"\\S+\\s+[A-Z]+\\d+-+\\d+\\s+INS+[A-Z]\", x))\n",
    ")\n",
    "civic_supported_df[\"civic_variant_types\"] = np.where(\n",
    "    (civic_supported_df[\"query_type\"] == \"protein\")\n",
    "    & (civic_supported_df[\"civic_variant_types\"] == \"Not provided\")\n",
    "    & (civic_supported_df[\"variant flag\"]),\n",
    "    \"Missense Variant\",\n",
    "    civic_supported_df[\"civic_variant_types\"],\n",
    ")"
   ]
  },
  {
   "cell_type": "code",
   "execution_count": 19,
   "metadata": {},
   "outputs": [],
   "source": [
    "civic_supported_df[\"variant flag\"] = civic_supported_df[\"query\"].apply(\n",
    "    lambda x: bool(re.match(\"\\S+\\s+[A-Z]+\\d+_+[A-Z]+\\d+DELINS+[A-Z]\", x))\n",
    ")\n",
    "civic_supported_df[\"civic_variant_types\"] = np.where(\n",
    "    (civic_supported_df[\"query_type\"] == \"protein\")\n",
    "    & (civic_supported_df[\"civic_variant_types\"] == \"Not provided\")\n",
    "    & (civic_supported_df[\"variant flag\"]),\n",
    "    \"Missense Variant\",\n",
    "    civic_supported_df[\"civic_variant_types\"],\n",
    ")"
   ]
  },
  {
   "cell_type": "code",
   "execution_count": 20,
   "metadata": {},
   "outputs": [],
   "source": [
    "civic_supported_df[\"variant flag\"] = civic_supported_df[\"query\"].apply(\n",
    "    lambda x: bool(re.match(\"\\S+\\s+[A-Z]+\\d+_+[A-Z]+\\d+DEL\", x))\n",
    ")\n",
    "civic_supported_df[\"civic_variant_types\"] = np.where(\n",
    "    (civic_supported_df[\"query_type\"] == \"protein\")\n",
    "    & (civic_supported_df[\"civic_variant_types\"] == \"Not provided\")\n",
    "    & (civic_supported_df[\"variant flag\"]),\n",
    "    \"Missense Variant\",\n",
    "    civic_supported_df[\"civic_variant_types\"],\n",
    ")"
   ]
  },
  {
   "cell_type": "markdown",
   "metadata": {},
   "source": [
    "And assigning missense types to a handful of remaining variants that are non-standard names for genomic and protein sequence variants"
   ]
  },
  {
   "cell_type": "code",
   "execution_count": 21,
   "metadata": {},
   "outputs": [],
   "source": [
    "civic_supported_df[\"variant flag\"] = civic_supported_df[\"query\"].apply(\n",
    "    lambda x: bool(re.match(\"\\S+\\s+P\\.+[A-Z]+\\d+[A-Z]\", x))\n",
    ")\n",
    "civic_supported_df[\"civic_variant_types\"] = np.where(\n",
    "    (civic_supported_df[\"query_type\"] == \"protein\")\n",
    "    & (civic_supported_df[\"civic_variant_types\"] == \"Not provided\")\n",
    "    & (civic_supported_df[\"variant flag\"]),\n",
    "    \"Missense Variant\",\n",
    "    civic_supported_df[\"civic_variant_types\"],\n",
    ")"
   ]
  },
  {
   "cell_type": "code",
   "execution_count": 22,
   "metadata": {},
   "outputs": [],
   "source": [
    "civic_supported_df[\"variant flag\"] = civic_supported_df[\"query\"].apply(\n",
    "    lambda x: bool(re.match(\"\\S+[A-Z]+\\-+[A-Z]\", x))\n",
    ")\n",
    "civic_supported_df[\"civic_variant_types\"] = np.where(\n",
    "    (civic_supported_df[\"query_type\"] == \"genomic\")\n",
    "    & (civic_supported_df[\"civic_variant_types\"] == \"Not provided\")\n",
    "    & (civic_supported_df[\"variant flag\"]),\n",
    "    \"Missense Variant\",\n",
    "    civic_supported_df[\"civic_variant_types\"],\n",
    ")"
   ]
  },
  {
   "cell_type": "code",
   "execution_count": 23,
   "metadata": {},
   "outputs": [],
   "source": [
    "civic_supported_df[\"variant flag\"] = civic_supported_df[\"query\"].apply(\n",
    "    lambda x: bool(re.match(\"NC_\\d+\\.+\\d+:[A-Z]+\\.+\\d+[A-Z]+>+[A-Z]\", x))\n",
    ")\n",
    "civic_supported_df[\"civic_variant_types\"] = np.where(\n",
    "    (civic_supported_df[\"query_type\"] == \"genomic\")\n",
    "    & (civic_supported_df[\"civic_variant_types\"] == \"Not provided\")\n",
    "    & (civic_supported_df[\"variant flag\"]),\n",
    "    \"Missense Variant\",\n",
    "    civic_supported_df[\"civic_variant_types\"],\n",
    ")"
   ]
  },
  {
   "cell_type": "code",
   "execution_count": 24,
   "metadata": {},
   "outputs": [],
   "source": [
    "civic_supported_df[\"variant flag\"] = civic_supported_df[\"query\"].apply(\n",
    "    lambda x: bool(re.match(\"NC_\\d+\\.+\\d+:[A-Z]+\\.+\\d+_+\\d+INS+[A-Z]\", x))\n",
    ")\n",
    "civic_supported_df[\"civic_variant_types\"] = np.where(\n",
    "    (civic_supported_df[\"query_type\"] == \"genomic\")\n",
    "    & (civic_supported_df[\"civic_variant_types\"] == \"Not provided\")\n",
    "    & (civic_supported_df[\"variant flag\"]),\n",
    "    \"Missense Variant\",\n",
    "    civic_supported_df[\"civic_variant_types\"],\n",
    ")"
   ]
  },
  {
   "cell_type": "code",
   "execution_count": 25,
   "metadata": {},
   "outputs": [],
   "source": [
    "civic_supported_df[\"variant flag\"] = civic_supported_df[\"query\"].apply(\n",
    "    lambda x: bool(re.match(\"NF1 P.W426*\", x))\n",
    ")\n",
    "civic_supported_df[\"civic_variant_types\"] = np.where(\n",
    "    (civic_supported_df[\"query_type\"] == \"protein\")\n",
    "    & (civic_supported_df[\"civic_variant_types\"] == \"Not provided\")\n",
    "    & (civic_supported_df[\"variant flag\"]),\n",
    "    \"Missense Variant\",\n",
    "    civic_supported_df[\"civic_variant_types\"],\n",
    ")"
   ]
  },
  {
   "cell_type": "markdown",
   "metadata": {},
   "source": [
    "This variant is a unique (to this db) nonstandard nomenclature for just some variant in a particular domain, so it is a region-defined variant."
   ]
  },
  {
   "cell_type": "code",
   "execution_count": 26,
   "metadata": {},
   "outputs": [],
   "source": [
    "civic_supported_df[\"variant flag\"] = civic_supported_df[\"query\"].apply(\n",
    "    lambda x: bool(re.match(\"DICER1 RNASE IIIB MUTATION\", x))\n",
    ")\n",
    "civic_supported_df[\"civic_variant_types\"] = np.where(\n",
    "    (civic_supported_df[\"query_type\"] == \"protein\")\n",
    "    & (civic_supported_df[\"civic_variant_types\"] == \"Not provided\")\n",
    "    & (civic_supported_df[\"variant flag\"]),\n",
    "    \"Region-Defined Variant\",\n",
    "    civic_supported_df[\"civic_variant_types\"],\n",
    ")"
   ]
  },
  {
   "cell_type": "markdown",
   "metadata": {},
   "source": [
    "This variant similarly indicates some variant in a non-coding region, so it is also a region-defined variant."
   ]
  },
  {
   "cell_type": "code",
   "execution_count": 27,
   "metadata": {},
   "outputs": [],
   "source": [
    "civic_supported_df[\"variant flag\"] = civic_supported_df[\"query\"].apply(\n",
    "    lambda x: bool(re.match(\"HNRNPH1 NON-CODING MUTATIONS\", x))\n",
    ")\n",
    "civic_supported_df[\"civic_variant_types\"] = np.where(\n",
    "    (civic_supported_df[\"query_type\"] == \"protein\")\n",
    "    & (civic_supported_df[\"civic_variant_types\"] == \"Not provided\")\n",
    "    & (civic_supported_df[\"variant flag\"]),\n",
    "    \"Region-Defined Variant\",\n",
    "    civic_supported_df[\"civic_variant_types\"],\n",
    ")"
   ]
  },
  {
   "cell_type": "markdown",
   "metadata": {},
   "source": [
    "Finally this last variant is a fusion variant."
   ]
  },
  {
   "cell_type": "code",
   "execution_count": 28,
   "metadata": {},
   "outputs": [],
   "source": [
    "civic_supported_df[\"variant flag\"] = civic_supported_df[\"query\"].apply(\n",
    "    lambda x: bool(re.match(\"NRG1 NRG1 FUSIONS\", x))\n",
    ")\n",
    "civic_supported_df[\"civic_variant_types\"] = np.where(\n",
    "    (civic_supported_df[\"query_type\"] == \"protein\")\n",
    "    & (civic_supported_df[\"civic_variant_types\"] == \"Not provided\")\n",
    "    & (civic_supported_df[\"variant flag\"]),\n",
    "    \"Fusion\",\n",
    "    civic_supported_df[\"civic_variant_types\"],\n",
    ")"
   ]
  },
  {
   "cell_type": "markdown",
   "metadata": {},
   "source": [
    "Verifying that we have categorized all unaccounted for variants."
   ]
  },
  {
   "cell_type": "code",
   "execution_count": 29,
   "metadata": {},
   "outputs": [
    {
     "name": "stdout",
     "output_type": "stream",
     "text": [
      "0\n"
     ]
    },
    {
     "data": {
      "text/html": [
       "<div>\n",
       "<style scoped>\n",
       "    .dataframe tbody tr th:only-of-type {\n",
       "        vertical-align: middle;\n",
       "    }\n",
       "\n",
       "    .dataframe tbody tr th {\n",
       "        vertical-align: top;\n",
       "    }\n",
       "\n",
       "    .dataframe thead th {\n",
       "        text-align: right;\n",
       "    }\n",
       "</style>\n",
       "<table border=\"1\" class=\"dataframe\">\n",
       "  <thead>\n",
       "    <tr style=\"text-align: right;\">\n",
       "      <th></th>\n",
       "      <th>variant_id</th>\n",
       "      <th>query</th>\n",
       "      <th>query_type</th>\n",
       "      <th>civic_variant_types</th>\n",
       "      <th>normalization_status</th>\n",
       "      <th>variant flag</th>\n",
       "    </tr>\n",
       "  </thead>\n",
       "  <tbody>\n",
       "  </tbody>\n",
       "</table>\n",
       "</div>"
      ],
      "text/plain": [
       "Empty DataFrame\n",
       "Columns: [variant_id, query, query_type, civic_variant_types, normalization_status, variant flag]\n",
       "Index: []"
      ]
     },
     "execution_count": 29,
     "metadata": {},
     "output_type": "execute_result"
    }
   ],
   "source": [
    "untyped_variants = civic_supported_df[\n",
    "    civic_supported_df[\"civic_variant_types\"] == \"Not provided\"\n",
    "]\n",
    "print(len(untyped_variants))\n",
    "untyped_variants.head(20)"
   ]
  },
  {
   "cell_type": "markdown",
   "metadata": {},
   "source": [
    "Add category column to CIViC df."
   ]
  },
  {
   "cell_type": "code",
   "execution_count": 30,
   "metadata": {},
   "outputs": [
    {
     "data": {
      "text/html": [
       "<div>\n",
       "<style scoped>\n",
       "    .dataframe tbody tr th:only-of-type {\n",
       "        vertical-align: middle;\n",
       "    }\n",
       "\n",
       "    .dataframe tbody tr th {\n",
       "        vertical-align: top;\n",
       "    }\n",
       "\n",
       "    .dataframe thead th {\n",
       "        text-align: right;\n",
       "    }\n",
       "</style>\n",
       "<table border=\"1\" class=\"dataframe\">\n",
       "  <thead>\n",
       "    <tr style=\"text-align: right;\">\n",
       "      <th></th>\n",
       "      <th>variant_id</th>\n",
       "      <th>query</th>\n",
       "      <th>query_type</th>\n",
       "      <th>civic_variant_types</th>\n",
       "      <th>normalization_status</th>\n",
       "      <th>variant flag</th>\n",
       "      <th>category</th>\n",
       "    </tr>\n",
       "  </thead>\n",
       "  <tbody>\n",
       "    <tr>\n",
       "      <th>78</th>\n",
       "      <td>1630</td>\n",
       "      <td>FLT3 Y591_V592INSVDFREYE</td>\n",
       "      <td>protein</td>\n",
       "      <td>Missense Variant</td>\n",
       "      <td>not_normalized</td>\n",
       "      <td>False</td>\n",
       "      <td>Sequence</td>\n",
       "    </tr>\n",
       "    <tr>\n",
       "      <th>79</th>\n",
       "      <td>3724</td>\n",
       "      <td>AR Y763C</td>\n",
       "      <td>protein</td>\n",
       "      <td>Missense Variant</td>\n",
       "      <td>not_normalized</td>\n",
       "      <td>False</td>\n",
       "      <td>Sequence</td>\n",
       "    </tr>\n",
       "    <tr>\n",
       "      <th>80</th>\n",
       "      <td>5189</td>\n",
       "      <td>BRAF DELL485_P490INSY</td>\n",
       "      <td>protein</td>\n",
       "      <td>Missense Variant</td>\n",
       "      <td>not_normalized</td>\n",
       "      <td>False</td>\n",
       "      <td>Sequence</td>\n",
       "    </tr>\n",
       "    <tr>\n",
       "      <th>81</th>\n",
       "      <td>4777</td>\n",
       "      <td>HNRNPH1 NON-CODING MUTATIONS</td>\n",
       "      <td>protein</td>\n",
       "      <td>Region-Defined Variant</td>\n",
       "      <td>not_normalized</td>\n",
       "      <td>False</td>\n",
       "      <td>Region-Defined</td>\n",
       "    </tr>\n",
       "    <tr>\n",
       "      <th>82</th>\n",
       "      <td>151</td>\n",
       "      <td>BCL2 REG_E@[IGH]::BCL2</td>\n",
       "      <td>protein</td>\n",
       "      <td>Transcript Regulatory Region Fusion</td>\n",
       "      <td>not_normalized</td>\n",
       "      <td>False</td>\n",
       "      <td>NaN</td>\n",
       "    </tr>\n",
       "  </tbody>\n",
       "</table>\n",
       "</div>"
      ],
      "text/plain": [
       "    variant_id                         query query_type  \\\n",
       "78        1630      FLT3 Y591_V592INSVDFREYE    protein   \n",
       "79        3724                      AR Y763C    protein   \n",
       "80        5189         BRAF DELL485_P490INSY    protein   \n",
       "81        4777  HNRNPH1 NON-CODING MUTATIONS    protein   \n",
       "82         151        BCL2 REG_E@[IGH]::BCL2    protein   \n",
       "\n",
       "                    civic_variant_types normalization_status  variant flag  \\\n",
       "78                     Missense Variant       not_normalized         False   \n",
       "79                     Missense Variant       not_normalized         False   \n",
       "80                     Missense Variant       not_normalized         False   \n",
       "81               Region-Defined Variant       not_normalized         False   \n",
       "82  Transcript Regulatory Region Fusion       not_normalized         False   \n",
       "\n",
       "          category  \n",
       "78        Sequence  \n",
       "79        Sequence  \n",
       "80        Sequence  \n",
       "81  Region-Defined  \n",
       "82             NaN  "
      ]
     },
     "execution_count": 30,
     "metadata": {},
     "output_type": "execute_result"
    }
   ],
   "source": [
    "civic_supported_df[\"category\"] = civic_supported_df[\"civic_variant_types\"].map(\n",
    "    CIVIC_CATEGORY_BINS\n",
    ")\n",
    "civic_supported_df.tail()"
   ]
  },
  {
   "cell_type": "markdown",
   "metadata": {},
   "source": [
    "Split df by normalized/not_normalized flag"
   ]
  },
  {
   "cell_type": "code",
   "execution_count": 31,
   "metadata": {},
   "outputs": [
    {
     "data": {
      "text/html": [
       "<div>\n",
       "<style scoped>\n",
       "    .dataframe tbody tr th:only-of-type {\n",
       "        vertical-align: middle;\n",
       "    }\n",
       "\n",
       "    .dataframe tbody tr th {\n",
       "        vertical-align: top;\n",
       "    }\n",
       "\n",
       "    .dataframe thead th {\n",
       "        text-align: right;\n",
       "    }\n",
       "</style>\n",
       "<table border=\"1\" class=\"dataframe\">\n",
       "  <thead>\n",
       "    <tr style=\"text-align: right;\">\n",
       "      <th></th>\n",
       "      <th>variant_id</th>\n",
       "      <th>query</th>\n",
       "      <th>query_type</th>\n",
       "      <th>civic_variant_types</th>\n",
       "      <th>normalization_status</th>\n",
       "      <th>variant flag</th>\n",
       "      <th>category</th>\n",
       "    </tr>\n",
       "  </thead>\n",
       "  <tbody>\n",
       "    <tr>\n",
       "      <th>0</th>\n",
       "      <td>2489</td>\n",
       "      <td>NC_000003.11:G.10191648_10191649INSC</td>\n",
       "      <td>genomic</td>\n",
       "      <td>Stop Lost</td>\n",
       "      <td>normalized</td>\n",
       "      <td>False</td>\n",
       "      <td>Sequence</td>\n",
       "    </tr>\n",
       "    <tr>\n",
       "      <th>1</th>\n",
       "      <td>1988</td>\n",
       "      <td>NC_000003.11:G.10191649A&gt;T</td>\n",
       "      <td>genomic</td>\n",
       "      <td>Stop Lost</td>\n",
       "      <td>normalized</td>\n",
       "      <td>False</td>\n",
       "      <td>Sequence</td>\n",
       "    </tr>\n",
       "    <tr>\n",
       "      <th>2</th>\n",
       "      <td>2488</td>\n",
       "      <td>3-10191647-T-G</td>\n",
       "      <td>genomic</td>\n",
       "      <td>Stop Lost</td>\n",
       "      <td>normalized</td>\n",
       "      <td>False</td>\n",
       "      <td>Sequence</td>\n",
       "    </tr>\n",
       "    <tr>\n",
       "      <th>3</th>\n",
       "      <td>1986</td>\n",
       "      <td>NC_000003.11:G.10191648G&gt;T</td>\n",
       "      <td>genomic</td>\n",
       "      <td>Stop Lost</td>\n",
       "      <td>normalized</td>\n",
       "      <td>False</td>\n",
       "      <td>Sequence</td>\n",
       "    </tr>\n",
       "    <tr>\n",
       "      <th>4</th>\n",
       "      <td>1987</td>\n",
       "      <td>NC_000003.11:G.10191649A&gt;G</td>\n",
       "      <td>genomic</td>\n",
       "      <td>Stop Lost</td>\n",
       "      <td>normalized</td>\n",
       "      <td>False</td>\n",
       "      <td>Sequence</td>\n",
       "    </tr>\n",
       "    <tr>\n",
       "      <th>...</th>\n",
       "      <td>...</td>\n",
       "      <td>...</td>\n",
       "      <td>...</td>\n",
       "      <td>...</td>\n",
       "      <td>...</td>\n",
       "      <td>...</td>\n",
       "      <td>...</td>\n",
       "    </tr>\n",
       "    <tr>\n",
       "      <th>2010</th>\n",
       "      <td>877</td>\n",
       "      <td>NC_000020.11:G.58903752C&gt;T</td>\n",
       "      <td>genomic</td>\n",
       "      <td>Synonymous Variant</td>\n",
       "      <td>normalized</td>\n",
       "      <td>False</td>\n",
       "      <td>Sequence</td>\n",
       "    </tr>\n",
       "    <tr>\n",
       "      <th>2011</th>\n",
       "      <td>731</td>\n",
       "      <td>NC_000003.11:G.37056036G&gt;A</td>\n",
       "      <td>genomic</td>\n",
       "      <td>Splice Donor Variant</td>\n",
       "      <td>normalized</td>\n",
       "      <td>False</td>\n",
       "      <td>Region-Defined</td>\n",
       "    </tr>\n",
       "    <tr>\n",
       "      <th>2012</th>\n",
       "      <td>3045</td>\n",
       "      <td>VHL P.F76DEL</td>\n",
       "      <td>protein</td>\n",
       "      <td>Missense Variant</td>\n",
       "      <td>normalized</td>\n",
       "      <td>False</td>\n",
       "      <td>Sequence</td>\n",
       "    </tr>\n",
       "    <tr>\n",
       "      <th>2013</th>\n",
       "      <td>3310</td>\n",
       "      <td>HDAC9 P.L33R</td>\n",
       "      <td>protein</td>\n",
       "      <td>Missense Variant</td>\n",
       "      <td>normalized</td>\n",
       "      <td>False</td>\n",
       "      <td>Sequence</td>\n",
       "    </tr>\n",
       "    <tr>\n",
       "      <th>2014</th>\n",
       "      <td>5102</td>\n",
       "      <td>NF1 P.W426*</td>\n",
       "      <td>protein</td>\n",
       "      <td>Missense Variant</td>\n",
       "      <td>normalized</td>\n",
       "      <td>False</td>\n",
       "      <td>Sequence</td>\n",
       "    </tr>\n",
       "  </tbody>\n",
       "</table>\n",
       "<p>2015 rows × 7 columns</p>\n",
       "</div>"
      ],
      "text/plain": [
       "      variant_id                                 query query_type  \\\n",
       "0           2489  NC_000003.11:G.10191648_10191649INSC    genomic   \n",
       "1           1988            NC_000003.11:G.10191649A>T    genomic   \n",
       "2           2488                        3-10191647-T-G    genomic   \n",
       "3           1986            NC_000003.11:G.10191648G>T    genomic   \n",
       "4           1987            NC_000003.11:G.10191649A>G    genomic   \n",
       "...          ...                                   ...        ...   \n",
       "2010         877            NC_000020.11:G.58903752C>T    genomic   \n",
       "2011         731            NC_000003.11:G.37056036G>A    genomic   \n",
       "2012        3045                          VHL P.F76DEL    protein   \n",
       "2013        3310                          HDAC9 P.L33R    protein   \n",
       "2014        5102                           NF1 P.W426*    protein   \n",
       "\n",
       "       civic_variant_types normalization_status  variant flag        category  \n",
       "0                Stop Lost           normalized         False        Sequence  \n",
       "1                Stop Lost           normalized         False        Sequence  \n",
       "2                Stop Lost           normalized         False        Sequence  \n",
       "3                Stop Lost           normalized         False        Sequence  \n",
       "4                Stop Lost           normalized         False        Sequence  \n",
       "...                    ...                  ...           ...             ...  \n",
       "2010    Synonymous Variant           normalized         False        Sequence  \n",
       "2011  Splice Donor Variant           normalized         False  Region-Defined  \n",
       "2012      Missense Variant           normalized         False        Sequence  \n",
       "2013      Missense Variant           normalized         False        Sequence  \n",
       "2014      Missense Variant           normalized         False        Sequence  \n",
       "\n",
       "[2015 rows x 7 columns]"
      ]
     },
     "execution_count": 31,
     "metadata": {},
     "output_type": "execute_result"
    }
   ],
   "source": [
    "civic_normalized_df_cats = civic_supported_df[\n",
    "    civic_supported_df[\"normalization_status\"] == \"normalized\"\n",
    "]\n",
    "civic_normalized_df_cats"
   ]
  },
  {
   "cell_type": "code",
   "execution_count": 32,
   "metadata": {},
   "outputs": [
    {
     "data": {
      "text/html": [
       "<div>\n",
       "<style scoped>\n",
       "    .dataframe tbody tr th:only-of-type {\n",
       "        vertical-align: middle;\n",
       "    }\n",
       "\n",
       "    .dataframe tbody tr th {\n",
       "        vertical-align: top;\n",
       "    }\n",
       "\n",
       "    .dataframe thead th {\n",
       "        text-align: right;\n",
       "    }\n",
       "</style>\n",
       "<table border=\"1\" class=\"dataframe\">\n",
       "  <thead>\n",
       "    <tr style=\"text-align: right;\">\n",
       "      <th></th>\n",
       "      <th>variant_id</th>\n",
       "      <th>query</th>\n",
       "      <th>query_type</th>\n",
       "      <th>civic_variant_types</th>\n",
       "      <th>normalization_status</th>\n",
       "      <th>variant flag</th>\n",
       "      <th>category</th>\n",
       "    </tr>\n",
       "  </thead>\n",
       "  <tbody>\n",
       "    <tr>\n",
       "      <th>0</th>\n",
       "      <td>748</td>\n",
       "      <td>MLH1 *757L</td>\n",
       "      <td>protein</td>\n",
       "      <td>Stop Lost</td>\n",
       "      <td>not_normalized</td>\n",
       "      <td>False</td>\n",
       "      <td>Sequence</td>\n",
       "    </tr>\n",
       "    <tr>\n",
       "      <th>1</th>\n",
       "      <td>3718</td>\n",
       "      <td>AR A748V</td>\n",
       "      <td>protein</td>\n",
       "      <td>Missense Variant</td>\n",
       "      <td>not_normalized</td>\n",
       "      <td>False</td>\n",
       "      <td>Sequence</td>\n",
       "    </tr>\n",
       "    <tr>\n",
       "      <th>2</th>\n",
       "      <td>3725</td>\n",
       "      <td>AR A765T</td>\n",
       "      <td>protein</td>\n",
       "      <td>Missense Variant</td>\n",
       "      <td>not_normalized</td>\n",
       "      <td>False</td>\n",
       "      <td>Sequence</td>\n",
       "    </tr>\n",
       "    <tr>\n",
       "      <th>3</th>\n",
       "      <td>4485</td>\n",
       "      <td>ERBB2 A775_G776INS YVMA</td>\n",
       "      <td>protein</td>\n",
       "      <td>Missense Variant</td>\n",
       "      <td>not_normalized</td>\n",
       "      <td>False</td>\n",
       "      <td>Sequence</td>\n",
       "    </tr>\n",
       "    <tr>\n",
       "      <th>4</th>\n",
       "      <td>248</td>\n",
       "      <td>TERT C228T</td>\n",
       "      <td>protein</td>\n",
       "      <td>Regulatory Region Variant</td>\n",
       "      <td>not_normalized</td>\n",
       "      <td>False</td>\n",
       "      <td>Region-Defined</td>\n",
       "    </tr>\n",
       "    <tr>\n",
       "      <th>...</th>\n",
       "      <td>...</td>\n",
       "      <td>...</td>\n",
       "      <td>...</td>\n",
       "      <td>...</td>\n",
       "      <td>...</td>\n",
       "      <td>...</td>\n",
       "      <td>...</td>\n",
       "    </tr>\n",
       "    <tr>\n",
       "      <th>78</th>\n",
       "      <td>1630</td>\n",
       "      <td>FLT3 Y591_V592INSVDFREYE</td>\n",
       "      <td>protein</td>\n",
       "      <td>Missense Variant</td>\n",
       "      <td>not_normalized</td>\n",
       "      <td>False</td>\n",
       "      <td>Sequence</td>\n",
       "    </tr>\n",
       "    <tr>\n",
       "      <th>79</th>\n",
       "      <td>3724</td>\n",
       "      <td>AR Y763C</td>\n",
       "      <td>protein</td>\n",
       "      <td>Missense Variant</td>\n",
       "      <td>not_normalized</td>\n",
       "      <td>False</td>\n",
       "      <td>Sequence</td>\n",
       "    </tr>\n",
       "    <tr>\n",
       "      <th>80</th>\n",
       "      <td>5189</td>\n",
       "      <td>BRAF DELL485_P490INSY</td>\n",
       "      <td>protein</td>\n",
       "      <td>Missense Variant</td>\n",
       "      <td>not_normalized</td>\n",
       "      <td>False</td>\n",
       "      <td>Sequence</td>\n",
       "    </tr>\n",
       "    <tr>\n",
       "      <th>81</th>\n",
       "      <td>4777</td>\n",
       "      <td>HNRNPH1 NON-CODING MUTATIONS</td>\n",
       "      <td>protein</td>\n",
       "      <td>Region-Defined Variant</td>\n",
       "      <td>not_normalized</td>\n",
       "      <td>False</td>\n",
       "      <td>Region-Defined</td>\n",
       "    </tr>\n",
       "    <tr>\n",
       "      <th>82</th>\n",
       "      <td>151</td>\n",
       "      <td>BCL2 REG_E@[IGH]::BCL2</td>\n",
       "      <td>protein</td>\n",
       "      <td>Transcript Regulatory Region Fusion</td>\n",
       "      <td>not_normalized</td>\n",
       "      <td>False</td>\n",
       "      <td>NaN</td>\n",
       "    </tr>\n",
       "  </tbody>\n",
       "</table>\n",
       "<p>83 rows × 7 columns</p>\n",
       "</div>"
      ],
      "text/plain": [
       "    variant_id                         query query_type  \\\n",
       "0          748                    MLH1 *757L    protein   \n",
       "1         3718                      AR A748V    protein   \n",
       "2         3725                      AR A765T    protein   \n",
       "3         4485       ERBB2 A775_G776INS YVMA    protein   \n",
       "4          248                    TERT C228T    protein   \n",
       "..         ...                           ...        ...   \n",
       "78        1630      FLT3 Y591_V592INSVDFREYE    protein   \n",
       "79        3724                      AR Y763C    protein   \n",
       "80        5189         BRAF DELL485_P490INSY    protein   \n",
       "81        4777  HNRNPH1 NON-CODING MUTATIONS    protein   \n",
       "82         151        BCL2 REG_E@[IGH]::BCL2    protein   \n",
       "\n",
       "                    civic_variant_types normalization_status  variant flag  \\\n",
       "0                             Stop Lost       not_normalized         False   \n",
       "1                      Missense Variant       not_normalized         False   \n",
       "2                      Missense Variant       not_normalized         False   \n",
       "3                      Missense Variant       not_normalized         False   \n",
       "4             Regulatory Region Variant       not_normalized         False   \n",
       "..                                  ...                  ...           ...   \n",
       "78                     Missense Variant       not_normalized         False   \n",
       "79                     Missense Variant       not_normalized         False   \n",
       "80                     Missense Variant       not_normalized         False   \n",
       "81               Region-Defined Variant       not_normalized         False   \n",
       "82  Transcript Regulatory Region Fusion       not_normalized         False   \n",
       "\n",
       "          category  \n",
       "0         Sequence  \n",
       "1         Sequence  \n",
       "2         Sequence  \n",
       "3         Sequence  \n",
       "4   Region-Defined  \n",
       "..             ...  \n",
       "78        Sequence  \n",
       "79        Sequence  \n",
       "80        Sequence  \n",
       "81  Region-Defined  \n",
       "82             NaN  \n",
       "\n",
       "[83 rows x 7 columns]"
      ]
     },
     "execution_count": 32,
     "metadata": {},
     "output_type": "execute_result"
    }
   ],
   "source": [
    "civic_not_normalized_df_cats = civic_supported_df[\n",
    "    civic_supported_df[\"normalization_status\"] == \"not_normalized\"\n",
    "]\n",
    "civic_not_normalized_df_cats"
   ]
  },
  {
   "cell_type": "markdown",
   "metadata": {},
   "source": [
    "For each df, Get CIViC Variant counts by category and add to counts dictionary"
   ]
  },
  {
   "cell_type": "code",
   "execution_count": 33,
   "metadata": {},
   "outputs": [
    {
     "data": {
      "text/plain": [
       "{'Sequence': 1902, 'Copy Number': 63, 'Region-Defined': 28, 'Other': 1}"
      ]
     },
     "execution_count": 33,
     "metadata": {},
     "output_type": "execute_result"
    }
   ],
   "source": [
    "civic_normalized_category_counts = json.loads(\n",
    "    civic_normalized_df_cats[\"category\"].value_counts().to_json()\n",
    ")\n",
    "civic_normalized_category_counts"
   ]
  },
  {
   "cell_type": "code",
   "execution_count": 34,
   "metadata": {},
   "outputs": [],
   "source": [
    "def add_json_counts(var_category_counts: dict, support_status: Fields) -> None:\n",
    "    \"\"\"given a JSON of variant categories and counts and whether that dataframe represents normalized, not_normalized, or not_supported variants, adds the counts of variants to dictionary of counts\n",
    "\n",
    "    :param var_category_counts: counts of variants in clinvar with variant type information in JSON format.\n",
    "    :param support_status: an int flag to indicate if the variants in the dataframe are normalized (0), unable to be normalized (1), or unsupported (2) by the normalizer\n",
    "    \"\"\"\n",
    "    for category, count in var_category_counts.items():\n",
    "        category_counts[category][support_status] += count\n",
    "        category_counts[category][Fields.TOTAL_COUNT] += count"
   ]
  },
  {
   "cell_type": "code",
   "execution_count": 35,
   "metadata": {},
   "outputs": [
    {
     "data": {
      "text/plain": [
       "{'Sequence': [1902, 0, 0, 1902, 0.0],\n",
       " 'Genotype/Haplotype': [0, 0, 0, 0, 0.0],\n",
       " 'Fusion': [0, 0, 0, 0, 0.0],\n",
       " 'Rearrangement': [0, 0, 0, 0, 0.0],\n",
       " 'Epigenetic Modification': [0, 0, 0, 0, 0.0],\n",
       " 'Copy Number': [63, 0, 0, 63, 0.0],\n",
       " 'Expression': [0, 0, 0, 0, 0.0],\n",
       " 'Gene Function': [0, 0, 0, 0, 0.0],\n",
       " 'Region-Defined': [28, 0, 0, 28, 0.0],\n",
       " 'Genome Feature': [0, 0, 0, 0, 0.0],\n",
       " 'Other': [1, 0, 0, 1, 0.0]}"
      ]
     },
     "execution_count": 35,
     "metadata": {},
     "output_type": "execute_result"
    }
   ],
   "source": [
    "add_json_counts(civic_normalized_category_counts, Fields.NORMALIZED_COUNT)\n",
    "category_counts"
   ]
  },
  {
   "cell_type": "code",
   "execution_count": 36,
   "metadata": {},
   "outputs": [
    {
     "data": {
      "text/plain": [
       "{'Sequence': 78, 'Region-Defined': 3}"
      ]
     },
     "execution_count": 36,
     "metadata": {},
     "output_type": "execute_result"
    }
   ],
   "source": [
    "civic_not_normalized_category_counts = json.loads(\n",
    "    civic_not_normalized_df_cats[\"category\"].value_counts().to_json()\n",
    ")\n",
    "civic_not_normalized_category_counts"
   ]
  },
  {
   "cell_type": "code",
   "execution_count": 37,
   "metadata": {},
   "outputs": [
    {
     "data": {
      "text/plain": [
       "{'Sequence': [1902, 78, 0, 1980, 0.0],\n",
       " 'Genotype/Haplotype': [0, 0, 0, 0, 0.0],\n",
       " 'Fusion': [0, 0, 0, 0, 0.0],\n",
       " 'Rearrangement': [0, 0, 0, 0, 0.0],\n",
       " 'Epigenetic Modification': [0, 0, 0, 0, 0.0],\n",
       " 'Copy Number': [63, 0, 0, 63, 0.0],\n",
       " 'Expression': [0, 0, 0, 0, 0.0],\n",
       " 'Gene Function': [0, 0, 0, 0, 0.0],\n",
       " 'Region-Defined': [28, 3, 0, 31, 0.0],\n",
       " 'Genome Feature': [0, 0, 0, 0, 0.0],\n",
       " 'Other': [1, 0, 0, 1, 0.0]}"
      ]
     },
     "execution_count": 37,
     "metadata": {},
     "output_type": "execute_result"
    }
   ],
   "source": [
    "add_json_counts(civic_not_normalized_category_counts, Fields.UNABLE_TO_NORMALIZE_COUNT)\n",
    "category_counts"
   ]
  },
  {
   "cell_type": "markdown",
   "metadata": {},
   "source": [
    "Read in the csv for unsupported variants.  This data was already mapped to categories in civic_variant_analysis.  Therefore, we only need to import the data and perform the count on the category column."
   ]
  },
  {
   "cell_type": "code",
   "execution_count": 38,
   "metadata": {},
   "outputs": [
    {
     "name": "stdout",
     "output_type": "stream",
     "text": [
      "(1747, 6)\n"
     ]
    },
    {
     "data": {
      "text/html": [
       "<div>\n",
       "<style scoped>\n",
       "    .dataframe tbody tr th:only-of-type {\n",
       "        vertical-align: middle;\n",
       "    }\n",
       "\n",
       "    .dataframe tbody tr th {\n",
       "        vertical-align: top;\n",
       "    }\n",
       "\n",
       "    .dataframe thead th {\n",
       "        text-align: right;\n",
       "    }\n",
       "</style>\n",
       "<table border=\"1\" class=\"dataframe\">\n",
       "  <thead>\n",
       "    <tr style=\"text-align: right;\">\n",
       "      <th></th>\n",
       "      <th>variant_id</th>\n",
       "      <th>gene_name</th>\n",
       "      <th>variant_name</th>\n",
       "      <th>civic_variant_types</th>\n",
       "      <th>category</th>\n",
       "      <th>variant_accepted</th>\n",
       "    </tr>\n",
       "  </thead>\n",
       "  <tbody>\n",
       "    <tr>\n",
       "      <th>0</th>\n",
       "      <td>4170</td>\n",
       "      <td>VHL</td>\n",
       "      <td>NaN</td>\n",
       "      <td>Not provided</td>\n",
       "      <td>Transcript</td>\n",
       "      <td>False</td>\n",
       "    </tr>\n",
       "    <tr>\n",
       "      <th>1</th>\n",
       "      <td>4214</td>\n",
       "      <td>VHL</td>\n",
       "      <td>NaN</td>\n",
       "      <td>Not provided</td>\n",
       "      <td>Transcript</td>\n",
       "      <td>False</td>\n",
       "    </tr>\n",
       "    <tr>\n",
       "      <th>2</th>\n",
       "      <td>4216</td>\n",
       "      <td>VHL</td>\n",
       "      <td>NaN</td>\n",
       "      <td>Not provided</td>\n",
       "      <td>Transcript</td>\n",
       "      <td>False</td>\n",
       "    </tr>\n",
       "    <tr>\n",
       "      <th>3</th>\n",
       "      <td>4278</td>\n",
       "      <td>VHL</td>\n",
       "      <td>NaN</td>\n",
       "      <td>Not provided</td>\n",
       "      <td>Transcript</td>\n",
       "      <td>False</td>\n",
       "    </tr>\n",
       "    <tr>\n",
       "      <th>4</th>\n",
       "      <td>4232</td>\n",
       "      <td>BRCA1</td>\n",
       "      <td>NaN</td>\n",
       "      <td>Not provided</td>\n",
       "      <td>Transcript</td>\n",
       "      <td>False</td>\n",
       "    </tr>\n",
       "  </tbody>\n",
       "</table>\n",
       "</div>"
      ],
      "text/plain": [
       "   variant_id gene_name variant_name civic_variant_types    category  \\\n",
       "0        4170       VHL          NaN        Not provided  Transcript   \n",
       "1        4214       VHL          NaN        Not provided  Transcript   \n",
       "2        4216       VHL          NaN        Not provided  Transcript   \n",
       "3        4278       VHL          NaN        Not provided  Transcript   \n",
       "4        4232     BRCA1          NaN        Not provided  Transcript   \n",
       "\n",
       "   variant_accepted  \n",
       "0             False  \n",
       "1             False  \n",
       "2             False  \n",
       "3             False  \n",
       "4             False  "
      ]
     },
     "execution_count": 38,
     "metadata": {},
     "output_type": "execute_result"
    }
   ],
   "source": [
    "not_supported_variants = pd.read_csv(\n",
    "    \"../civic/variation_analysis/not_supported_variants.tsv\", sep=\"\\t\"\n",
    ")\n",
    "print(not_supported_variants.shape)\n",
    "not_supported_variants.head()"
   ]
  },
  {
   "cell_type": "markdown",
   "metadata": {},
   "source": [
    "Checking Counts."
   ]
  },
  {
   "cell_type": "code",
   "execution_count": 39,
   "metadata": {},
   "outputs": [
    {
     "data": {
      "text/plain": [
       "category\n",
       "Transcript                 362\n",
       "Fusion                     313\n",
       "Expression                 294\n",
       "Region-Defined             255\n",
       "Sequence                   133\n",
       "Rearrangement              122\n",
       "Gene Function              111\n",
       "Other                       79\n",
       "Copy Number                 32\n",
       "Genotype/Haplotype          22\n",
       "Epigenetic Modification     14\n",
       "Genome Feature              10\n",
       "Name: count, dtype: int64"
      ]
     },
     "execution_count": 39,
     "metadata": {},
     "output_type": "execute_result"
    }
   ],
   "source": [
    "not_supported_variants[\"category\"].value_counts()"
   ]
  },
  {
   "cell_type": "markdown",
   "metadata": {},
   "source": [
    "There is one small discrepancies here - the variants labelled as \"Transcript Variants\" here should be binned under \"Sequence Variants\""
   ]
  },
  {
   "cell_type": "code",
   "execution_count": 40,
   "metadata": {},
   "outputs": [],
   "source": [
    "not_supported_variants[\"category\"].replace(\n",
    "    \"Transcript\", \"Sequence\", inplace=True\n",
    ")"
   ]
  },
  {
   "cell_type": "code",
   "execution_count": 41,
   "metadata": {},
   "outputs": [
    {
     "data": {
      "text/plain": [
       "{'Sequence': 495,\n",
       " 'Fusion': 313,\n",
       " 'Expression': 294,\n",
       " 'Region-Defined': 255,\n",
       " 'Rearrangement': 122,\n",
       " 'Gene Function': 111,\n",
       " 'Other': 79,\n",
       " 'Copy Number': 32,\n",
       " 'Genotype/Haplotype': 22,\n",
       " 'Epigenetic Modification': 14,\n",
       " 'Genome Feature': 10}"
      ]
     },
     "execution_count": 41,
     "metadata": {},
     "output_type": "execute_result"
    }
   ],
   "source": [
    "not_supported_variants_category_counts = json.loads(\n",
    "    not_supported_variants[\"category\"].value_counts().to_json()\n",
    ")\n",
    "not_supported_variants_category_counts"
   ]
  },
  {
   "cell_type": "code",
   "execution_count": 42,
   "metadata": {},
   "outputs": [
    {
     "data": {
      "text/plain": [
       "{'Sequence': [1902, 78, 495, 2475, 0.0],\n",
       " 'Genotype/Haplotype': [0, 0, 22, 22, 0.0],\n",
       " 'Fusion': [0, 0, 313, 313, 0.0],\n",
       " 'Rearrangement': [0, 0, 122, 122, 0.0],\n",
       " 'Epigenetic Modification': [0, 0, 14, 14, 0.0],\n",
       " 'Copy Number': [63, 0, 32, 95, 0.0],\n",
       " 'Expression': [0, 0, 294, 294, 0.0],\n",
       " 'Gene Function': [0, 0, 111, 111, 0.0],\n",
       " 'Region-Defined': [28, 3, 255, 286, 0.0],\n",
       " 'Genome Feature': [0, 0, 10, 10, 0.0],\n",
       " 'Other': [1, 0, 79, 80, 0.0]}"
      ]
     },
     "execution_count": 42,
     "metadata": {},
     "output_type": "execute_result"
    }
   ],
   "source": [
    "add_json_counts(not_supported_variants_category_counts, Fields.UNSUPPORTED_COUNT)\n",
    "category_counts"
   ]
  },
  {
   "cell_type": "markdown",
   "metadata": {},
   "source": [
    "## <a id='toc1_4_'></a>[MOA](#toc0_)\n",
    "\n",
    "Read MOA .csv file for Normalized variants"
   ]
  },
  {
   "cell_type": "code",
   "execution_count": 44,
   "metadata": {},
   "outputs": [
    {
     "name": "stdout",
     "output_type": "stream",
     "text": [
      "(196, 5)\n"
     ]
    },
    {
     "data": {
      "text/html": [
       "<div>\n",
       "<style scoped>\n",
       "    .dataframe tbody tr th:only-of-type {\n",
       "        vertical-align: middle;\n",
       "    }\n",
       "\n",
       "    .dataframe tbody tr th {\n",
       "        vertical-align: top;\n",
       "    }\n",
       "\n",
       "    .dataframe thead th {\n",
       "        text-align: right;\n",
       "    }\n",
       "</style>\n",
       "<table border=\"1\" class=\"dataframe\">\n",
       "  <thead>\n",
       "    <tr style=\"text-align: right;\">\n",
       "      <th></th>\n",
       "      <th>variant_id</th>\n",
       "      <th>query</th>\n",
       "      <th>moa_feature_type</th>\n",
       "      <th>category</th>\n",
       "      <th>vrs_id</th>\n",
       "    </tr>\n",
       "  </thead>\n",
       "  <tbody>\n",
       "    <tr>\n",
       "      <th>0</th>\n",
       "      <td>66</td>\n",
       "      <td>ABL1 p.T315I</td>\n",
       "      <td>somatic_variant</td>\n",
       "      <td>Sequence</td>\n",
       "      <td>ga4gh:VA.D6NzpWXKqBnbcZZrXNSXj4tMUwROKbsQ</td>\n",
       "    </tr>\n",
       "    <tr>\n",
       "      <th>1</th>\n",
       "      <td>68</td>\n",
       "      <td>ABL1 p.T315A</td>\n",
       "      <td>somatic_variant</td>\n",
       "      <td>Sequence</td>\n",
       "      <td>ga4gh:VA.37YVc2HpRgXOq3HtsjcL1eiyLhDXLmYy</td>\n",
       "    </tr>\n",
       "    <tr>\n",
       "      <th>2</th>\n",
       "      <td>70</td>\n",
       "      <td>ABL1 p.F317L</td>\n",
       "      <td>somatic_variant</td>\n",
       "      <td>Sequence</td>\n",
       "      <td>ga4gh:VA.ZJZc_8PkTSu-twmaJvj6yQXvPJHElPZc</td>\n",
       "    </tr>\n",
       "    <tr>\n",
       "      <th>3</th>\n",
       "      <td>71</td>\n",
       "      <td>ABL1 p.F317V</td>\n",
       "      <td>somatic_variant</td>\n",
       "      <td>Sequence</td>\n",
       "      <td>ga4gh:VA.SnGz3wUT2JaIid12PoI6OHc4t7LgHVj1</td>\n",
       "    </tr>\n",
       "    <tr>\n",
       "      <th>4</th>\n",
       "      <td>72</td>\n",
       "      <td>ABL1 p.F317I</td>\n",
       "      <td>somatic_variant</td>\n",
       "      <td>Sequence</td>\n",
       "      <td>ga4gh:VA.wDDVWfpuxnuYkLj5_0OrnaBvrJAXYcJA</td>\n",
       "    </tr>\n",
       "  </tbody>\n",
       "</table>\n",
       "</div>"
      ],
      "text/plain": [
       "   variant_id         query moa_feature_type  category  \\\n",
       "0          66  ABL1 p.T315I  somatic_variant  Sequence   \n",
       "1          68  ABL1 p.T315A  somatic_variant  Sequence   \n",
       "2          70  ABL1 p.F317L  somatic_variant  Sequence   \n",
       "3          71  ABL1 p.F317V  somatic_variant  Sequence   \n",
       "4          72  ABL1 p.F317I  somatic_variant  Sequence   \n",
       "\n",
       "                                      vrs_id  \n",
       "0  ga4gh:VA.D6NzpWXKqBnbcZZrXNSXj4tMUwROKbsQ  \n",
       "1  ga4gh:VA.37YVc2HpRgXOq3HtsjcL1eiyLhDXLmYy  \n",
       "2  ga4gh:VA.ZJZc_8PkTSu-twmaJvj6yQXvPJHElPZc  \n",
       "3  ga4gh:VA.SnGz3wUT2JaIid12PoI6OHc4t7LgHVj1  \n",
       "4  ga4gh:VA.wDDVWfpuxnuYkLj5_0OrnaBvrJAXYcJA  "
      ]
     },
     "execution_count": 44,
     "metadata": {},
     "output_type": "execute_result"
    }
   ],
   "source": [
    "moa_normalized_df = pd.read_csv(\n",
    "    \"../moa/feature_analysis/able_to_normalize_queries.tsv\", sep=\"\\t\"\n",
    ")\n",
    "print(moa_normalized_df.shape)\n",
    "moa_normalized_df.head()"
   ]
  },
  {
   "cell_type": "markdown",
   "metadata": {},
   "source": [
    "Get variant counts by category, update variant counts df "
   ]
  },
  {
   "cell_type": "code",
   "execution_count": 45,
   "metadata": {},
   "outputs": [
    {
     "data": {
      "text/plain": [
       "{'Sequence': 159, 'Copy Number': 31, 'Gene Function': 6}"
      ]
     },
     "execution_count": 45,
     "metadata": {},
     "output_type": "execute_result"
    }
   ],
   "source": [
    "moa_normalized_category_counts = json.loads(\n",
    "    moa_normalized_df[\"category\"].value_counts().to_json()\n",
    ")\n",
    "moa_normalized_category_counts"
   ]
  },
  {
   "cell_type": "code",
   "execution_count": 46,
   "metadata": {},
   "outputs": [
    {
     "data": {
      "text/plain": [
       "{'Sequence': [2061, 78, 495, 2634, 0.0],\n",
       " 'Genotype/Haplotype': [0, 0, 22, 22, 0.0],\n",
       " 'Fusion': [0, 0, 313, 313, 0.0],\n",
       " 'Rearrangement': [0, 0, 122, 122, 0.0],\n",
       " 'Epigenetic Modification': [0, 0, 14, 14, 0.0],\n",
       " 'Copy Number': [94, 0, 32, 126, 0.0],\n",
       " 'Expression': [0, 0, 294, 294, 0.0],\n",
       " 'Gene Function': [6, 0, 111, 117, 0.0],\n",
       " 'Region-Defined': [28, 3, 255, 286, 0.0],\n",
       " 'Genome Feature': [0, 0, 10, 10, 0.0],\n",
       " 'Other': [1, 0, 79, 80, 0.0]}"
      ]
     },
     "execution_count": 46,
     "metadata": {},
     "output_type": "execute_result"
    }
   ],
   "source": [
    "add_json_counts(moa_normalized_category_counts, Fields.NORMALIZED_COUNT)\n",
    "category_counts"
   ]
  },
  {
   "cell_type": "markdown",
   "metadata": {},
   "source": [
    "Repeat same process for variants that were supported but failed to normalize."
   ]
  },
  {
   "cell_type": "code",
   "execution_count": 48,
   "metadata": {},
   "outputs": [
    {
     "name": "stdout",
     "output_type": "stream",
     "text": [
      "(0, 7)\n"
     ]
    },
    {
     "data": {
      "text/html": [
       "<div>\n",
       "<style scoped>\n",
       "    .dataframe tbody tr th:only-of-type {\n",
       "        vertical-align: middle;\n",
       "    }\n",
       "\n",
       "    .dataframe tbody tr th {\n",
       "        vertical-align: top;\n",
       "    }\n",
       "\n",
       "    .dataframe thead th {\n",
       "        text-align: right;\n",
       "    }\n",
       "</style>\n",
       "<table border=\"1\" class=\"dataframe\">\n",
       "  <thead>\n",
       "    <tr style=\"text-align: right;\">\n",
       "      <th></th>\n",
       "      <th>variant_id</th>\n",
       "      <th>query</th>\n",
       "      <th>moa_feature_type</th>\n",
       "      <th>category</th>\n",
       "      <th>exception_raised</th>\n",
       "      <th>message</th>\n",
       "      <th>warnings</th>\n",
       "    </tr>\n",
       "  </thead>\n",
       "  <tbody>\n",
       "  </tbody>\n",
       "</table>\n",
       "</div>"
      ],
      "text/plain": [
       "Empty DataFrame\n",
       "Columns: [variant_id, query, moa_feature_type, category, exception_raised, message, warnings]\n",
       "Index: []"
      ]
     },
     "execution_count": 48,
     "metadata": {},
     "output_type": "execute_result"
    }
   ],
   "source": [
    "moa_not_normalized_df = pd.read_csv(\n",
    "    \"../moa/feature_analysis/unable_to_normalize_queries.tsv\", sep=\"\\t\"\n",
    ")\n",
    "print(moa_not_normalized_df.shape)\n",
    "moa_not_normalized_df.head()"
   ]
  },
  {
   "cell_type": "code",
   "execution_count": 49,
   "metadata": {},
   "outputs": [
    {
     "data": {
      "text/plain": [
       "{}"
      ]
     },
     "execution_count": 49,
     "metadata": {},
     "output_type": "execute_result"
    }
   ],
   "source": [
    "moa_not_normalized_category_counts = json.loads(\n",
    "    moa_not_normalized_df[\"category\"].value_counts().to_json()\n",
    ")\n",
    "moa_not_normalized_category_counts"
   ]
  },
  {
   "cell_type": "code",
   "execution_count": 50,
   "metadata": {},
   "outputs": [
    {
     "data": {
      "text/plain": [
       "{'Sequence': [2061, 78, 495, 2634, 0.0],\n",
       " 'Genotype/Haplotype': [0, 0, 22, 22, 0.0],\n",
       " 'Fusion': [0, 0, 313, 313, 0.0],\n",
       " 'Rearrangement': [0, 0, 122, 122, 0.0],\n",
       " 'Epigenetic Modification': [0, 0, 14, 14, 0.0],\n",
       " 'Copy Number': [94, 0, 32, 126, 0.0],\n",
       " 'Expression': [0, 0, 294, 294, 0.0],\n",
       " 'Gene Function': [6, 0, 111, 117, 0.0],\n",
       " 'Region-Defined': [28, 3, 255, 286, 0.0],\n",
       " 'Genome Feature': [0, 0, 10, 10, 0.0],\n",
       " 'Other': [1, 0, 79, 80, 0.0]}"
      ]
     },
     "execution_count": 50,
     "metadata": {},
     "output_type": "execute_result"
    }
   ],
   "source": [
    "add_json_counts(moa_not_normalized_category_counts, Fields.UNABLE_TO_NORMALIZE_COUNT)\n",
    "category_counts"
   ]
  },
  {
   "cell_type": "markdown",
   "metadata": {},
   "source": [
    "Repeat same process for variants that are unsupported."
   ]
  },
  {
   "cell_type": "code",
   "execution_count": 52,
   "metadata": {},
   "outputs": [
    {
     "name": "stdout",
     "output_type": "stream",
     "text": [
      "(256, 4)\n",
      "   variant_id                        query moa_feature_type       category\n",
      "0           1             BCR--ABL1 Fusion    rearrangement  Rearrangement\n",
      "1           9                   ALK Fusion    rearrangement  Rearrangement\n",
      "2          12                          ALK    rearrangement  Rearrangement\n",
      "3          15            ALK Translocation    rearrangement  Rearrangement\n",
      "4          18  BRD4 t(15;19) Translocation    rearrangement  Rearrangement\n"
     ]
    },
    {
     "data": {
      "text/plain": [
       "category\n",
       "Sequence          127\n",
       "Region-Defined     40\n",
       "Rearrangement      35\n",
       "Copy Number        23\n",
       "Other              12\n",
       "Expression         11\n",
       "Gene Function       8\n",
       "Name: count, dtype: int64"
      ]
     },
     "execution_count": 52,
     "metadata": {},
     "output_type": "execute_result"
    }
   ],
   "source": [
    "moa_not_supported_df = pd.read_csv(\n",
    "    \"../moa/feature_analysis/not_supported_variants.tsv\", sep=\"\\t\"\n",
    ")\n",
    "print(moa_not_supported_df.shape)\n",
    "print(moa_not_supported_df.head())\n",
    "moa_not_supported_df[\"category\"].value_counts(dropna=False)"
   ]
  },
  {
   "cell_type": "code",
   "execution_count": 53,
   "metadata": {},
   "outputs": [
    {
     "data": {
      "text/plain": [
       "{'Sequence': 127,\n",
       " 'Region-Defined': 40,\n",
       " 'Rearrangement': 35,\n",
       " 'Copy Number': 23,\n",
       " 'Other': 12,\n",
       " 'Expression': 11,\n",
       " 'Gene Function': 8}"
      ]
     },
     "execution_count": 53,
     "metadata": {},
     "output_type": "execute_result"
    }
   ],
   "source": [
    "moa_not_supported_category_counts = json.loads(\n",
    "    moa_not_supported_df[\"category\"].value_counts().to_json()\n",
    ")\n",
    "moa_not_supported_category_counts"
   ]
  },
  {
   "cell_type": "code",
   "execution_count": 54,
   "metadata": {},
   "outputs": [
    {
     "data": {
      "text/plain": [
       "{'Sequence': [2061, 78, 622, 2761, 0.0],\n",
       " 'Genotype/Haplotype': [0, 0, 22, 22, 0.0],\n",
       " 'Fusion': [0, 0, 313, 313, 0.0],\n",
       " 'Rearrangement': [0, 0, 157, 157, 0.0],\n",
       " 'Epigenetic Modification': [0, 0, 14, 14, 0.0],\n",
       " 'Copy Number': [94, 0, 55, 149, 0.0],\n",
       " 'Expression': [0, 0, 305, 305, 0.0],\n",
       " 'Gene Function': [6, 0, 119, 125, 0.0],\n",
       " 'Region-Defined': [28, 3, 295, 326, 0.0],\n",
       " 'Genome Feature': [0, 0, 10, 10, 0.0],\n",
       " 'Other': [1, 0, 91, 92, 0.0]}"
      ]
     },
     "execution_count": 54,
     "metadata": {},
     "output_type": "execute_result"
    }
   ],
   "source": [
    "add_json_counts(moa_not_supported_category_counts, Fields.UNSUPPORTED_COUNT)\n",
    "category_counts"
   ]
  },
  {
   "cell_type": "markdown",
   "metadata": {},
   "source": [
    "## <a id='toc1_5_'></a>[ClinVar](#toc0_)\n",
    "\n",
    "Read in the three clinvar csv files."
   ]
  },
  {
   "cell_type": "code",
   "execution_count": 55,
   "metadata": {},
   "outputs": [
    {
     "name": "stdout",
     "output_type": "stream",
     "text": [
      "(20, 4)\n"
     ]
    },
    {
     "data": {
      "text/html": [
       "<div>\n",
       "<style scoped>\n",
       "    .dataframe tbody tr th:only-of-type {\n",
       "        vertical-align: middle;\n",
       "    }\n",
       "\n",
       "    .dataframe tbody tr th {\n",
       "        vertical-align: top;\n",
       "    }\n",
       "\n",
       "    .dataframe thead th {\n",
       "        text-align: right;\n",
       "    }\n",
       "</style>\n",
       "<table border=\"1\" class=\"dataframe\">\n",
       "  <thead>\n",
       "    <tr style=\"text-align: right;\">\n",
       "      <th></th>\n",
       "      <th>Unnamed: 0</th>\n",
       "      <th>in.variation_type</th>\n",
       "      <th>in.vrs_xform_plan.policy</th>\n",
       "      <th>count</th>\n",
       "    </tr>\n",
       "  </thead>\n",
       "  <tbody>\n",
       "    <tr>\n",
       "      <th>0</th>\n",
       "      <td>0</td>\n",
       "      <td>single nucleotide variant</td>\n",
       "      <td>Canonical SPDI</td>\n",
       "      <td>1934692</td>\n",
       "    </tr>\n",
       "    <tr>\n",
       "      <th>1</th>\n",
       "      <td>1</td>\n",
       "      <td>Deletion</td>\n",
       "      <td>Canonical SPDI</td>\n",
       "      <td>92875</td>\n",
       "    </tr>\n",
       "    <tr>\n",
       "      <th>2</th>\n",
       "      <td>2</td>\n",
       "      <td>Duplication</td>\n",
       "      <td>Canonical SPDI</td>\n",
       "      <td>43185</td>\n",
       "    </tr>\n",
       "    <tr>\n",
       "      <th>3</th>\n",
       "      <td>3</td>\n",
       "      <td>copy number loss</td>\n",
       "      <td>Absolute copy count</td>\n",
       "      <td>26857</td>\n",
       "    </tr>\n",
       "    <tr>\n",
       "      <th>4</th>\n",
       "      <td>4</td>\n",
       "      <td>Microsatellite</td>\n",
       "      <td>Canonical SPDI</td>\n",
       "      <td>26678</td>\n",
       "    </tr>\n",
       "    <tr>\n",
       "      <th>5</th>\n",
       "      <td>5</td>\n",
       "      <td>copy number gain</td>\n",
       "      <td>Absolute copy count</td>\n",
       "      <td>25583</td>\n",
       "    </tr>\n",
       "    <tr>\n",
       "      <th>6</th>\n",
       "      <td>6</td>\n",
       "      <td>Deletion</td>\n",
       "      <td>Copy number change (cn loss|del and cn gain|dup)</td>\n",
       "      <td>16249</td>\n",
       "    </tr>\n",
       "    <tr>\n",
       "      <th>7</th>\n",
       "      <td>7</td>\n",
       "      <td>Indel</td>\n",
       "      <td>Canonical SPDI</td>\n",
       "      <td>10986</td>\n",
       "    </tr>\n",
       "    <tr>\n",
       "      <th>8</th>\n",
       "      <td>8</td>\n",
       "      <td>Insertion</td>\n",
       "      <td>Canonical SPDI</td>\n",
       "      <td>8865</td>\n",
       "    </tr>\n",
       "    <tr>\n",
       "      <th>9</th>\n",
       "      <td>9</td>\n",
       "      <td>Duplication</td>\n",
       "      <td>Copy number change (cn loss|del and cn gain|dup)</td>\n",
       "      <td>8119</td>\n",
       "    </tr>\n",
       "    <tr>\n",
       "      <th>10</th>\n",
       "      <td>10</td>\n",
       "      <td>copy number loss</td>\n",
       "      <td>Copy number change (cn loss|del and cn gain|dup)</td>\n",
       "      <td>1524</td>\n",
       "    </tr>\n",
       "    <tr>\n",
       "      <th>11</th>\n",
       "      <td>11</td>\n",
       "      <td>Inversion</td>\n",
       "      <td>Canonical SPDI</td>\n",
       "      <td>1051</td>\n",
       "    </tr>\n",
       "    <tr>\n",
       "      <th>12</th>\n",
       "      <td>12</td>\n",
       "      <td>copy number gain</td>\n",
       "      <td>Copy number change (cn loss|del and cn gain|dup)</td>\n",
       "      <td>1003</td>\n",
       "    </tr>\n",
       "    <tr>\n",
       "      <th>13</th>\n",
       "      <td>13</td>\n",
       "      <td>single nucleotide variant</td>\n",
       "      <td>Remaining valid hgvs alleles</td>\n",
       "      <td>396</td>\n",
       "    </tr>\n",
       "    <tr>\n",
       "      <th>14</th>\n",
       "      <td>14</td>\n",
       "      <td>Indel</td>\n",
       "      <td>Remaining valid hgvs alleles</td>\n",
       "      <td>340</td>\n",
       "    </tr>\n",
       "    <tr>\n",
       "      <th>15</th>\n",
       "      <td>15</td>\n",
       "      <td>Variation</td>\n",
       "      <td>Canonical SPDI</td>\n",
       "      <td>337</td>\n",
       "    </tr>\n",
       "    <tr>\n",
       "      <th>16</th>\n",
       "      <td>16</td>\n",
       "      <td>Insertion</td>\n",
       "      <td>Remaining valid hgvs alleles</td>\n",
       "      <td>191</td>\n",
       "    </tr>\n",
       "    <tr>\n",
       "      <th>17</th>\n",
       "      <td>17</td>\n",
       "      <td>Deletion</td>\n",
       "      <td>Absolute copy count</td>\n",
       "      <td>3</td>\n",
       "    </tr>\n",
       "    <tr>\n",
       "      <th>18</th>\n",
       "      <td>18</td>\n",
       "      <td>Variation</td>\n",
       "      <td>Remaining valid hgvs alleles</td>\n",
       "      <td>1</td>\n",
       "    </tr>\n",
       "    <tr>\n",
       "      <th>19</th>\n",
       "      <td>19</td>\n",
       "      <td>Duplication</td>\n",
       "      <td>Absolute copy count</td>\n",
       "      <td>1</td>\n",
       "    </tr>\n",
       "  </tbody>\n",
       "</table>\n",
       "</div>"
      ],
      "text/plain": [
       "    Unnamed: 0          in.variation_type  \\\n",
       "0            0  single nucleotide variant   \n",
       "1            1                   Deletion   \n",
       "2            2                Duplication   \n",
       "3            3           copy number loss   \n",
       "4            4             Microsatellite   \n",
       "5            5           copy number gain   \n",
       "6            6                   Deletion   \n",
       "7            7                      Indel   \n",
       "8            8                  Insertion   \n",
       "9            9                Duplication   \n",
       "10          10           copy number loss   \n",
       "11          11                  Inversion   \n",
       "12          12           copy number gain   \n",
       "13          13  single nucleotide variant   \n",
       "14          14                      Indel   \n",
       "15          15                  Variation   \n",
       "16          16                  Insertion   \n",
       "17          17                   Deletion   \n",
       "18          18                  Variation   \n",
       "19          19                Duplication   \n",
       "\n",
       "                            in.vrs_xform_plan.policy    count  \n",
       "0                                     Canonical SPDI  1934692  \n",
       "1                                     Canonical SPDI    92875  \n",
       "2                                     Canonical SPDI    43185  \n",
       "3                                Absolute copy count    26857  \n",
       "4                                     Canonical SPDI    26678  \n",
       "5                                Absolute copy count    25583  \n",
       "6   Copy number change (cn loss|del and cn gain|dup)    16249  \n",
       "7                                     Canonical SPDI    10986  \n",
       "8                                     Canonical SPDI     8865  \n",
       "9   Copy number change (cn loss|del and cn gain|dup)     8119  \n",
       "10  Copy number change (cn loss|del and cn gain|dup)     1524  \n",
       "11                                    Canonical SPDI     1051  \n",
       "12  Copy number change (cn loss|del and cn gain|dup)     1003  \n",
       "13                      Remaining valid hgvs alleles      396  \n",
       "14                      Remaining valid hgvs alleles      340  \n",
       "15                                    Canonical SPDI      337  \n",
       "16                      Remaining valid hgvs alleles      191  \n",
       "17                               Absolute copy count        3  \n",
       "18                      Remaining valid hgvs alleles        1  \n",
       "19                               Absolute copy count        1  "
      ]
     },
     "execution_count": 55,
     "metadata": {},
     "output_type": "execute_result"
    }
   ],
   "source": [
    "clinvar_normalized_df = pd.read_csv(\n",
    "    \"../clinvar/variation_analysis_output/variation_type_count_supported_df.csv\"\n",
    ")\n",
    "print(clinvar_normalized_df.shape)\n",
    "clinvar_normalized_df.head(20)"
   ]
  },
  {
   "cell_type": "code",
   "execution_count": null,
   "metadata": {},
   "outputs": [],
   "source": [
    "clinvar_not_normalized_df = pd.read_csv(\n",
    "    \"../clinvar/variation_analysis_output/variation_type_count_supported_not_normalized_df.csv\"\n",
    ")\n",
    "print(clinvar_not_normalized_df.shape)\n",
    "clinvar_not_normalized_df.head(10)"
   ]
  },
  {
   "cell_type": "code",
   "execution_count": null,
   "metadata": {},
   "outputs": [],
   "source": [
    "clinvar_not_supported_df = pd.read_csv(\n",
    "    \"../clinvar/variation_analysis_output/variation_type_count_not_supported_df.csv\"\n",
    ")\n",
    "print(clinvar_not_supported_df.shape)\n",
    "clinvar_not_supported_df.head(20)"
   ]
  },
  {
   "cell_type": "markdown",
   "metadata": {},
   "source": [
    "Add column and map variant types to categories."
   ]
  },
  {
   "cell_type": "code",
   "execution_count": null,
   "metadata": {},
   "outputs": [],
   "source": [
    "clinvar_normalized_df[\"category\"] = clinvar_normalized_df[\"in.variation_type\"].map(\n",
    "    CLINVAR_CATEGORY_BINS\n",
    ")\n",
    "clinvar_normalized_df.head(20)"
   ]
  },
  {
   "cell_type": "code",
   "execution_count": null,
   "metadata": {},
   "outputs": [],
   "source": [
    "clinvar_not_normalized_df[\"category\"] = clinvar_not_normalized_df[\n",
    "    \"in.variation_type\"\n",
    "].map(CLINVAR_CATEGORY_BINS)\n",
    "clinvar_not_normalized_df.head(20)"
   ]
  },
  {
   "cell_type": "code",
   "execution_count": null,
   "metadata": {},
   "outputs": [],
   "source": [
    "clinvar_not_supported_df[\"category\"] = clinvar_not_supported_df[\n",
    "    \"in.variation_type\"\n",
    "].map(CLINVAR_CATEGORY_BINS)\n",
    "clinvar_not_supported_df.head(20)"
   ]
  },
  {
   "cell_type": "markdown",
   "metadata": {},
   "source": [
    "Due to the structure of the data and the way that the original analysis developed, some but not all CNVs per the in.variation_type were annotated in the in.vrs_xform_plan.policy column as \"Copy number change (cn loss|del and cn gain|dup)\", \"Absolute copy count\", or \"Min/max copy count range not supported\".  However, some of the Copy number Gain/Loss variants did not get binned as CNVs per the in.vrs_xform_plan.policy.  Therefore, we need to mark those variants in the union of the following two sets as being in the category of Copy Number Variants:\n",
    "\n",
    "Variants with in.variant_type ==\n",
    "1. copy number loss\n",
    "2. copy number gain\n",
    "\n",
    "Variants with in.vrs_xform_plan.policy == \n",
    "1. Copy number change (cn loss|del and cn gain|dup)\n",
    "2. Absolute copy count\n",
    "3. Min/max copy count range not supported\n",
    "\n",
    "Above we already caught the first set of variants. Now we must go back through each df one more time and map the variants we missed per in.vrs_xform_plan.policy values to the category of Copy Number Variants."
   ]
  },
  {
   "cell_type": "code",
   "execution_count": null,
   "metadata": {},
   "outputs": [],
   "source": [
    "cnv_per_policy = [\n",
    "    \"Copy number change (cn loss|del and cn gain|dup)\",\n",
    "    \"Absolute copy count\",\n",
    "    \"Min/max copy count range not supported\",\n",
    "    \"Copy number change (cn loss|del and cn gain|dup)\",\n",
    "]"
   ]
  },
  {
   "cell_type": "code",
   "execution_count": null,
   "metadata": {},
   "outputs": [],
   "source": [
    "clinvar_normalized_df.loc[\n",
    "    clinvar_normalized_df[\"in.vrs_xform_plan.policy\"].isin(cnv_per_policy), \"category\"\n",
    "] = \"Copy Number Variants\""
   ]
  },
  {
   "cell_type": "code",
   "execution_count": null,
   "metadata": {},
   "outputs": [],
   "source": [
    "clinvar_normalized_df"
   ]
  },
  {
   "cell_type": "code",
   "execution_count": null,
   "metadata": {},
   "outputs": [],
   "source": [
    "clinvar_not_normalized_df"
   ]
  },
  {
   "cell_type": "code",
   "execution_count": null,
   "metadata": {},
   "outputs": [],
   "source": [
    "clinvar_not_normalized_df.loc[\n",
    "    clinvar_not_normalized_df[\"in.vrs_xform_plan.policy\"].isin(cnv_per_policy),\n",
    "    \"category\",\n",
    "] = \"Copy Number Variants\"\n",
    "\n",
    "\n",
    "clinvar_not_normalized_df"
   ]
  },
  {
   "cell_type": "code",
   "execution_count": null,
   "metadata": {},
   "outputs": [],
   "source": [
    "clinvar_not_supported_df"
   ]
  },
  {
   "cell_type": "code",
   "execution_count": null,
   "metadata": {},
   "outputs": [],
   "source": [
    "clinvar_not_supported_df.loc[\n",
    "    clinvar_not_supported_df[\"in.vrs_xform_plan.policy\"].isin(cnv_per_policy),\n",
    "    \"category\",\n",
    "] = \"Copy Number Variants\"\n",
    "\n",
    "clinvar_not_supported_df"
   ]
  },
  {
   "cell_type": "markdown",
   "metadata": {},
   "source": [
    "Get counts from the three dfs."
   ]
  },
  {
   "cell_type": "code",
   "execution_count": null,
   "metadata": {},
   "outputs": [],
   "source": [
    "category_counts"
   ]
  },
  {
   "cell_type": "code",
   "execution_count": null,
   "metadata": {},
   "outputs": [],
   "source": [
    "def sum_clinvar_counts(dataframe: pd.DataFrame, support_status: int) -> None:\n",
    "    \"\"\"given a dataframe and whether that dataframe represents normalized, not_normalized, or not_supported variants, adds the counts of variants to dictionary of counts\n",
    "\n",
    "    :param dataframe: counts of variants in clinvar with variant type information in dataframe format.\n",
    "    :param support_status: an int flag to indicate if the variants in the dataframe are normalized (0), unable to be normalized (1), or unsupported (2) by the normalizer\n",
    "    \"\"\"\n",
    "    for i in category_counts.keys():\n",
    "        subdf = dataframe[dataframe[\"category\"] == i]\n",
    "        if len(subdf):\n",
    "            category = i\n",
    "            count = subdf[\"count\"].sum()\n",
    "            print(category, count)\n",
    "            category_counts[category][support_status] += count\n",
    "            category_counts[category][Fields.TOTAL_COUNT] += count"
   ]
  },
  {
   "cell_type": "code",
   "execution_count": null,
   "metadata": {},
   "outputs": [],
   "source": [
    "sum_clinvar_counts(clinvar_normalized_df, Fields.NORMALIZED_COUNT)\n",
    "\n",
    "category_counts"
   ]
  },
  {
   "cell_type": "code",
   "execution_count": null,
   "metadata": {},
   "outputs": [],
   "source": [
    "sum_clinvar_counts(clinvar_not_normalized_df, Fields.UNABLE_TO_NORMALIZE_COUNT)\n",
    "\n",
    "category_counts"
   ]
  },
  {
   "cell_type": "code",
   "execution_count": null,
   "metadata": {},
   "outputs": [],
   "source": [
    "sum_clinvar_counts(clinvar_not_supported_df, Fields.UNSUPPORTED_COUNT)\n",
    "\n",
    "category_counts"
   ]
  },
  {
   "cell_type": "markdown",
   "metadata": {},
   "source": [
    "## <a id='toc1_6_'></a>[Computing Coverage](#toc0_)"
   ]
  },
  {
   "cell_type": "markdown",
   "metadata": {},
   "source": [
    "For the purposes of making the table, computing the percent of all variants normalized in each category."
   ]
  },
  {
   "cell_type": "code",
   "execution_count": null,
   "metadata": {},
   "outputs": [],
   "source": [
    "for i in category_counts.keys():\n",
    "    normalized = category_counts[i][Fields.NORMALIZED_COUNT]\n",
    "    total = category_counts[i][Fields.TOTAL_COUNT]\n",
    "    percent_covered = normalized / total\n",
    "    category_counts[i][Fields.PERCENT_NORMALIZED] = \"%.4f\" % percent_covered\n",
    "\n",
    "category_counts"
   ]
  },
  {
   "cell_type": "markdown",
   "metadata": {},
   "source": [
    "Computing total counts and coverage across all variant categories."
   ]
  },
  {
   "cell_type": "code",
   "execution_count": null,
   "metadata": {},
   "outputs": [],
   "source": [
    "totals = [0, 0, 0, 0, 0.0]\n",
    "\n",
    "for i in category_counts.items():\n",
    "    for f in Fields:\n",
    "        if f != Fields.PERCENT_NORMALIZED:\n",
    "            totals[f] += i[1][f]\n",
    "\n",
    "totals[Fields.PERCENT_NORMALIZED] = \"%.4f\" % (\n",
    "    totals[Fields.NORMALIZED_COUNT] / totals[Fields.TOTAL_COUNT]\n",
    ")\n",
    "\n",
    "totals"
   ]
  },
  {
   "cell_type": "markdown",
   "metadata": {},
   "source": [
    "## <a id='toc1_7_'></a>[Generating Table](#toc0_)"
   ]
  },
  {
   "cell_type": "markdown",
   "metadata": {},
   "source": [
    "Generating a table in plotly to show variant counts and normalization percentage by category, as well as the types of data fields associated with different variant categories."
   ]
  },
  {
   "cell_type": "code",
   "execution_count": null,
   "metadata": {},
   "outputs": [],
   "source": [
    "core_field = \"\\u2b24\"\n",
    "optional_field = \"<b>◯</b>\"\n",
    "\n",
    "colorwhite = \"rgb(255, 255, 255)\"\n",
    "blueshade1 = \"rgb(230, 240, 250)\"\n",
    "blueshade2 = \"rgb(207, 226, 243)\"\n",
    "blueshade3 = \"rgb(159, 197, 232)\"\n",
    "blueshade4 = \"rgb(111, 168, 220)\"\n",
    "blueshade5 = \"rgb(61, 133, 198)\"\n",
    "blueshade5point5 = \"rgb(49, 116, 187)\"\n",
    "blueshade6 = \"rgb(35, 100, 177)\"\n",
    "blueshade7 = \"rgb(11, 83, 148)\"\n",
    "\n",
    "colors = [\n",
    "    blueshade5point5,\n",
    "    colorwhite,\n",
    "    blueshade1,\n",
    "    colorwhite,\n",
    "    colorwhite,\n",
    "    blueshade5,\n",
    "    colorwhite,\n",
    "    blueshade2,\n",
    "    blueshade3,\n",
    "    blueshade4,\n",
    "]\n",
    "\n",
    "data = {\n",
    "    \"variant_category\": [\n",
    "        v.replace(\" Variants\", \"\") for v in NOT_SUPPORTED_VARIANT_CATEGORY_VALUES\n",
    "    ],\n",
    "    \"counts\": [\n",
    "        f\"{category_counts[v][Fields.TOTAL_COUNT]:,}\"\n",
    "        for v in NOT_SUPPORTED_VARIANT_CATEGORY_VALUES\n",
    "    ],\n",
    "    \"percent_normalized\": [\n",
    "        \"%.2f\" % round(float(category_counts[v][Fields.PERCENT_NORMALIZED]) * 100, 2)\n",
    "        + \"%\"\n",
    "        for v in NOT_SUPPORTED_VARIANT_CATEGORY_VALUES\n",
    "    ],\n",
    "    \"delta_sequence\": [\n",
    "        core_field,\n",
    "        core_field,\n",
    "        \"\",\n",
    "        \"\",\n",
    "        \"\",\n",
    "        \"\",\n",
    "        \"\",\n",
    "        \"\",\n",
    "        \"\",\n",
    "        optional_field,\n",
    "    ],\n",
    "    \"delta_location\": [\n",
    "        optional_field,\n",
    "        optional_field,\n",
    "        core_field,\n",
    "        core_field,\n",
    "        \"\",\n",
    "        \"\",\n",
    "        \"\",\n",
    "        \"\",\n",
    "        \"\",\n",
    "        \"\",\n",
    "    ],\n",
    "    \"delta_frame\": [\n",
    "        optional_field,\n",
    "        optional_field,\n",
    "        \"\",\n",
    "        \"\",\n",
    "        \"\",\n",
    "        \"\",\n",
    "        \"\",\n",
    "        \"\",\n",
    "        \"\",\n",
    "        optional_field,\n",
    "    ],\n",
    "    \"delta_quantity\": [\n",
    "        optional_field,\n",
    "        optional_field,\n",
    "        \"\",\n",
    "        \"\",\n",
    "        core_field,\n",
    "        core_field,\n",
    "        optional_field,\n",
    "        \"\",\n",
    "        \"\",\n",
    "        optional_field,\n",
    "    ],\n",
    "    \"delta_function\": [\n",
    "        optional_field,\n",
    "        optional_field,\n",
    "        \"\",\n",
    "        \"\",\n",
    "        optional_field,\n",
    "        optional_field,\n",
    "        core_field,\n",
    "        core_field,\n",
    "        \"\",\n",
    "        optional_field,\n",
    "    ],\n",
    "    \"region_specificity\": [\n",
    "        optional_field,\n",
    "        optional_field,\n",
    "        optional_field,\n",
    "        optional_field,\n",
    "        optional_field,\n",
    "        optional_field,\n",
    "        optional_field,\n",
    "        optional_field,\n",
    "        core_field,\n",
    "        optional_field,\n",
    "    ],\n",
    "    \"shading\": colors,\n",
    "}\n",
    "df = pd.DataFrame(data)\n",
    "\n",
    "fig = go.Figure(\n",
    "    data=[\n",
    "        go.Table(\n",
    "            columnwidth=[90, 53, 65, 53, 50, 50, 50, 50, 50, 50],\n",
    "            header=dict(\n",
    "                values=[\n",
    "                    \"<b>Variant Category</b>\",\n",
    "                    \"<b>Count</b>\",\n",
    "                    \"<b>% Normalized</b>\",\n",
    "                    \"<b>Δ Sequence</b>\",\n",
    "                    \"<b>Δ Location</b>\",\n",
    "                    \"<b>Δ Frame</b>\",\n",
    "                    \"<b>Δ Quantity</b>\",\n",
    "                    \"<b>Δ Function</b>\",\n",
    "                    \"<b>Region Specificity</b>\",\n",
    "                ],\n",
    "                line_color=\"black\",\n",
    "                fill_color=\"white\",\n",
    "                align=\"center\",\n",
    "                font=dict(color=\"black\", size=18),\n",
    "            ),\n",
    "            cells=dict(\n",
    "                values=[\n",
    "                    df.variant_category,\n",
    "                    df.counts,\n",
    "                    df.percent_normalized,\n",
    "                    df.delta_sequence,\n",
    "                    df.delta_location,\n",
    "                    df.delta_frame,\n",
    "                    df.delta_quantity,\n",
    "                    df.delta_function,\n",
    "                    df.region_specificity,\n",
    "                ],\n",
    "                line_color=[\"black\"],\n",
    "                fill_color=[df.shading],\n",
    "                align=\"right\",\n",
    "                font=dict(color=\"black\", size=18),\n",
    "                height=30,\n",
    "            ),\n",
    "        )\n",
    "    ]\n",
    ")\n",
    "\n",
    "fig.add_annotation(\n",
    "    dict(\n",
    "        text=\"  \\u2b24  Core information fields<br><br>  <b>◯</b>  Optional information fields  \",\n",
    "        align=\"left\",\n",
    "        showarrow=False,\n",
    "        xref=\"paper\",\n",
    "        xanchor=\"right\",\n",
    "        yref=\"paper\",\n",
    "        x=0.98,\n",
    "        y=0.02,\n",
    "        yanchor=\"bottom\",\n",
    "        bordercolor=\"black\",\n",
    "        borderwidth=1,\n",
    "    )\n",
    ")\n",
    "\n",
    "fig.update_layout(\n",
    "    height=585,\n",
    "    width=1400,\n",
    "    font=dict(size=18, color=\"Black\"),\n",
    "    title=\"<b>Counts, Normalizer Performance, and Data Types of Variants by Category</b>\",\n",
    "    margin=go.layout.Margin(\n",
    "        l=2,  # left margin\n",
    "        r=2,  # right margin\n",
    "        b=0,  # bottom margin\n",
    "        t=52,  # top margin\n",
    "    ),\n",
    ")\n",
    "fig.show()"
   ]
  },
  {
   "cell_type": "markdown",
   "metadata": {},
   "source": [
    "Exporting the table as a .png file."
   ]
  },
  {
   "cell_type": "code",
   "execution_count": null,
   "metadata": {},
   "outputs": [],
   "source": [
    "fig.write_image(\"../merged_performance_analysis_table.png\", \"png\")"
   ]
  }
 ],
 "metadata": {
  "kernelspec": {
   "display_name": "Python 3",
   "language": "python",
   "name": "python3"
  },
  "language_info": {
   "codemirror_mode": {
    "name": "ipython",
    "version": 3
   },
   "file_extension": ".py",
   "mimetype": "text/x-python",
   "name": "python",
   "nbconvert_exporter": "python",
   "pygments_lexer": "ipython3",
   "version": "3.11.4"
  },
  "orig_nbformat": 4
 },
 "nbformat": 4,
 "nbformat_minor": 2
}
